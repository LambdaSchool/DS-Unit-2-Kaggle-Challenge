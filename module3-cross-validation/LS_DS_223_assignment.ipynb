{
  "nbformat": 4,
  "nbformat_minor": 0,
  "metadata": {
    "kernelspec": {
      "display_name": "Python 3",
      "language": "python",
      "name": "python3"
    },
    "language_info": {
      "codemirror_mode": {
        "name": "ipython",
        "version": 3
      },
      "file_extension": ".py",
      "mimetype": "text/x-python",
      "name": "python",
      "nbconvert_exporter": "python",
      "pygments_lexer": "ipython3",
      "version": "3.7.6"
    },
    "colab": {
      "name": "LS_DS_223_assignment.ipynb",
      "provenance": []
    }
  },
  "cells": [
    {
      "cell_type": "markdown",
      "metadata": {
        "id": "q1NNj8DwoaSi",
        "colab_type": "text"
      },
      "source": [
        "Lambda School Data Science\n",
        "\n",
        "*Unit 2, Sprint 2, Module 3*\n",
        "\n",
        "---"
      ]
    },
    {
      "cell_type": "markdown",
      "metadata": {
        "id": "bLfrr1TvoaSm",
        "colab_type": "text"
      },
      "source": [
        "# Cross-Validation\n",
        "\n",
        "\n",
        "## Assignment\n",
        "- [ ] [Review requirements for your portfolio project](https://lambdaschool.github.io/ds/unit2), then submit your dataset.\n",
        "- [ ] Continue to participate in our Kaggle challenge. \n",
        "- [ ] Use scikit-learn for hyperparameter optimization with RandomizedSearchCV.\n",
        "- [ ] Submit your predictions to our Kaggle competition. (Go to our Kaggle InClass competition webpage. Use the blue **Submit Predictions** button to upload your CSV file. Or you can use the Kaggle API to submit your predictions.)\n",
        "- [ ] Commit your notebook to your fork of the GitHub repo.\n",
        "\n",
        "\n",
        "You won't be able to just copy from the lesson notebook to this assignment.\n",
        "\n",
        "- Because the lesson was ***regression***, but the assignment is ***classification.***\n",
        "- Because the lesson used [TargetEncoder](https://contrib.scikit-learn.org/categorical-encoding/targetencoder.html), which doesn't work as-is for _multi-class_ classification.\n",
        "\n",
        "So you will have to adapt the example, which is good real-world practice.\n",
        "\n",
        "1. Use a model for classification, such as [RandomForestClassifier](https://scikit-learn.org/stable/modules/generated/sklearn.ensemble.RandomForestClassifier.html)\n",
        "2. Use hyperparameters that match the classifier, such as `randomforestclassifier__ ...`\n",
        "3. Use a metric for classification, such as [`scoring='accuracy'`](https://scikit-learn.org/stable/modules/model_evaluation.html#common-cases-predefined-values)\n",
        "4. If you’re doing a multi-class classification problem — such as whether a waterpump is functional, functional needs repair, or nonfunctional — then use a categorical encoding that works for multi-class classification, such as [OrdinalEncoder](https://contrib.scikit-learn.org/categorical-encoding/ordinal.html) (not [TargetEncoder](https://contrib.scikit-learn.org/categorical-encoding/targetencoder.html))\n",
        "\n",
        "\n",
        "\n",
        "## Stretch Goals\n",
        "\n",
        "### Reading\n",
        "- Jake VanderPlas, [Python Data Science Handbook, Chapter 5.3](https://jakevdp.github.io/PythonDataScienceHandbook/05.03-hyperparameters-and-model-validation.html), Hyperparameters and Model Validation\n",
        "- Jake VanderPlas, [Statistics for Hackers](https://speakerdeck.com/jakevdp/statistics-for-hackers?slide=107)\n",
        "- Ron Zacharski, [A Programmer's Guide to Data Mining, Chapter 5](http://guidetodatamining.com/chapter5/), 10-fold cross validation\n",
        "- Sebastian Raschka, [A Basic Pipeline and Grid Search Setup](https://github.com/rasbt/python-machine-learning-book/blob/master/code/bonus/svm_iris_pipeline_and_gridsearch.ipynb)\n",
        "- Peter Worcester, [A Comparison of Grid Search and Randomized Search Using Scikit Learn](https://blog.usejournal.com/a-comparison-of-grid-search-and-randomized-search-using-scikit-learn-29823179bc85)\n",
        "\n",
        "### Doing\n",
        "- Add your own stretch goals!\n",
        "- Try other [categorical encodings](https://contrib.scikit-learn.org/categorical-encoding/). See the previous assignment notebook for details.\n",
        "- In additon to `RandomizedSearchCV`, scikit-learn has [`GridSearchCV`](https://scikit-learn.org/stable/modules/generated/sklearn.model_selection.GridSearchCV.html). Another library called scikit-optimize has [`BayesSearchCV`](https://scikit-optimize.github.io/notebooks/sklearn-gridsearchcv-replacement.html). Experiment with these alternatives.\n",
        "- _[Introduction to Machine Learning with Python](http://shop.oreilly.com/product/0636920030515.do)_ discusses options for \"Grid-Searching Which Model To Use\" in Chapter 6:\n",
        "\n",
        "> You can even go further in combining GridSearchCV and Pipeline: it is also possible to search over the actual steps being performed in the pipeline (say whether to use StandardScaler or MinMaxScaler). This leads to an even bigger search space and should be considered carefully. Trying all possible solutions is usually not a viable machine learning strategy. However, here is an example comparing a RandomForestClassifier and an SVC ...\n",
        "\n",
        "The example is shown in [the accompanying notebook](https://github.com/amueller/introduction_to_ml_with_python/blob/master/06-algorithm-chains-and-pipelines.ipynb), code cells 35-37. Could you apply this concept to your own pipelines?\n"
      ]
    },
    {
      "cell_type": "markdown",
      "metadata": {
        "id": "vW-KQz5JoaSn",
        "colab_type": "text"
      },
      "source": [
        "### BONUS: Stacking!\n",
        "\n",
        "Here's some code you can use to \"stack\" multiple submissions, which is another form of ensembling:\n",
        "\n",
        "```python\n",
        "import pandas as pd\n",
        "\n",
        "# Filenames of your submissions you want to ensemble\n",
        "files = ['submission-01.csv', 'submission-02.csv', 'submission-03.csv']\n",
        "\n",
        "target = 'status_group'\n",
        "submissions = (pd.read_csv(file)[[target]] for file in files)\n",
        "ensemble = pd.concat(submissions, axis='columns')\n",
        "majority_vote = ensemble.mode(axis='columns')[0]\n",
        "\n",
        "sample_submission = pd.read_csv('sample_submission.csv')\n",
        "submission = sample_submission.copy()\n",
        "submission[target] = majority_vote\n",
        "submission.to_csv('my-ultimate-ensemble-submission.csv', index=False)\n",
        "```"
      ]
    },
    {
      "cell_type": "code",
      "metadata": {
        "id": "7mJSMj22oaSo",
        "colab_type": "code",
        "colab": {}
      },
      "source": [
        "%%capture\n",
        "import sys\n",
        "\n",
        "# If you're on Colab:\n",
        "if 'google.colab' in sys.modules:\n",
        "    DATA_PATH = 'https://raw.githubusercontent.com/LambdaSchool/DS-Unit-2-Kaggle-Challenge/master/data/'\n",
        "    !pip install category_encoders==2.*\n",
        "\n",
        "# If you're working locally:\n",
        "else:\n",
        "    DATA_PATH = '../data/'"
      ],
      "execution_count": 0,
      "outputs": []
    },
    {
      "cell_type": "code",
      "metadata": {
        "id": "R-6mqo4noaSt",
        "colab_type": "code",
        "colab": {}
      },
      "source": [
        "import pandas as pd\n",
        "\n",
        "# Merge train_features.csv & train_labels.csv\n",
        "train = pd.merge(pd.read_csv(DATA_PATH+'waterpumps/train_features.csv'), \n",
        "                 pd.read_csv(DATA_PATH+'waterpumps/train_labels.csv'))\n",
        "\n",
        "# Read test_features.csv & sample_submission.csv\n",
        "test = pd.read_csv(DATA_PATH+'waterpumps/test_features.csv')\n",
        "sample_submission = pd.read_csv(DATA_PATH+'waterpumps/sample_submission.csv')"
      ],
      "execution_count": 0,
      "outputs": []
    },
    {
      "cell_type": "code",
      "metadata": {
        "id": "oTy-3V25oaSw",
        "colab_type": "code",
        "colab": {}
      },
      "source": [
        "# importing numpy and scipy stats\n",
        "from scipy.stats import mode\n",
        "import numpy as np\n"
      ],
      "execution_count": 0,
      "outputs": []
    },
    {
      "cell_type": "code",
      "metadata": {
        "id": "IrX8TAYEoubP",
        "colab_type": "code",
        "colab": {
          "base_uri": "https://localhost:8080/",
          "height": 130
        },
        "outputId": "4754b9bb-a4bd-4d2d-94eb-7b956b145c88"
      },
      "source": [
        "train.head(1)"
      ],
      "execution_count": 69,
      "outputs": [
        {
          "output_type": "execute_result",
          "data": {
            "text/html": [
              "<div>\n",
              "<style scoped>\n",
              "    .dataframe tbody tr th:only-of-type {\n",
              "        vertical-align: middle;\n",
              "    }\n",
              "\n",
              "    .dataframe tbody tr th {\n",
              "        vertical-align: top;\n",
              "    }\n",
              "\n",
              "    .dataframe thead th {\n",
              "        text-align: right;\n",
              "    }\n",
              "</style>\n",
              "<table border=\"1\" class=\"dataframe\">\n",
              "  <thead>\n",
              "    <tr style=\"text-align: right;\">\n",
              "      <th></th>\n",
              "      <th>id</th>\n",
              "      <th>amount_tsh</th>\n",
              "      <th>date_recorded</th>\n",
              "      <th>funder</th>\n",
              "      <th>gps_height</th>\n",
              "      <th>installer</th>\n",
              "      <th>longitude</th>\n",
              "      <th>latitude</th>\n",
              "      <th>wpt_name</th>\n",
              "      <th>num_private</th>\n",
              "      <th>basin</th>\n",
              "      <th>subvillage</th>\n",
              "      <th>region</th>\n",
              "      <th>region_code</th>\n",
              "      <th>district_code</th>\n",
              "      <th>lga</th>\n",
              "      <th>ward</th>\n",
              "      <th>population</th>\n",
              "      <th>public_meeting</th>\n",
              "      <th>recorded_by</th>\n",
              "      <th>scheme_management</th>\n",
              "      <th>scheme_name</th>\n",
              "      <th>permit</th>\n",
              "      <th>construction_year</th>\n",
              "      <th>extraction_type</th>\n",
              "      <th>extraction_type_group</th>\n",
              "      <th>extraction_type_class</th>\n",
              "      <th>management</th>\n",
              "      <th>management_group</th>\n",
              "      <th>payment</th>\n",
              "      <th>payment_type</th>\n",
              "      <th>water_quality</th>\n",
              "      <th>quality_group</th>\n",
              "      <th>quantity</th>\n",
              "      <th>quantity_group</th>\n",
              "      <th>source</th>\n",
              "      <th>source_type</th>\n",
              "      <th>source_class</th>\n",
              "      <th>waterpoint_type</th>\n",
              "      <th>waterpoint_type_group</th>\n",
              "      <th>status_group</th>\n",
              "    </tr>\n",
              "  </thead>\n",
              "  <tbody>\n",
              "    <tr>\n",
              "      <th>0</th>\n",
              "      <td>69572</td>\n",
              "      <td>6000.0</td>\n",
              "      <td>2011-03-14</td>\n",
              "      <td>Roman</td>\n",
              "      <td>1390</td>\n",
              "      <td>Roman</td>\n",
              "      <td>34.938093</td>\n",
              "      <td>-9.856322</td>\n",
              "      <td>none</td>\n",
              "      <td>0</td>\n",
              "      <td>Lake Nyasa</td>\n",
              "      <td>Mnyusi B</td>\n",
              "      <td>Iringa</td>\n",
              "      <td>11</td>\n",
              "      <td>5</td>\n",
              "      <td>Ludewa</td>\n",
              "      <td>Mundindi</td>\n",
              "      <td>109</td>\n",
              "      <td>True</td>\n",
              "      <td>GeoData Consultants Ltd</td>\n",
              "      <td>VWC</td>\n",
              "      <td>Roman</td>\n",
              "      <td>False</td>\n",
              "      <td>1999</td>\n",
              "      <td>gravity</td>\n",
              "      <td>gravity</td>\n",
              "      <td>gravity</td>\n",
              "      <td>vwc</td>\n",
              "      <td>user-group</td>\n",
              "      <td>pay annually</td>\n",
              "      <td>annually</td>\n",
              "      <td>soft</td>\n",
              "      <td>good</td>\n",
              "      <td>enough</td>\n",
              "      <td>enough</td>\n",
              "      <td>spring</td>\n",
              "      <td>spring</td>\n",
              "      <td>groundwater</td>\n",
              "      <td>communal standpipe</td>\n",
              "      <td>communal standpipe</td>\n",
              "      <td>functional</td>\n",
              "    </tr>\n",
              "  </tbody>\n",
              "</table>\n",
              "</div>"
            ],
            "text/plain": [
              "      id  amount_tsh  ... waterpoint_type_group status_group\n",
              "0  69572      6000.0  ...    communal standpipe   functional\n",
              "\n",
              "[1 rows x 41 columns]"
            ]
          },
          "metadata": {
            "tags": []
          },
          "execution_count": 69
        }
      ]
    },
    {
      "cell_type": "code",
      "metadata": {
        "id": "sy5ySTI0pXCl",
        "colab_type": "code",
        "colab": {
          "base_uri": "https://localhost:8080/",
          "height": 34
        },
        "outputId": "020a8e42-1ad2-46a3-99e3-e4f928986c0b"
      },
      "source": [
        "train.shape"
      ],
      "execution_count": 75,
      "outputs": [
        {
          "output_type": "execute_result",
          "data": {
            "text/plain": [
              "(59400, 41)"
            ]
          },
          "metadata": {
            "tags": []
          },
          "execution_count": 75
        }
      ]
    },
    {
      "cell_type": "code",
      "metadata": {
        "id": "fKaGhbRuo0o9",
        "colab_type": "code",
        "colab": {
          "base_uri": "https://localhost:8080/",
          "height": 34
        },
        "outputId": "3a989e52-bb4e-4a8b-ecf2-93522af66dbd"
      },
      "source": [
        "target = 'status_group'\n",
        "y_train = train[target]\n",
        "y_train.shape"
      ],
      "execution_count": 72,
      "outputs": [
        {
          "output_type": "execute_result",
          "data": {
            "text/plain": [
              "(59400,)"
            ]
          },
          "metadata": {
            "tags": []
          },
          "execution_count": 72
        }
      ]
    },
    {
      "cell_type": "code",
      "metadata": {
        "id": "IAsX-CMEpDPF",
        "colab_type": "code",
        "colab": {
          "base_uri": "https://localhost:8080/",
          "height": 34
        },
        "outputId": "0443b3a5-a62d-4073-df92-5ed1244545c3"
      },
      "source": [
        "x_train = train.drop('status_group', axis=1)\n",
        "x_train.shape"
      ],
      "execution_count": 74,
      "outputs": [
        {
          "output_type": "execute_result",
          "data": {
            "text/plain": [
              "(59400, 40)"
            ]
          },
          "metadata": {
            "tags": []
          },
          "execution_count": 74
        }
      ]
    },
    {
      "cell_type": "code",
      "metadata": {
        "id": "3mBtArIjpSvc",
        "colab_type": "code",
        "colab": {}
      },
      "source": [
        "\n",
        "# Creating the list of the columns that I want to drop here and\n",
        "# then will pass them into the wrangle function\n",
        "target = 'status_group'\n",
        "# This is a list of some of the colums that I want to drop\n",
        "# Will drop subvillage -- because similar results as lat and lon\n",
        "# Dropping funder:  has high cardinality\n",
        "# Dropping the wpt_name:  has high cardinality is the name of the water point\n",
        "# Dropping payment_type:  same as payment(duplicate)\n",
        "cols_to_drop = ['id', 'quantity_group', 'recorded_by', \"subvillage\", \n",
        "                'num_private', 'funder', 'wpt_name' ,'scheme_name', 'payment_type',\n",
        "                'quality_group', ]"
      ],
      "execution_count": 0,
      "outputs": []
    },
    {
      "cell_type": "code",
      "metadata": {
        "id": "zSc0pg2fpg09",
        "colab_type": "code",
        "colab": {}
      },
      "source": [
        "# These are some inner functions in my wrangle function that help\n",
        "# With the fixing the latitude and the longitude\n",
        "def myLatitude(theRow,df):\n",
        "  \n",
        "  if pd.isnull(theRow['latitude']):\n",
        "    theWard = theRow['ward']\n",
        "    lat = df[df['ward'] == theWard]\n",
        "    theMode = mode(lat['latitude'])\n",
        "    return (theMode[0][0])\n",
        "  return (theRow['latitude'])\n",
        "\n",
        "def myLon(theRow, df): \n",
        "  if (pd.isnull(theRow['longitude'])):\n",
        "    lon = df[df['ward'] == theRow['ward']]\n",
        "    theMode = mode(lon['longitude'])\n",
        "    return (theMode[0][0])\n",
        "  return (theRow['longitude'])"
      ],
      "execution_count": 0,
      "outputs": []
    },
    {
      "cell_type": "code",
      "metadata": {
        "id": "KuvtIJ7Zplsc",
        "colab_type": "code",
        "colab": {}
      },
      "source": [
        "# This is my wrangle function\n",
        "\n",
        "def wrangleFxn(df, cols_to_drop ,numCardinal=50, useMode=True, num=None, highVar=None, lowVar=None, useDropList=True ):\n",
        "  ''' This is the wrangle function\n",
        "      It will take in a dataFrame either the train, test, or validate.\n",
        "      It should have the TARGET already removed from it. \n",
        "\n",
        "      cols_to_drop:   List of features that you want to drop automatically from \n",
        "                      the dataFrame\n",
        "                      It will drop the columns before looking at the cardinality of the\n",
        "                      columns.\n",
        "\n",
        "      numCardinal:  default is 50. This is the threshold.  If it is less\n",
        "                    than  or equal to this number it is retained in the \n",
        "                    features.\n",
        "      useMode:  default is True.  This will use the apply functiontion to \n",
        "                make the lat and lon have values similar to those in \n",
        "                the ward that it is found.\n",
        "      num:      default is None.  It this is set to a number, \n",
        "                it will further reduce the cardinality of the\n",
        "                cardinal features to a specified number. \n",
        "      \n",
        "      highVar:  Default is None. If set will drop any columns that have more \n",
        "                variance than what is set here as the threshold.  Should be\n",
        "                set as a float ie(.90 or .8)\n",
        "      \n",
        "      lowVar:   Default is None. if set will drop any columns who have less\n",
        "                variance than here.  Should be set as a float ie(.1 or .234)\n",
        "\n",
        "      useDropList:  Default is True.  When is True will use the cols_to_drop parameter.\n",
        "                    When false will not use the cols_to_drop parameter \n",
        "\n",
        "      returns:  Will return the datframe prepared for the pipeline.\n",
        "\n",
        "  '''\n",
        "  \n",
        "  \n",
        "  target = 'status_group'\n",
        "  # making the copy\n",
        "  df = df.copy()\n",
        "  # will try to drop the target if it is present\n",
        "  if target in df.columns:\n",
        "    df = df.drop(columns=[target])\n",
        "  \n",
        "  # Will be setting the long and lat before doing any dropping\n",
        "  df['latitude'] = df['latitude'].replace(-2e-08, 0)\n",
        "\n",
        "  # Getting rid of the zeros in the latitude and the longitude putting in \n",
        "  # np.nan\n",
        "  cols_w_zeros = ['latitude', 'longitude']\n",
        "\n",
        "  for col in cols_w_zeros:\n",
        "    df[col] = df[col].replace(0, np.nan)\n",
        "\n",
        "  if useMode == True:\n",
        "    #This is to make the latitude and the longitude have\n",
        "    # numbers similar to those whose region they are in\n",
        "    df['latitude'] = df.apply(myLatitude, axis=1, args=(df,))\n",
        "    df['longitude'] = df.apply(myLon, axis=1, args=(df,))\n",
        "    pd.to_numeric(df['latitude'])\n",
        "  \n",
        "  # Changing the format to dateTime format and then\n",
        "  # making \n",
        "  df['date_recorded'] = pd.to_datetime(df['date_recorded'])\n",
        "  df['construction_year'] = pd.to_datetime(df['construction_year'])\n",
        "  df['construction_year'] = df['construction_year'].dt.year\n",
        "\n",
        "  df['year_recorded'] = df['date_recorded'].dt.year\n",
        "  df['month_recorded'] = df['date_recorded'].dt.month\n",
        "  df['day_recorded'] = df['date_recorded'].dt.day\n",
        "\n",
        "  # Making a new feature that will be \"year_age\"\n",
        "  df['year_age']  = df['year_recorded'] - df['construction_year']\n",
        "  \n",
        "  # Dropping the columns preset to drop\n",
        "  if useDropList == True:\n",
        "    df = df.drop(columns= cols_to_drop)\n",
        "\n",
        "  # Getting a list of the cardinal features at the start\n",
        "  cardinals = df.select_dtypes(exclude='number')\n",
        "\n",
        "  # This to drop features that are left that have high skew (almost no variance)\n",
        "  # or possibly too much variance\n",
        "  if highVar != None:\n",
        "    # Getting a list of the cardinal features at the start\n",
        "    cardinals = df.select_dtypes(exclude='number')\n",
        "    tCol = cardinals.columns.to_list()\n",
        "    for col in tCol:\n",
        "      if df[col].value_counts(normalize=True, dropna=False).to_list()[0]  > highVar:\n",
        "        df = df.drop(columns=[col])\n",
        "  \n",
        "  if lowVar != None:\n",
        "    # Getting a list of the cardinal features at the start\n",
        "    cardinals = df.select_dtypes(exclude='number')\n",
        "    tCol = cardinals.columns.to_list()\n",
        "    \n",
        "    for col in tCol:\n",
        "      if df[col].value_counts(normalize=True, dropna=False).to_list()[0] < lowVar:\n",
        "        df = df.drop(columns=[col])\n",
        "\n",
        "\n",
        "  # Getting the number of features that are numerical\n",
        "  numerical_features = df.select_dtypes(include='number').columns.tolist()\n",
        "\n",
        "  # Getting the amounts in each feature of the cardinal features\n",
        "  cardinalFeatureAmounts = df.select_dtypes(exclude='number')\n",
        "  cardinalFeatureAmounts = cardinalFeatureAmounts.nunique()\n",
        "  # checking to see if 'ward' is in the list\n",
        "\n",
        "  # Creating a list of the features that have less than 50 cardinality\n",
        "  cardinal = cardinalFeatureAmounts[cardinalFeatureAmounts <= numCardinal].index.tolist()\n",
        "  \n",
        "  if num != None:\n",
        "    #This is to reduce the number of features in the cardinal groups\n",
        "    for feature in cardinal:\n",
        "      # getting the top specified amount\n",
        "      topNum = df[feature].value_counts().index[:num-1].tolist()\n",
        "      # replace those that are not in there with 'other'\n",
        "      df.loc[~df[feature].isin(topNum), feature] = 'Other'\n",
        "\n",
        "  # List of all the features\n",
        "  features = numerical_features + cardinal\n",
        "\n",
        "  \n",
        "  \n",
        "\n",
        "  return df[features]"
      ],
      "execution_count": 0,
      "outputs": []
    },
    {
      "cell_type": "code",
      "metadata": {
        "id": "p3h_6VHPpxCk",
        "colab_type": "code",
        "colab": {}
      },
      "source": [
        "x_train1 = wrangleFxn(x_train, cols_to_drop=cols_to_drop, num=None, highVar=.90, lowVar=.06, useDropList=True)\n",
        "\n",
        "x_test1 = wrangleFxn(test, cols_to_drop=cols_to_drop, num=None, highVar=.90, lowVar=.06, useDropList=True)"
      ],
      "execution_count": 0,
      "outputs": []
    },
    {
      "cell_type": "code",
      "metadata": {
        "id": "uQhB71C5qAGz",
        "colab_type": "code",
        "colab": {
          "base_uri": "https://localhost:8080/",
          "height": 168
        },
        "outputId": "ced39963-8bb1-4d20-cc7e-6cb4cdfe8b6f"
      },
      "source": [
        "x_train1.columns"
      ],
      "execution_count": 81,
      "outputs": [
        {
          "output_type": "execute_result",
          "data": {
            "text/plain": [
              "Index(['amount_tsh', 'gps_height', 'longitude', 'latitude', 'region_code',\n",
              "       'district_code', 'population', 'construction_year', 'year_recorded',\n",
              "       'month_recorded', 'day_recorded', 'year_age', 'basin', 'region',\n",
              "       'public_meeting', 'scheme_management', 'permit', 'extraction_type',\n",
              "       'extraction_type_group', 'extraction_type_class', 'management',\n",
              "       'management_group', 'payment', 'water_quality', 'quantity', 'source',\n",
              "       'source_type', 'source_class', 'waterpoint_type',\n",
              "       'waterpoint_type_group'],\n",
              "      dtype='object')"
            ]
          },
          "metadata": {
            "tags": []
          },
          "execution_count": 81
        }
      ]
    },
    {
      "cell_type": "code",
      "metadata": {
        "id": "0Hz3Tl8bp5Vs",
        "colab_type": "code",
        "colab": {}
      },
      "source": [
        "# Doing some imports for sklearn\n",
        "from  sklearn.metrics import accuracy_score\n",
        "from  sklearn.pipeline import make_pipeline\n",
        "from sklearn.ensemble import RandomForestClassifier\n",
        "from sklearn.impute import SimpleImputer\n",
        "from sklearn.preprocessing import StandardScaler\n",
        "import category_encoders as ce \n",
        "from sklearn.model_selection import RandomizedSearchCV\n"
      ],
      "execution_count": 0,
      "outputs": []
    },
    {
      "cell_type": "code",
      "metadata": {
        "id": "HMGdfp2sqax7",
        "colab_type": "code",
        "colab": {}
      },
      "source": [
        "# creating the pipeline\n",
        "pipeline = make_pipeline(ce.OrdinalEncoder(),\n",
        "                         SimpleImputer(), \n",
        "                         RandomForestClassifier(random_state=42))"
      ],
      "execution_count": 0,
      "outputs": []
    },
    {
      "cell_type": "code",
      "metadata": {
        "id": "WZSQQt69q3nk",
        "colab_type": "code",
        "colab": {}
      },
      "source": [
        "# getting the params for the RandomizedSearch\n",
        "params = {\n",
        "    \n",
        "    'simpleimputer__strategy': ['mean', 'median'],\n",
        "    'randomforestclassifier__n_estimators': [100, 150, 175, 200],\n",
        "    'randomforestclassifier__max_depth': [5,10, 15,20],\n",
        "    'randomforestclassifier__min_samples_leaf': [1,2,3],\n",
        "    'randomforestclassifier__min_samples_split': [2,3,4]\n",
        "}"
      ],
      "execution_count": 0,
      "outputs": []
    },
    {
      "cell_type": "code",
      "metadata": {
        "id": "_Hyj5RxbtO3B",
        "colab_type": "code",
        "colab": {}
      },
      "source": [
        "# Trying to run the crossvalidation\n",
        "search = RandomizedSearchCV(pipeline, param_distributions=params, \n",
        "                            n_iter=5, n_jobs=4, random_state=42, \n",
        "                            return_train_score=True, verbose=10)"
      ],
      "execution_count": 0,
      "outputs": []
    },
    {
      "cell_type": "code",
      "metadata": {
        "id": "VW6-QcNVtw24",
        "colab_type": "code",
        "colab": {
          "base_uri": "https://localhost:8080/",
          "height": 776
        },
        "outputId": "ab48f57b-3919-4dae-b5dc-83bc049306b1"
      },
      "source": [
        "search.fit(x_train1, y_train)"
      ],
      "execution_count": 110,
      "outputs": [
        {
          "output_type": "stream",
          "text": [
            "Fitting 5 folds for each of 5 candidates, totalling 25 fits\n"
          ],
          "name": "stdout"
        },
        {
          "output_type": "stream",
          "text": [
            "[Parallel(n_jobs=4)]: Using backend LokyBackend with 4 concurrent workers.\n",
            "[Parallel(n_jobs=4)]: Done   5 tasks      | elapsed:   49.1s\n",
            "/usr/local/lib/python3.6/dist-packages/joblib/externals/loky/process_executor.py:706: UserWarning: A worker stopped while some jobs were given to the executor. This can be caused by a too short worker timeout or by a memory leak.\n",
            "  \"timeout or by a memory leak.\", UserWarning\n",
            "[Parallel(n_jobs=4)]: Done  10 tasks      | elapsed:  1.8min\n",
            "[Parallel(n_jobs=4)]: Done  17 tasks      | elapsed:  2.6min\n",
            "[Parallel(n_jobs=4)]: Done  21 out of  25 | elapsed:  3.4min remaining:   38.9s\n",
            "[Parallel(n_jobs=4)]: Done  25 out of  25 | elapsed:  3.8min finished\n"
          ],
          "name": "stderr"
        },
        {
          "output_type": "execute_result",
          "data": {
            "text/plain": [
              "RandomizedSearchCV(cv=None, error_score=nan,\n",
              "                   estimator=Pipeline(memory=None,\n",
              "                                      steps=[('ordinalencoder',\n",
              "                                              OrdinalEncoder(cols=None,\n",
              "                                                             drop_invariant=False,\n",
              "                                                             handle_missing='value',\n",
              "                                                             handle_unknown='value',\n",
              "                                                             mapping=None,\n",
              "                                                             return_df=True,\n",
              "                                                             verbose=0)),\n",
              "                                             ('simpleimputer',\n",
              "                                              SimpleImputer(add_indicator=False,\n",
              "                                                            copy=True,\n",
              "                                                            fill_value=None,\n",
              "                                                            missing_values=nan,\n",
              "                                                            strategy='mean',\n",
              "                                                            verbose...\n",
              "                   param_distributions={'randomforestclassifier__max_depth': [5,\n",
              "                                                                              10,\n",
              "                                                                              15,\n",
              "                                                                              20],\n",
              "                                        'randomforestclassifier__min_samples_leaf': [1,\n",
              "                                                                                     2,\n",
              "                                                                                     3],\n",
              "                                        'randomforestclassifier__min_samples_split': [2,\n",
              "                                                                                      3,\n",
              "                                                                                      4],\n",
              "                                        'randomforestclassifier__n_estimators': [100,\n",
              "                                                                                 150,\n",
              "                                                                                 175,\n",
              "                                                                                 200],\n",
              "                                        'simpleimputer__strategy': ['mean',\n",
              "                                                                    'median']},\n",
              "                   pre_dispatch='2*n_jobs', random_state=42, refit=True,\n",
              "                   return_train_score=True, scoring=None, verbose=10)"
            ]
          },
          "metadata": {
            "tags": []
          },
          "execution_count": 110
        }
      ]
    },
    {
      "cell_type": "code",
      "metadata": {
        "id": "eWIcArt9wmp9",
        "colab_type": "code",
        "colab": {
          "base_uri": "https://localhost:8080/",
          "height": 70
        },
        "outputId": "c703f2cd-84f3-439a-ffcc-197c8db08e5f"
      },
      "source": [
        "print('Best hyperparameters are', search.best_params_)\n",
        "print(\"Cross_val MAE\", -search.best_score_)"
      ],
      "execution_count": 111,
      "outputs": [
        {
          "output_type": "stream",
          "text": [
            "Best hyperparameters are {'simpleimputer__strategy': 'mean', 'randomforestclassifier__n_estimators': 100, 'randomforestclassifier__min_samples_split': 4, 'randomforestclassifier__min_samples_leaf': 2, 'randomforestclassifier__max_depth': 20}\n",
            "Cross_val MAE -0.8072895622895622\n"
          ],
          "name": "stdout"
        }
      ]
    },
    {
      "cell_type": "code",
      "metadata": {
        "id": "4MYnnVk7xRHq",
        "colab_type": "code",
        "colab": {}
      },
      "source": [
        "thePipe = make_pipeline(ce.TargetEncoder(smoothing=1, min_samples_leaf=800), \n",
        "                        SimpleImputer(strategy='median'),\n",
        "                        RandomForestClassifier(n_estimators=175, min_samples_split=2,\n",
        "                                               min_samples_leaf=3,\n",
        "                                               max_depth=5))"
      ],
      "execution_count": 0,
      "outputs": []
    },
    {
      "cell_type": "code",
      "metadata": {
        "id": "ci6HV-QEyhrB",
        "colab_type": "code",
        "colab": {}
      },
      "source": [
        "thePipe.fit(x_train1, y_train)"
      ],
      "execution_count": 0,
      "outputs": []
    },
    {
      "cell_type": "code",
      "metadata": {
        "id": "8FZArRaJysCO",
        "colab_type": "code",
        "colab": {}
      },
      "source": [
        ""
      ],
      "execution_count": 0,
      "outputs": []
    }
  ]
}