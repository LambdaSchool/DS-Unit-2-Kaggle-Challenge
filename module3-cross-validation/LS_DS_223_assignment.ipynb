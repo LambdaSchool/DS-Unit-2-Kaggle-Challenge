{
 "cells": [
  {
   "cell_type": "markdown",
   "metadata": {},
   "source": [
    "Lambda School Data Science\n",
    "\n",
    "*Unit 2, Sprint 2, Module 3*\n",
    "\n",
    "---"
   ]
  },
  {
   "cell_type": "markdown",
   "metadata": {},
   "source": [
    "# Cross-Validation\n",
    "\n",
    "\n",
    "## Assignment\n",
    "- [x] [Review requirements for your portfolio project](https://lambdaschool.github.io/ds/unit2), then submit your dataset.\n",
    "- [ ] Continue to participate in our Kaggle challenge. \n",
    "- [ ] Use scikit-learn for hyperparameter optimization with RandomizedSearchCV.\n",
    "- [ ] Submit your predictions to our Kaggle competition. (Go to our Kaggle InClass competition webpage. Use the blue **Submit Predictions** button to upload your CSV file. Or you can use the Kaggle API to submit your predictions.)\n",
    "- [ ] Commit your notebook to your fork of the GitHub repo.\n",
    "\n",
    "\n",
    "You won't be able to just copy from the lesson notebook to this assignment.\n",
    "\n",
    "- Because the lesson was ***regression***, but the assignment is ***classification.***\n",
    "- Because the lesson used [TargetEncoder](https://contrib.scikit-learn.org/categorical-encoding/targetencoder.html), which doesn't work as-is for _multi-class_ classification.\n",
    "\n",
    "So you will have to adapt the example, which is good real-world practice.\n",
    "\n",
    "1. Use a model for classification, such as [RandomForestClassifier](https://scikit-learn.org/stable/modules/generated/sklearn.ensemble.RandomForestClassifier.html)\n",
    "2. Use hyperparameters that match the classifier, such as `randomforestclassifier__ ...`\n",
    "3. Use a metric for classification, such as [`scoring='accuracy'`](https://scikit-learn.org/stable/modules/model_evaluation.html#common-cases-predefined-values)\n",
    "4. If you’re doing a multi-class classification problem — such as whether a waterpump is functional, functional needs repair, or nonfunctional — then use a categorical encoding that works for multi-class classification, such as [OrdinalEncoder](https://contrib.scikit-learn.org/categorical-encoding/ordinal.html) (not [TargetEncoder](https://contrib.scikit-learn.org/categorical-encoding/targetencoder.html))\n",
    "\n",
    "\n",
    "\n",
    "## Stretch Goals\n",
    "\n",
    "### Reading\n",
    "- Jake VanderPlas, [Python Data Science Handbook, Chapter 5.3](https://jakevdp.github.io/PythonDataScienceHandbook/05.03-hyperparameters-and-model-validation.html), Hyperparameters and Model Validation\n",
    "- Jake VanderPlas, [Statistics for Hackers](https://speakerdeck.com/jakevdp/statistics-for-hackers?slide=107)\n",
    "- Ron Zacharski, [A Programmer's Guide to Data Mining, Chapter 5](http://guidetodatamining.com/chapter5/), 10-fold cross validation\n",
    "- Sebastian Raschka, [A Basic Pipeline and Grid Search Setup](https://github.com/rasbt/python-machine-learning-book/blob/master/code/bonus/svm_iris_pipeline_and_gridsearch.ipynb)\n",
    "- Peter Worcester, [A Comparison of Grid Search and Randomized Search Using Scikit Learn](https://blog.usejournal.com/a-comparison-of-grid-search-and-randomized-search-using-scikit-learn-29823179bc85)\n",
    "\n",
    "### Doing\n",
    "- Add your own stretch goals!\n",
    "- Try other [categorical encodings](https://contrib.scikit-learn.org/categorical-encoding/). See the previous assignment notebook for details.\n",
    "- In additon to `RandomizedSearchCV`, scikit-learn has [`GridSearchCV`](https://scikit-learn.org/stable/modules/generated/sklearn.model_selection.GridSearchCV.html). Another library called scikit-optimize has [`BayesSearchCV`](https://scikit-optimize.github.io/notebooks/sklearn-gridsearchcv-replacement.html). Experiment with these alternatives.\n",
    "- _[Introduction to Machine Learning with Python](http://shop.oreilly.com/product/0636920030515.do)_ discusses options for \"Grid-Searching Which Model To Use\" in Chapter 6:\n",
    "\n",
    "> You can even go further in combining GridSearchCV and Pipeline: it is also possible to search over the actual steps being performed in the pipeline (say whether to use StandardScaler or MinMaxScaler). This leads to an even bigger search space and should be considered carefully. Trying all possible solutions is usually not a viable machine learning strategy. However, here is an example comparing a RandomForestClassifier and an SVC ...\n",
    "\n",
    "The example is shown in [the accompanying notebook](https://github.com/amueller/introduction_to_ml_with_python/blob/master/06-algorithm-chains-and-pipelines.ipynb), code cells 35-37. Could you apply this concept to your own pipelines?\n"
   ]
  },
  {
   "cell_type": "markdown",
   "metadata": {},
   "source": [
    "### BONUS: Stacking!\n",
    "\n",
    "Here's some code you can use to \"stack\" multiple submissions, which is another form of ensembling:\n",
    "\n",
    "```python\n",
    "import pandas as pd\n",
    "\n",
    "# Filenames of your submissions you want to ensemble\n",
    "files = ['submission-01.csv', 'submission-02.csv', 'submission-03.csv']\n",
    "\n",
    "target = 'status_group'\n",
    "submissions = (pd.read_csv(file)[[target]] for file in files)\n",
    "ensemble = pd.concat(submissions, axis='columns')\n",
    "majority_vote = ensemble.mode(axis='columns')[0]\n",
    "\n",
    "sample_submission = pd.read_csv('sample_submission.csv')\n",
    "submission = sample_submission.copy()\n",
    "submission[target] = majority_vote\n",
    "submission.to_csv('my-ultimate-ensemble-submission.csv', index=False)\n",
    "```"
   ]
  },
  {
   "cell_type": "code",
   "execution_count": 1,
   "metadata": {},
   "outputs": [],
   "source": [
    "%%capture\n",
    "import sys\n",
    "\n",
    "# If you're on Colab:\n",
    "if 'google.colab' in sys.modules:\n",
    "    DATA_PATH = 'https://raw.githubusercontent.com/LambdaSchool/DS-Unit-2-Kaggle-Challenge/master/data/'\n",
    "    !pip install category_encoders==2.*\n",
    "\n",
    "# If you're working locally:\n",
    "else:\n",
    "    DATA_PATH = '../data/'"
   ]
  },
  {
   "cell_type": "code",
   "execution_count": 4,
   "metadata": {},
   "outputs": [
    {
     "data": {
      "text/plain": [
       "((47520, 41), (11880, 41), (14358, 40), (59400, 41))"
      ]
     },
     "execution_count": 4,
     "metadata": {},
     "output_type": "execute_result"
    }
   ],
   "source": [
    "import pandas as pd\n",
    "from sklearn.model_selection import train_test_split\n",
    "\n",
    "# Merge train_features.csv & train_labels.csv\n",
    "full_train = pd.merge(pd.read_csv(DATA_PATH+'waterpumps/train_features.csv'), \n",
    "                 pd.read_csv(DATA_PATH+'waterpumps/train_labels.csv'))\n",
    "\n",
    "test = pd.read_csv(DATA_PATH+'waterpumps/test_features.csv')\n",
    "sample_submission = pd.read_csv(DATA_PATH+'waterpumps/sample_submission.csv')\n",
    "\n",
    "# Split train into train and val\n",
    "train, val = train_test_split(full_train,train_size=0.80, test_size=.20,\n",
    "                              stratify=full_train['status_group'], random_state=7)\n",
    "\n",
    "train.shape, val.shape, test.shape, full_train.shape"
   ]
  },
  {
   "cell_type": "code",
   "execution_count": 5,
   "metadata": {},
   "outputs": [],
   "source": [
    "import numpy as np\n",
    "\n",
    "def wrangle(X):\n",
    "\n",
    "  # make a copy to avoid messing with the data\n",
    "  X = X.copy()\n",
    "\n",
    "  #replace the tiny value with 0\n",
    "  X['latitude'] =X['latitude'].replace(-2e-08, 0)\n",
    "\n",
    "  # replace 0s with nulls so that they can be imputed later\n",
    "  cols_with_zeros = ['longitude','latitude','construction_year',\n",
    "                     'gps_height','population']\n",
    "  for col in cols_with_zeros:\n",
    "    X[col] = X[col].replace(0, np.nan)\n",
    "    X[col+'_MISSING'] = X[col].isnull()\n",
    "  \n",
    "  # drop duplicates\n",
    "  duplicates = ['quantity_group', 'payment_type']\n",
    "  X = X.drop(columns=duplicates)\n",
    "\n",
    "  # recorded_by is all the same so I'm dropping it\n",
    "  # and id isn't very helpful either\n",
    "  X = X.drop(columns=['recorded_by','id'])\n",
    "  \n",
    "  #convert date_recorded and to date data type\n",
    "  X['date_recorded'] = pd.to_datetime(X['date_recorded'])\n",
    "  \n",
    "  # convert the date_recorded to year, month, and day column \n",
    "  X['year_recorded'] = X['date_recorded'].dt.year\n",
    "  X['month_recorded'] = X['date_recorded'].dt.month\n",
    "  X['day_recorded'] = X['date_recorded'].dt.day\n",
    "  X = X.drop(columns='date_recorded')\n",
    "\n",
    "  # add an age_at_inspection column\n",
    "  X['age_at_inspection'] = X['year_recorded'] - X['construction_year']\n",
    "\n",
    "  #return the wrangled dataframe\n",
    "  return X\n",
    "\n",
    "#use the function on the data sets\n",
    "w_train = wrangle(train)\n",
    "w_val = wrangle(val)\n",
    "w_test = wrangle(test)\n",
    "w_full_train = wrangle(full_train)"
   ]
  },
  {
   "cell_type": "code",
   "execution_count": 6,
   "metadata": {},
   "outputs": [],
   "source": [
    "# set target and features\n",
    "target = 'status_group'\n",
    "\n",
    "train_features = w_train.drop(columns=[target])\n",
    "numeric_features = train_features.select_dtypes(include='number').columns.tolist()\n",
    "cardinality = train_features.select_dtypes(exclude='number').nunique()\n",
    "categorical_features = cardinality[cardinality <= 50].index.tolist()\n",
    "high_cardinality = cardinality[cardinality > 50].index.tolist()\n",
    "\n",
    "subfeatures = numeric_features + categorical_features\n",
    "features = subfeatures + high_cardinality"
   ]
  },
  {
   "cell_type": "code",
   "execution_count": 7,
   "metadata": {},
   "outputs": [
    {
     "name": "stdout",
     "output_type": "stream",
     "text": [
      "(47520, 41) (11880, 41)\n",
      "(47520, 37) (11880, 37)\n"
     ]
    }
   ],
   "source": [
    "# Arrange features into X features matrix and y target vector\n",
    "X_full_train = w_full_train[subfeatures]\n",
    "y_full_train = w_full_train[target]\n",
    "X_train = w_train[subfeatures]\n",
    "y_train = w_train[target]\n",
    "X_val = w_val[subfeatures]\n",
    "y_val = w_val[target]\n",
    "X_test = w_test[subfeatures]\n",
    "\n",
    "\n",
    "print(train.shape,val.shape)\n",
    "print(X_train.shape,X_val.shape)"
   ]
  },
  {
   "cell_type": "code",
   "execution_count": 8,
   "metadata": {},
   "outputs": [],
   "source": [
    "import category_encoders as ce\n",
    "from sklearn.ensemble import RandomForestClassifier\n",
    "from sklearn.impute import SimpleImputer\n",
    "from sklearn.pipeline import make_pipeline\n",
    "import matplotlib.pyplot as plt"
   ]
  },
  {
   "cell_type": "code",
   "execution_count": 18,
   "metadata": {},
   "outputs": [
    {
     "name": "stdout",
     "output_type": "stream",
     "text": [
      "Validation Accuracy: 0.8166666666666667\n",
      "Wall time: 21.3 s\n",
      "Parser   : 161 ms\n"
     ]
    }
   ],
   "source": [
    "%%time\n",
    "pipeline = make_pipeline(\n",
    "    ce.OrdinalEncoder(),\n",
    "    SimpleImputer(strategy='median'),\n",
    "    RandomForestClassifier(n_jobs=-1, random_state=7, max_depth=20, n_estimators=291)\n",
    ")\n",
    "\n",
    "pipeline.fit(X_train,y_train)\n",
    "print('Validation Accuracy:', pipeline.score(X_val,y_val))"
   ]
  },
  {
   "cell_type": "markdown",
   "metadata": {},
   "source": [
    "### Use scikit-learn for hyperparameter optimization with RandomizedSearchCV."
   ]
  },
  {
   "cell_type": "code",
   "execution_count": 15,
   "metadata": {},
   "outputs": [],
   "source": [
    "def ordinal_encode(y):\n",
    "  y = y.replace({'functional':1,'functional needs repair':2,'non functional':3})\n",
    "  return y\n",
    "\n",
    "y_train_o = ordinal_encode(y_train)\n",
    "y_val_o = ordinal_encode(y_val)"
   ]
  },
  {
   "cell_type": "code",
   "execution_count": 16,
   "metadata": {},
   "outputs": [
    {
     "name": "stdout",
     "output_type": "stream",
     "text": [
      "Fitting 3 folds for each of 10 candidates, totalling 30 fits\n"
     ]
    },
    {
     "name": "stderr",
     "output_type": "stream",
     "text": [
      "[Parallel(n_jobs=-1)]: Using backend LokyBackend with 4 concurrent workers.\n",
      "[Parallel(n_jobs=-1)]: Done   5 tasks      | elapsed:  1.2min\n",
      "[Parallel(n_jobs=-1)]: Done  10 tasks      | elapsed:  1.8min\n",
      "[Parallel(n_jobs=-1)]: Done  17 tasks      | elapsed:  2.4min\n",
      "[Parallel(n_jobs=-1)]: Done  27 out of  30 | elapsed:  4.4min remaining:   29.5s\n",
      "[Parallel(n_jobs=-1)]: Done  30 out of  30 | elapsed:  4.7min finished\n"
     ]
    }
   ],
   "source": [
    "from sklearn.model_selection import GridSearchCV, RandomizedSearchCV\n",
    "from scipy.stats import randint\n",
    "\n",
    "param_distributions = {\n",
    "    'simpleimputer__strategy':['mean','median'],\n",
    "    'randomforestclassifier__max_depth':[5, 10, 15, 20, None],\n",
    "    'randomforestclassifier__n_estimators': randint(50,500)\n",
    "}\n",
    "\n",
    "search = RandomizedSearchCV(\n",
    "    pipeline,\n",
    "    param_distributions=param_distributions,\n",
    "    n_iter=10,\n",
    "    cv=3,\n",
    "    scoring='neg_mean_absolute_error',\n",
    "    verbose=10,\n",
    "    return_train_score=True,\n",
    "    n_jobs=-1\n",
    ")\n",
    "\n",
    "search.fit(X_train,y_train_o);"
   ]
  },
  {
   "cell_type": "code",
   "execution_count": 17,
   "metadata": {},
   "outputs": [
    {
     "name": "stdout",
     "output_type": "stream",
     "text": [
      "Best hyperparameters {'randomforestclassifier__max_depth': 20, 'randomforestclassifier__n_estimators': 291, 'simpleimputer__strategy': 'median'}\n",
      "Cross-validation MAE 0.33057659932659933\n"
     ]
    }
   ],
   "source": [
    "print('Best hyperparameters', search.best_params_)\n",
    "print('Cross-validation MAE', -search.best_score_)"
   ]
  },
  {
   "cell_type": "markdown",
   "metadata": {},
   "source": [
    "### Submit your predictions to our Kaggle competition."
   ]
  },
  {
   "cell_type": "code",
   "execution_count": 19,
   "metadata": {},
   "outputs": [],
   "source": [
    "pipeline.fit(X_train,y_train)\n",
    "y_pred = pipeline.predict(X_test)\n",
    "submission = sample_submission.copy()\n",
    "submission['status_group']=y_pred\n",
    "submission.to_csv('submission_5.csv',index=False)\n",
    "\n",
    "\n",
    "pipeline.fit(X_full_train,y_full_train)\n",
    "y_pred = pipeline.predict(X_test)\n",
    "submission = sample_submission.copy()\n",
    "submission['status_group']=y_pred\n",
    "submission.to_csv('submission_6.csv',index=False)"
   ]
  },
  {
   "cell_type": "markdown",
   "metadata": {},
   "source": [
    "### Commit your notebook to your fork of the GitHub repo."
   ]
  }
 ],
 "metadata": {
  "kernelspec": {
   "display_name": "Python 3",
   "language": "python",
   "name": "python3"
  },
  "language_info": {
   "codemirror_mode": {
    "name": "ipython",
    "version": 3
   },
   "file_extension": ".py",
   "mimetype": "text/x-python",
   "name": "python",
   "nbconvert_exporter": "python",
   "pygments_lexer": "ipython3",
   "version": "3.7.6"
  }
 },
 "nbformat": 4,
 "nbformat_minor": 2
}
