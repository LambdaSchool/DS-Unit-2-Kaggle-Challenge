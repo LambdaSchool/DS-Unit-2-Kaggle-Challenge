{
  "nbformat": 4,
  "nbformat_minor": 0,
  "metadata": {
    "kernelspec": {
      "display_name": "Python 3",
      "language": "python",
      "name": "python3"
    },
    "language_info": {
      "codemirror_mode": {
        "name": "ipython",
        "version": 3
      },
      "file_extension": ".py",
      "mimetype": "text/x-python",
      "name": "python",
      "nbconvert_exporter": "python",
      "pygments_lexer": "ipython3",
      "version": "3.7.6"
    },
    "colab": {
      "name": "Dan_Anderson_LS_DS_223_assignment.ipynb",
      "provenance": [],
      "collapsed_sections": [],
      "toc_visible": true
    }
  },
  "cells": [
    {
      "cell_type": "markdown",
      "metadata": {
        "id": "R5PlP34kGBVT",
        "colab_type": "text"
      },
      "source": [
        "Lambda School Data Science\n",
        "\n",
        "*Unit 2, Sprint 2, Module 3*\n",
        "\n",
        "---"
      ]
    },
    {
      "cell_type": "markdown",
      "metadata": {
        "id": "KvfAIZtCGBVa",
        "colab_type": "text"
      },
      "source": [
        "# Cross-Validation\n",
        "\n",
        "\n",
        "## Assignment\n",
        "- [ ] [Review requirements for your portfolio project](https://lambdaschool.github.io/ds/unit2), then submit your dataset.\n",
        "- [ ] Continue to participate in our Kaggle challenge. \n",
        "- [ ] Use scikit-learn for hyperparameter optimization with RandomizedSearchCV.\n",
        "- [ ] Submit your predictions to our Kaggle competition. (Go to our Kaggle InClass competition webpage. Use the blue **Submit Predictions** button to upload your CSV file. Or you can use the Kaggle API to submit your predictions.)\n",
        "- [ ] Commit your notebook to your fork of the GitHub repo.\n",
        "\n",
        "\n",
        "You won't be able to just copy from the lesson notebook to this assignment.\n",
        "\n",
        "- Because the lesson was ***regression***, but the assignment is ***classification.***\n",
        "- Because the lesson used [TargetEncoder](https://contrib.scikit-learn.org/categorical-encoding/targetencoder.html), which doesn't work as-is for _multi-class_ classification.\n",
        "\n",
        "So you will have to adapt the example, which is good real-world practice.\n",
        "\n",
        "1. Use a model for classification, such as [RandomForestClassifier](https://scikit-learn.org/stable/modules/generated/sklearn.ensemble.RandomForestClassifier.html)\n",
        "2. Use hyperparameters that match the classifier, such as `randomforestclassifier__ ...`\n",
        "3. Use a metric for classification, such as [`scoring='accuracy'`](https://scikit-learn.org/stable/modules/model_evaluation.html#common-cases-predefined-values)\n",
        "4. If you’re doing a multi-class classification problem — such as whether a waterpump is functional, functional needs repair, or nonfunctional — then use a categorical encoding that works for multi-class classification, such as [OrdinalEncoder](https://contrib.scikit-learn.org/categorical-encoding/ordinal.html) (not [TargetEncoder](https://contrib.scikit-learn.org/categorical-encoding/targetencoder.html))\n",
        "\n",
        "\n",
        "\n",
        "## Stretch Goals\n",
        "\n",
        "### Reading\n",
        "- Jake VanderPlas, [Python Data Science Handbook, Chapter 5.3](https://jakevdp.github.io/PythonDataScienceHandbook/05.03-hyperparameters-and-model-validation.html), Hyperparameters and Model Validation\n",
        "- Jake VanderPlas, [Statistics for Hackers](https://speakerdeck.com/jakevdp/statistics-for-hackers?slide=107)\n",
        "- Ron Zacharski, [A Programmer's Guide to Data Mining, Chapter 5](http://guidetodatamining.com/chapter5/), 10-fold cross validation\n",
        "- Sebastian Raschka, [A Basic Pipeline and Grid Search Setup](https://github.com/rasbt/python-machine-learning-book/blob/master/code/bonus/svm_iris_pipeline_and_gridsearch.ipynb)\n",
        "- Peter Worcester, [A Comparison of Grid Search and Randomized Search Using Scikit Learn](https://blog.usejournal.com/a-comparison-of-grid-search-and-randomized-search-using-scikit-learn-29823179bc85)\n",
        "\n",
        "### Doing\n",
        "- Add your own stretch goals!\n",
        "- Try other [categorical encodings](https://contrib.scikit-learn.org/categorical-encoding/). See the previous assignment notebook for details.\n",
        "- In additon to `RandomizedSearchCV`, scikit-learn has [`GridSearchCV`](https://scikit-learn.org/stable/modules/generated/sklearn.model_selection.GridSearchCV.html). Another library called scikit-optimize has [`BayesSearchCV`](https://scikit-optimize.github.io/notebooks/sklearn-gridsearchcv-replacement.html). Experiment with these alternatives.\n",
        "- _[Introduction to Machine Learning with Python](http://shop.oreilly.com/product/0636920030515.do)_ discusses options for \"Grid-Searching Which Model To Use\" in Chapter 6:\n",
        "\n",
        "> You can even go further in combining GridSearchCV and Pipeline: it is also possible to search over the actual steps being performed in the pipeline (say whether to use StandardScaler or MinMaxScaler). This leads to an even bigger search space and should be considered carefully. Trying all possible solutions is usually not a viable machine learning strategy. However, here is an example comparing a RandomForestClassifier and an SVC ...\n",
        "\n",
        "The example is shown in [the accompanying notebook](https://github.com/amueller/introduction_to_ml_with_python/blob/master/06-algorithm-chains-and-pipelines.ipynb), code cells 35-37. Could you apply this concept to your own pipelines?\n"
      ]
    },
    {
      "cell_type": "markdown",
      "metadata": {
        "id": "NVKaJoPXGBVd",
        "colab_type": "text"
      },
      "source": [
        "### BONUS: Stacking!\n",
        "\n",
        "Here's some code you can use to \"stack\" multiple submissions, which is another form of ensembling:\n",
        "\n",
        "```python\n",
        "import pandas as pd\n",
        "\n",
        "# Filenames of your submissions you want to ensemble\n",
        "files = ['submission-01.csv', 'submission-02.csv', 'submission-03.csv']\n",
        "\n",
        "target = 'status_group'\n",
        "submissions = (pd.read_csv(file)[[target]] for file in files)\n",
        "ensemble = pd.concat(submissions, axis='columns')\n",
        "majority_vote = ensemble.mode(axis='columns')[0]\n",
        "\n",
        "sample_submission = pd.read_csv('sample_submission.csv')\n",
        "submission = sample_submission.copy()\n",
        "submission[target] = majority_vote\n",
        "submission.to_csv('my-ultimate-ensemble-submission.csv', index=False)\n",
        "```"
      ]
    },
    {
      "cell_type": "code",
      "metadata": {
        "id": "-dHg3MwpGBVg",
        "colab_type": "code",
        "colab": {}
      },
      "source": [
        "%%capture\n",
        "import sys\n",
        "\n",
        "# If you're on Colab:\n",
        "if 'google.colab' in sys.modules:\n",
        "    DATA_PATH = 'https://raw.githubusercontent.com/LambdaSchool/DS-Unit-2-Kaggle-Challenge/master/data/'\n",
        "    !pip install category_encoders==2.*\n",
        "    !pip install pandas-profiling==2.*\n",
        "\n",
        "# If you're working locally:\n",
        "else:\n",
        "    DATA_PATH = '../data/'"
      ],
      "execution_count": 0,
      "outputs": []
    },
    {
      "cell_type": "code",
      "metadata": {
        "id": "pcYWNu99GBVn",
        "colab_type": "code",
        "colab": {}
      },
      "source": [
        "import pandas as pd\n",
        "\n",
        "# Merge train_features.csv & train_labels.csv\n",
        "train = pd.merge(pd.read_csv(DATA_PATH+'waterpumps/train_features.csv'), \n",
        "                 pd.read_csv(DATA_PATH+'waterpumps/train_labels.csv'))\n",
        "\n",
        "# Read test_features.csv & sample_submission.csv\n",
        "test = pd.read_csv(DATA_PATH+'waterpumps/test_features.csv')\n",
        "sample_submission = pd.read_csv(DATA_PATH+'waterpumps/sample_submission.csv')\n"
      ],
      "execution_count": 0,
      "outputs": []
    },
    {
      "cell_type": "code",
      "metadata": {
        "id": "8Xenc14eGBVt",
        "colab_type": "code",
        "colab": {}
      },
      "source": [
        "import numpy as np\n",
        "\n",
        "# Wrangle the modeling data\n",
        "\n",
        "# indicate_missing is a function that returns a boolean value if the inbound data = 'MISSING'\n",
        "#   - helps in creating a \"missing\" column \n",
        "def indicate_missing(val):\n",
        "  if val == 'MISSING':\n",
        "    return True\n",
        "\n",
        "  return False\n",
        "\n",
        "# boolean_missing is a function converting the permit boolean column to categorical data \n",
        "def boolean_missing(val):\n",
        "  if val == True:\n",
        "    return 'TRUE'\n",
        "\n",
        "  if val == False:\n",
        "    return 'FALSE'\n",
        "\n",
        "  return 'MISSING'\n",
        "\n",
        "def wrangle(DF):\n",
        "  X = DF.copy()\n",
        "\n",
        "  # Replace near zero latitude values with zero\n",
        "  X['latitude'] = X['latitude'].replace(-2e-08, 0)\n",
        "\n",
        "  # Replace zero values with nan so we can impute values downstream\n",
        "  cols_with_zeroes = ['longitude',\n",
        "                      'latitude',\n",
        "                      'construction_year',\n",
        "                      'gps_height',\n",
        "                      'population']\n",
        "  for col in cols_with_zeroes:\n",
        "    X[col] = X[col].replace(0, np.nan)   # replace zeros with nans\n",
        "    X[col+'_MISSING'] = X[col].isnull()  # create a missing indicator column\n",
        "\n",
        "  # Create columns for month and year recorded data\n",
        "  X['date_recorded']  = pd.to_datetime(X['date_recorded'], infer_datetime_format=True)\n",
        "  X['year_recorded']  = X['date_recorded'].dt.year\n",
        "  X['month_recorded'] = X['date_recorded'].dt.month\n",
        "\n",
        "  # Create a column reflecting the number of years from construction to year recorded\n",
        "  X['years']          = X['year_recorded'] - X['construction_year']\n",
        "  X['years']          = X['years'].replace(0, np.nan)   # replace zeros with nans\n",
        "  X['years_MISSING']  = X['years'].isnull() # create a missing years indicator column\n",
        "\n",
        "  # Replace missing boolean data with categorical data reflecting that missing data\n",
        "  cols_boolean_missing = ['public_meeting', 'permit']\n",
        "  for col in cols_boolean_missing:\n",
        "    X[col+'_CATEGORICAL']             = X[col].apply(boolean_missing)\n",
        "    X[col+'_CATEGORICAL'+'_MISSING']  = X[col+'_CATEGORICAL'].apply(indicate_missing)\n",
        "\n",
        "  # Replace missing categorical data with 'MISSING'\n",
        "  cols_categorical_missing = ['funder', 'installer', 'scheme_name', 'scheme_management', 'subvillage']\n",
        "  for col in cols_categorical_missing:\n",
        "    X[col]            = X[col].replace(np.nan, 'MISSING')   # replace zeros with nans\n",
        "    X[col+'_MISSING'] = X[col].apply(indicate_missing)\n",
        "\n",
        "  # List columns to be dropped\n",
        "  cols_drop = [\n",
        "               'date_recorded',             # date_recorded - using year_recorded and month_recorded instead\n",
        "               'quantity_group',            # duplicate column\n",
        "               'payment_type',              # duplicate column\n",
        "               'recorded_by',               # data collection process column (not predictive)\n",
        "               'id',                        # data collection process column (not predictive)\n",
        "               'permit',                    # replaced by categorical column: permit_string\n",
        "               'num_private',               # 98% zeroes, unclear the purpose of this dat\n",
        "               'construction_year',         # use 'years' as a proxy\n",
        "               'construction_year_MISSING', # use 'years_MISSING' as a proxy\n",
        "               'amount_tsh']                # highly skewed data\n",
        "  # Also drop the columns we processed due to missing values\n",
        "  cols_drop.extend(cols_boolean_missing)\n",
        "\n",
        "  # Drop undesired columns\n",
        "  X = X.drop(columns=cols_drop)\n",
        "\n",
        "  return X"
      ],
      "execution_count": 0,
      "outputs": []
    },
    {
      "cell_type": "code",
      "metadata": {
        "id": "CWhAjsCiI06L",
        "colab_type": "code",
        "colab": {
          "base_uri": "https://localhost:8080/",
          "height": 34
        },
        "outputId": "6da6d06a-7701-4a73-f584-c757f733718b"
      },
      "source": [
        "# Wrange the initial train and test datasets\n",
        "df_train = wrangle(train)\n",
        "df_test  = wrangle(test)\n",
        "\n",
        "print(f'Train shape: {df_train.shape} Test shape: {df_test.shape}')"
      ],
      "execution_count": 64,
      "outputs": [
        {
          "output_type": "stream",
          "text": [
            "Train shape: (59400, 48) Test shape: (14358, 47)\n"
          ],
          "name": "stdout"
        }
      ]
    },
    {
      "cell_type": "code",
      "metadata": {
        "id": "yIHVID2sJIL3",
        "colab_type": "code",
        "colab": {}
      },
      "source": [
        "# Import pandas profiling package\n",
        "from pandas_profiling import ProfileReport\n",
        "\n",
        "# Generate and download profile reports for the wrangled train and test datasets\n",
        "ProfileReport(df_train, minimal=True).to_file(output_file=\"tanzania_train_output.html\")\n",
        "ProfileReport(df_test,  minimal=True).to_file(output_file=\"tanzania_test_output.html\")"
      ],
      "execution_count": 0,
      "outputs": []
    },
    {
      "cell_type": "code",
      "metadata": {
        "id": "4IDBT2ijMfKz",
        "colab_type": "code",
        "colab": {}
      },
      "source": [
        "# The status_group column is the target\n",
        "target = 'status_group'\n",
        "\n",
        "# Define the training model inputs and target columns\n",
        "features = df_train.columns.drop(target)\n",
        "X_train  = df_train[features]\n",
        "y_train  = df_train[target]"
      ],
      "execution_count": 0,
      "outputs": []
    },
    {
      "cell_type": "code",
      "metadata": {
        "id": "mNxsYAfnx95H",
        "colab_type": "code",
        "colab": {
          "base_uri": "https://localhost:8080/",
          "height": 204
        },
        "outputId": "2e36ed8c-7b4f-4d2b-c6a4-6ea58d9bdf6b"
      },
      "source": [
        "y_train.sample(10)"
      ],
      "execution_count": 77,
      "outputs": [
        {
          "output_type": "execute_result",
          "data": {
            "text/plain": [
              "58140    functional needs repair\n",
              "1903                  functional\n",
              "14770             non functional\n",
              "39142             non functional\n",
              "27959                 functional\n",
              "19097                 functional\n",
              "45028             non functional\n",
              "44595                 functional\n",
              "18192                 functional\n",
              "58882                 functional\n",
              "Name: status_group, dtype: object"
            ]
          },
          "metadata": {
            "tags": []
          },
          "execution_count": 77
        }
      ]
    },
    {
      "cell_type": "code",
      "metadata": {
        "id": "JI6QSIHYOG4Z",
        "colab_type": "code",
        "colab": {}
      },
      "source": [
        "import category_encoders as ce \n",
        "from sklearn.impute import SimpleImputer\n",
        "from sklearn.ensemble import RandomForestClassifier\n",
        "from sklearn.pipeline import make_pipeline\n",
        "\n",
        "# Construct the Cross Validation pipeline and fold configuration\n",
        "pipeline = make_pipeline(\n",
        "    ce.OrdinalEncoder(),\n",
        "    SimpleImputer(strategy='mean'),\n",
        "    RandomForestClassifier(random_state=42)\n",
        ")\n"
      ],
      "execution_count": 0,
      "outputs": []
    },
    {
      "cell_type": "code",
      "metadata": {
        "id": "pZUX3d7MP4gQ",
        "colab_type": "code",
        "colab": {}
      },
      "source": [
        "from sklearn.model_selection import RandomizedSearchCV\n",
        "from scipy.stats import randint, uniform\n",
        "\n",
        "# Configure ranges of hyperparameter distributions\n",
        "param_dist = {\n",
        "    'randomforestclassifier__n_estimators': randint(50, 500),\n",
        "    'randomforestclassifier__max_depth': [5, 10, 15, 20, None],\n",
        "    'randomforestclassifier__max_features': uniform(0, 1)\n",
        "}\n",
        "\n",
        "search = RandomizedSearchCV(\n",
        "    pipeline,\n",
        "    param_distributions=param_dist,\n",
        "    n_iter=10,\n",
        "    cv=3,\n",
        "    scoring=None,\n",
        "    verbose=10,\n",
        "    return_train_score=True,\n",
        "    n_jobs=-1\n",
        ")"
      ],
      "execution_count": 0,
      "outputs": []
    },
    {
      "cell_type": "code",
      "metadata": {
        "id": "lbLbDLJSz_8p",
        "colab_type": "code",
        "colab": {
          "base_uri": "https://localhost:8080/",
          "height": 119
        },
        "outputId": "98e8b491-fb7f-49f8-aa12-93e216303627"
      },
      "source": [
        "y_train.sample(5)"
      ],
      "execution_count": 93,
      "outputs": [
        {
          "output_type": "execute_result",
          "data": {
            "text/plain": [
              "51370        functional\n",
              "1558         functional\n",
              "55650        functional\n",
              "46015    non functional\n",
              "51790        functional\n",
              "Name: status_group, dtype: object"
            ]
          },
          "metadata": {
            "tags": []
          },
          "execution_count": 93
        }
      ]
    },
    {
      "cell_type": "code",
      "metadata": {
        "id": "WZlEv6eomW_q",
        "colab_type": "code",
        "colab": {
          "base_uri": "https://localhost:8080/",
          "height": 649
        },
        "outputId": "016d6815-5dde-4973-91d1-88d5ada56323"
      },
      "source": [
        "# Fit the model against the selected parameters\n",
        "search.fit(X_train, y_train)"
      ],
      "execution_count": 94,
      "outputs": [
        {
          "output_type": "stream",
          "text": [
            "Fitting 3 folds for each of 10 candidates, totalling 30 fits\n"
          ],
          "name": "stdout"
        },
        {
          "output_type": "stream",
          "text": [
            "[Parallel(n_jobs=-1)]: Using backend LokyBackend with 2 concurrent workers.\n",
            "[Parallel(n_jobs=-1)]: Done   1 tasks      | elapsed:    5.5s\n",
            "[Parallel(n_jobs=-1)]: Done   4 tasks      | elapsed:   28.4s\n",
            "/usr/local/lib/python3.6/dist-packages/joblib/externals/loky/process_executor.py:706: UserWarning: A worker stopped while some jobs were given to the executor. This can be caused by a too short worker timeout or by a memory leak.\n",
            "  \"timeout or by a memory leak.\", UserWarning\n",
            "[Parallel(n_jobs=-1)]: Done   9 tasks      | elapsed:  3.4min\n",
            "[Parallel(n_jobs=-1)]: Done  14 tasks      | elapsed:  7.8min\n",
            "[Parallel(n_jobs=-1)]: Done  21 tasks      | elapsed: 19.4min\n",
            "[Parallel(n_jobs=-1)]: Done  30 out of  30 | elapsed: 28.1min finished\n"
          ],
          "name": "stderr"
        },
        {
          "output_type": "execute_result",
          "data": {
            "text/plain": [
              "RandomizedSearchCV(cv=3, error_score=nan,\n",
              "                   estimator=Pipeline(memory=None,\n",
              "                                      steps=[('ordinalencoder',\n",
              "                                              OrdinalEncoder(cols=None,\n",
              "                                                             drop_invariant=False,\n",
              "                                                             handle_missing='value',\n",
              "                                                             handle_unknown='value',\n",
              "                                                             mapping=None,\n",
              "                                                             return_df=True,\n",
              "                                                             verbose=0)),\n",
              "                                             ('simpleimputer',\n",
              "                                              SimpleImputer(add_indicator=False,\n",
              "                                                            copy=True,\n",
              "                                                            fill_value=None,\n",
              "                                                            missing_values=nan,\n",
              "                                                            strategy='mean',\n",
              "                                                            verbose=0)...\n",
              "                   param_distributions={'randomforestclassifier__max_depth': [5,\n",
              "                                                                              10,\n",
              "                                                                              15,\n",
              "                                                                              20,\n",
              "                                                                              None],\n",
              "                                        'randomforestclassifier__max_features': <scipy.stats._distn_infrastructure.rv_frozen object at 0x7f6c8b996860>,\n",
              "                                        'randomforestclassifier__n_estimators': <scipy.stats._distn_infrastructure.rv_frozen object at 0x7f6c8b996f60>},\n",
              "                   pre_dispatch='2*n_jobs', random_state=None, refit=True,\n",
              "                   return_train_score=True, scoring=None, verbose=10)"
            ]
          },
          "metadata": {
            "tags": []
          },
          "execution_count": 94
        }
      ]
    },
    {
      "cell_type": "code",
      "metadata": {
        "id": "sBnCjugKCFP3",
        "colab_type": "code",
        "colab": {
          "base_uri": "https://localhost:8080/",
          "height": 71
        },
        "outputId": "7aabd67c-ee38-47f9-bfd5-1c47c088baee"
      },
      "source": [
        "print('Best hyperparameters', search.best_params_)\n",
        "print('Cross-validation MAE', -search.best_score_)"
      ],
      "execution_count": 95,
      "outputs": [
        {
          "output_type": "stream",
          "text": [
            "Best hyperparameters {'randomforestclassifier__max_depth': 15, 'randomforestclassifier__max_features': 0.3643287595003505, 'randomforestclassifier__n_estimators': 336}\n",
            "Cross-validation MAE -0.7962289562289562\n"
          ],
          "name": "stdout"
        }
      ]
    },
    {
      "cell_type": "code",
      "metadata": {
        "id": "EoijBJtsCZbg",
        "colab_type": "code",
        "colab": {}
      },
      "source": [
        "# Generate predictions\n",
        "pipeline_best = search.best_estimator_\n",
        "\n",
        "X_test = df_test[features]\n",
        "\n",
        "# Generate model 'status_group' predictions for test dataset\n",
        "y_pred = pipeline_best.predict(X_test)"
      ],
      "execution_count": 0,
      "outputs": []
    },
    {
      "cell_type": "code",
      "metadata": {
        "id": "SUWeYnOmFBL1",
        "colab_type": "code",
        "colab": {}
      },
      "source": [
        "# Construct dataframe housing the Kaggle submission dataset\n",
        "tmp_dict = {'id': list(test['id']), 'status_group': list(y_pred)}\n",
        "df_submission = pd.DataFrame(tmp_dict)"
      ],
      "execution_count": 0,
      "outputs": []
    },
    {
      "cell_type": "code",
      "metadata": {
        "id": "Qmw4PQwpF_1J",
        "colab_type": "code",
        "colab": {}
      },
      "source": [
        "# Create submission csv (download and submit to Kaggle)\n",
        "df_submission.to_csv(\"submission_dfa.csv\", index=False)"
      ],
      "execution_count": 0,
      "outputs": []
    }
  ]
}
