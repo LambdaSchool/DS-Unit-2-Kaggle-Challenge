{
  "nbformat": 4,
  "nbformat_minor": 0,
  "metadata": {
    "kernelspec": {
      "display_name": "Python 3",
      "language": "python",
      "name": "python3"
    },
    "language_info": {
      "codemirror_mode": {
        "name": "ipython",
        "version": 3
      },
      "file_extension": ".py",
      "mimetype": "text/x-python",
      "name": "python",
      "nbconvert_exporter": "python",
      "pygments_lexer": "ipython3",
      "version": "3.7.3"
    },
    "colab": {
      "name": "Assig_3_LS_DS_223.ipynb",
      "provenance": [],
      "toc_visible": true,
      "include_colab_link": true
    }
  },
  "cells": [
    {
      "cell_type": "markdown",
      "metadata": {
        "id": "view-in-github",
        "colab_type": "text"
      },
      "source": [
        "<a href=\"https://colab.research.google.com/github/mtoce/DS-Unit-2-Kaggle-Challenge/blob/master/module3-cross-validation/Assig_3_LS_DS_223.ipynb\" target=\"_parent\"><img src=\"https://colab.research.google.com/assets/colab-badge.svg\" alt=\"Open In Colab\"/></a>"
      ]
    },
    {
      "cell_type": "markdown",
      "metadata": {
        "id": "UsDJufygb-c9",
        "colab_type": "text"
      },
      "source": [
        "Lambda School Data Science\n",
        "\n",
        "*Unit 2, Sprint 2, Module 3*\n",
        "\n",
        "---"
      ]
    },
    {
      "cell_type": "markdown",
      "metadata": {
        "colab_type": "text",
        "id": "7IXUfiQ2UKj6"
      },
      "source": [
        "# Cross-Validation\n",
        "\n",
        "\n",
        "## Assignment\n",
        "- [ ] [Review requirements for your portfolio project](https://lambdaschool.github.io/ds/unit2), then submit your dataset.\n",
        "- [ ] Continue to participate in our Kaggle challenge. \n",
        "- [ ] Use scikit-learn for hyperparameter optimization with RandomizedSearchCV.\n",
        "- [ ] Submit your predictions to our Kaggle competition. (Go to our Kaggle InClass competition webpage. Use the blue **Submit Predictions** button to upload your CSV file. Or you can use the Kaggle API to submit your predictions.)\n",
        "- [ ] Commit your notebook to your fork of the GitHub repo.\n",
        "\n",
        "\n",
        "You won't be able to just copy from the lesson notebook to this assignment.\n",
        "\n",
        "- Because the lesson was ***regression***, but the assignment is ***classification.***\n",
        "- Because the lesson used [TargetEncoder](https://contrib.scikit-learn.org/categorical-encoding/targetencoder.html), which doesn't work as-is for _multi-class_ classification.\n",
        "\n",
        "So you will have to adapt the example, which is good real-world practice.\n",
        "\n",
        "1. Use a model for classification, such as [RandomForestClassifier](https://scikit-learn.org/stable/modules/generated/sklearn.ensemble.RandomForestClassifier.html)\n",
        "2. Use hyperparameters that match the classifier, such as `randomforestclassifier__ ...`\n",
        "3. Use a metric for classification, such as [`scoring='accuracy'`](https://scikit-learn.org/stable/modules/model_evaluation.html#common-cases-predefined-values)\n",
        "4. If you’re doing a multi-class classification problem — such as whether a waterpump is functional, functional needs repair, or nonfunctional — then use a categorical encoding that works for multi-class classification, such as [OrdinalEncoder](https://contrib.scikit-learn.org/categorical-encoding/ordinal.html) (not [TargetEncoder](https://contrib.scikit-learn.org/categorical-encoding/targetencoder.html))\n",
        "\n",
        "\n",
        "\n",
        "## Stretch Goals\n",
        "\n",
        "### Reading\n",
        "- Jake VanderPlas, [Python Data Science Handbook, Chapter 5.3](https://jakevdp.github.io/PythonDataScienceHandbook/05.03-hyperparameters-and-model-validation.html), Hyperparameters and Model Validation\n",
        "- Jake VanderPlas, [Statistics for Hackers](https://speakerdeck.com/jakevdp/statistics-for-hackers?slide=107)\n",
        "- Ron Zacharski, [A Programmer's Guide to Data Mining, Chapter 5](http://guidetodatamining.com/chapter5/), 10-fold cross validation\n",
        "- Sebastian Raschka, [A Basic Pipeline and Grid Search Setup](https://github.com/rasbt/python-machine-learning-book/blob/master/code/bonus/svm_iris_pipeline_and_gridsearch.ipynb)\n",
        "- Peter Worcester, [A Comparison of Grid Search and Randomized Search Using Scikit Learn](https://blog.usejournal.com/a-comparison-of-grid-search-and-randomized-search-using-scikit-learn-29823179bc85)\n",
        "\n",
        "### Doing\n",
        "- Add your own stretch goals!\n",
        "- Try other [categorical encodings](https://contrib.scikit-learn.org/categorical-encoding/). See the previous assignment notebook for details.\n",
        "- In additon to `RandomizedSearchCV`, scikit-learn has [`GridSearchCV`](https://scikit-learn.org/stable/modules/generated/sklearn.model_selection.GridSearchCV.html). Another library called scikit-optimize has [`BayesSearchCV`](https://scikit-optimize.github.io/notebooks/sklearn-gridsearchcv-replacement.html). Experiment with these alternatives.\n",
        "- _[Introduction to Machine Learning with Python](http://shop.oreilly.com/product/0636920030515.do)_ discusses options for \"Grid-Searching Which Model To Use\" in Chapter 6:\n",
        "\n",
        "> You can even go further in combining GridSearchCV and Pipeline: it is also possible to search over the actual steps being performed in the pipeline (say whether to use StandardScaler or MinMaxScaler). This leads to an even bigger search space and should be considered carefully. Trying all possible solutions is usually not a viable machine learning strategy. However, here is an example comparing a RandomForestClassifier and an SVC ...\n",
        "\n",
        "The example is shown in [the accompanying notebook](https://github.com/amueller/introduction_to_ml_with_python/blob/master/06-algorithm-chains-and-pipelines.ipynb), code cells 35-37. Could you apply this concept to your own pipelines?\n"
      ]
    },
    {
      "cell_type": "markdown",
      "metadata": {
        "id": "SA4FLyFhldFs",
        "colab_type": "text"
      },
      "source": [
        "# Pre-Model Prep"
      ]
    },
    {
      "cell_type": "markdown",
      "metadata": {
        "id": "hYjT2kEkb-c_",
        "colab_type": "text"
      },
      "source": [
        "### Setup\n",
        "\n",
        "You can work locally (follow the [local setup instructions](https://lambdaschool.github.io/ds/unit2/local/)) or on Colab (run the code cell below)."
      ]
    },
    {
      "cell_type": "code",
      "metadata": {
        "colab_type": "code",
        "id": "o9eSnDYhUGD7",
        "colab": {}
      },
      "source": [
        "%%capture\n",
        "import sys\n",
        "\n",
        "# If you're on Colab:\n",
        "if 'google.colab' in sys.modules:\n",
        "    DATA_PATH = 'https://raw.githubusercontent.com/LambdaSchool/DS-Unit-2-Kaggle-Challenge/master/data/'\n",
        "    !pip install category_encoders==2.*\n",
        "\n",
        "# If you're working locally:\n",
        "else:\n",
        "    DATA_PATH = '../data/'"
      ],
      "execution_count": 0,
      "outputs": []
    },
    {
      "cell_type": "code",
      "metadata": {
        "id": "h8XLyKO1lLAR",
        "colab_type": "code",
        "colab": {}
      },
      "source": [
        "# New code for Pandas Profiling version 2.4\n",
        "# from pandas_profiling import ProfileReport\n",
        "# profile = ProfileReport(train, minimal=True).to_notebook_iframe()\n",
        "\n",
        "# profile"
      ],
      "execution_count": 0,
      "outputs": []
    },
    {
      "cell_type": "markdown",
      "metadata": {
        "id": "IiRc__VRkoeV",
        "colab_type": "text"
      },
      "source": [
        "## Train / Validate / Test Split"
      ]
    },
    {
      "cell_type": "code",
      "metadata": {
        "colab_type": "code",
        "id": "QJBD4ruICm1m",
        "outputId": "d59fa182-55ce-4ce3-f18f-057ab086bd01",
        "colab": {
          "base_uri": "https://localhost:8080/",
          "height": 34
        }
      },
      "source": [
        "import pandas as pd\n",
        "from sklearn.model_selection import train_test_split\n",
        "\n",
        "train = pd.merge(pd.read_csv(DATA_PATH+'waterpumps/train_features.csv'), \n",
        "                 pd.read_csv(DATA_PATH+'waterpumps/train_labels.csv'))\n",
        "test = pd.read_csv(DATA_PATH+'waterpumps/test_features.csv')\n",
        "sample_submission = pd.read_csv(DATA_PATH+'waterpumps/sample_submission.csv')\n",
        "\n",
        "train.shape, test.shape"
      ],
      "execution_count": 3,
      "outputs": [
        {
          "output_type": "execute_result",
          "data": {
            "text/plain": [
              "((59400, 41), (14358, 40))"
            ]
          },
          "metadata": {
            "tags": []
          },
          "execution_count": 3
        }
      ]
    },
    {
      "cell_type": "code",
      "metadata": {
        "id": "HLR2vdtnlH4u",
        "colab_type": "code",
        "outputId": "cccb6a67-27f7-4571-dafd-6f01d7afe940",
        "colab": {
          "base_uri": "https://localhost:8080/",
          "height": 34
        }
      },
      "source": [
        "train, val = train_test_split(train, train_size=0.80, test_size=0.20, stratify=train['status_group'], random_state=17)\n",
        "train.shape, val.shape, test.shape"
      ],
      "execution_count": 4,
      "outputs": [
        {
          "output_type": "execute_result",
          "data": {
            "text/plain": [
              "((47520, 41), (11880, 41), (14358, 40))"
            ]
          },
          "metadata": {
            "tags": []
          },
          "execution_count": 4
        }
      ]
    },
    {
      "cell_type": "markdown",
      "metadata": {
        "id": "NSMH_29qkiG6",
        "colab_type": "text"
      },
      "source": [
        "## Wrangle Function"
      ]
    },
    {
      "cell_type": "code",
      "metadata": {
        "id": "L5K3WsELkvw_",
        "colab_type": "code",
        "colab": {}
      },
      "source": [
        "import numpy as np\n",
        "\n",
        "def wrangle(X):\n",
        "    \"\"\"Wrangle train, validate, and test sets in the same way\"\"\"\n",
        "    \n",
        "    # Prevent SettingWithCopyWarning\n",
        "    X = X.copy()\n",
        "    \n",
        "    # About 3% of the time, latitude has small values near zero,\n",
        "    # outside Tanzania, so we'll treat these values like zero.\n",
        "    X['latitude'] = X['latitude'].replace(-2e-08, 0)\n",
        "    \n",
        "    # When columns have zeros and shouldn't, they are like null values.\n",
        "    # So we will replace the zeros with nulls, and impute missing values later.\n",
        "    # Also create a \"missing indicator\" column, because the fact that\n",
        "    # values are missing may be a predictive signal.\n",
        "    cols_with_zeros = ['longitude', 'latitude', 'construction_year', \n",
        "                       'gps_height', 'population']\n",
        "    for col in cols_with_zeros:\n",
        "        X[col] = X[col].replace(0, np.nan)\n",
        "        X[col+'_MISSING'] = X[col].isnull()\n",
        "            \n",
        "    # Drop duplicate columns\n",
        "    duplicates = ['quantity_group', 'payment_type']\n",
        "    X = X.drop(columns=duplicates)\n",
        "    \n",
        "    # Drop recorded_by (never varies) and id (always varies, random)\n",
        "    unusable_variance = ['recorded_by', 'id']\n",
        "    X = X.drop(columns=unusable_variance)\n",
        "    \n",
        "    # replace population=1 with np.NaN\n",
        "    X['population'] = X['population'].replace({1: np.NaN})\n",
        "    # return the wrangled dataframe\n",
        "    return X\n",
        "\n",
        "train = wrangle(train)\n",
        "val = wrangle(val)\n",
        "test = wrangle(test)"
      ],
      "execution_count": 0,
      "outputs": []
    },
    {
      "cell_type": "code",
      "metadata": {
        "id": "oGpu0xSdtn0j",
        "colab_type": "code",
        "colab": {}
      },
      "source": [
        "#train.dtypes"
      ],
      "execution_count": 0,
      "outputs": []
    },
    {
      "cell_type": "code",
      "metadata": {
        "id": "XtM3MuJ5tbGe",
        "colab_type": "code",
        "outputId": "de7c0ef9-e84c-4815-b214-75898716994c",
        "colab": {
          "base_uri": "https://localhost:8080/",
          "height": 377
        }
      },
      "source": [
        "train.head()"
      ],
      "execution_count": 7,
      "outputs": [
        {
          "output_type": "execute_result",
          "data": {
            "text/html": [
              "<div>\n",
              "<style scoped>\n",
              "    .dataframe tbody tr th:only-of-type {\n",
              "        vertical-align: middle;\n",
              "    }\n",
              "\n",
              "    .dataframe tbody tr th {\n",
              "        vertical-align: top;\n",
              "    }\n",
              "\n",
              "    .dataframe thead th {\n",
              "        text-align: right;\n",
              "    }\n",
              "</style>\n",
              "<table border=\"1\" class=\"dataframe\">\n",
              "  <thead>\n",
              "    <tr style=\"text-align: right;\">\n",
              "      <th></th>\n",
              "      <th>amount_tsh</th>\n",
              "      <th>date_recorded</th>\n",
              "      <th>funder</th>\n",
              "      <th>gps_height</th>\n",
              "      <th>installer</th>\n",
              "      <th>longitude</th>\n",
              "      <th>latitude</th>\n",
              "      <th>wpt_name</th>\n",
              "      <th>num_private</th>\n",
              "      <th>basin</th>\n",
              "      <th>subvillage</th>\n",
              "      <th>region</th>\n",
              "      <th>region_code</th>\n",
              "      <th>district_code</th>\n",
              "      <th>lga</th>\n",
              "      <th>ward</th>\n",
              "      <th>population</th>\n",
              "      <th>public_meeting</th>\n",
              "      <th>scheme_management</th>\n",
              "      <th>scheme_name</th>\n",
              "      <th>permit</th>\n",
              "      <th>construction_year</th>\n",
              "      <th>extraction_type</th>\n",
              "      <th>extraction_type_group</th>\n",
              "      <th>extraction_type_class</th>\n",
              "      <th>management</th>\n",
              "      <th>management_group</th>\n",
              "      <th>payment</th>\n",
              "      <th>water_quality</th>\n",
              "      <th>quality_group</th>\n",
              "      <th>quantity</th>\n",
              "      <th>source</th>\n",
              "      <th>source_type</th>\n",
              "      <th>source_class</th>\n",
              "      <th>waterpoint_type</th>\n",
              "      <th>waterpoint_type_group</th>\n",
              "      <th>status_group</th>\n",
              "      <th>longitude_MISSING</th>\n",
              "      <th>latitude_MISSING</th>\n",
              "      <th>construction_year_MISSING</th>\n",
              "      <th>gps_height_MISSING</th>\n",
              "      <th>population_MISSING</th>\n",
              "    </tr>\n",
              "  </thead>\n",
              "  <tbody>\n",
              "    <tr>\n",
              "      <th>43465</th>\n",
              "      <td>1000.0</td>\n",
              "      <td>2013-03-09</td>\n",
              "      <td>Roman Cathoric Same</td>\n",
              "      <td>1687.0</td>\n",
              "      <td>Roman Cathoric Same</td>\n",
              "      <td>37.631842</td>\n",
              "      <td>-3.725220</td>\n",
              "      <td>Ngujini Sec School</td>\n",
              "      <td>0</td>\n",
              "      <td>Pangani</td>\n",
              "      <td>Kwabmnaro</td>\n",
              "      <td>Kilimanjaro</td>\n",
              "      <td>3</td>\n",
              "      <td>2</td>\n",
              "      <td>Mwanga</td>\n",
              "      <td>Ngujini</td>\n",
              "      <td>40.0</td>\n",
              "      <td>True</td>\n",
              "      <td>VWC</td>\n",
              "      <td>Kindoroko  water supply</td>\n",
              "      <td>False</td>\n",
              "      <td>2004.0</td>\n",
              "      <td>gravity</td>\n",
              "      <td>gravity</td>\n",
              "      <td>gravity</td>\n",
              "      <td>vwc</td>\n",
              "      <td>user-group</td>\n",
              "      <td>pay monthly</td>\n",
              "      <td>soft</td>\n",
              "      <td>good</td>\n",
              "      <td>insufficient</td>\n",
              "      <td>spring</td>\n",
              "      <td>spring</td>\n",
              "      <td>groundwater</td>\n",
              "      <td>communal standpipe</td>\n",
              "      <td>communal standpipe</td>\n",
              "      <td>functional</td>\n",
              "      <td>False</td>\n",
              "      <td>False</td>\n",
              "      <td>False</td>\n",
              "      <td>False</td>\n",
              "      <td>False</td>\n",
              "    </tr>\n",
              "    <tr>\n",
              "      <th>20252</th>\n",
              "      <td>500.0</td>\n",
              "      <td>2011-11-04</td>\n",
              "      <td>Nado</td>\n",
              "      <td>1493.0</td>\n",
              "      <td>wananchi</td>\n",
              "      <td>34.639256</td>\n",
              "      <td>-8.970386</td>\n",
              "      <td>Kwa Elai Mkahala</td>\n",
              "      <td>0</td>\n",
              "      <td>Rufiji</td>\n",
              "      <td>Igando</td>\n",
              "      <td>Iringa</td>\n",
              "      <td>11</td>\n",
              "      <td>4</td>\n",
              "      <td>Njombe</td>\n",
              "      <td>Usuka</td>\n",
              "      <td>85.0</td>\n",
              "      <td>True</td>\n",
              "      <td>WUA</td>\n",
              "      <td>wanging'ombe water supply s</td>\n",
              "      <td>True</td>\n",
              "      <td>2003.0</td>\n",
              "      <td>gravity</td>\n",
              "      <td>gravity</td>\n",
              "      <td>gravity</td>\n",
              "      <td>wua</td>\n",
              "      <td>user-group</td>\n",
              "      <td>pay monthly</td>\n",
              "      <td>soft</td>\n",
              "      <td>good</td>\n",
              "      <td>enough</td>\n",
              "      <td>river</td>\n",
              "      <td>river/lake</td>\n",
              "      <td>surface</td>\n",
              "      <td>communal standpipe</td>\n",
              "      <td>communal standpipe</td>\n",
              "      <td>functional</td>\n",
              "      <td>False</td>\n",
              "      <td>False</td>\n",
              "      <td>False</td>\n",
              "      <td>False</td>\n",
              "      <td>False</td>\n",
              "    </tr>\n",
              "    <tr>\n",
              "      <th>3674</th>\n",
              "      <td>0.0</td>\n",
              "      <td>2013-02-27</td>\n",
              "      <td>Danida</td>\n",
              "      <td>859.0</td>\n",
              "      <td>DANIDA</td>\n",
              "      <td>36.015272</td>\n",
              "      <td>-10.753528</td>\n",
              "      <td>Kwa Fuko</td>\n",
              "      <td>0</td>\n",
              "      <td>Ruvuma / Southern Coast</td>\n",
              "      <td>Kidalini</td>\n",
              "      <td>Ruvuma</td>\n",
              "      <td>10</td>\n",
              "      <td>5</td>\n",
              "      <td>Namtumbo</td>\n",
              "      <td>Mkongo</td>\n",
              "      <td>100.0</td>\n",
              "      <td>True</td>\n",
              "      <td>VWC</td>\n",
              "      <td>Njalamatata water gravity scheme</td>\n",
              "      <td>True</td>\n",
              "      <td>NaN</td>\n",
              "      <td>gravity</td>\n",
              "      <td>gravity</td>\n",
              "      <td>gravity</td>\n",
              "      <td>vwc</td>\n",
              "      <td>user-group</td>\n",
              "      <td>pay when scheme fails</td>\n",
              "      <td>soft</td>\n",
              "      <td>good</td>\n",
              "      <td>dry</td>\n",
              "      <td>unknown</td>\n",
              "      <td>other</td>\n",
              "      <td>unknown</td>\n",
              "      <td>communal standpipe</td>\n",
              "      <td>communal standpipe</td>\n",
              "      <td>non functional</td>\n",
              "      <td>False</td>\n",
              "      <td>False</td>\n",
              "      <td>True</td>\n",
              "      <td>False</td>\n",
              "      <td>False</td>\n",
              "    </tr>\n",
              "    <tr>\n",
              "      <th>15441</th>\n",
              "      <td>0.0</td>\n",
              "      <td>2011-03-22</td>\n",
              "      <td>Unhcr</td>\n",
              "      <td>341.0</td>\n",
              "      <td>Handeni Trunk Main(</td>\n",
              "      <td>38.526482</td>\n",
              "      <td>-5.609702</td>\n",
              "      <td>Kwa Semboga</td>\n",
              "      <td>0</td>\n",
              "      <td>Pangani</td>\n",
              "      <td>Bulumusa</td>\n",
              "      <td>Tanga</td>\n",
              "      <td>4</td>\n",
              "      <td>6</td>\n",
              "      <td>Handeni</td>\n",
              "      <td>Mgambo</td>\n",
              "      <td>NaN</td>\n",
              "      <td>True</td>\n",
              "      <td>VWC</td>\n",
              "      <td>Handeni Trunk Main(H</td>\n",
              "      <td>True</td>\n",
              "      <td>2003.0</td>\n",
              "      <td>submersible</td>\n",
              "      <td>submersible</td>\n",
              "      <td>submersible</td>\n",
              "      <td>vwc</td>\n",
              "      <td>user-group</td>\n",
              "      <td>never pay</td>\n",
              "      <td>soft</td>\n",
              "      <td>good</td>\n",
              "      <td>insufficient</td>\n",
              "      <td>river</td>\n",
              "      <td>river/lake</td>\n",
              "      <td>surface</td>\n",
              "      <td>communal standpipe multiple</td>\n",
              "      <td>communal standpipe</td>\n",
              "      <td>non functional</td>\n",
              "      <td>False</td>\n",
              "      <td>False</td>\n",
              "      <td>False</td>\n",
              "      <td>False</td>\n",
              "      <td>False</td>\n",
              "    </tr>\n",
              "    <tr>\n",
              "      <th>41367</th>\n",
              "      <td>0.0</td>\n",
              "      <td>2011-03-13</td>\n",
              "      <td>Water</td>\n",
              "      <td>NaN</td>\n",
              "      <td>Commu</td>\n",
              "      <td>36.529519</td>\n",
              "      <td>-6.183249</td>\n",
              "      <td>Shuleni</td>\n",
              "      <td>0</td>\n",
              "      <td>Wami / Ruvu</td>\n",
              "      <td>NaN</td>\n",
              "      <td>Dodoma</td>\n",
              "      <td>1</td>\n",
              "      <td>3</td>\n",
              "      <td>Kongwa</td>\n",
              "      <td>Ugogoni</td>\n",
              "      <td>NaN</td>\n",
              "      <td>True</td>\n",
              "      <td>VWC</td>\n",
              "      <td>Msin</td>\n",
              "      <td>False</td>\n",
              "      <td>NaN</td>\n",
              "      <td>mono</td>\n",
              "      <td>mono</td>\n",
              "      <td>motorpump</td>\n",
              "      <td>vwc</td>\n",
              "      <td>user-group</td>\n",
              "      <td>pay per bucket</td>\n",
              "      <td>salty</td>\n",
              "      <td>salty</td>\n",
              "      <td>dry</td>\n",
              "      <td>machine dbh</td>\n",
              "      <td>borehole</td>\n",
              "      <td>groundwater</td>\n",
              "      <td>communal standpipe multiple</td>\n",
              "      <td>communal standpipe</td>\n",
              "      <td>non functional</td>\n",
              "      <td>False</td>\n",
              "      <td>False</td>\n",
              "      <td>True</td>\n",
              "      <td>True</td>\n",
              "      <td>True</td>\n",
              "    </tr>\n",
              "  </tbody>\n",
              "</table>\n",
              "</div>"
            ],
            "text/plain": [
              "       amount_tsh date_recorded  ... gps_height_MISSING  population_MISSING\n",
              "43465      1000.0    2013-03-09  ...              False               False\n",
              "20252       500.0    2011-11-04  ...              False               False\n",
              "3674          0.0    2013-02-27  ...              False               False\n",
              "15441         0.0    2011-03-22  ...              False               False\n",
              "41367         0.0    2011-03-13  ...               True                True\n",
              "\n",
              "[5 rows x 42 columns]"
            ]
          },
          "metadata": {
            "tags": []
          },
          "execution_count": 7
        }
      ]
    },
    {
      "cell_type": "code",
      "metadata": {
        "id": "Y7bzA2s_cHfk",
        "colab_type": "code",
        "colab": {}
      },
      "source": [
        "# cardinality"
      ],
      "execution_count": 0,
      "outputs": []
    },
    {
      "cell_type": "markdown",
      "metadata": {
        "id": "HB9Nek1SaTQo",
        "colab_type": "text"
      },
      "source": [
        "## Reduce Cardinality for HC Features"
      ]
    },
    {
      "cell_type": "code",
      "metadata": {
        "id": "7dsJ3Yx2aZbW",
        "colab_type": "code",
        "colab": {}
      },
      "source": [
        "def ReduceCardinality(X):\n",
        "  '''Reduces Cardinality for features to make them model-relevant\n",
        "  X: input DF\n",
        "  n: cardinality of features for model\n",
        "  '''\n",
        "\n",
        "  X = X.copy()\n",
        "  # Reduce cardinality of specific features\n",
        "\n",
        "  # date_recorded: change to just year\n",
        "  X['date_recorded'] = pd.to_datetime(X['date_recorded']).dt.year\n",
        "\n",
        "  # Quickly impute just construction_year column since I we need for new features\n",
        "  # X['construction_year'] = X['construction_year'].fillna(value=X['construction_year'].median())\n",
        "#-------------------------------------------------------------------------------\n",
        "  # Feature Engineering\n",
        "  X['time_til_inspection'] = X['date_recorded'] - X['construction_year']\n",
        "\n",
        "#-------------------------------------------------------------------------------\n",
        "  # keep top 24 values and replace 25th with other\n",
        "  # df.apply(lambda x: x == 'OTHER' if x.name == ['subvillage', 'funder', 'installer', 'wpt_name', 'lga', 'scheme_name'] else )\n",
        "\n",
        "  # subvillage: keep top 24\n",
        "  top1 = X['subvillage'].value_counts()[:24].index\n",
        "  X.loc[~X['subvillage'].isin(top1), 'subvillage'] = 'OTHER'\n",
        "  \n",
        "  # funder: keep top 25\n",
        "  top2 = X['funder'].value_counts()[:24].index\n",
        "  X.loc[~X['funder'].isin(top2), 'funder'] = 'OTHER'\n",
        "\n",
        "  # installer: keep top 25\n",
        "  top3 = X['installer'].value_counts()[:24].index\n",
        "  X.loc[~X['installer'].isin(top3), 'installer'] = 'OTHER'\n",
        "\n",
        "  # wpt_name: keep top 15\n",
        "  top4 = X['wpt_name'].value_counts()[:24].index\n",
        "  X.loc[~X['wpt_name'].isin(top4), 'wpt_name'] = 'OTHER'\n",
        "\n",
        "  # lga: keep top 25\n",
        "  top5 = X['lga'].value_counts()[:24].index\n",
        "  X.loc[~X['lga'].isin(top5), 'lga'] = 'OTHER'\n",
        "\n",
        "  # ward: keep top 25\n",
        "  top6 = X['ward'].value_counts()[:24].index\n",
        "  X.loc[~X['ward'].isin(top6), 'ward'] = 'OTHER'\n",
        "\n",
        "  # scheme_name: keep top 25\n",
        "  top7 = X['scheme_name'].value_counts()[:24].index\n",
        "  X.loc[~X['scheme_name'].isin(top7), 'scheme_name'] = 'OTHER'\n",
        "\n",
        "  return X"
      ],
      "execution_count": 0,
      "outputs": []
    },
    {
      "cell_type": "code",
      "metadata": {
        "id": "oBT-i_DFkX6j",
        "colab_type": "code",
        "colab": {}
      },
      "source": [
        "# train = ReduceCardinality(train)\n",
        "# val = ReduceCardinality(val)\n",
        "# test = ReduceCardinality(test)"
      ],
      "execution_count": 0,
      "outputs": []
    },
    {
      "cell_type": "markdown",
      "metadata": {
        "id": "mEfXIMvwSJSz",
        "colab_type": "text"
      },
      "source": [
        "## Manual Impute Function"
      ]
    },
    {
      "cell_type": "code",
      "metadata": {
        "id": "4tn0q-HRSFKt",
        "colab_type": "code",
        "colab": {}
      },
      "source": [
        "def ComplexImputer(X):\n",
        "  '''Imputes NaN values in multiple different ways depending on the column'''\n",
        "\n",
        "  X = X.copy()\n",
        "\n",
        "  # Column lists for different imputer methods\n",
        "  cols_mean = ['gps_height', 'latitude', 'longitude']\n",
        "  cols_median = ['construction_year', 'population', 'public_meeting']\n",
        "  cols_mode = ['permit', 'scheme_management']\n",
        "\n",
        "  # replace these columns' NaNs with the mean of column\n",
        "  X[cols_mean] = X[cols_mean].fillna(value=X[cols_mean].mean())\n",
        "  \n",
        "  # replace these columns' NaNs with median\n",
        "  X[cols_median] = X[cols_median].fillna(value=X[cols_median].median())\n",
        "\n",
        "  # replace these columns' NaNs with mode\n",
        "  X['permit'] = X['permit'].fillna(value=True)\n",
        "  X['scheme_management'] = X['scheme_management'].fillna(value='VWC')\n",
        "\n",
        "  return X"
      ],
      "execution_count": 0,
      "outputs": []
    },
    {
      "cell_type": "markdown",
      "metadata": {
        "id": "pNArxJvZ-3-L",
        "colab_type": "text"
      },
      "source": [
        "# Final Function to Run on Data before we send into Pipeline"
      ]
    },
    {
      "cell_type": "code",
      "metadata": {
        "id": "bTu9Wgwz--fq",
        "colab_type": "code",
        "colab": {}
      },
      "source": [
        "def Wrangle2(X):\n",
        "  \"\"\"Wrangle train, validate, and test sets in the same way\"\"\"\n",
        "\n",
        "  X = X.copy()\n",
        "\n",
        "  # run our manual imputer & cardinality functions\n",
        "  X = ComplexImputer(X)\n",
        "  X = ReduceCardinality(X)\n",
        "\n",
        "  return X"
      ],
      "execution_count": 0,
      "outputs": []
    },
    {
      "cell_type": "code",
      "metadata": {
        "id": "dvDldLdy_bSQ",
        "colab_type": "code",
        "colab": {}
      },
      "source": [
        "train = Wrangle2(train)\n",
        "val = Wrangle2(val)\n",
        "test = Wrangle2(test)"
      ],
      "execution_count": 0,
      "outputs": []
    },
    {
      "cell_type": "code",
      "metadata": {
        "id": "o9S5w1eM_3Qh",
        "colab_type": "code",
        "outputId": "10860312-d6d3-49e3-fe26-0828cb5150d2",
        "colab": {
          "base_uri": "https://localhost:8080/",
          "height": 765
        }
      },
      "source": [
        "train.isnull().sum()"
      ],
      "execution_count": 44,
      "outputs": [
        {
          "output_type": "execute_result",
          "data": {
            "text/plain": [
              "amount_tsh                   0\n",
              "date_recorded                0\n",
              "funder                       0\n",
              "gps_height                   0\n",
              "installer                    0\n",
              "longitude                    0\n",
              "latitude                     0\n",
              "wpt_name                     0\n",
              "num_private                  0\n",
              "basin                        0\n",
              "subvillage                   0\n",
              "region                       0\n",
              "region_code                  0\n",
              "district_code                0\n",
              "lga                          0\n",
              "ward                         0\n",
              "population                   0\n",
              "public_meeting               0\n",
              "scheme_management            0\n",
              "scheme_name                  0\n",
              "permit                       0\n",
              "construction_year            0\n",
              "extraction_type              0\n",
              "extraction_type_group        0\n",
              "extraction_type_class        0\n",
              "management                   0\n",
              "management_group             0\n",
              "payment                      0\n",
              "water_quality                0\n",
              "quality_group                0\n",
              "quantity                     0\n",
              "source                       0\n",
              "source_type                  0\n",
              "source_class                 0\n",
              "waterpoint_type              0\n",
              "waterpoint_type_group        0\n",
              "status_group                 0\n",
              "longitude_MISSING            0\n",
              "latitude_MISSING             0\n",
              "construction_year_MISSING    0\n",
              "gps_height_MISSING           0\n",
              "population_MISSING           0\n",
              "time_til_inspection          0\n",
              "dtype: int64"
            ]
          },
          "metadata": {
            "tags": []
          },
          "execution_count": 44
        }
      ]
    },
    {
      "cell_type": "markdown",
      "metadata": {
        "id": "CZagnFmOlZbt",
        "colab_type": "text"
      },
      "source": [
        "## Get Baseline"
      ]
    },
    {
      "cell_type": "code",
      "metadata": {
        "id": "GcOlof0Xb-dI",
        "colab_type": "code",
        "colab": {}
      },
      "source": [
        "# define target\n",
        "target = 'status_group'"
      ],
      "execution_count": 0,
      "outputs": []
    },
    {
      "cell_type": "code",
      "metadata": {
        "id": "7rTPQMfylQ52",
        "colab_type": "code",
        "outputId": "2d4aedb1-2e72-4880-ccdd-f07290e1f120",
        "colab": {
          "base_uri": "https://localhost:8080/",
          "height": 85
        }
      },
      "source": [
        "# select baseline - categorical - which one is the mode? functional: 54% is the baseline\n",
        "train['status_group'].value_counts(normalize=True)"
      ],
      "execution_count": 46,
      "outputs": [
        {
          "output_type": "execute_result",
          "data": {
            "text/plain": [
              "functional                 0.543077\n",
              "non functional             0.384238\n",
              "functional needs repair    0.072685\n",
              "Name: status_group, dtype: float64"
            ]
          },
          "metadata": {
            "tags": []
          },
          "execution_count": 46
        }
      ]
    },
    {
      "cell_type": "code",
      "metadata": {
        "id": "UGjZLB_-qeAv",
        "colab_type": "code",
        "colab": {}
      },
      "source": [
        "train_features = train.drop([target], axis=1)\n",
        "numeric_features = train_features.select_dtypes(include='number').columns.tolist()\n",
        "cardinality = train_features.select_dtypes(exclude='number').nunique()\n",
        "categorical_features = cardinality[cardinality <= 25].index.tolist()"
      ],
      "execution_count": 0,
      "outputs": []
    },
    {
      "cell_type": "code",
      "metadata": {
        "id": "NJxVVeNTpBgX",
        "colab_type": "code",
        "colab": {}
      },
      "source": [
        "features = numeric_features + categorical_features"
      ],
      "execution_count": 0,
      "outputs": []
    },
    {
      "cell_type": "code",
      "metadata": {
        "id": "gJvWadnjpBla",
        "colab_type": "code",
        "colab": {}
      },
      "source": [
        "# Arrange data into X features matrix and y target vector \n",
        "X_train = train[features]\n",
        "y_train = train[target]\n",
        "X_val = val[features]\n",
        "y_val = val[target]\n",
        "X_test = test[features]"
      ],
      "execution_count": 0,
      "outputs": []
    },
    {
      "cell_type": "markdown",
      "metadata": {
        "id": "iYBgjiH8pFWQ",
        "colab_type": "text"
      },
      "source": [
        "# Make Pipeline"
      ]
    },
    {
      "cell_type": "code",
      "metadata": {
        "id": "lScLMELEpBo2",
        "colab_type": "code",
        "colab": {}
      },
      "source": [
        "import category_encoders as ce\n",
        "from sklearn.impute import SimpleImputer\n",
        "from sklearn.tree import DecisionTreeClassifier\n",
        "from sklearn.ensemble import RandomForestClassifier\n",
        "from sklearn.pipeline import make_pipeline\n",
        "from sklearn.preprocessing import StandardScaler\n",
        "from sklearn.model_selection import RandomizedSearchCV\n",
        "import matplotlib.pyplot as plt"
      ],
      "execution_count": 0,
      "outputs": []
    },
    {
      "cell_type": "code",
      "metadata": {
        "id": "Z7cJcbkrpBrQ",
        "colab_type": "code",
        "outputId": "98e790a3-5b45-4d36-c16f-b9bd78e449ca",
        "colab": {
          "base_uri": "https://localhost:8080/",
          "height": 85
        }
      },
      "source": [
        "%%time\n",
        "pipeline = make_pipeline(\n",
        "    ce.OrdinalEncoder(),\n",
        "    StandardScaler(),\n",
        "    RandomForestClassifier(n_jobs=-1, random_state=17)\n",
        ")\n",
        "# run pipeline fit\n",
        "pipeline.fit(X_train, y_train)\n",
        "\n",
        "# Predict on test\n",
        "y_pred = pipeline.predict(X_test)\n",
        "\n",
        "print('Train Accuracy: ', pipeline.score(X_train, y_train))\n",
        "print('Validation Accuracy: ', pipeline.score(X_val, y_val))"
      ],
      "execution_count": 51,
      "outputs": [
        {
          "output_type": "stream",
          "text": [
            "Train Accuracy:  0.9974957912457912\n",
            "Validation Accuracy:  0.8046296296296296\n",
            "CPU times: user 16.7 s, sys: 271 ms, total: 17 s\n",
            "Wall time: 9.59 s\n"
          ],
          "name": "stdout"
        }
      ]
    },
    {
      "cell_type": "code",
      "metadata": {
        "id": "JGjaMVAJkouZ",
        "colab_type": "code",
        "colab": {
          "base_uri": "https://localhost:8080/",
          "height": 918
        },
        "outputId": "36487e6f-1e81-4ef7-bf89-8185417d0d08"
      },
      "source": [
        "# declare parameter distributions and run randomized search cross-validation\n",
        "param_distributions = {\n",
        "    'randomforestclassifier__n_estimators': [50, 75, 100, 125, 150, 175, 200],\n",
        "    'randomforestclassifier__max_depth': [16, 18, 20, 22, 24, 26],\n",
        "    'randomforestclassifier__min_samples_split': [None, 2, 4, 6, 8],\n",
        "    'randomforestclassifier__criterion': ['gini', 'entropy'],\n",
        "}\n",
        "\n",
        "search = RandomizedSearchCV(\n",
        "    pipeline,\n",
        "    param_distributions=param_distributions,\n",
        "    n_iter=10,\n",
        "    cv=5,\n",
        "    scoring='accuracy',\n",
        "    verbose=10,\n",
        "    return_train_score=True,\n",
        "    n_jobs=-1\n",
        ")\n",
        "\n",
        "search.fit(X_train, y_train)"
      ],
      "execution_count": 52,
      "outputs": [
        {
          "output_type": "stream",
          "text": [
            "Fitting 5 folds for each of 10 candidates, totalling 50 fits\n"
          ],
          "name": "stdout"
        },
        {
          "output_type": "stream",
          "text": [
            "[Parallel(n_jobs=-1)]: Using backend LokyBackend with 2 concurrent workers.\n",
            "[Parallel(n_jobs=-1)]: Done   1 tasks      | elapsed:   32.2s\n",
            "[Parallel(n_jobs=-1)]: Done   4 tasks      | elapsed:  1.1min\n",
            "[Parallel(n_jobs=-1)]: Done   9 tasks      | elapsed:  2.3min\n",
            "[Parallel(n_jobs=-1)]: Done  14 tasks      | elapsed:  2.4min\n",
            "[Parallel(n_jobs=-1)]: Done  21 tasks      | elapsed:  3.1min\n",
            "[Parallel(n_jobs=-1)]: Done  28 tasks      | elapsed:  3.5min\n",
            "[Parallel(n_jobs=-1)]: Done  37 tasks      | elapsed:  4.9min\n",
            "[Parallel(n_jobs=-1)]: Done  46 tasks      | elapsed:  5.8min\n",
            "[Parallel(n_jobs=-1)]: Done  50 out of  50 | elapsed:  6.1min finished\n"
          ],
          "name": "stderr"
        },
        {
          "output_type": "execute_result",
          "data": {
            "text/plain": [
              "RandomizedSearchCV(cv=5, error_score=nan,\n",
              "                   estimator=Pipeline(memory=None,\n",
              "                                      steps=[('ordinalencoder',\n",
              "                                              OrdinalEncoder(cols=['funder',\n",
              "                                                                   'installer',\n",
              "                                                                   'wpt_name',\n",
              "                                                                   'basin',\n",
              "                                                                   'subvillage',\n",
              "                                                                   'region',\n",
              "                                                                   'lga',\n",
              "                                                                   'ward',\n",
              "                                                                   'public_meeting',\n",
              "                                                                   'scheme_management',\n",
              "                                                                   'scheme_name',\n",
              "                                                                   'extraction_type',\n",
              "                                                                   'extraction_type_group',\n",
              "                                                                   'extraction_type_class',\n",
              "                                                                   'management',\n",
              "                                                                   'management_group',\n",
              "                                                                   'payment'...\n",
              "                   param_distributions={'randomforestclassifier__criterion': ['gini',\n",
              "                                                                              'entropy'],\n",
              "                                        'randomforestclassifier__max_depth': [16,\n",
              "                                                                              18,\n",
              "                                                                              20,\n",
              "                                                                              22,\n",
              "                                                                              24,\n",
              "                                                                              26],\n",
              "                                        'randomforestclassifier__min_samples_split': [None,\n",
              "                                                                                      2,\n",
              "                                                                                      4,\n",
              "                                                                                      6,\n",
              "                                                                                      8],\n",
              "                                        'randomforestclassifier__n_estimators': [50,\n",
              "                                                                                 75,\n",
              "                                                                                 100,\n",
              "                                                                                 125,\n",
              "                                                                                 150,\n",
              "                                                                                 175,\n",
              "                                                                                 200]},\n",
              "                   pre_dispatch='2*n_jobs', random_state=None, refit=True,\n",
              "                   return_train_score=True, scoring='accuracy', verbose=10)"
            ]
          },
          "metadata": {
            "tags": []
          },
          "execution_count": 52
        }
      ]
    },
    {
      "cell_type": "code",
      "metadata": {
        "id": "DK3M-ZVdoZTL",
        "colab_type": "code",
        "colab": {
          "base_uri": "https://localhost:8080/",
          "height": 71
        },
        "outputId": "c34e3765-8255-4999-d1f9-952798f8a31e"
      },
      "source": [
        "print('Best hyperparameters: ', search.best_params_)\n",
        "print('Cross-validation Accuracy: ', search.best_score_)\n",
        "\n",
        "#n_estimators=100, min_samples_split=4, criterion='entropy'\n",
        "pipeline_best = search.best_estimator_"
      ],
      "execution_count": 58,
      "outputs": [
        {
          "output_type": "stream",
          "text": [
            "Best hyperparameters:  {'randomforestclassifier__n_estimators': 100, 'randomforestclassifier__min_samples_split': 4, 'randomforestclassifier__max_depth': 22, 'randomforestclassifier__criterion': 'entropy'}\n",
            "Cross-validation Accuracy:  0.8073442760942762\n"
          ],
          "name": "stdout"
        }
      ]
    },
    {
      "cell_type": "code",
      "metadata": {
        "id": "CMJH1JYZxkkZ",
        "colab_type": "code",
        "colab": {
          "base_uri": "https://localhost:8080/",
          "height": 51
        },
        "outputId": "55332767-b10d-47fb-b719-f5cf74c4d1f4"
      },
      "source": [
        "pipeline_best.fit(X_train, y_train)\n",
        "\n",
        "y_pred = pipeline_best.predict(X_test)\n",
        "\n",
        "print('Pipeline-best Train Accuracy: ', pipeline_best.score(X_train, y_train))\n",
        "print('Pipeline-best Validation Accuracy: ', pipeline_best.score(X_val, y_val))"
      ],
      "execution_count": 59,
      "outputs": [
        {
          "output_type": "stream",
          "text": [
            "Pipeline-best Train Accuracy:  0.9466329966329966\n",
            "Pipeline-best Validation Accuracy:  0.8073232323232323\n"
          ],
          "name": "stdout"
        }
      ]
    },
    {
      "cell_type": "markdown",
      "metadata": {
        "id": "ENxL5BUsrg0W",
        "colab_type": "text"
      },
      "source": [
        "## Plot Feature Importances"
      ]
    },
    {
      "cell_type": "code",
      "metadata": {
        "id": "6oqfyeHHrqSu",
        "colab_type": "code",
        "colab": {}
      },
      "source": [
        "# model = pipeline.named_steps['randomforestclassifier']\n",
        "# encoder = pipeline.named_steps['ordinalencoder']\n",
        "# encoded_columns = encoder.transform(X_val).columns\n",
        "# importances = pd.Series(model.feature_importances_, encoded_columns)\n",
        "# plt.figure(figsize=(10,30))\n",
        "# importances.sort_values().plot.barh();"
      ],
      "execution_count": 0,
      "outputs": []
    },
    {
      "cell_type": "markdown",
      "metadata": {
        "id": "SK7fn-qMrxP0",
        "colab_type": "text"
      },
      "source": [
        "## Save to .csv and submit to Kaggle"
      ]
    },
    {
      "cell_type": "code",
      "metadata": {
        "id": "W9KBcjifrqWc",
        "colab_type": "code",
        "colab": {}
      },
      "source": [
        "sample_submission = pd.read_csv('sample_submission.csv')\n",
        "submission = sample_submission.copy()\n",
        "submission['status_group'] = y_pred\n",
        "submission.to_csv('submission.csv', index=False)"
      ],
      "execution_count": 0,
      "outputs": []
    },
    {
      "cell_type": "code",
      "metadata": {
        "id": "al5CT58IrurA",
        "colab_type": "code",
        "colab": {}
      },
      "source": [
        ""
      ],
      "execution_count": 0,
      "outputs": []
    }
  ]
}