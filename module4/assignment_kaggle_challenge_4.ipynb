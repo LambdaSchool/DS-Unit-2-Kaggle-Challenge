{
 "cells": [
  {
   "cell_type": "markdown",
   "metadata": {
    "colab_type": "text",
    "id": "nCc3XZEyG3XV"
   },
   "source": [
    "Lambda School Data Science, Unit 2: Predictive Modeling\n",
    "\n",
    "# Kaggle Challenge, Module 4\n",
    "\n",
    "## Assignment\n",
    "- [ ] If you haven't yet, [review requirements for your portfolio project](https://lambdaschool.github.io/ds/unit2), then submit your dataset.\n",
    "- [ ] Plot a confusion matrix for your Tanzania Waterpumps model.\n",
    "- [ ] Continue to participate in our Kaggle challenge. Every student should have made at least one submission that scores at least 60% accuracy (above the majority class baseline).\n",
    "- [ ] Submit your final predictions to our Kaggle competition. Optionally, go to **My Submissions**, and _\"you may select up to 1 submission to be used to count towards your final leaderboard score.\"_\n",
    "- [ ] Commit your notebook to your fork of the GitHub repo.\n",
    "- [ ] Read [Maximizing Scarce Maintenance Resources with Data: Applying predictive modeling, precision at k, and clustering to optimize impact](https://towardsdatascience.com/maximizing-scarce-maintenance-resources-with-data-8f3491133050), by Lambda DS3 student Michael Brady. His blog post extends the Tanzania Waterpumps scenario, far beyond what's in the lecture notebook.\n",
    "\n",
    "\n",
    "## Stretch Goals\n",
    "\n",
    "### Reading\n",
    "- [Attacking discrimination with smarter machine learning](https://research.google.com/bigpicture/attacking-discrimination-in-ml/), by Google Research, with  interactive visualizations. _\"A threshold classifier essentially makes a yes/no decision, putting things in one category or another. We look at how these classifiers work, ways they can potentially be unfair, and how you might turn an unfair classifier into a fairer one. As an illustrative example, we focus on loan granting scenarios where a bank may grant or deny a loan based on a single, automatically computed number such as a credit score.\"_\n",
    "- [Notebook about how to calculate expected value from a confusion matrix by treating it as a cost-benefit matrix](https://github.com/podopie/DAT18NYC/blob/master/classes/13-expected_value_cost_benefit_analysis.ipynb)\n",
    "- [Simple guide to confusion matrix terminology](https://www.dataschool.io/simple-guide-to-confusion-matrix-terminology/) by Kevin Markham, with video\n",
    "- [Visualizing Machine Learning Thresholds to Make Better Business Decisions](https://blog.insightdatascience.com/visualizing-machine-learning-thresholds-to-make-better-business-decisions-4ab07f823415)\n",
    "\n",
    "\n",
    "### Doing\n",
    "- [ ] Share visualizations in our Slack channel!\n",
    "- [ ] RandomizedSearchCV / GridSearchCV, for model selection. (See module 3 assignment notebook)\n",
    "- [ ] More Categorical Encoding. (See module 2 assignment notebook)\n",
    "- [ ] Stacking Ensemble. (See below)\n",
    "\n",
    "### Stacking Ensemble\n",
    "\n",
    "Here's some code you can use to \"stack\" multiple submissions, which is another form of ensembling:\n",
    "\n",
    "```python\n",
    "import pandas as pd\n",
    "\n",
    "# Filenames of your submissions you want to ensemble\n",
    "files = ['submission-01.csv', 'submission-02.csv', 'submission-03.csv']\n",
    "\n",
    "target = 'status_group'\n",
    "submissions = (pd.read_csv(file)[[target]] for file in files)\n",
    "ensemble = pd.concat(submissions, axis='columns')\n",
    "majority_vote = ensemble.mode(axis='columns')[0]\n",
    "\n",
    "sample_submission = pd.read_csv('sample_submission.csv')\n",
    "submission = sample_submission.copy()\n",
    "submission[target] = majority_vote\n",
    "submission.to_csv('my-ultimate-ensemble-submission.csv', index=False)\n",
    "```"
   ]
  },
  {
   "cell_type": "code",
   "execution_count": 1,
   "metadata": {
    "colab": {},
    "colab_type": "code",
    "id": "lsbRiKBoB5RE"
   },
   "outputs": [],
   "source": [
    "%%capture\n",
    "import sys\n",
    "\n",
    "# If you're on Colab:\n",
    "if 'google.colab' in sys.modules:\n",
    "    DATA_PATH = 'https://raw.githubusercontent.com/LambdaSchool/DS-Unit-2-Kaggle-Challenge/master/data/'\n",
    "    !pip install category_encoders==2.*\n",
    "\n",
    "# If you're working locally:\n",
    "else:\n",
    "    DATA_PATH = '../data/'"
   ]
  },
  {
   "cell_type": "code",
   "execution_count": 2,
   "metadata": {
    "colab": {},
    "colab_type": "code",
    "id": "BVA1lph8CcNX"
   },
   "outputs": [],
   "source": [
    "import pandas as pd\n",
    "\n",
    "# Merge train_features.csv & train_labels.csv\n",
    "train = pd.merge(pd.read_csv(DATA_PATH+'waterpumps/train_features.csv'), \n",
    "                 pd.read_csv(DATA_PATH+'waterpumps/train_labels.csv'))\n",
    "\n",
    "# Read test_features.csv & sample_submission.csv\n",
    "test = pd.read_csv(DATA_PATH+'waterpumps/test_features.csv')\n",
    "sample_submission = pd.read_csv(DATA_PATH+'waterpumps/sample_submission.csv')"
   ]
  },
  {
   "cell_type": "code",
   "execution_count": 61,
   "metadata": {},
   "outputs": [],
   "source": [
    "import category_encoders as ce\n",
    "import numpy as np\n",
    "from scipy.stats import randint, uniform\n",
    "from sklearn.impute import SimpleImputer\n",
    "from sklearn.model_selection import RandomizedSearchCV, train_test_split, GridSearchCV\n",
    "from sklearn.pipeline import make_pipeline\n",
    "from sklearn.preprocessing import StandardScaler\n",
    "from sklearn.ensemble import RandomForestClassifier\n",
    "from sklearn.metrics import confusion_matrix, classification_report\n",
    "from sklearn.utils.multiclass import unique_labels\n",
    "import seaborn as sns\n",
    "import matplotlib.pyplot as plt"
   ]
  },
  {
   "cell_type": "code",
   "execution_count": 13,
   "metadata": {},
   "outputs": [],
   "source": [
    "my_train, my_val = train_test_split(train, random_state=42)"
   ]
  },
  {
   "cell_type": "code",
   "execution_count": 14,
   "metadata": {},
   "outputs": [],
   "source": [
    "def wrangler(dataframe):\n",
    "    x = dataframe.copy()\n",
    "      # New Feature\n",
    "    x['date_recorded_year'] = x['date_recorded'].str[:4].astype(int)\n",
    "    x['years_before_service'] = x['date_recorded_year'] - x['construction_year']\n",
    "    x.loc[(x['years_before_service']<0) | (x['years_before_service']>100), 'years_before_service'] = np.nan\n",
    "\n",
    "      # Replace None, none, 0 with NaN values, and fix long/lat columns\n",
    "    features_replace = ['scheme_name', 'installer', 'funder', 'wpt_name', 'longitude', 'latitude']\n",
    "    x[features_replace] = x[features_replace].replace({'None':np.nan, 'none':np.nan, '0':np.nan, 0:np.nan, -2e-8:np.nan})\n",
    "\n",
    "      # Drop id\n",
    "    drops = ['id', 'recorded_by']\n",
    "    x = x.drop(drops, axis=1)\n",
    "\n",
    "    return x"
   ]
  },
  {
   "cell_type": "code",
   "execution_count": 15,
   "metadata": {},
   "outputs": [],
   "source": [
    "target = 'status_group'\n",
    "wrangled_train = wrangler(my_train)\n",
    "wrangled_val = wrangler(my_val)\n",
    "\n",
    "X_train = wrangled_train.drop(target, axis=1)\n",
    "X_val = wrangled_val.drop(target, axis=1)\n",
    "y_train = wrangled_train[target]\n",
    "y_val = wrangled_val[target]"
   ]
  },
  {
   "cell_type": "code",
   "execution_count": 16,
   "metadata": {},
   "outputs": [
    {
     "data": {
      "text/plain": [
       "0.811043771043771"
      ]
     },
     "execution_count": 16,
     "metadata": {},
     "output_type": "execute_result"
    }
   ],
   "source": [
    "# Using params from best submission in previous notebook\n",
    "pipeline = make_pipeline(\n",
    "    ce.OrdinalEncoder(handle_missing = 'value', handle_unknown = 'return_nan'),\n",
    "    SimpleImputer(strategy='mean'),\n",
    "    StandardScaler(),\n",
    "    RandomForestClassifier(max_depth = None, max_features = 0.0803875104989975, n_estimators = 962,random_state=42, n_jobs=-1)\n",
    ")\n",
    "pipeline.fit(X_train, y_train)\n",
    "pipeline.score(X_val, y_val)"
   ]
  },
  {
   "cell_type": "code",
   "execution_count": 17,
   "metadata": {},
   "outputs": [],
   "source": [
    "y_pred = pipeline.predict(X_val)"
   ]
  },
  {
   "cell_type": "markdown",
   "metadata": {},
   "source": [
    "## Build confusion matrix"
   ]
  },
  {
   "cell_type": "code",
   "execution_count": 19,
   "metadata": {},
   "outputs": [],
   "source": [
    "cmatrix = confusion_matrix(y_val,y_pred)"
   ]
  },
  {
   "cell_type": "code",
   "execution_count": 20,
   "metadata": {},
   "outputs": [
    {
     "data": {
      "text/plain": [
       "array([[7211,  194,  693],\n",
       "       [ 543,  386,  145],\n",
       "       [1137,   94, 4447]], dtype=int64)"
      ]
     },
     "execution_count": 20,
     "metadata": {},
     "output_type": "execute_result"
    }
   ],
   "source": [
    "cmatrix"
   ]
  },
  {
   "cell_type": "code",
   "execution_count": 23,
   "metadata": {},
   "outputs": [
    {
     "data": {
      "text/plain": [
       "(array(['functional', 'functional needs repair', 'non functional'],\n",
       "       dtype='<U23'),\n",
       " array(['functional', 'functional needs repair', 'non functional'],\n",
       "       dtype='<U23'))"
      ]
     },
     "execution_count": 23,
     "metadata": {},
     "output_type": "execute_result"
    }
   ],
   "source": [
    "unique_labels(y_pred), unique_labels(y_val)"
   ]
  },
  {
   "cell_type": "code",
   "execution_count": 56,
   "metadata": {},
   "outputs": [
    {
     "data": {
      "image/png": "[encoded data removed]",
      "text/plain": [
       "<Figure size 576x576 with 2 Axes>"
      ]
     },
     "metadata": {},
     "output_type": "display_data"
    }
   ],
   "source": [
    "labels = unique_labels(y_pred)\n",
    "columns = (f'Predicted {i}' for i in labels)\n",
    "index = (f'Actual {i}' for i in labels)\n",
    "\n",
    "with plt.style.context('fivethirtyeight'):\n",
    "    fig, ax = plt.subplots(figsize=(8,8))\n",
    "\n",
    "    sns.heatmap(cmatrix, ax=ax, annot=True, fmt='d', cmap='cividis')\n",
    "    ax.set_ylim(3,0)\n",
    "    ax.set_xlim(0,3)\n",
    "    ax.set_xticklabels(columns, rotation=45)\n",
    "    ax.set_yticklabels(index, rotation=0)"
   ]
  },
  {
   "cell_type": "code",
   "execution_count": 60,
   "metadata": {},
   "outputs": [
    {
     "name": "stdout",
     "output_type": "stream",
     "text": [
      "                         precision    recall  f1-score   support\n",
      "\n",
      "             functional       0.81      0.89      0.85      8098\n",
      "functional needs repair       0.57      0.36      0.44      1074\n",
      "         non functional       0.84      0.78      0.81      5678\n",
      "\n",
      "               accuracy                           0.81     14850\n",
      "              macro avg       0.74      0.68      0.70     14850\n",
      "           weighted avg       0.81      0.81      0.81     14850\n",
      "\n"
     ]
    }
   ],
   "source": [
    "class_report = classification_report(y_val, y_pred)\n",
    "print(class_report)"
   ]
  },
  {
   "cell_type": "markdown",
   "metadata": {},
   "source": [
    "## Never did gridsearchcv yesterday, let's try it"
   ]
  },
  {
   "cell_type": "code",
   "execution_count": 71,
   "metadata": {
    "scrolled": true
   },
   "outputs": [
    {
     "name": "stdout",
     "output_type": "stream",
     "text": [
      "Fitting 3 folds for each of 120 candidates, totalling 360 fits\n"
     ]
    },
    {
     "name": "stderr",
     "output_type": "stream",
     "text": [
      "[Parallel(n_jobs=-1)]: Using backend LokyBackend with 16 concurrent workers.\n",
      "[Parallel(n_jobs=-1)]: Done   1 tasks      | elapsed:    6.3s\n",
      "[Parallel(n_jobs=-1)]: Done   2 tasks      | elapsed:    6.4s\n",
      "[Parallel(n_jobs=-1)]: Done   3 tasks      | elapsed:    6.6s\n",
      "[Parallel(n_jobs=-1)]: Done   4 tasks      | elapsed:    7.2s\n",
      "[Parallel(n_jobs=-1)]: Done   5 tasks      | elapsed:    7.3s\n",
      "[Parallel(n_jobs=-1)]: Done   6 tasks      | elapsed:    7.5s\n",
      "[Parallel(n_jobs=-1)]: Done   7 tasks      | elapsed:    7.5s\n",
      "[Parallel(n_jobs=-1)]: Done   8 tasks      | elapsed:    7.5s\n",
      "[Parallel(n_jobs=-1)]: Done   9 tasks      | elapsed:    8.1s\n",
      "[Parallel(n_jobs=-1)]: Done  10 tasks      | elapsed:   18.4s\n",
      "[Parallel(n_jobs=-1)]: Done  11 tasks      | elapsed:   18.7s\n",
      "[Parallel(n_jobs=-1)]: Done  12 tasks      | elapsed:   18.7s\n",
      "[Parallel(n_jobs=-1)]: Done  13 tasks      | elapsed:   19.1s\n",
      "[Parallel(n_jobs=-1)]: Done  14 tasks      | elapsed:   19.4s\n",
      "[Parallel(n_jobs=-1)]: Done  15 tasks      | elapsed:   19.5s\n",
      "[Parallel(n_jobs=-1)]: Done  16 tasks      | elapsed:   21.0s\n",
      "[Parallel(n_jobs=-1)]: Done  17 tasks      | elapsed:   21.4s\n",
      "[Parallel(n_jobs=-1)]: Done  18 tasks      | elapsed:   23.5s\n",
      "[Parallel(n_jobs=-1)]: Done  19 tasks      | elapsed:   32.9s\n",
      "[Parallel(n_jobs=-1)]: Done  20 tasks      | elapsed:   34.5s\n",
      "[Parallel(n_jobs=-1)]: Done  21 tasks      | elapsed:   34.5s\n",
      "[Parallel(n_jobs=-1)]: Done  22 tasks      | elapsed:   34.9s\n",
      "[Parallel(n_jobs=-1)]: Done  23 tasks      | elapsed:   35.3s\n",
      "[Parallel(n_jobs=-1)]: Done  24 tasks      | elapsed:   36.3s\n",
      "[Parallel(n_jobs=-1)]: Done  25 tasks      | elapsed:   38.8s\n",
      "[Parallel(n_jobs=-1)]: Done  26 tasks      | elapsed:   44.9s\n",
      "[Parallel(n_jobs=-1)]: Done  27 tasks      | elapsed:   46.8s\n",
      "[Parallel(n_jobs=-1)]: Done  28 tasks      | elapsed:   58.9s\n",
      "[Parallel(n_jobs=-1)]: Done  29 tasks      | elapsed:   59.4s\n",
      "[Parallel(n_jobs=-1)]: Done  30 tasks      | elapsed:  1.0min\n",
      "[Parallel(n_jobs=-1)]: Done  31 tasks      | elapsed:  1.0min\n",
      "[Parallel(n_jobs=-1)]: Done  32 tasks      | elapsed:  1.0min\n",
      "[Parallel(n_jobs=-1)]: Done  33 tasks      | elapsed:  1.1min\n",
      "[Parallel(n_jobs=-1)]: Done  34 tasks      | elapsed:  1.1min\n",
      "[Parallel(n_jobs=-1)]: Done  35 tasks      | elapsed:  1.2min\n",
      "[Parallel(n_jobs=-1)]: Done  36 tasks      | elapsed:  1.2min\n",
      "[Parallel(n_jobs=-1)]: Done  37 tasks      | elapsed:  1.4min\n",
      "[Parallel(n_jobs=-1)]: Done  38 tasks      | elapsed:  1.4min\n",
      "[Parallel(n_jobs=-1)]: Done  39 tasks      | elapsed:  1.5min\n",
      "[Parallel(n_jobs=-1)]: Done  40 tasks      | elapsed:  1.5min\n",
      "[Parallel(n_jobs=-1)]: Done  41 tasks      | elapsed:  1.6min\n",
      "[Parallel(n_jobs=-1)]: Done  42 tasks      | elapsed:  1.6min\n",
      "[Parallel(n_jobs=-1)]: Done  43 tasks      | elapsed:  1.6min\n",
      "[Parallel(n_jobs=-1)]: Done  44 tasks      | elapsed:  1.8min\n",
      "[Parallel(n_jobs=-1)]: Done  45 tasks      | elapsed:  1.8min\n",
      "[Parallel(n_jobs=-1)]: Done  46 tasks      | elapsed:  2.0min\n",
      "[Parallel(n_jobs=-1)]: Done  47 tasks      | elapsed:  2.1min\n",
      "[Parallel(n_jobs=-1)]: Done  48 tasks      | elapsed:  2.1min\n",
      "[Parallel(n_jobs=-1)]: Done  49 tasks      | elapsed:  2.1min\n",
      "[Parallel(n_jobs=-1)]: Done  50 tasks      | elapsed:  2.2min\n",
      "[Parallel(n_jobs=-1)]: Done  51 tasks      | elapsed:  2.3min\n",
      "[Parallel(n_jobs=-1)]: Done  52 tasks      | elapsed:  2.3min\n",
      "[Parallel(n_jobs=-1)]: Done  53 tasks      | elapsed:  2.5min\n",
      "[Parallel(n_jobs=-1)]: Done  54 tasks      | elapsed:  2.6min\n",
      "[Parallel(n_jobs=-1)]: Done  55 tasks      | elapsed:  2.7min\n",
      "[Parallel(n_jobs=-1)]: Done  56 tasks      | elapsed:  2.8min\n",
      "[Parallel(n_jobs=-1)]: Done  57 tasks      | elapsed:  2.9min\n",
      "[Parallel(n_jobs=-1)]: Done  58 tasks      | elapsed:  2.9min\n",
      "[Parallel(n_jobs=-1)]: Done  59 tasks      | elapsed:  2.9min\n",
      "[Parallel(n_jobs=-1)]: Done  60 tasks      | elapsed:  3.1min\n",
      "[Parallel(n_jobs=-1)]: Done  61 tasks      | elapsed:  3.1min\n",
      "[Parallel(n_jobs=-1)]: Done  62 tasks      | elapsed:  3.3min\n",
      "[Parallel(n_jobs=-1)]: Done  63 tasks      | elapsed:  3.3min\n",
      "[Parallel(n_jobs=-1)]: Done  64 tasks      | elapsed:  3.7min\n",
      "[Parallel(n_jobs=-1)]: Done  65 tasks      | elapsed:  3.7min\n",
      "[Parallel(n_jobs=-1)]: Done  66 tasks      | elapsed:  3.7min\n",
      "[Parallel(n_jobs=-1)]: Done  67 tasks      | elapsed:  3.8min\n",
      "[Parallel(n_jobs=-1)]: Done  68 tasks      | elapsed:  3.8min\n",
      "[Parallel(n_jobs=-1)]: Done  69 tasks      | elapsed:  4.0min\n",
      "[Parallel(n_jobs=-1)]: Done  70 tasks      | elapsed:  4.0min\n",
      "[Parallel(n_jobs=-1)]: Done  71 tasks      | elapsed:  4.2min\n",
      "[Parallel(n_jobs=-1)]: Done  72 tasks      | elapsed:  4.3min\n",
      "[Parallel(n_jobs=-1)]: Done  73 tasks      | elapsed:  4.5min\n",
      "[Parallel(n_jobs=-1)]: Done  74 tasks      | elapsed:  4.6min\n",
      "[Parallel(n_jobs=-1)]: Done  75 tasks      | elapsed:  4.7min\n",
      "[Parallel(n_jobs=-1)]: Done  76 tasks      | elapsed:  4.7min\n",
      "[Parallel(n_jobs=-1)]: Done  77 tasks      | elapsed:  4.7min\n",
      "[Parallel(n_jobs=-1)]: Done  78 tasks      | elapsed:  4.8min\n",
      "[Parallel(n_jobs=-1)]: Done  79 tasks      | elapsed:  4.8min\n",
      "[Parallel(n_jobs=-1)]: Done  80 tasks      | elapsed:  4.8min\n",
      "[Parallel(n_jobs=-1)]: Done  81 tasks      | elapsed:  4.8min\n",
      "[Parallel(n_jobs=-1)]: Done  82 tasks      | elapsed:  4.8min\n",
      "[Parallel(n_jobs=-1)]: Done  83 tasks      | elapsed:  4.9min\n",
      "[Parallel(n_jobs=-1)]: Done  84 tasks      | elapsed:  4.9min\n",
      "[Parallel(n_jobs=-1)]: Done  85 tasks      | elapsed:  4.9min\n",
      "[Parallel(n_jobs=-1)]: Done  86 tasks      | elapsed:  4.9min\n",
      "[Parallel(n_jobs=-1)]: Done  87 tasks      | elapsed:  5.0min\n",
      "[Parallel(n_jobs=-1)]: Done  88 tasks      | elapsed:  5.1min\n",
      "[Parallel(n_jobs=-1)]: Done  89 tasks      | elapsed:  5.1min\n",
      "[Parallel(n_jobs=-1)]: Done  90 tasks      | elapsed:  5.1min\n",
      "[Parallel(n_jobs=-1)]: Done  91 tasks      | elapsed:  5.1min\n",
      "[Parallel(n_jobs=-1)]: Done  92 tasks      | elapsed:  5.3min\n",
      "[Parallel(n_jobs=-1)]: Done  93 tasks      | elapsed:  5.3min\n",
      "[Parallel(n_jobs=-1)]: Done  94 tasks      | elapsed:  5.4min\n",
      "[Parallel(n_jobs=-1)]: Done  95 tasks      | elapsed:  5.4min\n",
      "[Parallel(n_jobs=-1)]: Done  96 tasks      | elapsed:  5.4min\n",
      "[Parallel(n_jobs=-1)]: Done  97 tasks      | elapsed:  5.5min\n",
      "[Parallel(n_jobs=-1)]: Done  98 tasks      | elapsed:  5.5min\n",
      "[Parallel(n_jobs=-1)]: Done  99 tasks      | elapsed:  5.6min\n",
      "[Parallel(n_jobs=-1)]: Done 100 tasks      | elapsed:  5.6min\n",
      "[Parallel(n_jobs=-1)]: Done 101 tasks      | elapsed:  5.8min\n",
      "[Parallel(n_jobs=-1)]: Done 102 tasks      | elapsed:  5.8min\n",
      "[Parallel(n_jobs=-1)]: Done 103 tasks      | elapsed:  5.8min\n",
      "[Parallel(n_jobs=-1)]: Done 104 tasks      | elapsed:  5.8min\n",
      "[Parallel(n_jobs=-1)]: Done 105 tasks      | elapsed:  5.9min\n",
      "[Parallel(n_jobs=-1)]: Done 106 tasks      | elapsed:  5.9min\n",
      "[Parallel(n_jobs=-1)]: Done 107 tasks      | elapsed:  5.9min\n",
      "[Parallel(n_jobs=-1)]: Done 108 tasks      | elapsed:  6.0min\n",
      "[Parallel(n_jobs=-1)]: Done 109 tasks      | elapsed:  6.0min\n",
      "[Parallel(n_jobs=-1)]: Done 110 tasks      | elapsed:  6.0min\n",
      "[Parallel(n_jobs=-1)]: Done 111 tasks      | elapsed:  6.0min\n",
      "[Parallel(n_jobs=-1)]: Done 112 tasks      | elapsed:  6.1min\n",
      "[Parallel(n_jobs=-1)]: Done 113 tasks      | elapsed:  6.1min\n",
      "[Parallel(n_jobs=-1)]: Done 114 tasks      | elapsed:  6.3min\n",
      "[Parallel(n_jobs=-1)]: Done 115 tasks      | elapsed:  6.4min\n",
      "[Parallel(n_jobs=-1)]: Done 116 tasks      | elapsed:  6.5min\n",
      "[Parallel(n_jobs=-1)]: Done 117 tasks      | elapsed:  6.5min\n",
      "[Parallel(n_jobs=-1)]: Done 118 tasks      | elapsed:  6.5min\n",
      "[Parallel(n_jobs=-1)]: Done 119 tasks      | elapsed:  6.5min\n",
      "[Parallel(n_jobs=-1)]: Done 120 tasks      | elapsed:  6.5min\n",
      "[Parallel(n_jobs=-1)]: Done 121 tasks      | elapsed:  6.6min\n",
      "[Parallel(n_jobs=-1)]: Done 122 tasks      | elapsed:  6.6min\n",
      "[Parallel(n_jobs=-1)]: Done 123 tasks      | elapsed:  6.6min\n",
      "[Parallel(n_jobs=-1)]: Done 124 tasks      | elapsed:  6.6min\n",
      "[Parallel(n_jobs=-1)]: Done 125 tasks      | elapsed:  6.7min\n",
      "[Parallel(n_jobs=-1)]: Done 126 tasks      | elapsed:  6.7min\n",
      "[Parallel(n_jobs=-1)]: Done 127 tasks      | elapsed:  6.9min\n",
      "[Parallel(n_jobs=-1)]: Done 128 tasks      | elapsed:  7.0min\n",
      "[Parallel(n_jobs=-1)]: Done 129 tasks      | elapsed:  7.0min\n",
      "[Parallel(n_jobs=-1)]: Done 130 tasks      | elapsed:  7.2min\n",
      "[Parallel(n_jobs=-1)]: Done 131 tasks      | elapsed:  7.3min\n",
      "[Parallel(n_jobs=-1)]: Done 132 tasks      | elapsed:  7.4min\n",
      "[Parallel(n_jobs=-1)]: Done 133 tasks      | elapsed:  7.4min\n",
      "[Parallel(n_jobs=-1)]: Done 134 tasks      | elapsed:  7.4min\n",
      "[Parallel(n_jobs=-1)]: Done 135 tasks      | elapsed:  7.4min\n",
      "[Parallel(n_jobs=-1)]: Done 136 tasks      | elapsed:  7.6min\n",
      "[Parallel(n_jobs=-1)]: Done 137 tasks      | elapsed:  7.6min\n",
      "[Parallel(n_jobs=-1)]: Done 138 tasks      | elapsed:  7.7min\n",
      "[Parallel(n_jobs=-1)]: Done 139 tasks      | elapsed:  7.7min\n",
      "[Parallel(n_jobs=-1)]: Done 140 tasks      | elapsed:  7.7min\n",
      "[Parallel(n_jobs=-1)]: Done 141 tasks      | elapsed:  7.7min\n",
      "[Parallel(n_jobs=-1)]: Done 142 tasks      | elapsed:  7.8min\n",
      "[Parallel(n_jobs=-1)]: Done 143 tasks      | elapsed:  8.0min\n",
      "[Parallel(n_jobs=-1)]: Done 144 tasks      | elapsed:  8.1min\n",
      "[Parallel(n_jobs=-1)]: Done 145 tasks      | elapsed:  8.2min\n",
      "[Parallel(n_jobs=-1)]: Done 146 tasks      | elapsed:  8.6min\n",
      "[Parallel(n_jobs=-1)]: Done 147 tasks      | elapsed:  8.7min\n",
      "[Parallel(n_jobs=-1)]: Done 148 tasks      | elapsed:  8.7min\n",
      "[Parallel(n_jobs=-1)]: Done 149 tasks      | elapsed:  8.7min\n",
      "[Parallel(n_jobs=-1)]: Done 150 tasks      | elapsed:  8.7min\n",
      "[Parallel(n_jobs=-1)]: Done 151 tasks      | elapsed:  8.8min\n",
      "[Parallel(n_jobs=-1)]: Done 152 tasks      | elapsed:  8.9min\n",
      "[Parallel(n_jobs=-1)]: Done 153 tasks      | elapsed:  8.9min\n",
      "[Parallel(n_jobs=-1)]: Done 154 tasks      | elapsed:  9.2min\n",
      "[Parallel(n_jobs=-1)]: Done 155 tasks      | elapsed:  9.2min\n",
      "[Parallel(n_jobs=-1)]: Done 156 tasks      | elapsed:  9.2min\n",
      "[Parallel(n_jobs=-1)]: Done 157 tasks      | elapsed:  9.3min\n",
      "[Parallel(n_jobs=-1)]: Done 158 tasks      | elapsed:  9.4min\n",
      "[Parallel(n_jobs=-1)]: Done 159 tasks      | elapsed:  9.6min\n",
      "[Parallel(n_jobs=-1)]: Done 160 tasks      | elapsed:  9.6min\n",
      "[Parallel(n_jobs=-1)]: Done 161 tasks      | elapsed:  9.8min\n",
      "[Parallel(n_jobs=-1)]: Done 162 tasks      | elapsed: 10.2min\n",
      "[Parallel(n_jobs=-1)]: Done 163 tasks      | elapsed: 10.4min\n",
      "[Parallel(n_jobs=-1)]: Done 164 tasks      | elapsed: 10.4min\n",
      "[Parallel(n_jobs=-1)]: Done 165 tasks      | elapsed: 10.5min\n",
      "[Parallel(n_jobs=-1)]: Done 166 tasks      | elapsed: 10.5min\n",
      "[Parallel(n_jobs=-1)]: Done 167 tasks      | elapsed: 10.6min\n",
      "[Parallel(n_jobs=-1)]: Done 168 tasks      | elapsed: 10.6min\n",
      "[Parallel(n_jobs=-1)]: Done 169 tasks      | elapsed: 10.6min\n",
      "[Parallel(n_jobs=-1)]: Done 170 tasks      | elapsed: 10.6min\n",
      "[Parallel(n_jobs=-1)]: Done 171 tasks      | elapsed: 10.6min\n",
      "[Parallel(n_jobs=-1)]: Done 172 tasks      | elapsed: 10.7min\n",
      "[Parallel(n_jobs=-1)]: Done 173 tasks      | elapsed: 10.7min\n",
      "[Parallel(n_jobs=-1)]: Done 174 tasks      | elapsed: 10.7min\n",
      "[Parallel(n_jobs=-1)]: Done 175 tasks      | elapsed: 10.7min\n",
      "[Parallel(n_jobs=-1)]: Done 176 tasks      | elapsed: 10.7min\n",
      "[Parallel(n_jobs=-1)]: Done 177 tasks      | elapsed: 10.7min\n",
      "[Parallel(n_jobs=-1)]: Done 178 tasks      | elapsed: 10.7min\n",
      "[Parallel(n_jobs=-1)]: Done 179 tasks      | elapsed: 10.9min\n",
      "[Parallel(n_jobs=-1)]: Done 180 tasks      | elapsed: 10.9min\n",
      "[Parallel(n_jobs=-1)]: Done 181 tasks      | elapsed: 10.9min\n",
      "[Parallel(n_jobs=-1)]: Done 182 tasks      | elapsed: 10.9min\n",
      "[Parallel(n_jobs=-1)]: Done 183 tasks      | elapsed: 10.9min\n",
      "[Parallel(n_jobs=-1)]: Done 184 tasks      | elapsed: 11.0min\n",
      "[Parallel(n_jobs=-1)]: Done 185 tasks      | elapsed: 11.0min\n",
      "[Parallel(n_jobs=-1)]: Done 186 tasks      | elapsed: 11.2min\n",
      "[Parallel(n_jobs=-1)]: Done 187 tasks      | elapsed: 11.2min\n",
      "[Parallel(n_jobs=-1)]: Done 188 tasks      | elapsed: 11.2min\n",
      "[Parallel(n_jobs=-1)]: Done 189 tasks      | elapsed: 11.2min\n",
      "[Parallel(n_jobs=-1)]: Done 190 tasks      | elapsed: 11.3min\n",
      "[Parallel(n_jobs=-1)]: Done 191 tasks      | elapsed: 11.4min\n",
      "[Parallel(n_jobs=-1)]: Done 192 tasks      | elapsed: 11.4min\n",
      "[Parallel(n_jobs=-1)]: Done 193 tasks      | elapsed: 11.4min\n",
      "[Parallel(n_jobs=-1)]: Done 194 tasks      | elapsed: 11.4min\n",
      "[Parallel(n_jobs=-1)]: Done 195 tasks      | elapsed: 11.5min\n",
      "[Parallel(n_jobs=-1)]: Done 196 tasks      | elapsed: 11.5min\n",
      "[Parallel(n_jobs=-1)]: Done 197 tasks      | elapsed: 11.6min\n",
      "[Parallel(n_jobs=-1)]: Done 198 tasks      | elapsed: 11.6min\n",
      "[Parallel(n_jobs=-1)]: Done 199 tasks      | elapsed: 11.7min\n",
      "[Parallel(n_jobs=-1)]: Done 200 tasks      | elapsed: 11.7min\n",
      "[Parallel(n_jobs=-1)]: Done 201 tasks      | elapsed: 11.7min\n",
      "[Parallel(n_jobs=-1)]: Done 202 tasks      | elapsed: 11.7min\n",
      "[Parallel(n_jobs=-1)]: Done 203 tasks      | elapsed: 11.8min\n",
      "[Parallel(n_jobs=-1)]: Done 204 tasks      | elapsed: 11.8min\n",
      "[Parallel(n_jobs=-1)]: Done 205 tasks      | elapsed: 12.1min\n",
      "[Parallel(n_jobs=-1)]: Done 206 tasks      | elapsed: 12.1min\n",
      "[Parallel(n_jobs=-1)]: Done 207 tasks      | elapsed: 12.1min\n",
      "[Parallel(n_jobs=-1)]: Done 208 tasks      | elapsed: 12.1min\n",
      "[Parallel(n_jobs=-1)]: Done 209 tasks      | elapsed: 12.1min\n",
      "[Parallel(n_jobs=-1)]: Done 210 tasks      | elapsed: 12.2min\n",
      "[Parallel(n_jobs=-1)]: Done 211 tasks      | elapsed: 12.3min\n",
      "[Parallel(n_jobs=-1)]: Done 212 tasks      | elapsed: 12.3min\n",
      "[Parallel(n_jobs=-1)]: Done 213 tasks      | elapsed: 12.3min\n",
      "[Parallel(n_jobs=-1)]: Done 214 tasks      | elapsed: 12.3min\n",
      "[Parallel(n_jobs=-1)]: Done 215 tasks      | elapsed: 12.4min\n",
      "[Parallel(n_jobs=-1)]: Done 216 tasks      | elapsed: 12.4min\n",
      "[Parallel(n_jobs=-1)]: Done 217 tasks      | elapsed: 12.5min\n",
      "[Parallel(n_jobs=-1)]: Done 218 tasks      | elapsed: 12.5min\n",
      "[Parallel(n_jobs=-1)]: Done 219 tasks      | elapsed: 12.6min\n",
      "[Parallel(n_jobs=-1)]: Done 220 tasks      | elapsed: 12.8min\n",
      "[Parallel(n_jobs=-1)]: Done 221 tasks      | elapsed: 13.0min\n",
      "[Parallel(n_jobs=-1)]: Done 222 tasks      | elapsed: 13.0min\n",
      "[Parallel(n_jobs=-1)]: Done 223 tasks      | elapsed: 13.0min\n",
      "[Parallel(n_jobs=-1)]: Done 224 tasks      | elapsed: 13.0min\n",
      "[Parallel(n_jobs=-1)]: Done 225 tasks      | elapsed: 13.0min\n",
      "[Parallel(n_jobs=-1)]: Done 226 tasks      | elapsed: 13.2min\n",
      "[Parallel(n_jobs=-1)]: Done 227 tasks      | elapsed: 13.4min\n",
      "[Parallel(n_jobs=-1)]: Done 228 tasks      | elapsed: 13.4min\n",
      "[Parallel(n_jobs=-1)]: Done 229 tasks      | elapsed: 13.4min\n",
      "[Parallel(n_jobs=-1)]: Done 230 tasks      | elapsed: 13.5min\n",
      "[Parallel(n_jobs=-1)]: Done 231 tasks      | elapsed: 13.5min\n",
      "[Parallel(n_jobs=-1)]: Done 232 tasks      | elapsed: 13.5min\n",
      "[Parallel(n_jobs=-1)]: Done 233 tasks      | elapsed: 13.6min\n",
      "[Parallel(n_jobs=-1)]: Done 234 tasks      | elapsed: 13.7min\n",
      "[Parallel(n_jobs=-1)]: Done 235 tasks      | elapsed: 13.9min\n",
      "[Parallel(n_jobs=-1)]: Done 236 tasks      | elapsed: 14.1min\n",
      "[Parallel(n_jobs=-1)]: Done 237 tasks      | elapsed: 14.2min\n",
      "[Parallel(n_jobs=-1)]: Done 238 tasks      | elapsed: 14.3min\n",
      "[Parallel(n_jobs=-1)]: Done 239 tasks      | elapsed: 14.3min\n",
      "[Parallel(n_jobs=-1)]: Done 240 tasks      | elapsed: 14.4min\n",
      "[Parallel(n_jobs=-1)]: Done 241 tasks      | elapsed: 14.4min\n",
      "[Parallel(n_jobs=-1)]: Done 242 tasks      | elapsed: 14.5min\n",
      "[Parallel(n_jobs=-1)]: Done 243 tasks      | elapsed: 14.6min\n",
      "[Parallel(n_jobs=-1)]: Done 244 tasks      | elapsed: 14.8min\n",
      "[Parallel(n_jobs=-1)]: Done 245 tasks      | elapsed: 14.8min\n",
      "[Parallel(n_jobs=-1)]: Done 246 tasks      | elapsed: 14.8min\n",
      "[Parallel(n_jobs=-1)]: Done 247 tasks      | elapsed: 14.9min\n",
      "[Parallel(n_jobs=-1)]: Done 248 tasks      | elapsed: 15.0min\n",
      "[Parallel(n_jobs=-1)]: Done 249 tasks      | elapsed: 15.1min\n",
      "[Parallel(n_jobs=-1)]: Done 250 tasks      | elapsed: 15.2min\n",
      "[Parallel(n_jobs=-1)]: Done 251 tasks      | elapsed: 15.4min\n",
      "[Parallel(n_jobs=-1)]: Done 252 tasks      | elapsed: 15.8min\n",
      "[Parallel(n_jobs=-1)]: Done 253 tasks      | elapsed: 15.9min\n",
      "[Parallel(n_jobs=-1)]: Done 254 tasks      | elapsed: 15.9min\n",
      "[Parallel(n_jobs=-1)]: Done 255 tasks      | elapsed: 16.0min\n",
      "[Parallel(n_jobs=-1)]: Done 256 tasks      | elapsed: 16.1min\n",
      "[Parallel(n_jobs=-1)]: Done 257 tasks      | elapsed: 16.1min\n",
      "[Parallel(n_jobs=-1)]: Done 258 tasks      | elapsed: 16.1min\n",
      "[Parallel(n_jobs=-1)]: Done 259 tasks      | elapsed: 16.1min\n",
      "[Parallel(n_jobs=-1)]: Done 260 tasks      | elapsed: 16.2min\n",
      "[Parallel(n_jobs=-1)]: Done 261 tasks      | elapsed: 16.2min\n",
      "[Parallel(n_jobs=-1)]: Done 262 tasks      | elapsed: 16.2min\n",
      "[Parallel(n_jobs=-1)]: Done 263 tasks      | elapsed: 16.2min\n",
      "[Parallel(n_jobs=-1)]: Done 264 tasks      | elapsed: 16.2min\n",
      "[Parallel(n_jobs=-1)]: Done 265 tasks      | elapsed: 16.2min\n",
      "[Parallel(n_jobs=-1)]: Done 266 tasks      | elapsed: 16.2min\n",
      "[Parallel(n_jobs=-1)]: Done 267 tasks      | elapsed: 16.3min\n",
      "[Parallel(n_jobs=-1)]: Done 268 tasks      | elapsed: 16.3min\n",
      "[Parallel(n_jobs=-1)]: Done 269 tasks      | elapsed: 16.4min\n",
      "[Parallel(n_jobs=-1)]: Done 270 tasks      | elapsed: 16.5min\n",
      "[Parallel(n_jobs=-1)]: Done 271 tasks      | elapsed: 16.5min\n",
      "[Parallel(n_jobs=-1)]: Done 272 tasks      | elapsed: 16.5min\n",
      "[Parallel(n_jobs=-1)]: Done 273 tasks      | elapsed: 16.5min\n",
      "[Parallel(n_jobs=-1)]: Done 274 tasks      | elapsed: 16.6min\n",
      "[Parallel(n_jobs=-1)]: Done 275 tasks      | elapsed: 16.6min\n",
      "[Parallel(n_jobs=-1)]: Done 276 tasks      | elapsed: 16.7min\n",
      "[Parallel(n_jobs=-1)]: Done 277 tasks      | elapsed: 16.8min\n",
      "[Parallel(n_jobs=-1)]: Done 278 tasks      | elapsed: 16.8min\n",
      "[Parallel(n_jobs=-1)]: Done 279 tasks      | elapsed: 16.8min\n",
      "[Parallel(n_jobs=-1)]: Done 280 tasks      | elapsed: 16.8min\n",
      "[Parallel(n_jobs=-1)]: Done 281 tasks      | elapsed: 16.9min\n",
      "[Parallel(n_jobs=-1)]: Done 282 tasks      | elapsed: 17.0min\n",
      "[Parallel(n_jobs=-1)]: Done 283 tasks      | elapsed: 17.1min\n",
      "[Parallel(n_jobs=-1)]: Done 284 tasks      | elapsed: 17.1min\n",
      "[Parallel(n_jobs=-1)]: Done 285 tasks      | elapsed: 17.1min\n",
      "[Parallel(n_jobs=-1)]: Done 286 tasks      | elapsed: 17.1min\n",
      "[Parallel(n_jobs=-1)]: Done 287 tasks      | elapsed: 17.2min\n",
      "[Parallel(n_jobs=-1)]: Done 288 tasks      | elapsed: 17.3min\n",
      "[Parallel(n_jobs=-1)]: Done 289 tasks      | elapsed: 17.3min\n",
      "[Parallel(n_jobs=-1)]: Done 290 tasks      | elapsed: 17.3min\n",
      "[Parallel(n_jobs=-1)]: Done 291 tasks      | elapsed: 17.3min\n",
      "[Parallel(n_jobs=-1)]: Done 292 tasks      | elapsed: 17.3min\n",
      "[Parallel(n_jobs=-1)]: Done 293 tasks      | elapsed: 17.4min\n",
      "[Parallel(n_jobs=-1)]: Done 294 tasks      | elapsed: 17.6min\n",
      "[Parallel(n_jobs=-1)]: Done 295 tasks      | elapsed: 17.7min\n",
      "[Parallel(n_jobs=-1)]: Done 296 tasks      | elapsed: 17.8min\n",
      "[Parallel(n_jobs=-1)]: Done 297 tasks      | elapsed: 17.8min\n",
      "[Parallel(n_jobs=-1)]: Done 298 tasks      | elapsed: 17.8min\n",
      "[Parallel(n_jobs=-1)]: Done 299 tasks      | elapsed: 17.8min\n",
      "[Parallel(n_jobs=-1)]: Done 300 tasks      | elapsed: 17.9min\n",
      "[Parallel(n_jobs=-1)]: Done 301 tasks      | elapsed: 17.9min\n",
      "[Parallel(n_jobs=-1)]: Done 302 tasks      | elapsed: 17.9min\n",
      "[Parallel(n_jobs=-1)]: Done 303 tasks      | elapsed: 18.0min\n",
      "[Parallel(n_jobs=-1)]: Done 304 tasks      | elapsed: 18.0min\n",
      "[Parallel(n_jobs=-1)]: Done 305 tasks      | elapsed: 18.0min\n",
      "[Parallel(n_jobs=-1)]: Done 306 tasks      | elapsed: 18.1min\n",
      "[Parallel(n_jobs=-1)]: Done 307 tasks      | elapsed: 18.3min\n",
      "[Parallel(n_jobs=-1)]: Done 308 tasks      | elapsed: 18.3min\n",
      "[Parallel(n_jobs=-1)]: Done 309 tasks      | elapsed: 18.3min\n",
      "[Parallel(n_jobs=-1)]: Done 310 tasks      | elapsed: 18.6min\n",
      "[Parallel(n_jobs=-1)]: Done 311 tasks      | elapsed: 18.6min\n",
      "[Parallel(n_jobs=-1)]: Done 312 tasks      | elapsed: 18.7min\n",
      "[Parallel(n_jobs=-1)]: Done 313 tasks      | elapsed: 18.7min\n",
      "[Parallel(n_jobs=-1)]: Done 314 tasks      | elapsed: 18.7min\n",
      "[Parallel(n_jobs=-1)]: Done 315 tasks      | elapsed: 18.9min\n",
      "[Parallel(n_jobs=-1)]: Done 316 tasks      | elapsed: 19.1min\n",
      "[Parallel(n_jobs=-1)]: Done 317 tasks      | elapsed: 19.1min\n",
      "[Parallel(n_jobs=-1)]: Done 318 tasks      | elapsed: 19.1min\n",
      "[Parallel(n_jobs=-1)]: Done 319 tasks      | elapsed: 19.1min\n",
      "[Parallel(n_jobs=-1)]: Done 320 tasks      | elapsed: 19.2min\n",
      "[Parallel(n_jobs=-1)]: Done 321 tasks      | elapsed: 19.2min\n",
      "[Parallel(n_jobs=-1)]: Done 322 tasks      | elapsed: 19.4min\n",
      "[Parallel(n_jobs=-1)]: Done 323 tasks      | elapsed: 19.4min\n",
      "[Parallel(n_jobs=-1)]: Done 324 tasks      | elapsed: 19.5min\n",
      "[Parallel(n_jobs=-1)]: Done 325 tasks      | elapsed: 19.8min\n",
      "[Parallel(n_jobs=-1)]: Done 326 tasks      | elapsed: 19.9min\n",
      "[Parallel(n_jobs=-1)]: Done 327 tasks      | elapsed: 20.0min\n",
      "[Parallel(n_jobs=-1)]: Done 328 tasks      | elapsed: 20.0min\n",
      "[Parallel(n_jobs=-1)]: Done 329 tasks      | elapsed: 20.0min\n",
      "[Parallel(n_jobs=-1)]: Done 354 out of 360 | elapsed: 22.6min remaining:   22.9s\n",
      "[Parallel(n_jobs=-1)]: Done 360 out of 360 | elapsed: 23.1min finished\n"
     ]
    },
    {
     "data": {
      "text/plain": [
       "GridSearchCV(cv=3, error_score='raise-deprecating',\n",
       "             estimator=Pipeline(memory=None,\n",
       "                                steps=[('ordinalencoder',\n",
       "                                        OrdinalEncoder(cols=None,\n",
       "                                                       drop_invariant=False,\n",
       "                                                       handle_missing='value',\n",
       "                                                       handle_unknown='value',\n",
       "                                                       mapping=None,\n",
       "                                                       return_df=True,\n",
       "                                                       verbose=0)),\n",
       "                                       ('simpleimputer',\n",
       "                                        SimpleImputer(add_indicator=False,\n",
       "                                                      copy=True,\n",
       "                                                      fill_value=None,\n",
       "                                                      missing_values=nan,\n",
       "                                                      strategy='mean',...\n",
       "             param_grid={'ordinalencoder__handle_missing': ['return_nan',\n",
       "                                                            'value'],\n",
       "                         'ordinalencoder__handle_unknown': ['return_nan',\n",
       "                                                            'value'],\n",
       "                         'randomforestclassifier__max_depth': [None],\n",
       "                         'randomforestclassifier__n_estimators': range(1, 1001, 100),\n",
       "                         'simpleimputer__strategy': ['mean', 'median',\n",
       "                                                     'most_frequent']},\n",
       "             pre_dispatch='2*n_jobs', refit=True, return_train_score=True,\n",
       "             scoring='accuracy', verbose=15)"
      ]
     },
     "execution_count": 71,
     "metadata": {},
     "output_type": "execute_result"
    }
   ],
   "source": [
    "new_pipe = make_pipeline(\n",
    "    ce.OrdinalEncoder(),\n",
    "    SimpleImputer(),\n",
    "    StandardScaler(),\n",
    "    RandomForestClassifier(random_state=42)\n",
    ")\n",
    "\n",
    "params = {\n",
    "    'ordinalencoder__handle_unknown': ['return_nan', 'value'], \n",
    "    'ordinalencoder__handle_missing': ['return_nan', 'value'], \n",
    "    'simpleimputer__strategy': ['mean', 'median', 'most_frequent'], \n",
    "    'randomforestclassifier__n_estimators': range(1, 1001, 100), \n",
    "    'randomforestclassifier__max_depth': [None], \n",
    "#     'randomforestclassifier__max_features': uniform(0, 1), \n",
    "}\n",
    "\n",
    "search = GridSearchCV(\n",
    "    new_pipe,\n",
    "    param_grid = params,\n",
    "    n_jobs=-1,\n",
    "    cv = 3,\n",
    "    verbose=15,\n",
    "    scoring = 'accuracy',\n",
    "    return_train_score=True\n",
    ")\n",
    "search.fit(X_train,y_train)"
   ]
  },
  {
   "cell_type": "code",
   "execution_count": 73,
   "metadata": {},
   "outputs": [
    {
     "name": "stdout",
     "output_type": "stream",
     "text": [
      "{'ordinalencoder__handle_missing': 'value', 'ordinalencoder__handle_unknown': 'return_nan', 'randomforestclassifier__max_depth': None, 'randomforestclassifier__n_estimators': 701, 'simpleimputer__strategy': 'mean'}\n",
      "0.8050280583613917\n"
     ]
    }
   ],
   "source": [
    "print(search.best_params_)\n",
    "print(search.best_score_)"
   ]
  },
  {
   "cell_type": "code",
   "execution_count": 78,
   "metadata": {
    "scrolled": true
   },
   "outputs": [],
   "source": [
    "piper = search.best_estimator_"
   ]
  },
  {
   "cell_type": "code",
   "execution_count": 79,
   "metadata": {},
   "outputs": [
    {
     "data": {
      "text/plain": [
       "0.8093602693602694"
      ]
     },
     "execution_count": 79,
     "metadata": {},
     "output_type": "execute_result"
    }
   ],
   "source": [
    "piper.score(X_val, y_val)"
   ]
  },
  {
   "cell_type": "code",
   "execution_count": 80,
   "metadata": {},
   "outputs": [],
   "source": [
    "# why not make a submission\n",
    "X_test = wrangler(test)\n",
    "y_pred = piper.predict(X_test)\n",
    "submission = sample_submission.copy()\n",
    "submission['status_group'] = y_pred\n",
    "submission.to_csv('maybe.csv', index=False)"
   ]
  },
  {
   "cell_type": "code",
   "execution_count": null,
   "metadata": {},
   "outputs": [],
   "source": []
  }
 ],
 "metadata": {
  "colab": {
   "collapsed_sections": [],
   "name": "assignment_kaggle_challenge_4.ipynb",
   "provenance": [],
   "version": "0.3.2"
  },
  "kernelspec": {
   "display_name": "Python 3",
   "language": "python",
   "name": "python3"
  },
  "language_info": {
   "codemirror_mode": {
    "name": "ipython",
    "version": 3
   },
   "file_extension": ".py",
   "mimetype": "text/x-python",
   "name": "python",
   "nbconvert_exporter": "python",
   "pygments_lexer": "ipython3",
   "version": "3.7.4"
  }
 },
 "nbformat": 4,
 "nbformat_minor": 4
}
