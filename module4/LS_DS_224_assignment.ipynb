{
  "nbformat": 4,
  "nbformat_minor": 0,
  "metadata": {
    "colab": {
      "name": "jcs-assignment_kaggle_challenge_4.ipynb",
      "provenance": [],
      "collapsed_sections": [],
      "include_colab_link": true
    },
    "kernelspec": {
      "display_name": "Python 3",
      "language": "python",
      "name": "python3"
    },
    "language_info": {
      "codemirror_mode": {
        "name": "ipython",
        "version": 3
      },
      "file_extension": ".py",
      "mimetype": "text/x-python",
      "name": "python",
      "nbconvert_exporter": "python",
      "pygments_lexer": "ipython3",
      "version": "3.7.3"
    }
  },
  "cells": [
    {
      "cell_type": "markdown",
      "metadata": {
        "id": "view-in-github",
        "colab_type": "text"
      },
      "source": [
        "<a href=\"https://colab.research.google.com/github/jcs-lambda/DS-Unit-2-Kaggle-Challenge/blob/master/module4/LS_DS_224_assignment.ipynb\" target=\"_parent\"><img src=\"https://colab.research.google.com/assets/colab-badge.svg\" alt=\"Open In Colab\"/></a>"
      ]
    },
    {
      "cell_type": "markdown",
      "metadata": {
        "id": "oStruPqSrC_S",
        "colab_type": "text"
      },
      "source": [
        "Lambda School Data Science\n",
        "\n",
        "*Unit 2, Sprint 2, Module 4*\n",
        "\n",
        "---"
      ]
    },
    {
      "cell_type": "markdown",
      "metadata": {
        "colab_type": "text",
        "id": "nCc3XZEyG3XV"
      },
      "source": [
        "# Classification Metrics\n",
        "\n",
        "## Assignment\n",
        "- [ ] If you haven't yet, [review requirements for your portfolio project](https://lambdaschool.github.io/ds/unit2), then submit your dataset.\n",
        "- [ ] Plot a confusion matrix for your Tanzania Waterpumps model.\n",
        "- [ ] Continue to participate in our Kaggle challenge. Every student should have made at least one submission that scores at least 70% accuracy (well above the majority class baseline).\n",
        "- [ ] Submit your final predictions to our Kaggle competition. Optionally, go to **My Submissions**, and _\"you may select up to 1 submission to be used to count towards your final leaderboard score.\"_\n",
        "- [ ] Commit your notebook to your fork of the GitHub repo.\n",
        "- [ ] Read [Maximizing Scarce Maintenance Resources with Data: Applying predictive modeling, precision at k, and clustering to optimize impact](https://towardsdatascience.com/maximizing-scarce-maintenance-resources-with-data-8f3491133050), by Lambda DS3 student Michael Brady. His blog post extends the Tanzania Waterpumps scenario, far beyond what's in the lecture notebook.\n",
        "\n",
        "\n",
        "## Stretch Goals\n",
        "\n",
        "### Reading\n",
        "- [Attacking discrimination with smarter machine learning](https://research.google.com/bigpicture/attacking-discrimination-in-ml/), by Google Research, with  interactive visualizations. _\"A threshold classifier essentially makes a yes/no decision, putting things in one category or another. We look at how these classifiers work, ways they can potentially be unfair, and how you might turn an unfair classifier into a fairer one. As an illustrative example, we focus on loan granting scenarios where a bank may grant or deny a loan based on a single, automatically computed number such as a credit score.\"_\n",
        "- [Notebook about how to calculate expected value from a confusion matrix by treating it as a cost-benefit matrix](https://github.com/podopie/DAT18NYC/blob/master/classes/13-expected_value_cost_benefit_analysis.ipynb)\n",
        "- [Simple guide to confusion matrix terminology](https://www.dataschool.io/simple-guide-to-confusion-matrix-terminology/) by Kevin Markham, with video\n",
        "- [Visualizing Machine Learning Thresholds to Make Better Business Decisions](https://blog.insightdatascience.com/visualizing-machine-learning-thresholds-to-make-better-business-decisions-4ab07f823415)\n",
        "\n",
        "\n",
        "### Doing\n",
        "- [ ] Share visualizations in our Slack channel!\n",
        "- [ ] RandomizedSearchCV / GridSearchCV, for model selection. (See module 3 assignment notebook)\n",
        "- [ ] More Categorical Encoding. (See module 2 assignment notebook)\n",
        "- [ ] Stacking Ensemble. (See below)\n",
        "\n",
        "### Stacking Ensemble\n",
        "\n",
        "Here's some code you can use to \"stack\" multiple submissions, which is another form of ensembling:\n",
        "\n",
        "```python\n",
        "import pandas as pd\n",
        "\n",
        "# Filenames of your submissions you want to ensemble\n",
        "files = ['submission-01.csv', 'submission-02.csv', 'submission-03.csv']\n",
        "\n",
        "target = 'status_group'\n",
        "submissions = (pd.read_csv(file)[[target]] for file in files)\n",
        "ensemble = pd.concat(submissions, axis='columns')\n",
        "majority_vote = ensemble.mode(axis='columns')[0]\n",
        "\n",
        "sample_submission = pd.read_csv('sample_submission.csv')\n",
        "submission = sample_submission.copy()\n",
        "submission[target] = majority_vote\n",
        "submission.to_csv('my-ultimate-ensemble-submission.csv', index=False)\n",
        "```"
      ]
    },
    {
      "cell_type": "code",
      "metadata": {
        "colab_type": "code",
        "id": "lsbRiKBoB5RE",
        "colab": {}
      },
      "source": [
        "%%capture\n",
        "import sys\n",
        "\n",
        "# If you're on Colab:\n",
        "if 'google.colab' in sys.modules:\n",
        "    DATA_PATH = 'https://raw.githubusercontent.com/LambdaSchool/DS-Unit-2-Kaggle-Challenge/master/data/'\n",
        "    !pip install category_encoders==2.*\n",
        "\n",
        "# If you're working locally:\n",
        "else:\n",
        "    DATA_PATH = '../data/'"
      ],
      "execution_count": 0,
      "outputs": []
    },
    {
      "cell_type": "code",
      "metadata": {
        "colab_type": "code",
        "id": "BVA1lph8CcNX",
        "colab": {}
      },
      "source": [
        "import pandas as pd\n",
        "\n",
        "# Merge train_features.csv & train_labels.csv\n",
        "train = pd.merge(pd.read_csv(DATA_PATH+'waterpumps/train_features.csv'), \n",
        "                 pd.read_csv(DATA_PATH+'waterpumps/train_labels.csv'))\n",
        "\n",
        "# Read test_features.csv & sample_submission.csv\n",
        "test = pd.read_csv(DATA_PATH+'waterpumps/test_features.csv')\n",
        "sample_submission = pd.read_csv(DATA_PATH+'waterpumps/sample_submission.csv')"
      ],
      "execution_count": 0,
      "outputs": []
    },
    {
      "cell_type": "code",
      "metadata": {
        "id": "HQsPz7nUrC_r",
        "colab_type": "code",
        "colab": {}
      },
      "source": [
        "import category_encoders as ce\n",
        "import matplotlib.pyplot as plt\n",
        "import numpy as np\n",
        "import seaborn as sns\n",
        "\n",
        "from sklearn.impute import SimpleImputer\n",
        "from sklearn.metrics import accuracy_score, confusion_matrix\n",
        "from sklearn.pipeline import make_pipeline\n",
        "from sklearn.ensemble import RandomForestClassifier\n",
        "from sklearn.model_selection import RandomizedSearchCV\n",
        "from sklearn.utils.multiclass import unique_labels"
      ],
      "execution_count": 0,
      "outputs": []
    },
    {
      "cell_type": "code",
      "metadata": {
        "id": "GMCySOsBsQ_c",
        "colab_type": "code",
        "colab": {}
      },
      "source": [
        "pd.options.display.max_rows = 999\n",
        "pd.options.display.max_columns = 100"
      ],
      "execution_count": 0,
      "outputs": []
    },
    {
      "cell_type": "code",
      "metadata": {
        "id": "UssLQLCxtQS3",
        "colab_type": "code",
        "colab": {}
      },
      "source": [
        "random_state = 13"
      ],
      "execution_count": 0,
      "outputs": []
    },
    {
      "cell_type": "code",
      "metadata": {
        "id": "8vl5XtpowlUI",
        "colab_type": "code",
        "colab": {}
      },
      "source": [
        "def get_years_since_construction(row):\n",
        "  if 0 == row['construction_year']:\n",
        "    return np.nan\n",
        "  else:\n",
        "    return row['year_recorded'] - row['construction_year']"
      ],
      "execution_count": 0,
      "outputs": []
    },
    {
      "cell_type": "code",
      "metadata": {
        "id": "QNtPECqAtR5f",
        "colab_type": "code",
        "colab": {}
      },
      "source": [
        "def wrangle(dataframe):\n",
        "    \"\"\"Wrangles train, validate, and test sets in the same way\"\"\"\n",
        "    df = dataframe.copy()\n",
        "\n",
        "    # Convert date_recorded to datetime\n",
        "    df['date_recorded'] = pd.to_datetime(df['date_recorded'], infer_datetime_format=True, errors='coerce')\n",
        "    \n",
        "    # Extract components from date_recorded, then drop the original column\n",
        "    df['year_recorded'] = df['date_recorded'].dt.year\n",
        "    df['month_recorded'] = df['date_recorded'].dt.month\n",
        "    df['day_recorded'] = df['date_recorded'].dt.day\n",
        "    df.drop(columns='date_recorded', inplace=True)\n",
        "    \n",
        "    # Engineer feature: how many years from construction_year to date_recorded\n",
        "    df['years_since_construction'] = df[['year_recorded', 'construction_year']].apply(get_years_since_construction, axis=1)\n",
        "    \n",
        "    # Drop recorded_by (never varies) and id (always varies, random)\n",
        "    unusable_variance = ['recorded_by', 'id']\n",
        "    df.drop(columns=unusable_variance, inplace=True)\n",
        "    \n",
        "    # Drop duplicate columns\n",
        "    duplicate_columns = ['quantity_group', 'quality_group', 'waterpoint_type_group', 'source_type', 'source_class', 'payment_type', 'management_group', 'extraction_type_group', 'extraction_type_class']\n",
        "    df.drop(columns=duplicate_columns, inplace=True)\n",
        "    \n",
        "    # About 3% of the time, latitude has small values near zero,\n",
        "    # outside Tanzania, so we'll treat these like null values\n",
        "    df['latitude'] = df['latitude'].replace(-2e-08, np.nan)\n",
        "    \n",
        "    # When columns have zeros and shouldn't, they are like null values\n",
        "    cols_with_zeros = ['construction_year', 'longitude', 'latitude', 'gps_height', 'population']\n",
        "    for col in cols_with_zeros:\n",
        "        df[col] = df[col].replace(0, np.nan)\n",
        "        \n",
        "    return df"
      ],
      "execution_count": 0,
      "outputs": []
    },
    {
      "cell_type": "markdown",
      "metadata": {
        "id": "WJknbnxc_3A_",
        "colab_type": "text"
      },
      "source": [
        "# Assignment\n",
        "\n",
        "Plot a confusion matrix for your Tanzania Waterpumps model"
      ]
    },
    {
      "cell_type": "code",
      "metadata": {
        "id": "hP_OniWN_2fU",
        "colab_type": "code",
        "colab": {
          "base_uri": "https://localhost:8080/",
          "height": 487
        },
        "outputId": "79d161ae-baa7-417b-8d5f-ab6eb4cbe297"
      },
      "source": [
        "from sklearn.model_selection import train_test_split\n",
        "\n",
        "target = 'status_group'\n",
        "df_train, df_validate = train_test_split(train, test_size=len(test), stratify=train[target], random_state=random_state)\n",
        "\n",
        "df_train, df_validate, df_test = map(wrangle, [df_train, df_validate, test])\n",
        "\n",
        "features = df_train.columns.drop(target)\n",
        "\n",
        "X_train = df_train[features]\n",
        "X_validate = df_validate[features]\n",
        "X_test = df_test[features]\n",
        "\n",
        "y_train = df_train[target]\n",
        "y_validate = df_validate[target]\n",
        "\n",
        "pipeline = make_pipeline(\n",
        "    ce.OneHotEncoder(cols=['basin', 'region', 'public_meeting', 'scheme_management',\n",
        "                        'permit', 'extraction_type', 'management', 'payment',\n",
        "                        'water_quality', 'quantity', 'source', 'waterpoint_type'],\n",
        "                  drop_invariant=False, handle_missing='value',\n",
        "                  handle_unknown='value', return_df=True, use_cat_names=True,\n",
        "                  verbose=0),\n",
        "    ce.OrdinalEncoder(cols=['funder', 'installer', 'wpt_name', 'subvillage', 'lga',\n",
        "                        'ward', 'scheme_name'],\n",
        "                  drop_invariant=False, handle_missing='value',\n",
        "                  handle_unknown='value',\n",
        "                  return_df=True, verbose=0),\n",
        "    SimpleImputer(add_indicator=False, copy=True, fill_value=None,\n",
        "                  strategy='mean', verbose=0),\n",
        "    RandomForestClassifier(bootstrap=True, class_weight='balanced_subsample',\n",
        "                           criterion='gini', max_depth=None, max_features='auto',\n",
        "                           max_leaf_nodes=None, min_impurity_decrease=0.0,\n",
        "                           min_impurity_split=None, min_samples_leaf=1,\n",
        "                           min_samples_split=2, min_weight_fraction_leaf=0.0,\n",
        "                           n_estimators=70, n_jobs=-1, oob_score=False,\n",
        "                           random_state=13, verbose=0, warm_start=False)\n",
        ")\n",
        "\n",
        "pipeline.fit(X_train, y_train)\n",
        "y_pred = pipeline.predict(X_validate)\n",
        "score = accuracy_score(y_validate, y_pred)\n",
        "print(f'\\nValidation accuracy score: {score * 100:.2f}%\\n\\n')\n",
        "\n",
        "c_matrix = confusion_matrix(y_validate, y_pred)\n",
        "\n",
        "labels = unique_labels(y_validate)\n",
        "columns = [f'Predicted {label}' for label in labels]\n",
        "index = [f'Actual {label}' for label in labels]\n",
        "table = pd.DataFrame(c_matrix, columns=columns, index=index)\n",
        "\n",
        "sns.heatmap(table, annot=True, fmt='d', cmap='viridis')\n",
        "plt.show()"
      ],
      "execution_count": 28,
      "outputs": [
        {
          "output_type": "stream",
          "text": [
            "\n",
            "Validation accuracy score: 80.35%\n",
            "\n",
            "\n"
          ],
          "name": "stdout"
        },
        {
          "output_type": "display_data",
          "data": {
            "image/png": "[encoded data removed]",
            "text/plain": [
              "<Figure size 432x288 with 2 Axes>"
            ]
          },
          "metadata": {
            "tags": []
          }
        }
      ]
    },
    {
      "cell_type": "markdown",
      "metadata": {
        "id": "H0SEAeI8_ahR",
        "colab_type": "text"
      },
      "source": [
        "# For Kaggle"
      ]
    },
    {
      "cell_type": "code",
      "metadata": {
        "id": "CVDmbjbju-1Y",
        "colab_type": "code",
        "colab": {
          "base_uri": "https://localhost:8080/",
          "height": 32
        },
        "outputId": "fef3d14d-3cc7-46b3-f7be-ed81a731250f"
      },
      "source": [
        "df_train, df_test = map(wrangle, [train, test])\n",
        "df_train.shape, df_test.shape"
      ],
      "execution_count": 8,
      "outputs": [
        {
          "output_type": "execute_result",
          "data": {
            "text/plain": [
              "((59400, 33), (14358, 32))"
            ]
          },
          "metadata": {
            "tags": []
          },
          "execution_count": 8
        }
      ]
    },
    {
      "cell_type": "code",
      "metadata": {
        "id": "P9eI3BQRvIMP",
        "colab_type": "code",
        "colab": {}
      },
      "source": [
        "target = 'status_group'\n",
        "\n",
        "features = df_train.columns.drop([target])\n",
        "\n",
        "X_train = df_train[features]\n",
        "X_test = df_test[features]\n",
        "\n",
        "y_train = df_train[target]"
      ],
      "execution_count": 0,
      "outputs": []
    },
    {
      "cell_type": "code",
      "metadata": {
        "id": "FhdwfbO9v1C3",
        "colab_type": "code",
        "colab": {
          "base_uri": "https://localhost:8080/",
          "height": 32
        },
        "outputId": "245892ad-b3f9-4e53-bd58-3bcabc45f242"
      },
      "source": [
        "y_pred = [y_train.mode()[0]] * len(y_train)\n",
        "baseline_majority_accuracy = accuracy_score(y_train, y_pred)\n",
        "print(f'Baseline majority accuracy: {baseline_majority_accuracy * 100:.2f}%')"
      ],
      "execution_count": 10,
      "outputs": [
        {
          "output_type": "stream",
          "text": [
            "Baseline majority accuracy: 54.31%\n"
          ],
          "name": "stdout"
        }
      ]
    },
    {
      "cell_type": "code",
      "metadata": {
        "id": "40Tj5ugMwAdV",
        "colab_type": "code",
        "colab": {}
      },
      "source": [
        "cardinality = X_train.select_dtypes(exclude='number').nunique()\n",
        "low_cardinality = cardinality[cardinality < 51].index.to_list()\n",
        "high_cardinality = cardinality[cardinality > 50].index.to_list()"
      ],
      "execution_count": 0,
      "outputs": []
    },
    {
      "cell_type": "code",
      "metadata": {
        "id": "DLZ-nWu_0apg",
        "colab_type": "code",
        "colab": {}
      },
      "source": [
        "pipeline = make_pipeline(\n",
        "    ce.OneHotEncoder(cols=low_cardinality, use_cat_names=True),\n",
        "    ce.OrdinalEncoder(cols=high_cardinality),\n",
        "    SimpleImputer(),\n",
        "    RandomForestClassifier(random_state=random_state, n_jobs=-1,)\n",
        ")"
      ],
      "execution_count": 0,
      "outputs": []
    },
    {
      "cell_type": "code",
      "metadata": {
        "id": "rGlQ2n5B0iRG",
        "colab_type": "code",
        "colab": {}
      },
      "source": [
        "param_distributions = {\n",
        "    'simpleimputer__strategy' : ['mean', 'median'],\n",
        "    'simpleimputer__add_indicator' : [True, False],\n",
        "    'randomforestclassifier__n_estimators' : [x for x in range(10, 101, 10)],\n",
        "    'randomforestclassifier__class_weight' : ['balanced', 'balanced_subsample'],\n",
        "    'randomforestclassifier__bootstrap' : [True, False],\n",
        "    'randomforestclassifier__max_depth' : [None, 10, 20, 40, 80, 100],\n",
        "    'randomforestclassifier__min_samples_split' : [2, 4, 8, 16, 32],\n",
        "    'randomforestclassifier__min_samples_leaf' : [1, 10, 20]\n",
        "}"
      ],
      "execution_count": 0,
      "outputs": []
    },
    {
      "cell_type": "code",
      "metadata": {
        "id": "L8Yph72V2Y5N",
        "colab_type": "code",
        "colab": {}
      },
      "source": [
        "search = RandomizedSearchCV(pipeline, param_distributions=param_distributions, n_iter=100, cv=5, n_jobs=-1, verbose=10)"
      ],
      "execution_count": 0,
      "outputs": []
    },
    {
      "cell_type": "code",
      "metadata": {
        "id": "TYPSdDkb2kY-",
        "colab_type": "code",
        "colab": {
          "base_uri": "https://localhost:8080/",
          "height": 596
        },
        "outputId": "7e8592db-a117-4667-be54-a3e5ea99e2a0"
      },
      "source": [
        "search = search.fit(X_train, y_train)"
      ],
      "execution_count": 17,
      "outputs": [
        {
          "output_type": "stream",
          "text": [
            "Fitting 5 folds for each of 100 candidates, totalling 500 fits\n"
          ],
          "name": "stdout"
        },
        {
          "output_type": "stream",
          "text": [
            "[Parallel(n_jobs=-1)]: Using backend LokyBackend with 2 concurrent workers.\n",
            "[Parallel(n_jobs=-1)]: Done   1 tasks      | elapsed:   21.8s\n",
            "[Parallel(n_jobs=-1)]: Done   4 tasks      | elapsed:   41.8s\n",
            "[Parallel(n_jobs=-1)]: Done   9 tasks      | elapsed:  1.1min\n",
            "[Parallel(n_jobs=-1)]: Done  14 tasks      | elapsed:  1.6min\n",
            "[Parallel(n_jobs=-1)]: Done  21 tasks      | elapsed:  2.6min\n",
            "[Parallel(n_jobs=-1)]: Done  28 tasks      | elapsed:  3.2min\n",
            "/usr/local/lib/python3.6/dist-packages/joblib/externals/loky/process_executor.py:706: UserWarning: A worker stopped while some jobs were given to the executor. This can be caused by a too short worker timeout or by a memory leak.\n",
            "  \"timeout or by a memory leak.\", UserWarning\n",
            "[Parallel(n_jobs=-1)]: Done  37 tasks      | elapsed:  4.8min\n",
            "[Parallel(n_jobs=-1)]: Done  46 tasks      | elapsed:  5.8min\n",
            "[Parallel(n_jobs=-1)]: Done  57 tasks      | elapsed:  7.0min\n",
            "[Parallel(n_jobs=-1)]: Done  68 tasks      | elapsed:  8.1min\n",
            "[Parallel(n_jobs=-1)]: Done  81 tasks      | elapsed:  9.2min\n",
            "[Parallel(n_jobs=-1)]: Done  94 tasks      | elapsed: 11.4min\n",
            "[Parallel(n_jobs=-1)]: Done 109 tasks      | elapsed: 14.0min\n",
            "[Parallel(n_jobs=-1)]: Done 124 tasks      | elapsed: 16.7min\n",
            "[Parallel(n_jobs=-1)]: Done 141 tasks      | elapsed: 18.7min\n",
            "[Parallel(n_jobs=-1)]: Done 158 tasks      | elapsed: 20.6min\n",
            "[Parallel(n_jobs=-1)]: Done 177 tasks      | elapsed: 22.6min\n",
            "[Parallel(n_jobs=-1)]: Done 196 tasks      | elapsed: 25.0min\n",
            "[Parallel(n_jobs=-1)]: Done 217 tasks      | elapsed: 27.7min\n",
            "[Parallel(n_jobs=-1)]: Done 238 tasks      | elapsed: 30.4min\n",
            "[Parallel(n_jobs=-1)]: Done 261 tasks      | elapsed: 34.9min\n",
            "[Parallel(n_jobs=-1)]: Done 284 tasks      | elapsed: 37.8min\n",
            "[Parallel(n_jobs=-1)]: Done 309 tasks      | elapsed: 40.5min\n",
            "[Parallel(n_jobs=-1)]: Done 334 tasks      | elapsed: 43.9min\n",
            "[Parallel(n_jobs=-1)]: Done 361 tasks      | elapsed: 48.0min\n",
            "[Parallel(n_jobs=-1)]: Done 388 tasks      | elapsed: 52.1min\n",
            "[Parallel(n_jobs=-1)]: Done 417 tasks      | elapsed: 56.9min\n",
            "[Parallel(n_jobs=-1)]: Done 446 tasks      | elapsed: 60.1min\n",
            "[Parallel(n_jobs=-1)]: Done 477 tasks      | elapsed: 64.5min\n",
            "[Parallel(n_jobs=-1)]: Done 500 out of 500 | elapsed: 67.3min finished\n"
          ],
          "name": "stderr"
        }
      ]
    },
    {
      "cell_type": "code",
      "metadata": {
        "id": "7YYu_69N2xn1",
        "colab_type": "code",
        "colab": {
          "base_uri": "https://localhost:8080/",
          "height": 1000
        },
        "outputId": "5c85b2f1-dc52-403a-b576-626f225208c8"
      },
      "source": [
        "best_pipeline = search.best_estimator_\n",
        "for step in best_pipeline.named_steps:\n",
        "  print(best_pipeline[step])\n",
        "  print()"
      ],
      "execution_count": 19,
      "outputs": [
        {
          "output_type": "stream",
          "text": [
            "OneHotEncoder(cols=['basin', 'region', 'public_meeting', 'scheme_management',\n",
            "                    'permit', 'extraction_type', 'management', 'payment',\n",
            "                    'water_quality', 'quantity', 'source', 'waterpoint_type'],\n",
            "              drop_invariant=False, handle_missing='value',\n",
            "              handle_unknown='value', return_df=True, use_cat_names=True,\n",
            "              verbose=0)\n",
            "\n",
            "OrdinalEncoder(cols=['funder', 'installer', 'wpt_name', 'subvillage', 'lga',\n",
            "                     'ward', 'scheme_name'],\n",
            "               drop_invariant=False, handle_missing='value',\n",
            "               handle_unknown='value',\n",
            "               mapping=[{'col': 'funder', 'data_type': dtype('O'),\n",
            "                         'mapping': Roman                     1\n",
            "Grumeti                   2\n",
            "Lottery Club              3\n",
            "Unicef                    4\n",
            "Action In A               5\n",
            "                       ... \n",
            "Cida                   1894\n",
            "Dwe/anglican Church    1895\n",
            "Dina                   1896\n",
            "Brown                  1897\n",
            "Samlo                  1898\n",
            "Length: 1898, dtype: int64},\n",
            "                        {'co...\n",
            "Natta            2\n",
            "Ngorika          3\n",
            "Nanyumbu         4\n",
            "Nyakasimbi       5\n",
            "              ... \n",
            "Mfaranyaki    2089\n",
            "Chinugulu     2090\n",
            "Nyamtinga     2091\n",
            "Kinungu       2092\n",
            "NaN             -2\n",
            "Length: 2093, dtype: int64},\n",
            "                        {'col': 'scheme_name', 'data_type': dtype('O'),\n",
            "                         'mapping': Roman                             1\n",
            "NaN                               2\n",
            "Nyumba ya mungu pipe scheme       3\n",
            "Zingibali                         4\n",
            "BL Bondeni                        5\n",
            "                               ... \n",
            "Upper RUVU                     2693\n",
            "TWESA                          2694\n",
            "BL Nsherehehe                  2695\n",
            "Magati  gravity spri           2696\n",
            "Mtawanya                       2697\n",
            "Length: 2697, dtype: int64}],\n",
            "               return_df=True, verbose=0)\n",
            "\n",
            "SimpleImputer(add_indicator=False, copy=True, fill_value=None,\n",
            "              missing_values=nan, strategy='mean', verbose=0)\n",
            "\n",
            "RandomForestClassifier(bootstrap=True, class_weight='balanced_subsample',\n",
            "                       criterion='gini', max_depth=None, max_features='auto',\n",
            "                       max_leaf_nodes=None, min_impurity_decrease=0.0,\n",
            "                       min_impurity_split=None, min_samples_leaf=1,\n",
            "                       min_samples_split=2, min_weight_fraction_leaf=0.0,\n",
            "                       n_estimators=70, n_jobs=-1, oob_score=False,\n",
            "                       random_state=13, verbose=0, warm_start=False)\n",
            "\n"
          ],
          "name": "stdout"
        }
      ]
    },
    {
      "cell_type": "code",
      "metadata": {
        "id": "tmStxMge3BRj",
        "colab_type": "code",
        "colab": {
          "base_uri": "https://localhost:8080/",
          "height": 32
        },
        "outputId": "a583bdc3-0c72-46a2-a07b-49ab8d462307"
      },
      "source": [
        "y_pred = best_pipeline.predict(X_test)\n",
        "len(y_pred)"
      ],
      "execution_count": 20,
      "outputs": [
        {
          "output_type": "execute_result",
          "data": {
            "text/plain": [
              "14358"
            ]
          },
          "metadata": {
            "tags": []
          },
          "execution_count": 20
        }
      ]
    },
    {
      "cell_type": "code",
      "metadata": {
        "id": "RD-Ox9Cy93pE",
        "colab_type": "code",
        "colab": {
          "base_uri": "https://localhost:8080/",
          "height": 32
        },
        "outputId": "d14e04d0-df16-4ecc-bee9-b4653ab26de7"
      },
      "source": [
        "file_name = 'submission.csv'\n",
        "\n",
        "submission = sample_submission.copy()\n",
        "submission['status_group'] = y_pred\n",
        "\n",
        "submission.shape"
      ],
      "execution_count": 22,
      "outputs": [
        {
          "output_type": "execute_result",
          "data": {
            "text/plain": [
              "(14358, 2)"
            ]
          },
          "metadata": {
            "tags": []
          },
          "execution_count": 22
        }
      ]
    },
    {
      "cell_type": "code",
      "metadata": {
        "id": "1k-s5FHS-IvD",
        "colab_type": "code",
        "colab": {
          "base_uri": "https://localhost:8080/",
          "height": 181
        },
        "outputId": "11828bd2-c428-4b86-ca95-0dca970b553e"
      },
      "source": [
        "submission.to_csv(file_name, index=False, header=True)\n",
        "!head \"$file_name\""
      ],
      "execution_count": 23,
      "outputs": [
        {
          "output_type": "stream",
          "text": [
            "id,status_group\n",
            "50785,non functional\n",
            "51630,functional\n",
            "17168,functional\n",
            "45559,non functional\n",
            "49871,functional\n",
            "52449,functional\n",
            "24806,functional\n",
            "28965,non functional\n",
            "36301,non functional\n"
          ],
          "name": "stdout"
        }
      ]
    }
  ]
}