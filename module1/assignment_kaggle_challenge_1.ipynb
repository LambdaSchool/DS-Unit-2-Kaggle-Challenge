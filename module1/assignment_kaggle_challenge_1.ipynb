{
  "nbformat": 4,
  "nbformat_minor": 0,
  "metadata": {
    "colab": {
      "name": "Copy of assignment_kaggle_challenge_1.ipynb",
      "provenance": [],
      "collapsed_sections": [],
      "toc_visible": true,
      "include_colab_link": true
    },
    "kernelspec": {
      "display_name": "Python 3",
      "language": "python",
      "name": "python3"
    },
    "language_info": {
      "codemirror_mode": {
        "name": "ipython",
        "version": 3
      },
      "file_extension": ".py",
      "mimetype": "text/x-python",
      "name": "python",
      "nbconvert_exporter": "python",
      "pygments_lexer": "ipython3",
      "version": "3.7.3"
    }
  },
  "cells": [
    {
      "cell_type": "markdown",
      "metadata": {
        "id": "view-in-github",
        "colab_type": "text"
      },
      "source": [
        "<a href=\"https://colab.research.google.com/github/davidanagy/DS-Unit-2-Kaggle-Challenge/blob/master/module1/assignment_kaggle_challenge_1.ipynb\" target=\"_parent\"><img src=\"https://colab.research.google.com/assets/colab-badge.svg\" alt=\"Open In Colab\"/></a>"
      ]
    },
    {
      "cell_type": "markdown",
      "metadata": {
        "colab_type": "text",
        "id": "7IXUfiQ2UKj6"
      },
      "source": [
        "Lambda School Data Science, Unit 2: Predictive Modeling\n",
        "\n",
        "# Kaggle Challenge, Module 1\n",
        "\n",
        "## Assignment\n",
        "- [ ] Do train/validate/test split with the Tanzania Waterpumps data.\n",
        "- [ ] Define a function to wrangle train, validate, and test sets in the same way. Clean outliers and engineer features. (For example, [what other columns have zeros and shouldn't?](https://github.com/Quartz/bad-data-guide#zeros-replace-missing-values) What other columns are duplicates, or nearly duplicates? Can you extract the year from date_recorded? Can you engineer new features, such as the number of years from waterpump construction to waterpump inspection?)\n",
        "- [ ] Select features. Use a scikit-learn pipeline to encode categoricals, impute missing values, and fit a decision tree classifier.\n",
        "- [ ] Get your validation accuracy score.\n",
        "- [ ] Get and plot your feature importances.\n",
        "- [ ] Submit your predictions to our Kaggle competition. (Go to our Kaggle InClass competition webpage. Use the blue **Submit Predictions** button to upload your CSV file. Or you can use the Kaggle API to submit your predictions.)\n",
        "- [ ] Commit your notebook to your fork of the GitHub repo.\n",
        "\n",
        "\n",
        "## Stretch Goals\n",
        "\n",
        "### Reading\n",
        "\n",
        "- A Visual Introduction to Machine Learning\n",
        "  - [Part 1: A Decision Tree](http://www.r2d3.us/visual-intro-to-machine-learning-part-1/)\n",
        "  - [Part 2: Bias and Variance](http://www.r2d3.us/visual-intro-to-machine-learning-part-2/)\n",
        "- [Decision Trees: Advantages & Disadvantages](https://christophm.github.io/interpretable-ml-book/tree.html#advantages-2)\n",
        "- [How a Russian mathematician constructed a decision tree — by hand — to solve a medical problem](http://fastml.com/how-a-russian-mathematician-constructed-a-decision-tree-by-hand-to-solve-a-medical-problem/)\n",
        "- [How decision trees work](https://brohrer.github.io/how_decision_trees_work.html)\n",
        "- [Let’s Write a Decision Tree Classifier from Scratch](https://www.youtube.com/watch?v=LDRbO9a6XPU) — _Don’t worry about understanding the code, just get introduced to the concepts. This 10 minute video has excellent diagrams and explanations._\n",
        "- [Random Forests for Complete Beginners: The definitive guide to Random Forests and Decision Trees](https://victorzhou.com/blog/intro-to-random-forests/)\n",
        "\n",
        "\n",
        "### Doing\n",
        "- [ ] Add your own stretch goal(s) !\n",
        "- [ ] Try other [scikit-learn imputers](https://scikit-learn.org/stable/modules/impute.html).\n",
        "- [ ] Make exploratory visualizations and share on Slack.\n",
        "\n",
        "\n",
        "#### Exploratory visualizations\n",
        "\n",
        "Visualize the relationships between feature(s) and target. I recommend you do this with your training set, after splitting your data. \n",
        "\n",
        "For this problem, you may want to create a new column to represent the target as a number, 0 or 1. For example:\n",
        "\n",
        "```python\n",
        "train['functional'] = (train['status_group']=='functional').astype(int)\n",
        "```\n",
        "\n",
        "\n",
        "\n",
        "You can try [Seaborn \"Categorical estimate\" plots](https://seaborn.pydata.org/tutorial/categorical.html) for features with reasonably few unique values. (With too many unique values, the plot is unreadable.)\n",
        "\n",
        "- Categorical features. (If there are too many unique values, you can replace less frequent values with \"OTHER.\")\n",
        "- Numeric features. (If there are too many unique values, you can [bin with pandas cut / qcut functions](https://pandas.pydata.org/pandas-docs/stable/getting_started/basics.html?highlight=qcut#discretization-and-quantiling).)\n",
        "\n",
        "You can try [Seaborn linear model plots](https://seaborn.pydata.org/tutorial/regression.html) with numeric features. For this classification problem, you may want to use the parameter `logistic=True`, but it can be slow.\n",
        "\n",
        "You do _not_ need to use Seaborn, but it's nice because it includes confidence intervals to visualize uncertainty.\n",
        "\n",
        "#### High-cardinality categoricals\n",
        "\n",
        "This code from a previous assignment demonstrates how to replace less frequent values with 'OTHER'\n",
        "\n",
        "```python\n",
        "# Reduce cardinality for NEIGHBORHOOD feature ...\n",
        "\n",
        "# Get a list of the top 10 neighborhoods\n",
        "top10 = train['NEIGHBORHOOD'].value_counts()[:10].index\n",
        "\n",
        "# At locations where the neighborhood is NOT in the top 10,\n",
        "# replace the neighborhood with 'OTHER'\n",
        "train.loc[~train['NEIGHBORHOOD'].isin(top10), 'NEIGHBORHOOD'] = 'OTHER'\n",
        "test.loc[~test['NEIGHBORHOOD'].isin(top10), 'NEIGHBORHOOD'] = 'OTHER'\n",
        "```\n"
      ]
    },
    {
      "cell_type": "code",
      "metadata": {
        "colab_type": "code",
        "id": "o9eSnDYhUGD7",
        "colab": {
          "base_uri": "https://localhost:8080/",
          "height": 224
        },
        "outputId": "945ddd2f-27d0-429d-8598-e8c9e0999c95"
      },
      "source": [
        "import sys\n",
        "\n",
        "# If you're on Colab:\n",
        "if 'google.colab' in sys.modules:\n",
        "    DATA_PATH = 'https://raw.githubusercontent.com/LambdaSchool/DS-Unit-2-Kaggle-Challenge/master/data/'\n",
        "    !pip install category_encoders==2.*\n",
        "\n",
        "# If you're working locally:\n",
        "else:\n",
        "    DATA_PATH = '../data/'"
      ],
      "execution_count": 75,
      "outputs": [
        {
          "output_type": "stream",
          "text": [
            "Requirement already satisfied: category_encoders==2.* in /usr/local/lib/python3.6/dist-packages (2.1.0)\n",
            "Requirement already satisfied: statsmodels>=0.6.1 in /usr/local/lib/python3.6/dist-packages (from category_encoders==2.*) (0.10.1)\n",
            "Requirement already satisfied: scipy>=0.19.0 in /usr/local/lib/python3.6/dist-packages (from category_encoders==2.*) (1.3.1)\n",
            "Requirement already satisfied: patsy>=0.4.1 in /usr/local/lib/python3.6/dist-packages (from category_encoders==2.*) (0.5.1)\n",
            "Requirement already satisfied: numpy>=1.11.3 in /usr/local/lib/python3.6/dist-packages (from category_encoders==2.*) (1.16.5)\n",
            "Requirement already satisfied: scikit-learn>=0.20.0 in /usr/local/lib/python3.6/dist-packages (from category_encoders==2.*) (0.21.3)\n",
            "Requirement already satisfied: pandas>=0.21.1 in /usr/local/lib/python3.6/dist-packages (from category_encoders==2.*) (0.24.2)\n",
            "Requirement already satisfied: six in /usr/local/lib/python3.6/dist-packages (from patsy>=0.4.1->category_encoders==2.*) (1.12.0)\n",
            "Requirement already satisfied: joblib>=0.11 in /usr/local/lib/python3.6/dist-packages (from scikit-learn>=0.20.0->category_encoders==2.*) (0.13.2)\n",
            "Requirement already satisfied: python-dateutil>=2.5.0 in /usr/local/lib/python3.6/dist-packages (from pandas>=0.21.1->category_encoders==2.*) (2.5.3)\n",
            "Requirement already satisfied: pytz>=2011k in /usr/local/lib/python3.6/dist-packages (from pandas>=0.21.1->category_encoders==2.*) (2018.9)\n"
          ],
          "name": "stdout"
        }
      ]
    },
    {
      "cell_type": "code",
      "metadata": {
        "colab_type": "code",
        "id": "QJBD4ruICm1m",
        "colab": {
          "base_uri": "https://localhost:8080/",
          "height": 34
        },
        "outputId": "ce090021-5c6e-476c-ee0a-099f19acabcf"
      },
      "source": [
        "import pandas as pd\n",
        "from sklearn.model_selection import train_test_split\n",
        "\n",
        "train = pd.merge(pd.read_csv(DATA_PATH+'waterpumps/train_features.csv'), \n",
        "                 pd.read_csv(DATA_PATH+'waterpumps/train_labels.csv'))\n",
        "test = pd.read_csv(DATA_PATH+'waterpumps/test_features.csv')\n",
        "sample_submission = pd.read_csv(DATA_PATH+'waterpumps/sample_submission.csv')\n",
        "\n",
        "train.shape, test.shape"
      ],
      "execution_count": 76,
      "outputs": [
        {
          "output_type": "execute_result",
          "data": {
            "text/plain": [
              "((59400, 41), (14358, 40))"
            ]
          },
          "metadata": {
            "tags": []
          },
          "execution_count": 76
        }
      ]
    },
    {
      "cell_type": "code",
      "metadata": {
        "colab_type": "code",
        "id": "2Amxyx3xphbb",
        "colab": {
          "base_uri": "https://localhost:8080/",
          "height": 411
        },
        "outputId": "5feca16e-e376-4503-d401-9e3bad02993c"
      },
      "source": [
        "train.head()"
      ],
      "execution_count": 77,
      "outputs": [
        {
          "output_type": "execute_result",
          "data": {
            "text/html": [
              "<div>\n",
              "<style scoped>\n",
              "    .dataframe tbody tr th:only-of-type {\n",
              "        vertical-align: middle;\n",
              "    }\n",
              "\n",
              "    .dataframe tbody tr th {\n",
              "        vertical-align: top;\n",
              "    }\n",
              "\n",
              "    .dataframe thead th {\n",
              "        text-align: right;\n",
              "    }\n",
              "</style>\n",
              "<table border=\"1\" class=\"dataframe\">\n",
              "  <thead>\n",
              "    <tr style=\"text-align: right;\">\n",
              "      <th></th>\n",
              "      <th>id</th>\n",
              "      <th>amount_tsh</th>\n",
              "      <th>date_recorded</th>\n",
              "      <th>funder</th>\n",
              "      <th>gps_height</th>\n",
              "      <th>installer</th>\n",
              "      <th>longitude</th>\n",
              "      <th>latitude</th>\n",
              "      <th>wpt_name</th>\n",
              "      <th>num_private</th>\n",
              "      <th>basin</th>\n",
              "      <th>subvillage</th>\n",
              "      <th>region</th>\n",
              "      <th>region_code</th>\n",
              "      <th>district_code</th>\n",
              "      <th>lga</th>\n",
              "      <th>ward</th>\n",
              "      <th>population</th>\n",
              "      <th>public_meeting</th>\n",
              "      <th>recorded_by</th>\n",
              "      <th>scheme_management</th>\n",
              "      <th>scheme_name</th>\n",
              "      <th>permit</th>\n",
              "      <th>construction_year</th>\n",
              "      <th>extraction_type</th>\n",
              "      <th>extraction_type_group</th>\n",
              "      <th>extraction_type_class</th>\n",
              "      <th>management</th>\n",
              "      <th>management_group</th>\n",
              "      <th>payment</th>\n",
              "      <th>payment_type</th>\n",
              "      <th>water_quality</th>\n",
              "      <th>quality_group</th>\n",
              "      <th>quantity</th>\n",
              "      <th>quantity_group</th>\n",
              "      <th>source</th>\n",
              "      <th>source_type</th>\n",
              "      <th>source_class</th>\n",
              "      <th>waterpoint_type</th>\n",
              "      <th>waterpoint_type_group</th>\n",
              "      <th>status_group</th>\n",
              "    </tr>\n",
              "  </thead>\n",
              "  <tbody>\n",
              "    <tr>\n",
              "      <th>0</th>\n",
              "      <td>69572</td>\n",
              "      <td>6000.0</td>\n",
              "      <td>2011-03-14</td>\n",
              "      <td>Roman</td>\n",
              "      <td>1390</td>\n",
              "      <td>Roman</td>\n",
              "      <td>34.938093</td>\n",
              "      <td>-9.856322</td>\n",
              "      <td>none</td>\n",
              "      <td>0</td>\n",
              "      <td>Lake Nyasa</td>\n",
              "      <td>Mnyusi B</td>\n",
              "      <td>Iringa</td>\n",
              "      <td>11</td>\n",
              "      <td>5</td>\n",
              "      <td>Ludewa</td>\n",
              "      <td>Mundindi</td>\n",
              "      <td>109</td>\n",
              "      <td>True</td>\n",
              "      <td>GeoData Consultants Ltd</td>\n",
              "      <td>VWC</td>\n",
              "      <td>Roman</td>\n",
              "      <td>False</td>\n",
              "      <td>1999</td>\n",
              "      <td>gravity</td>\n",
              "      <td>gravity</td>\n",
              "      <td>gravity</td>\n",
              "      <td>vwc</td>\n",
              "      <td>user-group</td>\n",
              "      <td>pay annually</td>\n",
              "      <td>annually</td>\n",
              "      <td>soft</td>\n",
              "      <td>good</td>\n",
              "      <td>enough</td>\n",
              "      <td>enough</td>\n",
              "      <td>spring</td>\n",
              "      <td>spring</td>\n",
              "      <td>groundwater</td>\n",
              "      <td>communal standpipe</td>\n",
              "      <td>communal standpipe</td>\n",
              "      <td>functional</td>\n",
              "    </tr>\n",
              "    <tr>\n",
              "      <th>1</th>\n",
              "      <td>8776</td>\n",
              "      <td>0.0</td>\n",
              "      <td>2013-03-06</td>\n",
              "      <td>Grumeti</td>\n",
              "      <td>1399</td>\n",
              "      <td>GRUMETI</td>\n",
              "      <td>34.698766</td>\n",
              "      <td>-2.147466</td>\n",
              "      <td>Zahanati</td>\n",
              "      <td>0</td>\n",
              "      <td>Lake Victoria</td>\n",
              "      <td>Nyamara</td>\n",
              "      <td>Mara</td>\n",
              "      <td>20</td>\n",
              "      <td>2</td>\n",
              "      <td>Serengeti</td>\n",
              "      <td>Natta</td>\n",
              "      <td>280</td>\n",
              "      <td>NaN</td>\n",
              "      <td>GeoData Consultants Ltd</td>\n",
              "      <td>Other</td>\n",
              "      <td>NaN</td>\n",
              "      <td>True</td>\n",
              "      <td>2010</td>\n",
              "      <td>gravity</td>\n",
              "      <td>gravity</td>\n",
              "      <td>gravity</td>\n",
              "      <td>wug</td>\n",
              "      <td>user-group</td>\n",
              "      <td>never pay</td>\n",
              "      <td>never pay</td>\n",
              "      <td>soft</td>\n",
              "      <td>good</td>\n",
              "      <td>insufficient</td>\n",
              "      <td>insufficient</td>\n",
              "      <td>rainwater harvesting</td>\n",
              "      <td>rainwater harvesting</td>\n",
              "      <td>surface</td>\n",
              "      <td>communal standpipe</td>\n",
              "      <td>communal standpipe</td>\n",
              "      <td>functional</td>\n",
              "    </tr>\n",
              "    <tr>\n",
              "      <th>2</th>\n",
              "      <td>34310</td>\n",
              "      <td>25.0</td>\n",
              "      <td>2013-02-25</td>\n",
              "      <td>Lottery Club</td>\n",
              "      <td>686</td>\n",
              "      <td>World vision</td>\n",
              "      <td>37.460664</td>\n",
              "      <td>-3.821329</td>\n",
              "      <td>Kwa Mahundi</td>\n",
              "      <td>0</td>\n",
              "      <td>Pangani</td>\n",
              "      <td>Majengo</td>\n",
              "      <td>Manyara</td>\n",
              "      <td>21</td>\n",
              "      <td>4</td>\n",
              "      <td>Simanjiro</td>\n",
              "      <td>Ngorika</td>\n",
              "      <td>250</td>\n",
              "      <td>True</td>\n",
              "      <td>GeoData Consultants Ltd</td>\n",
              "      <td>VWC</td>\n",
              "      <td>Nyumba ya mungu pipe scheme</td>\n",
              "      <td>True</td>\n",
              "      <td>2009</td>\n",
              "      <td>gravity</td>\n",
              "      <td>gravity</td>\n",
              "      <td>gravity</td>\n",
              "      <td>vwc</td>\n",
              "      <td>user-group</td>\n",
              "      <td>pay per bucket</td>\n",
              "      <td>per bucket</td>\n",
              "      <td>soft</td>\n",
              "      <td>good</td>\n",
              "      <td>enough</td>\n",
              "      <td>enough</td>\n",
              "      <td>dam</td>\n",
              "      <td>dam</td>\n",
              "      <td>surface</td>\n",
              "      <td>communal standpipe multiple</td>\n",
              "      <td>communal standpipe</td>\n",
              "      <td>functional</td>\n",
              "    </tr>\n",
              "    <tr>\n",
              "      <th>3</th>\n",
              "      <td>67743</td>\n",
              "      <td>0.0</td>\n",
              "      <td>2013-01-28</td>\n",
              "      <td>Unicef</td>\n",
              "      <td>263</td>\n",
              "      <td>UNICEF</td>\n",
              "      <td>38.486161</td>\n",
              "      <td>-11.155298</td>\n",
              "      <td>Zahanati Ya Nanyumbu</td>\n",
              "      <td>0</td>\n",
              "      <td>Ruvuma / Southern Coast</td>\n",
              "      <td>Mahakamani</td>\n",
              "      <td>Mtwara</td>\n",
              "      <td>90</td>\n",
              "      <td>63</td>\n",
              "      <td>Nanyumbu</td>\n",
              "      <td>Nanyumbu</td>\n",
              "      <td>58</td>\n",
              "      <td>True</td>\n",
              "      <td>GeoData Consultants Ltd</td>\n",
              "      <td>VWC</td>\n",
              "      <td>NaN</td>\n",
              "      <td>True</td>\n",
              "      <td>1986</td>\n",
              "      <td>submersible</td>\n",
              "      <td>submersible</td>\n",
              "      <td>submersible</td>\n",
              "      <td>vwc</td>\n",
              "      <td>user-group</td>\n",
              "      <td>never pay</td>\n",
              "      <td>never pay</td>\n",
              "      <td>soft</td>\n",
              "      <td>good</td>\n",
              "      <td>dry</td>\n",
              "      <td>dry</td>\n",
              "      <td>machine dbh</td>\n",
              "      <td>borehole</td>\n",
              "      <td>groundwater</td>\n",
              "      <td>communal standpipe multiple</td>\n",
              "      <td>communal standpipe</td>\n",
              "      <td>non functional</td>\n",
              "    </tr>\n",
              "    <tr>\n",
              "      <th>4</th>\n",
              "      <td>19728</td>\n",
              "      <td>0.0</td>\n",
              "      <td>2011-07-13</td>\n",
              "      <td>Action In A</td>\n",
              "      <td>0</td>\n",
              "      <td>Artisan</td>\n",
              "      <td>31.130847</td>\n",
              "      <td>-1.825359</td>\n",
              "      <td>Shuleni</td>\n",
              "      <td>0</td>\n",
              "      <td>Lake Victoria</td>\n",
              "      <td>Kyanyamisa</td>\n",
              "      <td>Kagera</td>\n",
              "      <td>18</td>\n",
              "      <td>1</td>\n",
              "      <td>Karagwe</td>\n",
              "      <td>Nyakasimbi</td>\n",
              "      <td>0</td>\n",
              "      <td>True</td>\n",
              "      <td>GeoData Consultants Ltd</td>\n",
              "      <td>NaN</td>\n",
              "      <td>NaN</td>\n",
              "      <td>True</td>\n",
              "      <td>0</td>\n",
              "      <td>gravity</td>\n",
              "      <td>gravity</td>\n",
              "      <td>gravity</td>\n",
              "      <td>other</td>\n",
              "      <td>other</td>\n",
              "      <td>never pay</td>\n",
              "      <td>never pay</td>\n",
              "      <td>soft</td>\n",
              "      <td>good</td>\n",
              "      <td>seasonal</td>\n",
              "      <td>seasonal</td>\n",
              "      <td>rainwater harvesting</td>\n",
              "      <td>rainwater harvesting</td>\n",
              "      <td>surface</td>\n",
              "      <td>communal standpipe</td>\n",
              "      <td>communal standpipe</td>\n",
              "      <td>functional</td>\n",
              "    </tr>\n",
              "  </tbody>\n",
              "</table>\n",
              "</div>"
            ],
            "text/plain": [
              "      id  amount_tsh  ... waterpoint_type_group    status_group\n",
              "0  69572      6000.0  ...    communal standpipe      functional\n",
              "1   8776         0.0  ...    communal standpipe      functional\n",
              "2  34310        25.0  ...    communal standpipe      functional\n",
              "3  67743         0.0  ...    communal standpipe  non functional\n",
              "4  19728         0.0  ...    communal standpipe      functional\n",
              "\n",
              "[5 rows x 41 columns]"
            ]
          },
          "metadata": {
            "tags": []
          },
          "execution_count": 77
        }
      ]
    },
    {
      "cell_type": "code",
      "metadata": {
        "id": "hg1gltisyEb-",
        "colab_type": "code",
        "colab": {
          "base_uri": "https://localhost:8080/",
          "height": 34
        },
        "outputId": "3460a6cf-7b4e-415a-8a2a-ff52e17936fe"
      },
      "source": [
        "train, val = train_test_split(train, stratify=train['status_group'], random_state=77)\n",
        "\n",
        "train.shape, val.shape"
      ],
      "execution_count": 78,
      "outputs": [
        {
          "output_type": "execute_result",
          "data": {
            "text/plain": [
              "((44550, 41), (14850, 41))"
            ]
          },
          "metadata": {
            "tags": []
          },
          "execution_count": 78
        }
      ]
    },
    {
      "cell_type": "code",
      "metadata": {
        "id": "Cl3eOEGYyWoT",
        "colab_type": "code",
        "colab": {
          "base_uri": "https://localhost:8080/",
          "height": 317
        },
        "outputId": "29c85064-9aed-4126-9d7f-473a6243cbef"
      },
      "source": [
        "train.describe()"
      ],
      "execution_count": 79,
      "outputs": [
        {
          "output_type": "execute_result",
          "data": {
            "text/html": [
              "<div>\n",
              "<style scoped>\n",
              "    .dataframe tbody tr th:only-of-type {\n",
              "        vertical-align: middle;\n",
              "    }\n",
              "\n",
              "    .dataframe tbody tr th {\n",
              "        vertical-align: top;\n",
              "    }\n",
              "\n",
              "    .dataframe thead th {\n",
              "        text-align: right;\n",
              "    }\n",
              "</style>\n",
              "<table border=\"1\" class=\"dataframe\">\n",
              "  <thead>\n",
              "    <tr style=\"text-align: right;\">\n",
              "      <th></th>\n",
              "      <th>id</th>\n",
              "      <th>amount_tsh</th>\n",
              "      <th>gps_height</th>\n",
              "      <th>longitude</th>\n",
              "      <th>latitude</th>\n",
              "      <th>num_private</th>\n",
              "      <th>region_code</th>\n",
              "      <th>district_code</th>\n",
              "      <th>population</th>\n",
              "      <th>construction_year</th>\n",
              "    </tr>\n",
              "  </thead>\n",
              "  <tbody>\n",
              "    <tr>\n",
              "      <th>count</th>\n",
              "      <td>44550.000000</td>\n",
              "      <td>44550.000000</td>\n",
              "      <td>44550.000000</td>\n",
              "      <td>44550.000000</td>\n",
              "      <td>4.455000e+04</td>\n",
              "      <td>44550.000000</td>\n",
              "      <td>44550.000000</td>\n",
              "      <td>44550.000000</td>\n",
              "      <td>44550.000000</td>\n",
              "      <td>44550.000000</td>\n",
              "    </tr>\n",
              "    <tr>\n",
              "      <th>mean</th>\n",
              "      <td>37143.024871</td>\n",
              "      <td>320.565308</td>\n",
              "      <td>664.057755</td>\n",
              "      <td>34.065060</td>\n",
              "      <td>-5.713159e+00</td>\n",
              "      <td>0.473692</td>\n",
              "      <td>15.347587</td>\n",
              "      <td>5.629001</td>\n",
              "      <td>180.142626</td>\n",
              "      <td>1296.927340</td>\n",
              "    </tr>\n",
              "    <tr>\n",
              "      <th>std</th>\n",
              "      <td>21404.799050</td>\n",
              "      <td>3150.477970</td>\n",
              "      <td>692.725185</td>\n",
              "      <td>6.606202</td>\n",
              "      <td>2.951366e+00</td>\n",
              "      <td>11.594878</td>\n",
              "      <td>17.685514</td>\n",
              "      <td>9.650221</td>\n",
              "      <td>484.178119</td>\n",
              "      <td>952.804879</td>\n",
              "    </tr>\n",
              "    <tr>\n",
              "      <th>min</th>\n",
              "      <td>0.000000</td>\n",
              "      <td>0.000000</td>\n",
              "      <td>-90.000000</td>\n",
              "      <td>0.000000</td>\n",
              "      <td>-1.164944e+01</td>\n",
              "      <td>0.000000</td>\n",
              "      <td>1.000000</td>\n",
              "      <td>0.000000</td>\n",
              "      <td>0.000000</td>\n",
              "      <td>0.000000</td>\n",
              "    </tr>\n",
              "    <tr>\n",
              "      <th>25%</th>\n",
              "      <td>18674.250000</td>\n",
              "      <td>0.000000</td>\n",
              "      <td>0.000000</td>\n",
              "      <td>33.092540</td>\n",
              "      <td>-8.555150e+00</td>\n",
              "      <td>0.000000</td>\n",
              "      <td>5.000000</td>\n",
              "      <td>2.000000</td>\n",
              "      <td>0.000000</td>\n",
              "      <td>0.000000</td>\n",
              "    </tr>\n",
              "    <tr>\n",
              "      <th>50%</th>\n",
              "      <td>37112.500000</td>\n",
              "      <td>0.000000</td>\n",
              "      <td>362.000000</td>\n",
              "      <td>34.902670</td>\n",
              "      <td>-5.026314e+00</td>\n",
              "      <td>0.000000</td>\n",
              "      <td>12.000000</td>\n",
              "      <td>3.000000</td>\n",
              "      <td>25.000000</td>\n",
              "      <td>1985.000000</td>\n",
              "    </tr>\n",
              "    <tr>\n",
              "      <th>75%</th>\n",
              "      <td>55592.750000</td>\n",
              "      <td>25.000000</td>\n",
              "      <td>1316.000000</td>\n",
              "      <td>37.181739</td>\n",
              "      <td>-3.327720e+00</td>\n",
              "      <td>0.000000</td>\n",
              "      <td>17.000000</td>\n",
              "      <td>5.000000</td>\n",
              "      <td>210.000000</td>\n",
              "      <td>2004.000000</td>\n",
              "    </tr>\n",
              "    <tr>\n",
              "      <th>max</th>\n",
              "      <td>74247.000000</td>\n",
              "      <td>350000.000000</td>\n",
              "      <td>2628.000000</td>\n",
              "      <td>40.344301</td>\n",
              "      <td>-2.000000e-08</td>\n",
              "      <td>1776.000000</td>\n",
              "      <td>99.000000</td>\n",
              "      <td>80.000000</td>\n",
              "      <td>30500.000000</td>\n",
              "      <td>2013.000000</td>\n",
              "    </tr>\n",
              "  </tbody>\n",
              "</table>\n",
              "</div>"
            ],
            "text/plain": [
              "                 id     amount_tsh  ...    population  construction_year\n",
              "count  44550.000000   44550.000000  ...  44550.000000       44550.000000\n",
              "mean   37143.024871     320.565308  ...    180.142626        1296.927340\n",
              "std    21404.799050    3150.477970  ...    484.178119         952.804879\n",
              "min        0.000000       0.000000  ...      0.000000           0.000000\n",
              "25%    18674.250000       0.000000  ...      0.000000           0.000000\n",
              "50%    37112.500000       0.000000  ...     25.000000        1985.000000\n",
              "75%    55592.750000      25.000000  ...    210.000000        2004.000000\n",
              "max    74247.000000  350000.000000  ...  30500.000000        2013.000000\n",
              "\n",
              "[8 rows x 10 columns]"
            ]
          },
          "metadata": {
            "tags": []
          },
          "execution_count": 79
        }
      ]
    },
    {
      "cell_type": "code",
      "metadata": {
        "id": "o-qKetkh0V7T",
        "colab_type": "code",
        "colab": {
          "base_uri": "https://localhost:8080/",
          "height": 85
        },
        "outputId": "eb2aef0d-b4bd-4513-f4d2-1daa993283a0"
      },
      "source": [
        "# The weirdest column vis-a-vis zeroes here is \"amount_tsh.\" On Friday I just deleted it because there's so many zeroes.\n",
        "# But maybe it's actually informative? Let's check.\n",
        "\n",
        "tsh = train[['amount_tsh', 'status_group']]\n",
        "tsh_zero = tsh[tsh['amount_tsh'] == 0]\n",
        "tsh_not_zero = tsh[tsh['amount_tsh'] != 0]\n",
        "tsh_zero['status_group'].value_counts(normalize=True)"
      ],
      "execution_count": 80,
      "outputs": [
        {
          "output_type": "execute_result",
          "data": {
            "text/plain": [
              "functional                 0.472360\n",
              "non functional             0.454510\n",
              "functional needs repair    0.073129\n",
              "Name: status_group, dtype: float64"
            ]
          },
          "metadata": {
            "tags": []
          },
          "execution_count": 80
        }
      ]
    },
    {
      "cell_type": "code",
      "metadata": {
        "id": "dZD_risu0r0c",
        "colab_type": "code",
        "colab": {
          "base_uri": "https://localhost:8080/",
          "height": 85
        },
        "outputId": "06eccff2-85df-4354-f22a-9a1f2ba9d284"
      },
      "source": [
        "tsh_not_zero['status_group'].value_counts(normalize=True)\n",
        "\n",
        "# There's actually a pretty big difference between these groups. This makes me think that,\n",
        "# while some of the zeroes should really be NaN, others are \"actual\" zeroes. As there's no way\n",
        "# to distinguish between those, I'll just keep this column as-is."
      ],
      "execution_count": 81,
      "outputs": [
        {
          "output_type": "execute_result",
          "data": {
            "text/plain": [
              "functional                 0.708430\n",
              "non functional             0.219933\n",
              "functional needs repair    0.071637\n",
              "Name: status_group, dtype: float64"
            ]
          },
          "metadata": {
            "tags": []
          },
          "execution_count": 81
        }
      ]
    },
    {
      "cell_type": "code",
      "metadata": {
        "id": "ss7RnRJyydHE",
        "colab_type": "code",
        "colab": {}
      },
      "source": [
        "import numpy as np\n",
        "\n",
        "def remove_zeroes(X):\n",
        "  X = X.copy()\n",
        "  \n",
        "  X['latitude'] = X['latitude'].replace(-2e-08, 0)\n",
        "  \n",
        "  zeroes = ['gps_height', 'longitude', 'latitude', 'population', 'construction_year']\n",
        "  for col in zeroes:\n",
        "    X[col] = X[col].replace(0, np.nan)\n",
        "  \n",
        "  return X"
      ],
      "execution_count": 0,
      "outputs": []
    },
    {
      "cell_type": "code",
      "metadata": {
        "id": "5hZaawlf142x",
        "colab_type": "code",
        "colab": {}
      },
      "source": [
        "def datetime_features(X):\n",
        "  X = X.copy()\n",
        "  \n",
        "  X['date_recorded'] = pd.to_datetime(X['date_recorded'], infer_datetime_format=True)\n",
        "  \n",
        "  X['year_recorded'] = X['date_recorded'].dt.year\n",
        "  \n",
        "  X['construction_year'] = X['construction_year'].fillna(np.around(np.mean(X['construction_year']), decimals=0))\n",
        "  \n",
        "  X['time_to_inspection'] = X['year_recorded'] - X['construction_year']\n",
        "  \n",
        "  return X"
      ],
      "execution_count": 0,
      "outputs": []
    },
    {
      "cell_type": "code",
      "metadata": {
        "id": "Vl_rWlk03KFS",
        "colab_type": "code",
        "colab": {
          "base_uri": "https://localhost:8080/",
          "height": 227
        },
        "outputId": "3fec865e-a20a-4f3c-9ad6-836472776f80"
      },
      "source": [
        "train.describe(exclude=np.number)"
      ],
      "execution_count": 84,
      "outputs": [
        {
          "output_type": "execute_result",
          "data": {
            "text/html": [
              "<div>\n",
              "<style scoped>\n",
              "    .dataframe tbody tr th:only-of-type {\n",
              "        vertical-align: middle;\n",
              "    }\n",
              "\n",
              "    .dataframe tbody tr th {\n",
              "        vertical-align: top;\n",
              "    }\n",
              "\n",
              "    .dataframe thead th {\n",
              "        text-align: right;\n",
              "    }\n",
              "</style>\n",
              "<table border=\"1\" class=\"dataframe\">\n",
              "  <thead>\n",
              "    <tr style=\"text-align: right;\">\n",
              "      <th></th>\n",
              "      <th>date_recorded</th>\n",
              "      <th>funder</th>\n",
              "      <th>installer</th>\n",
              "      <th>wpt_name</th>\n",
              "      <th>basin</th>\n",
              "      <th>subvillage</th>\n",
              "      <th>region</th>\n",
              "      <th>lga</th>\n",
              "      <th>ward</th>\n",
              "      <th>public_meeting</th>\n",
              "      <th>recorded_by</th>\n",
              "      <th>scheme_management</th>\n",
              "      <th>scheme_name</th>\n",
              "      <th>permit</th>\n",
              "      <th>extraction_type</th>\n",
              "      <th>extraction_type_group</th>\n",
              "      <th>extraction_type_class</th>\n",
              "      <th>management</th>\n",
              "      <th>management_group</th>\n",
              "      <th>payment</th>\n",
              "      <th>payment_type</th>\n",
              "      <th>water_quality</th>\n",
              "      <th>quality_group</th>\n",
              "      <th>quantity</th>\n",
              "      <th>quantity_group</th>\n",
              "      <th>source</th>\n",
              "      <th>source_type</th>\n",
              "      <th>source_class</th>\n",
              "      <th>waterpoint_type</th>\n",
              "      <th>waterpoint_type_group</th>\n",
              "      <th>status_group</th>\n",
              "    </tr>\n",
              "  </thead>\n",
              "  <tbody>\n",
              "    <tr>\n",
              "      <th>count</th>\n",
              "      <td>44550</td>\n",
              "      <td>41823</td>\n",
              "      <td>41813</td>\n",
              "      <td>44550</td>\n",
              "      <td>44550</td>\n",
              "      <td>44282</td>\n",
              "      <td>44550</td>\n",
              "      <td>44550</td>\n",
              "      <td>44550</td>\n",
              "      <td>41991</td>\n",
              "      <td>44550</td>\n",
              "      <td>41637</td>\n",
              "      <td>23305</td>\n",
              "      <td>42236</td>\n",
              "      <td>44550</td>\n",
              "      <td>44550</td>\n",
              "      <td>44550</td>\n",
              "      <td>44550</td>\n",
              "      <td>44550</td>\n",
              "      <td>44550</td>\n",
              "      <td>44550</td>\n",
              "      <td>44550</td>\n",
              "      <td>44550</td>\n",
              "      <td>44550</td>\n",
              "      <td>44550</td>\n",
              "      <td>44550</td>\n",
              "      <td>44550</td>\n",
              "      <td>44550</td>\n",
              "      <td>44550</td>\n",
              "      <td>44550</td>\n",
              "      <td>44550</td>\n",
              "    </tr>\n",
              "    <tr>\n",
              "      <th>unique</th>\n",
              "      <td>348</td>\n",
              "      <td>1650</td>\n",
              "      <td>1865</td>\n",
              "      <td>29028</td>\n",
              "      <td>9</td>\n",
              "      <td>16660</td>\n",
              "      <td>21</td>\n",
              "      <td>125</td>\n",
              "      <td>2079</td>\n",
              "      <td>2</td>\n",
              "      <td>1</td>\n",
              "      <td>12</td>\n",
              "      <td>2493</td>\n",
              "      <td>2</td>\n",
              "      <td>18</td>\n",
              "      <td>13</td>\n",
              "      <td>7</td>\n",
              "      <td>12</td>\n",
              "      <td>5</td>\n",
              "      <td>7</td>\n",
              "      <td>7</td>\n",
              "      <td>8</td>\n",
              "      <td>6</td>\n",
              "      <td>5</td>\n",
              "      <td>5</td>\n",
              "      <td>10</td>\n",
              "      <td>7</td>\n",
              "      <td>3</td>\n",
              "      <td>7</td>\n",
              "      <td>6</td>\n",
              "      <td>3</td>\n",
              "    </tr>\n",
              "    <tr>\n",
              "      <th>top</th>\n",
              "      <td>2013-02-03</td>\n",
              "      <td>Government Of Tanzania</td>\n",
              "      <td>DWE</td>\n",
              "      <td>none</td>\n",
              "      <td>Lake Victoria</td>\n",
              "      <td>Shuleni</td>\n",
              "      <td>Iringa</td>\n",
              "      <td>Njombe</td>\n",
              "      <td>Igosi</td>\n",
              "      <td>True</td>\n",
              "      <td>GeoData Consultants Ltd</td>\n",
              "      <td>VWC</td>\n",
              "      <td>K</td>\n",
              "      <td>True</td>\n",
              "      <td>gravity</td>\n",
              "      <td>gravity</td>\n",
              "      <td>gravity</td>\n",
              "      <td>vwc</td>\n",
              "      <td>user-group</td>\n",
              "      <td>never pay</td>\n",
              "      <td>never pay</td>\n",
              "      <td>soft</td>\n",
              "      <td>good</td>\n",
              "      <td>enough</td>\n",
              "      <td>enough</td>\n",
              "      <td>spring</td>\n",
              "      <td>spring</td>\n",
              "      <td>groundwater</td>\n",
              "      <td>communal standpipe</td>\n",
              "      <td>communal standpipe</td>\n",
              "      <td>functional</td>\n",
              "    </tr>\n",
              "    <tr>\n",
              "      <th>freq</th>\n",
              "      <td>428</td>\n",
              "      <td>6810</td>\n",
              "      <td>13040</td>\n",
              "      <td>2648</td>\n",
              "      <td>7729</td>\n",
              "      <td>388</td>\n",
              "      <td>3962</td>\n",
              "      <td>1896</td>\n",
              "      <td>225</td>\n",
              "      <td>38190</td>\n",
              "      <td>44550</td>\n",
              "      <td>27547</td>\n",
              "      <td>506</td>\n",
              "      <td>29174</td>\n",
              "      <td>19981</td>\n",
              "      <td>19981</td>\n",
              "      <td>19981</td>\n",
              "      <td>30326</td>\n",
              "      <td>39347</td>\n",
              "      <td>19073</td>\n",
              "      <td>19073</td>\n",
              "      <td>38113</td>\n",
              "      <td>38113</td>\n",
              "      <td>24927</td>\n",
              "      <td>24927</td>\n",
              "      <td>12682</td>\n",
              "      <td>12682</td>\n",
              "      <td>34290</td>\n",
              "      <td>21320</td>\n",
              "      <td>25890</td>\n",
              "      <td>24194</td>\n",
              "    </tr>\n",
              "  </tbody>\n",
              "</table>\n",
              "</div>"
            ],
            "text/plain": [
              "       date_recorded                  funder  ... waterpoint_type_group status_group\n",
              "count          44550                   41823  ...                 44550        44550\n",
              "unique           348                    1650  ...                     6            3\n",
              "top       2013-02-03  Government Of Tanzania  ...    communal standpipe   functional\n",
              "freq             428                    6810  ...                 25890        24194\n",
              "\n",
              "[4 rows x 31 columns]"
            ]
          },
          "metadata": {
            "tags": []
          },
          "execution_count": 84
        }
      ]
    },
    {
      "cell_type": "code",
      "metadata": {
        "id": "cwhXeT5m3TIt",
        "colab_type": "code",
        "colab": {}
      },
      "source": [
        "def drop_redundant(X):\n",
        "  X = X.copy()\n",
        "  \n",
        "  redundant_cols = ['recorded_by', 'extraction_type_group', 'extraction_type_class', 'management_group', 'payment_type',\n",
        "                   'quality_group', 'quantity_group', 'source_type', 'source_class', 'waterpoint_type_group',\n",
        "                   'region_code', 'district_code', 'date_recorded']\n",
        "  \n",
        "  for col in redundant_cols:\n",
        "    X = X.drop(col, axis=1)\n",
        "    \n",
        "  return X"
      ],
      "execution_count": 0,
      "outputs": []
    },
    {
      "cell_type": "code",
      "metadata": {
        "id": "oJo7f0kO4DAz",
        "colab_type": "code",
        "colab": {}
      },
      "source": [
        "def reduce_cardinality(X):\n",
        "  X = X.copy()\n",
        "  \n",
        "  cardinality = X.select_dtypes(exclude='number').nunique()\n",
        "  \n",
        "  high_cardinality = cardinality[cardinality > 50].index.tolist()\n",
        "  \n",
        "  for feature in high_cardinality:\n",
        "    top10 = X[feature].value_counts()[:10].index\n",
        "    X.loc[~X[feature].isin(top10), feature] = 'OTHER'\n",
        "  \n",
        "  return X"
      ],
      "execution_count": 0,
      "outputs": []
    },
    {
      "cell_type": "code",
      "metadata": {
        "id": "wf3GAl5S5G6b",
        "colab_type": "code",
        "colab": {}
      },
      "source": [
        "def engineer_features(X):\n",
        "  X = X.copy()\n",
        "  \n",
        "  X = remove_zeroes(X)\n",
        "  X = datetime_features(X)\n",
        "  X = drop_redundant(X)\n",
        "  X = reduce_cardinality(X)\n",
        "  \n",
        "  return X"
      ],
      "execution_count": 0,
      "outputs": []
    },
    {
      "cell_type": "code",
      "metadata": {
        "id": "wCfaGJl2599r",
        "colab_type": "code",
        "colab": {
          "base_uri": "https://localhost:8080/",
          "height": 309
        },
        "outputId": "30791ba6-ce61-4604-adae-bc04a80d8104"
      },
      "source": [
        "train = engineer_features(train)\n",
        "train.head()"
      ],
      "execution_count": 88,
      "outputs": [
        {
          "output_type": "execute_result",
          "data": {
            "text/html": [
              "<div>\n",
              "<style scoped>\n",
              "    .dataframe tbody tr th:only-of-type {\n",
              "        vertical-align: middle;\n",
              "    }\n",
              "\n",
              "    .dataframe tbody tr th {\n",
              "        vertical-align: top;\n",
              "    }\n",
              "\n",
              "    .dataframe thead th {\n",
              "        text-align: right;\n",
              "    }\n",
              "</style>\n",
              "<table border=\"1\" class=\"dataframe\">\n",
              "  <thead>\n",
              "    <tr style=\"text-align: right;\">\n",
              "      <th></th>\n",
              "      <th>id</th>\n",
              "      <th>amount_tsh</th>\n",
              "      <th>funder</th>\n",
              "      <th>gps_height</th>\n",
              "      <th>installer</th>\n",
              "      <th>longitude</th>\n",
              "      <th>latitude</th>\n",
              "      <th>wpt_name</th>\n",
              "      <th>num_private</th>\n",
              "      <th>basin</th>\n",
              "      <th>subvillage</th>\n",
              "      <th>region</th>\n",
              "      <th>lga</th>\n",
              "      <th>ward</th>\n",
              "      <th>population</th>\n",
              "      <th>public_meeting</th>\n",
              "      <th>scheme_management</th>\n",
              "      <th>scheme_name</th>\n",
              "      <th>permit</th>\n",
              "      <th>construction_year</th>\n",
              "      <th>extraction_type</th>\n",
              "      <th>management</th>\n",
              "      <th>payment</th>\n",
              "      <th>water_quality</th>\n",
              "      <th>quantity</th>\n",
              "      <th>source</th>\n",
              "      <th>waterpoint_type</th>\n",
              "      <th>status_group</th>\n",
              "      <th>year_recorded</th>\n",
              "      <th>time_to_inspection</th>\n",
              "    </tr>\n",
              "  </thead>\n",
              "  <tbody>\n",
              "    <tr>\n",
              "      <th>58517</th>\n",
              "      <td>47871</td>\n",
              "      <td>0.0</td>\n",
              "      <td>OTHER</td>\n",
              "      <td>NaN</td>\n",
              "      <td>OTHER</td>\n",
              "      <td>NaN</td>\n",
              "      <td>NaN</td>\n",
              "      <td>OTHER</td>\n",
              "      <td>0</td>\n",
              "      <td>Lake Victoria</td>\n",
              "      <td>OTHER</td>\n",
              "      <td>Shinyanga</td>\n",
              "      <td>Bariadi</td>\n",
              "      <td>OTHER</td>\n",
              "      <td>NaN</td>\n",
              "      <td>True</td>\n",
              "      <td>WUG</td>\n",
              "      <td>OTHER</td>\n",
              "      <td>False</td>\n",
              "      <td>1997.0</td>\n",
              "      <td>nira/tanira</td>\n",
              "      <td>wug</td>\n",
              "      <td>never pay</td>\n",
              "      <td>soft</td>\n",
              "      <td>enough</td>\n",
              "      <td>shallow well</td>\n",
              "      <td>hand pump</td>\n",
              "      <td>functional</td>\n",
              "      <td>2013</td>\n",
              "      <td>16.0</td>\n",
              "    </tr>\n",
              "    <tr>\n",
              "      <th>53717</th>\n",
              "      <td>68517</td>\n",
              "      <td>0.0</td>\n",
              "      <td>Government Of Tanzania</td>\n",
              "      <td>NaN</td>\n",
              "      <td>RWE</td>\n",
              "      <td>31.770808</td>\n",
              "      <td>-1.003277</td>\n",
              "      <td>OTHER</td>\n",
              "      <td>0</td>\n",
              "      <td>Lake Victoria</td>\n",
              "      <td>OTHER</td>\n",
              "      <td>Kagera</td>\n",
              "      <td>OTHER</td>\n",
              "      <td>OTHER</td>\n",
              "      <td>NaN</td>\n",
              "      <td>True</td>\n",
              "      <td>VWC</td>\n",
              "      <td>OTHER</td>\n",
              "      <td>True</td>\n",
              "      <td>1997.0</td>\n",
              "      <td>gravity</td>\n",
              "      <td>vwc</td>\n",
              "      <td>never pay</td>\n",
              "      <td>soft</td>\n",
              "      <td>insufficient</td>\n",
              "      <td>spring</td>\n",
              "      <td>communal standpipe</td>\n",
              "      <td>non functional</td>\n",
              "      <td>2011</td>\n",
              "      <td>14.0</td>\n",
              "    </tr>\n",
              "    <tr>\n",
              "      <th>5580</th>\n",
              "      <td>19065</td>\n",
              "      <td>0.0</td>\n",
              "      <td>OTHER</td>\n",
              "      <td>NaN</td>\n",
              "      <td>OTHER</td>\n",
              "      <td>33.405885</td>\n",
              "      <td>-3.504091</td>\n",
              "      <td>OTHER</td>\n",
              "      <td>0</td>\n",
              "      <td>Internal</td>\n",
              "      <td>OTHER</td>\n",
              "      <td>Shinyanga</td>\n",
              "      <td>OTHER</td>\n",
              "      <td>OTHER</td>\n",
              "      <td>NaN</td>\n",
              "      <td>True</td>\n",
              "      <td>WUG</td>\n",
              "      <td>OTHER</td>\n",
              "      <td>True</td>\n",
              "      <td>1997.0</td>\n",
              "      <td>nira/tanira</td>\n",
              "      <td>wug</td>\n",
              "      <td>never pay</td>\n",
              "      <td>soft</td>\n",
              "      <td>insufficient</td>\n",
              "      <td>shallow well</td>\n",
              "      <td>hand pump</td>\n",
              "      <td>functional</td>\n",
              "      <td>2012</td>\n",
              "      <td>15.0</td>\n",
              "    </tr>\n",
              "    <tr>\n",
              "      <th>47950</th>\n",
              "      <td>22748</td>\n",
              "      <td>0.0</td>\n",
              "      <td>OTHER</td>\n",
              "      <td>NaN</td>\n",
              "      <td>OTHER</td>\n",
              "      <td>36.117722</td>\n",
              "      <td>-6.869506</td>\n",
              "      <td>OTHER</td>\n",
              "      <td>0</td>\n",
              "      <td>Rufiji</td>\n",
              "      <td>OTHER</td>\n",
              "      <td>Dodoma</td>\n",
              "      <td>OTHER</td>\n",
              "      <td>OTHER</td>\n",
              "      <td>NaN</td>\n",
              "      <td>True</td>\n",
              "      <td>VWC</td>\n",
              "      <td>OTHER</td>\n",
              "      <td>True</td>\n",
              "      <td>1997.0</td>\n",
              "      <td>gravity</td>\n",
              "      <td>vwc</td>\n",
              "      <td>never pay</td>\n",
              "      <td>soft</td>\n",
              "      <td>seasonal</td>\n",
              "      <td>rainwater harvesting</td>\n",
              "      <td>communal standpipe</td>\n",
              "      <td>non functional</td>\n",
              "      <td>2011</td>\n",
              "      <td>14.0</td>\n",
              "    </tr>\n",
              "    <tr>\n",
              "      <th>10488</th>\n",
              "      <td>15740</td>\n",
              "      <td>0.0</td>\n",
              "      <td>OTHER</td>\n",
              "      <td>NaN</td>\n",
              "      <td>OTHER</td>\n",
              "      <td>NaN</td>\n",
              "      <td>NaN</td>\n",
              "      <td>OTHER</td>\n",
              "      <td>0</td>\n",
              "      <td>Lake Victoria</td>\n",
              "      <td>Madukani</td>\n",
              "      <td>Mwanza</td>\n",
              "      <td>OTHER</td>\n",
              "      <td>OTHER</td>\n",
              "      <td>NaN</td>\n",
              "      <td>NaN</td>\n",
              "      <td>WUG</td>\n",
              "      <td>OTHER</td>\n",
              "      <td>False</td>\n",
              "      <td>1997.0</td>\n",
              "      <td>india mark iii</td>\n",
              "      <td>wug</td>\n",
              "      <td>unknown</td>\n",
              "      <td>soft</td>\n",
              "      <td>enough</td>\n",
              "      <td>shallow well</td>\n",
              "      <td>hand pump</td>\n",
              "      <td>functional</td>\n",
              "      <td>2012</td>\n",
              "      <td>15.0</td>\n",
              "    </tr>\n",
              "  </tbody>\n",
              "</table>\n",
              "</div>"
            ],
            "text/plain": [
              "          id  amount_tsh  ... year_recorded  time_to_inspection\n",
              "58517  47871         0.0  ...          2013                16.0\n",
              "53717  68517         0.0  ...          2011                14.0\n",
              "5580   19065         0.0  ...          2012                15.0\n",
              "47950  22748         0.0  ...          2011                14.0\n",
              "10488  15740         0.0  ...          2012                15.0\n",
              "\n",
              "[5 rows x 30 columns]"
            ]
          },
          "metadata": {
            "tags": []
          },
          "execution_count": 88
        }
      ]
    },
    {
      "cell_type": "code",
      "metadata": {
        "id": "s7AfaCQw6BNb",
        "colab_type": "code",
        "colab": {
          "base_uri": "https://localhost:8080/",
          "height": 210
        },
        "outputId": "67a9f02c-5150-421a-c642-5199217ade8c"
      },
      "source": [
        "train.describe(exclude=np.number)"
      ],
      "execution_count": 89,
      "outputs": [
        {
          "output_type": "execute_result",
          "data": {
            "text/html": [
              "<div>\n",
              "<style scoped>\n",
              "    .dataframe tbody tr th:only-of-type {\n",
              "        vertical-align: middle;\n",
              "    }\n",
              "\n",
              "    .dataframe tbody tr th {\n",
              "        vertical-align: top;\n",
              "    }\n",
              "\n",
              "    .dataframe thead th {\n",
              "        text-align: right;\n",
              "    }\n",
              "</style>\n",
              "<table border=\"1\" class=\"dataframe\">\n",
              "  <thead>\n",
              "    <tr style=\"text-align: right;\">\n",
              "      <th></th>\n",
              "      <th>funder</th>\n",
              "      <th>installer</th>\n",
              "      <th>wpt_name</th>\n",
              "      <th>basin</th>\n",
              "      <th>subvillage</th>\n",
              "      <th>region</th>\n",
              "      <th>lga</th>\n",
              "      <th>ward</th>\n",
              "      <th>public_meeting</th>\n",
              "      <th>scheme_management</th>\n",
              "      <th>scheme_name</th>\n",
              "      <th>permit</th>\n",
              "      <th>extraction_type</th>\n",
              "      <th>management</th>\n",
              "      <th>payment</th>\n",
              "      <th>water_quality</th>\n",
              "      <th>quantity</th>\n",
              "      <th>source</th>\n",
              "      <th>waterpoint_type</th>\n",
              "      <th>status_group</th>\n",
              "    </tr>\n",
              "  </thead>\n",
              "  <tbody>\n",
              "    <tr>\n",
              "      <th>count</th>\n",
              "      <td>44550</td>\n",
              "      <td>44550</td>\n",
              "      <td>44550</td>\n",
              "      <td>44550</td>\n",
              "      <td>44550</td>\n",
              "      <td>44550</td>\n",
              "      <td>44550</td>\n",
              "      <td>44550</td>\n",
              "      <td>41991</td>\n",
              "      <td>41637</td>\n",
              "      <td>44550</td>\n",
              "      <td>42236</td>\n",
              "      <td>44550</td>\n",
              "      <td>44550</td>\n",
              "      <td>44550</td>\n",
              "      <td>44550</td>\n",
              "      <td>44550</td>\n",
              "      <td>44550</td>\n",
              "      <td>44550</td>\n",
              "      <td>44550</td>\n",
              "    </tr>\n",
              "    <tr>\n",
              "      <th>unique</th>\n",
              "      <td>11</td>\n",
              "      <td>11</td>\n",
              "      <td>11</td>\n",
              "      <td>9</td>\n",
              "      <td>11</td>\n",
              "      <td>21</td>\n",
              "      <td>11</td>\n",
              "      <td>11</td>\n",
              "      <td>2</td>\n",
              "      <td>12</td>\n",
              "      <td>11</td>\n",
              "      <td>2</td>\n",
              "      <td>18</td>\n",
              "      <td>12</td>\n",
              "      <td>7</td>\n",
              "      <td>8</td>\n",
              "      <td>5</td>\n",
              "      <td>10</td>\n",
              "      <td>7</td>\n",
              "      <td>3</td>\n",
              "    </tr>\n",
              "    <tr>\n",
              "      <th>top</th>\n",
              "      <td>OTHER</td>\n",
              "      <td>OTHER</td>\n",
              "      <td>OTHER</td>\n",
              "      <td>Lake Victoria</td>\n",
              "      <td>OTHER</td>\n",
              "      <td>Iringa</td>\n",
              "      <td>OTHER</td>\n",
              "      <td>OTHER</td>\n",
              "      <td>True</td>\n",
              "      <td>VWC</td>\n",
              "      <td>OTHER</td>\n",
              "      <td>True</td>\n",
              "      <td>gravity</td>\n",
              "      <td>vwc</td>\n",
              "      <td>never pay</td>\n",
              "      <td>soft</td>\n",
              "      <td>enough</td>\n",
              "      <td>spring</td>\n",
              "      <td>communal standpipe</td>\n",
              "      <td>functional</td>\n",
              "    </tr>\n",
              "    <tr>\n",
              "      <th>freq</th>\n",
              "      <td>27724</td>\n",
              "      <td>24722</td>\n",
              "      <td>38381</td>\n",
              "      <td>7729</td>\n",
              "      <td>42244</td>\n",
              "      <td>3962</td>\n",
              "      <td>35167</td>\n",
              "      <td>42902</td>\n",
              "      <td>38190</td>\n",
              "      <td>27547</td>\n",
              "      <td>41400</td>\n",
              "      <td>29174</td>\n",
              "      <td>19981</td>\n",
              "      <td>30326</td>\n",
              "      <td>19073</td>\n",
              "      <td>38113</td>\n",
              "      <td>24927</td>\n",
              "      <td>12682</td>\n",
              "      <td>21320</td>\n",
              "      <td>24194</td>\n",
              "    </tr>\n",
              "  </tbody>\n",
              "</table>\n",
              "</div>"
            ],
            "text/plain": [
              "       funder installer wpt_name  ...  source     waterpoint_type status_group\n",
              "count   44550     44550    44550  ...   44550               44550        44550\n",
              "unique     11        11       11  ...      10                   7            3\n",
              "top     OTHER     OTHER    OTHER  ...  spring  communal standpipe   functional\n",
              "freq    27724     24722    38381  ...   12682               21320        24194\n",
              "\n",
              "[4 rows x 20 columns]"
            ]
          },
          "metadata": {
            "tags": []
          },
          "execution_count": 89
        }
      ]
    },
    {
      "cell_type": "code",
      "metadata": {
        "id": "pIrDXYGq6Lol",
        "colab_type": "code",
        "colab": {}
      },
      "source": [
        "features = train.columns.tolist()\n",
        "features.remove('id')\n",
        "features.remove('status_group')"
      ],
      "execution_count": 0,
      "outputs": []
    },
    {
      "cell_type": "code",
      "metadata": {
        "id": "-iwiUxxP7EVN",
        "colab_type": "code",
        "colab": {
          "base_uri": "https://localhost:8080/",
          "height": 493
        },
        "outputId": "4d786bd1-10a8-4492-cb13-4cd4fce02f4b"
      },
      "source": [
        "features"
      ],
      "execution_count": 91,
      "outputs": [
        {
          "output_type": "execute_result",
          "data": {
            "text/plain": [
              "['amount_tsh',\n",
              " 'funder',\n",
              " 'gps_height',\n",
              " 'installer',\n",
              " 'longitude',\n",
              " 'latitude',\n",
              " 'wpt_name',\n",
              " 'num_private',\n",
              " 'basin',\n",
              " 'subvillage',\n",
              " 'region',\n",
              " 'lga',\n",
              " 'ward',\n",
              " 'population',\n",
              " 'public_meeting',\n",
              " 'scheme_management',\n",
              " 'scheme_name',\n",
              " 'permit',\n",
              " 'construction_year',\n",
              " 'extraction_type',\n",
              " 'management',\n",
              " 'payment',\n",
              " 'water_quality',\n",
              " 'quantity',\n",
              " 'source',\n",
              " 'waterpoint_type',\n",
              " 'year_recorded',\n",
              " 'time_to_inspection']"
            ]
          },
          "metadata": {
            "tags": []
          },
          "execution_count": 91
        }
      ]
    },
    {
      "cell_type": "code",
      "metadata": {
        "id": "sAGgGwZO7aHY",
        "colab_type": "code",
        "colab": {}
      },
      "source": [
        "target = 'status_group'"
      ],
      "execution_count": 0,
      "outputs": []
    },
    {
      "cell_type": "code",
      "metadata": {
        "id": "6f5oS4gH7iIo",
        "colab_type": "code",
        "colab": {}
      },
      "source": [
        "val = engineer_features(val)\n",
        "X_train = train[features]\n",
        "y_train = train[target]\n",
        "X_val = val[features]\n",
        "y_val = val[target]"
      ],
      "execution_count": 0,
      "outputs": []
    },
    {
      "cell_type": "code",
      "metadata": {
        "id": "EChpHkU47rYR",
        "colab_type": "code",
        "colab": {
          "base_uri": "https://localhost:8080/",
          "height": 51
        },
        "outputId": "bad11ef7-0b41-4ce3-9864-032c1f2d28d3"
      },
      "source": [
        "import category_encoders as ce\n",
        "from sklearn.impute import SimpleImputer\n",
        "from sklearn.pipeline import make_pipeline\n",
        "from sklearn.tree import DecisionTreeClassifier\n",
        "\n",
        "pipeline = make_pipeline(\n",
        "    ce.OneHotEncoder(use_cat_names=True),\n",
        "    SimpleImputer(strategy='mean'),\n",
        "    DecisionTreeClassifier(max_depth=20, random_state=80)\n",
        ")\n",
        "\n",
        "pipeline.fit(X_train, y_train)\n",
        "print('Train Accuracy', pipeline.score(X_train, y_train))\n",
        "print('Validation Accuracy', pipeline.score(X_val, y_val))"
      ],
      "execution_count": 94,
      "outputs": [
        {
          "output_type": "stream",
          "text": [
            "Train Accuracy 0.895331088664422\n",
            "Validation Accuracy 0.7705050505050505\n"
          ],
          "name": "stdout"
        }
      ]
    },
    {
      "cell_type": "code",
      "metadata": {
        "id": "CWJDesPF8lFC",
        "colab_type": "code",
        "colab": {
          "base_uri": "https://localhost:8080/",
          "height": 51
        },
        "outputId": "c0c77cff-71b3-4851-fe05-93fd55cf98e9"
      },
      "source": [
        "import category_encoders as ce\n",
        "from sklearn.impute import SimpleImputer\n",
        "from sklearn.pipeline import make_pipeline\n",
        "from sklearn.tree import DecisionTreeClassifier\n",
        "\n",
        "pipeline = make_pipeline(\n",
        "    ce.OneHotEncoder(use_cat_names=True),\n",
        "    SimpleImputer(strategy='mean'),\n",
        "    DecisionTreeClassifier(min_samples_leaf=25, random_state=80)\n",
        ")\n",
        "\n",
        "pipeline.fit(X_train, y_train)\n",
        "print('Train Accuracy', pipeline.score(X_train, y_train))\n",
        "print('Validation Accuracy', pipeline.score(X_val, y_val))"
      ],
      "execution_count": 95,
      "outputs": [
        {
          "output_type": "stream",
          "text": [
            "Train Accuracy 0.7981818181818182\n",
            "Validation Accuracy 0.7683501683501683\n"
          ],
          "name": "stdout"
        }
      ]
    },
    {
      "cell_type": "code",
      "metadata": {
        "id": "7N4hOsbj9FRL",
        "colab_type": "code",
        "colab": {
          "base_uri": "https://localhost:8080/",
          "height": 51
        },
        "outputId": "cbae34a8-463b-490b-d182-fb4f69d285d4"
      },
      "source": [
        "pipeline = make_pipeline(\n",
        "    ce.OneHotEncoder(use_cat_names=True),\n",
        "    SimpleImputer(strategy='mean'),\n",
        "    DecisionTreeClassifier(min_samples_leaf=15, random_state=80)\n",
        ")\n",
        "\n",
        "pipeline.fit(X_train, y_train)\n",
        "print('Train Accuracy', pipeline.score(X_train, y_train))\n",
        "print('Validation Accuracy', pipeline.score(X_val, y_val))"
      ],
      "execution_count": 96,
      "outputs": [
        {
          "output_type": "stream",
          "text": [
            "Train Accuracy 0.8189225589225589\n",
            "Validation Accuracy 0.7721885521885522\n"
          ],
          "name": "stdout"
        }
      ]
    },
    {
      "cell_type": "code",
      "metadata": {
        "id": "zb_UAAcv9CGF",
        "colab_type": "code",
        "colab": {
          "base_uri": "https://localhost:8080/",
          "height": 51
        },
        "outputId": "0364e79b-beaa-4fe7-da5c-6b498f668a25"
      },
      "source": [
        "pipeline = make_pipeline(\n",
        "    ce.OneHotEncoder(use_cat_names=True),\n",
        "    SimpleImputer(strategy='mean'),\n",
        "    DecisionTreeClassifier(random_state=80)\n",
        ")\n",
        "\n",
        "pipeline.fit(X_train, y_train)\n",
        "print('Train Accuracy', pipeline.score(X_train, y_train))\n",
        "print('Validation Accuracy', pipeline.score(X_val, y_val))"
      ],
      "execution_count": 97,
      "outputs": [
        {
          "output_type": "stream",
          "text": [
            "Train Accuracy 0.9970145903479237\n",
            "Validation Accuracy 0.7551515151515151\n"
          ],
          "name": "stdout"
        }
      ]
    },
    {
      "cell_type": "code",
      "metadata": {
        "id": "mtxUQbtJ9LBe",
        "colab_type": "code",
        "colab": {
          "base_uri": "https://localhost:8080/",
          "height": 51
        },
        "outputId": "b5943a4d-ebbb-4120-eaca-ca475839e787"
      },
      "source": [
        "pipeline = make_pipeline(\n",
        "    ce.OneHotEncoder(use_cat_names=True),\n",
        "    SimpleImputer(strategy='mean'),\n",
        "    DecisionTreeClassifier(min_samples_leaf=10, random_state=80)\n",
        ")\n",
        "\n",
        "pipeline.fit(X_train, y_train)\n",
        "print('Train Accuracy', pipeline.score(X_train, y_train))\n",
        "print('Validation Accuracy', pipeline.score(X_val, y_val))"
      ],
      "execution_count": 98,
      "outputs": [
        {
          "output_type": "stream",
          "text": [
            "Train Accuracy 0.8373961840628508\n",
            "Validation Accuracy 0.7649158249158249\n"
          ],
          "name": "stdout"
        }
      ]
    },
    {
      "cell_type": "code",
      "metadata": {
        "id": "pWt-NF-x9O7O",
        "colab_type": "code",
        "colab": {
          "base_uri": "https://localhost:8080/",
          "height": 51
        },
        "outputId": "ef3fbd3f-85ba-4089-b272-8856943447a9"
      },
      "source": [
        "pipeline = make_pipeline(\n",
        "    ce.OneHotEncoder(use_cat_names=True),\n",
        "    SimpleImputer(strategy='mean'),\n",
        "    DecisionTreeClassifier(max_depth=30, random_state=80)\n",
        ")\n",
        "\n",
        "pipeline.fit(X_train, y_train)\n",
        "print('Train Accuracy', pipeline.score(X_train, y_train))\n",
        "print('Validation Accuracy', pipeline.score(X_val, y_val))"
      ],
      "execution_count": 99,
      "outputs": [
        {
          "output_type": "stream",
          "text": [
            "Train Accuracy 0.9742312008978675\n",
            "Validation Accuracy 0.7567003367003367\n"
          ],
          "name": "stdout"
        }
      ]
    },
    {
      "cell_type": "code",
      "metadata": {
        "id": "8mwQN5l39Umf",
        "colab_type": "code",
        "colab": {
          "base_uri": "https://localhost:8080/",
          "height": 51
        },
        "outputId": "3c62952c-e147-454a-9130-9aee665b1609"
      },
      "source": [
        "pipeline = make_pipeline(\n",
        "    ce.OneHotEncoder(use_cat_names=True),\n",
        "    SimpleImputer(strategy='mean'),\n",
        "    DecisionTreeClassifier(max_depth=10, random_state=80)\n",
        ")\n",
        "\n",
        "pipeline.fit(X_train, y_train)\n",
        "print('Train Accuracy', pipeline.score(X_train, y_train))\n",
        "print('Validation Accuracy', pipeline.score(X_val, y_val))"
      ],
      "execution_count": 100,
      "outputs": [
        {
          "output_type": "stream",
          "text": [
            "Train Accuracy 0.762648709315376\n",
            "Validation Accuracy 0.7462626262626263\n"
          ],
          "name": "stdout"
        }
      ]
    },
    {
      "cell_type": "code",
      "metadata": {
        "id": "BWL9xCC99YG3",
        "colab_type": "code",
        "colab": {
          "base_uri": "https://localhost:8080/",
          "height": 51
        },
        "outputId": "e5a28aa4-7323-4249-d168-2b93e209b2d1"
      },
      "source": [
        "pipeline = make_pipeline(\n",
        "    ce.OneHotEncoder(use_cat_names=True),\n",
        "    SimpleImputer(strategy='mean'),\n",
        "    DecisionTreeClassifier(max_depth=20, min_samples_leaf=15, random_state=80)\n",
        ")\n",
        "\n",
        "pipeline.fit(X_train, y_train)\n",
        "print('Train Accuracy', pipeline.score(X_train, y_train))\n",
        "print('Validation Accuracy', pipeline.score(X_val, y_val))"
      ],
      "execution_count": 101,
      "outputs": [
        {
          "output_type": "stream",
          "text": [
            "Train Accuracy 0.8085072951739618\n",
            "Validation Accuracy 0.7707070707070707\n"
          ],
          "name": "stdout"
        }
      ]
    },
    {
      "cell_type": "code",
      "metadata": {
        "id": "BUWBqNJ69d7w",
        "colab_type": "code",
        "colab": {
          "base_uri": "https://localhost:8080/",
          "height": 51
        },
        "outputId": "08a873a6-7a1b-454a-c4f2-3a25a79b20fb"
      },
      "source": [
        "pipeline = make_pipeline(\n",
        "    ce.OneHotEncoder(use_cat_names=True),\n",
        "    SimpleImputer(strategy='mean'),\n",
        "    DecisionTreeClassifier(min_samples_leaf=18, random_state=80)\n",
        ")\n",
        "\n",
        "pipeline.fit(X_train, y_train)\n",
        "print('Train Accuracy', pipeline.score(X_train, y_train))\n",
        "print('Validation Accuracy', pipeline.score(X_val, y_val))"
      ],
      "execution_count": 102,
      "outputs": [
        {
          "output_type": "stream",
          "text": [
            "Train Accuracy 0.8108193041526375\n",
            "Validation Accuracy 0.7700336700336701\n"
          ],
          "name": "stdout"
        }
      ]
    },
    {
      "cell_type": "code",
      "metadata": {
        "id": "mY-rLOQW9mGB",
        "colab_type": "code",
        "colab": {
          "base_uri": "https://localhost:8080/",
          "height": 51
        },
        "outputId": "1560b849-b237-499b-dde0-82dbbef37123"
      },
      "source": [
        "pipeline = make_pipeline(\n",
        "    ce.OneHotEncoder(use_cat_names=True),\n",
        "    SimpleImputer(strategy='mean'),\n",
        "    DecisionTreeClassifier(min_samples_leaf=14, random_state=80)\n",
        ")\n",
        "\n",
        "pipeline.fit(X_train, y_train)\n",
        "print('Train Accuracy', pipeline.score(X_train, y_train))\n",
        "print('Validation Accuracy', pipeline.score(X_val, y_val))"
      ],
      "execution_count": 103,
      "outputs": [
        {
          "output_type": "stream",
          "text": [
            "Train Accuracy 0.8223120089786756\n",
            "Validation Accuracy 0.7726599326599327\n"
          ],
          "name": "stdout"
        }
      ]
    },
    {
      "cell_type": "code",
      "metadata": {
        "id": "pISHxrxQ9pJy",
        "colab_type": "code",
        "colab": {
          "base_uri": "https://localhost:8080/",
          "height": 51
        },
        "outputId": "32ff880b-55fd-40ff-ac4b-9e49e6629dd7"
      },
      "source": [
        "pipeline = make_pipeline(\n",
        "    ce.OneHotEncoder(use_cat_names=True),\n",
        "    SimpleImputer(strategy='mean'),\n",
        "    DecisionTreeClassifier(min_samples_leaf=13, random_state=80)\n",
        ")\n",
        "\n",
        "pipeline.fit(X_train, y_train)\n",
        "print('Train Accuracy', pipeline.score(X_train, y_train))\n",
        "print('Validation Accuracy', pipeline.score(X_val, y_val))"
      ],
      "execution_count": 104,
      "outputs": [
        {
          "output_type": "stream",
          "text": [
            "Train Accuracy 0.8252749719416386\n",
            "Validation Accuracy 0.7713131313131313\n"
          ],
          "name": "stdout"
        }
      ]
    },
    {
      "cell_type": "code",
      "metadata": {
        "id": "7aIHoeDw9svy",
        "colab_type": "code",
        "colab": {
          "base_uri": "https://localhost:8080/",
          "height": 51
        },
        "outputId": "15818035-553d-4671-f6a9-aaa8872be81c"
      },
      "source": [
        "pipeline = make_pipeline(\n",
        "    ce.OneHotEncoder(use_cat_names=True),\n",
        "    SimpleImputer(strategy='mean'),\n",
        "    DecisionTreeClassifier(min_samples_leaf=14, random_state=80)\n",
        ")\n",
        "\n",
        "pipeline.fit(X_train, y_train)\n",
        "print('Train Accuracy', pipeline.score(X_train, y_train))\n",
        "print('Validation Accuracy', pipeline.score(X_val, y_val))"
      ],
      "execution_count": 105,
      "outputs": [
        {
          "output_type": "stream",
          "text": [
            "Train Accuracy 0.8223120089786756\n",
            "Validation Accuracy 0.7726599326599327\n"
          ],
          "name": "stdout"
        }
      ]
    },
    {
      "cell_type": "code",
      "metadata": {
        "id": "zUXYuHLj9-9V",
        "colab_type": "code",
        "colab": {
          "base_uri": "https://localhost:8080/",
          "height": 1000
        },
        "outputId": "b50e434b-3614-40a2-d0dc-03a3a7fd0709"
      },
      "source": [
        "import matplotlib.pyplot as plt\n",
        "\n",
        "model = pipeline.named_steps['decisiontreeclassifier']\n",
        "encoder = pipeline.named_steps['onehotencoder']\n",
        "\n",
        "encoded_cols = encoder.transform(X_val).columns\n",
        "importances = pd.Series(model.feature_importances_, encoded_cols)\n",
        "fig, ax = plt.subplots()\n",
        "fig.set_size_inches(6, 40)\n",
        "importances.sort_values().plot.barh(width=0.75, ax=ax);"
      ],
      "execution_count": 106,
      "outputs": [
        {
          "output_type": "display_data",
          "data": {
            "image/png": "[encoded data removed]",
            "text/plain": [
              "<Figure size 432x2880 with 1 Axes>"
            ]
          },
          "metadata": {
            "tags": []
          }
        }
      ]
    },
    {
      "cell_type": "code",
      "metadata": {
        "id": "R-mCuTZQAgpX",
        "colab_type": "code",
        "colab": {
          "base_uri": "https://localhost:8080/",
          "height": 51
        },
        "outputId": "872de944-a8b0-46a0-beae-58862cc02db1"
      },
      "source": [
        "test = engineer_features(test)\n",
        "X_test = test.drop('id', axis=1)\n",
        "y_pred = pipeline.predict(X_test)\n"
      ],
      "execution_count": 109,
      "outputs": [
        {
          "output_type": "execute_result",
          "data": {
            "text/plain": [
              "array(['functional', 'functional', 'functional', ..., 'functional',\n",
              "       'functional', 'non functional'], dtype=object)"
            ]
          },
          "metadata": {
            "tags": []
          },
          "execution_count": 109
        }
      ]
    },
    {
      "cell_type": "code",
      "metadata": {
        "id": "K-4tgu-0CYs4",
        "colab_type": "code",
        "colab": {
          "base_uri": "https://localhost:8080/",
          "height": 204
        },
        "outputId": "7251ff2e-2c15-43fc-ea52-68bddd21b0d4"
      },
      "source": [
        "sample_submission.head()"
      ],
      "execution_count": 110,
      "outputs": [
        {
          "output_type": "execute_result",
          "data": {
            "text/html": [
              "<div>\n",
              "<style scoped>\n",
              "    .dataframe tbody tr th:only-of-type {\n",
              "        vertical-align: middle;\n",
              "    }\n",
              "\n",
              "    .dataframe tbody tr th {\n",
              "        vertical-align: top;\n",
              "    }\n",
              "\n",
              "    .dataframe thead th {\n",
              "        text-align: right;\n",
              "    }\n",
              "</style>\n",
              "<table border=\"1\" class=\"dataframe\">\n",
              "  <thead>\n",
              "    <tr style=\"text-align: right;\">\n",
              "      <th></th>\n",
              "      <th>id</th>\n",
              "      <th>status_group</th>\n",
              "    </tr>\n",
              "  </thead>\n",
              "  <tbody>\n",
              "    <tr>\n",
              "      <th>0</th>\n",
              "      <td>50785</td>\n",
              "      <td>functional</td>\n",
              "    </tr>\n",
              "    <tr>\n",
              "      <th>1</th>\n",
              "      <td>51630</td>\n",
              "      <td>functional</td>\n",
              "    </tr>\n",
              "    <tr>\n",
              "      <th>2</th>\n",
              "      <td>17168</td>\n",
              "      <td>functional</td>\n",
              "    </tr>\n",
              "    <tr>\n",
              "      <th>3</th>\n",
              "      <td>45559</td>\n",
              "      <td>functional</td>\n",
              "    </tr>\n",
              "    <tr>\n",
              "      <th>4</th>\n",
              "      <td>49871</td>\n",
              "      <td>functional</td>\n",
              "    </tr>\n",
              "  </tbody>\n",
              "</table>\n",
              "</div>"
            ],
            "text/plain": [
              "      id status_group\n",
              "0  50785   functional\n",
              "1  51630   functional\n",
              "2  17168   functional\n",
              "3  45559   functional\n",
              "4  49871   functional"
            ]
          },
          "metadata": {
            "tags": []
          },
          "execution_count": 110
        }
      ]
    },
    {
      "cell_type": "code",
      "metadata": {
        "id": "qGc894eeAMaV",
        "colab_type": "code",
        "colab": {
          "base_uri": "https://localhost:8080/",
          "height": 204
        },
        "outputId": "50036a8b-2191-4beb-f76f-76b9bcb0cc9f"
      },
      "source": [
        "y_pred = pd.DataFrame(y_pred, columns=['status_group'])\n",
        "y_pred.head()"
      ],
      "execution_count": 112,
      "outputs": [
        {
          "output_type": "execute_result",
          "data": {
            "text/html": [
              "<div>\n",
              "<style scoped>\n",
              "    .dataframe tbody tr th:only-of-type {\n",
              "        vertical-align: middle;\n",
              "    }\n",
              "\n",
              "    .dataframe tbody tr th {\n",
              "        vertical-align: top;\n",
              "    }\n",
              "\n",
              "    .dataframe thead th {\n",
              "        text-align: right;\n",
              "    }\n",
              "</style>\n",
              "<table border=\"1\" class=\"dataframe\">\n",
              "  <thead>\n",
              "    <tr style=\"text-align: right;\">\n",
              "      <th></th>\n",
              "      <th>status_group</th>\n",
              "    </tr>\n",
              "  </thead>\n",
              "  <tbody>\n",
              "    <tr>\n",
              "      <th>0</th>\n",
              "      <td>functional</td>\n",
              "    </tr>\n",
              "    <tr>\n",
              "      <th>1</th>\n",
              "      <td>functional</td>\n",
              "    </tr>\n",
              "    <tr>\n",
              "      <th>2</th>\n",
              "      <td>functional</td>\n",
              "    </tr>\n",
              "    <tr>\n",
              "      <th>3</th>\n",
              "      <td>non functional</td>\n",
              "    </tr>\n",
              "    <tr>\n",
              "      <th>4</th>\n",
              "      <td>functional</td>\n",
              "    </tr>\n",
              "  </tbody>\n",
              "</table>\n",
              "</div>"
            ],
            "text/plain": [
              "     status_group\n",
              "0      functional\n",
              "1      functional\n",
              "2      functional\n",
              "3  non functional\n",
              "4      functional"
            ]
          },
          "metadata": {
            "tags": []
          },
          "execution_count": 112
        }
      ]
    },
    {
      "cell_type": "code",
      "metadata": {
        "id": "5OGRJ7FmCeF_",
        "colab_type": "code",
        "colab": {
          "base_uri": "https://localhost:8080/",
          "height": 204
        },
        "outputId": "322800fb-0034-485d-a912-73991a500b41"
      },
      "source": [
        "submission_id = pd.DataFrame(test['id'], columns=['id'])\n",
        "submission_id.head()"
      ],
      "execution_count": 113,
      "outputs": [
        {
          "output_type": "execute_result",
          "data": {
            "text/html": [
              "<div>\n",
              "<style scoped>\n",
              "    .dataframe tbody tr th:only-of-type {\n",
              "        vertical-align: middle;\n",
              "    }\n",
              "\n",
              "    .dataframe tbody tr th {\n",
              "        vertical-align: top;\n",
              "    }\n",
              "\n",
              "    .dataframe thead th {\n",
              "        text-align: right;\n",
              "    }\n",
              "</style>\n",
              "<table border=\"1\" class=\"dataframe\">\n",
              "  <thead>\n",
              "    <tr style=\"text-align: right;\">\n",
              "      <th></th>\n",
              "      <th>id</th>\n",
              "    </tr>\n",
              "  </thead>\n",
              "  <tbody>\n",
              "    <tr>\n",
              "      <th>0</th>\n",
              "      <td>50785</td>\n",
              "    </tr>\n",
              "    <tr>\n",
              "      <th>1</th>\n",
              "      <td>51630</td>\n",
              "    </tr>\n",
              "    <tr>\n",
              "      <th>2</th>\n",
              "      <td>17168</td>\n",
              "    </tr>\n",
              "    <tr>\n",
              "      <th>3</th>\n",
              "      <td>45559</td>\n",
              "    </tr>\n",
              "    <tr>\n",
              "      <th>4</th>\n",
              "      <td>49871</td>\n",
              "    </tr>\n",
              "  </tbody>\n",
              "</table>\n",
              "</div>"
            ],
            "text/plain": [
              "      id\n",
              "0  50785\n",
              "1  51630\n",
              "2  17168\n",
              "3  45559\n",
              "4  49871"
            ]
          },
          "metadata": {
            "tags": []
          },
          "execution_count": 113
        }
      ]
    },
    {
      "cell_type": "code",
      "metadata": {
        "id": "02_Uf81WCzum",
        "colab_type": "code",
        "colab": {
          "base_uri": "https://localhost:8080/",
          "height": 34
        },
        "outputId": "8a760d3d-45ed-480f-afda-fc2513ebeb37"
      },
      "source": [
        "submission_id.shape, y_pred.shape"
      ],
      "execution_count": 116,
      "outputs": [
        {
          "output_type": "execute_result",
          "data": {
            "text/plain": [
              "((14358, 1), (14358, 1))"
            ]
          },
          "metadata": {
            "tags": []
          },
          "execution_count": 116
        }
      ]
    },
    {
      "cell_type": "code",
      "metadata": {
        "id": "X6I57aGqC-p3",
        "colab_type": "code",
        "colab": {
          "base_uri": "https://localhost:8080/",
          "height": 204
        },
        "outputId": "e5ac1795-8e21-4c00-ae6a-d756c555fd01"
      },
      "source": [
        "submission = pd.concat([submission_id, y_pred], axis=1)\n",
        "submission.head()"
      ],
      "execution_count": 117,
      "outputs": [
        {
          "output_type": "execute_result",
          "data": {
            "text/html": [
              "<div>\n",
              "<style scoped>\n",
              "    .dataframe tbody tr th:only-of-type {\n",
              "        vertical-align: middle;\n",
              "    }\n",
              "\n",
              "    .dataframe tbody tr th {\n",
              "        vertical-align: top;\n",
              "    }\n",
              "\n",
              "    .dataframe thead th {\n",
              "        text-align: right;\n",
              "    }\n",
              "</style>\n",
              "<table border=\"1\" class=\"dataframe\">\n",
              "  <thead>\n",
              "    <tr style=\"text-align: right;\">\n",
              "      <th></th>\n",
              "      <th>id</th>\n",
              "      <th>status_group</th>\n",
              "    </tr>\n",
              "  </thead>\n",
              "  <tbody>\n",
              "    <tr>\n",
              "      <th>0</th>\n",
              "      <td>50785</td>\n",
              "      <td>functional</td>\n",
              "    </tr>\n",
              "    <tr>\n",
              "      <th>1</th>\n",
              "      <td>51630</td>\n",
              "      <td>functional</td>\n",
              "    </tr>\n",
              "    <tr>\n",
              "      <th>2</th>\n",
              "      <td>17168</td>\n",
              "      <td>functional</td>\n",
              "    </tr>\n",
              "    <tr>\n",
              "      <th>3</th>\n",
              "      <td>45559</td>\n",
              "      <td>non functional</td>\n",
              "    </tr>\n",
              "    <tr>\n",
              "      <th>4</th>\n",
              "      <td>49871</td>\n",
              "      <td>functional</td>\n",
              "    </tr>\n",
              "  </tbody>\n",
              "</table>\n",
              "</div>"
            ],
            "text/plain": [
              "      id    status_group\n",
              "0  50785      functional\n",
              "1  51630      functional\n",
              "2  17168      functional\n",
              "3  45559  non functional\n",
              "4  49871      functional"
            ]
          },
          "metadata": {
            "tags": []
          },
          "execution_count": 117
        }
      ]
    },
    {
      "cell_type": "code",
      "metadata": {
        "id": "tRMLupmEDQ9p",
        "colab_type": "code",
        "colab": {}
      },
      "source": [
        "submission.to_csv('water-submission-03.csv', index = None, header=True)"
      ],
      "execution_count": 0,
      "outputs": []
    },
    {
      "cell_type": "code",
      "metadata": {
        "id": "zvDQ658lDiJL",
        "colab_type": "code",
        "colab": {
          "base_uri": "https://localhost:8080/",
          "height": 51
        },
        "outputId": "7d7b1896-829b-4a0a-88ff-e20af7d07b28"
      },
      "source": [
        "from sklearn.experimental import enable_iterative_imputer\n",
        "from sklearn.impute import IterativeImputer\n",
        "\n",
        "pipeline = make_pipeline(\n",
        "    ce.OneHotEncoder(use_cat_names=True),\n",
        "    IterativeImputer(max_iter=10, random_state=25),\n",
        "    DecisionTreeClassifier(min_samples_leaf=10, random_state=80)\n",
        ")\n",
        "\n",
        "pipeline.fit(X_train, y_train)\n",
        "print('Train Accuracy', pipeline.score(X_train, y_train))\n",
        "print('Validation Accuracy', pipeline.score(X_val, y_val))"
      ],
      "execution_count": 120,
      "outputs": [
        {
          "output_type": "stream",
          "text": [
            "Train Accuracy 0.8394837261503928\n",
            "Validation Accuracy 0.7667340067340067\n"
          ],
          "name": "stdout"
        }
      ]
    },
    {
      "cell_type": "code",
      "metadata": {
        "id": "d36ISqelGS_q",
        "colab_type": "code",
        "colab": {
          "base_uri": "https://localhost:8080/",
          "height": 1000
        },
        "outputId": "acd25cc5-a2d6-4123-f3d8-454a324ea5ce"
      },
      "source": [
        "for i in range(1,30):\n",
        "  pipeline = make_pipeline(\n",
        "    ce.OneHotEncoder(use_cat_names=True),\n",
        "    IterativeImputer(max_iter=10, random_state=25),\n",
        "    DecisionTreeClassifier(min_samples_leaf=i, random_state=80)\n",
        "  )\n",
        "  pipeline.fit(X_train, y_train)\n",
        "  print('Minimum leaf samples:', i)\n",
        "  print('Train Accuracy', pipeline.score(X_train, y_train))\n",
        "  print('Validation Accuracy', pipeline.score(X_val, y_val))"
      ],
      "execution_count": 122,
      "outputs": [
        {
          "output_type": "stream",
          "text": [
            "Minimum leaf samples: 1\n",
            "Train Accuracy 0.9970145903479237\n",
            "Validation Accuracy 0.7515824915824916\n",
            "Minimum leaf samples: 2\n",
            "Train Accuracy 0.9392592592592592\n",
            "Validation Accuracy 0.7578451178451179\n",
            "Minimum leaf samples: 3\n",
            "Train Accuracy 0.9150168350168351\n",
            "Validation Accuracy 0.7589225589225589\n",
            "Minimum leaf samples: 4\n",
            "Train Accuracy 0.8939842873176207\n",
            "Validation Accuracy 0.7631649831649832\n",
            "Minimum leaf samples: 5\n",
            "Train Accuracy 0.8809427609427609\n",
            "Validation Accuracy 0.763973063973064\n",
            "Minimum leaf samples: 6\n",
            "Train Accuracy 0.8690011223344557\n",
            "Validation Accuracy 0.7652525252525253\n",
            "Minimum leaf samples: 7\n",
            "Train Accuracy 0.8590796857463524\n",
            "Validation Accuracy 0.7665319865319865\n",
            "Minimum leaf samples: 8\n",
            "Train Accuracy 0.850594837261504\n",
            "Validation Accuracy 0.7686868686868686\n",
            "Minimum leaf samples: 9\n",
            "Train Accuracy 0.8444668911335578\n",
            "Validation Accuracy 0.7651851851851852\n",
            "Minimum leaf samples: 10\n",
            "Train Accuracy 0.8394837261503928\n",
            "Validation Accuracy 0.7667340067340067\n",
            "Minimum leaf samples: 11\n",
            "Train Accuracy 0.8345230078563411\n",
            "Validation Accuracy 0.7698989898989899\n",
            "Minimum leaf samples: 12\n",
            "Train Accuracy 0.8315600448933782\n",
            "Validation Accuracy 0.7682828282828282\n",
            "Minimum leaf samples: 13\n",
            "Train Accuracy 0.8279685746352413\n",
            "Validation Accuracy 0.7676767676767676\n",
            "Minimum leaf samples: 14\n",
            "Train Accuracy 0.8248709315375982\n",
            "Validation Accuracy 0.7701683501683502\n",
            "Minimum leaf samples: 15\n",
            "Train Accuracy 0.8218406285072952\n",
            "Validation Accuracy 0.7695622895622896\n",
            "Minimum leaf samples: 16\n",
            "Train Accuracy 0.8188327721661055\n",
            "Validation Accuracy 0.7674074074074074\n",
            "Minimum leaf samples: 17\n",
            "Train Accuracy 0.8161391694725028\n",
            "Validation Accuracy 0.7668013468013468\n",
            "Minimum leaf samples: 18\n",
            "Train Accuracy 0.8133333333333334\n",
            "Validation Accuracy 0.7669360269360269\n",
            "Minimum leaf samples: 19\n",
            "Train Accuracy 0.811986531986532\n",
            "Validation Accuracy 0.7631649831649832\n",
            "Minimum leaf samples: 20\n",
            "Train Accuracy 0.8094500561167228\n",
            "Validation Accuracy 0.762020202020202\n"
          ],
          "name": "stdout"
        },
        {
          "output_type": "error",
          "ename": "KeyboardInterrupt",
          "evalue": "ignored",
          "traceback": [
            "\u001b[0;31m---------------------------------------------------------------------------\u001b[0m",
            "\u001b[0;31mKeyboardInterrupt\u001b[0m                         Traceback (most recent call last)",
            "\u001b[0;32m<ipython-input-122-2a536f4923ba>\u001b[0m in \u001b[0;36m<module>\u001b[0;34m()\u001b[0m\n\u001b[1;32m      5\u001b[0m     \u001b[0mDecisionTreeClassifier\u001b[0m\u001b[0;34m(\u001b[0m\u001b[0mmin_samples_leaf\u001b[0m\u001b[0;34m=\u001b[0m\u001b[0mi\u001b[0m\u001b[0;34m,\u001b[0m \u001b[0mrandom_state\u001b[0m\u001b[0;34m=\u001b[0m\u001b[0;36m80\u001b[0m\u001b[0;34m)\u001b[0m\u001b[0;34m\u001b[0m\u001b[0;34m\u001b[0m\u001b[0m\n\u001b[1;32m      6\u001b[0m   )\n\u001b[0;32m----> 7\u001b[0;31m   \u001b[0mpipeline\u001b[0m\u001b[0;34m.\u001b[0m\u001b[0mfit\u001b[0m\u001b[0;34m(\u001b[0m\u001b[0mX_train\u001b[0m\u001b[0;34m,\u001b[0m \u001b[0my_train\u001b[0m\u001b[0;34m)\u001b[0m\u001b[0;34m\u001b[0m\u001b[0;34m\u001b[0m\u001b[0m\n\u001b[0m\u001b[1;32m      8\u001b[0m   \u001b[0mprint\u001b[0m\u001b[0;34m(\u001b[0m\u001b[0;34m'Minimum leaf samples:'\u001b[0m\u001b[0;34m,\u001b[0m \u001b[0mi\u001b[0m\u001b[0;34m)\u001b[0m\u001b[0;34m\u001b[0m\u001b[0;34m\u001b[0m\u001b[0m\n\u001b[1;32m      9\u001b[0m   \u001b[0mprint\u001b[0m\u001b[0;34m(\u001b[0m\u001b[0;34m'Train Accuracy'\u001b[0m\u001b[0;34m,\u001b[0m \u001b[0mpipeline\u001b[0m\u001b[0;34m.\u001b[0m\u001b[0mscore\u001b[0m\u001b[0;34m(\u001b[0m\u001b[0mX_train\u001b[0m\u001b[0;34m,\u001b[0m \u001b[0my_train\u001b[0m\u001b[0;34m)\u001b[0m\u001b[0;34m)\u001b[0m\u001b[0;34m\u001b[0m\u001b[0;34m\u001b[0m\u001b[0m\n",
            "\u001b[0;32m/usr/local/lib/python3.6/dist-packages/sklearn/pipeline.py\u001b[0m in \u001b[0;36mfit\u001b[0;34m(self, X, y, **fit_params)\u001b[0m\n\u001b[1;32m    350\u001b[0m             \u001b[0mThis\u001b[0m \u001b[0mestimator\u001b[0m\u001b[0;34m\u001b[0m\u001b[0;34m\u001b[0m\u001b[0m\n\u001b[1;32m    351\u001b[0m         \"\"\"\n\u001b[0;32m--> 352\u001b[0;31m         \u001b[0mXt\u001b[0m\u001b[0;34m,\u001b[0m \u001b[0mfit_params\u001b[0m \u001b[0;34m=\u001b[0m \u001b[0mself\u001b[0m\u001b[0;34m.\u001b[0m\u001b[0m_fit\u001b[0m\u001b[0;34m(\u001b[0m\u001b[0mX\u001b[0m\u001b[0;34m,\u001b[0m \u001b[0my\u001b[0m\u001b[0;34m,\u001b[0m \u001b[0;34m**\u001b[0m\u001b[0mfit_params\u001b[0m\u001b[0;34m)\u001b[0m\u001b[0;34m\u001b[0m\u001b[0;34m\u001b[0m\u001b[0m\n\u001b[0m\u001b[1;32m    353\u001b[0m         with _print_elapsed_time('Pipeline',\n\u001b[1;32m    354\u001b[0m                                  self._log_message(len(self.steps) - 1)):\n",
            "\u001b[0;32m/usr/local/lib/python3.6/dist-packages/sklearn/pipeline.py\u001b[0m in \u001b[0;36m_fit\u001b[0;34m(self, X, y, **fit_params)\u001b[0m\n\u001b[1;32m    315\u001b[0m                 \u001b[0mmessage_clsname\u001b[0m\u001b[0;34m=\u001b[0m\u001b[0;34m'Pipeline'\u001b[0m\u001b[0;34m,\u001b[0m\u001b[0;34m\u001b[0m\u001b[0;34m\u001b[0m\u001b[0m\n\u001b[1;32m    316\u001b[0m                 \u001b[0mmessage\u001b[0m\u001b[0;34m=\u001b[0m\u001b[0mself\u001b[0m\u001b[0;34m.\u001b[0m\u001b[0m_log_message\u001b[0m\u001b[0;34m(\u001b[0m\u001b[0mstep_idx\u001b[0m\u001b[0;34m)\u001b[0m\u001b[0;34m,\u001b[0m\u001b[0;34m\u001b[0m\u001b[0;34m\u001b[0m\u001b[0m\n\u001b[0;32m--> 317\u001b[0;31m                 **fit_params_steps[name])\n\u001b[0m\u001b[1;32m    318\u001b[0m             \u001b[0;31m# Replace the transformer of the step with the fitted\u001b[0m\u001b[0;34m\u001b[0m\u001b[0;34m\u001b[0m\u001b[0;34m\u001b[0m\u001b[0m\n\u001b[1;32m    319\u001b[0m             \u001b[0;31m# transformer. This is necessary when loading the transformer\u001b[0m\u001b[0;34m\u001b[0m\u001b[0;34m\u001b[0m\u001b[0;34m\u001b[0m\u001b[0m\n",
            "\u001b[0;32m/usr/local/lib/python3.6/dist-packages/joblib/memory.py\u001b[0m in \u001b[0;36m__call__\u001b[0;34m(self, *args, **kwargs)\u001b[0m\n\u001b[1;32m    353\u001b[0m \u001b[0;34m\u001b[0m\u001b[0m\n\u001b[1;32m    354\u001b[0m     \u001b[0;32mdef\u001b[0m \u001b[0m__call__\u001b[0m\u001b[0;34m(\u001b[0m\u001b[0mself\u001b[0m\u001b[0;34m,\u001b[0m \u001b[0;34m*\u001b[0m\u001b[0margs\u001b[0m\u001b[0;34m,\u001b[0m \u001b[0;34m**\u001b[0m\u001b[0mkwargs\u001b[0m\u001b[0;34m)\u001b[0m\u001b[0;34m:\u001b[0m\u001b[0;34m\u001b[0m\u001b[0;34m\u001b[0m\u001b[0m\n\u001b[0;32m--> 355\u001b[0;31m         \u001b[0;32mreturn\u001b[0m \u001b[0mself\u001b[0m\u001b[0;34m.\u001b[0m\u001b[0mfunc\u001b[0m\u001b[0;34m(\u001b[0m\u001b[0;34m*\u001b[0m\u001b[0margs\u001b[0m\u001b[0;34m,\u001b[0m \u001b[0;34m**\u001b[0m\u001b[0mkwargs\u001b[0m\u001b[0;34m)\u001b[0m\u001b[0;34m\u001b[0m\u001b[0;34m\u001b[0m\u001b[0m\n\u001b[0m\u001b[1;32m    356\u001b[0m \u001b[0;34m\u001b[0m\u001b[0m\n\u001b[1;32m    357\u001b[0m     \u001b[0;32mdef\u001b[0m \u001b[0mcall_and_shelve\u001b[0m\u001b[0;34m(\u001b[0m\u001b[0mself\u001b[0m\u001b[0;34m,\u001b[0m \u001b[0;34m*\u001b[0m\u001b[0margs\u001b[0m\u001b[0;34m,\u001b[0m \u001b[0;34m**\u001b[0m\u001b[0mkwargs\u001b[0m\u001b[0;34m)\u001b[0m\u001b[0;34m:\u001b[0m\u001b[0;34m\u001b[0m\u001b[0;34m\u001b[0m\u001b[0m\n",
            "\u001b[0;32m/usr/local/lib/python3.6/dist-packages/sklearn/pipeline.py\u001b[0m in \u001b[0;36m_fit_transform_one\u001b[0;34m(transformer, X, y, weight, message_clsname, message, **fit_params)\u001b[0m\n\u001b[1;32m    714\u001b[0m     \u001b[0;32mwith\u001b[0m \u001b[0m_print_elapsed_time\u001b[0m\u001b[0;34m(\u001b[0m\u001b[0mmessage_clsname\u001b[0m\u001b[0;34m,\u001b[0m \u001b[0mmessage\u001b[0m\u001b[0;34m)\u001b[0m\u001b[0;34m:\u001b[0m\u001b[0;34m\u001b[0m\u001b[0;34m\u001b[0m\u001b[0m\n\u001b[1;32m    715\u001b[0m         \u001b[0;32mif\u001b[0m \u001b[0mhasattr\u001b[0m\u001b[0;34m(\u001b[0m\u001b[0mtransformer\u001b[0m\u001b[0;34m,\u001b[0m \u001b[0;34m'fit_transform'\u001b[0m\u001b[0;34m)\u001b[0m\u001b[0;34m:\u001b[0m\u001b[0;34m\u001b[0m\u001b[0;34m\u001b[0m\u001b[0m\n\u001b[0;32m--> 716\u001b[0;31m             \u001b[0mres\u001b[0m \u001b[0;34m=\u001b[0m \u001b[0mtransformer\u001b[0m\u001b[0;34m.\u001b[0m\u001b[0mfit_transform\u001b[0m\u001b[0;34m(\u001b[0m\u001b[0mX\u001b[0m\u001b[0;34m,\u001b[0m \u001b[0my\u001b[0m\u001b[0;34m,\u001b[0m \u001b[0;34m**\u001b[0m\u001b[0mfit_params\u001b[0m\u001b[0;34m)\u001b[0m\u001b[0;34m\u001b[0m\u001b[0;34m\u001b[0m\u001b[0m\n\u001b[0m\u001b[1;32m    717\u001b[0m         \u001b[0;32melse\u001b[0m\u001b[0;34m:\u001b[0m\u001b[0;34m\u001b[0m\u001b[0;34m\u001b[0m\u001b[0m\n\u001b[1;32m    718\u001b[0m             \u001b[0mres\u001b[0m \u001b[0;34m=\u001b[0m \u001b[0mtransformer\u001b[0m\u001b[0;34m.\u001b[0m\u001b[0mfit\u001b[0m\u001b[0;34m(\u001b[0m\u001b[0mX\u001b[0m\u001b[0;34m,\u001b[0m \u001b[0my\u001b[0m\u001b[0;34m,\u001b[0m \u001b[0;34m**\u001b[0m\u001b[0mfit_params\u001b[0m\u001b[0;34m)\u001b[0m\u001b[0;34m.\u001b[0m\u001b[0mtransform\u001b[0m\u001b[0;34m(\u001b[0m\u001b[0mX\u001b[0m\u001b[0;34m)\u001b[0m\u001b[0;34m\u001b[0m\u001b[0;34m\u001b[0m\u001b[0m\n",
            "\u001b[0;32m/usr/local/lib/python3.6/dist-packages/sklearn/impute/_iterative.py\u001b[0m in \u001b[0;36mfit_transform\u001b[0;34m(self, X, y)\u001b[0m\n\u001b[1;32m    578\u001b[0m                 Xt, estimator = self._impute_one_feature(\n\u001b[1;32m    579\u001b[0m                     \u001b[0mXt\u001b[0m\u001b[0;34m,\u001b[0m \u001b[0mmask_missing_values\u001b[0m\u001b[0;34m,\u001b[0m \u001b[0mfeat_idx\u001b[0m\u001b[0;34m,\u001b[0m \u001b[0mneighbor_feat_idx\u001b[0m\u001b[0;34m,\u001b[0m\u001b[0;34m\u001b[0m\u001b[0;34m\u001b[0m\u001b[0m\n\u001b[0;32m--> 580\u001b[0;31m                     estimator=None, fit_mode=True)\n\u001b[0m\u001b[1;32m    581\u001b[0m                 estimator_triplet = _ImputerTriplet(feat_idx,\n\u001b[1;32m    582\u001b[0m                                                     \u001b[0mneighbor_feat_idx\u001b[0m\u001b[0;34m,\u001b[0m\u001b[0;34m\u001b[0m\u001b[0;34m\u001b[0m\u001b[0m\n",
            "\u001b[0;32m/usr/local/lib/python3.6/dist-packages/sklearn/impute/_iterative.py\u001b[0m in \u001b[0;36m_impute_one_feature\u001b[0;34m(self, X_filled, mask_missing_values, feat_idx, neighbor_feat_idx, estimator, fit_mode)\u001b[0m\n\u001b[1;32m    277\u001b[0m             y_train = safe_indexing(X_filled[:, feat_idx],\n\u001b[1;32m    278\u001b[0m                                     ~missing_row_mask)\n\u001b[0;32m--> 279\u001b[0;31m             \u001b[0mestimator\u001b[0m\u001b[0;34m.\u001b[0m\u001b[0mfit\u001b[0m\u001b[0;34m(\u001b[0m\u001b[0mX_train\u001b[0m\u001b[0;34m,\u001b[0m \u001b[0my_train\u001b[0m\u001b[0;34m)\u001b[0m\u001b[0;34m\u001b[0m\u001b[0;34m\u001b[0m\u001b[0m\n\u001b[0m\u001b[1;32m    280\u001b[0m \u001b[0;34m\u001b[0m\u001b[0m\n\u001b[1;32m    281\u001b[0m         \u001b[0;31m# get posterior samples\u001b[0m\u001b[0;34m\u001b[0m\u001b[0;34m\u001b[0m\u001b[0;34m\u001b[0m\u001b[0m\n",
            "\u001b[0;32m/usr/local/lib/python3.6/dist-packages/sklearn/linear_model/bayes.py\u001b[0m in \u001b[0;36mfit\u001b[0;34m(self, X, y, sample_weight)\u001b[0m\n\u001b[1;32m    213\u001b[0m \u001b[0;34m\u001b[0m\u001b[0m\n\u001b[1;32m    214\u001b[0m         \u001b[0mXT_y\u001b[0m \u001b[0;34m=\u001b[0m \u001b[0mnp\u001b[0m\u001b[0;34m.\u001b[0m\u001b[0mdot\u001b[0m\u001b[0;34m(\u001b[0m\u001b[0mX\u001b[0m\u001b[0;34m.\u001b[0m\u001b[0mT\u001b[0m\u001b[0;34m,\u001b[0m \u001b[0my\u001b[0m\u001b[0;34m)\u001b[0m\u001b[0;34m\u001b[0m\u001b[0;34m\u001b[0m\u001b[0m\n\u001b[0;32m--> 215\u001b[0;31m         \u001b[0mU\u001b[0m\u001b[0;34m,\u001b[0m \u001b[0mS\u001b[0m\u001b[0;34m,\u001b[0m \u001b[0mVh\u001b[0m \u001b[0;34m=\u001b[0m \u001b[0mlinalg\u001b[0m\u001b[0;34m.\u001b[0m\u001b[0msvd\u001b[0m\u001b[0;34m(\u001b[0m\u001b[0mX\u001b[0m\u001b[0;34m,\u001b[0m \u001b[0mfull_matrices\u001b[0m\u001b[0;34m=\u001b[0m\u001b[0;32mFalse\u001b[0m\u001b[0;34m)\u001b[0m\u001b[0;34m\u001b[0m\u001b[0;34m\u001b[0m\u001b[0m\n\u001b[0m\u001b[1;32m    216\u001b[0m         \u001b[0meigen_vals_\u001b[0m \u001b[0;34m=\u001b[0m \u001b[0mS\u001b[0m \u001b[0;34m**\u001b[0m \u001b[0;36m2\u001b[0m\u001b[0;34m\u001b[0m\u001b[0;34m\u001b[0m\u001b[0m\n\u001b[1;32m    217\u001b[0m \u001b[0;34m\u001b[0m\u001b[0m\n",
            "\u001b[0;32m/usr/local/lib/python3.6/dist-packages/scipy/linalg/decomp_svd.py\u001b[0m in \u001b[0;36msvd\u001b[0;34m(a, full_matrices, compute_uv, overwrite_a, check_finite, lapack_driver)\u001b[0m\n\u001b[1;32m    127\u001b[0m     \u001b[0;31m# perform decomposition\u001b[0m\u001b[0;34m\u001b[0m\u001b[0;34m\u001b[0m\u001b[0;34m\u001b[0m\u001b[0m\n\u001b[1;32m    128\u001b[0m     u, s, v, info = gesXd(a1, compute_uv=compute_uv, lwork=lwork,\n\u001b[0;32m--> 129\u001b[0;31m                           full_matrices=full_matrices, overwrite_a=overwrite_a)\n\u001b[0m\u001b[1;32m    130\u001b[0m \u001b[0;34m\u001b[0m\u001b[0m\n\u001b[1;32m    131\u001b[0m     \u001b[0;32mif\u001b[0m \u001b[0minfo\u001b[0m \u001b[0;34m>\u001b[0m \u001b[0;36m0\u001b[0m\u001b[0;34m:\u001b[0m\u001b[0;34m\u001b[0m\u001b[0;34m\u001b[0m\u001b[0m\n",
            "\u001b[0;31mKeyboardInterrupt\u001b[0m: "
          ]
        }
      ]
    },
    {
      "cell_type": "code",
      "metadata": {
        "id": "5PmpIEf-G4w9",
        "colab_type": "code",
        "colab": {
          "base_uri": "https://localhost:8080/",
          "height": 51
        },
        "outputId": "65fc75a0-1d1e-4d26-bfbd-ae3f587627e2"
      },
      "source": [
        "pipeline = make_pipeline(\n",
        "    ce.OneHotEncoder(use_cat_names=True),\n",
        "    IterativeImputer(max_iter=10, random_state=25),\n",
        "    DecisionTreeClassifier(min_samples_leaf=14, random_state=80)\n",
        ")\n",
        "\n",
        "pipeline.fit(X_train, y_train)\n",
        "print('Train Accuracy', pipeline.score(X_train, y_train))\n",
        "print('Validation Accuracy', pipeline.score(X_val, y_val))"
      ],
      "execution_count": 123,
      "outputs": [
        {
          "output_type": "stream",
          "text": [
            "Train Accuracy 0.8248709315375982\n",
            "Validation Accuracy 0.7701683501683502\n"
          ],
          "name": "stdout"
        }
      ]
    },
    {
      "cell_type": "code",
      "metadata": {
        "id": "g3li7QAcIm9v",
        "colab_type": "code",
        "colab": {
          "base_uri": "https://localhost:8080/",
          "height": 204
        },
        "outputId": "66d49201-512d-4fbb-9ac7-94a1b1143db2"
      },
      "source": [
        "y_pred = pipeline.predict(X_test)\n",
        "y_pred = pd.DataFrame(y_pred, columns=['status_group'])\n",
        "\n",
        "submission2 = pd.concat([submission_id, y_pred], axis=1)\n",
        "submission2.head()"
      ],
      "execution_count": 124,
      "outputs": [
        {
          "output_type": "execute_result",
          "data": {
            "text/html": [
              "<div>\n",
              "<style scoped>\n",
              "    .dataframe tbody tr th:only-of-type {\n",
              "        vertical-align: middle;\n",
              "    }\n",
              "\n",
              "    .dataframe tbody tr th {\n",
              "        vertical-align: top;\n",
              "    }\n",
              "\n",
              "    .dataframe thead th {\n",
              "        text-align: right;\n",
              "    }\n",
              "</style>\n",
              "<table border=\"1\" class=\"dataframe\">\n",
              "  <thead>\n",
              "    <tr style=\"text-align: right;\">\n",
              "      <th></th>\n",
              "      <th>id</th>\n",
              "      <th>status_group</th>\n",
              "    </tr>\n",
              "  </thead>\n",
              "  <tbody>\n",
              "    <tr>\n",
              "      <th>0</th>\n",
              "      <td>50785</td>\n",
              "      <td>non functional</td>\n",
              "    </tr>\n",
              "    <tr>\n",
              "      <th>1</th>\n",
              "      <td>51630</td>\n",
              "      <td>functional</td>\n",
              "    </tr>\n",
              "    <tr>\n",
              "      <th>2</th>\n",
              "      <td>17168</td>\n",
              "      <td>functional</td>\n",
              "    </tr>\n",
              "    <tr>\n",
              "      <th>3</th>\n",
              "      <td>45559</td>\n",
              "      <td>non functional</td>\n",
              "    </tr>\n",
              "    <tr>\n",
              "      <th>4</th>\n",
              "      <td>49871</td>\n",
              "      <td>functional</td>\n",
              "    </tr>\n",
              "  </tbody>\n",
              "</table>\n",
              "</div>"
            ],
            "text/plain": [
              "      id    status_group\n",
              "0  50785  non functional\n",
              "1  51630      functional\n",
              "2  17168      functional\n",
              "3  45559  non functional\n",
              "4  49871      functional"
            ]
          },
          "metadata": {
            "tags": []
          },
          "execution_count": 124
        }
      ]
    },
    {
      "cell_type": "code",
      "metadata": {
        "id": "jc6xQUv5JDb1",
        "colab_type": "code",
        "colab": {}
      },
      "source": [
        "submission2.to_csv('water-submission-04.csv', index = None, header=True)"
      ],
      "execution_count": 0,
      "outputs": []
    },
    {
      "cell_type": "code",
      "metadata": {
        "id": "RI7Vr01rJ58Z",
        "colab_type": "code",
        "colab": {}
      },
      "source": [
        "train['functional'] = (train['status_group'] == 'functional').astype(int)\n",
        "\n",
        "import seaborn as sns\n",
        "\n",
        "sns.catplot(x='quantity', y='functional', kind='violin', data=train);"
      ],
      "execution_count": 0,
      "outputs": []
    },
    {
      "cell_type": "code",
      "metadata": {
        "id": "KGZE7FhVM63E",
        "colab_type": "code",
        "colab": {
          "base_uri": "https://localhost:8080/",
          "height": 369
        },
        "outputId": "09eadfd1-09cd-4c55-977e-cd559e097348"
      },
      "source": [
        "sns.catplot(x='quantity', y='longitude', hue='functional',\n",
        "            kind='violin', split=True, data=train);"
      ],
      "execution_count": 132,
      "outputs": [
        {
          "output_type": "display_data",
          "data": {
            "image/png": "[encoded data removed]",
            "text/plain": [
              "<Figure size 418x360 with 1 Axes>"
            ]
          },
          "metadata": {
            "tags": []
          }
        }
      ]
    },
    {
      "cell_type": "code",
      "metadata": {
        "id": "zk9CDdaROvdq",
        "colab_type": "code",
        "colab": {
          "base_uri": "https://localhost:8080/",
          "height": 51
        },
        "outputId": "896fed4e-b21d-4b9a-8883-5e2ddb8407c6"
      },
      "source": [
        "pipeline = make_pipeline(\n",
        "    ce.OneHotEncoder(use_cat_names=True),\n",
        "    SimpleImputer(strategy='median'),\n",
        "    DecisionTreeClassifier(min_samples_leaf=14, random_state=80)\n",
        ")\n",
        "\n",
        "pipeline.fit(X_train, y_train)\n",
        "print('Train Accuracy', pipeline.score(X_train, y_train))\n",
        "print('Validation Accuracy', pipeline.score(X_val, y_val))"
      ],
      "execution_count": 134,
      "outputs": [
        {
          "output_type": "stream",
          "text": [
            "Train Accuracy 0.8221773288439955\n",
            "Validation Accuracy 0.7734006734006734\n"
          ],
          "name": "stdout"
        }
      ]
    },
    {
      "cell_type": "code",
      "metadata": {
        "id": "K2fvvEUXdBfP",
        "colab_type": "code",
        "colab": {
          "base_uri": "https://localhost:8080/",
          "height": 204
        },
        "outputId": "33b0a462-1aeb-49ae-9d1c-5f2ba7b8fb88"
      },
      "source": [
        "y_pred = pipeline.predict(X_test)\n",
        "y_pred = pd.DataFrame(y_pred, columns=['status_group'])\n",
        "\n",
        "submission3 = pd.concat([submission_id, y_pred], axis=1)\n",
        "submission3.head()"
      ],
      "execution_count": 135,
      "outputs": [
        {
          "output_type": "execute_result",
          "data": {
            "text/html": [
              "<div>\n",
              "<style scoped>\n",
              "    .dataframe tbody tr th:only-of-type {\n",
              "        vertical-align: middle;\n",
              "    }\n",
              "\n",
              "    .dataframe tbody tr th {\n",
              "        vertical-align: top;\n",
              "    }\n",
              "\n",
              "    .dataframe thead th {\n",
              "        text-align: right;\n",
              "    }\n",
              "</style>\n",
              "<table border=\"1\" class=\"dataframe\">\n",
              "  <thead>\n",
              "    <tr style=\"text-align: right;\">\n",
              "      <th></th>\n",
              "      <th>id</th>\n",
              "      <th>status_group</th>\n",
              "    </tr>\n",
              "  </thead>\n",
              "  <tbody>\n",
              "    <tr>\n",
              "      <th>0</th>\n",
              "      <td>50785</td>\n",
              "      <td>functional</td>\n",
              "    </tr>\n",
              "    <tr>\n",
              "      <th>1</th>\n",
              "      <td>51630</td>\n",
              "      <td>functional</td>\n",
              "    </tr>\n",
              "    <tr>\n",
              "      <th>2</th>\n",
              "      <td>17168</td>\n",
              "      <td>functional</td>\n",
              "    </tr>\n",
              "    <tr>\n",
              "      <th>3</th>\n",
              "      <td>45559</td>\n",
              "      <td>non functional</td>\n",
              "    </tr>\n",
              "    <tr>\n",
              "      <th>4</th>\n",
              "      <td>49871</td>\n",
              "      <td>functional</td>\n",
              "    </tr>\n",
              "  </tbody>\n",
              "</table>\n",
              "</div>"
            ],
            "text/plain": [
              "      id    status_group\n",
              "0  50785      functional\n",
              "1  51630      functional\n",
              "2  17168      functional\n",
              "3  45559  non functional\n",
              "4  49871      functional"
            ]
          },
          "metadata": {
            "tags": []
          },
          "execution_count": 135
        }
      ]
    },
    {
      "cell_type": "code",
      "metadata": {
        "id": "QMwO-2ZPdfFP",
        "colab_type": "code",
        "colab": {}
      },
      "source": [
        "submission3.to_csv('water-submission-05.csv', index = None, header=True)"
      ],
      "execution_count": 0,
      "outputs": []
    },
    {
      "cell_type": "code",
      "metadata": {
        "id": "e6IFk78ZdpjW",
        "colab_type": "code",
        "colab": {
          "base_uri": "https://localhost:8080/",
          "height": 187
        },
        "outputId": "19b19c16-b532-4533-998f-ed6523a38998"
      },
      "source": [
        "best_10 = importances.sort_values(ascending=False)[:10].index.tolist()\n",
        "best_10"
      ],
      "execution_count": 158,
      "outputs": [
        {
          "output_type": "execute_result",
          "data": {
            "text/plain": [
              "['quantity_dry',\n",
              " 'waterpoint_type_other',\n",
              " 'longitude',\n",
              " 'latitude',\n",
              " 'time_to_inspection',\n",
              " 'gps_height',\n",
              " 'amount_tsh',\n",
              " 'population',\n",
              " 'waterpoint_type_communal standpipe multiple',\n",
              " 'construction_year']"
            ]
          },
          "metadata": {
            "tags": []
          },
          "execution_count": 158
        }
      ]
    },
    {
      "cell_type": "code",
      "metadata": {
        "id": "8AyeIYRXe4sJ",
        "colab_type": "code",
        "colab": {
          "base_uri": "https://localhost:8080/",
          "height": 170
        },
        "outputId": "bfd0f9f8-5f80-4f81-8f20-cc4db975de23"
      },
      "source": [
        "del best_10[0]\n",
        "del best_10[0]\n",
        "del best_10[6]\n",
        "best_10.append('quantity')\n",
        "best_10.append('waterpoint_type')\n",
        "best_10"
      ],
      "execution_count": 159,
      "outputs": [
        {
          "output_type": "execute_result",
          "data": {
            "text/plain": [
              "['longitude',\n",
              " 'latitude',\n",
              " 'time_to_inspection',\n",
              " 'gps_height',\n",
              " 'amount_tsh',\n",
              " 'population',\n",
              " 'construction_year',\n",
              " 'quantity',\n",
              " 'waterpoint_type']"
            ]
          },
          "metadata": {
            "tags": []
          },
          "execution_count": 159
        }
      ]
    },
    {
      "cell_type": "code",
      "metadata": {
        "id": "CNSFPKZyeI67",
        "colab_type": "code",
        "colab": {
          "base_uri": "https://localhost:8080/",
          "height": 51
        },
        "outputId": "7d3163de-9ccf-4491-e19f-1eba4095e6c6"
      },
      "source": [
        "X_train = train[best_10]\n",
        "X_val = val[best_10]\n",
        "\n",
        "pipeline = make_pipeline(\n",
        "    ce.OneHotEncoder(use_cat_names=True),\n",
        "    SimpleImputer(strategy='median'),\n",
        "    DecisionTreeClassifier(min_samples_leaf=14, random_state=80)\n",
        ")\n",
        "\n",
        "pipeline.fit(X_train, y_train)\n",
        "print('Train Accuracy', pipeline.score(X_train, y_train))\n",
        "print('Validation Accuracy', pipeline.score(X_val, y_val))"
      ],
      "execution_count": 161,
      "outputs": [
        {
          "output_type": "stream",
          "text": [
            "Train Accuracy 0.8137598204264871\n",
            "Validation Accuracy 0.7591919191919192\n"
          ],
          "name": "stdout"
        }
      ]
    },
    {
      "cell_type": "code",
      "metadata": {
        "id": "mQ5GyJpAeh3L",
        "colab_type": "code",
        "colab": {}
      },
      "source": [
        "X_train = train[features]\n",
        "y_train = train[target]\n",
        "X_val = val[features]\n",
        "y_val = val[target]"
      ],
      "execution_count": 0,
      "outputs": []
    },
    {
      "cell_type": "code",
      "metadata": {
        "id": "kG0zHxVMhfIo",
        "colab_type": "code",
        "colab": {
          "base_uri": "https://localhost:8080/",
          "height": 986
        },
        "outputId": "2f6157d2-b379-406a-ebc2-e21efc3789c2"
      },
      "source": [
        "for i in range(1,20):\n",
        "  print('Max depth:', i)\n",
        "  pipeline = make_pipeline(\n",
        "      ce.OneHotEncoder(use_cat_names=True),\n",
        "      SimpleImputer(strategy='median'),\n",
        "      DecisionTreeClassifier(min_samples_leaf=14, max_depth=i, random_state=80)\n",
        "  )\n",
        "\n",
        "  pipeline.fit(X_train, y_train)\n",
        "  print('Train Accuracy', pipeline.score(X_train, y_train))\n",
        "  print('Validation Accuracy', pipeline.score(X_val, y_val))"
      ],
      "execution_count": 164,
      "outputs": [
        {
          "output_type": "stream",
          "text": [
            "Max depth: 1\n",
            "Train Accuracy 0.6413692480359147\n",
            "Validation Accuracy 0.6451851851851852\n",
            "Max depth: 2\n",
            "Train Accuracy 0.6932435465768799\n",
            "Validation Accuracy 0.6937373737373738\n",
            "Max depth: 3\n",
            "Train Accuracy 0.6932435465768799\n",
            "Validation Accuracy 0.6937373737373738\n",
            "Max depth: 4\n",
            "Train Accuracy 0.7108866442199776\n",
            "Validation Accuracy 0.7094949494949495\n",
            "Max depth: 5\n",
            "Train Accuracy 0.7171043771043771\n",
            "Validation Accuracy 0.7150841750841751\n",
            "Max depth: 6\n",
            "Train Accuracy 0.7285521885521885\n",
            "Validation Accuracy 0.7263973063973064\n",
            "Max depth: 7\n",
            "Train Accuracy 0.734006734006734\n",
            "Validation Accuracy 0.7325252525252526\n",
            "Max depth: 8\n",
            "Train Accuracy 0.7399551066217733\n",
            "Validation Accuracy 0.7322558922558923\n",
            "Max depth: 9\n",
            "Train Accuracy 0.7485297418630752\n",
            "Validation Accuracy 0.74\n",
            "Max depth: 10\n",
            "Train Accuracy 0.7549943883277217\n",
            "Validation Accuracy 0.7455892255892256\n",
            "Max depth: 11\n",
            "Train Accuracy 0.7614814814814815\n",
            "Validation Accuracy 0.7485521885521885\n",
            "Max depth: 12\n",
            "Train Accuracy 0.7685521885521885\n",
            "Validation Accuracy 0.7542087542087542\n",
            "Max depth: 13\n",
            "Train Accuracy 0.7737822671156005\n",
            "Validation Accuracy 0.7561616161616161\n",
            "Max depth: 14\n",
            "Train Accuracy 0.7808754208754208\n",
            "Validation Accuracy 0.7575757575757576\n",
            "Max depth: 15\n",
            "Train Accuracy 0.7869360269360269\n",
            "Validation Accuracy 0.7633670033670034\n",
            "Max depth: 16\n",
            "Train Accuracy 0.7930190796857464\n",
            "Validation Accuracy 0.7632323232323233\n",
            "Max depth: 17\n",
            "Train Accuracy 0.7987878787878788\n",
            "Validation Accuracy 0.7676767676767676\n",
            "Max depth: 18\n",
            "Train Accuracy 0.8037710437710438\n",
            "Validation Accuracy 0.7711111111111111\n",
            "Max depth: 19\n",
            "Train Accuracy 0.8077890011223344\n",
            "Validation Accuracy 0.7717845117845118\n"
          ],
          "name": "stdout"
        }
      ]
    },
    {
      "cell_type": "code",
      "metadata": {
        "id": "8Qg0Xb-kiOn9",
        "colab_type": "code",
        "colab": {
          "base_uri": "https://localhost:8080/",
          "height": 527
        },
        "outputId": "1066b6a4-1d9b-403d-a7ad-1e102d034814"
      },
      "source": [
        "for i in range(20,30):\n",
        "  print('Max depth:', i)\n",
        "  pipeline = make_pipeline(\n",
        "      ce.OneHotEncoder(use_cat_names=True),\n",
        "      SimpleImputer(strategy='median'),\n",
        "      DecisionTreeClassifier(min_samples_leaf=14, max_depth=i, random_state=80)\n",
        "  )\n",
        "\n",
        "  pipeline.fit(X_train, y_train)\n",
        "  print('Train Accuracy', pipeline.score(X_train, y_train))\n",
        "  print('Validation Accuracy', pipeline.score(X_val, y_val))"
      ],
      "execution_count": 165,
      "outputs": [
        {
          "output_type": "stream",
          "text": [
            "Max depth: 20\n",
            "Train Accuracy 0.8107519640852974\n",
            "Validation Accuracy 0.7715151515151515\n",
            "Max depth: 21\n",
            "Train Accuracy 0.8134680134680135\n",
            "Validation Accuracy 0.7734680134680134\n",
            "Max depth: 22\n",
            "Train Accuracy 0.8162289562289562\n",
            "Validation Accuracy 0.7739393939393939\n",
            "Max depth: 23\n",
            "Train Accuracy 0.8178900112233446\n",
            "Validation Accuracy 0.7741414141414141\n",
            "Max depth: 24\n",
            "Train Accuracy 0.819304152637486\n",
            "Validation Accuracy 0.7731313131313131\n",
            "Max depth: 25\n",
            "Train Accuracy 0.8201122334455668\n",
            "Validation Accuracy 0.774006734006734\n",
            "Max depth: 26\n",
            "Train Accuracy 0.8203591470258137\n",
            "Validation Accuracy 0.7736026936026936\n",
            "Max depth: 27\n",
            "Train Accuracy 0.8210998877665544\n",
            "Validation Accuracy 0.7734680134680134\n",
            "Max depth: 28\n",
            "Train Accuracy 0.8214365881032548\n",
            "Validation Accuracy 0.7739393939393939\n",
            "Max depth: 29\n",
            "Train Accuracy 0.8216610549943884\n",
            "Validation Accuracy 0.7743434343434343\n"
          ],
          "name": "stdout"
        }
      ]
    },
    {
      "cell_type": "code",
      "metadata": {
        "id": "qeMwOln0ho4Q",
        "colab_type": "code",
        "colab": {
          "base_uri": "https://localhost:8080/",
          "height": 527
        },
        "outputId": "e8d191d8-43a9-4da4-de0d-54e50f15035a"
      },
      "source": [
        "for i in range(30,40):\n",
        "  print('Max depth:', i)\n",
        "  pipeline = make_pipeline(\n",
        "      ce.OneHotEncoder(use_cat_names=True),\n",
        "      SimpleImputer(strategy='median'),\n",
        "      DecisionTreeClassifier(min_samples_leaf=14, max_depth=i, random_state=80)\n",
        "  )\n",
        "\n",
        "  pipeline.fit(X_train, y_train)\n",
        "  print('Train Accuracy', pipeline.score(X_train, y_train))\n",
        "  print('Validation Accuracy', pipeline.score(X_val, y_val))"
      ],
      "execution_count": 166,
      "outputs": [
        {
          "output_type": "stream",
          "text": [
            "Max depth: 30\n",
            "Train Accuracy 0.8218181818181818\n",
            "Validation Accuracy 0.7734006734006734\n",
            "Max depth: 31\n",
            "Train Accuracy 0.8221548821548822\n",
            "Validation Accuracy 0.7736026936026936\n",
            "Max depth: 32\n",
            "Train Accuracy 0.8221773288439955\n",
            "Validation Accuracy 0.7736026936026936\n",
            "Max depth: 33\n",
            "Train Accuracy 0.8221773288439955\n",
            "Validation Accuracy 0.7734006734006734\n",
            "Max depth: 34\n",
            "Train Accuracy 0.8221773288439955\n",
            "Validation Accuracy 0.7734006734006734\n",
            "Max depth: 35\n",
            "Train Accuracy 0.8221773288439955\n",
            "Validation Accuracy 0.7734006734006734\n",
            "Max depth: 36\n",
            "Train Accuracy 0.8221773288439955\n",
            "Validation Accuracy 0.7734006734006734\n",
            "Max depth: 37\n",
            "Train Accuracy 0.8221773288439955\n",
            "Validation Accuracy 0.7734006734006734\n",
            "Max depth: 38\n",
            "Train Accuracy 0.8221773288439955\n",
            "Validation Accuracy 0.7734006734006734\n",
            "Max depth: 39\n",
            "Train Accuracy 0.8221773288439955\n",
            "Validation Accuracy 0.7734006734006734\n"
          ],
          "name": "stdout"
        }
      ]
    },
    {
      "cell_type": "code",
      "metadata": {
        "id": "WL109kaqin42",
        "colab_type": "code",
        "colab": {
          "base_uri": "https://localhost:8080/",
          "height": 204
        },
        "outputId": "153ed004-452c-4715-b74a-dd7f36657615"
      },
      "source": [
        "pipeline = make_pipeline(\n",
        "    ce.OneHotEncoder(use_cat_names=True),\n",
        "    SimpleImputer(strategy='median'),\n",
        "    DecisionTreeClassifier(min_samples_leaf=14, max_depth=29, random_state=80)\n",
        ")\n",
        "\n",
        "pipeline.fit(X_train, y_train)\n",
        "y_pred = pd.DataFrame(pipeline.predict(X_test), columns=['status_group'])\n",
        "submission4 = pd.concat([submission_id, y_pred], axis=1)\n",
        "submission4.head()"
      ],
      "execution_count": 168,
      "outputs": [
        {
          "output_type": "execute_result",
          "data": {
            "text/html": [
              "<div>\n",
              "<style scoped>\n",
              "    .dataframe tbody tr th:only-of-type {\n",
              "        vertical-align: middle;\n",
              "    }\n",
              "\n",
              "    .dataframe tbody tr th {\n",
              "        vertical-align: top;\n",
              "    }\n",
              "\n",
              "    .dataframe thead th {\n",
              "        text-align: right;\n",
              "    }\n",
              "</style>\n",
              "<table border=\"1\" class=\"dataframe\">\n",
              "  <thead>\n",
              "    <tr style=\"text-align: right;\">\n",
              "      <th></th>\n",
              "      <th>id</th>\n",
              "      <th>status_group</th>\n",
              "    </tr>\n",
              "  </thead>\n",
              "  <tbody>\n",
              "    <tr>\n",
              "      <th>0</th>\n",
              "      <td>50785</td>\n",
              "      <td>functional</td>\n",
              "    </tr>\n",
              "    <tr>\n",
              "      <th>1</th>\n",
              "      <td>51630</td>\n",
              "      <td>functional</td>\n",
              "    </tr>\n",
              "    <tr>\n",
              "      <th>2</th>\n",
              "      <td>17168</td>\n",
              "      <td>functional</td>\n",
              "    </tr>\n",
              "    <tr>\n",
              "      <th>3</th>\n",
              "      <td>45559</td>\n",
              "      <td>non functional</td>\n",
              "    </tr>\n",
              "    <tr>\n",
              "      <th>4</th>\n",
              "      <td>49871</td>\n",
              "      <td>functional</td>\n",
              "    </tr>\n",
              "  </tbody>\n",
              "</table>\n",
              "</div>"
            ],
            "text/plain": [
              "      id    status_group\n",
              "0  50785      functional\n",
              "1  51630      functional\n",
              "2  17168      functional\n",
              "3  45559  non functional\n",
              "4  49871      functional"
            ]
          },
          "metadata": {
            "tags": []
          },
          "execution_count": 168
        }
      ]
    },
    {
      "cell_type": "code",
      "metadata": {
        "id": "TNcDS-18jVMH",
        "colab_type": "code",
        "colab": {}
      },
      "source": [
        "submission4.to_csv('water-submission-06.csv', index=None, header=True)"
      ],
      "execution_count": 0,
      "outputs": []
    },
    {
      "cell_type": "code",
      "metadata": {
        "id": "cbc7VrFJjtGC",
        "colab_type": "code",
        "colab": {
          "base_uri": "https://localhost:8080/",
          "height": 317
        },
        "outputId": "626c5125-cb72-4aa4-9dc0-61b7dca1634d"
      },
      "source": [
        "train.describe()"
      ],
      "execution_count": 171,
      "outputs": [
        {
          "output_type": "execute_result",
          "data": {
            "text/html": [
              "<div>\n",
              "<style scoped>\n",
              "    .dataframe tbody tr th:only-of-type {\n",
              "        vertical-align: middle;\n",
              "    }\n",
              "\n",
              "    .dataframe tbody tr th {\n",
              "        vertical-align: top;\n",
              "    }\n",
              "\n",
              "    .dataframe thead th {\n",
              "        text-align: right;\n",
              "    }\n",
              "</style>\n",
              "<table border=\"1\" class=\"dataframe\">\n",
              "  <thead>\n",
              "    <tr style=\"text-align: right;\">\n",
              "      <th></th>\n",
              "      <th>id</th>\n",
              "      <th>amount_tsh</th>\n",
              "      <th>gps_height</th>\n",
              "      <th>longitude</th>\n",
              "      <th>latitude</th>\n",
              "      <th>num_private</th>\n",
              "      <th>population</th>\n",
              "      <th>construction_year</th>\n",
              "      <th>year_recorded</th>\n",
              "      <th>time_to_inspection</th>\n",
              "      <th>functional</th>\n",
              "    </tr>\n",
              "  </thead>\n",
              "  <tbody>\n",
              "    <tr>\n",
              "      <th>count</th>\n",
              "      <td>44550.000000</td>\n",
              "      <td>44550.000000</td>\n",
              "      <td>29104.000000</td>\n",
              "      <td>43171.000000</td>\n",
              "      <td>43171.000000</td>\n",
              "      <td>44550.000000</td>\n",
              "      <td>28427.00000</td>\n",
              "      <td>44550.000000</td>\n",
              "      <td>44550.000000</td>\n",
              "      <td>44550.000000</td>\n",
              "      <td>44550.000000</td>\n",
              "    </tr>\n",
              "    <tr>\n",
              "      <th>mean</th>\n",
              "      <td>37143.024871</td>\n",
              "      <td>320.565308</td>\n",
              "      <td>1016.484779</td>\n",
              "      <td>35.153192</td>\n",
              "      <td>-5.895653</td>\n",
              "      <td>0.473692</td>\n",
              "      <td>282.31449</td>\n",
              "      <td>1996.885926</td>\n",
              "      <td>2011.920135</td>\n",
              "      <td>15.034209</td>\n",
              "      <td>0.543075</td>\n",
              "    </tr>\n",
              "    <tr>\n",
              "      <th>std</th>\n",
              "      <td>21404.799050</td>\n",
              "      <td>3150.477970</td>\n",
              "      <td>613.434859</td>\n",
              "      <td>2.604573</td>\n",
              "      <td>2.812980</td>\n",
              "      <td>11.594878</td>\n",
              "      <td>581.84945</td>\n",
              "      <td>10.058957</td>\n",
              "      <td>0.958777</td>\n",
              "      <td>10.095001</td>\n",
              "      <td>0.498147</td>\n",
              "    </tr>\n",
              "    <tr>\n",
              "      <th>min</th>\n",
              "      <td>0.000000</td>\n",
              "      <td>0.000000</td>\n",
              "      <td>-90.000000</td>\n",
              "      <td>29.607201</td>\n",
              "      <td>-11.649440</td>\n",
              "      <td>0.000000</td>\n",
              "      <td>1.00000</td>\n",
              "      <td>1960.000000</td>\n",
              "      <td>2002.000000</td>\n",
              "      <td>-7.000000</td>\n",
              "      <td>0.000000</td>\n",
              "    </tr>\n",
              "    <tr>\n",
              "      <th>25%</th>\n",
              "      <td>18674.250000</td>\n",
              "      <td>0.000000</td>\n",
              "      <td>391.000000</td>\n",
              "      <td>33.284972</td>\n",
              "      <td>-8.662794</td>\n",
              "      <td>0.000000</td>\n",
              "      <td>40.00000</td>\n",
              "      <td>1996.000000</td>\n",
              "      <td>2011.000000</td>\n",
              "      <td>8.000000</td>\n",
              "      <td>0.000000</td>\n",
              "    </tr>\n",
              "    <tr>\n",
              "      <th>50%</th>\n",
              "      <td>37112.500000</td>\n",
              "      <td>0.000000</td>\n",
              "      <td>1165.000000</td>\n",
              "      <td>35.001336</td>\n",
              "      <td>-5.177179</td>\n",
              "      <td>0.000000</td>\n",
              "      <td>150.00000</td>\n",
              "      <td>1997.000000</td>\n",
              "      <td>2012.000000</td>\n",
              "      <td>14.000000</td>\n",
              "      <td>1.000000</td>\n",
              "    </tr>\n",
              "    <tr>\n",
              "      <th>75%</th>\n",
              "      <td>55592.750000</td>\n",
              "      <td>25.000000</td>\n",
              "      <td>1498.000000</td>\n",
              "      <td>37.237524</td>\n",
              "      <td>-3.375576</td>\n",
              "      <td>0.000000</td>\n",
              "      <td>320.00000</td>\n",
              "      <td>2004.000000</td>\n",
              "      <td>2013.000000</td>\n",
              "      <td>16.000000</td>\n",
              "      <td>1.000000</td>\n",
              "    </tr>\n",
              "    <tr>\n",
              "      <th>max</th>\n",
              "      <td>74247.000000</td>\n",
              "      <td>350000.000000</td>\n",
              "      <td>2628.000000</td>\n",
              "      <td>40.344301</td>\n",
              "      <td>-0.998464</td>\n",
              "      <td>1776.000000</td>\n",
              "      <td>30500.00000</td>\n",
              "      <td>2013.000000</td>\n",
              "      <td>2013.000000</td>\n",
              "      <td>53.000000</td>\n",
              "      <td>1.000000</td>\n",
              "    </tr>\n",
              "  </tbody>\n",
              "</table>\n",
              "</div>"
            ],
            "text/plain": [
              "                 id     amount_tsh  ...  time_to_inspection    functional\n",
              "count  44550.000000   44550.000000  ...        44550.000000  44550.000000\n",
              "mean   37143.024871     320.565308  ...           15.034209      0.543075\n",
              "std    21404.799050    3150.477970  ...           10.095001      0.498147\n",
              "min        0.000000       0.000000  ...           -7.000000      0.000000\n",
              "25%    18674.250000       0.000000  ...            8.000000      0.000000\n",
              "50%    37112.500000       0.000000  ...           14.000000      1.000000\n",
              "75%    55592.750000      25.000000  ...           16.000000      1.000000\n",
              "max    74247.000000  350000.000000  ...           53.000000      1.000000\n",
              "\n",
              "[8 rows x 11 columns]"
            ]
          },
          "metadata": {
            "tags": []
          },
          "execution_count": 171
        }
      ]
    },
    {
      "cell_type": "code",
      "metadata": {
        "id": "1Fx8TL1dktni",
        "colab_type": "code",
        "colab": {}
      },
      "source": [
        ""
      ],
      "execution_count": 0,
      "outputs": []
    }
  ]
}