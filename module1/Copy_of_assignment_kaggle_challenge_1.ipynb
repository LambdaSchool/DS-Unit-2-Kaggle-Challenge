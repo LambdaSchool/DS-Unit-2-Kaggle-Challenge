{
 "cells": [
  {
   "cell_type": "markdown",
   "metadata": {
    "colab_type": "text",
    "id": "view-in-github"
   },
   "source": [
    "<a href=\"https://colab.research.google.com/github/vishnuyar/DS-Unit-2-Kaggle-Challenge/blob/master/module1/Copy_of_assignment_kaggle_challenge_1.ipynb\" target=\"_parent\"><img src=\"https://colab.research.google.com/assets/colab-badge.svg\" alt=\"Open In Colab\"/></a>"
   ]
  },
  {
   "cell_type": "markdown",
   "metadata": {
    "colab_type": "text",
    "id": "7IXUfiQ2UKj6"
   },
   "source": [
    "Lambda School Data Science, Unit 2: Predictive Modeling\n",
    "\n",
    "# Kaggle Challenge, Module 1\n",
    "\n",
    "## Assignment\n",
    "- [X] Do train/validate/test split with the Tanzania Waterpumps data.\n",
    "- [X] Define a function to wrangle train, validate, and test sets in the same way. Clean outliers and engineer features. (For example, [what other columns have zeros and shouldn't?](https://github.com/Quartz/bad-data-guide#zeros-replace-missing-values) What other columns are duplicates, or nearly duplicates? Can you extract the year from date_recorded? Can you engineer new features, such as the number of years from waterpump construction to waterpump inspection?)\n",
    "- [X] Select features. Use a scikit-learn pipeline to encode categoricals, impute missing values, and fit a decision tree classifier.\n",
    "- [X] Get your validation accuracy score.\n",
    "- [X] Get and plot your feature importances.\n",
    "- [X] Submit your predictions to our Kaggle competition. (Go to our Kaggle InClass competition webpage. Use the blue **Submit Predictions** button to upload your CSV file. Or you can use the Kaggle API to submit your predictions.)\n",
    "- [X] Commit your notebook to your fork of the GitHub repo.\n",
    "\n",
    "\n",
    "## Stretch Goals\n",
    "\n",
    "### Reading\n",
    "\n",
    "- A Visual Introduction to Machine Learning\n",
    "  - [Part 1: A Decision Tree](http://www.r2d3.us/visual-intro-to-machine-learning-part-1/)\n",
    "  - [Part 2: Bias and Variance](http://www.r2d3.us/visual-intro-to-machine-learning-part-2/)\n",
    "- [Decision Trees: Advantages & Disadvantages](https://christophm.github.io/interpretable-ml-book/tree.html#advantages-2)\n",
    "- [How a Russian mathematician constructed a decision tree — by hand — to solve a medical problem](http://fastml.com/how-a-russian-mathematician-constructed-a-decision-tree-by-hand-to-solve-a-medical-problem/)\n",
    "- [How decision trees work](https://brohrer.github.io/how_decision_trees_work.html)\n",
    "- [Let’s Write a Decision Tree Classifier from Scratch](https://www.youtube.com/watch?v=LDRbO9a6XPU) — _Don’t worry about understanding the code, just get introduced to the concepts. This 10 minute video has excellent diagrams and explanations._\n",
    "- [Random Forests for Complete Beginners: The definitive guide to Random Forests and Decision Trees](https://victorzhou.com/blog/intro-to-random-forests/)\n",
    "\n",
    "\n",
    "### Doing\n",
    "- [ ] Add your own stretch goal(s) !\n",
    "- [ ] Try other [scikit-learn imputers](https://scikit-learn.org/stable/modules/impute.html).\n",
    "- [ ] Try other [scikit-learn scalers](https://scikit-learn.org/stable/modules/preprocessing.html).\n",
    "- [ ] Make exploratory visualizations and share on Slack.\n",
    "\n",
    "\n",
    "#### Exploratory visualizations\n",
    "\n",
    "Visualize the relationships between feature(s) and target. I recommend you do this with your training set, after splitting your data. \n",
    "\n",
    "For this problem, you may want to create a new column to represent the target as a number, 0 or 1. For example:\n",
    "\n",
    "```python\n",
    "train['functional'] = (train['status_group']=='functional').astype(int)\n",
    "```\n",
    "\n",
    "\n",
    "\n",
    "You can try [Seaborn \"Categorical estimate\" plots](https://seaborn.pydata.org/tutorial/categorical.html) for features with reasonably few unique values. (With too many unique values, the plot is unreadable.)\n",
    "\n",
    "- Categorical features. (If there are too many unique values, you can replace less frequent values with \"OTHER.\")\n",
    "- Numeric features. (If there are too many unique values, you can [bin with pandas cut / qcut functions](https://pandas.pydata.org/pandas-docs/stable/getting_started/basics.html?highlight=qcut#discretization-and-quantiling).)\n",
    "\n",
    "You can try [Seaborn linear model plots](https://seaborn.pydata.org/tutorial/regression.html) with numeric features. For this problem, you may want to use the parameter `logistic=True`\n",
    "\n",
    "You do _not_ need to use Seaborn, but it's nice because it includes confidence intervals to visualize uncertainty.\n",
    "\n",
    "#### High-cardinality categoricals\n",
    "\n",
    "This code from a previous assignment demonstrates how to replace less frequent values with 'OTHER'\n",
    "\n",
    "```python\n",
    "# Reduce cardinality for NEIGHBORHOOD feature ...\n",
    "\n",
    "# Get a list of the top 10 neighborhoods\n",
    "top10 = train['NEIGHBORHOOD'].value_counts()[:10].index\n",
    "\n",
    "# At locations where the neighborhood is NOT in the top 10,\n",
    "# replace the neighborhood with 'OTHER'\n",
    "train.loc[~train['NEIGHBORHOOD'].isin(top10), 'NEIGHBORHOOD'] = 'OTHER'\n",
    "test.loc[~test['NEIGHBORHOOD'].isin(top10), 'NEIGHBORHOOD'] = 'OTHER'\n",
    "```\n",
    "\n"
   ]
  },
  {
   "cell_type": "code",
   "execution_count": 0,
   "metadata": {
    "colab": {},
    "colab_type": "code",
    "id": "o9eSnDYhUGD7"
   },
   "outputs": [],
   "source": [
    "# If you're in Colab...\n",
    "import os, sys\n",
    "in_colab = 'google.colab' in sys.modules\n",
    "\n",
    "if in_colab:\n",
    "    # Install required python packages:\n",
    "    # category_encoders, version >= 2.0\n",
    "    # pandas-profiling, version >= 2.0\n",
    "    # plotly, version >= 4.0\n",
    "    !pip install --upgrade category_encoders pandas-profiling plotly\n",
    "    \n",
    "    # Pull files from Github repo\n",
    "    os.chdir('/content')\n",
    "    !git init .\n",
    "    !git remote add origin https://github.com/LambdaSchool/DS-Unit-2-Kaggle-Challenge.git\n",
    "    !git pull origin master\n",
    "    \n",
    "    # Change into directory for module\n",
    "    os.chdir('module1')"
   ]
  },
  {
   "cell_type": "code",
   "execution_count": 1,
   "metadata": {
    "colab": {},
    "colab_type": "code",
    "id": "mgJXcFQRkVeX"
   },
   "outputs": [
    {
     "ename": "ModuleNotFoundError",
     "evalue": "No module named 'lightgbm'",
     "output_type": "error",
     "traceback": [
      "\u001b[0;31m---------------------------------------------------------------------------\u001b[0m",
      "\u001b[0;31mModuleNotFoundError\u001b[0m                       Traceback (most recent call last)",
      "\u001b[0;32m<ipython-input-1-12823eb7a4be>\u001b[0m in \u001b[0;36m<module>\u001b[0;34m\u001b[0m\n\u001b[1;32m     13\u001b[0m \u001b[0;32mfrom\u001b[0m \u001b[0msklearn\u001b[0m\u001b[0;34m.\u001b[0m\u001b[0mexperimental\u001b[0m \u001b[0;32mimport\u001b[0m \u001b[0menable_iterative_imputer\u001b[0m\u001b[0;34m\u001b[0m\u001b[0;34m\u001b[0m\u001b[0m\n\u001b[1;32m     14\u001b[0m \u001b[0;32mfrom\u001b[0m \u001b[0msklearn\u001b[0m\u001b[0;34m.\u001b[0m\u001b[0mimpute\u001b[0m \u001b[0;32mimport\u001b[0m \u001b[0mIterativeImputer\u001b[0m\u001b[0;34m\u001b[0m\u001b[0;34m\u001b[0m\u001b[0m\n\u001b[0;32m---> 15\u001b[0;31m \u001b[0;32mfrom\u001b[0m \u001b[0mlightgbm\u001b[0m \u001b[0;32mimport\u001b[0m \u001b[0mLGBMClassifier\u001b[0m\u001b[0;34m\u001b[0m\u001b[0;34m\u001b[0m\u001b[0m\n\u001b[0m\u001b[1;32m     16\u001b[0m \u001b[0;32mfrom\u001b[0m \u001b[0msklearn\u001b[0m\u001b[0;34m.\u001b[0m\u001b[0mpreprocessing\u001b[0m \u001b[0;32mimport\u001b[0m \u001b[0mRobustScaler\u001b[0m\u001b[0;34m\u001b[0m\u001b[0;34m\u001b[0m\u001b[0m\n\u001b[1;32m     17\u001b[0m \u001b[0;32mfrom\u001b[0m \u001b[0msklearn\u001b[0m\u001b[0;34m.\u001b[0m\u001b[0mmodel_selection\u001b[0m \u001b[0;32mimport\u001b[0m \u001b[0mcross_val_score\u001b[0m\u001b[0;34m\u001b[0m\u001b[0;34m\u001b[0m\u001b[0m\n",
      "\u001b[0;31mModuleNotFoundError\u001b[0m: No module named 'lightgbm'"
     ]
    }
   ],
   "source": [
    "import pandas as pd\n",
    "import numpy as np\n",
    "import matplotlib.pyplot as plt\n",
    "import seaborn as sns\n",
    "import plotly.express as px\n",
    "from sklearn.tree import DecisionTreeClassifier\n",
    "from sklearn.metrics import accuracy_score\n",
    "from sklearn.preprocessing import StandardScaler\n",
    "from sklearn.pipeline import make_pipeline\n",
    "from sklearn.model_selection import train_test_split\n",
    "import category_encoders as ce\n",
    "from sklearn.impute import SimpleImputer\n",
    "from sklearn.experimental import enable_iterative_imputer\n",
    "from sklearn.impute import IterativeImputer\n",
    "from lightgbm import LGBMClassifier\n",
    "from sklearn.preprocessing import RobustScaler\n",
    "from sklearn.model_selection import cross_val_score\n",
    "from sklearn.model_selection import RandomizedSearchCV"
   ]
  },
  {
   "cell_type": "code",
   "execution_count": 0,
   "metadata": {
    "colab": {
     "base_uri": "https://localhost:8080/",
     "height": 34
    },
    "colab_type": "code",
    "id": "QJBD4ruICm1m",
    "outputId": "e02b6897-2184-4e95-8b3f-6f814c62aa6f"
   },
   "outputs": [
    {
     "data": {
      "text/plain": [
       "((47520, 41), (14358, 40))"
      ]
     },
     "execution_count": 46,
     "metadata": {
      "tags": []
     },
     "output_type": "execute_result"
    }
   ],
   "source": [
    "train = pd.merge(pd.read_csv('../data/tanzania/train_features.csv'), \n",
    "                 pd.read_csv('../data/tanzania/train_labels.csv'))\n",
    "test = pd.read_csv('../data/tanzania/test_features.csv')\n",
    "sample_submission = pd.read_csv('../data/tanzania/sample_submission.csv')\n",
    "train,val = train_test_split(train,random_state = 32,stratify=train['status_group'],test_size=0.20)\n",
    "train.shape, test.shape"
   ]
  },
  {
   "cell_type": "code",
   "execution_count": 0,
   "metadata": {
    "colab": {},
    "colab_type": "code",
    "id": "0Zfu5ZZQgLRu"
   },
   "outputs": [],
   "source": [
    "#After doing exhaustive study of data both graphically and by basic functions , the following are the observations\n",
    "#Not relevant or too many null vaues funder, installer,scheme_name,num_private,scheme_name\n",
    "#High cardinality wpt_name,subvillage,lga,ward\n",
    "#remove region code as region is considered\n",
    "#remove scheme_management as management is considered\n",
    "#constant value recorded_by\n",
    "#keeping extraction_type and removing extraction_type_group and extraction_type_class\n",
    "#payment_type and payment are same\n",
    "#removing waterpoint_type_group as it can be replaced with waterpoint_type\n",
    "#keeping water_quality as same as quality_group\n",
    "#quantity_group and quantity are same\n",
    "#source and source_type are same \n",
    "\n",
    "drop_columns = ['funder','installer','scheme_name','scheme_name','scheme_management','wpt_name',\n",
    "                'subvillage','lga','ward','recorded_by','extraction_type_group','extraction_type_class',\n",
    "                'payment_type','waterpoint_type_group','quality_group','quantity_group','source_type','id','num_private','region_code']\n",
    "#To avoid copy setting warning, creating a copy of the datasets\n",
    "train = train.copy()\n",
    "val = val.copy()\n",
    "\n",
    "train.drop(columns=drop_columns,inplace=True)\n",
    "val.drop(columns=drop_columns,inplace=True)\n",
    "test.drop(columns=drop_columns,inplace=True)\n",
    "train['latitude'] = train['latitude'].replace(-2e-08, 0)\n",
    "val['latitude'] = val['latitude'].replace(-2e-08, 0)\n",
    "test['latitude'] = test['latitude'].replace(-2e-08, 0)"
   ]
  },
  {
   "cell_type": "code",
   "execution_count": 0,
   "metadata": {
    "colab": {},
    "colab_type": "code",
    "id": "3FR9gsf7ygP6"
   },
   "outputs": [],
   "source": [
    "\n",
    "#function to replace zero values with nan\n",
    "def make_zero_nan(data,col):\n",
    "  X = data.copy()\n",
    "  X[col]=X[col].replace(0,np.NaN)\n",
    "  return X\n",
    "\n",
    "#function to replace nan values with a give value\n",
    "def replace_nan(data,col,value):\n",
    "    X = data.copy()\n",
    "    X[col]=X[col].replace(np.NaN,value)\n",
    "    return X\n",
    "\n",
    "def feature_addition(data):\n",
    "  X = data.copy()\n",
    "  X['date_recorded']=pd.to_datetime(X['date_recorded'],infer_datetime_format=True).dt.year\n",
    "  X['since_construction']=X['date_recorded']-X['construction_year']\n",
    "  X['district_code']=X['district_code'].astype('str')\n",
    "  X['public_meeting']=X['public_meeting'].fillna(True).astype(int)\n",
    "  X['permit']=X['permit'].fillna(True).astype(int)\n",
    "  return X\n",
    "\n",
    "def remove_outlier(data,col,value):\n",
    "  X = data.copy()\n",
    "  X[col]=X[col].apply(lambda x: x if x<value else value)\n",
    "  return X"
   ]
  },
  {
   "cell_type": "code",
   "execution_count": 0,
   "metadata": {
    "colab": {},
    "colab_type": "code",
    "id": "2gWDsUsBy0uN"
   },
   "outputs": [],
   "source": [
    "nan_columns = ['latitude','longitude','construction_year','amount_tsh']\n",
    "for col in nan_columns:\n",
    "  train = make_zero_nan(train,col)\n",
    "  val = make_zero_nan(val,col)\n",
    "  test = make_zero_nan(test,col)\n",
    "\n",
    "#Replacing construction year of zero values with minimum construction year\n",
    "min_year = train['construction_year'].min()\n",
    "train = replace_nan(train,'construction_year',min_year)\n",
    "val = replace_nan(val,'construction_year',min_year)\n",
    "test = replace_nan(test,'construction_year',min_year)\n",
    "\n",
    "\n",
    "#Replacing gps_height of zero values with minimum gps_height\n",
    "min_height = train['gps_height'].min()\n",
    "train = replace_nan(train,'gps_height',min_height)\n",
    "val = replace_nan(val,'gps_height',min_height)\n",
    "test = replace_nan(test,'gps_height',min_height)\n"
   ]
  },
  {
   "cell_type": "code",
   "execution_count": 0,
   "metadata": {
    "colab": {},
    "colab_type": "code",
    "id": "ZGhpunzyFu8W"
   },
   "outputs": [],
   "source": [
    "high = train['population'].quantile(.975)\n",
    "train = remove_outlier(train,'population',high)\n",
    "val = remove_outlier(val,'population',high)\n",
    "test = remove_outlier(test,'population',high)"
   ]
  },
  {
   "cell_type": "code",
   "execution_count": 0,
   "metadata": {
    "colab": {},
    "colab_type": "code",
    "id": "JtZcAyH1F8ic"
   },
   "outputs": [],
   "source": [
    "high = train['amount_tsh'].quantile(.975)\n",
    "train = remove_outlier(train,'amount_tsh',high)\n",
    "val = remove_outlier(val,'amount_tsh',high)\n",
    "test = remove_outlier(test,'amount_tsh',high)"
   ]
  },
  {
   "cell_type": "code",
   "execution_count": 0,
   "metadata": {
    "colab": {},
    "colab_type": "code",
    "id": "jfNTZt0T6Nok"
   },
   "outputs": [],
   "source": [
    "train = feature_addition(train)\n",
    "val = feature_addition(val)\n",
    "test = feature_addition(test)"
   ]
  },
  {
   "cell_type": "code",
   "execution_count": 0,
   "metadata": {
    "colab": {
     "base_uri": "https://localhost:8080/",
     "height": 34
    },
    "colab_type": "code",
    "id": "6zKMdYo9i_RK",
    "outputId": "9ad58011-dc23-4afa-aaa5-b55813ca118c"
   },
   "outputs": [
    {
     "name": "stdout",
     "output_type": "stream",
     "text": [
      "[0.79694897 0.80115729 0.79366582 0.79345539 0.80214692] Mean:  0.7974748776846173\n"
     ]
    }
   ],
   "source": [
    "target = 'status_group'\n",
    "features = train.columns.drop(target)\n",
    "Y_train = train[target]\n",
    "Y_val = val[target]\n",
    "X_train = train[features]\n",
    "X_val = val[features]\n",
    "#making a pipeline for model testing\n",
    "\n",
    "for i in range(39,40):\n",
    "  \n",
    "\n",
    "  pipeline = make_pipeline(\n",
    "      ce.OneHotEncoder(use_cat_names=True),\n",
    "      SimpleImputer(strategy='most_frequent'),\n",
    "      RobustScaler(),\n",
    "      #DecisionTreeClassifier(random_state=32,min_samples_leaf=20,max_depth=i)\n",
    "      LGBMClassifier(max_depth=8,learning_rate=0.03,n_estimators=1500,min_child_samples=20)\n",
    "      \n",
    "\n",
    "  )\n",
    "  #pipeline.fit(X_train,Y_train)\n",
    "  scores = cross_val_score(pipeline,X_train,Y_train,cv=5,)\n",
    "  print(scores,\"Mean: \",scores.mean())\n",
    "  # pred_train = pipeline.predict(X_train)\n",
    "  # y_pred = pipeline.predict(X_val)\n",
    "  # print(\"Training Score:\",accuracy_score(Y_train,pred_train),\" Depth:\",i)\n",
    "  # print(\"Val Score:\",accuracy_score(Y_val,y_pred),\" Depth:\",i)\n"
   ]
  },
  {
   "cell_type": "code",
   "execution_count": 0,
   "metadata": {
    "colab": {
     "base_uri": "https://localhost:8080/",
     "height": 34
    },
    "colab_type": "code",
    "id": "_7Rseg_TatB6",
    "outputId": "474aaf57-3f96-48c6-9a7b-68cf94fa0d7c"
   },
   "outputs": [
    {
     "data": {
      "text/plain": [
       "array([0.7945292 , 0.79768543, 0.79040404, 0.78935185, 0.79751631])"
      ]
     },
     "execution_count": 38,
     "metadata": {
      "tags": []
     },
     "output_type": "execute_result"
    }
   ],
   "source": [
    "# [0.79852709 0.80178853 0.79219276 0.79534933 0.80109451] Mean:  0.7977904434635834"
   ]
  },
  {
   "cell_type": "code",
   "execution_count": 0,
   "metadata": {
    "colab": {},
    "colab_type": "code",
    "id": "iRHvICmvGu-T"
   },
   "outputs": [],
   "source": [
    "#predicting for test values\n",
    "predictions = pipeline.predict(test[features])\n",
    "sample_submission.status_group = predictions\n",
    "sample_submission.to_csv('kaggle-submission-10.csv',index=False)"
   ]
  },
  {
   "cell_type": "code",
   "execution_count": 0,
   "metadata": {
    "colab": {
     "base_uri": "https://localhost:8080/",
     "height": 119
    },
    "colab_type": "code",
    "id": "I4DntkOa8CeD",
    "outputId": "ba8e4792-2e34-47fe-e4e0-756362b553b5"
   },
   "outputs": [
    {
     "data": {
      "text/plain": [
       "Index(['amount_tsh', 'date_recorded', 'gps_height', 'longitude', 'latitude',\n",
       "       'basin', 'region', 'district_code', 'population', 'public_meeting',\n",
       "       'permit', 'construction_year', 'extraction_type', 'management',\n",
       "       'management_group', 'payment', 'water_quality', 'quantity', 'source',\n",
       "       'source_class', 'waterpoint_type', 'since_construction'],\n",
       "      dtype='object')"
      ]
     },
     "execution_count": 31,
     "metadata": {
      "tags": []
     },
     "output_type": "execute_result"
    }
   ],
   "source": [
    "features"
   ]
  },
  {
   "cell_type": "code",
   "execution_count": 0,
   "metadata": {
    "colab": {
     "base_uri": "https://localhost:8080/",
     "height": 425
    },
    "colab_type": "code",
    "id": "CecASuB5FVRm",
    "outputId": "cbdc994f-67de-4c95-cd97-dda0a3938b2c"
   },
   "outputs": [
    {
     "data": {
      "text/plain": [
       "amount_tsh            float64\n",
       "date_recorded           int64\n",
       "gps_height            float64\n",
       "longitude             float64\n",
       "latitude              float64\n",
       "basin                  object\n",
       "region                 object\n",
       "district_code          object\n",
       "population              int64\n",
       "public_meeting          int64\n",
       "permit                  int64\n",
       "construction_year     float64\n",
       "extraction_type        object\n",
       "management             object\n",
       "management_group       object\n",
       "payment                object\n",
       "water_quality          object\n",
       "quantity               object\n",
       "source                 object\n",
       "source_class           object\n",
       "waterpoint_type        object\n",
       "status_group           object\n",
       "since_construction    float64\n",
       "dtype: object"
      ]
     },
     "execution_count": 32,
     "metadata": {
      "tags": []
     },
     "output_type": "execute_result"
    }
   ],
   "source": [
    "train.dtypes"
   ]
  },
  {
   "cell_type": "code",
   "execution_count": 0,
   "metadata": {
    "colab": {},
    "colab_type": "code",
    "id": "TTo0KYizmVq3"
   },
   "outputs": [],
   "source": [
    "model = pipeline.named_steps['decisiontreeclassifier']\n",
    "encoder = pipeline.named_steps['onehotencoder']"
   ]
  },
  {
   "cell_type": "code",
   "execution_count": 0,
   "metadata": {
    "colab": {},
    "colab_type": "code",
    "id": "FOx7imivqDLq"
   },
   "outputs": [],
   "source": [
    "features = pd.DataFrame({'columns':encoder.transform(X_val).columns.to_list(),'importance':model.feature_importances_})"
   ]
  },
  {
   "cell_type": "code",
   "execution_count": 0,
   "metadata": {
    "colab": {
     "base_uri": "https://localhost:8080/",
     "height": 34
    },
    "colab_type": "code",
    "id": "fFJH_Srj9KFD",
    "outputId": "b2fa572b-e185-4401-e126-567b76c3cc48"
   },
   "outputs": [
    {
     "data": {
      "text/plain": [
       "(122, 2)"
      ]
     },
     "execution_count": 155,
     "metadata": {
      "tags": []
     },
     "output_type": "execute_result"
    }
   ],
   "source": [
    "features.shape"
   ]
  },
  {
   "cell_type": "code",
   "execution_count": 0,
   "metadata": {
    "colab": {
     "base_uri": "https://localhost:8080/",
     "height": 1000
    },
    "colab_type": "code",
    "id": "FFMQx1tPrDXe",
    "outputId": "3f52dc37-3eef-4593-b64c-ed5354a711dc"
   },
   "outputs": [
    {
     "data": {
      "text/html": [
       "<div>\n",
       "<style scoped>\n",
       "    .dataframe tbody tr th:only-of-type {\n",
       "        vertical-align: middle;\n",
       "    }\n",
       "\n",
       "    .dataframe tbody tr th {\n",
       "        vertical-align: top;\n",
       "    }\n",
       "\n",
       "    .dataframe thead th {\n",
       "        text-align: right;\n",
       "    }\n",
       "</style>\n",
       "<table border=\"1\" class=\"dataframe\">\n",
       "  <thead>\n",
       "    <tr style=\"text-align: right;\">\n",
       "      <th></th>\n",
       "      <th>columns</th>\n",
       "      <th>importance</th>\n",
       "    </tr>\n",
       "  </thead>\n",
       "  <tbody>\n",
       "    <tr>\n",
       "      <th>73</th>\n",
       "      <td>management_unknown</td>\n",
       "      <td>0.000000</td>\n",
       "    </tr>\n",
       "    <tr>\n",
       "      <th>106</th>\n",
       "      <td>source_hand dtw</td>\n",
       "      <td>0.000000</td>\n",
       "    </tr>\n",
       "    <tr>\n",
       "      <th>72</th>\n",
       "      <td>management_other</td>\n",
       "      <td>0.000000</td>\n",
       "    </tr>\n",
       "    <tr>\n",
       "      <th>25</th>\n",
       "      <td>region_Kigoma</td>\n",
       "      <td>0.000000</td>\n",
       "    </tr>\n",
       "    <tr>\n",
       "      <th>28</th>\n",
       "      <td>region_Dar es Salaam</td>\n",
       "      <td>0.000000</td>\n",
       "    </tr>\n",
       "    <tr>\n",
       "      <th>30</th>\n",
       "      <td>region_Mara</td>\n",
       "      <td>0.000000</td>\n",
       "    </tr>\n",
       "    <tr>\n",
       "      <th>31</th>\n",
       "      <td>region_Rukwa</td>\n",
       "      <td>0.000000</td>\n",
       "    </tr>\n",
       "    <tr>\n",
       "      <th>65</th>\n",
       "      <td>management_parastatal</td>\n",
       "      <td>0.000000</td>\n",
       "    </tr>\n",
       "    <tr>\n",
       "      <th>63</th>\n",
       "      <td>extraction_type_climax</td>\n",
       "      <td>0.000000</td>\n",
       "    </tr>\n",
       "    <tr>\n",
       "      <th>62</th>\n",
       "      <td>extraction_type_windmill</td>\n",
       "      <td>0.000000</td>\n",
       "    </tr>\n",
       "    <tr>\n",
       "      <th>110</th>\n",
       "      <td>source_unknown</td>\n",
       "      <td>0.000000</td>\n",
       "    </tr>\n",
       "    <tr>\n",
       "      <th>109</th>\n",
       "      <td>source_other</td>\n",
       "      <td>0.000000</td>\n",
       "    </tr>\n",
       "    <tr>\n",
       "      <th>61</th>\n",
       "      <td>extraction_type_other - mkulima/shinyanga</td>\n",
       "      <td>0.000000</td>\n",
       "    </tr>\n",
       "    <tr>\n",
       "      <th>120</th>\n",
       "      <td>waterpoint_type_dam</td>\n",
       "      <td>0.000000</td>\n",
       "    </tr>\n",
       "    <tr>\n",
       "      <th>59</th>\n",
       "      <td>extraction_type_walimi</td>\n",
       "      <td>0.000000</td>\n",
       "    </tr>\n",
       "    <tr>\n",
       "      <th>58</th>\n",
       "      <td>extraction_type_other - swn 81</td>\n",
       "      <td>0.000000</td>\n",
       "    </tr>\n",
       "    <tr>\n",
       "      <th>57</th>\n",
       "      <td>extraction_type_other - rope pump</td>\n",
       "      <td>0.000000</td>\n",
       "    </tr>\n",
       "    <tr>\n",
       "      <th>52</th>\n",
       "      <td>extraction_type_other - play pump</td>\n",
       "      <td>0.000000</td>\n",
       "    </tr>\n",
       "    <tr>\n",
       "      <th>22</th>\n",
       "      <td>region_Kagera</td>\n",
       "      <td>0.000000</td>\n",
       "    </tr>\n",
       "    <tr>\n",
       "      <th>74</th>\n",
       "      <td>management_other - school</td>\n",
       "      <td>0.000000</td>\n",
       "    </tr>\n",
       "    <tr>\n",
       "      <th>100</th>\n",
       "      <td>quantity_unknown</td>\n",
       "      <td>0.000000</td>\n",
       "    </tr>\n",
       "    <tr>\n",
       "      <th>75</th>\n",
       "      <td>management_trust</td>\n",
       "      <td>0.000000</td>\n",
       "    </tr>\n",
       "    <tr>\n",
       "      <th>77</th>\n",
       "      <td>management_group_parastatal</td>\n",
       "      <td>0.000000</td>\n",
       "    </tr>\n",
       "    <tr>\n",
       "      <th>78</th>\n",
       "      <td>management_group_commercial</td>\n",
       "      <td>0.000000</td>\n",
       "    </tr>\n",
       "    <tr>\n",
       "      <th>119</th>\n",
       "      <td>waterpoint_type_cattle trough</td>\n",
       "      <td>0.000000</td>\n",
       "    </tr>\n",
       "    <tr>\n",
       "      <th>95</th>\n",
       "      <td>water_quality_fluoride abandoned</td>\n",
       "      <td>0.000000</td>\n",
       "    </tr>\n",
       "    <tr>\n",
       "      <th>94</th>\n",
       "      <td>water_quality_fluoride</td>\n",
       "      <td>0.000000</td>\n",
       "    </tr>\n",
       "    <tr>\n",
       "      <th>80</th>\n",
       "      <td>management_group_unknown</td>\n",
       "      <td>0.000000</td>\n",
       "    </tr>\n",
       "    <tr>\n",
       "      <th>93</th>\n",
       "      <td>water_quality_coloured</td>\n",
       "      <td>0.000000</td>\n",
       "    </tr>\n",
       "    <tr>\n",
       "      <th>5</th>\n",
       "      <td>num_private</td>\n",
       "      <td>0.000000</td>\n",
       "    </tr>\n",
       "    <tr>\n",
       "      <th>...</th>\n",
       "      <td>...</td>\n",
       "      <td>...</td>\n",
       "    </tr>\n",
       "    <tr>\n",
       "      <th>54</th>\n",
       "      <td>extraction_type_india mark ii</td>\n",
       "      <td>0.001281</td>\n",
       "    </tr>\n",
       "    <tr>\n",
       "      <th>114</th>\n",
       "      <td>waterpoint_type_communal standpipe</td>\n",
       "      <td>0.001291</td>\n",
       "    </tr>\n",
       "    <tr>\n",
       "      <th>85</th>\n",
       "      <td>payment_pay annually</td>\n",
       "      <td>0.001309</td>\n",
       "    </tr>\n",
       "    <tr>\n",
       "      <th>115</th>\n",
       "      <td>waterpoint_type_hand pump</td>\n",
       "      <td>0.001320</td>\n",
       "    </tr>\n",
       "    <tr>\n",
       "      <th>81</th>\n",
       "      <td>payment_pay when scheme fails</td>\n",
       "      <td>0.001461</td>\n",
       "    </tr>\n",
       "    <tr>\n",
       "      <th>16</th>\n",
       "      <td>region_Morogoro</td>\n",
       "      <td>0.001488</td>\n",
       "    </tr>\n",
       "    <tr>\n",
       "      <th>7</th>\n",
       "      <td>basin_Wami / Ruvu</td>\n",
       "      <td>0.001495</td>\n",
       "    </tr>\n",
       "    <tr>\n",
       "      <th>76</th>\n",
       "      <td>management_group_user-group</td>\n",
       "      <td>0.001498</td>\n",
       "    </tr>\n",
       "    <tr>\n",
       "      <th>102</th>\n",
       "      <td>source_shallow well</td>\n",
       "      <td>0.001570</td>\n",
       "    </tr>\n",
       "    <tr>\n",
       "      <th>42</th>\n",
       "      <td>permit_True</td>\n",
       "      <td>0.001591</td>\n",
       "    </tr>\n",
       "    <tr>\n",
       "      <th>24</th>\n",
       "      <td>region_Mwanza</td>\n",
       "      <td>0.001629</td>\n",
       "    </tr>\n",
       "    <tr>\n",
       "      <th>82</th>\n",
       "      <td>payment_pay per bucket</td>\n",
       "      <td>0.002074</td>\n",
       "    </tr>\n",
       "    <tr>\n",
       "      <th>67</th>\n",
       "      <td>management_wug</td>\n",
       "      <td>0.002117</td>\n",
       "    </tr>\n",
       "    <tr>\n",
       "      <th>105</th>\n",
       "      <td>source_machine dbh</td>\n",
       "      <td>0.002371</td>\n",
       "    </tr>\n",
       "    <tr>\n",
       "      <th>53</th>\n",
       "      <td>extraction_type_submersible</td>\n",
       "      <td>0.003013</td>\n",
       "    </tr>\n",
       "    <tr>\n",
       "      <th>14</th>\n",
       "      <td>basin_Lake Rukwa</td>\n",
       "      <td>0.003043</td>\n",
       "    </tr>\n",
       "    <tr>\n",
       "      <th>17</th>\n",
       "      <td>region_Mbeya</td>\n",
       "      <td>0.003086</td>\n",
       "    </tr>\n",
       "    <tr>\n",
       "      <th>91</th>\n",
       "      <td>water_quality_milky</td>\n",
       "      <td>0.003096</td>\n",
       "    </tr>\n",
       "    <tr>\n",
       "      <th>44</th>\n",
       "      <td>permit_False</td>\n",
       "      <td>0.003291</td>\n",
       "    </tr>\n",
       "    <tr>\n",
       "      <th>51</th>\n",
       "      <td>extraction_type_mono</td>\n",
       "      <td>0.003542</td>\n",
       "    </tr>\n",
       "    <tr>\n",
       "      <th>64</th>\n",
       "      <td>management_vwc</td>\n",
       "      <td>0.003577</td>\n",
       "    </tr>\n",
       "    <tr>\n",
       "      <th>112</th>\n",
       "      <td>source_class_groundwater</td>\n",
       "      <td>0.003768</td>\n",
       "    </tr>\n",
       "    <tr>\n",
       "      <th>92</th>\n",
       "      <td>water_quality_unknown</td>\n",
       "      <td>0.004084</td>\n",
       "    </tr>\n",
       "    <tr>\n",
       "      <th>101</th>\n",
       "      <td>source_river</td>\n",
       "      <td>0.004553</td>\n",
       "    </tr>\n",
       "    <tr>\n",
       "      <th>49</th>\n",
       "      <td>extraction_type_other</td>\n",
       "      <td>0.004832</td>\n",
       "    </tr>\n",
       "    <tr>\n",
       "      <th>71</th>\n",
       "      <td>management_company</td>\n",
       "      <td>0.007037</td>\n",
       "    </tr>\n",
       "    <tr>\n",
       "      <th>0</th>\n",
       "      <td>amount_tsh</td>\n",
       "      <td>0.007341</td>\n",
       "    </tr>\n",
       "    <tr>\n",
       "      <th>8</th>\n",
       "      <td>basin_Lake Nyasa</td>\n",
       "      <td>0.007562</td>\n",
       "    </tr>\n",
       "    <tr>\n",
       "      <th>50</th>\n",
       "      <td>extraction_type_ksb</td>\n",
       "      <td>0.007698</td>\n",
       "    </tr>\n",
       "    <tr>\n",
       "      <th>55</th>\n",
       "      <td>extraction_type_nira/tanira</td>\n",
       "      <td>0.008035</td>\n",
       "    </tr>\n",
       "  </tbody>\n",
       "</table>\n",
       "<p>102 rows × 2 columns</p>\n",
       "</div>"
      ],
      "text/plain": [
       "                                       columns  importance\n",
       "73                          management_unknown    0.000000\n",
       "106                            source_hand dtw    0.000000\n",
       "72                            management_other    0.000000\n",
       "25                               region_Kigoma    0.000000\n",
       "28                        region_Dar es Salaam    0.000000\n",
       "30                                 region_Mara    0.000000\n",
       "31                                region_Rukwa    0.000000\n",
       "65                       management_parastatal    0.000000\n",
       "63                      extraction_type_climax    0.000000\n",
       "62                    extraction_type_windmill    0.000000\n",
       "110                             source_unknown    0.000000\n",
       "109                               source_other    0.000000\n",
       "61   extraction_type_other - mkulima/shinyanga    0.000000\n",
       "120                        waterpoint_type_dam    0.000000\n",
       "59                      extraction_type_walimi    0.000000\n",
       "58              extraction_type_other - swn 81    0.000000\n",
       "57           extraction_type_other - rope pump    0.000000\n",
       "52           extraction_type_other - play pump    0.000000\n",
       "22                               region_Kagera    0.000000\n",
       "74                   management_other - school    0.000000\n",
       "100                           quantity_unknown    0.000000\n",
       "75                            management_trust    0.000000\n",
       "77                 management_group_parastatal    0.000000\n",
       "78                 management_group_commercial    0.000000\n",
       "119              waterpoint_type_cattle trough    0.000000\n",
       "95            water_quality_fluoride abandoned    0.000000\n",
       "94                      water_quality_fluoride    0.000000\n",
       "80                    management_group_unknown    0.000000\n",
       "93                      water_quality_coloured    0.000000\n",
       "5                                  num_private    0.000000\n",
       "..                                         ...         ...\n",
       "54               extraction_type_india mark ii    0.001281\n",
       "114         waterpoint_type_communal standpipe    0.001291\n",
       "85                        payment_pay annually    0.001309\n",
       "115                  waterpoint_type_hand pump    0.001320\n",
       "81               payment_pay when scheme fails    0.001461\n",
       "16                             region_Morogoro    0.001488\n",
       "7                            basin_Wami / Ruvu    0.001495\n",
       "76                 management_group_user-group    0.001498\n",
       "102                        source_shallow well    0.001570\n",
       "42                                 permit_True    0.001591\n",
       "24                               region_Mwanza    0.001629\n",
       "82                      payment_pay per bucket    0.002074\n",
       "67                              management_wug    0.002117\n",
       "105                         source_machine dbh    0.002371\n",
       "53                 extraction_type_submersible    0.003013\n",
       "14                            basin_Lake Rukwa    0.003043\n",
       "17                                region_Mbeya    0.003086\n",
       "91                         water_quality_milky    0.003096\n",
       "44                                permit_False    0.003291\n",
       "51                        extraction_type_mono    0.003542\n",
       "64                              management_vwc    0.003577\n",
       "112                   source_class_groundwater    0.003768\n",
       "92                       water_quality_unknown    0.004084\n",
       "101                               source_river    0.004553\n",
       "49                       extraction_type_other    0.004832\n",
       "71                          management_company    0.007037\n",
       "0                                   amount_tsh    0.007341\n",
       "8                             basin_Lake Nyasa    0.007562\n",
       "50                         extraction_type_ksb    0.007698\n",
       "55                 extraction_type_nira/tanira    0.008035\n",
       "\n",
       "[102 rows x 2 columns]"
      ]
     },
     "execution_count": 156,
     "metadata": {
      "tags": []
     },
     "output_type": "execute_result"
    }
   ],
   "source": [
    "#plotting the importance\n",
    "#plt.figure(figsize=(12,35))\n",
    "features.sort_values('importance',ascending=True)[:-20]"
   ]
  },
  {
   "cell_type": "code",
   "execution_count": 0,
   "metadata": {
    "colab": {
     "base_uri": "https://localhost:8080/",
     "height": 68
    },
    "colab_type": "code",
    "id": "kjFMHWOsqgBO",
    "outputId": "4e6520bd-f8ab-4196-e6a5-669fbd8fff8e"
   },
   "outputs": [
    {
     "data": {
      "text/plain": [
       "0    Index(['amount_tsh', 'date_recorded_2013-03-15...\n",
       "1    [0.044831299635566146, 5.743392291606526e-05, ...\n",
       "dtype: object"
      ]
     },
     "execution_count": 36,
     "metadata": {
      "tags": []
     },
     "output_type": "execute_result"
    }
   ],
   "source": [
    "features.head()"
   ]
  },
  {
   "cell_type": "code",
   "execution_count": 0,
   "metadata": {
    "colab": {},
    "colab_type": "code",
    "id": "kfOPnreKqrPQ"
   },
   "outputs": [],
   "source": []
  }
 ],
 "metadata": {
  "colab": {
   "collapsed_sections": [],
   "include_colab_link": true,
   "name": "Copy of assignment_kaggle_challenge_1.ipynb",
   "provenance": [],
   "version": "0.3.2"
  },
  "kernelspec": {
   "display_name": "Python 3",
   "language": "python",
   "name": "python3"
  },
  "language_info": {
   "codemirror_mode": {
    "name": "ipython",
    "version": 3
   },
   "file_extension": ".py",
   "mimetype": "text/x-python",
   "name": "python",
   "nbconvert_exporter": "python",
   "pygments_lexer": "ipython3",
   "version": "3.7.4"
  }
 },
 "nbformat": 4,
 "nbformat_minor": 1
}
