{
  "nbformat": 4,
  "nbformat_minor": 0,
  "metadata": {
    "kernelspec": {
      "display_name": "Python 3",
      "language": "python",
      "name": "python3"
    },
    "language_info": {
      "codemirror_mode": {
        "name": "ipython",
        "version": 3
      },
      "file_extension": ".py",
      "mimetype": "text/x-python",
      "name": "python",
      "nbconvert_exporter": "python",
      "pygments_lexer": "ipython3",
      "version": "3.7.4"
    },
    "notify_time": "10",
    "toc": {
      "base_numbering": 1,
      "nav_menu": {},
      "number_sections": true,
      "sideBar": true,
      "skip_h1_title": false,
      "title_cell": "Table of Contents",
      "title_sidebar": "Contents",
      "toc_cell": false,
      "toc_position": {},
      "toc_section_display": true,
      "toc_window_display": false
    },
    "varInspector": {
      "cols": {
        "lenName": 16,
        "lenType": 16,
        "lenVar": 40
      },
      "kernels_config": {
        "python": {
          "delete_cmd_postfix": "",
          "delete_cmd_prefix": "del ",
          "library": "var_list.py",
          "varRefreshCmd": "print(var_dic_list())"
        },
        "r": {
          "delete_cmd_postfix": ") ",
          "delete_cmd_prefix": "rm(",
          "library": "var_list.r",
          "varRefreshCmd": "cat(var_dic_list()) "
        }
      },
      "types_to_exclude": [
        "module",
        "function",
        "builtin_function_or_method",
        "instance",
        "_Feature"
      ],
      "window_display": false
    },
    "colab": {
      "name": "pump it up - 1.ipynb",
      "provenance": [],
      "include_colab_link": true
    }
  },
  "cells": [
    {
      "cell_type": "markdown",
      "metadata": {
        "id": "view-in-github",
        "colab_type": "text"
      },
      "source": [
        "<a href=\"https://colab.research.google.com/github/navroz-lamba/DS-Unit-2-Kaggle-Challenge/blob/master/assignment%20-%20224.ipynb\" target=\"_parent\"><img src=\"https://colab.research.google.com/assets/colab-badge.svg\" alt=\"Open In Colab\"/></a>"
      ]
    },
    {
      "cell_type": "code",
      "metadata": {
        "id": "ch8-HwZwJB8Y",
        "colab_type": "code",
        "colab": {},
        "outputId": "f61b906d-f44a-4130-9b1d-9f086eefe133"
      },
      "source": [
        "import pandas as pd\n",
        "from sklearn.model_selection import train_test_split\n",
        "\n",
        "# to be able to view all the columns in the head \n",
        "pd.set_option('display.max_columns', None)\n",
        "\n",
        "train_df = pd.merge(pd.read_csv('https://raw.githubusercontent.com/LambdaSchool/DS-Unit-2-Kaggle-Challenge/master/data/waterpumps/train_features.csv'), \n",
        "                 pd.read_csv('https://raw.githubusercontent.com/LambdaSchool/DS-Unit-2-Kaggle-Challenge/master/data/waterpumps/train_labels.csv')).set_index('id')\n",
        "\n",
        "X_test = pd.read_csv('https://raw.githubusercontent.com/LambdaSchool/DS-Unit-2-Kaggle-Challenge/master/data/waterpumps/test_features.csv', index_col='id')\n",
        "\n",
        "sample_submission = pd.read_csv('https://raw.githubusercontent.com/LambdaSchool/DS-Unit-2-Kaggle-Challenge/master/data/waterpumps/sample_submission.csv')\n",
        "\n",
        "train_df.shape, X_test.shape"
      ],
      "execution_count": null,
      "outputs": [
        {
          "output_type": "execute_result",
          "data": {
            "text/plain": [
              "((59400, 40), (14358, 39))"
            ]
          },
          "metadata": {
            "tags": []
          },
          "execution_count": 1
        }
      ]
    },
    {
      "cell_type": "code",
      "metadata": {
        "id": "U_7lTkx5JB8d",
        "colab_type": "code",
        "colab": {}
      },
      "source": [
        "hc_cols_99 = ['funder', 'installer', 'subvillage', 'lga']\n",
        "    # to iterate over every column in hc_cols_99\n",
        "for value in hc_cols_99:\n",
        "    # list of top 99 values\n",
        "    top99 = train_df[value].value_counts()[:99].index\n",
        "    # if not in top 99 put it under 'other'\n",
        "    train_df.loc[~train_df[value].isin(top99), value] = 'Other'"
      ],
      "execution_count": null,
      "outputs": []
    },
    {
      "cell_type": "code",
      "metadata": {
        "id": "vh-vSX93JB8h",
        "colab_type": "code",
        "colab": {}
      },
      "source": [
        "# also, dropping 'num_private' as 90% or more are 0's and recorded_by as its unique and won't add any value\n",
        "\n",
        "# lets make a list of cols we will be dropping so we could call it in the function \n",
        "train_df = train_df.drop(['waterpoint_type_group', 'source', 'source_class','quantity_group', 'extraction_type_group', \n",
        "                        'extraction_type_class', 'region_code', 'quality_group', 'payment_type', 'recorded_by', 'num_private'], axis =1)\n",
        "\n",
        "X_test= X_test.drop(['waterpoint_type_group', 'source', 'source_class','quantity_group', 'extraction_type_group', \n",
        "                        'extraction_type_class', 'region_code', 'quality_group', 'payment_type', 'recorded_by', 'num_private'], axis =1)"
      ],
      "execution_count": null,
      "outputs": []
    },
    {
      "cell_type": "code",
      "metadata": {
        "id": "LfI2dgi6JB8j",
        "colab_type": "code",
        "colab": {}
      },
      "source": [
        "import numpy as np\n",
        "\n",
        "def wrangle(X):\n",
        "    \n",
        "    \n",
        "    # make a copy \n",
        "    X = X.copy()\n",
        "\n",
        "    \n",
        "    # replace the funky measurements with 0\n",
        "    X['latitude'] = X['latitude'].replace(-2e-08, 0)\n",
        "    \n",
        "    \n",
        "    # Replace all cols with 0s with Nan\n",
        "    cols_with_zeros = ['longitude', 'latitude', 'construction_year']\n",
        "    for col in cols_with_zeros:\n",
        "        X[col] = X[col].replace(0, np.nan)\n",
        "    \n",
        "    # replace Nan using mean for lat and lon \n",
        "    X['longitude'] = X['longitude'].fillna(X['longitude'].mean())\n",
        "    X['latitude'] = X['latitude'].fillna(X['latitude'].mean())\n",
        "    \n",
        "    \n",
        "    # fillna for construction year with bfill \n",
        "    X['construction_year'] = X['construction_year'].fillna(X['construction_year'].median())\n",
        "    # change the dtype of date_recorded so we could extract year \n",
        "    X['date_recorded'] = pd.to_datetime(X['date_recorded'], infer_datetime_format = True)\n",
        "    # Extracting year and assigning a new column\n",
        "    X['year_recorded'] = X['date_recorded'].dt.year\n",
        "    # making a new column, time since inspection\n",
        "    X['time_since_inspection'] = X['year_recorded'] - X['construction_year']\n",
        "\n",
        "    \n",
        "    # convert district code and construction year to object \n",
        "    X['district_code'] = X['district_code'].astype('object')\n",
        "    X['year_recorded'] = X['year_recorded'].astype('object')\n",
        "    \n",
        "    X['time_since_inspection'] = X['time_since_inspection'].astype(int)\n",
        "\n",
        "    \n",
        "#     X['num_private'] = np.sqrt(X['num_private'])\n",
        "    # Drop the following\n",
        "#     X = X.drop(['date_recorded', 'year_recorded'], axis=1)\n",
        "#     X = X.drop(['date_recorded', 'year_recorded', 'contruction_year'], drop_cols, axis=1)\n",
        "\n",
        "    # taking median of the pop instead of zeros\n",
        "    X['population'] = X['population'].replace(0, np.nan)\n",
        "    X['population'] = X['population'].fillna(X['population'].median())\n",
        "    \n",
        "    X['amount_tsh'] = X['amount_tsh'].replace(0, np.nan)\n",
        "    X['amount_tsh'] = X['amount_tsh'].fillna(X['amount_tsh'].median())\n",
        "    \n",
        "#     X['gps_height'] = X['gps_height'].replace(0, np.nan)\n",
        "#     X['gps_height'] = X['gps_height'].fillna(X['amount_tsh'].median())\n",
        "    \n",
        "        \n",
        "    \n",
        "    return X\n",
        "\n",
        "# apply on train and test \n",
        "train_df = wrangle(train_df)\n",
        "X_test = wrangle(X_test)\n"
      ],
      "execution_count": null,
      "outputs": []
    },
    {
      "cell_type": "markdown",
      "metadata": {
        "id": "S5fd7kS5JB8m",
        "colab_type": "text"
      },
      "source": [
        "# missing values"
      ]
    },
    {
      "cell_type": "code",
      "metadata": {
        "id": "jW_oQyqlJB8n",
        "colab_type": "code",
        "colab": {}
      },
      "source": [
        "# replace '0' in funder and installer with 'None'\n",
        "train_df['funder'] = train_df['funder'].replace('0', 'None')\n",
        "train_df['installer'] = train_df['installer'].replace('0', 'None')\n",
        "train_df[\"scheme_management\"].fillna(\"unknown\", inplace = True)\n",
        "train_df[\"public_meeting\"].fillna(\"unknown\", inplace = True)\n",
        "train_df[\"permit\"].fillna(\"unknown\", inplace = True)\n",
        "train_df[\"funder\"].fillna(\"unknown\", inplace = True)\n",
        "train_df[\"installer\"].fillna(\"unknown\", inplace = True)\n",
        "\n",
        "X_test['funder'] = X_test['funder'].replace('0', 'None')\n",
        "X_test['installer'] = X_test['installer'].replace('0', 'None')\n",
        "X_test[\"scheme_management\"].fillna(\"unknown\", inplace = True)\n",
        "X_test[\"public_meeting\"].fillna(\"unknown\", inplace = True)\n",
        "X_test[\"permit\"].fillna(\"unknown\", inplace = True)\n",
        "X_test[\"funder\"].fillna(\"unknown\", inplace = True)\n",
        "X_test[\"installer\"].fillna(\"unknown\", inplace = True)"
      ],
      "execution_count": null,
      "outputs": []
    },
    {
      "cell_type": "code",
      "metadata": {
        "id": "0gRSWY4qJB8p",
        "colab_type": "code",
        "colab": {}
      },
      "source": [
        "# ordinal for Public meeting \n",
        "order_dict_pub_meet = {True:2,False:1,\"unknown\":0}\n",
        "train_df[\"public_meeting_code\"] = [order_dict_pub_meet[item] for item in train_df.public_meeting] \n",
        "del train_df[\"public_meeting\"]\n",
        "\n",
        "X_test[\"public_meeting_code\"] = [order_dict_pub_meet[item] for item in X_test.public_meeting] \n",
        "del X_test[\"public_meeting\"]\n",
        "\n",
        "# ordinal for Permit\n",
        "order_dict_permit = {True:2,False:1,\"unknown\":0}\n",
        "train_df[\"permit_code\"] = [order_dict_pub_meet[item] for item in train_df.permit] \n",
        "del train_df[\"permit\"]\n",
        "\n",
        "X_test[\"permit_code\"] = [order_dict_pub_meet[item] for item in X_test.permit] \n",
        "del X_test[\"permit\"]"
      ],
      "execution_count": null,
      "outputs": []
    },
    {
      "cell_type": "code",
      "metadata": {
        "id": "UHr6w6WNJB8s",
        "colab_type": "code",
        "colab": {}
      },
      "source": [
        "def cardinalilty_fix(X):\n",
        "    \n",
        "# fetching the high cordanility columns which we will reduce to 99 unique values\n",
        "    hc_cols_99 = ['funder', 'installer', 'subvillage', 'lga']\n",
        "    # to iterate over every column in hc_cols_99\n",
        "    for value in hc_cols_99:\n",
        "    # list of top 99 values\n",
        "        top99 = X[value].value_counts()[:99].index\n",
        "    # if not in top 99 put it under 'other'\n",
        "        X.loc[~X[value].isin(top99), value] = 'Other'\n",
        "    \n",
        "    # fetching the high cordanility columns which we will reduce to 30 unique values\n",
        "    hc_cols_30 = ['ward', 'scheme_name']\n",
        "    # to iterate over every column in hc_cols_99\n",
        "    for value in hc_cols_30:\n",
        "    # list of top 99 values\n",
        "        top30 = X[value].value_counts()[:30].index\n",
        "    # if not in top 99 put it under 'other'\n",
        "        X.loc[~X[value].isin(top30), value] = 'Other'\n",
        "    \n",
        "    # fetching the high cordanility columns which we will reduce to 30 unique values\n",
        "    hc_cols_20 = ['wpt_name']\n",
        "    # to iterate over every column in hc_cols_99\n",
        "    for value in hc_cols_20:\n",
        "    # list of top 99 values\n",
        "        top20 = X[value].value_counts()[:20].index\n",
        "    # if not in top 99 put it under 'other'\n",
        "        X.loc[~X[value].isin(top20), value] = 'Other'\n",
        "        \n",
        "        \n",
        "    # we will use frequency encoding for these nominal cat columns\n",
        "    freq_cat_col = ['funder', 'installer', 'subvillage', 'lga']\n",
        "    for col in freq_cat_col:\n",
        "        frequency_map = (X[col].value_counts() / len(X)).to_dict()\n",
        "        X[col] = X[col].map(frequency_map)\n",
        "    \n",
        "    \n",
        "    return X\n",
        "\n",
        "# apply on train and test \n",
        "train_df = cardinalilty_fix(train_df)\n",
        "X_test = cardinalilty_fix(X_test)"
      ],
      "execution_count": null,
      "outputs": []
    },
    {
      "cell_type": "code",
      "metadata": {
        "id": "mOt8gQ9LJB8v",
        "colab_type": "code",
        "colab": {},
        "outputId": "9d8ba198-a202-46d2-e0bb-aedb3177efc2"
      },
      "source": [
        "X_test.isna().sum()"
      ],
      "execution_count": null,
      "outputs": [
        {
          "output_type": "execute_result",
          "data": {
            "text/plain": [
              "amount_tsh               0\n",
              "date_recorded            0\n",
              "funder                   0\n",
              "gps_height               0\n",
              "installer                0\n",
              "longitude                0\n",
              "latitude                 0\n",
              "wpt_name                 0\n",
              "basin                    0\n",
              "subvillage               0\n",
              "region                   0\n",
              "district_code            0\n",
              "lga                      0\n",
              "ward                     0\n",
              "population               0\n",
              "scheme_management        0\n",
              "scheme_name              0\n",
              "construction_year        0\n",
              "extraction_type          0\n",
              "management               0\n",
              "management_group         0\n",
              "payment                  0\n",
              "water_quality            0\n",
              "quantity                 0\n",
              "source_type              0\n",
              "waterpoint_type          0\n",
              "year_recorded            0\n",
              "time_since_inspection    0\n",
              "public_meeting_code      0\n",
              "permit_code              0\n",
              "dtype: int64"
            ]
          },
          "metadata": {
            "tags": []
          },
          "execution_count": 8
        }
      ]
    },
    {
      "cell_type": "code",
      "metadata": {
        "id": "jD0f2rlkJB8y",
        "colab_type": "code",
        "colab": {},
        "outputId": "eeece5f8-894d-4921-ad91-c2f9be10124d"
      },
      "source": [
        "X_test.shape"
      ],
      "execution_count": null,
      "outputs": [
        {
          "output_type": "execute_result",
          "data": {
            "text/plain": [
              "(14358, 30)"
            ]
          },
          "metadata": {
            "tags": []
          },
          "execution_count": 9
        }
      ]
    },
    {
      "cell_type": "markdown",
      "metadata": {
        "id": "f6rT-DKpJB81",
        "colab_type": "text"
      },
      "source": [
        "# feature engineering \n"
      ]
    },
    {
      "cell_type": "code",
      "metadata": {
        "id": "fA9lujeVJB82",
        "colab_type": "code",
        "colab": {}
      },
      "source": [
        "#take the recorded date of the water point’s last known observation and \n",
        "# subtract the year of the construction \n",
        "\n",
        "train_df['age_of_the_waterpoint'] = ((train_df['date_recorded'].dt.year).max() - train_df['construction_year']).astype(int)\n",
        "\n",
        "X_test['age_of_the_waterpoint'] = ((X_test['date_recorded'].dt.year).max() - X_test['construction_year']).astype(int)\n"
      ],
      "execution_count": null,
      "outputs": []
    },
    {
      "cell_type": "code",
      "metadata": {
        "id": "G_dY80KlJB85",
        "colab_type": "code",
        "colab": {}
      },
      "source": [
        "# make new features with population and age of the water pump\n",
        "train_df['pop_age_m'] = np.sqrt((train_df['population'] * train_df['age_of_the_waterpoint'])).astype('object')\n",
        "train_df['pop_age_ratio'] = (train_df['population'] / train_df['age_of_the_waterpoint']).astype('object')\n",
        "X_test['pop_age_m'] = np.sqrt((X_test['population'] * X_test['age_of_the_waterpoint'])).astype('object')\n",
        "X_test['pop_age_ratio'] = (X_test['population'] / X_test['age_of_the_waterpoint']).astype('object')"
      ],
      "execution_count": null,
      "outputs": []
    },
    {
      "cell_type": "code",
      "metadata": {
        "id": "SmTovVZyJB88",
        "colab_type": "code",
        "colab": {},
        "outputId": "d2031739-091c-4c45-ea3b-d4a1c3f1d165"
      },
      "source": [
        "train_df.isna().sum()"
      ],
      "execution_count": null,
      "outputs": [
        {
          "output_type": "execute_result",
          "data": {
            "text/plain": [
              "amount_tsh               0\n",
              "funder                   0\n",
              "gps_height               0\n",
              "installer                0\n",
              "longitude                0\n",
              "latitude                 0\n",
              "wpt_name                 0\n",
              "basin                    0\n",
              "subvillage               0\n",
              "region                   0\n",
              "district_code            0\n",
              "lga                      0\n",
              "ward                     0\n",
              "population               0\n",
              "scheme_management        0\n",
              "scheme_name              0\n",
              "construction_year        0\n",
              "extraction_type          0\n",
              "management               0\n",
              "management_group         0\n",
              "payment                  0\n",
              "water_quality            0\n",
              "quantity                 0\n",
              "source_type              0\n",
              "waterpoint_type          0\n",
              "status_group             0\n",
              "time_since_inspection    0\n",
              "public_meeting_code      0\n",
              "permit_code              0\n",
              "age_of_the_waterpoint    0\n",
              "days_since_recorded      0\n",
              "pop_age_m                0\n",
              "pop_age_ratio            0\n",
              "pop_time_m               0\n",
              "dtype: int64"
            ]
          },
          "metadata": {
            "tags": []
          },
          "execution_count": 45
        }
      ]
    },
    {
      "cell_type": "code",
      "metadata": {
        "id": "xLCSo8U9JB9A",
        "colab_type": "code",
        "colab": {}
      },
      "source": [
        "\n",
        "# make new features with population and age of the water pump\n",
        "train_df['pop_time_m'] = train_df['population'] * train_df['time_since_inspection'].astype('object')\n",
        "# train_df['pop_time_ratio'] = train_df['population'] / train_df['time_since_inspection'].astype('object')\n",
        "\n",
        "X_test['pop_time_m'] = X_test['population'] * X_test['time_since_inspection'].astype('object')\n",
        "# X_test['pop_time_ratio'] = X_test['population'] / X_test['time_since_inspection'].astype('object')"
      ],
      "execution_count": null,
      "outputs": []
    },
    {
      "cell_type": "code",
      "metadata": {
        "scrolled": true,
        "id": "-hp7rUg8JB9D",
        "colab_type": "code",
        "colab": {}
      },
      "source": [
        "# removing outliers\n",
        "train_df = train_df[(train_df['amount_tsh'] >= np.percentile(train_df['amount_tsh'], 0.5)) & \n",
        "        (train_df['amount_tsh'] <= np.percentile(train_df['amount_tsh'], 99.5)) & \n",
        "        (train_df['latitude'] >= np.percentile(train_df['latitude'], 0.05)) & \n",
        "        (train_df['latitude'] < np.percentile(train_df['latitude'], 99.95)) &\n",
        "        (train_df['longitude'] >= np.percentile(train_df['longitude'], 0.05)) & \n",
        "        (train_df['longitude'] <= np.percentile(train_df['longitude'], 99.95))]\n",
        "\n",
        "# X_test = X_test[(X_test['amount_tsh'] >= np.percentile(X_test['amount_tsh'], 0.5)) & \n",
        "#         (X_test['amount_tsh'] <= np.percentile(X_test['amount_tsh'], 99.5)) & \n",
        "#         (X_test['latitude'] >= np.percentile(X_test['latitude'], 0.05)) & \n",
        "#         (X_test['latitude'] < np.percentile(X_test['latitude'], 99.95)) &\n",
        "#         (X_test['longitude'] >= np.percentile(X_test['longitude'], 0.05)) & \n",
        "#         (X_test['longitude'] <= np.percentile(X_test['longitude'], 99.95))]"
      ],
      "execution_count": null,
      "outputs": []
    },
    {
      "cell_type": "code",
      "metadata": {
        "id": "djEO6HJ8JB9G",
        "colab_type": "code",
        "colab": {}
      },
      "source": [
        "def construction_wrangler(X):\n",
        "    if X['construction_year'] >= 1960 and X['construction_year'] < 1970:\n",
        "        return '60s'\n",
        "    elif X['construction_year'] >= 1970 and X['construction_year'] < 1980:\n",
        "        return '70s'\n",
        "    elif X['construction_year'] >= 1980 and X['construction_year'] < 1990:\n",
        "        return '80s'\n",
        "    elif X['construction_year'] >= 1990 and X['construction_year'] < 2000:\n",
        "        return '90s'\n",
        "    elif X['construction_year'] >= 2000 and X['construction_year'] < 2010:\n",
        "        return '00s'\n",
        "    elif X['construction_year'] >= 2010:\n",
        "        return '10s'\n",
        "    else:\n",
        "        return 'unknown'\n",
        "    \n",
        "train_df['construction_year'] = train_df.apply(lambda X: construction_wrangler(X), axis=1)\n",
        "X_test['construction_year'] = X_test.apply(lambda X: construction_wrangler(X), axis=1)"
      ],
      "execution_count": null,
      "outputs": []
    },
    {
      "cell_type": "code",
      "metadata": {
        "id": "L468QwmcJB9J",
        "colab_type": "code",
        "colab": {},
        "outputId": "c8873e89-fc79-4175-c8bb-dcefc29c7b2a"
      },
      "source": [
        "# calculate the number of days past since the date_recorded of a particular pump till the most recent date of the dataset\n",
        "\n",
        "\n",
        "train_df['days_since_recorded'] = pd.datetime(2013, 12, 3) - pd.to_datetime(train_df.date_recorded)\n",
        "train_df['days_since_recorded'] = train_df['days_since_recorded'].astype('timedelta64[D]').astype(int)\n",
        "\n",
        "X_test['days_since_recorded'] = pd.datetime(2013, 12, 3) - pd.to_datetime(X_test.date_recorded)\n",
        "X_test['days_since_recorded'] = X_test['days_since_recorded'].astype('timedelta64[D]').astype(int)"
      ],
      "execution_count": null,
      "outputs": [
        {
          "output_type": "stream",
          "text": [
            "/Users/navrozlamba/opt/anaconda3/lib/python3.7/site-packages/ipykernel_launcher.py:4: FutureWarning: The pandas.datetime class is deprecated and will be removed from pandas in a future version. Import from datetime module instead.\n",
            "  after removing the cwd from sys.path.\n",
            "/Users/navrozlamba/opt/anaconda3/lib/python3.7/site-packages/ipykernel_launcher.py:7: FutureWarning: The pandas.datetime class is deprecated and will be removed from pandas in a future version. Import from datetime module instead.\n",
            "  import sys\n"
          ],
          "name": "stderr"
        }
      ]
    },
    {
      "cell_type": "code",
      "metadata": {
        "id": "Ftf8RBbgJB9M",
        "colab_type": "code",
        "colab": {}
      },
      "source": [
        "# drop date columsn from both train and test \n",
        "def drop_date(X):\n",
        "    \n",
        "    X = X.drop(['pop_time_m'], axis=1)\n",
        "#      X = X.drop(['date_recorded', 'year_recorded', 'pop_time_m'], axis=1)\n",
        "    return X\n",
        "# apply to both \n",
        "train_df = drop_date(train_df)\n",
        "X_test = drop_date(X_test)"
      ],
      "execution_count": null,
      "outputs": []
    },
    {
      "cell_type": "code",
      "metadata": {
        "id": "zKco_49JJB9O",
        "colab_type": "code",
        "colab": {},
        "outputId": "05a889db-e9c7-42a5-933f-ce7e55a9f115"
      },
      "source": [
        "train_df.isna().sum()"
      ],
      "execution_count": null,
      "outputs": [
        {
          "output_type": "execute_result",
          "data": {
            "text/plain": [
              "amount_tsh               0\n",
              "funder                   0\n",
              "gps_height               0\n",
              "installer                0\n",
              "longitude                0\n",
              "latitude                 0\n",
              "wpt_name                 0\n",
              "basin                    0\n",
              "subvillage               0\n",
              "region                   0\n",
              "district_code            0\n",
              "lga                      0\n",
              "ward                     0\n",
              "population               0\n",
              "scheme_management        0\n",
              "scheme_name              0\n",
              "construction_year        0\n",
              "extraction_type          0\n",
              "management               0\n",
              "management_group         0\n",
              "payment                  0\n",
              "water_quality            0\n",
              "quantity                 0\n",
              "source_type              0\n",
              "waterpoint_type          0\n",
              "status_group             0\n",
              "time_since_inspection    0\n",
              "public_meeting_code      0\n",
              "permit_code              0\n",
              "age_of_the_waterpoint    0\n",
              "days_since_recorded      0\n",
              "dtype: int64"
            ]
          },
          "metadata": {
            "tags": []
          },
          "execution_count": 17
        }
      ]
    },
    {
      "cell_type": "markdown",
      "metadata": {
        "id": "rqFErBjdJB9R",
        "colab_type": "text"
      },
      "source": [
        "# SPLIT "
      ]
    },
    {
      "cell_type": "code",
      "metadata": {
        "id": "toVgDWY3JB9R",
        "colab_type": "code",
        "colab": {}
      },
      "source": [
        "y_train = train_df['status_group']\n",
        "X_train= train_df.drop(['status_group'], axis=1)"
      ],
      "execution_count": null,
      "outputs": []
    },
    {
      "cell_type": "code",
      "metadata": {
        "id": "MSeQ5RuXJB9U",
        "colab_type": "code",
        "colab": {},
        "outputId": "f6fda799-6216-4848-e4d3-093fdc8e9c33"
      },
      "source": [
        "# cat attributes \n",
        "cat_attribs = X_train.select_dtypes(include='object')\n",
        "cat_attribs.columns"
      ],
      "execution_count": null,
      "outputs": [
        {
          "output_type": "execute_result",
          "data": {
            "text/plain": [
              "Index(['wpt_name', 'basin', 'region', 'district_code', 'ward',\n",
              "       'scheme_management', 'scheme_name', 'construction_year',\n",
              "       'extraction_type', 'management', 'management_group', 'payment',\n",
              "       'water_quality', 'quantity', 'source_type', 'waterpoint_type',\n",
              "       'pop_age_m', 'pop_age_ratio'],\n",
              "      dtype='object')"
            ]
          },
          "metadata": {
            "tags": []
          },
          "execution_count": 54
        }
      ]
    },
    {
      "cell_type": "code",
      "metadata": {
        "id": "Avc6wSN2JB9W",
        "colab_type": "code",
        "colab": {}
      },
      "source": [
        "# # Train-validation split\n",
        "# from sklearn.model_selection import train_test_split\n",
        "\n",
        "# X_train, X_val, y_train, y_val = train_test_split(X, y, test_size=0.2, random_state=11)"
      ],
      "execution_count": null,
      "outputs": []
    },
    {
      "cell_type": "markdown",
      "metadata": {
        "id": "mfRZwgAmJB9Y",
        "colab_type": "text"
      },
      "source": [
        "# first run - original notebook \n",
        "-max_depth=20, n_estimators=12, k=28 \n",
        "- Training MAE: 0.9679447820287523\n",
        "- Training MAE: 0.8091971544715447"
      ]
    },
    {
      "cell_type": "markdown",
      "metadata": {
        "id": "7EYo-ix7JB9Z",
        "colab_type": "text"
      },
      "source": [
        "# second run - \n",
        "-max_depth=, n_estimators=, k= \n",
        "- Training MAE: \n",
        "- Training MAE: "
      ]
    },
    {
      "cell_type": "code",
      "metadata": {
        "id": "0ONFtd4VJB9Z",
        "colab_type": "code",
        "colab": {}
      },
      "source": [
        "# from sklearn.pipeline import make_pipeline\n",
        "# from sklearn.impute import SimpleImputer\n",
        "# from sklearn.preprocessing import StandardScaler\n",
        "# # from sklearn.preprocessing import OrdinalEncoder\n",
        "# from sklearn.tree import DecisionTreeClassifier\n",
        "# from sklearn.ensemble import RandomForestClassifier\n",
        "# from category_encoders import OrdinalEncoder\n",
        "# from sklearn.feature_selection import SelectKBest\n",
        "\n",
        "# tree_model = make_pipeline(\n",
        "#     OrdinalEncoder(cols = cat_attribs),\n",
        "#     SelectKBest(k=28),\n",
        "#     RandomForestClassifier(random_state=11, max_depth=20, n_estimators=121) # min_impurity_decrease=0.000081\n",
        "# )\n",
        "\n",
        "# tree_model.fit(X_train, y_train)"
      ],
      "execution_count": null,
      "outputs": []
    },
    {
      "cell_type": "code",
      "metadata": {
        "id": "Ym5ggZvLJB9b",
        "colab_type": "code",
        "colab": {}
      },
      "source": [
        "# from sklearn.metrics import accuracy_score\n",
        "# print('Training MAE:', accuracy_score(y_train, tree_model.predict(X_train)))\n",
        "# print('Training MAE:', accuracy_score(y_val, tree_model.predict(X_val)))"
      ],
      "execution_count": null,
      "outputs": []
    },
    {
      "cell_type": "markdown",
      "metadata": {
        "id": "myW5lq_dJB9f",
        "colab_type": "text"
      },
      "source": [
        "# Regularizing "
      ]
    },
    {
      "cell_type": "code",
      "metadata": {
        "id": "WCZ-Co8MJB9f",
        "colab_type": "code",
        "colab": {}
      },
      "source": [
        "from sklearn.model_selection import RandomizedSearchCV\n",
        "from sklearn.pipeline import make_pipeline\n",
        "from sklearn.impute import SimpleImputer\n",
        "from sklearn.preprocessing import StandardScaler\n",
        "# from sklearn.preprocessing import OrdinalEncoder\n",
        "from sklearn.tree import DecisionTreeClassifier\n",
        "from sklearn.ensemble import RandomForestClassifier\n",
        "from category_encoders import OrdinalEncoder\n",
        "from sklearn.feature_selection import SelectKBest\n",
        "\n",
        "tree_model = make_pipeline(\n",
        "    OrdinalEncoder(cols = cat_attribs),\n",
        "    SelectKBest(),\n",
        "    RandomForestClassifier(random_state=11))\n",
        "\n",
        "params = {'selectkbest__k': range(30,34),\n",
        "          'randomforestclassifier__n_estimators': range(114,119),\n",
        "         'randomforestclassifier__max_depth': range(20,23)}\n",
        "\n",
        "rand = RandomizedSearchCV(tree_model,\n",
        "                  params,\n",
        "                  verbose=1,\n",
        "                  cv=7,\n",
        "                  n_jobs=-1)"
      ],
      "execution_count": null,
      "outputs": []
    },
    {
      "cell_type": "code",
      "metadata": {
        "id": "xBCGVjDBJB9i",
        "colab_type": "code",
        "colab": {},
        "outputId": "e6e3ec90-df08-42fe-fe49-d8aee2392672"
      },
      "source": [
        "rand.fit(X_train, y_train)"
      ],
      "execution_count": null,
      "outputs": [
        {
          "output_type": "stream",
          "text": [
            "Fitting 7 folds for each of 10 candidates, totalling 70 fits\n"
          ],
          "name": "stdout"
        },
        {
          "output_type": "stream",
          "text": [
            "[Parallel(n_jobs=-1)]: Using backend LokyBackend with 4 concurrent workers.\n",
            "[Parallel(n_jobs=-1)]: Done  42 tasks      | elapsed:  5.1min\n",
            "[Parallel(n_jobs=-1)]: Done  70 out of  70 | elapsed:  8.1min finished\n"
          ],
          "name": "stderr"
        },
        {
          "output_type": "execute_result",
          "data": {
            "text/plain": [
              "RandomizedSearchCV(cv=7,\n",
              "                   estimator=Pipeline(steps=[('ordinalencoder',\n",
              "                                              OrdinalEncoder(cols=       wpt_name                    basin       region district_code   ward  \\\n",
              "id                                                                           \n",
              "69572      none               Lake Nyasa       Iringa             5  Other   \n",
              "8776   Zahanati            Lake Victoria         Mara             2  Other   \n",
              "34310     Other                  Pangani      Manyara             4  Other   \n",
              "67743     Other  Ruvuma / Southern Coast       Mtwara            63  Other   \n",
              "19728   Shuleni            Lake Victoria       Kagera             1  Other   \n",
              "...         ...                      ...          ...           ...    ...   \n",
              "60739     Other                  Pangani  Kilimanjaro             5  Oth...\n",
              "37057   44.1588       11.5385       1650  \n",
              "31282   44.1588       11.5385       1650  \n",
              "26348   40.6202       13.6364       1350  \n",
              "\n",
              "[59019 rows x 19 columns])),\n",
              "                                             ('selectkbest', SelectKBest()),\n",
              "                                             ('randomforestclassifier',\n",
              "                                              RandomForestClassifier(random_state=11))]),\n",
              "                   n_jobs=-1,\n",
              "                   param_distributions={'randomforestclassifier__max_depth': range(20, 23),\n",
              "                                        'randomforestclassifier__n_estimators': range(114, 119),\n",
              "                                        'selectkbest__k': range(30, 34)},\n",
              "                   verbose=1)"
            ]
          },
          "metadata": {
            "tags": []
          },
          "execution_count": 49
        }
      ]
    },
    {
      "cell_type": "code",
      "metadata": {
        "id": "o8nQarQtJB9l",
        "colab_type": "code",
        "colab": {},
        "outputId": "bb3825e0-e2c8-419b-8ab5-ba3b590cf45f"
      },
      "source": [
        "print(rand.best_score_)\n",
        "print(rand.best_params_)\n",
        "print(rand.best_estimator_)"
      ],
      "execution_count": null,
      "outputs": [
        {
          "output_type": "stream",
          "text": [
            "0.811179446124278\n",
            "{'selectkbest__k': 33, 'randomforestclassifier__n_estimators': 116, 'randomforestclassifier__max_depth': 22}\n",
            "Pipeline(steps=[('ordinalencoder',\n",
            "                 OrdinalEncoder(cols=       wpt_name                    basin       region district_code   ward  \\\n",
            "id                                                                           \n",
            "69572      none               Lake Nyasa       Iringa             5  Other   \n",
            "8776   Zahanati            Lake Victoria         Mara             2  Other   \n",
            "34310     Other                  Pangani      Manyara             4  Other   \n",
            "67743     Other  Ruvuma / Southern Coast       Mtwara            63  Other   \n",
            "19728   Shuleni            Lake Victoria       Kagera             1  Other   \n",
            "...         ...                      ...          ...           ...    ...   \n",
            "60739     Other                  Pangani  Kilimanjaro             5  Other   \n",
            "27263     Other                   Rufiji       Iringa             4  Other   \n",
            "3705...\n",
            "197.000000    4422\n",
            "3.840000      4423\n",
            "NaN             -2\n",
            "Length: 4424, dtype: int64},\n",
            "                                         {'col': 'pop_time_m',\n",
            "                                          'data_type': dtype('O'),\n",
            "                                          'mapping': 1308.0        1\n",
            "840.0         2\n",
            "1000.0        3\n",
            "1566.0        4\n",
            "1650.0        5\n",
            "           ... \n",
            "31232.0    3496\n",
            "1012.0     3497\n",
            "35260.0    3498\n",
            "3152.0     3499\n",
            "NaN          -2\n",
            "Length: 3500, dtype: int64}])),\n",
            "                ('selectkbest', SelectKBest(k=33)),\n",
            "                ('randomforestclassifier',\n",
            "                 RandomForestClassifier(max_depth=22, n_estimators=116,\n",
            "                                        random_state=11))])\n"
          ],
          "name": "stdout"
        }
      ]
    },
    {
      "cell_type": "markdown",
      "metadata": {
        "id": "uJJr3gDzJB9o",
        "colab_type": "text"
      },
      "source": [
        "# one final step "
      ]
    },
    {
      "cell_type": "code",
      "metadata": {
        "id": "M7TVl4wLJB9o",
        "colab_type": "code",
        "colab": {},
        "outputId": "666ff396-83b6-4ad6-9dc2-15ad9127264f"
      },
      "source": [
        "model = rand.best_estimator_\n",
        "\n",
        "model.fit(X_train, y_train)"
      ],
      "execution_count": null,
      "outputs": [
        {
          "output_type": "execute_result",
          "data": {
            "text/plain": [
              "Pipeline(steps=[('ordinalencoder',\n",
              "                 OrdinalEncoder(cols=       wpt_name                    basin       region district_code   ward  \\\n",
              "id                                                                           \n",
              "69572      none               Lake Nyasa       Iringa             5  Other   \n",
              "8776   Zahanati            Lake Victoria         Mara             2  Other   \n",
              "34310     Other                  Pangani      Manyara             4  Other   \n",
              "67743     Other  Ruvuma / Southern Coast       Mtwara            63  Other   \n",
              "19728   Shuleni            Lake Victoria       Kagera             1  Other   \n",
              "...         ...                      ...          ...           ...    ...   \n",
              "60739     Other                  Pangani  Kilimanjaro             5  Other   \n",
              "27263     Other                   Rufiji       Iringa             4  Other   \n",
              "3705...\n",
              "borehole                4\n",
              "other                   5\n",
              "shallow well            6\n",
              "river/lake              7\n",
              "NaN                    -2\n",
              "dtype: int64},\n",
              "                                         {'col': 'waterpoint_type',\n",
              "                                          'data_type': dtype('O'),\n",
              "                                          'mapping': communal standpipe             1\n",
              "communal standpipe multiple    2\n",
              "hand pump                      3\n",
              "other                          4\n",
              "improved spring                5\n",
              "cattle trough                  6\n",
              "dam                            7\n",
              "NaN                           -2\n",
              "dtype: int64}])),\n",
              "                ('selectkbest', SelectKBest(k=30)),\n",
              "                ('randomforestclassifier',\n",
              "                 RandomForestClassifier(max_depth=22, n_estimators=117,\n",
              "                                        random_state=11))])"
            ]
          },
          "metadata": {
            "tags": []
          },
          "execution_count": 34
        }
      ]
    },
    {
      "cell_type": "code",
      "metadata": {
        "id": "9OSj9odvJB9u",
        "colab_type": "code",
        "colab": {}
      },
      "source": [
        "y_pred = model.predict(X_test) "
      ],
      "execution_count": null,
      "outputs": []
    },
    {
      "cell_type": "code",
      "metadata": {
        "id": "PbS7zqHkJB9w",
        "colab_type": "code",
        "colab": {}
      },
      "source": [
        "y_pred = pd.DataFrame(y_pred, columns=['status_group'], index=X_test.index)"
      ],
      "execution_count": null,
      "outputs": []
    },
    {
      "cell_type": "code",
      "metadata": {
        "id": "znAvBXW6JB91",
        "colab_type": "code",
        "colab": {}
      },
      "source": [
        "y_pred.to_csv('2020-08-13_2Submission.csv')"
      ],
      "execution_count": null,
      "outputs": []
    },
    {
      "cell_type": "code",
      "metadata": {
        "id": "pDZmPRNrJB93",
        "colab_type": "code",
        "colab": {}
      },
      "source": [
        "# y_pred.shape"
      ],
      "execution_count": null,
      "outputs": []
    },
    {
      "cell_type": "markdown",
      "metadata": {
        "id": "1IP39D9rJB95",
        "colab_type": "text"
      },
      "source": [
        "# try 2"
      ]
    },
    {
      "cell_type": "code",
      "metadata": {
        "id": "hjIYvWkQJB96",
        "colab_type": "code",
        "colab": {}
      },
      "source": [
        "# tree_model = make_pipeline(\n",
        "#     OrdinalEncoder(cols = cat_attribs),\n",
        "#     SelectKBest(k=28),\n",
        "#     RandomForestClassifier(random_state=11, max_depth=23, n_estimators=123) # min_impurity_decrease=0.000081\n",
        "# )\n",
        "# tree_model.fit(X_train, y_train)"
      ],
      "execution_count": null,
      "outputs": []
    },
    {
      "cell_type": "code",
      "metadata": {
        "id": "lbHfrDwmJB98",
        "colab_type": "code",
        "colab": {}
      },
      "source": [
        "# y_pred = model.predict(X_test) \n",
        "\n",
        "# y_pred = pd.DataFrame(y_pred, columns=['status_group'], index=X_test.index)\n",
        "\n",
        "# y_pred.to_csv('2020-08-13_Submission.csv')"
      ],
      "execution_count": null,
      "outputs": []
    },
    {
      "cell_type": "code",
      "metadata": {
        "id": "b2LYWE7FJB9-",
        "colab_type": "code",
        "colab": {}
      },
      "source": [
        ""
      ],
      "execution_count": null,
      "outputs": []
    }
  ]
}