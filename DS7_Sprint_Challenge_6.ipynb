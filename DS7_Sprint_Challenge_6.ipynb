{
  "nbformat": 4,
  "nbformat_minor": 0,
  "metadata": {
    "colab": {
      "name": "DS7_Sprint_Challenge_6.ipynb",
      "provenance": [],
      "collapsed_sections": [],
      "include_colab_link": true
    },
    "kernelspec": {
      "display_name": "Python 3",
      "language": "python",
      "name": "python3"
    },
    "language_info": {
      "codemirror_mode": {
        "name": "ipython",
        "version": 3
      },
      "file_extension": ".py",
      "mimetype": "text/x-python",
      "name": "python",
      "nbconvert_exporter": "python",
      "pygments_lexer": "ipython3",
      "version": "3.7.3"
    }
  },
  "cells": [
    {
      "cell_type": "markdown",
      "metadata": {
        "id": "view-in-github",
        "colab_type": "text"
      },
      "source": [
        "<a href=\"https://colab.research.google.com/github/tallywiesenberg/DS-Unit-2-Kaggle-Challenge/blob/master/DS7_Sprint_Challenge_6.ipynb\" target=\"_parent\"><img src=\"https://colab.research.google.com/assets/colab-badge.svg\" alt=\"Open In Colab\"/></a>"
      ]
    },
    {
      "cell_type": "markdown",
      "metadata": {
        "colab_type": "text",
        "id": "M3XH_XLsy_Bn"
      },
      "source": [
        "_Lambda School Data Science, Unit 2_\n",
        " \n",
        "# Sprint Challenge: Predict Steph Curry's shots 🏀\n",
        "\n",
        "For your Sprint Challenge, you'll use a dataset with all Steph Curry's NBA field goal attempts. (Regular season and playoff games, from October 28, 2009, through June 5, 2019.) \n",
        "\n",
        "You'll predict whether each shot was made, using information about the shot and the game. This is hard to predict! Try to get above 60% accuracy. The dataset was collected with the [nba_api](https://github.com/swar/nba_api) Python library."
      ]
    },
    {
      "cell_type": "code",
      "metadata": {
        "colab_type": "code",
        "id": "Nw3CL7TE7tNq",
        "colab": {
          "base_uri": "https://localhost:8080/",
          "height": 1000
        },
        "outputId": "e69aff43-6a64-4f5d-c7ba-b04eb18b8719"
      },
      "source": [
        "import sys\n",
        "in_colab = 'google.colab' in sys.modules\n",
        "\n",
        "if in_colab:\n",
        "    # Install packages in Colab\n",
        "    !pip install category_encoders==2.0.0\n",
        "    !pip install pandas-profiling==2.3.0\n",
        "    !pip install plotly==4.1.1"
      ],
      "execution_count": 54,
      "outputs": [
        {
          "output_type": "stream",
          "text": [
            "Requirement already satisfied: category_encoders==2.0.0 in /usr/local/lib/python3.6/dist-packages (2.0.0)\n",
            "Requirement already satisfied: scikit-learn>=0.20.0 in /usr/local/lib/python3.6/dist-packages (from category_encoders==2.0.0) (0.21.3)\n",
            "Requirement already satisfied: scipy>=0.19.0 in /usr/local/lib/python3.6/dist-packages (from category_encoders==2.0.0) (1.3.1)\n",
            "Requirement already satisfied: numpy>=1.11.3 in /usr/local/lib/python3.6/dist-packages (from category_encoders==2.0.0) (1.16.5)\n",
            "Requirement already satisfied: pandas>=0.21.1 in /usr/local/lib/python3.6/dist-packages (from category_encoders==2.0.0) (0.24.2)\n",
            "Requirement already satisfied: statsmodels>=0.6.1 in /usr/local/lib/python3.6/dist-packages (from category_encoders==2.0.0) (0.10.1)\n",
            "Requirement already satisfied: patsy>=0.4.1 in /usr/local/lib/python3.6/dist-packages (from category_encoders==2.0.0) (0.5.1)\n",
            "Requirement already satisfied: joblib>=0.11 in /usr/local/lib/python3.6/dist-packages (from scikit-learn>=0.20.0->category_encoders==2.0.0) (0.13.2)\n",
            "Requirement already satisfied: python-dateutil>=2.5.0 in /usr/local/lib/python3.6/dist-packages (from pandas>=0.21.1->category_encoders==2.0.0) (2.5.3)\n",
            "Requirement already satisfied: pytz>=2011k in /usr/local/lib/python3.6/dist-packages (from pandas>=0.21.1->category_encoders==2.0.0) (2018.9)\n",
            "Requirement already satisfied: six in /usr/local/lib/python3.6/dist-packages (from patsy>=0.4.1->category_encoders==2.0.0) (1.12.0)\n",
            "Requirement already satisfied: pandas-profiling==2.3.0 in /usr/local/lib/python3.6/dist-packages (2.3.0)\n",
            "Requirement already satisfied: phik>=0.9.8 in /usr/local/lib/python3.6/dist-packages (from pandas-profiling==2.3.0) (0.9.8)\n",
            "Requirement already satisfied: confuse>=1.0.0 in /usr/local/lib/python3.6/dist-packages (from pandas-profiling==2.3.0) (1.0.0)\n",
            "Requirement already satisfied: pandas>=0.19 in /usr/local/lib/python3.6/dist-packages (from pandas-profiling==2.3.0) (0.24.2)\n",
            "Requirement already satisfied: astropy in /usr/local/lib/python3.6/dist-packages (from pandas-profiling==2.3.0) (3.0.5)\n",
            "Requirement already satisfied: missingno>=0.4.2 in /usr/local/lib/python3.6/dist-packages (from pandas-profiling==2.3.0) (0.4.2)\n",
            "Requirement already satisfied: jinja2>=2.8 in /usr/local/lib/python3.6/dist-packages (from pandas-profiling==2.3.0) (2.10.1)\n",
            "Requirement already satisfied: matplotlib>=1.4 in /usr/local/lib/python3.6/dist-packages (from pandas-profiling==2.3.0) (3.0.3)\n",
            "Requirement already satisfied: htmlmin>=0.1.12 in /usr/local/lib/python3.6/dist-packages (from pandas-profiling==2.3.0) (0.1.12)\n",
            "Requirement already satisfied: nbconvert>=5.3.1 in /usr/local/lib/python3.6/dist-packages (from phik>=0.9.8->pandas-profiling==2.3.0) (5.6.0)\n",
            "Requirement already satisfied: scipy>=1.1.0 in /usr/local/lib/python3.6/dist-packages (from phik>=0.9.8->pandas-profiling==2.3.0) (1.3.1)\n",
            "Requirement already satisfied: jupyter-client>=5.2.3 in /usr/local/lib/python3.6/dist-packages (from phik>=0.9.8->pandas-profiling==2.3.0) (5.3.1)\n",
            "Requirement already satisfied: pytest-pylint>=0.13.0 in /usr/local/lib/python3.6/dist-packages (from phik>=0.9.8->pandas-profiling==2.3.0) (0.14.1)\n",
            "Requirement already satisfied: pytest>=4.0.2 in /usr/local/lib/python3.6/dist-packages (from phik>=0.9.8->pandas-profiling==2.3.0) (5.1.3)\n",
            "Requirement already satisfied: numba>=0.38.1 in /usr/local/lib/python3.6/dist-packages (from phik>=0.9.8->pandas-profiling==2.3.0) (0.40.1)\n",
            "Requirement already satisfied: numpy>=1.15.4 in /usr/local/lib/python3.6/dist-packages (from phik>=0.9.8->pandas-profiling==2.3.0) (1.16.5)\n",
            "Requirement already satisfied: pyyaml in /usr/local/lib/python3.6/dist-packages (from confuse>=1.0.0->pandas-profiling==2.3.0) (3.13)\n",
            "Requirement already satisfied: python-dateutil>=2.5.0 in /usr/local/lib/python3.6/dist-packages (from pandas>=0.19->pandas-profiling==2.3.0) (2.5.3)\n",
            "Requirement already satisfied: pytz>=2011k in /usr/local/lib/python3.6/dist-packages (from pandas>=0.19->pandas-profiling==2.3.0) (2018.9)\n",
            "Requirement already satisfied: seaborn in /usr/local/lib/python3.6/dist-packages (from missingno>=0.4.2->pandas-profiling==2.3.0) (0.9.0)\n",
            "Requirement already satisfied: MarkupSafe>=0.23 in /usr/local/lib/python3.6/dist-packages (from jinja2>=2.8->pandas-profiling==2.3.0) (1.1.1)\n",
            "Requirement already satisfied: pyparsing!=2.0.4,!=2.1.2,!=2.1.6,>=2.0.1 in /usr/local/lib/python3.6/dist-packages (from matplotlib>=1.4->pandas-profiling==2.3.0) (2.4.2)\n",
            "Requirement already satisfied: kiwisolver>=1.0.1 in /usr/local/lib/python3.6/dist-packages (from matplotlib>=1.4->pandas-profiling==2.3.0) (1.1.0)\n",
            "Requirement already satisfied: cycler>=0.10 in /usr/local/lib/python3.6/dist-packages (from matplotlib>=1.4->pandas-profiling==2.3.0) (0.10.0)\n",
            "Requirement already satisfied: pygments in /usr/local/lib/python3.6/dist-packages (from nbconvert>=5.3.1->phik>=0.9.8->pandas-profiling==2.3.0) (2.1.3)\n",
            "Requirement already satisfied: nbformat>=4.4 in /usr/local/lib/python3.6/dist-packages (from nbconvert>=5.3.1->phik>=0.9.8->pandas-profiling==2.3.0) (4.4.0)\n",
            "Requirement already satisfied: testpath in /usr/local/lib/python3.6/dist-packages (from nbconvert>=5.3.1->phik>=0.9.8->pandas-profiling==2.3.0) (0.4.2)\n",
            "Requirement already satisfied: traitlets>=4.2 in /usr/local/lib/python3.6/dist-packages (from nbconvert>=5.3.1->phik>=0.9.8->pandas-profiling==2.3.0) (4.3.2)\n",
            "Requirement already satisfied: mistune<2,>=0.8.1 in /usr/local/lib/python3.6/dist-packages (from nbconvert>=5.3.1->phik>=0.9.8->pandas-profiling==2.3.0) (0.8.4)\n",
            "Requirement already satisfied: entrypoints>=0.2.2 in /usr/local/lib/python3.6/dist-packages (from nbconvert>=5.3.1->phik>=0.9.8->pandas-profiling==2.3.0) (0.3)\n",
            "Requirement already satisfied: bleach in /usr/local/lib/python3.6/dist-packages (from nbconvert>=5.3.1->phik>=0.9.8->pandas-profiling==2.3.0) (3.1.0)\n",
            "Requirement already satisfied: jupyter-core in /usr/local/lib/python3.6/dist-packages (from nbconvert>=5.3.1->phik>=0.9.8->pandas-profiling==2.3.0) (4.5.0)\n",
            "Requirement already satisfied: pandocfilters>=1.4.1 in /usr/local/lib/python3.6/dist-packages (from nbconvert>=5.3.1->phik>=0.9.8->pandas-profiling==2.3.0) (1.4.2)\n",
            "Requirement already satisfied: defusedxml in /usr/local/lib/python3.6/dist-packages (from nbconvert>=5.3.1->phik>=0.9.8->pandas-profiling==2.3.0) (0.6.0)\n",
            "Requirement already satisfied: pyzmq>=13 in /usr/local/lib/python3.6/dist-packages (from jupyter-client>=5.2.3->phik>=0.9.8->pandas-profiling==2.3.0) (17.0.0)\n",
            "Requirement already satisfied: tornado>=4.1 in /usr/local/lib/python3.6/dist-packages (from jupyter-client>=5.2.3->phik>=0.9.8->pandas-profiling==2.3.0) (4.5.3)\n",
            "Requirement already satisfied: six in /usr/local/lib/python3.6/dist-packages (from pytest-pylint>=0.13.0->phik>=0.9.8->pandas-profiling==2.3.0) (1.12.0)\n",
            "Requirement already satisfied: pylint>=1.4.5 in /usr/local/lib/python3.6/dist-packages (from pytest-pylint>=0.13.0->phik>=0.9.8->pandas-profiling==2.3.0) (2.4.1)\n",
            "Requirement already satisfied: more-itertools>=4.0.0 in /usr/local/lib/python3.6/dist-packages (from pytest>=4.0.2->phik>=0.9.8->pandas-profiling==2.3.0) (7.2.0)\n",
            "Requirement already satisfied: attrs>=17.4.0 in /usr/local/lib/python3.6/dist-packages (from pytest>=4.0.2->phik>=0.9.8->pandas-profiling==2.3.0) (19.1.0)\n",
            "Requirement already satisfied: wcwidth in /usr/local/lib/python3.6/dist-packages (from pytest>=4.0.2->phik>=0.9.8->pandas-profiling==2.3.0) (0.1.7)\n",
            "Requirement already satisfied: importlib-metadata>=0.12; python_version < \"3.8\" in /usr/local/lib/python3.6/dist-packages (from pytest>=4.0.2->phik>=0.9.8->pandas-profiling==2.3.0) (0.23)\n",
            "Requirement already satisfied: packaging in /usr/local/lib/python3.6/dist-packages (from pytest>=4.0.2->phik>=0.9.8->pandas-profiling==2.3.0) (19.1)\n",
            "Requirement already satisfied: py>=1.5.0 in /usr/local/lib/python3.6/dist-packages (from pytest>=4.0.2->phik>=0.9.8->pandas-profiling==2.3.0) (1.8.0)\n",
            "Requirement already satisfied: pluggy<1.0,>=0.12 in /usr/local/lib/python3.6/dist-packages (from pytest>=4.0.2->phik>=0.9.8->pandas-profiling==2.3.0) (0.13.0)\n",
            "Requirement already satisfied: atomicwrites>=1.0 in /usr/local/lib/python3.6/dist-packages (from pytest>=4.0.2->phik>=0.9.8->pandas-profiling==2.3.0) (1.3.0)\n",
            "Requirement already satisfied: llvmlite>=0.25.0dev0 in /usr/local/lib/python3.6/dist-packages (from numba>=0.38.1->phik>=0.9.8->pandas-profiling==2.3.0) (0.29.0)\n",
            "Requirement already satisfied: setuptools in /usr/local/lib/python3.6/dist-packages (from kiwisolver>=1.0.1->matplotlib>=1.4->pandas-profiling==2.3.0) (41.2.0)\n",
            "Requirement already satisfied: ipython-genutils in /usr/local/lib/python3.6/dist-packages (from nbformat>=4.4->nbconvert>=5.3.1->phik>=0.9.8->pandas-profiling==2.3.0) (0.2.0)\n",
            "Requirement already satisfied: jsonschema!=2.5.0,>=2.4 in /usr/local/lib/python3.6/dist-packages (from nbformat>=4.4->nbconvert>=5.3.1->phik>=0.9.8->pandas-profiling==2.3.0) (2.6.0)\n",
            "Requirement already satisfied: decorator in /usr/local/lib/python3.6/dist-packages (from traitlets>=4.2->nbconvert>=5.3.1->phik>=0.9.8->pandas-profiling==2.3.0) (4.4.0)\n",
            "Requirement already satisfied: webencodings in /usr/local/lib/python3.6/dist-packages (from bleach->nbconvert>=5.3.1->phik>=0.9.8->pandas-profiling==2.3.0) (0.5.1)\n",
            "Requirement already satisfied: isort<5,>=4.2.5 in /usr/local/lib/python3.6/dist-packages (from pylint>=1.4.5->pytest-pylint>=0.13.0->phik>=0.9.8->pandas-profiling==2.3.0) (4.3.21)\n",
            "Requirement already satisfied: mccabe<0.7,>=0.6 in /usr/local/lib/python3.6/dist-packages (from pylint>=1.4.5->pytest-pylint>=0.13.0->phik>=0.9.8->pandas-profiling==2.3.0) (0.6.1)\n",
            "Requirement already satisfied: astroid<3,>=2.3.0 in /usr/local/lib/python3.6/dist-packages (from pylint>=1.4.5->pytest-pylint>=0.13.0->phik>=0.9.8->pandas-profiling==2.3.0) (2.3.0)\n",
            "Requirement already satisfied: zipp>=0.5 in /usr/local/lib/python3.6/dist-packages (from importlib-metadata>=0.12; python_version < \"3.8\"->pytest>=4.0.2->phik>=0.9.8->pandas-profiling==2.3.0) (0.6.0)\n",
            "Requirement already satisfied: lazy-object-proxy in /usr/local/lib/python3.6/dist-packages (from astroid<3,>=2.3.0->pylint>=1.4.5->pytest-pylint>=0.13.0->phik>=0.9.8->pandas-profiling==2.3.0) (1.4.2)\n",
            "Requirement already satisfied: wrapt in /usr/local/lib/python3.6/dist-packages (from astroid<3,>=2.3.0->pylint>=1.4.5->pytest-pylint>=0.13.0->phik>=0.9.8->pandas-profiling==2.3.0) (1.11.2)\n",
            "Requirement already satisfied: typed-ast<1.3.0; implementation_name == \"cpython\" and python_version < \"3.7\" in /usr/local/lib/python3.6/dist-packages (from astroid<3,>=2.3.0->pylint>=1.4.5->pytest-pylint>=0.13.0->phik>=0.9.8->pandas-profiling==2.3.0) (1.2.0)\n",
            "Requirement already satisfied: plotly==4.1.1 in /usr/local/lib/python3.6/dist-packages (4.1.1)\n",
            "Requirement already satisfied: retrying>=1.3.3 in /usr/local/lib/python3.6/dist-packages (from plotly==4.1.1) (1.3.3)\n",
            "Requirement already satisfied: six in /usr/local/lib/python3.6/dist-packages (from plotly==4.1.1) (1.12.0)\n"
          ],
          "name": "stdout"
        }
      ]
    },
    {
      "cell_type": "code",
      "metadata": {
        "colab_type": "code",
        "id": "-Nm24pCHy_Bo",
        "colab": {}
      },
      "source": [
        "import pandas as pd\n",
        "# Read data\n",
        "url = 'https://drive.google.com/uc?export=download&id=1fL7KPyxgGYfQDsuJoBWHIWwCAf-HTFpX'\n",
        "df = pd.read_csv(url)\n",
        "\n",
        "# Check data shape\n",
        "assert df.shape == (13958, 20)"
      ],
      "execution_count": 0,
      "outputs": []
    },
    {
      "cell_type": "markdown",
      "metadata": {
        "colab_type": "text",
        "id": "B8BvDKLFy_Bq"
      },
      "source": [
        "To demonstrate mastery on your Sprint Challenge, do all the required, numbered instructions in this notebook.\n",
        "\n",
        "To earn a score of \"3\", also do all the stretch goals.\n",
        "\n",
        "You are permitted and encouraged to do as much data exploration as you want.\n",
        "\n",
        "**1. Begin with baselines for classification.** Your target to predict is `shot_made_flag`. What is your baseline accuracy, if you guessed the majority class for every prediction?\n",
        "\n",
        "**2. Hold out your test set.** Use the 2018-19 season to test. NBA seasons begin in October and end in June. You'll know you've split the data correctly when your test set has 1,709 observations.\n",
        "\n",
        "**3. Engineer new feature.** Engineer at least **1** new feature, from this list, or your own idea.\n",
        "- **Homecourt Advantage**: Is the home team (`htm`) the Golden State Warriors (`GSW`) ?\n",
        "- **Opponent**: Who is the other team playing the Golden State Warriors?\n",
        "- **Seconds remaining in the period**: Combine minutes remaining with seconds remaining, to get the total number of seconds remaining in the period.\n",
        "- **Seconds remaining in the game**: Combine period, and seconds remaining in the period, to get the total number of seconds remaining in the game. A basketball game has 4 periods, each 12 minutes long.\n",
        "- **Made previous shot**: Was Steph Curry's previous shot successful?\n",
        "\n",
        "**4. Decide how to validate** your model. Choose one of the following options. Any of these options are good. You are not graded on which you choose.\n",
        "- **Train/validate/test split: train on the 2009-10 season through 2016-17 season, validate with the 2017-18 season.** You'll know you've split the data correctly when your train set has 11,081 observations, and your validation set has 1,168 observations.\n",
        "- **Train/validate/test split: random 80/20%** train/validate split.\n",
        "- **Cross-validation** with independent test set. You may use any scikit-learn cross-validation method.\n",
        "\n",
        "**5.** Use a scikit-learn **pipeline** to **encode categoricals** and fit a **Decision Tree** or **Random Forest** model.\n",
        "\n",
        "**6.** Get your model's **validation accuracy.** (Multiple times if you try multiple iterations.) \n",
        "\n",
        "**7.** Get your model's **test accuracy.** (One time, at the end.)\n",
        "\n",
        "\n",
        "**8.** Given a **confusion matrix** for a hypothetical binary classification model, **calculate accuracy, precision, and recall.**\n",
        "\n",
        "### Stretch Goals\n",
        "- Engineer 4+ new features total, either from the list above, or your own ideas.\n",
        "- Make 2+ visualizations to explore relationships between features and target.\n",
        "- Optimize 3+ hyperparameters by trying 10+ \"candidates\" (possible combinations of hyperparameters). You can use `RandomizedSearchCV` or do it manually.\n",
        "- Get and plot your model's feature importances.\n",
        "\n"
      ]
    },
    {
      "cell_type": "code",
      "metadata": {
        "id": "K-zuJeG7nOpZ",
        "colab_type": "code",
        "colab": {
          "base_uri": "https://localhost:8080/",
          "height": 299
        },
        "outputId": "e126dfe3-61d6-4e17-c178-cf634d8db692"
      },
      "source": [
        "df.head()"
      ],
      "execution_count": 56,
      "outputs": [
        {
          "output_type": "execute_result",
          "data": {
            "text/html": [
              "<div>\n",
              "<style scoped>\n",
              "    .dataframe tbody tr th:only-of-type {\n",
              "        vertical-align: middle;\n",
              "    }\n",
              "\n",
              "    .dataframe tbody tr th {\n",
              "        vertical-align: top;\n",
              "    }\n",
              "\n",
              "    .dataframe thead th {\n",
              "        text-align: right;\n",
              "    }\n",
              "</style>\n",
              "<table border=\"1\" class=\"dataframe\">\n",
              "  <thead>\n",
              "    <tr style=\"text-align: right;\">\n",
              "      <th></th>\n",
              "      <th>game_id</th>\n",
              "      <th>game_event_id</th>\n",
              "      <th>player_name</th>\n",
              "      <th>period</th>\n",
              "      <th>minutes_remaining</th>\n",
              "      <th>seconds_remaining</th>\n",
              "      <th>action_type</th>\n",
              "      <th>shot_type</th>\n",
              "      <th>shot_zone_basic</th>\n",
              "      <th>shot_zone_area</th>\n",
              "      <th>shot_zone_range</th>\n",
              "      <th>shot_distance</th>\n",
              "      <th>loc_x</th>\n",
              "      <th>loc_y</th>\n",
              "      <th>shot_made_flag</th>\n",
              "      <th>game_date</th>\n",
              "      <th>htm</th>\n",
              "      <th>vtm</th>\n",
              "      <th>season_type</th>\n",
              "      <th>scoremargin_before_shot</th>\n",
              "    </tr>\n",
              "  </thead>\n",
              "  <tbody>\n",
              "    <tr>\n",
              "      <th>0</th>\n",
              "      <td>20900015</td>\n",
              "      <td>4</td>\n",
              "      <td>Stephen Curry</td>\n",
              "      <td>1</td>\n",
              "      <td>11</td>\n",
              "      <td>25</td>\n",
              "      <td>Jump Shot</td>\n",
              "      <td>3PT Field Goal</td>\n",
              "      <td>Above the Break 3</td>\n",
              "      <td>Right Side Center(RC)</td>\n",
              "      <td>24+ ft.</td>\n",
              "      <td>26</td>\n",
              "      <td>99</td>\n",
              "      <td>249</td>\n",
              "      <td>0</td>\n",
              "      <td>2009-10-28</td>\n",
              "      <td>GSW</td>\n",
              "      <td>HOU</td>\n",
              "      <td>Regular Season</td>\n",
              "      <td>2.0</td>\n",
              "    </tr>\n",
              "    <tr>\n",
              "      <th>1</th>\n",
              "      <td>20900015</td>\n",
              "      <td>17</td>\n",
              "      <td>Stephen Curry</td>\n",
              "      <td>1</td>\n",
              "      <td>9</td>\n",
              "      <td>31</td>\n",
              "      <td>Step Back Jump shot</td>\n",
              "      <td>2PT Field Goal</td>\n",
              "      <td>Mid-Range</td>\n",
              "      <td>Left Side Center(LC)</td>\n",
              "      <td>16-24 ft.</td>\n",
              "      <td>18</td>\n",
              "      <td>-122</td>\n",
              "      <td>145</td>\n",
              "      <td>1</td>\n",
              "      <td>2009-10-28</td>\n",
              "      <td>GSW</td>\n",
              "      <td>HOU</td>\n",
              "      <td>Regular Season</td>\n",
              "      <td>0.0</td>\n",
              "    </tr>\n",
              "    <tr>\n",
              "      <th>2</th>\n",
              "      <td>20900015</td>\n",
              "      <td>53</td>\n",
              "      <td>Stephen Curry</td>\n",
              "      <td>1</td>\n",
              "      <td>6</td>\n",
              "      <td>2</td>\n",
              "      <td>Jump Shot</td>\n",
              "      <td>2PT Field Goal</td>\n",
              "      <td>In The Paint (Non-RA)</td>\n",
              "      <td>Center(C)</td>\n",
              "      <td>8-16 ft.</td>\n",
              "      <td>14</td>\n",
              "      <td>-60</td>\n",
              "      <td>129</td>\n",
              "      <td>0</td>\n",
              "      <td>2009-10-28</td>\n",
              "      <td>GSW</td>\n",
              "      <td>HOU</td>\n",
              "      <td>Regular Season</td>\n",
              "      <td>-4.0</td>\n",
              "    </tr>\n",
              "    <tr>\n",
              "      <th>3</th>\n",
              "      <td>20900015</td>\n",
              "      <td>141</td>\n",
              "      <td>Stephen Curry</td>\n",
              "      <td>2</td>\n",
              "      <td>9</td>\n",
              "      <td>49</td>\n",
              "      <td>Jump Shot</td>\n",
              "      <td>2PT Field Goal</td>\n",
              "      <td>Mid-Range</td>\n",
              "      <td>Left Side(L)</td>\n",
              "      <td>16-24 ft.</td>\n",
              "      <td>19</td>\n",
              "      <td>-172</td>\n",
              "      <td>82</td>\n",
              "      <td>0</td>\n",
              "      <td>2009-10-28</td>\n",
              "      <td>GSW</td>\n",
              "      <td>HOU</td>\n",
              "      <td>Regular Season</td>\n",
              "      <td>-4.0</td>\n",
              "    </tr>\n",
              "    <tr>\n",
              "      <th>4</th>\n",
              "      <td>20900015</td>\n",
              "      <td>249</td>\n",
              "      <td>Stephen Curry</td>\n",
              "      <td>2</td>\n",
              "      <td>2</td>\n",
              "      <td>19</td>\n",
              "      <td>Jump Shot</td>\n",
              "      <td>2PT Field Goal</td>\n",
              "      <td>Mid-Range</td>\n",
              "      <td>Left Side Center(LC)</td>\n",
              "      <td>16-24 ft.</td>\n",
              "      <td>16</td>\n",
              "      <td>-68</td>\n",
              "      <td>148</td>\n",
              "      <td>0</td>\n",
              "      <td>2009-10-28</td>\n",
              "      <td>GSW</td>\n",
              "      <td>HOU</td>\n",
              "      <td>Regular Season</td>\n",
              "      <td>0.0</td>\n",
              "    </tr>\n",
              "  </tbody>\n",
              "</table>\n",
              "</div>"
            ],
            "text/plain": [
              "    game_id  game_event_id  ...     season_type  scoremargin_before_shot\n",
              "0  20900015              4  ...  Regular Season                      2.0\n",
              "1  20900015             17  ...  Regular Season                      0.0\n",
              "2  20900015             53  ...  Regular Season                     -4.0\n",
              "3  20900015            141  ...  Regular Season                     -4.0\n",
              "4  20900015            249  ...  Regular Season                      0.0\n",
              "\n",
              "[5 rows x 20 columns]"
            ]
          },
          "metadata": {
            "tags": []
          },
          "execution_count": 56
        }
      ]
    },
    {
      "cell_type": "markdown",
      "metadata": {
        "colab_type": "text",
        "id": "t6Jt3qjQ-zig"
      },
      "source": [
        "## 1. Begin with baselines for classification. \n",
        "\n",
        ">Your target to predict is `shot_made_flag`. What would your baseline accuracy be, if you guessed the majority class for every prediction?"
      ]
    },
    {
      "cell_type": "code",
      "metadata": {
        "colab_type": "code",
        "id": "I0BDeNFG_Kee",
        "colab": {
          "base_uri": "https://localhost:8080/",
          "height": 34
        },
        "outputId": "ec57fc7a-ad05-46e6-9439-a94039d77cb1"
      },
      "source": [
        "from sklearn.metrics import accuracy_score\n",
        "df['shot_made_flag'].value_counts(normalize=True)\n",
        "\n",
        "y_pred = [0] * df.shape[0]                #predict no shots are made\n",
        "\n",
        "print('Accuracy of baseline:', accuracy_score(df['shot_made_flag'], y_pred))    #every shot is bad shot is right 52 percent of the time"
      ],
      "execution_count": 57,
      "outputs": [
        {
          "output_type": "stream",
          "text": [
            "Accuracy of baseline: 0.5270812437311936\n"
          ],
          "name": "stdout"
        }
      ]
    },
    {
      "cell_type": "markdown",
      "metadata": {
        "colab_type": "text",
        "id": "Dz2QHBiVy_Br"
      },
      "source": [
        "## 2. Hold out your test set.\n",
        "\n",
        ">Use the 2018-19 season to test. NBA seasons begin in October and end in June. You'll know you've split the data correctly when your test set has 1,709 observations."
      ]
    },
    {
      "cell_type": "code",
      "metadata": {
        "colab_type": "code",
        "id": "UuizhlDHrub_",
        "colab": {}
      },
      "source": [
        "# df['game_date'] = pd.to_datetime(df['game_date'], infer_datetime_format = True)"
      ],
      "execution_count": 0,
      "outputs": []
    },
    {
      "cell_type": "markdown",
      "metadata": {
        "colab_type": "text",
        "id": "P9Nihzk6y_CF"
      },
      "source": [
        "## 3. Engineer new feature.\n",
        "\n",
        ">Engineer at least **1** new feature, from this list, or your own idea.\n",
        ">\n",
        ">- **Homecourt Advantage**: Is the home team (`htm`) the Golden State Warriors (`GSW`) ?\n",
        ">- **Opponent**: Who is the other team playing the Golden State Warriors?\n",
        ">- **Seconds remaining in the period**: Combine minutes remaining with seconds remaining, to get the total number of seconds remaining in the period.\n",
        ">- **Seconds remaining in the game**: Combine period, and seconds remaining in the period, to get the total number of seconds remaining in the game. A basketball game has 4 periods, each 12 minutes long.\n",
        ">- **Made previous shot**: Was Steph Curry's previous shot successful?\n",
        "\n",
        "    "
      ]
    },
    {
      "cell_type": "code",
      "metadata": {
        "colab_type": "code",
        "id": "A0pxdFtWy_Bz",
        "colab": {
          "base_uri": "https://localhost:8080/",
          "height": 67
        },
        "outputId": "dd728ded-a3fa-4ecb-e612-acdf6c5bc370"
      },
      "source": [
        "df['homecourt_advantage'] = df['htm'] == 'GSW'\n",
        "\n",
        "df['homecourt_advantage'].value_counts()"
      ],
      "execution_count": 59,
      "outputs": [
        {
          "output_type": "execute_result",
          "data": {
            "text/plain": [
              "False    7087\n",
              "True     6871\n",
              "Name: homecourt_advantage, dtype: int64"
            ]
          },
          "metadata": {
            "tags": []
          },
          "execution_count": 59
        }
      ]
    },
    {
      "cell_type": "code",
      "metadata": {
        "id": "oIeHqvbOp1RK",
        "colab_type": "code",
        "colab": {
          "base_uri": "https://localhost:8080/",
          "height": 34
        },
        "outputId": "68ec60e6-2ea7-402d-91b8-2077e6f120eb"
      },
      "source": [
        "#Test mask\n",
        "#train mask is everything else\n",
        "\n",
        "mask = (df['game_date'] >= '2018-10-16') & (df['game_date'] <= '2019-06-13')\n",
        "\n",
        "train = df[~mask]\n",
        "test = df[mask]\n",
        "\n",
        "train.shape, test.shape"
      ],
      "execution_count": 60,
      "outputs": [
        {
          "output_type": "execute_result",
          "data": {
            "text/plain": [
              "((12249, 21), (1709, 21))"
            ]
          },
          "metadata": {
            "tags": []
          },
          "execution_count": 60
        }
      ]
    },
    {
      "cell_type": "markdown",
      "metadata": {
        "colab_type": "text",
        "id": "eLs7pt7NFJLF"
      },
      "source": [
        "## **4. Decide how to validate** your model. \n",
        "\n",
        ">Choose one of the following options. Any of these options are good. You are not graded on which you choose.\n",
        ">\n",
        ">- **Train/validate/test split: train on the 2009-10 season through 2016-17 season, validate with the 2017-18 season.** You'll know you've split the data correctly when your train set has 11,081 observations, and your validation set has 1,168 observations.\n",
        ">- **Train/validate/test split: random 80/20%** train/validate split.\n",
        ">- **Cross-validation** with independent test set. You may use any scikit-learn cross-validation method."
      ]
    },
    {
      "cell_type": "code",
      "metadata": {
        "colab_type": "code",
        "id": "LJ58CceDISXR",
        "colab": {
          "base_uri": "https://localhost:8080/",
          "height": 34
        },
        "outputId": "74ed3699-e4fe-40f1-ff40-64545cb59204"
      },
      "source": [
        "from sklearn.model_selection import train_test_split\n",
        "\n",
        "train, val = train_test_split(train, \n",
        "                              train_size=0.8, test_size = 0.2,\n",
        "                              shuffle = True,\n",
        "                              stratify = train['shot_made_flag'],\n",
        "                              random_state = 42)\n",
        "train.shape, val.shape"
      ],
      "execution_count": 61,
      "outputs": [
        {
          "output_type": "execute_result",
          "data": {
            "text/plain": [
              "((9799, 21), (2450, 21))"
            ]
          },
          "metadata": {
            "tags": []
          },
          "execution_count": 61
        }
      ]
    },
    {
      "cell_type": "markdown",
      "metadata": {
        "colab_type": "text",
        "id": "oQ2lWlu7JPRt"
      },
      "source": [
        "## 5. Use a scikit-learn pipeline to encode categoricals and fit a Decision Tree or Random Forest model."
      ]
    },
    {
      "cell_type": "code",
      "metadata": {
        "id": "WJ00WYkduCuk",
        "colab_type": "code",
        "colab": {}
      },
      "source": [
        "from sklearn.pipeline import make_pipeline\n",
        "from category_encoders import OneHotEncoder\n",
        "from category_encoders.ordinal import OrdinalEncoder\n",
        "from sklearn.feature_selection import SelectKBest\n",
        "from sklearn.feature_selection import f_classif\n",
        "from sklearn.feature_selection import f_regression\n",
        "from sklearn.preprocessing import StandardScaler\n",
        "from sklearn.preprocessing import RobustScaler\n",
        "from sklearn.linear_model import LogisticRegression\n",
        "from sklearn.impute import SimpleImputer\n",
        "from sklearn.ensemble import RandomForestClassifier\n",
        "\n",
        "features = df.columns[~(df.columns == 'shot_made_flag')]      #every column but shot_made_flag is a feature\n",
        "target = 'shot_made_flag'                                     #shot made flag is the target\n",
        "\n",
        "#splitting X and y sets\n",
        "X_train = train[features]\n",
        "y_train = train[target]\n",
        "\n",
        "X_val = val[features]\n",
        "y_val = val[target]\n",
        "\n",
        "X_test = test[features]\n",
        "y_test = test[target]\n",
        "\n",
        "pipeline = make_pipeline(\n",
        "    OrdinalEncoder(),\n",
        "    StandardScaler(),\n",
        "    RandomForestClassifier()\n",
        ")\n",
        "\n",
        "pipeline.fit(X_train, y_train)\n"
      ],
      "execution_count": 0,
      "outputs": []
    },
    {
      "cell_type": "markdown",
      "metadata": {
        "colab_type": "text",
        "id": "8kJXxFpty_CH"
      },
      "source": [
        "## 6.Get your model's validation accuracy\n",
        "\n",
        "> (Multiple times if you try multiple iterations.)"
      ]
    },
    {
      "cell_type": "code",
      "metadata": {
        "colab_type": "code",
        "id": "7560JKvxy_CJ",
        "colab": {
          "base_uri": "https://localhost:8080/",
          "height": 34
        },
        "outputId": "fcb5b978-bcd4-443f-b940-90c09e540622"
      },
      "source": [
        "print('Validation Score (Initial):', pipeline.score(X_val, y_val))"
      ],
      "execution_count": 64,
      "outputs": [
        {
          "output_type": "stream",
          "text": [
            "Validation Score (Initial): 0.6057142857142858\n"
          ],
          "name": "stdout"
        }
      ]
    },
    {
      "cell_type": "code",
      "metadata": {
        "id": "CADI4c9Vw5-E",
        "colab_type": "code",
        "colab": {}
      },
      "source": [
        "from sklearn.model_selection import RandomizedSearchCV\n",
        "#pipeline\n",
        "pipeline = make_pipeline(\n",
        "    OrdinalEncoder(),\n",
        "    StandardScaler(),\n",
        "    RandomForestClassifier(n_estimators = 200, n_jobs=-1, random_state=42)\n",
        ")\n",
        "\n",
        "#hyperparameters\n",
        "param_distributions = {\n",
        "    'randomforestclassifier__max_depth': range(1, 100, 2),\n",
        "    'randomforestclassifier__min_samples_split': range(1, 500, 3),\n",
        "    'randomforestclassifier__min_samples_leaf': range(1, 500, 3),\n",
        "}\n",
        "\n",
        "search = RandomizedSearchCV(\n",
        "    pipeline,\n",
        "    param_distributions = param_distributions,\n",
        "    n_iter = 10,\n",
        "    cv  = 10,\n",
        "    scoring = 'accuracy',\n",
        "    verbose = 10,\n",
        "    return_train_score = True,\n",
        "    n_jobs =-1\n",
        ")\n",
        "\n",
        "search.fit(X_train, y_train)\n",
        "\n",
        "print('Best hyperparameters:', search.best_params_)\n",
        "print('New benchmark score:', search.best_score_)"
      ],
      "execution_count": 0,
      "outputs": []
    },
    {
      "cell_type": "markdown",
      "metadata": {
        "colab_type": "text",
        "id": "YvyYY9tfy_CL"
      },
      "source": [
        "## 7. Get your model's test accuracy\n",
        "\n",
        "> (One time, at the end.)"
      ]
    },
    {
      "cell_type": "code",
      "metadata": {
        "colab_type": "code",
        "id": "wjV2dfl6y_CL",
        "colab": {
          "base_uri": "https://localhost:8080/",
          "height": 34
        },
        "outputId": "6dbd0b36-6997-4332-b8f7-4cb4ae823f47"
      },
      "source": [
        "pipeline = make_pipeline(\n",
        "    OrdinalEncoder(),\n",
        "    StandardScaler(),\n",
        "    RandomForestClassifier(n_estimators = 200, n_jobs=-1, random_state=42,\n",
        "                          min_samples_split = 181, min_samples_leaf = 25, max_depth = 17)\n",
        ")\n",
        "\n",
        "pipeline.fit(X_train, y_train)\n",
        "\n",
        "print('Test score', pipeline.score(X_test, y_test))"
      ],
      "execution_count": 67,
      "outputs": [
        {
          "output_type": "stream",
          "text": [
            "Test score 0.6220011702750147\n"
          ],
          "name": "stdout"
        }
      ]
    },
    {
      "cell_type": "markdown",
      "metadata": {
        "id": "xGL5stLvJCn1",
        "colab_type": "text"
      },
      "source": [
        "## 8. Given a confusion matrix, calculate accuracy, precision, and recall.\n",
        "\n",
        "Imagine this is the confusion matrix for a binary classification model. Use the confusion matrix to calculate the model's accuracy, precision, and recall.\n",
        "\n",
        "<table>\n",
        "  <tr>\n",
        "    <td colspan=\"2\" rowspan=\"2\"></td>\n",
        "    <td colspan=\"2\">Predicted</td>\n",
        "  </tr>\n",
        "  <tr>\n",
        "    <td>Negative</td>\n",
        "    <td>Positive</td>\n",
        "  </tr>\n",
        "  <tr>\n",
        "    <td rowspan=\"2\">Actual</td>\n",
        "    <td>Negative</td>\n",
        "    <td style=\"border: solid\">85</td>\n",
        "    <td style=\"border: solid\">58</td>\n",
        "  </tr>\n",
        "  <tr>\n",
        "    <td>Positive</td>\n",
        "    <td style=\"border: solid\">8</td>\n",
        "    <td style=\"border: solid\"> 36</td>\n",
        "  </tr>\n",
        "</table>"
      ]
    },
    {
      "cell_type": "code",
      "metadata": {
        "id": "2lZGaBpP19op",
        "colab_type": "code",
        "colab": {
          "base_uri": "https://localhost:8080/",
          "height": 286
        },
        "outputId": "995d076d-459f-439d-e49d-eaf0841b48a4"
      },
      "source": [
        "from sklearn.metrics import confusion_matrix\n",
        "from sklearn.utils.multiclass import unique_labels\n",
        "import seaborn as sns\n",
        "y_pred = pipeline.predict(X_test)\n",
        "def plot_confusion_matrix(y_true, y_pred):\n",
        "  labels = unique_labels(y_pred)\n",
        "  columns = [f'Predicted {label}' for label in labels]\n",
        "  index = [f'Actual {label}' for label in labels]\n",
        "  \n",
        "  table = pd.DataFrame(confusion_matrix(y_true, y_pred), columns = columns, index = index)\n",
        "  sns.heatmap(table, annot=True, fmt = 'd')\n",
        "  return sns.heatmap(table, annot=True, fmt = 'd')\n",
        "\n",
        "plot_confusion_matrix(y_test, y_pred)"
      ],
      "execution_count": 74,
      "outputs": [
        {
          "output_type": "execute_result",
          "data": {
            "text/plain": [
              "<matplotlib.axes._subplots.AxesSubplot at 0x7f7722191278>"
            ]
          },
          "metadata": {
            "tags": []
          },
          "execution_count": 74
        },
        {
          "output_type": "display_data",
          "data": {
            "image/png": "[encoded data removed]",
            "text/plain": [
              "<Figure size 432x288 with 3 Axes>"
            ]
          },
          "metadata": {
            "tags": []
          }
        }
      ]
    },
    {
      "cell_type": "markdown",
      "metadata": {
        "id": "nEvt7NkUJNao",
        "colab_type": "text"
      },
      "source": [
        "### Calculate accuracy "
      ]
    },
    {
      "cell_type": "code",
      "metadata": {
        "id": "FFszS2A5JJmv",
        "colab_type": "code",
        "colab": {
          "base_uri": "https://localhost:8080/",
          "height": 34
        },
        "outputId": "2331868c-13ed-4817-add7-9c8f7ac651f3"
      },
      "source": [
        "accuracy = (634 + 429) / (634 + 278 + 368 + 429)\n",
        "accuracy"
      ],
      "execution_count": 79,
      "outputs": [
        {
          "output_type": "execute_result",
          "data": {
            "text/plain": [
              "0.6220011702750147"
            ]
          },
          "metadata": {
            "tags": []
          },
          "execution_count": 79
        }
      ]
    },
    {
      "cell_type": "markdown",
      "metadata": {
        "id": "XjHTmk8sJO4v",
        "colab_type": "text"
      },
      "source": [
        "### Calculate precision"
      ]
    },
    {
      "cell_type": "code",
      "metadata": {
        "id": "7qX1gbcMJQS_",
        "colab_type": "code",
        "colab": {
          "base_uri": "https://localhost:8080/",
          "height": 34
        },
        "outputId": "1b6cb651-37db-4625-cbc9-b8df5093f867"
      },
      "source": [
        "precision = 634 / (634 + 278)\n",
        "precision"
      ],
      "execution_count": 83,
      "outputs": [
        {
          "output_type": "execute_result",
          "data": {
            "text/plain": [
              "0.6951754385964912"
            ]
          },
          "metadata": {
            "tags": []
          },
          "execution_count": 83
        }
      ]
    },
    {
      "cell_type": "markdown",
      "metadata": {
        "id": "pFug3ZKaJQ7A",
        "colab_type": "text"
      },
      "source": [
        "### Calculate recall"
      ]
    },
    {
      "cell_type": "code",
      "metadata": {
        "id": "L0OKc3JxJR4r",
        "colab_type": "code",
        "colab": {
          "base_uri": "https://localhost:8080/",
          "height": 34
        },
        "outputId": "02448293-3333-44a1-85ab-2dac86baaf94"
      },
      "source": [
        "recall = 634 / (634 + 368)\n",
        "recall"
      ],
      "execution_count": 82,
      "outputs": [
        {
          "output_type": "execute_result",
          "data": {
            "text/plain": [
              "0.6327345309381237"
            ]
          },
          "metadata": {
            "tags": []
          },
          "execution_count": 82
        }
      ]
    }
  ]
}