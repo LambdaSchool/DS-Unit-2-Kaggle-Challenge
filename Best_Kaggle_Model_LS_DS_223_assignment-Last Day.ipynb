{
 "cells": [
  {
   "cell_type": "markdown",
   "metadata": {
    "colab_type": "text",
    "id": "57rZXWd5kV5I"
   },
   "source": [
    "Lambda School Data Science\n",
    "\n",
    "*Unit 2, Sprint 2, Module 4*\n",
    "\n",
    "# Improving my model (actually, not improving it).\n",
    "\n",
    "---"
   ]
  },
  {
   "cell_type": "code",
   "execution_count": 1,
   "metadata": {},
   "outputs": [],
   "source": [
    "import pandas as pd\n",
    "import numpy as np\n",
    "import matplotlib.pyplot as plt\n",
    "pd.options.display.max_columns = None"
   ]
  },
  {
   "cell_type": "code",
   "execution_count": 2,
   "metadata": {
    "colab": {
     "base_uri": "https://localhost:8080/",
     "height": 34
    },
    "colab_type": "code",
    "id": "QJBD4ruICm1m",
    "outputId": "ad4495d1-f4f0-4303-cf14-f5f64a5d52f6"
   },
   "outputs": [
    {
     "data": {
      "text/plain": [
       "((59400, 41), (14358, 40))"
      ]
     },
     "execution_count": 2,
     "metadata": {},
     "output_type": "execute_result"
    }
   ],
   "source": [
    "DATA_PATH = 'data/'\n",
    "train = pd.merge(pd.read_csv(DATA_PATH+'waterpumps/train_features.csv'), \n",
    "                 pd.read_csv(DATA_PATH+'waterpumps/train_labels.csv'))\n",
    "test = pd.read_csv(DATA_PATH+'waterpumps/test_features.csv')\n",
    "\n",
    "train.shape, test.shape"
   ]
  },
  {
   "cell_type": "code",
   "execution_count": 3,
   "metadata": {},
   "outputs": [],
   "source": [
    "#############adding in some more population data\n",
    "village_pop = pd.read_csv(DATA_PATH+'waterpumps/village-statistics.csv', encoding= 'unicode_escape', skiprows=1)\n",
    "#village_pop.head(10)"
   ]
  },
  {
   "cell_type": "code",
   "execution_count": 4,
   "metadata": {
    "colab": {},
    "colab_type": "code",
    "id": "mIGzrlUjS9ym"
   },
   "outputs": [],
   "source": [
    "def wrangle(X):\n",
    "  X = X.copy()\n",
    "  \n",
    "  X['latitude'] = X['latitude'].replace(-2e-08, 0)\n",
    "  \n",
    "  cols_with_zeros = ['longitude', 'latitude', 'construction_year', 'gps_height', 'population']\n",
    "  \n",
    "  for col in cols_with_zeros:\n",
    "    X[col] = X[col].replace(0, np.nan)\n",
    "    X[col + '_MISSING'] = X[col].isnull()\n",
    "    \n",
    "  duplicates = ['quantity_group', 'payment_type']\n",
    "  X = X.drop(columns=duplicates)\n",
    "\n",
    "  unusable_variance = ['recorded_by', 'id']\n",
    "  X = X.drop(columns=unusable_variance)\n",
    "\n",
    "  X['date_recorded'] = pd.to_datetime(X['date_recorded'], infer_datetime_format=True)\n",
    "\n",
    "  X['year_recorded'] = X['date_recorded'].dt.year\n",
    "  X['month_recorded'] = X['date_recorded'].dt.month\n",
    "  X['day_recorded'] = X['date_recorded'].dt.day\n",
    "  X = X.drop(columns='date_recorded')\n",
    "\n",
    "## How many years from construction to the date recorded\n",
    "  X['years'] = X['year_recorded'] - X['construction_year']\n",
    "  X['years_MISSING'] = X['years'].isnull()\n",
    "\n",
    "  least_important_features = ['gps_height_MISSING', 'construction_year_MISSING',\n",
    "                              'longitude_MISSING', 'latitude_MISSING', \n",
    "                              'years_MISSING', 'population_MISSING', 'num_private']\n",
    "  X = X.drop(columns=least_important_features)\n",
    "\n",
    "  #### Creating a time of the year feature\n",
    "  time_features_to_drop = ['day_recorded', 'month_recorded', 'year_recorded']\n",
    "  X['day_of_year_recorded'] = X['day_recorded']+(X['month_recorded']*30)-30\n",
    "  X = X.drop(columns=time_features_to_drop)\n",
    "\n",
    "  ### Getting rid of the 'group' columns (this may or may not have a good effect)\n",
    "#### ditch scheme management- same as management but with more missing values\n",
    "  #useless_groups = ['waterpoint_type_group', 'quality_group', 'extraction_type_group', \n",
    "                    #'management_group', 'source_class', 'extraction_type_class',\n",
    "                    #'scheme_management','source_type']\n",
    "  #X = X.drop(columns=useless_groups)\n",
    "\n",
    "###I'm going to keep the region_code and ditch the region, because the region_code has more variance\n",
    "  region = ['region']\n",
    "  X = X.drop(columns=region)\n",
    "\n",
    "##same with name: shouldn't make much difference what it's called. Name data should already be captured by lat/long\n",
    "  waypoint_name = ['wpt_name']\n",
    "  X = X.drop(columns=waypoint_name)\n",
    "\n",
    "##### What if I just ditched all the coarse location data and relied on the specific data?\n",
    "  #coarse_location = ['basin', 'region_code', 'district_code', 'lga',\t'ward']\n",
    "  #X = X.drop(columns=coarse_location)\n",
    "\n",
    "#### ditch scheme management- same as management but with more missing values\n",
    "  ditches = ['source_type', 'scheme_management', 'management_group', 'source_class', 'quality_group', 'district_code']\n",
    "  X = X.drop(columns=ditches)\n",
    "\n",
    "##These don't seem very important either\n",
    "  #legal = ['permit', 'public_meeting']\n",
    "  #X = X.drop(columns=legal)\n",
    "\n",
    "\n",
    "\n",
    "\n",
    "  return X\n",
    "\n",
    "train = wrangle(train)\n",
    "test = wrangle(test)"
   ]
  },
  {
   "cell_type": "code",
   "execution_count": 5,
   "metadata": {},
   "outputs": [
    {
     "data": {
      "text/plain": [
       "amount_tsh                  0\n",
       "funder                    783\n",
       "gps_height               4978\n",
       "installer                 788\n",
       "longitude                 436\n",
       "latitude                  436\n",
       "basin                       0\n",
       "subvillage                 94\n",
       "region_code                 0\n",
       "lga                         0\n",
       "ward                        0\n",
       "population               5205\n",
       "public_meeting            785\n",
       "scheme_name              6839\n",
       "permit                    663\n",
       "construction_year        5024\n",
       "extraction_type             0\n",
       "extraction_type_group       0\n",
       "extraction_type_class       0\n",
       "management                  0\n",
       "payment                     0\n",
       "water_quality               0\n",
       "quantity                    0\n",
       "source                      0\n",
       "waterpoint_type             0\n",
       "waterpoint_type_group       0\n",
       "years                    5024\n",
       "day_of_year_recorded        0\n",
       "dtype: int64"
      ]
     },
     "execution_count": 5,
     "metadata": {},
     "output_type": "execute_result"
    }
   ],
   "source": [
    "test.isnull().sum()"
   ]
  },
  {
   "cell_type": "code",
   "execution_count": 6,
   "metadata": {},
   "outputs": [
    {
     "data": {
      "text/plain": [
       "27"
      ]
     },
     "execution_count": 6,
     "metadata": {},
     "output_type": "execute_result"
    }
   ],
   "source": [
    "len(train['region_code'].unique())"
   ]
  },
  {
   "cell_type": "code",
   "execution_count": 7,
   "metadata": {},
   "outputs": [],
   "source": [
    "#len(train['district_code'].unique())"
   ]
  },
  {
   "cell_type": "code",
   "execution_count": 8,
   "metadata": {},
   "outputs": [],
   "source": [
    "village_pop['Total Population'] = village_pop['Total Population'].str.strip()\n",
    "village_pop['Total Population'] = village_pop['Total Population'].str.replace(',', '')\n",
    "village_pop['Total Population'] = pd.to_numeric(village_pop['Total Population'])\n",
    "#village_pop['Total Population'][0]"
   ]
  },
  {
   "cell_type": "code",
   "execution_count": 9,
   "metadata": {},
   "outputs": [],
   "source": [
    "sub_frame = pd.concat([train['subvillage'], train['population']], axis=1)\n",
    "#sub_frame "
   ]
  },
  {
   "cell_type": "code",
   "execution_count": 10,
   "metadata": {},
   "outputs": [],
   "source": [
    "sub_frame2 = pd.concat([village_pop['\\n    Village/Mtaa'], village_pop['Total Population']], axis=1)\n",
    "#sub_frame2"
   ]
  },
  {
   "cell_type": "code",
   "execution_count": 11,
   "metadata": {},
   "outputs": [],
   "source": [
    "mydict = dict(zip(sub_frame2['\\n    Village/Mtaa'], sub_frame2['Total Population']))\n",
    "#type(mydict)\n",
    "#mydict"
   ]
  },
  {
   "cell_type": "code",
   "execution_count": 12,
   "metadata": {},
   "outputs": [],
   "source": [
    "sub_frame['population'] = sub_frame['population'].fillna(sub_frame['subvillage'].map(mydict))\n",
    "#sub_frame.head(30)"
   ]
  },
  {
   "cell_type": "code",
   "execution_count": 13,
   "metadata": {},
   "outputs": [],
   "source": [
    "train['population'] = sub_frame['population']"
   ]
  },
  {
   "cell_type": "code",
   "execution_count": 14,
   "metadata": {},
   "outputs": [],
   "source": [
    "sub_frame3 = pd.concat([test['subvillage'], test['population']], axis=1)\n",
    "sub_frame3['population'] = sub_frame3['population'].fillna(sub_frame3['subvillage'].map(mydict))\n",
    "test['population'] = sub_frame3['population']"
   ]
  },
  {
   "cell_type": "code",
   "execution_count": 15,
   "metadata": {
    "colab": {},
    "colab_type": "code",
    "id": "jhfih3ADXJ1p"
   },
   "outputs": [],
   "source": [
    "target = 'status_group'\n",
    "\n",
    "X_train = train.drop(columns=target)\n",
    "y_train = train[target]\n",
    "\n",
    "X_test = test"
   ]
  },
  {
   "cell_type": "code",
   "execution_count": 16,
   "metadata": {
    "colab": {
     "base_uri": "https://localhost:8080/",
     "height": 1000
    },
    "colab_type": "code",
    "id": "0m0cangNXj8r",
    "outputId": "4e6b80c7-14b8-46ce-93f2-43b5bcacc283"
   },
   "outputs": [
    {
     "name": "stdout",
     "output_type": "stream",
     "text": [
      "score for all my folds: [0.80494949 0.80387205]\n",
      "CPU times: user 11.9 s, sys: 2.33 s, total: 14.2 s\n",
      "Wall time: 16.7 s\n"
     ]
    },
    {
     "data": {
      "text/plain": [
       "0.8044107744107745"
      ]
     },
     "execution_count": 16,
     "metadata": {},
     "output_type": "execute_result"
    }
   ],
   "source": [
    "%%time\n",
    "import category_encoders as ce\n",
    "from sklearn.ensemble import RandomForestClassifier\n",
    "from sklearn.impute import SimpleImputer\n",
    "from sklearn.pipeline import make_pipeline\n",
    "from sklearn.model_selection import GridSearchCV, RandomizedSearchCV\n",
    "from sklearn.model_selection import cross_val_score\n",
    "from scipy.stats import randint, uniform\n",
    "\n",
    "\n",
    "pipeline = make_pipeline(\n",
    "    ce.OrdinalEncoder(),\n",
    "    SimpleImputer(strategy='median'),\n",
    "    #RandomForestClassifier(random_state=42)\n",
    "    RandomForestClassifier(n_estimators=500, \n",
    "                           max_features=.19917, \n",
    "                           min_samples_leaf=2, \n",
    "                           n_jobs=-1, \n",
    "                           random_state=42)\n",
    ")\n",
    "\n",
    "\"\"\"\n",
    "param_distributions = {\n",
    "    #'simpleimputer__strategy': ['mean', 'median'], \n",
    "    #'randomforestregressor__n_estimators': randint(50, 500)\n",
    "    #randomforestclassifier__max_depth': [15, 20, None],\n",
    "    'randomforestclassifier__min_samples_leaf': [2, 3, 4, 5],\n",
    "    'randomforestclassifier__n_estimators': [200, 300, 400],\n",
    "    'randomforestclassifier__max_features': uniform(0, 1) \n",
    "\n",
    "}\n",
    "\n",
    "\n",
    "\n",
    "search = RandomizedSearchCV(\n",
    "    pipeline, \n",
    "    param_distributions=param_distributions, \n",
    "    n_iter=10, \n",
    "    cv=10, \n",
    "    #scoring='neg_mean_absolute_error', \n",
    "    verbose=10, \n",
    "    return_train_score=True, \n",
    "    n_jobs=-1\n",
    ")\n",
    "\n",
    "search.fit(X_train, y_train)\n",
    "\n",
    "print('Best hyperparameters', search.best_params_)\n",
    "print('Cross-validation', -search.best_score_)\n",
    "\"\"\"\n",
    "\n",
    "scores = cross_val_score(pipeline, X_train, y_train, cv=2)\n",
    "print('score for all my folds:', scores)\n",
    "scores.mean()\n",
    "\n",
    "#pipeline.fit(X_train, y_train)\n",
    "#print('Train Accuracy', pipeline.score(X_train, y_train))\n"
   ]
  },
  {
   "cell_type": "code",
   "execution_count": 17,
   "metadata": {},
   "outputs": [
    {
     "name": "stdout",
     "output_type": "stream",
     "text": [
      "Model Hyperparameters:\n",
      "RandomForestClassifier(bootstrap=True, ccp_alpha=0.0, class_weight=None,\n",
      "                       criterion='gini', max_depth=None, max_features=0.19917,\n",
      "                       max_leaf_nodes=None, max_samples=None,\n",
      "                       min_impurity_decrease=0.0, min_impurity_split=None,\n",
      "                       min_samples_leaf=2, min_samples_split=2,\n",
      "                       min_weight_fraction_leaf=0.0, n_estimators=500,\n",
      "                       n_jobs=-1, oob_score=False, random_state=42, verbose=0,\n",
      "                       warm_start=False)\n"
     ]
    }
   ],
   "source": [
    "print('Model Hyperparameters:')\n",
    "print(pipeline.named_steps['randomforestclassifier'])"
   ]
  },
  {
   "cell_type": "code",
   "execution_count": 18,
   "metadata": {},
   "outputs": [],
   "source": [
    "#pipeline = search.best_estimator_"
   ]
  },
  {
   "cell_type": "code",
   "execution_count": 19,
   "metadata": {
    "colab": {},
    "colab_type": "code",
    "id": "_MtrQUpMZu3t"
   },
   "outputs": [],
   "source": [
    "pipeline.fit(X_train, y_train)\n",
    "encoder = pipeline.named_steps['ordinalencoder']\n",
    "encoded = encoder.transform(X_train)"
   ]
  },
  {
   "cell_type": "code",
   "execution_count": 20,
   "metadata": {
    "colab": {},
    "colab_type": "code",
    "id": "EKMNm5yfYxGP"
   },
   "outputs": [
    {
     "data": {
      "image/png": "[encoded data removed]",
      "text/plain": [
       "<Figure size 720x900 with 1 Axes>"
      ]
     },
     "metadata": {
      "needs_background": "light"
     },
     "output_type": "display_data"
    }
   ],
   "source": [
    "rf = pipeline.named_steps['randomforestclassifier']\n",
    "importances = pd.Series(rf.feature_importances_, encoded.columns)\n",
    "n = 50\n",
    "plt.figure(figsize=(10,n/4))\n",
    "plt.title(f'Top features')\n",
    "importances.sort_values()[-n:].plot.barh();"
   ]
  },
  {
   "cell_type": "code",
   "execution_count": 21,
   "metadata": {
    "colab": {},
    "colab_type": "code",
    "id": "Cs195QShunmK"
   },
   "outputs": [
    {
     "data": {
      "text/plain": [
       "(14358,)"
      ]
     },
     "execution_count": 21,
     "metadata": {},
     "output_type": "execute_result"
    }
   ],
   "source": [
    "y_pred = pipeline.predict(X_test)\n",
    "y_pred.shape"
   ]
  },
  {
   "cell_type": "code",
   "execution_count": 22,
   "metadata": {
    "colab": {},
    "colab_type": "code",
    "id": "6LdWQi0eZic4"
   },
   "outputs": [],
   "source": [
    "\n",
    "sample_submission = pd.read_csv('sample_submission.csv')\n",
    "submission = sample_submission.copy()\n",
    "submission['status_group'] = y_pred\n",
    "submission.to_csv('willsn_submission.csv', index=False)\n"
   ]
  },
  {
   "cell_type": "code",
   "execution_count": 29,
   "metadata": {},
   "outputs": [
    {
     "data": {
      "image/png": "[encoded data removed]",
      "text/plain": [
       "<Figure size 432x288 with 2 Axes>"
      ]
     },
     "metadata": {
      "needs_background": "light"
     },
     "output_type": "display_data"
    }
   ],
   "source": [
    "from sklearn.metrics import plot_confusion_matrix\n",
    "plot_confusion_matrix(pipeline, X_train, y_train, values_format='.0f', xticks_rotation='vertical');\n",
    "###Just using X_train and y_train instead of _val because I have cross validation set up."
   ]
  },
  {
   "cell_type": "code",
   "execution_count": null,
   "metadata": {},
   "outputs": [],
   "source": []
  }
 ],
 "metadata": {
  "colab": {
   "collapsed_sections": [],
   "include_colab_link": true,
   "name": "Best_Kaggle_Model_LS_DS_223_assignment.ipynb",
   "provenance": []
  },
  "kernelspec": {
   "display_name": "Python 3",
   "language": "python",
   "name": "python3"
  },
  "language_info": {
   "codemirror_mode": {
    "name": "ipython",
    "version": 3
   },
   "file_extension": ".py",
   "mimetype": "text/x-python",
   "name": "python",
   "nbconvert_exporter": "python",
   "pygments_lexer": "ipython3",
   "version": "3.7.6"
  }
 },
 "nbformat": 4,
 "nbformat_minor": 1
}
