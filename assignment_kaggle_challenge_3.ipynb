{
  "nbformat": 4,
  "nbformat_minor": 0,
  "metadata": {
    "colab": {
      "name": "assignment_kaggle_challenge_3.ipynb",
      "version": "0.3.2",
      "provenance": [],
      "collapsed_sections": [],
      "include_colab_link": true
    },
    "kernelspec": {
      "name": "python3",
      "display_name": "Python 3"
    }
  },
  "cells": [
    {
      "cell_type": "markdown",
      "metadata": {
        "id": "view-in-github",
        "colab_type": "text"
      },
      "source": [
        "<a href=\"https://colab.research.google.com/github/elliotgunn/DS-Unit-2-Kaggle-Challenge/blob/master/assignment_kaggle_challenge_3.ipynb\" target=\"_parent\"><img src=\"https://colab.research.google.com/assets/colab-badge.svg\" alt=\"Open In Colab\"/></a>"
      ]
    },
    {
      "cell_type": "markdown",
      "metadata": {
        "id": "7IXUfiQ2UKj6",
        "colab_type": "text"
      },
      "source": [
        "Lambda School Data Science, Unit 2: Predictive Modeling\n",
        "\n",
        "# Kaggle Challenge, Module 3\n",
        "\n",
        "## Assignment\n",
        "- [ ] [Review requirements for your portfolio project](https://lambdaschool.github.io/ds/unit2/portfolio-project/ds6), then choose your dataset, and [submit this form](https://forms.gle/nyWURUg65x1UTRNV9), due today at 4pm Pacific.\n",
        "- [ ] Continue to participate in our Kaggle challenge.\n",
        "- [ ] Try xgboost.\n",
        "- [ ] Get your model's permutation importances.\n",
        "- [ ] Try feature selection with permutation importances.\n",
        "- [ ] Submit your predictions to our Kaggle competition. (Go to our Kaggle InClass competition webpage. Use the blue **Submit Predictions** button to upload your CSV file. Or you can use the Kaggle API to submit your predictions.)\n",
        "- [ ] Commit your notebook to your fork of the GitHub repo.\n",
        "\n",
        "## Stretch Goals\n",
        "\n",
        "### Doing\n",
        "- [ ] Add your own stretch goal(s) !\n",
        "- [ ] Do more exploratory data analysis, data cleaning, feature engineering, and feature selection.\n",
        "- [ ] Try other categorical encodings.\n",
        "- [ ] Try other Python libraries for gradient boosting.\n",
        "- [ ] Look at the bonus notebook in the repo, about monotonic constraints with gradient boosting.\n",
        "- [ ] Make visualizations and share on Slack.\n",
        "\n",
        "### Reading\n",
        "\n",
        "Top recommendations in _**bold italic:**_\n",
        "\n",
        "#### Permutation Importances\n",
        "- _**[Kaggle / Dan Becker: Machine Learning Explainability](https://www.kaggle.com/dansbecker/permutation-importance)**_\n",
        "- [Christoph Molnar: Interpretable Machine Learning](https://christophm.github.io/interpretable-ml-book/feature-importance.html)\n",
        "\n",
        "#### (Default) Feature Importances\n",
        "  - [Ando Saabas: Selecting good features, Part 3, Random Forests](https://blog.datadive.net/selecting-good-features-part-iii-random-forests/)\n",
        "  - [Terence Parr, et al: Beware Default Random Forest Importances](https://explained.ai/rf-importance/index.html)\n",
        "\n",
        "#### Gradient Boosting\n",
        "  - [A Gentle Introduction to the Gradient Boosting Algorithm for Machine Learning](https://machinelearningmastery.com/gentle-introduction-gradient-boosting-algorithm-machine-learning/)\n",
        "  - _**[A Kaggle Master Explains Gradient Boosting](http://blog.kaggle.com/2017/01/23/a-kaggle-master-explains-gradient-boosting/)**_\n",
        "  - [_An Introduction to Statistical Learning_](http://www-bcf.usc.edu/~gareth/ISL/ISLR%20Seventh%20Printing.pdf) Chapter 8\n",
        "  - [Gradient Boosting Explained](http://arogozhnikov.github.io/2016/06/24/gradient_boosting_explained.html)\n",
        "  - _**[Boosting](https://www.youtube.com/watch?v=GM3CDQfQ4sw) (2.5 minute video)**_\n",
        "\n",
        "#### Categorical encoding for trees\n",
        "- [Are categorical variables getting lost in your random forests?](https://roamanalytics.com/2016/10/28/are-categorical-variables-getting-lost-in-your-random-forests/)\n",
        "- [Beyond One-Hot: An Exploration of Categorical Variables](http://www.willmcginnis.com/2015/11/29/beyond-one-hot-an-exploration-of-categorical-variables/)\n",
        "- _**[Categorical Features and Encoding in Decision Trees](https://medium.com/data-design/visiting-categorical-features-and-encoding-in-decision-trees-53400fa65931)**_\n",
        "- _**[Coursera — How to Win a Data Science Competition: Learn from Top Kagglers — Concept of mean encoding](https://www.coursera.org/lecture/competitive-data-science/concept-of-mean-encoding-b5Gxv)**_\n",
        "- [Mean (likelihood) encodings: a comprehensive study](https://www.kaggle.com/vprokopev/mean-likelihood-encodings-a-comprehensive-study)\n",
        "- [The Mechanics of Machine Learning, Chapter 6: Categorically Speaking](https://mlbook.explained.ai/catvars.html)\n",
        "\n",
        "#### Imposter Syndrome\n",
        "- [Effort Shock and Reward Shock (How The Karate Kid Ruined The Modern World)](http://www.tempobook.com/2014/07/09/effort-shock-and-reward-shock/)\n",
        "- [How to manage impostor syndrome in data science](https://towardsdatascience.com/how-to-manage-impostor-syndrome-in-data-science-ad814809f068)\n",
        "- [\"I am not a real data scientist\"](https://brohrer.github.io/imposter_syndrome.html)\n",
        "- _**[Imposter Syndrome in Data Science](https://caitlinhudon.com/2018/01/19/imposter-syndrome-in-data-science/)**_\n",
        "\n",
        "\n",
        "\n",
        "\n"
      ]
    },
    {
      "cell_type": "markdown",
      "metadata": {
        "id": "Wd6T-m6bneLS",
        "colab_type": "text"
      },
      "source": [
        "### Python libraries for Gradient Boosting\n",
        "- [scikit-learn Gradient Tree Boosting](https://scikit-learn.org/stable/modules/ensemble.html#gradient-boosting) — slower than other libraries, but [the new version may be better](https://twitter.com/amuellerml/status/1129443826945396737)\n",
        "  - Anaconda: already installed\n",
        "  - Google Colab: already installed\n",
        "- [xgboost](https://xgboost.readthedocs.io/en/latest/) — can accept missing values and enforce [monotonic constraints](https://xiaoxiaowang87.github.io/monotonicity_constraint/)\n",
        "  - Anaconda, Mac/Linux: `conda install -c conda-forge xgboost`\n",
        "  - Windows: `conda install -c anaconda py-xgboost`\n",
        "  - Google Colab: already installed\n",
        "- [LightGBM](https://lightgbm.readthedocs.io/en/latest/) — can accept missing values and enforce [monotonic constraints](https://blog.datadive.net/monotonicity-constraints-in-machine-learning/)\n",
        "  - Anaconda: `conda install -c conda-forge lightgbm`\n",
        "  - Google Colab: already installed\n",
        "- [CatBoost](https://catboost.ai/) — can accept missing values and use [categorical features](https://catboost.ai/docs/concepts/algorithm-main-stages_cat-to-numberic.html) without preprocessing\n",
        "  - Anaconda: `conda install -c conda-forge catboost`\n",
        "  - Google Colab: `pip install catboost`"
      ]
    },
    {
      "cell_type": "markdown",
      "metadata": {
        "id": "o1nF5eU9nJwL",
        "colab_type": "text"
      },
      "source": [
        "### Categorical Encodings\n",
        "\n",
        "**1.** The article **[Categorical Features and Encoding in Decision Trees](https://medium.com/data-design/visiting-categorical-features-and-encoding-in-decision-trees-53400fa65931)** mentions 4 encodings:\n",
        "\n",
        "- **\"Categorical Encoding\":** This means using the raw categorical values as-is, not encoded. Scikit-learn doesn't support this, but some tree algorithm implementations do. For example, [Catboost](https://catboost.ai/), or R's [rpart](https://cran.r-project.org/web/packages/rpart/index.html) package.\n",
        "- **Numeric Encoding:** Synonymous with Label Encoding, or \"Ordinal\" Encoding with random order. We can use [category_encoders.OrdinalEncoder](https://contrib.scikit-learn.org/categorical-encoding/ordinal.html).\n",
        "- **One-Hot Encoding:** We can use [category_encoders.OneHotEncoder](http://contrib.scikit-learn.org/categorical-encoding/onehot.html).\n",
        "- **Binary Encoding:** We can use [category_encoders.BinaryEncoder](http://contrib.scikit-learn.org/categorical-encoding/binary.html).\n",
        "\n",
        "\n",
        "**2.** The short video \n",
        "**[Coursera — How to Win a Data Science Competition: Learn from Top Kagglers — Concept of mean encoding](https://www.coursera.org/lecture/competitive-data-science/concept-of-mean-encoding-b5Gxv)** introduces an interesting idea: use both X _and_ y to encode categoricals.\n",
        "\n",
        "Category Encoders has multiple implementations of this general concept:\n",
        "\n",
        "- [CatBoost Encoder](http://contrib.scikit-learn.org/categorical-encoding/catboost.html)\n",
        "- [James-Stein Encoder](http://contrib.scikit-learn.org/categorical-encoding/jamesstein.html)\n",
        "- [Leave One Out](http://contrib.scikit-learn.org/categorical-encoding/leaveoneout.html)\n",
        "- [M-estimate](http://contrib.scikit-learn.org/categorical-encoding/mestimate.html)\n",
        "- [Target Encoder](http://contrib.scikit-learn.org/categorical-encoding/targetencoder.html)\n",
        "- [Weight of Evidence](http://contrib.scikit-learn.org/categorical-encoding/woe.html)\n",
        "\n",
        "Category Encoder's mean encoding implementations work for regression problems or binary classification problems. \n",
        "\n",
        "For multi-class classification problems, you will need to temporarily reformulate it as binary classification. For example:\n",
        "\n",
        "```python\n",
        "encoder = ce.TargetEncoder(min_samples_leaf=..., smoothing=...) # Both parameters > 1 to avoid overfitting\n",
        "X_train_encoded = encoder.fit_transform(X_train, y_train=='functional')\n",
        "X_val_encoded = encoder.transform(X_train, y_val=='functional')\n",
        "```\n",
        "\n",
        "**3.** The **[dirty_cat](https://dirty-cat.github.io/stable/)** library has a Target Encoder implementation that works with multi-class classification.\n",
        "\n",
        "```python\n",
        " dirty_cat.TargetEncoder(clf_type='multiclass-clf')\n",
        "```\n",
        "It also implements an interesting idea called [\"Similarity Encoder\" for dirty categories](https://www.slideshare.net/GaelVaroquaux/machine-learning-on-non-curated-data-154905090).\n",
        "\n",
        "However, it seems like dirty_cat doesn't handle missing values or unknown categories as well as category_encoders does. And you may need to use it with one column at a time, instead of with your whole dataframe.\n",
        "\n",
        "**4. [Embeddings](https://www.kaggle.com/learn/embeddings)** can work well with sparse / high cardinality categoricals.\n",
        "\n",
        "_**I hope it’s not too frustrating or confusing that there’s not one “canonical” way to encode categorcals. It’s an active area of research and experimentation! Maybe you can make your own contributions!**_"
      ]
    },
    {
      "cell_type": "code",
      "metadata": {
        "id": "o9eSnDYhUGD7",
        "colab_type": "code",
        "colab": {}
      },
      "source": [
        "# If you're in Colab...\n",
        "import os, sys\n",
        "in_colab = 'google.colab' in sys.modules\n",
        "\n",
        "if in_colab:\n",
        "    # Install required python packages:\n",
        "    # category_encoders, version >= 2.0\n",
        "    # eli5, version >= 0.9\n",
        "    # pandas-profiling, version >= 2.0\n",
        "    # plotly, version >= 4.0\n",
        "    !pip install --upgrade category_encoders eli5 pandas-profiling plotly\n",
        "    \n",
        "    # Pull files from Github repo\n",
        "    os.chdir('/content')\n",
        "    !git init .\n",
        "    !git remote add origin https://github.com/LambdaSchool/DS-Unit-2-Kaggle-Challenge.git\n",
        "    !git pull origin master\n",
        "    \n",
        "    # Change into directory for module\n",
        "    os.chdir('module3')"
      ],
      "execution_count": 0,
      "outputs": []
    },
    {
      "cell_type": "code",
      "metadata": {
        "id": "QJBD4ruICm1m",
        "colab_type": "code",
        "colab": {}
      },
      "source": [
        "import pandas as pd\n",
        "import numpy as np\n",
        "from sklearn.model_selection import train_test_split\n",
        "\n",
        "# Merge train_features.csv & train_labels.csv\n",
        "train = pd.merge(pd.read_csv('../data/tanzania/train_features.csv'), \n",
        "                 pd.read_csv('../data/tanzania/train_labels.csv'))\n",
        "\n",
        "# Read test_features.csv & sample_submission.csv\n",
        "test = pd.read_csv('../data/tanzania/test_features.csv')\n",
        "sample_submission = pd.read_csv('../data/tanzania/sample_submission.csv')\n",
        "\n",
        "\n",
        "# Split train into train & val\n",
        "train, val = train_test_split(train, train_size=0.80, test_size=0.20, \n",
        "                              stratify=train['status_group'], random_state=42)\n",
        "\n",
        "def clean(X):\n",
        "  \n",
        "  # make a copy before modifying\n",
        "  X = X.copy()\n",
        "  \n",
        "  # duplicates, near duplicates, missing values\n",
        "  X = X.drop(columns=['payment', 'quantity_group'])\n",
        "  \n",
        "  # About 3% of the time, latitude has small values near zero,\n",
        "  # outside Tanzania, so we'll treat these values like zero.\n",
        "  X['latitude'] = X['latitude'].replace(-2e-08, 0)\n",
        "  \n",
        "  # some columns have zeros and shouldn't, they are like null values\n",
        "  # replace those zeros with nulls, impute missing values later\n",
        "  cols_with_zeros = ['longitude', 'latitude', 'population', 'construction_year',\n",
        "                    'gps_height']\n",
        "  for col in cols_with_zeros:\n",
        "      X[col] = X[col].replace(0, np.nan)\n",
        "      # create a missing vaules column\n",
        "      X[col+'_missing'] = X[col].isnull()\n",
        "  \n",
        "  # extract year, month, day from date_recorded\n",
        "  X['date_recorded'] = pd.to_datetime(X['date_recorded'], infer_datetime_format=True)\n",
        "  X['year_recorded'] = X['date_recorded'].dt.year\n",
        "  X['month_recorded'] = X['date_recorded'].dt.month\n",
        "  X['day_recorded'] = X['date_recorded'].dt.day\n",
        "  # delete date_recorded\n",
        "  X = X.drop(columns='date_recorded')\n",
        "\n",
        "  # age of pump at time of inspection\n",
        "  X['pump_age'] = X['year_recorded'] - X['construction_year']\n",
        "  # there are five values with negatives, so we will return those as a np.nan\n",
        "  X['pump_age'] = X['pump_age'].replace([-5, -4, -3, -2, -1, -7], np.nan)\n",
        "  # remember to deal with missing years\n",
        "  X['years_missing'] = X['pump_age'].isnull()\n",
        "  \n",
        "  # drop recorded_by (never varies) and id (always varies, random)\n",
        "  X = X.drop(columns=['recorded_by', 'id'])\n",
        "  \n",
        "  # return the clean df\n",
        "  return X\n",
        "\n",
        "train = clean(train)\n",
        "val = clean(val)\n",
        "test = clean(test)"
      ],
      "execution_count": 0,
      "outputs": []
    },
    {
      "cell_type": "code",
      "metadata": {
        "id": "GNqXDI1XBltX",
        "colab_type": "code",
        "colab": {}
      },
      "source": [
        "# The status_group column is the target\n",
        "target = 'status_group'\n",
        "\n",
        "# Get a dataframe with all train columns except the target\n",
        "train_features = train.drop(columns=[target])\n",
        "\n",
        "# Get a list of the numeric features\n",
        "numeric_features = train_features.select_dtypes(include='number').columns.tolist()\n",
        "\n",
        "# Get a series with the cardinality of the nonnumeric features\n",
        "cardinality = train_features.select_dtypes(exclude='number').nunique()\n",
        "\n",
        "# Get a list of all categorical features with cardinality <= 50\n",
        "categorical_features = cardinality[cardinality <= 50].index.tolist()\n",
        "\n",
        "# Combine the lists \n",
        "features = numeric_features + categorical_features"
      ],
      "execution_count": 0,
      "outputs": []
    },
    {
      "cell_type": "code",
      "metadata": {
        "id": "7Grmugm0Bq55",
        "colab_type": "code",
        "colab": {}
      },
      "source": [
        "# Arrange data into X features matrix and y target vector \n",
        "X_train = train[features]\n",
        "y_train = train[target]\n",
        "X_val = val[features]\n",
        "y_val = val[target]\n",
        "X_test = test[features]"
      ],
      "execution_count": 0,
      "outputs": []
    },
    {
      "cell_type": "code",
      "metadata": {
        "id": "RwXPj1myBzr0",
        "colab_type": "code",
        "colab": {
          "base_uri": "https://localhost:8080/",
          "height": 34
        },
        "outputId": "244227f7-37ee-4830-8e7e-e90e2435cfb0"
      },
      "source": [
        "import xgboost as xgb\n",
        "xgb.__version__"
      ],
      "execution_count": 11,
      "outputs": [
        {
          "output_type": "execute_result",
          "data": {
            "text/plain": [
              "'0.90'"
            ]
          },
          "metadata": {
            "tags": []
          },
          "execution_count": 11
        }
      ]
    },
    {
      "cell_type": "markdown",
      "metadata": {
        "id": "QGbRlAcrFlCW",
        "colab_type": "text"
      },
      "source": [
        "## xGBoost  parameters\n",
        "\n",
        "n_estimators: too low underfits, too high wastes time\n",
        "\n",
        "max_depth: deeper trees for high cardinality, used to control over-ftting as higher depth allows the model to learn relationships specific to the sample\n",
        "\n",
        "learning_rate: too low underfits, too high overfits\n",
        "\n",
        "scale_pos_weight: for imbalanced classes, value greater than 0 should be used in case of high class imbalance\n",
        "\n"
      ]
    },
    {
      "cell_type": "code",
      "metadata": {
        "id": "rP3uQACFB4W1",
        "colab_type": "code",
        "colab": {
          "base_uri": "https://localhost:8080/",
          "height": 34
        },
        "outputId": "6abb5434-afba-451f-9916-2f76499bb9cf"
      },
      "source": [
        "from xgboost import XGBClassifier\n",
        "\n",
        "import category_encoders as ce\n",
        "from sklearn.impute import SimpleImputer\n",
        "from sklearn.ensemble import RandomForestClassifier\n",
        "from sklearn.pipeline import make_pipeline\n",
        "\n",
        "pipeline = make_pipeline(\n",
        "      ce.OrdinalEncoder(),\n",
        "      ce.OneHotEncoder(),\n",
        "      XGBClassifier(booster=\"dart\", n_estimators=82, max_depth=10, learning_rate=0.5, n_jobs=-1,\n",
        "                    scale_pos_imbalance=5)\n",
        ")\n",
        "\n",
        "# fit on train, score on val\n",
        "pipeline.fit(X_train, y_train)\n",
        "print('Validation Accuracy: ', pipeline.score(X_val, y_val))"
      ],
      "execution_count": 74,
      "outputs": [
        {
          "output_type": "stream",
          "text": [
            "Validation Accuracy:  0.811952861952862\n"
          ],
          "name": "stdout"
        }
      ]
    },
    {
      "cell_type": "code",
      "metadata": {
        "id": "BKpp4CVhauMj",
        "colab_type": "code",
        "colab": {
          "base_uri": "https://localhost:8080/",
          "height": 1000
        },
        "outputId": "949ae4ee-cf70-431b-b016-9ac16e333c52"
      },
      "source": [
        "encoder = ce.OrdinalEncoder()\n",
        "X_train_encoded = encoder.fit_transform(X_train)\n",
        "X_val_encoded = encoder.transform(X_val)\n",
        "\n",
        "eval_set = [(X_train_encoded, y_train), \n",
        "            (X_val_encoded, y_val)]\n",
        "\n",
        "model = XGBClassifier(\n",
        "    booster=\"dart\", \n",
        "    n_estimators=82, \n",
        "    max_depth=10, \n",
        "    learning_rate=0.5, \n",
        "    n_jobs=-1,\n",
        "    scale_pos_imbalance=5\n",
        ")\n",
        "\n",
        "model.fit(X_train_encoded, y_train, early_stopping_rounds=50, \n",
        "          eval_metric='merror', eval_set=eval_set)"
      ],
      "execution_count": 73,
      "outputs": [
        {
          "output_type": "stream",
          "text": [
            "[0]\tvalidation_0-merror:0.209259\tvalidation_1-merror:0.237458\n",
            "Multiple eval metrics have been passed: 'validation_1-merror' will be used for early stopping.\n",
            "\n",
            "Will train until validation_1-merror hasn't improved in 50 rounds.\n",
            "[1]\tvalidation_0-merror:0.196275\tvalidation_1-merror:0.224663\n",
            "[2]\tvalidation_0-merror:0.182618\tvalidation_1-merror:0.215236\n",
            "[3]\tvalidation_0-merror:0.173211\tvalidation_1-merror:0.21271\n",
            "[4]\tvalidation_0-merror:0.167193\tvalidation_1-merror:0.209428\n",
            "[5]\tvalidation_0-merror:0.157891\tvalidation_1-merror:0.20505\n",
            "[6]\tvalidation_0-merror:0.149621\tvalidation_1-merror:0.202357\n",
            "[7]\tvalidation_0-merror:0.144634\tvalidation_1-merror:0.202946\n",
            "[8]\tvalidation_0-merror:0.137774\tvalidation_1-merror:0.200505\n",
            "[9]\tvalidation_0-merror:0.135774\tvalidation_1-merror:0.199832\n",
            "[10]\tvalidation_0-merror:0.131166\tvalidation_1-merror:0.199327\n",
            "[11]\tvalidation_0-merror:0.128199\tvalidation_1-merror:0.197475\n",
            "[12]\tvalidation_0-merror:0.124116\tvalidation_1-merror:0.196549\n",
            "[13]\tvalidation_0-merror:0.12117\tvalidation_1-merror:0.196465\n",
            "[14]\tvalidation_0-merror:0.119108\tvalidation_1-merror:0.196044\n",
            "[15]\tvalidation_0-merror:0.114878\tvalidation_1-merror:0.19596\n",
            "[16]\tvalidation_0-merror:0.111785\tvalidation_1-merror:0.196801\n",
            "[17]\tvalidation_0-merror:0.110269\tvalidation_1-merror:0.196717\n",
            "[18]\tvalidation_0-merror:0.107849\tvalidation_1-merror:0.196465\n",
            "[19]\tvalidation_0-merror:0.10463\tvalidation_1-merror:0.19436\n",
            "[20]\tvalidation_0-merror:0.103157\tvalidation_1-merror:0.194276\n",
            "[21]\tvalidation_0-merror:0.101747\tvalidation_1-merror:0.19436\n",
            "[22]\tvalidation_0-merror:0.100168\tvalidation_1-merror:0.194276\n",
            "[23]\tvalidation_0-merror:0.098022\tvalidation_1-merror:0.194192\n",
            "[24]\tvalidation_0-merror:0.096317\tvalidation_1-merror:0.193855\n",
            "[25]\tvalidation_0-merror:0.095539\tvalidation_1-merror:0.194024\n",
            "[26]\tvalidation_0-merror:0.09375\tvalidation_1-merror:0.193266\n",
            "[27]\tvalidation_0-merror:0.092551\tvalidation_1-merror:0.192845\n",
            "[28]\tvalidation_0-merror:0.09053\tvalidation_1-merror:0.193266\n",
            "[29]\tvalidation_0-merror:0.088889\tvalidation_1-merror:0.192508\n",
            "[30]\tvalidation_0-merror:0.087163\tvalidation_1-merror:0.192256\n",
            "[31]\tvalidation_0-merror:0.086132\tvalidation_1-merror:0.192508\n",
            "[32]\tvalidation_0-merror:0.084912\tvalidation_1-merror:0.192508\n",
            "[33]\tvalidation_0-merror:0.083523\tvalidation_1-merror:0.191919\n",
            "[34]\tvalidation_0-merror:0.080976\tvalidation_1-merror:0.192593\n",
            "[35]\tvalidation_0-merror:0.080008\tvalidation_1-merror:0.191582\n",
            "[36]\tvalidation_0-merror:0.078199\tvalidation_1-merror:0.191919\n",
            "[37]\tvalidation_0-merror:0.07742\tvalidation_1-merror:0.191919\n",
            "[38]\tvalidation_0-merror:0.075379\tvalidation_1-merror:0.191667\n",
            "[39]\tvalidation_0-merror:0.074348\tvalidation_1-merror:0.191582\n",
            "[40]\tvalidation_0-merror:0.073316\tvalidation_1-merror:0.192088\n",
            "[41]\tvalidation_0-merror:0.072306\tvalidation_1-merror:0.192172\n",
            "[42]\tvalidation_0-merror:0.070644\tvalidation_1-merror:0.191751\n",
            "[43]\tvalidation_0-merror:0.069465\tvalidation_1-merror:0.190657\n",
            "[44]\tvalidation_0-merror:0.068624\tvalidation_1-merror:0.190488\n",
            "[45]\tvalidation_0-merror:0.067445\tvalidation_1-merror:0.190236\n",
            "[46]\tvalidation_0-merror:0.066646\tvalidation_1-merror:0.190152\n",
            "[47]\tvalidation_0-merror:0.06572\tvalidation_1-merror:0.190488\n",
            "[48]\tvalidation_0-merror:0.06391\tvalidation_1-merror:0.190488\n",
            "[49]\tvalidation_0-merror:0.062584\tvalidation_1-merror:0.190236\n",
            "[50]\tvalidation_0-merror:0.061679\tvalidation_1-merror:0.190067\n",
            "[51]\tvalidation_0-merror:0.06048\tvalidation_1-merror:0.189646\n",
            "[52]\tvalidation_0-merror:0.059428\tvalidation_1-merror:0.189731\n",
            "[53]\tvalidation_0-merror:0.05907\tvalidation_1-merror:0.189478\n",
            "[54]\tvalidation_0-merror:0.058439\tvalidation_1-merror:0.189057\n",
            "[55]\tvalidation_0-merror:0.057576\tvalidation_1-merror:0.188636\n",
            "[56]\tvalidation_0-merror:0.056481\tvalidation_1-merror:0.188552\n",
            "[57]\tvalidation_0-merror:0.055556\tvalidation_1-merror:0.188721\n",
            "[58]\tvalidation_0-merror:0.054314\tvalidation_1-merror:0.188636\n",
            "[59]\tvalidation_0-merror:0.053367\tvalidation_1-merror:0.188721\n",
            "[60]\tvalidation_0-merror:0.051684\tvalidation_1-merror:0.188805\n",
            "[61]\tvalidation_0-merror:0.050526\tvalidation_1-merror:0.188047\n",
            "[62]\tvalidation_0-merror:0.05\tvalidation_1-merror:0.187879\n",
            "[63]\tvalidation_0-merror:0.049074\tvalidation_1-merror:0.188721\n",
            "[64]\tvalidation_0-merror:0.04819\tvalidation_1-merror:0.188973\n",
            "[65]\tvalidation_0-merror:0.047559\tvalidation_1-merror:0.189141\n",
            "[66]\tvalidation_0-merror:0.046359\tvalidation_1-merror:0.1883\n",
            "[67]\tvalidation_0-merror:0.045833\tvalidation_1-merror:0.188636\n",
            "[68]\tvalidation_0-merror:0.045055\tvalidation_1-merror:0.188468\n",
            "[69]\tvalidation_0-merror:0.044423\tvalidation_1-merror:0.188805\n",
            "[70]\tvalidation_0-merror:0.044066\tvalidation_1-merror:0.188468\n",
            "[71]\tvalidation_0-merror:0.043687\tvalidation_1-merror:0.188889\n",
            "[72]\tvalidation_0-merror:0.042803\tvalidation_1-merror:0.188468\n",
            "[73]\tvalidation_0-merror:0.042361\tvalidation_1-merror:0.189141\n",
            "[74]\tvalidation_0-merror:0.041751\tvalidation_1-merror:0.189141\n",
            "[75]\tvalidation_0-merror:0.040972\tvalidation_1-merror:0.188973\n",
            "[76]\tvalidation_0-merror:0.040383\tvalidation_1-merror:0.189226\n",
            "[77]\tvalidation_0-merror:0.03971\tvalidation_1-merror:0.189394\n",
            "[78]\tvalidation_0-merror:0.039289\tvalidation_1-merror:0.18931\n",
            "[79]\tvalidation_0-merror:0.038847\tvalidation_1-merror:0.188636\n",
            "[80]\tvalidation_0-merror:0.037942\tvalidation_1-merror:0.188468\n",
            "[81]\tvalidation_0-merror:0.036848\tvalidation_1-merror:0.188047\n",
            "[82]\tvalidation_0-merror:0.036069\tvalidation_1-merror:0.187458\n",
            "[83]\tvalidation_0-merror:0.035648\tvalidation_1-merror:0.187626\n",
            "[84]\tvalidation_0-merror:0.035017\tvalidation_1-merror:0.187458\n",
            "[85]\tvalidation_0-merror:0.034933\tvalidation_1-merror:0.187795\n",
            "[86]\tvalidation_0-merror:0.034175\tvalidation_1-merror:0.187458\n",
            "[87]\tvalidation_0-merror:0.033607\tvalidation_1-merror:0.188047\n",
            "[88]\tvalidation_0-merror:0.033354\tvalidation_1-merror:0.188047\n",
            "[89]\tvalidation_0-merror:0.032681\tvalidation_1-merror:0.188131\n",
            "[90]\tvalidation_0-merror:0.031987\tvalidation_1-merror:0.188215\n",
            "[91]\tvalidation_0-merror:0.031587\tvalidation_1-merror:0.1883\n",
            "[92]\tvalidation_0-merror:0.031166\tvalidation_1-merror:0.188384\n",
            "[93]\tvalidation_0-merror:0.030556\tvalidation_1-merror:0.188215\n",
            "[94]\tvalidation_0-merror:0.030345\tvalidation_1-merror:0.188131\n",
            "[95]\tvalidation_0-merror:0.030029\tvalidation_1-merror:0.1883\n",
            "[96]\tvalidation_0-merror:0.029356\tvalidation_1-merror:0.188384\n",
            "[97]\tvalidation_0-merror:0.028935\tvalidation_1-merror:0.188468\n",
            "[98]\tvalidation_0-merror:0.028514\tvalidation_1-merror:0.188721\n",
            "[99]\tvalidation_0-merror:0.028072\tvalidation_1-merror:0.188973\n",
            "[100]\tvalidation_0-merror:0.026894\tvalidation_1-merror:0.189057\n",
            "[101]\tvalidation_0-merror:0.026284\tvalidation_1-merror:0.188889\n",
            "[102]\tvalidation_0-merror:0.025821\tvalidation_1-merror:0.189057\n",
            "[103]\tvalidation_0-merror:0.025484\tvalidation_1-merror:0.188721\n",
            "[104]\tvalidation_0-merror:0.024832\tvalidation_1-merror:0.188805\n",
            "[105]\tvalidation_0-merror:0.024369\tvalidation_1-merror:0.188636\n",
            "[106]\tvalidation_0-merror:0.024221\tvalidation_1-merror:0.188721\n",
            "[107]\tvalidation_0-merror:0.023737\tvalidation_1-merror:0.189226\n",
            "[108]\tvalidation_0-merror:0.023043\tvalidation_1-merror:0.189394\n",
            "[109]\tvalidation_0-merror:0.022475\tvalidation_1-merror:0.189057\n",
            "[110]\tvalidation_0-merror:0.022054\tvalidation_1-merror:0.188889\n",
            "[111]\tvalidation_0-merror:0.021696\tvalidation_1-merror:0.188889\n",
            "[112]\tvalidation_0-merror:0.02157\tvalidation_1-merror:0.189899\n",
            "[113]\tvalidation_0-merror:0.021275\tvalidation_1-merror:0.189815\n",
            "[114]\tvalidation_0-merror:0.021233\tvalidation_1-merror:0.190152\n",
            "[115]\tvalidation_0-merror:0.020707\tvalidation_1-merror:0.190236\n",
            "[116]\tvalidation_0-merror:0.020581\tvalidation_1-merror:0.190488\n",
            "[117]\tvalidation_0-merror:0.020349\tvalidation_1-merror:0.189983\n",
            "[118]\tvalidation_0-merror:0.020097\tvalidation_1-merror:0.189478\n",
            "[119]\tvalidation_0-merror:0.019886\tvalidation_1-merror:0.189478\n",
            "[120]\tvalidation_0-merror:0.01955\tvalidation_1-merror:0.189731\n",
            "[121]\tvalidation_0-merror:0.019255\tvalidation_1-merror:0.189646\n",
            "[122]\tvalidation_0-merror:0.018876\tvalidation_1-merror:0.189899\n",
            "[123]\tvalidation_0-merror:0.018603\tvalidation_1-merror:0.190404\n",
            "[124]\tvalidation_0-merror:0.018455\tvalidation_1-merror:0.190067\n",
            "[125]\tvalidation_0-merror:0.018266\tvalidation_1-merror:0.190067\n",
            "[126]\tvalidation_0-merror:0.018161\tvalidation_1-merror:0.190488\n",
            "[127]\tvalidation_0-merror:0.018182\tvalidation_1-merror:0.190067\n",
            "[128]\tvalidation_0-merror:0.018119\tvalidation_1-merror:0.189646\n",
            "[129]\tvalidation_0-merror:0.017908\tvalidation_1-merror:0.189562\n",
            "[130]\tvalidation_0-merror:0.017761\tvalidation_1-merror:0.189983\n",
            "[131]\tvalidation_0-merror:0.017698\tvalidation_1-merror:0.190236\n",
            "[132]\tvalidation_0-merror:0.017424\tvalidation_1-merror:0.190404\n",
            "Stopping. Best iteration:\n",
            "[82]\tvalidation_0-merror:0.036069\tvalidation_1-merror:0.187458\n",
            "\n"
          ],
          "name": "stdout"
        },
        {
          "output_type": "execute_result",
          "data": {
            "text/plain": [
              "XGBClassifier(base_score=0.5, booster='dart', colsample_bylevel=1,\n",
              "              colsample_bynode=1, colsample_bytree=1, gamma=0,\n",
              "              learning_rate=0.5, max_delta_step=0, max_depth=10,\n",
              "              min_child_weight=1, missing=None, n_estimators=1000, n_jobs=-1,\n",
              "              nthread=None, objective='multi:softprob', random_state=0,\n",
              "              reg_alpha=0, reg_lambda=1, scale_pos_imbalance=5,\n",
              "              scale_pos_weight=1, seed=None, silent=None, subsample=1,\n",
              "              verbosity=1)"
            ]
          },
          "metadata": {
            "tags": []
          },
          "execution_count": 73
        }
      ]
    },
    {
      "cell_type": "code",
      "metadata": {
        "id": "ke3JgyzhE7Ur",
        "colab_type": "code",
        "colab": {}
      },
      "source": [
        "y_pred = pipeline.predict(X_test)"
      ],
      "execution_count": 0,
      "outputs": []
    },
    {
      "cell_type": "code",
      "metadata": {
        "id": "aklZ8GhOVpkr",
        "colab_type": "code",
        "colab": {}
      },
      "source": [
        "# Write submission csv file\n",
        "submission = sample_submission.copy()\n",
        "submission['status_group'] = y_pred\n",
        "submission.to_csv('submission-05.csv', index=False)"
      ],
      "execution_count": 0,
      "outputs": []
    },
    {
      "cell_type": "code",
      "metadata": {
        "id": "Re_UJLF2x3W5",
        "colab_type": "code",
        "colab": {
          "base_uri": "https://localhost:8080/",
          "height": 139
        },
        "outputId": "2409ce85-583b-4795-aaeb-9d5914bde9a8"
      },
      "source": [
        "from google.colab import drive\n",
        "drive.mount('/content/drive')\n",
        "%env KAGGLE_CONFIG_DIR=/content/drive/My Drive/"
      ],
      "execution_count": 57,
      "outputs": [
        {
          "output_type": "stream",
          "text": [
            "Go to this URL in a browser: https://accounts.google.com/o/oauth2/auth?client_id=947318989803-6bn6qk8qdgf4n4g3pfee6491hc0brc4i.apps.googleusercontent.com&redirect_uri=urn%3Aietf%3Awg%3Aoauth%3A2.0%3Aoob&scope=email%20https%3A%2F%2Fwww.googleapis.com%2Fauth%2Fdocs.test%20https%3A%2F%2Fwww.googleapis.com%2Fauth%2Fdrive%20https%3A%2F%2Fwww.googleapis.com%2Fauth%2Fdrive.photos.readonly%20https%3A%2F%2Fwww.googleapis.com%2Fauth%2Fpeopleapi.readonly&response_type=code\n",
            "\n",
            "Enter your authorization code:\n",
            "··········\n",
            "Mounted at /content/drive\n",
            "env: KAGGLE_CONFIG_DIR=/content/drive/My Drive/\n"
          ],
          "name": "stdout"
        }
      ]
    },
    {
      "cell_type": "code",
      "metadata": {
        "id": "oMLhDWPfxffs",
        "colab_type": "code",
        "outputId": "c4b43b14-45c1-40aa-cc74-41dd4d803993",
        "colab": {
          "base_uri": "https://localhost:8080/",
          "height": 51
        }
      },
      "source": [
        "!kaggle competitions submit -c ds6-predictive-modeling-challenge -f submission-05.csv -m \"fifth\""
      ],
      "execution_count": 77,
      "outputs": [
        {
          "output_type": "stream",
          "text": [
            "100% 265k/265k [00:02<00:00, 99.5kB/s]\n",
            "Successfully submitted to DS6 Predictive Modeling Challenge"
          ],
          "name": "stdout"
        }
      ]
    }
  ]
}