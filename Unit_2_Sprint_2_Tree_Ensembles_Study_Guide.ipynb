{
  "nbformat": 4,
  "nbformat_minor": 0,
  "metadata": {
    "colab": {
      "name": "Unit 2 Sprint 2 - Tree Ensembles - Study Guide.ipynb",
      "provenance": [],
      "collapsed_sections": [],
      "toc_visible": true,
      "include_colab_link": true
    },
    "kernelspec": {
      "name": "python3",
      "display_name": "Python 3"
    }
  },
  "cells": [
    {
      "cell_type": "markdown",
      "metadata": {
        "id": "view-in-github",
        "colab_type": "text"
      },
      "source": [
        "<a href=\"https://colab.research.google.com/github/ilEnzio/DS-Unit-2-Kaggle-Challenge/blob/master/Unit_2_Sprint_2_Tree_Ensembles_Study_Guide.ipynb\" target=\"_parent\"><img src=\"https://colab.research.google.com/assets/colab-badge.svg\" alt=\"Open In Colab\"/></a>"
      ]
    },
    {
      "cell_type": "markdown",
      "metadata": {
        "id": "pXMdEU-qHQHh",
        "colab_type": "text"
      },
      "source": [
        "This study guide should reinforce and provide practice for all of the concepts you have seen in the past week. There are a mix of written questions and coding exercises, both are equally important to prepare you for the sprint challenge as well as to be able to speak on these topics comfortably in interviews and on the job.\n",
        "\n",
        "If you get stuck or are unsure of something remember the 20 minute rule. If that doesn't help, then research a solution with google and stackoverflow. Only once you have exausted these methods should you turn to your Team Lead - they won't be there on your SC or during an interview. That being said, don't hesitate to ask for help if you truly are stuck.\n",
        "\n",
        "Have fun studying!"
      ]
    },
    {
      "cell_type": "markdown",
      "metadata": {
        "id": "V-vPPhtthaNU",
        "colab_type": "text"
      },
      "source": [
        "# Resources"
      ]
    },
    {
      "cell_type": "markdown",
      "metadata": {
        "id": "PCvm7I44H3Oe",
        "colab_type": "text"
      },
      "source": [
        "[Category Encoders](https://contrib.scikit-learn.org/categorical-encoding/)\n",
        "\n",
        "[Logistic Regression](https://scikit-learn.org/stable/modules/generated/sklearn.linear_model.LogisticRegression.html)\n",
        "\n",
        "[Decision Tree Classifier](https://scikit-learn.org/stable/modules/generated/sklearn.tree.DecisionTreeClassifier.html)\n",
        "\n",
        "[Hyperparameter Tuning](https://scikit-learn.org/stable/modules/grid_search.html)\n",
        "\n",
        "[Confusion Matrix](https://scikit-learn.org/stable/auto_examples/model_selection/plot_confusion_matrix.html)\n",
        "\n",
        "[Scoring Metrics](https://scikit-learn.org/stable/modules/model_evaluation.html)"
      ]
    },
    {
      "cell_type": "code",
      "metadata": {
        "id": "b_7n8s1mak9k",
        "colab_type": "code",
        "colab": {
          "base_uri": "https://localhost:8080/",
          "height": 296
        },
        "outputId": "1c071c97-3816-479f-9157-3f6481558026"
      },
      "source": [
        "import pandas as pd\n",
        "import sys\n",
        "\n",
        "!pip install category_encoders==2.*"
      ],
      "execution_count": 1,
      "outputs": [
        {
          "output_type": "stream",
          "text": [
            "Collecting category_encoders==2.*\n",
            "\u001b[?25l  Downloading https://files.pythonhosted.org/packages/44/57/fcef41c248701ee62e8325026b90c432adea35555cbc870aff9cfba23727/category_encoders-2.2.2-py2.py3-none-any.whl (80kB)\n",
            "\r\u001b[K     |████                            | 10kB 15.2MB/s eta 0:00:01\r\u001b[K     |████████▏                       | 20kB 1.8MB/s eta 0:00:01\r\u001b[K     |████████████▏                   | 30kB 2.2MB/s eta 0:00:01\r\u001b[K     |████████████████▎               | 40kB 2.5MB/s eta 0:00:01\r\u001b[K     |████████████████████▎           | 51kB 2.0MB/s eta 0:00:01\r\u001b[K     |████████████████████████▍       | 61kB 2.3MB/s eta 0:00:01\r\u001b[K     |████████████████████████████▍   | 71kB 2.6MB/s eta 0:00:01\r\u001b[K     |████████████████████████████████| 81kB 2.2MB/s \n",
            "\u001b[?25hRequirement already satisfied: scipy>=1.0.0 in /usr/local/lib/python3.6/dist-packages (from category_encoders==2.*) (1.4.1)\n",
            "Requirement already satisfied: pandas>=0.21.1 in /usr/local/lib/python3.6/dist-packages (from category_encoders==2.*) (1.0.5)\n",
            "Requirement already satisfied: patsy>=0.5.1 in /usr/local/lib/python3.6/dist-packages (from category_encoders==2.*) (0.5.1)\n",
            "Requirement already satisfied: numpy>=1.14.0 in /usr/local/lib/python3.6/dist-packages (from category_encoders==2.*) (1.18.5)\n",
            "Requirement already satisfied: statsmodels>=0.9.0 in /usr/local/lib/python3.6/dist-packages (from category_encoders==2.*) (0.10.2)\n",
            "Requirement already satisfied: scikit-learn>=0.20.0 in /usr/local/lib/python3.6/dist-packages (from category_encoders==2.*) (0.22.2.post1)\n",
            "Requirement already satisfied: pytz>=2017.2 in /usr/local/lib/python3.6/dist-packages (from pandas>=0.21.1->category_encoders==2.*) (2018.9)\n",
            "Requirement already satisfied: python-dateutil>=2.6.1 in /usr/local/lib/python3.6/dist-packages (from pandas>=0.21.1->category_encoders==2.*) (2.8.1)\n",
            "Requirement already satisfied: six in /usr/local/lib/python3.6/dist-packages (from patsy>=0.5.1->category_encoders==2.*) (1.15.0)\n",
            "Requirement already satisfied: joblib>=0.11 in /usr/local/lib/python3.6/dist-packages (from scikit-learn>=0.20.0->category_encoders==2.*) (0.16.0)\n",
            "Installing collected packages: category-encoders\n",
            "Successfully installed category-encoders-2.2.2\n"
          ],
          "name": "stdout"
        }
      ]
    },
    {
      "cell_type": "markdown",
      "metadata": {
        "id": "xL8fg3mIhd_L",
        "colab_type": "text"
      },
      "source": [
        "Use the dataframe below for all questions unless otherwise stated"
      ]
    },
    {
      "cell_type": "code",
      "metadata": {
        "id": "3WWarojafXt5",
        "colab_type": "code",
        "colab": {
          "base_uri": "https://localhost:8080/",
          "height": 198
        },
        "outputId": "75f15cd7-0e93-404f-ce21-c674fac05de9"
      },
      "source": [
        "# https://www.kaggle.com/ronitf/heart-disease-uci\n",
        "df = pd.read_csv('https://raw.githubusercontent.com/bundickm/Study-Guides/master/data/hearts.csv')\n",
        "df.head()"
      ],
      "execution_count": 2,
      "outputs": [
        {
          "output_type": "execute_result",
          "data": {
            "text/html": [
              "<div>\n",
              "<style scoped>\n",
              "    .dataframe tbody tr th:only-of-type {\n",
              "        vertical-align: middle;\n",
              "    }\n",
              "\n",
              "    .dataframe tbody tr th {\n",
              "        vertical-align: top;\n",
              "    }\n",
              "\n",
              "    .dataframe thead th {\n",
              "        text-align: right;\n",
              "    }\n",
              "</style>\n",
              "<table border=\"1\" class=\"dataframe\">\n",
              "  <thead>\n",
              "    <tr style=\"text-align: right;\">\n",
              "      <th></th>\n",
              "      <th>Unnamed: 0</th>\n",
              "      <th>age</th>\n",
              "      <th>sex</th>\n",
              "      <th>cp</th>\n",
              "      <th>trestbps</th>\n",
              "      <th>chol</th>\n",
              "      <th>fbs</th>\n",
              "      <th>restecg</th>\n",
              "      <th>thalach</th>\n",
              "      <th>exang</th>\n",
              "      <th>oldpeak</th>\n",
              "      <th>slope</th>\n",
              "      <th>ca</th>\n",
              "      <th>thal</th>\n",
              "      <th>target</th>\n",
              "    </tr>\n",
              "  </thead>\n",
              "  <tbody>\n",
              "    <tr>\n",
              "      <th>0</th>\n",
              "      <td>0</td>\n",
              "      <td>63</td>\n",
              "      <td>Male</td>\n",
              "      <td>D</td>\n",
              "      <td>145</td>\n",
              "      <td>233</td>\n",
              "      <td>1</td>\n",
              "      <td>0</td>\n",
              "      <td>150</td>\n",
              "      <td>0</td>\n",
              "      <td>2.3</td>\n",
              "      <td>0</td>\n",
              "      <td>0</td>\n",
              "      <td>1</td>\n",
              "      <td>1</td>\n",
              "    </tr>\n",
              "    <tr>\n",
              "      <th>1</th>\n",
              "      <td>1</td>\n",
              "      <td>37</td>\n",
              "      <td>Male</td>\n",
              "      <td>C</td>\n",
              "      <td>130</td>\n",
              "      <td>250</td>\n",
              "      <td>0</td>\n",
              "      <td>1</td>\n",
              "      <td>187</td>\n",
              "      <td>0</td>\n",
              "      <td>3.5</td>\n",
              "      <td>0</td>\n",
              "      <td>0</td>\n",
              "      <td>2</td>\n",
              "      <td>1</td>\n",
              "    </tr>\n",
              "    <tr>\n",
              "      <th>2</th>\n",
              "      <td>2</td>\n",
              "      <td>41</td>\n",
              "      <td>Female</td>\n",
              "      <td>B</td>\n",
              "      <td>130</td>\n",
              "      <td>204</td>\n",
              "      <td>0</td>\n",
              "      <td>0</td>\n",
              "      <td>172</td>\n",
              "      <td>0</td>\n",
              "      <td>1.4</td>\n",
              "      <td>2</td>\n",
              "      <td>0</td>\n",
              "      <td>2</td>\n",
              "      <td>1</td>\n",
              "    </tr>\n",
              "    <tr>\n",
              "      <th>3</th>\n",
              "      <td>3</td>\n",
              "      <td>56</td>\n",
              "      <td>Male</td>\n",
              "      <td>B</td>\n",
              "      <td>120</td>\n",
              "      <td>236</td>\n",
              "      <td>0</td>\n",
              "      <td>1</td>\n",
              "      <td>178</td>\n",
              "      <td>0</td>\n",
              "      <td>0.8</td>\n",
              "      <td>2</td>\n",
              "      <td>0</td>\n",
              "      <td>2</td>\n",
              "      <td>1</td>\n",
              "    </tr>\n",
              "    <tr>\n",
              "      <th>4</th>\n",
              "      <td>4</td>\n",
              "      <td>57</td>\n",
              "      <td>Female</td>\n",
              "      <td>A</td>\n",
              "      <td>120</td>\n",
              "      <td>354</td>\n",
              "      <td>0</td>\n",
              "      <td>1</td>\n",
              "      <td>163</td>\n",
              "      <td>1</td>\n",
              "      <td>0.6</td>\n",
              "      <td>2</td>\n",
              "      <td>0</td>\n",
              "      <td>2</td>\n",
              "      <td>1</td>\n",
              "    </tr>\n",
              "  </tbody>\n",
              "</table>\n",
              "</div>"
            ],
            "text/plain": [
              "   Unnamed: 0  age     sex cp  trestbps  ...  oldpeak  slope  ca  thal  target\n",
              "0           0   63    Male  D       145  ...      2.3      0   0     1       1\n",
              "1           1   37    Male  C       130  ...      3.5      0   0     2       1\n",
              "2           2   41  Female  B       130  ...      1.4      2   0     2       1\n",
              "3           3   56    Male  B       120  ...      0.8      2   0     2       1\n",
              "4           4   57  Female  A       120  ...      0.6      2   0     2       1\n",
              "\n",
              "[5 rows x 15 columns]"
            ]
          },
          "metadata": {
            "tags": []
          },
          "execution_count": 2
        }
      ]
    },
    {
      "cell_type": "markdown",
      "metadata": {
        "id": "eDMTLmTzhufS",
        "colab_type": "text"
      },
      "source": [
        "# Basics and Data Preparation"
      ]
    },
    {
      "cell_type": "markdown",
      "metadata": {
        "id": "x7LH-U2KiMfO",
        "colab_type": "text"
      },
      "source": [
        "Define the following terms in your own words, do not simply copy and paste a definition found elsewhere but reword it to be understandable and memorable to you. *Double click the markdown to add your definitions.*\n",
        "<br/><br/>\n",
        "\n",
        "**Logistic Regression:** prediction model that is used on classification problems.\n",
        "\n",
        "**Imbalanced Classes:** disproportionate ratio of observations in each class; deal with it through stratification, or resampling.\n",
        "\n",
        "**Leakage:** the use of information in the model training process which would not be expected to be available at prediction time, causing the predictive scores (metrics) to overestimate the model's utility when run in a production environment\n",
        "\n",
        "**Categorical Encoding:**  change a features values from one category to another, usually going from category to numeric.\n",
        "\n",
        "**Skew:** the degree of distortion from a normal distribution.\n",
        "\n",
        "**Log Transformation:** `Your Answer Here`\n",
        "\n",
        "**Outliers:** an extreme value; a data value that is very different from most of the data;"
      ]
    },
    {
      "cell_type": "markdown",
      "metadata": {
        "id": "fCIXoJtDnXDZ",
        "colab_type": "text"
      },
      "source": [
        "Answer the following questions in plain english as much as possible.\n",
        "<br/><br/>\n",
        "\n",
        "What are some ways to deal with imbalanced classes?\n",
        "```\n",
        "I could deal with it through stratification, or directly resampling\n",
        "```\n",
        "\n",
        "What are some possible sources of data leakage?\n",
        "```\n",
        "if you leave your target vector in the trainset this would cause data leakage. Or if you have time dependent data and your training set contains dates from the future this might cause data leakage.\n",
        "```\n",
        "\n",
        "What are some indicators or methods for detecting data leakage?\n",
        "```\n",
        "if your training accuracy is very much higher than your validation accuracy that might indicate that you have some data leakage.\n",
        "```\n",
        "\n",
        "What is the relationship between skew and log transformation?\n",
        "```\n",
        "a log transform or any scaler transformation will adjust the distribution towards a normal distribution. \n",
        "```"
      ]
    },
    {
      "cell_type": "markdown",
      "metadata": {
        "id": "q2M6tTW02sJe",
        "colab_type": "text"
      },
      "source": [
        "Using the dataset above, complete the following:\n",
        "- Train/Test/Validation Split\n",
        "- Get a baseline\n",
        "- Perform EDA with visuals\n",
        "- Clean up any nulls, duplicate columns, or outliers you might find\n",
        "- Engineer at least 2 features\n",
        "- Use One Hot or Ordinal Encoding on one feature"
      ]
    },
    {
      "cell_type": "markdown",
      "metadata": {
        "id": "e0XWlqTE6kTG",
        "colab_type": "text"
      },
      "source": [
        "## Import Libraries and Modules\n"
      ]
    },
    {
      "cell_type": "code",
      "metadata": {
        "id": "vCqORbJ26jap",
        "colab_type": "code",
        "colab": {
          "base_uri": "https://localhost:8080/",
          "height": 72
        },
        "outputId": "7cef1052-355f-44b4-bf51-1faa04cec9d3"
      },
      "source": [
        "\n",
        "\n",
        "import matplotlib.pyplot as plt\n",
        "import numpy as np\n",
        "from pandas_profiling import ProfileReport\n",
        "import pandas as pd\n",
        "\n",
        "from pandas.plotting import scatter_matrix\n",
        "import seaborn as sns\n",
        "\n",
        "# special sauce for custom method :) \n",
        "from collections import namedtuple\n",
        "\n",
        "from sklearn.model_selection import train_test_split\n",
        "\n",
        "\n",
        "\n",
        "# ML models\n",
        "from sklearn.linear_model import LinearRegression # old reliable model, for continous\n",
        "from sklearn.linear_model import Ridge # RidgeRegression to guard against overfit\n",
        "from sklearn.linear_model import LogisticRegression # used to predict categorical vectors\n",
        "from sklearn.tree import DecisionTreeClassifier # decision Tree for classification problems\n",
        "\n",
        "from sklearn.ensemble import RandomForestClassifier # group of trees to guard against variance\n",
        "\n",
        "from sklearn.model_selection import GridSearchCV\n",
        "\n",
        "# Metric accessing functions\n",
        "from sklearn.metrics import mean_absolute_error, mean_squared_error, r2_score\n",
        "\n",
        "# Transformers\n",
        "import category_encoders as ce\n",
        "from category_encoders import OneHotEncoder # splits cat variable \n",
        "from category_encoders import OrdinalEncoder # encode cats into ordered numbers\n",
        "\n",
        "\n",
        "from sklearn.feature_selection import SelectKBest # selects highest correlating features\n",
        "from sklearn.impute import SimpleImputer\n",
        "\n",
        "# Lets us combine the steps for cleaner code\n",
        "from sklearn.pipeline import Pipeline\n",
        "from sklearn.pipeline import make_pipeline\n",
        "\n",
        "from sklearn.preprocessing import StandardScaler"
      ],
      "execution_count": 3,
      "outputs": [
        {
          "output_type": "stream",
          "text": [
            "/usr/local/lib/python3.6/dist-packages/statsmodels/tools/_testing.py:19: FutureWarning: pandas.util.testing is deprecated. Use the functions in the public API at pandas.testing instead.\n",
            "  import pandas.util.testing as tm\n"
          ],
          "name": "stderr"
        }
      ]
    },
    {
      "cell_type": "code",
      "metadata": {
        "id": "xrehfBeD4kun",
        "colab_type": "code",
        "colab": {}
      },
      "source": [
        ""
      ],
      "execution_count": 3,
      "outputs": []
    },
    {
      "cell_type": "markdown",
      "metadata": {
        "id": "dDm_d6Yz4oFi",
        "colab_type": "text"
      },
      "source": [
        "## Wrangle and EDA\n",
        "\n",
        "\n",
        "1.   Drop unnamed column\n",
        "2.   OHE - sex, cp\n",
        "3.   \n",
        "\n"
      ]
    },
    {
      "cell_type": "code",
      "metadata": {
        "id": "7hmVIVLXnRen",
        "colab_type": "code",
        "colab": {}
      },
      "source": [
        ""
      ],
      "execution_count": 3,
      "outputs": []
    },
    {
      "cell_type": "markdown",
      "metadata": {
        "id": "9FihQuOXgu14",
        "colab_type": "text"
      },
      "source": [
        "## Feature Engineering\n",
        "#### I might move this to the wrangle function\n",
        "\n",
        "* create age range category\n"
      ]
    },
    {
      "cell_type": "code",
      "metadata": {
        "id": "mQJyyCzOgrhE",
        "colab_type": "code",
        "colab": {}
      },
      "source": [
        "#29-35, 36-40, 41-45,46-50,51-55, 56-60, 65-70, 71-75, 76-80"
      ],
      "execution_count": 4,
      "outputs": []
    },
    {
      "cell_type": "code",
      "metadata": {
        "id": "IM1Bo4clgisG",
        "colab_type": "code",
        "colab": {}
      },
      "source": [
        "# age_cut_labels_9 = [\"29-35\", \"36-40\", \"41-45\",\"46-50\",\"51-55\", \"56-60\",\n",
        "#                     \"61-65\",\"66-70\", \"71-75\", \"76-80\"]\n",
        "# cut_bins = [0, 35, 40, 45, 50, 55, 60, 65, 70, 75, 80]\n",
        "\n",
        "# heartd_df[\"age_range\"] = pd.cut(heartd_df[\"age\"], bins=cut_bins,\n",
        "#                                 labels= age_cut_labels_9)"
      ],
      "execution_count": 5,
      "outputs": []
    },
    {
      "cell_type": "markdown",
      "metadata": {
        "id": "_YAWQDD650HY",
        "colab_type": "text"
      },
      "source": [
        "###Wrangle Function"
      ]
    },
    {
      "cell_type": "code",
      "metadata": {
        "id": "KHN1ZIY95yXb",
        "colab_type": "code",
        "colab": {}
      },
      "source": [
        "def wrangle_heart_df(df):\n",
        "  \n",
        "\n",
        "  #create age range category\n",
        "  age_cut_labels_9 = [\"29-35\", \"36-40\", \"41-45\",\"46-50\",\"51-55\", \"56-60\",\n",
        "                    \"61-65\",\"66-70\", \"71-75\", \"76-80\"]\n",
        "  cut_bins = [0, 35, 40, 45, 50, 55, 60, 65, 70, 75, 80]\n",
        "\n",
        "  df[\"age_range\"] = pd.cut(df[\"age\"], bins=cut_bins,\n",
        "                                labels= age_cut_labels_9)\n",
        "\n",
        "\n",
        "  #drop the useless column\n",
        "  df = df.drop(['Unnamed: 0', \"age\", \"fbs\"], axis=1)\n",
        "  \n",
        "  # encode the string columns\n",
        "  ohe = OneHotEncoder(use_cat_names=True)\n",
        "  df = ohe.fit_transform(df)\n",
        "  \n",
        "  return df"
      ],
      "execution_count": 6,
      "outputs": []
    },
    {
      "cell_type": "code",
      "metadata": {
        "id": "6Ca7qDgRAYSQ",
        "colab_type": "code",
        "colab": {}
      },
      "source": [
        "# Make a function to create Matrix and Target pre validation split\n",
        "def create_Xmatrix_ytarget(training_df):\n",
        "  y_target = training_df['target']\n",
        "  X_matrix = training_df.drop('target', axis=1)\n",
        "  return (X_matrix, y_target)"
      ],
      "execution_count": 7,
      "outputs": []
    },
    {
      "cell_type": "code",
      "metadata": {
        "id": "XZlA2iue6LFN",
        "colab_type": "code",
        "colab": {}
      },
      "source": [
        "heartd_df = df.copy()"
      ],
      "execution_count": 8,
      "outputs": []
    },
    {
      "cell_type": "code",
      "metadata": {
        "id": "gs1sQSms40yO",
        "colab_type": "code",
        "colab": {
          "base_uri": "https://localhost:8080/",
          "height": 69
        },
        "outputId": "fb951848-9d0d-40b6-c8ca-cb08be044185"
      },
      "source": [
        "heartd_df.columns"
      ],
      "execution_count": 9,
      "outputs": [
        {
          "output_type": "execute_result",
          "data": {
            "text/plain": [
              "Index(['Unnamed: 0', 'age', 'sex', 'cp', 'trestbps', 'chol', 'fbs', 'restecg',\n",
              "       'thalach', 'exang', 'oldpeak', 'slope', 'ca', 'thal', 'target'],\n",
              "      dtype='object')"
            ]
          },
          "metadata": {
            "tags": []
          },
          "execution_count": 9
        }
      ]
    },
    {
      "cell_type": "code",
      "metadata": {
        "id": "zJ5MZlCe43en",
        "colab_type": "code",
        "colab": {
          "base_uri": "https://localhost:8080/",
          "height": 198
        },
        "outputId": "5bf5961e-3033-450e-9202-b39c6dd39fe8"
      },
      "source": [
        "heartd_df.head()"
      ],
      "execution_count": 10,
      "outputs": [
        {
          "output_type": "execute_result",
          "data": {
            "text/html": [
              "<div>\n",
              "<style scoped>\n",
              "    .dataframe tbody tr th:only-of-type {\n",
              "        vertical-align: middle;\n",
              "    }\n",
              "\n",
              "    .dataframe tbody tr th {\n",
              "        vertical-align: top;\n",
              "    }\n",
              "\n",
              "    .dataframe thead th {\n",
              "        text-align: right;\n",
              "    }\n",
              "</style>\n",
              "<table border=\"1\" class=\"dataframe\">\n",
              "  <thead>\n",
              "    <tr style=\"text-align: right;\">\n",
              "      <th></th>\n",
              "      <th>Unnamed: 0</th>\n",
              "      <th>age</th>\n",
              "      <th>sex</th>\n",
              "      <th>cp</th>\n",
              "      <th>trestbps</th>\n",
              "      <th>chol</th>\n",
              "      <th>fbs</th>\n",
              "      <th>restecg</th>\n",
              "      <th>thalach</th>\n",
              "      <th>exang</th>\n",
              "      <th>oldpeak</th>\n",
              "      <th>slope</th>\n",
              "      <th>ca</th>\n",
              "      <th>thal</th>\n",
              "      <th>target</th>\n",
              "    </tr>\n",
              "  </thead>\n",
              "  <tbody>\n",
              "    <tr>\n",
              "      <th>0</th>\n",
              "      <td>0</td>\n",
              "      <td>63</td>\n",
              "      <td>Male</td>\n",
              "      <td>D</td>\n",
              "      <td>145</td>\n",
              "      <td>233</td>\n",
              "      <td>1</td>\n",
              "      <td>0</td>\n",
              "      <td>150</td>\n",
              "      <td>0</td>\n",
              "      <td>2.3</td>\n",
              "      <td>0</td>\n",
              "      <td>0</td>\n",
              "      <td>1</td>\n",
              "      <td>1</td>\n",
              "    </tr>\n",
              "    <tr>\n",
              "      <th>1</th>\n",
              "      <td>1</td>\n",
              "      <td>37</td>\n",
              "      <td>Male</td>\n",
              "      <td>C</td>\n",
              "      <td>130</td>\n",
              "      <td>250</td>\n",
              "      <td>0</td>\n",
              "      <td>1</td>\n",
              "      <td>187</td>\n",
              "      <td>0</td>\n",
              "      <td>3.5</td>\n",
              "      <td>0</td>\n",
              "      <td>0</td>\n",
              "      <td>2</td>\n",
              "      <td>1</td>\n",
              "    </tr>\n",
              "    <tr>\n",
              "      <th>2</th>\n",
              "      <td>2</td>\n",
              "      <td>41</td>\n",
              "      <td>Female</td>\n",
              "      <td>B</td>\n",
              "      <td>130</td>\n",
              "      <td>204</td>\n",
              "      <td>0</td>\n",
              "      <td>0</td>\n",
              "      <td>172</td>\n",
              "      <td>0</td>\n",
              "      <td>1.4</td>\n",
              "      <td>2</td>\n",
              "      <td>0</td>\n",
              "      <td>2</td>\n",
              "      <td>1</td>\n",
              "    </tr>\n",
              "    <tr>\n",
              "      <th>3</th>\n",
              "      <td>3</td>\n",
              "      <td>56</td>\n",
              "      <td>Male</td>\n",
              "      <td>B</td>\n",
              "      <td>120</td>\n",
              "      <td>236</td>\n",
              "      <td>0</td>\n",
              "      <td>1</td>\n",
              "      <td>178</td>\n",
              "      <td>0</td>\n",
              "      <td>0.8</td>\n",
              "      <td>2</td>\n",
              "      <td>0</td>\n",
              "      <td>2</td>\n",
              "      <td>1</td>\n",
              "    </tr>\n",
              "    <tr>\n",
              "      <th>4</th>\n",
              "      <td>4</td>\n",
              "      <td>57</td>\n",
              "      <td>Female</td>\n",
              "      <td>A</td>\n",
              "      <td>120</td>\n",
              "      <td>354</td>\n",
              "      <td>0</td>\n",
              "      <td>1</td>\n",
              "      <td>163</td>\n",
              "      <td>1</td>\n",
              "      <td>0.6</td>\n",
              "      <td>2</td>\n",
              "      <td>0</td>\n",
              "      <td>2</td>\n",
              "      <td>1</td>\n",
              "    </tr>\n",
              "  </tbody>\n",
              "</table>\n",
              "</div>"
            ],
            "text/plain": [
              "   Unnamed: 0  age     sex cp  trestbps  ...  oldpeak  slope  ca  thal  target\n",
              "0           0   63    Male  D       145  ...      2.3      0   0     1       1\n",
              "1           1   37    Male  C       130  ...      3.5      0   0     2       1\n",
              "2           2   41  Female  B       130  ...      1.4      2   0     2       1\n",
              "3           3   56    Male  B       120  ...      0.8      2   0     2       1\n",
              "4           4   57  Female  A       120  ...      0.6      2   0     2       1\n",
              "\n",
              "[5 rows x 15 columns]"
            ]
          },
          "metadata": {
            "tags": []
          },
          "execution_count": 10
        }
      ]
    },
    {
      "cell_type": "code",
      "metadata": {
        "id": "XBWPTevD5Wj7",
        "colab_type": "code",
        "colab": {
          "base_uri": "https://localhost:8080/",
          "height": 397
        },
        "outputId": "92539471-8e5b-42c1-f9a3-bf184f30aac4"
      },
      "source": [
        "heartd_df.info()"
      ],
      "execution_count": 11,
      "outputs": [
        {
          "output_type": "stream",
          "text": [
            "<class 'pandas.core.frame.DataFrame'>\n",
            "RangeIndex: 303 entries, 0 to 302\n",
            "Data columns (total 15 columns):\n",
            " #   Column      Non-Null Count  Dtype  \n",
            "---  ------      --------------  -----  \n",
            " 0   Unnamed: 0  303 non-null    int64  \n",
            " 1   age         303 non-null    int64  \n",
            " 2   sex         303 non-null    object \n",
            " 3   cp          303 non-null    object \n",
            " 4   trestbps    303 non-null    int64  \n",
            " 5   chol        303 non-null    int64  \n",
            " 6   fbs         303 non-null    int64  \n",
            " 7   restecg     303 non-null    int64  \n",
            " 8   thalach     303 non-null    int64  \n",
            " 9   exang       303 non-null    int64  \n",
            " 10  oldpeak     303 non-null    float64\n",
            " 11  slope       303 non-null    int64  \n",
            " 12  ca          303 non-null    int64  \n",
            " 13  thal        303 non-null    int64  \n",
            " 14  target      303 non-null    int64  \n",
            "dtypes: float64(1), int64(12), object(2)\n",
            "memory usage: 35.6+ KB\n"
          ],
          "name": "stdout"
        }
      ]
    },
    {
      "cell_type": "code",
      "metadata": {
        "id": "aUU1y_vW5sxA",
        "colab_type": "code",
        "colab": {
          "base_uri": "https://localhost:8080/",
          "height": 35
        },
        "outputId": "aa1bcbd9-6838-4333-8ac6-8c0ab30e4e6c"
      },
      "source": [
        "heartd_df.shape"
      ],
      "execution_count": 12,
      "outputs": [
        {
          "output_type": "execute_result",
          "data": {
            "text/plain": [
              "(303, 15)"
            ]
          },
          "metadata": {
            "tags": []
          },
          "execution_count": 12
        }
      ]
    },
    {
      "cell_type": "code",
      "metadata": {
        "id": "my_0KjQ_srXS",
        "colab_type": "code",
        "colab": {}
      },
      "source": [
        "# plt.figure(figsize=(8,8))\n",
        "# sns.scatterplot(x=heartd_df['age'], y=heartd_df['thalach'],hue=heartd_df['target'])\n",
        "# plt.xlabel('age')\n",
        "# plt.ylabel('thalach')"
      ],
      "execution_count": 13,
      "outputs": []
    },
    {
      "cell_type": "code",
      "metadata": {
        "id": "xQPLTQng_Mw6",
        "colab_type": "code",
        "colab": {
          "base_uri": "https://localhost:8080/",
          "height": 35
        },
        "outputId": "abacbca8-6835-4696-a000-0e69aceb3b4b"
      },
      "source": [
        "heartd_df = wrangle_heart_df(heartd_df)\n",
        "heartd_df.shape"
      ],
      "execution_count": 14,
      "outputs": [
        {
          "output_type": "execute_result",
          "data": {
            "text/plain": [
              "(303, 26)"
            ]
          },
          "metadata": {
            "tags": []
          },
          "execution_count": 14
        }
      ]
    },
    {
      "cell_type": "code",
      "metadata": {
        "id": "qCnbDtu2_ZYJ",
        "colab_type": "code",
        "colab": {
          "base_uri": "https://localhost:8080/",
          "height": 235
        },
        "outputId": "52df8977-6ad8-4ea5-9ba1-9650148a9e0b"
      },
      "source": [
        "heartd_df.head()"
      ],
      "execution_count": 15,
      "outputs": [
        {
          "output_type": "execute_result",
          "data": {
            "text/html": [
              "<div>\n",
              "<style scoped>\n",
              "    .dataframe tbody tr th:only-of-type {\n",
              "        vertical-align: middle;\n",
              "    }\n",
              "\n",
              "    .dataframe tbody tr th {\n",
              "        vertical-align: top;\n",
              "    }\n",
              "\n",
              "    .dataframe thead th {\n",
              "        text-align: right;\n",
              "    }\n",
              "</style>\n",
              "<table border=\"1\" class=\"dataframe\">\n",
              "  <thead>\n",
              "    <tr style=\"text-align: right;\">\n",
              "      <th></th>\n",
              "      <th>sex_Male</th>\n",
              "      <th>sex_Female</th>\n",
              "      <th>cp_D</th>\n",
              "      <th>cp_C</th>\n",
              "      <th>cp_B</th>\n",
              "      <th>cp_A</th>\n",
              "      <th>trestbps</th>\n",
              "      <th>chol</th>\n",
              "      <th>restecg</th>\n",
              "      <th>thalach</th>\n",
              "      <th>exang</th>\n",
              "      <th>oldpeak</th>\n",
              "      <th>slope</th>\n",
              "      <th>ca</th>\n",
              "      <th>thal</th>\n",
              "      <th>target</th>\n",
              "      <th>age_range_29-35</th>\n",
              "      <th>age_range_36-40</th>\n",
              "      <th>age_range_41-45</th>\n",
              "      <th>age_range_46-50</th>\n",
              "      <th>age_range_51-55</th>\n",
              "      <th>age_range_56-60</th>\n",
              "      <th>age_range_61-65</th>\n",
              "      <th>age_range_66-70</th>\n",
              "      <th>age_range_71-75</th>\n",
              "      <th>age_range_76-80</th>\n",
              "    </tr>\n",
              "  </thead>\n",
              "  <tbody>\n",
              "    <tr>\n",
              "      <th>0</th>\n",
              "      <td>1</td>\n",
              "      <td>0</td>\n",
              "      <td>1</td>\n",
              "      <td>0</td>\n",
              "      <td>0</td>\n",
              "      <td>0</td>\n",
              "      <td>145</td>\n",
              "      <td>233</td>\n",
              "      <td>0</td>\n",
              "      <td>150</td>\n",
              "      <td>0</td>\n",
              "      <td>2.3</td>\n",
              "      <td>0</td>\n",
              "      <td>0</td>\n",
              "      <td>1</td>\n",
              "      <td>1</td>\n",
              "      <td>0</td>\n",
              "      <td>0</td>\n",
              "      <td>0</td>\n",
              "      <td>0</td>\n",
              "      <td>0</td>\n",
              "      <td>0</td>\n",
              "      <td>1</td>\n",
              "      <td>0</td>\n",
              "      <td>0</td>\n",
              "      <td>0</td>\n",
              "    </tr>\n",
              "    <tr>\n",
              "      <th>1</th>\n",
              "      <td>1</td>\n",
              "      <td>0</td>\n",
              "      <td>0</td>\n",
              "      <td>1</td>\n",
              "      <td>0</td>\n",
              "      <td>0</td>\n",
              "      <td>130</td>\n",
              "      <td>250</td>\n",
              "      <td>1</td>\n",
              "      <td>187</td>\n",
              "      <td>0</td>\n",
              "      <td>3.5</td>\n",
              "      <td>0</td>\n",
              "      <td>0</td>\n",
              "      <td>2</td>\n",
              "      <td>1</td>\n",
              "      <td>0</td>\n",
              "      <td>1</td>\n",
              "      <td>0</td>\n",
              "      <td>0</td>\n",
              "      <td>0</td>\n",
              "      <td>0</td>\n",
              "      <td>0</td>\n",
              "      <td>0</td>\n",
              "      <td>0</td>\n",
              "      <td>0</td>\n",
              "    </tr>\n",
              "    <tr>\n",
              "      <th>2</th>\n",
              "      <td>0</td>\n",
              "      <td>1</td>\n",
              "      <td>0</td>\n",
              "      <td>0</td>\n",
              "      <td>1</td>\n",
              "      <td>0</td>\n",
              "      <td>130</td>\n",
              "      <td>204</td>\n",
              "      <td>0</td>\n",
              "      <td>172</td>\n",
              "      <td>0</td>\n",
              "      <td>1.4</td>\n",
              "      <td>2</td>\n",
              "      <td>0</td>\n",
              "      <td>2</td>\n",
              "      <td>1</td>\n",
              "      <td>0</td>\n",
              "      <td>0</td>\n",
              "      <td>1</td>\n",
              "      <td>0</td>\n",
              "      <td>0</td>\n",
              "      <td>0</td>\n",
              "      <td>0</td>\n",
              "      <td>0</td>\n",
              "      <td>0</td>\n",
              "      <td>0</td>\n",
              "    </tr>\n",
              "    <tr>\n",
              "      <th>3</th>\n",
              "      <td>1</td>\n",
              "      <td>0</td>\n",
              "      <td>0</td>\n",
              "      <td>0</td>\n",
              "      <td>1</td>\n",
              "      <td>0</td>\n",
              "      <td>120</td>\n",
              "      <td>236</td>\n",
              "      <td>1</td>\n",
              "      <td>178</td>\n",
              "      <td>0</td>\n",
              "      <td>0.8</td>\n",
              "      <td>2</td>\n",
              "      <td>0</td>\n",
              "      <td>2</td>\n",
              "      <td>1</td>\n",
              "      <td>0</td>\n",
              "      <td>0</td>\n",
              "      <td>0</td>\n",
              "      <td>0</td>\n",
              "      <td>0</td>\n",
              "      <td>1</td>\n",
              "      <td>0</td>\n",
              "      <td>0</td>\n",
              "      <td>0</td>\n",
              "      <td>0</td>\n",
              "    </tr>\n",
              "    <tr>\n",
              "      <th>4</th>\n",
              "      <td>0</td>\n",
              "      <td>1</td>\n",
              "      <td>0</td>\n",
              "      <td>0</td>\n",
              "      <td>0</td>\n",
              "      <td>1</td>\n",
              "      <td>120</td>\n",
              "      <td>354</td>\n",
              "      <td>1</td>\n",
              "      <td>163</td>\n",
              "      <td>1</td>\n",
              "      <td>0.6</td>\n",
              "      <td>2</td>\n",
              "      <td>0</td>\n",
              "      <td>2</td>\n",
              "      <td>1</td>\n",
              "      <td>0</td>\n",
              "      <td>0</td>\n",
              "      <td>0</td>\n",
              "      <td>0</td>\n",
              "      <td>0</td>\n",
              "      <td>1</td>\n",
              "      <td>0</td>\n",
              "      <td>0</td>\n",
              "      <td>0</td>\n",
              "      <td>0</td>\n",
              "    </tr>\n",
              "  </tbody>\n",
              "</table>\n",
              "</div>"
            ],
            "text/plain": [
              "   sex_Male  sex_Female  ...  age_range_71-75  age_range_76-80\n",
              "0         1           0  ...                0                0\n",
              "1         1           0  ...                0                0\n",
              "2         0           1  ...                0                0\n",
              "3         1           0  ...                0                0\n",
              "4         0           1  ...                0                0\n",
              "\n",
              "[5 rows x 26 columns]"
            ]
          },
          "metadata": {
            "tags": []
          },
          "execution_count": 15
        }
      ]
    },
    {
      "cell_type": "code",
      "metadata": {
        "id": "r66t0FIEr3NH",
        "colab_type": "code",
        "colab": {}
      },
      "source": [
        ""
      ],
      "execution_count": 15,
      "outputs": []
    },
    {
      "cell_type": "code",
      "metadata": {
        "id": "dOZ9tzCjC1LM",
        "colab_type": "code",
        "colab": {}
      },
      "source": [
        "corr_matrix= heartd_df.corr()"
      ],
      "execution_count": 16,
      "outputs": []
    },
    {
      "cell_type": "code",
      "metadata": {
        "id": "bdJQ3VijDjWk",
        "colab_type": "code",
        "colab": {
          "base_uri": "https://localhost:8080/",
          "height": 484
        },
        "outputId": "cc858c12-7762-4fb7-f5e4-2509fc1eabea"
      },
      "source": [
        "corr_matrix[\"target\"].sort_values(ascending=False)"
      ],
      "execution_count": 17,
      "outputs": [
        {
          "output_type": "execute_result",
          "data": {
            "text/plain": [
              "target             1.000000\n",
              "thalach            0.421741\n",
              "slope              0.345877\n",
              "cp_C               0.316742\n",
              "sex_Female         0.280937\n",
              "cp_B               0.245879\n",
              "age_range_41-45    0.195582\n",
              "restecg            0.137230\n",
              "age_range_71-75    0.105777\n",
              "age_range_51-55    0.101072\n",
              "cp_D               0.086957\n",
              "age_range_29-35    0.052411\n",
              "age_range_36-40    0.049793\n",
              "age_range_46-50    0.024465\n",
              "age_range_76-80   -0.007293\n",
              "age_range_66-70   -0.062873\n",
              "chol              -0.085239\n",
              "age_range_61-65   -0.130189\n",
              "trestbps          -0.144931\n",
              "age_range_56-60   -0.190077\n",
              "sex_Male          -0.280937\n",
              "thal              -0.344029\n",
              "ca                -0.391724\n",
              "oldpeak           -0.430696\n",
              "exang             -0.436757\n",
              "cp_A              -0.516015\n",
              "Name: target, dtype: float64"
            ]
          },
          "metadata": {
            "tags": []
          },
          "execution_count": 17
        }
      ]
    },
    {
      "cell_type": "code",
      "metadata": {
        "id": "AEGOW2jmFM_-",
        "colab_type": "code",
        "colab": {
          "base_uri": "https://localhost:8080/",
          "height": 359
        },
        "outputId": "aad7235c-ad1f-48fe-8b8a-9f58c6ad990b"
      },
      "source": [
        "%matplotlib inline\n",
        "corr_matrix.target.sort_values().plot.bar()\n"
      ],
      "execution_count": 18,
      "outputs": [
        {
          "output_type": "execute_result",
          "data": {
            "text/plain": [
              "<matplotlib.axes._subplots.AxesSubplot at 0x7fd1ea3155f8>"
            ]
          },
          "metadata": {
            "tags": []
          },
          "execution_count": 18
        },
        {
          "output_type": "display_data",
          "data": {
            "image/png": "[encoded data removed]",
            "text/plain": [
              "<Figure size 432x288 with 1 Axes>"
            ]
          },
          "metadata": {
            "tags": [],
            "needs_background": "light"
          }
        }
      ]
    },
    {
      "cell_type": "code",
      "metadata": {
        "id": "dPOmdLt55mj6",
        "colab_type": "code",
        "colab": {}
      },
      "source": [
        ""
      ],
      "execution_count": 18,
      "outputs": []
    },
    {
      "cell_type": "code",
      "metadata": {
        "id": "GIPyxeoGFbhG",
        "colab_type": "code",
        "colab": {
          "base_uri": "https://localhost:8080/",
          "height": 765
        },
        "outputId": "65ff3fdc-2891-4628-8d62-3cf6c049e0f8"
      },
      "source": [
        "sns.set(style=\"ticks\")\n",
        "\n",
        "attributes = [\"target\", \"thalach\", \"slope\", \"cp_C\", \"sex_Female\"]\n",
        "\n",
        "sns.pairplot(heartd_df[attributes], hue=\"target\")\n",
        "\n"
      ],
      "execution_count": 19,
      "outputs": [
        {
          "output_type": "execute_result",
          "data": {
            "text/plain": [
              "<seaborn.axisgrid.PairGrid at 0x7fd1ea1df898>"
            ]
          },
          "metadata": {
            "tags": []
          },
          "execution_count": 19
        },
        {
          "output_type": "display_data",
          "data": {
            "image/png": "[encoded data removed]",
            "text/plain": [
              "<Figure size 766.6x720 with 20 Axes>"
            ]
          },
          "metadata": {
            "tags": []
          }
        }
      ]
    },
    {
      "cell_type": "code",
      "metadata": {
        "id": "qq_oJM3LfKe4",
        "colab_type": "code",
        "colab": {
          "base_uri": "https://localhost:8080/",
          "height": 509
        },
        "outputId": "ded4eb23-32ab-4760-f8ea-7e8772970973"
      },
      "source": [
        "scatter_matrix(heartd_df[attributes], figsize=(12,8))\n",
        "plt.show()"
      ],
      "execution_count": 20,
      "outputs": [
        {
          "output_type": "display_data",
          "data": {
            "image/png": "[encoded data removed]",
            "text/plain": [
              "<Figure size 864x576 with 25 Axes>"
            ]
          },
          "metadata": {
            "tags": []
          }
        }
      ]
    },
    {
      "cell_type": "code",
      "metadata": {
        "id": "zmURs-HYfPDh",
        "colab_type": "code",
        "colab": {}
      },
      "source": [
        ""
      ],
      "execution_count": 20,
      "outputs": []
    },
    {
      "cell_type": "code",
      "metadata": {
        "id": "x8llfpe_OBFn",
        "colab_type": "code",
        "colab": {}
      },
      "source": [
        ""
      ],
      "execution_count": 20,
      "outputs": []
    },
    {
      "cell_type": "code",
      "metadata": {
        "id": "inZRxOqXgcl3",
        "colab_type": "code",
        "colab": {
          "base_uri": "https://localhost:8080/",
          "height": 145
        },
        "outputId": "3ecf2e41-325c-4da4-8ef3-10b502eae75f"
      },
      "source": [
        "heartd_df.head(2)"
      ],
      "execution_count": 21,
      "outputs": [
        {
          "output_type": "execute_result",
          "data": {
            "text/html": [
              "<div>\n",
              "<style scoped>\n",
              "    .dataframe tbody tr th:only-of-type {\n",
              "        vertical-align: middle;\n",
              "    }\n",
              "\n",
              "    .dataframe tbody tr th {\n",
              "        vertical-align: top;\n",
              "    }\n",
              "\n",
              "    .dataframe thead th {\n",
              "        text-align: right;\n",
              "    }\n",
              "</style>\n",
              "<table border=\"1\" class=\"dataframe\">\n",
              "  <thead>\n",
              "    <tr style=\"text-align: right;\">\n",
              "      <th></th>\n",
              "      <th>sex_Male</th>\n",
              "      <th>sex_Female</th>\n",
              "      <th>cp_D</th>\n",
              "      <th>cp_C</th>\n",
              "      <th>cp_B</th>\n",
              "      <th>cp_A</th>\n",
              "      <th>trestbps</th>\n",
              "      <th>chol</th>\n",
              "      <th>restecg</th>\n",
              "      <th>thalach</th>\n",
              "      <th>exang</th>\n",
              "      <th>oldpeak</th>\n",
              "      <th>slope</th>\n",
              "      <th>ca</th>\n",
              "      <th>thal</th>\n",
              "      <th>target</th>\n",
              "      <th>age_range_29-35</th>\n",
              "      <th>age_range_36-40</th>\n",
              "      <th>age_range_41-45</th>\n",
              "      <th>age_range_46-50</th>\n",
              "      <th>age_range_51-55</th>\n",
              "      <th>age_range_56-60</th>\n",
              "      <th>age_range_61-65</th>\n",
              "      <th>age_range_66-70</th>\n",
              "      <th>age_range_71-75</th>\n",
              "      <th>age_range_76-80</th>\n",
              "    </tr>\n",
              "  </thead>\n",
              "  <tbody>\n",
              "    <tr>\n",
              "      <th>0</th>\n",
              "      <td>1</td>\n",
              "      <td>0</td>\n",
              "      <td>1</td>\n",
              "      <td>0</td>\n",
              "      <td>0</td>\n",
              "      <td>0</td>\n",
              "      <td>145</td>\n",
              "      <td>233</td>\n",
              "      <td>0</td>\n",
              "      <td>150</td>\n",
              "      <td>0</td>\n",
              "      <td>2.3</td>\n",
              "      <td>0</td>\n",
              "      <td>0</td>\n",
              "      <td>1</td>\n",
              "      <td>1</td>\n",
              "      <td>0</td>\n",
              "      <td>0</td>\n",
              "      <td>0</td>\n",
              "      <td>0</td>\n",
              "      <td>0</td>\n",
              "      <td>0</td>\n",
              "      <td>1</td>\n",
              "      <td>0</td>\n",
              "      <td>0</td>\n",
              "      <td>0</td>\n",
              "    </tr>\n",
              "    <tr>\n",
              "      <th>1</th>\n",
              "      <td>1</td>\n",
              "      <td>0</td>\n",
              "      <td>0</td>\n",
              "      <td>1</td>\n",
              "      <td>0</td>\n",
              "      <td>0</td>\n",
              "      <td>130</td>\n",
              "      <td>250</td>\n",
              "      <td>1</td>\n",
              "      <td>187</td>\n",
              "      <td>0</td>\n",
              "      <td>3.5</td>\n",
              "      <td>0</td>\n",
              "      <td>0</td>\n",
              "      <td>2</td>\n",
              "      <td>1</td>\n",
              "      <td>0</td>\n",
              "      <td>1</td>\n",
              "      <td>0</td>\n",
              "      <td>0</td>\n",
              "      <td>0</td>\n",
              "      <td>0</td>\n",
              "      <td>0</td>\n",
              "      <td>0</td>\n",
              "      <td>0</td>\n",
              "      <td>0</td>\n",
              "    </tr>\n",
              "  </tbody>\n",
              "</table>\n",
              "</div>"
            ],
            "text/plain": [
              "   sex_Male  sex_Female  ...  age_range_71-75  age_range_76-80\n",
              "0         1           0  ...                0                0\n",
              "1         1           0  ...                0                0\n",
              "\n",
              "[2 rows x 26 columns]"
            ]
          },
          "metadata": {
            "tags": []
          },
          "execution_count": 21
        }
      ]
    },
    {
      "cell_type": "code",
      "metadata": {
        "id": "XH3T4DbRjbwk",
        "colab_type": "code",
        "colab": {}
      },
      "source": [
        ""
      ],
      "execution_count": 21,
      "outputs": []
    },
    {
      "cell_type": "code",
      "metadata": {
        "id": "kT-PJDpmgV9g",
        "colab_type": "code",
        "colab": {}
      },
      "source": [
        ""
      ],
      "execution_count": 21,
      "outputs": []
    },
    {
      "cell_type": "code",
      "metadata": {
        "id": "3ZlizkzbgEZq",
        "colab_type": "code",
        "colab": {}
      },
      "source": [
        ""
      ],
      "execution_count": 21,
      "outputs": []
    },
    {
      "cell_type": "code",
      "metadata": {
        "id": "tMC3fUJkeWLh",
        "colab_type": "code",
        "colab": {}
      },
      "source": [
        ""
      ],
      "execution_count": 21,
      "outputs": []
    },
    {
      "cell_type": "code",
      "metadata": {
        "id": "U3Pozl-4eAPU",
        "colab_type": "code",
        "colab": {}
      },
      "source": [
        ""
      ],
      "execution_count": 21,
      "outputs": []
    },
    {
      "cell_type": "markdown",
      "metadata": {
        "id": "V690tXwhck3a",
        "colab_type": "text"
      },
      "source": [
        ""
      ]
    },
    {
      "cell_type": "markdown",
      "metadata": {
        "id": "1m6u6csWv2gL",
        "colab_type": "text"
      },
      "source": [
        "### Get a Baseline Metric \n",
        "## For Classification will take the Majority Classifier (Accuracy)\n"
      ]
    },
    {
      "cell_type": "code",
      "metadata": {
        "id": "o-XtEvB_F1SZ",
        "colab_type": "code",
        "colab": {
          "base_uri": "https://localhost:8080/",
          "height": 69
        },
        "outputId": "a3d46408-d9d5-40b5-c483-8121ba111400"
      },
      "source": [
        "heartd_df['target'].value_counts(normalize=True)"
      ],
      "execution_count": 22,
      "outputs": [
        {
          "output_type": "execute_result",
          "data": {
            "text/plain": [
              "1    0.544554\n",
              "0    0.455446\n",
              "Name: target, dtype: float64"
            ]
          },
          "metadata": {
            "tags": []
          },
          "execution_count": 22
        }
      ]
    },
    {
      "cell_type": "markdown",
      "metadata": {
        "id": "ZNjIjJrcwU8v",
        "colab_type": "text"
      },
      "source": [
        "### Create X_Matrix(Feature) and y_target \n"
      ]
    },
    {
      "cell_type": "code",
      "metadata": {
        "id": "Bbll9bR-daik",
        "colab_type": "code",
        "colab": {}
      },
      "source": [
        "X_matrix, y_target = create_Xmatrix_ytarget(heartd_df)"
      ],
      "execution_count": 23,
      "outputs": []
    },
    {
      "cell_type": "code",
      "metadata": {
        "id": "PrNH2ernwwLO",
        "colab_type": "code",
        "colab": {
          "base_uri": "https://localhost:8080/",
          "height": 52
        },
        "outputId": "9bd202ee-8852-4bd2-a481-aef5fe7d7dce"
      },
      "source": [
        "print(X_matrix.shape)\n",
        "print(y_target.shape)"
      ],
      "execution_count": 24,
      "outputs": [
        {
          "output_type": "stream",
          "text": [
            "(303, 25)\n",
            "(303,)\n"
          ],
          "name": "stdout"
        }
      ]
    },
    {
      "cell_type": "code",
      "metadata": {
        "id": "zVX16rTTw6fq",
        "colab_type": "code",
        "colab": {}
      },
      "source": [
        ""
      ],
      "execution_count": 24,
      "outputs": []
    },
    {
      "cell_type": "markdown",
      "metadata": {
        "id": "ekDa0p0YwHtO",
        "colab_type": "text"
      },
      "source": [
        "### Train Val Test split"
      ]
    },
    {
      "cell_type": "code",
      "metadata": {
        "id": "Ls601tJ9FI_P",
        "colab_type": "code",
        "colab": {}
      },
      "source": [
        "X_train_temp, X_test, y_train_temp, y_test = train_test_split(\n",
        "    X_matrix, y_target, train_size=0.80, test_size=0.20, random_state=42)"
      ],
      "execution_count": 25,
      "outputs": []
    },
    {
      "cell_type": "code",
      "metadata": {
        "id": "QRHFFoM3E-lo",
        "colab_type": "code",
        "colab": {
          "base_uri": "https://localhost:8080/",
          "height": 86
        },
        "outputId": "d43c7202-3141-4442-f979-e53b8e26fb04"
      },
      "source": [
        "print(X_train_temp.shape)\n",
        "print(y_train_temp.shape)\n",
        "print(X_test.shape)\n",
        "print(y_test.shape)"
      ],
      "execution_count": 26,
      "outputs": [
        {
          "output_type": "stream",
          "text": [
            "(242, 25)\n",
            "(242,)\n",
            "(61, 25)\n",
            "(61,)\n"
          ],
          "name": "stdout"
        }
      ]
    },
    {
      "cell_type": "code",
      "metadata": {
        "id": "2bxcEiLexWD2",
        "colab_type": "code",
        "colab": {}
      },
      "source": [
        "X_train, X_val, y_train, y_val = train_test_split(\n",
        "    X_train_temp, y_train_temp, train_size=0.80, test_size=0.20, random_state=42)"
      ],
      "execution_count": 27,
      "outputs": []
    },
    {
      "cell_type": "code",
      "metadata": {
        "id": "dFYN2h6iE5LI",
        "colab_type": "code",
        "colab": {
          "base_uri": "https://localhost:8080/",
          "height": 121
        },
        "outputId": "4bd7246c-a447-4b50-ba05-37f5fad35be5"
      },
      "source": [
        "print(X_train.shape)\n",
        "print(y_train.shape)\n",
        "print(X_val.shape)\n",
        "print(y_val.shape)\n",
        "print(X_test.shape)\n",
        "print(y_test.shape)"
      ],
      "execution_count": 28,
      "outputs": [
        {
          "output_type": "stream",
          "text": [
            "(193, 25)\n",
            "(193,)\n",
            "(49, 25)\n",
            "(49,)\n",
            "(61, 25)\n",
            "(61,)\n"
          ],
          "name": "stdout"
        }
      ]
    },
    {
      "cell_type": "code",
      "metadata": {
        "id": "B87j1oAxEkCD",
        "colab_type": "code",
        "colab": {
          "base_uri": "https://localhost:8080/",
          "height": 570
        },
        "outputId": "f311e316-6cd8-4424-fa2a-0494d43f94f6"
      },
      "source": [
        "X_matrix.info()"
      ],
      "execution_count": 29,
      "outputs": [
        {
          "output_type": "stream",
          "text": [
            "<class 'pandas.core.frame.DataFrame'>\n",
            "RangeIndex: 303 entries, 0 to 302\n",
            "Data columns (total 25 columns):\n",
            " #   Column           Non-Null Count  Dtype  \n",
            "---  ------           --------------  -----  \n",
            " 0   sex_Male         303 non-null    int64  \n",
            " 1   sex_Female       303 non-null    int64  \n",
            " 2   cp_D             303 non-null    int64  \n",
            " 3   cp_C             303 non-null    int64  \n",
            " 4   cp_B             303 non-null    int64  \n",
            " 5   cp_A             303 non-null    int64  \n",
            " 6   trestbps         303 non-null    int64  \n",
            " 7   chol             303 non-null    int64  \n",
            " 8   restecg          303 non-null    int64  \n",
            " 9   thalach          303 non-null    int64  \n",
            " 10  exang            303 non-null    int64  \n",
            " 11  oldpeak          303 non-null    float64\n",
            " 12  slope            303 non-null    int64  \n",
            " 13  ca               303 non-null    int64  \n",
            " 14  thal             303 non-null    int64  \n",
            " 15  age_range_29-35  303 non-null    int64  \n",
            " 16  age_range_36-40  303 non-null    int64  \n",
            " 17  age_range_41-45  303 non-null    int64  \n",
            " 18  age_range_46-50  303 non-null    int64  \n",
            " 19  age_range_51-55  303 non-null    int64  \n",
            " 20  age_range_56-60  303 non-null    int64  \n",
            " 21  age_range_61-65  303 non-null    int64  \n",
            " 22  age_range_66-70  303 non-null    int64  \n",
            " 23  age_range_71-75  303 non-null    int64  \n",
            " 24  age_range_76-80  303 non-null    int64  \n",
            "dtypes: float64(1), int64(24)\n",
            "memory usage: 59.3 KB\n"
          ],
          "name": "stdout"
        }
      ]
    },
    {
      "cell_type": "code",
      "metadata": {
        "id": "xMzrrU8Q3Lo-",
        "colab_type": "code",
        "colab": {}
      },
      "source": [
        ""
      ],
      "execution_count": 29,
      "outputs": []
    },
    {
      "cell_type": "code",
      "metadata": {
        "id": "SsZeFlA53JUX",
        "colab_type": "code",
        "colab": {}
      },
      "source": [
        ""
      ],
      "execution_count": 29,
      "outputs": []
    },
    {
      "cell_type": "markdown",
      "metadata": {
        "id": "14JotyiJ8RjD",
        "colab_type": "text"
      },
      "source": [
        "# Model Building"
      ]
    },
    {
      "cell_type": "markdown",
      "metadata": {
        "id": "dhEv3JQ78TdH",
        "colab_type": "text"
      },
      "source": [
        "Define the following terms in your own words, do not simply copy and paste a definition found elsewhere but reword it to be understandable and memorable to you. *Double click the markdown to add your definitions.*\n",
        "<br/><br/>\n",
        "\n",
        "**Decision Tree:** predictive model capable of finding complex nonlinear relationship in data\n",
        "\n",
        "**Ensemble Methods (Ensemble Models):** `a group of model that may perform better than an individual model, because the models in the ensemble make different errors`\n",
        "\n",
        "**Gradient Descent:** `an optimization algorithm used to minimize some function by iteratively moving in the direction of steepest descent as defined by the negative of the gradient. In machine learning, we use gradient descent to update the parameters of our model.`\n",
        "\n",
        "**Bagging:** `a model averaging approach.  the goal is to reduce `\n",
        "\n",
        "**Boosting:** `Your Answer Here`\n",
        "\n",
        "**Hyperparameters:** `Parameters that are not provided by the data. They are provided by the engineer.  In my opinion they are simulating domain knowledge`"
      ]
    },
    {
      "cell_type": "markdown",
      "metadata": {
        "id": "Bl8D-WwF8W8l",
        "colab_type": "text"
      },
      "source": [
        "Build a random forest classifier using the dataset you cleaned and prepped above."
      ]
    },
    {
      "cell_type": "code",
      "metadata": {
        "id": "GywSrB1-2jDM",
        "colab_type": "code",
        "colab": {}
      },
      "source": [
        "ran_forest_01 = make_pipeline(\n",
        "    OneHotEncoder(),\n",
        "    RandomForestClassifier(max_depth=3,\n",
        "                           min_samples_split=12)\n",
        "    )"
      ],
      "execution_count": 30,
      "outputs": []
    },
    {
      "cell_type": "code",
      "metadata": {
        "id": "T1dTbiC78g7r",
        "colab_type": "code",
        "colab": {
          "base_uri": "https://localhost:8080/",
          "height": 363
        },
        "outputId": "ced0439b-7ed4-4325-ccd2-355adf1cf0ce"
      },
      "source": [
        "ran_forest_01.fit(X_train, y_train)"
      ],
      "execution_count": 31,
      "outputs": [
        {
          "output_type": "execute_result",
          "data": {
            "text/plain": [
              "Pipeline(memory=None,\n",
              "         steps=[('onehotencoder',\n",
              "                 OneHotEncoder(cols=[], drop_invariant=False,\n",
              "                               handle_missing='value', handle_unknown='value',\n",
              "                               return_df=True, use_cat_names=False,\n",
              "                               verbose=0)),\n",
              "                ('randomforestclassifier',\n",
              "                 RandomForestClassifier(bootstrap=True, ccp_alpha=0.0,\n",
              "                                        class_weight=None, criterion='gini',\n",
              "                                        max_depth=3, max_features='auto',\n",
              "                                        max_leaf_nodes=None, max_samples=None,\n",
              "                                        min_impurity_decrease=0.0,\n",
              "                                        min_impurity_split=None,\n",
              "                                        min_samples_leaf=1,\n",
              "                                        min_samples_split=12,\n",
              "                                        min_weight_fraction_leaf=0.0,\n",
              "                                        n_estimators=100, n_jobs=None,\n",
              "                                        oob_score=False, random_state=None,\n",
              "                                        verbose=0, warm_start=False))],\n",
              "         verbose=False)"
            ]
          },
          "metadata": {
            "tags": []
          },
          "execution_count": 31
        }
      ]
    },
    {
      "cell_type": "code",
      "metadata": {
        "id": "NwQhOJeJ32Zo",
        "colab_type": "code",
        "colab": {
          "base_uri": "https://localhost:8080/",
          "height": 52
        },
        "outputId": "3478c53e-75ae-4bbf-c8fb-a40370fa1910"
      },
      "source": [
        "print(f\"Training Accuracy: {ran_forest_01.score(X_train, y_train)}\")\n",
        "print(f\"Validation Accuracy: {ran_forest_01.score(X_val, y_val)}\")"
      ],
      "execution_count": 32,
      "outputs": [
        {
          "output_type": "stream",
          "text": [
            "Training Accuracy: 0.8860103626943006\n",
            "Validation Accuracy: 0.7755102040816326\n"
          ],
          "name": "stdout"
        }
      ]
    },
    {
      "cell_type": "code",
      "metadata": {
        "id": "bgaSm4Y0K_KE",
        "colab_type": "code",
        "colab": {}
      },
      "source": [
        "y_pred_ran_f_model = ran_forest_01.predict(X_val)"
      ],
      "execution_count": 33,
      "outputs": []
    },
    {
      "cell_type": "code",
      "metadata": {
        "id": "f7edGT7mLMkg",
        "colab_type": "code",
        "colab": {}
      },
      "source": [
        ""
      ],
      "execution_count": 33,
      "outputs": []
    },
    {
      "cell_type": "markdown",
      "metadata": {
        "id": "oE5S3glR-wNp",
        "colab_type": "text"
      },
      "source": [
        "Graph your model's feature importances"
      ]
    },
    {
      "cell_type": "code",
      "metadata": {
        "id": "apSKzVBNX9vp",
        "colab_type": "code",
        "colab": {}
      },
      "source": [
        "classifier = ran_forest_01.named_steps['randomforestclassifier']\n",
        "feature_names = ran_forest_01.named_steps['onehotencoder'].feature_names"
      ],
      "execution_count": 34,
      "outputs": []
    },
    {
      "cell_type": "code",
      "metadata": {
        "id": "wUg1dEkvvdcw",
        "colab_type": "code",
        "colab": {
          "base_uri": "https://localhost:8080/",
          "height": 703
        },
        "outputId": "38f42de9-5de6-4a82-90fe-76a8b9c5cd1a"
      },
      "source": [
        "import matplotlib.pyplot as plt\n",
        "\n",
        "feat_importances = classifier.feature_importances_\n",
        "importances = pd.Series(feat_importances, index=feature_names)\n",
        "\n",
        "plt.figure(figsize=(10,12))\n",
        "importances.sort_values().plot(kind='barh');"
      ],
      "execution_count": 35,
      "outputs": [
        {
          "output_type": "display_data",
          "data": {
            "image/png": "[encoded data removed]",
            "text/plain": [
              "<Figure size 720x864 with 1 Axes>"
            ]
          },
          "metadata": {
            "tags": []
          }
        }
      ]
    },
    {
      "cell_type": "markdown",
      "metadata": {
        "id": "nu9wLKlg-3q3",
        "colab_type": "text"
      },
      "source": [
        "In 2-3 sentences, explain how to interpret and use the feature importances to further refine or help explain your model.\n",
        "\n",
        "```\n",
        "The features that are at the top are the ones which the model finds most important in predicting the target. I would start by eliminating the features which aren't as importance.  \n",
        "```\n",
        "\n",
        "How does feature importance differ from drop-column importances and permutation importances?\n",
        "\n",
        "```\n",
        "Drop column importance is the effect that a column has if we drop it.  But permutation importance is a measure of a column after it has passed through a random forest vs not permuting. ```"
      ]
    },
    {
      "cell_type": "markdown",
      "metadata": {
        "id": "df3-NCv18hUC",
        "colab_type": "text"
      },
      "source": [
        "Build a logisitic regression model using the dataset you cleaned and prepped above."
      ]
    },
    {
      "cell_type": "code",
      "metadata": {
        "id": "iHNOGjmDBINU",
        "colab_type": "code",
        "colab": {}
      },
      "source": [
        "log_reg_model = make_pipeline(\n",
        "      StandardScaler(),\n",
        "      LogisticRegression())\n",
        "\n",
        "log_reg_model.fit(X_train, y_train)\n",
        "\n",
        "y_pred_log = log_reg_model.predict(X_train)"
      ],
      "execution_count": 36,
      "outputs": []
    },
    {
      "cell_type": "markdown",
      "metadata": {
        "id": "inxDK4qx_WM7",
        "colab_type": "text"
      },
      "source": [
        "Plot the coefficients of your model."
      ]
    },
    {
      "cell_type": "code",
      "metadata": {
        "id": "tPEtTboF_hgs",
        "colab_type": "code",
        "colab": {}
      },
      "source": [
        "test_model = log_reg_model.named_steps[\"logisticregression\"]"
      ],
      "execution_count": 37,
      "outputs": []
    },
    {
      "cell_type": "code",
      "metadata": {
        "id": "Mah_dJfGCzNV",
        "colab_type": "code",
        "colab": {
          "base_uri": "https://localhost:8080/",
          "height": 104
        },
        "outputId": "e7131ce0-503e-4e92-e615-9bc8d68321ec"
      },
      "source": [
        "test_model.coef_[0]"
      ],
      "execution_count": 38,
      "outputs": [
        {
          "output_type": "execute_result",
          "data": {
            "text/plain": [
              "array([-0.38951935,  0.38951935,  0.28049045,  0.45030928,  0.00955816,\n",
              "       -0.55791396, -0.30109018, -0.29920895,  0.36162086,  0.67922608,\n",
              "       -0.56518723, -0.45993107,  0.39126561, -0.96525589, -0.61906196,\n",
              "       -0.0689582 ,  0.10853816, -0.07148101, -0.28532274,  0.40649107,\n",
              "       -0.17913406, -0.20333418,  0.23386695,  0.34347815,  0.00392611])"
            ]
          },
          "metadata": {
            "tags": []
          },
          "execution_count": 38
        }
      ]
    },
    {
      "cell_type": "code",
      "metadata": {
        "id": "5NMvAO9YFaAZ",
        "colab_type": "code",
        "colab": {
          "base_uri": "https://localhost:8080/",
          "height": 268
        },
        "outputId": "048c2606-16b7-4617-8631-c2391d4f7405"
      },
      "source": [
        "model = log_reg_model.named_steps['logisticregression']\n",
        "scaler = log_reg_model.named_steps['standardscaler']\n",
        "scaled_columns = pd.DataFrame(scaler.transform(X_val.loc[:,:])).columns\n",
        "coefficients = pd.Series(model.coef_[0], scaled_columns)\n",
        "coefficients.sort_values().plot.barh(color='grey');"
      ],
      "execution_count": 39,
      "outputs": [
        {
          "output_type": "display_data",
          "data": {
            "image/png": "[encoded data removed]",
            "text/plain": [
              "<Figure size 432x288 with 1 Axes>"
            ]
          },
          "metadata": {
            "tags": []
          }
        }
      ]
    },
    {
      "cell_type": "code",
      "metadata": {
        "id": "8qW1goDlC7ac",
        "colab_type": "code",
        "colab": {}
      },
      "source": [
        ""
      ],
      "execution_count": 39,
      "outputs": []
    },
    {
      "cell_type": "markdown",
      "metadata": {
        "id": "Kz_obfF9_kaF",
        "colab_type": "text"
      },
      "source": [
        "In 2-3 sentences, explain how to interpret and use the coefficients to further refine or help explain your model.\n",
        "\n",
        "```\n",
        "Your Answer Here\n",
        "```"
      ]
    },
    {
      "cell_type": "markdown",
      "metadata": {
        "id": "lZXahsuH_yUl",
        "colab_type": "text"
      },
      "source": [
        "What is an example of an ensemble method?\n",
        "\n",
        "```\n",
        "Your Answer Here\n",
        "```\n",
        "\n",
        "What do we mean by hyperparameter tuning and how can we automate the tuning process?\n",
        "\n",
        "```\n",
        "Your Answer Here\n",
        "```"
      ]
    },
    {
      "cell_type": "markdown",
      "metadata": {
        "id": "UfkSVMIS_7dg",
        "colab_type": "text"
      },
      "source": [
        "# Metrics and Model Evaluation"
      ]
    },
    {
      "cell_type": "markdown",
      "metadata": {
        "id": "Vb659NzBAQAY",
        "colab_type": "text"
      },
      "source": [
        "Define the following terms in your own words, do not simply copy and paste a definition found elsewhere but reword it to be understandable and memorable to you. *Double click the markdown to add your definitions.*\n",
        "<br/><br/>\n",
        "\n",
        "**ROC:** `Receiver Operating Characteristic (ROC) Curve `\n",
        "\n",
        "**ROC-AUC:** `Your Answer Here`\n",
        "\n",
        "**Discrimination Threshold:** `Your Answer Here`\n",
        "\n",
        "**Precision:** `metric;The proportion of positive identifications that were actually correct; raising precision, raises the false negatives. \"How useful the results are\"`\n",
        "\n",
        "**Recall:** `The proportion of actual positives that were correctly identified. \"How complete the results are\"; larger recall raises false positives;`\n",
        "\n",
        "**F1 Score:** `The harmonic average of the precision and recall; an F1 score reaches its best value at 1 (perfect precision and recall) and worst at 0.`\n",
        "\n",
        "**Confusion Matrix:** `Error Matrix; A table layout that allows visualization of the performance of an algorithm. Each row of the matrix represents the instances in a predicted class while each column represents the instances in an actual class (or vice versa).`"
      ]
    },
    {
      "cell_type": "markdown",
      "metadata": {
        "id": "0F8klqRlCj1k",
        "colab_type": "text"
      },
      "source": [
        "Choose one of your models above to complete the following:\n",
        "- Get your model's validation accuracy (This may be done multiple times if you are refining your model)\n",
        "- Get your model's test accuracy\n",
        "- Create a confusion matrix for your model\n",
        "- Calculate the Accuracy, F1 Score, Precision, and Recall by hand\n",
        "- Use SKLearn to calculate accuracy, F1 score, precision, and recall to confirm your work."
      ]
    },
    {
      "cell_type": "code",
      "metadata": {
        "id": "kZioROoKJiYk",
        "colab_type": "code",
        "colab": {
          "base_uri": "https://localhost:8080/",
          "height": 507
        },
        "outputId": "d41b4447-5d0d-456a-90f0-8dbae4b6fab5"
      },
      "source": [
        "from sklearn.metrics import plot_confusion_matrix, classification_report\n",
        "\n",
        "plt.rcParams['figure.dpi'] = 100\n",
        "\n",
        "plot_confusion_matrix(ran_forest_01, X_val, y_val, values_format='.0f',\n",
        "                      display_labels=['no repair needed', 'repair needed'],\n",
        "                      xticks_rotation='vertical');"
      ],
      "execution_count": 51,
      "outputs": [
        {
          "output_type": "display_data",
          "data": {
            "image/png": "[encoded data removed]",
            "text/plain": [
              "<Figure size 600x400 with 2 Axes>"
            ]
          },
          "metadata": {
            "tags": []
          }
        }
      ]
    },
    {
      "cell_type": "code",
      "metadata": {
        "id": "C3Ch7ng01dul",
        "colab_type": "code",
        "colab": {
          "base_uri": "https://localhost:8080/",
          "height": 173
        },
        "outputId": "dfd1b3b9-ef0f-4018-8313-4259f7237726"
      },
      "source": [
        "print(classification_report(y_val, ran_forest_01.predict(X_val)))"
      ],
      "execution_count": 53,
      "outputs": [
        {
          "output_type": "stream",
          "text": [
            "              precision    recall  f1-score   support\n",
            "\n",
            "           0       0.85      0.68      0.76        25\n",
            "           1       0.72      0.88      0.79        24\n",
            "\n",
            "    accuracy                           0.78        49\n",
            "   macro avg       0.79      0.78      0.77        49\n",
            "weighted avg       0.79      0.78      0.77        49\n",
            "\n"
          ],
          "name": "stdout"
        }
      ]
    },
    {
      "cell_type": "markdown",
      "metadata": {
        "id": "oz067Wi2L2jT",
        "colab_type": "text"
      },
      "source": [
        "𝐴𝑐𝑐𝑢𝑟𝑎𝑐𝑦=(True Positives + True Negatives)/Total Number of Predictions"
      ]
    },
    {
      "cell_type": "code",
      "metadata": {
        "id": "MLFsf9me_49e",
        "colab_type": "code",
        "colab": {
          "base_uri": "https://localhost:8080/",
          "height": 35
        },
        "outputId": "bd2130ce-c20a-4cd9-b6e4-d596c41566e8"
      },
      "source": [
        "# for the positive class only \n",
        "total_pred = 17 +8 +3 +21\n",
        "total_pred"
      ],
      "execution_count": 47,
      "outputs": [
        {
          "output_type": "execute_result",
          "data": {
            "text/plain": [
              "49"
            ]
          },
          "metadata": {
            "tags": []
          },
          "execution_count": 47
        }
      ]
    },
    {
      "cell_type": "code",
      "metadata": {
        "id": "XHhTEIOiKLwg",
        "colab_type": "code",
        "colab": {
          "base_uri": "https://localhost:8080/",
          "height": 35
        },
        "outputId": "304ad673-3d00-4352-c893-e11b0d1207e7"
      },
      "source": [
        "correct_pred = 17+21\n",
        "correct_pred"
      ],
      "execution_count": 48,
      "outputs": [
        {
          "output_type": "execute_result",
          "data": {
            "text/plain": [
              "38"
            ]
          },
          "metadata": {
            "tags": []
          },
          "execution_count": 48
        }
      ]
    },
    {
      "cell_type": "code",
      "metadata": {
        "id": "iCyuvCDDKRaW",
        "colab_type": "code",
        "colab": {
          "base_uri": "https://localhost:8080/",
          "height": 35
        },
        "outputId": "2fccb7ff-3778-472a-8534-0c858c727ae2"
      },
      "source": [
        "correct_pred/total_pred"
      ],
      "execution_count": 49,
      "outputs": [
        {
          "output_type": "execute_result",
          "data": {
            "text/plain": [
              "0.7755102040816326"
            ]
          },
          "metadata": {
            "tags": []
          },
          "execution_count": 49
        }
      ]
    },
    {
      "cell_type": "code",
      "metadata": {
        "id": "afwTIIrAKomm",
        "colab_type": "code",
        "colab": {}
      },
      "source": [
        "from sklearn.metrics import accuracy_score"
      ],
      "execution_count": 50,
      "outputs": []
    },
    {
      "cell_type": "code",
      "metadata": {
        "id": "yRloGe3sKXQH",
        "colab_type": "code",
        "colab": {
          "base_uri": "https://localhost:8080/",
          "height": 35
        },
        "outputId": "beede95d-bab5-416e-c333-00bbbff3d30a"
      },
      "source": [
        "accuracy_score(y_val, y_pred_ran_f_model)"
      ],
      "execution_count": null,
      "outputs": [
        {
          "output_type": "execute_result",
          "data": {
            "text/plain": [
              "0.7551020408163265"
            ]
          },
          "metadata": {
            "tags": []
          },
          "execution_count": 144
        }
      ]
    },
    {
      "cell_type": "code",
      "metadata": {
        "id": "bfvKXty3KiEd",
        "colab_type": "code",
        "colab": {}
      },
      "source": [
        ""
      ],
      "execution_count": null,
      "outputs": []
    },
    {
      "cell_type": "markdown",
      "metadata": {
        "id": "orm71hyaNDTw",
        "colab_type": "text"
      },
      "source": [
        "𝑃𝑟𝑒𝑐𝑖𝑠𝑖𝑜𝑛=True Positives/(True Positives + False Positives)"
      ]
    },
    {
      "cell_type": "code",
      "metadata": {
        "id": "o1jYFpTUNC-o",
        "colab_type": "code",
        "colab": {
          "base_uri": "https://localhost:8080/",
          "height": 35
        },
        "outputId": "d297de7b-7b0d-4333-fa4c-14fc438a1a33"
      },
      "source": [
        "prec= 21/(21+8)\n",
        "prec"
      ],
      "execution_count": 61,
      "outputs": [
        {
          "output_type": "execute_result",
          "data": {
            "text/plain": [
              "0.7241379310344828"
            ]
          },
          "metadata": {
            "tags": []
          },
          "execution_count": 61
        }
      ]
    },
    {
      "cell_type": "markdown",
      "metadata": {
        "id": "A8e6enibNIAT",
        "colab_type": "text"
      },
      "source": [
        "𝑅𝑒𝑐𝑎𝑙𝑙=True Positives/(True Positives + False Negatives)"
      ]
    },
    {
      "cell_type": "code",
      "metadata": {
        "id": "q9onJ26YNevZ",
        "colab_type": "code",
        "colab": {
          "base_uri": "https://localhost:8080/",
          "height": 35
        },
        "outputId": "b19ecc04-f59e-4aac-dab7-c5c8bb7b327a"
      },
      "source": [
        "recall = 21/(21+3)\n",
        "recall"
      ],
      "execution_count": 62,
      "outputs": [
        {
          "output_type": "execute_result",
          "data": {
            "text/plain": [
              "0.875"
            ]
          },
          "metadata": {
            "tags": []
          },
          "execution_count": 62
        }
      ]
    },
    {
      "cell_type": "markdown",
      "metadata": {
        "id": "QNFUTYFsNP7s",
        "colab_type": "text"
      },
      "source": [
        "𝐹1=2((Precision⋅Recall)/(Precision + Recall))"
      ]
    },
    {
      "cell_type": "code",
      "metadata": {
        "id": "4A_KZGsxNeAe",
        "colab_type": "code",
        "colab": {
          "base_uri": "https://localhost:8080/",
          "height": 35
        },
        "outputId": "7ce8d0a1-6f63-439a-bd10-35a121d5cfa1"
      },
      "source": [
        "f1 = 2*((prec*recall)/(prec+recall))\n",
        "f1 "
      ],
      "execution_count": 63,
      "outputs": [
        {
          "output_type": "execute_result",
          "data": {
            "text/plain": [
              "0.7924528301886793"
            ]
          },
          "metadata": {
            "tags": []
          },
          "execution_count": 63
        }
      ]
    },
    {
      "cell_type": "code",
      "metadata": {
        "id": "gr4MhbCj4Fh0",
        "colab_type": "code",
        "colab": {}
      },
      "source": [
        ""
      ],
      "execution_count": null,
      "outputs": []
    },
    {
      "cell_type": "markdown",
      "metadata": {
        "id": "elfpNZo-Fxe-",
        "colab_type": "text"
      },
      "source": [
        "Give an example of when we would use precision to score our model and explain why precision is the best metric for that situation.\n",
        "\n",
        "```\n",
        "Your Answer Here\n",
        "```\n",
        "\n",
        "Give an example of when we would use recall to score our model and explain why recall is the best metric for that situation.\n",
        "\n",
        "```\n",
        "Your Answer Here\n",
        "```"
      ]
    },
    {
      "cell_type": "markdown",
      "metadata": {
        "id": "Bdhtv_4KJrgQ",
        "colab_type": "text"
      },
      "source": [
        "Find your model's ROC-AUC Score"
      ]
    },
    {
      "cell_type": "code",
      "metadata": {
        "id": "uFR91njwJv8b",
        "colab_type": "code",
        "colab": {}
      },
      "source": [
        ""
      ],
      "execution_count": null,
      "outputs": []
    },
    {
      "cell_type": "markdown",
      "metadata": {
        "id": "DYOLWhoUJfQU",
        "colab_type": "text"
      },
      "source": [
        "Plot your model's ROC Curve"
      ]
    },
    {
      "cell_type": "code",
      "metadata": {
        "id": "VI45S71RJkRy",
        "colab_type": "code",
        "colab": {}
      },
      "source": [
        ""
      ],
      "execution_count": null,
      "outputs": []
    }
  ]
}