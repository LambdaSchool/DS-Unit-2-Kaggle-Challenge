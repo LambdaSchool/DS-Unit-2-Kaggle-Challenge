{
  "nbformat": 4,
  "nbformat_minor": 0,
  "metadata": {
    "colab": {
      "name": "Copy of assignment_kaggle_challenge_1.ipynb",
      "provenance": [],
      "collapsed_sections": [],
      "include_colab_link": true
    },
    "kernelspec": {
      "display_name": "Python 3",
      "language": "python",
      "name": "python3"
    },
    "language_info": {
      "codemirror_mode": {
        "name": "ipython",
        "version": 3
      },
      "file_extension": ".py",
      "mimetype": "text/x-python",
      "name": "python",
      "nbconvert_exporter": "python",
      "pygments_lexer": "ipython3",
      "version": "3.7.3"
    }
  },
  "cells": [
    {
      "cell_type": "markdown",
      "metadata": {
        "id": "view-in-github",
        "colab_type": "text"
      },
      "source": [
        "<a href=\"https://colab.research.google.com/github/KhaSab5292/DS-Unit-2-Kaggle-Challenge/blob/master/Copy_of_assignment_kaggle_challenge_1.ipynb\" target=\"_parent\"><img src=\"https://colab.research.google.com/assets/colab-badge.svg\" alt=\"Open In Colab\"/></a>"
      ]
    },
    {
      "cell_type": "markdown",
      "metadata": {
        "colab_type": "text",
        "id": "7IXUfiQ2UKj6"
      },
      "source": [
        "Lambda School Data Science, Unit 2: Predictive Modeling\n",
        "\n",
        "# Kaggle Challenge, Module 1\n",
        "\n",
        "## Assignment\n",
        "- [ ] Do train/validate/test split with the Tanzania Waterpumps data.\n",
        "- [ ] Define a function to wrangle train, validate, and test sets in the same way. Clean outliers and engineer features. (For example, [what other columns have zeros and shouldn't?](https://github.com/Quartz/bad-data-guide#zeros-replace-missing-values) What other columns are duplicates, or nearly duplicates? Can you extract the year from date_recorded? Can you engineer new features, such as the number of years from waterpump construction to waterpump inspection?)\n",
        "- [ ] Select features. Use a scikit-learn pipeline to encode categoricals, impute missing values, and fit a decision tree classifier.\n",
        "- [ ] Get your validation accuracy score.\n",
        "- [ ] Get and plot your feature importances.\n",
        "- [ ] Submit your predictions to our Kaggle competition. (Go to our Kaggle InClass competition webpage. Use the blue **Submit Predictions** button to upload your CSV file. Or you can use the Kaggle API to submit your predictions.)\n",
        "- [ ] Commit your notebook to your fork of the GitHub repo.\n",
        "\n",
        "\n",
        "## Stretch Goals\n",
        "\n",
        "### Reading\n",
        "\n",
        "- A Visual Introduction to Machine Learning\n",
        "  - [Part 1: A Decision Tree](http://www.r2d3.us/visual-intro-to-machine-learning-part-1/)\n",
        "  - [Part 2: Bias and Variance](http://www.r2d3.us/visual-intro-to-machine-learning-part-2/)\n",
        "- [Decision Trees: Advantages & Disadvantages](https://christophm.github.io/interpretable-ml-book/tree.html#advantages-2)\n",
        "- [How a Russian mathematician constructed a decision tree — by hand — to solve a medical problem](http://fastml.com/how-a-russian-mathematician-constructed-a-decision-tree-by-hand-to-solve-a-medical-problem/)\n",
        "- [How decision trees work](https://brohrer.github.io/how_decision_trees_work.html)\n",
        "- [Let’s Write a Decision Tree Classifier from Scratch](https://www.youtube.com/watch?v=LDRbO9a6XPU) — _Don’t worry about understanding the code, just get introduced to the concepts. This 10 minute video has excellent diagrams and explanations._\n",
        "- [Random Forests for Complete Beginners: The definitive guide to Random Forests and Decision Trees](https://victorzhou.com/blog/intro-to-random-forests/)\n",
        "\n",
        "\n",
        "### Doing\n",
        "- [ ] Add your own stretch goal(s) !\n",
        "- [ ] Try other [scikit-learn imputers](https://scikit-learn.org/stable/modules/impute.html).\n",
        "- [ ] Make exploratory visualizations and share on Slack.\n",
        "\n",
        "\n",
        "#### Exploratory visualizations\n",
        "\n",
        "Visualize the relationships between feature(s) and target. I recommend you do this with your training set, after splitting your data. \n",
        "\n",
        "For this problem, you may want to create a new column to represent the target as a number, 0 or 1. For example:\n",
        "\n",
        "```python\n",
        "train['functional'] = (train['status_group']=='functional').astype(int)\n",
        "```\n",
        "\n",
        "\n",
        "\n",
        "You can try [Seaborn \"Categorical estimate\" plots](https://seaborn.pydata.org/tutorial/categorical.html) for features with reasonably few unique values. (With too many unique values, the plot is unreadable.)\n",
        "\n",
        "- Categorical features. (If there are too many unique values, you can replace less frequent values with \"OTHER.\")\n",
        "- Numeric features. (If there are too many unique values, you can [bin with pandas cut / qcut functions](https://pandas.pydata.org/pandas-docs/stable/getting_started/basics.html?highlight=qcut#discretization-and-quantiling).)\n",
        "\n",
        "You can try [Seaborn linear model plots](https://seaborn.pydata.org/tutorial/regression.html) with numeric features. For this classification problem, you may want to use the parameter `logistic=True`, but it can be slow.\n",
        "\n",
        "You do _not_ need to use Seaborn, but it's nice because it includes confidence intervals to visualize uncertainty.\n",
        "\n",
        "#### High-cardinality categoricals\n",
        "\n",
        "This code from a previous assignment demonstrates how to replace less frequent values with 'OTHER'\n",
        "\n",
        "```python\n",
        "# Reduce cardinality for NEIGHBORHOOD feature ...\n",
        "\n",
        "# Get a list of the top 10 neighborhoods\n",
        "top10 = train['NEIGHBORHOOD'].value_counts()[:10].index\n",
        "\n",
        "# At locations where the neighborhood is NOT in the top 10,\n",
        "# replace the neighborhood with 'OTHER'\n",
        "train.loc[~train['NEIGHBORHOOD'].isin(top10), 'NEIGHBORHOOD'] = 'OTHER'\n",
        "test.loc[~test['NEIGHBORHOOD'].isin(top10), 'NEIGHBORHOOD'] = 'OTHER'\n",
        "```\n"
      ]
    },
    {
      "cell_type": "code",
      "metadata": {
        "colab_type": "code",
        "id": "o9eSnDYhUGD7",
        "outputId": "7cdefd0e-8734-4727-c282-d5516764ea11",
        "colab": {
          "base_uri": "https://localhost:8080/",
          "height": 204
        }
      },
      "source": [
        "import sys\n",
        "\n",
        "# If you're on Colab:\n",
        "if 'google.colab' in sys.modules:\n",
        "    DATA_PATH = 'https://raw.githubusercontent.com/LambdaSchool/DS-Unit-2-Kaggle-Challenge/master/data/'\n",
        "    !pip install category_encoders==2.*\n",
        "\n",
        "# If you're working locally:\n",
        "else:\n",
        "    DATA_PATH = '../data/'"
      ],
      "execution_count": 0,
      "outputs": [
        {
          "output_type": "stream",
          "text": [
            "Requirement already satisfied: category_encoders==2.* in /usr/local/lib/python3.6/dist-packages (2.1.0)\n",
            "Requirement already satisfied: scipy>=0.19.0 in /usr/local/lib/python3.6/dist-packages (from category_encoders==2.*) (1.3.1)\n",
            "Requirement already satisfied: patsy>=0.4.1 in /usr/local/lib/python3.6/dist-packages (from category_encoders==2.*) (0.5.1)\n",
            "Requirement already satisfied: statsmodels>=0.6.1 in /usr/local/lib/python3.6/dist-packages (from category_encoders==2.*) (0.10.1)\n",
            "Requirement already satisfied: scikit-learn>=0.20.0 in /usr/local/lib/python3.6/dist-packages (from category_encoders==2.*) (0.21.3)\n",
            "Requirement already satisfied: pandas>=0.21.1 in /usr/local/lib/python3.6/dist-packages (from category_encoders==2.*) (0.24.2)\n",
            "Requirement already satisfied: numpy>=1.11.3 in /usr/local/lib/python3.6/dist-packages (from category_encoders==2.*) (1.16.5)\n",
            "Requirement already satisfied: six in /usr/local/lib/python3.6/dist-packages (from patsy>=0.4.1->category_encoders==2.*) (1.12.0)\n",
            "Requirement already satisfied: joblib>=0.11 in /usr/local/lib/python3.6/dist-packages (from scikit-learn>=0.20.0->category_encoders==2.*) (0.14.0)\n",
            "Requirement already satisfied: pytz>=2011k in /usr/local/lib/python3.6/dist-packages (from pandas>=0.21.1->category_encoders==2.*) (2018.9)\n",
            "Requirement already satisfied: python-dateutil>=2.5.0 in /usr/local/lib/python3.6/dist-packages (from pandas>=0.21.1->category_encoders==2.*) (2.5.3)\n"
          ],
          "name": "stdout"
        }
      ]
    },
    {
      "cell_type": "code",
      "metadata": {
        "colab_type": "code",
        "id": "QJBD4ruICm1m",
        "outputId": "a6e9cde5-fe21-4fe7-cc9e-c7c0b8f267e2",
        "colab": {
          "base_uri": "https://localhost:8080/",
          "height": 34
        }
      },
      "source": [
        "import pandas as pd\n",
        "from sklearn.model_selection import train_test_split\n",
        "\n",
        "train = pd.merge(pd.read_csv(DATA_PATH+'waterpumps/train_features.csv'), \n",
        "                 pd.read_csv(DATA_PATH+'waterpumps/train_labels.csv'))\n",
        "test = pd.read_csv(DATA_PATH+'waterpumps/test_features.csv')\n",
        "sample_submission = pd.read_csv(DATA_PATH+'waterpumps/sample_submission.csv')\n",
        "\n",
        "train.shape, test.shape"
      ],
      "execution_count": 0,
      "outputs": [
        {
          "output_type": "execute_result",
          "data": {
            "text/plain": [
              "((59400, 41), (14358, 40))"
            ]
          },
          "metadata": {
            "tags": []
          },
          "execution_count": 93
        }
      ]
    },
    {
      "cell_type": "markdown",
      "metadata": {
        "id": "zkkqqd_7K9hW",
        "colab_type": "text"
      },
      "source": [
        "## **train/validate/test split**"
      ]
    },
    {
      "cell_type": "code",
      "metadata": {
        "colab_type": "code",
        "id": "2Amxyx3xphbb",
        "outputId": "959e377a-5595-4616-e75b-8859fcaa4803",
        "colab": {
          "base_uri": "https://localhost:8080/",
          "height": 34
        }
      },
      "source": [
        "train, val = train_test_split(train, stratify=train['status_group'], random_state=42)\n",
        "\n",
        "train.shape, val.shape, test.shape"
      ],
      "execution_count": 0,
      "outputs": [
        {
          "output_type": "execute_result",
          "data": {
            "text/plain": [
              "((44550, 41), (14850, 41), (14358, 40))"
            ]
          },
          "metadata": {
            "tags": []
          },
          "execution_count": 94
        }
      ]
    },
    {
      "cell_type": "markdown",
      "metadata": {
        "id": "htyKJvoVJ9ld",
        "colab_type": "text"
      },
      "source": [
        "# **Wrangle**"
      ]
    },
    {
      "cell_type": "code",
      "metadata": {
        "id": "CX0DzBCnjOg3",
        "colab_type": "code",
        "outputId": "6e4e825d-2e63-4b8c-b2dc-86fcae3cd991",
        "colab": {
          "base_uri": "https://localhost:8080/",
          "height": 204
        }
      },
      "source": [
        "train.columns"
      ],
      "execution_count": 0,
      "outputs": [
        {
          "output_type": "execute_result",
          "data": {
            "text/plain": [
              "Index(['id', 'amount_tsh', 'date_recorded', 'funder', 'gps_height',\n",
              "       'installer', 'longitude', 'latitude', 'wpt_name', 'num_private',\n",
              "       'basin', 'subvillage', 'region', 'region_code', 'district_code', 'lga',\n",
              "       'ward', 'population', 'public_meeting', 'recorded_by',\n",
              "       'scheme_management', 'scheme_name', 'permit', 'construction_year',\n",
              "       'extraction_type', 'extraction_type_group', 'extraction_type_class',\n",
              "       'management', 'management_group', 'payment', 'payment_type',\n",
              "       'water_quality', 'quality_group', 'quantity', 'quantity_group',\n",
              "       'source', 'source_type', 'source_class', 'waterpoint_type',\n",
              "       'waterpoint_type_group', 'status_group'],\n",
              "      dtype='object')"
            ]
          },
          "metadata": {
            "tags": []
          },
          "execution_count": 95
        }
      ]
    },
    {
      "cell_type": "code",
      "metadata": {
        "id": "_zyO05dMpaTL",
        "colab_type": "code",
        "outputId": "a26a549b-679e-40bd-95ab-6c6f76a9a362",
        "colab": {
          "base_uri": "https://localhost:8080/",
          "height": 297
        }
      },
      "source": [
        "train.describe()"
      ],
      "execution_count": 0,
      "outputs": [
        {
          "output_type": "execute_result",
          "data": {
            "text/html": [
              "<div>\n",
              "<style scoped>\n",
              "    .dataframe tbody tr th:only-of-type {\n",
              "        vertical-align: middle;\n",
              "    }\n",
              "\n",
              "    .dataframe tbody tr th {\n",
              "        vertical-align: top;\n",
              "    }\n",
              "\n",
              "    .dataframe thead th {\n",
              "        text-align: right;\n",
              "    }\n",
              "</style>\n",
              "<table border=\"1\" class=\"dataframe\">\n",
              "  <thead>\n",
              "    <tr style=\"text-align: right;\">\n",
              "      <th></th>\n",
              "      <th>id</th>\n",
              "      <th>amount_tsh</th>\n",
              "      <th>gps_height</th>\n",
              "      <th>longitude</th>\n",
              "      <th>latitude</th>\n",
              "      <th>num_private</th>\n",
              "      <th>region_code</th>\n",
              "      <th>district_code</th>\n",
              "      <th>population</th>\n",
              "      <th>construction_year</th>\n",
              "    </tr>\n",
              "  </thead>\n",
              "  <tbody>\n",
              "    <tr>\n",
              "      <th>count</th>\n",
              "      <td>44550.000000</td>\n",
              "      <td>44550.000000</td>\n",
              "      <td>44550.000000</td>\n",
              "      <td>44550.000000</td>\n",
              "      <td>4.455000e+04</td>\n",
              "      <td>44550.000000</td>\n",
              "      <td>44550.000000</td>\n",
              "      <td>44550.000000</td>\n",
              "      <td>44550.000000</td>\n",
              "      <td>44550.000000</td>\n",
              "    </tr>\n",
              "    <tr>\n",
              "      <th>mean</th>\n",
              "      <td>37014.537755</td>\n",
              "      <td>324.898325</td>\n",
              "      <td>669.616094</td>\n",
              "      <td>34.080309</td>\n",
              "      <td>-5.715456e+00</td>\n",
              "      <td>0.485140</td>\n",
              "      <td>15.252391</td>\n",
              "      <td>5.607250</td>\n",
              "      <td>179.684085</td>\n",
              "      <td>1302.070011</td>\n",
              "    </tr>\n",
              "    <tr>\n",
              "      <th>std</th>\n",
              "      <td>21402.267757</td>\n",
              "      <td>3281.228067</td>\n",
              "      <td>693.047465</td>\n",
              "      <td>6.558393</td>\n",
              "      <td>2.941760e+00</td>\n",
              "      <td>13.683636</td>\n",
              "      <td>17.541883</td>\n",
              "      <td>9.597167</td>\n",
              "      <td>462.207597</td>\n",
              "      <td>951.166321</td>\n",
              "    </tr>\n",
              "    <tr>\n",
              "      <th>min</th>\n",
              "      <td>0.000000</td>\n",
              "      <td>0.000000</td>\n",
              "      <td>-63.000000</td>\n",
              "      <td>0.000000</td>\n",
              "      <td>-1.164944e+01</td>\n",
              "      <td>0.000000</td>\n",
              "      <td>1.000000</td>\n",
              "      <td>0.000000</td>\n",
              "      <td>0.000000</td>\n",
              "      <td>0.000000</td>\n",
              "    </tr>\n",
              "    <tr>\n",
              "      <th>25%</th>\n",
              "      <td>18449.250000</td>\n",
              "      <td>0.000000</td>\n",
              "      <td>0.000000</td>\n",
              "      <td>33.090018</td>\n",
              "      <td>-8.545223e+00</td>\n",
              "      <td>0.000000</td>\n",
              "      <td>5.000000</td>\n",
              "      <td>2.000000</td>\n",
              "      <td>0.000000</td>\n",
              "      <td>0.000000</td>\n",
              "    </tr>\n",
              "    <tr>\n",
              "      <th>50%</th>\n",
              "      <td>36966.500000</td>\n",
              "      <td>0.000000</td>\n",
              "      <td>372.000000</td>\n",
              "      <td>34.912797</td>\n",
              "      <td>-5.036199e+00</td>\n",
              "      <td>0.000000</td>\n",
              "      <td>12.000000</td>\n",
              "      <td>3.000000</td>\n",
              "      <td>25.000000</td>\n",
              "      <td>1986.000000</td>\n",
              "    </tr>\n",
              "    <tr>\n",
              "      <th>75%</th>\n",
              "      <td>55374.250000</td>\n",
              "      <td>25.000000</td>\n",
              "      <td>1320.000000</td>\n",
              "      <td>37.171335</td>\n",
              "      <td>-3.328885e+00</td>\n",
              "      <td>0.000000</td>\n",
              "      <td>17.000000</td>\n",
              "      <td>5.000000</td>\n",
              "      <td>215.000000</td>\n",
              "      <td>2004.000000</td>\n",
              "    </tr>\n",
              "    <tr>\n",
              "      <th>max</th>\n",
              "      <td>74247.000000</td>\n",
              "      <td>350000.000000</td>\n",
              "      <td>2770.000000</td>\n",
              "      <td>40.344301</td>\n",
              "      <td>-2.000000e-08</td>\n",
              "      <td>1776.000000</td>\n",
              "      <td>99.000000</td>\n",
              "      <td>80.000000</td>\n",
              "      <td>15300.000000</td>\n",
              "      <td>2013.000000</td>\n",
              "    </tr>\n",
              "  </tbody>\n",
              "</table>\n",
              "</div>"
            ],
            "text/plain": [
              "                 id     amount_tsh  ...    population  construction_year\n",
              "count  44550.000000   44550.000000  ...  44550.000000       44550.000000\n",
              "mean   37014.537755     324.898325  ...    179.684085        1302.070011\n",
              "std    21402.267757    3281.228067  ...    462.207597         951.166321\n",
              "min        0.000000       0.000000  ...      0.000000           0.000000\n",
              "25%    18449.250000       0.000000  ...      0.000000           0.000000\n",
              "50%    36966.500000       0.000000  ...     25.000000        1986.000000\n",
              "75%    55374.250000      25.000000  ...    215.000000        2004.000000\n",
              "max    74247.000000  350000.000000  ...  15300.000000        2013.000000\n",
              "\n",
              "[8 rows x 10 columns]"
            ]
          },
          "metadata": {
            "tags": []
          },
          "execution_count": 96
        }
      ]
    },
    {
      "cell_type": "code",
      "metadata": {
        "id": "HpZwBOuVpv6q",
        "colab_type": "code",
        "outputId": "c1d44ef3-7048-4c2a-ffdb-8e90560e09be",
        "colab": {
          "base_uri": "https://localhost:8080/",
          "height": 227
        }
      },
      "source": [
        "train.describe(exclude = 'number')"
      ],
      "execution_count": 0,
      "outputs": [
        {
          "output_type": "execute_result",
          "data": {
            "text/html": [
              "<div>\n",
              "<style scoped>\n",
              "    .dataframe tbody tr th:only-of-type {\n",
              "        vertical-align: middle;\n",
              "    }\n",
              "\n",
              "    .dataframe tbody tr th {\n",
              "        vertical-align: top;\n",
              "    }\n",
              "\n",
              "    .dataframe thead th {\n",
              "        text-align: right;\n",
              "    }\n",
              "</style>\n",
              "<table border=\"1\" class=\"dataframe\">\n",
              "  <thead>\n",
              "    <tr style=\"text-align: right;\">\n",
              "      <th></th>\n",
              "      <th>date_recorded</th>\n",
              "      <th>funder</th>\n",
              "      <th>installer</th>\n",
              "      <th>wpt_name</th>\n",
              "      <th>basin</th>\n",
              "      <th>subvillage</th>\n",
              "      <th>region</th>\n",
              "      <th>lga</th>\n",
              "      <th>ward</th>\n",
              "      <th>public_meeting</th>\n",
              "      <th>recorded_by</th>\n",
              "      <th>scheme_management</th>\n",
              "      <th>scheme_name</th>\n",
              "      <th>permit</th>\n",
              "      <th>extraction_type</th>\n",
              "      <th>extraction_type_group</th>\n",
              "      <th>extraction_type_class</th>\n",
              "      <th>management</th>\n",
              "      <th>management_group</th>\n",
              "      <th>payment</th>\n",
              "      <th>payment_type</th>\n",
              "      <th>water_quality</th>\n",
              "      <th>quality_group</th>\n",
              "      <th>quantity</th>\n",
              "      <th>quantity_group</th>\n",
              "      <th>source</th>\n",
              "      <th>source_type</th>\n",
              "      <th>source_class</th>\n",
              "      <th>waterpoint_type</th>\n",
              "      <th>waterpoint_type_group</th>\n",
              "      <th>status_group</th>\n",
              "    </tr>\n",
              "  </thead>\n",
              "  <tbody>\n",
              "    <tr>\n",
              "      <th>count</th>\n",
              "      <td>44550</td>\n",
              "      <td>41815</td>\n",
              "      <td>41804</td>\n",
              "      <td>44550</td>\n",
              "      <td>44550</td>\n",
              "      <td>44284</td>\n",
              "      <td>44550</td>\n",
              "      <td>44550</td>\n",
              "      <td>44550</td>\n",
              "      <td>42082</td>\n",
              "      <td>44550</td>\n",
              "      <td>41626</td>\n",
              "      <td>23413</td>\n",
              "      <td>42257</td>\n",
              "      <td>44550</td>\n",
              "      <td>44550</td>\n",
              "      <td>44550</td>\n",
              "      <td>44550</td>\n",
              "      <td>44550</td>\n",
              "      <td>44550</td>\n",
              "      <td>44550</td>\n",
              "      <td>44550</td>\n",
              "      <td>44550</td>\n",
              "      <td>44550</td>\n",
              "      <td>44550</td>\n",
              "      <td>44550</td>\n",
              "      <td>44550</td>\n",
              "      <td>44550</td>\n",
              "      <td>44550</td>\n",
              "      <td>44550</td>\n",
              "      <td>44550</td>\n",
              "    </tr>\n",
              "    <tr>\n",
              "      <th>unique</th>\n",
              "      <td>348</td>\n",
              "      <td>1670</td>\n",
              "      <td>1868</td>\n",
              "      <td>28980</td>\n",
              "      <td>9</td>\n",
              "      <td>16666</td>\n",
              "      <td>21</td>\n",
              "      <td>124</td>\n",
              "      <td>2076</td>\n",
              "      <td>2</td>\n",
              "      <td>1</td>\n",
              "      <td>12</td>\n",
              "      <td>2519</td>\n",
              "      <td>2</td>\n",
              "      <td>18</td>\n",
              "      <td>13</td>\n",
              "      <td>7</td>\n",
              "      <td>12</td>\n",
              "      <td>5</td>\n",
              "      <td>7</td>\n",
              "      <td>7</td>\n",
              "      <td>8</td>\n",
              "      <td>6</td>\n",
              "      <td>5</td>\n",
              "      <td>5</td>\n",
              "      <td>10</td>\n",
              "      <td>7</td>\n",
              "      <td>3</td>\n",
              "      <td>7</td>\n",
              "      <td>6</td>\n",
              "      <td>3</td>\n",
              "    </tr>\n",
              "    <tr>\n",
              "      <th>top</th>\n",
              "      <td>2011-03-17</td>\n",
              "      <td>Government Of Tanzania</td>\n",
              "      <td>DWE</td>\n",
              "      <td>none</td>\n",
              "      <td>Lake Victoria</td>\n",
              "      <td>Majengo</td>\n",
              "      <td>Iringa</td>\n",
              "      <td>Njombe</td>\n",
              "      <td>Igosi</td>\n",
              "      <td>True</td>\n",
              "      <td>GeoData Consultants Ltd</td>\n",
              "      <td>VWC</td>\n",
              "      <td>K</td>\n",
              "      <td>True</td>\n",
              "      <td>gravity</td>\n",
              "      <td>gravity</td>\n",
              "      <td>gravity</td>\n",
              "      <td>vwc</td>\n",
              "      <td>user-group</td>\n",
              "      <td>never pay</td>\n",
              "      <td>never pay</td>\n",
              "      <td>soft</td>\n",
              "      <td>good</td>\n",
              "      <td>enough</td>\n",
              "      <td>enough</td>\n",
              "      <td>spring</td>\n",
              "      <td>spring</td>\n",
              "      <td>groundwater</td>\n",
              "      <td>communal standpipe</td>\n",
              "      <td>communal standpipe</td>\n",
              "      <td>functional</td>\n",
              "    </tr>\n",
              "    <tr>\n",
              "      <th>freq</th>\n",
              "      <td>443</td>\n",
              "      <td>6856</td>\n",
              "      <td>13101</td>\n",
              "      <td>2718</td>\n",
              "      <td>7577</td>\n",
              "      <td>389</td>\n",
              "      <td>4009</td>\n",
              "      <td>1883</td>\n",
              "      <td>237</td>\n",
              "      <td>38275</td>\n",
              "      <td>44550</td>\n",
              "      <td>27659</td>\n",
              "      <td>521</td>\n",
              "      <td>29099</td>\n",
              "      <td>20085</td>\n",
              "      <td>20085</td>\n",
              "      <td>20085</td>\n",
              "      <td>30453</td>\n",
              "      <td>39428</td>\n",
              "      <td>19035</td>\n",
              "      <td>19035</td>\n",
              "      <td>38044</td>\n",
              "      <td>38044</td>\n",
              "      <td>24909</td>\n",
              "      <td>24909</td>\n",
              "      <td>12760</td>\n",
              "      <td>12760</td>\n",
              "      <td>34365</td>\n",
              "      <td>21356</td>\n",
              "      <td>25910</td>\n",
              "      <td>24194</td>\n",
              "    </tr>\n",
              "  </tbody>\n",
              "</table>\n",
              "</div>"
            ],
            "text/plain": [
              "       date_recorded                  funder  ... waterpoint_type_group status_group\n",
              "count          44550                   41815  ...                 44550        44550\n",
              "unique           348                    1670  ...                     6            3\n",
              "top       2011-03-17  Government Of Tanzania  ...    communal standpipe   functional\n",
              "freq             443                    6856  ...                 25910        24194\n",
              "\n",
              "[4 rows x 31 columns]"
            ]
          },
          "metadata": {
            "tags": []
          },
          "execution_count": 97
        }
      ]
    },
    {
      "cell_type": "code",
      "metadata": {
        "id": "o8s8iZCwjpAu",
        "colab_type": "code",
        "outputId": "f63c598f-0932-4d2d-8cc0-e9b24b7a2d7c",
        "colab": {
          "base_uri": "https://localhost:8080/",
          "height": 170
        }
      },
      "source": [
        "train['water_quality'].value_counts()"
      ],
      "execution_count": 0,
      "outputs": [
        {
          "output_type": "execute_result",
          "data": {
            "text/plain": [
              "soft                  38044\n",
              "salty                  3670\n",
              "unknown                1409\n",
              "milky                   611\n",
              "coloured                380\n",
              "salty abandoned         269\n",
              "fluoride                153\n",
              "fluoride abandoned       14\n",
              "Name: water_quality, dtype: int64"
            ]
          },
          "metadata": {
            "tags": []
          },
          "execution_count": 98
        }
      ]
    },
    {
      "cell_type": "code",
      "metadata": {
        "id": "nnrkT_mXklML",
        "colab_type": "code",
        "outputId": "c93a45e3-da2b-43c5-d9f8-d5f7681ae849",
        "colab": {
          "base_uri": "https://localhost:8080/",
          "height": 136
        }
      },
      "source": [
        "train['quality_group'].value_counts()"
      ],
      "execution_count": 0,
      "outputs": [
        {
          "output_type": "execute_result",
          "data": {
            "text/plain": [
              "good        38044\n",
              "salty        3939\n",
              "unknown      1409\n",
              "milky         611\n",
              "colored       380\n",
              "fluoride      167\n",
              "Name: quality_group, dtype: int64"
            ]
          },
          "metadata": {
            "tags": []
          },
          "execution_count": 99
        }
      ]
    },
    {
      "cell_type": "code",
      "metadata": {
        "id": "4f2r3P1tnQse",
        "colab_type": "code",
        "outputId": "2f6c955f-5e99-48da-cd63-e0ca6b8d8f99",
        "colab": {
          "base_uri": "https://localhost:8080/",
          "height": 119
        }
      },
      "source": [
        "train['quantity'].value_counts()"
      ],
      "execution_count": 0,
      "outputs": [
        {
          "output_type": "execute_result",
          "data": {
            "text/plain": [
              "enough          24909\n",
              "insufficient    11376\n",
              "dry              4628\n",
              "seasonal         3039\n",
              "unknown           598\n",
              "Name: quantity, dtype: int64"
            ]
          },
          "metadata": {
            "tags": []
          },
          "execution_count": 100
        }
      ]
    },
    {
      "cell_type": "code",
      "metadata": {
        "id": "MYQCADeSna-U",
        "colab_type": "code",
        "outputId": "dfad886e-1662-4598-e0cf-beeffb9f4d16",
        "colab": {
          "base_uri": "https://localhost:8080/",
          "height": 119
        }
      },
      "source": [
        "train['quantity_group'].value_counts()"
      ],
      "execution_count": 0,
      "outputs": [
        {
          "output_type": "execute_result",
          "data": {
            "text/plain": [
              "enough          24909\n",
              "insufficient    11376\n",
              "dry              4628\n",
              "seasonal         3039\n",
              "unknown           598\n",
              "Name: quantity_group, dtype: int64"
            ]
          },
          "metadata": {
            "tags": []
          },
          "execution_count": 101
        }
      ]
    },
    {
      "cell_type": "code",
      "metadata": {
        "id": "zhaVcGhjo4oB",
        "colab_type": "code",
        "outputId": "0e349e29-1527-41f2-aa5a-2f2ded261989",
        "colab": {
          "base_uri": "https://localhost:8080/",
          "height": 238
        }
      },
      "source": [
        "train['management'].value_counts()"
      ],
      "execution_count": 0,
      "outputs": [
        {
          "output_type": "execute_result",
          "data": {
            "text/plain": [
              "vwc                 30453\n",
              "wug                  4863\n",
              "water board          2181\n",
              "wua                  1931\n",
              "private operator     1466\n",
              "parastatal           1295\n",
              "water authority       688\n",
              "other                 630\n",
              "company               494\n",
              "unknown               421\n",
              "other - school         70\n",
              "trust                  58\n",
              "Name: management, dtype: int64"
            ]
          },
          "metadata": {
            "tags": []
          },
          "execution_count": 102
        }
      ]
    },
    {
      "cell_type": "code",
      "metadata": {
        "id": "pKuIGe17pI-c",
        "colab_type": "code",
        "outputId": "128b39a9-7af1-41b0-91e6-f379ad99c549",
        "colab": {
          "base_uri": "https://localhost:8080/",
          "height": 119
        }
      },
      "source": [
        "train['management_group'].value_counts()"
      ],
      "execution_count": 0,
      "outputs": [
        {
          "output_type": "execute_result",
          "data": {
            "text/plain": [
              "user-group    39428\n",
              "commercial     2706\n",
              "parastatal     1295\n",
              "other           700\n",
              "unknown         421\n",
              "Name: management_group, dtype: int64"
            ]
          },
          "metadata": {
            "tags": []
          },
          "execution_count": 103
        }
      ]
    },
    {
      "cell_type": "code",
      "metadata": {
        "id": "2n2t5iAqqoWM",
        "colab_type": "code",
        "outputId": "89a78132-10cb-43ed-d491-a1f1b57f78a6",
        "colab": {
          "base_uri": "https://localhost:8080/",
          "height": 340
        }
      },
      "source": [
        "train['extraction_type'].value_counts()\t"
      ],
      "execution_count": 0,
      "outputs": [
        {
          "output_type": "execute_result",
          "data": {
            "text/plain": [
              "gravity                      20085\n",
              "nira/tanira                   6123\n",
              "other                         4863\n",
              "submersible                   3530\n",
              "swn 80                        2770\n",
              "mono                          2116\n",
              "india mark ii                 1801\n",
              "afridev                       1346\n",
              "ksb                           1065\n",
              "other - rope pump              329\n",
              "other - swn 81                 171\n",
              "windmill                        88\n",
              "india mark iii                  70\n",
              "cemo                            66\n",
              "other - play pump               63\n",
              "walimi                          40\n",
              "climax                          23\n",
              "other - mkulima/shinyanga        1\n",
              "Name: extraction_type, dtype: int64"
            ]
          },
          "metadata": {
            "tags": []
          },
          "execution_count": 104
        }
      ]
    },
    {
      "cell_type": "code",
      "metadata": {
        "id": "kCw6uEC8qwWJ",
        "colab_type": "code",
        "outputId": "6dc816a9-ed3d-4322-9c00-ecb8bcb0cfd7",
        "colab": {
          "base_uri": "https://localhost:8080/",
          "height": 255
        }
      },
      "source": [
        "train['extraction_type_group'].value_counts()\t\t"
      ],
      "execution_count": 0,
      "outputs": [
        {
          "output_type": "execute_result",
          "data": {
            "text/plain": [
              "gravity            20085\n",
              "nira/tanira         6123\n",
              "other               4863\n",
              "submersible         4595\n",
              "swn 80              2770\n",
              "mono                2116\n",
              "india mark ii       1801\n",
              "afridev             1346\n",
              "rope pump            329\n",
              "other handpump       275\n",
              "other motorpump       89\n",
              "wind-powered          88\n",
              "india mark iii        70\n",
              "Name: extraction_type_group, dtype: int64"
            ]
          },
          "metadata": {
            "tags": []
          },
          "execution_count": 105
        }
      ]
    },
    {
      "cell_type": "code",
      "metadata": {
        "id": "ORW2UqlFq82d",
        "colab_type": "code",
        "outputId": "c0d7f21a-9b0f-49f2-c6e3-fcb2550a950a",
        "colab": {
          "base_uri": "https://localhost:8080/",
          "height": 153
        }
      },
      "source": [
        "train['extraction_type_class'].value_counts()"
      ],
      "execution_count": 0,
      "outputs": [
        {
          "output_type": "execute_result",
          "data": {
            "text/plain": [
              "gravity         20085\n",
              "handpump        12385\n",
              "other            4863\n",
              "submersible      4595\n",
              "motorpump        2205\n",
              "rope pump         329\n",
              "wind-powered       88\n",
              "Name: extraction_type_class, dtype: int64"
            ]
          },
          "metadata": {
            "tags": []
          },
          "execution_count": 106
        }
      ]
    },
    {
      "cell_type": "code",
      "metadata": {
        "id": "iGx_VQgWtVk9",
        "colab_type": "code",
        "outputId": "c65ef335-b1af-444a-ab58-618d791ac100",
        "colab": {
          "base_uri": "https://localhost:8080/",
          "height": 153
        }
      },
      "source": [
        "train['payment'].value_counts()"
      ],
      "execution_count": 0,
      "outputs": [
        {
          "output_type": "execute_result",
          "data": {
            "text/plain": [
              "never pay                19035\n",
              "pay per bucket            6694\n",
              "pay monthly               6242\n",
              "unknown                   6111\n",
              "pay when scheme fails     2898\n",
              "pay annually              2751\n",
              "other                      819\n",
              "Name: payment, dtype: int64"
            ]
          },
          "metadata": {
            "tags": []
          },
          "execution_count": 107
        }
      ]
    },
    {
      "cell_type": "code",
      "metadata": {
        "id": "DYOnlbbatcDK",
        "colab_type": "code",
        "outputId": "c7b32a93-a92e-4023-feb3-7b0583bcc4c6",
        "colab": {
          "base_uri": "https://localhost:8080/",
          "height": 153
        }
      },
      "source": [
        "train['payment_type'].value_counts()"
      ],
      "execution_count": 0,
      "outputs": [
        {
          "output_type": "execute_result",
          "data": {
            "text/plain": [
              "never pay     19035\n",
              "per bucket     6694\n",
              "monthly        6242\n",
              "unknown        6111\n",
              "on failure     2898\n",
              "annually       2751\n",
              "other           819\n",
              "Name: payment_type, dtype: int64"
            ]
          },
          "metadata": {
            "tags": []
          },
          "execution_count": 108
        }
      ]
    },
    {
      "cell_type": "code",
      "metadata": {
        "id": "zkmyCYhPwR_g",
        "colab_type": "code",
        "outputId": "00828fff-5620-44c8-8071-3e928311b184",
        "colab": {
          "base_uri": "https://localhost:8080/",
          "height": 204
        }
      },
      "source": [
        "train['source'].value_counts()\t"
      ],
      "execution_count": 0,
      "outputs": [
        {
          "output_type": "execute_result",
          "data": {
            "text/plain": [
              "spring                  12760\n",
              "shallow well            12686\n",
              "machine dbh              8256\n",
              "river                    7216\n",
              "rainwater harvesting     1734\n",
              "hand dtw                  663\n",
              "lake                      532\n",
              "dam                       482\n",
              "other                     165\n",
              "unknown                    56\n",
              "Name: source, dtype: int64"
            ]
          },
          "metadata": {
            "tags": []
          },
          "execution_count": 109
        }
      ]
    },
    {
      "cell_type": "code",
      "metadata": {
        "id": "eKPpp6g9wZrD",
        "colab_type": "code",
        "outputId": "db67de77-b6f3-48dc-de2d-f351da3f03b2",
        "colab": {
          "base_uri": "https://localhost:8080/",
          "height": 153
        }
      },
      "source": [
        "train['source_type'].value_counts()"
      ],
      "execution_count": 0,
      "outputs": [
        {
          "output_type": "execute_result",
          "data": {
            "text/plain": [
              "spring                  12760\n",
              "shallow well            12686\n",
              "borehole                 8919\n",
              "river/lake               7748\n",
              "rainwater harvesting     1734\n",
              "dam                       482\n",
              "other                     221\n",
              "Name: source_type, dtype: int64"
            ]
          },
          "metadata": {
            "tags": []
          },
          "execution_count": 110
        }
      ]
    },
    {
      "cell_type": "code",
      "metadata": {
        "id": "6mcJ5eS5wgxG",
        "colab_type": "code",
        "outputId": "fd3af613-ce27-4269-9d50-a088db98a3a4",
        "colab": {
          "base_uri": "https://localhost:8080/",
          "height": 85
        }
      },
      "source": [
        "train['source_class'].value_counts()"
      ],
      "execution_count": 0,
      "outputs": [
        {
          "output_type": "execute_result",
          "data": {
            "text/plain": [
              "groundwater    34365\n",
              "surface         9964\n",
              "unknown          221\n",
              "Name: source_class, dtype: int64"
            ]
          },
          "metadata": {
            "tags": []
          },
          "execution_count": 111
        }
      ]
    },
    {
      "cell_type": "code",
      "metadata": {
        "id": "HRihpGWJydzG",
        "colab_type": "code",
        "outputId": "802b93fb-4a3b-47fc-c728-7cd4fff93be2",
        "colab": {
          "base_uri": "https://localhost:8080/",
          "height": 153
        }
      },
      "source": [
        "train['waterpoint_type'].value_counts()\t"
      ],
      "execution_count": 0,
      "outputs": [
        {
          "output_type": "execute_result",
          "data": {
            "text/plain": [
              "communal standpipe             21356\n",
              "hand pump                      13162\n",
              "other                           4794\n",
              "communal standpipe multiple     4554\n",
              "improved spring                  596\n",
              "cattle trough                     84\n",
              "dam                                4\n",
              "Name: waterpoint_type, dtype: int64"
            ]
          },
          "metadata": {
            "tags": []
          },
          "execution_count": 112
        }
      ]
    },
    {
      "cell_type": "code",
      "metadata": {
        "id": "Biisxn3kyj40",
        "colab_type": "code",
        "outputId": "e897a75b-7ec4-44c7-e141-b5d175c33e5a",
        "colab": {
          "base_uri": "https://localhost:8080/",
          "height": 136
        }
      },
      "source": [
        "train['waterpoint_type_group'].value_counts()"
      ],
      "execution_count": 0,
      "outputs": [
        {
          "output_type": "execute_result",
          "data": {
            "text/plain": [
              "communal standpipe    25910\n",
              "hand pump             13162\n",
              "other                  4794\n",
              "improved spring         596\n",
              "cattle trough            84\n",
              "dam                       4\n",
              "Name: waterpoint_type_group, dtype: int64"
            ]
          },
          "metadata": {
            "tags": []
          },
          "execution_count": 113
        }
      ]
    },
    {
      "cell_type": "code",
      "metadata": {
        "id": "Eq0gFni1i5Fl",
        "colab_type": "code",
        "colab": {}
      },
      "source": [
        "import numpy as np\n",
        "\n",
        "def wrangle(X):\n",
        "    \"\"\"Wrangle train, validate, and test sets in the same way\"\"\"\n",
        "    \n",
        "    # Prevent SettingWithCopyWarning\n",
        "    X = X.copy()\n",
        "    \n",
        "    # replace very small values with zeros.\n",
        "    X['latitude'] = X['latitude'].replace(-2e-08, 0)\n",
        "    \n",
        "    # When columns have zeros and shouldn't, they are like null values.\n",
        "    # So we will replace the zeros with nulls, and impute missing values later.\n",
        "    cols_with_zeros = ['longitude', 'latitude']\n",
        "    for col in cols_with_zeros:\n",
        "        X[col] = X[col].replace(0, np.nan)\n",
        "            \n",
        "    # drop duplicate columns\n",
        "    X = X.drop(columns = ['quantity_group', 'water_quality', 'extraction_type', \n",
        "                          'extraction_type_group', 'payment', 'source', 'waterpoint_type'])\n",
        "    X['quality_group'] = X['quality_group'].str.replace('good', 'soft')\n",
        "    X['payment_type'] = X['payment_type'].str.replace('on failure', 'upon failure')\n",
        "    \n",
        "    # return the wrangled dataframe\n",
        "    return X\n",
        "\n",
        "train = wrangle(train)\n",
        "val = wrangle(val)\n",
        "test = wrangle(test)"
      ],
      "execution_count": 0,
      "outputs": []
    },
    {
      "cell_type": "code",
      "metadata": {
        "id": "DsgRZGMD0mPE",
        "colab_type": "code",
        "outputId": "40bedb33-f775-49e0-b5f6-43a00e306336",
        "colab": {
          "base_uri": "https://localhost:8080/",
          "height": 34
        }
      },
      "source": [
        "train.shape, val.shape, test.shape"
      ],
      "execution_count": 0,
      "outputs": [
        {
          "output_type": "execute_result",
          "data": {
            "text/plain": [
              "((44550, 34), (14850, 34), (14358, 33))"
            ]
          },
          "metadata": {
            "tags": []
          },
          "execution_count": 115
        }
      ]
    },
    {
      "cell_type": "markdown",
      "metadata": {
        "colab_type": "text",
        "id": "VWix8QYrisCv"
      },
      "source": [
        "# **Select features and target**"
      ]
    },
    {
      "cell_type": "code",
      "metadata": {
        "id": "IS9dT_cf1mUf",
        "colab_type": "code",
        "outputId": "7942d476-1de6-4108-a0bf-0c0a89055699",
        "colab": {
          "base_uri": "https://localhost:8080/",
          "height": 54
        }
      },
      "source": [
        "target = 'status_group'\n",
        "\n",
        "# Get a dataframe with all train columns except the target & id\n",
        "train_features = train.drop(columns=[target, 'id'])\n",
        "\n",
        "# Get a list of the numeric features\n",
        "numeric_features = train_features.select_dtypes(include = 'number').columns.tolist()\n",
        "\n",
        "# Get a series with the cardinality of the nonnumeric features\n",
        "cardinality = train_features.select_dtypes(exclude = 'number').nunique()\n",
        "\n",
        "# Get a list of all categorical features with cardinality <= 50\n",
        "categorical_features = cardinality[cardinality <= 50].index.tolist()\n",
        "\n",
        "# Combine the lists \n",
        "features = numeric_features + categorical_features\n",
        "print(features)"
      ],
      "execution_count": 0,
      "outputs": [
        {
          "output_type": "stream",
          "text": [
            "['amount_tsh', 'gps_height', 'longitude', 'latitude', 'num_private', 'region_code', 'district_code', 'population', 'construction_year', 'basin', 'region', 'public_meeting', 'recorded_by', 'scheme_management', 'permit', 'extraction_type_class', 'management', 'management_group', 'payment_type', 'quality_group', 'quantity', 'source_type', 'source_class', 'waterpoint_type_group']\n"
          ],
          "name": "stdout"
        }
      ]
    },
    {
      "cell_type": "code",
      "metadata": {
        "id": "wYDfpQAs5Wer",
        "colab_type": "code",
        "colab": {}
      },
      "source": [
        "# Arrange data into X features matrix and y target vector \n",
        "X_train = train[features]\n",
        "y_train = train[target]\n",
        "X_val = val[features]\n",
        "y_val = val[target]\n",
        "X_test = test[features]\n",
        "\n"
      ],
      "execution_count": 0,
      "outputs": []
    },
    {
      "cell_type": "markdown",
      "metadata": {
        "id": "FA4wZ0zz7iR0",
        "colab_type": "text"
      },
      "source": [
        "# **Pipeline and regressionfit**"
      ]
    },
    {
      "cell_type": "code",
      "metadata": {
        "id": "BWM9DWkr62yk",
        "colab_type": "code",
        "colab": {}
      },
      "source": [
        "import category_encoders as ce\n",
        "from sklearn.impute import SimpleImputer\n",
        "from sklearn.linear_model import LogisticRegression\n",
        "from sklearn.pipeline import make_pipeline\n",
        "from sklearn.preprocessing import StandardScaler\n",
        "\n",
        "pipeline = make_pipeline(\n",
        "    ce.OneHotEncoder(use_cat_names = True), \n",
        "    SimpleImputer(strategy = 'mean'), \n",
        "    StandardScaler(), \n",
        "    LogisticRegression(multi_class = 'auto', solver = 'lbfgs', n_jobs = -1))\n"
      ],
      "execution_count": 0,
      "outputs": []
    },
    {
      "cell_type": "code",
      "metadata": {
        "id": "g5AB0V7P7vdG",
        "colab_type": "code",
        "outputId": "f9531cfd-2ec9-4730-e01b-57ddbd32efe2",
        "colab": {
          "base_uri": "https://localhost:8080/",
          "height": 51
        }
      },
      "source": [
        "# Fit on train\n",
        "pipeline.fit(X_train, y_train)\n",
        "\n",
        "# Score on train and val\n",
        "print('Train Accuracy', pipeline.score(X_train, y_train))\n",
        "print('Validation Accuracy', pipeline.score(X_val, y_val))\n",
        "\n",
        "# Predict on test\n",
        "y_pred = pipeline.predict(X_test)"
      ],
      "execution_count": 0,
      "outputs": [
        {
          "output_type": "stream",
          "text": [
            "Train Accuracy 0.7294500561167228\n",
            "Validation Accuracy 0.7290909090909091\n"
          ],
          "name": "stdout"
        }
      ]
    },
    {
      "cell_type": "markdown",
      "metadata": {
        "id": "m8Qxk_KyDCBi",
        "colab_type": "text"
      },
      "source": [
        "# **Pipeline and Decision tree fit**"
      ]
    },
    {
      "cell_type": "code",
      "metadata": {
        "id": "Tg9YixgyZtkD",
        "colab_type": "code",
        "colab": {}
      },
      "source": [
        "from sklearn.tree import DecisionTreeClassifier\n",
        "\n",
        "pipeline = make_pipeline(\n",
        "    ce.OneHotEncoder(use_cat_names = True), \n",
        "    SimpleImputer(strategy = 'mean'), \n",
        "    DecisionTreeClassifier(random_state = 42))"
      ],
      "execution_count": 0,
      "outputs": []
    },
    {
      "cell_type": "code",
      "metadata": {
        "id": "YGEqh_PfaR7w",
        "colab_type": "code",
        "outputId": "dc0aff7b-a8d3-4b8e-e47f-c7db5bb7cdb4",
        "colab": {
          "base_uri": "https://localhost:8080/",
          "height": 51
        }
      },
      "source": [
        "# Fit on train\n",
        "pipeline.fit(X_train, y_train)\n",
        "\n",
        "# Score on train, val\n",
        "print('Train Accuracy', pipeline.score(X_train, y_train))\n",
        "print('Validation Accuracy', pipeline.score(X_val, y_val))\n",
        "\n",
        "# Predict on test\n",
        "y_pred = pipeline.predict(X_test)"
      ],
      "execution_count": 0,
      "outputs": [
        {
          "output_type": "stream",
          "text": [
            "Train Accuracy 0.9947250280583614\n",
            "Validation Accuracy 0.7538047138047138\n"
          ],
          "name": "stdout"
        }
      ]
    },
    {
      "cell_type": "markdown",
      "metadata": {
        "id": "JN5888WbdWUW",
        "colab_type": "text"
      },
      "source": [
        "# **ploting feature importances**"
      ]
    },
    {
      "cell_type": "code",
      "metadata": {
        "id": "XBmMP3ZyabF8",
        "colab_type": "code",
        "outputId": "0275c2aa-de04-4591-80df-05aab066f52b",
        "colab": {
          "base_uri": "https://localhost:8080/",
          "height": 654
        }
      },
      "source": [
        "import graphviz\n",
        "from sklearn.tree import export_graphviz\n",
        "\n",
        "model = pipeline.named_steps['decisiontreeclassifier']\n",
        "encoder = pipeline.named_steps['onehotencoder']\n",
        "encoded_columns = encoder.transform(X_val).columns\n",
        "\n",
        "dot_data = export_graphviz(model, \n",
        "                           out_file = None, \n",
        "                           max_depth = 3, \n",
        "                           feature_names = encoded_columns,\n",
        "                           class_names = model.classes_, \n",
        "                           impurity = False, \n",
        "                           filled = True, \n",
        "                           proportion = True, \n",
        "                           rounded = True)   \n",
        "display(graphviz.Source(dot_data))"
      ],
      "execution_count": 0,
      "outputs": [
        {
          "output_type": "display_data",
          "data": {
            "text/plain": [
              "<graphviz.files.Source at 0x7f34602d7898>"
            ],
            "image/svg+xml": "<?xml version=\"1.0\" encoding=\"UTF-8\" standalone=\"no\"?>\n<!DOCTYPE svg PUBLIC \"-//W3C//DTD SVG 1.1//EN\"\n \"http://www.w3.org/Graphics/SVG/1.1/DTD/svg11.dtd\">\n<!-- Generated by graphviz version 2.40.1 (20161225.0304)\n -->\n<!-- Title: Tree Pages: 1 -->\n<svg width=\"1823pt\" height=\"460pt\"\n viewBox=\"0.00 0.00 1822.50 460.00\" xmlns=\"http://www.w3.org/2000/svg\" xmlns:xlink=\"http://www.w3.org/1999/xlink\">\n<g id=\"graph0\" class=\"graph\" transform=\"scale(1 1) rotate(0) translate(4 456)\">\n<title>Tree</title>\n<polygon fill=\"#ffffff\" stroke=\"transparent\" points=\"-4,4 -4,-456 1818.5,-456 1818.5,4 -4,4\"/>\n<!-- 0 -->\n<g id=\"node1\" class=\"node\">\n<title>0</title>\n<path fill=\"#f8decc\" stroke=\"#000000\" d=\"M1007.5,-452C1007.5,-452 831.5,-452 831.5,-452 825.5,-452 819.5,-446 819.5,-440 819.5,-440 819.5,-396 819.5,-396 819.5,-390 825.5,-384 831.5,-384 831.5,-384 1007.5,-384 1007.5,-384 1013.5,-384 1019.5,-390 1019.5,-396 1019.5,-396 1019.5,-440 1019.5,-440 1019.5,-446 1013.5,-452 1007.5,-452\"/>\n<text text-anchor=\"middle\" x=\"919.5\" y=\"-436.8\" font-family=\"Helvetica,sans-Serif\" font-size=\"14.00\" fill=\"#000000\">quantity_dry &lt;= 0.5</text>\n<text text-anchor=\"middle\" x=\"919.5\" y=\"-421.8\" font-family=\"Helvetica,sans-Serif\" font-size=\"14.00\" fill=\"#000000\">samples = 100.0%</text>\n<text text-anchor=\"middle\" x=\"919.5\" y=\"-406.8\" font-family=\"Helvetica,sans-Serif\" font-size=\"14.00\" fill=\"#000000\">value = [0.543, 0.073, 0.384]</text>\n<text text-anchor=\"middle\" x=\"919.5\" y=\"-391.8\" font-family=\"Helvetica,sans-Serif\" font-size=\"14.00\" fill=\"#000000\">class = functional</text>\n</g>\n<!-- 1 -->\n<g id=\"node2\" class=\"node\">\n<title>1</title>\n<path fill=\"#f4caac\" stroke=\"#000000\" d=\"M826,-348C826,-348 599,-348 599,-348 593,-348 587,-342 587,-336 587,-336 587,-292 587,-292 587,-286 593,-280 599,-280 599,-280 826,-280 826,-280 832,-280 838,-286 838,-292 838,-292 838,-336 838,-336 838,-342 832,-348 826,-348\"/>\n<text text-anchor=\"middle\" x=\"712.5\" y=\"-332.8\" font-family=\"Helvetica,sans-Serif\" font-size=\"14.00\" fill=\"#000000\">waterpoint_type_group_other &lt;= 0.5</text>\n<text text-anchor=\"middle\" x=\"712.5\" y=\"-317.8\" font-family=\"Helvetica,sans-Serif\" font-size=\"14.00\" fill=\"#000000\">samples = 89.6%</text>\n<text text-anchor=\"middle\" x=\"712.5\" y=\"-302.8\" font-family=\"Helvetica,sans-Serif\" font-size=\"14.00\" fill=\"#000000\">value = [0.603, 0.08, 0.317]</text>\n<text text-anchor=\"middle\" x=\"712.5\" y=\"-287.8\" font-family=\"Helvetica,sans-Serif\" font-size=\"14.00\" fill=\"#000000\">class = functional</text>\n</g>\n<!-- 0&#45;&gt;1 -->\n<g id=\"edge1\" class=\"edge\">\n<title>0&#45;&gt;1</title>\n<path fill=\"none\" stroke=\"#000000\" d=\"M851.7205,-383.9465C831.7946,-373.9354 809.8554,-362.9129 789.4027,-352.6371\"/>\n<polygon fill=\"#000000\" stroke=\"#000000\" points=\"790.9388,-349.492 780.4318,-348.13 787.7961,-355.7469 790.9388,-349.492\"/>\n<text text-anchor=\"middle\" x=\"788.2917\" y=\"-368.1623\" font-family=\"Helvetica,sans-Serif\" font-size=\"14.00\" fill=\"#000000\">True</text>\n</g>\n<!-- 17350 -->\n<g id=\"node17\" class=\"node\">\n<title>17350</title>\n<path fill=\"#8540e6\" stroke=\"#000000\" d=\"M1290.5,-348C1290.5,-348 1034.5,-348 1034.5,-348 1028.5,-348 1022.5,-342 1022.5,-336 1022.5,-336 1022.5,-292 1022.5,-292 1022.5,-286 1028.5,-280 1034.5,-280 1034.5,-280 1290.5,-280 1290.5,-280 1296.5,-280 1302.5,-286 1302.5,-292 1302.5,-292 1302.5,-336 1302.5,-336 1302.5,-342 1296.5,-348 1290.5,-348\"/>\n<text text-anchor=\"middle\" x=\"1162.5\" y=\"-332.8\" font-family=\"Helvetica,sans-Serif\" font-size=\"14.00\" fill=\"#000000\">extraction_type_class_handpump &lt;= 0.5</text>\n<text text-anchor=\"middle\" x=\"1162.5\" y=\"-317.8\" font-family=\"Helvetica,sans-Serif\" font-size=\"14.00\" fill=\"#000000\">samples = 10.4%</text>\n<text text-anchor=\"middle\" x=\"1162.5\" y=\"-302.8\" font-family=\"Helvetica,sans-Serif\" font-size=\"14.00\" fill=\"#000000\">value = [0.026, 0.006, 0.968]</text>\n<text text-anchor=\"middle\" x=\"1162.5\" y=\"-287.8\" font-family=\"Helvetica,sans-Serif\" font-size=\"14.00\" fill=\"#000000\">class = non functional</text>\n</g>\n<!-- 0&#45;&gt;17350 -->\n<g id=\"edge16\" class=\"edge\">\n<title>0&#45;&gt;17350</title>\n<path fill=\"none\" stroke=\"#000000\" d=\"M999.0673,-383.9465C1022.8781,-373.7559 1049.1379,-362.5171 1073.5132,-352.0849\"/>\n<polygon fill=\"#000000\" stroke=\"#000000\" points=\"1074.9377,-355.2824 1082.754,-348.13 1072.1834,-348.847 1074.9377,-355.2824\"/>\n<text text-anchor=\"middle\" x=\"1073.4577\" y=\"-367.6373\" font-family=\"Helvetica,sans-Serif\" font-size=\"14.00\" fill=\"#000000\">False</text>\n</g>\n<!-- 2 -->\n<g id=\"node3\" class=\"node\">\n<title>2</title>\n<path fill=\"#f1bd98\" stroke=\"#000000\" d=\"M495.5,-244C495.5,-244 319.5,-244 319.5,-244 313.5,-244 307.5,-238 307.5,-232 307.5,-232 307.5,-188 307.5,-188 307.5,-182 313.5,-176 319.5,-176 319.5,-176 495.5,-176 495.5,-176 501.5,-176 507.5,-182 507.5,-188 507.5,-188 507.5,-232 507.5,-232 507.5,-238 501.5,-244 495.5,-244\"/>\n<text text-anchor=\"middle\" x=\"407.5\" y=\"-228.8\" font-family=\"Helvetica,sans-Serif\" font-size=\"14.00\" fill=\"#000000\">amount_tsh &lt;= 1.5</text>\n<text text-anchor=\"middle\" x=\"407.5\" y=\"-213.8\" font-family=\"Helvetica,sans-Serif\" font-size=\"14.00\" fill=\"#000000\">samples = 81.2%</text>\n<text text-anchor=\"middle\" x=\"407.5\" y=\"-198.8\" font-family=\"Helvetica,sans-Serif\" font-size=\"14.00\" fill=\"#000000\">value = [0.649, 0.083, 0.268]</text>\n<text text-anchor=\"middle\" x=\"407.5\" y=\"-183.8\" font-family=\"Helvetica,sans-Serif\" font-size=\"14.00\" fill=\"#000000\">class = functional</text>\n</g>\n<!-- 1&#45;&gt;2 -->\n<g id=\"edge2\" class=\"edge\">\n<title>1&#45;&gt;2</title>\n<path fill=\"none\" stroke=\"#000000\" d=\"M612.6316,-279.9465C582.0086,-269.5046 548.1583,-257.9622 516.9322,-247.3146\"/>\n<polygon fill=\"#000000\" stroke=\"#000000\" points=\"517.9266,-243.9558 507.3321,-244.0411 515.6674,-250.5813 517.9266,-243.9558\"/>\n</g>\n<!-- 16267 -->\n<g id=\"node10\" class=\"node\">\n<title>16267</title>\n<path fill=\"#a26dec\" stroke=\"#000000\" d=\"M822,-244C822,-244 603,-244 603,-244 597,-244 591,-238 591,-232 591,-232 591,-188 591,-188 591,-182 597,-176 603,-176 603,-176 822,-176 822,-176 828,-176 834,-182 834,-188 834,-188 834,-232 834,-232 834,-238 828,-244 822,-244\"/>\n<text text-anchor=\"middle\" x=\"712.5\" y=\"-228.8\" font-family=\"Helvetica,sans-Serif\" font-size=\"14.00\" fill=\"#000000\">extraction_type_class_other &lt;= 0.5</text>\n<text text-anchor=\"middle\" x=\"712.5\" y=\"-213.8\" font-family=\"Helvetica,sans-Serif\" font-size=\"14.00\" fill=\"#000000\">samples = 8.4%</text>\n<text text-anchor=\"middle\" x=\"712.5\" y=\"-198.8\" font-family=\"Helvetica,sans-Serif\" font-size=\"14.00\" fill=\"#000000\">value = [0.161, 0.059, 0.78]</text>\n<text text-anchor=\"middle\" x=\"712.5\" y=\"-183.8\" font-family=\"Helvetica,sans-Serif\" font-size=\"14.00\" fill=\"#000000\">class = non functional</text>\n</g>\n<!-- 1&#45;&gt;16267 -->\n<g id=\"edge9\" class=\"edge\">\n<title>1&#45;&gt;16267</title>\n<path fill=\"none\" stroke=\"#000000\" d=\"M712.5,-279.9465C712.5,-271.776 712.5,-262.9318 712.5,-254.3697\"/>\n<polygon fill=\"#000000\" stroke=\"#000000\" points=\"716.0001,-254.13 712.5,-244.13 709.0001,-254.13 716.0001,-254.13\"/>\n</g>\n<!-- 3 -->\n<g id=\"node4\" class=\"node\">\n<title>3</title>\n<path fill=\"#f4ccaf\" stroke=\"#000000\" d=\"M277,-140C277,-140 12,-140 12,-140 6,-140 0,-134 0,-128 0,-128 0,-84 0,-84 0,-78 6,-72 12,-72 12,-72 277,-72 277,-72 283,-72 289,-78 289,-84 289,-84 289,-128 289,-128 289,-134 283,-140 277,-140\"/>\n<text text-anchor=\"middle\" x=\"144.5\" y=\"-124.8\" font-family=\"Helvetica,sans-Serif\" font-size=\"14.00\" fill=\"#000000\">extraction_type_class_submersible &lt;= 0.5</text>\n<text text-anchor=\"middle\" x=\"144.5\" y=\"-109.8\" font-family=\"Helvetica,sans-Serif\" font-size=\"14.00\" fill=\"#000000\">samples = 53.2%</text>\n<text text-anchor=\"middle\" x=\"144.5\" y=\"-94.8\" font-family=\"Helvetica,sans-Serif\" font-size=\"14.00\" fill=\"#000000\">value = [0.594, 0.086, 0.319]</text>\n<text text-anchor=\"middle\" x=\"144.5\" y=\"-79.8\" font-family=\"Helvetica,sans-Serif\" font-size=\"14.00\" fill=\"#000000\">class = functional</text>\n</g>\n<!-- 2&#45;&gt;3 -->\n<g id=\"edge3\" class=\"edge\">\n<title>2&#45;&gt;3</title>\n<path fill=\"none\" stroke=\"#000000\" d=\"M321.384,-175.9465C295.3864,-165.6661 266.6913,-154.319 240.114,-143.8093\"/>\n<polygon fill=\"#000000\" stroke=\"#000000\" points=\"241.3959,-140.5526 230.8095,-140.13 238.8218,-147.0621 241.3959,-140.5526\"/>\n</g>\n<!-- 11548 -->\n<g id=\"node7\" class=\"node\">\n<title>11548</title>\n<path fill=\"#eda774\" stroke=\"#000000\" d=\"M495.5,-140C495.5,-140 319.5,-140 319.5,-140 313.5,-140 307.5,-134 307.5,-128 307.5,-128 307.5,-84 307.5,-84 307.5,-78 313.5,-72 319.5,-72 319.5,-72 495.5,-72 495.5,-72 501.5,-72 507.5,-78 507.5,-84 507.5,-84 507.5,-128 507.5,-128 507.5,-134 501.5,-140 495.5,-140\"/>\n<text text-anchor=\"middle\" x=\"407.5\" y=\"-124.8\" font-family=\"Helvetica,sans-Serif\" font-size=\"14.00\" fill=\"#000000\">longitude &lt;= 30.65</text>\n<text text-anchor=\"middle\" x=\"407.5\" y=\"-109.8\" font-family=\"Helvetica,sans-Serif\" font-size=\"14.00\" fill=\"#000000\">samples = 28.0%</text>\n<text text-anchor=\"middle\" x=\"407.5\" y=\"-94.8\" font-family=\"Helvetica,sans-Serif\" font-size=\"14.00\" fill=\"#000000\">value = [0.752, 0.076, 0.172]</text>\n<text text-anchor=\"middle\" x=\"407.5\" y=\"-79.8\" font-family=\"Helvetica,sans-Serif\" font-size=\"14.00\" fill=\"#000000\">class = functional</text>\n</g>\n<!-- 2&#45;&gt;11548 -->\n<g id=\"edge6\" class=\"edge\">\n<title>2&#45;&gt;11548</title>\n<path fill=\"none\" stroke=\"#000000\" d=\"M407.5,-175.9465C407.5,-167.776 407.5,-158.9318 407.5,-150.3697\"/>\n<polygon fill=\"#000000\" stroke=\"#000000\" points=\"411.0001,-150.13 407.5,-140.13 404.0001,-150.13 411.0001,-150.13\"/>\n</g>\n<!-- 4 -->\n<g id=\"node5\" class=\"node\">\n<title>4</title>\n<path fill=\"#c0c0c0\" stroke=\"#000000\" d=\"M123.5,-36C123.5,-36 93.5,-36 93.5,-36 87.5,-36 81.5,-30 81.5,-24 81.5,-24 81.5,-12 81.5,-12 81.5,-6 87.5,0 93.5,0 93.5,0 123.5,0 123.5,0 129.5,0 135.5,-6 135.5,-12 135.5,-12 135.5,-24 135.5,-24 135.5,-30 129.5,-36 123.5,-36\"/>\n<text text-anchor=\"middle\" x=\"108.5\" y=\"-14.3\" font-family=\"Helvetica,sans-Serif\" font-size=\"14.00\" fill=\"#000000\">(...)</text>\n</g>\n<!-- 3&#45;&gt;4 -->\n<g id=\"edge4\" class=\"edge\">\n<title>3&#45;&gt;4</title>\n<path fill=\"none\" stroke=\"#000000\" d=\"M130.5815,-71.9769C126.9977,-63.2167 123.1862,-53.8995 119.7564,-45.5157\"/>\n<polygon fill=\"#000000\" stroke=\"#000000\" points=\"122.968,-44.1222 115.9422,-36.192 116.4891,-46.7727 122.968,-44.1222\"/>\n</g>\n<!-- 10975 -->\n<g id=\"node6\" class=\"node\">\n<title>10975</title>\n<path fill=\"#c0c0c0\" stroke=\"#000000\" d=\"M195.5,-36C195.5,-36 165.5,-36 165.5,-36 159.5,-36 153.5,-30 153.5,-24 153.5,-24 153.5,-12 153.5,-12 153.5,-6 159.5,0 165.5,0 165.5,0 195.5,0 195.5,0 201.5,0 207.5,-6 207.5,-12 207.5,-12 207.5,-24 207.5,-24 207.5,-30 201.5,-36 195.5,-36\"/>\n<text text-anchor=\"middle\" x=\"180.5\" y=\"-14.3\" font-family=\"Helvetica,sans-Serif\" font-size=\"14.00\" fill=\"#000000\">(...)</text>\n</g>\n<!-- 3&#45;&gt;10975 -->\n<g id=\"edge5\" class=\"edge\">\n<title>3&#45;&gt;10975</title>\n<path fill=\"none\" stroke=\"#000000\" d=\"M158.4185,-71.9769C162.0023,-63.2167 165.8138,-53.8995 169.2436,-45.5157\"/>\n<polygon fill=\"#000000\" stroke=\"#000000\" points=\"172.5109,-46.7727 173.0578,-36.192 166.032,-44.1222 172.5109,-46.7727\"/>\n</g>\n<!-- 11549 -->\n<g id=\"node8\" class=\"node\">\n<title>11549</title>\n<path fill=\"#c0c0c0\" stroke=\"#000000\" d=\"M386.5,-36C386.5,-36 356.5,-36 356.5,-36 350.5,-36 344.5,-30 344.5,-24 344.5,-24 344.5,-12 344.5,-12 344.5,-6 350.5,0 356.5,0 356.5,0 386.5,0 386.5,0 392.5,0 398.5,-6 398.5,-12 398.5,-12 398.5,-24 398.5,-24 398.5,-30 392.5,-36 386.5,-36\"/>\n<text text-anchor=\"middle\" x=\"371.5\" y=\"-14.3\" font-family=\"Helvetica,sans-Serif\" font-size=\"14.00\" fill=\"#000000\">(...)</text>\n</g>\n<!-- 11548&#45;&gt;11549 -->\n<g id=\"edge7\" class=\"edge\">\n<title>11548&#45;&gt;11549</title>\n<path fill=\"none\" stroke=\"#000000\" d=\"M393.5815,-71.9769C389.9977,-63.2167 386.1862,-53.8995 382.7564,-45.5157\"/>\n<polygon fill=\"#000000\" stroke=\"#000000\" points=\"385.968,-44.1222 378.9422,-36.192 379.4891,-46.7727 385.968,-44.1222\"/>\n</g>\n<!-- 12326 -->\n<g id=\"node9\" class=\"node\">\n<title>12326</title>\n<path fill=\"#c0c0c0\" stroke=\"#000000\" d=\"M458.5,-36C458.5,-36 428.5,-36 428.5,-36 422.5,-36 416.5,-30 416.5,-24 416.5,-24 416.5,-12 416.5,-12 416.5,-6 422.5,0 428.5,0 428.5,0 458.5,0 458.5,0 464.5,0 470.5,-6 470.5,-12 470.5,-12 470.5,-24 470.5,-24 470.5,-30 464.5,-36 458.5,-36\"/>\n<text text-anchor=\"middle\" x=\"443.5\" y=\"-14.3\" font-family=\"Helvetica,sans-Serif\" font-size=\"14.00\" fill=\"#000000\">(...)</text>\n</g>\n<!-- 11548&#45;&gt;12326 -->\n<g id=\"edge8\" class=\"edge\">\n<title>11548&#45;&gt;12326</title>\n<path fill=\"none\" stroke=\"#000000\" d=\"M421.4185,-71.9769C425.0023,-63.2167 428.8138,-53.8995 432.2436,-45.5157\"/>\n<polygon fill=\"#000000\" stroke=\"#000000\" points=\"435.5109,-46.7727 436.0578,-36.192 429.032,-44.1222 435.5109,-46.7727\"/>\n</g>\n<!-- 16268 -->\n<g id=\"node11\" class=\"node\">\n<title>16268</title>\n<path fill=\"#c9abf4\" stroke=\"#000000\" d=\"M713.5,-140C713.5,-140 537.5,-140 537.5,-140 531.5,-140 525.5,-134 525.5,-128 525.5,-128 525.5,-84 525.5,-84 525.5,-78 531.5,-72 537.5,-72 537.5,-72 713.5,-72 713.5,-72 719.5,-72 725.5,-78 725.5,-84 725.5,-84 725.5,-128 725.5,-128 725.5,-134 719.5,-140 713.5,-140\"/>\n<text text-anchor=\"middle\" x=\"625.5\" y=\"-124.8\" font-family=\"Helvetica,sans-Serif\" font-size=\"14.00\" fill=\"#000000\">latitude &lt;= &#45;2.919</text>\n<text text-anchor=\"middle\" x=\"625.5\" y=\"-109.8\" font-family=\"Helvetica,sans-Serif\" font-size=\"14.00\" fill=\"#000000\">samples = 2.3%</text>\n<text text-anchor=\"middle\" x=\"625.5\" y=\"-94.8\" font-family=\"Helvetica,sans-Serif\" font-size=\"14.00\" fill=\"#000000\">value = [0.287, 0.122, 0.591]</text>\n<text text-anchor=\"middle\" x=\"625.5\" y=\"-79.8\" font-family=\"Helvetica,sans-Serif\" font-size=\"14.00\" fill=\"#000000\">class = non functional</text>\n</g>\n<!-- 16267&#45;&gt;16268 -->\n<g id=\"edge10\" class=\"edge\">\n<title>16267&#45;&gt;16268</title>\n<path fill=\"none\" stroke=\"#000000\" d=\"M684.0129,-175.9465C676.5021,-166.968 668.3105,-157.1758 660.4995,-147.8385\"/>\n<polygon fill=\"#000000\" stroke=\"#000000\" points=\"663.152,-145.5544 654.0511,-140.13 657.7829,-150.0459 663.152,-145.5544\"/>\n</g>\n<!-- 16679 -->\n<g id=\"node14\" class=\"node\">\n<title>16679</title>\n<path fill=\"#965ae9\" stroke=\"#000000\" d=\"M931.5,-140C931.5,-140 755.5,-140 755.5,-140 749.5,-140 743.5,-134 743.5,-128 743.5,-128 743.5,-84 743.5,-84 743.5,-78 749.5,-72 755.5,-72 755.5,-72 931.5,-72 931.5,-72 937.5,-72 943.5,-78 943.5,-84 943.5,-84 943.5,-128 943.5,-128 943.5,-134 937.5,-140 931.5,-140\"/>\n<text text-anchor=\"middle\" x=\"843.5\" y=\"-124.8\" font-family=\"Helvetica,sans-Serif\" font-size=\"14.00\" fill=\"#000000\">source_type_spring &lt;= 0.5</text>\n<text text-anchor=\"middle\" x=\"843.5\" y=\"-109.8\" font-family=\"Helvetica,sans-Serif\" font-size=\"14.00\" fill=\"#000000\">samples = 6.1%</text>\n<text text-anchor=\"middle\" x=\"843.5\" y=\"-94.8\" font-family=\"Helvetica,sans-Serif\" font-size=\"14.00\" fill=\"#000000\">value = [0.113, 0.034, 0.852]</text>\n<text text-anchor=\"middle\" x=\"843.5\" y=\"-79.8\" font-family=\"Helvetica,sans-Serif\" font-size=\"14.00\" fill=\"#000000\">class = non functional</text>\n</g>\n<!-- 16267&#45;&gt;16679 -->\n<g id=\"edge13\" class=\"edge\">\n<title>16267&#45;&gt;16679</title>\n<path fill=\"none\" stroke=\"#000000\" d=\"M755.3943,-175.9465C767.2693,-166.519 780.2741,-156.1946 792.5593,-146.4415\"/>\n<polygon fill=\"#000000\" stroke=\"#000000\" points=\"794.8536,-149.089 800.5093,-140.13 790.5011,-143.6066 794.8536,-149.089\"/>\n</g>\n<!-- 16269 -->\n<g id=\"node12\" class=\"node\">\n<title>16269</title>\n<path fill=\"#c0c0c0\" stroke=\"#000000\" d=\"M604.5,-36C604.5,-36 574.5,-36 574.5,-36 568.5,-36 562.5,-30 562.5,-24 562.5,-24 562.5,-12 562.5,-12 562.5,-6 568.5,0 574.5,0 574.5,0 604.5,0 604.5,0 610.5,0 616.5,-6 616.5,-12 616.5,-12 616.5,-24 616.5,-24 616.5,-30 610.5,-36 604.5,-36\"/>\n<text text-anchor=\"middle\" x=\"589.5\" y=\"-14.3\" font-family=\"Helvetica,sans-Serif\" font-size=\"14.00\" fill=\"#000000\">(...)</text>\n</g>\n<!-- 16268&#45;&gt;16269 -->\n<g id=\"edge11\" class=\"edge\">\n<title>16268&#45;&gt;16269</title>\n<path fill=\"none\" stroke=\"#000000\" d=\"M611.5815,-71.9769C607.9977,-63.2167 604.1862,-53.8995 600.7564,-45.5157\"/>\n<polygon fill=\"#000000\" stroke=\"#000000\" points=\"603.968,-44.1222 596.9422,-36.192 597.4891,-46.7727 603.968,-44.1222\"/>\n</g>\n<!-- 16592 -->\n<g id=\"node13\" class=\"node\">\n<title>16592</title>\n<path fill=\"#c0c0c0\" stroke=\"#000000\" d=\"M676.5,-36C676.5,-36 646.5,-36 646.5,-36 640.5,-36 634.5,-30 634.5,-24 634.5,-24 634.5,-12 634.5,-12 634.5,-6 640.5,0 646.5,0 646.5,0 676.5,0 676.5,0 682.5,0 688.5,-6 688.5,-12 688.5,-12 688.5,-24 688.5,-24 688.5,-30 682.5,-36 676.5,-36\"/>\n<text text-anchor=\"middle\" x=\"661.5\" y=\"-14.3\" font-family=\"Helvetica,sans-Serif\" font-size=\"14.00\" fill=\"#000000\">(...)</text>\n</g>\n<!-- 16268&#45;&gt;16592 -->\n<g id=\"edge12\" class=\"edge\">\n<title>16268&#45;&gt;16592</title>\n<path fill=\"none\" stroke=\"#000000\" d=\"M639.4185,-71.9769C643.0023,-63.2167 646.8138,-53.8995 650.2436,-45.5157\"/>\n<polygon fill=\"#000000\" stroke=\"#000000\" points=\"653.5109,-46.7727 654.0578,-36.192 647.032,-44.1222 653.5109,-46.7727\"/>\n</g>\n<!-- 16680 -->\n<g id=\"node15\" class=\"node\">\n<title>16680</title>\n<path fill=\"#c0c0c0\" stroke=\"#000000\" d=\"M822.5,-36C822.5,-36 792.5,-36 792.5,-36 786.5,-36 780.5,-30 780.5,-24 780.5,-24 780.5,-12 780.5,-12 780.5,-6 786.5,0 792.5,0 792.5,0 822.5,0 822.5,0 828.5,0 834.5,-6 834.5,-12 834.5,-12 834.5,-24 834.5,-24 834.5,-30 828.5,-36 822.5,-36\"/>\n<text text-anchor=\"middle\" x=\"807.5\" y=\"-14.3\" font-family=\"Helvetica,sans-Serif\" font-size=\"14.00\" fill=\"#000000\">(...)</text>\n</g>\n<!-- 16679&#45;&gt;16680 -->\n<g id=\"edge14\" class=\"edge\">\n<title>16679&#45;&gt;16680</title>\n<path fill=\"none\" stroke=\"#000000\" d=\"M829.5815,-71.9769C825.9977,-63.2167 822.1862,-53.8995 818.7564,-45.5157\"/>\n<polygon fill=\"#000000\" stroke=\"#000000\" points=\"821.968,-44.1222 814.9422,-36.192 815.4891,-46.7727 821.968,-44.1222\"/>\n</g>\n<!-- 17313 -->\n<g id=\"node16\" class=\"node\">\n<title>17313</title>\n<path fill=\"#c0c0c0\" stroke=\"#000000\" d=\"M894.5,-36C894.5,-36 864.5,-36 864.5,-36 858.5,-36 852.5,-30 852.5,-24 852.5,-24 852.5,-12 852.5,-12 852.5,-6 858.5,0 864.5,0 864.5,0 894.5,0 894.5,0 900.5,0 906.5,-6 906.5,-12 906.5,-12 906.5,-24 906.5,-24 906.5,-30 900.5,-36 894.5,-36\"/>\n<text text-anchor=\"middle\" x=\"879.5\" y=\"-14.3\" font-family=\"Helvetica,sans-Serif\" font-size=\"14.00\" fill=\"#000000\">(...)</text>\n</g>\n<!-- 16679&#45;&gt;17313 -->\n<g id=\"edge15\" class=\"edge\">\n<title>16679&#45;&gt;17313</title>\n<path fill=\"none\" stroke=\"#000000\" d=\"M857.4185,-71.9769C861.0023,-63.2167 864.8138,-53.8995 868.2436,-45.5157\"/>\n<polygon fill=\"#000000\" stroke=\"#000000\" points=\"871.5109,-46.7727 872.0578,-36.192 865.032,-44.1222 871.5109,-46.7727\"/>\n</g>\n<!-- 17351 -->\n<g id=\"node18\" class=\"node\">\n<title>17351</title>\n<path fill=\"#843de6\" stroke=\"#000000\" d=\"M1251,-244C1251,-244 1074,-244 1074,-244 1068,-244 1062,-238 1062,-232 1062,-232 1062,-188 1062,-188 1062,-182 1068,-176 1074,-176 1074,-176 1251,-176 1251,-176 1257,-176 1263,-182 1263,-188 1263,-188 1263,-232 1263,-232 1263,-238 1257,-244 1251,-244\"/>\n<text text-anchor=\"middle\" x=\"1162.5\" y=\"-228.8\" font-family=\"Helvetica,sans-Serif\" font-size=\"14.00\" fill=\"#000000\">construction_year &lt;= 2011.5</text>\n<text text-anchor=\"middle\" x=\"1162.5\" y=\"-213.8\" font-family=\"Helvetica,sans-Serif\" font-size=\"14.00\" fill=\"#000000\">samples = 8.5%</text>\n<text text-anchor=\"middle\" x=\"1162.5\" y=\"-198.8\" font-family=\"Helvetica,sans-Serif\" font-size=\"14.00\" fill=\"#000000\">value = [0.014, 0.006, 0.98]</text>\n<text text-anchor=\"middle\" x=\"1162.5\" y=\"-183.8\" font-family=\"Helvetica,sans-Serif\" font-size=\"14.00\" fill=\"#000000\">class = non functional</text>\n</g>\n<!-- 17350&#45;&gt;17351 -->\n<g id=\"edge17\" class=\"edge\">\n<title>17350&#45;&gt;17351</title>\n<path fill=\"none\" stroke=\"#000000\" d=\"M1162.5,-279.9465C1162.5,-271.776 1162.5,-262.9318 1162.5,-254.3697\"/>\n<polygon fill=\"#000000\" stroke=\"#000000\" points=\"1166.0001,-254.13 1162.5,-244.13 1159.0001,-254.13 1166.0001,-254.13\"/>\n</g>\n<!-- 17572 -->\n<g id=\"node25\" class=\"node\">\n<title>17572</title>\n<path fill=\"#8d4ce7\" stroke=\"#000000\" d=\"M1576.5,-244C1576.5,-244 1400.5,-244 1400.5,-244 1394.5,-244 1388.5,-238 1388.5,-232 1388.5,-232 1388.5,-188 1388.5,-188 1388.5,-182 1394.5,-176 1400.5,-176 1400.5,-176 1576.5,-176 1576.5,-176 1582.5,-176 1588.5,-182 1588.5,-188 1588.5,-188 1588.5,-232 1588.5,-232 1588.5,-238 1582.5,-244 1576.5,-244\"/>\n<text text-anchor=\"middle\" x=\"1488.5\" y=\"-228.8\" font-family=\"Helvetica,sans-Serif\" font-size=\"14.00\" fill=\"#000000\">latitude &lt;= &#45;4.261</text>\n<text text-anchor=\"middle\" x=\"1488.5\" y=\"-213.8\" font-family=\"Helvetica,sans-Serif\" font-size=\"14.00\" fill=\"#000000\">samples = 1.9%</text>\n<text text-anchor=\"middle\" x=\"1488.5\" y=\"-198.8\" font-family=\"Helvetica,sans-Serif\" font-size=\"14.00\" fill=\"#000000\">value = [0.078, 0.009, 0.913]</text>\n<text text-anchor=\"middle\" x=\"1488.5\" y=\"-183.8\" font-family=\"Helvetica,sans-Serif\" font-size=\"14.00\" fill=\"#000000\">class = non functional</text>\n</g>\n<!-- 17350&#45;&gt;17572 -->\n<g id=\"edge24\" class=\"edge\">\n<title>17350&#45;&gt;17572</title>\n<path fill=\"none\" stroke=\"#000000\" d=\"M1269.2446,-279.9465C1304.2951,-268.7648 1343.3012,-256.3211 1378.5826,-245.0657\"/>\n<polygon fill=\"#000000\" stroke=\"#000000\" points=\"1379.9655,-248.2984 1388.4286,-241.9246 1377.8379,-241.6295 1379.9655,-248.2984\"/>\n</g>\n<!-- 17352 -->\n<g id=\"node19\" class=\"node\">\n<title>17352</title>\n<path fill=\"#833ce5\" stroke=\"#000000\" d=\"M1149.5,-140C1149.5,-140 973.5,-140 973.5,-140 967.5,-140 961.5,-134 961.5,-128 961.5,-128 961.5,-84 961.5,-84 961.5,-78 967.5,-72 973.5,-72 973.5,-72 1149.5,-72 1149.5,-72 1155.5,-72 1161.5,-78 1161.5,-84 1161.5,-84 1161.5,-128 1161.5,-128 1161.5,-134 1155.5,-140 1149.5,-140\"/>\n<text text-anchor=\"middle\" x=\"1061.5\" y=\"-124.8\" font-family=\"Helvetica,sans-Serif\" font-size=\"14.00\" fill=\"#000000\">management_trust &lt;= 0.5</text>\n<text text-anchor=\"middle\" x=\"1061.5\" y=\"-109.8\" font-family=\"Helvetica,sans-Serif\" font-size=\"14.00\" fill=\"#000000\">samples = 8.4%</text>\n<text text-anchor=\"middle\" x=\"1061.5\" y=\"-94.8\" font-family=\"Helvetica,sans-Serif\" font-size=\"14.00\" fill=\"#000000\">value = [0.012, 0.006, 0.983]</text>\n<text text-anchor=\"middle\" x=\"1061.5\" y=\"-79.8\" font-family=\"Helvetica,sans-Serif\" font-size=\"14.00\" fill=\"#000000\">class = non functional</text>\n</g>\n<!-- 17351&#45;&gt;17352 -->\n<g id=\"edge18\" class=\"edge\">\n<title>17351&#45;&gt;17352</title>\n<path fill=\"none\" stroke=\"#000000\" d=\"M1129.4288,-175.9465C1120.6221,-166.8782 1111.0093,-156.9799 1101.8597,-147.5585\"/>\n<polygon fill=\"#000000\" stroke=\"#000000\" points=\"1104.1232,-144.8654 1094.6455,-140.13 1099.1015,-149.7422 1104.1232,-144.8654\"/>\n</g>\n<!-- 17561 -->\n<g id=\"node22\" class=\"node\">\n<title>17561</title>\n<path fill=\"#ab7bee\" stroke=\"#000000\" d=\"M1335,-140C1335,-140 1192,-140 1192,-140 1186,-140 1180,-134 1180,-128 1180,-128 1180,-84 1180,-84 1180,-78 1186,-72 1192,-72 1192,-72 1335,-72 1335,-72 1341,-72 1347,-78 1347,-84 1347,-84 1347,-128 1347,-128 1347,-134 1341,-140 1335,-140\"/>\n<text text-anchor=\"middle\" x=\"1263.5\" y=\"-124.8\" font-family=\"Helvetica,sans-Serif\" font-size=\"14.00\" fill=\"#000000\">latitude &lt;= &#45;10.752</text>\n<text text-anchor=\"middle\" x=\"1263.5\" y=\"-109.8\" font-family=\"Helvetica,sans-Serif\" font-size=\"14.00\" fill=\"#000000\">samples = 0.1%</text>\n<text text-anchor=\"middle\" x=\"1263.5\" y=\"-94.8\" font-family=\"Helvetica,sans-Serif\" font-size=\"14.00\" fill=\"#000000\">value = [0.25, 0.0, 0.75]</text>\n<text text-anchor=\"middle\" x=\"1263.5\" y=\"-79.8\" font-family=\"Helvetica,sans-Serif\" font-size=\"14.00\" fill=\"#000000\">class = non functional</text>\n</g>\n<!-- 17351&#45;&gt;17561 -->\n<g id=\"edge21\" class=\"edge\">\n<title>17351&#45;&gt;17561</title>\n<path fill=\"none\" stroke=\"#000000\" d=\"M1195.5712,-175.9465C1204.3779,-166.8782 1213.9907,-156.9799 1223.1403,-147.5585\"/>\n<polygon fill=\"#000000\" stroke=\"#000000\" points=\"1225.8985,-149.7422 1230.3545,-140.13 1220.8768,-144.8654 1225.8985,-149.7422\"/>\n</g>\n<!-- 17353 -->\n<g id=\"node20\" class=\"node\">\n<title>17353</title>\n<path fill=\"#c0c0c0\" stroke=\"#000000\" d=\"M1033.5,-36C1033.5,-36 1003.5,-36 1003.5,-36 997.5,-36 991.5,-30 991.5,-24 991.5,-24 991.5,-12 991.5,-12 991.5,-6 997.5,0 1003.5,0 1003.5,0 1033.5,0 1033.5,0 1039.5,0 1045.5,-6 1045.5,-12 1045.5,-12 1045.5,-24 1045.5,-24 1045.5,-30 1039.5,-36 1033.5,-36\"/>\n<text text-anchor=\"middle\" x=\"1018.5\" y=\"-14.3\" font-family=\"Helvetica,sans-Serif\" font-size=\"14.00\" fill=\"#000000\">(...)</text>\n</g>\n<!-- 17352&#45;&gt;17353 -->\n<g id=\"edge19\" class=\"edge\">\n<title>17352&#45;&gt;17353</title>\n<path fill=\"none\" stroke=\"#000000\" d=\"M1044.8751,-71.9769C1040.548,-63.1215 1035.9428,-53.6969 1031.8118,-45.2427\"/>\n<polygon fill=\"#000000\" stroke=\"#000000\" points=\"1034.9242,-43.6401 1027.3892,-36.192 1028.6349,-46.7133 1034.9242,-43.6401\"/>\n</g>\n<!-- 17558 -->\n<g id=\"node21\" class=\"node\">\n<title>17558</title>\n<path fill=\"#c0c0c0\" stroke=\"#000000\" d=\"M1105.5,-36C1105.5,-36 1075.5,-36 1075.5,-36 1069.5,-36 1063.5,-30 1063.5,-24 1063.5,-24 1063.5,-12 1063.5,-12 1063.5,-6 1069.5,0 1075.5,0 1075.5,0 1105.5,0 1105.5,0 1111.5,0 1117.5,-6 1117.5,-12 1117.5,-12 1117.5,-24 1117.5,-24 1117.5,-30 1111.5,-36 1105.5,-36\"/>\n<text text-anchor=\"middle\" x=\"1090.5\" y=\"-14.3\" font-family=\"Helvetica,sans-Serif\" font-size=\"14.00\" fill=\"#000000\">(...)</text>\n</g>\n<!-- 17352&#45;&gt;17558 -->\n<g id=\"edge20\" class=\"edge\">\n<title>17352&#45;&gt;17558</title>\n<path fill=\"none\" stroke=\"#000000\" d=\"M1072.7122,-71.9769C1075.5677,-63.3119 1078.6028,-54.102 1081.3421,-45.7894\"/>\n<polygon fill=\"#000000\" stroke=\"#000000\" points=\"1084.6991,-46.785 1084.5049,-36.192 1078.0508,-44.594 1084.6991,-46.785\"/>\n</g>\n<!-- 17562 -->\n<g id=\"node23\" class=\"node\">\n<title>17562</title>\n<path fill=\"#c0c0c0\" stroke=\"#000000\" d=\"M1242.5,-36C1242.5,-36 1212.5,-36 1212.5,-36 1206.5,-36 1200.5,-30 1200.5,-24 1200.5,-24 1200.5,-12 1200.5,-12 1200.5,-6 1206.5,0 1212.5,0 1212.5,0 1242.5,0 1242.5,0 1248.5,0 1254.5,-6 1254.5,-12 1254.5,-12 1254.5,-24 1254.5,-24 1254.5,-30 1248.5,-36 1242.5,-36\"/>\n<text text-anchor=\"middle\" x=\"1227.5\" y=\"-14.3\" font-family=\"Helvetica,sans-Serif\" font-size=\"14.00\" fill=\"#000000\">(...)</text>\n</g>\n<!-- 17561&#45;&gt;17562 -->\n<g id=\"edge22\" class=\"edge\">\n<title>17561&#45;&gt;17562</title>\n<path fill=\"none\" stroke=\"#000000\" d=\"M1249.5815,-71.9769C1245.9977,-63.2167 1242.1862,-53.8995 1238.7564,-45.5157\"/>\n<polygon fill=\"#000000\" stroke=\"#000000\" points=\"1241.968,-44.1222 1234.9422,-36.192 1235.4891,-46.7727 1241.968,-44.1222\"/>\n</g>\n<!-- 17565 -->\n<g id=\"node24\" class=\"node\">\n<title>17565</title>\n<path fill=\"#c0c0c0\" stroke=\"#000000\" d=\"M1314.5,-36C1314.5,-36 1284.5,-36 1284.5,-36 1278.5,-36 1272.5,-30 1272.5,-24 1272.5,-24 1272.5,-12 1272.5,-12 1272.5,-6 1278.5,0 1284.5,0 1284.5,0 1314.5,0 1314.5,0 1320.5,0 1326.5,-6 1326.5,-12 1326.5,-12 1326.5,-24 1326.5,-24 1326.5,-30 1320.5,-36 1314.5,-36\"/>\n<text text-anchor=\"middle\" x=\"1299.5\" y=\"-14.3\" font-family=\"Helvetica,sans-Serif\" font-size=\"14.00\" fill=\"#000000\">(...)</text>\n</g>\n<!-- 17561&#45;&gt;17565 -->\n<g id=\"edge23\" class=\"edge\">\n<title>17561&#45;&gt;17565</title>\n<path fill=\"none\" stroke=\"#000000\" d=\"M1277.4185,-71.9769C1281.0023,-63.2167 1284.8138,-53.8995 1288.2436,-45.5157\"/>\n<polygon fill=\"#000000\" stroke=\"#000000\" points=\"1291.5109,-46.7727 1292.0578,-36.192 1285.032,-44.1222 1291.5109,-46.7727\"/>\n</g>\n<!-- 17573 -->\n<g id=\"node26\" class=\"node\">\n<title>17573</title>\n<path fill=\"#8641e6\" stroke=\"#000000\" d=\"M1600.5,-140C1600.5,-140 1376.5,-140 1376.5,-140 1370.5,-140 1364.5,-134 1364.5,-128 1364.5,-128 1364.5,-84 1364.5,-84 1364.5,-78 1370.5,-72 1376.5,-72 1376.5,-72 1600.5,-72 1600.5,-72 1606.5,-72 1612.5,-78 1612.5,-84 1612.5,-84 1612.5,-128 1612.5,-128 1612.5,-134 1606.5,-140 1600.5,-140\"/>\n<text text-anchor=\"middle\" x=\"1488.5\" y=\"-124.8\" font-family=\"Helvetica,sans-Serif\" font-size=\"14.00\" fill=\"#000000\">scheme_management_WUA &lt;= 0.5</text>\n<text text-anchor=\"middle\" x=\"1488.5\" y=\"-109.8\" font-family=\"Helvetica,sans-Serif\" font-size=\"14.00\" fill=\"#000000\">samples = 1.3%</text>\n<text text-anchor=\"middle\" x=\"1488.5\" y=\"-94.8\" font-family=\"Helvetica,sans-Serif\" font-size=\"14.00\" fill=\"#000000\">value = [0.027, 0.013, 0.96]</text>\n<text text-anchor=\"middle\" x=\"1488.5\" y=\"-79.8\" font-family=\"Helvetica,sans-Serif\" font-size=\"14.00\" fill=\"#000000\">class = non functional</text>\n</g>\n<!-- 17572&#45;&gt;17573 -->\n<g id=\"edge25\" class=\"edge\">\n<title>17572&#45;&gt;17573</title>\n<path fill=\"none\" stroke=\"#000000\" d=\"M1488.5,-175.9465C1488.5,-167.776 1488.5,-158.9318 1488.5,-150.3697\"/>\n<polygon fill=\"#000000\" stroke=\"#000000\" points=\"1492.0001,-150.13 1488.5,-140.13 1485.0001,-150.13 1492.0001,-150.13\"/>\n</g>\n<!-- 17656 -->\n<g id=\"node29\" class=\"node\">\n<title>17656</title>\n<path fill=\"#9f68eb\" stroke=\"#000000\" d=\"M1802.5,-140C1802.5,-140 1642.5,-140 1642.5,-140 1636.5,-140 1630.5,-134 1630.5,-128 1630.5,-128 1630.5,-84 1630.5,-84 1630.5,-78 1636.5,-72 1642.5,-72 1642.5,-72 1802.5,-72 1802.5,-72 1808.5,-72 1814.5,-78 1814.5,-84 1814.5,-84 1814.5,-128 1814.5,-128 1814.5,-134 1808.5,-140 1802.5,-140\"/>\n<text text-anchor=\"middle\" x=\"1722.5\" y=\"-124.8\" font-family=\"Helvetica,sans-Serif\" font-size=\"14.00\" fill=\"#000000\">longitude &lt;= 33.242</text>\n<text text-anchor=\"middle\" x=\"1722.5\" y=\"-109.8\" font-family=\"Helvetica,sans-Serif\" font-size=\"14.00\" fill=\"#000000\">samples = 0.6%</text>\n<text text-anchor=\"middle\" x=\"1722.5\" y=\"-94.8\" font-family=\"Helvetica,sans-Serif\" font-size=\"14.00\" fill=\"#000000\">value = [0.192, 0.0, 0.808]</text>\n<text text-anchor=\"middle\" x=\"1722.5\" y=\"-79.8\" font-family=\"Helvetica,sans-Serif\" font-size=\"14.00\" fill=\"#000000\">class = non functional</text>\n</g>\n<!-- 17572&#45;&gt;17656 -->\n<g id=\"edge28\" class=\"edge\">\n<title>17572&#45;&gt;17656</title>\n<path fill=\"none\" stroke=\"#000000\" d=\"M1565.1204,-175.9465C1587.9483,-165.8008 1613.1138,-154.6161 1636.4987,-144.2228\"/>\n<polygon fill=\"#000000\" stroke=\"#000000\" points=\"1637.9909,-147.3898 1645.7075,-140.13 1635.1479,-140.9931 1637.9909,-147.3898\"/>\n</g>\n<!-- 17574 -->\n<g id=\"node27\" class=\"node\">\n<title>17574</title>\n<path fill=\"#c0c0c0\" stroke=\"#000000\" d=\"M1467.5,-36C1467.5,-36 1437.5,-36 1437.5,-36 1431.5,-36 1425.5,-30 1425.5,-24 1425.5,-24 1425.5,-12 1425.5,-12 1425.5,-6 1431.5,0 1437.5,0 1437.5,0 1467.5,0 1467.5,0 1473.5,0 1479.5,-6 1479.5,-12 1479.5,-12 1479.5,-24 1479.5,-24 1479.5,-30 1473.5,-36 1467.5,-36\"/>\n<text text-anchor=\"middle\" x=\"1452.5\" y=\"-14.3\" font-family=\"Helvetica,sans-Serif\" font-size=\"14.00\" fill=\"#000000\">(...)</text>\n</g>\n<!-- 17573&#45;&gt;17574 -->\n<g id=\"edge26\" class=\"edge\">\n<title>17573&#45;&gt;17574</title>\n<path fill=\"none\" stroke=\"#000000\" d=\"M1474.5815,-71.9769C1470.9977,-63.2167 1467.1862,-53.8995 1463.7564,-45.5157\"/>\n<polygon fill=\"#000000\" stroke=\"#000000\" points=\"1466.968,-44.1222 1459.9422,-36.192 1460.4891,-46.7727 1466.968,-44.1222\"/>\n</g>\n<!-- 17651 -->\n<g id=\"node28\" class=\"node\">\n<title>17651</title>\n<path fill=\"#c0c0c0\" stroke=\"#000000\" d=\"M1539.5,-36C1539.5,-36 1509.5,-36 1509.5,-36 1503.5,-36 1497.5,-30 1497.5,-24 1497.5,-24 1497.5,-12 1497.5,-12 1497.5,-6 1503.5,0 1509.5,0 1509.5,0 1539.5,0 1539.5,0 1545.5,0 1551.5,-6 1551.5,-12 1551.5,-12 1551.5,-24 1551.5,-24 1551.5,-30 1545.5,-36 1539.5,-36\"/>\n<text text-anchor=\"middle\" x=\"1524.5\" y=\"-14.3\" font-family=\"Helvetica,sans-Serif\" font-size=\"14.00\" fill=\"#000000\">(...)</text>\n</g>\n<!-- 17573&#45;&gt;17651 -->\n<g id=\"edge27\" class=\"edge\">\n<title>17573&#45;&gt;17651</title>\n<path fill=\"none\" stroke=\"#000000\" d=\"M1502.4185,-71.9769C1506.0023,-63.2167 1509.8138,-53.8995 1513.2436,-45.5157\"/>\n<polygon fill=\"#000000\" stroke=\"#000000\" points=\"1516.5109,-46.7727 1517.0578,-36.192 1510.032,-44.1222 1516.5109,-46.7727\"/>\n</g>\n<!-- 17657 -->\n<g id=\"node30\" class=\"node\">\n<title>17657</title>\n<path fill=\"#c0c0c0\" stroke=\"#000000\" d=\"M1701.5,-36C1701.5,-36 1671.5,-36 1671.5,-36 1665.5,-36 1659.5,-30 1659.5,-24 1659.5,-24 1659.5,-12 1659.5,-12 1659.5,-6 1665.5,0 1671.5,0 1671.5,0 1701.5,0 1701.5,0 1707.5,0 1713.5,-6 1713.5,-12 1713.5,-12 1713.5,-24 1713.5,-24 1713.5,-30 1707.5,-36 1701.5,-36\"/>\n<text text-anchor=\"middle\" x=\"1686.5\" y=\"-14.3\" font-family=\"Helvetica,sans-Serif\" font-size=\"14.00\" fill=\"#000000\">(...)</text>\n</g>\n<!-- 17656&#45;&gt;17657 -->\n<g id=\"edge29\" class=\"edge\">\n<title>17656&#45;&gt;17657</title>\n<path fill=\"none\" stroke=\"#000000\" d=\"M1708.5815,-71.9769C1704.9977,-63.2167 1701.1862,-53.8995 1697.7564,-45.5157\"/>\n<polygon fill=\"#000000\" stroke=\"#000000\" points=\"1700.968,-44.1222 1693.9422,-36.192 1694.4891,-46.7727 1700.968,-44.1222\"/>\n</g>\n<!-- 17724 -->\n<g id=\"node31\" class=\"node\">\n<title>17724</title>\n<path fill=\"#c0c0c0\" stroke=\"#000000\" d=\"M1773.5,-36C1773.5,-36 1743.5,-36 1743.5,-36 1737.5,-36 1731.5,-30 1731.5,-24 1731.5,-24 1731.5,-12 1731.5,-12 1731.5,-6 1737.5,0 1743.5,0 1743.5,0 1773.5,0 1773.5,0 1779.5,0 1785.5,-6 1785.5,-12 1785.5,-12 1785.5,-24 1785.5,-24 1785.5,-30 1779.5,-36 1773.5,-36\"/>\n<text text-anchor=\"middle\" x=\"1758.5\" y=\"-14.3\" font-family=\"Helvetica,sans-Serif\" font-size=\"14.00\" fill=\"#000000\">(...)</text>\n</g>\n<!-- 17656&#45;&gt;17724 -->\n<g id=\"edge30\" class=\"edge\">\n<title>17656&#45;&gt;17724</title>\n<path fill=\"none\" stroke=\"#000000\" d=\"M1736.4185,-71.9769C1740.0023,-63.2167 1743.8138,-53.8995 1747.2436,-45.5157\"/>\n<polygon fill=\"#000000\" stroke=\"#000000\" points=\"1750.5109,-46.7727 1751.0578,-36.192 1744.032,-44.1222 1750.5109,-46.7727\"/>\n</g>\n</g>\n</svg>\n"
          },
          "metadata": {
            "tags": []
          }
        }
      ]
    },
    {
      "cell_type": "code",
      "metadata": {
        "id": "3CB5CepdrOhz",
        "colab_type": "code",
        "outputId": "af605dfe-7239-46ee-e580-791c02f4d542",
        "colab": {
          "base_uri": "https://localhost:8080/",
          "height": 1000
        }
      },
      "source": [
        "import matplotlib.pyplot as plt\n",
        "\n",
        "importances = pd.Series(model.feature_importances_, encoded_columns)\n",
        "plt.figure(figsize = (10,30))\n",
        "importances.sort_values().plot.barh(color = 'grey');"
      ],
      "execution_count": 0,
      "outputs": [
        {
          "output_type": "display_data",
          "data": {
            "image/png": "[encoded data removed]",
            "text/plain": [
              "<Figure size 720x2160 with 1 Axes>"
            ]
          },
          "metadata": {
            "tags": []
          }
        }
      ]
    },
    {
      "cell_type": "markdown",
      "metadata": {
        "id": "Ll9YJrvc-sr1",
        "colab_type": "text"
      },
      "source": [
        "# **Kaggle submission**"
      ]
    },
    {
      "cell_type": "code",
      "metadata": {
        "id": "T52KLtEC8atD",
        "colab_type": "code",
        "colab": {}
      },
      "source": [
        "submission = sample_submission.copy()\n",
        "submission['status_group'] = y_pred\n",
        "submission.to_csv('My_submission.csv', index = False)"
      ],
      "execution_count": 0,
      "outputs": []
    },
    {
      "cell_type": "code",
      "metadata": {
        "id": "jnTO92I6BNEB",
        "colab_type": "code",
        "colab": {}
      },
      "source": [
        "from google.colab import files\n",
        "files.download('My_submission.csv')"
      ],
      "execution_count": 0,
      "outputs": []
    }
  ]
}