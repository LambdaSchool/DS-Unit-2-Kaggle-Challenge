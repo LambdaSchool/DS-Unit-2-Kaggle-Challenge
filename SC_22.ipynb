{
 "nbformat": 4,
 "nbformat_minor": 2,
 "metadata": {
  "language_info": {
   "name": "python",
   "codemirror_mode": {
    "name": "ipython",
    "version": 3
   },
   "version": "3.7.6-final"
  },
  "orig_nbformat": 2,
  "file_extension": ".py",
  "mimetype": "text/x-python",
  "name": "python",
  "npconvert_exporter": "python",
  "pygments_lexer": "ipython3",
  "version": 3,
  "kernelspec": {
   "name": "python37464bit0d141f66d7614575996f4a537ba1c30a",
   "display_name": "Python 3.7.4 64-bit"
  }
 },
 "cells": [
  {
   "cell_type": "code",
   "execution_count": 4,
   "metadata": {},
   "outputs": [],
   "source": [
    "%%capture\n",
    "import sys\n",
    "\n",
    "# If you're on Colab:\n",
    "if 'google.colab' in sys.modules:\n",
    "    DATA_PATH = 'https://drive.google.com/uc?export=download&id=1fL7KPyxgGYfQDsuJoBWHIWwCAf-HTFpX'\n",
    "    !pip install category_encoders==2.*\n",
    "    !pip install pandas-profiling==2.*\n",
    "\n",
    "# If you're working locally:\n",
    "else:\n",
    "    DATA_PATH = 'https://drive.google.com/uc?export=download&id=1fL7KPyxgGYfQDsuJoBWHIWwCAf-HTFpX'"
   ]
  },
  {
   "cell_type": "code",
   "execution_count": 6,
   "metadata": {},
   "outputs": [
    {
     "output_type": "error",
     "ename": "ModuleNotFoundError",
     "evalue": "No module named 'pandas'",
     "traceback": [
      "\u001b[1;31m---------------------------------------------------------------------------\u001b[0m",
      "\u001b[1;31mModuleNotFoundError\u001b[0m                       Traceback (most recent call last)",
      "\u001b[1;32m<ipython-input-6-668ec571a5b5>\u001b[0m in \u001b[0;36m<module>\u001b[1;34m\u001b[0m\n\u001b[0;32m      1\u001b[0m \u001b[1;31m# Read data\u001b[0m\u001b[1;33m\u001b[0m\u001b[1;33m\u001b[0m\u001b[1;33m\u001b[0m\u001b[0m\n\u001b[1;32m----> 2\u001b[1;33m \u001b[1;32mimport\u001b[0m \u001b[0mpandas\u001b[0m \u001b[1;32mas\u001b[0m \u001b[0mpd\u001b[0m\u001b[1;33m\u001b[0m\u001b[1;33m\u001b[0m\u001b[0m\n\u001b[0m\u001b[0;32m      3\u001b[0m \u001b[1;33m\u001b[0m\u001b[0m\n\u001b[0;32m      4\u001b[0m \u001b[0mdf\u001b[0m \u001b[1;33m=\u001b[0m \u001b[0mpd\u001b[0m\u001b[1;33m.\u001b[0m\u001b[0mread_csv\u001b[0m\u001b[1;33m(\u001b[0m\u001b[0mDATA_PATH\u001b[0m\u001b[1;33m)\u001b[0m\u001b[1;33m\u001b[0m\u001b[1;33m\u001b[0m\u001b[0m\n\u001b[0;32m      5\u001b[0m \u001b[1;33m\u001b[0m\u001b[0m\n",
      "\u001b[1;31mModuleNotFoundError\u001b[0m: No module named 'pandas'"
     ]
    }
   ],
   "source": [
    "# Read data\n",
    "import pandas as pd\n",
    "\n",
    "df = pd.read_csv(DATA_PATH)\n",
    "\n",
    "# Check data shape\n",
    "assert df.shape == (13958, 20)"
   ]
  },
  {
   "cell_type": "markdown",
   "metadata": {},
   "source": [
    "To demonstrate mastery on your Sprint Challenge, do all the required, numbered instructions in this notebook.\n",
    "\n",
    "To earn a score of \"3\", also do all the stretch goals.\n",
    "\n",
    "You are permitted and encouraged to do as much data exploration as you want.\n",
    "\n",
    "1. Begin with baselines for classification. Your target to predict is shot_made_flag. What is your baseline accuracy, if you guessed the majority class for every prediction?\n",
    "\n",
    "2. Hold out your test set. Use the 2018-19 season to test. NBA seasons begin in October and end in June. You'll know you've split the data correctly when your test set has 1,709 observations.\n",
    "\n",
    "3. Engineer new feature. Engineer at least 1 new feature, from this list, or your own idea.\n",
    "\n",
    "    - Homecourt Advantage: Is the home team (htm) the Golden State Warriors (GSW) ?\n",
    "    - Opponent: Who is the other team playing the Golden State Warriors?\n",
    "    - Seconds remaining in the period: Combine minutes remaining with seconds remaining, to get the total number of seconds         remaining in the period.\n",
    "    - Seconds remaining in the game: Combine period, and seconds remaining in the period, to get the total number of seconds        remaining in the game. A basketball game has 4 periods, each 12 minutes long.\n",
    "    - Made previous shot: Was Steph Curry's previous shot successful?\n",
    "    \n",
    "4. Decide how to validate your model. Choose one of the following options. Any of these options are good. You are not graded on which you choose.\n",
    "\n",
    "    - Train/validate/test split: train on the 2009-10 season through 2016-17 season, validate with the 2017-18 season. You'll       know you've split the data correctly when your train set has 11,081 observations, and your validation set has 1,168           observations.\n",
    "    - Train/validate/test split: random 80/20% train/validate split.\n",
    "    - Cross-validation with independent test set. You may use any scikit-learn cross-validation method.\n",
    "\n",
    "5. Use a scikit-learn pipeline to encode categoricals and fit a Decision Tree or Random Forest model.\n",
    "\n",
    "6. Get your model's validation accuracy. (Multiple times if you try multiple iterations.)\n",
    "\n",
    "7. Get your model's test accuracy. (One time, at the end.)\n",
    "\n",
    "8. Given a confusion matrix for a hypothetical binary classification model, calculate accuracy, precision, and recall.\n",
    "\n",
    "Stretch Goals\n",
    "    - Engineer 4+ new features total, either from the list above, or your own ideas.\n",
    "    - Make 2+ visualizations to explore relationships between features and target.\n",
    "    - Optimize 3+ hyperparameters by trying 10+ \"candidates\" (possible combinations of hyperparameters). You can use                RandomizedSearchCV or do it manually.\n",
    "    - Get and plot your model's feature importances."
   ]
  },
  {
   "cell_type": "code",
   "execution_count": null,
   "metadata": {},
   "outputs": [],
   "source": []
  }
 ]
}