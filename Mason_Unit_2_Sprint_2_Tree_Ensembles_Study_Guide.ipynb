{
  "nbformat": 4,
  "nbformat_minor": 0,
  "metadata": {
    "colab": {
      "name": "Mason_Unit 2 Sprint 2 - Tree Ensembles - Study Guide.ipynb",
      "provenance": [],
      "collapsed_sections": [],
      "include_colab_link": true
    },
    "kernelspec": {
      "name": "python3",
      "display_name": "Python 3"
    }
  },
  "cells": [
    {
      "cell_type": "markdown",
      "metadata": {
        "id": "view-in-github",
        "colab_type": "text"
      },
      "source": [
        "<a href=\"https://colab.research.google.com/github/masonnystrom/DS-Unit-2-Kaggle-Challenge/blob/master/Mason_Unit_2_Sprint_2_Tree_Ensembles_Study_Guide.ipynb\" target=\"_parent\"><img src=\"https://colab.research.google.com/assets/colab-badge.svg\" alt=\"Open In Colab\"/></a>"
      ]
    },
    {
      "cell_type": "markdown",
      "metadata": {
        "id": "pXMdEU-qHQHh",
        "colab_type": "text"
      },
      "source": [
        "This study guide should reinforce and provide practice for all of the concepts you have seen in the past week. There are a mix of written questions and coding exercises, both are equally important to prepare you for the sprint challenge as well as to be able to speak on these topics comfortably in interviews and on the job.\n",
        "\n",
        "If you get stuck or are unsure of something remember the 20 minute rule. If that doesn't help, then research a solution with google and stackoverflow. Only once you have exausted these methods should you turn to your Team Lead - they won't be there on your SC or during an interview. That being said, don't hesitate to ask for help if you truly are stuck.\n",
        "\n",
        "Have fun studying!"
      ]
    },
    {
      "cell_type": "markdown",
      "metadata": {
        "id": "V-vPPhtthaNU",
        "colab_type": "text"
      },
      "source": [
        "# Resources"
      ]
    },
    {
      "cell_type": "markdown",
      "metadata": {
        "id": "PCvm7I44H3Oe",
        "colab_type": "text"
      },
      "source": [
        "[Category Encoders](https://contrib.scikit-learn.org/categorical-encoding/)\n",
        "\n",
        "[Logistic Regression](https://scikit-learn.org/stable/modules/generated/sklearn.linear_model.LogisticRegression.html)\n",
        "\n",
        "[Decision Tree Classifier](https://scikit-learn.org/stable/modules/generated/sklearn.tree.DecisionTreeClassifier.html)\n",
        "\n",
        "[Hyperparameter Tuning](https://scikit-learn.org/stable/modules/grid_search.html)\n",
        "\n",
        "[Confusion Matrix](https://scikit-learn.org/stable/auto_examples/model_selection/plot_confusion_matrix.html)\n",
        "\n",
        "[Scoring Metrics](https://scikit-learn.org/stable/modules/model_evaluation.html)"
      ]
    },
    {
      "cell_type": "markdown",
      "metadata": {
        "id": "iVMbgiadhfDY",
        "colab_type": "text"
      },
      "source": [
        "Students will build one classification model for one provided dataset. (Not two like last week.)\n",
        "*1. Begin with baselines for classification.* What is your baseline accuracy, if you guessed the majority class for every prediction?\n",
        "*2. Hold out your test set. (Time-based)*\n",
        "*3. Engineer new feature.* Engineer at least 1 new feature, from a provided list, or your own idea.\n",
        "*4. Decide how to validate your model.* Choose one of the following options. Any of these options are good. You are not graded on which you choose.\n",
        "- *Train/validate/test split: time-based*\n",
        "- *Train/validate/test split: random 80/20%* train/validate split.\n",
        "- *Cross-validation* with independent test set. You may use any scikit-learn cross-validation method.\n",
        "*5.* Use a scikit-learn *pipeline* to *encode categoricals* and fit a *Decision Tree* or *Random Forest* model.\n",
        "*6.* Get your model’s *validation accuracy.* (Multiple times if you try multiple iterations.)\n",
        "*7.* Get your model’s *test accuracy.* (One time, at the end.)\n",
        "*8.* Given a *confusion matrix* for a hypothetical binary classification model, *calculate accuracy, precision,"
      ]
    },
    {
      "cell_type": "code",
      "metadata": {
        "id": "b_7n8s1mak9k",
        "colab_type": "code",
        "colab": {}
      },
      "source": [
        "import pandas as pd\n",
        "import numpy as np\n",
        "import matplotlib.pyplot as plt\n"
      ],
      "execution_count": 0,
      "outputs": []
    },
    {
      "cell_type": "markdown",
      "metadata": {
        "id": "xL8fg3mIhd_L",
        "colab_type": "text"
      },
      "source": [
        "Use the dataframe below for all questions unless otherwise stated"
      ]
    },
    {
      "cell_type": "markdown",
      "metadata": {
        "id": "eDMTLmTzhufS",
        "colab_type": "text"
      },
      "source": [
        "# Basics and Data Preparation"
      ]
    },
    {
      "cell_type": "markdown",
      "metadata": {
        "id": "x7LH-U2KiMfO",
        "colab_type": "text"
      },
      "source": [
        "Define the following terms in your own words, do not simply copy and paste a definition found elsewhere but reword it to be understandable and memorable to you. *Double click the markdown to add your definitions.*\n",
        "<br/><br/>\n",
        "\n",
        "**Logistic Regression:** `A model to evaluate the relationship between a binary dependent variable and other nominal or ordinal independent variables.`\n",
        "\n",
        "**Imbalanced Classes:** `A problem where the training dataset has a class distribution that is not equal or close to equal. This makes the dataset biased or skewed which effects your accuracy.`\n",
        "\n",
        "**Leakage:** `information from outside the training dataset is used to create the model. One example could be knowing the end results, like in stock backtesting, and forgetting to remove any future identifier. Another exmaple could be try to predict if someone from a homeless shelter recieves a job and using information that is collected after someone has left the shelter. `\n",
        "\n",
        "**Categorical Encoding:** `A labeling technique `\n",
        "\n",
        "**Skew:** `Refers to the asymmetry in you data's distribution. Skewness will effect your model by include lots of values that are not refelctive of the mean or normal distribution of your data.`\n",
        "\n",
        "**Log Transformation:** `Your Answer Here`\n",
        "\n",
        "**Outliers:** `outliers are datapoints that skew or alter the distribution of the data that should be removed.`"
      ]
    },
    {
      "cell_type": "markdown",
      "metadata": {
        "id": "fCIXoJtDnXDZ",
        "colab_type": "text"
      },
      "source": [
        "Answer the following questions in plain english as much as possible.\n",
        "<br/><br/>\n",
        "\n",
        "What are some ways to deal with imbalanced classes?\n",
        "```\n",
        "Some ways to deal with imbalanced classes include resampleing the training set, using K-fold cross-validation, and using tree based models. \n",
        "```\n",
        "\n",
        "What are some possible sources of data leakage?\n",
        "```\n",
        "Data-leakage is when a ML model accidentally shares information between the test and training data-sets. This can happen from by randomizing series data, retaining proxies for removed variables, reversing any obfuscated data, or from including information outside of what is typically collected. It can be reduced by using temporal cutoffs for times series data, removing variables that may provide future information, and by using pipelines to process data. \n",
        "```\n",
        "\n",
        "What are some indicators or methods for detecting data leakage?\n",
        "```\n",
        "Your Answer Here\n",
        "```\n",
        "\n",
        "What is the relationship between skew and log transformation?\n",
        "```\n",
        "A logarithmic transformation scales a particular distribution that reduces the skewness. \n",
        "```"
      ]
    },
    {
      "cell_type": "markdown",
      "metadata": {
        "id": "q2M6tTW02sJe",
        "colab_type": "text"
      },
      "source": [
        "Using the dataset above, complete the following:\n",
        "- Train/Test/Validation Split\n",
        "- Get a baseline\n",
        "- Perform EDA with visuals\n",
        "- Clean up any nulls, duplicate columns, or outliers you might find\n",
        "- Engineer at least 2 features\n",
        "- Use One Hot or Ordinal Encoding on one feature"
      ]
    },
    {
      "cell_type": "code",
      "metadata": {
        "id": "3WWarojafXt5",
        "colab_type": "code",
        "outputId": "2766e73c-903f-4cff-97f8-60176efce9c1",
        "colab": {
          "base_uri": "https://localhost:8080/",
          "height": 204
        }
      },
      "source": [
        "# https://www.kaggle.com/ronitf/heart-disease-uci\n",
        "df = pd.read_csv('https://raw.githubusercontent.com/bundickm/Study-Guides/master/data/hearts.csv')\n",
        "df.head()"
      ],
      "execution_count": 113,
      "outputs": [
        {
          "output_type": "execute_result",
          "data": {
            "text/html": [
              "<div>\n",
              "<style scoped>\n",
              "    .dataframe tbody tr th:only-of-type {\n",
              "        vertical-align: middle;\n",
              "    }\n",
              "\n",
              "    .dataframe tbody tr th {\n",
              "        vertical-align: top;\n",
              "    }\n",
              "\n",
              "    .dataframe thead th {\n",
              "        text-align: right;\n",
              "    }\n",
              "</style>\n",
              "<table border=\"1\" class=\"dataframe\">\n",
              "  <thead>\n",
              "    <tr style=\"text-align: right;\">\n",
              "      <th></th>\n",
              "      <th>Unnamed: 0</th>\n",
              "      <th>age</th>\n",
              "      <th>sex</th>\n",
              "      <th>cp</th>\n",
              "      <th>trestbps</th>\n",
              "      <th>chol</th>\n",
              "      <th>fbs</th>\n",
              "      <th>restecg</th>\n",
              "      <th>thalach</th>\n",
              "      <th>exang</th>\n",
              "      <th>oldpeak</th>\n",
              "      <th>slope</th>\n",
              "      <th>ca</th>\n",
              "      <th>thal</th>\n",
              "      <th>target</th>\n",
              "    </tr>\n",
              "  </thead>\n",
              "  <tbody>\n",
              "    <tr>\n",
              "      <th>0</th>\n",
              "      <td>0</td>\n",
              "      <td>63</td>\n",
              "      <td>Male</td>\n",
              "      <td>D</td>\n",
              "      <td>145</td>\n",
              "      <td>233</td>\n",
              "      <td>1</td>\n",
              "      <td>0</td>\n",
              "      <td>150</td>\n",
              "      <td>0</td>\n",
              "      <td>2.3</td>\n",
              "      <td>0</td>\n",
              "      <td>0</td>\n",
              "      <td>1</td>\n",
              "      <td>1</td>\n",
              "    </tr>\n",
              "    <tr>\n",
              "      <th>1</th>\n",
              "      <td>1</td>\n",
              "      <td>37</td>\n",
              "      <td>Male</td>\n",
              "      <td>C</td>\n",
              "      <td>130</td>\n",
              "      <td>250</td>\n",
              "      <td>0</td>\n",
              "      <td>1</td>\n",
              "      <td>187</td>\n",
              "      <td>0</td>\n",
              "      <td>3.5</td>\n",
              "      <td>0</td>\n",
              "      <td>0</td>\n",
              "      <td>2</td>\n",
              "      <td>1</td>\n",
              "    </tr>\n",
              "    <tr>\n",
              "      <th>2</th>\n",
              "      <td>2</td>\n",
              "      <td>41</td>\n",
              "      <td>Female</td>\n",
              "      <td>B</td>\n",
              "      <td>130</td>\n",
              "      <td>204</td>\n",
              "      <td>0</td>\n",
              "      <td>0</td>\n",
              "      <td>172</td>\n",
              "      <td>0</td>\n",
              "      <td>1.4</td>\n",
              "      <td>2</td>\n",
              "      <td>0</td>\n",
              "      <td>2</td>\n",
              "      <td>1</td>\n",
              "    </tr>\n",
              "    <tr>\n",
              "      <th>3</th>\n",
              "      <td>3</td>\n",
              "      <td>56</td>\n",
              "      <td>Male</td>\n",
              "      <td>B</td>\n",
              "      <td>120</td>\n",
              "      <td>236</td>\n",
              "      <td>0</td>\n",
              "      <td>1</td>\n",
              "      <td>178</td>\n",
              "      <td>0</td>\n",
              "      <td>0.8</td>\n",
              "      <td>2</td>\n",
              "      <td>0</td>\n",
              "      <td>2</td>\n",
              "      <td>1</td>\n",
              "    </tr>\n",
              "    <tr>\n",
              "      <th>4</th>\n",
              "      <td>4</td>\n",
              "      <td>57</td>\n",
              "      <td>Female</td>\n",
              "      <td>A</td>\n",
              "      <td>120</td>\n",
              "      <td>354</td>\n",
              "      <td>0</td>\n",
              "      <td>1</td>\n",
              "      <td>163</td>\n",
              "      <td>1</td>\n",
              "      <td>0.6</td>\n",
              "      <td>2</td>\n",
              "      <td>0</td>\n",
              "      <td>2</td>\n",
              "      <td>1</td>\n",
              "    </tr>\n",
              "  </tbody>\n",
              "</table>\n",
              "</div>"
            ],
            "text/plain": [
              "   Unnamed: 0  age     sex cp  trestbps  ...  oldpeak  slope  ca  thal  target\n",
              "0           0   63    Male  D       145  ...      2.3      0   0     1       1\n",
              "1           1   37    Male  C       130  ...      3.5      0   0     2       1\n",
              "2           2   41  Female  B       130  ...      1.4      2   0     2       1\n",
              "3           3   56    Male  B       120  ...      0.8      2   0     2       1\n",
              "4           4   57  Female  A       120  ...      0.6      2   0     2       1\n",
              "\n",
              "[5 rows x 15 columns]"
            ]
          },
          "metadata": {
            "tags": []
          },
          "execution_count": 113
        }
      ]
    },
    {
      "cell_type": "code",
      "metadata": {
        "id": "JgKvkwQUpaub",
        "colab_type": "code",
        "colab": {
          "base_uri": "https://localhost:8080/",
          "height": 289
        },
        "outputId": "3124e5ea-f1d6-4b8f-d665-ae41a4ed5fe9"
      },
      "source": [
        "df.isnull().sum()"
      ],
      "execution_count": 153,
      "outputs": [
        {
          "output_type": "execute_result",
          "data": {
            "text/plain": [
              "Unnamed: 0    0\n",
              "age           0\n",
              "sex           0\n",
              "cp            0\n",
              "trestbps      0\n",
              "chol          0\n",
              "fbs           0\n",
              "restecg       0\n",
              "thalach       0\n",
              "exang         0\n",
              "oldpeak       0\n",
              "slope         0\n",
              "ca            0\n",
              "thal          0\n",
              "target        0\n",
              "dtype: int64"
            ]
          },
          "metadata": {
            "tags": []
          },
          "execution_count": 153
        }
      ]
    },
    {
      "cell_type": "code",
      "metadata": {
        "id": "XZlA2iue6LFN",
        "colab_type": "code",
        "outputId": "320c1060-26cc-4ba3-db2e-d9e4e50f5e21",
        "colab": {
          "base_uri": "https://localhost:8080/",
          "height": 34
        }
      },
      "source": [
        "from sklearn.model_selection import train_test_split\n",
        "train, test = train_test_split(df, train_size=.8, test_size=.2, random_state=42)\n",
        "train.shape, test.shape"
      ],
      "execution_count": 114,
      "outputs": [
        {
          "output_type": "execute_result",
          "data": {
            "text/plain": [
              "((242, 15), (61, 15))"
            ]
          },
          "metadata": {
            "tags": []
          },
          "execution_count": 114
        }
      ]
    },
    {
      "cell_type": "code",
      "metadata": {
        "id": "1mkHby4Hf8aC",
        "colab_type": "code",
        "colab": {}
      },
      "source": [
        "# if years and need subsetting\n",
        "# test = df[df['SALE_DATE'] >= '04/01/2019']\n",
        "# train = df[df['SALE_DATE'] < '04/01/2019']\n"
      ],
      "execution_count": 0,
      "outputs": []
    },
    {
      "cell_type": "code",
      "metadata": {
        "id": "Ax7U4VmD6wZ7",
        "colab_type": "code",
        "outputId": "5b4f3a39-c346-455f-d357-1753b324799c",
        "colab": {
          "base_uri": "https://localhost:8080/",
          "height": 34
        }
      },
      "source": [
        "train, val = train_test_split(train, train_size=.8, test_size=.2, random_state=42)\n",
        "train.shape, val.shape"
      ],
      "execution_count": 115,
      "outputs": [
        {
          "output_type": "execute_result",
          "data": {
            "text/plain": [
              "((193, 15), (49, 15))"
            ]
          },
          "metadata": {
            "tags": []
          },
          "execution_count": 115
        }
      ]
    },
    {
      "cell_type": "code",
      "metadata": {
        "id": "lbcKzUvd9J3w",
        "colab_type": "code",
        "outputId": "7cbb4609-4f46-471b-9fd0-ee0c3d8b0496",
        "colab": {
          "base_uri": "https://localhost:8080/",
          "height": 204
        }
      },
      "source": [
        "train.head()"
      ],
      "execution_count": 116,
      "outputs": [
        {
          "output_type": "execute_result",
          "data": {
            "text/html": [
              "<div>\n",
              "<style scoped>\n",
              "    .dataframe tbody tr th:only-of-type {\n",
              "        vertical-align: middle;\n",
              "    }\n",
              "\n",
              "    .dataframe tbody tr th {\n",
              "        vertical-align: top;\n",
              "    }\n",
              "\n",
              "    .dataframe thead th {\n",
              "        text-align: right;\n",
              "    }\n",
              "</style>\n",
              "<table border=\"1\" class=\"dataframe\">\n",
              "  <thead>\n",
              "    <tr style=\"text-align: right;\">\n",
              "      <th></th>\n",
              "      <th>Unnamed: 0</th>\n",
              "      <th>age</th>\n",
              "      <th>sex</th>\n",
              "      <th>cp</th>\n",
              "      <th>trestbps</th>\n",
              "      <th>chol</th>\n",
              "      <th>fbs</th>\n",
              "      <th>restecg</th>\n",
              "      <th>thalach</th>\n",
              "      <th>exang</th>\n",
              "      <th>oldpeak</th>\n",
              "      <th>slope</th>\n",
              "      <th>ca</th>\n",
              "      <th>thal</th>\n",
              "      <th>target</th>\n",
              "    </tr>\n",
              "  </thead>\n",
              "  <tbody>\n",
              "    <tr>\n",
              "      <th>225</th>\n",
              "      <td>225</td>\n",
              "      <td>70</td>\n",
              "      <td>Male</td>\n",
              "      <td>A</td>\n",
              "      <td>145</td>\n",
              "      <td>174</td>\n",
              "      <td>0</td>\n",
              "      <td>1</td>\n",
              "      <td>125</td>\n",
              "      <td>1</td>\n",
              "      <td>2.6</td>\n",
              "      <td>0</td>\n",
              "      <td>0</td>\n",
              "      <td>3</td>\n",
              "      <td>0</td>\n",
              "    </tr>\n",
              "    <tr>\n",
              "      <th>88</th>\n",
              "      <td>88</td>\n",
              "      <td>54</td>\n",
              "      <td>Female</td>\n",
              "      <td>C</td>\n",
              "      <td>110</td>\n",
              "      <td>214</td>\n",
              "      <td>0</td>\n",
              "      <td>1</td>\n",
              "      <td>158</td>\n",
              "      <td>0</td>\n",
              "      <td>1.6</td>\n",
              "      <td>1</td>\n",
              "      <td>0</td>\n",
              "      <td>2</td>\n",
              "      <td>1</td>\n",
              "    </tr>\n",
              "    <tr>\n",
              "      <th>267</th>\n",
              "      <td>267</td>\n",
              "      <td>49</td>\n",
              "      <td>Male</td>\n",
              "      <td>C</td>\n",
              "      <td>118</td>\n",
              "      <td>149</td>\n",
              "      <td>0</td>\n",
              "      <td>0</td>\n",
              "      <td>126</td>\n",
              "      <td>0</td>\n",
              "      <td>0.8</td>\n",
              "      <td>2</td>\n",
              "      <td>3</td>\n",
              "      <td>2</td>\n",
              "      <td>0</td>\n",
              "    </tr>\n",
              "    <tr>\n",
              "      <th>36</th>\n",
              "      <td>36</td>\n",
              "      <td>54</td>\n",
              "      <td>Female</td>\n",
              "      <td>C</td>\n",
              "      <td>135</td>\n",
              "      <td>304</td>\n",
              "      <td>1</td>\n",
              "      <td>1</td>\n",
              "      <td>170</td>\n",
              "      <td>0</td>\n",
              "      <td>0.0</td>\n",
              "      <td>2</td>\n",
              "      <td>0</td>\n",
              "      <td>2</td>\n",
              "      <td>1</td>\n",
              "    </tr>\n",
              "    <tr>\n",
              "      <th>147</th>\n",
              "      <td>147</td>\n",
              "      <td>60</td>\n",
              "      <td>Female</td>\n",
              "      <td>D</td>\n",
              "      <td>150</td>\n",
              "      <td>240</td>\n",
              "      <td>0</td>\n",
              "      <td>1</td>\n",
              "      <td>171</td>\n",
              "      <td>0</td>\n",
              "      <td>0.9</td>\n",
              "      <td>2</td>\n",
              "      <td>0</td>\n",
              "      <td>2</td>\n",
              "      <td>1</td>\n",
              "    </tr>\n",
              "  </tbody>\n",
              "</table>\n",
              "</div>"
            ],
            "text/plain": [
              "     Unnamed: 0  age     sex cp  trestbps  ...  oldpeak  slope  ca  thal  target\n",
              "225         225   70    Male  A       145  ...      2.6      0   0     3       0\n",
              "88           88   54  Female  C       110  ...      1.6      1   0     2       1\n",
              "267         267   49    Male  C       118  ...      0.8      2   3     2       0\n",
              "36           36   54  Female  C       135  ...      0.0      2   0     2       1\n",
              "147         147   60  Female  D       150  ...      0.9      2   0     2       1\n",
              "\n",
              "[5 rows x 15 columns]"
            ]
          },
          "metadata": {
            "tags": []
          },
          "execution_count": 116
        }
      ]
    },
    {
      "cell_type": "code",
      "metadata": {
        "id": "uULvRSEAbi1Y",
        "colab_type": "code",
        "colab": {}
      },
      "source": [
        "from sklearn.impute import SimpleImputer\n",
        "from sklearn.ensemble import RandomForestClassifier\n",
        "from sklearn.pipeline import make_pipeline\n"
      ],
      "execution_count": 0,
      "outputs": []
    },
    {
      "cell_type": "code",
      "metadata": {
        "id": "W-YJKZAWPPhW",
        "colab_type": "code",
        "outputId": "9369fe95-048e-4385-b3d1-db19dee0f471",
        "colab": {
          "base_uri": "https://localhost:8080/",
          "height": 224
        }
      },
      "source": [
        "!pip install --upgrade category_encoders\n",
        "\n",
        "import category_encoders as ce"
      ],
      "execution_count": 118,
      "outputs": [
        {
          "output_type": "stream",
          "text": [
            "Requirement already up-to-date: category_encoders in /usr/local/lib/python3.6/dist-packages (2.1.0)\n",
            "Requirement already satisfied, skipping upgrade: numpy>=1.11.3 in /usr/local/lib/python3.6/dist-packages (from category_encoders) (1.18.2)\n",
            "Requirement already satisfied, skipping upgrade: patsy>=0.4.1 in /usr/local/lib/python3.6/dist-packages (from category_encoders) (0.5.1)\n",
            "Requirement already satisfied, skipping upgrade: scikit-learn>=0.20.0 in /usr/local/lib/python3.6/dist-packages (from category_encoders) (0.22.2.post1)\n",
            "Requirement already satisfied, skipping upgrade: scipy>=0.19.0 in /usr/local/lib/python3.6/dist-packages (from category_encoders) (1.4.1)\n",
            "Requirement already satisfied, skipping upgrade: statsmodels>=0.6.1 in /usr/local/lib/python3.6/dist-packages (from category_encoders) (0.10.2)\n",
            "Requirement already satisfied, skipping upgrade: pandas>=0.21.1 in /usr/local/lib/python3.6/dist-packages (from category_encoders) (0.25.3)\n",
            "Requirement already satisfied, skipping upgrade: six in /usr/local/lib/python3.6/dist-packages (from patsy>=0.4.1->category_encoders) (1.12.0)\n",
            "Requirement already satisfied, skipping upgrade: joblib>=0.11 in /usr/local/lib/python3.6/dist-packages (from scikit-learn>=0.20.0->category_encoders) (0.14.1)\n",
            "Requirement already satisfied, skipping upgrade: pytz>=2017.2 in /usr/local/lib/python3.6/dist-packages (from pandas>=0.21.1->category_encoders) (2018.9)\n",
            "Requirement already satisfied, skipping upgrade: python-dateutil>=2.6.1 in /usr/local/lib/python3.6/dist-packages (from pandas>=0.21.1->category_encoders) (2.8.1)\n"
          ],
          "name": "stdout"
        }
      ]
    },
    {
      "cell_type": "code",
      "metadata": {
        "id": "X_-WHWs3NWAU",
        "colab_type": "code",
        "colab": {}
      },
      "source": [
        "encoder = ce.OneHotEncoder(use_cat_names=True)"
      ],
      "execution_count": 0,
      "outputs": []
    },
    {
      "cell_type": "code",
      "metadata": {
        "id": "RC4wS-LR8_j-",
        "colab_type": "code",
        "colab": {}
      },
      "source": [
        "# wrangle function\n",
        "def wrangle(X):\n",
        "  X = X.copy()\n",
        "\n",
        "  # drop unusable columns\n",
        "  unusable_variance = ['Unnamed: 0']\n",
        "  X = X.drop(columns=unusable_variance)\n",
        "\n",
        "\n",
        "  #engineer new features \n",
        "  X['hr/bps'] = (X['thalach'] / X['trestbps'])\n",
        "  X['above_150'] = (X['thalach'] > 150)\n",
        "\n",
        "  return X"
      ],
      "execution_count": 0,
      "outputs": []
    },
    {
      "cell_type": "code",
      "metadata": {
        "id": "B_vrz2OqDeo_",
        "colab_type": "code",
        "colab": {}
      },
      "source": [
        "train = wrangle(train)\n",
        "val = wrangle(val)\n",
        "test = wrangle(test)"
      ],
      "execution_count": 0,
      "outputs": []
    },
    {
      "cell_type": "code",
      "metadata": {
        "id": "RM0JQFxYc5Nk",
        "colab_type": "code",
        "colab": {}
      },
      "source": [
        "target = 'target'\n",
        "\n",
        "X_train = train.drop(columns = target)\n",
        "y_train = train[target]\n",
        "\n",
        "X_val = val.drop(columns = target)\n",
        "y_val = val[target]\n",
        "\n",
        "X_test = test.drop(columns = target)\n",
        "y_test = test[target]"
      ],
      "execution_count": 0,
      "outputs": []
    },
    {
      "cell_type": "code",
      "metadata": {
        "id": "5slnF8gFgcn5",
        "colab_type": "code",
        "colab": {
          "base_uri": "https://localhost:8080/",
          "height": 34
        },
        "outputId": "f9f4ecdb-ad65-400f-80ff-56ae32d5cd0a"
      },
      "source": [
        "# baseline\n",
        "majority_class = y_train.mode()[0]\n",
        "y_pred = [majority_class] * len(y_train)\n",
        "from sklearn.metrics import accuracy_score\n",
        "accuracy_score(y_train, y_pred)"
      ],
      "execution_count": 123,
      "outputs": [
        {
          "output_type": "execute_result",
          "data": {
            "text/plain": [
              "0.5647668393782384"
            ]
          },
          "metadata": {
            "tags": []
          },
          "execution_count": 123
        }
      ]
    },
    {
      "cell_type": "code",
      "metadata": {
        "id": "ONG-K1ShfVJS",
        "colab_type": "code",
        "colab": {}
      },
      "source": [
        "# baseline\n",
        "# target = 'target'\n",
        "# y_train = train[target]\n",
        "\n",
        "# # Mean baseline\n",
        "# mean = y_train.mean()\n",
        "# y_pred = [mean] * len(y_train)\n",
        "# from sklearn.metrics import mean_absolute_error\n",
        "# mae = mean_absolute_error(y_train, y_pred)\n",
        "# mae"
      ],
      "execution_count": 0,
      "outputs": []
    },
    {
      "cell_type": "code",
      "metadata": {
        "id": "Cy2Nz1HR89BQ",
        "colab_type": "code",
        "outputId": "4d75ae31-2a5b-49de-8e87-e472c497fb85",
        "colab": {
          "base_uri": "https://localhost:8080/",
          "height": 68
        }
      },
      "source": [
        "X_train.columns"
      ],
      "execution_count": 125,
      "outputs": [
        {
          "output_type": "execute_result",
          "data": {
            "text/plain": [
              "Index(['age', 'sex', 'cp', 'trestbps', 'chol', 'fbs', 'restecg', 'thalach',\n",
              "       'exang', 'oldpeak', 'slope', 'ca', 'thal', 'hr/bps', 'above_150'],\n",
              "      dtype='object')"
            ]
          },
          "metadata": {
            "tags": []
          },
          "execution_count": 125
        }
      ]
    },
    {
      "cell_type": "code",
      "metadata": {
        "id": "V3a2noOrEm-i",
        "colab_type": "code",
        "colab": {}
      },
      "source": [
        "# early data analysis \n",
        "# import plotly.express as px\n",
        "# px.scatter(train, 'thalach', 'age', color='target')"
      ],
      "execution_count": 0,
      "outputs": []
    },
    {
      "cell_type": "code",
      "metadata": {
        "id": "WXf9gZ1oE4AD",
        "colab_type": "code",
        "colab": {}
      },
      "source": [
        "# px.scatter(train, 'slope', 'chol', color='target')"
      ],
      "execution_count": 0,
      "outputs": []
    },
    {
      "cell_type": "code",
      "metadata": {
        "id": "CpN8U_PyFA6s",
        "colab_type": "code",
        "colab": {}
      },
      "source": [
        "# px.bar(train, 'age', 'trestbps')"
      ],
      "execution_count": 0,
      "outputs": []
    },
    {
      "cell_type": "markdown",
      "metadata": {
        "id": "14JotyiJ8RjD",
        "colab_type": "text"
      },
      "source": [
        "# Model Building"
      ]
    },
    {
      "cell_type": "markdown",
      "metadata": {
        "id": "dhEv3JQ78TdH",
        "colab_type": "text"
      },
      "source": [
        "Define the following terms in your own words, do not simply copy and paste a definition found elsewhere but reword it to be understandable and memorable to you. *Double click the markdown to add your definitions.*\n",
        "<br/><br/>\n",
        "\n",
        "**Decision Tree:** `A decision trees works by splitting data based on the features.`\n",
        "\n",
        "**Random Forest** `A rf model uses bagging to achieve the majority vote of the indiivdual trees. Decision trees are prone to overfitting which is why a rf is used.` \n",
        "\n",
        "**Ensemble Methods (Ensemble Models):** `Your Answer Here`\n",
        "\n",
        "**Gradient Descent:** `Your Answer Here`\n",
        "\n",
        "**Bagging:** `Bagging is an ensemble algorithm method that decreased variance in the prediciton by generating additional data fro trainging by using combinations with repetitions to produce multiple sets of original dta. `\n",
        "\n",
        "**Boosting:** `A technique that adjusts the weight of an observation based on the last classification.`\n",
        "\n",
        "**Hyperparameters:** `Your Answer Here`"
      ]
    },
    {
      "cell_type": "markdown",
      "metadata": {
        "id": "Bl8D-WwF8W8l",
        "colab_type": "text"
      },
      "source": [
        "Build a random forest classifier using the dataset you cleaned and prepped above."
      ]
    },
    {
      "cell_type": "code",
      "metadata": {
        "id": "T1dTbiC78g7r",
        "colab_type": "code",
        "colab": {
          "base_uri": "https://localhost:8080/",
          "height": 51
        },
        "outputId": "ac8cf893-1997-45a5-d2de-8ed3281b2fe8"
      },
      "source": [
        "# make the pipeline\n",
        "pipeline = make_pipeline(\n",
        "    ce.OrdinalEncoder(),\n",
        "    SimpleImputer(strategy='mean'),\n",
        "    RandomForestClassifier(n_estimators=40, n_jobs=-1, max_features='auto', min_samples_leaf=3)\n",
        ")\n",
        "pipeline.fit(X_train, y_train)\n",
        "print('Train Accuracy:', pipeline.score(X_train, y_train))\n",
        "print('Validation Accuracy:', pipeline.score(X_val, y_val))"
      ],
      "execution_count": 129,
      "outputs": [
        {
          "output_type": "stream",
          "text": [
            "Train Accuracy: 0.9326424870466321\n",
            "Validation Accuracy: 0.7755102040816326\n"
          ],
          "name": "stdout"
        }
      ]
    },
    {
      "cell_type": "markdown",
      "metadata": {
        "id": "oE5S3glR-wNp",
        "colab_type": "text"
      },
      "source": [
        "Graph your model's feature importances"
      ]
    },
    {
      "cell_type": "code",
      "metadata": {
        "id": "Jptjbm16-3SY",
        "colab_type": "code",
        "colab": {
          "base_uri": "https://localhost:8080/",
          "height": 1000
        },
        "outputId": "6e66f92c-960a-4fc8-e9f8-abf19c2f318f"
      },
      "source": [
        "encoder = pipeline.named_steps['ordinalencoder']\n",
        "model = pipeline.named_steps['randomforestclassifier']\n",
        "imputer = pipeline.named_steps['simpleimputer']\n",
        "\n",
        "\n",
        "encoded_columns = encoder.transform(X_val).columns\n",
        "importances = pd.Series(model.feature_importances_, encoded_columns)\n",
        "plt.figure(figsize=(20,35))\n",
        "importances.sort_values().plot.barh();\n"
      ],
      "execution_count": 130,
      "outputs": [
        {
          "output_type": "display_data",
          "data": {
            "image/png": "[encoded data removed]",
            "text/plain": [
              "<Figure size 1440x2520 with 1 Axes>"
            ]
          },
          "metadata": {
            "tags": []
          }
        }
      ]
    },
    {
      "cell_type": "markdown",
      "metadata": {
        "id": "nu9wLKlg-3q3",
        "colab_type": "text"
      },
      "source": [
        "In 2-3 sentences, explain how to interpret and use the feature importances to further refine or help explain your model.\n",
        "\n",
        "```\n",
        "Ca and CP are the features that provide the best predictive power and are therefore the most important in our model as evaluated by the RandomForestClassifier model. \n",
        "```\n",
        "\n",
        "How does feature importance differ from drop-column importances and permutation importances?\n",
        "\n",
        "```\n",
        "Drop-column importance drops a column entirely, retains the model and rescores the algorithm. \n",
        "\n",
        "Permuation importance randomly shuffles a single feature and waits until there is a decrease in the model score which breaks the relationship between the feature and the target. The drop in the model indicates how important the feature is. \n",
        "```"
      ]
    },
    {
      "cell_type": "markdown",
      "metadata": {
        "id": "df3-NCv18hUC",
        "colab_type": "text"
      },
      "source": [
        "Build a logisitic regression model using the dataset you cleaned and prepped above."
      ]
    },
    {
      "cell_type": "code",
      "metadata": {
        "id": "1hSUz8AciXSR",
        "colab_type": "code",
        "colab": {}
      },
      "source": [
        "from sklearn.linear_model import LogisticRegression\n",
        "from sklearn.preprocessing import StandardScaler\n",
        "model = LogisticRegression()"
      ],
      "execution_count": 0,
      "outputs": []
    },
    {
      "cell_type": "code",
      "metadata": {
        "id": "N2Kzqo358qbc",
        "colab_type": "code",
        "colab": {}
      },
      "source": [
        "log_pipeline = make_pipeline(\n",
        "    ce.OneHotEncoder(use_cat_names=True),\n",
        "    SimpleImputer(strategy='mean'),\n",
        "    StandardScaler(),\n",
        "    LogisticRegression(multi_class='auto', solver='lbfgs', n_jobs=1)\n",
        ")"
      ],
      "execution_count": 0,
      "outputs": []
    },
    {
      "cell_type": "code",
      "metadata": {
        "id": "o54Ct5d6oqKv",
        "colab_type": "code",
        "colab": {
          "base_uri": "https://localhost:8080/",
          "height": 34
        },
        "outputId": "8b3338f8-e287-4670-fb14-e9586ff045b7"
      },
      "source": [
        "log_pipeline.fit(X_train, y_train)\n",
        "\n",
        "print('Validation Accuracy', log_pipeline.score(X_val, y_val))"
      ],
      "execution_count": 142,
      "outputs": [
        {
          "output_type": "stream",
          "text": [
            "Validation Accuracy 0.7551020408163265\n"
          ],
          "name": "stdout"
        }
      ]
    },
    {
      "cell_type": "markdown",
      "metadata": {
        "id": "inxDK4qx_WM7",
        "colab_type": "text"
      },
      "source": [
        "Plot the coefficients of your model."
      ]
    },
    {
      "cell_type": "code",
      "metadata": {
        "id": "tPEtTboF_hgs",
        "colab_type": "code",
        "colab": {
          "base_uri": "https://localhost:8080/",
          "height": 1000
        },
        "outputId": "d72eb19b-fe94-4f34-e5b8-0fad9d60447d"
      },
      "source": [
        "model = pipeline.named_steps['logisticregression']\n",
        "encoder = pipeline.named_steps['onehotencoder']\n",
        "\n",
        "encoded_columns = encoder.transform(X_val).columns\n",
        "coefficients = pd.Series(model.coef_[0], encoded_columns)\n",
        "\n",
        "plt.figure(figsize=(10,30))\n",
        "coefficients.sort_values().plot.barh(color='grey');"
      ],
      "execution_count": 143,
      "outputs": [
        {
          "output_type": "display_data",
          "data": {
            "image/png": "[encoded data removed]",
            "text/plain": [
              "<Figure size 720x2160 with 1 Axes>"
            ]
          },
          "metadata": {
            "tags": []
          }
        }
      ]
    },
    {
      "cell_type": "markdown",
      "metadata": {
        "id": "Kz_obfF9_kaF",
        "colab_type": "text"
      },
      "source": [
        "In 2-3 sentences, explain how to interpret and use the coefficients to further refine or help explain your model.\n",
        "\n",
        "```\n",
        "Your Answer Here\n",
        "```"
      ]
    },
    {
      "cell_type": "markdown",
      "metadata": {
        "id": "lZXahsuH_yUl",
        "colab_type": "text"
      },
      "source": [
        "What is an example of an ensemble method?\n",
        "\n",
        "```\n",
        "Bagging, ForestRegressionClassifier\n",
        "```\n",
        "\n",
        "What do we mean by hyperparameter tuning and how can we automate the tuning process?\n",
        "\n",
        "```\n",
        "Hyperparameters are manually set on a ML model in order to control the behavior of the model(often by introducing bias, variance, or other settings). \n",
        "```"
      ]
    },
    {
      "cell_type": "markdown",
      "metadata": {
        "id": "UfkSVMIS_7dg",
        "colab_type": "text"
      },
      "source": [
        "# Metrics and Model Evaluation"
      ]
    },
    {
      "cell_type": "markdown",
      "metadata": {
        "id": "Vb659NzBAQAY",
        "colab_type": "text"
      },
      "source": [
        "Define the following terms in your own words, do not simply copy and paste a definition found elsewhere but reword it to be understandable and memorable to you. *Double click the markdown to add your definitions.*\n",
        "<br/><br/>\n",
        "\n",
        "**ROC:** `curve is created by plotting the true positive rate (TPR) against the false positive rate (FPR) at various threshold settings.\"`\n",
        "\n",
        "**ROC-AUC:** ` the area under the ROC curve. ROC-AUC measures how well a classifier ranks predicted probabilities wihtout caring about the sample size. This a well-balanced evaluation of small datasets/sample sizes`\n",
        "\n",
        "**Discrimination Threshold:** `Your Answer Here`\n",
        "\n",
        "**Precision:** `the number of true positive out of all of our positives. also known as positive predicted value. .`\n",
        "\n",
        "**Recall:** `The true positives out of our false negatives and true positives. Also known as sensitivity. Another way is that it is the fraction of total amount of relevant instances that were actually retrieved. Divide the true positives by the `\n",
        "\n",
        "preceision and recall are the class level while accuracy is about all the classes. \n",
        "\n",
        "**F1 Score:** `Your Answer Here`\n",
        "\n",
        "**Confusion Matrix:** `Your Answer Here`"
      ]
    },
    {
      "cell_type": "markdown",
      "metadata": {
        "id": "0F8klqRlCj1k",
        "colab_type": "text"
      },
      "source": [
        "Choose one of your models above to complete the following:\n",
        "- Get your model's validation accuracy (This may be done multiple times if you are refining your model)\n",
        "- Get your model's test accuracy\n",
        "- Create a confusion matrix for your model\n",
        "- Calculate the Accuracy, F1 Score, Precision, and Recall by hand\n",
        "- Use SKLearn to calculate accuracy, F1 score, precision, and recall to confirm your work."
      ]
    },
    {
      "cell_type": "code",
      "metadata": {
        "id": "cWcKKv8slm5U",
        "colab_type": "code",
        "colab": {
          "base_uri": "https://localhost:8080/",
          "height": 34
        },
        "outputId": "c3461a4f-d6ae-4d12-e2bc-300cdf02281b"
      },
      "source": [
        "pipeline.score(X_val, y_val)"
      ],
      "execution_count": 144,
      "outputs": [
        {
          "output_type": "execute_result",
          "data": {
            "text/plain": [
              "0.7551020408163265"
            ]
          },
          "metadata": {
            "tags": []
          },
          "execution_count": 144
        }
      ]
    },
    {
      "cell_type": "code",
      "metadata": {
        "id": "MLFsf9me_49e",
        "colab_type": "code",
        "colab": {
          "base_uri": "https://localhost:8080/",
          "height": 34
        },
        "outputId": "d93d9609-9a27-479d-ac83-0344060d5853"
      },
      "source": [
        "pipeline.score(X_test, y_test)"
      ],
      "execution_count": 145,
      "outputs": [
        {
          "output_type": "execute_result",
          "data": {
            "text/plain": [
              "0.8360655737704918"
            ]
          },
          "metadata": {
            "tags": []
          },
          "execution_count": 145
        }
      ]
    },
    {
      "cell_type": "code",
      "metadata": {
        "id": "YXab8WJYlp2s",
        "colab_type": "code",
        "colab": {
          "base_uri": "https://localhost:8080/",
          "height": 276
        },
        "outputId": "43d2da05-a227-4401-8876-03714454449e"
      },
      "source": [
        "from sklearn.metrics import plot_confusion_matrix\n",
        "plot_confusion_matrix(pipeline, X_val, y_val, values_format='.0f', xticks_rotation='vertical');"
      ],
      "execution_count": 146,
      "outputs": [
        {
          "output_type": "display_data",
          "data": {
            "image/png": "[encoded data removed]",
            "text/plain": [
              "<Figure size 432x288 with 2 Axes>"
            ]
          },
          "metadata": {
            "tags": []
          }
        }
      ]
    },
    {
      "cell_type": "code",
      "metadata": {
        "id": "J8lQLWCLl561",
        "colab_type": "code",
        "colab": {
          "base_uri": "https://localhost:8080/",
          "height": 170
        },
        "outputId": "2710e7cd-55b5-42fc-cca9-ca2268557212"
      },
      "source": [
        "from sklearn.metrics import classification_report\n",
        "y_pred = pipeline.predict(X_val)\n",
        "print(classification_report(y_val, y_pred))"
      ],
      "execution_count": 147,
      "outputs": [
        {
          "output_type": "stream",
          "text": [
            "              precision    recall  f1-score   support\n",
            "\n",
            "           0       0.78      0.72      0.75        25\n",
            "           1       0.73      0.79      0.76        24\n",
            "\n",
            "    accuracy                           0.76        49\n",
            "   macro avg       0.76      0.76      0.75        49\n",
            "weighted avg       0.76      0.76      0.75        49\n",
            "\n"
          ],
          "name": "stdout"
        }
      ]
    },
    {
      "cell_type": "code",
      "metadata": {
        "id": "z7ZBX-gzmH23",
        "colab_type": "code",
        "colab": {
          "base_uri": "https://localhost:8080/",
          "height": 170
        },
        "outputId": "58857788-7064-428c-f89c-8018b1e2f535"
      },
      "source": [
        "y_pred = pipeline.predict(X_test)\n",
        "print(classification_report(y_test, y_pred))"
      ],
      "execution_count": 148,
      "outputs": [
        {
          "output_type": "stream",
          "text": [
            "              precision    recall  f1-score   support\n",
            "\n",
            "           0       0.79      0.90      0.84        29\n",
            "           1       0.89      0.78      0.83        32\n",
            "\n",
            "    accuracy                           0.84        61\n",
            "   macro avg       0.84      0.84      0.84        61\n",
            "weighted avg       0.84      0.84      0.84        61\n",
            "\n"
          ],
          "name": "stdout"
        }
      ]
    },
    {
      "cell_type": "markdown",
      "metadata": {
        "id": "elfpNZo-Fxe-",
        "colab_type": "text"
      },
      "source": [
        "Give an example of when we would use precision to score our model and explain why precision is the best metric for that situation.\n",
        "\n",
        "```\n",
        "Precision is more important when you want to reduce the false positive rate. This would be most useful for a large company looking to hire people because it's better to accept a few bad employees and not miss out on the great employees because you can always fire the bad employees after a few months with minimal harm. \n",
        "```\n",
        "\n",
        "Give an example of when we would use recall to score our model and explain why recall is the best metric for that situation.\n",
        "\n",
        "```\n",
        "Recall is more important when you want to reduce the false negative reate. This is important in medical testing because you don't want to tell someone they dont' have a disease when they actually have it. \n",
        "```"
      ]
    },
    {
      "cell_type": "markdown",
      "metadata": {
        "id": "Bdhtv_4KJrgQ",
        "colab_type": "text"
      },
      "source": [
        "Find your model's ROC-AUC Score"
      ]
    },
    {
      "cell_type": "code",
      "metadata": {
        "id": "uFR91njwJv8b",
        "colab_type": "code",
        "colab": {}
      },
      "source": [
        "from sklearn.metrics import roc_auc_score, roc_curve"
      ],
      "execution_count": 0,
      "outputs": []
    },
    {
      "cell_type": "code",
      "metadata": {
        "id": "joireeF7n1Nz",
        "colab_type": "code",
        "colab": {}
      },
      "source": [
        "# y_train = y_train != 'target'\n",
        "# y_val = y_val != 'target'\n",
        "# y_train.value_counts(normalize=True)\n",
        "\n",
        "# y_pred_proba = pipeline.predict_proba(X_val)[:, 1]"
      ],
      "execution_count": 0,
      "outputs": []
    },
    {
      "cell_type": "code",
      "metadata": {
        "id": "nnCug7cPn6Z3",
        "colab_type": "code",
        "colab": {
          "base_uri": "https://localhost:8080/",
          "height": 34
        },
        "outputId": "49f79950-6d1c-4ede-e8b0-88fb716f25c3"
      },
      "source": [
        "roc_auc_score(y_val, y_pred_proba)"
      ],
      "execution_count": 150,
      "outputs": [
        {
          "output_type": "execute_result",
          "data": {
            "text/plain": [
              "0.8733333333333333"
            ]
          },
          "metadata": {
            "tags": []
          },
          "execution_count": 150
        }
      ]
    },
    {
      "cell_type": "markdown",
      "metadata": {
        "id": "DYOLWhoUJfQU",
        "colab_type": "text"
      },
      "source": [
        "Plot your model's ROC Curve"
      ]
    },
    {
      "cell_type": "code",
      "metadata": {
        "id": "VI45S71RJkRy",
        "colab_type": "code",
        "colab": {
          "base_uri": "https://localhost:8080/",
          "height": 312
        },
        "outputId": "0d6b7c57-664b-4fbd-ceec-464c6910a20f"
      },
      "source": [
        "fpr, tpr, thresholds = roc_curve(y_val, y_pred_proba)\n",
        "import matplotlib.pyplot as plt\n",
        "\n",
        "plt.scatter(fpr, tpr)\n",
        "plt.title('ROC Curve')\n",
        "plt.xlabel('False Positive Rate')\n",
        "plt.ylabel('True Positive Rate')"
      ],
      "execution_count": 151,
      "outputs": [
        {
          "output_type": "execute_result",
          "data": {
            "text/plain": [
              "Text(0, 0.5, 'True Positive Rate')"
            ]
          },
          "metadata": {
            "tags": []
          },
          "execution_count": 151
        },
        {
          "output_type": "display_data",
          "data": {
            "image/png": "[encoded data removed]",
            "text/plain": [
              "<Figure size 432x288 with 1 Axes>"
            ]
          },
          "metadata": {
            "tags": []
          }
        }
      ]
    }
  ]
}