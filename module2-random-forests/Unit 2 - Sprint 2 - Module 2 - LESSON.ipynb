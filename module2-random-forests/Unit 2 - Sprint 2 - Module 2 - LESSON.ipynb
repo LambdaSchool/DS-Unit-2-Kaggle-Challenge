{
 "cells": [
  {
   "cell_type": "markdown",
   "metadata": {
    "colab_type": "text",
    "id": "UEHyIgGaaSEJ"
   },
   "source": [
    "Lambda School Data Science\n",
    "\n",
    "*Unit 2, Sprint 2, Module 2*\n",
    "\n",
    "---"
   ]
  },
  {
   "cell_type": "markdown",
   "metadata": {
    "colab_type": "text",
    "id": "mRfPLX4WgLVJ"
   },
   "source": [
    "# Random Forests"
   ]
  },
  {
   "cell_type": "markdown",
   "metadata": {
    "colab_type": "text",
    "id": "jRRNhkxcgLVK"
   },
   "source": [
    "- use scikit-learn for **random forests**\n",
    "- do **ordinal encoding** with high-cardinality categoricals\n",
    "- understand how categorical encodings affect trees differently compared to linear models\n",
    "- understand how tree ensembles reduce overfitting compared to a single decision tree with unlimited depth"
   ]
  },
  {
   "cell_type": "markdown",
   "metadata": {
    "colab_type": "text",
    "id": "-3TH11e1gLVL"
   },
   "source": [
    "Today's lesson has two take-away messages:\n",
    "\n",
    "#### Try Tree Ensembles when you do machine learning with labeled, tabular data\n",
    "- \"Tree Ensembles\" means Random Forest or Gradient Boosting models. \n",
    "- [Tree Ensembles often have the best predictive accuracy](https://arxiv.org/abs/1708.05070) with labeled, tabular data.\n",
    "- Why? Because trees can fit non-linear, non-[monotonic](https://en.wikipedia.org/wiki/Monotonic_function) relationships, and [interactions](https://christophm.github.io/interpretable-ml-book/interaction.html) between features.\n",
    "- A single decision tree, grown to unlimited depth, will [overfit](http://www.r2d3.us/visual-intro-to-machine-learning-part-1/). We solve this problem by ensembling trees, with bagging (Random Forest) or boosting (Gradient Boosting).\n",
    "- Random Forest's advantage: may be less sensitive to hyperparameters. Gradient Boosting's advantage: may get better predictive accuracy.\n",
    "\n",
    "#### One-hot encoding isn’t the only way, and may not be the best way, of categorical encoding for tree ensembles.\n",
    "- For example, tree ensembles can work with arbitrary \"ordinal\" encoding! (Randomly assigning an integer to each category.) Compared to one-hot encoding, the dimensionality will be lower, and the predictive accuracy may be just as good or even better.\n"
   ]
  },
  {
   "cell_type": "markdown",
   "metadata": {
    "colab_type": "text",
    "id": "r5PbOFEuFfGF"
   },
   "source": [
    "### Setup\n",
    "\n",
    "Run the code cell below. You can work locally (follow the [local setup instructions](https://lambdaschool.github.io/ds/unit2/local/)) or on Colab.\n",
    "\n",
    "Libraries\n",
    "\n",
    "- **category_encoders** \n",
    "- **graphviz**\n",
    "- ipywidgets\n",
    "- matplotlib\n",
    "- numpy\n",
    "- pandas\n",
    "- seaborn\n",
    "- scikit-learn"
   ]
  },
  {
   "cell_type": "code",
   "execution_count": 1,
   "metadata": {
    "colab": {},
    "colab_type": "code",
    "id": "FStAplyRFoEu"
   },
   "outputs": [],
   "source": [
    "%%capture\n",
    "import sys\n",
    "\n",
    "# If you're on Colab:\n",
    "if 'google.colab' in sys.modules:\n",
    "    DATA_PATH = 'https://raw.githubusercontent.com/LambdaSchool/DS-Unit-2-Kaggle-Challenge/master/data/'\n",
    "    !pip install category_encoders==2.*\n",
    "\n",
    "# If you're working locally:\n",
    "else:\n",
    "    DATA_PATH = 'https://raw.githubusercontent.com/LambdaSchool/DS-Unit-2-Kaggle-Challenge/master/data/'\n"
   ]
  },
  {
   "cell_type": "markdown",
   "metadata": {
    "colab_type": "text",
    "id": "ZL-yK8B7gLVW"
   },
   "source": [
    "# Use scikit-learn for random forests"
   ]
  },
  {
   "cell_type": "markdown",
   "metadata": {
    "colab_type": "text",
    "id": "yGUjn2QzJq4s"
   },
   "source": [
    "## Overview\n",
    "\n",
    "Let's fit a Random Forest!\n",
    "\n",
    "![](https://pbs.twimg.com/media/EGSvKA0UUAEzUZi?format=png)\n",
    "\n",
    "[Chris Albon, MachineLearningFlashcards.com](https://twitter.com/chrisalbon/status/1181261589887909889)"
   ]
  },
  {
   "cell_type": "markdown",
   "metadata": {
    "colab_type": "text",
    "id": "gHFxMCPSgLVM"
   },
   "source": [
    "### Solution example\n",
    "\n",
    "First, read & wrangle the data.\n",
    "\n",
    "> Define a function to wrangle train, validate, and test sets in the same way. Clean outliers and engineer features. (For example, [what other columns have zeros and shouldn't?](https://github.com/Quartz/bad-data-guide#zeros-replace-missing-values) What other columns are duplicates, or nearly duplicates? Can you extract the year from date_recorded? Can you engineer new features, such as the number of years from waterpump construction to waterpump inspection?)"
   ]
  },
  {
   "cell_type": "code",
   "execution_count": 2,
   "metadata": {
    "colab": {},
    "colab_type": "code",
    "id": "YTLm-rDagLVM"
   },
   "outputs": [],
   "source": [
    "import numpy as np\n",
    "import pandas as pd\n",
    "from sklearn.model_selection import train_test_split\n",
    "\n",
    "# Merge train_features.csv & train_labels.csv\n",
    "train = pd.merge(pd.read_csv(DATA_PATH+'waterpumps/train_features.csv'), \n",
    "                 pd.read_csv(DATA_PATH+'waterpumps/train_labels.csv'))\n",
    "\n",
    "# Read test_features.csv & sample_submission.csv\n",
    "test = pd.read_csv(DATA_PATH+'waterpumps/test_features.csv')\n",
    "sample_submission = pd.read_csv(DATA_PATH+'waterpumps/sample_submission.csv')\n",
    "\n",
    "# Split train into train & val\n",
    "train, val = train_test_split(train, train_size=0.80, test_size=0.20, \n",
    "                              stratify=train['status_group'], random_state=42)\n",
    "\n",
    "\n",
    "def wrangle(X):\n",
    "    \"\"\"Wrangle train, validate, and test sets in the same way\"\"\"\n",
    "    \n",
    "    # Prevent SettingWithCopyWarning\n",
    "    X = X.copy()\n",
    "    \n",
    "    # About 3% of the time, latitude has small values near zero,\n",
    "    # outside Tanzania, so we'll treat these values like zero.\n",
    "    X['latitude'] = X['latitude'].replace(-2e-08, 0)\n",
    "    \n",
    "    # When columns have zeros and shouldn't, they are like null values.\n",
    "    # So we will replace the zeros with nulls, and impute missing values later.\n",
    "    # Also create a \"missing indicator\" column, because the fact that\n",
    "    # values are missing may be a predictive signal.\n",
    "    cols_with_zeros = ['longitude', 'latitude', 'construction_year', \n",
    "                       'gps_height', 'population']\n",
    "    for col in cols_with_zeros:\n",
    "        X[col] = X[col].replace(0, np.nan)\n",
    "        X[col+'_MISSING'] = X[col].isnull()\n",
    "            \n",
    "    # Drop duplicate columns\n",
    "    duplicates = ['quantity_group', 'payment_type']\n",
    "    X = X.drop(columns=duplicates)\n",
    "    \n",
    "    # Drop recorded_by (never varies) and id (always varies, random)\n",
    "    unusable_variance = ['recorded_by', 'id']\n",
    "    X = X.drop(columns=unusable_variance)\n",
    "    \n",
    "    # Convert date_recorded to datetime\n",
    "    X['date_recorded'] = pd.to_datetime(X['date_recorded'], infer_datetime_format=True)\n",
    "    \n",
    "    # Extract components from date_recorded, then drop the original column\n",
    "    X['year_recorded'] = X['date_recorded'].dt.year\n",
    "    X['month_recorded'] = X['date_recorded'].dt.month\n",
    "    X['day_recorded'] = X['date_recorded'].dt.day\n",
    "    X = X.drop(columns='date_recorded')\n",
    "    \n",
    "    # Engineer feature: how many years from construction_year to date_recorded\n",
    "    X['years'] = X['year_recorded'] - X['construction_year']\n",
    "    X['years_MISSING'] = X['years'].isnull()\n",
    "    \n",
    "    # return the wrangled dataframe\n",
    "    return X\n",
    "\n",
    "train = wrangle(train)\n",
    "val = wrangle(val)\n",
    "test = wrangle(test)"
   ]
  },
  {
   "cell_type": "code",
   "execution_count": 3,
   "metadata": {
    "colab": {},
    "colab_type": "code",
    "id": "m2HppBvZgLVP"
   },
   "outputs": [],
   "source": [
    "# The status_group column is the target\n",
    "target = 'status_group'\n",
    "\n",
    "# Get a dataframe with all train columns except the target\n",
    "train_features = train.drop(columns=[target])\n",
    "\n",
    "# Get a list of the numeric features\n",
    "numeric_features = train_features.select_dtypes(include='number').columns.tolist()\n",
    "\n",
    "# Get a series with the cardinality of the nonnumeric features\n",
    "cardinality = train_features.select_dtypes(exclude='number').nunique()\n",
    "\n",
    "# Get a list of all categorical features with cardinality <= 50\n",
    "categorical_features = cardinality[cardinality <= 50].index.tolist()\n",
    "\n",
    "# Combine the lists \n",
    "features = numeric_features + categorical_features"
   ]
  },
  {
   "cell_type": "code",
   "execution_count": 4,
   "metadata": {
    "colab": {},
    "colab_type": "code",
    "id": "aXmK2brXgLVR"
   },
   "outputs": [],
   "source": [
    "# Arrange data into X features matrix and y target vector \n",
    "X_train = train[features]\n",
    "y_train = train[target]\n",
    "X_val = val[features]\n",
    "y_val = val[target]\n",
    "X_test = test[features]"
   ]
  },
  {
   "cell_type": "markdown",
   "metadata": {
    "colab_type": "text",
    "id": "H54GpxPNJq41"
   },
   "source": [
    "## Follow Along\n",
    "\n",
    "[Scikit-Learn User Guide: Random Forests](https://scikit-learn.org/stable/modules/ensemble.html#random-forests) "
   ]
  },
  {
   "cell_type": "code",
   "execution_count": 12,
   "metadata": {
    "colab": {},
    "colab_type": "code",
    "id": "57yyygsdgLVW"
   },
   "outputs": [
    {
     "name": "stdout",
     "output_type": "stream",
     "text": [
      "CPU times: user 3 µs, sys: 0 ns, total: 3 µs\n",
      "Wall time: 5.72 µs\n",
      "Training accuracy: 0.9979166666666667\n",
      "Validation accuracy: 0.8081649831649832\n"
     ]
    }
   ],
   "source": [
    "# TODO\n",
    "\n",
    "\n",
    "\n",
    "import category_encoders as ce\n",
    "from sklearn.ensemble import RandomForestClassifier\n",
    "from sklearn.impute import SimpleImputer\n",
    "from sklearn.pipeline import make_pipeline\n",
    "\n",
    "pipeline = make_pipeline(\n",
    "    ce.OneHotEncoder(use_cat_names=True),\n",
    "    SimpleImputer(strategy=\"mean\"),\n",
    "    RandomForestClassifier(random_state=0, n_jobs=-1)\n",
    ")\n",
    "\n",
    "%time\n",
    "pipeline.fit(X_train, y_train)\n",
    "print(\"Training accuracy:\", pipeline.score(X_train, y_train))\n",
    "print(\"Validation accuracy:\", pipeline.score(X_val, y_val))\n",
    "\n"
   ]
  },
  {
   "cell_type": "code",
   "execution_count": 26,
   "metadata": {},
   "outputs": [
    {
     "name": "stdout",
     "output_type": "stream",
     "text": [
      "CPU times: user 3 µs, sys: 0 ns, total: 3 µs\n",
      "Wall time: 7.15 µs\n",
      "Training accuracy: 0.8923190235690236\n",
      "Validation accuracy: 0.811952861952862\n"
     ]
    }
   ],
   "source": [
    "pipeline = make_pipeline(\n",
    "    ce.OneHotEncoder(use_cat_names=True),\n",
    "    SimpleImputer(strategy=\"median\"),\n",
    "    RandomForestClassifier(random_state=0, n_jobs=-1, max_depth=32, min_samples_leaf=2, n_estimators=300)\n",
    ")\n",
    "\n",
    "%time\n",
    "pipeline.fit(X_train, y_train)\n",
    "print(\"Training accuracy:\", pipeline.score(X_train, y_train))\n",
    "print(\"Validation accuracy:\", pipeline.score(X_val, y_val))"
   ]
  },
  {
   "cell_type": "code",
   "execution_count": 16,
   "metadata": {},
   "outputs": [],
   "source": [
    "%matplotlib inline\n",
    "\n",
    "import matplotlib.pyplot as plt\n",
    "\n",
    "# Get encoded value out\n",
    "encoder = pipeline.named_steps[\"onehotencoder\"]\n",
    "encoded = encoder.transform(X_train)\n",
    "\n",
    "\n",
    "# Get feature importances\n",
    "rf = pipeline.named_steps[\"randomforestclassifier\"]\n",
    "importances = pd.Series(rf.feature_importances_, encoded.columns)"
   ]
  },
  {
   "cell_type": "code",
   "execution_count": 62,
   "metadata": {},
   "outputs": [],
   "source": [
    "from sklearn.experimental import enable_hist_gradient_boosting\n",
    "from sklearn.ensemble import HistGradientBoostingClassifier"
   ]
  },
  {
   "cell_type": "code",
   "execution_count": 67,
   "metadata": {},
   "outputs": [
    {
     "name": "stdout",
     "output_type": "stream",
     "text": [
      "CPU times: user 3 µs, sys: 0 ns, total: 3 µs\n",
      "Wall time: 5.72 µs\n",
      "Training accuracy: 0.9435606060606061\n",
      "Validation accuracy: 0.8136363636363636\n"
     ]
    }
   ],
   "source": [
    "pipeline = make_pipeline(\n",
    "    ce.OrdinalEncoder(),\n",
    "    SimpleImputer(strategy=\"mean\"),\n",
    "    RandomForestClassifier(random_state=0, n_jobs=-1, max_depth=32, min_samples_leaf=2, n_estimators=190))\n",
    "    \n",
    "%time\n",
    "pipeline.fit(X_train, y_train)\n",
    "print(\"Training accuracy:\", pipeline.score(X_train, y_train))\n",
    "print(\"Validation accuracy:\", pipeline.score(X_val, y_val))"
   ]
  },
  {
   "cell_type": "code",
   "execution_count": 74,
   "metadata": {},
   "outputs": [
    {
     "name": "stdout",
     "output_type": "stream",
     "text": [
      "CPU times: user 4 µs, sys: 0 ns, total: 4 µs\n",
      "Wall time: 7.63 µs\n",
      "Training accuracy: 0.9436237373737374\n",
      "Validation accuracy: 0.8147306397306397\n"
     ]
    }
   ],
   "source": [
    "pipeline = make_pipeline(\n",
    "    ce.OrdinalEncoder(),\n",
    "    SimpleImputer(strategy=\"mean\"),\n",
    "    RandomForestClassifier(random_state=0, n_jobs=-1, max_depth=32, min_samples_leaf=2, n_estimators=1000))\n",
    "    \n",
    "%time\n",
    "pipeline.fit(X_train, y_train)\n",
    "print(\"Training accuracy:\", pipeline.score(X_train, y_train))\n",
    "print(\"Validation accuracy:\", pipeline.score(X_val, y_val))"
   ]
  },
  {
   "cell_type": "code",
   "execution_count": 35,
   "metadata": {},
   "outputs": [],
   "source": [
    "sample_submission = pd.read_csv(DATA_PATH+'waterpumps/sample_submission.csv')\n"
   ]
  },
  {
   "cell_type": "code",
   "execution_count": 36,
   "metadata": {},
   "outputs": [],
   "source": [
    "y_pred = pipeline.predict(X_test)"
   ]
  },
  {
   "cell_type": "code",
   "execution_count": 37,
   "metadata": {},
   "outputs": [],
   "source": [
    "submission = sample_submission.copy()\n",
    "submission['status_group'] = y_pred\n",
    "submission.to_csv('alex-pakalniskis-kaggle-submission-day-2.csv', index=False)"
   ]
  },
  {
   "cell_type": "code",
   "execution_count": 121,
   "metadata": {},
   "outputs": [
    {
     "data": {
      "text/plain": [
       "Index(['amount_tsh', 'funder', 'gps_height', 'installer', 'longitude',\n",
       "       'latitude', 'wpt_name', 'num_private', 'basin', 'subvillage', 'region',\n",
       "       'region_code', 'district_code', 'lga', 'ward', 'population',\n",
       "       'public_meeting', 'scheme_management', 'scheme_name', 'permit',\n",
       "       'construction_year', 'extraction_type', 'extraction_type_group',\n",
       "       'extraction_type_class', 'management', 'management_group', 'payment',\n",
       "       'water_quality', 'quality_group', 'quantity', 'source', 'source_type',\n",
       "       'source_class', 'waterpoint_type', 'waterpoint_type_group',\n",
       "       'longitude_MISSING', 'latitude_MISSING', 'construction_year_MISSING',\n",
       "       'gps_height_MISSING', 'population_MISSING', 'year_recorded',\n",
       "       'month_recorded', 'day_recorded', 'years', 'years_MISSING'],\n",
       "      dtype='object')"
      ]
     },
     "execution_count": 121,
     "metadata": {},
     "output_type": "execute_result"
    }
   ],
   "source": [
    "X_train.columns"
   ]
  },
  {
   "cell_type": "code",
   "execution_count": 124,
   "metadata": {},
   "outputs": [
    {
     "data": {
      "text/plain": [
       "Igosi               257\n",
       "Imalinyi            209\n",
       "Siha Kati           189\n",
       "Mdandu              178\n",
       "Nduruma             176\n",
       "                   ... \n",
       "Thawi                 1\n",
       "Kapalala              1\n",
       "Kinungu               1\n",
       "Mwanga Kaskazini      1\n",
       "Shigamba              1\n",
       "Name: ward, Length: 2082, dtype: int64"
      ]
     },
     "execution_count": 124,
     "metadata": {},
     "output_type": "execute_result"
    }
   ],
   "source": [
    "X_train[\"ward\"].value_counts()"
   ]
  },
  {
   "cell_type": "markdown",
   "metadata": {
    "colab_type": "text",
    "id": "yfyk_aa5gLVY"
   },
   "source": [
    "# Do ordinal encoding with high-cardinality categoricals"
   ]
  },
  {
   "cell_type": "markdown",
   "metadata": {
    "colab_type": "text",
    "id": "-csLi4iQJq45"
   },
   "source": [
    "## Overview\n",
    "\n",
    "http://contrib.scikit-learn.org/categorical-encoding/ordinal.html"
   ]
  },
  {
   "cell_type": "markdown",
   "metadata": {
    "colab_type": "text",
    "id": "4imLoA9bJq46"
   },
   "source": [
    "## Follow Along"
   ]
  },
  {
   "cell_type": "code",
   "execution_count": 27,
   "metadata": {
    "colab": {},
    "colab_type": "code",
    "id": "b8d_WJtcgLVZ"
   },
   "outputs": [],
   "source": [
    "# TODO\n",
    "\n",
    "\n",
    "X_train = train.drop(columns=target)\n",
    "y_train = train[target]\n",
    "\n",
    "X_val = val.drop(columns=target)\n",
    "y_val = val[target]\n",
    "\n",
    "\n",
    "X_test = test\n",
    "\n",
    "\n"
   ]
  },
  {
   "cell_type": "code",
   "execution_count": null,
   "metadata": {},
   "outputs": [],
   "source": []
  },
  {
   "cell_type": "code",
   "execution_count": null,
   "metadata": {},
   "outputs": [],
   "source": []
  },
  {
   "cell_type": "code",
   "execution_count": null,
   "metadata": {},
   "outputs": [],
   "source": []
  },
  {
   "cell_type": "markdown",
   "metadata": {
    "colab_type": "text",
    "id": "xs2UPoVdgLVp"
   },
   "source": [
    "# Understand how categorical encodings affect trees differently compared to linear models"
   ]
  },
  {
   "cell_type": "markdown",
   "metadata": {
    "colab_type": "text",
    "id": "5E7QczPOJq4-"
   },
   "source": [
    "## Follow Along"
   ]
  },
  {
   "cell_type": "markdown",
   "metadata": {
    "colab_type": "text",
    "id": "z8V-A92mgLVp"
   },
   "source": [
    "### Categorical exploration, 1 feature at a time\n",
    "\n",
    "Change `feature`, then re-run these cells!"
   ]
  },
  {
   "cell_type": "code",
   "execution_count": 38,
   "metadata": {
    "colab": {},
    "colab_type": "code",
    "id": "G35RAzVdgLVq"
   },
   "outputs": [],
   "source": [
    "feature = 'extraction_type_class'"
   ]
  },
  {
   "cell_type": "code",
   "execution_count": 39,
   "metadata": {
    "colab": {},
    "colab_type": "code",
    "id": "OuxHWiH8gLVr"
   },
   "outputs": [
    {
     "data": {
      "text/plain": [
       "gravity         21448\n",
       "handpump        13184\n",
       "other            5193\n",
       "submersible      4894\n",
       "motorpump        2355\n",
       "rope pump         353\n",
       "wind-powered       93\n",
       "Name: extraction_type_class, dtype: int64"
      ]
     },
     "execution_count": 39,
     "metadata": {},
     "output_type": "execute_result"
    }
   ],
   "source": [
    "X_train[feature].value_counts()"
   ]
  },
  {
   "cell_type": "code",
   "execution_count": 40,
   "metadata": {
    "colab": {},
    "colab_type": "code",
    "id": "pVxoC4NngLVt"
   },
   "outputs": [
    {
     "data": {
      "image/png": "[encoded data removed]",
      "text/plain": [
       "<Figure size 1152x648 with 1 Axes>"
      ]
     },
     "metadata": {
      "needs_background": "light"
     },
     "output_type": "display_data"
    }
   ],
   "source": [
    "import seaborn as sns\n",
    "plt.figure(figsize=(16,9))\n",
    "sns.barplot(\n",
    "    x=train[feature], \n",
    "    y=train['status_group']=='functional', \n",
    "    color='grey'\n",
    ");"
   ]
  },
  {
   "cell_type": "code",
   "execution_count": 41,
   "metadata": {
    "colab": {},
    "colab_type": "code",
    "id": "w99mek14gLVv"
   },
   "outputs": [
    {
     "data": {
      "text/plain": [
       "43360        gravity\n",
       "7263         gravity\n",
       "2486        handpump\n",
       "313            other\n",
       "52726      motorpump\n",
       "8558         gravity\n",
       "2559         gravity\n",
       "54735      motorpump\n",
       "25763       handpump\n",
       "44540    submersible\n",
       "28603          other\n",
       "4372     submersible\n",
       "30666        gravity\n",
       "6431     submersible\n",
       "57420          other\n",
       "1373         gravity\n",
       "2026         gravity\n",
       "58977       handpump\n",
       "41101        gravity\n",
       "10019        gravity\n",
       "Name: extraction_type_class, dtype: object"
      ]
     },
     "execution_count": 41,
     "metadata": {},
     "output_type": "execute_result"
    }
   ],
   "source": [
    "X_train[feature].head(20)"
   ]
  },
  {
   "cell_type": "markdown",
   "metadata": {
    "colab_type": "text",
    "id": "ezzK2IdbgLVx"
   },
   "source": [
    "### [One Hot Encoding](http://contrib.scikit-learn.org/categorical-encoding/onehot.html)\n",
    "\n",
    "> Onehot (or dummy) coding for categorical features, produces one feature per category, each binary.\n",
    "\n",
    "Warning: May run slow, or run out of memory, with high cardinality categoricals!"
   ]
  },
  {
   "cell_type": "code",
   "execution_count": 42,
   "metadata": {
    "colab": {},
    "colab_type": "code",
    "id": "HDQZtV6GgLVy"
   },
   "outputs": [
    {
     "name": "stdout",
     "output_type": "stream",
     "text": [
      "7 columns\n"
     ]
    },
    {
     "data": {
      "text/html": [
       "<div>\n",
       "<style scoped>\n",
       "    .dataframe tbody tr th:only-of-type {\n",
       "        vertical-align: middle;\n",
       "    }\n",
       "\n",
       "    .dataframe tbody tr th {\n",
       "        vertical-align: top;\n",
       "    }\n",
       "\n",
       "    .dataframe thead th {\n",
       "        text-align: right;\n",
       "    }\n",
       "</style>\n",
       "<table border=\"1\" class=\"dataframe\">\n",
       "  <thead>\n",
       "    <tr style=\"text-align: right;\">\n",
       "      <th></th>\n",
       "      <th>extraction_type_class_gravity</th>\n",
       "      <th>extraction_type_class_handpump</th>\n",
       "      <th>extraction_type_class_other</th>\n",
       "      <th>extraction_type_class_motorpump</th>\n",
       "      <th>extraction_type_class_submersible</th>\n",
       "      <th>extraction_type_class_rope pump</th>\n",
       "      <th>extraction_type_class_wind-powered</th>\n",
       "    </tr>\n",
       "  </thead>\n",
       "  <tbody>\n",
       "    <tr>\n",
       "      <th>43360</th>\n",
       "      <td>1</td>\n",
       "      <td>0</td>\n",
       "      <td>0</td>\n",
       "      <td>0</td>\n",
       "      <td>0</td>\n",
       "      <td>0</td>\n",
       "      <td>0</td>\n",
       "    </tr>\n",
       "    <tr>\n",
       "      <th>7263</th>\n",
       "      <td>1</td>\n",
       "      <td>0</td>\n",
       "      <td>0</td>\n",
       "      <td>0</td>\n",
       "      <td>0</td>\n",
       "      <td>0</td>\n",
       "      <td>0</td>\n",
       "    </tr>\n",
       "    <tr>\n",
       "      <th>2486</th>\n",
       "      <td>0</td>\n",
       "      <td>1</td>\n",
       "      <td>0</td>\n",
       "      <td>0</td>\n",
       "      <td>0</td>\n",
       "      <td>0</td>\n",
       "      <td>0</td>\n",
       "    </tr>\n",
       "    <tr>\n",
       "      <th>313</th>\n",
       "      <td>0</td>\n",
       "      <td>0</td>\n",
       "      <td>1</td>\n",
       "      <td>0</td>\n",
       "      <td>0</td>\n",
       "      <td>0</td>\n",
       "      <td>0</td>\n",
       "    </tr>\n",
       "    <tr>\n",
       "      <th>52726</th>\n",
       "      <td>0</td>\n",
       "      <td>0</td>\n",
       "      <td>0</td>\n",
       "      <td>1</td>\n",
       "      <td>0</td>\n",
       "      <td>0</td>\n",
       "      <td>0</td>\n",
       "    </tr>\n",
       "    <tr>\n",
       "      <th>8558</th>\n",
       "      <td>1</td>\n",
       "      <td>0</td>\n",
       "      <td>0</td>\n",
       "      <td>0</td>\n",
       "      <td>0</td>\n",
       "      <td>0</td>\n",
       "      <td>0</td>\n",
       "    </tr>\n",
       "    <tr>\n",
       "      <th>2559</th>\n",
       "      <td>1</td>\n",
       "      <td>0</td>\n",
       "      <td>0</td>\n",
       "      <td>0</td>\n",
       "      <td>0</td>\n",
       "      <td>0</td>\n",
       "      <td>0</td>\n",
       "    </tr>\n",
       "    <tr>\n",
       "      <th>54735</th>\n",
       "      <td>0</td>\n",
       "      <td>0</td>\n",
       "      <td>0</td>\n",
       "      <td>1</td>\n",
       "      <td>0</td>\n",
       "      <td>0</td>\n",
       "      <td>0</td>\n",
       "    </tr>\n",
       "    <tr>\n",
       "      <th>25763</th>\n",
       "      <td>0</td>\n",
       "      <td>1</td>\n",
       "      <td>0</td>\n",
       "      <td>0</td>\n",
       "      <td>0</td>\n",
       "      <td>0</td>\n",
       "      <td>0</td>\n",
       "    </tr>\n",
       "    <tr>\n",
       "      <th>44540</th>\n",
       "      <td>0</td>\n",
       "      <td>0</td>\n",
       "      <td>0</td>\n",
       "      <td>0</td>\n",
       "      <td>1</td>\n",
       "      <td>0</td>\n",
       "      <td>0</td>\n",
       "    </tr>\n",
       "    <tr>\n",
       "      <th>28603</th>\n",
       "      <td>0</td>\n",
       "      <td>0</td>\n",
       "      <td>1</td>\n",
       "      <td>0</td>\n",
       "      <td>0</td>\n",
       "      <td>0</td>\n",
       "      <td>0</td>\n",
       "    </tr>\n",
       "    <tr>\n",
       "      <th>4372</th>\n",
       "      <td>0</td>\n",
       "      <td>0</td>\n",
       "      <td>0</td>\n",
       "      <td>0</td>\n",
       "      <td>1</td>\n",
       "      <td>0</td>\n",
       "      <td>0</td>\n",
       "    </tr>\n",
       "    <tr>\n",
       "      <th>30666</th>\n",
       "      <td>1</td>\n",
       "      <td>0</td>\n",
       "      <td>0</td>\n",
       "      <td>0</td>\n",
       "      <td>0</td>\n",
       "      <td>0</td>\n",
       "      <td>0</td>\n",
       "    </tr>\n",
       "    <tr>\n",
       "      <th>6431</th>\n",
       "      <td>0</td>\n",
       "      <td>0</td>\n",
       "      <td>0</td>\n",
       "      <td>0</td>\n",
       "      <td>1</td>\n",
       "      <td>0</td>\n",
       "      <td>0</td>\n",
       "    </tr>\n",
       "    <tr>\n",
       "      <th>57420</th>\n",
       "      <td>0</td>\n",
       "      <td>0</td>\n",
       "      <td>1</td>\n",
       "      <td>0</td>\n",
       "      <td>0</td>\n",
       "      <td>0</td>\n",
       "      <td>0</td>\n",
       "    </tr>\n",
       "    <tr>\n",
       "      <th>1373</th>\n",
       "      <td>1</td>\n",
       "      <td>0</td>\n",
       "      <td>0</td>\n",
       "      <td>0</td>\n",
       "      <td>0</td>\n",
       "      <td>0</td>\n",
       "      <td>0</td>\n",
       "    </tr>\n",
       "    <tr>\n",
       "      <th>2026</th>\n",
       "      <td>1</td>\n",
       "      <td>0</td>\n",
       "      <td>0</td>\n",
       "      <td>0</td>\n",
       "      <td>0</td>\n",
       "      <td>0</td>\n",
       "      <td>0</td>\n",
       "    </tr>\n",
       "    <tr>\n",
       "      <th>58977</th>\n",
       "      <td>0</td>\n",
       "      <td>1</td>\n",
       "      <td>0</td>\n",
       "      <td>0</td>\n",
       "      <td>0</td>\n",
       "      <td>0</td>\n",
       "      <td>0</td>\n",
       "    </tr>\n",
       "    <tr>\n",
       "      <th>41101</th>\n",
       "      <td>1</td>\n",
       "      <td>0</td>\n",
       "      <td>0</td>\n",
       "      <td>0</td>\n",
       "      <td>0</td>\n",
       "      <td>0</td>\n",
       "      <td>0</td>\n",
       "    </tr>\n",
       "    <tr>\n",
       "      <th>10019</th>\n",
       "      <td>1</td>\n",
       "      <td>0</td>\n",
       "      <td>0</td>\n",
       "      <td>0</td>\n",
       "      <td>0</td>\n",
       "      <td>0</td>\n",
       "      <td>0</td>\n",
       "    </tr>\n",
       "  </tbody>\n",
       "</table>\n",
       "</div>"
      ],
      "text/plain": [
       "       extraction_type_class_gravity  extraction_type_class_handpump  \\\n",
       "43360                              1                               0   \n",
       "7263                               1                               0   \n",
       "2486                               0                               1   \n",
       "313                                0                               0   \n",
       "52726                              0                               0   \n",
       "8558                               1                               0   \n",
       "2559                               1                               0   \n",
       "54735                              0                               0   \n",
       "25763                              0                               1   \n",
       "44540                              0                               0   \n",
       "28603                              0                               0   \n",
       "4372                               0                               0   \n",
       "30666                              1                               0   \n",
       "6431                               0                               0   \n",
       "57420                              0                               0   \n",
       "1373                               1                               0   \n",
       "2026                               1                               0   \n",
       "58977                              0                               1   \n",
       "41101                              1                               0   \n",
       "10019                              1                               0   \n",
       "\n",
       "       extraction_type_class_other  extraction_type_class_motorpump  \\\n",
       "43360                            0                                0   \n",
       "7263                             0                                0   \n",
       "2486                             0                                0   \n",
       "313                              1                                0   \n",
       "52726                            0                                1   \n",
       "8558                             0                                0   \n",
       "2559                             0                                0   \n",
       "54735                            0                                1   \n",
       "25763                            0                                0   \n",
       "44540                            0                                0   \n",
       "28603                            1                                0   \n",
       "4372                             0                                0   \n",
       "30666                            0                                0   \n",
       "6431                             0                                0   \n",
       "57420                            1                                0   \n",
       "1373                             0                                0   \n",
       "2026                             0                                0   \n",
       "58977                            0                                0   \n",
       "41101                            0                                0   \n",
       "10019                            0                                0   \n",
       "\n",
       "       extraction_type_class_submersible  extraction_type_class_rope pump  \\\n",
       "43360                                  0                                0   \n",
       "7263                                   0                                0   \n",
       "2486                                   0                                0   \n",
       "313                                    0                                0   \n",
       "52726                                  0                                0   \n",
       "8558                                   0                                0   \n",
       "2559                                   0                                0   \n",
       "54735                                  0                                0   \n",
       "25763                                  0                                0   \n",
       "44540                                  1                                0   \n",
       "28603                                  0                                0   \n",
       "4372                                   1                                0   \n",
       "30666                                  0                                0   \n",
       "6431                                   1                                0   \n",
       "57420                                  0                                0   \n",
       "1373                                   0                                0   \n",
       "2026                                   0                                0   \n",
       "58977                                  0                                0   \n",
       "41101                                  0                                0   \n",
       "10019                                  0                                0   \n",
       "\n",
       "       extraction_type_class_wind-powered  \n",
       "43360                                   0  \n",
       "7263                                    0  \n",
       "2486                                    0  \n",
       "313                                     0  \n",
       "52726                                   0  \n",
       "8558                                    0  \n",
       "2559                                    0  \n",
       "54735                                   0  \n",
       "25763                                   0  \n",
       "44540                                   0  \n",
       "28603                                   0  \n",
       "4372                                    0  \n",
       "30666                                   0  \n",
       "6431                                    0  \n",
       "57420                                   0  \n",
       "1373                                    0  \n",
       "2026                                    0  \n",
       "58977                                   0  \n",
       "41101                                   0  \n",
       "10019                                   0  "
      ]
     },
     "execution_count": 42,
     "metadata": {},
     "output_type": "execute_result"
    }
   ],
   "source": [
    "encoder = ce.OneHotEncoder(use_cat_names=True)\n",
    "encoded = encoder.fit_transform(X_train[[feature]])\n",
    "print(f'{len(encoded.columns)} columns')\n",
    "encoded.head(20)"
   ]
  },
  {
   "cell_type": "markdown",
   "metadata": {
    "colab_type": "text",
    "id": "1Ql9Qmw3sNJ7"
   },
   "source": [
    "#### One-Hot Encoding, Logistic Regression, Validation Accuracy"
   ]
  },
  {
   "cell_type": "code",
   "execution_count": 43,
   "metadata": {
    "colab": {},
    "colab_type": "code",
    "id": "mT4A-oDGpOss"
   },
   "outputs": [
    {
     "name": "stdout",
     "output_type": "stream",
     "text": [
      "Logistic Regression, Validation Accuracy 0.6202861952861953\n"
     ]
    }
   ],
   "source": [
    "from sklearn.linear_model import LogisticRegressionCV\n",
    "from sklearn.preprocessing import StandardScaler\n",
    "\n",
    "lr = make_pipeline(\n",
    "    ce.OneHotEncoder(use_cat_names=True), \n",
    "    SimpleImputer(), \n",
    "    StandardScaler(), \n",
    "    LogisticRegressionCV(multi_class='auto', solver='lbfgs', cv=5, n_jobs=-1)\n",
    ")\n",
    "\n",
    "lr.fit(X_train[[feature]], y_train)\n",
    "score = lr.score(X_val[[feature]], y_val)\n",
    "print('Logistic Regression, Validation Accuracy', score)"
   ]
  },
  {
   "cell_type": "markdown",
   "metadata": {
    "colab_type": "text",
    "id": "EbH6wivpsRuV"
   },
   "source": [
    "#### One-Hot Encoding, Decision Tree, Validation Accuracy"
   ]
  },
  {
   "cell_type": "code",
   "execution_count": 44,
   "metadata": {
    "colab": {},
    "colab_type": "code",
    "id": "b6KUluFOqIdK"
   },
   "outputs": [
    {
     "name": "stdout",
     "output_type": "stream",
     "text": [
      "Decision Tree, Validation Accuracy 0.6202861952861953\n"
     ]
    }
   ],
   "source": [
    "from sklearn.tree import DecisionTreeClassifier\n",
    "\n",
    "dt = make_pipeline(\n",
    "    ce.OneHotEncoder(use_cat_names=True), \n",
    "    SimpleImputer(), \n",
    "    DecisionTreeClassifier(random_state=42)\n",
    ")\n",
    "\n",
    "dt.fit(X_train[[feature]], y_train)\n",
    "score = dt.score(X_val[[feature]], y_val)\n",
    "print('Decision Tree, Validation Accuracy', score)"
   ]
  },
  {
   "cell_type": "markdown",
   "metadata": {
    "colab_type": "text",
    "id": "8yg11_gTsUu6"
   },
   "source": [
    "#### One-Hot Encoding, Logistic Regression, Model Interpretation"
   ]
  },
  {
   "cell_type": "code",
   "execution_count": 45,
   "metadata": {
    "colab": {},
    "colab_type": "code",
    "id": "IxHwXGRornNI"
   },
   "outputs": [
    {
     "data": {
      "image/png": "[encoded data removed]",
      "text/plain": [
       "<Figure size 432x288 with 1 Axes>"
      ]
     },
     "metadata": {
      "needs_background": "light"
     },
     "output_type": "display_data"
    }
   ],
   "source": [
    "model = lr.named_steps['logisticregressioncv']\n",
    "encoder = lr.named_steps['onehotencoder']\n",
    "encoded_columns = encoder.transform(X_val[[feature]]).columns\n",
    "coefficients = pd.Series(model.coef_[0], encoded_columns)\n",
    "coefficients.sort_values().plot.barh(color='grey');"
   ]
  },
  {
   "cell_type": "markdown",
   "metadata": {
    "colab_type": "text",
    "id": "0REZ8HdpsccR"
   },
   "source": [
    "#### One-Hot Encoding, Decision Tree, Model Interpretation"
   ]
  },
  {
   "cell_type": "code",
   "execution_count": 46,
   "metadata": {
    "colab": {},
    "colab_type": "code",
    "id": "gV-grmYKpDp9"
   },
   "outputs": [
    {
     "data": {
      "image/svg+xml": [
       "<?xml version=\"1.0\" encoding=\"UTF-8\" standalone=\"no\"?>\n",
       "<!DOCTYPE svg PUBLIC \"-//W3C//DTD SVG 1.1//EN\"\n",
       " \"http://www.w3.org/Graphics/SVG/1.1/DTD/svg11.dtd\">\n",
       "<!-- Generated by graphviz version 2.40.1 (20161225.0304)\n",
       " -->\n",
       "<!-- Title: Tree Pages: 1 -->\n",
       "<svg width=\"1006pt\" height=\"685pt\"\n",
       " viewBox=\"0.00 0.00 1005.50 685.00\" xmlns=\"http://www.w3.org/2000/svg\" xmlns:xlink=\"http://www.w3.org/1999/xlink\">\n",
       "<g id=\"graph0\" class=\"graph\" transform=\"scale(1 1) rotate(0) translate(4 681)\">\n",
       "<title>Tree</title>\n",
       "<polygon fill=\"#ffffff\" stroke=\"transparent\" points=\"-4,4 -4,-681 1001.5,-681 1001.5,4 -4,4\"/>\n",
       "<!-- 0 -->\n",
       "<g id=\"node1\" class=\"node\">\n",
       "<title>0</title>\n",
       "<path fill=\"#f8decc\" stroke=\"#000000\" d=\"M887.5,-677C887.5,-677 684.5,-677 684.5,-677 678.5,-677 672.5,-671 672.5,-665 672.5,-665 672.5,-621 672.5,-621 672.5,-615 678.5,-609 684.5,-609 684.5,-609 887.5,-609 887.5,-609 893.5,-609 899.5,-615 899.5,-621 899.5,-621 899.5,-665 899.5,-665 899.5,-671 893.5,-677 887.5,-677\"/>\n",
       "<text text-anchor=\"middle\" x=\"786\" y=\"-661.8\" font-family=\"Helvetica,sans-Serif\" font-size=\"14.00\" fill=\"#000000\">extraction_type_class_other &lt;= 0.5</text>\n",
       "<text text-anchor=\"middle\" x=\"786\" y=\"-646.8\" font-family=\"Helvetica,sans-Serif\" font-size=\"14.00\" fill=\"#000000\">samples = 100.0%</text>\n",
       "<text text-anchor=\"middle\" x=\"786\" y=\"-631.8\" font-family=\"Helvetica,sans-Serif\" font-size=\"14.00\" fill=\"#000000\">value = [0.543, 0.073, 0.384]</text>\n",
       "<text text-anchor=\"middle\" x=\"786\" y=\"-616.8\" font-family=\"Helvetica,sans-Serif\" font-size=\"14.00\" fill=\"#000000\">class = functional</text>\n",
       "</g>\n",
       "<!-- 1 -->\n",
       "<g id=\"node2\" class=\"node\">\n",
       "<title>1</title>\n",
       "<path fill=\"#f5ceb2\" stroke=\"#000000\" d=\"M786,-573C786,-573 544,-573 544,-573 538,-573 532,-567 532,-561 532,-561 532,-517 532,-517 532,-511 538,-505 544,-505 544,-505 786,-505 786,-505 792,-505 798,-511 798,-517 798,-517 798,-561 798,-561 798,-567 792,-573 786,-573\"/>\n",
       "<text text-anchor=\"middle\" x=\"665\" y=\"-557.8\" font-family=\"Helvetica,sans-Serif\" font-size=\"14.00\" fill=\"#000000\">extraction_type_class_motorpump &lt;= 0.5</text>\n",
       "<text text-anchor=\"middle\" x=\"665\" y=\"-542.8\" font-family=\"Helvetica,sans-Serif\" font-size=\"14.00\" fill=\"#000000\">samples = 89.1%</text>\n",
       "<text text-anchor=\"middle\" x=\"665\" y=\"-527.8\" font-family=\"Helvetica,sans-Serif\" font-size=\"14.00\" fill=\"#000000\">value = [0.59, 0.078, 0.332]</text>\n",
       "<text text-anchor=\"middle\" x=\"665\" y=\"-512.8\" font-family=\"Helvetica,sans-Serif\" font-size=\"14.00\" fill=\"#000000\">class = functional</text>\n",
       "</g>\n",
       "<!-- 0&#45;&gt;1 -->\n",
       "<g id=\"edge1\" class=\"edge\">\n",
       "<title>0&#45;&gt;1</title>\n",
       "<path fill=\"none\" stroke=\"#000000\" d=\"M746.3801,-608.9465C735.516,-599.6088 723.6282,-589.3911 712.3765,-579.7203\"/>\n",
       "<polygon fill=\"#000000\" stroke=\"#000000\" points=\"714.5741,-576.994 704.7089,-573.13 710.0113,-582.3026 714.5741,-576.994\"/>\n",
       "<text text-anchor=\"middle\" x=\"706.5925\" y=\"-594.3589\" font-family=\"Helvetica,sans-Serif\" font-size=\"14.00\" fill=\"#000000\">True</text>\n",
       "</g>\n",
       "<!-- 12 -->\n",
       "<g id=\"node13\" class=\"node\">\n",
       "<title>12</title>\n",
       "<path fill=\"#9d66eb\" stroke=\"#000000\" d=\"M985.5,-565.5C985.5,-565.5 828.5,-565.5 828.5,-565.5 822.5,-565.5 816.5,-559.5 816.5,-553.5 816.5,-553.5 816.5,-524.5 816.5,-524.5 816.5,-518.5 822.5,-512.5 828.5,-512.5 828.5,-512.5 985.5,-512.5 985.5,-512.5 991.5,-512.5 997.5,-518.5 997.5,-524.5 997.5,-524.5 997.5,-553.5 997.5,-553.5 997.5,-559.5 991.5,-565.5 985.5,-565.5\"/>\n",
       "<text text-anchor=\"middle\" x=\"907\" y=\"-550.3\" font-family=\"Helvetica,sans-Serif\" font-size=\"14.00\" fill=\"#000000\">samples = 10.9%</text>\n",
       "<text text-anchor=\"middle\" x=\"907\" y=\"-535.3\" font-family=\"Helvetica,sans-Serif\" font-size=\"14.00\" fill=\"#000000\">value = [0.159, 0.031, 0.81]</text>\n",
       "<text text-anchor=\"middle\" x=\"907\" y=\"-520.3\" font-family=\"Helvetica,sans-Serif\" font-size=\"14.00\" fill=\"#000000\">class = non functional</text>\n",
       "</g>\n",
       "<!-- 0&#45;&gt;12 -->\n",
       "<g id=\"edge12\" class=\"edge\">\n",
       "<title>0&#45;&gt;12</title>\n",
       "<path fill=\"none\" stroke=\"#000000\" d=\"M825.6199,-608.9465C839.3324,-597.1606 854.6761,-583.9726 868.3127,-572.2519\"/>\n",
       "<polygon fill=\"#000000\" stroke=\"#000000\" points=\"870.8169,-574.7147 876.1192,-565.5422 866.2541,-569.4061 870.8169,-574.7147\"/>\n",
       "<text text-anchor=\"middle\" x=\"874.2357\" y=\"-586.7711\" font-family=\"Helvetica,sans-Serif\" font-size=\"14.00\" fill=\"#000000\">False</text>\n",
       "</g>\n",
       "<!-- 2 -->\n",
       "<g id=\"node3\" class=\"node\">\n",
       "<title>2</title>\n",
       "<path fill=\"#f4caac\" stroke=\"#000000\" d=\"M665,-469C665,-469 419,-469 419,-469 413,-469 407,-463 407,-457 407,-457 407,-413 407,-413 407,-407 413,-401 419,-401 419,-401 665,-401 665,-401 671,-401 677,-407 677,-413 677,-413 677,-457 677,-457 677,-463 671,-469 665,-469\"/>\n",
       "<text text-anchor=\"middle\" x=\"542\" y=\"-453.8\" font-family=\"Helvetica,sans-Serif\" font-size=\"14.00\" fill=\"#000000\">extraction_type_class_submersible &lt;= 0.5</text>\n",
       "<text text-anchor=\"middle\" x=\"542\" y=\"-438.8\" font-family=\"Helvetica,sans-Serif\" font-size=\"14.00\" fill=\"#000000\">samples = 84.1%</text>\n",
       "<text text-anchor=\"middle\" x=\"542\" y=\"-423.8\" font-family=\"Helvetica,sans-Serif\" font-size=\"14.00\" fill=\"#000000\">value = [0.603, 0.08, 0.318]</text>\n",
       "<text text-anchor=\"middle\" x=\"542\" y=\"-408.8\" font-family=\"Helvetica,sans-Serif\" font-size=\"14.00\" fill=\"#000000\">class = functional</text>\n",
       "</g>\n",
       "<!-- 1&#45;&gt;2 -->\n",
       "<g id=\"edge2\" class=\"edge\">\n",
       "<title>1&#45;&gt;2</title>\n",
       "<path fill=\"none\" stroke=\"#000000\" d=\"M624.7252,-504.9465C613.6816,-495.6088 601.5972,-485.3911 590.1596,-475.7203\"/>\n",
       "<polygon fill=\"#000000\" stroke=\"#000000\" points=\"592.2614,-472.914 582.3653,-469.13 587.7417,-478.2594 592.2614,-472.914\"/>\n",
       "</g>\n",
       "<!-- 11 -->\n",
       "<g id=\"node12\" class=\"node\">\n",
       "<title>11</title>\n",
       "<path fill=\"#d8c1f7\" stroke=\"#000000\" d=\"M871,-461.5C871,-461.5 707,-461.5 707,-461.5 701,-461.5 695,-455.5 695,-449.5 695,-449.5 695,-420.5 695,-420.5 695,-414.5 701,-408.5 707,-408.5 707,-408.5 871,-408.5 871,-408.5 877,-408.5 883,-414.5 883,-420.5 883,-420.5 883,-449.5 883,-449.5 883,-455.5 877,-461.5 871,-461.5\"/>\n",
       "<text text-anchor=\"middle\" x=\"789\" y=\"-446.3\" font-family=\"Helvetica,sans-Serif\" font-size=\"14.00\" fill=\"#000000\">samples = 5.0%</text>\n",
       "<text text-anchor=\"middle\" x=\"789\" y=\"-431.3\" font-family=\"Helvetica,sans-Serif\" font-size=\"14.00\" fill=\"#000000\">value = [0.381, 0.045, 0.574]</text>\n",
       "<text text-anchor=\"middle\" x=\"789\" y=\"-416.3\" font-family=\"Helvetica,sans-Serif\" font-size=\"14.00\" fill=\"#000000\">class = non functional</text>\n",
       "</g>\n",
       "<!-- 1&#45;&gt;11 -->\n",
       "<g id=\"edge11\" class=\"edge\">\n",
       "<title>1&#45;&gt;11</title>\n",
       "<path fill=\"none\" stroke=\"#000000\" d=\"M705.6022,-504.9465C719.6547,-493.1606 735.3788,-479.9726 749.3535,-468.2519\"/>\n",
       "<polygon fill=\"#000000\" stroke=\"#000000\" points=\"751.9408,-470.65 757.3536,-461.5422 747.4425,-465.2866 751.9408,-470.65\"/>\n",
       "</g>\n",
       "<!-- 3 -->\n",
       "<g id=\"node4\" class=\"node\">\n",
       "<title>3</title>\n",
       "<path fill=\"#f4c7a8\" stroke=\"#000000\" d=\"M533,-365C533,-365 321,-365 321,-365 315,-365 309,-359 309,-353 309,-353 309,-309 309,-309 309,-303 315,-297 321,-297 321,-297 533,-297 533,-297 539,-297 545,-303 545,-309 545,-309 545,-353 545,-353 545,-359 539,-365 533,-365\"/>\n",
       "<text text-anchor=\"middle\" x=\"427\" y=\"-349.8\" font-family=\"Helvetica,sans-Serif\" font-size=\"14.00\" fill=\"#000000\">extraction_type_class_gravity &lt;= 0.5</text>\n",
       "<text text-anchor=\"middle\" x=\"427\" y=\"-334.8\" font-family=\"Helvetica,sans-Serif\" font-size=\"14.00\" fill=\"#000000\">samples = 73.8%</text>\n",
       "<text text-anchor=\"middle\" x=\"427\" y=\"-319.8\" font-family=\"Helvetica,sans-Serif\" font-size=\"14.00\" fill=\"#000000\">value = [0.611, 0.085, 0.304]</text>\n",
       "<text text-anchor=\"middle\" x=\"427\" y=\"-304.8\" font-family=\"Helvetica,sans-Serif\" font-size=\"14.00\" fill=\"#000000\">class = functional</text>\n",
       "</g>\n",
       "<!-- 2&#45;&gt;3 -->\n",
       "<g id=\"edge3\" class=\"edge\">\n",
       "<title>2&#45;&gt;3</title>\n",
       "<path fill=\"none\" stroke=\"#000000\" d=\"M504.3447,-400.9465C494.1187,-391.6986 482.9382,-381.5876 472.3359,-371.9994\"/>\n",
       "<polygon fill=\"#000000\" stroke=\"#000000\" points=\"474.5044,-369.2416 464.7399,-365.13 469.8092,-374.4334 474.5044,-369.2416\"/>\n",
       "</g>\n",
       "<!-- 10 -->\n",
       "<g id=\"node11\" class=\"node\">\n",
       "<title>10</title>\n",
       "<path fill=\"#f9e4d5\" stroke=\"#000000\" d=\"M739,-357.5C739,-357.5 575,-357.5 575,-357.5 569,-357.5 563,-351.5 563,-345.5 563,-345.5 563,-316.5 563,-316.5 563,-310.5 569,-304.5 575,-304.5 575,-304.5 739,-304.5 739,-304.5 745,-304.5 751,-310.5 751,-316.5 751,-316.5 751,-345.5 751,-345.5 751,-351.5 745,-357.5 739,-357.5\"/>\n",
       "<text text-anchor=\"middle\" x=\"657\" y=\"-342.3\" font-family=\"Helvetica,sans-Serif\" font-size=\"14.00\" fill=\"#000000\">samples = 10.3%</text>\n",
       "<text text-anchor=\"middle\" x=\"657\" y=\"-327.3\" font-family=\"Helvetica,sans-Serif\" font-size=\"14.00\" fill=\"#000000\">value = [0.541, 0.042, 0.416]</text>\n",
       "<text text-anchor=\"middle\" x=\"657\" y=\"-312.3\" font-family=\"Helvetica,sans-Serif\" font-size=\"14.00\" fill=\"#000000\">class = functional</text>\n",
       "</g>\n",
       "<!-- 2&#45;&gt;10 -->\n",
       "<g id=\"edge10\" class=\"edge\">\n",
       "<title>2&#45;&gt;10</title>\n",
       "<path fill=\"none\" stroke=\"#000000\" d=\"M579.6553,-400.9465C592.6878,-389.1606 607.2706,-375.9726 620.2311,-364.2519\"/>\n",
       "<polygon fill=\"#000000\" stroke=\"#000000\" points=\"622.5812,-366.8456 627.6505,-357.5422 617.886,-361.6537 622.5812,-366.8456\"/>\n",
       "</g>\n",
       "<!-- 4 -->\n",
       "<g id=\"node5\" class=\"node\">\n",
       "<title>4</title>\n",
       "<path fill=\"#f3c5a4\" stroke=\"#000000\" d=\"M429.5,-261C429.5,-261 172.5,-261 172.5,-261 166.5,-261 160.5,-255 160.5,-249 160.5,-249 160.5,-205 160.5,-205 160.5,-199 166.5,-193 172.5,-193 172.5,-193 429.5,-193 429.5,-193 435.5,-193 441.5,-199 441.5,-205 441.5,-205 441.5,-249 441.5,-249 441.5,-255 435.5,-261 429.5,-261\"/>\n",
       "<text text-anchor=\"middle\" x=\"301\" y=\"-245.8\" font-family=\"Helvetica,sans-Serif\" font-size=\"14.00\" fill=\"#000000\">extraction_type_class_wind&#45;powered &lt;= 0.5</text>\n",
       "<text text-anchor=\"middle\" x=\"301\" y=\"-230.8\" font-family=\"Helvetica,sans-Serif\" font-size=\"14.00\" fill=\"#000000\">samples = 28.7%</text>\n",
       "<text text-anchor=\"middle\" x=\"301\" y=\"-215.8\" font-family=\"Helvetica,sans-Serif\" font-size=\"14.00\" fill=\"#000000\">value = [0.629, 0.059, 0.311]</text>\n",
       "<text text-anchor=\"middle\" x=\"301\" y=\"-200.8\" font-family=\"Helvetica,sans-Serif\" font-size=\"14.00\" fill=\"#000000\">class = functional</text>\n",
       "</g>\n",
       "<!-- 3&#45;&gt;4 -->\n",
       "<g id=\"edge4\" class=\"edge\">\n",
       "<title>3&#45;&gt;4</title>\n",
       "<path fill=\"none\" stroke=\"#000000\" d=\"M385.7429,-296.9465C374.4299,-287.6088 362.0508,-277.3911 350.3342,-267.7203\"/>\n",
       "<polygon fill=\"#000000\" stroke=\"#000000\" points=\"352.29,-264.7964 342.3498,-261.13 347.8341,-270.195 352.29,-264.7964\"/>\n",
       "</g>\n",
       "<!-- 9 -->\n",
       "<g id=\"node10\" class=\"node\">\n",
       "<title>9</title>\n",
       "<path fill=\"#f4c9aa\" stroke=\"#000000\" d=\"M636,-253.5C636,-253.5 472,-253.5 472,-253.5 466,-253.5 460,-247.5 460,-241.5 460,-241.5 460,-212.5 460,-212.5 460,-206.5 466,-200.5 472,-200.5 472,-200.5 636,-200.5 636,-200.5 642,-200.5 648,-206.5 648,-212.5 648,-212.5 648,-241.5 648,-241.5 648,-247.5 642,-253.5 636,-253.5\"/>\n",
       "<text text-anchor=\"middle\" x=\"554\" y=\"-238.3\" font-family=\"Helvetica,sans-Serif\" font-size=\"14.00\" fill=\"#000000\">samples = 45.1%</text>\n",
       "<text text-anchor=\"middle\" x=\"554\" y=\"-223.3\" font-family=\"Helvetica,sans-Serif\" font-size=\"14.00\" fill=\"#000000\">value = [0.599, 0.101, 0.299]</text>\n",
       "<text text-anchor=\"middle\" x=\"554\" y=\"-208.3\" font-family=\"Helvetica,sans-Serif\" font-size=\"14.00\" fill=\"#000000\">class = functional</text>\n",
       "</g>\n",
       "<!-- 3&#45;&gt;9 -->\n",
       "<g id=\"edge9\" class=\"edge\">\n",
       "<title>3&#45;&gt;9</title>\n",
       "<path fill=\"none\" stroke=\"#000000\" d=\"M468.5845,-296.9465C483.1115,-285.0504 499.3827,-271.726 513.7951,-259.9237\"/>\n",
       "<polygon fill=\"#000000\" stroke=\"#000000\" points=\"516.0686,-262.5858 521.5879,-253.5422 511.6335,-257.17 516.0686,-262.5858\"/>\n",
       "</g>\n",
       "<!-- 5 -->\n",
       "<g id=\"node6\" class=\"node\">\n",
       "<title>5</title>\n",
       "<path fill=\"#f3c4a3\" stroke=\"#000000\" d=\"M299,-157C299,-157 61,-157 61,-157 55,-157 49,-151 49,-145 49,-145 49,-101 49,-101 49,-95 55,-89 61,-89 61,-89 299,-89 299,-89 305,-89 311,-95 311,-101 311,-101 311,-145 311,-145 311,-151 305,-157 299,-157\"/>\n",
       "<text text-anchor=\"middle\" x=\"180\" y=\"-141.8\" font-family=\"Helvetica,sans-Serif\" font-size=\"14.00\" fill=\"#000000\">extraction_type_class_rope pump &lt;= 0.5</text>\n",
       "<text text-anchor=\"middle\" x=\"180\" y=\"-126.8\" font-family=\"Helvetica,sans-Serif\" font-size=\"14.00\" fill=\"#000000\">samples = 28.5%</text>\n",
       "<text text-anchor=\"middle\" x=\"180\" y=\"-111.8\" font-family=\"Helvetica,sans-Serif\" font-size=\"14.00\" fill=\"#000000\">value = [0.631, 0.059, 0.31]</text>\n",
       "<text text-anchor=\"middle\" x=\"180\" y=\"-96.8\" font-family=\"Helvetica,sans-Serif\" font-size=\"14.00\" fill=\"#000000\">class = functional</text>\n",
       "</g>\n",
       "<!-- 4&#45;&gt;5 -->\n",
       "<g id=\"edge5\" class=\"edge\">\n",
       "<title>4&#45;&gt;5</title>\n",
       "<path fill=\"none\" stroke=\"#000000\" d=\"M261.3801,-192.9465C250.516,-183.6088 238.6282,-173.3911 227.3765,-163.7203\"/>\n",
       "<polygon fill=\"#000000\" stroke=\"#000000\" points=\"229.5741,-160.994 219.7089,-157.13 225.0113,-166.3026 229.5741,-160.994\"/>\n",
       "</g>\n",
       "<!-- 8 -->\n",
       "<g id=\"node9\" class=\"node\">\n",
       "<title>8</title>\n",
       "<path fill=\"#f8f3fd\" stroke=\"#000000\" d=\"M505,-149.5C505,-149.5 341,-149.5 341,-149.5 335,-149.5 329,-143.5 329,-137.5 329,-137.5 329,-108.5 329,-108.5 329,-102.5 335,-96.5 341,-96.5 341,-96.5 505,-96.5 505,-96.5 511,-96.5 517,-102.5 517,-108.5 517,-108.5 517,-137.5 517,-137.5 517,-143.5 511,-149.5 505,-149.5\"/>\n",
       "<text text-anchor=\"middle\" x=\"423\" y=\"-134.3\" font-family=\"Helvetica,sans-Serif\" font-size=\"14.00\" fill=\"#000000\">samples = 0.2%</text>\n",
       "<text text-anchor=\"middle\" x=\"423\" y=\"-119.3\" font-family=\"Helvetica,sans-Serif\" font-size=\"14.00\" fill=\"#000000\">value = [0.452, 0.065, 0.484]</text>\n",
       "<text text-anchor=\"middle\" x=\"423\" y=\"-104.3\" font-family=\"Helvetica,sans-Serif\" font-size=\"14.00\" fill=\"#000000\">class = non functional</text>\n",
       "</g>\n",
       "<!-- 4&#45;&gt;8 -->\n",
       "<g id=\"edge8\" class=\"edge\">\n",
       "<title>4&#45;&gt;8</title>\n",
       "<path fill=\"none\" stroke=\"#000000\" d=\"M340.9474,-192.9465C354.7732,-181.1606 370.2436,-167.9726 383.9929,-156.2519\"/>\n",
       "<polygon fill=\"#000000\" stroke=\"#000000\" points=\"386.5244,-158.6931 391.864,-149.5422 381.9832,-153.366 386.5244,-158.6931\"/>\n",
       "</g>\n",
       "<!-- 6 -->\n",
       "<g id=\"node7\" class=\"node\">\n",
       "<title>6</title>\n",
       "<path fill=\"#f3c5a3\" stroke=\"#000000\" d=\"M154,-53C154,-53 12,-53 12,-53 6,-53 0,-47 0,-41 0,-41 0,-12 0,-12 0,-6 6,0 12,0 12,0 154,0 154,0 160,0 166,-6 166,-12 166,-12 166,-41 166,-41 166,-47 160,-53 154,-53\"/>\n",
       "<text text-anchor=\"middle\" x=\"83\" y=\"-37.8\" font-family=\"Helvetica,sans-Serif\" font-size=\"14.00\" fill=\"#000000\">samples = 27.7%</text>\n",
       "<text text-anchor=\"middle\" x=\"83\" y=\"-22.8\" font-family=\"Helvetica,sans-Serif\" font-size=\"14.00\" fill=\"#000000\">value = [0.63, 0.06, 0.31]</text>\n",
       "<text text-anchor=\"middle\" x=\"83\" y=\"-7.8\" font-family=\"Helvetica,sans-Serif\" font-size=\"14.00\" fill=\"#000000\">class = functional</text>\n",
       "</g>\n",
       "<!-- 5&#45;&gt;6 -->\n",
       "<g id=\"edge6\" class=\"edge\">\n",
       "<title>5&#45;&gt;6</title>\n",
       "<path fill=\"none\" stroke=\"#000000\" d=\"M145.8014,-88.9777C136.505,-79.7292 126.4386,-69.7147 117.1451,-60.4691\"/>\n",
       "<polygon fill=\"#000000\" stroke=\"#000000\" points=\"119.4449,-57.82 109.8871,-53.2485 114.5079,-62.7825 119.4449,-57.82\"/>\n",
       "</g>\n",
       "<!-- 7 -->\n",
       "<g id=\"node8\" class=\"node\">\n",
       "<title>7</title>\n",
       "<path fill=\"#f2bf9b\" stroke=\"#000000\" d=\"M360,-53C360,-53 196,-53 196,-53 190,-53 184,-47 184,-41 184,-41 184,-12 184,-12 184,-6 190,0 196,0 196,0 360,0 360,0 366,0 372,-6 372,-12 372,-12 372,-41 372,-41 372,-47 366,-53 360,-53\"/>\n",
       "<text text-anchor=\"middle\" x=\"278\" y=\"-37.8\" font-family=\"Helvetica,sans-Serif\" font-size=\"14.00\" fill=\"#000000\">samples = 0.7%</text>\n",
       "<text text-anchor=\"middle\" x=\"278\" y=\"-22.8\" font-family=\"Helvetica,sans-Serif\" font-size=\"14.00\" fill=\"#000000\">value = [0.657, 0.037, 0.306]</text>\n",
       "<text text-anchor=\"middle\" x=\"278\" y=\"-7.8\" font-family=\"Helvetica,sans-Serif\" font-size=\"14.00\" fill=\"#000000\">class = functional</text>\n",
       "</g>\n",
       "<!-- 5&#45;&gt;7 -->\n",
       "<g id=\"edge7\" class=\"edge\">\n",
       "<title>5&#45;&gt;7</title>\n",
       "<path fill=\"none\" stroke=\"#000000\" d=\"M214.5511,-88.9777C223.9434,-79.7292 234.1136,-69.7147 243.5029,-60.4691\"/>\n",
       "<polygon fill=\"#000000\" stroke=\"#000000\" points=\"246.1661,-62.7587 250.8357,-53.2485 241.2546,-57.7709 246.1661,-62.7587\"/>\n",
       "</g>\n",
       "</g>\n",
       "</svg>\n"
      ],
      "text/plain": [
       "<graphviz.files.Source at 0x7f13bd7380d0>"
      ]
     },
     "metadata": {},
     "output_type": "display_data"
    }
   ],
   "source": [
    "# Plot tree\n",
    "# https://scikit-learn.org/stable/modules/generated/sklearn.tree.export_graphviz.html\n",
    "import graphviz\n",
    "from sklearn.tree import export_graphviz\n",
    "\n",
    "model = dt.named_steps['decisiontreeclassifier']\n",
    "encoder = dt.named_steps['onehotencoder']\n",
    "encoded_columns = encoder.transform(X_val[[feature]]).columns\n",
    "\n",
    "dot_data = export_graphviz(model, \n",
    "                           out_file=None, \n",
    "                           max_depth=7, \n",
    "                           feature_names=encoded_columns,\n",
    "                           class_names=model.classes_, \n",
    "                           impurity=False, \n",
    "                           filled=True, \n",
    "                           proportion=True, \n",
    "                           rounded=True)   \n",
    "display(graphviz.Source(dot_data))"
   ]
  },
  {
   "cell_type": "markdown",
   "metadata": {
    "colab_type": "text",
    "id": "QUd6gzcZgLVz"
   },
   "source": [
    "### [Ordinal Encoding](http://contrib.scikit-learn.org/categorical-encoding/ordinal.html)\n",
    "\n",
    "> Ordinal encoding uses a single column of integers to represent the classes. An optional mapping dict can be passed in; in this case, we use the knowledge that there is some true order to the classes themselves. Otherwise, the classes are assumed to have no true order and integers are selected at random."
   ]
  },
  {
   "cell_type": "code",
   "execution_count": 47,
   "metadata": {
    "colab": {},
    "colab_type": "code",
    "id": "CnBz2RbwgLVz"
   },
   "outputs": [
    {
     "name": "stdout",
     "output_type": "stream",
     "text": [
      "1 column, 7 unique values\n"
     ]
    },
    {
     "data": {
      "text/html": [
       "<div>\n",
       "<style scoped>\n",
       "    .dataframe tbody tr th:only-of-type {\n",
       "        vertical-align: middle;\n",
       "    }\n",
       "\n",
       "    .dataframe tbody tr th {\n",
       "        vertical-align: top;\n",
       "    }\n",
       "\n",
       "    .dataframe thead th {\n",
       "        text-align: right;\n",
       "    }\n",
       "</style>\n",
       "<table border=\"1\" class=\"dataframe\">\n",
       "  <thead>\n",
       "    <tr style=\"text-align: right;\">\n",
       "      <th></th>\n",
       "      <th>extraction_type_class</th>\n",
       "    </tr>\n",
       "  </thead>\n",
       "  <tbody>\n",
       "    <tr>\n",
       "      <th>43360</th>\n",
       "      <td>1</td>\n",
       "    </tr>\n",
       "    <tr>\n",
       "      <th>7263</th>\n",
       "      <td>1</td>\n",
       "    </tr>\n",
       "    <tr>\n",
       "      <th>2486</th>\n",
       "      <td>2</td>\n",
       "    </tr>\n",
       "    <tr>\n",
       "      <th>313</th>\n",
       "      <td>3</td>\n",
       "    </tr>\n",
       "    <tr>\n",
       "      <th>52726</th>\n",
       "      <td>4</td>\n",
       "    </tr>\n",
       "    <tr>\n",
       "      <th>8558</th>\n",
       "      <td>1</td>\n",
       "    </tr>\n",
       "    <tr>\n",
       "      <th>2559</th>\n",
       "      <td>1</td>\n",
       "    </tr>\n",
       "    <tr>\n",
       "      <th>54735</th>\n",
       "      <td>4</td>\n",
       "    </tr>\n",
       "    <tr>\n",
       "      <th>25763</th>\n",
       "      <td>2</td>\n",
       "    </tr>\n",
       "    <tr>\n",
       "      <th>44540</th>\n",
       "      <td>5</td>\n",
       "    </tr>\n",
       "    <tr>\n",
       "      <th>28603</th>\n",
       "      <td>3</td>\n",
       "    </tr>\n",
       "    <tr>\n",
       "      <th>4372</th>\n",
       "      <td>5</td>\n",
       "    </tr>\n",
       "    <tr>\n",
       "      <th>30666</th>\n",
       "      <td>1</td>\n",
       "    </tr>\n",
       "    <tr>\n",
       "      <th>6431</th>\n",
       "      <td>5</td>\n",
       "    </tr>\n",
       "    <tr>\n",
       "      <th>57420</th>\n",
       "      <td>3</td>\n",
       "    </tr>\n",
       "    <tr>\n",
       "      <th>1373</th>\n",
       "      <td>1</td>\n",
       "    </tr>\n",
       "    <tr>\n",
       "      <th>2026</th>\n",
       "      <td>1</td>\n",
       "    </tr>\n",
       "    <tr>\n",
       "      <th>58977</th>\n",
       "      <td>2</td>\n",
       "    </tr>\n",
       "    <tr>\n",
       "      <th>41101</th>\n",
       "      <td>1</td>\n",
       "    </tr>\n",
       "    <tr>\n",
       "      <th>10019</th>\n",
       "      <td>1</td>\n",
       "    </tr>\n",
       "  </tbody>\n",
       "</table>\n",
       "</div>"
      ],
      "text/plain": [
       "       extraction_type_class\n",
       "43360                      1\n",
       "7263                       1\n",
       "2486                       2\n",
       "313                        3\n",
       "52726                      4\n",
       "8558                       1\n",
       "2559                       1\n",
       "54735                      4\n",
       "25763                      2\n",
       "44540                      5\n",
       "28603                      3\n",
       "4372                       5\n",
       "30666                      1\n",
       "6431                       5\n",
       "57420                      3\n",
       "1373                       1\n",
       "2026                       1\n",
       "58977                      2\n",
       "41101                      1\n",
       "10019                      1"
      ]
     },
     "execution_count": 47,
     "metadata": {},
     "output_type": "execute_result"
    }
   ],
   "source": [
    "encoder = ce.OrdinalEncoder()\n",
    "encoded = encoder.fit_transform(X_train[[feature]])\n",
    "print(f'1 column, {encoded[feature].nunique()} unique values')\n",
    "encoded.head(20)"
   ]
  },
  {
   "cell_type": "markdown",
   "metadata": {
    "colab_type": "text",
    "id": "Nd-ZWprasqUM"
   },
   "source": [
    "#### Ordinal Encoding, Logistic Regression, Validation Accuracy"
   ]
  },
  {
   "cell_type": "code",
   "execution_count": 48,
   "metadata": {
    "colab": {},
    "colab_type": "code",
    "id": "GJ1YpwjvrhfL"
   },
   "outputs": [
    {
     "name": "stdout",
     "output_type": "stream",
     "text": [
      "Logistic Regression, Validation Accuracy 0.5417508417508418\n"
     ]
    }
   ],
   "source": [
    "lr = make_pipeline(\n",
    "    ce.OrdinalEncoder(), \n",
    "    SimpleImputer(), \n",
    "    StandardScaler(), \n",
    "    LogisticRegressionCV(multi_class='auto', solver='lbfgs', cv=5, n_jobs=-1)\n",
    ")\n",
    "\n",
    "lr.fit(X_train[[feature]], y_train)\n",
    "score = lr.score(X_val[[feature]], y_val)\n",
    "print('Logistic Regression, Validation Accuracy', score)"
   ]
  },
  {
   "cell_type": "markdown",
   "metadata": {
    "colab_type": "text",
    "id": "9lO_R3SksuHs"
   },
   "source": [
    "#### Ordinal Encoding, Decision Tree, Validation Accuracy"
   ]
  },
  {
   "cell_type": "code",
   "execution_count": 49,
   "metadata": {
    "colab": {},
    "colab_type": "code",
    "id": "aOELD_roriVI"
   },
   "outputs": [
    {
     "name": "stdout",
     "output_type": "stream",
     "text": [
      "Decision Tree, Validation Accuracy 0.6202861952861953\n"
     ]
    }
   ],
   "source": [
    "dt = make_pipeline(\n",
    "    ce.OrdinalEncoder(), \n",
    "    SimpleImputer(), \n",
    "    DecisionTreeClassifier(random_state=42)\n",
    ")\n",
    "\n",
    "dt.fit(X_train[[feature]], y_train)\n",
    "score = dt.score(X_val[[feature]], y_val)\n",
    "print('Decision Tree, Validation Accuracy', score)"
   ]
  },
  {
   "cell_type": "markdown",
   "metadata": {
    "colab_type": "text",
    "id": "7V2zHjiwswTg"
   },
   "source": [
    "#### Ordinal Encoding, Logistic Regression, Model Interpretation"
   ]
  },
  {
   "cell_type": "code",
   "execution_count": 50,
   "metadata": {
    "colab": {},
    "colab_type": "code",
    "id": "S9UPYPois8QR"
   },
   "outputs": [
    {
     "data": {
      "image/png": "[encoded data removed]",
      "text/plain": [
       "<Figure size 432x288 with 1 Axes>"
      ]
     },
     "metadata": {
      "needs_background": "light"
     },
     "output_type": "display_data"
    }
   ],
   "source": [
    "model = lr.named_steps['logisticregressioncv']\n",
    "encoder = lr.named_steps['ordinalencoder']\n",
    "encoded_columns = encoder.transform(X_val[[feature]]).columns\n",
    "coefficients = pd.Series(model.coef_[0], encoded_columns)\n",
    "coefficients.sort_values().plot.barh(color='grey');"
   ]
  },
  {
   "cell_type": "markdown",
   "metadata": {
    "colab_type": "text",
    "id": "MvmmvE8fsymh"
   },
   "source": [
    "#### Ordinal Encoding, Decision Tree, Model Interpretation"
   ]
  },
  {
   "cell_type": "code",
   "execution_count": 51,
   "metadata": {
    "colab": {},
    "colab_type": "code",
    "id": "jCvUu4Oms88b"
   },
   "outputs": [
    {
     "data": {
      "image/svg+xml": [
       "<?xml version=\"1.0\" encoding=\"UTF-8\" standalone=\"no\"?>\n",
       "<!DOCTYPE svg PUBLIC \"-//W3C//DTD SVG 1.1//EN\"\n",
       " \"http://www.w3.org/Graphics/SVG/1.1/DTD/svg11.dtd\">\n",
       "<!-- Generated by graphviz version 2.40.1 (20161225.0304)\n",
       " -->\n",
       "<!-- Title: Tree Pages: 1 -->\n",
       "<svg width=\"1103pt\" height=\"581pt\"\n",
       " viewBox=\"0.00 0.00 1103.00 581.00\" xmlns=\"http://www.w3.org/2000/svg\" xmlns:xlink=\"http://www.w3.org/1999/xlink\">\n",
       "<g id=\"graph0\" class=\"graph\" transform=\"scale(1 1) rotate(0) translate(4 577)\">\n",
       "<title>Tree</title>\n",
       "<polygon fill=\"#ffffff\" stroke=\"transparent\" points=\"-4,4 -4,-577 1099,-577 1099,4 -4,4\"/>\n",
       "<!-- 0 -->\n",
       "<g id=\"node1\" class=\"node\">\n",
       "<title>0</title>\n",
       "<path fill=\"#f8decc\" stroke=\"#000000\" d=\"M470.5,-573C470.5,-573 305.5,-573 305.5,-573 299.5,-573 293.5,-567 293.5,-561 293.5,-561 293.5,-517 293.5,-517 293.5,-511 299.5,-505 305.5,-505 305.5,-505 470.5,-505 470.5,-505 476.5,-505 482.5,-511 482.5,-517 482.5,-517 482.5,-561 482.5,-561 482.5,-567 476.5,-573 470.5,-573\"/>\n",
       "<text text-anchor=\"middle\" x=\"388\" y=\"-557.8\" font-family=\"Helvetica,sans-Serif\" font-size=\"14.00\" fill=\"#000000\">extraction_type_class &lt;= 2.5</text>\n",
       "<text text-anchor=\"middle\" x=\"388\" y=\"-542.8\" font-family=\"Helvetica,sans-Serif\" font-size=\"14.00\" fill=\"#000000\">samples = 100.0%</text>\n",
       "<text text-anchor=\"middle\" x=\"388\" y=\"-527.8\" font-family=\"Helvetica,sans-Serif\" font-size=\"14.00\" fill=\"#000000\">value = [0.543, 0.073, 0.384]</text>\n",
       "<text text-anchor=\"middle\" x=\"388\" y=\"-512.8\" font-family=\"Helvetica,sans-Serif\" font-size=\"14.00\" fill=\"#000000\">class = functional</text>\n",
       "</g>\n",
       "<!-- 1 -->\n",
       "<g id=\"node2\" class=\"node\">\n",
       "<title>1</title>\n",
       "<path fill=\"#f4c7a8\" stroke=\"#000000\" d=\"M367.5,-469C367.5,-469 202.5,-469 202.5,-469 196.5,-469 190.5,-463 190.5,-457 190.5,-457 190.5,-413 190.5,-413 190.5,-407 196.5,-401 202.5,-401 202.5,-401 367.5,-401 367.5,-401 373.5,-401 379.5,-407 379.5,-413 379.5,-413 379.5,-457 379.5,-457 379.5,-463 373.5,-469 367.5,-469\"/>\n",
       "<text text-anchor=\"middle\" x=\"285\" y=\"-453.8\" font-family=\"Helvetica,sans-Serif\" font-size=\"14.00\" fill=\"#000000\">extraction_type_class &lt;= 1.5</text>\n",
       "<text text-anchor=\"middle\" x=\"285\" y=\"-438.8\" font-family=\"Helvetica,sans-Serif\" font-size=\"14.00\" fill=\"#000000\">samples = 72.9%</text>\n",
       "<text text-anchor=\"middle\" x=\"285\" y=\"-423.8\" font-family=\"Helvetica,sans-Serif\" font-size=\"14.00\" fill=\"#000000\">value = [0.611, 0.085, 0.304]</text>\n",
       "<text text-anchor=\"middle\" x=\"285\" y=\"-408.8\" font-family=\"Helvetica,sans-Serif\" font-size=\"14.00\" fill=\"#000000\">class = functional</text>\n",
       "</g>\n",
       "<!-- 0&#45;&gt;1 -->\n",
       "<g id=\"edge1\" class=\"edge\">\n",
       "<title>0&#45;&gt;1</title>\n",
       "<path fill=\"none\" stroke=\"#000000\" d=\"M354.2739,-504.9465C345.2039,-495.7884 335.2955,-485.7838 325.8819,-476.2788\"/>\n",
       "<polygon fill=\"#000000\" stroke=\"#000000\" points=\"328.3255,-473.7723 318.8018,-469.13 323.3519,-478.6981 328.3255,-473.7723\"/>\n",
       "<text text-anchor=\"middle\" x=\"318.6811\" y=\"-490.4297\" font-family=\"Helvetica,sans-Serif\" font-size=\"14.00\" fill=\"#000000\">True</text>\n",
       "</g>\n",
       "<!-- 4 -->\n",
       "<g id=\"node5\" class=\"node\">\n",
       "<title>4</title>\n",
       "<path fill=\"#d0b4f5\" stroke=\"#000000\" d=\"M574.5,-469C574.5,-469 409.5,-469 409.5,-469 403.5,-469 397.5,-463 397.5,-457 397.5,-457 397.5,-413 397.5,-413 397.5,-407 403.5,-401 409.5,-401 409.5,-401 574.5,-401 574.5,-401 580.5,-401 586.5,-407 586.5,-413 586.5,-413 586.5,-457 586.5,-457 586.5,-463 580.5,-469 574.5,-469\"/>\n",
       "<text text-anchor=\"middle\" x=\"492\" y=\"-453.8\" font-family=\"Helvetica,sans-Serif\" font-size=\"14.00\" fill=\"#000000\">extraction_type_class &lt;= 3.5</text>\n",
       "<text text-anchor=\"middle\" x=\"492\" y=\"-438.8\" font-family=\"Helvetica,sans-Serif\" font-size=\"14.00\" fill=\"#000000\">samples = 27.1%</text>\n",
       "<text text-anchor=\"middle\" x=\"492\" y=\"-423.8\" font-family=\"Helvetica,sans-Serif\" font-size=\"14.00\" fill=\"#000000\">value = [0.361, 0.038, 0.601]</text>\n",
       "<text text-anchor=\"middle\" x=\"492\" y=\"-408.8\" font-family=\"Helvetica,sans-Serif\" font-size=\"14.00\" fill=\"#000000\">class = non functional</text>\n",
       "</g>\n",
       "<!-- 0&#45;&gt;4 -->\n",
       "<g id=\"edge4\" class=\"edge\">\n",
       "<title>0&#45;&gt;4</title>\n",
       "<path fill=\"none\" stroke=\"#000000\" d=\"M422.0535,-504.9465C431.2116,-495.7884 441.2162,-485.7838 450.7212,-476.2788\"/>\n",
       "<polygon fill=\"#000000\" stroke=\"#000000\" points=\"453.2738,-478.676 457.87,-469.13 448.324,-473.7262 453.2738,-478.676\"/>\n",
       "<text text-anchor=\"middle\" x=\"457.87\" y=\"-490.43\" font-family=\"Helvetica,sans-Serif\" font-size=\"14.00\" fill=\"#000000\">False</text>\n",
       "</g>\n",
       "<!-- 2 -->\n",
       "<g id=\"node3\" class=\"node\">\n",
       "<title>2</title>\n",
       "<path fill=\"#f4c9aa\" stroke=\"#000000\" d=\"M176,-357.5C176,-357.5 12,-357.5 12,-357.5 6,-357.5 0,-351.5 0,-345.5 0,-345.5 0,-316.5 0,-316.5 0,-310.5 6,-304.5 12,-304.5 12,-304.5 176,-304.5 176,-304.5 182,-304.5 188,-310.5 188,-316.5 188,-316.5 188,-345.5 188,-345.5 188,-351.5 182,-357.5 176,-357.5\"/>\n",
       "<text text-anchor=\"middle\" x=\"94\" y=\"-342.3\" font-family=\"Helvetica,sans-Serif\" font-size=\"14.00\" fill=\"#000000\">samples = 45.1%</text>\n",
       "<text text-anchor=\"middle\" x=\"94\" y=\"-327.3\" font-family=\"Helvetica,sans-Serif\" font-size=\"14.00\" fill=\"#000000\">value = [0.599, 0.101, 0.299]</text>\n",
       "<text text-anchor=\"middle\" x=\"94\" y=\"-312.3\" font-family=\"Helvetica,sans-Serif\" font-size=\"14.00\" fill=\"#000000\">class = functional</text>\n",
       "</g>\n",
       "<!-- 1&#45;&gt;2 -->\n",
       "<g id=\"edge2\" class=\"edge\">\n",
       "<title>1&#45;&gt;2</title>\n",
       "<path fill=\"none\" stroke=\"#000000\" d=\"M222.4595,-400.9465C199.7015,-388.5547 174.0973,-374.6132 151.7711,-362.4565\"/>\n",
       "<polygon fill=\"#000000\" stroke=\"#000000\" points=\"153.2019,-359.2504 142.7457,-357.5422 149.8544,-365.3982 153.2019,-359.2504\"/>\n",
       "</g>\n",
       "<!-- 3 -->\n",
       "<g id=\"node4\" class=\"node\">\n",
       "<title>3</title>\n",
       "<path fill=\"#f3c5a3\" stroke=\"#000000\" d=\"M360,-357.5C360,-357.5 218,-357.5 218,-357.5 212,-357.5 206,-351.5 206,-345.5 206,-345.5 206,-316.5 206,-316.5 206,-310.5 212,-304.5 218,-304.5 218,-304.5 360,-304.5 360,-304.5 366,-304.5 372,-310.5 372,-316.5 372,-316.5 372,-345.5 372,-345.5 372,-351.5 366,-357.5 360,-357.5\"/>\n",
       "<text text-anchor=\"middle\" x=\"289\" y=\"-342.3\" font-family=\"Helvetica,sans-Serif\" font-size=\"14.00\" fill=\"#000000\">samples = 27.7%</text>\n",
       "<text text-anchor=\"middle\" x=\"289\" y=\"-327.3\" font-family=\"Helvetica,sans-Serif\" font-size=\"14.00\" fill=\"#000000\">value = [0.63, 0.06, 0.31]</text>\n",
       "<text text-anchor=\"middle\" x=\"289\" y=\"-312.3\" font-family=\"Helvetica,sans-Serif\" font-size=\"14.00\" fill=\"#000000\">class = functional</text>\n",
       "</g>\n",
       "<!-- 1&#45;&gt;3 -->\n",
       "<g id=\"edge3\" class=\"edge\">\n",
       "<title>1&#45;&gt;3</title>\n",
       "<path fill=\"none\" stroke=\"#000000\" d=\"M286.3097,-400.9465C286.7207,-390.2621 287.1759,-378.4254 287.5933,-367.5742\"/>\n",
       "<polygon fill=\"#000000\" stroke=\"#000000\" points=\"291.0921,-367.6693 287.9791,-357.5422 284.0973,-367.4002 291.0921,-367.6693\"/>\n",
       "</g>\n",
       "<!-- 5 -->\n",
       "<g id=\"node6\" class=\"node\">\n",
       "<title>5</title>\n",
       "<path fill=\"#9d66eb\" stroke=\"#000000\" d=\"M566.5,-357.5C566.5,-357.5 409.5,-357.5 409.5,-357.5 403.5,-357.5 397.5,-351.5 397.5,-345.5 397.5,-345.5 397.5,-316.5 397.5,-316.5 397.5,-310.5 403.5,-304.5 409.5,-304.5 409.5,-304.5 566.5,-304.5 566.5,-304.5 572.5,-304.5 578.5,-310.5 578.5,-316.5 578.5,-316.5 578.5,-345.5 578.5,-345.5 578.5,-351.5 572.5,-357.5 566.5,-357.5\"/>\n",
       "<text text-anchor=\"middle\" x=\"488\" y=\"-342.3\" font-family=\"Helvetica,sans-Serif\" font-size=\"14.00\" fill=\"#000000\">samples = 10.9%</text>\n",
       "<text text-anchor=\"middle\" x=\"488\" y=\"-327.3\" font-family=\"Helvetica,sans-Serif\" font-size=\"14.00\" fill=\"#000000\">value = [0.159, 0.031, 0.81]</text>\n",
       "<text text-anchor=\"middle\" x=\"488\" y=\"-312.3\" font-family=\"Helvetica,sans-Serif\" font-size=\"14.00\" fill=\"#000000\">class = non functional</text>\n",
       "</g>\n",
       "<!-- 4&#45;&gt;5 -->\n",
       "<g id=\"edge5\" class=\"edge\">\n",
       "<title>4&#45;&gt;5</title>\n",
       "<path fill=\"none\" stroke=\"#000000\" d=\"M490.6903,-400.9465C490.2793,-390.2621 489.8241,-378.4254 489.4067,-367.5742\"/>\n",
       "<polygon fill=\"#000000\" stroke=\"#000000\" points=\"492.9027,-367.4002 489.0209,-357.5422 485.9079,-367.6693 492.9027,-367.4002\"/>\n",
       "</g>\n",
       "<!-- 6 -->\n",
       "<g id=\"node7\" class=\"node\">\n",
       "<title>6</title>\n",
       "<path fill=\"#fdf7f2\" stroke=\"#000000\" d=\"M773.5,-365C773.5,-365 608.5,-365 608.5,-365 602.5,-365 596.5,-359 596.5,-353 596.5,-353 596.5,-309 596.5,-309 596.5,-303 602.5,-297 608.5,-297 608.5,-297 773.5,-297 773.5,-297 779.5,-297 785.5,-303 785.5,-309 785.5,-309 785.5,-353 785.5,-353 785.5,-359 779.5,-365 773.5,-365\"/>\n",
       "<text text-anchor=\"middle\" x=\"691\" y=\"-349.8\" font-family=\"Helvetica,sans-Serif\" font-size=\"14.00\" fill=\"#000000\">extraction_type_class &lt;= 4.5</text>\n",
       "<text text-anchor=\"middle\" x=\"691\" y=\"-334.8\" font-family=\"Helvetica,sans-Serif\" font-size=\"14.00\" fill=\"#000000\">samples = 16.2%</text>\n",
       "<text text-anchor=\"middle\" x=\"691\" y=\"-319.8\" font-family=\"Helvetica,sans-Serif\" font-size=\"14.00\" fill=\"#000000\">value = [0.497, 0.043, 0.46]</text>\n",
       "<text text-anchor=\"middle\" x=\"691\" y=\"-304.8\" font-family=\"Helvetica,sans-Serif\" font-size=\"14.00\" fill=\"#000000\">class = functional</text>\n",
       "</g>\n",
       "<!-- 4&#45;&gt;6 -->\n",
       "<g id=\"edge6\" class=\"edge\">\n",
       "<title>4&#45;&gt;6</title>\n",
       "<path fill=\"none\" stroke=\"#000000\" d=\"M557.16,-400.9465C576.2299,-390.9803 597.218,-380.0117 616.8048,-369.7754\"/>\n",
       "<polygon fill=\"#000000\" stroke=\"#000000\" points=\"618.452,-372.8637 625.6936,-365.13 615.2098,-366.6599 618.452,-372.8637\"/>\n",
       "</g>\n",
       "<!-- 7 -->\n",
       "<g id=\"node8\" class=\"node\">\n",
       "<title>7</title>\n",
       "<path fill=\"#d8c1f7\" stroke=\"#000000\" d=\"M670,-253.5C670,-253.5 506,-253.5 506,-253.5 500,-253.5 494,-247.5 494,-241.5 494,-241.5 494,-212.5 494,-212.5 494,-206.5 500,-200.5 506,-200.5 506,-200.5 670,-200.5 670,-200.5 676,-200.5 682,-206.5 682,-212.5 682,-212.5 682,-241.5 682,-241.5 682,-247.5 676,-253.5 670,-253.5\"/>\n",
       "<text text-anchor=\"middle\" x=\"588\" y=\"-238.3\" font-family=\"Helvetica,sans-Serif\" font-size=\"14.00\" fill=\"#000000\">samples = 5.0%</text>\n",
       "<text text-anchor=\"middle\" x=\"588\" y=\"-223.3\" font-family=\"Helvetica,sans-Serif\" font-size=\"14.00\" fill=\"#000000\">value = [0.381, 0.045, 0.574]</text>\n",
       "<text text-anchor=\"middle\" x=\"588\" y=\"-208.3\" font-family=\"Helvetica,sans-Serif\" font-size=\"14.00\" fill=\"#000000\">class = non functional</text>\n",
       "</g>\n",
       "<!-- 6&#45;&gt;7 -->\n",
       "<g id=\"edge7\" class=\"edge\">\n",
       "<title>6&#45;&gt;7</title>\n",
       "<path fill=\"none\" stroke=\"#000000\" d=\"M657.2739,-296.9465C645.8195,-285.3809 633.028,-272.4652 621.5846,-260.9107\"/>\n",
       "<polygon fill=\"#000000\" stroke=\"#000000\" points=\"623.8106,-258.1844 614.287,-253.5422 618.837,-263.1102 623.8106,-258.1844\"/>\n",
       "</g>\n",
       "<!-- 8 -->\n",
       "<g id=\"node9\" class=\"node\">\n",
       "<title>8</title>\n",
       "<path fill=\"#f9e2d1\" stroke=\"#000000\" d=\"M877.5,-261C877.5,-261 712.5,-261 712.5,-261 706.5,-261 700.5,-255 700.5,-249 700.5,-249 700.5,-205 700.5,-205 700.5,-199 706.5,-193 712.5,-193 712.5,-193 877.5,-193 877.5,-193 883.5,-193 889.5,-199 889.5,-205 889.5,-205 889.5,-249 889.5,-249 889.5,-255 883.5,-261 877.5,-261\"/>\n",
       "<text text-anchor=\"middle\" x=\"795\" y=\"-245.8\" font-family=\"Helvetica,sans-Serif\" font-size=\"14.00\" fill=\"#000000\">extraction_type_class &lt;= 5.5</text>\n",
       "<text text-anchor=\"middle\" x=\"795\" y=\"-230.8\" font-family=\"Helvetica,sans-Serif\" font-size=\"14.00\" fill=\"#000000\">samples = 11.2%</text>\n",
       "<text text-anchor=\"middle\" x=\"795\" y=\"-215.8\" font-family=\"Helvetica,sans-Serif\" font-size=\"14.00\" fill=\"#000000\">value = [0.548, 0.042, 0.41]</text>\n",
       "<text text-anchor=\"middle\" x=\"795\" y=\"-200.8\" font-family=\"Helvetica,sans-Serif\" font-size=\"14.00\" fill=\"#000000\">class = functional</text>\n",
       "</g>\n",
       "<!-- 6&#45;&gt;8 -->\n",
       "<g id=\"edge8\" class=\"edge\">\n",
       "<title>6&#45;&gt;8</title>\n",
       "<path fill=\"none\" stroke=\"#000000\" d=\"M725.0535,-296.9465C734.2116,-287.7884 744.2162,-277.7838 753.7212,-268.2788\"/>\n",
       "<polygon fill=\"#000000\" stroke=\"#000000\" points=\"756.2738,-270.676 760.87,-261.13 751.324,-265.7262 756.2738,-270.676\"/>\n",
       "</g>\n",
       "<!-- 9 -->\n",
       "<g id=\"node10\" class=\"node\">\n",
       "<title>9</title>\n",
       "<path fill=\"#f9e4d5\" stroke=\"#000000\" d=\"M773,-149.5C773,-149.5 609,-149.5 609,-149.5 603,-149.5 597,-143.5 597,-137.5 597,-137.5 597,-108.5 597,-108.5 597,-102.5 603,-96.5 609,-96.5 609,-96.5 773,-96.5 773,-96.5 779,-96.5 785,-102.5 785,-108.5 785,-108.5 785,-137.5 785,-137.5 785,-143.5 779,-149.5 773,-149.5\"/>\n",
       "<text text-anchor=\"middle\" x=\"691\" y=\"-134.3\" font-family=\"Helvetica,sans-Serif\" font-size=\"14.00\" fill=\"#000000\">samples = 10.3%</text>\n",
       "<text text-anchor=\"middle\" x=\"691\" y=\"-119.3\" font-family=\"Helvetica,sans-Serif\" font-size=\"14.00\" fill=\"#000000\">value = [0.541, 0.042, 0.416]</text>\n",
       "<text text-anchor=\"middle\" x=\"691\" y=\"-104.3\" font-family=\"Helvetica,sans-Serif\" font-size=\"14.00\" fill=\"#000000\">class = functional</text>\n",
       "</g>\n",
       "<!-- 8&#45;&gt;9 -->\n",
       "<g id=\"edge9\" class=\"edge\">\n",
       "<title>8&#45;&gt;9</title>\n",
       "<path fill=\"none\" stroke=\"#000000\" d=\"M760.9465,-192.9465C749.3809,-181.3809 736.4652,-168.4652 724.9107,-156.9107\"/>\n",
       "<polygon fill=\"#000000\" stroke=\"#000000\" points=\"727.0881,-154.1384 717.5422,-149.5422 722.1384,-159.0881 727.0881,-154.1384\"/>\n",
       "</g>\n",
       "<!-- 10 -->\n",
       "<g id=\"node11\" class=\"node\">\n",
       "<title>10</title>\n",
       "<path fill=\"#f4cbad\" stroke=\"#000000\" d=\"M980.5,-157C980.5,-157 815.5,-157 815.5,-157 809.5,-157 803.5,-151 803.5,-145 803.5,-145 803.5,-101 803.5,-101 803.5,-95 809.5,-89 815.5,-89 815.5,-89 980.5,-89 980.5,-89 986.5,-89 992.5,-95 992.5,-101 992.5,-101 992.5,-145 992.5,-145 992.5,-151 986.5,-157 980.5,-157\"/>\n",
       "<text text-anchor=\"middle\" x=\"898\" y=\"-141.8\" font-family=\"Helvetica,sans-Serif\" font-size=\"14.00\" fill=\"#000000\">extraction_type_class &lt;= 6.5</text>\n",
       "<text text-anchor=\"middle\" x=\"898\" y=\"-126.8\" font-family=\"Helvetica,sans-Serif\" font-size=\"14.00\" fill=\"#000000\">samples = 0.9%</text>\n",
       "<text text-anchor=\"middle\" x=\"898\" y=\"-111.8\" font-family=\"Helvetica,sans-Serif\" font-size=\"14.00\" fill=\"#000000\">value = [0.614, 0.043, 0.343]</text>\n",
       "<text text-anchor=\"middle\" x=\"898\" y=\"-96.8\" font-family=\"Helvetica,sans-Serif\" font-size=\"14.00\" fill=\"#000000\">class = functional</text>\n",
       "</g>\n",
       "<!-- 8&#45;&gt;10 -->\n",
       "<g id=\"edge10\" class=\"edge\">\n",
       "<title>8&#45;&gt;10</title>\n",
       "<path fill=\"none\" stroke=\"#000000\" d=\"M828.7261,-192.9465C837.7961,-183.7884 847.7045,-173.7838 857.1181,-164.2788\"/>\n",
       "<polygon fill=\"#000000\" stroke=\"#000000\" points=\"859.6481,-166.6981 864.1982,-157.13 854.6745,-161.7723 859.6481,-166.6981\"/>\n",
       "</g>\n",
       "<!-- 11 -->\n",
       "<g id=\"node12\" class=\"node\">\n",
       "<title>11</title>\n",
       "<path fill=\"#f2bf9b\" stroke=\"#000000\" d=\"M877,-53C877,-53 713,-53 713,-53 707,-53 701,-47 701,-41 701,-41 701,-12 701,-12 701,-6 707,0 713,0 713,0 877,0 877,0 883,0 889,-6 889,-12 889,-12 889,-41 889,-41 889,-47 883,-53 877,-53\"/>\n",
       "<text text-anchor=\"middle\" x=\"795\" y=\"-37.8\" font-family=\"Helvetica,sans-Serif\" font-size=\"14.00\" fill=\"#000000\">samples = 0.7%</text>\n",
       "<text text-anchor=\"middle\" x=\"795\" y=\"-22.8\" font-family=\"Helvetica,sans-Serif\" font-size=\"14.00\" fill=\"#000000\">value = [0.657, 0.037, 0.306]</text>\n",
       "<text text-anchor=\"middle\" x=\"795\" y=\"-7.8\" font-family=\"Helvetica,sans-Serif\" font-size=\"14.00\" fill=\"#000000\">class = functional</text>\n",
       "</g>\n",
       "<!-- 10&#45;&gt;11 -->\n",
       "<g id=\"edge11\" class=\"edge\">\n",
       "<title>10&#45;&gt;11</title>\n",
       "<path fill=\"none\" stroke=\"#000000\" d=\"M861.6861,-88.9777C851.7168,-79.6376 840.9138,-69.5163 830.9643,-60.1947\"/>\n",
       "<polygon fill=\"#000000\" stroke=\"#000000\" points=\"833.2408,-57.5314 823.5502,-53.2485 828.4548,-62.6397 833.2408,-57.5314\"/>\n",
       "</g>\n",
       "<!-- 12 -->\n",
       "<g id=\"node13\" class=\"node\">\n",
       "<title>12</title>\n",
       "<path fill=\"#f8f3fd\" stroke=\"#000000\" d=\"M1083,-53C1083,-53 919,-53 919,-53 913,-53 907,-47 907,-41 907,-41 907,-12 907,-12 907,-6 913,0 919,0 919,0 1083,0 1083,0 1089,0 1095,-6 1095,-12 1095,-12 1095,-41 1095,-41 1095,-47 1089,-53 1083,-53\"/>\n",
       "<text text-anchor=\"middle\" x=\"1001\" y=\"-37.8\" font-family=\"Helvetica,sans-Serif\" font-size=\"14.00\" fill=\"#000000\">samples = 0.2%</text>\n",
       "<text text-anchor=\"middle\" x=\"1001\" y=\"-22.8\" font-family=\"Helvetica,sans-Serif\" font-size=\"14.00\" fill=\"#000000\">value = [0.452, 0.065, 0.484]</text>\n",
       "<text text-anchor=\"middle\" x=\"1001\" y=\"-7.8\" font-family=\"Helvetica,sans-Serif\" font-size=\"14.00\" fill=\"#000000\">class = non functional</text>\n",
       "</g>\n",
       "<!-- 10&#45;&gt;12 -->\n",
       "<g id=\"edge12\" class=\"edge\">\n",
       "<title>10&#45;&gt;12</title>\n",
       "<path fill=\"none\" stroke=\"#000000\" d=\"M934.3139,-88.9777C944.2832,-79.6376 955.0862,-69.5163 965.0357,-60.1947\"/>\n",
       "<polygon fill=\"#000000\" stroke=\"#000000\" points=\"967.5452,-62.6397 972.4498,-53.2485 962.7592,-57.5314 967.5452,-62.6397\"/>\n",
       "</g>\n",
       "</g>\n",
       "</svg>\n"
      ],
      "text/plain": [
       "<graphviz.files.Source at 0x7f13bd694410>"
      ]
     },
     "metadata": {},
     "output_type": "display_data"
    }
   ],
   "source": [
    "model = dt.named_steps['decisiontreeclassifier']\n",
    "encoder = dt.named_steps['ordinalencoder']\n",
    "encoded_columns = encoder.transform(X_val[[feature]]).columns\n",
    "\n",
    "dot_data = export_graphviz(model, \n",
    "                           out_file=None, \n",
    "                           max_depth=5, \n",
    "                           feature_names=encoded_columns,\n",
    "                           class_names=model.classes_, \n",
    "                           impurity=False, \n",
    "                           filled=True, \n",
    "                           proportion=True, \n",
    "                           rounded=True)   \n",
    "display(graphviz.Source(dot_data))"
   ]
  },
  {
   "cell_type": "markdown",
   "metadata": {
    "colab_type": "text",
    "id": "P4EJi2GvgLVa"
   },
   "source": [
    "# Understand how tree ensembles reduce overfitting compared to a single decision tree with unlimited depth"
   ]
  },
  {
   "cell_type": "markdown",
   "metadata": {
    "colab_type": "text",
    "id": "dHBLcZKFJq5m"
   },
   "source": [
    "## Overview"
   ]
  },
  {
   "cell_type": "markdown",
   "metadata": {
    "colab_type": "text",
    "id": "0nNABF3HgLVg"
   },
   "source": [
    "### What's \"random\" about random forests?\n",
    "1. Each tree trains on a random bootstrap sample of the data. (In scikit-learn, for `RandomForestRegressor` and `RandomForestClassifier`, the `bootstrap` parameter's default is `True`.) This type of ensembling is called Bagging. (Bootstrap AGGregatING.)\n",
    "2. Each split considers a random subset of the features. (In scikit-learn, when the `max_features` parameter is not `None`.) \n",
    "\n",
    "For extra randomness, you can try [\"extremely randomized trees\"](https://scikit-learn.org/stable/modules/ensemble.html#extremely-randomized-trees)!\n",
    "\n",
    ">In extremely randomized trees (see [ExtraTreesClassifier](https://scikit-learn.org/stable/modules/generated/sklearn.ensemble.ExtraTreesClassifier.html) and [ExtraTreesRegressor](https://scikit-learn.org/stable/modules/generated/sklearn.ensemble.ExtraTreesRegressor.html) classes), randomness goes one step further in the way splits are computed. As in random forests, a random subset of candidate features is used, but instead of looking for the most discriminative thresholds, thresholds are drawn at random for each candidate feature and the best of these randomly-generated thresholds is picked as the splitting rule. This usually allows to reduce the variance of the model a bit more, at the expense of a slightly greater increase in bias"
   ]
  },
  {
   "cell_type": "markdown",
   "metadata": {
    "colab_type": "text",
    "id": "R57mVYn1Jq5n"
   },
   "source": [
    "## Follow Along"
   ]
  },
  {
   "cell_type": "markdown",
   "metadata": {
    "colab_type": "text",
    "id": "pUYP619CgLVb"
   },
   "source": [
    "### Example: [predicting golf putts](https://statmodeling.stat.columbia.edu/2008/12/04/the_golf_puttin/)\n",
    "(1 feature, non-linear, regression)"
   ]
  },
  {
   "cell_type": "code",
   "execution_count": 68,
   "metadata": {
    "colab": {},
    "colab_type": "code",
    "id": "b4640ukxgLVc"
   },
   "outputs": [],
   "source": [
    "putts = pd.DataFrame(\n",
    "    columns=['distance', 'tries', 'successes'], \n",
    "    data = [[2, 1443, 1346],\n",
    "            [3, 694, 577],\n",
    "            [4, 455, 337],\n",
    "            [5, 353, 208],\n",
    "            [6, 272, 149],\n",
    "            [7, 256, 136],\n",
    "            [8, 240, 111],\n",
    "            [9, 217, 69],\n",
    "            [10, 200, 67],\n",
    "            [11, 237, 75],\n",
    "            [12, 202, 52],\n",
    "            [13, 192, 46],\n",
    "            [14, 174, 54],\n",
    "            [15, 167, 28],\n",
    "            [16, 201, 27],\n",
    "            [17, 195, 31],\n",
    "            [18, 191, 33],\n",
    "            [19, 147, 20],\n",
    "            [20, 152, 24]]\n",
    ")\n",
    "\n",
    "putts['rate of success'] = putts['successes'] / putts['tries']\n",
    "putts_X = putts[['distance']]\n",
    "putts_y = putts['rate of success']"
   ]
  },
  {
   "cell_type": "code",
   "execution_count": 69,
   "metadata": {
    "colab": {},
    "colab_type": "code",
    "id": "T0IpCcKggLVd"
   },
   "outputs": [
    {
     "data": {
      "application/vnd.jupyter.widget-view+json": {
       "model_id": "ffe64a1ee3c04475aefdd450c7ee5fa3",
       "version_major": 2,
       "version_minor": 0
      },
      "text/plain": [
       "interactive(children=(IntSlider(value=1, description='max_depth', max=6, min=1), IntSlider(value=10, descripti…"
      ]
     },
     "metadata": {},
     "output_type": "display_data"
    }
   ],
   "source": [
    "%matplotlib inline\n",
    "import matplotlib.pyplot as plt\n",
    "from ipywidgets import interact\n",
    "from sklearn.ensemble import RandomForestRegressor\n",
    "from sklearn.tree import DecisionTreeRegressor\n",
    "\n",
    "def putt_trees(max_depth=1, n_estimators=1):\n",
    "    models = [DecisionTreeRegressor(max_depth=max_depth), \n",
    "              RandomForestRegressor(max_depth=max_depth, n_estimators=n_estimators)]\n",
    "    \n",
    "    for model in models:\n",
    "        name = model.__class__.__name__\n",
    "        model.fit(putts_X, putts_y)\n",
    "        ax = putts.plot('distance', 'rate of success', kind='scatter', title=name)\n",
    "        ax.step(putts_X, model.predict(putts_X), where='mid')\n",
    "        plt.show()\n",
    "        \n",
    "interact(putt_trees, max_depth=(1,6,1), n_estimators=(10,40,10));"
   ]
  },
  {
   "cell_type": "markdown",
   "metadata": {
    "colab_type": "text",
    "id": "_KgZK9_9gLVh"
   },
   "source": [
    "### Bagging demo, with golf putts data\n",
    "https://pandas.pydata.org/pandas-docs/stable/reference/api/pandas.DataFrame.sample.html"
   ]
  },
  {
   "cell_type": "code",
   "execution_count": 70,
   "metadata": {
    "colab": {},
    "colab_type": "code",
    "id": "vA9mrSTNgLVi"
   },
   "outputs": [
    {
     "data": {
      "application/vnd.jupyter.widget-view+json": {
       "model_id": "1d4defd0968c41a993c3a19fda0f4125",
       "version_major": 2,
       "version_minor": 0
      },
      "text/plain": [
       "interactive(children=(IntSlider(value=1, description='max_depth', max=6, min=1), IntSlider(value=2, descriptio…"
      ]
     },
     "metadata": {},
     "output_type": "display_data"
    }
   ],
   "source": [
    "# Do-it-yourself Bagging Ensemble of Decision Trees (like a Random Forest)\n",
    "def diy_bagging(max_depth=1, n_estimators=1):\n",
    "    y_preds = []\n",
    "    for i in range(n_estimators):\n",
    "        title = f'Tree {i+1}'\n",
    "        bootstrap_sample = putts.sample(n=len(putts), replace=True).sort_values(by='distance')\n",
    "        bootstrap_X = bootstrap_sample[['distance']]\n",
    "        bootstrap_y = bootstrap_sample['rate of success']\n",
    "        tree = DecisionTreeRegressor(max_depth=max_depth)\n",
    "        tree.fit(bootstrap_X, bootstrap_y)\n",
    "        y_pred = tree.predict(bootstrap_X)\n",
    "        y_preds.append(y_pred)\n",
    "        ax = bootstrap_sample.plot('distance', 'rate of success', kind='scatter', title=title)\n",
    "        ax.step(bootstrap_X, y_pred, where='mid')\n",
    "        plt.show()\n",
    "        \n",
    "    ensembled = np.vstack(y_preds).mean(axis=0)\n",
    "    title = f'Ensemble of {n_estimators} trees, with max_depth={max_depth}'\n",
    "    ax = putts.plot('distance', 'rate of success', kind='scatter', title=title)\n",
    "    ax.step(putts_X, ensembled, where='mid')\n",
    "    plt.show()\n",
    "    \n",
    "interact(diy_bagging, max_depth=(1,6,1), n_estimators=(2,5,1));"
   ]
  },
  {
   "cell_type": "markdown",
   "metadata": {
    "colab_type": "text",
    "id": "rq4Z_wQ_gLVj"
   },
   "source": [
    "### Go back to Tanzania Waterpumps ..."
   ]
  },
  {
   "cell_type": "markdown",
   "metadata": {
    "colab_type": "text",
    "id": "FoSE9iT6YXQz"
   },
   "source": [
    "#### Helper function to visualize predicted probabilities\n",
    "\n"
   ]
  },
  {
   "cell_type": "code",
   "execution_count": 71,
   "metadata": {
    "colab": {},
    "colab_type": "code",
    "id": "HzIAjGpJgLVj"
   },
   "outputs": [],
   "source": [
    "import itertools\n",
    "import seaborn as sns\n",
    "\n",
    "def pred_heatmap(model, X, features, class_index=-1, title='', num=100):\n",
    "    \"\"\"\n",
    "    Visualize predicted probabilities, for classifier fit on 2 numeric features\n",
    "    \n",
    "    Parameters\n",
    "    ----------\n",
    "    model : scikit-learn classifier, already fit\n",
    "    X : pandas dataframe, which was used to fit model\n",
    "    features : list of strings, column names of the 2 numeric features\n",
    "    class_index : integer, index of class label\n",
    "    title : string, title of plot\n",
    "    num : int, number of grid points for each feature\n",
    "    \n",
    "    Returns\n",
    "    -------\n",
    "    y_pred_proba : numpy array, predicted probabilities for class_index\n",
    "    \"\"\"\n",
    "    feature1, feature2 = features\n",
    "    min1, max1 = X[feature1].min(), X[feature1].max()\n",
    "    min2, max2 = X[feature2].min(), X[feature2].max()\n",
    "    x1 = np.linspace(min1, max1, num)\n",
    "    x2 = np.linspace(max2, min2, num)\n",
    "    combos = list(itertools.product(x1, x2))\n",
    "    y_pred_proba = model.predict_proba(combos)[:, class_index]\n",
    "    pred_grid = y_pred_proba.reshape(num, num).T\n",
    "    table = pd.DataFrame(pred_grid, columns=x1, index=x2)\n",
    "    sns.heatmap(table, vmin=0, vmax=1)\n",
    "    plt.xticks([])\n",
    "    plt.yticks([])\n",
    "    plt.xlabel(feature1)\n",
    "    plt.ylabel(feature2)\n",
    "    plt.title(title)\n",
    "    plt.show()\n",
    "    return y_pred_proba\n"
   ]
  },
  {
   "cell_type": "markdown",
   "metadata": {
    "colab_type": "text",
    "id": "DiRfPqHjgLVl"
   },
   "source": [
    "### Compare Decision Tree, Random Forest, Logistic Regression"
   ]
  },
  {
   "cell_type": "code",
   "execution_count": 72,
   "metadata": {
    "colab": {},
    "colab_type": "code",
    "id": "HKkMLXhMgLVl"
   },
   "outputs": [
    {
     "data": {
      "application/vnd.jupyter.widget-view+json": {
       "model_id": "41f8c1212b9f457ba87364436f94f887",
       "version_major": 2,
       "version_minor": 0
      },
      "text/plain": [
       "interactive(children=(IntSlider(value=1, description='max_depth', max=6, min=1), IntSlider(value=10, descripti…"
      ]
     },
     "metadata": {},
     "output_type": "display_data"
    }
   ],
   "source": [
    "# Instructions\n",
    "# 1. Choose two features\n",
    "# 2. Run this code cell\n",
    "# 3. Interact with the widget sliders\n",
    "feature1 = 'longitude'\n",
    "feature2 = 'quantity'\n",
    "\n",
    "from sklearn.linear_model import LogisticRegression\n",
    "from sklearn.tree import DecisionTreeClassifier\n",
    "\n",
    "def get_X_y(df, feature1, feature2, target):\n",
    "    features = [feature1, feature2]\n",
    "    X = df[features]\n",
    "    y = df[target]\n",
    "    X = X.fillna(X.median())\n",
    "    X = ce.OrdinalEncoder().fit_transform(X)\n",
    "    return X, y\n",
    "\n",
    "def compare_models(max_depth=1, n_estimators=1):\n",
    "    models = [DecisionTreeClassifier(max_depth=max_depth), \n",
    "              RandomForestClassifier(max_depth=max_depth, n_estimators=n_estimators), \n",
    "              LogisticRegression(solver='lbfgs', multi_class='auto')]\n",
    "    \n",
    "    for model in models:\n",
    "        name = model.__class__.__name__\n",
    "        model.fit(X, y)\n",
    "        pred_heatmap(model, X, [feature1, feature2], class_index=0, title=name)\n",
    "\n",
    "X, y = get_X_y(train, feature1, feature2, target='status_group')\n",
    "interact(compare_models, max_depth=(1,6,1), n_estimators=(10,40,10));"
   ]
  },
  {
   "cell_type": "markdown",
   "metadata": {
    "colab_type": "text",
    "id": "hOQqjLEDgLVn"
   },
   "source": [
    "### Bagging"
   ]
  },
  {
   "cell_type": "code",
   "execution_count": 73,
   "metadata": {
    "colab": {},
    "colab_type": "code",
    "id": "Hm4aPgs2gLVn"
   },
   "outputs": [
    {
     "data": {
      "application/vnd.jupyter.widget-view+json": {
       "model_id": "7155c037386e48d0ab69da9bf3381360",
       "version_major": 2,
       "version_minor": 0
      },
      "text/plain": [
       "interactive(children=(IntSlider(value=1, description='max_depth', max=6, min=1), IntSlider(value=2, descriptio…"
      ]
     },
     "metadata": {},
     "output_type": "display_data"
    }
   ],
   "source": [
    "# Do-it-yourself Bagging Ensemble of Decision Trees (like a Random Forest)\n",
    "\n",
    "# Instructions\n",
    "# 1. Choose two features\n",
    "# 2. Run this code cell\n",
    "# 3. Interact with the widget sliders\n",
    "\n",
    "feature1 = 'longitude'\n",
    "feature2 = 'latitude'\n",
    "\n",
    "def waterpumps_bagging(max_depth=1, n_estimators=1):\n",
    "    predicteds = []\n",
    "    for i in range(n_estimators):\n",
    "        title = f'Tree {i+1}'\n",
    "        bootstrap_sample = train.sample(n=len(train), replace=True)\n",
    "        X, y = get_X_y(bootstrap_sample, feature1, feature2, target='status_group')\n",
    "        tree = DecisionTreeClassifier(max_depth=max_depth)\n",
    "        tree.fit(X, y)\n",
    "        predicted = pred_heatmap(tree, X, [feature1, feature2], class_index=0, title=title)\n",
    "        predicteds.append(predicted)\n",
    "    \n",
    "    ensembled = np.vstack(predicteds).mean(axis=0)\n",
    "    title = f'Ensemble of {n_estimators} trees, with max_depth={max_depth}'\n",
    "    sns.heatmap(ensembled.reshape(100, 100).T, vmin=0, vmax=1)\n",
    "    plt.title(title)\n",
    "    plt.xlabel(feature1)\n",
    "    plt.ylabel(feature2)\n",
    "    plt.xticks([])\n",
    "    plt.yticks([])\n",
    "    plt.show()\n",
    "        \n",
    "interact(waterpumps_bagging, max_depth=(1,6,1), n_estimators=(2,5,1));"
   ]
  },
  {
   "cell_type": "markdown",
   "metadata": {
    "colab_type": "text",
    "id": "wYoSBi15akWP"
   },
   "source": [
    "# Review\n",
    "\n",
    "#### Try Tree Ensembles when you do machine learning with labeled, tabular data\n",
    "- \"Tree Ensembles\" means Random Forest or Gradient Boosting models. \n",
    "- [Tree Ensembles often have the best predictive accuracy](https://arxiv.org/abs/1708.05070) with labeled, tabular data.\n",
    "- Why? Because trees can fit non-linear, non-[monotonic](https://en.wikipedia.org/wiki/Monotonic_function) relationships, and [interactions](https://christophm.github.io/interpretable-ml-book/interaction.html) between features.\n",
    "- A single decision tree, grown to unlimited depth, will [overfit](http://www.r2d3.us/visual-intro-to-machine-learning-part-1/). We solve this problem by ensembling trees, with bagging (Random Forest) or boosting (Gradient Boosting).\n",
    "- Random Forest's advantage: may be less sensitive to hyperparameters. Gradient Boosting's advantage: may get better predictive accuracy.\n",
    "\n",
    "#### One-hot encoding isn’t the only way, and may not be the best way, of categorical encoding for tree ensembles.\n",
    "- For example, tree ensembles can work with arbitrary \"ordinal\" encoding! (Randomly assigning an integer to each category.) Compared to one-hot encoding, the dimensionality will be lower, and the predictive accuracy may be just as good or even better.\n"
   ]
  }
 ],
 "metadata": {
  "colab": {
   "name": "Unit 2 - Sprint 2 - Module 2 - LESSON.ipynb",
   "provenance": []
  },
  "kernelspec": {
   "display_name": "Python 3",
   "language": "python",
   "name": "python3"
  },
  "language_info": {
   "codemirror_mode": {
    "name": "ipython",
    "version": 3
   },
   "file_extension": ".py",
   "mimetype": "text/x-python",
   "name": "python",
   "nbconvert_exporter": "python",
   "pygments_lexer": "ipython3",
   "version": "3.7.6"
  }
 },
 "nbformat": 4,
 "nbformat_minor": 4
}
