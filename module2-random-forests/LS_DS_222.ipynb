{
  "nbformat": 4,
  "nbformat_minor": 0,
  "metadata": {
    "kernelspec": {
      "display_name": "Python 3",
      "language": "python",
      "name": "python3"
    },
    "language_info": {
      "codemirror_mode": {
        "name": "ipython",
        "version": 3
      },
      "file_extension": ".py",
      "mimetype": "text/x-python",
      "name": "python",
      "nbconvert_exporter": "python",
      "pygments_lexer": "ipython3",
      "version": "3.7.3"
    },
    "colab": {
      "name": "LS_DS_222.ipynb",
      "provenance": [],
      "collapsed_sections": [],
      "include_colab_link": true
    },
    "widgets": {
      "application/vnd.jupyter.widget-state+json": {
        "49dc8b5c5f494d4f9b086c6699377550": {
          "model_module": "@jupyter-widgets/controls",
          "model_name": "VBoxModel",
          "state": {
            "_view_name": "VBoxView",
            "_dom_classes": [
              "widget-interact"
            ],
            "_model_name": "VBoxModel",
            "_view_module": "@jupyter-widgets/controls",
            "_model_module_version": "1.5.0",
            "_view_count": null,
            "_view_module_version": "1.5.0",
            "box_style": "",
            "layout": "IPY_MODEL_563f35caa24b482fac2f1d7ddcf993f4",
            "_model_module": "@jupyter-widgets/controls",
            "children": [
              "IPY_MODEL_3f589c5c04d640d7bcc8f3c78429f119",
              "IPY_MODEL_dfd3be0a5093472f8fb59c75e0e4d218",
              "IPY_MODEL_416cb727dfce429c909cde4080b32a81"
            ]
          }
        },
        "563f35caa24b482fac2f1d7ddcf993f4": {
          "model_module": "@jupyter-widgets/base",
          "model_name": "LayoutModel",
          "state": {
            "_view_name": "LayoutView",
            "grid_template_rows": null,
            "right": null,
            "justify_content": null,
            "_view_module": "@jupyter-widgets/base",
            "overflow": null,
            "_model_module_version": "1.2.0",
            "_view_count": null,
            "flex_flow": null,
            "width": null,
            "min_width": null,
            "border": null,
            "align_items": null,
            "bottom": null,
            "_model_module": "@jupyter-widgets/base",
            "top": null,
            "grid_column": null,
            "overflow_y": null,
            "overflow_x": null,
            "grid_auto_flow": null,
            "grid_area": null,
            "grid_template_columns": null,
            "flex": null,
            "_model_name": "LayoutModel",
            "justify_items": null,
            "grid_row": null,
            "max_height": null,
            "align_content": null,
            "visibility": null,
            "align_self": null,
            "height": null,
            "min_height": null,
            "padding": null,
            "grid_auto_rows": null,
            "grid_gap": null,
            "max_width": null,
            "order": null,
            "_view_module_version": "1.2.0",
            "grid_template_areas": null,
            "object_position": null,
            "object_fit": null,
            "grid_auto_columns": null,
            "margin": null,
            "display": null,
            "left": null
          }
        },
        "3f589c5c04d640d7bcc8f3c78429f119": {
          "model_module": "@jupyter-widgets/controls",
          "model_name": "IntSliderModel",
          "state": {
            "_view_name": "IntSliderView",
            "style": "IPY_MODEL_fa7e89c63f0241b99f23412614387abf",
            "_dom_classes": [],
            "description": "max_depth",
            "step": 1,
            "_model_name": "IntSliderModel",
            "orientation": "horizontal",
            "max": 6,
            "_view_module": "@jupyter-widgets/controls",
            "_model_module_version": "1.5.0",
            "value": 1,
            "_view_count": null,
            "disabled": false,
            "_view_module_version": "1.5.0",
            "min": 1,
            "continuous_update": true,
            "readout_format": "d",
            "description_tooltip": null,
            "readout": true,
            "_model_module": "@jupyter-widgets/controls",
            "layout": "IPY_MODEL_05315059bbf341fb99e7d8754628b44d"
          }
        },
        "dfd3be0a5093472f8fb59c75e0e4d218": {
          "model_module": "@jupyter-widgets/controls",
          "model_name": "IntSliderModel",
          "state": {
            "_view_name": "IntSliderView",
            "style": "IPY_MODEL_6c7e5d0da23247d79358766c4c53f59a",
            "_dom_classes": [],
            "description": "n_estimators",
            "step": 10,
            "_model_name": "IntSliderModel",
            "orientation": "horizontal",
            "max": 40,
            "_view_module": "@jupyter-widgets/controls",
            "_model_module_version": "1.5.0",
            "value": 10,
            "_view_count": null,
            "disabled": false,
            "_view_module_version": "1.5.0",
            "min": 10,
            "continuous_update": true,
            "readout_format": "d",
            "description_tooltip": null,
            "readout": true,
            "_model_module": "@jupyter-widgets/controls",
            "layout": "IPY_MODEL_94dcc6a9b284484fb9c00738d285260b"
          }
        },
        "416cb727dfce429c909cde4080b32a81": {
          "model_module": "@jupyter-widgets/output",
          "model_name": "OutputModel",
          "state": {
            "_view_name": "OutputView",
            "msg_id": "",
            "_dom_classes": [],
            "_model_name": "OutputModel",
            "outputs": [
              {
                "output_type": "display_data",
                "metadata": {
                  "tags": [],
                  "needs_background": "light"
                },
                "image/png": "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\n",
                "text/plain": "<Figure size 432x288 with 1 Axes>"
              },
              {
                "output_type": "display_data",
                "metadata": {
                  "tags": [],
                  "needs_background": "light"
                },
                "image/png": "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\n",
                "text/plain": "<Figure size 432x288 with 1 Axes>"
              }
            ],
            "_view_module": "@jupyter-widgets/output",
            "_model_module_version": "1.0.0",
            "_view_count": null,
            "_view_module_version": "1.0.0",
            "layout": "IPY_MODEL_71d72b15b40b4fe2998abd013e65061d",
            "_model_module": "@jupyter-widgets/output"
          }
        },
        "fa7e89c63f0241b99f23412614387abf": {
          "model_module": "@jupyter-widgets/controls",
          "model_name": "SliderStyleModel",
          "state": {
            "_view_name": "StyleView",
            "handle_color": null,
            "_model_name": "SliderStyleModel",
            "description_width": "",
            "_view_module": "@jupyter-widgets/base",
            "_model_module_version": "1.5.0",
            "_view_count": null,
            "_view_module_version": "1.2.0",
            "_model_module": "@jupyter-widgets/controls"
          }
        },
        "05315059bbf341fb99e7d8754628b44d": {
          "model_module": "@jupyter-widgets/base",
          "model_name": "LayoutModel",
          "state": {
            "_view_name": "LayoutView",
            "grid_template_rows": null,
            "right": null,
            "justify_content": null,
            "_view_module": "@jupyter-widgets/base",
            "overflow": null,
            "_model_module_version": "1.2.0",
            "_view_count": null,
            "flex_flow": null,
            "width": null,
            "min_width": null,
            "border": null,
            "align_items": null,
            "bottom": null,
            "_model_module": "@jupyter-widgets/base",
            "top": null,
            "grid_column": null,
            "overflow_y": null,
            "overflow_x": null,
            "grid_auto_flow": null,
            "grid_area": null,
            "grid_template_columns": null,
            "flex": null,
            "_model_name": "LayoutModel",
            "justify_items": null,
            "grid_row": null,
            "max_height": null,
            "align_content": null,
            "visibility": null,
            "align_self": null,
            "height": null,
            "min_height": null,
            "padding": null,
            "grid_auto_rows": null,
            "grid_gap": null,
            "max_width": null,
            "order": null,
            "_view_module_version": "1.2.0",
            "grid_template_areas": null,
            "object_position": null,
            "object_fit": null,
            "grid_auto_columns": null,
            "margin": null,
            "display": null,
            "left": null
          }
        },
        "6c7e5d0da23247d79358766c4c53f59a": {
          "model_module": "@jupyter-widgets/controls",
          "model_name": "SliderStyleModel",
          "state": {
            "_view_name": "StyleView",
            "handle_color": null,
            "_model_name": "SliderStyleModel",
            "description_width": "",
            "_view_module": "@jupyter-widgets/base",
            "_model_module_version": "1.5.0",
            "_view_count": null,
            "_view_module_version": "1.2.0",
            "_model_module": "@jupyter-widgets/controls"
          }
        },
        "94dcc6a9b284484fb9c00738d285260b": {
          "model_module": "@jupyter-widgets/base",
          "model_name": "LayoutModel",
          "state": {
            "_view_name": "LayoutView",
            "grid_template_rows": null,
            "right": null,
            "justify_content": null,
            "_view_module": "@jupyter-widgets/base",
            "overflow": null,
            "_model_module_version": "1.2.0",
            "_view_count": null,
            "flex_flow": null,
            "width": null,
            "min_width": null,
            "border": null,
            "align_items": null,
            "bottom": null,
            "_model_module": "@jupyter-widgets/base",
            "top": null,
            "grid_column": null,
            "overflow_y": null,
            "overflow_x": null,
            "grid_auto_flow": null,
            "grid_area": null,
            "grid_template_columns": null,
            "flex": null,
            "_model_name": "LayoutModel",
            "justify_items": null,
            "grid_row": null,
            "max_height": null,
            "align_content": null,
            "visibility": null,
            "align_self": null,
            "height": null,
            "min_height": null,
            "padding": null,
            "grid_auto_rows": null,
            "grid_gap": null,
            "max_width": null,
            "order": null,
            "_view_module_version": "1.2.0",
            "grid_template_areas": null,
            "object_position": null,
            "object_fit": null,
            "grid_auto_columns": null,
            "margin": null,
            "display": null,
            "left": null
          }
        },
        "71d72b15b40b4fe2998abd013e65061d": {
          "model_module": "@jupyter-widgets/base",
          "model_name": "LayoutModel",
          "state": {
            "_view_name": "LayoutView",
            "grid_template_rows": null,
            "right": null,
            "justify_content": null,
            "_view_module": "@jupyter-widgets/base",
            "overflow": null,
            "_model_module_version": "1.2.0",
            "_view_count": null,
            "flex_flow": null,
            "width": null,
            "min_width": null,
            "border": null,
            "align_items": null,
            "bottom": null,
            "_model_module": "@jupyter-widgets/base",
            "top": null,
            "grid_column": null,
            "overflow_y": null,
            "overflow_x": null,
            "grid_auto_flow": null,
            "grid_area": null,
            "grid_template_columns": null,
            "flex": null,
            "_model_name": "LayoutModel",
            "justify_items": null,
            "grid_row": null,
            "max_height": null,
            "align_content": null,
            "visibility": null,
            "align_self": null,
            "height": null,
            "min_height": null,
            "padding": null,
            "grid_auto_rows": null,
            "grid_gap": null,
            "max_width": null,
            "order": null,
            "_view_module_version": "1.2.0",
            "grid_template_areas": null,
            "object_position": null,
            "object_fit": null,
            "grid_auto_columns": null,
            "margin": null,
            "display": null,
            "left": null
          }
        },
        "757b1289f4b746f0a41596e4b181ef64": {
          "model_module": "@jupyter-widgets/controls",
          "model_name": "VBoxModel",
          "state": {
            "_view_name": "VBoxView",
            "_dom_classes": [
              "widget-interact"
            ],
            "_model_name": "VBoxModel",
            "_view_module": "@jupyter-widgets/controls",
            "_model_module_version": "1.5.0",
            "_view_count": null,
            "_view_module_version": "1.5.0",
            "box_style": "",
            "layout": "IPY_MODEL_ea8abfedf684425eae8c29cbe79780bd",
            "_model_module": "@jupyter-widgets/controls",
            "children": [
              "IPY_MODEL_5bc9f5521b0a43149011d4aad1ce1f69",
              "IPY_MODEL_7511482527b945f0bde5dee62a3e46b4",
              "IPY_MODEL_9bc07e5ddff5475b826c8e3777dbb480"
            ]
          }
        },
        "ea8abfedf684425eae8c29cbe79780bd": {
          "model_module": "@jupyter-widgets/base",
          "model_name": "LayoutModel",
          "state": {
            "_view_name": "LayoutView",
            "grid_template_rows": null,
            "right": null,
            "justify_content": null,
            "_view_module": "@jupyter-widgets/base",
            "overflow": null,
            "_model_module_version": "1.2.0",
            "_view_count": null,
            "flex_flow": null,
            "width": null,
            "min_width": null,
            "border": null,
            "align_items": null,
            "bottom": null,
            "_model_module": "@jupyter-widgets/base",
            "top": null,
            "grid_column": null,
            "overflow_y": null,
            "overflow_x": null,
            "grid_auto_flow": null,
            "grid_area": null,
            "grid_template_columns": null,
            "flex": null,
            "_model_name": "LayoutModel",
            "justify_items": null,
            "grid_row": null,
            "max_height": null,
            "align_content": null,
            "visibility": null,
            "align_self": null,
            "height": null,
            "min_height": null,
            "padding": null,
            "grid_auto_rows": null,
            "grid_gap": null,
            "max_width": null,
            "order": null,
            "_view_module_version": "1.2.0",
            "grid_template_areas": null,
            "object_position": null,
            "object_fit": null,
            "grid_auto_columns": null,
            "margin": null,
            "display": null,
            "left": null
          }
        },
        "5bc9f5521b0a43149011d4aad1ce1f69": {
          "model_module": "@jupyter-widgets/controls",
          "model_name": "IntSliderModel",
          "state": {
            "_view_name": "IntSliderView",
            "style": "IPY_MODEL_b25247e5416142ccb794a247211e7c18",
            "_dom_classes": [],
            "description": "max_depth",
            "step": 1,
            "_model_name": "IntSliderModel",
            "orientation": "horizontal",
            "max": 6,
            "_view_module": "@jupyter-widgets/controls",
            "_model_module_version": "1.5.0",
            "value": 1,
            "_view_count": null,
            "disabled": false,
            "_view_module_version": "1.5.0",
            "min": 1,
            "continuous_update": true,
            "readout_format": "d",
            "description_tooltip": null,
            "readout": true,
            "_model_module": "@jupyter-widgets/controls",
            "layout": "IPY_MODEL_555c47f71f6f4973b04ce0e9efac2cb6"
          }
        },
        "7511482527b945f0bde5dee62a3e46b4": {
          "model_module": "@jupyter-widgets/controls",
          "model_name": "IntSliderModel",
          "state": {
            "_view_name": "IntSliderView",
            "style": "IPY_MODEL_1679c1af668745ab808c8a08449bd098",
            "_dom_classes": [],
            "description": "n_estimators",
            "step": 1,
            "_model_name": "IntSliderModel",
            "orientation": "horizontal",
            "max": 5,
            "_view_module": "@jupyter-widgets/controls",
            "_model_module_version": "1.5.0",
            "value": 2,
            "_view_count": null,
            "disabled": false,
            "_view_module_version": "1.5.0",
            "min": 2,
            "continuous_update": true,
            "readout_format": "d",
            "description_tooltip": null,
            "readout": true,
            "_model_module": "@jupyter-widgets/controls",
            "layout": "IPY_MODEL_efe9a0cefc404a38864171fd32cf7449"
          }
        },
        "9bc07e5ddff5475b826c8e3777dbb480": {
          "model_module": "@jupyter-widgets/output",
          "model_name": "OutputModel",
          "state": {
            "_view_name": "OutputView",
            "msg_id": "",
            "_dom_classes": [],
            "_model_name": "OutputModel",
            "outputs": [
              {
                "output_type": "display_data",
                "metadata": {
                  "tags": [],
                  "needs_background": "light"
                },
                "image/png": "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\n",
                "text/plain": "<Figure size 432x288 with 1 Axes>"
              },
              {
                "output_type": "display_data",
                "metadata": {
                  "tags": [],
                  "needs_background": "light"
                },
                "image/png": "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\n",
                "text/plain": "<Figure size 432x288 with 1 Axes>"
              },
              {
                "output_type": "display_data",
                "metadata": {
                  "tags": [],
                  "needs_background": "light"
                },
                "image/png": "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\n",
                "text/plain": "<Figure size 432x288 with 1 Axes>"
              }
            ],
            "_view_module": "@jupyter-widgets/output",
            "_model_module_version": "1.0.0",
            "_view_count": null,
            "_view_module_version": "1.0.0",
            "layout": "IPY_MODEL_b3d4208b96c9431a9b868782909c9267",
            "_model_module": "@jupyter-widgets/output"
          }
        },
        "b25247e5416142ccb794a247211e7c18": {
          "model_module": "@jupyter-widgets/controls",
          "model_name": "SliderStyleModel",
          "state": {
            "_view_name": "StyleView",
            "handle_color": null,
            "_model_name": "SliderStyleModel",
            "description_width": "",
            "_view_module": "@jupyter-widgets/base",
            "_model_module_version": "1.5.0",
            "_view_count": null,
            "_view_module_version": "1.2.0",
            "_model_module": "@jupyter-widgets/controls"
          }
        },
        "555c47f71f6f4973b04ce0e9efac2cb6": {
          "model_module": "@jupyter-widgets/base",
          "model_name": "LayoutModel",
          "state": {
            "_view_name": "LayoutView",
            "grid_template_rows": null,
            "right": null,
            "justify_content": null,
            "_view_module": "@jupyter-widgets/base",
            "overflow": null,
            "_model_module_version": "1.2.0",
            "_view_count": null,
            "flex_flow": null,
            "width": null,
            "min_width": null,
            "border": null,
            "align_items": null,
            "bottom": null,
            "_model_module": "@jupyter-widgets/base",
            "top": null,
            "grid_column": null,
            "overflow_y": null,
            "overflow_x": null,
            "grid_auto_flow": null,
            "grid_area": null,
            "grid_template_columns": null,
            "flex": null,
            "_model_name": "LayoutModel",
            "justify_items": null,
            "grid_row": null,
            "max_height": null,
            "align_content": null,
            "visibility": null,
            "align_self": null,
            "height": null,
            "min_height": null,
            "padding": null,
            "grid_auto_rows": null,
            "grid_gap": null,
            "max_width": null,
            "order": null,
            "_view_module_version": "1.2.0",
            "grid_template_areas": null,
            "object_position": null,
            "object_fit": null,
            "grid_auto_columns": null,
            "margin": null,
            "display": null,
            "left": null
          }
        },
        "1679c1af668745ab808c8a08449bd098": {
          "model_module": "@jupyter-widgets/controls",
          "model_name": "SliderStyleModel",
          "state": {
            "_view_name": "StyleView",
            "handle_color": null,
            "_model_name": "SliderStyleModel",
            "description_width": "",
            "_view_module": "@jupyter-widgets/base",
            "_model_module_version": "1.5.0",
            "_view_count": null,
            "_view_module_version": "1.2.0",
            "_model_module": "@jupyter-widgets/controls"
          }
        },
        "efe9a0cefc404a38864171fd32cf7449": {
          "model_module": "@jupyter-widgets/base",
          "model_name": "LayoutModel",
          "state": {
            "_view_name": "LayoutView",
            "grid_template_rows": null,
            "right": null,
            "justify_content": null,
            "_view_module": "@jupyter-widgets/base",
            "overflow": null,
            "_model_module_version": "1.2.0",
            "_view_count": null,
            "flex_flow": null,
            "width": null,
            "min_width": null,
            "border": null,
            "align_items": null,
            "bottom": null,
            "_model_module": "@jupyter-widgets/base",
            "top": null,
            "grid_column": null,
            "overflow_y": null,
            "overflow_x": null,
            "grid_auto_flow": null,
            "grid_area": null,
            "grid_template_columns": null,
            "flex": null,
            "_model_name": "LayoutModel",
            "justify_items": null,
            "grid_row": null,
            "max_height": null,
            "align_content": null,
            "visibility": null,
            "align_self": null,
            "height": null,
            "min_height": null,
            "padding": null,
            "grid_auto_rows": null,
            "grid_gap": null,
            "max_width": null,
            "order": null,
            "_view_module_version": "1.2.0",
            "grid_template_areas": null,
            "object_position": null,
            "object_fit": null,
            "grid_auto_columns": null,
            "margin": null,
            "display": null,
            "left": null
          }
        },
        "b3d4208b96c9431a9b868782909c9267": {
          "model_module": "@jupyter-widgets/base",
          "model_name": "LayoutModel",
          "state": {
            "_view_name": "LayoutView",
            "grid_template_rows": null,
            "right": null,
            "justify_content": null,
            "_view_module": "@jupyter-widgets/base",
            "overflow": null,
            "_model_module_version": "1.2.0",
            "_view_count": null,
            "flex_flow": null,
            "width": null,
            "min_width": null,
            "border": null,
            "align_items": null,
            "bottom": null,
            "_model_module": "@jupyter-widgets/base",
            "top": null,
            "grid_column": null,
            "overflow_y": null,
            "overflow_x": null,
            "grid_auto_flow": null,
            "grid_area": null,
            "grid_template_columns": null,
            "flex": null,
            "_model_name": "LayoutModel",
            "justify_items": null,
            "grid_row": null,
            "max_height": null,
            "align_content": null,
            "visibility": null,
            "align_self": null,
            "height": null,
            "min_height": null,
            "padding": null,
            "grid_auto_rows": null,
            "grid_gap": null,
            "max_width": null,
            "order": null,
            "_view_module_version": "1.2.0",
            "grid_template_areas": null,
            "object_position": null,
            "object_fit": null,
            "grid_auto_columns": null,
            "margin": null,
            "display": null,
            "left": null
          }
        },
        "0e21a167b273446f8e17b4dde1027234": {
          "model_module": "@jupyter-widgets/controls",
          "model_name": "VBoxModel",
          "state": {
            "_view_name": "VBoxView",
            "_dom_classes": [
              "widget-interact"
            ],
            "_model_name": "VBoxModel",
            "_view_module": "@jupyter-widgets/controls",
            "_model_module_version": "1.5.0",
            "_view_count": null,
            "_view_module_version": "1.5.0",
            "box_style": "",
            "layout": "IPY_MODEL_c2f6b795e20d4300aa641763f685279d",
            "_model_module": "@jupyter-widgets/controls",
            "children": [
              "IPY_MODEL_75712010fcaa40b69038db8df2473483",
              "IPY_MODEL_c847081b3f1d4e4292f1722c07dd328e",
              "IPY_MODEL_fcd2d41e84af4186bf12ee76d6e14607"
            ]
          }
        },
        "c2f6b795e20d4300aa641763f685279d": {
          "model_module": "@jupyter-widgets/base",
          "model_name": "LayoutModel",
          "state": {
            "_view_name": "LayoutView",
            "grid_template_rows": null,
            "right": null,
            "justify_content": null,
            "_view_module": "@jupyter-widgets/base",
            "overflow": null,
            "_model_module_version": "1.2.0",
            "_view_count": null,
            "flex_flow": null,
            "width": null,
            "min_width": null,
            "border": null,
            "align_items": null,
            "bottom": null,
            "_model_module": "@jupyter-widgets/base",
            "top": null,
            "grid_column": null,
            "overflow_y": null,
            "overflow_x": null,
            "grid_auto_flow": null,
            "grid_area": null,
            "grid_template_columns": null,
            "flex": null,
            "_model_name": "LayoutModel",
            "justify_items": null,
            "grid_row": null,
            "max_height": null,
            "align_content": null,
            "visibility": null,
            "align_self": null,
            "height": null,
            "min_height": null,
            "padding": null,
            "grid_auto_rows": null,
            "grid_gap": null,
            "max_width": null,
            "order": null,
            "_view_module_version": "1.2.0",
            "grid_template_areas": null,
            "object_position": null,
            "object_fit": null,
            "grid_auto_columns": null,
            "margin": null,
            "display": null,
            "left": null
          }
        },
        "75712010fcaa40b69038db8df2473483": {
          "model_module": "@jupyter-widgets/controls",
          "model_name": "IntSliderModel",
          "state": {
            "_view_name": "IntSliderView",
            "style": "IPY_MODEL_31913348ab31497e9d9fd65207b7396e",
            "_dom_classes": [],
            "description": "max_depth",
            "step": 1,
            "_model_name": "IntSliderModel",
            "orientation": "horizontal",
            "max": 6,
            "_view_module": "@jupyter-widgets/controls",
            "_model_module_version": "1.5.0",
            "value": 1,
            "_view_count": null,
            "disabled": false,
            "_view_module_version": "1.5.0",
            "min": 1,
            "continuous_update": true,
            "readout_format": "d",
            "description_tooltip": null,
            "readout": true,
            "_model_module": "@jupyter-widgets/controls",
            "layout": "IPY_MODEL_15a68cae66104fe18358e5b4b17f592e"
          }
        },
        "c847081b3f1d4e4292f1722c07dd328e": {
          "model_module": "@jupyter-widgets/controls",
          "model_name": "IntSliderModel",
          "state": {
            "_view_name": "IntSliderView",
            "style": "IPY_MODEL_11acb8da339d4b12a0d6228230fd6ea0",
            "_dom_classes": [],
            "description": "n_estimators",
            "step": 10,
            "_model_name": "IntSliderModel",
            "orientation": "horizontal",
            "max": 40,
            "_view_module": "@jupyter-widgets/controls",
            "_model_module_version": "1.5.0",
            "value": 10,
            "_view_count": null,
            "disabled": false,
            "_view_module_version": "1.5.0",
            "min": 10,
            "continuous_update": true,
            "readout_format": "d",
            "description_tooltip": null,
            "readout": true,
            "_model_module": "@jupyter-widgets/controls",
            "layout": "IPY_MODEL_2dc98cffdbfc402980a9d0825a8adeea"
          }
        },
        "fcd2d41e84af4186bf12ee76d6e14607": {
          "model_module": "@jupyter-widgets/output",
          "model_name": "OutputModel",
          "state": {
            "_view_name": "OutputView",
            "msg_id": "",
            "_dom_classes": [],
            "_model_name": "OutputModel",
            "outputs": [
              {
                "output_type": "display_data",
                "metadata": {
                  "tags": [],
                  "needs_background": "light"
                },
                "image/png": "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\n",
                "text/plain": "<Figure size 432x288 with 2 Axes>"
              },
              {
                "output_type": "display_data",
                "metadata": {
                  "tags": [],
                  "needs_background": "light"
                },
                "image/png": "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\n",
                "text/plain": "<Figure size 432x288 with 2 Axes>"
              },
              {
                "output_type": "display_data",
                "metadata": {
                  "tags": [],
                  "needs_background": "light"
                },
                "image/png": "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\n",
                "text/plain": "<Figure size 432x288 with 2 Axes>"
              }
            ],
            "_view_module": "@jupyter-widgets/output",
            "_model_module_version": "1.0.0",
            "_view_count": null,
            "_view_module_version": "1.0.0",
            "layout": "IPY_MODEL_d6b95602919a43888a697e2359b4bac7",
            "_model_module": "@jupyter-widgets/output"
          }
        },
        "31913348ab31497e9d9fd65207b7396e": {
          "model_module": "@jupyter-widgets/controls",
          "model_name": "SliderStyleModel",
          "state": {
            "_view_name": "StyleView",
            "handle_color": null,
            "_model_name": "SliderStyleModel",
            "description_width": "",
            "_view_module": "@jupyter-widgets/base",
            "_model_module_version": "1.5.0",
            "_view_count": null,
            "_view_module_version": "1.2.0",
            "_model_module": "@jupyter-widgets/controls"
          }
        },
        "15a68cae66104fe18358e5b4b17f592e": {
          "model_module": "@jupyter-widgets/base",
          "model_name": "LayoutModel",
          "state": {
            "_view_name": "LayoutView",
            "grid_template_rows": null,
            "right": null,
            "justify_content": null,
            "_view_module": "@jupyter-widgets/base",
            "overflow": null,
            "_model_module_version": "1.2.0",
            "_view_count": null,
            "flex_flow": null,
            "width": null,
            "min_width": null,
            "border": null,
            "align_items": null,
            "bottom": null,
            "_model_module": "@jupyter-widgets/base",
            "top": null,
            "grid_column": null,
            "overflow_y": null,
            "overflow_x": null,
            "grid_auto_flow": null,
            "grid_area": null,
            "grid_template_columns": null,
            "flex": null,
            "_model_name": "LayoutModel",
            "justify_items": null,
            "grid_row": null,
            "max_height": null,
            "align_content": null,
            "visibility": null,
            "align_self": null,
            "height": null,
            "min_height": null,
            "padding": null,
            "grid_auto_rows": null,
            "grid_gap": null,
            "max_width": null,
            "order": null,
            "_view_module_version": "1.2.0",
            "grid_template_areas": null,
            "object_position": null,
            "object_fit": null,
            "grid_auto_columns": null,
            "margin": null,
            "display": null,
            "left": null
          }
        },
        "11acb8da339d4b12a0d6228230fd6ea0": {
          "model_module": "@jupyter-widgets/controls",
          "model_name": "SliderStyleModel",
          "state": {
            "_view_name": "StyleView",
            "handle_color": null,
            "_model_name": "SliderStyleModel",
            "description_width": "",
            "_view_module": "@jupyter-widgets/base",
            "_model_module_version": "1.5.0",
            "_view_count": null,
            "_view_module_version": "1.2.0",
            "_model_module": "@jupyter-widgets/controls"
          }
        },
        "2dc98cffdbfc402980a9d0825a8adeea": {
          "model_module": "@jupyter-widgets/base",
          "model_name": "LayoutModel",
          "state": {
            "_view_name": "LayoutView",
            "grid_template_rows": null,
            "right": null,
            "justify_content": null,
            "_view_module": "@jupyter-widgets/base",
            "overflow": null,
            "_model_module_version": "1.2.0",
            "_view_count": null,
            "flex_flow": null,
            "width": null,
            "min_width": null,
            "border": null,
            "align_items": null,
            "bottom": null,
            "_model_module": "@jupyter-widgets/base",
            "top": null,
            "grid_column": null,
            "overflow_y": null,
            "overflow_x": null,
            "grid_auto_flow": null,
            "grid_area": null,
            "grid_template_columns": null,
            "flex": null,
            "_model_name": "LayoutModel",
            "justify_items": null,
            "grid_row": null,
            "max_height": null,
            "align_content": null,
            "visibility": null,
            "align_self": null,
            "height": null,
            "min_height": null,
            "padding": null,
            "grid_auto_rows": null,
            "grid_gap": null,
            "max_width": null,
            "order": null,
            "_view_module_version": "1.2.0",
            "grid_template_areas": null,
            "object_position": null,
            "object_fit": null,
            "grid_auto_columns": null,
            "margin": null,
            "display": null,
            "left": null
          }
        },
        "d6b95602919a43888a697e2359b4bac7": {
          "model_module": "@jupyter-widgets/base",
          "model_name": "LayoutModel",
          "state": {
            "_view_name": "LayoutView",
            "grid_template_rows": null,
            "right": null,
            "justify_content": null,
            "_view_module": "@jupyter-widgets/base",
            "overflow": null,
            "_model_module_version": "1.2.0",
            "_view_count": null,
            "flex_flow": null,
            "width": null,
            "min_width": null,
            "border": null,
            "align_items": null,
            "bottom": null,
            "_model_module": "@jupyter-widgets/base",
            "top": null,
            "grid_column": null,
            "overflow_y": null,
            "overflow_x": null,
            "grid_auto_flow": null,
            "grid_area": null,
            "grid_template_columns": null,
            "flex": null,
            "_model_name": "LayoutModel",
            "justify_items": null,
            "grid_row": null,
            "max_height": null,
            "align_content": null,
            "visibility": null,
            "align_self": null,
            "height": null,
            "min_height": null,
            "padding": null,
            "grid_auto_rows": null,
            "grid_gap": null,
            "max_width": null,
            "order": null,
            "_view_module_version": "1.2.0",
            "grid_template_areas": null,
            "object_position": null,
            "object_fit": null,
            "grid_auto_columns": null,
            "margin": null,
            "display": null,
            "left": null
          }
        },
        "7bcc71a675a5464c9854501963c610d5": {
          "model_module": "@jupyter-widgets/controls",
          "model_name": "VBoxModel",
          "state": {
            "_view_name": "VBoxView",
            "_dom_classes": [
              "widget-interact"
            ],
            "_model_name": "VBoxModel",
            "_view_module": "@jupyter-widgets/controls",
            "_model_module_version": "1.5.0",
            "_view_count": null,
            "_view_module_version": "1.5.0",
            "box_style": "",
            "layout": "IPY_MODEL_5e9e29abe73344349fd3a46abe43bbe3",
            "_model_module": "@jupyter-widgets/controls",
            "children": [
              "IPY_MODEL_f1812dd540984d00a7c19064eea2481d",
              "IPY_MODEL_8512823f36864df0a55159c4befab806",
              "IPY_MODEL_45a5dbb0947745d59471609969c8831b"
            ]
          }
        },
        "5e9e29abe73344349fd3a46abe43bbe3": {
          "model_module": "@jupyter-widgets/base",
          "model_name": "LayoutModel",
          "state": {
            "_view_name": "LayoutView",
            "grid_template_rows": null,
            "right": null,
            "justify_content": null,
            "_view_module": "@jupyter-widgets/base",
            "overflow": null,
            "_model_module_version": "1.2.0",
            "_view_count": null,
            "flex_flow": null,
            "width": null,
            "min_width": null,
            "border": null,
            "align_items": null,
            "bottom": null,
            "_model_module": "@jupyter-widgets/base",
            "top": null,
            "grid_column": null,
            "overflow_y": null,
            "overflow_x": null,
            "grid_auto_flow": null,
            "grid_area": null,
            "grid_template_columns": null,
            "flex": null,
            "_model_name": "LayoutModel",
            "justify_items": null,
            "grid_row": null,
            "max_height": null,
            "align_content": null,
            "visibility": null,
            "align_self": null,
            "height": null,
            "min_height": null,
            "padding": null,
            "grid_auto_rows": null,
            "grid_gap": null,
            "max_width": null,
            "order": null,
            "_view_module_version": "1.2.0",
            "grid_template_areas": null,
            "object_position": null,
            "object_fit": null,
            "grid_auto_columns": null,
            "margin": null,
            "display": null,
            "left": null
          }
        },
        "f1812dd540984d00a7c19064eea2481d": {
          "model_module": "@jupyter-widgets/controls",
          "model_name": "IntSliderModel",
          "state": {
            "_view_name": "IntSliderView",
            "style": "IPY_MODEL_9a2d15f9c526408db6f442fc00abb4bd",
            "_dom_classes": [],
            "description": "max_depth",
            "step": 1,
            "_model_name": "IntSliderModel",
            "orientation": "horizontal",
            "max": 6,
            "_view_module": "@jupyter-widgets/controls",
            "_model_module_version": "1.5.0",
            "value": 1,
            "_view_count": null,
            "disabled": false,
            "_view_module_version": "1.5.0",
            "min": 1,
            "continuous_update": true,
            "readout_format": "d",
            "description_tooltip": null,
            "readout": true,
            "_model_module": "@jupyter-widgets/controls",
            "layout": "IPY_MODEL_a26d70a5097949868bdcd5e9a79cf3e5"
          }
        },
        "8512823f36864df0a55159c4befab806": {
          "model_module": "@jupyter-widgets/controls",
          "model_name": "IntSliderModel",
          "state": {
            "_view_name": "IntSliderView",
            "style": "IPY_MODEL_7a7259fbb34c4162ac11509a31d3b1a2",
            "_dom_classes": [],
            "description": "n_estimators",
            "step": 1,
            "_model_name": "IntSliderModel",
            "orientation": "horizontal",
            "max": 5,
            "_view_module": "@jupyter-widgets/controls",
            "_model_module_version": "1.5.0",
            "value": 2,
            "_view_count": null,
            "disabled": false,
            "_view_module_version": "1.5.0",
            "min": 2,
            "continuous_update": true,
            "readout_format": "d",
            "description_tooltip": null,
            "readout": true,
            "_model_module": "@jupyter-widgets/controls",
            "layout": "IPY_MODEL_8c01025b7d44498b8f47289f5f45b020"
          }
        },
        "45a5dbb0947745d59471609969c8831b": {
          "model_module": "@jupyter-widgets/output",
          "model_name": "OutputModel",
          "state": {
            "_view_name": "OutputView",
            "msg_id": "",
            "_dom_classes": [],
            "_model_name": "OutputModel",
            "outputs": [
              {
                "output_type": "display_data",
                "metadata": {
                  "tags": [],
                  "needs_background": "light"
                },
                "image/png": "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\n",
                "text/plain": "<Figure size 432x288 with 2 Axes>"
              },
              {
                "output_type": "display_data",
                "metadata": {
                  "tags": [],
                  "needs_background": "light"
                },
                "image/png": "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\n",
                "text/plain": "<Figure size 432x288 with 2 Axes>"
              },
              {
                "output_type": "display_data",
                "metadata": {
                  "tags": [],
                  "needs_background": "light"
                },
                "image/png": "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\n",
                "text/plain": "<Figure size 432x288 with 2 Axes>"
              }
            ],
            "_view_module": "@jupyter-widgets/output",
            "_model_module_version": "1.0.0",
            "_view_count": null,
            "_view_module_version": "1.0.0",
            "layout": "IPY_MODEL_a7f64c22caa34f4193e050b6440ec552",
            "_model_module": "@jupyter-widgets/output"
          }
        },
        "9a2d15f9c526408db6f442fc00abb4bd": {
          "model_module": "@jupyter-widgets/controls",
          "model_name": "SliderStyleModel",
          "state": {
            "_view_name": "StyleView",
            "handle_color": null,
            "_model_name": "SliderStyleModel",
            "description_width": "",
            "_view_module": "@jupyter-widgets/base",
            "_model_module_version": "1.5.0",
            "_view_count": null,
            "_view_module_version": "1.2.0",
            "_model_module": "@jupyter-widgets/controls"
          }
        },
        "a26d70a5097949868bdcd5e9a79cf3e5": {
          "model_module": "@jupyter-widgets/base",
          "model_name": "LayoutModel",
          "state": {
            "_view_name": "LayoutView",
            "grid_template_rows": null,
            "right": null,
            "justify_content": null,
            "_view_module": "@jupyter-widgets/base",
            "overflow": null,
            "_model_module_version": "1.2.0",
            "_view_count": null,
            "flex_flow": null,
            "width": null,
            "min_width": null,
            "border": null,
            "align_items": null,
            "bottom": null,
            "_model_module": "@jupyter-widgets/base",
            "top": null,
            "grid_column": null,
            "overflow_y": null,
            "overflow_x": null,
            "grid_auto_flow": null,
            "grid_area": null,
            "grid_template_columns": null,
            "flex": null,
            "_model_name": "LayoutModel",
            "justify_items": null,
            "grid_row": null,
            "max_height": null,
            "align_content": null,
            "visibility": null,
            "align_self": null,
            "height": null,
            "min_height": null,
            "padding": null,
            "grid_auto_rows": null,
            "grid_gap": null,
            "max_width": null,
            "order": null,
            "_view_module_version": "1.2.0",
            "grid_template_areas": null,
            "object_position": null,
            "object_fit": null,
            "grid_auto_columns": null,
            "margin": null,
            "display": null,
            "left": null
          }
        },
        "7a7259fbb34c4162ac11509a31d3b1a2": {
          "model_module": "@jupyter-widgets/controls",
          "model_name": "SliderStyleModel",
          "state": {
            "_view_name": "StyleView",
            "handle_color": null,
            "_model_name": "SliderStyleModel",
            "description_width": "",
            "_view_module": "@jupyter-widgets/base",
            "_model_module_version": "1.5.0",
            "_view_count": null,
            "_view_module_version": "1.2.0",
            "_model_module": "@jupyter-widgets/controls"
          }
        },
        "8c01025b7d44498b8f47289f5f45b020": {
          "model_module": "@jupyter-widgets/base",
          "model_name": "LayoutModel",
          "state": {
            "_view_name": "LayoutView",
            "grid_template_rows": null,
            "right": null,
            "justify_content": null,
            "_view_module": "@jupyter-widgets/base",
            "overflow": null,
            "_model_module_version": "1.2.0",
            "_view_count": null,
            "flex_flow": null,
            "width": null,
            "min_width": null,
            "border": null,
            "align_items": null,
            "bottom": null,
            "_model_module": "@jupyter-widgets/base",
            "top": null,
            "grid_column": null,
            "overflow_y": null,
            "overflow_x": null,
            "grid_auto_flow": null,
            "grid_area": null,
            "grid_template_columns": null,
            "flex": null,
            "_model_name": "LayoutModel",
            "justify_items": null,
            "grid_row": null,
            "max_height": null,
            "align_content": null,
            "visibility": null,
            "align_self": null,
            "height": null,
            "min_height": null,
            "padding": null,
            "grid_auto_rows": null,
            "grid_gap": null,
            "max_width": null,
            "order": null,
            "_view_module_version": "1.2.0",
            "grid_template_areas": null,
            "object_position": null,
            "object_fit": null,
            "grid_auto_columns": null,
            "margin": null,
            "display": null,
            "left": null
          }
        },
        "a7f64c22caa34f4193e050b6440ec552": {
          "model_module": "@jupyter-widgets/base",
          "model_name": "LayoutModel",
          "state": {
            "_view_name": "LayoutView",
            "grid_template_rows": null,
            "right": null,
            "justify_content": null,
            "_view_module": "@jupyter-widgets/base",
            "overflow": null,
            "_model_module_version": "1.2.0",
            "_view_count": null,
            "flex_flow": null,
            "width": null,
            "min_width": null,
            "border": null,
            "align_items": null,
            "bottom": null,
            "_model_module": "@jupyter-widgets/base",
            "top": null,
            "grid_column": null,
            "overflow_y": null,
            "overflow_x": null,
            "grid_auto_flow": null,
            "grid_area": null,
            "grid_template_columns": null,
            "flex": null,
            "_model_name": "LayoutModel",
            "justify_items": null,
            "grid_row": null,
            "max_height": null,
            "align_content": null,
            "visibility": null,
            "align_self": null,
            "height": null,
            "min_height": null,
            "padding": null,
            "grid_auto_rows": null,
            "grid_gap": null,
            "max_width": null,
            "order": null,
            "_view_module_version": "1.2.0",
            "grid_template_areas": null,
            "object_position": null,
            "object_fit": null,
            "grid_auto_columns": null,
            "margin": null,
            "display": null,
            "left": null
          }
        }
      }
    }
  },
  "cells": [
    {
      "cell_type": "markdown",
      "metadata": {
        "id": "view-in-github",
        "colab_type": "text"
      },
      "source": [
        "<a href=\"https://colab.research.google.com/github/shengjiyang/DS-Unit-2-Kaggle-Challenge/blob/master/module2-random-forests/LS_DS_222.ipynb\" target=\"_parent\"><img src=\"https://colab.research.google.com/assets/colab-badge.svg\" alt=\"Open In Colab\"/></a>"
      ]
    },
    {
      "cell_type": "markdown",
      "metadata": {
        "colab_type": "text",
        "id": "UEHyIgGaaSEJ"
      },
      "source": [
        "Lambda School Data Science\n",
        "\n",
        "*Unit 2, Sprint 2, Module 2*\n",
        "\n",
        "---"
      ]
    },
    {
      "cell_type": "markdown",
      "metadata": {
        "colab_type": "text",
        "id": "mRfPLX4WgLVJ"
      },
      "source": [
        "# Random Forests"
      ]
    },
    {
      "cell_type": "markdown",
      "metadata": {
        "colab_type": "text",
        "id": "jRRNhkxcgLVK"
      },
      "source": [
        "- use scikit-learn for **random forests**\n",
        "- do **ordinal encoding** with high-cardinality categoricals\n",
        "- understand how categorical encodings affect trees differently compared to linear models\n",
        "- understand how tree ensembles reduce overfitting compared to a single decision tree with unlimited depth"
      ]
    },
    {
      "cell_type": "markdown",
      "metadata": {
        "colab_type": "text",
        "id": "-3TH11e1gLVL"
      },
      "source": [
        "Today's lesson has two take-away messages:\n",
        "\n",
        "#### Try Tree Ensembles when you do machine learning with labeled, tabular data\n",
        "- \"Tree Ensembles\" means Random Forest or Gradient Boosting models. \n",
        "- [Tree Ensembles often have the best predictive accuracy](https://arxiv.org/abs/1708.05070) with labeled, tabular data.\n",
        "- Why? Because trees can fit non-linear, non-[monotonic](https://en.wikipedia.org/wiki/Monotonic_function) relationships, and [interactions](https://christophm.github.io/interpretable-ml-book/interaction.html) between features.\n",
        "- A single decision tree, grown to unlimited depth, will [overfit](http://www.r2d3.us/visual-intro-to-machine-learning-part-1/). We solve this problem by ensembling trees, with bagging (Random Forest) or boosting (Gradient Boosting).\n",
        "- Random Forest's advantage: may be less sensitive to hyperparameters. Gradient Boosting's advantage: may get better predictive accuracy.\n",
        "\n",
        "#### One-hot encoding isn’t the only way, and may not be the best way, of categorical encoding for tree ensembles.\n",
        "- For example, tree ensembles can work with arbitrary \"ordinal\" encoding! (Randomly assigning an integer to each category.) Compared to one-hot encoding, the dimensionality will be lower, and the predictive accuracy may be just as good or even better.\n"
      ]
    },
    {
      "cell_type": "markdown",
      "metadata": {
        "colab_type": "text",
        "id": "r5PbOFEuFfGF"
      },
      "source": [
        "### Setup\n",
        "\n",
        "Run the code cell below. You can work locally (follow the [local setup instructions](https://lambdaschool.github.io/ds/unit2/local/)) or on Colab.\n",
        "\n",
        "Libraries\n",
        "\n",
        "- **category_encoders** \n",
        "- **graphviz**\n",
        "- ipywidgets\n",
        "- matplotlib\n",
        "- numpy\n",
        "- pandas\n",
        "- seaborn\n",
        "- scikit-learn"
      ]
    },
    {
      "cell_type": "code",
      "metadata": {
        "colab_type": "code",
        "id": "FStAplyRFoEu",
        "colab": {}
      },
      "source": [
        "%%capture\n",
        "import sys\n",
        "\n",
        "# If you're on Colab:\n",
        "if 'google.colab' in sys.modules:\n",
        "    DATA_PATH = 'https://raw.githubusercontent.com/LambdaSchool/DS-Unit-2-Kaggle-Challenge/master/data/'\n",
        "    !pip install category_encoders==2.*\n",
        "\n",
        "# If you're working locally:\n",
        "else:\n",
        "    DATA_PATH = '../data/'"
      ],
      "execution_count": 0,
      "outputs": []
    },
    {
      "cell_type": "markdown",
      "metadata": {
        "colab_type": "text",
        "id": "ZL-yK8B7gLVW"
      },
      "source": [
        "# Use scikit-learn for random forests"
      ]
    },
    {
      "cell_type": "markdown",
      "metadata": {
        "id": "QoEjE7XHUDFo",
        "colab_type": "text"
      },
      "source": [
        "## Overview\n",
        "\n",
        "Let's fit a Random Forest!\n",
        "\n",
        "![](https://pbs.twimg.com/media/EGSvKA0UUAEzUZi?format=png)\n",
        "\n",
        "[Chris Albon, MachineLearningFlashcards.com](https://twitter.com/chrisalbon/status/1181261589887909889)"
      ]
    },
    {
      "cell_type": "markdown",
      "metadata": {
        "colab_type": "text",
        "id": "gHFxMCPSgLVM"
      },
      "source": [
        "### Solution example\n",
        "\n",
        "First, read & wrangle the data.\n",
        "\n",
        "> Define a function to wrangle train, validate, and test sets in the same way. Clean outliers and engineer features. (For example, [what other columns have zeros and shouldn't?](https://github.com/Quartz/bad-data-guide#zeros-replace-missing-values) What other columns are duplicates, or nearly duplicates? Can you extract the year from date_recorded? Can you engineer new features, such as the number of years from waterpump construction to waterpump inspection?)"
      ]
    },
    {
      "cell_type": "code",
      "metadata": {
        "colab_type": "code",
        "id": "YTLm-rDagLVM",
        "colab": {}
      },
      "source": [
        "import numpy as np\n",
        "import pandas as pd\n",
        "from sklearn.model_selection import train_test_split\n",
        "\n",
        "# Merge train_features.csv & train_labels.csv\n",
        "train = pd.merge(pd.read_csv(DATA_PATH+'waterpumps/train_features.csv'), \n",
        "                 pd.read_csv(DATA_PATH+'waterpumps/train_labels.csv'))\n",
        "\n",
        "# Read test_features.csv & sample_submission.csv\n",
        "test = pd.read_csv(DATA_PATH+'waterpumps/test_features.csv')\n",
        "sample_submission = pd.read_csv(DATA_PATH+'waterpumps/sample_submission.csv')\n",
        "\n",
        "# Split train into train & val\n",
        "train, val = train_test_split(train, train_size = 0.80, test_size = 0.20, \n",
        "                              stratify = train['status_group'],\n",
        "                              random_state = 42)\n",
        "\n",
        "\n",
        "def wrangle(X):\n",
        "    \"\"\"Wrangle train, validate, and test sets in the same way\"\"\"\n",
        "    \n",
        "    # Prevent SettingWithCopyWarning\n",
        "    X = X.copy()\n",
        "    \n",
        "    # About 3% of the time, latitude has small values near zero,\n",
        "    # outside Tanzania, so we'll treat these values like zero.\n",
        "    X['latitude'] = X['latitude'].replace(-2e-08, 0)\n",
        "    \n",
        "    # When columns have zeros and shouldn't, they are like null values.\n",
        "    # So we will replace the zeros with nulls, and impute missing values later.\n",
        "    # Also create a \"missing indicator\" column, because the fact that\n",
        "    # values are missing may be a predictive signal.\n",
        "\n",
        "    cols_with_zeros = ['longitude', 'latitude', 'construction_year', \n",
        "                       'gps_height', 'population']\n",
        "\n",
        "    for col in cols_with_zeros:\n",
        "        X[col] = X[col].replace(0, np.nan)\n",
        "        X[col+'_MISSING'] = X[col].isnull()\n",
        "            \n",
        "    # Drop duplicate columns\n",
        "    duplicates = ['quantity_group', 'payment_type']\n",
        "    X = X.drop(columns=duplicates)\n",
        "    \n",
        "    # Drop recorded_by (never varies) and id (always varies, random)\n",
        "    unusable_variance = ['recorded_by', 'id']\n",
        "    X = X.drop(columns=unusable_variance)\n",
        "    \n",
        "    # Convert date_recorded to datetime\n",
        "    X['date_recorded'] = pd.to_datetime(X['date_recorded'],\n",
        "                                        infer_datetime_format =True)\n",
        "    \n",
        "    # Extract components from date_recorded, then drop the original column\n",
        "    X['year_recorded'] = X['date_recorded'].dt.year\n",
        "    X['month_recorded'] = X['date_recorded'].dt.month\n",
        "    X['day_recorded'] = X['date_recorded'].dt.day\n",
        "    X = X.drop(columns='date_recorded')\n",
        "    \n",
        "    # Engineer feature: how many years from construction_year to date_recorded\n",
        "    X['years'] = X['year_recorded'] - X['construction_year']\n",
        "    X['years_MISSING'] = X['years'].isnull()\n",
        "    \n",
        "    # return the wrangled dataframe\n",
        "    return X\n",
        "\n",
        "train = wrangle(train)\n",
        "val = wrangle(val)\n",
        "test = wrangle(test)"
      ],
      "execution_count": 0,
      "outputs": []
    },
    {
      "cell_type": "code",
      "metadata": {
        "colab_type": "code",
        "id": "m2HppBvZgLVP",
        "colab": {}
      },
      "source": [
        "# The status_group column is the target\n",
        "target = 'status_group'\n",
        "\n",
        "# Get a dataframe with all train columns except the target\n",
        "train_features = train.drop(columns=[target])\n",
        "\n",
        "# Get a list of the numeric features\n",
        "numeric_features = train_features.select_dtypes(include='number').columns.tolist()\n",
        "\n",
        "# Get a series with the cardinality of the nonnumeric features\n",
        "cardinality = train_features.select_dtypes(exclude = 'number').nunique()\n",
        "\n",
        "# Get a list of all categorical features with cardinality <= 50\n",
        "categorical_features = cardinality[cardinality <= 50].index.tolist()\n",
        "\n",
        "# Combine the lists \n",
        "features = numeric_features + categorical_features"
      ],
      "execution_count": 0,
      "outputs": []
    },
    {
      "cell_type": "code",
      "metadata": {
        "colab_type": "code",
        "id": "aXmK2brXgLVR",
        "colab": {}
      },
      "source": [
        "# Arrange data into X features matrix and y target vector \n",
        "X_train = train[features]\n",
        "y_train = train[target]\n",
        "X_val = val[features]\n",
        "y_val = val[target]\n",
        "X_test = test[features]"
      ],
      "execution_count": 0,
      "outputs": []
    },
    {
      "cell_type": "markdown",
      "metadata": {
        "id": "X2dG6rtjUDNY",
        "colab_type": "text"
      },
      "source": [
        "## Follow Along\n",
        "\n",
        "[Scikit-Learn User Guide: Random Forests](https://scikit-learn.org/stable/modules/ensemble.html#random-forests) "
      ]
    },
    {
      "cell_type": "code",
      "metadata": {
        "colab_type": "code",
        "id": "57yyygsdgLVW",
        "colab": {
          "base_uri": "https://localhost:8080/",
          "height": 102
        },
        "outputId": "8f272e5c-8c1d-46f1-97db-9f73b3749e36"
      },
      "source": [
        "import category_encoders as ce \n",
        "from sklearn.ensemble import RandomForestClassifier\n",
        "from sklearn.impute import SimpleImputer\n",
        "from sklearn.pipeline import make_pipeline\n",
        "\n",
        "pipeline = make_pipeline(\n",
        "    ce.OneHotEncoder(use_cat_names = True),\n",
        "    SimpleImputer(strategy = 'median'),\n",
        "    RandomForestClassifier(n_estimators = 100, n_jobs = -1, random_state = 0)\n",
        ")\n",
        "\n",
        "pipeline.fit(X_train, y_train)\n",
        "\n",
        "val_baseline = pipeline.score(X_val, y_val)\n",
        "\n",
        "print('Training Accuracy:  ', round(pipeline.score(X_train, y_train) * 100, 2),\n",
        "      '%')\n",
        "print('Validation Accuracy:', round(pipeline.score(X_val, y_val) * 100, 2),\n",
        "      '%')\n",
        "\n",
        "print('\\nThe training accuracy is indicative of potential overfitting, but the')\n",
        "print(\"validation accuracy does bode well for the model's predictive power.\")"
      ],
      "execution_count": 65,
      "outputs": [
        {
          "output_type": "stream",
          "text": [
            "Training Accuracy:   99.79 %\n",
            "Validation Accuracy: 80.88 %\n",
            "\n",
            "The training accuracy is indicative of potential overfitting, but the\n",
            "validation accuracy does bode well for the model's predictive power.\n"
          ],
          "name": "stdout"
        }
      ]
    },
    {
      "cell_type": "code",
      "metadata": {
        "id": "DqUFkreoYeK6",
        "colab_type": "code",
        "colab": {
          "base_uri": "https://localhost:8080/",
          "height": 51
        },
        "outputId": "d54d0737-f516-4fbc-d5a1-1507fc70694b"
      },
      "source": [
        "print('X_train shape before encoding:', X_train.shape)\n",
        "\n",
        "encoder = pipeline.named_steps['onehotencoder']\n",
        "encoded = encoder.transform(X_train)\n",
        "\n",
        "print('X_train shape after encoding: ', encoded.shape)"
      ],
      "execution_count": 54,
      "outputs": [
        {
          "output_type": "stream",
          "text": [
            "X_train shape before encoding: (47520, 38)\n",
            "X_train shape after encoding:  (47520, 182)\n"
          ],
          "name": "stdout"
        }
      ]
    },
    {
      "cell_type": "code",
      "metadata": {
        "id": "aaYyg8k70fCu",
        "colab_type": "code",
        "colab": {
          "base_uri": "https://localhost:8080/",
          "height": 68
        },
        "outputId": "4eb3a2e0-782a-4320-81dc-e15f39c4b5e5"
      },
      "source": [
        "from sklearn.feature_selection import SelectKBest\n",
        "\n",
        "k = 15\n",
        "\n",
        "pipeline = make_pipeline(\n",
        "    ce.OrdinalEncoder(),\n",
        "    SimpleImputer(strategy = 'median'),\n",
        "    SelectKBest(k = k),\n",
        "    RandomForestClassifier(n_estimators = 100, n_jobs = -1, random_state = 0)\n",
        ")\n",
        "\n",
        "pipeline.fit(X_train, y_train)\n",
        "print('Number of Features: ', k)\n",
        "print('Training Accuracy:  ', round(pipeline.score(X_train, y_train) * 100, 2),\n",
        "      '%')\n",
        "print('Validation Accuracy:', round(pipeline.score(X_val, y_val) * 100, 2),\n",
        "      '%')"
      ],
      "execution_count": 74,
      "outputs": [
        {
          "output_type": "stream",
          "text": [
            "Number of Features:  15\n",
            "Training Accuracy:   92.34 %\n",
            "Validation Accuracy: 76.5 %\n"
          ],
          "name": "stdout"
        }
      ]
    },
    {
      "cell_type": "code",
      "metadata": {
        "id": "EtGliy1I1Ogk",
        "colab_type": "code",
        "colab": {
          "base_uri": "https://localhost:8080/",
          "height": 289
        },
        "outputId": "e6dfa3b3-d45d-45af-ab00-ce711a1531cb"
      },
      "source": [
        "# For k >= 36, passing SelectKBest() into the pipeline increases the accuracy\n",
        "\n",
        "for k in range(35, 39):\n",
        "  new_pipeline = make_pipeline(\n",
        "      ce.OrdinalEncoder(),\n",
        "      SimpleImputer(strategy = 'median'),\n",
        "      SelectKBest(k = k),\n",
        "      RandomForestClassifier(n_estimators = 100, n_jobs = -1, random_state = 0)\n",
        "      )\n",
        "\n",
        "  new_pipeline.fit(X_train, y_train)\n",
        "  print('Number of Features:        ', k)\n",
        "  print('Validation Accuracy:       ', round(new_pipeline.score(X_val, y_val)* 100,\n",
        "                                             2), '%')\n",
        "  print('Comaparision with baseline:', round((new_pipeline.score(X_val, y_val) - val_baseline) * 100,\n",
        "                                             2), '%\\n')"
      ],
      "execution_count": 73,
      "outputs": [
        {
          "output_type": "stream",
          "text": [
            "Number of Features:         35\n",
            "Validation Accuracy:        80.37 %\n",
            "Comaparision with baseline: -0.51 %\n",
            "\n",
            "Number of Features:         36\n",
            "Validation Accuracy:        81.02 %\n",
            "Comaparision with baseline: 0.13 %\n",
            "\n",
            "Number of Features:         37\n",
            "Validation Accuracy:        81.02 %\n",
            "Comaparision with baseline: 0.13 %\n",
            "\n",
            "Number of Features:         38\n",
            "Validation Accuracy:        81.03 %\n",
            "Comaparision with baseline: 0.14 %\n",
            "\n"
          ],
          "name": "stdout"
        }
      ]
    },
    {
      "cell_type": "markdown",
      "metadata": {
        "colab_type": "text",
        "id": "yfyk_aa5gLVY"
      },
      "source": [
        "# Do ordinal encoding with high-cardinality categoricals"
      ]
    },
    {
      "cell_type": "markdown",
      "metadata": {
        "id": "bzHJ-s_8UDRY",
        "colab_type": "text"
      },
      "source": [
        "## Overview\n",
        "\n",
        "http://contrib.scikit-learn.org/categorical-encoding/ordinal.html"
      ]
    },
    {
      "cell_type": "markdown",
      "metadata": {
        "id": "KdK86LSoUDRa",
        "colab_type": "text"
      },
      "source": [
        "## Follow Along"
      ]
    },
    {
      "cell_type": "code",
      "metadata": {
        "colab_type": "code",
        "id": "b8d_WJtcgLVZ",
        "colab": {
          "base_uri": "https://localhost:8080/",
          "height": 607
        },
        "outputId": "62ad2585-60e5-4fa5-9dfb-08fc80faf681"
      },
      "source": [
        "%matplotlib inline\n",
        "import matplotlib.pyplot as plt\n",
        "\n",
        "# Get feature importances\n",
        "rf = pipeline.named_steps['randomforestclassifier']\n",
        "importances = pd.Series(rf.feature_importances_, encoded.columns)\n",
        "\n",
        "# plot top n number of feature importances\n",
        "n = 20\n",
        "plt.figure(figsize = (10, n / 2))\n",
        "plt.title(f'Top {n} Features')\n",
        "importances.sort_values()[-n:].plot.barh();"
      ],
      "execution_count": 8,
      "outputs": [
        {
          "output_type": "display_data",
          "data": {
            "image/png": "[encoded data removed]",
            "text/plain": [
              "<Figure size 720x720 with 1 Axes>"
            ]
          },
          "metadata": {
            "tags": [],
            "needs_background": "light"
          }
        }
      ]
    },
    {
      "cell_type": "markdown",
      "metadata": {
        "colab_type": "text",
        "id": "xs2UPoVdgLVp"
      },
      "source": [
        "# Understand how categorical encodings affect trees differently compared to linear models"
      ]
    },
    {
      "cell_type": "markdown",
      "metadata": {
        "id": "pkkvOZYZUDTN",
        "colab_type": "text"
      },
      "source": [
        "## Follow Along"
      ]
    },
    {
      "cell_type": "markdown",
      "metadata": {
        "colab_type": "text",
        "id": "z8V-A92mgLVp"
      },
      "source": [
        "### Categorical exploration, 1 feature at a time\n",
        "\n",
        "Change `feature`, then re-run these cells!"
      ]
    },
    {
      "cell_type": "code",
      "metadata": {
        "colab_type": "code",
        "id": "G35RAzVdgLVq",
        "colab": {}
      },
      "source": [
        "feature = 'extraction_type_class'"
      ],
      "execution_count": 0,
      "outputs": []
    },
    {
      "cell_type": "code",
      "metadata": {
        "colab_type": "code",
        "id": "OuxHWiH8gLVr",
        "colab": {
          "base_uri": "https://localhost:8080/",
          "height": 153
        },
        "outputId": "e58b94d9-116e-4157-99b2-fc2059a8111e"
      },
      "source": [
        "X_train[feature].value_counts()"
      ],
      "execution_count": 15,
      "outputs": [
        {
          "output_type": "execute_result",
          "data": {
            "text/plain": [
              "gravity         21448\n",
              "handpump        13184\n",
              "other            5193\n",
              "submersible      4894\n",
              "motorpump        2355\n",
              "rope pump         353\n",
              "wind-powered       93\n",
              "Name: extraction_type_class, dtype: int64"
            ]
          },
          "metadata": {
            "tags": []
          },
          "execution_count": 15
        }
      ]
    },
    {
      "cell_type": "code",
      "metadata": {
        "id": "o81dog4Dfwlq",
        "colab_type": "code",
        "colab": {
          "base_uri": "https://localhost:8080/",
          "height": 153
        },
        "outputId": "af5db9b5-b65d-4971-a646-a77e4cce5b56"
      },
      "source": [
        "X_train[feature].value_counts(normalize = True)"
      ],
      "execution_count": 16,
      "outputs": [
        {
          "output_type": "execute_result",
          "data": {
            "text/plain": [
              "gravity         0.451347\n",
              "handpump        0.277441\n",
              "other           0.109280\n",
              "submersible     0.102988\n",
              "motorpump       0.049558\n",
              "rope pump       0.007428\n",
              "wind-powered    0.001957\n",
              "Name: extraction_type_class, dtype: float64"
            ]
          },
          "metadata": {
            "tags": []
          },
          "execution_count": 16
        }
      ]
    },
    {
      "cell_type": "code",
      "metadata": {
        "colab_type": "code",
        "id": "pVxoC4NngLVt",
        "colab": {
          "base_uri": "https://localhost:8080/",
          "height": 552
        },
        "outputId": "adb231bd-52bc-4e89-bd5c-a5b619cd9545"
      },
      "source": [
        "import seaborn as sns\n",
        "plt.figure(figsize = (16,9))\n",
        "sns.barplot(\n",
        "    x = train[feature], \n",
        "    y = train['status_group'] == 'functional', \n",
        ");"
      ],
      "execution_count": 18,
      "outputs": [
        {
          "output_type": "display_data",
          "data": {
            "image/png": "[encoded data removed]",
            "text/plain": [
              "<Figure size 1152x648 with 1 Axes>"
            ]
          },
          "metadata": {
            "tags": [],
            "needs_background": "light"
          }
        }
      ]
    },
    {
      "cell_type": "code",
      "metadata": {
        "colab_type": "code",
        "id": "w99mek14gLVv",
        "colab": {
          "base_uri": "https://localhost:8080/",
          "height": 374
        },
        "outputId": "95a27384-570e-4c8e-b69e-46c8e9f30876"
      },
      "source": [
        "X_train[feature].head(20)"
      ],
      "execution_count": 19,
      "outputs": [
        {
          "output_type": "execute_result",
          "data": {
            "text/plain": [
              "43360        gravity\n",
              "7263         gravity\n",
              "2486        handpump\n",
              "313            other\n",
              "52726      motorpump\n",
              "8558         gravity\n",
              "2559         gravity\n",
              "54735      motorpump\n",
              "25763       handpump\n",
              "44540    submersible\n",
              "28603          other\n",
              "4372     submersible\n",
              "30666        gravity\n",
              "6431     submersible\n",
              "57420          other\n",
              "1373         gravity\n",
              "2026         gravity\n",
              "58977       handpump\n",
              "41101        gravity\n",
              "10019        gravity\n",
              "Name: extraction_type_class, dtype: object"
            ]
          },
          "metadata": {
            "tags": []
          },
          "execution_count": 19
        }
      ]
    },
    {
      "cell_type": "markdown",
      "metadata": {
        "colab_type": "text",
        "id": "ezzK2IdbgLVx"
      },
      "source": [
        "### [One Hot Encoding](http://contrib.scikit-learn.org/categorical-encoding/onehot.html)\n",
        "\n",
        "> Onehot (or dummy) coding for categorical features, produces one feature per category, each binary.\n",
        "\n",
        "Warning: May run slow, or run out of memory, with high cardinality categoricals!"
      ]
    },
    {
      "cell_type": "code",
      "metadata": {
        "colab_type": "code",
        "id": "HDQZtV6GgLVy",
        "colab": {
          "base_uri": "https://localhost:8080/",
          "height": 723
        },
        "outputId": "a0b99106-df77-4153-87ac-81aa0651364a"
      },
      "source": [
        "encoder = ce.OneHotEncoder(use_cat_names = True)\n",
        "encoded = encoder.fit_transform(X_train[[feature]])\n",
        "print(f'{len(encoded.columns)} columns')\n",
        "encoded.head(20)"
      ],
      "execution_count": 20,
      "outputs": [
        {
          "output_type": "stream",
          "text": [
            "7 columns\n"
          ],
          "name": "stdout"
        },
        {
          "output_type": "execute_result",
          "data": {
            "text/html": [
              "<div>\n",
              "<style scoped>\n",
              "    .dataframe tbody tr th:only-of-type {\n",
              "        vertical-align: middle;\n",
              "    }\n",
              "\n",
              "    .dataframe tbody tr th {\n",
              "        vertical-align: top;\n",
              "    }\n",
              "\n",
              "    .dataframe thead th {\n",
              "        text-align: right;\n",
              "    }\n",
              "</style>\n",
              "<table border=\"1\" class=\"dataframe\">\n",
              "  <thead>\n",
              "    <tr style=\"text-align: right;\">\n",
              "      <th></th>\n",
              "      <th>extraction_type_class_gravity</th>\n",
              "      <th>extraction_type_class_handpump</th>\n",
              "      <th>extraction_type_class_other</th>\n",
              "      <th>extraction_type_class_motorpump</th>\n",
              "      <th>extraction_type_class_submersible</th>\n",
              "      <th>extraction_type_class_rope pump</th>\n",
              "      <th>extraction_type_class_wind-powered</th>\n",
              "    </tr>\n",
              "  </thead>\n",
              "  <tbody>\n",
              "    <tr>\n",
              "      <th>43360</th>\n",
              "      <td>1</td>\n",
              "      <td>0</td>\n",
              "      <td>0</td>\n",
              "      <td>0</td>\n",
              "      <td>0</td>\n",
              "      <td>0</td>\n",
              "      <td>0</td>\n",
              "    </tr>\n",
              "    <tr>\n",
              "      <th>7263</th>\n",
              "      <td>1</td>\n",
              "      <td>0</td>\n",
              "      <td>0</td>\n",
              "      <td>0</td>\n",
              "      <td>0</td>\n",
              "      <td>0</td>\n",
              "      <td>0</td>\n",
              "    </tr>\n",
              "    <tr>\n",
              "      <th>2486</th>\n",
              "      <td>0</td>\n",
              "      <td>1</td>\n",
              "      <td>0</td>\n",
              "      <td>0</td>\n",
              "      <td>0</td>\n",
              "      <td>0</td>\n",
              "      <td>0</td>\n",
              "    </tr>\n",
              "    <tr>\n",
              "      <th>313</th>\n",
              "      <td>0</td>\n",
              "      <td>0</td>\n",
              "      <td>1</td>\n",
              "      <td>0</td>\n",
              "      <td>0</td>\n",
              "      <td>0</td>\n",
              "      <td>0</td>\n",
              "    </tr>\n",
              "    <tr>\n",
              "      <th>52726</th>\n",
              "      <td>0</td>\n",
              "      <td>0</td>\n",
              "      <td>0</td>\n",
              "      <td>1</td>\n",
              "      <td>0</td>\n",
              "      <td>0</td>\n",
              "      <td>0</td>\n",
              "    </tr>\n",
              "    <tr>\n",
              "      <th>8558</th>\n",
              "      <td>1</td>\n",
              "      <td>0</td>\n",
              "      <td>0</td>\n",
              "      <td>0</td>\n",
              "      <td>0</td>\n",
              "      <td>0</td>\n",
              "      <td>0</td>\n",
              "    </tr>\n",
              "    <tr>\n",
              "      <th>2559</th>\n",
              "      <td>1</td>\n",
              "      <td>0</td>\n",
              "      <td>0</td>\n",
              "      <td>0</td>\n",
              "      <td>0</td>\n",
              "      <td>0</td>\n",
              "      <td>0</td>\n",
              "    </tr>\n",
              "    <tr>\n",
              "      <th>54735</th>\n",
              "      <td>0</td>\n",
              "      <td>0</td>\n",
              "      <td>0</td>\n",
              "      <td>1</td>\n",
              "      <td>0</td>\n",
              "      <td>0</td>\n",
              "      <td>0</td>\n",
              "    </tr>\n",
              "    <tr>\n",
              "      <th>25763</th>\n",
              "      <td>0</td>\n",
              "      <td>1</td>\n",
              "      <td>0</td>\n",
              "      <td>0</td>\n",
              "      <td>0</td>\n",
              "      <td>0</td>\n",
              "      <td>0</td>\n",
              "    </tr>\n",
              "    <tr>\n",
              "      <th>44540</th>\n",
              "      <td>0</td>\n",
              "      <td>0</td>\n",
              "      <td>0</td>\n",
              "      <td>0</td>\n",
              "      <td>1</td>\n",
              "      <td>0</td>\n",
              "      <td>0</td>\n",
              "    </tr>\n",
              "    <tr>\n",
              "      <th>28603</th>\n",
              "      <td>0</td>\n",
              "      <td>0</td>\n",
              "      <td>1</td>\n",
              "      <td>0</td>\n",
              "      <td>0</td>\n",
              "      <td>0</td>\n",
              "      <td>0</td>\n",
              "    </tr>\n",
              "    <tr>\n",
              "      <th>4372</th>\n",
              "      <td>0</td>\n",
              "      <td>0</td>\n",
              "      <td>0</td>\n",
              "      <td>0</td>\n",
              "      <td>1</td>\n",
              "      <td>0</td>\n",
              "      <td>0</td>\n",
              "    </tr>\n",
              "    <tr>\n",
              "      <th>30666</th>\n",
              "      <td>1</td>\n",
              "      <td>0</td>\n",
              "      <td>0</td>\n",
              "      <td>0</td>\n",
              "      <td>0</td>\n",
              "      <td>0</td>\n",
              "      <td>0</td>\n",
              "    </tr>\n",
              "    <tr>\n",
              "      <th>6431</th>\n",
              "      <td>0</td>\n",
              "      <td>0</td>\n",
              "      <td>0</td>\n",
              "      <td>0</td>\n",
              "      <td>1</td>\n",
              "      <td>0</td>\n",
              "      <td>0</td>\n",
              "    </tr>\n",
              "    <tr>\n",
              "      <th>57420</th>\n",
              "      <td>0</td>\n",
              "      <td>0</td>\n",
              "      <td>1</td>\n",
              "      <td>0</td>\n",
              "      <td>0</td>\n",
              "      <td>0</td>\n",
              "      <td>0</td>\n",
              "    </tr>\n",
              "    <tr>\n",
              "      <th>1373</th>\n",
              "      <td>1</td>\n",
              "      <td>0</td>\n",
              "      <td>0</td>\n",
              "      <td>0</td>\n",
              "      <td>0</td>\n",
              "      <td>0</td>\n",
              "      <td>0</td>\n",
              "    </tr>\n",
              "    <tr>\n",
              "      <th>2026</th>\n",
              "      <td>1</td>\n",
              "      <td>0</td>\n",
              "      <td>0</td>\n",
              "      <td>0</td>\n",
              "      <td>0</td>\n",
              "      <td>0</td>\n",
              "      <td>0</td>\n",
              "    </tr>\n",
              "    <tr>\n",
              "      <th>58977</th>\n",
              "      <td>0</td>\n",
              "      <td>1</td>\n",
              "      <td>0</td>\n",
              "      <td>0</td>\n",
              "      <td>0</td>\n",
              "      <td>0</td>\n",
              "      <td>0</td>\n",
              "    </tr>\n",
              "    <tr>\n",
              "      <th>41101</th>\n",
              "      <td>1</td>\n",
              "      <td>0</td>\n",
              "      <td>0</td>\n",
              "      <td>0</td>\n",
              "      <td>0</td>\n",
              "      <td>0</td>\n",
              "      <td>0</td>\n",
              "    </tr>\n",
              "    <tr>\n",
              "      <th>10019</th>\n",
              "      <td>1</td>\n",
              "      <td>0</td>\n",
              "      <td>0</td>\n",
              "      <td>0</td>\n",
              "      <td>0</td>\n",
              "      <td>0</td>\n",
              "      <td>0</td>\n",
              "    </tr>\n",
              "  </tbody>\n",
              "</table>\n",
              "</div>"
            ],
            "text/plain": [
              "       extraction_type_class_gravity  ...  extraction_type_class_wind-powered\n",
              "43360                              1  ...                                   0\n",
              "7263                               1  ...                                   0\n",
              "2486                               0  ...                                   0\n",
              "313                                0  ...                                   0\n",
              "52726                              0  ...                                   0\n",
              "8558                               1  ...                                   0\n",
              "2559                               1  ...                                   0\n",
              "54735                              0  ...                                   0\n",
              "25763                              0  ...                                   0\n",
              "44540                              0  ...                                   0\n",
              "28603                              0  ...                                   0\n",
              "4372                               0  ...                                   0\n",
              "30666                              1  ...                                   0\n",
              "6431                               0  ...                                   0\n",
              "57420                              0  ...                                   0\n",
              "1373                               1  ...                                   0\n",
              "2026                               1  ...                                   0\n",
              "58977                              0  ...                                   0\n",
              "41101                              1  ...                                   0\n",
              "10019                              1  ...                                   0\n",
              "\n",
              "[20 rows x 7 columns]"
            ]
          },
          "metadata": {
            "tags": []
          },
          "execution_count": 20
        }
      ]
    },
    {
      "cell_type": "markdown",
      "metadata": {
        "colab_type": "text",
        "id": "1Ql9Qmw3sNJ7"
      },
      "source": [
        "#### One-Hot Encoding, Logistic Regression, Validation Accuracy"
      ]
    },
    {
      "cell_type": "code",
      "metadata": {
        "colab_type": "code",
        "id": "mT4A-oDGpOss",
        "colab": {
          "base_uri": "https://localhost:8080/",
          "height": 34
        },
        "outputId": "91bc6353-d90a-46b5-9177-82d9495ad50f"
      },
      "source": [
        "from sklearn.linear_model import LogisticRegressionCV\n",
        "from sklearn.preprocessing import StandardScaler\n",
        "\n",
        "lr = make_pipeline(\n",
        "    ce.OneHotEncoder(use_cat_names = True), \n",
        "    SimpleImputer(), \n",
        "    StandardScaler(), \n",
        "    LogisticRegressionCV(multi_class = 'auto', cv = 5, n_jobs = -1)\n",
        ")\n",
        "\n",
        "lr.fit(X_train[[feature]], y_train)\n",
        "score = lr.score(X_val[[feature]], y_val)\n",
        "print('Logistic Regression, Validation Accuracy:', round(score * 100, 2), '%')"
      ],
      "execution_count": 23,
      "outputs": [
        {
          "output_type": "stream",
          "text": [
            "Logistic Regression, Validation Accuracy: 62.03 %\n"
          ],
          "name": "stdout"
        }
      ]
    },
    {
      "cell_type": "markdown",
      "metadata": {
        "colab_type": "text",
        "id": "EbH6wivpsRuV"
      },
      "source": [
        "#### One-Hot Encoding, Decision Tree, Validation Accuracy"
      ]
    },
    {
      "cell_type": "code",
      "metadata": {
        "colab_type": "code",
        "id": "b6KUluFOqIdK",
        "colab": {
          "base_uri": "https://localhost:8080/",
          "height": 34
        },
        "outputId": "a3971023-ae37-4661-f1f6-e50a67850348"
      },
      "source": [
        "from sklearn.tree import DecisionTreeClassifier\n",
        "\n",
        "dt = make_pipeline(\n",
        "    ce.OneHotEncoder(use_cat_names = True), \n",
        "    SimpleImputer(), \n",
        "    DecisionTreeClassifier(random_state = 42)\n",
        ")\n",
        "\n",
        "dt.fit(X_train[[feature]], y_train)\n",
        "score = dt.score(X_val[[feature]], y_val)\n",
        "print('Decision Tree, Validation Accuracy:', round(score * 100, 2), '%')"
      ],
      "execution_count": 28,
      "outputs": [
        {
          "output_type": "stream",
          "text": [
            "Decision Tree, Validation Accuracy: 62.03 %\n"
          ],
          "name": "stdout"
        }
      ]
    },
    {
      "cell_type": "markdown",
      "metadata": {
        "colab_type": "text",
        "id": "8yg11_gTsUu6"
      },
      "source": [
        "#### One-Hot Encoding, Logistic Regression, Model Interpretation"
      ]
    },
    {
      "cell_type": "code",
      "metadata": {
        "colab_type": "code",
        "id": "IxHwXGRornNI",
        "colab": {
          "base_uri": "https://localhost:8080/",
          "height": 265
        },
        "outputId": "bf56d884-5079-4ffa-beac-2f93f2611998"
      },
      "source": [
        "model = lr.named_steps['logisticregressioncv']\n",
        "encoder = lr.named_steps['onehotencoder']\n",
        "encoded_columns = encoder.transform(X_val[[feature]]).columns\n",
        "coefficients = pd.Series(model.coef_[0], encoded_columns)\n",
        "coefficients.sort_values().plot.barh();"
      ],
      "execution_count": 29,
      "outputs": [
        {
          "output_type": "display_data",
          "data": {
            "image/png": "[encoded data removed]",
            "text/plain": [
              "<Figure size 432x288 with 1 Axes>"
            ]
          },
          "metadata": {
            "tags": [],
            "needs_background": "light"
          }
        }
      ]
    },
    {
      "cell_type": "markdown",
      "metadata": {
        "colab_type": "text",
        "id": "0REZ8HdpsccR"
      },
      "source": [
        "#### One-Hot Encoding, Decision Tree, Model Interpretation"
      ]
    },
    {
      "cell_type": "code",
      "metadata": {
        "colab_type": "code",
        "id": "gV-grmYKpDp9",
        "colab": {
          "base_uri": "https://localhost:8080/",
          "height": 954
        },
        "outputId": "8f757ba8-ab49-4664-e6e4-e6f074d72f43"
      },
      "source": [
        "# Plot tree\n",
        "# https://scikit-learn.org/stable/modules/generated/sklearn.tree.export_graphviz.html\n",
        "import graphviz\n",
        "from sklearn.tree import export_graphviz\n",
        "\n",
        "model = dt.named_steps['decisiontreeclassifier']\n",
        "encoder = dt.named_steps['onehotencoder']\n",
        "encoded_columns = encoder.transform(X_val[[feature]]).columns\n",
        "\n",
        "dot_data = export_graphviz(model, \n",
        "                           out_file = None, \n",
        "                           max_depth = 7, \n",
        "                           feature_names = encoded_columns,\n",
        "                           class_names = model.classes_, \n",
        "                           impurity = False, \n",
        "                           filled = True, \n",
        "                           proportion = True, \n",
        "                           rounded = True)\n",
        "   \n",
        "display(graphviz.Source(dot_data))"
      ],
      "execution_count": 30,
      "outputs": [
        {
          "output_type": "display_data",
          "data": {
            "text/plain": [
              "<graphviz.files.Source at 0x7f90ccc3de48>"
            ],
            "image/svg+xml": "<?xml version=\"1.0\" encoding=\"UTF-8\" standalone=\"no\"?>\n<!DOCTYPE svg PUBLIC \"-//W3C//DTD SVG 1.1//EN\"\n \"http://www.w3.org/Graphics/SVG/1.1/DTD/svg11.dtd\">\n<!-- Generated by graphviz version 2.40.1 (20161225.0304)\n -->\n<!-- Title: Tree Pages: 1 -->\n<svg width=\"1067pt\" height=\"685pt\"\n viewBox=\"0.00 0.00 1067.00 685.00\" xmlns=\"http://www.w3.org/2000/svg\" xmlns:xlink=\"http://www.w3.org/1999/xlink\">\n<g id=\"graph0\" class=\"graph\" transform=\"scale(1 1) rotate(0) translate(4 681)\">\n<title>Tree</title>\n<polygon fill=\"#ffffff\" stroke=\"transparent\" points=\"-4,4 -4,-681 1063,-681 1063,4 -4,4\"/>\n<!-- 0 -->\n<g id=\"node1\" class=\"node\">\n<title>0</title>\n<path fill=\"#f8decc\" stroke=\"#000000\" d=\"M944.5,-677C944.5,-677 725.5,-677 725.5,-677 719.5,-677 713.5,-671 713.5,-665 713.5,-665 713.5,-621 713.5,-621 713.5,-615 719.5,-609 725.5,-609 725.5,-609 944.5,-609 944.5,-609 950.5,-609 956.5,-615 956.5,-621 956.5,-621 956.5,-665 956.5,-665 956.5,-671 950.5,-677 944.5,-677\"/>\n<text text-anchor=\"middle\" x=\"835\" y=\"-661.8\" font-family=\"Helvetica,sans-Serif\" font-size=\"14.00\" fill=\"#000000\">extraction_type_class_other &lt;= 0.5</text>\n<text text-anchor=\"middle\" x=\"835\" y=\"-646.8\" font-family=\"Helvetica,sans-Serif\" font-size=\"14.00\" fill=\"#000000\">samples = 100.0%</text>\n<text text-anchor=\"middle\" x=\"835\" y=\"-631.8\" font-family=\"Helvetica,sans-Serif\" font-size=\"14.00\" fill=\"#000000\">value = [0.543, 0.073, 0.384]</text>\n<text text-anchor=\"middle\" x=\"835\" y=\"-616.8\" font-family=\"Helvetica,sans-Serif\" font-size=\"14.00\" fill=\"#000000\">class = functional</text>\n</g>\n<!-- 1 -->\n<g id=\"node2\" class=\"node\">\n<title>1</title>\n<path fill=\"#f5ceb2\" stroke=\"#000000\" d=\"M837,-573C837,-573 577,-573 577,-573 571,-573 565,-567 565,-561 565,-561 565,-517 565,-517 565,-511 571,-505 577,-505 577,-505 837,-505 837,-505 843,-505 849,-511 849,-517 849,-517 849,-561 849,-561 849,-567 843,-573 837,-573\"/>\n<text text-anchor=\"middle\" x=\"707\" y=\"-557.8\" font-family=\"Helvetica,sans-Serif\" font-size=\"14.00\" fill=\"#000000\">extraction_type_class_motorpump &lt;= 0.5</text>\n<text text-anchor=\"middle\" x=\"707\" y=\"-542.8\" font-family=\"Helvetica,sans-Serif\" font-size=\"14.00\" fill=\"#000000\">samples = 89.1%</text>\n<text text-anchor=\"middle\" x=\"707\" y=\"-527.8\" font-family=\"Helvetica,sans-Serif\" font-size=\"14.00\" fill=\"#000000\">value = [0.59, 0.078, 0.332]</text>\n<text text-anchor=\"middle\" x=\"707\" y=\"-512.8\" font-family=\"Helvetica,sans-Serif\" font-size=\"14.00\" fill=\"#000000\">class = functional</text>\n</g>\n<!-- 0&#45;&gt;1 -->\n<g id=\"edge1\" class=\"edge\">\n<title>0&#45;&gt;1</title>\n<path fill=\"none\" stroke=\"#000000\" d=\"M793.088,-608.9465C781.485,-599.519 768.7779,-589.1946 756.7741,-579.4415\"/>\n<polygon fill=\"#000000\" stroke=\"#000000\" points=\"758.9744,-576.7196 749.0061,-573.13 754.5602,-582.1524 758.9744,-576.7196\"/>\n<text text-anchor=\"middle\" x=\"751.5786\" y=\"-594.2973\" font-family=\"Helvetica,sans-Serif\" font-size=\"14.00\" fill=\"#000000\">True</text>\n</g>\n<!-- 12 -->\n<g id=\"node13\" class=\"node\">\n<title>12</title>\n<path fill=\"#9d66eb\" stroke=\"#000000\" d=\"M1047,-565.5C1047,-565.5 879,-565.5 879,-565.5 873,-565.5 867,-559.5 867,-553.5 867,-553.5 867,-524.5 867,-524.5 867,-518.5 873,-512.5 879,-512.5 879,-512.5 1047,-512.5 1047,-512.5 1053,-512.5 1059,-518.5 1059,-524.5 1059,-524.5 1059,-553.5 1059,-553.5 1059,-559.5 1053,-565.5 1047,-565.5\"/>\n<text text-anchor=\"middle\" x=\"963\" y=\"-550.3\" font-family=\"Helvetica,sans-Serif\" font-size=\"14.00\" fill=\"#000000\">samples = 10.9%</text>\n<text text-anchor=\"middle\" x=\"963\" y=\"-535.3\" font-family=\"Helvetica,sans-Serif\" font-size=\"14.00\" fill=\"#000000\">value = [0.159, 0.031, 0.81]</text>\n<text text-anchor=\"middle\" x=\"963\" y=\"-520.3\" font-family=\"Helvetica,sans-Serif\" font-size=\"14.00\" fill=\"#000000\">class = non functional</text>\n</g>\n<!-- 0&#45;&gt;12 -->\n<g id=\"edge12\" class=\"edge\">\n<title>0&#45;&gt;12</title>\n<path fill=\"none\" stroke=\"#000000\" d=\"M876.912,-608.9465C891.5533,-597.0504 907.9526,-583.726 922.4785,-571.9237\"/>\n<polygon fill=\"#000000\" stroke=\"#000000\" points=\"924.7786,-574.5645 930.3327,-565.5422 920.3645,-569.1317 924.7786,-574.5645\"/>\n<text text-anchor=\"middle\" x=\"927.7602\" y=\"-586.7095\" font-family=\"Helvetica,sans-Serif\" font-size=\"14.00\" fill=\"#000000\">False</text>\n</g>\n<!-- 2 -->\n<g id=\"node3\" class=\"node\">\n<title>2</title>\n<path fill=\"#f4caac\" stroke=\"#000000\" d=\"M708.5,-469C708.5,-469 443.5,-469 443.5,-469 437.5,-469 431.5,-463 431.5,-457 431.5,-457 431.5,-413 431.5,-413 431.5,-407 437.5,-401 443.5,-401 443.5,-401 708.5,-401 708.5,-401 714.5,-401 720.5,-407 720.5,-413 720.5,-413 720.5,-457 720.5,-457 720.5,-463 714.5,-469 708.5,-469\"/>\n<text text-anchor=\"middle\" x=\"576\" y=\"-453.8\" font-family=\"Helvetica,sans-Serif\" font-size=\"14.00\" fill=\"#000000\">extraction_type_class_submersible &lt;= 0.5</text>\n<text text-anchor=\"middle\" x=\"576\" y=\"-438.8\" font-family=\"Helvetica,sans-Serif\" font-size=\"14.00\" fill=\"#000000\">samples = 84.1%</text>\n<text text-anchor=\"middle\" x=\"576\" y=\"-423.8\" font-family=\"Helvetica,sans-Serif\" font-size=\"14.00\" fill=\"#000000\">value = [0.603, 0.08, 0.318]</text>\n<text text-anchor=\"middle\" x=\"576\" y=\"-408.8\" font-family=\"Helvetica,sans-Serif\" font-size=\"14.00\" fill=\"#000000\">class = functional</text>\n</g>\n<!-- 1&#45;&gt;2 -->\n<g id=\"edge2\" class=\"edge\">\n<title>1&#45;&gt;2</title>\n<path fill=\"none\" stroke=\"#000000\" d=\"M664.1057,-504.9465C652.2307,-495.519 639.2259,-485.1946 626.9407,-475.4415\"/>\n<polygon fill=\"#000000\" stroke=\"#000000\" points=\"628.9989,-472.6066 618.9907,-469.13 624.6464,-478.089 628.9989,-472.6066\"/>\n</g>\n<!-- 11 -->\n<g id=\"node12\" class=\"node\">\n<title>11</title>\n<path fill=\"#d8c1f7\" stroke=\"#000000\" d=\"M927,-461.5C927,-461.5 751,-461.5 751,-461.5 745,-461.5 739,-455.5 739,-449.5 739,-449.5 739,-420.5 739,-420.5 739,-414.5 745,-408.5 751,-408.5 751,-408.5 927,-408.5 927,-408.5 933,-408.5 939,-414.5 939,-420.5 939,-420.5 939,-449.5 939,-449.5 939,-455.5 933,-461.5 927,-461.5\"/>\n<text text-anchor=\"middle\" x=\"839\" y=\"-446.3\" font-family=\"Helvetica,sans-Serif\" font-size=\"14.00\" fill=\"#000000\">samples = 5.0%</text>\n<text text-anchor=\"middle\" x=\"839\" y=\"-431.3\" font-family=\"Helvetica,sans-Serif\" font-size=\"14.00\" fill=\"#000000\">value = [0.381, 0.045, 0.574]</text>\n<text text-anchor=\"middle\" x=\"839\" y=\"-416.3\" font-family=\"Helvetica,sans-Serif\" font-size=\"14.00\" fill=\"#000000\">class = non functional</text>\n</g>\n<!-- 1&#45;&gt;11 -->\n<g id=\"edge11\" class=\"edge\">\n<title>1&#45;&gt;11</title>\n<path fill=\"none\" stroke=\"#000000\" d=\"M750.2217,-504.9465C765.3206,-493.0504 782.2324,-479.726 797.2122,-467.9237\"/>\n<polygon fill=\"#000000\" stroke=\"#000000\" points=\"799.623,-470.4802 805.3119,-461.5422 795.2909,-464.9817 799.623,-470.4802\"/>\n</g>\n<!-- 3 -->\n<g id=\"node4\" class=\"node\">\n<title>3</title>\n<path fill=\"#f4c7a8\" stroke=\"#000000\" d=\"M568.5,-365C568.5,-365 339.5,-365 339.5,-365 333.5,-365 327.5,-359 327.5,-353 327.5,-353 327.5,-309 327.5,-309 327.5,-303 333.5,-297 339.5,-297 339.5,-297 568.5,-297 568.5,-297 574.5,-297 580.5,-303 580.5,-309 580.5,-309 580.5,-353 580.5,-353 580.5,-359 574.5,-365 568.5,-365\"/>\n<text text-anchor=\"middle\" x=\"454\" y=\"-349.8\" font-family=\"Helvetica,sans-Serif\" font-size=\"14.00\" fill=\"#000000\">extraction_type_class_gravity &lt;= 0.5</text>\n<text text-anchor=\"middle\" x=\"454\" y=\"-334.8\" font-family=\"Helvetica,sans-Serif\" font-size=\"14.00\" fill=\"#000000\">samples = 73.8%</text>\n<text text-anchor=\"middle\" x=\"454\" y=\"-319.8\" font-family=\"Helvetica,sans-Serif\" font-size=\"14.00\" fill=\"#000000\">value = [0.611, 0.085, 0.304]</text>\n<text text-anchor=\"middle\" x=\"454\" y=\"-304.8\" font-family=\"Helvetica,sans-Serif\" font-size=\"14.00\" fill=\"#000000\">class = functional</text>\n</g>\n<!-- 2&#45;&gt;3 -->\n<g id=\"edge3\" class=\"edge\">\n<title>2&#45;&gt;3</title>\n<path fill=\"none\" stroke=\"#000000\" d=\"M536.0526,-400.9465C525.0988,-391.6088 513.1127,-381.3911 501.768,-371.7203\"/>\n<polygon fill=\"#000000\" stroke=\"#000000\" points=\"503.9179,-368.9538 494.0371,-365.13 499.3767,-374.2809 503.9179,-368.9538\"/>\n</g>\n<!-- 10 -->\n<g id=\"node11\" class=\"node\">\n<title>10</title>\n<path fill=\"#f9e4d5\" stroke=\"#000000\" d=\"M787,-357.5C787,-357.5 611,-357.5 611,-357.5 605,-357.5 599,-351.5 599,-345.5 599,-345.5 599,-316.5 599,-316.5 599,-310.5 605,-304.5 611,-304.5 611,-304.5 787,-304.5 787,-304.5 793,-304.5 799,-310.5 799,-316.5 799,-316.5 799,-345.5 799,-345.5 799,-351.5 793,-357.5 787,-357.5\"/>\n<text text-anchor=\"middle\" x=\"699\" y=\"-342.3\" font-family=\"Helvetica,sans-Serif\" font-size=\"14.00\" fill=\"#000000\">samples = 10.3%</text>\n<text text-anchor=\"middle\" x=\"699\" y=\"-327.3\" font-family=\"Helvetica,sans-Serif\" font-size=\"14.00\" fill=\"#000000\">value = [0.541, 0.042, 0.416]</text>\n<text text-anchor=\"middle\" x=\"699\" y=\"-312.3\" font-family=\"Helvetica,sans-Serif\" font-size=\"14.00\" fill=\"#000000\">class = functional</text>\n</g>\n<!-- 2&#45;&gt;10 -->\n<g id=\"edge10\" class=\"edge\">\n<title>2&#45;&gt;10</title>\n<path fill=\"none\" stroke=\"#000000\" d=\"M616.2748,-400.9465C630.2139,-389.1606 645.8112,-375.9726 659.6732,-364.2519\"/>\n<polygon fill=\"#000000\" stroke=\"#000000\" points=\"662.2324,-366.6715 667.6088,-357.5422 657.7127,-361.3262 662.2324,-366.6715\"/>\n</g>\n<!-- 4 -->\n<g id=\"node5\" class=\"node\">\n<title>4</title>\n<path fill=\"#f3c5a4\" stroke=\"#000000\" d=\"M458.5,-261C458.5,-261 181.5,-261 181.5,-261 175.5,-261 169.5,-255 169.5,-249 169.5,-249 169.5,-205 169.5,-205 169.5,-199 175.5,-193 181.5,-193 181.5,-193 458.5,-193 458.5,-193 464.5,-193 470.5,-199 470.5,-205 470.5,-205 470.5,-249 470.5,-249 470.5,-255 464.5,-261 458.5,-261\"/>\n<text text-anchor=\"middle\" x=\"320\" y=\"-245.8\" font-family=\"Helvetica,sans-Serif\" font-size=\"14.00\" fill=\"#000000\">extraction_type_class_wind&#45;powered &lt;= 0.5</text>\n<text text-anchor=\"middle\" x=\"320\" y=\"-230.8\" font-family=\"Helvetica,sans-Serif\" font-size=\"14.00\" fill=\"#000000\">samples = 28.7%</text>\n<text text-anchor=\"middle\" x=\"320\" y=\"-215.8\" font-family=\"Helvetica,sans-Serif\" font-size=\"14.00\" fill=\"#000000\">value = [0.629, 0.059, 0.311]</text>\n<text text-anchor=\"middle\" x=\"320\" y=\"-200.8\" font-family=\"Helvetica,sans-Serif\" font-size=\"14.00\" fill=\"#000000\">class = functional</text>\n</g>\n<!-- 3&#45;&gt;4 -->\n<g id=\"edge4\" class=\"edge\">\n<title>3&#45;&gt;4</title>\n<path fill=\"none\" stroke=\"#000000\" d=\"M410.1234,-296.9465C397.9765,-287.519 384.6738,-277.1946 372.1073,-267.4415\"/>\n<polygon fill=\"#000000\" stroke=\"#000000\" points=\"374.021,-264.4963 363.9752,-261.13 369.7291,-270.0262 374.021,-264.4963\"/>\n</g>\n<!-- 9 -->\n<g id=\"node10\" class=\"node\">\n<title>9</title>\n<path fill=\"#f4c9aa\" stroke=\"#000000\" d=\"M677,-253.5C677,-253.5 501,-253.5 501,-253.5 495,-253.5 489,-247.5 489,-241.5 489,-241.5 489,-212.5 489,-212.5 489,-206.5 495,-200.5 501,-200.5 501,-200.5 677,-200.5 677,-200.5 683,-200.5 689,-206.5 689,-212.5 689,-212.5 689,-241.5 689,-241.5 689,-247.5 683,-253.5 677,-253.5\"/>\n<text text-anchor=\"middle\" x=\"589\" y=\"-238.3\" font-family=\"Helvetica,sans-Serif\" font-size=\"14.00\" fill=\"#000000\">samples = 45.1%</text>\n<text text-anchor=\"middle\" x=\"589\" y=\"-223.3\" font-family=\"Helvetica,sans-Serif\" font-size=\"14.00\" fill=\"#000000\">value = [0.599, 0.101, 0.299]</text>\n<text text-anchor=\"middle\" x=\"589\" y=\"-208.3\" font-family=\"Helvetica,sans-Serif\" font-size=\"14.00\" fill=\"#000000\">class = functional</text>\n</g>\n<!-- 3&#45;&gt;9 -->\n<g id=\"edge9\" class=\"edge\">\n<title>3&#45;&gt;9</title>\n<path fill=\"none\" stroke=\"#000000\" d=\"M498.204,-296.9465C513.6461,-285.0504 530.9422,-271.726 546.2625,-259.9237\"/>\n<polygon fill=\"#000000\" stroke=\"#000000\" points=\"548.7603,-262.4176 554.5462,-253.5422 544.4883,-256.8723 548.7603,-262.4176\"/>\n</g>\n<!-- 5 -->\n<g id=\"node6\" class=\"node\">\n<title>5</title>\n<path fill=\"#f3c4a3\" stroke=\"#000000\" d=\"M319,-157C319,-157 63,-157 63,-157 57,-157 51,-151 51,-145 51,-145 51,-101 51,-101 51,-95 57,-89 63,-89 63,-89 319,-89 319,-89 325,-89 331,-95 331,-101 331,-101 331,-145 331,-145 331,-151 325,-157 319,-157\"/>\n<text text-anchor=\"middle\" x=\"191\" y=\"-141.8\" font-family=\"Helvetica,sans-Serif\" font-size=\"14.00\" fill=\"#000000\">extraction_type_class_rope pump &lt;= 0.5</text>\n<text text-anchor=\"middle\" x=\"191\" y=\"-126.8\" font-family=\"Helvetica,sans-Serif\" font-size=\"14.00\" fill=\"#000000\">samples = 28.5%</text>\n<text text-anchor=\"middle\" x=\"191\" y=\"-111.8\" font-family=\"Helvetica,sans-Serif\" font-size=\"14.00\" fill=\"#000000\">value = [0.631, 0.059, 0.31]</text>\n<text text-anchor=\"middle\" x=\"191\" y=\"-96.8\" font-family=\"Helvetica,sans-Serif\" font-size=\"14.00\" fill=\"#000000\">class = functional</text>\n</g>\n<!-- 4&#45;&gt;5 -->\n<g id=\"edge5\" class=\"edge\">\n<title>4&#45;&gt;5</title>\n<path fill=\"none\" stroke=\"#000000\" d=\"M277.7606,-192.9465C266.0669,-183.519 253.2606,-173.1946 241.163,-163.4415\"/>\n<polygon fill=\"#000000\" stroke=\"#000000\" points=\"243.3162,-160.6816 233.3343,-157.13 238.9227,-166.1312 243.3162,-160.6816\"/>\n</g>\n<!-- 8 -->\n<g id=\"node9\" class=\"node\">\n<title>8</title>\n<path fill=\"#f8f3fd\" stroke=\"#000000\" d=\"M537,-149.5C537,-149.5 361,-149.5 361,-149.5 355,-149.5 349,-143.5 349,-137.5 349,-137.5 349,-108.5 349,-108.5 349,-102.5 355,-96.5 361,-96.5 361,-96.5 537,-96.5 537,-96.5 543,-96.5 549,-102.5 549,-108.5 549,-108.5 549,-137.5 549,-137.5 549,-143.5 543,-149.5 537,-149.5\"/>\n<text text-anchor=\"middle\" x=\"449\" y=\"-134.3\" font-family=\"Helvetica,sans-Serif\" font-size=\"14.00\" fill=\"#000000\">samples = 0.2%</text>\n<text text-anchor=\"middle\" x=\"449\" y=\"-119.3\" font-family=\"Helvetica,sans-Serif\" font-size=\"14.00\" fill=\"#000000\">value = [0.452, 0.065, 0.484]</text>\n<text text-anchor=\"middle\" x=\"449\" y=\"-104.3\" font-family=\"Helvetica,sans-Serif\" font-size=\"14.00\" fill=\"#000000\">class = non functional</text>\n</g>\n<!-- 4&#45;&gt;8 -->\n<g id=\"edge8\" class=\"edge\">\n<title>4&#45;&gt;8</title>\n<path fill=\"none\" stroke=\"#000000\" d=\"M362.2394,-192.9465C376.9952,-181.0504 393.5225,-167.726 408.162,-155.9237\"/>\n<polygon fill=\"#000000\" stroke=\"#000000\" points=\"410.4891,-158.5433 416.0775,-149.5422 406.0957,-153.0938 410.4891,-158.5433\"/>\n</g>\n<!-- 6 -->\n<g id=\"node7\" class=\"node\">\n<title>6</title>\n<path fill=\"#f3c5a3\" stroke=\"#000000\" d=\"M164,-53C164,-53 12,-53 12,-53 6,-53 0,-47 0,-41 0,-41 0,-12 0,-12 0,-6 6,0 12,0 12,0 164,0 164,0 170,0 176,-6 176,-12 176,-12 176,-41 176,-41 176,-47 170,-53 164,-53\"/>\n<text text-anchor=\"middle\" x=\"88\" y=\"-37.8\" font-family=\"Helvetica,sans-Serif\" font-size=\"14.00\" fill=\"#000000\">samples = 27.7%</text>\n<text text-anchor=\"middle\" x=\"88\" y=\"-22.8\" font-family=\"Helvetica,sans-Serif\" font-size=\"14.00\" fill=\"#000000\">value = [0.63, 0.06, 0.31]</text>\n<text text-anchor=\"middle\" x=\"88\" y=\"-7.8\" font-family=\"Helvetica,sans-Serif\" font-size=\"14.00\" fill=\"#000000\">class = functional</text>\n</g>\n<!-- 5&#45;&gt;6 -->\n<g id=\"edge6\" class=\"edge\">\n<title>5&#45;&gt;6</title>\n<path fill=\"none\" stroke=\"#000000\" d=\"M154.6861,-88.9777C144.7168,-79.6376 133.9138,-69.5163 123.9643,-60.1947\"/>\n<polygon fill=\"#000000\" stroke=\"#000000\" points=\"126.2408,-57.5314 116.5502,-53.2485 121.4548,-62.6397 126.2408,-57.5314\"/>\n</g>\n<!-- 7 -->\n<g id=\"node8\" class=\"node\">\n<title>7</title>\n<path fill=\"#f2bf9b\" stroke=\"#000000\" d=\"M382,-53C382,-53 206,-53 206,-53 200,-53 194,-47 194,-41 194,-41 194,-12 194,-12 194,-6 200,0 206,0 206,0 382,0 382,0 388,0 394,-6 394,-12 394,-12 394,-41 394,-41 394,-47 388,-53 382,-53\"/>\n<text text-anchor=\"middle\" x=\"294\" y=\"-37.8\" font-family=\"Helvetica,sans-Serif\" font-size=\"14.00\" fill=\"#000000\">samples = 0.7%</text>\n<text text-anchor=\"middle\" x=\"294\" y=\"-22.8\" font-family=\"Helvetica,sans-Serif\" font-size=\"14.00\" fill=\"#000000\">value = [0.657, 0.037, 0.306]</text>\n<text text-anchor=\"middle\" x=\"294\" y=\"-7.8\" font-family=\"Helvetica,sans-Serif\" font-size=\"14.00\" fill=\"#000000\">class = functional</text>\n</g>\n<!-- 5&#45;&gt;7 -->\n<g id=\"edge7\" class=\"edge\">\n<title>5&#45;&gt;7</title>\n<path fill=\"none\" stroke=\"#000000\" d=\"M227.3139,-88.9777C237.2832,-79.6376 248.0862,-69.5163 258.0357,-60.1947\"/>\n<polygon fill=\"#000000\" stroke=\"#000000\" points=\"260.5452,-62.6397 265.4498,-53.2485 255.7592,-57.5314 260.5452,-62.6397\"/>\n</g>\n</g>\n</svg>\n"
          },
          "metadata": {
            "tags": []
          }
        }
      ]
    },
    {
      "cell_type": "markdown",
      "metadata": {
        "colab_type": "text",
        "id": "QUd6gzcZgLVz"
      },
      "source": [
        "### [Ordinal Encoding](http://contrib.scikit-learn.org/categorical-encoding/ordinal.html)\n",
        "\n",
        "> Ordinal encoding uses a single column of integers to represent the classes. An optional mapping dict can be passed in; in this case, we use the knowledge that there is some true order to the classes themselves. Otherwise, the classes are assumed to have no true order and integers are selected at random."
      ]
    },
    {
      "cell_type": "code",
      "metadata": {
        "colab_type": "code",
        "id": "CnBz2RbwgLVz",
        "colab": {
          "base_uri": "https://localhost:8080/",
          "height": 686
        },
        "outputId": "e78565a6-efbb-445d-fbaf-372cd5d28b58"
      },
      "source": [
        "encoder = ce.OrdinalEncoder()\n",
        "encoded = encoder.fit_transform(X_train[[feature]])\n",
        "print(f'1 column, {encoded[feature].nunique()} unique values')\n",
        "encoded.head(20)"
      ],
      "execution_count": 31,
      "outputs": [
        {
          "output_type": "stream",
          "text": [
            "1 column, 7 unique values\n"
          ],
          "name": "stdout"
        },
        {
          "output_type": "execute_result",
          "data": {
            "text/html": [
              "<div>\n",
              "<style scoped>\n",
              "    .dataframe tbody tr th:only-of-type {\n",
              "        vertical-align: middle;\n",
              "    }\n",
              "\n",
              "    .dataframe tbody tr th {\n",
              "        vertical-align: top;\n",
              "    }\n",
              "\n",
              "    .dataframe thead th {\n",
              "        text-align: right;\n",
              "    }\n",
              "</style>\n",
              "<table border=\"1\" class=\"dataframe\">\n",
              "  <thead>\n",
              "    <tr style=\"text-align: right;\">\n",
              "      <th></th>\n",
              "      <th>extraction_type_class</th>\n",
              "    </tr>\n",
              "  </thead>\n",
              "  <tbody>\n",
              "    <tr>\n",
              "      <th>43360</th>\n",
              "      <td>1</td>\n",
              "    </tr>\n",
              "    <tr>\n",
              "      <th>7263</th>\n",
              "      <td>1</td>\n",
              "    </tr>\n",
              "    <tr>\n",
              "      <th>2486</th>\n",
              "      <td>2</td>\n",
              "    </tr>\n",
              "    <tr>\n",
              "      <th>313</th>\n",
              "      <td>3</td>\n",
              "    </tr>\n",
              "    <tr>\n",
              "      <th>52726</th>\n",
              "      <td>4</td>\n",
              "    </tr>\n",
              "    <tr>\n",
              "      <th>8558</th>\n",
              "      <td>1</td>\n",
              "    </tr>\n",
              "    <tr>\n",
              "      <th>2559</th>\n",
              "      <td>1</td>\n",
              "    </tr>\n",
              "    <tr>\n",
              "      <th>54735</th>\n",
              "      <td>4</td>\n",
              "    </tr>\n",
              "    <tr>\n",
              "      <th>25763</th>\n",
              "      <td>2</td>\n",
              "    </tr>\n",
              "    <tr>\n",
              "      <th>44540</th>\n",
              "      <td>5</td>\n",
              "    </tr>\n",
              "    <tr>\n",
              "      <th>28603</th>\n",
              "      <td>3</td>\n",
              "    </tr>\n",
              "    <tr>\n",
              "      <th>4372</th>\n",
              "      <td>5</td>\n",
              "    </tr>\n",
              "    <tr>\n",
              "      <th>30666</th>\n",
              "      <td>1</td>\n",
              "    </tr>\n",
              "    <tr>\n",
              "      <th>6431</th>\n",
              "      <td>5</td>\n",
              "    </tr>\n",
              "    <tr>\n",
              "      <th>57420</th>\n",
              "      <td>3</td>\n",
              "    </tr>\n",
              "    <tr>\n",
              "      <th>1373</th>\n",
              "      <td>1</td>\n",
              "    </tr>\n",
              "    <tr>\n",
              "      <th>2026</th>\n",
              "      <td>1</td>\n",
              "    </tr>\n",
              "    <tr>\n",
              "      <th>58977</th>\n",
              "      <td>2</td>\n",
              "    </tr>\n",
              "    <tr>\n",
              "      <th>41101</th>\n",
              "      <td>1</td>\n",
              "    </tr>\n",
              "    <tr>\n",
              "      <th>10019</th>\n",
              "      <td>1</td>\n",
              "    </tr>\n",
              "  </tbody>\n",
              "</table>\n",
              "</div>"
            ],
            "text/plain": [
              "       extraction_type_class\n",
              "43360                      1\n",
              "7263                       1\n",
              "2486                       2\n",
              "313                        3\n",
              "52726                      4\n",
              "8558                       1\n",
              "2559                       1\n",
              "54735                      4\n",
              "25763                      2\n",
              "44540                      5\n",
              "28603                      3\n",
              "4372                       5\n",
              "30666                      1\n",
              "6431                       5\n",
              "57420                      3\n",
              "1373                       1\n",
              "2026                       1\n",
              "58977                      2\n",
              "41101                      1\n",
              "10019                      1"
            ]
          },
          "metadata": {
            "tags": []
          },
          "execution_count": 31
        }
      ]
    },
    {
      "cell_type": "markdown",
      "metadata": {
        "colab_type": "text",
        "id": "Nd-ZWprasqUM"
      },
      "source": [
        "#### Ordinal Encoding, Logistic Regression, Validation Accuracy"
      ]
    },
    {
      "cell_type": "code",
      "metadata": {
        "colab_type": "code",
        "id": "GJ1YpwjvrhfL",
        "colab": {
          "base_uri": "https://localhost:8080/",
          "height": 34
        },
        "outputId": "627ece1c-6ed5-4e7a-d135-3756850063d6"
      },
      "source": [
        "# 別用ordinal encoding於linear_model\n",
        "# 這樣做就會加些沒意思的資料，而讓模特的準確性降低一點\n",
        "\n",
        "lr = make_pipeline(\n",
        "    ce.OrdinalEncoder(), \n",
        "    SimpleImputer(), \n",
        "    StandardScaler(), \n",
        "    LogisticRegressionCV(multi_class = 'auto', cv = 5, n_jobs = -1)\n",
        ")\n",
        "\n",
        "lr.fit(X_train[[feature]], y_train)\n",
        "score = lr.score(X_val[[feature]], y_val)\n",
        "print('Logistic Regression, Validation Accuracy:', round(score * 100, 2), '%')"
      ],
      "execution_count": 32,
      "outputs": [
        {
          "output_type": "stream",
          "text": [
            "Logistic Regression, Validation Accuracy: 54.18 %\n"
          ],
          "name": "stdout"
        }
      ]
    },
    {
      "cell_type": "markdown",
      "metadata": {
        "colab_type": "text",
        "id": "9lO_R3SksuHs"
      },
      "source": [
        "#### Ordinal Encoding, Decision Tree, Validation Accuracy"
      ]
    },
    {
      "cell_type": "code",
      "metadata": {
        "colab_type": "code",
        "id": "aOELD_roriVI",
        "colab": {
          "base_uri": "https://localhost:8080/",
          "height": 34
        },
        "outputId": "acf69dac-18a1-4687-c800-7c3063e0f876"
      },
      "source": [
        "dt = make_pipeline(\n",
        "    ce.OrdinalEncoder(), \n",
        "    SimpleImputer(), \n",
        "    DecisionTreeClassifier(random_state=42)\n",
        ")\n",
        "\n",
        "dt.fit(X_train[[feature]], y_train)\n",
        "score = dt.score(X_val[[feature]], y_val)\n",
        "print('Decision Tree, Validation Accuracy:', round(score * 100, 2), '%')"
      ],
      "execution_count": 33,
      "outputs": [
        {
          "output_type": "stream",
          "text": [
            "Decision Tree, Validation Accuracy: 62.03 %\n"
          ],
          "name": "stdout"
        }
      ]
    },
    {
      "cell_type": "markdown",
      "metadata": {
        "colab_type": "text",
        "id": "7V2zHjiwswTg"
      },
      "source": [
        "#### Ordinal Encoding, Logistic Regression, Model Interpretation"
      ]
    },
    {
      "cell_type": "code",
      "metadata": {
        "colab_type": "code",
        "id": "S9UPYPois8QR",
        "colab": {
          "base_uri": "https://localhost:8080/",
          "height": 265
        },
        "outputId": "a0fde450-c63d-4d28-86e2-63385ffd51c7"
      },
      "source": [
        "model = lr.named_steps['logisticregressioncv']\n",
        "encoder = lr.named_steps['ordinalencoder']\n",
        "encoded_columns = encoder.transform(X_val[[feature]]).columns\n",
        "coefficients = pd.Series(model.coef_[0], encoded_columns)\n",
        "coefficients.sort_values().plot.barh();"
      ],
      "execution_count": 34,
      "outputs": [
        {
          "output_type": "display_data",
          "data": {
            "image/png": "[encoded data removed]",
            "text/plain": [
              "<Figure size 432x288 with 1 Axes>"
            ]
          },
          "metadata": {
            "tags": [],
            "needs_background": "light"
          }
        }
      ]
    },
    {
      "cell_type": "markdown",
      "metadata": {
        "colab_type": "text",
        "id": "MvmmvE8fsymh"
      },
      "source": [
        "#### Ordinal Encoding, Decision Tree, Model Interpretation"
      ]
    },
    {
      "cell_type": "code",
      "metadata": {
        "colab_type": "code",
        "id": "jCvUu4Oms88b",
        "colab": {
          "base_uri": "https://localhost:8080/",
          "height": 816
        },
        "outputId": "0c5126b7-b8b7-4f6f-9b37-03a7e9baf546"
      },
      "source": [
        "model = dt.named_steps['decisiontreeclassifier']\n",
        "encoder = dt.named_steps['ordinalencoder']\n",
        "encoded_columns = encoder.transform(X_val[[feature]]).columns\n",
        "\n",
        "dot_data = export_graphviz(model, \n",
        "                           out_file = None, \n",
        "                           max_depth = 5, \n",
        "                           feature_names = encoded_columns,\n",
        "                           class_names = model.classes_, \n",
        "                           impurity = False, \n",
        "                           filled = True, \n",
        "                           proportion = True, \n",
        "                           rounded = True)  \n",
        " \n",
        "display(graphviz.Source(dot_data))"
      ],
      "execution_count": 35,
      "outputs": [
        {
          "output_type": "display_data",
          "data": {
            "text/plain": [
              "<graphviz.files.Source at 0x7f90ced6a908>"
            ],
            "image/svg+xml": "<?xml version=\"1.0\" encoding=\"UTF-8\" standalone=\"no\"?>\n<!DOCTYPE svg PUBLIC \"-//W3C//DTD SVG 1.1//EN\"\n \"http://www.w3.org/Graphics/SVG/1.1/DTD/svg11.dtd\">\n<!-- Generated by graphviz version 2.40.1 (20161225.0304)\n -->\n<!-- Title: Tree Pages: 1 -->\n<svg width=\"1167pt\" height=\"581pt\"\n viewBox=\"0.00 0.00 1167.00 581.00\" xmlns=\"http://www.w3.org/2000/svg\" xmlns:xlink=\"http://www.w3.org/1999/xlink\">\n<g id=\"graph0\" class=\"graph\" transform=\"scale(1 1) rotate(0) translate(4 577)\">\n<title>Tree</title>\n<polygon fill=\"#ffffff\" stroke=\"transparent\" points=\"-4,4 -4,-577 1163,-577 1163,4 -4,4\"/>\n<!-- 0 -->\n<g id=\"node1\" class=\"node\">\n<title>0</title>\n<path fill=\"#f8decc\" stroke=\"#000000\" d=\"M500,-573C500,-573 322,-573 322,-573 316,-573 310,-567 310,-561 310,-561 310,-517 310,-517 310,-511 316,-505 322,-505 322,-505 500,-505 500,-505 506,-505 512,-511 512,-517 512,-517 512,-561 512,-561 512,-567 506,-573 500,-573\"/>\n<text text-anchor=\"middle\" x=\"411\" y=\"-557.8\" font-family=\"Helvetica,sans-Serif\" font-size=\"14.00\" fill=\"#000000\">extraction_type_class &lt;= 2.5</text>\n<text text-anchor=\"middle\" x=\"411\" y=\"-542.8\" font-family=\"Helvetica,sans-Serif\" font-size=\"14.00\" fill=\"#000000\">samples = 100.0%</text>\n<text text-anchor=\"middle\" x=\"411\" y=\"-527.8\" font-family=\"Helvetica,sans-Serif\" font-size=\"14.00\" fill=\"#000000\">value = [0.543, 0.073, 0.384]</text>\n<text text-anchor=\"middle\" x=\"411\" y=\"-512.8\" font-family=\"Helvetica,sans-Serif\" font-size=\"14.00\" fill=\"#000000\">class = functional</text>\n</g>\n<!-- 1 -->\n<g id=\"node2\" class=\"node\">\n<title>1</title>\n<path fill=\"#f4c7a8\" stroke=\"#000000\" d=\"M390,-469C390,-469 212,-469 212,-469 206,-469 200,-463 200,-457 200,-457 200,-413 200,-413 200,-407 206,-401 212,-401 212,-401 390,-401 390,-401 396,-401 402,-407 402,-413 402,-413 402,-457 402,-457 402,-463 396,-469 390,-469\"/>\n<text text-anchor=\"middle\" x=\"301\" y=\"-453.8\" font-family=\"Helvetica,sans-Serif\" font-size=\"14.00\" fill=\"#000000\">extraction_type_class &lt;= 1.5</text>\n<text text-anchor=\"middle\" x=\"301\" y=\"-438.8\" font-family=\"Helvetica,sans-Serif\" font-size=\"14.00\" fill=\"#000000\">samples = 72.9%</text>\n<text text-anchor=\"middle\" x=\"301\" y=\"-423.8\" font-family=\"Helvetica,sans-Serif\" font-size=\"14.00\" fill=\"#000000\">value = [0.611, 0.085, 0.304]</text>\n<text text-anchor=\"middle\" x=\"301\" y=\"-408.8\" font-family=\"Helvetica,sans-Serif\" font-size=\"14.00\" fill=\"#000000\">class = functional</text>\n</g>\n<!-- 0&#45;&gt;1 -->\n<g id=\"edge1\" class=\"edge\">\n<title>0&#45;&gt;1</title>\n<path fill=\"none\" stroke=\"#000000\" d=\"M374.9819,-504.9465C365.2954,-495.7884 354.7136,-485.7838 344.6603,-476.2788\"/>\n<polygon fill=\"#000000\" stroke=\"#000000\" points=\"346.7701,-473.4569 337.099,-469.13 341.961,-478.5434 346.7701,-473.4569\"/>\n<text text-anchor=\"middle\" x=\"337.7997\" y=\"-490.4202\" font-family=\"Helvetica,sans-Serif\" font-size=\"14.00\" fill=\"#000000\">True</text>\n</g>\n<!-- 4 -->\n<g id=\"node5\" class=\"node\">\n<title>4</title>\n<path fill=\"#d0b4f5\" stroke=\"#000000\" d=\"M610,-469C610,-469 432,-469 432,-469 426,-469 420,-463 420,-457 420,-457 420,-413 420,-413 420,-407 426,-401 432,-401 432,-401 610,-401 610,-401 616,-401 622,-407 622,-413 622,-413 622,-457 622,-457 622,-463 616,-469 610,-469\"/>\n<text text-anchor=\"middle\" x=\"521\" y=\"-453.8\" font-family=\"Helvetica,sans-Serif\" font-size=\"14.00\" fill=\"#000000\">extraction_type_class &lt;= 3.5</text>\n<text text-anchor=\"middle\" x=\"521\" y=\"-438.8\" font-family=\"Helvetica,sans-Serif\" font-size=\"14.00\" fill=\"#000000\">samples = 27.1%</text>\n<text text-anchor=\"middle\" x=\"521\" y=\"-423.8\" font-family=\"Helvetica,sans-Serif\" font-size=\"14.00\" fill=\"#000000\">value = [0.361, 0.038, 0.601]</text>\n<text text-anchor=\"middle\" x=\"521\" y=\"-408.8\" font-family=\"Helvetica,sans-Serif\" font-size=\"14.00\" fill=\"#000000\">class = non functional</text>\n</g>\n<!-- 0&#45;&gt;4 -->\n<g id=\"edge4\" class=\"edge\">\n<title>0&#45;&gt;4</title>\n<path fill=\"none\" stroke=\"#000000\" d=\"M447.0181,-504.9465C456.7046,-495.7884 467.2864,-485.7838 477.3397,-476.2788\"/>\n<polygon fill=\"#000000\" stroke=\"#000000\" points=\"480.039,-478.5434 484.901,-469.13 475.2299,-473.4569 480.039,-478.5434\"/>\n<text text-anchor=\"middle\" x=\"484.2003\" y=\"-490.4202\" font-family=\"Helvetica,sans-Serif\" font-size=\"14.00\" fill=\"#000000\">False</text>\n</g>\n<!-- 2 -->\n<g id=\"node3\" class=\"node\">\n<title>2</title>\n<path fill=\"#f4c9aa\" stroke=\"#000000\" d=\"M188,-357.5C188,-357.5 12,-357.5 12,-357.5 6,-357.5 0,-351.5 0,-345.5 0,-345.5 0,-316.5 0,-316.5 0,-310.5 6,-304.5 12,-304.5 12,-304.5 188,-304.5 188,-304.5 194,-304.5 200,-310.5 200,-316.5 200,-316.5 200,-345.5 200,-345.5 200,-351.5 194,-357.5 188,-357.5\"/>\n<text text-anchor=\"middle\" x=\"100\" y=\"-342.3\" font-family=\"Helvetica,sans-Serif\" font-size=\"14.00\" fill=\"#000000\">samples = 45.1%</text>\n<text text-anchor=\"middle\" x=\"100\" y=\"-327.3\" font-family=\"Helvetica,sans-Serif\" font-size=\"14.00\" fill=\"#000000\">value = [0.599, 0.101, 0.299]</text>\n<text text-anchor=\"middle\" x=\"100\" y=\"-312.3\" font-family=\"Helvetica,sans-Serif\" font-size=\"14.00\" fill=\"#000000\">class = functional</text>\n</g>\n<!-- 1&#45;&gt;2 -->\n<g id=\"edge2\" class=\"edge\">\n<title>1&#45;&gt;2</title>\n<path fill=\"none\" stroke=\"#000000\" d=\"M235.1851,-400.9465C211.1292,-388.4997 184.0513,-374.4892 160.4827,-362.2946\"/>\n<polygon fill=\"#000000\" stroke=\"#000000\" points=\"161.7878,-359.0291 151.2978,-357.5422 158.571,-365.2462 161.7878,-359.0291\"/>\n</g>\n<!-- 3 -->\n<g id=\"node4\" class=\"node\">\n<title>3</title>\n<path fill=\"#f3c5a3\" stroke=\"#000000\" d=\"M382,-357.5C382,-357.5 230,-357.5 230,-357.5 224,-357.5 218,-351.5 218,-345.5 218,-345.5 218,-316.5 218,-316.5 218,-310.5 224,-304.5 230,-304.5 230,-304.5 382,-304.5 382,-304.5 388,-304.5 394,-310.5 394,-316.5 394,-316.5 394,-345.5 394,-345.5 394,-351.5 388,-357.5 382,-357.5\"/>\n<text text-anchor=\"middle\" x=\"306\" y=\"-342.3\" font-family=\"Helvetica,sans-Serif\" font-size=\"14.00\" fill=\"#000000\">samples = 27.7%</text>\n<text text-anchor=\"middle\" x=\"306\" y=\"-327.3\" font-family=\"Helvetica,sans-Serif\" font-size=\"14.00\" fill=\"#000000\">value = [0.63, 0.06, 0.31]</text>\n<text text-anchor=\"middle\" x=\"306\" y=\"-312.3\" font-family=\"Helvetica,sans-Serif\" font-size=\"14.00\" fill=\"#000000\">class = functional</text>\n</g>\n<!-- 1&#45;&gt;3 -->\n<g id=\"edge3\" class=\"edge\">\n<title>1&#45;&gt;3</title>\n<path fill=\"none\" stroke=\"#000000\" d=\"M302.6372,-400.9465C303.1509,-390.2621 303.7199,-378.4254 304.2416,-367.5742\"/>\n<polygon fill=\"#000000\" stroke=\"#000000\" points=\"307.7396,-367.6987 304.7239,-357.5422 300.7477,-367.3625 307.7396,-367.6987\"/>\n</g>\n<!-- 5 -->\n<g id=\"node6\" class=\"node\">\n<title>5</title>\n<path fill=\"#9d66eb\" stroke=\"#000000\" d=\"M601,-357.5C601,-357.5 433,-357.5 433,-357.5 427,-357.5 421,-351.5 421,-345.5 421,-345.5 421,-316.5 421,-316.5 421,-310.5 427,-304.5 433,-304.5 433,-304.5 601,-304.5 601,-304.5 607,-304.5 613,-310.5 613,-316.5 613,-316.5 613,-345.5 613,-345.5 613,-351.5 607,-357.5 601,-357.5\"/>\n<text text-anchor=\"middle\" x=\"517\" y=\"-342.3\" font-family=\"Helvetica,sans-Serif\" font-size=\"14.00\" fill=\"#000000\">samples = 10.9%</text>\n<text text-anchor=\"middle\" x=\"517\" y=\"-327.3\" font-family=\"Helvetica,sans-Serif\" font-size=\"14.00\" fill=\"#000000\">value = [0.159, 0.031, 0.81]</text>\n<text text-anchor=\"middle\" x=\"517\" y=\"-312.3\" font-family=\"Helvetica,sans-Serif\" font-size=\"14.00\" fill=\"#000000\">class = non functional</text>\n</g>\n<!-- 4&#45;&gt;5 -->\n<g id=\"edge5\" class=\"edge\">\n<title>4&#45;&gt;5</title>\n<path fill=\"none\" stroke=\"#000000\" d=\"M519.6903,-400.9465C519.2793,-390.2621 518.8241,-378.4254 518.4067,-367.5742\"/>\n<polygon fill=\"#000000\" stroke=\"#000000\" points=\"521.9027,-367.4002 518.0209,-357.5422 514.9079,-367.6693 521.9027,-367.4002\"/>\n</g>\n<!-- 6 -->\n<g id=\"node7\" class=\"node\">\n<title>6</title>\n<path fill=\"#fdf7f2\" stroke=\"#000000\" d=\"M821,-365C821,-365 643,-365 643,-365 637,-365 631,-359 631,-353 631,-353 631,-309 631,-309 631,-303 637,-297 643,-297 643,-297 821,-297 821,-297 827,-297 833,-303 833,-309 833,-309 833,-353 833,-353 833,-359 827,-365 821,-365\"/>\n<text text-anchor=\"middle\" x=\"732\" y=\"-349.8\" font-family=\"Helvetica,sans-Serif\" font-size=\"14.00\" fill=\"#000000\">extraction_type_class &lt;= 4.5</text>\n<text text-anchor=\"middle\" x=\"732\" y=\"-334.8\" font-family=\"Helvetica,sans-Serif\" font-size=\"14.00\" fill=\"#000000\">samples = 16.2%</text>\n<text text-anchor=\"middle\" x=\"732\" y=\"-319.8\" font-family=\"Helvetica,sans-Serif\" font-size=\"14.00\" fill=\"#000000\">value = [0.497, 0.043, 0.46]</text>\n<text text-anchor=\"middle\" x=\"732\" y=\"-304.8\" font-family=\"Helvetica,sans-Serif\" font-size=\"14.00\" fill=\"#000000\">class = functional</text>\n</g>\n<!-- 4&#45;&gt;6 -->\n<g id=\"edge6\" class=\"edge\">\n<title>4&#45;&gt;6</title>\n<path fill=\"none\" stroke=\"#000000\" d=\"M590.0893,-400.9465C610.4002,-390.9354 632.7633,-379.9129 653.6112,-369.6371\"/>\n<polygon fill=\"#000000\" stroke=\"#000000\" points=\"655.3332,-372.6905 662.7555,-365.13 652.2385,-366.4117 655.3332,-372.6905\"/>\n</g>\n<!-- 7 -->\n<g id=\"node8\" class=\"node\">\n<title>7</title>\n<path fill=\"#d8c1f7\" stroke=\"#000000\" d=\"M710,-253.5C710,-253.5 534,-253.5 534,-253.5 528,-253.5 522,-247.5 522,-241.5 522,-241.5 522,-212.5 522,-212.5 522,-206.5 528,-200.5 534,-200.5 534,-200.5 710,-200.5 710,-200.5 716,-200.5 722,-206.5 722,-212.5 722,-212.5 722,-241.5 722,-241.5 722,-247.5 716,-253.5 710,-253.5\"/>\n<text text-anchor=\"middle\" x=\"622\" y=\"-238.3\" font-family=\"Helvetica,sans-Serif\" font-size=\"14.00\" fill=\"#000000\">samples = 5.0%</text>\n<text text-anchor=\"middle\" x=\"622\" y=\"-223.3\" font-family=\"Helvetica,sans-Serif\" font-size=\"14.00\" fill=\"#000000\">value = [0.381, 0.045, 0.574]</text>\n<text text-anchor=\"middle\" x=\"622\" y=\"-208.3\" font-family=\"Helvetica,sans-Serif\" font-size=\"14.00\" fill=\"#000000\">class = non functional</text>\n</g>\n<!-- 6&#45;&gt;7 -->\n<g id=\"edge7\" class=\"edge\">\n<title>6&#45;&gt;7</title>\n<path fill=\"none\" stroke=\"#000000\" d=\"M695.9819,-296.9465C683.6325,-285.2707 669.8278,-272.219 657.5183,-260.5809\"/>\n<polygon fill=\"#000000\" stroke=\"#000000\" points=\"659.7445,-257.869 650.0734,-253.5422 654.9354,-262.9556 659.7445,-257.869\"/>\n</g>\n<!-- 8 -->\n<g id=\"node9\" class=\"node\">\n<title>8</title>\n<path fill=\"#f9e2d1\" stroke=\"#000000\" d=\"M930,-261C930,-261 752,-261 752,-261 746,-261 740,-255 740,-249 740,-249 740,-205 740,-205 740,-199 746,-193 752,-193 752,-193 930,-193 930,-193 936,-193 942,-199 942,-205 942,-205 942,-249 942,-249 942,-255 936,-261 930,-261\"/>\n<text text-anchor=\"middle\" x=\"841\" y=\"-245.8\" font-family=\"Helvetica,sans-Serif\" font-size=\"14.00\" fill=\"#000000\">extraction_type_class &lt;= 5.5</text>\n<text text-anchor=\"middle\" x=\"841\" y=\"-230.8\" font-family=\"Helvetica,sans-Serif\" font-size=\"14.00\" fill=\"#000000\">samples = 11.2%</text>\n<text text-anchor=\"middle\" x=\"841\" y=\"-215.8\" font-family=\"Helvetica,sans-Serif\" font-size=\"14.00\" fill=\"#000000\">value = [0.548, 0.042, 0.41]</text>\n<text text-anchor=\"middle\" x=\"841\" y=\"-200.8\" font-family=\"Helvetica,sans-Serif\" font-size=\"14.00\" fill=\"#000000\">class = functional</text>\n</g>\n<!-- 6&#45;&gt;8 -->\n<g id=\"edge8\" class=\"edge\">\n<title>6&#45;&gt;8</title>\n<path fill=\"none\" stroke=\"#000000\" d=\"M767.6907,-296.9465C777.2891,-287.7884 787.7747,-277.7838 797.7366,-268.2788\"/>\n<polygon fill=\"#000000\" stroke=\"#000000\" points=\"800.4102,-270.5655 805.2291,-261.13 795.5779,-265.5009 800.4102,-270.5655\"/>\n</g>\n<!-- 9 -->\n<g id=\"node10\" class=\"node\">\n<title>9</title>\n<path fill=\"#f9e4d5\" stroke=\"#000000\" d=\"M819,-149.5C819,-149.5 643,-149.5 643,-149.5 637,-149.5 631,-143.5 631,-137.5 631,-137.5 631,-108.5 631,-108.5 631,-102.5 637,-96.5 643,-96.5 643,-96.5 819,-96.5 819,-96.5 825,-96.5 831,-102.5 831,-108.5 831,-108.5 831,-137.5 831,-137.5 831,-143.5 825,-149.5 819,-149.5\"/>\n<text text-anchor=\"middle\" x=\"731\" y=\"-134.3\" font-family=\"Helvetica,sans-Serif\" font-size=\"14.00\" fill=\"#000000\">samples = 10.3%</text>\n<text text-anchor=\"middle\" x=\"731\" y=\"-119.3\" font-family=\"Helvetica,sans-Serif\" font-size=\"14.00\" fill=\"#000000\">value = [0.541, 0.042, 0.416]</text>\n<text text-anchor=\"middle\" x=\"731\" y=\"-104.3\" font-family=\"Helvetica,sans-Serif\" font-size=\"14.00\" fill=\"#000000\">class = functional</text>\n</g>\n<!-- 8&#45;&gt;9 -->\n<g id=\"edge9\" class=\"edge\">\n<title>8&#45;&gt;9</title>\n<path fill=\"none\" stroke=\"#000000\" d=\"M804.9819,-192.9465C792.6325,-181.2707 778.8278,-168.219 766.5183,-156.5809\"/>\n<polygon fill=\"#000000\" stroke=\"#000000\" points=\"768.7445,-153.869 759.0734,-149.5422 763.9354,-158.9556 768.7445,-153.869\"/>\n</g>\n<!-- 10 -->\n<g id=\"node11\" class=\"node\">\n<title>10</title>\n<path fill=\"#f4cbad\" stroke=\"#000000\" d=\"M1039,-157C1039,-157 861,-157 861,-157 855,-157 849,-151 849,-145 849,-145 849,-101 849,-101 849,-95 855,-89 861,-89 861,-89 1039,-89 1039,-89 1045,-89 1051,-95 1051,-101 1051,-101 1051,-145 1051,-145 1051,-151 1045,-157 1039,-157\"/>\n<text text-anchor=\"middle\" x=\"950\" y=\"-141.8\" font-family=\"Helvetica,sans-Serif\" font-size=\"14.00\" fill=\"#000000\">extraction_type_class &lt;= 6.5</text>\n<text text-anchor=\"middle\" x=\"950\" y=\"-126.8\" font-family=\"Helvetica,sans-Serif\" font-size=\"14.00\" fill=\"#000000\">samples = 0.9%</text>\n<text text-anchor=\"middle\" x=\"950\" y=\"-111.8\" font-family=\"Helvetica,sans-Serif\" font-size=\"14.00\" fill=\"#000000\">value = [0.614, 0.043, 0.343]</text>\n<text text-anchor=\"middle\" x=\"950\" y=\"-96.8\" font-family=\"Helvetica,sans-Serif\" font-size=\"14.00\" fill=\"#000000\">class = functional</text>\n</g>\n<!-- 8&#45;&gt;10 -->\n<g id=\"edge10\" class=\"edge\">\n<title>8&#45;&gt;10</title>\n<path fill=\"none\" stroke=\"#000000\" d=\"M876.6907,-192.9465C886.2891,-183.7884 896.7747,-173.7838 906.7366,-164.2788\"/>\n<polygon fill=\"#000000\" stroke=\"#000000\" points=\"909.4102,-166.5655 914.2291,-157.13 904.5779,-161.5009 909.4102,-166.5655\"/>\n</g>\n<!-- 11 -->\n<g id=\"node12\" class=\"node\">\n<title>11</title>\n<path fill=\"#f2bf9b\" stroke=\"#000000\" d=\"M929,-53C929,-53 753,-53 753,-53 747,-53 741,-47 741,-41 741,-41 741,-12 741,-12 741,-6 747,0 753,0 753,0 929,0 929,0 935,0 941,-6 941,-12 941,-12 941,-41 941,-41 941,-47 935,-53 929,-53\"/>\n<text text-anchor=\"middle\" x=\"841\" y=\"-37.8\" font-family=\"Helvetica,sans-Serif\" font-size=\"14.00\" fill=\"#000000\">samples = 0.7%</text>\n<text text-anchor=\"middle\" x=\"841\" y=\"-22.8\" font-family=\"Helvetica,sans-Serif\" font-size=\"14.00\" fill=\"#000000\">value = [0.657, 0.037, 0.306]</text>\n<text text-anchor=\"middle\" x=\"841\" y=\"-7.8\" font-family=\"Helvetica,sans-Serif\" font-size=\"14.00\" fill=\"#000000\">class = functional</text>\n</g>\n<!-- 10&#45;&gt;11 -->\n<g id=\"edge11\" class=\"edge\">\n<title>10&#45;&gt;11</title>\n<path fill=\"none\" stroke=\"#000000\" d=\"M911.5707,-88.9777C900.9173,-79.546 889.3641,-69.3178 878.7499,-59.9208\"/>\n<polygon fill=\"#000000\" stroke=\"#000000\" points=\"881.0207,-57.2566 871.2133,-53.2485 876.3806,-62.4978 881.0207,-57.2566\"/>\n</g>\n<!-- 12 -->\n<g id=\"node13\" class=\"node\">\n<title>12</title>\n<path fill=\"#f8f3fd\" stroke=\"#000000\" d=\"M1147,-53C1147,-53 971,-53 971,-53 965,-53 959,-47 959,-41 959,-41 959,-12 959,-12 959,-6 965,0 971,0 971,0 1147,0 1147,0 1153,0 1159,-6 1159,-12 1159,-12 1159,-41 1159,-41 1159,-47 1153,-53 1147,-53\"/>\n<text text-anchor=\"middle\" x=\"1059\" y=\"-37.8\" font-family=\"Helvetica,sans-Serif\" font-size=\"14.00\" fill=\"#000000\">samples = 0.2%</text>\n<text text-anchor=\"middle\" x=\"1059\" y=\"-22.8\" font-family=\"Helvetica,sans-Serif\" font-size=\"14.00\" fill=\"#000000\">value = [0.452, 0.065, 0.484]</text>\n<text text-anchor=\"middle\" x=\"1059\" y=\"-7.8\" font-family=\"Helvetica,sans-Serif\" font-size=\"14.00\" fill=\"#000000\">class = non functional</text>\n</g>\n<!-- 10&#45;&gt;12 -->\n<g id=\"edge12\" class=\"edge\">\n<title>10&#45;&gt;12</title>\n<path fill=\"none\" stroke=\"#000000\" d=\"M988.4293,-88.9777C999.0827,-79.546 1010.6359,-69.3178 1021.2501,-59.9208\"/>\n<polygon fill=\"#000000\" stroke=\"#000000\" points=\"1023.6194,-62.4978 1028.7867,-53.2485 1018.9793,-57.2566 1023.6194,-62.4978\"/>\n</g>\n</g>\n</svg>\n"
          },
          "metadata": {
            "tags": []
          }
        }
      ]
    },
    {
      "cell_type": "markdown",
      "metadata": {
        "colab_type": "text",
        "id": "P4EJi2GvgLVa"
      },
      "source": [
        "# Understand how tree ensembles reduce overfitting compared to a single decision tree with unlimited depth"
      ]
    },
    {
      "cell_type": "markdown",
      "metadata": {
        "id": "5b1FKgzhUDoC",
        "colab_type": "text"
      },
      "source": [
        "## Overview"
      ]
    },
    {
      "cell_type": "markdown",
      "metadata": {
        "colab_type": "text",
        "id": "0nNABF3HgLVg"
      },
      "source": [
        "### What's \"random\" about random forests?\n",
        "1. Each tree trains on a random bootstrap sample of the data. (In scikit-learn, for `RandomForestRegressor` and `RandomForestClassifier`, the `bootstrap` parameter's default is `True`.) This type of ensembling is called Bagging. (Bootstrap AGGregatING.)\n",
        "2. Each split considers a random subset of the features. (In scikit-learn, when the `max_features` parameter is not `None`.) \n",
        "\n",
        "For extra randomness, you can try [\"extremely randomized trees\"](https://scikit-learn.org/stable/modules/ensemble.html#extremely-randomized-trees)!\n",
        "\n",
        ">In extremely randomized trees (see [ExtraTreesClassifier](https://scikit-learn.org/stable/modules/generated/sklearn.ensemble.ExtraTreesClassifier.html) and [ExtraTreesRegressor](https://scikit-learn.org/stable/modules/generated/sklearn.ensemble.ExtraTreesRegressor.html) classes), randomness goes one step further in the way splits are computed. As in random forests, a random subset of candidate features is used, but instead of looking for the most discriminative thresholds, thresholds are drawn at random for each candidate feature and the best of these randomly-generated thresholds is picked as the splitting rule. This usually allows to reduce the variance of the model a bit more, at the expense of a slightly greater increase in bias"
      ]
    },
    {
      "cell_type": "markdown",
      "metadata": {
        "id": "bJg3TDT3UDoF",
        "colab_type": "text"
      },
      "source": [
        "## Follow Along"
      ]
    },
    {
      "cell_type": "markdown",
      "metadata": {
        "colab_type": "text",
        "id": "pUYP619CgLVb"
      },
      "source": [
        "### Example: [predicting golf putts](https://statmodeling.stat.columbia.edu/2008/12/04/the_golf_puttin/)\n",
        "(1 feature, non-linear, regression)"
      ]
    },
    {
      "cell_type": "code",
      "metadata": {
        "colab_type": "code",
        "id": "b4640ukxgLVc",
        "colab": {}
      },
      "source": [
        "putts = pd.DataFrame(\n",
        "    columns=['distance', 'tries', 'successes'], \n",
        "    data = [[2, 1443, 1346],\n",
        "            [3, 694, 577],\n",
        "            [4, 455, 337],\n",
        "            [5, 353, 208],\n",
        "            [6, 272, 149],\n",
        "            [7, 256, 136],\n",
        "            [8, 240, 111],\n",
        "            [9, 217, 69],\n",
        "            [10, 200, 67],\n",
        "            [11, 237, 75],\n",
        "            [12, 202, 52],\n",
        "            [13, 192, 46],\n",
        "            [14, 174, 54],\n",
        "            [15, 167, 28],\n",
        "            [16, 201, 27],\n",
        "            [17, 195, 31],\n",
        "            [18, 191, 33],\n",
        "            [19, 147, 20],\n",
        "            [20, 152, 24]]\n",
        ")\n",
        "\n",
        "putts['rate of success'] = putts['successes'] / putts['tries']\n",
        "putts_X = putts[['distance']]\n",
        "putts_y = putts['rate of success']"
      ],
      "execution_count": 0,
      "outputs": []
    },
    {
      "cell_type": "code",
      "metadata": {
        "colab_type": "code",
        "id": "T0IpCcKggLVd",
        "colab": {
          "base_uri": "https://localhost:8080/",
          "height": 637,
          "referenced_widgets": [
            "49dc8b5c5f494d4f9b086c6699377550",
            "563f35caa24b482fac2f1d7ddcf993f4",
            "3f589c5c04d640d7bcc8f3c78429f119",
            "dfd3be0a5093472f8fb59c75e0e4d218",
            "416cb727dfce429c909cde4080b32a81",
            "fa7e89c63f0241b99f23412614387abf",
            "05315059bbf341fb99e7d8754628b44d",
            "6c7e5d0da23247d79358766c4c53f59a",
            "94dcc6a9b284484fb9c00738d285260b",
            "71d72b15b40b4fe2998abd013e65061d"
          ]
        },
        "outputId": "5b06a832-644d-4624-fbaf-33b39091f449"
      },
      "source": [
        "%matplotlib inline\n",
        "import matplotlib.pyplot as plt\n",
        "from ipywidgets import interact\n",
        "from sklearn.ensemble import RandomForestRegressor\n",
        "from sklearn.tree import DecisionTreeRegressor\n",
        "\n",
        "def putt_trees(max_depth = 1, n_estimators = 1):\n",
        "    models = [DecisionTreeRegressor(max_depth=max_depth), \n",
        "              RandomForestRegressor(max_depth = max_depth,\n",
        "                                    n_estimators = n_estimators)]\n",
        "    \n",
        "    for model in models:\n",
        "        name = model.__class__.__name__\n",
        "        model.fit(putts_X, putts_y)\n",
        "        ax = putts.plot('distance', 'rate of success',\n",
        "                        kind = 'scatter', title = name)\n",
        "        \n",
        "        ax.step(putts_X, model.predict(putts_X), where = 'mid')\n",
        "        plt.show()\n",
        "        \n",
        "interact(putt_trees, max_depth=(1, 6, 1), n_estimators=(10, 40, 10));"
      ],
      "execution_count": 37,
      "outputs": [
        {
          "output_type": "display_data",
          "data": {
            "application/vnd.jupyter.widget-view+json": {
              "model_id": "49dc8b5c5f494d4f9b086c6699377550",
              "version_minor": 0,
              "version_major": 2
            },
            "text/plain": [
              "interactive(children=(IntSlider(value=1, description='max_depth', max=6, min=1), IntSlider(value=10, descripti…"
            ]
          },
          "metadata": {
            "tags": []
          }
        }
      ]
    },
    {
      "cell_type": "markdown",
      "metadata": {
        "colab_type": "text",
        "id": "_KgZK9_9gLVh"
      },
      "source": [
        "### Bagging demo, with golf putts data\n",
        "https://pandas.pydata.org/pandas-docs/stable/reference/api/pandas.DataFrame.sample.html"
      ]
    },
    {
      "cell_type": "code",
      "metadata": {
        "colab_type": "code",
        "id": "vA9mrSTNgLVi",
        "scrolled": false,
        "colab": {
          "base_uri": "https://localhost:8080/",
          "height": 915,
          "referenced_widgets": [
            "757b1289f4b746f0a41596e4b181ef64",
            "ea8abfedf684425eae8c29cbe79780bd",
            "5bc9f5521b0a43149011d4aad1ce1f69",
            "7511482527b945f0bde5dee62a3e46b4",
            "9bc07e5ddff5475b826c8e3777dbb480",
            "b25247e5416142ccb794a247211e7c18",
            "555c47f71f6f4973b04ce0e9efac2cb6",
            "1679c1af668745ab808c8a08449bd098",
            "efe9a0cefc404a38864171fd32cf7449",
            "b3d4208b96c9431a9b868782909c9267"
          ]
        },
        "outputId": "73940c3b-01de-481f-8865-ff3c99adecfa"
      },
      "source": [
        "# Do-it-yourself Bagging Ensemble of Decision Trees (like a Random Forest)\n",
        "def diy_bagging(max_depth = 1, n_estimators = 1):\n",
        "    y_preds = []\n",
        "    for i in range(n_estimators):\n",
        "        title = f'Tree {i+1}'\n",
        "        bootstrap_sample = putts.sample(n=len(putts), replace=True).sort_values(by='distance')\n",
        "        bootstrap_X = bootstrap_sample[['distance']]\n",
        "        bootstrap_y = bootstrap_sample['rate of success']\n",
        "        tree = DecisionTreeRegressor(max_depth = max_depth)\n",
        "        tree.fit(bootstrap_X, bootstrap_y)\n",
        "        y_pred = tree.predict(bootstrap_X)\n",
        "        y_preds.append(y_pred)\n",
        "        ax = bootstrap_sample.plot('distance', 'rate of success',\n",
        "                                   kind = 'scatter', title = title)\n",
        "        \n",
        "        ax.step(bootstrap_X, y_pred, where = 'mid')\n",
        "        plt.show()\n",
        "        \n",
        "    ensembled = np.vstack(y_preds).mean(axis = 0)\n",
        "    title = f'Ensemble of {n_estimators} trees, with max_depth={max_depth}'\n",
        "    ax = putts.plot('distance', 'rate of success',\n",
        "                    kind = 'scatter', title = title)\n",
        "    \n",
        "    ax.step(putts_X, ensembled, where='mid')\n",
        "    plt.show()\n",
        "    \n",
        "interact(diy_bagging, max_depth=(1, 6, 1), n_estimators=(2, 5, 1));"
      ],
      "execution_count": 38,
      "outputs": [
        {
          "output_type": "display_data",
          "data": {
            "application/vnd.jupyter.widget-view+json": {
              "model_id": "757b1289f4b746f0a41596e4b181ef64",
              "version_minor": 0,
              "version_major": 2
            },
            "text/plain": [
              "interactive(children=(IntSlider(value=1, description='max_depth', max=6, min=1), IntSlider(value=2, descriptio…"
            ]
          },
          "metadata": {
            "tags": []
          }
        }
      ]
    },
    {
      "cell_type": "markdown",
      "metadata": {
        "colab_type": "text",
        "id": "rq4Z_wQ_gLVj"
      },
      "source": [
        "### Go back to Tanzania Waterpumps ..."
      ]
    },
    {
      "cell_type": "markdown",
      "metadata": {
        "colab_type": "text",
        "id": "FoSE9iT6YXQz"
      },
      "source": [
        "#### Helper function to visualize predicted probabilities\n",
        "\n"
      ]
    },
    {
      "cell_type": "code",
      "metadata": {
        "colab_type": "code",
        "id": "HzIAjGpJgLVj",
        "colab": {}
      },
      "source": [
        "import itertools\n",
        "import seaborn as sns\n",
        "\n",
        "def pred_heatmap(model, X, features, class_index = -1, title = '', num = 100):\n",
        "    \"\"\"\n",
        "    Visualize predicted probabilities, for classifier fit on 2 numeric features\n",
        "    \n",
        "    Parameters\n",
        "    ----------\n",
        "    model : scikit-learn classifier, already fit\n",
        "    X : pandas dataframe, which was used to fit model\n",
        "    features : list of strings, column names of the 2 numeric features\n",
        "    class_index : integer, index of class label\n",
        "    title : string, title of plot\n",
        "    num : int, number of grid points for each feature\n",
        "    \n",
        "    Returns\n",
        "    -------\n",
        "    y_pred_proba : numpy array, predicted probabilities for class_index\n",
        "    \"\"\"\n",
        "    feature1, feature2 = features\n",
        "    min1, max1 = X[feature1].min(), X[feature1].max()\n",
        "    min2, max2 = X[feature2].min(), X[feature2].max()\n",
        "    x1 = np.linspace(min1, max1, num)\n",
        "    x2 = np.linspace(max2, min2, num)\n",
        "    combos = list(itertools.product(x1, x2))\n",
        "    y_pred_proba = model.predict_proba(combos)[:, class_index]\n",
        "    pred_grid = y_pred_proba.reshape(num, num).T\n",
        "    table = pd.DataFrame(pred_grid, columns=x1, index=x2)\n",
        "    sns.heatmap(table, vmin = 0, vmax = 1)\n",
        "    plt.xticks([])\n",
        "    plt.yticks([])\n",
        "    plt.xlabel(feature1)\n",
        "    plt.ylabel(feature2)\n",
        "    plt.title(title)\n",
        "    plt.show()\n",
        "    return y_pred_proba"
      ],
      "execution_count": 0,
      "outputs": []
    },
    {
      "cell_type": "markdown",
      "metadata": {
        "colab_type": "text",
        "id": "DiRfPqHjgLVl"
      },
      "source": [
        "### Compare Decision Tree, Random Forest, Logistic Regression"
      ]
    },
    {
      "cell_type": "code",
      "metadata": {
        "colab_type": "code",
        "id": "HKkMLXhMgLVl",
        "colab": {
          "base_uri": "https://localhost:8080/",
          "height": 864,
          "referenced_widgets": [
            "0e21a167b273446f8e17b4dde1027234",
            "c2f6b795e20d4300aa641763f685279d",
            "75712010fcaa40b69038db8df2473483",
            "c847081b3f1d4e4292f1722c07dd328e",
            "fcd2d41e84af4186bf12ee76d6e14607",
            "31913348ab31497e9d9fd65207b7396e",
            "15a68cae66104fe18358e5b4b17f592e",
            "11acb8da339d4b12a0d6228230fd6ea0",
            "2dc98cffdbfc402980a9d0825a8adeea",
            "d6b95602919a43888a697e2359b4bac7"
          ]
        },
        "outputId": "2f8b6e06-2625-4378-a700-ce75b2e2c0a5"
      },
      "source": [
        "# Instructions\n",
        "# 1. Choose two features\n",
        "# 2. Run this code cell\n",
        "# 3. Interact with the widget sliders\n",
        "\n",
        "feature1 = 'longitude'\n",
        "feature2 = 'quantity'\n",
        "\n",
        "from sklearn.linear_model import LogisticRegression\n",
        "from sklearn.tree import DecisionTreeClassifier\n",
        "\n",
        "def get_X_y(df, feature1, feature2, target):\n",
        "    features = [feature1, feature2]\n",
        "    X = df[features]\n",
        "    y = df[target]\n",
        "    X = X.fillna(X.median())\n",
        "    X = ce.OrdinalEncoder().fit_transform(X)\n",
        "    return X, y\n",
        "\n",
        "def compare_models(max_depth = 1, n_estimators = 1):\n",
        "    models = [DecisionTreeClassifier(max_depth = max_depth), \n",
        "              RandomForestClassifier(max_depth = max_depth,\n",
        "                                     n_estimators = n_estimators), \n",
        "              LogisticRegression(multi_class='auto')]\n",
        "    \n",
        "    for model in models:\n",
        "        name = model.__class__.__name__\n",
        "        model.fit(X, y)\n",
        "        pred_heatmap(model, X, [feature1, feature2],\n",
        "                     class_index = 0, title = name)\n",
        "\n",
        "X, y = get_X_y(train, feature1, feature2, target = 'status_group')\n",
        "interact(compare_models, max_depth=(1, 6, 1), n_estimators=(10, 40, 10));"
      ],
      "execution_count": 40,
      "outputs": [
        {
          "output_type": "display_data",
          "data": {
            "application/vnd.jupyter.widget-view+json": {
              "model_id": "0e21a167b273446f8e17b4dde1027234",
              "version_minor": 0,
              "version_major": 2
            },
            "text/plain": [
              "interactive(children=(IntSlider(value=1, description='max_depth', max=6, min=1), IntSlider(value=10, descripti…"
            ]
          },
          "metadata": {
            "tags": []
          }
        }
      ]
    },
    {
      "cell_type": "markdown",
      "metadata": {
        "colab_type": "text",
        "id": "hOQqjLEDgLVn"
      },
      "source": [
        "### Bagging"
      ]
    },
    {
      "cell_type": "code",
      "metadata": {
        "colab_type": "code",
        "id": "Hm4aPgs2gLVn",
        "colab": {
          "base_uri": "https://localhost:8080/",
          "height": 864,
          "referenced_widgets": [
            "7bcc71a675a5464c9854501963c610d5",
            "5e9e29abe73344349fd3a46abe43bbe3",
            "f1812dd540984d00a7c19064eea2481d",
            "8512823f36864df0a55159c4befab806",
            "45a5dbb0947745d59471609969c8831b",
            "9a2d15f9c526408db6f442fc00abb4bd",
            "a26d70a5097949868bdcd5e9a79cf3e5",
            "7a7259fbb34c4162ac11509a31d3b1a2",
            "8c01025b7d44498b8f47289f5f45b020",
            "a7f64c22caa34f4193e050b6440ec552"
          ]
        },
        "outputId": "74bb18db-0543-4347-b9d3-9f641ac8b1dc"
      },
      "source": [
        "# Do-it-yourself Bagging Ensemble of Decision Trees (like a Random Forest)\n",
        "\n",
        "# Instructions\n",
        "# 1. Choose two features\n",
        "# 2. Run this code cell\n",
        "# 3. Interact with the widget sliders\n",
        "\n",
        "feature1 = 'longitude'\n",
        "feature2 = 'latitude'\n",
        "\n",
        "def waterpumps_bagging(max_depth = 1, n_estimators = 1):\n",
        "    predicteds = []\n",
        "    for i in range(n_estimators):\n",
        "        title = f'Tree {i+1}'\n",
        "        bootstrap_sample = train.sample(n = len(train), replace = True)\n",
        "        X, y = get_X_y(bootstrap_sample, feature1, feature2,\n",
        "                       target = 'status_group')\n",
        "        \n",
        "        tree = DecisionTreeClassifier(max_depth = max_depth)\n",
        "        tree.fit(X, y)\n",
        "        predicted = pred_heatmap(tree, X, [feature1, feature2],\n",
        "                                 class_index = 0, title = title)\n",
        "        \n",
        "        predicteds.append(predicted)\n",
        "    \n",
        "    ensembled = np.vstack(predicteds).mean(axis = 0)\n",
        "    title = f'Ensemble of {n_estimators} trees, with max_depth={max_depth}'\n",
        "    sns.heatmap(ensembled.reshape(100, 100).T, vmin = 0, vmax = 1)\n",
        "    plt.title(title)\n",
        "    plt.xlabel(feature1)\n",
        "    plt.ylabel(feature2)\n",
        "    plt.xticks([])\n",
        "    plt.yticks([])\n",
        "    plt.show()\n",
        "        \n",
        "interact(waterpumps_bagging, max_depth=(1, 6, 1), n_estimators=(2, 5, 1));"
      ],
      "execution_count": 41,
      "outputs": [
        {
          "output_type": "display_data",
          "data": {
            "application/vnd.jupyter.widget-view+json": {
              "model_id": "7bcc71a675a5464c9854501963c610d5",
              "version_minor": 0,
              "version_major": 2
            },
            "text/plain": [
              "interactive(children=(IntSlider(value=1, description='max_depth', max=6, min=1), IntSlider(value=2, descriptio…"
            ]
          },
          "metadata": {
            "tags": []
          }
        }
      ]
    },
    {
      "cell_type": "markdown",
      "metadata": {
        "colab_type": "text",
        "id": "wYoSBi15akWP"
      },
      "source": [
        "# Review\n",
        "\n",
        "#### Try Tree Ensembles when you do machine learning with labeled, tabular data\n",
        "- \"Tree Ensembles\" means Random Forest or Gradient Boosting models. \n",
        "- [Tree Ensembles often have the best predictive accuracy](https://arxiv.org/abs/1708.05070) with labeled, tabular data.\n",
        "- Why? Because trees can fit non-linear, non-[monotonic](https://en.wikipedia.org/wiki/Monotonic_function) relationships, and [interactions](https://christophm.github.io/interpretable-ml-book/interaction.html) between features.\n",
        "- A single decision tree, grown to unlimited depth, will [overfit](http://www.r2d3.us/visual-intro-to-machine-learning-part-1/). We solve this problem by ensembling trees, with bagging (Random Forest) or boosting (Gradient Boosting).\n",
        "- Random Forest's advantage: may be less sensitive to hyperparameters. Gradient Boosting's advantage: may get better predictive accuracy.\n",
        "\n",
        "#### One-hot encoding isn’t the only way, and may not be the best way, of categorical encoding for tree ensembles.\n",
        "- For example, tree ensembles can work with arbitrary \"ordinal\" encoding! (Randomly assigning an integer to each category.) Compared to one-hot encoding, the dimensionality will be lower, and the predictive accuracy may be just as good or even better.\n"
      ]
    }
  ]
}