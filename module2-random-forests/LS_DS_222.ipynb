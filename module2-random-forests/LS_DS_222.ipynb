{
  "nbformat": 4,
  "nbformat_minor": 0,
  "metadata": {
    "kernelspec": {
      "display_name": "Python 3",
      "language": "python",
      "name": "python3"
    },
    "language_info": {
      "codemirror_mode": {
        "name": "ipython",
        "version": 3
      },
      "file_extension": ".py",
      "mimetype": "text/x-python",
      "name": "python",
      "nbconvert_exporter": "python",
      "pygments_lexer": "ipython3",
      "version": "3.7.3"
    },
    "colab": {
      "name": "LS_DS_222.ipynb",
      "provenance": []
    },
    "widgets": {
      "application/vnd.jupyter.widget-state+json": {
        "de1bbf5f6a8b43888a1e43689a7c8018": {
          "model_module": "@jupyter-widgets/controls",
          "model_name": "VBoxModel",
          "state": {
            "_view_name": "VBoxView",
            "_dom_classes": [
              "widget-interact"
            ],
            "_model_name": "VBoxModel",
            "_view_module": "@jupyter-widgets/controls",
            "_model_module_version": "1.5.0",
            "_view_count": null,
            "_view_module_version": "1.5.0",
            "box_style": "",
            "layout": "IPY_MODEL_7f0dc71c713a4981ae35896fd40f1113",
            "_model_module": "@jupyter-widgets/controls",
            "children": [
              "IPY_MODEL_ea2809a9b1c94014bb6ab2bb726d8dd9",
              "IPY_MODEL_7170454464504a62821c8ef0ff2e3bdd",
              "IPY_MODEL_bea98a1cbd2b4ceea7901422c0f454b3"
            ]
          }
        },
        "7f0dc71c713a4981ae35896fd40f1113": {
          "model_module": "@jupyter-widgets/base",
          "model_name": "LayoutModel",
          "state": {
            "_view_name": "LayoutView",
            "grid_template_rows": null,
            "right": null,
            "justify_content": null,
            "_view_module": "@jupyter-widgets/base",
            "overflow": null,
            "_model_module_version": "1.2.0",
            "_view_count": null,
            "flex_flow": null,
            "width": null,
            "min_width": null,
            "border": null,
            "align_items": null,
            "bottom": null,
            "_model_module": "@jupyter-widgets/base",
            "top": null,
            "grid_column": null,
            "overflow_y": null,
            "overflow_x": null,
            "grid_auto_flow": null,
            "grid_area": null,
            "grid_template_columns": null,
            "flex": null,
            "_model_name": "LayoutModel",
            "justify_items": null,
            "grid_row": null,
            "max_height": null,
            "align_content": null,
            "visibility": null,
            "align_self": null,
            "height": null,
            "min_height": null,
            "padding": null,
            "grid_auto_rows": null,
            "grid_gap": null,
            "max_width": null,
            "order": null,
            "_view_module_version": "1.2.0",
            "grid_template_areas": null,
            "object_position": null,
            "object_fit": null,
            "grid_auto_columns": null,
            "margin": null,
            "display": null,
            "left": null
          }
        },
        "ea2809a9b1c94014bb6ab2bb726d8dd9": {
          "model_module": "@jupyter-widgets/controls",
          "model_name": "IntSliderModel",
          "state": {
            "_view_name": "IntSliderView",
            "style": "IPY_MODEL_2c63c51fc12d4695af32fa40777996ca",
            "_dom_classes": [],
            "description": "max_depth",
            "step": 1,
            "_model_name": "IntSliderModel",
            "orientation": "horizontal",
            "max": 6,
            "_view_module": "@jupyter-widgets/controls",
            "_model_module_version": "1.5.0",
            "value": 3,
            "_view_count": null,
            "disabled": false,
            "_view_module_version": "1.5.0",
            "min": 1,
            "continuous_update": true,
            "readout_format": "d",
            "description_tooltip": null,
            "readout": true,
            "_model_module": "@jupyter-widgets/controls",
            "layout": "IPY_MODEL_ec0a6a9a98f5418da192a8486a296a85"
          }
        },
        "7170454464504a62821c8ef0ff2e3bdd": {
          "model_module": "@jupyter-widgets/controls",
          "model_name": "IntSliderModel",
          "state": {
            "_view_name": "IntSliderView",
            "style": "IPY_MODEL_362b1485beeb4d6f93bf0b64182483fe",
            "_dom_classes": [],
            "description": "n_estimators",
            "step": 10,
            "_model_name": "IntSliderModel",
            "orientation": "horizontal",
            "max": 40,
            "_view_module": "@jupyter-widgets/controls",
            "_model_module_version": "1.5.0",
            "value": 20,
            "_view_count": null,
            "disabled": false,
            "_view_module_version": "1.5.0",
            "min": 10,
            "continuous_update": true,
            "readout_format": "d",
            "description_tooltip": null,
            "readout": true,
            "_model_module": "@jupyter-widgets/controls",
            "layout": "IPY_MODEL_828a6d2297de4bf0bbd0c279baf4757b"
          }
        },
        "bea98a1cbd2b4ceea7901422c0f454b3": {
          "model_module": "@jupyter-widgets/output",
          "model_name": "OutputModel",
          "state": {
            "_view_name": "OutputView",
            "msg_id": "",
            "_dom_classes": [],
            "_model_name": "OutputModel",
            "outputs": [
              {
                "output_type": "display_data",
                "metadata": {
                  "tags": []
                },
                "image/png": "iVBORw0KGgoAAAANSUhEUgAAAYIAAAEWCAYAAABrDZDcAAAABHNCSVQICAgIfAhkiAAAAAlwSFlz\nAAALEgAACxIB0t1+/AAAADh0RVh0U29mdHdhcmUAbWF0cGxvdGxpYiB2ZXJzaW9uMy4xLjMsIGh0\ndHA6Ly9tYXRwbG90bGliLm9yZy+AADFEAAAgAElEQVR4nO3dfZgcZZnv8e+vM8NkZAIJCa44kwAG\n1I1uiGxM1KjrHl0ELk30BAXRXQREPcpe+ErYxeW47Dm7ElfclUUFBQV1F8QcJbK8+v4KEjAZJYgG\nBDMxSDImhIFkmEnf54+qgc6kZ1KT6erumfp9rquvVD310nfXdOru53mqnlJEYGZmxVVqdABmZtZY\nTgRmZgXnRGBmVnBOBGZmBedEYGZWcE4EZmYF50RgTUfSTZJOy7Ben6Tn1CMms8nMicD2m6QHJe2U\n9Jik7ZJ+Iundksb1vYqIEyLiqgzrdUTEA+N5L0n3pAmlT9JuSbsq5v9+PPse4f2+LOnJdP9/lHSr\npOfW+n3MxsKJwMbr9RExDTgc+BiwAriisSFlFxEvSBNKB/BD4Oyh+Yj45+HrS2qpwdv+c/p+ncAj\nwOdqsM+91CjWCfv+lp0TgdVERDwaEauBk4HTJL1QUpukf5X0O0l/kPRZSe1D20haJmmtpB2S7pd0\nfFr+PUnvSKePkvR9SY9K2irp2ortQ9JR6fTBkq6WtEXSQ5I+MlQzkfR2ST9KY9km6beSTsjyuSS9\nQ9IPJH1K0h+Bj1SU/yrd302SZldsM0/St9Jf/L+StHyEY7YT+CqwoMp7jrTvEyT9Oj0el0j6saS3\n70+skkrpuo+k++uWNC9d9jpJ96a1vR5J76+I4d2SNkjqlfQNSYel5S3p3+Q9kjYAv8pyjK3xnAis\npiLiZ0AP8AqSGsJzSU50R5H8Ar4AQNIi4Grgw8B04JXAg1V2+U/ArcAMoAu4ZIS3vgQ4GHgO8BfA\n3wCnVyxfDNwHzAJWAldIUsaP9TLgXuBQ4KL0xP5hYFladgfwn+nn6gBuSz/bM4G3ApdLet7wnabr\nvgXYUFE22r6fSZI4Ppx+jt8Ci/Y3VuAE4CXA0STH9xTgj+myLwBnprW9+cD30xiOAy4ETiL5e/4e\n+MqwGJYCLwb+rNrBtCYUEX75tV8vkhP3a6qU3w6cDzwOzK0ofynw23T6MuCTI+z3e8A70umrgcuB\nrirrBUmCmQI8CcyrWPYu4Hvp9NuBDRXLnpFu+6yR3rei7B3AA8PKbgNOq5hvAfpJToxvBb47bP0r\ngPPT6S8Du4DtaQz3Ay/MuO8zgB9WLBOwGXj7fsZ6HMmv9sVAadh2v0/3N21Y+VUkTVtD8wcBu0mS\ndEv6mV7Z6O+mX2N7uUZgeegkOSk8A7gr7UjeDtxM8qsUYDbJSXBfziU54f0s7dg9o8o6s4BW4KGK\nsofSOIY8PDQREU+kkx0Z3h9g47D5w4FLKz7XVqBMcjI8HFgytCxdfjJwWMX2H4uI6cCRwADJL/Is\n+352ZSyRnIl79jfWiLgV+CzwGWCo6W5aut0bSX7Z/y5tqluclj+biuMcETuAbex5rIfHYE3OicBq\nStKLSU4K3wB2Ai+IiOnp6+BIOkkhOVnM3df+IuLhiDgrIp5N8iv/00P9AhW2kpxQD68omwNsGufH\neSqMYfMbSZpNple82iPijnTZt4ct64iIs6t8tgeB9wOXSGrLsO/NJAkBgLRpq3P4bscQKxHxbxFx\nLPBCYB7wgbT8johYStK8dQNwTbq/31NxnNPEMYM9j7WHNJ5gnAisJiQdJOl1JCeML0fEOpKrYT6Z\ntm0jqVPSa9NNrgBOl/TqtNOyU9Lzq+z3TZKGTn7bSE4y5cp1ImI3Sdv5/5U0TdLhJCe0L+fwUSH5\nFX2+pD9NY5wu6aR02WrgBZJOldSavhZV6yNIY7+JJJG9I8O+bwCOlfR6JVfknMPTNawxx5rGtSjd\n1+MkzWtlSe1p/AdFxADwGE8f8/8CzpQ0P01e/0LSXDW8ZmITiBOBjdc3JT1G8svzfOBinu6kXUHS\nEXq7pB3At4DnwVOdyqcDnwQeJemMPJy9vRi4Q1IfyUn2nKh+78DfkpzMHgB+RNIhemUtPuBwEXEd\nyee8Lv1c3cBr02WPptNvI/kF/zDJybKt+t4A+DiwQtIB+9j3H0iamS4GeklqVD8nafMfc6wknfRX\nkPRXPJjGe3G67DTgoXSbM9PPQ0TcTNJZ/PV0/Tkk/SI2gSlpZjSziUbSFJKmmpMi4oeNjscmLtcI\nzCYQScenzTttwD+Q9I38rMFh2QTnRGA2sbycpPlrC0kTzxsjYsSmIbMs3DRkZlZwrhGYmRXchBsU\natasWXHEEUc0Ogwzswnlrrvu2hoRVS83nnCJ4IgjjmDNmjWNDsPMbEKR9NBIy9w0ZGZWcE4EZmYF\n50RgZlZwTgRmZgXnRGBmVnBOBGZmBedEYGZWcE4EZmYFV5hE0NvXz7qN2+nt8/hcZmaVJtydxfvj\n+rWbWLGqm9ZSiYFymZXL57N0wfAn/JmZFdOkTwS9ff2sWNXNroEyu9Kn7Z1z7Vqu+smDtEzZu0K0\nbEEnpy6eU+8wzcwaZtI3DfVs20lrac+PWQL6B8t7rbt+8w6uX1ur552bmU0Mk75G0DWjnYHynif9\n1pYSV52xiJkdez5G9uTLflrP0MzMmsKkrxHM7Ghj5fL5TG0tMa2thamtJVYun79XEjAzK6pJXyMA\nWLqgkyVHzaJn2066ZrQ7CZiZVShEIoCkZuAEYGa2t0nfNGRmZqNzIjAzKzgnAjOzgnMiMDMrOCcC\nM7OCcyIwMys4JwIzs4JzIjAzKzgnAjOzgnMiMDMrOCcCM7OCcyIwMys4JwIzs4JzIjAzKzgnAjOz\ngnMiMDMrOCeCMejt62fdxu309vU3OhQzs5opzBPKxuv6tZtYsaqb1lKJgXKZlcvns3RBZ6PDMjMb\nN9cIMujt62fFqm52DZR5rH+QXQNlzl3V7ZqBmU0KTgQZ9GzbSWtpz0PVWirRs21ngyIyM6sdJ4IM\numa0M1Au71E2UC7TNaO9QRGZmdWOE0EGMzvaWLl8PlNbS0xra2Fqa4mVy+czs6Ot0aGZmY2bO4sz\nWrqgkyVHzaJn2066ZrQ7CZjZpOFEMAYzO9qcAMxs0sm1aUjS8ZLuk7RB0nlVls+R9F1JP5fULenE\nPOMxM7O95ZYIJE0BLgVOAOYBb5E0b9hqHwG+GhEvAk4BPp1XPGZmVl2eNYJFwIaIeCAingSuAZYN\nWyeAg9Lpg4Hf5xiPmZlVkWci6AQ2Vsz3pGWVPgq8TVIPcCPwt9V2JOmdktZIWrNly5Y8YjUzK6xG\nXz76FuCLEdEFnAh8SdJeMUXE5RGxMCIWHnrooXUP0sxsMsvzqqFNwOyK+a60rNKZwPEAEfFTSVOB\nWcAjOcY1qvWbd3DyZT9t1Ns/ZdmCTk5dPKfRYZhZAeRZI7gTOFrSkZIOIOkMXj1snd8BrwaQ9KfA\nVKBhbT/LFnQy77CD9r1iztZv3sH1a4fnTDOzfORWI4iIQUlnA7cAU4ArI+IeSRcCayJiNfBB4HOS\n3k/Scfz2iIi8YtqXUxfPaYpf4c1QIzGz4sj1hrKIuJGkE7iy7IKK6fXAkjxjMDOz0TW6s9jMzBrM\nicDMrOCcCMzMCs6JwMys4JwIzMwKzomgznr7+lm3cbufd2xmTcPPI6ij69duYsWqblpLJQbKZVYu\nn8/SBcOHXzIzqy/XCOqkt6+fFau62TVQ5rH+QXYNlDl3VbdrBmbWcE4EddKzbSetpT0Pd2upRM+2\nnQ2KyMws4URQJ10z2hkol/coGyiX6ZrR3qCIzMwSTgR1MrOjjZXL5zO1tcS0thamtpZYuXy+n4Fs\nZg3nzuI6WrqgkyVHzaJn2066ZrQ7CZhZU3AiqLOZHW1OAGbWVNw0ZGZWcE4EZmYF50RgZlZwTgRm\nZgXnRGBmVnBOBGZmBedEYGZWcE4EZmYF50RgZlZwTgRmZgW3z0Qg6RxJBylxhaS7JR1Xj+DMzCx/\nWWoEZ0TEDuA4YAbw18DHco3KzMzqJksiUPrvicCXIuKeijIzM5vgsiSCuyTdSpIIbpE0DSjvYxsz\nM5sgsgxDfSawAHggIp6QdAhwer5hmZlZvWSpEbwUuC8itkt6G/AR4NF8wzIzs3rJkgg+Azwh6Rjg\ng8D9wNW5RmVmZnWTJREMRkQAy4D/iIhLgWn5hmVmZvWSpY/gMUl/R3LZ6CsklYDWfMMyM7N6yVIj\nOBnoJ7mf4GGgC/h4rlGZmVnd7DMRpCf/VcDQE9e3Al/PMygzM6ufLENMnAV8DbgsLeoEvpFnUGZm\nVj9ZmobeCywBdgBExG+AZ+YZlJmZ1U+WRNAfEU8OzUhqASK/kMzMrJ6yJILvS/p7oF3SXwHXAd/M\nNywzM6uXLIngPGAL8AvgXcCNJHcXm5nZJJAlEbQDV0bEmyLiJODKtGyfJB0v6T5JGySdN8I6b5a0\nXtI9kv4ze+hmZlYLWRLBt9nzxN8OfGtfG0maAlwKnADMA94iad6wdY4G/g5YEhEvAN6XMW4zM6uR\nLIlgakT0Dc2k08/IsN0iYENEPJB2Nl9DMkxFpbOASyNiW7rvR7KFbWZmtZIlETwu6dihGUl/DuzM\nsF0nsLFivictq/Rc4LmSfizpdknHV9uRpHdKWiNpzZYtWzK89eTW29fPuo3b6e3rb3QoZjYJZBlr\n6H3AdZJ+T/JksmeRDDtRq/c/GngVydAVP5D0ZxGxvXKliLgcuBxg4cKFhb509fq1m1ixqpvWUomB\ncpmVy+ezdMHw/Gpmlt0+E0FE3Cnp+cDz0qL7ImIgw743AbMr5rvSsko9wB3p/n4r6dckieHODPsv\nnN6+flas6mbXQJld6UPizl3VzZKjZjGzo20fW5uZVZdliIn3AgdGxC8j4pdAh6T3ZNj3ncDRko6U\ndABwCrB62DrfIKkNIGkWSVPRA2OIv1B6tu2ktbTnn6y1VKJnW5aWOjOz6rL0EZxV2VSTduyeta+N\nImIQOBu4BbgX+GpE3CPpQklL09VuAXolrQe+C3w4InrH+iGKomtGOwPlPR8XPVAu0zUj09W8ZmZV\nZekjmCJJ6cNphi4LPSDLziPiRpIb0CrLLqiYDuAD6cv2YWZHGyuXz+fcYX0EbhYys/HIkghuBq6V\nNDT66LvSMmuApQs6WXLULHq27aRrRruTgJmNW5ZEsILk5P+/0vnbgM/nFpHt08yONicAM6uZLFcN\nlUkeYP+Z/MMxM7N622cikPRbqgw7HRHPySUiMzOrqyxNQwsrpqcCbwIOySccG7J+8w5Ovuynue1/\ncHeZ/sEybS0lWqZkuXhs/yxb0Mmpi+fktn8zG78sTUPDL+f8N0l3ARdUW9/Gb1nOdwr39vVz/9bH\nKQFlYO6sA3Ppc1i/eQeAE4FZk8vSNHRsxWyJpIaQpSZh++nUxXNyO3n29vWz5KLvEAG707Ke7Tu5\n9l0vrXkyyLNGY2a1k+WE/omK6UHgQeDNuURjuRu6O3loiAp4+u5kX4lkVkxZmob+sh6BWH3U8u7k\n3r5+389gNglkGWvoHEkHKfF5SXdLOq4ewVntDd2dPLW1xLS2Fqa2lvbr7uTr125iyUXf4W2fv4Ml\nF32H1WuHjydoZhNFlqahMyLi3yW9FpgJ/DXwJeDWXCOz3Iz37mSPgmo2uWRJBEr/PRG4Oh04TqNt\nYM1vPHcnu5/BbHLJcgH5XZJuJUkEt0iaBpT3sY1NYh4F1WxyyZIIzgTOA14cEU+QjDx6eq5RWVOr\nVT+DmTWHrGMN3V0x3wv4mQEF51FQzSYP3xhm+82joJpNDiM2DUk6sp6BmJlZY4zWR/A1AEnfrlMs\nZmbWAKM1DZUk/T3wXEl7PUoyIi7OLywzM6uX0WoEp5CMS9YCTKvyMjOzSWDEGkFE3AdcJKk7Im6q\nY0xmZlZHWe4j+ImkiyWtSV+fkHRw7pGZmVldZEkEVwKPkQw9/WZgB/CFPIMyM7P6yXIfwdyIWF4x\n/4+S1uYVkJmZ1VeWGsFOSS8fmpG0BNiZX0hWJL19/azbuJ3evv5Gh2JWWFlqBO8Grq7oF9gGnJZf\nSFYU16/dxIpV3bSWSgyUy6xcPp+lOT+v2cz2lmWsoXXAMZIOSud35B6VTRrrN++o+uziwd1l7t64\nnQieGs76nGvXctVPHqRlyp4V1WULOnN7hrOZjWGsIScAG6tlo/y67x8sUyK5UWVIKS2vTATrNydf\nOycCs/x40DnLzamL54x4Au/t62fJRd9h90DFw21aSlx1xqI9BrKrVpsws9rK0llsVnN+poFZ89hn\njUDSM4APAnMi4ixJRwPPi4gbco/OJjU/08CsOWRpGvoCcBfw0nR+E3Ad4ERg4+ZnGpg1XpamobkR\nsRIYAEgfV+mH15uZTRJZEsGTktqBAJA0F/DdP2Zmk0SWpqGPAjcDsyV9BViCH15vZjZpZLmh7FZJ\ndwEvIWkSOicituYemZmZ1cU+m4YkfTsieiPivyPihojY6sdXmplNHiPWCCRNBZ4BzJI0g6c7iA8C\nPCCMmdkkMVrT0LuA9wHPJrl8dCgR7AD+I+e4zMysTkZsGoqIf4+II4EPRcRzIuLI9HVMRGRKBJKO\nl3SfpA2SzhtlveWSQtLC/fgMZmY2Dlk6iy+R9EJgHjC1ovzq0baTNAW4FPgroAe4U9LqiFg/bL1p\nwDnAHWMP38zMxitLZ/H/Bi5JX38JrASWZtj3ImBDRDwQEU8C1wDLqqz3T8BFwK6sQZuZWe1kuaHs\nJODVwMMRcTpwDJDl4fWdwMaK+R6GdTJLOhaYHRH/PdqOJL1T0hpJa7Zs2ZLhrc3MLKtMj6qMiDIw\nmD6c5hFg9njfWFIJuJhkQLtRRcTlEbEwIhYeeuih431rMzOrkOXO4jWSpgOfI7l6qA/IMkj8JvZM\nGF1p2ZBpwAuB70kCeBawWtLSiFiTYf9mZlYDoyYCJWfof4mI7cBnJd0MHBQR3Rn2fSdwtKQjSRLA\nKcCpQwsj4lFgVsV7fY/kCiUnATOzOhq1aSgiArixYv7BjEmAiBgEzgZuAe4FvhoR90i6UFKWzmYz\nM6uDLE1Dd0t6cUTcOdadR8SNVCSStOyCEdZ91Vj3b2Zm45clESwG3irpIeBxkjuMIyLm5xqZmZnV\nRZZE8NrcozAzs4bJcmfxQ/UIxMzMGiPLfQRmZjaJORGYmRWcE4GZWcE5EZiZFZwTgRnQ29fPuo3b\n6e3rb3QoZnWX5fJRs0nt+rWbWLGqm9ZSiYFymZXL57N0gZ/GasXhGoEVWm9fPytWdbNroMxj/YPs\nGihz7qpu1wysUJwIrNB6tu2ktbTnf4PWUomebTsbFJFZ/TkR2IQ3nvb9rhntDJTLe5QNlMt0zWiv\nWwxmjeY+Amt66zfv4OTLqj8Co7evn/u3Pk4JKANzZx3IzI62Me2/a3r7Hvvomt7Oe75yd+btxxLD\nsgWdnLp4zpjiM8ubE4E1tWWjdNoO7i5z/9bHiYDdadn9Wx/n4PZWWqZkr+zO7Gjj4PZW+gfLtLWU\nxrTtWGJYv3kHQNMngt6+fnq27aRrRvuYk6pNTE4E1tROXTxnxBPnuo3bedvn7+Cx/sGnyjoOaOGC\n17+AY2ZPr0t8Y4lhpFpNM/EVVMXkPgKbsGrVvj/RY6gVX0FVXE4ENmHN7Ghj5fL5TG0tMa2thamt\nJVYun1/X5oxmiKFWfAVVcblpyCa0pQs6WXLUrIa2aTdDDLUwmWo3NjauEdiEN7OjjWNmT2/oCbgZ\nYhivyVS7sbFxjcDMnjJZajc2Nk4EZraHmR1tTgAF46YhM7OCcyIwMys4JwIzs4JzIjAzKzh3FpvV\n0WgD6E00HkBv8nAiMKuT0QbQg2QAu/0Z+K4RJsoAepaNE4FZnYw2gN5EG+xtstRqLNHcPzvMCsCD\nvVmjORGYNZgHe7NGcyIwa7BaDvbmR2ba/nAfgVmDDQ32du6wPoKxDvMw0foZrHk4EZg1gfEO9lbZ\nz7CLpHZx7qpulhw1y+MG2T45EZg1ifEM9jbUzzCUBODpfgYnAtsX9xGYTQJ+qIyNhxOB2STgh8rY\neLhpyGyS8ENlbH85EZhNIn6ojO0PNw2ZmRVcrolA0vGS7pO0QdJ5VZZ/QNJ6Sd2Svi3p8DzjMTOz\nveWWCCRNAS4FTgDmAW+RNG/Yaj8HFkbEfOBrwMq84jEzs+ryrBEsAjZExAMR8SRwDbCscoWI+G5E\nPJHO3g505RiPmZlVkWci6AQ2Vsz3pGUjORO4Kcd4zMysiqa4akjS24CFwF+MsPydwDsB5szxgzDM\nzGopzxrBJmB2xXxXWrYHSa8BzgeWRkTVIRMj4vKIWBgRCw899NBcgjUzK6o8E8GdwNGSjpR0AHAK\nsLpyBUkvAi4jSQKP5BiLmZmNILdEEBGDwNnALcC9wFcj4h5JF0pamq72caADuE7SWkmrR9idmVlD\nFOEZD7n2EUTEjcCNw8ouqJh+TZ7vb2aN0dvXPymGuijKMx6aorPYzCaPyXLyLNIzHpwIzGy/rN+8\ng5Mv++keZYO7y9y9cTsRPHXyPOfatVz1kwdpmbJ3S/SyBZ2cuji/KwHHUzMp0jMenAjMbMyWjfAL\nv3+wTAnYXVFWSsuHJ4L1m3cA5JYIxlszabZnPOTZ3OZEYGZjduriOVVP4L19/Sy56DvsHqj4Fd1S\n4qozFu118hpem6ilWjTr1OpZ0rWQd3ObE4GZ1UyznDxr1azTDM94qEdfhROBmdXUWE6e1foZamFw\nd5m+Jwf3KOt7cpALv3lP1b6KZvZ4/yADg3s2UdW6r8KJwMxqLssDckbqZ6iFlikl5s46kPu3Pk4J\nKANzZx044ZIAQFtLifKwslr3VTgRmFlDjNTPMKQWnaPNcj/DeONYvXZTrs1tTgRm1nRq1TnaDI/u\nrMVnybuvYuLVk8xsUqvsHH2sf5BdA2XOXdU9IYd4qOVnmdnRxjGzp+eS2JwIzKypDF3xU2moc3Si\nmSifxYnAzJpKs93INR4T5bM4EZhZUxm6F2Fqa4lpbS1MbS017Eau8Zoon0UR0egYxmThwoWxZs2a\nRodhZjlrlit+aqEZPoukuyJiYbVlvmrIzJpSM1zxUyvN/lncNGRmVnBOBGZmBedEYGZWcE4EZmYF\n50RgZlZwTgRmZgXnRGBmVnBOBGZmBTfh7iyWtAV4KMe3mAVszXH/teI4a2+ixOo4a2uixAnji/Xw\niDi02oIJlwjyJmnNSLdhNxPHWXsTJVbHWVsTJU7IL1Y3DZmZFZwTgZlZwTkR7O3yRgeQkeOsvYkS\nq+OsrYkSJ+QUq/sIzMwKzjUCM7OCcyIwMyu4QiYCSbMlfVfSekn3SDqnyjqvkvSopLXp64IGxfqg\npF+kMez1aDYlPiVpg6RuScc2IMbnVRyntZJ2SHrfsHUadjwlXSnpEUm/rCg7RNJtkn6T/jtjhG1P\nS9f5jaTTGhDnxyX9Kv3bfl3S9BG2HfV7Uoc4PyppU8Xf98QRtj1e0n3p9/W8BsR5bUWMD0paO8K2\n9TyeVc9Hdf2ORkThXsBhwLHp9DTg18C8Yeu8CrihCWJ9EJg1yvITgZsAAS8B7mhwvFOAh0luXmmK\n4wm8EjgW+GVF2UrgvHT6POCiKtsdAjyQ/jsjnZ5R5ziPA1rS6YuqxZnle1KHOD8KfCjDd+N+4DnA\nAcC64f/v8o5z2PJPABc0wfGsej6q53e0kDWCiNgcEXen048B9wKdjY1qvy0Dro7E7cB0SYc1MJ5X\nA/dHRJ53f49JRPwA+OOw4mXAVen0VcAbqmz6WuC2iPhjRGwDbgOOr2ecEXFrRAyms7cDXXm9f1Yj\nHM8sFgEbIuKBiHgSuIbk75CL0eKUJODNwH/l9f5ZjXI+qtt3tJCJoJKkI4AXAXdUWfxSSesk3STp\nBXUN7GkB3CrpLknvrLK8E9hYMd9DY5PaKYz8n6sZjueQP4mIzen0w8CfVFmn2Y7tGSS1v2r29T2p\nh7PTJqwrR2jGaKbj+QrgDxHxmxGWN+R4Djsf1e07WuhEIKkDWAW8LyJ2DFt8N0nzxjHAJcA36h1f\n6uURcSxwAvBeSa9sUBz7JOkAYClwXZXFzXI89xJJHbupr6OWdD4wCHxlhFUa/T35DDAXWABsJml2\naWZvYfTaQN2P52jno7y/o4VNBJJaSQ76VyLi/w1fHhE7IqIvnb4RaJU0q85hEhGb0n8fAb5OUr2u\ntAmYXTHflZY1wgnA3RHxh+ELmuV4VvjDUBNa+u8jVdZpimMr6e3A64C3pieEvWT4nuQqIv4QEbsj\nogx8boT3b5bj2QL8T+Dakdap9/Ec4XxUt+9oIRNB2j54BXBvRFw8wjrPStdD0iKSY9VbvyhB0oGS\npg1Nk3Qc/nLYaquBv0mvHnoJ8GhFdbLeRvyV1QzHc5jVwNAVFqcB11dZ5xbgOEkz0qaO49KyupF0\nPHAusDQinhhhnSzfk1wN65d64wjvfydwtKQj09rjKSR/h3p7DfCriOiptrDex3OU81H9vqP16BVv\nthfwcpJqVjewNn2dCLwbeHe6ztnAPSRXNtwOvKwBcT4nff91aSznp+WVcQq4lORqjF8ACxt0TA8k\nObEfXFHWFMeTJDltBgZI2lDPBGYC3wZ+A3wLOCRddyHw+YptzwA2pK/TGxDnBpI24KHv6WfTdZ8N\n3Dja96TOcX4p/f51k5zADhseZzp/IslVMfc3Is60/ItD38uKdRt5PEc6H9XtO+ohJszMCq6QTUNm\nZvY0JwIzs4JzIjAzKzgnAjOzgnMiMDMruJZGB2DWLCR9FOgDDgJ+EBHfGmG9NwC/joj1dQzPLDeu\nEZgNExEXjJQEUm8gGR3SbFJwIrBCk3S+pF9L+hHwvLTsi5JOSqc/lo4T3y3pXyW9jGQ8pY+nY9XP\nlXSWpDvTAfVWSXpGxX4+Jeknkh4Y2me6bEU63v06SR9Ly+ZKujkd6OyHkp5f9wNiheSmISssSX9O\nMszBApL/C3cDd1Usn0kyXMLzIyIkTY+I7ZJWkzxb4Wvpetsj4nPp9P8hudP2knQ3h5HcOfp8kjtu\nvybpBJIhhhdHxBOSDknXvZzkjtffSFoMfBr4HzkeAjPAicCK7RXA1yMdwyc9wVd6FNgFXCHpBuCG\nEfbzwjQBTAc62HOsl29EMlODBsEAAAEUSURBVBDbeklDwwi/BvjC0PtGxB/TkSdfBlyXDskE0Dau\nT2eWkROB2QgiYjAdIO/VwEkk4yVV+4X+ReANEbEuHSn0VRXL+iumxchKwPaIWDCemM32h/sIrMh+\nALxBUns62uTrKxemv9IPjmTY7PcDx6SLHiN5pOCQacDmdCjht2Z439uA0yv6Eg6JZPz530p6U1om\nSceMthOzWnEisMKK5PGA15KMMnkTyTDJlaYBN0jqBn4EfCAtvwb4sKSfS5oL/APJE6V+DPwqw/ve\nTNJfsEbJw9M/lC56K3CmpKFRL3N7jKNZJY8+amZWcK4RmJkVnBOBmVnBORGYmRWcE4GZWcE5EZiZ\nFZwTgZlZwTkRmJkV3P8HMfSemA1HzeMAAAAASUVORK5CYII=\n",
                "text/plain": "<Figure size 432x288 with 1 Axes>"
              },
              {
                "output_type": "display_data",
                "metadata": {
                  "tags": []
                },
                "image/png": "iVBORw0KGgoAAAANSUhEUgAAAYIAAAEWCAYAAABrDZDcAAAABHNCSVQICAgIfAhkiAAAAAlwSFlz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\nVnBOBGZmBff/AR8ILp/o45jLAAAAAElFTkSuQmCC\n",
                "text/plain": "<Figure size 432x288 with 1 Axes>"
              }
            ],
            "_view_module": "@jupyter-widgets/output",
            "_model_module_version": "1.0.0",
            "_view_count": null,
            "_view_module_version": "1.0.0",
            "layout": "IPY_MODEL_71140fa374ec4f9aada8bb72c0207500",
            "_model_module": "@jupyter-widgets/output"
          }
        },
        "2c63c51fc12d4695af32fa40777996ca": {
          "model_module": "@jupyter-widgets/controls",
          "model_name": "SliderStyleModel",
          "state": {
            "_view_name": "StyleView",
            "handle_color": null,
            "_model_name": "SliderStyleModel",
            "description_width": "",
            "_view_module": "@jupyter-widgets/base",
            "_model_module_version": "1.5.0",
            "_view_count": null,
            "_view_module_version": "1.2.0",
            "_model_module": "@jupyter-widgets/controls"
          }
        },
        "ec0a6a9a98f5418da192a8486a296a85": {
          "model_module": "@jupyter-widgets/base",
          "model_name": "LayoutModel",
          "state": {
            "_view_name": "LayoutView",
            "grid_template_rows": null,
            "right": null,
            "justify_content": null,
            "_view_module": "@jupyter-widgets/base",
            "overflow": null,
            "_model_module_version": "1.2.0",
            "_view_count": null,
            "flex_flow": null,
            "width": null,
            "min_width": null,
            "border": null,
            "align_items": null,
            "bottom": null,
            "_model_module": "@jupyter-widgets/base",
            "top": null,
            "grid_column": null,
            "overflow_y": null,
            "overflow_x": null,
            "grid_auto_flow": null,
            "grid_area": null,
            "grid_template_columns": null,
            "flex": null,
            "_model_name": "LayoutModel",
            "justify_items": null,
            "grid_row": null,
            "max_height": null,
            "align_content": null,
            "visibility": null,
            "align_self": null,
            "height": null,
            "min_height": null,
            "padding": null,
            "grid_auto_rows": null,
            "grid_gap": null,
            "max_width": null,
            "order": null,
            "_view_module_version": "1.2.0",
            "grid_template_areas": null,
            "object_position": null,
            "object_fit": null,
            "grid_auto_columns": null,
            "margin": null,
            "display": null,
            "left": null
          }
        },
        "362b1485beeb4d6f93bf0b64182483fe": {
          "model_module": "@jupyter-widgets/controls",
          "model_name": "SliderStyleModel",
          "state": {
            "_view_name": "StyleView",
            "handle_color": null,
            "_model_name": "SliderStyleModel",
            "description_width": "",
            "_view_module": "@jupyter-widgets/base",
            "_model_module_version": "1.5.0",
            "_view_count": null,
            "_view_module_version": "1.2.0",
            "_model_module": "@jupyter-widgets/controls"
          }
        },
        "828a6d2297de4bf0bbd0c279baf4757b": {
          "model_module": "@jupyter-widgets/base",
          "model_name": "LayoutModel",
          "state": {
            "_view_name": "LayoutView",
            "grid_template_rows": null,
            "right": null,
            "justify_content": null,
            "_view_module": "@jupyter-widgets/base",
            "overflow": null,
            "_model_module_version": "1.2.0",
            "_view_count": null,
            "flex_flow": null,
            "width": null,
            "min_width": null,
            "border": null,
            "align_items": null,
            "bottom": null,
            "_model_module": "@jupyter-widgets/base",
            "top": null,
            "grid_column": null,
            "overflow_y": null,
            "overflow_x": null,
            "grid_auto_flow": null,
            "grid_area": null,
            "grid_template_columns": null,
            "flex": null,
            "_model_name": "LayoutModel",
            "justify_items": null,
            "grid_row": null,
            "max_height": null,
            "align_content": null,
            "visibility": null,
            "align_self": null,
            "height": null,
            "min_height": null,
            "padding": null,
            "grid_auto_rows": null,
            "grid_gap": null,
            "max_width": null,
            "order": null,
            "_view_module_version": "1.2.0",
            "grid_template_areas": null,
            "object_position": null,
            "object_fit": null,
            "grid_auto_columns": null,
            "margin": null,
            "display": null,
            "left": null
          }
        },
        "3ab7ca788b154020b7c2b3e87f099f6c": {
          "model_module": "@jupyter-widgets/controls",
          "model_name": "VBoxModel",
          "state": {
            "_view_name": "VBoxView",
            "_dom_classes": [
              "widget-interact"
            ],
            "_model_name": "VBoxModel",
            "_view_module": "@jupyter-widgets/controls",
            "_model_module_version": "1.5.0",
            "_view_count": null,
            "_view_module_version": "1.5.0",
            "box_style": "",
            "layout": "IPY_MODEL_c631cff210a3437cb2817c41664878fa",
            "_model_module": "@jupyter-widgets/controls",
            "children": [
              "IPY_MODEL_69827c5063274f9c8f654abd0b16f62a",
              "IPY_MODEL_96a4ae5f61f046aca6035e53c5240773",
              "IPY_MODEL_54c0bce4426f4d84a3f9eb92332d3e84"
            ]
          }
        },
        "c631cff210a3437cb2817c41664878fa": {
          "model_module": "@jupyter-widgets/base",
          "model_name": "LayoutModel",
          "state": {
            "_view_name": "LayoutView",
            "grid_template_rows": null,
            "right": null,
            "justify_content": null,
            "_view_module": "@jupyter-widgets/base",
            "overflow": null,
            "_model_module_version": "1.2.0",
            "_view_count": null,
            "flex_flow": null,
            "width": null,
            "min_width": null,
            "border": null,
            "align_items": null,
            "bottom": null,
            "_model_module": "@jupyter-widgets/base",
            "top": null,
            "grid_column": null,
            "overflow_y": null,
            "overflow_x": null,
            "grid_auto_flow": null,
            "grid_area": null,
            "grid_template_columns": null,
            "flex": null,
            "_model_name": "LayoutModel",
            "justify_items": null,
            "grid_row": null,
            "max_height": null,
            "align_content": null,
            "visibility": null,
            "align_self": null,
            "height": null,
            "min_height": null,
            "padding": null,
            "grid_auto_rows": null,
            "grid_gap": null,
            "max_width": null,
            "order": null,
            "_view_module_version": "1.2.0",
            "grid_template_areas": null,
            "object_position": null,
            "object_fit": null,
            "grid_auto_columns": null,
            "margin": null,
            "display": null,
            "left": null
          }
        },
        "69827c5063274f9c8f654abd0b16f62a": {
          "model_module": "@jupyter-widgets/controls",
          "model_name": "IntSliderModel",
          "state": {
            "_view_name": "IntSliderView",
            "style": "IPY_MODEL_8f0299286dd8492d8a947fc3f147e611",
            "_dom_classes": [],
            "description": "max_depth",
            "step": 1,
            "_model_name": "IntSliderModel",
            "orientation": "horizontal",
            "max": 6,
            "_view_module": "@jupyter-widgets/controls",
            "_model_module_version": "1.5.0",
            "value": 2,
            "_view_count": null,
            "disabled": false,
            "_view_module_version": "1.5.0",
            "min": 1,
            "continuous_update": true,
            "readout_format": "d",
            "description_tooltip": null,
            "readout": true,
            "_model_module": "@jupyter-widgets/controls",
            "layout": "IPY_MODEL_282428e604e24b54a3482666c420c560"
          }
        },
        "96a4ae5f61f046aca6035e53c5240773": {
          "model_module": "@jupyter-widgets/controls",
          "model_name": "IntSliderModel",
          "state": {
            "_view_name": "IntSliderView",
            "style": "IPY_MODEL_b512384237b842938e0e79816fb1200e",
            "_dom_classes": [],
            "description": "n_estimators",
            "step": 1,
            "_model_name": "IntSliderModel",
            "orientation": "horizontal",
            "max": 5,
            "_view_module": "@jupyter-widgets/controls",
            "_model_module_version": "1.5.0",
            "value": 3,
            "_view_count": null,
            "disabled": false,
            "_view_module_version": "1.5.0",
            "min": 2,
            "continuous_update": true,
            "readout_format": "d",
            "description_tooltip": null,
            "readout": true,
            "_model_module": "@jupyter-widgets/controls",
            "layout": "IPY_MODEL_c600fc71963f444f80789144b956de50"
          }
        },
        "54c0bce4426f4d84a3f9eb92332d3e84": {
          "model_module": "@jupyter-widgets/output",
          "model_name": "OutputModel",
          "state": {
            "_view_name": "OutputView",
            "msg_id": "",
            "_dom_classes": [],
            "_model_name": "OutputModel",
            "outputs": [
              {
                "output_type": "display_data",
                "metadata": {
                  "tags": []
                },
                "image/png": "iVBORw0KGgoAAAANSUhEUgAAAYIAAAEWCAYAAABrDZDcAAAABHNCSVQICAgIfAhkiAAAAAlwSFlz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\nrOAcBGZmBff/AdY+F18d1sITAAAAAElFTkSuQmCC\n",
                "text/plain": "<Figure size 432x288 with 1 Axes>"
              },
              {
                "output_type": "display_data",
                "metadata": {
                  "tags": []
                },
                "image/png": "iVBORw0KGgoAAAANSUhEUgAAAYIAAAEWCAYAAABrDZDcAAAABHNCSVQICAgIfAhkiAAAAAlwSFlz\nAAALEgAACxIB0t1+/AAAADh0RVh0U29mdHdhcmUAbWF0cGxvdGxpYiB2ZXJzaW9uMy4xLjMsIGh0\ndHA6Ly9tYXRwbG90bGliLm9yZy+AADFEAAAbCklEQVR4nO3df5wddX3v8dd7k5AEs5CQxKj5YSIJ\nciOQgCsQIxTEH4g1iw9UfppWEdQrvaBUQGyjpn3cK9hyq5YqFIGGWvmRKEQaAQVbagVuNjQJEAqs\n/MhujCFsCUkkWZLu5/4xs3Cy7G5ms2fOOXvm/Xw89rFn5syZ+Zxk97z3+/3OfEcRgZmZFVdDtQsw\nM7PqchCYmRWcg8DMrOAcBGZmBecgMDMrOAeBmVnBOQjMzArOQWCFJml7yVeXpB0ly2fnfOxRkq6X\ntF7SNkkPS/pgnsc0683wahdgVk0RMab7saRngc9ExC/62l7S8IjYXabD7wc8CxwHtAEfAZZKmh0R\nbWU6htleuUVg1g9JfynpFkk/krQNOEdSg6TLJf1G0guSbpY0ruQ18yU9KGmLpNWSju9t3xGxNSIW\nR8RzEdEVEXeQBMJRFXp7ZoCDwCyLjwL/BBwI3AJ8EfgwcDwwBdgOfAdA0lRgOfA14CDgMuDHksbv\n7SCS3gwcDKwr/1sw65uDwGzvfhURP03/at8BfA64PCI2RMRO4BvAxyU1AAuB5RFxd7r9XcAa4OT+\nDiBpP5KwuS4insr37ZjtyWMEZnvXs79+GvBTSV091r8ReCtwpqSPlqwfAdzV184lDQN+SNKyuHDw\n5ZoNjIPAbO96TtHbDpwVEQ/13FBSG3BDRHw+y47TVsQNwDjgw2UciDbLzF1DZgP3feB/S5oGIOmN\nkhakz90EfFTS+yUNS08RPVHSW3ruRJKAa0jGBZojorNSb8CslIPAbOCuIunquTc9k+jXwLsAIuJZ\nksHlPwc2A+uBi+n9d+1twGdIzhLaVHL9wum5vwOzEvKNaczMis0tAjOzgnMQmJkVnIPAzKzgHARm\nZgU35K4jmDBhQkyfPr3aZZiZDSmrVq16ISIm9vbckAuC6dOn09LSUu0yzMyGFEnP9fWcu4bMzArO\nQWBmVnAOAjOzgnMQmJkVnIPAzKzgHARmZgXnIDAzKzgHgZlZwRUmCFo3bWNpSxutm7ZVuxQzs5oy\n5K4s3heLbn+EJQ+uf3V54bxpLG4+vIoVmZnVjroPgtZN2/YIAYAlD6xnddtLjB4xLPfjN8+dzFnH\nTMv9OGZm+6ruu4ZWt23pdf32nfnfI3zdxq3csXpD7scxMxuMum8RzJ06ttf1137yncyc1JjrsU+/\n5oFc929mVg513yKYOamRhfP27JpZOG9a7iFgZjZU1H2LAGBx8+EsPHY6q9u2MHfqWIeAmVmJQgQB\nJC0DB4CZ2evVfdeQmZn1z0FgZlZwDgIzs4JzEJiZFZyDwMys4BwEZmYF5yAwMys4B4GZWcE5CMzM\nCs5BYGZWcA4CM7OCcxCYmRWcg8DMrOAcBGZmBecgMDMrOAeBmVnBOQjMzArOQWBmVnAOAjOzgnMQ\nmJkVnIPAzKzgHARmZgXnIDAzKzgHgZlZweUaBJJOlvSEpFZJl/Xy/DRJv5T0H5LWSjolz3rMzOz1\ncgsCScOAq4EPAbOBMyXN7rHZnwG3RsSRwBnA3+VVj5mZ9S7PFsHRQGtEPB0RrwA3A809tgnggPTx\ngcBvc6zHzMx6kWcQTAbaSpbb03Wlvg6cI6kdWAH8SW87knS+pBZJLZs3b86jVjOzwqr2YPGZwI0R\nMQU4BbhJ0utqiohrI6IpIpomTpxY8SLNzOpZnkGwAZhasjwlXVfqXOBWgIh4ABgFTMixJjMz6yHP\nIFgJzJI0Q9J+JIPBy3tssx44CUDS/yAJAvf9mJlVUG5BEBG7gQuAu4HHSc4OekzSYkkL0s0uBs6T\ntAb4EfDHERF51WRmZq83PM+dR8QKkkHg0nWLSh6vA+bnWYOZmfWv2oPFZmZWZQ4CM7OCcxCYmRWc\ng8DMrOAcBGZmBecgMDMrOAeBmVnBOQjMzArOQWBmVnAOAjOzgnMQmJkVnIPAzKzgHARmZgXnIDAz\nKzgHgZlZwTkIzMwKzkFgZlZwDgIzs4JzEJiZFZyDwMys4BwEZmYF5yAwMys4B4GZWcHtNQgkXSjp\nACV+IOlhSR+oRHFmZpa/LC2CT0fEVuADwDjgk8A3c63KzMwqJksQKP1+CnBTRDxWss7MzIa4LEGw\nStI9JEFwt6RGoCvfsszMrFKGZ9jmXGAu8HREvCzpIOBT+ZZlZmaVkqVFMA94IiK2SDoH+DPgpXzL\nMjOzSskSBN8DXpY0B7gY+A2wJNeqzMysYrIEwe6ICKAZ+NuIuBpozLcsMzOrlCxjBNskfYXktNHj\nJDUAI/Ity8zMKiVLi+B0oJPkeoLfAVOAb+ValZmZVcxegyD98F8GjExXvQD8JM+izMyscrJMMXEe\nsBS4Jl01Gbg9z6LMzKxysnQNfQGYD2wFiIingDfmWZSZmVVOliDojIhXuhckDQciv5LMzKySsgTB\nv0q6HBgt6f3AbcBP8y3LzMwqJUsQXAZsBh4BPgusILm62MzM6kCWIBgNXB8RH4+IjwHXp+v2StLJ\nkp6Q1Crpsj62+YSkdZIek/RP2Us3M7NyyBIE97LnB/9o4Bd7e5GkYcDVwIeA2cCZkmb32GYW8BVg\nfkS8A7goY91mZlYmWYJgVERs715IH++f4XVHA60R8XQ62HwzyTQVpc4Dro6IF9N9P5+tbDMzK5cs\nQfB7SUd1L0h6J7Ajw+smA20ly+3pulKHAIdI+ndJD0o6ubcdSTpfUoukls2bN2c4dDF1bO9kTdsW\nOrZ3VrsUMxtCssw1dBFwm6TfktyZ7E0k006U6/izgBNIpq64X9LhEbGldKOIuBa4FqCpqcmnrvbi\njtUbuHTZWkY0NLCrq4srTzuCBXN75q6Z2evtNQgiYqWkQ4G3p6ueiIhdGfa9AZhasjwlXVeqHXgo\n3d8zkp4kCYaVGfZvqY7tnVy6bC07d3WxM7153CXL1jJ/5gTGjxm5l1ebWdFlmWLiC8AbIuLRiHgU\nGCPpf2bY90pglqQZkvYDzgCW99jmdpLWAJImkHQVPT2A+g1of3EHIxr2/K8c0dBA+4tZevDMrOiy\njBGcV9pVkw7snre3F0XEbuAC4G7gceDWiHhM0mJJC9LN7gY6JK0Dfgl8OSI6Bvomim7KuNHs6trz\nNtK7urqYMi7TWb5mVnBZxgiGSVJ6c5ru00L3y7LziFhBcgFa6bpFJY8D+FL6Zfto/JiRXHnaEVzS\nY4zA3UJmlkWWILgLuEVS9+yjn03XWQ1ZMHcy82dOoP3FHUwZN9ohYGaZZQmCS0k+/D+fLv8cuC63\nimyfjR8z0gFgZgOW5ayhLpIb2H8v/3LMzKzS9hoEkp6hl2mnI+JtuVRkZmYVlaVrqKnk8Sjg48BB\n+ZRTf9Zt3Mrp1zxQ7TIGbPd/d9G5u4uRwxsYPizLyWXl0Tx3MmcdM61ixzOzbF1DPU/n/BtJq4BF\nvW1vr2keolf2dmzv5Dcv/J4GoAs4eMIbKjL2sG7jVgAHgVmFZekaOqpksYGkhZClJVF4Zx0zbch9\nqHVs72T+FfcRAf+drmvfsoNbPjsv9zAYii0ns3qQ5QP9r0se7waeBT6RSzVWdd1XKXdPVQGvXaXs\nM5LM6lOWrqETK1GI1YY8rlLu2N7p6xvMaliWuYYulHSAEtdJeljSBypRnFVe91XKo0Y00DhyOKNG\nNAzqKuU7Vm9g/hX3cc51DzH/ivtYvrrnvINmVm1ZuoY+HRHflvRBYDzwSeAm4J5cK7OqKddVyp4V\n1WxoyBIESr+fAixJJ45Tfy+woa8cVyl7vMFsaMhygvgqSfeQBMHdkhqBrr28xsyzopoNEVmC4Fzg\nMuBdEfEyycyjn8q1KqsL5R5vMLN8ZJ1r6OGS5Q7A9wywTDwrqlnt84VhljvPimpW2/rsGpI0o5KF\nmJlZdfQ3RrAUQNK9FarFzMyqoL+uoQZJlwOHSHrdrSQj4qr8yjIzs0rpr0VwBsm8Y8OBxl6+zMys\nDvTZIoiIJ4ArJK2NiJ9VsCYzM6ugLNcR/FrSVZJa0q+/lnRg7pWZmVlFZAmC64FtJFNPfwLYCtyQ\nZ1FmZlY5Wa4jODgiTitZ/oak1XkVZGZmlZWlRbBD0nu6FyTNB3bkV5JZ31o3bWNpSxutm7ZVuxSz\nupGlRfA5YEnJuMCLwB/lV5JZ7xbd/ghLHlz/6vLCedNY3Hx4FSsyqw97bRFExJqImAMcARwREUdG\nxNr8SzN7TeumbXuEAMCSB9a7ZWBWBlm6hgCIiK0RsTXPYsz6srpty4DWm1l2mYPArJrmTh07oPVm\nlp2DwIaEmZMaWThv2h7rFs6bxsxJvsjdbLD2OlgsaX/gYmBaRJwnaRbw9oi4M/fqzEosbj6chcdO\nZ3XbFuZOHesQMCuTLGcN3QCsAualyxuA2wAHgVXczEmNDgCzMsvSNXRwRFwJ7AJIb1fpm9ebmdWJ\nLEHwiqTRQABIOhjozLUqMzOrmCxdQ18H7gKmSvohMB/fvN7MrG5kuXn9PZJWAceSdAldGBEv5F6Z\nmZlVxF67hiTdGxEdEfHPEXFnRLzg21eamdWPPlsEkkYB+wMTJI3jtQHiA4DJFajNzMwqoL+uoc8C\nFwFvITl9tDsItgJ/m3NdZmZWIX12DUXEtyNiBvCnEfG2iJiRfs2JiExBIOlkSU9IapV0WT/bnSYp\nJDXtw3swM7NByDJY/F1JhwGzgVEl65f09zpJw4CrgfcD7cBKScsjYl2P7RqBC4GHBl6+mZkNVpbB\n4q8B302/TgSuBBZk2PfRQGtEPB0RrwA3A829bPcXwBXAzqxFm5lZ+WS5oOxjwEnA7yLiU8AcIMvN\n6ycDbSXL7fQYZJZ0FDA1Iv65vx1JOl9Si6SWzZs3Zzi0mZlllelWlRHRBeyWdADwPDB1sAeW1ABc\nRTKhXb8i4tqIaIqIpokTJw720GZmViLLlcUtksYCf09y9tB24IEMr9vAnoExJV3XrRE4DPgXSQBv\nApZLWhARLRn2b2ZmZdBvECj5hP4/EbEF+L6ku4ADMt6qciUwS9IMkgA4Azir+8mIeAmYUHKsfyE5\nQ8khYGZWQf0GQUSEpBXA4enys1l3HBG7JV0A3A0MA66PiMckLQZaImL5vpdt9Wrdxq2cfk2WBqcB\nNM+dzFnHTNv7hmb9yNI19LCkd0XEyoHuPCJWACt6rFvUx7YnDHT/Vl+a5/qC9YFYtzG5hbiDwAYr\nSxAcA5wt6Tng9yRXGEdEHJFrZVY4Zx0zzR9qA+CWk5VLliD4YO5VmJlZ1WS5svi5ShRiZmbVkeU6\nAjMzq2MOAjOzgnMQmJkVnIPAzKzgHARmZdC6aRtLW9po3bSt2qWYDViW00fNrB+Lbn+EJQ+uf3V5\n4bxpLG4+vIoVmQ2MWwRmg9C6adseIQCw5IH1bhnYkOIgMBuE1W1bBrTerBY5CMwGYe7UsQNan0XH\n9k7WtG2hY3vnPu/DbCA8RmA2CDMnNbJw3jSWPLDnGMHMSY37tL87Vm/g0mVrGdHQwK6uLq487QgW\neDI+y5mDwGyQFjcfzsJjp7O6bQtzp47d5xDo2N7JpcvWsnNXFzvpAuCSZWuZP3MC48eMLGfJNaFj\neyftL+5gyrjRdfn+hhIHgVkZzJzUuM8B0K39xR2MaGh4NQQARjQ00P7ijrr7oHTLp7Z4jMCsRkwZ\nN5pdXV17rNvV1cWUcaOrVFE+Sls+2zp3s3NXF5csW+sxkSpyEJjViPFjRnLlaUcwakQDjSOHM2pE\nA1eedkTdtQa6Wz6luls+Vh3uGjKrIQvmTmb+zAl13XdelJbPUOIWgVmNGT9mJHOmjq3LEIDitHyG\nErcIzKziitDyGUocBGZWFePHjHQA1Ah3DZmZFZyDwMys4BwEZmYF5yAwMys4B4GZWcE5CMzqmKe0\ntix8+qhZnfLEbpaVWwRmdcgTu9lAOAjM6pAndrOBcBCY1aE8JnZreaaDq+55gpZnOgZbntUYjxGY\n1aHuid0u6TFGsK9TOpxz3YP8qjUJgO/c18pxM8dz02eOLWfJVkUOArM6Va6J3Vqe6Xg1BLr9W2sH\nLc900DRjfDlKtSpz15BZHSvHlNb3P/XCgNbb0OMgMLN+HT9rwoDW29DjIDCzfjXNGM9xM/fsAjpu\n5nh3C9URjxGY2V7d9JljaXmmg/ufeoHjZ01wCNQZB4GZZdI0w62AeuUgMBvC1m3cyunXPFDtMqxC\nZr/lAL72kXeUfb+5jhFIOlnSE5JaJV3Wy/NfkrRO0lpJ90p6a571mNWT5rmTmf3mA6pdhtUBRUQ+\nO5aGAU8C7wfagZXAmRGxrmSbE4GHIuJlSZ8HToiI0/vbb1NTU7S0tORSs5lZvZK0KiKaensuzxbB\n0UBrRDwdEa8ANwPNpRtExC8j4uV08UFgSo71mJlZL/IMgslAW8lye7quL+cCP8uxHjMz60VNDBZL\nOgdoAv6gj+fPB84HmDZtWgUrMzOrf3m2CDYAU0uWp6Tr9iDpfcBXgQUR0etk6RFxbUQ0RUTTxIkT\ncynWzKyo8gyClcAsSTMk7QecASwv3UDSkcA1JCHwfI61mJlZH3ILgojYDVwA3A08DtwaEY9JWixp\nQbrZt4AxwG2SVkta3sfuzMwKLc/7T+c6RhARK4AVPdYtKnn8vjyPb2bF0LG9c9DTbdeyvO8/XROD\nxWZm+yrvD8lqK73/9E6Su85dsmwt82dOKFvoefZRMxuySj8kt3XuZueuLi5ZtjaX7pN9UY7unErc\nf9otAjMbsro/JLv/UobXPiSr3UVUrpZKHvef7sktAjMbsirxIbkvytlS6b7/9KgRDTSOHM6oEQ2D\nuv90b9wiMLMhq/tD8pIef3lXuzVQ7pZKue4/3RcHgZkNaXl/SO6LPFoq48eMzO29uWvIzIa88WNG\nMmfq2JoIAahMd045uUVgZlaiXNck1GJLpS8OAjOzVLmvScizO6ec3DVkZkbtX5OQJweBmRmVuXCr\nVjkIzMyo3WsSKsFBYGbG0DvTp5w8WGxmlhpKZ/qUk4PAzKzEUDnTp5zcNWRmVnAOAjOzgnMQmJkV\nnIPAzKzgHARmZgXnIDAzKzgHgZlZwTkIzMwKThFR7RoGRNJm4Ll9fPkE4IUyllMurmtgXNfA1Gpd\nULu11WNdb42Iib09MeSCYDAktUREU7Xr6Ml1DYzrGpharQtqt7ai1eWuITOzgnMQmJkVXNGC4Npq\nF9AH1zUwrmtgarUuqN3aClVXocYIzMzs9YrWIjAzsx4cBGZmBVeIIJA0VdIvJa2T9JikC6tdUylJ\nwyT9h6Q7q11LN0ljJS2V9J+SHpc0r9o1AUj6Yvp/+KikH0kaVaU6rpf0vKRHS9YdJOnnkp5Kv4+r\nkbq+lf4/rpX0E0lja6GukuculhSSJtRKXZL+JP03e0zSlbVQl6S5kh6UtFpSi6Sjy3W8QgQBsBu4\nOCJmA8cCX5A0u8o1lboQeLzaRfTwbeCuiDgUmEMN1CdpMvC/gKaIOAwYBpxRpXJuBE7use4y4N6I\nmAXcmy5X2o28vq6fA4dFxBHAk8BXKl0UvdeFpKnAB4D1lS4odSM96pJ0ItAMzImIdwB/VQt1AVcC\n34iIucCidLksChEEEbExIh5OH28j+VCbXN2qEpKmAB8Grqt2Ld0kHQgcD/wAICJeiYgt1a3qVcOB\n0ZKGA/sDv61GERFxP/BfPVY3A/+QPv4H4NSKFkXvdUXEPRGxO118EJhSC3Wl/i9wCVCVs1b6qOvz\nwDcjojPd5vkaqSuAA9LHB1LGn/1CBEEpSdOBI4GHqlvJq/6G5Behq9qFlJgBbAZuSLusrpP0hmoX\nFREbSP46Ww9sBF6KiHuqW9UeJkXExvTx74BJ1SymD58GflbtIgAkNQMbImJNtWvp4RDgOEkPSfpX\nSe+qdkGpi4BvSWoj+T0oW8uuUEEgaQywDLgoIrbWQD1/CDwfEauqXUsPw4GjgO9FxJHA76lON8ce\n0j73ZpKgegvwBknnVLeq3kVyXnZNnZst6ask3aQ/rIFa9gcuJ+niqDXDgYNIupG/DNwqSdUtCUha\nKl+MiKnAF0lb7OVQmCCQNIIkBH4YET+udj2p+cACSc8CNwPvlfSP1S0JgHagPSK6W01LSYKh2t4H\nPBMRmyNiF/Bj4N1VrqnUJklvBki/V7xLoS+S/hj4Q+DsqI2Lhw4mCfQ16c//FOBhSW+qalWJduDH\nkfh/JK31ig9k9+KPSH7mAW4DPFg8EGma/wB4PCKuqnY93SLiKxExJSKmkwx63hcRVf8LNyJ+B7RJ\nenu66iRgXRVL6rYeOFbS/un/6UnUwCB2ieUkv6yk3++oYi2vknQySffjgoh4udr1AETEIxHxxoiY\nnv78twNHpT971XY7cCKApEOA/aiNmUh/C/xB+vi9wFNl23NE1P0X8B6SZvpaYHX6dUq16+pR4wnA\nndWuo6SeuUBL+m92OzCu2jWldX0D+E/gUeAmYGSV6vgRyTjFLpIPsXOB8SRnCz0F/AI4qEbqagXa\nSn72v18LdfV4/llgQi3URfLB/4/pz9jDwHtrpK73AKuANSRjnO8s1/E8xYSZWcEVomvIzMz65iAw\nMys4B4GZWcE5CMzMCs5BYGZWcMOrXYBZrZD0dWA7yXwu90fEL/rY7lTgyYiohWsrzAbNLQKzHiJi\nUV8hkDoVqKXZa80GxUFghSbpq5KelPQr4O3puhslfSx9/M30PhZrJf2VpHcDC0gm/1ot6WBJ50la\nKWmNpGXpPDrd+/mOpF9Lerp7n+lzl0p6JH3NN9N1B0u6S9IqSf8m6dCK/4NYIblryApL0jtJpvaY\nS/K78DDJlZvdz48HPgocGhEhaWxEbJG0nOQq8KXpdlsi4u/Tx39JchXod9PdvJnkitBDSaagWCrp\nQyST5x0TES9LOijd9lrgcxHxlKRjgL8jmUrALFcOAiuy44CfRDr/TvoBX+olYCfwAyV3j+vrDnKH\npQEwFhgD3F3y3O0R0QWsk9Q9LfX7gBu6jxsR/5XOjPtu4LaSiS5HDurdmWXkIDDrQ0TsTm8HeBLw\nMeACev8L/Ubg1IhYk87yeULJc50lj/ubyrgB2BLJ3afMKspjBFZk9wOnShotqRH4SOmT6V/pB0bE\nCpL53+ekT20DGks2bQQ2plOdn53huD8HPlUylnBQJPfHeEbSx9N1kjSnv52YlYuDwAorktuX3kIy\nm+PPgJU9NmkE7pS0FvgV8KV0/c3Al9O7tx0M/DnJbJD/TjIz6t6OexfJeEGLpNXAn6ZPnQ2cK2kN\n8BjJOIJZ7jz7qJlZwblFYGZWcA4CM7OCcxCYmRWcg8DMrOAcBGZmBecgMDMrOAeBmVnB/X9zZYv6\nmj30OwAAAABJRU5ErkJggg==\n",
                "text/plain": "<Figure size 432x288 with 1 Axes>"
              },
              {
                "output_type": "display_data",
                "metadata": {
                  "tags": []
                },
                "image/png": "iVBORw0KGgoAAAANSUhEUgAAAYIAAAEWCAYAAABrDZDcAAAABHNCSVQICAgIfAhkiAAAAAlwSFlz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\nYGaWcw4CM7OccxCYmeXcfwENteAjbze+3wAAAABJRU5ErkJggg==\n",
                "text/plain": "<Figure size 432x288 with 1 Axes>"
              },
              {
                "output_type": "display_data",
                "metadata": {
                  "tags": []
                },
                "image/png": "iVBORw0KGgoAAAANSUhEUgAAAYIAAAEWCAYAAABrDZDcAAAABHNCSVQICAgIfAhkiAAAAAlwSFlz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\n4YsUAAAAAElFTkSuQmCC\n",
                "text/plain": "<Figure size 432x288 with 1 Axes>"
              }
            ],
            "_view_module": "@jupyter-widgets/output",
            "_model_module_version": "1.0.0",
            "_view_count": null,
            "_view_module_version": "1.0.0",
            "layout": "IPY_MODEL_e4e61ee030314cc5beabaed587c5b79b",
            "_model_module": "@jupyter-widgets/output"
          }
        },
        "8f0299286dd8492d8a947fc3f147e611": {
          "model_module": "@jupyter-widgets/controls",
          "model_name": "SliderStyleModel",
          "state": {
            "_view_name": "StyleView",
            "handle_color": null,
            "_model_name": "SliderStyleModel",
            "description_width": "",
            "_view_module": "@jupyter-widgets/base",
            "_model_module_version": "1.5.0",
            "_view_count": null,
            "_view_module_version": "1.2.0",
            "_model_module": "@jupyter-widgets/controls"
          }
        },
        "282428e604e24b54a3482666c420c560": {
          "model_module": "@jupyter-widgets/base",
          "model_name": "LayoutModel",
          "state": {
            "_view_name": "LayoutView",
            "grid_template_rows": null,
            "right": null,
            "justify_content": null,
            "_view_module": "@jupyter-widgets/base",
            "overflow": null,
            "_model_module_version": "1.2.0",
            "_view_count": null,
            "flex_flow": null,
            "width": null,
            "min_width": null,
            "border": null,
            "align_items": null,
            "bottom": null,
            "_model_module": "@jupyter-widgets/base",
            "top": null,
            "grid_column": null,
            "overflow_y": null,
            "overflow_x": null,
            "grid_auto_flow": null,
            "grid_area": null,
            "grid_template_columns": null,
            "flex": null,
            "_model_name": "LayoutModel",
            "justify_items": null,
            "grid_row": null,
            "max_height": null,
            "align_content": null,
            "visibility": null,
            "align_self": null,
            "height": null,
            "min_height": null,
            "padding": null,
            "grid_auto_rows": null,
            "grid_gap": null,
            "max_width": null,
            "order": null,
            "_view_module_version": "1.2.0",
            "grid_template_areas": null,
            "object_position": null,
            "object_fit": null,
            "grid_auto_columns": null,
            "margin": null,
            "display": null,
            "left": null
          }
        },
        "b512384237b842938e0e79816fb1200e": {
          "model_module": "@jupyter-widgets/controls",
          "model_name": "SliderStyleModel",
          "state": {
            "_view_name": "StyleView",
            "handle_color": null,
            "_model_name": "SliderStyleModel",
            "description_width": "",
            "_view_module": "@jupyter-widgets/base",
            "_model_module_version": "1.5.0",
            "_view_count": null,
            "_view_module_version": "1.2.0",
            "_model_module": "@jupyter-widgets/controls"
          }
        },
        "c600fc71963f444f80789144b956de50": {
          "model_module": "@jupyter-widgets/base",
          "model_name": "LayoutModel",
          "state": {
            "_view_name": "LayoutView",
            "grid_template_rows": null,
            "right": null,
            "justify_content": null,
            "_view_module": "@jupyter-widgets/base",
            "overflow": null,
            "_model_module_version": "1.2.0",
            "_view_count": null,
            "flex_flow": null,
            "width": null,
            "min_width": null,
            "border": null,
            "align_items": null,
            "bottom": null,
            "_model_module": "@jupyter-widgets/base",
            "top": null,
            "grid_column": null,
            "overflow_y": null,
            "overflow_x": null,
            "grid_auto_flow": null,
            "grid_area": null,
            "grid_template_columns": null,
            "flex": null,
            "_model_name": "LayoutModel",
            "justify_items": null,
            "grid_row": null,
            "max_height": null,
            "align_content": null,
            "visibility": null,
            "align_self": null,
            "height": null,
            "min_height": null,
            "padding": null,
            "grid_auto_rows": null,
            "grid_gap": null,
            "max_width": null,
            "order": null,
            "_view_module_version": "1.2.0",
            "grid_template_areas": null,
            "object_position": null,
            "object_fit": null,
            "grid_auto_columns": null,
            "margin": null,
            "display": null,
            "left": null
          }
        },
        "58b393f54e2d416e9b71f5cc00c7e1ab": {
          "model_module": "@jupyter-widgets/controls",
          "model_name": "VBoxModel",
          "state": {
            "_view_name": "VBoxView",
            "_dom_classes": [
              "widget-interact"
            ],
            "_model_name": "VBoxModel",
            "_view_module": "@jupyter-widgets/controls",
            "_model_module_version": "1.5.0",
            "_view_count": null,
            "_view_module_version": "1.5.0",
            "box_style": "",
            "layout": "IPY_MODEL_6770397f0b554fafa04e59e29637c674",
            "_model_module": "@jupyter-widgets/controls",
            "children": [
              "IPY_MODEL_0a8aa4589a0b42f4a67f8b08b289aab8",
              "IPY_MODEL_dd7d8e63b7bb4301ba512bff8230b2d4",
              "IPY_MODEL_242cc9b8faf84d3999d52bb13cb7abe9"
            ]
          }
        },
        "6770397f0b554fafa04e59e29637c674": {
          "model_module": "@jupyter-widgets/base",
          "model_name": "LayoutModel",
          "state": {
            "_view_name": "LayoutView",
            "grid_template_rows": null,
            "right": null,
            "justify_content": null,
            "_view_module": "@jupyter-widgets/base",
            "overflow": null,
            "_model_module_version": "1.2.0",
            "_view_count": null,
            "flex_flow": null,
            "width": null,
            "min_width": null,
            "border": null,
            "align_items": null,
            "bottom": null,
            "_model_module": "@jupyter-widgets/base",
            "top": null,
            "grid_column": null,
            "overflow_y": null,
            "overflow_x": null,
            "grid_auto_flow": null,
            "grid_area": null,
            "grid_template_columns": null,
            "flex": null,
            "_model_name": "LayoutModel",
            "justify_items": null,
            "grid_row": null,
            "max_height": null,
            "align_content": null,
            "visibility": null,
            "align_self": null,
            "height": null,
            "min_height": null,
            "padding": null,
            "grid_auto_rows": null,
            "grid_gap": null,
            "max_width": null,
            "order": null,
            "_view_module_version": "1.2.0",
            "grid_template_areas": null,
            "object_position": null,
            "object_fit": null,
            "grid_auto_columns": null,
            "margin": null,
            "display": null,
            "left": null
          }
        },
        "0a8aa4589a0b42f4a67f8b08b289aab8": {
          "model_module": "@jupyter-widgets/controls",
          "model_name": "IntSliderModel",
          "state": {
            "_view_name": "IntSliderView",
            "style": "IPY_MODEL_5b6e03a4446343a9adbb712f64d65318",
            "_dom_classes": [],
            "description": "max_depth",
            "step": 1,
            "_model_name": "IntSliderModel",
            "orientation": "horizontal",
            "max": 6,
            "_view_module": "@jupyter-widgets/controls",
            "_model_module_version": "1.5.0",
            "value": 3,
            "_view_count": null,
            "disabled": false,
            "_view_module_version": "1.5.0",
            "min": 1,
            "continuous_update": true,
            "readout_format": "d",
            "description_tooltip": null,
            "readout": true,
            "_model_module": "@jupyter-widgets/controls",
            "layout": "IPY_MODEL_ca8331fff6b64318b86a30c0ede8e039"
          }
        },
        "dd7d8e63b7bb4301ba512bff8230b2d4": {
          "model_module": "@jupyter-widgets/controls",
          "model_name": "IntSliderModel",
          "state": {
            "_view_name": "IntSliderView",
            "style": "IPY_MODEL_a89f1f00c9204c2b846804a56b9babfe",
            "_dom_classes": [],
            "description": "n_estimators",
            "step": 10,
            "_model_name": "IntSliderModel",
            "orientation": "horizontal",
            "max": 40,
            "_view_module": "@jupyter-widgets/controls",
            "_model_module_version": "1.5.0",
            "value": 20,
            "_view_count": null,
            "disabled": false,
            "_view_module_version": "1.5.0",
            "min": 10,
            "continuous_update": true,
            "readout_format": "d",
            "description_tooltip": null,
            "readout": true,
            "_model_module": "@jupyter-widgets/controls",
            "layout": "IPY_MODEL_ce341b42c8f646e38ff2c0d71ec631a8"
          }
        },
        "242cc9b8faf84d3999d52bb13cb7abe9": {
          "model_module": "@jupyter-widgets/output",
          "model_name": "OutputModel",
          "state": {
            "_view_name": "OutputView",
            "msg_id": "",
            "_dom_classes": [],
            "_model_name": "OutputModel",
            "outputs": [
              {
                "output_type": "display_data",
                "metadata": {
                  "tags": []
                },
                "image/png": "iVBORw0KGgoAAAANSUhEUgAAAVoAAAEFCAYAAACiiS9UAAAABHNCSVQICAgIfAhkiAAAAAlwSFlz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\niMISaCMiCkugjYgoLIE2IqKw/w82Ij7xNfGDkQAAAABJRU5ErkJggg==\n",
                "text/plain": "<Figure size 432x288 with 2 Axes>"
              },
              {
                "output_type": "display_data",
                "metadata": {
                  "tags": []
                },
                "image/png": "iVBORw0KGgoAAAANSUhEUgAAAVoAAAEFCAYAAACiiS9UAAAABHNCSVQICAgIfAhkiAAAAAlwSFlz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\nRK5CYII=\n",
                "text/plain": "<Figure size 432x288 with 2 Axes>"
              },
              {
                "output_type": "display_data",
                "metadata": {
                  "tags": []
                },
                "image/png": "iVBORw0KGgoAAAANSUhEUgAAAVoAAAEFCAYAAACiiS9UAAAABHNCSVQICAgIfAhkiAAAAAlwSFlz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\nAAAAAElFTkSuQmCC\n",
                "text/plain": "<Figure size 432x288 with 2 Axes>"
              }
            ],
            "_view_module": "@jupyter-widgets/output",
            "_model_module_version": "1.0.0",
            "_view_count": null,
            "_view_module_version": "1.0.0",
            "layout": "IPY_MODEL_263f75df55684cc4b53c9e35440c7165",
            "_model_module": "@jupyter-widgets/output"
          }
        },
        "5b6e03a4446343a9adbb712f64d65318": {
          "model_module": "@jupyter-widgets/controls",
          "model_name": "SliderStyleModel",
          "state": {
            "_view_name": "StyleView",
            "handle_color": null,
            "_model_name": "SliderStyleModel",
            "description_width": "",
            "_view_module": "@jupyter-widgets/base",
            "_model_module_version": "1.5.0",
            "_view_count": null,
            "_view_module_version": "1.2.0",
            "_model_module": "@jupyter-widgets/controls"
          }
        },
        "ca8331fff6b64318b86a30c0ede8e039": {
          "model_module": "@jupyter-widgets/base",
          "model_name": "LayoutModel",
          "state": {
            "_view_name": "LayoutView",
            "grid_template_rows": null,
            "right": null,
            "justify_content": null,
            "_view_module": "@jupyter-widgets/base",
            "overflow": null,
            "_model_module_version": "1.2.0",
            "_view_count": null,
            "flex_flow": null,
            "width": null,
            "min_width": null,
            "border": null,
            "align_items": null,
            "bottom": null,
            "_model_module": "@jupyter-widgets/base",
            "top": null,
            "grid_column": null,
            "overflow_y": null,
            "overflow_x": null,
            "grid_auto_flow": null,
            "grid_area": null,
            "grid_template_columns": null,
            "flex": null,
            "_model_name": "LayoutModel",
            "justify_items": null,
            "grid_row": null,
            "max_height": null,
            "align_content": null,
            "visibility": null,
            "align_self": null,
            "height": null,
            "min_height": null,
            "padding": null,
            "grid_auto_rows": null,
            "grid_gap": null,
            "max_width": null,
            "order": null,
            "_view_module_version": "1.2.0",
            "grid_template_areas": null,
            "object_position": null,
            "object_fit": null,
            "grid_auto_columns": null,
            "margin": null,
            "display": null,
            "left": null
          }
        },
        "a89f1f00c9204c2b846804a56b9babfe": {
          "model_module": "@jupyter-widgets/controls",
          "model_name": "SliderStyleModel",
          "state": {
            "_view_name": "StyleView",
            "handle_color": null,
            "_model_name": "SliderStyleModel",
            "description_width": "",
            "_view_module": "@jupyter-widgets/base",
            "_model_module_version": "1.5.0",
            "_view_count": null,
            "_view_module_version": "1.2.0",
            "_model_module": "@jupyter-widgets/controls"
          }
        },
        "ce341b42c8f646e38ff2c0d71ec631a8": {
          "model_module": "@jupyter-widgets/base",
          "model_name": "LayoutModel",
          "state": {
            "_view_name": "LayoutView",
            "grid_template_rows": null,
            "right": null,
            "justify_content": null,
            "_view_module": "@jupyter-widgets/base",
            "overflow": null,
            "_model_module_version": "1.2.0",
            "_view_count": null,
            "flex_flow": null,
            "width": null,
            "min_width": null,
            "border": null,
            "align_items": null,
            "bottom": null,
            "_model_module": "@jupyter-widgets/base",
            "top": null,
            "grid_column": null,
            "overflow_y": null,
            "overflow_x": null,
            "grid_auto_flow": null,
            "grid_area": null,
            "grid_template_columns": null,
            "flex": null,
            "_model_name": "LayoutModel",
            "justify_items": null,
            "grid_row": null,
            "max_height": null,
            "align_content": null,
            "visibility": null,
            "align_self": null,
            "height": null,
            "min_height": null,
            "padding": null,
            "grid_auto_rows": null,
            "grid_gap": null,
            "max_width": null,
            "order": null,
            "_view_module_version": "1.2.0",
            "grid_template_areas": null,
            "object_position": null,
            "object_fit": null,
            "grid_auto_columns": null,
            "margin": null,
            "display": null,
            "left": null
          }
        },
        "6b1324a2585346658fc4a78b949c1e64": {
          "model_module": "@jupyter-widgets/controls",
          "model_name": "VBoxModel",
          "state": {
            "_view_name": "VBoxView",
            "_dom_classes": [
              "widget-interact"
            ],
            "_model_name": "VBoxModel",
            "_view_module": "@jupyter-widgets/controls",
            "_model_module_version": "1.5.0",
            "_view_count": null,
            "_view_module_version": "1.5.0",
            "box_style": "",
            "layout": "IPY_MODEL_4e278cf59b154b549ecf4c772fc1411e",
            "_model_module": "@jupyter-widgets/controls",
            "children": [
              "IPY_MODEL_fc7f6d45c2fa4855baa322dd5576cf0b",
              "IPY_MODEL_cd7b8edcefe24df4926f53f72a96c32a",
              "IPY_MODEL_6c0c24ccba9447d98556649aa37ae886"
            ]
          }
        },
        "4e278cf59b154b549ecf4c772fc1411e": {
          "model_module": "@jupyter-widgets/base",
          "model_name": "LayoutModel",
          "state": {
            "_view_name": "LayoutView",
            "grid_template_rows": null,
            "right": null,
            "justify_content": null,
            "_view_module": "@jupyter-widgets/base",
            "overflow": null,
            "_model_module_version": "1.2.0",
            "_view_count": null,
            "flex_flow": null,
            "width": null,
            "min_width": null,
            "border": null,
            "align_items": null,
            "bottom": null,
            "_model_module": "@jupyter-widgets/base",
            "top": null,
            "grid_column": null,
            "overflow_y": null,
            "overflow_x": null,
            "grid_auto_flow": null,
            "grid_area": null,
            "grid_template_columns": null,
            "flex": null,
            "_model_name": "LayoutModel",
            "justify_items": null,
            "grid_row": null,
            "max_height": null,
            "align_content": null,
            "visibility": null,
            "align_self": null,
            "height": null,
            "min_height": null,
            "padding": null,
            "grid_auto_rows": null,
            "grid_gap": null,
            "max_width": null,
            "order": null,
            "_view_module_version": "1.2.0",
            "grid_template_areas": null,
            "object_position": null,
            "object_fit": null,
            "grid_auto_columns": null,
            "margin": null,
            "display": null,
            "left": null
          }
        },
        "fc7f6d45c2fa4855baa322dd5576cf0b": {
          "model_module": "@jupyter-widgets/controls",
          "model_name": "IntSliderModel",
          "state": {
            "_view_name": "IntSliderView",
            "style": "IPY_MODEL_e1a1ed9b39ad4c7e8a2d2ee69ca125fb",
            "_dom_classes": [],
            "description": "max_depth",
            "step": 1,
            "_model_name": "IntSliderModel",
            "orientation": "horizontal",
            "max": 6,
            "_view_module": "@jupyter-widgets/controls",
            "_model_module_version": "1.5.0",
            "value": 5,
            "_view_count": null,
            "disabled": false,
            "_view_module_version": "1.5.0",
            "min": 1,
            "continuous_update": true,
            "readout_format": "d",
            "description_tooltip": null,
            "readout": true,
            "_model_module": "@jupyter-widgets/controls",
            "layout": "IPY_MODEL_34884a234c0d4aa9a9089e5e69899030"
          }
        },
        "cd7b8edcefe24df4926f53f72a96c32a": {
          "model_module": "@jupyter-widgets/controls",
          "model_name": "IntSliderModel",
          "state": {
            "_view_name": "IntSliderView",
            "style": "IPY_MODEL_860fd8418c8a486494666e40b0c2447e",
            "_dom_classes": [],
            "description": "n_estimators",
            "step": 1,
            "_model_name": "IntSliderModel",
            "orientation": "horizontal",
            "max": 5,
            "_view_module": "@jupyter-widgets/controls",
            "_model_module_version": "1.5.0",
            "value": 4,
            "_view_count": null,
            "disabled": false,
            "_view_module_version": "1.5.0",
            "min": 2,
            "continuous_update": true,
            "readout_format": "d",
            "description_tooltip": null,
            "readout": true,
            "_model_module": "@jupyter-widgets/controls",
            "layout": "IPY_MODEL_0e9356677bc54681b56dfcb5d9e0eec3"
          }
        },
        "6c0c24ccba9447d98556649aa37ae886": {
          "model_module": "@jupyter-widgets/output",
          "model_name": "OutputModel",
          "state": {
            "_view_name": "OutputView",
            "msg_id": "",
            "_dom_classes": [],
            "_model_name": "OutputModel",
            "outputs": [
              {
                "output_type": "display_data",
                "metadata": {
                  "tags": []
                },
                "image/png": "iVBORw0KGgoAAAANSUhEUgAAAVoAAAEFCAYAAACiiS9UAAAABHNCSVQICAgIfAhkiAAAAAlwSFlz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\nUmMmWklqzEQrSY2ZaCWpMROtJDX2/wEOANv9/EyynAAAAABJRU5ErkJggg==\n",
                "text/plain": "<Figure size 432x288 with 2 Axes>"
              },
              {
                "output_type": "display_data",
                "metadata": {
                  "tags": []
                },
                "image/png": "iVBORw0KGgoAAAANSUhEUgAAAVoAAAEFCAYAAACiiS9UAAAABHNCSVQICAgIfAhkiAAAAAlwSFlz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\n/wFqqe+0SohC8AAAAABJRU5ErkJggg==\n",
                "text/plain": "<Figure size 432x288 with 2 Axes>"
              },
              {
                "output_type": "display_data",
                "metadata": {
                  "tags": []
                },
                "image/png": "iVBORw0KGgoAAAANSUhEUgAAAVoAAAEFCAYAAACiiS9UAAAABHNCSVQICAgIfAhkiAAAAAlwSFlz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\nAABJRU5ErkJggg==\n",
                "text/plain": "<Figure size 432x288 with 2 Axes>"
              },
              {
                "output_type": "display_data",
                "metadata": {
                  "tags": []
                },
                "image/png": "iVBORw0KGgoAAAANSUhEUgAAAVoAAAEFCAYAAACiiS9UAAAABHNCSVQICAgIfAhkiAAAAAlwSFlz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\njf1/ZtrDKW0nD90AAAAASUVORK5CYII=\n",
                "text/plain": "<Figure size 432x288 with 2 Axes>"
              },
              {
                "output_type": "display_data",
                "metadata": {
                  "tags": []
                },
                "image/png": "iVBORw0KGgoAAAANSUhEUgAAAVoAAAEFCAYAAACiiS9UAAAABHNCSVQICAgIfAhkiAAAAAlwSFlz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\nAABJRU5ErkJggg==\n",
                "text/plain": "<Figure size 432x288 with 2 Axes>"
              }
            ],
            "_view_module": "@jupyter-widgets/output",
            "_model_module_version": "1.0.0",
            "_view_count": null,
            "_view_module_version": "1.0.0",
            "layout": "IPY_MODEL_4cb8922413ad49db9f148575924fc801",
            "_model_module": "@jupyter-widgets/output"
          }
        },
        "e1a1ed9b39ad4c7e8a2d2ee69ca125fb": {
          "model_module": "@jupyter-widgets/controls",
          "model_name": "SliderStyleModel",
          "state": {
            "_view_name": "StyleView",
            "handle_color": null,
            "_model_name": "SliderStyleModel",
            "description_width": "",
            "_view_module": "@jupyter-widgets/base",
            "_model_module_version": "1.5.0",
            "_view_count": null,
            "_view_module_version": "1.2.0",
            "_model_module": "@jupyter-widgets/controls"
          }
        },
        "34884a234c0d4aa9a9089e5e69899030": {
          "model_module": "@jupyter-widgets/base",
          "model_name": "LayoutModel",
          "state": {
            "_view_name": "LayoutView",
            "grid_template_rows": null,
            "right": null,
            "justify_content": null,
            "_view_module": "@jupyter-widgets/base",
            "overflow": null,
            "_model_module_version": "1.2.0",
            "_view_count": null,
            "flex_flow": null,
            "width": null,
            "min_width": null,
            "border": null,
            "align_items": null,
            "bottom": null,
            "_model_module": "@jupyter-widgets/base",
            "top": null,
            "grid_column": null,
            "overflow_y": null,
            "overflow_x": null,
            "grid_auto_flow": null,
            "grid_area": null,
            "grid_template_columns": null,
            "flex": null,
            "_model_name": "LayoutModel",
            "justify_items": null,
            "grid_row": null,
            "max_height": null,
            "align_content": null,
            "visibility": null,
            "align_self": null,
            "height": null,
            "min_height": null,
            "padding": null,
            "grid_auto_rows": null,
            "grid_gap": null,
            "max_width": null,
            "order": null,
            "_view_module_version": "1.2.0",
            "grid_template_areas": null,
            "object_position": null,
            "object_fit": null,
            "grid_auto_columns": null,
            "margin": null,
            "display": null,
            "left": null
          }
        },
        "860fd8418c8a486494666e40b0c2447e": {
          "model_module": "@jupyter-widgets/controls",
          "model_name": "SliderStyleModel",
          "state": {
            "_view_name": "StyleView",
            "handle_color": null,
            "_model_name": "SliderStyleModel",
            "description_width": "",
            "_view_module": "@jupyter-widgets/base",
            "_model_module_version": "1.5.0",
            "_view_count": null,
            "_view_module_version": "1.2.0",
            "_model_module": "@jupyter-widgets/controls"
          }
        },
        "0e9356677bc54681b56dfcb5d9e0eec3": {
          "model_module": "@jupyter-widgets/base",
          "model_name": "LayoutModel",
          "state": {
            "_view_name": "LayoutView",
            "grid_template_rows": null,
            "right": null,
            "justify_content": null,
            "_view_module": "@jupyter-widgets/base",
            "overflow": null,
            "_model_module_version": "1.2.0",
            "_view_count": null,
            "flex_flow": null,
            "width": null,
            "min_width": null,
            "border": null,
            "align_items": null,
            "bottom": null,
            "_model_module": "@jupyter-widgets/base",
            "top": null,
            "grid_column": null,
            "overflow_y": null,
            "overflow_x": null,
            "grid_auto_flow": null,
            "grid_area": null,
            "grid_template_columns": null,
            "flex": null,
            "_model_name": "LayoutModel",
            "justify_items": null,
            "grid_row": null,
            "max_height": null,
            "align_content": null,
            "visibility": null,
            "align_self": null,
            "height": null,
            "min_height": null,
            "padding": null,
            "grid_auto_rows": null,
            "grid_gap": null,
            "max_width": null,
            "order": null,
            "_view_module_version": "1.2.0",
            "grid_template_areas": null,
            "object_position": null,
            "object_fit": null,
            "grid_auto_columns": null,
            "margin": null,
            "display": null,
            "left": null
          }
        }
      }
    }
  },
  "cells": [
    {
      "cell_type": "markdown",
      "metadata": {
        "colab_type": "text",
        "id": "UEHyIgGaaSEJ"
      },
      "source": [
        "Lambda School Data Science\n",
        "\n",
        "*Unit 2, Sprint 2, Module 2*\n",
        "\n",
        "---"
      ]
    },
    {
      "cell_type": "markdown",
      "metadata": {
        "colab_type": "text",
        "id": "mRfPLX4WgLVJ"
      },
      "source": [
        "# Random Forests"
      ]
    },
    {
      "cell_type": "markdown",
      "metadata": {
        "colab_type": "text",
        "id": "jRRNhkxcgLVK"
      },
      "source": [
        "- use scikit-learn for **random forests**\n",
        "- do **ordinal encoding** with high-cardinality categoricals\n",
        "- understand how categorical encodings affect trees differently compared to linear models\n",
        "- understand how tree ensembles reduce overfitting compared to a single decision tree with unlimited depth"
      ]
    },
    {
      "cell_type": "markdown",
      "metadata": {
        "colab_type": "text",
        "id": "-3TH11e1gLVL"
      },
      "source": [
        "Today's lesson has two take-away messages:\n",
        "\n",
        "#### Try Tree Ensembles when you do machine learning with labeled, tabular data\n",
        "- \"Tree Ensembles\" means Random Forest or Gradient Boosting models. \n",
        "- [Tree Ensembles often have the best predictive accuracy](https://arxiv.org/abs/1708.05070) with labeled, tabular data.\n",
        "- Why? Because trees can fit non-linear, non-[monotonic](https://en.wikipedia.org/wiki/Monotonic_function) relationships, and [interactions](https://christophm.github.io/interpretable-ml-book/interaction.html) between features.\n",
        "- A single decision tree, grown to unlimited depth, will [overfit](http://www.r2d3.us/visual-intro-to-machine-learning-part-1/). We solve this problem by ensembling trees, with bagging (Random Forest) or boosting (Gradient Boosting).\n",
        "- Random Forest's advantage: may be less sensitive to hyperparameters. Gradient Boosting's advantage: may get better predictive accuracy.\n",
        "\n",
        "#### One-hot encoding isn’t the only way, and may not be the best way, of categorical encoding for tree ensembles.\n",
        "- For example, tree ensembles can work with arbitrary \"ordinal\" encoding! (Randomly assigning an integer to each category.) Compared to one-hot encoding, the dimensionality will be lower, and the predictive accuracy may be just as good or even better.\n"
      ]
    },
    {
      "cell_type": "markdown",
      "metadata": {
        "colab_type": "text",
        "id": "r5PbOFEuFfGF"
      },
      "source": [
        "### Setup\n",
        "\n",
        "Run the code cell below. You can work locally (follow the [local setup instructions](https://lambdaschool.github.io/ds/unit2/local/)) or on Colab.\n",
        "\n",
        "Libraries\n",
        "\n",
        "- **category_encoders** \n",
        "- **graphviz**\n",
        "- ipywidgets\n",
        "- matplotlib\n",
        "- numpy\n",
        "- pandas\n",
        "- seaborn\n",
        "- scikit-learn"
      ]
    },
    {
      "cell_type": "code",
      "metadata": {
        "colab_type": "code",
        "id": "FStAplyRFoEu",
        "colab": {}
      },
      "source": [
        "%%capture\n",
        "import sys\n",
        "\n",
        "# If you're on Colab:\n",
        "if 'google.colab' in sys.modules:\n",
        "    DATA_PATH = 'https://raw.githubusercontent.com/LambdaSchool/DS-Unit-2-Kaggle-Challenge/master/data/'\n",
        "    !pip install category_encoders==2.*\n",
        "\n",
        "# If you're working locally:\n",
        "else:\n",
        "    DATA_PATH = '../data/'"
      ],
      "execution_count": 0,
      "outputs": []
    },
    {
      "cell_type": "markdown",
      "metadata": {
        "colab_type": "text",
        "id": "ZL-yK8B7gLVW"
      },
      "source": [
        "# Use scikit-learn for random forests"
      ]
    },
    {
      "cell_type": "markdown",
      "metadata": {
        "id": "OohfDnMoP0KL",
        "colab_type": "text"
      },
      "source": [
        "## Overview\n",
        "\n",
        "Let's fit a Random Forest!\n",
        "\n",
        "![](https://pbs.twimg.com/media/EGSvKA0UUAEzUZi?format=png)\n",
        "\n",
        "[Chris Albon, MachineLearningFlashcards.com](https://twitter.com/chrisalbon/status/1181261589887909889)"
      ]
    },
    {
      "cell_type": "markdown",
      "metadata": {
        "colab_type": "text",
        "id": "gHFxMCPSgLVM"
      },
      "source": [
        "### Solution example\n",
        "\n",
        "First, read & wrangle the data.\n",
        "\n",
        "> Define a function to wrangle train, validate, and test sets in the same way. Clean outliers and engineer features. (For example, [what other columns have zeros and shouldn't?](https://github.com/Quartz/bad-data-guide#zeros-replace-missing-values) What other columns are duplicates, or nearly duplicates? Can you extract the year from date_recorded? Can you engineer new features, such as the number of years from waterpump construction to waterpump inspection?)"
      ]
    },
    {
      "cell_type": "code",
      "metadata": {
        "colab_type": "code",
        "id": "YTLm-rDagLVM",
        "colab": {}
      },
      "source": [
        "import numpy as np\n",
        "import pandas as pd\n",
        "from sklearn.model_selection import train_test_split\n",
        "\n",
        "# Merge train_features.csv & train_labels.csv\n",
        "train = pd.merge(pd.read_csv(DATA_PATH+'waterpumps/train_features.csv'), \n",
        "                 pd.read_csv(DATA_PATH+'waterpumps/train_labels.csv'))\n",
        "\n",
        "# Read test_features.csv & sample_submission.csv\n",
        "test = pd.read_csv(DATA_PATH+'waterpumps/test_features.csv')\n",
        "sample_submission = pd.read_csv(DATA_PATH+'waterpumps/sample_submission.csv')\n",
        "\n",
        "# Split train into train & val\n",
        "train, val = train_test_split(train, train_size=0.80, test_size=0.20, \n",
        "                              stratify=train['status_group'], random_state=42)\n",
        "\n",
        "\n",
        "def wrangle(X):\n",
        "    \"\"\"Wrangle train, validate, and test sets in the same way\"\"\"\n",
        "    \n",
        "    # Prevent SettingWithCopyWarning\n",
        "    X = X.copy()\n",
        "    \n",
        "    # About 3% of the time, latitude has small values near zero,\n",
        "    # outside Tanzania, so we'll treat these values like zero.\n",
        "    X['latitude'] = X['latitude'].replace(-2e-08, 0)\n",
        "    \n",
        "    # When columns have zeros and shouldn't, they are like null values.\n",
        "    # So we will replace the zeros with nulls, and impute missing values later.\n",
        "    # Also create a \"missing indicator\" column, because the fact that\n",
        "    # values are missing may be a predictive signal.\n",
        "    cols_with_zeros = ['longitude', 'latitude', 'construction_year', \n",
        "                       'gps_height', 'population']\n",
        "    for col in cols_with_zeros:\n",
        "        X[col] = X[col].replace(0, np.nan)\n",
        "        X[col+'_MISSING'] = X[col].isnull()\n",
        "            \n",
        "    # Drop duplicate columns\n",
        "    duplicates = ['quantity_group', 'payment_type']\n",
        "    X = X.drop(columns=duplicates)\n",
        "    \n",
        "    # Drop recorded_by (never varies) and id (always varies, random)\n",
        "    unusable_variance = ['recorded_by', 'id']\n",
        "    X = X.drop(columns=unusable_variance)\n",
        "    \n",
        "    # Convert date_recorded to datetime\n",
        "    X['date_recorded'] = pd.to_datetime(X['date_recorded'], infer_datetime_format=True)\n",
        "    \n",
        "    # Extract components from date_recorded, then drop the original column\n",
        "    X['year_recorded'] = X['date_recorded'].dt.year\n",
        "    X['month_recorded'] = X['date_recorded'].dt.month\n",
        "    X['day_recorded'] = X['date_recorded'].dt.day\n",
        "    X = X.drop(columns='date_recorded')\n",
        "    \n",
        "    # Engineer feature: how many years from construction_year to date_recorded\n",
        "    X['years'] = X['year_recorded'] - X['construction_year']\n",
        "    X['years_MISSING'] = X['years'].isnull()\n",
        "    \n",
        "    # return the wrangled dataframe\n",
        "    return X\n",
        "\n",
        "train = wrangle(train)\n",
        "val = wrangle(val)\n",
        "test = wrangle(test)"
      ],
      "execution_count": 0,
      "outputs": []
    },
    {
      "cell_type": "code",
      "metadata": {
        "colab_type": "code",
        "id": "m2HppBvZgLVP",
        "colab": {}
      },
      "source": [
        "# The status_group column is the target\n",
        "target = 'status_group'\n",
        "\n",
        "# Get a dataframe with all train columns except the target\n",
        "train_features = train.drop(columns=[target])\n",
        "\n",
        "# Get a list of the numeric features\n",
        "numeric_features = train_features.select_dtypes(include='number').columns.tolist()\n",
        "\n",
        "# Get a series with the cardinality of the nonnumeric features\n",
        "cardinality = train_features.select_dtypes(exclude='number').nunique()\n",
        "\n",
        "# Get a list of all categorical features with cardinality <= 50\n",
        "categorical_features = cardinality[cardinality <= 50].index.tolist()\n",
        "\n",
        "# Combine the lists \n",
        "features = numeric_features + categorical_features"
      ],
      "execution_count": 0,
      "outputs": []
    },
    {
      "cell_type": "code",
      "metadata": {
        "colab_type": "code",
        "id": "aXmK2brXgLVR",
        "colab": {}
      },
      "source": [
        "# Arrange data into X features matrix and y target vector \n",
        "X_train = train[features]\n",
        "y_train = train[target]\n",
        "X_val = val[features]\n",
        "y_val = val[target]\n",
        "X_test = test[features]"
      ],
      "execution_count": 0,
      "outputs": []
    },
    {
      "cell_type": "markdown",
      "metadata": {
        "id": "i4SuYHqQP0KX",
        "colab_type": "text"
      },
      "source": [
        "## Follow Along\n",
        "\n",
        "[Scikit-Learn User Guide: Random Forests](https://scikit-learn.org/stable/modules/ensemble.html#random-forests) "
      ]
    },
    {
      "cell_type": "code",
      "metadata": {
        "colab_type": "code",
        "id": "57yyygsdgLVW",
        "outputId": "76707171-c5cf-4b8a-8d0a-116112d5c0f7",
        "colab": {
          "base_uri": "https://localhost:8080/",
          "height": 85
        }
      },
      "source": [
        "%%time\n",
        "\n",
        "import category_encoders as ce\n",
        "from sklearn.ensemble import RandomForestClassifier\n",
        "from sklearn.impute import SimpleImputer\n",
        "from sklearn.pipeline import make_pipeline\n",
        "\n",
        "pipeline = make_pipeline(\n",
        "    ce.OneHotEncoder(use_cat_names=True),\n",
        "    SimpleImputer(strategy='mean'),\n",
        "    RandomForestClassifier(random_state=42, n_jobs=-1)\n",
        ")\n",
        "\n",
        "# Fit on train\n",
        "pipeline.fit(X_train, y_train)\n",
        "\n",
        "# Score\n",
        "print('Training Accuracy:', pipeline.score(X_train, y_train))\n",
        "print('Validation Accuracy:', pipeline.score(X_val, y_val))"
      ],
      "execution_count": 6,
      "outputs": [
        {
          "output_type": "stream",
          "text": [
            "Training Accuracy: 0.9979166666666667\n",
            "Validation Accuracy: 0.8080808080808081\n",
            "CPU times: user 34.8 s, sys: 622 ms, total: 35.4 s\n",
            "Wall time: 21.4 s\n"
          ],
          "name": "stdout"
        }
      ]
    },
    {
      "cell_type": "code",
      "metadata": {
        "id": "R47AJb3NVwqu",
        "colab_type": "code",
        "colab": {
          "base_uri": "https://localhost:8080/",
          "height": 34
        },
        "outputId": "4016c091-d12c-4177-88ea-ce2ba82ea734"
      },
      "source": [
        "print('X_train shape before encoding', X_train.shape)"
      ],
      "execution_count": 7,
      "outputs": [
        {
          "output_type": "stream",
          "text": [
            "X_train shape before encoding (47520, 38)\n"
          ],
          "name": "stdout"
        }
      ]
    },
    {
      "cell_type": "code",
      "metadata": {
        "id": "XTp7vH3vVyeb",
        "colab_type": "code",
        "colab": {
          "base_uri": "https://localhost:8080/",
          "height": 34
        },
        "outputId": "abcba256-5cd2-4dc6-b038-29016794b5d8"
      },
      "source": [
        "encoder = pipeline.named_steps['onehotencoder']\n",
        "encoded = encoder.transform(X_train)\n",
        "print('X_train shape after encoding', encoded.shape)"
      ],
      "execution_count": 9,
      "outputs": [
        {
          "output_type": "stream",
          "text": [
            "X_train shape after encoding (47520, 182)\n"
          ],
          "name": "stdout"
        }
      ]
    },
    {
      "cell_type": "code",
      "metadata": {
        "id": "ISF1-5CwVrF8",
        "colab_type": "code",
        "colab": {
          "base_uri": "https://localhost:8080/",
          "height": 607
        },
        "outputId": "43d916ee-b70f-474e-d4aa-bd46b975d884"
      },
      "source": [
        "%matplotlib inline\n",
        "import matplotlib.pyplot as plt\n",
        "\n",
        "rf = pipeline.named_steps['randomforestclassifier']\n",
        "importances = pd.Series(rf.feature_importances_, encoded.columns)\n",
        "\n",
        "n = 20\n",
        "plt.figure(figsize=(10,n/2))\n",
        "plt.title(f'Top {n} features')\n",
        "importances.sort_values()[-n:].plot.barh();"
      ],
      "execution_count": 15,
      "outputs": [
        {
          "output_type": "display_data",
          "data": {
            "image/png": "[encoded data removed]",
            "text/plain": [
              "<Figure size 720x720 with 1 Axes>"
            ]
          },
          "metadata": {
            "tags": []
          }
        }
      ]
    },
    {
      "cell_type": "markdown",
      "metadata": {
        "colab_type": "text",
        "id": "yfyk_aa5gLVY"
      },
      "source": [
        "# Do ordinal encoding with high-cardinality categoricals"
      ]
    },
    {
      "cell_type": "markdown",
      "metadata": {
        "id": "hiMrF2bPP0Kc",
        "colab_type": "text"
      },
      "source": [
        "## Overview\n",
        "\n",
        "http://contrib.scikit-learn.org/categorical-encoding/ordinal.html"
      ]
    },
    {
      "cell_type": "markdown",
      "metadata": {
        "id": "oT7QHtd4P0Kd",
        "colab_type": "text"
      },
      "source": [
        "## Follow Along"
      ]
    },
    {
      "cell_type": "code",
      "metadata": {
        "colab_type": "code",
        "id": "b8d_WJtcgLVZ",
        "colab": {}
      },
      "source": [
        "# Re-arrange data so we use *all* features\n",
        "X_train = train.drop(columns=target)\n",
        "y_train = train[target]\n",
        "X_val = val.drop(columns=target)\n",
        "y_val = val[target]\n",
        "X_Test = test"
      ],
      "execution_count": 0,
      "outputs": []
    },
    {
      "cell_type": "code",
      "metadata": {
        "id": "KWOPaURzadgj",
        "colab_type": "code",
        "colab": {
          "base_uri": "https://localhost:8080/",
          "height": 85
        },
        "outputId": "ae236b9e-b747-4f57-fbe1-ff923ff3c39d"
      },
      "source": [
        "%%time\n",
        "\n",
        "# This pipeline is ideentical to the example cell above, \n",
        "# except we're replacing one-hot encoder with \"ordinal\" encoder\n",
        "pipeline = make_pipeline(\n",
        "    ce.OrdinalEncoder(),\n",
        "    SimpleImputer(strategy='mean'),\n",
        "    RandomForestClassifier(random_state=42, n_jobs=-1)\n",
        ")\n",
        "\n",
        "# Fit on train\n",
        "pipeline.fit(X_train, y_train)\n",
        "\n",
        "# Score\n",
        "print('Training Accuracy:', pipeline.score(X_train, y_train))\n",
        "print('Validation Accuracy:', pipeline.score(X_val, y_val))"
      ],
      "execution_count": 17,
      "outputs": [
        {
          "output_type": "stream",
          "text": [
            "Training Accuracy: 0.9999579124579124\n",
            "Validation Accuracy: 0.8103535353535354\n",
            "CPU times: user 23.8 s, sys: 210 ms, total: 24 s\n",
            "Wall time: 13.4 s\n"
          ],
          "name": "stdout"
        }
      ]
    },
    {
      "cell_type": "code",
      "metadata": {
        "colab_type": "code",
        "outputId": "54c157e3-c6bc-42c6-89c5-d720f510275c",
        "id": "zvin-GWvbHf7",
        "colab": {
          "base_uri": "https://localhost:8080/",
          "height": 34
        }
      },
      "source": [
        "encoder = pipeline.named_steps['ordinalencoder']\n",
        "encoded = encoder.transform(X_train)\n",
        "print('X_train shape after encoding', encoded.shape)"
      ],
      "execution_count": 0,
      "outputs": [
        {
          "output_type": "stream",
          "text": [
            "X_train shape after encoding (47520, 45)\n"
          ],
          "name": "stdout"
        }
      ]
    },
    {
      "cell_type": "markdown",
      "metadata": {
        "colab_type": "text",
        "id": "xs2UPoVdgLVp"
      },
      "source": [
        "# Understand how categorical encodings affect trees differently compared to linear models"
      ]
    },
    {
      "cell_type": "markdown",
      "metadata": {
        "id": "gYnPKqtLP0Kh",
        "colab_type": "text"
      },
      "source": [
        "## Follow Along"
      ]
    },
    {
      "cell_type": "markdown",
      "metadata": {
        "colab_type": "text",
        "id": "z8V-A92mgLVp"
      },
      "source": [
        "### Categorical exploration, 1 feature at a time\n",
        "\n",
        "Change `feature`, then re-run these cells!"
      ]
    },
    {
      "cell_type": "code",
      "metadata": {
        "colab_type": "code",
        "id": "G35RAzVdgLVq",
        "colab": {}
      },
      "source": [
        "feature = 'extraction_type_class'"
      ],
      "execution_count": 0,
      "outputs": []
    },
    {
      "cell_type": "code",
      "metadata": {
        "colab_type": "code",
        "id": "OuxHWiH8gLVr",
        "outputId": "fdf0b510-7825-4834-976f-c4810ce716b5",
        "colab": {
          "base_uri": "https://localhost:8080/",
          "height": 153
        }
      },
      "source": [
        "X_train[feature].value_counts()"
      ],
      "execution_count": 21,
      "outputs": [
        {
          "output_type": "execute_result",
          "data": {
            "text/plain": [
              "gravity         21448\n",
              "handpump        13184\n",
              "other            5193\n",
              "submersible      4894\n",
              "motorpump        2355\n",
              "rope pump         353\n",
              "wind-powered       93\n",
              "Name: extraction_type_class, dtype: int64"
            ]
          },
          "metadata": {
            "tags": []
          },
          "execution_count": 21
        }
      ]
    },
    {
      "cell_type": "code",
      "metadata": {
        "colab_type": "code",
        "id": "pVxoC4NngLVt",
        "outputId": "30568eb3-3dc4-4da7-e892-1410e5400edf",
        "colab": {
          "base_uri": "https://localhost:8080/",
          "height": 552
        }
      },
      "source": [
        "import seaborn as sns\n",
        "plt.figure(figsize=(16,9))\n",
        "sns.barplot(\n",
        "    x=train[feature], \n",
        "    y=train['status_group']=='functional', \n",
        "    color='grey'\n",
        ");"
      ],
      "execution_count": 22,
      "outputs": [
        {
          "output_type": "display_data",
          "data": {
            "image/png": "[encoded data removed]",
            "text/plain": [
              "<Figure size 1152x648 with 1 Axes>"
            ]
          },
          "metadata": {
            "tags": []
          }
        }
      ]
    },
    {
      "cell_type": "code",
      "metadata": {
        "colab_type": "code",
        "id": "w99mek14gLVv",
        "outputId": "a6cffd71-afb9-4b64-950f-12bf3b78be63",
        "colab": {
          "base_uri": "https://localhost:8080/",
          "height": 374
        }
      },
      "source": [
        "X_train[feature].head(20)"
      ],
      "execution_count": 23,
      "outputs": [
        {
          "output_type": "execute_result",
          "data": {
            "text/plain": [
              "43360        gravity\n",
              "7263         gravity\n",
              "2486        handpump\n",
              "313            other\n",
              "52726      motorpump\n",
              "8558         gravity\n",
              "2559         gravity\n",
              "54735      motorpump\n",
              "25763       handpump\n",
              "44540    submersible\n",
              "28603          other\n",
              "4372     submersible\n",
              "30666        gravity\n",
              "6431     submersible\n",
              "57420          other\n",
              "1373         gravity\n",
              "2026         gravity\n",
              "58977       handpump\n",
              "41101        gravity\n",
              "10019        gravity\n",
              "Name: extraction_type_class, dtype: object"
            ]
          },
          "metadata": {
            "tags": []
          },
          "execution_count": 23
        }
      ]
    },
    {
      "cell_type": "markdown",
      "metadata": {
        "colab_type": "text",
        "id": "ezzK2IdbgLVx"
      },
      "source": [
        "### [One Hot Encoding](http://contrib.scikit-learn.org/categorical-encoding/onehot.html)\n",
        "\n",
        "> Onehot (or dummy) coding for categorical features, produces one feature per category, each binary.\n",
        "\n",
        "Warning: May run slow, or run out of memory, with high cardinality categoricals!"
      ]
    },
    {
      "cell_type": "code",
      "metadata": {
        "colab_type": "code",
        "id": "HDQZtV6GgLVy",
        "outputId": "3de40fd6-3dde-4939-b916-a0ca0386008f",
        "colab": {
          "base_uri": "https://localhost:8080/",
          "height": 723
        }
      },
      "source": [
        "encoder = ce.OneHotEncoder(use_cat_names=True)\n",
        "encoded = encoder.fit_transform(X_train[[feature]])\n",
        "print(f'{len(encoded.columns)} columns')\n",
        "encoded.head(20)"
      ],
      "execution_count": 24,
      "outputs": [
        {
          "output_type": "stream",
          "text": [
            "7 columns\n"
          ],
          "name": "stdout"
        },
        {
          "output_type": "execute_result",
          "data": {
            "text/html": [
              "<div>\n",
              "<style scoped>\n",
              "    .dataframe tbody tr th:only-of-type {\n",
              "        vertical-align: middle;\n",
              "    }\n",
              "\n",
              "    .dataframe tbody tr th {\n",
              "        vertical-align: top;\n",
              "    }\n",
              "\n",
              "    .dataframe thead th {\n",
              "        text-align: right;\n",
              "    }\n",
              "</style>\n",
              "<table border=\"1\" class=\"dataframe\">\n",
              "  <thead>\n",
              "    <tr style=\"text-align: right;\">\n",
              "      <th></th>\n",
              "      <th>extraction_type_class_gravity</th>\n",
              "      <th>extraction_type_class_handpump</th>\n",
              "      <th>extraction_type_class_other</th>\n",
              "      <th>extraction_type_class_motorpump</th>\n",
              "      <th>extraction_type_class_submersible</th>\n",
              "      <th>extraction_type_class_rope pump</th>\n",
              "      <th>extraction_type_class_wind-powered</th>\n",
              "    </tr>\n",
              "  </thead>\n",
              "  <tbody>\n",
              "    <tr>\n",
              "      <th>43360</th>\n",
              "      <td>1</td>\n",
              "      <td>0</td>\n",
              "      <td>0</td>\n",
              "      <td>0</td>\n",
              "      <td>0</td>\n",
              "      <td>0</td>\n",
              "      <td>0</td>\n",
              "    </tr>\n",
              "    <tr>\n",
              "      <th>7263</th>\n",
              "      <td>1</td>\n",
              "      <td>0</td>\n",
              "      <td>0</td>\n",
              "      <td>0</td>\n",
              "      <td>0</td>\n",
              "      <td>0</td>\n",
              "      <td>0</td>\n",
              "    </tr>\n",
              "    <tr>\n",
              "      <th>2486</th>\n",
              "      <td>0</td>\n",
              "      <td>1</td>\n",
              "      <td>0</td>\n",
              "      <td>0</td>\n",
              "      <td>0</td>\n",
              "      <td>0</td>\n",
              "      <td>0</td>\n",
              "    </tr>\n",
              "    <tr>\n",
              "      <th>313</th>\n",
              "      <td>0</td>\n",
              "      <td>0</td>\n",
              "      <td>1</td>\n",
              "      <td>0</td>\n",
              "      <td>0</td>\n",
              "      <td>0</td>\n",
              "      <td>0</td>\n",
              "    </tr>\n",
              "    <tr>\n",
              "      <th>52726</th>\n",
              "      <td>0</td>\n",
              "      <td>0</td>\n",
              "      <td>0</td>\n",
              "      <td>1</td>\n",
              "      <td>0</td>\n",
              "      <td>0</td>\n",
              "      <td>0</td>\n",
              "    </tr>\n",
              "    <tr>\n",
              "      <th>8558</th>\n",
              "      <td>1</td>\n",
              "      <td>0</td>\n",
              "      <td>0</td>\n",
              "      <td>0</td>\n",
              "      <td>0</td>\n",
              "      <td>0</td>\n",
              "      <td>0</td>\n",
              "    </tr>\n",
              "    <tr>\n",
              "      <th>2559</th>\n",
              "      <td>1</td>\n",
              "      <td>0</td>\n",
              "      <td>0</td>\n",
              "      <td>0</td>\n",
              "      <td>0</td>\n",
              "      <td>0</td>\n",
              "      <td>0</td>\n",
              "    </tr>\n",
              "    <tr>\n",
              "      <th>54735</th>\n",
              "      <td>0</td>\n",
              "      <td>0</td>\n",
              "      <td>0</td>\n",
              "      <td>1</td>\n",
              "      <td>0</td>\n",
              "      <td>0</td>\n",
              "      <td>0</td>\n",
              "    </tr>\n",
              "    <tr>\n",
              "      <th>25763</th>\n",
              "      <td>0</td>\n",
              "      <td>1</td>\n",
              "      <td>0</td>\n",
              "      <td>0</td>\n",
              "      <td>0</td>\n",
              "      <td>0</td>\n",
              "      <td>0</td>\n",
              "    </tr>\n",
              "    <tr>\n",
              "      <th>44540</th>\n",
              "      <td>0</td>\n",
              "      <td>0</td>\n",
              "      <td>0</td>\n",
              "      <td>0</td>\n",
              "      <td>1</td>\n",
              "      <td>0</td>\n",
              "      <td>0</td>\n",
              "    </tr>\n",
              "    <tr>\n",
              "      <th>28603</th>\n",
              "      <td>0</td>\n",
              "      <td>0</td>\n",
              "      <td>1</td>\n",
              "      <td>0</td>\n",
              "      <td>0</td>\n",
              "      <td>0</td>\n",
              "      <td>0</td>\n",
              "    </tr>\n",
              "    <tr>\n",
              "      <th>4372</th>\n",
              "      <td>0</td>\n",
              "      <td>0</td>\n",
              "      <td>0</td>\n",
              "      <td>0</td>\n",
              "      <td>1</td>\n",
              "      <td>0</td>\n",
              "      <td>0</td>\n",
              "    </tr>\n",
              "    <tr>\n",
              "      <th>30666</th>\n",
              "      <td>1</td>\n",
              "      <td>0</td>\n",
              "      <td>0</td>\n",
              "      <td>0</td>\n",
              "      <td>0</td>\n",
              "      <td>0</td>\n",
              "      <td>0</td>\n",
              "    </tr>\n",
              "    <tr>\n",
              "      <th>6431</th>\n",
              "      <td>0</td>\n",
              "      <td>0</td>\n",
              "      <td>0</td>\n",
              "      <td>0</td>\n",
              "      <td>1</td>\n",
              "      <td>0</td>\n",
              "      <td>0</td>\n",
              "    </tr>\n",
              "    <tr>\n",
              "      <th>57420</th>\n",
              "      <td>0</td>\n",
              "      <td>0</td>\n",
              "      <td>1</td>\n",
              "      <td>0</td>\n",
              "      <td>0</td>\n",
              "      <td>0</td>\n",
              "      <td>0</td>\n",
              "    </tr>\n",
              "    <tr>\n",
              "      <th>1373</th>\n",
              "      <td>1</td>\n",
              "      <td>0</td>\n",
              "      <td>0</td>\n",
              "      <td>0</td>\n",
              "      <td>0</td>\n",
              "      <td>0</td>\n",
              "      <td>0</td>\n",
              "    </tr>\n",
              "    <tr>\n",
              "      <th>2026</th>\n",
              "      <td>1</td>\n",
              "      <td>0</td>\n",
              "      <td>0</td>\n",
              "      <td>0</td>\n",
              "      <td>0</td>\n",
              "      <td>0</td>\n",
              "      <td>0</td>\n",
              "    </tr>\n",
              "    <tr>\n",
              "      <th>58977</th>\n",
              "      <td>0</td>\n",
              "      <td>1</td>\n",
              "      <td>0</td>\n",
              "      <td>0</td>\n",
              "      <td>0</td>\n",
              "      <td>0</td>\n",
              "      <td>0</td>\n",
              "    </tr>\n",
              "    <tr>\n",
              "      <th>41101</th>\n",
              "      <td>1</td>\n",
              "      <td>0</td>\n",
              "      <td>0</td>\n",
              "      <td>0</td>\n",
              "      <td>0</td>\n",
              "      <td>0</td>\n",
              "      <td>0</td>\n",
              "    </tr>\n",
              "    <tr>\n",
              "      <th>10019</th>\n",
              "      <td>1</td>\n",
              "      <td>0</td>\n",
              "      <td>0</td>\n",
              "      <td>0</td>\n",
              "      <td>0</td>\n",
              "      <td>0</td>\n",
              "      <td>0</td>\n",
              "    </tr>\n",
              "  </tbody>\n",
              "</table>\n",
              "</div>"
            ],
            "text/plain": [
              "       extraction_type_class_gravity  ...  extraction_type_class_wind-powered\n",
              "43360                              1  ...                                   0\n",
              "7263                               1  ...                                   0\n",
              "2486                               0  ...                                   0\n",
              "313                                0  ...                                   0\n",
              "52726                              0  ...                                   0\n",
              "8558                               1  ...                                   0\n",
              "2559                               1  ...                                   0\n",
              "54735                              0  ...                                   0\n",
              "25763                              0  ...                                   0\n",
              "44540                              0  ...                                   0\n",
              "28603                              0  ...                                   0\n",
              "4372                               0  ...                                   0\n",
              "30666                              1  ...                                   0\n",
              "6431                               0  ...                                   0\n",
              "57420                              0  ...                                   0\n",
              "1373                               1  ...                                   0\n",
              "2026                               1  ...                                   0\n",
              "58977                              0  ...                                   0\n",
              "41101                              1  ...                                   0\n",
              "10019                              1  ...                                   0\n",
              "\n",
              "[20 rows x 7 columns]"
            ]
          },
          "metadata": {
            "tags": []
          },
          "execution_count": 24
        }
      ]
    },
    {
      "cell_type": "markdown",
      "metadata": {
        "colab_type": "text",
        "id": "1Ql9Qmw3sNJ7"
      },
      "source": [
        "#### One-Hot Encoding, Logistic Regression, Validation Accuracy"
      ]
    },
    {
      "cell_type": "code",
      "metadata": {
        "colab_type": "code",
        "id": "mT4A-oDGpOss",
        "outputId": "57803773-7905-4e58-bb31-1633f066a81b",
        "colab": {
          "base_uri": "https://localhost:8080/",
          "height": 34
        }
      },
      "source": [
        "from sklearn.linear_model import LogisticRegressionCV\n",
        "from sklearn.preprocessing import StandardScaler\n",
        "\n",
        "lr = make_pipeline(\n",
        "    ce.OneHotEncoder(use_cat_names=True), \n",
        "    SimpleImputer(), \n",
        "    StandardScaler(), \n",
        "    LogisticRegressionCV(multi_class='auto', solver='lbfgs', cv=5, n_jobs=-1)\n",
        ")\n",
        "\n",
        "lr.fit(X_train[[feature]], y_train)\n",
        "score = lr.score(X_val[[feature]], y_val)\n",
        "print('Logistic Regression, Validation Accuracy', score)"
      ],
      "execution_count": 25,
      "outputs": [
        {
          "output_type": "stream",
          "text": [
            "Logistic Regression, Validation Accuracy 0.6202861952861953\n"
          ],
          "name": "stdout"
        }
      ]
    },
    {
      "cell_type": "markdown",
      "metadata": {
        "colab_type": "text",
        "id": "EbH6wivpsRuV"
      },
      "source": [
        "#### One-Hot Encoding, Decision Tree, Validation Accuracy"
      ]
    },
    {
      "cell_type": "code",
      "metadata": {
        "colab_type": "code",
        "id": "b6KUluFOqIdK",
        "outputId": "9054ec06-4b98-49a1-f559-0fe381888b28",
        "colab": {
          "base_uri": "https://localhost:8080/",
          "height": 34
        }
      },
      "source": [
        "from sklearn.tree import DecisionTreeClassifier\n",
        "\n",
        "dt = make_pipeline(\n",
        "    ce.OneHotEncoder(use_cat_names=True), \n",
        "    SimpleImputer(), \n",
        "    DecisionTreeClassifier(random_state=42)\n",
        ")\n",
        "\n",
        "dt.fit(X_train[[feature]], y_train)\n",
        "score = dt.score(X_val[[feature]], y_val)\n",
        "print('Decision Tree, Validation Accuracy', score)"
      ],
      "execution_count": 26,
      "outputs": [
        {
          "output_type": "stream",
          "text": [
            "Decision Tree, Validation Accuracy 0.6202861952861953\n"
          ],
          "name": "stdout"
        }
      ]
    },
    {
      "cell_type": "markdown",
      "metadata": {
        "colab_type": "text",
        "id": "8yg11_gTsUu6"
      },
      "source": [
        "#### One-Hot Encoding, Logistic Regression, Model Interpretation"
      ]
    },
    {
      "cell_type": "code",
      "metadata": {
        "colab_type": "code",
        "id": "IxHwXGRornNI",
        "outputId": "487e4687-f822-43e8-fce6-ec86165cdabc",
        "colab": {
          "base_uri": "https://localhost:8080/",
          "height": 265
        }
      },
      "source": [
        "model = lr.named_steps['logisticregressioncv']\n",
        "encoder = lr.named_steps['onehotencoder']\n",
        "encoded_columns = encoder.transform(X_val[[feature]]).columns\n",
        "coefficients = pd.Series(model.coef_[0], encoded_columns)\n",
        "coefficients.sort_values().plot.barh(color='grey');"
      ],
      "execution_count": 27,
      "outputs": [
        {
          "output_type": "display_data",
          "data": {
            "image/png": "[encoded data removed]",
            "text/plain": [
              "<Figure size 432x288 with 1 Axes>"
            ]
          },
          "metadata": {
            "tags": []
          }
        }
      ]
    },
    {
      "cell_type": "markdown",
      "metadata": {
        "colab_type": "text",
        "id": "0REZ8HdpsccR"
      },
      "source": [
        "#### One-Hot Encoding, Decision Tree, Model Interpretation"
      ]
    },
    {
      "cell_type": "code",
      "metadata": {
        "colab_type": "code",
        "id": "gV-grmYKpDp9",
        "outputId": "1a9dd0af-75b1-4460-a39e-2e35764aa758",
        "colab": {
          "base_uri": "https://localhost:8080/",
          "height": 934
        }
      },
      "source": [
        "# Plot tree\n",
        "# https://scikit-learn.org/stable/modules/generated/sklearn.tree.export_graphviz.html\n",
        "import graphviz\n",
        "from sklearn.tree import export_graphviz\n",
        "\n",
        "model = dt.named_steps['decisiontreeclassifier']\n",
        "encoder = dt.named_steps['onehotencoder']\n",
        "encoded_columns = encoder.transform(X_val[[feature]]).columns\n",
        "\n",
        "dot_data = export_graphviz(model, \n",
        "                           out_file=None, \n",
        "                           max_depth=7, \n",
        "                           feature_names=encoded_columns,\n",
        "                           class_names=model.classes_, \n",
        "                           impurity=False, \n",
        "                           filled=True, \n",
        "                           proportion=True, \n",
        "                           rounded=True)   \n",
        "display(graphviz.Source(dot_data))"
      ],
      "execution_count": 28,
      "outputs": [
        {
          "output_type": "display_data",
          "data": {
            "text/plain": [
              "<graphviz.files.Source at 0x7f6d3153c748>"
            ],
            "image/svg+xml": "<?xml version=\"1.0\" encoding=\"UTF-8\" standalone=\"no\"?>\n<!DOCTYPE svg PUBLIC \"-//W3C//DTD SVG 1.1//EN\"\n \"http://www.w3.org/Graphics/SVG/1.1/DTD/svg11.dtd\">\n<!-- Generated by graphviz version 2.40.1 (20161225.0304)\n -->\n<!-- Title: Tree Pages: 1 -->\n<svg width=\"1067pt\" height=\"685pt\"\n viewBox=\"0.00 0.00 1067.00 685.00\" xmlns=\"http://www.w3.org/2000/svg\" xmlns:xlink=\"http://www.w3.org/1999/xlink\">\n<g id=\"graph0\" class=\"graph\" transform=\"scale(1 1) rotate(0) translate(4 681)\">\n<title>Tree</title>\n<polygon fill=\"#ffffff\" stroke=\"transparent\" points=\"-4,4 -4,-681 1063,-681 1063,4 -4,4\"/>\n<!-- 0 -->\n<g id=\"node1\" class=\"node\">\n<title>0</title>\n<path fill=\"#f8decc\" stroke=\"#000000\" d=\"M944.5,-677C944.5,-677 725.5,-677 725.5,-677 719.5,-677 713.5,-671 713.5,-665 713.5,-665 713.5,-621 713.5,-621 713.5,-615 719.5,-609 725.5,-609 725.5,-609 944.5,-609 944.5,-609 950.5,-609 956.5,-615 956.5,-621 956.5,-621 956.5,-665 956.5,-665 956.5,-671 950.5,-677 944.5,-677\"/>\n<text text-anchor=\"middle\" x=\"835\" y=\"-661.8\" font-family=\"Helvetica,sans-Serif\" font-size=\"14.00\" fill=\"#000000\">extraction_type_class_other &lt;= 0.5</text>\n<text text-anchor=\"middle\" x=\"835\" y=\"-646.8\" font-family=\"Helvetica,sans-Serif\" font-size=\"14.00\" fill=\"#000000\">samples = 100.0%</text>\n<text text-anchor=\"middle\" x=\"835\" y=\"-631.8\" font-family=\"Helvetica,sans-Serif\" font-size=\"14.00\" fill=\"#000000\">value = [0.543, 0.073, 0.384]</text>\n<text text-anchor=\"middle\" x=\"835\" y=\"-616.8\" font-family=\"Helvetica,sans-Serif\" font-size=\"14.00\" fill=\"#000000\">class = functional</text>\n</g>\n<!-- 1 -->\n<g id=\"node2\" class=\"node\">\n<title>1</title>\n<path fill=\"#f5ceb2\" stroke=\"#000000\" d=\"M837,-573C837,-573 577,-573 577,-573 571,-573 565,-567 565,-561 565,-561 565,-517 565,-517 565,-511 571,-505 577,-505 577,-505 837,-505 837,-505 843,-505 849,-511 849,-517 849,-517 849,-561 849,-561 849,-567 843,-573 837,-573\"/>\n<text text-anchor=\"middle\" x=\"707\" y=\"-557.8\" font-family=\"Helvetica,sans-Serif\" font-size=\"14.00\" fill=\"#000000\">extraction_type_class_motorpump &lt;= 0.5</text>\n<text text-anchor=\"middle\" x=\"707\" y=\"-542.8\" font-family=\"Helvetica,sans-Serif\" font-size=\"14.00\" fill=\"#000000\">samples = 89.1%</text>\n<text text-anchor=\"middle\" x=\"707\" y=\"-527.8\" font-family=\"Helvetica,sans-Serif\" font-size=\"14.00\" fill=\"#000000\">value = [0.59, 0.078, 0.332]</text>\n<text text-anchor=\"middle\" x=\"707\" y=\"-512.8\" font-family=\"Helvetica,sans-Serif\" font-size=\"14.00\" fill=\"#000000\">class = functional</text>\n</g>\n<!-- 0&#45;&gt;1 -->\n<g id=\"edge1\" class=\"edge\">\n<title>0&#45;&gt;1</title>\n<path fill=\"none\" stroke=\"#000000\" d=\"M793.088,-608.9465C781.485,-599.519 768.7779,-589.1946 756.7741,-579.4415\"/>\n<polygon fill=\"#000000\" stroke=\"#000000\" points=\"758.9744,-576.7196 749.0061,-573.13 754.5602,-582.1524 758.9744,-576.7196\"/>\n<text text-anchor=\"middle\" x=\"751.5786\" y=\"-594.2973\" font-family=\"Helvetica,sans-Serif\" font-size=\"14.00\" fill=\"#000000\">True</text>\n</g>\n<!-- 12 -->\n<g id=\"node13\" class=\"node\">\n<title>12</title>\n<path fill=\"#9d66eb\" stroke=\"#000000\" d=\"M1047,-565.5C1047,-565.5 879,-565.5 879,-565.5 873,-565.5 867,-559.5 867,-553.5 867,-553.5 867,-524.5 867,-524.5 867,-518.5 873,-512.5 879,-512.5 879,-512.5 1047,-512.5 1047,-512.5 1053,-512.5 1059,-518.5 1059,-524.5 1059,-524.5 1059,-553.5 1059,-553.5 1059,-559.5 1053,-565.5 1047,-565.5\"/>\n<text text-anchor=\"middle\" x=\"963\" y=\"-550.3\" font-family=\"Helvetica,sans-Serif\" font-size=\"14.00\" fill=\"#000000\">samples = 10.9%</text>\n<text text-anchor=\"middle\" x=\"963\" y=\"-535.3\" font-family=\"Helvetica,sans-Serif\" font-size=\"14.00\" fill=\"#000000\">value = [0.159, 0.031, 0.81]</text>\n<text text-anchor=\"middle\" x=\"963\" y=\"-520.3\" font-family=\"Helvetica,sans-Serif\" font-size=\"14.00\" fill=\"#000000\">class = non functional</text>\n</g>\n<!-- 0&#45;&gt;12 -->\n<g id=\"edge12\" class=\"edge\">\n<title>0&#45;&gt;12</title>\n<path fill=\"none\" stroke=\"#000000\" d=\"M876.912,-608.9465C891.5533,-597.0504 907.9526,-583.726 922.4785,-571.9237\"/>\n<polygon fill=\"#000000\" stroke=\"#000000\" points=\"924.7786,-574.5645 930.3327,-565.5422 920.3645,-569.1317 924.7786,-574.5645\"/>\n<text text-anchor=\"middle\" x=\"927.7602\" y=\"-586.7095\" font-family=\"Helvetica,sans-Serif\" font-size=\"14.00\" fill=\"#000000\">False</text>\n</g>\n<!-- 2 -->\n<g id=\"node3\" class=\"node\">\n<title>2</title>\n<path fill=\"#f4caac\" stroke=\"#000000\" d=\"M708.5,-469C708.5,-469 443.5,-469 443.5,-469 437.5,-469 431.5,-463 431.5,-457 431.5,-457 431.5,-413 431.5,-413 431.5,-407 437.5,-401 443.5,-401 443.5,-401 708.5,-401 708.5,-401 714.5,-401 720.5,-407 720.5,-413 720.5,-413 720.5,-457 720.5,-457 720.5,-463 714.5,-469 708.5,-469\"/>\n<text text-anchor=\"middle\" x=\"576\" y=\"-453.8\" font-family=\"Helvetica,sans-Serif\" font-size=\"14.00\" fill=\"#000000\">extraction_type_class_submersible &lt;= 0.5</text>\n<text text-anchor=\"middle\" x=\"576\" y=\"-438.8\" font-family=\"Helvetica,sans-Serif\" font-size=\"14.00\" fill=\"#000000\">samples = 84.1%</text>\n<text text-anchor=\"middle\" x=\"576\" y=\"-423.8\" font-family=\"Helvetica,sans-Serif\" font-size=\"14.00\" fill=\"#000000\">value = [0.603, 0.08, 0.318]</text>\n<text text-anchor=\"middle\" x=\"576\" y=\"-408.8\" font-family=\"Helvetica,sans-Serif\" font-size=\"14.00\" fill=\"#000000\">class = functional</text>\n</g>\n<!-- 1&#45;&gt;2 -->\n<g id=\"edge2\" class=\"edge\">\n<title>1&#45;&gt;2</title>\n<path fill=\"none\" stroke=\"#000000\" d=\"M664.1057,-504.9465C652.2307,-495.519 639.2259,-485.1946 626.9407,-475.4415\"/>\n<polygon fill=\"#000000\" stroke=\"#000000\" points=\"628.9989,-472.6066 618.9907,-469.13 624.6464,-478.089 628.9989,-472.6066\"/>\n</g>\n<!-- 11 -->\n<g id=\"node12\" class=\"node\">\n<title>11</title>\n<path fill=\"#d8c1f7\" stroke=\"#000000\" d=\"M927,-461.5C927,-461.5 751,-461.5 751,-461.5 745,-461.5 739,-455.5 739,-449.5 739,-449.5 739,-420.5 739,-420.5 739,-414.5 745,-408.5 751,-408.5 751,-408.5 927,-408.5 927,-408.5 933,-408.5 939,-414.5 939,-420.5 939,-420.5 939,-449.5 939,-449.5 939,-455.5 933,-461.5 927,-461.5\"/>\n<text text-anchor=\"middle\" x=\"839\" y=\"-446.3\" font-family=\"Helvetica,sans-Serif\" font-size=\"14.00\" fill=\"#000000\">samples = 5.0%</text>\n<text text-anchor=\"middle\" x=\"839\" y=\"-431.3\" font-family=\"Helvetica,sans-Serif\" font-size=\"14.00\" fill=\"#000000\">value = [0.381, 0.045, 0.574]</text>\n<text text-anchor=\"middle\" x=\"839\" y=\"-416.3\" font-family=\"Helvetica,sans-Serif\" font-size=\"14.00\" fill=\"#000000\">class = non functional</text>\n</g>\n<!-- 1&#45;&gt;11 -->\n<g id=\"edge11\" class=\"edge\">\n<title>1&#45;&gt;11</title>\n<path fill=\"none\" stroke=\"#000000\" d=\"M750.2217,-504.9465C765.3206,-493.0504 782.2324,-479.726 797.2122,-467.9237\"/>\n<polygon fill=\"#000000\" stroke=\"#000000\" points=\"799.623,-470.4802 805.3119,-461.5422 795.2909,-464.9817 799.623,-470.4802\"/>\n</g>\n<!-- 3 -->\n<g id=\"node4\" class=\"node\">\n<title>3</title>\n<path fill=\"#f4c7a8\" stroke=\"#000000\" d=\"M568.5,-365C568.5,-365 339.5,-365 339.5,-365 333.5,-365 327.5,-359 327.5,-353 327.5,-353 327.5,-309 327.5,-309 327.5,-303 333.5,-297 339.5,-297 339.5,-297 568.5,-297 568.5,-297 574.5,-297 580.5,-303 580.5,-309 580.5,-309 580.5,-353 580.5,-353 580.5,-359 574.5,-365 568.5,-365\"/>\n<text text-anchor=\"middle\" x=\"454\" y=\"-349.8\" font-family=\"Helvetica,sans-Serif\" font-size=\"14.00\" fill=\"#000000\">extraction_type_class_gravity &lt;= 0.5</text>\n<text text-anchor=\"middle\" x=\"454\" y=\"-334.8\" font-family=\"Helvetica,sans-Serif\" font-size=\"14.00\" fill=\"#000000\">samples = 73.8%</text>\n<text text-anchor=\"middle\" x=\"454\" y=\"-319.8\" font-family=\"Helvetica,sans-Serif\" font-size=\"14.00\" fill=\"#000000\">value = [0.611, 0.085, 0.304]</text>\n<text text-anchor=\"middle\" x=\"454\" y=\"-304.8\" font-family=\"Helvetica,sans-Serif\" font-size=\"14.00\" fill=\"#000000\">class = functional</text>\n</g>\n<!-- 2&#45;&gt;3 -->\n<g id=\"edge3\" class=\"edge\">\n<title>2&#45;&gt;3</title>\n<path fill=\"none\" stroke=\"#000000\" d=\"M536.0526,-400.9465C525.0988,-391.6088 513.1127,-381.3911 501.768,-371.7203\"/>\n<polygon fill=\"#000000\" stroke=\"#000000\" points=\"503.9179,-368.9538 494.0371,-365.13 499.3767,-374.2809 503.9179,-368.9538\"/>\n</g>\n<!-- 10 -->\n<g id=\"node11\" class=\"node\">\n<title>10</title>\n<path fill=\"#f9e4d5\" stroke=\"#000000\" d=\"M787,-357.5C787,-357.5 611,-357.5 611,-357.5 605,-357.5 599,-351.5 599,-345.5 599,-345.5 599,-316.5 599,-316.5 599,-310.5 605,-304.5 611,-304.5 611,-304.5 787,-304.5 787,-304.5 793,-304.5 799,-310.5 799,-316.5 799,-316.5 799,-345.5 799,-345.5 799,-351.5 793,-357.5 787,-357.5\"/>\n<text text-anchor=\"middle\" x=\"699\" y=\"-342.3\" font-family=\"Helvetica,sans-Serif\" font-size=\"14.00\" fill=\"#000000\">samples = 10.3%</text>\n<text text-anchor=\"middle\" x=\"699\" y=\"-327.3\" font-family=\"Helvetica,sans-Serif\" font-size=\"14.00\" fill=\"#000000\">value = [0.541, 0.042, 0.416]</text>\n<text text-anchor=\"middle\" x=\"699\" y=\"-312.3\" font-family=\"Helvetica,sans-Serif\" font-size=\"14.00\" fill=\"#000000\">class = functional</text>\n</g>\n<!-- 2&#45;&gt;10 -->\n<g id=\"edge10\" class=\"edge\">\n<title>2&#45;&gt;10</title>\n<path fill=\"none\" stroke=\"#000000\" d=\"M616.2748,-400.9465C630.2139,-389.1606 645.8112,-375.9726 659.6732,-364.2519\"/>\n<polygon fill=\"#000000\" stroke=\"#000000\" points=\"662.2324,-366.6715 667.6088,-357.5422 657.7127,-361.3262 662.2324,-366.6715\"/>\n</g>\n<!-- 4 -->\n<g id=\"node5\" class=\"node\">\n<title>4</title>\n<path fill=\"#f3c5a4\" stroke=\"#000000\" d=\"M458.5,-261C458.5,-261 181.5,-261 181.5,-261 175.5,-261 169.5,-255 169.5,-249 169.5,-249 169.5,-205 169.5,-205 169.5,-199 175.5,-193 181.5,-193 181.5,-193 458.5,-193 458.5,-193 464.5,-193 470.5,-199 470.5,-205 470.5,-205 470.5,-249 470.5,-249 470.5,-255 464.5,-261 458.5,-261\"/>\n<text text-anchor=\"middle\" x=\"320\" y=\"-245.8\" font-family=\"Helvetica,sans-Serif\" font-size=\"14.00\" fill=\"#000000\">extraction_type_class_wind&#45;powered &lt;= 0.5</text>\n<text text-anchor=\"middle\" x=\"320\" y=\"-230.8\" font-family=\"Helvetica,sans-Serif\" font-size=\"14.00\" fill=\"#000000\">samples = 28.7%</text>\n<text text-anchor=\"middle\" x=\"320\" y=\"-215.8\" font-family=\"Helvetica,sans-Serif\" font-size=\"14.00\" fill=\"#000000\">value = [0.629, 0.059, 0.311]</text>\n<text text-anchor=\"middle\" x=\"320\" y=\"-200.8\" font-family=\"Helvetica,sans-Serif\" font-size=\"14.00\" fill=\"#000000\">class = functional</text>\n</g>\n<!-- 3&#45;&gt;4 -->\n<g id=\"edge4\" class=\"edge\">\n<title>3&#45;&gt;4</title>\n<path fill=\"none\" stroke=\"#000000\" d=\"M410.1234,-296.9465C397.9765,-287.519 384.6738,-277.1946 372.1073,-267.4415\"/>\n<polygon fill=\"#000000\" stroke=\"#000000\" points=\"374.021,-264.4963 363.9752,-261.13 369.7291,-270.0262 374.021,-264.4963\"/>\n</g>\n<!-- 9 -->\n<g id=\"node10\" class=\"node\">\n<title>9</title>\n<path fill=\"#f4c9aa\" stroke=\"#000000\" d=\"M677,-253.5C677,-253.5 501,-253.5 501,-253.5 495,-253.5 489,-247.5 489,-241.5 489,-241.5 489,-212.5 489,-212.5 489,-206.5 495,-200.5 501,-200.5 501,-200.5 677,-200.5 677,-200.5 683,-200.5 689,-206.5 689,-212.5 689,-212.5 689,-241.5 689,-241.5 689,-247.5 683,-253.5 677,-253.5\"/>\n<text text-anchor=\"middle\" x=\"589\" y=\"-238.3\" font-family=\"Helvetica,sans-Serif\" font-size=\"14.00\" fill=\"#000000\">samples = 45.1%</text>\n<text text-anchor=\"middle\" x=\"589\" y=\"-223.3\" font-family=\"Helvetica,sans-Serif\" font-size=\"14.00\" fill=\"#000000\">value = [0.599, 0.101, 0.299]</text>\n<text text-anchor=\"middle\" x=\"589\" y=\"-208.3\" font-family=\"Helvetica,sans-Serif\" font-size=\"14.00\" fill=\"#000000\">class = functional</text>\n</g>\n<!-- 3&#45;&gt;9 -->\n<g id=\"edge9\" class=\"edge\">\n<title>3&#45;&gt;9</title>\n<path fill=\"none\" stroke=\"#000000\" d=\"M498.204,-296.9465C513.6461,-285.0504 530.9422,-271.726 546.2625,-259.9237\"/>\n<polygon fill=\"#000000\" stroke=\"#000000\" points=\"548.7603,-262.4176 554.5462,-253.5422 544.4883,-256.8723 548.7603,-262.4176\"/>\n</g>\n<!-- 5 -->\n<g id=\"node6\" class=\"node\">\n<title>5</title>\n<path fill=\"#f3c4a3\" stroke=\"#000000\" d=\"M319,-157C319,-157 63,-157 63,-157 57,-157 51,-151 51,-145 51,-145 51,-101 51,-101 51,-95 57,-89 63,-89 63,-89 319,-89 319,-89 325,-89 331,-95 331,-101 331,-101 331,-145 331,-145 331,-151 325,-157 319,-157\"/>\n<text text-anchor=\"middle\" x=\"191\" y=\"-141.8\" font-family=\"Helvetica,sans-Serif\" font-size=\"14.00\" fill=\"#000000\">extraction_type_class_rope pump &lt;= 0.5</text>\n<text text-anchor=\"middle\" x=\"191\" y=\"-126.8\" font-family=\"Helvetica,sans-Serif\" font-size=\"14.00\" fill=\"#000000\">samples = 28.5%</text>\n<text text-anchor=\"middle\" x=\"191\" y=\"-111.8\" font-family=\"Helvetica,sans-Serif\" font-size=\"14.00\" fill=\"#000000\">value = [0.631, 0.059, 0.31]</text>\n<text text-anchor=\"middle\" x=\"191\" y=\"-96.8\" font-family=\"Helvetica,sans-Serif\" font-size=\"14.00\" fill=\"#000000\">class = functional</text>\n</g>\n<!-- 4&#45;&gt;5 -->\n<g id=\"edge5\" class=\"edge\">\n<title>4&#45;&gt;5</title>\n<path fill=\"none\" stroke=\"#000000\" d=\"M277.7606,-192.9465C266.0669,-183.519 253.2606,-173.1946 241.163,-163.4415\"/>\n<polygon fill=\"#000000\" stroke=\"#000000\" points=\"243.3162,-160.6816 233.3343,-157.13 238.9227,-166.1312 243.3162,-160.6816\"/>\n</g>\n<!-- 8 -->\n<g id=\"node9\" class=\"node\">\n<title>8</title>\n<path fill=\"#f8f3fd\" stroke=\"#000000\" d=\"M537,-149.5C537,-149.5 361,-149.5 361,-149.5 355,-149.5 349,-143.5 349,-137.5 349,-137.5 349,-108.5 349,-108.5 349,-102.5 355,-96.5 361,-96.5 361,-96.5 537,-96.5 537,-96.5 543,-96.5 549,-102.5 549,-108.5 549,-108.5 549,-137.5 549,-137.5 549,-143.5 543,-149.5 537,-149.5\"/>\n<text text-anchor=\"middle\" x=\"449\" y=\"-134.3\" font-family=\"Helvetica,sans-Serif\" font-size=\"14.00\" fill=\"#000000\">samples = 0.2%</text>\n<text text-anchor=\"middle\" x=\"449\" y=\"-119.3\" font-family=\"Helvetica,sans-Serif\" font-size=\"14.00\" fill=\"#000000\">value = [0.452, 0.065, 0.484]</text>\n<text text-anchor=\"middle\" x=\"449\" y=\"-104.3\" font-family=\"Helvetica,sans-Serif\" font-size=\"14.00\" fill=\"#000000\">class = non functional</text>\n</g>\n<!-- 4&#45;&gt;8 -->\n<g id=\"edge8\" class=\"edge\">\n<title>4&#45;&gt;8</title>\n<path fill=\"none\" stroke=\"#000000\" d=\"M362.2394,-192.9465C376.9952,-181.0504 393.5225,-167.726 408.162,-155.9237\"/>\n<polygon fill=\"#000000\" stroke=\"#000000\" points=\"410.4891,-158.5433 416.0775,-149.5422 406.0957,-153.0938 410.4891,-158.5433\"/>\n</g>\n<!-- 6 -->\n<g id=\"node7\" class=\"node\">\n<title>6</title>\n<path fill=\"#f3c5a3\" stroke=\"#000000\" d=\"M164,-53C164,-53 12,-53 12,-53 6,-53 0,-47 0,-41 0,-41 0,-12 0,-12 0,-6 6,0 12,0 12,0 164,0 164,0 170,0 176,-6 176,-12 176,-12 176,-41 176,-41 176,-47 170,-53 164,-53\"/>\n<text text-anchor=\"middle\" x=\"88\" y=\"-37.8\" font-family=\"Helvetica,sans-Serif\" font-size=\"14.00\" fill=\"#000000\">samples = 27.7%</text>\n<text text-anchor=\"middle\" x=\"88\" y=\"-22.8\" font-family=\"Helvetica,sans-Serif\" font-size=\"14.00\" fill=\"#000000\">value = [0.63, 0.06, 0.31]</text>\n<text text-anchor=\"middle\" x=\"88\" y=\"-7.8\" font-family=\"Helvetica,sans-Serif\" font-size=\"14.00\" fill=\"#000000\">class = functional</text>\n</g>\n<!-- 5&#45;&gt;6 -->\n<g id=\"edge6\" class=\"edge\">\n<title>5&#45;&gt;6</title>\n<path fill=\"none\" stroke=\"#000000\" d=\"M154.6861,-88.9777C144.7168,-79.6376 133.9138,-69.5163 123.9643,-60.1947\"/>\n<polygon fill=\"#000000\" stroke=\"#000000\" points=\"126.2408,-57.5314 116.5502,-53.2485 121.4548,-62.6397 126.2408,-57.5314\"/>\n</g>\n<!-- 7 -->\n<g id=\"node8\" class=\"node\">\n<title>7</title>\n<path fill=\"#f2bf9b\" stroke=\"#000000\" d=\"M382,-53C382,-53 206,-53 206,-53 200,-53 194,-47 194,-41 194,-41 194,-12 194,-12 194,-6 200,0 206,0 206,0 382,0 382,0 388,0 394,-6 394,-12 394,-12 394,-41 394,-41 394,-47 388,-53 382,-53\"/>\n<text text-anchor=\"middle\" x=\"294\" y=\"-37.8\" font-family=\"Helvetica,sans-Serif\" font-size=\"14.00\" fill=\"#000000\">samples = 0.7%</text>\n<text text-anchor=\"middle\" x=\"294\" y=\"-22.8\" font-family=\"Helvetica,sans-Serif\" font-size=\"14.00\" fill=\"#000000\">value = [0.657, 0.037, 0.306]</text>\n<text text-anchor=\"middle\" x=\"294\" y=\"-7.8\" font-family=\"Helvetica,sans-Serif\" font-size=\"14.00\" fill=\"#000000\">class = functional</text>\n</g>\n<!-- 5&#45;&gt;7 -->\n<g id=\"edge7\" class=\"edge\">\n<title>5&#45;&gt;7</title>\n<path fill=\"none\" stroke=\"#000000\" d=\"M227.3139,-88.9777C237.2832,-79.6376 248.0862,-69.5163 258.0357,-60.1947\"/>\n<polygon fill=\"#000000\" stroke=\"#000000\" points=\"260.5452,-62.6397 265.4498,-53.2485 255.7592,-57.5314 260.5452,-62.6397\"/>\n</g>\n</g>\n</svg>\n"
          },
          "metadata": {
            "tags": []
          }
        }
      ]
    },
    {
      "cell_type": "markdown",
      "metadata": {
        "colab_type": "text",
        "id": "QUd6gzcZgLVz"
      },
      "source": [
        "### [Ordinal Encoding](http://contrib.scikit-learn.org/categorical-encoding/ordinal.html)\n",
        "\n",
        "> Ordinal encoding uses a single column of integers to represent the classes. An optional mapping dict can be passed in; in this case, we use the knowledge that there is some true order to the classes themselves. Otherwise, the classes are assumed to have no true order and integers are selected at random."
      ]
    },
    {
      "cell_type": "code",
      "metadata": {
        "colab_type": "code",
        "id": "CnBz2RbwgLVz",
        "outputId": "76d69256-fcba-44c6-ef93-e1b6708bd78c",
        "colab": {
          "base_uri": "https://localhost:8080/",
          "height": 686
        }
      },
      "source": [
        "encoder = ce.OrdinalEncoder()\n",
        "encoded = encoder.fit_transform(X_train[[feature]])\n",
        "print(f'1 column, {encoded[feature].nunique()} unique values')\n",
        "encoded.head(20)"
      ],
      "execution_count": 29,
      "outputs": [
        {
          "output_type": "stream",
          "text": [
            "1 column, 7 unique values\n"
          ],
          "name": "stdout"
        },
        {
          "output_type": "execute_result",
          "data": {
            "text/html": [
              "<div>\n",
              "<style scoped>\n",
              "    .dataframe tbody tr th:only-of-type {\n",
              "        vertical-align: middle;\n",
              "    }\n",
              "\n",
              "    .dataframe tbody tr th {\n",
              "        vertical-align: top;\n",
              "    }\n",
              "\n",
              "    .dataframe thead th {\n",
              "        text-align: right;\n",
              "    }\n",
              "</style>\n",
              "<table border=\"1\" class=\"dataframe\">\n",
              "  <thead>\n",
              "    <tr style=\"text-align: right;\">\n",
              "      <th></th>\n",
              "      <th>extraction_type_class</th>\n",
              "    </tr>\n",
              "  </thead>\n",
              "  <tbody>\n",
              "    <tr>\n",
              "      <th>43360</th>\n",
              "      <td>1</td>\n",
              "    </tr>\n",
              "    <tr>\n",
              "      <th>7263</th>\n",
              "      <td>1</td>\n",
              "    </tr>\n",
              "    <tr>\n",
              "      <th>2486</th>\n",
              "      <td>2</td>\n",
              "    </tr>\n",
              "    <tr>\n",
              "      <th>313</th>\n",
              "      <td>3</td>\n",
              "    </tr>\n",
              "    <tr>\n",
              "      <th>52726</th>\n",
              "      <td>4</td>\n",
              "    </tr>\n",
              "    <tr>\n",
              "      <th>8558</th>\n",
              "      <td>1</td>\n",
              "    </tr>\n",
              "    <tr>\n",
              "      <th>2559</th>\n",
              "      <td>1</td>\n",
              "    </tr>\n",
              "    <tr>\n",
              "      <th>54735</th>\n",
              "      <td>4</td>\n",
              "    </tr>\n",
              "    <tr>\n",
              "      <th>25763</th>\n",
              "      <td>2</td>\n",
              "    </tr>\n",
              "    <tr>\n",
              "      <th>44540</th>\n",
              "      <td>5</td>\n",
              "    </tr>\n",
              "    <tr>\n",
              "      <th>28603</th>\n",
              "      <td>3</td>\n",
              "    </tr>\n",
              "    <tr>\n",
              "      <th>4372</th>\n",
              "      <td>5</td>\n",
              "    </tr>\n",
              "    <tr>\n",
              "      <th>30666</th>\n",
              "      <td>1</td>\n",
              "    </tr>\n",
              "    <tr>\n",
              "      <th>6431</th>\n",
              "      <td>5</td>\n",
              "    </tr>\n",
              "    <tr>\n",
              "      <th>57420</th>\n",
              "      <td>3</td>\n",
              "    </tr>\n",
              "    <tr>\n",
              "      <th>1373</th>\n",
              "      <td>1</td>\n",
              "    </tr>\n",
              "    <tr>\n",
              "      <th>2026</th>\n",
              "      <td>1</td>\n",
              "    </tr>\n",
              "    <tr>\n",
              "      <th>58977</th>\n",
              "      <td>2</td>\n",
              "    </tr>\n",
              "    <tr>\n",
              "      <th>41101</th>\n",
              "      <td>1</td>\n",
              "    </tr>\n",
              "    <tr>\n",
              "      <th>10019</th>\n",
              "      <td>1</td>\n",
              "    </tr>\n",
              "  </tbody>\n",
              "</table>\n",
              "</div>"
            ],
            "text/plain": [
              "       extraction_type_class\n",
              "43360                      1\n",
              "7263                       1\n",
              "2486                       2\n",
              "313                        3\n",
              "52726                      4\n",
              "8558                       1\n",
              "2559                       1\n",
              "54735                      4\n",
              "25763                      2\n",
              "44540                      5\n",
              "28603                      3\n",
              "4372                       5\n",
              "30666                      1\n",
              "6431                       5\n",
              "57420                      3\n",
              "1373                       1\n",
              "2026                       1\n",
              "58977                      2\n",
              "41101                      1\n",
              "10019                      1"
            ]
          },
          "metadata": {
            "tags": []
          },
          "execution_count": 29
        }
      ]
    },
    {
      "cell_type": "markdown",
      "metadata": {
        "colab_type": "text",
        "id": "Nd-ZWprasqUM"
      },
      "source": [
        "#### Ordinal Encoding, Logistic Regression, Validation Accuracy"
      ]
    },
    {
      "cell_type": "code",
      "metadata": {
        "colab_type": "code",
        "id": "GJ1YpwjvrhfL",
        "outputId": "0d6335b4-6a71-4382-a8bd-bfe92c590a50",
        "colab": {
          "base_uri": "https://localhost:8080/",
          "height": 34
        }
      },
      "source": [
        "lr = make_pipeline(\n",
        "    ce.OrdinalEncoder(), \n",
        "    SimpleImputer(), \n",
        "    StandardScaler(), \n",
        "    LogisticRegressionCV(multi_class='auto', solver='lbfgs', cv=5, n_jobs=-1)\n",
        ")\n",
        "\n",
        "lr.fit(X_train[[feature]], y_train)\n",
        "score = lr.score(X_val[[feature]], y_val)\n",
        "print('Logistic Regression, Validation Accuracy', score)"
      ],
      "execution_count": 30,
      "outputs": [
        {
          "output_type": "stream",
          "text": [
            "Logistic Regression, Validation Accuracy 0.5417508417508418\n"
          ],
          "name": "stdout"
        }
      ]
    },
    {
      "cell_type": "markdown",
      "metadata": {
        "colab_type": "text",
        "id": "9lO_R3SksuHs"
      },
      "source": [
        "#### Ordinal Encoding, Decision Tree, Validation Accuracy"
      ]
    },
    {
      "cell_type": "code",
      "metadata": {
        "colab_type": "code",
        "id": "aOELD_roriVI",
        "outputId": "84411796-7447-4415-a950-0fd9b6a71d2f",
        "colab": {
          "base_uri": "https://localhost:8080/",
          "height": 34
        }
      },
      "source": [
        "dt = make_pipeline(\n",
        "    ce.OrdinalEncoder(), \n",
        "    SimpleImputer(), \n",
        "    DecisionTreeClassifier(random_state=42)\n",
        ")\n",
        "\n",
        "dt.fit(X_train[[feature]], y_train)\n",
        "score = dt.score(X_val[[feature]], y_val)\n",
        "print('Decision Tree, Validation Accuracy', score)"
      ],
      "execution_count": 31,
      "outputs": [
        {
          "output_type": "stream",
          "text": [
            "Decision Tree, Validation Accuracy 0.6202861952861953\n"
          ],
          "name": "stdout"
        }
      ]
    },
    {
      "cell_type": "markdown",
      "metadata": {
        "colab_type": "text",
        "id": "7V2zHjiwswTg"
      },
      "source": [
        "#### Ordinal Encoding, Logistic Regression, Model Interpretation"
      ]
    },
    {
      "cell_type": "code",
      "metadata": {
        "colab_type": "code",
        "id": "S9UPYPois8QR",
        "outputId": "95287e7d-d690-4424-b9e8-7562a92369aa",
        "colab": {
          "base_uri": "https://localhost:8080/",
          "height": 265
        }
      },
      "source": [
        "model = lr.named_steps['logisticregressioncv']\n",
        "encoder = lr.named_steps['ordinalencoder']\n",
        "encoded_columns = encoder.transform(X_val[[feature]]).columns\n",
        "coefficients = pd.Series(model.coef_[0], encoded_columns)\n",
        "coefficients.sort_values().plot.barh(color='grey');"
      ],
      "execution_count": 32,
      "outputs": [
        {
          "output_type": "display_data",
          "data": {
            "image/png": "[encoded data removed]",
            "text/plain": [
              "<Figure size 432x288 with 1 Axes>"
            ]
          },
          "metadata": {
            "tags": []
          }
        }
      ]
    },
    {
      "cell_type": "markdown",
      "metadata": {
        "colab_type": "text",
        "id": "MvmmvE8fsymh"
      },
      "source": [
        "#### Ordinal Encoding, Decision Tree, Model Interpretation"
      ]
    },
    {
      "cell_type": "code",
      "metadata": {
        "colab_type": "code",
        "id": "jCvUu4Oms88b",
        "outputId": "351d0e9d-103c-4cef-fb11-bbdd618e15ff",
        "colab": {
          "base_uri": "https://localhost:8080/",
          "height": 816
        }
      },
      "source": [
        "model = dt.named_steps['decisiontreeclassifier']\n",
        "encoder = dt.named_steps['ordinalencoder']\n",
        "encoded_columns = encoder.transform(X_val[[feature]]).columns\n",
        "\n",
        "dot_data = export_graphviz(model, \n",
        "                           out_file=None, \n",
        "                           max_depth=5, \n",
        "                           feature_names=encoded_columns,\n",
        "                           class_names=model.classes_, \n",
        "                           impurity=False, \n",
        "                           filled=True, \n",
        "                           proportion=True, \n",
        "                           rounded=True)   \n",
        "display(graphviz.Source(dot_data))"
      ],
      "execution_count": 33,
      "outputs": [
        {
          "output_type": "display_data",
          "data": {
            "text/plain": [
              "<graphviz.files.Source at 0x7f6d3151fb38>"
            ],
            "image/svg+xml": "<?xml version=\"1.0\" encoding=\"UTF-8\" standalone=\"no\"?>\n<!DOCTYPE svg PUBLIC \"-//W3C//DTD SVG 1.1//EN\"\n \"http://www.w3.org/Graphics/SVG/1.1/DTD/svg11.dtd\">\n<!-- Generated by graphviz version 2.40.1 (20161225.0304)\n -->\n<!-- Title: Tree Pages: 1 -->\n<svg width=\"1167pt\" height=\"581pt\"\n viewBox=\"0.00 0.00 1167.00 581.00\" xmlns=\"http://www.w3.org/2000/svg\" xmlns:xlink=\"http://www.w3.org/1999/xlink\">\n<g id=\"graph0\" class=\"graph\" transform=\"scale(1 1) rotate(0) translate(4 577)\">\n<title>Tree</title>\n<polygon fill=\"#ffffff\" stroke=\"transparent\" points=\"-4,4 -4,-577 1163,-577 1163,4 -4,4\"/>\n<!-- 0 -->\n<g id=\"node1\" class=\"node\">\n<title>0</title>\n<path fill=\"#f8decc\" stroke=\"#000000\" d=\"M500,-573C500,-573 322,-573 322,-573 316,-573 310,-567 310,-561 310,-561 310,-517 310,-517 310,-511 316,-505 322,-505 322,-505 500,-505 500,-505 506,-505 512,-511 512,-517 512,-517 512,-561 512,-561 512,-567 506,-573 500,-573\"/>\n<text text-anchor=\"middle\" x=\"411\" y=\"-557.8\" font-family=\"Helvetica,sans-Serif\" font-size=\"14.00\" fill=\"#000000\">extraction_type_class &lt;= 2.5</text>\n<text text-anchor=\"middle\" x=\"411\" y=\"-542.8\" font-family=\"Helvetica,sans-Serif\" font-size=\"14.00\" fill=\"#000000\">samples = 100.0%</text>\n<text text-anchor=\"middle\" x=\"411\" y=\"-527.8\" font-family=\"Helvetica,sans-Serif\" font-size=\"14.00\" fill=\"#000000\">value = [0.543, 0.073, 0.384]</text>\n<text text-anchor=\"middle\" x=\"411\" y=\"-512.8\" font-family=\"Helvetica,sans-Serif\" font-size=\"14.00\" fill=\"#000000\">class = functional</text>\n</g>\n<!-- 1 -->\n<g id=\"node2\" class=\"node\">\n<title>1</title>\n<path fill=\"#f4c7a8\" stroke=\"#000000\" d=\"M390,-469C390,-469 212,-469 212,-469 206,-469 200,-463 200,-457 200,-457 200,-413 200,-413 200,-407 206,-401 212,-401 212,-401 390,-401 390,-401 396,-401 402,-407 402,-413 402,-413 402,-457 402,-457 402,-463 396,-469 390,-469\"/>\n<text text-anchor=\"middle\" x=\"301\" y=\"-453.8\" font-family=\"Helvetica,sans-Serif\" font-size=\"14.00\" fill=\"#000000\">extraction_type_class &lt;= 1.5</text>\n<text text-anchor=\"middle\" x=\"301\" y=\"-438.8\" font-family=\"Helvetica,sans-Serif\" font-size=\"14.00\" fill=\"#000000\">samples = 72.9%</text>\n<text text-anchor=\"middle\" x=\"301\" y=\"-423.8\" font-family=\"Helvetica,sans-Serif\" font-size=\"14.00\" fill=\"#000000\">value = [0.611, 0.085, 0.304]</text>\n<text text-anchor=\"middle\" x=\"301\" y=\"-408.8\" font-family=\"Helvetica,sans-Serif\" font-size=\"14.00\" fill=\"#000000\">class = functional</text>\n</g>\n<!-- 0&#45;&gt;1 -->\n<g id=\"edge1\" class=\"edge\">\n<title>0&#45;&gt;1</title>\n<path fill=\"none\" stroke=\"#000000\" d=\"M374.9819,-504.9465C365.2954,-495.7884 354.7136,-485.7838 344.6603,-476.2788\"/>\n<polygon fill=\"#000000\" stroke=\"#000000\" points=\"346.7701,-473.4569 337.099,-469.13 341.961,-478.5434 346.7701,-473.4569\"/>\n<text text-anchor=\"middle\" x=\"337.7997\" y=\"-490.4202\" font-family=\"Helvetica,sans-Serif\" font-size=\"14.00\" fill=\"#000000\">True</text>\n</g>\n<!-- 4 -->\n<g id=\"node5\" class=\"node\">\n<title>4</title>\n<path fill=\"#d0b4f5\" stroke=\"#000000\" d=\"M610,-469C610,-469 432,-469 432,-469 426,-469 420,-463 420,-457 420,-457 420,-413 420,-413 420,-407 426,-401 432,-401 432,-401 610,-401 610,-401 616,-401 622,-407 622,-413 622,-413 622,-457 622,-457 622,-463 616,-469 610,-469\"/>\n<text text-anchor=\"middle\" x=\"521\" y=\"-453.8\" font-family=\"Helvetica,sans-Serif\" font-size=\"14.00\" fill=\"#000000\">extraction_type_class &lt;= 3.5</text>\n<text text-anchor=\"middle\" x=\"521\" y=\"-438.8\" font-family=\"Helvetica,sans-Serif\" font-size=\"14.00\" fill=\"#000000\">samples = 27.1%</text>\n<text text-anchor=\"middle\" x=\"521\" y=\"-423.8\" font-family=\"Helvetica,sans-Serif\" font-size=\"14.00\" fill=\"#000000\">value = [0.361, 0.038, 0.601]</text>\n<text text-anchor=\"middle\" x=\"521\" y=\"-408.8\" font-family=\"Helvetica,sans-Serif\" font-size=\"14.00\" fill=\"#000000\">class = non functional</text>\n</g>\n<!-- 0&#45;&gt;4 -->\n<g id=\"edge4\" class=\"edge\">\n<title>0&#45;&gt;4</title>\n<path fill=\"none\" stroke=\"#000000\" d=\"M447.0181,-504.9465C456.7046,-495.7884 467.2864,-485.7838 477.3397,-476.2788\"/>\n<polygon fill=\"#000000\" stroke=\"#000000\" points=\"480.039,-478.5434 484.901,-469.13 475.2299,-473.4569 480.039,-478.5434\"/>\n<text text-anchor=\"middle\" x=\"484.2003\" y=\"-490.4202\" font-family=\"Helvetica,sans-Serif\" font-size=\"14.00\" fill=\"#000000\">False</text>\n</g>\n<!-- 2 -->\n<g id=\"node3\" class=\"node\">\n<title>2</title>\n<path fill=\"#f4c9aa\" stroke=\"#000000\" d=\"M188,-357.5C188,-357.5 12,-357.5 12,-357.5 6,-357.5 0,-351.5 0,-345.5 0,-345.5 0,-316.5 0,-316.5 0,-310.5 6,-304.5 12,-304.5 12,-304.5 188,-304.5 188,-304.5 194,-304.5 200,-310.5 200,-316.5 200,-316.5 200,-345.5 200,-345.5 200,-351.5 194,-357.5 188,-357.5\"/>\n<text text-anchor=\"middle\" x=\"100\" y=\"-342.3\" font-family=\"Helvetica,sans-Serif\" font-size=\"14.00\" fill=\"#000000\">samples = 45.1%</text>\n<text text-anchor=\"middle\" x=\"100\" y=\"-327.3\" font-family=\"Helvetica,sans-Serif\" font-size=\"14.00\" fill=\"#000000\">value = [0.599, 0.101, 0.299]</text>\n<text text-anchor=\"middle\" x=\"100\" y=\"-312.3\" font-family=\"Helvetica,sans-Serif\" font-size=\"14.00\" fill=\"#000000\">class = functional</text>\n</g>\n<!-- 1&#45;&gt;2 -->\n<g id=\"edge2\" class=\"edge\">\n<title>1&#45;&gt;2</title>\n<path fill=\"none\" stroke=\"#000000\" d=\"M235.1851,-400.9465C211.1292,-388.4997 184.0513,-374.4892 160.4827,-362.2946\"/>\n<polygon fill=\"#000000\" stroke=\"#000000\" points=\"161.7878,-359.0291 151.2978,-357.5422 158.571,-365.2462 161.7878,-359.0291\"/>\n</g>\n<!-- 3 -->\n<g id=\"node4\" class=\"node\">\n<title>3</title>\n<path fill=\"#f3c5a3\" stroke=\"#000000\" d=\"M382,-357.5C382,-357.5 230,-357.5 230,-357.5 224,-357.5 218,-351.5 218,-345.5 218,-345.5 218,-316.5 218,-316.5 218,-310.5 224,-304.5 230,-304.5 230,-304.5 382,-304.5 382,-304.5 388,-304.5 394,-310.5 394,-316.5 394,-316.5 394,-345.5 394,-345.5 394,-351.5 388,-357.5 382,-357.5\"/>\n<text text-anchor=\"middle\" x=\"306\" y=\"-342.3\" font-family=\"Helvetica,sans-Serif\" font-size=\"14.00\" fill=\"#000000\">samples = 27.7%</text>\n<text text-anchor=\"middle\" x=\"306\" y=\"-327.3\" font-family=\"Helvetica,sans-Serif\" font-size=\"14.00\" fill=\"#000000\">value = [0.63, 0.06, 0.31]</text>\n<text text-anchor=\"middle\" x=\"306\" y=\"-312.3\" font-family=\"Helvetica,sans-Serif\" font-size=\"14.00\" fill=\"#000000\">class = functional</text>\n</g>\n<!-- 1&#45;&gt;3 -->\n<g id=\"edge3\" class=\"edge\">\n<title>1&#45;&gt;3</title>\n<path fill=\"none\" stroke=\"#000000\" d=\"M302.6372,-400.9465C303.1509,-390.2621 303.7199,-378.4254 304.2416,-367.5742\"/>\n<polygon fill=\"#000000\" stroke=\"#000000\" points=\"307.7396,-367.6987 304.7239,-357.5422 300.7477,-367.3625 307.7396,-367.6987\"/>\n</g>\n<!-- 5 -->\n<g id=\"node6\" class=\"node\">\n<title>5</title>\n<path fill=\"#9d66eb\" stroke=\"#000000\" d=\"M601,-357.5C601,-357.5 433,-357.5 433,-357.5 427,-357.5 421,-351.5 421,-345.5 421,-345.5 421,-316.5 421,-316.5 421,-310.5 427,-304.5 433,-304.5 433,-304.5 601,-304.5 601,-304.5 607,-304.5 613,-310.5 613,-316.5 613,-316.5 613,-345.5 613,-345.5 613,-351.5 607,-357.5 601,-357.5\"/>\n<text text-anchor=\"middle\" x=\"517\" y=\"-342.3\" font-family=\"Helvetica,sans-Serif\" font-size=\"14.00\" fill=\"#000000\">samples = 10.9%</text>\n<text text-anchor=\"middle\" x=\"517\" y=\"-327.3\" font-family=\"Helvetica,sans-Serif\" font-size=\"14.00\" fill=\"#000000\">value = [0.159, 0.031, 0.81]</text>\n<text text-anchor=\"middle\" x=\"517\" y=\"-312.3\" font-family=\"Helvetica,sans-Serif\" font-size=\"14.00\" fill=\"#000000\">class = non functional</text>\n</g>\n<!-- 4&#45;&gt;5 -->\n<g id=\"edge5\" class=\"edge\">\n<title>4&#45;&gt;5</title>\n<path fill=\"none\" stroke=\"#000000\" d=\"M519.6903,-400.9465C519.2793,-390.2621 518.8241,-378.4254 518.4067,-367.5742\"/>\n<polygon fill=\"#000000\" stroke=\"#000000\" points=\"521.9027,-367.4002 518.0209,-357.5422 514.9079,-367.6693 521.9027,-367.4002\"/>\n</g>\n<!-- 6 -->\n<g id=\"node7\" class=\"node\">\n<title>6</title>\n<path fill=\"#fdf7f2\" stroke=\"#000000\" d=\"M821,-365C821,-365 643,-365 643,-365 637,-365 631,-359 631,-353 631,-353 631,-309 631,-309 631,-303 637,-297 643,-297 643,-297 821,-297 821,-297 827,-297 833,-303 833,-309 833,-309 833,-353 833,-353 833,-359 827,-365 821,-365\"/>\n<text text-anchor=\"middle\" x=\"732\" y=\"-349.8\" font-family=\"Helvetica,sans-Serif\" font-size=\"14.00\" fill=\"#000000\">extraction_type_class &lt;= 4.5</text>\n<text text-anchor=\"middle\" x=\"732\" y=\"-334.8\" font-family=\"Helvetica,sans-Serif\" font-size=\"14.00\" fill=\"#000000\">samples = 16.2%</text>\n<text text-anchor=\"middle\" x=\"732\" y=\"-319.8\" font-family=\"Helvetica,sans-Serif\" font-size=\"14.00\" fill=\"#000000\">value = [0.497, 0.043, 0.46]</text>\n<text text-anchor=\"middle\" x=\"732\" y=\"-304.8\" font-family=\"Helvetica,sans-Serif\" font-size=\"14.00\" fill=\"#000000\">class = functional</text>\n</g>\n<!-- 4&#45;&gt;6 -->\n<g id=\"edge6\" class=\"edge\">\n<title>4&#45;&gt;6</title>\n<path fill=\"none\" stroke=\"#000000\" d=\"M590.0893,-400.9465C610.4002,-390.9354 632.7633,-379.9129 653.6112,-369.6371\"/>\n<polygon fill=\"#000000\" stroke=\"#000000\" points=\"655.3332,-372.6905 662.7555,-365.13 652.2385,-366.4117 655.3332,-372.6905\"/>\n</g>\n<!-- 7 -->\n<g id=\"node8\" class=\"node\">\n<title>7</title>\n<path fill=\"#d8c1f7\" stroke=\"#000000\" d=\"M710,-253.5C710,-253.5 534,-253.5 534,-253.5 528,-253.5 522,-247.5 522,-241.5 522,-241.5 522,-212.5 522,-212.5 522,-206.5 528,-200.5 534,-200.5 534,-200.5 710,-200.5 710,-200.5 716,-200.5 722,-206.5 722,-212.5 722,-212.5 722,-241.5 722,-241.5 722,-247.5 716,-253.5 710,-253.5\"/>\n<text text-anchor=\"middle\" x=\"622\" y=\"-238.3\" font-family=\"Helvetica,sans-Serif\" font-size=\"14.00\" fill=\"#000000\">samples = 5.0%</text>\n<text text-anchor=\"middle\" x=\"622\" y=\"-223.3\" font-family=\"Helvetica,sans-Serif\" font-size=\"14.00\" fill=\"#000000\">value = [0.381, 0.045, 0.574]</text>\n<text text-anchor=\"middle\" x=\"622\" y=\"-208.3\" font-family=\"Helvetica,sans-Serif\" font-size=\"14.00\" fill=\"#000000\">class = non functional</text>\n</g>\n<!-- 6&#45;&gt;7 -->\n<g id=\"edge7\" class=\"edge\">\n<title>6&#45;&gt;7</title>\n<path fill=\"none\" stroke=\"#000000\" d=\"M695.9819,-296.9465C683.6325,-285.2707 669.8278,-272.219 657.5183,-260.5809\"/>\n<polygon fill=\"#000000\" stroke=\"#000000\" points=\"659.7445,-257.869 650.0734,-253.5422 654.9354,-262.9556 659.7445,-257.869\"/>\n</g>\n<!-- 8 -->\n<g id=\"node9\" class=\"node\">\n<title>8</title>\n<path fill=\"#f9e2d1\" stroke=\"#000000\" d=\"M930,-261C930,-261 752,-261 752,-261 746,-261 740,-255 740,-249 740,-249 740,-205 740,-205 740,-199 746,-193 752,-193 752,-193 930,-193 930,-193 936,-193 942,-199 942,-205 942,-205 942,-249 942,-249 942,-255 936,-261 930,-261\"/>\n<text text-anchor=\"middle\" x=\"841\" y=\"-245.8\" font-family=\"Helvetica,sans-Serif\" font-size=\"14.00\" fill=\"#000000\">extraction_type_class &lt;= 5.5</text>\n<text text-anchor=\"middle\" x=\"841\" y=\"-230.8\" font-family=\"Helvetica,sans-Serif\" font-size=\"14.00\" fill=\"#000000\">samples = 11.2%</text>\n<text text-anchor=\"middle\" x=\"841\" y=\"-215.8\" font-family=\"Helvetica,sans-Serif\" font-size=\"14.00\" fill=\"#000000\">value = [0.548, 0.042, 0.41]</text>\n<text text-anchor=\"middle\" x=\"841\" y=\"-200.8\" font-family=\"Helvetica,sans-Serif\" font-size=\"14.00\" fill=\"#000000\">class = functional</text>\n</g>\n<!-- 6&#45;&gt;8 -->\n<g id=\"edge8\" class=\"edge\">\n<title>6&#45;&gt;8</title>\n<path fill=\"none\" stroke=\"#000000\" d=\"M767.6907,-296.9465C777.2891,-287.7884 787.7747,-277.7838 797.7366,-268.2788\"/>\n<polygon fill=\"#000000\" stroke=\"#000000\" points=\"800.4102,-270.5655 805.2291,-261.13 795.5779,-265.5009 800.4102,-270.5655\"/>\n</g>\n<!-- 9 -->\n<g id=\"node10\" class=\"node\">\n<title>9</title>\n<path fill=\"#f9e4d5\" stroke=\"#000000\" d=\"M819,-149.5C819,-149.5 643,-149.5 643,-149.5 637,-149.5 631,-143.5 631,-137.5 631,-137.5 631,-108.5 631,-108.5 631,-102.5 637,-96.5 643,-96.5 643,-96.5 819,-96.5 819,-96.5 825,-96.5 831,-102.5 831,-108.5 831,-108.5 831,-137.5 831,-137.5 831,-143.5 825,-149.5 819,-149.5\"/>\n<text text-anchor=\"middle\" x=\"731\" y=\"-134.3\" font-family=\"Helvetica,sans-Serif\" font-size=\"14.00\" fill=\"#000000\">samples = 10.3%</text>\n<text text-anchor=\"middle\" x=\"731\" y=\"-119.3\" font-family=\"Helvetica,sans-Serif\" font-size=\"14.00\" fill=\"#000000\">value = [0.541, 0.042, 0.416]</text>\n<text text-anchor=\"middle\" x=\"731\" y=\"-104.3\" font-family=\"Helvetica,sans-Serif\" font-size=\"14.00\" fill=\"#000000\">class = functional</text>\n</g>\n<!-- 8&#45;&gt;9 -->\n<g id=\"edge9\" class=\"edge\">\n<title>8&#45;&gt;9</title>\n<path fill=\"none\" stroke=\"#000000\" d=\"M804.9819,-192.9465C792.6325,-181.2707 778.8278,-168.219 766.5183,-156.5809\"/>\n<polygon fill=\"#000000\" stroke=\"#000000\" points=\"768.7445,-153.869 759.0734,-149.5422 763.9354,-158.9556 768.7445,-153.869\"/>\n</g>\n<!-- 10 -->\n<g id=\"node11\" class=\"node\">\n<title>10</title>\n<path fill=\"#f4cbad\" stroke=\"#000000\" d=\"M1039,-157C1039,-157 861,-157 861,-157 855,-157 849,-151 849,-145 849,-145 849,-101 849,-101 849,-95 855,-89 861,-89 861,-89 1039,-89 1039,-89 1045,-89 1051,-95 1051,-101 1051,-101 1051,-145 1051,-145 1051,-151 1045,-157 1039,-157\"/>\n<text text-anchor=\"middle\" x=\"950\" y=\"-141.8\" font-family=\"Helvetica,sans-Serif\" font-size=\"14.00\" fill=\"#000000\">extraction_type_class &lt;= 6.5</text>\n<text text-anchor=\"middle\" x=\"950\" y=\"-126.8\" font-family=\"Helvetica,sans-Serif\" font-size=\"14.00\" fill=\"#000000\">samples = 0.9%</text>\n<text text-anchor=\"middle\" x=\"950\" y=\"-111.8\" font-family=\"Helvetica,sans-Serif\" font-size=\"14.00\" fill=\"#000000\">value = [0.614, 0.043, 0.343]</text>\n<text text-anchor=\"middle\" x=\"950\" y=\"-96.8\" font-family=\"Helvetica,sans-Serif\" font-size=\"14.00\" fill=\"#000000\">class = functional</text>\n</g>\n<!-- 8&#45;&gt;10 -->\n<g id=\"edge10\" class=\"edge\">\n<title>8&#45;&gt;10</title>\n<path fill=\"none\" stroke=\"#000000\" d=\"M876.6907,-192.9465C886.2891,-183.7884 896.7747,-173.7838 906.7366,-164.2788\"/>\n<polygon fill=\"#000000\" stroke=\"#000000\" points=\"909.4102,-166.5655 914.2291,-157.13 904.5779,-161.5009 909.4102,-166.5655\"/>\n</g>\n<!-- 11 -->\n<g id=\"node12\" class=\"node\">\n<title>11</title>\n<path fill=\"#f2bf9b\" stroke=\"#000000\" d=\"M929,-53C929,-53 753,-53 753,-53 747,-53 741,-47 741,-41 741,-41 741,-12 741,-12 741,-6 747,0 753,0 753,0 929,0 929,0 935,0 941,-6 941,-12 941,-12 941,-41 941,-41 941,-47 935,-53 929,-53\"/>\n<text text-anchor=\"middle\" x=\"841\" y=\"-37.8\" font-family=\"Helvetica,sans-Serif\" font-size=\"14.00\" fill=\"#000000\">samples = 0.7%</text>\n<text text-anchor=\"middle\" x=\"841\" y=\"-22.8\" font-family=\"Helvetica,sans-Serif\" font-size=\"14.00\" fill=\"#000000\">value = [0.657, 0.037, 0.306]</text>\n<text text-anchor=\"middle\" x=\"841\" y=\"-7.8\" font-family=\"Helvetica,sans-Serif\" font-size=\"14.00\" fill=\"#000000\">class = functional</text>\n</g>\n<!-- 10&#45;&gt;11 -->\n<g id=\"edge11\" class=\"edge\">\n<title>10&#45;&gt;11</title>\n<path fill=\"none\" stroke=\"#000000\" d=\"M911.5707,-88.9777C900.9173,-79.546 889.3641,-69.3178 878.7499,-59.9208\"/>\n<polygon fill=\"#000000\" stroke=\"#000000\" points=\"881.0207,-57.2566 871.2133,-53.2485 876.3806,-62.4978 881.0207,-57.2566\"/>\n</g>\n<!-- 12 -->\n<g id=\"node13\" class=\"node\">\n<title>12</title>\n<path fill=\"#f8f3fd\" stroke=\"#000000\" d=\"M1147,-53C1147,-53 971,-53 971,-53 965,-53 959,-47 959,-41 959,-41 959,-12 959,-12 959,-6 965,0 971,0 971,0 1147,0 1147,0 1153,0 1159,-6 1159,-12 1159,-12 1159,-41 1159,-41 1159,-47 1153,-53 1147,-53\"/>\n<text text-anchor=\"middle\" x=\"1059\" y=\"-37.8\" font-family=\"Helvetica,sans-Serif\" font-size=\"14.00\" fill=\"#000000\">samples = 0.2%</text>\n<text text-anchor=\"middle\" x=\"1059\" y=\"-22.8\" font-family=\"Helvetica,sans-Serif\" font-size=\"14.00\" fill=\"#000000\">value = [0.452, 0.065, 0.484]</text>\n<text text-anchor=\"middle\" x=\"1059\" y=\"-7.8\" font-family=\"Helvetica,sans-Serif\" font-size=\"14.00\" fill=\"#000000\">class = non functional</text>\n</g>\n<!-- 10&#45;&gt;12 -->\n<g id=\"edge12\" class=\"edge\">\n<title>10&#45;&gt;12</title>\n<path fill=\"none\" stroke=\"#000000\" d=\"M988.4293,-88.9777C999.0827,-79.546 1010.6359,-69.3178 1021.2501,-59.9208\"/>\n<polygon fill=\"#000000\" stroke=\"#000000\" points=\"1023.6194,-62.4978 1028.7867,-53.2485 1018.9793,-57.2566 1023.6194,-62.4978\"/>\n</g>\n</g>\n</svg>\n"
          },
          "metadata": {
            "tags": []
          }
        }
      ]
    },
    {
      "cell_type": "code",
      "metadata": {
        "id": "_h3OdxSvjauS",
        "colab_type": "code",
        "colab": {
          "base_uri": "https://localhost:8080/",
          "height": 153
        },
        "outputId": "f7e8a707-5f78-4c29-a631-5a8932ec8564"
      },
      "source": [
        "relations = []\n",
        "for pump in train[feature].value_counts().index:\n",
        "  group = train[train[feature] == pump]\n",
        "  relations.append((group['status_group'] == 'functional').sum()/len(group))\n",
        "\n",
        "relations = pd.Series(relations, train[feature].value_counts().index).sort_values()\n",
        "relations"
      ],
      "execution_count": 48,
      "outputs": [
        {
          "output_type": "execute_result",
          "data": {
            "text/plain": [
              "other           0.159060\n",
              "motorpump       0.380892\n",
              "wind-powered    0.451613\n",
              "submersible     0.541479\n",
              "gravity         0.599403\n",
              "handpump        0.629854\n",
              "rope pump       0.657224\n",
              "dtype: float64"
            ]
          },
          "metadata": {
            "tags": []
          },
          "execution_count": 48
        }
      ]
    },
    {
      "cell_type": "code",
      "metadata": {
        "id": "OlwasJVlk--J",
        "colab_type": "code",
        "colab": {
          "base_uri": "https://localhost:8080/",
          "height": 136
        },
        "outputId": "ab4a8c96-7723-46c3-96af-bfdf3d6aefb7"
      },
      "source": [
        "(relations*100).to_dict()"
      ],
      "execution_count": 60,
      "outputs": [
        {
          "output_type": "execute_result",
          "data": {
            "text/plain": [
              "{'gravity': 59.94032077582992,\n",
              " 'handpump': 62.98543689320388,\n",
              " 'motorpump': 38.089171974522294,\n",
              " 'other': 15.906027344502213,\n",
              " 'rope pump': 65.72237960339945,\n",
              " 'submersible': 54.14793624846751,\n",
              " 'wind-powered': 45.16129032258064}"
            ]
          },
          "metadata": {
            "tags": []
          },
          "execution_count": 60
        }
      ]
    },
    {
      "cell_type": "code",
      "metadata": {
        "id": "gB1UmarikmVE",
        "colab_type": "code",
        "colab": {
          "base_uri": "https://localhost:8080/",
          "height": 419
        },
        "outputId": "4993cc26-18bf-406c-e964-31741cd551f1"
      },
      "source": [
        "mapping = [{'col':'extraction_type_class', 'mapping':(relations*100).to_dict()}]\n",
        "encoder = ce.OrdinalEncoder(mapping=mapping)\n",
        "encoder.fit_transform(train[feature])"
      ],
      "execution_count": 61,
      "outputs": [
        {
          "output_type": "execute_result",
          "data": {
            "text/html": [
              "<div>\n",
              "<style scoped>\n",
              "    .dataframe tbody tr th:only-of-type {\n",
              "        vertical-align: middle;\n",
              "    }\n",
              "\n",
              "    .dataframe tbody tr th {\n",
              "        vertical-align: top;\n",
              "    }\n",
              "\n",
              "    .dataframe thead th {\n",
              "        text-align: right;\n",
              "    }\n",
              "</style>\n",
              "<table border=\"1\" class=\"dataframe\">\n",
              "  <thead>\n",
              "    <tr style=\"text-align: right;\">\n",
              "      <th></th>\n",
              "      <th>extraction_type_class</th>\n",
              "    </tr>\n",
              "  </thead>\n",
              "  <tbody>\n",
              "    <tr>\n",
              "      <th>43360</th>\n",
              "      <td>59</td>\n",
              "    </tr>\n",
              "    <tr>\n",
              "      <th>7263</th>\n",
              "      <td>59</td>\n",
              "    </tr>\n",
              "    <tr>\n",
              "      <th>2486</th>\n",
              "      <td>62</td>\n",
              "    </tr>\n",
              "    <tr>\n",
              "      <th>313</th>\n",
              "      <td>15</td>\n",
              "    </tr>\n",
              "    <tr>\n",
              "      <th>52726</th>\n",
              "      <td>38</td>\n",
              "    </tr>\n",
              "    <tr>\n",
              "      <th>...</th>\n",
              "      <td>...</td>\n",
              "    </tr>\n",
              "    <tr>\n",
              "      <th>9795</th>\n",
              "      <td>54</td>\n",
              "    </tr>\n",
              "    <tr>\n",
              "      <th>58170</th>\n",
              "      <td>59</td>\n",
              "    </tr>\n",
              "    <tr>\n",
              "      <th>17191</th>\n",
              "      <td>54</td>\n",
              "    </tr>\n",
              "    <tr>\n",
              "      <th>8192</th>\n",
              "      <td>54</td>\n",
              "    </tr>\n",
              "    <tr>\n",
              "      <th>49783</th>\n",
              "      <td>59</td>\n",
              "    </tr>\n",
              "  </tbody>\n",
              "</table>\n",
              "<p>47520 rows × 1 columns</p>\n",
              "</div>"
            ],
            "text/plain": [
              "       extraction_type_class\n",
              "43360                     59\n",
              "7263                      59\n",
              "2486                      62\n",
              "313                       15\n",
              "52726                     38\n",
              "...                      ...\n",
              "9795                      54\n",
              "58170                     59\n",
              "17191                     54\n",
              "8192                      54\n",
              "49783                     59\n",
              "\n",
              "[47520 rows x 1 columns]"
            ]
          },
          "metadata": {
            "tags": []
          },
          "execution_count": 61
        }
      ]
    },
    {
      "cell_type": "code",
      "metadata": {
        "id": "kR-m0XEAmrQv",
        "colab_type": "code",
        "colab": {
          "base_uri": "https://localhost:8080/",
          "height": 34
        },
        "outputId": "887e4a24-98cf-4e6c-8ff1-5f83cc8d1dd0"
      },
      "source": [
        "lr = make_pipeline(\n",
        "    ce.OrdinalEncoder(mapping=mapping), \n",
        "    SimpleImputer(), \n",
        "    StandardScaler(), \n",
        "    LogisticRegressionCV(multi_class='auto', solver='lbfgs', cv=5, n_jobs=-1)\n",
        ")\n",
        "\n",
        "lr.fit(X_train[[feature]], y_train)\n",
        "score = lr.score(X_val[[feature]], y_val)\n",
        "print('Logistic Regression, Validation Accuracy', score)"
      ],
      "execution_count": 62,
      "outputs": [
        {
          "output_type": "stream",
          "text": [
            "Logistic Regression, Validation Accuracy 0.6202861952861953\n"
          ],
          "name": "stdout"
        }
      ]
    },
    {
      "cell_type": "code",
      "metadata": {
        "id": "3j9cvYU4m2d2",
        "colab_type": "code",
        "colab": {
          "base_uri": "https://localhost:8080/",
          "height": 34
        },
        "outputId": "78d7ee3d-5d5a-4f85-8e40-f0cffe6397d9"
      },
      "source": [
        "# 0.6202861952861953 was the exact same result as using one-hot encoding\n",
        "lr = make_pipeline(\n",
        "    ce.OneHotEncoder(), \n",
        "    SimpleImputer(), \n",
        "    StandardScaler(), \n",
        "    LogisticRegressionCV(multi_class='auto', solver='lbfgs', cv=5, n_jobs=-1)\n",
        ")\n",
        "\n",
        "lr.fit(X_train[[feature]], y_train)\n",
        "score = lr.score(X_val[[feature]], y_val)\n",
        "print('Logistic Regression, Validation Accuracy', score)"
      ],
      "execution_count": 63,
      "outputs": [
        {
          "output_type": "stream",
          "text": [
            "Logistic Regression, Validation Accuracy 0.6202861952861953\n"
          ],
          "name": "stdout"
        }
      ]
    },
    {
      "cell_type": "markdown",
      "metadata": {
        "colab_type": "text",
        "id": "P4EJi2GvgLVa"
      },
      "source": [
        "# Understand how tree ensembles reduce overfitting compared to a single decision tree with unlimited depth"
      ]
    },
    {
      "cell_type": "markdown",
      "metadata": {
        "id": "_1BZyywCP0LP",
        "colab_type": "text"
      },
      "source": [
        "## Overview"
      ]
    },
    {
      "cell_type": "markdown",
      "metadata": {
        "colab_type": "text",
        "id": "0nNABF3HgLVg"
      },
      "source": [
        "### What's \"random\" about random forests?\n",
        "1. Each tree trains on a random bootstrap sample of the data. (In scikit-learn, for `RandomForestRegressor` and `RandomForestClassifier`, the `bootstrap` parameter's default is `True`.) This type of ensembling is called Bagging. (Bootstrap AGGregatING.)\n",
        "2. Each split considers a random subset of the features. (In scikit-learn, when the `max_features` parameter is not `None`.) \n",
        "\n",
        "For extra randomness, you can try [\"extremely randomized trees\"](https://scikit-learn.org/stable/modules/ensemble.html#extremely-randomized-trees)!\n",
        "\n",
        ">In extremely randomized trees (see [ExtraTreesClassifier](https://scikit-learn.org/stable/modules/generated/sklearn.ensemble.ExtraTreesClassifier.html) and [ExtraTreesRegressor](https://scikit-learn.org/stable/modules/generated/sklearn.ensemble.ExtraTreesRegressor.html) classes), randomness goes one step further in the way splits are computed. As in random forests, a random subset of candidate features is used, but instead of looking for the most discriminative thresholds, thresholds are drawn at random for each candidate feature and the best of these randomly-generated thresholds is picked as the splitting rule. This usually allows to reduce the variance of the model a bit more, at the expense of a slightly greater increase in bias"
      ]
    },
    {
      "cell_type": "markdown",
      "metadata": {
        "id": "d09JIcikP0LQ",
        "colab_type": "text"
      },
      "source": [
        "## Follow Along"
      ]
    },
    {
      "cell_type": "markdown",
      "metadata": {
        "colab_type": "text",
        "id": "pUYP619CgLVb"
      },
      "source": [
        "### Example: [predicting golf putts](https://statmodeling.stat.columbia.edu/2008/12/04/the_golf_puttin/)\n",
        "(1 feature, non-linear, regression)"
      ]
    },
    {
      "cell_type": "code",
      "metadata": {
        "colab_type": "code",
        "id": "b4640ukxgLVc",
        "colab": {}
      },
      "source": [
        "putts = pd.DataFrame(\n",
        "    columns=['distance', 'tries', 'successes'], \n",
        "    data = [[2, 1443, 1346],\n",
        "            [3, 694, 577],\n",
        "            [4, 455, 337],\n",
        "            [5, 353, 208],\n",
        "            [6, 272, 149],\n",
        "            [7, 256, 136],\n",
        "            [8, 240, 111],\n",
        "            [9, 217, 69],\n",
        "            [10, 200, 67],\n",
        "            [11, 237, 75],\n",
        "            [12, 202, 52],\n",
        "            [13, 192, 46],\n",
        "            [14, 174, 54],\n",
        "            [15, 167, 28],\n",
        "            [16, 201, 27],\n",
        "            [17, 195, 31],\n",
        "            [18, 191, 33],\n",
        "            [19, 147, 20],\n",
        "            [20, 152, 24]]\n",
        ")\n",
        "\n",
        "putts['rate of success'] = putts['successes'] / putts['tries']\n",
        "putts_X = putts[['distance']]\n",
        "putts_y = putts['rate of success']"
      ],
      "execution_count": 0,
      "outputs": []
    },
    {
      "cell_type": "code",
      "metadata": {
        "colab_type": "code",
        "id": "T0IpCcKggLVd",
        "outputId": "9c53b63b-c8ba-4ede-a3dd-ebfd71e4a634",
        "colab": {
          "base_uri": "https://localhost:8080/",
          "height": 637,
          "referenced_widgets": [
            "de1bbf5f6a8b43888a1e43689a7c8018",
            "7f0dc71c713a4981ae35896fd40f1113",
            "ea2809a9b1c94014bb6ab2bb726d8dd9",
            "7170454464504a62821c8ef0ff2e3bdd",
            "bea98a1cbd2b4ceea7901422c0f454b3",
            "2c63c51fc12d4695af32fa40777996ca",
            "ec0a6a9a98f5418da192a8486a296a85",
            "362b1485beeb4d6f93bf0b64182483fe",
            "828a6d2297de4bf0bbd0c279baf4757b"
          ]
        }
      },
      "source": [
        "%matplotlib inline\n",
        "import matplotlib.pyplot as plt\n",
        "from ipywidgets import interact\n",
        "from sklearn.ensemble import RandomForestRegressor\n",
        "from sklearn.tree import DecisionTreeRegressor\n",
        "\n",
        "def putt_trees(max_depth=1, n_estimators=1):\n",
        "    models = [DecisionTreeRegressor(max_depth=max_depth), \n",
        "              RandomForestRegressor(max_depth=max_depth, n_estimators=n_estimators)]\n",
        "    \n",
        "    for model in models:\n",
        "        name = model.__class__.__name__\n",
        "        model.fit(putts_X, putts_y)\n",
        "        ax = putts.plot('distance', 'rate of success', kind='scatter', title=name)\n",
        "        ax.step(putts_X, model.predict(putts_X), where='mid')\n",
        "        plt.show()\n",
        "        \n",
        "interact(putt_trees, max_depth=(1,6,1), n_estimators=(10,40,10));"
      ],
      "execution_count": 65,
      "outputs": [
        {
          "output_type": "display_data",
          "data": {
            "application/vnd.jupyter.widget-view+json": {
              "model_id": "de1bbf5f6a8b43888a1e43689a7c8018",
              "version_minor": 0,
              "version_major": 2
            },
            "text/plain": [
              "interactive(children=(IntSlider(value=1, description='max_depth', max=6, min=1), IntSlider(value=10, descripti…"
            ]
          },
          "metadata": {
            "tags": []
          }
        }
      ]
    },
    {
      "cell_type": "markdown",
      "metadata": {
        "colab_type": "text",
        "id": "_KgZK9_9gLVh"
      },
      "source": [
        "### Bagging demo, with golf putts data\n",
        "https://pandas.pydata.org/pandas-docs/stable/reference/api/pandas.DataFrame.sample.html"
      ]
    },
    {
      "cell_type": "code",
      "metadata": {
        "colab_type": "code",
        "id": "vA9mrSTNgLVi",
        "outputId": "beb817a7-6567-4ce0-f4fc-8243b9cafa66",
        "scrolled": false,
        "colab": {
          "base_uri": "https://localhost:8080/",
          "height": 1000,
          "referenced_widgets": [
            "3ab7ca788b154020b7c2b3e87f099f6c",
            "c631cff210a3437cb2817c41664878fa",
            "69827c5063274f9c8f654abd0b16f62a",
            "96a4ae5f61f046aca6035e53c5240773",
            "54c0bce4426f4d84a3f9eb92332d3e84",
            "8f0299286dd8492d8a947fc3f147e611",
            "282428e604e24b54a3482666c420c560",
            "b512384237b842938e0e79816fb1200e",
            "c600fc71963f444f80789144b956de50"
          ]
        }
      },
      "source": [
        "# Do-it-yourself Bagging Ensemble of Decision Trees (like a Random Forest)\n",
        "def diy_bagging(max_depth=1, n_estimators=1):\n",
        "    y_preds = []\n",
        "    for i in range(n_estimators):\n",
        "        title = f'Tree {i+1}'\n",
        "        bootstrap_sample = putts.sample(n=len(putts), replace=True).sort_values(by='distance')\n",
        "        bootstrap_X = bootstrap_sample[['distance']]\n",
        "        bootstrap_y = bootstrap_sample['rate of success']\n",
        "        tree = DecisionTreeRegressor(max_depth=max_depth)\n",
        "        tree.fit(bootstrap_X, bootstrap_y)\n",
        "        y_pred = tree.predict(bootstrap_X)\n",
        "        y_preds.append(y_pred)\n",
        "        ax = bootstrap_sample.plot('distance', 'rate of success', kind='scatter', title=title)\n",
        "        ax.step(bootstrap_X, y_pred, where='mid')\n",
        "        plt.show()\n",
        "        \n",
        "    ensembled = np.vstack(y_preds).mean(axis=0)\n",
        "    title = f'Ensemble of {n_estimators} trees, with max_depth={max_depth}'\n",
        "    ax = putts.plot('distance', 'rate of success', kind='scatter', title=title)\n",
        "    ax.step(putts_X, ensembled, where='mid')\n",
        "    plt.show()\n",
        "    \n",
        "interact(diy_bagging, max_depth=(1,6,1), n_estimators=(2,5,1));"
      ],
      "execution_count": 66,
      "outputs": [
        {
          "output_type": "display_data",
          "data": {
            "application/vnd.jupyter.widget-view+json": {
              "model_id": "3ab7ca788b154020b7c2b3e87f099f6c",
              "version_minor": 0,
              "version_major": 2
            },
            "text/plain": [
              "interactive(children=(IntSlider(value=1, description='max_depth', max=6, min=1), IntSlider(value=2, descriptio…"
            ]
          },
          "metadata": {
            "tags": []
          }
        }
      ]
    },
    {
      "cell_type": "markdown",
      "metadata": {
        "colab_type": "text",
        "id": "rq4Z_wQ_gLVj"
      },
      "source": [
        "### Go back to Tanzania Waterpumps ..."
      ]
    },
    {
      "cell_type": "markdown",
      "metadata": {
        "colab_type": "text",
        "id": "FoSE9iT6YXQz"
      },
      "source": [
        "#### Helper function to visualize predicted probabilities\n",
        "\n"
      ]
    },
    {
      "cell_type": "code",
      "metadata": {
        "colab_type": "code",
        "id": "HzIAjGpJgLVj",
        "colab": {}
      },
      "source": [
        "import itertools\n",
        "import seaborn as sns\n",
        "\n",
        "def pred_heatmap(model, X, features, class_index=-1, title='', num=100):\n",
        "    \"\"\"\n",
        "    Visualize predicted probabilities, for classifier fit on 2 numeric features\n",
        "    \n",
        "    Parameters\n",
        "    ----------\n",
        "    model : scikit-learn classifier, already fit\n",
        "    X : pandas dataframe, which was used to fit model\n",
        "    features : list of strings, column names of the 2 numeric features\n",
        "    class_index : integer, index of class label\n",
        "    title : string, title of plot\n",
        "    num : int, number of grid points for each feature\n",
        "    \n",
        "    Returns\n",
        "    -------\n",
        "    y_pred_proba : numpy array, predicted probabilities for class_index\n",
        "    \"\"\"\n",
        "    feature1, feature2 = features\n",
        "    min1, max1 = X[feature1].min(), X[feature1].max()\n",
        "    min2, max2 = X[feature2].min(), X[feature2].max()\n",
        "    x1 = np.linspace(min1, max1, num)\n",
        "    x2 = np.linspace(max2, min2, num)\n",
        "    combos = list(itertools.product(x1, x2))\n",
        "    y_pred_proba = model.predict_proba(combos)[:, class_index]\n",
        "    pred_grid = y_pred_proba.reshape(num, num).T\n",
        "    table = pd.DataFrame(pred_grid, columns=x1, index=x2)\n",
        "    sns.heatmap(table, vmin=0, vmax=1)\n",
        "    plt.xticks([])\n",
        "    plt.yticks([])\n",
        "    plt.xlabel(feature1)\n",
        "    plt.ylabel(feature2)\n",
        "    plt.title(title)\n",
        "    plt.show()\n",
        "    return y_pred_proba\n"
      ],
      "execution_count": 0,
      "outputs": []
    },
    {
      "cell_type": "markdown",
      "metadata": {
        "colab_type": "text",
        "id": "DiRfPqHjgLVl"
      },
      "source": [
        "### Compare Decision Tree, Random Forest, Logistic Regression"
      ]
    },
    {
      "cell_type": "code",
      "metadata": {
        "colab_type": "code",
        "id": "HKkMLXhMgLVl",
        "outputId": "ec86ef67-19f8-4143-f945-66b2ddecbc0a",
        "colab": {
          "base_uri": "https://localhost:8080/",
          "height": 864,
          "referenced_widgets": [
            "58b393f54e2d416e9b71f5cc00c7e1ab",
            "6770397f0b554fafa04e59e29637c674",
            "0a8aa4589a0b42f4a67f8b08b289aab8",
            "dd7d8e63b7bb4301ba512bff8230b2d4",
            "242cc9b8faf84d3999d52bb13cb7abe9",
            "5b6e03a4446343a9adbb712f64d65318",
            "ca8331fff6b64318b86a30c0ede8e039",
            "a89f1f00c9204c2b846804a56b9babfe",
            "ce341b42c8f646e38ff2c0d71ec631a8"
          ]
        }
      },
      "source": [
        "# Instructions\n",
        "# 1. Choose two features\n",
        "# 2. Run this code cell\n",
        "# 3. Interact with the widget sliders\n",
        "feature1 = 'longitude'\n",
        "feature2 = 'quantity'\n",
        "\n",
        "from sklearn.linear_model import LogisticRegression\n",
        "from sklearn.tree import DecisionTreeClassifier\n",
        "\n",
        "def get_X_y(df, feature1, feature2, target):\n",
        "    features = [feature1, feature2]\n",
        "    X = df[features]\n",
        "    y = df[target]\n",
        "    X = X.fillna(X.median())\n",
        "    X = ce.OrdinalEncoder().fit_transform(X)\n",
        "    return X, y\n",
        "\n",
        "def compare_models(max_depth=1, n_estimators=1):\n",
        "    models = [DecisionTreeClassifier(max_depth=max_depth), \n",
        "              RandomForestClassifier(max_depth=max_depth, n_estimators=n_estimators), \n",
        "              LogisticRegression(solver='lbfgs', multi_class='auto')]\n",
        "    \n",
        "    for model in models:\n",
        "        name = model.__class__.__name__\n",
        "        model.fit(X, y)\n",
        "        pred_heatmap(model, X, [feature1, feature2], class_index=0, title=name)\n",
        "\n",
        "X, y = get_X_y(train, feature1, feature2, target='status_group')\n",
        "interact(compare_models, max_depth=(1,6,1), n_estimators=(10,40,10));"
      ],
      "execution_count": 68,
      "outputs": [
        {
          "output_type": "display_data",
          "data": {
            "application/vnd.jupyter.widget-view+json": {
              "model_id": "58b393f54e2d416e9b71f5cc00c7e1ab",
              "version_minor": 0,
              "version_major": 2
            },
            "text/plain": [
              "interactive(children=(IntSlider(value=1, description='max_depth', max=6, min=1), IntSlider(value=10, descripti…"
            ]
          },
          "metadata": {
            "tags": []
          }
        }
      ]
    },
    {
      "cell_type": "markdown",
      "metadata": {
        "colab_type": "text",
        "id": "hOQqjLEDgLVn"
      },
      "source": [
        "### Bagging"
      ]
    },
    {
      "cell_type": "code",
      "metadata": {
        "colab_type": "code",
        "id": "Hm4aPgs2gLVn",
        "outputId": "2a99549a-a785-4133-b346-f8a0015e8166",
        "colab": {
          "base_uri": "https://localhost:8080/",
          "height": 1000,
          "referenced_widgets": [
            "6b1324a2585346658fc4a78b949c1e64",
            "4e278cf59b154b549ecf4c772fc1411e",
            "fc7f6d45c2fa4855baa322dd5576cf0b",
            "cd7b8edcefe24df4926f53f72a96c32a",
            "6c0c24ccba9447d98556649aa37ae886",
            "e1a1ed9b39ad4c7e8a2d2ee69ca125fb",
            "34884a234c0d4aa9a9089e5e69899030",
            "860fd8418c8a486494666e40b0c2447e",
            "0e9356677bc54681b56dfcb5d9e0eec3"
          ]
        }
      },
      "source": [
        "# Do-it-yourself Bagging Ensemble of Decision Trees (like a Random Forest)\n",
        "\n",
        "# Instructions\n",
        "# 1. Choose two features\n",
        "# 2. Run this code cell\n",
        "# 3. Interact with the widget sliders\n",
        "\n",
        "feature1 = 'longitude'\n",
        "feature2 = 'latitude'\n",
        "\n",
        "def waterpumps_bagging(max_depth=1, n_estimators=1):\n",
        "    predicteds = []\n",
        "    for i in range(n_estimators):\n",
        "        title = f'Tree {i+1}'\n",
        "        bootstrap_sample = train.sample(n=len(train), replace=True)\n",
        "        X, y = get_X_y(bootstrap_sample, feature1, feature2, target='status_group')\n",
        "        tree = DecisionTreeClassifier(max_depth=max_depth)\n",
        "        tree.fit(X, y)\n",
        "        predicted = pred_heatmap(tree, X, [feature1, feature2], class_index=0, title=title)\n",
        "        predicteds.append(predicted)\n",
        "    \n",
        "    ensembled = np.vstack(predicteds).mean(axis=0)\n",
        "    title = f'Ensemble of {n_estimators} trees, with max_depth={max_depth}'\n",
        "    sns.heatmap(ensembled.reshape(100, 100).T, vmin=0, vmax=1)\n",
        "    plt.title(title)\n",
        "    plt.xlabel(feature1)\n",
        "    plt.ylabel(feature2)\n",
        "    plt.xticks([])\n",
        "    plt.yticks([])\n",
        "    plt.show()\n",
        "        \n",
        "interact(waterpumps_bagging, max_depth=(1,6,1), n_estimators=(2,5,1));"
      ],
      "execution_count": 69,
      "outputs": [
        {
          "output_type": "display_data",
          "data": {
            "application/vnd.jupyter.widget-view+json": {
              "model_id": "6b1324a2585346658fc4a78b949c1e64",
              "version_minor": 0,
              "version_major": 2
            },
            "text/plain": [
              "interactive(children=(IntSlider(value=1, description='max_depth', max=6, min=1), IntSlider(value=2, descriptio…"
            ]
          },
          "metadata": {
            "tags": []
          }
        }
      ]
    },
    {
      "cell_type": "markdown",
      "metadata": {
        "colab_type": "text",
        "id": "wYoSBi15akWP"
      },
      "source": [
        "# Review\n",
        "\n",
        "#### Try Tree Ensembles when you do machine learning with labeled, tabular data\n",
        "- \"Tree Ensembles\" means Random Forest or Gradient Boosting models. \n",
        "- [Tree Ensembles often have the best predictive accuracy](https://arxiv.org/abs/1708.05070) with labeled, tabular data.\n",
        "- Why? Because trees can fit non-linear, non-[monotonic](https://en.wikipedia.org/wiki/Monotonic_function) relationships, and [interactions](https://christophm.github.io/interpretable-ml-book/interaction.html) between features.\n",
        "- A single decision tree, grown to unlimited depth, will [overfit](http://www.r2d3.us/visual-intro-to-machine-learning-part-1/). We solve this problem by ensembling trees, with bagging (Random Forest) or boosting (Gradient Boosting).\n",
        "- Random Forest's advantage: may be less sensitive to hyperparameters. Gradient Boosting's advantage: may get better predictive accuracy.\n",
        "\n",
        "#### One-hot encoding isn’t the only way, and may not be the best way, of categorical encoding for tree ensembles.\n",
        "- For example, tree ensembles can work with arbitrary \"ordinal\" encoding! (Randomly assigning an integer to each category.) Compared to one-hot encoding, the dimensionality will be lower, and the predictive accuracy may be just as good or even better.\n"
      ]
    }
  ]
}