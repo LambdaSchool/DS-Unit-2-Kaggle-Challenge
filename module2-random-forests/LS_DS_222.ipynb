{
  "nbformat": 4,
  "nbformat_minor": 0,
  "metadata": {
    "kernelspec": {
      "display_name": "Python 3",
      "language": "python",
      "name": "python3"
    },
    "language_info": {
      "codemirror_mode": {
        "name": "ipython",
        "version": 3
      },
      "file_extension": ".py",
      "mimetype": "text/x-python",
      "name": "python",
      "nbconvert_exporter": "python",
      "pygments_lexer": "ipython3",
      "version": "3.7.3"
    },
    "colab": {
      "name": "LS_DS_222.ipynb",
      "provenance": []
    },
    "widgets": {
      "application/vnd.jupyter.widget-state+json": {
        "955da81e4d9c4dfeab82bc56abf27a72": {
          "model_module": "@jupyter-widgets/controls",
          "model_name": "VBoxModel",
          "state": {
            "_view_name": "VBoxView",
            "_dom_classes": [
              "widget-interact"
            ],
            "_model_name": "VBoxModel",
            "_view_module": "@jupyter-widgets/controls",
            "_model_module_version": "1.5.0",
            "_view_count": null,
            "_view_module_version": "1.5.0",
            "box_style": "",
            "layout": "IPY_MODEL_20241bca031e4485a129f2013fdf12c2",
            "_model_module": "@jupyter-widgets/controls",
            "children": [
              "IPY_MODEL_5feb9fde870d40e698296ab7a65dab47",
              "IPY_MODEL_30e39a38bbca4f2a976e615c317ba64d",
              "IPY_MODEL_fdda54f90de44d42a1567d98c471e306"
            ]
          }
        },
        "20241bca031e4485a129f2013fdf12c2": {
          "model_module": "@jupyter-widgets/base",
          "model_name": "LayoutModel",
          "state": {
            "_view_name": "LayoutView",
            "grid_template_rows": null,
            "right": null,
            "justify_content": null,
            "_view_module": "@jupyter-widgets/base",
            "overflow": null,
            "_model_module_version": "1.2.0",
            "_view_count": null,
            "flex_flow": null,
            "width": null,
            "min_width": null,
            "border": null,
            "align_items": null,
            "bottom": null,
            "_model_module": "@jupyter-widgets/base",
            "top": null,
            "grid_column": null,
            "overflow_y": null,
            "overflow_x": null,
            "grid_auto_flow": null,
            "grid_area": null,
            "grid_template_columns": null,
            "flex": null,
            "_model_name": "LayoutModel",
            "justify_items": null,
            "grid_row": null,
            "max_height": null,
            "align_content": null,
            "visibility": null,
            "align_self": null,
            "height": null,
            "min_height": null,
            "padding": null,
            "grid_auto_rows": null,
            "grid_gap": null,
            "max_width": null,
            "order": null,
            "_view_module_version": "1.2.0",
            "grid_template_areas": null,
            "object_position": null,
            "object_fit": null,
            "grid_auto_columns": null,
            "margin": null,
            "display": null,
            "left": null
          }
        },
        "5feb9fde870d40e698296ab7a65dab47": {
          "model_module": "@jupyter-widgets/controls",
          "model_name": "IntSliderModel",
          "state": {
            "_view_name": "IntSliderView",
            "style": "IPY_MODEL_855b7a34c70c4f45b2069473e5e118e4",
            "_dom_classes": [],
            "description": "max_depth",
            "step": 1,
            "_model_name": "IntSliderModel",
            "orientation": "horizontal",
            "max": 6,
            "_view_module": "@jupyter-widgets/controls",
            "_model_module_version": "1.5.0",
            "value": 1,
            "_view_count": null,
            "disabled": false,
            "_view_module_version": "1.5.0",
            "min": 1,
            "continuous_update": true,
            "readout_format": "d",
            "description_tooltip": null,
            "readout": true,
            "_model_module": "@jupyter-widgets/controls",
            "layout": "IPY_MODEL_630048f0c48f48019918056410172cdb"
          }
        },
        "30e39a38bbca4f2a976e615c317ba64d": {
          "model_module": "@jupyter-widgets/controls",
          "model_name": "IntSliderModel",
          "state": {
            "_view_name": "IntSliderView",
            "style": "IPY_MODEL_3e5a590f4ef040b39720a30af48b1c55",
            "_dom_classes": [],
            "description": "n_estimators",
            "step": 10,
            "_model_name": "IntSliderModel",
            "orientation": "horizontal",
            "max": 40,
            "_view_module": "@jupyter-widgets/controls",
            "_model_module_version": "1.5.0",
            "value": 10,
            "_view_count": null,
            "disabled": false,
            "_view_module_version": "1.5.0",
            "min": 10,
            "continuous_update": true,
            "readout_format": "d",
            "description_tooltip": null,
            "readout": true,
            "_model_module": "@jupyter-widgets/controls",
            "layout": "IPY_MODEL_dc6ab6944f1b4ca3ba1c467b95f200f2"
          }
        },
        "fdda54f90de44d42a1567d98c471e306": {
          "model_module": "@jupyter-widgets/output",
          "model_name": "OutputModel",
          "state": {
            "_view_name": "OutputView",
            "msg_id": "",
            "_dom_classes": [],
            "_model_name": "OutputModel",
            "outputs": [
              {
                "output_type": "display_data",
                "metadata": {
                  "tags": [],
                  "needs_background": "light"
                },
                "image/png": "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\n",
                "text/plain": "<Figure size 432x288 with 1 Axes>"
              },
              {
                "output_type": "display_data",
                "metadata": {
                  "tags": [],
                  "needs_background": "light"
                },
                "image/png": "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\n",
                "text/plain": "<Figure size 432x288 with 1 Axes>"
              }
            ],
            "_view_module": "@jupyter-widgets/output",
            "_model_module_version": "1.0.0",
            "_view_count": null,
            "_view_module_version": "1.0.0",
            "layout": "IPY_MODEL_0ba8570dfda04ac3a268f743f2244674",
            "_model_module": "@jupyter-widgets/output"
          }
        },
        "855b7a34c70c4f45b2069473e5e118e4": {
          "model_module": "@jupyter-widgets/controls",
          "model_name": "SliderStyleModel",
          "state": {
            "_view_name": "StyleView",
            "handle_color": null,
            "_model_name": "SliderStyleModel",
            "description_width": "",
            "_view_module": "@jupyter-widgets/base",
            "_model_module_version": "1.5.0",
            "_view_count": null,
            "_view_module_version": "1.2.0",
            "_model_module": "@jupyter-widgets/controls"
          }
        },
        "630048f0c48f48019918056410172cdb": {
          "model_module": "@jupyter-widgets/base",
          "model_name": "LayoutModel",
          "state": {
            "_view_name": "LayoutView",
            "grid_template_rows": null,
            "right": null,
            "justify_content": null,
            "_view_module": "@jupyter-widgets/base",
            "overflow": null,
            "_model_module_version": "1.2.0",
            "_view_count": null,
            "flex_flow": null,
            "width": null,
            "min_width": null,
            "border": null,
            "align_items": null,
            "bottom": null,
            "_model_module": "@jupyter-widgets/base",
            "top": null,
            "grid_column": null,
            "overflow_y": null,
            "overflow_x": null,
            "grid_auto_flow": null,
            "grid_area": null,
            "grid_template_columns": null,
            "flex": null,
            "_model_name": "LayoutModel",
            "justify_items": null,
            "grid_row": null,
            "max_height": null,
            "align_content": null,
            "visibility": null,
            "align_self": null,
            "height": null,
            "min_height": null,
            "padding": null,
            "grid_auto_rows": null,
            "grid_gap": null,
            "max_width": null,
            "order": null,
            "_view_module_version": "1.2.0",
            "grid_template_areas": null,
            "object_position": null,
            "object_fit": null,
            "grid_auto_columns": null,
            "margin": null,
            "display": null,
            "left": null
          }
        },
        "3e5a590f4ef040b39720a30af48b1c55": {
          "model_module": "@jupyter-widgets/controls",
          "model_name": "SliderStyleModel",
          "state": {
            "_view_name": "StyleView",
            "handle_color": null,
            "_model_name": "SliderStyleModel",
            "description_width": "",
            "_view_module": "@jupyter-widgets/base",
            "_model_module_version": "1.5.0",
            "_view_count": null,
            "_view_module_version": "1.2.0",
            "_model_module": "@jupyter-widgets/controls"
          }
        },
        "dc6ab6944f1b4ca3ba1c467b95f200f2": {
          "model_module": "@jupyter-widgets/base",
          "model_name": "LayoutModel",
          "state": {
            "_view_name": "LayoutView",
            "grid_template_rows": null,
            "right": null,
            "justify_content": null,
            "_view_module": "@jupyter-widgets/base",
            "overflow": null,
            "_model_module_version": "1.2.0",
            "_view_count": null,
            "flex_flow": null,
            "width": null,
            "min_width": null,
            "border": null,
            "align_items": null,
            "bottom": null,
            "_model_module": "@jupyter-widgets/base",
            "top": null,
            "grid_column": null,
            "overflow_y": null,
            "overflow_x": null,
            "grid_auto_flow": null,
            "grid_area": null,
            "grid_template_columns": null,
            "flex": null,
            "_model_name": "LayoutModel",
            "justify_items": null,
            "grid_row": null,
            "max_height": null,
            "align_content": null,
            "visibility": null,
            "align_self": null,
            "height": null,
            "min_height": null,
            "padding": null,
            "grid_auto_rows": null,
            "grid_gap": null,
            "max_width": null,
            "order": null,
            "_view_module_version": "1.2.0",
            "grid_template_areas": null,
            "object_position": null,
            "object_fit": null,
            "grid_auto_columns": null,
            "margin": null,
            "display": null,
            "left": null
          }
        },
        "0ba8570dfda04ac3a268f743f2244674": {
          "model_module": "@jupyter-widgets/base",
          "model_name": "LayoutModel",
          "state": {
            "_view_name": "LayoutView",
            "grid_template_rows": null,
            "right": null,
            "justify_content": null,
            "_view_module": "@jupyter-widgets/base",
            "overflow": null,
            "_model_module_version": "1.2.0",
            "_view_count": null,
            "flex_flow": null,
            "width": null,
            "min_width": null,
            "border": null,
            "align_items": null,
            "bottom": null,
            "_model_module": "@jupyter-widgets/base",
            "top": null,
            "grid_column": null,
            "overflow_y": null,
            "overflow_x": null,
            "grid_auto_flow": null,
            "grid_area": null,
            "grid_template_columns": null,
            "flex": null,
            "_model_name": "LayoutModel",
            "justify_items": null,
            "grid_row": null,
            "max_height": null,
            "align_content": null,
            "visibility": null,
            "align_self": null,
            "height": null,
            "min_height": null,
            "padding": null,
            "grid_auto_rows": null,
            "grid_gap": null,
            "max_width": null,
            "order": null,
            "_view_module_version": "1.2.0",
            "grid_template_areas": null,
            "object_position": null,
            "object_fit": null,
            "grid_auto_columns": null,
            "margin": null,
            "display": null,
            "left": null
          }
        },
        "1dde0c47cd5a4d559ea3082eb088d3d7": {
          "model_module": "@jupyter-widgets/controls",
          "model_name": "VBoxModel",
          "state": {
            "_view_name": "VBoxView",
            "_dom_classes": [
              "widget-interact"
            ],
            "_model_name": "VBoxModel",
            "_view_module": "@jupyter-widgets/controls",
            "_model_module_version": "1.5.0",
            "_view_count": null,
            "_view_module_version": "1.5.0",
            "box_style": "",
            "layout": "IPY_MODEL_dbde8e6daf7445df9f37f7275804ee86",
            "_model_module": "@jupyter-widgets/controls",
            "children": [
              "IPY_MODEL_d95cdf38e22b44cfb0a06c757d162295",
              "IPY_MODEL_301840b8158d4aa2bf699cb97096c65f",
              "IPY_MODEL_9bdf24c40d874c468784ad71cf33af45"
            ]
          }
        },
        "dbde8e6daf7445df9f37f7275804ee86": {
          "model_module": "@jupyter-widgets/base",
          "model_name": "LayoutModel",
          "state": {
            "_view_name": "LayoutView",
            "grid_template_rows": null,
            "right": null,
            "justify_content": null,
            "_view_module": "@jupyter-widgets/base",
            "overflow": null,
            "_model_module_version": "1.2.0",
            "_view_count": null,
            "flex_flow": null,
            "width": null,
            "min_width": null,
            "border": null,
            "align_items": null,
            "bottom": null,
            "_model_module": "@jupyter-widgets/base",
            "top": null,
            "grid_column": null,
            "overflow_y": null,
            "overflow_x": null,
            "grid_auto_flow": null,
            "grid_area": null,
            "grid_template_columns": null,
            "flex": null,
            "_model_name": "LayoutModel",
            "justify_items": null,
            "grid_row": null,
            "max_height": null,
            "align_content": null,
            "visibility": null,
            "align_self": null,
            "height": null,
            "min_height": null,
            "padding": null,
            "grid_auto_rows": null,
            "grid_gap": null,
            "max_width": null,
            "order": null,
            "_view_module_version": "1.2.0",
            "grid_template_areas": null,
            "object_position": null,
            "object_fit": null,
            "grid_auto_columns": null,
            "margin": null,
            "display": null,
            "left": null
          }
        },
        "d95cdf38e22b44cfb0a06c757d162295": {
          "model_module": "@jupyter-widgets/controls",
          "model_name": "IntSliderModel",
          "state": {
            "_view_name": "IntSliderView",
            "style": "IPY_MODEL_63b8e0fabced4fe79a68ae5e5560a83d",
            "_dom_classes": [],
            "description": "max_depth",
            "step": 1,
            "_model_name": "IntSliderModel",
            "orientation": "horizontal",
            "max": 6,
            "_view_module": "@jupyter-widgets/controls",
            "_model_module_version": "1.5.0",
            "value": 1,
            "_view_count": null,
            "disabled": false,
            "_view_module_version": "1.5.0",
            "min": 1,
            "continuous_update": true,
            "readout_format": "d",
            "description_tooltip": null,
            "readout": true,
            "_model_module": "@jupyter-widgets/controls",
            "layout": "IPY_MODEL_2cc371dc0788437c902b1acb20701e77"
          }
        },
        "301840b8158d4aa2bf699cb97096c65f": {
          "model_module": "@jupyter-widgets/controls",
          "model_name": "IntSliderModel",
          "state": {
            "_view_name": "IntSliderView",
            "style": "IPY_MODEL_b28be6d5a00e4136a945f3881b67fb97",
            "_dom_classes": [],
            "description": "n_estimators",
            "step": 1,
            "_model_name": "IntSliderModel",
            "orientation": "horizontal",
            "max": 5,
            "_view_module": "@jupyter-widgets/controls",
            "_model_module_version": "1.5.0",
            "value": 2,
            "_view_count": null,
            "disabled": false,
            "_view_module_version": "1.5.0",
            "min": 2,
            "continuous_update": true,
            "readout_format": "d",
            "description_tooltip": null,
            "readout": true,
            "_model_module": "@jupyter-widgets/controls",
            "layout": "IPY_MODEL_44709da13f614e93819dcf73c946c71b"
          }
        },
        "9bdf24c40d874c468784ad71cf33af45": {
          "model_module": "@jupyter-widgets/output",
          "model_name": "OutputModel",
          "state": {
            "_view_name": "OutputView",
            "msg_id": "",
            "_dom_classes": [],
            "_model_name": "OutputModel",
            "outputs": [
              {
                "output_type": "display_data",
                "metadata": {
                  "tags": [],
                  "needs_background": "light"
                },
                "image/png": "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\n",
                "text/plain": "<Figure size 432x288 with 1 Axes>"
              },
              {
                "output_type": "display_data",
                "metadata": {
                  "tags": [],
                  "needs_background": "light"
                },
                "image/png": "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\n",
                "text/plain": "<Figure size 432x288 with 1 Axes>"
              },
              {
                "output_type": "display_data",
                "metadata": {
                  "tags": [],
                  "needs_background": "light"
                },
                "image/png": "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\n",
                "text/plain": "<Figure size 432x288 with 1 Axes>"
              }
            ],
            "_view_module": "@jupyter-widgets/output",
            "_model_module_version": "1.0.0",
            "_view_count": null,
            "_view_module_version": "1.0.0",
            "layout": "IPY_MODEL_12d07cda4807450f895045f87fe811ff",
            "_model_module": "@jupyter-widgets/output"
          }
        },
        "63b8e0fabced4fe79a68ae5e5560a83d": {
          "model_module": "@jupyter-widgets/controls",
          "model_name": "SliderStyleModel",
          "state": {
            "_view_name": "StyleView",
            "handle_color": null,
            "_model_name": "SliderStyleModel",
            "description_width": "",
            "_view_module": "@jupyter-widgets/base",
            "_model_module_version": "1.5.0",
            "_view_count": null,
            "_view_module_version": "1.2.0",
            "_model_module": "@jupyter-widgets/controls"
          }
        },
        "2cc371dc0788437c902b1acb20701e77": {
          "model_module": "@jupyter-widgets/base",
          "model_name": "LayoutModel",
          "state": {
            "_view_name": "LayoutView",
            "grid_template_rows": null,
            "right": null,
            "justify_content": null,
            "_view_module": "@jupyter-widgets/base",
            "overflow": null,
            "_model_module_version": "1.2.0",
            "_view_count": null,
            "flex_flow": null,
            "width": null,
            "min_width": null,
            "border": null,
            "align_items": null,
            "bottom": null,
            "_model_module": "@jupyter-widgets/base",
            "top": null,
            "grid_column": null,
            "overflow_y": null,
            "overflow_x": null,
            "grid_auto_flow": null,
            "grid_area": null,
            "grid_template_columns": null,
            "flex": null,
            "_model_name": "LayoutModel",
            "justify_items": null,
            "grid_row": null,
            "max_height": null,
            "align_content": null,
            "visibility": null,
            "align_self": null,
            "height": null,
            "min_height": null,
            "padding": null,
            "grid_auto_rows": null,
            "grid_gap": null,
            "max_width": null,
            "order": null,
            "_view_module_version": "1.2.0",
            "grid_template_areas": null,
            "object_position": null,
            "object_fit": null,
            "grid_auto_columns": null,
            "margin": null,
            "display": null,
            "left": null
          }
        },
        "b28be6d5a00e4136a945f3881b67fb97": {
          "model_module": "@jupyter-widgets/controls",
          "model_name": "SliderStyleModel",
          "state": {
            "_view_name": "StyleView",
            "handle_color": null,
            "_model_name": "SliderStyleModel",
            "description_width": "",
            "_view_module": "@jupyter-widgets/base",
            "_model_module_version": "1.5.0",
            "_view_count": null,
            "_view_module_version": "1.2.0",
            "_model_module": "@jupyter-widgets/controls"
          }
        },
        "44709da13f614e93819dcf73c946c71b": {
          "model_module": "@jupyter-widgets/base",
          "model_name": "LayoutModel",
          "state": {
            "_view_name": "LayoutView",
            "grid_template_rows": null,
            "right": null,
            "justify_content": null,
            "_view_module": "@jupyter-widgets/base",
            "overflow": null,
            "_model_module_version": "1.2.0",
            "_view_count": null,
            "flex_flow": null,
            "width": null,
            "min_width": null,
            "border": null,
            "align_items": null,
            "bottom": null,
            "_model_module": "@jupyter-widgets/base",
            "top": null,
            "grid_column": null,
            "overflow_y": null,
            "overflow_x": null,
            "grid_auto_flow": null,
            "grid_area": null,
            "grid_template_columns": null,
            "flex": null,
            "_model_name": "LayoutModel",
            "justify_items": null,
            "grid_row": null,
            "max_height": null,
            "align_content": null,
            "visibility": null,
            "align_self": null,
            "height": null,
            "min_height": null,
            "padding": null,
            "grid_auto_rows": null,
            "grid_gap": null,
            "max_width": null,
            "order": null,
            "_view_module_version": "1.2.0",
            "grid_template_areas": null,
            "object_position": null,
            "object_fit": null,
            "grid_auto_columns": null,
            "margin": null,
            "display": null,
            "left": null
          }
        },
        "12d07cda4807450f895045f87fe811ff": {
          "model_module": "@jupyter-widgets/base",
          "model_name": "LayoutModel",
          "state": {
            "_view_name": "LayoutView",
            "grid_template_rows": null,
            "right": null,
            "justify_content": null,
            "_view_module": "@jupyter-widgets/base",
            "overflow": null,
            "_model_module_version": "1.2.0",
            "_view_count": null,
            "flex_flow": null,
            "width": null,
            "min_width": null,
            "border": null,
            "align_items": null,
            "bottom": null,
            "_model_module": "@jupyter-widgets/base",
            "top": null,
            "grid_column": null,
            "overflow_y": null,
            "overflow_x": null,
            "grid_auto_flow": null,
            "grid_area": null,
            "grid_template_columns": null,
            "flex": null,
            "_model_name": "LayoutModel",
            "justify_items": null,
            "grid_row": null,
            "max_height": null,
            "align_content": null,
            "visibility": null,
            "align_self": null,
            "height": null,
            "min_height": null,
            "padding": null,
            "grid_auto_rows": null,
            "grid_gap": null,
            "max_width": null,
            "order": null,
            "_view_module_version": "1.2.0",
            "grid_template_areas": null,
            "object_position": null,
            "object_fit": null,
            "grid_auto_columns": null,
            "margin": null,
            "display": null,
            "left": null
          }
        },
        "8327cc0c826f459aa5b17f129cf1d309": {
          "model_module": "@jupyter-widgets/controls",
          "model_name": "VBoxModel",
          "state": {
            "_view_name": "VBoxView",
            "_dom_classes": [
              "widget-interact"
            ],
            "_model_name": "VBoxModel",
            "_view_module": "@jupyter-widgets/controls",
            "_model_module_version": "1.5.0",
            "_view_count": null,
            "_view_module_version": "1.5.0",
            "box_style": "",
            "layout": "IPY_MODEL_c96ebaf32be6481aab363f5ee957597e",
            "_model_module": "@jupyter-widgets/controls",
            "children": [
              "IPY_MODEL_170fa9aafa12492b98b5da75300aecf6",
              "IPY_MODEL_69a1a205c9f040cbb5ab5c2c7a8e6997",
              "IPY_MODEL_74d65a5730d24653bdc2d02440740635"
            ]
          }
        },
        "c96ebaf32be6481aab363f5ee957597e": {
          "model_module": "@jupyter-widgets/base",
          "model_name": "LayoutModel",
          "state": {
            "_view_name": "LayoutView",
            "grid_template_rows": null,
            "right": null,
            "justify_content": null,
            "_view_module": "@jupyter-widgets/base",
            "overflow": null,
            "_model_module_version": "1.2.0",
            "_view_count": null,
            "flex_flow": null,
            "width": null,
            "min_width": null,
            "border": null,
            "align_items": null,
            "bottom": null,
            "_model_module": "@jupyter-widgets/base",
            "top": null,
            "grid_column": null,
            "overflow_y": null,
            "overflow_x": null,
            "grid_auto_flow": null,
            "grid_area": null,
            "grid_template_columns": null,
            "flex": null,
            "_model_name": "LayoutModel",
            "justify_items": null,
            "grid_row": null,
            "max_height": null,
            "align_content": null,
            "visibility": null,
            "align_self": null,
            "height": null,
            "min_height": null,
            "padding": null,
            "grid_auto_rows": null,
            "grid_gap": null,
            "max_width": null,
            "order": null,
            "_view_module_version": "1.2.0",
            "grid_template_areas": null,
            "object_position": null,
            "object_fit": null,
            "grid_auto_columns": null,
            "margin": null,
            "display": null,
            "left": null
          }
        },
        "170fa9aafa12492b98b5da75300aecf6": {
          "model_module": "@jupyter-widgets/controls",
          "model_name": "IntSliderModel",
          "state": {
            "_view_name": "IntSliderView",
            "style": "IPY_MODEL_e7794fc691a44dc382b42bd66ee14853",
            "_dom_classes": [],
            "description": "max_depth",
            "step": 1,
            "_model_name": "IntSliderModel",
            "orientation": "horizontal",
            "max": 6,
            "_view_module": "@jupyter-widgets/controls",
            "_model_module_version": "1.5.0",
            "value": 1,
            "_view_count": null,
            "disabled": false,
            "_view_module_version": "1.5.0",
            "min": 1,
            "continuous_update": true,
            "readout_format": "d",
            "description_tooltip": null,
            "readout": true,
            "_model_module": "@jupyter-widgets/controls",
            "layout": "IPY_MODEL_d771240dc1dd4d3cbaa433d43d608f91"
          }
        },
        "69a1a205c9f040cbb5ab5c2c7a8e6997": {
          "model_module": "@jupyter-widgets/controls",
          "model_name": "IntSliderModel",
          "state": {
            "_view_name": "IntSliderView",
            "style": "IPY_MODEL_7ed829a43cae4bfeb6ad03c0abf0b636",
            "_dom_classes": [],
            "description": "n_estimators",
            "step": 10,
            "_model_name": "IntSliderModel",
            "orientation": "horizontal",
            "max": 40,
            "_view_module": "@jupyter-widgets/controls",
            "_model_module_version": "1.5.0",
            "value": 10,
            "_view_count": null,
            "disabled": false,
            "_view_module_version": "1.5.0",
            "min": 10,
            "continuous_update": true,
            "readout_format": "d",
            "description_tooltip": null,
            "readout": true,
            "_model_module": "@jupyter-widgets/controls",
            "layout": "IPY_MODEL_ba00e8cbe5db4e87a691e8d899cb1f19"
          }
        },
        "74d65a5730d24653bdc2d02440740635": {
          "model_module": "@jupyter-widgets/output",
          "model_name": "OutputModel",
          "state": {
            "_view_name": "OutputView",
            "msg_id": "",
            "_dom_classes": [],
            "_model_name": "OutputModel",
            "outputs": [
              {
                "output_type": "display_data",
                "metadata": {
                  "tags": [],
                  "needs_background": "light"
                },
                "image/png": "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\n",
                "text/plain": "<Figure size 432x288 with 2 Axes>"
              },
              {
                "output_type": "display_data",
                "metadata": {
                  "tags": [],
                  "needs_background": "light"
                },
                "image/png": "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\n",
                "text/plain": "<Figure size 432x288 with 2 Axes>"
              },
              {
                "output_type": "display_data",
                "metadata": {
                  "tags": [],
                  "needs_background": "light"
                },
                "image/png": "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\n",
                "text/plain": "<Figure size 432x288 with 2 Axes>"
              }
            ],
            "_view_module": "@jupyter-widgets/output",
            "_model_module_version": "1.0.0",
            "_view_count": null,
            "_view_module_version": "1.0.0",
            "layout": "IPY_MODEL_8133d164d9f34d6ea0fd77fdfa45b72b",
            "_model_module": "@jupyter-widgets/output"
          }
        },
        "e7794fc691a44dc382b42bd66ee14853": {
          "model_module": "@jupyter-widgets/controls",
          "model_name": "SliderStyleModel",
          "state": {
            "_view_name": "StyleView",
            "handle_color": null,
            "_model_name": "SliderStyleModel",
            "description_width": "",
            "_view_module": "@jupyter-widgets/base",
            "_model_module_version": "1.5.0",
            "_view_count": null,
            "_view_module_version": "1.2.0",
            "_model_module": "@jupyter-widgets/controls"
          }
        },
        "d771240dc1dd4d3cbaa433d43d608f91": {
          "model_module": "@jupyter-widgets/base",
          "model_name": "LayoutModel",
          "state": {
            "_view_name": "LayoutView",
            "grid_template_rows": null,
            "right": null,
            "justify_content": null,
            "_view_module": "@jupyter-widgets/base",
            "overflow": null,
            "_model_module_version": "1.2.0",
            "_view_count": null,
            "flex_flow": null,
            "width": null,
            "min_width": null,
            "border": null,
            "align_items": null,
            "bottom": null,
            "_model_module": "@jupyter-widgets/base",
            "top": null,
            "grid_column": null,
            "overflow_y": null,
            "overflow_x": null,
            "grid_auto_flow": null,
            "grid_area": null,
            "grid_template_columns": null,
            "flex": null,
            "_model_name": "LayoutModel",
            "justify_items": null,
            "grid_row": null,
            "max_height": null,
            "align_content": null,
            "visibility": null,
            "align_self": null,
            "height": null,
            "min_height": null,
            "padding": null,
            "grid_auto_rows": null,
            "grid_gap": null,
            "max_width": null,
            "order": null,
            "_view_module_version": "1.2.0",
            "grid_template_areas": null,
            "object_position": null,
            "object_fit": null,
            "grid_auto_columns": null,
            "margin": null,
            "display": null,
            "left": null
          }
        },
        "7ed829a43cae4bfeb6ad03c0abf0b636": {
          "model_module": "@jupyter-widgets/controls",
          "model_name": "SliderStyleModel",
          "state": {
            "_view_name": "StyleView",
            "handle_color": null,
            "_model_name": "SliderStyleModel",
            "description_width": "",
            "_view_module": "@jupyter-widgets/base",
            "_model_module_version": "1.5.0",
            "_view_count": null,
            "_view_module_version": "1.2.0",
            "_model_module": "@jupyter-widgets/controls"
          }
        },
        "ba00e8cbe5db4e87a691e8d899cb1f19": {
          "model_module": "@jupyter-widgets/base",
          "model_name": "LayoutModel",
          "state": {
            "_view_name": "LayoutView",
            "grid_template_rows": null,
            "right": null,
            "justify_content": null,
            "_view_module": "@jupyter-widgets/base",
            "overflow": null,
            "_model_module_version": "1.2.0",
            "_view_count": null,
            "flex_flow": null,
            "width": null,
            "min_width": null,
            "border": null,
            "align_items": null,
            "bottom": null,
            "_model_module": "@jupyter-widgets/base",
            "top": null,
            "grid_column": null,
            "overflow_y": null,
            "overflow_x": null,
            "grid_auto_flow": null,
            "grid_area": null,
            "grid_template_columns": null,
            "flex": null,
            "_model_name": "LayoutModel",
            "justify_items": null,
            "grid_row": null,
            "max_height": null,
            "align_content": null,
            "visibility": null,
            "align_self": null,
            "height": null,
            "min_height": null,
            "padding": null,
            "grid_auto_rows": null,
            "grid_gap": null,
            "max_width": null,
            "order": null,
            "_view_module_version": "1.2.0",
            "grid_template_areas": null,
            "object_position": null,
            "object_fit": null,
            "grid_auto_columns": null,
            "margin": null,
            "display": null,
            "left": null
          }
        },
        "8133d164d9f34d6ea0fd77fdfa45b72b": {
          "model_module": "@jupyter-widgets/base",
          "model_name": "LayoutModel",
          "state": {
            "_view_name": "LayoutView",
            "grid_template_rows": null,
            "right": null,
            "justify_content": null,
            "_view_module": "@jupyter-widgets/base",
            "overflow": null,
            "_model_module_version": "1.2.0",
            "_view_count": null,
            "flex_flow": null,
            "width": null,
            "min_width": null,
            "border": null,
            "align_items": null,
            "bottom": null,
            "_model_module": "@jupyter-widgets/base",
            "top": null,
            "grid_column": null,
            "overflow_y": null,
            "overflow_x": null,
            "grid_auto_flow": null,
            "grid_area": null,
            "grid_template_columns": null,
            "flex": null,
            "_model_name": "LayoutModel",
            "justify_items": null,
            "grid_row": null,
            "max_height": null,
            "align_content": null,
            "visibility": null,
            "align_self": null,
            "height": null,
            "min_height": null,
            "padding": null,
            "grid_auto_rows": null,
            "grid_gap": null,
            "max_width": null,
            "order": null,
            "_view_module_version": "1.2.0",
            "grid_template_areas": null,
            "object_position": null,
            "object_fit": null,
            "grid_auto_columns": null,
            "margin": null,
            "display": null,
            "left": null
          }
        },
        "4be92b52d37e4c9cbfddc8519c94ac66": {
          "model_module": "@jupyter-widgets/controls",
          "model_name": "VBoxModel",
          "state": {
            "_view_name": "VBoxView",
            "_dom_classes": [
              "widget-interact"
            ],
            "_model_name": "VBoxModel",
            "_view_module": "@jupyter-widgets/controls",
            "_model_module_version": "1.5.0",
            "_view_count": null,
            "_view_module_version": "1.5.0",
            "box_style": "",
            "layout": "IPY_MODEL_d9e103771edf41aea13a911e632b461d",
            "_model_module": "@jupyter-widgets/controls",
            "children": [
              "IPY_MODEL_c1f888f2e99242f38357df2598e4ab0d",
              "IPY_MODEL_1e8cde5debda4a3fadb33d9c6fcc97ef",
              "IPY_MODEL_1a415cc150f44a14b21b70df8849e5a7"
            ]
          }
        },
        "d9e103771edf41aea13a911e632b461d": {
          "model_module": "@jupyter-widgets/base",
          "model_name": "LayoutModel",
          "state": {
            "_view_name": "LayoutView",
            "grid_template_rows": null,
            "right": null,
            "justify_content": null,
            "_view_module": "@jupyter-widgets/base",
            "overflow": null,
            "_model_module_version": "1.2.0",
            "_view_count": null,
            "flex_flow": null,
            "width": null,
            "min_width": null,
            "border": null,
            "align_items": null,
            "bottom": null,
            "_model_module": "@jupyter-widgets/base",
            "top": null,
            "grid_column": null,
            "overflow_y": null,
            "overflow_x": null,
            "grid_auto_flow": null,
            "grid_area": null,
            "grid_template_columns": null,
            "flex": null,
            "_model_name": "LayoutModel",
            "justify_items": null,
            "grid_row": null,
            "max_height": null,
            "align_content": null,
            "visibility": null,
            "align_self": null,
            "height": null,
            "min_height": null,
            "padding": null,
            "grid_auto_rows": null,
            "grid_gap": null,
            "max_width": null,
            "order": null,
            "_view_module_version": "1.2.0",
            "grid_template_areas": null,
            "object_position": null,
            "object_fit": null,
            "grid_auto_columns": null,
            "margin": null,
            "display": null,
            "left": null
          }
        },
        "c1f888f2e99242f38357df2598e4ab0d": {
          "model_module": "@jupyter-widgets/controls",
          "model_name": "IntSliderModel",
          "state": {
            "_view_name": "IntSliderView",
            "style": "IPY_MODEL_89c12a9d44d74e8aa7f752204209561f",
            "_dom_classes": [],
            "description": "max_depth",
            "step": 1,
            "_model_name": "IntSliderModel",
            "orientation": "horizontal",
            "max": 6,
            "_view_module": "@jupyter-widgets/controls",
            "_model_module_version": "1.5.0",
            "value": 1,
            "_view_count": null,
            "disabled": false,
            "_view_module_version": "1.5.0",
            "min": 1,
            "continuous_update": true,
            "readout_format": "d",
            "description_tooltip": null,
            "readout": true,
            "_model_module": "@jupyter-widgets/controls",
            "layout": "IPY_MODEL_c763cf818e094e48a3a14c3b0cdef737"
          }
        },
        "1e8cde5debda4a3fadb33d9c6fcc97ef": {
          "model_module": "@jupyter-widgets/controls",
          "model_name": "IntSliderModel",
          "state": {
            "_view_name": "IntSliderView",
            "style": "IPY_MODEL_df67d1f86b114bdc8f863386e9a3537a",
            "_dom_classes": [],
            "description": "n_estimators",
            "step": 1,
            "_model_name": "IntSliderModel",
            "orientation": "horizontal",
            "max": 5,
            "_view_module": "@jupyter-widgets/controls",
            "_model_module_version": "1.5.0",
            "value": 2,
            "_view_count": null,
            "disabled": false,
            "_view_module_version": "1.5.0",
            "min": 2,
            "continuous_update": true,
            "readout_format": "d",
            "description_tooltip": null,
            "readout": true,
            "_model_module": "@jupyter-widgets/controls",
            "layout": "IPY_MODEL_f1d5e42717e340a9b2ddd66f8dc0075d"
          }
        },
        "1a415cc150f44a14b21b70df8849e5a7": {
          "model_module": "@jupyter-widgets/output",
          "model_name": "OutputModel",
          "state": {
            "_view_name": "OutputView",
            "msg_id": "",
            "_dom_classes": [],
            "_model_name": "OutputModel",
            "outputs": [
              {
                "output_type": "display_data",
                "metadata": {
                  "tags": [],
                  "needs_background": "light"
                },
                "image/png": "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\n",
                "text/plain": "<Figure size 432x288 with 2 Axes>"
              },
              {
                "output_type": "display_data",
                "metadata": {
                  "tags": [],
                  "needs_background": "light"
                },
                "image/png": "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\n",
                "text/plain": "<Figure size 432x288 with 2 Axes>"
              },
              {
                "output_type": "display_data",
                "metadata": {
                  "tags": [],
                  "needs_background": "light"
                },
                "image/png": "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\n",
                "text/plain": "<Figure size 432x288 with 2 Axes>"
              }
            ],
            "_view_module": "@jupyter-widgets/output",
            "_model_module_version": "1.0.0",
            "_view_count": null,
            "_view_module_version": "1.0.0",
            "layout": "IPY_MODEL_f1c87963b7a645e18531969b7dc8c3eb",
            "_model_module": "@jupyter-widgets/output"
          }
        },
        "89c12a9d44d74e8aa7f752204209561f": {
          "model_module": "@jupyter-widgets/controls",
          "model_name": "SliderStyleModel",
          "state": {
            "_view_name": "StyleView",
            "handle_color": null,
            "_model_name": "SliderStyleModel",
            "description_width": "",
            "_view_module": "@jupyter-widgets/base",
            "_model_module_version": "1.5.0",
            "_view_count": null,
            "_view_module_version": "1.2.0",
            "_model_module": "@jupyter-widgets/controls"
          }
        },
        "c763cf818e094e48a3a14c3b0cdef737": {
          "model_module": "@jupyter-widgets/base",
          "model_name": "LayoutModel",
          "state": {
            "_view_name": "LayoutView",
            "grid_template_rows": null,
            "right": null,
            "justify_content": null,
            "_view_module": "@jupyter-widgets/base",
            "overflow": null,
            "_model_module_version": "1.2.0",
            "_view_count": null,
            "flex_flow": null,
            "width": null,
            "min_width": null,
            "border": null,
            "align_items": null,
            "bottom": null,
            "_model_module": "@jupyter-widgets/base",
            "top": null,
            "grid_column": null,
            "overflow_y": null,
            "overflow_x": null,
            "grid_auto_flow": null,
            "grid_area": null,
            "grid_template_columns": null,
            "flex": null,
            "_model_name": "LayoutModel",
            "justify_items": null,
            "grid_row": null,
            "max_height": null,
            "align_content": null,
            "visibility": null,
            "align_self": null,
            "height": null,
            "min_height": null,
            "padding": null,
            "grid_auto_rows": null,
            "grid_gap": null,
            "max_width": null,
            "order": null,
            "_view_module_version": "1.2.0",
            "grid_template_areas": null,
            "object_position": null,
            "object_fit": null,
            "grid_auto_columns": null,
            "margin": null,
            "display": null,
            "left": null
          }
        },
        "df67d1f86b114bdc8f863386e9a3537a": {
          "model_module": "@jupyter-widgets/controls",
          "model_name": "SliderStyleModel",
          "state": {
            "_view_name": "StyleView",
            "handle_color": null,
            "_model_name": "SliderStyleModel",
            "description_width": "",
            "_view_module": "@jupyter-widgets/base",
            "_model_module_version": "1.5.0",
            "_view_count": null,
            "_view_module_version": "1.2.0",
            "_model_module": "@jupyter-widgets/controls"
          }
        },
        "f1d5e42717e340a9b2ddd66f8dc0075d": {
          "model_module": "@jupyter-widgets/base",
          "model_name": "LayoutModel",
          "state": {
            "_view_name": "LayoutView",
            "grid_template_rows": null,
            "right": null,
            "justify_content": null,
            "_view_module": "@jupyter-widgets/base",
            "overflow": null,
            "_model_module_version": "1.2.0",
            "_view_count": null,
            "flex_flow": null,
            "width": null,
            "min_width": null,
            "border": null,
            "align_items": null,
            "bottom": null,
            "_model_module": "@jupyter-widgets/base",
            "top": null,
            "grid_column": null,
            "overflow_y": null,
            "overflow_x": null,
            "grid_auto_flow": null,
            "grid_area": null,
            "grid_template_columns": null,
            "flex": null,
            "_model_name": "LayoutModel",
            "justify_items": null,
            "grid_row": null,
            "max_height": null,
            "align_content": null,
            "visibility": null,
            "align_self": null,
            "height": null,
            "min_height": null,
            "padding": null,
            "grid_auto_rows": null,
            "grid_gap": null,
            "max_width": null,
            "order": null,
            "_view_module_version": "1.2.0",
            "grid_template_areas": null,
            "object_position": null,
            "object_fit": null,
            "grid_auto_columns": null,
            "margin": null,
            "display": null,
            "left": null
          }
        },
        "f1c87963b7a645e18531969b7dc8c3eb": {
          "model_module": "@jupyter-widgets/base",
          "model_name": "LayoutModel",
          "state": {
            "_view_name": "LayoutView",
            "grid_template_rows": null,
            "right": null,
            "justify_content": null,
            "_view_module": "@jupyter-widgets/base",
            "overflow": null,
            "_model_module_version": "1.2.0",
            "_view_count": null,
            "flex_flow": null,
            "width": null,
            "min_width": null,
            "border": null,
            "align_items": null,
            "bottom": null,
            "_model_module": "@jupyter-widgets/base",
            "top": null,
            "grid_column": null,
            "overflow_y": null,
            "overflow_x": null,
            "grid_auto_flow": null,
            "grid_area": null,
            "grid_template_columns": null,
            "flex": null,
            "_model_name": "LayoutModel",
            "justify_items": null,
            "grid_row": null,
            "max_height": null,
            "align_content": null,
            "visibility": null,
            "align_self": null,
            "height": null,
            "min_height": null,
            "padding": null,
            "grid_auto_rows": null,
            "grid_gap": null,
            "max_width": null,
            "order": null,
            "_view_module_version": "1.2.0",
            "grid_template_areas": null,
            "object_position": null,
            "object_fit": null,
            "grid_auto_columns": null,
            "margin": null,
            "display": null,
            "left": null
          }
        }
      }
    }
  },
  "cells": [
    {
      "cell_type": "markdown",
      "metadata": {
        "colab_type": "text",
        "id": "UEHyIgGaaSEJ"
      },
      "source": [
        "Lambda School Data Science\n",
        "\n",
        "*Unit 2, Sprint 2, Module 2*\n",
        "\n",
        "---"
      ]
    },
    {
      "cell_type": "markdown",
      "metadata": {
        "colab_type": "text",
        "id": "mRfPLX4WgLVJ"
      },
      "source": [
        "# Random Forests"
      ]
    },
    {
      "cell_type": "markdown",
      "metadata": {
        "colab_type": "text",
        "id": "jRRNhkxcgLVK"
      },
      "source": [
        "- use scikit-learn for **random forests**\n",
        "- do **ordinal encoding** with high-cardinality categoricals\n",
        "- understand how categorical encodings affect trees differently compared to linear models\n",
        "- understand how tree ensembles reduce overfitting compared to a single decision tree with unlimited depth"
      ]
    },
    {
      "cell_type": "markdown",
      "metadata": {
        "colab_type": "text",
        "id": "-3TH11e1gLVL"
      },
      "source": [
        "Today's lesson has two take-away messages:\n",
        "\n",
        "#### Try Tree Ensembles when you do machine learning with labeled, tabular data\n",
        "- \"Tree Ensembles\" means Random Forest or Gradient Boosting models. \n",
        "- [Tree Ensembles often have the best predictive accuracy](https://arxiv.org/abs/1708.05070) with labeled, tabular data.\n",
        "- Why? Because trees can fit non-linear, non-[monotonic](https://en.wikipedia.org/wiki/Monotonic_function) relationships, and [interactions](https://christophm.github.io/interpretable-ml-book/interaction.html) between features.\n",
        "- A single decision tree, grown to unlimited depth, will [overfit](http://www.r2d3.us/visual-intro-to-machine-learning-part-1/). We solve this problem by ensembling trees, with bagging (Random Forest) or boosting (Gradient Boosting).\n",
        "- Random Forest's advantage: may be less sensitive to hyperparameters. Gradient Boosting's advantage: may get better predictive accuracy.\n",
        "\n",
        "#### One-hot encoding isn’t the only way, and may not be the best way, of categorical encoding for tree ensembles.\n",
        "- For example, tree ensembles can work with arbitrary \"ordinal\" encoding! (Randomly assigning an integer to each category.) Compared to one-hot encoding, the dimensionality will be lower, and the predictive accuracy may be just as good or even better.\n"
      ]
    },
    {
      "cell_type": "markdown",
      "metadata": {
        "colab_type": "text",
        "id": "r5PbOFEuFfGF"
      },
      "source": [
        "### Setup\n",
        "\n",
        "Run the code cell below. You can work locally (follow the [local setup instructions](https://lambdaschool.github.io/ds/unit2/local/)) or on Colab.\n",
        "\n",
        "Libraries\n",
        "\n",
        "- **category_encoders** \n",
        "- **graphviz**\n",
        "- ipywidgets\n",
        "- matplotlib\n",
        "- numpy\n",
        "- pandas\n",
        "- seaborn\n",
        "- scikit-learn"
      ]
    },
    {
      "cell_type": "code",
      "metadata": {
        "colab_type": "code",
        "id": "FStAplyRFoEu",
        "colab": {}
      },
      "source": [
        "%%capture\n",
        "import sys\n",
        "\n",
        "# If you're on Colab:\n",
        "if 'google.colab' in sys.modules:\n",
        "    DATA_PATH = 'https://raw.githubusercontent.com/LambdaSchool/DS-Unit-2-Kaggle-Challenge/master/data/'\n",
        "    !pip install category_encoders==2.*\n",
        "\n",
        "# If you're working locally:\n",
        "else:\n",
        "    DATA_PATH = '../data/'"
      ],
      "execution_count": 0,
      "outputs": []
    },
    {
      "cell_type": "markdown",
      "metadata": {
        "colab_type": "text",
        "id": "ZL-yK8B7gLVW"
      },
      "source": [
        "# Use scikit-learn for random forests"
      ]
    },
    {
      "cell_type": "markdown",
      "metadata": {
        "id": "f0etzwxF0MUc",
        "colab_type": "text"
      },
      "source": [
        "## Overview\n",
        "\n",
        "Let's fit a Random Forest!\n",
        "\n",
        "![](https://pbs.twimg.com/media/EGSvKA0UUAEzUZi?format=png)\n",
        "\n",
        "[Chris Albon, MachineLearningFlashcards.com](https://twitter.com/chrisalbon/status/1181261589887909889)"
      ]
    },
    {
      "cell_type": "markdown",
      "metadata": {
        "colab_type": "text",
        "id": "gHFxMCPSgLVM"
      },
      "source": [
        "### Solution example\n",
        "\n",
        "First, read & wrangle the data.\n",
        "\n",
        "> Define a function to wrangle train, validate, and test sets in the same way. Clean outliers and engineer features. (For example, [what other columns have zeros and shouldn't?](https://github.com/Quartz/bad-data-guide#zeros-replace-missing-values) What other columns are duplicates, or nearly duplicates? Can you extract the year from date_recorded? Can you engineer new features, such as the number of years from waterpump construction to waterpump inspection?)"
      ]
    },
    {
      "cell_type": "code",
      "metadata": {
        "colab_type": "code",
        "id": "YTLm-rDagLVM",
        "colab": {}
      },
      "source": [
        "import numpy as np\n",
        "import pandas as pd\n",
        "from sklearn.model_selection import train_test_split\n",
        "\n",
        "# Merge train_features.csv & train_labels.csv\n",
        "train = pd.merge(pd.read_csv(DATA_PATH+'waterpumps/train_features.csv'), \n",
        "                 pd.read_csv(DATA_PATH+'waterpumps/train_labels.csv'))\n",
        "\n",
        "# Read test_features.csv & sample_submission.csv\n",
        "test = pd.read_csv(DATA_PATH+'waterpumps/test_features.csv')\n",
        "sample_submission = pd.read_csv(DATA_PATH+'waterpumps/sample_submission.csv')\n",
        "\n",
        "# Split train into train & val\n",
        "train, val = train_test_split(train, train_size=0.80, test_size=0.20, \n",
        "                              stratify=train['status_group'], random_state=42)\n",
        "\n",
        "\n",
        "def wrangle(X):\n",
        "    \"\"\"Wrangle train, validate, and test sets in the same way\"\"\"\n",
        "    \n",
        "    # Prevent SettingWithCopyWarning\n",
        "    X = X.copy()\n",
        "    \n",
        "    # About 3% of the time, latitude has small values near zero,\n",
        "    # outside Tanzania, so we'll treat these values like zero.\n",
        "    X['latitude'] = X['latitude'].replace(-2e-08, 0)\n",
        "    \n",
        "    # When columns have zeros and shouldn't, they are like null values.\n",
        "    # So we will replace the zeros with nulls, and impute missing values later.\n",
        "    # Also create a \"missing indicator\" column, because the fact that\n",
        "    # values are missing may be a predictive signal.\n",
        "    cols_with_zeros = ['longitude', 'latitude', 'construction_year', \n",
        "                       'gps_height', 'population']\n",
        "    for col in cols_with_zeros:\n",
        "        X[col] = X[col].replace(0, np.nan)\n",
        "        X[col+'_MISSING'] = X[col].isnull()\n",
        "            \n",
        "    # Drop duplicate columns\n",
        "    duplicates = ['quantity_group', 'payment_type']\n",
        "    X = X.drop(columns=duplicates)\n",
        "    \n",
        "    # Drop recorded_by (never varies) and id (always varies, random)\n",
        "    unusable_variance = ['recorded_by', 'id']\n",
        "    X = X.drop(columns=unusable_variance)\n",
        "    \n",
        "    # Convert date_recorded to datetime\n",
        "    X['date_recorded'] = pd.to_datetime(X['date_recorded'], infer_datetime_format=True)\n",
        "    \n",
        "    # Extract components from date_recorded, then drop the original column\n",
        "    X['year_recorded'] = X['date_recorded'].dt.year\n",
        "    X['month_recorded'] = X['date_recorded'].dt.month\n",
        "    X['day_recorded'] = X['date_recorded'].dt.day\n",
        "    X = X.drop(columns='date_recorded')\n",
        "    \n",
        "    # Engineer feature: how many years from construction_year to date_recorded\n",
        "    X['years'] = X['year_recorded'] - X['construction_year']\n",
        "    X['years_MISSING'] = X['years'].isnull()\n",
        "    \n",
        "    # return the wrangled dataframe\n",
        "    return X\n",
        "\n",
        "train = wrangle(train)\n",
        "val = wrangle(val)\n",
        "test = wrangle(test)"
      ],
      "execution_count": 0,
      "outputs": []
    },
    {
      "cell_type": "code",
      "metadata": {
        "colab_type": "code",
        "id": "m2HppBvZgLVP",
        "colab": {}
      },
      "source": [
        "# The status_group column is the target\n",
        "target = 'status_group'\n",
        "\n",
        "# Get a dataframe with all train columns except the target\n",
        "train_features = train.drop(columns=[target])\n",
        "\n",
        "# Get a list of the numeric features\n",
        "numeric_features = train_features.select_dtypes(include='number').columns.tolist()\n",
        "\n",
        "# Get a series with the cardinality of the nonnumeric features\n",
        "cardinality = train_features.select_dtypes(exclude='number').nunique()\n",
        "\n",
        "# Get a list of all categorical features with cardinality <= 50\n",
        "categorical_features = cardinality[cardinality <= 50].index.tolist()\n",
        "\n",
        "# Combine the lists \n",
        "features = numeric_features + categorical_features"
      ],
      "execution_count": 0,
      "outputs": []
    },
    {
      "cell_type": "code",
      "metadata": {
        "colab_type": "code",
        "id": "aXmK2brXgLVR",
        "colab": {}
      },
      "source": [
        "# Arrange data into X features matrix and y target vector \n",
        "X_train = train[features]\n",
        "y_train = train[target]\n",
        "X_val = val[features]\n",
        "y_val = val[target]\n",
        "X_test = test[features]"
      ],
      "execution_count": 0,
      "outputs": []
    },
    {
      "cell_type": "markdown",
      "metadata": {
        "id": "NinJXrd30MUp",
        "colab_type": "text"
      },
      "source": [
        "## Follow Along\n",
        "\n",
        "[Scikit-Learn User Guide: Random Forests](https://scikit-learn.org/stable/modules/ensemble.html#random-forests) "
      ]
    },
    {
      "cell_type": "code",
      "metadata": {
        "colab_type": "code",
        "id": "57yyygsdgLVW",
        "outputId": "e877f470-62fd-4de5-e041-a5cda8364d63",
        "colab": {
          "base_uri": "https://localhost:8080/",
          "height": 68
        }
      },
      "source": [
        "# TODO\n",
        "\n",
        "%%time\n",
        "import category_encoders as ce\n",
        "from sklearn.impute import SimpleImputer\n",
        "from sklearn.ensemble import RandomForestClassifier\n",
        "from sklearn.pipeline import make_pipeline\n",
        "\n",
        "pipeline = make_pipeline(\n",
        "    ce.one_hot.OneHotEncoder(),\n",
        "    SimpleImputer(),\n",
        "    RandomForestClassifier(n_estimators=100, n_jobs=-1, random_state=42)\n",
        ")\n",
        "\n",
        "pipeline.fit(X_train, y_train)\n",
        "print(f'Validation accuracy: {pipeline.score(X_val, y_val)}')"
      ],
      "execution_count": 5,
      "outputs": [
        {
          "output_type": "stream",
          "text": [
            "Validation accuracy: 0.8080808080808081\n",
            "CPU times: user 24 s, sys: 387 ms, total: 24.3 s\n",
            "Wall time: 14.9 s\n"
          ],
          "name": "stdout"
        }
      ]
    },
    {
      "cell_type": "code",
      "metadata": {
        "id": "404JJbvg713y",
        "colab_type": "code",
        "colab": {
          "base_uri": "https://localhost:8080/",
          "height": 51
        },
        "outputId": "0fe1fcd9-a175-487c-bf2a-c3119bee03f3"
      },
      "source": [
        "print(f'X_train shape before encoding {X_train.shape}')\n",
        "\n",
        "encoder = pipeline.named_steps['onehotencoder']\n",
        "X_train_enc = encoder.transform(X_train)\n",
        "\n",
        "print(f'X_train after encoding {X_train_enc.shape}')"
      ],
      "execution_count": 6,
      "outputs": [
        {
          "output_type": "stream",
          "text": [
            "X_train shape before encoding (47520, 38)\n",
            "X_train after encoding (47520, 182)\n"
          ],
          "name": "stdout"
        }
      ]
    },
    {
      "cell_type": "code",
      "metadata": {
        "id": "o7xXqgPq8TLg",
        "colab_type": "code",
        "colab": {
          "base_uri": "https://localhost:8080/",
          "height": 607
        },
        "outputId": "f7937cb0-81da-47eb-b12e-d32f7f1ffb01"
      },
      "source": [
        "import matplotlib.pyplot as plt\n",
        "\n",
        "rf = pipeline.named_steps['randomforestclassifier']\n",
        "\n",
        "importances = pd.Series(rf.feature_importances_, X_train_enc.columns)\n",
        "\n",
        "n = 20\n",
        "\n",
        "plt.figure(figsize=(10,n/2))\n",
        "plt.title(f'Top {n} features')\n",
        "importances.sort_values()[-n:].plot.barh();"
      ],
      "execution_count": 7,
      "outputs": [
        {
          "output_type": "display_data",
          "data": {
            "image/png": "[encoded data removed]",
            "text/plain": [
              "<Figure size 720x720 with 1 Axes>"
            ]
          },
          "metadata": {
            "tags": [],
            "needs_background": "light"
          }
        }
      ]
    },
    {
      "cell_type": "markdown",
      "metadata": {
        "colab_type": "text",
        "id": "yfyk_aa5gLVY"
      },
      "source": [
        "# Do ordinal encoding with high-cardinality categoricals"
      ]
    },
    {
      "cell_type": "markdown",
      "metadata": {
        "id": "xBK_OVNX0MUv",
        "colab_type": "text"
      },
      "source": [
        "## Overview\n",
        "\n",
        "http://contrib.scikit-learn.org/categorical-encoding/ordinal.html"
      ]
    },
    {
      "cell_type": "markdown",
      "metadata": {
        "id": "aT73yXPF0MUw",
        "colab_type": "text"
      },
      "source": [
        "## Follow Along"
      ]
    },
    {
      "cell_type": "code",
      "metadata": {
        "colab_type": "code",
        "id": "b8d_WJtcgLVZ",
        "outputId": "e0785181-ee51-4f36-fb4b-640566263195",
        "colab": {
          "base_uri": "https://localhost:8080/",
          "height": 68
        }
      },
      "source": [
        "# TODO\n",
        "%%time\n",
        "X_train = train.drop(columns=target)\n",
        "y_train = train[target]\n",
        "X_val = val.drop(columns=target)\n",
        "y_val = val[target]\n",
        "X_test = test\n",
        "\n",
        "pipeline = make_pipeline(\n",
        "    ce.ordinal.OrdinalEncoder(),\n",
        "    SimpleImputer(),\n",
        "    RandomForestClassifier(n_estimators=100, n_jobs=-1, random_state=42)\n",
        ")\n",
        "\n",
        "pipeline.fit(X_train, y_train)\n",
        "print(f'Validation accuracy: {pipeline.score(X_val, y_val)}')"
      ],
      "execution_count": 8,
      "outputs": [
        {
          "output_type": "stream",
          "text": [
            "Validation accuracy: 0.8103535353535354\n",
            "CPU times: user 18.7 s, sys: 146 ms, total: 18.8 s\n",
            "Wall time: 10.4 s\n"
          ],
          "name": "stdout"
        }
      ]
    },
    {
      "cell_type": "code",
      "metadata": {
        "id": "7lS3KaoPA2_n",
        "colab_type": "code",
        "colab": {
          "base_uri": "https://localhost:8080/",
          "height": 51
        },
        "outputId": "2c542e7c-6ac5-462b-c736-57e0881fc8d2"
      },
      "source": [
        "print(f'X_train shape before encoding {X_train.shape}')\n",
        "\n",
        "encoder = pipeline.named_steps['ordinalencoder']\n",
        "X_train_enc = encoder.transform(X_train)\n",
        "\n",
        "print(f'X_train after encoding {X_train_enc.shape}')"
      ],
      "execution_count": 9,
      "outputs": [
        {
          "output_type": "stream",
          "text": [
            "X_train shape before encoding (47520, 45)\n",
            "X_train after encoding (47520, 45)\n"
          ],
          "name": "stdout"
        }
      ]
    },
    {
      "cell_type": "code",
      "metadata": {
        "id": "oTQYlL_eBXss",
        "colab_type": "code",
        "colab": {
          "base_uri": "https://localhost:8080/",
          "height": 607
        },
        "outputId": "73810fb0-88dd-475c-ca91-e7e565c5fa65"
      },
      "source": [
        "rf = pipeline.named_steps['randomforestclassifier']\n",
        "\n",
        "importances = pd.Series(rf.feature_importances_, X_train_enc.columns)\n",
        "\n",
        "n = 20\n",
        "\n",
        "plt.figure(figsize=(10,n/2))\n",
        "plt.title(f'Top {n} features')\n",
        "importances.sort_values().plot.barh();"
      ],
      "execution_count": 10,
      "outputs": [
        {
          "output_type": "display_data",
          "data": {
            "image/png": "[encoded data removed]",
            "text/plain": [
              "<Figure size 720x720 with 1 Axes>"
            ]
          },
          "metadata": {
            "tags": [],
            "needs_background": "light"
          }
        }
      ]
    },
    {
      "cell_type": "markdown",
      "metadata": {
        "colab_type": "text",
        "id": "xs2UPoVdgLVp"
      },
      "source": [
        "# Understand how categorical encodings affect trees differently compared to linear models"
      ]
    },
    {
      "cell_type": "markdown",
      "metadata": {
        "id": "T4cqJbeL0MU0",
        "colab_type": "text"
      },
      "source": [
        "## Follow Along"
      ]
    },
    {
      "cell_type": "markdown",
      "metadata": {
        "colab_type": "text",
        "id": "z8V-A92mgLVp"
      },
      "source": [
        "### Categorical exploration, 1 feature at a time\n",
        "\n",
        "Change `feature`, then re-run these cells!"
      ]
    },
    {
      "cell_type": "code",
      "metadata": {
        "colab_type": "code",
        "id": "G35RAzVdgLVq",
        "colab": {}
      },
      "source": [
        "feature = 'extraction_type_class'"
      ],
      "execution_count": 0,
      "outputs": []
    },
    {
      "cell_type": "code",
      "metadata": {
        "colab_type": "code",
        "id": "OuxHWiH8gLVr",
        "outputId": "e2f41945-1bd2-4185-e029-1866b5ada172",
        "colab": {
          "base_uri": "https://localhost:8080/",
          "height": 153
        }
      },
      "source": [
        "X_train[feature].value_counts()"
      ],
      "execution_count": 12,
      "outputs": [
        {
          "output_type": "execute_result",
          "data": {
            "text/plain": [
              "gravity         21448\n",
              "handpump        13184\n",
              "other            5193\n",
              "submersible      4894\n",
              "motorpump        2355\n",
              "rope pump         353\n",
              "wind-powered       93\n",
              "Name: extraction_type_class, dtype: int64"
            ]
          },
          "metadata": {
            "tags": []
          },
          "execution_count": 12
        }
      ]
    },
    {
      "cell_type": "code",
      "metadata": {
        "colab_type": "code",
        "id": "pVxoC4NngLVt",
        "outputId": "bc45349a-f6ea-4de1-e39d-5f59424042f3",
        "colab": {
          "base_uri": "https://localhost:8080/",
          "height": 578
        }
      },
      "source": [
        "import seaborn as sns\n",
        "plt.figure(figsize=(16,9))\n",
        "sns.barplot(\n",
        "    x=train[feature], \n",
        "    y=train['status_group']=='functional', \n",
        "    color='grey'\n",
        ");"
      ],
      "execution_count": 13,
      "outputs": [
        {
          "output_type": "stream",
          "text": [
            "/usr/local/lib/python3.6/dist-packages/statsmodels/tools/_testing.py:19: FutureWarning: pandas.util.testing is deprecated. Use the functions in the public API at pandas.testing instead.\n",
            "  import pandas.util.testing as tm\n"
          ],
          "name": "stderr"
        },
        {
          "output_type": "display_data",
          "data": {
            "image/png": "[encoded data removed]",
            "text/plain": [
              "<Figure size 1152x648 with 1 Axes>"
            ]
          },
          "metadata": {
            "tags": [],
            "needs_background": "light"
          }
        }
      ]
    },
    {
      "cell_type": "code",
      "metadata": {
        "colab_type": "code",
        "id": "w99mek14gLVv",
        "outputId": "3d1f3c84-e708-4546-8186-b7c20b39d009",
        "colab": {
          "base_uri": "https://localhost:8080/",
          "height": 374
        }
      },
      "source": [
        "X_train[feature].head(20)"
      ],
      "execution_count": 14,
      "outputs": [
        {
          "output_type": "execute_result",
          "data": {
            "text/plain": [
              "43360        gravity\n",
              "7263         gravity\n",
              "2486        handpump\n",
              "313            other\n",
              "52726      motorpump\n",
              "8558         gravity\n",
              "2559         gravity\n",
              "54735      motorpump\n",
              "25763       handpump\n",
              "44540    submersible\n",
              "28603          other\n",
              "4372     submersible\n",
              "30666        gravity\n",
              "6431     submersible\n",
              "57420          other\n",
              "1373         gravity\n",
              "2026         gravity\n",
              "58977       handpump\n",
              "41101        gravity\n",
              "10019        gravity\n",
              "Name: extraction_type_class, dtype: object"
            ]
          },
          "metadata": {
            "tags": []
          },
          "execution_count": 14
        }
      ]
    },
    {
      "cell_type": "markdown",
      "metadata": {
        "colab_type": "text",
        "id": "ezzK2IdbgLVx"
      },
      "source": [
        "### [One Hot Encoding](http://contrib.scikit-learn.org/categorical-encoding/onehot.html)\n",
        "\n",
        "> Onehot (or dummy) coding for categorical features, produces one feature per category, each binary.\n",
        "\n",
        "Warning: May run slow, or run out of memory, with high cardinality categoricals!"
      ]
    },
    {
      "cell_type": "code",
      "metadata": {
        "colab_type": "code",
        "id": "HDQZtV6GgLVy",
        "outputId": "1f084e89-bf42-4d2e-84a5-de6366c2c0e5",
        "colab": {
          "base_uri": "https://localhost:8080/",
          "height": 723
        }
      },
      "source": [
        "encoder = ce.OneHotEncoder(use_cat_names=True)\n",
        "encoded = encoder.fit_transform(X_train[[feature]])\n",
        "print(f'{len(encoded.columns)} columns')\n",
        "encoded.head(20)"
      ],
      "execution_count": 15,
      "outputs": [
        {
          "output_type": "stream",
          "text": [
            "7 columns\n"
          ],
          "name": "stdout"
        },
        {
          "output_type": "execute_result",
          "data": {
            "text/html": [
              "<div>\n",
              "<style scoped>\n",
              "    .dataframe tbody tr th:only-of-type {\n",
              "        vertical-align: middle;\n",
              "    }\n",
              "\n",
              "    .dataframe tbody tr th {\n",
              "        vertical-align: top;\n",
              "    }\n",
              "\n",
              "    .dataframe thead th {\n",
              "        text-align: right;\n",
              "    }\n",
              "</style>\n",
              "<table border=\"1\" class=\"dataframe\">\n",
              "  <thead>\n",
              "    <tr style=\"text-align: right;\">\n",
              "      <th></th>\n",
              "      <th>extraction_type_class_gravity</th>\n",
              "      <th>extraction_type_class_handpump</th>\n",
              "      <th>extraction_type_class_other</th>\n",
              "      <th>extraction_type_class_motorpump</th>\n",
              "      <th>extraction_type_class_submersible</th>\n",
              "      <th>extraction_type_class_rope pump</th>\n",
              "      <th>extraction_type_class_wind-powered</th>\n",
              "    </tr>\n",
              "  </thead>\n",
              "  <tbody>\n",
              "    <tr>\n",
              "      <th>43360</th>\n",
              "      <td>1</td>\n",
              "      <td>0</td>\n",
              "      <td>0</td>\n",
              "      <td>0</td>\n",
              "      <td>0</td>\n",
              "      <td>0</td>\n",
              "      <td>0</td>\n",
              "    </tr>\n",
              "    <tr>\n",
              "      <th>7263</th>\n",
              "      <td>1</td>\n",
              "      <td>0</td>\n",
              "      <td>0</td>\n",
              "      <td>0</td>\n",
              "      <td>0</td>\n",
              "      <td>0</td>\n",
              "      <td>0</td>\n",
              "    </tr>\n",
              "    <tr>\n",
              "      <th>2486</th>\n",
              "      <td>0</td>\n",
              "      <td>1</td>\n",
              "      <td>0</td>\n",
              "      <td>0</td>\n",
              "      <td>0</td>\n",
              "      <td>0</td>\n",
              "      <td>0</td>\n",
              "    </tr>\n",
              "    <tr>\n",
              "      <th>313</th>\n",
              "      <td>0</td>\n",
              "      <td>0</td>\n",
              "      <td>1</td>\n",
              "      <td>0</td>\n",
              "      <td>0</td>\n",
              "      <td>0</td>\n",
              "      <td>0</td>\n",
              "    </tr>\n",
              "    <tr>\n",
              "      <th>52726</th>\n",
              "      <td>0</td>\n",
              "      <td>0</td>\n",
              "      <td>0</td>\n",
              "      <td>1</td>\n",
              "      <td>0</td>\n",
              "      <td>0</td>\n",
              "      <td>0</td>\n",
              "    </tr>\n",
              "    <tr>\n",
              "      <th>8558</th>\n",
              "      <td>1</td>\n",
              "      <td>0</td>\n",
              "      <td>0</td>\n",
              "      <td>0</td>\n",
              "      <td>0</td>\n",
              "      <td>0</td>\n",
              "      <td>0</td>\n",
              "    </tr>\n",
              "    <tr>\n",
              "      <th>2559</th>\n",
              "      <td>1</td>\n",
              "      <td>0</td>\n",
              "      <td>0</td>\n",
              "      <td>0</td>\n",
              "      <td>0</td>\n",
              "      <td>0</td>\n",
              "      <td>0</td>\n",
              "    </tr>\n",
              "    <tr>\n",
              "      <th>54735</th>\n",
              "      <td>0</td>\n",
              "      <td>0</td>\n",
              "      <td>0</td>\n",
              "      <td>1</td>\n",
              "      <td>0</td>\n",
              "      <td>0</td>\n",
              "      <td>0</td>\n",
              "    </tr>\n",
              "    <tr>\n",
              "      <th>25763</th>\n",
              "      <td>0</td>\n",
              "      <td>1</td>\n",
              "      <td>0</td>\n",
              "      <td>0</td>\n",
              "      <td>0</td>\n",
              "      <td>0</td>\n",
              "      <td>0</td>\n",
              "    </tr>\n",
              "    <tr>\n",
              "      <th>44540</th>\n",
              "      <td>0</td>\n",
              "      <td>0</td>\n",
              "      <td>0</td>\n",
              "      <td>0</td>\n",
              "      <td>1</td>\n",
              "      <td>0</td>\n",
              "      <td>0</td>\n",
              "    </tr>\n",
              "    <tr>\n",
              "      <th>28603</th>\n",
              "      <td>0</td>\n",
              "      <td>0</td>\n",
              "      <td>1</td>\n",
              "      <td>0</td>\n",
              "      <td>0</td>\n",
              "      <td>0</td>\n",
              "      <td>0</td>\n",
              "    </tr>\n",
              "    <tr>\n",
              "      <th>4372</th>\n",
              "      <td>0</td>\n",
              "      <td>0</td>\n",
              "      <td>0</td>\n",
              "      <td>0</td>\n",
              "      <td>1</td>\n",
              "      <td>0</td>\n",
              "      <td>0</td>\n",
              "    </tr>\n",
              "    <tr>\n",
              "      <th>30666</th>\n",
              "      <td>1</td>\n",
              "      <td>0</td>\n",
              "      <td>0</td>\n",
              "      <td>0</td>\n",
              "      <td>0</td>\n",
              "      <td>0</td>\n",
              "      <td>0</td>\n",
              "    </tr>\n",
              "    <tr>\n",
              "      <th>6431</th>\n",
              "      <td>0</td>\n",
              "      <td>0</td>\n",
              "      <td>0</td>\n",
              "      <td>0</td>\n",
              "      <td>1</td>\n",
              "      <td>0</td>\n",
              "      <td>0</td>\n",
              "    </tr>\n",
              "    <tr>\n",
              "      <th>57420</th>\n",
              "      <td>0</td>\n",
              "      <td>0</td>\n",
              "      <td>1</td>\n",
              "      <td>0</td>\n",
              "      <td>0</td>\n",
              "      <td>0</td>\n",
              "      <td>0</td>\n",
              "    </tr>\n",
              "    <tr>\n",
              "      <th>1373</th>\n",
              "      <td>1</td>\n",
              "      <td>0</td>\n",
              "      <td>0</td>\n",
              "      <td>0</td>\n",
              "      <td>0</td>\n",
              "      <td>0</td>\n",
              "      <td>0</td>\n",
              "    </tr>\n",
              "    <tr>\n",
              "      <th>2026</th>\n",
              "      <td>1</td>\n",
              "      <td>0</td>\n",
              "      <td>0</td>\n",
              "      <td>0</td>\n",
              "      <td>0</td>\n",
              "      <td>0</td>\n",
              "      <td>0</td>\n",
              "    </tr>\n",
              "    <tr>\n",
              "      <th>58977</th>\n",
              "      <td>0</td>\n",
              "      <td>1</td>\n",
              "      <td>0</td>\n",
              "      <td>0</td>\n",
              "      <td>0</td>\n",
              "      <td>0</td>\n",
              "      <td>0</td>\n",
              "    </tr>\n",
              "    <tr>\n",
              "      <th>41101</th>\n",
              "      <td>1</td>\n",
              "      <td>0</td>\n",
              "      <td>0</td>\n",
              "      <td>0</td>\n",
              "      <td>0</td>\n",
              "      <td>0</td>\n",
              "      <td>0</td>\n",
              "    </tr>\n",
              "    <tr>\n",
              "      <th>10019</th>\n",
              "      <td>1</td>\n",
              "      <td>0</td>\n",
              "      <td>0</td>\n",
              "      <td>0</td>\n",
              "      <td>0</td>\n",
              "      <td>0</td>\n",
              "      <td>0</td>\n",
              "    </tr>\n",
              "  </tbody>\n",
              "</table>\n",
              "</div>"
            ],
            "text/plain": [
              "       extraction_type_class_gravity  ...  extraction_type_class_wind-powered\n",
              "43360                              1  ...                                   0\n",
              "7263                               1  ...                                   0\n",
              "2486                               0  ...                                   0\n",
              "313                                0  ...                                   0\n",
              "52726                              0  ...                                   0\n",
              "8558                               1  ...                                   0\n",
              "2559                               1  ...                                   0\n",
              "54735                              0  ...                                   0\n",
              "25763                              0  ...                                   0\n",
              "44540                              0  ...                                   0\n",
              "28603                              0  ...                                   0\n",
              "4372                               0  ...                                   0\n",
              "30666                              1  ...                                   0\n",
              "6431                               0  ...                                   0\n",
              "57420                              0  ...                                   0\n",
              "1373                               1  ...                                   0\n",
              "2026                               1  ...                                   0\n",
              "58977                              0  ...                                   0\n",
              "41101                              1  ...                                   0\n",
              "10019                              1  ...                                   0\n",
              "\n",
              "[20 rows x 7 columns]"
            ]
          },
          "metadata": {
            "tags": []
          },
          "execution_count": 15
        }
      ]
    },
    {
      "cell_type": "markdown",
      "metadata": {
        "colab_type": "text",
        "id": "1Ql9Qmw3sNJ7"
      },
      "source": [
        "#### One-Hot Encoding, Logistic Regression, Validation Accuracy"
      ]
    },
    {
      "cell_type": "code",
      "metadata": {
        "colab_type": "code",
        "id": "mT4A-oDGpOss",
        "outputId": "5a4f0028-e395-468a-84bd-0694a2b6f7dc",
        "colab": {
          "base_uri": "https://localhost:8080/",
          "height": 34
        }
      },
      "source": [
        "from sklearn.linear_model import LogisticRegressionCV\n",
        "from sklearn.preprocessing import StandardScaler\n",
        "\n",
        "lr = make_pipeline(\n",
        "    ce.OneHotEncoder(use_cat_names=True), \n",
        "    SimpleImputer(), \n",
        "    StandardScaler(), \n",
        "    LogisticRegressionCV(multi_class='auto', solver='lbfgs', cv=5, n_jobs=-1)\n",
        ")\n",
        "\n",
        "lr.fit(X_train[[feature]], y_train)\n",
        "score = lr.score(X_val[[feature]], y_val)\n",
        "print('Logistic Regression, Validation Accuracy', score)"
      ],
      "execution_count": 16,
      "outputs": [
        {
          "output_type": "stream",
          "text": [
            "Logistic Regression, Validation Accuracy 0.6202861952861953\n"
          ],
          "name": "stdout"
        }
      ]
    },
    {
      "cell_type": "markdown",
      "metadata": {
        "colab_type": "text",
        "id": "EbH6wivpsRuV"
      },
      "source": [
        "#### One-Hot Encoding, Decision Tree, Validation Accuracy"
      ]
    },
    {
      "cell_type": "code",
      "metadata": {
        "colab_type": "code",
        "id": "b6KUluFOqIdK",
        "outputId": "f21894bf-6228-439a-b8ee-47d6565f3de4",
        "colab": {
          "base_uri": "https://localhost:8080/",
          "height": 34
        }
      },
      "source": [
        "from sklearn.tree import DecisionTreeClassifier\n",
        "\n",
        "dt = make_pipeline(\n",
        "    ce.OneHotEncoder(use_cat_names=True), \n",
        "    SimpleImputer(), \n",
        "    DecisionTreeClassifier(random_state=42)\n",
        ")\n",
        "\n",
        "dt.fit(X_train[[feature]], y_train)\n",
        "score = dt.score(X_val[[feature]], y_val)\n",
        "print('Decision Tree, Validation Accuracy', score)"
      ],
      "execution_count": 17,
      "outputs": [
        {
          "output_type": "stream",
          "text": [
            "Decision Tree, Validation Accuracy 0.6202861952861953\n"
          ],
          "name": "stdout"
        }
      ]
    },
    {
      "cell_type": "markdown",
      "metadata": {
        "colab_type": "text",
        "id": "8yg11_gTsUu6"
      },
      "source": [
        "#### One-Hot Encoding, Logistic Regression, Model Interpretation"
      ]
    },
    {
      "cell_type": "code",
      "metadata": {
        "colab_type": "code",
        "id": "IxHwXGRornNI",
        "outputId": "48c02ee5-ae53-4262-eb4a-cc010fa1d35a",
        "colab": {
          "base_uri": "https://localhost:8080/",
          "height": 265
        }
      },
      "source": [
        "model = lr.named_steps['logisticregressioncv']\n",
        "encoder = lr.named_steps['onehotencoder']\n",
        "encoded_columns = encoder.transform(X_val[[feature]]).columns\n",
        "coefficients = pd.Series(model.coef_[0], encoded_columns)\n",
        "coefficients.sort_values().plot.barh(color='grey');"
      ],
      "execution_count": 18,
      "outputs": [
        {
          "output_type": "display_data",
          "data": {
            "image/png": "[encoded data removed]",
            "text/plain": [
              "<Figure size 432x288 with 1 Axes>"
            ]
          },
          "metadata": {
            "tags": [],
            "needs_background": "light"
          }
        }
      ]
    },
    {
      "cell_type": "markdown",
      "metadata": {
        "colab_type": "text",
        "id": "0REZ8HdpsccR"
      },
      "source": [
        "#### One-Hot Encoding, Decision Tree, Model Interpretation"
      ]
    },
    {
      "cell_type": "code",
      "metadata": {
        "colab_type": "code",
        "id": "gV-grmYKpDp9",
        "outputId": "9665c019-59f6-4c66-a0fe-16f27c1b4d70",
        "colab": {
          "base_uri": "https://localhost:8080/",
          "height": 954
        }
      },
      "source": [
        "# Plot tree\n",
        "# https://scikit-learn.org/stable/modules/generated/sklearn.tree.export_graphviz.html\n",
        "import graphviz\n",
        "from sklearn.tree import export_graphviz\n",
        "\n",
        "model = dt.named_steps['decisiontreeclassifier']\n",
        "encoder = dt.named_steps['onehotencoder']\n",
        "encoded_columns = encoder.transform(X_val[[feature]]).columns\n",
        "\n",
        "dot_data = export_graphviz(model, \n",
        "                           out_file=None, \n",
        "                           max_depth=7, \n",
        "                           feature_names=encoded_columns,\n",
        "                           class_names=model.classes_, \n",
        "                           impurity=False, \n",
        "                           filled=True, \n",
        "                           proportion=True, \n",
        "                           rounded=True)   \n",
        "display(graphviz.Source(dot_data))"
      ],
      "execution_count": 19,
      "outputs": [
        {
          "output_type": "display_data",
          "data": {
            "text/plain": [
              "<graphviz.files.Source at 0x7fb6944829b0>"
            ],
            "image/svg+xml": "<?xml version=\"1.0\" encoding=\"UTF-8\" standalone=\"no\"?>\n<!DOCTYPE svg PUBLIC \"-//W3C//DTD SVG 1.1//EN\"\n \"http://www.w3.org/Graphics/SVG/1.1/DTD/svg11.dtd\">\n<!-- Generated by graphviz version 2.40.1 (20161225.0304)\n -->\n<!-- Title: Tree Pages: 1 -->\n<svg width=\"1067pt\" height=\"685pt\"\n viewBox=\"0.00 0.00 1067.00 685.00\" xmlns=\"http://www.w3.org/2000/svg\" xmlns:xlink=\"http://www.w3.org/1999/xlink\">\n<g id=\"graph0\" class=\"graph\" transform=\"scale(1 1) rotate(0) translate(4 681)\">\n<title>Tree</title>\n<polygon fill=\"#ffffff\" stroke=\"transparent\" points=\"-4,4 -4,-681 1063,-681 1063,4 -4,4\"/>\n<!-- 0 -->\n<g id=\"node1\" class=\"node\">\n<title>0</title>\n<path fill=\"#f8decc\" stroke=\"#000000\" d=\"M944.5,-677C944.5,-677 725.5,-677 725.5,-677 719.5,-677 713.5,-671 713.5,-665 713.5,-665 713.5,-621 713.5,-621 713.5,-615 719.5,-609 725.5,-609 725.5,-609 944.5,-609 944.5,-609 950.5,-609 956.5,-615 956.5,-621 956.5,-621 956.5,-665 956.5,-665 956.5,-671 950.5,-677 944.5,-677\"/>\n<text text-anchor=\"middle\" x=\"835\" y=\"-661.8\" font-family=\"Helvetica,sans-Serif\" font-size=\"14.00\" fill=\"#000000\">extraction_type_class_other &lt;= 0.5</text>\n<text text-anchor=\"middle\" x=\"835\" y=\"-646.8\" font-family=\"Helvetica,sans-Serif\" font-size=\"14.00\" fill=\"#000000\">samples = 100.0%</text>\n<text text-anchor=\"middle\" x=\"835\" y=\"-631.8\" font-family=\"Helvetica,sans-Serif\" font-size=\"14.00\" fill=\"#000000\">value = [0.543, 0.073, 0.384]</text>\n<text text-anchor=\"middle\" x=\"835\" y=\"-616.8\" font-family=\"Helvetica,sans-Serif\" font-size=\"14.00\" fill=\"#000000\">class = functional</text>\n</g>\n<!-- 1 -->\n<g id=\"node2\" class=\"node\">\n<title>1</title>\n<path fill=\"#f5ceb2\" stroke=\"#000000\" d=\"M837,-573C837,-573 577,-573 577,-573 571,-573 565,-567 565,-561 565,-561 565,-517 565,-517 565,-511 571,-505 577,-505 577,-505 837,-505 837,-505 843,-505 849,-511 849,-517 849,-517 849,-561 849,-561 849,-567 843,-573 837,-573\"/>\n<text text-anchor=\"middle\" x=\"707\" y=\"-557.8\" font-family=\"Helvetica,sans-Serif\" font-size=\"14.00\" fill=\"#000000\">extraction_type_class_motorpump &lt;= 0.5</text>\n<text text-anchor=\"middle\" x=\"707\" y=\"-542.8\" font-family=\"Helvetica,sans-Serif\" font-size=\"14.00\" fill=\"#000000\">samples = 89.1%</text>\n<text text-anchor=\"middle\" x=\"707\" y=\"-527.8\" font-family=\"Helvetica,sans-Serif\" font-size=\"14.00\" fill=\"#000000\">value = [0.59, 0.078, 0.332]</text>\n<text text-anchor=\"middle\" x=\"707\" y=\"-512.8\" font-family=\"Helvetica,sans-Serif\" font-size=\"14.00\" fill=\"#000000\">class = functional</text>\n</g>\n<!-- 0&#45;&gt;1 -->\n<g id=\"edge1\" class=\"edge\">\n<title>0&#45;&gt;1</title>\n<path fill=\"none\" stroke=\"#000000\" d=\"M793.088,-608.9465C781.485,-599.519 768.7779,-589.1946 756.7741,-579.4415\"/>\n<polygon fill=\"#000000\" stroke=\"#000000\" points=\"758.9744,-576.7196 749.0061,-573.13 754.5602,-582.1524 758.9744,-576.7196\"/>\n<text text-anchor=\"middle\" x=\"751.5786\" y=\"-594.2973\" font-family=\"Helvetica,sans-Serif\" font-size=\"14.00\" fill=\"#000000\">True</text>\n</g>\n<!-- 12 -->\n<g id=\"node13\" class=\"node\">\n<title>12</title>\n<path fill=\"#9d66eb\" stroke=\"#000000\" d=\"M1047,-565.5C1047,-565.5 879,-565.5 879,-565.5 873,-565.5 867,-559.5 867,-553.5 867,-553.5 867,-524.5 867,-524.5 867,-518.5 873,-512.5 879,-512.5 879,-512.5 1047,-512.5 1047,-512.5 1053,-512.5 1059,-518.5 1059,-524.5 1059,-524.5 1059,-553.5 1059,-553.5 1059,-559.5 1053,-565.5 1047,-565.5\"/>\n<text text-anchor=\"middle\" x=\"963\" y=\"-550.3\" font-family=\"Helvetica,sans-Serif\" font-size=\"14.00\" fill=\"#000000\">samples = 10.9%</text>\n<text text-anchor=\"middle\" x=\"963\" y=\"-535.3\" font-family=\"Helvetica,sans-Serif\" font-size=\"14.00\" fill=\"#000000\">value = [0.159, 0.031, 0.81]</text>\n<text text-anchor=\"middle\" x=\"963\" y=\"-520.3\" font-family=\"Helvetica,sans-Serif\" font-size=\"14.00\" fill=\"#000000\">class = non functional</text>\n</g>\n<!-- 0&#45;&gt;12 -->\n<g id=\"edge12\" class=\"edge\">\n<title>0&#45;&gt;12</title>\n<path fill=\"none\" stroke=\"#000000\" d=\"M876.912,-608.9465C891.5533,-597.0504 907.9526,-583.726 922.4785,-571.9237\"/>\n<polygon fill=\"#000000\" stroke=\"#000000\" points=\"924.7786,-574.5645 930.3327,-565.5422 920.3645,-569.1317 924.7786,-574.5645\"/>\n<text text-anchor=\"middle\" x=\"927.7602\" y=\"-586.7095\" font-family=\"Helvetica,sans-Serif\" font-size=\"14.00\" fill=\"#000000\">False</text>\n</g>\n<!-- 2 -->\n<g id=\"node3\" class=\"node\">\n<title>2</title>\n<path fill=\"#f4caac\" stroke=\"#000000\" d=\"M708.5,-469C708.5,-469 443.5,-469 443.5,-469 437.5,-469 431.5,-463 431.5,-457 431.5,-457 431.5,-413 431.5,-413 431.5,-407 437.5,-401 443.5,-401 443.5,-401 708.5,-401 708.5,-401 714.5,-401 720.5,-407 720.5,-413 720.5,-413 720.5,-457 720.5,-457 720.5,-463 714.5,-469 708.5,-469\"/>\n<text text-anchor=\"middle\" x=\"576\" y=\"-453.8\" font-family=\"Helvetica,sans-Serif\" font-size=\"14.00\" fill=\"#000000\">extraction_type_class_submersible &lt;= 0.5</text>\n<text text-anchor=\"middle\" x=\"576\" y=\"-438.8\" font-family=\"Helvetica,sans-Serif\" font-size=\"14.00\" fill=\"#000000\">samples = 84.1%</text>\n<text text-anchor=\"middle\" x=\"576\" y=\"-423.8\" font-family=\"Helvetica,sans-Serif\" font-size=\"14.00\" fill=\"#000000\">value = [0.603, 0.08, 0.318]</text>\n<text text-anchor=\"middle\" x=\"576\" y=\"-408.8\" font-family=\"Helvetica,sans-Serif\" font-size=\"14.00\" fill=\"#000000\">class = functional</text>\n</g>\n<!-- 1&#45;&gt;2 -->\n<g id=\"edge2\" class=\"edge\">\n<title>1&#45;&gt;2</title>\n<path fill=\"none\" stroke=\"#000000\" d=\"M664.1057,-504.9465C652.2307,-495.519 639.2259,-485.1946 626.9407,-475.4415\"/>\n<polygon fill=\"#000000\" stroke=\"#000000\" points=\"628.9989,-472.6066 618.9907,-469.13 624.6464,-478.089 628.9989,-472.6066\"/>\n</g>\n<!-- 11 -->\n<g id=\"node12\" class=\"node\">\n<title>11</title>\n<path fill=\"#d8c1f7\" stroke=\"#000000\" d=\"M927,-461.5C927,-461.5 751,-461.5 751,-461.5 745,-461.5 739,-455.5 739,-449.5 739,-449.5 739,-420.5 739,-420.5 739,-414.5 745,-408.5 751,-408.5 751,-408.5 927,-408.5 927,-408.5 933,-408.5 939,-414.5 939,-420.5 939,-420.5 939,-449.5 939,-449.5 939,-455.5 933,-461.5 927,-461.5\"/>\n<text text-anchor=\"middle\" x=\"839\" y=\"-446.3\" font-family=\"Helvetica,sans-Serif\" font-size=\"14.00\" fill=\"#000000\">samples = 5.0%</text>\n<text text-anchor=\"middle\" x=\"839\" y=\"-431.3\" font-family=\"Helvetica,sans-Serif\" font-size=\"14.00\" fill=\"#000000\">value = [0.381, 0.045, 0.574]</text>\n<text text-anchor=\"middle\" x=\"839\" y=\"-416.3\" font-family=\"Helvetica,sans-Serif\" font-size=\"14.00\" fill=\"#000000\">class = non functional</text>\n</g>\n<!-- 1&#45;&gt;11 -->\n<g id=\"edge11\" class=\"edge\">\n<title>1&#45;&gt;11</title>\n<path fill=\"none\" stroke=\"#000000\" d=\"M750.2217,-504.9465C765.3206,-493.0504 782.2324,-479.726 797.2122,-467.9237\"/>\n<polygon fill=\"#000000\" stroke=\"#000000\" points=\"799.623,-470.4802 805.3119,-461.5422 795.2909,-464.9817 799.623,-470.4802\"/>\n</g>\n<!-- 3 -->\n<g id=\"node4\" class=\"node\">\n<title>3</title>\n<path fill=\"#f4c7a8\" stroke=\"#000000\" d=\"M568.5,-365C568.5,-365 339.5,-365 339.5,-365 333.5,-365 327.5,-359 327.5,-353 327.5,-353 327.5,-309 327.5,-309 327.5,-303 333.5,-297 339.5,-297 339.5,-297 568.5,-297 568.5,-297 574.5,-297 580.5,-303 580.5,-309 580.5,-309 580.5,-353 580.5,-353 580.5,-359 574.5,-365 568.5,-365\"/>\n<text text-anchor=\"middle\" x=\"454\" y=\"-349.8\" font-family=\"Helvetica,sans-Serif\" font-size=\"14.00\" fill=\"#000000\">extraction_type_class_gravity &lt;= 0.5</text>\n<text text-anchor=\"middle\" x=\"454\" y=\"-334.8\" font-family=\"Helvetica,sans-Serif\" font-size=\"14.00\" fill=\"#000000\">samples = 73.8%</text>\n<text text-anchor=\"middle\" x=\"454\" y=\"-319.8\" font-family=\"Helvetica,sans-Serif\" font-size=\"14.00\" fill=\"#000000\">value = [0.611, 0.085, 0.304]</text>\n<text text-anchor=\"middle\" x=\"454\" y=\"-304.8\" font-family=\"Helvetica,sans-Serif\" font-size=\"14.00\" fill=\"#000000\">class = functional</text>\n</g>\n<!-- 2&#45;&gt;3 -->\n<g id=\"edge3\" class=\"edge\">\n<title>2&#45;&gt;3</title>\n<path fill=\"none\" stroke=\"#000000\" d=\"M536.0526,-400.9465C525.0988,-391.6088 513.1127,-381.3911 501.768,-371.7203\"/>\n<polygon fill=\"#000000\" stroke=\"#000000\" points=\"503.9179,-368.9538 494.0371,-365.13 499.3767,-374.2809 503.9179,-368.9538\"/>\n</g>\n<!-- 10 -->\n<g id=\"node11\" class=\"node\">\n<title>10</title>\n<path fill=\"#f9e4d5\" stroke=\"#000000\" d=\"M787,-357.5C787,-357.5 611,-357.5 611,-357.5 605,-357.5 599,-351.5 599,-345.5 599,-345.5 599,-316.5 599,-316.5 599,-310.5 605,-304.5 611,-304.5 611,-304.5 787,-304.5 787,-304.5 793,-304.5 799,-310.5 799,-316.5 799,-316.5 799,-345.5 799,-345.5 799,-351.5 793,-357.5 787,-357.5\"/>\n<text text-anchor=\"middle\" x=\"699\" y=\"-342.3\" font-family=\"Helvetica,sans-Serif\" font-size=\"14.00\" fill=\"#000000\">samples = 10.3%</text>\n<text text-anchor=\"middle\" x=\"699\" y=\"-327.3\" font-family=\"Helvetica,sans-Serif\" font-size=\"14.00\" fill=\"#000000\">value = [0.541, 0.042, 0.416]</text>\n<text text-anchor=\"middle\" x=\"699\" y=\"-312.3\" font-family=\"Helvetica,sans-Serif\" font-size=\"14.00\" fill=\"#000000\">class = functional</text>\n</g>\n<!-- 2&#45;&gt;10 -->\n<g id=\"edge10\" class=\"edge\">\n<title>2&#45;&gt;10</title>\n<path fill=\"none\" stroke=\"#000000\" d=\"M616.2748,-400.9465C630.2139,-389.1606 645.8112,-375.9726 659.6732,-364.2519\"/>\n<polygon fill=\"#000000\" stroke=\"#000000\" points=\"662.2324,-366.6715 667.6088,-357.5422 657.7127,-361.3262 662.2324,-366.6715\"/>\n</g>\n<!-- 4 -->\n<g id=\"node5\" class=\"node\">\n<title>4</title>\n<path fill=\"#f3c5a4\" stroke=\"#000000\" d=\"M458.5,-261C458.5,-261 181.5,-261 181.5,-261 175.5,-261 169.5,-255 169.5,-249 169.5,-249 169.5,-205 169.5,-205 169.5,-199 175.5,-193 181.5,-193 181.5,-193 458.5,-193 458.5,-193 464.5,-193 470.5,-199 470.5,-205 470.5,-205 470.5,-249 470.5,-249 470.5,-255 464.5,-261 458.5,-261\"/>\n<text text-anchor=\"middle\" x=\"320\" y=\"-245.8\" font-family=\"Helvetica,sans-Serif\" font-size=\"14.00\" fill=\"#000000\">extraction_type_class_wind&#45;powered &lt;= 0.5</text>\n<text text-anchor=\"middle\" x=\"320\" y=\"-230.8\" font-family=\"Helvetica,sans-Serif\" font-size=\"14.00\" fill=\"#000000\">samples = 28.7%</text>\n<text text-anchor=\"middle\" x=\"320\" y=\"-215.8\" font-family=\"Helvetica,sans-Serif\" font-size=\"14.00\" fill=\"#000000\">value = [0.629, 0.059, 0.311]</text>\n<text text-anchor=\"middle\" x=\"320\" y=\"-200.8\" font-family=\"Helvetica,sans-Serif\" font-size=\"14.00\" fill=\"#000000\">class = functional</text>\n</g>\n<!-- 3&#45;&gt;4 -->\n<g id=\"edge4\" class=\"edge\">\n<title>3&#45;&gt;4</title>\n<path fill=\"none\" stroke=\"#000000\" d=\"M410.1234,-296.9465C397.9765,-287.519 384.6738,-277.1946 372.1073,-267.4415\"/>\n<polygon fill=\"#000000\" stroke=\"#000000\" points=\"374.021,-264.4963 363.9752,-261.13 369.7291,-270.0262 374.021,-264.4963\"/>\n</g>\n<!-- 9 -->\n<g id=\"node10\" class=\"node\">\n<title>9</title>\n<path fill=\"#f4c9aa\" stroke=\"#000000\" d=\"M677,-253.5C677,-253.5 501,-253.5 501,-253.5 495,-253.5 489,-247.5 489,-241.5 489,-241.5 489,-212.5 489,-212.5 489,-206.5 495,-200.5 501,-200.5 501,-200.5 677,-200.5 677,-200.5 683,-200.5 689,-206.5 689,-212.5 689,-212.5 689,-241.5 689,-241.5 689,-247.5 683,-253.5 677,-253.5\"/>\n<text text-anchor=\"middle\" x=\"589\" y=\"-238.3\" font-family=\"Helvetica,sans-Serif\" font-size=\"14.00\" fill=\"#000000\">samples = 45.1%</text>\n<text text-anchor=\"middle\" x=\"589\" y=\"-223.3\" font-family=\"Helvetica,sans-Serif\" font-size=\"14.00\" fill=\"#000000\">value = [0.599, 0.101, 0.299]</text>\n<text text-anchor=\"middle\" x=\"589\" y=\"-208.3\" font-family=\"Helvetica,sans-Serif\" font-size=\"14.00\" fill=\"#000000\">class = functional</text>\n</g>\n<!-- 3&#45;&gt;9 -->\n<g id=\"edge9\" class=\"edge\">\n<title>3&#45;&gt;9</title>\n<path fill=\"none\" stroke=\"#000000\" d=\"M498.204,-296.9465C513.6461,-285.0504 530.9422,-271.726 546.2625,-259.9237\"/>\n<polygon fill=\"#000000\" stroke=\"#000000\" points=\"548.7603,-262.4176 554.5462,-253.5422 544.4883,-256.8723 548.7603,-262.4176\"/>\n</g>\n<!-- 5 -->\n<g id=\"node6\" class=\"node\">\n<title>5</title>\n<path fill=\"#f3c4a3\" stroke=\"#000000\" d=\"M319,-157C319,-157 63,-157 63,-157 57,-157 51,-151 51,-145 51,-145 51,-101 51,-101 51,-95 57,-89 63,-89 63,-89 319,-89 319,-89 325,-89 331,-95 331,-101 331,-101 331,-145 331,-145 331,-151 325,-157 319,-157\"/>\n<text text-anchor=\"middle\" x=\"191\" y=\"-141.8\" font-family=\"Helvetica,sans-Serif\" font-size=\"14.00\" fill=\"#000000\">extraction_type_class_rope pump &lt;= 0.5</text>\n<text text-anchor=\"middle\" x=\"191\" y=\"-126.8\" font-family=\"Helvetica,sans-Serif\" font-size=\"14.00\" fill=\"#000000\">samples = 28.5%</text>\n<text text-anchor=\"middle\" x=\"191\" y=\"-111.8\" font-family=\"Helvetica,sans-Serif\" font-size=\"14.00\" fill=\"#000000\">value = [0.631, 0.059, 0.31]</text>\n<text text-anchor=\"middle\" x=\"191\" y=\"-96.8\" font-family=\"Helvetica,sans-Serif\" font-size=\"14.00\" fill=\"#000000\">class = functional</text>\n</g>\n<!-- 4&#45;&gt;5 -->\n<g id=\"edge5\" class=\"edge\">\n<title>4&#45;&gt;5</title>\n<path fill=\"none\" stroke=\"#000000\" d=\"M277.7606,-192.9465C266.0669,-183.519 253.2606,-173.1946 241.163,-163.4415\"/>\n<polygon fill=\"#000000\" stroke=\"#000000\" points=\"243.3162,-160.6816 233.3343,-157.13 238.9227,-166.1312 243.3162,-160.6816\"/>\n</g>\n<!-- 8 -->\n<g id=\"node9\" class=\"node\">\n<title>8</title>\n<path fill=\"#f8f3fd\" stroke=\"#000000\" d=\"M537,-149.5C537,-149.5 361,-149.5 361,-149.5 355,-149.5 349,-143.5 349,-137.5 349,-137.5 349,-108.5 349,-108.5 349,-102.5 355,-96.5 361,-96.5 361,-96.5 537,-96.5 537,-96.5 543,-96.5 549,-102.5 549,-108.5 549,-108.5 549,-137.5 549,-137.5 549,-143.5 543,-149.5 537,-149.5\"/>\n<text text-anchor=\"middle\" x=\"449\" y=\"-134.3\" font-family=\"Helvetica,sans-Serif\" font-size=\"14.00\" fill=\"#000000\">samples = 0.2%</text>\n<text text-anchor=\"middle\" x=\"449\" y=\"-119.3\" font-family=\"Helvetica,sans-Serif\" font-size=\"14.00\" fill=\"#000000\">value = [0.452, 0.065, 0.484]</text>\n<text text-anchor=\"middle\" x=\"449\" y=\"-104.3\" font-family=\"Helvetica,sans-Serif\" font-size=\"14.00\" fill=\"#000000\">class = non functional</text>\n</g>\n<!-- 4&#45;&gt;8 -->\n<g id=\"edge8\" class=\"edge\">\n<title>4&#45;&gt;8</title>\n<path fill=\"none\" stroke=\"#000000\" d=\"M362.2394,-192.9465C376.9952,-181.0504 393.5225,-167.726 408.162,-155.9237\"/>\n<polygon fill=\"#000000\" stroke=\"#000000\" points=\"410.4891,-158.5433 416.0775,-149.5422 406.0957,-153.0938 410.4891,-158.5433\"/>\n</g>\n<!-- 6 -->\n<g id=\"node7\" class=\"node\">\n<title>6</title>\n<path fill=\"#f3c5a3\" stroke=\"#000000\" d=\"M164,-53C164,-53 12,-53 12,-53 6,-53 0,-47 0,-41 0,-41 0,-12 0,-12 0,-6 6,0 12,0 12,0 164,0 164,0 170,0 176,-6 176,-12 176,-12 176,-41 176,-41 176,-47 170,-53 164,-53\"/>\n<text text-anchor=\"middle\" x=\"88\" y=\"-37.8\" font-family=\"Helvetica,sans-Serif\" font-size=\"14.00\" fill=\"#000000\">samples = 27.7%</text>\n<text text-anchor=\"middle\" x=\"88\" y=\"-22.8\" font-family=\"Helvetica,sans-Serif\" font-size=\"14.00\" fill=\"#000000\">value = [0.63, 0.06, 0.31]</text>\n<text text-anchor=\"middle\" x=\"88\" y=\"-7.8\" font-family=\"Helvetica,sans-Serif\" font-size=\"14.00\" fill=\"#000000\">class = functional</text>\n</g>\n<!-- 5&#45;&gt;6 -->\n<g id=\"edge6\" class=\"edge\">\n<title>5&#45;&gt;6</title>\n<path fill=\"none\" stroke=\"#000000\" d=\"M154.6861,-88.9777C144.7168,-79.6376 133.9138,-69.5163 123.9643,-60.1947\"/>\n<polygon fill=\"#000000\" stroke=\"#000000\" points=\"126.2408,-57.5314 116.5502,-53.2485 121.4548,-62.6397 126.2408,-57.5314\"/>\n</g>\n<!-- 7 -->\n<g id=\"node8\" class=\"node\">\n<title>7</title>\n<path fill=\"#f2bf9b\" stroke=\"#000000\" d=\"M382,-53C382,-53 206,-53 206,-53 200,-53 194,-47 194,-41 194,-41 194,-12 194,-12 194,-6 200,0 206,0 206,0 382,0 382,0 388,0 394,-6 394,-12 394,-12 394,-41 394,-41 394,-47 388,-53 382,-53\"/>\n<text text-anchor=\"middle\" x=\"294\" y=\"-37.8\" font-family=\"Helvetica,sans-Serif\" font-size=\"14.00\" fill=\"#000000\">samples = 0.7%</text>\n<text text-anchor=\"middle\" x=\"294\" y=\"-22.8\" font-family=\"Helvetica,sans-Serif\" font-size=\"14.00\" fill=\"#000000\">value = [0.657, 0.037, 0.306]</text>\n<text text-anchor=\"middle\" x=\"294\" y=\"-7.8\" font-family=\"Helvetica,sans-Serif\" font-size=\"14.00\" fill=\"#000000\">class = functional</text>\n</g>\n<!-- 5&#45;&gt;7 -->\n<g id=\"edge7\" class=\"edge\">\n<title>5&#45;&gt;7</title>\n<path fill=\"none\" stroke=\"#000000\" d=\"M227.3139,-88.9777C237.2832,-79.6376 248.0862,-69.5163 258.0357,-60.1947\"/>\n<polygon fill=\"#000000\" stroke=\"#000000\" points=\"260.5452,-62.6397 265.4498,-53.2485 255.7592,-57.5314 260.5452,-62.6397\"/>\n</g>\n</g>\n</svg>\n"
          },
          "metadata": {
            "tags": []
          }
        }
      ]
    },
    {
      "cell_type": "markdown",
      "metadata": {
        "colab_type": "text",
        "id": "QUd6gzcZgLVz"
      },
      "source": [
        "### [Ordinal Encoding](http://contrib.scikit-learn.org/categorical-encoding/ordinal.html)\n",
        "\n",
        "> Ordinal encoding uses a single column of integers to represent the classes. An optional mapping dict can be passed in; in this case, we use the knowledge that there is some true order to the classes themselves. Otherwise, the classes are assumed to have no true order and integers are selected at random."
      ]
    },
    {
      "cell_type": "code",
      "metadata": {
        "id": "KVDGakHrDhkN",
        "colab_type": "code",
        "colab": {}
      },
      "source": [
        ""
      ],
      "execution_count": 0,
      "outputs": []
    },
    {
      "cell_type": "code",
      "metadata": {
        "colab_type": "code",
        "id": "CnBz2RbwgLVz",
        "outputId": "6b9770ad-b259-4214-b984-443214a416a3",
        "colab": {
          "base_uri": "https://localhost:8080/",
          "height": 686
        }
      },
      "source": [
        "encoder = ce.OrdinalEncoder()\n",
        "encoded = encoder.fit_transform(X_train[[feature]])\n",
        "print(f'1 column, {encoded[feature].nunique()} unique values')\n",
        "encoded.head(20)"
      ],
      "execution_count": 20,
      "outputs": [
        {
          "output_type": "stream",
          "text": [
            "1 column, 7 unique values\n"
          ],
          "name": "stdout"
        },
        {
          "output_type": "execute_result",
          "data": {
            "text/html": [
              "<div>\n",
              "<style scoped>\n",
              "    .dataframe tbody tr th:only-of-type {\n",
              "        vertical-align: middle;\n",
              "    }\n",
              "\n",
              "    .dataframe tbody tr th {\n",
              "        vertical-align: top;\n",
              "    }\n",
              "\n",
              "    .dataframe thead th {\n",
              "        text-align: right;\n",
              "    }\n",
              "</style>\n",
              "<table border=\"1\" class=\"dataframe\">\n",
              "  <thead>\n",
              "    <tr style=\"text-align: right;\">\n",
              "      <th></th>\n",
              "      <th>extraction_type_class</th>\n",
              "    </tr>\n",
              "  </thead>\n",
              "  <tbody>\n",
              "    <tr>\n",
              "      <th>43360</th>\n",
              "      <td>1</td>\n",
              "    </tr>\n",
              "    <tr>\n",
              "      <th>7263</th>\n",
              "      <td>1</td>\n",
              "    </tr>\n",
              "    <tr>\n",
              "      <th>2486</th>\n",
              "      <td>2</td>\n",
              "    </tr>\n",
              "    <tr>\n",
              "      <th>313</th>\n",
              "      <td>3</td>\n",
              "    </tr>\n",
              "    <tr>\n",
              "      <th>52726</th>\n",
              "      <td>4</td>\n",
              "    </tr>\n",
              "    <tr>\n",
              "      <th>8558</th>\n",
              "      <td>1</td>\n",
              "    </tr>\n",
              "    <tr>\n",
              "      <th>2559</th>\n",
              "      <td>1</td>\n",
              "    </tr>\n",
              "    <tr>\n",
              "      <th>54735</th>\n",
              "      <td>4</td>\n",
              "    </tr>\n",
              "    <tr>\n",
              "      <th>25763</th>\n",
              "      <td>2</td>\n",
              "    </tr>\n",
              "    <tr>\n",
              "      <th>44540</th>\n",
              "      <td>5</td>\n",
              "    </tr>\n",
              "    <tr>\n",
              "      <th>28603</th>\n",
              "      <td>3</td>\n",
              "    </tr>\n",
              "    <tr>\n",
              "      <th>4372</th>\n",
              "      <td>5</td>\n",
              "    </tr>\n",
              "    <tr>\n",
              "      <th>30666</th>\n",
              "      <td>1</td>\n",
              "    </tr>\n",
              "    <tr>\n",
              "      <th>6431</th>\n",
              "      <td>5</td>\n",
              "    </tr>\n",
              "    <tr>\n",
              "      <th>57420</th>\n",
              "      <td>3</td>\n",
              "    </tr>\n",
              "    <tr>\n",
              "      <th>1373</th>\n",
              "      <td>1</td>\n",
              "    </tr>\n",
              "    <tr>\n",
              "      <th>2026</th>\n",
              "      <td>1</td>\n",
              "    </tr>\n",
              "    <tr>\n",
              "      <th>58977</th>\n",
              "      <td>2</td>\n",
              "    </tr>\n",
              "    <tr>\n",
              "      <th>41101</th>\n",
              "      <td>1</td>\n",
              "    </tr>\n",
              "    <tr>\n",
              "      <th>10019</th>\n",
              "      <td>1</td>\n",
              "    </tr>\n",
              "  </tbody>\n",
              "</table>\n",
              "</div>"
            ],
            "text/plain": [
              "       extraction_type_class\n",
              "43360                      1\n",
              "7263                       1\n",
              "2486                       2\n",
              "313                        3\n",
              "52726                      4\n",
              "8558                       1\n",
              "2559                       1\n",
              "54735                      4\n",
              "25763                      2\n",
              "44540                      5\n",
              "28603                      3\n",
              "4372                       5\n",
              "30666                      1\n",
              "6431                       5\n",
              "57420                      3\n",
              "1373                       1\n",
              "2026                       1\n",
              "58977                      2\n",
              "41101                      1\n",
              "10019                      1"
            ]
          },
          "metadata": {
            "tags": []
          },
          "execution_count": 20
        }
      ]
    },
    {
      "cell_type": "markdown",
      "metadata": {
        "colab_type": "text",
        "id": "Nd-ZWprasqUM"
      },
      "source": [
        "#### Ordinal Encoding, Logistic Regression, Validation Accuracy"
      ]
    },
    {
      "cell_type": "code",
      "metadata": {
        "colab_type": "code",
        "id": "GJ1YpwjvrhfL",
        "outputId": "2be93160-84ae-4590-e30f-b8afae798b55",
        "colab": {
          "base_uri": "https://localhost:8080/",
          "height": 34
        }
      },
      "source": [
        "lr = make_pipeline(\n",
        "    ce.OrdinalEncoder(), \n",
        "    SimpleImputer(), \n",
        "    StandardScaler(), \n",
        "    LogisticRegressionCV(multi_class='auto', solver='lbfgs', cv=5, n_jobs=-1)\n",
        ")\n",
        "\n",
        "lr.fit(X_train[[feature]], y_train)\n",
        "score = lr.score(X_val[[feature]], y_val)\n",
        "print('Logistic Regression, Validation Accuracy', score)"
      ],
      "execution_count": 21,
      "outputs": [
        {
          "output_type": "stream",
          "text": [
            "Logistic Regression, Validation Accuracy 0.5417508417508418\n"
          ],
          "name": "stdout"
        }
      ]
    },
    {
      "cell_type": "markdown",
      "metadata": {
        "colab_type": "text",
        "id": "9lO_R3SksuHs"
      },
      "source": [
        "#### Ordinal Encoding, Decision Tree, Validation Accuracy"
      ]
    },
    {
      "cell_type": "code",
      "metadata": {
        "colab_type": "code",
        "id": "aOELD_roriVI",
        "outputId": "a527d45f-074b-4f2d-ffbe-ec592a91c397",
        "colab": {
          "base_uri": "https://localhost:8080/",
          "height": 34
        }
      },
      "source": [
        "dt = make_pipeline(\n",
        "    ce.OrdinalEncoder(), \n",
        "    SimpleImputer(), \n",
        "    DecisionTreeClassifier(random_state=42)\n",
        ")\n",
        "\n",
        "dt.fit(X_train[[feature]], y_train)\n",
        "score = dt.score(X_val[[feature]], y_val)\n",
        "print('Decision Tree, Validation Accuracy', score)"
      ],
      "execution_count": 22,
      "outputs": [
        {
          "output_type": "stream",
          "text": [
            "Decision Tree, Validation Accuracy 0.6202861952861953\n"
          ],
          "name": "stdout"
        }
      ]
    },
    {
      "cell_type": "markdown",
      "metadata": {
        "colab_type": "text",
        "id": "7V2zHjiwswTg"
      },
      "source": [
        "#### Ordinal Encoding, Logistic Regression, Model Interpretation"
      ]
    },
    {
      "cell_type": "code",
      "metadata": {
        "colab_type": "code",
        "id": "S9UPYPois8QR",
        "outputId": "ae55778a-f777-43d0-a3ae-3b73177b8518",
        "colab": {
          "base_uri": "https://localhost:8080/",
          "height": 265
        }
      },
      "source": [
        "model = lr.named_steps['logisticregressioncv']\n",
        "encoder = lr.named_steps['ordinalencoder']\n",
        "encoded_columns = encoder.transform(X_val[[feature]]).columns\n",
        "coefficients = pd.Series(model.coef_[0], encoded_columns)\n",
        "coefficients.sort_values().plot.barh(color='grey');"
      ],
      "execution_count": 23,
      "outputs": [
        {
          "output_type": "display_data",
          "data": {
            "image/png": "[encoded data removed]",
            "text/plain": [
              "<Figure size 432x288 with 1 Axes>"
            ]
          },
          "metadata": {
            "tags": [],
            "needs_background": "light"
          }
        }
      ]
    },
    {
      "cell_type": "markdown",
      "metadata": {
        "colab_type": "text",
        "id": "MvmmvE8fsymh"
      },
      "source": [
        "#### Ordinal Encoding, Decision Tree, Model Interpretation"
      ]
    },
    {
      "cell_type": "code",
      "metadata": {
        "colab_type": "code",
        "id": "jCvUu4Oms88b",
        "outputId": "6ffffc9e-b5e5-4b4e-d5bf-791fd8a600f1",
        "colab": {
          "base_uri": "https://localhost:8080/",
          "height": 816
        }
      },
      "source": [
        "model = dt.named_steps['decisiontreeclassifier']\n",
        "encoder = dt.named_steps['ordinalencoder']\n",
        "encoded_columns = encoder.transform(X_val[[feature]]).columns\n",
        "\n",
        "dot_data = export_graphviz(model, \n",
        "                           out_file=None, \n",
        "                           max_depth=5, \n",
        "                           feature_names=encoded_columns,\n",
        "                           class_names=model.classes_, \n",
        "                           impurity=False, \n",
        "                           filled=True, \n",
        "                           proportion=True, \n",
        "                           rounded=True)   \n",
        "display(graphviz.Source(dot_data))"
      ],
      "execution_count": 24,
      "outputs": [
        {
          "output_type": "display_data",
          "data": {
            "text/plain": [
              "<graphviz.files.Source at 0x7fb69408c3c8>"
            ],
            "image/svg+xml": "<?xml version=\"1.0\" encoding=\"UTF-8\" standalone=\"no\"?>\n<!DOCTYPE svg PUBLIC \"-//W3C//DTD SVG 1.1//EN\"\n \"http://www.w3.org/Graphics/SVG/1.1/DTD/svg11.dtd\">\n<!-- Generated by graphviz version 2.40.1 (20161225.0304)\n -->\n<!-- Title: Tree Pages: 1 -->\n<svg width=\"1167pt\" height=\"581pt\"\n viewBox=\"0.00 0.00 1167.00 581.00\" xmlns=\"http://www.w3.org/2000/svg\" xmlns:xlink=\"http://www.w3.org/1999/xlink\">\n<g id=\"graph0\" class=\"graph\" transform=\"scale(1 1) rotate(0) translate(4 577)\">\n<title>Tree</title>\n<polygon fill=\"#ffffff\" stroke=\"transparent\" points=\"-4,4 -4,-577 1163,-577 1163,4 -4,4\"/>\n<!-- 0 -->\n<g id=\"node1\" class=\"node\">\n<title>0</title>\n<path fill=\"#f8decc\" stroke=\"#000000\" d=\"M500,-573C500,-573 322,-573 322,-573 316,-573 310,-567 310,-561 310,-561 310,-517 310,-517 310,-511 316,-505 322,-505 322,-505 500,-505 500,-505 506,-505 512,-511 512,-517 512,-517 512,-561 512,-561 512,-567 506,-573 500,-573\"/>\n<text text-anchor=\"middle\" x=\"411\" y=\"-557.8\" font-family=\"Helvetica,sans-Serif\" font-size=\"14.00\" fill=\"#000000\">extraction_type_class &lt;= 2.5</text>\n<text text-anchor=\"middle\" x=\"411\" y=\"-542.8\" font-family=\"Helvetica,sans-Serif\" font-size=\"14.00\" fill=\"#000000\">samples = 100.0%</text>\n<text text-anchor=\"middle\" x=\"411\" y=\"-527.8\" font-family=\"Helvetica,sans-Serif\" font-size=\"14.00\" fill=\"#000000\">value = [0.543, 0.073, 0.384]</text>\n<text text-anchor=\"middle\" x=\"411\" y=\"-512.8\" font-family=\"Helvetica,sans-Serif\" font-size=\"14.00\" fill=\"#000000\">class = functional</text>\n</g>\n<!-- 1 -->\n<g id=\"node2\" class=\"node\">\n<title>1</title>\n<path fill=\"#f4c7a8\" stroke=\"#000000\" d=\"M390,-469C390,-469 212,-469 212,-469 206,-469 200,-463 200,-457 200,-457 200,-413 200,-413 200,-407 206,-401 212,-401 212,-401 390,-401 390,-401 396,-401 402,-407 402,-413 402,-413 402,-457 402,-457 402,-463 396,-469 390,-469\"/>\n<text text-anchor=\"middle\" x=\"301\" y=\"-453.8\" font-family=\"Helvetica,sans-Serif\" font-size=\"14.00\" fill=\"#000000\">extraction_type_class &lt;= 1.5</text>\n<text text-anchor=\"middle\" x=\"301\" y=\"-438.8\" font-family=\"Helvetica,sans-Serif\" font-size=\"14.00\" fill=\"#000000\">samples = 72.9%</text>\n<text text-anchor=\"middle\" x=\"301\" y=\"-423.8\" font-family=\"Helvetica,sans-Serif\" font-size=\"14.00\" fill=\"#000000\">value = [0.611, 0.085, 0.304]</text>\n<text text-anchor=\"middle\" x=\"301\" y=\"-408.8\" font-family=\"Helvetica,sans-Serif\" font-size=\"14.00\" fill=\"#000000\">class = functional</text>\n</g>\n<!-- 0&#45;&gt;1 -->\n<g id=\"edge1\" class=\"edge\">\n<title>0&#45;&gt;1</title>\n<path fill=\"none\" stroke=\"#000000\" d=\"M374.9819,-504.9465C365.2954,-495.7884 354.7136,-485.7838 344.6603,-476.2788\"/>\n<polygon fill=\"#000000\" stroke=\"#000000\" points=\"346.7701,-473.4569 337.099,-469.13 341.961,-478.5434 346.7701,-473.4569\"/>\n<text text-anchor=\"middle\" x=\"337.7997\" y=\"-490.4202\" font-family=\"Helvetica,sans-Serif\" font-size=\"14.00\" fill=\"#000000\">True</text>\n</g>\n<!-- 4 -->\n<g id=\"node5\" class=\"node\">\n<title>4</title>\n<path fill=\"#d0b4f5\" stroke=\"#000000\" d=\"M610,-469C610,-469 432,-469 432,-469 426,-469 420,-463 420,-457 420,-457 420,-413 420,-413 420,-407 426,-401 432,-401 432,-401 610,-401 610,-401 616,-401 622,-407 622,-413 622,-413 622,-457 622,-457 622,-463 616,-469 610,-469\"/>\n<text text-anchor=\"middle\" x=\"521\" y=\"-453.8\" font-family=\"Helvetica,sans-Serif\" font-size=\"14.00\" fill=\"#000000\">extraction_type_class &lt;= 3.5</text>\n<text text-anchor=\"middle\" x=\"521\" y=\"-438.8\" font-family=\"Helvetica,sans-Serif\" font-size=\"14.00\" fill=\"#000000\">samples = 27.1%</text>\n<text text-anchor=\"middle\" x=\"521\" y=\"-423.8\" font-family=\"Helvetica,sans-Serif\" font-size=\"14.00\" fill=\"#000000\">value = [0.361, 0.038, 0.601]</text>\n<text text-anchor=\"middle\" x=\"521\" y=\"-408.8\" font-family=\"Helvetica,sans-Serif\" font-size=\"14.00\" fill=\"#000000\">class = non functional</text>\n</g>\n<!-- 0&#45;&gt;4 -->\n<g id=\"edge4\" class=\"edge\">\n<title>0&#45;&gt;4</title>\n<path fill=\"none\" stroke=\"#000000\" d=\"M447.0181,-504.9465C456.7046,-495.7884 467.2864,-485.7838 477.3397,-476.2788\"/>\n<polygon fill=\"#000000\" stroke=\"#000000\" points=\"480.039,-478.5434 484.901,-469.13 475.2299,-473.4569 480.039,-478.5434\"/>\n<text text-anchor=\"middle\" x=\"484.2003\" y=\"-490.4202\" font-family=\"Helvetica,sans-Serif\" font-size=\"14.00\" fill=\"#000000\">False</text>\n</g>\n<!-- 2 -->\n<g id=\"node3\" class=\"node\">\n<title>2</title>\n<path fill=\"#f4c9aa\" stroke=\"#000000\" d=\"M188,-357.5C188,-357.5 12,-357.5 12,-357.5 6,-357.5 0,-351.5 0,-345.5 0,-345.5 0,-316.5 0,-316.5 0,-310.5 6,-304.5 12,-304.5 12,-304.5 188,-304.5 188,-304.5 194,-304.5 200,-310.5 200,-316.5 200,-316.5 200,-345.5 200,-345.5 200,-351.5 194,-357.5 188,-357.5\"/>\n<text text-anchor=\"middle\" x=\"100\" y=\"-342.3\" font-family=\"Helvetica,sans-Serif\" font-size=\"14.00\" fill=\"#000000\">samples = 45.1%</text>\n<text text-anchor=\"middle\" x=\"100\" y=\"-327.3\" font-family=\"Helvetica,sans-Serif\" font-size=\"14.00\" fill=\"#000000\">value = [0.599, 0.101, 0.299]</text>\n<text text-anchor=\"middle\" x=\"100\" y=\"-312.3\" font-family=\"Helvetica,sans-Serif\" font-size=\"14.00\" fill=\"#000000\">class = functional</text>\n</g>\n<!-- 1&#45;&gt;2 -->\n<g id=\"edge2\" class=\"edge\">\n<title>1&#45;&gt;2</title>\n<path fill=\"none\" stroke=\"#000000\" d=\"M235.1851,-400.9465C211.1292,-388.4997 184.0513,-374.4892 160.4827,-362.2946\"/>\n<polygon fill=\"#000000\" stroke=\"#000000\" points=\"161.7878,-359.0291 151.2978,-357.5422 158.571,-365.2462 161.7878,-359.0291\"/>\n</g>\n<!-- 3 -->\n<g id=\"node4\" class=\"node\">\n<title>3</title>\n<path fill=\"#f3c5a3\" stroke=\"#000000\" d=\"M382,-357.5C382,-357.5 230,-357.5 230,-357.5 224,-357.5 218,-351.5 218,-345.5 218,-345.5 218,-316.5 218,-316.5 218,-310.5 224,-304.5 230,-304.5 230,-304.5 382,-304.5 382,-304.5 388,-304.5 394,-310.5 394,-316.5 394,-316.5 394,-345.5 394,-345.5 394,-351.5 388,-357.5 382,-357.5\"/>\n<text text-anchor=\"middle\" x=\"306\" y=\"-342.3\" font-family=\"Helvetica,sans-Serif\" font-size=\"14.00\" fill=\"#000000\">samples = 27.7%</text>\n<text text-anchor=\"middle\" x=\"306\" y=\"-327.3\" font-family=\"Helvetica,sans-Serif\" font-size=\"14.00\" fill=\"#000000\">value = [0.63, 0.06, 0.31]</text>\n<text text-anchor=\"middle\" x=\"306\" y=\"-312.3\" font-family=\"Helvetica,sans-Serif\" font-size=\"14.00\" fill=\"#000000\">class = functional</text>\n</g>\n<!-- 1&#45;&gt;3 -->\n<g id=\"edge3\" class=\"edge\">\n<title>1&#45;&gt;3</title>\n<path fill=\"none\" stroke=\"#000000\" d=\"M302.6372,-400.9465C303.1509,-390.2621 303.7199,-378.4254 304.2416,-367.5742\"/>\n<polygon fill=\"#000000\" stroke=\"#000000\" points=\"307.7396,-367.6987 304.7239,-357.5422 300.7477,-367.3625 307.7396,-367.6987\"/>\n</g>\n<!-- 5 -->\n<g id=\"node6\" class=\"node\">\n<title>5</title>\n<path fill=\"#9d66eb\" stroke=\"#000000\" d=\"M601,-357.5C601,-357.5 433,-357.5 433,-357.5 427,-357.5 421,-351.5 421,-345.5 421,-345.5 421,-316.5 421,-316.5 421,-310.5 427,-304.5 433,-304.5 433,-304.5 601,-304.5 601,-304.5 607,-304.5 613,-310.5 613,-316.5 613,-316.5 613,-345.5 613,-345.5 613,-351.5 607,-357.5 601,-357.5\"/>\n<text text-anchor=\"middle\" x=\"517\" y=\"-342.3\" font-family=\"Helvetica,sans-Serif\" font-size=\"14.00\" fill=\"#000000\">samples = 10.9%</text>\n<text text-anchor=\"middle\" x=\"517\" y=\"-327.3\" font-family=\"Helvetica,sans-Serif\" font-size=\"14.00\" fill=\"#000000\">value = [0.159, 0.031, 0.81]</text>\n<text text-anchor=\"middle\" x=\"517\" y=\"-312.3\" font-family=\"Helvetica,sans-Serif\" font-size=\"14.00\" fill=\"#000000\">class = non functional</text>\n</g>\n<!-- 4&#45;&gt;5 -->\n<g id=\"edge5\" class=\"edge\">\n<title>4&#45;&gt;5</title>\n<path fill=\"none\" stroke=\"#000000\" d=\"M519.6903,-400.9465C519.2793,-390.2621 518.8241,-378.4254 518.4067,-367.5742\"/>\n<polygon fill=\"#000000\" stroke=\"#000000\" points=\"521.9027,-367.4002 518.0209,-357.5422 514.9079,-367.6693 521.9027,-367.4002\"/>\n</g>\n<!-- 6 -->\n<g id=\"node7\" class=\"node\">\n<title>6</title>\n<path fill=\"#fdf7f2\" stroke=\"#000000\" d=\"M821,-365C821,-365 643,-365 643,-365 637,-365 631,-359 631,-353 631,-353 631,-309 631,-309 631,-303 637,-297 643,-297 643,-297 821,-297 821,-297 827,-297 833,-303 833,-309 833,-309 833,-353 833,-353 833,-359 827,-365 821,-365\"/>\n<text text-anchor=\"middle\" x=\"732\" y=\"-349.8\" font-family=\"Helvetica,sans-Serif\" font-size=\"14.00\" fill=\"#000000\">extraction_type_class &lt;= 4.5</text>\n<text text-anchor=\"middle\" x=\"732\" y=\"-334.8\" font-family=\"Helvetica,sans-Serif\" font-size=\"14.00\" fill=\"#000000\">samples = 16.2%</text>\n<text text-anchor=\"middle\" x=\"732\" y=\"-319.8\" font-family=\"Helvetica,sans-Serif\" font-size=\"14.00\" fill=\"#000000\">value = [0.497, 0.043, 0.46]</text>\n<text text-anchor=\"middle\" x=\"732\" y=\"-304.8\" font-family=\"Helvetica,sans-Serif\" font-size=\"14.00\" fill=\"#000000\">class = functional</text>\n</g>\n<!-- 4&#45;&gt;6 -->\n<g id=\"edge6\" class=\"edge\">\n<title>4&#45;&gt;6</title>\n<path fill=\"none\" stroke=\"#000000\" d=\"M590.0893,-400.9465C610.4002,-390.9354 632.7633,-379.9129 653.6112,-369.6371\"/>\n<polygon fill=\"#000000\" stroke=\"#000000\" points=\"655.3332,-372.6905 662.7555,-365.13 652.2385,-366.4117 655.3332,-372.6905\"/>\n</g>\n<!-- 7 -->\n<g id=\"node8\" class=\"node\">\n<title>7</title>\n<path fill=\"#d8c1f7\" stroke=\"#000000\" d=\"M710,-253.5C710,-253.5 534,-253.5 534,-253.5 528,-253.5 522,-247.5 522,-241.5 522,-241.5 522,-212.5 522,-212.5 522,-206.5 528,-200.5 534,-200.5 534,-200.5 710,-200.5 710,-200.5 716,-200.5 722,-206.5 722,-212.5 722,-212.5 722,-241.5 722,-241.5 722,-247.5 716,-253.5 710,-253.5\"/>\n<text text-anchor=\"middle\" x=\"622\" y=\"-238.3\" font-family=\"Helvetica,sans-Serif\" font-size=\"14.00\" fill=\"#000000\">samples = 5.0%</text>\n<text text-anchor=\"middle\" x=\"622\" y=\"-223.3\" font-family=\"Helvetica,sans-Serif\" font-size=\"14.00\" fill=\"#000000\">value = [0.381, 0.045, 0.574]</text>\n<text text-anchor=\"middle\" x=\"622\" y=\"-208.3\" font-family=\"Helvetica,sans-Serif\" font-size=\"14.00\" fill=\"#000000\">class = non functional</text>\n</g>\n<!-- 6&#45;&gt;7 -->\n<g id=\"edge7\" class=\"edge\">\n<title>6&#45;&gt;7</title>\n<path fill=\"none\" stroke=\"#000000\" d=\"M695.9819,-296.9465C683.6325,-285.2707 669.8278,-272.219 657.5183,-260.5809\"/>\n<polygon fill=\"#000000\" stroke=\"#000000\" points=\"659.7445,-257.869 650.0734,-253.5422 654.9354,-262.9556 659.7445,-257.869\"/>\n</g>\n<!-- 8 -->\n<g id=\"node9\" class=\"node\">\n<title>8</title>\n<path fill=\"#f9e2d1\" stroke=\"#000000\" d=\"M930,-261C930,-261 752,-261 752,-261 746,-261 740,-255 740,-249 740,-249 740,-205 740,-205 740,-199 746,-193 752,-193 752,-193 930,-193 930,-193 936,-193 942,-199 942,-205 942,-205 942,-249 942,-249 942,-255 936,-261 930,-261\"/>\n<text text-anchor=\"middle\" x=\"841\" y=\"-245.8\" font-family=\"Helvetica,sans-Serif\" font-size=\"14.00\" fill=\"#000000\">extraction_type_class &lt;= 5.5</text>\n<text text-anchor=\"middle\" x=\"841\" y=\"-230.8\" font-family=\"Helvetica,sans-Serif\" font-size=\"14.00\" fill=\"#000000\">samples = 11.2%</text>\n<text text-anchor=\"middle\" x=\"841\" y=\"-215.8\" font-family=\"Helvetica,sans-Serif\" font-size=\"14.00\" fill=\"#000000\">value = [0.548, 0.042, 0.41]</text>\n<text text-anchor=\"middle\" x=\"841\" y=\"-200.8\" font-family=\"Helvetica,sans-Serif\" font-size=\"14.00\" fill=\"#000000\">class = functional</text>\n</g>\n<!-- 6&#45;&gt;8 -->\n<g id=\"edge8\" class=\"edge\">\n<title>6&#45;&gt;8</title>\n<path fill=\"none\" stroke=\"#000000\" d=\"M767.6907,-296.9465C777.2891,-287.7884 787.7747,-277.7838 797.7366,-268.2788\"/>\n<polygon fill=\"#000000\" stroke=\"#000000\" points=\"800.4102,-270.5655 805.2291,-261.13 795.5779,-265.5009 800.4102,-270.5655\"/>\n</g>\n<!-- 9 -->\n<g id=\"node10\" class=\"node\">\n<title>9</title>\n<path fill=\"#f9e4d5\" stroke=\"#000000\" d=\"M819,-149.5C819,-149.5 643,-149.5 643,-149.5 637,-149.5 631,-143.5 631,-137.5 631,-137.5 631,-108.5 631,-108.5 631,-102.5 637,-96.5 643,-96.5 643,-96.5 819,-96.5 819,-96.5 825,-96.5 831,-102.5 831,-108.5 831,-108.5 831,-137.5 831,-137.5 831,-143.5 825,-149.5 819,-149.5\"/>\n<text text-anchor=\"middle\" x=\"731\" y=\"-134.3\" font-family=\"Helvetica,sans-Serif\" font-size=\"14.00\" fill=\"#000000\">samples = 10.3%</text>\n<text text-anchor=\"middle\" x=\"731\" y=\"-119.3\" font-family=\"Helvetica,sans-Serif\" font-size=\"14.00\" fill=\"#000000\">value = [0.541, 0.042, 0.416]</text>\n<text text-anchor=\"middle\" x=\"731\" y=\"-104.3\" font-family=\"Helvetica,sans-Serif\" font-size=\"14.00\" fill=\"#000000\">class = functional</text>\n</g>\n<!-- 8&#45;&gt;9 -->\n<g id=\"edge9\" class=\"edge\">\n<title>8&#45;&gt;9</title>\n<path fill=\"none\" stroke=\"#000000\" d=\"M804.9819,-192.9465C792.6325,-181.2707 778.8278,-168.219 766.5183,-156.5809\"/>\n<polygon fill=\"#000000\" stroke=\"#000000\" points=\"768.7445,-153.869 759.0734,-149.5422 763.9354,-158.9556 768.7445,-153.869\"/>\n</g>\n<!-- 10 -->\n<g id=\"node11\" class=\"node\">\n<title>10</title>\n<path fill=\"#f4cbad\" stroke=\"#000000\" d=\"M1039,-157C1039,-157 861,-157 861,-157 855,-157 849,-151 849,-145 849,-145 849,-101 849,-101 849,-95 855,-89 861,-89 861,-89 1039,-89 1039,-89 1045,-89 1051,-95 1051,-101 1051,-101 1051,-145 1051,-145 1051,-151 1045,-157 1039,-157\"/>\n<text text-anchor=\"middle\" x=\"950\" y=\"-141.8\" font-family=\"Helvetica,sans-Serif\" font-size=\"14.00\" fill=\"#000000\">extraction_type_class &lt;= 6.5</text>\n<text text-anchor=\"middle\" x=\"950\" y=\"-126.8\" font-family=\"Helvetica,sans-Serif\" font-size=\"14.00\" fill=\"#000000\">samples = 0.9%</text>\n<text text-anchor=\"middle\" x=\"950\" y=\"-111.8\" font-family=\"Helvetica,sans-Serif\" font-size=\"14.00\" fill=\"#000000\">value = [0.614, 0.043, 0.343]</text>\n<text text-anchor=\"middle\" x=\"950\" y=\"-96.8\" font-family=\"Helvetica,sans-Serif\" font-size=\"14.00\" fill=\"#000000\">class = functional</text>\n</g>\n<!-- 8&#45;&gt;10 -->\n<g id=\"edge10\" class=\"edge\">\n<title>8&#45;&gt;10</title>\n<path fill=\"none\" stroke=\"#000000\" d=\"M876.6907,-192.9465C886.2891,-183.7884 896.7747,-173.7838 906.7366,-164.2788\"/>\n<polygon fill=\"#000000\" stroke=\"#000000\" points=\"909.4102,-166.5655 914.2291,-157.13 904.5779,-161.5009 909.4102,-166.5655\"/>\n</g>\n<!-- 11 -->\n<g id=\"node12\" class=\"node\">\n<title>11</title>\n<path fill=\"#f2bf9b\" stroke=\"#000000\" d=\"M929,-53C929,-53 753,-53 753,-53 747,-53 741,-47 741,-41 741,-41 741,-12 741,-12 741,-6 747,0 753,0 753,0 929,0 929,0 935,0 941,-6 941,-12 941,-12 941,-41 941,-41 941,-47 935,-53 929,-53\"/>\n<text text-anchor=\"middle\" x=\"841\" y=\"-37.8\" font-family=\"Helvetica,sans-Serif\" font-size=\"14.00\" fill=\"#000000\">samples = 0.7%</text>\n<text text-anchor=\"middle\" x=\"841\" y=\"-22.8\" font-family=\"Helvetica,sans-Serif\" font-size=\"14.00\" fill=\"#000000\">value = [0.657, 0.037, 0.306]</text>\n<text text-anchor=\"middle\" x=\"841\" y=\"-7.8\" font-family=\"Helvetica,sans-Serif\" font-size=\"14.00\" fill=\"#000000\">class = functional</text>\n</g>\n<!-- 10&#45;&gt;11 -->\n<g id=\"edge11\" class=\"edge\">\n<title>10&#45;&gt;11</title>\n<path fill=\"none\" stroke=\"#000000\" d=\"M911.5707,-88.9777C900.9173,-79.546 889.3641,-69.3178 878.7499,-59.9208\"/>\n<polygon fill=\"#000000\" stroke=\"#000000\" points=\"881.0207,-57.2566 871.2133,-53.2485 876.3806,-62.4978 881.0207,-57.2566\"/>\n</g>\n<!-- 12 -->\n<g id=\"node13\" class=\"node\">\n<title>12</title>\n<path fill=\"#f8f3fd\" stroke=\"#000000\" d=\"M1147,-53C1147,-53 971,-53 971,-53 965,-53 959,-47 959,-41 959,-41 959,-12 959,-12 959,-6 965,0 971,0 971,0 1147,0 1147,0 1153,0 1159,-6 1159,-12 1159,-12 1159,-41 1159,-41 1159,-47 1153,-53 1147,-53\"/>\n<text text-anchor=\"middle\" x=\"1059\" y=\"-37.8\" font-family=\"Helvetica,sans-Serif\" font-size=\"14.00\" fill=\"#000000\">samples = 0.2%</text>\n<text text-anchor=\"middle\" x=\"1059\" y=\"-22.8\" font-family=\"Helvetica,sans-Serif\" font-size=\"14.00\" fill=\"#000000\">value = [0.452, 0.065, 0.484]</text>\n<text text-anchor=\"middle\" x=\"1059\" y=\"-7.8\" font-family=\"Helvetica,sans-Serif\" font-size=\"14.00\" fill=\"#000000\">class = non functional</text>\n</g>\n<!-- 10&#45;&gt;12 -->\n<g id=\"edge12\" class=\"edge\">\n<title>10&#45;&gt;12</title>\n<path fill=\"none\" stroke=\"#000000\" d=\"M988.4293,-88.9777C999.0827,-79.546 1010.6359,-69.3178 1021.2501,-59.9208\"/>\n<polygon fill=\"#000000\" stroke=\"#000000\" points=\"1023.6194,-62.4978 1028.7867,-53.2485 1018.9793,-57.2566 1023.6194,-62.4978\"/>\n</g>\n</g>\n</svg>\n"
          },
          "metadata": {
            "tags": []
          }
        }
      ]
    },
    {
      "cell_type": "markdown",
      "metadata": {
        "colab_type": "text",
        "id": "P4EJi2GvgLVa"
      },
      "source": [
        "# Understand how tree ensembles reduce overfitting compared to a single decision tree with unlimited depth"
      ]
    },
    {
      "cell_type": "markdown",
      "metadata": {
        "id": "DiXhz4qk0MVp",
        "colab_type": "text"
      },
      "source": [
        "## Overview"
      ]
    },
    {
      "cell_type": "markdown",
      "metadata": {
        "colab_type": "text",
        "id": "0nNABF3HgLVg"
      },
      "source": [
        "### What's \"random\" about random forests?\n",
        "1. Each tree trains on a random bootstrap sample of the data. (In scikit-learn, for `RandomForestRegressor` and `RandomForestClassifier`, the `bootstrap` parameter's default is `True`.) This type of ensembling is called Bagging. (Bootstrap AGGregatING.)\n",
        "2. Each split considers a random subset of the features. (In scikit-learn, when the `max_features` parameter is not `None`.) \n",
        "\n",
        "For extra randomness, you can try [\"extremely randomized trees\"](https://scikit-learn.org/stable/modules/ensemble.html#extremely-randomized-trees)!\n",
        "\n",
        ">In extremely randomized trees (see [ExtraTreesClassifier](https://scikit-learn.org/stable/modules/generated/sklearn.ensemble.ExtraTreesClassifier.html) and [ExtraTreesRegressor](https://scikit-learn.org/stable/modules/generated/sklearn.ensemble.ExtraTreesRegressor.html) classes), randomness goes one step further in the way splits are computed. As in random forests, a random subset of candidate features is used, but instead of looking for the most discriminative thresholds, thresholds are drawn at random for each candidate feature and the best of these randomly-generated thresholds is picked as the splitting rule. This usually allows to reduce the variance of the model a bit more, at the expense of a slightly greater increase in bias"
      ]
    },
    {
      "cell_type": "markdown",
      "metadata": {
        "id": "Pe8pw44o0MVq",
        "colab_type": "text"
      },
      "source": [
        "## Follow Along"
      ]
    },
    {
      "cell_type": "markdown",
      "metadata": {
        "colab_type": "text",
        "id": "pUYP619CgLVb"
      },
      "source": [
        "### Example: [predicting golf putts](https://statmodeling.stat.columbia.edu/2008/12/04/the_golf_puttin/)\n",
        "(1 feature, non-linear, regression)"
      ]
    },
    {
      "cell_type": "code",
      "metadata": {
        "colab_type": "code",
        "id": "b4640ukxgLVc",
        "colab": {}
      },
      "source": [
        "putts = pd.DataFrame(\n",
        "    columns=['distance', 'tries', 'successes'], \n",
        "    data = [[2, 1443, 1346],\n",
        "            [3, 694, 577],\n",
        "            [4, 455, 337],\n",
        "            [5, 353, 208],\n",
        "            [6, 272, 149],\n",
        "            [7, 256, 136],\n",
        "            [8, 240, 111],\n",
        "            [9, 217, 69],\n",
        "            [10, 200, 67],\n",
        "            [11, 237, 75],\n",
        "            [12, 202, 52],\n",
        "            [13, 192, 46],\n",
        "            [14, 174, 54],\n",
        "            [15, 167, 28],\n",
        "            [16, 201, 27],\n",
        "            [17, 195, 31],\n",
        "            [18, 191, 33],\n",
        "            [19, 147, 20],\n",
        "            [20, 152, 24]]\n",
        ")\n",
        "\n",
        "putts['rate of success'] = putts['successes'] / putts['tries']\n",
        "putts_X = putts[['distance']]\n",
        "putts_y = putts['rate of success']"
      ],
      "execution_count": 0,
      "outputs": []
    },
    {
      "cell_type": "code",
      "metadata": {
        "colab_type": "code",
        "id": "T0IpCcKggLVd",
        "outputId": "6c3ff04a-a49b-4591-d277-cedfacf9caeb",
        "colab": {
          "base_uri": "https://localhost:8080/",
          "height": 637,
          "referenced_widgets": [
            "955da81e4d9c4dfeab82bc56abf27a72",
            "20241bca031e4485a129f2013fdf12c2",
            "5feb9fde870d40e698296ab7a65dab47",
            "30e39a38bbca4f2a976e615c317ba64d",
            "fdda54f90de44d42a1567d98c471e306",
            "855b7a34c70c4f45b2069473e5e118e4",
            "630048f0c48f48019918056410172cdb",
            "3e5a590f4ef040b39720a30af48b1c55",
            "dc6ab6944f1b4ca3ba1c467b95f200f2",
            "0ba8570dfda04ac3a268f743f2244674"
          ]
        }
      },
      "source": [
        "%matplotlib inline\n",
        "import matplotlib.pyplot as plt\n",
        "from ipywidgets import interact\n",
        "from sklearn.ensemble import RandomForestRegressor\n",
        "from sklearn.tree import DecisionTreeRegressor\n",
        "\n",
        "def putt_trees(max_depth=1, n_estimators=1):\n",
        "    models = [DecisionTreeRegressor(max_depth=max_depth), \n",
        "              RandomForestRegressor(max_depth=max_depth, n_estimators=n_estimators)]\n",
        "    \n",
        "    for model in models:\n",
        "        name = model.__class__.__name__\n",
        "        model.fit(putts_X, putts_y)\n",
        "        ax = putts.plot('distance', 'rate of success', kind='scatter', title=name)\n",
        "        ax.step(putts_X, model.predict(putts_X), where='mid')\n",
        "        plt.show()\n",
        "        \n",
        "interact(putt_trees, max_depth=(1,6,1), n_estimators=(10,40,10));"
      ],
      "execution_count": 26,
      "outputs": [
        {
          "output_type": "display_data",
          "data": {
            "application/vnd.jupyter.widget-view+json": {
              "model_id": "955da81e4d9c4dfeab82bc56abf27a72",
              "version_minor": 0,
              "version_major": 2
            },
            "text/plain": [
              "interactive(children=(IntSlider(value=1, description='max_depth', max=6, min=1), IntSlider(value=10, descripti…"
            ]
          },
          "metadata": {
            "tags": []
          }
        }
      ]
    },
    {
      "cell_type": "markdown",
      "metadata": {
        "colab_type": "text",
        "id": "_KgZK9_9gLVh"
      },
      "source": [
        "### Bagging demo, with golf putts data\n",
        "https://pandas.pydata.org/pandas-docs/stable/reference/api/pandas.DataFrame.sample.html"
      ]
    },
    {
      "cell_type": "code",
      "metadata": {
        "colab_type": "code",
        "id": "vA9mrSTNgLVi",
        "outputId": "1444447a-9711-4e35-8027-e3b1856168c0",
        "scrolled": false,
        "colab": {
          "base_uri": "https://localhost:8080/",
          "height": 915,
          "referenced_widgets": [
            "1dde0c47cd5a4d559ea3082eb088d3d7",
            "dbde8e6daf7445df9f37f7275804ee86",
            "d95cdf38e22b44cfb0a06c757d162295",
            "301840b8158d4aa2bf699cb97096c65f",
            "9bdf24c40d874c468784ad71cf33af45",
            "63b8e0fabced4fe79a68ae5e5560a83d",
            "2cc371dc0788437c902b1acb20701e77",
            "b28be6d5a00e4136a945f3881b67fb97",
            "44709da13f614e93819dcf73c946c71b",
            "12d07cda4807450f895045f87fe811ff"
          ]
        }
      },
      "source": [
        "# Do-it-yourself Bagging Ensemble of Decision Trees (like a Random Forest)\n",
        "def diy_bagging(max_depth=1, n_estimators=1):\n",
        "    y_preds = []\n",
        "    for i in range(n_estimators):\n",
        "        title = f'Tree {i+1}'\n",
        "        bootstrap_sample = putts.sample(n=len(putts), replace=True).sort_values(by='distance')\n",
        "        bootstrap_X = bootstrap_sample[['distance']]\n",
        "        bootstrap_y = bootstrap_sample['rate of success']\n",
        "        tree = DecisionTreeRegressor(max_depth=max_depth)\n",
        "        tree.fit(bootstrap_X, bootstrap_y)\n",
        "        y_pred = tree.predict(putts_X)\n",
        "        y_preds.append(y_pred)\n",
        "        ax = bootstrap_sample.plot('distance', 'rate of success', kind='scatter', title=title)\n",
        "        ax.step(bootstrap_X, y_pred, where='mid')\n",
        "        plt.show()\n",
        "        \n",
        "    ensembled = np.vstack(y_preds).mean(axis=0)\n",
        "    title = f'Ensemble of {n_estimators} trees, with max_depth={max_depth}'\n",
        "    ax = putts.plot('distance', 'rate of success', kind='scatter', title=title)\n",
        "    ax.step(putts_X, ensembled, where='mid')\n",
        "    plt.show()\n",
        "    \n",
        "interact(diy_bagging, max_depth=(1,6,1), n_estimators=(2,5,1));"
      ],
      "execution_count": 27,
      "outputs": [
        {
          "output_type": "display_data",
          "data": {
            "application/vnd.jupyter.widget-view+json": {
              "model_id": "1dde0c47cd5a4d559ea3082eb088d3d7",
              "version_minor": 0,
              "version_major": 2
            },
            "text/plain": [
              "interactive(children=(IntSlider(value=1, description='max_depth', max=6, min=1), IntSlider(value=2, descriptio…"
            ]
          },
          "metadata": {
            "tags": []
          }
        }
      ]
    },
    {
      "cell_type": "markdown",
      "metadata": {
        "colab_type": "text",
        "id": "rq4Z_wQ_gLVj"
      },
      "source": [
        "### Go back to Tanzania Waterpumps ..."
      ]
    },
    {
      "cell_type": "markdown",
      "metadata": {
        "colab_type": "text",
        "id": "FoSE9iT6YXQz"
      },
      "source": [
        "#### Helper function to visualize predicted probabilities\n",
        "\n"
      ]
    },
    {
      "cell_type": "code",
      "metadata": {
        "colab_type": "code",
        "id": "HzIAjGpJgLVj",
        "colab": {}
      },
      "source": [
        "import itertools\n",
        "import seaborn as sns\n",
        "\n",
        "def pred_heatmap(model, X, features, class_index=-1, title='', num=100):\n",
        "    \"\"\"\n",
        "    Visualize predicted probabilities, for classifier fit on 2 numeric features\n",
        "    \n",
        "    Parameters\n",
        "    ----------\n",
        "    model : scikit-learn classifier, already fit\n",
        "    X : pandas dataframe, which was used to fit model\n",
        "    features : list of strings, column names of the 2 numeric features\n",
        "    class_index : integer, index of class label\n",
        "    title : string, title of plot\n",
        "    num : int, number of grid points for each feature\n",
        "    \n",
        "    Returns\n",
        "    -------\n",
        "    y_pred_proba : numpy array, predicted probabilities for class_index\n",
        "    \"\"\"\n",
        "    feature1, feature2 = features\n",
        "    min1, max1 = X[feature1].min(), X[feature1].max()\n",
        "    min2, max2 = X[feature2].min(), X[feature2].max()\n",
        "    x1 = np.linspace(min1, max1, num)\n",
        "    x2 = np.linspace(max2, min2, num)\n",
        "    combos = list(itertools.product(x1, x2))\n",
        "    y_pred_proba = model.predict_proba(combos)[:, class_index]\n",
        "    pred_grid = y_pred_proba.reshape(num, num).T\n",
        "    table = pd.DataFrame(pred_grid, columns=x1, index=x2)\n",
        "    sns.heatmap(table, vmin=0, vmax=1)\n",
        "    plt.xticks([])\n",
        "    plt.yticks([])\n",
        "    plt.xlabel(feature1)\n",
        "    plt.ylabel(feature2)\n",
        "    plt.title(title)\n",
        "    plt.show()\n",
        "    return y_pred_proba\n"
      ],
      "execution_count": 0,
      "outputs": []
    },
    {
      "cell_type": "markdown",
      "metadata": {
        "colab_type": "text",
        "id": "DiRfPqHjgLVl"
      },
      "source": [
        "### Compare Decision Tree, Random Forest, Logistic Regression"
      ]
    },
    {
      "cell_type": "code",
      "metadata": {
        "colab_type": "code",
        "id": "HKkMLXhMgLVl",
        "outputId": "35b43d0e-ba4b-4174-c5ab-9e94ee9478b6",
        "colab": {
          "base_uri": "https://localhost:8080/",
          "height": 864,
          "referenced_widgets": [
            "8327cc0c826f459aa5b17f129cf1d309",
            "c96ebaf32be6481aab363f5ee957597e",
            "170fa9aafa12492b98b5da75300aecf6",
            "69a1a205c9f040cbb5ab5c2c7a8e6997",
            "74d65a5730d24653bdc2d02440740635",
            "e7794fc691a44dc382b42bd66ee14853",
            "d771240dc1dd4d3cbaa433d43d608f91",
            "7ed829a43cae4bfeb6ad03c0abf0b636",
            "ba00e8cbe5db4e87a691e8d899cb1f19",
            "8133d164d9f34d6ea0fd77fdfa45b72b"
          ]
        }
      },
      "source": [
        "# Instructions\n",
        "# 1. Choose two features\n",
        "# 2. Run this code cell\n",
        "# 3. Interact with the widget sliders\n",
        "feature1 = 'longitude'\n",
        "feature2 = 'quantity'\n",
        "\n",
        "from sklearn.linear_model import LogisticRegression\n",
        "from sklearn.tree import DecisionTreeClassifier\n",
        "\n",
        "def get_X_y(df, feature1, feature2, target):\n",
        "    features = [feature1, feature2]\n",
        "    X = df[features]\n",
        "    y = df[target]\n",
        "    X = X.fillna(X.median())\n",
        "    X = ce.OrdinalEncoder().fit_transform(X)\n",
        "    return X, y\n",
        "\n",
        "def compare_models(max_depth=1, n_estimators=1):\n",
        "    models = [DecisionTreeClassifier(max_depth=max_depth), \n",
        "              RandomForestClassifier(max_depth=max_depth, n_estimators=n_estimators), \n",
        "              LogisticRegression(solver='lbfgs', multi_class='auto')]\n",
        "    \n",
        "    for model in models:\n",
        "        name = model.__class__.__name__\n",
        "        model.fit(X, y)\n",
        "        pred_heatmap(model, X, [feature1, feature2], class_index=0, title=name)\n",
        "\n",
        "X, y = get_X_y(train, feature1, feature2, target='status_group')\n",
        "interact(compare_models, max_depth=(1,6,1), n_estimators=(10,40,10));"
      ],
      "execution_count": 29,
      "outputs": [
        {
          "output_type": "display_data",
          "data": {
            "application/vnd.jupyter.widget-view+json": {
              "model_id": "8327cc0c826f459aa5b17f129cf1d309",
              "version_minor": 0,
              "version_major": 2
            },
            "text/plain": [
              "interactive(children=(IntSlider(value=1, description='max_depth', max=6, min=1), IntSlider(value=10, descripti…"
            ]
          },
          "metadata": {
            "tags": []
          }
        }
      ]
    },
    {
      "cell_type": "markdown",
      "metadata": {
        "colab_type": "text",
        "id": "hOQqjLEDgLVn"
      },
      "source": [
        "### Bagging"
      ]
    },
    {
      "cell_type": "code",
      "metadata": {
        "colab_type": "code",
        "id": "Hm4aPgs2gLVn",
        "outputId": "c4713101-5447-43ba-890c-bcf02d1207fd",
        "colab": {
          "base_uri": "https://localhost:8080/",
          "height": 864,
          "referenced_widgets": [
            "4be92b52d37e4c9cbfddc8519c94ac66",
            "d9e103771edf41aea13a911e632b461d",
            "c1f888f2e99242f38357df2598e4ab0d",
            "1e8cde5debda4a3fadb33d9c6fcc97ef",
            "1a415cc150f44a14b21b70df8849e5a7",
            "89c12a9d44d74e8aa7f752204209561f",
            "c763cf818e094e48a3a14c3b0cdef737",
            "df67d1f86b114bdc8f863386e9a3537a",
            "f1d5e42717e340a9b2ddd66f8dc0075d",
            "f1c87963b7a645e18531969b7dc8c3eb"
          ]
        }
      },
      "source": [
        "# Do-it-yourself Bagging Ensemble of Decision Trees (like a Random Forest)\n",
        "\n",
        "# Instructions\n",
        "# 1. Choose two features\n",
        "# 2. Run this code cell\n",
        "# 3. Interact with the widget sliders\n",
        "\n",
        "feature1 = 'longitude'\n",
        "feature2 = 'latitude'\n",
        "\n",
        "def waterpumps_bagging(max_depth=1, n_estimators=1):\n",
        "    predicteds = []\n",
        "    for i in range(n_estimators):\n",
        "        title = f'Tree {i+1}'\n",
        "        bootstrap_sample = train.sample(n=len(train), replace=True)\n",
        "        X, y = get_X_y(bootstrap_sample, feature1, feature2, target='status_group')\n",
        "        tree = DecisionTreeClassifier(max_depth=max_depth)\n",
        "        tree.fit(X, y)\n",
        "        predicted = pred_heatmap(tree, X, [feature1, feature2], class_index=0, title=title)\n",
        "        predicteds.append(predicted)\n",
        "    \n",
        "    ensembled = np.vstack(predicteds).mean(axis=0)\n",
        "    title = f'Ensemble of {n_estimators} trees, with max_depth={max_depth}'\n",
        "    sns.heatmap(ensembled.reshape(100, 100).T, vmin=0, vmax=1)\n",
        "    plt.title(title)\n",
        "    plt.xlabel(feature1)\n",
        "    plt.ylabel(feature2)\n",
        "    plt.xticks([])\n",
        "    plt.yticks([])\n",
        "    plt.show()\n",
        "        \n",
        "interact(waterpumps_bagging, max_depth=(1,6,1), n_estimators=(2,5,1));"
      ],
      "execution_count": 30,
      "outputs": [
        {
          "output_type": "display_data",
          "data": {
            "application/vnd.jupyter.widget-view+json": {
              "model_id": "4be92b52d37e4c9cbfddc8519c94ac66",
              "version_minor": 0,
              "version_major": 2
            },
            "text/plain": [
              "interactive(children=(IntSlider(value=1, description='max_depth', max=6, min=1), IntSlider(value=2, descriptio…"
            ]
          },
          "metadata": {
            "tags": []
          }
        }
      ]
    },
    {
      "cell_type": "markdown",
      "metadata": {
        "colab_type": "text",
        "id": "wYoSBi15akWP"
      },
      "source": [
        "# Review\n",
        "\n",
        "#### Try Tree Ensembles when you do machine learning with labeled, tabular data\n",
        "- \"Tree Ensembles\" means Random Forest or Gradient Boosting models. \n",
        "- [Tree Ensembles often have the best predictive accuracy](https://arxiv.org/abs/1708.05070) with labeled, tabular data.\n",
        "- Why? Because trees can fit non-linear, non-[monotonic](https://en.wikipedia.org/wiki/Monotonic_function) relationships, and [interactions](https://christophm.github.io/interpretable-ml-book/interaction.html) between features.\n",
        "- A single decision tree, grown to unlimited depth, will [overfit](http://www.r2d3.us/visual-intro-to-machine-learning-part-1/). We solve this problem by ensembling trees, with bagging (Random Forest) or boosting (Gradient Boosting).\n",
        "- Random Forest's advantage: may be less sensitive to hyperparameters. Gradient Boosting's advantage: may get better predictive accuracy.\n",
        "\n",
        "#### One-hot encoding isn’t the only way, and may not be the best way, of categorical encoding for tree ensembles.\n",
        "- For example, tree ensembles can work with arbitrary \"ordinal\" encoding! (Randomly assigning an integer to each category.) Compared to one-hot encoding, the dimensionality will be lower, and the predictive accuracy may be just as good or even better.\n"
      ]
    }
  ]
}