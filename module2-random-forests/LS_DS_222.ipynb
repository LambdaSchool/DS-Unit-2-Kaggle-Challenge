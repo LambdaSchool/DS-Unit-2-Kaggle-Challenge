{
  "nbformat": 4,
  "nbformat_minor": 0,
  "metadata": {
    "kernelspec": {
      "display_name": "Python 3",
      "language": "python",
      "name": "python3"
    },
    "language_info": {
      "codemirror_mode": {
        "name": "ipython",
        "version": 3
      },
      "file_extension": ".py",
      "mimetype": "text/x-python",
      "name": "python",
      "nbconvert_exporter": "python",
      "pygments_lexer": "ipython3",
      "version": "3.7.3"
    },
    "colab": {
      "name": "LS_DS_222.ipynb",
      "provenance": []
    },
    "widgets": {
      "application/vnd.jupyter.widget-state+json": {
        "58a12875b0994550becf0aa7e55c93f5": {
          "model_module": "@jupyter-widgets/controls",
          "model_name": "VBoxModel",
          "state": {
            "_view_name": "VBoxView",
            "_dom_classes": [
              "widget-interact"
            ],
            "_model_name": "VBoxModel",
            "_view_module": "@jupyter-widgets/controls",
            "_model_module_version": "1.5.0",
            "_view_count": null,
            "_view_module_version": "1.5.0",
            "box_style": "",
            "layout": "IPY_MODEL_6e2fa183d1e94ecb93e4a237043c6384",
            "_model_module": "@jupyter-widgets/controls",
            "children": [
              "IPY_MODEL_1e7b157f231143418877a2291d5c27f5",
              "IPY_MODEL_0da3a383769942159cd1ef3dd94a489c",
              "IPY_MODEL_75519c15c7614de897a5f13a0a2dbc35"
            ]
          }
        },
        "6e2fa183d1e94ecb93e4a237043c6384": {
          "model_module": "@jupyter-widgets/base",
          "model_name": "LayoutModel",
          "state": {
            "_view_name": "LayoutView",
            "grid_template_rows": null,
            "right": null,
            "justify_content": null,
            "_view_module": "@jupyter-widgets/base",
            "overflow": null,
            "_model_module_version": "1.2.0",
            "_view_count": null,
            "flex_flow": null,
            "width": null,
            "min_width": null,
            "border": null,
            "align_items": null,
            "bottom": null,
            "_model_module": "@jupyter-widgets/base",
            "top": null,
            "grid_column": null,
            "overflow_y": null,
            "overflow_x": null,
            "grid_auto_flow": null,
            "grid_area": null,
            "grid_template_columns": null,
            "flex": null,
            "_model_name": "LayoutModel",
            "justify_items": null,
            "grid_row": null,
            "max_height": null,
            "align_content": null,
            "visibility": null,
            "align_self": null,
            "height": null,
            "min_height": null,
            "padding": null,
            "grid_auto_rows": null,
            "grid_gap": null,
            "max_width": null,
            "order": null,
            "_view_module_version": "1.2.0",
            "grid_template_areas": null,
            "object_position": null,
            "object_fit": null,
            "grid_auto_columns": null,
            "margin": null,
            "display": null,
            "left": null
          }
        },
        "1e7b157f231143418877a2291d5c27f5": {
          "model_module": "@jupyter-widgets/controls",
          "model_name": "IntSliderModel",
          "state": {
            "_view_name": "IntSliderView",
            "style": "IPY_MODEL_8b97867b79cb4563bf3fc426970fbc91",
            "_dom_classes": [],
            "description": "max_depth",
            "step": 1,
            "_model_name": "IntSliderModel",
            "orientation": "horizontal",
            "max": 6,
            "_view_module": "@jupyter-widgets/controls",
            "_model_module_version": "1.5.0",
            "value": 1,
            "_view_count": null,
            "disabled": false,
            "_view_module_version": "1.5.0",
            "min": 1,
            "continuous_update": true,
            "readout_format": "d",
            "description_tooltip": null,
            "readout": true,
            "_model_module": "@jupyter-widgets/controls",
            "layout": "IPY_MODEL_751e0ad88f2a4a98b04a2fe456fea5b6"
          }
        },
        "0da3a383769942159cd1ef3dd94a489c": {
          "model_module": "@jupyter-widgets/controls",
          "model_name": "IntSliderModel",
          "state": {
            "_view_name": "IntSliderView",
            "style": "IPY_MODEL_4d665b20f0c9401fbd68d57a88cc2da7",
            "_dom_classes": [],
            "description": "n_estimators",
            "step": 10,
            "_model_name": "IntSliderModel",
            "orientation": "horizontal",
            "max": 40,
            "_view_module": "@jupyter-widgets/controls",
            "_model_module_version": "1.5.0",
            "value": 20,
            "_view_count": null,
            "disabled": false,
            "_view_module_version": "1.5.0",
            "min": 10,
            "continuous_update": true,
            "readout_format": "d",
            "description_tooltip": null,
            "readout": true,
            "_model_module": "@jupyter-widgets/controls",
            "layout": "IPY_MODEL_b61651842dfe43228d90a1215f7b6311"
          }
        },
        "75519c15c7614de897a5f13a0a2dbc35": {
          "model_module": "@jupyter-widgets/output",
          "model_name": "OutputModel",
          "state": {
            "_view_name": "OutputView",
            "msg_id": "",
            "_dom_classes": [],
            "_model_name": "OutputModel",
            "outputs": [
              {
                "output_type": "display_data",
                "metadata": {
                  "tags": []
                },
                "image/png": "iVBORw0KGgoAAAANSUhEUgAAAYIAAAEWCAYAAABrDZDcAAAABHNCSVQICAgIfAhkiAAAAAlwSFlz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\nGxdnAAAAAElFTkSuQmCC\n",
                "text/plain": "<Figure size 432x288 with 1 Axes>"
              },
              {
                "output_type": "display_data",
                "metadata": {
                  "tags": []
                },
                "image/png": "iVBORw0KGgoAAAANSUhEUgAAAYIAAAEWCAYAAABrDZDcAAAABHNCSVQICAgIfAhkiAAAAAlwSFlz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\nYII=\n",
                "text/plain": "<Figure size 432x288 with 1 Axes>"
              }
            ],
            "_view_module": "@jupyter-widgets/output",
            "_model_module_version": "1.0.0",
            "_view_count": null,
            "_view_module_version": "1.0.0",
            "layout": "IPY_MODEL_a74f677fa93c4919b4e9803fb0d4f5f2",
            "_model_module": "@jupyter-widgets/output"
          }
        },
        "8b97867b79cb4563bf3fc426970fbc91": {
          "model_module": "@jupyter-widgets/controls",
          "model_name": "SliderStyleModel",
          "state": {
            "_view_name": "StyleView",
            "handle_color": null,
            "_model_name": "SliderStyleModel",
            "description_width": "",
            "_view_module": "@jupyter-widgets/base",
            "_model_module_version": "1.5.0",
            "_view_count": null,
            "_view_module_version": "1.2.0",
            "_model_module": "@jupyter-widgets/controls"
          }
        },
        "751e0ad88f2a4a98b04a2fe456fea5b6": {
          "model_module": "@jupyter-widgets/base",
          "model_name": "LayoutModel",
          "state": {
            "_view_name": "LayoutView",
            "grid_template_rows": null,
            "right": null,
            "justify_content": null,
            "_view_module": "@jupyter-widgets/base",
            "overflow": null,
            "_model_module_version": "1.2.0",
            "_view_count": null,
            "flex_flow": null,
            "width": null,
            "min_width": null,
            "border": null,
            "align_items": null,
            "bottom": null,
            "_model_module": "@jupyter-widgets/base",
            "top": null,
            "grid_column": null,
            "overflow_y": null,
            "overflow_x": null,
            "grid_auto_flow": null,
            "grid_area": null,
            "grid_template_columns": null,
            "flex": null,
            "_model_name": "LayoutModel",
            "justify_items": null,
            "grid_row": null,
            "max_height": null,
            "align_content": null,
            "visibility": null,
            "align_self": null,
            "height": null,
            "min_height": null,
            "padding": null,
            "grid_auto_rows": null,
            "grid_gap": null,
            "max_width": null,
            "order": null,
            "_view_module_version": "1.2.0",
            "grid_template_areas": null,
            "object_position": null,
            "object_fit": null,
            "grid_auto_columns": null,
            "margin": null,
            "display": null,
            "left": null
          }
        },
        "4d665b20f0c9401fbd68d57a88cc2da7": {
          "model_module": "@jupyter-widgets/controls",
          "model_name": "SliderStyleModel",
          "state": {
            "_view_name": "StyleView",
            "handle_color": null,
            "_model_name": "SliderStyleModel",
            "description_width": "",
            "_view_module": "@jupyter-widgets/base",
            "_model_module_version": "1.5.0",
            "_view_count": null,
            "_view_module_version": "1.2.0",
            "_model_module": "@jupyter-widgets/controls"
          }
        },
        "b61651842dfe43228d90a1215f7b6311": {
          "model_module": "@jupyter-widgets/base",
          "model_name": "LayoutModel",
          "state": {
            "_view_name": "LayoutView",
            "grid_template_rows": null,
            "right": null,
            "justify_content": null,
            "_view_module": "@jupyter-widgets/base",
            "overflow": null,
            "_model_module_version": "1.2.0",
            "_view_count": null,
            "flex_flow": null,
            "width": null,
            "min_width": null,
            "border": null,
            "align_items": null,
            "bottom": null,
            "_model_module": "@jupyter-widgets/base",
            "top": null,
            "grid_column": null,
            "overflow_y": null,
            "overflow_x": null,
            "grid_auto_flow": null,
            "grid_area": null,
            "grid_template_columns": null,
            "flex": null,
            "_model_name": "LayoutModel",
            "justify_items": null,
            "grid_row": null,
            "max_height": null,
            "align_content": null,
            "visibility": null,
            "align_self": null,
            "height": null,
            "min_height": null,
            "padding": null,
            "grid_auto_rows": null,
            "grid_gap": null,
            "max_width": null,
            "order": null,
            "_view_module_version": "1.2.0",
            "grid_template_areas": null,
            "object_position": null,
            "object_fit": null,
            "grid_auto_columns": null,
            "margin": null,
            "display": null,
            "left": null
          }
        },
        "41e93eed80c0477fb3f2f13d0dfa26e7": {
          "model_module": "@jupyter-widgets/controls",
          "model_name": "VBoxModel",
          "state": {
            "_view_name": "VBoxView",
            "_dom_classes": [
              "widget-interact"
            ],
            "_model_name": "VBoxModel",
            "_view_module": "@jupyter-widgets/controls",
            "_model_module_version": "1.5.0",
            "_view_count": null,
            "_view_module_version": "1.5.0",
            "box_style": "",
            "layout": "IPY_MODEL_f6e2117a09b9428ea2cac4e1c6272288",
            "_model_module": "@jupyter-widgets/controls",
            "children": [
              "IPY_MODEL_14610cd0991e40c3b38aa5608e4d37e9",
              "IPY_MODEL_16e2c6d48d7a4f8fa0d387886b4e7257",
              "IPY_MODEL_abf786d2fa2c4d3a87e3d6c66e5eb8c5"
            ]
          }
        },
        "f6e2117a09b9428ea2cac4e1c6272288": {
          "model_module": "@jupyter-widgets/base",
          "model_name": "LayoutModel",
          "state": {
            "_view_name": "LayoutView",
            "grid_template_rows": null,
            "right": null,
            "justify_content": null,
            "_view_module": "@jupyter-widgets/base",
            "overflow": null,
            "_model_module_version": "1.2.0",
            "_view_count": null,
            "flex_flow": null,
            "width": null,
            "min_width": null,
            "border": null,
            "align_items": null,
            "bottom": null,
            "_model_module": "@jupyter-widgets/base",
            "top": null,
            "grid_column": null,
            "overflow_y": null,
            "overflow_x": null,
            "grid_auto_flow": null,
            "grid_area": null,
            "grid_template_columns": null,
            "flex": null,
            "_model_name": "LayoutModel",
            "justify_items": null,
            "grid_row": null,
            "max_height": null,
            "align_content": null,
            "visibility": null,
            "align_self": null,
            "height": null,
            "min_height": null,
            "padding": null,
            "grid_auto_rows": null,
            "grid_gap": null,
            "max_width": null,
            "order": null,
            "_view_module_version": "1.2.0",
            "grid_template_areas": null,
            "object_position": null,
            "object_fit": null,
            "grid_auto_columns": null,
            "margin": null,
            "display": null,
            "left": null
          }
        },
        "14610cd0991e40c3b38aa5608e4d37e9": {
          "model_module": "@jupyter-widgets/controls",
          "model_name": "IntSliderModel",
          "state": {
            "_view_name": "IntSliderView",
            "style": "IPY_MODEL_d9c37816d564473fa61e764983b084af",
            "_dom_classes": [],
            "description": "max_depth",
            "step": 1,
            "_model_name": "IntSliderModel",
            "orientation": "horizontal",
            "max": 6,
            "_view_module": "@jupyter-widgets/controls",
            "_model_module_version": "1.5.0",
            "value": 1,
            "_view_count": null,
            "disabled": false,
            "_view_module_version": "1.5.0",
            "min": 1,
            "continuous_update": true,
            "readout_format": "d",
            "description_tooltip": null,
            "readout": true,
            "_model_module": "@jupyter-widgets/controls",
            "layout": "IPY_MODEL_f1ec2a3422264eea8232da38cad8a890"
          }
        },
        "16e2c6d48d7a4f8fa0d387886b4e7257": {
          "model_module": "@jupyter-widgets/controls",
          "model_name": "IntSliderModel",
          "state": {
            "_view_name": "IntSliderView",
            "style": "IPY_MODEL_70216575590449ecabdb9e4e6ed56d60",
            "_dom_classes": [],
            "description": "n_estimators",
            "step": 1,
            "_model_name": "IntSliderModel",
            "orientation": "horizontal",
            "max": 5,
            "_view_module": "@jupyter-widgets/controls",
            "_model_module_version": "1.5.0",
            "value": 2,
            "_view_count": null,
            "disabled": false,
            "_view_module_version": "1.5.0",
            "min": 2,
            "continuous_update": true,
            "readout_format": "d",
            "description_tooltip": null,
            "readout": true,
            "_model_module": "@jupyter-widgets/controls",
            "layout": "IPY_MODEL_8e594379e5524725b73b7bf532a21e91"
          }
        },
        "abf786d2fa2c4d3a87e3d6c66e5eb8c5": {
          "model_module": "@jupyter-widgets/output",
          "model_name": "OutputModel",
          "state": {
            "_view_name": "OutputView",
            "msg_id": "",
            "_dom_classes": [],
            "_model_name": "OutputModel",
            "outputs": [
              {
                "output_type": "display_data",
                "metadata": {
                  "tags": []
                },
                "image/png": "iVBORw0KGgoAAAANSUhEUgAAAYIAAAEWCAYAAABrDZDcAAAABHNCSVQICAgIfAhkiAAAAAlwSFlz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\nAElFTkSuQmCC\n",
                "text/plain": "<Figure size 432x288 with 1 Axes>"
              },
              {
                "output_type": "display_data",
                "metadata": {
                  "tags": []
                },
                "image/png": "iVBORw0KGgoAAAANSUhEUgAAAYIAAAEWCAYAAABrDZDcAAAABHNCSVQICAgIfAhkiAAAAAlwSFlz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\nQmCC\n",
                "text/plain": "<Figure size 432x288 with 1 Axes>"
              },
              {
                "output_type": "display_data",
                "metadata": {
                  "tags": []
                },
                "image/png": "iVBORw0KGgoAAAANSUhEUgAAAYIAAAEWCAYAAABrDZDcAAAABHNCSVQICAgIfAhkiAAAAAlwSFlz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\nTc6JwMysyTkRmJk1uf8PCIMOPqbB8OkAAAAASUVORK5CYII=\n",
                "text/plain": "<Figure size 432x288 with 1 Axes>"
              }
            ],
            "_view_module": "@jupyter-widgets/output",
            "_model_module_version": "1.0.0",
            "_view_count": null,
            "_view_module_version": "1.0.0",
            "layout": "IPY_MODEL_a456d440883d4ab8978ed2f68970cce5",
            "_model_module": "@jupyter-widgets/output"
          }
        },
        "d9c37816d564473fa61e764983b084af": {
          "model_module": "@jupyter-widgets/controls",
          "model_name": "SliderStyleModel",
          "state": {
            "_view_name": "StyleView",
            "handle_color": null,
            "_model_name": "SliderStyleModel",
            "description_width": "",
            "_view_module": "@jupyter-widgets/base",
            "_model_module_version": "1.5.0",
            "_view_count": null,
            "_view_module_version": "1.2.0",
            "_model_module": "@jupyter-widgets/controls"
          }
        },
        "f1ec2a3422264eea8232da38cad8a890": {
          "model_module": "@jupyter-widgets/base",
          "model_name": "LayoutModel",
          "state": {
            "_view_name": "LayoutView",
            "grid_template_rows": null,
            "right": null,
            "justify_content": null,
            "_view_module": "@jupyter-widgets/base",
            "overflow": null,
            "_model_module_version": "1.2.0",
            "_view_count": null,
            "flex_flow": null,
            "width": null,
            "min_width": null,
            "border": null,
            "align_items": null,
            "bottom": null,
            "_model_module": "@jupyter-widgets/base",
            "top": null,
            "grid_column": null,
            "overflow_y": null,
            "overflow_x": null,
            "grid_auto_flow": null,
            "grid_area": null,
            "grid_template_columns": null,
            "flex": null,
            "_model_name": "LayoutModel",
            "justify_items": null,
            "grid_row": null,
            "max_height": null,
            "align_content": null,
            "visibility": null,
            "align_self": null,
            "height": null,
            "min_height": null,
            "padding": null,
            "grid_auto_rows": null,
            "grid_gap": null,
            "max_width": null,
            "order": null,
            "_view_module_version": "1.2.0",
            "grid_template_areas": null,
            "object_position": null,
            "object_fit": null,
            "grid_auto_columns": null,
            "margin": null,
            "display": null,
            "left": null
          }
        },
        "70216575590449ecabdb9e4e6ed56d60": {
          "model_module": "@jupyter-widgets/controls",
          "model_name": "SliderStyleModel",
          "state": {
            "_view_name": "StyleView",
            "handle_color": null,
            "_model_name": "SliderStyleModel",
            "description_width": "",
            "_view_module": "@jupyter-widgets/base",
            "_model_module_version": "1.5.0",
            "_view_count": null,
            "_view_module_version": "1.2.0",
            "_model_module": "@jupyter-widgets/controls"
          }
        },
        "8e594379e5524725b73b7bf532a21e91": {
          "model_module": "@jupyter-widgets/base",
          "model_name": "LayoutModel",
          "state": {
            "_view_name": "LayoutView",
            "grid_template_rows": null,
            "right": null,
            "justify_content": null,
            "_view_module": "@jupyter-widgets/base",
            "overflow": null,
            "_model_module_version": "1.2.0",
            "_view_count": null,
            "flex_flow": null,
            "width": null,
            "min_width": null,
            "border": null,
            "align_items": null,
            "bottom": null,
            "_model_module": "@jupyter-widgets/base",
            "top": null,
            "grid_column": null,
            "overflow_y": null,
            "overflow_x": null,
            "grid_auto_flow": null,
            "grid_area": null,
            "grid_template_columns": null,
            "flex": null,
            "_model_name": "LayoutModel",
            "justify_items": null,
            "grid_row": null,
            "max_height": null,
            "align_content": null,
            "visibility": null,
            "align_self": null,
            "height": null,
            "min_height": null,
            "padding": null,
            "grid_auto_rows": null,
            "grid_gap": null,
            "max_width": null,
            "order": null,
            "_view_module_version": "1.2.0",
            "grid_template_areas": null,
            "object_position": null,
            "object_fit": null,
            "grid_auto_columns": null,
            "margin": null,
            "display": null,
            "left": null
          }
        },
        "b48d6ff8efa14564b5fd18bb8b509dd6": {
          "model_module": "@jupyter-widgets/controls",
          "model_name": "VBoxModel",
          "state": {
            "_view_name": "VBoxView",
            "_dom_classes": [
              "widget-interact"
            ],
            "_model_name": "VBoxModel",
            "_view_module": "@jupyter-widgets/controls",
            "_model_module_version": "1.5.0",
            "_view_count": null,
            "_view_module_version": "1.5.0",
            "box_style": "",
            "layout": "IPY_MODEL_babf6d4a7488491384a57b99aff09e77",
            "_model_module": "@jupyter-widgets/controls",
            "children": [
              "IPY_MODEL_370a6502b0534309b2bf3ea38043cd3c",
              "IPY_MODEL_069ad92295a447dbae51887b94a8640a",
              "IPY_MODEL_78d800c8b7634f46833c442670c12bc1"
            ]
          }
        },
        "babf6d4a7488491384a57b99aff09e77": {
          "model_module": "@jupyter-widgets/base",
          "model_name": "LayoutModel",
          "state": {
            "_view_name": "LayoutView",
            "grid_template_rows": null,
            "right": null,
            "justify_content": null,
            "_view_module": "@jupyter-widgets/base",
            "overflow": null,
            "_model_module_version": "1.2.0",
            "_view_count": null,
            "flex_flow": null,
            "width": null,
            "min_width": null,
            "border": null,
            "align_items": null,
            "bottom": null,
            "_model_module": "@jupyter-widgets/base",
            "top": null,
            "grid_column": null,
            "overflow_y": null,
            "overflow_x": null,
            "grid_auto_flow": null,
            "grid_area": null,
            "grid_template_columns": null,
            "flex": null,
            "_model_name": "LayoutModel",
            "justify_items": null,
            "grid_row": null,
            "max_height": null,
            "align_content": null,
            "visibility": null,
            "align_self": null,
            "height": null,
            "min_height": null,
            "padding": null,
            "grid_auto_rows": null,
            "grid_gap": null,
            "max_width": null,
            "order": null,
            "_view_module_version": "1.2.0",
            "grid_template_areas": null,
            "object_position": null,
            "object_fit": null,
            "grid_auto_columns": null,
            "margin": null,
            "display": null,
            "left": null
          }
        },
        "370a6502b0534309b2bf3ea38043cd3c": {
          "model_module": "@jupyter-widgets/controls",
          "model_name": "IntSliderModel",
          "state": {
            "_view_name": "IntSliderView",
            "style": "IPY_MODEL_3d63ac1d0cb146499c6b55afe8545c35",
            "_dom_classes": [],
            "description": "max_depth",
            "step": 1,
            "_model_name": "IntSliderModel",
            "orientation": "horizontal",
            "max": 6,
            "_view_module": "@jupyter-widgets/controls",
            "_model_module_version": "1.5.0",
            "value": 1,
            "_view_count": null,
            "disabled": false,
            "_view_module_version": "1.5.0",
            "min": 1,
            "continuous_update": true,
            "readout_format": "d",
            "description_tooltip": null,
            "readout": true,
            "_model_module": "@jupyter-widgets/controls",
            "layout": "IPY_MODEL_d828f167bcc44925bb6fdb2368b6080f"
          }
        },
        "069ad92295a447dbae51887b94a8640a": {
          "model_module": "@jupyter-widgets/controls",
          "model_name": "IntSliderModel",
          "state": {
            "_view_name": "IntSliderView",
            "style": "IPY_MODEL_d9112f42c79f41d0860b70be4b9364e4",
            "_dom_classes": [],
            "description": "n_estimators",
            "step": 10,
            "_model_name": "IntSliderModel",
            "orientation": "horizontal",
            "max": 40,
            "_view_module": "@jupyter-widgets/controls",
            "_model_module_version": "1.5.0",
            "value": 10,
            "_view_count": null,
            "disabled": false,
            "_view_module_version": "1.5.0",
            "min": 10,
            "continuous_update": true,
            "readout_format": "d",
            "description_tooltip": null,
            "readout": true,
            "_model_module": "@jupyter-widgets/controls",
            "layout": "IPY_MODEL_dbaec69c39c14c4992f07a7b10a8227e"
          }
        },
        "78d800c8b7634f46833c442670c12bc1": {
          "model_module": "@jupyter-widgets/output",
          "model_name": "OutputModel",
          "state": {
            "_view_name": "OutputView",
            "msg_id": "",
            "_dom_classes": [],
            "_model_name": "OutputModel",
            "outputs": [
              {
                "output_type": "display_data",
                "metadata": {
                  "tags": []
                },
                "image/png": "iVBORw0KGgoAAAANSUhEUgAAAVoAAAEFCAYAAACiiS9UAAAABHNCSVQICAgIfAhkiAAAAAlwSFlz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\n",
                "text/plain": "<Figure size 432x288 with 2 Axes>"
              },
              {
                "output_type": "display_data",
                "metadata": {
                  "tags": []
                },
                "image/png": "iVBORw0KGgoAAAANSUhEUgAAAVoAAAEFCAYAAACiiS9UAAAABHNCSVQICAgIfAhkiAAAAAlwSFlz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\ngg==\n",
                "text/plain": "<Figure size 432x288 with 2 Axes>"
              },
              {
                "output_type": "display_data",
                "metadata": {
                  "tags": []
                },
                "image/png": "iVBORw0KGgoAAAANSUhEUgAAAVoAAAEFCAYAAACiiS9UAAAABHNCSVQICAgIfAhkiAAAAAlwSFlz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\n",
                "text/plain": "<Figure size 432x288 with 2 Axes>"
              }
            ],
            "_view_module": "@jupyter-widgets/output",
            "_model_module_version": "1.0.0",
            "_view_count": null,
            "_view_module_version": "1.0.0",
            "layout": "IPY_MODEL_57d00095c2744f89905c1bbd9b99fc77",
            "_model_module": "@jupyter-widgets/output"
          }
        },
        "3d63ac1d0cb146499c6b55afe8545c35": {
          "model_module": "@jupyter-widgets/controls",
          "model_name": "SliderStyleModel",
          "state": {
            "_view_name": "StyleView",
            "handle_color": null,
            "_model_name": "SliderStyleModel",
            "description_width": "",
            "_view_module": "@jupyter-widgets/base",
            "_model_module_version": "1.5.0",
            "_view_count": null,
            "_view_module_version": "1.2.0",
            "_model_module": "@jupyter-widgets/controls"
          }
        },
        "d828f167bcc44925bb6fdb2368b6080f": {
          "model_module": "@jupyter-widgets/base",
          "model_name": "LayoutModel",
          "state": {
            "_view_name": "LayoutView",
            "grid_template_rows": null,
            "right": null,
            "justify_content": null,
            "_view_module": "@jupyter-widgets/base",
            "overflow": null,
            "_model_module_version": "1.2.0",
            "_view_count": null,
            "flex_flow": null,
            "width": null,
            "min_width": null,
            "border": null,
            "align_items": null,
            "bottom": null,
            "_model_module": "@jupyter-widgets/base",
            "top": null,
            "grid_column": null,
            "overflow_y": null,
            "overflow_x": null,
            "grid_auto_flow": null,
            "grid_area": null,
            "grid_template_columns": null,
            "flex": null,
            "_model_name": "LayoutModel",
            "justify_items": null,
            "grid_row": null,
            "max_height": null,
            "align_content": null,
            "visibility": null,
            "align_self": null,
            "height": null,
            "min_height": null,
            "padding": null,
            "grid_auto_rows": null,
            "grid_gap": null,
            "max_width": null,
            "order": null,
            "_view_module_version": "1.2.0",
            "grid_template_areas": null,
            "object_position": null,
            "object_fit": null,
            "grid_auto_columns": null,
            "margin": null,
            "display": null,
            "left": null
          }
        },
        "d9112f42c79f41d0860b70be4b9364e4": {
          "model_module": "@jupyter-widgets/controls",
          "model_name": "SliderStyleModel",
          "state": {
            "_view_name": "StyleView",
            "handle_color": null,
            "_model_name": "SliderStyleModel",
            "description_width": "",
            "_view_module": "@jupyter-widgets/base",
            "_model_module_version": "1.5.0",
            "_view_count": null,
            "_view_module_version": "1.2.0",
            "_model_module": "@jupyter-widgets/controls"
          }
        },
        "dbaec69c39c14c4992f07a7b10a8227e": {
          "model_module": "@jupyter-widgets/base",
          "model_name": "LayoutModel",
          "state": {
            "_view_name": "LayoutView",
            "grid_template_rows": null,
            "right": null,
            "justify_content": null,
            "_view_module": "@jupyter-widgets/base",
            "overflow": null,
            "_model_module_version": "1.2.0",
            "_view_count": null,
            "flex_flow": null,
            "width": null,
            "min_width": null,
            "border": null,
            "align_items": null,
            "bottom": null,
            "_model_module": "@jupyter-widgets/base",
            "top": null,
            "grid_column": null,
            "overflow_y": null,
            "overflow_x": null,
            "grid_auto_flow": null,
            "grid_area": null,
            "grid_template_columns": null,
            "flex": null,
            "_model_name": "LayoutModel",
            "justify_items": null,
            "grid_row": null,
            "max_height": null,
            "align_content": null,
            "visibility": null,
            "align_self": null,
            "height": null,
            "min_height": null,
            "padding": null,
            "grid_auto_rows": null,
            "grid_gap": null,
            "max_width": null,
            "order": null,
            "_view_module_version": "1.2.0",
            "grid_template_areas": null,
            "object_position": null,
            "object_fit": null,
            "grid_auto_columns": null,
            "margin": null,
            "display": null,
            "left": null
          }
        },
        "5abeaca7611e41bc937fb3f8b872fb1c": {
          "model_module": "@jupyter-widgets/controls",
          "model_name": "VBoxModel",
          "state": {
            "_view_name": "VBoxView",
            "_dom_classes": [
              "widget-interact"
            ],
            "_model_name": "VBoxModel",
            "_view_module": "@jupyter-widgets/controls",
            "_model_module_version": "1.5.0",
            "_view_count": null,
            "_view_module_version": "1.5.0",
            "box_style": "",
            "layout": "IPY_MODEL_bc4b1d9b95a74af2a89d97dbdd874d3c",
            "_model_module": "@jupyter-widgets/controls",
            "children": [
              "IPY_MODEL_c201583e99a248f3b4be6ef77beef5d4",
              "IPY_MODEL_adacb75d355a40a7b0ea28051890243a",
              "IPY_MODEL_770685dd4a3741f6b673b4a6dab5138a"
            ]
          }
        },
        "bc4b1d9b95a74af2a89d97dbdd874d3c": {
          "model_module": "@jupyter-widgets/base",
          "model_name": "LayoutModel",
          "state": {
            "_view_name": "LayoutView",
            "grid_template_rows": null,
            "right": null,
            "justify_content": null,
            "_view_module": "@jupyter-widgets/base",
            "overflow": null,
            "_model_module_version": "1.2.0",
            "_view_count": null,
            "flex_flow": null,
            "width": null,
            "min_width": null,
            "border": null,
            "align_items": null,
            "bottom": null,
            "_model_module": "@jupyter-widgets/base",
            "top": null,
            "grid_column": null,
            "overflow_y": null,
            "overflow_x": null,
            "grid_auto_flow": null,
            "grid_area": null,
            "grid_template_columns": null,
            "flex": null,
            "_model_name": "LayoutModel",
            "justify_items": null,
            "grid_row": null,
            "max_height": null,
            "align_content": null,
            "visibility": null,
            "align_self": null,
            "height": null,
            "min_height": null,
            "padding": null,
            "grid_auto_rows": null,
            "grid_gap": null,
            "max_width": null,
            "order": null,
            "_view_module_version": "1.2.0",
            "grid_template_areas": null,
            "object_position": null,
            "object_fit": null,
            "grid_auto_columns": null,
            "margin": null,
            "display": null,
            "left": null
          }
        },
        "c201583e99a248f3b4be6ef77beef5d4": {
          "model_module": "@jupyter-widgets/controls",
          "model_name": "IntSliderModel",
          "state": {
            "_view_name": "IntSliderView",
            "style": "IPY_MODEL_58e0b785cc9a42ee92581606df888486",
            "_dom_classes": [],
            "description": "max_depth",
            "step": 1,
            "_model_name": "IntSliderModel",
            "orientation": "horizontal",
            "max": 6,
            "_view_module": "@jupyter-widgets/controls",
            "_model_module_version": "1.5.0",
            "value": 1,
            "_view_count": null,
            "disabled": false,
            "_view_module_version": "1.5.0",
            "min": 1,
            "continuous_update": true,
            "readout_format": "d",
            "description_tooltip": null,
            "readout": true,
            "_model_module": "@jupyter-widgets/controls",
            "layout": "IPY_MODEL_cb144db0dcff4899948eead35b3d48a7"
          }
        },
        "adacb75d355a40a7b0ea28051890243a": {
          "model_module": "@jupyter-widgets/controls",
          "model_name": "IntSliderModel",
          "state": {
            "_view_name": "IntSliderView",
            "style": "IPY_MODEL_99cf3943d53844e7813212e8d89e2b5c",
            "_dom_classes": [],
            "description": "n_estimators",
            "step": 1,
            "_model_name": "IntSliderModel",
            "orientation": "horizontal",
            "max": 5,
            "_view_module": "@jupyter-widgets/controls",
            "_model_module_version": "1.5.0",
            "value": 2,
            "_view_count": null,
            "disabled": false,
            "_view_module_version": "1.5.0",
            "min": 2,
            "continuous_update": true,
            "readout_format": "d",
            "description_tooltip": null,
            "readout": true,
            "_model_module": "@jupyter-widgets/controls",
            "layout": "IPY_MODEL_bd00fc5aecd64367b67d6ae06cfb9e1a"
          }
        },
        "770685dd4a3741f6b673b4a6dab5138a": {
          "model_module": "@jupyter-widgets/output",
          "model_name": "OutputModel",
          "state": {
            "_view_name": "OutputView",
            "msg_id": "",
            "_dom_classes": [],
            "_model_name": "OutputModel",
            "outputs": [
              {
                "output_type": "display_data",
                "metadata": {
                  "tags": []
                },
                "image/png": "iVBORw0KGgoAAAANSUhEUgAAAVoAAAEFCAYAAACiiS9UAAAABHNCSVQICAgIfAhkiAAAAAlwSFlz\nAAALEgAACxIB0t1+/AAAADh0RVh0U29mdHdhcmUAbWF0cGxvdGxpYiB2ZXJzaW9uMy4yLjAsIGh0\ndHA6Ly9tYXRwbG90bGliLm9yZy8GearUAAAR1klEQVR4nO3dfaxlVXnH8e9vhlKsoMbiWxkURKyi\nUqUKtLZKIuhgCmNaVLCmxVqnVTGNVitWo5ZqWmurKSlRx5T6UoUKFjORUbQq0iDIDKJUxqLjQGVA\nRRApKgJz79M/zhk53M695xzmrDlnX76fyco9e+111143mTx58uy190lVIUlqZ8W0FyBJy52BVpIa\nM9BKUmMGWklqzEArSY0ZaCWpMQOtJDVmoNVQSX480OaT3D5w/PsNr3tKkk1J7kjygVbXkVrbY9oL\n0Oyrqr13fE5yLfDHVfUfC8cl2aOqtk/w0jcAbwOeA9xvgvNKu5UZre61JEcl2Zbk9Um+B/xLkhVJ\nTk3y7SQ3J/lYkgcP/M6RSb6U5EdJvpbkqMXmr6p/r6pPADfvhj9HasZAq131cODBwKOAtcCrgOcB\nzwR+BbgFOAMgyX7A+fSy1AcDrwU+nuQhu3/Z0u5joNWumgfeUlV3VNXtwJ8Cb6yqbVV1B/BW4IQk\newAvBjZU1Yaqmq+qzwKbgOdOa/HS7mCNVrvqB1X1s4HjRwHnJZkf6JsDHtY/9/wkxw2c+wXgC+2X\nKU2PgVa7auHr364D/qiqLl44MMl1wIer6mW7ZWXSjLB0oEl7L/D2JI8CSPKQJGv65/4VOC7Jc5Ks\nTLJX/4baqp1NlGSPJHsBK4Ed400O1DkGWk3aPwLrgc8kuQ24FDgCoKquA9YAfwn8gF72+zoW/3/4\nJuB24FR69d3b+31Sp8QXf0tSW2a0ktSYgVaSBiQ5M8mNSb6+yPkkOT3JliRXJjls2JwGWkm6pw8A\nq5c4fyxwcL+tBd4zbEIDrSQNqKqLgB8uMWQN8KHquRR4UJJHLDVnk60y1z75GO+wScC1333QtJcw\n8476/jnZ1TnuumnryDFnz4cc9Cf0MtEd1lXVujEutx+9HTM7bOv3fXexX3BPoqT7lH5QHSew7jID\nraTum5/bnVe7Hth/4HhVv29R1mgldd/c9tHbrlsP/EF/98GRwK1VtWjZAMxoJS0DVfPDB40oyVnA\nUcC+SbYBb6H38iOq6r3ABnpvnNsC/BR4ybA5DbSSum9+coG2qk4acr6AV44zp4FWUvdNMKNtwUAr\nqft2782wsRloJXWfGa0ktVWT2U3QjIFWUvdN8GZYCwZaSd1n6UCSGvNmmCQ1ZkYrSY15M0ySGvNm\nmCS1VWWNVpLaskYrSY1ZOpCkxsxoJamxubumvYIlGWgldZ+lA0lqzNKBJDVmRitJjRloJamt8maY\nJDVmjVaSGrN0IEmNmdFKUmNmtJLUmBmtJDW23Rd/S1JbZrSS1Jg1WklqzIxWkhozo5WkxsxoJakx\ndx1IUmNV017Bkgy0krrPGq0kNTbjgXbFtBcgSbus5kdvQyRZneTqJFuSnLqT849M8oUkVyS5Mslz\nh81pRiup++bmJjJNkpXAGcAxwDZgY5L1VbV5YNibgI9V1XuSHAJsAA5Yal4DraTum1zp4HBgS1Vt\nBUhyNrAGGAy0BTyg//mBwA3DJjXQSuq+MQJtkrXA2oGudVW1rv95P+C6gXPbgCMWTPFW4DNJXgXc\nHzh62DUNtJK6b4wHFvpBdd3QgYs7CfhAVf1Dkt8APpzkiVWLL8JAK6nzan5i+2ivB/YfOF7V7xv0\nUmA1QFVdkmQvYF/gxsUmddeBpO6bnx+9LW0jcHCSA5PsCZwIrF8w5jvAswCSPB7YC/jBUpOa0Urq\nvgntOqiq7UlOAS4AVgJnVtVVSU4DNlXVeuDPgfcneTW9G2MnVy39aJqBVlL3TfCBharaQG/L1mDf\nmwc+bwaePs6cBlpJ3TfjT4YZaCV1ny+VkaTGzGglqbHJbe9qwkArqfsmtOugFQOtpM4rSweS1Jil\nA0lqzC9nlKTGzGglqbHt3gyTpLYsHUhSY5YOJKktt3dJUmtmtJLUmIFWkhrzEVxJamuC3xnWhIFW\nUvcZaCWpMXcdSFJjZrSS1JiBVpLaqjlLB5LUlhmtJLXl9i5Jas1AK0mNzXaJ1kArqftq+2xHWgOt\npO6b7ThroJXUfd4Mk6TWzGglqS0zWklqbcYz2hXTXoC0nB3wiB9Newn3CbV99DYNZrRSQ9d+90HT\nXsJ9wox/27gZraRlYH6MNkSS1UmuTrIlyamLjHlBks1Jrkry0WFzmtFK6rxJZbRJVgJnAMcA24CN\nSdZX1eaBMQcDbwCeXlW3JHnosHnNaCV1Xs2P3oY4HNhSVVur6k7gbGDNgjEvA86oqlsAqurGYZMa\naCV1Xs1l5JZkbZJNA23twFT7AdcNHG/r9w16LPDYJBcnuTTJ6mHrs3QgqfPGKR1U1Tpg3S5cbg/g\nYOAoYBVwUZInVdWiW0wMtJI6r+YzqamuB/YfOF7V7xu0DfhyVd0FXJPkm/QC78bFJrV0IKnzJlij\n3QgcnOTAJHsCJwLrF4z5BL1sliT70islbF1qUjNaSZ1XNZmMtqq2JzkFuABYCZxZVVclOQ3YVFXr\n++eenWQzMAe8rqpuXmpeA62kzpvkAwtVtQHYsKDvzQOfC3hNv41kpNJBkscm+VySr/ePD03yplEv\nIkktzc9l5DYNo9Zo309vg+5dAFV1Jb3ahSRNXc1n5DYNo5YOfqmqLkvuscgpvZ5Bku5pWgF0VKMG\n2puSHAQUQJITgO82W5UkjaFm+3W0IwfaV9Lb4Pu4JNcD1wAvbrYqSRrDsshoq2orcHSS+wMrquq2\ntsuSpNFNantXK0sG2iQ73b6wo1ZbVe9qsCZJGsvclHYTjGpYRrtP/+evAk/j7ickjgMua7UoSRpH\npzPaqvorgCQXAYftKBkkeStwfvPVSdIIlkWNFngYcOfA8Z39PkmauuWy6+BDwGVJzusfPw/4YJsl\nSdJ4lkVGW1VvT/Ip4Lf7XS+pqivaLUuSRjc3P9svIhwp0CZ5JHATcN5gX1V9p9XCJGlUy6V0cD79\np8KA+wEHAlcDT2ixKEkax3yXdx3sUFVPGjxOchjwiiYrkqQxdXp712Kq6itJjpj0YiTp3lgWpYMF\nT4itAA4DbmiyIkka07IoHXD3E2LQez3i+cDHJ78cSRrfsth1AGyuqnMGO5I8HzhnkfGStNvMeOVg\n5G9YeMOIfZK0281XRm7TMOztXccCzwX2S3L6wKkH4DcsSJoRXd91cAOwCTgeuHyg/zbg1a0WJUnj\nmOCX4DYx7O1dXwO+luQjVWUGK2kmFR3OaJN8rKpeAFyR5P/Vm6vq0GYrk6QRbe946eDP+j9/p/VC\nJOnemvWMdsldB1W145tuX1FV/zPY8BFcSTNifow2DaNu7zpmJ33HTnIhknRvFRm5TcOwGu3L6WWu\nj05y5cCpfYCLWy5MkkbV6V0HwEeBTwF/A5w60H9bVf2w2aokaQxzM16jHba961bgVuAkgCQPBfYC\n9k6yty/+ljQLZvybbEar0SY5Lsm3gGuALwLX0st0JWnq5snIbRpGvRn2NuBI4JtVdSDwLODSZquS\npDHUGG0aRg20d1XVzcCKJCuq6gvAUxuuS5JGNuvbu0Z9TeKPkuwNXAR8JMmNwE/aLUuSRjef2S7S\njprRrgFup/cimU8D3waOa7UoSRrH3BhtGkYKtFX1k6qaq6rtVfXBqjq9X0qQpKmbz+htmCSrk1yd\nZEuSU5cY93tJKsnQMuqwBxZuY+f14wBVVQ8YumpJamxSuwmSrATOoPc07DZgY5L1VbV5wbh96L0L\n5sujzDvsXQf7VNUDdtL2MchKmhUT3HVwOLClqrZW1Z3A2fRKpwv9NfAO4GejrG+2v9FMkkYwTukg\nydokmwba2oGp9gOuGzje1u/7uSSHAftX1fmjrm/UXQeSNLPG2bZVVeuAdffmOklWAO8CTh7n9wy0\nkjpvbnK7u64H9h84XtXv22Ef4InAheltKXs4sD7J8VW1abFJDbSSOm+CDyJsBA5OciC9AHsi8KId\nJ/vvf9l3x3GSC4HXLhVkwRqtpGVgUk+G9b8b8RTgAuAbwMeq6qokpyU5/t6uz4xWUudN8ivDqmoD\nsGFB35sXGXvUKHMaaCV1Xtdf/C1JM29aj9aOykArqfNm/cXfBlpJnWfpQJIaM9BKUmPT+uaEURlo\nJXWeNVpJasxdB5LU2PyMFw8MtJI6z5thktTYbOezBlpJy4AZrSQ1tj2zndMaaCV13myHWQOtpGXA\n0oEkNeb2LklqbLbDrIFW0jJg6UCSGpub8ZzWQCup88xoJamxMqOVpLbMaCWpMbd3SVJjsx1mDbSS\nloHtMx5qDbSSOs+bYZLUmDfDJKkxM1pJasyMVpIamyszWklqyn20ktSYNVpJaswarSQ1NuulgxXT\nXoAk7aoa498wSVYnuTrJliSn7uT8a5JsTnJlks8ledSwOQ20kjpvrmrktpQkK4EzgGOBQ4CTkhyy\nYNgVwFOr6lDgXODvhq3PQCup8+apkdsQhwNbqmprVd0JnA2sGRxQVV+oqp/2Dy8FVg2b1EArqfPm\nx2hJ1ibZNNDWDky1H3DdwPG2ft9iXgp8atj6vBkmqfPG2d5VVeuAdbt6zSQvBp4KPHPYWAOtpM6b\n4K6D64H9B45X9fvuIcnRwBuBZ1bVHcMmNdBK6rya3CO4G4GDkxxIL8CeCLxocECSpwDvA1ZX1Y2j\nTGqgldR5k/q68aranuQU4AJgJXBmVV2V5DRgU1WtB94J7A2ckwTgO1V1/FLzGmgldd4kH1ioqg3A\nhgV9bx74fPS4cxpoJXXeBEsHTRhoJXXerD+Ca6CV1Hm+vUuSGvPF35LUmKUDSWrMQCtJjbnrQJIa\nM6OVpMbcdSBJjc3VbH9rmIFWUudZo5WkxqzRSlJj1mglqbF5SweS1JYZrSQ15q4DSWrM0oEkNWbp\nQJIaM6OVpMbMaCWpsbmam/YSlmSgldR5PoIrSY35CK4kNWZGK0mNuetAkhpz14EkNeYjuJLUmDVa\nSWrMGq0kNWZGK0mNuY9Wkhozo5Wkxtx1IEmNeTNMkhqb9dLBimkvQJJ2VY3xb5gkq5NcnWRLklN3\ncv4Xk/xb//yXkxwwbE4DraTOq6qR21KSrATOAI4FDgFOSnLIgmEvBW6pqscA7wbeMWx9BlpJnTdf\nNXIb4nBgS1Vtrao7gbOBNQvGrAE+2P98LvCsJFlq0iY12gO++tklLyrdVxww7QXcR2y/8/qRY06S\ntcDaga51VbWu/3k/4LqBc9uAIxZM8fMxVbU9ya3ALwM3LXZNb4ZJuk/pB9V1QwdOkKUDSbrb9cD+\nA8er+n07HZNkD+CBwM1LTWqglaS7bQQOTnJgkj2BE4H1C8asB/6w//kE4PM15C6bpQNJ6uvXXE8B\nLgBWAmdW1VVJTgM2VdV64J+BDyfZAvyQXjBeUmZ9o692ryQ/rqq9Jzzn8cAhVfW3SZ4HfLOqNo85\nx4XAa6tq0yTXJu0Olg7UXFWtr6q/7R8+j97+ROk+w0CrnUrPO5N8Pcl/JXlhv/+oJBcmOTfJfyf5\nyI49hEme2++7PMnpST7Z7z85yT8l+U3geOCdSb6a5KD+XE/tj9s3ybX9z/dLcnaSbyQ5D7jfwNqe\nneSSJF9Jck6SiWbg0qRZo9Vifhd4MvBrwL7AxiQX9c89BXgCcANwMfD0JJuA9wHPqKprkpy1cMKq\n+lKS9cAnq+pcgCX2eb8c+GlVPT7JocBX+uP3Bd4EHF1VP0nyeuA1wGmT+KOlFgy0WsxvAWdV1Rzw\n/SRfBJ4G/C9wWVVtA0jyVXr78n8MbK2qa/q/fxb33BQ+rmcApwNU1ZVJruz3H0mv9HBxP0jvCVyy\nC9eRmjPQ6t64Y+DzHLv2/2g7d5ew9hphfIDPVtVJu3BNabeyRqvF/CfwwiQrkzyEXoZ52RLjrwYe\nPfAmoxcuMu42YJ+B42uBX+9/PmGg/yLgRQBJnggc2u+/lF6p4jH9c/dP8tgR/h5pagy0Wsx5wJXA\n14DPA39RVd9bbHBV3Q68Avh0ksvpBdRbdzL0bOB1Sa5IchDw98DLk1xBrxa8w3uAvZN8g1799fL+\ndX4AnAyc1S8nXAI8blf+UKk199FqYpLsXVU/7u9COAP4VlW9e9rrkqbNjFaT9LL+zbGr6D3//b4p\nr0eaCWa0ktSYGa0kNWaglaTGDLSS1JiBVpIaM9BKUmP/B5dDhn9+RWL7AAAAAElFTkSuQmCC\n",
                "text/plain": "<Figure size 432x288 with 2 Axes>"
              },
              {
                "output_type": "display_data",
                "metadata": {
                  "tags": []
                },
                "image/png": "iVBORw0KGgoAAAANSUhEUgAAAVoAAAEFCAYAAACiiS9UAAAABHNCSVQICAgIfAhkiAAAAAlwSFlz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\nrkJggg==\n",
                "text/plain": "<Figure size 432x288 with 2 Axes>"
              },
              {
                "output_type": "display_data",
                "metadata": {
                  "tags": []
                },
                "image/png": "iVBORw0KGgoAAAANSUhEUgAAAVoAAAEFCAYAAACiiS9UAAAABHNCSVQICAgIfAhkiAAAAAlwSFlz\nAAALEgAACxIB0t1+/AAAADh0RVh0U29mdHdhcmUAbWF0cGxvdGxpYiB2ZXJzaW9uMy4yLjAsIGh0\ndHA6Ly9tYXRwbG90bGliLm9yZy8GearUAAAYb0lEQVR4nO3debgcVZnH8e8vQSCSgEtck7CFoAKi\nMgoqKswATkAlPG4sLsQtCqKOC4rLMIg47qI8MmJQHlyQCM6DXiWIG4siSIKRSAKBTECSIGACCfty\n733njzpXivZ2d3XSJ911+X3y1JNaTp861bfu2+e+dapaEYGZmeUzrtcNMDMb6xxozcwyc6A1M8vM\ngdbMLDMHWjOzzBxozcwyc6DtgKR9Ja1qsf1MSSdl2O/TJF0q6W5JX+l2/XUj6R5JO7bYfpOk/Tdl\nm7pJ0sWS3pmp7iznqLXWV4E2/YLcn36RRqZv9LpdfWAOsAbYOiI+3LhR0rGSrkmB+EZJxzarSNL2\nkkLSZjkbnFNETIyIFeDA0Yqk2ZJ+n6nuz0j6i6RBSSfk2MdY0o+/bK+JiF/3uhF9ZjtgaTS/u0TA\nW4HFwHTgl5JWRsS8DdmZpM0iYnDDmmqPEcuBjwLv6XVD6qCverStjHw6S/qypDtTz+3Ahu0rSr26\nN5W2vV3Stel1F0rarrQtJB0t6Yb02s9Imi7pD5LuknSOpM0b2vIJSWtSD/xNNCHp1ZL+LGldqm/3\nFmVfKmmBpPXp/5em9WcCRwIfTT38f/qTOCK+GBF/iojBiFgG/BTYu8muLk3/r0v1vSS9d5dJOlnS\nWuAESVuk9/pmSbdJOk3ShCrHJuljklan93OZpP2aHXfpNW+T9LPS8g2Szi0tr5T0/DQfknaSNAd4\nU+m9+VmpyudLWpzezx9J2rLJfsvHvi6dQy9N61dKul3SkaXyr5K0KJ0bK8u9OUmHpnNv67R8oKRb\nJT2lzbEfIOm61NZvUHxwlre3O3/fn9q9RtKXJI2T9BzgNOAl6b1ZV6ryiZLOTz+fP0qa3qp9o4mI\n70bEBcDdnb72MSki+mYCbgL2b7JtNvAw8C5gPHAUcAvFSbkVcBfwrFT2GcCuaX4Wxafvcyh68J8C\n/lCqNygC09bArsCDwG+AHYFtgKXAkansvsAg8FVgC2Af4N7Sfs8ETkrzLwBuB/ZK7T0yHd8Woxzb\nk4A7gbekNh6elp/cWG+F91DAIuA9TbZvn455s4b3dhB4X9r/BOBkYCC1bRLwM+Bz7Y4NeBawEnhm\naX/TK7R7R2AdxYf/M4G/AqtK2+4ExpV+Zjs1e29SW65M9TwJuLbF+zFy7G9Lx3IScDNwajqeV1IE\nk4mlc+C5qZ27A7cBh5TqOyu16ckU5+er2xz35FT/64HHAR9M7XlnB+fvRek4twWuL712NvD7hv2d\nCawF9kz1nQXMK21fnH4Oo03/M0r7fwCc0OvY0e9TzxvQ8EO7Cbin4Yf7rtJJs7xU9vHpJHs6RaBd\nB7wOmNBQ5wXAO0rL44D7gO1KJ+repe1XAR8rLX8F+Fqa3zf9EmxV2n4O8J9p/kweCbTfBD7T0JZl\nwD6jHPdbgCsb1l0OzG6st8J7+GngakYJ6Gn79oweaG8uLYviA2R6ad1LgBvbHRuwE0UQ3h94XIc/\n/5XAHsBhwFyKYPlsiiA4UCpXJdC+ubT8ReC0JvucDdxQWn5uqv9ppXVrgec3ef3XgJNLy0+gCNR/\nAb5V4ZjfClzR8N6v4pFgWeX8nVnafjTwm9KxjRZov11aPgi4biN+Zx1oK0z9mDo4JCKeUJpOL227\ndWQmIu5LsxMj4l7gUIp80d/Sn0XPTtu3A76e/ixcB9xBcTJPKdV7W2n+/lGWJ5aW70z7G/FXip5T\no+2AD4/sN+17WpOyIz24sr82tLEtScdQ/OK+KiIe7OS1FEFuxFMoPsiuKrX9F2k9tDi2iFgO/Adw\nAnC7pHmSRjvm0VxC8WH2ijR/MUXw3ictd+LW0vx9PPpn2Kjx501EjHoOSNpL0kWS/i5pPcU5N3mk\nYESsA84FdqP4kG7nmZTe+yiiV/lnUeX8LZdvdj6WdfLeWBf0Y6DdIBFxYUQcQJE2uA4YCdArgXc3\nBO8JEfGHDdzVEyVtVVreluJPxEYrgc827PfxEXH2KGVvofiFKtsWWF21UZLeDhwH7BcRTYegUfSA\n2q1fQxFcdi21fZuIGPmFbHlsEfHDiHhZOqYAvlDxMEYC7cvT/CW0D7Sb+vFzP6RIqUyLiG0o8qD/\nyKmmPPLbgbOBUyrU9zeKD6mR16u8TLXzt1y+fD52/N5IWqJHj/opT6d1Wp8VxkSgVTHOdFYKgA9S\npB+G0+bTgI9L2jWV3UbSGzZyl5+WtLmklwOvpujBNDodeE/qAUnSVulCyqRRys4HdpZ0hKTNJB0K\n7AL8vEpjVFyQ+2/ggEjDnlr4O8V703QcakQMp/afLOmpaR9TJP17u2OT9CxJ/yZpC+ABioA9nOrY\nV1KrX/5LgH+lSP+sAn4HzKTIdy5q8prbWh1LBpOAOyLiAUl7AkeMbEgX3H4AfIIi3TFF0tFt6jsf\n2FXSa1UMuXs/RTpsRJXz91hJT5Q0DfgA8KO0/jZgqhou5rYSEbtGMXxutOkfIwwkPS4d7zhgM0lb\nShpfdT+PNf0YaH/W8Cl6XoXXjAM+RPFJfgdFD+gogIg4j6JHNU/SXcA1wIFN6qniVooLM7dQXEh4\nT0Rc11goIhZSXLj7Riq/nCJn9k8iYi1FwP4wRT7woxQXUdZUbNNJFMFoQbveR0q5fBa4LP05+uIm\ndX4stfmK9L79muJCV7tj2wL4PEWv+FbgqcDH07ZpQNO/JCLieooPyd+l5buAFcBlETHU5GXfAXZJ\nx/KTZnV30dHAiZLuBo6nyNGP+BywMiK+mVI3bwZOkjSjWWXpZ/wGivdsLTADuKy0vcr5+1OKawt/\npgjc30nrfwssAW6VVPVcqup0ig/Rw4FPpvm3dHkfY4aKlJBZfpK+DZwbERf2ui1jRfoLYUbKjVuf\ncqA1qzEH2nrox9SB2Zgi6eXNLjD1um32zySdoeJGlWuabJekUyQtV3FTzB5t63SP1szsEZJeQXGt\n4HsRsdso2w+iuLnnIIqbdr4eEXu1qtM9WjOzkoi4lOKiejOzKIJwRMQVwBMkPaNVnVkeKnPj8w5w\nN9kMWL9uQvtCG2HtA3nr3xT2u+1Hal+qtYfXrKgcczZ/yvR3UzwRb8TciJjbwe6m8OibRFaldX9r\n9oJ+fHqXmVk2Kah2Elg3mgOtmdXfcLNh1lms5tF3402lzV2cztGaWf0NDVafNt4A8NY0+uDFwPqI\naJo2APdozWwMKO4a7w5JZ1M8c2Oyiq+u+i+KR1gSEadR3DJ/EMUdkfdR3G7dkgOtmdXfcPcCbUQc\n3mZ7AO/tpE4HWjOrvy72aHNwoDWz+tu0F8M65kBrZvXnHq2ZWV7RndEE2TjQmln9dfFiWA4OtGZW\nf04dmJll5othZmaZuUdrZpaZL4aZmWXmi2FmZnk1/5Lk/uBAa2b15xytmVlmTh2YmWXmHq2ZWWZD\nD/e6BS050JpZ/Tl1YGaWmVMHZmaZuUdrZpaZA62ZWV7hi2FmZpk5R2tmlplTB2ZmmblHa2aWmXu0\nZmaZuUdrZpbZoB/8bWaWl3u0ZmaZOUdrZpaZe7RmZpm5R2tmlpl7tGZmmXnUgZlZZhG9bkFLDrRm\nVn/O0ZqZZdbngXZcrxtgZrbRYrj61IakmZKWSVou6bhRtm8r6SJJiyQtlnRQuzrdozWz+hsa6ko1\nksYDpwIHAKuABZIGImJpqdingHMi4puSdgHmA9u3qteB1szqr3upgz2B5RGxAkDSPGAWUA60AWyd\n5rcBbmlXqQOtmdVfB4FW0hxgTmnV3IiYm+anACtL21YBezVUcQLwS0nvA7YC9m+3TwdaM6u/Dm5Y\nSEF1btuCzR0OnBkRX5H0EuD7knaLaN4IB1ozq70Y7to42tXAtNLy1LSu7B3ATICIuFzSlsBk4PZm\nlXrUgZnV3/Bw9am1BcAMSTtI2hw4DBhoKHMzsB+ApOcAWwJ/b1Wpe7RmVn9dGnUQEYOSjgEuBMYD\nZ0TEEkknAgsjYgD4MHC6pA9SXBibHdH61jQHWjOrvy7esBAR8ymGbJXXHV+aXwrs3UmdDrRmVn99\nfmeYA62Z1Z8fKmNmlpl7tGZmmXVveFcWDrRmVn9dGnWQiwOtmdVeOHVgZpaZUwdmZpn5yxnNzDJz\nj9bMLLNBXwwzM8vLqQMzs8ycOjAzy8vDu8zMcnOP1swsMwdaM7PMfAuumVleXfzOsCwcaM2s/hxo\nzcwy86gDM7PM3KM1M8vMgdbMLK8YcurAzCwv92jNzPLy8C4zs9wcaM3MMuvvFK0DrZnVXwz2d6R1\noDWz+uvvOOtAa2b154thZma5uUdrZpaXe7RmZrn1eY92XK8bYDaWbfOE+7PW/+Qt89ZfFzFYfeoF\n92jNMlq/bkLW+tc+kLf+uujzbxt3j9bMxoDhDqY2JM2UtEzScknHNSnzRklLJS2R9MN2dbpHa2a1\n160eraTxwKnAAcAqYIGkgYhYWiozA/g4sHdE3Cnpqe3qdY/WzGovhqtPbewJLI+IFRHxEDAPmNVQ\n5l3AqRFxJ0BE3N6uUgdaM6u9GFLlSdIcSQtL05xSVVOAlaXlVWld2c7AzpIuk3SFpJnt2ufUgZnV\nXiepg4iYC8zdiN1tBswA9gWmApdKem5ErGv1AjOzWothdauq1cC00vLUtK5sFfDHiHgYuFHS9RSB\nd0GzSp06MLPa62KOdgEwQ9IOkjYHDgMGGsr8hKI3i6TJFKmEFa0qdY/WzGovojs92ogYlHQMcCEw\nHjgjIpZIOhFYGBEDadsrJS0FhoBjI2Jtq3odaM2s9rp5w0JEzAfmN6w7vjQfwIfSVEml1IGknSX9\nRtI1aXl3SZ+quhMzs5yGh1R56oWqOdrTKQboPgwQEYspchdmZj0Xw6o89ULV1MHjI+JK6VGN7NHj\nGczMHq1XAbSqqoF2jaTpQABIej3wt2ytMjPrQPT342grB9r3Ugzwfbak1cCNwJuztcrMrANjokcb\nESuA/SVtBYyLiLvzNsvMrLpuDe/KpWWglTTq8IWRXG1EfDVDm8zMOjLUo9EEVbXr0U5K/z8LeBGP\n3CHxGuDKXI0yM+tErXu0EfFpAEmXAnuMpAwknQCcn711ZmYVjIkcLfA04KHS8kNpnZlZz42VUQff\nA66UdF5aPgT4bp4mmZl1Zkz0aCPis5IuAF6eVr0tIhbla5aZWXVDw/39IMJKgVbStsAa4Lzyuoi4\nOVfDzMyqGiupg/NJd4UBE4AdgGXArjkaZWbWieE6jzoYERHPLS9L2gM4OkuLzMw6VOvhXc1ExJ8k\n7dXtxpiZbYgxkTpouENsHLAHcEuWFpmZdWhMpA545A4xKB6PeD7wv91vjplZ58bEqANgaUScW14h\n6Q3AuU3Km5ltMn2eOaj8DQsfr7jOzGyTGw5Vnnqh3dO7DgQOAqZIOqW0aWv8DQtm1ifqPurgFmAh\ncDBwVWn93cAHczXKzKwTXfwS3CzaPb3rauBqSWdFhHuwZtaXghr3aCWdExFvBBZJ+qd8c0Tsnq1l\nZmYVDdY8dfCB9P+rczfEzGxD9XuPtuWog4gY+abboyPir+UJ34JrZn1iuIOpF6oO7zpglHUHdrMh\nZmYbKlDlqRfa5WiPoui57ihpcWnTJOCynA0zM6uq1qMOgB8CFwCfA44rrb87Iu7I1iozsw4M9XmO\ntt3wrvXAeuBwAElPBbYEJkqa6Ad/m1k/6PNvsqmWo5X0Gkk3ADcClwA3UfR0zcx6bhhVnnqh6sWw\nk4AXA9dHxA7AfsAV2VplZtaB6GDqhaqB9uGIWAuMkzQuIi4CXpixXWZmlfX78K6qj0lcJ2kicClw\nlqTbgXvzNcvMrLph9XeStmqPdhZwP8WDZH4B/B/wmlyNMjPrxFAHUy9UCrQRcW9EDEXEYER8NyJO\nSakEM7OeG1b1qR1JMyUtk7Rc0nEtyr1OUkhqm0Ztd8PC3YyePxYQEbF121abmWXWrdEEksYDp1Lc\nDbsKWCBpICKWNpSbRPEsmD9Wqbfdsw4mRcTWo0yTHGTNrF90cdTBnsDyiFgREQ8B8yhSp40+A3wB\neKBK+/r7G83MzCroJHUgaY6khaVpTqmqKcDK0vKqtO4fJO0BTIuI86u2r+qoAzOzvtXJsK2ImAvM\n3ZD9SBoHfBWY3cnrHGjNrPaGuje6azUwrbQ8Na0bMQnYDbhYxZCypwMDkg6OiIXNKnWgNbPa6+KN\nCAuAGZJ2oAiwhwFHjGxMz3+ZPLIs6WLgI62CLDhHa2ZjQLfuDEvfjXgMcCFwLXBORCyRdKKkgze0\nfe7RmlntdfMrwyJiPjC/Yd3xTcruW6VOB1ozq726P/jbzKzv9erW2qocaM2s9vr9wd8OtGZWe04d\nmJll5kBrZpZZr745oSoHWjOrPedozcwy86gDM7PMhvs8eeBAa2a154thZmaZ9Xd/1oHWzMYA92jN\nzDIbVH/3aR1ozaz2+jvMOtCa2Rjg1IGZWWYe3mVmlll/h1kHWjMbA5w6MDPLbKjP+7QOtGZWe+7R\nmpllFu7Rmpnl5R6tmVlmHt5lZpZZf4dZB1ozGwMG+zzUOtCaWe35YpiZWWa+GGZmlpl7tGZmmblH\na2aW2VC4R2tmlpXH0ZqZZeYcrZlZZs7Rmpll1u+pg3G9boCZ2caKDv61I2mmpGWSlks6bpTtH5K0\nVNJiSb+RtF27Oh1ozaz2hiIqT61IGg+cChwI7AIcLmmXhmKLgBdGxO7Aj4EvtmufA62Z1d4wUXlq\nY09geUSsiIiHgHnArHKBiLgoIu5Li1cAU9tV6kBrZrU33MEkaY6khaVpTqmqKcDK0vKqtK6ZdwAX\ntGufL4aZWe11MrwrIuYCczd2n5LeDLwQ2KddWQdaM6u9Lo46WA1MKy1PTeseRdL+wCeBfSLiwXaV\nOtCaWe1F927BXQDMkLQDRYA9DDiiXEDSC4BvATMj4vYqlTrQmlntdevrxiNiUNIxwIXAeOCMiFgi\n6URgYUQMAF8CJgLnSgK4OSIOblWvA62Z1V43b1iIiPnA/IZ1x5fm9++0TgdaM6u9LqYOsnCgNbPa\n6/dbcB1ozaz2/PQuM7PM/OBvM7PMnDowM8vMgdbMLDOPOjAzy8w9WjOzzDzqwMwss6Ho728Nc6A1\ns9pzjtbMLDPnaM3MMnOO1swss2GnDszM8nKP1swsM486MDPLzKkDM7PMnDowM8vMPVozs8zcozUz\ny2wohnrdhJYcaM2s9nwLrplZZr4F18wsM/dozcwy86gDM7PMPOrAzCwz34JrZpaZc7RmZpk5R2tm\nlpl7tGZmmXkcrZlZZu7Rmpll5lEHZmaZ+WKYmVlm/Z46GNfrBpiZbazo4F87kmZKWiZpuaTjRtm+\nhaQfpe1/lLR9uzodaM2s9iKi8tSKpPHAqcCBwC7A4ZJ2aSj2DuDOiNgJOBn4Qrv2OdCaWe0NR1Se\n2tgTWB4RKyLiIWAeMKuhzCzgu2n+x8B+ktSq0iw52h2u/lXLnZqZddPgQ6srxxxJc4A5pVVzI2Ju\nmp8CrCxtWwXs1VDFP8pExKCk9cCTgTXN9umLYWb2mJKC6ty2BbvIqQMzs0esBqaVlqemdaOWkbQZ\nsA2wtlWlDrRmZo9YAMyQtIOkzYHDgIGGMgPAkWn+9cBvo81VNqcOzMySlHM9BrgQGA+cERFLJJ0I\nLIyIAeA7wPclLQfuoAjGLanfB/rapiXpnoiY2OU6DwZ2iYjPSzoEuD4ilnZYx8XARyJiYTfbZrYp\nOHVg2UXEQER8Pi0eQjE+0ewxw4HWRqXClyRdI+kvkg5N6/eVdLGkH0u6TtJZI2MIJR2U1l0l6RRJ\nP0/rZ0v6hqSXAgcDX5L0Z0nTU10vTOUmS7opzU+QNE/StZLOAyaU2vZKSZdL+pOkcyV1tQdu1m3O\n0VozrwWeDzwPmAwskHRp2vYCYFfgFuAyYG9JC4FvAa+IiBslnd1YYUT8QdIA8POI+DFAi3HeRwH3\nRcRzJO0O/CmVnwx8Ctg/Iu6V9DHgQ8CJ3ThosxwcaK2ZlwFnR8QQcJukS4AXAXcBV0bEKgBJfwa2\nB+4BVkTEjen1Z/PoQeGdegVwCkBELJa0OK1/MUXq4bIUpDcHLt+I/Zhl50BrG+LB0vwQG3ceDfJI\nCmvLCuUF/CoiDt+IfZptUs7RWjO/Aw6VNF7SUyh6mFe2KL8M2LH0JKNDm5S7G5hUWr4J+Jc0//rS\n+kuBIwAk7QbsntZfQZGq2Clt20rSzhWOx6xnHGitmfOAxcDVwG+Bj0bErc0KR8T9wNHALyRdRRFQ\n149SdB5wrKRFkqYDXwaOkrSIIhc84pvAREnXUuRfr0r7+TswGzg7pRMuB569MQdqlpvH0VrXSJoY\nEfekUQinAjdExMm9bpdZr7lHa930rnRxbAnF/d/f6nF7zPqCe7RmZpm5R2tmlpkDrZlZZg60ZmaZ\nOdCamWXmQGtmltn/A8Cd5eHl8sBtAAAAAElFTkSuQmCC\n",
                "text/plain": "<Figure size 432x288 with 2 Axes>"
              }
            ],
            "_view_module": "@jupyter-widgets/output",
            "_model_module_version": "1.0.0",
            "_view_count": null,
            "_view_module_version": "1.0.0",
            "layout": "IPY_MODEL_a77d5d05e9324f38b14a848e3b03247e",
            "_model_module": "@jupyter-widgets/output"
          }
        },
        "58e0b785cc9a42ee92581606df888486": {
          "model_module": "@jupyter-widgets/controls",
          "model_name": "SliderStyleModel",
          "state": {
            "_view_name": "StyleView",
            "handle_color": null,
            "_model_name": "SliderStyleModel",
            "description_width": "",
            "_view_module": "@jupyter-widgets/base",
            "_model_module_version": "1.5.0",
            "_view_count": null,
            "_view_module_version": "1.2.0",
            "_model_module": "@jupyter-widgets/controls"
          }
        },
        "cb144db0dcff4899948eead35b3d48a7": {
          "model_module": "@jupyter-widgets/base",
          "model_name": "LayoutModel",
          "state": {
            "_view_name": "LayoutView",
            "grid_template_rows": null,
            "right": null,
            "justify_content": null,
            "_view_module": "@jupyter-widgets/base",
            "overflow": null,
            "_model_module_version": "1.2.0",
            "_view_count": null,
            "flex_flow": null,
            "width": null,
            "min_width": null,
            "border": null,
            "align_items": null,
            "bottom": null,
            "_model_module": "@jupyter-widgets/base",
            "top": null,
            "grid_column": null,
            "overflow_y": null,
            "overflow_x": null,
            "grid_auto_flow": null,
            "grid_area": null,
            "grid_template_columns": null,
            "flex": null,
            "_model_name": "LayoutModel",
            "justify_items": null,
            "grid_row": null,
            "max_height": null,
            "align_content": null,
            "visibility": null,
            "align_self": null,
            "height": null,
            "min_height": null,
            "padding": null,
            "grid_auto_rows": null,
            "grid_gap": null,
            "max_width": null,
            "order": null,
            "_view_module_version": "1.2.0",
            "grid_template_areas": null,
            "object_position": null,
            "object_fit": null,
            "grid_auto_columns": null,
            "margin": null,
            "display": null,
            "left": null
          }
        },
        "99cf3943d53844e7813212e8d89e2b5c": {
          "model_module": "@jupyter-widgets/controls",
          "model_name": "SliderStyleModel",
          "state": {
            "_view_name": "StyleView",
            "handle_color": null,
            "_model_name": "SliderStyleModel",
            "description_width": "",
            "_view_module": "@jupyter-widgets/base",
            "_model_module_version": "1.5.0",
            "_view_count": null,
            "_view_module_version": "1.2.0",
            "_model_module": "@jupyter-widgets/controls"
          }
        },
        "bd00fc5aecd64367b67d6ae06cfb9e1a": {
          "model_module": "@jupyter-widgets/base",
          "model_name": "LayoutModel",
          "state": {
            "_view_name": "LayoutView",
            "grid_template_rows": null,
            "right": null,
            "justify_content": null,
            "_view_module": "@jupyter-widgets/base",
            "overflow": null,
            "_model_module_version": "1.2.0",
            "_view_count": null,
            "flex_flow": null,
            "width": null,
            "min_width": null,
            "border": null,
            "align_items": null,
            "bottom": null,
            "_model_module": "@jupyter-widgets/base",
            "top": null,
            "grid_column": null,
            "overflow_y": null,
            "overflow_x": null,
            "grid_auto_flow": null,
            "grid_area": null,
            "grid_template_columns": null,
            "flex": null,
            "_model_name": "LayoutModel",
            "justify_items": null,
            "grid_row": null,
            "max_height": null,
            "align_content": null,
            "visibility": null,
            "align_self": null,
            "height": null,
            "min_height": null,
            "padding": null,
            "grid_auto_rows": null,
            "grid_gap": null,
            "max_width": null,
            "order": null,
            "_view_module_version": "1.2.0",
            "grid_template_areas": null,
            "object_position": null,
            "object_fit": null,
            "grid_auto_columns": null,
            "margin": null,
            "display": null,
            "left": null
          }
        }
      }
    }
  },
  "cells": [
    {
      "cell_type": "markdown",
      "metadata": {
        "colab_type": "text",
        "id": "UEHyIgGaaSEJ"
      },
      "source": [
        "Lambda School Data Science\n",
        "\n",
        "*Unit 2, Sprint 2, Module 2*\n",
        "\n",
        "---"
      ]
    },
    {
      "cell_type": "markdown",
      "metadata": {
        "colab_type": "text",
        "id": "mRfPLX4WgLVJ"
      },
      "source": [
        "# Random Forests"
      ]
    },
    {
      "cell_type": "markdown",
      "metadata": {
        "colab_type": "text",
        "id": "jRRNhkxcgLVK"
      },
      "source": [
        "- use scikit-learn for **random forests**\n",
        "- do **ordinal encoding** with high-cardinality categoricals\n",
        "- understand how categorical encodings affect trees differently compared to linear models\n",
        "- understand how tree ensembles reduce overfitting compared to a single decision tree with unlimited depth"
      ]
    },
    {
      "cell_type": "markdown",
      "metadata": {
        "colab_type": "text",
        "id": "-3TH11e1gLVL"
      },
      "source": [
        "Today's lesson has two take-away messages:\n",
        "\n",
        "#### Try Tree Ensembles when you do machine learning with labeled, tabular data\n",
        "- \"Tree Ensembles\" means Random Forest or Gradient Boosting models. \n",
        "- [Tree Ensembles often have the best predictive accuracy](https://arxiv.org/abs/1708.05070) with labeled, tabular data.\n",
        "- Why? Because trees can fit non-linear, non-[monotonic](https://en.wikipedia.org/wiki/Monotonic_function) relationships, and [interactions](https://christophm.github.io/interpretable-ml-book/interaction.html) between features.\n",
        "- A single decision tree, grown to unlimited depth, will [overfit](http://www.r2d3.us/visual-intro-to-machine-learning-part-1/). We solve this problem by ensembling trees, with bagging (Random Forest) or boosting (Gradient Boosting).\n",
        "- Random Forest's advantage: may be less sensitive to hyperparameters. Gradient Boosting's advantage: may get better predictive accuracy.\n",
        "\n",
        "#### One-hot encoding isn’t the only way, and may not be the best way, of categorical encoding for tree ensembles.\n",
        "- For example, tree ensembles can work with arbitrary \"ordinal\" encoding! (Randomly assigning an integer to each category.) Compared to one-hot encoding, the dimensionality will be lower, and the predictive accuracy may be just as good or even better.\n"
      ]
    },
    {
      "cell_type": "markdown",
      "metadata": {
        "colab_type": "text",
        "id": "r5PbOFEuFfGF"
      },
      "source": [
        "### Setup\n",
        "\n",
        "Run the code cell below. You can work locally (follow the [local setup instructions](https://lambdaschool.github.io/ds/unit2/local/)) or on Colab.\n",
        "\n",
        "Libraries\n",
        "\n",
        "- **category_encoders** \n",
        "- **graphviz**\n",
        "- ipywidgets\n",
        "- matplotlib\n",
        "- numpy\n",
        "- pandas\n",
        "- seaborn\n",
        "- scikit-learn"
      ]
    },
    {
      "cell_type": "code",
      "metadata": {
        "colab_type": "code",
        "id": "FStAplyRFoEu",
        "colab": {}
      },
      "source": [
        "%%capture\n",
        "import sys\n",
        "\n",
        "# If you're on Colab:\n",
        "if 'google.colab' in sys.modules:\n",
        "    DATA_PATH = 'https://raw.githubusercontent.com/LambdaSchool/DS-Unit-2-Kaggle-Challenge/master/data/'\n",
        "    !pip install category_encoders==2.*\n",
        "\n",
        "# If you're working locally:\n",
        "else:\n",
        "    DATA_PATH = '../data/'"
      ],
      "execution_count": 0,
      "outputs": []
    },
    {
      "cell_type": "markdown",
      "metadata": {
        "colab_type": "text",
        "id": "ZL-yK8B7gLVW"
      },
      "source": [
        "# Use scikit-learn for random forests"
      ]
    },
    {
      "cell_type": "markdown",
      "metadata": {
        "id": "KJ5kGnTdt0qb",
        "colab_type": "text"
      },
      "source": [
        "## Overview\n",
        "\n",
        "Let's fit a Random Forest!\n",
        "\n",
        "![](https://pbs.twimg.com/media/EGSvKA0UUAEzUZi?format=png)\n",
        "\n",
        "[Chris Albon, MachineLearningFlashcards.com](https://twitter.com/chrisalbon/status/1181261589887909889)"
      ]
    },
    {
      "cell_type": "markdown",
      "metadata": {
        "colab_type": "text",
        "id": "gHFxMCPSgLVM"
      },
      "source": [
        "### Solution example\n",
        "\n",
        "First, read & wrangle the data.\n",
        "\n",
        "> Define a function to wrangle train, validate, and test sets in the same way. Clean outliers and engineer features. (For example, [what other columns have zeros and shouldn't?](https://github.com/Quartz/bad-data-guide#zeros-replace-missing-values) What other columns are duplicates, or nearly duplicates? Can you extract the year from date_recorded? Can you engineer new features, such as the number of years from waterpump construction to waterpump inspection?)"
      ]
    },
    {
      "cell_type": "code",
      "metadata": {
        "colab_type": "code",
        "id": "YTLm-rDagLVM",
        "colab": {}
      },
      "source": [
        "import numpy as np\n",
        "import pandas as pd\n",
        "from sklearn.model_selection import train_test_split\n",
        "\n",
        "# Merge train_features.csv & train_labels.csv\n",
        "train = pd.merge(pd.read_csv(DATA_PATH+'waterpumps/train_features.csv'), \n",
        "                 pd.read_csv(DATA_PATH+'waterpumps/train_labels.csv'))\n",
        "\n",
        "# Read test_features.csv & sample_submission.csv\n",
        "test = pd.read_csv(DATA_PATH+'waterpumps/test_features.csv')\n",
        "sample_submission = pd.read_csv(DATA_PATH+'waterpumps/sample_submission.csv')\n",
        "\n",
        "# Split train into train & val\n",
        "train, val = train_test_split(train, train_size=0.80, test_size=0.20, \n",
        "                              stratify=train['status_group'], random_state=42)\n",
        "\n",
        "\n",
        "def wrangle(X):\n",
        "    \"\"\"Wrangle train, validate, and test sets in the same way\"\"\"\n",
        "    \n",
        "    # Prevent SettingWithCopyWarning\n",
        "    X = X.copy()\n",
        "    \n",
        "    # About 3% of the time, latitude has small values near zero,\n",
        "    # outside Tanzania, so we'll treat these values like zero.\n",
        "    X['latitude'] = X['latitude'].replace(-2e-08, 0)\n",
        "    \n",
        "    # When columns have zeros and shouldn't, they are like null values.\n",
        "    # So we will replace the zeros with nulls, and impute missing values later.\n",
        "    # Also create a \"missing indicator\" column, because the fact that\n",
        "    # values are missing may be a predictive signal.\n",
        "    cols_with_zeros = ['longitude', 'latitude', 'construction_year', \n",
        "                       'gps_height', 'population']\n",
        "    for col in cols_with_zeros:\n",
        "        X[col] = X[col].replace(0, np.nan)\n",
        "        X[col+'_MISSING'] = X[col].isnull()\n",
        "            \n",
        "    # Drop duplicate columns\n",
        "    duplicates = ['quantity_group', 'payment_type']\n",
        "    X = X.drop(columns=duplicates)\n",
        "    \n",
        "    # Drop recorded_by (never varies) and id (always varies, random)\n",
        "    unusable_variance = ['recorded_by', 'id']\n",
        "    X = X.drop(columns=unusable_variance)\n",
        "    \n",
        "    # Convert date_recorded to datetime\n",
        "    X['date_recorded'] = pd.to_datetime(X['date_recorded'], infer_datetime_format=True)\n",
        "    \n",
        "    # Extract components from date_recorded, then drop the original column\n",
        "    X['year_recorded'] = X['date_recorded'].dt.year\n",
        "    X['month_recorded'] = X['date_recorded'].dt.month\n",
        "    X['day_recorded'] = X['date_recorded'].dt.day\n",
        "    X = X.drop(columns='date_recorded')\n",
        "    \n",
        "    # Engineer feature: how many years from construction_year to date_recorded\n",
        "    X['years'] = X['year_recorded'] - X['construction_year']\n",
        "    X['years_MISSING'] = X['years'].isnull()\n",
        "    \n",
        "    # return the wrangled dataframe\n",
        "    return X\n",
        "\n",
        "train = wrangle(train)\n",
        "val = wrangle(val)\n",
        "test = wrangle(test)"
      ],
      "execution_count": 0,
      "outputs": []
    },
    {
      "cell_type": "code",
      "metadata": {
        "colab_type": "code",
        "id": "m2HppBvZgLVP",
        "colab": {}
      },
      "source": [
        "# The status_group column is the target\n",
        "target = 'status_group'\n",
        "\n",
        "# Get a dataframe with all train columns except the target\n",
        "train_features = train.drop(columns=[target])\n",
        "\n",
        "# Get a list of the numeric features\n",
        "numeric_features = train_features.select_dtypes(include='number').columns.tolist()\n",
        "\n",
        "# Get a series with the cardinality of the nonnumeric features\n",
        "cardinality = train_features.select_dtypes(exclude='number').nunique()\n",
        "\n",
        "# Get a list of all categorical features with cardinality <= 50\n",
        "categorical_features = cardinality[cardinality <= 50].index.tolist()\n",
        "\n",
        "# Combine the lists \n",
        "features = numeric_features + categorical_features"
      ],
      "execution_count": 0,
      "outputs": []
    },
    {
      "cell_type": "code",
      "metadata": {
        "colab_type": "code",
        "id": "aXmK2brXgLVR",
        "colab": {}
      },
      "source": [
        "# Arrange data into X features matrix and y target vector \n",
        "X_train = train[features]\n",
        "y_train = train[target]\n",
        "X_val = val[features]\n",
        "y_val = val[target]\n",
        "X_test = test[features]"
      ],
      "execution_count": 0,
      "outputs": []
    },
    {
      "cell_type": "markdown",
      "metadata": {
        "id": "iqxP2bYKt0qu",
        "colab_type": "text"
      },
      "source": [
        "## Follow Along\n",
        "\n",
        "[Scikit-Learn User Guide: Random Forests](https://scikit-learn.org/stable/modules/ensemble.html#random-forests) "
      ]
    },
    {
      "cell_type": "code",
      "metadata": {
        "colab_type": "code",
        "id": "57yyygsdgLVW",
        "outputId": "5cbbc556-754e-49ea-b982-dcf1dee066a6",
        "colab": {
          "base_uri": "https://localhost:8080/",
          "height": 70
        }
      },
      "source": [
        "# TODO\n",
        "%%time\n",
        "\n",
        "import category_encoders as ce\n",
        "from sklearn.ensemble import RandomForestClassifier\n",
        "from sklearn.impute import SimpleImputer\n",
        "from sklearn.pipeline import make_pipeline\n",
        "\n",
        "pipeline = make_pipeline(\n",
        "    ce.OneHotEncoder(use_cat_names=True),\n",
        "    SimpleImputer(strategy='mean'),\n",
        "    RandomForestClassifier(random_state=0, n_jobs=-1)\n",
        ")\n",
        "\n",
        "pipeline.fit(X_train, y_train)\n",
        "print ('Validation Accuracy', pipeline.score(X_val, y_val))"
      ],
      "execution_count": 112,
      "outputs": [
        {
          "output_type": "stream",
          "text": [
            "Validation Accuracy 0.8081649831649832\n",
            "CPU times: user 25.9 s, sys: 290 ms, total: 26.2 s\n",
            "Wall time: 15.5 s\n"
          ],
          "name": "stdout"
        }
      ]
    },
    {
      "cell_type": "code",
      "metadata": {
        "id": "XRL1z9jNIgFW",
        "colab_type": "code",
        "colab": {
          "base_uri": "https://localhost:8080/",
          "height": 70
        },
        "outputId": "a26fd01d-3f81-432f-b379-62ccb4b03572"
      },
      "source": [
        "# TODO\n",
        "%%time\n",
        "\n",
        "import category_encoders as ce\n",
        "from sklearn.ensemble import RandomForestClassifier\n",
        "from sklearn.impute import SimpleImputer\n",
        "from sklearn.pipeline import make_pipeline\n",
        "\n",
        "pipeline = make_pipeline(\n",
        "    ce.OneHotEncoder(use_cat_names=True),\n",
        "    SimpleImputer(strategy='median'),\n",
        "    RandomForestClassifier(random_state=0, n_jobs=-1)\n",
        ")\n",
        "\n",
        "pipeline.fit(X_train, y_train)\n",
        "print ('Validation Accuracy', pipeline.score(X_val, y_val))"
      ],
      "execution_count": 113,
      "outputs": [
        {
          "output_type": "stream",
          "text": [
            "Validation Accuracy 0.8088383838383838\n",
            "CPU times: user 26.2 s, sys: 178 ms, total: 26.4 s\n",
            "Wall time: 16 s\n"
          ],
          "name": "stdout"
        }
      ]
    },
    {
      "cell_type": "code",
      "metadata": {
        "id": "0wkmiN5GIlDZ",
        "colab_type": "code",
        "colab": {
          "base_uri": "https://localhost:8080/",
          "height": 34
        },
        "outputId": "fb635c88-17b5-45ae-d353-91210e4708c1"
      },
      "source": [
        "%matplotlib inline\n",
        "import matplotlib.pyplot as plt\n",
        "\n",
        "# Get encoded values\n",
        "encoder = pipeline.named_steps['onehotencoder']\n",
        "encoded = encoder.transform(X_train)\n",
        "print ('Print X_train shape after encoding', encoded.shape)\n",
        "\n",
        "# Get feature importances\n",
        "rf = pipeline.named_steps['randomforestclassifier']\n",
        "importances = pd.Series(rf.feature_importances_, encoded.columns)"
      ],
      "execution_count": 114,
      "outputs": [
        {
          "output_type": "stream",
          "text": [
            "Print X_train shape after encoding (47520, 182)\n"
          ],
          "name": "stdout"
        }
      ]
    },
    {
      "cell_type": "code",
      "metadata": {
        "id": "SiMZyGItIncK",
        "colab_type": "code",
        "colab": {
          "base_uri": "https://localhost:8080/",
          "height": 606
        },
        "outputId": "857da14f-d04c-4435-f525-9bf3b6a635c7"
      },
      "source": [
        "# Plot the top 20 features\n",
        "n = 20\n",
        "plt.figure(figsize=(10, n/2))\n",
        "plt.title(f'Top {n} features')\n",
        "importances.sort_values()[-n:].plot.barh();"
      ],
      "execution_count": 115,
      "outputs": [
        {
          "output_type": "display_data",
          "data": {
            "image/png": "[encoded data removed]",
            "text/plain": [
              "<Figure size 720x720 with 1 Axes>"
            ]
          },
          "metadata": {
            "tags": []
          }
        }
      ]
    },
    {
      "cell_type": "markdown",
      "metadata": {
        "colab_type": "text",
        "id": "yfyk_aa5gLVY"
      },
      "source": [
        "# Do ordinal encoding with high-cardinality categoricals"
      ]
    },
    {
      "cell_type": "markdown",
      "metadata": {
        "id": "mMfCubCvt0q0",
        "colab_type": "text"
      },
      "source": [
        "## Overview\n",
        "\n",
        "http://contrib.scikit-learn.org/categorical-encoding/ordinal.html"
      ]
    },
    {
      "cell_type": "markdown",
      "metadata": {
        "id": "IO3vHsKNt0q1",
        "colab_type": "text"
      },
      "source": [
        "## Follow Along"
      ]
    },
    {
      "cell_type": "code",
      "metadata": {
        "colab_type": "code",
        "id": "b8d_WJtcgLVZ",
        "outputId": "bf677ab3-0077-45e5-ee16-faf23a945a8e",
        "colab": {
          "base_uri": "https://localhost:8080/",
          "height": 230
        }
      },
      "source": [
        "# TODO\n",
        "\n",
        "X_train = train.drop(columns=target)\n",
        "y_train = train[target]\n",
        "\n",
        "X_val = val.drop(columns=target)\n",
        "y_val = val[target]\n",
        "\n",
        "X_test = test\n",
        "\n",
        "X_train.columns"
      ],
      "execution_count": 116,
      "outputs": [
        {
          "output_type": "execute_result",
          "data": {
            "text/plain": [
              "Index(['amount_tsh', 'funder', 'gps_height', 'installer', 'longitude',\n",
              "       'latitude', 'wpt_name', 'num_private', 'basin', 'subvillage', 'region',\n",
              "       'region_code', 'district_code', 'lga', 'ward', 'population',\n",
              "       'public_meeting', 'scheme_management', 'scheme_name', 'permit',\n",
              "       'construction_year', 'extraction_type', 'extraction_type_group',\n",
              "       'extraction_type_class', 'management', 'management_group', 'payment',\n",
              "       'water_quality', 'quality_group', 'quantity', 'source', 'source_type',\n",
              "       'source_class', 'waterpoint_type', 'waterpoint_type_group',\n",
              "       'longitude_MISSING', 'latitude_MISSING', 'construction_year_MISSING',\n",
              "       'gps_height_MISSING', 'population_MISSING', 'year_recorded',\n",
              "       'month_recorded', 'day_recorded', 'years', 'years_MISSING'],\n",
              "      dtype='object')"
            ]
          },
          "metadata": {
            "tags": []
          },
          "execution_count": 116
        }
      ]
    },
    {
      "cell_type": "code",
      "metadata": {
        "id": "6HGBjnXyIsET",
        "colab_type": "code",
        "colab": {
          "base_uri": "https://localhost:8080/",
          "height": 70
        },
        "outputId": "c3be7b3d-5c7e-4a89-f7c9-188dc4e3e5e0"
      },
      "source": [
        "# TODO\n",
        "%%time\n",
        "\n",
        "import category_encoders as ce\n",
        "from sklearn.ensemble import RandomForestClassifier\n",
        "from sklearn.impute import SimpleImputer\n",
        "from sklearn.pipeline import make_pipeline\n",
        "\n",
        "pipeline = make_pipeline(\n",
        "    ce.OrdinalEncoder(),\n",
        "    SimpleImputer(strategy='median'),\n",
        "    RandomForestClassifier(random_state=0, n_jobs=-1)\n",
        ")\n",
        "\n",
        "pipeline.fit(X_train, y_train)\n",
        "print ('Validation Accuracy', pipeline.score(X_val, y_val))"
      ],
      "execution_count": 117,
      "outputs": [
        {
          "output_type": "stream",
          "text": [
            "Validation Accuracy 0.8092592592592592\n",
            "CPU times: user 19.2 s, sys: 132 ms, total: 19.3 s\n",
            "Wall time: 10.6 s\n"
          ],
          "name": "stdout"
        }
      ]
    },
    {
      "cell_type": "markdown",
      "metadata": {
        "colab_type": "text",
        "id": "xs2UPoVdgLVp"
      },
      "source": [
        "# Understand how categorical encodings affect trees differently compared to linear models"
      ]
    },
    {
      "cell_type": "markdown",
      "metadata": {
        "id": "Zyov0W3jt0q6",
        "colab_type": "text"
      },
      "source": [
        "## Follow Along"
      ]
    },
    {
      "cell_type": "markdown",
      "metadata": {
        "colab_type": "text",
        "id": "z8V-A92mgLVp"
      },
      "source": [
        "### Categorical exploration, 1 feature at a time\n",
        "\n",
        "Change `feature`, then re-run these cells!"
      ]
    },
    {
      "cell_type": "code",
      "metadata": {
        "colab_type": "code",
        "id": "G35RAzVdgLVq",
        "colab": {}
      },
      "source": [
        "feature = 'extraction_type_class'"
      ],
      "execution_count": 0,
      "outputs": []
    },
    {
      "cell_type": "code",
      "metadata": {
        "colab_type": "code",
        "id": "OuxHWiH8gLVr",
        "outputId": "af4b484f-8e42-4b49-ea4f-859b857b5e67",
        "colab": {
          "base_uri": "https://localhost:8080/",
          "height": 158
        }
      },
      "source": [
        "X_train[feature].value_counts()"
      ],
      "execution_count": 89,
      "outputs": [
        {
          "output_type": "execute_result",
          "data": {
            "text/plain": [
              "gravity         21448\n",
              "handpump        13184\n",
              "other            5193\n",
              "submersible      4894\n",
              "motorpump        2355\n",
              "rope pump         353\n",
              "wind-powered       93\n",
              "Name: extraction_type_class, dtype: int64"
            ]
          },
          "metadata": {
            "tags": []
          },
          "execution_count": 89
        }
      ]
    },
    {
      "cell_type": "code",
      "metadata": {
        "colab_type": "code",
        "id": "pVxoC4NngLVt",
        "outputId": "bf95816e-0774-4444-8fd6-3a307916a477",
        "colab": {
          "base_uri": "https://localhost:8080/",
          "height": 552
        }
      },
      "source": [
        "import seaborn as sns\n",
        "plt.figure(figsize=(16,9))\n",
        "sns.barplot(\n",
        "    x=train[feature], \n",
        "    y=train['status_group']=='functional', \n",
        "    color='grey'\n",
        ");"
      ],
      "execution_count": 90,
      "outputs": [
        {
          "output_type": "display_data",
          "data": {
            "image/png": "[encoded data removed]",
            "text/plain": [
              "<Figure size 1152x648 with 1 Axes>"
            ]
          },
          "metadata": {
            "tags": []
          }
        }
      ]
    },
    {
      "cell_type": "code",
      "metadata": {
        "colab_type": "code",
        "id": "w99mek14gLVv",
        "outputId": "a56662b6-6dbd-461e-f6d0-73bab346a966",
        "colab": {
          "base_uri": "https://localhost:8080/",
          "height": 390
        }
      },
      "source": [
        "X_train[feature].head(20)"
      ],
      "execution_count": 91,
      "outputs": [
        {
          "output_type": "execute_result",
          "data": {
            "text/plain": [
              "43360        gravity\n",
              "7263         gravity\n",
              "2486        handpump\n",
              "313            other\n",
              "52726      motorpump\n",
              "8558         gravity\n",
              "2559         gravity\n",
              "54735      motorpump\n",
              "25763       handpump\n",
              "44540    submersible\n",
              "28603          other\n",
              "4372     submersible\n",
              "30666        gravity\n",
              "6431     submersible\n",
              "57420          other\n",
              "1373         gravity\n",
              "2026         gravity\n",
              "58977       handpump\n",
              "41101        gravity\n",
              "10019        gravity\n",
              "Name: extraction_type_class, dtype: object"
            ]
          },
          "metadata": {
            "tags": []
          },
          "execution_count": 91
        }
      ]
    },
    {
      "cell_type": "markdown",
      "metadata": {
        "colab_type": "text",
        "id": "ezzK2IdbgLVx"
      },
      "source": [
        "### [One Hot Encoding](http://contrib.scikit-learn.org/categorical-encoding/onehot.html)\n",
        "\n",
        "> Onehot (or dummy) coding for categorical features, produces one feature per category, each binary.\n",
        "\n",
        "Warning: May run slow, or run out of memory, with high cardinality categoricals!"
      ]
    },
    {
      "cell_type": "code",
      "metadata": {
        "colab_type": "code",
        "id": "HDQZtV6GgLVy",
        "outputId": "278efc76-ae70-46d9-b7f5-16bc4be91e21",
        "colab": {
          "base_uri": "https://localhost:8080/",
          "height": 702
        }
      },
      "source": [
        "encoder = ce.OneHotEncoder(use_cat_names=True)\n",
        "encoded = encoder.fit_transform(X_train[[feature]])\n",
        "print(f'{len(encoded.columns)} columns')\n",
        "encoded.head(20)"
      ],
      "execution_count": 92,
      "outputs": [
        {
          "output_type": "stream",
          "text": [
            "7 columns\n"
          ],
          "name": "stdout"
        },
        {
          "output_type": "execute_result",
          "data": {
            "text/html": [
              "<div>\n",
              "<style scoped>\n",
              "    .dataframe tbody tr th:only-of-type {\n",
              "        vertical-align: middle;\n",
              "    }\n",
              "\n",
              "    .dataframe tbody tr th {\n",
              "        vertical-align: top;\n",
              "    }\n",
              "\n",
              "    .dataframe thead th {\n",
              "        text-align: right;\n",
              "    }\n",
              "</style>\n",
              "<table border=\"1\" class=\"dataframe\">\n",
              "  <thead>\n",
              "    <tr style=\"text-align: right;\">\n",
              "      <th></th>\n",
              "      <th>extraction_type_class_gravity</th>\n",
              "      <th>extraction_type_class_handpump</th>\n",
              "      <th>extraction_type_class_other</th>\n",
              "      <th>extraction_type_class_motorpump</th>\n",
              "      <th>extraction_type_class_submersible</th>\n",
              "      <th>extraction_type_class_rope pump</th>\n",
              "      <th>extraction_type_class_wind-powered</th>\n",
              "    </tr>\n",
              "  </thead>\n",
              "  <tbody>\n",
              "    <tr>\n",
              "      <th>43360</th>\n",
              "      <td>1</td>\n",
              "      <td>0</td>\n",
              "      <td>0</td>\n",
              "      <td>0</td>\n",
              "      <td>0</td>\n",
              "      <td>0</td>\n",
              "      <td>0</td>\n",
              "    </tr>\n",
              "    <tr>\n",
              "      <th>7263</th>\n",
              "      <td>1</td>\n",
              "      <td>0</td>\n",
              "      <td>0</td>\n",
              "      <td>0</td>\n",
              "      <td>0</td>\n",
              "      <td>0</td>\n",
              "      <td>0</td>\n",
              "    </tr>\n",
              "    <tr>\n",
              "      <th>2486</th>\n",
              "      <td>0</td>\n",
              "      <td>1</td>\n",
              "      <td>0</td>\n",
              "      <td>0</td>\n",
              "      <td>0</td>\n",
              "      <td>0</td>\n",
              "      <td>0</td>\n",
              "    </tr>\n",
              "    <tr>\n",
              "      <th>313</th>\n",
              "      <td>0</td>\n",
              "      <td>0</td>\n",
              "      <td>1</td>\n",
              "      <td>0</td>\n",
              "      <td>0</td>\n",
              "      <td>0</td>\n",
              "      <td>0</td>\n",
              "    </tr>\n",
              "    <tr>\n",
              "      <th>52726</th>\n",
              "      <td>0</td>\n",
              "      <td>0</td>\n",
              "      <td>0</td>\n",
              "      <td>1</td>\n",
              "      <td>0</td>\n",
              "      <td>0</td>\n",
              "      <td>0</td>\n",
              "    </tr>\n",
              "    <tr>\n",
              "      <th>8558</th>\n",
              "      <td>1</td>\n",
              "      <td>0</td>\n",
              "      <td>0</td>\n",
              "      <td>0</td>\n",
              "      <td>0</td>\n",
              "      <td>0</td>\n",
              "      <td>0</td>\n",
              "    </tr>\n",
              "    <tr>\n",
              "      <th>2559</th>\n",
              "      <td>1</td>\n",
              "      <td>0</td>\n",
              "      <td>0</td>\n",
              "      <td>0</td>\n",
              "      <td>0</td>\n",
              "      <td>0</td>\n",
              "      <td>0</td>\n",
              "    </tr>\n",
              "    <tr>\n",
              "      <th>54735</th>\n",
              "      <td>0</td>\n",
              "      <td>0</td>\n",
              "      <td>0</td>\n",
              "      <td>1</td>\n",
              "      <td>0</td>\n",
              "      <td>0</td>\n",
              "      <td>0</td>\n",
              "    </tr>\n",
              "    <tr>\n",
              "      <th>25763</th>\n",
              "      <td>0</td>\n",
              "      <td>1</td>\n",
              "      <td>0</td>\n",
              "      <td>0</td>\n",
              "      <td>0</td>\n",
              "      <td>0</td>\n",
              "      <td>0</td>\n",
              "    </tr>\n",
              "    <tr>\n",
              "      <th>44540</th>\n",
              "      <td>0</td>\n",
              "      <td>0</td>\n",
              "      <td>0</td>\n",
              "      <td>0</td>\n",
              "      <td>1</td>\n",
              "      <td>0</td>\n",
              "      <td>0</td>\n",
              "    </tr>\n",
              "    <tr>\n",
              "      <th>28603</th>\n",
              "      <td>0</td>\n",
              "      <td>0</td>\n",
              "      <td>1</td>\n",
              "      <td>0</td>\n",
              "      <td>0</td>\n",
              "      <td>0</td>\n",
              "      <td>0</td>\n",
              "    </tr>\n",
              "    <tr>\n",
              "      <th>4372</th>\n",
              "      <td>0</td>\n",
              "      <td>0</td>\n",
              "      <td>0</td>\n",
              "      <td>0</td>\n",
              "      <td>1</td>\n",
              "      <td>0</td>\n",
              "      <td>0</td>\n",
              "    </tr>\n",
              "    <tr>\n",
              "      <th>30666</th>\n",
              "      <td>1</td>\n",
              "      <td>0</td>\n",
              "      <td>0</td>\n",
              "      <td>0</td>\n",
              "      <td>0</td>\n",
              "      <td>0</td>\n",
              "      <td>0</td>\n",
              "    </tr>\n",
              "    <tr>\n",
              "      <th>6431</th>\n",
              "      <td>0</td>\n",
              "      <td>0</td>\n",
              "      <td>0</td>\n",
              "      <td>0</td>\n",
              "      <td>1</td>\n",
              "      <td>0</td>\n",
              "      <td>0</td>\n",
              "    </tr>\n",
              "    <tr>\n",
              "      <th>57420</th>\n",
              "      <td>0</td>\n",
              "      <td>0</td>\n",
              "      <td>1</td>\n",
              "      <td>0</td>\n",
              "      <td>0</td>\n",
              "      <td>0</td>\n",
              "      <td>0</td>\n",
              "    </tr>\n",
              "    <tr>\n",
              "      <th>1373</th>\n",
              "      <td>1</td>\n",
              "      <td>0</td>\n",
              "      <td>0</td>\n",
              "      <td>0</td>\n",
              "      <td>0</td>\n",
              "      <td>0</td>\n",
              "      <td>0</td>\n",
              "    </tr>\n",
              "    <tr>\n",
              "      <th>2026</th>\n",
              "      <td>1</td>\n",
              "      <td>0</td>\n",
              "      <td>0</td>\n",
              "      <td>0</td>\n",
              "      <td>0</td>\n",
              "      <td>0</td>\n",
              "      <td>0</td>\n",
              "    </tr>\n",
              "    <tr>\n",
              "      <th>58977</th>\n",
              "      <td>0</td>\n",
              "      <td>1</td>\n",
              "      <td>0</td>\n",
              "      <td>0</td>\n",
              "      <td>0</td>\n",
              "      <td>0</td>\n",
              "      <td>0</td>\n",
              "    </tr>\n",
              "    <tr>\n",
              "      <th>41101</th>\n",
              "      <td>1</td>\n",
              "      <td>0</td>\n",
              "      <td>0</td>\n",
              "      <td>0</td>\n",
              "      <td>0</td>\n",
              "      <td>0</td>\n",
              "      <td>0</td>\n",
              "    </tr>\n",
              "    <tr>\n",
              "      <th>10019</th>\n",
              "      <td>1</td>\n",
              "      <td>0</td>\n",
              "      <td>0</td>\n",
              "      <td>0</td>\n",
              "      <td>0</td>\n",
              "      <td>0</td>\n",
              "      <td>0</td>\n",
              "    </tr>\n",
              "  </tbody>\n",
              "</table>\n",
              "</div>"
            ],
            "text/plain": [
              "       extraction_type_class_gravity  ...  extraction_type_class_wind-powered\n",
              "43360                              1  ...                                   0\n",
              "7263                               1  ...                                   0\n",
              "2486                               0  ...                                   0\n",
              "313                                0  ...                                   0\n",
              "52726                              0  ...                                   0\n",
              "8558                               1  ...                                   0\n",
              "2559                               1  ...                                   0\n",
              "54735                              0  ...                                   0\n",
              "25763                              0  ...                                   0\n",
              "44540                              0  ...                                   0\n",
              "28603                              0  ...                                   0\n",
              "4372                               0  ...                                   0\n",
              "30666                              1  ...                                   0\n",
              "6431                               0  ...                                   0\n",
              "57420                              0  ...                                   0\n",
              "1373                               1  ...                                   0\n",
              "2026                               1  ...                                   0\n",
              "58977                              0  ...                                   0\n",
              "41101                              1  ...                                   0\n",
              "10019                              1  ...                                   0\n",
              "\n",
              "[20 rows x 7 columns]"
            ]
          },
          "metadata": {
            "tags": []
          },
          "execution_count": 92
        }
      ]
    },
    {
      "cell_type": "markdown",
      "metadata": {
        "colab_type": "text",
        "id": "1Ql9Qmw3sNJ7"
      },
      "source": [
        "#### One-Hot Encoding, Logistic Regression, Validation Accuracy"
      ]
    },
    {
      "cell_type": "code",
      "metadata": {
        "colab_type": "code",
        "id": "mT4A-oDGpOss",
        "outputId": "ed883a3a-6682-4513-b230-00bc0c76f4b4",
        "colab": {
          "base_uri": "https://localhost:8080/",
          "height": 34
        }
      },
      "source": [
        "from sklearn.linear_model import LogisticRegressionCV\n",
        "from sklearn.preprocessing import StandardScaler\n",
        "\n",
        "lr = make_pipeline(\n",
        "    ce.OneHotEncoder(use_cat_names=True), \n",
        "    SimpleImputer(), \n",
        "    StandardScaler(), \n",
        "    LogisticRegressionCV(multi_class='auto', solver='lbfgs', cv=5, n_jobs=-1)\n",
        ")\n",
        "\n",
        "lr.fit(X_train[[feature]], y_train)\n",
        "score = lr.score(X_val[[feature]], y_val)\n",
        "print('Logistic Regression, Validation Accuracy', score)"
      ],
      "execution_count": 93,
      "outputs": [
        {
          "output_type": "stream",
          "text": [
            "Logistic Regression, Validation Accuracy 0.6202861952861953\n"
          ],
          "name": "stdout"
        }
      ]
    },
    {
      "cell_type": "markdown",
      "metadata": {
        "colab_type": "text",
        "id": "EbH6wivpsRuV"
      },
      "source": [
        "#### One-Hot Encoding, Decision Tree, Validation Accuracy"
      ]
    },
    {
      "cell_type": "code",
      "metadata": {
        "colab_type": "code",
        "id": "b6KUluFOqIdK",
        "outputId": "fa2453eb-39b9-4041-914d-ebebcc6cac91",
        "colab": {
          "base_uri": "https://localhost:8080/",
          "height": 34
        }
      },
      "source": [
        "from sklearn.tree import DecisionTreeClassifier\n",
        "\n",
        "dt = make_pipeline(\n",
        "    ce.OneHotEncoder(use_cat_names=True), \n",
        "    SimpleImputer(), \n",
        "    DecisionTreeClassifier(random_state=42)\n",
        ")\n",
        "\n",
        "dt.fit(X_train[[feature]], y_train)\n",
        "score = dt.score(X_val[[feature]], y_val)\n",
        "print('Decision Tree, Validation Accuracy', score)"
      ],
      "execution_count": 94,
      "outputs": [
        {
          "output_type": "stream",
          "text": [
            "Decision Tree, Validation Accuracy 0.6202861952861953\n"
          ],
          "name": "stdout"
        }
      ]
    },
    {
      "cell_type": "markdown",
      "metadata": {
        "colab_type": "text",
        "id": "8yg11_gTsUu6"
      },
      "source": [
        "#### One-Hot Encoding, Logistic Regression, Model Interpretation"
      ]
    },
    {
      "cell_type": "code",
      "metadata": {
        "colab_type": "code",
        "id": "IxHwXGRornNI",
        "outputId": "e49e9fa8-e08c-4e4f-d882-ab1f8f0ffc6d",
        "colab": {
          "base_uri": "https://localhost:8080/",
          "height": 264
        }
      },
      "source": [
        "model = lr.named_steps['logisticregressioncv']\n",
        "encoder = lr.named_steps['onehotencoder']\n",
        "encoded_columns = encoder.transform(X_val[[feature]]).columns\n",
        "coefficients = pd.Series(model.coef_[0], encoded_columns)\n",
        "coefficients.sort_values().plot.barh(color='grey');"
      ],
      "execution_count": 95,
      "outputs": [
        {
          "output_type": "display_data",
          "data": {
            "image/png": "[encoded data removed]",
            "text/plain": [
              "<Figure size 432x288 with 1 Axes>"
            ]
          },
          "metadata": {
            "tags": []
          }
        }
      ]
    },
    {
      "cell_type": "markdown",
      "metadata": {
        "colab_type": "text",
        "id": "0REZ8HdpsccR"
      },
      "source": [
        "#### One-Hot Encoding, Decision Tree, Model Interpretation"
      ]
    },
    {
      "cell_type": "code",
      "metadata": {
        "colab_type": "code",
        "id": "gV-grmYKpDp9",
        "outputId": "9e9a107f-65a7-4b6b-958d-31078dcf10c8",
        "colab": {
          "base_uri": "https://localhost:8080/",
          "height": 954
        }
      },
      "source": [
        "# Plot tree\n",
        "# https://scikit-learn.org/stable/modules/generated/sklearn.tree.export_graphviz.html\n",
        "import graphviz\n",
        "from sklearn.tree import export_graphviz\n",
        "\n",
        "model = dt.named_steps['decisiontreeclassifier']\n",
        "encoder = dt.named_steps['onehotencoder']\n",
        "encoded_columns = encoder.transform(X_val[[feature]]).columns\n",
        "\n",
        "dot_data = export_graphviz(model, \n",
        "                           out_file=None, \n",
        "                           max_depth=7, \n",
        "                           feature_names=encoded_columns,\n",
        "                           class_names=model.classes_, \n",
        "                           impurity=False, \n",
        "                           filled=True, \n",
        "                           proportion=True, \n",
        "                           rounded=True)   \n",
        "display(graphviz.Source(dot_data))"
      ],
      "execution_count": 96,
      "outputs": [
        {
          "output_type": "display_data",
          "data": {
            "text/plain": [
              "<graphviz.files.Source at 0x7f066c9979b0>"
            ],
            "image/svg+xml": "<?xml version=\"1.0\" encoding=\"UTF-8\" standalone=\"no\"?>\n<!DOCTYPE svg PUBLIC \"-//W3C//DTD SVG 1.1//EN\"\n \"http://www.w3.org/Graphics/SVG/1.1/DTD/svg11.dtd\">\n<!-- Generated by graphviz version 2.40.1 (20161225.0304)\n -->\n<!-- Title: Tree Pages: 1 -->\n<svg width=\"1067pt\" height=\"685pt\"\n viewBox=\"0.00 0.00 1067.00 685.00\" xmlns=\"http://www.w3.org/2000/svg\" xmlns:xlink=\"http://www.w3.org/1999/xlink\">\n<g id=\"graph0\" class=\"graph\" transform=\"scale(1 1) rotate(0) translate(4 681)\">\n<title>Tree</title>\n<polygon fill=\"#ffffff\" stroke=\"transparent\" points=\"-4,4 -4,-681 1063,-681 1063,4 -4,4\"/>\n<!-- 0 -->\n<g id=\"node1\" class=\"node\">\n<title>0</title>\n<path fill=\"#f8decc\" stroke=\"#000000\" d=\"M944.5,-677C944.5,-677 725.5,-677 725.5,-677 719.5,-677 713.5,-671 713.5,-665 713.5,-665 713.5,-621 713.5,-621 713.5,-615 719.5,-609 725.5,-609 725.5,-609 944.5,-609 944.5,-609 950.5,-609 956.5,-615 956.5,-621 956.5,-621 956.5,-665 956.5,-665 956.5,-671 950.5,-677 944.5,-677\"/>\n<text text-anchor=\"middle\" x=\"835\" y=\"-661.8\" font-family=\"Helvetica,sans-Serif\" font-size=\"14.00\" fill=\"#000000\">extraction_type_class_other &lt;= 0.5</text>\n<text text-anchor=\"middle\" x=\"835\" y=\"-646.8\" font-family=\"Helvetica,sans-Serif\" font-size=\"14.00\" fill=\"#000000\">samples = 100.0%</text>\n<text text-anchor=\"middle\" x=\"835\" y=\"-631.8\" font-family=\"Helvetica,sans-Serif\" font-size=\"14.00\" fill=\"#000000\">value = [0.543, 0.073, 0.384]</text>\n<text text-anchor=\"middle\" x=\"835\" y=\"-616.8\" font-family=\"Helvetica,sans-Serif\" font-size=\"14.00\" fill=\"#000000\">class = functional</text>\n</g>\n<!-- 1 -->\n<g id=\"node2\" class=\"node\">\n<title>1</title>\n<path fill=\"#f5ceb2\" stroke=\"#000000\" d=\"M837,-573C837,-573 577,-573 577,-573 571,-573 565,-567 565,-561 565,-561 565,-517 565,-517 565,-511 571,-505 577,-505 577,-505 837,-505 837,-505 843,-505 849,-511 849,-517 849,-517 849,-561 849,-561 849,-567 843,-573 837,-573\"/>\n<text text-anchor=\"middle\" x=\"707\" y=\"-557.8\" font-family=\"Helvetica,sans-Serif\" font-size=\"14.00\" fill=\"#000000\">extraction_type_class_motorpump &lt;= 0.5</text>\n<text text-anchor=\"middle\" x=\"707\" y=\"-542.8\" font-family=\"Helvetica,sans-Serif\" font-size=\"14.00\" fill=\"#000000\">samples = 89.1%</text>\n<text text-anchor=\"middle\" x=\"707\" y=\"-527.8\" font-family=\"Helvetica,sans-Serif\" font-size=\"14.00\" fill=\"#000000\">value = [0.59, 0.078, 0.332]</text>\n<text text-anchor=\"middle\" x=\"707\" y=\"-512.8\" font-family=\"Helvetica,sans-Serif\" font-size=\"14.00\" fill=\"#000000\">class = functional</text>\n</g>\n<!-- 0&#45;&gt;1 -->\n<g id=\"edge1\" class=\"edge\">\n<title>0&#45;&gt;1</title>\n<path fill=\"none\" stroke=\"#000000\" d=\"M793.088,-608.9465C781.485,-599.519 768.7779,-589.1946 756.7741,-579.4415\"/>\n<polygon fill=\"#000000\" stroke=\"#000000\" points=\"758.9744,-576.7196 749.0061,-573.13 754.5602,-582.1524 758.9744,-576.7196\"/>\n<text text-anchor=\"middle\" x=\"751.5786\" y=\"-594.2973\" font-family=\"Helvetica,sans-Serif\" font-size=\"14.00\" fill=\"#000000\">True</text>\n</g>\n<!-- 12 -->\n<g id=\"node13\" class=\"node\">\n<title>12</title>\n<path fill=\"#9d66eb\" stroke=\"#000000\" d=\"M1047,-565.5C1047,-565.5 879,-565.5 879,-565.5 873,-565.5 867,-559.5 867,-553.5 867,-553.5 867,-524.5 867,-524.5 867,-518.5 873,-512.5 879,-512.5 879,-512.5 1047,-512.5 1047,-512.5 1053,-512.5 1059,-518.5 1059,-524.5 1059,-524.5 1059,-553.5 1059,-553.5 1059,-559.5 1053,-565.5 1047,-565.5\"/>\n<text text-anchor=\"middle\" x=\"963\" y=\"-550.3\" font-family=\"Helvetica,sans-Serif\" font-size=\"14.00\" fill=\"#000000\">samples = 10.9%</text>\n<text text-anchor=\"middle\" x=\"963\" y=\"-535.3\" font-family=\"Helvetica,sans-Serif\" font-size=\"14.00\" fill=\"#000000\">value = [0.159, 0.031, 0.81]</text>\n<text text-anchor=\"middle\" x=\"963\" y=\"-520.3\" font-family=\"Helvetica,sans-Serif\" font-size=\"14.00\" fill=\"#000000\">class = non functional</text>\n</g>\n<!-- 0&#45;&gt;12 -->\n<g id=\"edge12\" class=\"edge\">\n<title>0&#45;&gt;12</title>\n<path fill=\"none\" stroke=\"#000000\" d=\"M876.912,-608.9465C891.5533,-597.0504 907.9526,-583.726 922.4785,-571.9237\"/>\n<polygon fill=\"#000000\" stroke=\"#000000\" points=\"924.7786,-574.5645 930.3327,-565.5422 920.3645,-569.1317 924.7786,-574.5645\"/>\n<text text-anchor=\"middle\" x=\"927.7602\" y=\"-586.7095\" font-family=\"Helvetica,sans-Serif\" font-size=\"14.00\" fill=\"#000000\">False</text>\n</g>\n<!-- 2 -->\n<g id=\"node3\" class=\"node\">\n<title>2</title>\n<path fill=\"#f4caac\" stroke=\"#000000\" d=\"M708.5,-469C708.5,-469 443.5,-469 443.5,-469 437.5,-469 431.5,-463 431.5,-457 431.5,-457 431.5,-413 431.5,-413 431.5,-407 437.5,-401 443.5,-401 443.5,-401 708.5,-401 708.5,-401 714.5,-401 720.5,-407 720.5,-413 720.5,-413 720.5,-457 720.5,-457 720.5,-463 714.5,-469 708.5,-469\"/>\n<text text-anchor=\"middle\" x=\"576\" y=\"-453.8\" font-family=\"Helvetica,sans-Serif\" font-size=\"14.00\" fill=\"#000000\">extraction_type_class_submersible &lt;= 0.5</text>\n<text text-anchor=\"middle\" x=\"576\" y=\"-438.8\" font-family=\"Helvetica,sans-Serif\" font-size=\"14.00\" fill=\"#000000\">samples = 84.1%</text>\n<text text-anchor=\"middle\" x=\"576\" y=\"-423.8\" font-family=\"Helvetica,sans-Serif\" font-size=\"14.00\" fill=\"#000000\">value = [0.603, 0.08, 0.318]</text>\n<text text-anchor=\"middle\" x=\"576\" y=\"-408.8\" font-family=\"Helvetica,sans-Serif\" font-size=\"14.00\" fill=\"#000000\">class = functional</text>\n</g>\n<!-- 1&#45;&gt;2 -->\n<g id=\"edge2\" class=\"edge\">\n<title>1&#45;&gt;2</title>\n<path fill=\"none\" stroke=\"#000000\" d=\"M664.1057,-504.9465C652.2307,-495.519 639.2259,-485.1946 626.9407,-475.4415\"/>\n<polygon fill=\"#000000\" stroke=\"#000000\" points=\"628.9989,-472.6066 618.9907,-469.13 624.6464,-478.089 628.9989,-472.6066\"/>\n</g>\n<!-- 11 -->\n<g id=\"node12\" class=\"node\">\n<title>11</title>\n<path fill=\"#d8c1f7\" stroke=\"#000000\" d=\"M927,-461.5C927,-461.5 751,-461.5 751,-461.5 745,-461.5 739,-455.5 739,-449.5 739,-449.5 739,-420.5 739,-420.5 739,-414.5 745,-408.5 751,-408.5 751,-408.5 927,-408.5 927,-408.5 933,-408.5 939,-414.5 939,-420.5 939,-420.5 939,-449.5 939,-449.5 939,-455.5 933,-461.5 927,-461.5\"/>\n<text text-anchor=\"middle\" x=\"839\" y=\"-446.3\" font-family=\"Helvetica,sans-Serif\" font-size=\"14.00\" fill=\"#000000\">samples = 5.0%</text>\n<text text-anchor=\"middle\" x=\"839\" y=\"-431.3\" font-family=\"Helvetica,sans-Serif\" font-size=\"14.00\" fill=\"#000000\">value = [0.381, 0.045, 0.574]</text>\n<text text-anchor=\"middle\" x=\"839\" y=\"-416.3\" font-family=\"Helvetica,sans-Serif\" font-size=\"14.00\" fill=\"#000000\">class = non functional</text>\n</g>\n<!-- 1&#45;&gt;11 -->\n<g id=\"edge11\" class=\"edge\">\n<title>1&#45;&gt;11</title>\n<path fill=\"none\" stroke=\"#000000\" d=\"M750.2217,-504.9465C765.3206,-493.0504 782.2324,-479.726 797.2122,-467.9237\"/>\n<polygon fill=\"#000000\" stroke=\"#000000\" points=\"799.623,-470.4802 805.3119,-461.5422 795.2909,-464.9817 799.623,-470.4802\"/>\n</g>\n<!-- 3 -->\n<g id=\"node4\" class=\"node\">\n<title>3</title>\n<path fill=\"#f4c7a8\" stroke=\"#000000\" d=\"M568.5,-365C568.5,-365 339.5,-365 339.5,-365 333.5,-365 327.5,-359 327.5,-353 327.5,-353 327.5,-309 327.5,-309 327.5,-303 333.5,-297 339.5,-297 339.5,-297 568.5,-297 568.5,-297 574.5,-297 580.5,-303 580.5,-309 580.5,-309 580.5,-353 580.5,-353 580.5,-359 574.5,-365 568.5,-365\"/>\n<text text-anchor=\"middle\" x=\"454\" y=\"-349.8\" font-family=\"Helvetica,sans-Serif\" font-size=\"14.00\" fill=\"#000000\">extraction_type_class_gravity &lt;= 0.5</text>\n<text text-anchor=\"middle\" x=\"454\" y=\"-334.8\" font-family=\"Helvetica,sans-Serif\" font-size=\"14.00\" fill=\"#000000\">samples = 73.8%</text>\n<text text-anchor=\"middle\" x=\"454\" y=\"-319.8\" font-family=\"Helvetica,sans-Serif\" font-size=\"14.00\" fill=\"#000000\">value = [0.611, 0.085, 0.304]</text>\n<text text-anchor=\"middle\" x=\"454\" y=\"-304.8\" font-family=\"Helvetica,sans-Serif\" font-size=\"14.00\" fill=\"#000000\">class = functional</text>\n</g>\n<!-- 2&#45;&gt;3 -->\n<g id=\"edge3\" class=\"edge\">\n<title>2&#45;&gt;3</title>\n<path fill=\"none\" stroke=\"#000000\" d=\"M536.0526,-400.9465C525.0988,-391.6088 513.1127,-381.3911 501.768,-371.7203\"/>\n<polygon fill=\"#000000\" stroke=\"#000000\" points=\"503.9179,-368.9538 494.0371,-365.13 499.3767,-374.2809 503.9179,-368.9538\"/>\n</g>\n<!-- 10 -->\n<g id=\"node11\" class=\"node\">\n<title>10</title>\n<path fill=\"#f9e4d5\" stroke=\"#000000\" d=\"M787,-357.5C787,-357.5 611,-357.5 611,-357.5 605,-357.5 599,-351.5 599,-345.5 599,-345.5 599,-316.5 599,-316.5 599,-310.5 605,-304.5 611,-304.5 611,-304.5 787,-304.5 787,-304.5 793,-304.5 799,-310.5 799,-316.5 799,-316.5 799,-345.5 799,-345.5 799,-351.5 793,-357.5 787,-357.5\"/>\n<text text-anchor=\"middle\" x=\"699\" y=\"-342.3\" font-family=\"Helvetica,sans-Serif\" font-size=\"14.00\" fill=\"#000000\">samples = 10.3%</text>\n<text text-anchor=\"middle\" x=\"699\" y=\"-327.3\" font-family=\"Helvetica,sans-Serif\" font-size=\"14.00\" fill=\"#000000\">value = [0.541, 0.042, 0.416]</text>\n<text text-anchor=\"middle\" x=\"699\" y=\"-312.3\" font-family=\"Helvetica,sans-Serif\" font-size=\"14.00\" fill=\"#000000\">class = functional</text>\n</g>\n<!-- 2&#45;&gt;10 -->\n<g id=\"edge10\" class=\"edge\">\n<title>2&#45;&gt;10</title>\n<path fill=\"none\" stroke=\"#000000\" d=\"M616.2748,-400.9465C630.2139,-389.1606 645.8112,-375.9726 659.6732,-364.2519\"/>\n<polygon fill=\"#000000\" stroke=\"#000000\" points=\"662.2324,-366.6715 667.6088,-357.5422 657.7127,-361.3262 662.2324,-366.6715\"/>\n</g>\n<!-- 4 -->\n<g id=\"node5\" class=\"node\">\n<title>4</title>\n<path fill=\"#f3c5a4\" stroke=\"#000000\" d=\"M458.5,-261C458.5,-261 181.5,-261 181.5,-261 175.5,-261 169.5,-255 169.5,-249 169.5,-249 169.5,-205 169.5,-205 169.5,-199 175.5,-193 181.5,-193 181.5,-193 458.5,-193 458.5,-193 464.5,-193 470.5,-199 470.5,-205 470.5,-205 470.5,-249 470.5,-249 470.5,-255 464.5,-261 458.5,-261\"/>\n<text text-anchor=\"middle\" x=\"320\" y=\"-245.8\" font-family=\"Helvetica,sans-Serif\" font-size=\"14.00\" fill=\"#000000\">extraction_type_class_wind&#45;powered &lt;= 0.5</text>\n<text text-anchor=\"middle\" x=\"320\" y=\"-230.8\" font-family=\"Helvetica,sans-Serif\" font-size=\"14.00\" fill=\"#000000\">samples = 28.7%</text>\n<text text-anchor=\"middle\" x=\"320\" y=\"-215.8\" font-family=\"Helvetica,sans-Serif\" font-size=\"14.00\" fill=\"#000000\">value = [0.629, 0.059, 0.311]</text>\n<text text-anchor=\"middle\" x=\"320\" y=\"-200.8\" font-family=\"Helvetica,sans-Serif\" font-size=\"14.00\" fill=\"#000000\">class = functional</text>\n</g>\n<!-- 3&#45;&gt;4 -->\n<g id=\"edge4\" class=\"edge\">\n<title>3&#45;&gt;4</title>\n<path fill=\"none\" stroke=\"#000000\" d=\"M410.1234,-296.9465C397.9765,-287.519 384.6738,-277.1946 372.1073,-267.4415\"/>\n<polygon fill=\"#000000\" stroke=\"#000000\" points=\"374.021,-264.4963 363.9752,-261.13 369.7291,-270.0262 374.021,-264.4963\"/>\n</g>\n<!-- 9 -->\n<g id=\"node10\" class=\"node\">\n<title>9</title>\n<path fill=\"#f4c9aa\" stroke=\"#000000\" d=\"M677,-253.5C677,-253.5 501,-253.5 501,-253.5 495,-253.5 489,-247.5 489,-241.5 489,-241.5 489,-212.5 489,-212.5 489,-206.5 495,-200.5 501,-200.5 501,-200.5 677,-200.5 677,-200.5 683,-200.5 689,-206.5 689,-212.5 689,-212.5 689,-241.5 689,-241.5 689,-247.5 683,-253.5 677,-253.5\"/>\n<text text-anchor=\"middle\" x=\"589\" y=\"-238.3\" font-family=\"Helvetica,sans-Serif\" font-size=\"14.00\" fill=\"#000000\">samples = 45.1%</text>\n<text text-anchor=\"middle\" x=\"589\" y=\"-223.3\" font-family=\"Helvetica,sans-Serif\" font-size=\"14.00\" fill=\"#000000\">value = [0.599, 0.101, 0.299]</text>\n<text text-anchor=\"middle\" x=\"589\" y=\"-208.3\" font-family=\"Helvetica,sans-Serif\" font-size=\"14.00\" fill=\"#000000\">class = functional</text>\n</g>\n<!-- 3&#45;&gt;9 -->\n<g id=\"edge9\" class=\"edge\">\n<title>3&#45;&gt;9</title>\n<path fill=\"none\" stroke=\"#000000\" d=\"M498.204,-296.9465C513.6461,-285.0504 530.9422,-271.726 546.2625,-259.9237\"/>\n<polygon fill=\"#000000\" stroke=\"#000000\" points=\"548.7603,-262.4176 554.5462,-253.5422 544.4883,-256.8723 548.7603,-262.4176\"/>\n</g>\n<!-- 5 -->\n<g id=\"node6\" class=\"node\">\n<title>5</title>\n<path fill=\"#f3c4a3\" stroke=\"#000000\" d=\"M319,-157C319,-157 63,-157 63,-157 57,-157 51,-151 51,-145 51,-145 51,-101 51,-101 51,-95 57,-89 63,-89 63,-89 319,-89 319,-89 325,-89 331,-95 331,-101 331,-101 331,-145 331,-145 331,-151 325,-157 319,-157\"/>\n<text text-anchor=\"middle\" x=\"191\" y=\"-141.8\" font-family=\"Helvetica,sans-Serif\" font-size=\"14.00\" fill=\"#000000\">extraction_type_class_rope pump &lt;= 0.5</text>\n<text text-anchor=\"middle\" x=\"191\" y=\"-126.8\" font-family=\"Helvetica,sans-Serif\" font-size=\"14.00\" fill=\"#000000\">samples = 28.5%</text>\n<text text-anchor=\"middle\" x=\"191\" y=\"-111.8\" font-family=\"Helvetica,sans-Serif\" font-size=\"14.00\" fill=\"#000000\">value = [0.631, 0.059, 0.31]</text>\n<text text-anchor=\"middle\" x=\"191\" y=\"-96.8\" font-family=\"Helvetica,sans-Serif\" font-size=\"14.00\" fill=\"#000000\">class = functional</text>\n</g>\n<!-- 4&#45;&gt;5 -->\n<g id=\"edge5\" class=\"edge\">\n<title>4&#45;&gt;5</title>\n<path fill=\"none\" stroke=\"#000000\" d=\"M277.7606,-192.9465C266.0669,-183.519 253.2606,-173.1946 241.163,-163.4415\"/>\n<polygon fill=\"#000000\" stroke=\"#000000\" points=\"243.3162,-160.6816 233.3343,-157.13 238.9227,-166.1312 243.3162,-160.6816\"/>\n</g>\n<!-- 8 -->\n<g id=\"node9\" class=\"node\">\n<title>8</title>\n<path fill=\"#f8f3fd\" stroke=\"#000000\" d=\"M537,-149.5C537,-149.5 361,-149.5 361,-149.5 355,-149.5 349,-143.5 349,-137.5 349,-137.5 349,-108.5 349,-108.5 349,-102.5 355,-96.5 361,-96.5 361,-96.5 537,-96.5 537,-96.5 543,-96.5 549,-102.5 549,-108.5 549,-108.5 549,-137.5 549,-137.5 549,-143.5 543,-149.5 537,-149.5\"/>\n<text text-anchor=\"middle\" x=\"449\" y=\"-134.3\" font-family=\"Helvetica,sans-Serif\" font-size=\"14.00\" fill=\"#000000\">samples = 0.2%</text>\n<text text-anchor=\"middle\" x=\"449\" y=\"-119.3\" font-family=\"Helvetica,sans-Serif\" font-size=\"14.00\" fill=\"#000000\">value = [0.452, 0.065, 0.484]</text>\n<text text-anchor=\"middle\" x=\"449\" y=\"-104.3\" font-family=\"Helvetica,sans-Serif\" font-size=\"14.00\" fill=\"#000000\">class = non functional</text>\n</g>\n<!-- 4&#45;&gt;8 -->\n<g id=\"edge8\" class=\"edge\">\n<title>4&#45;&gt;8</title>\n<path fill=\"none\" stroke=\"#000000\" d=\"M362.2394,-192.9465C376.9952,-181.0504 393.5225,-167.726 408.162,-155.9237\"/>\n<polygon fill=\"#000000\" stroke=\"#000000\" points=\"410.4891,-158.5433 416.0775,-149.5422 406.0957,-153.0938 410.4891,-158.5433\"/>\n</g>\n<!-- 6 -->\n<g id=\"node7\" class=\"node\">\n<title>6</title>\n<path fill=\"#f3c5a3\" stroke=\"#000000\" d=\"M164,-53C164,-53 12,-53 12,-53 6,-53 0,-47 0,-41 0,-41 0,-12 0,-12 0,-6 6,0 12,0 12,0 164,0 164,0 170,0 176,-6 176,-12 176,-12 176,-41 176,-41 176,-47 170,-53 164,-53\"/>\n<text text-anchor=\"middle\" x=\"88\" y=\"-37.8\" font-family=\"Helvetica,sans-Serif\" font-size=\"14.00\" fill=\"#000000\">samples = 27.7%</text>\n<text text-anchor=\"middle\" x=\"88\" y=\"-22.8\" font-family=\"Helvetica,sans-Serif\" font-size=\"14.00\" fill=\"#000000\">value = [0.63, 0.06, 0.31]</text>\n<text text-anchor=\"middle\" x=\"88\" y=\"-7.8\" font-family=\"Helvetica,sans-Serif\" font-size=\"14.00\" fill=\"#000000\">class = functional</text>\n</g>\n<!-- 5&#45;&gt;6 -->\n<g id=\"edge6\" class=\"edge\">\n<title>5&#45;&gt;6</title>\n<path fill=\"none\" stroke=\"#000000\" d=\"M154.6861,-88.9777C144.7168,-79.6376 133.9138,-69.5163 123.9643,-60.1947\"/>\n<polygon fill=\"#000000\" stroke=\"#000000\" points=\"126.2408,-57.5314 116.5502,-53.2485 121.4548,-62.6397 126.2408,-57.5314\"/>\n</g>\n<!-- 7 -->\n<g id=\"node8\" class=\"node\">\n<title>7</title>\n<path fill=\"#f2bf9b\" stroke=\"#000000\" d=\"M382,-53C382,-53 206,-53 206,-53 200,-53 194,-47 194,-41 194,-41 194,-12 194,-12 194,-6 200,0 206,0 206,0 382,0 382,0 388,0 394,-6 394,-12 394,-12 394,-41 394,-41 394,-47 388,-53 382,-53\"/>\n<text text-anchor=\"middle\" x=\"294\" y=\"-37.8\" font-family=\"Helvetica,sans-Serif\" font-size=\"14.00\" fill=\"#000000\">samples = 0.7%</text>\n<text text-anchor=\"middle\" x=\"294\" y=\"-22.8\" font-family=\"Helvetica,sans-Serif\" font-size=\"14.00\" fill=\"#000000\">value = [0.657, 0.037, 0.306]</text>\n<text text-anchor=\"middle\" x=\"294\" y=\"-7.8\" font-family=\"Helvetica,sans-Serif\" font-size=\"14.00\" fill=\"#000000\">class = functional</text>\n</g>\n<!-- 5&#45;&gt;7 -->\n<g id=\"edge7\" class=\"edge\">\n<title>5&#45;&gt;7</title>\n<path fill=\"none\" stroke=\"#000000\" d=\"M227.3139,-88.9777C237.2832,-79.6376 248.0862,-69.5163 258.0357,-60.1947\"/>\n<polygon fill=\"#000000\" stroke=\"#000000\" points=\"260.5452,-62.6397 265.4498,-53.2485 255.7592,-57.5314 260.5452,-62.6397\"/>\n</g>\n</g>\n</svg>\n"
          },
          "metadata": {
            "tags": []
          }
        }
      ]
    },
    {
      "cell_type": "markdown",
      "metadata": {
        "colab_type": "text",
        "id": "QUd6gzcZgLVz"
      },
      "source": [
        "### [Ordinal Encoding](http://contrib.scikit-learn.org/categorical-encoding/ordinal.html)\n",
        "\n",
        "> Ordinal encoding uses a single column of integers to represent the classes. An optional mapping dict can be passed in; in this case, we use the knowledge that there is some true order to the classes themselves. Otherwise, the classes are assumed to have no true order and integers are selected at random."
      ]
    },
    {
      "cell_type": "code",
      "metadata": {
        "colab_type": "code",
        "id": "CnBz2RbwgLVz",
        "outputId": "6d9c0296-7f07-4a9b-c712-89b5d9654e0c",
        "colab": {
          "base_uri": "https://localhost:8080/",
          "height": 665
        }
      },
      "source": [
        "encoder = ce.OrdinalEncoder()\n",
        "encoded = encoder.fit_transform(X_train[[feature]])\n",
        "print(f'1 column, {encoded[feature].nunique()} unique values')\n",
        "encoded.head(20)"
      ],
      "execution_count": 97,
      "outputs": [
        {
          "output_type": "stream",
          "text": [
            "1 column, 7 unique values\n"
          ],
          "name": "stdout"
        },
        {
          "output_type": "execute_result",
          "data": {
            "text/html": [
              "<div>\n",
              "<style scoped>\n",
              "    .dataframe tbody tr th:only-of-type {\n",
              "        vertical-align: middle;\n",
              "    }\n",
              "\n",
              "    .dataframe tbody tr th {\n",
              "        vertical-align: top;\n",
              "    }\n",
              "\n",
              "    .dataframe thead th {\n",
              "        text-align: right;\n",
              "    }\n",
              "</style>\n",
              "<table border=\"1\" class=\"dataframe\">\n",
              "  <thead>\n",
              "    <tr style=\"text-align: right;\">\n",
              "      <th></th>\n",
              "      <th>extraction_type_class</th>\n",
              "    </tr>\n",
              "  </thead>\n",
              "  <tbody>\n",
              "    <tr>\n",
              "      <th>43360</th>\n",
              "      <td>1</td>\n",
              "    </tr>\n",
              "    <tr>\n",
              "      <th>7263</th>\n",
              "      <td>1</td>\n",
              "    </tr>\n",
              "    <tr>\n",
              "      <th>2486</th>\n",
              "      <td>2</td>\n",
              "    </tr>\n",
              "    <tr>\n",
              "      <th>313</th>\n",
              "      <td>3</td>\n",
              "    </tr>\n",
              "    <tr>\n",
              "      <th>52726</th>\n",
              "      <td>4</td>\n",
              "    </tr>\n",
              "    <tr>\n",
              "      <th>8558</th>\n",
              "      <td>1</td>\n",
              "    </tr>\n",
              "    <tr>\n",
              "      <th>2559</th>\n",
              "      <td>1</td>\n",
              "    </tr>\n",
              "    <tr>\n",
              "      <th>54735</th>\n",
              "      <td>4</td>\n",
              "    </tr>\n",
              "    <tr>\n",
              "      <th>25763</th>\n",
              "      <td>2</td>\n",
              "    </tr>\n",
              "    <tr>\n",
              "      <th>44540</th>\n",
              "      <td>5</td>\n",
              "    </tr>\n",
              "    <tr>\n",
              "      <th>28603</th>\n",
              "      <td>3</td>\n",
              "    </tr>\n",
              "    <tr>\n",
              "      <th>4372</th>\n",
              "      <td>5</td>\n",
              "    </tr>\n",
              "    <tr>\n",
              "      <th>30666</th>\n",
              "      <td>1</td>\n",
              "    </tr>\n",
              "    <tr>\n",
              "      <th>6431</th>\n",
              "      <td>5</td>\n",
              "    </tr>\n",
              "    <tr>\n",
              "      <th>57420</th>\n",
              "      <td>3</td>\n",
              "    </tr>\n",
              "    <tr>\n",
              "      <th>1373</th>\n",
              "      <td>1</td>\n",
              "    </tr>\n",
              "    <tr>\n",
              "      <th>2026</th>\n",
              "      <td>1</td>\n",
              "    </tr>\n",
              "    <tr>\n",
              "      <th>58977</th>\n",
              "      <td>2</td>\n",
              "    </tr>\n",
              "    <tr>\n",
              "      <th>41101</th>\n",
              "      <td>1</td>\n",
              "    </tr>\n",
              "    <tr>\n",
              "      <th>10019</th>\n",
              "      <td>1</td>\n",
              "    </tr>\n",
              "  </tbody>\n",
              "</table>\n",
              "</div>"
            ],
            "text/plain": [
              "       extraction_type_class\n",
              "43360                      1\n",
              "7263                       1\n",
              "2486                       2\n",
              "313                        3\n",
              "52726                      4\n",
              "8558                       1\n",
              "2559                       1\n",
              "54735                      4\n",
              "25763                      2\n",
              "44540                      5\n",
              "28603                      3\n",
              "4372                       5\n",
              "30666                      1\n",
              "6431                       5\n",
              "57420                      3\n",
              "1373                       1\n",
              "2026                       1\n",
              "58977                      2\n",
              "41101                      1\n",
              "10019                      1"
            ]
          },
          "metadata": {
            "tags": []
          },
          "execution_count": 97
        }
      ]
    },
    {
      "cell_type": "markdown",
      "metadata": {
        "colab_type": "text",
        "id": "Nd-ZWprasqUM"
      },
      "source": [
        "#### Ordinal Encoding, Logistic Regression, Validation Accuracy"
      ]
    },
    {
      "cell_type": "code",
      "metadata": {
        "colab_type": "code",
        "id": "GJ1YpwjvrhfL",
        "outputId": "42b06d61-0d6b-44ef-eae2-3a065d131c5c",
        "colab": {
          "base_uri": "https://localhost:8080/",
          "height": 34
        }
      },
      "source": [
        "lr = make_pipeline(\n",
        "    ce.OrdinalEncoder(), \n",
        "    SimpleImputer(), \n",
        "    StandardScaler(), \n",
        "    LogisticRegressionCV(multi_class='auto', solver='lbfgs', cv=5, n_jobs=-1)\n",
        ")\n",
        "\n",
        "lr.fit(X_train[[feature]], y_train)\n",
        "score = lr.score(X_val[[feature]], y_val)\n",
        "print('Logistic Regression, Validation Accuracy', score)"
      ],
      "execution_count": 98,
      "outputs": [
        {
          "output_type": "stream",
          "text": [
            "Logistic Regression, Validation Accuracy 0.5417508417508418\n"
          ],
          "name": "stdout"
        }
      ]
    },
    {
      "cell_type": "markdown",
      "metadata": {
        "colab_type": "text",
        "id": "9lO_R3SksuHs"
      },
      "source": [
        "#### Ordinal Encoding, Decision Tree, Validation Accuracy"
      ]
    },
    {
      "cell_type": "code",
      "metadata": {
        "colab_type": "code",
        "id": "aOELD_roriVI",
        "outputId": "991b23d4-b69c-4563-d17d-7d7636a60ac0",
        "colab": {
          "base_uri": "https://localhost:8080/",
          "height": 34
        }
      },
      "source": [
        "dt = make_pipeline(\n",
        "    ce.OrdinalEncoder(), \n",
        "    SimpleImputer(), \n",
        "    DecisionTreeClassifier(random_state=42)\n",
        ")\n",
        "\n",
        "dt.fit(X_train[[feature]], y_train)\n",
        "score = dt.score(X_val[[feature]], y_val)\n",
        "print('Decision Tree, Validation Accuracy', score)"
      ],
      "execution_count": 99,
      "outputs": [
        {
          "output_type": "stream",
          "text": [
            "Decision Tree, Validation Accuracy 0.6202861952861953\n"
          ],
          "name": "stdout"
        }
      ]
    },
    {
      "cell_type": "markdown",
      "metadata": {
        "colab_type": "text",
        "id": "7V2zHjiwswTg"
      },
      "source": [
        "#### Ordinal Encoding, Logistic Regression, Model Interpretation"
      ]
    },
    {
      "cell_type": "code",
      "metadata": {
        "colab_type": "code",
        "id": "S9UPYPois8QR",
        "outputId": "f7c6f808-08bd-4e5a-aa21-7b76ac176707",
        "colab": {
          "base_uri": "https://localhost:8080/",
          "height": 264
        }
      },
      "source": [
        "model = lr.named_steps['logisticregressioncv']\n",
        "encoder = lr.named_steps['ordinalencoder']\n",
        "encoded_columns = encoder.transform(X_val[[feature]]).columns\n",
        "coefficients = pd.Series(model.coef_[0], encoded_columns)\n",
        "coefficients.sort_values().plot.barh(color='grey');"
      ],
      "execution_count": 100,
      "outputs": [
        {
          "output_type": "display_data",
          "data": {
            "image/png": "[encoded data removed]",
            "text/plain": [
              "<Figure size 432x288 with 1 Axes>"
            ]
          },
          "metadata": {
            "tags": []
          }
        }
      ]
    },
    {
      "cell_type": "markdown",
      "metadata": {
        "colab_type": "text",
        "id": "MvmmvE8fsymh"
      },
      "source": [
        "#### Ordinal Encoding, Decision Tree, Model Interpretation"
      ]
    },
    {
      "cell_type": "code",
      "metadata": {
        "colab_type": "code",
        "id": "jCvUu4Oms88b",
        "outputId": "c83d7be8-de44-495d-9e63-fd48f30d410c",
        "colab": {
          "base_uri": "https://localhost:8080/",
          "height": 815
        }
      },
      "source": [
        "model = dt.named_steps['decisiontreeclassifier']\n",
        "encoder = dt.named_steps['ordinalencoder']\n",
        "encoded_columns = encoder.transform(X_val[[feature]]).columns\n",
        "\n",
        "dot_data = export_graphviz(model, \n",
        "                           out_file=None, \n",
        "                           max_depth=5, \n",
        "                           feature_names=encoded_columns,\n",
        "                           class_names=model.classes_, \n",
        "                           impurity=False, \n",
        "                           filled=True, \n",
        "                           proportion=True, \n",
        "                           rounded=True)   \n",
        "display(graphviz.Source(dot_data))"
      ],
      "execution_count": 101,
      "outputs": [
        {
          "output_type": "display_data",
          "data": {
            "text/plain": [
              "<graphviz.files.Source at 0x7f0669e64780>"
            ],
            "image/svg+xml": "<?xml version=\"1.0\" encoding=\"UTF-8\" standalone=\"no\"?>\n<!DOCTYPE svg PUBLIC \"-//W3C//DTD SVG 1.1//EN\"\n \"http://www.w3.org/Graphics/SVG/1.1/DTD/svg11.dtd\">\n<!-- Generated by graphviz version 2.40.1 (20161225.0304)\n -->\n<!-- Title: Tree Pages: 1 -->\n<svg width=\"1167pt\" height=\"581pt\"\n viewBox=\"0.00 0.00 1167.00 581.00\" xmlns=\"http://www.w3.org/2000/svg\" xmlns:xlink=\"http://www.w3.org/1999/xlink\">\n<g id=\"graph0\" class=\"graph\" transform=\"scale(1 1) rotate(0) translate(4 577)\">\n<title>Tree</title>\n<polygon fill=\"#ffffff\" stroke=\"transparent\" points=\"-4,4 -4,-577 1163,-577 1163,4 -4,4\"/>\n<!-- 0 -->\n<g id=\"node1\" class=\"node\">\n<title>0</title>\n<path fill=\"#f8decc\" stroke=\"#000000\" d=\"M500,-573C500,-573 322,-573 322,-573 316,-573 310,-567 310,-561 310,-561 310,-517 310,-517 310,-511 316,-505 322,-505 322,-505 500,-505 500,-505 506,-505 512,-511 512,-517 512,-517 512,-561 512,-561 512,-567 506,-573 500,-573\"/>\n<text text-anchor=\"middle\" x=\"411\" y=\"-557.8\" font-family=\"Helvetica,sans-Serif\" font-size=\"14.00\" fill=\"#000000\">extraction_type_class &lt;= 2.5</text>\n<text text-anchor=\"middle\" x=\"411\" y=\"-542.8\" font-family=\"Helvetica,sans-Serif\" font-size=\"14.00\" fill=\"#000000\">samples = 100.0%</text>\n<text text-anchor=\"middle\" x=\"411\" y=\"-527.8\" font-family=\"Helvetica,sans-Serif\" font-size=\"14.00\" fill=\"#000000\">value = [0.543, 0.073, 0.384]</text>\n<text text-anchor=\"middle\" x=\"411\" y=\"-512.8\" font-family=\"Helvetica,sans-Serif\" font-size=\"14.00\" fill=\"#000000\">class = functional</text>\n</g>\n<!-- 1 -->\n<g id=\"node2\" class=\"node\">\n<title>1</title>\n<path fill=\"#f4c7a8\" stroke=\"#000000\" d=\"M390,-469C390,-469 212,-469 212,-469 206,-469 200,-463 200,-457 200,-457 200,-413 200,-413 200,-407 206,-401 212,-401 212,-401 390,-401 390,-401 396,-401 402,-407 402,-413 402,-413 402,-457 402,-457 402,-463 396,-469 390,-469\"/>\n<text text-anchor=\"middle\" x=\"301\" y=\"-453.8\" font-family=\"Helvetica,sans-Serif\" font-size=\"14.00\" fill=\"#000000\">extraction_type_class &lt;= 1.5</text>\n<text text-anchor=\"middle\" x=\"301\" y=\"-438.8\" font-family=\"Helvetica,sans-Serif\" font-size=\"14.00\" fill=\"#000000\">samples = 72.9%</text>\n<text text-anchor=\"middle\" x=\"301\" y=\"-423.8\" font-family=\"Helvetica,sans-Serif\" font-size=\"14.00\" fill=\"#000000\">value = [0.611, 0.085, 0.304]</text>\n<text text-anchor=\"middle\" x=\"301\" y=\"-408.8\" font-family=\"Helvetica,sans-Serif\" font-size=\"14.00\" fill=\"#000000\">class = functional</text>\n</g>\n<!-- 0&#45;&gt;1 -->\n<g id=\"edge1\" class=\"edge\">\n<title>0&#45;&gt;1</title>\n<path fill=\"none\" stroke=\"#000000\" d=\"M374.9819,-504.9465C365.2954,-495.7884 354.7136,-485.7838 344.6603,-476.2788\"/>\n<polygon fill=\"#000000\" stroke=\"#000000\" points=\"346.7701,-473.4569 337.099,-469.13 341.961,-478.5434 346.7701,-473.4569\"/>\n<text text-anchor=\"middle\" x=\"337.7997\" y=\"-490.4202\" font-family=\"Helvetica,sans-Serif\" font-size=\"14.00\" fill=\"#000000\">True</text>\n</g>\n<!-- 4 -->\n<g id=\"node5\" class=\"node\">\n<title>4</title>\n<path fill=\"#d0b4f5\" stroke=\"#000000\" d=\"M610,-469C610,-469 432,-469 432,-469 426,-469 420,-463 420,-457 420,-457 420,-413 420,-413 420,-407 426,-401 432,-401 432,-401 610,-401 610,-401 616,-401 622,-407 622,-413 622,-413 622,-457 622,-457 622,-463 616,-469 610,-469\"/>\n<text text-anchor=\"middle\" x=\"521\" y=\"-453.8\" font-family=\"Helvetica,sans-Serif\" font-size=\"14.00\" fill=\"#000000\">extraction_type_class &lt;= 3.5</text>\n<text text-anchor=\"middle\" x=\"521\" y=\"-438.8\" font-family=\"Helvetica,sans-Serif\" font-size=\"14.00\" fill=\"#000000\">samples = 27.1%</text>\n<text text-anchor=\"middle\" x=\"521\" y=\"-423.8\" font-family=\"Helvetica,sans-Serif\" font-size=\"14.00\" fill=\"#000000\">value = [0.361, 0.038, 0.601]</text>\n<text text-anchor=\"middle\" x=\"521\" y=\"-408.8\" font-family=\"Helvetica,sans-Serif\" font-size=\"14.00\" fill=\"#000000\">class = non functional</text>\n</g>\n<!-- 0&#45;&gt;4 -->\n<g id=\"edge4\" class=\"edge\">\n<title>0&#45;&gt;4</title>\n<path fill=\"none\" stroke=\"#000000\" d=\"M447.0181,-504.9465C456.7046,-495.7884 467.2864,-485.7838 477.3397,-476.2788\"/>\n<polygon fill=\"#000000\" stroke=\"#000000\" points=\"480.039,-478.5434 484.901,-469.13 475.2299,-473.4569 480.039,-478.5434\"/>\n<text text-anchor=\"middle\" x=\"484.2003\" y=\"-490.4202\" font-family=\"Helvetica,sans-Serif\" font-size=\"14.00\" fill=\"#000000\">False</text>\n</g>\n<!-- 2 -->\n<g id=\"node3\" class=\"node\">\n<title>2</title>\n<path fill=\"#f4c9aa\" stroke=\"#000000\" d=\"M188,-357.5C188,-357.5 12,-357.5 12,-357.5 6,-357.5 0,-351.5 0,-345.5 0,-345.5 0,-316.5 0,-316.5 0,-310.5 6,-304.5 12,-304.5 12,-304.5 188,-304.5 188,-304.5 194,-304.5 200,-310.5 200,-316.5 200,-316.5 200,-345.5 200,-345.5 200,-351.5 194,-357.5 188,-357.5\"/>\n<text text-anchor=\"middle\" x=\"100\" y=\"-342.3\" font-family=\"Helvetica,sans-Serif\" font-size=\"14.00\" fill=\"#000000\">samples = 45.1%</text>\n<text text-anchor=\"middle\" x=\"100\" y=\"-327.3\" font-family=\"Helvetica,sans-Serif\" font-size=\"14.00\" fill=\"#000000\">value = [0.599, 0.101, 0.299]</text>\n<text text-anchor=\"middle\" x=\"100\" y=\"-312.3\" font-family=\"Helvetica,sans-Serif\" font-size=\"14.00\" fill=\"#000000\">class = functional</text>\n</g>\n<!-- 1&#45;&gt;2 -->\n<g id=\"edge2\" class=\"edge\">\n<title>1&#45;&gt;2</title>\n<path fill=\"none\" stroke=\"#000000\" d=\"M235.1851,-400.9465C211.1292,-388.4997 184.0513,-374.4892 160.4827,-362.2946\"/>\n<polygon fill=\"#000000\" stroke=\"#000000\" points=\"161.7878,-359.0291 151.2978,-357.5422 158.571,-365.2462 161.7878,-359.0291\"/>\n</g>\n<!-- 3 -->\n<g id=\"node4\" class=\"node\">\n<title>3</title>\n<path fill=\"#f3c5a3\" stroke=\"#000000\" d=\"M382,-357.5C382,-357.5 230,-357.5 230,-357.5 224,-357.5 218,-351.5 218,-345.5 218,-345.5 218,-316.5 218,-316.5 218,-310.5 224,-304.5 230,-304.5 230,-304.5 382,-304.5 382,-304.5 388,-304.5 394,-310.5 394,-316.5 394,-316.5 394,-345.5 394,-345.5 394,-351.5 388,-357.5 382,-357.5\"/>\n<text text-anchor=\"middle\" x=\"306\" y=\"-342.3\" font-family=\"Helvetica,sans-Serif\" font-size=\"14.00\" fill=\"#000000\">samples = 27.7%</text>\n<text text-anchor=\"middle\" x=\"306\" y=\"-327.3\" font-family=\"Helvetica,sans-Serif\" font-size=\"14.00\" fill=\"#000000\">value = [0.63, 0.06, 0.31]</text>\n<text text-anchor=\"middle\" x=\"306\" y=\"-312.3\" font-family=\"Helvetica,sans-Serif\" font-size=\"14.00\" fill=\"#000000\">class = functional</text>\n</g>\n<!-- 1&#45;&gt;3 -->\n<g id=\"edge3\" class=\"edge\">\n<title>1&#45;&gt;3</title>\n<path fill=\"none\" stroke=\"#000000\" d=\"M302.6372,-400.9465C303.1509,-390.2621 303.7199,-378.4254 304.2416,-367.5742\"/>\n<polygon fill=\"#000000\" stroke=\"#000000\" points=\"307.7396,-367.6987 304.7239,-357.5422 300.7477,-367.3625 307.7396,-367.6987\"/>\n</g>\n<!-- 5 -->\n<g id=\"node6\" class=\"node\">\n<title>5</title>\n<path fill=\"#9d66eb\" stroke=\"#000000\" d=\"M601,-357.5C601,-357.5 433,-357.5 433,-357.5 427,-357.5 421,-351.5 421,-345.5 421,-345.5 421,-316.5 421,-316.5 421,-310.5 427,-304.5 433,-304.5 433,-304.5 601,-304.5 601,-304.5 607,-304.5 613,-310.5 613,-316.5 613,-316.5 613,-345.5 613,-345.5 613,-351.5 607,-357.5 601,-357.5\"/>\n<text text-anchor=\"middle\" x=\"517\" y=\"-342.3\" font-family=\"Helvetica,sans-Serif\" font-size=\"14.00\" fill=\"#000000\">samples = 10.9%</text>\n<text text-anchor=\"middle\" x=\"517\" y=\"-327.3\" font-family=\"Helvetica,sans-Serif\" font-size=\"14.00\" fill=\"#000000\">value = [0.159, 0.031, 0.81]</text>\n<text text-anchor=\"middle\" x=\"517\" y=\"-312.3\" font-family=\"Helvetica,sans-Serif\" font-size=\"14.00\" fill=\"#000000\">class = non functional</text>\n</g>\n<!-- 4&#45;&gt;5 -->\n<g id=\"edge5\" class=\"edge\">\n<title>4&#45;&gt;5</title>\n<path fill=\"none\" stroke=\"#000000\" d=\"M519.6903,-400.9465C519.2793,-390.2621 518.8241,-378.4254 518.4067,-367.5742\"/>\n<polygon fill=\"#000000\" stroke=\"#000000\" points=\"521.9027,-367.4002 518.0209,-357.5422 514.9079,-367.6693 521.9027,-367.4002\"/>\n</g>\n<!-- 6 -->\n<g id=\"node7\" class=\"node\">\n<title>6</title>\n<path fill=\"#fdf7f2\" stroke=\"#000000\" d=\"M821,-365C821,-365 643,-365 643,-365 637,-365 631,-359 631,-353 631,-353 631,-309 631,-309 631,-303 637,-297 643,-297 643,-297 821,-297 821,-297 827,-297 833,-303 833,-309 833,-309 833,-353 833,-353 833,-359 827,-365 821,-365\"/>\n<text text-anchor=\"middle\" x=\"732\" y=\"-349.8\" font-family=\"Helvetica,sans-Serif\" font-size=\"14.00\" fill=\"#000000\">extraction_type_class &lt;= 4.5</text>\n<text text-anchor=\"middle\" x=\"732\" y=\"-334.8\" font-family=\"Helvetica,sans-Serif\" font-size=\"14.00\" fill=\"#000000\">samples = 16.2%</text>\n<text text-anchor=\"middle\" x=\"732\" y=\"-319.8\" font-family=\"Helvetica,sans-Serif\" font-size=\"14.00\" fill=\"#000000\">value = [0.497, 0.043, 0.46]</text>\n<text text-anchor=\"middle\" x=\"732\" y=\"-304.8\" font-family=\"Helvetica,sans-Serif\" font-size=\"14.00\" fill=\"#000000\">class = functional</text>\n</g>\n<!-- 4&#45;&gt;6 -->\n<g id=\"edge6\" class=\"edge\">\n<title>4&#45;&gt;6</title>\n<path fill=\"none\" stroke=\"#000000\" d=\"M590.0893,-400.9465C610.4002,-390.9354 632.7633,-379.9129 653.6112,-369.6371\"/>\n<polygon fill=\"#000000\" stroke=\"#000000\" points=\"655.3332,-372.6905 662.7555,-365.13 652.2385,-366.4117 655.3332,-372.6905\"/>\n</g>\n<!-- 7 -->\n<g id=\"node8\" class=\"node\">\n<title>7</title>\n<path fill=\"#d8c1f7\" stroke=\"#000000\" d=\"M710,-253.5C710,-253.5 534,-253.5 534,-253.5 528,-253.5 522,-247.5 522,-241.5 522,-241.5 522,-212.5 522,-212.5 522,-206.5 528,-200.5 534,-200.5 534,-200.5 710,-200.5 710,-200.5 716,-200.5 722,-206.5 722,-212.5 722,-212.5 722,-241.5 722,-241.5 722,-247.5 716,-253.5 710,-253.5\"/>\n<text text-anchor=\"middle\" x=\"622\" y=\"-238.3\" font-family=\"Helvetica,sans-Serif\" font-size=\"14.00\" fill=\"#000000\">samples = 5.0%</text>\n<text text-anchor=\"middle\" x=\"622\" y=\"-223.3\" font-family=\"Helvetica,sans-Serif\" font-size=\"14.00\" fill=\"#000000\">value = [0.381, 0.045, 0.574]</text>\n<text text-anchor=\"middle\" x=\"622\" y=\"-208.3\" font-family=\"Helvetica,sans-Serif\" font-size=\"14.00\" fill=\"#000000\">class = non functional</text>\n</g>\n<!-- 6&#45;&gt;7 -->\n<g id=\"edge7\" class=\"edge\">\n<title>6&#45;&gt;7</title>\n<path fill=\"none\" stroke=\"#000000\" d=\"M695.9819,-296.9465C683.6325,-285.2707 669.8278,-272.219 657.5183,-260.5809\"/>\n<polygon fill=\"#000000\" stroke=\"#000000\" points=\"659.7445,-257.869 650.0734,-253.5422 654.9354,-262.9556 659.7445,-257.869\"/>\n</g>\n<!-- 8 -->\n<g id=\"node9\" class=\"node\">\n<title>8</title>\n<path fill=\"#f9e2d1\" stroke=\"#000000\" d=\"M930,-261C930,-261 752,-261 752,-261 746,-261 740,-255 740,-249 740,-249 740,-205 740,-205 740,-199 746,-193 752,-193 752,-193 930,-193 930,-193 936,-193 942,-199 942,-205 942,-205 942,-249 942,-249 942,-255 936,-261 930,-261\"/>\n<text text-anchor=\"middle\" x=\"841\" y=\"-245.8\" font-family=\"Helvetica,sans-Serif\" font-size=\"14.00\" fill=\"#000000\">extraction_type_class &lt;= 5.5</text>\n<text text-anchor=\"middle\" x=\"841\" y=\"-230.8\" font-family=\"Helvetica,sans-Serif\" font-size=\"14.00\" fill=\"#000000\">samples = 11.2%</text>\n<text text-anchor=\"middle\" x=\"841\" y=\"-215.8\" font-family=\"Helvetica,sans-Serif\" font-size=\"14.00\" fill=\"#000000\">value = [0.548, 0.042, 0.41]</text>\n<text text-anchor=\"middle\" x=\"841\" y=\"-200.8\" font-family=\"Helvetica,sans-Serif\" font-size=\"14.00\" fill=\"#000000\">class = functional</text>\n</g>\n<!-- 6&#45;&gt;8 -->\n<g id=\"edge8\" class=\"edge\">\n<title>6&#45;&gt;8</title>\n<path fill=\"none\" stroke=\"#000000\" d=\"M767.6907,-296.9465C777.2891,-287.7884 787.7747,-277.7838 797.7366,-268.2788\"/>\n<polygon fill=\"#000000\" stroke=\"#000000\" points=\"800.4102,-270.5655 805.2291,-261.13 795.5779,-265.5009 800.4102,-270.5655\"/>\n</g>\n<!-- 9 -->\n<g id=\"node10\" class=\"node\">\n<title>9</title>\n<path fill=\"#f9e4d5\" stroke=\"#000000\" d=\"M819,-149.5C819,-149.5 643,-149.5 643,-149.5 637,-149.5 631,-143.5 631,-137.5 631,-137.5 631,-108.5 631,-108.5 631,-102.5 637,-96.5 643,-96.5 643,-96.5 819,-96.5 819,-96.5 825,-96.5 831,-102.5 831,-108.5 831,-108.5 831,-137.5 831,-137.5 831,-143.5 825,-149.5 819,-149.5\"/>\n<text text-anchor=\"middle\" x=\"731\" y=\"-134.3\" font-family=\"Helvetica,sans-Serif\" font-size=\"14.00\" fill=\"#000000\">samples = 10.3%</text>\n<text text-anchor=\"middle\" x=\"731\" y=\"-119.3\" font-family=\"Helvetica,sans-Serif\" font-size=\"14.00\" fill=\"#000000\">value = [0.541, 0.042, 0.416]</text>\n<text text-anchor=\"middle\" x=\"731\" y=\"-104.3\" font-family=\"Helvetica,sans-Serif\" font-size=\"14.00\" fill=\"#000000\">class = functional</text>\n</g>\n<!-- 8&#45;&gt;9 -->\n<g id=\"edge9\" class=\"edge\">\n<title>8&#45;&gt;9</title>\n<path fill=\"none\" stroke=\"#000000\" d=\"M804.9819,-192.9465C792.6325,-181.2707 778.8278,-168.219 766.5183,-156.5809\"/>\n<polygon fill=\"#000000\" stroke=\"#000000\" points=\"768.7445,-153.869 759.0734,-149.5422 763.9354,-158.9556 768.7445,-153.869\"/>\n</g>\n<!-- 10 -->\n<g id=\"node11\" class=\"node\">\n<title>10</title>\n<path fill=\"#f4cbad\" stroke=\"#000000\" d=\"M1039,-157C1039,-157 861,-157 861,-157 855,-157 849,-151 849,-145 849,-145 849,-101 849,-101 849,-95 855,-89 861,-89 861,-89 1039,-89 1039,-89 1045,-89 1051,-95 1051,-101 1051,-101 1051,-145 1051,-145 1051,-151 1045,-157 1039,-157\"/>\n<text text-anchor=\"middle\" x=\"950\" y=\"-141.8\" font-family=\"Helvetica,sans-Serif\" font-size=\"14.00\" fill=\"#000000\">extraction_type_class &lt;= 6.5</text>\n<text text-anchor=\"middle\" x=\"950\" y=\"-126.8\" font-family=\"Helvetica,sans-Serif\" font-size=\"14.00\" fill=\"#000000\">samples = 0.9%</text>\n<text text-anchor=\"middle\" x=\"950\" y=\"-111.8\" font-family=\"Helvetica,sans-Serif\" font-size=\"14.00\" fill=\"#000000\">value = [0.614, 0.043, 0.343]</text>\n<text text-anchor=\"middle\" x=\"950\" y=\"-96.8\" font-family=\"Helvetica,sans-Serif\" font-size=\"14.00\" fill=\"#000000\">class = functional</text>\n</g>\n<!-- 8&#45;&gt;10 -->\n<g id=\"edge10\" class=\"edge\">\n<title>8&#45;&gt;10</title>\n<path fill=\"none\" stroke=\"#000000\" d=\"M876.6907,-192.9465C886.2891,-183.7884 896.7747,-173.7838 906.7366,-164.2788\"/>\n<polygon fill=\"#000000\" stroke=\"#000000\" points=\"909.4102,-166.5655 914.2291,-157.13 904.5779,-161.5009 909.4102,-166.5655\"/>\n</g>\n<!-- 11 -->\n<g id=\"node12\" class=\"node\">\n<title>11</title>\n<path fill=\"#f2bf9b\" stroke=\"#000000\" d=\"M929,-53C929,-53 753,-53 753,-53 747,-53 741,-47 741,-41 741,-41 741,-12 741,-12 741,-6 747,0 753,0 753,0 929,0 929,0 935,0 941,-6 941,-12 941,-12 941,-41 941,-41 941,-47 935,-53 929,-53\"/>\n<text text-anchor=\"middle\" x=\"841\" y=\"-37.8\" font-family=\"Helvetica,sans-Serif\" font-size=\"14.00\" fill=\"#000000\">samples = 0.7%</text>\n<text text-anchor=\"middle\" x=\"841\" y=\"-22.8\" font-family=\"Helvetica,sans-Serif\" font-size=\"14.00\" fill=\"#000000\">value = [0.657, 0.037, 0.306]</text>\n<text text-anchor=\"middle\" x=\"841\" y=\"-7.8\" font-family=\"Helvetica,sans-Serif\" font-size=\"14.00\" fill=\"#000000\">class = functional</text>\n</g>\n<!-- 10&#45;&gt;11 -->\n<g id=\"edge11\" class=\"edge\">\n<title>10&#45;&gt;11</title>\n<path fill=\"none\" stroke=\"#000000\" d=\"M911.5707,-88.9777C900.9173,-79.546 889.3641,-69.3178 878.7499,-59.9208\"/>\n<polygon fill=\"#000000\" stroke=\"#000000\" points=\"881.0207,-57.2566 871.2133,-53.2485 876.3806,-62.4978 881.0207,-57.2566\"/>\n</g>\n<!-- 12 -->\n<g id=\"node13\" class=\"node\">\n<title>12</title>\n<path fill=\"#f8f3fd\" stroke=\"#000000\" d=\"M1147,-53C1147,-53 971,-53 971,-53 965,-53 959,-47 959,-41 959,-41 959,-12 959,-12 959,-6 965,0 971,0 971,0 1147,0 1147,0 1153,0 1159,-6 1159,-12 1159,-12 1159,-41 1159,-41 1159,-47 1153,-53 1147,-53\"/>\n<text text-anchor=\"middle\" x=\"1059\" y=\"-37.8\" font-family=\"Helvetica,sans-Serif\" font-size=\"14.00\" fill=\"#000000\">samples = 0.2%</text>\n<text text-anchor=\"middle\" x=\"1059\" y=\"-22.8\" font-family=\"Helvetica,sans-Serif\" font-size=\"14.00\" fill=\"#000000\">value = [0.452, 0.065, 0.484]</text>\n<text text-anchor=\"middle\" x=\"1059\" y=\"-7.8\" font-family=\"Helvetica,sans-Serif\" font-size=\"14.00\" fill=\"#000000\">class = non functional</text>\n</g>\n<!-- 10&#45;&gt;12 -->\n<g id=\"edge12\" class=\"edge\">\n<title>10&#45;&gt;12</title>\n<path fill=\"none\" stroke=\"#000000\" d=\"M988.4293,-88.9777C999.0827,-79.546 1010.6359,-69.3178 1021.2501,-59.9208\"/>\n<polygon fill=\"#000000\" stroke=\"#000000\" points=\"1023.6194,-62.4978 1028.7867,-53.2485 1018.9793,-57.2566 1023.6194,-62.4978\"/>\n</g>\n</g>\n</svg>\n"
          },
          "metadata": {
            "tags": []
          }
        }
      ]
    },
    {
      "cell_type": "markdown",
      "metadata": {
        "colab_type": "text",
        "id": "P4EJi2GvgLVa"
      },
      "source": [
        "# Understand how tree ensembles reduce overfitting compared to a single decision tree with unlimited depth"
      ]
    },
    {
      "cell_type": "markdown",
      "metadata": {
        "id": "4j-gjSRdt0sQ",
        "colab_type": "text"
      },
      "source": [
        "## Overview"
      ]
    },
    {
      "cell_type": "markdown",
      "metadata": {
        "colab_type": "text",
        "id": "0nNABF3HgLVg"
      },
      "source": [
        "### What's \"random\" about random forests?\n",
        "1. Each tree trains on a random bootstrap sample of the data. (In scikit-learn, for `RandomForestRegressor` and `RandomForestClassifier`, the `bootstrap` parameter's default is `True`.) This type of ensembling is called Bagging. (Bootstrap AGGregatING.)\n",
        "2. Each split considers a random subset of the features. (In scikit-learn, when the `max_features` parameter is not `None`.) \n",
        "\n",
        "For extra randomness, you can try [\"extremely randomized trees\"](https://scikit-learn.org/stable/modules/ensemble.html#extremely-randomized-trees)!\n",
        "\n",
        ">In extremely randomized trees (see [ExtraTreesClassifier](https://scikit-learn.org/stable/modules/generated/sklearn.ensemble.ExtraTreesClassifier.html) and [ExtraTreesRegressor](https://scikit-learn.org/stable/modules/generated/sklearn.ensemble.ExtraTreesRegressor.html) classes), randomness goes one step further in the way splits are computed. As in random forests, a random subset of candidate features is used, but instead of looking for the most discriminative thresholds, thresholds are drawn at random for each candidate feature and the best of these randomly-generated thresholds is picked as the splitting rule. This usually allows to reduce the variance of the model a bit more, at the expense of a slightly greater increase in bias"
      ]
    },
    {
      "cell_type": "markdown",
      "metadata": {
        "id": "sqiooyG1t0sS",
        "colab_type": "text"
      },
      "source": [
        "## Follow Along"
      ]
    },
    {
      "cell_type": "markdown",
      "metadata": {
        "colab_type": "text",
        "id": "pUYP619CgLVb"
      },
      "source": [
        "### Example: [predicting golf putts](https://statmodeling.stat.columbia.edu/2008/12/04/the_golf_puttin/)\n",
        "(1 feature, non-linear, regression)"
      ]
    },
    {
      "cell_type": "code",
      "metadata": {
        "colab_type": "code",
        "id": "b4640ukxgLVc",
        "colab": {}
      },
      "source": [
        "putts = pd.DataFrame(\n",
        "    columns=['distance', 'tries', 'successes'], \n",
        "    data = [[2, 1443, 1346],\n",
        "            [3, 694, 577],\n",
        "            [4, 455, 337],\n",
        "            [5, 353, 208],\n",
        "            [6, 272, 149],\n",
        "            [7, 256, 136],\n",
        "            [8, 240, 111],\n",
        "            [9, 217, 69],\n",
        "            [10, 200, 67],\n",
        "            [11, 237, 75],\n",
        "            [12, 202, 52],\n",
        "            [13, 192, 46],\n",
        "            [14, 174, 54],\n",
        "            [15, 167, 28],\n",
        "            [16, 201, 27],\n",
        "            [17, 195, 31],\n",
        "            [18, 191, 33],\n",
        "            [19, 147, 20],\n",
        "            [20, 152, 24]]\n",
        ")\n",
        "\n",
        "putts['rate of success'] = putts['successes'] / putts['tries']\n",
        "putts_X = putts[['distance']]\n",
        "putts_y = putts['rate of success']"
      ],
      "execution_count": 0,
      "outputs": []
    },
    {
      "cell_type": "code",
      "metadata": {
        "colab_type": "code",
        "id": "T0IpCcKggLVd",
        "outputId": "9ed56648-de57-410c-822c-54cbcfc9de28",
        "colab": {
          "base_uri": "https://localhost:8080/",
          "height": 636,
          "referenced_widgets": [
            "58a12875b0994550becf0aa7e55c93f5",
            "6e2fa183d1e94ecb93e4a237043c6384",
            "1e7b157f231143418877a2291d5c27f5",
            "0da3a383769942159cd1ef3dd94a489c",
            "75519c15c7614de897a5f13a0a2dbc35",
            "8b97867b79cb4563bf3fc426970fbc91",
            "751e0ad88f2a4a98b04a2fe456fea5b6",
            "4d665b20f0c9401fbd68d57a88cc2da7",
            "b61651842dfe43228d90a1215f7b6311"
          ]
        }
      },
      "source": [
        "%matplotlib inline\n",
        "import matplotlib.pyplot as plt\n",
        "from ipywidgets import interact\n",
        "from sklearn.ensemble import RandomForestRegressor\n",
        "from sklearn.tree import DecisionTreeRegressor\n",
        "\n",
        "def putt_trees(max_depth=1, n_estimators=1):\n",
        "    models = [DecisionTreeRegressor(max_depth=max_depth), \n",
        "              RandomForestRegressor(max_depth=max_depth, n_estimators=n_estimators)]\n",
        "    \n",
        "    for model in models:\n",
        "        name = model.__class__.__name__\n",
        "        model.fit(putts_X, putts_y)\n",
        "        ax = putts.plot('distance', 'rate of success', kind='scatter', title=name)\n",
        "        ax.step(putts_X, model.predict(putts_X), where='mid')\n",
        "        plt.show()\n",
        "        \n",
        "interact(putt_trees, max_depth=(1,6,1), n_estimators=(10,40,10));"
      ],
      "execution_count": 103,
      "outputs": [
        {
          "output_type": "display_data",
          "data": {
            "application/vnd.jupyter.widget-view+json": {
              "model_id": "58a12875b0994550becf0aa7e55c93f5",
              "version_minor": 0,
              "version_major": 2
            },
            "text/plain": [
              "interactive(children=(IntSlider(value=1, description='max_depth', max=6, min=1), IntSlider(value=10, descripti…"
            ]
          },
          "metadata": {
            "tags": []
          }
        }
      ]
    },
    {
      "cell_type": "markdown",
      "metadata": {
        "colab_type": "text",
        "id": "_KgZK9_9gLVh"
      },
      "source": [
        "### Bagging demo, with golf putts data\n",
        "https://pandas.pydata.org/pandas-docs/stable/reference/api/pandas.DataFrame.sample.html"
      ]
    },
    {
      "cell_type": "code",
      "metadata": {
        "colab_type": "code",
        "id": "vA9mrSTNgLVi",
        "outputId": "f174fd99-c91e-4f95-c427-77614d6338a4",
        "scrolled": false,
        "colab": {
          "base_uri": "https://localhost:8080/",
          "height": 914,
          "referenced_widgets": [
            "41e93eed80c0477fb3f2f13d0dfa26e7",
            "f6e2117a09b9428ea2cac4e1c6272288",
            "14610cd0991e40c3b38aa5608e4d37e9",
            "16e2c6d48d7a4f8fa0d387886b4e7257",
            "abf786d2fa2c4d3a87e3d6c66e5eb8c5",
            "d9c37816d564473fa61e764983b084af",
            "f1ec2a3422264eea8232da38cad8a890",
            "70216575590449ecabdb9e4e6ed56d60",
            "8e594379e5524725b73b7bf532a21e91"
          ]
        }
      },
      "source": [
        "# Do-it-yourself Bagging Ensemble of Decision Trees (like a Random Forest)\n",
        "def diy_bagging(max_depth=1, n_estimators=1):\n",
        "    y_preds = []\n",
        "    for i in range(n_estimators):\n",
        "        title = f'Tree {i+1}'\n",
        "        bootstrap_sample = putts.sample(n=len(putts), replace=True).sort_values(by='distance')\n",
        "        bootstrap_X = bootstrap_sample[['distance']]\n",
        "        bootstrap_y = bootstrap_sample['rate of success']\n",
        "        tree = DecisionTreeRegressor(max_depth=max_depth)\n",
        "        tree.fit(bootstrap_X, bootstrap_y)\n",
        "        y_pred = tree.predict(bootstrap_X)\n",
        "        y_preds.append(y_pred)\n",
        "        ax = bootstrap_sample.plot('distance', 'rate of success', kind='scatter', title=title)\n",
        "        ax.step(bootstrap_X, y_pred, where='mid')\n",
        "        plt.show()\n",
        "        \n",
        "    ensembled = np.vstack(y_preds).mean(axis=0)\n",
        "    title = f'Ensemble of {n_estimators} trees, with max_depth={max_depth}'\n",
        "    ax = putts.plot('distance', 'rate of success', kind='scatter', title=title)\n",
        "    ax.step(putts_X, ensembled, where='mid')\n",
        "    plt.show()\n",
        "    \n",
        "interact(diy_bagging, max_depth=(1,6,1), n_estimators=(2,5,1));"
      ],
      "execution_count": 104,
      "outputs": [
        {
          "output_type": "display_data",
          "data": {
            "application/vnd.jupyter.widget-view+json": {
              "model_id": "41e93eed80c0477fb3f2f13d0dfa26e7",
              "version_minor": 0,
              "version_major": 2
            },
            "text/plain": [
              "interactive(children=(IntSlider(value=1, description='max_depth', max=6, min=1), IntSlider(value=2, descriptio…"
            ]
          },
          "metadata": {
            "tags": []
          }
        }
      ]
    },
    {
      "cell_type": "markdown",
      "metadata": {
        "colab_type": "text",
        "id": "rq4Z_wQ_gLVj"
      },
      "source": [
        "### Go back to Tanzania Waterpumps ..."
      ]
    },
    {
      "cell_type": "markdown",
      "metadata": {
        "colab_type": "text",
        "id": "FoSE9iT6YXQz"
      },
      "source": [
        "#### Helper function to visualize predicted probabilities\n",
        "\n"
      ]
    },
    {
      "cell_type": "code",
      "metadata": {
        "colab_type": "code",
        "id": "HzIAjGpJgLVj",
        "colab": {}
      },
      "source": [
        "import itertools\n",
        "import seaborn as sns\n",
        "\n",
        "def pred_heatmap(model, X, features, class_index=-1, title='', num=100):\n",
        "    \"\"\"\n",
        "    Visualize predicted probabilities, for classifier fit on 2 numeric features\n",
        "    \n",
        "    Parameters\n",
        "    ----------\n",
        "    model : scikit-learn classifier, already fit\n",
        "    X : pandas dataframe, which was used to fit model\n",
        "    features : list of strings, column names of the 2 numeric features\n",
        "    class_index : integer, index of class label\n",
        "    title : string, title of plot\n",
        "    num : int, number of grid points for each feature\n",
        "    \n",
        "    Returns\n",
        "    -------\n",
        "    y_pred_proba : numpy array, predicted probabilities for class_index\n",
        "    \"\"\"\n",
        "    feature1, feature2 = features\n",
        "    min1, max1 = X[feature1].min(), X[feature1].max()\n",
        "    min2, max2 = X[feature2].min(), X[feature2].max()\n",
        "    x1 = np.linspace(min1, max1, num)\n",
        "    x2 = np.linspace(max2, min2, num)\n",
        "    combos = list(itertools.product(x1, x2))\n",
        "    y_pred_proba = model.predict_proba(combos)[:, class_index]\n",
        "    pred_grid = y_pred_proba.reshape(num, num).T\n",
        "    table = pd.DataFrame(pred_grid, columns=x1, index=x2)\n",
        "    sns.heatmap(table, vmin=0, vmax=1)\n",
        "    plt.xticks([])\n",
        "    plt.yticks([])\n",
        "    plt.xlabel(feature1)\n",
        "    plt.ylabel(feature2)\n",
        "    plt.title(title)\n",
        "    plt.show()\n",
        "    return y_pred_proba\n"
      ],
      "execution_count": 0,
      "outputs": []
    },
    {
      "cell_type": "markdown",
      "metadata": {
        "colab_type": "text",
        "id": "DiRfPqHjgLVl"
      },
      "source": [
        "### Compare Decision Tree, Random Forest, Logistic Regression"
      ]
    },
    {
      "cell_type": "code",
      "metadata": {
        "colab_type": "code",
        "id": "HKkMLXhMgLVl",
        "outputId": "43a61eb5-f22c-4057-e535-8991f353c81a",
        "colab": {
          "base_uri": "https://localhost:8080/",
          "height": 864,
          "referenced_widgets": [
            "b48d6ff8efa14564b5fd18bb8b509dd6",
            "babf6d4a7488491384a57b99aff09e77",
            "370a6502b0534309b2bf3ea38043cd3c",
            "069ad92295a447dbae51887b94a8640a",
            "78d800c8b7634f46833c442670c12bc1",
            "3d63ac1d0cb146499c6b55afe8545c35",
            "d828f167bcc44925bb6fdb2368b6080f",
            "d9112f42c79f41d0860b70be4b9364e4",
            "dbaec69c39c14c4992f07a7b10a8227e"
          ]
        }
      },
      "source": [
        "# Instructions\n",
        "# 1. Choose two features\n",
        "# 2. Run this code cell\n",
        "# 3. Interact with the widget sliders\n",
        "feature1 = 'longitude'\n",
        "feature2 = 'quantity'\n",
        "\n",
        "from sklearn.linear_model import LogisticRegression\n",
        "from sklearn.tree import DecisionTreeClassifier\n",
        "\n",
        "def get_X_y(df, feature1, feature2, target):\n",
        "    features = [feature1, feature2]\n",
        "    X = df[features]\n",
        "    y = df[target]\n",
        "    X = X.fillna(X.median())\n",
        "    X = ce.OrdinalEncoder().fit_transform(X)\n",
        "    return X, y\n",
        "\n",
        "def compare_models(max_depth=1, n_estimators=1):\n",
        "    models = [DecisionTreeClassifier(max_depth=max_depth), \n",
        "              RandomForestClassifier(max_depth=max_depth, n_estimators=n_estimators), \n",
        "              LogisticRegression(solver='lbfgs', multi_class='auto')]\n",
        "    \n",
        "    for model in models:\n",
        "        name = model.__class__.__name__\n",
        "        model.fit(X, y)\n",
        "        pred_heatmap(model, X, [feature1, feature2], class_index=0, title=name)\n",
        "\n",
        "X, y = get_X_y(train, feature1, feature2, target='status_group')\n",
        "interact(compare_models, max_depth=(1,6,1), n_estimators=(10,40,10));"
      ],
      "execution_count": 106,
      "outputs": [
        {
          "output_type": "display_data",
          "data": {
            "application/vnd.jupyter.widget-view+json": {
              "model_id": "b48d6ff8efa14564b5fd18bb8b509dd6",
              "version_minor": 0,
              "version_major": 2
            },
            "text/plain": [
              "interactive(children=(IntSlider(value=1, description='max_depth', max=6, min=1), IntSlider(value=10, descripti…"
            ]
          },
          "metadata": {
            "tags": []
          }
        }
      ]
    },
    {
      "cell_type": "markdown",
      "metadata": {
        "colab_type": "text",
        "id": "hOQqjLEDgLVn"
      },
      "source": [
        "### Bagging"
      ]
    },
    {
      "cell_type": "code",
      "metadata": {
        "colab_type": "code",
        "id": "Hm4aPgs2gLVn",
        "outputId": "75ba8978-26f1-478b-c1c4-c54fb628d37d",
        "colab": {
          "base_uri": "https://localhost:8080/",
          "height": 864,
          "referenced_widgets": [
            "5abeaca7611e41bc937fb3f8b872fb1c",
            "bc4b1d9b95a74af2a89d97dbdd874d3c",
            "c201583e99a248f3b4be6ef77beef5d4",
            "adacb75d355a40a7b0ea28051890243a",
            "770685dd4a3741f6b673b4a6dab5138a",
            "58e0b785cc9a42ee92581606df888486",
            "cb144db0dcff4899948eead35b3d48a7",
            "99cf3943d53844e7813212e8d89e2b5c",
            "bd00fc5aecd64367b67d6ae06cfb9e1a"
          ]
        }
      },
      "source": [
        "# Do-it-yourself Bagging Ensemble of Decision Trees (like a Random Forest)\n",
        "\n",
        "# Instructions\n",
        "# 1. Choose two features\n",
        "# 2. Run this code cell\n",
        "# 3. Interact with the widget sliders\n",
        "\n",
        "feature1 = 'longitude'\n",
        "feature2 = 'latitude'\n",
        "\n",
        "def waterpumps_bagging(max_depth=1, n_estimators=1):\n",
        "    predicteds = []\n",
        "    for i in range(n_estimators):\n",
        "        title = f'Tree {i+1}'\n",
        "        bootstrap_sample = train.sample(n=len(train), replace=True)\n",
        "        X, y = get_X_y(bootstrap_sample, feature1, feature2, target='status_group')\n",
        "        tree = DecisionTreeClassifier(max_depth=max_depth)\n",
        "        tree.fit(X, y)\n",
        "        predicted = pred_heatmap(tree, X, [feature1, feature2], class_index=0, title=title)\n",
        "        predicteds.append(predicted)\n",
        "    \n",
        "    ensembled = np.vstack(predicteds).mean(axis=0)\n",
        "    title = f'Ensemble of {n_estimators} trees, with max_depth={max_depth}'\n",
        "    sns.heatmap(ensembled.reshape(100, 100).T, vmin=0, vmax=1)\n",
        "    plt.title(title)\n",
        "    plt.xlabel(feature1)\n",
        "    plt.ylabel(feature2)\n",
        "    plt.xticks([])\n",
        "    plt.yticks([])\n",
        "    plt.show()\n",
        "        \n",
        "interact(waterpumps_bagging, max_depth=(1,6,1), n_estimators=(2,5,1));"
      ],
      "execution_count": 107,
      "outputs": [
        {
          "output_type": "display_data",
          "data": {
            "application/vnd.jupyter.widget-view+json": {
              "model_id": "5abeaca7611e41bc937fb3f8b872fb1c",
              "version_minor": 0,
              "version_major": 2
            },
            "text/plain": [
              "interactive(children=(IntSlider(value=1, description='max_depth', max=6, min=1), IntSlider(value=2, descriptio…"
            ]
          },
          "metadata": {
            "tags": []
          }
        }
      ]
    },
    {
      "cell_type": "markdown",
      "metadata": {
        "colab_type": "text",
        "id": "wYoSBi15akWP"
      },
      "source": [
        "# Review\n",
        "\n",
        "#### Try Tree Ensembles when you do machine learning with labeled, tabular data\n",
        "- \"Tree Ensembles\" means Random Forest or Gradient Boosting models. \n",
        "- [Tree Ensembles often have the best predictive accuracy](https://arxiv.org/abs/1708.05070) with labeled, tabular data.\n",
        "- Why? Because trees can fit non-linear, non-[monotonic](https://en.wikipedia.org/wiki/Monotonic_function) relationships, and [interactions](https://christophm.github.io/interpretable-ml-book/interaction.html) between features.\n",
        "- A single decision tree, grown to unlimited depth, will [overfit](http://www.r2d3.us/visual-intro-to-machine-learning-part-1/). We solve this problem by ensembling trees, with bagging (Random Forest) or boosting (Gradient Boosting).\n",
        "- Random Forest's advantage: may be less sensitive to hyperparameters. Gradient Boosting's advantage: may get better predictive accuracy.\n",
        "\n",
        "#### One-hot encoding isn’t the only way, and may not be the best way, of categorical encoding for tree ensembles.\n",
        "- For example, tree ensembles can work with arbitrary \"ordinal\" encoding! (Randomly assigning an integer to each category.) Compared to one-hot encoding, the dimensionality will be lower, and the predictive accuracy may be just as good or even better.\n"
      ]
    }
  ]
}