{
  "nbformat": 4,
  "nbformat_minor": 0,
  "metadata": {
    "kernelspec": {
      "display_name": "Python 3",
      "language": "python",
      "name": "python3"
    },
    "language_info": {
      "codemirror_mode": {
        "name": "ipython",
        "version": 3
      },
      "file_extension": ".py",
      "mimetype": "text/x-python",
      "name": "python",
      "nbconvert_exporter": "python",
      "pygments_lexer": "ipython3",
      "version": "3.7.3"
    },
    "colab": {
      "name": "LS_DS_222.ipynb",
      "provenance": [],
      "include_colab_link": true
    },
    "widgets": {
      "application/vnd.jupyter.widget-state+json": {
        "5e83846a785a4159b74ce0b0a9161988": {
          "model_module": "@jupyter-widgets/controls",
          "model_name": "VBoxModel",
          "state": {
            "_view_name": "VBoxView",
            "_dom_classes": [
              "widget-interact"
            ],
            "_model_name": "VBoxModel",
            "_view_module": "@jupyter-widgets/controls",
            "_model_module_version": "1.5.0",
            "_view_count": null,
            "_view_module_version": "1.5.0",
            "box_style": "",
            "layout": "IPY_MODEL_298e53a639214fb88bde568ebd8b1207",
            "_model_module": "@jupyter-widgets/controls",
            "children": [
              "IPY_MODEL_8a2f3dace721430787adf04945446520",
              "IPY_MODEL_0af5f91f4a6740e7bda80ed6d7971c47",
              "IPY_MODEL_0fed1678433d4dae94726f3c371b9afa"
            ]
          }
        },
        "298e53a639214fb88bde568ebd8b1207": {
          "model_module": "@jupyter-widgets/base",
          "model_name": "LayoutModel",
          "state": {
            "_view_name": "LayoutView",
            "grid_template_rows": null,
            "right": null,
            "justify_content": null,
            "_view_module": "@jupyter-widgets/base",
            "overflow": null,
            "_model_module_version": "1.2.0",
            "_view_count": null,
            "flex_flow": null,
            "width": null,
            "min_width": null,
            "border": null,
            "align_items": null,
            "bottom": null,
            "_model_module": "@jupyter-widgets/base",
            "top": null,
            "grid_column": null,
            "overflow_y": null,
            "overflow_x": null,
            "grid_auto_flow": null,
            "grid_area": null,
            "grid_template_columns": null,
            "flex": null,
            "_model_name": "LayoutModel",
            "justify_items": null,
            "grid_row": null,
            "max_height": null,
            "align_content": null,
            "visibility": null,
            "align_self": null,
            "height": null,
            "min_height": null,
            "padding": null,
            "grid_auto_rows": null,
            "grid_gap": null,
            "max_width": null,
            "order": null,
            "_view_module_version": "1.2.0",
            "grid_template_areas": null,
            "object_position": null,
            "object_fit": null,
            "grid_auto_columns": null,
            "margin": null,
            "display": null,
            "left": null
          }
        },
        "8a2f3dace721430787adf04945446520": {
          "model_module": "@jupyter-widgets/controls",
          "model_name": "IntSliderModel",
          "state": {
            "_view_name": "IntSliderView",
            "style": "IPY_MODEL_13382b39a71e41d8adbe6363ab0ac2d6",
            "_dom_classes": [],
            "description": "max_depth",
            "step": 1,
            "_model_name": "IntSliderModel",
            "orientation": "horizontal",
            "max": 6,
            "_view_module": "@jupyter-widgets/controls",
            "_model_module_version": "1.5.0",
            "value": 5,
            "_view_count": null,
            "disabled": false,
            "_view_module_version": "1.5.0",
            "min": 1,
            "continuous_update": true,
            "readout_format": "d",
            "description_tooltip": null,
            "readout": true,
            "_model_module": "@jupyter-widgets/controls",
            "layout": "IPY_MODEL_be7a9fe862a444e89b529e1d1b916eb2"
          }
        },
        "0af5f91f4a6740e7bda80ed6d7971c47": {
          "model_module": "@jupyter-widgets/controls",
          "model_name": "IntSliderModel",
          "state": {
            "_view_name": "IntSliderView",
            "style": "IPY_MODEL_ca99a7f2f4104efc97711f7219e23229",
            "_dom_classes": [],
            "description": "n_estimators",
            "step": 10,
            "_model_name": "IntSliderModel",
            "orientation": "horizontal",
            "max": 40,
            "_view_module": "@jupyter-widgets/controls",
            "_model_module_version": "1.5.0",
            "value": 40,
            "_view_count": null,
            "disabled": false,
            "_view_module_version": "1.5.0",
            "min": 10,
            "continuous_update": true,
            "readout_format": "d",
            "description_tooltip": null,
            "readout": true,
            "_model_module": "@jupyter-widgets/controls",
            "layout": "IPY_MODEL_d1818db8b2ca4b9b96ddbad35d937e87"
          }
        },
        "0fed1678433d4dae94726f3c371b9afa": {
          "model_module": "@jupyter-widgets/output",
          "model_name": "OutputModel",
          "state": {
            "_view_name": "OutputView",
            "msg_id": "",
            "_dom_classes": [],
            "_model_name": "OutputModel",
            "outputs": [
              {
                "output_type": "display_data",
                "metadata": {
                  "tags": []
                },
                "image/png": "iVBORw0KGgoAAAANSUhEUgAAAYIAAAEWCAYAAABrDZDcAAAABHNCSVQICAgIfAhkiAAAAAlwSFlz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\nM2tw/x8JTMaE1wL1vgAAAABJRU5ErkJggg==\n",
                "text/plain": "<Figure size 432x288 with 1 Axes>"
              },
              {
                "output_type": "display_data",
                "metadata": {
                  "tags": []
                },
                "image/png": "iVBORw0KGgoAAAANSUhEUgAAAYIAAAEWCAYAAABrDZDcAAAABHNCSVQICAgIfAhkiAAAAAlwSFlz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\nk3MiMDNrcv8DWTfgTGHANXIAAAAASUVORK5CYII=\n",
                "text/plain": "<Figure size 432x288 with 1 Axes>"
              }
            ],
            "_view_module": "@jupyter-widgets/output",
            "_model_module_version": "1.0.0",
            "_view_count": null,
            "_view_module_version": "1.0.0",
            "layout": "IPY_MODEL_0146c0fbb9034b9faef9b8058a3aebca",
            "_model_module": "@jupyter-widgets/output"
          }
        },
        "13382b39a71e41d8adbe6363ab0ac2d6": {
          "model_module": "@jupyter-widgets/controls",
          "model_name": "SliderStyleModel",
          "state": {
            "_view_name": "StyleView",
            "handle_color": null,
            "_model_name": "SliderStyleModel",
            "description_width": "",
            "_view_module": "@jupyter-widgets/base",
            "_model_module_version": "1.5.0",
            "_view_count": null,
            "_view_module_version": "1.2.0",
            "_model_module": "@jupyter-widgets/controls"
          }
        },
        "be7a9fe862a444e89b529e1d1b916eb2": {
          "model_module": "@jupyter-widgets/base",
          "model_name": "LayoutModel",
          "state": {
            "_view_name": "LayoutView",
            "grid_template_rows": null,
            "right": null,
            "justify_content": null,
            "_view_module": "@jupyter-widgets/base",
            "overflow": null,
            "_model_module_version": "1.2.0",
            "_view_count": null,
            "flex_flow": null,
            "width": null,
            "min_width": null,
            "border": null,
            "align_items": null,
            "bottom": null,
            "_model_module": "@jupyter-widgets/base",
            "top": null,
            "grid_column": null,
            "overflow_y": null,
            "overflow_x": null,
            "grid_auto_flow": null,
            "grid_area": null,
            "grid_template_columns": null,
            "flex": null,
            "_model_name": "LayoutModel",
            "justify_items": null,
            "grid_row": null,
            "max_height": null,
            "align_content": null,
            "visibility": null,
            "align_self": null,
            "height": null,
            "min_height": null,
            "padding": null,
            "grid_auto_rows": null,
            "grid_gap": null,
            "max_width": null,
            "order": null,
            "_view_module_version": "1.2.0",
            "grid_template_areas": null,
            "object_position": null,
            "object_fit": null,
            "grid_auto_columns": null,
            "margin": null,
            "display": null,
            "left": null
          }
        },
        "ca99a7f2f4104efc97711f7219e23229": {
          "model_module": "@jupyter-widgets/controls",
          "model_name": "SliderStyleModel",
          "state": {
            "_view_name": "StyleView",
            "handle_color": null,
            "_model_name": "SliderStyleModel",
            "description_width": "",
            "_view_module": "@jupyter-widgets/base",
            "_model_module_version": "1.5.0",
            "_view_count": null,
            "_view_module_version": "1.2.0",
            "_model_module": "@jupyter-widgets/controls"
          }
        },
        "d1818db8b2ca4b9b96ddbad35d937e87": {
          "model_module": "@jupyter-widgets/base",
          "model_name": "LayoutModel",
          "state": {
            "_view_name": "LayoutView",
            "grid_template_rows": null,
            "right": null,
            "justify_content": null,
            "_view_module": "@jupyter-widgets/base",
            "overflow": null,
            "_model_module_version": "1.2.0",
            "_view_count": null,
            "flex_flow": null,
            "width": null,
            "min_width": null,
            "border": null,
            "align_items": null,
            "bottom": null,
            "_model_module": "@jupyter-widgets/base",
            "top": null,
            "grid_column": null,
            "overflow_y": null,
            "overflow_x": null,
            "grid_auto_flow": null,
            "grid_area": null,
            "grid_template_columns": null,
            "flex": null,
            "_model_name": "LayoutModel",
            "justify_items": null,
            "grid_row": null,
            "max_height": null,
            "align_content": null,
            "visibility": null,
            "align_self": null,
            "height": null,
            "min_height": null,
            "padding": null,
            "grid_auto_rows": null,
            "grid_gap": null,
            "max_width": null,
            "order": null,
            "_view_module_version": "1.2.0",
            "grid_template_areas": null,
            "object_position": null,
            "object_fit": null,
            "grid_auto_columns": null,
            "margin": null,
            "display": null,
            "left": null
          }
        },
        "ac24be8c03de43e296574aa9d401f4b4": {
          "model_module": "@jupyter-widgets/controls",
          "model_name": "VBoxModel",
          "state": {
            "_view_name": "VBoxView",
            "_dom_classes": [
              "widget-interact"
            ],
            "_model_name": "VBoxModel",
            "_view_module": "@jupyter-widgets/controls",
            "_model_module_version": "1.5.0",
            "_view_count": null,
            "_view_module_version": "1.5.0",
            "box_style": "",
            "layout": "IPY_MODEL_5832d276c12e429985f9a410e9242745",
            "_model_module": "@jupyter-widgets/controls",
            "children": [
              "IPY_MODEL_dfe1c84b74154a4fbeab1042a2c149f7",
              "IPY_MODEL_de3df508ccd94a138c00c9697653f98b",
              "IPY_MODEL_329d9db8853a441da6bb9d253c22883b"
            ]
          }
        },
        "5832d276c12e429985f9a410e9242745": {
          "model_module": "@jupyter-widgets/base",
          "model_name": "LayoutModel",
          "state": {
            "_view_name": "LayoutView",
            "grid_template_rows": null,
            "right": null,
            "justify_content": null,
            "_view_module": "@jupyter-widgets/base",
            "overflow": null,
            "_model_module_version": "1.2.0",
            "_view_count": null,
            "flex_flow": null,
            "width": null,
            "min_width": null,
            "border": null,
            "align_items": null,
            "bottom": null,
            "_model_module": "@jupyter-widgets/base",
            "top": null,
            "grid_column": null,
            "overflow_y": null,
            "overflow_x": null,
            "grid_auto_flow": null,
            "grid_area": null,
            "grid_template_columns": null,
            "flex": null,
            "_model_name": "LayoutModel",
            "justify_items": null,
            "grid_row": null,
            "max_height": null,
            "align_content": null,
            "visibility": null,
            "align_self": null,
            "height": null,
            "min_height": null,
            "padding": null,
            "grid_auto_rows": null,
            "grid_gap": null,
            "max_width": null,
            "order": null,
            "_view_module_version": "1.2.0",
            "grid_template_areas": null,
            "object_position": null,
            "object_fit": null,
            "grid_auto_columns": null,
            "margin": null,
            "display": null,
            "left": null
          }
        },
        "dfe1c84b74154a4fbeab1042a2c149f7": {
          "model_module": "@jupyter-widgets/controls",
          "model_name": "IntSliderModel",
          "state": {
            "_view_name": "IntSliderView",
            "style": "IPY_MODEL_2475c1413d2c41e9af97c3ebfde02845",
            "_dom_classes": [],
            "description": "max_depth",
            "step": 1,
            "_model_name": "IntSliderModel",
            "orientation": "horizontal",
            "max": 6,
            "_view_module": "@jupyter-widgets/controls",
            "_model_module_version": "1.5.0",
            "value": 4,
            "_view_count": null,
            "disabled": false,
            "_view_module_version": "1.5.0",
            "min": 1,
            "continuous_update": true,
            "readout_format": "d",
            "description_tooltip": null,
            "readout": true,
            "_model_module": "@jupyter-widgets/controls",
            "layout": "IPY_MODEL_054b018c4c0740309dde37daae481b6c"
          }
        },
        "de3df508ccd94a138c00c9697653f98b": {
          "model_module": "@jupyter-widgets/controls",
          "model_name": "IntSliderModel",
          "state": {
            "_view_name": "IntSliderView",
            "style": "IPY_MODEL_d962fc9cc5044a188d1e5e569b338f6e",
            "_dom_classes": [],
            "description": "n_estimators",
            "step": 1,
            "_model_name": "IntSliderModel",
            "orientation": "horizontal",
            "max": 5,
            "_view_module": "@jupyter-widgets/controls",
            "_model_module_version": "1.5.0",
            "value": 4,
            "_view_count": null,
            "disabled": false,
            "_view_module_version": "1.5.0",
            "min": 2,
            "continuous_update": true,
            "readout_format": "d",
            "description_tooltip": null,
            "readout": true,
            "_model_module": "@jupyter-widgets/controls",
            "layout": "IPY_MODEL_5185e779d3214aa1a19c986b07c9da1b"
          }
        },
        "329d9db8853a441da6bb9d253c22883b": {
          "model_module": "@jupyter-widgets/output",
          "model_name": "OutputModel",
          "state": {
            "_view_name": "OutputView",
            "msg_id": "",
            "_dom_classes": [],
            "_model_name": "OutputModel",
            "outputs": [
              {
                "output_type": "display_data",
                "metadata": {
                  "tags": []
                },
                "image/png": "iVBORw0KGgoAAAANSUhEUgAAAYIAAAEWCAYAAABrDZDcAAAABHNCSVQICAgIfAhkiAAAAAlwSFlz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\nHZUKhp/OhLkAAAAASUVORK5CYII=\n",
                "text/plain": "<Figure size 432x288 with 1 Axes>"
              },
              {
                "output_type": "display_data",
                "metadata": {
                  "tags": []
                },
                "image/png": "iVBORw0KGgoAAAANSUhEUgAAAYIAAAEWCAYAAABrDZDcAAAABHNCSVQICAgIfAhkiAAAAAlwSFlz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\ng8DMLOccBGZmOff/AXpRbPtR8BIIAAAAAElFTkSuQmCC\n",
                "text/plain": "<Figure size 432x288 with 1 Axes>"
              },
              {
                "output_type": "display_data",
                "metadata": {
                  "tags": []
                },
                "image/png": "iVBORw0KGgoAAAANSUhEUgAAAYIAAAEWCAYAAABrDZDcAAAABHNCSVQICAgIfAhkiAAAAAlwSFlz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\nAAAAAElFTkSuQmCC\n",
                "text/plain": "<Figure size 432x288 with 1 Axes>"
              },
              {
                "output_type": "display_data",
                "metadata": {
                  "tags": []
                },
                "image/png": "iVBORw0KGgoAAAANSUhEUgAAAYIAAAEWCAYAAABrDZDcAAAABHNCSVQICAgIfAhkiAAAAAlwSFlz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\n",
                "text/plain": "<Figure size 432x288 with 1 Axes>"
              },
              {
                "output_type": "display_data",
                "metadata": {
                  "tags": []
                },
                "image/png": "iVBORw0KGgoAAAANSUhEUgAAAYIAAAEWCAYAAABrDZDcAAAABHNCSVQICAgIfAhkiAAAAAlwSFlz\nAAALEgAACxIB0t1+/AAAADh0RVh0U29mdHdhcmUAbWF0cGxvdGxpYiB2ZXJzaW9uMy4yLjAsIGh0\ndHA6Ly9tYXRwbG90bGliLm9yZy8GearUAAAgAElEQVR4nO3de5gcZZn38e9vkiEJJIGQZBVzgAio\nGzVEdgQ1KryKCKgJblQOHkCRgMourrokeGCR1VeJh10PrBJRUVfllMVENgguqKynvJlgEk0QCATN\nhAAhJIRIMszQ9/tH1WCl0z3Tk+nq7pn+fa6rr6nD09V3V/fU3c9TVc+jiMDMzJpXS70DMDOz+nIi\nMDNrck4EZmZNzonAzKzJORGYmTU5JwIzsybnRGDPkHS8pI5e1l8t6VM5vO6zJN0h6QlJX6j29gcT\nSVMl7ZQ0rJcyIemIWsZVTZIekHRCTtv+uaT35rHtocyJoIbSf4Bd6T96z+Or9Y6rAcwDHgXGRsSH\nyxWStJ+ku/pIVr0ms0YXEX+OiNER8TT4wNYbSZdK+s+cX+NdaeId0p/B8HoH0ITeFBH/U+8gGsyh\nwLro++7Gfwa2AGMG8mKShkdE90C2YUOfpHHAR4G19Y4lb64RNAhJZ0v6paTPS9omaYOkk4vW3582\nn2yQ9PbMuvekv5S3SbpF0qGZdSHp/ZLuTZ/7r5IOl/RrSTskXSdpv6JYPirp0bQG83bKkPRGSask\nbU+3N6OXsq+QtELS4+nfV6TLrwbOAi5Ka0glmwwkTQPeAXyml9c4ALgZeE6mxvWc9JfjDZL+U9IO\n4GxJB0r6pqTNkjZJ+lS2OabcPlXi3yQ9ku6/30t6UbmYMtv7pKSvpNOtkv4i6XPp/ChJuyUdLOmw\n9DMbLunTwKuAr5aoPZ6QfqbbJV0hSWVe91JJ16fv/Yk03udJujh9DxslnZgp/+70fT+Rft/Oy6yb\nL2m5pOHp/PskrZU0so/3/k5Jf5K0VdLHita1SFog6b50/XWSDk7X9eyLeZIeTD+rj6TrTiI5SJ+W\n7pvVmc0eKulX6Xu4VdKEvj6fMj4DfJmktjq0RYQfNXoADwAnlFl3NtAFnAsMA94HPAgIOADYATw/\nLXsI8MJ0eg6wHvhbkhrex4FfZ7YbwBJgLPBCoBO4DXgucCCwDjgrLXs80A18ERgBHAf8JfO6VwOf\nSqdfAjwCHJvGe1b6/kaUeG8HA9uAd6YxnpHOjy/ebi/77ibgzWmMHb2U22s9cGm6b08l+fEzCrgR\nuDLdt38D/D/gvL72KfB6YCVwUPrZ/C1wSAWf/WuA36fTrwDuA5Zn1q1Opw9LP7Ph6fzPgfcWbSvS\n/XEQMJWklnRSmde9FNidxj0c+C6wAfgY0EryfduQKf8G4PD0vR0HPAkcna5rAe5It3lk+hm+pI/3\nPR3YCbw6/U59Mf2OnZCuvxD4LTA5XX8l8MOiffHD9HN6cfpeT8i8t/8ser2fp/v2eenn/HPgs5n1\n23t5LMiUOwZoT9/zXp/BUHvUPYBmepAcKHcWffnOTdedDazPlN0//Sd4dvpPsB2YC4wq2ubNwDmZ\n+Zb0n/fQdD6AWZn1K4H5mfkvAP+eTh+f/pMekFl/HfCJdPpq/poIvgb8a1EsdwPHlXjf7wT+X9Gy\n3wBnF2+3zH57M3BzJsZ9SQR3ZOafRZIQR2WWnQH8rK99SnLQvgd4GdDSj89+FMkBeTywgOTXbAcw\nGvgk8OW03GFUlgheWfQZLSjzupcCP83Mvyn9Dg5L58ek2zuozPN/BFyYmT8MeAy4C7i4gvd9CXBN\nZv4A4Cn+ejC/C3htZv0hJEl7eGZfvCCzfiHwzcx7K5UIPp6Zfz/wk37+nw4jSQIvK/cZDLWHm4Zq\n79SIOCjz+EZm3UM9ExHxZDo5OiL+ApwGnA9slvTfkl6Qrj8U+FLaRLCd5J9UwKTMdh/OTO8qMT86\nM78tfb0efwKeU+J9HAp8uOd109eeUqbsc9LtZP2pKMaS0uaehcA/9lW2Dxsz04eS/BrenIn9SpKa\nQc/6kvs0Im4HvgpcATwiaZGksX29eETsIjm4HEfy6/gXwK+BWemyX/Tz/TyUmX6SPT/DYsWf96OR\nnoxO5+l5vqSTJf1W0mPpez8FeKZpJSIeAH5GcpC+ooI4n0Nm36ffra2Z9YcCN2b29V3A0yTJukf2\nsyv3fczqz74p5f3Amoj4bT+fN2g5EQwSEXFLRLyO5BfTH4GeBLKRpEkjm1xGRcSv9/GlxqUH3x5T\nSZqoim0EPl30uvtHxA9LlH2Q5B8+ayqwqYJ4jiQ56PyvpIeA/wIOkfSQpMNKlC93wjm7fCNJjWBC\nJvaxEfHCzPqy+zQivhwRf0fS7PE8kpPYlfgFSY3iJcCKdP71JM0Qd1QQd64kjQAWA58HnhURBwHL\nSJJgT5k3AC8naV78XAWb3UzyA6Hn+fuT1Ip6bAROLtrXIyMi+92YkpnOfh/7vW+05xV7xY+PpsVe\nC7w5/Y49RNKU9wUN4Sv8nAgGASXX2c9JD9CdJFX7Qrr668DFkl6Ylj1Q0lsH+JKfVHKp5quANwLX\nlyjzDeB8ScemJ1APkPQGSaWu6FkGPE/SmelJ0NNIDqI3VRDLH0gOBDPTx3tJfuHOZM9fij0eBsZL\nOrDcBiNiM3AryT/32PSE5eGSjkuLlN2nkl6avudWkvMnu0k/CyUn9B/o5b38AngXyRVST5E2OZC0\n0W8p85yHSc7n1MJ+JO30W4BuJRcrZE8kTwCuIon5LOBNkk7pY5s3AG+U9EolFyVcxp7Hna8Dn9Zf\nT8ZPlDSnaBufkLR/+nm8G7g2Xf4wcJikio9jkVyaW+7xf9NiZ5Oc++n5zrWTNN99rPRWBz8ngtr7\ncdGvkBsreE4L8CGSX0KPkTQlvA8gIm4ELgeuUXJFzB+Ak8tspxIPkZwEfBD4PnB+RPyxuFBEtJOc\naPxqWn49yT/QXiJiK0lC+TBJs8BFwBsjos+rMSKiOyIe6nmQvP9COv90ifJ/JDm5eH/a3FCuGeFd\nJAe+dWn8N5DUtvrap2NJkuA2kmaKrfz1l/EU4Fe9vJ1fk5wr6Pn1v44kkZSrDQB8CXiLkquXvtxL\nuQGLiCdImuCuI3l/ZwJLM0UWAUsiYln6mZ4DXCVp/F4b++s21wIfAH5AUjvYRnJupMeX0te4VdIT\nJCeOjy3azC9Ivl+3AZ+PiFvT5T0/ULZKurOfb7esiNhe9J17CtgREY9X6zUajSI8MI1ZNUi6leTE\n6l31jmUoSJv+NgCt4fs+cuUbysyqJCJO7LuUWeNx05CZDYikt5c5+Trk78gdKtw0ZGbW5FwjMDNr\ncoPuHMGECRPisMMOq3cYZmaDysqVKx+NiIml1g26RHDYYYfR3t5e7zDMzAYVScV39z/DTUNmZk3O\nicDMrMk5EZiZNTknAjOzJudEYGbW5JomEWzd2cnqjdvZurOz3qGYmTWUQXf56L5YsmoT8xevobWl\nha5CgYVzZzB7Zp9jopiZNYUhXyPYurOT+YvXsLurwBOd3ezuKnDR4jWuGZiZpYZ8IujYtovWlj3f\nZmtLCx3bdpV5hplZcxnyiWDyuFF0FQp7LOsqFJg8blSdIjIzayxDPhGMHz2ChXNnMLK1hTEjhjOy\ntYWFc2cwfvSIeodmZtYQmuJk8eyZk5h1xAQ6tu1i8rhRTgJmZhlNkQggqRk4AZiZ7S3XpiFJJ0m6\nW9J6SQtKrD9U0m2S1kj6uaTJecZjZmZ7yy0RSBoGXAGcDEwHzpA0vajY54HvRsQM4DLgM3nFY2Zm\npeVZIzgGWB8R90fEU8A1wJyiMtOB29Ppn5VYb2ZmOcszEUwCNmbmO9JlWauBv0+n3wyMkTS+eEOS\n5klql9S+ZcuWXII1M2tW9b589CPAcZJ+BxwHbAKeLi4UEYsioi0i2iZOLDnSmpmZ7aM8rxraBEzJ\nzE9Olz0jIh4krRFIGg3MjYjtOcZkZmZF8qwRrACOlDRN0n7A6cDSbAFJEyT1xHAx8K0c4zEzsxJy\nSwQR0Q1cANwC3AVcFxFrJV0maXZa7Hjgbkn3AM8CPp1XPGZmVpoiot4x9EtbW1u0t7fXOwwzs0FF\n0sqIaCu1rt4ni83MrM6cCMzMmpwTgZlZk2uaTuc++eO1rHtwR5/l5sycxJnHTq1BRGZmjcE1gox1\nm3ewZNWmvguamQ0hTVMj+Jc3vbDPMqdd+ZsaRGJm1lhcIzAza3JOBGZmTc6JoB+27uxk9cbtbN3Z\nWe9QzMyqpmnOEQzUklWbmL94Da0tLXQVCiycO4PZM4t71TYzG3xcI6jA1p2dzF+8ht1dBZ7o7GZ3\nV4GLFq9xzcDMhgQnggp0bNtFa8ueu6q1pYWObbvqFJGZWfU4EVRg8rhRdBUKeyzrKhSYPG5UnSIy\nM6seJ4IKjB89goVzZzCytYUxI4YzsrWFhXNnMH70iHqHZmY2YD5ZXKHZMycx64gJdGzbxeRxo5wE\nzGzIcCLoh/GjRzgBmNmQk2vTkKSTJN0tab2kBSXWT5X0M0m/k7RG0il5xmNmZnvLLRFIGgZcAZwM\nTAfOkDS9qNjHSYawfAnJmMb/kVc8ZmZWWp41gmOA9RFxf0Q8BVwDzCkqE8DYdPpA4MEc4zEzsxLy\nTASTgI2Z+Y50WdalwDskdQDLgH8otSFJ8yS1S2rfsmVLHrGamTWtel8+egZwdURMBk4Bvidpr5gi\nYlFEtEVE28SJE2sepJnZUJZnItgETMnMT06XZZ0DXAcQEb8BRgITcozJzMyK5JkIVgBHSpomaT+S\nk8FLi8r8GXgtgKS/JUkEbvsxM6uh3BJBRHQDFwC3AHeRXB20VtJlkmanxT4MnCtpNfBD4OyIiLxi\nMjOzveV6Q1lELCM5CZxddklmeh0wK88YzMysd/U+WWxmZnXmRGBm1uScCMzMmpwTgZlZk3MiMDNr\nck4EZmZNzomgxrbu7GT1xu0e+N7MGoYHpqmhJas2MX/xGlpbWugqFFg4dwazZxb3w2dmVluuEdTI\n1p2dzF+8ht1dBZ7o7GZ3V4GLFq9xzcDM6s6JoEY6tu2itWXP3d3a0kLHtl11isjMLOFEUCOTx42i\nq1DYY1lXocDkcaPqFJGZWcKJoEbGjx7BwrkzGNnawpgRwxnZ2sLCuTMYP3pEvUMzsybnk8U1NHvm\nJGYdMYGObbuYPG6Uk4CZNQQnghobP3qEE4CZNRQ3DZmZNTknAjOzJpdrIpB0kqS7Ja2XtKDE+n+T\ntCp93CNpe57xmJnZ3nI7RyBpGHAF8DqgA1ghaWk6KhkAEfFPmfL/ALwkr3jMzKy0PGsExwDrI+L+\niHgKuAaY00v5M0jGLTYzsxrKMxFMAjZm5jvSZXuRdCgwDbi9zPp5ktoltW/ZsqXqgZqZNbNGuXz0\ndOCGiHi61MqIWAQsAmhra4s8A1m3eQenXfmbAW1jzsxJnHns1CpFZGaWrzwTwSZgSmZ+crqslNOB\nD+QYS0XmVKEn0HWbdwA4EZjZoJFnIlgBHClpGkkCOB04s7iQpBcA44CB/QyvgjOPnTrgA/hAaxNm\nZrWW2zmCiOgGLgBuAe4CrouItZIukzQ7U/R04JqIyLXJx8zMSsv1HEFELAOWFS27pGj+0jxjMDOz\n3vVZI5B0oaSxSnxT0p2STqxFcGZmlr9KmobeExE7gBNJ2vLfCXw216jMzKxmKmkaUvr3FOB7aTu/\nentCs/MlqGY2mFSSCFZKupXkhq+LJY0BCn08p2n5ElQzG2wqSQTnADOB+yPiSUkHA+/ON6zBy5eg\nmtlgU8k5gpcDd0fEdknvAD4OPJ5vWGZmViuVJIKvAU9KOgr4MHAf8N1cozIzs5qpJBF0pzd7zQG+\nGhFXAGPyDcvMzGqlknMET0i6mOSy0VdJagFa8w3LzMxqpZIawWlAJ8n9BA+RdB73uVyjMjOzmukz\nEaQH/8XAiHTRo8CNeQZlZma1U0kXE+cCNwBXposmAT/KMygzM6udSpqGPgDMAnYARMS9wN/kGZSZ\nmdVOJYmgMx1zGABJwwF3GW1mNkRUkgh+IemjwChJrwOuB36cb1hmZlYrlSSCBcAW4PfAeSTjC3y8\nko1LOknS3ZLWS1pQpszbJK2TtFbSDyoN3MzMqqOS+whGAd+KiG8ASBqWLnuytyel5a4AXgd0ACsk\nLY2IdZkyRwIXA7MiYpskn3swM6uxShLBbcAJwM50fhRwK/CKPp53DLA+Iu4HkHQNyd3J6zJlzgWu\niIhtABHxSOWhD20D7cra3VibWaUqSQQjI6InCRAROyXtX8HzJgEbM/MdwLFFZZ4HIOlXwDDg0oj4\nSQXbHtL66sq6++kCnd0FRgxvYfiwvVv3lm94jOUbHmPJqk0DjsPJxGzoqyQR/EXS0RFxJ4CkvwN2\nVfH1jwSOJ7lj+Q5JL46I7dlCkuYB8wCmTh36B6beurJesmoT8xevobWlha5CgYVzZzC7KHH8YPmf\nB5wEPCaCWfOoJBF8ELhe0oMko5U9m6Tbib5sAqZk5ieny7I6gOUR0QVskHQPSWJYkS0UEYuARQBt\nbW1Ne+nq1p2dzF+8ht1dBXanYwNdtHgNs46YwPjRI54p5zERzKw/+kwEEbFC0guA56eL7k4P3H1Z\nARwpaRpJAjgdOLOozI+AM4BvS5pA0lR0f6XBN5uObbtobWl5JgkAtLa00LFt1x6JwMysPyrpYuID\nwAER8YeI+AMwWtL7+3peRHQDFwC3AHcB16XjHV8maXZa7BZgq6R1wM+Af46Irfv6Zoa6yeNG0VXY\nc5TQrkKByeNG1SkiMxsKKrmP4Nxsm316hc+5lWw8IpZFxPMi4vCI+HS67JKIWJpOR0R8KCKmR8SL\nI+KafXkTzWL86BEsnDuDka0tjBkxnJGtLSycO8O1ATMbkErOEQyTpHRwmp77A/bLNywrZ/bMScw6\nYgId23YxedwoJwEzG7BKEsFPgGsl9fQ+el66zOpk/OgRTgBmVjWVJIL5JAf/96XzPwWuyi0iMzOr\nqUquGiqQDGD/tfzDMTOzWuszEUjaQIlupyPiublEZGZmNVVJ01BbZnok8Fbg4HzCsVrZurPTJ5zN\nDKisaaj4uv5/l7QSuCSfkCxvlXRTYWbNo5KmoaMzsy0kNYRKahLWgCrtpsLMmkclB/QvZKa7gQeA\nt+USjeXO3VSYWbFKmob+Ty0CsdqoZjcVPs9gNjRU0tfQhZLGKnGVpDslnViL4Kz6qtVNxZJVm5h1\n+e2846rlzLr8dpYOsNtrM6sfpT1HlC8grY6IoyS9HjifZLzi70XE0b0+MSdtbW3R3t5ej5ceUvr6\nNX/alb9h3eYdTD9k7F7rup8ucOfG7WS/OhIcPeWgvQbK8eA2Zo1B0sqIaCu1rpJzBEr/ngJ8N+1B\nVL09wRpfX91U9DZKWmd3gRbg6cyylnR5NhF4cBuzwaGSRLBS0q3ANOBiSWOAQh/PsUGut8Fttu7s\nZNblt/N0V+aE8/AWvvOeY/ZILh7cxmxwqKQb6nOABcBLI+JJkp5H351rVNbQ3B222dBSaV9Dd2bm\ntwIePKbJuTtss6GjkhrBPpN0kqS7Ja2XtKDE+rMlbZG0Kn28N894rLrGjx7BUVMOchIwG+TK1ggk\nTYuIDfu64XQAmyuA15EMUr9C0tKIWFdU9NqIuGBfX8fMzAamtxrBDQCSbtvHbR8DrI+I+yPiKeAa\nYM4+bsvMzHLS2zmCFkkfBZ4n6UPFKyPii31sexKwMTPfARxbotxcSa8G7gH+KSI2FheQNA+YBzB1\nqi9FNDOrpt4SwenAqWmZMTm9/o+BH0ZEp6TzgO8ArykuFBGLgEWQ3FCWUyyWg3Wbdwz4MlLflGaW\nr7KJICLuBi6XtCYibt6HbW8CpmTmJ6fLsq+RvfroKmDhPryONajebkqrlG9KM8tfJTeU/VrSF4FX\np/O/AC6LiMf7eN4K4EhJ00gSwOnAmdkCkg6JiM3p7Gzgroojt4bX201plfJNaWb5q+Ty0W8BT5B0\nPf02YAfw7b6eFBHdwAXALSQH+OvS7ikukzQ7LfaPktZKWg38I3B2/9+CmZkNRCU1gsMjYm5m/pOS\nVlWy8YhYBiwrWnZJZvpi4OJKtmVmZvmopEawS9Ire2YkzQJ25ReSmZnVUiU1gvOB70o6MJ3fBpyV\nX0jWTDy4jVn9VdLX0GrgKElj0/kduUdlTWHJqk3MX7yG1pYWugoFFs6dwewqXGlkZv1TcV9DEbHD\nScCqZevOTuYvXsPurgJPdHazu6vARYvXsHVnZ71DM2s6uXY6Z1ZOx7ZdtLbs+fVrbWmhY5tPP5nV\nmhOB1cXkcaPoKuw5vlFXocDkcaPqFJFZ86pk8Pr9JX1C0jfS+SMlvTH/0Gwo8+A2Zo2jkquGvg2s\nBF6ezm8Crgduyisoaw4e3MasMVR6Q9lpks4AiIgnPXi9Vcv40SOcAMzqrJJzBE9JGgUEgKTDAV/a\nYWY2RFRSI7gU+AkwRdL3gVl48HozsyGjkhvKbpW0EngZIODCiHg098jMzKwmKrlq6LaI2BoR/x0R\nN0XEowMYvtLMzBpMb4PXjwT2ByZIGkdSGwAYSzIMpZmZDQG9NQ2dB3wQeA7J5aM9iWAH8NWc4zJ7\nhoe7NMtXb0NVfgn4kqR/iIiv1DAms2d4uEuz/FVysvgrkl4ETAdGZpZ/t6/nSjoJ+BIwDLgqIj5b\nptxc4AbgpRHRXmHs1gQ83KVZ/vpMBJL+BTieJBEsA04Gfgn0mggkDQOuAF4HdAArJC2NiHVF5cYA\nFwLL9yF+MzMboEpuKHsL8FrgoYh4N3AUcGDvTwHgGGB9RNwfEU8B1wBzSpT7V+ByYHdlIZuZWTVV\nNFRlRBSA7nRwmkeAKRU8bxKwMTPfQdHVRpKOBqZExH/3tiFJ8yS1S2rfsmVLBS9tZmaVqiQRtEs6\nCPgGydVDdwIDbnSV1AJ8EfhwX2UjYlFEtEVE28SJEwf60mZmltHrOYK0c7nPRMR24OuSfgKMjYg1\nFWx7E3vWHCany3qMAV4E/Dztw+7ZwFJJs33C2MysdnpNBBERkpYBL07nH+jHtlcAR0qaRpIATgfO\nzGz7cWBCz7yknwMfcRKwPPheBLPyKul07k5JL42IFf3ZcER0S7oAuIXk8tFvRcRaSZcB7RGxdB/i\nNeu3atyLsHzDYyzf8BhLVm3qu3AfsTiZWKNRRPReQPojcATwJ+AvJHcYR0TMyD+8vbW1tUV7uysN\nVls/WP7nASeBdZt3MP2QsVx73sv7LmxWZZJWRkRbqXWV1AheX+V4zAYd39hmQ1kldxb/qRaBmJlZ\nfVRy+aiZmQ1hTgRmZk2uknMEZlYlvozVGpETgVmNuEtta1ROBGY14iuPrFH5HIEZsHVnJ6s3bmfr\nzs56h2JWc64RWNNbsmoT8xevobWlha5CgYVzZzC7Cs04ZoOFawTW1Lbu7GT+4jXs7irwRGc3u7sK\nXLR4jWsG1lScCKypdWzbRWvLnv8GrS0tdGzbVaeIzGrPicAGvYG0708eN4quQmGPZV2FApPHjapW\neGYNz4nABrUlqzYx6/LbecdVy5l1+e0s7WfHcONHj2Dh3BmMbG1hzIjhjGxtYeHcGYwfPaJf2/HJ\nZhvMfLLYBq1s+/5ukl/1Fy1ew6wjJvTrQD575iRmHTGBjm27mDxuVL+TwFA72bx1Z+c+7wsbnJwI\nbNDqad/vSQLw1/b9/h7Axo8esU8HvWolo0Yx1JKaVcZNQzZoNUL7/lA62ewrqJpXrolA0kmS7pa0\nXtKCEuvPl/R7Sask/VLS9DzjsaGlWu37A9EIyahahlJSs/7JrWlI0jDgCuB1QAewQtLSiFiXKfaD\niPh6Wn428EXgpLxisqFnoO37A9WTjC4qak7JM468Oq4bSknN+ifPcwTHAOsj4n4ASdcAc4BnEkFE\n7MiUPwDofdxMsxL2tX2/WmqZjPLsuK4eSc0aQ56JYBKwMTPfARxbXEjSB4APAfsBrym1IUnzgHkA\nU6e610VrPLVKRnl3XFfvGpbVR91PFkfEFRFxODAf+HiZMosioi0i2iZOnFjbAM2azPjRIzhqykFO\nAk0kz0SwCZiSmZ+cLivnGuDUHOMxM7MS8kwEK4AjJU2TtB9wOrA0W0DSkZnZNwD35hiPmZmVkNs5\ngojolnQBcAswDPhWRKyVdBnQHhFLgQsknQB0AduAs/KKx8zMSsv1zuKIWAYsK1p2SWb6wjxf38zM\n+lb3k8VmZlZfTgRmDcI9mFq9uNM5swbgzt6snlwjMKszd/Zm9eZEYFZn7uzN6s2JwKzO3Nmb1ZsT\ngVmdVbM7bZ9wtn3hk8VmDaAanb3154RzXl1Z2+DkRGDWIAbSg2l/hsysRlfWyzc8xvINj7FkVW/d\nh/XNyaQxOBGYDQH9Gb+5Gl1Z/2D5nwecBMqNi2C150RgNgTU+oRz3uMiWG35ZLHZENAI4zfb4OUa\ngdkQ4dHFbF85EZgNIfUev9kGJzcNmZk1uVwTgaSTJN0tab2kBSXWf0jSOklrJN0m6dA84zEzs73l\nlggkDQOuAE4GpgNnSJpeVOx3QFtEzABuABbmFY+ZmZWWZ43gGGB9RNwfEU+RDE4/J1sgIn4WEU+m\ns78lGeDezMxqKM9EMAnYmJnvSJeVcw5wc47xmJlZCQ1x1ZCkdwBtwHFl1s8D5gFMneq7EM3MqinP\nGsEmYEpmfnK6bA+STgA+BsyOiJJdJkbEoohoi4i2iRMn5hKsmVmzyjMRrACOlDRN0n7A6cDSbAFJ\nLwGuJEkCj+QYi5mZlZFbIoiIbuAC4BbgLuC6iFgr6TJJs9NinwNGA9dLWiVpaZnNmZnVRTOM8ZDr\nOYKIWAYsK1p2SWb6hDxf38xsIPozxsNg5juLzazqhsKv6OwYD090drO7q8BFi9cM6vdUTkNcNWRm\nQ8dQ+RXdnzEeBjvXCMysahrtV/RAaia1HuOhL3nWslwjMLOqaaRf0QOtmfSM8XBR0TbqURvIu5bl\nRGBmVdMov6L7M4ZzbyoZ46Eaw3b2pvvpAndu3E4EA3ovvXEiMLOqaZRf0ZXWTKpxEF++4TEAjp12\n8IC2U05nd4EW4OnMsmrXspwIzKyq+jNS2rrNOwY0dvGcmZNKjp1cac1kyapNrNu8g+mHjN3nGI6d\ndnDZOKph685OZl1+O093/ZcV3scAAAiiSURBVPX9VLuW5URgZlVXyUhpcwbYxr18w2Ms3/BY2V/0\nkw8axX2P/oUWoJDOv//7d+5RpicJXHveywcUS1+27uzc5yFEa1HLUkRUbWO10NbWFu3t7fUOw8xy\n1tfBs5Jmne6nC3R2FxgxvIXhw0pfJJnnr3mo3onegSQTAEkrI6Kt5DonAjNrNEPlXoSeZp3dmWad\nka0t/Gr+a2p+3qS3ROD7CMysoTTavQgD0XPSOqvnRG8jcSIws4YyWA6elWiUy2n74kRgZg1lsBw8\nK9FzondkawtjRgxnZGtL3W5K642vGjKzhtIo9yJUS38up60XJwIzaziD4eDZH5VcTltPTgRm1pAa\n/eA5lOR6jkDSSZLulrRe0oIS618t6U5J3ZLekmcsZmZWWm6JQNIw4ArgZGA6cIak6UXF/gycDfwg\nrzjMzKx3eTYNHQOsj4j7ASRdA8wB1vUUiIgH0nWFUhswM7P85dk0NAnYmJnvSJf1m6R5ktoltW/Z\nsqUqwZmZWWJQ3EcQEYsioi0i2iZOnFjvcMzMhpQ8m4Y2AVMy85PTZQOycuXKRyX9aaDb6cUE4NEc\nt18tjrP6BkusjrO6BkucMLBYDy23Is9EsAI4UtI0kgRwOnDmQDcaEblWCSS1l+uYqZE4zuobLLE6\nzuoaLHFCfrHm1jQUEd3ABcAtwF3AdRGxVtJlkmYDSHqppA7grcCVktbmFY+ZmZWW6w1lEbEMWFa0\n7JLM9AqSJiMzM6uTQXGyuMYW1TuACjnO6hsssTrO6hoscUJOsQ66gWnMzKy6XCMwM2tyTgRmZk2u\n6RKBpCmSfiZpnaS1ki4sUeZ4SY9LWpU+Lim1rVqQ9ICk36dx7DVYsxJfTjv2WyPp6DrE+PzMvlol\naYekDxaVqds+lfQtSY9I+kNm2cGSfirp3vTvuDLPPSstc6+ks+oQ5+ck/TH9bG+UdFCZ5/b6PalB\nnJdK2pT5fE8p89xeO6KsQZzXZmJ8QNKqMs+t5f4seUyq6Xc0IprqARwCHJ1OjwHuAaYXlTkeuKne\nsaaxPABM6GX9KcDNgICXAcvrHO8w4CHg0EbZp8CrgaOBP2SWLQQWpNMLgMtLPO9g4P7077h0elyN\n4zwRGJ5OX14qzkq+JzWI81LgIxV8N+4DngvsB6wu/t/LO86i9V8ALmmA/VnymFTL72jT1QgiYnNE\n3JlOP0Fyj8M+9YHUIOYA343Eb4GDJB1Sx3heC9wXEXne/d0vEXEH8FjR4jnAd9Lp7wCnlnjq64Gf\nRsRjEbEN+ClwUi3jjIhbI7knB+C3NMDl1mX2ZyWe6YgyIp4CejqizEVvcUoS8Dbgh3m9fqV6OSbV\n7DvadIkgS9JhwEuA5SVWv1zSakk3S3phTQPbUwC3SlopaV6J9VXr3K9KTqf8P1ej7FOAZ0XE5nT6\nIeBZJco02r59D0ntr5S+vie1cEHahPWtMs0YjbQ/XwU8HBH3lllfl/1ZdEyq2Xe0aROBpNHAYuCD\nEbGjaPWdJE0bRwFfAX5U6/gyXhkRR5OM6/ABSa+uYyy9krQfMBu4vsTqRtqne4ikjt3Q11FL+hjQ\nDXy/TJF6f0++BhwOzAQ2kzS7NLIz6L02UPP92dsxKe/vaFMmAkmtJDv8+xHxX8XrI2JHROxMp5cB\nrZIm1DjMnlg2pX8fAW4kqV5n5dK53z46GbgzIh4uXtFI+zT1cE8TWvr3kRJlGmLfSjobeCPw9vSA\nsJcKvie5ioiHI+LpiCgA3yjz+o2yP4cDfw9cW65MrfdnmWNSzb6jTZcI0rbBbwJ3RcQXy5R5dloO\nSceQ7KettYvymTgOkDSmZ5rkxOEfiootBd6VXj30MuDxTHWy1sr+ymqUfZqxFOi5wuIsYEmJMrcA\nJ0oalzZ1nJguqxlJJwEXAbMj4skyZSr5nuSq6LzUm8u8/jMdUaa1x9NJPodaOwH4Y0R0lFpZ6/3Z\nyzGpdt/RWpwVb6QH8EqSKtYaYFX6OAU4Hzg/LXMBsJbkqobfAq+oU6zPTWNYncbzsXR5NlaRDAl6\nH/B7oK1OsR5AcmA/MLOsIfYpSXLaDHSRtKGeA4wHbgPuBf4HODgt2wZclXnue4D16ePddYhzPUkb\ncM939etp2ecAy3r7ntQ4zu+l3781JAewQ4rjTOdPIbkq5r56xJkuv7rne5kpW8/9We6YVLPvqLuY\nMDNrck3XNGRmZntyIjAza3JOBGZmTc6JwMysyTkRmJk1uVyHqjQbTCRdCuwExgJ3RMT/lCl3KnBP\nRKyrYXhmuXGNwKxIRFxSLgmkTiXpHdJsSHAisKYm6WOS7pH0S+D56bKrJb0lnf5s2k/8Gkmfl/QK\nkv6UPpf2VX+4pHMlrUg71Fssaf/Mdr4s6deS7u/ZZrpuftrf/WpJn02XHS7pJ2lHZ/8r6QU13yHW\nlNw0ZE1L0t+RdHMwk+R/4U5gZWb9eJLuEl4QESHpoIjYLmkpydgKN6TltkfEN9LpT5HcafuVdDOH\nkNw5+gKSO25vkHQySRfDx0bEk5IOTssuIrnj9V5JxwL/Abwmx11gBjgRWHN7FXBjpH34pAf4rMeB\n3cA3Jd0E3FRmOy9KE8BBwGj27OvlR5F0xLZOUk83wicA3+553Yh4LO158hXA9WmXTAAjBvTuzCrk\nRGBWRkR0px3kvRZ4C0l/SaV+oV8NnBoRq9OeQo/PrOvMTIvyWoDtETFzIDGb7QufI7BmdgdwqqRR\naW+Tb8quTH+lHxhJt9n/BByVrnqCZEjBHmOAzWlXwm+v4HV/Crw7cy7h4Ej6n98g6a3pMkk6qreN\nmFWLE4E1rUiGB7yWpJfJm0m6Sc4aA9wkaQ3wS+BD6fJrgH+W9DtJhwOfIBlR6lfAHyt43Z+QnC9o\nVzJ4+kfSVW8HzpHU0+tlbsM4mmW591EzsybnGoGZWZNzIjAza3JOBGZmTc6JwMysyTkRmJk1OScC\nM7Mm50RgZtbk/j/NqfAiTAwMQAAAAABJRU5ErkJggg==\n",
                "text/plain": "<Figure size 432x288 with 1 Axes>"
              }
            ],
            "_view_module": "@jupyter-widgets/output",
            "_model_module_version": "1.0.0",
            "_view_count": null,
            "_view_module_version": "1.0.0",
            "layout": "IPY_MODEL_1e9e7281eb5444d29a051d090f2f7b6a",
            "_model_module": "@jupyter-widgets/output"
          }
        },
        "2475c1413d2c41e9af97c3ebfde02845": {
          "model_module": "@jupyter-widgets/controls",
          "model_name": "SliderStyleModel",
          "state": {
            "_view_name": "StyleView",
            "handle_color": null,
            "_model_name": "SliderStyleModel",
            "description_width": "",
            "_view_module": "@jupyter-widgets/base",
            "_model_module_version": "1.5.0",
            "_view_count": null,
            "_view_module_version": "1.2.0",
            "_model_module": "@jupyter-widgets/controls"
          }
        },
        "054b018c4c0740309dde37daae481b6c": {
          "model_module": "@jupyter-widgets/base",
          "model_name": "LayoutModel",
          "state": {
            "_view_name": "LayoutView",
            "grid_template_rows": null,
            "right": null,
            "justify_content": null,
            "_view_module": "@jupyter-widgets/base",
            "overflow": null,
            "_model_module_version": "1.2.0",
            "_view_count": null,
            "flex_flow": null,
            "width": null,
            "min_width": null,
            "border": null,
            "align_items": null,
            "bottom": null,
            "_model_module": "@jupyter-widgets/base",
            "top": null,
            "grid_column": null,
            "overflow_y": null,
            "overflow_x": null,
            "grid_auto_flow": null,
            "grid_area": null,
            "grid_template_columns": null,
            "flex": null,
            "_model_name": "LayoutModel",
            "justify_items": null,
            "grid_row": null,
            "max_height": null,
            "align_content": null,
            "visibility": null,
            "align_self": null,
            "height": null,
            "min_height": null,
            "padding": null,
            "grid_auto_rows": null,
            "grid_gap": null,
            "max_width": null,
            "order": null,
            "_view_module_version": "1.2.0",
            "grid_template_areas": null,
            "object_position": null,
            "object_fit": null,
            "grid_auto_columns": null,
            "margin": null,
            "display": null,
            "left": null
          }
        },
        "d962fc9cc5044a188d1e5e569b338f6e": {
          "model_module": "@jupyter-widgets/controls",
          "model_name": "SliderStyleModel",
          "state": {
            "_view_name": "StyleView",
            "handle_color": null,
            "_model_name": "SliderStyleModel",
            "description_width": "",
            "_view_module": "@jupyter-widgets/base",
            "_model_module_version": "1.5.0",
            "_view_count": null,
            "_view_module_version": "1.2.0",
            "_model_module": "@jupyter-widgets/controls"
          }
        },
        "5185e779d3214aa1a19c986b07c9da1b": {
          "model_module": "@jupyter-widgets/base",
          "model_name": "LayoutModel",
          "state": {
            "_view_name": "LayoutView",
            "grid_template_rows": null,
            "right": null,
            "justify_content": null,
            "_view_module": "@jupyter-widgets/base",
            "overflow": null,
            "_model_module_version": "1.2.0",
            "_view_count": null,
            "flex_flow": null,
            "width": null,
            "min_width": null,
            "border": null,
            "align_items": null,
            "bottom": null,
            "_model_module": "@jupyter-widgets/base",
            "top": null,
            "grid_column": null,
            "overflow_y": null,
            "overflow_x": null,
            "grid_auto_flow": null,
            "grid_area": null,
            "grid_template_columns": null,
            "flex": null,
            "_model_name": "LayoutModel",
            "justify_items": null,
            "grid_row": null,
            "max_height": null,
            "align_content": null,
            "visibility": null,
            "align_self": null,
            "height": null,
            "min_height": null,
            "padding": null,
            "grid_auto_rows": null,
            "grid_gap": null,
            "max_width": null,
            "order": null,
            "_view_module_version": "1.2.0",
            "grid_template_areas": null,
            "object_position": null,
            "object_fit": null,
            "grid_auto_columns": null,
            "margin": null,
            "display": null,
            "left": null
          }
        },
        "a7f4defaf873455cbd2573fb2c672f19": {
          "model_module": "@jupyter-widgets/controls",
          "model_name": "VBoxModel",
          "state": {
            "_view_name": "VBoxView",
            "_dom_classes": [
              "widget-interact"
            ],
            "_model_name": "VBoxModel",
            "_view_module": "@jupyter-widgets/controls",
            "_model_module_version": "1.5.0",
            "_view_count": null,
            "_view_module_version": "1.5.0",
            "box_style": "",
            "layout": "IPY_MODEL_154312a710624b28995e395262ece202",
            "_model_module": "@jupyter-widgets/controls",
            "children": [
              "IPY_MODEL_e1c8895040454f0fb42ef71d9349cc92",
              "IPY_MODEL_b9a1f803f76042eca157130eafe4c5eb",
              "IPY_MODEL_85265c3609b34a8eb7164bf535952e75"
            ]
          }
        },
        "154312a710624b28995e395262ece202": {
          "model_module": "@jupyter-widgets/base",
          "model_name": "LayoutModel",
          "state": {
            "_view_name": "LayoutView",
            "grid_template_rows": null,
            "right": null,
            "justify_content": null,
            "_view_module": "@jupyter-widgets/base",
            "overflow": null,
            "_model_module_version": "1.2.0",
            "_view_count": null,
            "flex_flow": null,
            "width": null,
            "min_width": null,
            "border": null,
            "align_items": null,
            "bottom": null,
            "_model_module": "@jupyter-widgets/base",
            "top": null,
            "grid_column": null,
            "overflow_y": null,
            "overflow_x": null,
            "grid_auto_flow": null,
            "grid_area": null,
            "grid_template_columns": null,
            "flex": null,
            "_model_name": "LayoutModel",
            "justify_items": null,
            "grid_row": null,
            "max_height": null,
            "align_content": null,
            "visibility": null,
            "align_self": null,
            "height": null,
            "min_height": null,
            "padding": null,
            "grid_auto_rows": null,
            "grid_gap": null,
            "max_width": null,
            "order": null,
            "_view_module_version": "1.2.0",
            "grid_template_areas": null,
            "object_position": null,
            "object_fit": null,
            "grid_auto_columns": null,
            "margin": null,
            "display": null,
            "left": null
          }
        },
        "e1c8895040454f0fb42ef71d9349cc92": {
          "model_module": "@jupyter-widgets/controls",
          "model_name": "IntSliderModel",
          "state": {
            "_view_name": "IntSliderView",
            "style": "IPY_MODEL_6574690127874d71808454e718140981",
            "_dom_classes": [],
            "description": "max_depth",
            "step": 1,
            "_model_name": "IntSliderModel",
            "orientation": "horizontal",
            "max": 6,
            "_view_module": "@jupyter-widgets/controls",
            "_model_module_version": "1.5.0",
            "value": 3,
            "_view_count": null,
            "disabled": false,
            "_view_module_version": "1.5.0",
            "min": 1,
            "continuous_update": true,
            "readout_format": "d",
            "description_tooltip": null,
            "readout": true,
            "_model_module": "@jupyter-widgets/controls",
            "layout": "IPY_MODEL_f901cab1de4848cfa33daccae14c0f40"
          }
        },
        "b9a1f803f76042eca157130eafe4c5eb": {
          "model_module": "@jupyter-widgets/controls",
          "model_name": "IntSliderModel",
          "state": {
            "_view_name": "IntSliderView",
            "style": "IPY_MODEL_70ff9168a3e343d0a2956928ae82621c",
            "_dom_classes": [],
            "description": "n_estimators",
            "step": 10,
            "_model_name": "IntSliderModel",
            "orientation": "horizontal",
            "max": 40,
            "_view_module": "@jupyter-widgets/controls",
            "_model_module_version": "1.5.0",
            "value": 20,
            "_view_count": null,
            "disabled": false,
            "_view_module_version": "1.5.0",
            "min": 10,
            "continuous_update": true,
            "readout_format": "d",
            "description_tooltip": null,
            "readout": true,
            "_model_module": "@jupyter-widgets/controls",
            "layout": "IPY_MODEL_44507d54aeda41b2be865a2d466136b8"
          }
        },
        "85265c3609b34a8eb7164bf535952e75": {
          "model_module": "@jupyter-widgets/output",
          "model_name": "OutputModel",
          "state": {
            "_view_name": "OutputView",
            "msg_id": "",
            "_dom_classes": [],
            "_model_name": "OutputModel",
            "outputs": [
              {
                "output_type": "display_data",
                "metadata": {
                  "tags": []
                },
                "image/png": "iVBORw0KGgoAAAANSUhEUgAAAVoAAAEFCAYAAACiiS9UAAAABHNCSVQICAgIfAhkiAAAAAlwSFlz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\nRkQUlkAbEVHY/wcMADLxBdYEDwAAAABJRU5ErkJggg==\n",
                "text/plain": "<Figure size 432x288 with 2 Axes>"
              },
              {
                "output_type": "display_data",
                "metadata": {
                  "tags": []
                },
                "image/png": "iVBORw0KGgoAAAANSUhEUgAAAVoAAAEFCAYAAACiiS9UAAAABHNCSVQICAgIfAhkiAAAAAlwSFlz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\n7AIAAAAASUVORK5CYII=\n",
                "text/plain": "<Figure size 432x288 with 2 Axes>"
              },
              {
                "output_type": "display_data",
                "metadata": {
                  "tags": []
                },
                "image/png": "iVBORw0KGgoAAAANSUhEUgAAAVoAAAEFCAYAAACiiS9UAAAABHNCSVQICAgIfAhkiAAAAAlwSFlz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\n",
                "text/plain": "<Figure size 432x288 with 2 Axes>"
              }
            ],
            "_view_module": "@jupyter-widgets/output",
            "_model_module_version": "1.0.0",
            "_view_count": null,
            "_view_module_version": "1.0.0",
            "layout": "IPY_MODEL_1c165bee33fb4cbbbbf84b15cc4ba680",
            "_model_module": "@jupyter-widgets/output"
          }
        },
        "6574690127874d71808454e718140981": {
          "model_module": "@jupyter-widgets/controls",
          "model_name": "SliderStyleModel",
          "state": {
            "_view_name": "StyleView",
            "handle_color": null,
            "_model_name": "SliderStyleModel",
            "description_width": "",
            "_view_module": "@jupyter-widgets/base",
            "_model_module_version": "1.5.0",
            "_view_count": null,
            "_view_module_version": "1.2.0",
            "_model_module": "@jupyter-widgets/controls"
          }
        },
        "f901cab1de4848cfa33daccae14c0f40": {
          "model_module": "@jupyter-widgets/base",
          "model_name": "LayoutModel",
          "state": {
            "_view_name": "LayoutView",
            "grid_template_rows": null,
            "right": null,
            "justify_content": null,
            "_view_module": "@jupyter-widgets/base",
            "overflow": null,
            "_model_module_version": "1.2.0",
            "_view_count": null,
            "flex_flow": null,
            "width": null,
            "min_width": null,
            "border": null,
            "align_items": null,
            "bottom": null,
            "_model_module": "@jupyter-widgets/base",
            "top": null,
            "grid_column": null,
            "overflow_y": null,
            "overflow_x": null,
            "grid_auto_flow": null,
            "grid_area": null,
            "grid_template_columns": null,
            "flex": null,
            "_model_name": "LayoutModel",
            "justify_items": null,
            "grid_row": null,
            "max_height": null,
            "align_content": null,
            "visibility": null,
            "align_self": null,
            "height": null,
            "min_height": null,
            "padding": null,
            "grid_auto_rows": null,
            "grid_gap": null,
            "max_width": null,
            "order": null,
            "_view_module_version": "1.2.0",
            "grid_template_areas": null,
            "object_position": null,
            "object_fit": null,
            "grid_auto_columns": null,
            "margin": null,
            "display": null,
            "left": null
          }
        },
        "70ff9168a3e343d0a2956928ae82621c": {
          "model_module": "@jupyter-widgets/controls",
          "model_name": "SliderStyleModel",
          "state": {
            "_view_name": "StyleView",
            "handle_color": null,
            "_model_name": "SliderStyleModel",
            "description_width": "",
            "_view_module": "@jupyter-widgets/base",
            "_model_module_version": "1.5.0",
            "_view_count": null,
            "_view_module_version": "1.2.0",
            "_model_module": "@jupyter-widgets/controls"
          }
        },
        "44507d54aeda41b2be865a2d466136b8": {
          "model_module": "@jupyter-widgets/base",
          "model_name": "LayoutModel",
          "state": {
            "_view_name": "LayoutView",
            "grid_template_rows": null,
            "right": null,
            "justify_content": null,
            "_view_module": "@jupyter-widgets/base",
            "overflow": null,
            "_model_module_version": "1.2.0",
            "_view_count": null,
            "flex_flow": null,
            "width": null,
            "min_width": null,
            "border": null,
            "align_items": null,
            "bottom": null,
            "_model_module": "@jupyter-widgets/base",
            "top": null,
            "grid_column": null,
            "overflow_y": null,
            "overflow_x": null,
            "grid_auto_flow": null,
            "grid_area": null,
            "grid_template_columns": null,
            "flex": null,
            "_model_name": "LayoutModel",
            "justify_items": null,
            "grid_row": null,
            "max_height": null,
            "align_content": null,
            "visibility": null,
            "align_self": null,
            "height": null,
            "min_height": null,
            "padding": null,
            "grid_auto_rows": null,
            "grid_gap": null,
            "max_width": null,
            "order": null,
            "_view_module_version": "1.2.0",
            "grid_template_areas": null,
            "object_position": null,
            "object_fit": null,
            "grid_auto_columns": null,
            "margin": null,
            "display": null,
            "left": null
          }
        },
        "28feb077432a4e95827a8f117c1e12bf": {
          "model_module": "@jupyter-widgets/controls",
          "model_name": "VBoxModel",
          "state": {
            "_view_name": "VBoxView",
            "_dom_classes": [
              "widget-interact"
            ],
            "_model_name": "VBoxModel",
            "_view_module": "@jupyter-widgets/controls",
            "_model_module_version": "1.5.0",
            "_view_count": null,
            "_view_module_version": "1.5.0",
            "box_style": "",
            "layout": "IPY_MODEL_71d4e8b84baa4966a70c8437f5d37925",
            "_model_module": "@jupyter-widgets/controls",
            "children": [
              "IPY_MODEL_9f822aca9c914ca492dc863e7b65b23c",
              "IPY_MODEL_8bee207b8a5b408182615e9a6ba7b16e",
              "IPY_MODEL_3b664f0c812e43128b6384e59e6251eb"
            ]
          }
        },
        "71d4e8b84baa4966a70c8437f5d37925": {
          "model_module": "@jupyter-widgets/base",
          "model_name": "LayoutModel",
          "state": {
            "_view_name": "LayoutView",
            "grid_template_rows": null,
            "right": null,
            "justify_content": null,
            "_view_module": "@jupyter-widgets/base",
            "overflow": null,
            "_model_module_version": "1.2.0",
            "_view_count": null,
            "flex_flow": null,
            "width": null,
            "min_width": null,
            "border": null,
            "align_items": null,
            "bottom": null,
            "_model_module": "@jupyter-widgets/base",
            "top": null,
            "grid_column": null,
            "overflow_y": null,
            "overflow_x": null,
            "grid_auto_flow": null,
            "grid_area": null,
            "grid_template_columns": null,
            "flex": null,
            "_model_name": "LayoutModel",
            "justify_items": null,
            "grid_row": null,
            "max_height": null,
            "align_content": null,
            "visibility": null,
            "align_self": null,
            "height": null,
            "min_height": null,
            "padding": null,
            "grid_auto_rows": null,
            "grid_gap": null,
            "max_width": null,
            "order": null,
            "_view_module_version": "1.2.0",
            "grid_template_areas": null,
            "object_position": null,
            "object_fit": null,
            "grid_auto_columns": null,
            "margin": null,
            "display": null,
            "left": null
          }
        },
        "9f822aca9c914ca492dc863e7b65b23c": {
          "model_module": "@jupyter-widgets/controls",
          "model_name": "IntSliderModel",
          "state": {
            "_view_name": "IntSliderView",
            "style": "IPY_MODEL_be27cd5dd0fa46329ae07f658cd728ec",
            "_dom_classes": [],
            "description": "max_depth",
            "step": 1,
            "_model_name": "IntSliderModel",
            "orientation": "horizontal",
            "max": 6,
            "_view_module": "@jupyter-widgets/controls",
            "_model_module_version": "1.5.0",
            "value": 4,
            "_view_count": null,
            "disabled": false,
            "_view_module_version": "1.5.0",
            "min": 1,
            "continuous_update": true,
            "readout_format": "d",
            "description_tooltip": null,
            "readout": true,
            "_model_module": "@jupyter-widgets/controls",
            "layout": "IPY_MODEL_5479afb84de84761b190677a86a466e0"
          }
        },
        "8bee207b8a5b408182615e9a6ba7b16e": {
          "model_module": "@jupyter-widgets/controls",
          "model_name": "IntSliderModel",
          "state": {
            "_view_name": "IntSliderView",
            "style": "IPY_MODEL_8e900357f9c649d7ad9be3557aa2a357",
            "_dom_classes": [],
            "description": "n_estimators",
            "step": 1,
            "_model_name": "IntSliderModel",
            "orientation": "horizontal",
            "max": 5,
            "_view_module": "@jupyter-widgets/controls",
            "_model_module_version": "1.5.0",
            "value": 4,
            "_view_count": null,
            "disabled": false,
            "_view_module_version": "1.5.0",
            "min": 2,
            "continuous_update": true,
            "readout_format": "d",
            "description_tooltip": null,
            "readout": true,
            "_model_module": "@jupyter-widgets/controls",
            "layout": "IPY_MODEL_97ca8f1c00764d6fb20a470e1bf8889f"
          }
        },
        "3b664f0c812e43128b6384e59e6251eb": {
          "model_module": "@jupyter-widgets/output",
          "model_name": "OutputModel",
          "state": {
            "_view_name": "OutputView",
            "msg_id": "",
            "_dom_classes": [],
            "_model_name": "OutputModel",
            "outputs": [
              {
                "output_type": "display_data",
                "metadata": {
                  "tags": []
                },
                "image/png": "iVBORw0KGgoAAAANSUhEUgAAAVoAAAEFCAYAAACiiS9UAAAABHNCSVQICAgIfAhkiAAAAAlwSFlz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\ngg==\n",
                "text/plain": "<Figure size 432x288 with 2 Axes>"
              },
              {
                "output_type": "display_data",
                "metadata": {
                  "tags": []
                },
                "image/png": "iVBORw0KGgoAAAANSUhEUgAAAVoAAAEFCAYAAACiiS9UAAAABHNCSVQICAgIfAhkiAAAAAlwSFlz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\n",
                "text/plain": "<Figure size 432x288 with 2 Axes>"
              },
              {
                "output_type": "display_data",
                "metadata": {
                  "tags": []
                },
                "image/png": "iVBORw0KGgoAAAANSUhEUgAAAVoAAAEFCAYAAACiiS9UAAAABHNCSVQICAgIfAhkiAAAAAlwSFlz\nAAALEgAACxIB0t1+/AAAADh0RVh0U29mdHdhcmUAbWF0cGxvdGxpYiB2ZXJzaW9uMy4yLjAsIGh0\ndHA6Ly9tYXRwbG90bGliLm9yZy8GearUAAATR0lEQVR4nO3df7Rdd1nn8fcn6S9sUh0tKNNUKCWI\npdaxgy0OKF2Lomkdmi5BaRmWokhmwLpmZEDrwAKmo44O/lh2WZG4rCJgK9B2VhYNVgapdSqlSant\n0EBLTCtNqZYfpfQX+XHvM3+cE3p6yb1nn+R8c865eb+y9srZe3/vdz+3K33Ws5793fukqpAktbNi\n0gFI0nJnopWkxky0ktSYiVaSGjPRSlJjJlpJasxEK0mNmWg1VJJHBrb5JI8P7P+Hhtd9X5L7k3wt\nyV1Jfr7VtaSW4gMLGkWSe4Cfr6r/s59zR1TV3jFe63nA9qraleS5wPXAj1fVLeO6hnQoWNHqgCU5\nK8nOJL+S5J+BP02yIsnFSf4xyZeTfCDJtw/8zAuS/H2Srya5LclZi81fVXdU1a59u/3t5Ka/lNSA\niVYH67uAbweeAWwAfhE4H3gx8K+BB4HLAJKcAFwL/Fr/Z94EXJXkqYtNnuQPkzwGfBa4H9jc7DeR\nGjHR6mDNA2+vql1V9Tjwn4C3VNXOfjX6DuAVSY4AXg1srqrNVTVfVR8FtgLnLjZ5Vb0BWA38MHA1\nsGuxsdK0MtHqYH2xqr4+sP8M4Jp+a+CrwGeAOeA7++d+ct+5/vkXAU9f6gJVNVdV/xdYA7y+yW8h\nNXTEpAPQzFt4N/Ve4Oeq6saFA5PcC7y3ql53gNc6Anu0mkFWtBq3PwJ+PckzAJI8Ncn6/rn3AS9L\n8mNJViY5pn9Dbc3CSZI8LckFSVb1x/4YcCHwsUP2m0hjYqLVuP0+sAn46yQPAzcBZwJU1b3AeuC/\nAV+kV/2+mf3/Oyx6bYKd9G6o/TbwX6pqU+tfQBo319FKUmNWtJLUmIlWkgYkuTzJA0k+vcj5JLk0\nyfYktyc5fdicJlpJerI/A9Ytcf4cYG1/2wC8a9iEJlpJGlBVNwBfWWLIeuDPq+cm4NuSLLkWvMk6\n2p955su/6Q7bm7J75Hke3XXkWOLRaJ53/uOTDmHZ+OjV/+obn68++utLjDx8ve+frs7BzrHnSzs6\n39U/6qkn/0d6leg+G6tq4wiXO4Heipl9dvaP3b/YD/jAgqTDSj+pjpJYD5qJVtLsm587lFe7Dzhx\nYH9N/9ii7NFKmn1ze7tvB28T8NP91QcvAB6qqkXbBmBFK2kZqJof21xJrgDOAo5PshN4O3Bk7zr1\nR/Re1XkusB14DPjZYXOaaCXNvvnxJdqqunDI+QJ+YZQ5TbSSZt8YK9oWTLSSZt+hvRk2MhOtpNln\nRStJbdV4VhM0Y6KVNPvGeDOsBROtpNln60CSGvNmmCQ1ZkUrSY15M0ySGvNmmCS1VWWPVpLaskcr\nSY3ZOjhwxx69x6+zkTScFe2BM8lK6mRuz6QjWNJUJ1pJ6sTWgSQ1ZutAkhqzopWkxky0ktRWeTNM\nkhqzRytJjdk6kKTGrGglqTErWklqzIpWkhrb64u/D5gvlZHUiRXtgTPJSurEHq0kNWZFK0mNWdFK\nUmNWtJLUmKsOJKmxqklHsCQTraTZZ49Wkhqb8kS7YtIBSNJBq/nu2xBJ1iW5M8n2JBfv5/x3J/l4\nkluT3J7k3GFzWtFKmn1zc2OZJslK4DLgpcBOYEuSTVW1bWDYW4EPVNW7kpwCbAaeudS8JlpJs298\nrYMzgO1VtQMgyZXAemAw0RZwXP/ztwJfGDapiVbS7Bsh0SbZAGwYOLSxqjb2P58A3Dtwbidw5oIp\n3gH8dZJfBI4Fzh52TROtpNk3wgML/aS6cejAxV0I/FlV/U6SHwLem+TUqsWDMNFKmnk1P7Z1tPcB\nJw7sr+kfG/RaYB1AVX0iyTHA8cADi03qqgNJs29+vvu2tC3A2iQnJTkKuADYtGDM54GXACT5XuAY\n4ItLTWpFK2n2jWnVQVXtTXIRcB2wEri8qu5Icgmwtao2Af8V+OMkv0TvxthrqpZ+NM1EK2n2jfGB\nharaTG/J1uCxtw183ga8cJQ5TbSSZt+UPxlmopU0+3ypjCQ1ZkUrSY2Nb3lXEyZaqaEfevb9T3ye\nYBzL3phWHbRiopU088rWgSQ1ZutAkhrzyxklqTErWklqbK83wySpLVsHktSYrQNJasvlXZLUmhWt\nJDVmopWkxnwEV5LaGuN3hjVhopU0+0y0ktSYqw4O3LFH7+HRXUdOOgxJ086K9sCZZCV1YqKVpLZq\nztaBZsxNVx036RCWjVPXfn3SIRwerGglqS2Xd0lSayZaSWpsulu0JlpJs6/2TnemNdFKmn3TnWdN\ntJJmnzfDJKk1K1pJasuKVpJam/KKdsWkA1jKsUfvmXQIh6XVK/3vPi6f/tzTJh3CYaH2dt8mYaor\nWl8qMxkPz/nffVxOXfvApEM4LEz5t41Pd0UrSZ3Mj7ANkWRdkjuTbE9y8SJjfirJtiR3JPmLYXNO\ndUUrSV2Mq6JNshK4DHgpsBPYkmRTVW0bGLMW+FXghVX1YJKh/SErWkkzr+a7b0OcAWyvqh1VtRu4\nEli/YMzrgMuq6kGAqhraHzLRSpp5NZfOW5INSbYObBsGpjoBuHdgf2f/2KDnAM9JcmOSm5KsGxaf\nrQNJM2+U1kFVbQQ2HsTljgDWAmcBa4AbknxfVX11qR+Q1MiD93/LpEOYek8fwxw1nzHMAsB9wIkD\n+2v6xwbtBD5ZVXuAu5PcRS/xbllsUlsHkmbeGHu0W4C1SU5KchRwAbBpwZj/Ta+aJcnx9FoJO5aa\n1IpW0syrGk9FW1V7k1wEXAesBC6vqjuSXAJsrapN/XM/mmQbMAe8uaq+vNS8JlpJM2+cDyxU1WZg\n84Jjbxv4XMAb+1snnVoHSZ6T5GNJPt3fPy3JW7teRJJamp9L520SuvZo/5jeAt09AFV1O73ehSRN\nXM2n8zYJXVsH31JVNydPCnJCr2eQpCebVALtqmui/VKSk4ECSPIK4P5mUUnSCGq6X0fbOdH+Ar0F\nvs9Nch9wN/DqZlFJ0giWRUVbVTuAs5McC6yoqofbhiVJ3Y1reVcrSybaJPtdvrCvV1tVv9sgJkka\nydyEVhN0NayiXd3/+3uAH+SJJyReBtzcKihJGsVMV7RV9d8BktwAnL6vZZDkHcC1zaOTpA6WRY8W\n+E5g98D+7v4xSZq45bLq4M+Bm5Nc098/H3hPm5AkaTTLoqKtql9P8hHgh/uHfraqbm0XliR1Nzc/\n3S8i7JRok3w38CXgmsFjVfX5VoFJUlfLpXVwLf2nwoCnACcBdwLPaxGUJI1ifpZXHexTVd83uJ/k\ndOANTSKSpBHN9PKuxVTVp5KcOe5gJOlALIvWwYInxFYApwNfaBKRJI1oWbQOeOIJMei9HvFa4Krx\nhyNJo1sWqw6AbVX1wcEDSX4S+OAi4yXpkJnyzkHnb1j41Y7HJOmQm6903iZh2Nu7zgHOBU5IcunA\nqePwGxYkTYlZX3XwBWArcB5wy8Dxh4FfahWUJI1ijF+C28Swt3fdBtyW5P1VZQUraSoVM1zRJvlA\nVf0UcGuSb+o3V9VpzSKTpI72znjr4D/3//73rQORpAM17RXtkqsOqmrfN92+oar+aXDDR3AlTYn5\nEbZJ6Lq866X7OXbOOAPZn2OP3tP6EpKWgSKdt0kY1qN9Pb3K9VlJbh84tRq4sWVgAI/uOrL1JSQt\nAzO96gD4C+AjwP8ELh44/nBVfaVZVJI0grkp79EOW971EPAQcCFAkqcBxwCrkqzyxd+SpsGUf5NN\ntx5tkpcl+RxwN/C3wD30Kl1Jmrh50nmbhK43w34NeAFwV1WdBLwEuKlZVJI0ghphm4SuiXZPVX0Z\nWJFkRVV9HHh+w7gkqbNpX97V9TWJX02yCrgBeH+SB4BH24UlSd3NZ7qbtF0r2vXA4/ReJPNXwD8C\nL2sVlCSNYm6EbRI6JdqqerSq5qpqb1W9p6ou7bcSJGni5tN9GybJuiR3Jtme5OIlxr08SSUZ2kYd\n9sDCw+y/fxygquq4oVFLUmPjWk2QZCVwGb2nYXcCW5JsqqptC8atpvcumE92mXfYuw5WV9Vx+9lW\nm2QlTYsxrjo4A9heVTuqajdwJb3W6UL/A/gt4Otd4pvubzSTpA5GaR0k2ZBk68C2YWCqE4B7B/Z3\n9o99Q5LTgROr6tqu8XVddSBJU2uUZVtVtRHYeCDXSbIC+F3gNaP8nIlW3+RFv3Hi2OZ67OotY5tr\nFv3LZ1dNOoTDwtz4VnfdBwz+D7Cmf2yf1cCpwPXpLSn7LmBTkvOqautik5poJc28MT6IsAVYm+Qk\negn2AuBV+0723/9y/L79JNcDb1oqyYI9WknLwLieDOt/N+JFwHXAZ4APVNUdSS5Jct6BxmdFK2nm\njfMrw6pqM7B5wbG3LTL2rC5zmmglzbxZf/G3JE29ST1a25WJVtLMm/YXf5toJc08WweS1JiJVpIa\nm9Q3J3RlopUa+uU9k45gaaesaPNuqLe/7sgm8y7GHq0kNeaqA0lqbH7KmwcmWkkzz5thktTYdNez\nJlpJy4AVrSQ1tjfTXdOaaCXNvOlOsyZaScuArQNJaszlXZLU2HSnWROtpGXA1oEkNTY35TWtiVbS\nzLOilaTGyopWktqyopWkxlzeJUmNTXeaNdFKWgb2TnmqNdFKmnneDJOkxrwZJkmNWdFKUmNWtJLU\n2FxZ0UpSU66jlaTGpr1Hu2LSASzl2KP3TDoEaVnbNv+1SYcwFvMjbJMw1RXto7uOnHQI0rJ2yorj\nJh3CWEx762CqK1pJ6qJG+DNMknVJ7kyyPcnF+zn/xiTbktye5GNJnjFsThOtpJk3V9V5W0qSlcBl\nwDnAKcCFSU5ZMOxW4PlVdRrwIeB/DYvPRCtp5s1TnbchzgC2V9WOqtoNXAmsHxxQVR+vqsf6uzcB\na4ZNOtU92p/e8/lJh3BYuo1nTToEaSSj3ORKsgHYMHBoY1Vt7H8+Abh34NxO4Mwlpnst8JFh15zq\nRCtJXYyyvKufVDcOHThEklcDzwdePGysiVbSzBvjqoP7gBMH9tf0jz1JkrOBtwAvrqpdwyY10Uqa\neTW+R3C3AGuTnEQvwV4AvGpwQJIfAN4NrKuqB7pMaqKVNPPG9XXjVbU3yUXAdcBK4PKquiPJJcDW\nqtoEvBNYBXwwCcDnq+q8peY10UqaeeN8YKGqNgObFxx728Dns0ed00QraeaNsXXQhIlW0syb9kdw\nTbSSZt60v73LRCtp5vnib0lqzNaBJDVmopWkxlx1IEmNWdFKUmOuOpB02Pm7S3d3HrvuLQd/vbma\n1LeBdWOilTTz7NFKUmP2aCWpMXu0ktTYvK0DSWrLilaSGnPVgSQ1ZutAkhqzdSBJjVnRSlJjVrSS\n1NhczU06hCWZaCXNPB/BlaTGfARXkhqzopWkxlx1IEmNTfuqgxWTDmApV616+qRDkDQD5mq+8zYJ\nU13RvvyR+ycdgqQZYI9WkhqzRytJjVnRSlJjrqOVpMasaCWpMV/8LUmNeTNMkhqb9tbBVD+wIEld\n1Ah/hkmyLsmdSbYnuXg/549O8pf9859M8sxhc5poJc28quq8LSXJSuAy4BzgFODCJKcsGPZa4MGq\nejbwe8BvDYvPRCtp5s1Xdd6GOAPYXlU7qmo3cCWwfsGY9cB7+p8/BLwkSZaatEmP9j33XLXkRbu6\naxyTaKKe8tpJRzBZH550AIeJvbvv65xzkmwANgwc2lhVG/ufTwDuHTi3EzhzwRTfGFNVe5M8BHwH\n8KXFrunNMEmHlX5S3Th04BjZOpCkJ9wHnDiwv6Z/bL9jkhwBfCvw5aUmNdFK0hO2AGuTnJTkKOAC\nYNOCMZuAn+l/fgXwNzXkLputA0nq6/dcLwKuA1YCl1fVHUkuAbZW1SbgT4D3JtkOfIVeMl5Spn2h\nrw6tJI9U1aoxz3kecEpV/WaS84G7qmrbiHNcD7ypqraOMzbpULB1oOaqalNV/WZ/93x66xOlw4aJ\nVvuVnncm+XSS/5fklf3jZyW5PsmHknw2yfv3rSFMcm7/2C1JLk3y4f7x1yT5gyT/DjgPeGeSf0hy\ncn+u5/fHHZ/knv7npyS5MslnklwDPGUgth9N8okkn0rywSRjrcClcbNHq8X8BPBvgO8Hjge2JLmh\nf+4HgOcBXwBuBF6YZCvwbuBHquruJFcsnLCq/j7JJuDDVfUhgCXWeb8eeKyqvjfJacCn+uOPB94K\nnF1Vjyb5FeCNwCXj+KWlFky0WsyLgCuqag74lyR/C/wg8DXg5qraCZDkH4BnAo8AO6rq7v7PX8GT\nF4WP6keASwGq6vYkt/ePv4Be6+HGfpI+CvjEQVxHas5EqwOxa+DzHAf372gvT7SwjukwPsBHq+rC\ng7imdEjZo9Vi/g54ZZKVSZ5Kr8K8eYnxdwLPGniT0SsXGfcwsHpg/x7g3/Y/v2Lg+A3AqwCSnAqc\n1j9+E71WxbP7545N8pwOv480MSZaLeYa4HbgNuBvgF+uqn9ebHBVPQ68AfirJLfQS6gP7WfolcCb\nk9ya5GTgt4HXJ7mVXi94n3cBq5J8hl7/9Zb+db4IvAa4ot9O+ATw3IP5RaXWXEersUmyqqoe6a9C\nuAz4XFX93qTjkibNilbj9Lr+zbE76D3//e4JxyNNBStaSWrMilaSGjPRSlJjJlpJasxEK0mNmWgl\nqbH/D2fICeHa+hDpAAAAAElFTkSuQmCC\n",
                "text/plain": "<Figure size 432x288 with 2 Axes>"
              },
              {
                "output_type": "display_data",
                "metadata": {
                  "tags": []
                },
                "image/png": "iVBORw0KGgoAAAANSUhEUgAAAVoAAAEFCAYAAACiiS9UAAAABHNCSVQICAgIfAhkiAAAAAlwSFlz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\ngg==\n",
                "text/plain": "<Figure size 432x288 with 2 Axes>"
              },
              {
                "output_type": "display_data",
                "metadata": {
                  "tags": []
                },
                "image/png": "iVBORw0KGgoAAAANSUhEUgAAAVoAAAEFCAYAAACiiS9UAAAABHNCSVQICAgIfAhkiAAAAAlwSFlz\nAAALEgAACxIB0t1+/AAAADh0RVh0U29mdHdhcmUAbWF0cGxvdGxpYiB2ZXJzaW9uMy4yLjAsIGh0\ndHA6Ly9tYXRwbG90bGliLm9yZy8GearUAAAcNklEQVR4nO3deZxdZZ3n8c+3KmRP2CIICRBEaDZR\nUAFFhR6jDcjmtN0souCgUWh6fLUrKO0g6riAOjLwUmLLC20VGnCwMxCEVll6WBNAEAJoDEsSCCGQ\nQBICSVX95o/zVOrkpu6Wuif33KrvO6/zylme+5zn3OVXz/2d55yriMDMzIrT1e4GmJkNdw60ZmYF\nc6A1MyuYA62ZWcEcaM3MCuZAa2ZWMAfaJkg6QtLiGtuvkPT1Ava7o6TbJa2S9N1W199JJO0qabWk\n7hplQtIbt2S7WknSk5JmFFT3rZI+XkTdVl2pAm16g61NH6T+6ZJ2t6sEZgLLgckR8dlqhSSNlvRo\nnT8GNf9YlF1EPB0REyOiFxw4apF0vqSfF7yPj6Y/bH4NahjV7gYM4tiI+G27G1EyuwHzo/7VJZ8H\nngcmDWVnkkZFRM9Q6rDhT9K2wJeAR9rdlrIrVY+2FkmnS/p/ki6StELSE5KOqti+MH29fkLSh3Pb\n/lvq6a2QdJOk3XLbQtJZkv6cHvs1SXtIulPSy5KuljS6oi1fkrQ89cA/TBWSjpH0B0krU30H1Cj7\nTklzJb2U/n9nWn8FcBrwhdTDH/QrpaTdgVOBb9bYxwTgRmDn3DeGnVPP51pJP5f0MnC6pK0l/UTS\ns5KWSPp6/ut6tedUme9LWpaevz9K2r9am3L1fVXS/07zW0laI+nCtDxO0quStpM0Pb1moyR9A3g3\ncMkg335mpNd0paRLJanKfs+XdE069lWpvXtJOjcdwyJJ78+V/1g67lXp/fbJ3LYvSrpH0qi0fKak\nRySNrXPsH5H0lKQXJH25YluXpHMk/SVtv1rSdmlb/3MxU9Iz6bX6XNp2JFkQPDE9Nw/mqt1N0h3p\nGG6WNKXe61PFN4GLyb5tWS0RUZoJeBKYUWXb6cB64BNAN3Am8AwgYALwMvBXqexOwH5p/nhgAbAP\nWQ/+PODOXL0B/DswGdgPeA34HfAGYGtgPnBaKnsE0AN8DxgDHA6sye33CuDraf5AYBlwSGrvaen4\nxgxybNsBK4CPpDaenJa3r6y3xnN3PfDB1MbFNcptsh04Pz23J5D98R0HXAdclp7bHYB7gU/We06B\nvwHuA7ZJr80+wE4NvPb/Bfhjmn8n8Bfgnty2B9P89PSajUrLtwIfr6gr0vOxDbArWS//yCr7PR94\nNbV7FPAz4Angy8BWZO+3J3LlPwDskY7tcOAV4KC0rQu4PdW5Z3oND6xz3PsCq4H3pPfU99J7bEba\n/mngbmBa2n4ZcGXFc3Flep3elI51Ru7Yfl6xv1vTc7tXep1vBb6V276yxnROrtzBwLx0zJu8Bp4q\nXud2N6DiTfBketPlX9xPpG2nAwtyZcenN9nr05tsJfC3wLiKOm8Ezsgtd6UPx25pOYDDctvvA76Y\nW/4u8L/S/BHpQzAht/1q4J/T/BUMBNofAl+raMvjwOGDHPdHgHsr1t0FnF5Zb5Xn7YPAjbk2bk6g\nvT23vCPZH5xxuXUnA7fUe07JguKfgEOBriZe+3FkAW974Byy3thiYCLwVeDiVG46jQXad1W8RudU\n2e/5wH/klo9N78HutDwp1bdNlcf/Gvh0bnk68CLwKHBuA8f9FeCq3PIEYB0DwfJR4L257TuR/VEc\nlXsu9s5t/w7wk9yxDRZoz8stnwX8psnPaTdZkD202mvgaeOpjKmDEyJim9z049y2pf0zEfFKmp0Y\nEWuAE4FPAc9KukHS3mn7bsAP0lfIlWQfAgFTc/U+l5tfO8jyxNzyirS/fk8BOw9yHLsBn+3fb9r3\nLlXK7pzqyXuqoo2DSumA7wD/vV7ZOhbl5ncj6809m2v7ZWQ92/7tgz6nEfF74BLgUmCZpFmSJtfb\neUSsJfvwHk7Wu7sNuBM4LK27rcnjWZqbf4WNX8NKla/38kgn29Iy/Y+XdJSkuyW9mI79aGDDV++I\neBK4hSwIXtpAO3cm99yn99YLue27AdflnutHgV6yP4b98q9dtfdjXjPPzWDOAh6KiLubfNyIVcZA\nu1ki4qaIeB/ZX/zHgP4AvYjsK28+eI+LiDs3c1fbpuDWb1eyFEalRcA3KvY7PiKuHKTsM2QfqLxd\ngSUNtGdPsg/1f0paCvwfYCdJSyVNH6R8tRNq+fWLyHq0U3JtnxwR++W2V31OI+LiiHgr2dfivchO\n0jXiNrIe8YHA3LT8N2RfU29voN2FkjQG+BVwEbBjRGwDzCH7I9Nf5gPAO8jSTxc2UO2zZH+A+x8/\nnqxX328RcFTFcz02IvLvjV1y8/n3Y9PPjTYe8VM5fSkVey/wwfQeW0qW6vmuPEKoqmERaJWNMz0+\nBcDXyL769aXNPwLOlbRfKru1pL8b4i6/qmwo1buBY4BrBinzY+BTkg5JJ4gmSPqApMFGBMwB9pJ0\nSjrJcyJZkLq+gbY8TPZBe0uaPk7WQ3sLG/d0+j0HbC9p62oVRsSzwM1kH57J6YTMHpIOT0WqPqeS\n3p6OeSuy/PWrpNdC2QnLJ2scy23AR8lGWKwjfSUly5E+X+Uxz5Hl07eE0WR50ueBHmUnY/MnyqYA\n/0LW5tOAYyUdXafOa4FjJL1L2UnXC9j4c/kj4BsaONn4OknHV9Txz5LGp9fjY8C/pfXPAdMlNfw5\nj2zoXLXpf6Zip5Pl3vvfc/PI0jtfHrxWK2Og/b8Vf0Wva+AxXcBnyP6Sv0j2VfNMgIi4Dvg2cJWy\nM+oPA0dVqacRS8lOcjwD/AL4VEQ8VlkoIuaRnUi5JJVfQPYG3UREvEAWsD9L9rXxC8AxEVH3bG5E\n9ETE0v6J7Pj70nLvIOUfIzt5sjB9Ha32NfOjZIFlfmr/tWTfFuo9p5PJ/sisIPsa+wIDPbtdgDtq\nHM6dZLna/t7rfLJAXa03C/AD4EPKRj9cXKPckEXEKrIUzdVkx3cKMDtXZBbw7xExJ72mZwD/Imn7\nTSobqPMR4B+AX5L1bleQ5ab7/SDt42ZJq8hOjB1SUc1tZO+v3wEXRcTNaX1/B+AFSfc3ebhVRcTK\nivfcOuDliHipVfsYbhThG3/bliHpZrITR4+2uy3DQUoNPQFsFR73XGplvGDBhqmIeH/9UmbDTxlT\nB2bDiqQPVzm55CuqSkjS5couVnm4ynZJuljSAkkPSTqobp1OHZiZDZD0HrIT6j+LiE2uakwnOP+R\nbGjfIcAPIqIyb74R92jNzHIi4nayk8rVHE8WhCONJd5G0k616iwkR/vr15+ySTf5rbs8N1jRDVav\nHLNh/sVV4wHoZdDL061g+79j2ZAe3zW+Ozc/sk8DPPXbgff1irU1b3mwWZ7uGqh/675NBpnw5mkD\nr+XLL45r+f5bYf+F1w/5g75++cKGv5qPft0enyS7I16/WRExq4ndTWXjoZOL07pnqz1gZH8KzGzE\nSUG1mcA6ZA60Ztb5BunNF2gJG1+NN406V3E6R2tmna+3p/Fp6GYDH02jDw4FXkpXU1blHq2ZdbyI\nvvqFGiTpSrK73E1R9msk/4PsJktExI/ILpk/muxqvFfILnuuyYHWzDpfX+sCbUScXGd7kF023TAH\nWjPrfC3s0RbBgdbMOt+WPRnWNAdaM+t87tGamRUrWjOaoDAOtGbW+Vp4MqwIDrRm1vmcOjAzK5hP\nhpmZFcw9WjOzgvlkmJlZwXwyzMysWIP84HOpONCaWedzjtbMrGBOHWy+bsI/Z2Nm9blHu/kcZM2s\nIb3r292CmkodaM3MGuLUgZlZwZw6MDMrmHu0ZmYFc6A1MytW+GSYmVnBnKM1MyuYUwdmZgVzj9bM\nrGDu0ZqZFcw9WjOzgvWU+8bfXe1uQC3dRLubYNbRHly8Q7ubsGVEX+NTG5S6R+ubypgNzZunLWt3\nE7YM52jNzArmHG1jxowdyLGMezW7yqO3r9SZDTMrC/dozcwK5h6tmVnBSj7qwIHWzDpflHuEkgOt\nmXU+52jNzApW8kDr0/pm1vlaeMGCpCMlPS5pgaRzBtm+q6RbJD0g6SFJR9er0z1aM+t8vb0tqUZS\nN3Ap8D5gMTBX0uyImJ8rdh5wdUT8UNK+wBxgeq16HWjNrPO1LnVwMLAgIhYCSLoKOB7IB9oAJqf5\nrYFn6lXqQGtmna+JQCtpJjAzt2pWRMxK81OBRblti4FDKqo4H7hZ0j8CE4AZ9fbpQGtmna+JCxZS\nUJ1Vt2B1JwNXRMR3Jb0D+FdJ+0dUb4QDrZl1vOhr2TjaJcAuueVpaV3eGcCRABFxl6SxwBSg6h18\nPOrAzDpfX1/jU21zgT0l7S5pNHASMLuizNPAewEk7QOMBZ6vVal7tGYF2naHNRvmR73YmjPjeetf\nHugrTR61bpPtE6cOXJo6avSaTbYPGy0adRARPZLOBm4CuoHLI+IRSRcA8yJiNvBZ4MeS/onsxNjp\nEbUvTXOgNbPO18ILFiJiDtmQrfy6r+Tm5wOHNVOnA62Zdb6SXxnmQGtmnc83lbGRpnflQL4s1pW7\np1G0V1eN2TC/Zu3olte/Wt0b5ifXKDfsuUdrZlaw1g3vKoQDrVmBJmy3btD5Vhn7zMCogu1ev+mo\ngjH7D/wK7qjlL7d8/6XRolEHRXGgNbOOF04dmJkVzKkDM7OC+ccZzcwK5h6tmVnBenwyzMysWE4d\nmJkVzKkDM7NieXiXmVnR3KM1MyuYA62ZWcF8Ca6ZWbFa+JthhXCgNbPO50BrZlYwjzrYfN1dffT2\n+Yd6zawO92g3n4OsmTXEgdbMrFjR69SBdZg1i4f2tujr1aDzI1FXd7l7WsOGe7RmZsUakcO7Fm+1\naW51+rIJNR/z2vqBpmzVXe7Bx8PdyuXjh/T4nt6B17+3b2T3aF+3w+p2N2FkGImB1sxsiyp3iraY\nQLtokB7p0rW1e0mvaKAXNL1701/zNDOrJnrKHWndozWzzlfuOOtAa9bJRo/p2TC/1YRNo80r9y7b\nML/m+dFbpE3NmtyCOkbkyTAzsy1qJPZoBxsz8Oyo2rvauuQDjs2svNyjNTMrWsn7aaW+mUB3V8mf\nvWHq1XVD+/s7qtuvW7/nl00stP4x43rqFxoBoqfxqR1K3aP1TWXaY+zoob0b8xcsjHRFX7Dw2tpS\nf4S3mJL/2ni5e7RmZg3pa2KqQ9KRkh6XtEDSOVXK/L2k+ZIekfTLenX6z6HZMLHosW3a3YTNMr0F\ndbSqRyupG7gUeB+wGJgraXZEzM+V2RM4FzgsIlZI2qFeve7RmlnHi77GpzoOBhZExMKIWAdcBRxf\nUeYTwKURsQIgIpZRhwOtmXW86FXDk6SZkublppm5qqYCi3LLi9O6vL2AvSTdIeluSUfWa59TB2bW\n8ZpJHUTELGDWEHY3CtgTOAKYBtwu6U0RsbLWA8ysIOtf7S60/p51A/Wv6y12X2UWrbsd5xJgl9zy\ntLQubzFwT0SsB56Q9CeywDu3WqVOHZhZx2thjnYusKek3SWNBk4CZleU+TVZbxZJU8hSCQtrVeoe\nrZl1vIjW9GgjokfS2cBNQDdweUQ8IukCYF5EzE7b3i9pPtkdBz4fES/UqteB1sw6XisvWIiIOcCc\ninVfyc0H8Jk0NaSh1IGkvST9TtLDafkASec1uhMzsyL19arhqR0azdH+mGyA7nqAiHiILHdhZtZ2\n0aeGp3ZoNHUwPiLulTZqpO9mYWal0K4A2qhGA+1ySXsAASDpQ8CzhbXKzKwJUe7b0TYcaP+BbIDv\n3pKWAE8ApxbWKjOzJgyLHm1ELARmSJoAdEXEqmKbZWbWuFYN7ypKzUAradDhC/252oj4XgFtMjNr\nSm+bRhM0ql6PdlL6/6+AtzNwhcSxwL1FNcrMrBkd3aONiK8CSLodOKg/ZSDpfOCGwltnZtaAYZGj\nBXYE1uWW16V1ZmZtN1xGHfwMuFfSdWn5BOCnxTTJzKw5w6JHGxHfkHQj8O606mMR8UBxzTIza1zZ\nf8i1oUAraVdgOXBdfl1EPF1Uw8zMGjVcUgc3kK4KA8YBuwOPA/sV0Sgzs2b0dfKog34R8ab8sqSD\ngLMKaZGZWZM6enhXNRFxv6RDWt0YM7PNMSxSBxVXiHUBBwHPFNIiM7MmDYvUAQNXiEF2e8QbgF+1\nvjlmZs0bFqMOgPkRcU1+haS/A66pUt7MtoCJ2766YX67qWva2JL2KnnmoOFfWDi3wXVmZltcX6jh\nqR3q3b3rKOBoYKqki3ObJuNfWDCzkuj0UQfPAPOA44D7cutXAf9UVKPMzJrRwh/BLUS9u3c9CDwo\n6RcR4R6smZVS0ME9WklXR8TfAw9I2iTfHBEHFNYyM7MG9XR46uDT6f9jim6ImdnmKnuPtuaog4jo\n/6XbsyLiqfyEL8E1s5Loa2Jqh0aHd71vkHVHtbIhg+nuKnuK28zKIFDDUzvUy9GeSdZzfYOkh3Kb\nJgF3FNkwKP/VHmZWDmXvktXL0f4SuBH4JnBObv2qiHixsFaZmTWht+Q52nrDu14CXgJOBpC0AzAW\nmChpom/8bWZlUPJfsmksRyvpWEl/Bp4AbgOeJOvpmpm1XR9qeGqHRm8q83XgUOC3EXGgpL8GTi2u\nWWbWrBXPjm9ZXRO3ea1ldW0Jw+WmMusj4gWgS1JXRNwCvK3AdpmZNazsw7sa7dGulDQRuB34haRl\nwMi9J5tZSbywbOKG+ZdeGz2kuiaPXrdhfvTa3iHVtaX1qdxJ2kZ7tMcDa8luJPMb4C/AsUU1ysys\nGb1NTO3QUKCNiDUR0RsRPRHx04i4OKUSzMzark+NT/VIOlLS45IWSDqnRrm/lRSS6qZR612wsIrB\n88wCIiIm1221mVnBWjWaQFI3cCnZ1bCLgbmSZkfE/Ipyk8juBXNPI/XWu9fBpIiYPMg0yUHWzMoi\nmpjqOBhYEBELI2IdcBVZ6rTS14BvA68Osm0TvsbVzDpeM6kDSTMlzctNM3NVTQUW5ZYXp3UbSDoI\n2CUibmi0fY2OOjAzK61mhm1FxCxg1ubsR1IX8D3g9GYe50Brm9jxDS8P6fF96wfyZS8/P3aozTGr\nq7d1o7uWALvklqeldf0mAfsDtyobUvZ6YLak4yJiXrVKHWjNrOO18EKEucCeknYnC7AnAaf0b0z3\nf5nSvyzpVuBztYIsONDaIMbtN2lIj+95dvWG+Yk9nXUpZ6u9snJoFxFYY1oVaCOiR9LZwE1AN3B5\nRDwi6QJgXkTM3px6HWjNrOO18ifDImIOMKdi3VeqlD2ikTodaM2s43X6jb/NzEqv7HdmcKA1s45X\n9ht/O9CaWcdz6sDMrGAOtGZmBSv7Lyw40JoV6OkXti60/pUa+Aiv2Kr5W5eM7xsIUa+u694wv/7F\n7sGKN2z3fbbsXVSdozUzK5hHHZiZFayv5MkDB1qzAs0fXewluH/qXr9h/sVo6NaoG5kwaiBFcMS6\ngbZ29241pHatXTG0xzfLJ8PMzApW7v6sA62ZDQPu0ZqZFaxH5e7TOtCaWccrd5h1oDWzYcCpAzPb\nIpb2rWn6MRM0MDrgmVFjNsxPKfvA1Aoe3mVmVrByh1kHWjMbBpw6MDMrWG/J+7QOtLaJUQe/eUiP\n1/1/3DC/dsmqoTbHrC73aM3MChbu0ZqZFcs9WjOzgnl4l5lZwcodZh1ozWwY6Cl5qHWgNbOO55Nh\nZmYF88kwM7OCuUdrZlYw92jNzArWG+7RmpkVyuNozcwKVvYcbVe7G1BLd1fZMy9mnW1NrK9fqAP0\nNTG1Q6l7tL19pf47YNbx8r+w0MnKnjpwJDOzjhdN/KtH0pGSHpe0QNI5g2z/jKT5kh6S9DtJu9Wr\n04HWzDpeb0TDUy2SuoFLgaOAfYGTJe1bUewB4G0RcQBwLfCdeu1zoDWzjtdHNDzVcTCwICIWRsQ6\n4Crg+HyBiLglIl5Ji3cD0+pVWsoc7S+7xwMwXy+1uSUj06/a3QCzJjVzkkvSTGBmbtWsiJiV5qcC\ni3LbFgOH1KjuDODGevssZaA1M2tGM8O7UlCdVbdgHZJOBd4GHF6vbGkC7d1jB56o+3qWA/DY6iXt\nas4Id2C7G2DWlBaOOlgC7JJbnpbWbUTSDODLwOER8Vq9SksTaM3MNle07hLcucCeknYnC7AnAafk\nC0g6ELgMODIiljVSqQOtmXW8Vv3ceET0SDobuAnoBi6PiEckXQDMi4jZwIXAROAaSQBPR8Rxtep1\noDWzjtfKCxYiYg4wp2LdV3LzM5qt04HWzDpeC1MHhXCgNbOOV/ZLcB1ozazjlf3uXQ60ZtbxfONv\nM7OCOXVgZlYwB1ozs4J51IGZWcHcozUzK5hHHZjZiLPsuUkNl6378wQN6I1y/76gA62ZdTznaM2s\nIyzP/er0A2OH9qON2/Y2/vi3D2lPGedozcwK5hytmVnB+pw6MDMrlnu0ZmYF86gDM7OCOXVgZlYw\npw7MzArmHq2ZWcHcozUzK1hv9La7CTU50JpZx/MluGZmBfMluGZmBXOP1sysYB51YGZWsLKPOuhq\ndwNq2Xvi1HY3wcw6QG/0NTy1Q6l7tI+tXtLuJphZB3CO1sysYM7RmpkVzD1aM7OCeRytmVnB3KM1\nMyuYb/xtZlYwnwwzMytY2VMHpb5gwcysEdHEv3okHSnpcUkLJJ0zyPYxkv4tbb9H0vR6dTrQmlnH\ni4iGp1okdQOXAkcB+wInS9q3otgZwIqIeCPwfeDb9drnQGtmHa8vouGpjoOBBRGxMCLWAVcBx1eU\nOR74aZq/FnivJNWqtJAc7UVPXllzpzbMnTowO7F9rSiFs9vdgBGiZ92ShmOOpJnAzNyqWRExK81P\nBRblti0GDqmoYkOZiOiR9BKwPbC82j59MszMRpQUVGfVLdhCTh2YmQ1YAuySW56W1g1aRtIoYGvg\nhVqVOtCamQ2YC+wpaXdJo4GTgNkVZWYDp6X5DwG/jzpn2Zw6MDNLUs71bOAmoBu4PCIekXQBMC8i\nZgM/Af5V0gLgRbJgXJPKPtDXtixJqyOipeewJB0H7BsR35J0AvCniJjfZB23Ap+LiHmtbJvZluDU\ngRUuImZHxLfS4glk4xPNRgwHWhuUMhdKeljSHyWdmNYfIelWSddKekzSL/rHEEo6Oq27T9LFkq5P\n60+XdImkdwLHARdK+oOkPVJdb0vlpkh6Ms2Pk3SVpEclXQeMy7Xt/ZLuknS/pGskjfRRZFZyztFa\nNf8VeAvwZmAKMFfS7WnbgcB+wDPAHcBhkuYBlwHviYgnJF1ZWWFE3ClpNnB9RFwLUGOc95nAKxGx\nj6QDgPtT+SnAecCMiFgj6YvAZ4ALWnHQZkVwoLVq3gVcGRG9wHOSbgPeDrwM3BsRiwEk/QGYDqwG\nFkbEE+nxV7LxoPBmvQe4GCAiHpL0UFp/KFnq4Y4UpEcDdw1hP2aFc6C1zfFabr6Xob2PehhIYY1t\noLyA/4iIk4ewT7Mtyjlaq+Y/gRMldUt6HVkP894a5R8H3pC7k9GJVcqtAibllp8E3prmP5Rbfztw\nCoCk/YED0vq7yVIVb0zbJkjaq4HjMWsbB1qr5jrgIeBB4PfAFyJiabXCEbEWOAv4jaT7yALqS4MU\nvQr4vKQHJO0BXAScKekBslxwvx8CEyU9SpZ/vS/t53ngdODKlE64C9h7KAdqVjSPo7WWkTQxIlan\nUQiXAn+OiO+3u11m7eYerbXSJ9LJsUfIrv++rM3tMSsF92jNzArmHq2ZWcEcaM3MCuZAa2ZWMAda\nM7OCOdCamRXs/wO92roAxUYJFAAAAABJRU5ErkJggg==\n",
                "text/plain": "<Figure size 432x288 with 2 Axes>"
              }
            ],
            "_view_module": "@jupyter-widgets/output",
            "_model_module_version": "1.0.0",
            "_view_count": null,
            "_view_module_version": "1.0.0",
            "layout": "IPY_MODEL_840eaad0941f4e5dbb4a8137c62ce556",
            "_model_module": "@jupyter-widgets/output"
          }
        },
        "be27cd5dd0fa46329ae07f658cd728ec": {
          "model_module": "@jupyter-widgets/controls",
          "model_name": "SliderStyleModel",
          "state": {
            "_view_name": "StyleView",
            "handle_color": null,
            "_model_name": "SliderStyleModel",
            "description_width": "",
            "_view_module": "@jupyter-widgets/base",
            "_model_module_version": "1.5.0",
            "_view_count": null,
            "_view_module_version": "1.2.0",
            "_model_module": "@jupyter-widgets/controls"
          }
        },
        "5479afb84de84761b190677a86a466e0": {
          "model_module": "@jupyter-widgets/base",
          "model_name": "LayoutModel",
          "state": {
            "_view_name": "LayoutView",
            "grid_template_rows": null,
            "right": null,
            "justify_content": null,
            "_view_module": "@jupyter-widgets/base",
            "overflow": null,
            "_model_module_version": "1.2.0",
            "_view_count": null,
            "flex_flow": null,
            "width": null,
            "min_width": null,
            "border": null,
            "align_items": null,
            "bottom": null,
            "_model_module": "@jupyter-widgets/base",
            "top": null,
            "grid_column": null,
            "overflow_y": null,
            "overflow_x": null,
            "grid_auto_flow": null,
            "grid_area": null,
            "grid_template_columns": null,
            "flex": null,
            "_model_name": "LayoutModel",
            "justify_items": null,
            "grid_row": null,
            "max_height": null,
            "align_content": null,
            "visibility": null,
            "align_self": null,
            "height": null,
            "min_height": null,
            "padding": null,
            "grid_auto_rows": null,
            "grid_gap": null,
            "max_width": null,
            "order": null,
            "_view_module_version": "1.2.0",
            "grid_template_areas": null,
            "object_position": null,
            "object_fit": null,
            "grid_auto_columns": null,
            "margin": null,
            "display": null,
            "left": null
          }
        },
        "8e900357f9c649d7ad9be3557aa2a357": {
          "model_module": "@jupyter-widgets/controls",
          "model_name": "SliderStyleModel",
          "state": {
            "_view_name": "StyleView",
            "handle_color": null,
            "_model_name": "SliderStyleModel",
            "description_width": "",
            "_view_module": "@jupyter-widgets/base",
            "_model_module_version": "1.5.0",
            "_view_count": null,
            "_view_module_version": "1.2.0",
            "_model_module": "@jupyter-widgets/controls"
          }
        },
        "97ca8f1c00764d6fb20a470e1bf8889f": {
          "model_module": "@jupyter-widgets/base",
          "model_name": "LayoutModel",
          "state": {
            "_view_name": "LayoutView",
            "grid_template_rows": null,
            "right": null,
            "justify_content": null,
            "_view_module": "@jupyter-widgets/base",
            "overflow": null,
            "_model_module_version": "1.2.0",
            "_view_count": null,
            "flex_flow": null,
            "width": null,
            "min_width": null,
            "border": null,
            "align_items": null,
            "bottom": null,
            "_model_module": "@jupyter-widgets/base",
            "top": null,
            "grid_column": null,
            "overflow_y": null,
            "overflow_x": null,
            "grid_auto_flow": null,
            "grid_area": null,
            "grid_template_columns": null,
            "flex": null,
            "_model_name": "LayoutModel",
            "justify_items": null,
            "grid_row": null,
            "max_height": null,
            "align_content": null,
            "visibility": null,
            "align_self": null,
            "height": null,
            "min_height": null,
            "padding": null,
            "grid_auto_rows": null,
            "grid_gap": null,
            "max_width": null,
            "order": null,
            "_view_module_version": "1.2.0",
            "grid_template_areas": null,
            "object_position": null,
            "object_fit": null,
            "grid_auto_columns": null,
            "margin": null,
            "display": null,
            "left": null
          }
        }
      }
    }
  },
  "cells": [
    {
      "cell_type": "markdown",
      "metadata": {
        "id": "view-in-github",
        "colab_type": "text"
      },
      "source": [
        "<a href=\"https://colab.research.google.com/github/masonnystrom/DS-Unit-2-Kaggle-Challenge/blob/master/module2-random-forests/LS_DS_222.ipynb\" target=\"_parent\"><img src=\"https://colab.research.google.com/assets/colab-badge.svg\" alt=\"Open In Colab\"/></a>"
      ]
    },
    {
      "cell_type": "markdown",
      "metadata": {
        "colab_type": "text",
        "id": "UEHyIgGaaSEJ"
      },
      "source": [
        "Lambda School Data Science\n",
        "\n",
        "*Unit 2, Sprint 2, Module 2*\n",
        "\n",
        "---"
      ]
    },
    {
      "cell_type": "markdown",
      "metadata": {
        "colab_type": "text",
        "id": "mRfPLX4WgLVJ"
      },
      "source": [
        "# Random Forests"
      ]
    },
    {
      "cell_type": "markdown",
      "metadata": {
        "colab_type": "text",
        "id": "jRRNhkxcgLVK"
      },
      "source": [
        "- use scikit-learn for **random forests**\n",
        "- do **ordinal encoding** with high-cardinality categoricals\n",
        "- understand how categorical encodings affect trees differently compared to linear models\n",
        "- understand how tree ensembles reduce overfitting compared to a single decision tree with unlimited depth"
      ]
    },
    {
      "cell_type": "markdown",
      "metadata": {
        "colab_type": "text",
        "id": "-3TH11e1gLVL"
      },
      "source": [
        "Today's lesson has two take-away messages:\n",
        "\n",
        "#### Try Tree Ensembles when you do machine learning with labeled, tabular data\n",
        "- \"Tree Ensembles\" means Random Forest or Gradient Boosting models. \n",
        "- [Tree Ensembles often have the best predictive accuracy](https://arxiv.org/abs/1708.05070) with labeled, tabular data.\n",
        "- Why? Because trees can fit non-linear, non-[monotonic](https://en.wikipedia.org/wiki/Monotonic_function) relationships, and [interactions](https://christophm.github.io/interpretable-ml-book/interaction.html) between features.\n",
        "- A single decision tree, grown to unlimited depth, will [overfit](http://www.r2d3.us/visual-intro-to-machine-learning-part-1/). We solve this problem by ensembling trees, with bagging (Random Forest) or boosting (Gradient Boosting).\n",
        "- Random Forest's advantage: may be less sensitive to hyperparameters. Gradient Boosting's advantage: may get better predictive accuracy.\n",
        "\n",
        "#### One-hot encoding isn’t the only way, and may not be the best way, of categorical encoding for tree ensembles.\n",
        "- For example, tree ensembles can work with arbitrary \"ordinal\" encoding! (Randomly assigning an integer to each category.) Compared to one-hot encoding, the dimensionality will be lower, and the predictive accuracy may be just as good or even better.\n"
      ]
    },
    {
      "cell_type": "markdown",
      "metadata": {
        "colab_type": "text",
        "id": "r5PbOFEuFfGF"
      },
      "source": [
        "### Setup\n",
        "\n",
        "Run the code cell below. You can work locally (follow the [local setup instructions](https://lambdaschool.github.io/ds/unit2/local/)) or on Colab.\n",
        "\n",
        "Libraries\n",
        "\n",
        "- **category_encoders** \n",
        "- **graphviz**\n",
        "- ipywidgets\n",
        "- matplotlib\n",
        "- numpy\n",
        "- pandas\n",
        "- seaborn\n",
        "- scikit-learn"
      ]
    },
    {
      "cell_type": "code",
      "metadata": {
        "colab_type": "code",
        "id": "FStAplyRFoEu",
        "colab": {}
      },
      "source": [
        "%%capture\n",
        "import sys\n",
        "\n",
        "# If you're on Colab:\n",
        "if 'google.colab' in sys.modules:\n",
        "    DATA_PATH = 'https://raw.githubusercontent.com/LambdaSchool/DS-Unit-2-Kaggle-Challenge/master/data/'\n",
        "    !pip install category_encoders==2.*\n",
        "\n",
        "# If you're working locally:\n",
        "else:\n",
        "    DATA_PATH = '../data/'"
      ],
      "execution_count": 0,
      "outputs": []
    },
    {
      "cell_type": "markdown",
      "metadata": {
        "colab_type": "text",
        "id": "ZL-yK8B7gLVW"
      },
      "source": [
        "# Use scikit-learn for random forests"
      ]
    },
    {
      "cell_type": "markdown",
      "metadata": {
        "id": "POfXz2jwNitF",
        "colab_type": "text"
      },
      "source": [
        "## Overview\n",
        "\n",
        "Let's fit a Random Forest!\n",
        "\n",
        "![](https://pbs.twimg.com/media/EGSvKA0UUAEzUZi?format=png)\n",
        "\n",
        "[Chris Albon, MachineLearningFlashcards.com](https://twitter.com/chrisalbon/status/1181261589887909889)"
      ]
    },
    {
      "cell_type": "markdown",
      "metadata": {
        "colab_type": "text",
        "id": "gHFxMCPSgLVM"
      },
      "source": [
        "### Solution example\n",
        "\n",
        "First, read & wrangle the data.\n",
        "\n",
        "> Define a function to wrangle train, validate, and test sets in the same way. Clean outliers and engineer features. (For example, [what other columns have zeros and shouldn't?](https://github.com/Quartz/bad-data-guide#zeros-replace-missing-values) What other columns are duplicates, or nearly duplicates? Can you extract the year from date_recorded? Can you engineer new features, such as the number of years from waterpump construction to waterpump inspection?)"
      ]
    },
    {
      "cell_type": "code",
      "metadata": {
        "colab_type": "code",
        "id": "YTLm-rDagLVM",
        "colab": {}
      },
      "source": [
        "import numpy as np\n",
        "import pandas as pd\n",
        "from sklearn.model_selection import train_test_split\n",
        "\n",
        "# Merge train_features.csv & train_labels.csv\n",
        "train = pd.merge(pd.read_csv(DATA_PATH+'waterpumps/train_features.csv'), \n",
        "                 pd.read_csv(DATA_PATH+'waterpumps/train_labels.csv'))\n",
        "\n",
        "# Read test_features.csv & sample_submission.csv\n",
        "test = pd.read_csv(DATA_PATH+'waterpumps/test_features.csv')\n",
        "sample_submission = pd.read_csv(DATA_PATH+'waterpumps/sample_submission.csv')\n",
        "\n",
        "# Split train into train & val\n",
        "train, val = train_test_split(train, train_size=0.80, test_size=0.20, \n",
        "                              stratify=train['status_group'], random_state=42)\n",
        "\n",
        "\n",
        "def wrangle(X):\n",
        "    \"\"\"Wrangle train, validate, and test sets in the same way\"\"\"\n",
        "    \n",
        "    # Prevent SettingWithCopyWarning\n",
        "    X = X.copy()\n",
        "    \n",
        "    # About 3% of the time, latitude has small values near zero,\n",
        "    # outside Tanzania, so we'll treat these values like zero.\n",
        "    X['latitude'] = X['latitude'].replace(-2e-08, 0)\n",
        "    \n",
        "    # When columns have zeros and shouldn't, they are like null values.\n",
        "    # So we will replace the zeros with nulls, and impute missing values later.\n",
        "    # Also create a \"missing indicator\" column, because the fact that\n",
        "    # values are missing may be a predictive signal.\n",
        "    cols_with_zeros = ['longitude', 'latitude', 'construction_year', \n",
        "                       'gps_height', 'population']\n",
        "    for col in cols_with_zeros:\n",
        "        X[col] = X[col].replace(0, np.nan)\n",
        "        X[col+'_MISSING'] = X[col].isnull()\n",
        "            \n",
        "    # Drop duplicate columns\n",
        "    duplicates = ['quantity_group', 'payment_type']\n",
        "    X = X.drop(columns=duplicates)\n",
        "    \n",
        "    # Drop recorded_by (never varies) and id (always varies, random)\n",
        "    unusable_variance = ['recorded_by', 'id']\n",
        "    X = X.drop(columns=unusable_variance)\n",
        "    \n",
        "    # Convert date_recorded to datetime\n",
        "    X['date_recorded'] = pd.to_datetime(X['date_recorded'], infer_datetime_format=True)\n",
        "    \n",
        "    # Extract components from date_recorded, then drop the original column\n",
        "    X['year_recorded'] = X['date_recorded'].dt.year\n",
        "    X['month_recorded'] = X['date_recorded'].dt.month\n",
        "    X['day_recorded'] = X['date_recorded'].dt.day\n",
        "    X = X.drop(columns='date_recorded')\n",
        "    \n",
        "    # Engineer feature: how many years from construction_year to date_recorded\n",
        "    X['years'] = X['year_recorded'] - X['construction_year']\n",
        "    X['years_MISSING'] = X['years'].isnull()\n",
        "    \n",
        "    # return the wrangled dataframe\n",
        "    return X\n",
        "\n",
        "train = wrangle(train)\n",
        "val = wrangle(val)\n",
        "test = wrangle(test)"
      ],
      "execution_count": 0,
      "outputs": []
    },
    {
      "cell_type": "code",
      "metadata": {
        "colab_type": "code",
        "id": "m2HppBvZgLVP",
        "colab": {}
      },
      "source": [
        "# The status_group column is the target\n",
        "target = 'status_group'\n",
        "\n",
        "# Get a dataframe with all train columns except the target\n",
        "train_features = train.drop(columns=[target])\n",
        "\n",
        "# Get a list of the numeric features\n",
        "numeric_features = train_features.select_dtypes(include='number').columns.tolist()\n",
        "\n",
        "# Get a series with the cardinality of the nonnumeric features\n",
        "cardinality = train_features.select_dtypes(exclude='number').nunique()\n",
        "\n",
        "# Get a list of all categorical features with cardinality <= 50\n",
        "categorical_features = cardinality[cardinality <= 50].index.tolist()\n",
        "\n",
        "# Combine the lists \n",
        "features = numeric_features + categorical_features"
      ],
      "execution_count": 0,
      "outputs": []
    },
    {
      "cell_type": "code",
      "metadata": {
        "colab_type": "code",
        "id": "aXmK2brXgLVR",
        "colab": {}
      },
      "source": [
        "# Arrange data into X features matrix and y target vector \n",
        "X_train = train[features]\n",
        "y_train = train[target]\n",
        "X_val = val[features]\n",
        "y_val = val[target]\n",
        "X_test = test[features]"
      ],
      "execution_count": 0,
      "outputs": []
    },
    {
      "cell_type": "markdown",
      "metadata": {
        "id": "veVHJkR7NitP",
        "colab_type": "text"
      },
      "source": [
        "## Follow Along\n",
        "\n",
        "[Scikit-Learn User Guide: Random Forests](https://scikit-learn.org/stable/modules/ensemble.html#random-forests) "
      ]
    },
    {
      "cell_type": "code",
      "metadata": {
        "colab_type": "code",
        "id": "57yyygsdgLVW",
        "outputId": "7e682a33-d29d-4f80-b2b2-f3cb9d28b405",
        "colab": {
          "base_uri": "https://localhost:8080/",
          "height": 68
        }
      },
      "source": [
        "# TODO\n",
        "%%time\n",
        "import category_encoders as ce\n",
        "from sklearn.ensemble import RandomForestClassifier\n",
        "from sklearn.impute import SimpleImputer\n",
        "from sklearn.pipeline import make_pipeline\n",
        "\n",
        "pipeline = make_pipeline(\n",
        "    ce.OneHotEncoder(use_cat_names=True),\n",
        "    SimpleImputer(strategy='mean'),\n",
        "    RandomForestClassifier(random_state=0, n_jobs=-1)\n",
        ")\n",
        "\n",
        "pipeline.fit(X_train, y_train)\n",
        "print('Validation Accuracy:', pipeline.score(X_val, y_val))"
      ],
      "execution_count": 9,
      "outputs": [
        {
          "output_type": "stream",
          "text": [
            "Validation Accuracy: 0.8081649831649832\n",
            "CPU times: user 23 s, sys: 358 ms, total: 23.4 s\n",
            "Wall time: 13.9 s\n"
          ],
          "name": "stdout"
        }
      ]
    },
    {
      "cell_type": "code",
      "metadata": {
        "id": "wfBPT_eaXFLS",
        "colab_type": "code",
        "colab": {
          "base_uri": "https://localhost:8080/",
          "height": 68
        },
        "outputId": "63cf86a2-467f-4c5c-ff36-b41b7c7c51fd"
      },
      "source": [
        "# TODO\n",
        "%%time\n",
        "import category_encoders as ce\n",
        "from sklearn.ensemble import RandomForestClassifier\n",
        "from sklearn.impute import SimpleImputer\n",
        "from sklearn.pipeline import make_pipeline\n",
        "\n",
        "pipeline = make_pipeline(\n",
        "    ce.OneHotEncoder(use_cat_names=True),\n",
        "    SimpleImputer(strategy='median'),\n",
        "    RandomForestClassifier(random_state=0, n_jobs=-1)\n",
        ")\n",
        "\n",
        "pipeline.fit(X_train, y_train)\n",
        "print('Validation Accuracy:', pipeline.score(X_val, y_val))"
      ],
      "execution_count": 11,
      "outputs": [
        {
          "output_type": "stream",
          "text": [
            "Validation Accuracy: 0.8088383838383838\n",
            "CPU times: user 24.6 s, sys: 189 ms, total: 24.8 s\n",
            "Wall time: 15 s\n"
          ],
          "name": "stdout"
        }
      ]
    },
    {
      "cell_type": "code",
      "metadata": {
        "id": "Q7_LRkcuXRRV",
        "colab_type": "code",
        "colab": {
          "base_uri": "https://localhost:8080/",
          "height": 34
        },
        "outputId": "0d204b6b-be05-4f86-8bd1-3f667368c7cd"
      },
      "source": [
        "%matplotlib inline\n",
        "import matplotlib.pyplot as plt\n",
        "\n",
        "#get encoded values\n",
        "encoder = pipeline.named_steps['onehotencoder']\n",
        "encoded = encoder.transform(X_train)\n",
        "print('X_train shape after encoding', encoded.shape)\n",
        "\n",
        "# get the feature importances\n",
        "rf = pipeline.named_steps['randomforestclassifier']\n",
        "importances = pd.Series(rf.feature_importances_, encoded.columns)"
      ],
      "execution_count": 21,
      "outputs": [
        {
          "output_type": "stream",
          "text": [
            "X_train shape after encoding (47520, 182)\n"
          ],
          "name": "stdout"
        }
      ]
    },
    {
      "cell_type": "code",
      "metadata": {
        "id": "HEAvSANEYJZZ",
        "colab_type": "code",
        "colab": {
          "base_uri": "https://localhost:8080/",
          "height": 627
        },
        "outputId": "3d7b0d54-0f65-417f-e7dc-8712e38b5b01"
      },
      "source": [
        "# plot top 20 \n",
        "n = 20\n",
        "plt.figure(figsize=(10, n/2))\n",
        "plt.title(f'Top {n} features')\n",
        "importances.sort_values()[-n:].plot.barh();\n"
      ],
      "execution_count": 24,
      "outputs": [
        {
          "output_type": "display_data",
          "data": {
            "image/png": "[encoded data removed]",
            "text/plain": [
              "<Figure size 720x720 with 1 Axes>"
            ]
          },
          "metadata": {
            "tags": []
          }
        }
      ]
    },
    {
      "cell_type": "markdown",
      "metadata": {
        "colab_type": "text",
        "id": "yfyk_aa5gLVY"
      },
      "source": [
        "# Do ordinal encoding with high-cardinality categoricals"
      ]
    },
    {
      "cell_type": "markdown",
      "metadata": {
        "id": "bxMdtBwzNitT",
        "colab_type": "text"
      },
      "source": [
        "## Overview\n",
        "\n",
        "http://contrib.scikit-learn.org/categorical-encoding/ordinal.html"
      ]
    },
    {
      "cell_type": "markdown",
      "metadata": {
        "id": "t7wetnYrNitU",
        "colab_type": "text"
      },
      "source": [
        "## Follow Along"
      ]
    },
    {
      "cell_type": "code",
      "metadata": {
        "colab_type": "code",
        "id": "b8d_WJtcgLVZ",
        "colab": {}
      },
      "source": [
        "# TODO\n",
        "X_train = train.drop(columns=target)\n",
        "y_train = train[target]\n",
        "\n",
        "X_val = val.drop(columns=target)\n",
        "y_val = val[target]\n",
        "\n",
        "X_test = test"
      ],
      "execution_count": 0,
      "outputs": []
    },
    {
      "cell_type": "code",
      "metadata": {
        "id": "E37F7JFDbi7F",
        "colab_type": "code",
        "colab": {
          "base_uri": "https://localhost:8080/",
          "height": 241
        },
        "outputId": "d6c386b6-db68-455b-a4d3-31fdf0bf62a2"
      },
      "source": [
        "X_train.columns"
      ],
      "execution_count": 27,
      "outputs": [
        {
          "output_type": "execute_result",
          "data": {
            "text/plain": [
              "Index(['amount_tsh', 'funder', 'gps_height', 'installer', 'longitude',\n",
              "       'latitude', 'wpt_name', 'num_private', 'basin', 'subvillage', 'region',\n",
              "       'region_code', 'district_code', 'lga', 'ward', 'population',\n",
              "       'public_meeting', 'scheme_management', 'scheme_name', 'permit',\n",
              "       'construction_year', 'extraction_type', 'extraction_type_group',\n",
              "       'extraction_type_class', 'management', 'management_group', 'payment',\n",
              "       'water_quality', 'quality_group', 'quantity', 'source', 'source_type',\n",
              "       'source_class', 'waterpoint_type', 'waterpoint_type_group',\n",
              "       'longitude_MISSING', 'latitude_MISSING', 'construction_year_MISSING',\n",
              "       'gps_height_MISSING', 'population_MISSING', 'year_recorded',\n",
              "       'month_recorded', 'day_recorded', 'years', 'years_MISSING'],\n",
              "      dtype='object')"
            ]
          },
          "metadata": {
            "tags": []
          },
          "execution_count": 27
        }
      ]
    },
    {
      "cell_type": "code",
      "metadata": {
        "id": "F2R1uQMdbijg",
        "colab_type": "code",
        "colab": {
          "base_uri": "https://localhost:8080/",
          "height": 85
        },
        "outputId": "4a4c0003-f1ea-4dba-aa48-361ce7f0308f"
      },
      "source": [
        "%%time\n",
        "import category_encoders as ce\n",
        "from sklearn.ensemble import RandomForestClassifier\n",
        "from sklearn.impute import SimpleImputer\n",
        "from sklearn.pipeline import make_pipeline\n",
        "\n",
        "pipeline = make_pipeline(\n",
        "    ce.OrdinalEncoder(),\n",
        "    SimpleImputer(strategy='median'),\n",
        "    RandomForestClassifier(random_state=0, n_jobs=-1)\n",
        ")\n",
        "\n",
        "pipeline.fit(X_train, y_train)\n",
        "print('Train Accuracy:', pipeline.score(X_train, y_train))\n",
        "print('Validation Accuracy:', pipeline.score(X_val, y_val))"
      ],
      "execution_count": 49,
      "outputs": [
        {
          "output_type": "stream",
          "text": [
            "Train Accuracy: 0.9999579124579124\n",
            "Validation Accuracy: 0.8092592592592592\n",
            "CPU times: user 20.6 s, sys: 172 ms, total: 20.8 s\n",
            "Wall time: 11.6 s\n"
          ],
          "name": "stdout"
        }
      ]
    },
    {
      "cell_type": "markdown",
      "metadata": {
        "colab_type": "text",
        "id": "xs2UPoVdgLVp"
      },
      "source": [
        "# Understand how categorical encodings affect trees differently compared to linear models"
      ]
    },
    {
      "cell_type": "markdown",
      "metadata": {
        "id": "vjQfWQVdNita",
        "colab_type": "text"
      },
      "source": [
        "## Follow Along"
      ]
    },
    {
      "cell_type": "markdown",
      "metadata": {
        "colab_type": "text",
        "id": "z8V-A92mgLVp"
      },
      "source": [
        "### Categorical exploration, 1 feature at a time\n",
        "\n",
        "Change `feature`, then re-run these cells!"
      ]
    },
    {
      "cell_type": "code",
      "metadata": {
        "colab_type": "code",
        "id": "G35RAzVdgLVq",
        "colab": {}
      },
      "source": [
        "feature = 'extraction_type_class'"
      ],
      "execution_count": 0,
      "outputs": []
    },
    {
      "cell_type": "code",
      "metadata": {
        "colab_type": "code",
        "id": "OuxHWiH8gLVr",
        "outputId": "1b2b6e08-33f0-40be-f05e-889716398f83",
        "colab": {
          "base_uri": "https://localhost:8080/",
          "height": 153
        }
      },
      "source": [
        "X_train[feature].value_counts()"
      ],
      "execution_count": 29,
      "outputs": [
        {
          "output_type": "execute_result",
          "data": {
            "text/plain": [
              "gravity         21448\n",
              "handpump        13184\n",
              "other            5193\n",
              "submersible      4894\n",
              "motorpump        2355\n",
              "rope pump         353\n",
              "wind-powered       93\n",
              "Name: extraction_type_class, dtype: int64"
            ]
          },
          "metadata": {
            "tags": []
          },
          "execution_count": 29
        }
      ]
    },
    {
      "cell_type": "code",
      "metadata": {
        "colab_type": "code",
        "id": "pVxoC4NngLVt",
        "outputId": "a13dc531-2ed9-403c-9834-e0c128ebcf2c",
        "colab": {
          "base_uri": "https://localhost:8080/",
          "height": 572
        }
      },
      "source": [
        "import seaborn as sns\n",
        "plt.figure(figsize=(16,9))\n",
        "sns.barplot(\n",
        "    x=train[feature], \n",
        "    y=train['status_group']=='functional', \n",
        "    color='grey'\n",
        ");"
      ],
      "execution_count": 30,
      "outputs": [
        {
          "output_type": "display_data",
          "data": {
            "image/png": "[encoded data removed]",
            "text/plain": [
              "<Figure size 1152x648 with 1 Axes>"
            ]
          },
          "metadata": {
            "tags": []
          }
        }
      ]
    },
    {
      "cell_type": "code",
      "metadata": {
        "colab_type": "code",
        "id": "w99mek14gLVv",
        "outputId": "5c004bdb-b287-4c36-ef5b-17eee3ffe1aa",
        "colab": {
          "base_uri": "https://localhost:8080/",
          "height": 374
        }
      },
      "source": [
        "X_train[feature].head(20)"
      ],
      "execution_count": 31,
      "outputs": [
        {
          "output_type": "execute_result",
          "data": {
            "text/plain": [
              "43360        gravity\n",
              "7263         gravity\n",
              "2486        handpump\n",
              "313            other\n",
              "52726      motorpump\n",
              "8558         gravity\n",
              "2559         gravity\n",
              "54735      motorpump\n",
              "25763       handpump\n",
              "44540    submersible\n",
              "28603          other\n",
              "4372     submersible\n",
              "30666        gravity\n",
              "6431     submersible\n",
              "57420          other\n",
              "1373         gravity\n",
              "2026         gravity\n",
              "58977       handpump\n",
              "41101        gravity\n",
              "10019        gravity\n",
              "Name: extraction_type_class, dtype: object"
            ]
          },
          "metadata": {
            "tags": []
          },
          "execution_count": 31
        }
      ]
    },
    {
      "cell_type": "markdown",
      "metadata": {
        "colab_type": "text",
        "id": "ezzK2IdbgLVx"
      },
      "source": [
        "### [One Hot Encoding](http://contrib.scikit-learn.org/categorical-encoding/onehot.html)\n",
        "\n",
        "> Onehot (or dummy) coding for categorical features, produces one feature per category, each binary.\n",
        "\n",
        "Warning: May run slow, or run out of memory, with high cardinality categoricals!"
      ]
    },
    {
      "cell_type": "code",
      "metadata": {
        "colab_type": "code",
        "id": "HDQZtV6GgLVy",
        "outputId": "2fc7ab0c-afcd-4812-ab9e-149345253b8f",
        "colab": {
          "base_uri": "https://localhost:8080/",
          "height": 723
        }
      },
      "source": [
        "encoder = ce.OneHotEncoder(use_cat_names=True)\n",
        "encoded = encoder.fit_transform(X_train[[feature]])\n",
        "print(f'{len(encoded.columns)} columns')\n",
        "encoded.head(20)"
      ],
      "execution_count": 32,
      "outputs": [
        {
          "output_type": "stream",
          "text": [
            "7 columns\n"
          ],
          "name": "stdout"
        },
        {
          "output_type": "execute_result",
          "data": {
            "text/html": [
              "<div>\n",
              "<style scoped>\n",
              "    .dataframe tbody tr th:only-of-type {\n",
              "        vertical-align: middle;\n",
              "    }\n",
              "\n",
              "    .dataframe tbody tr th {\n",
              "        vertical-align: top;\n",
              "    }\n",
              "\n",
              "    .dataframe thead th {\n",
              "        text-align: right;\n",
              "    }\n",
              "</style>\n",
              "<table border=\"1\" class=\"dataframe\">\n",
              "  <thead>\n",
              "    <tr style=\"text-align: right;\">\n",
              "      <th></th>\n",
              "      <th>extraction_type_class_gravity</th>\n",
              "      <th>extraction_type_class_handpump</th>\n",
              "      <th>extraction_type_class_other</th>\n",
              "      <th>extraction_type_class_motorpump</th>\n",
              "      <th>extraction_type_class_submersible</th>\n",
              "      <th>extraction_type_class_rope pump</th>\n",
              "      <th>extraction_type_class_wind-powered</th>\n",
              "    </tr>\n",
              "  </thead>\n",
              "  <tbody>\n",
              "    <tr>\n",
              "      <th>43360</th>\n",
              "      <td>1</td>\n",
              "      <td>0</td>\n",
              "      <td>0</td>\n",
              "      <td>0</td>\n",
              "      <td>0</td>\n",
              "      <td>0</td>\n",
              "      <td>0</td>\n",
              "    </tr>\n",
              "    <tr>\n",
              "      <th>7263</th>\n",
              "      <td>1</td>\n",
              "      <td>0</td>\n",
              "      <td>0</td>\n",
              "      <td>0</td>\n",
              "      <td>0</td>\n",
              "      <td>0</td>\n",
              "      <td>0</td>\n",
              "    </tr>\n",
              "    <tr>\n",
              "      <th>2486</th>\n",
              "      <td>0</td>\n",
              "      <td>1</td>\n",
              "      <td>0</td>\n",
              "      <td>0</td>\n",
              "      <td>0</td>\n",
              "      <td>0</td>\n",
              "      <td>0</td>\n",
              "    </tr>\n",
              "    <tr>\n",
              "      <th>313</th>\n",
              "      <td>0</td>\n",
              "      <td>0</td>\n",
              "      <td>1</td>\n",
              "      <td>0</td>\n",
              "      <td>0</td>\n",
              "      <td>0</td>\n",
              "      <td>0</td>\n",
              "    </tr>\n",
              "    <tr>\n",
              "      <th>52726</th>\n",
              "      <td>0</td>\n",
              "      <td>0</td>\n",
              "      <td>0</td>\n",
              "      <td>1</td>\n",
              "      <td>0</td>\n",
              "      <td>0</td>\n",
              "      <td>0</td>\n",
              "    </tr>\n",
              "    <tr>\n",
              "      <th>8558</th>\n",
              "      <td>1</td>\n",
              "      <td>0</td>\n",
              "      <td>0</td>\n",
              "      <td>0</td>\n",
              "      <td>0</td>\n",
              "      <td>0</td>\n",
              "      <td>0</td>\n",
              "    </tr>\n",
              "    <tr>\n",
              "      <th>2559</th>\n",
              "      <td>1</td>\n",
              "      <td>0</td>\n",
              "      <td>0</td>\n",
              "      <td>0</td>\n",
              "      <td>0</td>\n",
              "      <td>0</td>\n",
              "      <td>0</td>\n",
              "    </tr>\n",
              "    <tr>\n",
              "      <th>54735</th>\n",
              "      <td>0</td>\n",
              "      <td>0</td>\n",
              "      <td>0</td>\n",
              "      <td>1</td>\n",
              "      <td>0</td>\n",
              "      <td>0</td>\n",
              "      <td>0</td>\n",
              "    </tr>\n",
              "    <tr>\n",
              "      <th>25763</th>\n",
              "      <td>0</td>\n",
              "      <td>1</td>\n",
              "      <td>0</td>\n",
              "      <td>0</td>\n",
              "      <td>0</td>\n",
              "      <td>0</td>\n",
              "      <td>0</td>\n",
              "    </tr>\n",
              "    <tr>\n",
              "      <th>44540</th>\n",
              "      <td>0</td>\n",
              "      <td>0</td>\n",
              "      <td>0</td>\n",
              "      <td>0</td>\n",
              "      <td>1</td>\n",
              "      <td>0</td>\n",
              "      <td>0</td>\n",
              "    </tr>\n",
              "    <tr>\n",
              "      <th>28603</th>\n",
              "      <td>0</td>\n",
              "      <td>0</td>\n",
              "      <td>1</td>\n",
              "      <td>0</td>\n",
              "      <td>0</td>\n",
              "      <td>0</td>\n",
              "      <td>0</td>\n",
              "    </tr>\n",
              "    <tr>\n",
              "      <th>4372</th>\n",
              "      <td>0</td>\n",
              "      <td>0</td>\n",
              "      <td>0</td>\n",
              "      <td>0</td>\n",
              "      <td>1</td>\n",
              "      <td>0</td>\n",
              "      <td>0</td>\n",
              "    </tr>\n",
              "    <tr>\n",
              "      <th>30666</th>\n",
              "      <td>1</td>\n",
              "      <td>0</td>\n",
              "      <td>0</td>\n",
              "      <td>0</td>\n",
              "      <td>0</td>\n",
              "      <td>0</td>\n",
              "      <td>0</td>\n",
              "    </tr>\n",
              "    <tr>\n",
              "      <th>6431</th>\n",
              "      <td>0</td>\n",
              "      <td>0</td>\n",
              "      <td>0</td>\n",
              "      <td>0</td>\n",
              "      <td>1</td>\n",
              "      <td>0</td>\n",
              "      <td>0</td>\n",
              "    </tr>\n",
              "    <tr>\n",
              "      <th>57420</th>\n",
              "      <td>0</td>\n",
              "      <td>0</td>\n",
              "      <td>1</td>\n",
              "      <td>0</td>\n",
              "      <td>0</td>\n",
              "      <td>0</td>\n",
              "      <td>0</td>\n",
              "    </tr>\n",
              "    <tr>\n",
              "      <th>1373</th>\n",
              "      <td>1</td>\n",
              "      <td>0</td>\n",
              "      <td>0</td>\n",
              "      <td>0</td>\n",
              "      <td>0</td>\n",
              "      <td>0</td>\n",
              "      <td>0</td>\n",
              "    </tr>\n",
              "    <tr>\n",
              "      <th>2026</th>\n",
              "      <td>1</td>\n",
              "      <td>0</td>\n",
              "      <td>0</td>\n",
              "      <td>0</td>\n",
              "      <td>0</td>\n",
              "      <td>0</td>\n",
              "      <td>0</td>\n",
              "    </tr>\n",
              "    <tr>\n",
              "      <th>58977</th>\n",
              "      <td>0</td>\n",
              "      <td>1</td>\n",
              "      <td>0</td>\n",
              "      <td>0</td>\n",
              "      <td>0</td>\n",
              "      <td>0</td>\n",
              "      <td>0</td>\n",
              "    </tr>\n",
              "    <tr>\n",
              "      <th>41101</th>\n",
              "      <td>1</td>\n",
              "      <td>0</td>\n",
              "      <td>0</td>\n",
              "      <td>0</td>\n",
              "      <td>0</td>\n",
              "      <td>0</td>\n",
              "      <td>0</td>\n",
              "    </tr>\n",
              "    <tr>\n",
              "      <th>10019</th>\n",
              "      <td>1</td>\n",
              "      <td>0</td>\n",
              "      <td>0</td>\n",
              "      <td>0</td>\n",
              "      <td>0</td>\n",
              "      <td>0</td>\n",
              "      <td>0</td>\n",
              "    </tr>\n",
              "  </tbody>\n",
              "</table>\n",
              "</div>"
            ],
            "text/plain": [
              "       extraction_type_class_gravity  ...  extraction_type_class_wind-powered\n",
              "43360                              1  ...                                   0\n",
              "7263                               1  ...                                   0\n",
              "2486                               0  ...                                   0\n",
              "313                                0  ...                                   0\n",
              "52726                              0  ...                                   0\n",
              "8558                               1  ...                                   0\n",
              "2559                               1  ...                                   0\n",
              "54735                              0  ...                                   0\n",
              "25763                              0  ...                                   0\n",
              "44540                              0  ...                                   0\n",
              "28603                              0  ...                                   0\n",
              "4372                               0  ...                                   0\n",
              "30666                              1  ...                                   0\n",
              "6431                               0  ...                                   0\n",
              "57420                              0  ...                                   0\n",
              "1373                               1  ...                                   0\n",
              "2026                               1  ...                                   0\n",
              "58977                              0  ...                                   0\n",
              "41101                              1  ...                                   0\n",
              "10019                              1  ...                                   0\n",
              "\n",
              "[20 rows x 7 columns]"
            ]
          },
          "metadata": {
            "tags": []
          },
          "execution_count": 32
        }
      ]
    },
    {
      "cell_type": "markdown",
      "metadata": {
        "colab_type": "text",
        "id": "1Ql9Qmw3sNJ7"
      },
      "source": [
        "#### One-Hot Encoding, Logistic Regression, Validation Accuracy"
      ]
    },
    {
      "cell_type": "code",
      "metadata": {
        "colab_type": "code",
        "id": "mT4A-oDGpOss",
        "outputId": "77995f3e-7a72-49f5-d5f7-c880ca39475c",
        "colab": {
          "base_uri": "https://localhost:8080/",
          "height": 34
        }
      },
      "source": [
        "from sklearn.linear_model import LogisticRegressionCV\n",
        "from sklearn.preprocessing import StandardScaler\n",
        "\n",
        "lr = make_pipeline(\n",
        "    ce.OneHotEncoder(use_cat_names=True), \n",
        "    SimpleImputer(), \n",
        "    StandardScaler(), \n",
        "    LogisticRegressionCV(multi_class='auto', solver='lbfgs', cv=5, n_jobs=-1)\n",
        ")\n",
        "\n",
        "lr.fit(X_train[[feature]], y_train)\n",
        "score = lr.score(X_val[[feature]], y_val)\n",
        "print('Logistic Regression, Validation Accuracy', score)"
      ],
      "execution_count": 33,
      "outputs": [
        {
          "output_type": "stream",
          "text": [
            "Logistic Regression, Validation Accuracy 0.6202861952861953\n"
          ],
          "name": "stdout"
        }
      ]
    },
    {
      "cell_type": "markdown",
      "metadata": {
        "colab_type": "text",
        "id": "EbH6wivpsRuV"
      },
      "source": [
        "#### One-Hot Encoding, Decision Tree, Validation Accuracy"
      ]
    },
    {
      "cell_type": "code",
      "metadata": {
        "colab_type": "code",
        "id": "b6KUluFOqIdK",
        "outputId": "cf30876d-6f22-4ea0-b936-c0e688203510",
        "colab": {
          "base_uri": "https://localhost:8080/",
          "height": 34
        }
      },
      "source": [
        "from sklearn.tree import DecisionTreeClassifier\n",
        "\n",
        "dt = make_pipeline(\n",
        "    ce.OneHotEncoder(use_cat_names=True), \n",
        "    SimpleImputer(), \n",
        "    DecisionTreeClassifier(random_state=42)\n",
        ")\n",
        "\n",
        "dt.fit(X_train[[feature]], y_train)\n",
        "score = dt.score(X_val[[feature]], y_val)\n",
        "print('Decision Tree, Validation Accuracy', score)"
      ],
      "execution_count": 34,
      "outputs": [
        {
          "output_type": "stream",
          "text": [
            "Decision Tree, Validation Accuracy 0.6202861952861953\n"
          ],
          "name": "stdout"
        }
      ]
    },
    {
      "cell_type": "markdown",
      "metadata": {
        "colab_type": "text",
        "id": "8yg11_gTsUu6"
      },
      "source": [
        "#### One-Hot Encoding, Logistic Regression, Model Interpretation"
      ]
    },
    {
      "cell_type": "code",
      "metadata": {
        "colab_type": "code",
        "id": "IxHwXGRornNI",
        "outputId": "707fe4da-1cfb-404c-a356-7df9db6d2482",
        "colab": {
          "base_uri": "https://localhost:8080/",
          "height": 265
        }
      },
      "source": [
        "model = lr.named_steps['logisticregressioncv']\n",
        "encoder = lr.named_steps['onehotencoder']\n",
        "encoded_columns = encoder.transform(X_val[[feature]]).columns\n",
        "coefficients = pd.Series(model.coef_[0], encoded_columns)\n",
        "coefficients.sort_values().plot.barh(color='grey');"
      ],
      "execution_count": 35,
      "outputs": [
        {
          "output_type": "display_data",
          "data": {
            "image/png": "[encoded data removed]",
            "text/plain": [
              "<Figure size 432x288 with 1 Axes>"
            ]
          },
          "metadata": {
            "tags": []
          }
        }
      ]
    },
    {
      "cell_type": "markdown",
      "metadata": {
        "colab_type": "text",
        "id": "0REZ8HdpsccR"
      },
      "source": [
        "#### One-Hot Encoding, Decision Tree, Model Interpretation"
      ]
    },
    {
      "cell_type": "code",
      "metadata": {
        "colab_type": "code",
        "id": "gV-grmYKpDp9",
        "outputId": "b15a9fa2-95eb-4832-c605-d6e2710ea9b8",
        "colab": {
          "base_uri": "https://localhost:8080/",
          "height": 954
        }
      },
      "source": [
        "# Plot tree\n",
        "# https://scikit-learn.org/stable/modules/generated/sklearn.tree.export_graphviz.html\n",
        "import graphviz\n",
        "from sklearn.tree import export_graphviz\n",
        "\n",
        "model = dt.named_steps['decisiontreeclassifier']\n",
        "encoder = dt.named_steps['onehotencoder']\n",
        "encoded_columns = encoder.transform(X_val[[feature]]).columns\n",
        "\n",
        "dot_data = export_graphviz(model, \n",
        "                           out_file=None, \n",
        "                           max_depth=7, \n",
        "                           feature_names=encoded_columns,\n",
        "                           class_names=model.classes_, \n",
        "                           impurity=False, \n",
        "                           filled=True, \n",
        "                           proportion=True, \n",
        "                           rounded=True)   \n",
        "display(graphviz.Source(dot_data))"
      ],
      "execution_count": 36,
      "outputs": [
        {
          "output_type": "display_data",
          "data": {
            "text/plain": [
              "<graphviz.files.Source at 0x7f4b7ef99ef0>"
            ],
            "image/svg+xml": "<?xml version=\"1.0\" encoding=\"UTF-8\" standalone=\"no\"?>\n<!DOCTYPE svg PUBLIC \"-//W3C//DTD SVG 1.1//EN\"\n \"http://www.w3.org/Graphics/SVG/1.1/DTD/svg11.dtd\">\n<!-- Generated by graphviz version 2.40.1 (20161225.0304)\n -->\n<!-- Title: Tree Pages: 1 -->\n<svg width=\"1067pt\" height=\"685pt\"\n viewBox=\"0.00 0.00 1067.00 685.00\" xmlns=\"http://www.w3.org/2000/svg\" xmlns:xlink=\"http://www.w3.org/1999/xlink\">\n<g id=\"graph0\" class=\"graph\" transform=\"scale(1 1) rotate(0) translate(4 681)\">\n<title>Tree</title>\n<polygon fill=\"#ffffff\" stroke=\"transparent\" points=\"-4,4 -4,-681 1063,-681 1063,4 -4,4\"/>\n<!-- 0 -->\n<g id=\"node1\" class=\"node\">\n<title>0</title>\n<path fill=\"#f8decc\" stroke=\"#000000\" d=\"M944.5,-677C944.5,-677 725.5,-677 725.5,-677 719.5,-677 713.5,-671 713.5,-665 713.5,-665 713.5,-621 713.5,-621 713.5,-615 719.5,-609 725.5,-609 725.5,-609 944.5,-609 944.5,-609 950.5,-609 956.5,-615 956.5,-621 956.5,-621 956.5,-665 956.5,-665 956.5,-671 950.5,-677 944.5,-677\"/>\n<text text-anchor=\"middle\" x=\"835\" y=\"-661.8\" font-family=\"Helvetica,sans-Serif\" font-size=\"14.00\" fill=\"#000000\">extraction_type_class_other &lt;= 0.5</text>\n<text text-anchor=\"middle\" x=\"835\" y=\"-646.8\" font-family=\"Helvetica,sans-Serif\" font-size=\"14.00\" fill=\"#000000\">samples = 100.0%</text>\n<text text-anchor=\"middle\" x=\"835\" y=\"-631.8\" font-family=\"Helvetica,sans-Serif\" font-size=\"14.00\" fill=\"#000000\">value = [0.543, 0.073, 0.384]</text>\n<text text-anchor=\"middle\" x=\"835\" y=\"-616.8\" font-family=\"Helvetica,sans-Serif\" font-size=\"14.00\" fill=\"#000000\">class = functional</text>\n</g>\n<!-- 1 -->\n<g id=\"node2\" class=\"node\">\n<title>1</title>\n<path fill=\"#f5ceb2\" stroke=\"#000000\" d=\"M837,-573C837,-573 577,-573 577,-573 571,-573 565,-567 565,-561 565,-561 565,-517 565,-517 565,-511 571,-505 577,-505 577,-505 837,-505 837,-505 843,-505 849,-511 849,-517 849,-517 849,-561 849,-561 849,-567 843,-573 837,-573\"/>\n<text text-anchor=\"middle\" x=\"707\" y=\"-557.8\" font-family=\"Helvetica,sans-Serif\" font-size=\"14.00\" fill=\"#000000\">extraction_type_class_motorpump &lt;= 0.5</text>\n<text text-anchor=\"middle\" x=\"707\" y=\"-542.8\" font-family=\"Helvetica,sans-Serif\" font-size=\"14.00\" fill=\"#000000\">samples = 89.1%</text>\n<text text-anchor=\"middle\" x=\"707\" y=\"-527.8\" font-family=\"Helvetica,sans-Serif\" font-size=\"14.00\" fill=\"#000000\">value = [0.59, 0.078, 0.332]</text>\n<text text-anchor=\"middle\" x=\"707\" y=\"-512.8\" font-family=\"Helvetica,sans-Serif\" font-size=\"14.00\" fill=\"#000000\">class = functional</text>\n</g>\n<!-- 0&#45;&gt;1 -->\n<g id=\"edge1\" class=\"edge\">\n<title>0&#45;&gt;1</title>\n<path fill=\"none\" stroke=\"#000000\" d=\"M793.088,-608.9465C781.485,-599.519 768.7779,-589.1946 756.7741,-579.4415\"/>\n<polygon fill=\"#000000\" stroke=\"#000000\" points=\"758.9744,-576.7196 749.0061,-573.13 754.5602,-582.1524 758.9744,-576.7196\"/>\n<text text-anchor=\"middle\" x=\"751.5786\" y=\"-594.2973\" font-family=\"Helvetica,sans-Serif\" font-size=\"14.00\" fill=\"#000000\">True</text>\n</g>\n<!-- 12 -->\n<g id=\"node13\" class=\"node\">\n<title>12</title>\n<path fill=\"#9d66eb\" stroke=\"#000000\" d=\"M1047,-565.5C1047,-565.5 879,-565.5 879,-565.5 873,-565.5 867,-559.5 867,-553.5 867,-553.5 867,-524.5 867,-524.5 867,-518.5 873,-512.5 879,-512.5 879,-512.5 1047,-512.5 1047,-512.5 1053,-512.5 1059,-518.5 1059,-524.5 1059,-524.5 1059,-553.5 1059,-553.5 1059,-559.5 1053,-565.5 1047,-565.5\"/>\n<text text-anchor=\"middle\" x=\"963\" y=\"-550.3\" font-family=\"Helvetica,sans-Serif\" font-size=\"14.00\" fill=\"#000000\">samples = 10.9%</text>\n<text text-anchor=\"middle\" x=\"963\" y=\"-535.3\" font-family=\"Helvetica,sans-Serif\" font-size=\"14.00\" fill=\"#000000\">value = [0.159, 0.031, 0.81]</text>\n<text text-anchor=\"middle\" x=\"963\" y=\"-520.3\" font-family=\"Helvetica,sans-Serif\" font-size=\"14.00\" fill=\"#000000\">class = non functional</text>\n</g>\n<!-- 0&#45;&gt;12 -->\n<g id=\"edge12\" class=\"edge\">\n<title>0&#45;&gt;12</title>\n<path fill=\"none\" stroke=\"#000000\" d=\"M876.912,-608.9465C891.5533,-597.0504 907.9526,-583.726 922.4785,-571.9237\"/>\n<polygon fill=\"#000000\" stroke=\"#000000\" points=\"924.7786,-574.5645 930.3327,-565.5422 920.3645,-569.1317 924.7786,-574.5645\"/>\n<text text-anchor=\"middle\" x=\"927.7602\" y=\"-586.7095\" font-family=\"Helvetica,sans-Serif\" font-size=\"14.00\" fill=\"#000000\">False</text>\n</g>\n<!-- 2 -->\n<g id=\"node3\" class=\"node\">\n<title>2</title>\n<path fill=\"#f4caac\" stroke=\"#000000\" d=\"M708.5,-469C708.5,-469 443.5,-469 443.5,-469 437.5,-469 431.5,-463 431.5,-457 431.5,-457 431.5,-413 431.5,-413 431.5,-407 437.5,-401 443.5,-401 443.5,-401 708.5,-401 708.5,-401 714.5,-401 720.5,-407 720.5,-413 720.5,-413 720.5,-457 720.5,-457 720.5,-463 714.5,-469 708.5,-469\"/>\n<text text-anchor=\"middle\" x=\"576\" y=\"-453.8\" font-family=\"Helvetica,sans-Serif\" font-size=\"14.00\" fill=\"#000000\">extraction_type_class_submersible &lt;= 0.5</text>\n<text text-anchor=\"middle\" x=\"576\" y=\"-438.8\" font-family=\"Helvetica,sans-Serif\" font-size=\"14.00\" fill=\"#000000\">samples = 84.1%</text>\n<text text-anchor=\"middle\" x=\"576\" y=\"-423.8\" font-family=\"Helvetica,sans-Serif\" font-size=\"14.00\" fill=\"#000000\">value = [0.603, 0.08, 0.318]</text>\n<text text-anchor=\"middle\" x=\"576\" y=\"-408.8\" font-family=\"Helvetica,sans-Serif\" font-size=\"14.00\" fill=\"#000000\">class = functional</text>\n</g>\n<!-- 1&#45;&gt;2 -->\n<g id=\"edge2\" class=\"edge\">\n<title>1&#45;&gt;2</title>\n<path fill=\"none\" stroke=\"#000000\" d=\"M664.1057,-504.9465C652.2307,-495.519 639.2259,-485.1946 626.9407,-475.4415\"/>\n<polygon fill=\"#000000\" stroke=\"#000000\" points=\"628.9989,-472.6066 618.9907,-469.13 624.6464,-478.089 628.9989,-472.6066\"/>\n</g>\n<!-- 11 -->\n<g id=\"node12\" class=\"node\">\n<title>11</title>\n<path fill=\"#d8c1f7\" stroke=\"#000000\" d=\"M927,-461.5C927,-461.5 751,-461.5 751,-461.5 745,-461.5 739,-455.5 739,-449.5 739,-449.5 739,-420.5 739,-420.5 739,-414.5 745,-408.5 751,-408.5 751,-408.5 927,-408.5 927,-408.5 933,-408.5 939,-414.5 939,-420.5 939,-420.5 939,-449.5 939,-449.5 939,-455.5 933,-461.5 927,-461.5\"/>\n<text text-anchor=\"middle\" x=\"839\" y=\"-446.3\" font-family=\"Helvetica,sans-Serif\" font-size=\"14.00\" fill=\"#000000\">samples = 5.0%</text>\n<text text-anchor=\"middle\" x=\"839\" y=\"-431.3\" font-family=\"Helvetica,sans-Serif\" font-size=\"14.00\" fill=\"#000000\">value = [0.381, 0.045, 0.574]</text>\n<text text-anchor=\"middle\" x=\"839\" y=\"-416.3\" font-family=\"Helvetica,sans-Serif\" font-size=\"14.00\" fill=\"#000000\">class = non functional</text>\n</g>\n<!-- 1&#45;&gt;11 -->\n<g id=\"edge11\" class=\"edge\">\n<title>1&#45;&gt;11</title>\n<path fill=\"none\" stroke=\"#000000\" d=\"M750.2217,-504.9465C765.3206,-493.0504 782.2324,-479.726 797.2122,-467.9237\"/>\n<polygon fill=\"#000000\" stroke=\"#000000\" points=\"799.623,-470.4802 805.3119,-461.5422 795.2909,-464.9817 799.623,-470.4802\"/>\n</g>\n<!-- 3 -->\n<g id=\"node4\" class=\"node\">\n<title>3</title>\n<path fill=\"#f4c7a8\" stroke=\"#000000\" d=\"M568.5,-365C568.5,-365 339.5,-365 339.5,-365 333.5,-365 327.5,-359 327.5,-353 327.5,-353 327.5,-309 327.5,-309 327.5,-303 333.5,-297 339.5,-297 339.5,-297 568.5,-297 568.5,-297 574.5,-297 580.5,-303 580.5,-309 580.5,-309 580.5,-353 580.5,-353 580.5,-359 574.5,-365 568.5,-365\"/>\n<text text-anchor=\"middle\" x=\"454\" y=\"-349.8\" font-family=\"Helvetica,sans-Serif\" font-size=\"14.00\" fill=\"#000000\">extraction_type_class_gravity &lt;= 0.5</text>\n<text text-anchor=\"middle\" x=\"454\" y=\"-334.8\" font-family=\"Helvetica,sans-Serif\" font-size=\"14.00\" fill=\"#000000\">samples = 73.8%</text>\n<text text-anchor=\"middle\" x=\"454\" y=\"-319.8\" font-family=\"Helvetica,sans-Serif\" font-size=\"14.00\" fill=\"#000000\">value = [0.611, 0.085, 0.304]</text>\n<text text-anchor=\"middle\" x=\"454\" y=\"-304.8\" font-family=\"Helvetica,sans-Serif\" font-size=\"14.00\" fill=\"#000000\">class = functional</text>\n</g>\n<!-- 2&#45;&gt;3 -->\n<g id=\"edge3\" class=\"edge\">\n<title>2&#45;&gt;3</title>\n<path fill=\"none\" stroke=\"#000000\" d=\"M536.0526,-400.9465C525.0988,-391.6088 513.1127,-381.3911 501.768,-371.7203\"/>\n<polygon fill=\"#000000\" stroke=\"#000000\" points=\"503.9179,-368.9538 494.0371,-365.13 499.3767,-374.2809 503.9179,-368.9538\"/>\n</g>\n<!-- 10 -->\n<g id=\"node11\" class=\"node\">\n<title>10</title>\n<path fill=\"#f9e4d5\" stroke=\"#000000\" d=\"M787,-357.5C787,-357.5 611,-357.5 611,-357.5 605,-357.5 599,-351.5 599,-345.5 599,-345.5 599,-316.5 599,-316.5 599,-310.5 605,-304.5 611,-304.5 611,-304.5 787,-304.5 787,-304.5 793,-304.5 799,-310.5 799,-316.5 799,-316.5 799,-345.5 799,-345.5 799,-351.5 793,-357.5 787,-357.5\"/>\n<text text-anchor=\"middle\" x=\"699\" y=\"-342.3\" font-family=\"Helvetica,sans-Serif\" font-size=\"14.00\" fill=\"#000000\">samples = 10.3%</text>\n<text text-anchor=\"middle\" x=\"699\" y=\"-327.3\" font-family=\"Helvetica,sans-Serif\" font-size=\"14.00\" fill=\"#000000\">value = [0.541, 0.042, 0.416]</text>\n<text text-anchor=\"middle\" x=\"699\" y=\"-312.3\" font-family=\"Helvetica,sans-Serif\" font-size=\"14.00\" fill=\"#000000\">class = functional</text>\n</g>\n<!-- 2&#45;&gt;10 -->\n<g id=\"edge10\" class=\"edge\">\n<title>2&#45;&gt;10</title>\n<path fill=\"none\" stroke=\"#000000\" d=\"M616.2748,-400.9465C630.2139,-389.1606 645.8112,-375.9726 659.6732,-364.2519\"/>\n<polygon fill=\"#000000\" stroke=\"#000000\" points=\"662.2324,-366.6715 667.6088,-357.5422 657.7127,-361.3262 662.2324,-366.6715\"/>\n</g>\n<!-- 4 -->\n<g id=\"node5\" class=\"node\">\n<title>4</title>\n<path fill=\"#f3c5a4\" stroke=\"#000000\" d=\"M458.5,-261C458.5,-261 181.5,-261 181.5,-261 175.5,-261 169.5,-255 169.5,-249 169.5,-249 169.5,-205 169.5,-205 169.5,-199 175.5,-193 181.5,-193 181.5,-193 458.5,-193 458.5,-193 464.5,-193 470.5,-199 470.5,-205 470.5,-205 470.5,-249 470.5,-249 470.5,-255 464.5,-261 458.5,-261\"/>\n<text text-anchor=\"middle\" x=\"320\" y=\"-245.8\" font-family=\"Helvetica,sans-Serif\" font-size=\"14.00\" fill=\"#000000\">extraction_type_class_wind&#45;powered &lt;= 0.5</text>\n<text text-anchor=\"middle\" x=\"320\" y=\"-230.8\" font-family=\"Helvetica,sans-Serif\" font-size=\"14.00\" fill=\"#000000\">samples = 28.7%</text>\n<text text-anchor=\"middle\" x=\"320\" y=\"-215.8\" font-family=\"Helvetica,sans-Serif\" font-size=\"14.00\" fill=\"#000000\">value = [0.629, 0.059, 0.311]</text>\n<text text-anchor=\"middle\" x=\"320\" y=\"-200.8\" font-family=\"Helvetica,sans-Serif\" font-size=\"14.00\" fill=\"#000000\">class = functional</text>\n</g>\n<!-- 3&#45;&gt;4 -->\n<g id=\"edge4\" class=\"edge\">\n<title>3&#45;&gt;4</title>\n<path fill=\"none\" stroke=\"#000000\" d=\"M410.1234,-296.9465C397.9765,-287.519 384.6738,-277.1946 372.1073,-267.4415\"/>\n<polygon fill=\"#000000\" stroke=\"#000000\" points=\"374.021,-264.4963 363.9752,-261.13 369.7291,-270.0262 374.021,-264.4963\"/>\n</g>\n<!-- 9 -->\n<g id=\"node10\" class=\"node\">\n<title>9</title>\n<path fill=\"#f4c9aa\" stroke=\"#000000\" d=\"M677,-253.5C677,-253.5 501,-253.5 501,-253.5 495,-253.5 489,-247.5 489,-241.5 489,-241.5 489,-212.5 489,-212.5 489,-206.5 495,-200.5 501,-200.5 501,-200.5 677,-200.5 677,-200.5 683,-200.5 689,-206.5 689,-212.5 689,-212.5 689,-241.5 689,-241.5 689,-247.5 683,-253.5 677,-253.5\"/>\n<text text-anchor=\"middle\" x=\"589\" y=\"-238.3\" font-family=\"Helvetica,sans-Serif\" font-size=\"14.00\" fill=\"#000000\">samples = 45.1%</text>\n<text text-anchor=\"middle\" x=\"589\" y=\"-223.3\" font-family=\"Helvetica,sans-Serif\" font-size=\"14.00\" fill=\"#000000\">value = [0.599, 0.101, 0.299]</text>\n<text text-anchor=\"middle\" x=\"589\" y=\"-208.3\" font-family=\"Helvetica,sans-Serif\" font-size=\"14.00\" fill=\"#000000\">class = functional</text>\n</g>\n<!-- 3&#45;&gt;9 -->\n<g id=\"edge9\" class=\"edge\">\n<title>3&#45;&gt;9</title>\n<path fill=\"none\" stroke=\"#000000\" d=\"M498.204,-296.9465C513.6461,-285.0504 530.9422,-271.726 546.2625,-259.9237\"/>\n<polygon fill=\"#000000\" stroke=\"#000000\" points=\"548.7603,-262.4176 554.5462,-253.5422 544.4883,-256.8723 548.7603,-262.4176\"/>\n</g>\n<!-- 5 -->\n<g id=\"node6\" class=\"node\">\n<title>5</title>\n<path fill=\"#f3c4a3\" stroke=\"#000000\" d=\"M319,-157C319,-157 63,-157 63,-157 57,-157 51,-151 51,-145 51,-145 51,-101 51,-101 51,-95 57,-89 63,-89 63,-89 319,-89 319,-89 325,-89 331,-95 331,-101 331,-101 331,-145 331,-145 331,-151 325,-157 319,-157\"/>\n<text text-anchor=\"middle\" x=\"191\" y=\"-141.8\" font-family=\"Helvetica,sans-Serif\" font-size=\"14.00\" fill=\"#000000\">extraction_type_class_rope pump &lt;= 0.5</text>\n<text text-anchor=\"middle\" x=\"191\" y=\"-126.8\" font-family=\"Helvetica,sans-Serif\" font-size=\"14.00\" fill=\"#000000\">samples = 28.5%</text>\n<text text-anchor=\"middle\" x=\"191\" y=\"-111.8\" font-family=\"Helvetica,sans-Serif\" font-size=\"14.00\" fill=\"#000000\">value = [0.631, 0.059, 0.31]</text>\n<text text-anchor=\"middle\" x=\"191\" y=\"-96.8\" font-family=\"Helvetica,sans-Serif\" font-size=\"14.00\" fill=\"#000000\">class = functional</text>\n</g>\n<!-- 4&#45;&gt;5 -->\n<g id=\"edge5\" class=\"edge\">\n<title>4&#45;&gt;5</title>\n<path fill=\"none\" stroke=\"#000000\" d=\"M277.7606,-192.9465C266.0669,-183.519 253.2606,-173.1946 241.163,-163.4415\"/>\n<polygon fill=\"#000000\" stroke=\"#000000\" points=\"243.3162,-160.6816 233.3343,-157.13 238.9227,-166.1312 243.3162,-160.6816\"/>\n</g>\n<!-- 8 -->\n<g id=\"node9\" class=\"node\">\n<title>8</title>\n<path fill=\"#f8f3fd\" stroke=\"#000000\" d=\"M537,-149.5C537,-149.5 361,-149.5 361,-149.5 355,-149.5 349,-143.5 349,-137.5 349,-137.5 349,-108.5 349,-108.5 349,-102.5 355,-96.5 361,-96.5 361,-96.5 537,-96.5 537,-96.5 543,-96.5 549,-102.5 549,-108.5 549,-108.5 549,-137.5 549,-137.5 549,-143.5 543,-149.5 537,-149.5\"/>\n<text text-anchor=\"middle\" x=\"449\" y=\"-134.3\" font-family=\"Helvetica,sans-Serif\" font-size=\"14.00\" fill=\"#000000\">samples = 0.2%</text>\n<text text-anchor=\"middle\" x=\"449\" y=\"-119.3\" font-family=\"Helvetica,sans-Serif\" font-size=\"14.00\" fill=\"#000000\">value = [0.452, 0.065, 0.484]</text>\n<text text-anchor=\"middle\" x=\"449\" y=\"-104.3\" font-family=\"Helvetica,sans-Serif\" font-size=\"14.00\" fill=\"#000000\">class = non functional</text>\n</g>\n<!-- 4&#45;&gt;8 -->\n<g id=\"edge8\" class=\"edge\">\n<title>4&#45;&gt;8</title>\n<path fill=\"none\" stroke=\"#000000\" d=\"M362.2394,-192.9465C376.9952,-181.0504 393.5225,-167.726 408.162,-155.9237\"/>\n<polygon fill=\"#000000\" stroke=\"#000000\" points=\"410.4891,-158.5433 416.0775,-149.5422 406.0957,-153.0938 410.4891,-158.5433\"/>\n</g>\n<!-- 6 -->\n<g id=\"node7\" class=\"node\">\n<title>6</title>\n<path fill=\"#f3c5a3\" stroke=\"#000000\" d=\"M164,-53C164,-53 12,-53 12,-53 6,-53 0,-47 0,-41 0,-41 0,-12 0,-12 0,-6 6,0 12,0 12,0 164,0 164,0 170,0 176,-6 176,-12 176,-12 176,-41 176,-41 176,-47 170,-53 164,-53\"/>\n<text text-anchor=\"middle\" x=\"88\" y=\"-37.8\" font-family=\"Helvetica,sans-Serif\" font-size=\"14.00\" fill=\"#000000\">samples = 27.7%</text>\n<text text-anchor=\"middle\" x=\"88\" y=\"-22.8\" font-family=\"Helvetica,sans-Serif\" font-size=\"14.00\" fill=\"#000000\">value = [0.63, 0.06, 0.31]</text>\n<text text-anchor=\"middle\" x=\"88\" y=\"-7.8\" font-family=\"Helvetica,sans-Serif\" font-size=\"14.00\" fill=\"#000000\">class = functional</text>\n</g>\n<!-- 5&#45;&gt;6 -->\n<g id=\"edge6\" class=\"edge\">\n<title>5&#45;&gt;6</title>\n<path fill=\"none\" stroke=\"#000000\" d=\"M154.6861,-88.9777C144.7168,-79.6376 133.9138,-69.5163 123.9643,-60.1947\"/>\n<polygon fill=\"#000000\" stroke=\"#000000\" points=\"126.2408,-57.5314 116.5502,-53.2485 121.4548,-62.6397 126.2408,-57.5314\"/>\n</g>\n<!-- 7 -->\n<g id=\"node8\" class=\"node\">\n<title>7</title>\n<path fill=\"#f2bf9b\" stroke=\"#000000\" d=\"M382,-53C382,-53 206,-53 206,-53 200,-53 194,-47 194,-41 194,-41 194,-12 194,-12 194,-6 200,0 206,0 206,0 382,0 382,0 388,0 394,-6 394,-12 394,-12 394,-41 394,-41 394,-47 388,-53 382,-53\"/>\n<text text-anchor=\"middle\" x=\"294\" y=\"-37.8\" font-family=\"Helvetica,sans-Serif\" font-size=\"14.00\" fill=\"#000000\">samples = 0.7%</text>\n<text text-anchor=\"middle\" x=\"294\" y=\"-22.8\" font-family=\"Helvetica,sans-Serif\" font-size=\"14.00\" fill=\"#000000\">value = [0.657, 0.037, 0.306]</text>\n<text text-anchor=\"middle\" x=\"294\" y=\"-7.8\" font-family=\"Helvetica,sans-Serif\" font-size=\"14.00\" fill=\"#000000\">class = functional</text>\n</g>\n<!-- 5&#45;&gt;7 -->\n<g id=\"edge7\" class=\"edge\">\n<title>5&#45;&gt;7</title>\n<path fill=\"none\" stroke=\"#000000\" d=\"M227.3139,-88.9777C237.2832,-79.6376 248.0862,-69.5163 258.0357,-60.1947\"/>\n<polygon fill=\"#000000\" stroke=\"#000000\" points=\"260.5452,-62.6397 265.4498,-53.2485 255.7592,-57.5314 260.5452,-62.6397\"/>\n</g>\n</g>\n</svg>\n"
          },
          "metadata": {
            "tags": []
          }
        }
      ]
    },
    {
      "cell_type": "markdown",
      "metadata": {
        "colab_type": "text",
        "id": "QUd6gzcZgLVz"
      },
      "source": [
        "### [Ordinal Encoding](http://contrib.scikit-learn.org/categorical-encoding/ordinal.html)\n",
        "\n",
        "> Ordinal encoding uses a single column of integers to represent the classes. An optional mapping dict can be passed in; in this case, we use the knowledge that there is some true order to the classes themselves. Otherwise, the classes are assumed to have no true order and integers are selected at random."
      ]
    },
    {
      "cell_type": "code",
      "metadata": {
        "colab_type": "code",
        "id": "CnBz2RbwgLVz",
        "outputId": "eaac08d8-8722-43e9-c0bc-efae89f64e12",
        "colab": {
          "base_uri": "https://localhost:8080/",
          "height": 686
        }
      },
      "source": [
        "encoder = ce.OrdinalEncoder()\n",
        "encoded = encoder.fit_transform(X_train[[feature]])\n",
        "print(f'1 column, {encoded[feature].nunique()} unique values')\n",
        "encoded.head(20)"
      ],
      "execution_count": 37,
      "outputs": [
        {
          "output_type": "stream",
          "text": [
            "1 column, 7 unique values\n"
          ],
          "name": "stdout"
        },
        {
          "output_type": "execute_result",
          "data": {
            "text/html": [
              "<div>\n",
              "<style scoped>\n",
              "    .dataframe tbody tr th:only-of-type {\n",
              "        vertical-align: middle;\n",
              "    }\n",
              "\n",
              "    .dataframe tbody tr th {\n",
              "        vertical-align: top;\n",
              "    }\n",
              "\n",
              "    .dataframe thead th {\n",
              "        text-align: right;\n",
              "    }\n",
              "</style>\n",
              "<table border=\"1\" class=\"dataframe\">\n",
              "  <thead>\n",
              "    <tr style=\"text-align: right;\">\n",
              "      <th></th>\n",
              "      <th>extraction_type_class</th>\n",
              "    </tr>\n",
              "  </thead>\n",
              "  <tbody>\n",
              "    <tr>\n",
              "      <th>43360</th>\n",
              "      <td>1</td>\n",
              "    </tr>\n",
              "    <tr>\n",
              "      <th>7263</th>\n",
              "      <td>1</td>\n",
              "    </tr>\n",
              "    <tr>\n",
              "      <th>2486</th>\n",
              "      <td>2</td>\n",
              "    </tr>\n",
              "    <tr>\n",
              "      <th>313</th>\n",
              "      <td>3</td>\n",
              "    </tr>\n",
              "    <tr>\n",
              "      <th>52726</th>\n",
              "      <td>4</td>\n",
              "    </tr>\n",
              "    <tr>\n",
              "      <th>8558</th>\n",
              "      <td>1</td>\n",
              "    </tr>\n",
              "    <tr>\n",
              "      <th>2559</th>\n",
              "      <td>1</td>\n",
              "    </tr>\n",
              "    <tr>\n",
              "      <th>54735</th>\n",
              "      <td>4</td>\n",
              "    </tr>\n",
              "    <tr>\n",
              "      <th>25763</th>\n",
              "      <td>2</td>\n",
              "    </tr>\n",
              "    <tr>\n",
              "      <th>44540</th>\n",
              "      <td>5</td>\n",
              "    </tr>\n",
              "    <tr>\n",
              "      <th>28603</th>\n",
              "      <td>3</td>\n",
              "    </tr>\n",
              "    <tr>\n",
              "      <th>4372</th>\n",
              "      <td>5</td>\n",
              "    </tr>\n",
              "    <tr>\n",
              "      <th>30666</th>\n",
              "      <td>1</td>\n",
              "    </tr>\n",
              "    <tr>\n",
              "      <th>6431</th>\n",
              "      <td>5</td>\n",
              "    </tr>\n",
              "    <tr>\n",
              "      <th>57420</th>\n",
              "      <td>3</td>\n",
              "    </tr>\n",
              "    <tr>\n",
              "      <th>1373</th>\n",
              "      <td>1</td>\n",
              "    </tr>\n",
              "    <tr>\n",
              "      <th>2026</th>\n",
              "      <td>1</td>\n",
              "    </tr>\n",
              "    <tr>\n",
              "      <th>58977</th>\n",
              "      <td>2</td>\n",
              "    </tr>\n",
              "    <tr>\n",
              "      <th>41101</th>\n",
              "      <td>1</td>\n",
              "    </tr>\n",
              "    <tr>\n",
              "      <th>10019</th>\n",
              "      <td>1</td>\n",
              "    </tr>\n",
              "  </tbody>\n",
              "</table>\n",
              "</div>"
            ],
            "text/plain": [
              "       extraction_type_class\n",
              "43360                      1\n",
              "7263                       1\n",
              "2486                       2\n",
              "313                        3\n",
              "52726                      4\n",
              "8558                       1\n",
              "2559                       1\n",
              "54735                      4\n",
              "25763                      2\n",
              "44540                      5\n",
              "28603                      3\n",
              "4372                       5\n",
              "30666                      1\n",
              "6431                       5\n",
              "57420                      3\n",
              "1373                       1\n",
              "2026                       1\n",
              "58977                      2\n",
              "41101                      1\n",
              "10019                      1"
            ]
          },
          "metadata": {
            "tags": []
          },
          "execution_count": 37
        }
      ]
    },
    {
      "cell_type": "markdown",
      "metadata": {
        "colab_type": "text",
        "id": "Nd-ZWprasqUM"
      },
      "source": [
        "#### Ordinal Encoding, Logistic Regression, Validation Accuracy"
      ]
    },
    {
      "cell_type": "code",
      "metadata": {
        "colab_type": "code",
        "id": "GJ1YpwjvrhfL",
        "outputId": "3098c24e-8ed4-4fed-cb4d-070154eb27e8",
        "colab": {
          "base_uri": "https://localhost:8080/",
          "height": 34
        }
      },
      "source": [
        "lr = make_pipeline(\n",
        "    ce.OrdinalEncoder(), \n",
        "    SimpleImputer(), \n",
        "    StandardScaler(), \n",
        "    LogisticRegressionCV(multi_class='auto', solver='lbfgs', cv=5, n_jobs=-1)\n",
        ")\n",
        "\n",
        "lr.fit(X_train[[feature]], y_train)\n",
        "score = lr.score(X_val[[feature]], y_val)\n",
        "print('Logistic Regression, Validation Accuracy', score)"
      ],
      "execution_count": 38,
      "outputs": [
        {
          "output_type": "stream",
          "text": [
            "Logistic Regression, Validation Accuracy 0.5417508417508418\n"
          ],
          "name": "stdout"
        }
      ]
    },
    {
      "cell_type": "markdown",
      "metadata": {
        "colab_type": "text",
        "id": "9lO_R3SksuHs"
      },
      "source": [
        "#### Ordinal Encoding, Decision Tree, Validation Accuracy"
      ]
    },
    {
      "cell_type": "code",
      "metadata": {
        "colab_type": "code",
        "id": "aOELD_roriVI",
        "outputId": "9dc0a40f-88a9-4765-d7ac-282fb7246ced",
        "colab": {
          "base_uri": "https://localhost:8080/",
          "height": 34
        }
      },
      "source": [
        "dt = make_pipeline(\n",
        "    ce.OrdinalEncoder(), \n",
        "    SimpleImputer(), \n",
        "    DecisionTreeClassifier(random_state=42)\n",
        ")\n",
        "\n",
        "dt.fit(X_train[[feature]], y_train)\n",
        "score = dt.score(X_val[[feature]], y_val)\n",
        "print('Decision Tree, Validation Accuracy', score)"
      ],
      "execution_count": 39,
      "outputs": [
        {
          "output_type": "stream",
          "text": [
            "Decision Tree, Validation Accuracy 0.6202861952861953\n"
          ],
          "name": "stdout"
        }
      ]
    },
    {
      "cell_type": "markdown",
      "metadata": {
        "colab_type": "text",
        "id": "7V2zHjiwswTg"
      },
      "source": [
        "#### Ordinal Encoding, Logistic Regression, Model Interpretation"
      ]
    },
    {
      "cell_type": "code",
      "metadata": {
        "colab_type": "code",
        "id": "S9UPYPois8QR",
        "outputId": "e77af96b-aa61-4ebd-ef64-f070086a95eb",
        "colab": {
          "base_uri": "https://localhost:8080/",
          "height": 265
        }
      },
      "source": [
        "model = lr.named_steps['logisticregressioncv']\n",
        "encoder = lr.named_steps['ordinalencoder']\n",
        "encoded_columns = encoder.transform(X_val[[feature]]).columns\n",
        "coefficients = pd.Series(model.coef_[0], encoded_columns)\n",
        "coefficients.sort_values().plot.barh(color='grey');"
      ],
      "execution_count": 40,
      "outputs": [
        {
          "output_type": "display_data",
          "data": {
            "image/png": "[encoded data removed]",
            "text/plain": [
              "<Figure size 432x288 with 1 Axes>"
            ]
          },
          "metadata": {
            "tags": []
          }
        }
      ]
    },
    {
      "cell_type": "markdown",
      "metadata": {
        "colab_type": "text",
        "id": "MvmmvE8fsymh"
      },
      "source": [
        "#### Ordinal Encoding, Decision Tree, Model Interpretation"
      ]
    },
    {
      "cell_type": "code",
      "metadata": {
        "colab_type": "code",
        "id": "jCvUu4Oms88b",
        "outputId": "9c4ac40f-3a2f-46a3-f114-b90497954857",
        "colab": {
          "base_uri": "https://localhost:8080/",
          "height": 816
        }
      },
      "source": [
        "model = dt.named_steps['decisiontreeclassifier']\n",
        "encoder = dt.named_steps['ordinalencoder']\n",
        "encoded_columns = encoder.transform(X_val[[feature]]).columns\n",
        "\n",
        "dot_data = export_graphviz(model, \n",
        "                           out_file=None, \n",
        "                           max_depth=5, \n",
        "                           feature_names=encoded_columns,\n",
        "                           class_names=model.classes_, \n",
        "                           impurity=False, \n",
        "                           filled=True, \n",
        "                           proportion=True, \n",
        "                           rounded=True)   \n",
        "display(graphviz.Source(dot_data))"
      ],
      "execution_count": 41,
      "outputs": [
        {
          "output_type": "display_data",
          "data": {
            "text/plain": [
              "<graphviz.files.Source at 0x7f4b7f195f98>"
            ],
            "image/svg+xml": "<?xml version=\"1.0\" encoding=\"UTF-8\" standalone=\"no\"?>\n<!DOCTYPE svg PUBLIC \"-//W3C//DTD SVG 1.1//EN\"\n \"http://www.w3.org/Graphics/SVG/1.1/DTD/svg11.dtd\">\n<!-- Generated by graphviz version 2.40.1 (20161225.0304)\n -->\n<!-- Title: Tree Pages: 1 -->\n<svg width=\"1167pt\" height=\"581pt\"\n viewBox=\"0.00 0.00 1167.00 581.00\" xmlns=\"http://www.w3.org/2000/svg\" xmlns:xlink=\"http://www.w3.org/1999/xlink\">\n<g id=\"graph0\" class=\"graph\" transform=\"scale(1 1) rotate(0) translate(4 577)\">\n<title>Tree</title>\n<polygon fill=\"#ffffff\" stroke=\"transparent\" points=\"-4,4 -4,-577 1163,-577 1163,4 -4,4\"/>\n<!-- 0 -->\n<g id=\"node1\" class=\"node\">\n<title>0</title>\n<path fill=\"#f8decc\" stroke=\"#000000\" d=\"M500,-573C500,-573 322,-573 322,-573 316,-573 310,-567 310,-561 310,-561 310,-517 310,-517 310,-511 316,-505 322,-505 322,-505 500,-505 500,-505 506,-505 512,-511 512,-517 512,-517 512,-561 512,-561 512,-567 506,-573 500,-573\"/>\n<text text-anchor=\"middle\" x=\"411\" y=\"-557.8\" font-family=\"Helvetica,sans-Serif\" font-size=\"14.00\" fill=\"#000000\">extraction_type_class &lt;= 2.5</text>\n<text text-anchor=\"middle\" x=\"411\" y=\"-542.8\" font-family=\"Helvetica,sans-Serif\" font-size=\"14.00\" fill=\"#000000\">samples = 100.0%</text>\n<text text-anchor=\"middle\" x=\"411\" y=\"-527.8\" font-family=\"Helvetica,sans-Serif\" font-size=\"14.00\" fill=\"#000000\">value = [0.543, 0.073, 0.384]</text>\n<text text-anchor=\"middle\" x=\"411\" y=\"-512.8\" font-family=\"Helvetica,sans-Serif\" font-size=\"14.00\" fill=\"#000000\">class = functional</text>\n</g>\n<!-- 1 -->\n<g id=\"node2\" class=\"node\">\n<title>1</title>\n<path fill=\"#f4c7a8\" stroke=\"#000000\" d=\"M390,-469C390,-469 212,-469 212,-469 206,-469 200,-463 200,-457 200,-457 200,-413 200,-413 200,-407 206,-401 212,-401 212,-401 390,-401 390,-401 396,-401 402,-407 402,-413 402,-413 402,-457 402,-457 402,-463 396,-469 390,-469\"/>\n<text text-anchor=\"middle\" x=\"301\" y=\"-453.8\" font-family=\"Helvetica,sans-Serif\" font-size=\"14.00\" fill=\"#000000\">extraction_type_class &lt;= 1.5</text>\n<text text-anchor=\"middle\" x=\"301\" y=\"-438.8\" font-family=\"Helvetica,sans-Serif\" font-size=\"14.00\" fill=\"#000000\">samples = 72.9%</text>\n<text text-anchor=\"middle\" x=\"301\" y=\"-423.8\" font-family=\"Helvetica,sans-Serif\" font-size=\"14.00\" fill=\"#000000\">value = [0.611, 0.085, 0.304]</text>\n<text text-anchor=\"middle\" x=\"301\" y=\"-408.8\" font-family=\"Helvetica,sans-Serif\" font-size=\"14.00\" fill=\"#000000\">class = functional</text>\n</g>\n<!-- 0&#45;&gt;1 -->\n<g id=\"edge1\" class=\"edge\">\n<title>0&#45;&gt;1</title>\n<path fill=\"none\" stroke=\"#000000\" d=\"M374.9819,-504.9465C365.2954,-495.7884 354.7136,-485.7838 344.6603,-476.2788\"/>\n<polygon fill=\"#000000\" stroke=\"#000000\" points=\"346.7701,-473.4569 337.099,-469.13 341.961,-478.5434 346.7701,-473.4569\"/>\n<text text-anchor=\"middle\" x=\"337.7997\" y=\"-490.4202\" font-family=\"Helvetica,sans-Serif\" font-size=\"14.00\" fill=\"#000000\">True</text>\n</g>\n<!-- 4 -->\n<g id=\"node5\" class=\"node\">\n<title>4</title>\n<path fill=\"#d0b4f5\" stroke=\"#000000\" d=\"M610,-469C610,-469 432,-469 432,-469 426,-469 420,-463 420,-457 420,-457 420,-413 420,-413 420,-407 426,-401 432,-401 432,-401 610,-401 610,-401 616,-401 622,-407 622,-413 622,-413 622,-457 622,-457 622,-463 616,-469 610,-469\"/>\n<text text-anchor=\"middle\" x=\"521\" y=\"-453.8\" font-family=\"Helvetica,sans-Serif\" font-size=\"14.00\" fill=\"#000000\">extraction_type_class &lt;= 3.5</text>\n<text text-anchor=\"middle\" x=\"521\" y=\"-438.8\" font-family=\"Helvetica,sans-Serif\" font-size=\"14.00\" fill=\"#000000\">samples = 27.1%</text>\n<text text-anchor=\"middle\" x=\"521\" y=\"-423.8\" font-family=\"Helvetica,sans-Serif\" font-size=\"14.00\" fill=\"#000000\">value = [0.361, 0.038, 0.601]</text>\n<text text-anchor=\"middle\" x=\"521\" y=\"-408.8\" font-family=\"Helvetica,sans-Serif\" font-size=\"14.00\" fill=\"#000000\">class = non functional</text>\n</g>\n<!-- 0&#45;&gt;4 -->\n<g id=\"edge4\" class=\"edge\">\n<title>0&#45;&gt;4</title>\n<path fill=\"none\" stroke=\"#000000\" d=\"M447.0181,-504.9465C456.7046,-495.7884 467.2864,-485.7838 477.3397,-476.2788\"/>\n<polygon fill=\"#000000\" stroke=\"#000000\" points=\"480.039,-478.5434 484.901,-469.13 475.2299,-473.4569 480.039,-478.5434\"/>\n<text text-anchor=\"middle\" x=\"484.2003\" y=\"-490.4202\" font-family=\"Helvetica,sans-Serif\" font-size=\"14.00\" fill=\"#000000\">False</text>\n</g>\n<!-- 2 -->\n<g id=\"node3\" class=\"node\">\n<title>2</title>\n<path fill=\"#f4c9aa\" stroke=\"#000000\" d=\"M188,-357.5C188,-357.5 12,-357.5 12,-357.5 6,-357.5 0,-351.5 0,-345.5 0,-345.5 0,-316.5 0,-316.5 0,-310.5 6,-304.5 12,-304.5 12,-304.5 188,-304.5 188,-304.5 194,-304.5 200,-310.5 200,-316.5 200,-316.5 200,-345.5 200,-345.5 200,-351.5 194,-357.5 188,-357.5\"/>\n<text text-anchor=\"middle\" x=\"100\" y=\"-342.3\" font-family=\"Helvetica,sans-Serif\" font-size=\"14.00\" fill=\"#000000\">samples = 45.1%</text>\n<text text-anchor=\"middle\" x=\"100\" y=\"-327.3\" font-family=\"Helvetica,sans-Serif\" font-size=\"14.00\" fill=\"#000000\">value = [0.599, 0.101, 0.299]</text>\n<text text-anchor=\"middle\" x=\"100\" y=\"-312.3\" font-family=\"Helvetica,sans-Serif\" font-size=\"14.00\" fill=\"#000000\">class = functional</text>\n</g>\n<!-- 1&#45;&gt;2 -->\n<g id=\"edge2\" class=\"edge\">\n<title>1&#45;&gt;2</title>\n<path fill=\"none\" stroke=\"#000000\" d=\"M235.1851,-400.9465C211.1292,-388.4997 184.0513,-374.4892 160.4827,-362.2946\"/>\n<polygon fill=\"#000000\" stroke=\"#000000\" points=\"161.7878,-359.0291 151.2978,-357.5422 158.571,-365.2462 161.7878,-359.0291\"/>\n</g>\n<!-- 3 -->\n<g id=\"node4\" class=\"node\">\n<title>3</title>\n<path fill=\"#f3c5a3\" stroke=\"#000000\" d=\"M382,-357.5C382,-357.5 230,-357.5 230,-357.5 224,-357.5 218,-351.5 218,-345.5 218,-345.5 218,-316.5 218,-316.5 218,-310.5 224,-304.5 230,-304.5 230,-304.5 382,-304.5 382,-304.5 388,-304.5 394,-310.5 394,-316.5 394,-316.5 394,-345.5 394,-345.5 394,-351.5 388,-357.5 382,-357.5\"/>\n<text text-anchor=\"middle\" x=\"306\" y=\"-342.3\" font-family=\"Helvetica,sans-Serif\" font-size=\"14.00\" fill=\"#000000\">samples = 27.7%</text>\n<text text-anchor=\"middle\" x=\"306\" y=\"-327.3\" font-family=\"Helvetica,sans-Serif\" font-size=\"14.00\" fill=\"#000000\">value = [0.63, 0.06, 0.31]</text>\n<text text-anchor=\"middle\" x=\"306\" y=\"-312.3\" font-family=\"Helvetica,sans-Serif\" font-size=\"14.00\" fill=\"#000000\">class = functional</text>\n</g>\n<!-- 1&#45;&gt;3 -->\n<g id=\"edge3\" class=\"edge\">\n<title>1&#45;&gt;3</title>\n<path fill=\"none\" stroke=\"#000000\" d=\"M302.6372,-400.9465C303.1509,-390.2621 303.7199,-378.4254 304.2416,-367.5742\"/>\n<polygon fill=\"#000000\" stroke=\"#000000\" points=\"307.7396,-367.6987 304.7239,-357.5422 300.7477,-367.3625 307.7396,-367.6987\"/>\n</g>\n<!-- 5 -->\n<g id=\"node6\" class=\"node\">\n<title>5</title>\n<path fill=\"#9d66eb\" stroke=\"#000000\" d=\"M601,-357.5C601,-357.5 433,-357.5 433,-357.5 427,-357.5 421,-351.5 421,-345.5 421,-345.5 421,-316.5 421,-316.5 421,-310.5 427,-304.5 433,-304.5 433,-304.5 601,-304.5 601,-304.5 607,-304.5 613,-310.5 613,-316.5 613,-316.5 613,-345.5 613,-345.5 613,-351.5 607,-357.5 601,-357.5\"/>\n<text text-anchor=\"middle\" x=\"517\" y=\"-342.3\" font-family=\"Helvetica,sans-Serif\" font-size=\"14.00\" fill=\"#000000\">samples = 10.9%</text>\n<text text-anchor=\"middle\" x=\"517\" y=\"-327.3\" font-family=\"Helvetica,sans-Serif\" font-size=\"14.00\" fill=\"#000000\">value = [0.159, 0.031, 0.81]</text>\n<text text-anchor=\"middle\" x=\"517\" y=\"-312.3\" font-family=\"Helvetica,sans-Serif\" font-size=\"14.00\" fill=\"#000000\">class = non functional</text>\n</g>\n<!-- 4&#45;&gt;5 -->\n<g id=\"edge5\" class=\"edge\">\n<title>4&#45;&gt;5</title>\n<path fill=\"none\" stroke=\"#000000\" d=\"M519.6903,-400.9465C519.2793,-390.2621 518.8241,-378.4254 518.4067,-367.5742\"/>\n<polygon fill=\"#000000\" stroke=\"#000000\" points=\"521.9027,-367.4002 518.0209,-357.5422 514.9079,-367.6693 521.9027,-367.4002\"/>\n</g>\n<!-- 6 -->\n<g id=\"node7\" class=\"node\">\n<title>6</title>\n<path fill=\"#fdf7f2\" stroke=\"#000000\" d=\"M821,-365C821,-365 643,-365 643,-365 637,-365 631,-359 631,-353 631,-353 631,-309 631,-309 631,-303 637,-297 643,-297 643,-297 821,-297 821,-297 827,-297 833,-303 833,-309 833,-309 833,-353 833,-353 833,-359 827,-365 821,-365\"/>\n<text text-anchor=\"middle\" x=\"732\" y=\"-349.8\" font-family=\"Helvetica,sans-Serif\" font-size=\"14.00\" fill=\"#000000\">extraction_type_class &lt;= 4.5</text>\n<text text-anchor=\"middle\" x=\"732\" y=\"-334.8\" font-family=\"Helvetica,sans-Serif\" font-size=\"14.00\" fill=\"#000000\">samples = 16.2%</text>\n<text text-anchor=\"middle\" x=\"732\" y=\"-319.8\" font-family=\"Helvetica,sans-Serif\" font-size=\"14.00\" fill=\"#000000\">value = [0.497, 0.043, 0.46]</text>\n<text text-anchor=\"middle\" x=\"732\" y=\"-304.8\" font-family=\"Helvetica,sans-Serif\" font-size=\"14.00\" fill=\"#000000\">class = functional</text>\n</g>\n<!-- 4&#45;&gt;6 -->\n<g id=\"edge6\" class=\"edge\">\n<title>4&#45;&gt;6</title>\n<path fill=\"none\" stroke=\"#000000\" d=\"M590.0893,-400.9465C610.4002,-390.9354 632.7633,-379.9129 653.6112,-369.6371\"/>\n<polygon fill=\"#000000\" stroke=\"#000000\" points=\"655.3332,-372.6905 662.7555,-365.13 652.2385,-366.4117 655.3332,-372.6905\"/>\n</g>\n<!-- 7 -->\n<g id=\"node8\" class=\"node\">\n<title>7</title>\n<path fill=\"#d8c1f7\" stroke=\"#000000\" d=\"M710,-253.5C710,-253.5 534,-253.5 534,-253.5 528,-253.5 522,-247.5 522,-241.5 522,-241.5 522,-212.5 522,-212.5 522,-206.5 528,-200.5 534,-200.5 534,-200.5 710,-200.5 710,-200.5 716,-200.5 722,-206.5 722,-212.5 722,-212.5 722,-241.5 722,-241.5 722,-247.5 716,-253.5 710,-253.5\"/>\n<text text-anchor=\"middle\" x=\"622\" y=\"-238.3\" font-family=\"Helvetica,sans-Serif\" font-size=\"14.00\" fill=\"#000000\">samples = 5.0%</text>\n<text text-anchor=\"middle\" x=\"622\" y=\"-223.3\" font-family=\"Helvetica,sans-Serif\" font-size=\"14.00\" fill=\"#000000\">value = [0.381, 0.045, 0.574]</text>\n<text text-anchor=\"middle\" x=\"622\" y=\"-208.3\" font-family=\"Helvetica,sans-Serif\" font-size=\"14.00\" fill=\"#000000\">class = non functional</text>\n</g>\n<!-- 6&#45;&gt;7 -->\n<g id=\"edge7\" class=\"edge\">\n<title>6&#45;&gt;7</title>\n<path fill=\"none\" stroke=\"#000000\" d=\"M695.9819,-296.9465C683.6325,-285.2707 669.8278,-272.219 657.5183,-260.5809\"/>\n<polygon fill=\"#000000\" stroke=\"#000000\" points=\"659.7445,-257.869 650.0734,-253.5422 654.9354,-262.9556 659.7445,-257.869\"/>\n</g>\n<!-- 8 -->\n<g id=\"node9\" class=\"node\">\n<title>8</title>\n<path fill=\"#f9e2d1\" stroke=\"#000000\" d=\"M930,-261C930,-261 752,-261 752,-261 746,-261 740,-255 740,-249 740,-249 740,-205 740,-205 740,-199 746,-193 752,-193 752,-193 930,-193 930,-193 936,-193 942,-199 942,-205 942,-205 942,-249 942,-249 942,-255 936,-261 930,-261\"/>\n<text text-anchor=\"middle\" x=\"841\" y=\"-245.8\" font-family=\"Helvetica,sans-Serif\" font-size=\"14.00\" fill=\"#000000\">extraction_type_class &lt;= 5.5</text>\n<text text-anchor=\"middle\" x=\"841\" y=\"-230.8\" font-family=\"Helvetica,sans-Serif\" font-size=\"14.00\" fill=\"#000000\">samples = 11.2%</text>\n<text text-anchor=\"middle\" x=\"841\" y=\"-215.8\" font-family=\"Helvetica,sans-Serif\" font-size=\"14.00\" fill=\"#000000\">value = [0.548, 0.042, 0.41]</text>\n<text text-anchor=\"middle\" x=\"841\" y=\"-200.8\" font-family=\"Helvetica,sans-Serif\" font-size=\"14.00\" fill=\"#000000\">class = functional</text>\n</g>\n<!-- 6&#45;&gt;8 -->\n<g id=\"edge8\" class=\"edge\">\n<title>6&#45;&gt;8</title>\n<path fill=\"none\" stroke=\"#000000\" d=\"M767.6907,-296.9465C777.2891,-287.7884 787.7747,-277.7838 797.7366,-268.2788\"/>\n<polygon fill=\"#000000\" stroke=\"#000000\" points=\"800.4102,-270.5655 805.2291,-261.13 795.5779,-265.5009 800.4102,-270.5655\"/>\n</g>\n<!-- 9 -->\n<g id=\"node10\" class=\"node\">\n<title>9</title>\n<path fill=\"#f9e4d5\" stroke=\"#000000\" d=\"M819,-149.5C819,-149.5 643,-149.5 643,-149.5 637,-149.5 631,-143.5 631,-137.5 631,-137.5 631,-108.5 631,-108.5 631,-102.5 637,-96.5 643,-96.5 643,-96.5 819,-96.5 819,-96.5 825,-96.5 831,-102.5 831,-108.5 831,-108.5 831,-137.5 831,-137.5 831,-143.5 825,-149.5 819,-149.5\"/>\n<text text-anchor=\"middle\" x=\"731\" y=\"-134.3\" font-family=\"Helvetica,sans-Serif\" font-size=\"14.00\" fill=\"#000000\">samples = 10.3%</text>\n<text text-anchor=\"middle\" x=\"731\" y=\"-119.3\" font-family=\"Helvetica,sans-Serif\" font-size=\"14.00\" fill=\"#000000\">value = [0.541, 0.042, 0.416]</text>\n<text text-anchor=\"middle\" x=\"731\" y=\"-104.3\" font-family=\"Helvetica,sans-Serif\" font-size=\"14.00\" fill=\"#000000\">class = functional</text>\n</g>\n<!-- 8&#45;&gt;9 -->\n<g id=\"edge9\" class=\"edge\">\n<title>8&#45;&gt;9</title>\n<path fill=\"none\" stroke=\"#000000\" d=\"M804.9819,-192.9465C792.6325,-181.2707 778.8278,-168.219 766.5183,-156.5809\"/>\n<polygon fill=\"#000000\" stroke=\"#000000\" points=\"768.7445,-153.869 759.0734,-149.5422 763.9354,-158.9556 768.7445,-153.869\"/>\n</g>\n<!-- 10 -->\n<g id=\"node11\" class=\"node\">\n<title>10</title>\n<path fill=\"#f4cbad\" stroke=\"#000000\" d=\"M1039,-157C1039,-157 861,-157 861,-157 855,-157 849,-151 849,-145 849,-145 849,-101 849,-101 849,-95 855,-89 861,-89 861,-89 1039,-89 1039,-89 1045,-89 1051,-95 1051,-101 1051,-101 1051,-145 1051,-145 1051,-151 1045,-157 1039,-157\"/>\n<text text-anchor=\"middle\" x=\"950\" y=\"-141.8\" font-family=\"Helvetica,sans-Serif\" font-size=\"14.00\" fill=\"#000000\">extraction_type_class &lt;= 6.5</text>\n<text text-anchor=\"middle\" x=\"950\" y=\"-126.8\" font-family=\"Helvetica,sans-Serif\" font-size=\"14.00\" fill=\"#000000\">samples = 0.9%</text>\n<text text-anchor=\"middle\" x=\"950\" y=\"-111.8\" font-family=\"Helvetica,sans-Serif\" font-size=\"14.00\" fill=\"#000000\">value = [0.614, 0.043, 0.343]</text>\n<text text-anchor=\"middle\" x=\"950\" y=\"-96.8\" font-family=\"Helvetica,sans-Serif\" font-size=\"14.00\" fill=\"#000000\">class = functional</text>\n</g>\n<!-- 8&#45;&gt;10 -->\n<g id=\"edge10\" class=\"edge\">\n<title>8&#45;&gt;10</title>\n<path fill=\"none\" stroke=\"#000000\" d=\"M876.6907,-192.9465C886.2891,-183.7884 896.7747,-173.7838 906.7366,-164.2788\"/>\n<polygon fill=\"#000000\" stroke=\"#000000\" points=\"909.4102,-166.5655 914.2291,-157.13 904.5779,-161.5009 909.4102,-166.5655\"/>\n</g>\n<!-- 11 -->\n<g id=\"node12\" class=\"node\">\n<title>11</title>\n<path fill=\"#f2bf9b\" stroke=\"#000000\" d=\"M929,-53C929,-53 753,-53 753,-53 747,-53 741,-47 741,-41 741,-41 741,-12 741,-12 741,-6 747,0 753,0 753,0 929,0 929,0 935,0 941,-6 941,-12 941,-12 941,-41 941,-41 941,-47 935,-53 929,-53\"/>\n<text text-anchor=\"middle\" x=\"841\" y=\"-37.8\" font-family=\"Helvetica,sans-Serif\" font-size=\"14.00\" fill=\"#000000\">samples = 0.7%</text>\n<text text-anchor=\"middle\" x=\"841\" y=\"-22.8\" font-family=\"Helvetica,sans-Serif\" font-size=\"14.00\" fill=\"#000000\">value = [0.657, 0.037, 0.306]</text>\n<text text-anchor=\"middle\" x=\"841\" y=\"-7.8\" font-family=\"Helvetica,sans-Serif\" font-size=\"14.00\" fill=\"#000000\">class = functional</text>\n</g>\n<!-- 10&#45;&gt;11 -->\n<g id=\"edge11\" class=\"edge\">\n<title>10&#45;&gt;11</title>\n<path fill=\"none\" stroke=\"#000000\" d=\"M911.5707,-88.9777C900.9173,-79.546 889.3641,-69.3178 878.7499,-59.9208\"/>\n<polygon fill=\"#000000\" stroke=\"#000000\" points=\"881.0207,-57.2566 871.2133,-53.2485 876.3806,-62.4978 881.0207,-57.2566\"/>\n</g>\n<!-- 12 -->\n<g id=\"node13\" class=\"node\">\n<title>12</title>\n<path fill=\"#f8f3fd\" stroke=\"#000000\" d=\"M1147,-53C1147,-53 971,-53 971,-53 965,-53 959,-47 959,-41 959,-41 959,-12 959,-12 959,-6 965,0 971,0 971,0 1147,0 1147,0 1153,0 1159,-6 1159,-12 1159,-12 1159,-41 1159,-41 1159,-47 1153,-53 1147,-53\"/>\n<text text-anchor=\"middle\" x=\"1059\" y=\"-37.8\" font-family=\"Helvetica,sans-Serif\" font-size=\"14.00\" fill=\"#000000\">samples = 0.2%</text>\n<text text-anchor=\"middle\" x=\"1059\" y=\"-22.8\" font-family=\"Helvetica,sans-Serif\" font-size=\"14.00\" fill=\"#000000\">value = [0.452, 0.065, 0.484]</text>\n<text text-anchor=\"middle\" x=\"1059\" y=\"-7.8\" font-family=\"Helvetica,sans-Serif\" font-size=\"14.00\" fill=\"#000000\">class = non functional</text>\n</g>\n<!-- 10&#45;&gt;12 -->\n<g id=\"edge12\" class=\"edge\">\n<title>10&#45;&gt;12</title>\n<path fill=\"none\" stroke=\"#000000\" d=\"M988.4293,-88.9777C999.0827,-79.546 1010.6359,-69.3178 1021.2501,-59.9208\"/>\n<polygon fill=\"#000000\" stroke=\"#000000\" points=\"1023.6194,-62.4978 1028.7867,-53.2485 1018.9793,-57.2566 1023.6194,-62.4978\"/>\n</g>\n</g>\n</svg>\n"
          },
          "metadata": {
            "tags": []
          }
        }
      ]
    },
    {
      "cell_type": "markdown",
      "metadata": {
        "colab_type": "text",
        "id": "P4EJi2GvgLVa"
      },
      "source": [
        "# Understand how tree ensembles reduce overfitting compared to a single decision tree with unlimited depth"
      ]
    },
    {
      "cell_type": "markdown",
      "metadata": {
        "id": "cvcKjEvwNiuH",
        "colab_type": "text"
      },
      "source": [
        "## Overview"
      ]
    },
    {
      "cell_type": "markdown",
      "metadata": {
        "colab_type": "text",
        "id": "0nNABF3HgLVg"
      },
      "source": [
        "### What's \"random\" about random forests?\n",
        "1. Each tree trains on a random bootstrap sample of the data. (In scikit-learn, for `RandomForestRegressor` and `RandomForestClassifier`, the `bootstrap` parameter's default is `True`.) This type of ensembling is called Bagging. (Bootstrap AGGregatING.)\n",
        "2. Each split considers a random subset of the features. (In scikit-learn, when the `max_features` parameter is not `None`.) \n",
        "\n",
        "For extra randomness, you can try [\"extremely randomized trees\"](https://scikit-learn.org/stable/modules/ensemble.html#extremely-randomized-trees)!\n",
        "\n",
        ">In extremely randomized trees (see [ExtraTreesClassifier](https://scikit-learn.org/stable/modules/generated/sklearn.ensemble.ExtraTreesClassifier.html) and [ExtraTreesRegressor](https://scikit-learn.org/stable/modules/generated/sklearn.ensemble.ExtraTreesRegressor.html) classes), randomness goes one step further in the way splits are computed. As in random forests, a random subset of candidate features is used, but instead of looking for the most discriminative thresholds, thresholds are drawn at random for each candidate feature and the best of these randomly-generated thresholds is picked as the splitting rule. This usually allows to reduce the variance of the model a bit more, at the expense of a slightly greater increase in bias"
      ]
    },
    {
      "cell_type": "markdown",
      "metadata": {
        "id": "hKU5qjf2NiuJ",
        "colab_type": "text"
      },
      "source": [
        "## Follow Along"
      ]
    },
    {
      "cell_type": "markdown",
      "metadata": {
        "colab_type": "text",
        "id": "pUYP619CgLVb"
      },
      "source": [
        "### Example: [predicting golf putts](https://statmodeling.stat.columbia.edu/2008/12/04/the_golf_puttin/)\n",
        "(1 feature, non-linear, regression)"
      ]
    },
    {
      "cell_type": "code",
      "metadata": {
        "colab_type": "code",
        "id": "b4640ukxgLVc",
        "colab": {}
      },
      "source": [
        "putts = pd.DataFrame(\n",
        "    columns=['distance', 'tries', 'successes'], \n",
        "    data = [[2, 1443, 1346],\n",
        "            [3, 694, 577],\n",
        "            [4, 455, 337],\n",
        "            [5, 353, 208],\n",
        "            [6, 272, 149],\n",
        "            [7, 256, 136],\n",
        "            [8, 240, 111],\n",
        "            [9, 217, 69],\n",
        "            [10, 200, 67],\n",
        "            [11, 237, 75],\n",
        "            [12, 202, 52],\n",
        "            [13, 192, 46],\n",
        "            [14, 174, 54],\n",
        "            [15, 167, 28],\n",
        "            [16, 201, 27],\n",
        "            [17, 195, 31],\n",
        "            [18, 191, 33],\n",
        "            [19, 147, 20],\n",
        "            [20, 152, 24]]\n",
        ")\n",
        "\n",
        "putts['rate of success'] = putts['successes'] / putts['tries']\n",
        "putts_X = putts[['distance']]\n",
        "putts_y = putts['rate of success']"
      ],
      "execution_count": 0,
      "outputs": []
    },
    {
      "cell_type": "code",
      "metadata": {
        "colab_type": "code",
        "id": "T0IpCcKggLVd",
        "outputId": "846ac764-6c4a-42b8-d599-6a735be3018f",
        "colab": {
          "base_uri": "https://localhost:8080/",
          "height": 637,
          "referenced_widgets": [
            "5e83846a785a4159b74ce0b0a9161988",
            "298e53a639214fb88bde568ebd8b1207",
            "8a2f3dace721430787adf04945446520",
            "0af5f91f4a6740e7bda80ed6d7971c47",
            "0fed1678433d4dae94726f3c371b9afa",
            "13382b39a71e41d8adbe6363ab0ac2d6",
            "be7a9fe862a444e89b529e1d1b916eb2",
            "ca99a7f2f4104efc97711f7219e23229",
            "d1818db8b2ca4b9b96ddbad35d937e87"
          ]
        }
      },
      "source": [
        "%matplotlib inline\n",
        "import matplotlib.pyplot as plt\n",
        "from ipywidgets import interact\n",
        "from sklearn.ensemble import RandomForestRegressor\n",
        "from sklearn.tree import DecisionTreeRegressor\n",
        "\n",
        "def putt_trees(max_depth=1, n_estimators=1):\n",
        "    models = [DecisionTreeRegressor(max_depth=max_depth), \n",
        "              RandomForestRegressor(max_depth=max_depth, n_estimators=n_estimators)]\n",
        "    \n",
        "    for model in models:\n",
        "        name = model.__class__.__name__\n",
        "        model.fit(putts_X, putts_y)\n",
        "        ax = putts.plot('distance', 'rate of success', kind='scatter', title=name)\n",
        "        ax.step(putts_X, model.predict(putts_X), where='mid')\n",
        "        plt.show()\n",
        "        \n",
        "interact(putt_trees, max_depth=(1,6,1), n_estimators=(10,40,10));"
      ],
      "execution_count": 43,
      "outputs": [
        {
          "output_type": "display_data",
          "data": {
            "application/vnd.jupyter.widget-view+json": {
              "model_id": "5e83846a785a4159b74ce0b0a9161988",
              "version_minor": 0,
              "version_major": 2
            },
            "text/plain": [
              "interactive(children=(IntSlider(value=1, description='max_depth', max=6, min=1), IntSlider(value=10, descripti…"
            ]
          },
          "metadata": {
            "tags": []
          }
        }
      ]
    },
    {
      "cell_type": "markdown",
      "metadata": {
        "colab_type": "text",
        "id": "_KgZK9_9gLVh"
      },
      "source": [
        "### Bagging demo, with golf putts data\n",
        "https://pandas.pydata.org/pandas-docs/stable/reference/api/pandas.DataFrame.sample.html"
      ]
    },
    {
      "cell_type": "code",
      "metadata": {
        "colab_type": "code",
        "id": "vA9mrSTNgLVi",
        "outputId": "a388689e-3ebd-4375-c40a-71bb9fda629a",
        "scrolled": false,
        "colab": {
          "base_uri": "https://localhost:8080/",
          "height": 1000,
          "referenced_widgets": [
            "ac24be8c03de43e296574aa9d401f4b4",
            "5832d276c12e429985f9a410e9242745",
            "dfe1c84b74154a4fbeab1042a2c149f7",
            "de3df508ccd94a138c00c9697653f98b",
            "329d9db8853a441da6bb9d253c22883b",
            "2475c1413d2c41e9af97c3ebfde02845",
            "054b018c4c0740309dde37daae481b6c",
            "d962fc9cc5044a188d1e5e569b338f6e",
            "5185e779d3214aa1a19c986b07c9da1b"
          ]
        }
      },
      "source": [
        "# Do-it-yourself Bagging Ensemble of Decision Trees (like a Random Forest)\n",
        "def diy_bagging(max_depth=1, n_estimators=1):\n",
        "    y_preds = []\n",
        "    for i in range(n_estimators):\n",
        "        title = f'Tree {i+1}'\n",
        "        bootstrap_sample = putts.sample(n=len(putts), replace=True).sort_values(by='distance')\n",
        "        bootstrap_X = bootstrap_sample[['distance']]\n",
        "        bootstrap_y = bootstrap_sample['rate of success']\n",
        "        tree = DecisionTreeRegressor(max_depth=max_depth)\n",
        "        tree.fit(bootstrap_X, bootstrap_y)\n",
        "        y_pred = tree.predict(bootstrap_X)\n",
        "        y_preds.append(y_pred)\n",
        "        ax = bootstrap_sample.plot('distance', 'rate of success', kind='scatter', title=title)\n",
        "        ax.step(bootstrap_X, y_pred, where='mid')\n",
        "        plt.show()\n",
        "        \n",
        "    ensembled = np.vstack(y_preds).mean(axis=0)\n",
        "    title = f'Ensemble of {n_estimators} trees, with max_depth={max_depth}'\n",
        "    ax = putts.plot('distance', 'rate of success', kind='scatter', title=title)\n",
        "    ax.step(putts_X, ensembled, where='mid')\n",
        "    plt.show()\n",
        "    \n",
        "interact(diy_bagging, max_depth=(1,6,1), n_estimators=(2,5,1));"
      ],
      "execution_count": 44,
      "outputs": [
        {
          "output_type": "display_data",
          "data": {
            "application/vnd.jupyter.widget-view+json": {
              "model_id": "ac24be8c03de43e296574aa9d401f4b4",
              "version_minor": 0,
              "version_major": 2
            },
            "text/plain": [
              "interactive(children=(IntSlider(value=1, description='max_depth', max=6, min=1), IntSlider(value=2, descriptio…"
            ]
          },
          "metadata": {
            "tags": []
          }
        }
      ]
    },
    {
      "cell_type": "markdown",
      "metadata": {
        "colab_type": "text",
        "id": "rq4Z_wQ_gLVj"
      },
      "source": [
        "### Go back to Tanzania Waterpumps ..."
      ]
    },
    {
      "cell_type": "markdown",
      "metadata": {
        "colab_type": "text",
        "id": "FoSE9iT6YXQz"
      },
      "source": [
        "#### Helper function to visualize predicted probabilities\n",
        "\n"
      ]
    },
    {
      "cell_type": "code",
      "metadata": {
        "colab_type": "code",
        "id": "HzIAjGpJgLVj",
        "colab": {}
      },
      "source": [
        "import itertools\n",
        "import seaborn as sns\n",
        "\n",
        "def pred_heatmap(model, X, features, class_index=-1, title='', num=100):\n",
        "    \"\"\"\n",
        "    Visualize predicted probabilities, for classifier fit on 2 numeric features\n",
        "    \n",
        "    Parameters\n",
        "    ----------\n",
        "    model : scikit-learn classifier, already fit\n",
        "    X : pandas dataframe, which was used to fit model\n",
        "    features : list of strings, column names of the 2 numeric features\n",
        "    class_index : integer, index of class label\n",
        "    title : string, title of plot\n",
        "    num : int, number of grid points for each feature\n",
        "    \n",
        "    Returns\n",
        "    -------\n",
        "    y_pred_proba : numpy array, predicted probabilities for class_index\n",
        "    \"\"\"\n",
        "    feature1, feature2 = features\n",
        "    min1, max1 = X[feature1].min(), X[feature1].max()\n",
        "    min2, max2 = X[feature2].min(), X[feature2].max()\n",
        "    x1 = np.linspace(min1, max1, num)\n",
        "    x2 = np.linspace(max2, min2, num)\n",
        "    combos = list(itertools.product(x1, x2))\n",
        "    y_pred_proba = model.predict_proba(combos)[:, class_index]\n",
        "    pred_grid = y_pred_proba.reshape(num, num).T\n",
        "    table = pd.DataFrame(pred_grid, columns=x1, index=x2)\n",
        "    sns.heatmap(table, vmin=0, vmax=1)\n",
        "    plt.xticks([])\n",
        "    plt.yticks([])\n",
        "    plt.xlabel(feature1)\n",
        "    plt.ylabel(feature2)\n",
        "    plt.title(title)\n",
        "    plt.show()\n",
        "    return y_pred_proba\n"
      ],
      "execution_count": 0,
      "outputs": []
    },
    {
      "cell_type": "markdown",
      "metadata": {
        "colab_type": "text",
        "id": "DiRfPqHjgLVl"
      },
      "source": [
        "### Compare Decision Tree, Random Forest, Logistic Regression"
      ]
    },
    {
      "cell_type": "code",
      "metadata": {
        "colab_type": "code",
        "id": "HKkMLXhMgLVl",
        "outputId": "8b34dfba-fe55-4374-f40c-83c5a7aa2741",
        "colab": {
          "base_uri": "https://localhost:8080/",
          "height": 864,
          "referenced_widgets": [
            "a7f4defaf873455cbd2573fb2c672f19",
            "154312a710624b28995e395262ece202",
            "e1c8895040454f0fb42ef71d9349cc92",
            "b9a1f803f76042eca157130eafe4c5eb",
            "85265c3609b34a8eb7164bf535952e75",
            "6574690127874d71808454e718140981",
            "f901cab1de4848cfa33daccae14c0f40",
            "70ff9168a3e343d0a2956928ae82621c",
            "44507d54aeda41b2be865a2d466136b8"
          ]
        }
      },
      "source": [
        "# Instructions\n",
        "# 1. Choose two features\n",
        "# 2. Run this code cell\n",
        "# 3. Interact with the widget sliders\n",
        "feature1 = 'longitude'\n",
        "feature2 = 'quantity'\n",
        "\n",
        "from sklearn.linear_model import LogisticRegression\n",
        "from sklearn.tree import DecisionTreeClassifier\n",
        "\n",
        "def get_X_y(df, feature1, feature2, target):\n",
        "    features = [feature1, feature2]\n",
        "    X = df[features]\n",
        "    y = df[target]\n",
        "    X = X.fillna(X.median())\n",
        "    X = ce.OrdinalEncoder().fit_transform(X)\n",
        "    return X, y\n",
        "\n",
        "def compare_models(max_depth=1, n_estimators=1):\n",
        "    models = [DecisionTreeClassifier(max_depth=max_depth), \n",
        "              RandomForestClassifier(max_depth=max_depth, n_estimators=n_estimators), \n",
        "              LogisticRegression(solver='lbfgs', multi_class='auto')]\n",
        "    \n",
        "    for model in models:\n",
        "        name = model.__class__.__name__\n",
        "        model.fit(X, y)\n",
        "        pred_heatmap(model, X, [feature1, feature2], class_index=0, title=name)\n",
        "\n",
        "X, y = get_X_y(train, feature1, feature2, target='status_group')\n",
        "interact(compare_models, max_depth=(1,6,1), n_estimators=(10,40,10));"
      ],
      "execution_count": 47,
      "outputs": [
        {
          "output_type": "display_data",
          "data": {
            "application/vnd.jupyter.widget-view+json": {
              "model_id": "a7f4defaf873455cbd2573fb2c672f19",
              "version_minor": 0,
              "version_major": 2
            },
            "text/plain": [
              "interactive(children=(IntSlider(value=1, description='max_depth', max=6, min=1), IntSlider(value=10, descripti…"
            ]
          },
          "metadata": {
            "tags": []
          }
        }
      ]
    },
    {
      "cell_type": "markdown",
      "metadata": {
        "colab_type": "text",
        "id": "hOQqjLEDgLVn"
      },
      "source": [
        "### Bagging"
      ]
    },
    {
      "cell_type": "code",
      "metadata": {
        "colab_type": "code",
        "id": "Hm4aPgs2gLVn",
        "outputId": "aac30950-9429-4e01-b820-095f7b39044f",
        "colab": {
          "base_uri": "https://localhost:8080/",
          "height": 1000,
          "referenced_widgets": [
            "28feb077432a4e95827a8f117c1e12bf",
            "71d4e8b84baa4966a70c8437f5d37925",
            "9f822aca9c914ca492dc863e7b65b23c",
            "8bee207b8a5b408182615e9a6ba7b16e",
            "3b664f0c812e43128b6384e59e6251eb",
            "be27cd5dd0fa46329ae07f658cd728ec",
            "5479afb84de84761b190677a86a466e0",
            "8e900357f9c649d7ad9be3557aa2a357",
            "97ca8f1c00764d6fb20a470e1bf8889f"
          ]
        }
      },
      "source": [
        "# Do-it-yourself Bagging Ensemble of Decision Trees (like a Random Forest)\n",
        "\n",
        "# Instructions\n",
        "# 1. Choose two features\n",
        "# 2. Run this code cell\n",
        "# 3. Interact with the widget sliders\n",
        "\n",
        "feature1 = 'longitude'\n",
        "feature2 = 'latitude'\n",
        "\n",
        "def waterpumps_bagging(max_depth=1, n_estimators=1):\n",
        "    predicteds = []\n",
        "    for i in range(n_estimators):\n",
        "        title = f'Tree {i+1}'\n",
        "        bootstrap_sample = train.sample(n=len(train), replace=True)\n",
        "        X, y = get_X_y(bootstrap_sample, feature1, feature2, target='status_group')\n",
        "        tree = DecisionTreeClassifier(max_depth=max_depth)\n",
        "        tree.fit(X, y)\n",
        "        predicted = pred_heatmap(tree, X, [feature1, feature2], class_index=0, title=title)\n",
        "        predicteds.append(predicted)\n",
        "    \n",
        "    ensembled = np.vstack(predicteds).mean(axis=0)\n",
        "    title = f'Ensemble of {n_estimators} trees, with max_depth={max_depth}'\n",
        "    sns.heatmap(ensembled.reshape(100, 100).T, vmin=0, vmax=1)\n",
        "    plt.title(title)\n",
        "    plt.xlabel(feature1)\n",
        "    plt.ylabel(feature2)\n",
        "    plt.xticks([])\n",
        "    plt.yticks([])\n",
        "    plt.show()\n",
        "        \n",
        "interact(waterpumps_bagging, max_depth=(1,6,1), n_estimators=(2,5,1));"
      ],
      "execution_count": 48,
      "outputs": [
        {
          "output_type": "display_data",
          "data": {
            "application/vnd.jupyter.widget-view+json": {
              "model_id": "28feb077432a4e95827a8f117c1e12bf",
              "version_minor": 0,
              "version_major": 2
            },
            "text/plain": [
              "interactive(children=(IntSlider(value=1, description='max_depth', max=6, min=1), IntSlider(value=2, descriptio…"
            ]
          },
          "metadata": {
            "tags": []
          }
        }
      ]
    },
    {
      "cell_type": "markdown",
      "metadata": {
        "colab_type": "text",
        "id": "wYoSBi15akWP"
      },
      "source": [
        "# Review\n",
        "\n",
        "#### Try Tree Ensembles when you do machine learning with labeled, tabular data\n",
        "- \"Tree Ensembles\" means Random Forest or Gradient Boosting models. \n",
        "- [Tree Ensembles often have the best predictive accuracy](https://arxiv.org/abs/1708.05070) with labeled, tabular data.\n",
        "- Why? Because trees can fit non-linear, non-[monotonic](https://en.wikipedia.org/wiki/Monotonic_function) relationships, and [interactions](https://christophm.github.io/interpretable-ml-book/interaction.html) between features.\n",
        "- A single decision tree, grown to unlimited depth, will [overfit](http://www.r2d3.us/visual-intro-to-machine-learning-part-1/). We solve this problem by ensembling trees, with bagging (Random Forest) or boosting (Gradient Boosting).\n",
        "- Random Forest's advantage: may be less sensitive to hyperparameters. Gradient Boosting's advantage: may get better predictive accuracy.\n",
        "\n",
        "#### One-hot encoding isn’t the only way, and may not be the best way, of categorical encoding for tree ensembles.\n",
        "- For example, tree ensembles can work with arbitrary \"ordinal\" encoding! (Randomly assigning an integer to each category.) Compared to one-hot encoding, the dimensionality will be lower, and the predictive accuracy may be just as good or even better.\n"
      ]
    }
  ]
}