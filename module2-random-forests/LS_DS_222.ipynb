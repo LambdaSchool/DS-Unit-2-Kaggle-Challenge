{
  "nbformat": 4,
  "nbformat_minor": 0,
  "metadata": {
    "kernelspec": {
      "display_name": "Python 3",
      "language": "python",
      "name": "python3"
    },
    "language_info": {
      "codemirror_mode": {
        "name": "ipython",
        "version": 3
      },
      "file_extension": ".py",
      "mimetype": "text/x-python",
      "name": "python",
      "nbconvert_exporter": "python",
      "pygments_lexer": "ipython3",
      "version": "3.7.3"
    },
    "colab": {
      "name": "LS_DS_222.ipynb",
      "provenance": []
    },
    "widgets": {
      "application/vnd.jupyter.widget-state+json": {
        "3ed1f2b32efd49708decef49f7f181a4": {
          "model_module": "@jupyter-widgets/controls",
          "model_name": "VBoxModel",
          "state": {
            "_view_name": "VBoxView",
            "_dom_classes": [
              "widget-interact"
            ],
            "_model_name": "VBoxModel",
            "_view_module": "@jupyter-widgets/controls",
            "_model_module_version": "1.5.0",
            "_view_count": null,
            "_view_module_version": "1.5.0",
            "box_style": "",
            "layout": "IPY_MODEL_7e44f951afd449489a1e9776119950e8",
            "_model_module": "@jupyter-widgets/controls",
            "children": [
              "IPY_MODEL_07be0533540b478da0495f497466ad93",
              "IPY_MODEL_8739bd7acbd14a0fb83e5d91a7c6610b",
              "IPY_MODEL_f869783f78a54335a7cf2e77642c53c3"
            ]
          }
        },
        "7e44f951afd449489a1e9776119950e8": {
          "model_module": "@jupyter-widgets/base",
          "model_name": "LayoutModel",
          "state": {
            "_view_name": "LayoutView",
            "grid_template_rows": null,
            "right": null,
            "justify_content": null,
            "_view_module": "@jupyter-widgets/base",
            "overflow": null,
            "_model_module_version": "1.2.0",
            "_view_count": null,
            "flex_flow": null,
            "width": null,
            "min_width": null,
            "border": null,
            "align_items": null,
            "bottom": null,
            "_model_module": "@jupyter-widgets/base",
            "top": null,
            "grid_column": null,
            "overflow_y": null,
            "overflow_x": null,
            "grid_auto_flow": null,
            "grid_area": null,
            "grid_template_columns": null,
            "flex": null,
            "_model_name": "LayoutModel",
            "justify_items": null,
            "grid_row": null,
            "max_height": null,
            "align_content": null,
            "visibility": null,
            "align_self": null,
            "height": null,
            "min_height": null,
            "padding": null,
            "grid_auto_rows": null,
            "grid_gap": null,
            "max_width": null,
            "order": null,
            "_view_module_version": "1.2.0",
            "grid_template_areas": null,
            "object_position": null,
            "object_fit": null,
            "grid_auto_columns": null,
            "margin": null,
            "display": null,
            "left": null
          }
        },
        "07be0533540b478da0495f497466ad93": {
          "model_module": "@jupyter-widgets/controls",
          "model_name": "IntSliderModel",
          "state": {
            "_view_name": "IntSliderView",
            "style": "IPY_MODEL_213cd30f29fc46e7a1a52e2c2c3492d4",
            "_dom_classes": [],
            "description": "max_depth",
            "step": 1,
            "_model_name": "IntSliderModel",
            "orientation": "horizontal",
            "max": 6,
            "_view_module": "@jupyter-widgets/controls",
            "_model_module_version": "1.5.0",
            "value": 1,
            "_view_count": null,
            "disabled": false,
            "_view_module_version": "1.5.0",
            "min": 1,
            "continuous_update": true,
            "readout_format": "d",
            "description_tooltip": null,
            "readout": true,
            "_model_module": "@jupyter-widgets/controls",
            "layout": "IPY_MODEL_34751f90038044b4a4726655afdd0f11"
          }
        },
        "8739bd7acbd14a0fb83e5d91a7c6610b": {
          "model_module": "@jupyter-widgets/controls",
          "model_name": "IntSliderModel",
          "state": {
            "_view_name": "IntSliderView",
            "style": "IPY_MODEL_06aaf05b4ca64ea9b0a6cdf9337b344a",
            "_dom_classes": [],
            "description": "n_estimators",
            "step": 10,
            "_model_name": "IntSliderModel",
            "orientation": "horizontal",
            "max": 40,
            "_view_module": "@jupyter-widgets/controls",
            "_model_module_version": "1.5.0",
            "value": 10,
            "_view_count": null,
            "disabled": false,
            "_view_module_version": "1.5.0",
            "min": 10,
            "continuous_update": true,
            "readout_format": "d",
            "description_tooltip": null,
            "readout": true,
            "_model_module": "@jupyter-widgets/controls",
            "layout": "IPY_MODEL_54e4a81817ab4c76b7ac906b9864751e"
          }
        },
        "f869783f78a54335a7cf2e77642c53c3": {
          "model_module": "@jupyter-widgets/output",
          "model_name": "OutputModel",
          "state": {
            "_view_name": "OutputView",
            "msg_id": "",
            "_dom_classes": [],
            "_model_name": "OutputModel",
            "outputs": [
              {
                "output_type": "display_data",
                "metadata": {
                  "tags": []
                },
                "image/png": "iVBORw0KGgoAAAANSUhEUgAAAYIAAAEWCAYAAABrDZDcAAAABHNCSVQICAgIfAhkiAAAAAlwSFlz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\nYBnD+cx4AAAAAElFTkSuQmCC\n",
                "text/plain": "<Figure size 432x288 with 1 Axes>"
              },
              {
                "output_type": "display_data",
                "metadata": {
                  "tags": []
                },
                "image/png": "iVBORw0KGgoAAAANSUhEUgAAAYIAAAEWCAYAAABrDZDcAAAABHNCSVQICAgIfAhkiAAAAAlwSFlz\nAAALEgAACxIB0t1+/AAAADh0RVh0U29mdHdhcmUAbWF0cGxvdGxpYiB2ZXJzaW9uMy4xLjIsIGh0\ndHA6Ly9tYXRwbG90bGliLm9yZy8li6FKAAAgAElEQVR4nO3deZwdZZ3v8c+3SZO0JJiQxIV0GFYX\n0BAxAhqdYcaFZSTh3riwCsIF17l4XRLUGUSu87oSlyvj4IKoDOgISEbIIArujIqYBJNWAggGNB0D\nhjYhaUmajv2bP+ppqZx0dyrps/Wp7/v1Oq+uvX6nzun6ned5qp5SRGBmZuXV1ugAzMyssZwIzMxK\nzonAzKzknAjMzErOicDMrOScCMzMSs6JwJqOpOMkdTc6DrOycCKwwiQ9LGmrpF5Jj0i6WtLERse1\nOyrew+Br/zru/0BJIWlcbto5kv6cYtksaZWk19YrJjMnAttdJ0fERGA28CLg/Q2OZ0+cHBETc6/f\n787K+ZN4Fd2Zjutk4DPAdZImV3snNYp9d/YvST7vNBl/ILZHIuIR4DayhICkv5f0i/SLdq2kSwaX\nzf0KPlvS7yQ9JumDufkdqXSxUdJq4CX5fUl6vqQfStok6R5J83Lzrpb0GUnfSr+ofyLpWZI+lbZ3\nn6QXFXlPkual7W9K+3t+bt7DkhZJ6gL+JGmcpP0lLZG0QdJDkv53bvmjJS1Px+NRSZ9Ms+5Ifzel\neF9acVwHgGuBfYDDcts7VtJPU2yrJB2Xm3eQpDskbZH0XUlXSPpKxbE/T9LvgO8X2N45ktak7T0k\n6Yw0/VBJP5L0ePoMr8+t8zJJy9K8ZZJelpv3Q0n/LOknwBPAwUU+D6ujiPDLr0Iv4GHgVWm4E/gl\ncHkaPw54IdmPi1nAo8Apad6BQABfADqAI4E+4Plp/keB/wL2A2YCvwK607x24EHgA8DewN8BW4Dn\npvlXA48BLwYmkJ3oHgLeBOwFfAT4wVDvoeK9PQf4E/DqtM+Fab9759ZbmeLrSO9zBXBxiutgYA1w\nfFr+TuCsNDwROLbiWIzL7fsc4MdpeC/gHcCTwDPStBlAD3BS2u+r0/j03L4+nuJ4ObAZ+ErF/q4h\nSy4dI20vLbM5d3yfDRyRhr8GfDCtMwF4eZq+H7AROAsYB5yWxqem+T8Efgcckea3N/q77FfF97/R\nAfg1dl7pZNibTsQBfA+YPMyynwL+fxoePBl15ub/HDg1Da8BTsjNu4CnEsErgEeAttz8rwGXpOGr\ngS/k5v0DcG9u/IXApiHew6b0uilN/yfghtxybcA64Ljceufm5h8D/K7iPb8f+HIavgP4MDCtYpnB\nY1GZCLanePqBrcAbcvMXAddWbOc24GzggLTu03LzvsLOieDggtvbJ8WxAOioWOYa4Mr855imnwX8\nvGLancA5afiHwKWN/v76NfzLVUO2u06JiElkJYDnAdMAJB0j6QepmuRx4K2D83IeyQ0/QfZLGWB/\nYG1u3m9zw/sDayOrMsnPn5EbfzQ3vHWI8coG7VMiYnJ6nZLbz1/2m/a3tmI/+Rj/Ctg/Va1skrSJ\nrNTyzDT/PLJSxn2pqmRXjb8/i4jJwBRgKVkCzO/r9RX7ejnZr/X9gT9GxBPDxDlc7ENuLyL+BLyR\n7PNbL+mbkp6X1lsICPh5qkI7N03f4dgllZ/RUDFZk3AisD0SET8i+zX+8TTp38lOYDMj4unA58hO\nGkWsJ6tyGXRAbvj3wMyKBsYDyH6tV9PvyU6QQNaomWLK7yffVe9a4KFcQpkcEZMi4iSAiHggIk4D\nngFcBtwoaZ+KbewkInqBtwFn5do21pL9gs/va5+I+CjZsdtP0tNym5nJzipjH257RMRtEfFqskRz\nH1mVHhHxSEScHxH7A28BPiPp0Mpjl1R+Ru7muIk5EdhofAp4taQjgUlkv0y3SToaOH03tnMD8H5J\nUyR1klXvDLqLrPSwUFJ7atQ8GbiuKu9gxxj+XtIrJbUD7yFrx/jpMMv/HNiSGpA7JO0l6QWSXgIg\n6UxJ01PJYlNaZwDYkP4O22AaEX8EriJrf4CsqudkScen/UxQdq9FZ0T8FlgOXCJp79T4fPIu3uuw\n25P0TEnzU9LqI6tGG0jv6fXp84GsDSDSvFuB50g6PTWivxE4HLhlF3FYk3AisD0WERvI6o0vBt4O\nXCppSxq/YTc29WGyqoSHgNvJrpoZ3MeTZCe2E8kahT8DvCki7qvGe8jt537gTODTaT8nk11m+uQw\ny/8ZeC3ZVVMPpXWuAp6eFjkBuEdSL3A5WXvI1lSF88/AT1K1zLHDhPQp4CRJsyJiLTCfrOppA9kv\n+vfx1P/vGcBLyRp8PwJcT3YSH+69jrS9NuDdZL/y/wj8DVkJBbKrue5K72kpcGFErImInnQs3pNi\nWAi8NiIeGy4Gay6KcInNrJWkyzrvi4gPNToWGxtcIjAb4yS9RNIhktoknUD2a/+mRsdlY0dD7zI0\ns6p4FvAfwFSgG3hbRPyisSHZWOKqITOzknPVkJlZyY25qqFp06bFgQce2OgwzMzGlBUrVjwWEdOH\nmjfmEsGBBx7I8uXLGx2GmdmYIqny7u+/cNWQmVnJORGYmZWcE4GZWck5EZiZlZwTgZlZyTkRmJmV\nnBOBmVnJORGYmZVcaRJBT28fq9Zuoqd32G7azcxKaczdWbwnbl65jkVLumhva6N/YIDFC2Yxb/aM\nXa9oZlYCLV8i6OntY9GSLrb1D7Clbzvb+gdYuKTLJQMzs6TlE0H3xq20t+34Ntvb2ujeuLVBEZmZ\nNZeWTwSdUzroHxjYYVr/wACdUzoaFJGZWXNp+UQwdeJ4Fi+YxYT2NiaNH8eE9jYWL5jF1InjGx2a\nmVlTKEVj8bzZM5h76DS6N26lc0qHk4CZWU4pEgFkJQMnADOznbV81ZCZmY3MicDMrOScCMzMSs6J\nwMys5JwIzMxKzonAzKzknAjMzErOicDMrOScCMzMSs6JwMys5JwIzMxKzonAzKzknAjMzErOicDM\nrOScCMzMSs6JwMys5JwIdkNPbx+r1m6ip7ev0aGYmVVNaZ5QNlo3r1zHoiVdtLe10T8wwOIFs5g3\ne0ajwzIzGzWXCAro6e1j0ZIutvUPsKVvO9v6B1i4pMslAzNrCU4EBXRv3Ep7246Hqr2tje6NWxsU\nkZlZ9TgRFNA5pYP+gYEdpvUPDNA5paNBEZmZVY8TQQFTJ45n8YJZTGhvY9L4cUxob2PxgllMnTi+\n0aGZmY2aG4sLmjd7BnMPnUb3xq10TulwEjCzluFEsBumThzvBGBmLaemVUOSTpB0v6QHJV00xPwD\nJP1A0i8kdUk6qZbxmJnZzmqWCCTtBVwBnAgcDpwm6fCKxf4RuCEiXgScCnymVvGYmdnQalkiOBp4\nMCLWRMSTwHXA/IplAtg3DT8d+H0N4zEzsyHUMhHMANbmxrvTtLxLgDMldQO3Av8w1IYkXSBpuaTl\nGzZsqEWsZmal1ejLR08Dro6ITuAk4FpJO8UUEVdGxJyImDN9+vS6B2lm1spqmQjWATNz451pWt55\nwA0AEXEnMAGYVsOYzMysQi0TwTLgMEkHSdqbrDF4acUyvwNeCSDp+WSJwHU/ZmZ1VLNEEBHbgXcC\ntwH3kl0ddI+kSyXNS4u9Bzhf0irga8A5ERG1isnMzHZW0xvKIuJWskbg/LSLc8Orgbm1jMHMzEbW\n6MZiMzNrMCcCM7OScyIwMys5JwIzs5JzIjAzKzkngjrr6e1j1dpNft6xmTUNP4+gjm5euY5FS7po\nb2ujf2CAxQtmMW92ZfdLZmb15RJBnfT09rFoSRfb+gfY0redbf0DLFzS5ZKBmTWcE0GddG/cSnvb\njoe7va2N7o1bGxSRmVnGiaBOOqd00D8wsMO0/oEBOqd0NCgiM7OME0GdTJ04nsULZjGhvY1J48cx\nob2NxQtm+RnIZtZwbiyuo3mzZzD30Gl0b9xK55QOJwEzawpOBHU2deJ4JwAzayquGjIzKzknAjOz\nknMiMDMrOScCM7OScyIwMys5JwIzs5JzIjAzKzknAjOzknMiMDMrudLcWfzh/7yH1b/f3Ogw6mr+\n7BmcfswBjQ7DzJrcLksEki6UtK8yX5R0t6TX1CM423Or12/m5pXrGh2GmY0BRUoE50bE5ZKOB6YA\nZwHXArfXNLIq+9DJRzQ6hLp64+fvbHQIZjZGFGkjUPp7EnBtRNyTm2ZmZmNckUSwQtLtZIngNkmT\ngIFdrGNmZmNEkaqh84DZwJqIeELSfsCbaxuWmZnVS5ESwUuB+yNik6QzgX8EHq9tWGZmVi9FEsFn\ngSckHQm8B/gNcE1NozIzs7opkgi2R0QA84F/jYgrgEm1DcvMzOqlSBvBFknvJ7ts9BWS2oD22oZl\nZmb1UqRE8Eagj+x+gkeATuBjNY3KzMzqZpeJIJ38lwCDT1x/DPhGLYMyM7P6KdLFxPnAjcDn06QZ\nwE21DMrMzOqnSNXQO4C5wGaAiHgAeEYtgzIzs/op0ljcFxFPSlmvEpLGAVHTqKwqVq/f3BJ9DrkX\nVbPaKpIIfiTpA0CHpFcDbwf+s7Zh2WjNnz2j0SFUxer1WdfhTgRmtVMkEVxE1s3EL4G3ALcCV9Uy\nKBu90485oCVOnq1QojFrdkXaCDqAL0XE6yPidcCX0rRdknSCpPslPSjpomGWeYOk1ZLukfTvxUM3\nM7NqKJIIvseOJ/4O4Lu7WknSXsAVwInA4cBpkg6vWOYw4P3A3Ig4AnhXwbjNzKxKiiSCCRHROziS\nhp9WYL2jgQcjYk1EPAlcR9ZNRd75wBURsTFt+w/FwjYzs2opkgj+JOmowRFJLwa2FlhvBrA2N96d\npuU9B3iOpJ9I+pmkE4bakKQLJC2XtHzDhg0Fdt3aenr7WLV2Ez29fY0OxcxaQJHG4ncBX5f0e7In\nkz2LrNuJau3/MOA4sq4r7pD0wojYlF8oIq4ErgSYM2dOqS9dvXnlOhYt6aK9rY3+gQEWL5jFvBa5\nQsjMGmOXiSAilkl6HvDcNOn+iOgvsO11wMzceGealtcN3JW295CkX5MlhmUFtl86Pb19LFrSxbb+\nAbalh8QtXNLF3EOnMXXi+F2sbWY2tCJdTLwD2CcifhURvwImSnp7gW0vAw6TdJCkvYFTgaUVy9xE\nVhpA0jSyqqI1uxF/qXRv3Ep7244fWXtbG90bi9TUmZkNrUgbwfn5qprUsHv+rlaKiO3AO4HbgHuB\nGyLiHkmXSpqXFrsN6JG0GvgB8L6I6NndN1EWnVM66B/Y8XHR/QMDdE4pdDWvmdmQirQR7CVJ6eE0\ng5eF7l1k4xFxK9kNaPlpF+eGA3h3etkuTJ04nsULZrGwoo3A1UJmNhpFEsG3geslDfY++pY0zRpg\n3uwZzD10Gt0bt9I5pcNJwMxGrUgiWER28n9bGv8O7mKioaZOHO8EYGZVU+SqoQGyB9h/tvbhmJlZ\nve0yEUh6iCG6nY6Ig2sSkZmZ1VWRqqE5ueEJwOuB/WoTjtVLT2+f2xnMDChWNVR5OeenJK0ALh5q\neWt+vjvZzPKKVA0dlRttIyshFClJWBPy3clmVqnICf0TueHtwMPAG2oSjdXc4N3Jg0kAnro72YnA\nrJyKVA39bT0Csfqo5t3Jbmcwaw1F+hq6UNK+ylwl6W5Jr6lHcFZ9g3cnT2hvY9L4cUxob9uju5Nv\nXrmOuZd9nzOvuou5l32fpSsr+xM0s7GiSNXQuRFxuaTjganAWcC1wO01jcxqZrR3J7udway1FEkE\nSn9PAq5JHcdppBWs+Y3m7mS3M5i1liK9j66QdDtZIrhN0iRgYBfrWAtzL6hmraVIIjgPuAh4SUQ8\nQdbz6JtrGpU1tWq1M5hZcyja19DdufEewM8MKDn3gmrWOnxjmO0x94Jq1hqGrRqSdFA9AzEzs8YY\nqY3gRgBJ36tTLGZm1gAjVQ21SfoA8BxJOz1KMiI+WbuwzMysXkYqEZwK/JksWUwa4mVmZi1g2BJB\nRNwPXCapKyK+VceYzMysjorcR/BTSZ+UtDy9PiHp6TWPzMzM6qJIIvgSsIWs6+k3AJuBL9cyKDMz\nq58i9xEcEhELcuMflrSyVgGZmVl9FSkRbJX08sERSXOBrbULycqkp7ePVWs30dPb1+hQzEqrSIng\nrcA1uXaBjcDZtQvJysLPTjZrDkX6GloFHClp3zS+ueZRWcvzMw3MmkeRqiEgSwBOAlYtg880yBt8\npoGZ1VfhRGBWTX6mgVnzcCKwhvAzDcyaxy7bCCQ9DXgPcEBEnC/pMOC5EXFLzaOzluZnGpg1hyJX\nDX0ZWAG8NI2vA74OOBHYqPmZBmaNV6Rq6JCIWAz0A6THVfrh9WZmLaJIInhSUgcQAJIOAXz3j5lZ\niyhSNXQJ8G1gpqSvAnPxw+vNzFpGkRvKbpe0AjiWrErowoh4rOaRmZlZXeyyakjS9yKiJyK+GRG3\nRMRjfnylmVnrGLZEIGkC8DRgmqQpPNVAvC/gDmHMzFrESFVDbwHeBexPdvnoYCLYDPxrjeMyM7M6\nGbZqKCIuj4iDgPdGxMERcVB6HRkRhRKBpBMk3S/pQUkXjbDcAkkhac4evAczMxuFIo3Fn5b0AuBw\nYEJu+jUjrSdpL+AK4NVAN7BM0tKIWF2x3CTgQuCu3Q/fzMxGq0hj8YeAT6fX3wKLgXkFtn008GBE\nrImIJ4HrgPlDLPd/gcuAbUWDNjOz6ilyQ9nrgFcCj0TEm4EjgSIPr58BrM2Nd1PRyCzpKGBmRHxz\npA1JukDScknLN2zYUGDXZmZWVKFHVUbEALA9PZzmD8DM0e5YUhvwSbIO7UYUEVdGxJyImDN9+vTR\n7trMzHKK3Fm8XNJk4AtkVw/1AncWWG8dOyaMzjRt0CTgBcAPJQE8C1gqaV5ELC+wfTMzq4IRE4Gy\nM/T/i4hNwOckfRvYNyK6Cmx7GXCYpIPIEsCpwOmDMyPicWBabl8/JLtCyUnAzKyORqwaiogAbs2N\nP1wwCRAR24F3ArcB9wI3RMQ9ki6VVKSx2czM6qBI1dDdkl4SEct2d+MRcSu5RJKmXTzMssft7vbN\nzGz0iiSCY4AzJP0W+BPZHcYREbNqGpmZmdVFkURwfM2jMDOzhilyZ/Fv6xGImZk1RpH7CMzMrIU5\nEZiZlZwTgZlZyTkRmJmVnBOBGdDT28eqtZvo6e1rdChmdVfk8lGzlnbzynUsWtJFe1sb/QMDLF4w\ni3mz/TRWKw+XCKzUenr7WLSki239A2zp2862/gEWLulyycBKxYnASq1741ba23b8N2hva6N749YG\nRWRWf04ENuaNpn6/c0oH/QMDO0zrHxigc0pH3WIwazS3EdiYNtr6/akTx7N4wSwWVmxj6sTxdYvB\nrNGcCGzMytfvbyP7Vb9wSRdzD522WyfyebNnMPfQaXRv3ErnlI7dWrdaMTSTnt6+PToWNnY5EdiY\nNVi/P3gChqfq93f3BDZ14vg9OulVM4Zm4NJNObmNwMasatXvj/UYqsVXUJWXE4GNWYP1+xPa25g0\nfhwT2tt2u36/FWKoFl9BVV6uGrIxbTT1+60UQzW0UunGdo9LBDbmTZ04niNnTm7oCbgZYhitVird\n2O5xicDM/qJVSje2e5wIzGwHe3oFlY1drhoyMys5JwIzs5JzIjAzKzknAjOzknMiMDMrOV81ZE1v\n9frNvPHzdzY6jKqYP3sGpx9zwJDz3NmbNYoTgTW1+S3U4dnq9ZsBhkwE7uzNGsmJwJra6cccMOwv\n6LFmuFJNK3ZlbWOL2wjMGsydvVmjORGYNVg1O3vzIzNtT7hqyKzBqvG4THA7g+05JwKzJjDazt7c\nzmCj4URg1iRG09lbqz0y0+rLbQRmLcAPlbHRcCIwawF+qIyNhquGzFqEHypje8qJwKyOWqm7DKu/\nw/fflw+dfETVt+tEYFYnrdRdhrWWmiYCSScAlwN7AVdFxEcr5r8b+F/AdmADcG5E/LaWMZk1Sit1\nl2GtpWaNxZL2Aq4ATgQOB06TdHjFYr8A5kTELOBGYHGt4jEzs6HV8qqho4EHI2JNRDwJXAfMzy8Q\nET+IiCfS6M+AzhrGY2ZmQ6hlIpgBrM2Nd6dpwzkP+FYN4zEzsyE0RWOxpDOBOcDfDDP/AuACgAMO\ncB2rmVk11bJEsA6YmRvvTNN2IOlVwAeBeRExZJeJEXFlRMyJiDnTp0+vSbBmZmVVy0SwDDhM0kGS\n9gZOBZbmF5D0IuDzZEngDzWMxczMhlGzRBAR24F3ArcB9wI3RMQ9ki6VNC8t9jFgIvB1SSslLR1m\nc2ZmDVGGZzzUtI0gIm4Fbq2YdnFu+FW13L+ZNUZPb19LdHVRlmc8NEVjsZm1jlY5eZbpGQ/ufdTM\nqiZ/8tzSt51t/QMsXNLVsGqV0VTrlOlZ0i4RmFnVNNMDckZbMmm2ZzzUsrrNJQIzq5pmOXlWo2TS\nTM94uHnlOuZe9n3OvOou5l72fZau3OlK/FFxicDMqmbw5Lmw4pd4vU+e1SqZNMMzHurRVuFEYGZV\n1Qwnz2qWTEbzLOlqqEd1m6uGzKzqpk4cz5EzJzfsBNpM1TqjVY/qNpcIzKwpjbZxtBlKJoNG817q\nUd3mRGBmTada9yI0uloHqvNeap3UXDVkZk2l2e5FGI1qvpdaVrc5EZhZU2mlG7nGyntxIjCzptIs\n9yJUw1h5L04EZtZUWumKn7HyXhQRjY5ht8yZMyeWL1/e6DDMrMZapQdTaI73ImlFRMwZap6vGjKz\nptQMV/xUS7O/F1cNmZmVnBOBmVnJORGYmZWcE4GZWck5EZiZlZwTgZlZyTkRmJmVnBOBmVnJjbk7\niyVtAH5bw11MAx6r4farxXFW31iJ1XFW11iJE0YX619FxPShZoy5RFBrkpYPdxt2M3Gc1TdWYnWc\n1TVW4oTaxeqqITOzknMiMDMrOSeCnV3Z6AAKcpzVN1ZidZzVNVbihBrF6jYCM7OSc4nAzKzknAjM\nzEqulIlA0kxJP5C0WtI9ki4cYpnjJD0uaWV6XdygWB+W9MsUw06PZlPmXyQ9KKlL0lENiPG5ueO0\nUtJmSe+qWKZhx1PSlyT9QdKvctP2k/QdSQ+kv1OGWffstMwDks5uQJwfk3Rf+my/IWnyMOuO+D2p\nQ5yXSFqX+3xPGmbdEyTdn76vFzUgzutzMT4saeUw69bzeA55PqrrdzQiSvcCng0clYYnAb8GDq9Y\n5jjgliaI9WFg2gjzTwK+BQg4FrirwfHuBTxCdvNKUxxP4K+Bo4Bf5aYtBi5KwxcBlw2x3n7AmvR3\nShqeUuc4XwOMS8OXDRVnke9JHeK8BHhvge/Gb4CDgb2BVZX/d7WOs2L+J4CLm+B4Dnk+qud3tJQl\ngohYHxF3p+EtwL3AjMZGtcfmA9dE5mfAZEnPbmA8rwR+ExG1vPt7t0TEHcAfKybPB/4tDf8bcMoQ\nqx4PfCci/hgRG4HvACfUM86IuD0itqfRnwGdtdp/UcMczyKOBh6MiDUR8SRwHdnnUBMjxSlJwBuA\nr9Vq/0WNcD6q23e0lIkgT9KBwIuAu4aY/VJJqyR9S9IRdQ3sKQHcLmmFpAuGmD8DWJsb76axSe1U\nhv/naobjOeiZEbE+DT8CPHOIZZrt2J5LVvobyq6+J/XwzlSF9aVhqjGa6Xi+Ang0Ih4YZn5DjmfF\n+ahu39FSJwJJE4ElwLsiYnPF7LvJqjeOBD4N3FTv+JKXR8RRwInAOyT9dYPi2CVJewPzgK8PMbtZ\njudOIitjN/V11JI+CGwHvjrMIo3+nnwWOASYDawnq3ZpZqcxcmmg7sdzpPNRrb+jpU0EktrJDvpX\nI+I/KudHxOaI6E3DtwLtkqbVOUwiYl36+wfgG2TF67x1wMzceGea1ggnAndHxKOVM5rleOY8OliF\nlv7+YYhlmuLYSjoHeC1wRjoh7KTA96SmIuLRiPhzRAwAXxhm/81yPMcB/xO4frhl6n08hzkf1e07\nWspEkOoHvwjcGxGfHGaZZ6XlkHQ02bHqqV+UIGkfSZMGh8kaDn9VsdhS4E3p6qFjgcdzxcl6G/ZX\nVjMczwpLgcErLM4Gbh5imduA10iakqo6XpOm1Y2kE4CFwLyIeGKYZYp8T2qqol3qfwyz/2XAYZIO\nSqXHU8k+h3p7FXBfRHQPNbPex3OE81H9vqP1aBVvthfwcrJiVhewMr1OAt4KvDUt807gHrIrG34G\nvKwBcR6c9r8qxfLBND0fp4AryK7G+CUwp0HHdB+yE/vTc9Oa4niSJaf1QD9ZHep5wFTge8ADwHeB\n/dKyc4CrcuueCzyYXm9uQJwPktUBD35PP5eW3R+4daTvSZ3jvDZ9/7rITmDProwzjZ9EdlXMbxoR\nZ5p+9eD3MrdsI4/ncOejun1H3cWEmVnJlbJqyMzMnuJEYGZWck4EZmYl50RgZlZyTgRmZiU3rtEB\nmDULSZcAvcC+wB0R8d1hljsF+HVErK5jeGY14xKBWYWIuHi4JJCcQtY7pFlLcCKwUpP0QUm/lvRj\n4Llp2tWSXpeGP5r6ie+S9HFJLyPrT+ljqa/6QySdL2lZ6lBviaSn5bbzL5J+KmnN4DbTvEWpv/tV\nkj6aph0i6dupo7P/kvS8uh8QKyVXDVlpSXoxWTcHs8n+F+4GVuTmTyXrLuF5ERGSJkfEJklLyZ6t\ncGNablNEfCENf4TsTttPp808m+zO0eeR3XF7o6QTyboYPiYinpC0X1r2SrI7Xh+QdAzwGeDvangI\nzAAnAiu3VwDfiNSHTzrB5z0ObAO+KOkW4JZhtvOClAAmAxPZsa+XmyLriG21pMFuhF8FfHlwvxHx\nx9Tz5MuAr6cumQDGj+rdmRXkRGA2jIjYnjrIeyXwOrL+kob6hX41cEpErEo9hR6Xm9eXGxbDawM2\nRcTs0cRstifcRmBldgdwiqSO1NvkyfmZ6Vf60yPrNvv/AEemWVvIHik4aBKwPnUlfEaB/X4HeHOu\nLWG/yPqff0jS69M0STpypI2YVYsTgZVWZI8HvJ6sl8lvkXWTnDcJuEVSF/Bj4N1p+nXA+yT9QtIh\nwD+RPVHqJ8B9Bfb7bbL2guXKHp7+3jTrDOA8SYO9XtbsMY5mee591Mys5FwiMDMrOScCM7OScyIw\nMys5JwIzs5JzIjAzKzknAsHxIwsAAAAPSURBVDOzknMiMDMruf8GM6eAZ50jBzMAAAAASUVORK5C\nYII=\n",
                "text/plain": "<Figure size 432x288 with 1 Axes>"
              }
            ],
            "_view_module": "@jupyter-widgets/output",
            "_model_module_version": "1.0.0",
            "_view_count": null,
            "_view_module_version": "1.0.0",
            "layout": "IPY_MODEL_8ac7f4a9615942c0bd107337ec70436e",
            "_model_module": "@jupyter-widgets/output"
          }
        },
        "213cd30f29fc46e7a1a52e2c2c3492d4": {
          "model_module": "@jupyter-widgets/controls",
          "model_name": "SliderStyleModel",
          "state": {
            "_view_name": "StyleView",
            "handle_color": null,
            "_model_name": "SliderStyleModel",
            "description_width": "",
            "_view_module": "@jupyter-widgets/base",
            "_model_module_version": "1.5.0",
            "_view_count": null,
            "_view_module_version": "1.2.0",
            "_model_module": "@jupyter-widgets/controls"
          }
        },
        "34751f90038044b4a4726655afdd0f11": {
          "model_module": "@jupyter-widgets/base",
          "model_name": "LayoutModel",
          "state": {
            "_view_name": "LayoutView",
            "grid_template_rows": null,
            "right": null,
            "justify_content": null,
            "_view_module": "@jupyter-widgets/base",
            "overflow": null,
            "_model_module_version": "1.2.0",
            "_view_count": null,
            "flex_flow": null,
            "width": null,
            "min_width": null,
            "border": null,
            "align_items": null,
            "bottom": null,
            "_model_module": "@jupyter-widgets/base",
            "top": null,
            "grid_column": null,
            "overflow_y": null,
            "overflow_x": null,
            "grid_auto_flow": null,
            "grid_area": null,
            "grid_template_columns": null,
            "flex": null,
            "_model_name": "LayoutModel",
            "justify_items": null,
            "grid_row": null,
            "max_height": null,
            "align_content": null,
            "visibility": null,
            "align_self": null,
            "height": null,
            "min_height": null,
            "padding": null,
            "grid_auto_rows": null,
            "grid_gap": null,
            "max_width": null,
            "order": null,
            "_view_module_version": "1.2.0",
            "grid_template_areas": null,
            "object_position": null,
            "object_fit": null,
            "grid_auto_columns": null,
            "margin": null,
            "display": null,
            "left": null
          }
        },
        "06aaf05b4ca64ea9b0a6cdf9337b344a": {
          "model_module": "@jupyter-widgets/controls",
          "model_name": "SliderStyleModel",
          "state": {
            "_view_name": "StyleView",
            "handle_color": null,
            "_model_name": "SliderStyleModel",
            "description_width": "",
            "_view_module": "@jupyter-widgets/base",
            "_model_module_version": "1.5.0",
            "_view_count": null,
            "_view_module_version": "1.2.0",
            "_model_module": "@jupyter-widgets/controls"
          }
        },
        "54e4a81817ab4c76b7ac906b9864751e": {
          "model_module": "@jupyter-widgets/base",
          "model_name": "LayoutModel",
          "state": {
            "_view_name": "LayoutView",
            "grid_template_rows": null,
            "right": null,
            "justify_content": null,
            "_view_module": "@jupyter-widgets/base",
            "overflow": null,
            "_model_module_version": "1.2.0",
            "_view_count": null,
            "flex_flow": null,
            "width": null,
            "min_width": null,
            "border": null,
            "align_items": null,
            "bottom": null,
            "_model_module": "@jupyter-widgets/base",
            "top": null,
            "grid_column": null,
            "overflow_y": null,
            "overflow_x": null,
            "grid_auto_flow": null,
            "grid_area": null,
            "grid_template_columns": null,
            "flex": null,
            "_model_name": "LayoutModel",
            "justify_items": null,
            "grid_row": null,
            "max_height": null,
            "align_content": null,
            "visibility": null,
            "align_self": null,
            "height": null,
            "min_height": null,
            "padding": null,
            "grid_auto_rows": null,
            "grid_gap": null,
            "max_width": null,
            "order": null,
            "_view_module_version": "1.2.0",
            "grid_template_areas": null,
            "object_position": null,
            "object_fit": null,
            "grid_auto_columns": null,
            "margin": null,
            "display": null,
            "left": null
          }
        }
      }
    }
  },
  "cells": [
    {
      "cell_type": "markdown",
      "metadata": {
        "colab_type": "text",
        "id": "UEHyIgGaaSEJ"
      },
      "source": [
        "Lambda School Data Science\n",
        "\n",
        "*Unit 2, Sprint 2, Module 2*\n",
        "\n",
        "---"
      ]
    },
    {
      "cell_type": "markdown",
      "metadata": {
        "colab_type": "text",
        "id": "mRfPLX4WgLVJ"
      },
      "source": [
        "# Random Forests"
      ]
    },
    {
      "cell_type": "markdown",
      "metadata": {
        "colab_type": "text",
        "id": "jRRNhkxcgLVK"
      },
      "source": [
        "- use scikit-learn for **random forests**\n",
        "- do **ordinal encoding** with high-cardinality categoricals\n",
        "- understand how categorical encodings affect trees differently compared to linear models\n",
        "- understand how tree ensembles reduce overfitting compared to a single decision tree with unlimited depth"
      ]
    },
    {
      "cell_type": "markdown",
      "metadata": {
        "colab_type": "text",
        "id": "-3TH11e1gLVL"
      },
      "source": [
        "Today's lesson has two take-away messages:\n",
        "\n",
        "#### Try Tree Ensembles when you do machine learning with labeled, tabular data\n",
        "- \"Tree Ensembles\" means Random Forest or Gradient Boosting models. \n",
        "- [Tree Ensembles often have the best predictive accuracy](https://arxiv.org/abs/1708.05070) with labeled, tabular data.\n",
        "- Why? Because trees can fit non-linear, non-[monotonic](https://en.wikipedia.org/wiki/Monotonic_function) relationships, and [interactions](https://christophm.github.io/interpretable-ml-book/interaction.html) between features.\n",
        "- A single decision tree, grown to unlimited depth, will [overfit](http://www.r2d3.us/visual-intro-to-machine-learning-part-1/). We solve this problem by ensembling trees, with bagging (Random Forest) or boosting (Gradient Boosting).\n",
        "- Random Forest's advantage: may be less sensitive to hyperparameters. Gradient Boosting's advantage: may get better predictive accuracy.\n",
        "\n",
        "#### One-hot encoding isn’t the only way, and may not be the best way, of categorical encoding for tree ensembles.\n",
        "- For example, tree ensembles can work with arbitrary \"ordinal\" encoding! (Randomly assigning an integer to each category.) Compared to one-hot encoding, the dimensionality will be lower, and the predictive accuracy may be just as good or even better.\n"
      ]
    },
    {
      "cell_type": "markdown",
      "metadata": {
        "colab_type": "text",
        "id": "r5PbOFEuFfGF"
      },
      "source": [
        "### Setup\n",
        "\n",
        "Run the code cell below. You can work locally (follow the [local setup instructions](https://lambdaschool.github.io/ds/unit2/local/)) or on Colab.\n",
        "\n",
        "Libraries\n",
        "\n",
        "- **category_encoders** \n",
        "- **graphviz**\n",
        "- ipywidgets\n",
        "- matplotlib\n",
        "- numpy\n",
        "- pandas\n",
        "- seaborn\n",
        "- scikit-learn"
      ]
    },
    {
      "cell_type": "code",
      "metadata": {
        "colab_type": "code",
        "id": "FStAplyRFoEu",
        "colab": {}
      },
      "source": [
        "%%capture\n",
        "import sys\n",
        "\n",
        "# If you're on Colab:\n",
        "if 'google.colab' in sys.modules:\n",
        "    DATA_PATH = 'https://raw.githubusercontent.com/LambdaSchool/DS-Unit-2-Kaggle-Challenge/master/data/'\n",
        "    !pip install category_encoders==2.*\n",
        "\n",
        "# If you're working locally:\n",
        "else:\n",
        "    DATA_PATH = '../data/'"
      ],
      "execution_count": 0,
      "outputs": []
    },
    {
      "cell_type": "markdown",
      "metadata": {
        "colab_type": "text",
        "id": "ZL-yK8B7gLVW"
      },
      "source": [
        "# Use scikit-learn for random forests"
      ]
    },
    {
      "cell_type": "markdown",
      "metadata": {
        "id": "0xFDNWZ_mSU1",
        "colab_type": "text"
      },
      "source": [
        "## Overview\n",
        "\n",
        "Let's fit a Random Forest!\n",
        "\n",
        "![](https://pbs.twimg.com/media/EGSvKA0UUAEzUZi?format=png)\n",
        "\n",
        "[Chris Albon, MachineLearningFlashcards.com](https://twitter.com/chrisalbon/status/1181261589887909889)"
      ]
    },
    {
      "cell_type": "markdown",
      "metadata": {
        "colab_type": "text",
        "id": "gHFxMCPSgLVM"
      },
      "source": [
        "### Solution example\n",
        "\n",
        "First, read & wrangle the data.\n",
        "\n",
        "> Define a function to wrangle train, validate, and test sets in the same way. Clean outliers and engineer features. (For example, [what other columns have zeros and shouldn't?](https://github.com/Quartz/bad-data-guide#zeros-replace-missing-values) What other columns are duplicates, or nearly duplicates? Can you extract the year from date_recorded? Can you engineer new features, such as the number of years from waterpump construction to waterpump inspection?)"
      ]
    },
    {
      "cell_type": "code",
      "metadata": {
        "colab_type": "code",
        "id": "YTLm-rDagLVM",
        "colab": {}
      },
      "source": [
        "import numpy as np\n",
        "import pandas as pd\n",
        "from sklearn.model_selection import train_test_split\n",
        "\n",
        "# Merge train_features.csv & train_labels.csv\n",
        "train = pd.merge(pd.read_csv(DATA_PATH+'waterpumps/train_features.csv'), \n",
        "                 pd.read_csv(DATA_PATH+'waterpumps/train_labels.csv'))\n",
        "\n",
        "# Read test_features.csv & sample_submission.csv\n",
        "test = pd.read_csv(DATA_PATH+'waterpumps/test_features.csv')\n",
        "sample_submission = pd.read_csv(DATA_PATH+'waterpumps/sample_submission.csv')\n",
        "\n",
        "# Split train into train & val\n",
        "train, val = train_test_split(train, train_size=0.80, test_size=0.20, \n",
        "                              stratify=train['status_group'], random_state=42)\n",
        "\n",
        "\n",
        "def wrangle(X):\n",
        "    \"\"\"Wrangle train, validate, and test sets in the same way\"\"\"\n",
        "    \n",
        "    # Prevent SettingWithCopyWarning\n",
        "    X = X.copy()\n",
        "    \n",
        "    # About 3% of the time, latitude has small values near zero,\n",
        "    # outside Tanzania, so we'll treat these values like zero.\n",
        "    X['latitude'] = X['latitude'].replace(-2e-08, 0)\n",
        "    \n",
        "    # When columns have zeros and shouldn't, they are like null values.\n",
        "    # So we will replace the zeros with nulls, and impute missing values later.\n",
        "    # Also create a \"missing indicator\" column, because the fact that\n",
        "    # values are missing may be a predictive signal.\n",
        "    cols_with_zeros = ['longitude', 'latitude', 'construction_year', \n",
        "                       'gps_height', 'population']\n",
        "    for col in cols_with_zeros:\n",
        "        X[col] = X[col].replace(0, np.nan)\n",
        "        X[col+'_MISSING'] = X[col].isnull()\n",
        "            \n",
        "    # Drop duplicate columns\n",
        "    duplicates = ['quantity_group', 'payment_type']\n",
        "    X = X.drop(columns=duplicates)\n",
        "    \n",
        "    # Drop recorded_by (never varies) and id (always varies, random)\n",
        "    unusable_variance = ['recorded_by', 'id']\n",
        "    X = X.drop(columns=unusable_variance)\n",
        "    \n",
        "    # Convert date_recorded to datetime\n",
        "    X['date_recorded'] = pd.to_datetime(X['date_recorded'], infer_datetime_format=True)\n",
        "    \n",
        "    # Extract components from date_recorded, then drop the original column\n",
        "    X['year_recorded'] = X['date_recorded'].dt.year\n",
        "    X['month_recorded'] = X['date_recorded'].dt.month\n",
        "    X['day_recorded'] = X['date_recorded'].dt.day\n",
        "    X = X.drop(columns='date_recorded')\n",
        "    \n",
        "    # Engineer feature: how many years from construction_year to date_recorded\n",
        "    X['years'] = X['year_recorded'] - X['construction_year']\n",
        "    X['years_MISSING'] = X['years'].isnull()\n",
        "    \n",
        "    # return the wrangled dataframe\n",
        "    return X\n",
        "\n",
        "train = wrangle(train)\n",
        "val = wrangle(val)\n",
        "test = wrangle(test)"
      ],
      "execution_count": 0,
      "outputs": []
    },
    {
      "cell_type": "code",
      "metadata": {
        "colab_type": "code",
        "id": "m2HppBvZgLVP",
        "colab": {}
      },
      "source": [
        "# The status_group column is the target\n",
        "target = 'status_group'\n",
        "\n",
        "# Get a dataframe with all train columns except the target\n",
        "train_features = train.drop(columns=[target])\n",
        "\n",
        "# Get a list of the numeric features\n",
        "numeric_features = train_features.select_dtypes(include='number').columns.tolist()\n",
        "\n",
        "# Get a series with the cardinality of the nonnumeric features\n",
        "cardinality = train_features.select_dtypes(exclude='number').nunique()\n",
        "\n",
        "# Get a list of all categorical features with cardinality <= 50\n",
        "categorical_features = cardinality[cardinality <= 50].index.tolist()\n",
        "\n",
        "# Combine the lists \n",
        "features = numeric_features + categorical_features"
      ],
      "execution_count": 0,
      "outputs": []
    },
    {
      "cell_type": "code",
      "metadata": {
        "colab_type": "code",
        "id": "aXmK2brXgLVR",
        "colab": {
          "base_uri": "https://localhost:8080/",
          "height": 34
        },
        "outputId": "59cbd16d-19e0-4eb1-c41b-0f0af1f2b489"
      },
      "source": [
        "# Arrange data into X features matrix and y target vector \n",
        "X_train = train[features]\n",
        "y_train = train[target]\n",
        "X_val = val[features]\n",
        "y_val = val[target]\n",
        "X_test = test[features]\n",
        "\n",
        "X_train.shape, X_val.shape, X_test.shape"
      ],
      "execution_count": 6,
      "outputs": [
        {
          "output_type": "execute_result",
          "data": {
            "text/plain": [
              "((47520, 38), (11880, 38), (14358, 38))"
            ]
          },
          "metadata": {
            "tags": []
          },
          "execution_count": 6
        }
      ]
    },
    {
      "cell_type": "markdown",
      "metadata": {
        "id": "QBsRU16KmSU-",
        "colab_type": "text"
      },
      "source": [
        "## Follow Along\n",
        "\n",
        "[Scikit-Learn User Guide: Random Forests](https://scikit-learn.org/stable/modules/ensemble.html#random-forests) "
      ]
    },
    {
      "cell_type": "code",
      "metadata": {
        "colab_type": "code",
        "id": "57yyygsdgLVW",
        "outputId": "e5f3e0c8-0ba9-42f2-edd1-5d05e5963129",
        "colab": {
          "base_uri": "https://localhost:8080/",
          "height": 34
        }
      },
      "source": [
        "import category_encoders as ce\n",
        "from sklearn.ensemble import RandomForestClassifier\n",
        "from sklearn.impute import SimpleImputer\n",
        "from sklearn.pipeline import make_pipeline\n",
        "\n",
        "#n_jobs = -1 allows you to train in parrallel and use all cores\n",
        "pipeline = make_pipeline(\n",
        "    ce.OneHotEncoder(use_cat_names = True),\n",
        "    SimpleImputer(strategy = 'mean'),\n",
        "    RandomForestClassifier(n_jobs = -1, random_state = 42)\n",
        ")\n",
        "\n",
        "#fit on train and score on val\n",
        "pipeline.fit(X_train, y_train)\n",
        "print('Validation Accuracy: ', pipeline.score(X_val, y_val))"
      ],
      "execution_count": 11,
      "outputs": [
        {
          "output_type": "stream",
          "text": [
            "Validation Accuracy:  0.8080808080808081\n"
          ],
          "name": "stdout"
        }
      ]
    },
    {
      "cell_type": "code",
      "metadata": {
        "id": "80JwxpcPqFhb",
        "colab_type": "code",
        "colab": {
          "base_uri": "https://localhost:8080/",
          "height": 51
        },
        "outputId": "f275fb88-4fbc-40f1-9dff-60f2011a1c45"
      },
      "source": [
        "print('X_train.shape before encoding', X_train.shape)\n",
        "\n",
        "encoder = pipeline.named_steps['onehotencoder']\n",
        "\n",
        "encoded_df = encoder.transform(X_train)\n",
        "\n",
        "print('X_train shape after encoding', encoded_df.shape)"
      ],
      "execution_count": 13,
      "outputs": [
        {
          "output_type": "stream",
          "text": [
            "X_train.shape before encoding (47520, 38)\n",
            "X_train shape after encoding (47520, 182)\n"
          ],
          "name": "stdout"
        }
      ]
    },
    {
      "cell_type": "code",
      "metadata": {
        "id": "TtgwGmM8qucU",
        "colab_type": "code",
        "colab": {
          "base_uri": "https://localhost:8080/",
          "height": 607
        },
        "outputId": "40eb9bff-df23-4804-9543-13b068adb87e"
      },
      "source": [
        "%matplotlib inline\n",
        "import matplotlib.pyplot as plt\n",
        "\n",
        "#get feature importances\n",
        "rf = pipeline.named_steps['randomforestclassifier']\n",
        "importances = pd.Series(rf.feature_importances_, encoded_df.columns)\n",
        "\n",
        "#plot top n feature importances\n",
        "n = 20\n",
        "\n",
        "plt.figure(figsize = (10, n/2))\n",
        "plt.title(f'Top {n} Features')\n",
        "importances.sort_values()[-n:].plot.barh(color = 'grey');"
      ],
      "execution_count": 15,
      "outputs": [
        {
          "output_type": "display_data",
          "data": {
            "image/png": "[encoded data removed]",
            "text/plain": [
              "<Figure size 720x720 with 1 Axes>"
            ]
          },
          "metadata": {
            "tags": []
          }
        }
      ]
    },
    {
      "cell_type": "markdown",
      "metadata": {
        "colab_type": "text",
        "id": "yfyk_aa5gLVY"
      },
      "source": [
        "# Do ordinal encoding with high-cardinality categoricals"
      ]
    },
    {
      "cell_type": "markdown",
      "metadata": {
        "id": "BDd9RUKxmSVC",
        "colab_type": "text"
      },
      "source": [
        "## Overview\n",
        "\n",
        "http://contrib.scikit-learn.org/categorical-encoding/ordinal.html"
      ]
    },
    {
      "cell_type": "markdown",
      "metadata": {
        "id": "BnJ9yBM7mSVD",
        "colab_type": "text"
      },
      "source": [
        "## Follow Along"
      ]
    },
    {
      "cell_type": "code",
      "metadata": {
        "colab_type": "code",
        "id": "b8d_WJtcgLVZ",
        "outputId": "feace764-1e1d-425b-f5cb-356fda0d7d54",
        "colab": {
          "base_uri": "https://localhost:8080/",
          "height": 34
        }
      },
      "source": [
        "#we are doing this differently for the ordinal encoder.  We are keeping high\n",
        "#cardinality columns to be ordinal encoded.\n",
        "X_train = train.drop(columns = target)\n",
        "y_train = train[target]\n",
        "X_val = val.drop(columns = target)\n",
        "y_val = val[target]\n",
        "X_test = test\n",
        "\n",
        "X_train.shape, X_val.shape, X_test.shape"
      ],
      "execution_count": 16,
      "outputs": [
        {
          "output_type": "execute_result",
          "data": {
            "text/plain": [
              "((47520, 45), (11880, 45), (14358, 45))"
            ]
          },
          "metadata": {
            "tags": []
          },
          "execution_count": 16
        }
      ]
    },
    {
      "cell_type": "code",
      "metadata": {
        "id": "SxZ4xQi-vndO",
        "colab_type": "code",
        "colab": {
          "base_uri": "https://localhost:8080/",
          "height": 68
        },
        "outputId": "172be894-7a2c-400e-f259-5aa647893f58"
      },
      "source": [
        "#time gives us a quick timer for our snippet running.\n",
        "#note the ordinal encoder\n",
        "%%time\n",
        "pipeline = make_pipeline(\n",
        "    ce.OrdinalEncoder(),\n",
        "    SimpleImputer(strategy = 'mean'),\n",
        "    RandomForestClassifier(n_jobs = -1, random_state = 42)\n",
        ")\n",
        "\n",
        "#fit on train and score on val\n",
        "pipeline.fit(X_train, y_train)\n",
        "print('Validation Accuracy: ', pipeline.score(X_val, y_val))"
      ],
      "execution_count": 18,
      "outputs": [
        {
          "output_type": "stream",
          "text": [
            "Validation Accuracy:  0.8103535353535354\n",
            "CPU times: user 19.3 s, sys: 200 ms, total: 19.5 s\n",
            "Wall time: 10.6 s\n"
          ],
          "name": "stdout"
        }
      ]
    },
    {
      "cell_type": "code",
      "metadata": {
        "id": "I4HCOBW9wjrk",
        "colab_type": "code",
        "colab": {
          "base_uri": "https://localhost:8080/",
          "height": 51
        },
        "outputId": "9f123e04-1af4-4668-ed3b-8f6ef884a8b2"
      },
      "source": [
        "#notice how our data frame stas 45 columns wide\n",
        "print('X_train.shape before encoding', X_train.shape)\n",
        "\n",
        "encoder = pipeline.named_steps['ordinalencoder']\n",
        "\n",
        "encoded_df = encoder.transform(X_train)\n",
        "\n",
        "print('X_train shape after encoding', encoded_df.shape)"
      ],
      "execution_count": 20,
      "outputs": [
        {
          "output_type": "stream",
          "text": [
            "X_train.shape before encoding (47520, 45)\n",
            "X_train shape after encoding (47520, 45)\n"
          ],
          "name": "stdout"
        }
      ]
    },
    {
      "cell_type": "code",
      "metadata": {
        "id": "yki4laiYw59L",
        "colab_type": "code",
        "colab": {
          "base_uri": "https://localhost:8080/",
          "height": 607
        },
        "outputId": "9875ef7a-fe8a-493a-cade-82d94aa064f4"
      },
      "source": [
        "#notice when looking at our feature importance that we have fewer features, but\n",
        "#because some features have multiple categories/are used to split the data in\n",
        "#different ways, it changes which ones are the most important\n",
        "#Quantity as a feature is pretty important as a whole, that we wouldn't really\n",
        "#be able to tell when it is split up from onehotencoding\n",
        "#get feature importances\n",
        "rf = pipeline.named_steps['randomforestclassifier']\n",
        "importances = pd.Series(rf.feature_importances_, encoded_df.columns)\n",
        "\n",
        "#plot top n feature importances\n",
        "n = 20\n",
        "\n",
        "plt.figure(figsize = (10, n/2))\n",
        "plt.title(f'Top {n} Features')\n",
        "importances.sort_values()[-n:].plot.barh(color = 'grey');"
      ],
      "execution_count": 21,
      "outputs": [
        {
          "output_type": "display_data",
          "data": {
            "image/png": "[encoded data removed]",
            "text/plain": [
              "<Figure size 720x720 with 1 Axes>"
            ]
          },
          "metadata": {
            "tags": []
          }
        }
      ]
    },
    {
      "cell_type": "code",
      "metadata": {
        "id": "xctCNnUXxgx5",
        "colab_type": "code",
        "colab": {
          "base_uri": "https://localhost:8080/",
          "height": 102
        },
        "outputId": "248ad5db-0df7-4940-e9d9-7f043ac4aa98"
      },
      "source": [
        "X_train.wpt_name.describe()"
      ],
      "execution_count": 22,
      "outputs": [
        {
          "output_type": "execute_result",
          "data": {
            "text/plain": [
              "count     47520\n",
              "unique    30661\n",
              "top        none\n",
              "freq       2879\n",
              "Name: wpt_name, dtype: object"
            ]
          },
          "metadata": {
            "tags": []
          },
          "execution_count": 22
        }
      ]
    },
    {
      "cell_type": "markdown",
      "metadata": {
        "colab_type": "text",
        "id": "xs2UPoVdgLVp"
      },
      "source": [
        "# Understand how categorical encodings affect trees differently compared to linear models"
      ]
    },
    {
      "cell_type": "markdown",
      "metadata": {
        "id": "pa8hhulumSVH",
        "colab_type": "text"
      },
      "source": [
        "## Follow Along"
      ]
    },
    {
      "cell_type": "markdown",
      "metadata": {
        "colab_type": "text",
        "id": "z8V-A92mgLVp"
      },
      "source": [
        "### Categorical exploration, 1 feature at a time\n",
        "\n",
        "Change `feature`, then re-run these cells!"
      ]
    },
    {
      "cell_type": "code",
      "metadata": {
        "colab_type": "code",
        "id": "G35RAzVdgLVq",
        "colab": {}
      },
      "source": [
        "feature = 'extraction_type_class'"
      ],
      "execution_count": 0,
      "outputs": []
    },
    {
      "cell_type": "code",
      "metadata": {
        "colab_type": "code",
        "id": "OuxHWiH8gLVr",
        "outputId": "f94a66fa-4eae-4ac5-af6c-49a9055ca9f2",
        "colab": {
          "base_uri": "https://localhost:8080/",
          "height": 153
        }
      },
      "source": [
        "X_train[feature].value_counts()"
      ],
      "execution_count": 24,
      "outputs": [
        {
          "output_type": "execute_result",
          "data": {
            "text/plain": [
              "gravity         21448\n",
              "handpump        13184\n",
              "other            5193\n",
              "submersible      4894\n",
              "motorpump        2355\n",
              "rope pump         353\n",
              "wind-powered       93\n",
              "Name: extraction_type_class, dtype: int64"
            ]
          },
          "metadata": {
            "tags": []
          },
          "execution_count": 24
        }
      ]
    },
    {
      "cell_type": "code",
      "metadata": {
        "colab_type": "code",
        "id": "pVxoC4NngLVt",
        "outputId": "2817092c-2540-47b5-93df-4085fe09895d",
        "colab": {
          "base_uri": "https://localhost:8080/",
          "height": 572
        }
      },
      "source": [
        "import seaborn as sns\n",
        "plt.figure(figsize=(16,9))\n",
        "sns.barplot(\n",
        "    x=train[feature], \n",
        "    y=train['status_group']=='functional', \n",
        "    color='grey'\n",
        ");"
      ],
      "execution_count": 25,
      "outputs": [
        {
          "output_type": "display_data",
          "data": {
            "image/png": "[encoded data removed]",
            "text/plain": [
              "<Figure size 1152x648 with 1 Axes>"
            ]
          },
          "metadata": {
            "tags": []
          }
        }
      ]
    },
    {
      "cell_type": "code",
      "metadata": {
        "colab_type": "code",
        "id": "w99mek14gLVv",
        "outputId": "7bf7860c-a87c-44f2-c938-ec96b1ddbc02",
        "colab": {
          "base_uri": "https://localhost:8080/",
          "height": 374
        }
      },
      "source": [
        "X_train[feature].head(20)"
      ],
      "execution_count": 26,
      "outputs": [
        {
          "output_type": "execute_result",
          "data": {
            "text/plain": [
              "43360        gravity\n",
              "7263         gravity\n",
              "2486        handpump\n",
              "313            other\n",
              "52726      motorpump\n",
              "8558         gravity\n",
              "2559         gravity\n",
              "54735      motorpump\n",
              "25763       handpump\n",
              "44540    submersible\n",
              "28603          other\n",
              "4372     submersible\n",
              "30666        gravity\n",
              "6431     submersible\n",
              "57420          other\n",
              "1373         gravity\n",
              "2026         gravity\n",
              "58977       handpump\n",
              "41101        gravity\n",
              "10019        gravity\n",
              "Name: extraction_type_class, dtype: object"
            ]
          },
          "metadata": {
            "tags": []
          },
          "execution_count": 26
        }
      ]
    },
    {
      "cell_type": "markdown",
      "metadata": {
        "colab_type": "text",
        "id": "ezzK2IdbgLVx"
      },
      "source": [
        "### [One Hot Encoding](http://contrib.scikit-learn.org/categorical-encoding/onehot.html)\n",
        "\n",
        "> Onehot (or dummy) coding for categorical features, produces one feature per category, each binary.\n",
        "\n",
        "Warning: May run slow, or run out of memory, with high cardinality categoricals!"
      ]
    },
    {
      "cell_type": "code",
      "metadata": {
        "colab_type": "code",
        "id": "HDQZtV6GgLVy",
        "outputId": "9b7609c4-9fa7-438e-e4cb-b6be71f3b0a8",
        "colab": {
          "base_uri": "https://localhost:8080/",
          "height": 723
        }
      },
      "source": [
        "encoder = ce.OneHotEncoder(use_cat_names=True)\n",
        "encoded = encoder.fit_transform(X_train[[feature]])\n",
        "print(f'{len(encoded.columns)} columns')\n",
        "encoded.head(20)"
      ],
      "execution_count": 27,
      "outputs": [
        {
          "output_type": "stream",
          "text": [
            "7 columns\n"
          ],
          "name": "stdout"
        },
        {
          "output_type": "execute_result",
          "data": {
            "text/html": [
              "<div>\n",
              "<style scoped>\n",
              "    .dataframe tbody tr th:only-of-type {\n",
              "        vertical-align: middle;\n",
              "    }\n",
              "\n",
              "    .dataframe tbody tr th {\n",
              "        vertical-align: top;\n",
              "    }\n",
              "\n",
              "    .dataframe thead th {\n",
              "        text-align: right;\n",
              "    }\n",
              "</style>\n",
              "<table border=\"1\" class=\"dataframe\">\n",
              "  <thead>\n",
              "    <tr style=\"text-align: right;\">\n",
              "      <th></th>\n",
              "      <th>extraction_type_class_gravity</th>\n",
              "      <th>extraction_type_class_handpump</th>\n",
              "      <th>extraction_type_class_other</th>\n",
              "      <th>extraction_type_class_motorpump</th>\n",
              "      <th>extraction_type_class_submersible</th>\n",
              "      <th>extraction_type_class_rope pump</th>\n",
              "      <th>extraction_type_class_wind-powered</th>\n",
              "    </tr>\n",
              "  </thead>\n",
              "  <tbody>\n",
              "    <tr>\n",
              "      <th>43360</th>\n",
              "      <td>1</td>\n",
              "      <td>0</td>\n",
              "      <td>0</td>\n",
              "      <td>0</td>\n",
              "      <td>0</td>\n",
              "      <td>0</td>\n",
              "      <td>0</td>\n",
              "    </tr>\n",
              "    <tr>\n",
              "      <th>7263</th>\n",
              "      <td>1</td>\n",
              "      <td>0</td>\n",
              "      <td>0</td>\n",
              "      <td>0</td>\n",
              "      <td>0</td>\n",
              "      <td>0</td>\n",
              "      <td>0</td>\n",
              "    </tr>\n",
              "    <tr>\n",
              "      <th>2486</th>\n",
              "      <td>0</td>\n",
              "      <td>1</td>\n",
              "      <td>0</td>\n",
              "      <td>0</td>\n",
              "      <td>0</td>\n",
              "      <td>0</td>\n",
              "      <td>0</td>\n",
              "    </tr>\n",
              "    <tr>\n",
              "      <th>313</th>\n",
              "      <td>0</td>\n",
              "      <td>0</td>\n",
              "      <td>1</td>\n",
              "      <td>0</td>\n",
              "      <td>0</td>\n",
              "      <td>0</td>\n",
              "      <td>0</td>\n",
              "    </tr>\n",
              "    <tr>\n",
              "      <th>52726</th>\n",
              "      <td>0</td>\n",
              "      <td>0</td>\n",
              "      <td>0</td>\n",
              "      <td>1</td>\n",
              "      <td>0</td>\n",
              "      <td>0</td>\n",
              "      <td>0</td>\n",
              "    </tr>\n",
              "    <tr>\n",
              "      <th>8558</th>\n",
              "      <td>1</td>\n",
              "      <td>0</td>\n",
              "      <td>0</td>\n",
              "      <td>0</td>\n",
              "      <td>0</td>\n",
              "      <td>0</td>\n",
              "      <td>0</td>\n",
              "    </tr>\n",
              "    <tr>\n",
              "      <th>2559</th>\n",
              "      <td>1</td>\n",
              "      <td>0</td>\n",
              "      <td>0</td>\n",
              "      <td>0</td>\n",
              "      <td>0</td>\n",
              "      <td>0</td>\n",
              "      <td>0</td>\n",
              "    </tr>\n",
              "    <tr>\n",
              "      <th>54735</th>\n",
              "      <td>0</td>\n",
              "      <td>0</td>\n",
              "      <td>0</td>\n",
              "      <td>1</td>\n",
              "      <td>0</td>\n",
              "      <td>0</td>\n",
              "      <td>0</td>\n",
              "    </tr>\n",
              "    <tr>\n",
              "      <th>25763</th>\n",
              "      <td>0</td>\n",
              "      <td>1</td>\n",
              "      <td>0</td>\n",
              "      <td>0</td>\n",
              "      <td>0</td>\n",
              "      <td>0</td>\n",
              "      <td>0</td>\n",
              "    </tr>\n",
              "    <tr>\n",
              "      <th>44540</th>\n",
              "      <td>0</td>\n",
              "      <td>0</td>\n",
              "      <td>0</td>\n",
              "      <td>0</td>\n",
              "      <td>1</td>\n",
              "      <td>0</td>\n",
              "      <td>0</td>\n",
              "    </tr>\n",
              "    <tr>\n",
              "      <th>28603</th>\n",
              "      <td>0</td>\n",
              "      <td>0</td>\n",
              "      <td>1</td>\n",
              "      <td>0</td>\n",
              "      <td>0</td>\n",
              "      <td>0</td>\n",
              "      <td>0</td>\n",
              "    </tr>\n",
              "    <tr>\n",
              "      <th>4372</th>\n",
              "      <td>0</td>\n",
              "      <td>0</td>\n",
              "      <td>0</td>\n",
              "      <td>0</td>\n",
              "      <td>1</td>\n",
              "      <td>0</td>\n",
              "      <td>0</td>\n",
              "    </tr>\n",
              "    <tr>\n",
              "      <th>30666</th>\n",
              "      <td>1</td>\n",
              "      <td>0</td>\n",
              "      <td>0</td>\n",
              "      <td>0</td>\n",
              "      <td>0</td>\n",
              "      <td>0</td>\n",
              "      <td>0</td>\n",
              "    </tr>\n",
              "    <tr>\n",
              "      <th>6431</th>\n",
              "      <td>0</td>\n",
              "      <td>0</td>\n",
              "      <td>0</td>\n",
              "      <td>0</td>\n",
              "      <td>1</td>\n",
              "      <td>0</td>\n",
              "      <td>0</td>\n",
              "    </tr>\n",
              "    <tr>\n",
              "      <th>57420</th>\n",
              "      <td>0</td>\n",
              "      <td>0</td>\n",
              "      <td>1</td>\n",
              "      <td>0</td>\n",
              "      <td>0</td>\n",
              "      <td>0</td>\n",
              "      <td>0</td>\n",
              "    </tr>\n",
              "    <tr>\n",
              "      <th>1373</th>\n",
              "      <td>1</td>\n",
              "      <td>0</td>\n",
              "      <td>0</td>\n",
              "      <td>0</td>\n",
              "      <td>0</td>\n",
              "      <td>0</td>\n",
              "      <td>0</td>\n",
              "    </tr>\n",
              "    <tr>\n",
              "      <th>2026</th>\n",
              "      <td>1</td>\n",
              "      <td>0</td>\n",
              "      <td>0</td>\n",
              "      <td>0</td>\n",
              "      <td>0</td>\n",
              "      <td>0</td>\n",
              "      <td>0</td>\n",
              "    </tr>\n",
              "    <tr>\n",
              "      <th>58977</th>\n",
              "      <td>0</td>\n",
              "      <td>1</td>\n",
              "      <td>0</td>\n",
              "      <td>0</td>\n",
              "      <td>0</td>\n",
              "      <td>0</td>\n",
              "      <td>0</td>\n",
              "    </tr>\n",
              "    <tr>\n",
              "      <th>41101</th>\n",
              "      <td>1</td>\n",
              "      <td>0</td>\n",
              "      <td>0</td>\n",
              "      <td>0</td>\n",
              "      <td>0</td>\n",
              "      <td>0</td>\n",
              "      <td>0</td>\n",
              "    </tr>\n",
              "    <tr>\n",
              "      <th>10019</th>\n",
              "      <td>1</td>\n",
              "      <td>0</td>\n",
              "      <td>0</td>\n",
              "      <td>0</td>\n",
              "      <td>0</td>\n",
              "      <td>0</td>\n",
              "      <td>0</td>\n",
              "    </tr>\n",
              "  </tbody>\n",
              "</table>\n",
              "</div>"
            ],
            "text/plain": [
              "       extraction_type_class_gravity  ...  extraction_type_class_wind-powered\n",
              "43360                              1  ...                                   0\n",
              "7263                               1  ...                                   0\n",
              "2486                               0  ...                                   0\n",
              "313                                0  ...                                   0\n",
              "52726                              0  ...                                   0\n",
              "8558                               1  ...                                   0\n",
              "2559                               1  ...                                   0\n",
              "54735                              0  ...                                   0\n",
              "25763                              0  ...                                   0\n",
              "44540                              0  ...                                   0\n",
              "28603                              0  ...                                   0\n",
              "4372                               0  ...                                   0\n",
              "30666                              1  ...                                   0\n",
              "6431                               0  ...                                   0\n",
              "57420                              0  ...                                   0\n",
              "1373                               1  ...                                   0\n",
              "2026                               1  ...                                   0\n",
              "58977                              0  ...                                   0\n",
              "41101                              1  ...                                   0\n",
              "10019                              1  ...                                   0\n",
              "\n",
              "[20 rows x 7 columns]"
            ]
          },
          "metadata": {
            "tags": []
          },
          "execution_count": 27
        }
      ]
    },
    {
      "cell_type": "markdown",
      "metadata": {
        "colab_type": "text",
        "id": "1Ql9Qmw3sNJ7"
      },
      "source": [
        "#### One-Hot Encoding, Logistic Regression, Validation Accuracy"
      ]
    },
    {
      "cell_type": "code",
      "metadata": {
        "colab_type": "code",
        "id": "mT4A-oDGpOss",
        "outputId": "703141d3-b284-4f6d-b9cb-34fd451fc5f3",
        "colab": {
          "base_uri": "https://localhost:8080/",
          "height": 34
        }
      },
      "source": [
        "from sklearn.linear_model import LogisticRegressionCV\n",
        "from sklearn.preprocessing import StandardScaler\n",
        "\n",
        "lr = make_pipeline(\n",
        "    ce.OneHotEncoder(use_cat_names=True), \n",
        "    SimpleImputer(), \n",
        "    StandardScaler(), \n",
        "    LogisticRegressionCV(multi_class='auto', solver='lbfgs', cv=5, n_jobs=-1)\n",
        ")\n",
        "\n",
        "lr.fit(X_train[[feature]], y_train)\n",
        "score = lr.score(X_val[[feature]], y_val)\n",
        "print('Logistic Regression, Validation Accuracy', score)"
      ],
      "execution_count": 28,
      "outputs": [
        {
          "output_type": "stream",
          "text": [
            "Logistic Regression, Validation Accuracy 0.6202861952861953\n"
          ],
          "name": "stdout"
        }
      ]
    },
    {
      "cell_type": "markdown",
      "metadata": {
        "colab_type": "text",
        "id": "EbH6wivpsRuV"
      },
      "source": [
        "#### One-Hot Encoding, Decision Tree, Validation Accuracy"
      ]
    },
    {
      "cell_type": "code",
      "metadata": {
        "colab_type": "code",
        "id": "b6KUluFOqIdK",
        "outputId": "198533c3-a59d-4e8b-986b-9575c08e1147",
        "colab": {
          "base_uri": "https://localhost:8080/",
          "height": 34
        }
      },
      "source": [
        "from sklearn.tree import DecisionTreeClassifier\n",
        "\n",
        "dt = make_pipeline(\n",
        "    ce.OneHotEncoder(use_cat_names=True), \n",
        "    SimpleImputer(), \n",
        "    DecisionTreeClassifier(random_state=42)\n",
        ")\n",
        "\n",
        "dt.fit(X_train[[feature]], y_train)\n",
        "score = dt.score(X_val[[feature]], y_val)\n",
        "print('Decision Tree, Validation Accuracy', score)"
      ],
      "execution_count": 29,
      "outputs": [
        {
          "output_type": "stream",
          "text": [
            "Decision Tree, Validation Accuracy 0.6202861952861953\n"
          ],
          "name": "stdout"
        }
      ]
    },
    {
      "cell_type": "markdown",
      "metadata": {
        "colab_type": "text",
        "id": "8yg11_gTsUu6"
      },
      "source": [
        "#### One-Hot Encoding, Logistic Regression, Model Interpretation"
      ]
    },
    {
      "cell_type": "code",
      "metadata": {
        "colab_type": "code",
        "id": "IxHwXGRornNI",
        "outputId": "6c651491-9f0a-42a9-da19-7fd8418c9ff1",
        "colab": {
          "base_uri": "https://localhost:8080/",
          "height": 265
        }
      },
      "source": [
        "model = lr.named_steps['logisticregressioncv']\n",
        "encoder = lr.named_steps['onehotencoder']\n",
        "encoded_columns = encoder.transform(X_val[[feature]]).columns\n",
        "coefficients = pd.Series(model.coef_[0], encoded_columns)\n",
        "coefficients.sort_values().plot.barh(color='grey');"
      ],
      "execution_count": 30,
      "outputs": [
        {
          "output_type": "display_data",
          "data": {
            "image/png": "[encoded data removed]",
            "text/plain": [
              "<Figure size 432x288 with 1 Axes>"
            ]
          },
          "metadata": {
            "tags": []
          }
        }
      ]
    },
    {
      "cell_type": "markdown",
      "metadata": {
        "colab_type": "text",
        "id": "0REZ8HdpsccR"
      },
      "source": [
        "#### One-Hot Encoding, Decision Tree, Model Interpretation"
      ]
    },
    {
      "cell_type": "code",
      "metadata": {
        "colab_type": "code",
        "id": "gV-grmYKpDp9",
        "outputId": "eff2eb0d-4ae9-437b-ea75-e19a95ff7575",
        "colab": {
          "base_uri": "https://localhost:8080/",
          "height": 954
        }
      },
      "source": [
        "# Plot tree\n",
        "# https://scikit-learn.org/stable/modules/generated/sklearn.tree.export_graphviz.html\n",
        "import graphviz\n",
        "from sklearn.tree import export_graphviz\n",
        "\n",
        "model = dt.named_steps['decisiontreeclassifier']\n",
        "encoder = dt.named_steps['onehotencoder']\n",
        "encoded_columns = encoder.transform(X_val[[feature]]).columns\n",
        "\n",
        "dot_data = export_graphviz(model, \n",
        "                           out_file=None, \n",
        "                           max_depth=7, \n",
        "                           feature_names=encoded_columns,\n",
        "                           class_names=model.classes_, \n",
        "                           impurity=False, \n",
        "                           filled=True, \n",
        "                           proportion=True, \n",
        "                           rounded=True)   \n",
        "display(graphviz.Source(dot_data))"
      ],
      "execution_count": 31,
      "outputs": [
        {
          "output_type": "display_data",
          "data": {
            "text/plain": [
              "<graphviz.files.Source at 0x7f6d506000f0>"
            ],
            "image/svg+xml": "<?xml version=\"1.0\" encoding=\"UTF-8\" standalone=\"no\"?>\n<!DOCTYPE svg PUBLIC \"-//W3C//DTD SVG 1.1//EN\"\n \"http://www.w3.org/Graphics/SVG/1.1/DTD/svg11.dtd\">\n<!-- Generated by graphviz version 2.40.1 (20161225.0304)\n -->\n<!-- Title: Tree Pages: 1 -->\n<svg width=\"1067pt\" height=\"685pt\"\n viewBox=\"0.00 0.00 1067.00 685.00\" xmlns=\"http://www.w3.org/2000/svg\" xmlns:xlink=\"http://www.w3.org/1999/xlink\">\n<g id=\"graph0\" class=\"graph\" transform=\"scale(1 1) rotate(0) translate(4 681)\">\n<title>Tree</title>\n<polygon fill=\"#ffffff\" stroke=\"transparent\" points=\"-4,4 -4,-681 1063,-681 1063,4 -4,4\"/>\n<!-- 0 -->\n<g id=\"node1\" class=\"node\">\n<title>0</title>\n<path fill=\"#f8decc\" stroke=\"#000000\" d=\"M944.5,-677C944.5,-677 725.5,-677 725.5,-677 719.5,-677 713.5,-671 713.5,-665 713.5,-665 713.5,-621 713.5,-621 713.5,-615 719.5,-609 725.5,-609 725.5,-609 944.5,-609 944.5,-609 950.5,-609 956.5,-615 956.5,-621 956.5,-621 956.5,-665 956.5,-665 956.5,-671 950.5,-677 944.5,-677\"/>\n<text text-anchor=\"middle\" x=\"835\" y=\"-661.8\" font-family=\"Helvetica,sans-Serif\" font-size=\"14.00\" fill=\"#000000\">extraction_type_class_other &lt;= 0.5</text>\n<text text-anchor=\"middle\" x=\"835\" y=\"-646.8\" font-family=\"Helvetica,sans-Serif\" font-size=\"14.00\" fill=\"#000000\">samples = 100.0%</text>\n<text text-anchor=\"middle\" x=\"835\" y=\"-631.8\" font-family=\"Helvetica,sans-Serif\" font-size=\"14.00\" fill=\"#000000\">value = [0.543, 0.073, 0.384]</text>\n<text text-anchor=\"middle\" x=\"835\" y=\"-616.8\" font-family=\"Helvetica,sans-Serif\" font-size=\"14.00\" fill=\"#000000\">class = functional</text>\n</g>\n<!-- 1 -->\n<g id=\"node2\" class=\"node\">\n<title>1</title>\n<path fill=\"#f5ceb2\" stroke=\"#000000\" d=\"M837,-573C837,-573 577,-573 577,-573 571,-573 565,-567 565,-561 565,-561 565,-517 565,-517 565,-511 571,-505 577,-505 577,-505 837,-505 837,-505 843,-505 849,-511 849,-517 849,-517 849,-561 849,-561 849,-567 843,-573 837,-573\"/>\n<text text-anchor=\"middle\" x=\"707\" y=\"-557.8\" font-family=\"Helvetica,sans-Serif\" font-size=\"14.00\" fill=\"#000000\">extraction_type_class_motorpump &lt;= 0.5</text>\n<text text-anchor=\"middle\" x=\"707\" y=\"-542.8\" font-family=\"Helvetica,sans-Serif\" font-size=\"14.00\" fill=\"#000000\">samples = 89.1%</text>\n<text text-anchor=\"middle\" x=\"707\" y=\"-527.8\" font-family=\"Helvetica,sans-Serif\" font-size=\"14.00\" fill=\"#000000\">value = [0.59, 0.078, 0.332]</text>\n<text text-anchor=\"middle\" x=\"707\" y=\"-512.8\" font-family=\"Helvetica,sans-Serif\" font-size=\"14.00\" fill=\"#000000\">class = functional</text>\n</g>\n<!-- 0&#45;&gt;1 -->\n<g id=\"edge1\" class=\"edge\">\n<title>0&#45;&gt;1</title>\n<path fill=\"none\" stroke=\"#000000\" d=\"M793.088,-608.9465C781.485,-599.519 768.7779,-589.1946 756.7741,-579.4415\"/>\n<polygon fill=\"#000000\" stroke=\"#000000\" points=\"758.9744,-576.7196 749.0061,-573.13 754.5602,-582.1524 758.9744,-576.7196\"/>\n<text text-anchor=\"middle\" x=\"751.5786\" y=\"-594.2973\" font-family=\"Helvetica,sans-Serif\" font-size=\"14.00\" fill=\"#000000\">True</text>\n</g>\n<!-- 12 -->\n<g id=\"node13\" class=\"node\">\n<title>12</title>\n<path fill=\"#9d66eb\" stroke=\"#000000\" d=\"M1047,-565.5C1047,-565.5 879,-565.5 879,-565.5 873,-565.5 867,-559.5 867,-553.5 867,-553.5 867,-524.5 867,-524.5 867,-518.5 873,-512.5 879,-512.5 879,-512.5 1047,-512.5 1047,-512.5 1053,-512.5 1059,-518.5 1059,-524.5 1059,-524.5 1059,-553.5 1059,-553.5 1059,-559.5 1053,-565.5 1047,-565.5\"/>\n<text text-anchor=\"middle\" x=\"963\" y=\"-550.3\" font-family=\"Helvetica,sans-Serif\" font-size=\"14.00\" fill=\"#000000\">samples = 10.9%</text>\n<text text-anchor=\"middle\" x=\"963\" y=\"-535.3\" font-family=\"Helvetica,sans-Serif\" font-size=\"14.00\" fill=\"#000000\">value = [0.159, 0.031, 0.81]</text>\n<text text-anchor=\"middle\" x=\"963\" y=\"-520.3\" font-family=\"Helvetica,sans-Serif\" font-size=\"14.00\" fill=\"#000000\">class = non functional</text>\n</g>\n<!-- 0&#45;&gt;12 -->\n<g id=\"edge12\" class=\"edge\">\n<title>0&#45;&gt;12</title>\n<path fill=\"none\" stroke=\"#000000\" d=\"M876.912,-608.9465C891.5533,-597.0504 907.9526,-583.726 922.4785,-571.9237\"/>\n<polygon fill=\"#000000\" stroke=\"#000000\" points=\"924.7786,-574.5645 930.3327,-565.5422 920.3645,-569.1317 924.7786,-574.5645\"/>\n<text text-anchor=\"middle\" x=\"927.7602\" y=\"-586.7095\" font-family=\"Helvetica,sans-Serif\" font-size=\"14.00\" fill=\"#000000\">False</text>\n</g>\n<!-- 2 -->\n<g id=\"node3\" class=\"node\">\n<title>2</title>\n<path fill=\"#f4caac\" stroke=\"#000000\" d=\"M708.5,-469C708.5,-469 443.5,-469 443.5,-469 437.5,-469 431.5,-463 431.5,-457 431.5,-457 431.5,-413 431.5,-413 431.5,-407 437.5,-401 443.5,-401 443.5,-401 708.5,-401 708.5,-401 714.5,-401 720.5,-407 720.5,-413 720.5,-413 720.5,-457 720.5,-457 720.5,-463 714.5,-469 708.5,-469\"/>\n<text text-anchor=\"middle\" x=\"576\" y=\"-453.8\" font-family=\"Helvetica,sans-Serif\" font-size=\"14.00\" fill=\"#000000\">extraction_type_class_submersible &lt;= 0.5</text>\n<text text-anchor=\"middle\" x=\"576\" y=\"-438.8\" font-family=\"Helvetica,sans-Serif\" font-size=\"14.00\" fill=\"#000000\">samples = 84.1%</text>\n<text text-anchor=\"middle\" x=\"576\" y=\"-423.8\" font-family=\"Helvetica,sans-Serif\" font-size=\"14.00\" fill=\"#000000\">value = [0.603, 0.08, 0.318]</text>\n<text text-anchor=\"middle\" x=\"576\" y=\"-408.8\" font-family=\"Helvetica,sans-Serif\" font-size=\"14.00\" fill=\"#000000\">class = functional</text>\n</g>\n<!-- 1&#45;&gt;2 -->\n<g id=\"edge2\" class=\"edge\">\n<title>1&#45;&gt;2</title>\n<path fill=\"none\" stroke=\"#000000\" d=\"M664.1057,-504.9465C652.2307,-495.519 639.2259,-485.1946 626.9407,-475.4415\"/>\n<polygon fill=\"#000000\" stroke=\"#000000\" points=\"628.9989,-472.6066 618.9907,-469.13 624.6464,-478.089 628.9989,-472.6066\"/>\n</g>\n<!-- 11 -->\n<g id=\"node12\" class=\"node\">\n<title>11</title>\n<path fill=\"#d8c1f7\" stroke=\"#000000\" d=\"M927,-461.5C927,-461.5 751,-461.5 751,-461.5 745,-461.5 739,-455.5 739,-449.5 739,-449.5 739,-420.5 739,-420.5 739,-414.5 745,-408.5 751,-408.5 751,-408.5 927,-408.5 927,-408.5 933,-408.5 939,-414.5 939,-420.5 939,-420.5 939,-449.5 939,-449.5 939,-455.5 933,-461.5 927,-461.5\"/>\n<text text-anchor=\"middle\" x=\"839\" y=\"-446.3\" font-family=\"Helvetica,sans-Serif\" font-size=\"14.00\" fill=\"#000000\">samples = 5.0%</text>\n<text text-anchor=\"middle\" x=\"839\" y=\"-431.3\" font-family=\"Helvetica,sans-Serif\" font-size=\"14.00\" fill=\"#000000\">value = [0.381, 0.045, 0.574]</text>\n<text text-anchor=\"middle\" x=\"839\" y=\"-416.3\" font-family=\"Helvetica,sans-Serif\" font-size=\"14.00\" fill=\"#000000\">class = non functional</text>\n</g>\n<!-- 1&#45;&gt;11 -->\n<g id=\"edge11\" class=\"edge\">\n<title>1&#45;&gt;11</title>\n<path fill=\"none\" stroke=\"#000000\" d=\"M750.2217,-504.9465C765.3206,-493.0504 782.2324,-479.726 797.2122,-467.9237\"/>\n<polygon fill=\"#000000\" stroke=\"#000000\" points=\"799.623,-470.4802 805.3119,-461.5422 795.2909,-464.9817 799.623,-470.4802\"/>\n</g>\n<!-- 3 -->\n<g id=\"node4\" class=\"node\">\n<title>3</title>\n<path fill=\"#f4c7a8\" stroke=\"#000000\" d=\"M568.5,-365C568.5,-365 339.5,-365 339.5,-365 333.5,-365 327.5,-359 327.5,-353 327.5,-353 327.5,-309 327.5,-309 327.5,-303 333.5,-297 339.5,-297 339.5,-297 568.5,-297 568.5,-297 574.5,-297 580.5,-303 580.5,-309 580.5,-309 580.5,-353 580.5,-353 580.5,-359 574.5,-365 568.5,-365\"/>\n<text text-anchor=\"middle\" x=\"454\" y=\"-349.8\" font-family=\"Helvetica,sans-Serif\" font-size=\"14.00\" fill=\"#000000\">extraction_type_class_gravity &lt;= 0.5</text>\n<text text-anchor=\"middle\" x=\"454\" y=\"-334.8\" font-family=\"Helvetica,sans-Serif\" font-size=\"14.00\" fill=\"#000000\">samples = 73.8%</text>\n<text text-anchor=\"middle\" x=\"454\" y=\"-319.8\" font-family=\"Helvetica,sans-Serif\" font-size=\"14.00\" fill=\"#000000\">value = [0.611, 0.085, 0.304]</text>\n<text text-anchor=\"middle\" x=\"454\" y=\"-304.8\" font-family=\"Helvetica,sans-Serif\" font-size=\"14.00\" fill=\"#000000\">class = functional</text>\n</g>\n<!-- 2&#45;&gt;3 -->\n<g id=\"edge3\" class=\"edge\">\n<title>2&#45;&gt;3</title>\n<path fill=\"none\" stroke=\"#000000\" d=\"M536.0526,-400.9465C525.0988,-391.6088 513.1127,-381.3911 501.768,-371.7203\"/>\n<polygon fill=\"#000000\" stroke=\"#000000\" points=\"503.9179,-368.9538 494.0371,-365.13 499.3767,-374.2809 503.9179,-368.9538\"/>\n</g>\n<!-- 10 -->\n<g id=\"node11\" class=\"node\">\n<title>10</title>\n<path fill=\"#f9e4d5\" stroke=\"#000000\" d=\"M787,-357.5C787,-357.5 611,-357.5 611,-357.5 605,-357.5 599,-351.5 599,-345.5 599,-345.5 599,-316.5 599,-316.5 599,-310.5 605,-304.5 611,-304.5 611,-304.5 787,-304.5 787,-304.5 793,-304.5 799,-310.5 799,-316.5 799,-316.5 799,-345.5 799,-345.5 799,-351.5 793,-357.5 787,-357.5\"/>\n<text text-anchor=\"middle\" x=\"699\" y=\"-342.3\" font-family=\"Helvetica,sans-Serif\" font-size=\"14.00\" fill=\"#000000\">samples = 10.3%</text>\n<text text-anchor=\"middle\" x=\"699\" y=\"-327.3\" font-family=\"Helvetica,sans-Serif\" font-size=\"14.00\" fill=\"#000000\">value = [0.541, 0.042, 0.416]</text>\n<text text-anchor=\"middle\" x=\"699\" y=\"-312.3\" font-family=\"Helvetica,sans-Serif\" font-size=\"14.00\" fill=\"#000000\">class = functional</text>\n</g>\n<!-- 2&#45;&gt;10 -->\n<g id=\"edge10\" class=\"edge\">\n<title>2&#45;&gt;10</title>\n<path fill=\"none\" stroke=\"#000000\" d=\"M616.2748,-400.9465C630.2139,-389.1606 645.8112,-375.9726 659.6732,-364.2519\"/>\n<polygon fill=\"#000000\" stroke=\"#000000\" points=\"662.2324,-366.6715 667.6088,-357.5422 657.7127,-361.3262 662.2324,-366.6715\"/>\n</g>\n<!-- 4 -->\n<g id=\"node5\" class=\"node\">\n<title>4</title>\n<path fill=\"#f3c5a4\" stroke=\"#000000\" d=\"M458.5,-261C458.5,-261 181.5,-261 181.5,-261 175.5,-261 169.5,-255 169.5,-249 169.5,-249 169.5,-205 169.5,-205 169.5,-199 175.5,-193 181.5,-193 181.5,-193 458.5,-193 458.5,-193 464.5,-193 470.5,-199 470.5,-205 470.5,-205 470.5,-249 470.5,-249 470.5,-255 464.5,-261 458.5,-261\"/>\n<text text-anchor=\"middle\" x=\"320\" y=\"-245.8\" font-family=\"Helvetica,sans-Serif\" font-size=\"14.00\" fill=\"#000000\">extraction_type_class_wind&#45;powered &lt;= 0.5</text>\n<text text-anchor=\"middle\" x=\"320\" y=\"-230.8\" font-family=\"Helvetica,sans-Serif\" font-size=\"14.00\" fill=\"#000000\">samples = 28.7%</text>\n<text text-anchor=\"middle\" x=\"320\" y=\"-215.8\" font-family=\"Helvetica,sans-Serif\" font-size=\"14.00\" fill=\"#000000\">value = [0.629, 0.059, 0.311]</text>\n<text text-anchor=\"middle\" x=\"320\" y=\"-200.8\" font-family=\"Helvetica,sans-Serif\" font-size=\"14.00\" fill=\"#000000\">class = functional</text>\n</g>\n<!-- 3&#45;&gt;4 -->\n<g id=\"edge4\" class=\"edge\">\n<title>3&#45;&gt;4</title>\n<path fill=\"none\" stroke=\"#000000\" d=\"M410.1234,-296.9465C397.9765,-287.519 384.6738,-277.1946 372.1073,-267.4415\"/>\n<polygon fill=\"#000000\" stroke=\"#000000\" points=\"374.021,-264.4963 363.9752,-261.13 369.7291,-270.0262 374.021,-264.4963\"/>\n</g>\n<!-- 9 -->\n<g id=\"node10\" class=\"node\">\n<title>9</title>\n<path fill=\"#f4c9aa\" stroke=\"#000000\" d=\"M677,-253.5C677,-253.5 501,-253.5 501,-253.5 495,-253.5 489,-247.5 489,-241.5 489,-241.5 489,-212.5 489,-212.5 489,-206.5 495,-200.5 501,-200.5 501,-200.5 677,-200.5 677,-200.5 683,-200.5 689,-206.5 689,-212.5 689,-212.5 689,-241.5 689,-241.5 689,-247.5 683,-253.5 677,-253.5\"/>\n<text text-anchor=\"middle\" x=\"589\" y=\"-238.3\" font-family=\"Helvetica,sans-Serif\" font-size=\"14.00\" fill=\"#000000\">samples = 45.1%</text>\n<text text-anchor=\"middle\" x=\"589\" y=\"-223.3\" font-family=\"Helvetica,sans-Serif\" font-size=\"14.00\" fill=\"#000000\">value = [0.599, 0.101, 0.299]</text>\n<text text-anchor=\"middle\" x=\"589\" y=\"-208.3\" font-family=\"Helvetica,sans-Serif\" font-size=\"14.00\" fill=\"#000000\">class = functional</text>\n</g>\n<!-- 3&#45;&gt;9 -->\n<g id=\"edge9\" class=\"edge\">\n<title>3&#45;&gt;9</title>\n<path fill=\"none\" stroke=\"#000000\" d=\"M498.204,-296.9465C513.6461,-285.0504 530.9422,-271.726 546.2625,-259.9237\"/>\n<polygon fill=\"#000000\" stroke=\"#000000\" points=\"548.7603,-262.4176 554.5462,-253.5422 544.4883,-256.8723 548.7603,-262.4176\"/>\n</g>\n<!-- 5 -->\n<g id=\"node6\" class=\"node\">\n<title>5</title>\n<path fill=\"#f3c4a3\" stroke=\"#000000\" d=\"M319,-157C319,-157 63,-157 63,-157 57,-157 51,-151 51,-145 51,-145 51,-101 51,-101 51,-95 57,-89 63,-89 63,-89 319,-89 319,-89 325,-89 331,-95 331,-101 331,-101 331,-145 331,-145 331,-151 325,-157 319,-157\"/>\n<text text-anchor=\"middle\" x=\"191\" y=\"-141.8\" font-family=\"Helvetica,sans-Serif\" font-size=\"14.00\" fill=\"#000000\">extraction_type_class_rope pump &lt;= 0.5</text>\n<text text-anchor=\"middle\" x=\"191\" y=\"-126.8\" font-family=\"Helvetica,sans-Serif\" font-size=\"14.00\" fill=\"#000000\">samples = 28.5%</text>\n<text text-anchor=\"middle\" x=\"191\" y=\"-111.8\" font-family=\"Helvetica,sans-Serif\" font-size=\"14.00\" fill=\"#000000\">value = [0.631, 0.059, 0.31]</text>\n<text text-anchor=\"middle\" x=\"191\" y=\"-96.8\" font-family=\"Helvetica,sans-Serif\" font-size=\"14.00\" fill=\"#000000\">class = functional</text>\n</g>\n<!-- 4&#45;&gt;5 -->\n<g id=\"edge5\" class=\"edge\">\n<title>4&#45;&gt;5</title>\n<path fill=\"none\" stroke=\"#000000\" d=\"M277.7606,-192.9465C266.0669,-183.519 253.2606,-173.1946 241.163,-163.4415\"/>\n<polygon fill=\"#000000\" stroke=\"#000000\" points=\"243.3162,-160.6816 233.3343,-157.13 238.9227,-166.1312 243.3162,-160.6816\"/>\n</g>\n<!-- 8 -->\n<g id=\"node9\" class=\"node\">\n<title>8</title>\n<path fill=\"#f8f3fd\" stroke=\"#000000\" d=\"M537,-149.5C537,-149.5 361,-149.5 361,-149.5 355,-149.5 349,-143.5 349,-137.5 349,-137.5 349,-108.5 349,-108.5 349,-102.5 355,-96.5 361,-96.5 361,-96.5 537,-96.5 537,-96.5 543,-96.5 549,-102.5 549,-108.5 549,-108.5 549,-137.5 549,-137.5 549,-143.5 543,-149.5 537,-149.5\"/>\n<text text-anchor=\"middle\" x=\"449\" y=\"-134.3\" font-family=\"Helvetica,sans-Serif\" font-size=\"14.00\" fill=\"#000000\">samples = 0.2%</text>\n<text text-anchor=\"middle\" x=\"449\" y=\"-119.3\" font-family=\"Helvetica,sans-Serif\" font-size=\"14.00\" fill=\"#000000\">value = [0.452, 0.065, 0.484]</text>\n<text text-anchor=\"middle\" x=\"449\" y=\"-104.3\" font-family=\"Helvetica,sans-Serif\" font-size=\"14.00\" fill=\"#000000\">class = non functional</text>\n</g>\n<!-- 4&#45;&gt;8 -->\n<g id=\"edge8\" class=\"edge\">\n<title>4&#45;&gt;8</title>\n<path fill=\"none\" stroke=\"#000000\" d=\"M362.2394,-192.9465C376.9952,-181.0504 393.5225,-167.726 408.162,-155.9237\"/>\n<polygon fill=\"#000000\" stroke=\"#000000\" points=\"410.4891,-158.5433 416.0775,-149.5422 406.0957,-153.0938 410.4891,-158.5433\"/>\n</g>\n<!-- 6 -->\n<g id=\"node7\" class=\"node\">\n<title>6</title>\n<path fill=\"#f3c5a3\" stroke=\"#000000\" d=\"M164,-53C164,-53 12,-53 12,-53 6,-53 0,-47 0,-41 0,-41 0,-12 0,-12 0,-6 6,0 12,0 12,0 164,0 164,0 170,0 176,-6 176,-12 176,-12 176,-41 176,-41 176,-47 170,-53 164,-53\"/>\n<text text-anchor=\"middle\" x=\"88\" y=\"-37.8\" font-family=\"Helvetica,sans-Serif\" font-size=\"14.00\" fill=\"#000000\">samples = 27.7%</text>\n<text text-anchor=\"middle\" x=\"88\" y=\"-22.8\" font-family=\"Helvetica,sans-Serif\" font-size=\"14.00\" fill=\"#000000\">value = [0.63, 0.06, 0.31]</text>\n<text text-anchor=\"middle\" x=\"88\" y=\"-7.8\" font-family=\"Helvetica,sans-Serif\" font-size=\"14.00\" fill=\"#000000\">class = functional</text>\n</g>\n<!-- 5&#45;&gt;6 -->\n<g id=\"edge6\" class=\"edge\">\n<title>5&#45;&gt;6</title>\n<path fill=\"none\" stroke=\"#000000\" d=\"M154.6861,-88.9777C144.7168,-79.6376 133.9138,-69.5163 123.9643,-60.1947\"/>\n<polygon fill=\"#000000\" stroke=\"#000000\" points=\"126.2408,-57.5314 116.5502,-53.2485 121.4548,-62.6397 126.2408,-57.5314\"/>\n</g>\n<!-- 7 -->\n<g id=\"node8\" class=\"node\">\n<title>7</title>\n<path fill=\"#f2bf9b\" stroke=\"#000000\" d=\"M382,-53C382,-53 206,-53 206,-53 200,-53 194,-47 194,-41 194,-41 194,-12 194,-12 194,-6 200,0 206,0 206,0 382,0 382,0 388,0 394,-6 394,-12 394,-12 394,-41 394,-41 394,-47 388,-53 382,-53\"/>\n<text text-anchor=\"middle\" x=\"294\" y=\"-37.8\" font-family=\"Helvetica,sans-Serif\" font-size=\"14.00\" fill=\"#000000\">samples = 0.7%</text>\n<text text-anchor=\"middle\" x=\"294\" y=\"-22.8\" font-family=\"Helvetica,sans-Serif\" font-size=\"14.00\" fill=\"#000000\">value = [0.657, 0.037, 0.306]</text>\n<text text-anchor=\"middle\" x=\"294\" y=\"-7.8\" font-family=\"Helvetica,sans-Serif\" font-size=\"14.00\" fill=\"#000000\">class = functional</text>\n</g>\n<!-- 5&#45;&gt;7 -->\n<g id=\"edge7\" class=\"edge\">\n<title>5&#45;&gt;7</title>\n<path fill=\"none\" stroke=\"#000000\" d=\"M227.3139,-88.9777C237.2832,-79.6376 248.0862,-69.5163 258.0357,-60.1947\"/>\n<polygon fill=\"#000000\" stroke=\"#000000\" points=\"260.5452,-62.6397 265.4498,-53.2485 255.7592,-57.5314 260.5452,-62.6397\"/>\n</g>\n</g>\n</svg>\n"
          },
          "metadata": {
            "tags": []
          }
        }
      ]
    },
    {
      "cell_type": "markdown",
      "metadata": {
        "colab_type": "text",
        "id": "QUd6gzcZgLVz"
      },
      "source": [
        "### [Ordinal Encoding](http://contrib.scikit-learn.org/categorical-encoding/ordinal.html)\n",
        "\n",
        "> Ordinal encoding uses a single column of integers to represent the classes. An optional mapping dict can be passed in; in this case, we use the knowledge that there is some true order to the classes themselves. Otherwise, the classes are assumed to have no true order and integers are selected at random."
      ]
    },
    {
      "cell_type": "code",
      "metadata": {
        "colab_type": "code",
        "id": "CnBz2RbwgLVz",
        "outputId": "c7550321-7af7-4719-ddb0-a94aeb7442eb",
        "colab": {
          "base_uri": "https://localhost:8080/",
          "height": 686
        }
      },
      "source": [
        "encoder = ce.OrdinalEncoder()\n",
        "encoded = encoder.fit_transform(X_train[[feature]])\n",
        "print(f'1 column, {encoded[feature].nunique()} unique values')\n",
        "encoded.head(20)"
      ],
      "execution_count": 32,
      "outputs": [
        {
          "output_type": "stream",
          "text": [
            "1 column, 7 unique values\n"
          ],
          "name": "stdout"
        },
        {
          "output_type": "execute_result",
          "data": {
            "text/html": [
              "<div>\n",
              "<style scoped>\n",
              "    .dataframe tbody tr th:only-of-type {\n",
              "        vertical-align: middle;\n",
              "    }\n",
              "\n",
              "    .dataframe tbody tr th {\n",
              "        vertical-align: top;\n",
              "    }\n",
              "\n",
              "    .dataframe thead th {\n",
              "        text-align: right;\n",
              "    }\n",
              "</style>\n",
              "<table border=\"1\" class=\"dataframe\">\n",
              "  <thead>\n",
              "    <tr style=\"text-align: right;\">\n",
              "      <th></th>\n",
              "      <th>extraction_type_class</th>\n",
              "    </tr>\n",
              "  </thead>\n",
              "  <tbody>\n",
              "    <tr>\n",
              "      <th>43360</th>\n",
              "      <td>1</td>\n",
              "    </tr>\n",
              "    <tr>\n",
              "      <th>7263</th>\n",
              "      <td>1</td>\n",
              "    </tr>\n",
              "    <tr>\n",
              "      <th>2486</th>\n",
              "      <td>2</td>\n",
              "    </tr>\n",
              "    <tr>\n",
              "      <th>313</th>\n",
              "      <td>3</td>\n",
              "    </tr>\n",
              "    <tr>\n",
              "      <th>52726</th>\n",
              "      <td>4</td>\n",
              "    </tr>\n",
              "    <tr>\n",
              "      <th>8558</th>\n",
              "      <td>1</td>\n",
              "    </tr>\n",
              "    <tr>\n",
              "      <th>2559</th>\n",
              "      <td>1</td>\n",
              "    </tr>\n",
              "    <tr>\n",
              "      <th>54735</th>\n",
              "      <td>4</td>\n",
              "    </tr>\n",
              "    <tr>\n",
              "      <th>25763</th>\n",
              "      <td>2</td>\n",
              "    </tr>\n",
              "    <tr>\n",
              "      <th>44540</th>\n",
              "      <td>5</td>\n",
              "    </tr>\n",
              "    <tr>\n",
              "      <th>28603</th>\n",
              "      <td>3</td>\n",
              "    </tr>\n",
              "    <tr>\n",
              "      <th>4372</th>\n",
              "      <td>5</td>\n",
              "    </tr>\n",
              "    <tr>\n",
              "      <th>30666</th>\n",
              "      <td>1</td>\n",
              "    </tr>\n",
              "    <tr>\n",
              "      <th>6431</th>\n",
              "      <td>5</td>\n",
              "    </tr>\n",
              "    <tr>\n",
              "      <th>57420</th>\n",
              "      <td>3</td>\n",
              "    </tr>\n",
              "    <tr>\n",
              "      <th>1373</th>\n",
              "      <td>1</td>\n",
              "    </tr>\n",
              "    <tr>\n",
              "      <th>2026</th>\n",
              "      <td>1</td>\n",
              "    </tr>\n",
              "    <tr>\n",
              "      <th>58977</th>\n",
              "      <td>2</td>\n",
              "    </tr>\n",
              "    <tr>\n",
              "      <th>41101</th>\n",
              "      <td>1</td>\n",
              "    </tr>\n",
              "    <tr>\n",
              "      <th>10019</th>\n",
              "      <td>1</td>\n",
              "    </tr>\n",
              "  </tbody>\n",
              "</table>\n",
              "</div>"
            ],
            "text/plain": [
              "       extraction_type_class\n",
              "43360                      1\n",
              "7263                       1\n",
              "2486                       2\n",
              "313                        3\n",
              "52726                      4\n",
              "8558                       1\n",
              "2559                       1\n",
              "54735                      4\n",
              "25763                      2\n",
              "44540                      5\n",
              "28603                      3\n",
              "4372                       5\n",
              "30666                      1\n",
              "6431                       5\n",
              "57420                      3\n",
              "1373                       1\n",
              "2026                       1\n",
              "58977                      2\n",
              "41101                      1\n",
              "10019                      1"
            ]
          },
          "metadata": {
            "tags": []
          },
          "execution_count": 32
        }
      ]
    },
    {
      "cell_type": "markdown",
      "metadata": {
        "colab_type": "text",
        "id": "Nd-ZWprasqUM"
      },
      "source": [
        "#### Ordinal Encoding, Logistic Regression, Validation Accuracy"
      ]
    },
    {
      "cell_type": "code",
      "metadata": {
        "colab_type": "code",
        "id": "GJ1YpwjvrhfL",
        "outputId": "d0764a6d-e4bc-4c6a-fa53-4fd13fe01b00",
        "colab": {
          "base_uri": "https://localhost:8080/",
          "height": 34
        }
      },
      "source": [
        "lr = make_pipeline(\n",
        "    ce.OrdinalEncoder(), \n",
        "    SimpleImputer(), \n",
        "    StandardScaler(), \n",
        "    LogisticRegressionCV(multi_class='auto', solver='lbfgs', cv=5, n_jobs=-1)\n",
        ")\n",
        "\n",
        "lr.fit(X_train[[feature]], y_train)\n",
        "score = lr.score(X_val[[feature]], y_val)\n",
        "print('Logistic Regression, Validation Accuracy', score)"
      ],
      "execution_count": 33,
      "outputs": [
        {
          "output_type": "stream",
          "text": [
            "Logistic Regression, Validation Accuracy 0.5417508417508418\n"
          ],
          "name": "stdout"
        }
      ]
    },
    {
      "cell_type": "markdown",
      "metadata": {
        "colab_type": "text",
        "id": "9lO_R3SksuHs"
      },
      "source": [
        "#### Ordinal Encoding, Decision Tree, Validation Accuracy"
      ]
    },
    {
      "cell_type": "code",
      "metadata": {
        "colab_type": "code",
        "id": "aOELD_roriVI",
        "outputId": "f2be6ed9-88fe-412c-daf4-2ff31cad6c80",
        "colab": {
          "base_uri": "https://localhost:8080/",
          "height": 34
        }
      },
      "source": [
        "dt = make_pipeline(\n",
        "    ce.OrdinalEncoder(), \n",
        "    SimpleImputer(), \n",
        "    DecisionTreeClassifier(random_state=42)\n",
        ")\n",
        "\n",
        "dt.fit(X_train[[feature]], y_train)\n",
        "score = dt.score(X_val[[feature]], y_val)\n",
        "print('Decision Tree, Validation Accuracy', score)"
      ],
      "execution_count": 34,
      "outputs": [
        {
          "output_type": "stream",
          "text": [
            "Decision Tree, Validation Accuracy 0.6202861952861953\n"
          ],
          "name": "stdout"
        }
      ]
    },
    {
      "cell_type": "markdown",
      "metadata": {
        "colab_type": "text",
        "id": "7V2zHjiwswTg"
      },
      "source": [
        "#### Ordinal Encoding, Logistic Regression, Model Interpretation"
      ]
    },
    {
      "cell_type": "code",
      "metadata": {
        "colab_type": "code",
        "id": "S9UPYPois8QR",
        "colab": {}
      },
      "source": [
        "model = lr.named_steps['logisticregressioncv']\n",
        "encoder = lr.named_steps['ordinalencoder']\n",
        "encoded_columns = encoder.transform(X_val[[feature]]).columns\n",
        "coefficients = pd.Series(model.coef_[0], encoded_columns)\n",
        "coefficients.sort_values().plot.barh(color='grey');"
      ],
      "execution_count": 0,
      "outputs": []
    },
    {
      "cell_type": "markdown",
      "metadata": {
        "colab_type": "text",
        "id": "MvmmvE8fsymh"
      },
      "source": [
        "#### Ordinal Encoding, Decision Tree, Model Interpretation"
      ]
    },
    {
      "cell_type": "code",
      "metadata": {
        "colab_type": "code",
        "id": "jCvUu4Oms88b",
        "colab": {}
      },
      "source": [
        "model = dt.named_steps['decisiontreeclassifier']\n",
        "encoder = dt.named_steps['ordinalencoder']\n",
        "encoded_columns = encoder.transform(X_val[[feature]]).columns\n",
        "\n",
        "dot_data = export_graphviz(model, \n",
        "                           out_file=None, \n",
        "                           max_depth=5, \n",
        "                           feature_names=encoded_columns,\n",
        "                           class_names=model.classes_, \n",
        "                           impurity=False, \n",
        "                           filled=True, \n",
        "                           proportion=True, \n",
        "                           rounded=True)   \n",
        "display(graphviz.Source(dot_data))"
      ],
      "execution_count": 0,
      "outputs": []
    },
    {
      "cell_type": "markdown",
      "metadata": {
        "colab_type": "text",
        "id": "P4EJi2GvgLVa"
      },
      "source": [
        "# Understand how tree ensembles reduce overfitting compared to a single decision tree with unlimited depth"
      ]
    },
    {
      "cell_type": "markdown",
      "metadata": {
        "id": "VNVIWi9LmSVu",
        "colab_type": "text"
      },
      "source": [
        "## Overview"
      ]
    },
    {
      "cell_type": "markdown",
      "metadata": {
        "colab_type": "text",
        "id": "0nNABF3HgLVg"
      },
      "source": [
        "### What's \"random\" about random forests?\n",
        "1. Each tree trains on a random bootstrap sample of the data. (In scikit-learn, for `RandomForestRegressor` and `RandomForestClassifier`, the `bootstrap` parameter's default is `True`.) This type of ensembling is called Bagging. (Bootstrap AGGregatING.)\n",
        "2. Each split considers a random subset of the features. (In scikit-learn, when the `max_features` parameter is not `None`.) \n",
        "\n",
        "For extra randomness, you can try [\"extremely randomized trees\"](https://scikit-learn.org/stable/modules/ensemble.html#extremely-randomized-trees)!\n",
        "\n",
        ">In extremely randomized trees (see [ExtraTreesClassifier](https://scikit-learn.org/stable/modules/generated/sklearn.ensemble.ExtraTreesClassifier.html) and [ExtraTreesRegressor](https://scikit-learn.org/stable/modules/generated/sklearn.ensemble.ExtraTreesRegressor.html) classes), randomness goes one step further in the way splits are computed. As in random forests, a random subset of candidate features is used, but instead of looking for the most discriminative thresholds, thresholds are drawn at random for each candidate feature and the best of these randomly-generated thresholds is picked as the splitting rule. This usually allows to reduce the variance of the model a bit more, at the expense of a slightly greater increase in bias"
      ]
    },
    {
      "cell_type": "markdown",
      "metadata": {
        "id": "VsnKem5FmSVv",
        "colab_type": "text"
      },
      "source": [
        "## Follow Along"
      ]
    },
    {
      "cell_type": "markdown",
      "metadata": {
        "colab_type": "text",
        "id": "pUYP619CgLVb"
      },
      "source": [
        "### Example: [predicting golf putts](https://statmodeling.stat.columbia.edu/2008/12/04/the_golf_puttin/)\n",
        "(1 feature, non-linear, regression)"
      ]
    },
    {
      "cell_type": "code",
      "metadata": {
        "colab_type": "code",
        "id": "b4640ukxgLVc",
        "colab": {}
      },
      "source": [
        "putts = pd.DataFrame(\n",
        "    columns=['distance', 'tries', 'successes'], \n",
        "    data = [[2, 1443, 1346],\n",
        "            [3, 694, 577],\n",
        "            [4, 455, 337],\n",
        "            [5, 353, 208],\n",
        "            [6, 272, 149],\n",
        "            [7, 256, 136],\n",
        "            [8, 240, 111],\n",
        "            [9, 217, 69],\n",
        "            [10, 200, 67],\n",
        "            [11, 237, 75],\n",
        "            [12, 202, 52],\n",
        "            [13, 192, 46],\n",
        "            [14, 174, 54],\n",
        "            [15, 167, 28],\n",
        "            [16, 201, 27],\n",
        "            [17, 195, 31],\n",
        "            [18, 191, 33],\n",
        "            [19, 147, 20],\n",
        "            [20, 152, 24]]\n",
        ")\n",
        "\n",
        "putts['rate of success'] = putts['successes'] / putts['tries']\n",
        "putts_X = putts[['distance']]\n",
        "putts_y = putts['rate of success']"
      ],
      "execution_count": 0,
      "outputs": []
    },
    {
      "cell_type": "code",
      "metadata": {
        "colab_type": "code",
        "id": "T0IpCcKggLVd",
        "outputId": "19a64a5a-9f33-4e0e-ce1b-001a038ba3d7",
        "colab": {
          "base_uri": "https://localhost:8080/",
          "height": 637,
          "referenced_widgets": [
            "3ed1f2b32efd49708decef49f7f181a4",
            "7e44f951afd449489a1e9776119950e8",
            "07be0533540b478da0495f497466ad93",
            "8739bd7acbd14a0fb83e5d91a7c6610b",
            "f869783f78a54335a7cf2e77642c53c3",
            "213cd30f29fc46e7a1a52e2c2c3492d4",
            "34751f90038044b4a4726655afdd0f11",
            "06aaf05b4ca64ea9b0a6cdf9337b344a",
            "54e4a81817ab4c76b7ac906b9864751e"
          ]
        }
      },
      "source": [
        "%matplotlib inline\n",
        "import matplotlib.pyplot as plt\n",
        "from ipywidgets import interact\n",
        "from sklearn.ensemble import RandomForestRegressor\n",
        "from sklearn.tree import DecisionTreeRegressor\n",
        "\n",
        "def putt_trees(max_depth=1, n_estimators=1):\n",
        "    models = [DecisionTreeRegressor(max_depth=max_depth), \n",
        "              RandomForestRegressor(max_depth=max_depth, n_estimators=n_estimators)]\n",
        "    \n",
        "    for model in models:\n",
        "        name = model.__class__.__name__\n",
        "        model.fit(putts_X, putts_y)\n",
        "        ax = putts.plot('distance', 'rate of success', kind='scatter', title=name)\n",
        "        ax.step(putts_X, model.predict(putts_X), where='mid')\n",
        "        plt.show()\n",
        "        \n",
        "interact(putt_trees, max_depth=(1,6,1), n_estimators=(10,40,10));"
      ],
      "execution_count": 36,
      "outputs": [
        {
          "output_type": "display_data",
          "data": {
            "application/vnd.jupyter.widget-view+json": {
              "model_id": "3ed1f2b32efd49708decef49f7f181a4",
              "version_minor": 0,
              "version_major": 2
            },
            "text/plain": [
              "interactive(children=(IntSlider(value=1, description='max_depth', max=6, min=1), IntSlider(value=10, descripti…"
            ]
          },
          "metadata": {
            "tags": []
          }
        }
      ]
    },
    {
      "cell_type": "markdown",
      "metadata": {
        "colab_type": "text",
        "id": "_KgZK9_9gLVh"
      },
      "source": [
        "### Bagging demo, with golf putts data\n",
        "https://pandas.pydata.org/pandas-docs/stable/reference/api/pandas.DataFrame.sample.html"
      ]
    },
    {
      "cell_type": "code",
      "metadata": {
        "colab_type": "code",
        "id": "vA9mrSTNgLVi",
        "scrolled": false,
        "colab": {}
      },
      "source": [
        "# Do-it-yourself Bagging Ensemble of Decision Trees (like a Random Forest)\n",
        "def diy_bagging(max_depth=1, n_estimators=1):\n",
        "    y_preds = []\n",
        "    for i in range(n_estimators):\n",
        "        title = f'Tree {i+1}'\n",
        "        bootstrap_sample = putts.sample(n=len(putts), replace=True).sort_values(by='distance')\n",
        "        bootstrap_X = bootstrap_sample[['distance']]\n",
        "        bootstrap_y = bootstrap_sample['rate of success']\n",
        "        tree = DecisionTreeRegressor(max_depth=max_depth)\n",
        "        tree.fit(bootstrap_X, bootstrap_y)\n",
        "        y_pred = tree.predict(bootstrap_X)\n",
        "        y_preds.append(y_pred)\n",
        "        ax = bootstrap_sample.plot('distance', 'rate of success', kind='scatter', title=title)\n",
        "        ax.step(bootstrap_X, y_pred, where='mid')\n",
        "        plt.show()\n",
        "        \n",
        "    ensembled = np.vstack(y_preds).mean(axis=0)\n",
        "    title = f'Ensemble of {n_estimators} trees, with max_depth={max_depth}'\n",
        "    ax = putts.plot('distance', 'rate of success', kind='scatter', title=title)\n",
        "    ax.step(putts_X, ensembled, where='mid')\n",
        "    plt.show()\n",
        "    \n",
        "interact(diy_bagging, max_depth=(1,6,1), n_estimators=(2,5,1));"
      ],
      "execution_count": 0,
      "outputs": []
    },
    {
      "cell_type": "markdown",
      "metadata": {
        "colab_type": "text",
        "id": "rq4Z_wQ_gLVj"
      },
      "source": [
        "### Go back to Tanzania Waterpumps ..."
      ]
    },
    {
      "cell_type": "markdown",
      "metadata": {
        "colab_type": "text",
        "id": "FoSE9iT6YXQz"
      },
      "source": [
        "#### Helper function to visualize predicted probabilities\n",
        "\n"
      ]
    },
    {
      "cell_type": "code",
      "metadata": {
        "colab_type": "code",
        "id": "HzIAjGpJgLVj",
        "colab": {}
      },
      "source": [
        "import itertools\n",
        "import seaborn as sns\n",
        "\n",
        "def pred_heatmap(model, X, features, class_index=-1, title='', num=100):\n",
        "    \"\"\"\n",
        "    Visualize predicted probabilities, for classifier fit on 2 numeric features\n",
        "    \n",
        "    Parameters\n",
        "    ----------\n",
        "    model : scikit-learn classifier, already fit\n",
        "    X : pandas dataframe, which was used to fit model\n",
        "    features : list of strings, column names of the 2 numeric features\n",
        "    class_index : integer, index of class label\n",
        "    title : string, title of plot\n",
        "    num : int, number of grid points for each feature\n",
        "    \n",
        "    Returns\n",
        "    -------\n",
        "    y_pred_proba : numpy array, predicted probabilities for class_index\n",
        "    \"\"\"\n",
        "    feature1, feature2 = features\n",
        "    min1, max1 = X[feature1].min(), X[feature1].max()\n",
        "    min2, max2 = X[feature2].min(), X[feature2].max()\n",
        "    x1 = np.linspace(min1, max1, num)\n",
        "    x2 = np.linspace(max2, min2, num)\n",
        "    combos = list(itertools.product(x1, x2))\n",
        "    y_pred_proba = model.predict_proba(combos)[:, class_index]\n",
        "    pred_grid = y_pred_proba.reshape(num, num).T\n",
        "    table = pd.DataFrame(pred_grid, columns=x1, index=x2)\n",
        "    sns.heatmap(table, vmin=0, vmax=1)\n",
        "    plt.xticks([])\n",
        "    plt.yticks([])\n",
        "    plt.xlabel(feature1)\n",
        "    plt.ylabel(feature2)\n",
        "    plt.title(title)\n",
        "    plt.show()\n",
        "    return y_pred_proba\n"
      ],
      "execution_count": 0,
      "outputs": []
    },
    {
      "cell_type": "markdown",
      "metadata": {
        "colab_type": "text",
        "id": "DiRfPqHjgLVl"
      },
      "source": [
        "### Compare Decision Tree, Random Forest, Logistic Regression"
      ]
    },
    {
      "cell_type": "code",
      "metadata": {
        "colab_type": "code",
        "id": "HKkMLXhMgLVl",
        "colab": {}
      },
      "source": [
        "# Instructions\n",
        "# 1. Choose two features\n",
        "# 2. Run this code cell\n",
        "# 3. Interact with the widget sliders\n",
        "feature1 = 'longitude'\n",
        "feature2 = 'quantity'\n",
        "\n",
        "from sklearn.linear_model import LogisticRegression\n",
        "from sklearn.tree import DecisionTreeClassifier\n",
        "\n",
        "def get_X_y(df, feature1, feature2, target):\n",
        "    features = [feature1, feature2]\n",
        "    X = df[features]\n",
        "    y = df[target]\n",
        "    X = X.fillna(X.median())\n",
        "    X = ce.OrdinalEncoder().fit_transform(X)\n",
        "    return X, y\n",
        "\n",
        "def compare_models(max_depth=1, n_estimators=1):\n",
        "    models = [DecisionTreeClassifier(max_depth=max_depth), \n",
        "              RandomForestClassifier(max_depth=max_depth, n_estimators=n_estimators), \n",
        "              LogisticRegression(solver='lbfgs', multi_class='auto')]\n",
        "    \n",
        "    for model in models:\n",
        "        name = model.__class__.__name__\n",
        "        model.fit(X, y)\n",
        "        pred_heatmap(model, X, [feature1, feature2], class_index=0, title=name)\n",
        "\n",
        "X, y = get_X_y(train, feature1, feature2, target='status_group')\n",
        "interact(compare_models, max_depth=(1,6,1), n_estimators=(10,40,10));"
      ],
      "execution_count": 0,
      "outputs": []
    },
    {
      "cell_type": "markdown",
      "metadata": {
        "colab_type": "text",
        "id": "hOQqjLEDgLVn"
      },
      "source": [
        "### Bagging"
      ]
    },
    {
      "cell_type": "code",
      "metadata": {
        "colab_type": "code",
        "id": "Hm4aPgs2gLVn",
        "colab": {}
      },
      "source": [
        "# Do-it-yourself Bagging Ensemble of Decision Trees (like a Random Forest)\n",
        "\n",
        "# Instructions\n",
        "# 1. Choose two features\n",
        "# 2. Run this code cell\n",
        "# 3. Interact with the widget sliders\n",
        "\n",
        "feature1 = 'longitude'\n",
        "feature2 = 'latitude'\n",
        "\n",
        "def waterpumps_bagging(max_depth=1, n_estimators=1):\n",
        "    predicteds = []\n",
        "    for i in range(n_estimators):\n",
        "        title = f'Tree {i+1}'\n",
        "        bootstrap_sample = train.sample(n=len(train), replace=True)\n",
        "        X, y = get_X_y(bootstrap_sample, feature1, feature2, target='status_group')\n",
        "        tree = DecisionTreeClassifier(max_depth=max_depth)\n",
        "        tree.fit(X, y)\n",
        "        predicted = pred_heatmap(tree, X, [feature1, feature2], class_index=0, title=title)\n",
        "        predicteds.append(predicted)\n",
        "    \n",
        "    ensembled = np.vstack(predicteds).mean(axis=0)\n",
        "    title = f'Ensemble of {n_estimators} trees, with max_depth={max_depth}'\n",
        "    sns.heatmap(ensembled.reshape(100, 100).T, vmin=0, vmax=1)\n",
        "    plt.title(title)\n",
        "    plt.xlabel(feature1)\n",
        "    plt.ylabel(feature2)\n",
        "    plt.xticks([])\n",
        "    plt.yticks([])\n",
        "    plt.show()\n",
        "        \n",
        "interact(waterpumps_bagging, max_depth=(1,6,1), n_estimators=(2,5,1));"
      ],
      "execution_count": 0,
      "outputs": []
    },
    {
      "cell_type": "markdown",
      "metadata": {
        "colab_type": "text",
        "id": "wYoSBi15akWP"
      },
      "source": [
        "# Review\n",
        "\n",
        "#### Try Tree Ensembles when you do machine learning with labeled, tabular data\n",
        "- \"Tree Ensembles\" means Random Forest or Gradient Boosting models. \n",
        "- [Tree Ensembles often have the best predictive accuracy](https://arxiv.org/abs/1708.05070) with labeled, tabular data.\n",
        "- Why? Because trees can fit non-linear, non-[monotonic](https://en.wikipedia.org/wiki/Monotonic_function) relationships, and [interactions](https://christophm.github.io/interpretable-ml-book/interaction.html) between features.\n",
        "- A single decision tree, grown to unlimited depth, will [overfit](http://www.r2d3.us/visual-intro-to-machine-learning-part-1/). We solve this problem by ensembling trees, with bagging (Random Forest) or boosting (Gradient Boosting).\n",
        "- Random Forest's advantage: may be less sensitive to hyperparameters. Gradient Boosting's advantage: may get better predictive accuracy.\n",
        "\n",
        "#### One-hot encoding isn’t the only way, and may not be the best way, of categorical encoding for tree ensembles.\n",
        "- For example, tree ensembles can work with arbitrary \"ordinal\" encoding! (Randomly assigning an integer to each category.) Compared to one-hot encoding, the dimensionality will be lower, and the predictive accuracy may be just as good or even better.\n"
      ]
    }
  ]
}