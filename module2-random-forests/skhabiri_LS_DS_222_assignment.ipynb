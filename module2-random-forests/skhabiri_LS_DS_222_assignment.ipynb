{
  "nbformat": 4,
  "nbformat_minor": 0,
  "metadata": {
    "kernelspec": {
      "display_name": "Python 3",
      "language": "python",
      "name": "python3"
    },
    "language_info": {
      "codemirror_mode": {
        "name": "ipython",
        "version": 3
      },
      "file_extension": ".py",
      "mimetype": "text/x-python",
      "name": "python",
      "nbconvert_exporter": "python",
      "pygments_lexer": "ipython3",
      "version": "3.7.3"
    },
    "colab": {
      "name": "skhabiri_LS_DS_222_assignment.ipynb",
      "provenance": [],
      "collapsed_sections": [],
      "include_colab_link": true
    }
  },
  "cells": [
    {
      "cell_type": "markdown",
      "metadata": {
        "id": "view-in-github",
        "colab_type": "text"
      },
      "source": [
        "<a href=\"https://colab.research.google.com/github/skhabiri/DS-Unit-2-Kaggle-Challenge/blob/master/module2-random-forests/skhabiri_LS_DS_222_assignment.ipynb\" target=\"_parent\"><img src=\"https://colab.research.google.com/assets/colab-badge.svg\" alt=\"Open In Colab\"/></a>"
      ]
    },
    {
      "cell_type": "markdown",
      "metadata": {
        "id": "A6vAr87AkEPy",
        "colab_type": "text"
      },
      "source": [
        "Lambda School Data Science\n",
        "\n",
        "*Unit 2, Sprint 2, Module 2*\n",
        "\n",
        "---"
      ]
    },
    {
      "cell_type": "markdown",
      "metadata": {
        "colab_type": "text",
        "id": "7IXUfiQ2UKj6"
      },
      "source": [
        "# Random Forests\n",
        "\n",
        "## Assignment\n",
        "- [ ] Read [“Adopting a Hypothesis-Driven Workflow”](http://archive.is/Nu3EI), a blog post by a Lambda DS student about the Tanzania Waterpumps challenge.\n",
        "- [ ] Continue to participate in our Kaggle challenge.\n",
        "- [ ] Define a function to wrangle train, validate, and test sets in the same way. Clean outliers and engineer features.\n",
        "- [ ] Try Ordinal Encoding.\n",
        "- [ ] Try a Random Forest Classifier.\n",
        "- [ ] Submit your predictions to our Kaggle competition. (Go to our Kaggle InClass competition webpage. Use the blue **Submit Predictions** button to upload your CSV file. Or you can use the Kaggle API to submit your predictions.)\n",
        "- [ ] Commit your notebook to your fork of the GitHub repo.\n",
        "\n",
        "## Stretch Goals\n",
        "\n",
        "### Doing\n",
        "- [ ] Add your own stretch goal(s) !\n",
        "- [ ] Do more exploratory data analysis, data cleaning, feature engineering, and feature selection.\n",
        "- [ ] Try other [categorical encodings](https://contrib.scikit-learn.org/category_encoders/).\n",
        "- [ ] Get and plot your feature importances.\n",
        "- [ ] Make visualizations and share on Slack.\n",
        "\n",
        "### Reading\n",
        "\n",
        "Top recommendations in _**bold italic:**_\n",
        "\n",
        "#### Decision Trees\n",
        "- A Visual Introduction to Machine Learning, [Part 1: A Decision Tree](http://www.r2d3.us/visual-intro-to-machine-learning-part-1/),  and _**[Part 2: Bias and Variance](http://www.r2d3.us/visual-intro-to-machine-learning-part-2/)**_\n",
        "- [Decision Trees: Advantages & Disadvantages](https://christophm.github.io/interpretable-ml-book/tree.html#advantages-2)\n",
        "- [How a Russian mathematician constructed a decision tree — by hand — to solve a medical problem](http://fastml.com/how-a-russian-mathematician-constructed-a-decision-tree-by-hand-to-solve-a-medical-problem/)\n",
        "- [How decision trees work](https://brohrer.github.io/how_decision_trees_work.html)\n",
        "- [Let’s Write a Decision Tree Classifier from Scratch](https://www.youtube.com/watch?v=LDRbO9a6XPU)\n",
        "\n",
        "#### Random Forests\n",
        "- [_An Introduction to Statistical Learning_](http://www-bcf.usc.edu/~gareth/ISL/), Chapter 8: Tree-Based Methods\n",
        "- [Coloring with Random Forests](http://structuringtheunstructured.blogspot.com/2017/11/coloring-with-random-forests.html)\n",
        "- _**[Random Forests for Complete Beginners: The definitive guide to Random Forests and Decision Trees](https://victorzhou.com/blog/intro-to-random-forests/)**_\n",
        "\n",
        "#### Categorical encoding for trees\n",
        "- [Are categorical variables getting lost in your random forests?](https://roamanalytics.com/2016/10/28/are-categorical-variables-getting-lost-in-your-random-forests/)\n",
        "- [Beyond One-Hot: An Exploration of Categorical Variables](http://www.willmcginnis.com/2015/11/29/beyond-one-hot-an-exploration-of-categorical-variables/)\n",
        "- _**[Categorical Features and Encoding in Decision Trees](https://medium.com/data-design/visiting-categorical-features-and-encoding-in-decision-trees-53400fa65931)**_\n",
        "- _**[Coursera — How to Win a Data Science Competition: Learn from Top Kagglers — Concept of mean encoding](https://www.coursera.org/lecture/competitive-data-science/concept-of-mean-encoding-b5Gxv)**_\n",
        "- [Mean (likelihood) encodings: a comprehensive study](https://www.kaggle.com/vprokopev/mean-likelihood-encodings-a-comprehensive-study)\n",
        "- [The Mechanics of Machine Learning, Chapter 6: Categorically Speaking](https://mlbook.explained.ai/catvars.html)\n",
        "\n",
        "#### Imposter Syndrome\n",
        "- [Effort Shock and Reward Shock (How The Karate Kid Ruined The Modern World)](http://www.tempobook.com/2014/07/09/effort-shock-and-reward-shock/)\n",
        "- [How to manage impostor syndrome in data science](https://towardsdatascience.com/how-to-manage-impostor-syndrome-in-data-science-ad814809f068)\n",
        "- [\"I am not a real data scientist\"](https://brohrer.github.io/imposter_syndrome.html)\n",
        "- _**[Imposter Syndrome in Data Science](https://caitlinhudon.com/2018/01/19/imposter-syndrome-in-data-science/)**_\n",
        "\n",
        "\n",
        "### More Categorical Encodings\n",
        "\n",
        "**1.** The article **[Categorical Features and Encoding in Decision Trees](https://medium.com/data-design/visiting-categorical-features-and-encoding-in-decision-trees-53400fa65931)** mentions 4 encodings:\n",
        "\n",
        "- **\"Categorical Encoding\":** This means using the raw categorical values as-is, not encoded. Scikit-learn doesn't support this, but some tree algorithm implementations do. For example, [Catboost](https://catboost.ai/), or R's [rpart](https://cran.r-project.org/web/packages/rpart/index.html) package.\n",
        "- **Numeric Encoding:** Synonymous with Label Encoding, or \"Ordinal\" Encoding with random order. We can use [category_encoders.OrdinalEncoder](https://contrib.scikit-learn.org/category_encoders/ordinal.html).\n",
        "- **One-Hot Encoding:** We can use [category_encoders.OneHotEncoder](https://contrib.scikit-learn.org/category_encoders/onehot.html).\n",
        "- **Binary Encoding:** We can use [category_encoders.BinaryEncoder](https://contrib.scikit-learn.org/category_encoders/binary.html).\n",
        "\n",
        "\n",
        "**2.** The short video \n",
        "**[Coursera — How to Win a Data Science Competition: Learn from Top Kagglers — Concept of mean encoding](https://www.coursera.org/lecture/competitive-data-science/concept-of-mean-encoding-b5Gxv)** introduces an interesting idea: use both X _and_ y to encode categoricals.\n",
        "\n",
        "Category Encoders has multiple implementations of this general concept:\n",
        "\n",
        "- [CatBoost Encoder](https://contrib.scikit-learn.org/category_encoders/catboost.html)\n",
        "- [Generalized Linear Mixed Model Encoder](https://contrib.scikit-learn.org/category_encoders/glmm.html)\n",
        "- [James-Stein Encoder](https://contrib.scikit-learn.org/category_encoders/jamesstein.html)\n",
        "- [Leave One Out](https://contrib.scikit-learn.org/category_encoders/leaveoneout.html)\n",
        "- [M-estimate](https://contrib.scikit-learn.org/category_encoders/mestimate.html)\n",
        "- [Target Encoder](https://contrib.scikit-learn.org/category_encoders/targetencoder.html)\n",
        "- [Weight of Evidence](https://contrib.scikit-learn.org/category_encoders/woe.html)\n",
        "\n",
        "Category Encoder's mean encoding implementations work for regression problems or binary classification problems. \n",
        "\n",
        "For multi-class classification problems, you will need to temporarily reformulate it as binary classification. For example:\n",
        "\n",
        "```python\n",
        "encoder = ce.TargetEncoder(min_samples_leaf=..., smoothing=...) # Both parameters > 1 to avoid overfitting\n",
        "X_train_encoded = encoder.fit_transform(X_train, y_train=='functional')\n",
        "X_val_encoded = encoder.transform(X_train, y_val=='functional')\n",
        "```\n",
        "\n",
        "For this reason, mean encoding won't work well within pipelines for multi-class classification problems.\n",
        "\n",
        "**3.** The **[dirty_cat](https://dirty-cat.github.io/stable/)** library has a Target Encoder implementation that works with multi-class classification.\n",
        "\n",
        "```python\n",
        " dirty_cat.TargetEncoder(clf_type='multiclass-clf')\n",
        "```\n",
        "It also implements an interesting idea called [\"Similarity Encoder\" for dirty categories](https://www.slideshare.net/GaelVaroquaux/machine-learning-on-non-curated-data-154905090).\n",
        "\n",
        "However, it seems like dirty_cat doesn't handle missing values or unknown categories as well as category_encoders does. And you may need to use it with one column at a time, instead of with your whole dataframe.\n",
        "\n",
        "**4. [Embeddings](https://www.kaggle.com/colinmorris/embedding-layers)** can work well with sparse / high cardinality categoricals.\n",
        "\n",
        "_**I hope it’s not too frustrating or confusing that there’s not one “canonical” way to encode categoricals. It’s an active area of research and experimentation — maybe you can make your own contributions!**_"
      ]
    },
    {
      "cell_type": "markdown",
      "metadata": {
        "id": "E1WS9bhXkEP0",
        "colab_type": "text"
      },
      "source": [
        "### Setup\n",
        "\n",
        "You can work locally (follow the [local setup instructions](https://lambdaschool.github.io/ds/unit2/local/)) or on Colab (run the code cell below)."
      ]
    },
    {
      "cell_type": "code",
      "metadata": {
        "colab_type": "code",
        "id": "o9eSnDYhUGD7",
        "colab": {}
      },
      "source": [
        "%%capture\n",
        "import sys\n",
        "\n",
        "# If you're on Colab:\n",
        "if 'google.colab' in sys.modules:\n",
        "    DATA_PATH = 'https://raw.githubusercontent.com/LambdaSchool/DS-Unit-2-Kaggle-Challenge/master/data/'\n",
        "    !pip install category_encoders==2.*\n",
        "\n",
        "# If you're working locally:\n",
        "else:\n",
        "    DATA_PATH = '../data/'"
      ],
      "execution_count": null,
      "outputs": []
    },
    {
      "cell_type": "code",
      "metadata": {
        "colab_type": "code",
        "id": "QJBD4ruICm1m",
        "colab": {}
      },
      "source": [
        "import pandas as pd\n",
        "from sklearn.model_selection import train_test_split\n",
        "\n",
        "train = pd.merge(pd.read_csv(DATA_PATH+'waterpumps/train_features.csv'), \n",
        "                 pd.read_csv(DATA_PATH+'waterpumps/train_labels.csv'))\n",
        "test = pd.read_csv(DATA_PATH+'waterpumps/test_features.csv')\n",
        "sample_submission = pd.read_csv(DATA_PATH+'waterpumps/sample_submission.csv')\n",
        "\n",
        "train.shape, test.shape"
      ],
      "execution_count": null,
      "outputs": []
    },
    {
      "cell_type": "markdown",
      "metadata": {
        "id": "eD4_xmGlhtu2",
        "colab_type": "text"
      },
      "source": [
        ""
      ]
    },
    {
      "cell_type": "markdown",
      "metadata": {
        "id": "dC5SKmrTfzX2",
        "colab_type": "text"
      },
      "source": [
        "* convert \"date_recorded\" and \"construction_year\" to datetime format\n",
        "* columns to drop:\n",
        " - * \"amount_tsh\", \"num_private\" mostly 0\n",
        " - \"region\" and \"district_code\" duplicate of \"region_code\"\n",
        " - \"public_meeting\" skewed and not really related\n",
        " - *\"recorded_by\" single value\n",
        " - \"extraction_type_class\", and \"extraction_type_group\" duplicate \"extraction_type\"\n",
        " - \"management_group\" is duplicate\n",
        " - *\"payment_type\" is the same as \"payment\"\n",
        " - \"quality_group\" is similar to \"water_quality\"\n",
        " - *quantity_group\"is the same as \"quantity\"\n",
        " - \"source_type\" overlaps with \"source\"\n",
        " - \"waterpoint_type_group\" overlaps with \"waterpoint_type\""
      ]
    },
    {
      "cell_type": "code",
      "metadata": {
        "id": "UlCMoTr7kEP7",
        "colab_type": "code",
        "colab": {}
      },
      "source": [
        ""
      ],
      "execution_count": null,
      "outputs": []
    },
    {
      "cell_type": "code",
      "metadata": {
        "id": "m2FL-8m2eyBP",
        "colab_type": "code",
        "colab": {
          "base_uri": "https://localhost:8080/",
          "height": 34
        },
        "outputId": "a7e919fc-5ae1-4aa4-9860-990544cbdc0f"
      },
      "source": [
        "# Split train into train & val\n",
        "from sklearn.model_selection import train_test_split\n",
        "\n",
        "train, val = train_test_split(train, train_size=0.80, test_size=0.20, \n",
        "                              stratify=train['status_group'], random_state=42)\n",
        "\n",
        "train.shape, val.shape, test.shape"
      ],
      "execution_count": null,
      "outputs": [
        {
          "output_type": "execute_result",
          "data": {
            "text/plain": [
              "((47520, 41), (11880, 41), (14358, 40))"
            ]
          },
          "metadata": {
            "tags": []
          },
          "execution_count": 25
        }
      ]
    },
    {
      "cell_type": "code",
      "metadata": {
        "id": "X72T1dVteQga",
        "colab_type": "code",
        "colab": {}
      },
      "source": [
        "# The status_group column is the target\n",
        "target = 'status_group'\n",
        "\n",
        "# Get a dataframe with all train columns except the target & id\n",
        "train_features = train.drop(columns=[target, 'id'])\n",
        "\n",
        "# Arrange data into X features matrix and y target vector \n",
        "X_train = train[train_features.columns]\n",
        "y_train = train[target]\n",
        "X_val = val[train_features.columns]\n",
        "y_val = val[target]\n",
        "X_test = test[train_features.columns]"
      ],
      "execution_count": null,
      "outputs": []
    },
    {
      "cell_type": "code",
      "metadata": {
        "id": "P0ZGAfPYE_oJ",
        "colab_type": "code",
        "colab": {
          "base_uri": "https://localhost:8080/",
          "height": 283
        },
        "outputId": "ef39ef25-92a0-493a-b9f3-49c82437cca7"
      },
      "source": [
        "def col_check(df, col_name):\n",
        "  print(df[col_name].describe(),\"\\n\")\n",
        "  print(f'number of NaNs: {df[col_name].isna().sum()}\\n')\n",
        "  print(df[col_name].value_counts(sort=True, ascending=False, dropna=False))\n",
        "  print(f'\\n{df[col_name].nunique()} unique values')\n",
        "  print(df[col_name].value_counts(sort=True, ascending=False, dropna=False).values[1])\n",
        "\n",
        "  return\n",
        "col_check(train,\"permit\")"
      ],
      "execution_count": null,
      "outputs": [
        {
          "output_type": "stream",
          "text": [
            "count     56344\n",
            "unique        2\n",
            "top        True\n",
            "freq      38852\n",
            "Name: permit, dtype: object \n",
            "\n",
            "number of NaNs: 3056\n",
            "\n",
            "True     38852\n",
            "False    17492\n",
            "NaN       3056\n",
            "Name: permit, dtype: int64\n",
            "\n",
            "2 unique values\n",
            "17492\n"
          ],
          "name": "stdout"
        }
      ]
    },
    {
      "cell_type": "code",
      "metadata": {
        "id": "GztypoZwERmh",
        "colab_type": "code",
        "colab": {}
      },
      "source": [
        "train_df = X_train.copy()\n",
        "test_df = X_test.copy()"
      ],
      "execution_count": null,
      "outputs": []
    },
    {
      "cell_type": "code",
      "metadata": {
        "id": "TNSeHUiClay3",
        "colab_type": "code",
        "colab": {}
      },
      "source": [
        "# reduces number of the categories\n",
        "def cat_comb(train, testval_list, col_list):\n",
        "  '''\n",
        "  ex/ cat_comb(train, [validation, test] [col1, col2])\n",
        "  '''\n",
        "  df = train.copy()\n",
        "  test_list = testval_list.copy()\n",
        "  for col_name in col_list:\n",
        "    cat_ser = df[col_name].value_counts(sort=True, ascending=False, dropna=False)\n",
        "    # make sure other category is less than sum of predecessors\n",
        "    for i in range(len(cat_ser)):\n",
        "      if cat_ser[:i+1].sum() < cat_ser[i+1:].sum():\n",
        "        continue\n",
        "      else:\n",
        "        n_cat = i+2\n",
        "        break\n",
        "  \n",
        "    cat_keep = list(cat_ser[:n_cat-1].index)\n",
        "    df.loc[~df[col_name].isin(cat_keep), col_name] = \"other\"\n",
        "    \n",
        "    # alternative, very slow .replace method\n",
        "    # mask = ~df[col_name].isin(cat_keep)\n",
        "    # df[col_name] = df[col_name].replace(mask, \"other\")\n",
        "\n",
        "\n",
        "    for df_i in test_list:\n",
        "      df_i.loc[~df_i[col_name].isin(cat_keep), col_name] = \"other\"\n",
        "  \n",
        "    # alternative way, but could get a size issue with test or validation data\n",
        "    # cat_bool = ~(df[col_name].isin(cat_ser.index[:n_cat-1]))\n",
        "    # df.loc[cat_bool, col_name] = \"other\"\n",
        "  return df, test_list\n"
      ],
      "execution_count": null,
      "outputs": []
    },
    {
      "cell_type": "code",
      "metadata": {
        "id": "HStGyxGeMqmW",
        "colab_type": "code",
        "colab": {}
      },
      "source": [
        "nonnum_features = train_df.select_dtypes(exclude='number').columns\n",
        "train_df1, test_df_list = cat_comb(train_df, [test_df], nonnum_features)\n",
        "test_df1 = test_df_list[0]"
      ],
      "execution_count": null,
      "outputs": []
    },
    {
      "cell_type": "code",
      "metadata": {
        "id": "zTKwjSodUejo",
        "colab_type": "code",
        "colab": {
          "base_uri": "https://localhost:8080/",
          "height": 336
        },
        "outputId": "db3c88d9-c554-4031-94ca-9ef16f542c05"
      },
      "source": [
        "train_df1[\"funder\"].value_counts(sort=True, ascending=False, dropna=False)"
      ],
      "execution_count": null,
      "outputs": [
        {
          "output_type": "execute_result",
          "data": {
            "text/plain": [
              "other                     23418\n",
              "Government Of Tanzania     7321\n",
              "NaN                        2904\n",
              "Danida                     2491\n",
              "Hesawa                     1760\n",
              "Rwssp                      1107\n",
              "World Bank                 1058\n",
              "Kkkt                       1019\n",
              "World Vision               1001\n",
              "Unicef                      840\n",
              "Tasaf                       719\n",
              "District Council            684\n",
              "Dhv                         673\n",
              "Private Individual          659\n",
              "Dwsp                        645\n",
              "Norad                       614\n",
              "0                           607\n",
              "Name: funder, dtype: int64"
            ]
          },
          "metadata": {
            "tags": []
          },
          "execution_count": 32
        }
      ]
    },
    {
      "cell_type": "code",
      "metadata": {
        "id": "g7vOrPz9EYr5",
        "colab_type": "code",
        "colab": {}
      },
      "source": [
        "def make_feat(train_df, num_cat):\n",
        "  # Get a list of the numeric features\n",
        "  numeric_features = train_df.select_dtypes(include='number').columns.to_list()\n",
        "\n",
        "  nonnum_features = train_df.columns[~train_df.columns.isin(numeric_features)].to_list()\n",
        "  # nonnum_features = train_df.select_dtypes(exclude='number').columns\n",
        "\n",
        "  assert len(numeric_features) + len(nonnum_features) == len(train_df.columns)\n",
        "\n",
        "  # Get a series with the cardinality of the nonnumeric features\n",
        "  cardinality = train_df.select_dtypes(exclude='number').nunique()\n",
        "  print(cardinality.sort_values())\n",
        "  # Get a list of all categorical features with cardinality <= num_cat\n",
        "  categorical_features = cardinality[cardinality <= num_cat].index.to_list()\n",
        "  # Combine the lists \n",
        "  features = numeric_features + categorical_features\n",
        "  return features"
      ],
      "execution_count": null,
      "outputs": []
    },
    {
      "cell_type": "code",
      "metadata": {
        "id": "sc4K_8nwMQ0U",
        "colab_type": "code",
        "colab": {
          "base_uri": "https://localhost:8080/",
          "height": 567
        },
        "outputId": "af53fbf8-6e5a-44e7-87d7-b6d83a4773a3"
      },
      "source": [
        "make_feat(train_df, 100);"
      ],
      "execution_count": null,
      "outputs": [
        {
          "output_type": "stream",
          "text": [
            "recorded_by                  1\n",
            "public_meeting               2\n",
            "permit                       2\n",
            "source_class                 3\n",
            "management_group             5\n",
            "quantity_group               5\n",
            "quantity                     5\n",
            "waterpoint_type_group        6\n",
            "quality_group                6\n",
            "payment_type                 7\n",
            "source_type                  7\n",
            "waterpoint_type              7\n",
            "extraction_type_class        7\n",
            "payment                      7\n",
            "water_quality                8\n",
            "basin                        9\n",
            "source                      10\n",
            "scheme_management           12\n",
            "management                  12\n",
            "extraction_type_group       13\n",
            "extraction_type             18\n",
            "region                      21\n",
            "lga                        124\n",
            "date_recorded              349\n",
            "funder                    1716\n",
            "installer                 1929\n",
            "ward                      2082\n",
            "scheme_name               2563\n",
            "subvillage               17231\n",
            "wpt_name                 30661\n",
            "dtype: int64\n"
          ],
          "name": "stdout"
        }
      ]
    },
    {
      "cell_type": "code",
      "metadata": {
        "id": "J8pmDGjRRjq4",
        "colab_type": "code",
        "colab": {
          "base_uri": "https://localhost:8080/",
          "height": 567
        },
        "outputId": "057b68d1-d107-40f4-94c5-aa8c1967daac"
      },
      "source": [
        "make_feat(train_df1, 100);"
      ],
      "execution_count": null,
      "outputs": [
        {
          "output_type": "stream",
          "text": [
            "recorded_by                 1\n",
            "waterpoint_type_group       2\n",
            "source_class                2\n",
            "quantity_group              2\n",
            "quantity                    2\n",
            "quality_group               2\n",
            "water_quality               2\n",
            "public_meeting              2\n",
            "scheme_management           2\n",
            "permit                      2\n",
            "management_group            2\n",
            "management                  2\n",
            "source_type                 3\n",
            "source                      3\n",
            "payment_type                3\n",
            "payment                     3\n",
            "extraction_type             3\n",
            "extraction_type_group       3\n",
            "waterpoint_type             3\n",
            "extraction_type_class       3\n",
            "scheme_name                 4\n",
            "basin                       5\n",
            "region                      8\n",
            "installer                  11\n",
            "funder                     16\n",
            "lga                        34\n",
            "date_recorded              80\n",
            "ward                      415\n",
            "subvillage               2358\n",
            "wpt_name                 6902\n",
            "dtype: int64\n"
          ],
          "name": "stdout"
        }
      ]
    }
  ]
}