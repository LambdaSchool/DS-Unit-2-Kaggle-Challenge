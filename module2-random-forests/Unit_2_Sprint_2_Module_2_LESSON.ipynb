{
  "nbformat": 4,
  "nbformat_minor": 0,
  "metadata": {
    "kernelspec": {
      "display_name": "Python 3",
      "language": "python",
      "name": "python3"
    },
    "language_info": {
      "codemirror_mode": {
        "name": "ipython",
        "version": 3
      },
      "file_extension": ".py",
      "mimetype": "text/x-python",
      "name": "python",
      "nbconvert_exporter": "python",
      "pygments_lexer": "ipython3",
      "version": "3.7.3"
    },
    "colab": {
      "name": "Unit 2 - Sprint 2 - Module 2 - LESSON.ipynb",
      "provenance": [],
      "include_colab_link": true
    },
    "widgets": {
      "application/vnd.jupyter.widget-state+json": {
        "7b4d20ed2751425f86fb90f135a87e5e": {
          "model_module": "@jupyter-widgets/controls",
          "model_name": "VBoxModel",
          "state": {
            "_view_name": "VBoxView",
            "_dom_classes": [
              "widget-interact"
            ],
            "_model_name": "VBoxModel",
            "_view_module": "@jupyter-widgets/controls",
            "_model_module_version": "1.5.0",
            "_view_count": null,
            "_view_module_version": "1.5.0",
            "box_style": "",
            "layout": "IPY_MODEL_aefabdb66c384dd3a6a4ad978f1c9972",
            "_model_module": "@jupyter-widgets/controls",
            "children": [
              "IPY_MODEL_2b8e50185e0547d0b82dec7e2cf636a5",
              "IPY_MODEL_108c31a7a6e44f7d9022b31d2dbfd79e",
              "IPY_MODEL_6cedef25bdfb4b01a05bfac6f2f66165"
            ]
          }
        },
        "aefabdb66c384dd3a6a4ad978f1c9972": {
          "model_module": "@jupyter-widgets/base",
          "model_name": "LayoutModel",
          "state": {
            "_view_name": "LayoutView",
            "grid_template_rows": null,
            "right": null,
            "justify_content": null,
            "_view_module": "@jupyter-widgets/base",
            "overflow": null,
            "_model_module_version": "1.2.0",
            "_view_count": null,
            "flex_flow": null,
            "width": null,
            "min_width": null,
            "border": null,
            "align_items": null,
            "bottom": null,
            "_model_module": "@jupyter-widgets/base",
            "top": null,
            "grid_column": null,
            "overflow_y": null,
            "overflow_x": null,
            "grid_auto_flow": null,
            "grid_area": null,
            "grid_template_columns": null,
            "flex": null,
            "_model_name": "LayoutModel",
            "justify_items": null,
            "grid_row": null,
            "max_height": null,
            "align_content": null,
            "visibility": null,
            "align_self": null,
            "height": null,
            "min_height": null,
            "padding": null,
            "grid_auto_rows": null,
            "grid_gap": null,
            "max_width": null,
            "order": null,
            "_view_module_version": "1.2.0",
            "grid_template_areas": null,
            "object_position": null,
            "object_fit": null,
            "grid_auto_columns": null,
            "margin": null,
            "display": null,
            "left": null
          }
        },
        "2b8e50185e0547d0b82dec7e2cf636a5": {
          "model_module": "@jupyter-widgets/controls",
          "model_name": "IntSliderModel",
          "state": {
            "_view_name": "IntSliderView",
            "style": "IPY_MODEL_7404a5b9ebf3453bab76c386c5904611",
            "_dom_classes": [],
            "description": "max_depth",
            "step": 1,
            "_model_name": "IntSliderModel",
            "orientation": "horizontal",
            "max": 6,
            "_view_module": "@jupyter-widgets/controls",
            "_model_module_version": "1.5.0",
            "value": 4,
            "_view_count": null,
            "disabled": false,
            "_view_module_version": "1.5.0",
            "min": 1,
            "continuous_update": true,
            "readout_format": "d",
            "description_tooltip": null,
            "readout": true,
            "_model_module": "@jupyter-widgets/controls",
            "layout": "IPY_MODEL_5df646f7dd7648cf80237dc82da1ed1c"
          }
        },
        "108c31a7a6e44f7d9022b31d2dbfd79e": {
          "model_module": "@jupyter-widgets/controls",
          "model_name": "IntSliderModel",
          "state": {
            "_view_name": "IntSliderView",
            "style": "IPY_MODEL_d1b422049c894f2c8aa6606468d45d13",
            "_dom_classes": [],
            "description": "n_estimators",
            "step": 10,
            "_model_name": "IntSliderModel",
            "orientation": "horizontal",
            "max": 40,
            "_view_module": "@jupyter-widgets/controls",
            "_model_module_version": "1.5.0",
            "value": 30,
            "_view_count": null,
            "disabled": false,
            "_view_module_version": "1.5.0",
            "min": 10,
            "continuous_update": true,
            "readout_format": "d",
            "description_tooltip": null,
            "readout": true,
            "_model_module": "@jupyter-widgets/controls",
            "layout": "IPY_MODEL_2a97acb4843d46ddb54c6040b43579a0"
          }
        },
        "6cedef25bdfb4b01a05bfac6f2f66165": {
          "model_module": "@jupyter-widgets/output",
          "model_name": "OutputModel",
          "state": {
            "_view_name": "OutputView",
            "msg_id": "",
            "_dom_classes": [],
            "_model_name": "OutputModel",
            "outputs": [
              {
                "output_type": "display_data",
                "metadata": {
                  "tags": []
                },
                "image/png": "iVBORw0KGgoAAAANSUhEUgAAAYIAAAEWCAYAAABrDZDcAAAABHNCSVQICAgIfAhkiAAAAAlwSFlz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\n",
                "text/plain": "<Figure size 432x288 with 1 Axes>"
              },
              {
                "output_type": "display_data",
                "metadata": {
                  "tags": []
                },
                "image/png": "iVBORw0KGgoAAAANSUhEUgAAAYIAAAEWCAYAAABrDZDcAAAABHNCSVQICAgIfAhkiAAAAAlwSFlz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\nAElFTkSuQmCC\n",
                "text/plain": "<Figure size 432x288 with 1 Axes>"
              }
            ],
            "_view_module": "@jupyter-widgets/output",
            "_model_module_version": "1.0.0",
            "_view_count": null,
            "_view_module_version": "1.0.0",
            "layout": "IPY_MODEL_82b842ed04fa464bb52e6df88b71ec6d",
            "_model_module": "@jupyter-widgets/output"
          }
        },
        "7404a5b9ebf3453bab76c386c5904611": {
          "model_module": "@jupyter-widgets/controls",
          "model_name": "SliderStyleModel",
          "state": {
            "_view_name": "StyleView",
            "handle_color": null,
            "_model_name": "SliderStyleModel",
            "description_width": "",
            "_view_module": "@jupyter-widgets/base",
            "_model_module_version": "1.5.0",
            "_view_count": null,
            "_view_module_version": "1.2.0",
            "_model_module": "@jupyter-widgets/controls"
          }
        },
        "5df646f7dd7648cf80237dc82da1ed1c": {
          "model_module": "@jupyter-widgets/base",
          "model_name": "LayoutModel",
          "state": {
            "_view_name": "LayoutView",
            "grid_template_rows": null,
            "right": null,
            "justify_content": null,
            "_view_module": "@jupyter-widgets/base",
            "overflow": null,
            "_model_module_version": "1.2.0",
            "_view_count": null,
            "flex_flow": null,
            "width": null,
            "min_width": null,
            "border": null,
            "align_items": null,
            "bottom": null,
            "_model_module": "@jupyter-widgets/base",
            "top": null,
            "grid_column": null,
            "overflow_y": null,
            "overflow_x": null,
            "grid_auto_flow": null,
            "grid_area": null,
            "grid_template_columns": null,
            "flex": null,
            "_model_name": "LayoutModel",
            "justify_items": null,
            "grid_row": null,
            "max_height": null,
            "align_content": null,
            "visibility": null,
            "align_self": null,
            "height": null,
            "min_height": null,
            "padding": null,
            "grid_auto_rows": null,
            "grid_gap": null,
            "max_width": null,
            "order": null,
            "_view_module_version": "1.2.0",
            "grid_template_areas": null,
            "object_position": null,
            "object_fit": null,
            "grid_auto_columns": null,
            "margin": null,
            "display": null,
            "left": null
          }
        },
        "d1b422049c894f2c8aa6606468d45d13": {
          "model_module": "@jupyter-widgets/controls",
          "model_name": "SliderStyleModel",
          "state": {
            "_view_name": "StyleView",
            "handle_color": null,
            "_model_name": "SliderStyleModel",
            "description_width": "",
            "_view_module": "@jupyter-widgets/base",
            "_model_module_version": "1.5.0",
            "_view_count": null,
            "_view_module_version": "1.2.0",
            "_model_module": "@jupyter-widgets/controls"
          }
        },
        "2a97acb4843d46ddb54c6040b43579a0": {
          "model_module": "@jupyter-widgets/base",
          "model_name": "LayoutModel",
          "state": {
            "_view_name": "LayoutView",
            "grid_template_rows": null,
            "right": null,
            "justify_content": null,
            "_view_module": "@jupyter-widgets/base",
            "overflow": null,
            "_model_module_version": "1.2.0",
            "_view_count": null,
            "flex_flow": null,
            "width": null,
            "min_width": null,
            "border": null,
            "align_items": null,
            "bottom": null,
            "_model_module": "@jupyter-widgets/base",
            "top": null,
            "grid_column": null,
            "overflow_y": null,
            "overflow_x": null,
            "grid_auto_flow": null,
            "grid_area": null,
            "grid_template_columns": null,
            "flex": null,
            "_model_name": "LayoutModel",
            "justify_items": null,
            "grid_row": null,
            "max_height": null,
            "align_content": null,
            "visibility": null,
            "align_self": null,
            "height": null,
            "min_height": null,
            "padding": null,
            "grid_auto_rows": null,
            "grid_gap": null,
            "max_width": null,
            "order": null,
            "_view_module_version": "1.2.0",
            "grid_template_areas": null,
            "object_position": null,
            "object_fit": null,
            "grid_auto_columns": null,
            "margin": null,
            "display": null,
            "left": null
          }
        },
        "a4031a7db3cc4032a03a650e748dce78": {
          "model_module": "@jupyter-widgets/controls",
          "model_name": "VBoxModel",
          "state": {
            "_view_name": "VBoxView",
            "_dom_classes": [
              "widget-interact"
            ],
            "_model_name": "VBoxModel",
            "_view_module": "@jupyter-widgets/controls",
            "_model_module_version": "1.5.0",
            "_view_count": null,
            "_view_module_version": "1.5.0",
            "box_style": "",
            "layout": "IPY_MODEL_dcc1a10072c5428e8693a1abf3a2c976",
            "_model_module": "@jupyter-widgets/controls",
            "children": [
              "IPY_MODEL_2df391c038664886bbdeca10df14a862",
              "IPY_MODEL_37c5e7e17de245df8b1abf015f7c60b2",
              "IPY_MODEL_4cb6bf7a03734d7d8788786f93a3464d"
            ]
          }
        },
        "dcc1a10072c5428e8693a1abf3a2c976": {
          "model_module": "@jupyter-widgets/base",
          "model_name": "LayoutModel",
          "state": {
            "_view_name": "LayoutView",
            "grid_template_rows": null,
            "right": null,
            "justify_content": null,
            "_view_module": "@jupyter-widgets/base",
            "overflow": null,
            "_model_module_version": "1.2.0",
            "_view_count": null,
            "flex_flow": null,
            "width": null,
            "min_width": null,
            "border": null,
            "align_items": null,
            "bottom": null,
            "_model_module": "@jupyter-widgets/base",
            "top": null,
            "grid_column": null,
            "overflow_y": null,
            "overflow_x": null,
            "grid_auto_flow": null,
            "grid_area": null,
            "grid_template_columns": null,
            "flex": null,
            "_model_name": "LayoutModel",
            "justify_items": null,
            "grid_row": null,
            "max_height": null,
            "align_content": null,
            "visibility": null,
            "align_self": null,
            "height": null,
            "min_height": null,
            "padding": null,
            "grid_auto_rows": null,
            "grid_gap": null,
            "max_width": null,
            "order": null,
            "_view_module_version": "1.2.0",
            "grid_template_areas": null,
            "object_position": null,
            "object_fit": null,
            "grid_auto_columns": null,
            "margin": null,
            "display": null,
            "left": null
          }
        },
        "2df391c038664886bbdeca10df14a862": {
          "model_module": "@jupyter-widgets/controls",
          "model_name": "IntSliderModel",
          "state": {
            "_view_name": "IntSliderView",
            "style": "IPY_MODEL_9b11799ba7f748d28e6579bec55bb792",
            "_dom_classes": [],
            "description": "max_depth",
            "step": 1,
            "_model_name": "IntSliderModel",
            "orientation": "horizontal",
            "max": 6,
            "_view_module": "@jupyter-widgets/controls",
            "_model_module_version": "1.5.0",
            "value": 4,
            "_view_count": null,
            "disabled": false,
            "_view_module_version": "1.5.0",
            "min": 1,
            "continuous_update": true,
            "readout_format": "d",
            "description_tooltip": null,
            "readout": true,
            "_model_module": "@jupyter-widgets/controls",
            "layout": "IPY_MODEL_733acac8e0c24acc8ef76f088a44ca28"
          }
        },
        "37c5e7e17de245df8b1abf015f7c60b2": {
          "model_module": "@jupyter-widgets/controls",
          "model_name": "IntSliderModel",
          "state": {
            "_view_name": "IntSliderView",
            "style": "IPY_MODEL_4140c48cc185491dbc3b30975a64333f",
            "_dom_classes": [],
            "description": "n_estimators",
            "step": 1,
            "_model_name": "IntSliderModel",
            "orientation": "horizontal",
            "max": 5,
            "_view_module": "@jupyter-widgets/controls",
            "_model_module_version": "1.5.0",
            "value": 2,
            "_view_count": null,
            "disabled": false,
            "_view_module_version": "1.5.0",
            "min": 2,
            "continuous_update": true,
            "readout_format": "d",
            "description_tooltip": null,
            "readout": true,
            "_model_module": "@jupyter-widgets/controls",
            "layout": "IPY_MODEL_de0c1b872d9c40a1a0bb784cb24b5eab"
          }
        },
        "4cb6bf7a03734d7d8788786f93a3464d": {
          "model_module": "@jupyter-widgets/output",
          "model_name": "OutputModel",
          "state": {
            "_view_name": "OutputView",
            "msg_id": "",
            "_dom_classes": [],
            "_model_name": "OutputModel",
            "outputs": [
              {
                "output_type": "display_data",
                "metadata": {
                  "tags": []
                },
                "image/png": "iVBORw0KGgoAAAANSUhEUgAAAYIAAAEWCAYAAABrDZDcAAAABHNCSVQICAgIfAhkiAAAAAlwSFlz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\nCMzMGpyDwMyswf1/HQecTcPfQusAAAAASUVORK5CYII=\n",
                "text/plain": "<Figure size 432x288 with 1 Axes>"
              },
              {
                "output_type": "display_data",
                "metadata": {
                  "tags": []
                },
                "image/png": "iVBORw0KGgoAAAANSUhEUgAAAYIAAAEWCAYAAABrDZDcAAAABHNCSVQICAgIfAhkiAAAAAlwSFlz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\n",
                "text/plain": "<Figure size 432x288 with 1 Axes>"
              },
              {
                "output_type": "display_data",
                "metadata": {
                  "tags": []
                },
                "image/png": "iVBORw0KGgoAAAANSUhEUgAAAYIAAAEWCAYAAABrDZDcAAAABHNCSVQICAgIfAhkiAAAAAlwSFlz\nAAALEgAACxIB0t1+/AAAADh0RVh0U29mdHdhcmUAbWF0cGxvdGxpYiB2ZXJzaW9uMy4yLjAsIGh0\ndHA6Ly9tYXRwbG90bGliLm9yZy8GearUAAAgAElEQVR4nO3de5gcZZn38e9vkmESSYCQZBVzAISo\nGzREdpaI8cAqYGA1YTcqEA8cXCOrKB4Jnlhk3VeJq66rKAIi6ouGQ15N1GhQ8LCe2CQYRhMEYkAy\nMUAYEkMkGTLM/f5RNVjpdM/UZKa6e6Z/n+vqa7qqnq66q6a67n6eqnpKEYGZmTWuploHYGZmteVE\nYGbW4JwIzMwanBOBmVmDcyIwM2twTgRmZg3OicCeIulESe29TL9O0scKWO7TJf1M0mOSPjXY8x9q\nJO2U9Kxept8v6aRqxjSYJP1E0r8UNO9C9tHhzomgitIv8K70i97z+nyt46oDC4FHgIMi4r2lEyW9\nX9Lv0kRxn6T3V5qRpCMkhaSRRQZcpIgYExEbwQe23kg6R9LPC17Gy9L9aVj/D4bsl2UIe3VE/KjW\nQdSZw4H1UfnuRgFvAtqAo4BbJG2KiCX7szBJIyOia/9CtUYhqRn4LHB7rWMpmmsEdaLn142k/5S0\nLf3le2rJ9I2ZX8Wvz0w7T9Jd6edWSjo8My0kvU3Sveln/13SUZJ+KWmHpBslHVASywclPZLWYF5P\nBZJeJWmtpO3p/Gb0UvZFklZJ+nP690Xp+OuAs4GL0hrSPk0eEbE4Iu6IiK6IuBtYBsyusKifpX+3\np/M7Id12v5D0GUkdwKWSWtJt/YCkhyRdKWl0nnWTtEjS5nR73i3pFZXWO/OZcyV9JzN8r6SbMsOb\nJM1M34ekoyUtBF6f2TbfycxypqS2dHveIGlUheVm1317ug+9KB2/SdLDks7OlP9HSb9J941Nki7N\nTDsj3fcOSodPlfSgpIl9rPvJkn6fxvp5ksSend7X/vvONO5HJH1SUpOkvwWuBE5It832zCzHSfpe\n+v+5XdJRvcXXi/cCtwC/38/PDx0R4VeVXsD9wEkVpp0D7AHeAowA/hX4E8mX5kBgB/CctOxhwDHp\n+3nABuBvSWp4HwZ+mZlvkBw4DwKOATqBW4FnAQcD64Gz07InAl3Ap4EW4GXAXzLLvQ74WPr+BcDD\nwKw03rPT9Wsps26HAtuAN6YxnpUOjy+db45tKOA3wPkVph+RrvPIkm3bBbwjXf5o4DPA8jS2scB3\ngI/3tW7Ac4BNwDMzyzsqR9zPAraT/Ph6JvBHoD0zbRvQlPmfHV1p26Sx/G86n0OBu3rZHj3rfm66\nLh8DHgCuSNfnFOAxYExmH3h+GucM4CHg9Mz8rk9jGk+yf76qj/WekM7/NUAz8O40nn/px/7743Q9\npwL3ZD57DvDzkuVdB3QAx6fzux5Ykpnelv4fyr2+kCl3eLqsMeX+B8PtVfMAGumVfoF3lux8b0mn\nnQNsyJR9WvoleAZJItgOzAdGl8zz+8CbM8NNwOPA4elwALMz09cAizLDnwL+K31/YvolPTAz/Ubg\nI+n7p74QwBeBfy+J5W7gZWXW+43A/5aM+xVwTul8c2zDjwJ3UibhpNOPoHwieCAzLJIEd1Rm3AnA\nfX2tG3A0SZI4CWju5/9/E3AccCZwFcnB/LkkB+nlmXJ5EsEbMsOLgSsrLPMc4N7M8PPT+T89M64D\nmFnh8/8FfCYzfAhJIvkt8KUc6/wm4Ncl276dvx7M8+y/czLT3wbcmlm3congmszwacDv9+O7ugw4\no7/751B9uWmo+k6PiEMyr6sz0x7seRMRj6dvx0TEX4AzgPOBLWm197np9MOBz6bV/u3AoyRftkmZ\n+T6Ueb+rzPCYzPC2dHk9/kjyy7PU4cB7e5abLntKhbI9v4Cz/lgSY58kXUByYPnHiOjsz2dJDsI9\nJpIk2jWZ2H+Qjode1i0iNgDvAi4FHpa0RFK5dS7npyTJ9qXp+5+QJJeXpcP98WDm/ePs/T8sVfr/\nJiLK7gOSZkn6saStkv5Mss9N6CkYEduBm4DnkfyI6MszyWz7SI6s2f9Fnv03W77S/pjVn22zD0mv\nBsZGxA39+dxQ5kQwRETEyog4maRZ6PdATwLZBLy1JLmMjohf7ueixkk6MDM8laQJoNQm4D9Klvu0\niPhmmbJ/IvnCZ00FNucNStJ5wMXAKyKi4iWuJL8g+xr/CMnB75hM7AdHRM8Bo9d1i4hvRMSL03UK\n4PKcq9GTCF6Svv8pfSeCancP/A2SJrMpEXEwSTv8U2366XmM84BvAv+dY35bSJJoz+eVHSbf/pst\nn90f+71tJK3T3lftZV9XpsVeAbSm5z8eJPkR9i5Jy/q7vKHCiWAIUHKd/bz0AN1J0rzUnU6+EviA\npGPSsgdLeu0AF/lRSQdIegnwKpJfgKWuBs5Pf0FK0oHpicaxZcquAJ4taYGkkZLOAKYD380TjJIT\n1v8HODnSyyp7sZVk21S8Dj8iutP4PyPpb9JlTJL0yr7WTdJzJL1cUguwmyShdKfzOFFSbwennwL/\nQNK81w78DzCHpL39NxU+81Bv61KAscCjEbFb0vHAgp4J6Qnp/wt8kKQ5a5Kkt/Uxv+8Bx0j6ZyWX\n9L6TpLmzR5799/2SxkmaAlwI9PxSfwiYrJKLHXoTEcdEcnluudf5abGPAM8GZqav5ST7xLl5lzPU\nOBFU33dKfoV8K8dnmoD3kPwSepTkF+S/AkTEt0h+kS6RtAP4HXBqhfnk8SDJics/kZxoOz8i9rlq\nIiJWk5zY/nxafgNJm+0+IqKDJKG8l6Q9+iKSk4yP5IzpYyQHy1Vlfr2VLutx4D+AX6TNDS+sMM9F\nacy/Trfbj0hOBPe1bi3AJ0hqFQ8CfwN8IJ02BahYE4uIe0iS+P+kwzuAjcAvIuLJCh/7MjA9XZdv\nV5r3IHobcJmkx4BLSM4R9fg4sCkivpg2zb0B+JikaZVmlv6PX0uyzTqAacAvMtPz7L/LSM5trSVJ\nLF9Ox98GrAMelJR3X+pTRDwWEQ/2vEiS/V8i4tHBWka9UdJkZ2YDJeka4KaIWFnrWIaLtIY1LT03\nYwVxIjCzuuVEUB2+s9jMBiQ9l/T9ctMyJ+CtjrlGYGbW4Hyy2MyswQ25pqEJEybEEUccUeswzMyG\nlDVr1jwSEWX7hRpyieCII45g9erVtQ7DzGxIkVR6d/9T3DRkZtbgnAjMzBqcE4GZWYNzIjAza3BO\nBGZmDa5hEkHHzk7u3LSdjp397cbezGx4G3KXj+6PZWs3s2hpG81NTezp7mbx/BnMndmvZ6KYmQ1b\nw75G0LGzk0VL29i9p5vHOrvYvaebi5a2uWZgZpYa9omgfdsumpv2Xs3mpibat+2qUURmZvVl2CeC\nyeNGs6e7e69xe7q7mTxudI0iMjOrL8M+EYwf08Li+TMY1dzE2JaRjGpuYvH8GYwf01Lr0MzM6kJD\nnCyeO3MSs4+eQPu2XUweN9pJwMwsoyESASQ1AycAM7N9Fdo0JGmOpLslbZB0cZnph0u6VVKbpJ9I\nmlxkPGZmtq/CEoGkEcAVwKnAdOAsSdNLiv0n8LWImAFcBny8qHjMzKy8ImsExwMbImJjRDwBLAHm\nlZSZDtyWvv9xmelmZlawIhPBJGBTZrg9HZd1J/DP6ft/AsZKGl86I0kLJa2WtHrr1q2FBGtm1qhq\nffno+4CXSfoN8DJgM/BkaaGIuCoiWiOideLEsk9aMzOz/VTkVUObgSmZ4cnpuKdExJ9IawSSxgDz\nI2J7gTGZmVmJImsEq4Bpko6UdABwJrA8W0DSBEk9MXwAuLbAeMzMrIzCagQR0SXpAmAlMAK4NiLW\nSboMWB0Ry4ETgY9LCuBnwNuLiuej31nH+j/t6LPcvJmTWDBralFhmJnVnUJvKIuIFcCKknGXZN7f\nDNxcZAz9sX5LkiicCMyskTTMncX/9upj+ixzxpd+VYVIzMzqS62vGjIzsxpzIjAza3BOBGZmDc6J\nwMyswTkRmJk1OCcCM7MG50RgZtbgnAj6oWNnJ3du2k7Hzs5ah2JmNmga5oaygVq2djOLlrbR3NTE\nnu5uFs+fwdyZpb1qm5kNPU4EJdZv2bHPHcZdT3Zzx6btRMBuugG48Ia1fPWX9zNyxL6VKvdXZGZD\niRNBxrwKv/A7u7ppYu8HJTSl40sTgfsrMrOhxokgY8GsqWUP4B07O5l9+W08uaf7qXHNI5v46nnH\nM35My15l3V+RmQ01Plmcw/gxLSyeP4NRzU2MbRnJqOYmFs+fsU8SMDMbilwjyGnuzEnMPnoC7dt2\nMXncaCcBMxs2nAj6YfyYFicAMxt2Cm0akjRH0t2SNki6uMz0qZJ+LOk3ktoknVZkPGZmtq/CEoGk\nEcAVwKnAdOAsSdNLin0YuDEiXkDyTOMvFBWPmZmVV2SN4HhgQ0RsjIgngCXAvJIyARyUvj8Y+FOB\n8ZiZWRlFJoJJwKbMcHs6LutS4A2S2kmebfyOcjOStFDSakmrt27dWkSsZmYNq9aXj54FXBcRk4HT\ngK9L2iemiLgqIlojonXixIlVD9LMbDgrMhFsBqZkhien47LeDNwIEBG/AkYBEwqMyczMShR5+egq\nYJqkI0kSwJnAgpIyDwCvAK6T9LckiWDIt/2U66+ov9xfkZlVS2GJICK6JF0ArARGANdGxDpJlwGr\nI2I58F7gaknvJjlxfE5ERFExVUOl/or6w/0VmVk1aagdd1tbW2P16tW1DqNQPbWJG956Qo0jMbPh\nQtKaiGgtN63WJ4vNzKzGnAjMzBqcE4GZWYNzIjAza3BOBGZmDc6JwMyswTkRVFnHzk7u3LSdjp2d\ntQ7FzAzwg2mqatnazSxa2kZzUxN7urtZPH8GcwfhBjQzs4FwIqiSjp2dLFraxu493eymG4CLlrYx\n++gJZZ96NtBuKtxFhZnl5URQJe3bdtHc1PRUEgBobmqifduufRLBQLupcBcVZtYfTgRVMnncaPZ0\nd+81bk93N5PHjd6n7IJZUwd0EB9oh3dm1lh8srhKxo9pYfH8GYxqbmJsy0hGNTexeP6Mss1CZmbV\n5BpBFc2dOYnZR0+gfdsuJo8b7SRgZnXBiaDKxo9pcQIws7ripiEzswbnRGBm1uAKTQSS5ki6W9IG\nSReXmf4ZSWvT1z2SthcZj5mZ7auwcwSSRgBXACcD7cAqScsjYn1PmYh4d6b8O4AXFBWPmZmVV2SN\n4HhgQ0RsjIgngCXAvF7KnwV8s8B4zMysjCITwSRgU2a4PR23D0mHA0cCt1WYvlDSakmrt27dOuiB\nmpk1sno5WXwmcHNEPFluYkRcFRGtEdE6ceLEKodmZja8FZkINgNTMsOT03HlnImbhczMaqLIRLAK\nmCbpSEkHkBzsl5cWkvRcYBzgDnLMzGqgsEQQEV3ABcBK4C7gxohYJ+kySXMzRc8ElkREFBWLmZlV\nVmgXExGxAlhRMu6SkuFLi4zBzMx612eNQNKFkg5S4suS7pB0SjWCMzOz4uVpGjovInYAp5C05b8R\n+EShUZmZWdXkSQRK/54GfD0i1mXGmZnZEJcnEayRdAtJIlgpaSzQ3cdnzMxsiMhzsvjNwExgY0Q8\nLulQ4NxiwzIzs2rJUyM4Abg7IrZLegPwYeDPxYZlZmbVkicRfBF4XNKxwHuBPwBfKzQqMzOrmjyJ\noCu92Wse8PmIuAIYW2xYZmZWLXnOETwm6QMkl42+RFIT0FxsWGZmVi15agRnAJ0k9xM8SNJ53CcL\njcrMzKqmz0SQHvyXAi3pqEeAbxUZlJmZVU+eLibeAtwMfCkdNQn4dpFBmZlZ9eRpGno7MBvYARAR\n9wJ/U2RQZmZWPXkSQWf6zGEAJI0E3GW0mdkwkScR/FTSB4HRkk4GbgK+U2xYZmZWLXkSwcXAVuC3\nwFtJni/w4TwzlzRH0t2SNki6uEKZ10laL2mdpG/kDdzMzAZHnvsIRgPXRsTVAJJGpOMe7+1Dabkr\ngJOBdmCVpOURsT5TZhrwAWB2RGyT5HMPZmZVlqdGcCvJgb/HaOBHOT53PLAhIjam5xiWkNydnPUW\n4IqI2AYQEQ/nmK+ZmQ2iPIlgVETs7BlI3z8tx+cmAZsyw+3puKxnA8+W9AtJv5Y0J8d8G17Hzk7u\n3LSdjp2dtQ7FzIaBPE1Df5F0XETcASDp74Bdg7j8acCJJHcs/0zS8yNie7aQpIXAQoCpU6cO0qKH\npmVrN7NoaRvNTU3s6e5m8fwZzJ1Zml/NzPLLkwjeBdwk6U8kTyZ7Bkm3E33ZDEzJDE9Ox2W1A7dH\nxB7gPkn3kCSGVdlCEXEVcBVAa2trw1662rGzk0VL29i9p5vd6bOBLlraxuyjJzB+TMteZddv2cEZ\nX/rVgJY3b+YkFsxq7MRr1gj6TAQRsUrSc4HnpKPuTg/cfVkFTJN0JEkCOBNYUFLm28BZwFckTSBp\nKtqYN/hG075tF81NTU8lAYDmpibat+3aKxHMG4QawvotOwCcCMwaQJ+JQNLbgesj4nfp8DhJZ0XE\nF3r7XER0SboAWAmMILnyaJ2ky4DVEbE8nXaKpPXAk8D7I6JjgOs0bE0eN5o93Xs/JXRPdzeTx43e\na9yCWVMHfAAfaG3CzIaOPCeL35Jts0+v8HlLnplHxIqIeHZEHBUR/5GOuyRNAkTiPRExPSKeHxFL\n9mclGsX4MS0snj+DUc1NjG0ZyajmJhbPn7FPs5CZWX/kOUcwQpLSh9P03B9wQLFhWSVzZ05i9tET\naN+2i8njRjsJmNmA5UkEPwBukNTT++hb03FWI+PHtDgBmNmgyZMIFpEc/P81Hf4hcE1hEZmZWVXl\nuWqom+QB9l8sPhwzM6u2PFcN3UeZbqcj4lmFRGRmZlWVp2moNfN+FPBa4NBiwrFq6djZ6RPOZgbk\naxoqva7/vyStAS4pJiQrmrupMLOsPE1Dx2UGm0hqCHlqElaH+tNNhZk1hjwH9E9l3ncB9wOvKyQa\nK1zebirMrHHkaRr6h2oEYtWRt5uKPHyewWx46LOLCUkXSjpIiWsk3SHplGoEZ4NvsLqpWLZ2M7Mv\nv403XHM7sy+/jeVrSzuWNbOhIk/T0HkR8VlJrwTGA28Evg7cUmhkVpiBdlPh8wxmw0ueRKD072nA\n19IeRNXbB6z+DaSbCp9nMBte8vQ+ukbSLSSJYKWksUB3H5+xYWwwzzOYWe3lSQRvBi4G/j4iHifp\nefTcQqOyuubusM2Gl7x9Dd2RGe4A/PCYBufusM2Gjzw1gv0maY6kuyVtkHRxmennSNoqaW36+pci\n47HBNX5MC8dOOcRJwGyIq1gjkHRkRNy3vzNOH2BzBXAyyUPqV0laHhHrS4reEBEX7O9yrDjrt+wY\n8CMr582c5Ocem9W53moENwNIunU/5308sCEiNkbEE8ASYN5+zsuqbN7MSUw/7KABzWP9lh0s8/0F\nZnWvt3METZI+CDxb0ntKJ0bEp/uY9yRgU2a4HZhVptx8SS8F7gHeHRGbSgtIWggsBJg61b8uq2HB\nrKkD/iU/0NqEmVVHbzWCM4EnSZLF2DKvwfAd4IiImEHy5LOvlisUEVdFRGtEtE6cOHGQFm1mZtBL\njSAi7gYul9QWEd/fj3lvBqZkhien47LLyF59dA2weD+WY2ZmA5DnqqFfSvq0pNXp61OSDs7xuVXA\nNElHSjqApIaxPFtA0mGZwbnAXbkjNzOzQZEnEVwLPEbS9fTrgB3AV/r6UER0ARcAK0kO8Dem3VNc\nJmluWuydktZJuhN4J3BO/1fBzMwGIk9fQ0dFxPzM8Eclrc0z84hYAawoGXdJ5v0HgA/kmZeZmRUj\nT41gl6QX9wxImg3sKi4kMzOrpjw1gvOBr2XOC2wDzi4uJGskfriNWe3l6WvoTuBYSQelwzsKj8oa\nwrK1m1m0tI3mpib2dHezeP4M5s6cVOuwzBpO7r6GImKHk4ANluzDbR7r7GL3nm4uWtpGx87OWodm\n1nAK7XTOrJKeh9tk9Tzcxsyqy4nAasIPtzGrH3keXv80SR+RdHU6PE3Sq4oPzYYzP9zGrH7kuWro\nK8Aa4IR0eDNwE/DdooKyxuCH25jVh7w3lJ0h6SyAiHjcD6+3wTJ+TIsTgFmN5TlH8ISk0UAASDoK\n8KUdZmbDRJ4awaXAD4Apkq4HZuOH15uZDRt5bii7RdIa4IWAgAsj4pHCIzMzs6rIc9XQrRHRERHf\ni4jvRsQjA3h8pZmZ1ZneHl4/CngaMEHSOJLaAMBBJI+hNDOzYaC3pqG3Au8Cnkly+WhPItgBfL7g\nuMzMrEp6e1TlZ4HPSnpHRHyuijGZmVkV9XmOICI+J+l5kl4n6U09rzwzlzRH0t2SNki6uJdy8yWF\npNb+BG9mZgPX51VDkv4NOBGYTvK0sVOBnwNf6+NzI4ArgJOBdmCVpOURsb6k3FjgQuD2/YjfzMwG\nKM8NZa8BXgE8GBHnAscCeR5efzywISI2RsQTwBJgXply/w5cDuzOF7KZmQ2mXI+qjIhuoCt9OM3D\nwJQcn5sEbMoMt1NytZGk44ApEfG93mYkaaGk1ZJWb926Nceizcwsrzx3Fq+WdAhwNcnVQzuBXw10\nwZKagE8D5/RVNiKuAq4CaG1tjYEu26pn/ZYdnPGlAe8uAzZv5iQWzJpa6zDM6lKviSDtXO7jEbEd\nuFLSD4CDIqItx7w3s3fNYXI6rsdY4HnAT9I+7J4BLJc0NyJW92MdrE7Nq5PHTq7fkjxYz4nArLxe\nE0FEhKQVwPPT4fv7Me9VwDRJR5IkgDOBBZl5/xmY0DMs6SfA+5wEho8Fs6bWxcG3HmokZvUszzmC\nOyT9fX9nHBFdwAXASuAu4MaIWCfpMklz+zs/MzMrRp5zBLOA10v6I/AXkjuMIyJm9PXBiFhBcslp\ndtwlFcqemCMWMzMbZHkSwSsLj8LMzGomTzfUf6xGIGZmVht5zhGYmdkw5kRgZtbgnAjMzBqcE4GZ\nWYNzIjAza3BOBGZAx85O7ty0nY6dnbUOxazq8txHYDasLVu7mUVL22huamJPdzeL589gbp30k2RW\nDa4RWEPr2NnJoqVt7N7TzWOdXeze081FS9tcM7CG4kRgDa192y6am/b+GjQ3NdG+bVeNIjKrPicC\nG/IG0r4/edxo9nR37zVuT3c3k8eNHqzwzOqeE4ENacvWbmb25bfxhmtuZ/blt7F87ea+P5QxfkwL\ni+fPYFRzE2NbRjKquYnF82cwfkxLv+bjk802lPlksQ1Z2fb93SS/6i9a2sbsoyf060A+d+YkZh89\ngfZtu5g8bnS/k8BwO9ncsbNzv7eFDU1OBDZk9bTv9yQB+Gv7fn8PYOPHtOzXQW+wklG9GG5JzfJx\n05ANWfXQvj+cTjb7CqrGVWiNQNIc4LPACOCaiPhEyfTzgbcDTwI7gYURsb7ImGz46Gnfv6jkF2w1\nf4n3Jxl94/YHWNbPcxjlzJs5qZBHgA5mDcuGlsISgaQRwBXAyUA7sErS8pID/Tci4sq0/Fzg08Cc\nomKy4Sdv+/76LTsKe3bx5ENG84dH/kIT0J0Ov+36O/Ypd/t9jwIw68hD93tZ67fsACgkEdRDDctq\no8gawfHAhojYCCBpCTAPeCoRRMSOTPkDgSgwHhum+mrfn1dwG/f4MS0cPLqZzq5uWkY2MXJE+RbX\nWUceOuBf80UlM6iPGpbVRpGJYBKwKTPcTvL8471IejvwHuAA4OXlZiRpIbAQYOrUwf8lZMPbgllT\nC/kFPRwN9AoqG5pqfrI4Iq6IiKOARcCHK5S5KiJaI6J14sSJ1Q3QrMGMH9PCsVMOcRJoIEUmgs3A\nlMzw5HRcJUuA0wuMx8zMyigyEawCpkk6UtIBwJnA8mwBSdMyg/8I3FtgPGZmVkZh5wgiokvSBcBK\nkstHr42IdZIuA1ZHxHLgAkknAXuAbcDZRcVjZmblFXofQUSsAFaUjLsk8/7CIpdvZmZ9q/nJYjMz\nqy0nArM64R5MrVbc6ZxZHXBnb1ZLrhGY1Zg7e7NacyIwq7Hh1IOpDU1OBGY15s7erNZ8jsCsxvrb\n2VtvPal2PdndZ+d3UFxX1jY0ORGY1YG8nb311pNqx87OvbrDPmrCgWXnU2RX1jY0ORGY1Yk8j8us\n1JNqx85OZl9+GxHJU54A2rfv4oa3nrDPPIvsytqGJp8jMBsGfMLZBsKJwGwY8AlnGwgnArNhoOeE\n86jmJsa2jGRUc5OfLma5+RyB2TDhp4vZ/nIiMBtG8pxwNivlpiEzswZXaCKQNEfS3ZI2SLq4zPT3\nSFovqU3SrZIOLzIeMzPbV2GJQNII4ArgVGA6cJak6SXFfgO0RsQM4GZgcVHxmJlZeUXWCI4HNkTE\nxoh4guTh9POyBSLixxHxeDr4a5IH3JuZWRUVmQgmAZsyw+3puEreDHy/wHjMzKyMurhqSNIbgFbg\nZRWmLwQWAkyd6v5RzAaqt47r8nLHdcNHkTWCzcCUzPDkdNxeJJ0EfAiYGxFln8QREVdFRGtEtE6c\nOLGQYM0axbyZk5h+2EEDmsf6LTtYtnafr7MNUUXWCFYB0yQdSZIAzgQWZAtIegHwJWBORDxcYCxm\nlqrUcV1/uOO64aWwGkFEdAEXACuBu4AbI2KdpMskzU2LfRIYA9wkaa2k5UXFY2a2Pzp2dnLnpu3D\n+tGhhZ4jiIgVwIqScZdk3p9U5PLNzAZi2drNLCp5YNDcXp4JMVT5zmIzG3TD4Vd0x85OFi1tY/ee\nbh7r7GL3nm4uWto2pNepkrq4asjMho/h8iu65xkPu/lr9949z3gYbv05uUZgZoOm3n5FD6RmUm/P\neCiyluUagZkNmnr6FT3QmknPMx4uKplHLWoDRdeynAjMbNDUy6/obM2kJyldtLSN2UdP6NeBvB6e\n8TBY69IbJwIzGzTV/BX9jdsfqHhT2186u9jTVZKQuro5+9r/5cCWoXXYK7cug13LGlpbxMzqRm/d\nVBxz2EF0dnXTMrKJ629/gOtvf6BsuYF0U7Fs7WbWb9lR9i7plpFNdJeM607HDzXl1mWwa1lOBGbW\nb/P6aJ8eOaKJkSN6P+jeft+j3H7fo/vdVUVPErjhrSeUnb587eZ9aia1unqpY2fngJqXyq3LYNay\nFBGDNrNqaG1tjdWrV9c6DCbpatAAAAhSSURBVDMboN6adgC6nux+qlZRKan0VaMY6AF4MAzWid6B\nroukNRHRWnaaE4GZ1Zvhci9Cx85OZl9+G7v3/LVxZ1RzE79Y9PKqJ6beEsHQazAzs2Gt3u5FGIie\ny2mzek701hMnAjOrK0Pl4JlHvVxO2xcnAjOrK0Pl4JlHz+W0o5qbGNsyklHNTTW7Ka03vmrIzOpK\nPd3ROxjq4aa0vjgRmFndGQoHz/4YP6alrtfBicDM6lK9HzyHk0LPEUiaI+luSRskXVxm+ksl3SGp\nS9JriozFzMzKKywRSBoBXAGcCkwHzpI0vaTYA8A5wDeKisPMzHpXZNPQ8cCGiNgIIGkJMA9Y31Mg\nIu5Pp5V2pWFmZlVSZNPQJGBTZrg9HddvkhZKWi1p9datWwclODMzSwyJ+wgi4qqIaI2I1okTJ9Y6\nHDOzYaXIpqHNwJTM8OR03ICsWbPmEUl/HOh8ejEBeKTA+Q8Wxzn4hkqsjnNwDZU4YWCxHl5pQpGJ\nYBUwTdKRJAngTGDBQGcaEYVWCSStrtQxUz1xnINvqMTqOAfXUIkTiou1sKahiOgCLgBWAncBN0bE\nOkmXSZoLIOnvJbUDrwW+JGldUfGYmVl5hd5QFhErgBUl4y7JvF9F0mRkZmY1MiROFlfZVbUOICfH\nOfiGSqyOc3ANlTihoFiH3INpzMxscLlGYGbW4JwIzMwaXMMlAklTJP1Y0npJ6yRdWKbMiZL+LGlt\n+rqk3LyqQdL9kn6bxrHPw5qV+O+0Y782ScfVIMbnZLbVWkk7JL2rpEzNtqmkayU9LOl3mXGHSvqh\npHvTv+MqfPbstMy9ks6uQZyflPT79H/7LUmHVPhsr/tJFeK8VNLmzP/3tAqf7bUjyirEeUMmxvsl\nra3w2Wpuz7LHpKruoxHRUC/gMOC49P1Y4B5gekmZE4Hv1jrWNJb7gQm9TD8N+D4g4IXA7TWOdwTw\nIHB4vWxT4KXAccDvMuMWAxen7y8GLi/zuUOBjenfcen7cVWO8xRgZPr+8nJx5tlPqhDnpcD7cuwb\nfwCeBRwA3Fn63Ss6zpLpnwIuqYPtWfaYVM19tOFqBBGxJSLuSN8/RnKPw371gVQn5gFfi8SvgUMk\nHVbDeF4B/CEiirz7u18i4mfAoyWj5wFfTd9/FTi9zEdfCfwwIh6NiG3AD4E51YwzIm6J5J4cgF9T\nB5dbV9ieeTzVEWVEPAH0dERZiN7ilCTgdcA3i1p+Xr0ck6q2jzZcIsiSdATwAuD2MpNPkHSnpO9L\nOqaqge0tgFskrZG0sMz0Qevcb5CcSeUvV71sU4CnR8SW9P2DwNPLlKm3bXseSe2vnL72k2q4IG3C\nurZCM0Y9bc+XAA9FxL0Vptdke5Yck6q2jzZsIpA0BlgKvCsidpRMvoOkaeNY4HPAt6sdX8aLI+I4\nkuc6vF3SS2sYS68kHQDMBW4qM7metuleIqlj1/V11JI+BHQB11coUuv95IvAUcBMYAtJs0s9O4ve\nawNV3569HZOK3kcbMhFIaibZ4NdHxP8rnR4ROyJiZ/p+BdAsaUKVw+yJZXP692HgWyTV66xCOvfb\nT6cCd0TEQ6UT6mmbph7qaUJL/z5cpkxdbFtJ5wCvAl6fHhD2kWM/KVREPBQRT0ZEN3B1heXXy/Yc\nCfwzcEOlMtXenhWOSVXbRxsuEaRtg18G7oqIT1co84y0HJKOJ9lOHdWL8qk4DpQ0tuc9yYnD35UU\nWw68Kb166IXAnzPVyWqr+CurXrZpxnKg5wqLs4FlZcqsBE6RNC5t6jglHVc1kuYAFwFzI+LxCmXy\n7CeFKjkv9U8Vlv9UR5Rp7fFMkv9DtZ0E/D4i2stNrPb27OWYVL19tBpnxevpBbyYpIrVBqxNX6cB\n5wPnp2UuANaRXNXwa+BFNYr1WWkMd6bxfCgdn41VJI8E/QPwW6C1RrEeSHJgPzgzri62KUly2gLs\nIWlDfTMwHrgVuBf4EXBoWrYVuCbz2fOADenr3BrEuYGkDbhnX70yLftMYEVv+0mV4/x6uv+1kRzA\nDiuNMx0+jeSqmD/UIs50/HU9+2WmbC23Z6VjUtX2UXcxYWbW4BquacjMzPbmRGBm1uCcCMzMGpwT\ngZlZg3MiMDNrcIU+qtJsKJF0KbATOAj4WUT8qEK504F7ImJ9FcMzK4xrBGYlIuKSSkkgdTpJ75Bm\nw4ITgTU0SR+SdI+knwPPScddJ+k16ftPpP3Et0n6T0kvIulP6ZNpX/VHSXqLpFVph3pLJT0tM5//\nlvRLSRt75plOW5T2d3+npE+k446S9IO0o7P/kfTcqm8Qa0huGrKGJenvSLo5mEnyXbgDWJOZPp6k\nu4TnRkRIOiQitktaTvJshZvTctsj4ur0/cdI7rT9XDqbw0juHH0uyR23N0s6laSL4VkR8bikQ9Oy\nV5Hc8XqvpFnAF4CXF7gJzAAnAmtsLwG+FWkfPukBPuvPwG7gy5K+C3y3wnyelyaAQ4Ax7N3Xy7cj\n6YhtvaSeboRPAr7Ss9yIeDTtefJFwE1pl0wALQNaO7OcnAjMKoiIrrSDvFcAryHpL6ncL/TrgNMj\n4s60p9ATM9M6M+9FZU3A9oiYOZCYzfaHzxFYI/sZcLqk0Wlvk6/OTkx/pR8cSbfZ7waOTSc9RvJI\nwR5jgS1pV8Kvz7HcHwLnZs4lHBpJ//P3SXptOk6Sju1tJmaDxYnAGlYkjwe8gaSXye+TdJOcNRb4\nrqQ24OfAe9LxS4D3S/qNpKOAj5A8UeoXwO9zLPcHJOcLVit5ePr70kmvB94sqafXy8Ie42iW5d5H\nzcwanGsEZmYNzonAzKzBORGYmTU4JwIzswbnRGBm1uCcCMzMGpwTgZlZg/v/6VXCC4/F4hcAAAAA\nSUVORK5CYII=\n",
                "text/plain": "<Figure size 432x288 with 1 Axes>"
              }
            ],
            "_view_module": "@jupyter-widgets/output",
            "_model_module_version": "1.0.0",
            "_view_count": null,
            "_view_module_version": "1.0.0",
            "layout": "IPY_MODEL_bfd8dfafda9f4aaca095d1dcae620ab0",
            "_model_module": "@jupyter-widgets/output"
          }
        },
        "9b11799ba7f748d28e6579bec55bb792": {
          "model_module": "@jupyter-widgets/controls",
          "model_name": "SliderStyleModel",
          "state": {
            "_view_name": "StyleView",
            "handle_color": null,
            "_model_name": "SliderStyleModel",
            "description_width": "",
            "_view_module": "@jupyter-widgets/base",
            "_model_module_version": "1.5.0",
            "_view_count": null,
            "_view_module_version": "1.2.0",
            "_model_module": "@jupyter-widgets/controls"
          }
        },
        "733acac8e0c24acc8ef76f088a44ca28": {
          "model_module": "@jupyter-widgets/base",
          "model_name": "LayoutModel",
          "state": {
            "_view_name": "LayoutView",
            "grid_template_rows": null,
            "right": null,
            "justify_content": null,
            "_view_module": "@jupyter-widgets/base",
            "overflow": null,
            "_model_module_version": "1.2.0",
            "_view_count": null,
            "flex_flow": null,
            "width": null,
            "min_width": null,
            "border": null,
            "align_items": null,
            "bottom": null,
            "_model_module": "@jupyter-widgets/base",
            "top": null,
            "grid_column": null,
            "overflow_y": null,
            "overflow_x": null,
            "grid_auto_flow": null,
            "grid_area": null,
            "grid_template_columns": null,
            "flex": null,
            "_model_name": "LayoutModel",
            "justify_items": null,
            "grid_row": null,
            "max_height": null,
            "align_content": null,
            "visibility": null,
            "align_self": null,
            "height": null,
            "min_height": null,
            "padding": null,
            "grid_auto_rows": null,
            "grid_gap": null,
            "max_width": null,
            "order": null,
            "_view_module_version": "1.2.0",
            "grid_template_areas": null,
            "object_position": null,
            "object_fit": null,
            "grid_auto_columns": null,
            "margin": null,
            "display": null,
            "left": null
          }
        },
        "4140c48cc185491dbc3b30975a64333f": {
          "model_module": "@jupyter-widgets/controls",
          "model_name": "SliderStyleModel",
          "state": {
            "_view_name": "StyleView",
            "handle_color": null,
            "_model_name": "SliderStyleModel",
            "description_width": "",
            "_view_module": "@jupyter-widgets/base",
            "_model_module_version": "1.5.0",
            "_view_count": null,
            "_view_module_version": "1.2.0",
            "_model_module": "@jupyter-widgets/controls"
          }
        },
        "de0c1b872d9c40a1a0bb784cb24b5eab": {
          "model_module": "@jupyter-widgets/base",
          "model_name": "LayoutModel",
          "state": {
            "_view_name": "LayoutView",
            "grid_template_rows": null,
            "right": null,
            "justify_content": null,
            "_view_module": "@jupyter-widgets/base",
            "overflow": null,
            "_model_module_version": "1.2.0",
            "_view_count": null,
            "flex_flow": null,
            "width": null,
            "min_width": null,
            "border": null,
            "align_items": null,
            "bottom": null,
            "_model_module": "@jupyter-widgets/base",
            "top": null,
            "grid_column": null,
            "overflow_y": null,
            "overflow_x": null,
            "grid_auto_flow": null,
            "grid_area": null,
            "grid_template_columns": null,
            "flex": null,
            "_model_name": "LayoutModel",
            "justify_items": null,
            "grid_row": null,
            "max_height": null,
            "align_content": null,
            "visibility": null,
            "align_self": null,
            "height": null,
            "min_height": null,
            "padding": null,
            "grid_auto_rows": null,
            "grid_gap": null,
            "max_width": null,
            "order": null,
            "_view_module_version": "1.2.0",
            "grid_template_areas": null,
            "object_position": null,
            "object_fit": null,
            "grid_auto_columns": null,
            "margin": null,
            "display": null,
            "left": null
          }
        },
        "a4c16a2cb51844bb85c912586a77f445": {
          "model_module": "@jupyter-widgets/controls",
          "model_name": "VBoxModel",
          "state": {
            "_view_name": "VBoxView",
            "_dom_classes": [
              "widget-interact"
            ],
            "_model_name": "VBoxModel",
            "_view_module": "@jupyter-widgets/controls",
            "_model_module_version": "1.5.0",
            "_view_count": null,
            "_view_module_version": "1.5.0",
            "box_style": "",
            "layout": "IPY_MODEL_acce757d225b4208892885c26919bf28",
            "_model_module": "@jupyter-widgets/controls",
            "children": [
              "IPY_MODEL_acb90d8d5f454a47bb16e57b5aa61058",
              "IPY_MODEL_cfd957cd3be54a23af98eb4e870fefac",
              "IPY_MODEL_7a7c0aa9524040928c8881ab876e0ec5"
            ]
          }
        },
        "acce757d225b4208892885c26919bf28": {
          "model_module": "@jupyter-widgets/base",
          "model_name": "LayoutModel",
          "state": {
            "_view_name": "LayoutView",
            "grid_template_rows": null,
            "right": null,
            "justify_content": null,
            "_view_module": "@jupyter-widgets/base",
            "overflow": null,
            "_model_module_version": "1.2.0",
            "_view_count": null,
            "flex_flow": null,
            "width": null,
            "min_width": null,
            "border": null,
            "align_items": null,
            "bottom": null,
            "_model_module": "@jupyter-widgets/base",
            "top": null,
            "grid_column": null,
            "overflow_y": null,
            "overflow_x": null,
            "grid_auto_flow": null,
            "grid_area": null,
            "grid_template_columns": null,
            "flex": null,
            "_model_name": "LayoutModel",
            "justify_items": null,
            "grid_row": null,
            "max_height": null,
            "align_content": null,
            "visibility": null,
            "align_self": null,
            "height": null,
            "min_height": null,
            "padding": null,
            "grid_auto_rows": null,
            "grid_gap": null,
            "max_width": null,
            "order": null,
            "_view_module_version": "1.2.0",
            "grid_template_areas": null,
            "object_position": null,
            "object_fit": null,
            "grid_auto_columns": null,
            "margin": null,
            "display": null,
            "left": null
          }
        },
        "acb90d8d5f454a47bb16e57b5aa61058": {
          "model_module": "@jupyter-widgets/controls",
          "model_name": "IntSliderModel",
          "state": {
            "_view_name": "IntSliderView",
            "style": "IPY_MODEL_5b5a34f224be4b508e1894b286e3f760",
            "_dom_classes": [],
            "description": "max_depth",
            "step": 1,
            "_model_name": "IntSliderModel",
            "orientation": "horizontal",
            "max": 6,
            "_view_module": "@jupyter-widgets/controls",
            "_model_module_version": "1.5.0",
            "value": 2,
            "_view_count": null,
            "disabled": false,
            "_view_module_version": "1.5.0",
            "min": 1,
            "continuous_update": true,
            "readout_format": "d",
            "description_tooltip": null,
            "readout": true,
            "_model_module": "@jupyter-widgets/controls",
            "layout": "IPY_MODEL_b4a52276b7fb4fd1828b72f1deb5d201"
          }
        },
        "cfd957cd3be54a23af98eb4e870fefac": {
          "model_module": "@jupyter-widgets/controls",
          "model_name": "IntSliderModel",
          "state": {
            "_view_name": "IntSliderView",
            "style": "IPY_MODEL_3bfa6563c39b49b683a7e84faeba8509",
            "_dom_classes": [],
            "description": "n_estimators",
            "step": 10,
            "_model_name": "IntSliderModel",
            "orientation": "horizontal",
            "max": 40,
            "_view_module": "@jupyter-widgets/controls",
            "_model_module_version": "1.5.0",
            "value": 10,
            "_view_count": null,
            "disabled": false,
            "_view_module_version": "1.5.0",
            "min": 10,
            "continuous_update": true,
            "readout_format": "d",
            "description_tooltip": null,
            "readout": true,
            "_model_module": "@jupyter-widgets/controls",
            "layout": "IPY_MODEL_a154b8f62468452cb06e11f8806e0f42"
          }
        },
        "7a7c0aa9524040928c8881ab876e0ec5": {
          "model_module": "@jupyter-widgets/output",
          "model_name": "OutputModel",
          "state": {
            "_view_name": "OutputView",
            "msg_id": "",
            "_dom_classes": [],
            "_model_name": "OutputModel",
            "outputs": [
              {
                "output_type": "display_data",
                "metadata": {
                  "tags": []
                },
                "image/png": "iVBORw0KGgoAAAANSUhEUgAAAVoAAAEFCAYAAACiiS9UAAAABHNCSVQICAgIfAhkiAAAAAlwSFlz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\nDLSS1DEDrSR1zEArSR37/+IcJfFNgI2ZAAAAAElFTkSuQmCC\n",
                "text/plain": "<Figure size 432x288 with 2 Axes>"
              },
              {
                "output_type": "display_data",
                "metadata": {
                  "tags": []
                },
                "image/png": "iVBORw0KGgoAAAANSUhEUgAAAVoAAAEFCAYAAACiiS9UAAAABHNCSVQICAgIfAhkiAAAAAlwSFlz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\nAAAAAElFTkSuQmCC\n",
                "text/plain": "<Figure size 432x288 with 2 Axes>"
              },
              {
                "output_type": "display_data",
                "metadata": {
                  "tags": []
                },
                "image/png": "iVBORw0KGgoAAAANSUhEUgAAAVoAAAEFCAYAAACiiS9UAAAABHNCSVQICAgIfAhkiAAAAAlwSFlz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\n",
                "text/plain": "<Figure size 432x288 with 2 Axes>"
              }
            ],
            "_view_module": "@jupyter-widgets/output",
            "_model_module_version": "1.0.0",
            "_view_count": null,
            "_view_module_version": "1.0.0",
            "layout": "IPY_MODEL_fa83b85b92e74628b3138e25c7b87da5",
            "_model_module": "@jupyter-widgets/output"
          }
        },
        "5b5a34f224be4b508e1894b286e3f760": {
          "model_module": "@jupyter-widgets/controls",
          "model_name": "SliderStyleModel",
          "state": {
            "_view_name": "StyleView",
            "handle_color": null,
            "_model_name": "SliderStyleModel",
            "description_width": "",
            "_view_module": "@jupyter-widgets/base",
            "_model_module_version": "1.5.0",
            "_view_count": null,
            "_view_module_version": "1.2.0",
            "_model_module": "@jupyter-widgets/controls"
          }
        },
        "b4a52276b7fb4fd1828b72f1deb5d201": {
          "model_module": "@jupyter-widgets/base",
          "model_name": "LayoutModel",
          "state": {
            "_view_name": "LayoutView",
            "grid_template_rows": null,
            "right": null,
            "justify_content": null,
            "_view_module": "@jupyter-widgets/base",
            "overflow": null,
            "_model_module_version": "1.2.0",
            "_view_count": null,
            "flex_flow": null,
            "width": null,
            "min_width": null,
            "border": null,
            "align_items": null,
            "bottom": null,
            "_model_module": "@jupyter-widgets/base",
            "top": null,
            "grid_column": null,
            "overflow_y": null,
            "overflow_x": null,
            "grid_auto_flow": null,
            "grid_area": null,
            "grid_template_columns": null,
            "flex": null,
            "_model_name": "LayoutModel",
            "justify_items": null,
            "grid_row": null,
            "max_height": null,
            "align_content": null,
            "visibility": null,
            "align_self": null,
            "height": null,
            "min_height": null,
            "padding": null,
            "grid_auto_rows": null,
            "grid_gap": null,
            "max_width": null,
            "order": null,
            "_view_module_version": "1.2.0",
            "grid_template_areas": null,
            "object_position": null,
            "object_fit": null,
            "grid_auto_columns": null,
            "margin": null,
            "display": null,
            "left": null
          }
        },
        "3bfa6563c39b49b683a7e84faeba8509": {
          "model_module": "@jupyter-widgets/controls",
          "model_name": "SliderStyleModel",
          "state": {
            "_view_name": "StyleView",
            "handle_color": null,
            "_model_name": "SliderStyleModel",
            "description_width": "",
            "_view_module": "@jupyter-widgets/base",
            "_model_module_version": "1.5.0",
            "_view_count": null,
            "_view_module_version": "1.2.0",
            "_model_module": "@jupyter-widgets/controls"
          }
        },
        "a154b8f62468452cb06e11f8806e0f42": {
          "model_module": "@jupyter-widgets/base",
          "model_name": "LayoutModel",
          "state": {
            "_view_name": "LayoutView",
            "grid_template_rows": null,
            "right": null,
            "justify_content": null,
            "_view_module": "@jupyter-widgets/base",
            "overflow": null,
            "_model_module_version": "1.2.0",
            "_view_count": null,
            "flex_flow": null,
            "width": null,
            "min_width": null,
            "border": null,
            "align_items": null,
            "bottom": null,
            "_model_module": "@jupyter-widgets/base",
            "top": null,
            "grid_column": null,
            "overflow_y": null,
            "overflow_x": null,
            "grid_auto_flow": null,
            "grid_area": null,
            "grid_template_columns": null,
            "flex": null,
            "_model_name": "LayoutModel",
            "justify_items": null,
            "grid_row": null,
            "max_height": null,
            "align_content": null,
            "visibility": null,
            "align_self": null,
            "height": null,
            "min_height": null,
            "padding": null,
            "grid_auto_rows": null,
            "grid_gap": null,
            "max_width": null,
            "order": null,
            "_view_module_version": "1.2.0",
            "grid_template_areas": null,
            "object_position": null,
            "object_fit": null,
            "grid_auto_columns": null,
            "margin": null,
            "display": null,
            "left": null
          }
        },
        "404e151906df451eaf7f6cd458241fff": {
          "model_module": "@jupyter-widgets/controls",
          "model_name": "VBoxModel",
          "state": {
            "_view_name": "VBoxView",
            "_dom_classes": [
              "widget-interact"
            ],
            "_model_name": "VBoxModel",
            "_view_module": "@jupyter-widgets/controls",
            "_model_module_version": "1.5.0",
            "_view_count": null,
            "_view_module_version": "1.5.0",
            "box_style": "",
            "layout": "IPY_MODEL_7dac9ba2df394c0e812370c103347276",
            "_model_module": "@jupyter-widgets/controls",
            "children": [
              "IPY_MODEL_0647cf6943204bbb9a449ba61e192a4d",
              "IPY_MODEL_d0953ce9d3374c4887408fb82d7112b4",
              "IPY_MODEL_38e142b54d804e5aa073d97105eb9dae"
            ]
          }
        },
        "7dac9ba2df394c0e812370c103347276": {
          "model_module": "@jupyter-widgets/base",
          "model_name": "LayoutModel",
          "state": {
            "_view_name": "LayoutView",
            "grid_template_rows": null,
            "right": null,
            "justify_content": null,
            "_view_module": "@jupyter-widgets/base",
            "overflow": null,
            "_model_module_version": "1.2.0",
            "_view_count": null,
            "flex_flow": null,
            "width": null,
            "min_width": null,
            "border": null,
            "align_items": null,
            "bottom": null,
            "_model_module": "@jupyter-widgets/base",
            "top": null,
            "grid_column": null,
            "overflow_y": null,
            "overflow_x": null,
            "grid_auto_flow": null,
            "grid_area": null,
            "grid_template_columns": null,
            "flex": null,
            "_model_name": "LayoutModel",
            "justify_items": null,
            "grid_row": null,
            "max_height": null,
            "align_content": null,
            "visibility": null,
            "align_self": null,
            "height": null,
            "min_height": null,
            "padding": null,
            "grid_auto_rows": null,
            "grid_gap": null,
            "max_width": null,
            "order": null,
            "_view_module_version": "1.2.0",
            "grid_template_areas": null,
            "object_position": null,
            "object_fit": null,
            "grid_auto_columns": null,
            "margin": null,
            "display": null,
            "left": null
          }
        },
        "0647cf6943204bbb9a449ba61e192a4d": {
          "model_module": "@jupyter-widgets/controls",
          "model_name": "IntSliderModel",
          "state": {
            "_view_name": "IntSliderView",
            "style": "IPY_MODEL_60194934104a4df7bd1d2c290f5da01d",
            "_dom_classes": [],
            "description": "max_depth",
            "step": 1,
            "_model_name": "IntSliderModel",
            "orientation": "horizontal",
            "max": 6,
            "_view_module": "@jupyter-widgets/controls",
            "_model_module_version": "1.5.0",
            "value": 1,
            "_view_count": null,
            "disabled": false,
            "_view_module_version": "1.5.0",
            "min": 1,
            "continuous_update": true,
            "readout_format": "d",
            "description_tooltip": null,
            "readout": true,
            "_model_module": "@jupyter-widgets/controls",
            "layout": "IPY_MODEL_5c687d17e72b4daabfc3c8918b4195d8"
          }
        },
        "d0953ce9d3374c4887408fb82d7112b4": {
          "model_module": "@jupyter-widgets/controls",
          "model_name": "IntSliderModel",
          "state": {
            "_view_name": "IntSliderView",
            "style": "IPY_MODEL_41200a5d9d784b3c91659aab829e6083",
            "_dom_classes": [],
            "description": "n_estimators",
            "step": 1,
            "_model_name": "IntSliderModel",
            "orientation": "horizontal",
            "max": 5,
            "_view_module": "@jupyter-widgets/controls",
            "_model_module_version": "1.5.0",
            "value": 2,
            "_view_count": null,
            "disabled": false,
            "_view_module_version": "1.5.0",
            "min": 2,
            "continuous_update": true,
            "readout_format": "d",
            "description_tooltip": null,
            "readout": true,
            "_model_module": "@jupyter-widgets/controls",
            "layout": "IPY_MODEL_790cf20d45764bc1a159b634f1f7131b"
          }
        },
        "38e142b54d804e5aa073d97105eb9dae": {
          "model_module": "@jupyter-widgets/output",
          "model_name": "OutputModel",
          "state": {
            "_view_name": "OutputView",
            "msg_id": "",
            "_dom_classes": [],
            "_model_name": "OutputModel",
            "outputs": [
              {
                "output_type": "display_data",
                "metadata": {
                  "tags": []
                },
                "image/png": "iVBORw0KGgoAAAANSUhEUgAAAVoAAAEFCAYAAACiiS9UAAAABHNCSVQICAgIfAhkiAAAAAlwSFlz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\n",
                "text/plain": "<Figure size 432x288 with 2 Axes>"
              },
              {
                "output_type": "display_data",
                "metadata": {
                  "tags": []
                },
                "image/png": "iVBORw0KGgoAAAANSUhEUgAAAVoAAAEFCAYAAACiiS9UAAAABHNCSVQICAgIfAhkiAAAAAlwSFlz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\nrkJggg==\n",
                "text/plain": "<Figure size 432x288 with 2 Axes>"
              },
              {
                "output_type": "display_data",
                "metadata": {
                  "tags": []
                },
                "image/png": "iVBORw0KGgoAAAANSUhEUgAAAVoAAAEFCAYAAACiiS9UAAAABHNCSVQICAgIfAhkiAAAAAlwSFlz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\nmpll9v8SOOECVpPdngAAAABJRU5ErkJggg==\n",
                "text/plain": "<Figure size 432x288 with 2 Axes>"
              }
            ],
            "_view_module": "@jupyter-widgets/output",
            "_model_module_version": "1.0.0",
            "_view_count": null,
            "_view_module_version": "1.0.0",
            "layout": "IPY_MODEL_3e23d7937dde4317a809ae8883fe1be9",
            "_model_module": "@jupyter-widgets/output"
          }
        },
        "60194934104a4df7bd1d2c290f5da01d": {
          "model_module": "@jupyter-widgets/controls",
          "model_name": "SliderStyleModel",
          "state": {
            "_view_name": "StyleView",
            "handle_color": null,
            "_model_name": "SliderStyleModel",
            "description_width": "",
            "_view_module": "@jupyter-widgets/base",
            "_model_module_version": "1.5.0",
            "_view_count": null,
            "_view_module_version": "1.2.0",
            "_model_module": "@jupyter-widgets/controls"
          }
        },
        "5c687d17e72b4daabfc3c8918b4195d8": {
          "model_module": "@jupyter-widgets/base",
          "model_name": "LayoutModel",
          "state": {
            "_view_name": "LayoutView",
            "grid_template_rows": null,
            "right": null,
            "justify_content": null,
            "_view_module": "@jupyter-widgets/base",
            "overflow": null,
            "_model_module_version": "1.2.0",
            "_view_count": null,
            "flex_flow": null,
            "width": null,
            "min_width": null,
            "border": null,
            "align_items": null,
            "bottom": null,
            "_model_module": "@jupyter-widgets/base",
            "top": null,
            "grid_column": null,
            "overflow_y": null,
            "overflow_x": null,
            "grid_auto_flow": null,
            "grid_area": null,
            "grid_template_columns": null,
            "flex": null,
            "_model_name": "LayoutModel",
            "justify_items": null,
            "grid_row": null,
            "max_height": null,
            "align_content": null,
            "visibility": null,
            "align_self": null,
            "height": null,
            "min_height": null,
            "padding": null,
            "grid_auto_rows": null,
            "grid_gap": null,
            "max_width": null,
            "order": null,
            "_view_module_version": "1.2.0",
            "grid_template_areas": null,
            "object_position": null,
            "object_fit": null,
            "grid_auto_columns": null,
            "margin": null,
            "display": null,
            "left": null
          }
        },
        "41200a5d9d784b3c91659aab829e6083": {
          "model_module": "@jupyter-widgets/controls",
          "model_name": "SliderStyleModel",
          "state": {
            "_view_name": "StyleView",
            "handle_color": null,
            "_model_name": "SliderStyleModel",
            "description_width": "",
            "_view_module": "@jupyter-widgets/base",
            "_model_module_version": "1.5.0",
            "_view_count": null,
            "_view_module_version": "1.2.0",
            "_model_module": "@jupyter-widgets/controls"
          }
        },
        "790cf20d45764bc1a159b634f1f7131b": {
          "model_module": "@jupyter-widgets/base",
          "model_name": "LayoutModel",
          "state": {
            "_view_name": "LayoutView",
            "grid_template_rows": null,
            "right": null,
            "justify_content": null,
            "_view_module": "@jupyter-widgets/base",
            "overflow": null,
            "_model_module_version": "1.2.0",
            "_view_count": null,
            "flex_flow": null,
            "width": null,
            "min_width": null,
            "border": null,
            "align_items": null,
            "bottom": null,
            "_model_module": "@jupyter-widgets/base",
            "top": null,
            "grid_column": null,
            "overflow_y": null,
            "overflow_x": null,
            "grid_auto_flow": null,
            "grid_area": null,
            "grid_template_columns": null,
            "flex": null,
            "_model_name": "LayoutModel",
            "justify_items": null,
            "grid_row": null,
            "max_height": null,
            "align_content": null,
            "visibility": null,
            "align_self": null,
            "height": null,
            "min_height": null,
            "padding": null,
            "grid_auto_rows": null,
            "grid_gap": null,
            "max_width": null,
            "order": null,
            "_view_module_version": "1.2.0",
            "grid_template_areas": null,
            "object_position": null,
            "object_fit": null,
            "grid_auto_columns": null,
            "margin": null,
            "display": null,
            "left": null
          }
        }
      }
    }
  },
  "cells": [
    {
      "cell_type": "markdown",
      "metadata": {
        "id": "view-in-github",
        "colab_type": "text"
      },
      "source": [
        "<a href=\"https://colab.research.google.com/github/Vanagand/DS-Unit-2-Kaggle-Challenge/blob/master/module2-random-forests/Unit_2_Sprint_2_Module_2_LESSON.ipynb\" target=\"_parent\"><img src=\"https://colab.research.google.com/assets/colab-badge.svg\" alt=\"Open In Colab\"/></a>"
      ]
    },
    {
      "cell_type": "markdown",
      "metadata": {
        "colab_type": "text",
        "id": "UEHyIgGaaSEJ"
      },
      "source": [
        "Lambda School Data Science\n",
        "\n",
        "*Unit 2, Sprint 2, Module 2*\n",
        "\n",
        "---"
      ]
    },
    {
      "cell_type": "markdown",
      "metadata": {
        "colab_type": "text",
        "id": "mRfPLX4WgLVJ"
      },
      "source": [
        "# Random Forests"
      ]
    },
    {
      "cell_type": "markdown",
      "metadata": {
        "colab_type": "text",
        "id": "jRRNhkxcgLVK"
      },
      "source": [
        "- use scikit-learn for **random forests**\n",
        "- do **ordinal encoding** with high-cardinality categoricals\n",
        "- understand how categorical encodings affect trees differently compared to linear models\n",
        "- understand how tree ensembles reduce overfitting compared to a single decision tree with unlimited depth"
      ]
    },
    {
      "cell_type": "markdown",
      "metadata": {
        "colab_type": "text",
        "id": "-3TH11e1gLVL"
      },
      "source": [
        "Today's lesson has two take-away messages:\n",
        "\n",
        "#### Try Tree Ensembles when you do machine learning with labeled, tabular data\n",
        "- \"Tree Ensembles\" means Random Forest or Gradient Boosting models. \n",
        "- [Tree Ensembles often have the best predictive accuracy](https://arxiv.org/abs/1708.05070) with labeled, tabular data.\n",
        "- Why? Because trees can fit non-linear, non-[monotonic](https://en.wikipedia.org/wiki/Monotonic_function) relationships, and [interactions](https://christophm.github.io/interpretable-ml-book/interaction.html) between features.\n",
        "- A single decision tree, grown to unlimited depth, will [overfit](http://www.r2d3.us/visual-intro-to-machine-learning-part-1/). We solve this problem by ensembling trees, with bagging (Random Forest) or boosting (Gradient Boosting).\n",
        "- Random Forest's advantage: may be less sensitive to hyperparameters. Gradient Boosting's advantage: may get better predictive accuracy.\n",
        "\n",
        "#### One-hot encoding isn’t the only way, and may not be the best way, of categorical encoding for tree ensembles.\n",
        "- For example, tree ensembles can work with arbitrary \"ordinal\" encoding! (Randomly assigning an integer to each category.) Compared to one-hot encoding, the dimensionality will be lower, and the predictive accuracy may be just as good or even better.\n"
      ]
    },
    {
      "cell_type": "markdown",
      "metadata": {
        "colab_type": "text",
        "id": "r5PbOFEuFfGF"
      },
      "source": [
        "### Setup\n",
        "\n",
        "Run the code cell below. You can work locally (follow the [local setup instructions](https://lambdaschool.github.io/ds/unit2/local/)) or on Colab.\n",
        "\n",
        "Libraries\n",
        "\n",
        "- **category_encoders** \n",
        "- **graphviz**\n",
        "- ipywidgets\n",
        "- matplotlib\n",
        "- numpy\n",
        "- pandas\n",
        "- seaborn\n",
        "- scikit-learn"
      ]
    },
    {
      "cell_type": "code",
      "metadata": {
        "colab_type": "code",
        "id": "FStAplyRFoEu",
        "colab": {}
      },
      "source": [
        "%%capture\n",
        "import sys\n",
        "\n",
        "# If you're on Colab:\n",
        "if 'google.colab' in sys.modules:\n",
        "    DATA_PATH = 'https://raw.githubusercontent.com/LambdaSchool/DS-Unit-2-Kaggle-Challenge/master/data/'\n",
        "    !pip install category_encoders==2.*\n",
        "\n",
        "# If you're working locally:\n",
        "else:\n",
        "    DATA_PATH = '../data/'"
      ],
      "execution_count": 0,
      "outputs": []
    },
    {
      "cell_type": "markdown",
      "metadata": {
        "colab_type": "text",
        "id": "ZL-yK8B7gLVW"
      },
      "source": [
        "# Use scikit-learn for random forests"
      ]
    },
    {
      "cell_type": "markdown",
      "metadata": {
        "id": "yGUjn2QzJq4s",
        "colab_type": "text"
      },
      "source": [
        "## Overview\n",
        "\n",
        "Let's fit a Random Forest!\n",
        "\n",
        "![](https://pbs.twimg.com/media/EGSvKA0UUAEzUZi?format=png)\n",
        "\n",
        "[Chris Albon, MachineLearningFlashcards.com](https://twitter.com/chrisalbon/status/1181261589887909889)"
      ]
    },
    {
      "cell_type": "markdown",
      "metadata": {
        "colab_type": "text",
        "id": "gHFxMCPSgLVM"
      },
      "source": [
        "### Solution example\n",
        "\n",
        "First, read & wrangle the data.\n",
        "\n",
        "> Define a function to wrangle train, validate, and test sets in the same way. Clean outliers and engineer features. (For example, [what other columns have zeros and shouldn't?](https://github.com/Quartz/bad-data-guide#zeros-replace-missing-values) What other columns are duplicates, or nearly duplicates? Can you extract the year from date_recorded? Can you engineer new features, such as the number of years from waterpump construction to waterpump inspection?)"
      ]
    },
    {
      "cell_type": "code",
      "metadata": {
        "colab_type": "code",
        "id": "YTLm-rDagLVM",
        "colab": {}
      },
      "source": [
        "import numpy as np\n",
        "import pandas as pd\n",
        "from sklearn.model_selection import train_test_split\n",
        "\n",
        "# Merge train_features.csv & train_labels.csv\n",
        "train = pd.merge(pd.read_csv(DATA_PATH+'waterpumps/train_features.csv'), \n",
        "                 pd.read_csv(DATA_PATH+'waterpumps/train_labels.csv'))\n",
        "\n",
        "# Read test_features.csv & sample_submission.csv\n",
        "test = pd.read_csv(DATA_PATH+'waterpumps/test_features.csv')\n",
        "sample_submission = pd.read_csv(DATA_PATH+'waterpumps/sample_submission.csv')\n",
        "\n",
        "# Split train into train & val\n",
        "train, val = train_test_split(train, train_size=0.80, test_size=0.20, \n",
        "                              stratify=train['status_group'], random_state=42)\n",
        "\n",
        "\n",
        "def wrangle(X):\n",
        "    \"\"\"Wrangle train, validate, and test sets in the same way\"\"\"\n",
        "    \n",
        "    # Prevent SettingWithCopyWarning\n",
        "    X = X.copy()\n",
        "    \n",
        "    # About 3% of the time, latitude has small values near zero,\n",
        "    # outside Tanzania, so we'll treat these values like zero.\n",
        "    X['latitude'] = X['latitude'].replace(-2e-08, 0)\n",
        "    \n",
        "    # When columns have zeros and shouldn't, they are like null values.\n",
        "    # So we will replace the zeros with nulls, and impute missing values later.\n",
        "    # Also create a \"missing indicator\" column, because the fact that\n",
        "    # values are missing may be a predictive signal.\n",
        "    cols_with_zeros = ['longitude', 'latitude', 'construction_year', \n",
        "                       'gps_height', 'population']\n",
        "    for col in cols_with_zeros:\n",
        "        X[col] = X[col].replace(0, np.nan)\n",
        "        X[col+'_MISSING'] = X[col].isnull()\n",
        "            \n",
        "    # Drop duplicate columns\n",
        "    duplicates = ['quantity_group', 'payment_type']\n",
        "    X = X.drop(columns=duplicates)\n",
        "    \n",
        "    # Drop recorded_by (never varies) and id (always varies, random)\n",
        "    unusable_variance = ['recorded_by', 'id']\n",
        "    X = X.drop(columns=unusable_variance)\n",
        "    \n",
        "    # Convert date_recorded to datetime\n",
        "    X['date_recorded'] = pd.to_datetime(X['date_recorded'], infer_datetime_format=True)\n",
        "    \n",
        "    # Extract components from date_recorded, then drop the original column\n",
        "    X['year_recorded'] = X['date_recorded'].dt.year\n",
        "    X['month_recorded'] = X['date_recorded'].dt.month\n",
        "    X['day_recorded'] = X['date_recorded'].dt.day\n",
        "    X = X.drop(columns='date_recorded')\n",
        "    \n",
        "    # Engineer feature: how many years from construction_year to date_recorded\n",
        "    X['years'] = X['year_recorded'] - X['construction_year']\n",
        "    X['years_MISSING'] = X['years'].isnull()\n",
        "    \n",
        "    # return the wrangled dataframe\n",
        "    return X\n",
        "\n",
        "train = wrangle(train)\n",
        "val = wrangle(val)\n",
        "test = wrangle(test)"
      ],
      "execution_count": 0,
      "outputs": []
    },
    {
      "cell_type": "code",
      "metadata": {
        "colab_type": "code",
        "id": "m2HppBvZgLVP",
        "colab": {}
      },
      "source": [
        "# The status_group column is the target\n",
        "target = 'status_group'\n",
        "\n",
        "# Get a dataframe with all train columns except the target\n",
        "train_features = train.drop(columns=[target])\n",
        "\n",
        "# Get a list of the numeric features\n",
        "numeric_features = train_features.select_dtypes(include='number').columns.tolist()\n",
        "\n",
        "# Get a series with the cardinality of the nonnumeric features\n",
        "cardinality = train_features.select_dtypes(exclude='number').nunique()\n",
        "\n",
        "# Get a list of all categorical features with cardinality <= 50\n",
        "categorical_features = cardinality[cardinality <= 50].index.tolist()\n",
        "\n",
        "# Combine the lists \n",
        "features = numeric_features + categorical_features"
      ],
      "execution_count": 0,
      "outputs": []
    },
    {
      "cell_type": "code",
      "metadata": {
        "colab_type": "code",
        "id": "aXmK2brXgLVR",
        "colab": {}
      },
      "source": [
        "# Arrange data into X features matrix and y target vector \n",
        "X_train = train[features]\n",
        "y_train = train[target]\n",
        "X_val = val[features]\n",
        "y_val = val[target]\n",
        "X_test = test[features]"
      ],
      "execution_count": 0,
      "outputs": []
    },
    {
      "cell_type": "markdown",
      "metadata": {
        "id": "H54GpxPNJq41",
        "colab_type": "text"
      },
      "source": [
        "## Follow Along\n",
        "\n",
        "[Scikit-Learn User Guide: Random Forests](https://scikit-learn.org/stable/modules/ensemble.html#random-forests) "
      ]
    },
    {
      "cell_type": "code",
      "metadata": {
        "colab_type": "code",
        "id": "57yyygsdgLVW",
        "outputId": "629ba436-f08e-450c-8eab-b9abc3d78a9a",
        "colab": {
          "base_uri": "https://localhost:8080/",
          "height": 68
        }
      },
      "source": [
        "# TODO\n",
        "%%time\n",
        "\n",
        "import category_encoders as ce\n",
        "from sklearn.ensemble import RandomForestClassifier\n",
        "from sklearn.impute import SimpleImputer\n",
        "from sklearn.pipeline import make_pipeline\n",
        "\n",
        "pipeline = make_pipeline(\n",
        "    ce.OneHotEncoder(use_cat_names=True),\n",
        "    SimpleImputer(strategy='mean'),\n",
        "    RandomForestClassifier(random_state=0, n_jobs=-1)\n",
        ")\n",
        "\n",
        "pipeline.fit(X_train, y_train)\n",
        "print ('Validation Accuracy', pipeline.score(X_val, y_val))"
      ],
      "execution_count": 0,
      "outputs": [
        {
          "output_type": "stream",
          "text": [
            "Validation Accuracy 0.8081649831649832\n",
            "CPU times: user 27.6 s, sys: 359 ms, total: 27.9 s\n",
            "Wall time: 16.8 s\n"
          ],
          "name": "stdout"
        }
      ]
    },
    {
      "cell_type": "code",
      "metadata": {
        "id": "BmdjsHMJWxxF",
        "colab_type": "code",
        "outputId": "13a9da47-77df-442c-f50d-e14fb4cb2f6b",
        "colab": {
          "base_uri": "https://localhost:8080/",
          "height": 68
        }
      },
      "source": [
        "# TODO\n",
        "%%time\n",
        "\n",
        "import category_encoders as ce\n",
        "from sklearn.ensemble import RandomForestClassifier\n",
        "from sklearn.impute import SimpleImputer\n",
        "from sklearn.pipeline import make_pipeline\n",
        "\n",
        "pipeline = make_pipeline(\n",
        "    ce.OneHotEncoder(use_cat_names=True),\n",
        "    SimpleImputer(strategy='median'),\n",
        "    RandomForestClassifier(random_state=0, n_jobs=-1)\n",
        ")\n",
        "\n",
        "pipeline.fit(X_train, y_train)\n",
        "print ('Validation Accuracy', pipeline.score(X_val, y_val))"
      ],
      "execution_count": 0,
      "outputs": [
        {
          "output_type": "stream",
          "text": [
            "Validation Accuracy 0.8088383838383838\n",
            "CPU times: user 30.8 s, sys: 321 ms, total: 31.2 s\n",
            "Wall time: 19.1 s\n"
          ],
          "name": "stdout"
        }
      ]
    },
    {
      "cell_type": "code",
      "metadata": {
        "id": "JNt5U7-uXspF",
        "colab_type": "code",
        "outputId": "c0248644-a8e0-4fd8-ae10-55a34b6ae492",
        "colab": {
          "base_uri": "https://localhost:8080/",
          "height": 34
        }
      },
      "source": [
        "X_train.shape"
      ],
      "execution_count": 0,
      "outputs": [
        {
          "output_type": "execute_result",
          "data": {
            "text/plain": [
              "(47520, 38)"
            ]
          },
          "metadata": {
            "tags": []
          },
          "execution_count": 10
        }
      ]
    },
    {
      "cell_type": "code",
      "metadata": {
        "id": "c2JNc6xKXNCa",
        "colab_type": "code",
        "outputId": "c5704014-0e96-41a3-947d-77a39aa22f6d",
        "colab": {
          "base_uri": "https://localhost:8080/",
          "height": 34
        }
      },
      "source": [
        "%matplotlib inline\n",
        "import matplotlib.pyplot as plt\n",
        "\n",
        "# Get encoded values\n",
        "encoder = pipeline.named_steps['onehotencoder']\n",
        "encoded = encoder.transform(X_train)\n",
        "print ('Print X_train shape after encoding', encoded.shape)\n",
        "\n",
        "# Get feature importances\n",
        "rf = pipeline.named_steps['randomforestclassifier']\n",
        "importances = pd.Series(rf.feature_importances_, encoded.columns)"
      ],
      "execution_count": 0,
      "outputs": [
        {
          "output_type": "stream",
          "text": [
            "Print X_train shape after encoding (47520, 182)\n"
          ],
          "name": "stdout"
        }
      ]
    },
    {
      "cell_type": "code",
      "metadata": {
        "id": "d9kwCTgMYEb-",
        "colab_type": "code",
        "outputId": "be4796a5-db26-44c1-964b-cb10c1f18411",
        "colab": {
          "base_uri": "https://localhost:8080/",
          "height": 607
        }
      },
      "source": [
        "# Plot the top 20 features\n",
        "n = 20\n",
        "plt.figure(figsize=(10, n/2))\n",
        "plt.title(f'Top {n} features')\n",
        "importances.sort_values()[-n:].plot.barh();"
      ],
      "execution_count": 0,
      "outputs": [
        {
          "output_type": "display_data",
          "data": {
            "image/png": "[encoded data removed]",
            "text/plain": [
              "<Figure size 720x720 with 1 Axes>"
            ]
          },
          "metadata": {
            "tags": []
          }
        }
      ]
    },
    {
      "cell_type": "code",
      "metadata": {
        "id": "_CWoV3dwXFW_",
        "colab_type": "code",
        "outputId": "2f8079aa-8a67-4bf5-cfcd-68b2d2f237e2",
        "colab": {
          "base_uri": "https://localhost:8080/",
          "height": 34
        }
      },
      "source": [
        "X_train.shape"
      ],
      "execution_count": 0,
      "outputs": [
        {
          "output_type": "execute_result",
          "data": {
            "text/plain": [
              "(47520, 38)"
            ]
          },
          "metadata": {
            "tags": []
          },
          "execution_count": 7
        }
      ]
    },
    {
      "cell_type": "markdown",
      "metadata": {
        "colab_type": "text",
        "id": "yfyk_aa5gLVY"
      },
      "source": [
        "# Do ordinal encoding with high-cardinality categoricals"
      ]
    },
    {
      "cell_type": "markdown",
      "metadata": {
        "id": "-csLi4iQJq45",
        "colab_type": "text"
      },
      "source": [
        "## Overview\n",
        "\n",
        "http://contrib.scikit-learn.org/categorical-encoding/ordinal.html"
      ]
    },
    {
      "cell_type": "markdown",
      "metadata": {
        "id": "4imLoA9bJq46",
        "colab_type": "text"
      },
      "source": [
        "## Follow Along"
      ]
    },
    {
      "cell_type": "code",
      "metadata": {
        "colab_type": "code",
        "id": "b8d_WJtcgLVZ",
        "colab": {}
      },
      "source": [
        "# TODO\n",
        "\n",
        "X_train = train.drop(columns=target)\n",
        "y_train = train[target]\n",
        "\n",
        "X_val = val.drop(columns=target)\n",
        "y_val = val[target]\n",
        "\n",
        "X_test = test\n"
      ],
      "execution_count": 0,
      "outputs": []
    },
    {
      "cell_type": "code",
      "metadata": {
        "id": "qnYZCjIfbgPW",
        "colab_type": "code",
        "outputId": "a1367a25-1fdd-411e-eb41-3cc1b542a668",
        "colab": {
          "base_uri": "https://localhost:8080/",
          "height": 221
        }
      },
      "source": [
        "X_train.columns"
      ],
      "execution_count": 0,
      "outputs": [
        {
          "output_type": "execute_result",
          "data": {
            "text/plain": [
              "Index(['amount_tsh', 'funder', 'gps_height', 'installer', 'longitude',\n",
              "       'latitude', 'wpt_name', 'num_private', 'basin', 'subvillage', 'region',\n",
              "       'region_code', 'district_code', 'lga', 'ward', 'population',\n",
              "       'public_meeting', 'scheme_management', 'scheme_name', 'permit',\n",
              "       'construction_year', 'extraction_type', 'extraction_type_group',\n",
              "       'extraction_type_class', 'management', 'management_group', 'payment',\n",
              "       'water_quality', 'quality_group', 'quantity', 'source', 'source_type',\n",
              "       'source_class', 'waterpoint_type', 'waterpoint_type_group',\n",
              "       'longitude_MISSING', 'latitude_MISSING', 'construction_year_MISSING',\n",
              "       'gps_height_MISSING', 'population_MISSING', 'year_recorded',\n",
              "       'month_recorded', 'day_recorded', 'years', 'years_MISSING'],\n",
              "      dtype='object')"
            ]
          },
          "metadata": {
            "tags": []
          },
          "execution_count": 19
        }
      ]
    },
    {
      "cell_type": "code",
      "metadata": {
        "colab_type": "code",
        "outputId": "6a480d27-bc33-43b9-dc27-f0c0eedfc088",
        "id": "PyH-Tkb9bghS",
        "colab": {
          "base_uri": "https://localhost:8080/",
          "height": 68
        }
      },
      "source": [
        "# TODO\n",
        "%%time\n",
        "\n",
        "import category_encoders as ce\n",
        "from sklearn.ensemble import RandomForestClassifier\n",
        "from sklearn.impute import SimpleImputer\n",
        "from sklearn.pipeline import make_pipeline\n",
        "\n",
        "pipeline = make_pipeline(\n",
        "    ce.OrdinalEncoder(),\n",
        "    SimpleImputer(strategy='median'),\n",
        "    RandomForestClassifier(random_state=0, n_jobs=-1)\n",
        ")\n",
        "\n",
        "pipeline.fit(X_train, y_train)\n",
        "print ('Validation Accuracy', pipeline.score(X_val, y_val))"
      ],
      "execution_count": 0,
      "outputs": [
        {
          "output_type": "stream",
          "text": [
            "Validation Accuracy 0.8092592592592592\n",
            "CPU times: user 20.4 s, sys: 119 ms, total: 20.5 s\n",
            "Wall time: 11.3 s\n"
          ],
          "name": "stdout"
        }
      ]
    },
    {
      "cell_type": "markdown",
      "metadata": {
        "colab_type": "text",
        "id": "xs2UPoVdgLVp"
      },
      "source": [
        "# Understand how categorical encodings affect trees differently compared to linear models"
      ]
    },
    {
      "cell_type": "markdown",
      "metadata": {
        "id": "5E7QczPOJq4-",
        "colab_type": "text"
      },
      "source": [
        "## Follow Along"
      ]
    },
    {
      "cell_type": "markdown",
      "metadata": {
        "colab_type": "text",
        "id": "z8V-A92mgLVp"
      },
      "source": [
        "### Categorical exploration, 1 feature at a time\n",
        "\n",
        "Change `feature`, then re-run these cells!"
      ]
    },
    {
      "cell_type": "code",
      "metadata": {
        "colab_type": "code",
        "id": "G35RAzVdgLVq",
        "colab": {}
      },
      "source": [
        "feature = 'extraction_type_class'"
      ],
      "execution_count": 0,
      "outputs": []
    },
    {
      "cell_type": "code",
      "metadata": {
        "colab_type": "code",
        "id": "OuxHWiH8gLVr",
        "outputId": "bf3370ba-3094-4715-de8b-8eda01ff8faf",
        "colab": {
          "base_uri": "https://localhost:8080/",
          "height": 153
        }
      },
      "source": [
        "X_train[feature].value_counts()"
      ],
      "execution_count": 0,
      "outputs": [
        {
          "output_type": "execute_result",
          "data": {
            "text/plain": [
              "gravity         21448\n",
              "handpump        13184\n",
              "other            5193\n",
              "submersible      4894\n",
              "motorpump        2355\n",
              "rope pump         353\n",
              "wind-powered       93\n",
              "Name: extraction_type_class, dtype: int64"
            ]
          },
          "metadata": {
            "tags": []
          },
          "execution_count": 21
        }
      ]
    },
    {
      "cell_type": "code",
      "metadata": {
        "colab_type": "code",
        "id": "pVxoC4NngLVt",
        "outputId": "98cc7d47-539e-49a2-f4e7-595b14a8c15f",
        "colab": {
          "base_uri": "https://localhost:8080/",
          "height": 552
        }
      },
      "source": [
        "import seaborn as sns\n",
        "plt.figure(figsize=(16,9))\n",
        "sns.barplot(\n",
        "    x=train[feature], \n",
        "    y=train['status_group']=='functional', \n",
        "    color='grey'\n",
        ");"
      ],
      "execution_count": 0,
      "outputs": [
        {
          "output_type": "display_data",
          "data": {
            "image/png": "[encoded data removed]",
            "text/plain": [
              "<Figure size 1152x648 with 1 Axes>"
            ]
          },
          "metadata": {
            "tags": []
          }
        }
      ]
    },
    {
      "cell_type": "code",
      "metadata": {
        "colab_type": "code",
        "id": "w99mek14gLVv",
        "outputId": "8682513a-ecf0-4553-8b99-a1efccb29d4b",
        "colab": {
          "base_uri": "https://localhost:8080/",
          "height": 374
        }
      },
      "source": [
        "X_train[feature].head(20)"
      ],
      "execution_count": 0,
      "outputs": [
        {
          "output_type": "execute_result",
          "data": {
            "text/plain": [
              "43360        gravity\n",
              "7263         gravity\n",
              "2486        handpump\n",
              "313            other\n",
              "52726      motorpump\n",
              "8558         gravity\n",
              "2559         gravity\n",
              "54735      motorpump\n",
              "25763       handpump\n",
              "44540    submersible\n",
              "28603          other\n",
              "4372     submersible\n",
              "30666        gravity\n",
              "6431     submersible\n",
              "57420          other\n",
              "1373         gravity\n",
              "2026         gravity\n",
              "58977       handpump\n",
              "41101        gravity\n",
              "10019        gravity\n",
              "Name: extraction_type_class, dtype: object"
            ]
          },
          "metadata": {
            "tags": []
          },
          "execution_count": 24
        }
      ]
    },
    {
      "cell_type": "markdown",
      "metadata": {
        "colab_type": "text",
        "id": "ezzK2IdbgLVx"
      },
      "source": [
        "### [One Hot Encoding](http://contrib.scikit-learn.org/categorical-encoding/onehot.html)\n",
        "\n",
        "> Onehot (or dummy) coding for categorical features, produces one feature per category, each binary.\n",
        "\n",
        "Warning: May run slow, or run out of memory, with high cardinality categoricals!"
      ]
    },
    {
      "cell_type": "code",
      "metadata": {
        "colab_type": "code",
        "id": "HDQZtV6GgLVy",
        "outputId": "318aabba-7d59-4559-b41b-e338192c6c25",
        "colab": {
          "base_uri": "https://localhost:8080/",
          "height": 723
        }
      },
      "source": [
        "encoder = ce.OneHotEncoder(use_cat_names=True)\n",
        "encoded = encoder.fit_transform(X_train[[feature]])\n",
        "print(f'{len(encoded.columns)} columns')\n",
        "encoded.head(20)"
      ],
      "execution_count": 0,
      "outputs": [
        {
          "output_type": "stream",
          "text": [
            "7 columns\n"
          ],
          "name": "stdout"
        },
        {
          "output_type": "execute_result",
          "data": {
            "text/html": [
              "<div>\n",
              "<style scoped>\n",
              "    .dataframe tbody tr th:only-of-type {\n",
              "        vertical-align: middle;\n",
              "    }\n",
              "\n",
              "    .dataframe tbody tr th {\n",
              "        vertical-align: top;\n",
              "    }\n",
              "\n",
              "    .dataframe thead th {\n",
              "        text-align: right;\n",
              "    }\n",
              "</style>\n",
              "<table border=\"1\" class=\"dataframe\">\n",
              "  <thead>\n",
              "    <tr style=\"text-align: right;\">\n",
              "      <th></th>\n",
              "      <th>extraction_type_class_gravity</th>\n",
              "      <th>extraction_type_class_handpump</th>\n",
              "      <th>extraction_type_class_other</th>\n",
              "      <th>extraction_type_class_motorpump</th>\n",
              "      <th>extraction_type_class_submersible</th>\n",
              "      <th>extraction_type_class_rope pump</th>\n",
              "      <th>extraction_type_class_wind-powered</th>\n",
              "    </tr>\n",
              "  </thead>\n",
              "  <tbody>\n",
              "    <tr>\n",
              "      <th>43360</th>\n",
              "      <td>1</td>\n",
              "      <td>0</td>\n",
              "      <td>0</td>\n",
              "      <td>0</td>\n",
              "      <td>0</td>\n",
              "      <td>0</td>\n",
              "      <td>0</td>\n",
              "    </tr>\n",
              "    <tr>\n",
              "      <th>7263</th>\n",
              "      <td>1</td>\n",
              "      <td>0</td>\n",
              "      <td>0</td>\n",
              "      <td>0</td>\n",
              "      <td>0</td>\n",
              "      <td>0</td>\n",
              "      <td>0</td>\n",
              "    </tr>\n",
              "    <tr>\n",
              "      <th>2486</th>\n",
              "      <td>0</td>\n",
              "      <td>1</td>\n",
              "      <td>0</td>\n",
              "      <td>0</td>\n",
              "      <td>0</td>\n",
              "      <td>0</td>\n",
              "      <td>0</td>\n",
              "    </tr>\n",
              "    <tr>\n",
              "      <th>313</th>\n",
              "      <td>0</td>\n",
              "      <td>0</td>\n",
              "      <td>1</td>\n",
              "      <td>0</td>\n",
              "      <td>0</td>\n",
              "      <td>0</td>\n",
              "      <td>0</td>\n",
              "    </tr>\n",
              "    <tr>\n",
              "      <th>52726</th>\n",
              "      <td>0</td>\n",
              "      <td>0</td>\n",
              "      <td>0</td>\n",
              "      <td>1</td>\n",
              "      <td>0</td>\n",
              "      <td>0</td>\n",
              "      <td>0</td>\n",
              "    </tr>\n",
              "    <tr>\n",
              "      <th>8558</th>\n",
              "      <td>1</td>\n",
              "      <td>0</td>\n",
              "      <td>0</td>\n",
              "      <td>0</td>\n",
              "      <td>0</td>\n",
              "      <td>0</td>\n",
              "      <td>0</td>\n",
              "    </tr>\n",
              "    <tr>\n",
              "      <th>2559</th>\n",
              "      <td>1</td>\n",
              "      <td>0</td>\n",
              "      <td>0</td>\n",
              "      <td>0</td>\n",
              "      <td>0</td>\n",
              "      <td>0</td>\n",
              "      <td>0</td>\n",
              "    </tr>\n",
              "    <tr>\n",
              "      <th>54735</th>\n",
              "      <td>0</td>\n",
              "      <td>0</td>\n",
              "      <td>0</td>\n",
              "      <td>1</td>\n",
              "      <td>0</td>\n",
              "      <td>0</td>\n",
              "      <td>0</td>\n",
              "    </tr>\n",
              "    <tr>\n",
              "      <th>25763</th>\n",
              "      <td>0</td>\n",
              "      <td>1</td>\n",
              "      <td>0</td>\n",
              "      <td>0</td>\n",
              "      <td>0</td>\n",
              "      <td>0</td>\n",
              "      <td>0</td>\n",
              "    </tr>\n",
              "    <tr>\n",
              "      <th>44540</th>\n",
              "      <td>0</td>\n",
              "      <td>0</td>\n",
              "      <td>0</td>\n",
              "      <td>0</td>\n",
              "      <td>1</td>\n",
              "      <td>0</td>\n",
              "      <td>0</td>\n",
              "    </tr>\n",
              "    <tr>\n",
              "      <th>28603</th>\n",
              "      <td>0</td>\n",
              "      <td>0</td>\n",
              "      <td>1</td>\n",
              "      <td>0</td>\n",
              "      <td>0</td>\n",
              "      <td>0</td>\n",
              "      <td>0</td>\n",
              "    </tr>\n",
              "    <tr>\n",
              "      <th>4372</th>\n",
              "      <td>0</td>\n",
              "      <td>0</td>\n",
              "      <td>0</td>\n",
              "      <td>0</td>\n",
              "      <td>1</td>\n",
              "      <td>0</td>\n",
              "      <td>0</td>\n",
              "    </tr>\n",
              "    <tr>\n",
              "      <th>30666</th>\n",
              "      <td>1</td>\n",
              "      <td>0</td>\n",
              "      <td>0</td>\n",
              "      <td>0</td>\n",
              "      <td>0</td>\n",
              "      <td>0</td>\n",
              "      <td>0</td>\n",
              "    </tr>\n",
              "    <tr>\n",
              "      <th>6431</th>\n",
              "      <td>0</td>\n",
              "      <td>0</td>\n",
              "      <td>0</td>\n",
              "      <td>0</td>\n",
              "      <td>1</td>\n",
              "      <td>0</td>\n",
              "      <td>0</td>\n",
              "    </tr>\n",
              "    <tr>\n",
              "      <th>57420</th>\n",
              "      <td>0</td>\n",
              "      <td>0</td>\n",
              "      <td>1</td>\n",
              "      <td>0</td>\n",
              "      <td>0</td>\n",
              "      <td>0</td>\n",
              "      <td>0</td>\n",
              "    </tr>\n",
              "    <tr>\n",
              "      <th>1373</th>\n",
              "      <td>1</td>\n",
              "      <td>0</td>\n",
              "      <td>0</td>\n",
              "      <td>0</td>\n",
              "      <td>0</td>\n",
              "      <td>0</td>\n",
              "      <td>0</td>\n",
              "    </tr>\n",
              "    <tr>\n",
              "      <th>2026</th>\n",
              "      <td>1</td>\n",
              "      <td>0</td>\n",
              "      <td>0</td>\n",
              "      <td>0</td>\n",
              "      <td>0</td>\n",
              "      <td>0</td>\n",
              "      <td>0</td>\n",
              "    </tr>\n",
              "    <tr>\n",
              "      <th>58977</th>\n",
              "      <td>0</td>\n",
              "      <td>1</td>\n",
              "      <td>0</td>\n",
              "      <td>0</td>\n",
              "      <td>0</td>\n",
              "      <td>0</td>\n",
              "      <td>0</td>\n",
              "    </tr>\n",
              "    <tr>\n",
              "      <th>41101</th>\n",
              "      <td>1</td>\n",
              "      <td>0</td>\n",
              "      <td>0</td>\n",
              "      <td>0</td>\n",
              "      <td>0</td>\n",
              "      <td>0</td>\n",
              "      <td>0</td>\n",
              "    </tr>\n",
              "    <tr>\n",
              "      <th>10019</th>\n",
              "      <td>1</td>\n",
              "      <td>0</td>\n",
              "      <td>0</td>\n",
              "      <td>0</td>\n",
              "      <td>0</td>\n",
              "      <td>0</td>\n",
              "      <td>0</td>\n",
              "    </tr>\n",
              "  </tbody>\n",
              "</table>\n",
              "</div>"
            ],
            "text/plain": [
              "       extraction_type_class_gravity  ...  extraction_type_class_wind-powered\n",
              "43360                              1  ...                                   0\n",
              "7263                               1  ...                                   0\n",
              "2486                               0  ...                                   0\n",
              "313                                0  ...                                   0\n",
              "52726                              0  ...                                   0\n",
              "8558                               1  ...                                   0\n",
              "2559                               1  ...                                   0\n",
              "54735                              0  ...                                   0\n",
              "25763                              0  ...                                   0\n",
              "44540                              0  ...                                   0\n",
              "28603                              0  ...                                   0\n",
              "4372                               0  ...                                   0\n",
              "30666                              1  ...                                   0\n",
              "6431                               0  ...                                   0\n",
              "57420                              0  ...                                   0\n",
              "1373                               1  ...                                   0\n",
              "2026                               1  ...                                   0\n",
              "58977                              0  ...                                   0\n",
              "41101                              1  ...                                   0\n",
              "10019                              1  ...                                   0\n",
              "\n",
              "[20 rows x 7 columns]"
            ]
          },
          "metadata": {
            "tags": []
          },
          "execution_count": 26
        }
      ]
    },
    {
      "cell_type": "markdown",
      "metadata": {
        "colab_type": "text",
        "id": "1Ql9Qmw3sNJ7"
      },
      "source": [
        "#### One-Hot Encoding, Logistic Regression, Validation Accuracy"
      ]
    },
    {
      "cell_type": "code",
      "metadata": {
        "colab_type": "code",
        "id": "mT4A-oDGpOss",
        "outputId": "93a58404-37db-4cfa-80db-bf759f251c1e",
        "colab": {
          "base_uri": "https://localhost:8080/",
          "height": 34
        }
      },
      "source": [
        "from sklearn.linear_model import LogisticRegressionCV\n",
        "from sklearn.preprocessing import StandardScaler\n",
        "\n",
        "lr = make_pipeline(\n",
        "    ce.OneHotEncoder(use_cat_names=True), \n",
        "    SimpleImputer(), \n",
        "    StandardScaler(), \n",
        "    LogisticRegressionCV(multi_class='auto', solver='lbfgs', cv=5, n_jobs=-1)\n",
        ")\n",
        "\n",
        "lr.fit(X_train[[feature]], y_train)\n",
        "score = lr.score(X_val[[feature]], y_val)\n",
        "print('Logistic Regression, Validation Accuracy', score)"
      ],
      "execution_count": 0,
      "outputs": [
        {
          "output_type": "stream",
          "text": [
            "Logistic Regression, Validation Accuracy 0.6202861952861953\n"
          ],
          "name": "stdout"
        }
      ]
    },
    {
      "cell_type": "markdown",
      "metadata": {
        "colab_type": "text",
        "id": "EbH6wivpsRuV"
      },
      "source": [
        "#### One-Hot Encoding, Decision Tree, Validation Accuracy"
      ]
    },
    {
      "cell_type": "code",
      "metadata": {
        "colab_type": "code",
        "id": "b6KUluFOqIdK",
        "outputId": "dc6bea48-63a5-485f-adbc-ee5d23ace460",
        "colab": {
          "base_uri": "https://localhost:8080/",
          "height": 34
        }
      },
      "source": [
        "from sklearn.tree import DecisionTreeClassifier\n",
        "\n",
        "dt = make_pipeline(\n",
        "    ce.OneHotEncoder(use_cat_names=True), \n",
        "    SimpleImputer(), \n",
        "    DecisionTreeClassifier(random_state=42)\n",
        ")\n",
        "\n",
        "dt.fit(X_train[[feature]], y_train)\n",
        "score = dt.score(X_val[[feature]], y_val)\n",
        "print('Decision Tree, Validation Accuracy', score)"
      ],
      "execution_count": 0,
      "outputs": [
        {
          "output_type": "stream",
          "text": [
            "Decision Tree, Validation Accuracy 0.6202861952861953\n"
          ],
          "name": "stdout"
        }
      ]
    },
    {
      "cell_type": "markdown",
      "metadata": {
        "colab_type": "text",
        "id": "8yg11_gTsUu6"
      },
      "source": [
        "#### One-Hot Encoding, Logistic Regression, Model Interpretation"
      ]
    },
    {
      "cell_type": "code",
      "metadata": {
        "colab_type": "code",
        "id": "IxHwXGRornNI",
        "outputId": "c59ac5de-a993-417a-f2d3-ff291943adc2",
        "colab": {
          "base_uri": "https://localhost:8080/",
          "height": 265
        }
      },
      "source": [
        "model = lr.named_steps['logisticregressioncv']\n",
        "encoder = lr.named_steps['onehotencoder']\n",
        "encoded_columns = encoder.transform(X_val[[feature]]).columns\n",
        "coefficients = pd.Series(model.coef_[0], encoded_columns)\n",
        "coefficients.sort_values().plot.barh(color='grey');"
      ],
      "execution_count": 0,
      "outputs": [
        {
          "output_type": "display_data",
          "data": {
            "image/png": "[encoded data removed]",
            "text/plain": [
              "<Figure size 432x288 with 1 Axes>"
            ]
          },
          "metadata": {
            "tags": []
          }
        }
      ]
    },
    {
      "cell_type": "markdown",
      "metadata": {
        "colab_type": "text",
        "id": "0REZ8HdpsccR"
      },
      "source": [
        "#### One-Hot Encoding, Decision Tree, Model Interpretation"
      ]
    },
    {
      "cell_type": "code",
      "metadata": {
        "colab_type": "code",
        "id": "gV-grmYKpDp9",
        "outputId": "1ad4a07c-142c-4128-8040-f3a1707b0495",
        "colab": {
          "base_uri": "https://localhost:8080/",
          "height": 954
        }
      },
      "source": [
        "# Plot tree\n",
        "# https://scikit-learn.org/stable/modules/generated/sklearn.tree.export_graphviz.html\n",
        "import graphviz\n",
        "from sklearn.tree import export_graphviz\n",
        "\n",
        "model = dt.named_steps['decisiontreeclassifier']\n",
        "encoder = dt.named_steps['onehotencoder']\n",
        "encoded_columns = encoder.transform(X_val[[feature]]).columns\n",
        "\n",
        "dot_data = export_graphviz(model, \n",
        "                           out_file=None, \n",
        "                           max_depth=7, \n",
        "                           feature_names=encoded_columns,\n",
        "                           class_names=model.classes_, \n",
        "                           impurity=False, \n",
        "                           filled=True, \n",
        "                           proportion=True, \n",
        "                           rounded=True)   \n",
        "display(graphviz.Source(dot_data))"
      ],
      "execution_count": 0,
      "outputs": [
        {
          "output_type": "display_data",
          "data": {
            "text/plain": [
              "<graphviz.files.Source at 0x7f816039bc50>"
            ],
            "image/svg+xml": "<?xml version=\"1.0\" encoding=\"UTF-8\" standalone=\"no\"?>\n<!DOCTYPE svg PUBLIC \"-//W3C//DTD SVG 1.1//EN\"\n \"http://www.w3.org/Graphics/SVG/1.1/DTD/svg11.dtd\">\n<!-- Generated by graphviz version 2.40.1 (20161225.0304)\n -->\n<!-- Title: Tree Pages: 1 -->\n<svg width=\"1067pt\" height=\"685pt\"\n viewBox=\"0.00 0.00 1067.00 685.00\" xmlns=\"http://www.w3.org/2000/svg\" xmlns:xlink=\"http://www.w3.org/1999/xlink\">\n<g id=\"graph0\" class=\"graph\" transform=\"scale(1 1) rotate(0) translate(4 681)\">\n<title>Tree</title>\n<polygon fill=\"#ffffff\" stroke=\"transparent\" points=\"-4,4 -4,-681 1063,-681 1063,4 -4,4\"/>\n<!-- 0 -->\n<g id=\"node1\" class=\"node\">\n<title>0</title>\n<path fill=\"#f8decc\" stroke=\"#000000\" d=\"M944.5,-677C944.5,-677 725.5,-677 725.5,-677 719.5,-677 713.5,-671 713.5,-665 713.5,-665 713.5,-621 713.5,-621 713.5,-615 719.5,-609 725.5,-609 725.5,-609 944.5,-609 944.5,-609 950.5,-609 956.5,-615 956.5,-621 956.5,-621 956.5,-665 956.5,-665 956.5,-671 950.5,-677 944.5,-677\"/>\n<text text-anchor=\"middle\" x=\"835\" y=\"-661.8\" font-family=\"Helvetica,sans-Serif\" font-size=\"14.00\" fill=\"#000000\">extraction_type_class_other &lt;= 0.5</text>\n<text text-anchor=\"middle\" x=\"835\" y=\"-646.8\" font-family=\"Helvetica,sans-Serif\" font-size=\"14.00\" fill=\"#000000\">samples = 100.0%</text>\n<text text-anchor=\"middle\" x=\"835\" y=\"-631.8\" font-family=\"Helvetica,sans-Serif\" font-size=\"14.00\" fill=\"#000000\">value = [0.543, 0.073, 0.384]</text>\n<text text-anchor=\"middle\" x=\"835\" y=\"-616.8\" font-family=\"Helvetica,sans-Serif\" font-size=\"14.00\" fill=\"#000000\">class = functional</text>\n</g>\n<!-- 1 -->\n<g id=\"node2\" class=\"node\">\n<title>1</title>\n<path fill=\"#f5ceb2\" stroke=\"#000000\" d=\"M837,-573C837,-573 577,-573 577,-573 571,-573 565,-567 565,-561 565,-561 565,-517 565,-517 565,-511 571,-505 577,-505 577,-505 837,-505 837,-505 843,-505 849,-511 849,-517 849,-517 849,-561 849,-561 849,-567 843,-573 837,-573\"/>\n<text text-anchor=\"middle\" x=\"707\" y=\"-557.8\" font-family=\"Helvetica,sans-Serif\" font-size=\"14.00\" fill=\"#000000\">extraction_type_class_motorpump &lt;= 0.5</text>\n<text text-anchor=\"middle\" x=\"707\" y=\"-542.8\" font-family=\"Helvetica,sans-Serif\" font-size=\"14.00\" fill=\"#000000\">samples = 89.1%</text>\n<text text-anchor=\"middle\" x=\"707\" y=\"-527.8\" font-family=\"Helvetica,sans-Serif\" font-size=\"14.00\" fill=\"#000000\">value = [0.59, 0.078, 0.332]</text>\n<text text-anchor=\"middle\" x=\"707\" y=\"-512.8\" font-family=\"Helvetica,sans-Serif\" font-size=\"14.00\" fill=\"#000000\">class = functional</text>\n</g>\n<!-- 0&#45;&gt;1 -->\n<g id=\"edge1\" class=\"edge\">\n<title>0&#45;&gt;1</title>\n<path fill=\"none\" stroke=\"#000000\" d=\"M793.088,-608.9465C781.485,-599.519 768.7779,-589.1946 756.7741,-579.4415\"/>\n<polygon fill=\"#000000\" stroke=\"#000000\" points=\"758.9744,-576.7196 749.0061,-573.13 754.5602,-582.1524 758.9744,-576.7196\"/>\n<text text-anchor=\"middle\" x=\"751.5786\" y=\"-594.2973\" font-family=\"Helvetica,sans-Serif\" font-size=\"14.00\" fill=\"#000000\">True</text>\n</g>\n<!-- 12 -->\n<g id=\"node13\" class=\"node\">\n<title>12</title>\n<path fill=\"#9d66eb\" stroke=\"#000000\" d=\"M1047,-565.5C1047,-565.5 879,-565.5 879,-565.5 873,-565.5 867,-559.5 867,-553.5 867,-553.5 867,-524.5 867,-524.5 867,-518.5 873,-512.5 879,-512.5 879,-512.5 1047,-512.5 1047,-512.5 1053,-512.5 1059,-518.5 1059,-524.5 1059,-524.5 1059,-553.5 1059,-553.5 1059,-559.5 1053,-565.5 1047,-565.5\"/>\n<text text-anchor=\"middle\" x=\"963\" y=\"-550.3\" font-family=\"Helvetica,sans-Serif\" font-size=\"14.00\" fill=\"#000000\">samples = 10.9%</text>\n<text text-anchor=\"middle\" x=\"963\" y=\"-535.3\" font-family=\"Helvetica,sans-Serif\" font-size=\"14.00\" fill=\"#000000\">value = [0.159, 0.031, 0.81]</text>\n<text text-anchor=\"middle\" x=\"963\" y=\"-520.3\" font-family=\"Helvetica,sans-Serif\" font-size=\"14.00\" fill=\"#000000\">class = non functional</text>\n</g>\n<!-- 0&#45;&gt;12 -->\n<g id=\"edge12\" class=\"edge\">\n<title>0&#45;&gt;12</title>\n<path fill=\"none\" stroke=\"#000000\" d=\"M876.912,-608.9465C891.5533,-597.0504 907.9526,-583.726 922.4785,-571.9237\"/>\n<polygon fill=\"#000000\" stroke=\"#000000\" points=\"924.7786,-574.5645 930.3327,-565.5422 920.3645,-569.1317 924.7786,-574.5645\"/>\n<text text-anchor=\"middle\" x=\"927.7602\" y=\"-586.7095\" font-family=\"Helvetica,sans-Serif\" font-size=\"14.00\" fill=\"#000000\">False</text>\n</g>\n<!-- 2 -->\n<g id=\"node3\" class=\"node\">\n<title>2</title>\n<path fill=\"#f4caac\" stroke=\"#000000\" d=\"M708.5,-469C708.5,-469 443.5,-469 443.5,-469 437.5,-469 431.5,-463 431.5,-457 431.5,-457 431.5,-413 431.5,-413 431.5,-407 437.5,-401 443.5,-401 443.5,-401 708.5,-401 708.5,-401 714.5,-401 720.5,-407 720.5,-413 720.5,-413 720.5,-457 720.5,-457 720.5,-463 714.5,-469 708.5,-469\"/>\n<text text-anchor=\"middle\" x=\"576\" y=\"-453.8\" font-family=\"Helvetica,sans-Serif\" font-size=\"14.00\" fill=\"#000000\">extraction_type_class_submersible &lt;= 0.5</text>\n<text text-anchor=\"middle\" x=\"576\" y=\"-438.8\" font-family=\"Helvetica,sans-Serif\" font-size=\"14.00\" fill=\"#000000\">samples = 84.1%</text>\n<text text-anchor=\"middle\" x=\"576\" y=\"-423.8\" font-family=\"Helvetica,sans-Serif\" font-size=\"14.00\" fill=\"#000000\">value = [0.603, 0.08, 0.318]</text>\n<text text-anchor=\"middle\" x=\"576\" y=\"-408.8\" font-family=\"Helvetica,sans-Serif\" font-size=\"14.00\" fill=\"#000000\">class = functional</text>\n</g>\n<!-- 1&#45;&gt;2 -->\n<g id=\"edge2\" class=\"edge\">\n<title>1&#45;&gt;2</title>\n<path fill=\"none\" stroke=\"#000000\" d=\"M664.1057,-504.9465C652.2307,-495.519 639.2259,-485.1946 626.9407,-475.4415\"/>\n<polygon fill=\"#000000\" stroke=\"#000000\" points=\"628.9989,-472.6066 618.9907,-469.13 624.6464,-478.089 628.9989,-472.6066\"/>\n</g>\n<!-- 11 -->\n<g id=\"node12\" class=\"node\">\n<title>11</title>\n<path fill=\"#d8c1f7\" stroke=\"#000000\" d=\"M927,-461.5C927,-461.5 751,-461.5 751,-461.5 745,-461.5 739,-455.5 739,-449.5 739,-449.5 739,-420.5 739,-420.5 739,-414.5 745,-408.5 751,-408.5 751,-408.5 927,-408.5 927,-408.5 933,-408.5 939,-414.5 939,-420.5 939,-420.5 939,-449.5 939,-449.5 939,-455.5 933,-461.5 927,-461.5\"/>\n<text text-anchor=\"middle\" x=\"839\" y=\"-446.3\" font-family=\"Helvetica,sans-Serif\" font-size=\"14.00\" fill=\"#000000\">samples = 5.0%</text>\n<text text-anchor=\"middle\" x=\"839\" y=\"-431.3\" font-family=\"Helvetica,sans-Serif\" font-size=\"14.00\" fill=\"#000000\">value = [0.381, 0.045, 0.574]</text>\n<text text-anchor=\"middle\" x=\"839\" y=\"-416.3\" font-family=\"Helvetica,sans-Serif\" font-size=\"14.00\" fill=\"#000000\">class = non functional</text>\n</g>\n<!-- 1&#45;&gt;11 -->\n<g id=\"edge11\" class=\"edge\">\n<title>1&#45;&gt;11</title>\n<path fill=\"none\" stroke=\"#000000\" d=\"M750.2217,-504.9465C765.3206,-493.0504 782.2324,-479.726 797.2122,-467.9237\"/>\n<polygon fill=\"#000000\" stroke=\"#000000\" points=\"799.623,-470.4802 805.3119,-461.5422 795.2909,-464.9817 799.623,-470.4802\"/>\n</g>\n<!-- 3 -->\n<g id=\"node4\" class=\"node\">\n<title>3</title>\n<path fill=\"#f4c7a8\" stroke=\"#000000\" d=\"M568.5,-365C568.5,-365 339.5,-365 339.5,-365 333.5,-365 327.5,-359 327.5,-353 327.5,-353 327.5,-309 327.5,-309 327.5,-303 333.5,-297 339.5,-297 339.5,-297 568.5,-297 568.5,-297 574.5,-297 580.5,-303 580.5,-309 580.5,-309 580.5,-353 580.5,-353 580.5,-359 574.5,-365 568.5,-365\"/>\n<text text-anchor=\"middle\" x=\"454\" y=\"-349.8\" font-family=\"Helvetica,sans-Serif\" font-size=\"14.00\" fill=\"#000000\">extraction_type_class_gravity &lt;= 0.5</text>\n<text text-anchor=\"middle\" x=\"454\" y=\"-334.8\" font-family=\"Helvetica,sans-Serif\" font-size=\"14.00\" fill=\"#000000\">samples = 73.8%</text>\n<text text-anchor=\"middle\" x=\"454\" y=\"-319.8\" font-family=\"Helvetica,sans-Serif\" font-size=\"14.00\" fill=\"#000000\">value = [0.611, 0.085, 0.304]</text>\n<text text-anchor=\"middle\" x=\"454\" y=\"-304.8\" font-family=\"Helvetica,sans-Serif\" font-size=\"14.00\" fill=\"#000000\">class = functional</text>\n</g>\n<!-- 2&#45;&gt;3 -->\n<g id=\"edge3\" class=\"edge\">\n<title>2&#45;&gt;3</title>\n<path fill=\"none\" stroke=\"#000000\" d=\"M536.0526,-400.9465C525.0988,-391.6088 513.1127,-381.3911 501.768,-371.7203\"/>\n<polygon fill=\"#000000\" stroke=\"#000000\" points=\"503.9179,-368.9538 494.0371,-365.13 499.3767,-374.2809 503.9179,-368.9538\"/>\n</g>\n<!-- 10 -->\n<g id=\"node11\" class=\"node\">\n<title>10</title>\n<path fill=\"#f9e4d5\" stroke=\"#000000\" d=\"M787,-357.5C787,-357.5 611,-357.5 611,-357.5 605,-357.5 599,-351.5 599,-345.5 599,-345.5 599,-316.5 599,-316.5 599,-310.5 605,-304.5 611,-304.5 611,-304.5 787,-304.5 787,-304.5 793,-304.5 799,-310.5 799,-316.5 799,-316.5 799,-345.5 799,-345.5 799,-351.5 793,-357.5 787,-357.5\"/>\n<text text-anchor=\"middle\" x=\"699\" y=\"-342.3\" font-family=\"Helvetica,sans-Serif\" font-size=\"14.00\" fill=\"#000000\">samples = 10.3%</text>\n<text text-anchor=\"middle\" x=\"699\" y=\"-327.3\" font-family=\"Helvetica,sans-Serif\" font-size=\"14.00\" fill=\"#000000\">value = [0.541, 0.042, 0.416]</text>\n<text text-anchor=\"middle\" x=\"699\" y=\"-312.3\" font-family=\"Helvetica,sans-Serif\" font-size=\"14.00\" fill=\"#000000\">class = functional</text>\n</g>\n<!-- 2&#45;&gt;10 -->\n<g id=\"edge10\" class=\"edge\">\n<title>2&#45;&gt;10</title>\n<path fill=\"none\" stroke=\"#000000\" d=\"M616.2748,-400.9465C630.2139,-389.1606 645.8112,-375.9726 659.6732,-364.2519\"/>\n<polygon fill=\"#000000\" stroke=\"#000000\" points=\"662.2324,-366.6715 667.6088,-357.5422 657.7127,-361.3262 662.2324,-366.6715\"/>\n</g>\n<!-- 4 -->\n<g id=\"node5\" class=\"node\">\n<title>4</title>\n<path fill=\"#f3c5a4\" stroke=\"#000000\" d=\"M458.5,-261C458.5,-261 181.5,-261 181.5,-261 175.5,-261 169.5,-255 169.5,-249 169.5,-249 169.5,-205 169.5,-205 169.5,-199 175.5,-193 181.5,-193 181.5,-193 458.5,-193 458.5,-193 464.5,-193 470.5,-199 470.5,-205 470.5,-205 470.5,-249 470.5,-249 470.5,-255 464.5,-261 458.5,-261\"/>\n<text text-anchor=\"middle\" x=\"320\" y=\"-245.8\" font-family=\"Helvetica,sans-Serif\" font-size=\"14.00\" fill=\"#000000\">extraction_type_class_wind&#45;powered &lt;= 0.5</text>\n<text text-anchor=\"middle\" x=\"320\" y=\"-230.8\" font-family=\"Helvetica,sans-Serif\" font-size=\"14.00\" fill=\"#000000\">samples = 28.7%</text>\n<text text-anchor=\"middle\" x=\"320\" y=\"-215.8\" font-family=\"Helvetica,sans-Serif\" font-size=\"14.00\" fill=\"#000000\">value = [0.629, 0.059, 0.311]</text>\n<text text-anchor=\"middle\" x=\"320\" y=\"-200.8\" font-family=\"Helvetica,sans-Serif\" font-size=\"14.00\" fill=\"#000000\">class = functional</text>\n</g>\n<!-- 3&#45;&gt;4 -->\n<g id=\"edge4\" class=\"edge\">\n<title>3&#45;&gt;4</title>\n<path fill=\"none\" stroke=\"#000000\" d=\"M410.1234,-296.9465C397.9765,-287.519 384.6738,-277.1946 372.1073,-267.4415\"/>\n<polygon fill=\"#000000\" stroke=\"#000000\" points=\"374.021,-264.4963 363.9752,-261.13 369.7291,-270.0262 374.021,-264.4963\"/>\n</g>\n<!-- 9 -->\n<g id=\"node10\" class=\"node\">\n<title>9</title>\n<path fill=\"#f4c9aa\" stroke=\"#000000\" d=\"M677,-253.5C677,-253.5 501,-253.5 501,-253.5 495,-253.5 489,-247.5 489,-241.5 489,-241.5 489,-212.5 489,-212.5 489,-206.5 495,-200.5 501,-200.5 501,-200.5 677,-200.5 677,-200.5 683,-200.5 689,-206.5 689,-212.5 689,-212.5 689,-241.5 689,-241.5 689,-247.5 683,-253.5 677,-253.5\"/>\n<text text-anchor=\"middle\" x=\"589\" y=\"-238.3\" font-family=\"Helvetica,sans-Serif\" font-size=\"14.00\" fill=\"#000000\">samples = 45.1%</text>\n<text text-anchor=\"middle\" x=\"589\" y=\"-223.3\" font-family=\"Helvetica,sans-Serif\" font-size=\"14.00\" fill=\"#000000\">value = [0.599, 0.101, 0.299]</text>\n<text text-anchor=\"middle\" x=\"589\" y=\"-208.3\" font-family=\"Helvetica,sans-Serif\" font-size=\"14.00\" fill=\"#000000\">class = functional</text>\n</g>\n<!-- 3&#45;&gt;9 -->\n<g id=\"edge9\" class=\"edge\">\n<title>3&#45;&gt;9</title>\n<path fill=\"none\" stroke=\"#000000\" d=\"M498.204,-296.9465C513.6461,-285.0504 530.9422,-271.726 546.2625,-259.9237\"/>\n<polygon fill=\"#000000\" stroke=\"#000000\" points=\"548.7603,-262.4176 554.5462,-253.5422 544.4883,-256.8723 548.7603,-262.4176\"/>\n</g>\n<!-- 5 -->\n<g id=\"node6\" class=\"node\">\n<title>5</title>\n<path fill=\"#f3c4a3\" stroke=\"#000000\" d=\"M319,-157C319,-157 63,-157 63,-157 57,-157 51,-151 51,-145 51,-145 51,-101 51,-101 51,-95 57,-89 63,-89 63,-89 319,-89 319,-89 325,-89 331,-95 331,-101 331,-101 331,-145 331,-145 331,-151 325,-157 319,-157\"/>\n<text text-anchor=\"middle\" x=\"191\" y=\"-141.8\" font-family=\"Helvetica,sans-Serif\" font-size=\"14.00\" fill=\"#000000\">extraction_type_class_rope pump &lt;= 0.5</text>\n<text text-anchor=\"middle\" x=\"191\" y=\"-126.8\" font-family=\"Helvetica,sans-Serif\" font-size=\"14.00\" fill=\"#000000\">samples = 28.5%</text>\n<text text-anchor=\"middle\" x=\"191\" y=\"-111.8\" font-family=\"Helvetica,sans-Serif\" font-size=\"14.00\" fill=\"#000000\">value = [0.631, 0.059, 0.31]</text>\n<text text-anchor=\"middle\" x=\"191\" y=\"-96.8\" font-family=\"Helvetica,sans-Serif\" font-size=\"14.00\" fill=\"#000000\">class = functional</text>\n</g>\n<!-- 4&#45;&gt;5 -->\n<g id=\"edge5\" class=\"edge\">\n<title>4&#45;&gt;5</title>\n<path fill=\"none\" stroke=\"#000000\" d=\"M277.7606,-192.9465C266.0669,-183.519 253.2606,-173.1946 241.163,-163.4415\"/>\n<polygon fill=\"#000000\" stroke=\"#000000\" points=\"243.3162,-160.6816 233.3343,-157.13 238.9227,-166.1312 243.3162,-160.6816\"/>\n</g>\n<!-- 8 -->\n<g id=\"node9\" class=\"node\">\n<title>8</title>\n<path fill=\"#f8f3fd\" stroke=\"#000000\" d=\"M537,-149.5C537,-149.5 361,-149.5 361,-149.5 355,-149.5 349,-143.5 349,-137.5 349,-137.5 349,-108.5 349,-108.5 349,-102.5 355,-96.5 361,-96.5 361,-96.5 537,-96.5 537,-96.5 543,-96.5 549,-102.5 549,-108.5 549,-108.5 549,-137.5 549,-137.5 549,-143.5 543,-149.5 537,-149.5\"/>\n<text text-anchor=\"middle\" x=\"449\" y=\"-134.3\" font-family=\"Helvetica,sans-Serif\" font-size=\"14.00\" fill=\"#000000\">samples = 0.2%</text>\n<text text-anchor=\"middle\" x=\"449\" y=\"-119.3\" font-family=\"Helvetica,sans-Serif\" font-size=\"14.00\" fill=\"#000000\">value = [0.452, 0.065, 0.484]</text>\n<text text-anchor=\"middle\" x=\"449\" y=\"-104.3\" font-family=\"Helvetica,sans-Serif\" font-size=\"14.00\" fill=\"#000000\">class = non functional</text>\n</g>\n<!-- 4&#45;&gt;8 -->\n<g id=\"edge8\" class=\"edge\">\n<title>4&#45;&gt;8</title>\n<path fill=\"none\" stroke=\"#000000\" d=\"M362.2394,-192.9465C376.9952,-181.0504 393.5225,-167.726 408.162,-155.9237\"/>\n<polygon fill=\"#000000\" stroke=\"#000000\" points=\"410.4891,-158.5433 416.0775,-149.5422 406.0957,-153.0938 410.4891,-158.5433\"/>\n</g>\n<!-- 6 -->\n<g id=\"node7\" class=\"node\">\n<title>6</title>\n<path fill=\"#f3c5a3\" stroke=\"#000000\" d=\"M164,-53C164,-53 12,-53 12,-53 6,-53 0,-47 0,-41 0,-41 0,-12 0,-12 0,-6 6,0 12,0 12,0 164,0 164,0 170,0 176,-6 176,-12 176,-12 176,-41 176,-41 176,-47 170,-53 164,-53\"/>\n<text text-anchor=\"middle\" x=\"88\" y=\"-37.8\" font-family=\"Helvetica,sans-Serif\" font-size=\"14.00\" fill=\"#000000\">samples = 27.7%</text>\n<text text-anchor=\"middle\" x=\"88\" y=\"-22.8\" font-family=\"Helvetica,sans-Serif\" font-size=\"14.00\" fill=\"#000000\">value = [0.63, 0.06, 0.31]</text>\n<text text-anchor=\"middle\" x=\"88\" y=\"-7.8\" font-family=\"Helvetica,sans-Serif\" font-size=\"14.00\" fill=\"#000000\">class = functional</text>\n</g>\n<!-- 5&#45;&gt;6 -->\n<g id=\"edge6\" class=\"edge\">\n<title>5&#45;&gt;6</title>\n<path fill=\"none\" stroke=\"#000000\" d=\"M154.6861,-88.9777C144.7168,-79.6376 133.9138,-69.5163 123.9643,-60.1947\"/>\n<polygon fill=\"#000000\" stroke=\"#000000\" points=\"126.2408,-57.5314 116.5502,-53.2485 121.4548,-62.6397 126.2408,-57.5314\"/>\n</g>\n<!-- 7 -->\n<g id=\"node8\" class=\"node\">\n<title>7</title>\n<path fill=\"#f2bf9b\" stroke=\"#000000\" d=\"M382,-53C382,-53 206,-53 206,-53 200,-53 194,-47 194,-41 194,-41 194,-12 194,-12 194,-6 200,0 206,0 206,0 382,0 382,0 388,0 394,-6 394,-12 394,-12 394,-41 394,-41 394,-47 388,-53 382,-53\"/>\n<text text-anchor=\"middle\" x=\"294\" y=\"-37.8\" font-family=\"Helvetica,sans-Serif\" font-size=\"14.00\" fill=\"#000000\">samples = 0.7%</text>\n<text text-anchor=\"middle\" x=\"294\" y=\"-22.8\" font-family=\"Helvetica,sans-Serif\" font-size=\"14.00\" fill=\"#000000\">value = [0.657, 0.037, 0.306]</text>\n<text text-anchor=\"middle\" x=\"294\" y=\"-7.8\" font-family=\"Helvetica,sans-Serif\" font-size=\"14.00\" fill=\"#000000\">class = functional</text>\n</g>\n<!-- 5&#45;&gt;7 -->\n<g id=\"edge7\" class=\"edge\">\n<title>5&#45;&gt;7</title>\n<path fill=\"none\" stroke=\"#000000\" d=\"M227.3139,-88.9777C237.2832,-79.6376 248.0862,-69.5163 258.0357,-60.1947\"/>\n<polygon fill=\"#000000\" stroke=\"#000000\" points=\"260.5452,-62.6397 265.4498,-53.2485 255.7592,-57.5314 260.5452,-62.6397\"/>\n</g>\n</g>\n</svg>\n"
          },
          "metadata": {
            "tags": []
          }
        }
      ]
    },
    {
      "cell_type": "markdown",
      "metadata": {
        "colab_type": "text",
        "id": "QUd6gzcZgLVz"
      },
      "source": [
        "### [Ordinal Encoding](http://contrib.scikit-learn.org/categorical-encoding/ordinal.html)\n",
        "\n",
        "> Ordinal encoding uses a single column of integers to represent the classes. An optional mapping dict can be passed in; in this case, we use the knowledge that there is some true order to the classes themselves. Otherwise, the classes are assumed to have no true order and integers are selected at random."
      ]
    },
    {
      "cell_type": "code",
      "metadata": {
        "colab_type": "code",
        "id": "CnBz2RbwgLVz",
        "outputId": "a52060fd-610c-45a8-c667-f8737876a57c",
        "colab": {
          "base_uri": "https://localhost:8080/",
          "height": 686
        }
      },
      "source": [
        "encoder = ce.OrdinalEncoder()\n",
        "encoded = encoder.fit_transform(X_train[[feature]])\n",
        "print(f'1 column, {encoded[feature].nunique()} unique values')\n",
        "encoded.head(20)"
      ],
      "execution_count": 0,
      "outputs": [
        {
          "output_type": "stream",
          "text": [
            "1 column, 7 unique values\n"
          ],
          "name": "stdout"
        },
        {
          "output_type": "execute_result",
          "data": {
            "text/html": [
              "<div>\n",
              "<style scoped>\n",
              "    .dataframe tbody tr th:only-of-type {\n",
              "        vertical-align: middle;\n",
              "    }\n",
              "\n",
              "    .dataframe tbody tr th {\n",
              "        vertical-align: top;\n",
              "    }\n",
              "\n",
              "    .dataframe thead th {\n",
              "        text-align: right;\n",
              "    }\n",
              "</style>\n",
              "<table border=\"1\" class=\"dataframe\">\n",
              "  <thead>\n",
              "    <tr style=\"text-align: right;\">\n",
              "      <th></th>\n",
              "      <th>extraction_type_class</th>\n",
              "    </tr>\n",
              "  </thead>\n",
              "  <tbody>\n",
              "    <tr>\n",
              "      <th>43360</th>\n",
              "      <td>1</td>\n",
              "    </tr>\n",
              "    <tr>\n",
              "      <th>7263</th>\n",
              "      <td>1</td>\n",
              "    </tr>\n",
              "    <tr>\n",
              "      <th>2486</th>\n",
              "      <td>2</td>\n",
              "    </tr>\n",
              "    <tr>\n",
              "      <th>313</th>\n",
              "      <td>3</td>\n",
              "    </tr>\n",
              "    <tr>\n",
              "      <th>52726</th>\n",
              "      <td>4</td>\n",
              "    </tr>\n",
              "    <tr>\n",
              "      <th>8558</th>\n",
              "      <td>1</td>\n",
              "    </tr>\n",
              "    <tr>\n",
              "      <th>2559</th>\n",
              "      <td>1</td>\n",
              "    </tr>\n",
              "    <tr>\n",
              "      <th>54735</th>\n",
              "      <td>4</td>\n",
              "    </tr>\n",
              "    <tr>\n",
              "      <th>25763</th>\n",
              "      <td>2</td>\n",
              "    </tr>\n",
              "    <tr>\n",
              "      <th>44540</th>\n",
              "      <td>5</td>\n",
              "    </tr>\n",
              "    <tr>\n",
              "      <th>28603</th>\n",
              "      <td>3</td>\n",
              "    </tr>\n",
              "    <tr>\n",
              "      <th>4372</th>\n",
              "      <td>5</td>\n",
              "    </tr>\n",
              "    <tr>\n",
              "      <th>30666</th>\n",
              "      <td>1</td>\n",
              "    </tr>\n",
              "    <tr>\n",
              "      <th>6431</th>\n",
              "      <td>5</td>\n",
              "    </tr>\n",
              "    <tr>\n",
              "      <th>57420</th>\n",
              "      <td>3</td>\n",
              "    </tr>\n",
              "    <tr>\n",
              "      <th>1373</th>\n",
              "      <td>1</td>\n",
              "    </tr>\n",
              "    <tr>\n",
              "      <th>2026</th>\n",
              "      <td>1</td>\n",
              "    </tr>\n",
              "    <tr>\n",
              "      <th>58977</th>\n",
              "      <td>2</td>\n",
              "    </tr>\n",
              "    <tr>\n",
              "      <th>41101</th>\n",
              "      <td>1</td>\n",
              "    </tr>\n",
              "    <tr>\n",
              "      <th>10019</th>\n",
              "      <td>1</td>\n",
              "    </tr>\n",
              "  </tbody>\n",
              "</table>\n",
              "</div>"
            ],
            "text/plain": [
              "       extraction_type_class\n",
              "43360                      1\n",
              "7263                       1\n",
              "2486                       2\n",
              "313                        3\n",
              "52726                      4\n",
              "8558                       1\n",
              "2559                       1\n",
              "54735                      4\n",
              "25763                      2\n",
              "44540                      5\n",
              "28603                      3\n",
              "4372                       5\n",
              "30666                      1\n",
              "6431                       5\n",
              "57420                      3\n",
              "1373                       1\n",
              "2026                       1\n",
              "58977                      2\n",
              "41101                      1\n",
              "10019                      1"
            ]
          },
          "metadata": {
            "tags": []
          },
          "execution_count": 34
        }
      ]
    },
    {
      "cell_type": "markdown",
      "metadata": {
        "colab_type": "text",
        "id": "Nd-ZWprasqUM"
      },
      "source": [
        "#### Ordinal Encoding, Logistic Regression, Validation Accuracy"
      ]
    },
    {
      "cell_type": "code",
      "metadata": {
        "colab_type": "code",
        "id": "GJ1YpwjvrhfL",
        "outputId": "d82be1ac-8217-4695-cd6a-474cbd02d210",
        "colab": {
          "base_uri": "https://localhost:8080/",
          "height": 34
        }
      },
      "source": [
        "lr = make_pipeline(\n",
        "    ce.OrdinalEncoder(), \n",
        "    SimpleImputer(), \n",
        "    StandardScaler(), \n",
        "    LogisticRegressionCV(multi_class='auto', solver='lbfgs', cv=5, n_jobs=-1)\n",
        ")\n",
        "\n",
        "lr.fit(X_train[[feature]], y_train)\n",
        "score = lr.score(X_val[[feature]], y_val)\n",
        "print('Logistic Regression, Validation Accuracy', score)"
      ],
      "execution_count": 0,
      "outputs": [
        {
          "output_type": "stream",
          "text": [
            "Logistic Regression, Validation Accuracy 0.5417508417508418\n"
          ],
          "name": "stdout"
        }
      ]
    },
    {
      "cell_type": "markdown",
      "metadata": {
        "colab_type": "text",
        "id": "9lO_R3SksuHs"
      },
      "source": [
        "#### Ordinal Encoding, Decision Tree, Validation Accuracy"
      ]
    },
    {
      "cell_type": "code",
      "metadata": {
        "colab_type": "code",
        "id": "aOELD_roriVI",
        "outputId": "5c1aa50c-de67-4e29-9b2a-faf385a5db59",
        "colab": {
          "base_uri": "https://localhost:8080/",
          "height": 34
        }
      },
      "source": [
        "dt = make_pipeline(\n",
        "    ce.OrdinalEncoder(), \n",
        "    SimpleImputer(), \n",
        "    DecisionTreeClassifier(random_state=42)\n",
        ")\n",
        "\n",
        "dt.fit(X_train[[feature]], y_train)\n",
        "score = dt.score(X_val[[feature]], y_val)\n",
        "print('Decision Tree, Validation Accuracy', score)"
      ],
      "execution_count": 0,
      "outputs": [
        {
          "output_type": "stream",
          "text": [
            "Decision Tree, Validation Accuracy 0.6202861952861953\n"
          ],
          "name": "stdout"
        }
      ]
    },
    {
      "cell_type": "markdown",
      "metadata": {
        "colab_type": "text",
        "id": "7V2zHjiwswTg"
      },
      "source": [
        "#### Ordinal Encoding, Logistic Regression, Model Interpretation"
      ]
    },
    {
      "cell_type": "code",
      "metadata": {
        "colab_type": "code",
        "id": "S9UPYPois8QR",
        "outputId": "1a5ed95e-e5d2-4393-8239-eb68a8ff1d2b",
        "colab": {
          "base_uri": "https://localhost:8080/",
          "height": 265
        }
      },
      "source": [
        "model = lr.named_steps['logisticregressioncv']\n",
        "encoder = lr.named_steps['ordinalencoder']\n",
        "encoded_columns = encoder.transform(X_val[[feature]]).columns\n",
        "coefficients = pd.Series(model.coef_[0], encoded_columns)\n",
        "coefficients.sort_values().plot.barh(color='grey');"
      ],
      "execution_count": 0,
      "outputs": [
        {
          "output_type": "display_data",
          "data": {
            "image/png": "[encoded data removed]",
            "text/plain": [
              "<Figure size 432x288 with 1 Axes>"
            ]
          },
          "metadata": {
            "tags": []
          }
        }
      ]
    },
    {
      "cell_type": "markdown",
      "metadata": {
        "colab_type": "text",
        "id": "MvmmvE8fsymh"
      },
      "source": [
        "#### Ordinal Encoding, Decision Tree, Model Interpretation"
      ]
    },
    {
      "cell_type": "code",
      "metadata": {
        "colab_type": "code",
        "id": "jCvUu4Oms88b",
        "outputId": "565ebbf7-0dd9-4f79-ad19-952bdf859a2b",
        "colab": {
          "base_uri": "https://localhost:8080/",
          "height": 816
        }
      },
      "source": [
        "model = dt.named_steps['decisiontreeclassifier']\n",
        "encoder = dt.named_steps['ordinalencoder']\n",
        "encoded_columns = encoder.transform(X_val[[feature]]).columns\n",
        "\n",
        "dot_data = export_graphviz(model, \n",
        "                           out_file=None, \n",
        "                           max_depth=5, \n",
        "                           feature_names=encoded_columns,\n",
        "                           class_names=model.classes_, \n",
        "                           impurity=False, \n",
        "                           filled=True, \n",
        "                           proportion=True, \n",
        "                           rounded=True)   \n",
        "display(graphviz.Source(dot_data))"
      ],
      "execution_count": 0,
      "outputs": [
        {
          "output_type": "display_data",
          "data": {
            "text/plain": [
              "<graphviz.files.Source at 0x7f8162bf9b38>"
            ],
            "image/svg+xml": "<?xml version=\"1.0\" encoding=\"UTF-8\" standalone=\"no\"?>\n<!DOCTYPE svg PUBLIC \"-//W3C//DTD SVG 1.1//EN\"\n \"http://www.w3.org/Graphics/SVG/1.1/DTD/svg11.dtd\">\n<!-- Generated by graphviz version 2.40.1 (20161225.0304)\n -->\n<!-- Title: Tree Pages: 1 -->\n<svg width=\"1167pt\" height=\"581pt\"\n viewBox=\"0.00 0.00 1167.00 581.00\" xmlns=\"http://www.w3.org/2000/svg\" xmlns:xlink=\"http://www.w3.org/1999/xlink\">\n<g id=\"graph0\" class=\"graph\" transform=\"scale(1 1) rotate(0) translate(4 577)\">\n<title>Tree</title>\n<polygon fill=\"#ffffff\" stroke=\"transparent\" points=\"-4,4 -4,-577 1163,-577 1163,4 -4,4\"/>\n<!-- 0 -->\n<g id=\"node1\" class=\"node\">\n<title>0</title>\n<path fill=\"#f8decc\" stroke=\"#000000\" d=\"M500,-573C500,-573 322,-573 322,-573 316,-573 310,-567 310,-561 310,-561 310,-517 310,-517 310,-511 316,-505 322,-505 322,-505 500,-505 500,-505 506,-505 512,-511 512,-517 512,-517 512,-561 512,-561 512,-567 506,-573 500,-573\"/>\n<text text-anchor=\"middle\" x=\"411\" y=\"-557.8\" font-family=\"Helvetica,sans-Serif\" font-size=\"14.00\" fill=\"#000000\">extraction_type_class &lt;= 2.5</text>\n<text text-anchor=\"middle\" x=\"411\" y=\"-542.8\" font-family=\"Helvetica,sans-Serif\" font-size=\"14.00\" fill=\"#000000\">samples = 100.0%</text>\n<text text-anchor=\"middle\" x=\"411\" y=\"-527.8\" font-family=\"Helvetica,sans-Serif\" font-size=\"14.00\" fill=\"#000000\">value = [0.543, 0.073, 0.384]</text>\n<text text-anchor=\"middle\" x=\"411\" y=\"-512.8\" font-family=\"Helvetica,sans-Serif\" font-size=\"14.00\" fill=\"#000000\">class = functional</text>\n</g>\n<!-- 1 -->\n<g id=\"node2\" class=\"node\">\n<title>1</title>\n<path fill=\"#f4c7a8\" stroke=\"#000000\" d=\"M390,-469C390,-469 212,-469 212,-469 206,-469 200,-463 200,-457 200,-457 200,-413 200,-413 200,-407 206,-401 212,-401 212,-401 390,-401 390,-401 396,-401 402,-407 402,-413 402,-413 402,-457 402,-457 402,-463 396,-469 390,-469\"/>\n<text text-anchor=\"middle\" x=\"301\" y=\"-453.8\" font-family=\"Helvetica,sans-Serif\" font-size=\"14.00\" fill=\"#000000\">extraction_type_class &lt;= 1.5</text>\n<text text-anchor=\"middle\" x=\"301\" y=\"-438.8\" font-family=\"Helvetica,sans-Serif\" font-size=\"14.00\" fill=\"#000000\">samples = 72.9%</text>\n<text text-anchor=\"middle\" x=\"301\" y=\"-423.8\" font-family=\"Helvetica,sans-Serif\" font-size=\"14.00\" fill=\"#000000\">value = [0.611, 0.085, 0.304]</text>\n<text text-anchor=\"middle\" x=\"301\" y=\"-408.8\" font-family=\"Helvetica,sans-Serif\" font-size=\"14.00\" fill=\"#000000\">class = functional</text>\n</g>\n<!-- 0&#45;&gt;1 -->\n<g id=\"edge1\" class=\"edge\">\n<title>0&#45;&gt;1</title>\n<path fill=\"none\" stroke=\"#000000\" d=\"M374.9819,-504.9465C365.2954,-495.7884 354.7136,-485.7838 344.6603,-476.2788\"/>\n<polygon fill=\"#000000\" stroke=\"#000000\" points=\"346.7701,-473.4569 337.099,-469.13 341.961,-478.5434 346.7701,-473.4569\"/>\n<text text-anchor=\"middle\" x=\"337.7997\" y=\"-490.4202\" font-family=\"Helvetica,sans-Serif\" font-size=\"14.00\" fill=\"#000000\">True</text>\n</g>\n<!-- 4 -->\n<g id=\"node5\" class=\"node\">\n<title>4</title>\n<path fill=\"#d0b4f5\" stroke=\"#000000\" d=\"M610,-469C610,-469 432,-469 432,-469 426,-469 420,-463 420,-457 420,-457 420,-413 420,-413 420,-407 426,-401 432,-401 432,-401 610,-401 610,-401 616,-401 622,-407 622,-413 622,-413 622,-457 622,-457 622,-463 616,-469 610,-469\"/>\n<text text-anchor=\"middle\" x=\"521\" y=\"-453.8\" font-family=\"Helvetica,sans-Serif\" font-size=\"14.00\" fill=\"#000000\">extraction_type_class &lt;= 3.5</text>\n<text text-anchor=\"middle\" x=\"521\" y=\"-438.8\" font-family=\"Helvetica,sans-Serif\" font-size=\"14.00\" fill=\"#000000\">samples = 27.1%</text>\n<text text-anchor=\"middle\" x=\"521\" y=\"-423.8\" font-family=\"Helvetica,sans-Serif\" font-size=\"14.00\" fill=\"#000000\">value = [0.361, 0.038, 0.601]</text>\n<text text-anchor=\"middle\" x=\"521\" y=\"-408.8\" font-family=\"Helvetica,sans-Serif\" font-size=\"14.00\" fill=\"#000000\">class = non functional</text>\n</g>\n<!-- 0&#45;&gt;4 -->\n<g id=\"edge4\" class=\"edge\">\n<title>0&#45;&gt;4</title>\n<path fill=\"none\" stroke=\"#000000\" d=\"M447.0181,-504.9465C456.7046,-495.7884 467.2864,-485.7838 477.3397,-476.2788\"/>\n<polygon fill=\"#000000\" stroke=\"#000000\" points=\"480.039,-478.5434 484.901,-469.13 475.2299,-473.4569 480.039,-478.5434\"/>\n<text text-anchor=\"middle\" x=\"484.2003\" y=\"-490.4202\" font-family=\"Helvetica,sans-Serif\" font-size=\"14.00\" fill=\"#000000\">False</text>\n</g>\n<!-- 2 -->\n<g id=\"node3\" class=\"node\">\n<title>2</title>\n<path fill=\"#f4c9aa\" stroke=\"#000000\" d=\"M188,-357.5C188,-357.5 12,-357.5 12,-357.5 6,-357.5 0,-351.5 0,-345.5 0,-345.5 0,-316.5 0,-316.5 0,-310.5 6,-304.5 12,-304.5 12,-304.5 188,-304.5 188,-304.5 194,-304.5 200,-310.5 200,-316.5 200,-316.5 200,-345.5 200,-345.5 200,-351.5 194,-357.5 188,-357.5\"/>\n<text text-anchor=\"middle\" x=\"100\" y=\"-342.3\" font-family=\"Helvetica,sans-Serif\" font-size=\"14.00\" fill=\"#000000\">samples = 45.1%</text>\n<text text-anchor=\"middle\" x=\"100\" y=\"-327.3\" font-family=\"Helvetica,sans-Serif\" font-size=\"14.00\" fill=\"#000000\">value = [0.599, 0.101, 0.299]</text>\n<text text-anchor=\"middle\" x=\"100\" y=\"-312.3\" font-family=\"Helvetica,sans-Serif\" font-size=\"14.00\" fill=\"#000000\">class = functional</text>\n</g>\n<!-- 1&#45;&gt;2 -->\n<g id=\"edge2\" class=\"edge\">\n<title>1&#45;&gt;2</title>\n<path fill=\"none\" stroke=\"#000000\" d=\"M235.1851,-400.9465C211.1292,-388.4997 184.0513,-374.4892 160.4827,-362.2946\"/>\n<polygon fill=\"#000000\" stroke=\"#000000\" points=\"161.7878,-359.0291 151.2978,-357.5422 158.571,-365.2462 161.7878,-359.0291\"/>\n</g>\n<!-- 3 -->\n<g id=\"node4\" class=\"node\">\n<title>3</title>\n<path fill=\"#f3c5a3\" stroke=\"#000000\" d=\"M382,-357.5C382,-357.5 230,-357.5 230,-357.5 224,-357.5 218,-351.5 218,-345.5 218,-345.5 218,-316.5 218,-316.5 218,-310.5 224,-304.5 230,-304.5 230,-304.5 382,-304.5 382,-304.5 388,-304.5 394,-310.5 394,-316.5 394,-316.5 394,-345.5 394,-345.5 394,-351.5 388,-357.5 382,-357.5\"/>\n<text text-anchor=\"middle\" x=\"306\" y=\"-342.3\" font-family=\"Helvetica,sans-Serif\" font-size=\"14.00\" fill=\"#000000\">samples = 27.7%</text>\n<text text-anchor=\"middle\" x=\"306\" y=\"-327.3\" font-family=\"Helvetica,sans-Serif\" font-size=\"14.00\" fill=\"#000000\">value = [0.63, 0.06, 0.31]</text>\n<text text-anchor=\"middle\" x=\"306\" y=\"-312.3\" font-family=\"Helvetica,sans-Serif\" font-size=\"14.00\" fill=\"#000000\">class = functional</text>\n</g>\n<!-- 1&#45;&gt;3 -->\n<g id=\"edge3\" class=\"edge\">\n<title>1&#45;&gt;3</title>\n<path fill=\"none\" stroke=\"#000000\" d=\"M302.6372,-400.9465C303.1509,-390.2621 303.7199,-378.4254 304.2416,-367.5742\"/>\n<polygon fill=\"#000000\" stroke=\"#000000\" points=\"307.7396,-367.6987 304.7239,-357.5422 300.7477,-367.3625 307.7396,-367.6987\"/>\n</g>\n<!-- 5 -->\n<g id=\"node6\" class=\"node\">\n<title>5</title>\n<path fill=\"#9d66eb\" stroke=\"#000000\" d=\"M601,-357.5C601,-357.5 433,-357.5 433,-357.5 427,-357.5 421,-351.5 421,-345.5 421,-345.5 421,-316.5 421,-316.5 421,-310.5 427,-304.5 433,-304.5 433,-304.5 601,-304.5 601,-304.5 607,-304.5 613,-310.5 613,-316.5 613,-316.5 613,-345.5 613,-345.5 613,-351.5 607,-357.5 601,-357.5\"/>\n<text text-anchor=\"middle\" x=\"517\" y=\"-342.3\" font-family=\"Helvetica,sans-Serif\" font-size=\"14.00\" fill=\"#000000\">samples = 10.9%</text>\n<text text-anchor=\"middle\" x=\"517\" y=\"-327.3\" font-family=\"Helvetica,sans-Serif\" font-size=\"14.00\" fill=\"#000000\">value = [0.159, 0.031, 0.81]</text>\n<text text-anchor=\"middle\" x=\"517\" y=\"-312.3\" font-family=\"Helvetica,sans-Serif\" font-size=\"14.00\" fill=\"#000000\">class = non functional</text>\n</g>\n<!-- 4&#45;&gt;5 -->\n<g id=\"edge5\" class=\"edge\">\n<title>4&#45;&gt;5</title>\n<path fill=\"none\" stroke=\"#000000\" d=\"M519.6903,-400.9465C519.2793,-390.2621 518.8241,-378.4254 518.4067,-367.5742\"/>\n<polygon fill=\"#000000\" stroke=\"#000000\" points=\"521.9027,-367.4002 518.0209,-357.5422 514.9079,-367.6693 521.9027,-367.4002\"/>\n</g>\n<!-- 6 -->\n<g id=\"node7\" class=\"node\">\n<title>6</title>\n<path fill=\"#fdf7f2\" stroke=\"#000000\" d=\"M821,-365C821,-365 643,-365 643,-365 637,-365 631,-359 631,-353 631,-353 631,-309 631,-309 631,-303 637,-297 643,-297 643,-297 821,-297 821,-297 827,-297 833,-303 833,-309 833,-309 833,-353 833,-353 833,-359 827,-365 821,-365\"/>\n<text text-anchor=\"middle\" x=\"732\" y=\"-349.8\" font-family=\"Helvetica,sans-Serif\" font-size=\"14.00\" fill=\"#000000\">extraction_type_class &lt;= 4.5</text>\n<text text-anchor=\"middle\" x=\"732\" y=\"-334.8\" font-family=\"Helvetica,sans-Serif\" font-size=\"14.00\" fill=\"#000000\">samples = 16.2%</text>\n<text text-anchor=\"middle\" x=\"732\" y=\"-319.8\" font-family=\"Helvetica,sans-Serif\" font-size=\"14.00\" fill=\"#000000\">value = [0.497, 0.043, 0.46]</text>\n<text text-anchor=\"middle\" x=\"732\" y=\"-304.8\" font-family=\"Helvetica,sans-Serif\" font-size=\"14.00\" fill=\"#000000\">class = functional</text>\n</g>\n<!-- 4&#45;&gt;6 -->\n<g id=\"edge6\" class=\"edge\">\n<title>4&#45;&gt;6</title>\n<path fill=\"none\" stroke=\"#000000\" d=\"M590.0893,-400.9465C610.4002,-390.9354 632.7633,-379.9129 653.6112,-369.6371\"/>\n<polygon fill=\"#000000\" stroke=\"#000000\" points=\"655.3332,-372.6905 662.7555,-365.13 652.2385,-366.4117 655.3332,-372.6905\"/>\n</g>\n<!-- 7 -->\n<g id=\"node8\" class=\"node\">\n<title>7</title>\n<path fill=\"#d8c1f7\" stroke=\"#000000\" d=\"M710,-253.5C710,-253.5 534,-253.5 534,-253.5 528,-253.5 522,-247.5 522,-241.5 522,-241.5 522,-212.5 522,-212.5 522,-206.5 528,-200.5 534,-200.5 534,-200.5 710,-200.5 710,-200.5 716,-200.5 722,-206.5 722,-212.5 722,-212.5 722,-241.5 722,-241.5 722,-247.5 716,-253.5 710,-253.5\"/>\n<text text-anchor=\"middle\" x=\"622\" y=\"-238.3\" font-family=\"Helvetica,sans-Serif\" font-size=\"14.00\" fill=\"#000000\">samples = 5.0%</text>\n<text text-anchor=\"middle\" x=\"622\" y=\"-223.3\" font-family=\"Helvetica,sans-Serif\" font-size=\"14.00\" fill=\"#000000\">value = [0.381, 0.045, 0.574]</text>\n<text text-anchor=\"middle\" x=\"622\" y=\"-208.3\" font-family=\"Helvetica,sans-Serif\" font-size=\"14.00\" fill=\"#000000\">class = non functional</text>\n</g>\n<!-- 6&#45;&gt;7 -->\n<g id=\"edge7\" class=\"edge\">\n<title>6&#45;&gt;7</title>\n<path fill=\"none\" stroke=\"#000000\" d=\"M695.9819,-296.9465C683.6325,-285.2707 669.8278,-272.219 657.5183,-260.5809\"/>\n<polygon fill=\"#000000\" stroke=\"#000000\" points=\"659.7445,-257.869 650.0734,-253.5422 654.9354,-262.9556 659.7445,-257.869\"/>\n</g>\n<!-- 8 -->\n<g id=\"node9\" class=\"node\">\n<title>8</title>\n<path fill=\"#f9e2d1\" stroke=\"#000000\" d=\"M930,-261C930,-261 752,-261 752,-261 746,-261 740,-255 740,-249 740,-249 740,-205 740,-205 740,-199 746,-193 752,-193 752,-193 930,-193 930,-193 936,-193 942,-199 942,-205 942,-205 942,-249 942,-249 942,-255 936,-261 930,-261\"/>\n<text text-anchor=\"middle\" x=\"841\" y=\"-245.8\" font-family=\"Helvetica,sans-Serif\" font-size=\"14.00\" fill=\"#000000\">extraction_type_class &lt;= 5.5</text>\n<text text-anchor=\"middle\" x=\"841\" y=\"-230.8\" font-family=\"Helvetica,sans-Serif\" font-size=\"14.00\" fill=\"#000000\">samples = 11.2%</text>\n<text text-anchor=\"middle\" x=\"841\" y=\"-215.8\" font-family=\"Helvetica,sans-Serif\" font-size=\"14.00\" fill=\"#000000\">value = [0.548, 0.042, 0.41]</text>\n<text text-anchor=\"middle\" x=\"841\" y=\"-200.8\" font-family=\"Helvetica,sans-Serif\" font-size=\"14.00\" fill=\"#000000\">class = functional</text>\n</g>\n<!-- 6&#45;&gt;8 -->\n<g id=\"edge8\" class=\"edge\">\n<title>6&#45;&gt;8</title>\n<path fill=\"none\" stroke=\"#000000\" d=\"M767.6907,-296.9465C777.2891,-287.7884 787.7747,-277.7838 797.7366,-268.2788\"/>\n<polygon fill=\"#000000\" stroke=\"#000000\" points=\"800.4102,-270.5655 805.2291,-261.13 795.5779,-265.5009 800.4102,-270.5655\"/>\n</g>\n<!-- 9 -->\n<g id=\"node10\" class=\"node\">\n<title>9</title>\n<path fill=\"#f9e4d5\" stroke=\"#000000\" d=\"M819,-149.5C819,-149.5 643,-149.5 643,-149.5 637,-149.5 631,-143.5 631,-137.5 631,-137.5 631,-108.5 631,-108.5 631,-102.5 637,-96.5 643,-96.5 643,-96.5 819,-96.5 819,-96.5 825,-96.5 831,-102.5 831,-108.5 831,-108.5 831,-137.5 831,-137.5 831,-143.5 825,-149.5 819,-149.5\"/>\n<text text-anchor=\"middle\" x=\"731\" y=\"-134.3\" font-family=\"Helvetica,sans-Serif\" font-size=\"14.00\" fill=\"#000000\">samples = 10.3%</text>\n<text text-anchor=\"middle\" x=\"731\" y=\"-119.3\" font-family=\"Helvetica,sans-Serif\" font-size=\"14.00\" fill=\"#000000\">value = [0.541, 0.042, 0.416]</text>\n<text text-anchor=\"middle\" x=\"731\" y=\"-104.3\" font-family=\"Helvetica,sans-Serif\" font-size=\"14.00\" fill=\"#000000\">class = functional</text>\n</g>\n<!-- 8&#45;&gt;9 -->\n<g id=\"edge9\" class=\"edge\">\n<title>8&#45;&gt;9</title>\n<path fill=\"none\" stroke=\"#000000\" d=\"M804.9819,-192.9465C792.6325,-181.2707 778.8278,-168.219 766.5183,-156.5809\"/>\n<polygon fill=\"#000000\" stroke=\"#000000\" points=\"768.7445,-153.869 759.0734,-149.5422 763.9354,-158.9556 768.7445,-153.869\"/>\n</g>\n<!-- 10 -->\n<g id=\"node11\" class=\"node\">\n<title>10</title>\n<path fill=\"#f4cbad\" stroke=\"#000000\" d=\"M1039,-157C1039,-157 861,-157 861,-157 855,-157 849,-151 849,-145 849,-145 849,-101 849,-101 849,-95 855,-89 861,-89 861,-89 1039,-89 1039,-89 1045,-89 1051,-95 1051,-101 1051,-101 1051,-145 1051,-145 1051,-151 1045,-157 1039,-157\"/>\n<text text-anchor=\"middle\" x=\"950\" y=\"-141.8\" font-family=\"Helvetica,sans-Serif\" font-size=\"14.00\" fill=\"#000000\">extraction_type_class &lt;= 6.5</text>\n<text text-anchor=\"middle\" x=\"950\" y=\"-126.8\" font-family=\"Helvetica,sans-Serif\" font-size=\"14.00\" fill=\"#000000\">samples = 0.9%</text>\n<text text-anchor=\"middle\" x=\"950\" y=\"-111.8\" font-family=\"Helvetica,sans-Serif\" font-size=\"14.00\" fill=\"#000000\">value = [0.614, 0.043, 0.343]</text>\n<text text-anchor=\"middle\" x=\"950\" y=\"-96.8\" font-family=\"Helvetica,sans-Serif\" font-size=\"14.00\" fill=\"#000000\">class = functional</text>\n</g>\n<!-- 8&#45;&gt;10 -->\n<g id=\"edge10\" class=\"edge\">\n<title>8&#45;&gt;10</title>\n<path fill=\"none\" stroke=\"#000000\" d=\"M876.6907,-192.9465C886.2891,-183.7884 896.7747,-173.7838 906.7366,-164.2788\"/>\n<polygon fill=\"#000000\" stroke=\"#000000\" points=\"909.4102,-166.5655 914.2291,-157.13 904.5779,-161.5009 909.4102,-166.5655\"/>\n</g>\n<!-- 11 -->\n<g id=\"node12\" class=\"node\">\n<title>11</title>\n<path fill=\"#f2bf9b\" stroke=\"#000000\" d=\"M929,-53C929,-53 753,-53 753,-53 747,-53 741,-47 741,-41 741,-41 741,-12 741,-12 741,-6 747,0 753,0 753,0 929,0 929,0 935,0 941,-6 941,-12 941,-12 941,-41 941,-41 941,-47 935,-53 929,-53\"/>\n<text text-anchor=\"middle\" x=\"841\" y=\"-37.8\" font-family=\"Helvetica,sans-Serif\" font-size=\"14.00\" fill=\"#000000\">samples = 0.7%</text>\n<text text-anchor=\"middle\" x=\"841\" y=\"-22.8\" font-family=\"Helvetica,sans-Serif\" font-size=\"14.00\" fill=\"#000000\">value = [0.657, 0.037, 0.306]</text>\n<text text-anchor=\"middle\" x=\"841\" y=\"-7.8\" font-family=\"Helvetica,sans-Serif\" font-size=\"14.00\" fill=\"#000000\">class = functional</text>\n</g>\n<!-- 10&#45;&gt;11 -->\n<g id=\"edge11\" class=\"edge\">\n<title>10&#45;&gt;11</title>\n<path fill=\"none\" stroke=\"#000000\" d=\"M911.5707,-88.9777C900.9173,-79.546 889.3641,-69.3178 878.7499,-59.9208\"/>\n<polygon fill=\"#000000\" stroke=\"#000000\" points=\"881.0207,-57.2566 871.2133,-53.2485 876.3806,-62.4978 881.0207,-57.2566\"/>\n</g>\n<!-- 12 -->\n<g id=\"node13\" class=\"node\">\n<title>12</title>\n<path fill=\"#f8f3fd\" stroke=\"#000000\" d=\"M1147,-53C1147,-53 971,-53 971,-53 965,-53 959,-47 959,-41 959,-41 959,-12 959,-12 959,-6 965,0 971,0 971,0 1147,0 1147,0 1153,0 1159,-6 1159,-12 1159,-12 1159,-41 1159,-41 1159,-47 1153,-53 1147,-53\"/>\n<text text-anchor=\"middle\" x=\"1059\" y=\"-37.8\" font-family=\"Helvetica,sans-Serif\" font-size=\"14.00\" fill=\"#000000\">samples = 0.2%</text>\n<text text-anchor=\"middle\" x=\"1059\" y=\"-22.8\" font-family=\"Helvetica,sans-Serif\" font-size=\"14.00\" fill=\"#000000\">value = [0.452, 0.065, 0.484]</text>\n<text text-anchor=\"middle\" x=\"1059\" y=\"-7.8\" font-family=\"Helvetica,sans-Serif\" font-size=\"14.00\" fill=\"#000000\">class = non functional</text>\n</g>\n<!-- 10&#45;&gt;12 -->\n<g id=\"edge12\" class=\"edge\">\n<title>10&#45;&gt;12</title>\n<path fill=\"none\" stroke=\"#000000\" d=\"M988.4293,-88.9777C999.0827,-79.546 1010.6359,-69.3178 1021.2501,-59.9208\"/>\n<polygon fill=\"#000000\" stroke=\"#000000\" points=\"1023.6194,-62.4978 1028.7867,-53.2485 1018.9793,-57.2566 1023.6194,-62.4978\"/>\n</g>\n</g>\n</svg>\n"
          },
          "metadata": {
            "tags": []
          }
        }
      ]
    },
    {
      "cell_type": "markdown",
      "metadata": {
        "colab_type": "text",
        "id": "P4EJi2GvgLVa"
      },
      "source": [
        "# Understand how tree ensembles reduce overfitting compared to a single decision tree with unlimited depth"
      ]
    },
    {
      "cell_type": "markdown",
      "metadata": {
        "id": "dHBLcZKFJq5m",
        "colab_type": "text"
      },
      "source": [
        "## Overview"
      ]
    },
    {
      "cell_type": "markdown",
      "metadata": {
        "colab_type": "text",
        "id": "0nNABF3HgLVg"
      },
      "source": [
        "### What's \"random\" about random forests?\n",
        "1. Each tree trains on a random bootstrap sample of the data. (In scikit-learn, for `RandomForestRegressor` and `RandomForestClassifier`, the `bootstrap` parameter's default is `True`.) This type of ensembling is called Bagging. (Bootstrap AGGregatING.)\n",
        "2. Each split considers a random subset of the features. (In scikit-learn, when the `max_features` parameter is not `None`.) \n",
        "\n",
        "For extra randomness, you can try [\"extremely randomized trees\"](https://scikit-learn.org/stable/modules/ensemble.html#extremely-randomized-trees)!\n",
        "\n",
        ">In extremely randomized trees (see [ExtraTreesClassifier](https://scikit-learn.org/stable/modules/generated/sklearn.ensemble.ExtraTreesClassifier.html) and [ExtraTreesRegressor](https://scikit-learn.org/stable/modules/generated/sklearn.ensemble.ExtraTreesRegressor.html) classes), randomness goes one step further in the way splits are computed. As in random forests, a random subset of candidate features is used, but instead of looking for the most discriminative thresholds, thresholds are drawn at random for each candidate feature and the best of these randomly-generated thresholds is picked as the splitting rule. This usually allows to reduce the variance of the model a bit more, at the expense of a slightly greater increase in bias"
      ]
    },
    {
      "cell_type": "markdown",
      "metadata": {
        "id": "R57mVYn1Jq5n",
        "colab_type": "text"
      },
      "source": [
        "## Follow Along"
      ]
    },
    {
      "cell_type": "markdown",
      "metadata": {
        "colab_type": "text",
        "id": "pUYP619CgLVb"
      },
      "source": [
        "### Example: [predicting golf putts](https://statmodeling.stat.columbia.edu/2008/12/04/the_golf_puttin/)\n",
        "(1 feature, non-linear, regression)"
      ]
    },
    {
      "cell_type": "code",
      "metadata": {
        "colab_type": "code",
        "id": "b4640ukxgLVc",
        "colab": {}
      },
      "source": [
        "putts = pd.DataFrame(\n",
        "    columns=['distance', 'tries', 'successes'], \n",
        "    data = [[2, 1443, 1346],\n",
        "            [3, 694, 577],\n",
        "            [4, 455, 337],\n",
        "            [5, 353, 208],\n",
        "            [6, 272, 149],\n",
        "            [7, 256, 136],\n",
        "            [8, 240, 111],\n",
        "            [9, 217, 69],\n",
        "            [10, 200, 67],\n",
        "            [11, 237, 75],\n",
        "            [12, 202, 52],\n",
        "            [13, 192, 46],\n",
        "            [14, 174, 54],\n",
        "            [15, 167, 28],\n",
        "            [16, 201, 27],\n",
        "            [17, 195, 31],\n",
        "            [18, 191, 33],\n",
        "            [19, 147, 20],\n",
        "            [20, 152, 24]]\n",
        ")\n",
        "\n",
        "putts['rate of success'] = putts['successes'] / putts['tries']\n",
        "putts_X = putts[['distance']]\n",
        "putts_y = putts['rate of success']"
      ],
      "execution_count": 0,
      "outputs": []
    },
    {
      "cell_type": "code",
      "metadata": {
        "colab_type": "code",
        "id": "T0IpCcKggLVd",
        "outputId": "3a381c78-d730-43e7-8d5c-2c658a3ef263",
        "colab": {
          "base_uri": "https://localhost:8080/",
          "height": 637,
          "referenced_widgets": [
            "7b4d20ed2751425f86fb90f135a87e5e",
            "aefabdb66c384dd3a6a4ad978f1c9972",
            "2b8e50185e0547d0b82dec7e2cf636a5",
            "108c31a7a6e44f7d9022b31d2dbfd79e",
            "6cedef25bdfb4b01a05bfac6f2f66165",
            "7404a5b9ebf3453bab76c386c5904611",
            "5df646f7dd7648cf80237dc82da1ed1c",
            "d1b422049c894f2c8aa6606468d45d13",
            "2a97acb4843d46ddb54c6040b43579a0"
          ]
        }
      },
      "source": [
        "%matplotlib inline\n",
        "import matplotlib.pyplot as plt\n",
        "from ipywidgets import interact\n",
        "from sklearn.ensemble import RandomForestRegressor\n",
        "from sklearn.tree import DecisionTreeRegressor\n",
        "\n",
        "def putt_trees(max_depth=1, n_estimators=1):\n",
        "    models = [DecisionTreeRegressor(max_depth=max_depth), \n",
        "              RandomForestRegressor(max_depth=max_depth, n_estimators=n_estimators)]\n",
        "    \n",
        "    for model in models:\n",
        "        name = model.__class__.__name__\n",
        "        model.fit(putts_X, putts_y)\n",
        "        ax = putts.plot('distance', 'rate of success', kind='scatter', title=name)\n",
        "        ax.step(putts_X, model.predict(putts_X), where='mid')\n",
        "        plt.show()\n",
        "        \n",
        "interact(putt_trees, max_depth=(1,6,1), n_estimators=(10,40,10));"
      ],
      "execution_count": 0,
      "outputs": [
        {
          "output_type": "display_data",
          "data": {
            "application/vnd.jupyter.widget-view+json": {
              "model_id": "7b4d20ed2751425f86fb90f135a87e5e",
              "version_minor": 0,
              "version_major": 2
            },
            "text/plain": [
              "interactive(children=(IntSlider(value=1, description='max_depth', max=6, min=1), IntSlider(value=10, descripti…"
            ]
          },
          "metadata": {
            "tags": []
          }
        }
      ]
    },
    {
      "cell_type": "markdown",
      "metadata": {
        "colab_type": "text",
        "id": "_KgZK9_9gLVh"
      },
      "source": [
        "### Bagging demo, with golf putts data\n",
        "https://pandas.pydata.org/pandas-docs/stable/reference/api/pandas.DataFrame.sample.html"
      ]
    },
    {
      "cell_type": "code",
      "metadata": {
        "colab_type": "code",
        "id": "vA9mrSTNgLVi",
        "outputId": "8694cdc0-d756-4c05-c872-b3861be902fc",
        "scrolled": false,
        "colab": {
          "base_uri": "https://localhost:8080/",
          "height": 915,
          "referenced_widgets": [
            "a4031a7db3cc4032a03a650e748dce78",
            "dcc1a10072c5428e8693a1abf3a2c976",
            "2df391c038664886bbdeca10df14a862",
            "37c5e7e17de245df8b1abf015f7c60b2",
            "4cb6bf7a03734d7d8788786f93a3464d",
            "9b11799ba7f748d28e6579bec55bb792",
            "733acac8e0c24acc8ef76f088a44ca28",
            "4140c48cc185491dbc3b30975a64333f",
            "de0c1b872d9c40a1a0bb784cb24b5eab"
          ]
        }
      },
      "source": [
        "# Do-it-yourself Bagging Ensemble of Decision Trees (like a Random Forest)\n",
        "def diy_bagging(max_depth=1, n_estimators=1):\n",
        "    y_preds = []\n",
        "    for i in range(n_estimators):\n",
        "        title = f'Tree {i+1}'\n",
        "        bootstrap_sample = putts.sample(n=len(putts), replace=True).sort_values(by='distance')\n",
        "        bootstrap_X = bootstrap_sample[['distance']]\n",
        "        bootstrap_y = bootstrap_sample['rate of success']\n",
        "        tree = DecisionTreeRegressor(max_depth=max_depth)\n",
        "        tree.fit(bootstrap_X, bootstrap_y)\n",
        "        y_pred = tree.predict(bootstrap_X)\n",
        "        y_preds.append(y_pred)\n",
        "        ax = bootstrap_sample.plot('distance', 'rate of success', kind='scatter', title=title)\n",
        "        ax.step(bootstrap_X, y_pred, where='mid')\n",
        "        plt.show()\n",
        "        \n",
        "    ensembled = np.vstack(y_preds).mean(axis=0)\n",
        "    title = f'Ensemble of {n_estimators} trees, with max_depth={max_depth}'\n",
        "    ax = putts.plot('distance', 'rate of success', kind='scatter', title=title)\n",
        "    ax.step(putts_X, ensembled, where='mid')\n",
        "    plt.show()\n",
        "    \n",
        "interact(diy_bagging, max_depth=(1,6,1), n_estimators=(2,5,1));"
      ],
      "execution_count": 0,
      "outputs": [
        {
          "output_type": "display_data",
          "data": {
            "application/vnd.jupyter.widget-view+json": {
              "model_id": "a4031a7db3cc4032a03a650e748dce78",
              "version_minor": 0,
              "version_major": 2
            },
            "text/plain": [
              "interactive(children=(IntSlider(value=1, description='max_depth', max=6, min=1), IntSlider(value=2, descriptio…"
            ]
          },
          "metadata": {
            "tags": []
          }
        }
      ]
    },
    {
      "cell_type": "markdown",
      "metadata": {
        "colab_type": "text",
        "id": "rq4Z_wQ_gLVj"
      },
      "source": [
        "### Go back to Tanzania Waterpumps ..."
      ]
    },
    {
      "cell_type": "markdown",
      "metadata": {
        "colab_type": "text",
        "id": "FoSE9iT6YXQz"
      },
      "source": [
        "#### Helper function to visualize predicted probabilities\n",
        "\n"
      ]
    },
    {
      "cell_type": "code",
      "metadata": {
        "colab_type": "code",
        "id": "HzIAjGpJgLVj",
        "colab": {}
      },
      "source": [
        "import itertools\n",
        "import seaborn as sns\n",
        "\n",
        "def pred_heatmap(model, X, features, class_index=-1, title='', num=100):\n",
        "    \"\"\"\n",
        "    Visualize predicted probabilities, for classifier fit on 2 numeric features\n",
        "    \n",
        "    Parameters\n",
        "    ----------\n",
        "    model : scikit-learn classifier, already fit\n",
        "    X : pandas dataframe, which was used to fit model\n",
        "    features : list of strings, column names of the 2 numeric features\n",
        "    class_index : integer, index of class label\n",
        "    title : string, title of plot\n",
        "    num : int, number of grid points for each feature\n",
        "    \n",
        "    Returns\n",
        "    -------\n",
        "    y_pred_proba : numpy array, predicted probabilities for class_index\n",
        "    \"\"\"\n",
        "    feature1, feature2 = features\n",
        "    min1, max1 = X[feature1].min(), X[feature1].max()\n",
        "    min2, max2 = X[feature2].min(), X[feature2].max()\n",
        "    x1 = np.linspace(min1, max1, num)\n",
        "    x2 = np.linspace(max2, min2, num)\n",
        "    combos = list(itertools.product(x1, x2))\n",
        "    y_pred_proba = model.predict_proba(combos)[:, class_index]\n",
        "    pred_grid = y_pred_proba.reshape(num, num).T\n",
        "    table = pd.DataFrame(pred_grid, columns=x1, index=x2)\n",
        "    sns.heatmap(table, vmin=0, vmax=1)\n",
        "    plt.xticks([])\n",
        "    plt.yticks([])\n",
        "    plt.xlabel(feature1)\n",
        "    plt.ylabel(feature2)\n",
        "    plt.title(title)\n",
        "    plt.show()\n",
        "    return y_pred_proba\n"
      ],
      "execution_count": 0,
      "outputs": []
    },
    {
      "cell_type": "markdown",
      "metadata": {
        "colab_type": "text",
        "id": "DiRfPqHjgLVl"
      },
      "source": [
        "### Compare Decision Tree, Random Forest, Logistic Regression"
      ]
    },
    {
      "cell_type": "code",
      "metadata": {
        "colab_type": "code",
        "id": "HKkMLXhMgLVl",
        "outputId": "8fca7858-354d-4223-e82d-864fd8adcfab",
        "colab": {
          "base_uri": "https://localhost:8080/",
          "height": 864,
          "referenced_widgets": [
            "a4c16a2cb51844bb85c912586a77f445",
            "acce757d225b4208892885c26919bf28",
            "acb90d8d5f454a47bb16e57b5aa61058",
            "cfd957cd3be54a23af98eb4e870fefac",
            "7a7c0aa9524040928c8881ab876e0ec5",
            "5b5a34f224be4b508e1894b286e3f760",
            "b4a52276b7fb4fd1828b72f1deb5d201",
            "3bfa6563c39b49b683a7e84faeba8509",
            "a154b8f62468452cb06e11f8806e0f42"
          ]
        }
      },
      "source": [
        "# Instructions\n",
        "# 1. Choose two features\n",
        "# 2. Run this code cell\n",
        "# 3. Interact with the widget sliders\n",
        "feature1 = 'longitude'\n",
        "feature2 = 'quantity'\n",
        "\n",
        "from sklearn.linear_model import LogisticRegression\n",
        "from sklearn.tree import DecisionTreeClassifier\n",
        "\n",
        "def get_X_y(df, feature1, feature2, target):\n",
        "    features = [feature1, feature2]\n",
        "    X = df[features]\n",
        "    y = df[target]\n",
        "    X = X.fillna(X.median())\n",
        "    X = ce.OrdinalEncoder().fit_transform(X)\n",
        "    return X, y\n",
        "\n",
        "def compare_models(max_depth=1, n_estimators=1):\n",
        "    models = [DecisionTreeClassifier(max_depth=max_depth), \n",
        "              RandomForestClassifier(max_depth=max_depth, n_estimators=n_estimators), \n",
        "              LogisticRegression(solver='lbfgs', multi_class='auto')]\n",
        "    \n",
        "    for model in models:\n",
        "        name = model.__class__.__name__\n",
        "        model.fit(X, y)\n",
        "        pred_heatmap(model, X, [feature1, feature2], class_index=0, title=name)\n",
        "\n",
        "X, y = get_X_y(train, feature1, feature2, target='status_group')\n",
        "interact(compare_models, max_depth=(1,6,1), n_estimators=(10,40,10));"
      ],
      "execution_count": 0,
      "outputs": [
        {
          "output_type": "display_data",
          "data": {
            "application/vnd.jupyter.widget-view+json": {
              "model_id": "a4c16a2cb51844bb85c912586a77f445",
              "version_minor": 0,
              "version_major": 2
            },
            "text/plain": [
              "interactive(children=(IntSlider(value=1, description='max_depth', max=6, min=1), IntSlider(value=10, descripti…"
            ]
          },
          "metadata": {
            "tags": []
          }
        }
      ]
    },
    {
      "cell_type": "markdown",
      "metadata": {
        "colab_type": "text",
        "id": "hOQqjLEDgLVn"
      },
      "source": [
        "### Bagging"
      ]
    },
    {
      "cell_type": "code",
      "metadata": {
        "colab_type": "code",
        "id": "Hm4aPgs2gLVn",
        "outputId": "b9a66ef3-1d27-43fe-e31c-0846548476b0",
        "colab": {
          "base_uri": "https://localhost:8080/",
          "height": 864,
          "referenced_widgets": [
            "404e151906df451eaf7f6cd458241fff",
            "7dac9ba2df394c0e812370c103347276",
            "0647cf6943204bbb9a449ba61e192a4d",
            "d0953ce9d3374c4887408fb82d7112b4",
            "38e142b54d804e5aa073d97105eb9dae",
            "60194934104a4df7bd1d2c290f5da01d",
            "5c687d17e72b4daabfc3c8918b4195d8",
            "41200a5d9d784b3c91659aab829e6083",
            "790cf20d45764bc1a159b634f1f7131b"
          ]
        }
      },
      "source": [
        "# Do-it-yourself Bagging Ensemble of Decision Trees (like a Random Forest)\n",
        "\n",
        "# Instructions\n",
        "# 1. Choose two features\n",
        "# 2. Run this code cell\n",
        "# 3. Interact with the widget sliders\n",
        "\n",
        "feature1 = 'longitude'\n",
        "feature2 = 'latitude'\n",
        "\n",
        "def waterpumps_bagging(max_depth=1, n_estimators=1):\n",
        "    predicteds = []\n",
        "    for i in range(n_estimators):\n",
        "        title = f'Tree {i+1}'\n",
        "        bootstrap_sample = train.sample(n=len(train), replace=True)\n",
        "        X, y = get_X_y(bootstrap_sample, feature1, feature2, target='status_group')\n",
        "        tree = DecisionTreeClassifier(max_depth=max_depth)\n",
        "        tree.fit(X, y)\n",
        "        predicted = pred_heatmap(tree, X, [feature1, feature2], class_index=0, title=title)\n",
        "        predicteds.append(predicted)\n",
        "    \n",
        "    ensembled = np.vstack(predicteds).mean(axis=0)\n",
        "    title = f'Ensemble of {n_estimators} trees, with max_depth={max_depth}'\n",
        "    sns.heatmap(ensembled.reshape(100, 100).T, vmin=0, vmax=1)\n",
        "    plt.title(title)\n",
        "    plt.xlabel(feature1)\n",
        "    plt.ylabel(feature2)\n",
        "    plt.xticks([])\n",
        "    plt.yticks([])\n",
        "    plt.show()\n",
        "        \n",
        "interact(waterpumps_bagging, max_depth=(1,6,1), n_estimators=(2,5,1));"
      ],
      "execution_count": 0,
      "outputs": [
        {
          "output_type": "display_data",
          "data": {
            "application/vnd.jupyter.widget-view+json": {
              "model_id": "404e151906df451eaf7f6cd458241fff",
              "version_minor": 0,
              "version_major": 2
            },
            "text/plain": [
              "interactive(children=(IntSlider(value=1, description='max_depth', max=6, min=1), IntSlider(value=2, descriptio…"
            ]
          },
          "metadata": {
            "tags": []
          }
        }
      ]
    },
    {
      "cell_type": "markdown",
      "metadata": {
        "colab_type": "text",
        "id": "wYoSBi15akWP"
      },
      "source": [
        "# Review\n",
        "\n",
        "#### Try Tree Ensembles when you do machine learning with labeled, tabular data\n",
        "- \"Tree Ensembles\" means Random Forest or Gradient Boosting models. \n",
        "- [Tree Ensembles often have the best predictive accuracy](https://arxiv.org/abs/1708.05070) with labeled, tabular data.\n",
        "- Why? Because trees can fit non-linear, non-[monotonic](https://en.wikipedia.org/wiki/Monotonic_function) relationships, and [interactions](https://christophm.github.io/interpretable-ml-book/interaction.html) between features.\n",
        "- A single decision tree, grown to unlimited depth, will [overfit](http://www.r2d3.us/visual-intro-to-machine-learning-part-1/). We solve this problem by ensembling trees, with bagging (Random Forest) or boosting (Gradient Boosting).\n",
        "- Random Forest's advantage: may be less sensitive to hyperparameters. Gradient Boosting's advantage: may get better predictive accuracy.\n",
        "\n",
        "#### One-hot encoding isn’t the only way, and may not be the best way, of categorical encoding for tree ensembles.\n",
        "- For example, tree ensembles can work with arbitrary \"ordinal\" encoding! (Randomly assigning an integer to each category.) Compared to one-hot encoding, the dimensionality will be lower, and the predictive accuracy may be just as good or even better.\n"
      ]
    }
  ]
}