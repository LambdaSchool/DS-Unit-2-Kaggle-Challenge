{
  "nbformat": 4,
  "nbformat_minor": 0,
  "metadata": {
    "kernelspec": {
      "display_name": "Python 3",
      "language": "python",
      "name": "python3"
    },
    "language_info": {
      "codemirror_mode": {
        "name": "ipython",
        "version": 3
      },
      "file_extension": ".py",
      "mimetype": "text/x-python",
      "name": "python",
      "nbconvert_exporter": "python",
      "pygments_lexer": "ipython3",
      "version": "3.7.3"
    },
    "colab": {
      "name": "LS_DS_222_assignment.ipynb",
      "provenance": []
    }
  },
  "cells": [
    {
      "cell_type": "markdown",
      "metadata": {
        "id": "_h95J8e3fhEO",
        "colab_type": "text"
      },
      "source": [
        "Lambda School Data Science\n",
        "\n",
        "*Unit 2, Sprint 2, Module 2*\n",
        "\n",
        "---"
      ]
    },
    {
      "cell_type": "markdown",
      "metadata": {
        "colab_type": "text",
        "id": "7IXUfiQ2UKj6"
      },
      "source": [
        "# Random Forests\n",
        "\n",
        "## Assignment\n",
        "- [ ] Read [“Adopting a Hypothesis-Driven Workflow”](https://outline.com/5S5tsB), a blog post by a Lambda DS student about the Tanzania Waterpumps challenge.\n",
        "- [ ] Continue to participate in our Kaggle challenge.\n",
        "- [ ] Define a function to wrangle train, validate, and test sets in the same way. Clean outliers and engineer features.\n",
        "- [ ] Try Ordinal Encoding.\n",
        "- [ ] Try a Random Forest Classifier.\n",
        "- [ ] Submit your predictions to our Kaggle competition. (Go to our Kaggle InClass competition webpage. Use the blue **Submit Predictions** button to upload your CSV file. Or you can use the Kaggle API to submit your predictions.)\n",
        "- [ ] Commit your notebook to your fork of the GitHub repo.\n",
        "\n",
        "## Stretch Goals\n",
        "\n",
        "### Doing\n",
        "- [ ] Add your own stretch goal(s) !\n",
        "- [ ] Do more exploratory data analysis, data cleaning, feature engineering, and feature selection.\n",
        "- [ ] Try other [categorical encodings](https://contrib.scikit-learn.org/categorical-encoding/).\n",
        "- [ ] Get and plot your feature importances.\n",
        "- [ ] Make visualizations and share on Slack.\n",
        "\n",
        "### Reading\n",
        "\n",
        "Top recommendations in _**bold italic:**_\n",
        "\n",
        "#### Decision Trees\n",
        "- A Visual Introduction to Machine Learning, [Part 1: A Decision Tree](http://www.r2d3.us/visual-intro-to-machine-learning-part-1/),  and _**[Part 2: Bias and Variance](http://www.r2d3.us/visual-intro-to-machine-learning-part-2/)**_\n",
        "- [Decision Trees: Advantages & Disadvantages](https://christophm.github.io/interpretable-ml-book/tree.html#advantages-2)\n",
        "- [How a Russian mathematician constructed a decision tree — by hand — to solve a medical problem](http://fastml.com/how-a-russian-mathematician-constructed-a-decision-tree-by-hand-to-solve-a-medical-problem/)\n",
        "- [How decision trees work](https://brohrer.github.io/how_decision_trees_work.html)\n",
        "- [Let’s Write a Decision Tree Classifier from Scratch](https://www.youtube.com/watch?v=LDRbO9a6XPU)\n",
        "\n",
        "#### Random Forests\n",
        "- [_An Introduction to Statistical Learning_](http://www-bcf.usc.edu/~gareth/ISL/), Chapter 8: Tree-Based Methods\n",
        "- [Coloring with Random Forests](http://structuringtheunstructured.blogspot.com/2017/11/coloring-with-random-forests.html)\n",
        "- _**[Random Forests for Complete Beginners: The definitive guide to Random Forests and Decision Trees](https://victorzhou.com/blog/intro-to-random-forests/)**_\n",
        "\n",
        "#### Categorical encoding for trees\n",
        "- [Are categorical variables getting lost in your random forests?](https://roamanalytics.com/2016/10/28/are-categorical-variables-getting-lost-in-your-random-forests/)\n",
        "- [Beyond One-Hot: An Exploration of Categorical Variables](http://www.willmcginnis.com/2015/11/29/beyond-one-hot-an-exploration-of-categorical-variables/)\n",
        "- _**[Categorical Features and Encoding in Decision Trees](https://medium.com/data-design/visiting-categorical-features-and-encoding-in-decision-trees-53400fa65931)**_\n",
        "- _**[Coursera — How to Win a Data Science Competition: Learn from Top Kagglers — Concept of mean encoding](https://www.coursera.org/lecture/competitive-data-science/concept-of-mean-encoding-b5Gxv)**_\n",
        "- [Mean (likelihood) encodings: a comprehensive study](https://www.kaggle.com/vprokopev/mean-likelihood-encodings-a-comprehensive-study)\n",
        "- [The Mechanics of Machine Learning, Chapter 6: Categorically Speaking](https://mlbook.explained.ai/catvars.html)\n",
        "\n",
        "#### Imposter Syndrome\n",
        "- [Effort Shock and Reward Shock (How The Karate Kid Ruined The Modern World)](http://www.tempobook.com/2014/07/09/effort-shock-and-reward-shock/)\n",
        "- [How to manage impostor syndrome in data science](https://towardsdatascience.com/how-to-manage-impostor-syndrome-in-data-science-ad814809f068)\n",
        "- [\"I am not a real data scientist\"](https://brohrer.github.io/imposter_syndrome.html)\n",
        "- _**[Imposter Syndrome in Data Science](https://caitlinhudon.com/2018/01/19/imposter-syndrome-in-data-science/)**_\n",
        "\n",
        "\n",
        "### More Categorical Encodings\n",
        "\n",
        "**1.** The article **[Categorical Features and Encoding in Decision Trees](https://medium.com/data-design/visiting-categorical-features-and-encoding-in-decision-trees-53400fa65931)** mentions 4 encodings:\n",
        "\n",
        "- **\"Categorical Encoding\":** This means using the raw categorical values as-is, not encoded. Scikit-learn doesn't support this, but some tree algorithm implementations do. For example, [Catboost](https://catboost.ai/), or R's [rpart](https://cran.r-project.org/web/packages/rpart/index.html) package.\n",
        "- **Numeric Encoding:** Synonymous with Label Encoding, or \"Ordinal\" Encoding with random order. We can use [category_encoders.OrdinalEncoder](https://contrib.scikit-learn.org/categorical-encoding/ordinal.html).\n",
        "- **One-Hot Encoding:** We can use [category_encoders.OneHotEncoder](http://contrib.scikit-learn.org/categorical-encoding/onehot.html).\n",
        "- **Binary Encoding:** We can use [category_encoders.BinaryEncoder](http://contrib.scikit-learn.org/categorical-encoding/binary.html).\n",
        "\n",
        "\n",
        "**2.** The short video \n",
        "**[Coursera — How to Win a Data Science Competition: Learn from Top Kagglers — Concept of mean encoding](https://www.coursera.org/lecture/competitive-data-science/concept-of-mean-encoding-b5Gxv)** introduces an interesting idea: use both X _and_ y to encode categoricals.\n",
        "\n",
        "Category Encoders has multiple implementations of this general concept:\n",
        "\n",
        "- [CatBoost Encoder](http://contrib.scikit-learn.org/categorical-encoding/catboost.html)\n",
        "- [James-Stein Encoder](http://contrib.scikit-learn.org/categorical-encoding/jamesstein.html)\n",
        "- [Leave One Out](http://contrib.scikit-learn.org/categorical-encoding/leaveoneout.html)\n",
        "- [M-estimate](http://contrib.scikit-learn.org/categorical-encoding/mestimate.html)\n",
        "- [Target Encoder](http://contrib.scikit-learn.org/categorical-encoding/targetencoder.html)\n",
        "- [Weight of Evidence](http://contrib.scikit-learn.org/categorical-encoding/woe.html)\n",
        "\n",
        "Category Encoder's mean encoding implementations work for regression problems or binary classification problems. \n",
        "\n",
        "For multi-class classification problems, you will need to temporarily reformulate it as binary classification. For example:\n",
        "\n",
        "```python\n",
        "encoder = ce.TargetEncoder(min_samples_leaf=..., smoothing=...) # Both parameters > 1 to avoid overfitting\n",
        "X_train_encoded = encoder.fit_transform(X_train, y_train=='functional')\n",
        "X_val_encoded = encoder.transform(X_train, y_val=='functional')\n",
        "```\n",
        "\n",
        "For this reason, mean encoding won't work well within pipelines for multi-class classification problems.\n",
        "\n",
        "**3.** The **[dirty_cat](https://dirty-cat.github.io/stable/)** library has a Target Encoder implementation that works with multi-class classification.\n",
        "\n",
        "```python\n",
        " dirty_cat.TargetEncoder(clf_type='multiclass-clf')\n",
        "```\n",
        "It also implements an interesting idea called [\"Similarity Encoder\" for dirty categories](https://www.slideshare.net/GaelVaroquaux/machine-learning-on-non-curated-data-154905090).\n",
        "\n",
        "However, it seems like dirty_cat doesn't handle missing values or unknown categories as well as category_encoders does. And you may need to use it with one column at a time, instead of with your whole dataframe.\n",
        "\n",
        "**4. [Embeddings](https://www.kaggle.com/learn/embeddings)** can work well with sparse / high cardinality categoricals.\n",
        "\n",
        "_**I hope it’s not too frustrating or confusing that there’s not one “canonical” way to encode categoricals. It’s an active area of research and experimentation! Maybe you can make your own contributions!**_"
      ]
    },
    {
      "cell_type": "markdown",
      "metadata": {
        "id": "h_Ba7iZ7fhEQ",
        "colab_type": "text"
      },
      "source": [
        "### Setup\n",
        "\n",
        "You can work locally (follow the [local setup instructions](https://lambdaschool.github.io/ds/unit2/local/)) or on Colab (run the code cell below)."
      ]
    },
    {
      "cell_type": "code",
      "metadata": {
        "colab_type": "code",
        "id": "o9eSnDYhUGD7",
        "colab": {}
      },
      "source": [
        "%%capture\n",
        "import sys\n",
        "\n",
        "# If you're on Colab:\n",
        "if 'google.colab' in sys.modules:\n",
        "    DATA_PATH = 'https://raw.githubusercontent.com/LambdaSchool/DS-Unit-2-Kaggle-Challenge/master/data/'\n",
        "    !pip install category_encoders==2.*\n",
        "\n",
        "# If you're working locally:\n",
        "else:\n",
        "    DATA_PATH = '../data/'"
      ],
      "execution_count": 0,
      "outputs": []
    },
    {
      "cell_type": "code",
      "metadata": {
        "colab_type": "code",
        "id": "QJBD4ruICm1m",
        "colab": {
          "base_uri": "https://localhost:8080/",
          "height": 34
        },
        "outputId": "c1333746-e1db-424a-9492-e6b7163ad949"
      },
      "source": [
        "import pandas as pd\n",
        "from sklearn.model_selection import train_test_split\n",
        "\n",
        "train_original = pd.merge(pd.read_csv(DATA_PATH+'waterpumps/train_features.csv'), \n",
        "                 pd.read_csv(DATA_PATH+'waterpumps/train_labels.csv'))\n",
        "test = pd.read_csv(DATA_PATH+'waterpumps/test_features.csv')\n",
        "sample_submission = pd.read_csv(DATA_PATH+'waterpumps/sample_submission.csv')\n",
        "\n",
        "train_original.shape, test.shape"
      ],
      "execution_count": 3,
      "outputs": [
        {
          "output_type": "execute_result",
          "data": {
            "text/plain": [
              "((59400, 41), (14358, 40))"
            ]
          },
          "metadata": {
            "tags": []
          },
          "execution_count": 3
        }
      ]
    },
    {
      "cell_type": "code",
      "metadata": {
        "id": "LYQhwReAfhEW",
        "colab_type": "code",
        "colab": {
          "base_uri": "https://localhost:8080/",
          "height": 34
        },
        "outputId": "062abc7c-2c47-4bb7-c4cf-0fbd86b9ef34"
      },
      "source": [
        "#okay lets get that validation set\n",
        "train, val = train_test_split(train_original, train_size = 0.80, test_size = .20,\n",
        "                              stratify = train_original['status_group'], \n",
        "                              random_state = 42)\n",
        "\n",
        "train.shape, val.shape, test.shape"
      ],
      "execution_count": 5,
      "outputs": [
        {
          "output_type": "execute_result",
          "data": {
            "text/plain": [
              "((47520, 41), (11880, 41), (14358, 40))"
            ]
          },
          "metadata": {
            "tags": []
          },
          "execution_count": 5
        }
      ]
    },
    {
      "cell_type": "code",
      "metadata": {
        "id": "kCKL8grAzTk-",
        "colab_type": "code",
        "colab": {
          "base_uri": "https://localhost:8080/",
          "height": 394
        },
        "outputId": "0b74abe3-324c-4011-c016-a01cf83d0153"
      },
      "source": [
        "train.head()"
      ],
      "execution_count": 4,
      "outputs": [
        {
          "output_type": "execute_result",
          "data": {
            "text/html": [
              "<div>\n",
              "<style scoped>\n",
              "    .dataframe tbody tr th:only-of-type {\n",
              "        vertical-align: middle;\n",
              "    }\n",
              "\n",
              "    .dataframe tbody tr th {\n",
              "        vertical-align: top;\n",
              "    }\n",
              "\n",
              "    .dataframe thead th {\n",
              "        text-align: right;\n",
              "    }\n",
              "</style>\n",
              "<table border=\"1\" class=\"dataframe\">\n",
              "  <thead>\n",
              "    <tr style=\"text-align: right;\">\n",
              "      <th></th>\n",
              "      <th>id</th>\n",
              "      <th>amount_tsh</th>\n",
              "      <th>date_recorded</th>\n",
              "      <th>funder</th>\n",
              "      <th>gps_height</th>\n",
              "      <th>installer</th>\n",
              "      <th>longitude</th>\n",
              "      <th>latitude</th>\n",
              "      <th>wpt_name</th>\n",
              "      <th>num_private</th>\n",
              "      <th>basin</th>\n",
              "      <th>subvillage</th>\n",
              "      <th>region</th>\n",
              "      <th>region_code</th>\n",
              "      <th>district_code</th>\n",
              "      <th>lga</th>\n",
              "      <th>ward</th>\n",
              "      <th>population</th>\n",
              "      <th>public_meeting</th>\n",
              "      <th>recorded_by</th>\n",
              "      <th>scheme_management</th>\n",
              "      <th>scheme_name</th>\n",
              "      <th>permit</th>\n",
              "      <th>construction_year</th>\n",
              "      <th>extraction_type</th>\n",
              "      <th>extraction_type_group</th>\n",
              "      <th>extraction_type_class</th>\n",
              "      <th>management</th>\n",
              "      <th>management_group</th>\n",
              "      <th>payment</th>\n",
              "      <th>payment_type</th>\n",
              "      <th>water_quality</th>\n",
              "      <th>quality_group</th>\n",
              "      <th>quantity</th>\n",
              "      <th>quantity_group</th>\n",
              "      <th>source</th>\n",
              "      <th>source_type</th>\n",
              "      <th>source_class</th>\n",
              "      <th>waterpoint_type</th>\n",
              "      <th>waterpoint_type_group</th>\n",
              "      <th>status_group</th>\n",
              "    </tr>\n",
              "  </thead>\n",
              "  <tbody>\n",
              "    <tr>\n",
              "      <th>43360</th>\n",
              "      <td>72938</td>\n",
              "      <td>0.0</td>\n",
              "      <td>2011-07-27</td>\n",
              "      <td>NaN</td>\n",
              "      <td>0</td>\n",
              "      <td>NaN</td>\n",
              "      <td>33.542898</td>\n",
              "      <td>-9.174777</td>\n",
              "      <td>Kwa Mzee Noa</td>\n",
              "      <td>0</td>\n",
              "      <td>Lake Nyasa</td>\n",
              "      <td>Mpandapanda</td>\n",
              "      <td>Mbeya</td>\n",
              "      <td>12</td>\n",
              "      <td>4</td>\n",
              "      <td>Rungwe</td>\n",
              "      <td>Kiwira</td>\n",
              "      <td>0</td>\n",
              "      <td>True</td>\n",
              "      <td>GeoData Consultants Ltd</td>\n",
              "      <td>VWC</td>\n",
              "      <td>K</td>\n",
              "      <td>NaN</td>\n",
              "      <td>0</td>\n",
              "      <td>gravity</td>\n",
              "      <td>gravity</td>\n",
              "      <td>gravity</td>\n",
              "      <td>vwc</td>\n",
              "      <td>user-group</td>\n",
              "      <td>never pay</td>\n",
              "      <td>never pay</td>\n",
              "      <td>soft</td>\n",
              "      <td>good</td>\n",
              "      <td>insufficient</td>\n",
              "      <td>insufficient</td>\n",
              "      <td>spring</td>\n",
              "      <td>spring</td>\n",
              "      <td>groundwater</td>\n",
              "      <td>communal standpipe</td>\n",
              "      <td>communal standpipe</td>\n",
              "      <td>functional</td>\n",
              "    </tr>\n",
              "    <tr>\n",
              "      <th>7263</th>\n",
              "      <td>65358</td>\n",
              "      <td>500.0</td>\n",
              "      <td>2011-03-23</td>\n",
              "      <td>Rc Church</td>\n",
              "      <td>2049</td>\n",
              "      <td>ACRA</td>\n",
              "      <td>34.665760</td>\n",
              "      <td>-9.308548</td>\n",
              "      <td>Kwa Yasinta Ng'Ande</td>\n",
              "      <td>0</td>\n",
              "      <td>Rufiji</td>\n",
              "      <td>Kitichi</td>\n",
              "      <td>Iringa</td>\n",
              "      <td>11</td>\n",
              "      <td>4</td>\n",
              "      <td>Njombe</td>\n",
              "      <td>Imalinyi</td>\n",
              "      <td>175</td>\n",
              "      <td>True</td>\n",
              "      <td>GeoData Consultants Ltd</td>\n",
              "      <td>WUA</td>\n",
              "      <td>Tove Mtwango gravity Scheme</td>\n",
              "      <td>True</td>\n",
              "      <td>2008</td>\n",
              "      <td>gravity</td>\n",
              "      <td>gravity</td>\n",
              "      <td>gravity</td>\n",
              "      <td>wua</td>\n",
              "      <td>user-group</td>\n",
              "      <td>pay monthly</td>\n",
              "      <td>monthly</td>\n",
              "      <td>soft</td>\n",
              "      <td>good</td>\n",
              "      <td>enough</td>\n",
              "      <td>enough</td>\n",
              "      <td>spring</td>\n",
              "      <td>spring</td>\n",
              "      <td>groundwater</td>\n",
              "      <td>communal standpipe</td>\n",
              "      <td>communal standpipe</td>\n",
              "      <td>functional</td>\n",
              "    </tr>\n",
              "    <tr>\n",
              "      <th>2486</th>\n",
              "      <td>469</td>\n",
              "      <td>25.0</td>\n",
              "      <td>2011-03-07</td>\n",
              "      <td>Donor</td>\n",
              "      <td>290</td>\n",
              "      <td>Do</td>\n",
              "      <td>38.238568</td>\n",
              "      <td>-6.179919</td>\n",
              "      <td>Kwasungwini</td>\n",
              "      <td>0</td>\n",
              "      <td>Wami / Ruvu</td>\n",
              "      <td>Kwedigongo</td>\n",
              "      <td>Pwani</td>\n",
              "      <td>6</td>\n",
              "      <td>1</td>\n",
              "      <td>Bagamoyo</td>\n",
              "      <td>Mbwewe</td>\n",
              "      <td>2300</td>\n",
              "      <td>True</td>\n",
              "      <td>GeoData Consultants Ltd</td>\n",
              "      <td>VWC</td>\n",
              "      <td>NaN</td>\n",
              "      <td>False</td>\n",
              "      <td>2010</td>\n",
              "      <td>india mark ii</td>\n",
              "      <td>india mark ii</td>\n",
              "      <td>handpump</td>\n",
              "      <td>vwc</td>\n",
              "      <td>user-group</td>\n",
              "      <td>pay per bucket</td>\n",
              "      <td>per bucket</td>\n",
              "      <td>salty</td>\n",
              "      <td>salty</td>\n",
              "      <td>insufficient</td>\n",
              "      <td>insufficient</td>\n",
              "      <td>shallow well</td>\n",
              "      <td>shallow well</td>\n",
              "      <td>groundwater</td>\n",
              "      <td>hand pump</td>\n",
              "      <td>hand pump</td>\n",
              "      <td>functional</td>\n",
              "    </tr>\n",
              "    <tr>\n",
              "      <th>313</th>\n",
              "      <td>1298</td>\n",
              "      <td>0.0</td>\n",
              "      <td>2011-07-31</td>\n",
              "      <td>Government Of Tanzania</td>\n",
              "      <td>0</td>\n",
              "      <td>DWE</td>\n",
              "      <td>30.716727</td>\n",
              "      <td>-1.289055</td>\n",
              "      <td>Kwajovin 2</td>\n",
              "      <td>0</td>\n",
              "      <td>Lake Victoria</td>\n",
              "      <td>Kihanga</td>\n",
              "      <td>Kagera</td>\n",
              "      <td>18</td>\n",
              "      <td>1</td>\n",
              "      <td>Karagwe</td>\n",
              "      <td>Isingiro</td>\n",
              "      <td>0</td>\n",
              "      <td>True</td>\n",
              "      <td>GeoData Consultants Ltd</td>\n",
              "      <td>NaN</td>\n",
              "      <td>NaN</td>\n",
              "      <td>True</td>\n",
              "      <td>0</td>\n",
              "      <td>other</td>\n",
              "      <td>other</td>\n",
              "      <td>other</td>\n",
              "      <td>vwc</td>\n",
              "      <td>user-group</td>\n",
              "      <td>never pay</td>\n",
              "      <td>never pay</td>\n",
              "      <td>soft</td>\n",
              "      <td>good</td>\n",
              "      <td>enough</td>\n",
              "      <td>enough</td>\n",
              "      <td>shallow well</td>\n",
              "      <td>shallow well</td>\n",
              "      <td>groundwater</td>\n",
              "      <td>other</td>\n",
              "      <td>other</td>\n",
              "      <td>non functional</td>\n",
              "    </tr>\n",
              "    <tr>\n",
              "      <th>52726</th>\n",
              "      <td>27001</td>\n",
              "      <td>0.0</td>\n",
              "      <td>2011-03-10</td>\n",
              "      <td>Water</td>\n",
              "      <td>0</td>\n",
              "      <td>Gove</td>\n",
              "      <td>35.389331</td>\n",
              "      <td>-6.399942</td>\n",
              "      <td>Chama</td>\n",
              "      <td>0</td>\n",
              "      <td>Internal</td>\n",
              "      <td>Mtakuj</td>\n",
              "      <td>Dodoma</td>\n",
              "      <td>1</td>\n",
              "      <td>6</td>\n",
              "      <td>Bahi</td>\n",
              "      <td>Nondwa</td>\n",
              "      <td>0</td>\n",
              "      <td>True</td>\n",
              "      <td>GeoData Consultants Ltd</td>\n",
              "      <td>VWC</td>\n",
              "      <td>Zeje</td>\n",
              "      <td>True</td>\n",
              "      <td>0</td>\n",
              "      <td>mono</td>\n",
              "      <td>mono</td>\n",
              "      <td>motorpump</td>\n",
              "      <td>vwc</td>\n",
              "      <td>user-group</td>\n",
              "      <td>pay per bucket</td>\n",
              "      <td>per bucket</td>\n",
              "      <td>soft</td>\n",
              "      <td>good</td>\n",
              "      <td>enough</td>\n",
              "      <td>enough</td>\n",
              "      <td>machine dbh</td>\n",
              "      <td>borehole</td>\n",
              "      <td>groundwater</td>\n",
              "      <td>communal standpipe</td>\n",
              "      <td>communal standpipe</td>\n",
              "      <td>functional</td>\n",
              "    </tr>\n",
              "  </tbody>\n",
              "</table>\n",
              "</div>"
            ],
            "text/plain": [
              "          id  amount_tsh  ... waterpoint_type_group    status_group\n",
              "43360  72938         0.0  ...    communal standpipe      functional\n",
              "7263   65358       500.0  ...    communal standpipe      functional\n",
              "2486     469        25.0  ...             hand pump      functional\n",
              "313     1298         0.0  ...                 other  non functional\n",
              "52726  27001         0.0  ...    communal standpipe      functional\n",
              "\n",
              "[5 rows x 41 columns]"
            ]
          },
          "metadata": {
            "tags": []
          },
          "execution_count": 4
        }
      ]
    },
    {
      "cell_type": "code",
      "metadata": {
        "id": "J_u02YpQ5LkP",
        "colab_type": "code",
        "colab": {
          "base_uri": "https://localhost:8080/",
          "height": 204
        },
        "outputId": "86a310c6-3575-46e0-da51-bf1b70b3e724"
      },
      "source": [
        "train.columns"
      ],
      "execution_count": 5,
      "outputs": [
        {
          "output_type": "execute_result",
          "data": {
            "text/plain": [
              "Index(['id', 'amount_tsh', 'date_recorded', 'funder', 'gps_height',\n",
              "       'installer', 'longitude', 'latitude', 'wpt_name', 'num_private',\n",
              "       'basin', 'subvillage', 'region', 'region_code', 'district_code', 'lga',\n",
              "       'ward', 'population', 'public_meeting', 'recorded_by',\n",
              "       'scheme_management', 'scheme_name', 'permit', 'construction_year',\n",
              "       'extraction_type', 'extraction_type_group', 'extraction_type_class',\n",
              "       'management', 'management_group', 'payment', 'payment_type',\n",
              "       'water_quality', 'quality_group', 'quantity', 'quantity_group',\n",
              "       'source', 'source_type', 'source_class', 'waterpoint_type',\n",
              "       'waterpoint_type_group', 'status_group'],\n",
              "      dtype='object')"
            ]
          },
          "metadata": {
            "tags": []
          },
          "execution_count": 5
        }
      ]
    },
    {
      "cell_type": "code",
      "metadata": {
        "id": "KC0oR4JewfDI",
        "colab_type": "code",
        "colab": {}
      },
      "source": [
        "#side note, I'm really glad to see some of the stuff wrangled and caugh last\n",
        "#assignment showed up in lecture notebook.  Glad to know I'm on the right track\n",
        "import numpy as np\n",
        "\n",
        "\n",
        "def wrangle(df):\n",
        "\n",
        "  #deep copy since we are changing values and the shape of our data. Don't want\n",
        "  #any warnings.\n",
        "  df = df.copy()\n",
        "\n",
        "  #Changing the almost zeros to zero on latitude.  Zero latitude is definitely\n",
        "  #a mistake, as it is on another part of the world\n",
        "\n",
        "  df['latitude'] = df['latitude'].replace(-2e08, 0)\n",
        "\n",
        "  #last assignment I explored and found what columns had too many zeros, so we\n",
        "  #are just going to build off that.\n",
        "  columns = ['gps_height', 'longitude', 'latitude', 'population', \n",
        "             'construction_year']\n",
        "\n",
        "  for column in columns:\n",
        "    df[column].replace(0, np.nan, inplace = True)\n",
        "\n",
        "    #I'm taking this from the lecture note book.  I suspect what we are doing\n",
        "    #is creating a boolean column, to identify which of our data is collected\n",
        "    #vs imputed(happening later in the pipeline).  Then our model may make\n",
        "    #better decisions, because it can weigh the importance of imputed vs\n",
        "    #collected data.  Just a theory.\n",
        "\n",
        "    #quote from Xander: missing values may be a predictive signal\n",
        "    df[column+'_MISSING'] = df[column].isnull()\n",
        "\n",
        "  #drop the dupes\n",
        "  df.drop(columns = ['quantity_group', 'payment_type'], inplace = True)\n",
        "\n",
        "  #drop never varying, and always varying columns\n",
        "  df.drop(columns = ['recorded_by', 'id'], inplace = True)\n",
        "\n",
        "  #Convert date_recorded to dattime\n",
        "  df['date_recorded'] = pd.to_datetime(df['date_recorded'], \n",
        "                                       infer_datetime_format = True)\n",
        "  \n",
        "  #making date more usable by extracting month, day and year\n",
        "  df['year_recorded'] = df['date_recorded'].dt.year\n",
        "  df['month_recorded'] = df['date_recorded'].dt.month\n",
        "  df['day_recorded'] = df['date_recorded'].dt.day\n",
        "\n",
        "  #dropping the datetime column\n",
        "  df.drop(columns = 'date_recorded', inplace = True)\n",
        "\n",
        "  #Cool feature I'm borrowing from class: How many years from construction to\n",
        "  #date recorded\n",
        "  df['years'] = df['year_recorded'] - df['construction_year']\n",
        "  df['years_MISSING'] = df['years'].isnull()\n",
        "\n",
        "  return df"
      ],
      "execution_count": 0,
      "outputs": []
    },
    {
      "cell_type": "code",
      "metadata": {
        "id": "DH553Ppu7hTd",
        "colab_type": "code",
        "colab": {}
      },
      "source": [
        "train = wrangle(train)\n",
        "val = wrangle(val)\n",
        "test = wrangle(test)"
      ],
      "execution_count": 0,
      "outputs": []
    },
    {
      "cell_type": "markdown",
      "metadata": {
        "id": "jxE6T3PW6xkZ",
        "colab_type": "text"
      },
      "source": [
        "#Baseline\n",
        "Okay, I'm going to use an mvp based off our lecture notes as my baseline.  I will then form some hypothesis, test them, and incorporate them into my final model.  Hopefully through this iterative process I can improve my accuracy."
      ]
    },
    {
      "cell_type": "code",
      "metadata": {
        "id": "TSqWuq8q_NxS",
        "colab_type": "code",
        "colab": {}
      },
      "source": [
        "#since we are doing ordinal encoding, all I really need is to identify my target\n",
        "target = 'status_group'\n",
        "\n",
        "X_train = train.drop(columns = target)\n",
        "y_train = train[target]\n",
        "X_val = val.drop(columns = target)\n",
        "y_val = val[target]\n",
        "#no need to drop from test features, it is already dropped."
      ],
      "execution_count": 0,
      "outputs": []
    },
    {
      "cell_type": "code",
      "metadata": {
        "id": "WiuUttbnlOta",
        "colab_type": "code",
        "colab": {
          "base_uri": "https://localhost:8080/",
          "height": 34
        },
        "outputId": "dd01ee70-734c-4bdb-fb82-85ee5f1ee361"
      },
      "source": [
        "X_train.shape, X_val.shape, test.shape"
      ],
      "execution_count": 9,
      "outputs": [
        {
          "output_type": "execute_result",
          "data": {
            "text/plain": [
              "((47520, 45), (11880, 45), (14358, 45))"
            ]
          },
          "metadata": {
            "tags": []
          },
          "execution_count": 9
        }
      ]
    },
    {
      "cell_type": "code",
      "metadata": {
        "id": "FH2kr-pY6rYr",
        "colab_type": "code",
        "colab": {
          "base_uri": "https://localhost:8080/",
          "height": 85
        },
        "outputId": "10b15edf-f141-4913-f1f8-1fb863d80595"
      },
      "source": [
        "%%time\n",
        "\n",
        "import category_encoders as ce\n",
        "from sklearn.impute import SimpleImputer\n",
        "from sklearn.ensemble import RandomForestClassifier\n",
        "from sklearn.pipeline import make_pipeline\n",
        "\n",
        "pipeline = make_pipeline(\n",
        "    ce.OrdinalEncoder(),\n",
        "    SimpleImputer(strategy = 'mean'),\n",
        "    RandomForestClassifier(n_jobs = -1, random_state = 42)\n",
        ")\n",
        "\n",
        "pipeline.fit(X_train, y_train)\n",
        "print('Training Accuracy: ', pipeline.score(X_train, y_train))\n",
        "print('Validation Accuracy: ', pipeline.score(X_val, y_val))"
      ],
      "execution_count": 10,
      "outputs": [
        {
          "output_type": "stream",
          "text": [
            "Training Accuracy:  0.9999789562289563\n",
            "Validation Accuracy:  0.8104377104377104\n",
            "CPU times: user 21.5 s, sys: 326 ms, total: 21.8 s\n",
            "Wall time: 12.1 s\n"
          ],
          "name": "stdout"
        }
      ]
    },
    {
      "cell_type": "code",
      "metadata": {
        "id": "6ChXzoK9xuQt",
        "colab_type": "code",
        "colab": {
          "base_uri": "https://localhost:8080/",
          "height": 1000
        },
        "outputId": "11b0f0d5-6a20-4cae-c42e-941260124f93"
      },
      "source": [
        "import matplotlib.pyplot as plt\n",
        "\n",
        "model = pipeline.named_steps['randomforestclassifier']\n",
        "encoder = pipeline.named_steps['ordinalencoder']\n",
        "\n",
        "encoded_columns = encoder.transform(X_val).columns\n",
        "coefficients = pd.Series(model.feature_importances_, encoded_columns)\n",
        "plt.figure(figsize = (10, 30))\n",
        "coefficients.sort_values().plot.barh(color = 'red');"
      ],
      "execution_count": 15,
      "outputs": [
        {
          "output_type": "display_data",
          "data": {
            "image/png": "[encoded data removed]",
            "text/plain": [
              "<Figure size 720x2160 with 1 Axes>"
            ]
          },
          "metadata": {
            "tags": []
          }
        }
      ]
    },
    {
      "cell_type": "markdown",
      "metadata": {
        "id": "4XkZYB9AD4rg",
        "colab_type": "text"
      },
      "source": [
        "#Hypothesis #1\n",
        "Target Encoding will improved accuracy over ordinal encoding."
      ]
    },
    {
      "cell_type": "code",
      "metadata": {
        "id": "3N6HrkQH_KIZ",
        "colab_type": "code",
        "colab": {
          "base_uri": "https://localhost:8080/",
          "height": 1000
        },
        "outputId": "77a57e56-50f5-4249-ad8d-7d0dbf2407a4"
      },
      "source": [
        "%%time\n",
        "\n",
        "for i in range(2, 41, 5):\n",
        "  for j in range(2, 41, 5):\n",
        "\n",
        "    encoder = ce.TargetEncoder(min_samples_leaf = i, smoothing = j)\n",
        "\n",
        "    X_train_encoded = encoder.fit_transform(X_train, y_train == 'functional')\n",
        "    X_val_encoded = encoder.transform(X_val)\n",
        "\n",
        "    pipeline = make_pipeline(\n",
        "        SimpleImputer(strategy = 'mean'),\n",
        "        RandomForestClassifier(n_jobs = -1, random_state = 42)\n",
        "    )\n",
        "\n",
        "    pipeline.fit(X_train_encoded, y_train)\n",
        "    print('min_samples_leaf: ', i)\n",
        "    print('smoothing: ', j)\n",
        "    print('Training Accuracy: ', pipeline.score(X_train_encoded, y_train))\n",
        "    print('Validation Accuracy: ', pipeline.score(X_val_encoded, y_val))"
      ],
      "execution_count": 34,
      "outputs": [
        {
          "output_type": "stream",
          "text": [
            "min_samples_leaf:  2\n",
            "smoothing:  2\n",
            "Training Accuracy:  0.9999368686868687\n",
            "Validation Accuracy:  0.7886363636363637\n",
            "min_samples_leaf:  2\n",
            "smoothing:  7\n",
            "Training Accuracy:  0.9999158249158249\n",
            "Validation Accuracy:  0.7882996632996633\n",
            "min_samples_leaf:  2\n",
            "smoothing:  12\n",
            "Training Accuracy:  0.9999368686868687\n",
            "Validation Accuracy:  0.787962962962963\n",
            "min_samples_leaf:  2\n",
            "smoothing:  17\n",
            "Training Accuracy:  0.9999158249158249\n",
            "Validation Accuracy:  0.7864478114478114\n",
            "min_samples_leaf:  2\n",
            "smoothing:  22\n",
            "Training Accuracy:  0.9998947811447811\n",
            "Validation Accuracy:  0.7851010101010101\n",
            "min_samples_leaf:  2\n",
            "smoothing:  27\n",
            "Training Accuracy:  0.9999368686868687\n",
            "Validation Accuracy:  0.7844276094276095\n",
            "min_samples_leaf:  2\n",
            "smoothing:  32\n",
            "Training Accuracy:  0.9999158249158249\n",
            "Validation Accuracy:  0.7831649831649832\n",
            "min_samples_leaf:  2\n",
            "smoothing:  37\n",
            "Training Accuracy:  0.9999158249158249\n",
            "Validation Accuracy:  0.7859427609427609\n",
            "min_samples_leaf:  7\n",
            "smoothing:  2\n",
            "Training Accuracy:  0.9998947811447811\n",
            "Validation Accuracy:  0.7965488215488216\n",
            "min_samples_leaf:  7\n",
            "smoothing:  7\n",
            "Training Accuracy:  0.9999158249158249\n",
            "Validation Accuracy:  0.787962962962963\n",
            "min_samples_leaf:  7\n",
            "smoothing:  12\n",
            "Training Accuracy:  0.9999158249158249\n",
            "Validation Accuracy:  0.788047138047138\n",
            "min_samples_leaf:  7\n",
            "smoothing:  17\n",
            "Training Accuracy:  0.9999368686868687\n",
            "Validation Accuracy:  0.7861111111111111\n",
            "min_samples_leaf:  7\n",
            "smoothing:  22\n",
            "Training Accuracy:  0.9999158249158249\n",
            "Validation Accuracy:  0.7835016835016835\n",
            "min_samples_leaf:  7\n",
            "smoothing:  27\n",
            "Training Accuracy:  0.9999368686868687\n",
            "Validation Accuracy:  0.7851851851851852\n",
            "min_samples_leaf:  7\n",
            "smoothing:  32\n",
            "Training Accuracy:  0.9999368686868687\n",
            "Validation Accuracy:  0.7845117845117845\n",
            "min_samples_leaf:  7\n",
            "smoothing:  37\n",
            "Training Accuracy:  0.9999158249158249\n",
            "Validation Accuracy:  0.7861952861952862\n",
            "min_samples_leaf:  12\n",
            "smoothing:  2\n",
            "Training Accuracy:  0.9999368686868687\n",
            "Validation Accuracy:  0.793939393939394\n",
            "min_samples_leaf:  12\n",
            "smoothing:  7\n",
            "Training Accuracy:  0.9999368686868687\n",
            "Validation Accuracy:  0.796043771043771\n",
            "min_samples_leaf:  12\n",
            "smoothing:  12\n",
            "Training Accuracy:  0.9999158249158249\n",
            "Validation Accuracy:  0.7903198653198653\n",
            "min_samples_leaf:  12\n",
            "smoothing:  17\n",
            "Training Accuracy:  0.9999158249158249\n",
            "Validation Accuracy:  0.7878787878787878\n",
            "min_samples_leaf:  12\n",
            "smoothing:  22\n",
            "Training Accuracy:  0.9999158249158249\n",
            "Validation Accuracy:  0.7861952861952862\n",
            "min_samples_leaf:  12\n",
            "smoothing:  27\n",
            "Training Accuracy:  0.9999368686868687\n",
            "Validation Accuracy:  0.784006734006734\n",
            "min_samples_leaf:  12\n",
            "smoothing:  32\n",
            "Training Accuracy:  0.9999368686868687\n",
            "Validation Accuracy:  0.7824074074074074\n",
            "min_samples_leaf:  12\n",
            "smoothing:  37\n",
            "Training Accuracy:  0.9999158249158249\n",
            "Validation Accuracy:  0.7822390572390573\n",
            "min_samples_leaf:  17\n",
            "smoothing:  2\n",
            "Training Accuracy:  0.9999158249158249\n",
            "Validation Accuracy:  0.7962121212121213\n",
            "min_samples_leaf:  17\n",
            "smoothing:  7\n",
            "Training Accuracy:  0.9998947811447811\n",
            "Validation Accuracy:  0.794949494949495\n",
            "min_samples_leaf:  17\n",
            "smoothing:  12\n",
            "Training Accuracy:  0.9999158249158249\n",
            "Validation Accuracy:  0.7898989898989899\n",
            "min_samples_leaf:  17\n",
            "smoothing:  17\n",
            "Training Accuracy:  0.9999158249158249\n",
            "Validation Accuracy:  0.7883838383838384\n",
            "min_samples_leaf:  17\n",
            "smoothing:  22\n",
            "Training Accuracy:  0.9999368686868687\n",
            "Validation Accuracy:  0.7850168350168351\n",
            "min_samples_leaf:  17\n",
            "smoothing:  27\n",
            "Training Accuracy:  0.9999368686868687\n",
            "Validation Accuracy:  0.7873737373737374\n",
            "min_samples_leaf:  17\n",
            "smoothing:  32\n",
            "Training Accuracy:  0.9999158249158249\n",
            "Validation Accuracy:  0.7840909090909091\n",
            "min_samples_leaf:  17\n",
            "smoothing:  37\n",
            "Training Accuracy:  0.9999158249158249\n",
            "Validation Accuracy:  0.7860269360269361\n",
            "min_samples_leaf:  22\n",
            "smoothing:  2\n",
            "Training Accuracy:  0.9998947811447811\n",
            "Validation Accuracy:  0.7930134680134681\n",
            "min_samples_leaf:  22\n",
            "smoothing:  7\n",
            "Training Accuracy:  0.9998947811447811\n",
            "Validation Accuracy:  0.7932659932659932\n",
            "min_samples_leaf:  22\n",
            "smoothing:  12\n",
            "Training Accuracy:  0.9999368686868687\n",
            "Validation Accuracy:  0.790993265993266\n",
            "min_samples_leaf:  22\n",
            "smoothing:  17\n",
            "Training Accuracy:  0.9999158249158249\n",
            "Validation Accuracy:  0.7892255892255893\n",
            "min_samples_leaf:  22\n",
            "smoothing:  22\n",
            "Training Accuracy:  0.9999158249158249\n",
            "Validation Accuracy:  0.7872895622895623\n",
            "min_samples_leaf:  22\n",
            "smoothing:  27\n",
            "Training Accuracy:  0.9998947811447811\n",
            "Validation Accuracy:  0.7867845117845118\n",
            "min_samples_leaf:  22\n",
            "smoothing:  32\n",
            "Training Accuracy:  0.9999368686868687\n",
            "Validation Accuracy:  0.7848484848484848\n",
            "min_samples_leaf:  22\n",
            "smoothing:  37\n",
            "Training Accuracy:  0.9999368686868687\n",
            "Validation Accuracy:  0.7850168350168351\n",
            "min_samples_leaf:  27\n",
            "smoothing:  2\n",
            "Training Accuracy:  0.9998526936026936\n",
            "Validation Accuracy:  0.7945286195286195\n",
            "min_samples_leaf:  27\n",
            "smoothing:  7\n",
            "Training Accuracy:  0.9998947811447811\n",
            "Validation Accuracy:  0.7951178451178451\n",
            "min_samples_leaf:  27\n",
            "smoothing:  12\n",
            "Training Accuracy:  0.9999368686868687\n",
            "Validation Accuracy:  0.7936026936026936\n",
            "min_samples_leaf:  27\n",
            "smoothing:  17\n",
            "Training Accuracy:  0.9998947811447811\n",
            "Validation Accuracy:  0.7906565656565656\n",
            "min_samples_leaf:  27\n",
            "smoothing:  22\n",
            "Training Accuracy:  0.9998947811447811\n",
            "Validation Accuracy:  0.7903198653198653\n",
            "min_samples_leaf:  27\n",
            "smoothing:  27\n",
            "Training Accuracy:  0.9999158249158249\n",
            "Validation Accuracy:  0.7858585858585858\n",
            "min_samples_leaf:  27\n",
            "smoothing:  32\n",
            "Training Accuracy:  0.9999158249158249\n",
            "Validation Accuracy:  0.7872895622895623\n",
            "min_samples_leaf:  27\n",
            "smoothing:  37\n",
            "Training Accuracy:  0.9999158249158249\n",
            "Validation Accuracy:  0.7866161616161617\n",
            "min_samples_leaf:  32\n",
            "smoothing:  2\n",
            "Training Accuracy:  0.9997053872053872\n",
            "Validation Accuracy:  0.8112794612794613\n",
            "min_samples_leaf:  32\n",
            "smoothing:  7\n",
            "Training Accuracy:  0.9998947811447811\n",
            "Validation Accuracy:  0.7932659932659932\n",
            "min_samples_leaf:  32\n",
            "smoothing:  12\n",
            "Training Accuracy:  0.9999158249158249\n",
            "Validation Accuracy:  0.7936026936026936\n",
            "min_samples_leaf:  32\n",
            "smoothing:  17\n",
            "Training Accuracy:  0.9998737373737374\n",
            "Validation Accuracy:  0.7941077441077441\n",
            "min_samples_leaf:  32\n",
            "smoothing:  22\n",
            "Training Accuracy:  0.9999158249158249\n",
            "Validation Accuracy:  0.7898989898989899\n",
            "min_samples_leaf:  32\n",
            "smoothing:  27\n",
            "Training Accuracy:  0.9999158249158249\n",
            "Validation Accuracy:  0.7888047138047138\n",
            "min_samples_leaf:  32\n",
            "smoothing:  32\n",
            "Training Accuracy:  0.9999158249158249\n",
            "Validation Accuracy:  0.7878787878787878\n",
            "min_samples_leaf:  32\n",
            "smoothing:  37\n",
            "Training Accuracy:  0.9999368686868687\n",
            "Validation Accuracy:  0.7856060606060606\n",
            "min_samples_leaf:  37\n",
            "smoothing:  2\n",
            "Training Accuracy:  0.9994949494949495\n",
            "Validation Accuracy:  0.8095959595959596\n",
            "min_samples_leaf:  37\n",
            "smoothing:  7\n",
            "Training Accuracy:  0.9999368686868687\n",
            "Validation Accuracy:  0.7926767676767676\n",
            "min_samples_leaf:  37\n",
            "smoothing:  12\n",
            "Training Accuracy:  0.9999368686868687\n",
            "Validation Accuracy:  0.7953703703703704\n",
            "min_samples_leaf:  37\n",
            "smoothing:  17\n",
            "Training Accuracy:  0.9998737373737374\n",
            "Validation Accuracy:  0.7929292929292929\n",
            "min_samples_leaf:  37\n",
            "smoothing:  22\n",
            "Training Accuracy:  0.9999158249158249\n",
            "Validation Accuracy:  0.7914983164983165\n",
            "min_samples_leaf:  37\n",
            "smoothing:  27\n",
            "Training Accuracy:  0.9999368686868687\n",
            "Validation Accuracy:  0.7906565656565656\n",
            "min_samples_leaf:  37\n",
            "smoothing:  32\n",
            "Training Accuracy:  0.9999368686868687\n",
            "Validation Accuracy:  0.7856902356902357\n",
            "min_samples_leaf:  37\n",
            "smoothing:  37\n",
            "Training Accuracy:  0.9999158249158249\n",
            "Validation Accuracy:  0.7851851851851852\n",
            "CPU times: user 23min 24s, sys: 15.6 s, total: 23min 39s\n",
            "Wall time: 13min 32s\n"
          ],
          "name": "stdout"
        }
      ]
    },
    {
      "cell_type": "markdown",
      "metadata": {
        "id": "UVob6H6GOA7S",
        "colab_type": "text"
      },
      "source": [
        "Unconfigured it didn't increase my accuracy, but after some reading I realized that I need to tweak the hyper parameters, and that it isn't really an encoder you can just \"set and forget\".  So I jumped in and started tweaking.\n",
        "I couldn't get much better than 78% So hypothesis failed to disprove null hypo."
      ]
    },
    {
      "cell_type": "markdown",
      "metadata": {
        "id": "N_--U5uwosGV",
        "colab_type": "text"
      },
      "source": [
        "#Hypothesis 2\n",
        "Weight of Evidence encoder will improve accuracy."
      ]
    },
    {
      "cell_type": "code",
      "metadata": {
        "id": "pm3FFqKCo8IZ",
        "colab_type": "code",
        "colab": {
          "base_uri": "https://localhost:8080/",
          "height": 85
        },
        "outputId": "a2e23c3a-079c-43f8-b964-0d87ad0e84d9"
      },
      "source": [
        "%%time\n",
        "\n",
        "\n",
        "encoder = ce.woe.WOEEncoder(handle_missing = 'return_nan')\n",
        "\n",
        "X_train_encoded = encoder.fit_transform(X_train, y_train == 'functional')\n",
        "X_val_encoded = encoder.transform(X_val)\n",
        "\n",
        "pipeline = make_pipeline(\n",
        "    SimpleImputer(strategy = 'mean'),\n",
        "    RandomForestClassifier(n_jobs = -1, random_state = 42)\n",
        ")\n",
        "\n",
        "pipeline.fit(X_train_encoded, y_train)\n",
        "print('Training Accuracy: ', pipeline.score(X_train_encoded, y_train))\n",
        "print('Validation Accuracy: ', pipeline.score(X_val_encoded, y_val))"
      ],
      "execution_count": 38,
      "outputs": [
        {
          "output_type": "stream",
          "text": [
            "Training Accuracy:  0.9999158249158249\n",
            "Validation Accuracy:  0.7892255892255893\n",
            "CPU times: user 22 s, sys: 231 ms, total: 22.2 s\n",
            "Wall time: 12.6 s\n"
          ],
          "name": "stdout"
        }
      ]
    },
    {
      "cell_type": "markdown",
      "metadata": {
        "id": "fY89g00ny8iF",
        "colab_type": "text"
      },
      "source": [
        "again didn't increase the accuracy.  Going to stick with ordinal encoder, and try a different strategy."
      ]
    },
    {
      "cell_type": "markdown",
      "metadata": {
        "id": "S8ZhK-kOzQ-m",
        "colab_type": "text"
      },
      "source": [
        "#Hypothesis 3\n",
        "Feature engineering based off the top three features graphed above will increase accuracy."
      ]
    },
    {
      "cell_type": "code",
      "metadata": {
        "id": "VYoTg1sqy67V",
        "colab_type": "code",
        "colab": {}
      },
      "source": [
        "#so we have quantity, latitutde, and longitude.\n",
        "#so I know from past assignments that quantity_dry is the most predictive part\n",
        "#of the quantity column.  So I wonder if distance from a dry well could be\n",
        "#predictive.  Like say maybe a the well's dryness is not strictly a mechanical\n",
        "#feature, but could be a location feature (like the watershed in that area\n",
        "#is dried up). I think latitude and longitude being the second best predictors\n",
        "#might actually suggest that as well.\n",
        "\n",
        "#so maybe what I do, is create a df of only the dry wells, and their lat/long\n",
        "#positions.  Then every well should have a distance to the nearest dry well\n",
        "#that is not itself.  That becomes its own column, distance to nearest drywell"
      ],
      "execution_count": 0,
      "outputs": []
    },
    {
      "cell_type": "code",
      "metadata": {
        "id": "x_rjiRCD1YxB",
        "colab_type": "code",
        "colab": {
          "base_uri": "https://localhost:8080/",
          "height": 221
        },
        "outputId": "b3ba9a37-5443-4ba1-ac15-33e93e0d9b7d"
      },
      "source": [
        "id_series = train_original[train_original['quantity'] == 'dry']['id']\n",
        "\n",
        "dry_well = wrangle(train_original)\n",
        "\n",
        "dry_well = dry_well[dry_well['quantity'] == 'dry']\n",
        "\n",
        "dry_well = dry_well[['quantity', 'latitude', 'longitude']]\n",
        "\n",
        "print(dry_well.shape, id_series.shape)\n",
        "dry_well.head()"
      ],
      "execution_count": 17,
      "outputs": [
        {
          "output_type": "stream",
          "text": [
            "(6246, 3) (6246,)\n"
          ],
          "name": "stdout"
        },
        {
          "output_type": "execute_result",
          "data": {
            "text/html": [
              "<div>\n",
              "<style scoped>\n",
              "    .dataframe tbody tr th:only-of-type {\n",
              "        vertical-align: middle;\n",
              "    }\n",
              "\n",
              "    .dataframe tbody tr th {\n",
              "        vertical-align: top;\n",
              "    }\n",
              "\n",
              "    .dataframe thead th {\n",
              "        text-align: right;\n",
              "    }\n",
              "</style>\n",
              "<table border=\"1\" class=\"dataframe\">\n",
              "  <thead>\n",
              "    <tr style=\"text-align: right;\">\n",
              "      <th></th>\n",
              "      <th>quantity</th>\n",
              "      <th>latitude</th>\n",
              "      <th>longitude</th>\n",
              "    </tr>\n",
              "  </thead>\n",
              "  <tbody>\n",
              "    <tr>\n",
              "      <th>3</th>\n",
              "      <td>dry</td>\n",
              "      <td>-11.155298</td>\n",
              "      <td>38.486161</td>\n",
              "    </tr>\n",
              "    <tr>\n",
              "      <th>16</th>\n",
              "      <td>dry</td>\n",
              "      <td>-9.106185</td>\n",
              "      <td>34.642439</td>\n",
              "    </tr>\n",
              "    <tr>\n",
              "      <th>17</th>\n",
              "      <td>dry</td>\n",
              "      <td>-9.085515</td>\n",
              "      <td>34.569266</td>\n",
              "    </tr>\n",
              "    <tr>\n",
              "      <th>36</th>\n",
              "      <td>dry</td>\n",
              "      <td>-9.638520</td>\n",
              "      <td>33.854345</td>\n",
              "    </tr>\n",
              "    <tr>\n",
              "      <th>43</th>\n",
              "      <td>dry</td>\n",
              "      <td>-4.628921</td>\n",
              "      <td>34.967789</td>\n",
              "    </tr>\n",
              "  </tbody>\n",
              "</table>\n",
              "</div>"
            ],
            "text/plain": [
              "   quantity   latitude  longitude\n",
              "3       dry -11.155298  38.486161\n",
              "16      dry  -9.106185  34.642439\n",
              "17      dry  -9.085515  34.569266\n",
              "36      dry  -9.638520  33.854345\n",
              "43      dry  -4.628921  34.967789"
            ]
          },
          "metadata": {
            "tags": []
          },
          "execution_count": 17
        }
      ]
    },
    {
      "cell_type": "code",
      "metadata": {
        "id": "P5QXRihh2yTg",
        "colab_type": "code",
        "colab": {
          "base_uri": "https://localhost:8080/",
          "height": 119
        },
        "outputId": "0af70b67-9319-44e0-b1c4-5367ac463f1f"
      },
      "source": [
        "id_series.head()"
      ],
      "execution_count": 18,
      "outputs": [
        {
          "output_type": "execute_result",
          "data": {
            "text/plain": [
              "3     67743\n",
              "16    48451\n",
              "17    58155\n",
              "36    67359\n",
              "43    19282\n",
              "Name: id, dtype: int64"
            ]
          },
          "metadata": {
            "tags": []
          },
          "execution_count": 18
        }
      ]
    },
    {
      "cell_type": "code",
      "metadata": {
        "id": "TnqN5PN932uu",
        "colab_type": "code",
        "colab": {
          "base_uri": "https://localhost:8080/",
          "height": 221
        },
        "outputId": "52a50ba3-6215-405a-8b84-234e9741c86d"
      },
      "source": [
        "dry_well['id'] = id_series\n",
        "print(dry_well.shape)\n",
        "dry_well.head()"
      ],
      "execution_count": 19,
      "outputs": [
        {
          "output_type": "stream",
          "text": [
            "(6246, 4)\n"
          ],
          "name": "stdout"
        },
        {
          "output_type": "execute_result",
          "data": {
            "text/html": [
              "<div>\n",
              "<style scoped>\n",
              "    .dataframe tbody tr th:only-of-type {\n",
              "        vertical-align: middle;\n",
              "    }\n",
              "\n",
              "    .dataframe tbody tr th {\n",
              "        vertical-align: top;\n",
              "    }\n",
              "\n",
              "    .dataframe thead th {\n",
              "        text-align: right;\n",
              "    }\n",
              "</style>\n",
              "<table border=\"1\" class=\"dataframe\">\n",
              "  <thead>\n",
              "    <tr style=\"text-align: right;\">\n",
              "      <th></th>\n",
              "      <th>quantity</th>\n",
              "      <th>latitude</th>\n",
              "      <th>longitude</th>\n",
              "      <th>id</th>\n",
              "    </tr>\n",
              "  </thead>\n",
              "  <tbody>\n",
              "    <tr>\n",
              "      <th>3</th>\n",
              "      <td>dry</td>\n",
              "      <td>-11.155298</td>\n",
              "      <td>38.486161</td>\n",
              "      <td>67743</td>\n",
              "    </tr>\n",
              "    <tr>\n",
              "      <th>16</th>\n",
              "      <td>dry</td>\n",
              "      <td>-9.106185</td>\n",
              "      <td>34.642439</td>\n",
              "      <td>48451</td>\n",
              "    </tr>\n",
              "    <tr>\n",
              "      <th>17</th>\n",
              "      <td>dry</td>\n",
              "      <td>-9.085515</td>\n",
              "      <td>34.569266</td>\n",
              "      <td>58155</td>\n",
              "    </tr>\n",
              "    <tr>\n",
              "      <th>36</th>\n",
              "      <td>dry</td>\n",
              "      <td>-9.638520</td>\n",
              "      <td>33.854345</td>\n",
              "      <td>67359</td>\n",
              "    </tr>\n",
              "    <tr>\n",
              "      <th>43</th>\n",
              "      <td>dry</td>\n",
              "      <td>-4.628921</td>\n",
              "      <td>34.967789</td>\n",
              "      <td>19282</td>\n",
              "    </tr>\n",
              "  </tbody>\n",
              "</table>\n",
              "</div>"
            ],
            "text/plain": [
              "   quantity   latitude  longitude     id\n",
              "3       dry -11.155298  38.486161  67743\n",
              "16      dry  -9.106185  34.642439  48451\n",
              "17      dry  -9.085515  34.569266  58155\n",
              "36      dry  -9.638520  33.854345  67359\n",
              "43      dry  -4.628921  34.967789  19282"
            ]
          },
          "metadata": {
            "tags": []
          },
          "execution_count": 19
        }
      ]
    },
    {
      "cell_type": "code",
      "metadata": {
        "id": "o9BpmVim4AaE",
        "colab_type": "code",
        "colab": {
          "base_uri": "https://localhost:8080/",
          "height": 119
        },
        "outputId": "644f9e9b-c478-43ee-ac8a-124ff846ff7b"
      },
      "source": [
        "print(dry_well['longitude'].mean())\n",
        "dry_well.isnull().sum()"
      ],
      "execution_count": 20,
      "outputs": [
        {
          "output_type": "stream",
          "text": [
            "35.18865795424708\n"
          ],
          "name": "stdout"
        },
        {
          "output_type": "execute_result",
          "data": {
            "text/plain": [
              "quantity       0\n",
              "latitude       0\n",
              "longitude    256\n",
              "id             0\n",
              "dtype: int64"
            ]
          },
          "metadata": {
            "tags": []
          },
          "execution_count": 20
        }
      ]
    },
    {
      "cell_type": "code",
      "metadata": {
        "id": "wfpbAU5A4EW7",
        "colab_type": "code",
        "colab": {
          "base_uri": "https://localhost:8080/",
          "height": 102
        },
        "outputId": "52e04667-e996-4202-a12d-6b69bf9387ad"
      },
      "source": [
        "#hmmmmmmmmm i could impute here, but if I did median it would for sure skew\n",
        "#the results from my imputing in the pipeline.  I could drop, but I don't\n",
        "#which might be safer, but then I add some variability to my engineered feature\n",
        "\n",
        "#no choice is perfect, so I will elect to yeet the data, and impute here.  Then\n",
        "#I can use the ID to prevent any crazy distances (like a drywell thinking it is\n",
        "#closest to itself because I was off by a few hundred meters or something)\n",
        "\n",
        "dry_well['longitude'] = dry_well['longitude'].fillna(dry_well['longitude'].mean())\n",
        "\n",
        "dry_well.isnull().sum()"
      ],
      "execution_count": 21,
      "outputs": [
        {
          "output_type": "execute_result",
          "data": {
            "text/plain": [
              "quantity     0\n",
              "latitude     0\n",
              "longitude    0\n",
              "id           0\n",
              "dtype: int64"
            ]
          },
          "metadata": {
            "tags": []
          },
          "execution_count": 21
        }
      ]
    },
    {
      "cell_type": "code",
      "metadata": {
        "id": "mwsdf0D44yQ7",
        "colab_type": "code",
        "colab": {}
      },
      "source": [
        "#I'm close, but calling it quits tonight."
      ],
      "execution_count": 0,
      "outputs": []
    }
  ]
}