{
  "nbformat": 4,
  "nbformat_minor": 0,
  "metadata": {
    "kernelspec": {
      "display_name": "Python 3",
      "language": "python",
      "name": "python3"
    },
    "language_info": {
      "codemirror_mode": {
        "name": "ipython",
        "version": 3
      },
      "file_extension": ".py",
      "mimetype": "text/x-python",
      "name": "python",
      "nbconvert_exporter": "python",
      "pygments_lexer": "ipython3",
      "version": "3.7.3"
    },
    "colab": {
      "name": "LS_DS_222_assignment.ipynb",
      "provenance": [],
      "toc_visible": true,
      "include_colab_link": true
    }
  },
  "cells": [
    {
      "cell_type": "markdown",
      "metadata": {
        "id": "view-in-github",
        "colab_type": "text"
      },
      "source": [
        "<a href=\"https://colab.research.google.com/github/masonnystrom/DS-Unit-2-Kaggle-Challenge/blob/master/module2-random-forests/LS_DS_222_assignment.ipynb\" target=\"_parent\"><img src=\"https://colab.research.google.com/assets/colab-badge.svg\" alt=\"Open In Colab\"/></a>"
      ]
    },
    {
      "cell_type": "markdown",
      "metadata": {
        "id": "0Lc1yYoQjBeg",
        "colab_type": "text"
      },
      "source": [
        "Lambda School Data Science\n",
        "\n",
        "*Unit 2, Sprint 2, Module 2*\n",
        "\n",
        "---"
      ]
    },
    {
      "cell_type": "markdown",
      "metadata": {
        "colab_type": "text",
        "id": "7IXUfiQ2UKj6"
      },
      "source": [
        "# Random Forests\n",
        "\n",
        "## Assignment\n",
        "- [ ] Read [“Adopting a Hypothesis-Driven Workflow”](https://outline.com/5S5tsB), a blog post by a Lambda DS student about the Tanzania Waterpumps challenge.\n",
        "- [ ] Continue to participate in our Kaggle challenge.\n",
        "- [ ] Define a function to wrangle train, validate, and test sets in the same way. Clean outliers and engineer features.\n",
        "- [ ] Try Ordinal Encoding.\n",
        "- [ ] Try a Random Forest Classifier.\n",
        "- [ ] Submit your predictions to our Kaggle competition. (Go to our Kaggle InClass competition webpage. Use the blue **Submit Predictions** button to upload your CSV file. Or you can use the Kaggle API to submit your predictions.)\n",
        "- [ ] Commit your notebook to your fork of the GitHub repo.\n",
        "\n",
        "## Stretch Goals\n",
        "\n",
        "### Doing\n",
        "- [ ] Add your own stretch goal(s) !\n",
        "- [ ] Do more exploratory data analysis, data cleaning, feature engineering, and feature selection.\n",
        "- [ ] Try other [categorical encodings](https://contrib.scikit-learn.org/categorical-encoding/).\n",
        "- [ ] Get and plot your feature importances.\n",
        "- [ ] Make visualizations and share on Slack.\n",
        "\n",
        "### Reading\n",
        "\n",
        "Top recommendations in _**bold italic:**_\n",
        "\n",
        "#### Decision Trees\n",
        "- A Visual Introduction to Machine Learning, [Part 1: A Decision Tree](http://www.r2d3.us/visual-intro-to-machine-learning-part-1/),  and _**[Part 2: Bias and Variance](http://www.r2d3.us/visual-intro-to-machine-learning-part-2/)**_\n",
        "- [Decision Trees: Advantages & Disadvantages](https://christophm.github.io/interpretable-ml-book/tree.html#advantages-2)\n",
        "- [How a Russian mathematician constructed a decision tree — by hand — to solve a medical problem](http://fastml.com/how-a-russian-mathematician-constructed-a-decision-tree-by-hand-to-solve-a-medical-problem/)\n",
        "- [How decision trees work](https://brohrer.github.io/how_decision_trees_work.html)\n",
        "- [Let’s Write a Decision Tree Classifier from Scratch](https://www.youtube.com/watch?v=LDRbO9a6XPU)\n",
        "\n",
        "#### Random Forests\n",
        "- [_An Introduction to Statistical Learning_](http://www-bcf.usc.edu/~gareth/ISL/), Chapter 8: Tree-Based Methods\n",
        "- [Coloring with Random Forests](http://structuringtheunstructured.blogspot.com/2017/11/coloring-with-random-forests.html)\n",
        "- _**[Random Forests for Complete Beginners: The definitive guide to Random Forests and Decision Trees](https://victorzhou.com/blog/intro-to-random-forests/)**_\n",
        "\n",
        "#### Categorical encoding for trees\n",
        "- [Are categorical variables getting lost in your random forests?](https://roamanalytics.com/2016/10/28/are-categorical-variables-getting-lost-in-your-random-forests/)\n",
        "- [Beyond One-Hot: An Exploration of Categorical Variables](http://www.willmcginnis.com/2015/11/29/beyond-one-hot-an-exploration-of-categorical-variables/)\n",
        "- _**[Categorical Features and Encoding in Decision Trees](https://medium.com/data-design/visiting-categorical-features-and-encoding-in-decision-trees-53400fa65931)**_\n",
        "- _**[Coursera — How to Win a Data Science Competition: Learn from Top Kagglers — Concept of mean encoding](https://www.coursera.org/lecture/competitive-data-science/concept-of-mean-encoding-b5Gxv)**_\n",
        "- [Mean (likelihood) encodings: a comprehensive study](https://www.kaggle.com/vprokopev/mean-likelihood-encodings-a-comprehensive-study)\n",
        "- [The Mechanics of Machine Learning, Chapter 6: Categorically Speaking](https://mlbook.explained.ai/catvars.html)\n",
        "\n",
        "#### Imposter Syndrome\n",
        "- [Effort Shock and Reward Shock (How The Karate Kid Ruined The Modern World)](http://www.tempobook.com/2014/07/09/effort-shock-and-reward-shock/)\n",
        "- [How to manage impostor syndrome in data science](https://towardsdatascience.com/how-to-manage-impostor-syndrome-in-data-science-ad814809f068)\n",
        "- [\"I am not a real data scientist\"](https://brohrer.github.io/imposter_syndrome.html)\n",
        "- _**[Imposter Syndrome in Data Science](https://caitlinhudon.com/2018/01/19/imposter-syndrome-in-data-science/)**_\n",
        "\n",
        "\n",
        "### More Categorical Encodings\n",
        "\n",
        "**1.** The article **[Categorical Features and Encoding in Decision Trees](https://medium.com/data-design/visiting-categorical-features-and-encoding-in-decision-trees-53400fa65931)** mentions 4 encodings:\n",
        "\n",
        "- **\"Categorical Encoding\":** This means using the raw categorical values as-is, not encoded. Scikit-learn doesn't support this, but some tree algorithm implementations do. For example, [Catboost](https://catboost.ai/), or R's [rpart](https://cran.r-project.org/web/packages/rpart/index.html) package.\n",
        "- **Numeric Encoding:** Synonymous with Label Encoding, or \"Ordinal\" Encoding with random order. We can use [category_encoders.OrdinalEncoder](https://contrib.scikit-learn.org/categorical-encoding/ordinal.html).\n",
        "- **One-Hot Encoding:** We can use [category_encoders.OneHotEncoder](http://contrib.scikit-learn.org/categorical-encoding/onehot.html).\n",
        "- **Binary Encoding:** We can use [category_encoders.BinaryEncoder](http://contrib.scikit-learn.org/categorical-encoding/binary.html).\n",
        "\n",
        "\n",
        "**2.** The short video \n",
        "**[Coursera — How to Win a Data Science Competition: Learn from Top Kagglers — Concept of mean encoding](https://www.coursera.org/lecture/competitive-data-science/concept-of-mean-encoding-b5Gxv)** introduces an interesting idea: use both X _and_ y to encode categoricals.\n",
        "\n",
        "Category Encoders has multiple implementations of this general concept:\n",
        "\n",
        "- [CatBoost Encoder](http://contrib.scikit-learn.org/categorical-encoding/catboost.html)\n",
        "- [James-Stein Encoder](http://contrib.scikit-learn.org/categorical-encoding/jamesstein.html)\n",
        "- [Leave One Out](http://contrib.scikit-learn.org/categorical-encoding/leaveoneout.html)\n",
        "- [M-estimate](http://contrib.scikit-learn.org/categorical-encoding/mestimate.html)\n",
        "- [Target Encoder](http://contrib.scikit-learn.org/categorical-encoding/targetencoder.html)\n",
        "- [Weight of Evidence](http://contrib.scikit-learn.org/categorical-encoding/woe.html)\n",
        "\n",
        "Category Encoder's mean encoding implementations work for regression problems or binary classification problems. \n",
        "\n",
        "For multi-class classification problems, you will need to temporarily reformulate it as binary classification. For example:\n",
        "\n",
        "```python\n",
        "encoder = ce.TargetEncoder(min_samples_leaf=..., smoothing=...) # Both parameters > 1 to avoid overfitting\n",
        "X_train_encoded = encoder.fit_transform(X_train, y_train=='functional')\n",
        "X_val_encoded = encoder.transform(X_train, y_val=='functional')\n",
        "```\n",
        "\n",
        "For this reason, mean encoding won't work well within pipelines for multi-class classification problems.\n",
        "\n",
        "**3.** The **[dirty_cat](https://dirty-cat.github.io/stable/)** library has a Target Encoder implementation that works with multi-class classification.\n",
        "\n",
        "```python\n",
        " dirty_cat.TargetEncoder(clf_type='multiclass-clf')\n",
        "```\n",
        "It also implements an interesting idea called [\"Similarity Encoder\" for dirty categories](https://www.slideshare.net/GaelVaroquaux/machine-learning-on-non-curated-data-154905090).\n",
        "\n",
        "However, it seems like dirty_cat doesn't handle missing values or unknown categories as well as category_encoders does. And you may need to use it with one column at a time, instead of with your whole dataframe.\n",
        "\n",
        "**4. [Embeddings](https://www.kaggle.com/learn/embeddings)** can work well with sparse / high cardinality categoricals.\n",
        "\n",
        "_**I hope it’s not too frustrating or confusing that there’s not one “canonical” way to encode categoricals. It’s an active area of research and experimentation! Maybe you can make your own contributions!**_"
      ]
    },
    {
      "cell_type": "markdown",
      "metadata": {
        "id": "EZjVZevIjBel",
        "colab_type": "text"
      },
      "source": [
        "### Setup\n",
        "\n",
        "You can work locally (follow the [local setup instructions](https://lambdaschool.github.io/ds/unit2/local/)) or on Colab (run the code cell below)."
      ]
    },
    {
      "cell_type": "code",
      "metadata": {
        "colab_type": "code",
        "id": "o9eSnDYhUGD7",
        "colab": {}
      },
      "source": [
        "%%capture\n",
        "import sys\n",
        "\n",
        "# If you're on Colab:\n",
        "if 'google.colab' in sys.modules:\n",
        "    DATA_PATH = 'https://raw.githubusercontent.com/LambdaSchool/DS-Unit-2-Kaggle-Challenge/master/data/'\n",
        "    !pip install category_encoders==2.*\n",
        "\n",
        "# If you're working locally:\n",
        "else:\n",
        "    DATA_PATH = '../data/'"
      ],
      "execution_count": 0,
      "outputs": []
    },
    {
      "cell_type": "code",
      "metadata": {
        "colab_type": "code",
        "id": "QJBD4ruICm1m",
        "colab": {
          "base_uri": "https://localhost:8080/",
          "height": 34
        },
        "outputId": "8db3ffa4-260c-48a9-bf0f-c410a4fd747c"
      },
      "source": [
        "import pandas as pd\n",
        "import numpy as np\n",
        "from sklearn.model_selection import train_test_split\n",
        "\n",
        "train = pd.merge(pd.read_csv(DATA_PATH+'waterpumps/train_features.csv'), \n",
        "                 pd.read_csv(DATA_PATH+'waterpumps/train_labels.csv'))\n",
        "test = pd.read_csv(DATA_PATH+'waterpumps/test_features.csv')\n",
        "sample_submission = pd.read_csv(DATA_PATH+'waterpumps/sample_submission.csv')\n",
        "\n",
        "train.shape, test.shape"
      ],
      "execution_count": 675,
      "outputs": [
        {
          "output_type": "execute_result",
          "data": {
            "text/plain": [
              "((59400, 41), (14358, 40))"
            ]
          },
          "metadata": {
            "tags": []
          },
          "execution_count": 675
        }
      ]
    },
    {
      "cell_type": "code",
      "metadata": {
        "id": "cPBykoyg3sw-",
        "colab_type": "code",
        "colab": {
          "base_uri": "https://localhost:8080/",
          "height": 34
        },
        "outputId": "a0eb4d90-a2be-4e65-b3ed-bf6abac80d80"
      },
      "source": [
        "# get val set \n",
        "train, val = train_test_split(train, train_size=.80, test_size=.20,\n",
        "                              stratify=train['status_group'], random_state=2,)\n",
        "train.shape, val.shape"
      ],
      "execution_count": 676,
      "outputs": [
        {
          "output_type": "execute_result",
          "data": {
            "text/plain": [
              "((47520, 41), (11880, 41))"
            ]
          },
          "metadata": {
            "tags": []
          },
          "execution_count": 676
        }
      ]
    },
    {
      "cell_type": "code",
      "metadata": {
        "id": "T0PmXtzBjBey",
        "colab_type": "code",
        "colab": {}
      },
      "source": [
        "def wrangle(X):\n",
        "  \"\"\"wrangle function for data\"\"\"\n",
        "  X = X.copy()\n",
        "  # small latitutde values\n",
        "  X['latitude'] = X['latitude'].replace(-2e-08, 0)\n",
        "\n",
        "  # cols with zeros\n",
        "  cols_with_zeros = ['longitude', 'latitude', 'construction_year',\n",
        "                     'gps_height', 'population']\n",
        "  for col in cols_with_zeros:\n",
        "    X[col] = X[col].replace(0,np.nan)\n",
        "    X[col+'_MISSING'] = X[col].isnull()\n",
        "  \n",
        "  # drop duplicates\n",
        "  duplicates = ['quantity_group', 'payment_type', 'water_quality', \n",
        "                'source_type', 'waterpoint_type_group','extraction_type_group',\n",
        "                'extraction_type','management']\n",
        "  X = X.drop(columns=duplicates)\n",
        "\n",
        "  # drop recorded by(only one group recorded everything) and id(always varies/random)\n",
        "  unusable_variance = ['recorded_by']\n",
        "  X = X.drop(columns=unusable_variance)\n",
        "\n",
        "  #convert to datetime\n",
        "  X['date_recorded'] = pd.to_datetime(X['date_recorded'], infer_datetime_format=True)\n",
        "\n",
        "  # create month, year columns\n",
        "  X['year_recorded'] = X['date_recorded'].dt.year \n",
        "  X['month_recorded'] = X['date_recorded'].dt.month\n",
        "  X['day_recorded'] = X['date_recorded'].dt.day \n",
        "  X = X.drop(columns='date_recorded')\n",
        "\n",
        "  #Engineer feature: how many years since the construction\n",
        "  X['years'] = X['year_recorded'] - X['construction_year']\n",
        "  X['years_MISSING'] = X['years'].isnull()\n",
        "\n",
        "  # wrangel and return dataframe\n",
        "  return X \n"
      ],
      "execution_count": 0,
      "outputs": []
    },
    {
      "cell_type": "code",
      "metadata": {
        "id": "WYm7sn2p0bJj",
        "colab_type": "code",
        "colab": {}
      },
      "source": [
        "train = wrangle(train)\n",
        "val = wrangle(val)\n",
        "test = wrangle(test)"
      ],
      "execution_count": 0,
      "outputs": []
    },
    {
      "cell_type": "code",
      "metadata": {
        "id": "idOgmdL-3hr6",
        "colab_type": "code",
        "colab": {}
      },
      "source": [
        "#Set the features\n",
        "target = 'status_group'\n",
        "\n",
        "train_features = train.drop(columns=[target, 'id'])\n",
        "\n",
        "# numeric features\n",
        "numeric_features = train_features.select_dtypes(include='number').columns.tolist()\n",
        "\n",
        "cardinality = train_features.select_dtypes(exclude='number').nunique()\n",
        "\n",
        "categorical_features = cardinality[cardinality <= 50].index.tolist()\n",
        "\n",
        "features = numeric_features + categorical_features"
      ],
      "execution_count": 0,
      "outputs": []
    },
    {
      "cell_type": "markdown",
      "metadata": {
        "id": "Hz4jo8R-71Us",
        "colab_type": "text"
      },
      "source": [
        "# Categorical Encoding RF"
      ]
    },
    {
      "cell_type": "code",
      "metadata": {
        "id": "gGVrzlcg44ZQ",
        "colab_type": "code",
        "colab": {}
      },
      "source": [
        "# # X matrices and y vector\n",
        "\n",
        "# X_train = train[features]\n",
        "# y_train = train[target]\n",
        "\n",
        "# X_val = val[features]\n",
        "# y_val = val[target]\n",
        "\n",
        "# X_test = test"
      ],
      "execution_count": 0,
      "outputs": []
    },
    {
      "cell_type": "code",
      "metadata": {
        "id": "JBYNy3Vn4NCd",
        "colab_type": "code",
        "colab": {}
      },
      "source": [
        "# import category_encoders as ce\n",
        "# from sklearn.ensemble import RandomForestClassifier\n",
        "# from sklearn.impute import SimpleImputer\n",
        "# from sklearn.pipeline import make_pipeline"
      ],
      "execution_count": 0,
      "outputs": []
    },
    {
      "cell_type": "code",
      "metadata": {
        "id": "1an7PJr55nQr",
        "colab_type": "code",
        "colab": {}
      },
      "source": [
        "# pipeline = make_pipeline(\n",
        "#     ce.OneHotEncoder(use_cat_names=True),\n",
        "#     SimpleImputer(strategy='mean'),\n",
        "#     RandomForestClassifier(random_state=0, n_jobs=-1)\n",
        "# )\n",
        "\n",
        "# pipeline.fit(X_train, y_train)\n",
        "# print('Validation Accuracy', pipeline.score(X_val, y_val))"
      ],
      "execution_count": 0,
      "outputs": []
    },
    {
      "cell_type": "code",
      "metadata": {
        "id": "l0llHFe56DYt",
        "colab_type": "code",
        "colab": {}
      },
      "source": [
        "# # get importances\n",
        "# %matplotlib inline\n",
        "# import matplotlib.pyplot as plt\n",
        "\n",
        "# # get encoded values\n",
        "# encoder = pipeline.named_steps['onehotencoder']\n",
        "# encoded = encoder.transform(X_train)\n",
        "\n",
        "# # get importances\n",
        "# rf = pipeline.named_steps['randomforestclassifier']\n",
        "# importances = pd.Series(rf.feature_importances_, encoded.columns)"
      ],
      "execution_count": 0,
      "outputs": []
    },
    {
      "cell_type": "code",
      "metadata": {
        "id": "lipqSaLF559t",
        "colab_type": "code",
        "colab": {}
      },
      "source": [
        "# plot top 20 \n",
        "# n = 30\n",
        "# plt.figure(figsize=(10, n/2))\n",
        "# plt.title(f'Top {n} features')\n",
        "# importances.sort_values()[-n:].plot.barh();\n"
      ],
      "execution_count": 0,
      "outputs": []
    },
    {
      "cell_type": "markdown",
      "metadata": {
        "id": "eqHiotMK7wJB",
        "colab_type": "text"
      },
      "source": [
        "# Using Ordinal Encoding"
      ]
    },
    {
      "cell_type": "code",
      "metadata": {
        "id": "N6r0fdhe6ZMH",
        "colab_type": "code",
        "colab": {}
      },
      "source": [
        "# X_train = train.drop(columns=target)\n",
        "# y_train = train[target]\n",
        "\n",
        "# X_val = val.drop(columns=target)\n",
        "# y_val = val[target]\n",
        "\n",
        "# X_test = test"
      ],
      "execution_count": 0,
      "outputs": []
    },
    {
      "cell_type": "code",
      "metadata": {
        "id": "bWWJqems6nn8",
        "colab_type": "code",
        "colab": {
          "base_uri": "https://localhost:8080/",
          "height": 34
        },
        "outputId": "55b7be36-0c0d-4566-e561-86fc2600f1eb"
      },
      "source": [
        "# baseline for rf and Ordinal Encoding \n",
        "import category_encoders as ce\n",
        "from sklearn.ensemble import RandomForestClassifier\n",
        "from sklearn.impute import SimpleImputer\n",
        "from sklearn.pipeline import make_pipeline\n",
        "\n",
        "pipeline = make_pipeline(\n",
        "    ce.OrdinalEncoder(),\n",
        "    SimpleImputer(strategy='mean'),\n",
        "    RandomForestClassifier(random_state=0, n_jobs=-1)\n",
        ")\n",
        "pipeline.fit(X_train, y_train)\n",
        "print('Validation Accuracy:', pipeline.score(X_val, y_val))"
      ],
      "execution_count": 685,
      "outputs": [
        {
          "output_type": "stream",
          "text": [
            "Validation Accuracy: 0.8089225589225589\n"
          ],
          "name": "stdout"
        }
      ]
    },
    {
      "cell_type": "markdown",
      "metadata": {
        "id": "4TXI92dK9q9e",
        "colab_type": "text"
      },
      "source": [
        "# Testing for Kaggle"
      ]
    },
    {
      "cell_type": "markdown",
      "metadata": {
        "id": "0fJAJXB4-Kbq",
        "colab_type": "text"
      },
      "source": [
        "### Feature engineering"
      ]
    },
    {
      "cell_type": "code",
      "metadata": {
        "id": "8lAmJUha9s6p",
        "colab_type": "code",
        "colab": {}
      },
      "source": [
        "# Get a list of the top funders\n",
        "top_funders = train['funder'].value_counts()[:30].index\n",
        " \n",
        "train.loc[~train['funder'].isin(top_funders), 'funder'] = 'OTHER'\n",
        "val.loc[~val['funder'].isin(top_funders), 'funder'] = 'OTHER'\n",
        "test.loc[~test['funder'].isin(top_funders), 'funder'] = 'OTHER'"
      ],
      "execution_count": 0,
      "outputs": []
    },
    {
      "cell_type": "code",
      "metadata": {
        "id": "iws3l9Ob-qnk",
        "colab_type": "code",
        "colab": {}
      },
      "source": [
        "top_wpt = train['wpt_name'].value_counts()[:30].index\n",
        "\n",
        "train.loc[~train['wpt_name'].isin(top_wpt), 'wpt_name'] = 'OTHER'\n",
        "val.loc[~val['wpt_name'].isin(top_wpt), 'wpt_name'] = 'OTHER'\n",
        "test.loc[~test['wpt_name'].isin(top_wpt), 'wpt_name'] = 'OTHER'\n"
      ],
      "execution_count": 0,
      "outputs": []
    },
    {
      "cell_type": "code",
      "metadata": {
        "id": "GkS67AP5_RvR",
        "colab_type": "code",
        "colab": {}
      },
      "source": [
        "top_installer = train['installer'].value_counts()[:50].index\n",
        "\n",
        "train.loc[~train['installer'].isin(top_installer), 'installer'] = 'OTHER'\n",
        "val.loc[~val['installer'].isin(top_installer), 'installer'] = 'OTHER'\n",
        "test.loc[~test['installer'].isin(top_installer), 'installer'] = 'OTHER'"
      ],
      "execution_count": 0,
      "outputs": []
    },
    {
      "cell_type": "code",
      "metadata": {
        "id": "mF9Uqx54AAfe",
        "colab_type": "code",
        "colab": {}
      },
      "source": [
        "top_subvillage = train['subvillage'].value_counts()[:200].index\n",
        " \n",
        "train.loc[~train['subvillage'].isin(top_subvillage), 'subvillage'] = 'OTHER'\n",
        "val.loc[~val['subvillage'].isin(top_subvillage), 'subvillage'] = 'OTHER'\n",
        "test.loc[~test['subvillage'].isin(top_subvillage), 'subvillage'] = 'OTHER'"
      ],
      "execution_count": 0,
      "outputs": []
    },
    {
      "cell_type": "code",
      "metadata": {
        "id": "nzz1fz9cAe-a",
        "colab_type": "code",
        "colab": {}
      },
      "source": [
        "top_ward = train['ward'].value_counts()[:50].index\n",
        "\n",
        "train.loc[~train['ward'].isin(top_ward), 'ward'] = 'OTHER'\n",
        "val.loc[~val['ward'].isin(top_ward), 'ward'] = 'OTHER'\n",
        "test.loc[~test['ward'].isin(top_ward), 'ward'] = 'OTHER'"
      ],
      "execution_count": 0,
      "outputs": []
    },
    {
      "cell_type": "code",
      "metadata": {
        "id": "sGr2ISlHQ4LV",
        "colab_type": "code",
        "colab": {}
      },
      "source": [
        "top_num_private = train['num_private'].value_counts()[:30].index\n",
        " \n",
        "train.loc[~train['num_private'].isin(top_num_private), 'num_private'] = 'OTHER'\n",
        "val.loc[~val['num_private'].isin(top_num_private), 'num_private'] = 'OTHER'\n",
        "test.loc[~test['num_private'].isin(top_num_private), 'num_private'] = 'OTHER'"
      ],
      "execution_count": 0,
      "outputs": []
    },
    {
      "cell_type": "code",
      "metadata": {
        "id": "q-uHaTjORfhk",
        "colab_type": "code",
        "colab": {}
      },
      "source": [
        "top_scheme_name = train['scheme_name'].value_counts()[:30].index\n",
        " \n",
        "train.loc[~train['scheme_name'].isin(top_scheme_name), 'scheme_name'] = 'OTHER'\n",
        "val.loc[~val['scheme_name'].isin(top_scheme_name), 'scheme_name'] = 'OTHER'\n",
        "test.loc[~test['scheme_name'].isin(top_scheme_name), 'scheme_name'] = 'OTHER'"
      ],
      "execution_count": 0,
      "outputs": []
    },
    {
      "cell_type": "code",
      "metadata": {
        "id": "VzLcv_hcZZvm",
        "colab_type": "code",
        "colab": {}
      },
      "source": [
        "top_lga = train['lga'].value_counts()[:50].index\n",
        " \n",
        "train.loc[~train['lga'].isin(top_lga), 'lga'] = 'OTHER'\n",
        "val.loc[~val['lga'].isin(top_lga), 'lga'] = 'OTHER'\n",
        "test.loc[~test['lga'].isin(top_lga), 'lga'] = 'OTHER'"
      ],
      "execution_count": 0,
      "outputs": []
    },
    {
      "cell_type": "code",
      "metadata": {
        "id": "NH8Lw8RXrqYn",
        "colab_type": "code",
        "colab": {
          "base_uri": "https://localhost:8080/",
          "height": 561
        },
        "outputId": "46401480-a99c-47b2-94d9-13f5e1ff997b"
      },
      "source": [
        "train['scheme_name'].value_counts()"
      ],
      "execution_count": 694,
      "outputs": [
        {
          "output_type": "execute_result",
          "data": {
            "text/plain": [
              "OTHER                                    41690\n",
              "K                                          535\n",
              "None                                       530\n",
              "Borehole                                   427\n",
              "Chalinze wate                              322\n",
              "DANIDA                                     312\n",
              "M                                          306\n",
              "Government                                 261\n",
              "wanging'ombe water supply s                212\n",
              "Ngana water supplied scheme                210\n",
              "wanging'ombe supply scheme                 189\n",
              "I                                          183\n",
              "Bagamoyo wate                              174\n",
              "Uroki-Bomang'ombe water sup                162\n",
              "Machumba estate pipe line                  155\n",
              "N                                          155\n",
              "Kirua kahe gravity water supply trust      154\n",
              "Kijiji                                     137\n",
              "Makwale water supplied sche                131\n",
              "Handeni Trunk Main(H                       130\n",
              "mtwango water supply scheme                123\n",
              "S                                          119\n",
              "Losaa-Kia water supply                     119\n",
              "Mkongoro Two                               114\n",
              "Roman                                      108\n",
              "Mkongoro One                               103\n",
              "Maambreni gravity water supply             101\n",
              "Lyamungo umbwe water supply                 92\n",
              "Nabaiye pipe line                           89\n",
              "Kirua kahe pumping water trust              89\n",
              "Ki                                          88\n",
              "Name: scheme_name, dtype: int64"
            ]
          },
          "metadata": {
            "tags": []
          },
          "execution_count": 694
        }
      ]
    },
    {
      "cell_type": "code",
      "metadata": {
        "id": "2E0y6ATuruX2",
        "colab_type": "code",
        "colab": {
          "base_uri": "https://localhost:8080/",
          "height": 238
        },
        "outputId": "2b05c133-e764-4d1f-c9c7-362e8453f75e"
      },
      "source": [
        "train['scheme_management'].value_counts()"
      ],
      "execution_count": 695,
      "outputs": [
        {
          "output_type": "execute_result",
          "data": {
            "text/plain": [
              "VWC                 29437\n",
              "WUG                  4170\n",
              "Water authority      2545\n",
              "WUA                  2296\n",
              "Water Board          2185\n",
              "Parastatal           1352\n",
              "Private operator      861\n",
              "Company               837\n",
              "Other                 611\n",
              "SWC                    79\n",
              "Trust                  58\n",
              "None                    1\n",
              "Name: scheme_management, dtype: int64"
            ]
          },
          "metadata": {
            "tags": []
          },
          "execution_count": 695
        }
      ]
    },
    {
      "cell_type": "code",
      "metadata": {
        "id": "rOUzNojS9iVs",
        "colab_type": "code",
        "colab": {
          "base_uri": "https://localhost:8080/",
          "height": 187
        },
        "outputId": "77399523-1be4-48ef-96d0-3aa6c0304922"
      },
      "source": [
        "X_train.columns"
      ],
      "execution_count": 696,
      "outputs": [
        {
          "output_type": "execute_result",
          "data": {
            "text/plain": [
              "Index(['amount_tsh', 'funder', 'gps_height', 'installer', 'longitude',\n",
              "       'latitude', 'wpt_name', 'num_private', 'basin', 'subvillage', 'region',\n",
              "       'region_code', 'district_code', 'lga', 'ward', 'population',\n",
              "       'public_meeting', 'scheme_management', 'scheme_name', 'permit',\n",
              "       'extraction_type_class', 'management_group', 'payment', 'quality_group',\n",
              "       'quantity', 'source', 'source_class', 'waterpoint_type',\n",
              "       'longitude_MISSING', 'latitude_MISSING', 'construction_year_MISSING',\n",
              "       'gps_height_MISSING', 'population_MISSING', 'year_recorded',\n",
              "       'month_recorded', 'day_recorded', 'years', 'years_MISSING'],\n",
              "      dtype='object')"
            ]
          },
          "metadata": {
            "tags": []
          },
          "execution_count": 696
        }
      ]
    },
    {
      "cell_type": "code",
      "metadata": {
        "id": "W0g7DwLV-RHu",
        "colab_type": "code",
        "colab": {}
      },
      "source": [
        "target = 'status_group'\n",
        "X_train = train.drop(columns= [target, 'id','construction_year'])\n",
        "y_train = train[target]\n",
        "\n",
        "X_val = val.drop(columns= [target, 'id','construction_year'])\n",
        "y_val = val[target]\n",
        "\n",
        "X_test = test.drop(columns=['id','construction_year'])"
      ],
      "execution_count": 0,
      "outputs": []
    },
    {
      "cell_type": "code",
      "metadata": {
        "id": "Wf1KM3js-Txp",
        "colab_type": "code",
        "colab": {
          "base_uri": "https://localhost:8080/",
          "height": 51
        },
        "outputId": "f257369c-38c4-4ac3-9f10-712253f920d3"
      },
      "source": [
        "pipeline = make_pipeline(\n",
        "    ce.OrdinalEncoder(),\n",
        "    SimpleImputer(strategy='median'),\n",
        "    RandomForestClassifier(n_estimators=128, max_features=\"auto\", \n",
        "                           random_state=2, n_jobs=-1, warm_start=False,\n",
        "                           min_samples_leaf=3) \n",
        ")\n",
        "pipeline.fit(X_train, y_train)\n",
        "print('Train Accuracy:', pipeline.score(X_train, y_train))\n",
        "print('Validation Accuracy:', pipeline.score(X_val, y_val))"
      ],
      "execution_count": 702,
      "outputs": [
        {
          "output_type": "stream",
          "text": [
            "Train Accuracy: 0.8938131313131313\n",
            "Validation Accuracy: 0.8135521885521886\n"
          ],
          "name": "stdout"
        }
      ]
    },
    {
      "cell_type": "markdown",
      "metadata": {
        "id": "whKrZ9sTnSIV",
        "colab_type": "text"
      },
      "source": [
        ""
      ]
    },
    {
      "cell_type": "code",
      "metadata": {
        "id": "_XSMLW1wKCy8",
        "colab_type": "code",
        "colab": {}
      },
      "source": [
        "y_pred = pipeline.predict(X_test) \n",
        "\n",
        "# make submission\n",
        "submission = test[['id']].copy()\n",
        "submission['status_group'] = y_pred"
      ],
      "execution_count": 0,
      "outputs": []
    },
    {
      "cell_type": "code",
      "metadata": {
        "id": "idPWM-NsNyI2",
        "colab_type": "code",
        "colab": {
          "base_uri": "https://localhost:8080/",
          "height": 34
        },
        "outputId": "c0e47956-652e-4d11-bb1a-e26149263aa3"
      },
      "source": [
        "submission.to_csv('waterpump-submission-07.csv', index=False)\n",
        "sub_df = pd.read_csv('/content/waterpump-submission-07.csv')\n",
        "sub_df.shape"
      ],
      "execution_count": 705,
      "outputs": [
        {
          "output_type": "execute_result",
          "data": {
            "text/plain": [
              "(14358, 2)"
            ]
          },
          "metadata": {
            "tags": []
          },
          "execution_count": 705
        }
      ]
    },
    {
      "cell_type": "markdown",
      "metadata": {
        "id": "6637jI1dAZgg",
        "colab_type": "text"
      },
      "source": [
        "# Random Forrest Important Features"
      ]
    },
    {
      "cell_type": "code",
      "metadata": {
        "id": "H_cNYQqk-oxk",
        "colab_type": "code",
        "colab": {}
      },
      "source": [
        "# get importances\n",
        "%matplotlib inline\n",
        "import matplotlib.pyplot as plt\n",
        "\n",
        "# get encoded values\n",
        "encoder = pipeline.named_steps['ordinalencoder']\n",
        "encoded = encoder.transform(X_train)\n",
        "\n",
        "# get importances\n",
        "rf = pipeline.named_steps['randomforestclassifier']\n",
        "importances = pd.Series(rf.feature_importances_, encoded.columns)"
      ],
      "execution_count": 0,
      "outputs": []
    },
    {
      "cell_type": "code",
      "metadata": {
        "id": "L56lgrcmATPy",
        "colab_type": "code",
        "colab": {}
      },
      "source": [
        "n = 50\n",
        "plt.figure(figsize=(10, n/2))\n",
        "plt.title(f'Top {n} features')\n",
        "importances.sort_values()[-n:].plot.barh();"
      ],
      "execution_count": 0,
      "outputs": []
    },
    {
      "cell_type": "code",
      "metadata": {
        "id": "O36nAnwHRU-_",
        "colab_type": "code",
        "colab": {}
      },
      "source": [
        ""
      ],
      "execution_count": 0,
      "outputs": []
    }
  ]
}