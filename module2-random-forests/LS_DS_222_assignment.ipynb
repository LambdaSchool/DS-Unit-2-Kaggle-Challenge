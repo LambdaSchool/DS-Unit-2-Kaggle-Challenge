{
  "nbformat": 4,
  "nbformat_minor": 0,
  "metadata": {
    "kernelspec": {
      "display_name": "Python 3",
      "language": "python",
      "name": "python3"
    },
    "language_info": {
      "codemirror_mode": {
        "name": "ipython",
        "version": 3
      },
      "file_extension": ".py",
      "mimetype": "text/x-python",
      "name": "python",
      "nbconvert_exporter": "python",
      "pygments_lexer": "ipython3",
      "version": "3.7.3"
    },
    "colab": {
      "name": "LS_DS_222_assignment.ipynb",
      "provenance": []
    }
  },
  "cells": [
    {
      "cell_type": "markdown",
      "metadata": {
        "id": "Cw7nZu6CiVAl",
        "colab_type": "text"
      },
      "source": [
        "Lambda School Data Science\n",
        "\n",
        "*Unit 2, Sprint 2, Module 2*\n",
        "\n",
        "---"
      ]
    },
    {
      "cell_type": "markdown",
      "metadata": {
        "colab_type": "text",
        "id": "7IXUfiQ2UKj6"
      },
      "source": [
        "# Random Forests\n",
        "\n",
        "## Assignment\n",
        "- [ ] Read [“Adopting a Hypothesis-Driven Workflow”](https://outline.com/5S5tsB), a blog post by a Lambda DS student about the Tanzania Waterpumps challenge.\n",
        "- [ ] Continue to participate in our Kaggle challenge.\n",
        "- [ ] Define a function to wrangle train, validate, and test sets in the same way. Clean outliers and engineer features.\n",
        "- [ ] Try Ordinal Encoding.\n",
        "- [ ] Try a Random Forest Classifier.\n",
        "- [ ] Submit your predictions to our Kaggle competition. (Go to our Kaggle InClass competition webpage. Use the blue **Submit Predictions** button to upload your CSV file. Or you can use the Kaggle API to submit your predictions.)\n",
        "- [ ] Commit your notebook to your fork of the GitHub repo.\n",
        "\n",
        "## Stretch Goals\n",
        "\n",
        "### Doing\n",
        "- [ ] Add your own stretch goal(s) !\n",
        "- [ ] Do more exploratory data analysis, data cleaning, feature engineering, and feature selection.\n",
        "- [ ] Try other [categorical encodings](https://contrib.scikit-learn.org/categorical-encoding/).\n",
        "- [ ] Get and plot your feature importances.\n",
        "- [ ] Make visualizations and share on Slack.\n",
        "\n",
        "### Reading\n",
        "\n",
        "Top recommendations in _**bold italic:**_\n",
        "\n",
        "#### Decision Trees\n",
        "- A Visual Introduction to Machine Learning, [Part 1: A Decision Tree](http://www.r2d3.us/visual-intro-to-machine-learning-part-1/),  and _**[Part 2: Bias and Variance](http://www.r2d3.us/visual-intro-to-machine-learning-part-2/)**_\n",
        "- [Decision Trees: Advantages & Disadvantages](https://christophm.github.io/interpretable-ml-book/tree.html#advantages-2)\n",
        "- [How a Russian mathematician constructed a decision tree — by hand — to solve a medical problem](http://fastml.com/how-a-russian-mathematician-constructed-a-decision-tree-by-hand-to-solve-a-medical-problem/)\n",
        "- [How decision trees work](https://brohrer.github.io/how_decision_trees_work.html)\n",
        "- [Let’s Write a Decision Tree Classifier from Scratch](https://www.youtube.com/watch?v=LDRbO9a6XPU)\n",
        "\n",
        "#### Random Forests\n",
        "- [_An Introduction to Statistical Learning_](http://www-bcf.usc.edu/~gareth/ISL/), Chapter 8: Tree-Based Methods\n",
        "- [Coloring with Random Forests](http://structuringtheunstructured.blogspot.com/2017/11/coloring-with-random-forests.html)\n",
        "- _**[Random Forests for Complete Beginners: The definitive guide to Random Forests and Decision Trees](https://victorzhou.com/blog/intro-to-random-forests/)**_\n",
        "\n",
        "#### Categorical encoding for trees\n",
        "- [Are categorical variables getting lost in your random forests?](https://roamanalytics.com/2016/10/28/are-categorical-variables-getting-lost-in-your-random-forests/)\n",
        "- [Beyond One-Hot: An Exploration of Categorical Variables](http://www.willmcginnis.com/2015/11/29/beyond-one-hot-an-exploration-of-categorical-variables/)\n",
        "- _**[Categorical Features and Encoding in Decision Trees](https://medium.com/data-design/visiting-categorical-features-and-encoding-in-decision-trees-53400fa65931)**_\n",
        "- _**[Coursera — How to Win a Data Science Competition: Learn from Top Kagglers — Concept of mean encoding](https://www.coursera.org/lecture/competitive-data-science/concept-of-mean-encoding-b5Gxv)**_\n",
        "- [Mean (likelihood) encodings: a comprehensive study](https://www.kaggle.com/vprokopev/mean-likelihood-encodings-a-comprehensive-study)\n",
        "- [The Mechanics of Machine Learning, Chapter 6: Categorically Speaking](https://mlbook.explained.ai/catvars.html)\n",
        "\n",
        "#### Imposter Syndrome\n",
        "- [Effort Shock and Reward Shock (How The Karate Kid Ruined The Modern World)](http://www.tempobook.com/2014/07/09/effort-shock-and-reward-shock/)\n",
        "- [How to manage impostor syndrome in data science](https://towardsdatascience.com/how-to-manage-impostor-syndrome-in-data-science-ad814809f068)\n",
        "- [\"I am not a real data scientist\"](https://brohrer.github.io/imposter_syndrome.html)\n",
        "- _**[Imposter Syndrome in Data Science](https://caitlinhudon.com/2018/01/19/imposter-syndrome-in-data-science/)**_\n",
        "\n",
        "\n",
        "### More Categorical Encodings\n",
        "\n",
        "**1.** The article **[Categorical Features and Encoding in Decision Trees](https://medium.com/data-design/visiting-categorical-features-and-encoding-in-decision-trees-53400fa65931)** mentions 4 encodings:\n",
        "\n",
        "- **\"Categorical Encoding\":** This means using the raw categorical values as-is, not encoded. Scikit-learn doesn't support this, but some tree algorithm implementations do. For example, [Catboost](https://catboost.ai/), or R's [rpart](https://cran.r-project.org/web/packages/rpart/index.html) package.\n",
        "- **Numeric Encoding:** Synonymous with Label Encoding, or \"Ordinal\" Encoding with random order. We can use [category_encoders.OrdinalEncoder](https://contrib.scikit-learn.org/categorical-encoding/ordinal.html).\n",
        "- **One-Hot Encoding:** We can use [category_encoders.OneHotEncoder](http://contrib.scikit-learn.org/categorical-encoding/onehot.html).\n",
        "- **Binary Encoding:** We can use [category_encoders.BinaryEncoder](http://contrib.scikit-learn.org/categorical-encoding/binary.html).\n",
        "\n",
        "\n",
        "**2.** The short video \n",
        "**[Coursera — How to Win a Data Science Competition: Learn from Top Kagglers — Concept of mean encoding](https://www.coursera.org/lecture/competitive-data-science/concept-of-mean-encoding-b5Gxv)** introduces an interesting idea: use both X _and_ y to encode categoricals.\n",
        "\n",
        "Category Encoders has multiple implementations of this general concept:\n",
        "\n",
        "- [CatBoost Encoder](http://contrib.scikit-learn.org/categorical-encoding/catboost.html)\n",
        "- [James-Stein Encoder](http://contrib.scikit-learn.org/categorical-encoding/jamesstein.html)\n",
        "- [Leave One Out](http://contrib.scikit-learn.org/categorical-encoding/leaveoneout.html)\n",
        "- [M-estimate](http://contrib.scikit-learn.org/categorical-encoding/mestimate.html)\n",
        "- [Target Encoder](http://contrib.scikit-learn.org/categorical-encoding/targetencoder.html)\n",
        "- [Weight of Evidence](http://contrib.scikit-learn.org/categorical-encoding/woe.html)\n",
        "\n",
        "Category Encoder's mean encoding implementations work for regression problems or binary classification problems. \n",
        "\n",
        "For multi-class classification problems, you will need to temporarily reformulate it as binary classification. For example:\n",
        "\n",
        "```python\n",
        "encoder = ce.TargetEncoder(min_samples_leaf=..., smoothing=...) # Both parameters > 1 to avoid overfitting\n",
        "X_train_encoded = encoder.fit_transform(X_train, y_train=='functional')\n",
        "X_val_encoded = encoder.transform(X_train, y_val=='functional')\n",
        "```\n",
        "\n",
        "For this reason, mean encoding won't work well within pipelines for multi-class classification problems.\n",
        "\n",
        "**3.** The **[dirty_cat](https://dirty-cat.github.io/stable/)** library has a Target Encoder implementation that works with multi-class classification.\n",
        "\n",
        "```python\n",
        " dirty_cat.TargetEncoder(clf_type='multiclass-clf')\n",
        "```\n",
        "It also implements an interesting idea called [\"Similarity Encoder\" for dirty categories](https://www.slideshare.net/GaelVaroquaux/machine-learning-on-non-curated-data-154905090).\n",
        "\n",
        "However, it seems like dirty_cat doesn't handle missing values or unknown categories as well as category_encoders does. And you may need to use it with one column at a time, instead of with your whole dataframe.\n",
        "\n",
        "**4. [Embeddings](https://www.kaggle.com/learn/embeddings)** can work well with sparse / high cardinality categoricals.\n",
        "\n",
        "_**I hope it’s not too frustrating or confusing that there’s not one “canonical” way to encode categoricals. It’s an active area of research and experimentation! Maybe you can make your own contributions!**_"
      ]
    },
    {
      "cell_type": "markdown",
      "metadata": {
        "id": "iLl6KmFaiVAq",
        "colab_type": "text"
      },
      "source": [
        "### Setup\n",
        "\n",
        "You can work locally (follow the [local setup instructions](https://lambdaschool.github.io/ds/unit2/local/)) or on Colab (run the code cell below)."
      ]
    },
    {
      "cell_type": "code",
      "metadata": {
        "colab_type": "code",
        "id": "o9eSnDYhUGD7",
        "colab": {}
      },
      "source": [
        "%%capture\n",
        "import sys\n",
        "\n",
        "# If you're on Colab:\n",
        "if 'google.colab' in sys.modules:\n",
        "    DATA_PATH = 'https://raw.githubusercontent.com/LambdaSchool/DS-Unit-2-Kaggle-Challenge/master/data/'\n",
        "    !pip install category_encoders==2.*\n",
        "\n",
        "# If you're working locally:\n",
        "else:\n",
        "    DATA_PATH = '../data/'"
      ],
      "execution_count": 0,
      "outputs": []
    },
    {
      "cell_type": "code",
      "metadata": {
        "colab_type": "code",
        "id": "QJBD4ruICm1m",
        "colab": {
          "base_uri": "https://localhost:8080/",
          "height": 34
        },
        "outputId": "4d30426e-4523-4921-92dd-779b052da972"
      },
      "source": [
        "import pandas as pd\n",
        "from sklearn.model_selection import train_test_split\n",
        "import numpy as np\n",
        "from  scipy.stats import mode\n",
        "\n",
        "\n",
        "train = pd.merge(pd.read_csv(DATA_PATH+'waterpumps/train_features.csv'), \n",
        "                 pd.read_csv(DATA_PATH+'waterpumps/train_labels.csv'))\n",
        "test = pd.read_csv(DATA_PATH+'waterpumps/test_features.csv')\n",
        "sample_submission = pd.read_csv(DATA_PATH+'waterpumps/sample_submission.csv')\n",
        "\n",
        "train.shape, test.shape"
      ],
      "execution_count": 31,
      "outputs": [
        {
          "output_type": "execute_result",
          "data": {
            "text/plain": [
              "((59400, 41), (14358, 40))"
            ]
          },
          "metadata": {
            "tags": []
          },
          "execution_count": 31
        }
      ]
    },
    {
      "cell_type": "code",
      "metadata": {
        "id": "7sXtX01KjMZ5",
        "colab_type": "code",
        "colab": {
          "base_uri": "https://localhost:8080/",
          "height": 34
        },
        "outputId": "dfd8dbdb-583d-423d-bed7-67cdba300cd2"
      },
      "source": [
        "# pulling out the status_group\n",
        "y = train['status_group']\n",
        "x = train.drop('status_group', axis=1)\n",
        "train.shape, y.shape"
      ],
      "execution_count": 32,
      "outputs": [
        {
          "output_type": "execute_result",
          "data": {
            "text/plain": [
              "((59400, 41), (59400,))"
            ]
          },
          "metadata": {
            "tags": []
          },
          "execution_count": 32
        }
      ]
    },
    {
      "cell_type": "code",
      "metadata": {
        "id": "1vgQhU1UiVAz",
        "colab_type": "code",
        "colab": {
          "base_uri": "https://localhost:8080/",
          "height": 34
        },
        "outputId": "5297ed45-e870-4903-9028-87c489ade538"
      },
      "source": [
        "# Splitting the train into the val and the train \n",
        "# Train will be .80 and val will be .20\n",
        "x_train, x_val, y_train, y_val = train_test_split(x, y, train_size=.8, test_size=.2, random_state=42)\n",
        "x_train.shape, x_val.shape, y_train.shape, y_val.shape"
      ],
      "execution_count": 33,
      "outputs": [
        {
          "output_type": "execute_result",
          "data": {
            "text/plain": [
              "((47520, 40), (11880, 40), (47520,), (11880,))"
            ]
          },
          "metadata": {
            "tags": []
          },
          "execution_count": 33
        }
      ]
    },
    {
      "cell_type": "code",
      "metadata": {
        "id": "iSFCZCekDnqh",
        "colab_type": "code",
        "colab": {
          "base_uri": "https://localhost:8080/",
          "height": 67
        },
        "outputId": "5a47b7ff-2363-4ab4-d2cf-1965f8c7f98d"
      },
      "source": [
        "# checking if there are any null in the construction year and \n",
        "# the dateRecorde\n",
        "df[['construction_year', 'date_recorded']].isnull().sum()"
      ],
      "execution_count": 76,
      "outputs": [
        {
          "output_type": "execute_result",
          "data": {
            "text/plain": [
              "construction_year    0\n",
              "date_recorded        0\n",
              "dtype: int64"
            ]
          },
          "metadata": {
            "tags": []
          },
          "execution_count": 76
        }
      ]
    },
    {
      "cell_type": "code",
      "metadata": {
        "id": "eVJme6MYko8m",
        "colab_type": "code",
        "colab": {}
      },
      "source": [
        "\n",
        "# Creating the list of the columns that I want to drop here and\n",
        "# then will pass them into the wrangle function\n",
        "target = 'status_group'\n",
        "# This is a list of some of the colums that I want to drop\n",
        "# Will drop subvillage -- because similar results as lat and lon\n",
        "# Dropping funder:  has high cardinality\n",
        "# Dropping the wpt_name:  has high cardinality is the name of the water point\n",
        "# Dropping payment_type:  same as payment(duplicate)\n",
        "cols_to_drop = ['id', 'quantity_group', 'recorded_by', \"subvillage\", \n",
        "                'num_private', 'funder', 'wpt_name' ,'scheme_name', 'payment_type',\n",
        "                'quality_group', ]\n"
      ],
      "execution_count": 0,
      "outputs": []
    },
    {
      "cell_type": "code",
      "metadata": {
        "id": "RNIzZ4IHl1oc",
        "colab_type": "code",
        "colab": {}
      },
      "source": [
        "# These are some inner functions in my wrangle function that help\n",
        "# With the fixing the latitude and the longitude\n",
        "def myLatitude(theRow,df):\n",
        "  \n",
        "  if pd.isnull(theRow['latitude']):\n",
        "    theWard = theRow['ward']\n",
        "    lat = df[df['ward'] == theWard]\n",
        "    theMode = mode(lat['latitude'])\n",
        "    return (theMode[0][0])\n",
        "  return (theRow['latitude'])\n",
        "\n",
        "def myLon(theRow, df): \n",
        "  if (pd.isnull(theRow['longitude'])):\n",
        "    lon = df[df['ward'] == theRow['ward']]\n",
        "    theMode = mode(lon['longitude'])\n",
        "    return (theMode[0][0])\n",
        "  return (theRow['longitude'])"
      ],
      "execution_count": 0,
      "outputs": []
    },
    {
      "cell_type": "code",
      "metadata": {
        "id": "5xs0RlKOmBUr",
        "colab_type": "code",
        "colab": {}
      },
      "source": [
        "# This is my wrangle function\n",
        "\n",
        "def wrangleFxn(df, cols_to_drop ,numCardinal=50, useMode=True, num=None, highVar=None, lowVar=None, useDropList=True ):\n",
        "  ''' This is the wrangle function\n",
        "      It will take in a dataFrame either the train, test, or validate.\n",
        "      It should have the TARGET already removed from it. \n",
        "\n",
        "      cols_to_drop:   List of features that you want to drop automatically from \n",
        "                      the dataFrame\n",
        "                      It will drop the columns before looking at the cardinality of the\n",
        "                      columns.\n",
        "\n",
        "      numCardinal:  default is 50. This is the threshold.  If it is less\n",
        "                    than  or equal to this number it is retained in the \n",
        "                    features.\n",
        "      useMode:  default is True.  This will use the apply functiontion to \n",
        "                make the lat and lon have values similar to those in \n",
        "                the ward that it is found.\n",
        "      num:      default is None.  It this is set to a number, \n",
        "                it will further reduce the cardinality of the\n",
        "                cardinal features to a specified number. \n",
        "      \n",
        "      highVar:  Default is None. If set will drop any columns that have more \n",
        "                variance than what is set here as the threshold.  Should be\n",
        "                set as a float ie(.90 or .8)\n",
        "      \n",
        "      lowVar:   Default is None. if set will drop any columns who have less\n",
        "                variance than here.  Should be set as a float ie(.1 or .234)\n",
        "\n",
        "      useDropList:  Default is True.  When is True will use the cols_to_drop parameter.\n",
        "                    When false will not use the cols_to_drop parameter \n",
        "\n",
        "      returns:  Will return the datframe prepared for the pipeline.\n",
        "\n",
        "  '''\n",
        "  \n",
        "  \n",
        "  target = 'status_group'\n",
        "  # making the copy\n",
        "  df = df.copy()\n",
        "  # will try to drop the target if it is present\n",
        "  if target in df.columns:\n",
        "    df = df.drop(columns=[target])\n",
        "  \n",
        "  # Will be setting the long and lat before doing any dropping\n",
        "  df['latitude'] = df['latitude'].replace(-2e-08, 0)\n",
        "\n",
        "  # Getting rid of the zeros in the latitude and the longitude putting in \n",
        "  # np.nan\n",
        "  cols_w_zeros = ['latitude', 'longitude']\n",
        "\n",
        "  for col in cols_w_zeros:\n",
        "    df[col] = df[col].replace(0, np.nan)\n",
        "\n",
        "  if useMode == True:\n",
        "    #This is to make the latitude and the longitude have\n",
        "    # numbers similar to those whose region they are in\n",
        "    df['latitude'] = df.apply(myLatitude, axis=1, args=(df,))\n",
        "    df['longitude'] = df.apply(myLon, axis=1, args=(df,))\n",
        "    pd.to_numeric(df['latitude'])\n",
        "  \n",
        "  # Changing the format to dateTime format and then\n",
        "  # making \n",
        "  df['date_recorded'] = pd.to_datetime(df['date_recorded'])\n",
        "  df['construction_year'] = pd.to_datetime(df['construction_year'])\n",
        "  df['construction_year'] = df['construction_year'].dt.year\n",
        "\n",
        "  df['year_recorded'] = df['date_recorded'].dt.year\n",
        "  df['month_recorded'] = df['date_recorded'].dt.month\n",
        "  df['day_recorded'] = df['date_recorded'].dt.day\n",
        "\n",
        "  # Making a new feature that will be \"year_age\"\n",
        "  df['year_age']  = df['year_recorded'] - df['construction_year']\n",
        "  \n",
        "  # Dropping the columns preset to drop\n",
        "  if useDropList == True:\n",
        "    df = df.drop(columns= cols_to_drop)\n",
        "\n",
        "  # Getting a list of the cardinal features at the start\n",
        "  cardinals = df.select_dtypes(exclude='number')\n",
        "\n",
        "  # This to drop features that are left that have high skew (almost no variance)\n",
        "  # or possibly too much variance\n",
        "  if highVar != None:\n",
        "    # Getting a list of the cardinal features at the start\n",
        "    cardinals = df.select_dtypes(exclude='number')\n",
        "    tCol = cardinals.columns.to_list()\n",
        "    for col in tCol:\n",
        "      if df[col].value_counts(normalize=True, dropna=False).to_list()[0]  > highVar:\n",
        "        df = df.drop(columns=[col])\n",
        "  \n",
        "  if lowVar != None:\n",
        "    # Getting a list of the cardinal features at the start\n",
        "    cardinals = df.select_dtypes(exclude='number')\n",
        "    tCol = cardinals.columns.to_list()\n",
        "    \n",
        "    for col in tCol:\n",
        "      if df[col].value_counts(normalize=True, dropna=False).to_list()[0] < lowVar:\n",
        "        df = df.drop(columns=[col])\n",
        "\n",
        "\n",
        "  # Getting the number of features that are numerical\n",
        "  numerical_features = df.select_dtypes(include='number').columns.tolist()\n",
        "\n",
        "  # Getting the amounts in each feature of the cardinal features\n",
        "  cardinalFeatureAmounts = df.select_dtypes(exclude='number')\n",
        "  cardinalFeatureAmounts = cardinalFeatureAmounts.nunique()\n",
        "  # checking to see if 'ward' is in the list\n",
        "\n",
        "  # Creating a list of the features that have less than 50 cardinality\n",
        "  cardinal = cardinalFeatureAmounts[cardinalFeatureAmounts <= numCardinal].index.tolist()\n",
        "  \n",
        "  if num != None:\n",
        "    #This is to reduce the number of features in the cardinal groups\n",
        "    for feature in cardinal:\n",
        "      # getting the top specified amount\n",
        "      topNum = df[feature].value_counts().index[:num-1].tolist()\n",
        "      # replace those that are not in there with 'other'\n",
        "      df.loc[~df[feature].isin(topNum), feature] = 'Other'\n",
        "\n",
        "  # List of all the features\n",
        "  features = numerical_features + cardinal\n",
        "\n",
        "  \n",
        "  \n",
        "\n",
        "  return df[features]"
      ],
      "execution_count": 0,
      "outputs": []
    },
    {
      "cell_type": "code",
      "metadata": {
        "id": "nTVnidQrsyLW",
        "colab_type": "code",
        "colab": {}
      },
      "source": [
        "# Trying the wrangle function  \n",
        "\n",
        "x_train1 = wrangleFxn(x_train, cols_to_drop=cols_to_drop, num=None, highVar=.90, lowVar=.06, useDropList=True)\n",
        "x_val1 = wrangleFxn(x_val, cols_to_drop=cols_to_drop, num=None, highVar=.90, lowVar=.06, useDropList=True)\n",
        "x_test1 = wrangleFxn(test, cols_to_drop=cols_to_drop, num=None, highVar=.90, lowVar=.06, useDropList=True)"
      ],
      "execution_count": 0,
      "outputs": []
    },
    {
      "cell_type": "code",
      "metadata": {
        "id": "a2fvI_thwG4i",
        "colab_type": "code",
        "colab": {
          "base_uri": "https://localhost:8080/",
          "height": 168
        },
        "outputId": "225669b9-7646-42af-d3e6-3adf48d0a106"
      },
      "source": [
        "x_train1.columns"
      ],
      "execution_count": 84,
      "outputs": [
        {
          "output_type": "execute_result",
          "data": {
            "text/plain": [
              "Index(['amount_tsh', 'gps_height', 'longitude', 'latitude', 'region_code',\n",
              "       'district_code', 'population', 'construction_year', 'year_recorded',\n",
              "       'month_recorded', 'day_recorded', 'year_age', 'basin', 'region',\n",
              "       'public_meeting', 'scheme_management', 'permit', 'extraction_type',\n",
              "       'extraction_type_group', 'extraction_type_class', 'management',\n",
              "       'management_group', 'payment', 'water_quality', 'quantity', 'source',\n",
              "       'source_type', 'source_class', 'waterpoint_type',\n",
              "       'waterpoint_type_group'],\n",
              "      dtype='object')"
            ]
          },
          "metadata": {
            "tags": []
          },
          "execution_count": 84
        }
      ]
    },
    {
      "cell_type": "code",
      "metadata": {
        "id": "V54fz2zKrhEQ",
        "colab_type": "code",
        "colab": {}
      },
      "source": [
        "# Doing some imports for sklearn\n",
        "from  sklearn.metrics import accuracy_score\n",
        "from  sklearn.pipeline import make_pipeline\n",
        "from sklearn.ensemble import RandomForestClassifier\n",
        "from sklearn.impute import SimpleImputer\n",
        "from sklearn.preprocessing import StandardScaler\n",
        "import category_encoders as ce \n"
      ],
      "execution_count": 0,
      "outputs": []
    },
    {
      "cell_type": "code",
      "metadata": {
        "id": "PGAScHhPwI_B",
        "colab_type": "code",
        "colab": {
          "base_uri": "https://localhost:8080/",
          "height": 50
        },
        "outputId": "44461c10-b15c-4959-b0b1-f4a20544fd81"
      },
      "source": [
        "# Creating the pipeline\n",
        "%%time\n",
        "pipeline = make_pipeline(\n",
        "    ce.OrdinalEncoder(),\n",
        "    SimpleImputer(strategy='mean'),\n",
        "    RandomForestClassifier(n_estimators=100, max_depth=None, \n",
        "                           min_samples_leaf=5, n_jobs=2, random_state=42)\n",
        ")\n",
        "\n",
        "pipeline = pipeline.fit(x_train1, y_train)\n"
      ],
      "execution_count": 85,
      "outputs": [
        {
          "output_type": "stream",
          "text": [
            "CPU times: user 10.8 s, sys: 57.2 ms, total: 10.9 s\n",
            "Wall time: 5.78 s\n"
          ],
          "name": "stdout"
        }
      ]
    },
    {
      "cell_type": "code",
      "metadata": {
        "id": "MMli9lM13l50",
        "colab_type": "code",
        "colab": {}
      },
      "source": [
        "# 2  changed min_samplesLeaf=4 -- submitted # 2\n",
        "# 3  min_samplesLeaf=10\n",
        "# 4  min_samplesLeaf=6\n",
        "# 5  min_samplesLeaf=5\n",
        "# 5 min_samplesLeaf=4, \n",
        "# 6 min_samplesLeaf=4, Automatically drop some features\n",
        "# 7 same as above\n",
        "# 8 min_samplesLeaf=4, Dropped columns automatically and got new feature of \n",
        "    # age of well at the time of the recoreding the info"
      ],
      "execution_count": 0,
      "outputs": []
    },
    {
      "cell_type": "code",
      "metadata": {
        "id": "t25cZoTxy0vY",
        "colab_type": "code",
        "colab": {}
      },
      "source": [
        "# Making a list of tuples that has some iterations and the of the pipeline\n",
        "pipelineList = []"
      ],
      "execution_count": 0,
      "outputs": []
    },
    {
      "cell_type": "code",
      "metadata": {
        "id": "paY2pN38yOpi",
        "colab_type": "code",
        "colab": {
          "base_uri": "https://localhost:8080/",
          "height": 67
        },
        "outputId": "08f35723-f406-4bd2-f178-38686a863eff"
      },
      "source": [
        "# checking the accuracy\n",
        "valScore = pipeline.score(x_val1, y_val)\n",
        "trainScore = pipeline.score(x_train1, y_train)\n",
        "print(f\"The train shape {x_train1.shape}\")\n",
        "print(f\"The accuracy for train is {trainScore}\")\n",
        "print(f\"The accuracy for the validation is {valScore}\")\n",
        "\n",
        "# Putting each different pipeline model into the list\n",
        "pipelineList.append((pipeline, x_test1, trainScore, valScore))"
      ],
      "execution_count": 86,
      "outputs": [
        {
          "output_type": "stream",
          "text": [
            "The train shape (47520, 30)\n",
            "The accuracy for train is 0.8556186868686869\n",
            "The accuracy for the validation is 0.8026094276094277\n"
          ],
          "name": "stdout"
        }
      ]
    },
    {
      "cell_type": "code",
      "metadata": {
        "id": "pLtQdSnb2eF7",
        "colab_type": "code",
        "colab": {}
      },
      "source": [
        "def bestScore(thePipeList):\n",
        "  theScore = 0\n",
        "  pipeNum = 0\n",
        "  for i in range(len(thePipeList)):\n",
        "    if thePipeList[i][3] > theScore:\n",
        "      theScore = thePipeList[i][3]\n",
        "      pipeNum = i +1\n",
        "  return pipeNum , thePipeList[pipeNum -1][0], thePipeList[pipeNum -1][1]\n"
      ],
      "execution_count": 0,
      "outputs": []
    },
    {
      "cell_type": "code",
      "metadata": {
        "id": "CU0qVT9JAR58",
        "colab_type": "code",
        "colab": {
          "base_uri": "https://localhost:8080/",
          "height": 34
        },
        "outputId": "554b28e2-8db9-4b3b-db74-b31d4a2b64ec"
      },
      "source": [
        "len(pipelineList)"
      ],
      "execution_count": 88,
      "outputs": [
        {
          "output_type": "execute_result",
          "data": {
            "text/plain": [
              "8"
            ]
          },
          "metadata": {
            "tags": []
          },
          "execution_count": 88
        }
      ]
    },
    {
      "cell_type": "code",
      "metadata": {
        "id": "b5CvA65754cy",
        "colab_type": "code",
        "colab": {
          "base_uri": "https://localhost:8080/",
          "height": 34
        },
        "outputId": "053d71fd-557e-48c7-dc6e-d3facb0ac730"
      },
      "source": [
        "# Using the method above to pull out the best score and model\n",
        "\n",
        "number , pipe , the_x_test = bestScore(pipelineList)\n",
        "\n",
        "print(f\"The best pipe was {number}\")"
      ],
      "execution_count": 98,
      "outputs": [
        {
          "output_type": "stream",
          "text": [
            "The best pipe was 2\n"
          ],
          "name": "stdout"
        }
      ]
    },
    {
      "cell_type": "code",
      "metadata": {
        "id": "B-q55tIr6maq",
        "colab_type": "code",
        "colab": {
          "base_uri": "https://localhost:8080/",
          "height": 50
        },
        "outputId": "f65899c1-e41f-419a-f3ca-b0ddfa58871a"
      },
      "source": [
        "# printing the score of the best pipe(model)\n",
        "print(f\"The train score is {pipelineList[number-1][2]}\")\n",
        "print(f\"The val score is {pipelineList[number-1][3]}\")"
      ],
      "execution_count": 93,
      "outputs": [
        {
          "output_type": "stream",
          "text": [
            "The train score is 0.8722643097643098\n",
            "The val score is 0.8081649831649832\n"
          ],
          "name": "stdout"
        }
      ]
    },
    {
      "cell_type": "code",
      "metadata": {
        "id": "2hUAFPxSGs1I",
        "colab_type": "code",
        "colab": {}
      },
      "source": [
        "# Will submitt for # 2 while I try some more\n",
        "\n",
        "y_pred = pipe.predict(the_x_test)"
      ],
      "execution_count": 0,
      "outputs": []
    },
    {
      "cell_type": "code",
      "metadata": {
        "id": "vYLtx_P5IL_F",
        "colab_type": "code",
        "colab": {}
      },
      "source": [
        "# Kaggle submission\n",
        "\n",
        "sumbitCopy = sample_submission.copy()\n",
        "sumbitCopy['status_group'] = y_pred\n",
        "sumbitCopy.to_csv(f\"submit{number}.csv\", index=False)\n"
      ],
      "execution_count": 0,
      "outputs": []
    },
    {
      "cell_type": "code",
      "metadata": {
        "id": "JQKysl54J4Zz",
        "colab_type": "code",
        "colab": {
          "base_uri": "https://localhost:8080/",
          "height": 609
        },
        "outputId": "7ae2b5f5-f351-4018-b027-e34c1f23775f"
      },
      "source": [
        "# doing the feature importance\n",
        "%matplotlib inline\n",
        "import matplotlib.pyplot as plt\n",
        "\n",
        "encoder = pipe.named_steps['ordinalencoder']\n",
        "randForrest = pipe.named_steps['randomforestclassifier']\n",
        "\n",
        "theCols = encoder.feature_names\n",
        "importances = randForrest.feature_importances_\n",
        "\n",
        "s = pd.Series(importances, theCols)\n",
        "n=20\n",
        "plt.figure(figsize=(10, n/2))\n",
        "s.sort_values()[-n:].plot.barh(color='blue')"
      ],
      "execution_count": 111,
      "outputs": [
        {
          "output_type": "execute_result",
          "data": {
            "text/plain": [
              "<matplotlib.axes._subplots.AxesSubplot at 0x7fb22269fa20>"
            ]
          },
          "metadata": {
            "tags": []
          },
          "execution_count": 111
        },
        {
          "output_type": "display_data",
          "data": {
            "image/png": "[encoded data removed]",
            "text/plain": [
              "<Figure size 720x720 with 1 Axes>"
            ]
          },
          "metadata": {
            "tags": []
          }
        }
      ]
    },
    {
      "cell_type": "code",
      "metadata": {
        "id": "Ymui3LmoKeV6",
        "colab_type": "code",
        "colab": {}
      },
      "source": [
        ""
      ],
      "execution_count": 0,
      "outputs": []
    }
  ]
}