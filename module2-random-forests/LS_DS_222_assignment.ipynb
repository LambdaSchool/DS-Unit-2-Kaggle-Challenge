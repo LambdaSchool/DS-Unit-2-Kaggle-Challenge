{
 "cells": [
  {
   "cell_type": "markdown",
   "metadata": {},
   "source": [
    "Lambda School Data Science\n",
    "\n",
    "*Unit 2, Sprint 2, Module 2*\n",
    "\n",
    "---"
   ]
  },
  {
   "cell_type": "markdown",
   "metadata": {
    "colab_type": "text",
    "id": "7IXUfiQ2UKj6"
   },
   "source": [
    "# Random Forests\n",
    "\n",
    "## Assignment\n",
    "- [x] Read [“Adopting a Hypothesis-Driven Workflow”](http://archive.is/Nu3EI), a blog post by a Lambda DS student about the Tanzania Waterpumps challenge.\n",
    "- [x] Continue to participate in our Kaggle challenge.\n",
    "- [x] Define a function to wrangle train, validate, and test sets in the same way. Clean outliers and engineer features.\n",
    "- [x] Try Ordinal Encoding.\n",
    "- [X] Try a Random Forest Classifier.\n",
    "- [x] Submit your predictions to our Kaggle competition. (Go to our Kaggle InClass competition webpage. Use the blue **Submit Predictions** button to upload your CSV file. Or you can use the Kaggle API to submit your predictions.)\n",
    "- [x] Commit your notebook to your fork of the GitHub repo.\n",
    "\n",
    "## Stretch Goals\n",
    "\n",
    "### Doing\n",
    "- [ ] Add your own stretch goal(s) !\n",
    "- [ ] Do more exploratory data analysis, data cleaning, feature engineering, and feature selection.\n",
    "- [ ] Try other [categorical encodings](https://contrib.scikit-learn.org/category_encoders/).\n",
    "- [ ] Get and plot your feature importances.\n",
    "- [ ] Make visualizations and share on Slack.\n",
    "\n",
    "### Reading\n",
    "\n",
    "Top recommendations in _**bold italic:**_\n",
    "\n",
    "#### Decision Trees\n",
    "- A Visual Introduction to Machine Learning, [Part 1: A Decision Tree](http://www.r2d3.us/visual-intro-to-machine-learning-part-1/),  and _**[Part 2: Bias and Variance](http://www.r2d3.us/visual-intro-to-machine-learning-part-2/)**_\n",
    "- [Decision Trees: Advantages & Disadvantages](https://christophm.github.io/interpretable-ml-book/tree.html#advantages-2)\n",
    "- [How a Russian mathematician constructed a decision tree — by hand — to solve a medical problem](http://fastml.com/how-a-russian-mathematician-constructed-a-decision-tree-by-hand-to-solve-a-medical-problem/)\n",
    "- [How decision trees work](https://brohrer.github.io/how_decision_trees_work.html)\n",
    "- [Let’s Write a Decision Tree Classifier from Scratch](https://www.youtube.com/watch?v=LDRbO9a6XPU)\n",
    "\n",
    "#### Random Forests\n",
    "- [_An Introduction to Statistical Learning_](http://www-bcf.usc.edu/~gareth/ISL/), Chapter 8: Tree-Based Methods\n",
    "- [Coloring with Random Forests](http://structuringtheunstructured.blogspot.com/2017/11/coloring-with-random-forests.html)\n",
    "- _**[Random Forests for Complete Beginners: The definitive guide to Random Forests and Decision Trees](https://victorzhou.com/blog/intro-to-random-forests/)**_\n",
    "\n",
    "#### Categorical encoding for trees\n",
    "- [Are categorical variables getting lost in your random forests?](https://roamanalytics.com/2016/10/28/are-categorical-variables-getting-lost-in-your-random-forests/)\n",
    "- [Beyond One-Hot: An Exploration of Categorical Variables](http://www.willmcginnis.com/2015/11/29/beyond-one-hot-an-exploration-of-categorical-variables/)\n",
    "- _**[Categorical Features and Encoding in Decision Trees](https://medium.com/data-design/visiting-categorical-features-and-encoding-in-decision-trees-53400fa65931)**_\n",
    "- _**[Coursera — How to Win a Data Science Competition: Learn from Top Kagglers — Concept of mean encoding](https://www.coursera.org/lecture/competitive-data-science/concept-of-mean-encoding-b5Gxv)**_\n",
    "- [Mean (likelihood) encodings: a comprehensive study](https://www.kaggle.com/vprokopev/mean-likelihood-encodings-a-comprehensive-study)\n",
    "- [The Mechanics of Machine Learning, Chapter 6: Categorically Speaking](https://mlbook.explained.ai/catvars.html)\n",
    "\n",
    "#### Imposter Syndrome\n",
    "- [Effort Shock and Reward Shock (How The Karate Kid Ruined The Modern World)](http://www.tempobook.com/2014/07/09/effort-shock-and-reward-shock/)\n",
    "- [How to manage impostor syndrome in data science](https://towardsdatascience.com/how-to-manage-impostor-syndrome-in-data-science-ad814809f068)\n",
    "- [\"I am not a real data scientist\"](https://brohrer.github.io/imposter_syndrome.html)\n",
    "- _**[Imposter Syndrome in Data Science](https://caitlinhudon.com/2018/01/19/imposter-syndrome-in-data-science/)**_\n",
    "\n",
    "\n",
    "### More Categorical Encodings\n",
    "\n",
    "**1.** The article **[Categorical Features and Encoding in Decision Trees](https://medium.com/data-design/visiting-categorical-features-and-encoding-in-decision-trees-53400fa65931)** mentions 4 encodings:\n",
    "\n",
    "- **\"Categorical Encoding\":** This means using the raw categorical values as-is, not encoded. Scikit-learn doesn't support this, but some tree algorithm implementations do. For example, [Catboost](https://catboost.ai/), or R's [rpart](https://cran.r-project.org/web/packages/rpart/index.html) package.\n",
    "- **Numeric Encoding:** Synonymous with Label Encoding, or \"Ordinal\" Encoding with random order. We can use [category_encoders.OrdinalEncoder](https://contrib.scikit-learn.org/category_encoders/ordinal.html).\n",
    "- **One-Hot Encoding:** We can use [category_encoders.OneHotEncoder](https://contrib.scikit-learn.org/category_encoders/onehot.html).\n",
    "- **Binary Encoding:** We can use [category_encoders.BinaryEncoder](https://contrib.scikit-learn.org/category_encoders/binary.html).\n",
    "\n",
    "\n",
    "**2.** The short video \n",
    "**[Coursera — How to Win a Data Science Competition: Learn from Top Kagglers — Concept of mean encoding](https://www.coursera.org/lecture/competitive-data-science/concept-of-mean-encoding-b5Gxv)** introduces an interesting idea: use both X _and_ y to encode categoricals.\n",
    "\n",
    "Category Encoders has multiple implementations of this general concept:\n",
    "\n",
    "- [CatBoost Encoder](https://contrib.scikit-learn.org/category_encoders/catboost.html)\n",
    "- [Generalized Linear Mixed Model Encoder](https://contrib.scikit-learn.org/category_encoders/glmm.html)\n",
    "- [James-Stein Encoder](https://contrib.scikit-learn.org/category_encoders/jamesstein.html)\n",
    "- [Leave One Out](https://contrib.scikit-learn.org/category_encoders/leaveoneout.html)\n",
    "- [M-estimate](https://contrib.scikit-learn.org/category_encoders/mestimate.html)\n",
    "- [Target Encoder](https://contrib.scikit-learn.org/category_encoders/targetencoder.html)\n",
    "- [Weight of Evidence](https://contrib.scikit-learn.org/category_encoders/woe.html)\n",
    "\n",
    "Category Encoder's mean encoding implementations work for regression problems or binary classification problems. \n",
    "\n",
    "For multi-class classification problems, you will need to temporarily reformulate it as binary classification. For example:\n",
    "\n",
    "```python\n",
    "encoder = ce.TargetEncoder(min_samples_leaf=..., smoothing=...) # Both parameters > 1 to avoid overfitting\n",
    "X_train_encoded = encoder.fit_transform(X_train, y_train=='functional')\n",
    "X_val_encoded = encoder.transform(X_train, y_val=='functional')\n",
    "```\n",
    "\n",
    "For this reason, mean encoding won't work well within pipelines for multi-class classification problems.\n",
    "\n",
    "**3.** The **[dirty_cat](https://dirty-cat.github.io/stable/)** library has a Target Encoder implementation that works with multi-class classification.\n",
    "\n",
    "```python\n",
    " dirty_cat.TargetEncoder(clf_type='multiclass-clf')\n",
    "```\n",
    "It also implements an interesting idea called [\"Similarity Encoder\" for dirty categories](https://www.slideshare.net/GaelVaroquaux/machine-learning-on-non-curated-data-154905090).\n",
    "\n",
    "However, it seems like dirty_cat doesn't handle missing values or unknown categories as well as category_encoders does. And you may need to use it with one column at a time, instead of with your whole dataframe.\n",
    "\n",
    "**4. [Embeddings](https://www.kaggle.com/colinmorris/embedding-layers)** can work well with sparse / high cardinality categoricals.\n",
    "\n",
    "_**I hope it’s not too frustrating or confusing that there’s not one “canonical” way to encode categoricals. It’s an active area of research and experimentation — maybe you can make your own contributions!**_"
   ]
  },
  {
   "cell_type": "markdown",
   "metadata": {},
   "source": [
    "### Setup\n",
    "\n",
    "You can work locally (follow the [local setup instructions](https://lambdaschool.github.io/ds/unit2/local/)) or on Colab (run the code cell below)."
   ]
  },
  {
   "cell_type": "code",
   "execution_count": 3,
   "metadata": {
    "colab": {},
    "colab_type": "code",
    "id": "o9eSnDYhUGD7"
   },
   "outputs": [],
   "source": [
    "%%capture\n",
    "import sys\n",
    "\n",
    "# If you're on Colab:\n",
    "if 'google.colab' in sys.modules:\n",
    "    DATA_PATH = 'https://raw.githubusercontent.com/LambdaSchool/DS-Unit-2-Kaggle-Challenge/master/data/'\n",
    "    !pip install category_encoders==2.*\n",
    "\n",
    "# If you're working locally:\n",
    "else:\n",
    "    DATA_PATH = '../data/'"
   ]
  },
  {
   "cell_type": "code",
   "execution_count": 4,
   "metadata": {
    "colab": {},
    "colab_type": "code",
    "id": "QJBD4ruICm1m"
   },
   "outputs": [],
   "source": [
    "import pandas as pd\n",
    "from sklearn.model_selection import train_test_split\n",
    "import matplotlib.pyplot as plt\n",
    "import numpy as np"
   ]
  },
  {
   "cell_type": "code",
   "execution_count": 13,
   "metadata": {},
   "outputs": [],
   "source": [
    "\n",
    "def setup_data(target):   #load kaggle data and return 3 way split for target feature\n",
    "    \"\"\"take in the target feature, load kaggle and return 3-way split for processing,\n",
    "    train, val, test,features, target\"\"\"\n",
    "\n",
    "    kaggle_train = pd.merge(pd.read_csv(DATA_PATH+'waterpumps/train_features.csv'), \n",
    "                     pd.read_csv(DATA_PATH+'waterpumps/train_labels.csv'))\n",
    "    test = pd.read_csv(DATA_PATH+'waterpumps/test_features.csv')\n",
    "\n",
    "    train, val = train_test_split(kaggle_train, train_size=0.80, test_size=0.20, \n",
    "                                  stratify=kaggle_train[target], random_state=8)\n",
    "    features = train.columns.drop(target) #intial set all features\n",
    "    return train, val, test, features, target\n"
   ]
  },
  {
   "cell_type": "code",
   "execution_count": 14,
   "metadata": {},
   "outputs": [],
   "source": [
    "\n",
    "def wrangle(X): \n",
    "    \"\"\"wrangle single dataframe, return processed copy\"\"\"\n",
    "\n",
    "    X = X.copy()\n",
    "\n",
    "    #all strings to lower   #needs work\n",
    "  #  catcols = X.describe(exclude='number').columns\n",
    "   # for col in catcols:\n",
    "        #    X[col] = X[col].str.lower()\n",
    "\n",
    "\n",
    "    X.scheme_management = X.scheme_management.fillna('unknown')\n",
    "    X.management = X.management.str.lower()\n",
    "    X.scheme_management = X.scheme_management.str.lower()\n",
    "    if 'manage' not in X.index:\n",
    "        X['manage'] = X.management + X.scheme_management\n",
    "      \n",
    "       # About 3% of the time, latitude has small values near zero,\n",
    "    # outside Tanzania, so we'll treat these values like zero.\n",
    "    if ('latitude' in X.index):\n",
    "        X['latitude'] = X['latitude'].replace(-2e-08, 0)\n",
    "        # When columns have zeros and shouldn't, they are like null values.\n",
    "        # So we will replace the zeros with nulls, and impute missing values later.\n",
    "        cols_with_zeros = ['longitude', 'latitude']\n",
    "        for col in cols_with_zeros:\n",
    "            X[col] = X[col].replace(0, np.nan)\n",
    "    if ('permit' in X.index):\n",
    "        X['permit'] = X['permit'].astype('str')\n",
    "        X['permit'] = X['permit'].replace({'True': 'yes','False': 'no'})\n",
    "   \n",
    "    #X['age'] = pd.DatetimeIndex(X['date_recorded']).year - X.construction_year #not good due to zeros\n",
    "      # Convert date_recorded to datetime\n",
    "    X['date_recorded'] = pd.to_datetime(X['date_recorded'], infer_datetime_format=True)\n",
    "    \n",
    "    # Extract components from date_recorded, then drop the original column\n",
    "    X['year_recorded'] = X['date_recorded'].dt.year\n",
    "    X['month_recorded'] = X['date_recorded'].dt.month\n",
    "    X['day_recorded'] = X['date_recorded'].dt.day\n",
    "    \n",
    "    X['years'] = X['year_recorded'] - X['construction_year']   #age \n",
    "    X['years_MISSING'] = X['years'].isnull()     \n",
    "\n",
    "    dropcols = ['wpt_name',\n",
    "                'date_recorded',\n",
    "                'ward','scheme_name',\n",
    "                'payment_type',     #duplicate of payment\n",
    "                'quantity_group',   #same as quantity\n",
    "                'recorded_by',      #1 unique value\n",
    "                'id']\n",
    "\n",
    "    for i in dropcols:\n",
    "        if i in X.columns:\n",
    "            X.drop(labels=i, axis=1, inplace=True)\n",
    "\n",
    "    #deal generically with  nans here last resort \n",
    "    nancols = X.isnull().sum()[X.isnull().sum() > 0 ].index\n",
    "    for col in nancols:\n",
    "        X[col].fillna(value='missing',inplace=True)\n",
    "    return X\n"
   ]
  },
  {
   "cell_type": "code",
   "execution_count": 15,
   "metadata": {},
   "outputs": [],
   "source": [
    "\n",
    "def arrange(df, features):\n",
    "    \"\"\" take in single dataframe, either train or val containing features\n",
    "    and target, process all columns, and return x and y vectors for features, target lists::\n",
    "    X_train, y_train = arrange(traindata, featurelist, target) \n",
    "    \"\"\"\n",
    "    data = wrangle(df) #get new processsed dataframe and column list\n",
    "\n",
    "    X = data[features]\n",
    "    y = df[target]\n",
    "    return X,y"
   ]
  },
  {
   "cell_type": "code",
   "execution_count": 16,
   "metadata": {},
   "outputs": [],
   "source": [
    "\n",
    "from sklearn.preprocessing import FunctionTransformer\n",
    "import category_encoders as ce\n",
    "from sklearn.preprocessing import OrdinalEncoder\n",
    "from sklearn.impute import SimpleImputer\n",
    "from sklearn.tree import DecisionTreeClassifier\n",
    "from sklearn.ensemble import RandomForestClassifier\n",
    "from sklearn.pipeline import make_pipeline\n",
    "\n",
    "\n",
    "dt_pipe = make_pipeline(\n",
    "    ce.OrdinalEncoder(),\n",
    "    SimpleImputer(strategy='median'),\n",
    "    DecisionTreeClassifier(min_samples_leaf=20, random_state=88)\n",
    ")\n",
    "\n",
    "rf_pipe = make_pipeline(\n",
    "    ce.OrdinalEncoder(),\n",
    "    SimpleImputer(strategy='mean'),\n",
    "    RandomForestClassifier( random_state=88)\n",
    ")\n",
    "rf_he = make_pipeline(\n",
    "    ce.OneHotEncoder(use_cat_names=True),\n",
    "    SimpleImputer(strategy='mean'),\n",
    "    RandomForestClassifier( random_state=88)\n",
    ")\n"
   ]
  },
  {
   "cell_type": "code",
   "execution_count": 17,
   "metadata": {},
   "outputs": [
    {
     "output_type": "stream",
     "name": "stdout",
     "text": "Index(['amount_tsh', 'funder', 'gps_height', 'installer', 'longitude',\n       'latitude', 'num_private', 'basin', 'subvillage', 'region',\n       'region_code', 'district_code', 'lga', 'population', 'public_meeting',\n       'scheme_management', 'permit', 'construction_year', 'extraction_type',\n       'extraction_type_group', 'extraction_type_class', 'management',\n       'management_group', 'payment', 'water_quality', 'quality_group',\n       'quantity', 'source', 'source_type', 'source_class', 'waterpoint_type',\n       'waterpoint_type_group', 'manage', 'year_recorded', 'month_recorded',\n       'day_recorded', 'years', 'years_MISSING'],\n      dtype='object')\n"
    }
   ],
   "source": [
    "train,val,test, allfeatures, target = setup_data('status_group')\n",
    "catcols = train.select_dtypes(exclude='number')\n",
    "numcols = train.select_dtypes(include='number').columns.drop('id').tolist()\n",
    "\n",
    "\n",
    "X= wrangle(train)\n",
    "y = train[target]\n",
    "\n",
    "allfeatures = X.columns.drop(target)\n",
    "\n",
    "card = X.select_dtypes(exclude='number').nunique()\n",
    "catf = card[card <= 50].index.tolist()\n",
    "feat_dt = numcols + catf\n",
    "print(allfeatures)"
   ]
  },
  {
   "cell_type": "code",
   "execution_count": 43,
   "metadata": {},
   "outputs": [
    {
     "output_type": "stream",
     "name": "stdout",
     "text": "random forest,  untuned validation accuracy 0.8025252525252525\ndecision tree with ordinal encoding 0.765993265993266\n"
    }
   ],
   "source": [
    "train,val,test, _, target = setup_data('status_group')\n",
    "\n",
    "features = allfeatures ## change selected features here\n",
    "\n",
    "X_train= wrangle(train)[features]\n",
    "y_train = train[target]\n",
    "X_val, y_val = arrange(val,features)\n",
    "\n",
    "X_test = wrangle(test)[features]\n",
    "\n",
    "rf_pipe.fit(X_train,y_train)\n",
    "score = rf_pipe.score(X_val,y_val)\n",
    "\n",
    "dt_pipe.fit(X_train,y_train)\n",
    "\n",
    "print ('random forest,  untuned validation accuracy',score)\n",
    "print('decision tree with ordinal encoding', dt_pipe.score(X_val,y_val))\n",
    "\n"
   ]
  },
  {
   "cell_type": "code",
   "execution_count": 45,
   "metadata": {},
   "outputs": [
    {
     "output_type": "execute_result",
     "data": {
      "text/plain": "((14358,), (14358, 40))"
     },
     "metadata": {},
     "execution_count": 45
    }
   ],
   "source": [
    "rf_pipe.predict(X_test).shape,test.shape"
   ]
  },
  {
   "cell_type": "code",
   "execution_count": 71,
   "metadata": {},
   "outputs": [],
   "source": [
    "\n",
    "sub_rf_oe =pd.DataFrame( data=rf_pipe.predict(X_test), index=test['id'])\n",
    "sub_dt_oe= pd.DataFrame( data=dt_pipe.predict(X_test), index=test['id'])\n",
    "sub_rf_oe.columns = ['status_group']\n",
    "sub_dt_oe.columns = ['status_group']\n",
    "sub_rf_oe.to_csv('random_forest_oe.csv')\n",
    "sub_dt_oe.to_csv('decision_tree_oe.csv')"
   ]
  },
  {
   "cell_type": "code",
   "execution_count": 72,
   "metadata": {},
   "outputs": [
    {
     "output_type": "execute_result",
     "data": {
      "text/plain": "         status_group\nid                   \n50785      functional\n51630      functional\n17168      functional\n45559  non functional\n49871      functional\n...               ...\n39307  non functional\n18990      functional\n28749      functional\n33492      functional\n68707  non functional\n\n[14358 rows x 1 columns]",
      "text/html": "<div>\n<style scoped>\n    .dataframe tbody tr th:only-of-type {\n        vertical-align: middle;\n    }\n\n    .dataframe tbody tr th {\n        vertical-align: top;\n    }\n\n    .dataframe thead th {\n        text-align: right;\n    }\n</style>\n<table border=\"1\" class=\"dataframe\">\n  <thead>\n    <tr style=\"text-align: right;\">\n      <th></th>\n      <th>status_group</th>\n    </tr>\n    <tr>\n      <th>id</th>\n      <th></th>\n    </tr>\n  </thead>\n  <tbody>\n    <tr>\n      <th>50785</th>\n      <td>functional</td>\n    </tr>\n    <tr>\n      <th>51630</th>\n      <td>functional</td>\n    </tr>\n    <tr>\n      <th>17168</th>\n      <td>functional</td>\n    </tr>\n    <tr>\n      <th>45559</th>\n      <td>non functional</td>\n    </tr>\n    <tr>\n      <th>49871</th>\n      <td>functional</td>\n    </tr>\n    <tr>\n      <th>...</th>\n      <td>...</td>\n    </tr>\n    <tr>\n      <th>39307</th>\n      <td>non functional</td>\n    </tr>\n    <tr>\n      <th>18990</th>\n      <td>functional</td>\n    </tr>\n    <tr>\n      <th>28749</th>\n      <td>functional</td>\n    </tr>\n    <tr>\n      <th>33492</th>\n      <td>functional</td>\n    </tr>\n    <tr>\n      <th>68707</th>\n      <td>non functional</td>\n    </tr>\n  </tbody>\n</table>\n<p>14358 rows × 1 columns</p>\n</div>"
     },
     "metadata": {},
     "execution_count": 72
    }
   ],
   "source": [
    "sub_rf_oe"
   ]
  },
  {
   "cell_type": "code",
   "execution_count": 66,
   "metadata": {},
   "outputs": [],
   "source": []
  },
  {
   "cell_type": "markdown",
   "metadata": {},
   "source": [
    "train,val,test, allfeatures, target = setup_data('status_group')\n",
    "catcols = train.select_dtypes(exclude='number')\n",
    "numcols = train.select_dtypes(include='number').columns.drop('id').tolist()\n",
    "\n",
    "\n",
    "X= wrangle(train)\n",
    "y = wrangle(train)[target]\n",
    "X_val = wrangle(val)\n",
    "y_val = val[target]\n",
    "X_test =wrangle(test)\n",
    "allfeatures = X.columns.drop(target)\n",
    "\n",
    "card = X.select_dtypes(exclude='number').nunique()\n",
    "catf = card[card <= 50].index.tolist()\n",
    "feat_dt = numcols + catf\n",
    "X= X[numcols]\n",
    "rf_pipe.fit(X,y)\n",
    "score = rf_pipe.score(X_val[numcols],y_val)\n",
    "print ('random forest, numeric cols, untuned Validation accuracy',score)\n",
    "y_pred = rf_pipe.predict()"
   ]
  },
  {
   "cell_type": "code",
   "execution_count": 23,
   "metadata": {},
   "outputs": [],
   "source": [
    "\n",
    "\n",
    "\n"
   ]
  }
 ],
 "metadata": {
  "kernelspec": {
   "display_name": "Python 3",
   "language": "python",
   "name": "python3"
  },
  "language_info": {
   "codemirror_mode": {
    "name": "ipython",
    "version": 3
   },
   "file_extension": ".py",
   "mimetype": "text/x-python",
   "name": "python",
   "nbconvert_exporter": "python",
   "pygments_lexer": "ipython3",
   "version": "3.7.4-final"
  }
 },
 "nbformat": 4,
 "nbformat_minor": 4
}