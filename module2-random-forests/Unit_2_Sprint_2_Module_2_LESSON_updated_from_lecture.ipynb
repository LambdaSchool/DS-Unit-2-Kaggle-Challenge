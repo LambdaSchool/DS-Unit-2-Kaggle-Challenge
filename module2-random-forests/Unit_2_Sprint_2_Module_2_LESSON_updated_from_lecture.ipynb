{
  "nbformat": 4,
  "nbformat_minor": 0,
  "metadata": {
    "kernelspec": {
      "display_name": "Python 3",
      "language": "python",
      "name": "python3"
    },
    "language_info": {
      "codemirror_mode": {
        "name": "ipython",
        "version": 3
      },
      "file_extension": ".py",
      "mimetype": "text/x-python",
      "name": "python",
      "nbconvert_exporter": "python",
      "pygments_lexer": "ipython3",
      "version": "3.7.3"
    },
    "colab": {
      "name": "Copy of Unit 2 - Sprint 2 - Module 2 - LESSON.ipynb",
      "provenance": [],
      "collapsed_sections": [],
      "include_colab_link": true
    },
    "widgets": {
      "application/vnd.jupyter.widget-state+json": {
        "1ff9fd83227344f3990c3b5bb605f8d3": {
          "model_module": "@jupyter-widgets/controls",
          "model_name": "VBoxModel",
          "state": {
            "_view_name": "VBoxView",
            "_dom_classes": [
              "widget-interact"
            ],
            "_model_name": "VBoxModel",
            "_view_module": "@jupyter-widgets/controls",
            "_model_module_version": "1.5.0",
            "_view_count": null,
            "_view_module_version": "1.5.0",
            "box_style": "",
            "layout": "IPY_MODEL_a066d8315a55407d806e43081246d411",
            "_model_module": "@jupyter-widgets/controls",
            "children": [
              "IPY_MODEL_d384601f56e44c99bf9c08e667d53bbe",
              "IPY_MODEL_b1780511a70b46feac8f7be5be3468eb",
              "IPY_MODEL_9c2bf7dd1f1d418bb11ea8febbb25d29"
            ]
          }
        },
        "a066d8315a55407d806e43081246d411": {
          "model_module": "@jupyter-widgets/base",
          "model_name": "LayoutModel",
          "state": {
            "_view_name": "LayoutView",
            "grid_template_rows": null,
            "right": null,
            "justify_content": null,
            "_view_module": "@jupyter-widgets/base",
            "overflow": null,
            "_model_module_version": "1.2.0",
            "_view_count": null,
            "flex_flow": null,
            "width": null,
            "min_width": null,
            "border": null,
            "align_items": null,
            "bottom": null,
            "_model_module": "@jupyter-widgets/base",
            "top": null,
            "grid_column": null,
            "overflow_y": null,
            "overflow_x": null,
            "grid_auto_flow": null,
            "grid_area": null,
            "grid_template_columns": null,
            "flex": null,
            "_model_name": "LayoutModel",
            "justify_items": null,
            "grid_row": null,
            "max_height": null,
            "align_content": null,
            "visibility": null,
            "align_self": null,
            "height": null,
            "min_height": null,
            "padding": null,
            "grid_auto_rows": null,
            "grid_gap": null,
            "max_width": null,
            "order": null,
            "_view_module_version": "1.2.0",
            "grid_template_areas": null,
            "object_position": null,
            "object_fit": null,
            "grid_auto_columns": null,
            "margin": null,
            "display": null,
            "left": null
          }
        },
        "d384601f56e44c99bf9c08e667d53bbe": {
          "model_module": "@jupyter-widgets/controls",
          "model_name": "IntSliderModel",
          "state": {
            "_view_name": "IntSliderView",
            "style": "IPY_MODEL_b8768648b64a43a4bcbe36dfcc9c3d36",
            "_dom_classes": [],
            "description": "max_depth",
            "step": 1,
            "_model_name": "IntSliderModel",
            "orientation": "horizontal",
            "max": 6,
            "_view_module": "@jupyter-widgets/controls",
            "_model_module_version": "1.5.0",
            "value": 4,
            "_view_count": null,
            "disabled": false,
            "_view_module_version": "1.5.0",
            "min": 1,
            "continuous_update": true,
            "readout_format": "d",
            "description_tooltip": null,
            "readout": true,
            "_model_module": "@jupyter-widgets/controls",
            "layout": "IPY_MODEL_31fc5a66d0e54c3f8b6dbca58d5b163e"
          }
        },
        "b1780511a70b46feac8f7be5be3468eb": {
          "model_module": "@jupyter-widgets/controls",
          "model_name": "IntSliderModel",
          "state": {
            "_view_name": "IntSliderView",
            "style": "IPY_MODEL_aacc3259ee9345ef9c23c293ab5128e7",
            "_dom_classes": [],
            "description": "n_estimators",
            "step": 10,
            "_model_name": "IntSliderModel",
            "orientation": "horizontal",
            "max": 40,
            "_view_module": "@jupyter-widgets/controls",
            "_model_module_version": "1.5.0",
            "value": 10,
            "_view_count": null,
            "disabled": false,
            "_view_module_version": "1.5.0",
            "min": 10,
            "continuous_update": true,
            "readout_format": "d",
            "description_tooltip": null,
            "readout": true,
            "_model_module": "@jupyter-widgets/controls",
            "layout": "IPY_MODEL_37dbe36691ec4b7db241f5152b37cf72"
          }
        },
        "9c2bf7dd1f1d418bb11ea8febbb25d29": {
          "model_module": "@jupyter-widgets/output",
          "model_name": "OutputModel",
          "state": {
            "_view_name": "OutputView",
            "msg_id": "",
            "_dom_classes": [],
            "_model_name": "OutputModel",
            "outputs": [
              {
                "output_type": "display_data",
                "metadata": {
                  "tags": []
                },
                "image/png": "iVBORw0KGgoAAAANSUhEUgAAAYIAAAEWCAYAAABrDZDcAAAABHNCSVQICAgIfAhkiAAAAAlwSFlz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\n",
                "text/plain": "<Figure size 432x288 with 1 Axes>"
              },
              {
                "output_type": "display_data",
                "metadata": {
                  "tags": []
                },
                "image/png": "iVBORw0KGgoAAAANSUhEUgAAAYIAAAEWCAYAAABrDZDcAAAABHNCSVQICAgIfAhkiAAAAAlwSFlz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\nM2tyTgRmZk3OicDMrMn9fyzO9dK/xS0aAAAAAElFTkSuQmCC\n",
                "text/plain": "<Figure size 432x288 with 1 Axes>"
              }
            ],
            "_view_module": "@jupyter-widgets/output",
            "_model_module_version": "1.0.0",
            "_view_count": null,
            "_view_module_version": "1.0.0",
            "layout": "IPY_MODEL_96a105745ee24c75aa9c913dad37a414",
            "_model_module": "@jupyter-widgets/output"
          }
        },
        "b8768648b64a43a4bcbe36dfcc9c3d36": {
          "model_module": "@jupyter-widgets/controls",
          "model_name": "SliderStyleModel",
          "state": {
            "_view_name": "StyleView",
            "handle_color": null,
            "_model_name": "SliderStyleModel",
            "description_width": "",
            "_view_module": "@jupyter-widgets/base",
            "_model_module_version": "1.5.0",
            "_view_count": null,
            "_view_module_version": "1.2.0",
            "_model_module": "@jupyter-widgets/controls"
          }
        },
        "31fc5a66d0e54c3f8b6dbca58d5b163e": {
          "model_module": "@jupyter-widgets/base",
          "model_name": "LayoutModel",
          "state": {
            "_view_name": "LayoutView",
            "grid_template_rows": null,
            "right": null,
            "justify_content": null,
            "_view_module": "@jupyter-widgets/base",
            "overflow": null,
            "_model_module_version": "1.2.0",
            "_view_count": null,
            "flex_flow": null,
            "width": null,
            "min_width": null,
            "border": null,
            "align_items": null,
            "bottom": null,
            "_model_module": "@jupyter-widgets/base",
            "top": null,
            "grid_column": null,
            "overflow_y": null,
            "overflow_x": null,
            "grid_auto_flow": null,
            "grid_area": null,
            "grid_template_columns": null,
            "flex": null,
            "_model_name": "LayoutModel",
            "justify_items": null,
            "grid_row": null,
            "max_height": null,
            "align_content": null,
            "visibility": null,
            "align_self": null,
            "height": null,
            "min_height": null,
            "padding": null,
            "grid_auto_rows": null,
            "grid_gap": null,
            "max_width": null,
            "order": null,
            "_view_module_version": "1.2.0",
            "grid_template_areas": null,
            "object_position": null,
            "object_fit": null,
            "grid_auto_columns": null,
            "margin": null,
            "display": null,
            "left": null
          }
        },
        "aacc3259ee9345ef9c23c293ab5128e7": {
          "model_module": "@jupyter-widgets/controls",
          "model_name": "SliderStyleModel",
          "state": {
            "_view_name": "StyleView",
            "handle_color": null,
            "_model_name": "SliderStyleModel",
            "description_width": "",
            "_view_module": "@jupyter-widgets/base",
            "_model_module_version": "1.5.0",
            "_view_count": null,
            "_view_module_version": "1.2.0",
            "_model_module": "@jupyter-widgets/controls"
          }
        },
        "37dbe36691ec4b7db241f5152b37cf72": {
          "model_module": "@jupyter-widgets/base",
          "model_name": "LayoutModel",
          "state": {
            "_view_name": "LayoutView",
            "grid_template_rows": null,
            "right": null,
            "justify_content": null,
            "_view_module": "@jupyter-widgets/base",
            "overflow": null,
            "_model_module_version": "1.2.0",
            "_view_count": null,
            "flex_flow": null,
            "width": null,
            "min_width": null,
            "border": null,
            "align_items": null,
            "bottom": null,
            "_model_module": "@jupyter-widgets/base",
            "top": null,
            "grid_column": null,
            "overflow_y": null,
            "overflow_x": null,
            "grid_auto_flow": null,
            "grid_area": null,
            "grid_template_columns": null,
            "flex": null,
            "_model_name": "LayoutModel",
            "justify_items": null,
            "grid_row": null,
            "max_height": null,
            "align_content": null,
            "visibility": null,
            "align_self": null,
            "height": null,
            "min_height": null,
            "padding": null,
            "grid_auto_rows": null,
            "grid_gap": null,
            "max_width": null,
            "order": null,
            "_view_module_version": "1.2.0",
            "grid_template_areas": null,
            "object_position": null,
            "object_fit": null,
            "grid_auto_columns": null,
            "margin": null,
            "display": null,
            "left": null
          }
        },
        "3ca5afc9aae645319a7c52dbe57f4408": {
          "model_module": "@jupyter-widgets/controls",
          "model_name": "VBoxModel",
          "state": {
            "_view_name": "VBoxView",
            "_dom_classes": [
              "widget-interact"
            ],
            "_model_name": "VBoxModel",
            "_view_module": "@jupyter-widgets/controls",
            "_model_module_version": "1.5.0",
            "_view_count": null,
            "_view_module_version": "1.5.0",
            "box_style": "",
            "layout": "IPY_MODEL_e19d444ef8794a48bae1c730a3457f72",
            "_model_module": "@jupyter-widgets/controls",
            "children": [
              "IPY_MODEL_72c12429fdf64c7fad13687150ad3e5e",
              "IPY_MODEL_0e023ada28f745ab85d96e42e76de5f3",
              "IPY_MODEL_a12aca5c77e24dc8834e2e166a432858"
            ]
          }
        },
        "e19d444ef8794a48bae1c730a3457f72": {
          "model_module": "@jupyter-widgets/base",
          "model_name": "LayoutModel",
          "state": {
            "_view_name": "LayoutView",
            "grid_template_rows": null,
            "right": null,
            "justify_content": null,
            "_view_module": "@jupyter-widgets/base",
            "overflow": null,
            "_model_module_version": "1.2.0",
            "_view_count": null,
            "flex_flow": null,
            "width": null,
            "min_width": null,
            "border": null,
            "align_items": null,
            "bottom": null,
            "_model_module": "@jupyter-widgets/base",
            "top": null,
            "grid_column": null,
            "overflow_y": null,
            "overflow_x": null,
            "grid_auto_flow": null,
            "grid_area": null,
            "grid_template_columns": null,
            "flex": null,
            "_model_name": "LayoutModel",
            "justify_items": null,
            "grid_row": null,
            "max_height": null,
            "align_content": null,
            "visibility": null,
            "align_self": null,
            "height": null,
            "min_height": null,
            "padding": null,
            "grid_auto_rows": null,
            "grid_gap": null,
            "max_width": null,
            "order": null,
            "_view_module_version": "1.2.0",
            "grid_template_areas": null,
            "object_position": null,
            "object_fit": null,
            "grid_auto_columns": null,
            "margin": null,
            "display": null,
            "left": null
          }
        },
        "72c12429fdf64c7fad13687150ad3e5e": {
          "model_module": "@jupyter-widgets/controls",
          "model_name": "IntSliderModel",
          "state": {
            "_view_name": "IntSliderView",
            "style": "IPY_MODEL_9212791f153243dd8bc1a96efab4768d",
            "_dom_classes": [],
            "description": "max_depth",
            "step": 1,
            "_model_name": "IntSliderModel",
            "orientation": "horizontal",
            "max": 6,
            "_view_module": "@jupyter-widgets/controls",
            "_model_module_version": "1.5.0",
            "value": 1,
            "_view_count": null,
            "disabled": false,
            "_view_module_version": "1.5.0",
            "min": 1,
            "continuous_update": true,
            "readout_format": "d",
            "description_tooltip": null,
            "readout": true,
            "_model_module": "@jupyter-widgets/controls",
            "layout": "IPY_MODEL_6b5d47d0ebd949859b3ed6db0a00beb7"
          }
        },
        "0e023ada28f745ab85d96e42e76de5f3": {
          "model_module": "@jupyter-widgets/controls",
          "model_name": "IntSliderModel",
          "state": {
            "_view_name": "IntSliderView",
            "style": "IPY_MODEL_e401c74f1a394e95a64fd038203121d0",
            "_dom_classes": [],
            "description": "n_estimators",
            "step": 1,
            "_model_name": "IntSliderModel",
            "orientation": "horizontal",
            "max": 5,
            "_view_module": "@jupyter-widgets/controls",
            "_model_module_version": "1.5.0",
            "value": 2,
            "_view_count": null,
            "disabled": false,
            "_view_module_version": "1.5.0",
            "min": 2,
            "continuous_update": true,
            "readout_format": "d",
            "description_tooltip": null,
            "readout": true,
            "_model_module": "@jupyter-widgets/controls",
            "layout": "IPY_MODEL_c103953f22934f2c84ec04b75c2757b4"
          }
        },
        "a12aca5c77e24dc8834e2e166a432858": {
          "model_module": "@jupyter-widgets/output",
          "model_name": "OutputModel",
          "state": {
            "_view_name": "OutputView",
            "msg_id": "",
            "_dom_classes": [],
            "_model_name": "OutputModel",
            "outputs": [
              {
                "output_type": "display_data",
                "metadata": {
                  "tags": []
                },
                "image/png": "iVBORw0KGgoAAAANSUhEUgAAAYIAAAEWCAYAAABrDZDcAAAABHNCSVQICAgIfAhkiAAAAAlwSFlz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\n",
                "text/plain": "<Figure size 432x288 with 1 Axes>"
              },
              {
                "output_type": "display_data",
                "metadata": {
                  "tags": []
                },
                "image/png": "iVBORw0KGgoAAAANSUhEUgAAAYgAAAEWCAYAAAB8LwAVAAAABHNCSVQICAgIfAhkiAAAAAlwSFlz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\nCDMzS+WAMDOzVA4IMzNL9f8BDWkiAyQJ5DgAAAAASUVORK5CYII=\n",
                "text/plain": "<Figure size 432x288 with 1 Axes>"
              },
              {
                "output_type": "display_data",
                "metadata": {
                  "tags": []
                },
                "image/png": "iVBORw0KGgoAAAANSUhEUgAAAYIAAAEWCAYAAABrDZDcAAAABHNCSVQICAgIfAhkiAAAAAlwSFlz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\n1uScCMzMmpwTgZlZk/s/ndIVf9QC8boAAAAASUVORK5CYII=\n",
                "text/plain": "<Figure size 432x288 with 1 Axes>"
              }
            ],
            "_view_module": "@jupyter-widgets/output",
            "_model_module_version": "1.0.0",
            "_view_count": null,
            "_view_module_version": "1.0.0",
            "layout": "IPY_MODEL_e6c0c511ced14e0fbc713f085729b6fc",
            "_model_module": "@jupyter-widgets/output"
          }
        },
        "9212791f153243dd8bc1a96efab4768d": {
          "model_module": "@jupyter-widgets/controls",
          "model_name": "SliderStyleModel",
          "state": {
            "_view_name": "StyleView",
            "handle_color": null,
            "_model_name": "SliderStyleModel",
            "description_width": "",
            "_view_module": "@jupyter-widgets/base",
            "_model_module_version": "1.5.0",
            "_view_count": null,
            "_view_module_version": "1.2.0",
            "_model_module": "@jupyter-widgets/controls"
          }
        },
        "6b5d47d0ebd949859b3ed6db0a00beb7": {
          "model_module": "@jupyter-widgets/base",
          "model_name": "LayoutModel",
          "state": {
            "_view_name": "LayoutView",
            "grid_template_rows": null,
            "right": null,
            "justify_content": null,
            "_view_module": "@jupyter-widgets/base",
            "overflow": null,
            "_model_module_version": "1.2.0",
            "_view_count": null,
            "flex_flow": null,
            "width": null,
            "min_width": null,
            "border": null,
            "align_items": null,
            "bottom": null,
            "_model_module": "@jupyter-widgets/base",
            "top": null,
            "grid_column": null,
            "overflow_y": null,
            "overflow_x": null,
            "grid_auto_flow": null,
            "grid_area": null,
            "grid_template_columns": null,
            "flex": null,
            "_model_name": "LayoutModel",
            "justify_items": null,
            "grid_row": null,
            "max_height": null,
            "align_content": null,
            "visibility": null,
            "align_self": null,
            "height": null,
            "min_height": null,
            "padding": null,
            "grid_auto_rows": null,
            "grid_gap": null,
            "max_width": null,
            "order": null,
            "_view_module_version": "1.2.0",
            "grid_template_areas": null,
            "object_position": null,
            "object_fit": null,
            "grid_auto_columns": null,
            "margin": null,
            "display": null,
            "left": null
          }
        },
        "e401c74f1a394e95a64fd038203121d0": {
          "model_module": "@jupyter-widgets/controls",
          "model_name": "SliderStyleModel",
          "state": {
            "_view_name": "StyleView",
            "handle_color": null,
            "_model_name": "SliderStyleModel",
            "description_width": "",
            "_view_module": "@jupyter-widgets/base",
            "_model_module_version": "1.5.0",
            "_view_count": null,
            "_view_module_version": "1.2.0",
            "_model_module": "@jupyter-widgets/controls"
          }
        },
        "c103953f22934f2c84ec04b75c2757b4": {
          "model_module": "@jupyter-widgets/base",
          "model_name": "LayoutModel",
          "state": {
            "_view_name": "LayoutView",
            "grid_template_rows": null,
            "right": null,
            "justify_content": null,
            "_view_module": "@jupyter-widgets/base",
            "overflow": null,
            "_model_module_version": "1.2.0",
            "_view_count": null,
            "flex_flow": null,
            "width": null,
            "min_width": null,
            "border": null,
            "align_items": null,
            "bottom": null,
            "_model_module": "@jupyter-widgets/base",
            "top": null,
            "grid_column": null,
            "overflow_y": null,
            "overflow_x": null,
            "grid_auto_flow": null,
            "grid_area": null,
            "grid_template_columns": null,
            "flex": null,
            "_model_name": "LayoutModel",
            "justify_items": null,
            "grid_row": null,
            "max_height": null,
            "align_content": null,
            "visibility": null,
            "align_self": null,
            "height": null,
            "min_height": null,
            "padding": null,
            "grid_auto_rows": null,
            "grid_gap": null,
            "max_width": null,
            "order": null,
            "_view_module_version": "1.2.0",
            "grid_template_areas": null,
            "object_position": null,
            "object_fit": null,
            "grid_auto_columns": null,
            "margin": null,
            "display": null,
            "left": null
          }
        },
        "588e3a1297754508af98af8271d1b9ae": {
          "model_module": "@jupyter-widgets/controls",
          "model_name": "VBoxModel",
          "state": {
            "_view_name": "VBoxView",
            "_dom_classes": [
              "widget-interact"
            ],
            "_model_name": "VBoxModel",
            "_view_module": "@jupyter-widgets/controls",
            "_model_module_version": "1.5.0",
            "_view_count": null,
            "_view_module_version": "1.5.0",
            "box_style": "",
            "layout": "IPY_MODEL_aec37a6da11d4bb1b04d64c1075c1a7b",
            "_model_module": "@jupyter-widgets/controls",
            "children": [
              "IPY_MODEL_3905a45772914538ad38b6e54e8d28f9",
              "IPY_MODEL_6a62936f385247be9ae78ce282f674e0",
              "IPY_MODEL_4cf898e61ba648afa44d84acc068f164"
            ]
          }
        },
        "aec37a6da11d4bb1b04d64c1075c1a7b": {
          "model_module": "@jupyter-widgets/base",
          "model_name": "LayoutModel",
          "state": {
            "_view_name": "LayoutView",
            "grid_template_rows": null,
            "right": null,
            "justify_content": null,
            "_view_module": "@jupyter-widgets/base",
            "overflow": null,
            "_model_module_version": "1.2.0",
            "_view_count": null,
            "flex_flow": null,
            "width": null,
            "min_width": null,
            "border": null,
            "align_items": null,
            "bottom": null,
            "_model_module": "@jupyter-widgets/base",
            "top": null,
            "grid_column": null,
            "overflow_y": null,
            "overflow_x": null,
            "grid_auto_flow": null,
            "grid_area": null,
            "grid_template_columns": null,
            "flex": null,
            "_model_name": "LayoutModel",
            "justify_items": null,
            "grid_row": null,
            "max_height": null,
            "align_content": null,
            "visibility": null,
            "align_self": null,
            "height": null,
            "min_height": null,
            "padding": null,
            "grid_auto_rows": null,
            "grid_gap": null,
            "max_width": null,
            "order": null,
            "_view_module_version": "1.2.0",
            "grid_template_areas": null,
            "object_position": null,
            "object_fit": null,
            "grid_auto_columns": null,
            "margin": null,
            "display": null,
            "left": null
          }
        },
        "3905a45772914538ad38b6e54e8d28f9": {
          "model_module": "@jupyter-widgets/controls",
          "model_name": "IntSliderModel",
          "state": {
            "_view_name": "IntSliderView",
            "style": "IPY_MODEL_1ab184da2bac47138520f23259546692",
            "_dom_classes": [],
            "description": "max_depth",
            "step": 1,
            "_model_name": "IntSliderModel",
            "orientation": "horizontal",
            "max": 6,
            "_view_module": "@jupyter-widgets/controls",
            "_model_module_version": "1.5.0",
            "value": 4,
            "_view_count": null,
            "disabled": false,
            "_view_module_version": "1.5.0",
            "min": 1,
            "continuous_update": true,
            "readout_format": "d",
            "description_tooltip": null,
            "readout": true,
            "_model_module": "@jupyter-widgets/controls",
            "layout": "IPY_MODEL_0d9cba93d5744c57987a2755f4bb20b4"
          }
        },
        "6a62936f385247be9ae78ce282f674e0": {
          "model_module": "@jupyter-widgets/controls",
          "model_name": "IntSliderModel",
          "state": {
            "_view_name": "IntSliderView",
            "style": "IPY_MODEL_154e1e1e1f2643f6975646330dc5d840",
            "_dom_classes": [],
            "description": "n_estimators",
            "step": 10,
            "_model_name": "IntSliderModel",
            "orientation": "horizontal",
            "max": 40,
            "_view_module": "@jupyter-widgets/controls",
            "_model_module_version": "1.5.0",
            "value": 10,
            "_view_count": null,
            "disabled": false,
            "_view_module_version": "1.5.0",
            "min": 10,
            "continuous_update": true,
            "readout_format": "d",
            "description_tooltip": null,
            "readout": true,
            "_model_module": "@jupyter-widgets/controls",
            "layout": "IPY_MODEL_a427eacdd1184b9dba8ffd8d7979a333"
          }
        },
        "4cf898e61ba648afa44d84acc068f164": {
          "model_module": "@jupyter-widgets/output",
          "model_name": "OutputModel",
          "state": {
            "_view_name": "OutputView",
            "msg_id": "",
            "_dom_classes": [],
            "_model_name": "OutputModel",
            "outputs": [
              {
                "output_type": "display_data",
                "metadata": {
                  "tags": []
                },
                "image/png": "iVBORw0KGgoAAAANSUhEUgAAAVoAAAEFCAYAAACiiS9UAAAABHNCSVQICAgIfAhkiAAAAAlwSFlz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\n/wcYdUth7Z2XYgAAAABJRU5ErkJggg==\n",
                "text/plain": "<Figure size 432x288 with 2 Axes>"
              },
              {
                "output_type": "display_data",
                "metadata": {
                  "tags": []
                },
                "image/png": "iVBORw0KGgoAAAANSUhEUgAAAVoAAAEFCAYAAACiiS9UAAAABHNCSVQICAgIfAhkiAAAAAlwSFlz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\n",
                "text/plain": "<Figure size 432x288 with 2 Axes>"
              },
              {
                "output_type": "display_data",
                "metadata": {
                  "tags": []
                },
                "image/png": "iVBORw0KGgoAAAANSUhEUgAAAVoAAAEFCAYAAACiiS9UAAAABHNCSVQICAgIfAhkiAAAAAlwSFlz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\n",
                "text/plain": "<Figure size 432x288 with 2 Axes>"
              }
            ],
            "_view_module": "@jupyter-widgets/output",
            "_model_module_version": "1.0.0",
            "_view_count": null,
            "_view_module_version": "1.0.0",
            "layout": "IPY_MODEL_cbdb15f3171b4f7eb8009d736bb9247b",
            "_model_module": "@jupyter-widgets/output"
          }
        },
        "1ab184da2bac47138520f23259546692": {
          "model_module": "@jupyter-widgets/controls",
          "model_name": "SliderStyleModel",
          "state": {
            "_view_name": "StyleView",
            "handle_color": null,
            "_model_name": "SliderStyleModel",
            "description_width": "",
            "_view_module": "@jupyter-widgets/base",
            "_model_module_version": "1.5.0",
            "_view_count": null,
            "_view_module_version": "1.2.0",
            "_model_module": "@jupyter-widgets/controls"
          }
        },
        "0d9cba93d5744c57987a2755f4bb20b4": {
          "model_module": "@jupyter-widgets/base",
          "model_name": "LayoutModel",
          "state": {
            "_view_name": "LayoutView",
            "grid_template_rows": null,
            "right": null,
            "justify_content": null,
            "_view_module": "@jupyter-widgets/base",
            "overflow": null,
            "_model_module_version": "1.2.0",
            "_view_count": null,
            "flex_flow": null,
            "width": null,
            "min_width": null,
            "border": null,
            "align_items": null,
            "bottom": null,
            "_model_module": "@jupyter-widgets/base",
            "top": null,
            "grid_column": null,
            "overflow_y": null,
            "overflow_x": null,
            "grid_auto_flow": null,
            "grid_area": null,
            "grid_template_columns": null,
            "flex": null,
            "_model_name": "LayoutModel",
            "justify_items": null,
            "grid_row": null,
            "max_height": null,
            "align_content": null,
            "visibility": null,
            "align_self": null,
            "height": null,
            "min_height": null,
            "padding": null,
            "grid_auto_rows": null,
            "grid_gap": null,
            "max_width": null,
            "order": null,
            "_view_module_version": "1.2.0",
            "grid_template_areas": null,
            "object_position": null,
            "object_fit": null,
            "grid_auto_columns": null,
            "margin": null,
            "display": null,
            "left": null
          }
        },
        "154e1e1e1f2643f6975646330dc5d840": {
          "model_module": "@jupyter-widgets/controls",
          "model_name": "SliderStyleModel",
          "state": {
            "_view_name": "StyleView",
            "handle_color": null,
            "_model_name": "SliderStyleModel",
            "description_width": "",
            "_view_module": "@jupyter-widgets/base",
            "_model_module_version": "1.5.0",
            "_view_count": null,
            "_view_module_version": "1.2.0",
            "_model_module": "@jupyter-widgets/controls"
          }
        },
        "a427eacdd1184b9dba8ffd8d7979a333": {
          "model_module": "@jupyter-widgets/base",
          "model_name": "LayoutModel",
          "state": {
            "_view_name": "LayoutView",
            "grid_template_rows": null,
            "right": null,
            "justify_content": null,
            "_view_module": "@jupyter-widgets/base",
            "overflow": null,
            "_model_module_version": "1.2.0",
            "_view_count": null,
            "flex_flow": null,
            "width": null,
            "min_width": null,
            "border": null,
            "align_items": null,
            "bottom": null,
            "_model_module": "@jupyter-widgets/base",
            "top": null,
            "grid_column": null,
            "overflow_y": null,
            "overflow_x": null,
            "grid_auto_flow": null,
            "grid_area": null,
            "grid_template_columns": null,
            "flex": null,
            "_model_name": "LayoutModel",
            "justify_items": null,
            "grid_row": null,
            "max_height": null,
            "align_content": null,
            "visibility": null,
            "align_self": null,
            "height": null,
            "min_height": null,
            "padding": null,
            "grid_auto_rows": null,
            "grid_gap": null,
            "max_width": null,
            "order": null,
            "_view_module_version": "1.2.0",
            "grid_template_areas": null,
            "object_position": null,
            "object_fit": null,
            "grid_auto_columns": null,
            "margin": null,
            "display": null,
            "left": null
          }
        },
        "51df3b4a88444191b0ebd68d38028bf4": {
          "model_module": "@jupyter-widgets/controls",
          "model_name": "VBoxModel",
          "state": {
            "_view_name": "VBoxView",
            "_dom_classes": [
              "widget-interact"
            ],
            "_model_name": "VBoxModel",
            "_view_module": "@jupyter-widgets/controls",
            "_model_module_version": "1.5.0",
            "_view_count": null,
            "_view_module_version": "1.5.0",
            "box_style": "",
            "layout": "IPY_MODEL_b5f68ede673247eea4c34a0e859fd50b",
            "_model_module": "@jupyter-widgets/controls",
            "children": [
              "IPY_MODEL_e1c1ea50d7f1444f85756b45d3db2aaf",
              "IPY_MODEL_0dcd51fca3b54536b83c57cc1bf5117c",
              "IPY_MODEL_6d70b598e12e486282f247269437ddac"
            ]
          }
        },
        "b5f68ede673247eea4c34a0e859fd50b": {
          "model_module": "@jupyter-widgets/base",
          "model_name": "LayoutModel",
          "state": {
            "_view_name": "LayoutView",
            "grid_template_rows": null,
            "right": null,
            "justify_content": null,
            "_view_module": "@jupyter-widgets/base",
            "overflow": null,
            "_model_module_version": "1.2.0",
            "_view_count": null,
            "flex_flow": null,
            "width": null,
            "min_width": null,
            "border": null,
            "align_items": null,
            "bottom": null,
            "_model_module": "@jupyter-widgets/base",
            "top": null,
            "grid_column": null,
            "overflow_y": null,
            "overflow_x": null,
            "grid_auto_flow": null,
            "grid_area": null,
            "grid_template_columns": null,
            "flex": null,
            "_model_name": "LayoutModel",
            "justify_items": null,
            "grid_row": null,
            "max_height": null,
            "align_content": null,
            "visibility": null,
            "align_self": null,
            "height": null,
            "min_height": null,
            "padding": null,
            "grid_auto_rows": null,
            "grid_gap": null,
            "max_width": null,
            "order": null,
            "_view_module_version": "1.2.0",
            "grid_template_areas": null,
            "object_position": null,
            "object_fit": null,
            "grid_auto_columns": null,
            "margin": null,
            "display": null,
            "left": null
          }
        },
        "e1c1ea50d7f1444f85756b45d3db2aaf": {
          "model_module": "@jupyter-widgets/controls",
          "model_name": "IntSliderModel",
          "state": {
            "_view_name": "IntSliderView",
            "style": "IPY_MODEL_fda257a858ec471e84240a523b034760",
            "_dom_classes": [],
            "description": "max_depth",
            "step": 1,
            "_model_name": "IntSliderModel",
            "orientation": "horizontal",
            "max": 6,
            "_view_module": "@jupyter-widgets/controls",
            "_model_module_version": "1.5.0",
            "value": 1,
            "_view_count": null,
            "disabled": false,
            "_view_module_version": "1.5.0",
            "min": 1,
            "continuous_update": true,
            "readout_format": "d",
            "description_tooltip": null,
            "readout": true,
            "_model_module": "@jupyter-widgets/controls",
            "layout": "IPY_MODEL_0db9c285f62a46119d5835d6a5ea3467"
          }
        },
        "0dcd51fca3b54536b83c57cc1bf5117c": {
          "model_module": "@jupyter-widgets/controls",
          "model_name": "IntSliderModel",
          "state": {
            "_view_name": "IntSliderView",
            "style": "IPY_MODEL_9e68dcf7813e428e8c1db44c5519406d",
            "_dom_classes": [],
            "description": "n_estimators",
            "step": 1,
            "_model_name": "IntSliderModel",
            "orientation": "horizontal",
            "max": 5,
            "_view_module": "@jupyter-widgets/controls",
            "_model_module_version": "1.5.0",
            "value": 2,
            "_view_count": null,
            "disabled": false,
            "_view_module_version": "1.5.0",
            "min": 2,
            "continuous_update": true,
            "readout_format": "d",
            "description_tooltip": null,
            "readout": true,
            "_model_module": "@jupyter-widgets/controls",
            "layout": "IPY_MODEL_feb4eaf672b5474da50ff7905af8dc28"
          }
        },
        "6d70b598e12e486282f247269437ddac": {
          "model_module": "@jupyter-widgets/output",
          "model_name": "OutputModel",
          "state": {
            "_view_name": "OutputView",
            "msg_id": "",
            "_dom_classes": [],
            "_model_name": "OutputModel",
            "outputs": [
              {
                "output_type": "display_data",
                "metadata": {
                  "tags": []
                },
                "image/png": "iVBORw0KGgoAAAANSUhEUgAAAVoAAAEFCAYAAACiiS9UAAAABHNCSVQICAgIfAhkiAAAAAlwSFlz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\n",
                "text/plain": "<Figure size 432x288 with 2 Axes>"
              },
              {
                "output_type": "display_data",
                "metadata": {
                  "tags": []
                },
                "image/png": "iVBORw0KGgoAAAANSUhEUgAAAVoAAAEFCAYAAACiiS9UAAAABHNCSVQICAgIfAhkiAAAAAlwSFlz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\nYII=\n",
                "text/plain": "<Figure size 432x288 with 2 Axes>"
              },
              {
                "output_type": "display_data",
                "metadata": {
                  "tags": []
                },
                "image/png": "iVBORw0KGgoAAAANSUhEUgAAAVoAAAEFCAYAAACiiS9UAAAABHNCSVQICAgIfAhkiAAAAAlwSFlz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\nzDJzoDUzy8yB1swss/8HkxLl4y51LwEAAAAASUVORK5CYII=\n",
                "text/plain": "<Figure size 432x288 with 2 Axes>"
              }
            ],
            "_view_module": "@jupyter-widgets/output",
            "_model_module_version": "1.0.0",
            "_view_count": null,
            "_view_module_version": "1.0.0",
            "layout": "IPY_MODEL_8c5b9763868745bbb2f7cadb049cf9db",
            "_model_module": "@jupyter-widgets/output"
          }
        },
        "fda257a858ec471e84240a523b034760": {
          "model_module": "@jupyter-widgets/controls",
          "model_name": "SliderStyleModel",
          "state": {
            "_view_name": "StyleView",
            "handle_color": null,
            "_model_name": "SliderStyleModel",
            "description_width": "",
            "_view_module": "@jupyter-widgets/base",
            "_model_module_version": "1.5.0",
            "_view_count": null,
            "_view_module_version": "1.2.0",
            "_model_module": "@jupyter-widgets/controls"
          }
        },
        "0db9c285f62a46119d5835d6a5ea3467": {
          "model_module": "@jupyter-widgets/base",
          "model_name": "LayoutModel",
          "state": {
            "_view_name": "LayoutView",
            "grid_template_rows": null,
            "right": null,
            "justify_content": null,
            "_view_module": "@jupyter-widgets/base",
            "overflow": null,
            "_model_module_version": "1.2.0",
            "_view_count": null,
            "flex_flow": null,
            "width": null,
            "min_width": null,
            "border": null,
            "align_items": null,
            "bottom": null,
            "_model_module": "@jupyter-widgets/base",
            "top": null,
            "grid_column": null,
            "overflow_y": null,
            "overflow_x": null,
            "grid_auto_flow": null,
            "grid_area": null,
            "grid_template_columns": null,
            "flex": null,
            "_model_name": "LayoutModel",
            "justify_items": null,
            "grid_row": null,
            "max_height": null,
            "align_content": null,
            "visibility": null,
            "align_self": null,
            "height": null,
            "min_height": null,
            "padding": null,
            "grid_auto_rows": null,
            "grid_gap": null,
            "max_width": null,
            "order": null,
            "_view_module_version": "1.2.0",
            "grid_template_areas": null,
            "object_position": null,
            "object_fit": null,
            "grid_auto_columns": null,
            "margin": null,
            "display": null,
            "left": null
          }
        },
        "9e68dcf7813e428e8c1db44c5519406d": {
          "model_module": "@jupyter-widgets/controls",
          "model_name": "SliderStyleModel",
          "state": {
            "_view_name": "StyleView",
            "handle_color": null,
            "_model_name": "SliderStyleModel",
            "description_width": "",
            "_view_module": "@jupyter-widgets/base",
            "_model_module_version": "1.5.0",
            "_view_count": null,
            "_view_module_version": "1.2.0",
            "_model_module": "@jupyter-widgets/controls"
          }
        },
        "feb4eaf672b5474da50ff7905af8dc28": {
          "model_module": "@jupyter-widgets/base",
          "model_name": "LayoutModel",
          "state": {
            "_view_name": "LayoutView",
            "grid_template_rows": null,
            "right": null,
            "justify_content": null,
            "_view_module": "@jupyter-widgets/base",
            "overflow": null,
            "_model_module_version": "1.2.0",
            "_view_count": null,
            "flex_flow": null,
            "width": null,
            "min_width": null,
            "border": null,
            "align_items": null,
            "bottom": null,
            "_model_module": "@jupyter-widgets/base",
            "top": null,
            "grid_column": null,
            "overflow_y": null,
            "overflow_x": null,
            "grid_auto_flow": null,
            "grid_area": null,
            "grid_template_columns": null,
            "flex": null,
            "_model_name": "LayoutModel",
            "justify_items": null,
            "grid_row": null,
            "max_height": null,
            "align_content": null,
            "visibility": null,
            "align_self": null,
            "height": null,
            "min_height": null,
            "padding": null,
            "grid_auto_rows": null,
            "grid_gap": null,
            "max_width": null,
            "order": null,
            "_view_module_version": "1.2.0",
            "grid_template_areas": null,
            "object_position": null,
            "object_fit": null,
            "grid_auto_columns": null,
            "margin": null,
            "display": null,
            "left": null
          }
        }
      }
    }
  },
  "cells": [
    {
      "cell_type": "markdown",
      "metadata": {
        "id": "view-in-github",
        "colab_type": "text"
      },
      "source": [
        "<a href=\"https://colab.research.google.com/github/tmbern/DS-Unit-2-Kaggle-Challenge/blob/master/module2-random-forests/Unit_2_Sprint_2_Module_2_LESSON_updated_from_lecture.ipynb\" target=\"_parent\"><img src=\"https://colab.research.google.com/assets/colab-badge.svg\" alt=\"Open In Colab\"/></a>"
      ]
    },
    {
      "cell_type": "markdown",
      "metadata": {
        "colab_type": "text",
        "id": "UEHyIgGaaSEJ"
      },
      "source": [
        "Lambda School Data Science\n",
        "\n",
        "*Unit 2, Sprint 2, Module 2*\n",
        "\n",
        "---"
      ]
    },
    {
      "cell_type": "markdown",
      "metadata": {
        "colab_type": "text",
        "id": "mRfPLX4WgLVJ"
      },
      "source": [
        "# Random Forests"
      ]
    },
    {
      "cell_type": "markdown",
      "metadata": {
        "colab_type": "text",
        "id": "jRRNhkxcgLVK"
      },
      "source": [
        "- use scikit-learn for **random forests**\n",
        "- do **ordinal encoding** with high-cardinality categoricals\n",
        "- understand how categorical encodings affect trees differently compared to linear models\n",
        "- understand how tree ensembles reduce overfitting compared to a single decision tree with unlimited depth"
      ]
    },
    {
      "cell_type": "markdown",
      "metadata": {
        "colab_type": "text",
        "id": "-3TH11e1gLVL"
      },
      "source": [
        "Today's lesson has two take-away messages:\n",
        "\n",
        "#### Try Tree Ensembles when you do machine learning with labeled, tabular data\n",
        "- \"Tree Ensembles\" means Random Forest or Gradient Boosting models. \n",
        "- [Tree Ensembles often have the best predictive accuracy](https://arxiv.org/abs/1708.05070) with labeled, tabular data.\n",
        "- Why? Because trees can fit non-linear, non-[monotonic](https://en.wikipedia.org/wiki/Monotonic_function) relationships, and [interactions](https://christophm.github.io/interpretable-ml-book/interaction.html) between features.\n",
        "- A single decision tree, grown to unlimited depth, will [overfit](http://www.r2d3.us/visual-intro-to-machine-learning-part-1/). We solve this problem by ensembling trees, with bagging (Random Forest) or boosting (Gradient Boosting).\n",
        "- Random Forest's advantage: may be less sensitive to hyperparameters. Gradient Boosting's advantage: may get better predictive accuracy.\n",
        "\n",
        "#### One-hot encoding isn’t the only way, and may not be the best way, of categorical encoding for tree ensembles.\n",
        "- For example, tree ensembles can work with arbitrary \"ordinal\" encoding! (Randomly assigning an integer to each category.) Compared to one-hot encoding, the dimensionality will be lower, and the predictive accuracy may be just as good or even better.\n"
      ]
    },
    {
      "cell_type": "markdown",
      "metadata": {
        "colab_type": "text",
        "id": "r5PbOFEuFfGF"
      },
      "source": [
        "### Setup\n",
        "\n",
        "Run the code cell below. You can work locally (follow the [local setup instructions](https://lambdaschool.github.io/ds/unit2/local/)) or on Colab.\n",
        "\n",
        "Libraries\n",
        "\n",
        "- **category_encoders** \n",
        "- **graphviz**\n",
        "- ipywidgets\n",
        "- matplotlib\n",
        "- numpy\n",
        "- pandas\n",
        "- seaborn\n",
        "- scikit-learn"
      ]
    },
    {
      "cell_type": "code",
      "metadata": {
        "colab_type": "code",
        "id": "FStAplyRFoEu",
        "colab": {}
      },
      "source": [
        "%%capture\n",
        "import sys\n",
        "\n",
        "# If you're on Colab:\n",
        "if 'google.colab' in sys.modules:\n",
        "    DATA_PATH = 'https://raw.githubusercontent.com/LambdaSchool/DS-Unit-2-Kaggle-Challenge/master/data/'\n",
        "    !pip install category_encoders==2.*\n",
        "\n",
        "# If you're working locally:\n",
        "else:\n",
        "    DATA_PATH = '../data/'"
      ],
      "execution_count": 0,
      "outputs": []
    },
    {
      "cell_type": "markdown",
      "metadata": {
        "colab_type": "text",
        "id": "ZL-yK8B7gLVW"
      },
      "source": [
        "# Use scikit-learn for random forests"
      ]
    },
    {
      "cell_type": "markdown",
      "metadata": {
        "id": "yGUjn2QzJq4s",
        "colab_type": "text"
      },
      "source": [
        "## Overview\n",
        "\n",
        "Let's fit a Random Forest!\n",
        "\n",
        "![](https://pbs.twimg.com/media/EGSvKA0UUAEzUZi?format=png)\n",
        "\n",
        "[Chris Albon, MachineLearningFlashcards.com](https://twitter.com/chrisalbon/status/1181261589887909889)"
      ]
    },
    {
      "cell_type": "markdown",
      "metadata": {
        "colab_type": "text",
        "id": "gHFxMCPSgLVM"
      },
      "source": [
        "### Solution example\n",
        "\n",
        "First, read & wrangle the data.\n",
        "\n",
        "> Define a function to wrangle train, validate, and test sets in the same way. Clean outliers and engineer features. (For example, [what other columns have zeros and shouldn't?](https://github.com/Quartz/bad-data-guide#zeros-replace-missing-values) What other columns are duplicates, or nearly duplicates? Can you extract the year from date_recorded? Can you engineer new features, such as the number of years from waterpump construction to waterpump inspection?)"
      ]
    },
    {
      "cell_type": "code",
      "metadata": {
        "colab_type": "code",
        "id": "YTLm-rDagLVM",
        "colab": {}
      },
      "source": [
        "import numpy as np\n",
        "import pandas as pd\n",
        "from sklearn.model_selection import train_test_split\n",
        "\n",
        "# Merge train_features.csv & train_labels.csv\n",
        "train = pd.merge(pd.read_csv(DATA_PATH+'waterpumps/train_features.csv'), \n",
        "                 pd.read_csv(DATA_PATH+'waterpumps/train_labels.csv'))\n",
        "\n",
        "# Read test_features.csv & sample_submission.csv\n",
        "test = pd.read_csv(DATA_PATH+'waterpumps/test_features.csv')\n",
        "sample_submission = pd.read_csv(DATA_PATH+'waterpumps/sample_submission.csv')\n",
        "\n",
        "# Split train into train & val\n",
        "train, val = train_test_split(train, train_size=0.80, test_size=0.20, \n",
        "                              stratify=train['status_group'], random_state=42)\n",
        "\n",
        "\n",
        "def wrangle(X):\n",
        "    \"\"\"Wrangle train, validate, and test sets in the same way\"\"\"\n",
        "    \n",
        "    # Prevent SettingWithCopyWarning\n",
        "    X = X.copy()\n",
        "    \n",
        "    # About 3% of the time, latitude has small values near zero,\n",
        "    # outside Tanzania, so we'll treat these values like zero.\n",
        "    X['latitude'] = X['latitude'].replace(-2e-08, 0)\n",
        "    \n",
        "    # When columns have zeros and shouldn't, they are like null values.\n",
        "    # So we will replace the zeros with nulls, and impute missing values later.\n",
        "    # Also create a \"missing indicator\" column, because the fact that\n",
        "    # values are missing may be a predictive signal.\n",
        "    cols_with_zeros = ['longitude', 'latitude', 'construction_year', \n",
        "                       'gps_height', 'population']\n",
        "    for col in cols_with_zeros:\n",
        "        X[col] = X[col].replace(0, np.nan)\n",
        "        X[col+'_MISSING'] = X[col].isnull()\n",
        "            \n",
        "    # Drop duplicate columns\n",
        "    duplicates = ['quantity_group', 'payment_type']\n",
        "    X = X.drop(columns=duplicates)\n",
        "    \n",
        "    # Drop recorded_by (never varies) and id (always varies, random)\n",
        "    unusable_variance = ['recorded_by', 'id']\n",
        "    X = X.drop(columns=unusable_variance)\n",
        "    \n",
        "    # Convert date_recorded to datetime\n",
        "    X['date_recorded'] = pd.to_datetime(X['date_recorded'], infer_datetime_format=True)\n",
        "    \n",
        "    # Extract components from date_recorded, then drop the original column\n",
        "    X['year_recorded'] = X['date_recorded'].dt.year\n",
        "    X['month_recorded'] = X['date_recorded'].dt.month\n",
        "    X['day_recorded'] = X['date_recorded'].dt.day\n",
        "    X = X.drop(columns='date_recorded')\n",
        "    \n",
        "    # Engineer feature: how many years from construction_year to date_recorded\n",
        "    X['years'] = X['year_recorded'] - X['construction_year']\n",
        "    X['years_MISSING'] = X['years'].isnull()\n",
        "    \n",
        "    # return the wrangled dataframe\n",
        "    return X\n",
        "\n",
        "train = wrangle(train)\n",
        "val = wrangle(val)\n",
        "test = wrangle(test)"
      ],
      "execution_count": 0,
      "outputs": []
    },
    {
      "cell_type": "code",
      "metadata": {
        "colab_type": "code",
        "id": "m2HppBvZgLVP",
        "colab": {}
      },
      "source": [
        "# The status_group column is the target\n",
        "target = 'status_group'\n",
        "\n",
        "# Get a dataframe with all train columns except the target\n",
        "train_features = train.drop(columns=[target])\n",
        "\n",
        "# Get a list of the numeric features\n",
        "numeric_features = train_features.select_dtypes(include='number').columns.tolist()\n",
        "\n",
        "# Get a series with the cardinality of the nonnumeric features\n",
        "cardinality = train_features.select_dtypes(exclude='number').nunique()\n",
        "\n",
        "# Get a list of all categorical features with cardinality <= 50\n",
        "categorical_features = cardinality[cardinality <= 50].index.tolist()\n",
        "\n",
        "# Combine the lists \n",
        "features = numeric_features + categorical_features"
      ],
      "execution_count": 0,
      "outputs": []
    },
    {
      "cell_type": "code",
      "metadata": {
        "colab_type": "code",
        "id": "aXmK2brXgLVR",
        "colab": {}
      },
      "source": [
        "# Arrange data into X features matrix and y target vector \n",
        "X_train = train[features]\n",
        "y_train = train[target]\n",
        "X_val = val[features]\n",
        "y_val = val[target]\n",
        "X_test = test[features]"
      ],
      "execution_count": 0,
      "outputs": []
    },
    {
      "cell_type": "markdown",
      "metadata": {
        "id": "H54GpxPNJq41",
        "colab_type": "text"
      },
      "source": [
        "## Follow Along\n",
        "\n",
        "[Scikit-Learn User Guide: Random Forests](https://scikit-learn.org/stable/modules/ensemble.html#random-forests) "
      ]
    },
    {
      "cell_type": "code",
      "metadata": {
        "colab_type": "code",
        "id": "57yyygsdgLVW",
        "colab": {
          "base_uri": "https://localhost:8080/",
          "height": 69
        },
        "outputId": "36973ad9-189c-4c44-b5ea-0f450f0bcaee"
      },
      "source": [
        "# TODO\n",
        "%%time\n",
        "\n",
        "import category_encoders as ce\n",
        "from sklearn.ensemble import RandomForestClassifier\n",
        "from sklearn.impute import SimpleImputer\n",
        "from sklearn.pipeline import make_pipeline\n",
        "\n",
        "pipeline = make_pipeline(\n",
        "    ce.OneHotEncoder(use_cat_names=True),\n",
        "    SimpleImputer(strategy='mean'),\n",
        "    RandomForestClassifier(random_state=0, n_jobs=1)\n",
        ")\n",
        "\n",
        "pipeline.fit(X_train, y_train)\n",
        "print('Validation accuracy', pipeline.score(X_val, y_val))"
      ],
      "execution_count": 5,
      "outputs": [
        {
          "output_type": "stream",
          "text": [
            "Validation accuracy 0.8081649831649832\n",
            "CPU times: user 20.2 s, sys: 366 ms, total: 20.5 s\n",
            "Wall time: 20.7 s\n"
          ],
          "name": "stdout"
        }
      ]
    },
    {
      "cell_type": "code",
      "metadata": {
        "id": "d3sbY6fzW31j",
        "colab_type": "code",
        "colab": {
          "base_uri": "https://localhost:8080/",
          "height": 69
        },
        "outputId": "622655d9-15f5-4faa-f59e-16674ccd6b63"
      },
      "source": [
        "# TODO\n",
        "%%time\n",
        "\n",
        "import category_encoders as ce\n",
        "from sklearn.ensemble import RandomForestClassifier\n",
        "from sklearn.impute import SimpleImputer\n",
        "from sklearn.pipeline import make_pipeline\n",
        "\n",
        "pipeline = make_pipeline(\n",
        "    ce.OneHotEncoder(use_cat_names=True),\n",
        "    SimpleImputer(strategy='median'),\n",
        "    RandomForestClassifier(random_state=0, n_jobs=1)\n",
        ")\n",
        "\n",
        "pipeline.fit(X_train, y_train)\n",
        "print('Validation accuracy', pipeline.score(X_val, y_val))"
      ],
      "execution_count": 6,
      "outputs": [
        {
          "output_type": "stream",
          "text": [
            "Validation accuracy 0.8088383838383838\n",
            "CPU times: user 20.4 s, sys: 252 ms, total: 20.6 s\n",
            "Wall time: 20.7 s\n"
          ],
          "name": "stdout"
        }
      ]
    },
    {
      "cell_type": "code",
      "metadata": {
        "id": "HsF7CqvPXPk6",
        "colab_type": "code",
        "colab": {
          "base_uri": "https://localhost:8080/",
          "height": 34
        },
        "outputId": "54a8a4cb-0e1c-4c6d-fc6d-bb67d80bdbb0"
      },
      "source": [
        "%matplotlib inline\n",
        "import matplotlib.pyplot as plt\n",
        "\n",
        "# Get encoded values\n",
        "encoder = pipeline.named_steps['onehotencoder']\n",
        "encoded = encoder.transform(X_train)\n",
        "print('Print X_train shape after encoding', encoded.shape)\n",
        "\n",
        "\n",
        "# Get feature importances\n",
        "rf = pipeline.named_steps['randomforestclassifier']\n",
        "importances = pd.Series(rf.feature_importances_, encoded.columns)"
      ],
      "execution_count": 10,
      "outputs": [
        {
          "output_type": "stream",
          "text": [
            "Print X_train shape after encoding (47520, 182)\n"
          ],
          "name": "stdout"
        }
      ]
    },
    {
      "cell_type": "code",
      "metadata": {
        "id": "JBu291U2YVPz",
        "colab_type": "code",
        "colab": {
          "base_uri": "https://localhost:8080/",
          "height": 606
        },
        "outputId": "a180f4a5-89dd-4fa4-e38e-89c4e698a703"
      },
      "source": [
        "# plot the top 20 features\n",
        "n = 20\n",
        "plt.figure(figsize=(10, n/2))\n",
        "plt.title(f'Top {n} features')\n",
        "importances.sort_values()[-n:].plot.barh()\n",
        "plt.show()"
      ],
      "execution_count": 12,
      "outputs": [
        {
          "output_type": "display_data",
          "data": {
            "image/png": "[encoded data removed]",
            "text/plain": [
              "<Figure size 720x720 with 1 Axes>"
            ]
          },
          "metadata": {
            "tags": []
          }
        }
      ]
    },
    {
      "cell_type": "markdown",
      "metadata": {
        "colab_type": "text",
        "id": "yfyk_aa5gLVY"
      },
      "source": [
        "# Do ordinal encoding with high-cardinality categoricals"
      ]
    },
    {
      "cell_type": "markdown",
      "metadata": {
        "id": "-csLi4iQJq45",
        "colab_type": "text"
      },
      "source": [
        "## Overview\n",
        "\n",
        "http://contrib.scikit-learn.org/categorical-encoding/ordinal.html"
      ]
    },
    {
      "cell_type": "markdown",
      "metadata": {
        "id": "4imLoA9bJq46",
        "colab_type": "text"
      },
      "source": [
        "## Follow Along"
      ]
    },
    {
      "cell_type": "code",
      "metadata": {
        "colab_type": "code",
        "id": "b8d_WJtcgLVZ",
        "colab": {}
      },
      "source": [
        "# TODO\n",
        "\n",
        "X_train = train.drop(columns=target)\n",
        "y_train = train[target]\n",
        "\n",
        "X_val = val.drop(columns=target)\n",
        "y_val = val[target]\n",
        "\n",
        "X_test = test"
      ],
      "execution_count": 0,
      "outputs": []
    },
    {
      "cell_type": "code",
      "metadata": {
        "id": "NlpmXhNqbnXh",
        "colab_type": "code",
        "colab": {
          "base_uri": "https://localhost:8080/",
          "height": 69
        },
        "outputId": "f51d3286-e040-4412-ae81-134db80190f8"
      },
      "source": [
        "# TODO\n",
        "%%time\n",
        "\n",
        "import category_encoders as ce\n",
        "from sklearn.ensemble import RandomForestClassifier\n",
        "from sklearn.impute import SimpleImputer\n",
        "from sklearn.pipeline import make_pipeline\n",
        "\n",
        "pipeline = make_pipeline(\n",
        "    ce.OrdinalEncoder(),\n",
        "    SimpleImputer(strategy='median'),\n",
        "    RandomForestClassifier(random_state=0, n_jobs=1)\n",
        ")\n",
        "\n",
        "pipeline.fit(X_train, y_train)\n",
        "print('Validation accuracy', pipeline.score(X_val, y_val))"
      ],
      "execution_count": 17,
      "outputs": [
        {
          "output_type": "stream",
          "text": [
            "Validation accuracy 0.8092592592592592\n",
            "CPU times: user 15 s, sys: 105 ms, total: 15.1 s\n",
            "Wall time: 15.2 s\n"
          ],
          "name": "stdout"
        }
      ]
    },
    {
      "cell_type": "markdown",
      "metadata": {
        "colab_type": "text",
        "id": "xs2UPoVdgLVp"
      },
      "source": [
        "# Understand how categorical encodings affect trees differently compared to linear models"
      ]
    },
    {
      "cell_type": "markdown",
      "metadata": {
        "id": "5E7QczPOJq4-",
        "colab_type": "text"
      },
      "source": [
        "## Follow Along"
      ]
    },
    {
      "cell_type": "markdown",
      "metadata": {
        "colab_type": "text",
        "id": "z8V-A92mgLVp"
      },
      "source": [
        "### Categorical exploration, 1 feature at a time\n",
        "\n",
        "Change `feature`, then re-run these cells!"
      ]
    },
    {
      "cell_type": "code",
      "metadata": {
        "colab_type": "code",
        "id": "G35RAzVdgLVq",
        "colab": {}
      },
      "source": [
        "feature = 'extraction_type_class'"
      ],
      "execution_count": 0,
      "outputs": []
    },
    {
      "cell_type": "code",
      "metadata": {
        "colab_type": "code",
        "id": "OuxHWiH8gLVr",
        "colab": {
          "base_uri": "https://localhost:8080/",
          "height": 156
        },
        "outputId": "ac172e80-2805-47a8-b1bd-2ee4daebe43b"
      },
      "source": [
        "X_train[feature].value_counts()"
      ],
      "execution_count": 19,
      "outputs": [
        {
          "output_type": "execute_result",
          "data": {
            "text/plain": [
              "gravity         21448\n",
              "handpump        13184\n",
              "other            5193\n",
              "submersible      4894\n",
              "motorpump        2355\n",
              "rope pump         353\n",
              "wind-powered       93\n",
              "Name: extraction_type_class, dtype: int64"
            ]
          },
          "metadata": {
            "tags": []
          },
          "execution_count": 19
        }
      ]
    },
    {
      "cell_type": "code",
      "metadata": {
        "colab_type": "code",
        "id": "pVxoC4NngLVt",
        "colab": {
          "base_uri": "https://localhost:8080/",
          "height": 552
        },
        "outputId": "11fe4f60-110f-46e9-ac41-c82cf66d665f"
      },
      "source": [
        "import seaborn as sns\n",
        "plt.figure(figsize=(16,9))\n",
        "sns.barplot(\n",
        "    x=train[feature], \n",
        "    y=train['status_group']=='functional', \n",
        "    color='grey'\n",
        ")\n",
        "\n",
        "plt.show()"
      ],
      "execution_count": 21,
      "outputs": [
        {
          "output_type": "display_data",
          "data": {
            "image/png": "[encoded data removed]",
            "text/plain": [
              "<Figure size 1152x648 with 1 Axes>"
            ]
          },
          "metadata": {
            "tags": []
          }
        }
      ]
    },
    {
      "cell_type": "code",
      "metadata": {
        "colab_type": "code",
        "id": "w99mek14gLVv",
        "colab": {
          "base_uri": "https://localhost:8080/",
          "height": 381
        },
        "outputId": "351cace8-3024-4a34-bad4-2e0ec8b89380"
      },
      "source": [
        "X_train[feature].head(20)"
      ],
      "execution_count": 22,
      "outputs": [
        {
          "output_type": "execute_result",
          "data": {
            "text/plain": [
              "43360        gravity\n",
              "7263         gravity\n",
              "2486        handpump\n",
              "313            other\n",
              "52726      motorpump\n",
              "8558         gravity\n",
              "2559         gravity\n",
              "54735      motorpump\n",
              "25763       handpump\n",
              "44540    submersible\n",
              "28603          other\n",
              "4372     submersible\n",
              "30666        gravity\n",
              "6431     submersible\n",
              "57420          other\n",
              "1373         gravity\n",
              "2026         gravity\n",
              "58977       handpump\n",
              "41101        gravity\n",
              "10019        gravity\n",
              "Name: extraction_type_class, dtype: object"
            ]
          },
          "metadata": {
            "tags": []
          },
          "execution_count": 22
        }
      ]
    },
    {
      "cell_type": "markdown",
      "metadata": {
        "colab_type": "text",
        "id": "ezzK2IdbgLVx"
      },
      "source": [
        "### [One Hot Encoding](http://contrib.scikit-learn.org/categorical-encoding/onehot.html)\n",
        "\n",
        "> Onehot (or dummy) coding for categorical features, produces one feature per category, each binary.\n",
        "\n",
        "Warning: May run slow, or run out of memory, with high cardinality categoricals!"
      ]
    },
    {
      "cell_type": "code",
      "metadata": {
        "colab_type": "code",
        "id": "HDQZtV6GgLVy",
        "colab": {
          "base_uri": "https://localhost:8080/",
          "height": 680
        },
        "outputId": "09732156-acd0-444f-f416-7484f3c040a7"
      },
      "source": [
        "encoder = ce.OneHotEncoder(use_cat_names=True)\n",
        "encoded = encoder.fit_transform(X_train[[feature]])\n",
        "print(f'{len(encoded.columns)} columns')\n",
        "encoded.head(20)"
      ],
      "execution_count": 23,
      "outputs": [
        {
          "output_type": "stream",
          "text": [
            "7 columns\n"
          ],
          "name": "stdout"
        },
        {
          "output_type": "execute_result",
          "data": {
            "text/html": [
              "<div>\n",
              "<style scoped>\n",
              "    .dataframe tbody tr th:only-of-type {\n",
              "        vertical-align: middle;\n",
              "    }\n",
              "\n",
              "    .dataframe tbody tr th {\n",
              "        vertical-align: top;\n",
              "    }\n",
              "\n",
              "    .dataframe thead th {\n",
              "        text-align: right;\n",
              "    }\n",
              "</style>\n",
              "<table border=\"1\" class=\"dataframe\">\n",
              "  <thead>\n",
              "    <tr style=\"text-align: right;\">\n",
              "      <th></th>\n",
              "      <th>extraction_type_class_gravity</th>\n",
              "      <th>extraction_type_class_handpump</th>\n",
              "      <th>extraction_type_class_other</th>\n",
              "      <th>extraction_type_class_motorpump</th>\n",
              "      <th>extraction_type_class_submersible</th>\n",
              "      <th>extraction_type_class_rope pump</th>\n",
              "      <th>extraction_type_class_wind-powered</th>\n",
              "    </tr>\n",
              "  </thead>\n",
              "  <tbody>\n",
              "    <tr>\n",
              "      <th>43360</th>\n",
              "      <td>1</td>\n",
              "      <td>0</td>\n",
              "      <td>0</td>\n",
              "      <td>0</td>\n",
              "      <td>0</td>\n",
              "      <td>0</td>\n",
              "      <td>0</td>\n",
              "    </tr>\n",
              "    <tr>\n",
              "      <th>7263</th>\n",
              "      <td>1</td>\n",
              "      <td>0</td>\n",
              "      <td>0</td>\n",
              "      <td>0</td>\n",
              "      <td>0</td>\n",
              "      <td>0</td>\n",
              "      <td>0</td>\n",
              "    </tr>\n",
              "    <tr>\n",
              "      <th>2486</th>\n",
              "      <td>0</td>\n",
              "      <td>1</td>\n",
              "      <td>0</td>\n",
              "      <td>0</td>\n",
              "      <td>0</td>\n",
              "      <td>0</td>\n",
              "      <td>0</td>\n",
              "    </tr>\n",
              "    <tr>\n",
              "      <th>313</th>\n",
              "      <td>0</td>\n",
              "      <td>0</td>\n",
              "      <td>1</td>\n",
              "      <td>0</td>\n",
              "      <td>0</td>\n",
              "      <td>0</td>\n",
              "      <td>0</td>\n",
              "    </tr>\n",
              "    <tr>\n",
              "      <th>52726</th>\n",
              "      <td>0</td>\n",
              "      <td>0</td>\n",
              "      <td>0</td>\n",
              "      <td>1</td>\n",
              "      <td>0</td>\n",
              "      <td>0</td>\n",
              "      <td>0</td>\n",
              "    </tr>\n",
              "    <tr>\n",
              "      <th>8558</th>\n",
              "      <td>1</td>\n",
              "      <td>0</td>\n",
              "      <td>0</td>\n",
              "      <td>0</td>\n",
              "      <td>0</td>\n",
              "      <td>0</td>\n",
              "      <td>0</td>\n",
              "    </tr>\n",
              "    <tr>\n",
              "      <th>2559</th>\n",
              "      <td>1</td>\n",
              "      <td>0</td>\n",
              "      <td>0</td>\n",
              "      <td>0</td>\n",
              "      <td>0</td>\n",
              "      <td>0</td>\n",
              "      <td>0</td>\n",
              "    </tr>\n",
              "    <tr>\n",
              "      <th>54735</th>\n",
              "      <td>0</td>\n",
              "      <td>0</td>\n",
              "      <td>0</td>\n",
              "      <td>1</td>\n",
              "      <td>0</td>\n",
              "      <td>0</td>\n",
              "      <td>0</td>\n",
              "    </tr>\n",
              "    <tr>\n",
              "      <th>25763</th>\n",
              "      <td>0</td>\n",
              "      <td>1</td>\n",
              "      <td>0</td>\n",
              "      <td>0</td>\n",
              "      <td>0</td>\n",
              "      <td>0</td>\n",
              "      <td>0</td>\n",
              "    </tr>\n",
              "    <tr>\n",
              "      <th>44540</th>\n",
              "      <td>0</td>\n",
              "      <td>0</td>\n",
              "      <td>0</td>\n",
              "      <td>0</td>\n",
              "      <td>1</td>\n",
              "      <td>0</td>\n",
              "      <td>0</td>\n",
              "    </tr>\n",
              "    <tr>\n",
              "      <th>28603</th>\n",
              "      <td>0</td>\n",
              "      <td>0</td>\n",
              "      <td>1</td>\n",
              "      <td>0</td>\n",
              "      <td>0</td>\n",
              "      <td>0</td>\n",
              "      <td>0</td>\n",
              "    </tr>\n",
              "    <tr>\n",
              "      <th>4372</th>\n",
              "      <td>0</td>\n",
              "      <td>0</td>\n",
              "      <td>0</td>\n",
              "      <td>0</td>\n",
              "      <td>1</td>\n",
              "      <td>0</td>\n",
              "      <td>0</td>\n",
              "    </tr>\n",
              "    <tr>\n",
              "      <th>30666</th>\n",
              "      <td>1</td>\n",
              "      <td>0</td>\n",
              "      <td>0</td>\n",
              "      <td>0</td>\n",
              "      <td>0</td>\n",
              "      <td>0</td>\n",
              "      <td>0</td>\n",
              "    </tr>\n",
              "    <tr>\n",
              "      <th>6431</th>\n",
              "      <td>0</td>\n",
              "      <td>0</td>\n",
              "      <td>0</td>\n",
              "      <td>0</td>\n",
              "      <td>1</td>\n",
              "      <td>0</td>\n",
              "      <td>0</td>\n",
              "    </tr>\n",
              "    <tr>\n",
              "      <th>57420</th>\n",
              "      <td>0</td>\n",
              "      <td>0</td>\n",
              "      <td>1</td>\n",
              "      <td>0</td>\n",
              "      <td>0</td>\n",
              "      <td>0</td>\n",
              "      <td>0</td>\n",
              "    </tr>\n",
              "    <tr>\n",
              "      <th>1373</th>\n",
              "      <td>1</td>\n",
              "      <td>0</td>\n",
              "      <td>0</td>\n",
              "      <td>0</td>\n",
              "      <td>0</td>\n",
              "      <td>0</td>\n",
              "      <td>0</td>\n",
              "    </tr>\n",
              "    <tr>\n",
              "      <th>2026</th>\n",
              "      <td>1</td>\n",
              "      <td>0</td>\n",
              "      <td>0</td>\n",
              "      <td>0</td>\n",
              "      <td>0</td>\n",
              "      <td>0</td>\n",
              "      <td>0</td>\n",
              "    </tr>\n",
              "    <tr>\n",
              "      <th>58977</th>\n",
              "      <td>0</td>\n",
              "      <td>1</td>\n",
              "      <td>0</td>\n",
              "      <td>0</td>\n",
              "      <td>0</td>\n",
              "      <td>0</td>\n",
              "      <td>0</td>\n",
              "    </tr>\n",
              "    <tr>\n",
              "      <th>41101</th>\n",
              "      <td>1</td>\n",
              "      <td>0</td>\n",
              "      <td>0</td>\n",
              "      <td>0</td>\n",
              "      <td>0</td>\n",
              "      <td>0</td>\n",
              "      <td>0</td>\n",
              "    </tr>\n",
              "    <tr>\n",
              "      <th>10019</th>\n",
              "      <td>1</td>\n",
              "      <td>0</td>\n",
              "      <td>0</td>\n",
              "      <td>0</td>\n",
              "      <td>0</td>\n",
              "      <td>0</td>\n",
              "      <td>0</td>\n",
              "    </tr>\n",
              "  </tbody>\n",
              "</table>\n",
              "</div>"
            ],
            "text/plain": [
              "       extraction_type_class_gravity  ...  extraction_type_class_wind-powered\n",
              "43360                              1  ...                                   0\n",
              "7263                               1  ...                                   0\n",
              "2486                               0  ...                                   0\n",
              "313                                0  ...                                   0\n",
              "52726                              0  ...                                   0\n",
              "8558                               1  ...                                   0\n",
              "2559                               1  ...                                   0\n",
              "54735                              0  ...                                   0\n",
              "25763                              0  ...                                   0\n",
              "44540                              0  ...                                   0\n",
              "28603                              0  ...                                   0\n",
              "4372                               0  ...                                   0\n",
              "30666                              1  ...                                   0\n",
              "6431                               0  ...                                   0\n",
              "57420                              0  ...                                   0\n",
              "1373                               1  ...                                   0\n",
              "2026                               1  ...                                   0\n",
              "58977                              0  ...                                   0\n",
              "41101                              1  ...                                   0\n",
              "10019                              1  ...                                   0\n",
              "\n",
              "[20 rows x 7 columns]"
            ]
          },
          "metadata": {
            "tags": []
          },
          "execution_count": 23
        }
      ]
    },
    {
      "cell_type": "markdown",
      "metadata": {
        "colab_type": "text",
        "id": "1Ql9Qmw3sNJ7"
      },
      "source": [
        "#### One-Hot Encoding, Logistic Regression, Validation Accuracy"
      ]
    },
    {
      "cell_type": "code",
      "metadata": {
        "colab_type": "code",
        "id": "mT4A-oDGpOss",
        "colab": {
          "base_uri": "https://localhost:8080/",
          "height": 34
        },
        "outputId": "bb34080f-e846-40a2-f113-bf8c98029e2a"
      },
      "source": [
        "from sklearn.linear_model import LogisticRegressionCV\n",
        "from sklearn.preprocessing import StandardScaler\n",
        "\n",
        "lr = make_pipeline(\n",
        "    ce.OneHotEncoder(use_cat_names=True), \n",
        "    SimpleImputer(), \n",
        "    StandardScaler(), \n",
        "    LogisticRegressionCV(multi_class='auto', solver='lbfgs', cv=5, n_jobs=-1)\n",
        ")\n",
        "\n",
        "lr.fit(X_train[[feature]], y_train)\n",
        "score = lr.score(X_val[[feature]], y_val)\n",
        "print('Logistic Regression, Validation Accuracy', score)"
      ],
      "execution_count": 24,
      "outputs": [
        {
          "output_type": "stream",
          "text": [
            "Logistic Regression, Validation Accuracy 0.6202861952861953\n"
          ],
          "name": "stdout"
        }
      ]
    },
    {
      "cell_type": "markdown",
      "metadata": {
        "colab_type": "text",
        "id": "EbH6wivpsRuV"
      },
      "source": [
        "#### One-Hot Encoding, Decision Tree, Validation Accuracy"
      ]
    },
    {
      "cell_type": "code",
      "metadata": {
        "colab_type": "code",
        "id": "b6KUluFOqIdK",
        "colab": {
          "base_uri": "https://localhost:8080/",
          "height": 34
        },
        "outputId": "e8c1002b-193b-4f1e-b0e8-1d880c350e39"
      },
      "source": [
        "from sklearn.tree import DecisionTreeClassifier\n",
        "\n",
        "dt = make_pipeline(\n",
        "    ce.OneHotEncoder(use_cat_names=True), \n",
        "    SimpleImputer(), \n",
        "    DecisionTreeClassifier(random_state=42)\n",
        ")\n",
        "\n",
        "dt.fit(X_train[[feature]], y_train)\n",
        "score = dt.score(X_val[[feature]], y_val)\n",
        "print('Decision Tree, Validation Accuracy', score)"
      ],
      "execution_count": 25,
      "outputs": [
        {
          "output_type": "stream",
          "text": [
            "Decision Tree, Validation Accuracy 0.6202861952861953\n"
          ],
          "name": "stdout"
        }
      ]
    },
    {
      "cell_type": "markdown",
      "metadata": {
        "colab_type": "text",
        "id": "8yg11_gTsUu6"
      },
      "source": [
        "#### One-Hot Encoding, Logistic Regression, Model Interpretation"
      ]
    },
    {
      "cell_type": "code",
      "metadata": {
        "colab_type": "code",
        "id": "IxHwXGRornNI",
        "colab": {
          "base_uri": "https://localhost:8080/",
          "height": 265
        },
        "outputId": "db4012da-755a-4e05-8303-8221506ee308"
      },
      "source": [
        "model = lr.named_steps['logisticregressioncv']\n",
        "encoder = lr.named_steps['onehotencoder']\n",
        "encoded_columns = encoder.transform(X_val[[feature]]).columns\n",
        "coefficients = pd.Series(model.coef_[0], encoded_columns)\n",
        "coefficients.sort_values().plot.barh(color='grey');"
      ],
      "execution_count": 26,
      "outputs": [
        {
          "output_type": "display_data",
          "data": {
            "image/png": "[encoded data removed]",
            "text/plain": [
              "<Figure size 432x288 with 1 Axes>"
            ]
          },
          "metadata": {
            "tags": []
          }
        }
      ]
    },
    {
      "cell_type": "markdown",
      "metadata": {
        "colab_type": "text",
        "id": "0REZ8HdpsccR"
      },
      "source": [
        "#### One-Hot Encoding, Decision Tree, Model Interpretation"
      ]
    },
    {
      "cell_type": "code",
      "metadata": {
        "colab_type": "code",
        "id": "gV-grmYKpDp9",
        "colab": {
          "base_uri": "https://localhost:8080/",
          "height": 934
        },
        "outputId": "2d179f8e-d0cb-4bb2-eaa0-0abdd2e78a7e"
      },
      "source": [
        "# Plot tree\n",
        "# https://scikit-learn.org/stable/modules/generated/sklearn.tree.export_graphviz.html\n",
        "import graphviz\n",
        "from sklearn.tree import export_graphviz\n",
        "\n",
        "model = dt.named_steps['decisiontreeclassifier']\n",
        "encoder = dt.named_steps['onehotencoder']\n",
        "encoded_columns = encoder.transform(X_val[[feature]]).columns\n",
        "\n",
        "dot_data = export_graphviz(model, \n",
        "                           out_file=None, \n",
        "                           max_depth=7, \n",
        "                           feature_names=encoded_columns,\n",
        "                           class_names=model.classes_, \n",
        "                           impurity=False, \n",
        "                           filled=True, \n",
        "                           proportion=True, \n",
        "                           rounded=True)   \n",
        "display(graphviz.Source(dot_data))"
      ],
      "execution_count": 27,
      "outputs": [
        {
          "output_type": "display_data",
          "data": {
            "text/plain": [
              "<graphviz.files.Source at 0x7f1717809f98>"
            ],
            "image/svg+xml": "<?xml version=\"1.0\" encoding=\"UTF-8\" standalone=\"no\"?>\n<!DOCTYPE svg PUBLIC \"-//W3C//DTD SVG 1.1//EN\"\n \"http://www.w3.org/Graphics/SVG/1.1/DTD/svg11.dtd\">\n<!-- Generated by graphviz version 2.40.1 (20161225.0304)\n -->\n<!-- Title: Tree Pages: 1 -->\n<svg width=\"1067pt\" height=\"685pt\"\n viewBox=\"0.00 0.00 1067.00 685.00\" xmlns=\"http://www.w3.org/2000/svg\" xmlns:xlink=\"http://www.w3.org/1999/xlink\">\n<g id=\"graph0\" class=\"graph\" transform=\"scale(1 1) rotate(0) translate(4 681)\">\n<title>Tree</title>\n<polygon fill=\"#ffffff\" stroke=\"transparent\" points=\"-4,4 -4,-681 1063,-681 1063,4 -4,4\"/>\n<!-- 0 -->\n<g id=\"node1\" class=\"node\">\n<title>0</title>\n<path fill=\"#f8decc\" stroke=\"#000000\" d=\"M944.5,-677C944.5,-677 725.5,-677 725.5,-677 719.5,-677 713.5,-671 713.5,-665 713.5,-665 713.5,-621 713.5,-621 713.5,-615 719.5,-609 725.5,-609 725.5,-609 944.5,-609 944.5,-609 950.5,-609 956.5,-615 956.5,-621 956.5,-621 956.5,-665 956.5,-665 956.5,-671 950.5,-677 944.5,-677\"/>\n<text text-anchor=\"middle\" x=\"835\" y=\"-661.8\" font-family=\"Helvetica,sans-Serif\" font-size=\"14.00\" fill=\"#000000\">extraction_type_class_other &lt;= 0.5</text>\n<text text-anchor=\"middle\" x=\"835\" y=\"-646.8\" font-family=\"Helvetica,sans-Serif\" font-size=\"14.00\" fill=\"#000000\">samples = 100.0%</text>\n<text text-anchor=\"middle\" x=\"835\" y=\"-631.8\" font-family=\"Helvetica,sans-Serif\" font-size=\"14.00\" fill=\"#000000\">value = [0.543, 0.073, 0.384]</text>\n<text text-anchor=\"middle\" x=\"835\" y=\"-616.8\" font-family=\"Helvetica,sans-Serif\" font-size=\"14.00\" fill=\"#000000\">class = functional</text>\n</g>\n<!-- 1 -->\n<g id=\"node2\" class=\"node\">\n<title>1</title>\n<path fill=\"#f5ceb2\" stroke=\"#000000\" d=\"M837,-573C837,-573 577,-573 577,-573 571,-573 565,-567 565,-561 565,-561 565,-517 565,-517 565,-511 571,-505 577,-505 577,-505 837,-505 837,-505 843,-505 849,-511 849,-517 849,-517 849,-561 849,-561 849,-567 843,-573 837,-573\"/>\n<text text-anchor=\"middle\" x=\"707\" y=\"-557.8\" font-family=\"Helvetica,sans-Serif\" font-size=\"14.00\" fill=\"#000000\">extraction_type_class_motorpump &lt;= 0.5</text>\n<text text-anchor=\"middle\" x=\"707\" y=\"-542.8\" font-family=\"Helvetica,sans-Serif\" font-size=\"14.00\" fill=\"#000000\">samples = 89.1%</text>\n<text text-anchor=\"middle\" x=\"707\" y=\"-527.8\" font-family=\"Helvetica,sans-Serif\" font-size=\"14.00\" fill=\"#000000\">value = [0.59, 0.078, 0.332]</text>\n<text text-anchor=\"middle\" x=\"707\" y=\"-512.8\" font-family=\"Helvetica,sans-Serif\" font-size=\"14.00\" fill=\"#000000\">class = functional</text>\n</g>\n<!-- 0&#45;&gt;1 -->\n<g id=\"edge1\" class=\"edge\">\n<title>0&#45;&gt;1</title>\n<path fill=\"none\" stroke=\"#000000\" d=\"M793.088,-608.9465C781.485,-599.519 768.7779,-589.1946 756.7741,-579.4415\"/>\n<polygon fill=\"#000000\" stroke=\"#000000\" points=\"758.9744,-576.7196 749.0061,-573.13 754.5602,-582.1524 758.9744,-576.7196\"/>\n<text text-anchor=\"middle\" x=\"751.5786\" y=\"-594.2973\" font-family=\"Helvetica,sans-Serif\" font-size=\"14.00\" fill=\"#000000\">True</text>\n</g>\n<!-- 12 -->\n<g id=\"node13\" class=\"node\">\n<title>12</title>\n<path fill=\"#9d66eb\" stroke=\"#000000\" d=\"M1047,-565.5C1047,-565.5 879,-565.5 879,-565.5 873,-565.5 867,-559.5 867,-553.5 867,-553.5 867,-524.5 867,-524.5 867,-518.5 873,-512.5 879,-512.5 879,-512.5 1047,-512.5 1047,-512.5 1053,-512.5 1059,-518.5 1059,-524.5 1059,-524.5 1059,-553.5 1059,-553.5 1059,-559.5 1053,-565.5 1047,-565.5\"/>\n<text text-anchor=\"middle\" x=\"963\" y=\"-550.3\" font-family=\"Helvetica,sans-Serif\" font-size=\"14.00\" fill=\"#000000\">samples = 10.9%</text>\n<text text-anchor=\"middle\" x=\"963\" y=\"-535.3\" font-family=\"Helvetica,sans-Serif\" font-size=\"14.00\" fill=\"#000000\">value = [0.159, 0.031, 0.81]</text>\n<text text-anchor=\"middle\" x=\"963\" y=\"-520.3\" font-family=\"Helvetica,sans-Serif\" font-size=\"14.00\" fill=\"#000000\">class = non functional</text>\n</g>\n<!-- 0&#45;&gt;12 -->\n<g id=\"edge12\" class=\"edge\">\n<title>0&#45;&gt;12</title>\n<path fill=\"none\" stroke=\"#000000\" d=\"M876.912,-608.9465C891.5533,-597.0504 907.9526,-583.726 922.4785,-571.9237\"/>\n<polygon fill=\"#000000\" stroke=\"#000000\" points=\"924.7786,-574.5645 930.3327,-565.5422 920.3645,-569.1317 924.7786,-574.5645\"/>\n<text text-anchor=\"middle\" x=\"927.7602\" y=\"-586.7095\" font-family=\"Helvetica,sans-Serif\" font-size=\"14.00\" fill=\"#000000\">False</text>\n</g>\n<!-- 2 -->\n<g id=\"node3\" class=\"node\">\n<title>2</title>\n<path fill=\"#f4caac\" stroke=\"#000000\" d=\"M708.5,-469C708.5,-469 443.5,-469 443.5,-469 437.5,-469 431.5,-463 431.5,-457 431.5,-457 431.5,-413 431.5,-413 431.5,-407 437.5,-401 443.5,-401 443.5,-401 708.5,-401 708.5,-401 714.5,-401 720.5,-407 720.5,-413 720.5,-413 720.5,-457 720.5,-457 720.5,-463 714.5,-469 708.5,-469\"/>\n<text text-anchor=\"middle\" x=\"576\" y=\"-453.8\" font-family=\"Helvetica,sans-Serif\" font-size=\"14.00\" fill=\"#000000\">extraction_type_class_submersible &lt;= 0.5</text>\n<text text-anchor=\"middle\" x=\"576\" y=\"-438.8\" font-family=\"Helvetica,sans-Serif\" font-size=\"14.00\" fill=\"#000000\">samples = 84.1%</text>\n<text text-anchor=\"middle\" x=\"576\" y=\"-423.8\" font-family=\"Helvetica,sans-Serif\" font-size=\"14.00\" fill=\"#000000\">value = [0.603, 0.08, 0.318]</text>\n<text text-anchor=\"middle\" x=\"576\" y=\"-408.8\" font-family=\"Helvetica,sans-Serif\" font-size=\"14.00\" fill=\"#000000\">class = functional</text>\n</g>\n<!-- 1&#45;&gt;2 -->\n<g id=\"edge2\" class=\"edge\">\n<title>1&#45;&gt;2</title>\n<path fill=\"none\" stroke=\"#000000\" d=\"M664.1057,-504.9465C652.2307,-495.519 639.2259,-485.1946 626.9407,-475.4415\"/>\n<polygon fill=\"#000000\" stroke=\"#000000\" points=\"628.9989,-472.6066 618.9907,-469.13 624.6464,-478.089 628.9989,-472.6066\"/>\n</g>\n<!-- 11 -->\n<g id=\"node12\" class=\"node\">\n<title>11</title>\n<path fill=\"#d8c1f7\" stroke=\"#000000\" d=\"M927,-461.5C927,-461.5 751,-461.5 751,-461.5 745,-461.5 739,-455.5 739,-449.5 739,-449.5 739,-420.5 739,-420.5 739,-414.5 745,-408.5 751,-408.5 751,-408.5 927,-408.5 927,-408.5 933,-408.5 939,-414.5 939,-420.5 939,-420.5 939,-449.5 939,-449.5 939,-455.5 933,-461.5 927,-461.5\"/>\n<text text-anchor=\"middle\" x=\"839\" y=\"-446.3\" font-family=\"Helvetica,sans-Serif\" font-size=\"14.00\" fill=\"#000000\">samples = 5.0%</text>\n<text text-anchor=\"middle\" x=\"839\" y=\"-431.3\" font-family=\"Helvetica,sans-Serif\" font-size=\"14.00\" fill=\"#000000\">value = [0.381, 0.045, 0.574]</text>\n<text text-anchor=\"middle\" x=\"839\" y=\"-416.3\" font-family=\"Helvetica,sans-Serif\" font-size=\"14.00\" fill=\"#000000\">class = non functional</text>\n</g>\n<!-- 1&#45;&gt;11 -->\n<g id=\"edge11\" class=\"edge\">\n<title>1&#45;&gt;11</title>\n<path fill=\"none\" stroke=\"#000000\" d=\"M750.2217,-504.9465C765.3206,-493.0504 782.2324,-479.726 797.2122,-467.9237\"/>\n<polygon fill=\"#000000\" stroke=\"#000000\" points=\"799.623,-470.4802 805.3119,-461.5422 795.2909,-464.9817 799.623,-470.4802\"/>\n</g>\n<!-- 3 -->\n<g id=\"node4\" class=\"node\">\n<title>3</title>\n<path fill=\"#f4c7a8\" stroke=\"#000000\" d=\"M568.5,-365C568.5,-365 339.5,-365 339.5,-365 333.5,-365 327.5,-359 327.5,-353 327.5,-353 327.5,-309 327.5,-309 327.5,-303 333.5,-297 339.5,-297 339.5,-297 568.5,-297 568.5,-297 574.5,-297 580.5,-303 580.5,-309 580.5,-309 580.5,-353 580.5,-353 580.5,-359 574.5,-365 568.5,-365\"/>\n<text text-anchor=\"middle\" x=\"454\" y=\"-349.8\" font-family=\"Helvetica,sans-Serif\" font-size=\"14.00\" fill=\"#000000\">extraction_type_class_gravity &lt;= 0.5</text>\n<text text-anchor=\"middle\" x=\"454\" y=\"-334.8\" font-family=\"Helvetica,sans-Serif\" font-size=\"14.00\" fill=\"#000000\">samples = 73.8%</text>\n<text text-anchor=\"middle\" x=\"454\" y=\"-319.8\" font-family=\"Helvetica,sans-Serif\" font-size=\"14.00\" fill=\"#000000\">value = [0.611, 0.085, 0.304]</text>\n<text text-anchor=\"middle\" x=\"454\" y=\"-304.8\" font-family=\"Helvetica,sans-Serif\" font-size=\"14.00\" fill=\"#000000\">class = functional</text>\n</g>\n<!-- 2&#45;&gt;3 -->\n<g id=\"edge3\" class=\"edge\">\n<title>2&#45;&gt;3</title>\n<path fill=\"none\" stroke=\"#000000\" d=\"M536.0526,-400.9465C525.0988,-391.6088 513.1127,-381.3911 501.768,-371.7203\"/>\n<polygon fill=\"#000000\" stroke=\"#000000\" points=\"503.9179,-368.9538 494.0371,-365.13 499.3767,-374.2809 503.9179,-368.9538\"/>\n</g>\n<!-- 10 -->\n<g id=\"node11\" class=\"node\">\n<title>10</title>\n<path fill=\"#f9e4d5\" stroke=\"#000000\" d=\"M787,-357.5C787,-357.5 611,-357.5 611,-357.5 605,-357.5 599,-351.5 599,-345.5 599,-345.5 599,-316.5 599,-316.5 599,-310.5 605,-304.5 611,-304.5 611,-304.5 787,-304.5 787,-304.5 793,-304.5 799,-310.5 799,-316.5 799,-316.5 799,-345.5 799,-345.5 799,-351.5 793,-357.5 787,-357.5\"/>\n<text text-anchor=\"middle\" x=\"699\" y=\"-342.3\" font-family=\"Helvetica,sans-Serif\" font-size=\"14.00\" fill=\"#000000\">samples = 10.3%</text>\n<text text-anchor=\"middle\" x=\"699\" y=\"-327.3\" font-family=\"Helvetica,sans-Serif\" font-size=\"14.00\" fill=\"#000000\">value = [0.541, 0.042, 0.416]</text>\n<text text-anchor=\"middle\" x=\"699\" y=\"-312.3\" font-family=\"Helvetica,sans-Serif\" font-size=\"14.00\" fill=\"#000000\">class = functional</text>\n</g>\n<!-- 2&#45;&gt;10 -->\n<g id=\"edge10\" class=\"edge\">\n<title>2&#45;&gt;10</title>\n<path fill=\"none\" stroke=\"#000000\" d=\"M616.2748,-400.9465C630.2139,-389.1606 645.8112,-375.9726 659.6732,-364.2519\"/>\n<polygon fill=\"#000000\" stroke=\"#000000\" points=\"662.2324,-366.6715 667.6088,-357.5422 657.7127,-361.3262 662.2324,-366.6715\"/>\n</g>\n<!-- 4 -->\n<g id=\"node5\" class=\"node\">\n<title>4</title>\n<path fill=\"#f3c5a4\" stroke=\"#000000\" d=\"M458.5,-261C458.5,-261 181.5,-261 181.5,-261 175.5,-261 169.5,-255 169.5,-249 169.5,-249 169.5,-205 169.5,-205 169.5,-199 175.5,-193 181.5,-193 181.5,-193 458.5,-193 458.5,-193 464.5,-193 470.5,-199 470.5,-205 470.5,-205 470.5,-249 470.5,-249 470.5,-255 464.5,-261 458.5,-261\"/>\n<text text-anchor=\"middle\" x=\"320\" y=\"-245.8\" font-family=\"Helvetica,sans-Serif\" font-size=\"14.00\" fill=\"#000000\">extraction_type_class_wind&#45;powered &lt;= 0.5</text>\n<text text-anchor=\"middle\" x=\"320\" y=\"-230.8\" font-family=\"Helvetica,sans-Serif\" font-size=\"14.00\" fill=\"#000000\">samples = 28.7%</text>\n<text text-anchor=\"middle\" x=\"320\" y=\"-215.8\" font-family=\"Helvetica,sans-Serif\" font-size=\"14.00\" fill=\"#000000\">value = [0.629, 0.059, 0.311]</text>\n<text text-anchor=\"middle\" x=\"320\" y=\"-200.8\" font-family=\"Helvetica,sans-Serif\" font-size=\"14.00\" fill=\"#000000\">class = functional</text>\n</g>\n<!-- 3&#45;&gt;4 -->\n<g id=\"edge4\" class=\"edge\">\n<title>3&#45;&gt;4</title>\n<path fill=\"none\" stroke=\"#000000\" d=\"M410.1234,-296.9465C397.9765,-287.519 384.6738,-277.1946 372.1073,-267.4415\"/>\n<polygon fill=\"#000000\" stroke=\"#000000\" points=\"374.021,-264.4963 363.9752,-261.13 369.7291,-270.0262 374.021,-264.4963\"/>\n</g>\n<!-- 9 -->\n<g id=\"node10\" class=\"node\">\n<title>9</title>\n<path fill=\"#f4c9aa\" stroke=\"#000000\" d=\"M677,-253.5C677,-253.5 501,-253.5 501,-253.5 495,-253.5 489,-247.5 489,-241.5 489,-241.5 489,-212.5 489,-212.5 489,-206.5 495,-200.5 501,-200.5 501,-200.5 677,-200.5 677,-200.5 683,-200.5 689,-206.5 689,-212.5 689,-212.5 689,-241.5 689,-241.5 689,-247.5 683,-253.5 677,-253.5\"/>\n<text text-anchor=\"middle\" x=\"589\" y=\"-238.3\" font-family=\"Helvetica,sans-Serif\" font-size=\"14.00\" fill=\"#000000\">samples = 45.1%</text>\n<text text-anchor=\"middle\" x=\"589\" y=\"-223.3\" font-family=\"Helvetica,sans-Serif\" font-size=\"14.00\" fill=\"#000000\">value = [0.599, 0.101, 0.299]</text>\n<text text-anchor=\"middle\" x=\"589\" y=\"-208.3\" font-family=\"Helvetica,sans-Serif\" font-size=\"14.00\" fill=\"#000000\">class = functional</text>\n</g>\n<!-- 3&#45;&gt;9 -->\n<g id=\"edge9\" class=\"edge\">\n<title>3&#45;&gt;9</title>\n<path fill=\"none\" stroke=\"#000000\" d=\"M498.204,-296.9465C513.6461,-285.0504 530.9422,-271.726 546.2625,-259.9237\"/>\n<polygon fill=\"#000000\" stroke=\"#000000\" points=\"548.7603,-262.4176 554.5462,-253.5422 544.4883,-256.8723 548.7603,-262.4176\"/>\n</g>\n<!-- 5 -->\n<g id=\"node6\" class=\"node\">\n<title>5</title>\n<path fill=\"#f3c4a3\" stroke=\"#000000\" d=\"M319,-157C319,-157 63,-157 63,-157 57,-157 51,-151 51,-145 51,-145 51,-101 51,-101 51,-95 57,-89 63,-89 63,-89 319,-89 319,-89 325,-89 331,-95 331,-101 331,-101 331,-145 331,-145 331,-151 325,-157 319,-157\"/>\n<text text-anchor=\"middle\" x=\"191\" y=\"-141.8\" font-family=\"Helvetica,sans-Serif\" font-size=\"14.00\" fill=\"#000000\">extraction_type_class_rope pump &lt;= 0.5</text>\n<text text-anchor=\"middle\" x=\"191\" y=\"-126.8\" font-family=\"Helvetica,sans-Serif\" font-size=\"14.00\" fill=\"#000000\">samples = 28.5%</text>\n<text text-anchor=\"middle\" x=\"191\" y=\"-111.8\" font-family=\"Helvetica,sans-Serif\" font-size=\"14.00\" fill=\"#000000\">value = [0.631, 0.059, 0.31]</text>\n<text text-anchor=\"middle\" x=\"191\" y=\"-96.8\" font-family=\"Helvetica,sans-Serif\" font-size=\"14.00\" fill=\"#000000\">class = functional</text>\n</g>\n<!-- 4&#45;&gt;5 -->\n<g id=\"edge5\" class=\"edge\">\n<title>4&#45;&gt;5</title>\n<path fill=\"none\" stroke=\"#000000\" d=\"M277.7606,-192.9465C266.0669,-183.519 253.2606,-173.1946 241.163,-163.4415\"/>\n<polygon fill=\"#000000\" stroke=\"#000000\" points=\"243.3162,-160.6816 233.3343,-157.13 238.9227,-166.1312 243.3162,-160.6816\"/>\n</g>\n<!-- 8 -->\n<g id=\"node9\" class=\"node\">\n<title>8</title>\n<path fill=\"#f8f3fd\" stroke=\"#000000\" d=\"M537,-149.5C537,-149.5 361,-149.5 361,-149.5 355,-149.5 349,-143.5 349,-137.5 349,-137.5 349,-108.5 349,-108.5 349,-102.5 355,-96.5 361,-96.5 361,-96.5 537,-96.5 537,-96.5 543,-96.5 549,-102.5 549,-108.5 549,-108.5 549,-137.5 549,-137.5 549,-143.5 543,-149.5 537,-149.5\"/>\n<text text-anchor=\"middle\" x=\"449\" y=\"-134.3\" font-family=\"Helvetica,sans-Serif\" font-size=\"14.00\" fill=\"#000000\">samples = 0.2%</text>\n<text text-anchor=\"middle\" x=\"449\" y=\"-119.3\" font-family=\"Helvetica,sans-Serif\" font-size=\"14.00\" fill=\"#000000\">value = [0.452, 0.065, 0.484]</text>\n<text text-anchor=\"middle\" x=\"449\" y=\"-104.3\" font-family=\"Helvetica,sans-Serif\" font-size=\"14.00\" fill=\"#000000\">class = non functional</text>\n</g>\n<!-- 4&#45;&gt;8 -->\n<g id=\"edge8\" class=\"edge\">\n<title>4&#45;&gt;8</title>\n<path fill=\"none\" stroke=\"#000000\" d=\"M362.2394,-192.9465C376.9952,-181.0504 393.5225,-167.726 408.162,-155.9237\"/>\n<polygon fill=\"#000000\" stroke=\"#000000\" points=\"410.4891,-158.5433 416.0775,-149.5422 406.0957,-153.0938 410.4891,-158.5433\"/>\n</g>\n<!-- 6 -->\n<g id=\"node7\" class=\"node\">\n<title>6</title>\n<path fill=\"#f3c5a3\" stroke=\"#000000\" d=\"M164,-53C164,-53 12,-53 12,-53 6,-53 0,-47 0,-41 0,-41 0,-12 0,-12 0,-6 6,0 12,0 12,0 164,0 164,0 170,0 176,-6 176,-12 176,-12 176,-41 176,-41 176,-47 170,-53 164,-53\"/>\n<text text-anchor=\"middle\" x=\"88\" y=\"-37.8\" font-family=\"Helvetica,sans-Serif\" font-size=\"14.00\" fill=\"#000000\">samples = 27.7%</text>\n<text text-anchor=\"middle\" x=\"88\" y=\"-22.8\" font-family=\"Helvetica,sans-Serif\" font-size=\"14.00\" fill=\"#000000\">value = [0.63, 0.06, 0.31]</text>\n<text text-anchor=\"middle\" x=\"88\" y=\"-7.8\" font-family=\"Helvetica,sans-Serif\" font-size=\"14.00\" fill=\"#000000\">class = functional</text>\n</g>\n<!-- 5&#45;&gt;6 -->\n<g id=\"edge6\" class=\"edge\">\n<title>5&#45;&gt;6</title>\n<path fill=\"none\" stroke=\"#000000\" d=\"M154.6861,-88.9777C144.7168,-79.6376 133.9138,-69.5163 123.9643,-60.1947\"/>\n<polygon fill=\"#000000\" stroke=\"#000000\" points=\"126.2408,-57.5314 116.5502,-53.2485 121.4548,-62.6397 126.2408,-57.5314\"/>\n</g>\n<!-- 7 -->\n<g id=\"node8\" class=\"node\">\n<title>7</title>\n<path fill=\"#f2bf9b\" stroke=\"#000000\" d=\"M382,-53C382,-53 206,-53 206,-53 200,-53 194,-47 194,-41 194,-41 194,-12 194,-12 194,-6 200,0 206,0 206,0 382,0 382,0 388,0 394,-6 394,-12 394,-12 394,-41 394,-41 394,-47 388,-53 382,-53\"/>\n<text text-anchor=\"middle\" x=\"294\" y=\"-37.8\" font-family=\"Helvetica,sans-Serif\" font-size=\"14.00\" fill=\"#000000\">samples = 0.7%</text>\n<text text-anchor=\"middle\" x=\"294\" y=\"-22.8\" font-family=\"Helvetica,sans-Serif\" font-size=\"14.00\" fill=\"#000000\">value = [0.657, 0.037, 0.306]</text>\n<text text-anchor=\"middle\" x=\"294\" y=\"-7.8\" font-family=\"Helvetica,sans-Serif\" font-size=\"14.00\" fill=\"#000000\">class = functional</text>\n</g>\n<!-- 5&#45;&gt;7 -->\n<g id=\"edge7\" class=\"edge\">\n<title>5&#45;&gt;7</title>\n<path fill=\"none\" stroke=\"#000000\" d=\"M227.3139,-88.9777C237.2832,-79.6376 248.0862,-69.5163 258.0357,-60.1947\"/>\n<polygon fill=\"#000000\" stroke=\"#000000\" points=\"260.5452,-62.6397 265.4498,-53.2485 255.7592,-57.5314 260.5452,-62.6397\"/>\n</g>\n</g>\n</svg>\n"
          },
          "metadata": {
            "tags": []
          }
        }
      ]
    },
    {
      "cell_type": "markdown",
      "metadata": {
        "colab_type": "text",
        "id": "QUd6gzcZgLVz"
      },
      "source": [
        "### [Ordinal Encoding](http://contrib.scikit-learn.org/categorical-encoding/ordinal.html)\n",
        "\n",
        "> Ordinal encoding uses a single column of integers to represent the classes. An optional mapping dict can be passed in; in this case, we use the knowledge that there is some true order to the classes themselves. Otherwise, the classes are assumed to have no true order and integers are selected at random."
      ]
    },
    {
      "cell_type": "code",
      "metadata": {
        "colab_type": "code",
        "id": "CnBz2RbwgLVz",
        "colab": {
          "base_uri": "https://localhost:8080/",
          "height": 680
        },
        "outputId": "d9fba6b2-ea85-474b-a7cf-df2e3da40493"
      },
      "source": [
        "encoder = ce.OrdinalEncoder()\n",
        "encoded = encoder.fit_transform(X_train[[feature]])\n",
        "print(f'1 column, {encoded[feature].nunique()} unique values')\n",
        "encoded.head(20)"
      ],
      "execution_count": 28,
      "outputs": [
        {
          "output_type": "stream",
          "text": [
            "1 column, 7 unique values\n"
          ],
          "name": "stdout"
        },
        {
          "output_type": "execute_result",
          "data": {
            "text/html": [
              "<div>\n",
              "<style scoped>\n",
              "    .dataframe tbody tr th:only-of-type {\n",
              "        vertical-align: middle;\n",
              "    }\n",
              "\n",
              "    .dataframe tbody tr th {\n",
              "        vertical-align: top;\n",
              "    }\n",
              "\n",
              "    .dataframe thead th {\n",
              "        text-align: right;\n",
              "    }\n",
              "</style>\n",
              "<table border=\"1\" class=\"dataframe\">\n",
              "  <thead>\n",
              "    <tr style=\"text-align: right;\">\n",
              "      <th></th>\n",
              "      <th>extraction_type_class</th>\n",
              "    </tr>\n",
              "  </thead>\n",
              "  <tbody>\n",
              "    <tr>\n",
              "      <th>43360</th>\n",
              "      <td>1</td>\n",
              "    </tr>\n",
              "    <tr>\n",
              "      <th>7263</th>\n",
              "      <td>1</td>\n",
              "    </tr>\n",
              "    <tr>\n",
              "      <th>2486</th>\n",
              "      <td>2</td>\n",
              "    </tr>\n",
              "    <tr>\n",
              "      <th>313</th>\n",
              "      <td>3</td>\n",
              "    </tr>\n",
              "    <tr>\n",
              "      <th>52726</th>\n",
              "      <td>4</td>\n",
              "    </tr>\n",
              "    <tr>\n",
              "      <th>8558</th>\n",
              "      <td>1</td>\n",
              "    </tr>\n",
              "    <tr>\n",
              "      <th>2559</th>\n",
              "      <td>1</td>\n",
              "    </tr>\n",
              "    <tr>\n",
              "      <th>54735</th>\n",
              "      <td>4</td>\n",
              "    </tr>\n",
              "    <tr>\n",
              "      <th>25763</th>\n",
              "      <td>2</td>\n",
              "    </tr>\n",
              "    <tr>\n",
              "      <th>44540</th>\n",
              "      <td>5</td>\n",
              "    </tr>\n",
              "    <tr>\n",
              "      <th>28603</th>\n",
              "      <td>3</td>\n",
              "    </tr>\n",
              "    <tr>\n",
              "      <th>4372</th>\n",
              "      <td>5</td>\n",
              "    </tr>\n",
              "    <tr>\n",
              "      <th>30666</th>\n",
              "      <td>1</td>\n",
              "    </tr>\n",
              "    <tr>\n",
              "      <th>6431</th>\n",
              "      <td>5</td>\n",
              "    </tr>\n",
              "    <tr>\n",
              "      <th>57420</th>\n",
              "      <td>3</td>\n",
              "    </tr>\n",
              "    <tr>\n",
              "      <th>1373</th>\n",
              "      <td>1</td>\n",
              "    </tr>\n",
              "    <tr>\n",
              "      <th>2026</th>\n",
              "      <td>1</td>\n",
              "    </tr>\n",
              "    <tr>\n",
              "      <th>58977</th>\n",
              "      <td>2</td>\n",
              "    </tr>\n",
              "    <tr>\n",
              "      <th>41101</th>\n",
              "      <td>1</td>\n",
              "    </tr>\n",
              "    <tr>\n",
              "      <th>10019</th>\n",
              "      <td>1</td>\n",
              "    </tr>\n",
              "  </tbody>\n",
              "</table>\n",
              "</div>"
            ],
            "text/plain": [
              "       extraction_type_class\n",
              "43360                      1\n",
              "7263                       1\n",
              "2486                       2\n",
              "313                        3\n",
              "52726                      4\n",
              "8558                       1\n",
              "2559                       1\n",
              "54735                      4\n",
              "25763                      2\n",
              "44540                      5\n",
              "28603                      3\n",
              "4372                       5\n",
              "30666                      1\n",
              "6431                       5\n",
              "57420                      3\n",
              "1373                       1\n",
              "2026                       1\n",
              "58977                      2\n",
              "41101                      1\n",
              "10019                      1"
            ]
          },
          "metadata": {
            "tags": []
          },
          "execution_count": 28
        }
      ]
    },
    {
      "cell_type": "markdown",
      "metadata": {
        "colab_type": "text",
        "id": "Nd-ZWprasqUM"
      },
      "source": [
        "#### Ordinal Encoding, Logistic Regression, Validation Accuracy"
      ]
    },
    {
      "cell_type": "code",
      "metadata": {
        "colab_type": "code",
        "id": "GJ1YpwjvrhfL",
        "colab": {
          "base_uri": "https://localhost:8080/",
          "height": 34
        },
        "outputId": "269ae56d-c178-468b-fdae-83ce0d5bed2b"
      },
      "source": [
        "lr = make_pipeline(\n",
        "    ce.OrdinalEncoder(), \n",
        "    SimpleImputer(), \n",
        "    StandardScaler(), \n",
        "    LogisticRegressionCV(multi_class='auto', solver='lbfgs', cv=5, n_jobs=-1)\n",
        ")\n",
        "\n",
        "lr.fit(X_train[[feature]], y_train)\n",
        "score = lr.score(X_val[[feature]], y_val)\n",
        "print('Logistic Regression, Validation Accuracy', score)"
      ],
      "execution_count": 29,
      "outputs": [
        {
          "output_type": "stream",
          "text": [
            "Logistic Regression, Validation Accuracy 0.5417508417508418\n"
          ],
          "name": "stdout"
        }
      ]
    },
    {
      "cell_type": "markdown",
      "metadata": {
        "colab_type": "text",
        "id": "9lO_R3SksuHs"
      },
      "source": [
        "#### Ordinal Encoding, Decision Tree, Validation Accuracy"
      ]
    },
    {
      "cell_type": "code",
      "metadata": {
        "colab_type": "code",
        "id": "aOELD_roriVI",
        "colab": {
          "base_uri": "https://localhost:8080/",
          "height": 34
        },
        "outputId": "43d3128b-1bc5-46d2-8e19-df1391f52bf6"
      },
      "source": [
        "dt = make_pipeline(\n",
        "    ce.OrdinalEncoder(), \n",
        "    SimpleImputer(), \n",
        "    DecisionTreeClassifier(random_state=42)\n",
        ")\n",
        "\n",
        "dt.fit(X_train[[feature]], y_train)\n",
        "score = dt.score(X_val[[feature]], y_val)\n",
        "print('Decision Tree, Validation Accuracy', score)"
      ],
      "execution_count": 30,
      "outputs": [
        {
          "output_type": "stream",
          "text": [
            "Decision Tree, Validation Accuracy 0.6202861952861953\n"
          ],
          "name": "stdout"
        }
      ]
    },
    {
      "cell_type": "markdown",
      "metadata": {
        "colab_type": "text",
        "id": "7V2zHjiwswTg"
      },
      "source": [
        "#### Ordinal Encoding, Logistic Regression, Model Interpretation"
      ]
    },
    {
      "cell_type": "code",
      "metadata": {
        "colab_type": "code",
        "id": "S9UPYPois8QR",
        "colab": {
          "base_uri": "https://localhost:8080/",
          "height": 265
        },
        "outputId": "701f9f9f-e979-4a03-d738-eb03853b48ee"
      },
      "source": [
        "model = lr.named_steps['logisticregressioncv']\n",
        "encoder = lr.named_steps['ordinalencoder']\n",
        "encoded_columns = encoder.transform(X_val[[feature]]).columns\n",
        "coefficients = pd.Series(model.coef_[0], encoded_columns)\n",
        "coefficients.sort_values().plot.barh(color='grey');"
      ],
      "execution_count": 31,
      "outputs": [
        {
          "output_type": "display_data",
          "data": {
            "image/png": "[encoded data removed]",
            "text/plain": [
              "<Figure size 432x288 with 1 Axes>"
            ]
          },
          "metadata": {
            "tags": []
          }
        }
      ]
    },
    {
      "cell_type": "markdown",
      "metadata": {
        "colab_type": "text",
        "id": "MvmmvE8fsymh"
      },
      "source": [
        "#### Ordinal Encoding, Decision Tree, Model Interpretation"
      ]
    },
    {
      "cell_type": "code",
      "metadata": {
        "colab_type": "code",
        "id": "jCvUu4Oms88b",
        "colab": {
          "base_uri": "https://localhost:8080/",
          "height": 796
        },
        "outputId": "9b3d39b5-ebe2-4e5f-8543-de6cc0e01194"
      },
      "source": [
        "model = dt.named_steps['decisiontreeclassifier']\n",
        "encoder = dt.named_steps['ordinalencoder']\n",
        "encoded_columns = encoder.transform(X_val[[feature]]).columns\n",
        "\n",
        "dot_data = export_graphviz(model, \n",
        "                           out_file=None, \n",
        "                           max_depth=5, \n",
        "                           feature_names=encoded_columns,\n",
        "                           class_names=model.classes_, \n",
        "                           impurity=False, \n",
        "                           filled=True, \n",
        "                           proportion=True, \n",
        "                           rounded=True)   \n",
        "display(graphviz.Source(dot_data))"
      ],
      "execution_count": 32,
      "outputs": [
        {
          "output_type": "display_data",
          "data": {
            "text/plain": [
              "<graphviz.files.Source at 0x7f17130b4940>"
            ],
            "image/svg+xml": "<?xml version=\"1.0\" encoding=\"UTF-8\" standalone=\"no\"?>\n<!DOCTYPE svg PUBLIC \"-//W3C//DTD SVG 1.1//EN\"\n \"http://www.w3.org/Graphics/SVG/1.1/DTD/svg11.dtd\">\n<!-- Generated by graphviz version 2.40.1 (20161225.0304)\n -->\n<!-- Title: Tree Pages: 1 -->\n<svg width=\"1167pt\" height=\"581pt\"\n viewBox=\"0.00 0.00 1167.00 581.00\" xmlns=\"http://www.w3.org/2000/svg\" xmlns:xlink=\"http://www.w3.org/1999/xlink\">\n<g id=\"graph0\" class=\"graph\" transform=\"scale(1 1) rotate(0) translate(4 577)\">\n<title>Tree</title>\n<polygon fill=\"#ffffff\" stroke=\"transparent\" points=\"-4,4 -4,-577 1163,-577 1163,4 -4,4\"/>\n<!-- 0 -->\n<g id=\"node1\" class=\"node\">\n<title>0</title>\n<path fill=\"#f8decc\" stroke=\"#000000\" d=\"M500,-573C500,-573 322,-573 322,-573 316,-573 310,-567 310,-561 310,-561 310,-517 310,-517 310,-511 316,-505 322,-505 322,-505 500,-505 500,-505 506,-505 512,-511 512,-517 512,-517 512,-561 512,-561 512,-567 506,-573 500,-573\"/>\n<text text-anchor=\"middle\" x=\"411\" y=\"-557.8\" font-family=\"Helvetica,sans-Serif\" font-size=\"14.00\" fill=\"#000000\">extraction_type_class &lt;= 2.5</text>\n<text text-anchor=\"middle\" x=\"411\" y=\"-542.8\" font-family=\"Helvetica,sans-Serif\" font-size=\"14.00\" fill=\"#000000\">samples = 100.0%</text>\n<text text-anchor=\"middle\" x=\"411\" y=\"-527.8\" font-family=\"Helvetica,sans-Serif\" font-size=\"14.00\" fill=\"#000000\">value = [0.543, 0.073, 0.384]</text>\n<text text-anchor=\"middle\" x=\"411\" y=\"-512.8\" font-family=\"Helvetica,sans-Serif\" font-size=\"14.00\" fill=\"#000000\">class = functional</text>\n</g>\n<!-- 1 -->\n<g id=\"node2\" class=\"node\">\n<title>1</title>\n<path fill=\"#f4c7a8\" stroke=\"#000000\" d=\"M390,-469C390,-469 212,-469 212,-469 206,-469 200,-463 200,-457 200,-457 200,-413 200,-413 200,-407 206,-401 212,-401 212,-401 390,-401 390,-401 396,-401 402,-407 402,-413 402,-413 402,-457 402,-457 402,-463 396,-469 390,-469\"/>\n<text text-anchor=\"middle\" x=\"301\" y=\"-453.8\" font-family=\"Helvetica,sans-Serif\" font-size=\"14.00\" fill=\"#000000\">extraction_type_class &lt;= 1.5</text>\n<text text-anchor=\"middle\" x=\"301\" y=\"-438.8\" font-family=\"Helvetica,sans-Serif\" font-size=\"14.00\" fill=\"#000000\">samples = 72.9%</text>\n<text text-anchor=\"middle\" x=\"301\" y=\"-423.8\" font-family=\"Helvetica,sans-Serif\" font-size=\"14.00\" fill=\"#000000\">value = [0.611, 0.085, 0.304]</text>\n<text text-anchor=\"middle\" x=\"301\" y=\"-408.8\" font-family=\"Helvetica,sans-Serif\" font-size=\"14.00\" fill=\"#000000\">class = functional</text>\n</g>\n<!-- 0&#45;&gt;1 -->\n<g id=\"edge1\" class=\"edge\">\n<title>0&#45;&gt;1</title>\n<path fill=\"none\" stroke=\"#000000\" d=\"M374.9819,-504.9465C365.2954,-495.7884 354.7136,-485.7838 344.6603,-476.2788\"/>\n<polygon fill=\"#000000\" stroke=\"#000000\" points=\"346.7701,-473.4569 337.099,-469.13 341.961,-478.5434 346.7701,-473.4569\"/>\n<text text-anchor=\"middle\" x=\"337.7997\" y=\"-490.4202\" font-family=\"Helvetica,sans-Serif\" font-size=\"14.00\" fill=\"#000000\">True</text>\n</g>\n<!-- 4 -->\n<g id=\"node5\" class=\"node\">\n<title>4</title>\n<path fill=\"#d0b4f5\" stroke=\"#000000\" d=\"M610,-469C610,-469 432,-469 432,-469 426,-469 420,-463 420,-457 420,-457 420,-413 420,-413 420,-407 426,-401 432,-401 432,-401 610,-401 610,-401 616,-401 622,-407 622,-413 622,-413 622,-457 622,-457 622,-463 616,-469 610,-469\"/>\n<text text-anchor=\"middle\" x=\"521\" y=\"-453.8\" font-family=\"Helvetica,sans-Serif\" font-size=\"14.00\" fill=\"#000000\">extraction_type_class &lt;= 3.5</text>\n<text text-anchor=\"middle\" x=\"521\" y=\"-438.8\" font-family=\"Helvetica,sans-Serif\" font-size=\"14.00\" fill=\"#000000\">samples = 27.1%</text>\n<text text-anchor=\"middle\" x=\"521\" y=\"-423.8\" font-family=\"Helvetica,sans-Serif\" font-size=\"14.00\" fill=\"#000000\">value = [0.361, 0.038, 0.601]</text>\n<text text-anchor=\"middle\" x=\"521\" y=\"-408.8\" font-family=\"Helvetica,sans-Serif\" font-size=\"14.00\" fill=\"#000000\">class = non functional</text>\n</g>\n<!-- 0&#45;&gt;4 -->\n<g id=\"edge4\" class=\"edge\">\n<title>0&#45;&gt;4</title>\n<path fill=\"none\" stroke=\"#000000\" d=\"M447.0181,-504.9465C456.7046,-495.7884 467.2864,-485.7838 477.3397,-476.2788\"/>\n<polygon fill=\"#000000\" stroke=\"#000000\" points=\"480.039,-478.5434 484.901,-469.13 475.2299,-473.4569 480.039,-478.5434\"/>\n<text text-anchor=\"middle\" x=\"484.2003\" y=\"-490.4202\" font-family=\"Helvetica,sans-Serif\" font-size=\"14.00\" fill=\"#000000\">False</text>\n</g>\n<!-- 2 -->\n<g id=\"node3\" class=\"node\">\n<title>2</title>\n<path fill=\"#f4c9aa\" stroke=\"#000000\" d=\"M188,-357.5C188,-357.5 12,-357.5 12,-357.5 6,-357.5 0,-351.5 0,-345.5 0,-345.5 0,-316.5 0,-316.5 0,-310.5 6,-304.5 12,-304.5 12,-304.5 188,-304.5 188,-304.5 194,-304.5 200,-310.5 200,-316.5 200,-316.5 200,-345.5 200,-345.5 200,-351.5 194,-357.5 188,-357.5\"/>\n<text text-anchor=\"middle\" x=\"100\" y=\"-342.3\" font-family=\"Helvetica,sans-Serif\" font-size=\"14.00\" fill=\"#000000\">samples = 45.1%</text>\n<text text-anchor=\"middle\" x=\"100\" y=\"-327.3\" font-family=\"Helvetica,sans-Serif\" font-size=\"14.00\" fill=\"#000000\">value = [0.599, 0.101, 0.299]</text>\n<text text-anchor=\"middle\" x=\"100\" y=\"-312.3\" font-family=\"Helvetica,sans-Serif\" font-size=\"14.00\" fill=\"#000000\">class = functional</text>\n</g>\n<!-- 1&#45;&gt;2 -->\n<g id=\"edge2\" class=\"edge\">\n<title>1&#45;&gt;2</title>\n<path fill=\"none\" stroke=\"#000000\" d=\"M235.1851,-400.9465C211.1292,-388.4997 184.0513,-374.4892 160.4827,-362.2946\"/>\n<polygon fill=\"#000000\" stroke=\"#000000\" points=\"161.7878,-359.0291 151.2978,-357.5422 158.571,-365.2462 161.7878,-359.0291\"/>\n</g>\n<!-- 3 -->\n<g id=\"node4\" class=\"node\">\n<title>3</title>\n<path fill=\"#f3c5a3\" stroke=\"#000000\" d=\"M382,-357.5C382,-357.5 230,-357.5 230,-357.5 224,-357.5 218,-351.5 218,-345.5 218,-345.5 218,-316.5 218,-316.5 218,-310.5 224,-304.5 230,-304.5 230,-304.5 382,-304.5 382,-304.5 388,-304.5 394,-310.5 394,-316.5 394,-316.5 394,-345.5 394,-345.5 394,-351.5 388,-357.5 382,-357.5\"/>\n<text text-anchor=\"middle\" x=\"306\" y=\"-342.3\" font-family=\"Helvetica,sans-Serif\" font-size=\"14.00\" fill=\"#000000\">samples = 27.7%</text>\n<text text-anchor=\"middle\" x=\"306\" y=\"-327.3\" font-family=\"Helvetica,sans-Serif\" font-size=\"14.00\" fill=\"#000000\">value = [0.63, 0.06, 0.31]</text>\n<text text-anchor=\"middle\" x=\"306\" y=\"-312.3\" font-family=\"Helvetica,sans-Serif\" font-size=\"14.00\" fill=\"#000000\">class = functional</text>\n</g>\n<!-- 1&#45;&gt;3 -->\n<g id=\"edge3\" class=\"edge\">\n<title>1&#45;&gt;3</title>\n<path fill=\"none\" stroke=\"#000000\" d=\"M302.6372,-400.9465C303.1509,-390.2621 303.7199,-378.4254 304.2416,-367.5742\"/>\n<polygon fill=\"#000000\" stroke=\"#000000\" points=\"307.7396,-367.6987 304.7239,-357.5422 300.7477,-367.3625 307.7396,-367.6987\"/>\n</g>\n<!-- 5 -->\n<g id=\"node6\" class=\"node\">\n<title>5</title>\n<path fill=\"#9d66eb\" stroke=\"#000000\" d=\"M601,-357.5C601,-357.5 433,-357.5 433,-357.5 427,-357.5 421,-351.5 421,-345.5 421,-345.5 421,-316.5 421,-316.5 421,-310.5 427,-304.5 433,-304.5 433,-304.5 601,-304.5 601,-304.5 607,-304.5 613,-310.5 613,-316.5 613,-316.5 613,-345.5 613,-345.5 613,-351.5 607,-357.5 601,-357.5\"/>\n<text text-anchor=\"middle\" x=\"517\" y=\"-342.3\" font-family=\"Helvetica,sans-Serif\" font-size=\"14.00\" fill=\"#000000\">samples = 10.9%</text>\n<text text-anchor=\"middle\" x=\"517\" y=\"-327.3\" font-family=\"Helvetica,sans-Serif\" font-size=\"14.00\" fill=\"#000000\">value = [0.159, 0.031, 0.81]</text>\n<text text-anchor=\"middle\" x=\"517\" y=\"-312.3\" font-family=\"Helvetica,sans-Serif\" font-size=\"14.00\" fill=\"#000000\">class = non functional</text>\n</g>\n<!-- 4&#45;&gt;5 -->\n<g id=\"edge5\" class=\"edge\">\n<title>4&#45;&gt;5</title>\n<path fill=\"none\" stroke=\"#000000\" d=\"M519.6903,-400.9465C519.2793,-390.2621 518.8241,-378.4254 518.4067,-367.5742\"/>\n<polygon fill=\"#000000\" stroke=\"#000000\" points=\"521.9027,-367.4002 518.0209,-357.5422 514.9079,-367.6693 521.9027,-367.4002\"/>\n</g>\n<!-- 6 -->\n<g id=\"node7\" class=\"node\">\n<title>6</title>\n<path fill=\"#fdf7f2\" stroke=\"#000000\" d=\"M821,-365C821,-365 643,-365 643,-365 637,-365 631,-359 631,-353 631,-353 631,-309 631,-309 631,-303 637,-297 643,-297 643,-297 821,-297 821,-297 827,-297 833,-303 833,-309 833,-309 833,-353 833,-353 833,-359 827,-365 821,-365\"/>\n<text text-anchor=\"middle\" x=\"732\" y=\"-349.8\" font-family=\"Helvetica,sans-Serif\" font-size=\"14.00\" fill=\"#000000\">extraction_type_class &lt;= 4.5</text>\n<text text-anchor=\"middle\" x=\"732\" y=\"-334.8\" font-family=\"Helvetica,sans-Serif\" font-size=\"14.00\" fill=\"#000000\">samples = 16.2%</text>\n<text text-anchor=\"middle\" x=\"732\" y=\"-319.8\" font-family=\"Helvetica,sans-Serif\" font-size=\"14.00\" fill=\"#000000\">value = [0.497, 0.043, 0.46]</text>\n<text text-anchor=\"middle\" x=\"732\" y=\"-304.8\" font-family=\"Helvetica,sans-Serif\" font-size=\"14.00\" fill=\"#000000\">class = functional</text>\n</g>\n<!-- 4&#45;&gt;6 -->\n<g id=\"edge6\" class=\"edge\">\n<title>4&#45;&gt;6</title>\n<path fill=\"none\" stroke=\"#000000\" d=\"M590.0893,-400.9465C610.4002,-390.9354 632.7633,-379.9129 653.6112,-369.6371\"/>\n<polygon fill=\"#000000\" stroke=\"#000000\" points=\"655.3332,-372.6905 662.7555,-365.13 652.2385,-366.4117 655.3332,-372.6905\"/>\n</g>\n<!-- 7 -->\n<g id=\"node8\" class=\"node\">\n<title>7</title>\n<path fill=\"#d8c1f7\" stroke=\"#000000\" d=\"M710,-253.5C710,-253.5 534,-253.5 534,-253.5 528,-253.5 522,-247.5 522,-241.5 522,-241.5 522,-212.5 522,-212.5 522,-206.5 528,-200.5 534,-200.5 534,-200.5 710,-200.5 710,-200.5 716,-200.5 722,-206.5 722,-212.5 722,-212.5 722,-241.5 722,-241.5 722,-247.5 716,-253.5 710,-253.5\"/>\n<text text-anchor=\"middle\" x=\"622\" y=\"-238.3\" font-family=\"Helvetica,sans-Serif\" font-size=\"14.00\" fill=\"#000000\">samples = 5.0%</text>\n<text text-anchor=\"middle\" x=\"622\" y=\"-223.3\" font-family=\"Helvetica,sans-Serif\" font-size=\"14.00\" fill=\"#000000\">value = [0.381, 0.045, 0.574]</text>\n<text text-anchor=\"middle\" x=\"622\" y=\"-208.3\" font-family=\"Helvetica,sans-Serif\" font-size=\"14.00\" fill=\"#000000\">class = non functional</text>\n</g>\n<!-- 6&#45;&gt;7 -->\n<g id=\"edge7\" class=\"edge\">\n<title>6&#45;&gt;7</title>\n<path fill=\"none\" stroke=\"#000000\" d=\"M695.9819,-296.9465C683.6325,-285.2707 669.8278,-272.219 657.5183,-260.5809\"/>\n<polygon fill=\"#000000\" stroke=\"#000000\" points=\"659.7445,-257.869 650.0734,-253.5422 654.9354,-262.9556 659.7445,-257.869\"/>\n</g>\n<!-- 8 -->\n<g id=\"node9\" class=\"node\">\n<title>8</title>\n<path fill=\"#f9e2d1\" stroke=\"#000000\" d=\"M930,-261C930,-261 752,-261 752,-261 746,-261 740,-255 740,-249 740,-249 740,-205 740,-205 740,-199 746,-193 752,-193 752,-193 930,-193 930,-193 936,-193 942,-199 942,-205 942,-205 942,-249 942,-249 942,-255 936,-261 930,-261\"/>\n<text text-anchor=\"middle\" x=\"841\" y=\"-245.8\" font-family=\"Helvetica,sans-Serif\" font-size=\"14.00\" fill=\"#000000\">extraction_type_class &lt;= 5.5</text>\n<text text-anchor=\"middle\" x=\"841\" y=\"-230.8\" font-family=\"Helvetica,sans-Serif\" font-size=\"14.00\" fill=\"#000000\">samples = 11.2%</text>\n<text text-anchor=\"middle\" x=\"841\" y=\"-215.8\" font-family=\"Helvetica,sans-Serif\" font-size=\"14.00\" fill=\"#000000\">value = [0.548, 0.042, 0.41]</text>\n<text text-anchor=\"middle\" x=\"841\" y=\"-200.8\" font-family=\"Helvetica,sans-Serif\" font-size=\"14.00\" fill=\"#000000\">class = functional</text>\n</g>\n<!-- 6&#45;&gt;8 -->\n<g id=\"edge8\" class=\"edge\">\n<title>6&#45;&gt;8</title>\n<path fill=\"none\" stroke=\"#000000\" d=\"M767.6907,-296.9465C777.2891,-287.7884 787.7747,-277.7838 797.7366,-268.2788\"/>\n<polygon fill=\"#000000\" stroke=\"#000000\" points=\"800.4102,-270.5655 805.2291,-261.13 795.5779,-265.5009 800.4102,-270.5655\"/>\n</g>\n<!-- 9 -->\n<g id=\"node10\" class=\"node\">\n<title>9</title>\n<path fill=\"#f9e4d5\" stroke=\"#000000\" d=\"M819,-149.5C819,-149.5 643,-149.5 643,-149.5 637,-149.5 631,-143.5 631,-137.5 631,-137.5 631,-108.5 631,-108.5 631,-102.5 637,-96.5 643,-96.5 643,-96.5 819,-96.5 819,-96.5 825,-96.5 831,-102.5 831,-108.5 831,-108.5 831,-137.5 831,-137.5 831,-143.5 825,-149.5 819,-149.5\"/>\n<text text-anchor=\"middle\" x=\"731\" y=\"-134.3\" font-family=\"Helvetica,sans-Serif\" font-size=\"14.00\" fill=\"#000000\">samples = 10.3%</text>\n<text text-anchor=\"middle\" x=\"731\" y=\"-119.3\" font-family=\"Helvetica,sans-Serif\" font-size=\"14.00\" fill=\"#000000\">value = [0.541, 0.042, 0.416]</text>\n<text text-anchor=\"middle\" x=\"731\" y=\"-104.3\" font-family=\"Helvetica,sans-Serif\" font-size=\"14.00\" fill=\"#000000\">class = functional</text>\n</g>\n<!-- 8&#45;&gt;9 -->\n<g id=\"edge9\" class=\"edge\">\n<title>8&#45;&gt;9</title>\n<path fill=\"none\" stroke=\"#000000\" d=\"M804.9819,-192.9465C792.6325,-181.2707 778.8278,-168.219 766.5183,-156.5809\"/>\n<polygon fill=\"#000000\" stroke=\"#000000\" points=\"768.7445,-153.869 759.0734,-149.5422 763.9354,-158.9556 768.7445,-153.869\"/>\n</g>\n<!-- 10 -->\n<g id=\"node11\" class=\"node\">\n<title>10</title>\n<path fill=\"#f4cbad\" stroke=\"#000000\" d=\"M1039,-157C1039,-157 861,-157 861,-157 855,-157 849,-151 849,-145 849,-145 849,-101 849,-101 849,-95 855,-89 861,-89 861,-89 1039,-89 1039,-89 1045,-89 1051,-95 1051,-101 1051,-101 1051,-145 1051,-145 1051,-151 1045,-157 1039,-157\"/>\n<text text-anchor=\"middle\" x=\"950\" y=\"-141.8\" font-family=\"Helvetica,sans-Serif\" font-size=\"14.00\" fill=\"#000000\">extraction_type_class &lt;= 6.5</text>\n<text text-anchor=\"middle\" x=\"950\" y=\"-126.8\" font-family=\"Helvetica,sans-Serif\" font-size=\"14.00\" fill=\"#000000\">samples = 0.9%</text>\n<text text-anchor=\"middle\" x=\"950\" y=\"-111.8\" font-family=\"Helvetica,sans-Serif\" font-size=\"14.00\" fill=\"#000000\">value = [0.614, 0.043, 0.343]</text>\n<text text-anchor=\"middle\" x=\"950\" y=\"-96.8\" font-family=\"Helvetica,sans-Serif\" font-size=\"14.00\" fill=\"#000000\">class = functional</text>\n</g>\n<!-- 8&#45;&gt;10 -->\n<g id=\"edge10\" class=\"edge\">\n<title>8&#45;&gt;10</title>\n<path fill=\"none\" stroke=\"#000000\" d=\"M876.6907,-192.9465C886.2891,-183.7884 896.7747,-173.7838 906.7366,-164.2788\"/>\n<polygon fill=\"#000000\" stroke=\"#000000\" points=\"909.4102,-166.5655 914.2291,-157.13 904.5779,-161.5009 909.4102,-166.5655\"/>\n</g>\n<!-- 11 -->\n<g id=\"node12\" class=\"node\">\n<title>11</title>\n<path fill=\"#f2bf9b\" stroke=\"#000000\" d=\"M929,-53C929,-53 753,-53 753,-53 747,-53 741,-47 741,-41 741,-41 741,-12 741,-12 741,-6 747,0 753,0 753,0 929,0 929,0 935,0 941,-6 941,-12 941,-12 941,-41 941,-41 941,-47 935,-53 929,-53\"/>\n<text text-anchor=\"middle\" x=\"841\" y=\"-37.8\" font-family=\"Helvetica,sans-Serif\" font-size=\"14.00\" fill=\"#000000\">samples = 0.7%</text>\n<text text-anchor=\"middle\" x=\"841\" y=\"-22.8\" font-family=\"Helvetica,sans-Serif\" font-size=\"14.00\" fill=\"#000000\">value = [0.657, 0.037, 0.306]</text>\n<text text-anchor=\"middle\" x=\"841\" y=\"-7.8\" font-family=\"Helvetica,sans-Serif\" font-size=\"14.00\" fill=\"#000000\">class = functional</text>\n</g>\n<!-- 10&#45;&gt;11 -->\n<g id=\"edge11\" class=\"edge\">\n<title>10&#45;&gt;11</title>\n<path fill=\"none\" stroke=\"#000000\" d=\"M911.5707,-88.9777C900.9173,-79.546 889.3641,-69.3178 878.7499,-59.9208\"/>\n<polygon fill=\"#000000\" stroke=\"#000000\" points=\"881.0207,-57.2566 871.2133,-53.2485 876.3806,-62.4978 881.0207,-57.2566\"/>\n</g>\n<!-- 12 -->\n<g id=\"node13\" class=\"node\">\n<title>12</title>\n<path fill=\"#f8f3fd\" stroke=\"#000000\" d=\"M1147,-53C1147,-53 971,-53 971,-53 965,-53 959,-47 959,-41 959,-41 959,-12 959,-12 959,-6 965,0 971,0 971,0 1147,0 1147,0 1153,0 1159,-6 1159,-12 1159,-12 1159,-41 1159,-41 1159,-47 1153,-53 1147,-53\"/>\n<text text-anchor=\"middle\" x=\"1059\" y=\"-37.8\" font-family=\"Helvetica,sans-Serif\" font-size=\"14.00\" fill=\"#000000\">samples = 0.2%</text>\n<text text-anchor=\"middle\" x=\"1059\" y=\"-22.8\" font-family=\"Helvetica,sans-Serif\" font-size=\"14.00\" fill=\"#000000\">value = [0.452, 0.065, 0.484]</text>\n<text text-anchor=\"middle\" x=\"1059\" y=\"-7.8\" font-family=\"Helvetica,sans-Serif\" font-size=\"14.00\" fill=\"#000000\">class = non functional</text>\n</g>\n<!-- 10&#45;&gt;12 -->\n<g id=\"edge12\" class=\"edge\">\n<title>10&#45;&gt;12</title>\n<path fill=\"none\" stroke=\"#000000\" d=\"M988.4293,-88.9777C999.0827,-79.546 1010.6359,-69.3178 1021.2501,-59.9208\"/>\n<polygon fill=\"#000000\" stroke=\"#000000\" points=\"1023.6194,-62.4978 1028.7867,-53.2485 1018.9793,-57.2566 1023.6194,-62.4978\"/>\n</g>\n</g>\n</svg>\n"
          },
          "metadata": {
            "tags": []
          }
        }
      ]
    },
    {
      "cell_type": "markdown",
      "metadata": {
        "colab_type": "text",
        "id": "P4EJi2GvgLVa"
      },
      "source": [
        "# Understand how tree ensembles reduce overfitting compared to a single decision tree with unlimited depth"
      ]
    },
    {
      "cell_type": "markdown",
      "metadata": {
        "id": "dHBLcZKFJq5m",
        "colab_type": "text"
      },
      "source": [
        "## Overview"
      ]
    },
    {
      "cell_type": "markdown",
      "metadata": {
        "colab_type": "text",
        "id": "0nNABF3HgLVg"
      },
      "source": [
        "### What's \"random\" about random forests?\n",
        "1. Each tree trains on a random bootstrap sample of the data. (In scikit-learn, for `RandomForestRegressor` and `RandomForestClassifier`, the `bootstrap` parameter's default is `True`.) This type of ensembling is called Bagging. (Bootstrap AGGregatING.)\n",
        "2. Each split considers a random subset of the features. (In scikit-learn, when the `max_features` parameter is not `None`.) \n",
        "\n",
        "For extra randomness, you can try [\"extremely randomized trees\"](https://scikit-learn.org/stable/modules/ensemble.html#extremely-randomized-trees)!\n",
        "\n",
        ">In extremely randomized trees (see [ExtraTreesClassifier](https://scikit-learn.org/stable/modules/generated/sklearn.ensemble.ExtraTreesClassifier.html) and [ExtraTreesRegressor](https://scikit-learn.org/stable/modules/generated/sklearn.ensemble.ExtraTreesRegressor.html) classes), randomness goes one step further in the way splits are computed. As in random forests, a random subset of candidate features is used, but instead of looking for the most discriminative thresholds, thresholds are drawn at random for each candidate feature and the best of these randomly-generated thresholds is picked as the splitting rule. This usually allows to reduce the variance of the model a bit more, at the expense of a slightly greater increase in bias"
      ]
    },
    {
      "cell_type": "markdown",
      "metadata": {
        "id": "R57mVYn1Jq5n",
        "colab_type": "text"
      },
      "source": [
        "## Follow Along"
      ]
    },
    {
      "cell_type": "markdown",
      "metadata": {
        "colab_type": "text",
        "id": "pUYP619CgLVb"
      },
      "source": [
        "### Example: [predicting golf putts](https://statmodeling.stat.columbia.edu/2008/12/04/the_golf_puttin/)\n",
        "(1 feature, non-linear, regression)"
      ]
    },
    {
      "cell_type": "code",
      "metadata": {
        "colab_type": "code",
        "id": "b4640ukxgLVc",
        "colab": {}
      },
      "source": [
        "putts = pd.DataFrame(\n",
        "    columns=['distance', 'tries', 'successes'], \n",
        "    data = [[2, 1443, 1346],\n",
        "            [3, 694, 577],\n",
        "            [4, 455, 337],\n",
        "            [5, 353, 208],\n",
        "            [6, 272, 149],\n",
        "            [7, 256, 136],\n",
        "            [8, 240, 111],\n",
        "            [9, 217, 69],\n",
        "            [10, 200, 67],\n",
        "            [11, 237, 75],\n",
        "            [12, 202, 52],\n",
        "            [13, 192, 46],\n",
        "            [14, 174, 54],\n",
        "            [15, 167, 28],\n",
        "            [16, 201, 27],\n",
        "            [17, 195, 31],\n",
        "            [18, 191, 33],\n",
        "            [19, 147, 20],\n",
        "            [20, 152, 24]]\n",
        ")\n",
        "\n",
        "putts['rate of success'] = putts['successes'] / putts['tries']\n",
        "putts_X = putts[['distance']]\n",
        "putts_y = putts['rate of success']"
      ],
      "execution_count": 0,
      "outputs": []
    },
    {
      "cell_type": "code",
      "metadata": {
        "colab_type": "code",
        "id": "T0IpCcKggLVd",
        "colab": {
          "base_uri": "https://localhost:8080/",
          "height": 638,
          "referenced_widgets": [
            "1ff9fd83227344f3990c3b5bb605f8d3",
            "a066d8315a55407d806e43081246d411",
            "d384601f56e44c99bf9c08e667d53bbe",
            "b1780511a70b46feac8f7be5be3468eb",
            "9c2bf7dd1f1d418bb11ea8febbb25d29",
            "b8768648b64a43a4bcbe36dfcc9c3d36",
            "31fc5a66d0e54c3f8b6dbca58d5b163e",
            "aacc3259ee9345ef9c23c293ab5128e7",
            "37dbe36691ec4b7db241f5152b37cf72"
          ]
        },
        "outputId": "237beda3-9f8c-404f-e613-08497ee7f8b9"
      },
      "source": [
        "%matplotlib inline\n",
        "import matplotlib.pyplot as plt\n",
        "from ipywidgets import interact\n",
        "from sklearn.ensemble import RandomForestRegressor\n",
        "from sklearn.tree import DecisionTreeRegressor\n",
        "\n",
        "def putt_trees(max_depth=1, n_estimators=1):\n",
        "    models = [DecisionTreeRegressor(max_depth=max_depth), \n",
        "              RandomForestRegressor(max_depth=max_depth, n_estimators=n_estimators)]\n",
        "    \n",
        "    for model in models:\n",
        "        name = model.__class__.__name__\n",
        "        model.fit(putts_X, putts_y)\n",
        "        ax = putts.plot('distance', 'rate of success', kind='scatter', title=name)\n",
        "        ax.step(putts_X, model.predict(putts_X), where='mid')\n",
        "        plt.show()\n",
        "        \n",
        "interact(putt_trees, max_depth=(1,6,1), n_estimators=(10,40,10));"
      ],
      "execution_count": 34,
      "outputs": [
        {
          "output_type": "display_data",
          "data": {
            "application/vnd.jupyter.widget-view+json": {
              "model_id": "1ff9fd83227344f3990c3b5bb605f8d3",
              "version_minor": 0,
              "version_major": 2
            },
            "text/plain": [
              "interactive(children=(IntSlider(value=1, description='max_depth', max=6, min=1), IntSlider(value=10, descripti…"
            ]
          },
          "metadata": {
            "tags": []
          }
        }
      ]
    },
    {
      "cell_type": "markdown",
      "metadata": {
        "colab_type": "text",
        "id": "_KgZK9_9gLVh"
      },
      "source": [
        "### Bagging demo, with golf putts data\n",
        "https://pandas.pydata.org/pandas-docs/stable/reference/api/pandas.DataFrame.sample.html"
      ]
    },
    {
      "cell_type": "code",
      "metadata": {
        "colab_type": "code",
        "id": "vA9mrSTNgLVi",
        "scrolled": false,
        "colab": {
          "base_uri": "https://localhost:8080/",
          "height": 914,
          "referenced_widgets": [
            "3ca5afc9aae645319a7c52dbe57f4408",
            "e19d444ef8794a48bae1c730a3457f72",
            "72c12429fdf64c7fad13687150ad3e5e",
            "0e023ada28f745ab85d96e42e76de5f3",
            "a12aca5c77e24dc8834e2e166a432858",
            "9212791f153243dd8bc1a96efab4768d",
            "6b5d47d0ebd949859b3ed6db0a00beb7",
            "e401c74f1a394e95a64fd038203121d0",
            "c103953f22934f2c84ec04b75c2757b4"
          ]
        },
        "outputId": "6f29a646-9b86-4452-f774-d07db1ce52e4"
      },
      "source": [
        "# Do-it-yourself Bagging Ensemble of Decision Trees (like a Random Forest)\n",
        "def diy_bagging(max_depth=1, n_estimators=1):\n",
        "    y_preds = []\n",
        "    for i in range(n_estimators):\n",
        "        title = f'Tree {i+1}'\n",
        "        bootstrap_sample = putts.sample(n=len(putts), replace=True).sort_values(by='distance')\n",
        "        bootstrap_X = bootstrap_sample[['distance']]\n",
        "        bootstrap_y = bootstrap_sample['rate of success']\n",
        "        tree = DecisionTreeRegressor(max_depth=max_depth)\n",
        "        tree.fit(bootstrap_X, bootstrap_y)\n",
        "        y_pred = tree.predict(bootstrap_X)\n",
        "        y_preds.append(y_pred)\n",
        "        ax = bootstrap_sample.plot('distance', 'rate of success', kind='scatter', title=title)\n",
        "        ax.step(bootstrap_X, y_pred, where='mid')\n",
        "        plt.show()\n",
        "        \n",
        "    ensembled = np.vstack(y_preds).mean(axis=0)\n",
        "    title = f'Ensemble of {n_estimators} trees, with max_depth={max_depth}'\n",
        "    ax = putts.plot('distance', 'rate of success', kind='scatter', title=title)\n",
        "    ax.step(putts_X, ensembled, where='mid')\n",
        "    plt.show()\n",
        "    \n",
        "interact(diy_bagging, max_depth=(1,6,1), n_estimators=(2,5,1));"
      ],
      "execution_count": 35,
      "outputs": [
        {
          "output_type": "display_data",
          "data": {
            "application/vnd.jupyter.widget-view+json": {
              "model_id": "3ca5afc9aae645319a7c52dbe57f4408",
              "version_minor": 0,
              "version_major": 2
            },
            "text/plain": [
              "interactive(children=(IntSlider(value=1, description='max_depth', max=6, min=1), IntSlider(value=2, descriptio…"
            ]
          },
          "metadata": {
            "tags": []
          }
        }
      ]
    },
    {
      "cell_type": "markdown",
      "metadata": {
        "colab_type": "text",
        "id": "rq4Z_wQ_gLVj"
      },
      "source": [
        "### Go back to Tanzania Waterpumps ..."
      ]
    },
    {
      "cell_type": "markdown",
      "metadata": {
        "colab_type": "text",
        "id": "FoSE9iT6YXQz"
      },
      "source": [
        "#### Helper function to visualize predicted probabilities\n",
        "\n"
      ]
    },
    {
      "cell_type": "code",
      "metadata": {
        "colab_type": "code",
        "id": "HzIAjGpJgLVj",
        "colab": {}
      },
      "source": [
        "import itertools\n",
        "import seaborn as sns\n",
        "\n",
        "def pred_heatmap(model, X, features, class_index=-1, title='', num=100):\n",
        "    \"\"\"\n",
        "    Visualize predicted probabilities, for classifier fit on 2 numeric features\n",
        "    \n",
        "    Parameters\n",
        "    ----------\n",
        "    model : scikit-learn classifier, already fit\n",
        "    X : pandas dataframe, which was used to fit model\n",
        "    features : list of strings, column names of the 2 numeric features\n",
        "    class_index : integer, index of class label\n",
        "    title : string, title of plot\n",
        "    num : int, number of grid points for each feature\n",
        "    \n",
        "    Returns\n",
        "    -------\n",
        "    y_pred_proba : numpy array, predicted probabilities for class_index\n",
        "    \"\"\"\n",
        "    feature1, feature2 = features\n",
        "    min1, max1 = X[feature1].min(), X[feature1].max()\n",
        "    min2, max2 = X[feature2].min(), X[feature2].max()\n",
        "    x1 = np.linspace(min1, max1, num)\n",
        "    x2 = np.linspace(max2, min2, num)\n",
        "    combos = list(itertools.product(x1, x2))\n",
        "    y_pred_proba = model.predict_proba(combos)[:, class_index]\n",
        "    pred_grid = y_pred_proba.reshape(num, num).T\n",
        "    table = pd.DataFrame(pred_grid, columns=x1, index=x2)\n",
        "    sns.heatmap(table, vmin=0, vmax=1)\n",
        "    plt.xticks([])\n",
        "    plt.yticks([])\n",
        "    plt.xlabel(feature1)\n",
        "    plt.ylabel(feature2)\n",
        "    plt.title(title)\n",
        "    plt.show()\n",
        "    return y_pred_proba\n"
      ],
      "execution_count": 0,
      "outputs": []
    },
    {
      "cell_type": "markdown",
      "metadata": {
        "colab_type": "text",
        "id": "DiRfPqHjgLVl"
      },
      "source": [
        "### Compare Decision Tree, Random Forest, Logistic Regression"
      ]
    },
    {
      "cell_type": "code",
      "metadata": {
        "colab_type": "code",
        "id": "HKkMLXhMgLVl",
        "colab": {
          "base_uri": "https://localhost:8080/",
          "height": 864,
          "referenced_widgets": [
            "588e3a1297754508af98af8271d1b9ae",
            "aec37a6da11d4bb1b04d64c1075c1a7b",
            "3905a45772914538ad38b6e54e8d28f9",
            "6a62936f385247be9ae78ce282f674e0",
            "4cf898e61ba648afa44d84acc068f164",
            "1ab184da2bac47138520f23259546692",
            "0d9cba93d5744c57987a2755f4bb20b4",
            "154e1e1e1f2643f6975646330dc5d840",
            "a427eacdd1184b9dba8ffd8d7979a333"
          ]
        },
        "outputId": "ed32ec45-c02e-4ed4-b0b1-7b32b7521144"
      },
      "source": [
        "# Instructions\n",
        "# 1. Choose two features\n",
        "# 2. Run this code cell\n",
        "# 3. Interact with the widget sliders\n",
        "feature1 = 'longitude'\n",
        "feature2 = 'quantity'\n",
        "\n",
        "from sklearn.linear_model import LogisticRegression\n",
        "from sklearn.tree import DecisionTreeClassifier\n",
        "\n",
        "def get_X_y(df, feature1, feature2, target):\n",
        "    features = [feature1, feature2]\n",
        "    X = df[features]\n",
        "    y = df[target]\n",
        "    X = X.fillna(X.median())\n",
        "    X = ce.OrdinalEncoder().fit_transform(X)\n",
        "    return X, y\n",
        "\n",
        "def compare_models(max_depth=1, n_estimators=1):\n",
        "    models = [DecisionTreeClassifier(max_depth=max_depth), \n",
        "              RandomForestClassifier(max_depth=max_depth, n_estimators=n_estimators), \n",
        "              LogisticRegression(solver='lbfgs', multi_class='auto')]\n",
        "    \n",
        "    for model in models:\n",
        "        name = model.__class__.__name__\n",
        "        model.fit(X, y)\n",
        "        pred_heatmap(model, X, [feature1, feature2], class_index=0, title=name)\n",
        "\n",
        "X, y = get_X_y(train, feature1, feature2, target='status_group')\n",
        "interact(compare_models, max_depth=(1,6,1), n_estimators=(10,40,10));"
      ],
      "execution_count": 37,
      "outputs": [
        {
          "output_type": "display_data",
          "data": {
            "application/vnd.jupyter.widget-view+json": {
              "model_id": "588e3a1297754508af98af8271d1b9ae",
              "version_minor": 0,
              "version_major": 2
            },
            "text/plain": [
              "interactive(children=(IntSlider(value=1, description='max_depth', max=6, min=1), IntSlider(value=10, descripti…"
            ]
          },
          "metadata": {
            "tags": []
          }
        }
      ]
    },
    {
      "cell_type": "markdown",
      "metadata": {
        "colab_type": "text",
        "id": "hOQqjLEDgLVn"
      },
      "source": [
        "### Bagging"
      ]
    },
    {
      "cell_type": "code",
      "metadata": {
        "colab_type": "code",
        "id": "Hm4aPgs2gLVn",
        "colab": {
          "base_uri": "https://localhost:8080/",
          "height": 864,
          "referenced_widgets": [
            "51df3b4a88444191b0ebd68d38028bf4",
            "b5f68ede673247eea4c34a0e859fd50b",
            "e1c1ea50d7f1444f85756b45d3db2aaf",
            "0dcd51fca3b54536b83c57cc1bf5117c",
            "6d70b598e12e486282f247269437ddac",
            "fda257a858ec471e84240a523b034760",
            "0db9c285f62a46119d5835d6a5ea3467",
            "9e68dcf7813e428e8c1db44c5519406d",
            "feb4eaf672b5474da50ff7905af8dc28"
          ]
        },
        "outputId": "a9104dd7-e3b6-4e6c-8475-ab6ee6f40220"
      },
      "source": [
        "# Do-it-yourself Bagging Ensemble of Decision Trees (like a Random Forest)\n",
        "\n",
        "# Instructions\n",
        "# 1. Choose two features\n",
        "# 2. Run this code cell\n",
        "# 3. Interact with the widget sliders\n",
        "\n",
        "feature1 = 'longitude'\n",
        "feature2 = 'latitude'\n",
        "\n",
        "def waterpumps_bagging(max_depth=1, n_estimators=1):\n",
        "    predicteds = []\n",
        "    for i in range(n_estimators):\n",
        "        title = f'Tree {i+1}'\n",
        "        bootstrap_sample = train.sample(n=len(train), replace=True)\n",
        "        X, y = get_X_y(bootstrap_sample, feature1, feature2, target='status_group')\n",
        "        tree = DecisionTreeClassifier(max_depth=max_depth)\n",
        "        tree.fit(X, y)\n",
        "        predicted = pred_heatmap(tree, X, [feature1, feature2], class_index=0, title=title)\n",
        "        predicteds.append(predicted)\n",
        "    \n",
        "    ensembled = np.vstack(predicteds).mean(axis=0)\n",
        "    title = f'Ensemble of {n_estimators} trees, with max_depth={max_depth}'\n",
        "    sns.heatmap(ensembled.reshape(100, 100).T, vmin=0, vmax=1)\n",
        "    plt.title(title)\n",
        "    plt.xlabel(feature1)\n",
        "    plt.ylabel(feature2)\n",
        "    plt.xticks([])\n",
        "    plt.yticks([])\n",
        "    plt.show()\n",
        "        \n",
        "interact(waterpumps_bagging, max_depth=(1,6,1), n_estimators=(2,5,1));"
      ],
      "execution_count": 38,
      "outputs": [
        {
          "output_type": "display_data",
          "data": {
            "application/vnd.jupyter.widget-view+json": {
              "model_id": "51df3b4a88444191b0ebd68d38028bf4",
              "version_minor": 0,
              "version_major": 2
            },
            "text/plain": [
              "interactive(children=(IntSlider(value=1, description='max_depth', max=6, min=1), IntSlider(value=2, descriptio…"
            ]
          },
          "metadata": {
            "tags": []
          }
        }
      ]
    },
    {
      "cell_type": "markdown",
      "metadata": {
        "colab_type": "text",
        "id": "wYoSBi15akWP"
      },
      "source": [
        "# Review\n",
        "\n",
        "#### Try Tree Ensembles when you do machine learning with labeled, tabular data\n",
        "- \"Tree Ensembles\" means Random Forest or Gradient Boosting models. \n",
        "- [Tree Ensembles often have the best predictive accuracy](https://arxiv.org/abs/1708.05070) with labeled, tabular data.\n",
        "- Why? Because trees can fit non-linear, non-[monotonic](https://en.wikipedia.org/wiki/Monotonic_function) relationships, and [interactions](https://christophm.github.io/interpretable-ml-book/interaction.html) between features.\n",
        "- A single decision tree, grown to unlimited depth, will [overfit](http://www.r2d3.us/visual-intro-to-machine-learning-part-1/). We solve this problem by ensembling trees, with bagging (Random Forest) or boosting (Gradient Boosting).\n",
        "- Random Forest's advantage: may be less sensitive to hyperparameters. Gradient Boosting's advantage: may get better predictive accuracy.\n",
        "\n",
        "#### One-hot encoding isn’t the only way, and may not be the best way, of categorical encoding for tree ensembles.\n",
        "- For example, tree ensembles can work with arbitrary \"ordinal\" encoding! (Randomly assigning an integer to each category.) Compared to one-hot encoding, the dimensionality will be lower, and the predictive accuracy may be just as good or even better.\n"
      ]
    }
  ]
}