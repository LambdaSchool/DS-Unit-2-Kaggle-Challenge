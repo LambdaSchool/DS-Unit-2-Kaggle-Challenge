{
  "nbformat": 4,
  "nbformat_minor": 0,
  "metadata": {
    "kernelspec": {
      "display_name": "Python 3",
      "language": "python",
      "name": "python3"
    },
    "language_info": {
      "codemirror_mode": {
        "name": "ipython",
        "version": 3
      },
      "file_extension": ".py",
      "mimetype": "text/x-python",
      "name": "python",
      "nbconvert_exporter": "python",
      "pygments_lexer": "ipython3",
      "version": "3.7.3"
    },
    "colab": {
      "name": "assignment_kaggle_challenge_3.ipynb",
      "provenance": []
    }
  },
  "cells": [
    {
      "cell_type": "markdown",
      "metadata": {
        "id": "J7-fT_ckE4Vh",
        "colab_type": "text"
      },
      "source": [
        "Lambda School Data Science, Unit 2: Predictive Modeling\n",
        "\n",
        "# Kaggle Challenge, Module 3\n",
        "\n",
        "\n",
        "## Assignment\n",
        "- [ ] [Review requirements for your portfolio project](https://lambdaschool.github.io/ds/unit2), then submit your dataset.\n",
        "- [ ] Continue to participate in our Kaggle challenge. \n",
        "- [ ] Use scikit-learn for hyperparameter optimization with RandomizedSearchCV.\n",
        "- [ ] Submit your predictions to our Kaggle competition. (Go to our Kaggle InClass competition webpage. Use the blue **Submit Predictions** button to upload your CSV file. Or you can use the Kaggle API to submit your predictions.)\n",
        "- [ ] Commit your notebook to your fork of the GitHub repo.\n",
        "\n",
        "## Stretch Goals\n",
        "\n",
        "### Reading\n",
        "- Jake VanderPlas, [Python Data Science Handbook, Chapter 5.3](https://jakevdp.github.io/PythonDataScienceHandbook/05.03-hyperparameters-and-model-validation.html), Hyperparameters and Model Validation\n",
        "- Jake VanderPlas, [Statistics for Hackers](https://speakerdeck.com/jakevdp/statistics-for-hackers?slide=107)\n",
        "- Ron Zacharski, [A Programmer's Guide to Data Mining, Chapter 5](http://guidetodatamining.com/chapter5/), 10-fold cross validation\n",
        "- Sebastian Raschka, [A Basic Pipeline and Grid Search Setup](https://github.com/rasbt/python-machine-learning-book/blob/master/code/bonus/svm_iris_pipeline_and_gridsearch.ipynb)\n",
        "- Peter Worcester, [A Comparison of Grid Search and Randomized Search Using Scikit Learn](https://blog.usejournal.com/a-comparison-of-grid-search-and-randomized-search-using-scikit-learn-29823179bc85)\n",
        "\n",
        "### Doing\n",
        "- Add your own stretch goals!\n",
        "- Try other [categorical encodings](https://contrib.scikit-learn.org/categorical-encoding/). See the previous assignment notebook for details.\n",
        "- In additon to `RandomizedSearchCV`, scikit-learn has [`GridSearchCV`](https://scikit-learn.org/stable/modules/generated/sklearn.model_selection.GridSearchCV.html). Another library called scikit-optimize has [`BayesSearchCV`](https://scikit-optimize.github.io/notebooks/sklearn-gridsearchcv-replacement.html). Experiment with these alternatives.\n",
        "- _[Introduction to Machine Learning with Python](http://shop.oreilly.com/product/0636920030515.do)_ discusses options for \"Grid-Searching Which Model To Use\" in Chapter 6:\n",
        "\n",
        "> You can even go further in combining GridSearchCV and Pipeline: it is also possible to search over the actual steps being performed in the pipeline (say whether to use StandardScaler or MinMaxScaler). This leads to an even bigger search space and should be considered carefully. Trying all possible solutions is usually not a viable machine learning strategy. However, here is an example comparing a RandomForestClassifier and an SVC ...\n",
        "\n",
        "The example is shown in [the accompanying notebook](https://github.com/amueller/introduction_to_ml_with_python/blob/master/06-algorithm-chains-and-pipelines.ipynb), code cells 35-37. Could you apply this concept to your own pipelines?\n"
      ]
    },
    {
      "cell_type": "markdown",
      "metadata": {
        "id": "6vX5RnW4E4Vv",
        "colab_type": "text"
      },
      "source": [
        "### BONUS: Stacking!\n",
        "\n",
        "Here's some code you can use to \"stack\" multiple submissions, which is another form of ensembling:\n",
        "\n",
        "```python\n",
        "import pandas as pd\n",
        "\n",
        "# Filenames of your submissions you want to ensemble\n",
        "files = ['submission-01.csv', 'submission-02.csv', 'submission-03.csv']\n",
        "\n",
        "target = 'status_group'\n",
        "submissions = (pd.read_csv(file)[[target]] for file in files)\n",
        "ensemble = pd.concat(submissions, axis='columns')\n",
        "majority_vote = ensemble.mode(axis='columns')[0]\n",
        "\n",
        "sample_submission = pd.read_csv('sample_submission.csv')\n",
        "submission = sample_submission.copy()\n",
        "submission[target] = majority_vote\n",
        "submission.to_csv('my-ultimate-ensemble-submission.csv', index=False)\n",
        "```"
      ]
    },
    {
      "cell_type": "code",
      "metadata": {
        "id": "2AlX_xWqE4Vz",
        "colab_type": "code",
        "colab": {}
      },
      "source": [
        "%%capture\n",
        "import sys\n",
        "\n",
        "# If you're on Colab:\n",
        "if 'google.colab' in sys.modules:\n",
        "    DATA_PATH = 'https://raw.githubusercontent.com/LambdaSchool/DS-Unit-2-Kaggle-Challenge/master/data/'\n",
        "    !pip install category_encoders==2.*\n",
        "\n",
        "# If you're working locally:\n",
        "else:\n",
        "    DATA_PATH = '../data/'"
      ],
      "execution_count": 0,
      "outputs": []
    },
    {
      "cell_type": "code",
      "metadata": {
        "id": "SWntMwwFE4WI",
        "colab_type": "code",
        "colab": {}
      },
      "source": [
        "import pandas as pd\n",
        "\n",
        "# Merge train_features.csv & train_labels.csv\n",
        "train = pd.merge(pd.read_csv(DATA_PATH+'waterpumps/train_features.csv'), \n",
        "                 pd.read_csv(DATA_PATH+'waterpumps/train_labels.csv'))\n",
        "\n",
        "# Read test_features.csv & sample_submission.csv\n",
        "test = pd.read_csv(DATA_PATH+'waterpumps/test_features.csv')\n",
        "sample_submission = pd.read_csv(DATA_PATH+'waterpumps/sample_submission.csv')"
      ],
      "execution_count": 0,
      "outputs": []
    },
    {
      "cell_type": "code",
      "metadata": {
        "id": "2Yg2Dw87E4WW",
        "colab_type": "code",
        "colab": {}
      },
      "source": [
        "import matplotlib.pyplot as plt\n",
        "import pandas as pd\n",
        "import numpy as np\n",
        "\n",
        "from sklearn.model_selection import train_test_split, RandomizedSearchCV\n",
        "from sklearn.ensemble import RandomForestClassifier\n",
        "from sklearn.impute import SimpleImputer\n",
        "from sklearn.pipeline import make_pipeline\n",
        "import category_encoders as ce"
      ],
      "execution_count": 0,
      "outputs": []
    },
    {
      "cell_type": "code",
      "metadata": {
        "id": "66AkQND4DkXk",
        "colab_type": "code",
        "colab": {}
      },
      "source": [
        "data = pd.merge(pd.read_csv(DATA_PATH+'waterpumps/train_features.csv'), \n",
        "                 pd.read_csv(DATA_PATH+'waterpumps/train_labels.csv'))\n",
        "test = pd.read_csv(DATA_PATH+'waterpumps/test_features.csv')\n",
        "sample_submission = pd.read_csv(DATA_PATH+'waterpumps/sample_submission.csv')\n",
        "\n",
        "data.shape, test.shape"
      ],
      "execution_count": 0,
      "outputs": []
    },
    {
      "cell_type": "code",
      "metadata": {
        "id": "LbCe1AiMDnMI",
        "colab_type": "code",
        "colab": {}
      },
      "source": [
        "#train/validate split\n",
        "train, val = train_test_split(data, random_state=42)\n",
        "\n",
        "train.shape, val.shape, test.shape"
      ],
      "execution_count": 0,
      "outputs": []
    },
    {
      "cell_type": "code",
      "metadata": {
        "id": "E_VrfwL_Dp7u",
        "colab_type": "code",
        "colab": {}
      },
      "source": [
        "#Define a function to wrangle train, validate, and test sets in the same way. \n",
        "#Clean outliers and engineer features.\n",
        "\n",
        "def wrangle(X):\n",
        "  \"\"\"Wrangle train, validate, and test sets in the same way\"\"\"\n",
        "    \n",
        "  # Prevent SettingWithCopyWarning\n",
        "  X = X.copy()\n",
        "    \n",
        "  # About 3% of the time, latitude has small values near zero,\n",
        "  # outside Tanzania, so we'll treat these values like zero.\n",
        "  X['latitude'] = X['latitude'].replace(-2e-08, 0)\n",
        "    \n",
        "  # When columns have zeros and shouldn't, they are like null values.\n",
        "  # So we will replace the zeros with nulls, and impute missing values later.\n",
        "  #confirmed model is .2% worse when excluding population here\n",
        "  cols_with_zeros = ['longitude', 'latitude','construction_year','population']\n",
        "  for col in cols_with_zeros:\n",
        "      X[col] = X[col].replace(0, np.nan)\n",
        "  \n",
        "  #drop duplicate columns\n",
        "  # quantity & quantity_group are duplicates, so drop one\n",
        "  # payment == payment_type\n",
        "  X = X.drop(columns=['quantity_group','payment_type'])\n",
        "  \n",
        "  #recode permit to 1/0\n",
        "  #this doesn't turn out make a meaningful difference\n",
        "  #X['permit'] = X['permit'].replace({True: 1, False: 0})\n",
        "  \n",
        "  #new feature: whether amount_tsh is 0 or not\n",
        "  #it turns out to be wildly unimportant!\n",
        "  #(might be helpful on a regression; trees don't need it)\n",
        "  #X['0_tsh'] = X['amount_tsh'] == 0\n",
        "  \n",
        "  #convert date_recorded to datetime\n",
        "  X['date_recorded'] = X['date_recorded'].apply(pd.to_datetime)\n",
        "  \n",
        "  #create 'age' column, the number of years between construction and evaluation\n",
        "  X['age'] = X['date_recorded'].apply(lambda d: d.year) - X['construction_year']\n",
        "  \n",
        "  #pare down high-cardinality variables prior to encoding\n",
        "  #if a category has fewer than threshold observations, nan it\n",
        "  #since we're ordinal encoding now, let's try removing this\n",
        "  #removing it = modest validation accuracy increase\n",
        "  \n",
        "  #threshold = 600 #tweaking threshold value for best results\n",
        "  #value_counts = X['funder'].value_counts()\n",
        "  #to_remove = value_counts[value_counts < threshold].index\n",
        "  #X['funder'] = X['funder'].replace(to_remove, np.nan)\n",
        "  \n",
        "  #value_counts = X['installer'].value_counts()\n",
        "  #to_remove = value_counts[value_counts < threshold].index\n",
        "  #X['installer'] = X['installer'].replace(to_remove, np.nan)\n",
        "  \n",
        "  #value_counts = X['lga'].value_counts()\n",
        "  #to_remove = value_counts[value_counts < threshold].index\n",
        "  #X['lga'] = X['lga'].replace(to_remove, np.nan)\n",
        "  \n",
        "  #scheme_management has fine cardinality but a pesky \"None\" observed once\n",
        "  X['scheme_management'] = X['scheme_management'].replace('None', np.nan)\n",
        "  \n",
        "  #bools for whether the waterpoint is marked as rural or urban\n",
        "  #...make it a tiny bit worse\n",
        "  #X['rural'] = X['lga'].apply(lambda s: \"Rural\" in s)\n",
        "  #X['urban'] = X['lga'].apply(lambda s: \"Urban\" in s)\n",
        "  \n",
        "  #fill nans in latitude and longitude with averages for the region/basin\n",
        "  #instead of relying on the simple imputer\n",
        "  #using region makes the model worse by .3%\n",
        "  #using basin makes it better by about the same amount!\n",
        "  X2 = pd.DataFrame(columns=X.columns)\n",
        "\n",
        "  for basin in X['basin'].value_counts().index:\n",
        "    df = X[X['basin'] == basin]\n",
        "    lat_mean = df['latitude'].mean()\n",
        "    long_mean = df['longitude'].mean()\n",
        "    df['latitude'] = df['latitude'].replace(np.nan,lat_mean)\n",
        "    df['longitude'] = df['longitude'].replace(np.nan,long_mean)\n",
        "    X2 = X2.append(df)\n",
        "    \n",
        "  # return the wrangled dataframe\n",
        "  #return X\n",
        "  return X2\n",
        "\n",
        "train = wrangle(train)\n",
        "val = wrangle(val)\n",
        "test = wrangle(test)\n",
        "\n",
        "pd.options.display.max_columns = 100\n",
        "train.head()"
      ],
      "execution_count": 0,
      "outputs": []
    },
    {
      "cell_type": "code",
      "metadata": {
        "id": "MqYgkiQVDuRD",
        "colab_type": "code",
        "colab": {}
      },
      "source": [
        "target = 'status_group'\n",
        "features = train.columns.drop([target, 'date_recorded'])\n",
        "\n",
        "X_train = train[features]\n",
        "y_train = train[target]\n",
        "\n",
        "oe = ce.OrdinalEncoder()\n",
        "y_train_encoded = oe.fit_transform(y_train)\n",
        "\n",
        "X_val = val[features]\n",
        "y_val = val[target]\n",
        "\n",
        "X_test = test[features]"
      ],
      "execution_count": 0,
      "outputs": []
    },
    {
      "cell_type": "code",
      "metadata": {
        "id": "TpF0UZUlDxys",
        "colab_type": "code",
        "colab": {}
      },
      "source": [
        "#pipeline includes:\n",
        "#encoding of categorical variables as ordinal/numeric\n",
        "#random forest classifier\n",
        "pipeline = make_pipeline(\n",
        "    ce.OrdinalEncoder(), \n",
        "    SimpleImputer(), \n",
        "    RandomForestClassifier(random_state=42, n_jobs=-1)\n",
        ")\n",
        "\n",
        "#dict of parameters to try\n",
        "param_distributions = {\n",
        "    'simpleimputer__strategy': ['mean', 'median'], #median\n",
        "    'randomforestclassifier__n_estimators': range(100,500,25) #100\n",
        "    'randomforestclassifier__min_samples_leaf': range(1,100,5), #71\n",
        "    'randomforestclassifier__max_depth': range(3,20) #16\n",
        "}\n",
        "\n",
        "#make the randomized search\n",
        "#oh my GOD this takes FOREVER\n",
        "search = RandomizedSearchCV(\n",
        "    pipeline, \n",
        "    param_distributions=param_distributions, \n",
        "    n_iter=100, \n",
        "    cv=3, \n",
        "    scoring='neg_mean_absolute_error', \n",
        "    verbose=10, \n",
        "    return_train_score=True, \n",
        "    n_jobs=-1,\n",
        "    refit=True\n",
        ")\n",
        "\n",
        "search.fit(X_train, y_train_encoded);\n",
        "\n",
        "#search.fit(X_train, y_train);\n",
        "#pipeline.fit(X_train, y_train)\n",
        "#print('Validation Accuracy', pipeline.score(X_val, y_val))"
      ],
      "execution_count": 0,
      "outputs": []
    },
    {
      "cell_type": "code",
      "metadata": {
        "id": "hYFr_gyzD4eB",
        "colab_type": "code",
        "colab": {}
      },
      "source": [
        "#looking at the hyperparameters\n",
        "print(pipeline.named_steps['randomforestclassifier'])"
      ],
      "execution_count": 0,
      "outputs": []
    },
    {
      "cell_type": "code",
      "metadata": {
        "id": "DOof9DbmD6zI",
        "colab_type": "code",
        "colab": {}
      },
      "source": [
        "print('Best hyperparameters', search.best_params_)\n",
        "print('Cross-validation MAE', -search.best_score_)"
      ],
      "execution_count": 0,
      "outputs": []
    },
    {
      "cell_type": "code",
      "metadata": {
        "id": "L86757VaD9Ir",
        "colab_type": "code",
        "colab": {}
      },
      "source": [
        "#pipeline using the best hyperparameters from the random search\n",
        "pipeline = make_pipeline(\n",
        "    ce.OrdinalEncoder(), \n",
        "    SimpleImputer(strategy='median'), \n",
        "    RandomForestClassifier(max_depth=16, min_samples_leaf=71, \n",
        "                           n_estimators=100, random_state=42, n_jobs=-1)\n",
        ")\n",
        "\n",
        "pipeline.fit(X_train, y_train)\n",
        "\n",
        "#hmmm way worse than yesterday! not a fan\n",
        "print('Validation Accuracy', pipeline.score(X_val, y_val))"
      ],
      "execution_count": 0,
      "outputs": []
    }
  ]
}