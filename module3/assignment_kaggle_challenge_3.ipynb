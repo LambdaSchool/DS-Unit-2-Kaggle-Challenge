{
  "nbformat": 4,
  "nbformat_minor": 0,
  "metadata": {
    "kernelspec": {
      "display_name": "Python 3",
      "language": "python",
      "name": "python3"
    },
    "language_info": {
      "codemirror_mode": {
        "name": "ipython",
        "version": 3
      },
      "file_extension": ".py",
      "mimetype": "text/x-python",
      "name": "python",
      "nbconvert_exporter": "python",
      "pygments_lexer": "ipython3",
      "version": "3.7.3"
    },
    "colab": {
      "name": "assignment_kaggle_challenge_3.ipynb",
      "provenance": [],
      "toc_visible": true
    }
  },
  "cells": [
    {
      "cell_type": "markdown",
      "metadata": {
        "id": "RTm6gR3YBqQ_",
        "colab_type": "text"
      },
      "source": [
        "Lambda School Data Science, Unit 2: Predictive Modeling\n",
        "\n",
        "# Kaggle Challenge, Module 3\n",
        "\n",
        "\n",
        "## Assignment\n",
        "- [X] [Review requirements for your portfolio project](https://lambdaschool.github.io/ds/unit2), then submit your dataset.\n",
        "- [X] Continue to participate in our Kaggle challenge. \n",
        "- [ ] Use scikit-learn for hyperparameter optimization with RandomizedSearchCV.\n",
        "- [ ] Submit your predictions to our Kaggle competition. (Go to our Kaggle InClass competition webpage. Use the blue **Submit Predictions** button to upload your CSV file. Or you can use the Kaggle API to submit your predictions.)\n",
        "- [ ] Commit your notebook to your fork of the GitHub repo.\n",
        "\n",
        "## Stretch Goals\n",
        "\n",
        "### Reading\n",
        "- Jake VanderPlas, [Python Data Science Handbook, Chapter 5.3](https://jakevdp.github.io/PythonDataScienceHandbook/05.03-hyperparameters-and-model-validation.html), Hyperparameters and Model Validation\n",
        "- Jake VanderPlas, [Statistics for Hackers](https://speakerdeck.com/jakevdp/statistics-for-hackers?slide=107)\n",
        "- Ron Zacharski, [A Programmer's Guide to Data Mining, Chapter 5](http://guidetodatamining.com/chapter5/), 10-fold cross validation\n",
        "- Sebastian Raschka, [A Basic Pipeline and Grid Search Setup](https://github.com/rasbt/python-machine-learning-book/blob/master/code/bonus/svm_iris_pipeline_and_gridsearch.ipynb)\n",
        "- Peter Worcester, [A Comparison of Grid Search and Randomized Search Using Scikit Learn](https://blog.usejournal.com/a-comparison-of-grid-search-and-randomized-search-using-scikit-learn-29823179bc85)\n",
        "\n",
        "### Doing\n",
        "- Add your own stretch goals!\n",
        "- Try other [categorical encodings](https://contrib.scikit-learn.org/categorical-encoding/). See the previous assignment notebook for details.\n",
        "- In additon to `RandomizedSearchCV`, scikit-learn has [`GridSearchCV`](https://scikit-learn.org/stable/modules/generated/sklearn.model_selection.GridSearchCV.html). Another library called scikit-optimize has [`BayesSearchCV`](https://scikit-optimize.github.io/notebooks/sklearn-gridsearchcv-replacement.html). Experiment with these alternatives.\n",
        "- _[Introduction to Machine Learning with Python](http://shop.oreilly.com/product/0636920030515.do)_ discusses options for \"Grid-Searching Which Model To Use\" in Chapter 6:\n",
        "\n",
        "> You can even go further in combining GridSearchCV and Pipeline: it is also possible to search over the actual steps being performed in the pipeline (say whether to use StandardScaler or MinMaxScaler). This leads to an even bigger search space and should be considered carefully. Trying all possible solutions is usually not a viable machine learning strategy. However, here is an example comparing a RandomForestClassifier and an SVC ...\n",
        "\n",
        "The example is shown in [the accompanying notebook](https://github.com/amueller/introduction_to_ml_with_python/blob/master/06-algorithm-chains-and-pipelines.ipynb), code cells 35-37. Could you apply this concept to your own pipelines?\n"
      ]
    },
    {
      "cell_type": "markdown",
      "metadata": {
        "id": "hbk8QhawBqRR",
        "colab_type": "text"
      },
      "source": [
        "### BONUS: Stacking!\n",
        "\n",
        "Here's some code you can use to \"stack\" multiple submissions, which is another form of ensembling:\n",
        "\n",
        "```python\n",
        "import pandas as pd\n",
        "\n",
        "# Filenames of your submissions you want to ensemble\n",
        "files = ['submission-01.csv', 'submission-02.csv', 'submission-03.csv']\n",
        "\n",
        "target = 'status_group'\n",
        "submissions = (pd.read_csv(file)[[target]] for file in files)\n",
        "ensemble = pd.concat(submissions, axis='columns')\n",
        "majority_vote = ensemble.mode(axis='columns')[0]\n",
        "\n",
        "sample_submission = pd.read_csv('sample_submission.csv')\n",
        "submission = sample_submission.copy()\n",
        "submission[target] = majority_vote\n",
        "submission.to_csv('my-ultimate-ensemble-submission.csv', index=False)\n",
        "```"
      ]
    },
    {
      "cell_type": "code",
      "metadata": {
        "id": "4kfFZJPMBqRa",
        "colab_type": "code",
        "colab": {}
      },
      "source": [
        "%%capture\n",
        "import sys\n",
        "\n",
        "# If you're on Colab:\n",
        "if 'google.colab' in sys.modules:\n",
        "    DATA_PATH = 'https://raw.githubusercontent.com/LambdaSchool/DS-Unit-2-Kaggle-Challenge/master/data/'\n",
        "    !pip install category_encoders==2.*\n",
        "\n",
        "# If you're working locally:\n",
        "else:\n",
        "    DATA_PATH = '../data/'"
      ],
      "execution_count": 0,
      "outputs": []
    },
    {
      "cell_type": "code",
      "metadata": {
        "id": "Y39wyltOBqSD",
        "colab_type": "code",
        "colab": {}
      },
      "source": [
        "import pandas as pd\n",
        "\n",
        "# Merge train_features.csv & train_labels.csv\n",
        "train = pd.merge(pd.read_csv(DATA_PATH+'waterpumps/train_features.csv'), \n",
        "                 pd.read_csv(DATA_PATH+'waterpumps/train_labels.csv'))\n",
        "\n",
        "# Read test_features.csv & sample_submission.csv\n",
        "test = pd.read_csv(DATA_PATH+'waterpumps/test_features.csv')\n",
        "sample_submission = pd.read_csv(DATA_PATH+'waterpumps/sample_submission.csv')"
      ],
      "execution_count": 0,
      "outputs": []
    },
    {
      "cell_type": "code",
      "metadata": {
        "id": "V-JwePDjBqSj",
        "colab_type": "code",
        "colab": {
          "base_uri": "https://localhost:8080/",
          "height": 611
        },
        "outputId": "f42a58fc-3bc3-4324-c062-2f9117298c33"
      },
      "source": [
        "import numpy as np\n",
        "from scipy.stats import randint, uniform\n",
        "import matplotlib.pyplot as plt\n",
        "import category_encoders as ce\n",
        "from sklearn.model_selection import train_test_split\n",
        "from sklearn.metrics import accuracy_score\n",
        "from sklearn.impute import SimpleImputer\n",
        "from sklearn.preprocessing import StandardScaler\n",
        "from sklearn.model_selection import RandomizedSearchCV\n",
        "from sklearn.pipeline import make_pipeline\n",
        "from sklearn.feature_selection import f_regression, SelectKBest\n",
        "from sklearn.linear_model import Ridge\n",
        "\n",
        "\n",
        "def clean(X):\n",
        "    X = X.copy()\n",
        "    \n",
        "    X[\"date_recorded\"] = pd.to_datetime(X[\"date_recorded\"])\n",
        "    X[\"year_recorded\"] = X[\"date_recorded\"].dt.year\n",
        "    X[\"month_recorded\"] = X[\"date_recorded\"].dt.month\n",
        "    X[\"day_recorded\"] = X[\"date_recorded\"].dt.day\n",
        "    X[\"years_after_construction\"] = X[\"year_recorded\"] - X[\"construction_year\"]    \n",
        "    \n",
        "    unused = [\"recorded_by\", \"id\", \"quantity_group\", \"date_recorded\"]\n",
        "    X = X.drop(columns=unused)\n",
        "    \n",
        "    X[\"latitude\"] = X[\"latitude\"].replace(-2e-08, np.nan)\n",
        "    zero_cols = [\"longitude\", \"latitude\", \"gps_height\", \"population\", \"construction_year\"]\n",
        "    for c in zero_cols:\n",
        "        X[c] = X[c].replace(0, np.nan)\n",
        "    print(X.head(5))    \n",
        "    return X\n",
        "  \n",
        "target = \"status_group\"\n",
        "train, val = train_test_split(train, test_size=len(test), stratify=train[target])\n",
        "\n",
        "train = clean(train)\n",
        "val = clean(val)\n",
        "test = clean(test)\n",
        "\n",
        "X_train = train.drop(columns=target)\n",
        "y_train = train[target]\n",
        "X_val = val.drop(columns=target)\n",
        "y_val = val[target]\n",
        "X_test = test\n",
        "\n",
        "pipeline = make_pipeline(\n",
        "    ce.OrdinalEncoder(),\n",
        "    SimpleImputer(),\n",
        "    RandomForestClassifier()\n",
        ")\n",
        "\n",
        "params = {\n",
        "    \"simpleimputer__strategy\": [\"mean\", \"median\"], \n",
        "    \"randomforestclassifier__n_estimators\": randint(50, 500), \n",
        "    \"randomforestclassifier__max_depth\": [5, 10, 15, 20, None], \n",
        "    \"randomforestclassifier__max_features\": uniform(0, 1), \n",
        "}\n",
        "\n",
        "search = RandomizedSearchCV(\n",
        "    pipeline,\n",
        "    param_distributions=params,\n",
        "    n_iter=3,\n",
        "    cv=3,\n",
        "    scoring=\"accuracy\",\n",
        "    verbose=10,\n",
        "    return_train_score= True,\n",
        "    n_jobs=-1\n",
        ")\n",
        "\n",
        "search.fit(X_train, y_train)\n",
        "accuracy_score(y_val, search.predict(X_val))"
      ],
      "execution_count": 125,
      "outputs": [
        {
          "output_type": "stream",
          "text": [
            "       amount_tsh        funder  ...  day_recorded years_after_construction\n",
            "41799         0.0  World Vision  ...             3                        1\n",
            "20282         0.0            Fw  ...             2                       28\n",
            "17494       500.0         Norad  ...            18                       31\n",
            "44811         0.0       Swedish  ...             8                     2011\n",
            "40895         0.0        Hewasa  ...            31                       20\n",
            "\n",
            "[5 rows x 41 columns]\n",
            "       amount_tsh             funder  ...  day_recorded years_after_construction\n",
            "34249         0.0               Adra  ...             3                        5\n",
            "46795         0.0  Ministry Of Water  ...            13                       15\n",
            "40429         5.0    Germany Republi  ...             3                        7\n",
            "14649      1500.0                Adb  ...            22                       11\n",
            "44253         0.0               Dwsp  ...            16                     2012\n",
            "\n",
            "[5 rows x 41 columns]\n",
            "   amount_tsh                  funder  ...  day_recorded years_after_construction\n",
            "0         0.0                    Dmdd  ...             4                        1\n",
            "1         0.0  Government Of Tanzania  ...             4                       13\n",
            "2         0.0                     NaN  ...             1                        3\n",
            "3         0.0              Finn Water  ...            22                       26\n",
            "4       500.0                  Bruder  ...            27                       13\n",
            "\n",
            "[5 rows x 40 columns]\n",
            "Fitting 3 folds for each of 3 candidates, totalling 9 fits\n"
          ],
          "name": "stdout"
        },
        {
          "output_type": "stream",
          "text": [
            "[Parallel(n_jobs=-1)]: Using backend LokyBackend with 2 concurrent workers.\n",
            "[Parallel(n_jobs=-1)]: Done   1 tasks      | elapsed:  1.6min\n",
            "[Parallel(n_jobs=-1)]: Done   4 tasks      | elapsed:  3.2min\n",
            "[Parallel(n_jobs=-1)]: Done   7 out of   9 | elapsed:  4.6min remaining:  1.3min\n",
            "[Parallel(n_jobs=-1)]: Done   9 out of   9 | elapsed:  5.2min remaining:    0.0s\n",
            "[Parallel(n_jobs=-1)]: Done   9 out of   9 | elapsed:  5.2min finished\n"
          ],
          "name": "stderr"
        },
        {
          "output_type": "execute_result",
          "data": {
            "text/plain": [
              "0.8134141245298788"
            ]
          },
          "metadata": {
            "tags": []
          },
          "execution_count": 125
        }
      ]
    },
    {
      "cell_type": "code",
      "metadata": {
        "id": "q0g7q0WWX-1c",
        "colab_type": "code",
        "colab": {}
      },
      "source": [
        "y_pred = search.predict(test)\n",
        "submission = sample_submission.copy()\n",
        "submission[\"status_group\"] = y_pred\n",
        "submission.to_csv(\"RLCHAL3.csv\", index=False)\n"
      ],
      "execution_count": 0,
      "outputs": []
    }
  ]
}