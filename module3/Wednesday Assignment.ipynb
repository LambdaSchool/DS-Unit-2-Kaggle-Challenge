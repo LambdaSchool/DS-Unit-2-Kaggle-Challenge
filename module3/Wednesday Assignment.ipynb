#!/usr/bin/env python
# coding: utf-8

# Lambda School Data Science, Unit 2: Predictive Modeling
# 
# # Kaggle Challenge, Module 3
# 
# 
# ## Assignment
# - [ ] [Review requirements for your portfolio project](https://lambdaschool.github.io/ds/unit2), then submit your dataset.
# - [ ] Continue to participate in our Kaggle challenge. 
# - [ ] Use scikit-learn for hyperparameter optimization with RandomizedSearchCV.
# - [ ] Submit your predictions to our Kaggle competition. (Go to our Kaggle InClass competition webpage. Use the blue **Submit Predictions** button to upload your CSV file. Or you can use the Kaggle API to submit your predictions.)
# - [ ] Commit your notebook to your fork of the GitHub repo.
# 
# ## Stretch Goals
# 
# ### Reading
# - Jake VanderPlas, [Python Data Science Handbook, Chapter 5.3](https://jakevdp.github.io/PythonDataScienceHandbook/05.03-hyperparameters-and-model-validation.html), Hyperparameters and Model Validation
# - Jake VanderPlas, [Statistics for Hackers](https://speakerdeck.com/jakevdp/statistics-for-hackers?slide=107)
# - Ron Zacharski, [A Programmer's Guide to Data Mining, Chapter 5](http://guidetodatamining.com/chapter5/), 10-fold cross validation
# - Sebastian Raschka, [A Basic Pipeline and Grid Search Setup](https://github.com/rasbt/python-machine-learning-book/blob/master/code/bonus/svm_iris_pipeline_and_gridsearch.ipynb)
# - Peter Worcester, [A Comparison of Grid Search and Randomized Search Using Scikit Learn](https://blog.usejournal.com/a-comparison-of-grid-search-and-randomized-search-using-scikit-learn-29823179bc85)
# 
# ### Doing
# - Add your own stretch goals!
# - Try other [categorical encodings](https://contrib.scikit-learn.org/categorical-encoding/). See the previous assignment notebook for details.
# - In additon to `RandomizedSearchCV`, scikit-learn has [`GridSearchCV`](https://scikit-learn.org/stable/modules/generated/sklearn.model_selection.GridSearchCV.html). Another library called scikit-optimize has [`BayesSearchCV`](https://scikit-optimize.github.io/notebooks/sklearn-gridsearchcv-replacement.html). Experiment with these alternatives.
# - _[Introduction to Machine Learning with Python](http://shop.oreilly.com/product/0636920030515.do)_ discusses options for "Grid-Searching Which Model To Use" in Chapter 6:
# 
# > You can even go further in combining GridSearchCV and Pipeline: it is also possible to search over the actual steps being performed in the pipeline (say whether to use StandardScaler or MinMaxScaler). This leads to an even bigger search space and should be considered carefully. Trying all possible solutions is usually not a viable machine learning strategy. However, here is an example comparing a RandomForestClassifier and an SVC ...
# 
# The example is shown in [the accompanying notebook](https://github.com/amueller/introduction_to_ml_with_python/blob/master/06-algorithm-chains-and-pipelines.ipynb), code cells 35-37. Could you apply this concept to your own pipelines?
# 

# ### BONUS: Stacking!
# 
# Here's some code you can use to "stack" multiple submissions, which is another form of ensembling:
# 
# ```python
# import pandas as pd
# 
# # Filenames of your submissions you want to ensemble
# files = ['submission-01.csv', 'submission-02.csv', 'submission-03.csv']
# 
# target = 'status_group'
# submissions = (pd.read_csv(file)[[target]] for file in files)
# ensemble = pd.concat(submissions, axis='columns')
# majority_vote = ensemble.mode(axis='columns')[0]
# 
# sample_submission = pd.read_csv('sample_submission.csv')
# submission = sample_submission.copy()
# submission[target] = majority_vote
# submission.to_csv('my-ultimate-ensemble-submission.csv', index=False)
# ```

#%%


get_ipython().run_cell_magic('capture', '', "import sys\n\n# If you're on Colab:\nif 'google.colab' in sys.modules:\n    DATA_PATH = 'https://raw.githubusercontent.com/LambdaSchool/DS-Unit-2-Kaggle-Challenge/master/data/'\n    !pip install category_encoders==2.*\n\n# If you're working locally:\nelse:\n    DATA_PATH = 'https://raw.githubusercontent.com/LambdaSchool/DS-Unit-2-Kaggle-Challenge/master/data/'")


#%%


import pandas as pd

# Merge train_features.csv & train_labels.csv
train = pd.merge(pd.read_csv(DATA_PATH+'waterpumps/train_features.csv'), 
                 pd.read_csv(DATA_PATH+'waterpumps/train_labels.csv'))

# Read test_features.csv & sample_submission.csv
test = pd.read_csv(DATA_PATH+'waterpumps/test_features.csv')
sample_submission = pd.read_csv(DATA_PATH+'waterpumps/sample_submission.csv')


#%%


pd.set_option('display.max_columns', None)
train.describe(include='all')
train.shape

#%%


import numpy as np
def wrangle(data):
    data = data.copy()
    
    data['latitude'] = data.replace(-2e-8, 0)
    
    replace_zero = ['longitude', 'latitude', 'construction_year']
    
    # Add to replace_zero = ['longitude', 'latitude', 'population', 'amount_tsh', 'num_private', 'construction_year', '']
    
    for col in replace_zero:
        data[col] = data[col].replace(0, np.nan)
    
    data['date_recorded'] = pd.to_datetime(data['date_recorded'])
    
    redundant = [
#            'extraction_type_group', 'extraction_type_class',
#                'payment_type', 'quality_group', 'quantity_group',
#                'source_type', 'source_class', 'waterpoint_type_group',
                'date_recorded']
    
    data = data.drop(columns=redundant)
    
    return data

#%%
    
train = wrangle(train)
test = wrangle(test)

#%% 
target = 'status_group'

X_train = train.drop(target, axis=1)
y_train = train[target]

#%%

from sklearn.pipeline import make_pipeline
import category_encoders as ce
from sklearn.impute import SimpleImputer
from sklearn.ensemble import RandomForestClassifier

pipeline = make_pipeline(
    ce.OrdinalEncoder(),
    SimpleImputer(strategy='mean'),
    RandomForestClassifier(n_estimators=20, 
                           max_depth=20,
                           random_state=42,
                           n_jobs=-1)
)

#%%
from sklearn.model_selection import cross_val_score

k = 3

scores = cross_val_score(pipeline, X_train, y_train, cv=k)

print(f'Validation score: {scores}')


#%%

from sklearn.model_selection import RandomizedSearchCV
from scipy.stats import randint, uniform

features = train.columns.drop(target)
X_train = train[features]
y_train = train[target]

#%%

pipeline = make_pipeline(
        ce.OrdinalEncoder(),
        SimpleImputer(),
        RandomForestClassifier(random_state=42)
)


#%%

param_distributions = {
        'simpleimputer__strategy': ['mean', 'median'],
        'randomforestclassifier__n_estimators': randint(1, 500),
        'randomforestclassifier__max_depth': randint(1, 100),
        'randomforestclassifier__criterion': ['gini', 'entropy'],
        'randomforestclassifier__max_features': randint(1, len(train.columns)),
        'randomforestclassifier__min_samples_leaf': uniform(0, 0.5),
        }


#%%

search = RandomizedSearchCV(
        pipeline,
        param_distributions=param_distributions,
        n_iter=30,
        cv=3,
#        scoring='accuracy',
        verbose=10,
        return_train_score=True,
        n_jobs=-1
        )

#%%

search.fit(X_train, y_train);


#%%

print('Best Hyperparameters:', search.best_params_)
print('Cross_validation accuracy:', search.best_score_)

#%%
#

#from sklearn.model_selection import train_test_split

#my_train, my_val = train_test_split(train, random_state=42)
#


#my_train = wrangle(my_train)
#my_val = wrangle(my_val)
#my_test = wrangle(test)
#
##%%
#target = 'status_group'
#
#X_train = my_train.drop(target)
#y_train = my_train[target]
#X_val = my_val.drop(target)
#y_val = my_val[target]
#X_test = my_test