{
  "nbformat": 4,
  "nbformat_minor": 0,
  "metadata": {
    "kernelspec": {
      "display_name": "Python 3",
      "language": "python",
      "name": "python3"
    },
    "language_info": {
      "codemirror_mode": {
        "name": "ipython",
        "version": 3
      },
      "file_extension": ".py",
      "mimetype": "text/x-python",
      "name": "python",
      "nbconvert_exporter": "python",
      "pygments_lexer": "ipython3",
      "version": "3.7.3"
    },
    "colab": {
      "name": "LS_DS_223_assignment.ipynb",
      "provenance": []
    }
  },
  "cells": [
    {
      "cell_type": "markdown",
      "metadata": {
        "id": "3Lph_OFxMtmR",
        "colab_type": "text"
      },
      "source": [
        "Lambda School Data Science\n",
        "\n",
        "*Unit 2, Sprint 2, Module 3*\n",
        "\n",
        "---"
      ]
    },
    {
      "cell_type": "markdown",
      "metadata": {
        "id": "eirisKo6MtmV",
        "colab_type": "text"
      },
      "source": [
        "# Cross-Validation\n",
        "\n",
        "\n",
        "## Assignment\n",
        "- [ ] [Review requirements for your portfolio project](https://lambdaschool.github.io/ds/unit2), then submit your dataset.\n",
        "- [ ] Continue to participate in our Kaggle challenge. \n",
        "- [ ] Use scikit-learn for hyperparameter optimization with RandomizedSearchCV.\n",
        "- [ ] Submit your predictions to our Kaggle competition. (Go to our Kaggle InClass competition webpage. Use the blue **Submit Predictions** button to upload your CSV file. Or you can use the Kaggle API to submit your predictions.)\n",
        "- [ ] Commit your notebook to your fork of the GitHub repo.\n",
        "\n",
        "\n",
        "You won't be able to just copy from the lesson notebook to this assignment.\n",
        "\n",
        "- Because the lesson was ***regression***, but the assignment is ***classification.***\n",
        "- Because the lesson used [TargetEncoder](https://contrib.scikit-learn.org/categorical-encoding/targetencoder.html), which doesn't work as-is for _multi-class_ classification.\n",
        "\n",
        "So you will have to adapt the example, which is good real-world practice.\n",
        "\n",
        "1. Use a model for classification, such as [RandomForestClassifier](https://scikit-learn.org/stable/modules/generated/sklearn.ensemble.RandomForestClassifier.html)\n",
        "2. Use hyperparameters that match the classifier, such as `randomforestclassifier__ ...`\n",
        "3. Use a metric for classification, such as [`scoring='accuracy'`](https://scikit-learn.org/stable/modules/model_evaluation.html#common-cases-predefined-values)\n",
        "4. If you’re doing a multi-class classification problem — such as whether a waterpump is functional, functional needs repair, or nonfunctional — then use a categorical encoding that works for multi-class classification, such as [OrdinalEncoder](https://contrib.scikit-learn.org/categorical-encoding/ordinal.html) (not [TargetEncoder](https://contrib.scikit-learn.org/categorical-encoding/targetencoder.html))\n",
        "\n",
        "\n",
        "\n",
        "## Stretch Goals\n",
        "\n",
        "### Reading\n",
        "- Jake VanderPlas, [Python Data Science Handbook, Chapter 5.3](https://jakevdp.github.io/PythonDataScienceHandbook/05.03-hyperparameters-and-model-validation.html), Hyperparameters and Model Validation\n",
        "- Jake VanderPlas, [Statistics for Hackers](https://speakerdeck.com/jakevdp/statistics-for-hackers?slide=107)\n",
        "- Ron Zacharski, [A Programmer's Guide to Data Mining, Chapter 5](http://guidetodatamining.com/chapter5/), 10-fold cross validation\n",
        "- Sebastian Raschka, [A Basic Pipeline and Grid Search Setup](https://github.com/rasbt/python-machine-learning-book/blob/master/code/bonus/svm_iris_pipeline_and_gridsearch.ipynb)\n",
        "- Peter Worcester, [A Comparison of Grid Search and Randomized Search Using Scikit Learn](https://blog.usejournal.com/a-comparison-of-grid-search-and-randomized-search-using-scikit-learn-29823179bc85)\n",
        "\n",
        "### Doing\n",
        "- Add your own stretch goals!\n",
        "- Try other [categorical encodings](https://contrib.scikit-learn.org/categorical-encoding/). See the previous assignment notebook for details.\n",
        "- In additon to `RandomizedSearchCV`, scikit-learn has [`GridSearchCV`](https://scikit-learn.org/stable/modules/generated/sklearn.model_selection.GridSearchCV.html). Another library called scikit-optimize has [`BayesSearchCV`](https://scikit-optimize.github.io/notebooks/sklearn-gridsearchcv-replacement.html). Experiment with these alternatives.\n",
        "- _[Introduction to Machine Learning with Python](http://shop.oreilly.com/product/0636920030515.do)_ discusses options for \"Grid-Searching Which Model To Use\" in Chapter 6:\n",
        "\n",
        "> You can even go further in combining GridSearchCV and Pipeline: it is also possible to search over the actual steps being performed in the pipeline (say whether to use StandardScaler or MinMaxScaler). This leads to an even bigger search space and should be considered carefully. Trying all possible solutions is usually not a viable machine learning strategy. However, here is an example comparing a RandomForestClassifier and an SVC ...\n",
        "\n",
        "The example is shown in [the accompanying notebook](https://github.com/amueller/introduction_to_ml_with_python/blob/master/06-algorithm-chains-and-pipelines.ipynb), code cells 35-37. Could you apply this concept to your own pipelines?\n"
      ]
    },
    {
      "cell_type": "markdown",
      "metadata": {
        "id": "a30-e00WMtmW",
        "colab_type": "text"
      },
      "source": [
        "### BONUS: Stacking!\n",
        "\n",
        "Here's some code you can use to \"stack\" multiple submissions, which is another form of ensembling:\n",
        "\n",
        "```python\n",
        "import pandas as pd\n",
        "\n",
        "# Filenames of your submissions you want to ensemble\n",
        "files = ['submission-01.csv', 'submission-02.csv', 'submission-03.csv']\n",
        "\n",
        "target = 'status_group'\n",
        "submissions = (pd.read_csv(file)[[target]] for file in files)\n",
        "ensemble = pd.concat(submissions, axis='columns')\n",
        "majority_vote = ensemble.mode(axis='columns')[0]\n",
        "\n",
        "sample_submission = pd.read_csv('sample_submission.csv')\n",
        "submission = sample_submission.copy()\n",
        "submission[target] = majority_vote\n",
        "submission.to_csv('my-ultimate-ensemble-submission.csv', index=False)\n",
        "```"
      ]
    },
    {
      "cell_type": "code",
      "metadata": {
        "id": "g40DrvqAKxmQ",
        "colab_type": "code",
        "colab": {}
      },
      "source": [
        "# Filenames of submissions to ensemble\n",
        "files = ['/content/waterpump-submission-01.csv', '/content/waterpump-submission-02.csv',\n",
        "         '/content/waterpump-submission-03.csv', '/content/waterpump-submission-04.csv',\n",
        "         '/content/waterpump-submission-05.csv', '/content/waterpump-submission-06.csv',\n",
        "         '/content/waterpump-submission-07.csv', '/content/waterpump-submission-09.csv',\n",
        "         '/content/waterpump-submission-09.csv', '/content/waterpump-submission-10.csv',\n",
        "         '/content/waterpump-submission-11.csv', '/content/waterpump-submission-12.csv']\n",
        "\n",
        "target = 'status_group'\n",
        "submissions = (pd.read_csv(file)[[target]] for file in files)\n",
        "ensemble = pd.concat(submissions, axis='columns')\n",
        "majority_vote = ensemble.mode(axis='columns')[0]\n",
        "\n",
        "sample_submission = pd.read_csv(DATA_PATH+'waterpumps/sample_submission.csv')\n",
        "submission = sample_submission.copy()\n",
        "submission[target] = majority_vote\n",
        "submission.to_csv('my-ultimate-ensemble-submission.csv', index=False)\n"
      ],
      "execution_count": 0,
      "outputs": []
    },
    {
      "cell_type": "code",
      "metadata": {
        "id": "LrMG_vLaMYAV",
        "colab_type": "code",
        "outputId": "e8b9f5e1-b2dd-4be1-d292-6e357e1765fc",
        "colab": {
          "base_uri": "https://localhost:8080/",
          "height": 35
        }
      },
      "source": [
        "submission_best = pd.read_csv('/content/my-ultimate-ensemble-submission.csv')\n",
        "submission_best.shape"
      ],
      "execution_count": 0,
      "outputs": [
        {
          "output_type": "execute_result",
          "data": {
            "text/plain": [
              "(14358, 2)"
            ]
          },
          "metadata": {
            "tags": []
          },
          "execution_count": 153
        }
      ]
    },
    {
      "cell_type": "code",
      "metadata": {
        "id": "YJC9KsVVMl6y",
        "colab_type": "code",
        "outputId": "09689741-1354-4817-b2af-3ddf93ed5e27",
        "colab": {
          "base_uri": "https://localhost:8080/",
          "height": 407
        }
      },
      "source": [
        "submission_best"
      ],
      "execution_count": 0,
      "outputs": [
        {
          "output_type": "execute_result",
          "data": {
            "text/html": [
              "<div>\n",
              "<style scoped>\n",
              "    .dataframe tbody tr th:only-of-type {\n",
              "        vertical-align: middle;\n",
              "    }\n",
              "\n",
              "    .dataframe tbody tr th {\n",
              "        vertical-align: top;\n",
              "    }\n",
              "\n",
              "    .dataframe thead th {\n",
              "        text-align: right;\n",
              "    }\n",
              "</style>\n",
              "<table border=\"1\" class=\"dataframe\">\n",
              "  <thead>\n",
              "    <tr style=\"text-align: right;\">\n",
              "      <th></th>\n",
              "      <th>id</th>\n",
              "      <th>status_group</th>\n",
              "    </tr>\n",
              "  </thead>\n",
              "  <tbody>\n",
              "    <tr>\n",
              "      <th>0</th>\n",
              "      <td>50785</td>\n",
              "      <td>non functional</td>\n",
              "    </tr>\n",
              "    <tr>\n",
              "      <th>1</th>\n",
              "      <td>51630</td>\n",
              "      <td>functional</td>\n",
              "    </tr>\n",
              "    <tr>\n",
              "      <th>2</th>\n",
              "      <td>17168</td>\n",
              "      <td>functional</td>\n",
              "    </tr>\n",
              "    <tr>\n",
              "      <th>3</th>\n",
              "      <td>45559</td>\n",
              "      <td>non functional</td>\n",
              "    </tr>\n",
              "    <tr>\n",
              "      <th>4</th>\n",
              "      <td>49871</td>\n",
              "      <td>functional</td>\n",
              "    </tr>\n",
              "    <tr>\n",
              "      <th>...</th>\n",
              "      <td>...</td>\n",
              "      <td>...</td>\n",
              "    </tr>\n",
              "    <tr>\n",
              "      <th>14353</th>\n",
              "      <td>39307</td>\n",
              "      <td>non functional</td>\n",
              "    </tr>\n",
              "    <tr>\n",
              "      <th>14354</th>\n",
              "      <td>18990</td>\n",
              "      <td>functional</td>\n",
              "    </tr>\n",
              "    <tr>\n",
              "      <th>14355</th>\n",
              "      <td>28749</td>\n",
              "      <td>functional</td>\n",
              "    </tr>\n",
              "    <tr>\n",
              "      <th>14356</th>\n",
              "      <td>33492</td>\n",
              "      <td>functional</td>\n",
              "    </tr>\n",
              "    <tr>\n",
              "      <th>14357</th>\n",
              "      <td>68707</td>\n",
              "      <td>non functional</td>\n",
              "    </tr>\n",
              "  </tbody>\n",
              "</table>\n",
              "<p>14358 rows × 2 columns</p>\n",
              "</div>"
            ],
            "text/plain": [
              "          id    status_group\n",
              "0      50785  non functional\n",
              "1      51630      functional\n",
              "2      17168      functional\n",
              "3      45559  non functional\n",
              "4      49871      functional\n",
              "...      ...             ...\n",
              "14353  39307  non functional\n",
              "14354  18990      functional\n",
              "14355  28749      functional\n",
              "14356  33492      functional\n",
              "14357  68707  non functional\n",
              "\n",
              "[14358 rows x 2 columns]"
            ]
          },
          "metadata": {
            "tags": []
          },
          "execution_count": 154
        }
      ]
    },
    {
      "cell_type": "code",
      "metadata": {
        "id": "8AYsb_QQMtmX",
        "colab_type": "code",
        "colab": {}
      },
      "source": [
        "%%capture\n",
        "import sys\n",
        "\n",
        "# If you're on Colab:\n",
        "if 'google.colab' in sys.modules:\n",
        "    DATA_PATH = 'https://raw.githubusercontent.com/LambdaSchool/DS-Unit-2-Kaggle-Challenge/master/data/'\n",
        "    !pip install category_encoders==2.*\n",
        "\n",
        "# If you're working locally:\n",
        "else:\n",
        "    DATA_PATH = '../data/'"
      ],
      "execution_count": 0,
      "outputs": []
    },
    {
      "cell_type": "code",
      "metadata": {
        "id": "PjkQ-wEVRB0F",
        "colab_type": "code",
        "colab": {}
      },
      "source": [
        "# all imports needed for this sheet\n",
        "\n",
        "import numpy as np\n",
        "import pandas as pd\n",
        "from sklearn.model_selection import train_test_split\n",
        "import category_encoders as ce\n",
        "from sklearn.ensemble import RandomForestClassifier\n",
        "from sklearn.impute import SimpleImputer\n",
        "from sklearn.pipeline import make_pipeline\n",
        "from sklearn.feature_selection import f_regression, SelectKBest\n",
        "from sklearn.linear_model import Ridge\n",
        "from sklearn.model_selection import cross_val_score\n",
        "from sklearn.preprocessing import StandardScaler\n",
        "import matplotlib.pyplot as plt\n",
        "from sklearn.model_selection import validation_curve\n",
        "from sklearn.tree import DecisionTreeRegressor\n",
        "from sklearn.model_selection import GridSearchCV, RandomizedSearchCV\n"
      ],
      "execution_count": 0,
      "outputs": []
    },
    {
      "cell_type": "code",
      "metadata": {
        "id": "uP01xgJYMtma",
        "colab_type": "code",
        "colab": {}
      },
      "source": [
        "# Merge train_features.csv & train_labels.csv\n",
        "train = pd.merge(pd.read_csv(DATA_PATH+'waterpumps/train_features.csv'), \n",
        "                 pd.read_csv(DATA_PATH+'waterpumps/train_labels.csv'))\n",
        "\n",
        "# Read test_features.csv & sample_submission.csv\n",
        "test = pd.read_csv(DATA_PATH+'waterpumps/test_features.csv')\n",
        "sample_submission = pd.read_csv(DATA_PATH+'waterpumps/sample_submission.csv')"
      ],
      "execution_count": 0,
      "outputs": []
    },
    {
      "cell_type": "code",
      "metadata": {
        "id": "BYMkvL-7sGpf",
        "colab_type": "code",
        "colab": {
          "base_uri": "https://localhost:8080/",
          "height": 208
        },
        "outputId": "afba0d47-f95b-43d1-ab3f-8898d55d9b02"
      },
      "source": [
        "train.columns"
      ],
      "execution_count": 4,
      "outputs": [
        {
          "output_type": "execute_result",
          "data": {
            "text/plain": [
              "Index(['id', 'amount_tsh', 'date_recorded', 'funder', 'gps_height',\n",
              "       'installer', 'longitude', 'latitude', 'wpt_name', 'num_private',\n",
              "       'basin', 'subvillage', 'region', 'region_code', 'district_code', 'lga',\n",
              "       'ward', 'population', 'public_meeting', 'recorded_by',\n",
              "       'scheme_management', 'scheme_name', 'permit', 'construction_year',\n",
              "       'extraction_type', 'extraction_type_group', 'extraction_type_class',\n",
              "       'management', 'management_group', 'payment', 'payment_type',\n",
              "       'water_quality', 'quality_group', 'quantity', 'quantity_group',\n",
              "       'source', 'source_type', 'source_class', 'waterpoint_type',\n",
              "       'waterpoint_type_group', 'status_group'],\n",
              "      dtype='object')"
            ]
          },
          "metadata": {
            "tags": []
          },
          "execution_count": 4
        }
      ]
    },
    {
      "cell_type": "code",
      "metadata": {
        "id": "XNoSoL1lS7ht",
        "colab_type": "code",
        "outputId": "33a03f0a-4674-4309-855f-2f44c25b118f",
        "colab": {
          "base_uri": "https://localhost:8080/",
          "height": 90
        }
      },
      "source": [
        "train['status_group'].value_counts()"
      ],
      "execution_count": 0,
      "outputs": [
        {
          "output_type": "execute_result",
          "data": {
            "text/plain": [
              "functional                 32259\n",
              "non functional             22824\n",
              "functional needs repair     4317\n",
              "Name: status_group, dtype: int64"
            ]
          },
          "metadata": {
            "tags": []
          },
          "execution_count": 143
        }
      ]
    },
    {
      "cell_type": "code",
      "metadata": {
        "id": "47DgLZ94Sub5",
        "colab_type": "code",
        "colab": {}
      },
      "source": [
        "# convert strings in target column to integers for use in future functions\n",
        "\n",
        "train['status_group'] = train['status_group'].replace('functional', 1)\n",
        "train['status_group'] = train['status_group'].replace('non functional', 2)\n",
        "train['status_group'] = train['status_group'].replace('functional needs repair', 3)\n",
        "\n"
      ],
      "execution_count": 0,
      "outputs": []
    },
    {
      "cell_type": "code",
      "metadata": {
        "id": "24hylWYXMtmd",
        "colab_type": "code",
        "colab": {}
      },
      "source": [
        "# Split train into train & val\n",
        "train, val = train_test_split(train, train_size=0.80, test_size=0.20, \n",
        "                              stratify=train['status_group'], random_state=42)"
      ],
      "execution_count": 0,
      "outputs": []
    },
    {
      "cell_type": "code",
      "metadata": {
        "id": "foZRMceUUfnK",
        "colab_type": "code",
        "outputId": "0f6853f7-dcc3-485a-ca94-5f44f595aa94",
        "colab": {
          "base_uri": "https://localhost:8080/",
          "height": 208
        }
      },
      "source": [
        "train.columns"
      ],
      "execution_count": 44,
      "outputs": [
        {
          "output_type": "execute_result",
          "data": {
            "text/plain": [
              "Index(['id', 'amount_tsh', 'date_recorded', 'funder', 'gps_height',\n",
              "       'installer', 'longitude', 'latitude', 'wpt_name', 'num_private',\n",
              "       'basin', 'subvillage', 'region', 'region_code', 'district_code', 'lga',\n",
              "       'ward', 'population', 'public_meeting', 'recorded_by',\n",
              "       'scheme_management', 'scheme_name', 'permit', 'construction_year',\n",
              "       'extraction_type', 'extraction_type_group', 'extraction_type_class',\n",
              "       'management', 'management_group', 'payment', 'payment_type',\n",
              "       'water_quality', 'quality_group', 'quantity', 'quantity_group',\n",
              "       'source', 'source_type', 'source_class', 'waterpoint_type',\n",
              "       'waterpoint_type_group', 'status_group'],\n",
              "      dtype='object')"
            ]
          },
          "metadata": {
            "tags": []
          },
          "execution_count": 44
        }
      ]
    },
    {
      "cell_type": "code",
      "metadata": {
        "id": "IaL2mNm5Qw5w",
        "colab_type": "code",
        "colab": {}
      },
      "source": [
        "# create funtion to wrangle each set in same way\n",
        "\n",
        "def wrangle(X):\n",
        "    \"\"\"Wrangle train, validate, and test sets in the same way\"\"\"\n",
        "    \n",
        "    # Prevent SettingWithCopyWarning\n",
        "    X = X.copy()\n",
        "    \n",
        "    # About 3% of the time, latitude has small values near zero,\n",
        "    # outside Tanzania, so we'll treat these values like zero.\n",
        "    X['latitude'] = X['latitude'].replace(-2e-08, 0)\n",
        "    \n",
        "    # When columns have zeros and shouldn't, they are like null values.\n",
        "    # So we will replace the zeros with nulls, and impute missing values later.\n",
        "    # Also create a \"missing indicator\" column, because the fact that\n",
        "    # values are missing may be a predictive signal.\n",
        "    # after evaluation, decided to remove whether column is missing\n",
        "    # as cross validation showed it was not important\n",
        "    cols_with_zeros = ['longitude', 'latitude', 'construction_year', \n",
        "                       'gps_height', 'population']\n",
        "    for col in cols_with_zeros:\n",
        "        X[col] = X[col].replace(0, np.nan)\n",
        "        #X[col+'_MISSING'] = X[col].isnull()\n",
        "            \n",
        "    # Drop duplicate columns\n",
        "    duplicates = ['quantity_group', 'payment_type']\n",
        "    X = X.drop(columns=duplicates)\n",
        "    \n",
        "    # Drop recorded_by (never varies)\n",
        "    unusable_variance = ['recorded_by', 'num_private']\n",
        "    X = X.drop(columns=unusable_variance)\n",
        "    \n",
        "    # Convert date_recorded to datetime\n",
        "    X['date_recorded'] = pd.to_datetime(X['date_recorded'], infer_datetime_format=True)\n",
        "    \n",
        "    # Extract components from date_recorded, then drop the original column\n",
        "    X['year_recorded'] = X['date_recorded'].dt.year\n",
        "    X['month_recorded'] = X['date_recorded'].dt.month\n",
        "    X['day_recorded'] = X['date_recorded'].dt.day\n",
        "    X = X.drop(columns='date_recorded')\n",
        "    \n",
        "    # Engineer feature: how many years from construction_year to date_recorded\n",
        "    X['years'] = X['year_recorded'] - X['construction_year']\n",
        "    #X['years_MISSING'] = X['years'].isnull()\n",
        "\n",
        "    # Engineer feature: height of well is 1500 or lower\n",
        "    X['lower_height'] = X['gps_height'] <= 1500\n",
        "\n",
        "    # Engineer feature: year recorded 2012 or later\n",
        "    #X['post_2012_rec'] = X['year_recorded'] >= 2012\n",
        "\n",
        "    # Engineer feature: constructed 2000 or later\n",
        "    X['not_old'] = X['construction_year'] >= 2000\n",
        "\n",
        "    # Engineer feature: funder is in top 1 funders\n",
        "    top1 = train['installer'].value_counts()[:1].index\n",
        "    X['top_1_installer'] = X['installer'].isin(top1)\n",
        "    \n",
        "    # return the wrangled dataframe\n",
        "    return X\n",
        "\n",
        "train = wrangle(train)\n",
        "val = wrangle(val)\n",
        "test = wrangle(test)"
      ],
      "execution_count": 0,
      "outputs": []
    },
    {
      "cell_type": "code",
      "metadata": {
        "id": "bUZbvSrqSY5H",
        "colab_type": "code",
        "colab": {}
      },
      "source": [
        "train['status_group'].value_counts()"
      ],
      "execution_count": 0,
      "outputs": []
    },
    {
      "cell_type": "code",
      "metadata": {
        "id": "hRyTsgAiyhfQ",
        "colab_type": "code",
        "colab": {}
      },
      "source": [
        "train.columns"
      ],
      "execution_count": 0,
      "outputs": []
    },
    {
      "cell_type": "code",
      "metadata": {
        "id": "2Vm8lzo_ykep",
        "colab_type": "code",
        "colab": {}
      },
      "source": [
        "train['amount_tsh'].value_counts()"
      ],
      "execution_count": 0,
      "outputs": []
    },
    {
      "cell_type": "code",
      "metadata": {
        "id": "I_pGF9UpQw_F",
        "colab_type": "code",
        "outputId": "4063f605-358b-4133-9ac9-ad8dcda2caf0",
        "colab": {
          "base_uri": "https://localhost:8080/",
          "height": 69
        }
      },
      "source": [
        "%%time\n",
        "\n",
        "# Arrange data to include all categorical features\n",
        "target = 'status_group'\n",
        "X_train = train.drop(columns=target)\n",
        "y_train = train[target]\n",
        "X_val = val.drop(columns=target)\n",
        "y_val = val[target]\n",
        "X_test = test\n",
        "\n",
        "# pipeline, with ordinal encoder\n",
        "pipeline = make_pipeline(\n",
        "    #ce.OneHotEncoder(use_cat_names=True, cols=['lower_height']), \n",
        "    ce.OrdinalEncoder(), \n",
        "    SimpleImputer(strategy='most_frequent'), \n",
        "    RandomForestClassifier(n_estimators=210, max_features=\"auto\", \n",
        "                           random_state=42, n_jobs=-1, warm_start=False,\n",
        "                           min_samples_leaf=2 \n",
        "                           )\n",
        ")\n",
        "\n",
        "\n",
        "# Fit on train, score on val\n",
        "pipeline.fit(X_train, y_train)\n",
        "print('Validation Accuracy', pipeline.score(X_val, y_val))"
      ],
      "execution_count": 78,
      "outputs": [
        {
          "output_type": "stream",
          "text": [
            "Validation Accuracy 0.813047138047138\n",
            "CPU times: user 40.8 s, sys: 195 ms, total: 41 s\n",
            "Wall time: 21.9 s\n"
          ],
          "name": "stdout"
        }
      ]
    },
    {
      "cell_type": "code",
      "metadata": {
        "id": "Ohs0KmQaFSVt",
        "colab_type": "code",
        "colab": {}
      },
      "source": [
        "a = y_pred\n",
        "b = ['functional' if i == 1 else 'non functional' if i == 2 else 'functional' for i in a]"
      ],
      "execution_count": 0,
      "outputs": []
    },
    {
      "cell_type": "code",
      "metadata": {
        "id": "XZvB2_LPG81-",
        "colab_type": "code",
        "colab": {}
      },
      "source": [
        "y_pred = b\n",
        "y_pred"
      ],
      "execution_count": 0,
      "outputs": []
    },
    {
      "cell_type": "code",
      "metadata": {
        "id": "d5Sq0GqZG_Re",
        "colab_type": "code",
        "colab": {}
      },
      "source": [
        ""
      ],
      "execution_count": 0,
      "outputs": []
    },
    {
      "cell_type": "code",
      "metadata": {
        "id": "6PmSRy5hEVIS",
        "colab_type": "code",
        "outputId": "4c692df8-9039-4671-cbbb-2374ef1064c4",
        "colab": {
          "base_uri": "https://localhost:8080/",
          "height": 34
        }
      },
      "source": [
        "y_pred = pipeline.predict(X_test) \n",
        "# make submission\n",
        "\n",
        "submission = test[['id']].copy()\n",
        "submission['status_group'] = y_pred\n",
        "# submission['status_group']\n",
        "submission.to_csv('waterpump-submission-21.csv', index=False)\n",
        "\n",
        "sub_df = pd.read_csv('/content/waterpump-submission-21.csv')\n",
        "\n",
        "sub_df.shape"
      ],
      "execution_count": 84,
      "outputs": [
        {
          "output_type": "execute_result",
          "data": {
            "text/plain": [
              "(14358, 2)"
            ]
          },
          "metadata": {
            "tags": []
          },
          "execution_count": 84
        }
      ]
    },
    {
      "cell_type": "code",
      "metadata": {
        "id": "B2LhF86IFAdt",
        "colab_type": "code",
        "colab": {}
      },
      "source": [
        "# convert integers in target column to strings for use in kaggle submission\n",
        "\n",
        "train['status_group'] = train['status_group'].replace('functional', 1)\n",
        "train['status_group'] = train['status_group'].replace('non functional', 2)\n",
        "train['status_group'] = train['status_group'].replace('functional needs repair', 3)\n",
        "\n"
      ],
      "execution_count": 0,
      "outputs": []
    },
    {
      "cell_type": "code",
      "metadata": {
        "id": "CCMKIbmRJFsy",
        "colab_type": "code",
        "outputId": "e1b2541c-91c4-4493-b8b9-36b3c1c1b252",
        "colab": {
          "base_uri": "https://localhost:8080/",
          "height": 54
        }
      },
      "source": [
        "y_pred"
      ],
      "execution_count": 0,
      "outputs": [
        {
          "output_type": "execute_result",
          "data": {
            "text/plain": [
              "array(['non functional', 'functional', 'functional', ..., 'functional',\n",
              "       'functional', 'non functional'], dtype=object)"
            ]
          },
          "metadata": {
            "tags": []
          },
          "execution_count": 150
        }
      ]
    },
    {
      "cell_type": "markdown",
      "metadata": {
        "id": "LKa49PxPCBfT",
        "colab_type": "text"
      },
      "source": [
        "Best hyperparameters {\n",
        "  'randomforestclassifier__max_depth': 40,\n",
        "  'randomforestclassifier__max_features': 0.08642105949487566,\n",
        "  'randomforestclassifier__n_estimators': 250, \n",
        "  'simpleimputer__strategy': 'most_frequent',\n",
        "  'targetencoder__min_samples_leaf': 285, \n",
        "  'targetencoder__smoothing': 310.8115391005846\n",
        "  }\n",
        "Cross-validation MAE -0.7939604377104377"
      ]
    },
    {
      "cell_type": "code",
      "metadata": {
        "id": "ls12gemmQxEH",
        "colab_type": "code",
        "outputId": "361df605-e44e-4daa-aec2-d98e06c2f226",
        "colab": {
          "base_uri": "https://localhost:8080/",
          "height": 1000
        }
      },
      "source": [
        "# Linear models have coefficients whereas decision trees have \"Feature Importances\"\n",
        "import matplotlib.pyplot as plt\n",
        "\n",
        "model = pipeline.named_steps['randomforestclassifier']\n",
        "encoder = pipeline.named_steps['ordinalencoder']\n",
        "encoded_columns = encoder.transform(X_val).columns\n",
        "importances = pd.Series(model.feature_importances_, encoded_columns)\n",
        "plt.figure(figsize=(10,30))\n",
        "importances.sort_values().plot.barh(color='grey')"
      ],
      "execution_count": 79,
      "outputs": [
        {
          "output_type": "execute_result",
          "data": {
            "text/plain": [
              "<matplotlib.axes._subplots.AxesSubplot at 0x7f19a4956358>"
            ]
          },
          "metadata": {
            "tags": []
          },
          "execution_count": 79
        },
        {
          "output_type": "display_data",
          "data": {
            "image/png": "[encoded data removed]",
            "text/plain": [
              "<Figure size 720x2160 with 1 Axes>"
            ]
          },
          "metadata": {
            "tags": []
          }
        }
      ]
    },
    {
      "cell_type": "code",
      "metadata": {
        "id": "ihR4PWHqQxIi",
        "colab_type": "code",
        "outputId": "8b56be97-c414-4183-e06f-992de9a05dd3",
        "colab": {
          "base_uri": "https://localhost:8080/",
          "height": 34
        }
      },
      "source": [
        "k = 3\n",
        "scores = cross_val_score(pipeline, X_train, y_train, cv=k, \n",
        "                         scoring='accuracy')\n",
        "print(f'MAE for {k} folds:', -scores)"
      ],
      "execution_count": 81,
      "outputs": [
        {
          "output_type": "stream",
          "text": [
            "MAE for 3 folds: [-0.80311829 -0.8071848  -0.79916661]\n"
          ],
          "name": "stdout"
        }
      ]
    },
    {
      "cell_type": "code",
      "metadata": {
        "id": "Ugd6fpUbQxNS",
        "colab_type": "code",
        "outputId": "a2d5790d-c64e-4425-f8c7-eb3b2aae5f10",
        "colab": {
          "base_uri": "https://localhost:8080/",
          "height": 34
        }
      },
      "source": [
        "-scores.mean()"
      ],
      "execution_count": 82,
      "outputs": [
        {
          "output_type": "execute_result",
          "data": {
            "text/plain": [
              "-0.8031565680729121"
            ]
          },
          "metadata": {
            "tags": []
          },
          "execution_count": 82
        }
      ]
    },
    {
      "cell_type": "code",
      "metadata": {
        "id": "SVjrpCLlQxRt",
        "colab_type": "code",
        "outputId": "d09096d2-7bae-4cc9-b12d-6585320da994",
        "colab": {
          "base_uri": "https://localhost:8080/",
          "height": 156
        }
      },
      "source": [
        "print('Model Hyperparameters:')\n",
        "print(pipeline.named_steps['randomforestclassifier'])"
      ],
      "execution_count": 83,
      "outputs": [
        {
          "output_type": "stream",
          "text": [
            "Model Hyperparameters:\n",
            "RandomForestClassifier(bootstrap=True, class_weight=None, criterion='gini',\n",
            "                       max_depth=None, max_features='auto', max_leaf_nodes=None,\n",
            "                       min_impurity_decrease=0.0, min_impurity_split=None,\n",
            "                       min_samples_leaf=2, min_samples_split=2,\n",
            "                       min_weight_fraction_leaf=0.0, n_estimators=210,\n",
            "                       n_jobs=-1, oob_score=False, random_state=42, verbose=0,\n",
            "                       warm_start=False)\n"
          ],
          "name": "stdout"
        }
      ]
    },
    {
      "cell_type": "code",
      "metadata": {
        "id": "IOuSKEPjQxWI",
        "colab_type": "code",
        "outputId": "0f795c87-70b4-42ba-a04a-33fd12e58d6b",
        "colab": {
          "base_uri": "https://localhost:8080/",
          "height": 595
        }
      },
      "source": [
        "%matplotlib inline\n",
        "pipeline = make_pipeline(\n",
        "    ce.OrdinalEncoder(), \n",
        "    SimpleImputer(), \n",
        "    RandomForestClassifier()\n",
        ")\n",
        "\n",
        "depth = range(1, 50, 3)\n",
        "train_scores, val_scores = validation_curve(\n",
        "    pipeline, X_train, y_train,\n",
        "    param_name='randomforestclassifier__max_depth', \n",
        "    param_range=depth, scoring='accuracy', \n",
        "    cv=3,\n",
        "    n_jobs=-1\n",
        ")\n",
        "\n",
        "plt.figure(dpi=150)\n",
        "plt.plot(depth, np.mean(-train_scores, axis=1), color='blue', label='training error')\n",
        "plt.plot(depth, np.mean(-val_scores, axis=1), color='red', label='validation error')\n",
        "plt.title('Validation Curve')\n",
        "plt.xlabel('model complexity: RandomForestClassifier max_depth')\n",
        "plt.ylabel('model score: Accuracy')\n",
        "plt.legend();"
      ],
      "execution_count": 0,
      "outputs": [
        {
          "output_type": "display_data",
          "data": {
            "image/png": "[encoded data removed]",
            "text/plain": [
              "<Figure size 900x600 with 1 Axes>"
            ]
          },
          "metadata": {
            "tags": []
          }
        }
      ]
    },
    {
      "cell_type": "code",
      "metadata": {
        "id": "MPugkjODQxfo",
        "colab_type": "code",
        "colab": {}
      },
      "source": [
        "y_pred = pipeline.predict(X_test) "
      ],
      "execution_count": 0,
      "outputs": []
    },
    {
      "cell_type": "code",
      "metadata": {
        "id": "Gv1J-yruQxkX",
        "colab_type": "code",
        "colab": {}
      },
      "source": [
        "# make submission\n",
        "\n",
        "submission = test[['id']].copy()\n",
        "submission['status_group'] = y_pred\n",
        "# submission['status_group']\n",
        "submission.to_csv('waterpump-submission-17.csv', index=False)"
      ],
      "execution_count": 0,
      "outputs": []
    },
    {
      "cell_type": "code",
      "metadata": {
        "id": "ei_QVxXNQxoe",
        "colab_type": "code",
        "colab": {}
      },
      "source": [
        "sub_df = pd.read_csv('/content/waterpump-submission-17.csv')"
      ],
      "execution_count": 0,
      "outputs": []
    },
    {
      "cell_type": "code",
      "metadata": {
        "id": "gX3YcoPmQxtP",
        "colab_type": "code",
        "outputId": "acc70a1b-f68f-4338-bdf7-834676fda7d9",
        "colab": {
          "base_uri": "https://localhost:8080/",
          "height": 35
        }
      },
      "source": [
        "sub_df.shape"
      ],
      "execution_count": 0,
      "outputs": [
        {
          "output_type": "execute_result",
          "data": {
            "text/plain": [
              "(14358, 2)"
            ]
          },
          "metadata": {
            "tags": []
          },
          "execution_count": 94
        }
      ]
    },
    {
      "cell_type": "code",
      "metadata": {
        "id": "BXsSa1KsQxxq",
        "colab_type": "code",
        "outputId": "02aaefa3-b35f-4e35-f251-f02b4616b5b8",
        "colab": {
          "base_uri": "https://localhost:8080/",
          "height": 1000
        }
      },
      "source": [
        "from scipy.stats import randint, uniform\n",
        "\n",
        "features = train.columns.drop(target)\n",
        "X_train = train[features]\n",
        "y_train = train[target]\n",
        "\n",
        "pipeline = make_pipeline(\n",
        "    ce.TargetEncoder(), \n",
        "    SimpleImputer(), \n",
        "    RandomForestClassifier(random_state=42)\n",
        ")\n",
        "\n",
        "param_distributions = {\n",
        "    'targetencoder__min_samples_leaf': randint(1, 1000), \n",
        "    'targetencoder__smoothing': uniform(1, 1000), \n",
        "    'simpleimputer__strategy': ['mean', 'median', 'most_frequent'], \n",
        "    'randomforestclassifier__n_estimators': range(50, 301, 50), \n",
        "    'randomforestclassifier__max_depth': [20, 30, 40, None], \n",
        "    'randomforestclassifier__max_features': uniform(0, 1), \n",
        "}\n",
        "\n",
        "# If you're on Colab, decrease n_iter & cv parameters\n",
        "search = RandomizedSearchCV(\n",
        "    pipeline, \n",
        "    param_distributions=param_distributions, \n",
        "    n_iter=10, \n",
        "    cv=3, \n",
        "    scoring='accuracy', \n",
        "    verbose=10, \n",
        "    return_train_score=True, \n",
        "    n_jobs=1\n",
        ")\n",
        "\n",
        "search.fit(X_train, y_train);"
      ],
      "execution_count": 0,
      "outputs": [
        {
          "output_type": "stream",
          "text": [
            "Fitting 3 folds for each of 10 candidates, totalling 30 fits\n",
            "[CV] randomforestclassifier__max_depth=30, randomforestclassifier__max_features=0.2861825260674927, randomforestclassifier__n_estimators=200, simpleimputer__strategy=mean, targetencoder__min_samples_leaf=183, targetencoder__smoothing=399.39180477915403 \n"
          ],
          "name": "stdout"
        },
        {
          "output_type": "stream",
          "text": [
            "[Parallel(n_jobs=1)]: Using backend SequentialBackend with 1 concurrent workers.\n"
          ],
          "name": "stderr"
        },
        {
          "output_type": "stream",
          "text": [
            "[CV]  randomforestclassifier__max_depth=30, randomforestclassifier__max_features=0.2861825260674927, randomforestclassifier__n_estimators=200, simpleimputer__strategy=mean, targetencoder__min_samples_leaf=183, targetencoder__smoothing=399.39180477915403, score=(train=0.999, test=0.772), total=  30.2s\n",
            "[CV] randomforestclassifier__max_depth=30, randomforestclassifier__max_features=0.2861825260674927, randomforestclassifier__n_estimators=200, simpleimputer__strategy=mean, targetencoder__min_samples_leaf=183, targetencoder__smoothing=399.39180477915403 \n"
          ],
          "name": "stdout"
        },
        {
          "output_type": "stream",
          "text": [
            "[Parallel(n_jobs=1)]: Done   1 out of   1 | elapsed:   32.5s remaining:    0.0s\n"
          ],
          "name": "stderr"
        },
        {
          "output_type": "stream",
          "text": [
            "[CV]  randomforestclassifier__max_depth=30, randomforestclassifier__max_features=0.2861825260674927, randomforestclassifier__n_estimators=200, simpleimputer__strategy=mean, targetencoder__min_samples_leaf=183, targetencoder__smoothing=399.39180477915403, score=(train=1.000, test=0.776), total=  29.6s\n",
            "[CV] randomforestclassifier__max_depth=30, randomforestclassifier__max_features=0.2861825260674927, randomforestclassifier__n_estimators=200, simpleimputer__strategy=mean, targetencoder__min_samples_leaf=183, targetencoder__smoothing=399.39180477915403 \n"
          ],
          "name": "stdout"
        },
        {
          "output_type": "stream",
          "text": [
            "[Parallel(n_jobs=1)]: Done   2 out of   2 | elapsed:  1.1min remaining:    0.0s\n"
          ],
          "name": "stderr"
        },
        {
          "output_type": "stream",
          "text": [
            "[CV]  randomforestclassifier__max_depth=30, randomforestclassifier__max_features=0.2861825260674927, randomforestclassifier__n_estimators=200, simpleimputer__strategy=mean, targetencoder__min_samples_leaf=183, targetencoder__smoothing=399.39180477915403, score=(train=0.999, test=0.776), total=  30.2s\n",
            "[CV] randomforestclassifier__max_depth=40, randomforestclassifier__max_features=0.6685045252187286, randomforestclassifier__n_estimators=300, simpleimputer__strategy=median, targetencoder__min_samples_leaf=859, targetencoder__smoothing=368.28684116593615 \n"
          ],
          "name": "stdout"
        },
        {
          "output_type": "stream",
          "text": [
            "[Parallel(n_jobs=1)]: Done   3 out of   3 | elapsed:  1.6min remaining:    0.0s\n"
          ],
          "name": "stderr"
        },
        {
          "output_type": "stream",
          "text": [
            "[CV]  randomforestclassifier__max_depth=40, randomforestclassifier__max_features=0.6685045252187286, randomforestclassifier__n_estimators=300, simpleimputer__strategy=median, targetencoder__min_samples_leaf=859, targetencoder__smoothing=368.28684116593615, score=(train=1.000, test=0.768), total= 1.6min\n",
            "[CV] randomforestclassifier__max_depth=40, randomforestclassifier__max_features=0.6685045252187286, randomforestclassifier__n_estimators=300, simpleimputer__strategy=median, targetencoder__min_samples_leaf=859, targetencoder__smoothing=368.28684116593615 \n"
          ],
          "name": "stdout"
        },
        {
          "output_type": "stream",
          "text": [
            "[Parallel(n_jobs=1)]: Done   4 out of   4 | elapsed:  3.3min remaining:    0.0s\n"
          ],
          "name": "stderr"
        },
        {
          "output_type": "stream",
          "text": [
            "[CV]  randomforestclassifier__max_depth=40, randomforestclassifier__max_features=0.6685045252187286, randomforestclassifier__n_estimators=300, simpleimputer__strategy=median, targetencoder__min_samples_leaf=859, targetencoder__smoothing=368.28684116593615, score=(train=1.000, test=0.772), total= 1.6min\n",
            "[CV] randomforestclassifier__max_depth=40, randomforestclassifier__max_features=0.6685045252187286, randomforestclassifier__n_estimators=300, simpleimputer__strategy=median, targetencoder__min_samples_leaf=859, targetencoder__smoothing=368.28684116593615 \n"
          ],
          "name": "stdout"
        },
        {
          "output_type": "stream",
          "text": [
            "[Parallel(n_jobs=1)]: Done   5 out of   5 | elapsed:  4.9min remaining:    0.0s\n"
          ],
          "name": "stderr"
        },
        {
          "output_type": "stream",
          "text": [
            "[CV]  randomforestclassifier__max_depth=40, randomforestclassifier__max_features=0.6685045252187286, randomforestclassifier__n_estimators=300, simpleimputer__strategy=median, targetencoder__min_samples_leaf=859, targetencoder__smoothing=368.28684116593615, score=(train=1.000, test=0.771), total= 1.6min\n",
            "[CV] randomforestclassifier__max_depth=None, randomforestclassifier__max_features=0.29741333090385347, randomforestclassifier__n_estimators=250, simpleimputer__strategy=mean, targetencoder__min_samples_leaf=858, targetencoder__smoothing=920.3785468685412 \n"
          ],
          "name": "stdout"
        },
        {
          "output_type": "stream",
          "text": [
            "[Parallel(n_jobs=1)]: Done   6 out of   6 | elapsed:  6.5min remaining:    0.0s\n"
          ],
          "name": "stderr"
        },
        {
          "output_type": "stream",
          "text": [
            "[CV]  randomforestclassifier__max_depth=None, randomforestclassifier__max_features=0.29741333090385347, randomforestclassifier__n_estimators=250, simpleimputer__strategy=mean, targetencoder__min_samples_leaf=858, targetencoder__smoothing=920.3785468685412, score=(train=1.000, test=0.772), total=  39.0s\n",
            "[CV] randomforestclassifier__max_depth=None, randomforestclassifier__max_features=0.29741333090385347, randomforestclassifier__n_estimators=250, simpleimputer__strategy=mean, targetencoder__min_samples_leaf=858, targetencoder__smoothing=920.3785468685412 \n"
          ],
          "name": "stdout"
        },
        {
          "output_type": "stream",
          "text": [
            "[Parallel(n_jobs=1)]: Done   7 out of   7 | elapsed:  7.2min remaining:    0.0s\n"
          ],
          "name": "stderr"
        },
        {
          "output_type": "stream",
          "text": [
            "[CV]  randomforestclassifier__max_depth=None, randomforestclassifier__max_features=0.29741333090385347, randomforestclassifier__n_estimators=250, simpleimputer__strategy=mean, targetencoder__min_samples_leaf=858, targetencoder__smoothing=920.3785468685412, score=(train=1.000, test=0.777), total=  39.1s\n",
            "[CV] randomforestclassifier__max_depth=None, randomforestclassifier__max_features=0.29741333090385347, randomforestclassifier__n_estimators=250, simpleimputer__strategy=mean, targetencoder__min_samples_leaf=858, targetencoder__smoothing=920.3785468685412 \n"
          ],
          "name": "stdout"
        },
        {
          "output_type": "stream",
          "text": [
            "[Parallel(n_jobs=1)]: Done   8 out of   8 | elapsed:  7.9min remaining:    0.0s\n"
          ],
          "name": "stderr"
        },
        {
          "output_type": "stream",
          "text": [
            "[CV]  randomforestclassifier__max_depth=None, randomforestclassifier__max_features=0.29741333090385347, randomforestclassifier__n_estimators=250, simpleimputer__strategy=mean, targetencoder__min_samples_leaf=858, targetencoder__smoothing=920.3785468685412, score=(train=1.000, test=0.776), total=  39.9s\n",
            "[CV] randomforestclassifier__max_depth=20, randomforestclassifier__max_features=0.6106816314094852, randomforestclassifier__n_estimators=250, simpleimputer__strategy=most_frequent, targetencoder__min_samples_leaf=11, targetencoder__smoothing=630.0490731967576 \n"
          ],
          "name": "stdout"
        },
        {
          "output_type": "stream",
          "text": [
            "[Parallel(n_jobs=1)]: Done   9 out of   9 | elapsed:  8.7min remaining:    0.0s\n"
          ],
          "name": "stderr"
        },
        {
          "output_type": "stream",
          "text": [
            "[CV]  randomforestclassifier__max_depth=20, randomforestclassifier__max_features=0.6106816314094852, randomforestclassifier__n_estimators=250, simpleimputer__strategy=most_frequent, targetencoder__min_samples_leaf=11, targetencoder__smoothing=630.0490731967576, score=(train=0.955, test=0.764), total= 1.1min\n",
            "[CV] randomforestclassifier__max_depth=20, randomforestclassifier__max_features=0.6106816314094852, randomforestclassifier__n_estimators=250, simpleimputer__strategy=most_frequent, targetencoder__min_samples_leaf=11, targetencoder__smoothing=630.0490731967576 \n",
            "[CV]  randomforestclassifier__max_depth=20, randomforestclassifier__max_features=0.6106816314094852, randomforestclassifier__n_estimators=250, simpleimputer__strategy=most_frequent, targetencoder__min_samples_leaf=11, targetencoder__smoothing=630.0490731967576, score=(train=0.952, test=0.770), total= 1.1min\n",
            "[CV] randomforestclassifier__max_depth=20, randomforestclassifier__max_features=0.6106816314094852, randomforestclassifier__n_estimators=250, simpleimputer__strategy=most_frequent, targetencoder__min_samples_leaf=11, targetencoder__smoothing=630.0490731967576 \n",
            "[CV]  randomforestclassifier__max_depth=20, randomforestclassifier__max_features=0.6106816314094852, randomforestclassifier__n_estimators=250, simpleimputer__strategy=most_frequent, targetencoder__min_samples_leaf=11, targetencoder__smoothing=630.0490731967576, score=(train=0.959, test=0.768), total= 1.1min\n",
            "[CV] randomforestclassifier__max_depth=30, randomforestclassifier__max_features=0.7027465146553514, randomforestclassifier__n_estimators=300, simpleimputer__strategy=mean, targetencoder__min_samples_leaf=252, targetencoder__smoothing=264.1768314336639 \n",
            "[CV]  randomforestclassifier__max_depth=30, randomforestclassifier__max_features=0.7027465146553514, randomforestclassifier__n_estimators=300, simpleimputer__strategy=mean, targetencoder__min_samples_leaf=252, targetencoder__smoothing=264.1768314336639, score=(train=0.999, test=0.767), total= 1.6min\n",
            "[CV] randomforestclassifier__max_depth=30, randomforestclassifier__max_features=0.7027465146553514, randomforestclassifier__n_estimators=300, simpleimputer__strategy=mean, targetencoder__min_samples_leaf=252, targetencoder__smoothing=264.1768314336639 \n",
            "[CV]  randomforestclassifier__max_depth=30, randomforestclassifier__max_features=0.7027465146553514, randomforestclassifier__n_estimators=300, simpleimputer__strategy=mean, targetencoder__min_samples_leaf=252, targetencoder__smoothing=264.1768314336639, score=(train=0.999, test=0.771), total= 1.6min\n",
            "[CV] randomforestclassifier__max_depth=30, randomforestclassifier__max_features=0.7027465146553514, randomforestclassifier__n_estimators=300, simpleimputer__strategy=mean, targetencoder__min_samples_leaf=252, targetencoder__smoothing=264.1768314336639 \n",
            "[CV]  randomforestclassifier__max_depth=30, randomforestclassifier__max_features=0.7027465146553514, randomforestclassifier__n_estimators=300, simpleimputer__strategy=mean, targetencoder__min_samples_leaf=252, targetencoder__smoothing=264.1768314336639, score=(train=1.000, test=0.770), total= 1.6min\n",
            "[CV] randomforestclassifier__max_depth=20, randomforestclassifier__max_features=0.9337305218835114, randomforestclassifier__n_estimators=150, simpleimputer__strategy=mean, targetencoder__min_samples_leaf=650, targetencoder__smoothing=409.98411448864204 \n",
            "[CV]  randomforestclassifier__max_depth=20, randomforestclassifier__max_features=0.9337305218835114, randomforestclassifier__n_estimators=150, simpleimputer__strategy=mean, targetencoder__min_samples_leaf=650, targetencoder__smoothing=409.98411448864204, score=(train=0.952, test=0.765), total= 1.0min\n",
            "[CV] randomforestclassifier__max_depth=20, randomforestclassifier__max_features=0.9337305218835114, randomforestclassifier__n_estimators=150, simpleimputer__strategy=mean, targetencoder__min_samples_leaf=650, targetencoder__smoothing=409.98411448864204 \n",
            "[CV]  randomforestclassifier__max_depth=20, randomforestclassifier__max_features=0.9337305218835114, randomforestclassifier__n_estimators=150, simpleimputer__strategy=mean, targetencoder__min_samples_leaf=650, targetencoder__smoothing=409.98411448864204, score=(train=0.951, test=0.769), total= 1.0min\n",
            "[CV] randomforestclassifier__max_depth=20, randomforestclassifier__max_features=0.9337305218835114, randomforestclassifier__n_estimators=150, simpleimputer__strategy=mean, targetencoder__min_samples_leaf=650, targetencoder__smoothing=409.98411448864204 \n",
            "[CV]  randomforestclassifier__max_depth=20, randomforestclassifier__max_features=0.9337305218835114, randomforestclassifier__n_estimators=150, simpleimputer__strategy=mean, targetencoder__min_samples_leaf=650, targetencoder__smoothing=409.98411448864204, score=(train=0.958, test=0.768), total= 1.0min\n",
            "[CV] randomforestclassifier__max_depth=40, randomforestclassifier__max_features=0.8861199338750493, randomforestclassifier__n_estimators=300, simpleimputer__strategy=mean, targetencoder__min_samples_leaf=466, targetencoder__smoothing=638.3664893728451 \n",
            "[CV]  randomforestclassifier__max_depth=40, randomforestclassifier__max_features=0.8861199338750493, randomforestclassifier__n_estimators=300, simpleimputer__strategy=mean, targetencoder__min_samples_leaf=466, targetencoder__smoothing=638.3664893728451, score=(train=1.000, test=0.765), total= 2.0min\n",
            "[CV] randomforestclassifier__max_depth=40, randomforestclassifier__max_features=0.8861199338750493, randomforestclassifier__n_estimators=300, simpleimputer__strategy=mean, targetencoder__min_samples_leaf=466, targetencoder__smoothing=638.3664893728451 \n",
            "[CV]  randomforestclassifier__max_depth=40, randomforestclassifier__max_features=0.8861199338750493, randomforestclassifier__n_estimators=300, simpleimputer__strategy=mean, targetencoder__min_samples_leaf=466, targetencoder__smoothing=638.3664893728451, score=(train=1.000, test=0.771), total= 2.1min\n",
            "[CV] randomforestclassifier__max_depth=40, randomforestclassifier__max_features=0.8861199338750493, randomforestclassifier__n_estimators=300, simpleimputer__strategy=mean, targetencoder__min_samples_leaf=466, targetencoder__smoothing=638.3664893728451 \n",
            "[CV]  randomforestclassifier__max_depth=40, randomforestclassifier__max_features=0.8861199338750493, randomforestclassifier__n_estimators=300, simpleimputer__strategy=mean, targetencoder__min_samples_leaf=466, targetencoder__smoothing=638.3664893728451, score=(train=1.000, test=0.770), total= 2.1min\n",
            "[CV] randomforestclassifier__max_depth=20, randomforestclassifier__max_features=0.8791790180944132, randomforestclassifier__n_estimators=250, simpleimputer__strategy=most_frequent, targetencoder__min_samples_leaf=264, targetencoder__smoothing=80.0381429338739 \n",
            "[CV]  randomforestclassifier__max_depth=20, randomforestclassifier__max_features=0.8791790180944132, randomforestclassifier__n_estimators=250, simpleimputer__strategy=most_frequent, targetencoder__min_samples_leaf=264, targetencoder__smoothing=80.0381429338739, score=(train=0.981, test=0.771), total= 1.5min\n",
            "[CV] randomforestclassifier__max_depth=20, randomforestclassifier__max_features=0.8791790180944132, randomforestclassifier__n_estimators=250, simpleimputer__strategy=most_frequent, targetencoder__min_samples_leaf=264, targetencoder__smoothing=80.0381429338739 \n",
            "[CV]  randomforestclassifier__max_depth=20, randomforestclassifier__max_features=0.8791790180944132, randomforestclassifier__n_estimators=250, simpleimputer__strategy=most_frequent, targetencoder__min_samples_leaf=264, targetencoder__smoothing=80.0381429338739, score=(train=0.982, test=0.775), total= 1.5min\n",
            "[CV] randomforestclassifier__max_depth=20, randomforestclassifier__max_features=0.8791790180944132, randomforestclassifier__n_estimators=250, simpleimputer__strategy=most_frequent, targetencoder__min_samples_leaf=264, targetencoder__smoothing=80.0381429338739 \n",
            "[CV]  randomforestclassifier__max_depth=20, randomforestclassifier__max_features=0.8791790180944132, randomforestclassifier__n_estimators=250, simpleimputer__strategy=most_frequent, targetencoder__min_samples_leaf=264, targetencoder__smoothing=80.0381429338739, score=(train=0.983, test=0.769), total= 1.5min\n",
            "[CV] randomforestclassifier__max_depth=40, randomforestclassifier__max_features=0.10483064643929485, randomforestclassifier__n_estimators=250, simpleimputer__strategy=median, targetencoder__min_samples_leaf=736, targetencoder__smoothing=85.48135947472069 \n",
            "[CV]  randomforestclassifier__max_depth=40, randomforestclassifier__max_features=0.10483064643929485, randomforestclassifier__n_estimators=250, simpleimputer__strategy=median, targetencoder__min_samples_leaf=736, targetencoder__smoothing=85.48135947472069, score=(train=1.000, test=0.790), total=  17.3s\n",
            "[CV] randomforestclassifier__max_depth=40, randomforestclassifier__max_features=0.10483064643929485, randomforestclassifier__n_estimators=250, simpleimputer__strategy=median, targetencoder__min_samples_leaf=736, targetencoder__smoothing=85.48135947472069 \n",
            "[CV]  randomforestclassifier__max_depth=40, randomforestclassifier__max_features=0.10483064643929485, randomforestclassifier__n_estimators=250, simpleimputer__strategy=median, targetencoder__min_samples_leaf=736, targetencoder__smoothing=85.48135947472069, score=(train=1.000, test=0.794), total=  17.2s\n",
            "[CV] randomforestclassifier__max_depth=40, randomforestclassifier__max_features=0.08642105949487566, randomforestclassifier__n_estimators=250, simpleimputer__strategy=most_frequent, targetencoder__min_samples_leaf=285, targetencoder__smoothing=310.8115391005846 \n",
            "[CV]  randomforestclassifier__max_depth=40, randomforestclassifier__max_features=0.08642105949487566, randomforestclassifier__n_estimators=250, simpleimputer__strategy=most_frequent, targetencoder__min_samples_leaf=285, targetencoder__smoothing=310.8115391005846, score=(train=1.000, test=0.792), total=  15.6s\n",
            "[CV] randomforestclassifier__max_depth=40, randomforestclassifier__max_features=0.08642105949487566, randomforestclassifier__n_estimators=250, simpleimputer__strategy=most_frequent, targetencoder__min_samples_leaf=285, targetencoder__smoothing=310.8115391005846 \n",
            "[CV]  randomforestclassifier__max_depth=40, randomforestclassifier__max_features=0.08642105949487566, randomforestclassifier__n_estimators=250, simpleimputer__strategy=most_frequent, targetencoder__min_samples_leaf=285, targetencoder__smoothing=310.8115391005846, score=(train=1.000, test=0.794), total=  15.6s\n",
            "[CV] randomforestclassifier__max_depth=40, randomforestclassifier__max_features=0.08642105949487566, randomforestclassifier__n_estimators=250, simpleimputer__strategy=most_frequent, targetencoder__min_samples_leaf=285, targetencoder__smoothing=310.8115391005846 \n",
            "[CV]  randomforestclassifier__max_depth=40, randomforestclassifier__max_features=0.08642105949487566, randomforestclassifier__n_estimators=250, simpleimputer__strategy=most_frequent, targetencoder__min_samples_leaf=285, targetencoder__smoothing=310.8115391005846, score=(train=1.000, test=0.797), total=  15.3s\n"
          ],
          "name": "stdout"
        },
        {
          "output_type": "stream",
          "text": [
            "[Parallel(n_jobs=1)]: Done  30 out of  30 | elapsed: 33.2min finished\n"
          ],
          "name": "stderr"
        }
      ]
    },
    {
      "cell_type": "code",
      "metadata": {
        "id": "UWok4IrDQx2F",
        "colab_type": "code",
        "outputId": "8289eb74-87cb-4a73-bc89-f1d7b6e1e5a9",
        "colab": {
          "base_uri": "https://localhost:8080/",
          "height": 74
        }
      },
      "source": [
        "print('Best hyperparameters', search.best_params_)\n",
        "print('Cross-validation accuracy score', -search.best_score_)"
      ],
      "execution_count": 0,
      "outputs": [
        {
          "output_type": "stream",
          "text": [
            "Best hyperparameters {'randomforestclassifier__max_depth': 40, 'randomforestclassifier__max_features': 0.08642105949487566, 'randomforestclassifier__n_estimators': 250, 'simpleimputer__strategy': 'most_frequent', 'targetencoder__min_samples_leaf': 285, 'targetencoder__smoothing': 310.8115391005846}\n",
            "Cross-validation accuracy score -0.7939604377104377\n"
          ],
          "name": "stdout"
        }
      ]
    },
    {
      "cell_type": "code",
      "metadata": {
        "id": "y4JCj-QHQx61",
        "colab_type": "code",
        "colab": {}
      },
      "source": [
        ""
      ],
      "execution_count": 0,
      "outputs": []
    },
    {
      "cell_type": "code",
      "metadata": {
        "id": "5GyKYOdrQx_k",
        "colab_type": "code",
        "colab": {}
      },
      "source": [
        ""
      ],
      "execution_count": 0,
      "outputs": []
    },
    {
      "cell_type": "code",
      "metadata": {
        "id": "xxn2S06VQyD_",
        "colab_type": "code",
        "colab": {}
      },
      "source": [
        ""
      ],
      "execution_count": 0,
      "outputs": []
    },
    {
      "cell_type": "code",
      "metadata": {
        "id": "Sz7ndqlEQyIH",
        "colab_type": "code",
        "colab": {}
      },
      "source": [
        ""
      ],
      "execution_count": 0,
      "outputs": []
    }
  ]
}