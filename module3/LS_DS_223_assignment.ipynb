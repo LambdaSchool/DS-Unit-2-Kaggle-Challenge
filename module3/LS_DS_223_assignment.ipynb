{
 "cells": [
  {
   "cell_type": "markdown",
   "metadata": {},
   "source": [
    "Lambda School Data Science\n",
    "\n",
    "*Unit 2, Sprint 2, Module 3*\n",
    "\n",
    "---"
   ]
  },
  {
   "cell_type": "markdown",
   "metadata": {},
   "source": [
    "# Cross-Validation\n",
    "\n",
    "\n",
    "## Assignment\n",
    "- [X] [Review requirements for your portfolio project](https://lambdaschool.github.io/ds/unit2), then submit your dataset.\n",
    "- [X] Continue to participate in our Kaggle challenge. \n",
    "- [ ] Use scikit-learn for hyperparameter optimization with RandomizedSearchCV.\n",
    "- [ ] Submit your predictions to our Kaggle competition. (Go to our Kaggle InClass competition webpage. Use the blue **Submit Predictions** button to upload your CSV file. Or you can use the Kaggle API to submit your predictions.)\n",
    "- [ ] Commit your notebook to your fork of the GitHub repo.\n",
    "\n",
    "\n",
    "You won't be able to just copy from the lesson notebook to this assignment.\n",
    "\n",
    "- Because the lesson was ***regression***, but the assignment is ***classification.***\n",
    "- Because the lesson used [TargetEncoder](https://contrib.scikit-learn.org/categorical-encoding/targetencoder.html), which doesn't work as-is for _multi-class_ classification.\n",
    "\n",
    "So you will have to adapt the example, which is good real-world practice.\n",
    "\n",
    "1. Use a model for classification, such as [RandomForestClassifier](https://scikit-learn.org/stable/modules/generated/sklearn.ensemble.RandomForestClassifier.html)\n",
    "2. Use hyperparameters that match the classifier, such as `randomforestclassifier__ ...`\n",
    "3. Use a metric for classification, such as [`scoring='accuracy'`](https://scikit-learn.org/stable/modules/model_evaluation.html#common-cases-predefined-values)\n",
    "4. If you’re doing a multi-class classification problem — such as whether a waterpump is functional, functional needs repair, or nonfunctional — then use a categorical encoding that works for multi-class classification, such as [OrdinalEncoder](https://contrib.scikit-learn.org/categorical-encoding/ordinal.html) (not [TargetEncoder](https://contrib.scikit-learn.org/categorical-encoding/targetencoder.html))\n",
    "\n",
    "\n",
    "\n",
    "## Stretch Goals\n",
    "\n",
    "### Reading\n",
    "- Jake VanderPlas, [Python Data Science Handbook, Chapter 5.3](https://jakevdp.github.io/PythonDataScienceHandbook/05.03-hyperparameters-and-model-validation.html), Hyperparameters and Model Validation\n",
    "- Jake VanderPlas, [Statistics for Hackers](https://speakerdeck.com/jakevdp/statistics-for-hackers?slide=107)\n",
    "- Ron Zacharski, [A Programmer's Guide to Data Mining, Chapter 5](http://guidetodatamining.com/chapter5/), 10-fold cross validation\n",
    "- Sebastian Raschka, [A Basic Pipeline and Grid Search Setup](https://github.com/rasbt/python-machine-learning-book/blob/master/code/bonus/svm_iris_pipeline_and_gridsearch.ipynb)\n",
    "- Peter Worcester, [A Comparison of Grid Search and Randomized Search Using Scikit Learn](https://blog.usejournal.com/a-comparison-of-grid-search-and-randomized-search-using-scikit-learn-29823179bc85)\n",
    "\n",
    "### Doing\n",
    "- Add your own stretch goals!\n",
    "- Try other [categorical encodings](https://contrib.scikit-learn.org/categorical-encoding/). See the previous assignment notebook for details.\n",
    "- In additon to `RandomizedSearchCV`, scikit-learn has [`GridSearchCV`](https://scikit-learn.org/stable/modules/generated/sklearn.model_selection.GridSearchCV.html). Another library called scikit-optimize has [`BayesSearchCV`](https://scikit-optimize.github.io/notebooks/sklearn-gridsearchcv-replacement.html). Experiment with these alternatives.\n",
    "- _[Introduction to Machine Learning with Python](http://shop.oreilly.com/product/0636920030515.do)_ discusses options for \"Grid-Searching Which Model To Use\" in Chapter 6:\n",
    "\n",
    "> You can even go further in combining GridSearchCV and Pipeline: it is also possible to search over the actual steps being performed in the pipeline (say whether to use StandardScaler or MinMaxScaler). This leads to an even bigger search space and should be considered carefully. Trying all possible solutions is usually not a viable machine learning strategy. However, here is an example comparing a RandomForestClassifier and an SVC ...\n",
    "\n",
    "The example is shown in [the accompanying notebook](https://github.com/amueller/introduction_to_ml_with_python/blob/master/06-algorithm-chains-and-pipelines.ipynb), code cells 35-37. Could you apply this concept to your own pipelines?\n"
   ]
  },
  {
   "cell_type": "markdown",
   "metadata": {},
   "source": [
    "### BONUS: Stacking!\n",
    "\n",
    "Here's some code you can use to \"stack\" multiple submissions, which is another form of ensembling:\n",
    "\n",
    "```python\n",
    "import pandas as pd\n",
    "\n",
    "# Filenames of your submissions you want to ensemble\n",
    "files = ['submission-01.csv', 'submission-02.csv', 'submission-03.csv']\n",
    "\n",
    "target = 'status_group'\n",
    "submissions = (pd.read_csv(file)[[target]] for file in files)\n",
    "ensemble = pd.concat(submissions, axis='columns')\n",
    "majority_vote = ensemble.mode(axis='columns')[0]\n",
    "\n",
    "sample_submission = pd.read_csv('sample_submission.csv')\n",
    "submission = sample_submission.copy()\n",
    "submission[target] = majority_vote\n",
    "submission.to_csv('my-ultimate-ensemble-submission.csv', index=False)\n",
    "```"
   ]
  },
  {
   "cell_type": "code",
   "execution_count": 1,
   "metadata": {},
   "outputs": [],
   "source": [
    "%%capture\n",
    "import sys\n",
    "\n",
    "# If you're on Colab:\n",
    "if 'google.colab' in sys.modules:\n",
    "    DATA_PATH = 'https://raw.githubusercontent.com/LambdaSchool/DS-Unit-2-Kaggle-Challenge/master/data/'\n",
    "    !pip install category_encoders==2.*\n",
    "\n",
    "# If you're working locally:\n",
    "else:\n",
    "    DATA_PATH = '../data/'"
   ]
  },
  {
   "cell_type": "code",
   "execution_count": 4,
   "metadata": {},
   "outputs": [],
   "source": [
    "# imports\n",
    "import pandas as pd\n",
    "import numpy as np\n",
    "\n",
    "# Merge train_features.csv & train_labels.csv\n",
    "train = pd.merge(pd.read_csv(DATA_PATH+'waterpumps/train_features.csv'), \n",
    "                 pd.read_csv(DATA_PATH+'waterpumps/train_labels.csv'))\n",
    "\n",
    "# Read test_features.csv & sample_submission.csv\n",
    "test = pd.read_csv(DATA_PATH+'waterpumps/test_features.csv')\n",
    "sample_submission = pd.read_csv(DATA_PATH+'waterpumps/sample_submission.csv')"
   ]
  },
  {
   "cell_type": "code",
   "execution_count": 29,
   "metadata": {},
   "outputs": [],
   "source": [
    "def wrangle(X):\n",
    "  '''Wrangle train, validate, and test sets in the same way'''\n",
    "  \n",
    "  # Prevent SettingWithCopy Warning\n",
    "  X = X.copy()\n",
    "\n",
    "  # Replace near-zero outlier latitude values with zero\n",
    "  X['latitude'] = X['latitude'].replace(-2e-08, 0)\n",
    "\n",
    "  # For columns with zeros in place of NaNs, input NaNs\n",
    "  cols_with_zeros = ['longitude', 'latitude', 'construction_year',\n",
    "                     'population', 'gps_height']\n",
    "  for col in cols_with_zeros:\n",
    "    X[col] = X[col].replace(0, np.nan)\n",
    "    X[col+'_MISSING'] = X[col].isnull()\n",
    "\n",
    "  # Remove duplicate columns\n",
    "  duplicates = ['quantity_group', 'waterpoint_type_group', 'quality_group',\n",
    "                'payment_type', 'extraction_type_group', 'extraction_type']\n",
    "  X = X.drop(columns=duplicates)\n",
    "\n",
    "  # Remove constant & constantly varied columns\n",
    "  unusable_variance = ['recorded_by', 'id']\n",
    "  X = X.drop(columns=unusable_variance)\n",
    "\n",
    "  # Convert date_recorded to datetime\n",
    "  X['date_recorded'] = pd.to_datetime(X['date_recorded'], infer_datetime_format=True)\n",
    "\n",
    "  # Extract components from date_recorded and drop date_recorded column\n",
    "  X['year_recorded'] = X['date_recorded'].dt.year\n",
    "  X['month_recorded'] = X['date_recorded'].dt.month\n",
    "  X['day_recorded'] = X['date_recorded'].dt.day\n",
    "  X = X.drop(columns=['date_recorded'])\n",
    "\n",
    "  # Engineer feature: years from construction_year to date_recorded\n",
    "  X['years'] = X['year_recorded'] - X['construction_year']\n",
    "  X['years_MISSING'] = X['years'].isnull()\n",
    "\n",
    "\n",
    "\n",
    "  # return wrangled dataframe\n",
    "  return X\n",
    "\n",
    "train_wrangled = wrangle(train)\n",
    "test_wrangled = wrangle(test)"
   ]
  },
  {
   "cell_type": "code",
   "execution_count": 15,
   "metadata": {},
   "outputs": [],
   "source": [
    "# Arrange data into X features matrix and y target vector\n",
    "target = 'status_group'\n",
    "X_train = train_wrangled.drop(columns=target)\n",
    "y_train = train_wrangled[target]\n",
    "X_test = test_wrangled"
   ]
  },
  {
   "cell_type": "code",
   "execution_count": 16,
   "metadata": {},
   "outputs": [
    {
     "name": "stdout",
     "output_type": "stream",
     "text": [
      "Fitting 3 folds for each of 12 candidates, totalling 36 fits\n"
     ]
    },
    {
     "name": "stderr",
     "output_type": "stream",
     "text": [
      "[Parallel(n_jobs=-1)]: Using backend LokyBackend with 4 concurrent workers.\n",
      "[Parallel(n_jobs=-1)]: Done   5 tasks      | elapsed:  1.8min\n",
      "[Parallel(n_jobs=-1)]: Done  10 tasks      | elapsed:  3.6min\n",
      "[Parallel(n_jobs=-1)]: Done  17 tasks      | elapsed:  6.5min\n",
      "[Parallel(n_jobs=-1)]: Done  24 tasks      | elapsed: 14.3min\n",
      "[Parallel(n_jobs=-1)]: Done  33 out of  36 | elapsed: 18.7min remaining:  1.7min\n",
      "[Parallel(n_jobs=-1)]: Done  36 out of  36 | elapsed: 19.3min finished\n"
     ]
    },
    {
     "data": {
      "text/plain": [
       "RandomizedSearchCV(cv=3, error_score='raise-deprecating',\n",
       "                   estimator=Pipeline(memory=None,\n",
       "                                      steps=[('ordinalencoder',\n",
       "                                              OrdinalEncoder(cols=None,\n",
       "                                                             drop_invariant=False,\n",
       "                                                             handle_missing='value',\n",
       "                                                             handle_unknown='value',\n",
       "                                                             mapping=None,\n",
       "                                                             return_df=True,\n",
       "                                                             verbose=0)),\n",
       "                                             ('simpleimputer',\n",
       "                                              SimpleImputer(add_indicator=False,\n",
       "                                                            copy=True,\n",
       "                                                            fill_value=None,\n",
       "                                                            missing_values=nan,\n",
       "                                                            strategy='...\n",
       "                                        'randomforestclassifier__min_samples_leaf': <scipy.stats._distn_infrastructure.rv_frozen object at 0x1a31cf3c90>,\n",
       "                                        'randomforestclassifier__n_estimators': <scipy.stats._distn_infrastructure.rv_frozen object at 0x1a31cf3990>,\n",
       "                                        'simpleimputer__strategy': ['mean',\n",
       "                                                                    'median']},\n",
       "                   pre_dispatch='2*n_jobs', random_state=7, refit=True,\n",
       "                   return_train_score=True, scoring='accuracy', verbose=10)"
      ]
     },
     "execution_count": 16,
     "metadata": {},
     "output_type": "execute_result"
    }
   ],
   "source": [
    "# Imports for pipeline and randomsearch\n",
    "from sklearn.pipeline import make_pipeline\n",
    "import category_encoders as ce \n",
    "from sklearn.impute import SimpleImputer\n",
    "from sklearn.ensemble import RandomForestClassifier\n",
    "from sklearn.model_selection import RandomizedSearchCV\n",
    "from scipy.stats import randint, uniform\n",
    "\n",
    "pipeline = make_pipeline(\n",
    "    ce.OrdinalEncoder(),\n",
    "    SimpleImputer(),\n",
    "    RandomForestClassifier()\n",
    ")\n",
    "\n",
    "param_distributions = {\n",
    "    'simpleimputer__strategy': ['mean', 'median'],\n",
    "    'randomforestclassifier__n_estimators': randint(100, 500),\n",
    "    'randomforestclassifier__criterion': ['entropy', 'gini'],\n",
    "    'randomforestclassifier__min_samples_leaf': randint(1, 100),\n",
    "    'randomforestclassifier__max_features': uniform(0, 1)\n",
    "}\n",
    "\n",
    "search = RandomizedSearchCV(\n",
    "    pipeline,\n",
    "    param_distributions=param_distributions,\n",
    "    n_iter=10,\n",
    "    cv=3,\n",
    "    scoring='accuracy',\n",
    "    verbose=10,\n",
    "    return_train_score=True,\n",
    "    n_jobs=-1,\n",
    "    random_state=7\n",
    ")\n",
    "\n",
    "search.fit(X_train, y_train);"
   ]
  },
  {
   "cell_type": "code",
   "execution_count": 17,
   "metadata": {},
   "outputs": [
    {
     "name": "stdout",
     "output_type": "stream",
     "text": [
      "Best hyperparameters: {'randomforestclassifier__criterion': 'entropy', 'randomforestclassifier__max_features': 0.6792299961209405, 'randomforestclassifier__min_samples_leaf': 8, 'randomforestclassifier__n_estimators': 100, 'simpleimputer__strategy': 'median'}\n",
      "Cross-validation MAE 0.8011279461279461\n"
     ]
    }
   ],
   "source": [
    "print('Best hyperparameters:', search.best_params_)\n",
    "print('Cross-validation MAE', search.best_score_)"
   ]
  },
  {
   "cell_type": "code",
   "execution_count": 34,
   "metadata": {},
   "outputs": [],
   "source": [
    "# Generate test prediction\n",
    "pipeline = search.best_estimator_\n",
    "y_pred = pipeline.predict(X_test)\n",
    "\n",
    "# Generate Kaggle submission csv\n",
    "\n",
    "submission = sample_submission.copy()\n",
    "submission['status_group'] = y_pred\n",
    "submission.to_csv('lori_wednesday.csv', index=False)\n",
    "\n",
    "# from google.colab import files\n",
    "# files.download('lori_wednesday.csv')"
   ]
  },
  {
   "cell_type": "code",
   "execution_count": null,
   "metadata": {},
   "outputs": [],
   "source": []
  }
 ],
 "metadata": {
  "kernelspec": {
   "display_name": "Python 3",
   "language": "python",
   "name": "python3"
  },
  "language_info": {
   "codemirror_mode": {
    "name": "ipython",
    "version": 3
   },
   "file_extension": ".py",
   "mimetype": "text/x-python",
   "name": "python",
   "nbconvert_exporter": "python",
   "pygments_lexer": "ipython3",
   "version": "3.7.4"
  }
 },
 "nbformat": 4,
 "nbformat_minor": 4
}
