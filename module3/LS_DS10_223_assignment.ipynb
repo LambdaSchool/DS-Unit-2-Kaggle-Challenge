{
 "cells": [
  {
   "cell_type": "markdown",
   "metadata": {
    "colab_type": "text",
    "id": "view-in-github"
   },
   "source": [
    "<a href=\"https://colab.research.google.com/github/Okocha76/DS-Unit-2-Kaggle-Challenge/blob/master/module3/LS_DS10_223_assignment.ipynb\" target=\"_parent\"><img src=\"https://colab.research.google.com/assets/colab-badge.svg\" alt=\"Open In Colab\"/></a>"
   ]
  },
  {
   "cell_type": "markdown",
   "metadata": {
    "colab_type": "text",
    "id": "-ZWr3wajeTd7"
   },
   "source": [
    "Lambda School Data Science\n",
    "\n",
    "*Unit 2, Sprint 2, Module 3*\n",
    "\n",
    "---"
   ]
  },
  {
   "cell_type": "markdown",
   "metadata": {
    "colab_type": "text",
    "id": "gfboGdVMeTd-"
   },
   "source": [
    "# Cross-Validation\n",
    "\n",
    "\n",
    "## Assignment\n",
    "- [ ] [Review requirements for your portfolio project](https://lambdaschool.github.io/ds/unit2), then submit your dataset.\n",
    "- [ ] Continue to participate in our Kaggle challenge. \n",
    "- [ ] Use scikit-learn for hyperparameter optimization with RandomizedSearchCV.\n",
    "- [ ] Submit your predictions to our Kaggle competition. (Go to our Kaggle InClass competition webpage. Use the blue **Submit Predictions** button to upload your CSV file. Or you can use the Kaggle API to submit your predictions.)\n",
    "- [ ] Commit your notebook to your fork of the GitHub repo.\n",
    "\n",
    "\n",
    "You won't be able to just copy from the lesson notebook to this assignment.\n",
    "\n",
    "- Because the lesson was ***regression***, but the assignment is ***classification.***\n",
    "- Because the lesson used [TargetEncoder](https://contrib.scikit-learn.org/categorical-encoding/targetencoder.html), which doesn't work as-is for _multi-class_ classification.\n",
    "\n",
    "So you will have to adapt the example, which is good real-world practice.\n",
    "\n",
    "1. Use a model for classification, such as [RandomForestClassifier](https://scikit-learn.org/stable/modules/generated/sklearn.ensemble.RandomForestClassifier.html)\n",
    "2. Use hyperparameters that match the classifier, such as `randomforestclassifier__ ...`\n",
    "3. Use a metric for classification, such as [`scoring='accuracy'`](https://scikit-learn.org/stable/modules/model_evaluation.html#common-cases-predefined-values)\n",
    "4. If you’re doing a multi-class classification problem — such as whether a waterpump is functional, functional needs repair, or nonfunctional — then use a categorical encoding that works for multi-class classification, such as [OrdinalEncoder](https://contrib.scikit-learn.org/categorical-encoding/ordinal.html) (not [TargetEncoder](https://contrib.scikit-learn.org/categorical-encoding/targetencoder.html))\n",
    "\n",
    "\n",
    "\n",
    "## Stretch Goals\n",
    "\n",
    "### Reading\n",
    "- Jake VanderPlas, [Python Data Science Handbook, Chapter 5.3](https://jakevdp.github.io/PythonDataScienceHandbook/05.03-hyperparameters-and-model-validation.html), Hyperparameters and Model Validation\n",
    "- Jake VanderPlas, [Statistics for Hackers](https://speakerdeck.com/jakevdp/statistics-for-hackers?slide=107)\n",
    "- Ron Zacharski, [A Programmer's Guide to Data Mining, Chapter 5](http://guidetodatamining.com/chapter5/), 10-fold cross validation\n",
    "- Sebastian Raschka, [A Basic Pipeline and Grid Search Setup](https://github.com/rasbt/python-machine-learning-book/blob/master/code/bonus/svm_iris_pipeline_and_gridsearch.ipynb)\n",
    "- Peter Worcester, [A Comparison of Grid Search and Randomized Search Using Scikit Learn](https://blog.usejournal.com/a-comparison-of-grid-search-and-randomized-search-using-scikit-learn-29823179bc85)\n",
    "\n",
    "### Doing\n",
    "- Add your own stretch goals!\n",
    "- Try other [categorical encodings](https://contrib.scikit-learn.org/categorical-encoding/). See the previous assignment notebook for details.\n",
    "- In additon to `RandomizedSearchCV`, scikit-learn has [`GridSearchCV`](https://scikit-learn.org/stable/modules/generated/sklearn.model_selection.GridSearchCV.html). Another library called scikit-optimize has [`BayesSearchCV`](https://scikit-optimize.github.io/notebooks/sklearn-gridsearchcv-replacement.html). Experiment with these alternatives.\n",
    "- _[Introduction to Machine Learning with Python](http://shop.oreilly.com/product/0636920030515.do)_ discusses options for \"Grid-Searching Which Model To Use\" in Chapter 6:\n",
    "\n",
    "> You can even go further in combining GridSearchCV and Pipeline: it is also possible to search over the actual steps being performed in the pipeline (say whether to use StandardScaler or MinMaxScaler). This leads to an even bigger search space and should be considered carefully. Trying all possible solutions is usually not a viable machine learning strategy. However, here is an example comparing a RandomForestClassifier and an SVC ...\n",
    "\n",
    "The example is shown in [the accompanying notebook](https://github.com/amueller/introduction_to_ml_with_python/blob/master/06-algorithm-chains-and-pipelines.ipynb), code cells 35-37. Could you apply this concept to your own pipelines?\n"
   ]
  },
  {
   "cell_type": "markdown",
   "metadata": {
    "colab_type": "text",
    "id": "dlFrDWrkeTd_"
   },
   "source": [
    "### BONUS: Stacking!\n",
    "\n",
    "Here's some code you can use to \"stack\" multiple submissions, which is another form of ensembling:\n",
    "\n",
    "```python\n",
    "import pandas as pd\n",
    "\n",
    "# Filenames of your submissions you want to ensemble\n",
    "files = ['submission-01.csv', 'submission-02.csv', 'submission-03.csv']\n",
    "\n",
    "target = 'status_group'\n",
    "submissions = (pd.read_csv(file)[[target]] for file in files)\n",
    "ensemble = pd.concat(submissions, axis='columns')\n",
    "majority_vote = ensemble.mode(axis='columns')[0]\n",
    "\n",
    "sample_submission = pd.read_csv('sample_submission.csv')\n",
    "submission = sample_submission.copy()\n",
    "submission[target] = majority_vote\n",
    "submission.to_csv('my-ultimate-ensemble-submission.csv', index=False)\n",
    "```"
   ]
  },
  {
   "cell_type": "code",
   "execution_count": 2,
   "metadata": {
    "colab": {},
    "colab_type": "code",
    "id": "aZF1lWoaeTeB"
   },
   "outputs": [],
   "source": [
    "%%capture\n",
    "import sys\n",
    "\n",
    "# If you're on Colab:\n",
    "if 'google.colab' in sys.modules:\n",
    "    DATA_PATH = 'https://raw.githubusercontent.com/LambdaSchool/DS-Unit-2-Kaggle-Challenge/master/data/'\n",
    "    !pip install category_encoders==2.*\n",
    "\n",
    "# If you're working locally:\n",
    "else:\n",
    "    DATA_PATH = '../data/'"
   ]
  },
  {
   "cell_type": "code",
   "execution_count": 13,
   "metadata": {
    "colab": {},
    "colab_type": "code",
    "id": "aQBJnPXpeTeI"
   },
   "outputs": [],
   "source": [
    "import pandas as pd\n",
    "\n",
    "# Merge train_features.csv & train_labels.csv\n",
    "train = pd.merge(pd.read_csv(DATA_PATH+'waterpumps/train_features.csv'), \n",
    "                 pd.read_csv(DATA_PATH+'waterpumps/train_labels.csv'))\n",
    "\n",
    "# Read test_features.csv & sample_submission.csv\n",
    "test = pd.read_csv(DATA_PATH+'waterpumps/test_features.csv')\n",
    "sample_submission = pd.read_csv(DATA_PATH+'waterpumps/sample_submission.csv')"
   ]
  },
  {
   "cell_type": "markdown",
   "metadata": {
    "colab_type": "text",
    "id": "3doB1Gq0i6au"
   },
   "source": [
    "## Define a function to wrangle train, validate, and test sets in the same way. Clean outliers and engineer features."
   ]
  },
  {
   "cell_type": "code",
   "execution_count": 22,
   "metadata": {
    "colab": {},
    "colab_type": "code",
    "id": "WXyMnfMXZklH"
   },
   "outputs": [],
   "source": [
    "import numpy as np\n",
    "\n",
    "def wrangle(X):\n",
    "    \"\"\"Wrangle train, validate, and test sets in the same way\"\"\"\n",
    "    \n",
    "    # Prevent SettingWithCopyWarning\n",
    "    X = X.copy()\n",
    "    \n",
    "    # About 3% of the time, latitude has small values near zero,\n",
    "    # outside Tanzania, so we'll treat these values like zero.\n",
    "    X['latitude'] = X['latitude'].replace(-2e-08, 0)\n",
    "    \n",
    "    # When columns have zeros and shouldn't, they are like null values.\n",
    "    # So we will replace the zeros with nulls, and impute missing values later.\n",
    "    cols_with_zeros = ['longitude', 'latitude', 'construction_year',\n",
    "                       'gps_height','population','amount_tsh']\n",
    "    for col in cols_with_zeros:\n",
    "        X[col] = X[col].replace(0, np.nan)\n",
    "        X[col+'_MISSING'] = X[col].isnull()\n",
    "    \n",
    "    # Approximate distance from 'Null Island'\n",
    "    X['distance'] = ((X['latitude']+10.99846435)**2 + (X['longitude']-19.6071219)**2)**.5\n",
    "\n",
    "    # Convert to datetime and create year_ month_ & day_recorded\n",
    "    X['date_recorded'] = pd.to_datetime(X['date_recorded'], infer_datetime_format=True)\n",
    "    X['year_recorded'] = X['date_recorded'].dt.year\n",
    "    X['month_recorded'] = X['date_recorded'].dt.month\n",
    "    X['day_recorded'] = X['date_recorded'].dt.day\n",
    "    X = X.drop(columns='date_recorded')\n",
    "\n",
    "    # Engineer feature: how many years from construction_year to date_recorded\n",
    "    X['years'] = X['year_recorded'] - X['construction_year']\n",
    "    X['years_MISSING'] = X['years'].isnull()\n",
    "\n",
    "    # region_code & district_code are numeric columns, but should be categorical features,\n",
    "    # so convert it from a number to a string\n",
    "    X['region_code'] = X['region_code'].astype(str)\n",
    "    X['district_code'] = X['district_code'].astype(str)\n",
    "        \n",
    "    # quantity & quantity_group are duplicates, so drop one\n",
    "    X = X.drop(columns='quantity_group')\n",
    "    \n",
    "    # source, source_class & source_type are almost identical. \n",
    "    # source has higher level of detail.\n",
    "    X = X.drop(columns=['source_class','source_type'])\n",
    "\n",
    "    # recorded_by has single value, so drop.\n",
    "    X = X.drop(columns='recorded_by')\n",
    "\n",
    "    X = X.drop(columns='id')\n",
    "\n",
    "    # water_quality & quality_group are almost identical. \n",
    "    # water_quality has higher level of detail.\n",
    "    X = X.drop(columns='quality_group')\n",
    "\n",
    "    # waterpoint_type & waterpoint_type_group are almost identical. \n",
    "    # waterpoint_type has higher level of detail.\n",
    "    X = X.drop(columns='waterpoint_type_group')\n",
    "\n",
    "    # payment & payment_type are duplicates, so drop one\n",
    "    X = X.drop(columns='payment_type')\n",
    "\n",
    "    # extraction_type, extraction_type_class & extraction_type_group are almost identical. \n",
    "    # extraction_type has higher level of detail.\n",
    "    X = X.drop(columns=['extraction_type_class','extraction_type_group'])\n",
    "\n",
    "    # installer & funder are almost identical. \n",
    "    # funder has higher level of detail.\n",
    "    X = X.drop(columns='installer')     \n",
    "    \n",
    "    # management & management_group are almost identical. \n",
    "    # management has higher level of detail.\n",
    "    X = X.drop(columns='management_group') \n",
    "\n",
    "    # region_code & region are almost identical. \n",
    "    # region_code has higher level of detail.\n",
    "    X = X.drop(columns='region') \n",
    "\n",
    "    # return the wrangled dataframe\n",
    "    return X\n",
    "\n",
    "train = wrangle(train)\n",
    "test = wrangle(test)"
   ]
  },
  {
   "cell_type": "markdown",
   "metadata": {
    "colab_type": "text",
    "id": "xiQBZp_zz8Zh"
   },
   "source": [
    "## Use scikit-learn for hyperparameter optimization with RandomizedSearchCV."
   ]
  },
  {
   "cell_type": "code",
   "execution_count": 5,
   "metadata": {},
   "outputs": [
    {
     "name": "stdout",
     "output_type": "stream",
     "text": [
      "Requirement already satisfied: category_encoders in c:\\users\\jj\\anaconda3\\lib\\site-packages (2.1.0)\n",
      "Requirement already satisfied: scipy>=0.19.0 in c:\\users\\jj\\anaconda3\\lib\\site-packages (from category_encoders) (1.3.1)\n",
      "Requirement already satisfied: numpy>=1.11.3 in c:\\users\\jj\\anaconda3\\lib\\site-packages (from category_encoders) (1.16.5)\n",
      "Requirement already satisfied: statsmodels>=0.6.1 in c:\\users\\jj\\anaconda3\\lib\\site-packages (from category_encoders) (0.10.1)\n",
      "Requirement already satisfied: patsy>=0.4.1 in c:\\users\\jj\\anaconda3\\lib\\site-packages (from category_encoders) (0.5.1)\n",
      "Requirement already satisfied: pandas>=0.21.1 in c:\\users\\jj\\anaconda3\\lib\\site-packages (from category_encoders) (0.25.1)\n",
      "Requirement already satisfied: scikit-learn>=0.20.0 in c:\\users\\jj\\anaconda3\\lib\\site-packages (from category_encoders) (0.21.3)\n",
      "Requirement already satisfied: six in c:\\users\\jj\\anaconda3\\lib\\site-packages (from patsy>=0.4.1->category_encoders) (1.12.0)\n",
      "Requirement already satisfied: pytz>=2017.2 in c:\\users\\jj\\anaconda3\\lib\\site-packages (from pandas>=0.21.1->category_encoders) (2019.3)\n",
      "Requirement already satisfied: python-dateutil>=2.6.1 in c:\\users\\jj\\anaconda3\\lib\\site-packages (from pandas>=0.21.1->category_encoders) (2.8.0)\n",
      "Requirement already satisfied: joblib>=0.11 in c:\\users\\jj\\anaconda3\\lib\\site-packages (from scikit-learn>=0.20.0->category_encoders) (0.13.2)\n",
      "Note: you may need to restart the kernel to use updated packages.\n"
     ]
    }
   ],
   "source": [
    "pip install category_encoders"
   ]
  },
  {
   "cell_type": "code",
   "execution_count": 6,
   "metadata": {
    "colab": {},
    "colab_type": "code",
    "id": "VA5z3Wy6eTeN"
   },
   "outputs": [],
   "source": [
    "import category_encoders as ce\n",
    "from sklearn.impute import SimpleImputer\n",
    "from sklearn.model_selection import cross_val_score\n",
    "from sklearn.pipeline import make_pipeline\n",
    "from sklearn.ensemble import RandomForestClassifier\n",
    "from sklearn.model_selection import RandomizedSearchCV\n",
    "from scipy.stats import randint, uniform"
   ]
  },
  {
   "cell_type": "code",
   "execution_count": 7,
   "metadata": {
    "colab": {
     "base_uri": "https://localhost:8080/",
     "height": 67
    },
    "colab_type": "code",
    "id": "3MwMhId_1I4u",
    "outputId": "ddccd3ba-d548-4707-e9b4-4ca687c116bd"
   },
   "outputs": [
    {
     "name": "stdout",
     "output_type": "stream",
     "text": [
      "Accuracy for 2 folds: [0.79980472 0.79864642]\n",
      "Wall time: 20.5 s\n"
     ]
    }
   ],
   "source": [
    "%%time\n",
    "\n",
    "target = 'status_group'\n",
    "\n",
    "features = train.columns.drop(target)\n",
    "X_train = train[features]\n",
    "y_train = train[target]\n",
    "\n",
    "\n",
    "pipeline = make_pipeline(\n",
    "    ce.OrdinalEncoder(), \n",
    "    SimpleImputer(strategy='median'), \n",
    "    RandomForestClassifier(n_estimators=100, max_depth=22, n_jobs=-1, random_state=42)\n",
    ")\n",
    "\n",
    "k = 2\n",
    "scores = cross_val_score(pipeline, X_train, y_train, cv=k, \n",
    "                         scoring='accuracy')\n",
    "print(f'Accuracy for {k} folds:', scores)"
   ]
  },
  {
   "cell_type": "code",
   "execution_count": 8,
   "metadata": {
    "colab": {
     "base_uri": "https://localhost:8080/",
     "height": 188
    },
    "colab_type": "code",
    "id": "H9d8IGnw4ozk",
    "outputId": "2c220b85-7433-40e2-a8d6-394d02a58896"
   },
   "outputs": [
    {
     "name": "stdout",
     "output_type": "stream",
     "text": [
      "Fitting 2 folds for each of 5 candidates, totalling 10 fits\n"
     ]
    },
    {
     "name": "stderr",
     "output_type": "stream",
     "text": [
      "[Parallel(n_jobs=-1)]: Using backend LokyBackend with 4 concurrent workers.\n",
      "[Parallel(n_jobs=-1)]: Done   5 out of  10 | elapsed:  1.2min remaining:  1.2min\n",
      "[Parallel(n_jobs=-1)]: Done   7 out of  10 | elapsed:  1.9min remaining:   48.3s\n",
      "[Parallel(n_jobs=-1)]: Done  10 out of  10 | elapsed:  2.5min finished\n"
     ]
    },
    {
     "name": "stdout",
     "output_type": "stream",
     "text": [
      "Wall time: 3min 26s\n"
     ]
    },
    {
     "data": {
      "text/plain": [
       "RandomizedSearchCV(cv=2, error_score='raise-deprecating',\n",
       "                   estimator=Pipeline(memory=None,\n",
       "                                      steps=[('ordinalencoder',\n",
       "                                              OrdinalEncoder(cols=None,\n",
       "                                                             drop_invariant=False,\n",
       "                                                             handle_missing='value',\n",
       "                                                             handle_unknown='value',\n",
       "                                                             mapping=None,\n",
       "                                                             return_df=True,\n",
       "                                                             verbose=0)),\n",
       "                                             ('simpleimputer',\n",
       "                                              SimpleImputer(add_indicator=False,\n",
       "                                                            copy=True,\n",
       "                                                            fill_value=None,\n",
       "                                                            missing_values=nan,\n",
       "                                                            strategy='...\n",
       "                                        'randomforestclassifier__max_features': <scipy.stats._distn_infrastructure.rv_frozen object at 0x000001CF315FE988>,\n",
       "                                        'randomforestclassifier__n_estimators': <scipy.stats._distn_infrastructure.rv_frozen object at 0x000001CF2E37F788>,\n",
       "                                        'simpleimputer__strategy': ['mean',\n",
       "                                                                    'median']},\n",
       "                   pre_dispatch='2*n_jobs', random_state=None, refit=True,\n",
       "                   return_train_score=True, scoring='accuracy', verbose=10)"
      ]
     },
     "execution_count": 8,
     "metadata": {},
     "output_type": "execute_result"
    }
   ],
   "source": [
    "%%time\n",
    "\n",
    "target = 'status_group'\n",
    "\n",
    "features = train.columns.drop(target)\n",
    "                              \n",
    "X_train = train[features]\n",
    "y_train = train[target]\n",
    "\n",
    "pipeline = make_pipeline(\n",
    "    ce.OrdinalEncoder(), \n",
    "    SimpleImputer(strategy='median'), \n",
    "    RandomForestClassifier(n_jobs=-1, random_state=42)\n",
    ")\n",
    "\n",
    "param_distributions = {\n",
    "    # 'targetencoder__min_samples_leaf': randint(1, 1000), \n",
    "    # 'targetencoder__smoothing': uniform(1, 1000), \n",
    "    'simpleimputer__strategy': ['mean', 'median'], \n",
    "    'randomforestclassifier__n_estimators': randint(50, 500), \n",
    "    'randomforestclassifier__max_depth': [5, 10, 15, 20, None], \n",
    "    'randomforestclassifier__max_features': uniform(0, 1), \n",
    "}\n",
    "\n",
    "# If you're on Colab, decrease n_iter & cv parameters\n",
    "search = RandomizedSearchCV(\n",
    "    pipeline, \n",
    "    param_distributions=param_distributions, \n",
    "    n_iter=5, \n",
    "    cv=2, \n",
    "    scoring='accuracy', \n",
    "    verbose=10, \n",
    "    return_train_score=True, \n",
    "    n_jobs=-1\n",
    ")\n",
    "\n",
    "search.fit(X_train, y_train);"
   ]
  },
  {
   "cell_type": "code",
   "execution_count": 9,
   "metadata": {
    "colab": {
     "base_uri": "https://localhost:8080/",
     "height": 70
    },
    "colab_type": "code",
    "id": "9RQ6ydK881e3",
    "outputId": "c06c4558-7305-4c18-c22e-e82caae3a5eb"
   },
   "outputs": [
    {
     "name": "stdout",
     "output_type": "stream",
     "text": [
      "Best hyperparameters {'randomforestclassifier__max_depth': None, 'randomforestclassifier__max_features': 0.8127345329947833, 'randomforestclassifier__n_estimators': 98, 'simpleimputer__strategy': 'median'}\n",
      "Cross-validation Accuracy 0.7882323232323233\n"
     ]
    }
   ],
   "source": [
    "print('Best hyperparameters', search.best_params_)\n",
    "print('Cross-validation Accuracy', search.best_score_)"
   ]
  },
  {
   "cell_type": "code",
   "execution_count": 19,
   "metadata": {
    "colab": {
     "base_uri": "https://localhost:8080/",
     "height": 617
    },
    "colab_type": "code",
    "id": "lq6dgPHm89Dv",
    "outputId": "f328b8ec-0c6b-4679-8e4e-7817c7375480"
   },
   "outputs": [
    {
     "data": {
      "text/html": [
       "<div>\n",
       "<style scoped>\n",
       "    .dataframe tbody tr th:only-of-type {\n",
       "        vertical-align: middle;\n",
       "    }\n",
       "\n",
       "    .dataframe tbody tr th {\n",
       "        vertical-align: top;\n",
       "    }\n",
       "\n",
       "    .dataframe thead th {\n",
       "        text-align: right;\n",
       "    }\n",
       "</style>\n",
       "<table border=\"1\" class=\"dataframe\">\n",
       "  <thead>\n",
       "    <tr style=\"text-align: right;\">\n",
       "      <th></th>\n",
       "      <th>3</th>\n",
       "      <th>1</th>\n",
       "      <th>2</th>\n",
       "      <th>4</th>\n",
       "      <th>0</th>\n",
       "    </tr>\n",
       "  </thead>\n",
       "  <tbody>\n",
       "    <tr>\n",
       "      <td>mean_fit_time</td>\n",
       "      <td>77.7301</td>\n",
       "      <td>14.1618</td>\n",
       "      <td>39.039</td>\n",
       "      <td>72.7916</td>\n",
       "      <td>16.8276</td>\n",
       "    </tr>\n",
       "    <tr>\n",
       "      <td>std_fit_time</td>\n",
       "      <td>0.100682</td>\n",
       "      <td>0.159383</td>\n",
       "      <td>0.642682</td>\n",
       "      <td>0.840994</td>\n",
       "      <td>0.307419</td>\n",
       "    </tr>\n",
       "    <tr>\n",
       "      <td>mean_score_time</td>\n",
       "      <td>5.25764</td>\n",
       "      <td>3.48935</td>\n",
       "      <td>4.02213</td>\n",
       "      <td>2.0507</td>\n",
       "      <td>2.01755</td>\n",
       "    </tr>\n",
       "    <tr>\n",
       "      <td>std_score_time</td>\n",
       "      <td>0.0581939</td>\n",
       "      <td>0.34271</td>\n",
       "      <td>0.00752711</td>\n",
       "      <td>0.0677446</td>\n",
       "      <td>0.242998</td>\n",
       "    </tr>\n",
       "    <tr>\n",
       "      <td>param_randomforestclassifier__max_depth</td>\n",
       "      <td>None</td>\n",
       "      <td>10</td>\n",
       "      <td>5</td>\n",
       "      <td>5</td>\n",
       "      <td>5</td>\n",
       "    </tr>\n",
       "    <tr>\n",
       "      <td>param_randomforestclassifier__max_features</td>\n",
       "      <td>0.812735</td>\n",
       "      <td>0.0728089</td>\n",
       "      <td>0.23536</td>\n",
       "      <td>0.598128</td>\n",
       "      <td>0.594888</td>\n",
       "    </tr>\n",
       "    <tr>\n",
       "      <td>param_randomforestclassifier__n_estimators</td>\n",
       "      <td>98</td>\n",
       "      <td>172</td>\n",
       "      <td>477</td>\n",
       "      <td>453</td>\n",
       "      <td>79</td>\n",
       "    </tr>\n",
       "    <tr>\n",
       "      <td>param_simpleimputer__strategy</td>\n",
       "      <td>median</td>\n",
       "      <td>median</td>\n",
       "      <td>mean</td>\n",
       "      <td>median</td>\n",
       "      <td>median</td>\n",
       "    </tr>\n",
       "    <tr>\n",
       "      <td>params</td>\n",
       "      <td>{'randomforestclassifier__max_depth': None, 'r...</td>\n",
       "      <td>{'randomforestclassifier__max_depth': 10, 'ran...</td>\n",
       "      <td>{'randomforestclassifier__max_depth': 5, 'rand...</td>\n",
       "      <td>{'randomforestclassifier__max_depth': 5, 'rand...</td>\n",
       "      <td>{'randomforestclassifier__max_depth': 5, 'rand...</td>\n",
       "    </tr>\n",
       "    <tr>\n",
       "      <td>split0_test_score</td>\n",
       "      <td>0.78893</td>\n",
       "      <td>0.751119</td>\n",
       "      <td>0.726272</td>\n",
       "      <td>0.724925</td>\n",
       "      <td>0.724487</td>\n",
       "    </tr>\n",
       "    <tr>\n",
       "      <td>split1_test_score</td>\n",
       "      <td>0.787535</td>\n",
       "      <td>0.741237</td>\n",
       "      <td>0.71962</td>\n",
       "      <td>0.720563</td>\n",
       "      <td>0.720159</td>\n",
       "    </tr>\n",
       "    <tr>\n",
       "      <td>mean_test_score</td>\n",
       "      <td>0.788232</td>\n",
       "      <td>0.746178</td>\n",
       "      <td>0.722946</td>\n",
       "      <td>0.722744</td>\n",
       "      <td>0.722323</td>\n",
       "    </tr>\n",
       "    <tr>\n",
       "      <td>std_test_score</td>\n",
       "      <td>0.000697366</td>\n",
       "      <td>0.00494121</td>\n",
       "      <td>0.00332583</td>\n",
       "      <td>0.00218105</td>\n",
       "      <td>0.00216423</td>\n",
       "    </tr>\n",
       "    <tr>\n",
       "      <td>rank_test_score</td>\n",
       "      <td>1</td>\n",
       "      <td>2</td>\n",
       "      <td>3</td>\n",
       "      <td>4</td>\n",
       "      <td>5</td>\n",
       "    </tr>\n",
       "    <tr>\n",
       "      <td>split0_train_score</td>\n",
       "      <td>0.999966</td>\n",
       "      <td>0.774841</td>\n",
       "      <td>0.729418</td>\n",
       "      <td>0.727903</td>\n",
       "      <td>0.728274</td>\n",
       "    </tr>\n",
       "    <tr>\n",
       "      <td>split1_train_score</td>\n",
       "      <td>0.999966</td>\n",
       "      <td>0.772567</td>\n",
       "      <td>0.721053</td>\n",
       "      <td>0.72011</td>\n",
       "      <td>0.719504</td>\n",
       "    </tr>\n",
       "    <tr>\n",
       "      <td>mean_train_score</td>\n",
       "      <td>0.999966</td>\n",
       "      <td>0.773704</td>\n",
       "      <td>0.725236</td>\n",
       "      <td>0.724007</td>\n",
       "      <td>0.723889</td>\n",
       "    </tr>\n",
       "    <tr>\n",
       "      <td>std_train_score</td>\n",
       "      <td>1.13367e-09</td>\n",
       "      <td>0.00113716</td>\n",
       "      <td>0.00418267</td>\n",
       "      <td>0.00389643</td>\n",
       "      <td>0.00438464</td>\n",
       "    </tr>\n",
       "  </tbody>\n",
       "</table>\n",
       "</div>"
      ],
      "text/plain": [
       "                                                                                            3  \\\n",
       "mean_fit_time                                                                         77.7301   \n",
       "std_fit_time                                                                         0.100682   \n",
       "mean_score_time                                                                       5.25764   \n",
       "std_score_time                                                                      0.0581939   \n",
       "param_randomforestclassifier__max_depth                                                  None   \n",
       "param_randomforestclassifier__max_features                                           0.812735   \n",
       "param_randomforestclassifier__n_estimators                                                 98   \n",
       "param_simpleimputer__strategy                                                          median   \n",
       "params                                      {'randomforestclassifier__max_depth': None, 'r...   \n",
       "split0_test_score                                                                     0.78893   \n",
       "split1_test_score                                                                    0.787535   \n",
       "mean_test_score                                                                      0.788232   \n",
       "std_test_score                                                                    0.000697366   \n",
       "rank_test_score                                                                             1   \n",
       "split0_train_score                                                                   0.999966   \n",
       "split1_train_score                                                                   0.999966   \n",
       "mean_train_score                                                                     0.999966   \n",
       "std_train_score                                                                   1.13367e-09   \n",
       "\n",
       "                                                                                            1  \\\n",
       "mean_fit_time                                                                         14.1618   \n",
       "std_fit_time                                                                         0.159383   \n",
       "mean_score_time                                                                       3.48935   \n",
       "std_score_time                                                                        0.34271   \n",
       "param_randomforestclassifier__max_depth                                                    10   \n",
       "param_randomforestclassifier__max_features                                          0.0728089   \n",
       "param_randomforestclassifier__n_estimators                                                172   \n",
       "param_simpleimputer__strategy                                                          median   \n",
       "params                                      {'randomforestclassifier__max_depth': 10, 'ran...   \n",
       "split0_test_score                                                                    0.751119   \n",
       "split1_test_score                                                                    0.741237   \n",
       "mean_test_score                                                                      0.746178   \n",
       "std_test_score                                                                     0.00494121   \n",
       "rank_test_score                                                                             2   \n",
       "split0_train_score                                                                   0.774841   \n",
       "split1_train_score                                                                   0.772567   \n",
       "mean_train_score                                                                     0.773704   \n",
       "std_train_score                                                                    0.00113716   \n",
       "\n",
       "                                                                                            2  \\\n",
       "mean_fit_time                                                                          39.039   \n",
       "std_fit_time                                                                         0.642682   \n",
       "mean_score_time                                                                       4.02213   \n",
       "std_score_time                                                                     0.00752711   \n",
       "param_randomforestclassifier__max_depth                                                     5   \n",
       "param_randomforestclassifier__max_features                                            0.23536   \n",
       "param_randomforestclassifier__n_estimators                                                477   \n",
       "param_simpleimputer__strategy                                                            mean   \n",
       "params                                      {'randomforestclassifier__max_depth': 5, 'rand...   \n",
       "split0_test_score                                                                    0.726272   \n",
       "split1_test_score                                                                     0.71962   \n",
       "mean_test_score                                                                      0.722946   \n",
       "std_test_score                                                                     0.00332583   \n",
       "rank_test_score                                                                             3   \n",
       "split0_train_score                                                                   0.729418   \n",
       "split1_train_score                                                                   0.721053   \n",
       "mean_train_score                                                                     0.725236   \n",
       "std_train_score                                                                    0.00418267   \n",
       "\n",
       "                                                                                            4  \\\n",
       "mean_fit_time                                                                         72.7916   \n",
       "std_fit_time                                                                         0.840994   \n",
       "mean_score_time                                                                        2.0507   \n",
       "std_score_time                                                                      0.0677446   \n",
       "param_randomforestclassifier__max_depth                                                     5   \n",
       "param_randomforestclassifier__max_features                                           0.598128   \n",
       "param_randomforestclassifier__n_estimators                                                453   \n",
       "param_simpleimputer__strategy                                                          median   \n",
       "params                                      {'randomforestclassifier__max_depth': 5, 'rand...   \n",
       "split0_test_score                                                                    0.724925   \n",
       "split1_test_score                                                                    0.720563   \n",
       "mean_test_score                                                                      0.722744   \n",
       "std_test_score                                                                     0.00218105   \n",
       "rank_test_score                                                                             4   \n",
       "split0_train_score                                                                   0.727903   \n",
       "split1_train_score                                                                    0.72011   \n",
       "mean_train_score                                                                     0.724007   \n",
       "std_train_score                                                                    0.00389643   \n",
       "\n",
       "                                                                                            0  \n",
       "mean_fit_time                                                                         16.8276  \n",
       "std_fit_time                                                                         0.307419  \n",
       "mean_score_time                                                                       2.01755  \n",
       "std_score_time                                                                       0.242998  \n",
       "param_randomforestclassifier__max_depth                                                     5  \n",
       "param_randomforestclassifier__max_features                                           0.594888  \n",
       "param_randomforestclassifier__n_estimators                                                 79  \n",
       "param_simpleimputer__strategy                                                          median  \n",
       "params                                      {'randomforestclassifier__max_depth': 5, 'rand...  \n",
       "split0_test_score                                                                    0.724487  \n",
       "split1_test_score                                                                    0.720159  \n",
       "mean_test_score                                                                      0.722323  \n",
       "std_test_score                                                                     0.00216423  \n",
       "rank_test_score                                                                             5  \n",
       "split0_train_score                                                                   0.728274  \n",
       "split1_train_score                                                                   0.719504  \n",
       "mean_train_score                                                                     0.723889  \n",
       "std_train_score                                                                    0.00438464  "
      ]
     },
     "execution_count": 19,
     "metadata": {},
     "output_type": "execute_result"
    }
   ],
   "source": [
    "pd.DataFrame(search.cv_results_).sort_values(by='rank_test_score').T"
   ]
  },
  {
   "cell_type": "markdown",
   "metadata": {
    "colab_type": "text",
    "id": "bKbXIqAdgIDg"
   },
   "source": [
    "## Submit your predictions to DS10 Kaggle competition."
   ]
  },
  {
   "cell_type": "code",
   "execution_count": 20,
   "metadata": {
    "colab": {},
    "colab_type": "code",
    "id": "_VWJIDvG9IkJ"
   },
   "outputs": [],
   "source": [
    "pipeline = search.best_estimator_"
   ]
  },
  {
   "cell_type": "code",
   "execution_count": 23,
   "metadata": {
    "colab": {},
    "colab_type": "code",
    "id": "j9HPAsYtgJbe"
   },
   "outputs": [],
   "source": [
    "y_pred = pipeline.predict(test)\n",
    "\n",
    "# Makes a dataframe with two columns, id and status_group, \n",
    "# and writes to a csv file, without the index\n",
    "\n",
    "# sample_submission = pd.read_csv('sample_submission.csv')\n",
    "submission = sample_submission.copy()\n",
    "submission['status_group'] = y_pred\n",
    "submission.to_csv('your-submission-filename.csv', index=False)"
   ]
  },
  {
   "cell_type": "code",
   "execution_count": 17,
   "metadata": {
    "colab": {},
    "colab_type": "code",
    "id": "EbZjC1yMhjVj"
   },
   "outputs": [
    {
     "ename": "ModuleNotFoundError",
     "evalue": "No module named 'google'",
     "output_type": "error",
     "traceback": [
      "\u001b[1;31m---------------------------------------------------------------------------\u001b[0m",
      "\u001b[1;31mModuleNotFoundError\u001b[0m                       Traceback (most recent call last)",
      "\u001b[1;32m<ipython-input-17-a2cb4b063b64>\u001b[0m in \u001b[0;36m<module>\u001b[1;34m\u001b[0m\n\u001b[1;32m----> 1\u001b[1;33m \u001b[1;32mfrom\u001b[0m \u001b[0mgoogle\u001b[0m\u001b[1;33m.\u001b[0m\u001b[0mcolab\u001b[0m \u001b[1;32mimport\u001b[0m \u001b[0mfiles\u001b[0m\u001b[1;33m\u001b[0m\u001b[1;33m\u001b[0m\u001b[0m\n\u001b[0m\u001b[0;32m      2\u001b[0m \u001b[0mfiles\u001b[0m\u001b[1;33m.\u001b[0m\u001b[0mdownload\u001b[0m\u001b[1;33m(\u001b[0m\u001b[1;34m'your-submission-filename.csv'\u001b[0m\u001b[1;33m)\u001b[0m\u001b[1;33m\u001b[0m\u001b[1;33m\u001b[0m\u001b[0m\n",
      "\u001b[1;31mModuleNotFoundError\u001b[0m: No module named 'google'"
     ]
    }
   ],
   "source": [
    "# from google.colab import files\n",
    "# files.download('your-submission-filename.csv')"
   ]
  }
 ],
 "metadata": {
  "colab": {
   "collapsed_sections": [],
   "include_colab_link": true,
   "name": "LS_DS10_223_assignment.ipynb",
   "provenance": []
  },
  "kernelspec": {
   "display_name": "Python 3",
   "language": "python",
   "name": "python3"
  },
  "language_info": {
   "codemirror_mode": {
    "name": "ipython",
    "version": 3
   },
   "file_extension": ".py",
   "mimetype": "text/x-python",
   "name": "python",
   "nbconvert_exporter": "python",
   "pygments_lexer": "ipython3",
   "version": "3.7.4"
  }
 },
 "nbformat": 4,
 "nbformat_minor": 1
}
