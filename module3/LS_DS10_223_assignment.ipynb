{
  "nbformat": 4,
  "nbformat_minor": 0,
  "metadata": {
    "kernelspec": {
      "display_name": "Python 3",
      "language": "python",
      "name": "python3"
    },
    "language_info": {
      "codemirror_mode": {
        "name": "ipython",
        "version": 3
      },
      "file_extension": ".py",
      "mimetype": "text/x-python",
      "name": "python",
      "nbconvert_exporter": "python",
      "pygments_lexer": "ipython3",
      "version": "3.7.3"
    },
    "colab": {
      "name": "LS_DS10_223_assignment.ipynb",
      "provenance": [],
      "collapsed_sections": [],
      "include_colab_link": true
    }
  },
  "cells": [
    {
      "cell_type": "markdown",
      "metadata": {
        "id": "view-in-github",
        "colab_type": "text"
      },
      "source": [
        "<a href=\"https://colab.research.google.com/github/Okocha76/DS-Unit-2-Kaggle-Challenge/blob/master/module3/LS_DS10_223_assignment.ipynb\" target=\"_parent\"><img src=\"https://colab.research.google.com/assets/colab-badge.svg\" alt=\"Open In Colab\"/></a>"
      ]
    },
    {
      "cell_type": "markdown",
      "metadata": {
        "id": "-ZWr3wajeTd7",
        "colab_type": "text"
      },
      "source": [
        "Lambda School Data Science\n",
        "\n",
        "*Unit 2, Sprint 2, Module 3*\n",
        "\n",
        "---"
      ]
    },
    {
      "cell_type": "markdown",
      "metadata": {
        "id": "gfboGdVMeTd-",
        "colab_type": "text"
      },
      "source": [
        "# Cross-Validation\n",
        "\n",
        "\n",
        "## Assignment\n",
        "- [ ] [Review requirements for your portfolio project](https://lambdaschool.github.io/ds/unit2), then submit your dataset.\n",
        "- [ ] Continue to participate in our Kaggle challenge. \n",
        "- [ ] Use scikit-learn for hyperparameter optimization with RandomizedSearchCV.\n",
        "- [ ] Submit your predictions to our Kaggle competition. (Go to our Kaggle InClass competition webpage. Use the blue **Submit Predictions** button to upload your CSV file. Or you can use the Kaggle API to submit your predictions.)\n",
        "- [ ] Commit your notebook to your fork of the GitHub repo.\n",
        "\n",
        "\n",
        "You won't be able to just copy from the lesson notebook to this assignment.\n",
        "\n",
        "- Because the lesson was ***regression***, but the assignment is ***classification.***\n",
        "- Because the lesson used [TargetEncoder](https://contrib.scikit-learn.org/categorical-encoding/targetencoder.html), which doesn't work as-is for _multi-class_ classification.\n",
        "\n",
        "So you will have to adapt the example, which is good real-world practice.\n",
        "\n",
        "1. Use a model for classification, such as [RandomForestClassifier](https://scikit-learn.org/stable/modules/generated/sklearn.ensemble.RandomForestClassifier.html)\n",
        "2. Use hyperparameters that match the classifier, such as `randomforestclassifier__ ...`\n",
        "3. Use a metric for classification, such as [`scoring='accuracy'`](https://scikit-learn.org/stable/modules/model_evaluation.html#common-cases-predefined-values)\n",
        "4. If you’re doing a multi-class classification problem — such as whether a waterpump is functional, functional needs repair, or nonfunctional — then use a categorical encoding that works for multi-class classification, such as [OrdinalEncoder](https://contrib.scikit-learn.org/categorical-encoding/ordinal.html) (not [TargetEncoder](https://contrib.scikit-learn.org/categorical-encoding/targetencoder.html))\n",
        "\n",
        "\n",
        "\n",
        "## Stretch Goals\n",
        "\n",
        "### Reading\n",
        "- Jake VanderPlas, [Python Data Science Handbook, Chapter 5.3](https://jakevdp.github.io/PythonDataScienceHandbook/05.03-hyperparameters-and-model-validation.html), Hyperparameters and Model Validation\n",
        "- Jake VanderPlas, [Statistics for Hackers](https://speakerdeck.com/jakevdp/statistics-for-hackers?slide=107)\n",
        "- Ron Zacharski, [A Programmer's Guide to Data Mining, Chapter 5](http://guidetodatamining.com/chapter5/), 10-fold cross validation\n",
        "- Sebastian Raschka, [A Basic Pipeline and Grid Search Setup](https://github.com/rasbt/python-machine-learning-book/blob/master/code/bonus/svm_iris_pipeline_and_gridsearch.ipynb)\n",
        "- Peter Worcester, [A Comparison of Grid Search and Randomized Search Using Scikit Learn](https://blog.usejournal.com/a-comparison-of-grid-search-and-randomized-search-using-scikit-learn-29823179bc85)\n",
        "\n",
        "### Doing\n",
        "- Add your own stretch goals!\n",
        "- Try other [categorical encodings](https://contrib.scikit-learn.org/categorical-encoding/). See the previous assignment notebook for details.\n",
        "- In additon to `RandomizedSearchCV`, scikit-learn has [`GridSearchCV`](https://scikit-learn.org/stable/modules/generated/sklearn.model_selection.GridSearchCV.html). Another library called scikit-optimize has [`BayesSearchCV`](https://scikit-optimize.github.io/notebooks/sklearn-gridsearchcv-replacement.html). Experiment with these alternatives.\n",
        "- _[Introduction to Machine Learning with Python](http://shop.oreilly.com/product/0636920030515.do)_ discusses options for \"Grid-Searching Which Model To Use\" in Chapter 6:\n",
        "\n",
        "> You can even go further in combining GridSearchCV and Pipeline: it is also possible to search over the actual steps being performed in the pipeline (say whether to use StandardScaler or MinMaxScaler). This leads to an even bigger search space and should be considered carefully. Trying all possible solutions is usually not a viable machine learning strategy. However, here is an example comparing a RandomForestClassifier and an SVC ...\n",
        "\n",
        "The example is shown in [the accompanying notebook](https://github.com/amueller/introduction_to_ml_with_python/blob/master/06-algorithm-chains-and-pipelines.ipynb), code cells 35-37. Could you apply this concept to your own pipelines?\n"
      ]
    },
    {
      "cell_type": "markdown",
      "metadata": {
        "id": "dlFrDWrkeTd_",
        "colab_type": "text"
      },
      "source": [
        "### BONUS: Stacking!\n",
        "\n",
        "Here's some code you can use to \"stack\" multiple submissions, which is another form of ensembling:\n",
        "\n",
        "```python\n",
        "import pandas as pd\n",
        "\n",
        "# Filenames of your submissions you want to ensemble\n",
        "files = ['submission-01.csv', 'submission-02.csv', 'submission-03.csv']\n",
        "\n",
        "target = 'status_group'\n",
        "submissions = (pd.read_csv(file)[[target]] for file in files)\n",
        "ensemble = pd.concat(submissions, axis='columns')\n",
        "majority_vote = ensemble.mode(axis='columns')[0]\n",
        "\n",
        "sample_submission = pd.read_csv('sample_submission.csv')\n",
        "submission = sample_submission.copy()\n",
        "submission[target] = majority_vote\n",
        "submission.to_csv('my-ultimate-ensemble-submission.csv', index=False)\n",
        "```"
      ]
    },
    {
      "cell_type": "code",
      "metadata": {
        "id": "aZF1lWoaeTeB",
        "colab_type": "code",
        "colab": {}
      },
      "source": [
        "%%capture\n",
        "import sys\n",
        "\n",
        "# If you're on Colab:\n",
        "if 'google.colab' in sys.modules:\n",
        "    DATA_PATH = 'https://raw.githubusercontent.com/LambdaSchool/DS-Unit-2-Kaggle-Challenge/master/data/'\n",
        "    !pip install category_encoders==2.*\n",
        "\n",
        "# If you're working locally:\n",
        "else:\n",
        "    DATA_PATH = '../data/'"
      ],
      "execution_count": 0,
      "outputs": []
    },
    {
      "cell_type": "code",
      "metadata": {
        "id": "aQBJnPXpeTeI",
        "colab_type": "code",
        "colab": {}
      },
      "source": [
        "import pandas as pd\n",
        "\n",
        "# Merge train_features.csv & train_labels.csv\n",
        "train = pd.merge(pd.read_csv(DATA_PATH+'waterpumps/train_features.csv'), \n",
        "                 pd.read_csv(DATA_PATH+'waterpumps/train_labels.csv'))\n",
        "\n",
        "# Read test_features.csv & sample_submission.csv\n",
        "test = pd.read_csv(DATA_PATH+'waterpumps/test_features.csv')\n",
        "sample_submission = pd.read_csv(DATA_PATH+'waterpumps/sample_submission.csv')"
      ],
      "execution_count": 0,
      "outputs": []
    },
    {
      "cell_type": "markdown",
      "metadata": {
        "id": "3doB1Gq0i6au",
        "colab_type": "text"
      },
      "source": [
        "## Define a function to wrangle train, validate, and test sets in the same way. Clean outliers and engineer features."
      ]
    },
    {
      "cell_type": "code",
      "metadata": {
        "id": "WXyMnfMXZklH",
        "colab_type": "code",
        "colab": {}
      },
      "source": [
        "import numpy as np\n",
        "\n",
        "def wrangle(X):\n",
        "    \"\"\"Wrangle train, validate, and test sets in the same way\"\"\"\n",
        "    \n",
        "    # Prevent SettingWithCopyWarning\n",
        "    X = X.copy()\n",
        "    \n",
        "    # About 3% of the time, latitude has small values near zero,\n",
        "    # outside Tanzania, so we'll treat these values like zero.\n",
        "    X['latitude'] = X['latitude'].replace(-2e-08, 0)\n",
        "    \n",
        "    # When columns have zeros and shouldn't, they are like null values.\n",
        "    # So we will replace the zeros with nulls, and impute missing values later.\n",
        "    cols_with_zeros = ['longitude', 'latitude', 'construction_year',\n",
        "                       'gps_height','population','amount_tsh']\n",
        "    for col in cols_with_zeros:\n",
        "        X[col] = X[col].replace(0, np.nan)\n",
        "        X[col+'_MISSING'] = X[col].isnull()\n",
        "    \n",
        "    # Approximate distance from 'Null Island'\n",
        "    X['distance'] = ((X['latitude']+10.99846435)**2 + (X['longitude']-19.6071219)**2)**.5\n",
        "\n",
        "    # Convert to datetime and create year_ month_ & day_recorded\n",
        "    X['date_recorded'] = pd.to_datetime(X['date_recorded'], infer_datetime_format=True)\n",
        "    X['year_recorded'] = X['date_recorded'].dt.year\n",
        "    X['month_recorded'] = X['date_recorded'].dt.month\n",
        "    X['day_recorded'] = X['date_recorded'].dt.day\n",
        "    X = X.drop(columns='date_recorded')\n",
        "\n",
        "    # Engineer feature: how many years from construction_year to date_recorded\n",
        "    X['years'] = X['year_recorded'] - X['construction_year']\n",
        "    X['years_MISSING'] = X['years'].isnull()\n",
        "\n",
        "    # region_code & district_code are numeric columns, but should be categorical features,\n",
        "    # so convert it from a number to a string\n",
        "    X['region_code'] = X['region_code'].astype(str)\n",
        "    X['district_code'] = X['district_code'].astype(str)\n",
        "        \n",
        "    # quantity & quantity_group are duplicates, so drop one\n",
        "    X = X.drop(columns='quantity_group')\n",
        "    \n",
        "    # source, source_class & source_type are almost identical. \n",
        "    # source has higher level of detail.\n",
        "    X = X.drop(columns=['source_class','source_type'])\n",
        "\n",
        "    # recorded_by has single value, so drop.\n",
        "    X = X.drop(columns='recorded_by')\n",
        "\n",
        "    X = X.drop(columns='id')\n",
        "\n",
        "    # water_quality & quality_group are almost identical. \n",
        "    # water_quality has higher level of detail.\n",
        "    X = X.drop(columns='quality_group')\n",
        "\n",
        "    # waterpoint_type & waterpoint_type_group are almost identical. \n",
        "    # waterpoint_type has higher level of detail.\n",
        "    X = X.drop(columns='waterpoint_type_group')\n",
        "\n",
        "    # payment & payment_type are duplicates, so drop one\n",
        "    X = X.drop(columns='payment_type')\n",
        "\n",
        "    # extraction_type, extraction_type_class & extraction_type_group are almost identical. \n",
        "    # extraction_type has higher level of detail.\n",
        "    X = X.drop(columns=['extraction_type_class','extraction_type_group'])\n",
        "\n",
        "    # installer & funder are almost identical. \n",
        "    # funder has higher level of detail.\n",
        "    X = X.drop(columns='installer')     \n",
        "    \n",
        "    # management & management_group are almost identical. \n",
        "    # management has higher level of detail.\n",
        "    X = X.drop(columns='management_group') \n",
        "\n",
        "    # region_code & region are almost identical. \n",
        "    # region_code has higher level of detail.\n",
        "    X = X.drop(columns='region') \n",
        "\n",
        "    # return the wrangled dataframe\n",
        "    return X\n",
        "\n",
        "train = wrangle(train)\n",
        "test = wrangle(test)"
      ],
      "execution_count": 0,
      "outputs": []
    },
    {
      "cell_type": "markdown",
      "metadata": {
        "id": "xiQBZp_zz8Zh",
        "colab_type": "text"
      },
      "source": [
        "## Use scikit-learn for hyperparameter optimization with RandomizedSearchCV."
      ]
    },
    {
      "cell_type": "code",
      "metadata": {
        "id": "VA5z3Wy6eTeN",
        "colab_type": "code",
        "colab": {}
      },
      "source": [
        "import category_encoders as ce\n",
        "from sklearn.impute import SimpleImputer\n",
        "from sklearn.model_selection import cross_val_score\n",
        "from sklearn.pipeline import make_pipeline\n",
        "from sklearn.ensemble import RandomForestClassifier\n",
        "from sklearn.model_selection import RandomizedSearchCV\n",
        "from scipy.stats import randint, uniform"
      ],
      "execution_count": 0,
      "outputs": []
    },
    {
      "cell_type": "code",
      "metadata": {
        "id": "3MwMhId_1I4u",
        "colab_type": "code",
        "colab": {
          "base_uri": "https://localhost:8080/",
          "height": 67
        },
        "outputId": "ddccd3ba-d548-4707-e9b4-4ca687c116bd"
      },
      "source": [
        "# %%time\n",
        "\n",
        "# target = 'status_group'\n",
        "\n",
        "# features = train.columns.drop(target)\n",
        "# X_train = train[features]\n",
        "# y_train = train[target]\n",
        "\n",
        "\n",
        "# pipeline = make_pipeline(\n",
        "#     ce.OrdinalEncoder(), \n",
        "#     SimpleImputer(strategy='median'), \n",
        "#     RandomForestClassifier(n_estimators=100, max_depth=22, n_jobs=-1, random_state=42)\n",
        "# )\n",
        "\n",
        "# k = 2\n",
        "# scores = cross_val_score(pipeline, X_train, y_train, cv=k, \n",
        "#                          scoring='accuracy')\n",
        "# print(f'Accuracy for {k} folds:', scores)"
      ],
      "execution_count": 23,
      "outputs": [
        {
          "output_type": "stream",
          "text": [
            "Accuracy for 2 folds: [0.79980472 0.79864642]\n",
            "CPU times: user 5.31 s, sys: 372 ms, total: 5.68 s\n",
            "Wall time: 19.4 s\n"
          ],
          "name": "stdout"
        }
      ]
    },
    {
      "cell_type": "code",
      "metadata": {
        "id": "H9d8IGnw4ozk",
        "colab_type": "code",
        "colab": {
          "base_uri": "https://localhost:8080/",
          "height": 188
        },
        "outputId": "2c220b85-7433-40e2-a8d6-394d02a58896"
      },
      "source": [
        "%%time\n",
        "\n",
        "target = 'status_group'\n",
        "\n",
        "features = train.columns.drop(target)\n",
        "                              \n",
        "X_train = train[features]\n",
        "y_train = train[target]\n",
        "\n",
        "pipeline = make_pipeline(\n",
        "    ce.OrdinalEncoder(), \n",
        "    SimpleImputer(strategy='median'), \n",
        "    RandomForestClassifier(n_jobs=-1, random_state=42)\n",
        ")\n",
        "\n",
        "param_distributions = {\n",
        "    # 'targetencoder__min_samples_leaf': randint(1, 1000), \n",
        "    # 'targetencoder__smoothing': uniform(1, 1000), \n",
        "    'simpleimputer__strategy': ['mean', 'median'], \n",
        "    'randomforestclassifier__n_estimators': randint(50, 500), \n",
        "    'randomforestclassifier__max_depth': [5, 10, 15, 20, None], \n",
        "    'randomforestclassifier__max_features': uniform(0, 1), \n",
        "}\n",
        "\n",
        "# If you're on Colab, decrease n_iter & cv parameters\n",
        "search = RandomizedSearchCV(\n",
        "    pipeline, \n",
        "    param_distributions=param_distributions, \n",
        "    n_iter=5, \n",
        "    cv=2, \n",
        "    scoring='accuracy', \n",
        "    verbose=10, \n",
        "    return_train_score=True, \n",
        "    n_jobs=-1\n",
        ")\n",
        "\n",
        "search.fit(X_train, y_train);"
      ],
      "execution_count": 16,
      "outputs": [
        {
          "output_type": "stream",
          "text": [
            "Fitting 2 folds for each of 5 candidates, totalling 10 fits\n"
          ],
          "name": "stdout"
        },
        {
          "output_type": "stream",
          "text": [
            "[Parallel(n_jobs=-1)]: Using backend LokyBackend with 2 concurrent workers.\n",
            "[Parallel(n_jobs=-1)]: Done   1 tasks      | elapsed:   39.6s\n",
            "[Parallel(n_jobs=-1)]: Done   4 tasks      | elapsed:  3.6min\n",
            "/usr/local/lib/python3.6/dist-packages/joblib/externals/loky/process_executor.py:706: UserWarning: A worker stopped while some jobs were given to the executor. This can be caused by a too short worker timeout or by a memory leak.\n",
            "  \"timeout or by a memory leak.\", UserWarning\n",
            "[Parallel(n_jobs=-1)]: Done  10 out of  10 | elapsed:  5.4min finished\n"
          ],
          "name": "stderr"
        },
        {
          "output_type": "stream",
          "text": [
            "CPU times: user 1min 19s, sys: 497 ms, total: 1min 20s\n",
            "Wall time: 6min 6s\n"
          ],
          "name": "stdout"
        }
      ]
    },
    {
      "cell_type": "code",
      "metadata": {
        "id": "9RQ6ydK881e3",
        "colab_type": "code",
        "colab": {
          "base_uri": "https://localhost:8080/",
          "height": 70
        },
        "outputId": "c06c4558-7305-4c18-c22e-e82caae3a5eb"
      },
      "source": [
        "print('Best hyperparameters', search.best_params_)\n",
        "print('Cross-validation Accuracy', search.best_score_)"
      ],
      "execution_count": 18,
      "outputs": [
        {
          "output_type": "stream",
          "text": [
            "Best hyperparameters {'randomforestclassifier__max_depth': 20, 'randomforestclassifier__max_features': 0.20720847666107012, 'randomforestclassifier__n_estimators': 285, 'simpleimputer__strategy': 'median'}\n",
            "Cross-validation Accuracy 0.8013299663299663\n"
          ],
          "name": "stdout"
        }
      ]
    },
    {
      "cell_type": "code",
      "metadata": {
        "id": "lq6dgPHm89Dv",
        "colab_type": "code",
        "colab": {
          "base_uri": "https://localhost:8080/",
          "height": 617
        },
        "outputId": "f328b8ec-0c6b-4679-8e4e-7817c7375480"
      },
      "source": [
        "pd.DataFrame(search.cv_results_).sort_values(by='rank_test_score').T"
      ],
      "execution_count": 19,
      "outputs": [
        {
          "output_type": "execute_result",
          "data": {
            "text/html": [
              "<div>\n",
              "<style scoped>\n",
              "    .dataframe tbody tr th:only-of-type {\n",
              "        vertical-align: middle;\n",
              "    }\n",
              "\n",
              "    .dataframe tbody tr th {\n",
              "        vertical-align: top;\n",
              "    }\n",
              "\n",
              "    .dataframe thead th {\n",
              "        text-align: right;\n",
              "    }\n",
              "</style>\n",
              "<table border=\"1\" class=\"dataframe\">\n",
              "  <thead>\n",
              "    <tr style=\"text-align: right;\">\n",
              "      <th></th>\n",
              "      <th>3</th>\n",
              "      <th>2</th>\n",
              "      <th>1</th>\n",
              "      <th>0</th>\n",
              "      <th>4</th>\n",
              "    </tr>\n",
              "  </thead>\n",
              "  <tbody>\n",
              "    <tr>\n",
              "      <th>mean_fit_time</th>\n",
              "      <td>38.3829</td>\n",
              "      <td>44.1527</td>\n",
              "      <td>165.026</td>\n",
              "      <td>35.3334</td>\n",
              "      <td>6.32178</td>\n",
              "    </tr>\n",
              "    <tr>\n",
              "      <th>std_fit_time</th>\n",
              "      <td>0.00487947</td>\n",
              "      <td>0.538925</td>\n",
              "      <td>0.262299</td>\n",
              "      <td>0.0337487</td>\n",
              "      <td>0.00629067</td>\n",
              "    </tr>\n",
              "    <tr>\n",
              "      <th>mean_score_time</th>\n",
              "      <td>4.08484</td>\n",
              "      <td>4.7417</td>\n",
              "      <td>4.80179</td>\n",
              "      <td>1.18771</td>\n",
              "      <td>0.661839</td>\n",
              "    </tr>\n",
              "    <tr>\n",
              "      <th>std_score_time</th>\n",
              "      <td>0.0562142</td>\n",
              "      <td>0.175888</td>\n",
              "      <td>0.0764897</td>\n",
              "      <td>0.0176826</td>\n",
              "      <td>0.210255</td>\n",
              "    </tr>\n",
              "    <tr>\n",
              "      <th>param_randomforestclassifier__max_depth</th>\n",
              "      <td>20</td>\n",
              "      <td>20</td>\n",
              "      <td>15</td>\n",
              "      <td>20</td>\n",
              "      <td>5</td>\n",
              "    </tr>\n",
              "    <tr>\n",
              "      <th>param_randomforestclassifier__max_features</th>\n",
              "      <td>0.207208</td>\n",
              "      <td>0.18065</td>\n",
              "      <td>0.634633</td>\n",
              "      <td>0.76826</td>\n",
              "      <td>0.412611</td>\n",
              "    </tr>\n",
              "    <tr>\n",
              "      <th>param_randomforestclassifier__n_estimators</th>\n",
              "      <td>285</td>\n",
              "      <td>375</td>\n",
              "      <td>458</td>\n",
              "      <td>71</td>\n",
              "      <td>61</td>\n",
              "    </tr>\n",
              "    <tr>\n",
              "      <th>param_simpleimputer__strategy</th>\n",
              "      <td>median</td>\n",
              "      <td>mean</td>\n",
              "      <td>mean</td>\n",
              "      <td>median</td>\n",
              "      <td>mean</td>\n",
              "    </tr>\n",
              "    <tr>\n",
              "      <th>params</th>\n",
              "      <td>{'randomforestclassifier__max_depth': 20, 'ran...</td>\n",
              "      <td>{'randomforestclassifier__max_depth': 20, 'ran...</td>\n",
              "      <td>{'randomforestclassifier__max_depth': 15, 'ran...</td>\n",
              "      <td>{'randomforestclassifier__max_depth': 20, 'ran...</td>\n",
              "      <td>{'randomforestclassifier__max_depth': 5, 'rand...</td>\n",
              "    </tr>\n",
              "    <tr>\n",
              "      <th>split0_test_score</th>\n",
              "      <td>0.80068</td>\n",
              "      <td>0.800714</td>\n",
              "      <td>0.79233</td>\n",
              "      <td>0.793105</td>\n",
              "      <td>0.724959</td>\n",
              "    </tr>\n",
              "    <tr>\n",
              "      <th>split1_test_score</th>\n",
              "      <td>0.80198</td>\n",
              "      <td>0.800667</td>\n",
              "      <td>0.792552</td>\n",
              "      <td>0.791744</td>\n",
              "      <td>0.72026</td>\n",
              "    </tr>\n",
              "    <tr>\n",
              "      <th>mean_test_score</th>\n",
              "      <td>0.80133</td>\n",
              "      <td>0.80069</td>\n",
              "      <td>0.792441</td>\n",
              "      <td>0.792424</td>\n",
              "      <td>0.722609</td>\n",
              "    </tr>\n",
              "    <tr>\n",
              "      <th>std_test_score</th>\n",
              "      <td>0.000649876</td>\n",
              "      <td>2.35458e-05</td>\n",
              "      <td>0.000110857</td>\n",
              "      <td>0.00068039</td>\n",
              "      <td>0.00234941</td>\n",
              "    </tr>\n",
              "    <tr>\n",
              "      <th>rank_test_score</th>\n",
              "      <td>1</td>\n",
              "      <td>2</td>\n",
              "      <td>3</td>\n",
              "      <td>4</td>\n",
              "      <td>5</td>\n",
              "    </tr>\n",
              "    <tr>\n",
              "      <th>split0_train_score</th>\n",
              "      <td>0.975285</td>\n",
              "      <td>0.974646</td>\n",
              "      <td>0.903027</td>\n",
              "      <td>0.973534</td>\n",
              "      <td>0.728913</td>\n",
              "    </tr>\n",
              "    <tr>\n",
              "      <th>split1_train_score</th>\n",
              "      <td>0.976398</td>\n",
              "      <td>0.976432</td>\n",
              "      <td>0.909128</td>\n",
              "      <td>0.971651</td>\n",
              "      <td>0.72038</td>\n",
              "    </tr>\n",
              "    <tr>\n",
              "      <th>mean_train_score</th>\n",
              "      <td>0.975842</td>\n",
              "      <td>0.975539</td>\n",
              "      <td>0.906077</td>\n",
              "      <td>0.972593</td>\n",
              "      <td>0.724647</td>\n",
              "    </tr>\n",
              "    <tr>\n",
              "      <th>std_train_score</th>\n",
              "      <td>0.000556369</td>\n",
              "      <td>0.00089308</td>\n",
              "      <td>0.0030503</td>\n",
              "      <td>0.000941838</td>\n",
              "      <td>0.00426682</td>\n",
              "    </tr>\n",
              "  </tbody>\n",
              "</table>\n",
              "</div>"
            ],
            "text/plain": [
              "                                                                                            3  ...                                                  4\n",
              "mean_fit_time                                                                         38.3829  ...                                            6.32178\n",
              "std_fit_time                                                                       0.00487947  ...                                         0.00629067\n",
              "mean_score_time                                                                       4.08484  ...                                           0.661839\n",
              "std_score_time                                                                      0.0562142  ...                                           0.210255\n",
              "param_randomforestclassifier__max_depth                                                    20  ...                                                  5\n",
              "param_randomforestclassifier__max_features                                           0.207208  ...                                           0.412611\n",
              "param_randomforestclassifier__n_estimators                                                285  ...                                                 61\n",
              "param_simpleimputer__strategy                                                          median  ...                                               mean\n",
              "params                                      {'randomforestclassifier__max_depth': 20, 'ran...  ...  {'randomforestclassifier__max_depth': 5, 'rand...\n",
              "split0_test_score                                                                     0.80068  ...                                           0.724959\n",
              "split1_test_score                                                                     0.80198  ...                                            0.72026\n",
              "mean_test_score                                                                       0.80133  ...                                           0.722609\n",
              "std_test_score                                                                    0.000649876  ...                                         0.00234941\n",
              "rank_test_score                                                                             1  ...                                                  5\n",
              "split0_train_score                                                                   0.975285  ...                                           0.728913\n",
              "split1_train_score                                                                   0.976398  ...                                            0.72038\n",
              "mean_train_score                                                                     0.975842  ...                                           0.724647\n",
              "std_train_score                                                                   0.000556369  ...                                         0.00426682\n",
              "\n",
              "[18 rows x 5 columns]"
            ]
          },
          "metadata": {
            "tags": []
          },
          "execution_count": 19
        }
      ]
    },
    {
      "cell_type": "markdown",
      "metadata": {
        "id": "bKbXIqAdgIDg",
        "colab_type": "text"
      },
      "source": [
        "## Submit your predictions to DS10 Kaggle competition."
      ]
    },
    {
      "cell_type": "code",
      "metadata": {
        "id": "_VWJIDvG9IkJ",
        "colab_type": "code",
        "colab": {}
      },
      "source": [
        "pipeline = search.best_estimator_"
      ],
      "execution_count": 0,
      "outputs": []
    },
    {
      "cell_type": "code",
      "metadata": {
        "id": "j9HPAsYtgJbe",
        "colab_type": "code",
        "colab": {}
      },
      "source": [
        "y_pred = pipeline.predict(test)\n",
        "\n",
        "# Makes a dataframe with two columns, id and status_group, \n",
        "# and writes to a csv file, without the index\n",
        "\n",
        "sample_submission = pd.read_csv('sample_submission.csv')\n",
        "submission = sample_submission.copy()\n",
        "submission['status_group'] = y_pred\n",
        "submission.to_csv('your-submission-filename.csv', index=False)"
      ],
      "execution_count": 0,
      "outputs": []
    },
    {
      "cell_type": "code",
      "metadata": {
        "id": "EbZjC1yMhjVj",
        "colab_type": "code",
        "colab": {}
      },
      "source": [
        "from google.colab import files\n",
        "files.download('your-submission-filename.csv')"
      ],
      "execution_count": 0,
      "outputs": []
    }
  ]
}