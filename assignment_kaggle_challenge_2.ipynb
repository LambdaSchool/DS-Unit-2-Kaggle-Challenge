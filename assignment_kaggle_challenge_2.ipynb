{
  "nbformat": 4,
  "nbformat_minor": 0,
  "metadata": {
    "colab": {
      "name": "assignment_kaggle_challenge_2.ipynb",
      "version": "0.3.2",
      "provenance": [],
      "collapsed_sections": [],
      "include_colab_link": true
    },
    "kernelspec": {
      "name": "python3",
      "display_name": "Python 3"
    }
  },
  "cells": [
    {
      "cell_type": "markdown",
      "metadata": {
        "id": "view-in-github",
        "colab_type": "text"
      },
      "source": [
        "<a href=\"https://colab.research.google.com/github/elliotgunn/DS-Unit-2-Kaggle-Challenge/blob/master/assignment_kaggle_challenge_2.ipynb\" target=\"_parent\"><img src=\"https://colab.research.google.com/assets/colab-badge.svg\" alt=\"Open In Colab\"/></a>"
      ]
    },
    {
      "cell_type": "markdown",
      "metadata": {
        "id": "7IXUfiQ2UKj6",
        "colab_type": "text"
      },
      "source": [
        "Lambda School Data Science, Unit 2: Predictive Modeling\n",
        "\n",
        "# Kaggle Challenge, Module 2\n",
        "\n",
        "## Assignment\n",
        "- [ ] Read [“Adopting a Hypothesis-Driven Workflow”](https://outline.com/5S5tsB), a blog post by a Lambda DS student about the Tanzania Waterpumps challenge.\n",
        "- [ ] Continue to participate in our Kaggle challenge.\n",
        "- [ ] Try Ordinal Encoding.\n",
        "- [ ] Try a Random Forest Classifier.\n",
        "- [ ] Submit your predictions to our Kaggle competition. (Go to our Kaggle InClass competition webpage. Use the blue **Submit Predictions** button to upload your CSV file. Or you can use the Kaggle API to submit your predictions.)\n",
        "- [ ] Commit your notebook to your fork of the GitHub repo.\n",
        "\n",
        "## Stretch Goals\n",
        "\n",
        "### Doing\n",
        "- [ ] Add your own stretch goal(s) !\n",
        "- [ ] Do more exploratory data analysis, data cleaning, feature engineering, and feature selection.\n",
        "- [ ] Try other [categorical encodings](https://contrib.scikit-learn.org/categorical-encoding/).\n",
        "- [ ] Get and plot your feature importances.\n",
        "- [ ] Make visualizations and share on Slack.\n",
        "\n",
        "### Reading\n",
        "\n",
        "Top recommendations in _**bold italic:**_\n",
        "\n",
        "#### Decision Trees\n",
        "- A Visual Introduction to Machine Learning, [Part 1: A Decision Tree](http://www.r2d3.us/visual-intro-to-machine-learning-part-1/),  and _**[Part 2: Bias and Variance](http://www.r2d3.us/visual-intro-to-machine-learning-part-2/)**_\n",
        "- [Decision Trees: Advantages & Disadvantages](https://christophm.github.io/interpretable-ml-book/tree.html#advantages-2)\n",
        "- [How a Russian mathematician constructed a decision tree — by hand — to solve a medical problem](http://fastml.com/how-a-russian-mathematician-constructed-a-decision-tree-by-hand-to-solve-a-medical-problem/)\n",
        "- [How decision trees work](https://brohrer.github.io/how_decision_trees_work.html)\n",
        "- [Let’s Write a Decision Tree Classifier from Scratch](https://www.youtube.com/watch?v=LDRbO9a6XPU)\n",
        "\n",
        "#### Random Forests\n",
        "- [_An Introduction to Statistical Learning_](http://www-bcf.usc.edu/~gareth/ISL/), Chapter 8: Tree-Based Methods\n",
        "- [Coloring with Random Forests](http://structuringtheunstructured.blogspot.com/2017/11/coloring-with-random-forests.html)\n",
        "- _**[Random Forests for Complete Beginners: The definitive guide to Random Forests and Decision Trees](https://victorzhou.com/blog/intro-to-random-forests/)**_\n",
        "\n",
        "#### Categorical encoding for trees\n",
        "- [Are categorical variables getting lost in your random forests?](https://roamanalytics.com/2016/10/28/are-categorical-variables-getting-lost-in-your-random-forests/)\n",
        "- [Beyond One-Hot: An Exploration of Categorical Variables](http://www.willmcginnis.com/2015/11/29/beyond-one-hot-an-exploration-of-categorical-variables/)\n",
        "- _**[Categorical Features and Encoding in Decision Trees](https://medium.com/data-design/visiting-categorical-features-and-encoding-in-decision-trees-53400fa65931)**_\n",
        "- _**[Coursera — How to Win a Data Science Competition: Learn from Top Kagglers — Concept of mean encoding](https://www.coursera.org/lecture/competitive-data-science/concept-of-mean-encoding-b5Gxv)**_\n",
        "- [Mean (likelihood) encodings: a comprehensive study](https://www.kaggle.com/vprokopev/mean-likelihood-encodings-a-comprehensive-study)\n",
        "- [The Mechanics of Machine Learning, Chapter 6: Categorically Speaking](https://mlbook.explained.ai/catvars.html)\n",
        "\n",
        "#### Imposter Syndrome\n",
        "- [Effort Shock and Reward Shock (How The Karate Kid Ruined The Modern World)](http://www.tempobook.com/2014/07/09/effort-shock-and-reward-shock/)\n",
        "- [How to manage impostor syndrome in data science](https://towardsdatascience.com/how-to-manage-impostor-syndrome-in-data-science-ad814809f068)\n",
        "- [\"I am not a real data scientist\"](https://brohrer.github.io/imposter_syndrome.html)\n",
        "- _**[Imposter Syndrome in Data Science](https://caitlinhudon.com/2018/01/19/imposter-syndrome-in-data-science/)**_\n",
        "\n",
        "\n",
        "\n",
        "\n"
      ]
    },
    {
      "cell_type": "code",
      "metadata": {
        "id": "o9eSnDYhUGD7",
        "colab_type": "code",
        "colab": {}
      },
      "source": [
        "# If you're in Colab...\n",
        "import os, sys\n",
        "in_colab = 'google.colab' in sys.modules\n",
        "\n",
        "if in_colab:\n",
        "    # Install required python packages:\n",
        "    # category_encoders, version >= 2.0\n",
        "    # pandas-profiling, version >= 2.0\n",
        "    # plotly, version >= 4.0\n",
        "    !pip install --upgrade category_encoders pandas-profiling plotly\n",
        "    \n",
        "    # Pull files from Github repo\n",
        "    os.chdir('/content')\n",
        "    !git init .\n",
        "    !git remote add origin https://github.com/LambdaSchool/DS-Unit-2-Kaggle-Challenge.git\n",
        "    !git pull origin master\n",
        "    \n",
        "    # Change into directory for module\n",
        "    os.chdir('module2')"
      ],
      "execution_count": 0,
      "outputs": []
    },
    {
      "cell_type": "code",
      "metadata": {
        "id": "RcLW7Ny4yxS2",
        "colab_type": "code",
        "colab": {}
      },
      "source": [
        "import pandas as pd\n",
        "import numpy as np\n",
        "from sklearn.model_selection import train_test_split\n",
        "\n",
        "# Merge train_features.csv & train_labels.csv\n",
        "train = pd.merge(pd.read_csv('../data/tanzania/train_features.csv'), \n",
        "                 pd.read_csv('../data/tanzania/train_labels.csv'))\n",
        "\n",
        "# Read test_features.csv & sample_submission.csv\n",
        "test = pd.read_csv('../data/tanzania/test_features.csv')\n",
        "sample_submission = pd.read_csv('../data/tanzania/sample_submission.csv')\n",
        "\n",
        "\n",
        "# Split train into train & val\n",
        "train, val = train_test_split(train, train_size=0.80, test_size=0.20, \n",
        "                              stratify=train['status_group'], random_state=42)\n",
        "\n",
        "def clean(X):\n",
        "  \n",
        "  # make a copy before modifying\n",
        "  X = X.copy()\n",
        "  \n",
        "  # duplicates, near duplicates, missing values\n",
        "  X = X.drop(columns=['payment', 'quantity_group', 'source_type', 'waterpoint_type', \n",
        "         'extraction_type', 'extraction_type_class', 'management_group',\n",
        "         'water_quality', 'num_private'])\n",
        "  \n",
        "  # About 3% of the time, latitude has small values near zero,\n",
        "  # outside Tanzania, so we'll treat these values like zero.\n",
        "  X['latitude'] = X['latitude'].replace(-2e-08, 0)\n",
        "  \n",
        "  # some columns have zeros and shouldn't, they are like null values\n",
        "  # replace those zeros with nulls, impute missing values later\n",
        "  cols_with_zeros = ['longitude', 'latitude', 'population', 'construction_year',\n",
        "                    'gps_height']\n",
        "  for col in cols_with_zeros:\n",
        "      X[col] = X[col].replace(0, np.nan)\n",
        "  \n",
        "  # extract year, month, day from date_recorded\n",
        "  X['date_recorded'] = pd.to_datetime(X['date_recorded'], infer_datetime_format=True)\n",
        "  X['year_recorded'] = X['date_recorded'].dt.year\n",
        "  X['month_recorded'] = X['date_recorded'].dt.month\n",
        "  X['day_recorded'] = X['date_recorded'].dt.day\n",
        "  # delete date_recorded\n",
        "  X = X.drop(columns='date_recorded')\n",
        "\n",
        "  # age of pump at time of inspection\n",
        "  X['pump_age'] = X['year_recorded'] - X['construction_year']\n",
        "  # there are five values with negatives, so we will return those as a np.nan\n",
        "  X['pump_age'] = X['pump_age'].replace([-5, -4, -3, -2, -1, -7], np.nan)\n",
        "  # remember to deal with missing years\n",
        "  X['years_missing'] = X['pump_age'].isnull()\n",
        "  \n",
        "  # drop recorded_by (never varies) and id (always varies, random)\n",
        "  X = X.drop(columns=['recorded_by', 'id'])\n",
        "  \n",
        "  # return the clean df\n",
        "  return X\n",
        "\n",
        "train = clean(train)\n",
        "val = clean(val)\n",
        "test = clean(test)"
      ],
      "execution_count": 0,
      "outputs": []
    },
    {
      "cell_type": "code",
      "metadata": {
        "id": "QJBD4ruICm1m",
        "colab_type": "code",
        "colab": {}
      },
      "source": [
        "import pandas as pd\n",
        "import numpy as np\n",
        "from sklearn.model_selection import train_test_split\n",
        "\n",
        "# Merge train_features.csv & train_labels.csv\n",
        "train = pd.merge(pd.read_csv('../data/tanzania/train_features.csv'), \n",
        "                 pd.read_csv('../data/tanzania/train_labels.csv'))\n",
        "\n",
        "# Read test_features.csv & sample_submission.csv\n",
        "test = pd.read_csv('../data/tanzania/test_features.csv')\n",
        "sample_submission = pd.read_csv('../data/tanzania/sample_submission.csv')\n",
        "\n",
        "\n",
        "# Split train into train & val\n",
        "train, val = train_test_split(train, train_size=0.80, test_size=0.20, \n",
        "                              stratify=train['status_group'], random_state=42)\n",
        "\n",
        "def clean(X):\n",
        "  \n",
        "  # make a copy before modifying\n",
        "  X = X.copy()\n",
        "  \n",
        "  # duplicates, near duplicates, missing values\n",
        "  X = X.drop(columns=['payment', 'quantity_group'])\n",
        "  \n",
        "  # About 3% of the time, latitude has small values near zero,\n",
        "  # outside Tanzania, so we'll treat these values like zero.\n",
        "  X['latitude'] = X['latitude'].replace(-2e-08, 0)\n",
        "  \n",
        "  # some columns have zeros and shouldn't, they are like null values\n",
        "  # replace those zeros with nulls, impute missing values later\n",
        "  cols_with_zeros = ['longitude', 'latitude', 'population', 'construction_year',\n",
        "                    'gps_height']\n",
        "  for col in cols_with_zeros:\n",
        "      X[col] = X[col].replace(0, np.nan)\n",
        "      # create a missing vaules column\n",
        "      X[col+'_missing'] = X[col].isnull()\n",
        "  \n",
        "  # extract year, month, day from date_recorded\n",
        "  X['date_recorded'] = pd.to_datetime(X['date_recorded'], infer_datetime_format=True)\n",
        "  X['year_recorded'] = X['date_recorded'].dt.year\n",
        "  X['month_recorded'] = X['date_recorded'].dt.month\n",
        "  X['day_recorded'] = X['date_recorded'].dt.day\n",
        "  # delete date_recorded\n",
        "  X = X.drop(columns='date_recorded')\n",
        "\n",
        "  # age of pump at time of inspection\n",
        "  X['pump_age'] = X['year_recorded'] - X['construction_year']\n",
        "  # there are five values with negatives, so we will return those as a np.nan\n",
        "  X['pump_age'] = X['pump_age'].replace([-5, -4, -3, -2, -1, -7], np.nan)\n",
        "  # remember to deal with missing years\n",
        "  X['years_missing'] = X['pump_age'].isnull()\n",
        "  \n",
        "  # drop recorded_by (never varies) and id (always varies, random)\n",
        "  X = X.drop(columns=['recorded_by', 'id'])\n",
        "  \n",
        "  # return the clean df\n",
        "  return X\n",
        "\n",
        "train = clean(train)\n",
        "val = clean(val)\n",
        "test = clean(test)"
      ],
      "execution_count": 0,
      "outputs": []
    },
    {
      "cell_type": "code",
      "metadata": {
        "id": "GoLyFn9NshcW",
        "colab_type": "code",
        "colab": {}
      },
      "source": [
        "# The status_group column is the target\n",
        "target = 'status_group'\n",
        "\n",
        "# Get a dataframe with all train columns except the target\n",
        "train_features = train.drop(columns=[target])\n",
        "\n",
        "# Get a list of the numeric features\n",
        "numeric_features = train_features.select_dtypes(include='number').columns.tolist()\n",
        "\n",
        "# Get a series with the cardinality of the nonnumeric features\n",
        "cardinality = train_features.select_dtypes(exclude='number').nunique()\n",
        "\n",
        "# Get a list of all categorical features with cardinality <= 50\n",
        "categorical_features = cardinality[cardinality <= 50].index.tolist()\n",
        "\n",
        "# Combine the lists \n",
        "features = numeric_features + categorical_features"
      ],
      "execution_count": 0,
      "outputs": []
    },
    {
      "cell_type": "code",
      "metadata": {
        "id": "YjbyUX-9uFgX",
        "colab_type": "code",
        "colab": {}
      },
      "source": [
        "# Arrange data into X features matrix and y target vector \n",
        "X_train = train[features]\n",
        "y_train = train[target]\n",
        "X_val = val[features]\n",
        "y_val = val[target]\n",
        "X_test = test[features]"
      ],
      "execution_count": 0,
      "outputs": []
    },
    {
      "cell_type": "markdown",
      "metadata": {
        "id": "9UvK7j8ysVC4",
        "colab_type": "text"
      },
      "source": [
        "## Random forest classifier with Ordinal encoding"
      ]
    },
    {
      "cell_type": "code",
      "metadata": {
        "id": "6UfZEUHusWyR",
        "colab_type": "code",
        "colab": {
          "base_uri": "https://localhost:8080/",
          "height": 34
        },
        "outputId": "c03016f2-7cd6-438c-8f25-e96dd8004f51"
      },
      "source": [
        "import category_encoders as ce\n",
        "from sklearn.impute import SimpleImputer\n",
        "from sklearn.ensemble import RandomForestClassifier\n",
        "from sklearn.pipeline import make_pipeline\n",
        "\n",
        "# already arranged X features matrix, y target vector\n",
        "\n",
        "# pipeline\n",
        "\n",
        "pipeline = make_pipeline(\n",
        "    ce.OrdinalEncoder(),\n",
        "    SimpleImputer(strategy='mean'),\n",
        "    RandomForestClassifier(n_estimators=500, random_state=42, n_jobs=-1,\n",
        "                          oob_score=True, min_samples_leaf = 1)\n",
        ")\n",
        "\n",
        "# Fit on train, score on val\n",
        "pipeline.fit(X_train, y_train)\n",
        "print('Validation Accuracy', pipeline.score(X_val, y_val))"
      ],
      "execution_count": 89,
      "outputs": [
        {
          "output_type": "stream",
          "text": [
            "Validation Accuracy 0.8118686868686869\n"
          ],
          "name": "stdout"
        }
      ]
    },
    {
      "cell_type": "code",
      "metadata": {
        "id": "A_A9hPWHvYpn",
        "colab_type": "code",
        "colab": {
          "base_uri": "https://localhost:8080/",
          "height": 51
        },
        "outputId": "9a979c9d-5420-4a6b-94c6-187705d3a3d3"
      },
      "source": [
        "# to see how many features were added through ordinal encoding\n",
        "\n",
        "encoder = pipeline.named_steps['ordinalencoder']\n",
        "encoded = encoder.transform(X_train)\n",
        "\n",
        "print(X_train.shape)\n",
        "print(encoded.shape)"
      ],
      "execution_count": 87,
      "outputs": [
        {
          "output_type": "stream",
          "text": [
            "(47520, 38)\n",
            "(47520, 38)\n"
          ],
          "name": "stdout"
        }
      ]
    },
    {
      "cell_type": "markdown",
      "metadata": {
        "id": "fXwG8pbU3N3H",
        "colab_type": "text"
      },
      "source": [
        "### parameter tuning\n",
        "\n",
        "n_estimators: higher trees give better performance but make code slower. choose as high value as processor can handle as makes predictions stronger and more stable\n",
        "\n",
        "min_sample_leaf:  leaf is the end node of a decision tree. a smaller leaf makes the model more prone to capturing noise in train data. try multiple leaf sizes for the optimum size\n",
        "\n",
        "n_jobs: tells the engine how many processors it can use. -1 means no restriction. \n",
        "\n",
        "oob_score: cross validation method, much faster than leave one out validation technique. \n",
        "\n",
        "max_features: Max_feature is the number of features to consider each time to make the split decision. Let us say the the dimension of your data is 50 and the max_feature is 10, each time you need to find the split, you randomly select 10 features and use them to decide which one of the 10 is the best feature to use.\n",
        "\n",
        "\n"
      ]
    },
    {
      "cell_type": "code",
      "metadata": {
        "id": "DeGr_fUC3QPQ",
        "colab_type": "code",
        "colab": {
          "base_uri": "https://localhost:8080/",
          "height": 68
        },
        "outputId": "42a5f770-2ae8-45f7-a9b5-4e0ba0752253"
      },
      "source": [
        "sample_leaf_options = [1,5,10]\n",
        "\n",
        "for leaf_size in sample_leaf_options:\n",
        "  # pipeline\n",
        "\n",
        "  pipeline = make_pipeline(\n",
        "      ce.OrdinalEncoder(),\n",
        "      SimpleImputer(strategy='mean'),\n",
        "      RandomForestClassifier(n_estimators=200, random_state=42, n_jobs=-1,\n",
        "                            min_samples_leaf = leaf_size)\n",
        "  )\n",
        "\n",
        "  # Fit on train, score on val\n",
        "  pipeline.fit(X_train, y_train)\n",
        "  \n",
        "  print(f\"AUC-ROC, {leaf_size}: \", pipeline.score(X_val, y_val))\n",
        "\n",
        "  "
      ],
      "execution_count": 79,
      "outputs": [
        {
          "output_type": "stream",
          "text": [
            "AUC-ROC, 1:  0.8097643097643098\n",
            "AUC-ROC, 5:  0.8087542087542088\n",
            "AUC-ROC, 10:  0.7984006734006734\n"
          ],
          "name": "stdout"
        }
      ]
    },
    {
      "cell_type": "code",
      "metadata": {
        "id": "5r_RrC916swl",
        "colab_type": "code",
        "colab": {
          "base_uri": "https://localhost:8080/",
          "height": 68
        },
        "outputId": "92bfe4af-c7a0-4e3c-977d-ce44861ecdae"
      },
      "source": [
        "import numpy as np\n",
        "max_features_options = [0.1, 0.2, 0.3]\n",
        "\n",
        "for num_features in max_features_options:\n",
        "  # pipeline\n",
        "  pipeline = make_pipeline(\n",
        "      ce.OrdinalEncoder(),\n",
        "      SimpleImputer(strategy='mean'),\n",
        "      RandomForestClassifier(n_estimators=200, random_state=42, n_jobs=-1,\n",
        "                            max_features = num_features, min_samples_leaf = 1)\n",
        "  )\n",
        "\n",
        "  # Fit on train, score on val\n",
        "  pipeline.fit(X_train, y_train)\n",
        "  \n",
        "  print(f\"AUC-ROC, {num_features}: \", pipeline.score(X_val, y_val))\n"
      ],
      "execution_count": 82,
      "outputs": [
        {
          "output_type": "stream",
          "text": [
            "AUC-ROC, 0.1:  0.80993265993266\n",
            "AUC-ROC, 0.2:  0.8111111111111111\n",
            "AUC-ROC, 0.3:  0.8101010101010101\n"
          ],
          "name": "stdout"
        }
      ]
    },
    {
      "cell_type": "markdown",
      "metadata": {
        "id": "rsuZnE70sXVp",
        "colab_type": "text"
      },
      "source": [
        "## Random Forest Classifier with one hot encoder"
      ]
    },
    {
      "cell_type": "code",
      "metadata": {
        "id": "rqDRxjWPsb-f",
        "colab_type": "code",
        "colab": {
          "base_uri": "https://localhost:8080/",
          "height": 34
        },
        "outputId": "e2a80822-c958-423d-f748-594c8e698036"
      },
      "source": [
        "import category_encoders as ce\n",
        "from sklearn.impute import SimpleImputer\n",
        "from sklearn.ensemble import RandomForestClassifier\n",
        "from sklearn.pipeline import make_pipeline\n",
        "\n",
        "pipeline = make_pipeline(\n",
        "    ce.OneHotEncoder(use_cat_names='True'),\n",
        "    SimpleImputer(strategy='mean'),\n",
        "    RandomForestClassifier(n_estimators=500, random_state=42, n_jobs=-1,\n",
        "                          oob_score=True, min_samples_leaf = 1)\n",
        ")\n",
        "\n",
        "# n_estimators = number of trees in the forest\n",
        "# n_job=-1 is asking for max power to process\n",
        "\n",
        "# fit on train, score on val\n",
        "pipeline.fit(X_train, y_train)\n",
        "print('Validation Accuracy: ', pipeline.score(X_val, y_val))"
      ],
      "execution_count": 88,
      "outputs": [
        {
          "output_type": "stream",
          "text": [
            "Validation Accuracy:  0.8115319865319865\n"
          ],
          "name": "stdout"
        }
      ]
    },
    {
      "cell_type": "code",
      "metadata": {
        "id": "khJjDnoYw_gr",
        "colab_type": "code",
        "colab": {
          "base_uri": "https://localhost:8080/",
          "height": 51
        },
        "outputId": "e5f0c247-a489-478c-9311-b2c6430a0407"
      },
      "source": [
        "# to see how many features were added through one hot encoding\n",
        "\n",
        "encoder = pipeline.named_steps['onehotencoder']\n",
        "encoder = encoder.transform(X_train)\n",
        "\n",
        "print(X_train.shape)\n",
        "print(encoded.shape)"
      ],
      "execution_count": 70,
      "outputs": [
        {
          "output_type": "stream",
          "text": [
            "(47520, 38)\n",
            "(47520, 26)\n"
          ],
          "name": "stdout"
        }
      ]
    },
    {
      "cell_type": "code",
      "metadata": {
        "id": "zXSY4GOKxpIe",
        "colab_type": "code",
        "colab": {}
      },
      "source": [
        "# use the one hot encoder model\n",
        "\n",
        "y_pred = pipeline.predict(X_test)"
      ],
      "execution_count": 0,
      "outputs": []
    },
    {
      "cell_type": "markdown",
      "metadata": {
        "id": "cTVUnxLexb2y",
        "colab_type": "text"
      },
      "source": [
        "## submit "
      ]
    },
    {
      "cell_type": "code",
      "metadata": {
        "id": "bxwK3AH6xc_1",
        "colab_type": "code",
        "colab": {}
      },
      "source": [
        "# Write submission csv file\n",
        "submission = sample_submission.copy()\n",
        "submission['status_group'] = y_pred\n",
        "submission.to_csv('submission-04.csv', index=False)"
      ],
      "execution_count": 0,
      "outputs": []
    },
    {
      "cell_type": "code",
      "metadata": {
        "id": "Re_UJLF2x3W5",
        "colab_type": "code",
        "colab": {}
      },
      "source": [
        "#from google.colab import drive\n",
        "#drive.mount('/content/drive')\n",
        "#%env KAGGLE_CONFIG_DIR=/content/drive/My Drive/"
      ],
      "execution_count": 0,
      "outputs": []
    },
    {
      "cell_type": "code",
      "metadata": {
        "id": "oMLhDWPfxffs",
        "colab_type": "code",
        "colab": {
          "base_uri": "https://localhost:8080/",
          "height": 51
        },
        "outputId": "9931d3a6-e721-4ec1-d001-681a4f5798cc"
      },
      "source": [
        "!kaggle competitions submit -c ds6-predictive-modeling-challenge -f submission-04.csv -m \"fourth\""
      ],
      "execution_count": 92,
      "outputs": [
        {
          "output_type": "stream",
          "text": [
            "100% 266k/266k [00:03<00:00, 90.2kB/s]\n",
            "Successfully submitted to DS6 Predictive Modeling Challenge"
          ],
          "name": "stdout"
        }
      ]
    }
  ]
}