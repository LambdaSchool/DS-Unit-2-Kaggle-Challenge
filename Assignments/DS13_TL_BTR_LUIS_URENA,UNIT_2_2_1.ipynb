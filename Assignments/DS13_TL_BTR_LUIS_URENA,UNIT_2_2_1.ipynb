{
  "nbformat": 4,
  "nbformat_minor": 0,
  "metadata": {
    "kernelspec": {
      "display_name": "Python 3",
      "language": "python",
      "name": "python3"
    },
    "language_info": {
      "codemirror_mode": {
        "name": "ipython",
        "version": 3
      },
      "file_extension": ".py",
      "mimetype": "text/x-python",
      "name": "python",
      "nbconvert_exporter": "python",
      "pygments_lexer": "ipython3",
      "version": "3.7.6"
    },
    "colab": {
      "name": "DS13_TL_BTR_LUIS_URENA,UNIT_2_2-1.ipynb",
      "provenance": [],
      "toc_visible": true,
      "include_colab_link": true
    }
  },
  "cells": [
    {
      "cell_type": "markdown",
      "metadata": {
        "id": "view-in-github",
        "colab_type": "text"
      },
      "source": [
        "<a href=\"https://colab.research.google.com/github/LuisFelipeUrena/DS-Unit-2-Kaggle-Challenge/blob/master/Assignments/DS13_TL_BTR_LUIS_URENA%2CUNIT_2_2_1.ipynb\" target=\"_parent\"><img src=\"https://colab.research.google.com/assets/colab-badge.svg\" alt=\"Open In Colab\"/></a>"
      ]
    },
    {
      "cell_type": "markdown",
      "metadata": {
        "id": "fBJFP_Lgs4jb",
        "colab_type": "text"
      },
      "source": [
        "Lambda School Data Science\n",
        "\n",
        "*Unit 2, Sprint 2, Module 1*\n",
        "\n",
        "---"
      ]
    },
    {
      "cell_type": "markdown",
      "metadata": {
        "colab_type": "text",
        "id": "7IXUfiQ2UKj6"
      },
      "source": [
        "# Decision Trees\n",
        "\n",
        "## Assignment\n",
        "- [ ] [Sign up for a Kaggle account](https://www.kaggle.com/), if you don’t already have one. Go to our Kaggle InClass competition website. You will be given the URL in Slack. Go to the Rules page. Accept the rules of the competition. Notice that the Rules page also has instructions for the Submission process. The Data page has feature definitions.\n",
        "- [ ] Do train/validate/test split with the Tanzania Waterpumps data.\n",
        "- [ ] Begin with baselines for classification.\n",
        "- [ ] Select features. Use a scikit-learn pipeline to encode categoricals, impute missing values, and fit a decision tree classifier.\n",
        "- [ ] Get your validation accuracy score.\n",
        "- [ ] Get and plot your feature importances.\n",
        "- [ ] Submit your predictions to our Kaggle competition. (Go to our Kaggle InClass competition webpage. Use the blue **Submit Predictions** button to upload your CSV file. Or you can use the Kaggle API to submit your predictions.)\n",
        "- [ ] Commit your notebook to your fork of the GitHub repo.\n",
        "\n",
        "\n",
        "## Stretch Goals\n",
        "\n",
        "### Reading\n",
        "\n",
        "- A Visual Introduction to Machine Learning\n",
        "  - [Part 1: A Decision Tree](http://www.r2d3.us/visual-intro-to-machine-learning-part-1/)\n",
        "  - [Part 2: Bias and Variance](http://www.r2d3.us/visual-intro-to-machine-learning-part-2/)\n",
        "- [Decision Trees: Advantages & Disadvantages](https://christophm.github.io/interpretable-ml-book/tree.html#advantages-2)\n",
        "- [How a Russian mathematician constructed a decision tree — by hand — to solve a medical problem](http://fastml.com/how-a-russian-mathematician-constructed-a-decision-tree-by-hand-to-solve-a-medical-problem/)\n",
        "- [How decision trees work](https://brohrer.github.io/how_decision_trees_work.html)\n",
        "- [Let’s Write a Decision Tree Classifier from Scratch](https://www.youtube.com/watch?v=LDRbO9a6XPU) — _Don’t worry about understanding the code, just get introduced to the concepts. This 10 minute video has excellent diagrams and explanations._\n",
        "- [Random Forests for Complete Beginners: The definitive guide to Random Forests and Decision Trees](https://victorzhou.com/blog/intro-to-random-forests/)\n",
        "\n",
        "\n",
        "### Doing\n",
        "- [ ] Add your own stretch goal(s) !\n",
        "- [ ] Define a function to wrangle train, validate, and test sets in the same way. Clean outliers and engineer features. (For example, [what columns have zeros and shouldn't?](https://github.com/Quartz/bad-data-guide#zeros-replace-missing-values) What columns are duplicates, or nearly duplicates? Can you extract the year from date_recorded? Can you engineer new features, such as the number of years from waterpump construction to waterpump inspection?)\n",
        "- [ ] Try other [scikit-learn imputers](https://scikit-learn.org/stable/modules/impute.html).\n",
        "- [ ] Make exploratory visualizations and share on Slack.\n",
        "\n",
        "\n",
        "#### Exploratory visualizations\n",
        "\n",
        "Visualize the relationships between feature(s) and target. I recommend you do this with your training set, after splitting your data. \n",
        "\n",
        "For this problem, you may want to create a new column to represent the target as a number, 0 or 1. For example:\n",
        "\n",
        "```python\n",
        "train['functional'] = (train['status_group']=='functional').astype(int)\n",
        "```\n",
        "\n",
        "\n",
        "\n",
        "You can try [Seaborn \"Categorical estimate\" plots](https://seaborn.pydata.org/tutorial/categorical.html) for features with reasonably few unique values. (With too many unique values, the plot is unreadable.)\n",
        "\n",
        "- Categorical features. (If there are too many unique values, you can replace less frequent values with \"OTHER.\")\n",
        "- Numeric features. (If there are too many unique values, you can [bin with pandas cut / qcut functions](https://pandas.pydata.org/pandas-docs/stable/getting_started/basics.html?highlight=qcut#discretization-and-quantiling).)\n",
        "\n",
        "You can try [Seaborn linear model plots](https://seaborn.pydata.org/tutorial/regression.html) with numeric features. For this classification problem, you may want to use the parameter `logistic=True`, but it can be slow.\n",
        "\n",
        "You do _not_ need to use Seaborn, but it's nice because it includes confidence intervals to visualize uncertainty.\n",
        "\n",
        "#### High-cardinality categoricals\n",
        "\n",
        "This code from a previous assignment demonstrates how to replace less frequent values with 'OTHER'\n",
        "\n",
        "```python\n",
        "# Reduce cardinality for NEIGHBORHOOD feature ...\n",
        "\n",
        "# Get a list of the top 10 neighborhoods\n",
        "top10 = train['NEIGHBORHOOD'].value_counts()[:10].index\n",
        "\n",
        "# At locations where the neighborhood is NOT in the top 10,\n",
        "# replace the neighborhood with 'OTHER'\n",
        "train.loc[~train['NEIGHBORHOOD'].isin(top10), 'NEIGHBORHOOD'] = 'OTHER'\n",
        "test.loc[~test['NEIGHBORHOOD'].isin(top10), 'NEIGHBORHOOD'] = 'OTHER'\n",
        "```\n"
      ]
    },
    {
      "cell_type": "code",
      "metadata": {
        "colab_type": "code",
        "id": "o9eSnDYhUGD7",
        "colab": {
          "base_uri": "https://localhost:8080/",
          "height": 1000
        },
        "outputId": "95135165-e25e-49c3-f057-65b75b90c3f1"
      },
      "source": [
        "import sys\n",
        "\n",
        "# If you're on Colab:\n",
        "if 'google.colab' in sys.modules:\n",
        "    DATA_PATH = 'https://raw.githubusercontent.com/LambdaSchool/DS-Unit-2-Kaggle-Challenge/master/data/'\n",
        "    !pip install category_encoders==2.*\n",
        "    !pip install pandas-profiling==2.*\n",
        "\n",
        "# If you're working locally:\n",
        "else:\n",
        "    DATA_PATH = '../data/'"
      ],
      "execution_count": 1,
      "outputs": [
        {
          "output_type": "stream",
          "text": [
            "Collecting category_encoders==2.*\n",
            "\u001b[?25l  Downloading https://files.pythonhosted.org/packages/a0/52/c54191ad3782de633ea3d6ee3bb2837bda0cf3bc97644bb6375cf14150a0/category_encoders-2.1.0-py2.py3-none-any.whl (100kB)\n",
            "\r\u001b[K     |███▎                            | 10kB 19.1MB/s eta 0:00:01\r\u001b[K     |██████▌                         | 20kB 1.8MB/s eta 0:00:01\r\u001b[K     |█████████▉                      | 30kB 2.2MB/s eta 0:00:01\r\u001b[K     |█████████████                   | 40kB 1.7MB/s eta 0:00:01\r\u001b[K     |████████████████▍               | 51kB 1.9MB/s eta 0:00:01\r\u001b[K     |███████████████████▋            | 61kB 2.3MB/s eta 0:00:01\r\u001b[K     |██████████████████████▉         | 71kB 2.4MB/s eta 0:00:01\r\u001b[K     |██████████████████████████▏     | 81kB 2.6MB/s eta 0:00:01\r\u001b[K     |█████████████████████████████▍  | 92kB 2.9MB/s eta 0:00:01\r\u001b[K     |████████████████████████████████| 102kB 2.3MB/s \n",
            "\u001b[?25hRequirement already satisfied: patsy>=0.4.1 in /usr/local/lib/python3.6/dist-packages (from category_encoders==2.*) (0.5.1)\n",
            "Requirement already satisfied: numpy>=1.11.3 in /usr/local/lib/python3.6/dist-packages (from category_encoders==2.*) (1.18.1)\n",
            "Requirement already satisfied: pandas>=0.21.1 in /usr/local/lib/python3.6/dist-packages (from category_encoders==2.*) (0.25.3)\n",
            "Requirement already satisfied: statsmodels>=0.6.1 in /usr/local/lib/python3.6/dist-packages (from category_encoders==2.*) (0.10.2)\n",
            "Requirement already satisfied: scipy>=0.19.0 in /usr/local/lib/python3.6/dist-packages (from category_encoders==2.*) (1.4.1)\n",
            "Requirement already satisfied: scikit-learn>=0.20.0 in /usr/local/lib/python3.6/dist-packages (from category_encoders==2.*) (0.22.2.post1)\n",
            "Requirement already satisfied: six in /usr/local/lib/python3.6/dist-packages (from patsy>=0.4.1->category_encoders==2.*) (1.12.0)\n",
            "Requirement already satisfied: pytz>=2017.2 in /usr/local/lib/python3.6/dist-packages (from pandas>=0.21.1->category_encoders==2.*) (2018.9)\n",
            "Requirement already satisfied: python-dateutil>=2.6.1 in /usr/local/lib/python3.6/dist-packages (from pandas>=0.21.1->category_encoders==2.*) (2.8.1)\n",
            "Requirement already satisfied: joblib>=0.11 in /usr/local/lib/python3.6/dist-packages (from scikit-learn>=0.20.0->category_encoders==2.*) (0.14.1)\n",
            "Installing collected packages: category-encoders\n",
            "Successfully installed category-encoders-2.1.0\n",
            "Collecting pandas-profiling==2.*\n",
            "\u001b[?25l  Downloading https://files.pythonhosted.org/packages/e8/b0/bd5e3aaf37302fbe581b6947dc5ec1cda02a0ffe50fc823123def73e4d7a/pandas-profiling-2.5.0.tar.gz (192kB)\n",
            "\u001b[K     |████████████████████████████████| 194kB 2.8MB/s \n",
            "\u001b[?25hRequirement already satisfied: numpy>=1.16.0 in /usr/local/lib/python3.6/dist-packages (from pandas-profiling==2.*) (1.18.1)\n",
            "Requirement already satisfied: scipy>=1.4.1 in /usr/local/lib/python3.6/dist-packages (from pandas-profiling==2.*) (1.4.1)\n",
            "Requirement already satisfied: pandas==0.25.3 in /usr/local/lib/python3.6/dist-packages (from pandas-profiling==2.*) (0.25.3)\n",
            "Requirement already satisfied: matplotlib>=3.0.3 in /usr/local/lib/python3.6/dist-packages (from pandas-profiling==2.*) (3.2.0)\n",
            "Collecting confuse==1.0.0\n",
            "  Downloading https://files.pythonhosted.org/packages/4c/6f/90e860cba937c174d8b3775729ccc6377eb91f52ad4eeb008e7252a3646d/confuse-1.0.0.tar.gz\n",
            "Requirement already satisfied: jinja2==2.11.1 in /usr/local/lib/python3.6/dist-packages (from pandas-profiling==2.*) (2.11.1)\n",
            "Collecting visions==0.2.2\n",
            "  Downloading https://files.pythonhosted.org/packages/07/4a/ab37f8bafda516b66c4f475b221a6c170097c0db203750a4aafb01023339/visions-0.2.2.tar.gz\n",
            "Collecting htmlmin==0.1.12\n",
            "  Downloading https://files.pythonhosted.org/packages/b3/e7/fcd59e12169de19f0131ff2812077f964c6b960e7c09804d30a7bf2ab461/htmlmin-0.1.12.tar.gz\n",
            "Requirement already satisfied: missingno==0.4.2 in /usr/local/lib/python3.6/dist-packages (from pandas-profiling==2.*) (0.4.2)\n",
            "Collecting phik==0.9.9\n",
            "\u001b[?25l  Downloading https://files.pythonhosted.org/packages/03/cf/b8cef2778104dc5d319f36dd836efaceb07a037cbf63f27c966b5a193ce9/phik-0.9.9-py3-none-any.whl (607kB)\n",
            "\u001b[K     |████████████████████████████████| 614kB 49.8MB/s \n",
            "\u001b[?25hRequirement already satisfied: astropy>=3.2.3 in /usr/local/lib/python3.6/dist-packages (from pandas-profiling==2.*) (4.0)\n",
            "Collecting tangled-up-in-unicode==0.0.3\n",
            "\u001b[?25l  Downloading https://files.pythonhosted.org/packages/43/fc/e3c970c5007b405827a4623e70fc4eb966ee49bc1edbd56c33e85e1c6534/tangled_up_in_unicode-0.0.3.tar.gz (1.5MB)\n",
            "\u001b[K     |████████████████████████████████| 1.5MB 53.2MB/s \n",
            "\u001b[?25hCollecting tqdm==4.42.0\n",
            "\u001b[?25l  Downloading https://files.pythonhosted.org/packages/cc/2e/4307206db63f05ed37e21d4c0d843d0fbcacd62479f8ce99ba0f2c0875e0/tqdm-4.42.0-py2.py3-none-any.whl (59kB)\n",
            "\u001b[K     |████████████████████████████████| 61kB 7.9MB/s \n",
            "\u001b[?25hRequirement already satisfied: kaggle==1.5.6 in /usr/local/lib/python3.6/dist-packages (from pandas-profiling==2.*) (1.5.6)\n",
            "Requirement already satisfied: ipywidgets==7.5.1 in /usr/local/lib/python3.6/dist-packages (from pandas-profiling==2.*) (7.5.1)\n",
            "Collecting requests==2.22.0\n",
            "\u001b[?25l  Downloading https://files.pythonhosted.org/packages/51/bd/23c926cd341ea6b7dd0b2a00aba99ae0f828be89d72b2190f27c11d4b7fb/requests-2.22.0-py2.py3-none-any.whl (57kB)\n",
            "\u001b[K     |████████████████████████████████| 61kB 8.2MB/s \n",
            "\u001b[?25hRequirement already satisfied: pytz>=2017.2 in /usr/local/lib/python3.6/dist-packages (from pandas==0.25.3->pandas-profiling==2.*) (2018.9)\n",
            "Requirement already satisfied: python-dateutil>=2.6.1 in /usr/local/lib/python3.6/dist-packages (from pandas==0.25.3->pandas-profiling==2.*) (2.8.1)\n",
            "Requirement already satisfied: cycler>=0.10 in /usr/local/lib/python3.6/dist-packages (from matplotlib>=3.0.3->pandas-profiling==2.*) (0.10.0)\n",
            "Requirement already satisfied: pyparsing!=2.0.4,!=2.1.2,!=2.1.6,>=2.0.1 in /usr/local/lib/python3.6/dist-packages (from matplotlib>=3.0.3->pandas-profiling==2.*) (2.4.6)\n",
            "Requirement already satisfied: kiwisolver>=1.0.1 in /usr/local/lib/python3.6/dist-packages (from matplotlib>=3.0.3->pandas-profiling==2.*) (1.1.0)\n",
            "Requirement already satisfied: pyyaml in /usr/local/lib/python3.6/dist-packages (from confuse==1.0.0->pandas-profiling==2.*) (3.13)\n",
            "Requirement already satisfied: MarkupSafe>=0.23 in /usr/local/lib/python3.6/dist-packages (from jinja2==2.11.1->pandas-profiling==2.*) (1.1.1)\n",
            "Requirement already satisfied: networkx in /usr/local/lib/python3.6/dist-packages (from visions==0.2.2->pandas-profiling==2.*) (2.4)\n",
            "Collecting attr\n",
            "  Downloading https://files.pythonhosted.org/packages/de/be/ddc7f84d4e087144472a38a373d3e319f51a6faf6e5fc1ae897173675f21/attr-0.3.1.tar.gz\n",
            "Requirement already satisfied: seaborn in /usr/local/lib/python3.6/dist-packages (from missingno==0.4.2->pandas-profiling==2.*) (0.10.0)\n",
            "Requirement already satisfied: numba>=0.38.1 in /usr/local/lib/python3.6/dist-packages (from phik==0.9.9->pandas-profiling==2.*) (0.47.0)\n",
            "Collecting pytest>=4.0.2\n",
            "\u001b[?25l  Downloading https://files.pythonhosted.org/packages/c7/e2/c19c667f42f72716a7d03e8dd4d6f63f47d39feadd44cc1ee7ca3089862c/pytest-5.4.1-py3-none-any.whl (246kB)\n",
            "\u001b[K     |████████████████████████████████| 256kB 45.7MB/s \n",
            "\u001b[?25hCollecting pytest-pylint>=0.13.0\n",
            "  Downloading https://files.pythonhosted.org/packages/31/ef/e848f832a596a8a40b32d8aa169788b4df167c2d6a5960c01e83a30ebaa7/pytest_pylint-0.15.1-py3-none-any.whl\n",
            "Requirement already satisfied: nbconvert>=5.3.1 in /usr/local/lib/python3.6/dist-packages (from phik==0.9.9->pandas-profiling==2.*) (5.6.1)\n",
            "Requirement already satisfied: jupyter-client>=5.2.3 in /usr/local/lib/python3.6/dist-packages (from phik==0.9.9->pandas-profiling==2.*) (5.3.4)\n",
            "Requirement already satisfied: joblib>=0.14.1 in /usr/local/lib/python3.6/dist-packages (from phik==0.9.9->pandas-profiling==2.*) (0.14.1)\n",
            "Requirement already satisfied: certifi in /usr/local/lib/python3.6/dist-packages (from kaggle==1.5.6->pandas-profiling==2.*) (2019.11.28)\n",
            "Requirement already satisfied: urllib3<1.25,>=1.21.1 in /usr/local/lib/python3.6/dist-packages (from kaggle==1.5.6->pandas-profiling==2.*) (1.24.3)\n",
            "Requirement already satisfied: python-slugify in /usr/local/lib/python3.6/dist-packages (from kaggle==1.5.6->pandas-profiling==2.*) (4.0.0)\n",
            "Requirement already satisfied: six>=1.10 in /usr/local/lib/python3.6/dist-packages (from kaggle==1.5.6->pandas-profiling==2.*) (1.12.0)\n",
            "Requirement already satisfied: ipykernel>=4.5.1 in /usr/local/lib/python3.6/dist-packages (from ipywidgets==7.5.1->pandas-profiling==2.*) (4.6.1)\n",
            "Requirement already satisfied: nbformat>=4.2.0 in /usr/local/lib/python3.6/dist-packages (from ipywidgets==7.5.1->pandas-profiling==2.*) (5.0.4)\n",
            "Requirement already satisfied: widgetsnbextension~=3.5.0 in /usr/local/lib/python3.6/dist-packages (from ipywidgets==7.5.1->pandas-profiling==2.*) (3.5.1)\n",
            "Requirement already satisfied: traitlets>=4.3.1 in /usr/local/lib/python3.6/dist-packages (from ipywidgets==7.5.1->pandas-profiling==2.*) (4.3.3)\n",
            "Requirement already satisfied: ipython>=4.0.0; python_version >= \"3.3\" in /usr/local/lib/python3.6/dist-packages (from ipywidgets==7.5.1->pandas-profiling==2.*) (5.5.0)\n",
            "Requirement already satisfied: chardet<3.1.0,>=3.0.2 in /usr/local/lib/python3.6/dist-packages (from requests==2.22.0->pandas-profiling==2.*) (3.0.4)\n",
            "Requirement already satisfied: idna<2.9,>=2.5 in /usr/local/lib/python3.6/dist-packages (from requests==2.22.0->pandas-profiling==2.*) (2.8)\n",
            "Requirement already satisfied: setuptools in /usr/local/lib/python3.6/dist-packages (from kiwisolver>=1.0.1->matplotlib>=3.0.3->pandas-profiling==2.*) (45.2.0)\n",
            "Requirement already satisfied: decorator>=4.3.0 in /usr/local/lib/python3.6/dist-packages (from networkx->visions==0.2.2->pandas-profiling==2.*) (4.4.2)\n",
            "Requirement already satisfied: llvmlite>=0.31.0dev0 in /usr/local/lib/python3.6/dist-packages (from numba>=0.38.1->phik==0.9.9->pandas-profiling==2.*) (0.31.0)\n",
            "Collecting pluggy<1.0,>=0.12\n",
            "  Downloading https://files.pythonhosted.org/packages/a0/28/85c7aa31b80d150b772fbe4a229487bc6644da9ccb7e427dd8cc60cb8a62/pluggy-0.13.1-py2.py3-none-any.whl\n",
            "Requirement already satisfied: wcwidth in /usr/local/lib/python3.6/dist-packages (from pytest>=4.0.2->phik==0.9.9->pandas-profiling==2.*) (0.1.8)\n",
            "Requirement already satisfied: py>=1.5.0 in /usr/local/lib/python3.6/dist-packages (from pytest>=4.0.2->phik==0.9.9->pandas-profiling==2.*) (1.8.1)\n",
            "Requirement already satisfied: more-itertools>=4.0.0 in /usr/local/lib/python3.6/dist-packages (from pytest>=4.0.2->phik==0.9.9->pandas-profiling==2.*) (8.2.0)\n",
            "Requirement already satisfied: packaging in /usr/local/lib/python3.6/dist-packages (from pytest>=4.0.2->phik==0.9.9->pandas-profiling==2.*) (20.3)\n",
            "Requirement already satisfied: importlib-metadata>=0.12; python_version < \"3.8\" in /usr/local/lib/python3.6/dist-packages (from pytest>=4.0.2->phik==0.9.9->pandas-profiling==2.*) (1.5.0)\n",
            "Requirement already satisfied: attrs>=17.4.0 in /usr/local/lib/python3.6/dist-packages (from pytest>=4.0.2->phik==0.9.9->pandas-profiling==2.*) (19.3.0)\n",
            "Collecting pylint>=2.0.0\n",
            "\u001b[?25l  Downloading https://files.pythonhosted.org/packages/e9/59/43fc36c5ee316bb9aeb7cf5329cdbdca89e5749c34d5602753827c0aa2dc/pylint-2.4.4-py3-none-any.whl (302kB)\n",
            "\u001b[K     |████████████████████████████████| 307kB 42.4MB/s \n",
            "\u001b[?25hRequirement already satisfied: defusedxml in /usr/local/lib/python3.6/dist-packages (from nbconvert>=5.3.1->phik==0.9.9->pandas-profiling==2.*) (0.6.0)\n",
            "Requirement already satisfied: pandocfilters>=1.4.1 in /usr/local/lib/python3.6/dist-packages (from nbconvert>=5.3.1->phik==0.9.9->pandas-profiling==2.*) (1.4.2)\n",
            "Requirement already satisfied: mistune<2,>=0.8.1 in /usr/local/lib/python3.6/dist-packages (from nbconvert>=5.3.1->phik==0.9.9->pandas-profiling==2.*) (0.8.4)\n",
            "Requirement already satisfied: pygments in /usr/local/lib/python3.6/dist-packages (from nbconvert>=5.3.1->phik==0.9.9->pandas-profiling==2.*) (2.1.3)\n",
            "Requirement already satisfied: entrypoints>=0.2.2 in /usr/local/lib/python3.6/dist-packages (from nbconvert>=5.3.1->phik==0.9.9->pandas-profiling==2.*) (0.3)\n",
            "Requirement already satisfied: jupyter-core in /usr/local/lib/python3.6/dist-packages (from nbconvert>=5.3.1->phik==0.9.9->pandas-profiling==2.*) (4.6.3)\n",
            "Requirement already satisfied: bleach in /usr/local/lib/python3.6/dist-packages (from nbconvert>=5.3.1->phik==0.9.9->pandas-profiling==2.*) (3.1.1)\n",
            "Requirement already satisfied: testpath in /usr/local/lib/python3.6/dist-packages (from nbconvert>=5.3.1->phik==0.9.9->pandas-profiling==2.*) (0.4.4)\n",
            "Requirement already satisfied: tornado>=4.1 in /usr/local/lib/python3.6/dist-packages (from jupyter-client>=5.2.3->phik==0.9.9->pandas-profiling==2.*) (4.5.3)\n",
            "Requirement already satisfied: pyzmq>=13 in /usr/local/lib/python3.6/dist-packages (from jupyter-client>=5.2.3->phik==0.9.9->pandas-profiling==2.*) (17.0.0)\n",
            "Requirement already satisfied: text-unidecode>=1.3 in /usr/local/lib/python3.6/dist-packages (from python-slugify->kaggle==1.5.6->pandas-profiling==2.*) (1.3)\n",
            "Requirement already satisfied: ipython-genutils in /usr/local/lib/python3.6/dist-packages (from nbformat>=4.2.0->ipywidgets==7.5.1->pandas-profiling==2.*) (0.2.0)\n",
            "Requirement already satisfied: jsonschema!=2.5.0,>=2.4 in /usr/local/lib/python3.6/dist-packages (from nbformat>=4.2.0->ipywidgets==7.5.1->pandas-profiling==2.*) (2.6.0)\n",
            "Requirement already satisfied: notebook>=4.4.1 in /usr/local/lib/python3.6/dist-packages (from widgetsnbextension~=3.5.0->ipywidgets==7.5.1->pandas-profiling==2.*) (5.2.2)\n",
            "Requirement already satisfied: pexpect; sys_platform != \"win32\" in /usr/local/lib/python3.6/dist-packages (from ipython>=4.0.0; python_version >= \"3.3\"->ipywidgets==7.5.1->pandas-profiling==2.*) (4.8.0)\n",
            "Requirement already satisfied: simplegeneric>0.8 in /usr/local/lib/python3.6/dist-packages (from ipython>=4.0.0; python_version >= \"3.3\"->ipywidgets==7.5.1->pandas-profiling==2.*) (0.8.1)\n",
            "Requirement already satisfied: prompt-toolkit<2.0.0,>=1.0.4 in /usr/local/lib/python3.6/dist-packages (from ipython>=4.0.0; python_version >= \"3.3\"->ipywidgets==7.5.1->pandas-profiling==2.*) (1.0.18)\n",
            "Requirement already satisfied: pickleshare in /usr/local/lib/python3.6/dist-packages (from ipython>=4.0.0; python_version >= \"3.3\"->ipywidgets==7.5.1->pandas-profiling==2.*) (0.7.5)\n",
            "Requirement already satisfied: zipp>=0.5 in /usr/local/lib/python3.6/dist-packages (from importlib-metadata>=0.12; python_version < \"3.8\"->pytest>=4.0.2->phik==0.9.9->pandas-profiling==2.*) (3.1.0)\n",
            "Collecting mccabe<0.7,>=0.6\n",
            "  Downloading https://files.pythonhosted.org/packages/87/89/479dc97e18549e21354893e4ee4ef36db1d237534982482c3681ee6e7b57/mccabe-0.6.1-py2.py3-none-any.whl\n",
            "Collecting isort<5,>=4.2.5\n",
            "\u001b[?25l  Downloading https://files.pythonhosted.org/packages/e5/b0/c121fd1fa3419ea9bfd55c7f9c4fedfec5143208d8c7ad3ce3db6c623c21/isort-4.3.21-py2.py3-none-any.whl (42kB)\n",
            "\u001b[K     |████████████████████████████████| 51kB 7.0MB/s \n",
            "\u001b[?25hCollecting astroid<2.4,>=2.3.0\n",
            "\u001b[?25l  Downloading https://files.pythonhosted.org/packages/ad/ae/86734823047962e7b8c8529186a1ac4a7ca19aaf1aa0c7713c022ef593fd/astroid-2.3.3-py3-none-any.whl (205kB)\n",
            "\u001b[K     |████████████████████████████████| 215kB 53.4MB/s \n",
            "\u001b[?25hRequirement already satisfied: webencodings in /usr/local/lib/python3.6/dist-packages (from bleach->nbconvert>=5.3.1->phik==0.9.9->pandas-profiling==2.*) (0.5.1)\n",
            "Requirement already satisfied: terminado>=0.3.3; sys_platform != \"win32\" in /usr/local/lib/python3.6/dist-packages (from notebook>=4.4.1->widgetsnbextension~=3.5.0->ipywidgets==7.5.1->pandas-profiling==2.*) (0.8.3)\n",
            "Requirement already satisfied: ptyprocess>=0.5 in /usr/local/lib/python3.6/dist-packages (from pexpect; sys_platform != \"win32\"->ipython>=4.0.0; python_version >= \"3.3\"->ipywidgets==7.5.1->pandas-profiling==2.*) (0.6.0)\n",
            "Collecting typed-ast<1.5,>=1.4.0; implementation_name == \"cpython\" and python_version < \"3.8\"\n",
            "\u001b[?25l  Downloading https://files.pythonhosted.org/packages/90/ed/5459080d95eb87a02fe860d447197be63b6e2b5e9ff73c2b0a85622994f4/typed_ast-1.4.1-cp36-cp36m-manylinux1_x86_64.whl (737kB)\n",
            "\u001b[K     |████████████████████████████████| 747kB 46.8MB/s \n",
            "\u001b[?25hCollecting wrapt==1.11.*\n",
            "  Downloading https://files.pythonhosted.org/packages/23/84/323c2415280bc4fc880ac5050dddfb3c8062c2552b34c2e512eb4aa68f79/wrapt-1.11.2.tar.gz\n",
            "Collecting lazy-object-proxy==1.4.*\n",
            "\u001b[?25l  Downloading https://files.pythonhosted.org/packages/0b/dd/b1e3407e9e6913cf178e506cd0dee818e58694d9a5cd1984e3f6a8b9a10f/lazy_object_proxy-1.4.3-cp36-cp36m-manylinux1_x86_64.whl (55kB)\n",
            "\u001b[K     |████████████████████████████████| 61kB 7.9MB/s \n",
            "\u001b[?25hBuilding wheels for collected packages: pandas-profiling, confuse, visions, htmlmin, tangled-up-in-unicode, attr, wrapt\n",
            "  Building wheel for pandas-profiling (setup.py) ... \u001b[?25l\u001b[?25hdone\n",
            "  Created wheel for pandas-profiling: filename=pandas_profiling-2.5.0-py2.py3-none-any.whl size=241329 sha256=ce48ce50fa874f0805ff6c75ed8fd1b922020994fa7320ed78fc32247aa616cf\n",
            "  Stored in directory: /root/.cache/pip/wheels/9b/c9/f1/4a2f30c760e017f3e2f46be999c4597a93d126ef5ea38e276f\n",
            "  Building wheel for confuse (setup.py) ... \u001b[?25l\u001b[?25hdone\n",
            "  Created wheel for confuse: filename=confuse-1.0.0-cp36-none-any.whl size=17487 sha256=c678e2186b1e39b3c40b0718de994cca56eb24bdb17ac4f3124a901439b9c925\n",
            "  Stored in directory: /root/.cache/pip/wheels/b0/b2/96/2074eee7dbf7b7df69d004c9b6ac4e32dad04fb7666cf943bd\n",
            "  Building wheel for visions (setup.py) ... \u001b[?25l\u001b[?25hdone\n",
            "  Created wheel for visions: filename=visions-0.2.2-cp36-none-any.whl size=53058 sha256=649454150b2c0cedce577600ae39375f56123710827d11160b764360aaf0b0eb\n",
            "  Stored in directory: /root/.cache/pip/wheels/53/87/68/294a9e88d82e395b38571df18f7cb71e9ab51cedae77dd6f31\n",
            "  Building wheel for htmlmin (setup.py) ... \u001b[?25l\u001b[?25hdone\n",
            "  Created wheel for htmlmin: filename=htmlmin-0.1.12-cp36-none-any.whl size=27084 sha256=1b83234492ed27f3131530d7b6701dd5c023fe681c5a44f6ba9a89860735ea5b\n",
            "  Stored in directory: /root/.cache/pip/wheels/43/07/ac/7c5a9d708d65247ac1f94066cf1db075540b85716c30255459\n",
            "  Building wheel for tangled-up-in-unicode (setup.py) ... \u001b[?25l\u001b[?25hdone\n",
            "  Created wheel for tangled-up-in-unicode: filename=tangled_up_in_unicode-0.0.3-cp36-none-any.whl size=1554154 sha256=56453d05d6e93eefc89b1706b2940e7c24dcf3821e25a67a1827754a0e3ffa91\n",
            "  Stored in directory: /root/.cache/pip/wheels/c4/57/cc/5f58206efb00418d4dcae8d08a3cb40627778ea29622f664c6\n",
            "  Building wheel for attr (setup.py) ... \u001b[?25l\u001b[?25hdone\n",
            "  Created wheel for attr: filename=attr-0.3.1-cp36-none-any.whl size=2459 sha256=703873db6de168d0f9645ea6ee8c6c437abde72bb42f64e1c4131c777f2f58ac\n",
            "  Stored in directory: /root/.cache/pip/wheels/f0/96/9b/1f8892a707d17095b5a6eab0275da9d39e68e03a26aee2e726\n",
            "  Building wheel for wrapt (setup.py) ... \u001b[?25l\u001b[?25hdone\n",
            "  Created wheel for wrapt: filename=wrapt-1.11.2-cp36-cp36m-linux_x86_64.whl size=67540 sha256=6500eb483eb38d8a3c149ea3b2ff7a7dc9b83bd83ad3ddc0d7366c8b031843ae\n",
            "  Stored in directory: /root/.cache/pip/wheels/d7/de/2e/efa132238792efb6459a96e85916ef8597fcb3d2ae51590dfd\n",
            "Successfully built pandas-profiling confuse visions htmlmin tangled-up-in-unicode attr wrapt\n",
            "\u001b[31mERROR: tensorflow-federated 0.12.0 has requirement tensorflow~=2.1.0, but you'll have tensorflow 1.15.0 which is incompatible.\u001b[0m\n",
            "\u001b[31mERROR: tensorflow-federated 0.12.0 has requirement tensorflow-addons~=0.7.0, but you'll have tensorflow-addons 0.8.3 which is incompatible.\u001b[0m\n",
            "\u001b[31mERROR: google-colab 1.0.0 has requirement requests~=2.21.0, but you'll have requests 2.22.0 which is incompatible.\u001b[0m\n",
            "\u001b[31mERROR: datascience 0.10.6 has requirement folium==0.2.1, but you'll have folium 0.8.3 which is incompatible.\u001b[0m\n",
            "Installing collected packages: confuse, tangled-up-in-unicode, attr, visions, htmlmin, pluggy, pytest, mccabe, isort, typed-ast, wrapt, lazy-object-proxy, astroid, pylint, pytest-pylint, phik, tqdm, requests, pandas-profiling\n",
            "  Found existing installation: pluggy 0.7.1\n",
            "    Uninstalling pluggy-0.7.1:\n",
            "      Successfully uninstalled pluggy-0.7.1\n",
            "  Found existing installation: pytest 3.6.4\n",
            "    Uninstalling pytest-3.6.4:\n",
            "      Successfully uninstalled pytest-3.6.4\n",
            "  Found existing installation: wrapt 1.12.1\n",
            "    Uninstalling wrapt-1.12.1:\n",
            "      Successfully uninstalled wrapt-1.12.1\n",
            "  Found existing installation: tqdm 4.28.1\n",
            "    Uninstalling tqdm-4.28.1:\n",
            "      Successfully uninstalled tqdm-4.28.1\n",
            "  Found existing installation: requests 2.21.0\n",
            "    Uninstalling requests-2.21.0:\n",
            "      Successfully uninstalled requests-2.21.0\n",
            "  Found existing installation: pandas-profiling 1.4.1\n",
            "    Uninstalling pandas-profiling-1.4.1:\n",
            "      Successfully uninstalled pandas-profiling-1.4.1\n",
            "Successfully installed astroid-2.3.3 attr-0.3.1 confuse-1.0.0 htmlmin-0.1.12 isort-4.3.21 lazy-object-proxy-1.4.3 mccabe-0.6.1 pandas-profiling-2.5.0 phik-0.9.9 pluggy-0.13.1 pylint-2.4.4 pytest-5.4.1 pytest-pylint-0.15.1 requests-2.22.0 tangled-up-in-unicode-0.0.3 tqdm-4.42.0 typed-ast-1.4.1 visions-0.2.2 wrapt-1.11.2\n"
          ],
          "name": "stdout"
        },
        {
          "output_type": "display_data",
          "data": {
            "application/vnd.colab-display-data+json": {
              "pip_warning": {
                "packages": [
                  "requests",
                  "tqdm"
                ]
              }
            }
          },
          "metadata": {
            "tags": []
          }
        }
      ]
    },
    {
      "cell_type": "code",
      "metadata": {
        "colab_type": "code",
        "id": "QJBD4ruICm1m",
        "colab": {
          "base_uri": "https://localhost:8080/",
          "height": 34
        },
        "outputId": "96a73f5c-8268-436b-b11a-ceb1a26e2061"
      },
      "source": [
        "import pandas as pd\n",
        "from sklearn.model_selection import train_test_split\n",
        "\n",
        "train = pd.merge(pd.read_csv(DATA_PATH+'waterpumps/train_features.csv'), \n",
        "                 pd.read_csv(DATA_PATH+'waterpumps/train_labels.csv'))\n",
        "test = pd.read_csv(DATA_PATH+'waterpumps/test_features.csv')\n",
        "sample_submission = pd.read_csv(DATA_PATH+'waterpumps/sample_submission.csv')\n",
        "\n",
        "train.shape, test.shape"
      ],
      "execution_count": 3,
      "outputs": [
        {
          "output_type": "execute_result",
          "data": {
            "text/plain": [
              "((59400, 41), (14358, 40))"
            ]
          },
          "metadata": {
            "tags": []
          },
          "execution_count": 3
        }
      ]
    },
    {
      "cell_type": "code",
      "metadata": {
        "id": "2r8o5Sy2s4j0",
        "colab_type": "code",
        "colab": {
          "base_uri": "https://localhost:8080/",
          "height": 34
        },
        "outputId": "4007f380-2bfe-484f-c448-5f36fa49a1e1"
      },
      "source": [
        "# Check Pandas Profiling version\n",
        "import pandas_profiling\n",
        "pandas_profiling.__version__"
      ],
      "execution_count": 4,
      "outputs": [
        {
          "output_type": "execute_result",
          "data": {
            "text/plain": [
              "'2.5.0'"
            ]
          },
          "metadata": {
            "tags": []
          },
          "execution_count": 4
        }
      ]
    },
    {
      "cell_type": "code",
      "metadata": {
        "colab_type": "code",
        "id": "2Amxyx3xphbb",
        "colab": {}
      },
      "source": [
        "# Old code for Pandas Profiling version 2.3\n",
        "# It can be very slow with medium & large datasets.\n",
        "# These parameters will make it faster.\n",
        "\n",
        "# profile = train.profile_report(\n",
        "#     check_correlation_pearson=False,\n",
        "#     correlations={\n",
        "#         'pearson': False,\n",
        "#         'spearman': False,\n",
        "#         'kendall': False,\n",
        "#         'phi_k': False,\n",
        "#         'cramers': False,\n",
        "#         'recoded': False,\n",
        "#     },\n",
        "#     plot={'histogram': {'bayesian_blocks_bins': False}},\n",
        "# )\n",
        "#\n",
        "\n",
        "# New code for Pandas Profiling version 2.4\n",
        "from pandas_profiling import ProfileReport\n",
        "profile = ProfileReport(train, minimal=True).to_notebook_iframe()\n",
        "\n",
        "profile"
      ],
      "execution_count": 0,
      "outputs": []
    },
    {
      "cell_type": "code",
      "metadata": {
        "id": "WGpEFl93s4kG",
        "colab_type": "code",
        "colab": {
          "base_uri": "https://localhost:8080/",
          "height": 402
        },
        "outputId": "b21195b6-e71c-4773-abdd-651f5a2b422d"
      },
      "source": [
        "sample_submission\n"
      ],
      "execution_count": 5,
      "outputs": [
        {
          "output_type": "execute_result",
          "data": {
            "text/html": [
              "<div>\n",
              "<style scoped>\n",
              "    .dataframe tbody tr th:only-of-type {\n",
              "        vertical-align: middle;\n",
              "    }\n",
              "\n",
              "    .dataframe tbody tr th {\n",
              "        vertical-align: top;\n",
              "    }\n",
              "\n",
              "    .dataframe thead th {\n",
              "        text-align: right;\n",
              "    }\n",
              "</style>\n",
              "<table border=\"1\" class=\"dataframe\">\n",
              "  <thead>\n",
              "    <tr style=\"text-align: right;\">\n",
              "      <th></th>\n",
              "      <th>id</th>\n",
              "      <th>status_group</th>\n",
              "    </tr>\n",
              "  </thead>\n",
              "  <tbody>\n",
              "    <tr>\n",
              "      <th>0</th>\n",
              "      <td>50785</td>\n",
              "      <td>functional</td>\n",
              "    </tr>\n",
              "    <tr>\n",
              "      <th>1</th>\n",
              "      <td>51630</td>\n",
              "      <td>functional</td>\n",
              "    </tr>\n",
              "    <tr>\n",
              "      <th>2</th>\n",
              "      <td>17168</td>\n",
              "      <td>functional</td>\n",
              "    </tr>\n",
              "    <tr>\n",
              "      <th>3</th>\n",
              "      <td>45559</td>\n",
              "      <td>functional</td>\n",
              "    </tr>\n",
              "    <tr>\n",
              "      <th>4</th>\n",
              "      <td>49871</td>\n",
              "      <td>functional</td>\n",
              "    </tr>\n",
              "    <tr>\n",
              "      <th>...</th>\n",
              "      <td>...</td>\n",
              "      <td>...</td>\n",
              "    </tr>\n",
              "    <tr>\n",
              "      <th>14353</th>\n",
              "      <td>39307</td>\n",
              "      <td>functional</td>\n",
              "    </tr>\n",
              "    <tr>\n",
              "      <th>14354</th>\n",
              "      <td>18990</td>\n",
              "      <td>functional</td>\n",
              "    </tr>\n",
              "    <tr>\n",
              "      <th>14355</th>\n",
              "      <td>28749</td>\n",
              "      <td>functional</td>\n",
              "    </tr>\n",
              "    <tr>\n",
              "      <th>14356</th>\n",
              "      <td>33492</td>\n",
              "      <td>functional</td>\n",
              "    </tr>\n",
              "    <tr>\n",
              "      <th>14357</th>\n",
              "      <td>68707</td>\n",
              "      <td>functional</td>\n",
              "    </tr>\n",
              "  </tbody>\n",
              "</table>\n",
              "<p>14358 rows × 2 columns</p>\n",
              "</div>"
            ],
            "text/plain": [
              "          id status_group\n",
              "0      50785   functional\n",
              "1      51630   functional\n",
              "2      17168   functional\n",
              "3      45559   functional\n",
              "4      49871   functional\n",
              "...      ...          ...\n",
              "14353  39307   functional\n",
              "14354  18990   functional\n",
              "14355  28749   functional\n",
              "14356  33492   functional\n",
              "14357  68707   functional\n",
              "\n",
              "[14358 rows x 2 columns]"
            ]
          },
          "metadata": {
            "tags": []
          },
          "execution_count": 5
        }
      ]
    },
    {
      "cell_type": "code",
      "metadata": {
        "id": "8FI72jZywx8K",
        "colab_type": "code",
        "colab": {
          "base_uri": "https://localhost:8080/",
          "height": 84
        },
        "outputId": "aab08533-8119-4ae3-fbe2-55f1e3596d4e"
      },
      "source": [
        "train['status_group'].value_counts(normalize=True)"
      ],
      "execution_count": 6,
      "outputs": [
        {
          "output_type": "execute_result",
          "data": {
            "text/plain": [
              "functional                 0.543081\n",
              "non functional             0.384242\n",
              "functional needs repair    0.072677\n",
              "Name: status_group, dtype: float64"
            ]
          },
          "metadata": {
            "tags": []
          },
          "execution_count": 6
        }
      ]
    },
    {
      "cell_type": "code",
      "metadata": {
        "id": "zDmTOdk60HLk",
        "colab_type": "code",
        "colab": {
          "base_uri": "https://localhost:8080/",
          "height": 34
        },
        "outputId": "7a2ba9a8-1e86-4864-b29b-a92b558ffaba"
      },
      "source": [
        "from sklearn.model_selection import train_test_split\n",
        "\n",
        "train, val = train_test_split(train,train_size=0.80,test_size=0.20,\n",
        "                              stratify=train['status_group'],random_state=42)\n",
        "\n",
        "train.shape,val.shape,test.shape"
      ],
      "execution_count": 8,
      "outputs": [
        {
          "output_type": "execute_result",
          "data": {
            "text/plain": [
              "((38016, 41), (9504, 41), (14358, 40))"
            ]
          },
          "metadata": {
            "tags": []
          },
          "execution_count": 8
        }
      ]
    },
    {
      "cell_type": "code",
      "metadata": {
        "id": "sm2wkWXB1Wq3",
        "colab_type": "code",
        "colab": {}
      },
      "source": [
        "import numpy as np\n",
        "\n",
        "def wrangle(X):\n",
        "    \"\"\"Wrangle train, validate, and test sets in the same way\"\"\"\n",
        "    \n",
        "  \n",
        "    X = X.copy()\n",
        "    X['latitude'] = X['latitude'].replace(-2e-08, 0)\n",
        "    \n",
        "    cols_with_zeros = ['longitude', 'latitude']\n",
        "    for col in cols_with_zeros:\n",
        "        X[col] = X[col].replace(0, np.nan)\n",
        "            \n",
        "    X = X.drop(columns='quantity_group')\n",
        "    \n",
        "    return X\n",
        "\n",
        "\n",
        "train = wrangle(train)\n",
        "val = wrangle(val)\n",
        "test = wrangle(test)"
      ],
      "execution_count": 0,
      "outputs": []
    },
    {
      "cell_type": "code",
      "metadata": {
        "id": "4oOlVDcp2Pjb",
        "colab_type": "code",
        "colab": {
          "base_uri": "https://localhost:8080/",
          "height": 232
        },
        "outputId": "3c3a7ab7-7d39-4fc5-df13-d2da85a01e46"
      },
      "source": [
        "target = 'status_group'\n",
        "train_features = train.drop(columns=[target,'id'])\n",
        "numeric_features = train_features.select_dtypes(include='number').columns.tolist()\n",
        "cardinality = train_features.select_dtypes(exclude='number').nunique()\n",
        "categorical_features = cardinality[cardinality <= 50].index.tolist()\n",
        "features = numeric_features + categorical_features\n",
        "print(features)\n"
      ],
      "execution_count": 23,
      "outputs": [
        {
          "output_type": "stream",
          "text": [
            "['amount_tsh', 'gps_height', 'longitude', 'latitude', 'num_private', 'region_code', 'district_code', 'population', 'construction_year', 'basin', 'region', 'public_meeting', 'recorded_by', 'scheme_management', 'permit', 'extraction_type', 'extraction_type_group', 'extraction_type_class', 'management', 'management_group', 'payment', 'payment_type', 'water_quality', 'quality_group', 'quantity', 'source', 'source_type', 'source_class', 'waterpoint_type', 'waterpoint_type_group']\n"
          ],
          "name": "stdout"
        },
        {
          "output_type": "error",
          "ename": "AttributeError",
          "evalue": "ignored",
          "traceback": [
            "\u001b[0;31m---------------------------------------------------------------------------\u001b[0m",
            "\u001b[0;31mAttributeError\u001b[0m                            Traceback (most recent call last)",
            "\u001b[0;32m<ipython-input-23-b76ab08b6f61>\u001b[0m in \u001b[0;36m<module>\u001b[0;34m()\u001b[0m\n\u001b[1;32m      6\u001b[0m \u001b[0mfeatures\u001b[0m \u001b[0;34m=\u001b[0m \u001b[0mnumeric_features\u001b[0m \u001b[0;34m+\u001b[0m \u001b[0mcategorical_features\u001b[0m\u001b[0;34m\u001b[0m\u001b[0;34m\u001b[0m\u001b[0m\n\u001b[1;32m      7\u001b[0m \u001b[0mprint\u001b[0m\u001b[0;34m(\u001b[0m\u001b[0mfeatures\u001b[0m\u001b[0;34m)\u001b[0m\u001b[0;34m\u001b[0m\u001b[0;34m\u001b[0m\u001b[0m\n\u001b[0;32m----> 8\u001b[0;31m \u001b[0mprint\u001b[0m\u001b[0;34m(\u001b[0m\u001b[0mfeatures\u001b[0m\u001b[0;34m.\u001b[0m\u001b[0mshape\u001b[0m\u001b[0;34m)\u001b[0m\u001b[0;34m\u001b[0m\u001b[0;34m\u001b[0m\u001b[0m\n\u001b[0m",
            "\u001b[0;31mAttributeError\u001b[0m: 'list' object has no attribute 'shape'"
          ]
        }
      ]
    },
    {
      "cell_type": "code",
      "metadata": {
        "id": "hTcXEvzn4j5r",
        "colab_type": "code",
        "colab": {}
      },
      "source": [
        "X_train = train[features]\n",
        "y_train = train[target]\n",
        "X_val = val[features]\n",
        "y_val = val[target]\n",
        "X_test = test[features]"
      ],
      "execution_count": 0,
      "outputs": []
    },
    {
      "cell_type": "code",
      "metadata": {
        "id": "2XJbkxXX4s-p",
        "colab_type": "code",
        "colab": {}
      },
      "source": [
        "import category_encoders as ce\n",
        "from sklearn.impute import SimpleImputer\n",
        "from sklearn.linear_model import LogisticRegression\n",
        "from sklearn.pipeline import make_pipeline\n",
        "from sklearn.preprocessing import StandardScaler\n",
        "from sklearn.tree import DecisionTreeClassifier"
      ],
      "execution_count": 0,
      "outputs": []
    },
    {
      "cell_type": "code",
      "metadata": {
        "id": "hFh37yJm5LRs",
        "colab_type": "code",
        "colab": {
          "base_uri": "https://localhost:8080/",
          "height": 50
        },
        "outputId": "76037f0e-a2a9-4eea-d777-f48006a7778d"
      },
      "source": [
        "pipeline = make_pipeline(\n",
        "    ce.OneHotEncoder(use_cat_names=True),\n",
        "    SimpleImputer(strategy='median'),\n",
        "    StandardScaler(),\n",
        "    DecisionTreeClassifier(random_state=42, min_samples_leaf=7)\n",
        "\n",
        ")\n",
        "\n",
        "pipeline.fit(X_train,y_train)\n",
        "print ('Train Accuracy', pipeline.score(X_train, y_train))\n",
        "print ('Validation Accuracy', pipeline.score(X_val, y_val))"
      ],
      "execution_count": 28,
      "outputs": [
        {
          "output_type": "stream",
          "text": [
            "Train Accuracy 0.852667297979798\n",
            "Validation Accuracy 0.7640993265993266\n"
          ],
          "name": "stdout"
        }
      ]
    },
    {
      "cell_type": "code",
      "metadata": {
        "id": "K-TBKv165-vH",
        "colab_type": "code",
        "colab": {
          "base_uri": "https://localhost:8080/",
          "height": 654
        },
        "outputId": "1b543c29-5429-41d9-c0f5-deaeb12a25bc"
      },
      "source": [
        "import graphviz\n",
        "from sklearn.tree import export_graphviz\n",
        "\n",
        "model = pipeline.named_steps['decisiontreeclassifier']\n",
        "encoder = pipeline.named_steps['onehotencoder']\n",
        "encoded_columns = encoder.transform(X_val).columns\n",
        "\n",
        "dot_data = export_graphviz(model, \n",
        "                           out_file=None, \n",
        "                           max_depth=3, \n",
        "                           feature_names=encoded_columns,\n",
        "                           class_names=model.classes_, \n",
        "                           impurity=False, \n",
        "                           filled=True, \n",
        "                           proportion=True, \n",
        "                           rounded=True)   \n",
        "display(graphviz.Source(dot_data))"
      ],
      "execution_count": 30,
      "outputs": [
        {
          "output_type": "display_data",
          "data": {
            "text/plain": [
              "<graphviz.files.Source at 0x7f17f33b86d8>"
            ],
            "image/svg+xml": "<?xml version=\"1.0\" encoding=\"UTF-8\" standalone=\"no\"?>\n<!DOCTYPE svg PUBLIC \"-//W3C//DTD SVG 1.1//EN\"\n \"http://www.w3.org/Graphics/SVG/1.1/DTD/svg11.dtd\">\n<!-- Generated by graphviz version 2.40.1 (20161225.0304)\n -->\n<!-- Title: Tree Pages: 1 -->\n<svg width=\"2132pt\" height=\"460pt\"\n viewBox=\"0.00 0.00 2132.00 460.00\" xmlns=\"http://www.w3.org/2000/svg\" xmlns:xlink=\"http://www.w3.org/1999/xlink\">\n<g id=\"graph0\" class=\"graph\" transform=\"scale(1 1) rotate(0) translate(4 456)\">\n<title>Tree</title>\n<polygon fill=\"#ffffff\" stroke=\"transparent\" points=\"-4,4 -4,-456 2128,-456 2128,4 -4,4\"/>\n<!-- 0 -->\n<g id=\"node1\" class=\"node\">\n<title>0</title>\n<path fill=\"#f8decc\" stroke=\"#000000\" d=\"M1305,-452C1305,-452 1129,-452 1129,-452 1123,-452 1117,-446 1117,-440 1117,-440 1117,-396 1117,-396 1117,-390 1123,-384 1129,-384 1129,-384 1305,-384 1305,-384 1311,-384 1317,-390 1317,-396 1317,-396 1317,-440 1317,-440 1317,-446 1311,-452 1305,-452\"/>\n<text text-anchor=\"middle\" x=\"1217\" y=\"-436.8\" font-family=\"Helvetica,sans-Serif\" font-size=\"14.00\" fill=\"#000000\">quantity_dry &lt;= 1.308</text>\n<text text-anchor=\"middle\" x=\"1217\" y=\"-421.8\" font-family=\"Helvetica,sans-Serif\" font-size=\"14.00\" fill=\"#000000\">samples = 100.0%</text>\n<text text-anchor=\"middle\" x=\"1217\" y=\"-406.8\" font-family=\"Helvetica,sans-Serif\" font-size=\"14.00\" fill=\"#000000\">value = [0.543, 0.073, 0.384]</text>\n<text text-anchor=\"middle\" x=\"1217\" y=\"-391.8\" font-family=\"Helvetica,sans-Serif\" font-size=\"14.00\" fill=\"#000000\">class = functional</text>\n</g>\n<!-- 1 -->\n<g id=\"node2\" class=\"node\">\n<title>1</title>\n<path fill=\"#f4caac\" stroke=\"#000000\" d=\"M1073.5,-348C1073.5,-348 876.5,-348 876.5,-348 870.5,-348 864.5,-342 864.5,-336 864.5,-336 864.5,-292 864.5,-292 864.5,-286 870.5,-280 876.5,-280 876.5,-280 1073.5,-280 1073.5,-280 1079.5,-280 1085.5,-286 1085.5,-292 1085.5,-292 1085.5,-336 1085.5,-336 1085.5,-342 1079.5,-348 1073.5,-348\"/>\n<text text-anchor=\"middle\" x=\"975\" y=\"-332.8\" font-family=\"Helvetica,sans-Serif\" font-size=\"14.00\" fill=\"#000000\">waterpoint_type_other &lt;= 1.256</text>\n<text text-anchor=\"middle\" x=\"975\" y=\"-317.8\" font-family=\"Helvetica,sans-Serif\" font-size=\"14.00\" fill=\"#000000\">samples = 89.7%</text>\n<text text-anchor=\"middle\" x=\"975\" y=\"-302.8\" font-family=\"Helvetica,sans-Serif\" font-size=\"14.00\" fill=\"#000000\">value = [0.602, 0.08, 0.317]</text>\n<text text-anchor=\"middle\" x=\"975\" y=\"-287.8\" font-family=\"Helvetica,sans-Serif\" font-size=\"14.00\" fill=\"#000000\">class = functional</text>\n</g>\n<!-- 0&#45;&gt;1 -->\n<g id=\"edge1\" class=\"edge\">\n<title>0&#45;&gt;1</title>\n<path fill=\"none\" stroke=\"#000000\" d=\"M1137.7601,-383.9465C1114.0473,-373.7559 1087.8956,-362.5171 1063.6206,-352.0849\"/>\n<polygon fill=\"#000000\" stroke=\"#000000\" points=\"1064.9873,-348.8628 1054.4179,-348.13 1062.2235,-355.294 1064.9873,-348.8628\"/>\n<text text-anchor=\"middle\" x=\"1063.6795\" y=\"-367.6512\" font-family=\"Helvetica,sans-Serif\" font-size=\"14.00\" fill=\"#000000\">True</text>\n</g>\n<!-- 5474 -->\n<g id=\"node17\" class=\"node\">\n<title>5474</title>\n<path fill=\"#8540e6\" stroke=\"#000000\" d=\"M1611,-348C1611,-348 1339,-348 1339,-348 1333,-348 1327,-342 1327,-336 1327,-336 1327,-292 1327,-292 1327,-286 1333,-280 1339,-280 1339,-280 1611,-280 1611,-280 1617,-280 1623,-286 1623,-292 1623,-292 1623,-336 1623,-336 1623,-342 1617,-348 1611,-348\"/>\n<text text-anchor=\"middle\" x=\"1475\" y=\"-332.8\" font-family=\"Helvetica,sans-Serif\" font-size=\"14.00\" fill=\"#000000\">extraction_type_class_handpump &lt;= 0.494</text>\n<text text-anchor=\"middle\" x=\"1475\" y=\"-317.8\" font-family=\"Helvetica,sans-Serif\" font-size=\"14.00\" fill=\"#000000\">samples = 10.3%</text>\n<text text-anchor=\"middle\" x=\"1475\" y=\"-302.8\" font-family=\"Helvetica,sans-Serif\" font-size=\"14.00\" fill=\"#000000\">value = [0.026, 0.006, 0.967]</text>\n<text text-anchor=\"middle\" x=\"1475\" y=\"-287.8\" font-family=\"Helvetica,sans-Serif\" font-size=\"14.00\" fill=\"#000000\">class = non functional</text>\n</g>\n<!-- 0&#45;&gt;5474 -->\n<g id=\"edge16\" class=\"edge\">\n<title>0&#45;&gt;5474</title>\n<path fill=\"none\" stroke=\"#000000\" d=\"M1301.4788,-383.9465C1326.8708,-373.711 1354.8859,-362.4181 1380.8621,-351.9471\"/>\n<polygon fill=\"#000000\" stroke=\"#000000\" points=\"1382.3651,-355.1149 1390.3314,-348.13 1379.748,-348.6226 1382.3651,-355.1149\"/>\n<text text-anchor=\"middle\" x=\"1380.5448\" y=\"-367.4348\" font-family=\"Helvetica,sans-Serif\" font-size=\"14.00\" fill=\"#000000\">False</text>\n</g>\n<!-- 2 -->\n<g id=\"node3\" class=\"node\">\n<title>2</title>\n<path fill=\"#f2be98\" stroke=\"#000000\" d=\"M658,-244C658,-244 482,-244 482,-244 476,-244 470,-238 470,-232 470,-232 470,-188 470,-188 470,-182 476,-176 482,-176 482,-176 658,-176 658,-176 664,-176 670,-182 670,-188 670,-188 670,-232 670,-232 670,-238 664,-244 658,-244\"/>\n<text text-anchor=\"middle\" x=\"570\" y=\"-228.8\" font-family=\"Helvetica,sans-Serif\" font-size=\"14.00\" fill=\"#000000\">amount_tsh &lt;= &#45;0.099</text>\n<text text-anchor=\"middle\" x=\"570\" y=\"-213.8\" font-family=\"Helvetica,sans-Serif\" font-size=\"14.00\" fill=\"#000000\">samples = 81.1%</text>\n<text text-anchor=\"middle\" x=\"570\" y=\"-198.8\" font-family=\"Helvetica,sans-Serif\" font-size=\"14.00\" fill=\"#000000\">value = [0.649, 0.083, 0.269]</text>\n<text text-anchor=\"middle\" x=\"570\" y=\"-183.8\" font-family=\"Helvetica,sans-Serif\" font-size=\"14.00\" fill=\"#000000\">class = functional</text>\n</g>\n<!-- 1&#45;&gt;2 -->\n<g id=\"edge2\" class=\"edge\">\n<title>1&#45;&gt;2</title>\n<path fill=\"none\" stroke=\"#000000\" d=\"M864.332,-285.5815C806.9901,-270.8567 737.1844,-252.9313 679.9475,-238.2334\"/>\n<polygon fill=\"#000000\" stroke=\"#000000\" points=\"680.7012,-234.8135 670.1449,-235.7162 678.9601,-241.5935 680.7012,-234.8135\"/>\n</g>\n<!-- 5079 -->\n<g id=\"node10\" class=\"node\">\n<title>5079</title>\n<path fill=\"#a36eec\" stroke=\"#000000\" d=\"M1072,-244C1072,-244 878,-244 878,-244 872,-244 866,-238 866,-232 866,-232 866,-188 866,-188 866,-182 872,-176 878,-176 878,-176 1072,-176 1072,-176 1078,-176 1084,-182 1084,-188 1084,-188 1084,-232 1084,-232 1084,-238 1078,-244 1072,-244\"/>\n<text text-anchor=\"middle\" x=\"975\" y=\"-228.8\" font-family=\"Helvetica,sans-Serif\" font-size=\"14.00\" fill=\"#000000\">extraction_type_other &lt;= 1.243</text>\n<text text-anchor=\"middle\" x=\"975\" y=\"-213.8\" font-family=\"Helvetica,sans-Serif\" font-size=\"14.00\" fill=\"#000000\">samples = 8.6%</text>\n<text text-anchor=\"middle\" x=\"975\" y=\"-198.8\" font-family=\"Helvetica,sans-Serif\" font-size=\"14.00\" fill=\"#000000\">value = [0.165, 0.059, 0.776]</text>\n<text text-anchor=\"middle\" x=\"975\" y=\"-183.8\" font-family=\"Helvetica,sans-Serif\" font-size=\"14.00\" fill=\"#000000\">class = non functional</text>\n</g>\n<!-- 1&#45;&gt;5079 -->\n<g id=\"edge9\" class=\"edge\">\n<title>1&#45;&gt;5079</title>\n<path fill=\"none\" stroke=\"#000000\" d=\"M975,-279.9465C975,-271.776 975,-262.9318 975,-254.3697\"/>\n<polygon fill=\"#000000\" stroke=\"#000000\" points=\"978.5001,-254.13 975,-244.13 971.5001,-254.13 978.5001,-254.13\"/>\n</g>\n<!-- 3 -->\n<g id=\"node4\" class=\"node\">\n<title>3</title>\n<path fill=\"#f4ccaf\" stroke=\"#000000\" d=\"M356,-140C356,-140 12,-140 12,-140 6,-140 0,-134 0,-128 0,-128 0,-84 0,-84 0,-78 6,-72 12,-72 12,-72 356,-72 356,-72 362,-72 368,-78 368,-84 368,-84 368,-128 368,-128 368,-134 362,-140 356,-140\"/>\n<text text-anchor=\"middle\" x=\"184\" y=\"-124.8\" font-family=\"Helvetica,sans-Serif\" font-size=\"14.00\" fill=\"#000000\">waterpoint_type_communal standpipe multiple &lt;= 1.32</text>\n<text text-anchor=\"middle\" x=\"184\" y=\"-109.8\" font-family=\"Helvetica,sans-Serif\" font-size=\"14.00\" fill=\"#000000\">samples = 53.1%</text>\n<text text-anchor=\"middle\" x=\"184\" y=\"-94.8\" font-family=\"Helvetica,sans-Serif\" font-size=\"14.00\" fill=\"#000000\">value = [0.595, 0.086, 0.319]</text>\n<text text-anchor=\"middle\" x=\"184\" y=\"-79.8\" font-family=\"Helvetica,sans-Serif\" font-size=\"14.00\" fill=\"#000000\">class = functional</text>\n</g>\n<!-- 2&#45;&gt;3 -->\n<g id=\"edge3\" class=\"edge\">\n<title>2&#45;&gt;3</title>\n<path fill=\"none\" stroke=\"#000000\" d=\"M469.8421,-183.0145C424.1889,-170.7141 369.4374,-155.9624 320.1253,-142.6762\"/>\n<polygon fill=\"#000000\" stroke=\"#000000\" points=\"320.9059,-139.2618 310.3397,-140.0397 319.0848,-146.0208 320.9059,-139.2618\"/>\n</g>\n<!-- 3526 -->\n<g id=\"node7\" class=\"node\">\n<title>3526</title>\n<path fill=\"#eda775\" stroke=\"#000000\" d=\"M742,-140C742,-140 398,-140 398,-140 392,-140 386,-134 386,-128 386,-128 386,-84 386,-84 386,-78 392,-72 398,-72 398,-72 742,-72 742,-72 748,-72 754,-78 754,-84 754,-84 754,-128 754,-128 754,-134 748,-140 742,-140\"/>\n<text text-anchor=\"middle\" x=\"570\" y=\"-124.8\" font-family=\"Helvetica,sans-Serif\" font-size=\"14.00\" fill=\"#000000\">waterpoint_type_communal standpipe multiple &lt;= 1.32</text>\n<text text-anchor=\"middle\" x=\"570\" y=\"-109.8\" font-family=\"Helvetica,sans-Serif\" font-size=\"14.00\" fill=\"#000000\">samples = 28.0%</text>\n<text text-anchor=\"middle\" x=\"570\" y=\"-94.8\" font-family=\"Helvetica,sans-Serif\" font-size=\"14.00\" fill=\"#000000\">value = [0.75, 0.076, 0.174]</text>\n<text text-anchor=\"middle\" x=\"570\" y=\"-79.8\" font-family=\"Helvetica,sans-Serif\" font-size=\"14.00\" fill=\"#000000\">class = functional</text>\n</g>\n<!-- 2&#45;&gt;3526 -->\n<g id=\"edge6\" class=\"edge\">\n<title>2&#45;&gt;3526</title>\n<path fill=\"none\" stroke=\"#000000\" d=\"M570,-175.9465C570,-167.776 570,-158.9318 570,-150.3697\"/>\n<polygon fill=\"#000000\" stroke=\"#000000\" points=\"573.5001,-150.13 570,-140.13 566.5001,-150.13 573.5001,-150.13\"/>\n</g>\n<!-- 4 -->\n<g id=\"node5\" class=\"node\">\n<title>4</title>\n<path fill=\"#c0c0c0\" stroke=\"#000000\" d=\"M163,-36C163,-36 133,-36 133,-36 127,-36 121,-30 121,-24 121,-24 121,-12 121,-12 121,-6 127,0 133,0 133,0 163,0 163,0 169,0 175,-6 175,-12 175,-12 175,-24 175,-24 175,-30 169,-36 163,-36\"/>\n<text text-anchor=\"middle\" x=\"148\" y=\"-14.3\" font-family=\"Helvetica,sans-Serif\" font-size=\"14.00\" fill=\"#000000\">(...)</text>\n</g>\n<!-- 3&#45;&gt;4 -->\n<g id=\"edge4\" class=\"edge\">\n<title>3&#45;&gt;4</title>\n<path fill=\"none\" stroke=\"#000000\" d=\"M170.0815,-71.9769C166.4977,-63.2167 162.6862,-53.8995 159.2564,-45.5157\"/>\n<polygon fill=\"#000000\" stroke=\"#000000\" points=\"162.468,-44.1222 155.4422,-36.192 155.9891,-46.7727 162.468,-44.1222\"/>\n</g>\n<!-- 3235 -->\n<g id=\"node6\" class=\"node\">\n<title>3235</title>\n<path fill=\"#c0c0c0\" stroke=\"#000000\" d=\"M235,-36C235,-36 205,-36 205,-36 199,-36 193,-30 193,-24 193,-24 193,-12 193,-12 193,-6 199,0 205,0 205,0 235,0 235,0 241,0 247,-6 247,-12 247,-12 247,-24 247,-24 247,-30 241,-36 235,-36\"/>\n<text text-anchor=\"middle\" x=\"220\" y=\"-14.3\" font-family=\"Helvetica,sans-Serif\" font-size=\"14.00\" fill=\"#000000\">(...)</text>\n</g>\n<!-- 3&#45;&gt;3235 -->\n<g id=\"edge5\" class=\"edge\">\n<title>3&#45;&gt;3235</title>\n<path fill=\"none\" stroke=\"#000000\" d=\"M197.9185,-71.9769C201.5023,-63.2167 205.3138,-53.8995 208.7436,-45.5157\"/>\n<polygon fill=\"#000000\" stroke=\"#000000\" points=\"212.0109,-46.7727 212.5578,-36.192 205.532,-44.1222 212.0109,-46.7727\"/>\n</g>\n<!-- 3527 -->\n<g id=\"node8\" class=\"node\">\n<title>3527</title>\n<path fill=\"#c0c0c0\" stroke=\"#000000\" d=\"M549,-36C549,-36 519,-36 519,-36 513,-36 507,-30 507,-24 507,-24 507,-12 507,-12 507,-6 513,0 519,0 519,0 549,0 549,0 555,0 561,-6 561,-12 561,-12 561,-24 561,-24 561,-30 555,-36 549,-36\"/>\n<text text-anchor=\"middle\" x=\"534\" y=\"-14.3\" font-family=\"Helvetica,sans-Serif\" font-size=\"14.00\" fill=\"#000000\">(...)</text>\n</g>\n<!-- 3526&#45;&gt;3527 -->\n<g id=\"edge7\" class=\"edge\">\n<title>3526&#45;&gt;3527</title>\n<path fill=\"none\" stroke=\"#000000\" d=\"M556.0815,-71.9769C552.4977,-63.2167 548.6862,-53.8995 545.2564,-45.5157\"/>\n<polygon fill=\"#000000\" stroke=\"#000000\" points=\"548.468,-44.1222 541.4422,-36.192 541.9891,-46.7727 548.468,-44.1222\"/>\n</g>\n<!-- 4830 -->\n<g id=\"node9\" class=\"node\">\n<title>4830</title>\n<path fill=\"#c0c0c0\" stroke=\"#000000\" d=\"M621,-36C621,-36 591,-36 591,-36 585,-36 579,-30 579,-24 579,-24 579,-12 579,-12 579,-6 585,0 591,0 591,0 621,0 621,0 627,0 633,-6 633,-12 633,-12 633,-24 633,-24 633,-30 627,-36 621,-36\"/>\n<text text-anchor=\"middle\" x=\"606\" y=\"-14.3\" font-family=\"Helvetica,sans-Serif\" font-size=\"14.00\" fill=\"#000000\">(...)</text>\n</g>\n<!-- 3526&#45;&gt;4830 -->\n<g id=\"edge8\" class=\"edge\">\n<title>3526&#45;&gt;4830</title>\n<path fill=\"none\" stroke=\"#000000\" d=\"M583.9185,-71.9769C587.5023,-63.2167 591.3138,-53.8995 594.7436,-45.5157\"/>\n<polygon fill=\"#000000\" stroke=\"#000000\" points=\"598.0109,-46.7727 598.5578,-36.192 591.532,-44.1222 598.0109,-46.7727\"/>\n</g>\n<!-- 5080 -->\n<g id=\"node11\" class=\"node\">\n<title>5080</title>\n<path fill=\"#ccaef4\" stroke=\"#000000\" d=\"M960,-140C960,-140 784,-140 784,-140 778,-140 772,-134 772,-128 772,-128 772,-84 772,-84 772,-78 778,-72 784,-72 784,-72 960,-72 960,-72 966,-72 972,-78 972,-84 972,-84 972,-128 972,-128 972,-134 966,-140 960,-140\"/>\n<text text-anchor=\"middle\" x=\"872\" y=\"-124.8\" font-family=\"Helvetica,sans-Serif\" font-size=\"14.00\" fill=\"#000000\">latitude &lt;= 0.974</text>\n<text text-anchor=\"middle\" x=\"872\" y=\"-109.8\" font-family=\"Helvetica,sans-Serif\" font-size=\"14.00\" fill=\"#000000\">samples = 2.4%</text>\n<text text-anchor=\"middle\" x=\"872\" y=\"-94.8\" font-family=\"Helvetica,sans-Serif\" font-size=\"14.00\" fill=\"#000000\">value = [0.295, 0.123, 0.582]</text>\n<text text-anchor=\"middle\" x=\"872\" y=\"-79.8\" font-family=\"Helvetica,sans-Serif\" font-size=\"14.00\" fill=\"#000000\">class = non functional</text>\n</g>\n<!-- 5079&#45;&gt;5080 -->\n<g id=\"edge10\" class=\"edge\">\n<title>5079&#45;&gt;5080</title>\n<path fill=\"none\" stroke=\"#000000\" d=\"M941.2739,-175.9465C932.2039,-166.7884 922.2955,-156.7838 912.8819,-147.2788\"/>\n<polygon fill=\"#000000\" stroke=\"#000000\" points=\"915.3255,-144.7723 905.8018,-140.13 910.3519,-149.6981 915.3255,-144.7723\"/>\n</g>\n<!-- 5223 -->\n<g id=\"node14\" class=\"node\">\n<title>5223</title>\n<path fill=\"#965ae9\" stroke=\"#000000\" d=\"M1178,-140C1178,-140 1002,-140 1002,-140 996,-140 990,-134 990,-128 990,-128 990,-84 990,-84 990,-78 996,-72 1002,-72 1002,-72 1178,-72 1178,-72 1184,-72 1190,-78 1190,-84 1190,-84 1190,-128 1190,-128 1190,-134 1184,-140 1178,-140\"/>\n<text text-anchor=\"middle\" x=\"1090\" y=\"-124.8\" font-family=\"Helvetica,sans-Serif\" font-size=\"14.00\" fill=\"#000000\">water_quality_milky &lt;= 4.07</text>\n<text text-anchor=\"middle\" x=\"1090\" y=\"-109.8\" font-family=\"Helvetica,sans-Serif\" font-size=\"14.00\" fill=\"#000000\">samples = 6.2%</text>\n<text text-anchor=\"middle\" x=\"1090\" y=\"-94.8\" font-family=\"Helvetica,sans-Serif\" font-size=\"14.00\" fill=\"#000000\">value = [0.115, 0.034, 0.851]</text>\n<text text-anchor=\"middle\" x=\"1090\" y=\"-79.8\" font-family=\"Helvetica,sans-Serif\" font-size=\"14.00\" fill=\"#000000\">class = non functional</text>\n</g>\n<!-- 5079&#45;&gt;5223 -->\n<g id=\"edge13\" class=\"edge\">\n<title>5079&#45;&gt;5223</title>\n<path fill=\"none\" stroke=\"#000000\" d=\"M1012.6553,-175.9465C1022.8813,-166.6986 1034.0618,-156.5876 1044.6641,-146.9994\"/>\n<polygon fill=\"#000000\" stroke=\"#000000\" points=\"1047.1908,-149.4334 1052.2601,-140.13 1042.4956,-144.2416 1047.1908,-149.4334\"/>\n</g>\n<!-- 5081 -->\n<g id=\"node12\" class=\"node\">\n<title>5081</title>\n<path fill=\"#c0c0c0\" stroke=\"#000000\" d=\"M851,-36C851,-36 821,-36 821,-36 815,-36 809,-30 809,-24 809,-24 809,-12 809,-12 809,-6 815,0 821,0 821,0 851,0 851,0 857,0 863,-6 863,-12 863,-12 863,-24 863,-24 863,-30 857,-36 851,-36\"/>\n<text text-anchor=\"middle\" x=\"836\" y=\"-14.3\" font-family=\"Helvetica,sans-Serif\" font-size=\"14.00\" fill=\"#000000\">(...)</text>\n</g>\n<!-- 5080&#45;&gt;5081 -->\n<g id=\"edge11\" class=\"edge\">\n<title>5080&#45;&gt;5081</title>\n<path fill=\"none\" stroke=\"#000000\" d=\"M858.0815,-71.9769C854.4977,-63.2167 850.6862,-53.8995 847.2564,-45.5157\"/>\n<polygon fill=\"#000000\" stroke=\"#000000\" points=\"850.468,-44.1222 843.4422,-36.192 843.9891,-46.7727 850.468,-44.1222\"/>\n</g>\n<!-- 5198 -->\n<g id=\"node13\" class=\"node\">\n<title>5198</title>\n<path fill=\"#c0c0c0\" stroke=\"#000000\" d=\"M923,-36C923,-36 893,-36 893,-36 887,-36 881,-30 881,-24 881,-24 881,-12 881,-12 881,-6 887,0 893,0 893,0 923,0 923,0 929,0 935,-6 935,-12 935,-12 935,-24 935,-24 935,-30 929,-36 923,-36\"/>\n<text text-anchor=\"middle\" x=\"908\" y=\"-14.3\" font-family=\"Helvetica,sans-Serif\" font-size=\"14.00\" fill=\"#000000\">(...)</text>\n</g>\n<!-- 5080&#45;&gt;5198 -->\n<g id=\"edge12\" class=\"edge\">\n<title>5080&#45;&gt;5198</title>\n<path fill=\"none\" stroke=\"#000000\" d=\"M885.9185,-71.9769C889.5023,-63.2167 893.3138,-53.8995 896.7436,-45.5157\"/>\n<polygon fill=\"#000000\" stroke=\"#000000\" points=\"900.0109,-46.7727 900.5578,-36.192 893.532,-44.1222 900.0109,-46.7727\"/>\n</g>\n<!-- 5224 -->\n<g id=\"node15\" class=\"node\">\n<title>5224</title>\n<path fill=\"#c0c0c0\" stroke=\"#000000\" d=\"M1069,-36C1069,-36 1039,-36 1039,-36 1033,-36 1027,-30 1027,-24 1027,-24 1027,-12 1027,-12 1027,-6 1033,0 1039,0 1039,0 1069,0 1069,0 1075,0 1081,-6 1081,-12 1081,-12 1081,-24 1081,-24 1081,-30 1075,-36 1069,-36\"/>\n<text text-anchor=\"middle\" x=\"1054\" y=\"-14.3\" font-family=\"Helvetica,sans-Serif\" font-size=\"14.00\" fill=\"#000000\">(...)</text>\n</g>\n<!-- 5223&#45;&gt;5224 -->\n<g id=\"edge14\" class=\"edge\">\n<title>5223&#45;&gt;5224</title>\n<path fill=\"none\" stroke=\"#000000\" d=\"M1076.0815,-71.9769C1072.4977,-63.2167 1068.6862,-53.8995 1065.2564,-45.5157\"/>\n<polygon fill=\"#000000\" stroke=\"#000000\" points=\"1068.468,-44.1222 1061.4422,-36.192 1061.9891,-46.7727 1068.468,-44.1222\"/>\n</g>\n<!-- 5441 -->\n<g id=\"node16\" class=\"node\">\n<title>5441</title>\n<path fill=\"#c0c0c0\" stroke=\"#000000\" d=\"M1141,-36C1141,-36 1111,-36 1111,-36 1105,-36 1099,-30 1099,-24 1099,-24 1099,-12 1099,-12 1099,-6 1105,0 1111,0 1111,0 1141,0 1141,0 1147,0 1153,-6 1153,-12 1153,-12 1153,-24 1153,-24 1153,-30 1147,-36 1141,-36\"/>\n<text text-anchor=\"middle\" x=\"1126\" y=\"-14.3\" font-family=\"Helvetica,sans-Serif\" font-size=\"14.00\" fill=\"#000000\">(...)</text>\n</g>\n<!-- 5223&#45;&gt;5441 -->\n<g id=\"edge15\" class=\"edge\">\n<title>5223&#45;&gt;5441</title>\n<path fill=\"none\" stroke=\"#000000\" d=\"M1103.9185,-71.9769C1107.5023,-63.2167 1111.3138,-53.8995 1114.7436,-45.5157\"/>\n<polygon fill=\"#000000\" stroke=\"#000000\" points=\"1118.0109,-46.7727 1118.5578,-36.192 1111.532,-44.1222 1118.0109,-46.7727\"/>\n</g>\n<!-- 5475 -->\n<g id=\"node18\" class=\"node\">\n<title>5475</title>\n<path fill=\"#833de6\" stroke=\"#000000\" d=\"M1563,-244C1563,-244 1387,-244 1387,-244 1381,-244 1375,-238 1375,-232 1375,-232 1375,-188 1375,-188 1375,-182 1381,-176 1387,-176 1387,-176 1563,-176 1563,-176 1569,-176 1575,-182 1575,-188 1575,-188 1575,-232 1575,-232 1575,-238 1569,-244 1563,-244\"/>\n<text text-anchor=\"middle\" x=\"1475\" y=\"-228.8\" font-family=\"Helvetica,sans-Serif\" font-size=\"14.00\" fill=\"#000000\">construction_year &lt;= 0.745</text>\n<text text-anchor=\"middle\" x=\"1475\" y=\"-213.8\" font-family=\"Helvetica,sans-Serif\" font-size=\"14.00\" fill=\"#000000\">samples = 8.4%</text>\n<text text-anchor=\"middle\" x=\"1475\" y=\"-198.8\" font-family=\"Helvetica,sans-Serif\" font-size=\"14.00\" fill=\"#000000\">value = [0.014, 0.006, 0.981]</text>\n<text text-anchor=\"middle\" x=\"1475\" y=\"-183.8\" font-family=\"Helvetica,sans-Serif\" font-size=\"14.00\" fill=\"#000000\">class = non functional</text>\n</g>\n<!-- 5474&#45;&gt;5475 -->\n<g id=\"edge17\" class=\"edge\">\n<title>5474&#45;&gt;5475</title>\n<path fill=\"none\" stroke=\"#000000\" d=\"M1475,-279.9465C1475,-271.776 1475,-262.9318 1475,-254.3697\"/>\n<polygon fill=\"#000000\" stroke=\"#000000\" points=\"1478.5001,-254.13 1475,-244.13 1471.5001,-254.13 1478.5001,-254.13\"/>\n</g>\n<!-- 5582 -->\n<g id=\"node25\" class=\"node\">\n<title>5582</title>\n<path fill=\"#8e4de8\" stroke=\"#000000\" d=\"M1892,-244C1892,-244 1724,-244 1724,-244 1718,-244 1712,-238 1712,-232 1712,-232 1712,-188 1712,-188 1712,-182 1718,-176 1724,-176 1724,-176 1892,-176 1892,-176 1898,-176 1904,-182 1904,-188 1904,-188 1904,-232 1904,-232 1904,-238 1898,-244 1892,-244\"/>\n<text text-anchor=\"middle\" x=\"1808\" y=\"-228.8\" font-family=\"Helvetica,sans-Serif\" font-size=\"14.00\" fill=\"#000000\">latitude &lt;= 0.578</text>\n<text text-anchor=\"middle\" x=\"1808\" y=\"-213.8\" font-family=\"Helvetica,sans-Serif\" font-size=\"14.00\" fill=\"#000000\">samples = 1.9%</text>\n<text text-anchor=\"middle\" x=\"1808\" y=\"-198.8\" font-family=\"Helvetica,sans-Serif\" font-size=\"14.00\" fill=\"#000000\">value = [0.083, 0.01, 0.907]</text>\n<text text-anchor=\"middle\" x=\"1808\" y=\"-183.8\" font-family=\"Helvetica,sans-Serif\" font-size=\"14.00\" fill=\"#000000\">class = non functional</text>\n</g>\n<!-- 5474&#45;&gt;5582 -->\n<g id=\"edge24\" class=\"edge\">\n<title>5474&#45;&gt;5582</title>\n<path fill=\"none\" stroke=\"#000000\" d=\"M1584.0367,-279.9465C1621.9081,-268.1188 1664.3004,-254.8791 1701.9287,-243.1274\"/>\n<polygon fill=\"#000000\" stroke=\"#000000\" points=\"1703.3937,-246.3366 1711.8956,-240.0146 1701.3069,-239.6549 1703.3937,-246.3366\"/>\n</g>\n<!-- 5476 -->\n<g id=\"node19\" class=\"node\">\n<title>5476</title>\n<path fill=\"#833ce5\" stroke=\"#000000\" d=\"M1492,-140C1492,-140 1220,-140 1220,-140 1214,-140 1208,-134 1208,-128 1208,-128 1208,-84 1208,-84 1208,-78 1214,-72 1220,-72 1220,-72 1492,-72 1492,-72 1498,-72 1504,-78 1504,-84 1504,-84 1504,-128 1504,-128 1504,-134 1498,-140 1492,-140\"/>\n<text text-anchor=\"middle\" x=\"1356\" y=\"-124.8\" font-family=\"Helvetica,sans-Serif\" font-size=\"14.00\" fill=\"#000000\">source_type_rainwater harvesting &lt;= 2.368</text>\n<text text-anchor=\"middle\" x=\"1356\" y=\"-109.8\" font-family=\"Helvetica,sans-Serif\" font-size=\"14.00\" fill=\"#000000\">samples = 8.3%</text>\n<text text-anchor=\"middle\" x=\"1356\" y=\"-94.8\" font-family=\"Helvetica,sans-Serif\" font-size=\"14.00\" fill=\"#000000\">value = [0.011, 0.006, 0.983]</text>\n<text text-anchor=\"middle\" x=\"1356\" y=\"-79.8\" font-family=\"Helvetica,sans-Serif\" font-size=\"14.00\" fill=\"#000000\">class = non functional</text>\n</g>\n<!-- 5475&#45;&gt;5476 -->\n<g id=\"edge18\" class=\"edge\">\n<title>5475&#45;&gt;5476</title>\n<path fill=\"none\" stroke=\"#000000\" d=\"M1436.0349,-175.9465C1425.3505,-166.6088 1413.6591,-156.3911 1402.5934,-146.7203\"/>\n<polygon fill=\"#000000\" stroke=\"#000000\" points=\"1404.8855,-144.0752 1395.0526,-140.13 1400.2791,-149.346 1404.8855,-144.0752\"/>\n</g>\n<!-- 5575 -->\n<g id=\"node22\" class=\"node\">\n<title>5575</title>\n<path fill=\"#ab7bee\" stroke=\"#000000\" d=\"M1677.5,-140C1677.5,-140 1534.5,-140 1534.5,-140 1528.5,-140 1522.5,-134 1522.5,-128 1522.5,-128 1522.5,-84 1522.5,-84 1522.5,-78 1528.5,-72 1534.5,-72 1534.5,-72 1677.5,-72 1677.5,-72 1683.5,-72 1689.5,-78 1689.5,-84 1689.5,-84 1689.5,-128 1689.5,-128 1689.5,-134 1683.5,-140 1677.5,-140\"/>\n<text text-anchor=\"middle\" x=\"1606\" y=\"-124.8\" font-family=\"Helvetica,sans-Serif\" font-size=\"14.00\" fill=\"#000000\">latitude &lt;= &#45;1.775</text>\n<text text-anchor=\"middle\" x=\"1606\" y=\"-109.8\" font-family=\"Helvetica,sans-Serif\" font-size=\"14.00\" fill=\"#000000\">samples = 0.1%</text>\n<text text-anchor=\"middle\" x=\"1606\" y=\"-94.8\" font-family=\"Helvetica,sans-Serif\" font-size=\"14.00\" fill=\"#000000\">value = [0.25, 0.0, 0.75]</text>\n<text text-anchor=\"middle\" x=\"1606\" y=\"-79.8\" font-family=\"Helvetica,sans-Serif\" font-size=\"14.00\" fill=\"#000000\">class = non functional</text>\n</g>\n<!-- 5475&#45;&gt;5575 -->\n<g id=\"edge21\" class=\"edge\">\n<title>5475&#45;&gt;5575</title>\n<path fill=\"none\" stroke=\"#000000\" d=\"M1517.8943,-175.9465C1529.7693,-166.519 1542.7741,-156.1946 1555.0593,-146.4415\"/>\n<polygon fill=\"#000000\" stroke=\"#000000\" points=\"1557.3536,-149.089 1563.0093,-140.13 1553.0011,-143.6066 1557.3536,-149.089\"/>\n</g>\n<!-- 5477 -->\n<g id=\"node20\" class=\"node\">\n<title>5477</title>\n<path fill=\"#c0c0c0\" stroke=\"#000000\" d=\"M1335,-36C1335,-36 1305,-36 1305,-36 1299,-36 1293,-30 1293,-24 1293,-24 1293,-12 1293,-12 1293,-6 1299,0 1305,0 1305,0 1335,0 1335,0 1341,0 1347,-6 1347,-12 1347,-12 1347,-24 1347,-24 1347,-30 1341,-36 1335,-36\"/>\n<text text-anchor=\"middle\" x=\"1320\" y=\"-14.3\" font-family=\"Helvetica,sans-Serif\" font-size=\"14.00\" fill=\"#000000\">(...)</text>\n</g>\n<!-- 5476&#45;&gt;5477 -->\n<g id=\"edge19\" class=\"edge\">\n<title>5476&#45;&gt;5477</title>\n<path fill=\"none\" stroke=\"#000000\" d=\"M1342.0815,-71.9769C1338.4977,-63.2167 1334.6862,-53.8995 1331.2564,-45.5157\"/>\n<polygon fill=\"#000000\" stroke=\"#000000\" points=\"1334.468,-44.1222 1327.4422,-36.192 1327.9891,-46.7727 1334.468,-44.1222\"/>\n</g>\n<!-- 5564 -->\n<g id=\"node21\" class=\"node\">\n<title>5564</title>\n<path fill=\"#c0c0c0\" stroke=\"#000000\" d=\"M1407,-36C1407,-36 1377,-36 1377,-36 1371,-36 1365,-30 1365,-24 1365,-24 1365,-12 1365,-12 1365,-6 1371,0 1377,0 1377,0 1407,0 1407,0 1413,0 1419,-6 1419,-12 1419,-12 1419,-24 1419,-24 1419,-30 1413,-36 1407,-36\"/>\n<text text-anchor=\"middle\" x=\"1392\" y=\"-14.3\" font-family=\"Helvetica,sans-Serif\" font-size=\"14.00\" fill=\"#000000\">(...)</text>\n</g>\n<!-- 5476&#45;&gt;5564 -->\n<g id=\"edge20\" class=\"edge\">\n<title>5476&#45;&gt;5564</title>\n<path fill=\"none\" stroke=\"#000000\" d=\"M1369.9185,-71.9769C1373.5023,-63.2167 1377.3138,-53.8995 1380.7436,-45.5157\"/>\n<polygon fill=\"#000000\" stroke=\"#000000\" points=\"1384.0109,-46.7727 1384.5578,-36.192 1377.532,-44.1222 1384.0109,-46.7727\"/>\n</g>\n<!-- 5576 -->\n<g id=\"node23\" class=\"node\">\n<title>5576</title>\n<path fill=\"#c0c0c0\" stroke=\"#000000\" d=\"M1578,-36C1578,-36 1548,-36 1548,-36 1542,-36 1536,-30 1536,-24 1536,-24 1536,-12 1536,-12 1536,-6 1542,0 1548,0 1548,0 1578,0 1578,0 1584,0 1590,-6 1590,-12 1590,-12 1590,-24 1590,-24 1590,-30 1584,-36 1578,-36\"/>\n<text text-anchor=\"middle\" x=\"1563\" y=\"-14.3\" font-family=\"Helvetica,sans-Serif\" font-size=\"14.00\" fill=\"#000000\">(...)</text>\n</g>\n<!-- 5575&#45;&gt;5576 -->\n<g id=\"edge22\" class=\"edge\">\n<title>5575&#45;&gt;5576</title>\n<path fill=\"none\" stroke=\"#000000\" d=\"M1589.3751,-71.9769C1585.048,-63.1215 1580.4428,-53.6969 1576.3118,-45.2427\"/>\n<polygon fill=\"#000000\" stroke=\"#000000\" points=\"1579.4242,-43.6401 1571.8892,-36.192 1573.1349,-46.7133 1579.4242,-43.6401\"/>\n</g>\n<!-- 5577 -->\n<g id=\"node24\" class=\"node\">\n<title>5577</title>\n<path fill=\"#c0c0c0\" stroke=\"#000000\" d=\"M1650,-36C1650,-36 1620,-36 1620,-36 1614,-36 1608,-30 1608,-24 1608,-24 1608,-12 1608,-12 1608,-6 1614,0 1620,0 1620,0 1650,0 1650,0 1656,0 1662,-6 1662,-12 1662,-12 1662,-24 1662,-24 1662,-30 1656,-36 1650,-36\"/>\n<text text-anchor=\"middle\" x=\"1635\" y=\"-14.3\" font-family=\"Helvetica,sans-Serif\" font-size=\"14.00\" fill=\"#000000\">(...)</text>\n</g>\n<!-- 5575&#45;&gt;5577 -->\n<g id=\"edge23\" class=\"edge\">\n<title>5575&#45;&gt;5577</title>\n<path fill=\"none\" stroke=\"#000000\" d=\"M1617.2122,-71.9769C1620.0677,-63.3119 1623.1028,-54.102 1625.8421,-45.7894\"/>\n<polygon fill=\"#000000\" stroke=\"#000000\" points=\"1629.1991,-46.785 1629.0049,-36.192 1622.5508,-44.594 1629.1991,-46.785\"/>\n</g>\n<!-- 5583 -->\n<g id=\"node26\" class=\"node\">\n<title>5583</title>\n<path fill=\"#8641e6\" stroke=\"#000000\" d=\"M1896,-140C1896,-140 1720,-140 1720,-140 1714,-140 1708,-134 1708,-128 1708,-128 1708,-84 1708,-84 1708,-78 1714,-72 1720,-72 1720,-72 1896,-72 1896,-72 1902,-72 1908,-78 1908,-84 1908,-84 1908,-128 1908,-128 1908,-134 1902,-140 1896,-140\"/>\n<text text-anchor=\"middle\" x=\"1808\" y=\"-124.8\" font-family=\"Helvetica,sans-Serif\" font-size=\"14.00\" fill=\"#000000\">basin_Rufiji &lt;= 1.063</text>\n<text text-anchor=\"middle\" x=\"1808\" y=\"-109.8\" font-family=\"Helvetica,sans-Serif\" font-size=\"14.00\" fill=\"#000000\">samples = 1.3%</text>\n<text text-anchor=\"middle\" x=\"1808\" y=\"-94.8\" font-family=\"Helvetica,sans-Serif\" font-size=\"14.00\" fill=\"#000000\">value = [0.026, 0.014, 0.959]</text>\n<text text-anchor=\"middle\" x=\"1808\" y=\"-79.8\" font-family=\"Helvetica,sans-Serif\" font-size=\"14.00\" fill=\"#000000\">class = non functional</text>\n</g>\n<!-- 5582&#45;&gt;5583 -->\n<g id=\"edge25\" class=\"edge\">\n<title>5582&#45;&gt;5583</title>\n<path fill=\"none\" stroke=\"#000000\" d=\"M1808,-175.9465C1808,-167.776 1808,-158.9318 1808,-150.3697\"/>\n<polygon fill=\"#000000\" stroke=\"#000000\" points=\"1811.5001,-150.13 1808,-140.13 1804.5001,-150.13 1811.5001,-150.13\"/>\n</g>\n<!-- 5610 -->\n<g id=\"node29\" class=\"node\">\n<title>5610</title>\n<path fill=\"#a26cec\" stroke=\"#000000\" d=\"M2112,-140C2112,-140 1938,-140 1938,-140 1932,-140 1926,-134 1926,-128 1926,-128 1926,-84 1926,-84 1926,-78 1932,-72 1938,-72 1938,-72 2112,-72 2112,-72 2118,-72 2124,-78 2124,-84 2124,-84 2124,-128 2124,-128 2124,-134 2118,-140 2112,-140\"/>\n<text text-anchor=\"middle\" x=\"2025\" y=\"-124.8\" font-family=\"Helvetica,sans-Serif\" font-size=\"14.00\" fill=\"#000000\">payment_never pay &lt;= 0.15</text>\n<text text-anchor=\"middle\" x=\"2025\" y=\"-109.8\" font-family=\"Helvetica,sans-Serif\" font-size=\"14.00\" fill=\"#000000\">samples = 0.6%</text>\n<text text-anchor=\"middle\" x=\"2025\" y=\"-94.8\" font-family=\"Helvetica,sans-Serif\" font-size=\"14.00\" fill=\"#000000\">value = [0.205, 0.0, 0.795]</text>\n<text text-anchor=\"middle\" x=\"2025\" y=\"-79.8\" font-family=\"Helvetica,sans-Serif\" font-size=\"14.00\" fill=\"#000000\">class = non functional</text>\n</g>\n<!-- 5582&#45;&gt;5610 -->\n<g id=\"edge28\" class=\"edge\">\n<title>5582&#45;&gt;5610</title>\n<path fill=\"none\" stroke=\"#000000\" d=\"M1879.0539,-175.9465C1900.0361,-165.8906 1923.1477,-154.814 1944.6705,-144.4989\"/>\n<polygon fill=\"#000000\" stroke=\"#000000\" points=\"1946.2813,-147.6082 1953.7865,-140.13 1943.2559,-141.2957 1946.2813,-147.6082\"/>\n</g>\n<!-- 5584 -->\n<g id=\"node27\" class=\"node\">\n<title>5584</title>\n<path fill=\"#c0c0c0\" stroke=\"#000000\" d=\"M1787,-36C1787,-36 1757,-36 1757,-36 1751,-36 1745,-30 1745,-24 1745,-24 1745,-12 1745,-12 1745,-6 1751,0 1757,0 1757,0 1787,0 1787,0 1793,0 1799,-6 1799,-12 1799,-12 1799,-24 1799,-24 1799,-30 1793,-36 1787,-36\"/>\n<text text-anchor=\"middle\" x=\"1772\" y=\"-14.3\" font-family=\"Helvetica,sans-Serif\" font-size=\"14.00\" fill=\"#000000\">(...)</text>\n</g>\n<!-- 5583&#45;&gt;5584 -->\n<g id=\"edge26\" class=\"edge\">\n<title>5583&#45;&gt;5584</title>\n<path fill=\"none\" stroke=\"#000000\" d=\"M1794.0815,-71.9769C1790.4977,-63.2167 1786.6862,-53.8995 1783.2564,-45.5157\"/>\n<polygon fill=\"#000000\" stroke=\"#000000\" points=\"1786.468,-44.1222 1779.4422,-36.192 1779.9891,-46.7727 1786.468,-44.1222\"/>\n</g>\n<!-- 5601 -->\n<g id=\"node28\" class=\"node\">\n<title>5601</title>\n<path fill=\"#c0c0c0\" stroke=\"#000000\" d=\"M1859,-36C1859,-36 1829,-36 1829,-36 1823,-36 1817,-30 1817,-24 1817,-24 1817,-12 1817,-12 1817,-6 1823,0 1829,0 1829,0 1859,0 1859,0 1865,0 1871,-6 1871,-12 1871,-12 1871,-24 1871,-24 1871,-30 1865,-36 1859,-36\"/>\n<text text-anchor=\"middle\" x=\"1844\" y=\"-14.3\" font-family=\"Helvetica,sans-Serif\" font-size=\"14.00\" fill=\"#000000\">(...)</text>\n</g>\n<!-- 5583&#45;&gt;5601 -->\n<g id=\"edge27\" class=\"edge\">\n<title>5583&#45;&gt;5601</title>\n<path fill=\"none\" stroke=\"#000000\" d=\"M1821.9185,-71.9769C1825.5023,-63.2167 1829.3138,-53.8995 1832.7436,-45.5157\"/>\n<polygon fill=\"#000000\" stroke=\"#000000\" points=\"1836.0109,-46.7727 1836.5578,-36.192 1829.532,-44.1222 1836.0109,-46.7727\"/>\n</g>\n<!-- 5611 -->\n<g id=\"node30\" class=\"node\">\n<title>5611</title>\n<path fill=\"#c0c0c0\" stroke=\"#000000\" d=\"M2004,-36C2004,-36 1974,-36 1974,-36 1968,-36 1962,-30 1962,-24 1962,-24 1962,-12 1962,-12 1962,-6 1968,0 1974,0 1974,0 2004,0 2004,0 2010,0 2016,-6 2016,-12 2016,-12 2016,-24 2016,-24 2016,-30 2010,-36 2004,-36\"/>\n<text text-anchor=\"middle\" x=\"1989\" y=\"-14.3\" font-family=\"Helvetica,sans-Serif\" font-size=\"14.00\" fill=\"#000000\">(...)</text>\n</g>\n<!-- 5610&#45;&gt;5611 -->\n<g id=\"edge29\" class=\"edge\">\n<title>5610&#45;&gt;5611</title>\n<path fill=\"none\" stroke=\"#000000\" d=\"M2011.0815,-71.9769C2007.4977,-63.2167 2003.6862,-53.8995 2000.2564,-45.5157\"/>\n<polygon fill=\"#000000\" stroke=\"#000000\" points=\"2003.468,-44.1222 1996.4422,-36.192 1996.9891,-46.7727 2003.468,-44.1222\"/>\n</g>\n<!-- 5620 -->\n<g id=\"node31\" class=\"node\">\n<title>5620</title>\n<path fill=\"#c0c0c0\" stroke=\"#000000\" d=\"M2076,-36C2076,-36 2046,-36 2046,-36 2040,-36 2034,-30 2034,-24 2034,-24 2034,-12 2034,-12 2034,-6 2040,0 2046,0 2046,0 2076,0 2076,0 2082,0 2088,-6 2088,-12 2088,-12 2088,-24 2088,-24 2088,-30 2082,-36 2076,-36\"/>\n<text text-anchor=\"middle\" x=\"2061\" y=\"-14.3\" font-family=\"Helvetica,sans-Serif\" font-size=\"14.00\" fill=\"#000000\">(...)</text>\n</g>\n<!-- 5610&#45;&gt;5620 -->\n<g id=\"edge30\" class=\"edge\">\n<title>5610&#45;&gt;5620</title>\n<path fill=\"none\" stroke=\"#000000\" d=\"M2038.9185,-71.9769C2042.5023,-63.2167 2046.3138,-53.8995 2049.7436,-45.5157\"/>\n<polygon fill=\"#000000\" stroke=\"#000000\" points=\"2053.0109,-46.7727 2053.5578,-36.192 2046.532,-44.1222 2053.0109,-46.7727\"/>\n</g>\n</g>\n</svg>\n"
          },
          "metadata": {
            "tags": []
          }
        }
      ]
    },
    {
      "cell_type": "code",
      "metadata": {
        "id": "Od4qypfb68vZ",
        "colab_type": "code",
        "colab": {}
      },
      "source": [
        "y_pred = pipeline.predict(X_test)"
      ],
      "execution_count": 0,
      "outputs": []
    },
    {
      "cell_type": "code",
      "metadata": {
        "id": "labJ5erL805T",
        "colab_type": "code",
        "colab": {
          "base_uri": "https://localhost:8080/",
          "height": 50
        },
        "outputId": "79824881-1980-404d-e884-2ff9209beceb"
      },
      "source": [
        "y_pred"
      ],
      "execution_count": 33,
      "outputs": [
        {
          "output_type": "execute_result",
          "data": {
            "text/plain": [
              "array(['functional', 'functional', 'functional', ..., 'functional',\n",
              "       'functional', 'non functional'], dtype=object)"
            ]
          },
          "metadata": {
            "tags": []
          },
          "execution_count": 33
        }
      ]
    },
    {
      "cell_type": "code",
      "metadata": {
        "id": "-IZY-tnA9AMu",
        "colab_type": "code",
        "colab": {}
      },
      "source": [
        "submission = sample_submission.copy()"
      ],
      "execution_count": 0,
      "outputs": []
    },
    {
      "cell_type": "code",
      "metadata": {
        "id": "6OmE2R1V9GmK",
        "colab_type": "code",
        "colab": {
          "base_uri": "https://localhost:8080/",
          "height": 402
        },
        "outputId": "3361937e-b07c-4101-daba-eb3e1f3a0c7a"
      },
      "source": [
        "submission['status_group'] = y_pred\n",
        "submission"
      ],
      "execution_count": 35,
      "outputs": [
        {
          "output_type": "execute_result",
          "data": {
            "text/html": [
              "<div>\n",
              "<style scoped>\n",
              "    .dataframe tbody tr th:only-of-type {\n",
              "        vertical-align: middle;\n",
              "    }\n",
              "\n",
              "    .dataframe tbody tr th {\n",
              "        vertical-align: top;\n",
              "    }\n",
              "\n",
              "    .dataframe thead th {\n",
              "        text-align: right;\n",
              "    }\n",
              "</style>\n",
              "<table border=\"1\" class=\"dataframe\">\n",
              "  <thead>\n",
              "    <tr style=\"text-align: right;\">\n",
              "      <th></th>\n",
              "      <th>id</th>\n",
              "      <th>status_group</th>\n",
              "    </tr>\n",
              "  </thead>\n",
              "  <tbody>\n",
              "    <tr>\n",
              "      <th>0</th>\n",
              "      <td>50785</td>\n",
              "      <td>functional</td>\n",
              "    </tr>\n",
              "    <tr>\n",
              "      <th>1</th>\n",
              "      <td>51630</td>\n",
              "      <td>functional</td>\n",
              "    </tr>\n",
              "    <tr>\n",
              "      <th>2</th>\n",
              "      <td>17168</td>\n",
              "      <td>functional</td>\n",
              "    </tr>\n",
              "    <tr>\n",
              "      <th>3</th>\n",
              "      <td>45559</td>\n",
              "      <td>non functional</td>\n",
              "    </tr>\n",
              "    <tr>\n",
              "      <th>4</th>\n",
              "      <td>49871</td>\n",
              "      <td>functional</td>\n",
              "    </tr>\n",
              "    <tr>\n",
              "      <th>...</th>\n",
              "      <td>...</td>\n",
              "      <td>...</td>\n",
              "    </tr>\n",
              "    <tr>\n",
              "      <th>14353</th>\n",
              "      <td>39307</td>\n",
              "      <td>non functional</td>\n",
              "    </tr>\n",
              "    <tr>\n",
              "      <th>14354</th>\n",
              "      <td>18990</td>\n",
              "      <td>functional</td>\n",
              "    </tr>\n",
              "    <tr>\n",
              "      <th>14355</th>\n",
              "      <td>28749</td>\n",
              "      <td>functional</td>\n",
              "    </tr>\n",
              "    <tr>\n",
              "      <th>14356</th>\n",
              "      <td>33492</td>\n",
              "      <td>functional</td>\n",
              "    </tr>\n",
              "    <tr>\n",
              "      <th>14357</th>\n",
              "      <td>68707</td>\n",
              "      <td>non functional</td>\n",
              "    </tr>\n",
              "  </tbody>\n",
              "</table>\n",
              "<p>14358 rows × 2 columns</p>\n",
              "</div>"
            ],
            "text/plain": [
              "          id    status_group\n",
              "0      50785      functional\n",
              "1      51630      functional\n",
              "2      17168      functional\n",
              "3      45559  non functional\n",
              "4      49871      functional\n",
              "...      ...             ...\n",
              "14353  39307  non functional\n",
              "14354  18990      functional\n",
              "14355  28749      functional\n",
              "14356  33492      functional\n",
              "14357  68707  non functional\n",
              "\n",
              "[14358 rows x 2 columns]"
            ]
          },
          "metadata": {
            "tags": []
          },
          "execution_count": 35
        }
      ]
    },
    {
      "cell_type": "code",
      "metadata": {
        "id": "9WA5bw769Nk-",
        "colab_type": "code",
        "colab": {
          "base_uri": "https://localhost:8080/",
          "height": 402
        },
        "outputId": "334c8df2-4750-462a-f969-6e8b877cfa19"
      },
      "source": [
        "sample_submission"
      ],
      "execution_count": 36,
      "outputs": [
        {
          "output_type": "execute_result",
          "data": {
            "text/html": [
              "<div>\n",
              "<style scoped>\n",
              "    .dataframe tbody tr th:only-of-type {\n",
              "        vertical-align: middle;\n",
              "    }\n",
              "\n",
              "    .dataframe tbody tr th {\n",
              "        vertical-align: top;\n",
              "    }\n",
              "\n",
              "    .dataframe thead th {\n",
              "        text-align: right;\n",
              "    }\n",
              "</style>\n",
              "<table border=\"1\" class=\"dataframe\">\n",
              "  <thead>\n",
              "    <tr style=\"text-align: right;\">\n",
              "      <th></th>\n",
              "      <th>id</th>\n",
              "      <th>status_group</th>\n",
              "    </tr>\n",
              "  </thead>\n",
              "  <tbody>\n",
              "    <tr>\n",
              "      <th>0</th>\n",
              "      <td>50785</td>\n",
              "      <td>functional</td>\n",
              "    </tr>\n",
              "    <tr>\n",
              "      <th>1</th>\n",
              "      <td>51630</td>\n",
              "      <td>functional</td>\n",
              "    </tr>\n",
              "    <tr>\n",
              "      <th>2</th>\n",
              "      <td>17168</td>\n",
              "      <td>functional</td>\n",
              "    </tr>\n",
              "    <tr>\n",
              "      <th>3</th>\n",
              "      <td>45559</td>\n",
              "      <td>functional</td>\n",
              "    </tr>\n",
              "    <tr>\n",
              "      <th>4</th>\n",
              "      <td>49871</td>\n",
              "      <td>functional</td>\n",
              "    </tr>\n",
              "    <tr>\n",
              "      <th>...</th>\n",
              "      <td>...</td>\n",
              "      <td>...</td>\n",
              "    </tr>\n",
              "    <tr>\n",
              "      <th>14353</th>\n",
              "      <td>39307</td>\n",
              "      <td>functional</td>\n",
              "    </tr>\n",
              "    <tr>\n",
              "      <th>14354</th>\n",
              "      <td>18990</td>\n",
              "      <td>functional</td>\n",
              "    </tr>\n",
              "    <tr>\n",
              "      <th>14355</th>\n",
              "      <td>28749</td>\n",
              "      <td>functional</td>\n",
              "    </tr>\n",
              "    <tr>\n",
              "      <th>14356</th>\n",
              "      <td>33492</td>\n",
              "      <td>functional</td>\n",
              "    </tr>\n",
              "    <tr>\n",
              "      <th>14357</th>\n",
              "      <td>68707</td>\n",
              "      <td>functional</td>\n",
              "    </tr>\n",
              "  </tbody>\n",
              "</table>\n",
              "<p>14358 rows × 2 columns</p>\n",
              "</div>"
            ],
            "text/plain": [
              "          id status_group\n",
              "0      50785   functional\n",
              "1      51630   functional\n",
              "2      17168   functional\n",
              "3      45559   functional\n",
              "4      49871   functional\n",
              "...      ...          ...\n",
              "14353  39307   functional\n",
              "14354  18990   functional\n",
              "14355  28749   functional\n",
              "14356  33492   functional\n",
              "14357  68707   functional\n",
              "\n",
              "[14358 rows x 2 columns]"
            ]
          },
          "metadata": {
            "tags": []
          },
          "execution_count": 36
        }
      ]
    },
    {
      "cell_type": "code",
      "metadata": {
        "id": "XBftCu6K9_QF",
        "colab_type": "code",
        "colab": {
          "base_uri": "https://localhost:8080/",
          "height": 431
        },
        "outputId": "27df0c0b-09e9-4e9c-e09f-7f616b117117"
      },
      "source": [
        "submission.set_index('id')"
      ],
      "execution_count": 38,
      "outputs": [
        {
          "output_type": "execute_result",
          "data": {
            "text/html": [
              "<div>\n",
              "<style scoped>\n",
              "    .dataframe tbody tr th:only-of-type {\n",
              "        vertical-align: middle;\n",
              "    }\n",
              "\n",
              "    .dataframe tbody tr th {\n",
              "        vertical-align: top;\n",
              "    }\n",
              "\n",
              "    .dataframe thead th {\n",
              "        text-align: right;\n",
              "    }\n",
              "</style>\n",
              "<table border=\"1\" class=\"dataframe\">\n",
              "  <thead>\n",
              "    <tr style=\"text-align: right;\">\n",
              "      <th></th>\n",
              "      <th>status_group</th>\n",
              "    </tr>\n",
              "    <tr>\n",
              "      <th>id</th>\n",
              "      <th></th>\n",
              "    </tr>\n",
              "  </thead>\n",
              "  <tbody>\n",
              "    <tr>\n",
              "      <th>50785</th>\n",
              "      <td>functional</td>\n",
              "    </tr>\n",
              "    <tr>\n",
              "      <th>51630</th>\n",
              "      <td>functional</td>\n",
              "    </tr>\n",
              "    <tr>\n",
              "      <th>17168</th>\n",
              "      <td>functional</td>\n",
              "    </tr>\n",
              "    <tr>\n",
              "      <th>45559</th>\n",
              "      <td>non functional</td>\n",
              "    </tr>\n",
              "    <tr>\n",
              "      <th>49871</th>\n",
              "      <td>functional</td>\n",
              "    </tr>\n",
              "    <tr>\n",
              "      <th>...</th>\n",
              "      <td>...</td>\n",
              "    </tr>\n",
              "    <tr>\n",
              "      <th>39307</th>\n",
              "      <td>non functional</td>\n",
              "    </tr>\n",
              "    <tr>\n",
              "      <th>18990</th>\n",
              "      <td>functional</td>\n",
              "    </tr>\n",
              "    <tr>\n",
              "      <th>28749</th>\n",
              "      <td>functional</td>\n",
              "    </tr>\n",
              "    <tr>\n",
              "      <th>33492</th>\n",
              "      <td>functional</td>\n",
              "    </tr>\n",
              "    <tr>\n",
              "      <th>68707</th>\n",
              "      <td>non functional</td>\n",
              "    </tr>\n",
              "  </tbody>\n",
              "</table>\n",
              "<p>14358 rows × 1 columns</p>\n",
              "</div>"
            ],
            "text/plain": [
              "         status_group\n",
              "id                   \n",
              "50785      functional\n",
              "51630      functional\n",
              "17168      functional\n",
              "45559  non functional\n",
              "49871      functional\n",
              "...               ...\n",
              "39307  non functional\n",
              "18990      functional\n",
              "28749      functional\n",
              "33492      functional\n",
              "68707  non functional\n",
              "\n",
              "[14358 rows x 1 columns]"
            ]
          },
          "metadata": {
            "tags": []
          },
          "execution_count": 38
        }
      ]
    },
    {
      "cell_type": "code",
      "metadata": {
        "id": "dwcdI9jM9Q_x",
        "colab_type": "code",
        "colab": {}
      },
      "source": [
        "submission.to_csv('submision.csv')"
      ],
      "execution_count": 0,
      "outputs": []
    },
    {
      "cell_type": "code",
      "metadata": {
        "id": "7FeWHvhH9Xc1",
        "colab_type": "code",
        "colab": {}
      },
      "source": [
        ""
      ],
      "execution_count": 0,
      "outputs": []
    }
  ]
}