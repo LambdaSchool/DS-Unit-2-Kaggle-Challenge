{
  "nbformat": 4,
  "nbformat_minor": 0,
  "metadata": {
    "kernelspec": {
      "display_name": "Python 3",
      "language": "python",
      "name": "python3"
    },
    "language_info": {
      "codemirror_mode": {
        "name": "ipython",
        "version": 3
      },
      "file_extension": ".py",
      "mimetype": "text/x-python",
      "name": "python",
      "nbconvert_exporter": "python",
      "pygments_lexer": "ipython3",
      "version": "3.7.3"
    },
    "colab": {
      "name": "Classification_Metrics_LS_DS_224_assignment.ipynb",
      "provenance": [],
      "collapsed_sections": [
        "nCc3XZEyG3XV"
      ],
      "toc_visible": true,
      "include_colab_link": true
    }
  },
  "cells": [
    {
      "cell_type": "markdown",
      "metadata": {
        "id": "view-in-github",
        "colab_type": "text"
      },
      "source": [
        "<a href=\"https://colab.research.google.com/github/Lolo-17/DS-Unit-2-Kaggle-Challenge/blob/master/module4-classification-metrics/Classification_Metrics_LS_DS_224_assignment.ipynb\" target=\"_parent\"><img src=\"https://colab.research.google.com/assets/colab-badge.svg\" alt=\"Open In Colab\"/></a>"
      ]
    },
    {
      "cell_type": "markdown",
      "metadata": {
        "id": "YH61ZD_p0Hed",
        "colab_type": "text"
      },
      "source": [
        "Lambda School Data Science\n",
        "\n",
        "*Unit 2, Sprint 2, Module 4*\n",
        "\n",
        "---"
      ]
    },
    {
      "cell_type": "markdown",
      "metadata": {
        "colab_type": "text",
        "id": "nCc3XZEyG3XV"
      },
      "source": [
        "# Classification Metrics"
      ]
    },
    {
      "cell_type": "markdown",
      "metadata": {
        "id": "_fLyyVpt6TcJ",
        "colab_type": "text"
      },
      "source": [
        "\n",
        "## Assignment\n",
        "- [ ] If you haven't yet, [review requirements for your portfolio project](https://lambdaschool.github.io/ds/unit2), then submit your dataset.\n",
        "- [ ] Plot a confusion matrix for your Tanzania Waterpumps model.\n",
        "- [ ] Continue to participate in our Kaggle challenge. Every student should have made at least one submission that scores at least 70% accuracy (well above the majority class baseline).\n",
        "- [ ] Submit your final predictions to our Kaggle competition. Optionally, go to **My Submissions**, and _\"you may select up to 1 submission to be used to count towards your final leaderboard score.\"_\n",
        "- [ ] Commit your notebook to your fork of the GitHub repo.\n",
        "- [ ] Read [Maximizing Scarce Maintenance Resources with Data: Applying predictive modeling, precision at k, and clustering to optimize impact](http://archive.is/DelgE), by Lambda DS3 student Michael Brady. His blog post extends the Tanzania Waterpumps scenario, far beyond what's in the lecture notebook.\n",
        "\n",
        "\n",
        "## Stretch Goals\n",
        "\n",
        "### Reading\n",
        "\n",
        "- [Attacking discrimination with smarter machine learning](https://research.google.com/bigpicture/attacking-discrimination-in-ml/), by Google Research, with  interactive visualizations. _\"A threshold classifier essentially makes a yes/no decision, putting things in one category or another. We look at how these classifiers work, ways they can potentially be unfair, and how you might turn an unfair classifier into a fairer one. As an illustrative example, we focus on loan granting scenarios where a bank may grant or deny a loan based on a single, automatically computed number such as a credit score.\"_\n",
        "- [Notebook about how to calculate expected value from a confusion matrix by treating it as a cost-benefit matrix](https://github.com/podopie/DAT18NYC/blob/master/classes/13-expected_value_cost_benefit_analysis.ipynb)\n",
        "- [Visualizing Machine Learning Thresholds to Make Better Business Decisions](https://blog.insightdatascience.com/visualizing-machine-learning-thresholds-to-make-better-business-decisions-4ab07f823415)\n",
        "\n",
        "\n",
        "### Doing\n",
        "- [ ] Share visualizations in our Slack channel!\n",
        "- [ ] RandomizedSearchCV / GridSearchCV, for model selection. (See module 3 assignment notebook)\n",
        "- [ ] Stacking Ensemble. (See module 3 assignment notebook)\n",
        "- [ ] More Categorical Encoding. (See module 2 assignment notebook)"
      ]
    },
    {
      "cell_type": "markdown",
      "metadata": {
        "id": "jLjPFdY-6WnA",
        "colab_type": "text"
      },
      "source": [
        "# Setup"
      ]
    },
    {
      "cell_type": "code",
      "metadata": {
        "colab_type": "code",
        "id": "lsbRiKBoB5RE",
        "colab": {}
      },
      "source": [
        "%%capture\n",
        "import sys\n",
        "\n",
        "# If you're on Colab:\n",
        "if 'google.colab' in sys.modules:\n",
        "    DATA_PATH = 'https://raw.githubusercontent.com/LambdaSchool/DS-Unit-2-Kaggle-Challenge/master/data/'\n",
        "    !pip install category_encoders==2.*\n",
        "\n",
        "# If you're working locally:\n",
        "else:\n",
        "    DATA_PATH = '../data/'"
      ],
      "execution_count": 1,
      "outputs": []
    },
    {
      "cell_type": "code",
      "metadata": {
        "id": "yxqwtD3x5Bwa",
        "colab_type": "code",
        "colab": {}
      },
      "source": [
        "%%capture\n",
        "\n",
        "# Libraries.\n",
        "import pandas as pd\n",
        "import pandas_profiling\n",
        "import numpy as np\n",
        "import matplotlib.pyplot as plt\n",
        "%matplotlib inline\n",
        "import seaborn as sns\n",
        "import graphviz\n",
        "\n",
        "# Category\n",
        "from category_encoders import OneHotEncoder\n",
        "from category_encoders import OrdinalEncoder\n",
        "\n",
        "# Sklearn.\n",
        "from sklearn.model_selection import train_test_split\n",
        "from sklearn.model_selection import GridSearchCV\n",
        "from sklearn.model_selection import RandomizedSearchCV\n",
        "from sklearn.linear_model import LogisticRegression\n",
        "from sklearn.pipeline import make_pipeline\n",
        "from sklearn.impute import SimpleImputer\n",
        "from sklearn.preprocessing import StandardScaler\n",
        "from sklearn.tree import DecisionTreeClassifier\n",
        "from sklearn.tree import export_graphviz\n",
        "from sklearn.ensemble import RandomForestClassifier\n",
        "from sklearn.feature_selection import SelectKBest\n",
        "from sklearn.metrics import mean_absolute_error\n",
        "from sklearn.metrics import accuracy_score\n",
        "from sklearn.metrics import plot_confusion_matrix, classification_report\n",
        "\n",
        "# Other.\n",
        "from google.colab import files"
      ],
      "execution_count": 2,
      "outputs": []
    },
    {
      "cell_type": "markdown",
      "metadata": {
        "id": "AblLf8FB6aYv",
        "colab_type": "text"
      },
      "source": [
        "# Import"
      ]
    },
    {
      "cell_type": "code",
      "metadata": {
        "colab_type": "code",
        "id": "BVA1lph8CcNX",
        "colab": {}
      },
      "source": [
        "# Merge train_features.csv & train_labels.csv\n",
        "train = pd.merge(pd.read_csv(DATA_PATH+'waterpumps/train_features.csv'), \n",
        "                 pd.read_csv(DATA_PATH+'waterpumps/train_labels.csv'))\n",
        "\n",
        "# Read test_features.csv & sample_submission.csv\n",
        "test = pd.read_csv(DATA_PATH+'waterpumps/test_features.csv')\n",
        "sample_submission = pd.read_csv(DATA_PATH+'waterpumps/sample_submission.csv')"
      ],
      "execution_count": 3,
      "outputs": []
    },
    {
      "cell_type": "markdown",
      "metadata": {
        "id": "qRCwjW9G6cNK",
        "colab_type": "text"
      },
      "source": [
        "# Wrangle"
      ]
    },
    {
      "cell_type": "code",
      "metadata": {
        "id": "kL9h62SG0Her",
        "colab_type": "code",
        "colab": {}
      },
      "source": [
        "def wrangle(X):\n",
        "    \"\"\"Wrangles train, validate, and test sets in the same way\"\"\"\n",
        "    X = X.copy()\n",
        "\n",
        "    # Convert date_recorded to datetime\n",
        "    X['date_recorded'] = pd.to_datetime(X['date_recorded'], infer_datetime_format=True)\n",
        "    \n",
        "    # Extract components from date_recorded, then drop the original column\n",
        "    X['year_recorded'] = X['date_recorded'].dt.year\n",
        "    X['month_recorded'] = X['date_recorded'].dt.month\n",
        "    X['day_recorded'] = X['date_recorded'].dt.day\n",
        "    X = X.drop(columns='date_recorded')\n",
        "    \n",
        "    # Engineer feature: how many years from construction_year to date_recorded\n",
        "    X['years'] = X['year_recorded'] - X['construction_year']    \n",
        "    \n",
        "    # Drop recorded_by (never varies) and id (always varies, random)\n",
        "    unusable_variance = ['recorded_by', 'id']\n",
        "    X = X.drop(columns=unusable_variance)\n",
        "    \n",
        "    # Drop duplicate columns\n",
        "    duplicate_columns = ['quantity_group']\n",
        "    X = X.drop(columns=duplicate_columns)\n",
        "    \n",
        "    # About 3% of the time, latitude has small values near zero,\n",
        "    # outside Tanzania, so we'll treat these like null values\n",
        "    X['latitude'] = X['latitude'].replace(-2e-08, np.nan)\n",
        "    \n",
        "    # When columns have zeros and shouldn't, they are like null values\n",
        "    cols_with_zeros = ['construction_year', 'longitude', 'latitude', 'gps_height', 'population']\n",
        "    for col in cols_with_zeros:\n",
        "        X[col] = X[col].replace(0, np.nan)\n",
        "\n",
        "    # If `1`, waterpump is either `non functional` or `functional needs repair`\n",
        "    # If `0`, waterpump is `functional`\n",
        "    train['needs_repair'] = (train['status_group'] != 'functional').astype(int)\n",
        "    train.drop('status_group', axis=1, inplace=True)\n",
        "\n",
        "    return X"
      ],
      "execution_count": 4,
      "outputs": []
    },
    {
      "cell_type": "code",
      "metadata": {
        "id": "tuhuHpml42Qc",
        "colab_type": "code",
        "colab": {}
      },
      "source": [
        "train = wrangle(train)\n",
        "test = wrangle(test)"
      ],
      "execution_count": 5,
      "outputs": []
    },
    {
      "cell_type": "markdown",
      "metadata": {
        "id": "tAq8ljSZ6e5_",
        "colab_type": "text"
      },
      "source": [
        "# Split"
      ]
    },
    {
      "cell_type": "code",
      "metadata": {
        "id": "I_lkKf395HdK",
        "colab_type": "code",
        "colab": {}
      },
      "source": [
        "# Split train into train & val. Make val the same size as test.\n",
        "train, val = train_test_split(train, test_size=0.2,  \n",
        "                              random_state=42)\n",
        "\n",
        "# Arrange data into X features matrix and y target vector\n",
        "target = 'needs_repair'\n",
        "X_train = train.drop(columns=target)\n",
        "y_train = train[target]\n",
        "X_val = val.drop(columns=target)\n",
        "y_val = val[target]"
      ],
      "execution_count": 6,
      "outputs": []
    },
    {
      "cell_type": "markdown",
      "metadata": {
        "id": "hAqOjBp16hSg",
        "colab_type": "text"
      },
      "source": [
        "# Baseline"
      ]
    },
    {
      "cell_type": "code",
      "metadata": {
        "id": "JzmUXFru5Iyy",
        "colab_type": "code",
        "colab": {
          "base_uri": "https://localhost:8080/",
          "height": 34
        },
        "outputId": "a8d7559b-edf9-4dab-c236-496886494f71"
      },
      "source": [
        "print('Baselne Accuracy:', y_train.value_counts(normalize=True).max())"
      ],
      "execution_count": 7,
      "outputs": [
        {
          "output_type": "stream",
          "text": [
            "Baselne Accuracy: 0.5429713804713805\n"
          ],
          "name": "stdout"
        }
      ]
    },
    {
      "cell_type": "markdown",
      "metadata": {
        "id": "Y34N7c4q6j4S",
        "colab_type": "text"
      },
      "source": [
        "# Model"
      ]
    },
    {
      "cell_type": "markdown",
      "metadata": {
        "id": "kRTnA1in9MgS",
        "colab_type": "text"
      },
      "source": [
        "## ```OrdinalEncoder``` + ```DecisionTreeClassifier```"
      ]
    },
    {
      "cell_type": "code",
      "metadata": {
        "id": "VxIpvtaE9QUY",
        "colab_type": "code",
        "colab": {}
      },
      "source": [
        "# Make pipeline!\n",
        "ord_tree_c = make_pipeline( \n",
        "    OrdinalEncoder(),\n",
        "    StandardScaler(),\n",
        "    SimpleImputer(strategy='mean'), \n",
        "    DecisionTreeClassifier(random_state=17)\n",
        ")\n",
        "\n",
        "# Fit on train, score on val\n",
        "ord_tree_c.fit(X_train, y_train);"
      ],
      "execution_count": 13,
      "outputs": []
    },
    {
      "cell_type": "markdown",
      "metadata": {
        "id": "M0JYJP0D-SZT",
        "colab_type": "text"
      },
      "source": [
        "### Metrics"
      ]
    },
    {
      "cell_type": "code",
      "metadata": {
        "id": "p9ElRG5v-UHC",
        "colab_type": "code",
        "colab": {
          "base_uri": "https://localhost:8080/",
          "height": 51
        },
        "outputId": "201d5d22-2842-47f4-c203-62764ffe8f94"
      },
      "source": [
        "print('Training Accuracy', ord_tree_c.score(X_train, y_train))\n",
        "print('Validation Accuracy', ord_tree_c.score(X_val, y_val))"
      ],
      "execution_count": 44,
      "outputs": [
        {
          "output_type": "stream",
          "text": [
            "Training Accuracy 0.995770202020202\n",
            "Validation Accuracy 0.8215488215488216\n"
          ],
          "name": "stdout"
        }
      ]
    },
    {
      "cell_type": "markdown",
      "metadata": {
        "id": "cavIO2RZ_blD",
        "colab_type": "text"
      },
      "source": [
        "### Confusion Matrix"
      ]
    },
    {
      "cell_type": "code",
      "metadata": {
        "id": "SN37HBuW_e2a",
        "colab_type": "code",
        "colab": {
          "base_uri": "https://localhost:8080/",
          "height": 279
        },
        "outputId": "4ceee643-c016-4860-8f01-d13849e5d343"
      },
      "source": [
        "plot_confusion_matrix(ord_tree_c,\n",
        "                      X_val,\n",
        "                      y_val,\n",
        "                      display_labels = ['no repair needed', 'needs repair'],\n",
        "                      values_format='.0f');"
      ],
      "execution_count": 45,
      "outputs": [
        {
          "output_type": "display_data",
          "data": {
            "image/png": "[encoded data removed]",
            "text/plain": [
              "<Figure size 432x288 with 2 Axes>"
            ]
          },
          "metadata": {
            "tags": [],
            "needs_background": "light"
          }
        }
      ]
    },
    {
      "cell_type": "markdown",
      "metadata": {
        "id": "ofhchH5-_x27",
        "colab_type": "text"
      },
      "source": [
        "#### Precision and Recall"
      ]
    },
    {
      "cell_type": "code",
      "metadata": {
        "id": "Sy88Owuk_obi",
        "colab_type": "code",
        "colab": {
          "base_uri": "https://localhost:8080/",
          "height": 51
        },
        "outputId": "9a9edf17-8a5b-4f8a-de38-b1af2521b8a5"
      },
      "source": [
        "print('Precision:', 4096/(4096+793))\n",
        "print('Recall:', 4096/(4096+1327))"
      ],
      "execution_count": 46,
      "outputs": [
        {
          "output_type": "stream",
          "text": [
            "Precision: 0.8377991409286153\n",
            "Recall: 0.7553014936382076\n"
          ],
          "name": "stdout"
        }
      ]
    },
    {
      "cell_type": "code",
      "metadata": {
        "id": "oT7D7hjeASO7",
        "colab_type": "code",
        "colab": {
          "base_uri": "https://localhost:8080/",
          "height": 170
        },
        "outputId": "1cbc2d10-b3b2-4c40-8ab3-334173b6a218"
      },
      "source": [
        "print(classification_report(y_val, ord_tree_c.predict(X_val),\n",
        "                            target_names=['no repair', 'needs repair'])) "
      ],
      "execution_count": 47,
      "outputs": [
        {
          "output_type": "stream",
          "text": [
            "              precision    recall  f1-score   support\n",
            "\n",
            "   no repair       0.81      0.88      0.84      6457\n",
            "needs repair       0.84      0.76      0.79      5423\n",
            "\n",
            "    accuracy                           0.82     11880\n",
            "   macro avg       0.82      0.82      0.82     11880\n",
            "weighted avg       0.82      0.82      0.82     11880\n",
            "\n"
          ],
          "name": "stdout"
        }
      ]
    },
    {
      "cell_type": "markdown",
      "metadata": {
        "id": "FXpt5OZD_qN7",
        "colab_type": "text"
      },
      "source": [
        "#### Quantifying Precision and Recall in Water Pump Repair"
      ]
    },
    {
      "cell_type": "markdown",
      "metadata": {
        "id": "vZIC3lYU_sac",
        "colab_type": "text"
      },
      "source": [
        "Repair a pump => $100"
      ]
    },
    {
      "cell_type": "code",
      "metadata": {
        "id": "rPnSrbz7AW8p",
        "colab_type": "code",
        "colab": {}
      },
      "source": [
        "X_sample = X_val.sample(3000, random_state=42)\n",
        "y_sample = y_val.loc[X_sample.index]"
      ],
      "execution_count": 48,
      "outputs": []
    },
    {
      "cell_type": "code",
      "metadata": {
        "id": "sFoyo39gAaCi",
        "colab_type": "code",
        "colab": {
          "base_uri": "https://localhost:8080/",
          "height": 51
        },
        "outputId": "44b40b29-0ec9-438b-9df2-b93f59e8d7f4"
      },
      "source": [
        "print('Pumps Repaired:', y_sample.sum())\n",
        "print('Wasted Funds:', (3000-y_sample.sum())*100)"
      ],
      "execution_count": 49,
      "outputs": [
        {
          "output_type": "stream",
          "text": [
            "Pumps Repaired: 1388\n",
            "Wasted Funds: 161200\n"
          ],
          "name": "stdout"
        }
      ]
    },
    {
      "cell_type": "markdown",
      "metadata": {
        "id": "cdPVQtW8Ab0v",
        "colab_type": "text"
      },
      "source": [
        "What if the government had our model?"
      ]
    },
    {
      "cell_type": "code",
      "metadata": {
        "id": "ePQup8dzAbgb",
        "colab_type": "code",
        "colab": {}
      },
      "source": [
        "y_pred_mask = ord_tree_c.predict(X_val).astype(bool)\n",
        "X_sample = X_val.loc[y_pred_mask].sample(3000, random_state=42)\n",
        "y_sample = y_val.loc[X_sample.index]"
      ],
      "execution_count": 50,
      "outputs": []
    },
    {
      "cell_type": "code",
      "metadata": {
        "id": "HdZIOvJ_Ae8a",
        "colab_type": "code",
        "colab": {
          "base_uri": "https://localhost:8080/",
          "height": 283
        },
        "outputId": "07c69e60-3d2a-49d9-9600-be5502b492fc"
      },
      "source": [
        "plot_confusion_matrix(ord_tree_c,\n",
        "                      X_sample,\n",
        "                      y_sample,\n",
        "                      display_labels = ['no repair needed', 'needs repair'],\n",
        "                      values_format='.0f');"
      ],
      "execution_count": 51,
      "outputs": [
        {
          "output_type": "display_data",
          "data": {
            "image/png": "[encoded data removed]",
            "text/plain": [
              "<Figure size 432x288 with 2 Axes>"
            ]
          },
          "metadata": {
            "tags": [],
            "needs_background": "light"
          }
        }
      ]
    },
    {
      "cell_type": "code",
      "metadata": {
        "id": "E3wURgCxAgVy",
        "colab_type": "code",
        "colab": {
          "base_uri": "https://localhost:8080/",
          "height": 51
        },
        "outputId": "422c81af-3f81-4d20-9aa4-47ec8e522935"
      },
      "source": [
        "print('Pumps Repaired:', y_sample.sum())\n",
        "print('Wasted Funds:', 496*100)"
      ],
      "execution_count": 52,
      "outputs": [
        {
          "output_type": "stream",
          "text": [
            "Pumps Repaired: 2504\n",
            "Wasted Funds: 49600\n"
          ],
          "name": "stdout"
        }
      ]
    },
    {
      "cell_type": "markdown",
      "metadata": {
        "id": "ujZhgvX36zjp",
        "colab_type": "text"
      },
      "source": [
        "## ```OridinalEncoder``` + ```RandomForest```"
      ]
    },
    {
      "cell_type": "code",
      "metadata": {
        "id": "H2fHIqI65N8q",
        "colab_type": "code",
        "colab": {}
      },
      "source": [
        "# Make pipeline!\n",
        "ord_forest_c = make_pipeline( \n",
        "    OrdinalEncoder(),\n",
        "    StandardScaler(),\n",
        "    SimpleImputer(strategy='mean'), \n",
        "    RandomForestClassifier(n_estimators=20, random_state=17, n_jobs=-1)\n",
        ")\n",
        "\n",
        "# Fit on train, score on val\n",
        "ord_forest_c.fit(X_train, y_train);"
      ],
      "execution_count": 31,
      "outputs": []
    },
    {
      "cell_type": "markdown",
      "metadata": {
        "id": "AW0puUma6nVw",
        "colab_type": "text"
      },
      "source": [
        "### Metrics"
      ]
    },
    {
      "cell_type": "code",
      "metadata": {
        "id": "F8afaxrq5gXq",
        "colab_type": "code",
        "colab": {
          "base_uri": "https://localhost:8080/",
          "height": 51
        },
        "outputId": "a51e14ef-3c61-4e87-8296-a80310812482"
      },
      "source": [
        "print('Training Accuracy', ord_forest_c.score(X_train, y_train))\n",
        "print('Validation Accuracy', ord_forest_c.score(X_val, y_val))"
      ],
      "execution_count": 32,
      "outputs": [
        {
          "output_type": "stream",
          "text": [
            "Training Accuracy 0.9959175084175084\n",
            "Validation Accuracy 0.8175084175084175\n"
          ],
          "name": "stdout"
        }
      ]
    },
    {
      "cell_type": "markdown",
      "metadata": {
        "id": "1slCGIa-6rdK",
        "colab_type": "text"
      },
      "source": [
        "### Confusion Matrix"
      ]
    },
    {
      "cell_type": "code",
      "metadata": {
        "id": "39_jdi1Z6NqC",
        "colab_type": "code",
        "colab": {
          "base_uri": "https://localhost:8080/",
          "height": 279
        },
        "outputId": "87f02c49-44bf-4238-e2ea-887b73dbb461"
      },
      "source": [
        "plot_confusion_matrix(ord_forest_c,\n",
        "                      X_val,\n",
        "                      y_val,\n",
        "                      display_labels = ['no repair needed', 'needs repair'],\n",
        "                      values_format='.0f');"
      ],
      "execution_count": 33,
      "outputs": [
        {
          "output_type": "display_data",
          "data": {
            "image/png": "[encoded data removed]",
            "text/plain": [
              "<Figure size 432x288 with 2 Axes>"
            ]
          },
          "metadata": {
            "tags": [],
            "needs_background": "light"
          }
        }
      ]
    },
    {
      "cell_type": "markdown",
      "metadata": {
        "id": "eeo_dJXi7HXE",
        "colab_type": "text"
      },
      "source": [
        "#### Precision and Recall"
      ]
    },
    {
      "cell_type": "code",
      "metadata": {
        "id": "amql8JwM7J_i",
        "colab_type": "code",
        "colab": {
          "base_uri": "https://localhost:8080/",
          "height": 51
        },
        "outputId": "65090b6f-b31c-49e7-969a-1f46661376d8"
      },
      "source": [
        "print('Precision:', 4072/(4072+817))\n",
        "print('Recall:', 4072/(4072+1351))"
      ],
      "execution_count": 34,
      "outputs": [
        {
          "output_type": "stream",
          "text": [
            "Precision: 0.8328901615872366\n",
            "Recall: 0.7508758989489213\n"
          ],
          "name": "stdout"
        }
      ]
    },
    {
      "cell_type": "code",
      "metadata": {
        "id": "6Ig9yglO7jQj",
        "colab_type": "code",
        "colab": {
          "base_uri": "https://localhost:8080/",
          "height": 170
        },
        "outputId": "aeaeed97-0111-43d3-9bae-792fe658e3e8"
      },
      "source": [
        "print(classification_report(y_val, ord_forest_c.predict(X_val),\n",
        "                            target_names=['no repair', 'needs repair'])) "
      ],
      "execution_count": 35,
      "outputs": [
        {
          "output_type": "stream",
          "text": [
            "              precision    recall  f1-score   support\n",
            "\n",
            "   no repair       0.81      0.87      0.84      6457\n",
            "needs repair       0.83      0.75      0.79      5423\n",
            "\n",
            "    accuracy                           0.82     11880\n",
            "   macro avg       0.82      0.81      0.81     11880\n",
            "weighted avg       0.82      0.82      0.82     11880\n",
            "\n"
          ],
          "name": "stdout"
        }
      ]
    },
    {
      "cell_type": "markdown",
      "metadata": {
        "id": "H8HFVdjG7tkV",
        "colab_type": "text"
      },
      "source": [
        "#### Quantifying Precision and Recall in Water Pump Repair"
      ]
    },
    {
      "cell_type": "markdown",
      "metadata": {
        "id": "EfQYb6zT8uqM",
        "colab_type": "text"
      },
      "source": [
        "Repair a pump => $100"
      ]
    },
    {
      "cell_type": "code",
      "metadata": {
        "id": "DB4JrobZ7mei",
        "colab_type": "code",
        "colab": {}
      },
      "source": [
        "X_sample = X_val.sample(3000, random_state=42)\n",
        "y_sample = y_val.loc[X_sample.index]"
      ],
      "execution_count": 36,
      "outputs": []
    },
    {
      "cell_type": "code",
      "metadata": {
        "id": "2xjuTeEK71tS",
        "colab_type": "code",
        "colab": {
          "base_uri": "https://localhost:8080/",
          "height": 51
        },
        "outputId": "172f83df-3711-428b-9bb0-8d72d3d4c740"
      },
      "source": [
        "print('Pumps Repaired:', y_sample.sum())\n",
        "print('Wasted Funds:', (3000-y_sample.sum())*100)"
      ],
      "execution_count": 40,
      "outputs": [
        {
          "output_type": "stream",
          "text": [
            "Pumps Repaired: 1388\n",
            "Wasted Funds: 161200\n"
          ],
          "name": "stdout"
        }
      ]
    },
    {
      "cell_type": "markdown",
      "metadata": {
        "id": "yj9VJQFe8cdk",
        "colab_type": "text"
      },
      "source": [
        "What if the government had our model?"
      ]
    },
    {
      "cell_type": "code",
      "metadata": {
        "id": "4LQ_x6tw8MDq",
        "colab_type": "code",
        "colab": {}
      },
      "source": [
        "y_pred_mask = ord_forest_c.predict(X_val).astype(bool)\n",
        "X_sample = X_val.loc[y_pred_mask].sample(3000, random_state=42)\n",
        "y_sample = y_val.loc[X_sample.index]"
      ],
      "execution_count": 41,
      "outputs": []
    },
    {
      "cell_type": "code",
      "metadata": {
        "id": "cKOW_xWg8loD",
        "colab_type": "code",
        "colab": {
          "base_uri": "https://localhost:8080/",
          "height": 283
        },
        "outputId": "9137f0b8-5f18-44b2-d969-7a4c618d1ab3"
      },
      "source": [
        "plot_confusion_matrix(ord_forest_c,\n",
        "                      X_sample,\n",
        "                      y_sample,\n",
        "                      display_labels = ['no repair needed', 'needs repair'],\n",
        "                      values_format='.0f');"
      ],
      "execution_count": 42,
      "outputs": [
        {
          "output_type": "display_data",
          "data": {
            "image/png": "[encoded data removed]",
            "text/plain": [
              "<Figure size 432x288 with 2 Axes>"
            ]
          },
          "metadata": {
            "tags": [],
            "needs_background": "light"
          }
        }
      ]
    },
    {
      "cell_type": "code",
      "metadata": {
        "id": "JkJS74ON8qn6",
        "colab_type": "code",
        "colab": {
          "base_uri": "https://localhost:8080/",
          "height": 51
        },
        "outputId": "b8fb7c5e-cde2-458a-f970-e41b8139312a"
      },
      "source": [
        "print('Pumps Repaired:', y_sample.sum())\n",
        "print('Wasted Funds:', 493*100)"
      ],
      "execution_count": 43,
      "outputs": [
        {
          "output_type": "stream",
          "text": [
            "Pumps Repaired: 2507\n",
            "Wasted Funds: 49300\n"
          ],
          "name": "stdout"
        }
      ]
    }
  ]
}