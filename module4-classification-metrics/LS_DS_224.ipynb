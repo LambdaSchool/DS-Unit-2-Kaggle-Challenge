{
  "nbformat": 4,
  "nbformat_minor": 0,
  "metadata": {
    "kernelspec": {
      "display_name": "Python 3",
      "language": "python",
      "name": "python3"
    },
    "language_info": {
      "codemirror_mode": {
        "name": "ipython",
        "version": 3
      },
      "file_extension": ".py",
      "mimetype": "text/x-python",
      "name": "python",
      "nbconvert_exporter": "python",
      "pygments_lexer": "ipython3",
      "version": "3.7.6"
    },
    "colab": {
      "name": "LS_DS_224.ipynb",
      "provenance": []
    },
    "widgets": {
      "application/vnd.jupyter.widget-state+json": {
        "f3e22982d8874a60b256f5584cb1ef76": {
          "model_module": "@jupyter-widgets/controls",
          "model_name": "VBoxModel",
          "state": {
            "_view_name": "VBoxView",
            "_dom_classes": [
              "widget-interact"
            ],
            "_model_name": "VBoxModel",
            "_view_module": "@jupyter-widgets/controls",
            "_model_module_version": "1.5.0",
            "_view_count": null,
            "_view_module_version": "1.5.0",
            "box_style": "",
            "layout": "IPY_MODEL_9f14211ae7c14b83a132792f1f2c2dd5",
            "_model_module": "@jupyter-widgets/controls",
            "children": [
              "IPY_MODEL_ae77fce57d87407ebea620e5f3e3daa3",
              "IPY_MODEL_aa448c88130049fe8563c76003ecf44f"
            ]
          }
        },
        "9f14211ae7c14b83a132792f1f2c2dd5": {
          "model_module": "@jupyter-widgets/base",
          "model_name": "LayoutModel",
          "state": {
            "_view_name": "LayoutView",
            "grid_template_rows": null,
            "right": null,
            "justify_content": null,
            "_view_module": "@jupyter-widgets/base",
            "overflow": null,
            "_model_module_version": "1.2.0",
            "_view_count": null,
            "flex_flow": null,
            "width": null,
            "min_width": null,
            "border": null,
            "align_items": null,
            "bottom": null,
            "_model_module": "@jupyter-widgets/base",
            "top": null,
            "grid_column": null,
            "overflow_y": null,
            "overflow_x": null,
            "grid_auto_flow": null,
            "grid_area": null,
            "grid_template_columns": null,
            "flex": null,
            "_model_name": "LayoutModel",
            "justify_items": null,
            "grid_row": null,
            "max_height": null,
            "align_content": null,
            "visibility": null,
            "align_self": null,
            "height": null,
            "min_height": null,
            "padding": null,
            "grid_auto_rows": null,
            "grid_gap": null,
            "max_width": null,
            "order": null,
            "_view_module_version": "1.2.0",
            "grid_template_areas": null,
            "object_position": null,
            "object_fit": null,
            "grid_auto_columns": null,
            "margin": null,
            "display": null,
            "left": null
          }
        },
        "ae77fce57d87407ebea620e5f3e3daa3": {
          "model_module": "@jupyter-widgets/controls",
          "model_name": "FloatSliderModel",
          "state": {
            "_view_name": "FloatSliderView",
            "style": "IPY_MODEL_b8c6c08e5d0848f8b107b4c81ce0a3ec",
            "_dom_classes": [],
            "description": "thres",
            "step": 0.1,
            "_model_name": "FloatSliderModel",
            "orientation": "horizontal",
            "max": 1,
            "_view_module": "@jupyter-widgets/controls",
            "_model_module_version": "1.5.0",
            "value": 0.5,
            "_view_count": null,
            "disabled": false,
            "_view_module_version": "1.5.0",
            "min": 0,
            "continuous_update": true,
            "readout_format": ".2f",
            "description_tooltip": null,
            "readout": true,
            "_model_module": "@jupyter-widgets/controls",
            "layout": "IPY_MODEL_9cf39f59d103445281409aea507c1405"
          }
        },
        "aa448c88130049fe8563c76003ecf44f": {
          "model_module": "@jupyter-widgets/output",
          "model_name": "OutputModel",
          "state": {
            "_view_name": "OutputView",
            "msg_id": "",
            "_dom_classes": [],
            "_model_name": "OutputModel",
            "outputs": [
              {
                "output_type": "display_data",
                "metadata": {
                  "tags": [],
                  "needs_background": "light"
                },
                "image/png": "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\n",
                "text/plain": "<Figure size 432x288 with 1 Axes>"
              },
              {
                "output_type": "stream",
                "metadata": {
                  "tags": []
                },
                "text": "              precision    recall  f1-score   support\n\n       False       0.82      0.87      0.84      7798\n        True       0.84      0.77      0.80      6560\n\n    accuracy                           0.83     14358\n   macro avg       0.83      0.82      0.82     14358\nweighted avg       0.83      0.83      0.82     14358\n\n",
                "stream": "stdout"
              },
              {
                "output_type": "display_data",
                "metadata": {
                  "tags": [],
                  "needs_background": "light"
                },
                "image/png": "iVBORw0KGgoAAAANSUhEUgAAAiwAAAGbCAYAAADnUMu5AAAABHNCSVQICAgIfAhkiAAAAAlwSFlzAAALEgAACxIB0t1+/AAAADh0RVh0U29mdHdhcmUAbWF0cGxvdGxpYiB2ZXJzaW9uMy4yLjEsIGh0dHA6Ly9tYXRwbG90bGliLm9yZy+j8jraAAAgAElEQVR4nO3debxd4/X48c9KIhIikoiQhqIERWtoSlutn6E1t9SXTvpFi9Aq1UmrU6rKt4MOpqqYmqqZGmpOg1ItFfNMFCVizCCIIazfH2ffOBnuzUncc+/e93zeXvt1937Os89+TtqTrLvW8+wdmYkkSVKZ9eruAUiSJC2MAYskSSo9AxZJklR6BiySJKn0DFgkSVLp9Wn2Bfpv+DWXIUndYNotx3X3EKSW1a8P0ZXX68x/a2fdflyXjr1RZlgkSVLpNT3DIkmSmix6fv6h539CSZJUeWZYJEmquijltJNOZcAiSVLVWRKSJEnqfmZYJEmqOktCkiSp9CwJSZIkdT8zLJIkVZ0lIUmSVHqWhCRJkrqfGRZJkqrOkpAkSSo9S0KSJEndzwyLJElVZ0lIkiSVniUhSZKk7meGRZKkqrMkJEmSSs+SkCRJUvczwyJJUtW1QIbFgEWSpKrr1fPnsPT8kEySJFWeGRZJkqrOkpAkSSq9FljW3PNDMkmSVHlmWCRJqjpLQpIkqfQsCUmSJHU/MyySJFWdJSFJklR6LVASMmCRJKnqWiDD0vM/oSRJqjwzLJIkVZ0lIUmSVHqWhCRJkrqfGRZJkqrOkpAkSSo9S0KSJEndzwyLJElV1wIZFgMWSZKqrgXmsPT8kEySJFWeGRZJkqrOkpAkSSo9S0KSJEndzwyLJElVZ0lIkiSVniUhSZKk7meGRZKkigszLJIkqewiotO2Bq41KCLOj4gHIuL+iPhwRAyJiPER8XDxc3DRNyLimIiYFBF3RcRGde+zZ9H/4YjYc2HXNWCRJEmL4mjgysxcG1gfuB/4HjAhM0cCE4pjgO2AkcU2GjgBICKGAGOATYCNgTFtQU57DFgkSaq66MSto8tELAtsBpwCkJmvZ+Z0YCdgXNFtHLBzsb8T8KesuQkYFBHDgW2A8Zk5NTOnAeOBbTu6tgGLJEkV15kloYgYHRET67bRdZdaDXgOOC0ibo+IkyNiaWCFzJxS9HkaWKHYHwE8UXf+k0Vbe+3tctKtJEmaIzPHAmPbebkPsBFwYGbeHBFH83b5p+38jIjs7HGZYZEkqeK6cNLtk8CTmXlzcXw+tQDmmaLUQ/Hz2eL1ycDKdeevVLS1194uAxZJkiquqwKWzHwaeCIi1iqatgLuAy4B2lb67AlcXOxfAuxRrBb6EDCjKB1dBWwdEYOLybZbF23tsiQkSZIWxYHAGRHRF/gP8CVqCZBzI2Jv4HHgM0Xfy4HtgUnAK0VfMnNqRBwO3FL0+2lmTu3oogYskiRVXFfeOC4z7wBGLeClrRbQN4ED2nmfU4FTG72uAYskSVXX82906xwWSZJUfmZYJEmquFZ4lpABiyRJFdcKAYslIUmSVHpmWCRJqrhWyLAYsEiSVHGtELBYEpIkSaVnhkWSpKrr+QkWAxZJkqrOkpAkSVIJmGGRJKniWiHDYsAiSVLFtULAYklIkiSVnhkWSZKqrucnWAxYJEmqOktCkiRJJWCGRZKkimuFDIsBiyRJFdcKAYslIUmSVHpmWCRJqrhWyLAYsEiSVHU9P16xJCRJksrPDIskSRVnSUiSJJVeKwQsloQkSVLpmWGRJKniWiHDYsAiSVLV9fx4xYBFkqSqa4UMi3NYJElS6ZlhkSSp4lohw2LA0oKWHdCfE8Z8gXVWH04m7H/YGcx69XWO/cHnWHLJJZj95lscfOQ5TLz3cT633Si+udcniAheeuVVDjryHO5+aDIAfxizO9ttth7PTZ3JqN2O7OZPJVXLGaeP44LzzyMz+Z9dd+OLe+zFd751MI8/+igAM2fOZJllluHcv1zMZZdewrhTT5lz7kMPPcjZ513I2u99b3cNXyVjwKIe6ahDduXqf97HF75zCkv06c1S/fry519+mSPGXsHVN97HNh9dhyMO3plt9j2ax556ga33+R3TZ85i603X4fgffp7N9jgKgNP/ehN/OOfvnHz4Ht38iaRqefjhh7jg/PM44+zzWGKJJfjqfvuw2f/bgl/9+ndz+hz1y58zYMAAAHbY8VPssOOnauc+9CAHH3SAwYpajnNYWszAAf346Ear88cL/wXAG7PfZMZLs8iEgUv3A2oZmCnPzQDgpjsfZfrMWQD8+65HGbHCoDnvdeNtjzB1xitd/Amk6nv0P4/wvve/n/79+9OnTx8+MOqDTPjb1XNez0yuvuoKttthx/nOveLyy9h2ux26criqgIjotK2sGsqwRER/4N2Z+WCTx6MmW/Vdy/H8tJcYe9gXed+aI7j9/if49i/P5ztHnc9fjz+A//vGp+nVK9hir1/Pd+5eO3+Eq268rxtGLfUsa6yxJsce/TumT5/Gkkv24x83XM8666435/Xbbp3IcsstxyqrrDrfuVddeTm/O/b3XThaVUJ544xOs9AMS0R8ErgDuLI43iAiLlnIOaMjYmJETJz9/L2dM1J1ij59erPB2itz0nk38OHP/4JXZr3Gt7/8CUbv9jEO+fVfGLndjzjkqAs4Yczuc5232aiR7Lnzh/nh0Rd308ilnuM9q6/Ol/beh/333Zuv7rcPa629Nr17vf3X8RWXX8q228+fXbnrrjvp168/I0eu2ZXDlUqhkZLQT4CNgekAmXkHsFpHJ2Tm2MwclZmj+gxd9x0PUp1n8jPTmPzsdG6553EALvzbHWyw9srsvuMmXDThDgAuGH87o9ZdZc456418Fyf8+Avs9o2xTJ3xcreMW+ppdvmf3Tj7vL9w2p/OYODAZVll1VUBmD17NhP+Np5tt91+vnOuuvwyttvecpDm1woloUYCljcyc8Y8bdmMwaj5nnlhJk8+PY2RqwwDYPON1+KB/zzNlOdm8LEPjCza1mTSf58DYOUVB3P2Ufuy94/+xKT/Pttt45Z6mhdeeAGAKU89xYS/Xc12O3wSgJv/9U9WW+09rLDiinP1f+utt7jqqiucv6IFaoWApZE5LPdGxBeA3hExEjgI+Gdzh6Vm+uYvzuO0I/eib5/ePDb5eUaP+TOXXncXv/rOrvTp04vXXpvN1352FgCHjt6OIYOW5neHfhaA2W++xUd3/yUA4/5vLz72gZEMHTSASVcezuF/uJxxF/2r2z6XVCXfOvhAZkyfTp8+ffj+D8cwcOBAAK684nK2XUAW5daJt7DiisNZaeWVu3qoUilEZsfJkohYCvgBsDW1aT1XAYdn5quNXKD/hl8zGyN1g2m3HNfdQ5BaVr8+XTsNdo1vX9Fp/9ZOOmq7UqZZFpphycxXqAUsP4iI3sDSjQYrkiSp+cpcyuksjawSOjMiBkbE0sDdwH0R8Z3mD02SJKmmkUm362Tmi8DOwBXUVgj9b1NHJUmSGhbReVtZNTLpdomIWIJawHJcZr4REc5LkSSpJCwJ1ZwIPAYsDVwfEasALzZzUJIkSfUamXR7DHBMXdPjEbFF84YkSZIWRQskWNoPWCLimws59zedPBZJkrQYevXq+RFLRxmWZbpsFJIkSR1oN2DJzMO6ciCSJGnxtHRJqE1E9AP2BtYF+rW1Z+aXmzguSZLUIFcJ1ZwOrAhsA/wdWAmY2cxBSZIk1WskYFkjM38EvJyZ44AdgE2aOyxJktQobxxX80bxc3pErAc8DQxr3pAkSdKiaIWSUCMBy9iIGAz8ELgEGAD8qKmjkiRJqtPRfViOzMzvZ+bJEfGJzBwPvKcLxyZJkhrQChmWjuawbFu3/4tmD0SSJC2eVpjD0sikW0mSJAAi4rGIuDsi7oiIiUXbkIgYHxEPFz8HF+0REcdExKSIuCsiNqp7nz2L/g9HxJ4Lu25Hc1iGFbfnj7r9OTLTW/NLklQC3VAS2iIzn687/h4wITN/HhHfK46/C2wHjCy2TYATgE0iYggwBhgFJHBrRFySmdPau2BHGZaTqN2ef0Ddfv0mSZJKoAQloZ2AccX+OGDnuvY/Zc1NwKCIGE7t3m7jM3NqEaSMZ+6pKPPx1vySJGmOiBgNjK5rGpuZY+uOE7g6IhI4sXhthcycUrz+NLBCsT8CeKLu3CeLtvba29XRKqFjOjoxMw/q6HVJktQ1OrMkVAQgYzvo8tHMnBwRw4DxEfHAPOdnEcx0qo7msNza2ReTJEmdryunsGTm5OLnsxFxIbAx8ExEDM/MKUXJ59mi+2Rg5brTVyraJgObz9N+XUfX7agkNK691yRJUuuJiKWBXpk5s9jfGvgptRvL7gn8vPh5cXHKJcDXIuJsapNuZxRBzVXAkW2riYr3ObSjazfytOblqc30XYe5n9a8ZeMfUZIkNUsXrhJaAbiwuF4f4MzMvDIibgHOjYi9gceBzxT9Lwe2ByYBrwBfAsjMqRFxOHBL0e+nmTm1ows3cmv+M4BzqD30cH9qkdNzjX82SZLUTF0Vr2Tmf4D1F9D+ArDVAtoTOKCd9zoVOLXRazdy47jlMvMU4I3M/HtmfhkwuyJJkrrMojyteUpE7AA8BQxp3pAkSdKiaIVnCTUSsPwsIpYFvgUcCwwEvtHUUUmSpIa1QLyy8IAlMy8tdmcAWzR3OJIkSfNrZJXQadTuajeXYi6LJEnqZpaEai6t2+8HfJraPBZJklQCLRCvNFQSuqD+OCLOAv7RtBFJkiTNo5EMy7xGAsM6eyCSJGnxWBICImImc89heZranW8lSVIJtEC80lBJaJmuGIgkSVJ7Fnqn24iY0EibJEnqHhHRaVtZtZthiYh+wFLA0OJpim2fYiAwogvGJkmSGlDmQKOzdFQS2g84GHgXcCtvBywvAsc1eVySJElztBuwZObRwNERcWBmHtuFY5IkSYugBRIsDT2t+a2IGNR2EBGDI+KrTRyTJElaBK0wh6WRgGXfzJzedpCZ04B9mzckSZKkuTVy47jeERGZmQAR0Rvo29xhSZKkRpU4MdJpGglYrgTOiYgTi+P9gCuaNyRJkrQoylzK6SyNBCzfBUYD+xfHdwErNm1EkiRpkbRAvLLwOSyZ+RZwM/AYsDGwJXB/c4clSZL0to5uHLcm8Pliex44ByAzt+iaoUmSpEb0aoEUS0cloQeAG4AdM3MSQER8o0tGJUmSGtYC8UqHJaFdgCnAtRFxUkRsxdt3u5UkSeoy7QYsmXlRZn4OWBu4ltpt+odFxAkRsXVXDVCSJHXMG8cBmflyZp6ZmZ8EVgJup7ZySJIklUCv6LytrBq50+0cmTktM8dm5lbNGpAkSdK8GrkPiyRJKrEyl3I6iwGLJEkV1wLxyqKVhCRJkrqDGRZJkiouWuCuIwYskiRVXJlX93QWS0KSJKn0zLBIklRxrhKSJEml1wLxiiUhSZJUfmZYJEmquF4tkGIxYJEkqeJaIF6xJCRJksrPDIskSRXnKiFJklR6LRCvWBKSJEnlZ4ZFkqSKc5WQJEkqvZ4frlgSkiRJFWCGRZKkinOVkCRJKr1ePT9esSQkSZLKzwyLJEkVZ0lIkiSVXgvEK5aEJElS+ZlhkSSp4iwJSZKk0nOVkCRJUgmYYZEkqeIsCUmSpNLr+eGKJSFJklQBBiySJFVcr4hO2xoREb0j4vaIuLQ4Xi0ibo6ISRFxTkT0LdqXLI4nFa+vWvcehxbtD0bENgv9jIv1JyNJkkojovO2Bn0duL/u+BfAbzNzDWAasHfRvjcwrWj/bdGPiFgH+BywLrAt8PuI6N3RBQ1YJElSwyJiJWAH4OTiOIAtgfOLLuOAnYv9nYpjite3KvrvBJydma9l5qPAJGDjjq5rwCJJUsVFRGduoyNiYt02ep7L/Q44BHirOF4OmJ6Zs4vjJ4ERxf4I4AmA4vUZRf857Qs4Z4FcJSRJUsV15qrmzBwLjF3wdWJH4NnMvDUiNu+8qy6cAYskSWrUpsCnImJ7oB8wEDgaGBQRfYosykrA5KL/ZGBl4MmI6AMsC7xQ196m/pwFsiQkSVLFddUqocw8NDNXysxVqU2avSYzdweuBXYtuu0JXFzsX1IcU7x+TWZm0f65YhXRasBI4N8dXdsMiyRJFVeCG91+Fzg7In4G3A6cUrSfApweEZOAqdSCHDLz3og4F7gPmA0ckJlvdnQBAxZJkrTIMvM64Lpi/z8sYJVPZr4K7NbO+UcARzR6vaYHLJOu/U2zLyFpAT58xDXdPQSpZd0+ZssuvZ7PEpIkSaXXChNSW+EzSpKkijPDIklSxVkSkiRJpder58crBiySJFVdKwQszmGRJEmlZ4ZFkqSKcw6LJEkqPUtCkiRJJWCGRZKkimuBipABiyRJVbewpyz3BJaEJElS6ZlhkSSp4loh+2DAIklSxbVARaglgjJJklRxZlgkSaq4Vph0a8AiSVLFtUC8YklIkiSVnxkWSZIqrhVuzW/AIklSxbXCHBZLQpIkqfTMsEiSVHEtkGAxYJEkqepaYQ6LJSFJklR6ZlgkSaq4oOenWAxYJEmqOEtCkiRJJWCGRZKkimuFDIsBiyRJFRctsK7ZkpAkSSo9MyySJFWcJSFJklR6LVARsiQkSZLKzwyLJEkV1wpPazZgkSSp4lphDoslIUmSVHpmWCRJqrgWqAgZsEiSVHW9WuDhh5aEJElS6ZlhkSSp4iwJSZKk0nOVkCRJUgmYYZEkqeK8cZwkSSq9FohXLAlJkqTyM8MiSVLFWRKSJEml1wLxiiUhSZJUfmZYJEmquFbIPhiwSJJUcdECNaFWCMokSVLFmWGRJKnien5+xYBFkqTKa4VlzZaEJElS6ZlhkSSp4np+fsUMiyRJlRfReVvH14l+EfHviLgzIu6NiMOK9tUi4uaImBQR50RE36J9yeJ4UvH6qnXvdWjR/mBEbLOwz2jAIkmSGvUasGVmrg9sAGwbER8CfgH8NjPXAKYBexf99wamFe2/LfoREesAnwPWBbYFfh8RvTu6sAGLJEkVFxGdtnUka14qDpcotgS2BM4v2scBOxf7OxXHFK9vFbWL7AScnZmvZeajwCRg446ubcAiSVLF9erELSJGR8TEum10/bUiondE3AE8C4wHHgGmZ+bsosuTwIhifwTwBEDx+gxgufr2BZyzQE66lSSp4jrzTreZORYY28HrbwIbRMQg4EJg7U67eAfMsEiSpEWWmdOBa4EPA4Mioi0JshIwudifDKwMULy+LPBCffsCzlkgAxZJkiouOnHr8DoRyxeZFSKiP/AJ4H5qgcuuRbc9gYuL/UuKY4rXr8nMLNo/V6wiWg0YCfy7o2tbEpIkqeK68OGHw4FxxYqeXsC5mXlpRNwHnB0RPwNuB04p+p8CnB4Rk4Cp1FYGkZn3RsS5wH3AbOCAotTULgMWSZLUkMy8C9hwAe3/YQGrfDLzVWC3dt7rCOCIRq9twCJJUsW1wvwOAxZJkiquC0tC3aYVgjJJklRxZlgkSaq4np9fMWCRJKnyWqAiZElIkiSVnxkWSZIqrlcLFIUMWCRJqjhLQpIkSSVghkWSpIoLS0KSJKnsLAlJkiSVgBkWSZIqzlVCkiSp9CwJSZIklYAZFkmSKq4VMiwGLJIkVVwrLGu2JCRJkkrPDIskSRXXq+cnWAxYJEmqOktCkiRJJWCGRZKkinOVkCRJKj1LQpIkSSVghkWSpIpzlZAkSSo9S0KSJEklYIalxfzy8B9x043XM2jwEE4960IA/njS77ns4gsYNGgwAHt/5SA+tOlmTLz5n5x0/O+YPfsN+vRZgv0O+hYbjdoEgAlXXc6Z404iIlhu6DC+f9j/sWxxvqQFu+zrH+bl197krUzefCvZ/aSJDOzXh1/suh7vGtSPp6a/yiHn38PMV2ez+VpD+coW7yGLvr+68mHueGIGa64wgB/ssBZLL9mbNxNOueExrr732e7+aOpmrbBKKDKzqReYPP315l5Ai+TO2yfSv/9S/PywH8wVsPTvvxSf/eJec/V9+MH7GTxkOYYuP4xHH3mYQ76+P+ddOoE3Z89mtx234rSzL2LZQYM58djfsGS/fuy171e74ROpPTse/Y/uHoLmcdnXP8zuYycyfdYbc9q+/vHVeXHWbE678XG+tOkqLNO/D8f87RH6L9GbWW+8CcDIYUvzi93WY5fjb+bdQ/oD8N+ps1h+QF/OGP1Bdjn+Zl56bXa3fCYt2O1jtuzSEOLGh6d12r+1m44cXMrwp+GSUEQs1cyBqGusv+EoBg5ctqG+I9d6L0OXHwbAqu9Zg9dfe5XXX3+dJMlMZs2aRWbyyssvMXTo8s0cttRjbb7WUP565xQA/nrnFLZYayjAnGAFoH/f3rT9bvnfqbP479RZADz30utMe/l1hiy9RNcOWuoGCy0JRcRHgJOBAcC7I2J9YL/M9NfpHuSi889i/BWXsOba6/KVr3+bZeYJaq6/Zjwj13ovffv2BeDgQ37IPl/YhX79+zNi5Xdz0Hd+0B3DliolE37/vxuQmVxw61P85banWG5AX55/6XUAnn/pdZYb0HdO/y3WHsqBW63OkKX7ctCZd873fuu+axn69O7FE0UAo9bVqwVqQo1kWH4LbAO8AJCZdwKbdXRCRIyOiIkRMfHPfzz5nY9STfWpXT7Dny+4nLGnn89yQ5fnhKOPmuv1R/8zibHH/5ZvfG8MALNnv8ElfzmXE08/j/Muu4b3rLEmZ47zf2dpYb502q18YewtfO2MO/nsB0ew0bsHzdenvkp/7QPPs8vxN/PNs+/mq1u8Z65+Qwf05WefXoefXHw/1t0VnbiVVUMlocx8Yp6mNxfY8e3+YzNzVGaO+uJe+yz24NQ1hiw3lN69e9OrVy922Ol/eOC+e+a89twzTzPmkIM5dMyRjFhpZQAmPfQgACNWWpmIYPOPb8O9d93RLWOXquS5mbVMyrRX3uCaB55n3RHL8MJLrzO0yKoMHdCXqS+/Pt95t/13OiMG92dQ/1rpZ+m+vTnmC+tz/DX/4e7JL3bdB5C6USMByxNFWSgjYomI+DZwf5PHpS70wvPPzdm/4e8TWO09awDw0swXOfSbB7DPAQez3vobzukzdPlhPP7oI0yfNhWAW2/+F6usNvdvf5Lm1m+JXizVt/ec/Q+vPoRHnn2Zvz/0PJ9cfzgAn1x/ONc9+DwAKw/uP+fctVccQN/evZg+6w369Ap+/dn3cemdU/jb/c/NfyG1phZIsTSyrHl/4GhgBDAZuBo4oJmDUvMc/sNDuPO2W5gxfTqf2XEr9hp9AHfceguPPPwAEcEKw0fwze/9GIALzzuLp558gtNP+QOnn/IHAH55zIkMXX4Ye+zzFQ7efy/69OnDsBXfxXd//LPu/FhS6S23dF9+89n3AdC7V3DFPc/wz0emcu9TL/KLXddj5w2HM2XGqxxyXi3DudU6y7Pj+1dk9lvJa2+8xXfPr7Vvve4wNlplEIOWWoJPbVALdH580f089MxL3fPBVAqtcOM4lzVLPZTLmqXu09XLmm9+ZEan/Vu7yerLljL6aWSV0Gkw/5yuzPxyU0YkSZIWSQssEmqoJHRp3X4/4NPAU80ZjiRJWlQtEK8sPGDJzAvqjyPiLMBcsyRJ6jKL8yyhkcCwzh6IJElaTC2QYmlkDstM5p7D8jTw3aaNSJIkLZJWWCXUYcASEQGsm5n/7aLxSJIkzafDG8dlbc3zZV00FkmStBgiOm8rq0budHtbRHyw6SORJEmLpQVudNt+wBIRXyt2NwH+FRGPRMRdEXF3RNzVNcOTJEnqeA7Ll4HjqD2pWZIklVWZUyOdpJH7sDzeFQORJEmLp9VXCb0/Ihb03PKgNh93YJPGJEmSNJeOApa7M3PDLhuJJElaLGVe3dNZFudOt5IkqURaIF7pMGA5r8tGIUmSFl8LRCwdBSzDI+KY9l7MzIOaMB5JkqT5dBSwTOyyUUiSpMXW0quEMnNcVw5EkiQtHifdAhGxPLWnM68D9Gtrz8wtmzguSZKkORp5ltAZwP3AasBhwGPALU0ckyRJWgQt/SyhOstl5inAG5n598z8MmB2RZKksuiiiCUiVo6IayPivoi4NyK+XrQPiYjxEfFw8XNw0R4RcUxETCqeR7hR3XvtWfR/OCL2XNhHbCRgeaP4OSUidoiIDYEhDZwnSZJ6ltnAtzJzHeBDwAERsQ7wPWBCZo4EJhTHANsBI4ttNHAC1AIcYAy1ByxvDIxpC3La08iN434WEcsC3wKOBQYC31ikjydJkpqmq1YJZeYUYEqxPzMi7gdGADsBmxfdxgHXUZv/uhPwp8xM4KaIGBQRw4u+4zNzKkBEjAe2Bc5q79qNPPzw0mJ3BrDFIn42SZLUZJ25SigiRlPLhrQZm5ljF9BvVWBD4GZghSKYAXgaWKHYHwE8UXfak0Vbe+3tamSV0GlAzttezGWRJEk9SBGczBeg1IuIAcAFwMGZ+WLURUyZmRExX9zwTjVSErq0br8f8Gngqc4eiCRJWjxdubonIpagFqyckZl/KZqfiYjhmTmlKPk8W7RPBlauO32lom0yb5eQ2tqv6+i6C510m5kX1G1nAJ8BRi38I0mSpC7RdauEAjgFuD8zf1P30iVA20qfPYGL69r3KFYLfQiYUZSOrgK2jojBxWTbrYu2di3O05pHAsMW4zxJklRtmwL/C9wdEXcUbd8Hfg6cGxF7A49TS24AXA5sD0wCXgG+BJCZUyPicN6+r9tP2ybgtqeROSwzmXsOy9PUZv5KkqQS6MJVQv+g/TzMVgvon8AB7bzXqcCpjV67kVVCyzT6ZpIkqeu1wrOEFjqHJSImNNImSZLULO1mWCKiH7AUMLSYENMWvw1kIWulJUlS12mBBEuHJaH9gIOBdwG38vafx4vAcU0elyRJalQLRCztBiyZeTRwdEQcmJnHduGYJEmS5tLIww/fiohBbQfFmumvNnFMkiRpEUQn/ldWjQQs+2bm9LaDzJwG7Nu8IUmSpEUR0XlbWTUSsPSOuocERERvoG/zhiRJkjS3Ru50eyVwTkScWBzvB1zRvCFJkqRFUeLESKdpJGD5LrXHTO9fHN8FrNi0EUmSpEXTAhFLIw8/fAu4GbPkhzEAAAfTSURBVHgM2BjYEri/ucOSJEl6W0c3jlsT+HyxPQ+cA5CZW3TN0CRJUiPKvLqns3RUEnoAuAHYMTMnAUTEN7pkVJIkqWFlXt3TWToqCe0CTAGujYiTImIrWqJKJkmSyqbdgCUzL8rMzwFrA9dSu03/sIg4ISK27qoBSpKkjkUnbmXVyKTblzPzzMz8JLAScDu1lUOSJKkMWiBiaeTGcXNk5rTMHJuZWzVrQJIkSfNq5D4skiSpxFp9lZAkSaqAVl8lJEmSVApmWCRJqrgWSLAYsEiSVHWWhCRJkkrADIskSZXX81MsBiySJFWcJSFJkqQSMMMiSVLFtUCCxYBFkqSqsyQkSZJUAmZYJEmqOJ8lJEmSyq/nxyuWhCRJUvmZYZEkqeJaIMFiwCJJUtW5SkiSJKkEzLBIklRxrhKSJEnl1/PjFUtCkiSp/MywSJJUcS2QYDFgkSSp6lphlZABiyRJFdcKk26dwyJJkkrPDIskSRXXCiUhMyySJKn0DFgkSVLpWRKSJKniWqEkZMAiSVLFuUpIkiSpBMywSJJUcZaEJElS6bVAvGJJSJIklZ8ZFkmSqq4FUiwGLJIkVZyrhCRJkkrADIskSRXnKiFJklR6LRCvWBKSJEmNi4hTI+LZiLinrm1IRIyPiIeLn4OL9oiIYyJiUkTcFREb1Z2zZ9H/4YjYc2HXNWCRJKnqohO3hfsjsO08bd8DJmTmSGBCcQywHTCy2EYDJ0AtwAHGAJsAGwNj2oKc9hiwSJJUcdGJ/y1MZl4PTJ2neSdgXLE/Dti5rv1PWXMTMCgihgPbAOMzc2pmTgPGM38QNBcDFkmSNEdEjI6IiXXb6AZOWyEzpxT7TwMrFPsjgCfq+j1ZtLXX3i4n3UqSVHGduUooM8cCY9/B+RkR2Xkjqml6wDJiUN9WmLzcY0XE6OL/vKqY28ds2d1D0Dvgd0+Lol+fbl8o9ExEDM/MKUXJ59mifTKwcl2/lYq2ycDm87Rf19EFLAlpYRpJBUrqfH73VCWXAG0rffYELq5r36NYLfQhYEZROroK2DoiBheTbbcu2tplSUiSJDUsIs6ilh0ZGhFPUlvt83Pg3IjYG3gc+EzR/XJge2AS8ArwJYDMnBoRhwO3FP1+mpnzTuSd+7qZnV5mUg8SERMzc1R3j0NqNX73pLlZEtLCWEOXuoffPamOGRZJklR6ZlgkSVLpGbBIkqTSM2ApoYh4MyLuiIh7IuK8iFjqHbzXHyNi12L/5IhYp4O+m0fERxbjGo9FxNB5xt62rdrBeS8t6rWkrlDR7+AKdd+7pyNict1x38Udv1QWBizlNCszN8jM9YDXgf3rX4yIxVqOnpn7ZOZ9HXTZHFjkvyzn0Tb2tu2xd/h+Uneo4nfwzbbvHfAH4Ld138PXYfHHLZWBAUv53QCsUfzmdUNEXALcFxG9I+JXEXFL8cju/WDOo7yPi4gHI+JvwLC2N4qI6yJiVLG/bUTcFhF3RsSEIhOyP/CN4jeyj0XE8hFxQXGNWyJi0+Lc5SLi6oi4NyJOpoPne0bEgOL9b4uIuyNipwX0GR4R19f9Rvuxon3riPhXce55ETGgs/5QpUVQ9e/gHyPiDxFxM/DLiPhJRHy77vV72jKhEfHFiPh3cf0TI6J3p/5JSu+A0XaJFb8NbQdcWTRtBKyXmY9G7WFUMzLzgxGxJHBjRFwNbAisBaxD7eFT9wGnzvO+ywMnAZsV7zWkuInPH4CXMvOoot+Z1H5L+0dEvJvaXQjfS+0mQf/IzJ9GxA7A3nVv3z8i7ij2HwV2Az6dmS9GrWx0U0RcknMvT/sCcFVmHlH8BblU0feHwMcz8+WI+C7wTeCn7+gPVVoEFf0OLshKwEcy882I+Ek7n/W9wGeBTTPzjYj4PbA78KdG/7ykZjJgKaf6f/RvAE6hlib+d2Y+WrRvDbw/ito4sCwwEtgMOCsz3wSeiohrFvD+HwKub3uvDu4u+HFgnXj7qVoDiyzHZsAuxbmXRcS0unNmFSlpACJiCeDIiNgMeIva0zhXoPY0zza3AKcWfS/KzDsi4v9R+wv/xuL6fYF/tTNOqbNV+Tu4IOcV4+nIVsAHgFuK6/Xn7efBSN3OgKWc5vpHH6D4C+Tl+ibgwMy8ap5+23fiOHoBH8rMVxcwlkbtDiwPfKD4re0xoF99h8y8vghodgD+GBG/AaYB4zPz8+9g/NLi6knfQZh73LOZezpA2/cxgHGZeeiivrnUFZzDUl1XAV8pshJExJoRsTRwPfDZor4+HNhiAefeBGwWEasV5w4p2mcCy9T1uxo4sO0gItr+Ar+eWhmHiNgOGNzBOJcFni2ClS2AVebtEBGrAM9k5knAydTS7jcBm0bEGkWfpSNizQ6uI3W1qnwH5/UYte8YEbERsFrRPgHYNSKGtY2p+G5KpWDAUl0nU6uN3xYR9wAnUsuYXQg8XLz2JxZQRsnM56g9CfYvEXEncE7x0l+BT7dN+AMOAkYVEwrv4+2VEodR+8v2Xmpp6f92MM4zive4G9gDeGABfTYH7oyI26nV0I8uxrgXcFZE3FV8jrUX+qcidZ2qfAfndQEwpDj3a8BDxZjuozZv7OriOzceGL4I7ys1lbfmlyRJpWeGRZIklZ4BiyRJKj0DFkmSVHoGLJIkqfQMWCRJUukZsEiSpNIzYJEkSaX3/wFLizbtl2zs1QAAAABJRU5ErkJggg==\n",
                "text/plain": "<Figure size 720x504 with 2 Axes>"
              }
            ],
            "_view_module": "@jupyter-widgets/output",
            "_model_module_version": "1.0.0",
            "_view_count": null,
            "_view_module_version": "1.0.0",
            "layout": "IPY_MODEL_2249c134533d4c10ac72e4a0d581ce33",
            "_model_module": "@jupyter-widgets/output"
          }
        },
        "b8c6c08e5d0848f8b107b4c81ce0a3ec": {
          "model_module": "@jupyter-widgets/controls",
          "model_name": "SliderStyleModel",
          "state": {
            "_view_name": "StyleView",
            "handle_color": null,
            "_model_name": "SliderStyleModel",
            "description_width": "",
            "_view_module": "@jupyter-widgets/base",
            "_model_module_version": "1.5.0",
            "_view_count": null,
            "_view_module_version": "1.2.0",
            "_model_module": "@jupyter-widgets/controls"
          }
        },
        "9cf39f59d103445281409aea507c1405": {
          "model_module": "@jupyter-widgets/base",
          "model_name": "LayoutModel",
          "state": {
            "_view_name": "LayoutView",
            "grid_template_rows": null,
            "right": null,
            "justify_content": null,
            "_view_module": "@jupyter-widgets/base",
            "overflow": null,
            "_model_module_version": "1.2.0",
            "_view_count": null,
            "flex_flow": null,
            "width": null,
            "min_width": null,
            "border": null,
            "align_items": null,
            "bottom": null,
            "_model_module": "@jupyter-widgets/base",
            "top": null,
            "grid_column": null,
            "overflow_y": null,
            "overflow_x": null,
            "grid_auto_flow": null,
            "grid_area": null,
            "grid_template_columns": null,
            "flex": null,
            "_model_name": "LayoutModel",
            "justify_items": null,
            "grid_row": null,
            "max_height": null,
            "align_content": null,
            "visibility": null,
            "align_self": null,
            "height": null,
            "min_height": null,
            "padding": null,
            "grid_auto_rows": null,
            "grid_gap": null,
            "max_width": null,
            "order": null,
            "_view_module_version": "1.2.0",
            "grid_template_areas": null,
            "object_position": null,
            "object_fit": null,
            "grid_auto_columns": null,
            "margin": null,
            "display": null,
            "left": null
          }
        },
        "2249c134533d4c10ac72e4a0d581ce33": {
          "model_module": "@jupyter-widgets/base",
          "model_name": "LayoutModel",
          "state": {
            "_view_name": "LayoutView",
            "grid_template_rows": null,
            "right": null,
            "justify_content": null,
            "_view_module": "@jupyter-widgets/base",
            "overflow": null,
            "_model_module_version": "1.2.0",
            "_view_count": null,
            "flex_flow": null,
            "width": null,
            "min_width": null,
            "border": null,
            "align_items": null,
            "bottom": null,
            "_model_module": "@jupyter-widgets/base",
            "top": null,
            "grid_column": null,
            "overflow_y": null,
            "overflow_x": null,
            "grid_auto_flow": null,
            "grid_area": null,
            "grid_template_columns": null,
            "flex": null,
            "_model_name": "LayoutModel",
            "justify_items": null,
            "grid_row": null,
            "max_height": null,
            "align_content": null,
            "visibility": null,
            "align_self": null,
            "height": null,
            "min_height": null,
            "padding": null,
            "grid_auto_rows": null,
            "grid_gap": null,
            "max_width": null,
            "order": null,
            "_view_module_version": "1.2.0",
            "grid_template_areas": null,
            "object_position": null,
            "object_fit": null,
            "grid_auto_columns": null,
            "margin": null,
            "display": null,
            "left": null
          }
        }
      }
    }
  },
  "cells": [
    {
      "cell_type": "markdown",
      "metadata": {
        "colab_type": "text",
        "id": "EZyiOteN16cD"
      },
      "source": [
        "Lambda School Data Science\n",
        "\n",
        "*Unit 2, Sprint 2, Module 4*\n",
        "\n",
        "---"
      ]
    },
    {
      "cell_type": "markdown",
      "metadata": {
        "colab_type": "text",
        "id": "KMI2k-oBsS08"
      },
      "source": [
        "# Classification Metrics\n",
        "\n",
        "- get and interpret the **confusion matrix** for classification models\n",
        "- use classification metrics: **precision, recall**\n",
        "- understand the relationships between precision, recall, **thresholds, and predicted probabilities**, to help **make decisions and allocate budgets**\n",
        "- Get **ROC AUC** (Receiver Operating Characteristic, Area Under the Curve)"
      ]
    },
    {
      "cell_type": "markdown",
      "metadata": {
        "colab_type": "text",
        "id": "rU7RuVcjWdcp"
      },
      "source": [
        "### Setup\n",
        "\n",
        "Run the code cell below. You can work locally (follow the [local setup instructions](https://lambdaschool.github.io/ds/unit2/local/)) or on Colab.\n",
        "\n",
        "Libraries\n",
        "\n",
        "- category_encoders\n",
        "- ipywidgets\n",
        "- matplotlib\n",
        "- numpy\n",
        "- pandas\n",
        "- scikit-learn\n",
        "- seaborn"
      ]
    },
    {
      "cell_type": "code",
      "metadata": {
        "colab_type": "code",
        "id": "OpFoag9QoTgA",
        "colab": {}
      },
      "source": [
        "%%capture\n",
        "import sys\n",
        "\n",
        "# If you're on Colab:\n",
        "if 'google.colab' in sys.modules:\n",
        "    DATA_PATH = 'https://raw.githubusercontent.com/LambdaSchool/DS-Unit-2-Kaggle-Challenge/master/data/'\n",
        "    !pip install category_encoders==2.*\n",
        "\n",
        "# If you're working locally:\n",
        "else:\n",
        "    DATA_PATH = '../data/'"
      ],
      "execution_count": 0,
      "outputs": []
    },
    {
      "cell_type": "markdown",
      "metadata": {
        "colab_type": "text",
        "id": "EfhziD2Wn_iO"
      },
      "source": [
        "# Get and interpret the confusion matrix for classification models"
      ]
    },
    {
      "cell_type": "markdown",
      "metadata": {
        "id": "kqBF3eO1ut4q",
        "colab_type": "text"
      },
      "source": [
        "## Overview"
      ]
    },
    {
      "cell_type": "markdown",
      "metadata": {
        "colab_type": "text",
        "id": "xZNCHldPn_iL"
      },
      "source": [
        "First, load the Tanzania Waterpumps data and fit a model. (This code isn't new, we've seen it all before.)"
      ]
    },
    {
      "cell_type": "code",
      "metadata": {
        "colab_type": "code",
        "id": "t8Cjxzrwn_iL",
        "outputId": "6d0c8921-cc8c-4743-d852-acb8edc38838",
        "colab": {
          "base_uri": "https://localhost:8080/",
          "height": 68
        }
      },
      "source": [
        "%matplotlib inline\n",
        "import category_encoders as ce\n",
        "import matplotlib.pyplot as plt\n",
        "import numpy as np\n",
        "import pandas as pd\n",
        "import seaborn as sns\n",
        "from sklearn.impute import SimpleImputer\n",
        "from sklearn.metrics import accuracy_score\n",
        "from sklearn.model_selection import train_test_split\n",
        "from sklearn.pipeline import make_pipeline\n",
        "from sklearn.ensemble import RandomForestClassifier\n",
        "\n",
        "def wrangle(X):\n",
        "    \"\"\"Wrangles train, validate, and test sets in the same way\"\"\"\n",
        "    X = X.copy()\n",
        "\n",
        "    # Convert date_recorded to datetime\n",
        "    X['date_recorded'] = pd.to_datetime(X['date_recorded'], infer_datetime_format=True)\n",
        "    \n",
        "    # Extract components from date_recorded, then drop the original column\n",
        "    X['year_recorded'] = X['date_recorded'].dt.year\n",
        "    X['month_recorded'] = X['date_recorded'].dt.month\n",
        "    X['day_recorded'] = X['date_recorded'].dt.day\n",
        "    X = X.drop(columns='date_recorded')\n",
        "    \n",
        "    # Engineer feature: how many years from construction_year to date_recorded\n",
        "    X['years'] = X['year_recorded'] - X['construction_year']    \n",
        "    \n",
        "    # Drop recorded_by (never varies) and id (always varies, random)\n",
        "    unusable_variance = ['recorded_by', 'id']\n",
        "    X = X.drop(columns=unusable_variance)\n",
        "    \n",
        "    # Drop duplicate columns\n",
        "    duplicate_columns = ['quantity_group']\n",
        "    X = X.drop(columns=duplicate_columns)\n",
        "    \n",
        "    # About 3% of the time, latitude has small values near zero,\n",
        "    # outside Tanzania, so we'll treat these like null values\n",
        "    X['latitude'] = X['latitude'].replace(-2e-08, np.nan)\n",
        "    \n",
        "    # When columns have zeros and shouldn't, they are like null values\n",
        "    cols_with_zeros = ['construction_year', 'longitude', 'latitude', 'gps_height', 'population']\n",
        "    for col in cols_with_zeros:\n",
        "        X[col] = X[col].replace(0, np.nan)\n",
        "        \n",
        "    return X\n",
        "\n",
        "\n",
        "# Merge train_features.csv & train_labels.csv\n",
        "train = pd.merge(pd.read_csv(DATA_PATH+'waterpumps/train_features.csv'), \n",
        "                 pd.read_csv(DATA_PATH+'waterpumps/train_labels.csv'))\n",
        "\n",
        "# Read test_features.csv & sample_submission.csv\n",
        "test = pd.read_csv(DATA_PATH+'waterpumps/test_features.csv')\n",
        "sample_submission = pd.read_csv(DATA_PATH+'waterpumps/sample_submission.csv')\n",
        "\n",
        "# Split train into train & val. Make val the same size as test.\n",
        "target = 'status_group'\n",
        "train, val = train_test_split(train, test_size=len(test),  \n",
        "                              stratify=train[target], random_state=42)\n",
        "\n",
        "# Wrangle train, validate, and test sets in the same way\n",
        "train = wrangle(train)\n",
        "val = wrangle(val)\n",
        "test = wrangle(test)\n",
        "\n",
        "# Arrange data into X features matrix and y target vector\n",
        "X_train = train.drop(columns=target)\n",
        "y_train = train[target]\n",
        "X_val = val.drop(columns=target)\n",
        "y_val = val[target]\n",
        "X_test = test\n",
        "\n",
        "# Make pipeline!\n",
        "pipeline = make_pipeline(\n",
        "    ce.OrdinalEncoder(), \n",
        "    SimpleImputer(strategy='mean'), \n",
        "    RandomForestClassifier(n_estimators=100, random_state=42, n_jobs=-1)\n",
        ")\n",
        "\n",
        "# Fit on train, score on val\n",
        "pipeline.fit(X_train, y_train)\n",
        "y_pred = pipeline.predict(X_val)\n",
        "print('Validation Accuracy', accuracy_score(y_val, y_pred))"
      ],
      "execution_count": 2,
      "outputs": [
        {
          "output_type": "stream",
          "text": [
            "/usr/local/lib/python3.6/dist-packages/statsmodels/tools/_testing.py:19: FutureWarning: pandas.util.testing is deprecated. Use the functions in the public API at pandas.testing instead.\n",
            "  import pandas.util.testing as tm\n"
          ],
          "name": "stderr"
        },
        {
          "output_type": "stream",
          "text": [
            "Validation Accuracy 0.8140409527789386\n"
          ],
          "name": "stdout"
        }
      ]
    },
    {
      "cell_type": "markdown",
      "metadata": {
        "id": "vUe5yj1Wut4z",
        "colab_type": "text"
      },
      "source": [
        "## Follow Along\n",
        "\n",
        "Scikit-learn added a [**`plot_confusion_matrix`**](https://scikit-learn.org/stable/modules/generated/sklearn.metrics.plot_confusion_matrix.html) function in version 0.22!"
      ]
    },
    {
      "cell_type": "code",
      "metadata": {
        "colab_type": "code",
        "id": "2MSWehj9n_iO",
        "outputId": "52225fc3-7fbd-4770-a0af-1e9dc04fd868",
        "colab": {
          "base_uri": "https://localhost:8080/",
          "height": 389
        }
      },
      "source": [
        "from sklearn.metrics import plot_confusion_matrix\n",
        "\n",
        "plot_confusion_matrix(pipeline, X_val, y_val, xticks_rotation='vertical', values_format='.0f', cmap='Blues');"
      ],
      "execution_count": 6,
      "outputs": [
        {
          "output_type": "display_data",
          "data": {
            "image/png": "[encoded data removed]",
            "text/plain": [
              "<Figure size 432x288 with 2 Axes>"
            ]
          },
          "metadata": {
            "tags": [],
            "needs_background": "light"
          }
        }
      ]
    },
    {
      "cell_type": "code",
      "metadata": {
        "id": "PAnmX31dyfHP",
        "colab_type": "code",
        "colab": {
          "base_uri": "https://localhost:8080/",
          "height": 385
        },
        "outputId": "250a99c2-9217-4a69-9106-1aed63d6d0ec"
      },
      "source": [
        "plot_confusion_matrix(pipeline, X_val, y_val, xticks_rotation='vertical', values_format='.2f', cmap='Blues', normalize='true');\n"
      ],
      "execution_count": 8,
      "outputs": [
        {
          "output_type": "display_data",
          "data": {
            "image/png": "[encoded data removed]",
            "text/plain": [
              "<Figure size 432x288 with 2 Axes>"
            ]
          },
          "metadata": {
            "tags": [],
            "needs_background": "light"
          }
        }
      ]
    },
    {
      "cell_type": "code",
      "metadata": {
        "id": "SAmYd-24zHKD",
        "colab_type": "code",
        "colab": {
          "base_uri": "https://localhost:8080/",
          "height": 68
        },
        "outputId": "80ea140d-e03e-426b-91c7-a453b1f5da3c"
      },
      "source": [
        "from sklearn.metrics import confusion_matrix\n",
        "\n",
        "cm = confusion_matrix(y_val, y_pred)\n",
        "cm"
      ],
      "execution_count": 10,
      "outputs": [
        {
          "output_type": "execute_result",
          "data": {
            "text/plain": [
              "array([[7005,  171,  622],\n",
              "       [ 555,  332,  156],\n",
              "       [1098,   68, 4351]])"
            ]
          },
          "metadata": {
            "tags": []
          },
          "execution_count": 10
        }
      ]
    },
    {
      "cell_type": "code",
      "metadata": {
        "id": "1px8DMwuzT9x",
        "colab_type": "code",
        "colab": {
          "base_uri": "https://localhost:8080/",
          "height": 68
        },
        "outputId": "c6ee6631-c4f8-4eb0-f339-9735e42bf459"
      },
      "source": [
        "normalize_cm = cm/cm.sum(axis=1)[:, np.newaxis]\n",
        "normalize_cm"
      ],
      "execution_count": 11,
      "outputs": [
        {
          "output_type": "execute_result",
          "data": {
            "text/plain": [
              "array([[0.89830726, 0.0219287 , 0.07976404],\n",
              "       [0.53211889, 0.31831256, 0.14956855],\n",
              "       [0.19902121, 0.01232554, 0.78865325]])"
            ]
          },
          "metadata": {
            "tags": []
          },
          "execution_count": 11
        }
      ]
    },
    {
      "cell_type": "code",
      "metadata": {
        "id": "bL5jF8HMzUG2",
        "colab_type": "code",
        "colab": {
          "base_uri": "https://localhost:8080/",
          "height": 34
        },
        "outputId": "4a72fc37-8083-4076-d776-f9ccca980183"
      },
      "source": [
        "cm.sum(axis=1)[:, np.newaxis].shape"
      ],
      "execution_count": 13,
      "outputs": [
        {
          "output_type": "execute_result",
          "data": {
            "text/plain": [
              "(3, 1)"
            ]
          },
          "metadata": {
            "tags": []
          },
          "execution_count": 13
        }
      ]
    },
    {
      "cell_type": "code",
      "metadata": {
        "id": "cx5mi7oNzUOa",
        "colab_type": "code",
        "colab": {
          "base_uri": "https://localhost:8080/",
          "height": 432
        },
        "outputId": "06930454-957e-4e71-ddca-b35cc07edfc9"
      },
      "source": [
        "import seaborn as sns\n",
        "from sklearn.utils.multiclass import unique_labels\n",
        "\n",
        "cols = unique_labels(y_val)\n",
        "\n",
        "df_cm = pd.DataFrame(cm, columns=cols, index=cols)\n",
        "plt.figure(figsize=(10,7))\n",
        "sns.heatmap(df_cm, annot=True, cmap='Blues', fmt='.0f');"
      ],
      "execution_count": 16,
      "outputs": [
        {
          "output_type": "display_data",
          "data": {
            "image/png": "[encoded data removed]",
            "text/plain": [
              "<Figure size 720x504 with 2 Axes>"
            ]
          },
          "metadata": {
            "tags": [],
            "needs_background": "light"
          }
        }
      ]
    },
    {
      "cell_type": "code",
      "metadata": {
        "id": "j8UWaWb80LGM",
        "colab_type": "code",
        "colab": {
          "base_uri": "https://localhost:8080/",
          "height": 428
        },
        "outputId": "7d0acf6f-2283-4848-d6d7-565cd745f54a"
      },
      "source": [
        "cols = unique_labels(y_val)\n",
        "\n",
        "df_cm = pd.DataFrame(normalize_cm, columns=cols, index=cols)\n",
        "plt.figure(figsize=(10,7))\n",
        "sns.heatmap(df_cm, annot=True, cmap='Blues', fmt='.2f');"
      ],
      "execution_count": 17,
      "outputs": [
        {
          "output_type": "display_data",
          "data": {
            "image/png": "[encoded data removed]",
            "text/plain": [
              "<Figure size 720x504 with 2 Axes>"
            ]
          },
          "metadata": {
            "tags": [],
            "needs_background": "light"
          }
        }
      ]
    },
    {
      "cell_type": "code",
      "metadata": {
        "id": "0hi-xwC_0LPU",
        "colab_type": "code",
        "colab": {
          "base_uri": "https://localhost:8080/",
          "height": 428
        },
        "outputId": "2d440c23-664e-438a-e7bc-82d9ffde4e69"
      },
      "source": [
        "def plot_cm(y_val, y_pred, normalize=False):\n",
        "  cols = unique_labels(y_val)\n",
        "  cm = confusion_matrix(y_val, y_pred)\n",
        "  if normalize:\n",
        "    cm = cm/cm.sum(axis=1)[:, np.newaxis]\n",
        "    fmt = '.2f'\n",
        "  else:\n",
        "    fmt = '.0f'\n",
        "\n",
        "  df_cm = pd.DataFrame(cm, columns=['Predicted' + str(col) for col in cols], index=['Actual' + str(col) for col in cols])\n",
        "  plt.figure(figsize=(10,7))\n",
        "  sns.heatmap(df_cm, annot=True, cmap='Blues', fmt=fmt);\n",
        "\n",
        "plot_cm(y_val, y_pred)"
      ],
      "execution_count": 58,
      "outputs": [
        {
          "output_type": "display_data",
          "data": {
            "image/png": "[encoded data removed]",
            "text/plain": [
              "<Figure size 720x504 with 2 Axes>"
            ]
          },
          "metadata": {
            "tags": [],
            "needs_background": "light"
          }
        }
      ]
    },
    {
      "cell_type": "code",
      "metadata": {
        "id": "dQpoxUoE0LYd",
        "colab_type": "code",
        "colab": {
          "base_uri": "https://localhost:8080/",
          "height": 428
        },
        "outputId": "a80b7089-61a0-40e7-a99f-e3eb8255064b"
      },
      "source": [
        "plot_cm(y_val, y_pred, normalize=True)"
      ],
      "execution_count": 23,
      "outputs": [
        {
          "output_type": "display_data",
          "data": {
            "image/png": "[encoded data removed]",
            "text/plain": [
              "<Figure size 720x504 with 2 Axes>"
            ]
          },
          "metadata": {
            "tags": [],
            "needs_background": "light"
          }
        }
      ]
    },
    {
      "cell_type": "code",
      "metadata": {
        "id": "fcCDHpy80Lt6",
        "colab_type": "code",
        "colab": {}
      },
      "source": [
        ""
      ],
      "execution_count": 0,
      "outputs": []
    },
    {
      "cell_type": "markdown",
      "metadata": {
        "colab_type": "text",
        "id": "fP6FGBGUn_iQ"
      },
      "source": [
        "#### How many correct predictions were made?"
      ]
    },
    {
      "cell_type": "code",
      "metadata": {
        "colab_type": "code",
        "id": "wRSaYRPWn_iR",
        "outputId": "1bf3557b-6a43-44af-e281-a874e38a9cfe",
        "colab": {
          "base_uri": "https://localhost:8080/",
          "height": 34
        }
      },
      "source": [
        "7005 + 332 + 4351"
      ],
      "execution_count": 24,
      "outputs": [
        {
          "output_type": "execute_result",
          "data": {
            "text/plain": [
              "11688"
            ]
          },
          "metadata": {
            "tags": []
          },
          "execution_count": 24
        }
      ]
    },
    {
      "cell_type": "markdown",
      "metadata": {
        "colab_type": "text",
        "id": "-q-3R7Ean_iT"
      },
      "source": [
        "#### How many total predictions were made?"
      ]
    },
    {
      "cell_type": "code",
      "metadata": {
        "colab_type": "code",
        "id": "vLAQL05fn_iT",
        "outputId": "2b49b2be-de39-4eb9-e17c-32332199fd0d",
        "colab": {
          "base_uri": "https://localhost:8080/",
          "height": 34
        }
      },
      "source": [
        "len(y_val)"
      ],
      "execution_count": 25,
      "outputs": [
        {
          "output_type": "execute_result",
          "data": {
            "text/plain": [
              "14358"
            ]
          },
          "metadata": {
            "tags": []
          },
          "execution_count": 25
        }
      ]
    },
    {
      "cell_type": "code",
      "metadata": {
        "id": "XPnVTz0L4AyO",
        "colab_type": "code",
        "colab": {
          "base_uri": "https://localhost:8080/",
          "height": 34
        },
        "outputId": "119b35ce-78f7-4668-8b15-6e61de70124e"
      },
      "source": [
        "cm.sum()"
      ],
      "execution_count": 26,
      "outputs": [
        {
          "output_type": "execute_result",
          "data": {
            "text/plain": [
              "14358"
            ]
          },
          "metadata": {
            "tags": []
          },
          "execution_count": 26
        }
      ]
    },
    {
      "cell_type": "markdown",
      "metadata": {
        "colab_type": "text",
        "id": "K1yQ_jYPn_iV"
      },
      "source": [
        "#### What was the classification accuracy?"
      ]
    },
    {
      "cell_type": "code",
      "metadata": {
        "colab_type": "code",
        "id": "fskAC6SYn_iW",
        "outputId": "64bbfc67-aa01-445b-e313-1062af7a0c83",
        "colab": {
          "base_uri": "https://localhost:8080/",
          "height": 34
        }
      },
      "source": [
        "11688/14358"
      ],
      "execution_count": 27,
      "outputs": [
        {
          "output_type": "execute_result",
          "data": {
            "text/plain": [
              "0.8140409527789386"
            ]
          },
          "metadata": {
            "tags": []
          },
          "execution_count": 27
        }
      ]
    },
    {
      "cell_type": "markdown",
      "metadata": {
        "colab_type": "text",
        "id": "EqFgEm3tn_iY"
      },
      "source": [
        "# Use classification metrics: precision, recall"
      ]
    },
    {
      "cell_type": "markdown",
      "metadata": {
        "id": "eOs_ETaout5P",
        "colab_type": "text"
      },
      "source": [
        "## Overview\n",
        "\n",
        "[Scikit-Learn User Guide — Classification Report](https://scikit-learn.org/stable/modules/model_evaluation.html#classification-report)"
      ]
    },
    {
      "cell_type": "code",
      "metadata": {
        "colab_type": "code",
        "id": "mGv7OLL4n_iY",
        "outputId": "bccc0f9d-6be9-42a5-a2f2-cd9213a9a1e4",
        "colab": {
          "base_uri": "https://localhost:8080/",
          "height": 187
        }
      },
      "source": [
        "from sklearn.metrics import classification_report\n",
        "\n",
        "print(classification_report(y_val, y_pred))"
      ],
      "execution_count": 30,
      "outputs": [
        {
          "output_type": "stream",
          "text": [
            "                         precision    recall  f1-score   support\n",
            "\n",
            "             functional       0.81      0.90      0.85      7798\n",
            "functional needs repair       0.58      0.32      0.41      1043\n",
            "         non functional       0.85      0.79      0.82      5517\n",
            "\n",
            "               accuracy                           0.81     14358\n",
            "              macro avg       0.75      0.67      0.69     14358\n",
            "           weighted avg       0.81      0.81      0.81     14358\n",
            "\n"
          ],
          "name": "stdout"
        }
      ]
    },
    {
      "cell_type": "code",
      "metadata": {
        "id": "AZFMG7Ly6ASY",
        "colab_type": "code",
        "colab": {}
      },
      "source": [
        "y_pred_baseline = ['functional'] * len(y_pred)"
      ],
      "execution_count": 0,
      "outputs": []
    },
    {
      "cell_type": "code",
      "metadata": {
        "id": "tXAZqNY_6N2l",
        "colab_type": "code",
        "colab": {
          "base_uri": "https://localhost:8080/",
          "height": 241
        },
        "outputId": "08241558-b437-4f92-bcfc-79f43d5f149d"
      },
      "source": [
        "print(classification_report(y_val, y_pred_baseline))"
      ],
      "execution_count": 34,
      "outputs": [
        {
          "output_type": "stream",
          "text": [
            "                         precision    recall  f1-score   support\n",
            "\n",
            "             functional       0.54      1.00      0.70      7798\n",
            "functional needs repair       0.00      0.00      0.00      1043\n",
            "         non functional       0.00      0.00      0.00      5517\n",
            "\n",
            "               accuracy                           0.54     14358\n",
            "              macro avg       0.18      0.33      0.23     14358\n",
            "           weighted avg       0.29      0.54      0.38     14358\n",
            "\n"
          ],
          "name": "stdout"
        },
        {
          "output_type": "stream",
          "text": [
            "/usr/local/lib/python3.6/dist-packages/sklearn/metrics/_classification.py:1272: UndefinedMetricWarning: Precision and F-score are ill-defined and being set to 0.0 in labels with no predicted samples. Use `zero_division` parameter to control this behavior.\n",
            "  _warn_prf(average, modifier, msg_start, len(result))\n"
          ],
          "name": "stderr"
        }
      ]
    },
    {
      "cell_type": "markdown",
      "metadata": {
        "colab_type": "text",
        "id": "Z1U7HdC6n_ia"
      },
      "source": [
        "#### Wikipedia, [Precision and recall](https://en.wikipedia.org/wiki/Precision_and_recall)\n",
        "\n",
        "> Both precision and recall are based on an understanding and measure of relevance.\n",
        "\n",
        "> Suppose a computer program for recognizing dogs in photographs identifies 8 dogs in a picture containing 12 dogs and some cats. Of the 8 identified as dogs, 5 actually are dogs (true positives), while the rest are cats (false positives). The program's precision is 5/8 while its recall is 5/12.\n",
        "\n",
        "> High precision means that an algorithm returned substantially more relevant results than irrelevant ones, while high recall means that an algorithm returned most of the relevant results.\n",
        "\n",
        "<img src=\"https://upload.wikimedia.org/wikipedia/commons/thumb/2/26/Precisionrecall.svg/700px-Precisionrecall.svg.png\" width=\"400\">"
      ]
    },
    {
      "cell_type": "markdown",
      "metadata": {
        "id": "rAEE9HX7ut5U",
        "colab_type": "text"
      },
      "source": [
        "## Follow Along"
      ]
    },
    {
      "cell_type": "markdown",
      "metadata": {
        "colab_type": "text",
        "id": "50R-Xhwdn_ie"
      },
      "source": [
        "#### [We can get precision & recall from the confusion matrix](https://en.wikipedia.org/wiki/Precision_and_recall#Definition_(classification_context))"
      ]
    },
    {
      "cell_type": "code",
      "metadata": {
        "colab_type": "code",
        "id": "eIta6Vwsn_if",
        "outputId": "197a9cb6-24b8-4bc3-f915-e3fca07fda40",
        "colab": {
          "base_uri": "https://localhost:8080/",
          "height": 432
        }
      },
      "source": [
        "plot_cm(y_val, y_pred)"
      ],
      "execution_count": 35,
      "outputs": [
        {
          "output_type": "display_data",
          "data": {
            "image/png": "[encoded data removed]",
            "text/plain": [
              "<Figure size 720x504 with 2 Axes>"
            ]
          },
          "metadata": {
            "tags": [],
            "needs_background": "light"
          }
        }
      ]
    },
    {
      "cell_type": "code",
      "metadata": {
        "id": "23Rae_-y7wkh",
        "colab_type": "code",
        "colab": {
          "base_uri": "https://localhost:8080/",
          "height": 187
        },
        "outputId": "64fe0c8d-859b-4d1b-daa4-bfd2c6d8250f"
      },
      "source": [
        "print(classification_report(y_val, y_pred))"
      ],
      "execution_count": 40,
      "outputs": [
        {
          "output_type": "stream",
          "text": [
            "                         precision    recall  f1-score   support\n",
            "\n",
            "             functional       0.81      0.90      0.85      7798\n",
            "functional needs repair       0.58      0.32      0.41      1043\n",
            "         non functional       0.85      0.79      0.82      5517\n",
            "\n",
            "               accuracy                           0.81     14358\n",
            "              macro avg       0.75      0.67      0.69     14358\n",
            "           weighted avg       0.81      0.81      0.81     14358\n",
            "\n"
          ],
          "name": "stdout"
        }
      ]
    },
    {
      "cell_type": "markdown",
      "metadata": {
        "colab_type": "text",
        "id": "iY2rfzA4n_ih"
      },
      "source": [
        "#### How many correct predictions of \"non functional\"?"
      ]
    },
    {
      "cell_type": "code",
      "metadata": {
        "colab_type": "code",
        "id": "O-anLkCin_ii",
        "colab": {}
      },
      "source": [
        "correct_pred_non_func = 4351"
      ],
      "execution_count": 0,
      "outputs": []
    },
    {
      "cell_type": "markdown",
      "metadata": {
        "colab_type": "text",
        "id": "pYM6f99cn_ij"
      },
      "source": [
        "#### How many total predictions of \"non functional\"?"
      ]
    },
    {
      "cell_type": "code",
      "metadata": {
        "colab_type": "code",
        "id": "_qCiA8j2n_ik",
        "colab": {
          "base_uri": "https://localhost:8080/",
          "height": 34
        },
        "outputId": "60f1befa-7dfd-4213-c196-1116b15eb9fa"
      },
      "source": [
        "total_pred_non_func = 622 + 156 + 4351\n",
        "total_pred_non_func"
      ],
      "execution_count": 38,
      "outputs": [
        {
          "output_type": "execute_result",
          "data": {
            "text/plain": [
              "5129"
            ]
          },
          "metadata": {
            "tags": []
          },
          "execution_count": 38
        }
      ]
    },
    {
      "cell_type": "markdown",
      "metadata": {
        "colab_type": "text",
        "id": "mXNuZ_Rnn_il"
      },
      "source": [
        "#### What's the precision for \"non functional\"?"
      ]
    },
    {
      "cell_type": "code",
      "metadata": {
        "colab_type": "code",
        "id": "X1f7VsyXn_im",
        "outputId": "d9add244-7c51-4507-e9d0-a0a086e40d46",
        "colab": {
          "base_uri": "https://localhost:8080/",
          "height": 34
        }
      },
      "source": [
        "correct_pred_non_func/total_pred_non_func"
      ],
      "execution_count": 39,
      "outputs": [
        {
          "output_type": "execute_result",
          "data": {
            "text/plain": [
              "0.8483135114057321"
            ]
          },
          "metadata": {
            "tags": []
          },
          "execution_count": 39
        }
      ]
    },
    {
      "cell_type": "markdown",
      "metadata": {
        "colab_type": "text",
        "id": "ci4QguAkn_in"
      },
      "source": [
        "#### How many actual \"non functional\" waterpumps?"
      ]
    },
    {
      "cell_type": "code",
      "metadata": {
        "colab_type": "code",
        "id": "FlqxNhlYn_io",
        "colab": {
          "base_uri": "https://localhost:8080/",
          "height": 34
        },
        "outputId": "39e677ad-d72d-41bd-f782-e542511c952c"
      },
      "source": [
        "actual_non_func = 1098 + 68 + 4351\n",
        "actual_non_func"
      ],
      "execution_count": 41,
      "outputs": [
        {
          "output_type": "execute_result",
          "data": {
            "text/plain": [
              "5517"
            ]
          },
          "metadata": {
            "tags": []
          },
          "execution_count": 41
        }
      ]
    },
    {
      "cell_type": "markdown",
      "metadata": {
        "colab_type": "text",
        "id": "9IY-vC-hn_iq"
      },
      "source": [
        "#### What's the recall for \"non functional\"?"
      ]
    },
    {
      "cell_type": "code",
      "metadata": {
        "colab_type": "code",
        "id": "4U3v8lPP4KbP",
        "outputId": "86bd037d-9cfb-4a6c-9697-3be33dbed6d5",
        "colab": {
          "base_uri": "https://localhost:8080/",
          "height": 34
        }
      },
      "source": [
        "correct_pred_non_func/actual_non_func"
      ],
      "execution_count": 42,
      "outputs": [
        {
          "output_type": "execute_result",
          "data": {
            "text/plain": [
              "0.7886532535798442"
            ]
          },
          "metadata": {
            "tags": []
          },
          "execution_count": 42
        }
      ]
    },
    {
      "cell_type": "code",
      "metadata": {
        "id": "FeimDPti8Yq_",
        "colab_type": "code",
        "colab": {
          "base_uri": "https://localhost:8080/",
          "height": 34
        },
        "outputId": "8d6a395b-2a3f-4aa7-b998-e93d058fc5c5"
      },
      "source": [
        "#f1 score\n",
        "2* (.848*.788)/(.848 + .788)"
      ],
      "execution_count": 45,
      "outputs": [
        {
          "output_type": "execute_result",
          "data": {
            "text/plain": [
              "0.8168997555012225"
            ]
          },
          "metadata": {
            "tags": []
          },
          "execution_count": 45
        }
      ]
    },
    {
      "cell_type": "markdown",
      "metadata": {
        "colab_type": "text",
        "id": "ObVED_ugn_is"
      },
      "source": [
        "# Understand the relationships between precision, recall, thresholds, and predicted probabilities, to help make decisions and allocate budgets"
      ]
    },
    {
      "cell_type": "markdown",
      "metadata": {
        "id": "JsHxHC7Nut5z",
        "colab_type": "text"
      },
      "source": [
        "## Overview"
      ]
    },
    {
      "cell_type": "markdown",
      "metadata": {
        "colab_type": "text",
        "id": "kBcQQJ2kn_is"
      },
      "source": [
        "### Imagine this scenario...\n",
        "\n",
        "Suppose there are over 14,000 waterpumps that you _do_ have some information about, but you _don't_ know whether they are currently functional, or functional but need repair, or non-functional."
      ]
    },
    {
      "cell_type": "code",
      "metadata": {
        "colab_type": "code",
        "id": "jEEy86CHn_it",
        "outputId": "22f114e2-5288-4a0b-eea5-e4b61275448a",
        "colab": {
          "base_uri": "https://localhost:8080/",
          "height": 34
        }
      },
      "source": [
        "len(test)"
      ],
      "execution_count": 46,
      "outputs": [
        {
          "output_type": "execute_result",
          "data": {
            "text/plain": [
              "14358"
            ]
          },
          "metadata": {
            "tags": []
          },
          "execution_count": 46
        }
      ]
    },
    {
      "cell_type": "markdown",
      "metadata": {
        "colab_type": "text",
        "id": "3az2llAAn_iu"
      },
      "source": [
        "**You have the time and resources to go to just 2,000 waterpumps for proactive maintenance.** You want to predict, which 2,000 are most likely non-functional or in need of repair, to help you triage and prioritize your waterpump inspections.\n",
        "\n",
        "You have historical inspection data for over 59,000 other waterpumps, which you'll use to fit your predictive model."
      ]
    },
    {
      "cell_type": "code",
      "metadata": {
        "colab_type": "code",
        "id": "pEWc2zt2n_iv",
        "outputId": "44d63774-536a-40ef-fa89-1f0c483d2f64",
        "colab": {
          "base_uri": "https://localhost:8080/",
          "height": 34
        }
      },
      "source": [
        "len(train) + len(val)"
      ],
      "execution_count": 47,
      "outputs": [
        {
          "output_type": "execute_result",
          "data": {
            "text/plain": [
              "59400"
            ]
          },
          "metadata": {
            "tags": []
          },
          "execution_count": 47
        }
      ]
    },
    {
      "cell_type": "markdown",
      "metadata": {
        "colab_type": "text",
        "id": "L2LiGJLin_ix"
      },
      "source": [
        "You have historical inspection data for over 59,000 other waterpumps, which you'll use to fit your predictive model.\n",
        "\n",
        "Based on this historical data, if you randomly chose waterpumps to inspect, then about 46% of the waterpumps would need repairs, and 54% would not need repairs."
      ]
    },
    {
      "cell_type": "code",
      "metadata": {
        "colab_type": "code",
        "id": "JliDXTp5n_iy",
        "outputId": "46f54932-294d-4855-bd35-b3161e502cdc",
        "colab": {
          "base_uri": "https://localhost:8080/",
          "height": 85
        }
      },
      "source": [
        "y_train.value_counts(normalize=True)"
      ],
      "execution_count": 48,
      "outputs": [
        {
          "output_type": "execute_result",
          "data": {
            "text/plain": [
              "functional                 0.543071\n",
              "non functional             0.384241\n",
              "functional needs repair    0.072688\n",
              "Name: status_group, dtype: float64"
            ]
          },
          "metadata": {
            "tags": []
          },
          "execution_count": 48
        }
      ]
    },
    {
      "cell_type": "code",
      "metadata": {
        "colab_type": "code",
        "id": "0dP7fjQJeQEX",
        "outputId": "a1d89d1c-d4f0-4ca5-8f8e-89ae4ed14b6b",
        "colab": {
          "base_uri": "https://localhost:8080/",
          "height": 34
        }
      },
      "source": [
        "2000 * 0.46"
      ],
      "execution_count": 49,
      "outputs": [
        {
          "output_type": "execute_result",
          "data": {
            "text/plain": [
              "920.0"
            ]
          },
          "metadata": {
            "tags": []
          },
          "execution_count": 49
        }
      ]
    },
    {
      "cell_type": "markdown",
      "metadata": {
        "colab_type": "text",
        "id": "dLnJ7Fnan_i1"
      },
      "source": [
        "**Can you do better than random at prioritizing inspections?**"
      ]
    },
    {
      "cell_type": "markdown",
      "metadata": {
        "colab_type": "text",
        "id": "sIh2Xj8fn_i3"
      },
      "source": [
        "In this scenario, we should define our target differently. We want to identify which waterpumps are non-functional _or_ are functional but needs repair:"
      ]
    },
    {
      "cell_type": "code",
      "metadata": {
        "colab_type": "code",
        "id": "7naqusI0n_i4",
        "outputId": "e9b769c6-9b76-4372-da85-2ca7dbeaadec",
        "colab": {
          "base_uri": "https://localhost:8080/",
          "height": 68
        }
      },
      "source": [
        "y_train = y_train != 'functional'\n",
        "y_val = y_val != 'functional'\n",
        "y_train.value_counts(normalize=True)"
      ],
      "execution_count": 50,
      "outputs": [
        {
          "output_type": "execute_result",
          "data": {
            "text/plain": [
              "False    0.543071\n",
              "True     0.456929\n",
              "Name: status_group, dtype: float64"
            ]
          },
          "metadata": {
            "tags": []
          },
          "execution_count": 50
        }
      ]
    },
    {
      "cell_type": "markdown",
      "metadata": {
        "colab_type": "text",
        "id": "P1UR1t8Zn_i6"
      },
      "source": [
        "We already made our validation set the same size as our test set."
      ]
    },
    {
      "cell_type": "code",
      "metadata": {
        "colab_type": "code",
        "id": "CHHIplB7n_i8",
        "outputId": "62fa529e-b076-4d46-b501-dd380ce52fab",
        "colab": {
          "base_uri": "https://localhost:8080/",
          "height": 34
        }
      },
      "source": [
        "len(val) == len(test)"
      ],
      "execution_count": 51,
      "outputs": [
        {
          "output_type": "execute_result",
          "data": {
            "text/plain": [
              "True"
            ]
          },
          "metadata": {
            "tags": []
          },
          "execution_count": 51
        }
      ]
    },
    {
      "cell_type": "markdown",
      "metadata": {
        "colab_type": "text",
        "id": "g41DA70rn_i9"
      },
      "source": [
        "We can refit our model, using the redefined target.\n",
        "\n",
        "Then make predictions for the validation set."
      ]
    },
    {
      "cell_type": "code",
      "metadata": {
        "colab_type": "code",
        "id": "VXL0LaXQn_i-",
        "colab": {}
      },
      "source": [
        "pipeline.fit(X_train, y_train)\n",
        "y_pred = pipeline.predict(X_val)"
      ],
      "execution_count": 0,
      "outputs": []
    },
    {
      "cell_type": "markdown",
      "metadata": {
        "id": "FXN4j0sBut6K",
        "colab_type": "text"
      },
      "source": [
        "## Follow Along"
      ]
    },
    {
      "cell_type": "markdown",
      "metadata": {
        "colab_type": "text",
        "id": "qISPzM43n_jA"
      },
      "source": [
        "#### Look at the confusion matrix:"
      ]
    },
    {
      "cell_type": "code",
      "metadata": {
        "colab_type": "code",
        "id": "y72fakpmn_jB",
        "outputId": "1bc28e3d-7c32-462f-b36c-b3d50e189fe4",
        "colab": {
          "base_uri": "https://localhost:8080/",
          "height": 428
        }
      },
      "source": [
        "plot_cm(y_val, y_pred)"
      ],
      "execution_count": 59,
      "outputs": [
        {
          "output_type": "display_data",
          "data": {
            "image/png": "[encoded data removed]",
            "text/plain": [
              "<Figure size 720x504 with 2 Axes>"
            ]
          },
          "metadata": {
            "tags": [],
            "needs_background": "light"
          }
        }
      ]
    },
    {
      "cell_type": "markdown",
      "metadata": {
        "colab_type": "text",
        "id": "M30BXR6Rn_jC"
      },
      "source": [
        "#### How many total predictions of \"True\" (\"non functional\" or \"functional needs repair\") ?"
      ]
    },
    {
      "cell_type": "code",
      "metadata": {
        "colab_type": "code",
        "id": "4IeTJFo8n_jD",
        "outputId": "5a9fe0d5-9cef-4f59-ca0e-1b15fde4c8c2",
        "colab": {
          "base_uri": "https://localhost:8080/",
          "height": 34
        }
      },
      "source": [
        "y_pred.shape"
      ],
      "execution_count": 60,
      "outputs": [
        {
          "output_type": "execute_result",
          "data": {
            "text/plain": [
              "(14358,)"
            ]
          },
          "metadata": {
            "tags": []
          },
          "execution_count": 60
        }
      ]
    },
    {
      "cell_type": "code",
      "metadata": {
        "id": "dvKEgJG9-_3o",
        "colab_type": "code",
        "colab": {
          "base_uri": "https://localhost:8080/",
          "height": 34
        },
        "outputId": "ff677413-b0fc-4d17-c362-a0077fa1f078"
      },
      "source": [
        "y_pred.sum()"
      ],
      "execution_count": 61,
      "outputs": [
        {
          "output_type": "execute_result",
          "data": {
            "text/plain": [
              "6009"
            ]
          },
          "metadata": {
            "tags": []
          },
          "execution_count": 61
        }
      ]
    },
    {
      "cell_type": "markdown",
      "metadata": {
        "colab_type": "text",
        "id": "1aZSdskSn_jF"
      },
      "source": [
        "### We don't have \"budget\" to take action on all these predictions\n",
        "\n",
        "- But we can get predicted probabilities, to rank the predictions. \n",
        "- Then change the threshold, to change the number of positive predictions, based on our budget."
      ]
    },
    {
      "cell_type": "markdown",
      "metadata": {
        "colab_type": "text",
        "id": "rXkfXDDZn_jF"
      },
      "source": [
        "### Get predicted probabilities and plot the distribution"
      ]
    },
    {
      "cell_type": "code",
      "metadata": {
        "colab_type": "code",
        "id": "jwfe7j7W_jTp",
        "outputId": "9ced285f-8527-4b90-a600-c7f0a6fff262",
        "colab": {
          "base_uri": "https://localhost:8080/",
          "height": 136
        }
      },
      "source": [
        "pipeline.predict_proba(X_val)"
      ],
      "execution_count": 62,
      "outputs": [
        {
          "output_type": "execute_result",
          "data": {
            "text/plain": [
              "array([[0.  , 1.  ],\n",
              "       [0.26, 0.74],\n",
              "       [0.9 , 0.1 ],\n",
              "       ...,\n",
              "       [0.91, 0.09],\n",
              "       [0.41, 0.59],\n",
              "       [0.98, 0.02]])"
            ]
          },
          "metadata": {
            "tags": []
          },
          "execution_count": 62
        }
      ]
    },
    {
      "cell_type": "code",
      "metadata": {
        "id": "RKfaa9F3_d_W",
        "colab_type": "code",
        "colab": {
          "base_uri": "https://localhost:8080/",
          "height": 34
        },
        "outputId": "c284fd37-7881-4d32-c3cf-b99eb6198032"
      },
      "source": [
        "pipeline.predict(X_val)"
      ],
      "execution_count": 65,
      "outputs": [
        {
          "output_type": "execute_result",
          "data": {
            "text/plain": [
              "array([ True,  True, False, ..., False,  True, False])"
            ]
          },
          "metadata": {
            "tags": []
          },
          "execution_count": 65
        }
      ]
    },
    {
      "cell_type": "code",
      "metadata": {
        "id": "ZwKPIDBF_spQ",
        "colab_type": "code",
        "colab": {
          "base_uri": "https://localhost:8080/",
          "height": 34
        },
        "outputId": "302a9d08-0720-4abd-a38f-67db48d1e00d"
      },
      "source": [
        "pipeline.predict_proba(X_val)[:,1]"
      ],
      "execution_count": 66,
      "outputs": [
        {
          "output_type": "execute_result",
          "data": {
            "text/plain": [
              "array([1.  , 0.74, 0.1 , ..., 0.09, 0.59, 0.02])"
            ]
          },
          "metadata": {
            "tags": []
          },
          "execution_count": 66
        }
      ]
    },
    {
      "cell_type": "code",
      "metadata": {
        "id": "8qtT_Gua_5Q8",
        "colab_type": "code",
        "colab": {
          "base_uri": "https://localhost:8080/",
          "height": 34
        },
        "outputId": "e2adf6d8-c2c8-4b75-ea8f-25813763c20e"
      },
      "source": [
        "pipeline.predict_proba(X_val)[:,1] > 0.5"
      ],
      "execution_count": 67,
      "outputs": [
        {
          "output_type": "execute_result",
          "data": {
            "text/plain": [
              "array([ True,  True, False, ..., False,  True, False])"
            ]
          },
          "metadata": {
            "tags": []
          },
          "execution_count": 67
        }
      ]
    },
    {
      "cell_type": "code",
      "metadata": {
        "id": "yuo-vMdr_9-Z",
        "colab_type": "code",
        "colab": {
          "base_uri": "https://localhost:8080/",
          "height": 282
        },
        "outputId": "083eb4c6-10b2-4e25-9a0e-51fd1c34dd82"
      },
      "source": [
        "y_pred_proba = pipeline.predict_proba(X_val)[:,1]\n",
        "sns.distplot(y_pred_proba);"
      ],
      "execution_count": 68,
      "outputs": [
        {
          "output_type": "execute_result",
          "data": {
            "text/plain": [
              "<matplotlib.axes._subplots.AxesSubplot at 0x7f4f38c55358>"
            ]
          },
          "metadata": {
            "tags": []
          },
          "execution_count": 68
        },
        {
          "output_type": "display_data",
          "data": {
            "image/png": "[encoded data removed]",
            "text/plain": [
              "<Figure size 432x288 with 1 Axes>"
            ]
          },
          "metadata": {
            "tags": [],
            "needs_background": "light"
          }
        }
      ]
    },
    {
      "cell_type": "markdown",
      "metadata": {
        "colab_type": "text",
        "id": "eD6pRFKOn_jH"
      },
      "source": [
        "### Change the threshold"
      ]
    },
    {
      "cell_type": "code",
      "metadata": {
        "colab_type": "code",
        "id": "SjOhH0BMB55A",
        "outputId": "8b0a8252-07ac-48ed-c7e7-0b7ce8882567",
        "colab": {
          "base_uri": "https://localhost:8080/",
          "height": 316
        }
      },
      "source": [
        "thres = 0.92\n",
        "\n",
        "y_pred = y_pred_proba > thres\n",
        "\n",
        "ax = sns.distplot(y_pred_proba)\n",
        "\n",
        "ax.axvline(thres, color='red')\n",
        "\n",
        "pd.Series(y_pred).value_counts()"
      ],
      "execution_count": 73,
      "outputs": [
        {
          "output_type": "execute_result",
          "data": {
            "text/plain": [
              "False    12325\n",
              "True      2033\n",
              "dtype: int64"
            ]
          },
          "metadata": {
            "tags": []
          },
          "execution_count": 73
        },
        {
          "output_type": "display_data",
          "data": {
            "image/png": "[encoded data removed]",
            "text/plain": [
              "<Figure size 432x288 with 1 Axes>"
            ]
          },
          "metadata": {
            "tags": [],
            "needs_background": "light"
          }
        }
      ]
    },
    {
      "cell_type": "code",
      "metadata": {
        "id": "kCbmb70wAc6I",
        "colab_type": "code",
        "colab": {}
      },
      "source": [
        ""
      ],
      "execution_count": 0,
      "outputs": []
    },
    {
      "cell_type": "code",
      "metadata": {
        "id": "jf_deI0JAc-B",
        "colab_type": "code",
        "colab": {}
      },
      "source": [
        ""
      ],
      "execution_count": 0,
      "outputs": []
    },
    {
      "cell_type": "markdown",
      "metadata": {
        "id": "gqdJwXYMut6X",
        "colab_type": "text"
      },
      "source": [
        "### Or, get exactly 2,000 positive predictions"
      ]
    },
    {
      "cell_type": "markdown",
      "metadata": {
        "id": "sKfcxeIEut6Y",
        "colab_type": "text"
      },
      "source": [
        "Identify the 2,000 waterpumps in the validation set with highest predicted probabilities."
      ]
    },
    {
      "cell_type": "code",
      "metadata": {
        "id": "5-gdkh1Tut6Y",
        "colab_type": "code",
        "colab": {
          "base_uri": "https://localhost:8080/",
          "height": 829
        },
        "outputId": "afd257d9-4210-4ac2-fe7c-da5683cb70e1"
      },
      "source": [
        "def set_thres(y_val, y_pred_proba, thres=0.5):\n",
        "  y_pred = y_pred_proba > thres\n",
        "\n",
        "  ax = sns.distplot(y_pred_proba)\n",
        "\n",
        "  ax.axvline(thres, color='red')\n",
        "\n",
        "  plt.show()\n",
        "  print(classification_report(y_val, y_pred))\n",
        "  plot_cm(y_val, y_pred)\n",
        "\n",
        "set_thres(y_pred, y_pred_proba)"
      ],
      "execution_count": 82,
      "outputs": [
        {
          "output_type": "display_data",
          "data": {
            "image/png": "[encoded data removed]",
            "text/plain": [
              "<Figure size 432x288 with 1 Axes>"
            ]
          },
          "metadata": {
            "tags": [],
            "needs_background": "light"
          }
        },
        {
          "output_type": "stream",
          "text": [
            "              precision    recall  f1-score   support\n",
            "\n",
            "       False       1.00      0.68      0.81     12325\n",
            "        True       0.34      1.00      0.51      2033\n",
            "\n",
            "    accuracy                           0.72     14358\n",
            "   macro avg       0.67      0.84      0.66     14358\n",
            "weighted avg       0.91      0.72      0.76     14358\n",
            "\n"
          ],
          "name": "stdout"
        },
        {
          "output_type": "display_data",
          "data": {
            "image/png": "[encoded data removed]",
            "text/plain": [
              "<Figure size 720x504 with 2 Axes>"
            ]
          },
          "metadata": {
            "tags": [],
            "needs_background": "light"
          }
        }
      ]
    },
    {
      "cell_type": "code",
      "metadata": {
        "id": "h2VZnZ21DEAs",
        "colab_type": "code",
        "colab": {
          "base_uri": "https://localhost:8080/",
          "height": 34
        },
        "outputId": "c2eef340-3aca-420e-fd9e-20fb24a52525"
      },
      "source": [
        "#total predictions\n",
        "y_pred.sum()"
      ],
      "execution_count": 84,
      "outputs": [
        {
          "output_type": "execute_result",
          "data": {
            "text/plain": [
              "2033"
            ]
          },
          "metadata": {
            "tags": []
          },
          "execution_count": 84
        }
      ]
    },
    {
      "cell_type": "code",
      "metadata": {
        "id": "-ZXxBW8hBkt7",
        "colab_type": "code",
        "colab": {
          "base_uri": "https://localhost:8080/",
          "height": 878,
          "referenced_widgets": [
            "f3e22982d8874a60b256f5584cb1ef76",
            "9f14211ae7c14b83a132792f1f2c2dd5",
            "ae77fce57d87407ebea620e5f3e3daa3",
            "aa448c88130049fe8563c76003ecf44f",
            "b8c6c08e5d0848f8b107b4c81ce0a3ec",
            "9cf39f59d103445281409aea507c1405",
            "2249c134533d4c10ac72e4a0d581ce33"
          ]
        },
        "outputId": "811c08a3-082c-4cb8-9aab-3164d592764e"
      },
      "source": [
        "from ipywidgets import interact, fixed\n",
        "\n",
        "interact(set_thres, y_val=fixed(y_val), y_pred_proba=fixed(y_pred_proba), thres=(0,1, 0.1))"
      ],
      "execution_count": 83,
      "outputs": [
        {
          "output_type": "display_data",
          "data": {
            "application/vnd.jupyter.widget-view+json": {
              "model_id": "f3e22982d8874a60b256f5584cb1ef76",
              "version_minor": 0,
              "version_major": 2
            },
            "text/plain": [
              "interactive(children=(FloatSlider(value=0.5, description='thres', max=1.0), Output()), _dom_classes=('widget-i…"
            ]
          },
          "metadata": {
            "tags": []
          }
        },
        {
          "output_type": "execute_result",
          "data": {
            "text/plain": [
              "<function __main__.set_thres>"
            ]
          },
          "metadata": {
            "tags": []
          },
          "execution_count": 83
        }
      ]
    },
    {
      "cell_type": "markdown",
      "metadata": {
        "id": "CVjhNz2Cut6c",
        "colab_type": "text"
      },
      "source": [
        "Most of these top 2,000 waterpumps will be relevant recommendations, meaning `y_val==True`, meaning the waterpump is non-functional or needs repairs.\n",
        "\n",
        "Some of these top 2,000 waterpumps will be irrelevant recommendations, meaning `y_val==False`, meaning the waterpump is functional and does not need repairs.\n",
        "\n",
        "Let's look at a random sample of 50 out of these top 2,000:"
      ]
    },
    {
      "cell_type": "code",
      "metadata": {
        "id": "ZCf1XXBdut6c",
        "colab_type": "code",
        "colab": {
          "base_uri": "https://localhost:8080/",
          "height": 419
        },
        "outputId": "83e001d9-5ab6-4b80-cebc-7076ab0e51f7"
      },
      "source": [
        "results = pd.DataFrame({'y_val': y_val, 'y_pred_proba': y_pred_proba})\n",
        "\n",
        "results"
      ],
      "execution_count": 85,
      "outputs": [
        {
          "output_type": "execute_result",
          "data": {
            "text/html": [
              "<div>\n",
              "<style scoped>\n",
              "    .dataframe tbody tr th:only-of-type {\n",
              "        vertical-align: middle;\n",
              "    }\n",
              "\n",
              "    .dataframe tbody tr th {\n",
              "        vertical-align: top;\n",
              "    }\n",
              "\n",
              "    .dataframe thead th {\n",
              "        text-align: right;\n",
              "    }\n",
              "</style>\n",
              "<table border=\"1\" class=\"dataframe\">\n",
              "  <thead>\n",
              "    <tr style=\"text-align: right;\">\n",
              "      <th></th>\n",
              "      <th>y_val</th>\n",
              "      <th>y_pred_proba</th>\n",
              "    </tr>\n",
              "  </thead>\n",
              "  <tbody>\n",
              "    <tr>\n",
              "      <th>58046</th>\n",
              "      <td>True</td>\n",
              "      <td>1.00</td>\n",
              "    </tr>\n",
              "    <tr>\n",
              "      <th>41184</th>\n",
              "      <td>True</td>\n",
              "      <td>0.74</td>\n",
              "    </tr>\n",
              "    <tr>\n",
              "      <th>27587</th>\n",
              "      <td>False</td>\n",
              "      <td>0.10</td>\n",
              "    </tr>\n",
              "    <tr>\n",
              "      <th>53109</th>\n",
              "      <td>False</td>\n",
              "      <td>0.05</td>\n",
              "    </tr>\n",
              "    <tr>\n",
              "      <th>7245</th>\n",
              "      <td>True</td>\n",
              "      <td>0.55</td>\n",
              "    </tr>\n",
              "    <tr>\n",
              "      <th>...</th>\n",
              "      <td>...</td>\n",
              "      <td>...</td>\n",
              "    </tr>\n",
              "    <tr>\n",
              "      <th>18760</th>\n",
              "      <td>False</td>\n",
              "      <td>0.68</td>\n",
              "    </tr>\n",
              "    <tr>\n",
              "      <th>36059</th>\n",
              "      <td>True</td>\n",
              "      <td>0.88</td>\n",
              "    </tr>\n",
              "    <tr>\n",
              "      <th>4759</th>\n",
              "      <td>False</td>\n",
              "      <td>0.09</td>\n",
              "    </tr>\n",
              "    <tr>\n",
              "      <th>43621</th>\n",
              "      <td>False</td>\n",
              "      <td>0.59</td>\n",
              "    </tr>\n",
              "    <tr>\n",
              "      <th>45295</th>\n",
              "      <td>False</td>\n",
              "      <td>0.02</td>\n",
              "    </tr>\n",
              "  </tbody>\n",
              "</table>\n",
              "<p>14358 rows × 2 columns</p>\n",
              "</div>"
            ],
            "text/plain": [
              "       y_val  y_pred_proba\n",
              "58046   True          1.00\n",
              "41184   True          0.74\n",
              "27587  False          0.10\n",
              "53109  False          0.05\n",
              "7245    True          0.55\n",
              "...      ...           ...\n",
              "18760  False          0.68\n",
              "36059   True          0.88\n",
              "4759   False          0.09\n",
              "43621  False          0.59\n",
              "45295  False          0.02\n",
              "\n",
              "[14358 rows x 2 columns]"
            ]
          },
          "metadata": {
            "tags": []
          },
          "execution_count": 85
        }
      ]
    },
    {
      "cell_type": "code",
      "metadata": {
        "id": "kHkhKxYKut6g",
        "colab_type": "code",
        "colab": {
          "base_uri": "https://localhost:8080/",
          "height": 419
        },
        "outputId": "a8d7ea99-66c7-4d8b-9349-78c089a104e9"
      },
      "source": [
        "top2000 = results.sort_values(by='y_pred_proba', ascending=False)[:2000]\n",
        "top2000"
      ],
      "execution_count": 87,
      "outputs": [
        {
          "output_type": "execute_result",
          "data": {
            "text/html": [
              "<div>\n",
              "<style scoped>\n",
              "    .dataframe tbody tr th:only-of-type {\n",
              "        vertical-align: middle;\n",
              "    }\n",
              "\n",
              "    .dataframe tbody tr th {\n",
              "        vertical-align: top;\n",
              "    }\n",
              "\n",
              "    .dataframe thead th {\n",
              "        text-align: right;\n",
              "    }\n",
              "</style>\n",
              "<table border=\"1\" class=\"dataframe\">\n",
              "  <thead>\n",
              "    <tr style=\"text-align: right;\">\n",
              "      <th></th>\n",
              "      <th>y_val</th>\n",
              "      <th>y_pred_proba</th>\n",
              "    </tr>\n",
              "  </thead>\n",
              "  <tbody>\n",
              "    <tr>\n",
              "      <th>58046</th>\n",
              "      <td>True</td>\n",
              "      <td>1.00</td>\n",
              "    </tr>\n",
              "    <tr>\n",
              "      <th>6288</th>\n",
              "      <td>True</td>\n",
              "      <td>1.00</td>\n",
              "    </tr>\n",
              "    <tr>\n",
              "      <th>27470</th>\n",
              "      <td>True</td>\n",
              "      <td>1.00</td>\n",
              "    </tr>\n",
              "    <tr>\n",
              "      <th>41452</th>\n",
              "      <td>True</td>\n",
              "      <td>1.00</td>\n",
              "    </tr>\n",
              "    <tr>\n",
              "      <th>3337</th>\n",
              "      <td>True</td>\n",
              "      <td>1.00</td>\n",
              "    </tr>\n",
              "    <tr>\n",
              "      <th>...</th>\n",
              "      <td>...</td>\n",
              "      <td>...</td>\n",
              "    </tr>\n",
              "    <tr>\n",
              "      <th>30643</th>\n",
              "      <td>True</td>\n",
              "      <td>0.93</td>\n",
              "    </tr>\n",
              "    <tr>\n",
              "      <th>14010</th>\n",
              "      <td>True</td>\n",
              "      <td>0.93</td>\n",
              "    </tr>\n",
              "    <tr>\n",
              "      <th>22524</th>\n",
              "      <td>True</td>\n",
              "      <td>0.93</td>\n",
              "    </tr>\n",
              "    <tr>\n",
              "      <th>55253</th>\n",
              "      <td>True</td>\n",
              "      <td>0.93</td>\n",
              "    </tr>\n",
              "    <tr>\n",
              "      <th>39829</th>\n",
              "      <td>True</td>\n",
              "      <td>0.93</td>\n",
              "    </tr>\n",
              "  </tbody>\n",
              "</table>\n",
              "<p>2000 rows × 2 columns</p>\n",
              "</div>"
            ],
            "text/plain": [
              "       y_val  y_pred_proba\n",
              "58046   True          1.00\n",
              "6288    True          1.00\n",
              "27470   True          1.00\n",
              "41452   True          1.00\n",
              "3337    True          1.00\n",
              "...      ...           ...\n",
              "30643   True          0.93\n",
              "14010   True          0.93\n",
              "22524   True          0.93\n",
              "55253   True          0.93\n",
              "39829   True          0.93\n",
              "\n",
              "[2000 rows x 2 columns]"
            ]
          },
          "metadata": {
            "tags": []
          },
          "execution_count": 87
        }
      ]
    },
    {
      "cell_type": "code",
      "metadata": {
        "id": "bAx_MgVQut6l",
        "colab_type": "code",
        "colab": {
          "base_uri": "https://localhost:8080/",
          "height": 1000
        },
        "outputId": "0c85750b-f66c-463e-caf8-3cbec1b5763f"
      },
      "source": [
        "top2000.sample(50)"
      ],
      "execution_count": 88,
      "outputs": [
        {
          "output_type": "execute_result",
          "data": {
            "text/html": [
              "<div>\n",
              "<style scoped>\n",
              "    .dataframe tbody tr th:only-of-type {\n",
              "        vertical-align: middle;\n",
              "    }\n",
              "\n",
              "    .dataframe tbody tr th {\n",
              "        vertical-align: top;\n",
              "    }\n",
              "\n",
              "    .dataframe thead th {\n",
              "        text-align: right;\n",
              "    }\n",
              "</style>\n",
              "<table border=\"1\" class=\"dataframe\">\n",
              "  <thead>\n",
              "    <tr style=\"text-align: right;\">\n",
              "      <th></th>\n",
              "      <th>y_val</th>\n",
              "      <th>y_pred_proba</th>\n",
              "    </tr>\n",
              "  </thead>\n",
              "  <tbody>\n",
              "    <tr>\n",
              "      <th>142</th>\n",
              "      <td>True</td>\n",
              "      <td>0.96</td>\n",
              "    </tr>\n",
              "    <tr>\n",
              "      <th>26930</th>\n",
              "      <td>True</td>\n",
              "      <td>0.93</td>\n",
              "    </tr>\n",
              "    <tr>\n",
              "      <th>53636</th>\n",
              "      <td>True</td>\n",
              "      <td>0.94</td>\n",
              "    </tr>\n",
              "    <tr>\n",
              "      <th>54200</th>\n",
              "      <td>True</td>\n",
              "      <td>1.00</td>\n",
              "    </tr>\n",
              "    <tr>\n",
              "      <th>49856</th>\n",
              "      <td>True</td>\n",
              "      <td>0.95</td>\n",
              "    </tr>\n",
              "    <tr>\n",
              "      <th>20089</th>\n",
              "      <td>True</td>\n",
              "      <td>0.93</td>\n",
              "    </tr>\n",
              "    <tr>\n",
              "      <th>49721</th>\n",
              "      <td>True</td>\n",
              "      <td>1.00</td>\n",
              "    </tr>\n",
              "    <tr>\n",
              "      <th>35823</th>\n",
              "      <td>True</td>\n",
              "      <td>0.99</td>\n",
              "    </tr>\n",
              "    <tr>\n",
              "      <th>1852</th>\n",
              "      <td>True</td>\n",
              "      <td>1.00</td>\n",
              "    </tr>\n",
              "    <tr>\n",
              "      <th>22524</th>\n",
              "      <td>True</td>\n",
              "      <td>0.93</td>\n",
              "    </tr>\n",
              "    <tr>\n",
              "      <th>54997</th>\n",
              "      <td>True</td>\n",
              "      <td>0.98</td>\n",
              "    </tr>\n",
              "    <tr>\n",
              "      <th>28570</th>\n",
              "      <td>True</td>\n",
              "      <td>0.99</td>\n",
              "    </tr>\n",
              "    <tr>\n",
              "      <th>50910</th>\n",
              "      <td>False</td>\n",
              "      <td>1.00</td>\n",
              "    </tr>\n",
              "    <tr>\n",
              "      <th>44986</th>\n",
              "      <td>True</td>\n",
              "      <td>0.95</td>\n",
              "    </tr>\n",
              "    <tr>\n",
              "      <th>25588</th>\n",
              "      <td>True</td>\n",
              "      <td>1.00</td>\n",
              "    </tr>\n",
              "    <tr>\n",
              "      <th>19569</th>\n",
              "      <td>True</td>\n",
              "      <td>0.97</td>\n",
              "    </tr>\n",
              "    <tr>\n",
              "      <th>23576</th>\n",
              "      <td>False</td>\n",
              "      <td>0.95</td>\n",
              "    </tr>\n",
              "    <tr>\n",
              "      <th>3076</th>\n",
              "      <td>True</td>\n",
              "      <td>0.99</td>\n",
              "    </tr>\n",
              "    <tr>\n",
              "      <th>39238</th>\n",
              "      <td>True</td>\n",
              "      <td>0.99</td>\n",
              "    </tr>\n",
              "    <tr>\n",
              "      <th>13328</th>\n",
              "      <td>True</td>\n",
              "      <td>0.97</td>\n",
              "    </tr>\n",
              "    <tr>\n",
              "      <th>8522</th>\n",
              "      <td>True</td>\n",
              "      <td>0.95</td>\n",
              "    </tr>\n",
              "    <tr>\n",
              "      <th>30539</th>\n",
              "      <td>True</td>\n",
              "      <td>0.94</td>\n",
              "    </tr>\n",
              "    <tr>\n",
              "      <th>52420</th>\n",
              "      <td>True</td>\n",
              "      <td>0.94</td>\n",
              "    </tr>\n",
              "    <tr>\n",
              "      <th>56883</th>\n",
              "      <td>True</td>\n",
              "      <td>0.98</td>\n",
              "    </tr>\n",
              "    <tr>\n",
              "      <th>5966</th>\n",
              "      <td>True</td>\n",
              "      <td>0.97</td>\n",
              "    </tr>\n",
              "    <tr>\n",
              "      <th>50758</th>\n",
              "      <td>True</td>\n",
              "      <td>0.99</td>\n",
              "    </tr>\n",
              "    <tr>\n",
              "      <th>51887</th>\n",
              "      <td>True</td>\n",
              "      <td>0.96</td>\n",
              "    </tr>\n",
              "    <tr>\n",
              "      <th>46480</th>\n",
              "      <td>True</td>\n",
              "      <td>0.98</td>\n",
              "    </tr>\n",
              "    <tr>\n",
              "      <th>42186</th>\n",
              "      <td>True</td>\n",
              "      <td>0.98</td>\n",
              "    </tr>\n",
              "    <tr>\n",
              "      <th>16915</th>\n",
              "      <td>True</td>\n",
              "      <td>0.99</td>\n",
              "    </tr>\n",
              "    <tr>\n",
              "      <th>50856</th>\n",
              "      <td>True</td>\n",
              "      <td>0.98</td>\n",
              "    </tr>\n",
              "    <tr>\n",
              "      <th>16337</th>\n",
              "      <td>True</td>\n",
              "      <td>0.98</td>\n",
              "    </tr>\n",
              "    <tr>\n",
              "      <th>49240</th>\n",
              "      <td>True</td>\n",
              "      <td>1.00</td>\n",
              "    </tr>\n",
              "    <tr>\n",
              "      <th>32461</th>\n",
              "      <td>True</td>\n",
              "      <td>0.94</td>\n",
              "    </tr>\n",
              "    <tr>\n",
              "      <th>41441</th>\n",
              "      <td>True</td>\n",
              "      <td>0.96</td>\n",
              "    </tr>\n",
              "    <tr>\n",
              "      <th>15557</th>\n",
              "      <td>True</td>\n",
              "      <td>1.00</td>\n",
              "    </tr>\n",
              "    <tr>\n",
              "      <th>23107</th>\n",
              "      <td>True</td>\n",
              "      <td>0.97</td>\n",
              "    </tr>\n",
              "    <tr>\n",
              "      <th>12328</th>\n",
              "      <td>True</td>\n",
              "      <td>0.99</td>\n",
              "    </tr>\n",
              "    <tr>\n",
              "      <th>58343</th>\n",
              "      <td>True</td>\n",
              "      <td>1.00</td>\n",
              "    </tr>\n",
              "    <tr>\n",
              "      <th>11656</th>\n",
              "      <td>True</td>\n",
              "      <td>0.98</td>\n",
              "    </tr>\n",
              "    <tr>\n",
              "      <th>47098</th>\n",
              "      <td>True</td>\n",
              "      <td>1.00</td>\n",
              "    </tr>\n",
              "    <tr>\n",
              "      <th>23327</th>\n",
              "      <td>True</td>\n",
              "      <td>0.99</td>\n",
              "    </tr>\n",
              "    <tr>\n",
              "      <th>19063</th>\n",
              "      <td>True</td>\n",
              "      <td>0.96</td>\n",
              "    </tr>\n",
              "    <tr>\n",
              "      <th>30619</th>\n",
              "      <td>True</td>\n",
              "      <td>0.99</td>\n",
              "    </tr>\n",
              "    <tr>\n",
              "      <th>33788</th>\n",
              "      <td>True</td>\n",
              "      <td>0.95</td>\n",
              "    </tr>\n",
              "    <tr>\n",
              "      <th>2338</th>\n",
              "      <td>True</td>\n",
              "      <td>0.97</td>\n",
              "    </tr>\n",
              "    <tr>\n",
              "      <th>30630</th>\n",
              "      <td>True</td>\n",
              "      <td>0.94</td>\n",
              "    </tr>\n",
              "    <tr>\n",
              "      <th>29001</th>\n",
              "      <td>True</td>\n",
              "      <td>0.99</td>\n",
              "    </tr>\n",
              "    <tr>\n",
              "      <th>35268</th>\n",
              "      <td>True</td>\n",
              "      <td>1.00</td>\n",
              "    </tr>\n",
              "    <tr>\n",
              "      <th>45732</th>\n",
              "      <td>True</td>\n",
              "      <td>1.00</td>\n",
              "    </tr>\n",
              "  </tbody>\n",
              "</table>\n",
              "</div>"
            ],
            "text/plain": [
              "       y_val  y_pred_proba\n",
              "142     True          0.96\n",
              "26930   True          0.93\n",
              "53636   True          0.94\n",
              "54200   True          1.00\n",
              "49856   True          0.95\n",
              "20089   True          0.93\n",
              "49721   True          1.00\n",
              "35823   True          0.99\n",
              "1852    True          1.00\n",
              "22524   True          0.93\n",
              "54997   True          0.98\n",
              "28570   True          0.99\n",
              "50910  False          1.00\n",
              "44986   True          0.95\n",
              "25588   True          1.00\n",
              "19569   True          0.97\n",
              "23576  False          0.95\n",
              "3076    True          0.99\n",
              "39238   True          0.99\n",
              "13328   True          0.97\n",
              "8522    True          0.95\n",
              "30539   True          0.94\n",
              "52420   True          0.94\n",
              "56883   True          0.98\n",
              "5966    True          0.97\n",
              "50758   True          0.99\n",
              "51887   True          0.96\n",
              "46480   True          0.98\n",
              "42186   True          0.98\n",
              "16915   True          0.99\n",
              "50856   True          0.98\n",
              "16337   True          0.98\n",
              "49240   True          1.00\n",
              "32461   True          0.94\n",
              "41441   True          0.96\n",
              "15557   True          1.00\n",
              "23107   True          0.97\n",
              "12328   True          0.99\n",
              "58343   True          1.00\n",
              "11656   True          0.98\n",
              "47098   True          1.00\n",
              "23327   True          0.99\n",
              "19063   True          0.96\n",
              "30619   True          0.99\n",
              "33788   True          0.95\n",
              "2338    True          0.97\n",
              "30630   True          0.94\n",
              "29001   True          0.99\n",
              "35268   True          1.00\n",
              "45732   True          1.00"
            ]
          },
          "metadata": {
            "tags": []
          },
          "execution_count": 88
        }
      ]
    },
    {
      "cell_type": "markdown",
      "metadata": {
        "id": "lXb-kh66GIwm",
        "colab_type": "text"
      },
      "source": [
        "###So how many of our recommendations were relevant? ..."
      ]
    },
    {
      "cell_type": "code",
      "metadata": {
        "id": "HicJRAYtGJ8Y",
        "colab_type": "code",
        "colab": {
          "base_uri": "https://localhost:8080/",
          "height": 51
        },
        "outputId": "b529d383-9ab7-4fc2-a4f1-f144af670f31"
      },
      "source": [
        "print(f'Baseline: {2000*.46} waterpump repairs in 2000 trips')\n",
        "\n",
        "print(f'Model: {top2000[\"y_val\"].sum()} waterpump repair in 2000 trips')"
      ],
      "execution_count": 89,
      "outputs": [
        {
          "output_type": "stream",
          "text": [
            "Baseline: 920.0 waterpump repairs in 2000 trips\n",
            "Model: 1972 waterpump repair in 2000 trips\n"
          ],
          "name": "stdout"
        }
      ]
    },
    {
      "cell_type": "code",
      "metadata": {
        "id": "68DhKpndGv_c",
        "colab_type": "code",
        "colab": {}
      },
      "source": [
        ""
      ],
      "execution_count": 0,
      "outputs": []
    },
    {
      "cell_type": "markdown",
      "metadata": {
        "id": "v_KKrl0OGsZ5",
        "colab_type": "text"
      },
      "source": [
        "###What's the precision for this subset of 2,000 predictions?"
      ]
    },
    {
      "cell_type": "code",
      "metadata": {
        "id": "sxxduTOuGusG",
        "colab_type": "code",
        "colab": {
          "base_uri": "https://localhost:8080/",
          "height": 34
        },
        "outputId": "6d3b6a03-6d20-4254-a426-d72ab5a708df"
      },
      "source": [
        "relevant_recom = top2000[\"y_val\"].sum()\n",
        "n_trips = 2000\n",
        "precision_at_K = relevant_recom/n_trips\n",
        "precision_at_K"
      ],
      "execution_count": 90,
      "outputs": [
        {
          "output_type": "execute_result",
          "data": {
            "text/plain": [
              "0.986"
            ]
          },
          "metadata": {
            "tags": []
          },
          "execution_count": 90
        }
      ]
    },
    {
      "cell_type": "markdown",
      "metadata": {
        "colab_type": "text",
        "id": "top80m_Gn_jI"
      },
      "source": [
        "### In this scenario ... \n",
        "\n",
        "Accuracy _isn't_ the best metric!\n",
        "\n",
        "Instead, change the threshold, to change the number of positive predictions, based on the budget. (You have the time and resources to go to just 2,000 waterpumps for proactive maintenance.)\n",
        "\n",
        "Then, evaluate with the precision for \"non functional\"/\"functional needs repair\".\n",
        "\n",
        "This is conceptually like **Precision@K**, where k=2,000.\n",
        "\n",
        "Read more here: [Recall and Precision at k for Recommender Systems: Detailed Explanation with examples](https://medium.com/@m_n_malaeb/recall-and-precision-at-k-for-recommender-systems-618483226c54)\n",
        "\n",
        "> Precision at k is the proportion of recommended items in the top-k set that are relevant\n",
        "\n",
        "> Mathematically precision@k is defined as: `Precision@k = (# of recommended items @k that are relevant) / (# of recommended items @k)`\n",
        "\n",
        "> In the context of recommendation systems we are most likely interested in recommending top-N items to the user. So it makes more sense to compute precision and recall metrics in the first N items instead of all the items. Thus the notion of precision and recall at k where k is a user definable integer that is set by the user to match the top-N recommendations objective.\n",
        "\n",
        "We asked, can you do better than random at prioritizing inspections?\n",
        "\n",
        "If we had randomly chosen waterpumps to inspect, we estimate that only 920 waterpumps would be repaired after 2,000 maintenance visits. (46%)\n",
        "\n",
        "But using our predictive model, in the validation set, we succesfully identified over 1,900 waterpumps in need of repair!\n",
        "\n",
        "So we will use this predictive model with the dataset of over 14,000 waterpumps that we _do_ have some information about, but we _don't_ know whether they are currently functional, or functional but need repair, or non-functional.\n",
        "\n",
        "We will predict which 2,000 are most likely non-functional or in need of repair.\n",
        "\n",
        "We estimate that approximately 1,900 waterpumps will be repaired after these 2,000 maintenance visits.\n",
        "\n",
        "So we're confident that our predictive model will help triage and prioritize waterpump inspections."
      ]
    },
    {
      "cell_type": "markdown",
      "metadata": {
        "id": "SmRKjYWxut6n",
        "colab_type": "text"
      },
      "source": [
        "### But ...\n",
        "\n",
        "This metric (~1,900 waterpumps repaired after 2,000 maintenance visits) is specific for _one_ classification problem and _one_ possible trade-off.\n",
        "\n",
        "Can we get an evaluation metric that is generic for _all_ classification problems and _all_ possible trade-offs?\n",
        "\n",
        "Yes — the most common such metric is **ROC AUC.**"
      ]
    },
    {
      "cell_type": "markdown",
      "metadata": {
        "id": "o1tGsvCGut6o",
        "colab_type": "text"
      },
      "source": [
        "## Get ROC AUC (Receiver Operating Characteristic, Area Under the Curve)\n",
        "\n",
        "[Wikipedia explains,](https://en.wikipedia.org/wiki/Receiver_operating_characteristic) \"A receiver operating characteristic curve, or ROC curve, is a graphical plot that illustrates the diagnostic ability of a binary classifier system as its discrimination threshold is varied. **The ROC curve is created by plotting the true positive rate (TPR) against the false positive rate (FPR) at various threshold settings.**\"\n",
        "\n",
        "ROC AUC is the area under the ROC curve. [It can be interpreted](https://stats.stackexchange.com/questions/132777/what-does-auc-stand-for-and-what-is-it) as \"the expectation that a uniformly drawn random positive is ranked before a uniformly drawn random negative.\" \n",
        "\n",
        "ROC AUC measures **how well a classifier ranks predicted probabilities.** So, when you get your classifier’s ROC AUC score, you need to **use predicted probabilities, not discrete predictions.**\n",
        "\n",
        "ROC AUC ranges **from 0 to 1.** Higher is better. A naive majority class **baseline** will have an ROC AUC score of **0.5.** \n",
        "\n",
        "#### Scikit-Learn docs\n",
        "- [User Guide: Receiver operating characteristic (ROC)](https://scikit-learn.org/stable/modules/model_evaluation.html#receiver-operating-characteristic-roc)\n",
        "- [sklearn.metrics.roc_curve](https://scikit-learn.org/stable/modules/generated/sklearn.metrics.roc_curve.html)\n",
        "- [sklearn.metrics.roc_auc_score](https://scikit-learn.org/stable/modules/generated/sklearn.metrics.roc_auc_score.html)\n",
        "\n",
        "#### More links\n",
        "- [ROC curves and Area Under the Curve explained](https://www.dataschool.io/roc-curves-and-auc-explained/)\n",
        "- [The philosophical argument for using ROC curves](https://lukeoakdenrayner.wordpress.com/2018/01/07/the-philosophical-argument-for-using-roc-curves/)"
      ]
    },
    {
      "cell_type": "code",
      "metadata": {
        "id": "ZxzsTd_7ut6p",
        "colab_type": "code",
        "colab": {}
      },
      "source": [
        "# \"The ROC curve is created by plotting the true positive rate (TPR) \n",
        "# against the false positive rate (FPR) \n",
        "# at various threshold settings.\"\n",
        "\n",
        "# Use scikit-learn to calculate TPR & FPR at various thresholds\n",
        "from sklearn.metrics import roc_curve\n",
        "fpr, tpr, thresholds = roc_curve(y_val, y_pred_proba)"
      ],
      "execution_count": 0,
      "outputs": []
    },
    {
      "cell_type": "code",
      "metadata": {
        "id": "xzpyLgZput6r",
        "colab_type": "code",
        "colab": {
          "base_uri": "https://localhost:8080/",
          "height": 419
        },
        "outputId": "bbfa06b2-48c4-4bfd-91e5-7f7ae00f69d7"
      },
      "source": [
        "# See the results in a table\n",
        "pd.DataFrame({\n",
        "    'False Positive Rate': fpr, \n",
        "    'True Positive Rate': tpr, \n",
        "    'Threshold': thresholds\n",
        "})"
      ],
      "execution_count": 92,
      "outputs": [
        {
          "output_type": "execute_result",
          "data": {
            "text/html": [
              "<div>\n",
              "<style scoped>\n",
              "    .dataframe tbody tr th:only-of-type {\n",
              "        vertical-align: middle;\n",
              "    }\n",
              "\n",
              "    .dataframe tbody tr th {\n",
              "        vertical-align: top;\n",
              "    }\n",
              "\n",
              "    .dataframe thead th {\n",
              "        text-align: right;\n",
              "    }\n",
              "</style>\n",
              "<table border=\"1\" class=\"dataframe\">\n",
              "  <thead>\n",
              "    <tr style=\"text-align: right;\">\n",
              "      <th></th>\n",
              "      <th>False Positive Rate</th>\n",
              "      <th>True Positive Rate</th>\n",
              "      <th>Threshold</th>\n",
              "    </tr>\n",
              "  </thead>\n",
              "  <tbody>\n",
              "    <tr>\n",
              "      <th>0</th>\n",
              "      <td>0.000000</td>\n",
              "      <td>0.000000</td>\n",
              "      <td>2.00</td>\n",
              "    </tr>\n",
              "    <tr>\n",
              "      <th>1</th>\n",
              "      <td>0.000385</td>\n",
              "      <td>0.062652</td>\n",
              "      <td>1.00</td>\n",
              "    </tr>\n",
              "    <tr>\n",
              "      <th>2</th>\n",
              "      <td>0.000641</td>\n",
              "      <td>0.114787</td>\n",
              "      <td>0.99</td>\n",
              "    </tr>\n",
              "    <tr>\n",
              "      <th>3</th>\n",
              "      <td>0.000769</td>\n",
              "      <td>0.155793</td>\n",
              "      <td>0.98</td>\n",
              "    </tr>\n",
              "    <tr>\n",
              "      <th>4</th>\n",
              "      <td>0.001282</td>\n",
              "      <td>0.196037</td>\n",
              "      <td>0.97</td>\n",
              "    </tr>\n",
              "    <tr>\n",
              "      <th>...</th>\n",
              "      <td>...</td>\n",
              "      <td>...</td>\n",
              "      <td>...</td>\n",
              "    </tr>\n",
              "    <tr>\n",
              "      <th>102</th>\n",
              "      <td>0.882662</td>\n",
              "      <td>0.996341</td>\n",
              "      <td>0.04</td>\n",
              "    </tr>\n",
              "    <tr>\n",
              "      <th>103</th>\n",
              "      <td>0.904976</td>\n",
              "      <td>0.997104</td>\n",
              "      <td>0.03</td>\n",
              "    </tr>\n",
              "    <tr>\n",
              "      <th>104</th>\n",
              "      <td>0.930239</td>\n",
              "      <td>0.998171</td>\n",
              "      <td>0.02</td>\n",
              "    </tr>\n",
              "    <tr>\n",
              "      <th>105</th>\n",
              "      <td>0.954604</td>\n",
              "      <td>0.998933</td>\n",
              "      <td>0.01</td>\n",
              "    </tr>\n",
              "    <tr>\n",
              "      <th>106</th>\n",
              "      <td>1.000000</td>\n",
              "      <td>1.000000</td>\n",
              "      <td>0.00</td>\n",
              "    </tr>\n",
              "  </tbody>\n",
              "</table>\n",
              "<p>107 rows × 3 columns</p>\n",
              "</div>"
            ],
            "text/plain": [
              "     False Positive Rate  True Positive Rate  Threshold\n",
              "0               0.000000            0.000000       2.00\n",
              "1               0.000385            0.062652       1.00\n",
              "2               0.000641            0.114787       0.99\n",
              "3               0.000769            0.155793       0.98\n",
              "4               0.001282            0.196037       0.97\n",
              "..                   ...                 ...        ...\n",
              "102             0.882662            0.996341       0.04\n",
              "103             0.904976            0.997104       0.03\n",
              "104             0.930239            0.998171       0.02\n",
              "105             0.954604            0.998933       0.01\n",
              "106             1.000000            1.000000       0.00\n",
              "\n",
              "[107 rows x 3 columns]"
            ]
          },
          "metadata": {
            "tags": []
          },
          "execution_count": 92
        }
      ]
    },
    {
      "cell_type": "code",
      "metadata": {
        "id": "ArMyLP0-ut6u",
        "colab_type": "code",
        "colab": {
          "base_uri": "https://localhost:8080/",
          "height": 295
        },
        "outputId": "0819c51a-4558-44e5-ed5b-6058f98098de"
      },
      "source": [
        "# See the results on a plot. \n",
        "# This is the \"Receiver Operating Characteristic\" curve\n",
        "plt.scatter(fpr, tpr)\n",
        "plt.title('ROC curve')\n",
        "plt.xlabel('False Positive Rate')\n",
        "plt.ylabel('True Positive Rate');"
      ],
      "execution_count": 93,
      "outputs": [
        {
          "output_type": "display_data",
          "data": {
            "image/png": "[encoded data removed]",
            "text/plain": [
              "<Figure size 432x288 with 1 Axes>"
            ]
          },
          "metadata": {
            "tags": [],
            "needs_background": "light"
          }
        }
      ]
    },
    {
      "cell_type": "code",
      "metadata": {
        "id": "qRKbdRcNut6w",
        "colab_type": "code",
        "colab": {
          "base_uri": "https://localhost:8080/",
          "height": 34
        },
        "outputId": "a1b51b64-4192-4066-8af0-fcb4d676ca0e"
      },
      "source": [
        "# Use scikit-learn to calculate the area under the curve.\n",
        "from sklearn.metrics import roc_auc_score\n",
        "roc_auc_score(y_val, y_pred_proba)"
      ],
      "execution_count": 94,
      "outputs": [
        {
          "output_type": "execute_result",
          "data": {
            "text/plain": [
              "0.9024268359147749"
            ]
          },
          "metadata": {
            "tags": []
          },
          "execution_count": 94
        }
      ]
    },
    {
      "cell_type": "markdown",
      "metadata": {
        "id": "4lEXCSNdut60",
        "colab_type": "text"
      },
      "source": [
        "**Recap:** ROC AUC measures how well a classifier ranks predicted probabilities. So, when you get your classifier’s ROC AUC score, you need to use predicted probabilities, not discrete predictions. \n",
        "\n",
        "Your code may look something like this:\n",
        "\n",
        "```python\n",
        "from sklearn.metrics import roc_auc_score\n",
        "y_pred_proba = model.predict_proba(X_test_transformed)[:, -1] # Probability for last class\n",
        "print('Test ROC AUC:', roc_auc_score(y_test, y_pred_proba))\n",
        "```\n",
        "\n",
        "ROC AUC ranges from 0 to 1. Higher is better. A naive majority class baseline will have an ROC AUC score of 0.5."
      ]
    }
  ]
}