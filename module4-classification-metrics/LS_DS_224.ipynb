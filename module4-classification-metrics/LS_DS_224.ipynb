{
  "nbformat": 4,
  "nbformat_minor": 0,
  "metadata": {
    "kernelspec": {
      "display_name": "Python 3",
      "language": "python",
      "name": "python3"
    },
    "language_info": {
      "codemirror_mode": {
        "name": "ipython",
        "version": 3
      },
      "file_extension": ".py",
      "mimetype": "text/x-python",
      "name": "python",
      "nbconvert_exporter": "python",
      "pygments_lexer": "ipython3",
      "version": "3.7.6"
    },
    "colab": {
      "name": "LS_DS_224.ipynb",
      "provenance": []
    },
    "widgets": {
      "application/vnd.jupyter.widget-state+json": {
        "1921b99cab5f402c8dfb112c759c0c4d": {
          "model_module": "@jupyter-widgets/controls",
          "model_name": "VBoxModel",
          "state": {
            "_view_name": "VBoxView",
            "_dom_classes": [
              "widget-interact"
            ],
            "_model_name": "VBoxModel",
            "_view_module": "@jupyter-widgets/controls",
            "_model_module_version": "1.5.0",
            "_view_count": null,
            "_view_module_version": "1.5.0",
            "box_style": "",
            "layout": "IPY_MODEL_ae272fad42954c16a6d6ece6890f2a22",
            "_model_module": "@jupyter-widgets/controls",
            "children": [
              "IPY_MODEL_2dba1f5d3fad40a89e73d581c41c8a60",
              "IPY_MODEL_4cb17b4a886b4b86afbc5f2bb4d8566e"
            ]
          }
        },
        "ae272fad42954c16a6d6ece6890f2a22": {
          "model_module": "@jupyter-widgets/base",
          "model_name": "LayoutModel",
          "state": {
            "_view_name": "LayoutView",
            "grid_template_rows": null,
            "right": null,
            "justify_content": null,
            "_view_module": "@jupyter-widgets/base",
            "overflow": null,
            "_model_module_version": "1.2.0",
            "_view_count": null,
            "flex_flow": null,
            "width": null,
            "min_width": null,
            "border": null,
            "align_items": null,
            "bottom": null,
            "_model_module": "@jupyter-widgets/base",
            "top": null,
            "grid_column": null,
            "overflow_y": null,
            "overflow_x": null,
            "grid_auto_flow": null,
            "grid_area": null,
            "grid_template_columns": null,
            "flex": null,
            "_model_name": "LayoutModel",
            "justify_items": null,
            "grid_row": null,
            "max_height": null,
            "align_content": null,
            "visibility": null,
            "align_self": null,
            "height": null,
            "min_height": null,
            "padding": null,
            "grid_auto_rows": null,
            "grid_gap": null,
            "max_width": null,
            "order": null,
            "_view_module_version": "1.2.0",
            "grid_template_areas": null,
            "object_position": null,
            "object_fit": null,
            "grid_auto_columns": null,
            "margin": null,
            "display": null,
            "left": null
          }
        },
        "2dba1f5d3fad40a89e73d581c41c8a60": {
          "model_module": "@jupyter-widgets/controls",
          "model_name": "FloatSliderModel",
          "state": {
            "_view_name": "FloatSliderView",
            "style": "IPY_MODEL_fe8e0e9a9f0e421aa67e22d998dd5c9a",
            "_dom_classes": [],
            "description": "threshold",
            "step": 0.02,
            "_model_name": "FloatSliderModel",
            "orientation": "horizontal",
            "max": 1,
            "_view_module": "@jupyter-widgets/controls",
            "_model_module_version": "1.5.0",
            "value": 0.8,
            "_view_count": null,
            "disabled": false,
            "_view_module_version": "1.5.0",
            "min": 0,
            "continuous_update": true,
            "readout_format": ".2f",
            "description_tooltip": null,
            "readout": true,
            "_model_module": "@jupyter-widgets/controls",
            "layout": "IPY_MODEL_6e768ec6284a4943a9a5303ae3225a42"
          }
        },
        "4cb17b4a886b4b86afbc5f2bb4d8566e": {
          "model_module": "@jupyter-widgets/output",
          "model_name": "OutputModel",
          "state": {
            "_view_name": "OutputView",
            "msg_id": "",
            "_dom_classes": [],
            "_model_name": "OutputModel",
            "outputs": [
              {
                "output_type": "display_data",
                "metadata": {
                  "tags": []
                },
                "image/png": "iVBORw0KGgoAAAANSUhEUgAAAXgAAAD4CAYAAADmWv3KAAAABHNCSVQICAgIfAhkiAAAAAlwSFlz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\nVRjNZrgC2QAAAABJRU5ErkJggg==\n",
                "text/plain": "<Figure size 432x288 with 1 Axes>"
              },
              {
                "output_type": "stream",
                "metadata": {
                  "tags": []
                },
                "text": "              precision    recall  f1-score   support\n\n       False       0.70      0.99      0.82      7798\n        True       0.97      0.50      0.66      6560\n\n    accuracy                           0.76     14358\n   macro avg       0.83      0.74      0.74     14358\nweighted avg       0.82      0.76      0.74     14358\n\n",
                "stream": "stdout"
              },
              {
                "output_type": "display_data",
                "metadata": {
                  "tags": []
                },
                "image/png": "iVBORw0KGgoAAAANSUhEUgAAAWYAAAD4CAYAAADfPUyRAAAABHNCSVQICAgIfAhkiAAAAAlwSFlz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\n",
                "text/plain": "<Figure size 432x288 with 2 Axes>"
              }
            ],
            "_view_module": "@jupyter-widgets/output",
            "_model_module_version": "1.0.0",
            "_view_count": null,
            "_view_module_version": "1.0.0",
            "layout": "IPY_MODEL_96f1747cccfb404fad2164e41383a12d",
            "_model_module": "@jupyter-widgets/output"
          }
        },
        "fe8e0e9a9f0e421aa67e22d998dd5c9a": {
          "model_module": "@jupyter-widgets/controls",
          "model_name": "SliderStyleModel",
          "state": {
            "_view_name": "StyleView",
            "handle_color": null,
            "_model_name": "SliderStyleModel",
            "description_width": "",
            "_view_module": "@jupyter-widgets/base",
            "_model_module_version": "1.5.0",
            "_view_count": null,
            "_view_module_version": "1.2.0",
            "_model_module": "@jupyter-widgets/controls"
          }
        },
        "6e768ec6284a4943a9a5303ae3225a42": {
          "model_module": "@jupyter-widgets/base",
          "model_name": "LayoutModel",
          "state": {
            "_view_name": "LayoutView",
            "grid_template_rows": null,
            "right": null,
            "justify_content": null,
            "_view_module": "@jupyter-widgets/base",
            "overflow": null,
            "_model_module_version": "1.2.0",
            "_view_count": null,
            "flex_flow": null,
            "width": null,
            "min_width": null,
            "border": null,
            "align_items": null,
            "bottom": null,
            "_model_module": "@jupyter-widgets/base",
            "top": null,
            "grid_column": null,
            "overflow_y": null,
            "overflow_x": null,
            "grid_auto_flow": null,
            "grid_area": null,
            "grid_template_columns": null,
            "flex": null,
            "_model_name": "LayoutModel",
            "justify_items": null,
            "grid_row": null,
            "max_height": null,
            "align_content": null,
            "visibility": null,
            "align_self": null,
            "height": null,
            "min_height": null,
            "padding": null,
            "grid_auto_rows": null,
            "grid_gap": null,
            "max_width": null,
            "order": null,
            "_view_module_version": "1.2.0",
            "grid_template_areas": null,
            "object_position": null,
            "object_fit": null,
            "grid_auto_columns": null,
            "margin": null,
            "display": null,
            "left": null
          }
        }
      }
    }
  },
  "cells": [
    {
      "cell_type": "markdown",
      "metadata": {
        "colab_type": "text",
        "id": "EZyiOteN16cD"
      },
      "source": [
        "Lambda School Data Science\n",
        "\n",
        "*Unit 2, Sprint 2, Module 4*\n",
        "\n",
        "---"
      ]
    },
    {
      "cell_type": "markdown",
      "metadata": {
        "colab_type": "text",
        "id": "KMI2k-oBsS08"
      },
      "source": [
        "# Classification Metrics\n",
        "\n",
        "- get and interpret the **confusion matrix** for classification models\n",
        "- use classification metrics: **precision, recall**\n",
        "- understand the relationships between precision, recall, **thresholds, and predicted probabilities**, to help **make decisions and allocate budgets**\n",
        "- Get **ROC AUC** (Receiver Operating Characteristic, Area Under the Curve)"
      ]
    },
    {
      "cell_type": "markdown",
      "metadata": {
        "colab_type": "text",
        "id": "rU7RuVcjWdcp"
      },
      "source": [
        "### Setup\n",
        "\n",
        "Run the code cell below. You can work locally (follow the [local setup instructions](https://lambdaschool.github.io/ds/unit2/local/)) or on Colab.\n",
        "\n",
        "Libraries\n",
        "\n",
        "- category_encoders\n",
        "- ipywidgets\n",
        "- matplotlib\n",
        "- numpy\n",
        "- pandas\n",
        "- scikit-learn\n",
        "- seaborn"
      ]
    },
    {
      "cell_type": "code",
      "metadata": {
        "colab_type": "code",
        "id": "OpFoag9QoTgA",
        "colab": {}
      },
      "source": [
        "%%capture\n",
        "import sys\n",
        "\n",
        "# If you're on Colab:\n",
        "if 'google.colab' in sys.modules:\n",
        "    DATA_PATH = 'https://raw.githubusercontent.com/LambdaSchool/DS-Unit-2-Kaggle-Challenge/master/data/'\n",
        "    !pip install category_encoders==2.*\n",
        "\n",
        "# If you're working locally:\n",
        "else:\n",
        "    DATA_PATH = '../data/'"
      ],
      "execution_count": 0,
      "outputs": []
    },
    {
      "cell_type": "markdown",
      "metadata": {
        "colab_type": "text",
        "id": "EfhziD2Wn_iO"
      },
      "source": [
        "# Get and interpret the confusion matrix for classification models"
      ]
    },
    {
      "cell_type": "markdown",
      "metadata": {
        "id": "KN8jFEn1ogOo",
        "colab_type": "text"
      },
      "source": [
        "## Overview"
      ]
    },
    {
      "cell_type": "markdown",
      "metadata": {
        "colab_type": "text",
        "id": "xZNCHldPn_iL"
      },
      "source": [
        "First, load the Tanzania Waterpumps data and fit a model. (This code isn't new, we've seen it all before.)"
      ]
    },
    {
      "cell_type": "code",
      "metadata": {
        "colab_type": "code",
        "id": "t8Cjxzrwn_iL",
        "outputId": "b12b81a8-fd14-4ecf-cbfc-402368e45d1e",
        "colab": {
          "base_uri": "https://localhost:8080/",
          "height": 34
        }
      },
      "source": [
        "%matplotlib inline\n",
        "import category_encoders as ce\n",
        "import matplotlib.pyplot as plt\n",
        "import numpy as np\n",
        "import pandas as pd\n",
        "import seaborn as sns\n",
        "from sklearn.impute import SimpleImputer\n",
        "from sklearn.metrics import accuracy_score\n",
        "from sklearn.model_selection import train_test_split\n",
        "from sklearn.pipeline import make_pipeline\n",
        "from sklearn.ensemble import RandomForestClassifier\n",
        "\n",
        "def wrangle(X):\n",
        "    \"\"\"Wrangles train, validate, and test sets in the same way\"\"\"\n",
        "    X = X.copy()\n",
        "\n",
        "    # Convert date_recorded to datetime\n",
        "    X['date_recorded'] = pd.to_datetime(X['date_recorded'], infer_datetime_format=True)\n",
        "    \n",
        "    # Extract components from date_recorded, then drop the original column\n",
        "    X['year_recorded'] = X['date_recorded'].dt.year\n",
        "    X['month_recorded'] = X['date_recorded'].dt.month\n",
        "    X['day_recorded'] = X['date_recorded'].dt.day\n",
        "    X = X.drop(columns='date_recorded')\n",
        "    \n",
        "    # Engineer feature: how many years from construction_year to date_recorded\n",
        "    X['years'] = X['year_recorded'] - X['construction_year']    \n",
        "    \n",
        "    # Drop recorded_by (never varies) and id (always varies, random)\n",
        "    unusable_variance = ['recorded_by', 'id']\n",
        "    X = X.drop(columns=unusable_variance)\n",
        "    \n",
        "    # Drop duplicate columns\n",
        "    duplicate_columns = ['quantity_group']\n",
        "    X = X.drop(columns=duplicate_columns)\n",
        "    \n",
        "    # About 3% of the time, latitude has small values near zero,\n",
        "    # outside Tanzania, so we'll treat these like null values\n",
        "    X['latitude'] = X['latitude'].replace(-2e-08, np.nan)\n",
        "    \n",
        "    # When columns have zeros and shouldn't, they are like null values\n",
        "    cols_with_zeros = ['construction_year', 'longitude', 'latitude', 'gps_height', 'population']\n",
        "    for col in cols_with_zeros:\n",
        "        X[col] = X[col].replace(0, np.nan)\n",
        "        \n",
        "    return X\n",
        "\n",
        "\n",
        "# Merge train_features.csv & train_labels.csv\n",
        "train = pd.merge(pd.read_csv(DATA_PATH+'waterpumps/train_features.csv'), \n",
        "                 pd.read_csv(DATA_PATH+'waterpumps/train_labels.csv'))\n",
        "\n",
        "# Read test_features.csv & sample_submission.csv\n",
        "test = pd.read_csv(DATA_PATH+'waterpumps/test_features.csv')\n",
        "sample_submission = pd.read_csv(DATA_PATH+'waterpumps/sample_submission.csv')\n",
        "\n",
        "# Split train into train & val. Make val the same size as test.\n",
        "target = 'status_group'\n",
        "train, val = train_test_split(train, test_size=len(test),  \n",
        "                              stratify=train[target], random_state=42)\n",
        "\n",
        "# Wrangle train, validate, and test sets in the same way\n",
        "train = wrangle(train)\n",
        "val = wrangle(val)\n",
        "test = wrangle(test)\n",
        "\n",
        "# Arrange data into X features matrix and y target vector\n",
        "X_train = train.drop(columns=target)\n",
        "y_train = train[target]\n",
        "X_val = val.drop(columns=target)\n",
        "y_val = val[target]\n",
        "X_test = test\n",
        "\n",
        "# Make pipeline!\n",
        "pipeline = make_pipeline(\n",
        "    ce.OrdinalEncoder(), \n",
        "    SimpleImputer(strategy='mean'), \n",
        "    RandomForestClassifier(n_estimators=100, random_state=42, n_jobs=-1)\n",
        ")\n",
        "\n",
        "# Fit on train, score on val\n",
        "pipeline.fit(X_train, y_train)\n",
        "y_pred = pipeline.predict(X_val)\n",
        "print('Validation Accuracy', accuracy_score(y_val, y_pred))"
      ],
      "execution_count": 2,
      "outputs": [
        {
          "output_type": "stream",
          "text": [
            "Validation Accuracy 0.8140409527789386\n"
          ],
          "name": "stdout"
        }
      ]
    },
    {
      "cell_type": "markdown",
      "metadata": {
        "id": "wbDr13r2ogOt",
        "colab_type": "text"
      },
      "source": [
        "## Follow Along\n",
        "\n",
        "Scikit-learn added a [**`plot_confusion_matrix`**](https://scikit-learn.org/stable/modules/generated/sklearn.metrics.plot_confusion_matrix.html) function in version 0.22!"
      ]
    },
    {
      "cell_type": "code",
      "metadata": {
        "colab_type": "code",
        "id": "2MSWehj9n_iO",
        "outputId": "5bffcdf3-2de9-4d2c-e9dd-f054a7da42e5",
        "colab": {
          "base_uri": "https://localhost:8080/",
          "height": 389
        }
      },
      "source": [
        "from sklearn.metrics import plot_confusion_matrix\n",
        "\n",
        "plot_confusion_matrix(pipeline, X_val, y_val, xticks_rotation=90, \n",
        "                      values_format='.0f');"
      ],
      "execution_count": 9,
      "outputs": [
        {
          "output_type": "display_data",
          "data": {
            "image/png": "[encoded data removed]",
            "text/plain": [
              "<Figure size 432x288 with 2 Axes>"
            ]
          },
          "metadata": {
            "tags": []
          }
        }
      ]
    },
    {
      "cell_type": "markdown",
      "metadata": {
        "colab_type": "text",
        "id": "fP6FGBGUn_iQ"
      },
      "source": [
        "#### How many correct predictions were made?"
      ]
    },
    {
      "cell_type": "code",
      "metadata": {
        "colab_type": "code",
        "id": "wRSaYRPWn_iR",
        "outputId": "7e4e8c03-d1d7-450c-ef66-d94b269f790f",
        "colab": {
          "base_uri": "https://localhost:8080/",
          "height": 34
        }
      },
      "source": [
        "correct_predictions = 7005 + 332 + 4351\n",
        "correct_predictions"
      ],
      "execution_count": 10,
      "outputs": [
        {
          "output_type": "execute_result",
          "data": {
            "text/plain": [
              "11688"
            ]
          },
          "metadata": {
            "tags": []
          },
          "execution_count": 10
        }
      ]
    },
    {
      "cell_type": "markdown",
      "metadata": {
        "colab_type": "text",
        "id": "-q-3R7Ean_iT"
      },
      "source": [
        "#### How many total predictions were made?"
      ]
    },
    {
      "cell_type": "code",
      "metadata": {
        "colab_type": "code",
        "id": "vLAQL05fn_iT",
        "outputId": "25abb39f-68f5-430e-9402-cab234321929",
        "colab": {
          "base_uri": "https://localhost:8080/",
          "height": 34
        }
      },
      "source": [
        "total_predictions = len(val)\n",
        "total_predictions"
      ],
      "execution_count": 12,
      "outputs": [
        {
          "output_type": "execute_result",
          "data": {
            "text/plain": [
              "14358"
            ]
          },
          "metadata": {
            "tags": []
          },
          "execution_count": 12
        }
      ]
    },
    {
      "cell_type": "markdown",
      "metadata": {
        "colab_type": "text",
        "id": "K1yQ_jYPn_iV"
      },
      "source": [
        "#### What was the classification accuracy?"
      ]
    },
    {
      "cell_type": "code",
      "metadata": {
        "colab_type": "code",
        "id": "fskAC6SYn_iW",
        "outputId": "2b16df6b-fa77-4ddd-9f33-bcd943edeebe",
        "colab": {
          "base_uri": "https://localhost:8080/",
          "height": 34
        }
      },
      "source": [
        "correct_predictions / total_predictions"
      ],
      "execution_count": 13,
      "outputs": [
        {
          "output_type": "execute_result",
          "data": {
            "text/plain": [
              "0.8140409527789386"
            ]
          },
          "metadata": {
            "tags": []
          },
          "execution_count": 13
        }
      ]
    },
    {
      "cell_type": "code",
      "metadata": {
        "id": "1rtkhx8Vr0Pc",
        "colab_type": "code",
        "colab": {
          "base_uri": "https://localhost:8080/",
          "height": 34
        },
        "outputId": "742b3390-ea48-4a93-a698-2f7b51c444d0"
      },
      "source": [
        "accuracy_score(y_val, y_pred)"
      ],
      "execution_count": 14,
      "outputs": [
        {
          "output_type": "execute_result",
          "data": {
            "text/plain": [
              "0.8140409527789386"
            ]
          },
          "metadata": {
            "tags": []
          },
          "execution_count": 14
        }
      ]
    },
    {
      "cell_type": "code",
      "metadata": {
        "id": "Q22CCyFnr53p",
        "colab_type": "code",
        "colab": {
          "base_uri": "https://localhost:8080/",
          "height": 34
        },
        "outputId": "719ab05f-1ef1-4f1f-a280-e2924765f90d"
      },
      "source": [
        "sum(y_pred == y_val)"
      ],
      "execution_count": 15,
      "outputs": [
        {
          "output_type": "execute_result",
          "data": {
            "text/plain": [
              "11688"
            ]
          },
          "metadata": {
            "tags": []
          },
          "execution_count": 15
        }
      ]
    },
    {
      "cell_type": "code",
      "metadata": {
        "id": "wZDETIlAr9nX",
        "colab_type": "code",
        "colab": {
          "base_uri": "https://localhost:8080/",
          "height": 34
        },
        "outputId": "a624c972-063b-4ee8-b3fb-79a885ac26f7"
      },
      "source": [
        "sum(y_pred == y_val) / len(y_val)"
      ],
      "execution_count": 16,
      "outputs": [
        {
          "output_type": "execute_result",
          "data": {
            "text/plain": [
              "0.8140409527789386"
            ]
          },
          "metadata": {
            "tags": []
          },
          "execution_count": 16
        }
      ]
    },
    {
      "cell_type": "markdown",
      "metadata": {
        "colab_type": "text",
        "id": "EqFgEm3tn_iY"
      },
      "source": [
        "# Use classification metrics: precision, recall"
      ]
    },
    {
      "cell_type": "markdown",
      "metadata": {
        "id": "CIBdFC1HogO8",
        "colab_type": "text"
      },
      "source": [
        "## Overview\n",
        "\n",
        "[Scikit-Learn User Guide — Classification Report](https://scikit-learn.org/stable/modules/model_evaluation.html#classification-report)"
      ]
    },
    {
      "cell_type": "code",
      "metadata": {
        "colab_type": "code",
        "id": "mGv7OLL4n_iY",
        "outputId": "48e4c615-dfd5-4fae-94e6-af34cc898748",
        "colab": {
          "base_uri": "https://localhost:8080/",
          "height": 187
        }
      },
      "source": [
        "from sklearn.metrics import classification_report\n",
        "print(classification_report(y_val, y_pred))"
      ],
      "execution_count": 19,
      "outputs": [
        {
          "output_type": "stream",
          "text": [
            "                         precision    recall  f1-score   support\n",
            "\n",
            "             functional       0.81      0.90      0.85      7798\n",
            "functional needs repair       0.58      0.32      0.41      1043\n",
            "         non functional       0.85      0.79      0.82      5517\n",
            "\n",
            "               accuracy                           0.81     14358\n",
            "              macro avg       0.75      0.67      0.69     14358\n",
            "           weighted avg       0.81      0.81      0.81     14358\n",
            "\n"
          ],
          "name": "stdout"
        }
      ]
    },
    {
      "cell_type": "markdown",
      "metadata": {
        "colab_type": "text",
        "id": "Z1U7HdC6n_ia"
      },
      "source": [
        "#### Wikipedia, [Precision and recall](https://en.wikipedia.org/wiki/Precision_and_recall)\n",
        "\n",
        "> Both precision and recall are based on an understanding and measure of relevance.\n",
        "\n",
        "> Suppose a computer program for recognizing dogs in photographs identifies 8 dogs in a picture containing 12 dogs and some cats. Of the 8 identified as dogs, 5 actually are dogs (true positives), while the rest are cats (false positives). The program's precision is 5/8 while its recall is 5/12.\n",
        "\n",
        "> High precision means that an algorithm returned substantially more relevant results than irrelevant ones, while high recall means that an algorithm returned most of the relevant results.\n",
        "\n",
        "<img src=\"https://upload.wikimedia.org/wikipedia/commons/thumb/2/26/Precisionrecall.svg/700px-Precisionrecall.svg.png\" width=\"400\">"
      ]
    },
    {
      "cell_type": "markdown",
      "metadata": {
        "id": "4GNsZN8nogPB",
        "colab_type": "text"
      },
      "source": [
        "## Follow Along"
      ]
    },
    {
      "cell_type": "markdown",
      "metadata": {
        "colab_type": "text",
        "id": "50R-Xhwdn_ie"
      },
      "source": [
        "#### [We can get precision & recall from the confusion matrix](https://en.wikipedia.org/wiki/Precision_and_recall#Definition_(classification_context))"
      ]
    },
    {
      "cell_type": "code",
      "metadata": {
        "colab_type": "code",
        "id": "eIta6Vwsn_if",
        "outputId": "e4011be3-62ef-46af-9700-0f2dce77ca3f",
        "colab": {
          "base_uri": "https://localhost:8080/",
          "height": 389
        }
      },
      "source": [
        "cm = plot_confusion_matrix(pipeline, X_val, y_val, values_format='.0f', xticks_rotation='vertical')\n",
        "cm;"
      ],
      "execution_count": 20,
      "outputs": [
        {
          "output_type": "display_data",
          "data": {
            "image/png": "[encoded data removed]",
            "text/plain": [
              "<Figure size 432x288 with 2 Axes>"
            ]
          },
          "metadata": {
            "tags": []
          }
        }
      ]
    },
    {
      "cell_type": "markdown",
      "metadata": {
        "colab_type": "text",
        "id": "iY2rfzA4n_ih"
      },
      "source": [
        "#### How many correct predictions of \"non functional\"?"
      ]
    },
    {
      "cell_type": "code",
      "metadata": {
        "colab_type": "code",
        "id": "O-anLkCin_ii",
        "colab": {}
      },
      "source": [
        "correct_predictions_nonfunctional = 4351"
      ],
      "execution_count": 0,
      "outputs": []
    },
    {
      "cell_type": "markdown",
      "metadata": {
        "colab_type": "text",
        "id": "pYM6f99cn_ij"
      },
      "source": [
        "#### How many total predictions of \"non functional\"?"
      ]
    },
    {
      "cell_type": "code",
      "metadata": {
        "colab_type": "code",
        "id": "_qCiA8j2n_ik",
        "colab": {}
      },
      "source": [
        "total_predictions_nonfunctional = 4351 + 156 + 622"
      ],
      "execution_count": 0,
      "outputs": []
    },
    {
      "cell_type": "markdown",
      "metadata": {
        "colab_type": "text",
        "id": "mXNuZ_Rnn_il"
      },
      "source": [
        "#### What's the precision for \"non functional\"?"
      ]
    },
    {
      "cell_type": "code",
      "metadata": {
        "colab_type": "code",
        "id": "X1f7VsyXn_im",
        "outputId": "4e382061-98e8-4c1b-9f2b-a1ec0ac69786",
        "colab": {
          "base_uri": "https://localhost:8080/",
          "height": 34
        }
      },
      "source": [
        "correct_predictions_nonfunctional / total_predictions_nonfunctional"
      ],
      "execution_count": 23,
      "outputs": [
        {
          "output_type": "execute_result",
          "data": {
            "text/plain": [
              "0.8483135114057321"
            ]
          },
          "metadata": {
            "tags": []
          },
          "execution_count": 23
        }
      ]
    },
    {
      "cell_type": "code",
      "metadata": {
        "id": "6bTKOZVltdZx",
        "colab_type": "code",
        "colab": {
          "base_uri": "https://localhost:8080/",
          "height": 187
        },
        "outputId": "f918be69-f5aa-4e76-d6a4-595eb1743770"
      },
      "source": [
        "print(classification_report(y_val, y_pred))"
      ],
      "execution_count": 24,
      "outputs": [
        {
          "output_type": "stream",
          "text": [
            "                         precision    recall  f1-score   support\n",
            "\n",
            "             functional       0.81      0.90      0.85      7798\n",
            "functional needs repair       0.58      0.32      0.41      1043\n",
            "         non functional       0.85      0.79      0.82      5517\n",
            "\n",
            "               accuracy                           0.81     14358\n",
            "              macro avg       0.75      0.67      0.69     14358\n",
            "           weighted avg       0.81      0.81      0.81     14358\n",
            "\n"
          ],
          "name": "stdout"
        }
      ]
    },
    {
      "cell_type": "markdown",
      "metadata": {
        "colab_type": "text",
        "id": "ci4QguAkn_in"
      },
      "source": [
        "#### How many actual \"non functional\" waterpumps?"
      ]
    },
    {
      "cell_type": "code",
      "metadata": {
        "colab_type": "code",
        "id": "FlqxNhlYn_io",
        "colab": {}
      },
      "source": [
        "actual_nonfunctional = 1098 + 68 + 4351"
      ],
      "execution_count": 0,
      "outputs": []
    },
    {
      "cell_type": "markdown",
      "metadata": {
        "colab_type": "text",
        "id": "9IY-vC-hn_iq"
      },
      "source": [
        "#### What's the recall for \"non functional\"?"
      ]
    },
    {
      "cell_type": "code",
      "metadata": {
        "colab_type": "code",
        "id": "4U3v8lPP4KbP",
        "outputId": "e0a2beb2-b130-4099-ebea-a78d252695e8",
        "colab": {
          "base_uri": "https://localhost:8080/",
          "height": 34
        }
      },
      "source": [
        "correct_predictions_nonfunctional / actual_nonfunctional"
      ],
      "execution_count": 26,
      "outputs": [
        {
          "output_type": "execute_result",
          "data": {
            "text/plain": [
              "0.7886532535798442"
            ]
          },
          "metadata": {
            "tags": []
          },
          "execution_count": 26
        }
      ]
    },
    {
      "cell_type": "markdown",
      "metadata": {
        "colab_type": "text",
        "id": "ObVED_ugn_is"
      },
      "source": [
        "# Understand the relationships between precision, recall, thresholds, and predicted probabilities, to help make decisions and allocate budgets"
      ]
    },
    {
      "cell_type": "markdown",
      "metadata": {
        "id": "AOyhCdPWogPm",
        "colab_type": "text"
      },
      "source": [
        "## Overview"
      ]
    },
    {
      "cell_type": "markdown",
      "metadata": {
        "colab_type": "text",
        "id": "kBcQQJ2kn_is"
      },
      "source": [
        "### Imagine this scenario...\n",
        "\n",
        "Suppose there are over 14,000 waterpumps that you _do_ have some information about, but you _don't_ know whether they are currently functional, or functional but need repair, or non-functional."
      ]
    },
    {
      "cell_type": "code",
      "metadata": {
        "colab_type": "code",
        "id": "jEEy86CHn_it",
        "outputId": "d70ea041-7ba3-401e-c713-4c005b2232c4",
        "colab": {
          "base_uri": "https://localhost:8080/",
          "height": 34
        }
      },
      "source": [
        "len(test)"
      ],
      "execution_count": 27,
      "outputs": [
        {
          "output_type": "execute_result",
          "data": {
            "text/plain": [
              "14358"
            ]
          },
          "metadata": {
            "tags": []
          },
          "execution_count": 27
        }
      ]
    },
    {
      "cell_type": "markdown",
      "metadata": {
        "colab_type": "text",
        "id": "3az2llAAn_iu"
      },
      "source": [
        "**You have the time and resources to go to just 2,000 waterpumps for proactive maintenance.** You want to predict, which 2,000 are most likely non-functional or in need of repair, to help you triage and prioritize your waterpump inspections.\n",
        "\n",
        "You have historical inspection data for over 59,000 other waterpumps, which you'll use to fit your predictive model."
      ]
    },
    {
      "cell_type": "code",
      "metadata": {
        "colab_type": "code",
        "id": "pEWc2zt2n_iv",
        "outputId": "ea0590ce-afcf-4fee-8231-104ccde2a330",
        "colab": {
          "base_uri": "https://localhost:8080/",
          "height": 34
        }
      },
      "source": [
        "len(train) + len(val)"
      ],
      "execution_count": 28,
      "outputs": [
        {
          "output_type": "execute_result",
          "data": {
            "text/plain": [
              "59400"
            ]
          },
          "metadata": {
            "tags": []
          },
          "execution_count": 28
        }
      ]
    },
    {
      "cell_type": "markdown",
      "metadata": {
        "colab_type": "text",
        "id": "L2LiGJLin_ix"
      },
      "source": [
        "Based on this historical data, if you randomly chose waterpumps to inspect, then about 46% of the waterpumps would need repairs, and 54% would not need repairs."
      ]
    },
    {
      "cell_type": "code",
      "metadata": {
        "colab_type": "code",
        "id": "JliDXTp5n_iy",
        "outputId": "df36c647-63ef-44b6-e794-56b756bc47ca",
        "colab": {
          "base_uri": "https://localhost:8080/",
          "height": 85
        }
      },
      "source": [
        "y_train.value_counts(normalize=True)"
      ],
      "execution_count": 29,
      "outputs": [
        {
          "output_type": "execute_result",
          "data": {
            "text/plain": [
              "functional                 0.543071\n",
              "non functional             0.384241\n",
              "functional needs repair    0.072688\n",
              "Name: status_group, dtype: float64"
            ]
          },
          "metadata": {
            "tags": []
          },
          "execution_count": 29
        }
      ]
    },
    {
      "cell_type": "code",
      "metadata": {
        "colab_type": "code",
        "id": "0dP7fjQJeQEX",
        "outputId": "87fc6282-61fd-4afb-ecb4-4cccd4a32931",
        "colab": {
          "base_uri": "https://localhost:8080/",
          "height": 34
        }
      },
      "source": [
        "2000 * 0.46"
      ],
      "execution_count": 30,
      "outputs": [
        {
          "output_type": "execute_result",
          "data": {
            "text/plain": [
              "920.0"
            ]
          },
          "metadata": {
            "tags": []
          },
          "execution_count": 30
        }
      ]
    },
    {
      "cell_type": "markdown",
      "metadata": {
        "colab_type": "text",
        "id": "dLnJ7Fnan_i1"
      },
      "source": [
        "**Can you do better than random at prioritizing inspections?**"
      ]
    },
    {
      "cell_type": "markdown",
      "metadata": {
        "colab_type": "text",
        "id": "sIh2Xj8fn_i3"
      },
      "source": [
        "In this scenario, we should define our target differently. We want to identify which waterpumps are non-functional _or_ are functional but needs repair:"
      ]
    },
    {
      "cell_type": "code",
      "metadata": {
        "colab_type": "code",
        "id": "7naqusI0n_i4",
        "outputId": "9a3420a5-967e-4116-c5a7-4d9e3aebfac0",
        "colab": {
          "base_uri": "https://localhost:8080/",
          "height": 68
        }
      },
      "source": [
        "y_train = y_train != 'functional'\n",
        "y_val = y_val != 'functional'\n",
        "y_train.value_counts(normalize=True)"
      ],
      "execution_count": 31,
      "outputs": [
        {
          "output_type": "execute_result",
          "data": {
            "text/plain": [
              "False    0.543071\n",
              "True     0.456929\n",
              "Name: status_group, dtype: float64"
            ]
          },
          "metadata": {
            "tags": []
          },
          "execution_count": 31
        }
      ]
    },
    {
      "cell_type": "markdown",
      "metadata": {
        "colab_type": "text",
        "id": "P1UR1t8Zn_i6"
      },
      "source": [
        "We already made our validation set the same size as our test set."
      ]
    },
    {
      "cell_type": "code",
      "metadata": {
        "colab_type": "code",
        "id": "CHHIplB7n_i8",
        "outputId": "206621de-4694-4e5e-9674-61e8f7ef08bd",
        "colab": {
          "base_uri": "https://localhost:8080/",
          "height": 34
        }
      },
      "source": [
        "len(val) == len(test)"
      ],
      "execution_count": 32,
      "outputs": [
        {
          "output_type": "execute_result",
          "data": {
            "text/plain": [
              "True"
            ]
          },
          "metadata": {
            "tags": []
          },
          "execution_count": 32
        }
      ]
    },
    {
      "cell_type": "markdown",
      "metadata": {
        "colab_type": "text",
        "id": "g41DA70rn_i9"
      },
      "source": [
        "We can refit our model, using the redefined target.\n",
        "\n",
        "Then make predictions for the validation set."
      ]
    },
    {
      "cell_type": "code",
      "metadata": {
        "colab_type": "code",
        "id": "VXL0LaXQn_i-",
        "colab": {}
      },
      "source": [
        "pipeline.fit(X_train, y_train)\n",
        "y_pred = pipeline.predict(X_val)"
      ],
      "execution_count": 0,
      "outputs": []
    },
    {
      "cell_type": "markdown",
      "metadata": {
        "id": "hWB3UlftogP9",
        "colab_type": "text"
      },
      "source": [
        "## Follow Along"
      ]
    },
    {
      "cell_type": "markdown",
      "metadata": {
        "colab_type": "text",
        "id": "qISPzM43n_jA"
      },
      "source": [
        "#### Look at the confusion matrix:"
      ]
    },
    {
      "cell_type": "code",
      "metadata": {
        "colab_type": "code",
        "id": "y72fakpmn_jB",
        "outputId": "1f8e969c-3fe9-4b22-f898-559a8bfb5b7a",
        "colab": {
          "base_uri": "https://localhost:8080/",
          "height": 296
        }
      },
      "source": [
        "plot_confusion_matrix(pipeline, X_val, y_val, values_format='.0f')"
      ],
      "execution_count": 36,
      "outputs": [
        {
          "output_type": "execute_result",
          "data": {
            "text/plain": [
              "<sklearn.metrics._plot.confusion_matrix.ConfusionMatrixDisplay at 0x7fe127d4add8>"
            ]
          },
          "metadata": {
            "tags": []
          },
          "execution_count": 36
        },
        {
          "output_type": "display_data",
          "data": {
            "image/png": "[encoded data removed]",
            "text/plain": [
              "<Figure size 432x288 with 2 Axes>"
            ]
          },
          "metadata": {
            "tags": []
          }
        }
      ]
    },
    {
      "cell_type": "markdown",
      "metadata": {
        "colab_type": "text",
        "id": "M30BXR6Rn_jC"
      },
      "source": [
        "#### How many total predictions of \"True\" (\"non functional\" or \"functional needs repair\") ?"
      ]
    },
    {
      "cell_type": "code",
      "metadata": {
        "colab_type": "code",
        "id": "4IeTJFo8n_jD",
        "outputId": "fb337bd7-e1ca-41f2-86b5-ff6965964b48",
        "colab": {
          "base_uri": "https://localhost:8080/",
          "height": 34
        }
      },
      "source": [
        "5032 + 977"
      ],
      "execution_count": 35,
      "outputs": [
        {
          "output_type": "execute_result",
          "data": {
            "text/plain": [
              "6009"
            ]
          },
          "metadata": {
            "tags": []
          },
          "execution_count": 35
        }
      ]
    },
    {
      "cell_type": "markdown",
      "metadata": {
        "colab_type": "text",
        "id": "1aZSdskSn_jF"
      },
      "source": [
        "### We don't have \"budget\" to take action on all these predictions\n",
        "\n",
        "- But we can get predicted probabilities, to rank the predictions. \n",
        "- Then change the threshold, to change the number of positive predictions, based on our budget."
      ]
    },
    {
      "cell_type": "markdown",
      "metadata": {
        "colab_type": "text",
        "id": "rXkfXDDZn_jF"
      },
      "source": [
        "### Get predicted probabilities and plot the distribution"
      ]
    },
    {
      "cell_type": "code",
      "metadata": {
        "colab_type": "code",
        "id": "jwfe7j7W_jTp",
        "outputId": "80ed4aad-2fe8-4027-fe4f-7738036f3e08",
        "colab": {
          "base_uri": "https://localhost:8080/",
          "height": 34
        }
      },
      "source": [
        "# Discrete predictions look like this...\n",
        "pipeline.predict(X_val)"
      ],
      "execution_count": 37,
      "outputs": [
        {
          "output_type": "execute_result",
          "data": {
            "text/plain": [
              "array([ True,  True, False, ..., False,  True, False])"
            ]
          },
          "metadata": {
            "tags": []
          },
          "execution_count": 37
        }
      ]
    },
    {
      "cell_type": "code",
      "metadata": {
        "id": "BO4oez-SzJaL",
        "colab_type": "code",
        "colab": {
          "base_uri": "https://localhost:8080/",
          "height": 136
        },
        "outputId": "f74acb90-ac7a-4f21-9170-1c5e8ee389a2"
      },
      "source": [
        "# Predicted probabilities look like this...\n",
        "pipeline.predict_proba(X_val)"
      ],
      "execution_count": 38,
      "outputs": [
        {
          "output_type": "execute_result",
          "data": {
            "text/plain": [
              "array([[0.  , 1.  ],\n",
              "       [0.26, 0.74],\n",
              "       [0.9 , 0.1 ],\n",
              "       ...,\n",
              "       [0.91, 0.09],\n",
              "       [0.41, 0.59],\n",
              "       [0.98, 0.02]])"
            ]
          },
          "metadata": {
            "tags": []
          },
          "execution_count": 38
        }
      ]
    },
    {
      "cell_type": "code",
      "metadata": {
        "id": "kO0qzCj0zLOT",
        "colab_type": "code",
        "colab": {
          "base_uri": "https://localhost:8080/",
          "height": 34
        },
        "outputId": "95ab7d8a-58fa-41e4-cf91-f139c30786c2"
      },
      "source": [
        "# Predicted probabilities *for the positive class* ...\n",
        "pipeline.predict_proba(X_val)[:, 1]"
      ],
      "execution_count": 39,
      "outputs": [
        {
          "output_type": "execute_result",
          "data": {
            "text/plain": [
              "array([1.  , 0.74, 0.1 , ..., 0.09, 0.59, 0.02])"
            ]
          },
          "metadata": {
            "tags": []
          },
          "execution_count": 39
        }
      ]
    },
    {
      "cell_type": "code",
      "metadata": {
        "id": "n-W9euigzNTK",
        "colab_type": "code",
        "colab": {
          "base_uri": "https://localhost:8080/",
          "height": 34
        },
        "outputId": "e2b6f89b-280e-4257-f495-59a76499a5a9"
      },
      "source": [
        "# Make predicted probabilities into discrete predictions, \n",
        "# using a \"threshold\"\n",
        "threshold = 0.5\n",
        "pipeline.predict_proba(X_val)[:, 1] > threshold"
      ],
      "execution_count": 40,
      "outputs": [
        {
          "output_type": "execute_result",
          "data": {
            "text/plain": [
              "array([ True,  True, False, ..., False,  True, False])"
            ]
          },
          "metadata": {
            "tags": []
          },
          "execution_count": 40
        }
      ]
    },
    {
      "cell_type": "code",
      "metadata": {
        "id": "Oeui4WnHzRNh",
        "colab_type": "code",
        "colab": {
          "base_uri": "https://localhost:8080/",
          "height": 265
        },
        "outputId": "d3c92bd7-59f8-4707-d9a8-5a677d662fcf"
      },
      "source": [
        "# Distribution of these predicted probabilities\n",
        "y_pred_proba = pipeline.predict_proba(X_val)[:, 1]\n",
        "sns.distplot(y_pred_proba);"
      ],
      "execution_count": 41,
      "outputs": [
        {
          "output_type": "display_data",
          "data": {
            "image/png": "[encoded data removed]",
            "text/plain": [
              "<Figure size 432x288 with 1 Axes>"
            ]
          },
          "metadata": {
            "tags": []
          }
        }
      ]
    },
    {
      "cell_type": "markdown",
      "metadata": {
        "colab_type": "text",
        "id": "eD6pRFKOn_jH"
      },
      "source": [
        "### Change the threshold"
      ]
    },
    {
      "cell_type": "code",
      "metadata": {
        "colab_type": "code",
        "id": "SjOhH0BMB55A",
        "outputId": "5cec6d87-b04d-4a8c-fb5d-c69bd8621fe8",
        "colab": {
          "base_uri": "https://localhost:8080/",
          "height": 316
        }
      },
      "source": [
        "# only predict true if we are 92% sure or more\n",
        "threshold = 0.92\n",
        "\n",
        "y_pred_proba = pipeline.predict_proba(X_val)[:, 1]\n",
        "y_pred = y_pred_proba > threshold\n",
        "\n",
        "ax = sns.distplot(y_pred_proba)\n",
        "ax.axvline(threshold, color='red')\n",
        "\n",
        "pd.Series(y_pred).value_counts()"
      ],
      "execution_count": 42,
      "outputs": [
        {
          "output_type": "execute_result",
          "data": {
            "text/plain": [
              "False    12325\n",
              "True      2033\n",
              "dtype: int64"
            ]
          },
          "metadata": {
            "tags": []
          },
          "execution_count": 42
        },
        {
          "output_type": "display_data",
          "data": {
            "image/png": "[encoded data removed]",
            "text/plain": [
              "<Figure size 432x288 with 1 Axes>"
            ]
          },
          "metadata": {
            "tags": []
          }
        }
      ]
    },
    {
      "cell_type": "code",
      "metadata": {
        "id": "T-iOEsnozjkN",
        "colab_type": "code",
        "colab": {
          "base_uri": "https://localhost:8080/",
          "height": 698,
          "referenced_widgets": [
            "1921b99cab5f402c8dfb112c759c0c4d",
            "ae272fad42954c16a6d6ece6890f2a22",
            "2dba1f5d3fad40a89e73d581c41c8a60",
            "4cb17b4a886b4b86afbc5f2bb4d8566e",
            "fe8e0e9a9f0e421aa67e22d998dd5c9a",
            "6e768ec6284a4943a9a5303ae3225a42"
          ]
        },
        "outputId": "c2699695-37fd-4021-bb59-ace50742d493"
      },
      "source": [
        "from ipywidgets import interact, fixed\n",
        "import seaborn as sns\n",
        "from sklearn.metrics import confusion_matrix\n",
        "from sklearn.utils.multiclass import unique_labels\n",
        "\n",
        "def my_confusion_matrix(y_true, y_pred):\n",
        "    labels = unique_labels(y_true)\n",
        "    columns = [f'Predicted {label}' for label in labels]\n",
        "    index = [f'Actual {label}' for label in labels]\n",
        "    table = pd.DataFrame(confusion_matrix(y_true, y_pred), \n",
        "                         columns=columns, index=index)\n",
        "    return sns.heatmap(table, annot=True, fmt='d', cmap='viridis')\n",
        "\n",
        "def set_threshold(y_true, y_pred_proba, threshold=0.5):\n",
        "    y_pred = y_pred_proba > threshold\n",
        "    ax = sns.distplot(y_pred_proba)\n",
        "    ax.axvline(threshold, color='red')\n",
        "    plt.show()\n",
        "    print(classification_report(y_true, y_pred))\n",
        "    my_confusion_matrix(y_true, y_pred)\n",
        "\n",
        "interact(set_threshold, \n",
        "         y_true=fixed(y_val), \n",
        "         y_pred_proba=fixed(y_pred_proba), \n",
        "         threshold=(0, 1, 0.02));"
      ],
      "execution_count": 43,
      "outputs": [
        {
          "output_type": "display_data",
          "data": {
            "application/vnd.jupyter.widget-view+json": {
              "model_id": "1921b99cab5f402c8dfb112c759c0c4d",
              "version_minor": 0,
              "version_major": 2
            },
            "text/plain": [
              "interactive(children=(FloatSlider(value=0.5, description='threshold', max=1.0, step=0.02), Output()), _dom_cla…"
            ]
          },
          "metadata": {
            "tags": []
          }
        }
      ]
    },
    {
      "cell_type": "markdown",
      "metadata": {
        "id": "Jw5oejC2ogQK",
        "colab_type": "text"
      },
      "source": [
        "### Or, get exactly 2,000 positive predictions"
      ]
    },
    {
      "cell_type": "markdown",
      "metadata": {
        "id": "qDhvOMjQogQM",
        "colab_type": "text"
      },
      "source": [
        "Identify the 2,000 waterpumps in the validation set with highest predicted probabilities."
      ]
    },
    {
      "cell_type": "code",
      "metadata": {
        "id": "Np3-l_nEogQM",
        "colab_type": "code",
        "colab": {
          "base_uri": "https://localhost:8080/",
          "height": 419
        },
        "outputId": "22b30564-1286-49ee-dc78-ba95dfa8aa11"
      },
      "source": [
        "results = pd.DataFrame({'y_val': y_val, 'y_pred_proba': y_pred_proba})\n",
        "results"
      ],
      "execution_count": 44,
      "outputs": [
        {
          "output_type": "execute_result",
          "data": {
            "text/html": [
              "<div>\n",
              "<style scoped>\n",
              "    .dataframe tbody tr th:only-of-type {\n",
              "        vertical-align: middle;\n",
              "    }\n",
              "\n",
              "    .dataframe tbody tr th {\n",
              "        vertical-align: top;\n",
              "    }\n",
              "\n",
              "    .dataframe thead th {\n",
              "        text-align: right;\n",
              "    }\n",
              "</style>\n",
              "<table border=\"1\" class=\"dataframe\">\n",
              "  <thead>\n",
              "    <tr style=\"text-align: right;\">\n",
              "      <th></th>\n",
              "      <th>y_val</th>\n",
              "      <th>y_pred_proba</th>\n",
              "    </tr>\n",
              "  </thead>\n",
              "  <tbody>\n",
              "    <tr>\n",
              "      <th>58046</th>\n",
              "      <td>True</td>\n",
              "      <td>1.00</td>\n",
              "    </tr>\n",
              "    <tr>\n",
              "      <th>41184</th>\n",
              "      <td>True</td>\n",
              "      <td>0.74</td>\n",
              "    </tr>\n",
              "    <tr>\n",
              "      <th>27587</th>\n",
              "      <td>False</td>\n",
              "      <td>0.10</td>\n",
              "    </tr>\n",
              "    <tr>\n",
              "      <th>53109</th>\n",
              "      <td>False</td>\n",
              "      <td>0.05</td>\n",
              "    </tr>\n",
              "    <tr>\n",
              "      <th>7245</th>\n",
              "      <td>True</td>\n",
              "      <td>0.55</td>\n",
              "    </tr>\n",
              "    <tr>\n",
              "      <th>...</th>\n",
              "      <td>...</td>\n",
              "      <td>...</td>\n",
              "    </tr>\n",
              "    <tr>\n",
              "      <th>18760</th>\n",
              "      <td>False</td>\n",
              "      <td>0.68</td>\n",
              "    </tr>\n",
              "    <tr>\n",
              "      <th>36059</th>\n",
              "      <td>True</td>\n",
              "      <td>0.88</td>\n",
              "    </tr>\n",
              "    <tr>\n",
              "      <th>4759</th>\n",
              "      <td>False</td>\n",
              "      <td>0.09</td>\n",
              "    </tr>\n",
              "    <tr>\n",
              "      <th>43621</th>\n",
              "      <td>False</td>\n",
              "      <td>0.59</td>\n",
              "    </tr>\n",
              "    <tr>\n",
              "      <th>45295</th>\n",
              "      <td>False</td>\n",
              "      <td>0.02</td>\n",
              "    </tr>\n",
              "  </tbody>\n",
              "</table>\n",
              "<p>14358 rows × 2 columns</p>\n",
              "</div>"
            ],
            "text/plain": [
              "       y_val  y_pred_proba\n",
              "58046   True          1.00\n",
              "41184   True          0.74\n",
              "27587  False          0.10\n",
              "53109  False          0.05\n",
              "7245    True          0.55\n",
              "...      ...           ...\n",
              "18760  False          0.68\n",
              "36059   True          0.88\n",
              "4759   False          0.09\n",
              "43621  False          0.59\n",
              "45295  False          0.02\n",
              "\n",
              "[14358 rows x 2 columns]"
            ]
          },
          "metadata": {
            "tags": []
          },
          "execution_count": 44
        }
      ]
    },
    {
      "cell_type": "code",
      "metadata": {
        "id": "tvSXNs2W3DVh",
        "colab_type": "code",
        "colab": {
          "base_uri": "https://localhost:8080/",
          "height": 419
        },
        "outputId": "590a53c6-f23b-44ff-d11a-64c83c47e28c"
      },
      "source": [
        "top2000 = results.sort_values(by='y_pred_proba', ascending=False)[:2000]\n",
        "top2000"
      ],
      "execution_count": 46,
      "outputs": [
        {
          "output_type": "execute_result",
          "data": {
            "text/html": [
              "<div>\n",
              "<style scoped>\n",
              "    .dataframe tbody tr th:only-of-type {\n",
              "        vertical-align: middle;\n",
              "    }\n",
              "\n",
              "    .dataframe tbody tr th {\n",
              "        vertical-align: top;\n",
              "    }\n",
              "\n",
              "    .dataframe thead th {\n",
              "        text-align: right;\n",
              "    }\n",
              "</style>\n",
              "<table border=\"1\" class=\"dataframe\">\n",
              "  <thead>\n",
              "    <tr style=\"text-align: right;\">\n",
              "      <th></th>\n",
              "      <th>y_val</th>\n",
              "      <th>y_pred_proba</th>\n",
              "    </tr>\n",
              "  </thead>\n",
              "  <tbody>\n",
              "    <tr>\n",
              "      <th>58046</th>\n",
              "      <td>True</td>\n",
              "      <td>1.00</td>\n",
              "    </tr>\n",
              "    <tr>\n",
              "      <th>6288</th>\n",
              "      <td>True</td>\n",
              "      <td>1.00</td>\n",
              "    </tr>\n",
              "    <tr>\n",
              "      <th>27470</th>\n",
              "      <td>True</td>\n",
              "      <td>1.00</td>\n",
              "    </tr>\n",
              "    <tr>\n",
              "      <th>41452</th>\n",
              "      <td>True</td>\n",
              "      <td>1.00</td>\n",
              "    </tr>\n",
              "    <tr>\n",
              "      <th>3337</th>\n",
              "      <td>True</td>\n",
              "      <td>1.00</td>\n",
              "    </tr>\n",
              "    <tr>\n",
              "      <th>...</th>\n",
              "      <td>...</td>\n",
              "      <td>...</td>\n",
              "    </tr>\n",
              "    <tr>\n",
              "      <th>30643</th>\n",
              "      <td>True</td>\n",
              "      <td>0.93</td>\n",
              "    </tr>\n",
              "    <tr>\n",
              "      <th>14010</th>\n",
              "      <td>True</td>\n",
              "      <td>0.93</td>\n",
              "    </tr>\n",
              "    <tr>\n",
              "      <th>22524</th>\n",
              "      <td>True</td>\n",
              "      <td>0.93</td>\n",
              "    </tr>\n",
              "    <tr>\n",
              "      <th>55253</th>\n",
              "      <td>True</td>\n",
              "      <td>0.93</td>\n",
              "    </tr>\n",
              "    <tr>\n",
              "      <th>39829</th>\n",
              "      <td>True</td>\n",
              "      <td>0.93</td>\n",
              "    </tr>\n",
              "  </tbody>\n",
              "</table>\n",
              "<p>2000 rows × 2 columns</p>\n",
              "</div>"
            ],
            "text/plain": [
              "       y_val  y_pred_proba\n",
              "58046   True          1.00\n",
              "6288    True          1.00\n",
              "27470   True          1.00\n",
              "41452   True          1.00\n",
              "3337    True          1.00\n",
              "...      ...           ...\n",
              "30643   True          0.93\n",
              "14010   True          0.93\n",
              "22524   True          0.93\n",
              "55253   True          0.93\n",
              "39829   True          0.93\n",
              "\n",
              "[2000 rows x 2 columns]"
            ]
          },
          "metadata": {
            "tags": []
          },
          "execution_count": 46
        }
      ]
    },
    {
      "cell_type": "markdown",
      "metadata": {
        "id": "59DtLvNtogQO",
        "colab_type": "text"
      },
      "source": [
        "Most of these top 2,000 waterpumps will be relevant recommendations, meaning `y_val==True`, meaning the waterpump is non-functional or needs repairs.\n",
        "\n",
        "Some of these top 2,000 waterpumps will be irrelevant recommendations, meaning `y_val==False`, meaning the waterpump is functional and does not need repairs.\n",
        "\n",
        "Let's look at a random sample of 50 out of these top 2,000:"
      ]
    },
    {
      "cell_type": "code",
      "metadata": {
        "id": "75c29AjfogQP",
        "colab_type": "code",
        "colab": {
          "base_uri": "https://localhost:8080/",
          "height": 1000
        },
        "outputId": "fe5a205d-ed1a-4389-a2e5-7cf1818834e0"
      },
      "source": [
        "top2000.sample(n=50)"
      ],
      "execution_count": 47,
      "outputs": [
        {
          "output_type": "execute_result",
          "data": {
            "text/html": [
              "<div>\n",
              "<style scoped>\n",
              "    .dataframe tbody tr th:only-of-type {\n",
              "        vertical-align: middle;\n",
              "    }\n",
              "\n",
              "    .dataframe tbody tr th {\n",
              "        vertical-align: top;\n",
              "    }\n",
              "\n",
              "    .dataframe thead th {\n",
              "        text-align: right;\n",
              "    }\n",
              "</style>\n",
              "<table border=\"1\" class=\"dataframe\">\n",
              "  <thead>\n",
              "    <tr style=\"text-align: right;\">\n",
              "      <th></th>\n",
              "      <th>y_val</th>\n",
              "      <th>y_pred_proba</th>\n",
              "    </tr>\n",
              "  </thead>\n",
              "  <tbody>\n",
              "    <tr>\n",
              "      <th>39238</th>\n",
              "      <td>True</td>\n",
              "      <td>0.99</td>\n",
              "    </tr>\n",
              "    <tr>\n",
              "      <th>53074</th>\n",
              "      <td>True</td>\n",
              "      <td>1.00</td>\n",
              "    </tr>\n",
              "    <tr>\n",
              "      <th>37857</th>\n",
              "      <td>True</td>\n",
              "      <td>0.95</td>\n",
              "    </tr>\n",
              "    <tr>\n",
              "      <th>43748</th>\n",
              "      <td>True</td>\n",
              "      <td>0.99</td>\n",
              "    </tr>\n",
              "    <tr>\n",
              "      <th>2375</th>\n",
              "      <td>True</td>\n",
              "      <td>0.98</td>\n",
              "    </tr>\n",
              "    <tr>\n",
              "      <th>24036</th>\n",
              "      <td>True</td>\n",
              "      <td>1.00</td>\n",
              "    </tr>\n",
              "    <tr>\n",
              "      <th>6142</th>\n",
              "      <td>True</td>\n",
              "      <td>1.00</td>\n",
              "    </tr>\n",
              "    <tr>\n",
              "      <th>35209</th>\n",
              "      <td>True</td>\n",
              "      <td>1.00</td>\n",
              "    </tr>\n",
              "    <tr>\n",
              "      <th>1604</th>\n",
              "      <td>True</td>\n",
              "      <td>1.00</td>\n",
              "    </tr>\n",
              "    <tr>\n",
              "      <th>35614</th>\n",
              "      <td>True</td>\n",
              "      <td>0.97</td>\n",
              "    </tr>\n",
              "    <tr>\n",
              "      <th>10952</th>\n",
              "      <td>True</td>\n",
              "      <td>0.99</td>\n",
              "    </tr>\n",
              "    <tr>\n",
              "      <th>34046</th>\n",
              "      <td>True</td>\n",
              "      <td>1.00</td>\n",
              "    </tr>\n",
              "    <tr>\n",
              "      <th>31644</th>\n",
              "      <td>True</td>\n",
              "      <td>0.95</td>\n",
              "    </tr>\n",
              "    <tr>\n",
              "      <th>29253</th>\n",
              "      <td>True</td>\n",
              "      <td>0.99</td>\n",
              "    </tr>\n",
              "    <tr>\n",
              "      <th>42954</th>\n",
              "      <td>False</td>\n",
              "      <td>0.94</td>\n",
              "    </tr>\n",
              "    <tr>\n",
              "      <th>3664</th>\n",
              "      <td>True</td>\n",
              "      <td>1.00</td>\n",
              "    </tr>\n",
              "    <tr>\n",
              "      <th>14681</th>\n",
              "      <td>True</td>\n",
              "      <td>0.99</td>\n",
              "    </tr>\n",
              "    <tr>\n",
              "      <th>40430</th>\n",
              "      <td>True</td>\n",
              "      <td>0.99</td>\n",
              "    </tr>\n",
              "    <tr>\n",
              "      <th>14576</th>\n",
              "      <td>True</td>\n",
              "      <td>0.99</td>\n",
              "    </tr>\n",
              "    <tr>\n",
              "      <th>53868</th>\n",
              "      <td>True</td>\n",
              "      <td>0.93</td>\n",
              "    </tr>\n",
              "    <tr>\n",
              "      <th>30539</th>\n",
              "      <td>True</td>\n",
              "      <td>0.94</td>\n",
              "    </tr>\n",
              "    <tr>\n",
              "      <th>55197</th>\n",
              "      <td>True</td>\n",
              "      <td>0.95</td>\n",
              "    </tr>\n",
              "    <tr>\n",
              "      <th>2920</th>\n",
              "      <td>True</td>\n",
              "      <td>0.97</td>\n",
              "    </tr>\n",
              "    <tr>\n",
              "      <th>37636</th>\n",
              "      <td>True</td>\n",
              "      <td>0.95</td>\n",
              "    </tr>\n",
              "    <tr>\n",
              "      <th>52071</th>\n",
              "      <td>True</td>\n",
              "      <td>0.99</td>\n",
              "    </tr>\n",
              "    <tr>\n",
              "      <th>25369</th>\n",
              "      <td>True</td>\n",
              "      <td>1.00</td>\n",
              "    </tr>\n",
              "    <tr>\n",
              "      <th>20934</th>\n",
              "      <td>True</td>\n",
              "      <td>0.97</td>\n",
              "    </tr>\n",
              "    <tr>\n",
              "      <th>54732</th>\n",
              "      <td>True</td>\n",
              "      <td>0.97</td>\n",
              "    </tr>\n",
              "    <tr>\n",
              "      <th>29091</th>\n",
              "      <td>True</td>\n",
              "      <td>0.97</td>\n",
              "    </tr>\n",
              "    <tr>\n",
              "      <th>55201</th>\n",
              "      <td>True</td>\n",
              "      <td>0.97</td>\n",
              "    </tr>\n",
              "    <tr>\n",
              "      <th>21870</th>\n",
              "      <td>True</td>\n",
              "      <td>0.93</td>\n",
              "    </tr>\n",
              "    <tr>\n",
              "      <th>55343</th>\n",
              "      <td>True</td>\n",
              "      <td>0.94</td>\n",
              "    </tr>\n",
              "    <tr>\n",
              "      <th>55826</th>\n",
              "      <td>True</td>\n",
              "      <td>0.99</td>\n",
              "    </tr>\n",
              "    <tr>\n",
              "      <th>56883</th>\n",
              "      <td>True</td>\n",
              "      <td>0.98</td>\n",
              "    </tr>\n",
              "    <tr>\n",
              "      <th>5568</th>\n",
              "      <td>True</td>\n",
              "      <td>0.97</td>\n",
              "    </tr>\n",
              "    <tr>\n",
              "      <th>50233</th>\n",
              "      <td>True</td>\n",
              "      <td>0.96</td>\n",
              "    </tr>\n",
              "    <tr>\n",
              "      <th>15294</th>\n",
              "      <td>True</td>\n",
              "      <td>0.98</td>\n",
              "    </tr>\n",
              "    <tr>\n",
              "      <th>54053</th>\n",
              "      <td>True</td>\n",
              "      <td>0.95</td>\n",
              "    </tr>\n",
              "    <tr>\n",
              "      <th>11745</th>\n",
              "      <td>True</td>\n",
              "      <td>0.98</td>\n",
              "    </tr>\n",
              "    <tr>\n",
              "      <th>48652</th>\n",
              "      <td>True</td>\n",
              "      <td>0.99</td>\n",
              "    </tr>\n",
              "    <tr>\n",
              "      <th>40507</th>\n",
              "      <td>True</td>\n",
              "      <td>1.00</td>\n",
              "    </tr>\n",
              "    <tr>\n",
              "      <th>14010</th>\n",
              "      <td>True</td>\n",
              "      <td>0.93</td>\n",
              "    </tr>\n",
              "    <tr>\n",
              "      <th>8239</th>\n",
              "      <td>True</td>\n",
              "      <td>0.97</td>\n",
              "    </tr>\n",
              "    <tr>\n",
              "      <th>11702</th>\n",
              "      <td>True</td>\n",
              "      <td>0.94</td>\n",
              "    </tr>\n",
              "    <tr>\n",
              "      <th>23893</th>\n",
              "      <td>True</td>\n",
              "      <td>0.95</td>\n",
              "    </tr>\n",
              "    <tr>\n",
              "      <th>58395</th>\n",
              "      <td>True</td>\n",
              "      <td>0.95</td>\n",
              "    </tr>\n",
              "    <tr>\n",
              "      <th>53430</th>\n",
              "      <td>True</td>\n",
              "      <td>0.97</td>\n",
              "    </tr>\n",
              "    <tr>\n",
              "      <th>16151</th>\n",
              "      <td>True</td>\n",
              "      <td>0.99</td>\n",
              "    </tr>\n",
              "    <tr>\n",
              "      <th>16569</th>\n",
              "      <td>True</td>\n",
              "      <td>0.99</td>\n",
              "    </tr>\n",
              "    <tr>\n",
              "      <th>40496</th>\n",
              "      <td>True</td>\n",
              "      <td>1.00</td>\n",
              "    </tr>\n",
              "  </tbody>\n",
              "</table>\n",
              "</div>"
            ],
            "text/plain": [
              "       y_val  y_pred_proba\n",
              "39238   True          0.99\n",
              "53074   True          1.00\n",
              "37857   True          0.95\n",
              "43748   True          0.99\n",
              "2375    True          0.98\n",
              "24036   True          1.00\n",
              "6142    True          1.00\n",
              "35209   True          1.00\n",
              "1604    True          1.00\n",
              "35614   True          0.97\n",
              "10952   True          0.99\n",
              "34046   True          1.00\n",
              "31644   True          0.95\n",
              "29253   True          0.99\n",
              "42954  False          0.94\n",
              "3664    True          1.00\n",
              "14681   True          0.99\n",
              "40430   True          0.99\n",
              "14576   True          0.99\n",
              "53868   True          0.93\n",
              "30539   True          0.94\n",
              "55197   True          0.95\n",
              "2920    True          0.97\n",
              "37636   True          0.95\n",
              "52071   True          0.99\n",
              "25369   True          1.00\n",
              "20934   True          0.97\n",
              "54732   True          0.97\n",
              "29091   True          0.97\n",
              "55201   True          0.97\n",
              "21870   True          0.93\n",
              "55343   True          0.94\n",
              "55826   True          0.99\n",
              "56883   True          0.98\n",
              "5568    True          0.97\n",
              "50233   True          0.96\n",
              "15294   True          0.98\n",
              "54053   True          0.95\n",
              "11745   True          0.98\n",
              "48652   True          0.99\n",
              "40507   True          1.00\n",
              "14010   True          0.93\n",
              "8239    True          0.97\n",
              "11702   True          0.94\n",
              "23893   True          0.95\n",
              "58395   True          0.95\n",
              "53430   True          0.97\n",
              "16151   True          0.99\n",
              "16569   True          0.99\n",
              "40496   True          1.00"
            ]
          },
          "metadata": {
            "tags": []
          },
          "execution_count": 47
        }
      ]
    },
    {
      "cell_type": "markdown",
      "metadata": {
        "id": "i9Y42bNbogQR",
        "colab_type": "text"
      },
      "source": [
        "So how many of our recommendations were relevant? ..."
      ]
    },
    {
      "cell_type": "code",
      "metadata": {
        "id": "q_llokXOogQS",
        "colab_type": "code",
        "colab": {
          "base_uri": "https://localhost:8080/",
          "height": 51
        },
        "outputId": "48c9f1c7-1311-4441-fa85-6cc92e27b49c"
      },
      "source": [
        "trips = 2000\n",
        "print(f'Baseline: {trips * 0.46} waterpump repairs in {trips} trips')\n",
        "\n",
        "relevant_recommendations = top2000['y_val'].sum()\n",
        "print(f'With model: Predict {relevant_recommendations} waterpump repairs in {trips} trips')"
      ],
      "execution_count": 49,
      "outputs": [
        {
          "output_type": "stream",
          "text": [
            "Baseline: 920.0 waterpump repairs in 2000 trips\n",
            "With model: Predict 1972 waterpump repairs in 2000 trips\n"
          ],
          "name": "stdout"
        }
      ]
    },
    {
      "cell_type": "markdown",
      "metadata": {
        "id": "hPqE_hp4ogQU",
        "colab_type": "text"
      },
      "source": [
        "What's the precision for this subset of 2,000 predictions?"
      ]
    },
    {
      "cell_type": "code",
      "metadata": {
        "id": "UEN_9_VNogQU",
        "colab_type": "code",
        "colab": {
          "base_uri": "https://localhost:8080/",
          "height": 34
        },
        "outputId": "9244b0e0-ccc5-401f-c00b-8136c2c3b6e4"
      },
      "source": [
        "precision_at_k_2000 = relevant_recommendations / trips\n",
        "print('Precision @ k=2000', precision_at_k_2000)"
      ],
      "execution_count": 50,
      "outputs": [
        {
          "output_type": "stream",
          "text": [
            "Precision @ k=2000 0.986\n"
          ],
          "name": "stdout"
        }
      ]
    },
    {
      "cell_type": "markdown",
      "metadata": {
        "colab_type": "text",
        "id": "top80m_Gn_jI"
      },
      "source": [
        "### In this scenario ... \n",
        "\n",
        "Accuracy _isn't_ the best metric!\n",
        "\n",
        "Instead, change the threshold, to change the number of positive predictions, based on the budget. (You have the time and resources to go to just 2,000 waterpumps for proactive maintenance.)\n",
        "\n",
        "Then, evaluate with the precision for \"non functional\"/\"functional needs repair\".\n",
        "\n",
        "This is conceptually like **Precision@K**, where k=2,000.\n",
        "\n",
        "Read more here: [Recall and Precision at k for Recommender Systems: Detailed Explanation with examples](https://medium.com/@m_n_malaeb/recall-and-precision-at-k-for-recommender-systems-618483226c54)\n",
        "\n",
        "> Precision at k is the proportion of recommended items in the top-k set that are relevant\n",
        "\n",
        "> Mathematically precision@k is defined as: `Precision@k = (# of recommended items @k that are relevant) / (# of recommended items @k)`\n",
        "\n",
        "> In the context of recommendation systems we are most likely interested in recommending top-N items to the user. So it makes more sense to compute precision and recall metrics in the first N items instead of all the items. Thus the notion of precision and recall at k where k is a user definable integer that is set by the user to match the top-N recommendations objective.\n",
        "\n",
        "We asked, can you do better than random at prioritizing inspections?\n",
        "\n",
        "If we had randomly chosen waterpumps to inspect, we estimate that only 920 waterpumps would be repaired after 2,000 maintenance visits. (46%)\n",
        "\n",
        "But using our predictive model, in the validation set, we succesfully identified over 1,900 waterpumps in need of repair!\n",
        "\n",
        "So we will use this predictive model with the dataset of over 14,000 waterpumps that we _do_ have some information about, but we _don't_ know whether they are currently functional, or functional but need repair, or non-functional.\n",
        "\n",
        "We will predict which 2,000 are most likely non-functional or in need of repair.\n",
        "\n",
        "We estimate that approximately 1,900 waterpumps will be repaired after these 2,000 maintenance visits.\n",
        "\n",
        "So we're confident that our predictive model will help triage and prioritize waterpump inspections."
      ]
    },
    {
      "cell_type": "markdown",
      "metadata": {
        "id": "Haqo_yJyogQX",
        "colab_type": "text"
      },
      "source": [
        "### But ...\n",
        "\n",
        "This metric (~1,900 waterpumps repaired after 2,000 maintenance visits) is specific for _one_ classification problem and _one_ possible trade-off.\n",
        "\n",
        "Can we get an evaluation metric that is generic for _all_ classification problems and _all_ possible trade-offs?\n",
        "\n",
        "Yes — the most common such metric is **ROC AUC.**"
      ]
    },
    {
      "cell_type": "markdown",
      "metadata": {
        "id": "1iGrEJBWogQY",
        "colab_type": "text"
      },
      "source": [
        "## Get ROC AUC (Receiver Operating Characteristic, Area Under the Curve)\n",
        "\n",
        "[Wikipedia explains,](https://en.wikipedia.org/wiki/Receiver_operating_characteristic) \"A receiver operating characteristic curve, or ROC curve, is a graphical plot that illustrates the diagnostic ability of a binary classifier system as its discrimination threshold is varied. **The ROC curve is created by plotting the true positive rate (TPR) against the false positive rate (FPR) at various threshold settings.**\"\n",
        "\n",
        "ROC AUC is the area under the ROC curve. [It can be interpreted](https://stats.stackexchange.com/questions/132777/what-does-auc-stand-for-and-what-is-it) as \"the expectation that a uniformly drawn random positive is ranked before a uniformly drawn random negative.\" \n",
        "\n",
        "ROC AUC measures **how well a classifier ranks predicted probabilities.** So, when you get your classifier’s ROC AUC score, you need to **use predicted probabilities, not discrete predictions.**\n",
        "\n",
        "ROC AUC ranges **from 0 to 1.** Higher is better. A naive majority class **baseline** will have an ROC AUC score of **0.5.** \n",
        "\n",
        "#### Scikit-Learn docs\n",
        "- [User Guide: Receiver operating characteristic (ROC)](https://scikit-learn.org/stable/modules/model_evaluation.html#receiver-operating-characteristic-roc)\n",
        "- [sklearn.metrics.roc_curve](https://scikit-learn.org/stable/modules/generated/sklearn.metrics.roc_curve.html)\n",
        "- [sklearn.metrics.roc_auc_score](https://scikit-learn.org/stable/modules/generated/sklearn.metrics.roc_auc_score.html)\n",
        "\n",
        "#### More links\n",
        "- [ROC curves and Area Under the Curve explained](https://www.dataschool.io/roc-curves-and-auc-explained/)\n",
        "- [The philosophical argument for using ROC curves](https://lukeoakdenrayner.wordpress.com/2018/01/07/the-philosophical-argument-for-using-roc-curves/)"
      ]
    },
    {
      "cell_type": "code",
      "metadata": {
        "id": "PdK55nreogQZ",
        "colab_type": "code",
        "colab": {}
      },
      "source": [
        "# \"The ROC curve is created by plotting the true positive rate (TPR) \n",
        "# against the false positive rate (FPR) \n",
        "# at various threshold settings.\"\n",
        "\n",
        "# Use scikit-learn to calculate TPR & FPR at various thresholds\n",
        "from sklearn.metrics import roc_curve\n",
        "fpr, tpr, thresholds = roc_curve(y_val, y_pred_proba)"
      ],
      "execution_count": 0,
      "outputs": []
    },
    {
      "cell_type": "code",
      "metadata": {
        "id": "UW42TbffogQe",
        "colab_type": "code",
        "colab": {
          "base_uri": "https://localhost:8080/",
          "height": 419
        },
        "outputId": "2f00cdbd-317f-4dde-fd5e-fac318845e36"
      },
      "source": [
        "# See the results in a table\n",
        "pd.DataFrame({\n",
        "    'False Positive Rate': fpr, \n",
        "    'True Positive Rate': tpr, \n",
        "    'Threshold': thresholds\n",
        "})"
      ],
      "execution_count": 52,
      "outputs": [
        {
          "output_type": "execute_result",
          "data": {
            "text/html": [
              "<div>\n",
              "<style scoped>\n",
              "    .dataframe tbody tr th:only-of-type {\n",
              "        vertical-align: middle;\n",
              "    }\n",
              "\n",
              "    .dataframe tbody tr th {\n",
              "        vertical-align: top;\n",
              "    }\n",
              "\n",
              "    .dataframe thead th {\n",
              "        text-align: right;\n",
              "    }\n",
              "</style>\n",
              "<table border=\"1\" class=\"dataframe\">\n",
              "  <thead>\n",
              "    <tr style=\"text-align: right;\">\n",
              "      <th></th>\n",
              "      <th>False Positive Rate</th>\n",
              "      <th>True Positive Rate</th>\n",
              "      <th>Threshold</th>\n",
              "    </tr>\n",
              "  </thead>\n",
              "  <tbody>\n",
              "    <tr>\n",
              "      <th>0</th>\n",
              "      <td>0.000000</td>\n",
              "      <td>0.000000</td>\n",
              "      <td>2.00</td>\n",
              "    </tr>\n",
              "    <tr>\n",
              "      <th>1</th>\n",
              "      <td>0.000385</td>\n",
              "      <td>0.062652</td>\n",
              "      <td>1.00</td>\n",
              "    </tr>\n",
              "    <tr>\n",
              "      <th>2</th>\n",
              "      <td>0.000641</td>\n",
              "      <td>0.114787</td>\n",
              "      <td>0.99</td>\n",
              "    </tr>\n",
              "    <tr>\n",
              "      <th>3</th>\n",
              "      <td>0.000769</td>\n",
              "      <td>0.155793</td>\n",
              "      <td>0.98</td>\n",
              "    </tr>\n",
              "    <tr>\n",
              "      <th>4</th>\n",
              "      <td>0.001282</td>\n",
              "      <td>0.196037</td>\n",
              "      <td>0.97</td>\n",
              "    </tr>\n",
              "    <tr>\n",
              "      <th>...</th>\n",
              "      <td>...</td>\n",
              "      <td>...</td>\n",
              "      <td>...</td>\n",
              "    </tr>\n",
              "    <tr>\n",
              "      <th>102</th>\n",
              "      <td>0.882662</td>\n",
              "      <td>0.996341</td>\n",
              "      <td>0.04</td>\n",
              "    </tr>\n",
              "    <tr>\n",
              "      <th>103</th>\n",
              "      <td>0.904976</td>\n",
              "      <td>0.997104</td>\n",
              "      <td>0.03</td>\n",
              "    </tr>\n",
              "    <tr>\n",
              "      <th>104</th>\n",
              "      <td>0.930239</td>\n",
              "      <td>0.998171</td>\n",
              "      <td>0.02</td>\n",
              "    </tr>\n",
              "    <tr>\n",
              "      <th>105</th>\n",
              "      <td>0.954604</td>\n",
              "      <td>0.998933</td>\n",
              "      <td>0.01</td>\n",
              "    </tr>\n",
              "    <tr>\n",
              "      <th>106</th>\n",
              "      <td>1.000000</td>\n",
              "      <td>1.000000</td>\n",
              "      <td>0.00</td>\n",
              "    </tr>\n",
              "  </tbody>\n",
              "</table>\n",
              "<p>107 rows × 3 columns</p>\n",
              "</div>"
            ],
            "text/plain": [
              "     False Positive Rate  True Positive Rate  Threshold\n",
              "0               0.000000            0.000000       2.00\n",
              "1               0.000385            0.062652       1.00\n",
              "2               0.000641            0.114787       0.99\n",
              "3               0.000769            0.155793       0.98\n",
              "4               0.001282            0.196037       0.97\n",
              "..                   ...                 ...        ...\n",
              "102             0.882662            0.996341       0.04\n",
              "103             0.904976            0.997104       0.03\n",
              "104             0.930239            0.998171       0.02\n",
              "105             0.954604            0.998933       0.01\n",
              "106             1.000000            1.000000       0.00\n",
              "\n",
              "[107 rows x 3 columns]"
            ]
          },
          "metadata": {
            "tags": []
          },
          "execution_count": 52
        }
      ]
    },
    {
      "cell_type": "code",
      "metadata": {
        "id": "sDT82nzwogQh",
        "colab_type": "code",
        "colab": {
          "base_uri": "https://localhost:8080/",
          "height": 295
        },
        "outputId": "f9aa4a0d-e5c4-405f-a67b-9c26dc70c19e"
      },
      "source": [
        "# See the results on a plot. \n",
        "# This is the \"Receiver Operating Characteristic\" curve\n",
        "plt.scatter(fpr, tpr)\n",
        "plt.title('ROC curve')\n",
        "plt.xlabel('False Positive Rate')\n",
        "plt.ylabel('True Positive Rate')\n",
        "\n",
        "plt.plot([0,1], [0,1], color='red');"
      ],
      "execution_count": 75,
      "outputs": [
        {
          "output_type": "display_data",
          "data": {
            "image/png": "[encoded data removed]",
            "text/plain": [
              "<Figure size 432x288 with 1 Axes>"
            ]
          },
          "metadata": {
            "tags": []
          }
        }
      ]
    },
    {
      "cell_type": "code",
      "metadata": {
        "id": "sdCpspjHogQj",
        "colab_type": "code",
        "colab": {
          "base_uri": "https://localhost:8080/",
          "height": 34
        },
        "outputId": "7c5fab99-f746-4987-9e61-ba356bc64dc5"
      },
      "source": [
        "# Use scikit-learn to calculate the area under the curve.\n",
        "from sklearn.metrics import roc_auc_score\n",
        "roc_auc_score(y_val, y_pred_proba)"
      ],
      "execution_count": 54,
      "outputs": [
        {
          "output_type": "execute_result",
          "data": {
            "text/plain": [
              "0.9024268359147749"
            ]
          },
          "metadata": {
            "tags": []
          },
          "execution_count": 54
        }
      ]
    },
    {
      "cell_type": "markdown",
      "metadata": {
        "id": "n6PWMGacogQn",
        "colab_type": "text"
      },
      "source": [
        "**Recap:** ROC AUC measures how well a classifier ranks predicted probabilities. So, when you get your classifier’s ROC AUC score, you need to use predicted probabilities, not discrete predictions. \n",
        "\n",
        "Your code may look something like this:\n",
        "\n",
        "```python\n",
        "from sklearn.metrics import roc_auc_score\n",
        "y_pred_proba = model.predict_proba(X_test_transformed)[:, -1] # Probability for last class\n",
        "print('Test ROC AUC:', roc_auc_score(y_test, y_pred_proba))\n",
        "```\n",
        "\n",
        "ROC AUC ranges from 0 to 1. Higher is better. A naive majority class baseline will have an ROC AUC score of 0.5."
      ]
    }
  ]
}