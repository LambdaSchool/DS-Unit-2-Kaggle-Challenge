{
  "nbformat": 4,
  "nbformat_minor": 0,
  "metadata": {
    "kernelspec": {
      "display_name": "Python 3",
      "language": "python",
      "name": "python3"
    },
    "language_info": {
      "codemirror_mode": {
        "name": "ipython",
        "version": 3
      },
      "file_extension": ".py",
      "mimetype": "text/x-python",
      "name": "python",
      "nbconvert_exporter": "python",
      "pygments_lexer": "ipython3",
      "version": "3.7.6"
    },
    "colab": {
      "name": "LS_DS_224.ipynb",
      "provenance": []
    },
    "widgets": {
      "application/vnd.jupyter.widget-state+json": {
        "ff7c9e2473714cd7ae87ef54c22bbdec": {
          "model_module": "@jupyter-widgets/controls",
          "model_name": "VBoxModel",
          "state": {
            "_view_name": "VBoxView",
            "_dom_classes": [
              "widget-interact"
            ],
            "_model_name": "VBoxModel",
            "_view_module": "@jupyter-widgets/controls",
            "_model_module_version": "1.5.0",
            "_view_count": null,
            "_view_module_version": "1.5.0",
            "box_style": "",
            "layout": "IPY_MODEL_d4366f15760f4321b75da211cb72ae49",
            "_model_module": "@jupyter-widgets/controls",
            "children": [
              "IPY_MODEL_b695a81fe1174c57a10075c56a7680d3",
              "IPY_MODEL_74bfcb9be4b040628f9aa2c062ba8eb6"
            ]
          }
        },
        "d4366f15760f4321b75da211cb72ae49": {
          "model_module": "@jupyter-widgets/base",
          "model_name": "LayoutModel",
          "state": {
            "_view_name": "LayoutView",
            "grid_template_rows": null,
            "right": null,
            "justify_content": null,
            "_view_module": "@jupyter-widgets/base",
            "overflow": null,
            "_model_module_version": "1.2.0",
            "_view_count": null,
            "flex_flow": null,
            "width": null,
            "min_width": null,
            "border": null,
            "align_items": null,
            "bottom": null,
            "_model_module": "@jupyter-widgets/base",
            "top": null,
            "grid_column": null,
            "overflow_y": null,
            "overflow_x": null,
            "grid_auto_flow": null,
            "grid_area": null,
            "grid_template_columns": null,
            "flex": null,
            "_model_name": "LayoutModel",
            "justify_items": null,
            "grid_row": null,
            "max_height": null,
            "align_content": null,
            "visibility": null,
            "align_self": null,
            "height": null,
            "min_height": null,
            "padding": null,
            "grid_auto_rows": null,
            "grid_gap": null,
            "max_width": null,
            "order": null,
            "_view_module_version": "1.2.0",
            "grid_template_areas": null,
            "object_position": null,
            "object_fit": null,
            "grid_auto_columns": null,
            "margin": null,
            "display": null,
            "left": null
          }
        },
        "b695a81fe1174c57a10075c56a7680d3": {
          "model_module": "@jupyter-widgets/controls",
          "model_name": "FloatSliderModel",
          "state": {
            "_view_name": "FloatSliderView",
            "style": "IPY_MODEL_331b70ebf0bc4925af2ff489c1497ed0",
            "_dom_classes": [],
            "description": "threshold",
            "step": 0.02,
            "_model_name": "FloatSliderModel",
            "orientation": "horizontal",
            "max": 1,
            "_view_module": "@jupyter-widgets/controls",
            "_model_module_version": "1.5.0",
            "value": 0.48,
            "_view_count": null,
            "disabled": false,
            "_view_module_version": "1.5.0",
            "min": 0,
            "continuous_update": true,
            "readout_format": ".2f",
            "description_tooltip": null,
            "readout": true,
            "_model_module": "@jupyter-widgets/controls",
            "layout": "IPY_MODEL_231abc6647cc480ba5730c8557eadb52"
          }
        },
        "74bfcb9be4b040628f9aa2c062ba8eb6": {
          "model_module": "@jupyter-widgets/output",
          "model_name": "OutputModel",
          "state": {
            "_view_name": "OutputView",
            "msg_id": "",
            "_dom_classes": [],
            "_model_name": "OutputModel",
            "outputs": [
              {
                "output_type": "display_data",
                "metadata": {
                  "tags": []
                },
                "image/png": "iVBORw0KGgoAAAANSUhEUgAAAXgAAAD4CAYAAADmWv3KAAAABHNCSVQICAgIfAhkiAAAAAlwSFlz\nAAALEgAACxIB0t1+/AAAADh0RVh0U29mdHdhcmUAbWF0cGxvdGxpYiB2ZXJzaW9uMy4yLjAsIGh0\ndHA6Ly9tYXRwbG90bGliLm9yZy8GearUAAAgAElEQVR4nO3deXydZZ338c/vZN/3JmmSZuu+paXp\nSqEIBQoiBUVBRVBRxOUZx5lx3Obl46PPzOPojAOKGwOoOIIKAhZEWQqldG+6pW3aNEnTLM2+7+u5\nnj9yqrEmzUlykvuc+/zer1dfPcm5yfk2JN9cue7rvm4xxqCUUsp+HFYHUEopNTO04JVSyqa04JVS\nyqa04JVSyqa04JVSyqYCrXrhxMREk5WVZdXLKzWiuHjk70WLrM2hlJuOHDnSZIxJcudYywo+KyuL\ngoICq15eqRHXXTfy965dVqZQym0iUuHusTpFo5RSNqUFr5RSNqUFr5RSNqUFr5RSNqUFr5RSNqUF\nr5RSNqUFr5RSNqUFr5RSNqUFr5RSNmXZlaxKKTUdTx+snNTxH1o/b4aSeC8dwSullE1pwSullE1p\nwSullE1pwSullE1pwSullE1pwSullE1pwSullE1pwSullE1pwSullE1pwSullE1pwSullE1pwSul\nlE1pwSullE1pwSullE1pwSullE1NWPAikiEib4lIkYicFpHPj3GMiMj3RaRURApF5KqZiauUUspd\n7tzwYwj4R2PMURGJAo6IyOvGmKJRx9wCLHD9WQ/82PW3Ukopi0w4gjfG1BpjjroedwJngLTLDtsO\nPGVGHABiRSTV42mVUkq5bVJz8CKSBawGDl72VBpQNertav72hwAi8qCIFIhIQWNj4+SSKqWUmhS3\nC15EIoHfAX9vjOmYyosZYx4zxuQbY/KTkpKm8iGUUkq5ya2CF5EgRsr9V8aY58c45CKQMertdNf7\nlFJKWcSdVTQCPAGcMcZ8b5zDdgD3uVbTbADajTG1HsyplFJqktxZRXM18BHgpIgcd73vq8A8AGPM\nT4BXgFuBUqAH+JjnoyqllJqMCQveGLMHkAmOMcBnPRVKKaXU9OmVrEopZVNa8EopZVNa8EopZVNa\n8EopZVNa8EopZVNa8EopZVNa8EopZVNa8EopZVNa8EopZVNa8EopZVNa8EopZVNa8EopZVNa8Eop\nZVNa8EopZVNa8EopZVNa8EopZVNa8EopZVNa8EopZVNa8EopZVNa8EopZVNa8EopZVNa8EopZVNa\n8EopZVNa8EopZVNa8EopZVNa8EopZVNa8EopZVNa8EopZVNa8EopZVNa8EopZVNa8EopZVNa8Eop\nZVOBVgewg6cPVrp97IfWz5vBJEop9Rc6gldKKZvSgldKKZvSgldKKZvSgldKKZvSgldKKZuasOBF\n5EkRaRCRU+M8f52ItIvIcdefr3s+plJKqclyZ5nkz4FHgaeucMw7xpjbPJJIKaWUR0w4gjfG7AZa\nZiGLUkopD/LUHPxGETkhIn8UkWXjHSQiD4pIgYgUNDY2euillVJKjcUTBX8UyDTG5AE/AF4c70Bj\nzGPGmHxjTH5SUpIHXloppdR4pl3wxpgOY0yX6/ErQJCIJE47mVJKqWmZdsGLSIqIiOvxOtfHbJ7u\nx1VKKTU9E66iEZFngOuARBGpBv43EARgjPkJcBfwaREZAnqBe4wxZsYSK6WUcsuEBW+M+eAEzz/K\nyDJKpZRSXkSvZFVKKZvSgldKKZvSgldKKZvSgldKKZvSgldKKZvSgldKKZvSgldKKZvSgldKKZty\nZz94ZZGnD1a6feyH1s+bwSRKKV+kI3illLIpLXillLIpLXillLIpLXillLIpLXillLIpLXillLIp\nXSZpE7qkUil1OR3BK6WUTWnBK6WUTekUjQ9xGkNn3xAt3QN09g0yOGwYcjoJdAhBAQ7CggOIDg0i\nNiyIkKAAq+MqpSymBe/lmrv6OV3TwfmmLiqae+gfcrr138WFB5ESHUpKTCgpMWGkxYYRFx6EiMxw\nYqWmbjLnktTEtOC9kNNpePlkLY/tLuNCcw8ASVEh5GXEkhIdSnxEMNFhQQQHOAgMEIaHDQPDTroH\nhujsHaK1Z4C6jj7q2vsoru/EaUY+bkxYEDmJEQQFCBtzE0iPC7fwX6nU1PUPDnOmrpPu/iHys+II\nCdTfWMeiBe9l3ilp5P+9cpai2g4SIoK5aWkyq+fFERMWNKWPNzjspKGzn6qWHs43dlFc38kXnysE\nICcpgpuWpnDTsmRWpcficOjoXnm3Yadhx4mLHKtsY8g1ctlT2sStK1JZPjdaf0O9jBa8l+gbHOb/\nvHSaZw5VkR4XxsN3r6KrfwjHNL9ggwIcpMWOTNFsyEnAaQz5WXHsK23mzbMNPP7OeX7ydhlJUSHc\nuDSZ21amsiE7YUplP9lfr3W5ppoMYwwvHr/IkYpW1mbFszojFoCXCmt45lAl716RytXzEy1O6V20\n4L3A+cYuPvOro5yt6+ShLbl84cYFhAQGzMh8pEOExSnRLE6J5uObs2nvGeSt4gZeL6rnxWMXefpg\nJXNjQtm+Oo33rk5jQXKUxzMoNRVvnKnnSEUr1y+ew9YlyX9+/2ffNZ9f7q/g9aJ6ls2NJjY82MKU\n3kULfpZdXtr1HX08saccpzF8dFMW8+LD+d2Ri7OWJyY8iDtWp3HH6jR6B4Z5raiOF45d5LHd5/nx\nrjKWp0Vz5+p0bs+bS1JUyKzlUmq0opp23ipuJD8zjhsWz/mr5xwi3J43l4d3nuPlwlru3ZBpUUrv\nowVvoUvlLsCD1+YwJyrU0jxhwQFsX5XG9lVpNHb2s+NEDS8cq+ZbLxfxb6+cYcvCJO5em8H1i+cQ\nFKCXUKjZMTjs5OWTtaREh7J9VdqY8+xxEcFcvziZV0/Xcaa2gyWp0RYk9T5a8Bbp6B3kSVe5P3BN\ntuXlfrmkqBAe2JxNWFAA9R19HK9q4/CFFt4820BkSCCr58WSnxmvo3o143aXNNLWM8gnNqcTcIVz\nQ5vnJ3KsspU/napjcUqUnnBFC94Sw07Drw9X0jc0zKevm+915X655OhQbl6WwtYlyZyr76SgopW9\npU28U9JEZkI4azPjWZ4WQ3CgjuqVZ7X2DPB2cSMr0mLISYq84rEBDmHz/ESeP3aRypYeMhMiZiml\n99KCt8AbZ+q50NzD+9ekkxLt3eU+WoBDWJIazZLUaDr7Bjla2UbBhRaeO1rNS4U1rEyPZW1WHGmx\nYTp6Uh7xelE9InDL8hS3jl+RFsNLhTUcqWjVgkcLftaVNHTy9rnGkWVe8+KsjjNlUaFBbFmYxLUL\nErnQ3EPBhRaOV7Vy+EILKdGh5GfFsSo9lvAQ/RJTU9PWM0BhdRubchPdXhkTEhTAirRYCi+2c9vK\nuX7/W6V+982iIaeTHcdrSIwM5raVqVbH8QgRITsxguzECN4zOJcT1W0UXGjl5cJa/niqjmVzo8nP\njCcnKWLaa/qVf9l/vhljYGNuwqT+uzWZcRytbOVUTTtX+fAgyhO04GfRvtJmmrsH+OimLFuuQgkN\nCmB9dgLrsxOobe+loKKV45VtFFa3ExcexJrMONZmxRMVOrWrcpX/6B8a5vCFFpalxRA3yXXtWQnh\nJEQEc6SiVQve6gD+oqN3kDeLG1icEsVCP7h4KDUmjPesDGPbshSKajsouNDCG2caeKu4kdUZsVw9\nP1FvUqLGdbSilb5BJ5snOXqHkd8q12TG8VpRPa3dA8RF+O+FT1rws+S1ojqGnYZ3r7DH1Iy7ggIc\n5KXHkpceS3NXP3tKmzha2UpBRSuLkqO4ZkEi2YkRelJW/ZnTGPaVNZMRF8a8KZ4oXZ4Ww2tF9Zyt\n72RjzuR/SNiF/eYJvFBL9wDHKtvYmJNAQqT/rhtPiAxh+6o0/vnmxdywZA7VrT08vqecx/eUU9Hc\nbXU85SXO1nbS3D0wrX1lEiNDiI8IpqS+04PJfI+O4GfBOyWNOFxrdBVEhARyw+Jkrl2QxOELLewq\nbuSnu8+zMDmSG5emkBYbZnVEZaG9ZU3EhgWxbG7MtD7OwuRIjlS0MjjstOU5L3f45796FnX2DXKk\nopXVGbFET3HLX7sKCnCwKTeRf7ppETcvS6GqpZcfvlXK0wcraOkesDqeskBNWy/lTd1szE244lWr\n7liYHMXgsOGCH/92qCP4Gba/rJlhp+HaBUlWR/kzb7trTnCggy0Lk1ifHc+e0ib2lDRxtu4cmxck\nct3COX6/ltmf7C1tIjjQwdqs+Gl/rJzESAIcQkl9Fwvm2H9hw1gm/M4RkSdFpEFETo3zvIjI90Wk\nVEQKReQqz8f0Tf2Dwxwob2bp3GgSdc+WCYUGBbB1STJfuHEhy9Ni2FXcyPdeL+Z4VRvGGKvjqRlW\n39FHYXU7azLjCPXAPYWDAx1kJ0ZQ7Mfz8O4MjX4ObLvC87cAC1x/HgR+PP1Y9lBY3U7foJNrvGj0\n7gtiwoL4QH4Gn7o2h6jQIH5bUMXdPz1AaYP/fqP6g6f2X8BpDJs8uOpl4ZxIGjv7ae3xzym/CQve\nGLMbaLnCIduBp8yIA0CsiPjXWsBxFFS0MCcqhIw4PWk4FZkJEXz6ulzuXJ1GcX0ntz6yh4ffOEf/\n0LDV0ZSH9Q4M86uDlSxJjfboSrNL15yc89NRvCcmN9OAqlFvV7ve9zdE5EERKRCRgsbGRg+8tPeq\n7+ijqrWX/Mw4XeM9DQ4R1mbFs/Mft3DLihQefqOEWx95h0PlVxpzKF/z/LFq2noGPX7LvaSoEGLC\ngihr9M8TrbN69soY85gxJt8Yk5+UZO9pi6MVrTgEVvn5pdKekhgZwiP3rObnH1tL/5CTD/x0P195\n/iTtvYNWR1PT5HQantxTzoq0GLISwj36sUWErIRwKpq7/fI8jicK/iKQMertdNf7/Naw03C0qo3F\nKdFE6m6KHnXdojm89oVr+eQ12fzmcCVbv/c2fyis9ctvXrt4+1wjZY3dPLA5e0Z+281MiKCzb4iq\nll6Pf2xv54mC3wHc51pNswFoN8bUeuDj+qziuk66+4fIz9TR+0wIDw7ka+9eyo7PbSY5OoTPPn2U\nTz5VQE2b/30D28ETe8pJiQ7l1hnaxiMrcWS7g0MX/G9az51lks8A+4FFIlItIg+IyEMi8pDrkFeA\n80Ap8N/AZ2YsrY84VtVKZEggC/xgUzErLU+L4cXPXM3Xbl3C3tJmbvze2/xi3wWGnTqa9xVn6zrY\nU9rEfZsyZ+x6hzlRIYQGOSjww4KfcP7AGPPBCZ43wGc9lsjHDQw5OVffyVXz4qZ9JZ6aWGCAg09e\nm8O25Sl89YWT/O8dp3nx+EW+/d6VLErRH7De7sk95YQFBfChdTO3W6hDhMz4CA77YcHrJYIedq6+\nk8Fhw/K06e2joSYnIz6cpz6+jv+6O4+K5h7e/f13+I9Xi+kb1CWV3qqxs58Xj9XwvjVpbt+xaaqy\nEsIpa+ymuat/Rl/H2+gZQA87VdNOeHAAWXo/yFknIty5Op2mzgFeOVnLo2+V8uvDldyxOo2cxLFv\n2PyhWc6o/uJ/DlQwMOzk41dnz/hrXZqHL6ho5eZl7t3f1Q50BO9Bg8NOius6WZoardMzFooICeT9\n+Rl8bFMWw07D4++U88KxanoHdDTvLfoGh/mfAxXcsHgOOUlj//D1pLTYMIID/W8eXgveg0obuugf\ncur0jJdYkBzF529YyDXzEym40Mp/vXGOE7qvjVd44dhFmrsHeGDzzI/eYeRcTV56DIcvtM7K63kL\nLXgPOl3TTmiQg5wknZ7xFsGBDm5Zkcpn3zWf2PAgflNQxc/2XfC7uVhvMuw0/PTtMlamx0z6htrT\nkZ8Vz6mL7X51Xkbn4D1k2Gk4U9vJkpRoAh36c9PbzI0N46EtuRwsb+G103U8srOE6xYlcX1HH4Kw\n040tlPW+sJ7xp1N1XGju4ccfvmpWt/HIS49lyGkoqu3wm5txaxN5SGVLD72DwyxJjbY6ihqHQ4SN\nOQl8YetClqRG88aZBi629tLrRyM6qxlj+NGuUnKSImb9ZOeqjFgATlS1zerrWkkL3kPO1XfiEJg/\nZ+ZPGKnpiQ4L4oPr5vHRTVkYoK69l2cLqujqH7I6mu29U9LE6ZoOHro2F8csL0RIiQllTlQIhdXt\ns/q6VtIpGg85V99JZkKER25UoGbHwuQo0uPCaOsZpLC6nbN1nWxbnsKazDgcugOoxxljePTNUlKi\nQ9m+eq4lGfIyYv1qBK8F7wHtvYPUtvexzY/W1862mbrNoCDEhQfzuevn8/vjF3nh2EWOVrSyfXUa\nKdGhM/Ka/mp3SROHLrTwre3LCAm0ZiCUlx7D60X1tPcOEuMH90jWKRoPKHHdTGChXhrvs5KjQ/nk\nNTm876o0Grv6efTNEl4rqmNo2Gl1NFswxvCfrxWTFhvG3WutO1md55qHP+kn0zRa8B5QXN9JTFgQ\nyXrfVZ8mIqzJjOcLWxeSlx7LruJGfrSrTHep9IDXiuoprG7n81sXWHoT9ZVprhOt1f4xTaMFP00D\nQ05KG7pYmByld26yiUtXwn5kQybd/UP8aFcpO8/UM6ij+SkZdhq+99o5chIjeO/qMW/2NmtiwoPI\nToygUAteueNIRSv9Q04W6dbAtrMkNZrPb13AirQYdp5t4I4f7uVsXYfVsXzObwuqKK7v5B9uWkhg\ngPWVszI9hhNV/jFFoydZp2lPaSMOgVy9etWWwoMDuXvtPJbNbefV03W85wd7+PutC/nUtTleUVbe\nrr1nkG+9XERWQjjtPYMzdrJ8MvLSY/n98RrqO/pItvmJdC34adpb2kx6XDghujzS1panxZCVGMGO\nEzV899VinjlUyfvXZJA0znkXvep1xMM7z9E7MMxtK+d6zRRmXsbIXlEnqtq4yeYr33QIMg0dfYMU\nVrfp6N1PRIYE8qF187hnbQbNXQM8+lYJ+8uacOrmZWMqqe/kqf0VrM2KZ25smNVx/mxpagwBDvGL\nC550BD8Nh8tbcBrInYXtTpX3WJkeS1ZCBM8fq+alwlrO1HXyvqvS/WJdtbuGnYYv/a6QyJBAblya\nbHWcvxIWHMCi5Ci/WEmjI/hp2FvaTEigg4z4cKujqFkWHRbE/Ruz2L5qLhXN3Tyy8xzHdSviP/vZ\n3nKOVrbxjduXEhHifePIvIwYv9g6Wgt+GvaVNZGfFUeQnmzzSyLC+uwE/u76BcyJCuW3BVU8c7iK\nHj/f0+Z8YxfffbWYrUuSuWOVtcsix5OXHktH3xAXmnusjjKjtJmmqLmrn7N1nWzKTbQ6irJYQmQI\nD16bw81LkzlT08HDO0t4ubDG9qPDsQwOO/mnZ08QEujg3+5c7jUnVi+3Mn3kgie7r4fXgp+iA+dH\nbv21aRZvWKC8l0OELYvm8Jl35RITFsTnnj7GA78ooLrV3iPEy33nT2c5WtnGv965gjlevARxYXIk\noUEOjtt84zEt+CnaW9ZEVEggK/T2fGqU1JgwPn1dLl+/bSkHzjdz03/t5ok95Qw77T+a/9OpOv77\nnXI+siGT9+RZs1ukuwIDHCyfG2P7lTRa8FO0v6yZ9TnxerGL+hsOET6+OZvX/2ELG3IS+NbLRdz2\ngz3sKWmyOtqMOd/YxRefO8HK9Bj+5bYlVsdxS15GLKdr2m29BYX3nd72ATVtvZQ3dXPvhkyroygv\nlhYbxhP35/PHU3X82ytnuPeJg2xZmMRXb13CIh/feXT0Fald/UP85O0yhp2Gm5em8LsjFy1M5r6V\n6TE8scfJufpOls2152/iOvycgn1lzYDOv6uJiQi3rkhl5z9u4Wu3LuFYZSu3PLKbLz1XSG277+9S\nOTDk5Kn9F+jsG+T+jVnERQRbHclteX8+0WrfaRodwU/BvrIm4iOCdYMx5baQwAA+eW0Od61J5wdv\nlvLLAxd4/lg1d61JZ25MGAmR7m817S3bIAwOO3n6UAUXW3v58PpMn7seJDMhnJiwIE5UtfHBdd7x\nOfU0LfhJMsawv6yZjbkJs35PSeX74iKC+fp7lvKxq7P46e4yfltQzeCQk7yMWLYsTPKZza8Gh538\n6mAF5+q7uHN1Gkvn+t7N5kWElekxtl5Jo1M0k1Te1E1te59Oz6hpyYgP5//esYI9//wurp6fSFFN\nB4/sLOHn+8opqe/06jX03f1D/PJABSX1Xbx3dRprs+KtjjRlqzJiKWnoomfAnhen6Qh+kv4y/64X\nOKnpmxMdyq0rUrluYRL7y5s5eL6Fn+27QFJUCJtyE1idEWfpHZAuV9fex8d/fpjzjV2896p01mTG\nWR1pWvLSYxl2Gk7XdPj0D6rxaMFP0v6yZubGhJKV4Fvzjcq7hYcEcsPiZLYsSOLkxXb2lTXz++M1\nvHq6jrVZ8WzMSSA23NoTmIXVbTz41BG6+oe4b2MWC21wDmrlqK2DteD9nNNp2FfWxPWLk732Emzl\n2wIDHKyeF8eqjFgqW3rYW9bM3tIm9pQ0sWxuNJtyEzHGzOrXnzGGJ/aU8+9/OsucqFCefWgjxyrt\nMW89JyqUuTGhnLDpShot+Ek4W9dJa8+gzr+rGSciZCZEkJkQQVvPAAfON3P4QiunajrYW9bEvRsy\nuT1v7ozv1FjV0sO/vHiKt881ctPSZL5z10piw4NtU/AwcsHTCZueaNWCn4R9ZSNXIm6arwWvZk9s\neDDblqdy/eJkjlW1cvB8C195/iTf2HGaVRmxrM9OICVm7NU3U11S2Tc4zJN7y/n+zhIcInxz+zI+\nsiHTlr+55mXE8sdTdbR2D/jUOn53aMFPwv6yZnISI0iN8Z670yj/ERzoYH12Auuy4qls6eFQeQtH\nKlo5WN5CRlwYq+bFsTItZlqj+r7BYZ45VMmPd5XR0NnPtmUpfP09S73qjkyedumCpxPVbVy3aI7F\naTxLC95NQ8NODpa3sH2Vd2+ipOxv9PTNu1ekcrSylaOVbbx0ooY/FNaQlRDBktRocpMicTrNhNdr\n9A8Nc7Sijd8fv8gfCmvp7B9ifXY8D9+zyi9Wi61Ij0EETlS1a8H7q8KL7XT1D/nFF7zyHeEhgWxe\nkMTmBUnUtvdysrqdotoO/nCyFoCf7Stn2dxoMuMjSIsLIzTIQaDDQUffIPUdfZQ1dHO8uo2BISfh\nwQHcsjyVe9Zl2HJFyXgiQwKZnxRpy73hteDdtN+1/n2jnmBVbhi9GddsSY0JIzUmjJuWpdDSPUBF\nczdBgQ7O1nbwZnEDjZ39f3V8YmQIGfFh3Lchk7XZ8Wyen+iVt9ebDXkZsewqbpj1FUozza3/myKy\nDXgECAAeN8Z8+7LnPwp8F7i0jdyjxpjHPZjTcntLm1iSGk28zU7CKHuKjwgmPiL4r06yDgw5GRx2\nMjRsCAsO8KoLqKyWlx7Dc0eqqW7t9bk9da5kwv/DIhIA/BC4BVgKfFBElo5x6G+MMatcf2xV7n2D\nwxRUtOrySOXTggMdRIQEEhMepOV+mdXzRq7IPWaz5ZLujODXAaXGmPMAIvJrYDtQNJPBvMnRylYG\nhpxcrcsjlY+ZzFSRt+xSaYXFKVGEBQVwtKKV2738blST4c6P8TSgatTb1a73Xe59IlIoIs+JSMZY\nH0hEHhSRAhEpaGxsnEJca+wrbSbAIX514kkpfxIY4GBVRixHKlqtjuJRnvo97SUgyxizEngd+MVY\nBxljHjPG5Btj8pOSkjz00jPvndIm8tJjiAoNsjqKUmqGrMmMo6i2w1Y7S7pT8BeB0SPydP5yMhUA\nY0yzMebSKfrHgTWeiWe99p5BTla3sXmB7/xAUkpN3prMOIadhhNV9tmXxp2CPwwsEJFsEQkG7gF2\njD5ARFJHvXk7cMZzEa21r6wJp4FrFuj6d6XsbPW8kStaj1baZ5pmwpOsxpghEfkc8CojyySfNMac\nFpFvAgXGmB3A34nI7cAQ0AJ8dAYzz6p3SpuIDAlkVUas1VGUmlFWrN33JrHhwcyfE2mreXi31sEb\nY14BXrnsfV8f9fgrwFc8G8077ClpYkNOPEEBuqxMKbtbMy+OV4vq3NriwRdoa11BZXMPlS09bJ6v\n0zNK+YM1mXG09Qxyvqnb6igeoQV/Be+Ujizl1BOsSvmHq1y3IDxqk2kaLfgr2FPSRGpMKLlJEVZH\nUUrNgpzECGLDgzhY3mJ1FI/Qgh/H0LCTfWXNbJ6faKvNh5RS43M4hA3ZCRw434wxxuo406YFP45j\nVW209w7abn9opdSVbZqfwMW2Xqpaeq2OMm1a8OPYeaaBQIdwzUI9waqUP7m0qeClW3T6Mi34cbx5\ntp512fFE6/YESvmV3KRIkqJC2Oe6B4Qv04IfQ1VLD+fqu7h+sU7PKOVvRIRNuQnsK/P9eXgt+DG8\nVdwAoAWvlJ/alJtAU1c/ZY1dVkeZFi34Mew800B2YgQ5SZFWR1FKWeDSvZd9fZpGC/4y3f1D7C9r\n1tG7Un4sIz6c9Lgw9pVqwdvKntImBoad3KAFr5Rf25SbwP7zzQwNO62OMmVa8Jd55WQtseFBrM3W\nuzcp5c+uWzSH9t5Bjlb67n1ateBH6Rsc5o2ierYtS9HdI5Xyc9cuTCI4wMHrRXVWR5kybbFRdhU3\n0D0wzG0r7XPTXaXU1ESGBLIxN4HXi+p9drmkFvwoLxXWkhARzIYcnZ5RSsHWpclcaO7x2eWSWvAu\nPQNDvHmmgVtWpBCo0zNKKWDrkpHFFq8XNVicZGq0yVx2nmmgd3CYd6/Q6Rml1IjUmDBWpMX47Dy8\nFrzLSydqSIoKYZ2unlFKjbJ1STLHqtpo7Oy3OsqkacEDDR19vHm2gTtWzSXABvdhVEp5zo1LkzEG\nXj3te6N4LXjgtwVVDDkNH1qfaXUUpZSXWZIaxaLkKJ49Um11lEnz+4IfdhqeOVTF5vmJZCfqrfmU\nUn9NRHh/fjonqto4V99pdZxJ8fuC31XcwMW2Xj68fp7VUZRSXurO1WkEOoRnC6qsjjIpfl/wvzpY\nSVJUCFuXJlsdRSnlpRIiQ9i6JJnnj15k0If2pvHrgq9o7uat4gbuWZuhWxMopa7o/fnpNHcP8OZZ\n31kT79et9oM3SwkOcHDvBj25qpS6si0Lk0iKCuGZQ5VWR3Gb3xZ8eVM3zx+t5t4NmSRHh1odRynl\n5QIDHNy/MZNdxY2crG63OgXc244AAAhcSURBVI5b/Lbgv7+zhOBABw9tybU6ilLKR9y/KYuYsCAe\n2XnO6ihu8cuCL23o5PfHL3L/xiySokKsjqOU8hFRoUF8YnM2b5xp8IlRvN8VvDGGb718hrCgAD6l\no3el1CTdf7XvjOL9ruCfPVLN2+ca+eLNi4iPCLY6jlLKx0SPGsXvK2uyOs4V+VXB17b38q2XiliX\nHc99G7OsjqOU8lGfuCaH7MQIvvhsIZ19g1bHGZffFPyw0/Cl351kyGn47l0rceimYkqpKQoLDuA/\n3p83Mmh8ucjqOOPyi4I3xvD1359i97lG/uW2JWQm6J4zSqnpWZMZx6e25PLbgmr+dMo7d5r0i4J/\nZGcJvzpYyUNbcvmw7hiplPKQv9+6gJXpMfzdr4+xp8T75uNtXfDDTsN3/nSWh98o4X1XpfOlbYus\njqSUspGQwAB+8bF15CRG8ImnDnPgfLPVkf6KbQu+qaufjzxxkB/tKuOetRl8+30rENF5d6WUZ8VF\nBPM/n1hPRlw49z15iP/efZ5hp7E6FgCBVgfwtK7+IX62p5zH3jnPwJCT79y1kg/kZ1gdSyllY4mR\nIfz6wQ18+fmT/OsrZ3i9qJ6v3LqY1fPiLM3lVsGLyDbgESAAeNwY8+3Lng8BngLWAM3A3caYC56N\nOr7u/iEOlbfwx1O1vHq6nvbeQW5amswXb17EguSo2YqhlPJjCZEhPPaRNfzu6EW++dJp7vzRPlZl\nxPKB/Aw25SaQmRA+67MIExa8iAQAPwRuBKqBwyKywxgzem3QA0CrMWa+iNwD/Dtw90wEPl3TzvNH\nL9LaM0Br9wDnm7qpaO4BICokkBuWzOFjV2eTlxE7Ey+vlFLjEhHuWpPOtuUp/O5INb/Yd4GvvnAS\ngKSoELISwkmPC+fmZSlsW54y43ncGcGvA0qNMecBROTXwHZgdMFvB77hevwc8KiIiDHG4xNRVS29\nPHOokrjwYGLDg1g2N5q7rkpnRXoMG3MTCAkM8PRLKqXUpESGBHL/pizu25jJ+aZu9pc1c7SylerW\nXg6Vt5CbFAF4R8GnAaPvU1UNrB/vGGPMkIi0AwnAX60bEpEHgQddb3aJSPGopxMvP96H+Gp2X80N\nns4+u/cE0M+7BT7sRdn3Af/L/cMvz+32F+usnmQ1xjwGPDbWcyJSYIzJn808nuKr2X01N2h2q2j2\n2Ted3O4sk7wIjF6Gku5635jHiEggEMPIyVallFIWcafgDwMLRCRbRIKBe4Adlx2zA7jf9fgu4M2Z\nmH9XSinlvgmnaFxz6p8DXmVkmeSTxpjTIvJNoMAYswN4AviliJQCLYz8EJisMadufISvZvfV3KDZ\nraLZZ9+Uc4sOtJVSyp5su1WBUkr5Oy14pZSyKcsKXkTiReR1ESlx/f03mzaIyCoR2S8ip0WkUERm\n5OpYd4jINhEpFpFSEfnyGM+HiMhvXM8fFJGs2U85Njey/4OIFLk+xztFxGv2VJ4o+6jj3iciRkS8\nZhmcO9lF5AOuz/1pEXl6tjOOxY2vl3ki8paIHHN9zdxqRc6xiMiTItIgIqfGeV5E5Puuf1uhiFw1\n2xnH4kbuD7vynhSRfSKS59YHNsZY8gf4DvBl1+MvA/8+xjELgQWux3OBWiDWgqwBQBmQAwQDJ4Cl\nlx3zGeAnrsf3AL+x6nM7hezvAsJdjz/tS9ldx0UBu4EDQL7VuSfxeV8AHAPiXG/P8ZHcjwGfdj1e\nClywOveobNcCVwGnxnn+VuCPgAAbgINWZ3Yz96ZRXye3uJvbyima7cAvXI9/Adxx+QHGmHPGmBLX\n4xqgAUiatYR/8eftGowxA8Cl7RpGG/3veQ64Qbxjf+IJsxtj3jLG9LjePMDItQ7ewJ3PO8C3GNn/\nqG82w03AneyfBH5ojGkFMMY0zHLGsbiT2wDRrscxQM0s5rsiY8xuRlbyjWc78JQZcQCIFZHU2Uk3\nvolyG2P2Xfo6YRLfo1YWfLIxptb1uA5IvtLBIrKOkRFF2UwHG8NY2zWkjXeMMWYIuLRdg9XcyT7a\nA4yMcLzBhNldv2JnGGP+MJvB3ODO530hsFBE9orIAdeurVZzJ/c3gHtFpBp4hUlddW+5yX4/eCO3\nv0dndKsCEXmDsXfU+droN4wxRkTGXa/p+gn7S+B+Y4zTsynVJSJyL5APbLE6iztExAF8D/ioxVGm\nKpCRaZrrGBmR7RaRFcaYNktTTeyDwM+NMf8pIhsZuQZmuX5vzjwReRcjBb/ZneNntOCNMVvHe05E\n6kUk1RhT6yrwMX89FZFo4A/A11y/UllhMts1VHvZdg3uZEdEtjLyg3eLMaZ/lrJNZKLsUcByYJdr\nNiwF2CEitxtjCmYt5djc+bxXMzKXOgiUi8g5Rgr/8OxEHJM7uR8AtgEYY/aLSCgjG2J5wxTTRNz6\nfvBGIrISeBy4xRjjVrdYOUUzenuD+4HfX36Aa2uEFxiZM3tuFrNdzpe3a5gwu4isBn4K3O4l88CX\nXDG7MabdGJNojMkyxmQxMjfpDeUO7n3NvMjI6B0RSWRkyub8bIYcgzu5K4EbAERkCRAKNM5qyqnb\nAdznWk2zAWgfNVXstURkHvA88BFjzDm3/0MLzxonADuBEuANIN71/nxG7hoFcC8wCBwf9WeVRXlv\nBc4xcg7ga673fZORQoGRL/JngVLgEJBj1ed2CtnfAOpHfY53WJ3Z3eyXHbsLL1lF4+bnXRiZYioC\nTgL3WJ3ZzdxLgb2MrLA5DtxkdeZR2Z9hZLXdICO/IT0APAQ8NOpz/kPXv+2kt3y9uJH7caB11Pdo\ngTsfV7cqUEopm9IrWZVSyqa04JVSyqa04JVSyqa04JVSyqa04JVSyqa04JVSyqa04JVSyqb+P2i9\nEfkfGtrcAAAAAElFTkSuQmCC\n",
                "text/plain": "<Figure size 432x288 with 1 Axes>"
              },
              {
                "output_type": "stream",
                "metadata": {
                  "tags": []
                },
                "text": "              precision    recall  f1-score   support\n\n       False       0.83      0.86      0.84      7798\n        True       0.82      0.78      0.80      6560\n\n    accuracy                           0.82     14358\n   macro avg       0.82      0.82      0.82     14358\nweighted avg       0.82      0.82      0.82     14358\n\n",
                "stream": "stdout"
              },
              {
                "output_type": "display_data",
                "metadata": {
                  "tags": []
                },
                "image/png": "iVBORw0KGgoAAAANSUhEUgAAAWYAAAD4CAYAAADfPUyRAAAABHNCSVQICAgIfAhkiAAAAAlwSFlz\nAAALEgAACxIB0t1+/AAAADh0RVh0U29mdHdhcmUAbWF0cGxvdGxpYiB2ZXJzaW9uMy4yLjAsIGh0\ndHA6Ly9tYXRwbG90bGliLm9yZy8GearUAAAfO0lEQVR4nO3deZwV1Z338c+3WYSoIKsKaMRRY0zi\nQnxEY8ZgGPdJcAwTNfMkJnFEjVHjGOMS53GJWRxnJnGZaFCcECeKGhcIk0dlUBM1bqBEBVyIoIAQ\nVFZREfr+5o97Gi7Yfbua7ttdXXzfr1e9btWpU1Wn8Pq7p0+dc0oRgZmZ5UddRxfAzMw25sBsZpYz\nDsxmZjnjwGxmljMOzGZmOdO11hcoLd7D3T7sQ44YtE9HF8FyaErpTrX2HC2JOXU7vNzq69WCa8xm\nZjlT8xqzmVl7KlHKnDevNVMHZjMrlLVRnzlvXgNgXstlZrZZWlJjzisHZjMrlPoCTDPhwGxmhVLC\ngdnMLFfqHZjNzPLFNWYzs5xZ6zZmM7N8cVOGmVnO1Hf+uOzAbGbF0vl7MTswm1nB1JPLeYlaxIHZ\nzAplbTgwm5nlimvMZmY5U3KN2cwsX1xjNjPLmfrczrKcnQOzmRWKmzLMzHLmg+jS0UVoNQdmMyuU\nkpsyzMzyxQ//zMxypj46f42589+BmVmFEsq8NEfSdpJ+I+lFSbMlHSSpr6Qpkl5Jn31SXkm6RtIc\nSc9JGlZxnpNS/lckndTcdR2YzaxQPoiumZcMrgbui4g9gX2A2cAFwNSI2B2YmrYBjgJ2T8sY4HoA\nSX2BS4DhwAHAJQ3BvCkOzGZWKCXqMi/VSOoNHAKMA4iIDyJiOTAKGJ+yjQeOTeujgF9F2RPAdpJ2\nBI4ApkTE0ohYBkwBjqx2bQdmMyuU+lDmRdIYSdMqljEVpxoKvAn8p6RnJd0kaWtg+4hYlPIsBrZP\n64OB+RXHL0hpTaU3yQ//zKxQWjLyLyLGAmOb2N0VGAacGRFPSrqaDc0WDceHpDafmt81ZjMrlFLU\nZV6asQBYEBFPpu3fUA7Uf0lNFKTPJWn/QmCniuOHpLSm0pvkwGxmhVJPXealmohYDMyX9LGUNBKY\nBUwCGnpWnARMTOuTgK+l3hkHAitSk8f9wOGS+qSHfoentCa5KcPMCmVt2w7JPhP4taTuwKvANyhX\naO+QdDLwGvDllPd3wNHAHODdlJeIWCrpB8DTKd/lEbG02kUdmM2sUNpygElEzAD2b2TXyEbyBnBG\nE+e5Gbg563UdmM2sULIMHMk7B2YzK5QiDMl2YDazQvFE+WZmOeOJ8s3McmZttjkwcq3z34GZWQXP\nx2xmljMZRvTlngOzmRWKa8xmZjnjGrOZWc608ZDsDuHAbGaF4gEmZmY5437MZmY545F/ZmY54xqz\nmVnONPeS1c7AgdnMCmVtyYHZzCxX3I/ZzCxnPPLPWLkK/vkqeGUuCLjifNjvk/Bfd8Gt90JdHXzu\nQDjvdPhgLVz6r/DCS+X0i86EA/Yrn+dnN8LE+2HlOzD9vg69JWsD5447neHHfJrlS1YwZu9zAThk\n9IF89ZIvs/PHB3Pm8At5efqr6/OfcMGxHPnNkZTqS/z87JuZ9sCfGLLHIC6ecM76PDvsOpDxl9zO\nPVf/rt3vpzPZYh7+SfoosHtE/I+knkDXiFhV26J1Dj+6Fj57AFx9eTnwvv8+PPkMTH0M7h0H3bvD\n28vKee+cXP6c9Mty2pjvwZ2/KAfpEZ+BrxwHR/1Dh92KtaEHfvkwE6+7j++N//b6tHkvzOeyL/0r\n37lhzEZ5d/74EEYcfzCnfPIc+g3qy5VT/plvfOxsFrz8BqcNOw+Auro6blvwCx6756l2vY/OqAhN\nGc3egaRTgN8Av0hJQ4B7a1mozmLVOzDtTzD6mPJ2927Qa1uYMBFO+Uo5KAP061P+/PM8GD5sQ1qv\nbcq1Z4B9PwED+7Vr8a2Gnn9kNquWvrNR2usvLmTBy298KO9nRu3Pw7c/xtoP1rF43hLemLOYjx2w\n20Z59hv5SRb9eTFLXn+rpuUughLKvORVlp+WM4CDgZUAEfEKMLCWheosFiyCvtvBRT+B406Gi/8F\n3n0P5i2A6c/B8afBV8+C52eX8+/5V/DQY7BuXfnYmS/D4iUdew/W8foP7seb899ev/3mwqX0H9x3\nozwjTjiYhyY81t5F65TWlrpkXvIqS2BeExEfNGxI6gpEtQMkjZE0TdK0sbesaG0Zc6u+Hma9AieM\ngrvHwUd6wI23wrp6WLESJlxfbls+51KIgOOOhu0Hwt+fCj++tlxLruv8f3VZjXXt1pWDvrA/v7/z\n8Y4uSqdQCmVe8ipLG/PvJV0E9JR0GPAt4LfVDoiIscBYgNLiPaoG8c5s+wHlZZ+9ytuHf64cmHcY\nAIcdAhLs/fFy8F22oly7vnBDkyMnfgt22aljym758dbCtxmw04Z2rAGD+/LWwqXrt//PUfsy55m5\nLF9S3EpOW8pzE0VWWeprFwBvAs8DpwK/Ay6uZaE6iwH9YMcBMPf18vYTz8Buu8DIz8KTz5bT5s6H\ntWuhT2947/1yUwfAY09Dly7l/LZle3zSNEYcfzDdundlh10GMnj3HXnpqTnr9x96wmd5aMKjHVjC\nzmWLqDFHRAm4EbhRUl9gSEQUthbcUt8/G867ohx8dxoEP7wAevaAi6+EL3wdunWFH19Urj0vXQb/\neB7UCQYOgCu/v+E8V10P/z21HLxHjC4/UPz2NzrstqyVLvr12ew94hP07r8tt75+A7+69A5WLX2H\nM675Jr0H9OKKyRfy5xnzuPCoH/LarAX84c7HuWnmT6lfV+Lab99EqVQCoMdHtuLTh+3Nz04b28F3\n1HkUoVeGmouxkh4Gvkg5iE8HlgB/jIhzqh3XoMhNGbb5jhi0T0cXwXJoSunOVldjv/THb2WOOXd9\n5ue5rDZn+WnpHRErgeOAX0XEcGBkbYtlZrZ5itCUkSUwd5W0I/BlYHKNy2Nm1ipFCMxZemVcDtwP\nPBoRT0vaFXiltsUyM9s8eQ64WTVbY46IOyNi74j4Vtp+NSK+VPuimZm1XFvWmCXNk/S8pBmSpqW0\nvpKmSHolffZJ6ZJ0jaQ5kp6TNKziPCel/K9IOqm56zZZY5Z0LVUGkkTEWc3elZlZO6tBP+ZDI6Jy\nLPwFwNSI+ImkC9L2+cBRwO5pGQ5cDwxPvdkuAfanHFOnS5oUEcuaumC1poxprboVM7MOsK72E+WP\nAkak9fHAw5QD8yjKHSQCeELSdun53AhgSkQsBZA0BTgSuK2pCzQZmCNifOvLb2bWvlrSxixpDFA5\n3d/YNHK5QQAPSArgF2nf9hGxKO1fDGyf1gcD8yuOXZDSmkpvUrMP/yQNoPxrsBfQY31pIz7f3LFm\nZu2tJYG5cvqIJnw2IhZKGghMkfTiJsdHCtptKkud/9fAbGAocBkwD3i6rQtiZtYWIpR5af5csTB9\nLgHuAQ4A/pKaKEifDXNELgQqZ78ZktKaSm9SlsDcLyLGAWsj4vcR8U3AtWUzy6W2mo9Z0taStm1Y\nBw4HXgAmAQ09K04CJqb1ScDXUu+MA4EVqcnjfuBwSX1SD47DU1qTsvRjXps+F0k6BngD6Fslv5lZ\nh2nDfszbA/dIgnKsvDUi7pP0NHCHpJOB1ygPvoPyBG9HA3OAd4FvAETEUkk/YENLw+UNDwKbkiUw\nXyGpN3AucC3QC8g0T4aZWXurb6NeGRHxKvChSV0i4m0amZYi9cY4o4lz3QzcnPXaTd6BpF+mE04G\njo2IFyLi0Ij4dERMynoBM7P21JZtzB2l2k9L5S/F2bUuiJlZWyj6XBmertPMOp0izBZfLTAPkXQN\noIr19Twk28zyqAivlqoWmM+rWPfwbDPrFNrq4V9H8pBsMyuUojdlmJl1OnnubZGVA7OZFYoDs5lZ\nzuS5G1xWnijfzAql6G3M7olhZp1Oyb0yzMzypQAVZk+Ub2bFUoSHf54o38yKJVqw5JQnyjezQinC\n7HKeKN/MCqVUym/AzcoT5ZtZseS4JpxVs4E5TZQPsAI4tLbFMTNrnaL3YwZA0n/SSDN5ams2M8uX\nLSEwA5Mr1nsAf0e5ndnMLHfy/FAvqyxNGXdVbku6DXi0ZiUyM2uNLaTGvKndgYFtXRAzs7YQW0Kv\nDEmr2Pg3aDHlkYBmZjm0BQTmiNi2PQpiZtYmCtCU0ezIP0lTs6SZmeVCAYZkV5uPuQfwEaC/pD5s\n+PugFzC4HcpmZtZyBe+VcSrwHWAQMJ0NgXklcF2Ny2VmtlkKPcAkIq4GrpZ0ZkRc245lMjPbfAXo\nlZFldrmSpO0aNiT1kfStGpbJzGyzKbIveZUlMJ8SEcsbNiJiGXBK7YpkZtYKBXj4lyUwd5G0/m8D\nSV2A7rUrkplZK4SyLxlI6iLpWUmT0/ZQSU9KmiPpdkndU/pWaXtO2r9LxTkuTOkvSTqiuWtmCcz3\nAbdLGilpJHBbSjMzy5+2rzGfTfktTg2uBH4aEbsBy4CTU/rJwLKU/tOUD0l7AScAnwCOBH6eKrhN\nyhKYzwceBE5Py1TgvIw3ZGbWvkotWJohaQhwDHBT2hblNzj9JmUZDxyb1kelbdL+kSn/KGBCRKyJ\niLnAHOCAatdtNjBHRCkiboiI0RExGphFecJ8M7P8aUFThqQxkqZVLGM2OdvPgO+xIYz3A5ZHxLq0\nvYAN4zoGA/MB0v4VKf/69EaOaVSmSYwk7QecCHwZmAvcneU4M7P21pLeFhExFhjb6HmkvwWWRMR0\nSSPapHAZVRv5twflYHwi8BZwO6CI8FtMzCy/2q63xcHAFyUdTXku+l7A1cB2krqmWvEQYGHKvxDY\nCVggqSvQG3i7Ir1B5TGNqtaU8SLltpS/jYjPpkEm9S29MzOzzigiLoyIIRGxC+WHdw9GxD8ADwGj\nU7aTgIlpfVLaJu1/MCIipZ+Qem0MpTx18lPVrl2tKeO4VJiHJN0HTGAz5tM7Zp+RLT3EtgDbPJLl\nubNZy7XDwJHzgQmSrgCeBcal9HHALZLmAEspx08iYqakOyg/n1sHnBERVSu51YZk3wvcK2lryk8V\nvwMMlHQ9cE9EPNCqWzMzq4UaDMmOiIeBh9P6qzTSqyIi3gf+vonjfwj8MOv1svTKWB0Rt0bEFyi3\njTyLJ8o3s7zaQkb+rRcRyyJibES4fcLMcqkIc2Vszjv/zMzyK8cBNysHZjMrFgdmM7N8yXMTRVYO\nzGZWLAWYKN+B2cwKxTVmM7O8cWA2M8sX15jNzPLGgdnMLF+UYQL8vPNMMmZmOeMas5kVi5syzMzy\nxQ//zMzyxoHZzCxnHJjNzPKlCL0yHJjNrFDcxmxmljcOzGZmOePAbGaWL27KMDPLGwdmM7N8ca8M\nM7O8cY3ZzCxf3MZsZpY3DsxmZjnjwGxmli9uyjAzyxkHZjOzvClAYParpcysWKIFSxWSekh6StKf\nJM2UdFlKHyrpSUlzJN0uqXtK3yptz0n7d6k414Up/SVJRzR3Cw7MZlYoiuxLM9YAn4+IfYB9gSMl\nHQhcCfw0InYDlgEnp/wnA8tS+k9TPiTtBZwAfAI4Evi5pC7VLuzAbGbF0kY15ih7J212S0sAnwd+\nk9LHA8em9VFpm7R/pCSl9AkRsSYi5gJzgAOqXduB2cwKRaUWLNIYSdMqljEbnUvqImkGsASYAvwZ\nWB4R61KWBcDgtD4YmA+Q9q8A+lWmN3JMo/zwz8wKpSW9MiJiLDC2yv56YF9J2wH3AHu2tnxZuMZs\nZsXSRk0ZG50yYjnwEHAQsJ2khkrtEGBhWl8I7ASQ9vcG3q5Mb+SYRjkwm1mxtF2vjAGppoyknsBh\nwGzKAXp0ynYSMDGtT0rbpP0PRkSk9BNSr42hwO7AU9Wu7aYMMyuUNhxgsiMwPvWgqAPuiIjJkmYB\nEyRdATwLjEv5xwG3SJoDLKXcE4OImCnpDmAWsA44IzWRNMmB2cwKRaW2icwR8RywXyPpr9JIr4qI\neB/4+ybO9UPgh1mv7cBsZsVSgJF/DsxmViieK8PMLG8cmM3M8sU1ZjOzvHFgNjPLF78l28wsZ9yU\nYWaWN9H5I7MDs5kVimvMxjk/+yoHHPYplr+1itM/94ON9h132khOuWw0x3/8u6xcupohu23PP139\nNXb71E6M//Ek7rr+fwDotlVXrpp4Lt26d6VLlzoenfws/3XV5I64HWsjr5z3KHU9ukCdUJ3Y9ZLh\nrHz6L7w58VXWLFrN0IsPoOfQXhsds/bt95lz8eMMGLUr/Y/8KGsWrWbBDc9v2P/meww49q/od/jO\n7X07nYsDs02Z8DiTxj3Md6/7+kbp/Qf1YdiIvfjL/LfXp61a/i43fP8ODjpqn43yrl2zjguO+xnv\nv7uGLl3r+NfffpdpD87kxelz2+MWrEY++r1P03Xb7uu3txq8DUPO2JtFv5rdaP7FE15mm0/125B/\nx635q8sOBCBKwcv/9AjbDhtQ20IXQBEe/mWaXU5ST0kfq3VhOqMXnpjDquWrP5R+6uWjGXf53Rv9\neq94axUvz3iNdWs/PH/J+++uAaBrty507dqFKEA7mW1sq0Fbs9WOWze6b+UzS+g+oCdbDWp8/+pZ\nS+k+sCfd+/esZRELoSUT5edVs4FZ0heAGcB9aXtfSZNqXbDO7MAj9+atxcuZO6vqlKsbqasT1029\niNtm/gvP/n42Lz0zr3YFtNoTvP5vz/LqZU+y7OEFVbOW3l/H2///NQZ8cWiTeVY+tZjew3do61IW\nU0T2Jaey1JgvpTyT0nKAiJgBNP0NYuPXtcx/b1arC9mZbNWzG8effSS3XPnbFh1XKgXfHvkjvrrv\nRewxbBc+uuegGpXQ2sMuF+7PrpcOZ+dz9mPpgwtY/dKyJvMumfgqfQ/bmboejbcsxroSq2a8Ra/9\nB9aquIXShi9j7TBZ2pjXRsSK8jsF16t6S5Wvazlq+9NzfPttb8ddBrDDzv35+YMXA9B/0HZcO+Ui\nvnPklSx7c2Wzx69e+R7PPfoy+x+6F6+9+Eati2s10q1PDwC69urOtsMG8N7clWz9sT6N5n3v1ZWs\nmraEJXe+Qv2766AO6rrV0Xdk+aUX7zz/Fj0+ui1de2/VbuXv1AoQcbIE5pmSvgJ0kbQ7cBbwx9oW\nq/OaN/sNTvzE99Zv//LpKzjriB+zcumH26Eb9O63DevW1rN65Xt079GN/T73ce687v72KK7VQGlN\nPVEKuvTsSmlNPatnLq3aTDH0wv3Xry+598/U9ei6PigDrHjyL/Q+wM0YWeW5JpxVlsB8JvB9YA1w\nG3A/8IOqR2xBzr/hm+z9mT3o1Xcbbnn2R9xy1WQeuLXx360+A3pxzQMX8JFte1AqBceO+Tyn/vXl\n9Nm+N9+95iTqugjV1fHIxOk8NeWFdr4TayvrVqxh/nXPlTdKQa/hO7DNp/qzcvoSFt/6EvWrPuD1\nq2fQY6dt+Oi5w6qeqyGw7/i1j7dDyYuhrSbK70iq9dP/La0pw7LpcbdfN2kfds/B/6Hmc1V3yBev\nyhxz/jDpvFZfrxaarTFLeohGWm0i4vM1KZGZWStsKU0Z361Y7wF8ifILBc3M8qcATRnNBuaImL5J\n0mOSqr5628ysw3T+uJypKaNvxWYd8Gmgd81KZGbWCltKU8Z0yr9BotyEMRc4uZaFMjPbXEXolVE1\nMEuqA/5vRDzWTuUxM2udzh+Xqw/JjogScF07lcXMrNUUkXnJqyydSadK+pI2GZNtZpZLpRYsOdVk\nYJb0o7R6KnAnsEbSSkmrJDU/6YOZWQcoeo35SICI2DYi6iKie0T0Stu9qhxnZtZxogVLTlV7+NdF\nUh/KvTE+JCKW1qZIZmabr+i9Mvak3FWuscAcwK41KZGZWWvkuIkiq2pNGbMiYteIGNrI4qBsZrnU\nVq+WkrSTpIckzZI0U9LZKb2vpCmSXkmffVK6JF0jaY6k5yQNqzjXSSn/K5JOau4ePMWXmRVL271a\nah1wbkTsBRwInCFpL+ACYGpE7A5MTdsARwG7p2UMcD2sHz19CTCc8tugLmkI5k2pFpivbq7UZma5\n00YP/yJiUUQ8k9ZXAbOBwcAoYHzKNh44Nq2PAn4VZU8A20naETgCmBIRSyNiGTCF1LmiKU22MUfE\nL6sX28wsf1TK3kFZ0hjKtdsGY9Or8TbNtwuwH/AksH1ELEq7FgPbp/XBwPyKwxaktKbSm5Rlrgwz\ns86jBQNHKt9P2hRJ2wB3Ad+JiJWVY+0iIqS2nzbJbcxmVihtOcBEUjfKQfnXEXF3Sv5LaqIgfS5J\n6QuBnSoOH5LSmkpvUpM1ZknXUqUVJiLOqnZiM7MO0Ubd5dI0FOOA2RHx7xW7JgEnAT9JnxMr0r8t\naQLlB30rImKRpPuBH1U88DscuLDatas1ZUxr8Z2YmXW0tuvHfDDwVeB5STNS2kWUA/Idkk4GXgO+\nnPb9DjgamAO8C3yjXJxYKukHwNMp3+XNDdCr9vBvfFP7zMxyq40mJ4qIR2li5DMwspH8AZzRxLlu\nBm7Oeu0sbzAZAJwP7EX5nX8NF/LLWM0sd1rSKyOvsjz8+zXl/ntDgcuAeWyokpuZ5UvbDTDpMFkC\nc7+IGAesjYjfR8Q3AdeWzSyfChCYs/RjXps+F0k6BngD6Fslv5lZx+n8LRmZAvMVknoD5wLXAr2A\nc2paKjOzzZTnCfCzajYwR8TktLoCOLS2xTEza6UtITBL+k8aGWiS2prNzPKlvvO3ZWRpyphcsd4D\n+DvK7cxmZvmzJdSYI+Kuym1JtwGP1qxEZmatsSUE5kbsDgxs64KYmbWJgr/zDwBJq9i4jXkx5ZGA\nZmb5E1tAG3NEbNseBTEzaxMFePjX7Mg/SVOzpJmZ5UKRR/5J6gF8BOif5hFtmGWpF828FsXMrMPk\nOOBmVa0p41TgO8AgYDobAvNK4Loal8vMbPMUOTBHxNXA1ZLOjIhr27FMZmabbwuZ9rMkabuGDUl9\nJH2rhmUyM9t8BWhjzhKYT4mI5Q0bEbEMOKV2RTIza4X6UvYlp7IMMOkiSem1KUjqAnSvbbHMzDZP\nbAn9mIH7gNsl/SJtn5rSzMzyZ0sY+Ud5lN8Y4PS0PQW4sWYlMjNrjRy3HWfVbBtzRJQi4oaIGB0R\no4FZlCfMNzPLn1Ip+5JTmSYxkrQfcCLwZWAucHctC2VmttkKUGOuNvJvD8rB+ETgLeB2QBHht5iY\nWW5FfX1HF6HVqtWYXwQeAf42IuYASPK7/sws3wrw8K9aG/NxwCLgIUk3ShrJhmHZZmb5FKXsS041\nGZgj4t6IOAHYE3iI8rwZAyVdL+nw9iqgmVlLRCkyL3mVpVfG6oi4NSK+AAwBnsUT5ZtZXhWgxtyi\nV0ul4dhj02JmljtFePinKEDXks5C0piI8I+abcTfC9tUlkmMrO2M6egCWC75e2EbcWA2M8sZB2Yz\ns5xxYG5fbke0xvh7YRvxwz8zs5xxjdnMLGccmM3McqawgVlSvaQZkl6QdKekj7TiXL+UNDqt3yRp\nryp5R0j6zGZcY56k/k2kP5/uZUa1czd1DvuwInw/JD2Z7uF1SW9WfEd2aen5LV9aNPKvk3kvIvYF\nkPRr4DTg3xt2SuoaEetaetKI+MdmsowA3gH+2NJzV3FoRLzVhuezAnw/ImI4gKSvA/tHxLcr92/u\nPVjHK2yNeROPALul2sojkiYBsyR1kXSVpKclPSfpVACVXSfpJUn/AwxsOJGkhyXtn9aPlPSMpD9J\nmppqKqcB56Say19LGiDprnSNpyUdnI7tJ+kBSTMl3UQLZu6TdK+k6enYDw1OkLS1pP9O5XpB0vEp\n/dOSfp+OvV/Sjpv7D1owhfl+SLpU0i2SHgNukfR1SddV7J8saURaP1zS46mMd0rapvX/lNYmIqKQ\nC/BO+uwKTKT8zsIRwGpgaNo3Brg4rW8FTAOGUp7ydArQBRgELAdGp3wPA/sDA4D5Fefqmz4vBb5b\nUY5bgc+m9Z2B2Wn9GuD/pfVjgAD6N3If84DngRnAk5tcqyfwAtCvIm9/4EvAjRXn6A10o1xLG5DS\njgdu7uj/Tv5+tO77kfZ/Hbiu4vzTgZ6b7kvbk9N99gf+AGyd0s9vuJ6Xjl+K3JTRU9KMtP4IMA74\nDPBURMxN6YcDeze0D1IOYLsDhwC3RUQ98IakBxs5/4HAHxrOFRFLmyjH3wB7SesrPL1SzeQQyv+D\nExH/LWlZlXvZtCnjLEl/l9Z3SmV+u2L/88C/SboSmBwRj0j6JPBJYEoqSxfK821vqYr0/djUpIh4\nr5k8BwJ7AY+la3cHHm/BNayGihyY17chNkhfwNWVScCZEXH/JvmObsNy1AEHRsT7jZSlxdKfoX8D\nHBQR70p6GOhRmSciXpY0DDgauELSVOAeYGZEHLRZFy6eQn4/ksp7WMfGTZYN3xUBUyLixNZcyGpj\nS2ljbsr9wOmSukH5PYeStqb8J97xqY1xR6Cx9xw+ARwiaWg6tm9KXwVsW5HvAeDMhg1JDcHgD8BX\nUtpRQJ+MZe4NLEtBeU/KNZ+NSBoEvBsR/wVcBQwDXgIGSDoo5ekm6RMZr7ml6ozfj03NA/aVVCdp\nJ+CAivIdLGm3dI2tVX7Pp+VAkWvMWdwE7AI8o3IV5U3gWMq1y88Ds4DXaeRPvIh4Mz14u1tSHbAE\nOAz4LfAbSaMo/w93FvAfkp6j/O/9B8oPgC4DbpM0k3Lb7+sZy3wfcJqk2ZSD7RON5PkUcJWkErAW\nOD0iPkh/kl8jqXcqy8+AmRmvuyXqjN+PTT1G+c32s4DZwDMV5ft6usZWKe/FwMubeR1rQx6SbWaW\nM1t6U4aZWe44MJuZ5YwDs5lZzjgwm5nljAOzmVnOODCbmeWMA7OZWc78L86rhCTJEgO4AAAAAElF\nTkSuQmCC\n",
                "text/plain": "<Figure size 432x288 with 2 Axes>"
              }
            ],
            "_view_module": "@jupyter-widgets/output",
            "_model_module_version": "1.0.0",
            "_view_count": null,
            "_view_module_version": "1.0.0",
            "layout": "IPY_MODEL_f37b6cf956a44585810b4953b50424bf",
            "_model_module": "@jupyter-widgets/output"
          }
        },
        "331b70ebf0bc4925af2ff489c1497ed0": {
          "model_module": "@jupyter-widgets/controls",
          "model_name": "SliderStyleModel",
          "state": {
            "_view_name": "StyleView",
            "handle_color": null,
            "_model_name": "SliderStyleModel",
            "description_width": "",
            "_view_module": "@jupyter-widgets/base",
            "_model_module_version": "1.5.0",
            "_view_count": null,
            "_view_module_version": "1.2.0",
            "_model_module": "@jupyter-widgets/controls"
          }
        },
        "231abc6647cc480ba5730c8557eadb52": {
          "model_module": "@jupyter-widgets/base",
          "model_name": "LayoutModel",
          "state": {
            "_view_name": "LayoutView",
            "grid_template_rows": null,
            "right": null,
            "justify_content": null,
            "_view_module": "@jupyter-widgets/base",
            "overflow": null,
            "_model_module_version": "1.2.0",
            "_view_count": null,
            "flex_flow": null,
            "width": null,
            "min_width": null,
            "border": null,
            "align_items": null,
            "bottom": null,
            "_model_module": "@jupyter-widgets/base",
            "top": null,
            "grid_column": null,
            "overflow_y": null,
            "overflow_x": null,
            "grid_auto_flow": null,
            "grid_area": null,
            "grid_template_columns": null,
            "flex": null,
            "_model_name": "LayoutModel",
            "justify_items": null,
            "grid_row": null,
            "max_height": null,
            "align_content": null,
            "visibility": null,
            "align_self": null,
            "height": null,
            "min_height": null,
            "padding": null,
            "grid_auto_rows": null,
            "grid_gap": null,
            "max_width": null,
            "order": null,
            "_view_module_version": "1.2.0",
            "grid_template_areas": null,
            "object_position": null,
            "object_fit": null,
            "grid_auto_columns": null,
            "margin": null,
            "display": null,
            "left": null
          }
        }
      }
    }
  },
  "cells": [
    {
      "cell_type": "markdown",
      "metadata": {
        "colab_type": "text",
        "id": "EZyiOteN16cD"
      },
      "source": [
        "Lambda School Data Science\n",
        "\n",
        "*Unit 2, Sprint 2, Module 4*\n",
        "\n",
        "---"
      ]
    },
    {
      "cell_type": "markdown",
      "metadata": {
        "colab_type": "text",
        "id": "KMI2k-oBsS08"
      },
      "source": [
        "# Classification Metrics\n",
        "\n",
        "- get and interpret the **confusion matrix** for classification models\n",
        "- use classification metrics: **precision, recall**\n",
        "- understand the relationships between precision, recall, **thresholds, and predicted probabilities**, to help **make decisions and allocate budgets**\n",
        "- Get **ROC AUC** (Receiver Operating Characteristic, Area Under the Curve)"
      ]
    },
    {
      "cell_type": "markdown",
      "metadata": {
        "colab_type": "text",
        "id": "rU7RuVcjWdcp"
      },
      "source": [
        "### Setup\n",
        "\n",
        "Run the code cell below. You can work locally (follow the [local setup instructions](https://lambdaschool.github.io/ds/unit2/local/)) or on Colab.\n",
        "\n",
        "Libraries\n",
        "\n",
        "- category_encoders\n",
        "- ipywidgets\n",
        "- matplotlib\n",
        "- numpy\n",
        "- pandas\n",
        "- scikit-learn\n",
        "- seaborn"
      ]
    },
    {
      "cell_type": "code",
      "metadata": {
        "colab_type": "code",
        "id": "OpFoag9QoTgA",
        "colab": {}
      },
      "source": [
        "%%capture\n",
        "import sys\n",
        "\n",
        "# If you're on Colab:\n",
        "if 'google.colab' in sys.modules:\n",
        "    DATA_PATH = 'https://raw.githubusercontent.com/LambdaSchool/DS-Unit-2-Kaggle-Challenge/master/data/'\n",
        "    !pip install category_encoders==2.*\n",
        "\n",
        "# If you're working locally:\n",
        "else:\n",
        "    DATA_PATH = '../data/'"
      ],
      "execution_count": 0,
      "outputs": []
    },
    {
      "cell_type": "markdown",
      "metadata": {
        "colab_type": "text",
        "id": "EfhziD2Wn_iO"
      },
      "source": [
        "# Get and interpret the confusion matrix for classification models"
      ]
    },
    {
      "cell_type": "markdown",
      "metadata": {
        "id": "dFEW5evnT864",
        "colab_type": "text"
      },
      "source": [
        "## Overview"
      ]
    },
    {
      "cell_type": "markdown",
      "metadata": {
        "colab_type": "text",
        "id": "xZNCHldPn_iL"
      },
      "source": [
        "First, load the Tanzania Waterpumps data and fit a model. (This code isn't new, we've seen it all before.)"
      ]
    },
    {
      "cell_type": "code",
      "metadata": {
        "colab_type": "code",
        "id": "t8Cjxzrwn_iL",
        "outputId": "4cae35c7-d06a-4207-ae29-062570feabc6",
        "colab": {
          "base_uri": "https://localhost:8080/",
          "height": 34
        }
      },
      "source": [
        "%matplotlib inline\n",
        "import category_encoders as ce\n",
        "import matplotlib.pyplot as plt\n",
        "import numpy as np\n",
        "import pandas as pd\n",
        "import seaborn as sns\n",
        "from sklearn.impute import SimpleImputer\n",
        "from sklearn.metrics import accuracy_score\n",
        "from sklearn.model_selection import train_test_split\n",
        "from sklearn.pipeline import make_pipeline\n",
        "from sklearn.ensemble import RandomForestClassifier\n",
        "\n",
        "def wrangle(X):\n",
        "    \"\"\"Wrangles train, validate, and test sets in the same way\"\"\"\n",
        "    X = X.copy()\n",
        "\n",
        "    # Convert date_recorded to datetime\n",
        "    X['date_recorded'] = pd.to_datetime(X['date_recorded'], infer_datetime_format=True)\n",
        "    \n",
        "    # Extract components from date_recorded, then drop the original column\n",
        "    X['year_recorded'] = X['date_recorded'].dt.year\n",
        "    X['month_recorded'] = X['date_recorded'].dt.month\n",
        "    X['day_recorded'] = X['date_recorded'].dt.day\n",
        "    X = X.drop(columns='date_recorded')\n",
        "    \n",
        "    # Engineer feature: how many years from construction_year to date_recorded\n",
        "    X['years'] = X['year_recorded'] - X['construction_year']    \n",
        "    \n",
        "    # Drop recorded_by (never varies) and id (always varies, random)\n",
        "    unusable_variance = ['recorded_by', 'id']\n",
        "    X = X.drop(columns=unusable_variance)\n",
        "    \n",
        "    # Drop duplicate columns\n",
        "    duplicate_columns = ['quantity_group']\n",
        "    X = X.drop(columns=duplicate_columns)\n",
        "    \n",
        "    # About 3% of the time, latitude has small values near zero,\n",
        "    # outside Tanzania, so we'll treat these like null values\n",
        "    X['latitude'] = X['latitude'].replace(-2e-08, np.nan)\n",
        "    \n",
        "    # When columns have zeros and shouldn't, they are like null values\n",
        "    cols_with_zeros = ['construction_year', 'longitude', 'latitude', 'gps_height', 'population']\n",
        "    for col in cols_with_zeros:\n",
        "        X[col] = X[col].replace(0, np.nan)\n",
        "        \n",
        "    return X\n",
        "\n",
        "\n",
        "# Merge train_features.csv & train_labels.csv\n",
        "train = pd.merge(pd.read_csv(DATA_PATH+'waterpumps/train_features.csv'), \n",
        "                 pd.read_csv(DATA_PATH+'waterpumps/train_labels.csv'))\n",
        "\n",
        "# Read test_features.csv & sample_submission.csv\n",
        "test = pd.read_csv(DATA_PATH+'waterpumps/test_features.csv')\n",
        "sample_submission = pd.read_csv(DATA_PATH+'waterpumps/sample_submission.csv')\n",
        "\n",
        "# Split train into train & val. Make val the same size as test.\n",
        "target = 'status_group'\n",
        "train, val = train_test_split(train, test_size=len(test),  \n",
        "                              stratify=train[target], random_state=42)\n",
        "\n",
        "# Wrangle train, validate, and test sets in the same way\n",
        "train = wrangle(train)\n",
        "val = wrangle(val)\n",
        "test = wrangle(test)\n",
        "\n",
        "# Arrange data into X features matrix and y target vector\n",
        "X_train = train.drop(columns=target)\n",
        "y_train = train[target]\n",
        "X_val = val.drop(columns=target)\n",
        "y_val = val[target]\n",
        "X_test = test\n",
        "\n",
        "# Make pipeline!\n",
        "pipeline = make_pipeline(\n",
        "    ce.OrdinalEncoder(), \n",
        "    SimpleImputer(strategy='mean'), \n",
        "    RandomForestClassifier(n_estimators=100, random_state=42, n_jobs=-1)\n",
        ")\n",
        "\n",
        "# Fit on train, score on val\n",
        "pipeline.fit(X_train, y_train)\n",
        "y_pred = pipeline.predict(X_val)\n",
        "print('Validation Accuracy', accuracy_score(y_val, y_pred))"
      ],
      "execution_count": 40,
      "outputs": [
        {
          "output_type": "stream",
          "text": [
            "Validation Accuracy 0.8140409527789386\n"
          ],
          "name": "stdout"
        }
      ]
    },
    {
      "cell_type": "markdown",
      "metadata": {
        "id": "FbmAjcS0T86-",
        "colab_type": "text"
      },
      "source": [
        "## Follow Along\n",
        "\n",
        "Scikit-learn added a [**`plot_confusion_matrix`**](https://scikit-learn.org/stable/modules/generated/sklearn.metrics.plot_confusion_matrix.html) function in version 0.22!"
      ]
    },
    {
      "cell_type": "code",
      "metadata": {
        "colab_type": "code",
        "id": "2MSWehj9n_iO",
        "colab": {}
      },
      "source": [
        "import sklearn \n",
        "sklearn.__version__\n",
        "\n",
        "from sklearn.metrics import plot_confusion_matrix"
      ],
      "execution_count": 0,
      "outputs": []
    },
    {
      "cell_type": "code",
      "metadata": {
        "id": "KLEKwNpVtHJu",
        "colab_type": "code",
        "colab": {
          "base_uri": "https://localhost:8080/",
          "height": 406
        },
        "outputId": "e2b71c7a-310b-44b4-9518-5e2b12b6c668"
      },
      "source": [
        "plot_confusion_matrix(pipeline, X_val, y_val, values_format='.0f', xticks_rotation='vertical')"
      ],
      "execution_count": 42,
      "outputs": [
        {
          "output_type": "execute_result",
          "data": {
            "text/plain": [
              "<sklearn.metrics._plot.confusion_matrix.ConfusionMatrixDisplay at 0x7fc773fc4a20>"
            ]
          },
          "metadata": {
            "tags": []
          },
          "execution_count": 42
        },
        {
          "output_type": "display_data",
          "data": {
            "image/png": "[encoded data removed]",
            "text/plain": [
              "<Figure size 432x288 with 2 Axes>"
            ]
          },
          "metadata": {
            "tags": []
          }
        }
      ]
    },
    {
      "cell_type": "markdown",
      "metadata": {
        "id": "QO_GxzQ1tXaD",
        "colab_type": "text"
      },
      "source": [
        "the heatmap shows the balance of numbers. The important thing to focuse on is the diagonal. 6821 True predictions. Anything off the diagonal is where our model is incorrect or making wrong predictions. "
      ]
    },
    {
      "cell_type": "markdown",
      "metadata": {
        "colab_type": "text",
        "id": "fP6FGBGUn_iQ"
      },
      "source": [
        "#### How many correct predictions were made?"
      ]
    },
    {
      "cell_type": "code",
      "metadata": {
        "colab_type": "code",
        "id": "wRSaYRPWn_iR",
        "colab": {}
      },
      "source": [
        "correct_predictions = 7005 + 5032"
      ],
      "execution_count": 0,
      "outputs": []
    },
    {
      "cell_type": "markdown",
      "metadata": {
        "colab_type": "text",
        "id": "-q-3R7Ean_iT"
      },
      "source": [
        "#### How many total predictions were made?"
      ]
    },
    {
      "cell_type": "code",
      "metadata": {
        "colab_type": "code",
        "id": "vLAQL05fn_iT",
        "colab": {}
      },
      "source": [
        "# total predictions is the total numbers in the box"
      ],
      "execution_count": 0,
      "outputs": []
    },
    {
      "cell_type": "markdown",
      "metadata": {
        "colab_type": "text",
        "id": "K1yQ_jYPn_iV"
      },
      "source": [
        "#### What was the classification accuracy?"
      ]
    },
    {
      "cell_type": "code",
      "metadata": {
        "id": "P5cjxMFzuraG",
        "colab_type": "code",
        "colab": {}
      },
      "source": [
        "#correct/total"
      ],
      "execution_count": 0,
      "outputs": []
    },
    {
      "cell_type": "code",
      "metadata": {
        "colab_type": "code",
        "id": "fskAC6SYn_iW",
        "outputId": "a3de7bbd-95a9-4e2e-95bd-c3a3ba442ee6",
        "colab": {
          "base_uri": "https://localhost:8080/",
          "height": 34
        }
      },
      "source": [
        "accuracy_score(y_val, y_pred)"
      ],
      "execution_count": 46,
      "outputs": [
        {
          "output_type": "execute_result",
          "data": {
            "text/plain": [
              "0.8140409527789386"
            ]
          },
          "metadata": {
            "tags": []
          },
          "execution_count": 46
        }
      ]
    },
    {
      "cell_type": "markdown",
      "metadata": {
        "colab_type": "text",
        "id": "EqFgEm3tn_iY"
      },
      "source": [
        "# Use classification metrics: precision, recall"
      ]
    },
    {
      "cell_type": "markdown",
      "metadata": {
        "id": "sVMvbVo5T87M",
        "colab_type": "text"
      },
      "source": [
        "## Overview\n",
        "\n",
        "[Scikit-Learn User Guide — Classification Report](https://scikit-learn.org/stable/modules/model_evaluation.html#classification-report)"
      ]
    },
    {
      "cell_type": "code",
      "metadata": {
        "colab_type": "code",
        "id": "mGv7OLL4n_iY",
        "outputId": "d6bf29d3-93eb-4179-efae-990a8e9372d2",
        "colab": {
          "base_uri": "https://localhost:8080/",
          "height": 187
        }
      },
      "source": [
        "from sklearn.metrics import classification_report\n",
        "print(classification_report(y_val, y_pred))"
      ],
      "execution_count": 47,
      "outputs": [
        {
          "output_type": "stream",
          "text": [
            "                         precision    recall  f1-score   support\n",
            "\n",
            "             functional       0.81      0.90      0.85      7798\n",
            "functional needs repair       0.58      0.32      0.41      1043\n",
            "         non functional       0.85      0.79      0.82      5517\n",
            "\n",
            "               accuracy                           0.81     14358\n",
            "              macro avg       0.75      0.67      0.69     14358\n",
            "           weighted avg       0.81      0.81      0.81     14358\n",
            "\n"
          ],
          "name": "stdout"
        }
      ]
    },
    {
      "cell_type": "markdown",
      "metadata": {
        "colab_type": "text",
        "id": "Z1U7HdC6n_ia"
      },
      "source": [
        "#### Wikipedia, [Precision and recall](https://en.wikipedia.org/wiki/Precision_and_recall)\n",
        "\n",
        "> Both precision and recall are based on an understanding and measure of relevance.\n",
        "\n",
        "> Suppose a computer program for recognizing dogs in photographs identifies 8 dogs in a picture containing 12 dogs and some cats. Of the 8 identified as dogs, 5 actually are dogs (true positives), while the rest are cats (false positives). The program's precision is 5/8 while its recall is 5/12.\n",
        "\n",
        "> High precision means that an algorithm returned substantially more relevant results than irrelevant ones, while high recall means that an algorithm returned most of the relevant results.\n",
        "\n",
        "<img src=\"https://upload.wikimedia.org/wikipedia/commons/thumb/2/26/Precisionrecall.svg/700px-Precisionrecall.svg.png\" width=\"400\">"
      ]
    },
    {
      "cell_type": "markdown",
      "metadata": {
        "id": "LnNHXdJ8T87R",
        "colab_type": "text"
      },
      "source": [
        "## Follow Along"
      ]
    },
    {
      "cell_type": "markdown",
      "metadata": {
        "colab_type": "text",
        "id": "50R-Xhwdn_ie"
      },
      "source": [
        "#### [We can get precision & recall from the confusion matrix](https://en.wikipedia.org/wiki/Precision_and_recall#Definition_(classification_context))"
      ]
    },
    {
      "cell_type": "code",
      "metadata": {
        "colab_type": "code",
        "id": "eIta6Vwsn_if",
        "outputId": "ca0a51f7-3fff-4623-f193-5fdbfd8f2bbc",
        "colab": {
          "base_uri": "https://localhost:8080/",
          "height": 187
        }
      },
      "source": [
        "cr = classification_report(y_val, y_pred)\n",
        "print(cr)\n",
        "#precision = true_positives/ (true_positives + false_positives)\n",
        "\n",
        "#recall = true_positives / (true_positives + false_negatives)"
      ],
      "execution_count": 48,
      "outputs": [
        {
          "output_type": "stream",
          "text": [
            "                         precision    recall  f1-score   support\n",
            "\n",
            "             functional       0.81      0.90      0.85      7798\n",
            "functional needs repair       0.58      0.32      0.41      1043\n",
            "         non functional       0.85      0.79      0.82      5517\n",
            "\n",
            "               accuracy                           0.81     14358\n",
            "              macro avg       0.75      0.67      0.69     14358\n",
            "           weighted avg       0.81      0.81      0.81     14358\n",
            "\n"
          ],
          "name": "stdout"
        }
      ]
    },
    {
      "cell_type": "markdown",
      "metadata": {
        "colab_type": "text",
        "id": "iY2rfzA4n_ih"
      },
      "source": [
        "#### How many correct predictions of \"non functional\"?"
      ]
    },
    {
      "cell_type": "code",
      "metadata": {
        "colab_type": "code",
        "id": "O-anLkCin_ii",
        "colab": {}
      },
      "source": [
        "correct_predictions_nonfunctional = 4351"
      ],
      "execution_count": 0,
      "outputs": []
    },
    {
      "cell_type": "markdown",
      "metadata": {
        "colab_type": "text",
        "id": "pYM6f99cn_ij"
      },
      "source": [
        "#### How many total predictions of \"non functional\"?"
      ]
    },
    {
      "cell_type": "code",
      "metadata": {
        "colab_type": "code",
        "id": "_qCiA8j2n_ik",
        "colab": {}
      },
      "source": [
        "total_predictions_nonfunctional = 622 + 156 + 4351"
      ],
      "execution_count": 0,
      "outputs": []
    },
    {
      "cell_type": "markdown",
      "metadata": {
        "colab_type": "text",
        "id": "mXNuZ_Rnn_il"
      },
      "source": [
        "#### What's the precision for \"non functional\"?"
      ]
    },
    {
      "cell_type": "code",
      "metadata": {
        "colab_type": "code",
        "id": "X1f7VsyXn_im",
        "outputId": "701918c0-4044-4f53-df28-3e1ce45369d4",
        "colab": {
          "base_uri": "https://localhost:8080/",
          "height": 34
        }
      },
      "source": [
        "correct_predictions_nonfunctional / total_predictions_nonfunctional\n",
        "# same as precision for nonfuncitonal"
      ],
      "execution_count": 51,
      "outputs": [
        {
          "output_type": "execute_result",
          "data": {
            "text/plain": [
              "0.8483135114057321"
            ]
          },
          "metadata": {
            "tags": []
          },
          "execution_count": 51
        }
      ]
    },
    {
      "cell_type": "markdown",
      "metadata": {
        "colab_type": "text",
        "id": "ci4QguAkn_in"
      },
      "source": [
        "#### How many actual \"non functional\" waterpumps?"
      ]
    },
    {
      "cell_type": "code",
      "metadata": {
        "colab_type": "code",
        "id": "FlqxNhlYn_io",
        "colab": {}
      },
      "source": [
        "actual_nonfunctional = 1098 + 68 + 4351"
      ],
      "execution_count": 0,
      "outputs": []
    },
    {
      "cell_type": "markdown",
      "metadata": {
        "colab_type": "text",
        "id": "9IY-vC-hn_iq"
      },
      "source": [
        "#### What's the recall for \"non functional\"?"
      ]
    },
    {
      "cell_type": "code",
      "metadata": {
        "colab_type": "code",
        "id": "4U3v8lPP4KbP",
        "outputId": "e62198b4-3b6a-49f8-ed16-1016951ebda4",
        "colab": {
          "base_uri": "https://localhost:8080/",
          "height": 34
        }
      },
      "source": [
        "recall = correct_predictions_nonfunctional / actual_nonfunctional\n",
        "recall"
      ],
      "execution_count": 53,
      "outputs": [
        {
          "output_type": "execute_result",
          "data": {
            "text/plain": [
              "0.7886532535798442"
            ]
          },
          "metadata": {
            "tags": []
          },
          "execution_count": 53
        }
      ]
    },
    {
      "cell_type": "code",
      "metadata": {
        "id": "bAVi9gWTyJrB",
        "colab_type": "code",
        "colab": {
          "base_uri": "https://localhost:8080/",
          "height": 187
        },
        "outputId": "c27d754f-26d0-4114-d835-1ee850788512"
      },
      "source": [
        "print(cr)"
      ],
      "execution_count": 54,
      "outputs": [
        {
          "output_type": "stream",
          "text": [
            "                         precision    recall  f1-score   support\n",
            "\n",
            "             functional       0.81      0.90      0.85      7798\n",
            "functional needs repair       0.58      0.32      0.41      1043\n",
            "         non functional       0.85      0.79      0.82      5517\n",
            "\n",
            "               accuracy                           0.81     14358\n",
            "              macro avg       0.75      0.67      0.69     14358\n",
            "           weighted avg       0.81      0.81      0.81     14358\n",
            "\n"
          ],
          "name": "stdout"
        }
      ]
    },
    {
      "cell_type": "markdown",
      "metadata": {
        "colab_type": "text",
        "id": "ObVED_ugn_is"
      },
      "source": [
        "# Understand the relationships between precision, recall, thresholds, and predicted probabilities, to help make decisions and allocate budgets"
      ]
    },
    {
      "cell_type": "markdown",
      "metadata": {
        "id": "XIKBaMEXT87x",
        "colab_type": "text"
      },
      "source": [
        "## Overview"
      ]
    },
    {
      "cell_type": "markdown",
      "metadata": {
        "colab_type": "text",
        "id": "kBcQQJ2kn_is"
      },
      "source": [
        "### Imagine this scenario...\n",
        "\n",
        "Suppose there are over 14,000 waterpumps that you _do_ have some information about, but you _don't_ know whether they are currently functional, or functional but need repair, or non-functional."
      ]
    },
    {
      "cell_type": "code",
      "metadata": {
        "colab_type": "code",
        "id": "jEEy86CHn_it",
        "outputId": "e2d40270-453c-4782-94cc-0a0e3e7b67a0",
        "colab": {
          "base_uri": "https://localhost:8080/",
          "height": 34
        }
      },
      "source": [
        "len(test)"
      ],
      "execution_count": 55,
      "outputs": [
        {
          "output_type": "execute_result",
          "data": {
            "text/plain": [
              "14358"
            ]
          },
          "metadata": {
            "tags": []
          },
          "execution_count": 55
        }
      ]
    },
    {
      "cell_type": "markdown",
      "metadata": {
        "colab_type": "text",
        "id": "3az2llAAn_iu"
      },
      "source": [
        "**You have the time and resources to go to just 2,000 waterpumps for proactive maintenance.** You want to predict, which 2,000 are most likely non-functional or in need of repair, to help you triage and prioritize your waterpump inspections.\n",
        "\n",
        "You have historical inspection data for over 59,000 other waterpumps, which you'll use to fit your predictive model."
      ]
    },
    {
      "cell_type": "code",
      "metadata": {
        "colab_type": "code",
        "id": "pEWc2zt2n_iv",
        "outputId": "9b6cbd03-7798-419c-c198-e244d6966818",
        "colab": {
          "base_uri": "https://localhost:8080/",
          "height": 34
        }
      },
      "source": [
        "len(train) + len(val)"
      ],
      "execution_count": 56,
      "outputs": [
        {
          "output_type": "execute_result",
          "data": {
            "text/plain": [
              "59400"
            ]
          },
          "metadata": {
            "tags": []
          },
          "execution_count": 56
        }
      ]
    },
    {
      "cell_type": "markdown",
      "metadata": {
        "colab_type": "text",
        "id": "L2LiGJLin_ix"
      },
      "source": [
        "You have historical inspection data for over 59,000 other waterpumps, which you'll use to fit your predictive model.\n",
        "\n",
        "Based on this historical data, if you randomly chose waterpumps to inspect, then about 46% of the waterpumps would need repairs, and 54% would not need repairs."
      ]
    },
    {
      "cell_type": "code",
      "metadata": {
        "colab_type": "code",
        "id": "JliDXTp5n_iy",
        "outputId": "b96980c5-fe02-450e-f4bb-9d10e60c9dd8",
        "colab": {
          "base_uri": "https://localhost:8080/",
          "height": 85
        }
      },
      "source": [
        "y_train.value_counts(normalize=True)"
      ],
      "execution_count": 57,
      "outputs": [
        {
          "output_type": "execute_result",
          "data": {
            "text/plain": [
              "functional                 0.543071\n",
              "non functional             0.384241\n",
              "functional needs repair    0.072688\n",
              "Name: status_group, dtype: float64"
            ]
          },
          "metadata": {
            "tags": []
          },
          "execution_count": 57
        }
      ]
    },
    {
      "cell_type": "code",
      "metadata": {
        "colab_type": "code",
        "id": "0dP7fjQJeQEX",
        "outputId": "d9dc9834-f63f-473d-f3ff-5efd66d1a805",
        "colab": {
          "base_uri": "https://localhost:8080/",
          "height": 34
        }
      },
      "source": [
        "# baseline of inspections \n",
        "2000 * 0.46"
      ],
      "execution_count": 58,
      "outputs": [
        {
          "output_type": "execute_result",
          "data": {
            "text/plain": [
              "920.0"
            ]
          },
          "metadata": {
            "tags": []
          },
          "execution_count": 58
        }
      ]
    },
    {
      "cell_type": "markdown",
      "metadata": {
        "colab_type": "text",
        "id": "dLnJ7Fnan_i1"
      },
      "source": [
        "**Can you do better than random at prioritizing inspections?**"
      ]
    },
    {
      "cell_type": "markdown",
      "metadata": {
        "colab_type": "text",
        "id": "sIh2Xj8fn_i3"
      },
      "source": [
        "In this scenario, we should define our target differently. We want to identify which waterpumps are non-functional _or_ are functional but needs repair:"
      ]
    },
    {
      "cell_type": "code",
      "metadata": {
        "colab_type": "code",
        "id": "7naqusI0n_i4",
        "outputId": "1d69dab3-8e41-405c-a7d9-3eff1f7131d1",
        "colab": {
          "base_uri": "https://localhost:8080/",
          "height": 68
        }
      },
      "source": [
        "y_train = y_train != 'functional'\n",
        "y_val = y_val != 'functional'\n",
        "y_train.value_counts(normalize=True)"
      ],
      "execution_count": 59,
      "outputs": [
        {
          "output_type": "execute_result",
          "data": {
            "text/plain": [
              "False    0.543071\n",
              "True     0.456929\n",
              "Name: status_group, dtype: float64"
            ]
          },
          "metadata": {
            "tags": []
          },
          "execution_count": 59
        }
      ]
    },
    {
      "cell_type": "markdown",
      "metadata": {
        "colab_type": "text",
        "id": "P1UR1t8Zn_i6"
      },
      "source": [
        "We already made our validation set the same size as our test set."
      ]
    },
    {
      "cell_type": "code",
      "metadata": {
        "colab_type": "code",
        "id": "CHHIplB7n_i8",
        "outputId": "c8c17c00-f2aa-47a9-e0dd-3ca5d2ec33cb",
        "colab": {
          "base_uri": "https://localhost:8080/",
          "height": 34
        }
      },
      "source": [
        "len(val) == len(test)"
      ],
      "execution_count": 60,
      "outputs": [
        {
          "output_type": "execute_result",
          "data": {
            "text/plain": [
              "True"
            ]
          },
          "metadata": {
            "tags": []
          },
          "execution_count": 60
        }
      ]
    },
    {
      "cell_type": "markdown",
      "metadata": {
        "colab_type": "text",
        "id": "g41DA70rn_i9"
      },
      "source": [
        "We can refit our model, using the redefined target.\n",
        "\n",
        "Then make predictions for the validation set."
      ]
    },
    {
      "cell_type": "code",
      "metadata": {
        "colab_type": "code",
        "id": "VXL0LaXQn_i-",
        "colab": {}
      },
      "source": [
        "pipeline.fit(X_train, y_train)\n",
        "y_pred = pipeline.predict(X_val)"
      ],
      "execution_count": 0,
      "outputs": []
    },
    {
      "cell_type": "markdown",
      "metadata": {
        "id": "wGkkZxsnT88W",
        "colab_type": "text"
      },
      "source": [
        "## Follow Along"
      ]
    },
    {
      "cell_type": "markdown",
      "metadata": {
        "colab_type": "text",
        "id": "qISPzM43n_jA"
      },
      "source": [
        "#### Look at the confusion matrix:"
      ]
    },
    {
      "cell_type": "code",
      "metadata": {
        "colab_type": "code",
        "id": "y72fakpmn_jB",
        "outputId": "4e78404c-8aea-47da-d9da-80a8d7fa35ff",
        "colab": {
          "base_uri": "https://localhost:8080/",
          "height": 295
        }
      },
      "source": [
        "plot_confusion_matrix(pipeline, X_val, y_val, values_format ='.0f', xticks_rotation='vertical');"
      ],
      "execution_count": 63,
      "outputs": [
        {
          "output_type": "display_data",
          "data": {
            "image/png": "[encoded data removed]",
            "text/plain": [
              "<Figure size 432x288 with 2 Axes>"
            ]
          },
          "metadata": {
            "tags": []
          }
        }
      ]
    },
    {
      "cell_type": "markdown",
      "metadata": {
        "colab_type": "text",
        "id": "M30BXR6Rn_jC"
      },
      "source": [
        "#### How many total predictions of \"True\" (\"non functional\" or \"functional needs repair\") ?"
      ]
    },
    {
      "cell_type": "code",
      "metadata": {
        "colab_type": "code",
        "id": "4IeTJFo8n_jD",
        "outputId": "4a0e545b-419d-4832-d30c-dff745fd6a49",
        "colab": {
          "base_uri": "https://localhost:8080/",
          "height": 34
        }
      },
      "source": [
        "5032 + 977"
      ],
      "execution_count": 65,
      "outputs": [
        {
          "output_type": "execute_result",
          "data": {
            "text/plain": [
              "6009"
            ]
          },
          "metadata": {
            "tags": []
          },
          "execution_count": 65
        }
      ]
    },
    {
      "cell_type": "markdown",
      "metadata": {
        "colab_type": "text",
        "id": "1aZSdskSn_jF"
      },
      "source": [
        "### We don't have \"budget\" to take action on all these predictions\n",
        "\n",
        "- But we can get predicted probabilities, to rank the predictions. \n",
        "- Then change the threshold, to change the number of positive predictions, based on our budget."
      ]
    },
    {
      "cell_type": "markdown",
      "metadata": {
        "colab_type": "text",
        "id": "rXkfXDDZn_jF"
      },
      "source": [
        "### Get predicted probabilities and plot the distribution"
      ]
    },
    {
      "cell_type": "code",
      "metadata": {
        "id": "_r9go5yxzsOq",
        "colab_type": "code",
        "colab": {
          "base_uri": "https://localhost:8080/",
          "height": 136
        },
        "outputId": "f7317614-5489-4241-a775-c5e63f710ee1"
      },
      "source": [
        "pipeline.predict_proba(X_val)\n",
        "# array of the predicted list"
      ],
      "execution_count": 69,
      "outputs": [
        {
          "output_type": "execute_result",
          "data": {
            "text/plain": [
              "array([[0.  , 1.  ],\n",
              "       [0.26, 0.74],\n",
              "       [0.9 , 0.1 ],\n",
              "       ...,\n",
              "       [0.91, 0.09],\n",
              "       [0.41, 0.59],\n",
              "       [0.98, 0.02]])"
            ]
          },
          "metadata": {
            "tags": []
          },
          "execution_count": 69
        }
      ]
    },
    {
      "cell_type": "code",
      "metadata": {
        "colab_type": "code",
        "id": "jwfe7j7W_jTp",
        "outputId": "112016d8-f33b-4c3c-ecd1-5f2a571e193f",
        "colab": {
          "base_uri": "https://localhost:8080/",
          "height": 34
        }
      },
      "source": [
        "pipeline.predict(X_val)"
      ],
      "execution_count": 68,
      "outputs": [
        {
          "output_type": "execute_result",
          "data": {
            "text/plain": [
              "array([ True,  True, False, ..., False,  True, False])"
            ]
          },
          "metadata": {
            "tags": []
          },
          "execution_count": 68
        }
      ]
    },
    {
      "cell_type": "code",
      "metadata": {
        "id": "artLs4NJ0Bs5",
        "colab_type": "code",
        "colab": {
          "base_uri": "https://localhost:8080/",
          "height": 34
        },
        "outputId": "8954faa2-b691-4bcc-c440-9f32b9a18ad6"
      },
      "source": [
        "# predicted probabilites for the positive class \n",
        "pipeline.predict_proba(X_val)[:, 1]"
      ],
      "execution_count": 70,
      "outputs": [
        {
          "output_type": "execute_result",
          "data": {
            "text/plain": [
              "array([1.  , 0.74, 0.1 , ..., 0.09, 0.59, 0.02])"
            ]
          },
          "metadata": {
            "tags": []
          },
          "execution_count": 70
        }
      ]
    },
    {
      "cell_type": "code",
      "metadata": {
        "colab_type": "code",
        "id": "SjOhH0BMB55A",
        "outputId": "7602ed1d-18b9-45a2-f06a-7224f970837a",
        "colab": {
          "base_uri": "https://localhost:8080/",
          "height": 34
        }
      },
      "source": [
        "# predicted true values\n",
        "threshold = 0.5\n",
        "sum(pipeline.predict_proba(X_val)[:, 1] > threshold)\n",
        "# Those numbers are just the percent of individual trees that predicted functional or nonfunctional?\n"
      ],
      "execution_count": 72,
      "outputs": [
        {
          "output_type": "execute_result",
          "data": {
            "text/plain": [
              "6009"
            ]
          },
          "metadata": {
            "tags": []
          },
          "execution_count": 72
        }
      ]
    },
    {
      "cell_type": "code",
      "metadata": {
        "id": "uu55DptGT88n",
        "colab_type": "code",
        "colab": {
          "base_uri": "https://localhost:8080/",
          "height": 34
        },
        "outputId": "3c57dbbf-d98a-4890-b3f9-934248942046"
      },
      "source": [
        "threshold = 0.925\n",
        "sum(pipeline.predict_proba(X_val)[:, 1] > threshold)"
      ],
      "execution_count": 78,
      "outputs": [
        {
          "output_type": "execute_result",
          "data": {
            "text/plain": [
              "2033"
            ]
          },
          "metadata": {
            "tags": []
          },
          "execution_count": 78
        }
      ]
    },
    {
      "cell_type": "markdown",
      "metadata": {
        "colab_type": "text",
        "id": "eD6pRFKOn_jH"
      },
      "source": [
        "### Change the threshold"
      ]
    },
    {
      "cell_type": "code",
      "metadata": {
        "id": "WntUMrLg2_jI",
        "colab_type": "code",
        "colab": {
          "base_uri": "https://localhost:8080/",
          "height": 265
        },
        "outputId": "d4662e9e-91f6-4236-99a2-42746501dd79"
      },
      "source": [
        "import seaborn as snsn\n",
        "\n",
        "y_pred_proba = pipeline.predict_proba(X_val)[:, 1]\n",
        "ax = sns.distplot(y_pred_proba)\n",
        "threshold = .5\n",
        "ax.axvline(threshold, color='red');"
      ],
      "execution_count": 81,
      "outputs": [
        {
          "output_type": "display_data",
          "data": {
            "image/png": "[encoded data removed]",
            "text/plain": [
              "<Figure size 432x288 with 1 Axes>"
            ]
          },
          "metadata": {
            "tags": []
          }
        }
      ]
    },
    {
      "cell_type": "code",
      "metadata": {
        "id": "eUEYhdoB4Ic4",
        "colab_type": "code",
        "colab": {
          "base_uri": "https://localhost:8080/",
          "height": 698,
          "referenced_widgets": [
            "ff7c9e2473714cd7ae87ef54c22bbdec",
            "d4366f15760f4321b75da211cb72ae49",
            "b695a81fe1174c57a10075c56a7680d3",
            "74bfcb9be4b040628f9aa2c062ba8eb6",
            "331b70ebf0bc4925af2ff489c1497ed0",
            "231abc6647cc480ba5730c8557eadb52"
          ]
        },
        "outputId": "bcc39409-5071-4fa7-e99f-ef250bcb41e0"
      },
      "source": [
        "from ipywidgets import interact, fixed\n",
        "import seaborn as sns\n",
        "from sklearn.metrics import confusion_matrix\n",
        "from sklearn.utils.multiclass import unique_labels\n",
        "def my_confusion_matrix(y_true, y_pred):\n",
        "    labels = unique_labels(y_true)\n",
        "    columns = [f'Predicted {label}' for label in labels]\n",
        "    index = [f'Actual {label}' for label in labels]\n",
        "    table = pd.DataFrame(confusion_matrix(y_true, y_pred), \n",
        "                         columns=columns, index=index)\n",
        "    return sns.heatmap(table, annot=True, fmt='d', cmap='viridis')\n",
        "def set_threshold(y_true, y_pred_proba, threshold=0.5):\n",
        "    y_pred = y_pred_proba > threshold\n",
        "    ax = sns.distplot(y_pred_proba)\n",
        "    ax.axvline(threshold, color='red')\n",
        "    plt.show()\n",
        "    print(classification_report(y_true, y_pred))\n",
        "    my_confusion_matrix(y_true, y_pred)\n",
        "interact(set_threshold, \n",
        "         y_true=fixed(y_val), \n",
        "         y_pred_proba=fixed(y_pred_proba), \n",
        "         threshold=(0, 1, 0.02));"
      ],
      "execution_count": 82,
      "outputs": [
        {
          "output_type": "display_data",
          "data": {
            "application/vnd.jupyter.widget-view+json": {
              "model_id": "ff7c9e2473714cd7ae87ef54c22bbdec",
              "version_minor": 0,
              "version_major": 2
            },
            "text/plain": [
              "interactive(children=(FloatSlider(value=0.5, description='threshold', max=1.0, step=0.02), Output()), _dom_cla…"
            ]
          },
          "metadata": {
            "tags": []
          }
        }
      ]
    },
    {
      "cell_type": "markdown",
      "metadata": {
        "id": "4DYP4MlcT88m",
        "colab_type": "text"
      },
      "source": [
        "### Or, get exactly 2,000 positive predictions"
      ]
    },
    {
      "cell_type": "markdown",
      "metadata": {
        "id": "bEKhYOYqT88n",
        "colab_type": "text"
      },
      "source": [
        "Identify the 2,000 waterpumps in the validation set with highest predicted probabilities."
      ]
    },
    {
      "cell_type": "markdown",
      "metadata": {
        "id": "ueEiMPCFT88q",
        "colab_type": "text"
      },
      "source": [
        "Most of these top 2,000 waterpumps will be relevant recommendations, meaning `y_val==True`, meaning the waterpump is non-functional or needs repairs.\n",
        "\n",
        "Some of these top 2,000 waterpumps will be irrelevant recommendations, meaning `y_val==False`, meaning the waterpump is functional and does not need repairs.\n",
        "\n",
        "Let's look at a random sample of 50 out of these top 2,000:"
      ]
    },
    {
      "cell_type": "code",
      "metadata": {
        "id": "diZ2poTbT88q",
        "colab_type": "code",
        "colab": {}
      },
      "source": [
        ""
      ],
      "execution_count": 0,
      "outputs": []
    },
    {
      "cell_type": "markdown",
      "metadata": {
        "id": "EQvfO0N2T88t",
        "colab_type": "text"
      },
      "source": [
        "So how many of our recommendations were relevant? ..."
      ]
    },
    {
      "cell_type": "code",
      "metadata": {
        "id": "NZvJ8OMUT88u",
        "colab_type": "code",
        "colab": {}
      },
      "source": [
        ""
      ],
      "execution_count": 0,
      "outputs": []
    },
    {
      "cell_type": "markdown",
      "metadata": {
        "id": "KwMx98HCT88w",
        "colab_type": "text"
      },
      "source": [
        "What's the precision for this subset of 2,000 predictions?"
      ]
    },
    {
      "cell_type": "code",
      "metadata": {
        "id": "njxVw0POT88x",
        "colab_type": "code",
        "colab": {}
      },
      "source": [
        ""
      ],
      "execution_count": 0,
      "outputs": []
    },
    {
      "cell_type": "markdown",
      "metadata": {
        "colab_type": "text",
        "id": "top80m_Gn_jI"
      },
      "source": [
        "### In this scenario ... \n",
        "\n",
        "Accuracy _isn't_ the best metric!\n",
        "\n",
        "Instead, change the threshold, to change the number of positive predictions, based on the budget. (You have the time and resources to go to just 2,000 waterpumps for proactive maintenance.)\n",
        "\n",
        "Then, evaluate with the precision for \"non functional\"/\"functional needs repair\".\n",
        "\n",
        "This is conceptually like **Precision@K**, where k=2,000.\n",
        "\n",
        "Read more here: [Recall and Precision at k for Recommender Systems: Detailed Explanation with examples](https://medium.com/@m_n_malaeb/recall-and-precision-at-k-for-recommender-systems-618483226c54)\n",
        "\n",
        "> Precision at k is the proportion of recommended items in the top-k set that are relevant\n",
        "\n",
        "> Mathematically precision@k is defined as: `Precision@k = (# of recommended items @k that are relevant) / (# of recommended items @k)`\n",
        "\n",
        "> In the context of recommendation systems we are most likely interested in recommending top-N items to the user. So it makes more sense to compute precision and recall metrics in the first N items instead of all the items. Thus the notion of precision and recall at k where k is a user definable integer that is set by the user to match the top-N recommendations objective.\n",
        "\n",
        "We asked, can you do better than random at prioritizing inspections?\n",
        "\n",
        "If we had randomly chosen waterpumps to inspect, we estimate that only 920 waterpumps would be repaired after 2,000 maintenance visits. (46%)\n",
        "\n",
        "But using our predictive model, in the validation set, we succesfully identified over 1,900 waterpumps in need of repair!\n",
        "\n",
        "So we will use this predictive model with the dataset of over 14,000 waterpumps that we _do_ have some information about, but we _don't_ know whether they are currently functional, or functional but need repair, or non-functional.\n",
        "\n",
        "We will predict which 2,000 are most likely non-functional or in need of repair.\n",
        "\n",
        "We estimate that approximately 1,900 waterpumps will be repaired after these 2,000 maintenance visits.\n",
        "\n",
        "So we're confident that our predictive model will help triage and prioritize waterpump inspections."
      ]
    },
    {
      "cell_type": "markdown",
      "metadata": {
        "id": "9sYg7bqCT881",
        "colab_type": "text"
      },
      "source": [
        "### But ...\n",
        "\n",
        "This metric (~1,900 waterpumps repaired after 2,000 maintenance visits) is specific for _one_ classification problem and _one_ possible trade-off.\n",
        "\n",
        "Can we get an evaluation metric that is generic for _all_ classification problems and _all_ possible trade-offs?\n",
        "\n",
        "Yes — the most common such metric is **ROC AUC.**"
      ]
    },
    {
      "cell_type": "markdown",
      "metadata": {
        "id": "X8xiO3-zT881",
        "colab_type": "text"
      },
      "source": [
        "## Get ROC AUC (Receiver Operating Characteristic, Area Under the Curve)\n",
        "\n",
        "[Wikipedia explains,](https://en.wikipedia.org/wiki/Receiver_operating_characteristic) \"A receiver operating characteristic curve, or ROC curve, is a graphical plot that illustrates the diagnostic ability of a binary classifier system as its discrimination threshold is varied. **The ROC curve is created by plotting the true positive rate (TPR) against the false positive rate (FPR) at various threshold settings.**\"\n",
        "\n",
        "ROC AUC is the area under the ROC curve. [It can be interpreted](https://stats.stackexchange.com/questions/132777/what-does-auc-stand-for-and-what-is-it) as \"the expectation that a uniformly drawn random positive is ranked before a uniformly drawn random negative.\" \n",
        "\n",
        "ROC AUC measures **how well a classifier ranks predicted probabilities.** So, when you get your classifier’s ROC AUC score, you need to **use predicted probabilities, not discrete predictions.**\n",
        "\n",
        "ROC AUC ranges **from 0 to 1.** Higher is better. A naive majority class **baseline** will have an ROC AUC score of **0.5.** \n",
        "\n",
        "#### Scikit-Learn docs\n",
        "- [User Guide: Receiver operating characteristic (ROC)](https://scikit-learn.org/stable/modules/model_evaluation.html#receiver-operating-characteristic-roc)\n",
        "- [sklearn.metrics.roc_curve](https://scikit-learn.org/stable/modules/generated/sklearn.metrics.roc_curve.html)\n",
        "- [sklearn.metrics.roc_auc_score](https://scikit-learn.org/stable/modules/generated/sklearn.metrics.roc_auc_score.html)\n",
        "\n",
        "#### More links\n",
        "- [ROC curves and Area Under the Curve explained](https://www.dataschool.io/roc-curves-and-auc-explained/)\n",
        "- [The philosophical argument for using ROC curves](https://lukeoakdenrayner.wordpress.com/2018/01/07/the-philosophical-argument-for-using-roc-curves/)"
      ]
    },
    {
      "cell_type": "code",
      "metadata": {
        "id": "4mn-GZwcT882",
        "colab_type": "code",
        "colab": {}
      },
      "source": [
        "# \"The ROC curve is created by plotting the true positive rate (TPR) \n",
        "# against the false positive rate (FPR) \n",
        "# at various threshold settings.\"\n",
        "\n",
        "# Use scikit-learn to calculate TPR & FPR at various thresholds\n",
        "from sklearn.metrics import roc_curve\n",
        "\n",
        "# roc shows graphical represetnation between true positive rate and false positive rate\n",
        "fpr, tpr, thresholds = roc_curve(y_val, y_pred_proba)"
      ],
      "execution_count": 0,
      "outputs": []
    },
    {
      "cell_type": "code",
      "metadata": {
        "id": "sz1ocDdIT886",
        "colab_type": "code",
        "colab": {
          "base_uri": "https://localhost:8080/",
          "height": 419
        },
        "outputId": "e189ca0a-d033-4c2e-fd18-12365b44fb92"
      },
      "source": [
        "# See the results in a table\n",
        "pd.DataFrame({\n",
        "    'False Positive Rate': fpr, \n",
        "    'True Positive Rate': tpr, \n",
        "    'Threshold': thresholds\n",
        "})"
      ],
      "execution_count": 84,
      "outputs": [
        {
          "output_type": "execute_result",
          "data": {
            "text/html": [
              "<div>\n",
              "<style scoped>\n",
              "    .dataframe tbody tr th:only-of-type {\n",
              "        vertical-align: middle;\n",
              "    }\n",
              "\n",
              "    .dataframe tbody tr th {\n",
              "        vertical-align: top;\n",
              "    }\n",
              "\n",
              "    .dataframe thead th {\n",
              "        text-align: right;\n",
              "    }\n",
              "</style>\n",
              "<table border=\"1\" class=\"dataframe\">\n",
              "  <thead>\n",
              "    <tr style=\"text-align: right;\">\n",
              "      <th></th>\n",
              "      <th>False Positive Rate</th>\n",
              "      <th>True Positive Rate</th>\n",
              "      <th>Threshold</th>\n",
              "    </tr>\n",
              "  </thead>\n",
              "  <tbody>\n",
              "    <tr>\n",
              "      <th>0</th>\n",
              "      <td>0.000000</td>\n",
              "      <td>0.000000</td>\n",
              "      <td>2.00</td>\n",
              "    </tr>\n",
              "    <tr>\n",
              "      <th>1</th>\n",
              "      <td>0.000385</td>\n",
              "      <td>0.062652</td>\n",
              "      <td>1.00</td>\n",
              "    </tr>\n",
              "    <tr>\n",
              "      <th>2</th>\n",
              "      <td>0.000641</td>\n",
              "      <td>0.114787</td>\n",
              "      <td>0.99</td>\n",
              "    </tr>\n",
              "    <tr>\n",
              "      <th>3</th>\n",
              "      <td>0.000769</td>\n",
              "      <td>0.155793</td>\n",
              "      <td>0.98</td>\n",
              "    </tr>\n",
              "    <tr>\n",
              "      <th>4</th>\n",
              "      <td>0.001282</td>\n",
              "      <td>0.196037</td>\n",
              "      <td>0.97</td>\n",
              "    </tr>\n",
              "    <tr>\n",
              "      <th>...</th>\n",
              "      <td>...</td>\n",
              "      <td>...</td>\n",
              "      <td>...</td>\n",
              "    </tr>\n",
              "    <tr>\n",
              "      <th>102</th>\n",
              "      <td>0.882662</td>\n",
              "      <td>0.996341</td>\n",
              "      <td>0.04</td>\n",
              "    </tr>\n",
              "    <tr>\n",
              "      <th>103</th>\n",
              "      <td>0.904976</td>\n",
              "      <td>0.997104</td>\n",
              "      <td>0.03</td>\n",
              "    </tr>\n",
              "    <tr>\n",
              "      <th>104</th>\n",
              "      <td>0.930239</td>\n",
              "      <td>0.998171</td>\n",
              "      <td>0.02</td>\n",
              "    </tr>\n",
              "    <tr>\n",
              "      <th>105</th>\n",
              "      <td>0.954604</td>\n",
              "      <td>0.998933</td>\n",
              "      <td>0.01</td>\n",
              "    </tr>\n",
              "    <tr>\n",
              "      <th>106</th>\n",
              "      <td>1.000000</td>\n",
              "      <td>1.000000</td>\n",
              "      <td>0.00</td>\n",
              "    </tr>\n",
              "  </tbody>\n",
              "</table>\n",
              "<p>107 rows × 3 columns</p>\n",
              "</div>"
            ],
            "text/plain": [
              "     False Positive Rate  True Positive Rate  Threshold\n",
              "0               0.000000            0.000000       2.00\n",
              "1               0.000385            0.062652       1.00\n",
              "2               0.000641            0.114787       0.99\n",
              "3               0.000769            0.155793       0.98\n",
              "4               0.001282            0.196037       0.97\n",
              "..                   ...                 ...        ...\n",
              "102             0.882662            0.996341       0.04\n",
              "103             0.904976            0.997104       0.03\n",
              "104             0.930239            0.998171       0.02\n",
              "105             0.954604            0.998933       0.01\n",
              "106             1.000000            1.000000       0.00\n",
              "\n",
              "[107 rows x 3 columns]"
            ]
          },
          "metadata": {
            "tags": []
          },
          "execution_count": 84
        }
      ]
    },
    {
      "cell_type": "code",
      "metadata": {
        "id": "Y9c_GdFHT88-",
        "colab_type": "code",
        "colab": {
          "base_uri": "https://localhost:8080/",
          "height": 295
        },
        "outputId": "1fc2538f-80f2-4e20-a4cb-a8468b1da05b"
      },
      "source": [
        "# See the results on a plot. \n",
        "# This is the \"Receiver Operating Characteristic\" curve\n",
        "plt.scatter(fpr, tpr)\n",
        "plt.title('ROC curve')\n",
        "plt.xlabel('False Positive Rate')\n",
        "plt.ylabel('True Positive Rate');"
      ],
      "execution_count": 85,
      "outputs": [
        {
          "output_type": "display_data",
          "data": {
            "image/png": "[encoded data removed]",
            "text/plain": [
              "<Figure size 432x288 with 1 Axes>"
            ]
          },
          "metadata": {
            "tags": []
          }
        }
      ]
    },
    {
      "cell_type": "code",
      "metadata": {
        "id": "BOT5P7OWT89A",
        "colab_type": "code",
        "colab": {
          "base_uri": "https://localhost:8080/",
          "height": 34
        },
        "outputId": "c8c03ccc-123c-4a4c-db34-1f8c0dbc9f94"
      },
      "source": [
        "# Use scikit-learn to calculate the area under the curve.\n",
        "from sklearn.metrics import roc_auc_score\n",
        "roc_auc_score(y_val, y_pred_proba)"
      ],
      "execution_count": 86,
      "outputs": [
        {
          "output_type": "execute_result",
          "data": {
            "text/plain": [
              "0.9024268359147749"
            ]
          },
          "metadata": {
            "tags": []
          },
          "execution_count": 86
        }
      ]
    },
    {
      "cell_type": "markdown",
      "metadata": {
        "id": "l2DVfHOjT89F",
        "colab_type": "text"
      },
      "source": [
        "**Recap:** ROC AUC measures how well a classifier ranks predicted probabilities. So, when you get your classifier’s ROC AUC score, you need to use predicted probabilities, not discrete predictions. \n",
        "\n",
        "Your code may look something like this:\n",
        "\n",
        "```python\n",
        "from sklearn.metrics import roc_auc_score\n",
        "y_pred_proba = model.predict_proba(X_test_transformed)[:, -1] # Probability for last class\n",
        "print('Test ROC AUC:', roc_auc_score(y_test, y_pred_proba))\n",
        "```\n",
        "\n",
        "ROC AUC ranges from 0 to 1. Higher is better. A naive majority class baseline will have an ROC AUC score of 0.5."
      ]
    }
  ]
}