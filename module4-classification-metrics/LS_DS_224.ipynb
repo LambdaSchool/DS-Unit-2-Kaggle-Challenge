{
  "nbformat": 4,
  "nbformat_minor": 0,
  "metadata": {
    "kernelspec": {
      "display_name": "Python 3",
      "language": "python",
      "name": "python3"
    },
    "language_info": {
      "codemirror_mode": {
        "name": "ipython",
        "version": 3
      },
      "file_extension": ".py",
      "mimetype": "text/x-python",
      "name": "python",
      "nbconvert_exporter": "python",
      "pygments_lexer": "ipython3",
      "version": "3.7.6"
    },
    "colab": {
      "name": "LS_DS_224.ipynb",
      "provenance": []
    },
    "widgets": {
      "application/vnd.jupyter.widget-state+json": {
        "6a753c62053e4402ba7727f4333a190a": {
          "model_module": "@jupyter-widgets/controls",
          "model_name": "VBoxModel",
          "state": {
            "_view_name": "VBoxView",
            "_dom_classes": [
              "widget-interact"
            ],
            "_model_name": "VBoxModel",
            "_view_module": "@jupyter-widgets/controls",
            "_model_module_version": "1.5.0",
            "_view_count": null,
            "_view_module_version": "1.5.0",
            "box_style": "",
            "layout": "IPY_MODEL_424d63d2eb3d4d5cb80d37e73603fb64",
            "_model_module": "@jupyter-widgets/controls",
            "children": [
              "IPY_MODEL_d347f1be806243b9a4e26099e4fbe0ee",
              "IPY_MODEL_48f66e42b48249629221a632a5a62930"
            ]
          }
        },
        "424d63d2eb3d4d5cb80d37e73603fb64": {
          "model_module": "@jupyter-widgets/base",
          "model_name": "LayoutModel",
          "state": {
            "_view_name": "LayoutView",
            "grid_template_rows": null,
            "right": null,
            "justify_content": null,
            "_view_module": "@jupyter-widgets/base",
            "overflow": null,
            "_model_module_version": "1.2.0",
            "_view_count": null,
            "flex_flow": null,
            "width": null,
            "min_width": null,
            "border": null,
            "align_items": null,
            "bottom": null,
            "_model_module": "@jupyter-widgets/base",
            "top": null,
            "grid_column": null,
            "overflow_y": null,
            "overflow_x": null,
            "grid_auto_flow": null,
            "grid_area": null,
            "grid_template_columns": null,
            "flex": null,
            "_model_name": "LayoutModel",
            "justify_items": null,
            "grid_row": null,
            "max_height": null,
            "align_content": null,
            "visibility": null,
            "align_self": null,
            "height": null,
            "min_height": null,
            "padding": null,
            "grid_auto_rows": null,
            "grid_gap": null,
            "max_width": null,
            "order": null,
            "_view_module_version": "1.2.0",
            "grid_template_areas": null,
            "object_position": null,
            "object_fit": null,
            "grid_auto_columns": null,
            "margin": null,
            "display": null,
            "left": null
          }
        },
        "d347f1be806243b9a4e26099e4fbe0ee": {
          "model_module": "@jupyter-widgets/controls",
          "model_name": "FloatSliderModel",
          "state": {
            "_view_name": "FloatSliderView",
            "style": "IPY_MODEL_c62f1696915a45e6bba97971f98b6051",
            "_dom_classes": [],
            "description": "threshold",
            "step": 0.02,
            "_model_name": "FloatSliderModel",
            "orientation": "horizontal",
            "max": 1,
            "_view_module": "@jupyter-widgets/controls",
            "_model_module_version": "1.5.0",
            "value": 0.42,
            "_view_count": null,
            "disabled": false,
            "_view_module_version": "1.5.0",
            "min": 0,
            "continuous_update": true,
            "readout_format": ".2f",
            "description_tooltip": null,
            "readout": true,
            "_model_module": "@jupyter-widgets/controls",
            "layout": "IPY_MODEL_2f3b0269a7c24847a649cbe9eef45ead"
          }
        },
        "48f66e42b48249629221a632a5a62930": {
          "model_module": "@jupyter-widgets/output",
          "model_name": "OutputModel",
          "state": {
            "_view_name": "OutputView",
            "msg_id": "",
            "_dom_classes": [],
            "_model_name": "OutputModel",
            "outputs": [
              {
                "output_type": "display_data",
                "metadata": {
                  "tags": []
                },
                "image/png": "iVBORw0KGgoAAAANSUhEUgAAAXgAAAD4CAYAAADmWv3KAAAABHNCSVQICAgIfAhkiAAAAAlwSFlz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\n6v8DRyIY4Xb8VMgAAAAASUVORK5CYII=\n",
                "text/plain": "<Figure size 432x288 with 1 Axes>"
              },
              {
                "output_type": "stream",
                "metadata": {
                  "tags": []
                },
                "text": "              precision    recall  f1-score   support\n\n       False       0.85      0.80      0.82      7798\n        True       0.78      0.83      0.80      6560\n\n    accuracy                           0.81     14358\n   macro avg       0.81      0.82      0.81     14358\nweighted avg       0.82      0.81      0.82     14358\n\n",
                "stream": "stdout"
              },
              {
                "output_type": "display_data",
                "metadata": {
                  "tags": []
                },
                "image/png": "iVBORw0KGgoAAAANSUhEUgAAAWYAAAD4CAYAAADfPUyRAAAABHNCSVQICAgIfAhkiAAAAAlwSFlz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\nDsxmZjnzf1r2w3eSizbkAAAAAElFTkSuQmCC\n",
                "text/plain": "<Figure size 432x288 with 2 Axes>"
              }
            ],
            "_view_module": "@jupyter-widgets/output",
            "_model_module_version": "1.0.0",
            "_view_count": null,
            "_view_module_version": "1.0.0",
            "layout": "IPY_MODEL_46f7a0eba75e420babd1bb2356d37c16",
            "_model_module": "@jupyter-widgets/output"
          }
        },
        "c62f1696915a45e6bba97971f98b6051": {
          "model_module": "@jupyter-widgets/controls",
          "model_name": "SliderStyleModel",
          "state": {
            "_view_name": "StyleView",
            "handle_color": null,
            "_model_name": "SliderStyleModel",
            "description_width": "",
            "_view_module": "@jupyter-widgets/base",
            "_model_module_version": "1.5.0",
            "_view_count": null,
            "_view_module_version": "1.2.0",
            "_model_module": "@jupyter-widgets/controls"
          }
        },
        "2f3b0269a7c24847a649cbe9eef45ead": {
          "model_module": "@jupyter-widgets/base",
          "model_name": "LayoutModel",
          "state": {
            "_view_name": "LayoutView",
            "grid_template_rows": null,
            "right": null,
            "justify_content": null,
            "_view_module": "@jupyter-widgets/base",
            "overflow": null,
            "_model_module_version": "1.2.0",
            "_view_count": null,
            "flex_flow": null,
            "width": null,
            "min_width": null,
            "border": null,
            "align_items": null,
            "bottom": null,
            "_model_module": "@jupyter-widgets/base",
            "top": null,
            "grid_column": null,
            "overflow_y": null,
            "overflow_x": null,
            "grid_auto_flow": null,
            "grid_area": null,
            "grid_template_columns": null,
            "flex": null,
            "_model_name": "LayoutModel",
            "justify_items": null,
            "grid_row": null,
            "max_height": null,
            "align_content": null,
            "visibility": null,
            "align_self": null,
            "height": null,
            "min_height": null,
            "padding": null,
            "grid_auto_rows": null,
            "grid_gap": null,
            "max_width": null,
            "order": null,
            "_view_module_version": "1.2.0",
            "grid_template_areas": null,
            "object_position": null,
            "object_fit": null,
            "grid_auto_columns": null,
            "margin": null,
            "display": null,
            "left": null
          }
        }
      }
    }
  },
  "cells": [
    {
      "cell_type": "markdown",
      "metadata": {
        "colab_type": "text",
        "id": "EZyiOteN16cD"
      },
      "source": [
        "Lambda School Data Science\n",
        "\n",
        "*Unit 2, Sprint 2, Module 4*\n",
        "\n",
        "---"
      ]
    },
    {
      "cell_type": "markdown",
      "metadata": {
        "colab_type": "text",
        "id": "KMI2k-oBsS08"
      },
      "source": [
        "# Classification Metrics\n",
        "\n",
        "- get and interpret the **confusion matrix** for classification models\n",
        "- use classification metrics: **precision, recall**\n",
        "- understand the relationships between precision, recall, **thresholds, and predicted probabilities**, to help **make decisions and allocate budgets**\n",
        "- Get **ROC AUC** (Receiver Operating Characteristic, Area Under the Curve)"
      ]
    },
    {
      "cell_type": "markdown",
      "metadata": {
        "colab_type": "text",
        "id": "rU7RuVcjWdcp"
      },
      "source": [
        "### Setup\n",
        "\n",
        "Run the code cell below. You can work locally (follow the [local setup instructions](https://lambdaschool.github.io/ds/unit2/local/)) or on Colab.\n",
        "\n",
        "Libraries\n",
        "\n",
        "- category_encoders\n",
        "- ipywidgets\n",
        "- matplotlib\n",
        "- numpy\n",
        "- pandas\n",
        "- scikit-learn\n",
        "- seaborn"
      ]
    },
    {
      "cell_type": "code",
      "metadata": {
        "colab_type": "code",
        "id": "OpFoag9QoTgA",
        "colab": {}
      },
      "source": [
        "%%capture\n",
        "import sys\n",
        "\n",
        "# If you're on Colab:\n",
        "if 'google.colab' in sys.modules:\n",
        "    DATA_PATH = 'https://raw.githubusercontent.com/LambdaSchool/DS-Unit-2-Kaggle-Challenge/master/data/'\n",
        "    !pip install category_encoders==2.*\n",
        "\n",
        "# If you're working locally:\n",
        "else:\n",
        "    DATA_PATH = '../data/'"
      ],
      "execution_count": 0,
      "outputs": []
    },
    {
      "cell_type": "markdown",
      "metadata": {
        "colab_type": "text",
        "id": "EfhziD2Wn_iO"
      },
      "source": [
        "# Get and interpret the confusion matrix for classification models"
      ]
    },
    {
      "cell_type": "markdown",
      "metadata": {
        "id": "mJRAZQ0QnTOC",
        "colab_type": "text"
      },
      "source": [
        "## Overview"
      ]
    },
    {
      "cell_type": "markdown",
      "metadata": {
        "colab_type": "text",
        "id": "xZNCHldPn_iL"
      },
      "source": [
        "First, load the Tanzania Waterpumps data and fit a model. (This code isn't new, we've seen it all before.)"
      ]
    },
    {
      "cell_type": "code",
      "metadata": {
        "colab_type": "code",
        "id": "t8Cjxzrwn_iL",
        "outputId": "52462161-f2cb-4c45-ad17-24ee25d78ba9",
        "colab": {
          "base_uri": "https://localhost:8080/",
          "height": 34
        }
      },
      "source": [
        "%matplotlib inline\n",
        "import category_encoders as ce\n",
        "import matplotlib.pyplot as plt\n",
        "import numpy as np\n",
        "import pandas as pd\n",
        "import seaborn as sns\n",
        "from sklearn.impute import SimpleImputer\n",
        "from sklearn.metrics import accuracy_score\n",
        "from sklearn.model_selection import train_test_split\n",
        "from sklearn.pipeline import make_pipeline\n",
        "from sklearn.ensemble import RandomForestClassifier\n",
        "\n",
        "def wrangle(X):\n",
        "    \"\"\"Wrangles train, validate, and test sets in the same way\"\"\"\n",
        "    X = X.copy()\n",
        "\n",
        "    # Convert date_recorded to datetime\n",
        "    X['date_recorded'] = pd.to_datetime(X['date_recorded'], infer_datetime_format=True)\n",
        "    \n",
        "    # Extract components from date_recorded, then drop the original column\n",
        "    X['year_recorded'] = X['date_recorded'].dt.year\n",
        "    X['month_recorded'] = X['date_recorded'].dt.month\n",
        "    X['day_recorded'] = X['date_recorded'].dt.day\n",
        "    X = X.drop(columns='date_recorded')\n",
        "    \n",
        "    # Engineer feature: how many years from construction_year to date_recorded\n",
        "    X['years'] = X['year_recorded'] - X['construction_year']    \n",
        "    \n",
        "    # Drop recorded_by (never varies) and id (always varies, random)\n",
        "    unusable_variance = ['recorded_by', 'id']\n",
        "    X = X.drop(columns=unusable_variance)\n",
        "    \n",
        "    # Drop duplicate columns\n",
        "    duplicate_columns = ['quantity_group']\n",
        "    X = X.drop(columns=duplicate_columns)\n",
        "    \n",
        "    # About 3% of the time, latitude has small values near zero,\n",
        "    # outside Tanzania, so we'll treat these like null values\n",
        "    X['latitude'] = X['latitude'].replace(-2e-08, np.nan)\n",
        "    \n",
        "    # When columns have zeros and shouldn't, they are like null values\n",
        "    cols_with_zeros = ['construction_year', 'longitude', 'latitude', 'gps_height', 'population']\n",
        "    for col in cols_with_zeros:\n",
        "        X[col] = X[col].replace(0, np.nan)\n",
        "        \n",
        "    return X\n",
        "\n",
        "\n",
        "# Merge train_features.csv & train_labels.csv\n",
        "train = pd.merge(pd.read_csv(DATA_PATH+'waterpumps/train_features.csv'), \n",
        "                 pd.read_csv(DATA_PATH+'waterpumps/train_labels.csv'))\n",
        "\n",
        "# Read test_features.csv & sample_submission.csv\n",
        "test = pd.read_csv(DATA_PATH+'waterpumps/test_features.csv')\n",
        "sample_submission = pd.read_csv(DATA_PATH+'waterpumps/sample_submission.csv')\n",
        "\n",
        "# Split train into train & val. Make val the same size as test.\n",
        "target = 'status_group'\n",
        "train, val = train_test_split(train, test_size=len(test),  \n",
        "                              stratify=train[target], random_state=42)\n",
        "\n",
        "# Wrangle train, validate, and test sets in the same way\n",
        "train = wrangle(train)\n",
        "val = wrangle(val)\n",
        "test = wrangle(test)\n",
        "\n",
        "# Arrange data into X features matrix and y target vector\n",
        "X_train = train.drop(columns=target)\n",
        "y_train = train[target]\n",
        "X_val = val.drop(columns=target)\n",
        "y_val = val[target]\n",
        "X_test = test\n",
        "\n",
        "# Make pipeline!\n",
        "pipeline = make_pipeline(\n",
        "    ce.OrdinalEncoder(), \n",
        "    SimpleImputer(strategy='mean'), \n",
        "    RandomForestClassifier(n_estimators=100, random_state=42, n_jobs=-1)\n",
        ")\n",
        "\n",
        "# Fit on train, score on val\n",
        "pipeline.fit(X_train, y_train)\n",
        "y_pred = pipeline.predict(X_val)\n",
        "print('Validation Accuracy', accuracy_score(y_val, y_pred))"
      ],
      "execution_count": 2,
      "outputs": [
        {
          "output_type": "stream",
          "text": [
            "Validation Accuracy 0.8140409527789386\n"
          ],
          "name": "stdout"
        }
      ]
    },
    {
      "cell_type": "markdown",
      "metadata": {
        "id": "2QhHgzo5nTOH",
        "colab_type": "text"
      },
      "source": [
        "## Follow Along\n",
        "\n",
        "Scikit-learn added a [**`plot_confusion_matrix`**](https://scikit-learn.org/stable/modules/generated/sklearn.metrics.plot_confusion_matrix.html) function in version 0.22!"
      ]
    },
    {
      "cell_type": "code",
      "metadata": {
        "colab_type": "code",
        "id": "2MSWehj9n_iO",
        "outputId": "1de0087c-d754-42ca-b765-14cd6eb25547",
        "colab": {
          "base_uri": "https://localhost:8080/",
          "height": 406
        }
      },
      "source": [
        "import sklearn\n",
        "sklearn.__version__\n",
        "\n",
        "from sklearn.metrics import plot_confusion_matrix\n",
        "\n",
        "plot_confusion_matrix(pipeline, X_val, y_val, values_format='.0f', xticks_rotation='vertical')"
      ],
      "execution_count": 5,
      "outputs": [
        {
          "output_type": "execute_result",
          "data": {
            "text/plain": [
              "<sklearn.metrics._plot.confusion_matrix.ConfusionMatrixDisplay at 0x7fe759a67f98>"
            ]
          },
          "metadata": {
            "tags": []
          },
          "execution_count": 5
        },
        {
          "output_type": "display_data",
          "data": {
            "image/png": "[encoded data removed]",
            "text/plain": [
              "<Figure size 432x288 with 2 Axes>"
            ]
          },
          "metadata": {
            "tags": []
          }
        }
      ]
    },
    {
      "cell_type": "markdown",
      "metadata": {
        "colab_type": "text",
        "id": "fP6FGBGUn_iQ"
      },
      "source": [
        "#### How many correct predictions were made?"
      ]
    },
    {
      "cell_type": "code",
      "metadata": {
        "colab_type": "code",
        "id": "wRSaYRPWn_iR",
        "outputId": "48356bc6-7817-4445-bb5e-fcba91f93760",
        "colab": {
          "base_uri": "https://localhost:8080/",
          "height": 34
        }
      },
      "source": [
        "correct = 7005 + 332 + 4351\n",
        "correct"
      ],
      "execution_count": 6,
      "outputs": [
        {
          "output_type": "execute_result",
          "data": {
            "text/plain": [
              "11688"
            ]
          },
          "metadata": {
            "tags": []
          },
          "execution_count": 6
        }
      ]
    },
    {
      "cell_type": "markdown",
      "metadata": {
        "colab_type": "text",
        "id": "-q-3R7Ean_iT"
      },
      "source": [
        "#### How many total predictions were made?"
      ]
    },
    {
      "cell_type": "code",
      "metadata": {
        "colab_type": "code",
        "id": "vLAQL05fn_iT",
        "outputId": "442fc9eb-6517-429b-af5f-39f09268eaa0",
        "colab": {
          "base_uri": "https://localhost:8080/",
          "height": 34
        }
      },
      "source": [
        "total = 7005+171+622+555+332+156+1098+68+4351\n",
        "total"
      ],
      "execution_count": 7,
      "outputs": [
        {
          "output_type": "execute_result",
          "data": {
            "text/plain": [
              "14358"
            ]
          },
          "metadata": {
            "tags": []
          },
          "execution_count": 7
        }
      ]
    },
    {
      "cell_type": "markdown",
      "metadata": {
        "colab_type": "text",
        "id": "K1yQ_jYPn_iV"
      },
      "source": [
        "#### What was the classification accuracy?"
      ]
    },
    {
      "cell_type": "code",
      "metadata": {
        "colab_type": "code",
        "id": "fskAC6SYn_iW",
        "outputId": "98fcfbd1-b044-453c-9aa1-35c632bfa9c4",
        "colab": {
          "base_uri": "https://localhost:8080/",
          "height": 34
        }
      },
      "source": [
        "correct / total"
      ],
      "execution_count": 9,
      "outputs": [
        {
          "output_type": "execute_result",
          "data": {
            "text/plain": [
              "0.8140409527789386"
            ]
          },
          "metadata": {
            "tags": []
          },
          "execution_count": 9
        }
      ]
    },
    {
      "cell_type": "code",
      "metadata": {
        "id": "jN2V6Pt3urPT",
        "colab_type": "code",
        "colab": {
          "base_uri": "https://localhost:8080/",
          "height": 34
        },
        "outputId": "17c9f2b3-9c9b-4011-e10d-6cbe0eca5107"
      },
      "source": [
        "accuracy_score(y_val, y_pred)"
      ],
      "execution_count": 10,
      "outputs": [
        {
          "output_type": "execute_result",
          "data": {
            "text/plain": [
              "0.8140409527789386"
            ]
          },
          "metadata": {
            "tags": []
          },
          "execution_count": 10
        }
      ]
    },
    {
      "cell_type": "code",
      "metadata": {
        "id": "1J1jV0LeuuRk",
        "colab_type": "code",
        "colab": {
          "base_uri": "https://localhost:8080/",
          "height": 34
        },
        "outputId": "a73315e5-7735-4e2a-814d-395bc5194304"
      },
      "source": [
        "sum(y_pred == y_val) / len(y_pred)"
      ],
      "execution_count": 11,
      "outputs": [
        {
          "output_type": "execute_result",
          "data": {
            "text/plain": [
              "0.8140409527789386"
            ]
          },
          "metadata": {
            "tags": []
          },
          "execution_count": 11
        }
      ]
    },
    {
      "cell_type": "markdown",
      "metadata": {
        "colab_type": "text",
        "id": "EqFgEm3tn_iY"
      },
      "source": [
        "# Use classification metrics: precision, recall"
      ]
    },
    {
      "cell_type": "markdown",
      "metadata": {
        "id": "sgldKWvinTOb",
        "colab_type": "text"
      },
      "source": [
        "## Overview\n",
        "\n",
        "[Scikit-Learn User Guide — Classification Report](https://scikit-learn.org/stable/modules/model_evaluation.html#classification-report)"
      ]
    },
    {
      "cell_type": "code",
      "metadata": {
        "colab_type": "code",
        "id": "mGv7OLL4n_iY",
        "outputId": "ada967ff-887c-4d1c-d419-ca5da58a02e9",
        "colab": {
          "base_uri": "https://localhost:8080/",
          "height": 194
        }
      },
      "source": [
        "from sklearn.metrics import classification_report\n",
        "print(classification_report(y_val, y_pred))"
      ],
      "execution_count": 12,
      "outputs": [
        {
          "output_type": "stream",
          "text": [
            "                         precision    recall  f1-score   support\n",
            "\n",
            "             functional       0.81      0.90      0.85      7798\n",
            "functional needs repair       0.58      0.32      0.41      1043\n",
            "         non functional       0.85      0.79      0.82      5517\n",
            "\n",
            "               accuracy                           0.81     14358\n",
            "              macro avg       0.75      0.67      0.69     14358\n",
            "           weighted avg       0.81      0.81      0.81     14358\n",
            "\n"
          ],
          "name": "stdout"
        }
      ]
    },
    {
      "cell_type": "markdown",
      "metadata": {
        "colab_type": "text",
        "id": "Z1U7HdC6n_ia"
      },
      "source": [
        "#### Wikipedia, [Precision and recall](https://en.wikipedia.org/wiki/Precision_and_recall)\n",
        "\n",
        "> Both precision and recall are based on an understanding and measure of relevance.\n",
        "\n",
        "> Suppose a computer program for recognizing dogs in photographs identifies 8 dogs in a picture containing 12 dogs and some cats. Of the 8 identified as dogs, 5 actually are dogs (true positives), while the rest are cats (false positives). The program's precision is 5/8 while its recall is 5/12.\n",
        "\n",
        "> High precision means that an algorithm returned substantially more relevant results than irrelevant ones, while high recall means that an algorithm returned most of the relevant results.\n",
        "\n",
        "<img src=\"https://upload.wikimedia.org/wikipedia/commons/thumb/2/26/Precisionrecall.svg/700px-Precisionrecall.svg.png\" width=\"400\">"
      ]
    },
    {
      "cell_type": "markdown",
      "metadata": {
        "id": "gB6ANmIonTOi",
        "colab_type": "text"
      },
      "source": [
        "## Follow Along"
      ]
    },
    {
      "cell_type": "markdown",
      "metadata": {
        "colab_type": "text",
        "id": "50R-Xhwdn_ie"
      },
      "source": [
        "#### [We can get precision & recall from the confusion matrix](https://en.wikipedia.org/wiki/Precision_and_recall#Definition_(classification_context))"
      ]
    },
    {
      "cell_type": "code",
      "metadata": {
        "colab_type": "code",
        "id": "eIta6Vwsn_if",
        "outputId": "a2366733-4550-4022-dde5-ceeab058c9da",
        "colab": {
          "base_uri": "https://localhost:8080/",
          "height": 406
        }
      },
      "source": [
        "cm = plot_confusion_matrix(pipeline, X_val, y_val, values_format='.0f',xticks_rotation='vertical')\n",
        "cm"
      ],
      "execution_count": 14,
      "outputs": [
        {
          "output_type": "execute_result",
          "data": {
            "text/plain": [
              "<sklearn.metrics._plot.confusion_matrix.ConfusionMatrixDisplay at 0x7fe7599035c0>"
            ]
          },
          "metadata": {
            "tags": []
          },
          "execution_count": 14
        },
        {
          "output_type": "display_data",
          "data": {
            "image/png": "[encoded data removed]",
            "text/plain": [
              "<Figure size 432x288 with 2 Axes>"
            ]
          },
          "metadata": {
            "tags": []
          }
        }
      ]
    },
    {
      "cell_type": "markdown",
      "metadata": {
        "colab_type": "text",
        "id": "iY2rfzA4n_ih"
      },
      "source": [
        "#### How many correct predictions of \"non functional\"?"
      ]
    },
    {
      "cell_type": "code",
      "metadata": {
        "colab_type": "code",
        "id": "O-anLkCin_ii",
        "colab": {}
      },
      "source": [
        "corr_non = 4351"
      ],
      "execution_count": 0,
      "outputs": []
    },
    {
      "cell_type": "markdown",
      "metadata": {
        "colab_type": "text",
        "id": "pYM6f99cn_ij"
      },
      "source": [
        "#### How many total predictions of \"non functional\"?"
      ]
    },
    {
      "cell_type": "code",
      "metadata": {
        "colab_type": "code",
        "id": "_qCiA8j2n_ik",
        "colab": {}
      },
      "source": [
        "total_non = 622+156+4351"
      ],
      "execution_count": 0,
      "outputs": []
    },
    {
      "cell_type": "markdown",
      "metadata": {
        "colab_type": "text",
        "id": "mXNuZ_Rnn_il"
      },
      "source": [
        "#### What's the precision for \"non functional\"?"
      ]
    },
    {
      "cell_type": "code",
      "metadata": {
        "colab_type": "code",
        "id": "X1f7VsyXn_im",
        "outputId": "68c0f991-1837-4492-c372-97a0d641e6ee",
        "colab": {
          "base_uri": "https://localhost:8080/",
          "height": 34
        }
      },
      "source": [
        "corr_non / total_non"
      ],
      "execution_count": 22,
      "outputs": [
        {
          "output_type": "execute_result",
          "data": {
            "text/plain": [
              "0.8483135114057321"
            ]
          },
          "metadata": {
            "tags": []
          },
          "execution_count": 22
        }
      ]
    },
    {
      "cell_type": "code",
      "metadata": {
        "id": "SxyznHJ_yVjx",
        "colab_type": "code",
        "colab": {
          "base_uri": "https://localhost:8080/",
          "height": 194
        },
        "outputId": "67df127a-dc28-42a5-9d3f-23267f06d116"
      },
      "source": [
        "print(classification_report(y_val, y_pred))"
      ],
      "execution_count": 18,
      "outputs": [
        {
          "output_type": "stream",
          "text": [
            "                         precision    recall  f1-score   support\n",
            "\n",
            "             functional       0.81      0.90      0.85      7798\n",
            "functional needs repair       0.58      0.32      0.41      1043\n",
            "         non functional       0.85      0.79      0.82      5517\n",
            "\n",
            "               accuracy                           0.81     14358\n",
            "              macro avg       0.75      0.67      0.69     14358\n",
            "           weighted avg       0.81      0.81      0.81     14358\n",
            "\n"
          ],
          "name": "stdout"
        }
      ]
    },
    {
      "cell_type": "markdown",
      "metadata": {
        "colab_type": "text",
        "id": "ci4QguAkn_in"
      },
      "source": [
        "#### How many actual \"non functional\" waterpumps?"
      ]
    },
    {
      "cell_type": "code",
      "metadata": {
        "colab_type": "code",
        "id": "FlqxNhlYn_io",
        "colab": {}
      },
      "source": [
        "actual_non = 1098+68+4351"
      ],
      "execution_count": 0,
      "outputs": []
    },
    {
      "cell_type": "markdown",
      "metadata": {
        "colab_type": "text",
        "id": "9IY-vC-hn_iq"
      },
      "source": [
        "#### What's the recall for \"non functional\"?"
      ]
    },
    {
      "cell_type": "code",
      "metadata": {
        "colab_type": "code",
        "id": "4U3v8lPP4KbP",
        "outputId": "16a99de8-fb69-4784-93ae-54ceef115283",
        "colab": {
          "base_uri": "https://localhost:8080/",
          "height": 34
        }
      },
      "source": [
        "corr_non / actual_non"
      ],
      "execution_count": 20,
      "outputs": [
        {
          "output_type": "execute_result",
          "data": {
            "text/plain": [
              "0.7886532535798442"
            ]
          },
          "metadata": {
            "tags": []
          },
          "execution_count": 20
        }
      ]
    },
    {
      "cell_type": "markdown",
      "metadata": {
        "colab_type": "text",
        "id": "ObVED_ugn_is"
      },
      "source": [
        "# Understand the relationships between precision, recall, thresholds, and predicted probabilities, to help make decisions and allocate budgets"
      ]
    },
    {
      "cell_type": "markdown",
      "metadata": {
        "id": "jSiS40JLnTO8",
        "colab_type": "text"
      },
      "source": [
        "## Overview"
      ]
    },
    {
      "cell_type": "markdown",
      "metadata": {
        "colab_type": "text",
        "id": "kBcQQJ2kn_is"
      },
      "source": [
        "### Imagine this scenario...\n",
        "\n",
        "Suppose there are over 14,000 waterpumps that you _do_ have some information about, but you _don't_ know whether they are currently functional, or functional but need repair, or non-functional."
      ]
    },
    {
      "cell_type": "code",
      "metadata": {
        "colab_type": "code",
        "id": "jEEy86CHn_it",
        "outputId": "5c57fdd0-6327-48b7-a328-24043e717a06",
        "colab": {
          "base_uri": "https://localhost:8080/",
          "height": 34
        }
      },
      "source": [
        "len(test)"
      ],
      "execution_count": 23,
      "outputs": [
        {
          "output_type": "execute_result",
          "data": {
            "text/plain": [
              "14358"
            ]
          },
          "metadata": {
            "tags": []
          },
          "execution_count": 23
        }
      ]
    },
    {
      "cell_type": "markdown",
      "metadata": {
        "colab_type": "text",
        "id": "3az2llAAn_iu"
      },
      "source": [
        "**You have the time and resources to go to just 2,000 waterpumps for proactive maintenance.** You want to predict, which 2,000 are most likely non-functional or in need of repair, to help you triage and prioritize your waterpump inspections.\n",
        "\n",
        "You have historical inspection data for over 59,000 other waterpumps, which you'll use to fit your predictive model."
      ]
    },
    {
      "cell_type": "code",
      "metadata": {
        "colab_type": "code",
        "id": "pEWc2zt2n_iv",
        "outputId": "b878f38d-5d13-4052-f2e0-1fa1efc1d63c",
        "colab": {
          "base_uri": "https://localhost:8080/",
          "height": 34
        }
      },
      "source": [
        "len(train) + len(val)"
      ],
      "execution_count": 24,
      "outputs": [
        {
          "output_type": "execute_result",
          "data": {
            "text/plain": [
              "59400"
            ]
          },
          "metadata": {
            "tags": []
          },
          "execution_count": 24
        }
      ]
    },
    {
      "cell_type": "markdown",
      "metadata": {
        "colab_type": "text",
        "id": "L2LiGJLin_ix"
      },
      "source": [
        "You have historical inspection data for over 59,000 other waterpumps, which you'll use to fit your predictive model.\n",
        "\n",
        "Based on this historical data, if you randomly chose waterpumps to inspect, then about 46% of the waterpumps would need repairs, and 54% would not need repairs."
      ]
    },
    {
      "cell_type": "code",
      "metadata": {
        "colab_type": "code",
        "id": "JliDXTp5n_iy",
        "outputId": "7e1aa3fc-4634-42d9-bf9e-4ba6df3d7593",
        "colab": {
          "base_uri": "https://localhost:8080/",
          "height": 87
        }
      },
      "source": [
        "y_train.value_counts(normalize=True)"
      ],
      "execution_count": 25,
      "outputs": [
        {
          "output_type": "execute_result",
          "data": {
            "text/plain": [
              "functional                 0.543071\n",
              "non functional             0.384241\n",
              "functional needs repair    0.072688\n",
              "Name: status_group, dtype: float64"
            ]
          },
          "metadata": {
            "tags": []
          },
          "execution_count": 25
        }
      ]
    },
    {
      "cell_type": "code",
      "metadata": {
        "colab_type": "code",
        "id": "0dP7fjQJeQEX",
        "outputId": "b383cb52-de9f-4425-90f5-ad98e9d38367",
        "colab": {
          "base_uri": "https://localhost:8080/",
          "height": 34
        }
      },
      "source": [
        "2000 * 0.46"
      ],
      "execution_count": 26,
      "outputs": [
        {
          "output_type": "execute_result",
          "data": {
            "text/plain": [
              "920.0"
            ]
          },
          "metadata": {
            "tags": []
          },
          "execution_count": 26
        }
      ]
    },
    {
      "cell_type": "markdown",
      "metadata": {
        "colab_type": "text",
        "id": "dLnJ7Fnan_i1"
      },
      "source": [
        "**Can you do better than random at prioritizing inspections?**"
      ]
    },
    {
      "cell_type": "markdown",
      "metadata": {
        "colab_type": "text",
        "id": "sIh2Xj8fn_i3"
      },
      "source": [
        "In this scenario, we should define our target differently. We want to identify which waterpumps are non-functional _or_ are functional but needs repair:"
      ]
    },
    {
      "cell_type": "code",
      "metadata": {
        "colab_type": "code",
        "id": "7naqusI0n_i4",
        "outputId": "9bb0177c-f03d-48e0-93a6-3e348f288797",
        "colab": {
          "base_uri": "https://localhost:8080/",
          "height": 70
        }
      },
      "source": [
        "y_train = y_train != 'functional'\n",
        "y_val = y_val != 'functional'\n",
        "y_train.value_counts(normalize=True)"
      ],
      "execution_count": 27,
      "outputs": [
        {
          "output_type": "execute_result",
          "data": {
            "text/plain": [
              "False    0.543071\n",
              "True     0.456929\n",
              "Name: status_group, dtype: float64"
            ]
          },
          "metadata": {
            "tags": []
          },
          "execution_count": 27
        }
      ]
    },
    {
      "cell_type": "markdown",
      "metadata": {
        "colab_type": "text",
        "id": "P1UR1t8Zn_i6"
      },
      "source": [
        "We already made our validation set the same size as our test set."
      ]
    },
    {
      "cell_type": "code",
      "metadata": {
        "colab_type": "code",
        "id": "CHHIplB7n_i8",
        "outputId": "afab00aa-833f-4974-f040-cff775e1984f",
        "colab": {
          "base_uri": "https://localhost:8080/",
          "height": 34
        }
      },
      "source": [
        "len(val) == len(test)"
      ],
      "execution_count": 28,
      "outputs": [
        {
          "output_type": "execute_result",
          "data": {
            "text/plain": [
              "True"
            ]
          },
          "metadata": {
            "tags": []
          },
          "execution_count": 28
        }
      ]
    },
    {
      "cell_type": "markdown",
      "metadata": {
        "colab_type": "text",
        "id": "g41DA70rn_i9"
      },
      "source": [
        "We can refit our model, using the redefined target.\n",
        "\n",
        "Then make predictions for the validation set."
      ]
    },
    {
      "cell_type": "code",
      "metadata": {
        "colab_type": "code",
        "id": "VXL0LaXQn_i-",
        "colab": {}
      },
      "source": [
        "pipeline.fit(X_train, y_train)\n",
        "y_pred = pipeline.predict(X_val)"
      ],
      "execution_count": 0,
      "outputs": []
    },
    {
      "cell_type": "markdown",
      "metadata": {
        "id": "e64NnY3LnTPa",
        "colab_type": "text"
      },
      "source": [
        "## Follow Along"
      ]
    },
    {
      "cell_type": "markdown",
      "metadata": {
        "colab_type": "text",
        "id": "qISPzM43n_jA"
      },
      "source": [
        "#### Look at the confusion matrix:"
      ]
    },
    {
      "cell_type": "code",
      "metadata": {
        "colab_type": "code",
        "id": "y72fakpmn_jB",
        "outputId": "44d09e97-500a-478b-d9b4-b6fe9b2a4f75",
        "colab": {
          "base_uri": "https://localhost:8080/",
          "height": 312
        }
      },
      "source": [
        "plot_confusion_matrix(pipeline, X_val, y_val, values_format='.0f', xticks_rotation='vertical')"
      ],
      "execution_count": 30,
      "outputs": [
        {
          "output_type": "execute_result",
          "data": {
            "text/plain": [
              "<sklearn.metrics._plot.confusion_matrix.ConfusionMatrixDisplay at 0x7fe7592ba358>"
            ]
          },
          "metadata": {
            "tags": []
          },
          "execution_count": 30
        },
        {
          "output_type": "display_data",
          "data": {
            "image/png": "[encoded data removed]",
            "text/plain": [
              "<Figure size 432x288 with 2 Axes>"
            ]
          },
          "metadata": {
            "tags": []
          }
        }
      ]
    },
    {
      "cell_type": "markdown",
      "metadata": {
        "colab_type": "text",
        "id": "M30BXR6Rn_jC"
      },
      "source": [
        "#### How many total predictions of \"True\" (\"non functional\" or \"functional needs repair\") ?"
      ]
    },
    {
      "cell_type": "code",
      "metadata": {
        "colab_type": "code",
        "id": "4IeTJFo8n_jD",
        "colab": {}
      },
      "source": [
        ""
      ],
      "execution_count": 0,
      "outputs": []
    },
    {
      "cell_type": "markdown",
      "metadata": {
        "colab_type": "text",
        "id": "1aZSdskSn_jF"
      },
      "source": [
        "### We don't have \"budget\" to take action on all these predictions\n",
        "\n",
        "- But we can get predicted probabilities, to rank the predictions. \n",
        "- Then change the threshold, to change the number of positive predictions, based on our budget."
      ]
    },
    {
      "cell_type": "markdown",
      "metadata": {
        "colab_type": "text",
        "id": "rXkfXDDZn_jF"
      },
      "source": [
        "### Get predicted probabilities and plot the distribution"
      ]
    },
    {
      "cell_type": "code",
      "metadata": {
        "colab_type": "code",
        "id": "jwfe7j7W_jTp",
        "outputId": "e941799a-6926-46fa-f992-b7e69afa2ef9",
        "colab": {
          "base_uri": "https://localhost:8080/",
          "height": 141
        }
      },
      "source": [
        "pipeline.predict_proba(X_val)"
      ],
      "execution_count": 31,
      "outputs": [
        {
          "output_type": "execute_result",
          "data": {
            "text/plain": [
              "array([[0.  , 1.  ],\n",
              "       [0.26, 0.74],\n",
              "       [0.9 , 0.1 ],\n",
              "       ...,\n",
              "       [0.91, 0.09],\n",
              "       [0.41, 0.59],\n",
              "       [0.98, 0.02]])"
            ]
          },
          "metadata": {
            "tags": []
          },
          "execution_count": 31
        }
      ]
    },
    {
      "cell_type": "code",
      "metadata": {
        "colab_type": "code",
        "outputId": "6aba7ba3-ea2b-4fea-c8b9-a471e9aa3859",
        "id": "R0vyFORo0XOW",
        "colab": {
          "base_uri": "https://localhost:8080/",
          "height": 34
        }
      },
      "source": [
        "pipeline.predict(X_val)"
      ],
      "execution_count": 0,
      "outputs": [
        {
          "output_type": "execute_result",
          "data": {
            "text/plain": [
              "array([ True,  True, False, ..., False,  True, False])"
            ]
          },
          "metadata": {
            "tags": []
          },
          "execution_count": 32
        }
      ]
    },
    {
      "cell_type": "code",
      "metadata": {
        "id": "fNdcnH_40avu",
        "colab_type": "code",
        "colab": {
          "base_uri": "https://localhost:8080/",
          "height": 34
        },
        "outputId": "e56382f2-f644-4ee3-dc2f-3e82864f55bc"
      },
      "source": [
        "pipeline.predict_proba(X_val)[:,1]"
      ],
      "execution_count": 33,
      "outputs": [
        {
          "output_type": "execute_result",
          "data": {
            "text/plain": [
              "array([1.  , 0.74, 0.1 , ..., 0.09, 0.59, 0.02])"
            ]
          },
          "metadata": {
            "tags": []
          },
          "execution_count": 33
        }
      ]
    },
    {
      "cell_type": "markdown",
      "metadata": {
        "colab_type": "text",
        "id": "eD6pRFKOn_jH"
      },
      "source": [
        "### Change the threshold"
      ]
    },
    {
      "cell_type": "code",
      "metadata": {
        "colab_type": "code",
        "id": "SjOhH0BMB55A",
        "outputId": "d377d09d-6f35-4171-dec3-f2448297ba97",
        "colab": {
          "base_uri": "https://localhost:8080/",
          "height": 34
        }
      },
      "source": [
        "threshold = 0.9\n",
        "sum(pipeline.predict_proba(X_val)[:,1] > threshold)"
      ],
      "execution_count": 36,
      "outputs": [
        {
          "output_type": "execute_result",
          "data": {
            "text/plain": [
              "2351"
            ]
          },
          "metadata": {
            "tags": []
          },
          "execution_count": 36
        }
      ]
    },
    {
      "cell_type": "code",
      "metadata": {
        "id": "ivhhmUuB26_4",
        "colab_type": "code",
        "colab": {
          "base_uri": "https://localhost:8080/",
          "height": 282
        },
        "outputId": "ab61abcb-48cc-4220-838a-24305b082639"
      },
      "source": [
        "import seaborn as sns\n",
        "y_pred_proba = pipeline.predict_proba(X_val)[:,1]\n",
        "ax = sns.distplot(y_pred_proba)\n",
        "threshold = 0.9\n",
        "ax.axvline(threshold, color='red')"
      ],
      "execution_count": 39,
      "outputs": [
        {
          "output_type": "execute_result",
          "data": {
            "text/plain": [
              "<matplotlib.lines.Line2D at 0x7fe7592a7a20>"
            ]
          },
          "metadata": {
            "tags": []
          },
          "execution_count": 39
        },
        {
          "output_type": "display_data",
          "data": {
            "image/png": "[encoded data removed]",
            "text/plain": [
              "<Figure size 432x288 with 1 Axes>"
            ]
          },
          "metadata": {
            "tags": []
          }
        }
      ]
    },
    {
      "cell_type": "markdown",
      "metadata": {
        "id": "TJFUH2canTQA",
        "colab_type": "text"
      },
      "source": [
        "### Or, get exactly 2,000 positive predictions"
      ]
    },
    {
      "cell_type": "markdown",
      "metadata": {
        "id": "Ms-HuR4onTQB",
        "colab_type": "text"
      },
      "source": [
        "Identify the 2,000 waterpumps in the validation set with highest predicted probabilities."
      ]
    },
    {
      "cell_type": "code",
      "metadata": {
        "id": "g9rJNjIFnTQB",
        "colab_type": "code",
        "colab": {
          "base_uri": "https://localhost:8080/",
          "height": 704,
          "referenced_widgets": [
            "6a753c62053e4402ba7727f4333a190a",
            "424d63d2eb3d4d5cb80d37e73603fb64",
            "d347f1be806243b9a4e26099e4fbe0ee",
            "48f66e42b48249629221a632a5a62930",
            "c62f1696915a45e6bba97971f98b6051",
            "2f3b0269a7c24847a649cbe9eef45ead"
          ]
        },
        "outputId": "3993f328-4c5f-4690-fb26-d5f1282547f1"
      },
      "source": [
        "from ipywidgets import interact, fixed\n",
        "import seaborn as sns\n",
        "from sklearn.metrics import confusion_matrix\n",
        "from sklearn.utils.multiclass import unique_labels\n",
        "def my_confusion_matrix(y_true, y_pred):\n",
        "    labels = unique_labels(y_true)\n",
        "    columns = [f'Predicted {label}' for label in labels]\n",
        "    index = [f'Actual {label}' for label in labels]\n",
        "    table = pd.DataFrame(confusion_matrix(y_true, y_pred), \n",
        "                         columns=columns, index=index)\n",
        "    return sns.heatmap(table, annot=True, fmt='d', cmap='viridis')\n",
        "def set_threshold(y_true, y_pred_proba, threshold=0.5):\n",
        "    y_pred = y_pred_proba > threshold\n",
        "    ax = sns.distplot(y_pred_proba)\n",
        "    ax.axvline(threshold, color='red')\n",
        "    plt.show()\n",
        "    print(classification_report(y_true, y_pred))\n",
        "    my_confusion_matrix(y_true, y_pred)\n",
        "interact(set_threshold, \n",
        "         y_true=fixed(y_val), \n",
        "         y_pred_proba=fixed(y_pred_proba), \n",
        "         threshold=(0, 1, 0.02));"
      ],
      "execution_count": 40,
      "outputs": [
        {
          "output_type": "display_data",
          "data": {
            "application/vnd.jupyter.widget-view+json": {
              "model_id": "6a753c62053e4402ba7727f4333a190a",
              "version_minor": 0,
              "version_major": 2
            },
            "text/plain": [
              "interactive(children=(FloatSlider(value=0.5, description='threshold', max=1.0, step=0.02), Output()), _dom_cla…"
            ]
          },
          "metadata": {
            "tags": []
          }
        }
      ]
    },
    {
      "cell_type": "markdown",
      "metadata": {
        "id": "7QcMaPZwnTQE",
        "colab_type": "text"
      },
      "source": [
        "Most of these top 2,000 waterpumps will be relevant recommendations, meaning `y_val==True`, meaning the waterpump is non-functional or needs repairs.\n",
        "\n",
        "Some of these top 2,000 waterpumps will be irrelevant recommendations, meaning `y_val==False`, meaning the waterpump is functional and does not need repairs.\n",
        "\n",
        "Let's look at a random sample of 50 out of these top 2,000:"
      ]
    },
    {
      "cell_type": "code",
      "metadata": {
        "id": "ObpKCOcBnTQF",
        "colab_type": "code",
        "colab": {}
      },
      "source": [
        ""
      ],
      "execution_count": 0,
      "outputs": []
    },
    {
      "cell_type": "markdown",
      "metadata": {
        "id": "D_uxxiZBnTQJ",
        "colab_type": "text"
      },
      "source": [
        "So how many of our recommendations were relevant? ..."
      ]
    },
    {
      "cell_type": "code",
      "metadata": {
        "id": "JVDK_2qbnTQJ",
        "colab_type": "code",
        "colab": {}
      },
      "source": [
        ""
      ],
      "execution_count": 0,
      "outputs": []
    },
    {
      "cell_type": "markdown",
      "metadata": {
        "id": "fAGRU8oCnTQM",
        "colab_type": "text"
      },
      "source": [
        "What's the precision for this subset of 2,000 predictions?"
      ]
    },
    {
      "cell_type": "code",
      "metadata": {
        "id": "FK1T0DvwnTQM",
        "colab_type": "code",
        "colab": {}
      },
      "source": [
        ""
      ],
      "execution_count": 0,
      "outputs": []
    },
    {
      "cell_type": "markdown",
      "metadata": {
        "colab_type": "text",
        "id": "top80m_Gn_jI"
      },
      "source": [
        "### In this scenario ... \n",
        "\n",
        "Accuracy _isn't_ the best metric!\n",
        "\n",
        "Instead, change the threshold, to change the number of positive predictions, based on the budget. (You have the time and resources to go to just 2,000 waterpumps for proactive maintenance.)\n",
        "\n",
        "Then, evaluate with the precision for \"non functional\"/\"functional needs repair\".\n",
        "\n",
        "This is conceptually like **Precision@K**, where k=2,000.\n",
        "\n",
        "Read more here: [Recall and Precision at k for Recommender Systems: Detailed Explanation with examples](https://medium.com/@m_n_malaeb/recall-and-precision-at-k-for-recommender-systems-618483226c54)\n",
        "\n",
        "> Precision at k is the proportion of recommended items in the top-k set that are relevant\n",
        "\n",
        "> Mathematically precision@k is defined as: `Precision@k = (# of recommended items @k that are relevant) / (# of recommended items @k)`\n",
        "\n",
        "> In the context of recommendation systems we are most likely interested in recommending top-N items to the user. So it makes more sense to compute precision and recall metrics in the first N items instead of all the items. Thus the notion of precision and recall at k where k is a user definable integer that is set by the user to match the top-N recommendations objective.\n",
        "\n",
        "We asked, can you do better than random at prioritizing inspections?\n",
        "\n",
        "If we had randomly chosen waterpumps to inspect, we estimate that only 920 waterpumps would be repaired after 2,000 maintenance visits. (46%)\n",
        "\n",
        "But using our predictive model, in the validation set, we succesfully identified over 1,900 waterpumps in need of repair!\n",
        "\n",
        "So we will use this predictive model with the dataset of over 14,000 waterpumps that we _do_ have some information about, but we _don't_ know whether they are currently functional, or functional but need repair, or non-functional.\n",
        "\n",
        "We will predict which 2,000 are most likely non-functional or in need of repair.\n",
        "\n",
        "We estimate that approximately 1,900 waterpumps will be repaired after these 2,000 maintenance visits.\n",
        "\n",
        "So we're confident that our predictive model will help triage and prioritize waterpump inspections."
      ]
    },
    {
      "cell_type": "markdown",
      "metadata": {
        "id": "NIsoS-C_nTQQ",
        "colab_type": "text"
      },
      "source": [
        "### But ...\n",
        "\n",
        "This metric (~1,900 waterpumps repaired after 2,000 maintenance visits) is specific for _one_ classification problem and _one_ possible trade-off.\n",
        "\n",
        "Can we get an evaluation metric that is generic for _all_ classification problems and _all_ possible trade-offs?\n",
        "\n",
        "Yes — the most common such metric is **ROC AUC.**"
      ]
    },
    {
      "cell_type": "markdown",
      "metadata": {
        "id": "ZXdgSI8fnTQR",
        "colab_type": "text"
      },
      "source": [
        "## Get ROC AUC (Receiver Operating Characteristic, Area Under the Curve)\n",
        "\n",
        "[Wikipedia explains,](https://en.wikipedia.org/wiki/Receiver_operating_characteristic) \"A receiver operating characteristic curve, or ROC curve, is a graphical plot that illustrates the diagnostic ability of a binary classifier system as its discrimination threshold is varied. **The ROC curve is created by plotting the true positive rate (TPR) against the false positive rate (FPR) at various threshold settings.**\"\n",
        "\n",
        "ROC AUC is the area under the ROC curve. [It can be interpreted](https://stats.stackexchange.com/questions/132777/what-does-auc-stand-for-and-what-is-it) as \"the expectation that a uniformly drawn random positive is ranked before a uniformly drawn random negative.\" \n",
        "\n",
        "ROC AUC measures **how well a classifier ranks predicted probabilities.** So, when you get your classifier’s ROC AUC score, you need to **use predicted probabilities, not discrete predictions.**\n",
        "\n",
        "ROC AUC ranges **from 0 to 1.** Higher is better. A naive majority class **baseline** will have an ROC AUC score of **0.5.** \n",
        "\n",
        "#### Scikit-Learn docs\n",
        "- [User Guide: Receiver operating characteristic (ROC)](https://scikit-learn.org/stable/modules/model_evaluation.html#receiver-operating-characteristic-roc)\n",
        "- [sklearn.metrics.roc_curve](https://scikit-learn.org/stable/modules/generated/sklearn.metrics.roc_curve.html)\n",
        "- [sklearn.metrics.roc_auc_score](https://scikit-learn.org/stable/modules/generated/sklearn.metrics.roc_auc_score.html)\n",
        "\n",
        "#### More links\n",
        "- [ROC curves and Area Under the Curve explained](https://www.dataschool.io/roc-curves-and-auc-explained/)\n",
        "- [The philosophical argument for using ROC curves](https://lukeoakdenrayner.wordpress.com/2018/01/07/the-philosophical-argument-for-using-roc-curves/)"
      ]
    },
    {
      "cell_type": "code",
      "metadata": {
        "id": "KicSqdmHnTQS",
        "colab_type": "code",
        "colab": {}
      },
      "source": [
        "# \"The ROC curve is created by plotting the true positive rate (TPR) \n",
        "# against the false positive rate (FPR) \n",
        "# at various threshold settings.\"\n",
        "\n",
        "# Use scikit-learn to calculate TPR & FPR at various thresholds\n",
        "from sklearn.metrics import roc_curve\n",
        "fpr, tpr, thresholds = roc_curve(y_val, y_pred_proba)"
      ],
      "execution_count": 0,
      "outputs": []
    },
    {
      "cell_type": "code",
      "metadata": {
        "id": "8_fNndqLnTQY",
        "colab_type": "code",
        "colab": {}
      },
      "source": [
        "# See the results in a table\n",
        "pd.DataFrame({\n",
        "    'False Positive Rate': fpr, \n",
        "    'True Positive Rate': tpr, \n",
        "    'Threshold': thresholds\n",
        "})"
      ],
      "execution_count": 0,
      "outputs": []
    },
    {
      "cell_type": "code",
      "metadata": {
        "id": "awvI4HVcnTQd",
        "colab_type": "code",
        "colab": {
          "base_uri": "https://localhost:8080/",
          "height": 294
        },
        "outputId": "dd9b9750-d81d-41a4-f827-953ea042b97c"
      },
      "source": [
        "# See the results on a plot. \n",
        "# This is the \"Receiver Operating Characteristic\" curve\n",
        "plt.scatter(fpr, tpr)\n",
        "plt.title('ROC curve')\n",
        "plt.xlabel('False Positive Rate')\n",
        "plt.ylabel('True Positive Rate');"
      ],
      "execution_count": 43,
      "outputs": [
        {
          "output_type": "display_data",
          "data": {
            "image/png": "[encoded data removed]",
            "text/plain": [
              "<Figure size 432x288 with 1 Axes>"
            ]
          },
          "metadata": {
            "tags": []
          }
        }
      ]
    },
    {
      "cell_type": "code",
      "metadata": {
        "id": "8SIrW71xnTQf",
        "colab_type": "code",
        "colab": {
          "base_uri": "https://localhost:8080/",
          "height": 34
        },
        "outputId": "23066392-0140-4426-d0f7-83dcd578149a"
      },
      "source": [
        "# Use scikit-learn to calculate the area under the curve.\n",
        "from sklearn.metrics import roc_auc_score\n",
        "roc_auc_score(y_val, y_pred_proba)"
      ],
      "execution_count": 44,
      "outputs": [
        {
          "output_type": "execute_result",
          "data": {
            "text/plain": [
              "0.9024268359147749"
            ]
          },
          "metadata": {
            "tags": []
          },
          "execution_count": 44
        }
      ]
    },
    {
      "cell_type": "markdown",
      "metadata": {
        "id": "g_olipZinTQk",
        "colab_type": "text"
      },
      "source": [
        "**Recap:** ROC AUC measures how well a classifier ranks predicted probabilities. So, when you get your classifier’s ROC AUC score, you need to use predicted probabilities, not discrete predictions. \n",
        "\n",
        "Your code may look something like this:\n",
        "\n",
        "```python\n",
        "from sklearn.metrics import roc_auc_score\n",
        "y_pred_proba = model.predict_proba(X_test_transformed)[:, -1] # Probability for last class\n",
        "print('Test ROC AUC:', roc_auc_score(y_test, y_pred_proba))\n",
        "```\n",
        "\n",
        "ROC AUC ranges from 0 to 1. Higher is better. A naive majority class baseline will have an ROC AUC score of 0.5."
      ]
    },
    {
      "cell_type": "code",
      "metadata": {
        "id": "4CQT_unE706t",
        "colab_type": "code",
        "colab": {}
      },
      "source": [
        "from sklearn.metrics import roc_auc_score\n",
        "y_pred_proba = model.predict_proba(X_test_transformed)[:, -1] # Probability for last class\n",
        "print('Test ROC AUC:', roc_auc_score(y_test, y_pred_proba))"
      ],
      "execution_count": 0,
      "outputs": []
    }
  ]
}