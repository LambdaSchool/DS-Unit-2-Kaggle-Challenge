{
  "nbformat": 4,
  "nbformat_minor": 0,
  "metadata": {
    "kernelspec": {
      "display_name": "Python 3",
      "language": "python",
      "name": "python3"
    },
    "language_info": {
      "codemirror_mode": {
        "name": "ipython",
        "version": 3
      },
      "file_extension": ".py",
      "mimetype": "text/x-python",
      "name": "python",
      "nbconvert_exporter": "python",
      "pygments_lexer": "ipython3",
      "version": "3.7.6"
    },
    "colab": {
      "name": "Copy of Unit 2 - Sprint 2 - Module 4 - CLASS.ipynb",
      "provenance": [],
      "collapsed_sections": [
        "Z1U7HdC6n_ia",
        "50R-Xhwdn_ie",
        "iY2rfzA4n_ih",
        "pYM6f99cn_ij",
        "mXNuZ_Rnn_il",
        "ci4QguAkn_in",
        "9IY-vC-hn_iq",
        "kBcQQJ2kn_is",
        "qISPzM43n_jA",
        "M30BXR6Rn_jC",
        "1aZSdskSn_jF",
        "rXkfXDDZn_jF",
        "eD6pRFKOn_jH",
        "Bjl_7Vjdg9Oi",
        "top80m_Gn_jI",
        "uzraapyEg9Os"
      ],
      "include_colab_link": true
    },
    "widgets": {
      "application/vnd.jupyter.widget-state+json": {
        "23260e2701e84dd3b6568f689f9390f8": {
          "model_module": "@jupyter-widgets/controls",
          "model_name": "VBoxModel",
          "state": {
            "_view_name": "VBoxView",
            "_dom_classes": [
              "widget-interact"
            ],
            "_model_name": "VBoxModel",
            "_view_module": "@jupyter-widgets/controls",
            "_model_module_version": "1.5.0",
            "_view_count": null,
            "_view_module_version": "1.5.0",
            "box_style": "",
            "layout": "IPY_MODEL_291a9d56186a4186a8f3f77b8e234b7d",
            "_model_module": "@jupyter-widgets/controls",
            "children": [
              "IPY_MODEL_3112cf47eaea493181223b42a3b99593",
              "IPY_MODEL_5039812cc21d45dbaa8667c695d4be00"
            ]
          }
        },
        "291a9d56186a4186a8f3f77b8e234b7d": {
          "model_module": "@jupyter-widgets/base",
          "model_name": "LayoutModel",
          "state": {
            "_view_name": "LayoutView",
            "grid_template_rows": null,
            "right": null,
            "justify_content": null,
            "_view_module": "@jupyter-widgets/base",
            "overflow": null,
            "_model_module_version": "1.2.0",
            "_view_count": null,
            "flex_flow": null,
            "width": null,
            "min_width": null,
            "border": null,
            "align_items": null,
            "bottom": null,
            "_model_module": "@jupyter-widgets/base",
            "top": null,
            "grid_column": null,
            "overflow_y": null,
            "overflow_x": null,
            "grid_auto_flow": null,
            "grid_area": null,
            "grid_template_columns": null,
            "flex": null,
            "_model_name": "LayoutModel",
            "justify_items": null,
            "grid_row": null,
            "max_height": null,
            "align_content": null,
            "visibility": null,
            "align_self": null,
            "height": null,
            "min_height": null,
            "padding": null,
            "grid_auto_rows": null,
            "grid_gap": null,
            "max_width": null,
            "order": null,
            "_view_module_version": "1.2.0",
            "grid_template_areas": null,
            "object_position": null,
            "object_fit": null,
            "grid_auto_columns": null,
            "margin": null,
            "display": null,
            "left": null
          }
        },
        "3112cf47eaea493181223b42a3b99593": {
          "model_module": "@jupyter-widgets/controls",
          "model_name": "FloatSliderModel",
          "state": {
            "_view_name": "FloatSliderView",
            "style": "IPY_MODEL_7c0e2e09e5a34c41824a71e528e93af8",
            "_dom_classes": [],
            "description": "threshold",
            "step": 0.02,
            "_model_name": "FloatSliderModel",
            "orientation": "horizontal",
            "max": 1,
            "_view_module": "@jupyter-widgets/controls",
            "_model_module_version": "1.5.0",
            "value": 0.9,
            "_view_count": null,
            "disabled": false,
            "_view_module_version": "1.5.0",
            "min": 0,
            "continuous_update": true,
            "readout_format": ".2f",
            "description_tooltip": null,
            "readout": true,
            "_model_module": "@jupyter-widgets/controls",
            "layout": "IPY_MODEL_f635baeff8d2475b962ed0d5067dcdc8"
          }
        },
        "5039812cc21d45dbaa8667c695d4be00": {
          "model_module": "@jupyter-widgets/output",
          "model_name": "OutputModel",
          "state": {
            "_view_name": "OutputView",
            "msg_id": "",
            "_dom_classes": [],
            "_model_name": "OutputModel",
            "outputs": [
              {
                "output_type": "display_data",
                "metadata": {
                  "tags": []
                },
                "image/png": "iVBORw0KGgoAAAANSUhEUgAAAXgAAAD4CAYAAADmWv3KAAAABHNCSVQICAgIfAhkiAAAAAlwSFlz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\n5MkAAAAASUVORK5CYII=\n",
                "text/plain": "<Figure size 432x288 with 1 Axes>"
              },
              {
                "output_type": "stream",
                "metadata": {
                  "tags": []
                },
                "text": "              precision    recall  f1-score   support\n\n       False       0.65      0.99      0.78      7798\n        True       0.98      0.35      0.52      6560\n\n    accuracy                           0.70     14358\n   macro avg       0.81      0.67      0.65     14358\nweighted avg       0.80      0.70      0.66     14358\n\n",
                "stream": "stdout"
              },
              {
                "output_type": "display_data",
                "metadata": {
                  "tags": []
                },
                "image/png": "iVBORw0KGgoAAAANSUhEUgAAAWYAAAD4CAYAAADfPUyRAAAABHNCSVQICAgIfAhkiAAAAAlwSFlz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\n",
                "text/plain": "<Figure size 432x288 with 2 Axes>"
              }
            ],
            "_view_module": "@jupyter-widgets/output",
            "_model_module_version": "1.0.0",
            "_view_count": null,
            "_view_module_version": "1.0.0",
            "layout": "IPY_MODEL_4280c095c807461c93a49c53aef2cfee",
            "_model_module": "@jupyter-widgets/output"
          }
        },
        "7c0e2e09e5a34c41824a71e528e93af8": {
          "model_module": "@jupyter-widgets/controls",
          "model_name": "SliderStyleModel",
          "state": {
            "_view_name": "StyleView",
            "handle_color": null,
            "_model_name": "SliderStyleModel",
            "description_width": "",
            "_view_module": "@jupyter-widgets/base",
            "_model_module_version": "1.5.0",
            "_view_count": null,
            "_view_module_version": "1.2.0",
            "_model_module": "@jupyter-widgets/controls"
          }
        },
        "f635baeff8d2475b962ed0d5067dcdc8": {
          "model_module": "@jupyter-widgets/base",
          "model_name": "LayoutModel",
          "state": {
            "_view_name": "LayoutView",
            "grid_template_rows": null,
            "right": null,
            "justify_content": null,
            "_view_module": "@jupyter-widgets/base",
            "overflow": null,
            "_model_module_version": "1.2.0",
            "_view_count": null,
            "flex_flow": null,
            "width": null,
            "min_width": null,
            "border": null,
            "align_items": null,
            "bottom": null,
            "_model_module": "@jupyter-widgets/base",
            "top": null,
            "grid_column": null,
            "overflow_y": null,
            "overflow_x": null,
            "grid_auto_flow": null,
            "grid_area": null,
            "grid_template_columns": null,
            "flex": null,
            "_model_name": "LayoutModel",
            "justify_items": null,
            "grid_row": null,
            "max_height": null,
            "align_content": null,
            "visibility": null,
            "align_self": null,
            "height": null,
            "min_height": null,
            "padding": null,
            "grid_auto_rows": null,
            "grid_gap": null,
            "max_width": null,
            "order": null,
            "_view_module_version": "1.2.0",
            "grid_template_areas": null,
            "object_position": null,
            "object_fit": null,
            "grid_auto_columns": null,
            "margin": null,
            "display": null,
            "left": null
          }
        }
      }
    }
  },
  "cells": [
    {
      "cell_type": "markdown",
      "metadata": {
        "id": "view-in-github",
        "colab_type": "text"
      },
      "source": [
        "<a href=\"https://colab.research.google.com/github/tmbern/DS-Unit-2-Kaggle-Challenge/blob/master/module4-classification-metrics/Unit_2_Sprint_2_Module_4_CLASS-lecture-notebook.ipynb\" target=\"_parent\"><img src=\"https://colab.research.google.com/assets/colab-badge.svg\" alt=\"Open In Colab\"/></a>"
      ]
    },
    {
      "cell_type": "markdown",
      "metadata": {
        "colab_type": "text",
        "id": "EZyiOteN16cD"
      },
      "source": [
        "Lambda School Data Science\n",
        "\n",
        "*Unit 2, Sprint 2, Module 4*\n",
        "\n",
        "---"
      ]
    },
    {
      "cell_type": "markdown",
      "metadata": {
        "colab_type": "text",
        "id": "KMI2k-oBsS08"
      },
      "source": [
        "# Classification Metrics\n",
        "\n",
        "- get and interpret the **confusion matrix** for classification models\n",
        "- use classification metrics: **precision, recall**\n",
        "- understand the relationships between precision, recall, **thresholds, and predicted probabilities**, to help **make decisions and allocate budgets**\n",
        "- Get **ROC AUC** (Receiver Operating Characteristic, Area Under the Curve)"
      ]
    },
    {
      "cell_type": "markdown",
      "metadata": {
        "colab_type": "text",
        "id": "rU7RuVcjWdcp"
      },
      "source": [
        "### Setup\n",
        "\n",
        "Run the code cell below. You can work locally (follow the [local setup instructions](https://lambdaschool.github.io/ds/unit2/local/)) or on Colab.\n",
        "\n",
        "Libraries\n",
        "\n",
        "- category_encoders\n",
        "- ipywidgets\n",
        "- matplotlib\n",
        "- numpy\n",
        "- pandas\n",
        "- scikit-learn\n",
        "- seaborn"
      ]
    },
    {
      "cell_type": "code",
      "metadata": {
        "colab_type": "code",
        "id": "OpFoag9QoTgA",
        "colab": {}
      },
      "source": [
        "%%capture\n",
        "import sys\n",
        "\n",
        "# If you're on Colab:\n",
        "if 'google.colab' in sys.modules:\n",
        "    DATA_PATH = 'https://raw.githubusercontent.com/LambdaSchool/DS-Unit-2-Kaggle-Challenge/master/data/'\n",
        "    !pip install category_encoders==2.*\n",
        "\n",
        "# If you're working locally:\n",
        "else:\n",
        "    DATA_PATH = '../data/'"
      ],
      "execution_count": 0,
      "outputs": []
    },
    {
      "cell_type": "markdown",
      "metadata": {
        "colab_type": "text",
        "id": "EfhziD2Wn_iO"
      },
      "source": [
        "# Get and interpret the confusion matrix for classification models"
      ]
    },
    {
      "cell_type": "markdown",
      "metadata": {
        "id": "UgHizyEWg9Na",
        "colab_type": "text"
      },
      "source": [
        "## Overview"
      ]
    },
    {
      "cell_type": "markdown",
      "metadata": {
        "colab_type": "text",
        "id": "xZNCHldPn_iL"
      },
      "source": [
        "First, load the Tanzania Waterpumps data and fit a model. (This code isn't new, we've seen it all before.)"
      ]
    },
    {
      "cell_type": "code",
      "metadata": {
        "colab_type": "code",
        "id": "t8Cjxzrwn_iL",
        "outputId": "619e316f-b53e-4026-ddc8-822c98efa91c",
        "colab": {
          "base_uri": "https://localhost:8080/",
          "height": 35
        }
      },
      "source": [
        "%matplotlib inline\n",
        "import category_encoders as ce\n",
        "import matplotlib.pyplot as plt\n",
        "import numpy as np\n",
        "import pandas as pd\n",
        "import seaborn as sns\n",
        "from sklearn.impute import SimpleImputer\n",
        "from sklearn.metrics import accuracy_score\n",
        "from sklearn.model_selection import train_test_split\n",
        "from sklearn.pipeline import make_pipeline\n",
        "from sklearn.ensemble import RandomForestClassifier\n",
        "\n",
        "def wrangle(X):\n",
        "    \"\"\"Wrangles train, validate, and test sets in the same way\"\"\"\n",
        "    X = X.copy()\n",
        "\n",
        "    # Convert date_recorded to datetime\n",
        "    X['date_recorded'] = pd.to_datetime(X['date_recorded'], infer_datetime_format=True)\n",
        "    \n",
        "    # Extract components from date_recorded, then drop the original column\n",
        "    X['year_recorded'] = X['date_recorded'].dt.year\n",
        "    X['month_recorded'] = X['date_recorded'].dt.month\n",
        "    X['day_recorded'] = X['date_recorded'].dt.day\n",
        "    X = X.drop(columns='date_recorded')\n",
        "    \n",
        "    # Engineer feature: how many years from construction_year to date_recorded\n",
        "    X['years'] = X['year_recorded'] - X['construction_year']    \n",
        "    \n",
        "    # Drop recorded_by (never varies) and id (always varies, random)\n",
        "    unusable_variance = ['recorded_by', 'id']\n",
        "    X = X.drop(columns=unusable_variance)\n",
        "    \n",
        "    # Drop duplicate columns\n",
        "    duplicate_columns = ['quantity_group']\n",
        "    X = X.drop(columns=duplicate_columns)\n",
        "    \n",
        "    # About 3% of the time, latitude has small values near zero,\n",
        "    # outside Tanzania, so we'll treat these like null values\n",
        "    X['latitude'] = X['latitude'].replace(-2e-08, np.nan)\n",
        "    \n",
        "    # When columns have zeros and shouldn't, they are like null values\n",
        "    cols_with_zeros = ['construction_year', 'longitude', 'latitude', 'gps_height', 'population']\n",
        "    for col in cols_with_zeros:\n",
        "        X[col] = X[col].replace(0, np.nan)\n",
        "        \n",
        "    return X\n",
        "\n",
        "\n",
        "# Merge train_features.csv & train_labels.csv\n",
        "train = pd.merge(pd.read_csv(DATA_PATH+'waterpumps/train_features.csv'), \n",
        "                 pd.read_csv(DATA_PATH+'waterpumps/train_labels.csv'))\n",
        "\n",
        "# Read test_features.csv & sample_submission.csv\n",
        "test = pd.read_csv(DATA_PATH+'waterpumps/test_features.csv')\n",
        "sample_submission = pd.read_csv(DATA_PATH+'waterpumps/sample_submission.csv')\n",
        "\n",
        "# Split train into train & val. Make val the same size as test.\n",
        "target = 'status_group'\n",
        "train, val = train_test_split(train, test_size=len(test),  \n",
        "                              stratify=train[target], random_state=42)\n",
        "\n",
        "# Wrangle train, validate, and test sets in the same way\n",
        "train = wrangle(train)\n",
        "val = wrangle(val)\n",
        "test = wrangle(test)\n",
        "\n",
        "# Arrange data into X features matrix and y target vector\n",
        "X_train = train.drop(columns=target)\n",
        "y_train = train[target]\n",
        "X_val = val.drop(columns=target)\n",
        "y_val = val[target]\n",
        "X_test = test\n",
        "\n",
        "# Make pipeline!\n",
        "pipeline = make_pipeline(\n",
        "    ce.OrdinalEncoder(), \n",
        "    SimpleImputer(strategy='mean'), \n",
        "    RandomForestClassifier(n_estimators=100, random_state=42, n_jobs=-1)\n",
        ")\n",
        "\n",
        "# Fit on train, score on val\n",
        "pipeline.fit(X_train, y_train)\n",
        "y_pred = pipeline.predict(X_val)\n",
        "print('Validation Accuracy', accuracy_score(y_val, y_pred))"
      ],
      "execution_count": 0,
      "outputs": [
        {
          "output_type": "stream",
          "text": [
            "Validation Accuracy 0.8140409527789386\n"
          ],
          "name": "stdout"
        }
      ]
    },
    {
      "cell_type": "markdown",
      "metadata": {
        "id": "60-AZnETg9Ne",
        "colab_type": "text"
      },
      "source": [
        "## Follow Along\n",
        "\n",
        "Scikit-learn added a [**`plot_confusion_matrix`**](https://scikit-learn.org/stable/modules/generated/sklearn.metrics.plot_confusion_matrix.html) function in version 0.22!"
      ]
    },
    {
      "cell_type": "code",
      "metadata": {
        "colab_type": "code",
        "id": "2MSWehj9n_iO",
        "outputId": "117cf3cd-4288-4445-98fe-f3537257ecca",
        "colab": {
          "base_uri": "https://localhost:8080/",
          "height": 407
        }
      },
      "source": [
        "import sklearn\n",
        "sklearn.__version__\n",
        "\n",
        "from sklearn.metrics import plot_confusion_matrix\n",
        "\n",
        "plot_confusion_matrix(pipeline, X_val, y_val, values_format='.0f', xticks_rotation='vertical')"
      ],
      "execution_count": 0,
      "outputs": [
        {
          "output_type": "execute_result",
          "data": {
            "text/plain": [
              "<sklearn.metrics._plot.confusion_matrix.ConfusionMatrixDisplay at 0x7ff665e9b7b8>"
            ]
          },
          "metadata": {
            "tags": []
          },
          "execution_count": 8
        },
        {
          "output_type": "display_data",
          "data": {
            "image/png": "[encoded data removed]",
            "text/plain": [
              "<Figure size 432x288 with 2 Axes>"
            ]
          },
          "metadata": {
            "tags": []
          }
        }
      ]
    },
    {
      "cell_type": "markdown",
      "metadata": {
        "colab_type": "text",
        "id": "fP6FGBGUn_iQ"
      },
      "source": [
        "#### How many correct predictions were made?"
      ]
    },
    {
      "cell_type": "code",
      "metadata": {
        "colab_type": "code",
        "id": "wRSaYRPWn_iR",
        "outputId": "5c560994-9c11-4dc2-fec7-6f1953c3e045",
        "colab": {
          "base_uri": "https://localhost:8080/",
          "height": 35
        }
      },
      "source": [
        "correct_predictions = 7005 +332 + 4351\n",
        "correct_predictions"
      ],
      "execution_count": 0,
      "outputs": [
        {
          "output_type": "execute_result",
          "data": {
            "text/plain": [
              "11688"
            ]
          },
          "metadata": {
            "tags": []
          },
          "execution_count": 9
        }
      ]
    },
    {
      "cell_type": "markdown",
      "metadata": {
        "colab_type": "text",
        "id": "-q-3R7Ean_iT"
      },
      "source": [
        "#### How many total predictions were made?"
      ]
    },
    {
      "cell_type": "code",
      "metadata": {
        "colab_type": "code",
        "id": "vLAQL05fn_iT",
        "outputId": "4f007fae-d621-49ce-ce35-935592ab609f",
        "colab": {
          "base_uri": "https://localhost:8080/",
          "height": 35
        }
      },
      "source": [
        "total_predictions = y_val.shape[0]\n",
        "total_predictions"
      ],
      "execution_count": 0,
      "outputs": [
        {
          "output_type": "execute_result",
          "data": {
            "text/plain": [
              "14358"
            ]
          },
          "metadata": {
            "tags": []
          },
          "execution_count": 10
        }
      ]
    },
    {
      "cell_type": "markdown",
      "metadata": {
        "colab_type": "text",
        "id": "K1yQ_jYPn_iV"
      },
      "source": [
        "#### What was the classification accuracy?"
      ]
    },
    {
      "cell_type": "code",
      "metadata": {
        "colab_type": "code",
        "id": "fskAC6SYn_iW",
        "outputId": "43283e9b-b002-410b-c73c-1699d8ac6bad",
        "colab": {
          "base_uri": "https://localhost:8080/",
          "height": 35
        }
      },
      "source": [
        "correct_predictions / total_predictions\n"
      ],
      "execution_count": 0,
      "outputs": [
        {
          "output_type": "execute_result",
          "data": {
            "text/plain": [
              "0.8140409527789386"
            ]
          },
          "metadata": {
            "tags": []
          },
          "execution_count": 12
        }
      ]
    },
    {
      "cell_type": "code",
      "metadata": {
        "id": "gqyhy3BkupZz",
        "colab_type": "code",
        "outputId": "7d43dc27-c4ea-4343-e2b6-caeeab7da10b",
        "colab": {
          "base_uri": "https://localhost:8080/",
          "height": 35
        }
      },
      "source": [
        "accuracy_score(y_val, y_pred)"
      ],
      "execution_count": 0,
      "outputs": [
        {
          "output_type": "execute_result",
          "data": {
            "text/plain": [
              "0.8140409527789386"
            ]
          },
          "metadata": {
            "tags": []
          },
          "execution_count": 13
        }
      ]
    },
    {
      "cell_type": "code",
      "metadata": {
        "id": "sq_el42Pupci",
        "colab_type": "code",
        "outputId": "64d2286e-f26c-4906-828d-9474bb80eb11",
        "colab": {
          "base_uri": "https://localhost:8080/",
          "height": 35
        }
      },
      "source": [
        "sum(y_pred == y_val) / len(y_pred)"
      ],
      "execution_count": 0,
      "outputs": [
        {
          "output_type": "execute_result",
          "data": {
            "text/plain": [
              "0.8140409527789386"
            ]
          },
          "metadata": {
            "tags": []
          },
          "execution_count": 14
        }
      ]
    },
    {
      "cell_type": "markdown",
      "metadata": {
        "colab_type": "text",
        "id": "EqFgEm3tn_iY"
      },
      "source": [
        "# Use classification metrics: precision, recall"
      ]
    },
    {
      "cell_type": "markdown",
      "metadata": {
        "id": "NL9giv9Lg9Nt",
        "colab_type": "text"
      },
      "source": [
        "## Overview\n",
        "\n",
        "[Scikit-Learn User Guide — Classification Report](https://scikit-learn.org/stable/modules/model_evaluation.html#classification-report)"
      ]
    },
    {
      "cell_type": "code",
      "metadata": {
        "colab_type": "code",
        "id": "mGv7OLL4n_iY",
        "outputId": "06b23970-7676-4122-95a2-48d1ef410b14",
        "colab": {
          "base_uri": "https://localhost:8080/",
          "height": 199
        }
      },
      "source": [
        "from sklearn.metrics import classification_report\n",
        "print(classification_report(y_val, y_pred))"
      ],
      "execution_count": 0,
      "outputs": [
        {
          "output_type": "stream",
          "text": [
            "                         precision    recall  f1-score   support\n",
            "\n",
            "             functional       0.81      0.90      0.85      7798\n",
            "functional needs repair       0.58      0.32      0.41      1043\n",
            "         non functional       0.85      0.79      0.82      5517\n",
            "\n",
            "               accuracy                           0.81     14358\n",
            "              macro avg       0.75      0.67      0.69     14358\n",
            "           weighted avg       0.81      0.81      0.81     14358\n",
            "\n"
          ],
          "name": "stdout"
        }
      ]
    },
    {
      "cell_type": "markdown",
      "metadata": {
        "colab_type": "text",
        "id": "Z1U7HdC6n_ia"
      },
      "source": [
        "#### Wikipedia, [Precision and recall](https://en.wikipedia.org/wiki/Precision_and_recall)\n",
        "\n",
        "> Both precision and recall are based on an understanding and measure of relevance.\n",
        "\n",
        "> Suppose a computer program for recognizing dogs in photographs identifies 8 dogs in a picture containing 12 dogs and some cats. Of the 8 identified as dogs, 5 actually are dogs (true positives), while the rest are cats (false positives). The program's precision is 5/8 while its recall is 5/12.\n",
        "\n",
        "> High precision means that an algorithm returned substantially more relevant results than irrelevant ones, while high recall means that an algorithm returned most of the relevant results.\n",
        "\n",
        "<img src=\"https://upload.wikimedia.org/wikipedia/commons/thumb/2/26/Precisionrecall.svg/700px-Precisionrecall.svg.png\" width=\"400\">"
      ]
    },
    {
      "cell_type": "markdown",
      "metadata": {
        "id": "29riMXl0g9Nx",
        "colab_type": "text"
      },
      "source": [
        "## Follow Along"
      ]
    },
    {
      "cell_type": "markdown",
      "metadata": {
        "colab_type": "text",
        "id": "50R-Xhwdn_ie"
      },
      "source": [
        "#### [We can get precision & recall from the confusion matrix](https://en.wikipedia.org/wiki/Precision_and_recall#Definition_(classification_context))"
      ]
    },
    {
      "cell_type": "code",
      "metadata": {
        "colab_type": "code",
        "id": "eIta6Vwsn_if",
        "outputId": "6c21f66f-feee-4eaa-eed6-ae20d7ee1b8b",
        "colab": {
          "base_uri": "https://localhost:8080/",
          "height": 407
        }
      },
      "source": [
        "cm = plot_confusion_matrix(pipeline, X_val, y_val, values_format='.0f', xticks_rotation='vertical')\n",
        "cm\n",
        "\n",
        "# precision = true_positives / (true_positives + positives)\n",
        "# recall = true_positives / (true_positives + false_negatives)"
      ],
      "execution_count": 0,
      "outputs": [
        {
          "output_type": "execute_result",
          "data": {
            "text/plain": [
              "<sklearn.metrics._plot.confusion_matrix.ConfusionMatrixDisplay at 0x7ff65467b320>"
            ]
          },
          "metadata": {
            "tags": []
          },
          "execution_count": 16
        },
        {
          "output_type": "display_data",
          "data": {
            "image/png": "[encoded data removed]",
            "text/plain": [
              "<Figure size 432x288 with 2 Axes>"
            ]
          },
          "metadata": {
            "tags": []
          }
        }
      ]
    },
    {
      "cell_type": "markdown",
      "metadata": {
        "colab_type": "text",
        "id": "iY2rfzA4n_ih"
      },
      "source": [
        "#### How many correct predictions of \"non functional\"?"
      ]
    },
    {
      "cell_type": "code",
      "metadata": {
        "colab_type": "code",
        "id": "O-anLkCin_ii",
        "colab": {}
      },
      "source": [
        "correct_predictions_nonfunctional = 4351"
      ],
      "execution_count": 0,
      "outputs": []
    },
    {
      "cell_type": "markdown",
      "metadata": {
        "colab_type": "text",
        "id": "pYM6f99cn_ij"
      },
      "source": [
        "#### How many total predictions of \"non functional\"?"
      ]
    },
    {
      "cell_type": "code",
      "metadata": {
        "colab_type": "code",
        "id": "_qCiA8j2n_ik",
        "colab": {}
      },
      "source": [
        "total_predictions_nonfunctional = 622 + 156 +4351"
      ],
      "execution_count": 0,
      "outputs": []
    },
    {
      "cell_type": "markdown",
      "metadata": {
        "colab_type": "text",
        "id": "mXNuZ_Rnn_il"
      },
      "source": [
        "#### What's the precision for \"non functional\"?"
      ]
    },
    {
      "cell_type": "code",
      "metadata": {
        "colab_type": "code",
        "id": "X1f7VsyXn_im",
        "outputId": "5ab7eafe-62b9-4c47-ed1a-2341192becca",
        "colab": {
          "base_uri": "https://localhost:8080/",
          "height": 35
        }
      },
      "source": [
        "correct_predictions_nonfunctional / total_predictions_nonfunctional"
      ],
      "execution_count": 0,
      "outputs": [
        {
          "output_type": "execute_result",
          "data": {
            "text/plain": [
              "0.8483135114057321"
            ]
          },
          "metadata": {
            "tags": []
          },
          "execution_count": 19
        }
      ]
    },
    {
      "cell_type": "code",
      "metadata": {
        "id": "xqE-kKjvxPRp",
        "colab_type": "code",
        "outputId": "89027b32-4d60-49bf-f3c9-61ef33d352d7",
        "colab": {
          "base_uri": "https://localhost:8080/",
          "height": 199
        }
      },
      "source": [
        "print(classification_report(y_val, y_pred))"
      ],
      "execution_count": 0,
      "outputs": [
        {
          "output_type": "stream",
          "text": [
            "                         precision    recall  f1-score   support\n",
            "\n",
            "             functional       0.81      0.90      0.85      7798\n",
            "functional needs repair       0.58      0.32      0.41      1043\n",
            "         non functional       0.85      0.79      0.82      5517\n",
            "\n",
            "               accuracy                           0.81     14358\n",
            "              macro avg       0.75      0.67      0.69     14358\n",
            "           weighted avg       0.81      0.81      0.81     14358\n",
            "\n"
          ],
          "name": "stdout"
        }
      ]
    },
    {
      "cell_type": "markdown",
      "metadata": {
        "colab_type": "text",
        "id": "ci4QguAkn_in"
      },
      "source": [
        "#### How many actual \"non functional\" waterpumps?"
      ]
    },
    {
      "cell_type": "code",
      "metadata": {
        "colab_type": "code",
        "id": "FlqxNhlYn_io",
        "colab": {}
      },
      "source": [
        "actual_non_functional = 1098 + 68 + 4351"
      ],
      "execution_count": 0,
      "outputs": []
    },
    {
      "cell_type": "markdown",
      "metadata": {
        "colab_type": "text",
        "id": "9IY-vC-hn_iq"
      },
      "source": [
        "#### What's the recall for \"non functional\"?"
      ]
    },
    {
      "cell_type": "code",
      "metadata": {
        "colab_type": "code",
        "id": "4U3v8lPP4KbP",
        "outputId": "517e0d72-39da-45cb-9a4b-82c563162bcc",
        "colab": {
          "base_uri": "https://localhost:8080/",
          "height": 35
        }
      },
      "source": [
        "correct_predictions_nonfunctional / actual_non_functional"
      ],
      "execution_count": 0,
      "outputs": [
        {
          "output_type": "execute_result",
          "data": {
            "text/plain": [
              "0.7886532535798442"
            ]
          },
          "metadata": {
            "tags": []
          },
          "execution_count": 22
        }
      ]
    },
    {
      "cell_type": "markdown",
      "metadata": {
        "colab_type": "text",
        "id": "ObVED_ugn_is"
      },
      "source": [
        "# Understand the relationships between precision, recall, thresholds, and predicted probabilities, to help make decisions and allocate budgets"
      ]
    },
    {
      "cell_type": "markdown",
      "metadata": {
        "id": "F9tLtogIg9OD",
        "colab_type": "text"
      },
      "source": [
        "## Overview"
      ]
    },
    {
      "cell_type": "markdown",
      "metadata": {
        "colab_type": "text",
        "id": "kBcQQJ2kn_is"
      },
      "source": [
        "### Imagine this scenario...\n",
        "\n",
        "Suppose there are over 14,000 waterpumps that you _do_ have some information about, but you _don't_ know whether they are currently functional, or functional but need repair, or non-functional."
      ]
    },
    {
      "cell_type": "code",
      "metadata": {
        "colab_type": "code",
        "id": "jEEy86CHn_it",
        "outputId": "85ba385a-98ec-4f46-c49c-d32ab10d123a",
        "colab": {
          "base_uri": "https://localhost:8080/",
          "height": 35
        }
      },
      "source": [
        "len(test)"
      ],
      "execution_count": 0,
      "outputs": [
        {
          "output_type": "execute_result",
          "data": {
            "text/plain": [
              "14358"
            ]
          },
          "metadata": {
            "tags": []
          },
          "execution_count": 23
        }
      ]
    },
    {
      "cell_type": "markdown",
      "metadata": {
        "colab_type": "text",
        "id": "3az2llAAn_iu"
      },
      "source": [
        "**You have the time and resources to go to just 2,000 waterpumps for proactive maintenance.** You want to predict, which 2,000 are most likely non-functional or in need of repair, to help you triage and prioritize your waterpump inspections.\n",
        "\n",
        "You have historical inspection data for over 59,000 other waterpumps, which you'll use to fit your predictive model."
      ]
    },
    {
      "cell_type": "code",
      "metadata": {
        "colab_type": "code",
        "id": "pEWc2zt2n_iv",
        "outputId": "c8803226-afd6-4328-e975-6920b9a696ab",
        "colab": {
          "base_uri": "https://localhost:8080/",
          "height": 35
        }
      },
      "source": [
        "len(train) + len(val)"
      ],
      "execution_count": 0,
      "outputs": [
        {
          "output_type": "execute_result",
          "data": {
            "text/plain": [
              "59400"
            ]
          },
          "metadata": {
            "tags": []
          },
          "execution_count": 24
        }
      ]
    },
    {
      "cell_type": "markdown",
      "metadata": {
        "colab_type": "text",
        "id": "L2LiGJLin_ix"
      },
      "source": [
        "You have historical inspection data for over 59,000 other waterpumps, which you'll use to fit your predictive model.\n",
        "\n",
        "Based on this historical data, if you randomly chose waterpumps to inspect, then about 46% of the waterpumps would need repairs, and 54% would not need repairs."
      ]
    },
    {
      "cell_type": "code",
      "metadata": {
        "colab_type": "code",
        "id": "JliDXTp5n_iy",
        "outputId": "c59af605-842f-4205-e9b6-93de6ecab3f3",
        "colab": {
          "base_uri": "https://localhost:8080/",
          "height": 90
        }
      },
      "source": [
        "y_train.value_counts(normalize=True)"
      ],
      "execution_count": 0,
      "outputs": [
        {
          "output_type": "execute_result",
          "data": {
            "text/plain": [
              "functional                 0.543071\n",
              "non functional             0.384241\n",
              "functional needs repair    0.072688\n",
              "Name: status_group, dtype: float64"
            ]
          },
          "metadata": {
            "tags": []
          },
          "execution_count": 25
        }
      ]
    },
    {
      "cell_type": "code",
      "metadata": {
        "colab_type": "code",
        "id": "0dP7fjQJeQEX",
        "outputId": "a82f6820-6b35-4176-ea7d-1c2ffe59c085",
        "colab": {
          "base_uri": "https://localhost:8080/",
          "height": 35
        }
      },
      "source": [
        "2000 * 0.46"
      ],
      "execution_count": 0,
      "outputs": [
        {
          "output_type": "execute_result",
          "data": {
            "text/plain": [
              "920.0"
            ]
          },
          "metadata": {
            "tags": []
          },
          "execution_count": 26
        }
      ]
    },
    {
      "cell_type": "markdown",
      "metadata": {
        "colab_type": "text",
        "id": "dLnJ7Fnan_i1"
      },
      "source": [
        "**Can you do better than random at prioritizing inspections?**"
      ]
    },
    {
      "cell_type": "markdown",
      "metadata": {
        "colab_type": "text",
        "id": "sIh2Xj8fn_i3"
      },
      "source": [
        "In this scenario, we should define our target differently. We want to identify which waterpumps are non-functional _or_ are functional but needs repair:"
      ]
    },
    {
      "cell_type": "code",
      "metadata": {
        "colab_type": "code",
        "id": "7naqusI0n_i4",
        "outputId": "a90f0cf8-fbbe-4a39-f07b-873e9191dda9",
        "colab": {
          "base_uri": "https://localhost:8080/",
          "height": 72
        }
      },
      "source": [
        "y_train = y_train != 'functional'\n",
        "y_val = y_val != 'functional'\n",
        "y_train.value_counts(normalize=True)"
      ],
      "execution_count": 0,
      "outputs": [
        {
          "output_type": "execute_result",
          "data": {
            "text/plain": [
              "False    0.543071\n",
              "True     0.456929\n",
              "Name: status_group, dtype: float64"
            ]
          },
          "metadata": {
            "tags": []
          },
          "execution_count": 27
        }
      ]
    },
    {
      "cell_type": "markdown",
      "metadata": {
        "colab_type": "text",
        "id": "P1UR1t8Zn_i6"
      },
      "source": [
        "We already made our validation set the same size as our test set."
      ]
    },
    {
      "cell_type": "code",
      "metadata": {
        "colab_type": "code",
        "id": "CHHIplB7n_i8",
        "outputId": "5acf4484-3361-4bc2-e3e5-55e88996cc7e",
        "colab": {
          "base_uri": "https://localhost:8080/",
          "height": 35
        }
      },
      "source": [
        "len(val) == len(test)"
      ],
      "execution_count": 0,
      "outputs": [
        {
          "output_type": "execute_result",
          "data": {
            "text/plain": [
              "True"
            ]
          },
          "metadata": {
            "tags": []
          },
          "execution_count": 28
        }
      ]
    },
    {
      "cell_type": "markdown",
      "metadata": {
        "colab_type": "text",
        "id": "g41DA70rn_i9"
      },
      "source": [
        "We can refit our model, using the redefined target.\n",
        "\n",
        "Then make predictions for the validation set."
      ]
    },
    {
      "cell_type": "code",
      "metadata": {
        "colab_type": "code",
        "id": "VXL0LaXQn_i-",
        "colab": {}
      },
      "source": [
        "pipeline.fit(X_train, y_train)\n",
        "y_pred = pipeline.predict(X_val)"
      ],
      "execution_count": 0,
      "outputs": []
    },
    {
      "cell_type": "markdown",
      "metadata": {
        "id": "WqTpayhAg9OW",
        "colab_type": "text"
      },
      "source": [
        "## Follow Along"
      ]
    },
    {
      "cell_type": "markdown",
      "metadata": {
        "colab_type": "text",
        "id": "qISPzM43n_jA"
      },
      "source": [
        "#### Look at the confusion matrix:"
      ]
    },
    {
      "cell_type": "code",
      "metadata": {
        "colab_type": "code",
        "id": "y72fakpmn_jB",
        "outputId": "ff6f84be-95ea-47c8-d7d5-b04022359101",
        "colab": {
          "base_uri": "https://localhost:8080/",
          "height": 313
        }
      },
      "source": [
        "plot_confusion_matrix(pipeline, X_val, y_val, values_format='.0f', xticks_rotation='vertical')"
      ],
      "execution_count": 0,
      "outputs": [
        {
          "output_type": "execute_result",
          "data": {
            "text/plain": [
              "<sklearn.metrics._plot.confusion_matrix.ConfusionMatrixDisplay at 0x7ff651be0be0>"
            ]
          },
          "metadata": {
            "tags": []
          },
          "execution_count": 30
        },
        {
          "output_type": "display_data",
          "data": {
            "image/png": "[encoded data removed]",
            "text/plain": [
              "<Figure size 432x288 with 2 Axes>"
            ]
          },
          "metadata": {
            "tags": []
          }
        }
      ]
    },
    {
      "cell_type": "markdown",
      "metadata": {
        "colab_type": "text",
        "id": "M30BXR6Rn_jC"
      },
      "source": [
        "#### How many total predictions of \"True\" (\"non functional\" or \"functional needs repair\") ?"
      ]
    },
    {
      "cell_type": "code",
      "metadata": {
        "id": "ZIhj4qB-zcKO",
        "colab_type": "code",
        "outputId": "818260b0-005e-490c-bf07-51f919d6e93b",
        "colab": {
          "base_uri": "https://localhost:8080/",
          "height": 35
        }
      },
      "source": [
        "5032 + 977"
      ],
      "execution_count": 0,
      "outputs": [
        {
          "output_type": "execute_result",
          "data": {
            "text/plain": [
              "6009"
            ]
          },
          "metadata": {
            "tags": []
          },
          "execution_count": 32
        }
      ]
    },
    {
      "cell_type": "code",
      "metadata": {
        "colab_type": "code",
        "id": "4IeTJFo8n_jD",
        "outputId": "176ee094-9379-4132-b7a6-0dbb9107af67",
        "colab": {
          "base_uri": "https://localhost:8080/",
          "height": 181
        }
      },
      "source": [
        "print(classification_report(y_val, y_pred))"
      ],
      "execution_count": 0,
      "outputs": [
        {
          "output_type": "stream",
          "text": [
            "              precision    recall  f1-score   support\n",
            "\n",
            "       False       0.82      0.87      0.84      7798\n",
            "        True       0.84      0.77      0.80      6560\n",
            "\n",
            "    accuracy                           0.83     14358\n",
            "   macro avg       0.83      0.82      0.82     14358\n",
            "weighted avg       0.83      0.83      0.82     14358\n",
            "\n"
          ],
          "name": "stdout"
        }
      ]
    },
    {
      "cell_type": "markdown",
      "metadata": {
        "colab_type": "text",
        "id": "1aZSdskSn_jF"
      },
      "source": [
        "### We don't have \"budget\" to take action on all these predictions\n",
        "\n",
        "- But we can get predicted probabilities, to rank the predictions. \n",
        "- Then change the threshold, to change the number of positive predictions, based on our budget."
      ]
    },
    {
      "cell_type": "markdown",
      "metadata": {
        "colab_type": "text",
        "id": "rXkfXDDZn_jF"
      },
      "source": [
        "### Get predicted probabilities and plot the distribution"
      ]
    },
    {
      "cell_type": "code",
      "metadata": {
        "id": "tflTTuOJzvL5",
        "colab_type": "code",
        "outputId": "18bce67e-cb36-40ff-be14-f98ddaf6c455",
        "colab": {
          "base_uri": "https://localhost:8080/",
          "height": 145
        }
      },
      "source": [
        "pipeline.predict_proba(X_val)"
      ],
      "execution_count": 0,
      "outputs": [
        {
          "output_type": "execute_result",
          "data": {
            "text/plain": [
              "array([[0.  , 1.  ],\n",
              "       [0.26, 0.74],\n",
              "       [0.9 , 0.1 ],\n",
              "       ...,\n",
              "       [0.91, 0.09],\n",
              "       [0.41, 0.59],\n",
              "       [0.98, 0.02]])"
            ]
          },
          "metadata": {
            "tags": []
          },
          "execution_count": 35
        }
      ]
    },
    {
      "cell_type": "code",
      "metadata": {
        "colab_type": "code",
        "id": "jwfe7j7W_jTp",
        "outputId": "f676ca0c-ce59-43f8-df80-5d6607603ede",
        "colab": {
          "base_uri": "https://localhost:8080/",
          "height": 35
        }
      },
      "source": [
        "pipeline.predict(X_val)\n"
      ],
      "execution_count": 0,
      "outputs": [
        {
          "output_type": "execute_result",
          "data": {
            "text/plain": [
              "array([ True,  True, False, ..., False,  True, False])"
            ]
          },
          "metadata": {
            "tags": []
          },
          "execution_count": 34
        }
      ]
    },
    {
      "cell_type": "code",
      "metadata": {
        "id": "paeqx4ou0GMh",
        "colab_type": "code",
        "outputId": "14f368a6-3443-4db0-8723-d62348f0cc90",
        "colab": {
          "base_uri": "https://localhost:8080/",
          "height": 35
        }
      },
      "source": [
        "#Predicted probabilites for the positive class\n",
        "pipeline.predict_proba(X_val)[:, 1]"
      ],
      "execution_count": 0,
      "outputs": [
        {
          "output_type": "execute_result",
          "data": {
            "text/plain": [
              "array([1.  , 0.74, 0.1 , ..., 0.09, 0.59, 0.02])"
            ]
          },
          "metadata": {
            "tags": []
          },
          "execution_count": 36
        }
      ]
    },
    {
      "cell_type": "code",
      "metadata": {
        "id": "yODDi3Lw0Uwu",
        "colab_type": "code",
        "outputId": "ee4aa890-d4cf-4722-8271-532f14638b32",
        "colab": {
          "base_uri": "https://localhost:8080/",
          "height": 35
        }
      },
      "source": [
        "threshold = 0.92\n",
        "sum(pipeline.predict_proba(X_val)[:, 1] > threshold)"
      ],
      "execution_count": 0,
      "outputs": [
        {
          "output_type": "execute_result",
          "data": {
            "text/plain": [
              "2033"
            ]
          },
          "metadata": {
            "tags": []
          },
          "execution_count": 48
        }
      ]
    },
    {
      "cell_type": "markdown",
      "metadata": {
        "colab_type": "text",
        "id": "eD6pRFKOn_jH"
      },
      "source": [
        "### Change the threshold"
      ]
    },
    {
      "cell_type": "code",
      "metadata": {
        "colab_type": "code",
        "id": "SjOhH0BMB55A",
        "outputId": "1aec39d2-d9a5-4408-c108-ad1f9e41e371",
        "colab": {
          "base_uri": "https://localhost:8080/",
          "height": 283
        }
      },
      "source": [
        "import seaborn as sns\n",
        "\n",
        "y_pred_proba = pipeline.predict_proba(X_val)[:, 1]\n",
        "ax = sns.distplot(y_pred_proba)\n",
        "threshold = 0.9\n",
        "ax.axvline(threshold, color='red' )"
      ],
      "execution_count": 0,
      "outputs": [
        {
          "output_type": "execute_result",
          "data": {
            "text/plain": [
              "<matplotlib.lines.Line2D at 0x7ff651991f28>"
            ]
          },
          "metadata": {
            "tags": []
          },
          "execution_count": 52
        },
        {
          "output_type": "display_data",
          "data": {
            "image/png": "[encoded data removed]",
            "text/plain": [
              "<Figure size 432x288 with 1 Axes>"
            ]
          },
          "metadata": {
            "tags": []
          }
        }
      ]
    },
    {
      "cell_type": "markdown",
      "metadata": {
        "id": "Bjl_7Vjdg9Oi",
        "colab_type": "text"
      },
      "source": [
        "### Or, get exactly 2,000 positive predictions"
      ]
    },
    {
      "cell_type": "markdown",
      "metadata": {
        "id": "AvBM_elKg9Oi",
        "colab_type": "text"
      },
      "source": [
        "Identify the 2,000 waterpumps in the validation set with highest predicted probabilities."
      ]
    },
    {
      "cell_type": "code",
      "metadata": {
        "id": "_JblKRgug9Oj",
        "colab_type": "code",
        "outputId": "51b34053-aa42-4e18-eda7-2c72160b32e3",
        "colab": {
          "base_uri": "https://localhost:8080/",
          "height": 709,
          "referenced_widgets": [
            "23260e2701e84dd3b6568f689f9390f8",
            "291a9d56186a4186a8f3f77b8e234b7d",
            "3112cf47eaea493181223b42a3b99593",
            "5039812cc21d45dbaa8667c695d4be00",
            "7c0e2e09e5a34c41824a71e528e93af8",
            "f635baeff8d2475b962ed0d5067dcdc8"
          ]
        }
      },
      "source": [
        "from ipywidgets import interact, fixed\n",
        "import seaborn as sns\n",
        "from sklearn.metrics import confusion_matrix\n",
        "from sklearn.utils.multiclass import unique_labels\n",
        "\n",
        "def my_confusion_matrix(y_true, y_pred):\n",
        "    labels = unique_labels(y_true)\n",
        "    columns = [f'Predicted {label}' for label in labels]\n",
        "    index = [f'Actual {label}' for label in labels]\n",
        "    table = pd.DataFrame(confusion_matrix(y_true, y_pred), \n",
        "                         columns=columns, index=index)\n",
        "    return sns.heatmap(table, annot=True, fmt='d', cmap='viridis')\n",
        "\n",
        "def set_threshold(y_true, y_pred_proba, threshold=0.5):\n",
        "    y_pred = y_pred_proba > threshold\n",
        "    ax = sns.distplot(y_pred_proba)\n",
        "    ax.axvline(threshold, color='red')\n",
        "    plt.show()\n",
        "    print(classification_report(y_true, y_pred))\n",
        "    my_confusion_matrix(y_true, y_pred)\n",
        "\n",
        "interact(set_threshold, \n",
        "         y_true=fixed(y_val), \n",
        "         y_pred_proba=fixed(y_pred_proba), \n",
        "         threshold=(0, 1, 0.02));"
      ],
      "execution_count": 0,
      "outputs": [
        {
          "output_type": "display_data",
          "data": {
            "application/vnd.jupyter.widget-view+json": {
              "model_id": "23260e2701e84dd3b6568f689f9390f8",
              "version_minor": 0,
              "version_major": 2
            },
            "text/plain": [
              "interactive(children=(FloatSlider(value=0.5, description='threshold', max=1.0, step=0.02), Output()), _dom_cla…"
            ]
          },
          "metadata": {
            "tags": []
          }
        }
      ]
    },
    {
      "cell_type": "markdown",
      "metadata": {
        "id": "REBCwGhjg9Ok",
        "colab_type": "text"
      },
      "source": [
        "Most of these top 2,000 waterpumps will be relevant recommendations, meaning `y_val==True`, meaning the waterpump is non-functional or needs repairs.\n",
        "\n",
        "Some of these top 2,000 waterpumps will be irrelevant recommendations, meaning `y_val==False`, meaning the waterpump is functional and does not need repairs.\n",
        "\n",
        "Let's look at a random sample of 50 out of these top 2,000:"
      ]
    },
    {
      "cell_type": "code",
      "metadata": {
        "id": "IVCrRf5Yg9Ol",
        "colab_type": "code",
        "colab": {}
      },
      "source": [
        ""
      ],
      "execution_count": 0,
      "outputs": []
    },
    {
      "cell_type": "markdown",
      "metadata": {
        "id": "IcXbLOoyg9On",
        "colab_type": "text"
      },
      "source": [
        "So how many of our recommendations were relevant? ..."
      ]
    },
    {
      "cell_type": "code",
      "metadata": {
        "id": "WKycIDSIg9On",
        "colab_type": "code",
        "colab": {}
      },
      "source": [
        ""
      ],
      "execution_count": 0,
      "outputs": []
    },
    {
      "cell_type": "markdown",
      "metadata": {
        "id": "-VuLVUV-g9Op",
        "colab_type": "text"
      },
      "source": [
        "What's the precision for this subset of 2,000 predictions?"
      ]
    },
    {
      "cell_type": "code",
      "metadata": {
        "id": "CPqkrFOkg9Op",
        "colab_type": "code",
        "colab": {}
      },
      "source": [
        ""
      ],
      "execution_count": 0,
      "outputs": []
    },
    {
      "cell_type": "markdown",
      "metadata": {
        "colab_type": "text",
        "id": "top80m_Gn_jI"
      },
      "source": [
        "### In this scenario ... \n",
        "\n",
        "Accuracy _isn't_ the best metric!\n",
        "\n",
        "Instead, change the threshold, to change the number of positive predictions, based on the budget. (You have the time and resources to go to just 2,000 waterpumps for proactive maintenance.)\n",
        "\n",
        "Then, evaluate with the precision for \"non functional\"/\"functional needs repair\".\n",
        "\n",
        "This is conceptually like **Precision@K**, where k=2,000.\n",
        "\n",
        "Read more here: [Recall and Precision at k for Recommender Systems: Detailed Explanation with examples](https://medium.com/@m_n_malaeb/recall-and-precision-at-k-for-recommender-systems-618483226c54)\n",
        "\n",
        "> Precision at k is the proportion of recommended items in the top-k set that are relevant\n",
        "\n",
        "> Mathematically precision@k is defined as: `Precision@k = (# of recommended items @k that are relevant) / (# of recommended items @k)`\n",
        "\n",
        "> In the context of recommendation systems we are most likely interested in recommending top-N items to the user. So it makes more sense to compute precision and recall metrics in the first N items instead of all the items. Thus the notion of precision and recall at k where k is a user definable integer that is set by the user to match the top-N recommendations objective.\n",
        "\n",
        "We asked, can you do better than random at prioritizing inspections?\n",
        "\n",
        "If we had randomly chosen waterpumps to inspect, we estimate that only 920 waterpumps would be repaired after 2,000 maintenance visits. (46%)\n",
        "\n",
        "But using our predictive model, in the validation set, we succesfully identified over 1,900 waterpumps in need of repair!\n",
        "\n",
        "So we will use this predictive model with the dataset of over 14,000 waterpumps that we _do_ have some information about, but we _don't_ know whether they are currently functional, or functional but need repair, or non-functional.\n",
        "\n",
        "We will predict which 2,000 are most likely non-functional or in need of repair.\n",
        "\n",
        "We estimate that approximately 1,900 waterpumps will be repaired after these 2,000 maintenance visits.\n",
        "\n",
        "So we're confident that our predictive model will help triage and prioritize waterpump inspections."
      ]
    },
    {
      "cell_type": "markdown",
      "metadata": {
        "id": "uzraapyEg9Os",
        "colab_type": "text"
      },
      "source": [
        "### But ...\n",
        "\n",
        "This metric (~1,900 waterpumps repaired after 2,000 maintenance visits) is specific for _one_ classification problem and _one_ possible trade-off.\n",
        "\n",
        "Can we get an evaluation metric that is generic for _all_ classification problems and _all_ possible trade-offs?\n",
        "\n",
        "Yes — the most common such metric is **ROC AUC.**"
      ]
    },
    {
      "cell_type": "markdown",
      "metadata": {
        "id": "DIj-3rJyg9Ot",
        "colab_type": "text"
      },
      "source": [
        "## Get ROC AUC (Receiver Operating Characteristic, Area Under the Curve)\n",
        "\n",
        "[Wikipedia explains,](https://en.wikipedia.org/wiki/Receiver_operating_characteristic) \"A receiver operating characteristic curve, or ROC curve, is a graphical plot that illustrates the diagnostic ability of a binary classifier system as its discrimination threshold is varied. **The ROC curve is created by plotting the true positive rate (TPR) against the false positive rate (FPR) at various threshold settings.**\"\n",
        "\n",
        "ROC AUC is the area under the ROC curve. [It can be interpreted](https://stats.stackexchange.com/questions/132777/what-does-auc-stand-for-and-what-is-it) as \"the expectation that a uniformly drawn random positive is ranked before a uniformly drawn random negative.\" \n",
        "\n",
        "ROC AUC measures **how well a classifier ranks predicted probabilities.** So, when you get your classifier’s ROC AUC score, you need to **use predicted probabilities, not discrete predictions.**\n",
        "\n",
        "ROC AUC ranges **from 0 to 1.** Higher is better. A naive majority class **baseline** will have an ROC AUC score of **0.5.** \n",
        "\n",
        "#### Scikit-Learn docs\n",
        "- [User Guide: Receiver operating characteristic (ROC)](https://scikit-learn.org/stable/modules/model_evaluation.html#receiver-operating-characteristic-roc)\n",
        "- [sklearn.metrics.roc_curve](https://scikit-learn.org/stable/modules/generated/sklearn.metrics.roc_curve.html)\n",
        "- [sklearn.metrics.roc_auc_score](https://scikit-learn.org/stable/modules/generated/sklearn.metrics.roc_auc_score.html)\n",
        "\n",
        "#### More links\n",
        "- [ROC curves and Area Under the Curve explained](https://www.dataschool.io/roc-curves-and-auc-explained/)\n",
        "- [The philosophical argument for using ROC curves](https://lukeoakdenrayner.wordpress.com/2018/01/07/the-philosophical-argument-for-using-roc-curves/)"
      ]
    },
    {
      "cell_type": "code",
      "metadata": {
        "id": "pFpqvx8Vg9Ou",
        "colab_type": "code",
        "colab": {}
      },
      "source": [
        "# \"The ROC curve is created by plotting the true positive rate (TPR) \n",
        "# against the false positive rate (FPR) \n",
        "# at various threshold settings.\"\n",
        "\n",
        "# Use scikit-learn to calculate TPR & FPR at various thresholds\n",
        "from sklearn.metrics import roc_curve\n",
        "fpr, tpr, thresholds = roc_curve(y_val, y_pred_proba)"
      ],
      "execution_count": 0,
      "outputs": []
    },
    {
      "cell_type": "code",
      "metadata": {
        "id": "Bj-oMqwDg9Ox",
        "colab_type": "code",
        "outputId": "2b6f7b16-a99b-425e-ee91-98702567644f",
        "colab": {
          "base_uri": "https://localhost:8080/",
          "height": 407
        }
      },
      "source": [
        "# See the results in a table\n",
        "pd.DataFrame({\n",
        "    'False Positive Rate': fpr, \n",
        "    'True Positive Rate': tpr, \n",
        "    'Threshold': thresholds\n",
        "})"
      ],
      "execution_count": 0,
      "outputs": [
        {
          "output_type": "execute_result",
          "data": {
            "text/html": [
              "<div>\n",
              "<style scoped>\n",
              "    .dataframe tbody tr th:only-of-type {\n",
              "        vertical-align: middle;\n",
              "    }\n",
              "\n",
              "    .dataframe tbody tr th {\n",
              "        vertical-align: top;\n",
              "    }\n",
              "\n",
              "    .dataframe thead th {\n",
              "        text-align: right;\n",
              "    }\n",
              "</style>\n",
              "<table border=\"1\" class=\"dataframe\">\n",
              "  <thead>\n",
              "    <tr style=\"text-align: right;\">\n",
              "      <th></th>\n",
              "      <th>False Positive Rate</th>\n",
              "      <th>True Positive Rate</th>\n",
              "      <th>Threshold</th>\n",
              "    </tr>\n",
              "  </thead>\n",
              "  <tbody>\n",
              "    <tr>\n",
              "      <th>0</th>\n",
              "      <td>0.000000</td>\n",
              "      <td>0.000000</td>\n",
              "      <td>2.00</td>\n",
              "    </tr>\n",
              "    <tr>\n",
              "      <th>1</th>\n",
              "      <td>0.000385</td>\n",
              "      <td>0.062652</td>\n",
              "      <td>1.00</td>\n",
              "    </tr>\n",
              "    <tr>\n",
              "      <th>2</th>\n",
              "      <td>0.000641</td>\n",
              "      <td>0.114787</td>\n",
              "      <td>0.99</td>\n",
              "    </tr>\n",
              "    <tr>\n",
              "      <th>3</th>\n",
              "      <td>0.000769</td>\n",
              "      <td>0.155793</td>\n",
              "      <td>0.98</td>\n",
              "    </tr>\n",
              "    <tr>\n",
              "      <th>4</th>\n",
              "      <td>0.001282</td>\n",
              "      <td>0.196037</td>\n",
              "      <td>0.97</td>\n",
              "    </tr>\n",
              "    <tr>\n",
              "      <th>...</th>\n",
              "      <td>...</td>\n",
              "      <td>...</td>\n",
              "      <td>...</td>\n",
              "    </tr>\n",
              "    <tr>\n",
              "      <th>102</th>\n",
              "      <td>0.882662</td>\n",
              "      <td>0.996341</td>\n",
              "      <td>0.04</td>\n",
              "    </tr>\n",
              "    <tr>\n",
              "      <th>103</th>\n",
              "      <td>0.904976</td>\n",
              "      <td>0.997104</td>\n",
              "      <td>0.03</td>\n",
              "    </tr>\n",
              "    <tr>\n",
              "      <th>104</th>\n",
              "      <td>0.930239</td>\n",
              "      <td>0.998171</td>\n",
              "      <td>0.02</td>\n",
              "    </tr>\n",
              "    <tr>\n",
              "      <th>105</th>\n",
              "      <td>0.954604</td>\n",
              "      <td>0.998933</td>\n",
              "      <td>0.01</td>\n",
              "    </tr>\n",
              "    <tr>\n",
              "      <th>106</th>\n",
              "      <td>1.000000</td>\n",
              "      <td>1.000000</td>\n",
              "      <td>0.00</td>\n",
              "    </tr>\n",
              "  </tbody>\n",
              "</table>\n",
              "<p>107 rows × 3 columns</p>\n",
              "</div>"
            ],
            "text/plain": [
              "     False Positive Rate  True Positive Rate  Threshold\n",
              "0               0.000000            0.000000       2.00\n",
              "1               0.000385            0.062652       1.00\n",
              "2               0.000641            0.114787       0.99\n",
              "3               0.000769            0.155793       0.98\n",
              "4               0.001282            0.196037       0.97\n",
              "..                   ...                 ...        ...\n",
              "102             0.882662            0.996341       0.04\n",
              "103             0.904976            0.997104       0.03\n",
              "104             0.930239            0.998171       0.02\n",
              "105             0.954604            0.998933       0.01\n",
              "106             1.000000            1.000000       0.00\n",
              "\n",
              "[107 rows x 3 columns]"
            ]
          },
          "metadata": {
            "tags": []
          },
          "execution_count": 55
        }
      ]
    },
    {
      "cell_type": "code",
      "metadata": {
        "id": "kVr75lb-g9O0",
        "colab_type": "code",
        "outputId": "28a10ef2-5104-498b-8fd4-e63bb0720cb5",
        "colab": {
          "base_uri": "https://localhost:8080/",
          "height": 295
        }
      },
      "source": [
        "# See the results on a plot. \n",
        "# This is the \"Receiver Operating Characteristic\" curve\n",
        "plt.scatter(fpr, tpr)\n",
        "plt.title('ROC curve')\n",
        "plt.xlabel('False Positive Rate')\n",
        "plt.ylabel('True Positive Rate');"
      ],
      "execution_count": 0,
      "outputs": [
        {
          "output_type": "display_data",
          "data": {
            "image/png": "[encoded data removed]",
            "text/plain": [
              "<Figure size 432x288 with 1 Axes>"
            ]
          },
          "metadata": {
            "tags": []
          }
        }
      ]
    },
    {
      "cell_type": "code",
      "metadata": {
        "id": "VMpo8NeQg9O2",
        "colab_type": "code",
        "colab": {}
      },
      "source": [
        "# Use scikit-learn to calculate the area under the curve.\n",
        "from sklearn.metrics import roc_auc_score\n",
        "roc_auc_score(y_val, y_pred_proba)"
      ],
      "execution_count": 0,
      "outputs": []
    },
    {
      "cell_type": "markdown",
      "metadata": {
        "id": "txu-SLGNg9O5",
        "colab_type": "text"
      },
      "source": [
        "**Recap:** ROC AUC measures how well a classifier ranks predicted probabilities. So, when you get your classifier’s ROC AUC score, you need to use predicted probabilities, not discrete predictions. \n",
        "\n",
        "Your code may look something like this:\n",
        "\n",
        "```python\n",
        "from sklearn.metrics import roc_auc_score\n",
        "y_pred_proba = model.predict_proba(X_test_transformed)[:, -1] # Probability for last class\n",
        "print('Test ROC AUC:', roc_auc_score(y_test, y_pred_proba))\n",
        "```\n",
        "\n",
        "ROC AUC ranges from 0 to 1. Higher is better. A naive majority class baseline will have an ROC AUC score of 0.5."
      ]
    }
  ]
}