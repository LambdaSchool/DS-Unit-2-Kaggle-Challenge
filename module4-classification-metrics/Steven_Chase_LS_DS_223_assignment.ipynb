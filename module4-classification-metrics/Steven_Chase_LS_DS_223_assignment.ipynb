{
  "nbformat": 4,
  "nbformat_minor": 0,
  "metadata": {
    "kernelspec": {
      "display_name": "Python 3",
      "language": "python",
      "name": "python3"
    },
    "language_info": {
      "codemirror_mode": {
        "name": "ipython",
        "version": 3
      },
      "file_extension": ".py",
      "mimetype": "text/x-python",
      "name": "python",
      "nbconvert_exporter": "python",
      "pygments_lexer": "ipython3",
      "version": "3.7.6"
    },
    "colab": {
      "name": "Steven_Chase_LS_DS_223_assignment.ipynb",
      "provenance": [],
      "collapsed_sections": [],
      "include_colab_link": true
    }
  },
  "cells": [
    {
      "cell_type": "markdown",
      "metadata": {
        "id": "view-in-github",
        "colab_type": "text"
      },
      "source": [
        "<a href=\"https://colab.research.google.com/github/schase15/DS-Unit-2-Kaggle-Challenge/blob/master/module4-classification-metrics/Steven_Chase_LS_DS_223_assignment.ipynb\" target=\"_parent\"><img src=\"https://colab.research.google.com/assets/colab-badge.svg\" alt=\"Open In Colab\"/></a>"
      ]
    },
    {
      "cell_type": "markdown",
      "metadata": {
        "id": "XDAeel-MlO2J",
        "colab_type": "text"
      },
      "source": [
        "Lambda School Data Science\n",
        "\n",
        "*Unit 2, Sprint 2, Module 3*\n",
        "\n",
        "---"
      ]
    },
    {
      "cell_type": "markdown",
      "metadata": {
        "id": "CNPXaF7JlO2Q",
        "colab_type": "text"
      },
      "source": [
        "# Cross-Validation\n",
        "\n",
        "\n",
        "## Assignment\n",
        "- [ ] [Review requirements for your portfolio project](https://lambdaschool.github.io/ds/unit2), then submit your dataset.\n",
        "- [ ] Continue to participate in our Kaggle challenge. \n",
        "- [ ] Use scikit-learn for hyperparameter optimization with RandomizedSearchCV.\n",
        "- [ ] Submit your predictions to our Kaggle competition. (Go to our Kaggle InClass competition webpage. Use the blue **Submit Predictions** button to upload your CSV file. Or you can use the Kaggle API to submit your predictions.)\n",
        "- [ ] Commit your notebook to your fork of the GitHub repo.\n",
        "\n",
        "\n",
        "You won't be able to just copy from the lesson notebook to this assignment.\n",
        "\n",
        "- Because the lesson was ***regression***, but the assignment is ***classification.***\n",
        "- Because the lesson used [TargetEncoder](https://contrib.scikit-learn.org/categorical-encoding/targetencoder.html), which doesn't work as-is for _multi-class_ classification.\n",
        "\n",
        "So you will have to adapt the example, which is good real-world practice.\n",
        "\n",
        "1. Use a model for classification, such as [RandomForestClassifier](https://scikit-learn.org/stable/modules/generated/sklearn.ensemble.RandomForestClassifier.html)\n",
        "2. Use hyperparameters that match the classifier, such as `randomforestclassifier__ ...`\n",
        "3. Use a metric for classification, such as [`scoring='accuracy'`](https://scikit-learn.org/stable/modules/model_evaluation.html#common-cases-predefined-values)\n",
        "4. If you’re doing a multi-class classification problem — such as whether a waterpump is functional, functional needs repair, or nonfunctional — then use a categorical encoding that works for multi-class classification, such as [OrdinalEncoder](https://contrib.scikit-learn.org/categorical-encoding/ordinal.html) (not [TargetEncoder](https://contrib.scikit-learn.org/categorical-encoding/targetencoder.html))\n",
        "\n",
        "\n",
        "\n",
        "## Stretch Goals\n",
        "\n",
        "### Reading\n",
        "- Jake VanderPlas, [Python Data Science Handbook, Chapter 5.3](https://jakevdp.github.io/PythonDataScienceHandbook/05.03-hyperparameters-and-model-validation.html), Hyperparameters and Model Validation\n",
        "- Jake VanderPlas, [Statistics for Hackers](https://speakerdeck.com/jakevdp/statistics-for-hackers?slide=107)\n",
        "- Ron Zacharski, [A Programmer's Guide to Data Mining, Chapter 5](http://guidetodatamining.com/chapter5/), 10-fold cross validation\n",
        "- Sebastian Raschka, [A Basic Pipeline and Grid Search Setup](https://github.com/rasbt/python-machine-learning-book/blob/master/code/bonus/svm_iris_pipeline_and_gridsearch.ipynb)\n",
        "- Peter Worcester, [A Comparison of Grid Search and Randomized Search Using Scikit Learn](https://blog.usejournal.com/a-comparison-of-grid-search-and-randomized-search-using-scikit-learn-29823179bc85)\n",
        "\n",
        "### Doing\n",
        "- Add your own stretch goals!\n",
        "- Try other [categorical encodings](https://contrib.scikit-learn.org/categorical-encoding/). See the previous assignment notebook for details.\n",
        "- In additon to `RandomizedSearchCV`, scikit-learn has [`GridSearchCV`](https://scikit-learn.org/stable/modules/generated/sklearn.model_selection.GridSearchCV.html). Another library called scikit-optimize has [`BayesSearchCV`](https://scikit-optimize.github.io/notebooks/sklearn-gridsearchcv-replacement.html). Experiment with these alternatives.\n",
        "- _[Introduction to Machine Learning with Python](http://shop.oreilly.com/product/0636920030515.do)_ discusses options for \"Grid-Searching Which Model To Use\" in Chapter 6:\n",
        "\n",
        "> You can even go further in combining GridSearchCV and Pipeline: it is also possible to search over the actual steps being performed in the pipeline (say whether to use StandardScaler or MinMaxScaler). This leads to an even bigger search space and should be considered carefully. Trying all possible solutions is usually not a viable machine learning strategy. However, here is an example comparing a RandomForestClassifier and an SVC ...\n",
        "\n",
        "The example is shown in [the accompanying notebook](https://github.com/amueller/introduction_to_ml_with_python/blob/master/06-algorithm-chains-and-pipelines.ipynb), code cells 35-37. Could you apply this concept to your own pipelines?\n"
      ]
    },
    {
      "cell_type": "markdown",
      "metadata": {
        "id": "FNzectoslO2S",
        "colab_type": "text"
      },
      "source": [
        "### BONUS: Stacking!\n",
        "\n",
        "Here's some code you can use to \"stack\" multiple submissions, which is another form of ensembling:\n",
        "\n",
        "```python\n",
        "import pandas as pd\n",
        "\n",
        "# Filenames of your submissions you want to ensemble\n",
        "files = ['submission-01.csv', 'submission-02.csv', 'submission-03.csv']\n",
        "\n",
        "target = 'status_group'\n",
        "submissions = (pd.read_csv(file)[[target]] for file in files)\n",
        "ensemble = pd.concat(submissions, axis='columns')\n",
        "majority_vote = ensemble.mode(axis='columns')[0]\n",
        "\n",
        "sample_submission = pd.read_csv('sample_submission.csv')\n",
        "submission = sample_submission.copy()\n",
        "submission[target] = majority_vote\n",
        "submission.to_csv('my-ultimate-ensemble-submission.csv', index=False)\n",
        "```"
      ]
    },
    {
      "cell_type": "code",
      "metadata": {
        "id": "fiFkiv-QlO2T",
        "colab_type": "code",
        "colab": {}
      },
      "source": [
        "%%capture\n",
        "import sys\n",
        "\n",
        "# If you're on Colab:\n",
        "if 'google.colab' in sys.modules:\n",
        "    DATA_PATH = 'https://raw.githubusercontent.com/LambdaSchool/DS-Unit-2-Kaggle-Challenge/master/data/'\n",
        "    !pip install category_encoders==2.*\n",
        "\n",
        "# If you're working locally:\n",
        "else:\n",
        "    DATA_PATH = '../data/'"
      ],
      "execution_count": 0,
      "outputs": []
    },
    {
      "cell_type": "code",
      "metadata": {
        "id": "JKOcTX7MlO2q",
        "colab_type": "code",
        "colab": {}
      },
      "source": [
        "import pandas as pd\n",
        "\n",
        "# Merge train_features.csv & train_labels.csv\n",
        "train = pd.merge(pd.read_csv(DATA_PATH+'waterpumps/train_features.csv'), \n",
        "                 pd.read_csv(DATA_PATH+'waterpumps/train_labels.csv'))\n",
        "\n",
        "# Read test_features.csv & sample_submission.csv\n",
        "test = pd.read_csv(DATA_PATH+'waterpumps/test_features.csv')\n",
        "sample_submission = pd.read_csv(DATA_PATH+'waterpumps/sample_submission.csv')"
      ],
      "execution_count": 0,
      "outputs": []
    },
    {
      "cell_type": "code",
      "metadata": {
        "id": "3BQeew9RlO2v",
        "colab_type": "code",
        "colab": {
          "base_uri": "https://localhost:8080/",
          "height": 33
        },
        "outputId": "6a8d2583-e679-4165-b467-8cdcfcb042a1"
      },
      "source": [
        "from sklearn.model_selection import train_test_split\n",
        "\n",
        "# Split train data into train and validate, 80/20 split\n",
        "\n",
        "train, val = train_test_split(train, train_size=0.80, test_size=0.20, \n",
        "                              stratify=train['status_group'], random_state=42)\n",
        "\n",
        "train.shape, val.shape, test.shape"
      ],
      "execution_count": 184,
      "outputs": [
        {
          "output_type": "execute_result",
          "data": {
            "text/plain": [
              "((47520, 41), (11880, 41), (14358, 40))"
            ]
          },
          "metadata": {
            "tags": []
          },
          "execution_count": 184
        }
      ]
    },
    {
      "cell_type": "markdown",
      "metadata": {
        "id": "WBVVU89GX2IP",
        "colab_type": "text"
      },
      "source": [
        "## Starting with yesterday's final model"
      ]
    },
    {
      "cell_type": "code",
      "metadata": {
        "id": "lyxvUYO3XmRX",
        "colab_type": "code",
        "colab": {
          "base_uri": "https://localhost:8080/",
          "height": 131
        },
        "outputId": "3dc7afc0-8e98-475c-8fa6-f573611023c9"
      },
      "source": [
        "# Explore different feature lists\n",
        "\n",
        "# Pick features\n",
        "# Drop id and recorded_by because they are unique identifiers\n",
        "# Drop target\n",
        "# Drop num_private because it is 99% zeros and no description on kaggle\n",
        "# Drop region code, quantity_group and payment as they are identical to other columns\n",
        "# Drop extraction_type_class and extraction_type_group because they are subsets of extraction_type\n",
        "# Drop management_group because it is a  subset of management\n",
        "# Drop source_type and source_class as they are subsets of source\n",
        "# Drop water_point_typr_group because it is a subset of waterpoint_type\n",
        "# Drop public_meeting and permit because it added nothing to my model\n",
        "\n",
        "# Best scores with these features\n",
        "\n",
        "features= train.columns.dropfeatures= train.columns.drop(['id', 'recorded_by', \n",
        "                      'status_group', 'num_private', 'region_code', 'source_class',\n",
        "                      'extraction_type_class', 'extraction_type_group', \n",
        "                      'management_group', 'payment', 'quantity_group',\n",
        "                      'source_type', 'waterpoint_type_group', 'permit', 'public_meeting'])\n",
        "\n",
        "# submission #6\n",
        "# (['id', 'status_group', 'num_private', 'region_code',\n",
        "#                      'scheme_name', 'extraction_type', 'extraction_type_group', \n",
        "#                      'management','management_group', 'payment', 'quantity_group',\n",
        "#                       'source_type', 'waterpoint_type_group', 'basin', 'region', \n",
        "#                       'public_meeting', 'permit', 'recorded_by', 'source_class',\n",
        "#                       'scheme_management', 'water_quality', 'quality_group', 'source_class'])\n",
        "\n",
        "# Submission #4\n",
        "# (['id', 'status_group', 'num_private', 'region_code',\n",
        "#                               'payment', 'recorded_by', 'public_meeting', 'permit',\n",
        "#                               ] \n",
        "#                      )\n",
        "\n",
        "target= 'status_group'\n",
        "\n",
        "features"
      ],
      "execution_count": 185,
      "outputs": [
        {
          "output_type": "execute_result",
          "data": {
            "text/plain": [
              "Index(['amount_tsh', 'date_recorded', 'funder', 'gps_height', 'installer',\n",
              "       'longitude', 'latitude', 'wpt_name', 'basin', 'subvillage', 'region',\n",
              "       'district_code', 'lga', 'ward', 'population', 'scheme_management',\n",
              "       'scheme_name', 'construction_year', 'extraction_type', 'management',\n",
              "       'payment_type', 'water_quality', 'quality_group', 'quantity', 'source',\n",
              "       'waterpoint_type'],\n",
              "      dtype='object')"
            ]
          },
          "metadata": {
            "tags": []
          },
          "execution_count": 185
        }
      ]
    },
    {
      "cell_type": "code",
      "metadata": {
        "id": "hTDD5q7lX_oP",
        "colab_type": "code",
        "colab": {}
      },
      "source": [
        "# Split into train and validate target vector and feature matrices\n",
        "X_train= train[features]\n",
        "y_train= train[target]\n",
        "\n",
        "X_val= val[features]\n",
        "y_val= val[target]\n",
        "\n",
        "# Set test feature matrix\n",
        "X_test= test[features]"
      ],
      "execution_count": 0,
      "outputs": []
    },
    {
      "cell_type": "code",
      "metadata": {
        "id": "jWT8Gox5YBEW",
        "colab_type": "code",
        "colab": {}
      },
      "source": [
        "# Create a function that you can use on each train, val, test dataset to clean it all the same\n",
        "\n",
        "import numpy as np\n",
        "\n",
        "def wrangle(X):\n",
        "    \"\"\"Wrangle train, validate, and test sets in the same way\"\"\"\n",
        "    \n",
        "    # Prevent SettingWithCopyWarning - create a copy\n",
        "    X = X.copy()\n",
        "    \n",
        "    # About 3% of the time, latitude has small values near zero,\n",
        "    # outside Tanzania, so we'll treat these values like zero.\n",
        "    X['latitude'] = X['latitude'].replace(-2e-08, 0)\n",
        "    \n",
        "    # When columns have zeros and shouldn't, they are like null values.\n",
        "    # So we will replace the zeros with nulls, and impute missing values later.\n",
        "    # Population column\n",
        "    cols_with_zeros = ['date_recorded', 'amount_tsh', 'gps_height', 'funder', 'installer',\n",
        "       'longitude', 'latitude', 'wpt_name', 'basin', 'subvillage', 'region',\n",
        "       'district_code', 'lga', 'ward', 'population',\n",
        "       'scheme_management', 'construction_year', 'scheme_name',\n",
        "       'extraction_type', 'management', 'payment_type', 'water_quality',\n",
        "       'quality_group', 'quantity', 'source', 'waterpoint_type'\n",
        "                      ]\n",
        "\n",
        "\n",
        "    for col in cols_with_zeros:\n",
        "        X[col] = X[col].replace({0: np.nan})\n",
        "\n",
        "    # Convert district_code to categorical\n",
        "    X['district_code'] = X['district_code'].apply(str)\n",
        "\n",
        "    ### Feature engineering\n",
        "  # Convert date_recorded to datetime\n",
        "    X['date_recorded'] = pd.to_datetime(X['date_recorded'], infer_datetime_format=True)\n",
        "    \n",
        "    # Extract components from date_recorded, then drop the original column\n",
        "    X['year_recorded'] = X['date_recorded'].dt.year\n",
        "    # X['month_recorded'] = X['date_recorded'].dt.month\n",
        "    X['day_recorded'] = X['date_recorded'].dt.day\n",
        "    X = X.drop(columns='date_recorded')\n",
        "    \n",
        "    # Engineer feature: how many years from construction_year to date_recorded\n",
        "    X['age'] = X['year_recorded'] - X['construction_year']\n",
        "    \n",
        "    # 2nd engineered feature: how much the waterpump has been used over its life\n",
        "    X['usage'] = (X['amount_tsh'] / X['population']) * X['age']\n",
        "\n",
        "    # Fill missing categorical data with mode, fill missing numerical data with mean\n",
        "    for column in X:\n",
        "      if X[column].dtype == np.dtype('O'):\n",
        "        X[column] = X[column].replace({'0': np.nan,\n",
        "                                       'Not Known': np.nan,\n",
        "                                       'Unknown': np.nan,\n",
        "                                       'not known': np.nan,\n",
        "                                       'not Known': np.nan,\n",
        "                                       '-': np.nan,\n",
        "                                       '1': np.nan,\n",
        "                                       'None': np.nan,\n",
        "                                       'none': np.nan\n",
        "                                       })\n",
        "        X[column] = X[column].replace({np.NaN: X[column].value_counts().index[0]})\n",
        "      else:\n",
        "        X[column] = X[column].replace({np.NaN: X[column].median()})\n",
        "\n",
        "    # return the wrangled dataframe\n",
        "    return X"
      ],
      "execution_count": 0,
      "outputs": []
    },
    {
      "cell_type": "code",
      "metadata": {
        "id": "QBO3TPBDYCl_",
        "colab_type": "code",
        "colab": {}
      },
      "source": [
        "# Wrangle all of the data frames that we have worked with\n",
        "\n",
        "X_train= wrangle(X_train)\n",
        "\n",
        "X_val= wrangle(X_val)\n",
        "\n",
        "X_test= wrangle(X_test)"
      ],
      "execution_count": 0,
      "outputs": []
    },
    {
      "cell_type": "code",
      "metadata": {
        "id": "26C5ixotYEGe",
        "colab_type": "code",
        "colab": {
          "base_uri": "https://localhost:8080/",
          "height": 50
        },
        "outputId": "c2983d47-68c3-48d9-879e-1b7b78ad672a"
      },
      "source": [
        "# Create a pipeline to do ordinal encoding, impute,\n",
        "# and fit a random forest classifier\n",
        "\n",
        "# Imports\n",
        "import category_encoders as ce\n",
        "from sklearn.ensemble import RandomForestClassifier\n",
        "from sklearn.pipeline import make_pipeline\n",
        "from sklearn.preprocessing import StandardScaler\n",
        "\n",
        "# Create pipeline\n",
        "pipeline = make_pipeline(\n",
        "    ce.OrdinalEncoder(),\n",
        "    StandardScaler(),\n",
        "    RandomForestClassifier(max_depth= 20, n_estimators= 100)\n",
        ")\n",
        "\n",
        "# Fit on training data\n",
        "pipeline.fit(X_train, y_train)\n",
        "\n",
        "# Validation score\n",
        "print('Train Accuracy:', pipeline.score(X_train, y_train))\n",
        "print('Validation Accuracy:', pipeline.score(X_val, y_val))"
      ],
      "execution_count": 189,
      "outputs": [
        {
          "output_type": "stream",
          "text": [
            "Train Accuracy: 0.9699705387205387\n",
            "Validation Accuracy: 0.8088383838383838\n"
          ],
          "name": "stdout"
        }
      ]
    },
    {
      "cell_type": "code",
      "metadata": {
        "id": "61gzB155YFaW",
        "colab_type": "code",
        "colab": {
          "base_uri": "https://localhost:8080/",
          "height": 1000
        },
        "outputId": "5a8aa75b-e68a-4bb6-b22c-dafe595d7251"
      },
      "source": [
        "# Look at the feature importance\n",
        "\n",
        "# Feature importances\n",
        "\n",
        "%matplotlib inline\n",
        "import matplotlib.pyplot as plt\n",
        "\n",
        "# Pull out encoded X_train matrix\n",
        "encoder = pipeline.named_steps['ordinalencoder']\n",
        "encoded= encoder.transform(X_train)\n",
        "\n",
        "# Get feature importances\n",
        "rf = pipeline.named_steps['randomforestclassifier']\n",
        "importances = pd.Series(rf.feature_importances_, encoded.columns)\n",
        "\n",
        "# Plot top n feature importances\n",
        "n = 50\n",
        "plt.figure(figsize=(10,n/2))\n",
        "plt.title(f'Top {n} features')\n",
        "importances.sort_values()[-n:].plot.barh();"
      ],
      "execution_count": 190,
      "outputs": [
        {
          "output_type": "display_data",
          "data": {
            "image/png": "[encoded data removed]",
            "text/plain": [
              "<Figure size 720x1800 with 1 Axes>"
            ]
          },
          "metadata": {
            "tags": [],
            "needs_background": "light"
          }
        }
      ]
    },
    {
      "cell_type": "markdown",
      "metadata": {
        "id": "E4RPLdPFuSOE",
        "colab_type": "text"
      },
      "source": [
        "## CV for tuning hyper-parameters"
      ]
    },
    {
      "cell_type": "code",
      "metadata": {
        "id": "PLXVJlS6YIj6",
        "colab_type": "code",
        "colab": {}
      },
      "source": [
        "# Visualization of Validation Curve\n",
        "\n",
        "%matplotlib inline\n",
        "import matplotlib.pyplot as plt\n",
        "from sklearn.model_selection import validation_curve\n",
        "\n",
        "depth = range(1, 30, 3)\n",
        "train_scores, val_scores = validation_curve(\n",
        "    pipeline, X_train, y_train,\n",
        "    param_name='randomforestclassifier__max_depth', \n",
        "    param_range=depth, scoring= 'accuracy',\n",
        "    cv=3,\n",
        "    n_jobs=-1\n",
        ")\n",
        "\n",
        "plt.figure(dpi=150)\n",
        "plt.plot(depth, np.mean(-train_scores, axis=1), color='blue', label='training error')\n",
        "plt.plot(depth, np.mean(-val_scores, axis=1), color='red', label='validation error')\n",
        "plt.title('Validation Curve')\n",
        "plt.xlabel('model complexity: randomforestclassifier max_depth')\n",
        "plt.ylabel('model score: Accuracy Score')\n",
        "plt.legend();"
      ],
      "execution_count": 0,
      "outputs": []
    },
    {
      "cell_type": "code",
      "metadata": {
        "id": "-6DIo0RzYIig",
        "colab_type": "code",
        "colab": {}
      },
      "source": [
        "#  Use RandomizedForestCV for tuning hyper-parameters of model\n",
        "from sklearn.model_selection import RandomizedSearchCV\n",
        "from scipy.stats import randint\n",
        "\n",
        "\n",
        "# Already have target and features set\n",
        "# Pipeline is already set\n",
        "\n",
        "# Set range of different parameters for CV to try\n",
        "param_distributions = {\n",
        "    'randomforestclassifier__max_depth': [18, 19, 20, 21, 22],\n",
        "    'randomforestclassifier__n_estimators': randint(50, 500)\n",
        "}\n",
        "\n",
        "# Define RandomizedSearchCV\n",
        "search = RandomizedSearchCV(\n",
        "    pipeline,\n",
        "    param_distributions= param_distributions,\n",
        "    n_iter= 10,\n",
        "    cv= 5,\n",
        "    scoring= 'accuracy',\n",
        "    # return_train_score= True,\n",
        "    random_state= 42,\n",
        "    n_jobs= -1\n",
        ")\n",
        "\n",
        "search.fit(X_train, y_train);"
      ],
      "execution_count": 0,
      "outputs": []
    },
    {
      "cell_type": "code",
      "metadata": {
        "id": "CQuUvGB72cjW",
        "colab_type": "code",
        "colab": {}
      },
      "source": [
        "# Return best parameters and score\n",
        "print('Best hyperparameters', search.best_params_)\n",
        "print('Cross-validation accuracy', -search.best_score_)"
      ],
      "execution_count": 0,
      "outputs": []
    },
    {
      "cell_type": "code",
      "metadata": {
        "id": "VWXD3VsB7man",
        "colab_type": "code",
        "colab": {}
      },
      "source": [
        "# Re-define pipeline that contains optimized hyper-parameters\n",
        "\n",
        "pipeline = search.best_estimator_"
      ],
      "execution_count": 0,
      "outputs": []
    },
    {
      "cell_type": "code",
      "metadata": {
        "id": "DJEN09b07mf3",
        "colab_type": "code",
        "colab": {}
      },
      "source": [
        "# Validation accuracy\n",
        "\n",
        "print('Validation Accuracy:', pipeline.score(X_val, y_val))"
      ],
      "execution_count": 0,
      "outputs": []
    },
    {
      "cell_type": "code",
      "metadata": {
        "id": "s_U5mfx_7mdS",
        "colab_type": "code",
        "colab": {}
      },
      "source": [
        ""
      ],
      "execution_count": 0,
      "outputs": []
    },
    {
      "cell_type": "code",
      "metadata": {
        "id": "NOtuu9cgzYzt",
        "colab_type": "code",
        "colab": {}
      },
      "source": [
        ""
      ],
      "execution_count": 0,
      "outputs": []
    },
    {
      "cell_type": "markdown",
      "metadata": {
        "id": "rKJ0En6DrlVw",
        "colab_type": "text"
      },
      "source": [
        "## Confusion Matrix"
      ]
    },
    {
      "cell_type": "code",
      "metadata": {
        "id": "8ag4xaN7rq2q",
        "colab_type": "code",
        "colab": {}
      },
      "source": [
        "# Confusion matrix\n",
        "from sklearn.metrics import plot_confusion_matrix\n",
        "\n",
        "# Plot\n",
        "plot_confusion_matrix(pipeline, X_val, y_val, xticks_rotation= 'vertical', normalize= 'pred')\n",
        "\n",
        "# Enlarge\n",
        "plt.rcParams['figure.dpi']= 200"
      ],
      "execution_count": 0,
      "outputs": []
    },
    {
      "cell_type": "code",
      "metadata": {
        "id": "YAB5TZLnrq72",
        "colab_type": "code",
        "colab": {}
      },
      "source": [
        "# Look at precision and recall for each class\n",
        "from sklearn.metrics import classification_report\n",
        "\n",
        "# Make predictions\n",
        "y_pred= pipeline.predict(X_val)\n",
        "\n",
        "print(classification_report(y_val, y_pred))"
      ],
      "execution_count": 0,
      "outputs": []
    },
    {
      "cell_type": "markdown",
      "metadata": {
        "id": "mXCEYkD5II-j",
        "colab_type": "text"
      },
      "source": [
        "## Create Submission"
      ]
    },
    {
      "cell_type": "code",
      "metadata": {
        "id": "SuWxeyM2IL1h",
        "colab_type": "code",
        "colab": {}
      },
      "source": [
        "# Create predictions\n",
        "y_pred= pipeline.predict(X_test)"
      ],
      "execution_count": 0,
      "outputs": []
    },
    {
      "cell_type": "code",
      "metadata": {
        "id": "Nv0kWYR9IRLA",
        "colab_type": "code",
        "colab": {}
      },
      "source": [
        "# Submission\n",
        "submission= test[['id']].copy()\n",
        "submission['status_group'] = y_pred\n",
        "submission"
      ],
      "execution_count": 0,
      "outputs": []
    },
    {
      "cell_type": "code",
      "metadata": {
        "id": "qjZqIvV_IUE3",
        "colab_type": "code",
        "colab": {}
      },
      "source": [
        "# Save submission\n",
        "submission.to_csv('tanzanian_water_challenge_7.csv', index= False)"
      ],
      "execution_count": 0,
      "outputs": []
    },
    {
      "cell_type": "code",
      "metadata": {
        "id": "XQrfaVgVIcP_",
        "colab_type": "code",
        "colab": {}
      },
      "source": [
        "# Download to local computer\n",
        "from google.colab import files\n",
        "files.download('tanzanian_water_challenge_7.csv')"
      ],
      "execution_count": 0,
      "outputs": []
    },
    {
      "cell_type": "code",
      "metadata": {
        "id": "lHJfyXI_mvTS",
        "colab_type": "code",
        "colab": {}
      },
      "source": [
        ""
      ],
      "execution_count": 0,
      "outputs": []
    }
  ]
}