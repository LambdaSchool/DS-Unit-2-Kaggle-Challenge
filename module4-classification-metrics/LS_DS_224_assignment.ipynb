{
  "nbformat": 4,
  "nbformat_minor": 0,
  "metadata": {
    "kernelspec": {
      "display_name": "Python 3",
      "language": "python",
      "name": "python3"
    },
    "language_info": {
      "codemirror_mode": {
        "name": "ipython",
        "version": 3
      },
      "file_extension": ".py",
      "mimetype": "text/x-python",
      "name": "python",
      "nbconvert_exporter": "python",
      "pygments_lexer": "ipython3",
      "version": "3.7.3"
    },
    "colab": {
      "name": "LS_DS_224_assignment.ipynb",
      "provenance": [],
      "include_colab_link": true
    }
  },
  "cells": [
    {
      "cell_type": "markdown",
      "metadata": {
        "id": "view-in-github",
        "colab_type": "text"
      },
      "source": [
        "<a href=\"https://colab.research.google.com/github/accarter/DS-Unit-2-Kaggle-Challenge/blob/master/module4-classification-metrics/LS_DS_224_assignment.ipynb\" target=\"_parent\"><img src=\"https://colab.research.google.com/assets/colab-badge.svg\" alt=\"Open In Colab\"/></a>"
      ]
    },
    {
      "cell_type": "markdown",
      "metadata": {
        "id": "1vNwkTYQMncS",
        "colab_type": "text"
      },
      "source": [
        "Lambda School Data Science\n",
        "\n",
        "*Unit 2, Sprint 2, Module 4*\n",
        "\n",
        "---"
      ]
    },
    {
      "cell_type": "markdown",
      "metadata": {
        "colab_type": "text",
        "id": "nCc3XZEyG3XV"
      },
      "source": [
        "# Classification Metrics\n",
        "\n",
        "## Assignment\n",
        "- [ ] If you haven't yet, [review requirements for your portfolio project](https://lambdaschool.github.io/ds/unit2), then submit your dataset.\n",
        "- [ ] Plot a confusion matrix for your Tanzania Waterpumps model.\n",
        "- [ ] Continue to participate in our Kaggle challenge. Every student should have made at least one submission that scores at least 70% accuracy (well above the majority class baseline).\n",
        "- [ ] Submit your final predictions to our Kaggle competition. Optionally, go to **My Submissions**, and _\"you may select up to 1 submission to be used to count towards your final leaderboard score.\"_\n",
        "- [ ] Commit your notebook to your fork of the GitHub repo.\n",
        "- [ ] Read [Maximizing Scarce Maintenance Resources with Data: Applying predictive modeling, precision at k, and clustering to optimize impact](http://archive.is/DelgE), by Lambda DS3 student Michael Brady. His blog post extends the Tanzania Waterpumps scenario, far beyond what's in the lecture notebook.\n",
        "\n",
        "\n",
        "## Stretch Goals\n",
        "\n",
        "### Reading\n",
        "\n",
        "- [Attacking discrimination with smarter machine learning](https://research.google.com/bigpicture/attacking-discrimination-in-ml/), by Google Research, with  interactive visualizations. _\"A threshold classifier essentially makes a yes/no decision, putting things in one category or another. We look at how these classifiers work, ways they can potentially be unfair, and how you might turn an unfair classifier into a fairer one. As an illustrative example, we focus on loan granting scenarios where a bank may grant or deny a loan based on a single, automatically computed number such as a credit score.\"_\n",
        "- [Notebook about how to calculate expected value from a confusion matrix by treating it as a cost-benefit matrix](https://github.com/podopie/DAT18NYC/blob/master/classes/13-expected_value_cost_benefit_analysis.ipynb)\n",
        "- [Visualizing Machine Learning Thresholds to Make Better Business Decisions](https://blog.insightdatascience.com/visualizing-machine-learning-thresholds-to-make-better-business-decisions-4ab07f823415)\n",
        "\n",
        "\n",
        "### Doing\n",
        "- [ ] Share visualizations in our Slack channel!\n",
        "- [ ] RandomizedSearchCV / GridSearchCV, for model selection. (See module 3 assignment notebook)\n",
        "- [ ] Stacking Ensemble. (See module 3 assignment notebook)\n",
        "- [ ] More Categorical Encoding. (See module 2 assignment notebook)"
      ]
    },
    {
      "cell_type": "code",
      "metadata": {
        "colab_type": "code",
        "id": "lsbRiKBoB5RE",
        "colab": {}
      },
      "source": [
        "%%capture\n",
        "import sys\n",
        "\n",
        "# If you're on Colab:\n",
        "if 'google.colab' in sys.modules:\n",
        "    DATA_PATH = 'https://raw.githubusercontent.com/LambdaSchool/DS-Unit-2-Kaggle-Challenge/master/data/'\n",
        "    !pip install category_encoders==2.*\n",
        "\n",
        "# If you're working locally:\n",
        "else:\n",
        "    DATA_PATH = '../data/'"
      ],
      "execution_count": null,
      "outputs": []
    },
    {
      "cell_type": "code",
      "metadata": {
        "colab_type": "code",
        "id": "BVA1lph8CcNX",
        "colab": {}
      },
      "source": [
        "import pandas as pd\n",
        "\n",
        "# Merge train_features.csv & train_labels.csv\n",
        "train = pd.merge(pd.read_csv(DATA_PATH+'waterpumps/train_features.csv'), \n",
        "                 pd.read_csv(DATA_PATH+'waterpumps/train_labels.csv'))\n",
        "\n",
        "# Read test_features.csv & sample_submission.csv\n",
        "test = pd.read_csv(DATA_PATH+'waterpumps/test_features.csv')\n",
        "sample_submission = pd.read_csv(DATA_PATH+'waterpumps/sample_submission.csv')"
      ],
      "execution_count": null,
      "outputs": []
    },
    {
      "cell_type": "markdown",
      "metadata": {
        "id": "ETAwGjg1N2aP",
        "colab_type": "text"
      },
      "source": [
        "## Data Wrangling"
      ]
    },
    {
      "cell_type": "markdown",
      "metadata": {
        "id": "wQjG8yUNN4oJ",
        "colab_type": "text"
      },
      "source": [
        "### Filters"
      ]
    },
    {
      "cell_type": "code",
      "metadata": {
        "id": "VUhFJqtOMndE",
        "colab_type": "code",
        "colab": {}
      },
      "source": [
        "import numpy as np\n",
        "\n",
        "\n",
        "def population_filter(se):\n",
        "  '''\n",
        "  Replaces rows with populations of 1 or fewer with np.nan.\n",
        "  Replaces rows with outliers with np.nan.\n",
        "  '''\n",
        "  return pd.Series(np.where((se <= 1) | (se == np.nan), np.nan, se))\n",
        "\n",
        "\n",
        "def remove_outliers(se):\n",
        "  '''\n",
        "  Remove outer 1% of values (outliers).\n",
        "  '''\n",
        "  se = se.dropna()\n",
        "  return pd.Series(np.where((se >= np.percentile(se, 0.5)) &\n",
        "                            (se <= np.percentile(se, 99.5)), se, np.nan))\n",
        "\n",
        "\n",
        "def amount_tsh_filter(se):\n",
        "  '''\n",
        "  Replaces total static head values less than 0 with np.nan.\n",
        "  '''\n",
        "  return pd.Series(np.where((se <= 0), np.nan, se))\n",
        "\n",
        "\n",
        "def gps_height_filter(se):\n",
        "  '''\n",
        "  Replaces gps height values of 0 or less with np.nan.\n",
        "  '''\n",
        "  return pd.Series(np.where(se <= 1, np.nan, se))\n",
        "\n",
        "\n",
        "def construction_year_filter(se):\n",
        "  '''\n",
        "  Replaces construction years of 0 with np.nan.\n",
        "  '''\n",
        "  return pd.Series(np.where(se == 0, np.nan, se))\n",
        "\n",
        "\n",
        "def num_private_filter(se):\n",
        "  '''\n",
        "  Replaces num private values of 0 or less with np.nan.\n",
        "  '''\n",
        "  return pd.Series(np.where(se <= 0, np.nan, se))\n",
        "\n",
        "\n",
        "def axis_filter(se):\n",
        "  '''\n",
        "  Replaces latitude values of -2e-08 with np.nan.\n",
        "  Replaces longitude vales of 0.0 with np.nan.\n",
        "  '''\n",
        "  null_lat = se.value_counts().index[0]\n",
        "  return pd.Series(np.where(se == null_lat, np.nan, se))\n",
        "\n",
        "\n",
        "def clean(filter):\n",
        "  '''\n",
        "  Decorator function for casting pd.Series as type float\n",
        "  and removing any outliers after applying the specified filter.\n",
        "  '''\n",
        "  def wrapper(se):\n",
        "    return remove_outliers(filter(se.astype(float)))\n",
        "  return wrapper"
      ],
      "execution_count": null,
      "outputs": []
    },
    {
      "cell_type": "markdown",
      "metadata": {
        "id": "ok5Z8JyTN950",
        "colab_type": "text"
      },
      "source": [
        "### Replacements for Null Values"
      ]
    },
    {
      "cell_type": "markdown",
      "metadata": {
        "id": "AraJjR8CPD2S",
        "colab_type": "text"
      },
      "source": [
        "Configuration for filters/metrics used to identify, replace, and impute missing values"
      ]
    },
    {
      "cell_type": "code",
      "metadata": {
        "id": "8n5jPs4lOAFl",
        "colab_type": "code",
        "colab": {
          "base_uri": "https://localhost:8080/",
          "height": 119
        },
        "outputId": "0b133427-34b3-4e28-8b09-aced97a872dc"
      },
      "source": [
        "numeric_features = ['population', 'amount_tsh', 'gps_height', \n",
        "                    'latitude', 'longitude', 'num_private']\n",
        "\n",
        "measurements = ['mean', 'median', 'median', 'mean', 'mean', 'mode']\n",
        "\n",
        "filters = [population_filter, amount_tsh_filter, gps_height_filter, \n",
        "           axis_filter, axis_filter, num_private_filter]\n",
        "\n",
        "replacement_config = dict(zip(numeric_features, zip(measurements, filters)))\n",
        "\n",
        "measurement_funcs = {\n",
        "    'mean': lambda se: se.mean(),\n",
        "    'mode': lambda se: se.mode()[0],\n",
        "    'median': lambda se: se.median()\n",
        "}\n",
        "\n",
        "def find_replacement(df, feature):\n",
        "  measurement, filter = replacement_config[feature]\n",
        "  return measurement_funcs[measurement](clean(filter)(df[feature]))\n",
        "\n",
        "# combine DataFrames for generating replacement values\n",
        "tanzania = pd.concat([train.copy(), test.copy()])\n",
        "replacements = {feature: find_replacement(tanzania, feature) for feature in numeric_features}\n",
        "replacements"
      ],
      "execution_count": null,
      "outputs": [
        {
          "output_type": "execute_result",
          "data": {
            "text/plain": [
              "{'amount_tsh': 250.0,\n",
              " 'gps_height': 1192.0,\n",
              " 'latitude': -5.879993833884067,\n",
              " 'longitude': 35.15198731008472,\n",
              " 'num_private': 1.0,\n",
              " 'population': 319.22367730422}"
            ]
          },
          "metadata": {
            "tags": []
          },
          "execution_count": 4
        }
      ]
    },
    {
      "cell_type": "markdown",
      "metadata": {
        "id": "P9WIJ3XEOUXr",
        "colab_type": "text"
      },
      "source": [
        "Impute Latitude, Longitude, GPS Height, and Population by Region/Basin"
      ]
    },
    {
      "cell_type": "code",
      "metadata": {
        "id": "H7cqzz4-OdVi",
        "colab_type": "code",
        "colab": {}
      },
      "source": [
        "def get_means_by_region(X, features=['latitude', 'longitude', 'gps_height', 'population']):\n",
        "  X = X.copy()\n",
        "  grouped_by_region = X.groupby(['district_code', 'basin'])\n",
        "  regional_features = {}\n",
        "  for feature in features:\n",
        "    regional_features[feature] = {}\n",
        "    X[feature] = replacement_config[feature][1](X[feature])\n",
        "    means_by_region = grouped_by_region[feature].mean()\n",
        "    regional_means = {}\n",
        "    for (code, basin), avg in zip(means_by_region.index, means_by_region.values):\n",
        "      regional_means[f'{code}-{basin}'] = avg\n",
        "    regional_features[feature] = regional_means\n",
        "  return regional_features\n",
        "\n",
        "def replace_by_location(X, features=['latitude', 'longitude', 'gps_height', 'population']):\n",
        "  X = X.copy()\n",
        "  for feature in features:\n",
        "    X[feature] = replacement_config[feature][1](X[feature])\n",
        "    for k, avg in regional_features[feature].items():\n",
        "      code, basin = k.split('-')\n",
        "      if np.isnan(avg):\n",
        "        avg = district_features[feature][code]\n",
        "      code = float(code)\n",
        "      mask = ((X['district_code'] == code) & \n",
        "              (X['basin'] == basin) & \n",
        "              (X.apply(lambda x: np.isnan(x[feature]), axis=1)))\n",
        "      X[feature] = pd.Series(np.where(mask, avg, X[feature]))\n",
        "  return X\n",
        "\n",
        "def get_means_by_district(X, features=['latitude', 'longitude', 'gps_height', 'population']):\n",
        "  X = X.copy()\n",
        "  grouped_by_district = X.groupby(['district_code'])\n",
        "  district_features = {}\n",
        "  for feature in features:\n",
        "    district_features[feature] = {}\n",
        "    X[feature] = replacement_config[feature][1](X[feature])\n",
        "    means_by_district = grouped_by_district[feature].mean()\n",
        "    district_means = {}\n",
        "    for code, avg in zip(means_by_district.index, means_by_district.values):\n",
        "      if np.isnan(avg):\n",
        "        avg = replacements[feature]\n",
        "      district_means[f'{code}'] = avg\n",
        "    district_features[feature] = district_means\n",
        "  return district_features\n",
        "\n",
        "tanzania = pd.concat([train, test])\n",
        "regional_features = get_means_by_region(tanzania)\n",
        "district_features = get_means_by_district(tanzania)"
      ],
      "execution_count": null,
      "outputs": []
    },
    {
      "cell_type": "markdown",
      "metadata": {
        "id": "YfRBby_yOtRi",
        "colab_type": "text"
      },
      "source": [
        "### Feature Engineering"
      ]
    },
    {
      "cell_type": "markdown",
      "metadata": {
        "id": "YRsLS1U2R3ZS",
        "colab_type": "text"
      },
      "source": [
        "Distance from Functional Epicenter for Basin/District"
      ]
    },
    {
      "cell_type": "code",
      "metadata": {
        "id": "-NivGzu9OytK",
        "colab_type": "code",
        "colab": {}
      },
      "source": [
        "from geopy.distance import great_circle"
      ],
      "execution_count": null,
      "outputs": []
    },
    {
      "cell_type": "code",
      "metadata": {
        "id": "Mc8mSK_1O1GC",
        "colab_type": "code",
        "colab": {}
      },
      "source": [
        "# determine the average latitude and longitude for all functional water pumps;\n",
        "# used to calculate the distance of a water pump from this point\n",
        "\n",
        "functional_epicenters = {}\n",
        "\n",
        "region_groups = train.groupby(['district_code', 'basin']).mean().index\n",
        "for code, basin in region_groups:\n",
        "  mask = ((train['district_code'] == code) & \n",
        "          (train['basin'] == basin) & \n",
        "          (train['status_group'] == 'functional'))\n",
        "  epicenter = tuple(train[mask][axis].mean() for axis in ('latitude', 'longitude'))\n",
        "  functional_epicenters[f'{code}-{basin}'] = epicenter\n",
        "\n",
        "\n",
        "def mean_district_epicenter(district):\n",
        "  lat, lon, n = 0, 0, 0\n",
        "  for k, coord in functional_epicenters.items():\n",
        "    if int(k.split('-')[0]) == district:\n",
        "      lat += coord[0]\n",
        "      lon += coord[1]\n",
        "      n += 1\n",
        "  if n == 0:\n",
        "    return (replacements['latitude'], replacements['longitude'])\n",
        "  final_lat = lat / n\n",
        "  final_lon = lon / n\n",
        "  return (final_lat, final_lon)\n",
        "\n",
        "\n",
        "def coords_to_dist(row):\n",
        "  '''\n",
        "  Returns distance between coordinate and center of functional water pumps\n",
        "  for that region.\n",
        "  '''\n",
        "  code = int(row['district_code'])\n",
        "  region = row['region']\n",
        "  try:\n",
        "    epicenter = functional_epicenters['{:.0f}-{}'.format(code, region)]\n",
        "  except:\n",
        "    epicenter = mean_district_epicenter(code)\n",
        "  latitude = row['latitude']\n",
        "  longitude = row['longitude']\n",
        "  return great_circle((latitude, longitude), epicenter).miles"
      ],
      "execution_count": null,
      "outputs": []
    },
    {
      "cell_type": "markdown",
      "metadata": {
        "id": "TV-eT4KPO8x0",
        "colab_type": "text"
      },
      "source": [
        "### Wrangle Data & Replace Missing Values"
      ]
    },
    {
      "cell_type": "code",
      "metadata": {
        "id": "pXHksLTcPkw7",
        "colab_type": "code",
        "colab": {}
      },
      "source": [
        "def replace(X, feature):\n",
        "  '''\n",
        "  Replaces feature in X with replacement value.\n",
        "  '''\n",
        "  filter = replacement_config[feature][1]\n",
        "  X[feature] = filter(X[feature])\n",
        "  X[feature] = X[feature].replace(np.nan, replacements[feature])\n",
        "  return X\n",
        "\n",
        "def wrangle(X):\n",
        "  X = X.copy()\n",
        "\n",
        "  X = replace_by_location(X)  \n",
        "\n",
        "  # replace NaN values in categorical features with \"Unknown\"\n",
        "  nan_cols = ['funder', 'installer', 'subvillage', 'public_meeting', \n",
        "              'scheme_management', 'scheme_name', 'permit']\n",
        "\n",
        "  for feature in nan_cols:\n",
        "    X[feature] = X[feature].replace(np.nan, 'Unknown')\n",
        "  \n",
        "  # drop duplicate columns\n",
        "  duplicate_cols = ['quantity_group', 'extraction_type_group',\n",
        "                    'extraction_type_class', 'payment_type',\n",
        "                    'source_type', 'waterpoint_type_group']\n",
        "  X = X.drop(columns=duplicate_cols)\n",
        "\n",
        "  # drop columns meant for book-keeping\n",
        "  book_keeping_cols = ['id', 'recorded_by']\n",
        "  X = X.drop(columns=book_keeping_cols)\n",
        "\n",
        "  # Convert date_recorded to datetime\n",
        "  X['date_recorded'] = pd.to_datetime(X['date_recorded'], infer_datetime_format=True)\n",
        "\n",
        "  # Extract components from date_recorded, then drop the original column\n",
        "  X['year_recorded'] = X['date_recorded'].dt.year\n",
        "  X['month_recorded'] = X['date_recorded'].dt.month\n",
        "  X['day_recorded'] = X['date_recorded'].dt.day\n",
        "  X = X.drop(columns='date_recorded')\n",
        "\n",
        "  # Engineer feature: how many years from construction_year to date_recorded\n",
        "  X['years'] = X['year_recorded'] - X['construction_year']\n",
        "\n",
        "  # Engineer feature: geographic center of functional water pumps\n",
        "  X['miles_from_functional_epicenter'] = X.apply(coords_to_dist, axis=1)\n",
        "\n",
        "  # Engineer feature: boolean features to binary\n",
        "  boolean_features = ['permit']\n",
        "  for feature in boolean_features:\n",
        "      X[feature] = pd.Series(np.where(X[feature], 1, 0))\n",
        "\n",
        "  X['government_funded'] = pd.Series(np.where(X['funder'] == 'Government of Tanzania', 1, 0))\n",
        "\n",
        "  X['source'] = pd.Series(np.where(X['source'] == 'other', 'unknown', X['source']))\n",
        "\n",
        "  return X"
      ],
      "execution_count": null,
      "outputs": []
    },
    {
      "cell_type": "markdown",
      "metadata": {
        "id": "ITZMKogEPuR8",
        "colab_type": "text"
      },
      "source": [
        "Save cleaned data to csv files."
      ]
    },
    {
      "cell_type": "code",
      "metadata": {
        "id": "TXD9zzFiPxX1",
        "colab_type": "code",
        "colab": {}
      },
      "source": [
        "# train_clean, test_clean = [wrangle(df) for df in (train, test)]\n",
        "# train_clean.to_csv('train_clean.csv', index=False)\n",
        "# test_clean.to_csv('test_clean.csv', index=False)"
      ],
      "execution_count": null,
      "outputs": []
    },
    {
      "cell_type": "markdown",
      "metadata": {
        "id": "OStLTiHbQORi",
        "colab_type": "text"
      },
      "source": [
        "Read cleaned data from csv files if available."
      ]
    },
    {
      "cell_type": "code",
      "metadata": {
        "id": "DhWf0GO-QREL",
        "colab_type": "code",
        "colab": {}
      },
      "source": [
        "train_clean = pd.read_csv('train_clean.csv')\n",
        "test_clean = pd.read_csv('test_clean.csv')"
      ],
      "execution_count": null,
      "outputs": []
    },
    {
      "cell_type": "markdown",
      "metadata": {
        "id": "svxtYs5qRtDy",
        "colab_type": "text"
      },
      "source": [
        "## Feature Selection"
      ]
    },
    {
      "cell_type": "code",
      "metadata": {
        "id": "B-whcwo6RvSk",
        "colab_type": "code",
        "colab": {
          "base_uri": "https://localhost:8080/",
          "height": 68
        },
        "outputId": "d9be1114-8fd3-4ee1-fd16-13bc36118407"
      },
      "source": [
        "target = 'status_group'\n",
        "train_features = train_clean.drop(columns=[target])\n",
        "\n",
        "# Get a list of the numeric features\n",
        "numeric_features = train_features.select_dtypes(include='number').columns.tolist()\n",
        "\n",
        "# Get a series with the cardinality of the nonnumeric features\n",
        "categorical_features = train_features.select_dtypes(exclude='number').columns.tolist()\n",
        "\n",
        "features = numeric_features + categorical_features\n",
        "\n",
        "X_train, X_test = [df[features] for df in (train_clean, test_clean)]\n",
        "y_train = train_clean[target]\n",
        "\n",
        "print('Number of columns')\n",
        "for df, name in [(X_train, 'X_train'), (X_test, 'X_test')]:\n",
        "  print(f'{name}: {df.shape[1]}')"
      ],
      "execution_count": null,
      "outputs": [
        {
          "output_type": "stream",
          "text": [
            "Number of columns\n",
            "X_train: 37\n",
            "X_test: 37\n"
          ],
          "name": "stdout"
        }
      ]
    },
    {
      "cell_type": "markdown",
      "metadata": {
        "id": "1HdehehWU4xM",
        "colab_type": "text"
      },
      "source": [
        "## Encoders"
      ]
    },
    {
      "cell_type": "code",
      "metadata": {
        "id": "pjzGRpfhSM7_",
        "colab_type": "code",
        "colab": {
          "base_uri": "https://localhost:8080/",
          "height": 71
        },
        "outputId": "f60758d9-7bfc-47dd-96f1-74681e2aef8e"
      },
      "source": [
        "import category_encoders as ce\n",
        "\n",
        "def encode(encoder, X_train, X_test, features, target, y_train=None):\n",
        "  if y_train is None:\n",
        "    X_train = encoder.fit_transform(X_train, y_train)\n",
        "    X_test = encoder.transform(X_test)\n",
        "    return X_train, X_test\n",
        "  else:\n",
        "    target_vectors = [[1.0 if x == name else 0.0 for x in y_train] for name in y_train.value_counts().index.tolist()]\n",
        "    for target_vector in target_vectors:\n",
        "        X_train = encoder.fit_transform(X_train, target_vector)\n",
        "        X_test = encoder.transform(X_test)\n",
        "    return X_train, X_test\n",
        "\n",
        "cat_boost_encoded_features = ['funder']\n",
        "hash_encoded_features = ['scheme_management']\n",
        "target_encoded_features = ['management']\n",
        "\n",
        "encoders = [ce.cat_boost.CatBoostEncoder(cols=cat_boost_encoded_features, random_state=42), \n",
        "            ce.hashing.HashingEncoder(cols=hash_encoded_features), \n",
        "            ce.target_encoder.TargetEncoder(cols=target_encoded_features, \n",
        "                                            min_samples_leaf=100,\n",
        "                                            smoothing=10)]\n",
        "encoded_features = [cat_boost_encoded_features, hash_encoded_features, target_encoded_features]\n",
        "target_vectors = [y_train, None, y_train]"
      ],
      "execution_count": null,
      "outputs": [
        {
          "output_type": "stream",
          "text": [
            "/usr/local/lib/python3.6/dist-packages/statsmodels/tools/_testing.py:19: FutureWarning: pandas.util.testing is deprecated. Use the functions in the public API at pandas.testing instead.\n",
            "  import pandas.util.testing as tm\n"
          ],
          "name": "stderr"
        }
      ]
    },
    {
      "cell_type": "markdown",
      "metadata": {
        "id": "oQndMtjiVAl6",
        "colab_type": "text"
      },
      "source": [
        "Save encoded data to csv files."
      ]
    },
    {
      "cell_type": "code",
      "metadata": {
        "id": "BRSZDRtlVDkm",
        "colab_type": "code",
        "colab": {}
      },
      "source": [
        "# X_train_encoded, X_test_encoded = (df.copy() for df in (X_train, X_test))\n",
        "# for encoder, features, target_vector in zip(encoders, encoded_features, target_vectors):\n",
        "#   X_train_encoded, X_test_encoded = encode(encoder, X_train_encoded, X_test_encoded, features, target, target_vector)\n",
        "\n",
        "# X_train_encoded.to_csv('X_train_encoded.csv', index=False)\n",
        "# X_test_encoded.to_csv('X_test_encoded.csv', index=False)"
      ],
      "execution_count": null,
      "outputs": []
    },
    {
      "cell_type": "markdown",
      "metadata": {
        "id": "_pcTL3VrVJ0s",
        "colab_type": "text"
      },
      "source": [
        "Read encoded data from csv files if available."
      ]
    },
    {
      "cell_type": "code",
      "metadata": {
        "id": "hoBHo7P3VLPG",
        "colab_type": "code",
        "colab": {}
      },
      "source": [
        "X_train_encoded = pd.read_csv('X_train_encoded.csv')\n",
        "X_test_encoded = pd.read_csv('X_test_encoded.csv')"
      ],
      "execution_count": null,
      "outputs": []
    },
    {
      "cell_type": "code",
      "metadata": {
        "id": "Oresv7BVVn5I",
        "colab_type": "code",
        "colab": {
          "base_uri": "https://localhost:8080/",
          "height": 34
        },
        "outputId": "d1436d1d-503f-4dc4-cac6-c87861783f11"
      },
      "source": [
        "X_train_encoded.shape, X_test_encoded.shape"
      ],
      "execution_count": null,
      "outputs": [
        {
          "output_type": "execute_result",
          "data": {
            "text/plain": [
              "((59400, 44), (14358, 44))"
            ]
          },
          "metadata": {
            "tags": []
          },
          "execution_count": 20
        }
      ]
    },
    {
      "cell_type": "markdown",
      "metadata": {
        "id": "JzVbuFcHWTqa",
        "colab_type": "text"
      },
      "source": [
        "## Model"
      ]
    },
    {
      "cell_type": "code",
      "metadata": {
        "id": "2RdjwguXV07B",
        "colab_type": "code",
        "colab": {
          "base_uri": "https://localhost:8080/",
          "height": 50
        },
        "outputId": "6b483043-adc3-4705-b3c8-792756070217"
      },
      "source": [
        "%%time\n",
        "import category_encoders as ce\n",
        "from xgboost import XGBClassifier\n",
        "\n",
        "categorical_features = X_train_encoded.select_dtypes(exclude='number').columns.tolist()\n",
        "\n",
        "encoder = ce.OrdinalEncoder(cols=categorical_features)\n",
        "X_train_encoded = encoder.fit_transform(X_train_encoded, y_train)\n",
        "X_test_encoded = encoder.transform(X_test_encoded)\n",
        "\n",
        "modelxgb = XGBClassifier(\n",
        "    random_state=42,\n",
        "    objective = 'multi:softmax', \n",
        "    booster = 'gbtree', \n",
        "    nrounds = 'min.error.idx', \n",
        "    num_class = 3, \n",
        "    maximize = False, \n",
        "    eval_metric = 'merror', \n",
        "    eta = .1,\n",
        "    max_depth = 14, \n",
        "    colsample_bytree = .4)\n",
        "\n",
        "model = modelxgb.fit(X_train_encoded, y_train)"
      ],
      "execution_count": null,
      "outputs": [
        {
          "output_type": "stream",
          "text": [
            "CPU times: user 1min 17s, sys: 149 ms, total: 1min 17s\n",
            "Wall time: 1min 17s\n"
          ],
          "name": "stdout"
        }
      ]
    },
    {
      "cell_type": "code",
      "metadata": {
        "id": "TKnq4vslWyAU",
        "colab_type": "code",
        "colab": {
          "base_uri": "https://localhost:8080/",
          "height": 34
        },
        "outputId": "e3c232a9-4d8b-4dd3-f002-c4fa833c8362"
      },
      "source": [
        "from sklearn.model_selection import cross_val_score\n",
        "\n",
        "results = cross_val_score(model, X_train_encoded, y_train, cv=5)\n",
        "print(\"Accuracy: {:.2f} +/- {:.2f}\".format(results.mean() * 100, results.std() * 100))"
      ],
      "execution_count": null,
      "outputs": [
        {
          "output_type": "stream",
          "text": [
            "Accuracy: 81.46 +/- 0.30\n"
          ],
          "name": "stdout"
        }
      ]
    },
    {
      "cell_type": "markdown",
      "metadata": {
        "id": "Q4s2VNdlYIHp",
        "colab_type": "text"
      },
      "source": [
        "## Confusion Matrix"
      ]
    },
    {
      "cell_type": "code",
      "metadata": {
        "id": "tLO7sQ6pbnbB",
        "colab_type": "code",
        "colab": {}
      },
      "source": [
        "from sklearn.metrics import confusion_matrix\n",
        "from sklearn.utils.multiclass import unique_labels"
      ],
      "execution_count": null,
      "outputs": []
    },
    {
      "cell_type": "code",
      "metadata": {
        "id": "jJDo9hl-ctFl",
        "colab_type": "code",
        "colab": {}
      },
      "source": [
        "# make predictions\n",
        "y_pred = model.predict(X_train_encoded)"
      ],
      "execution_count": null,
      "outputs": []
    },
    {
      "cell_type": "code",
      "metadata": {
        "id": "7R_YfXqDYJr8",
        "colab_type": "code",
        "colab": {
          "base_uri": "https://localhost:8080/",
          "height": 176
        },
        "outputId": "c20bfb55-5d01-4a6e-a9d0-b54d82df8663"
      },
      "source": [
        "# display confusion matrix\n",
        "\n",
        "def plot_confusion_matrix(y_train, y_pred):\n",
        "    labels = unique_labels(y_train)\n",
        "    columns = [f'Predicted {label}' for label in labels]\n",
        "    index = [f'Actual {label}' for label in labels]\n",
        "    table = pd.DataFrame(confusion_matrix(y_train, y_pred), \n",
        "                         columns=columns, index=index)\n",
        "    return table\n",
        "\n",
        "plot_confusion_matrix(y_train, y_pred)"
      ],
      "execution_count": null,
      "outputs": [
        {
          "output_type": "execute_result",
          "data": {
            "text/html": [
              "<div>\n",
              "<style scoped>\n",
              "    .dataframe tbody tr th:only-of-type {\n",
              "        vertical-align: middle;\n",
              "    }\n",
              "\n",
              "    .dataframe tbody tr th {\n",
              "        vertical-align: top;\n",
              "    }\n",
              "\n",
              "    .dataframe thead th {\n",
              "        text-align: right;\n",
              "    }\n",
              "</style>\n",
              "<table border=\"1\" class=\"dataframe\">\n",
              "  <thead>\n",
              "    <tr style=\"text-align: right;\">\n",
              "      <th></th>\n",
              "      <th>Predicted functional</th>\n",
              "      <th>Predicted functional needs repair</th>\n",
              "      <th>Predicted non functional</th>\n",
              "    </tr>\n",
              "  </thead>\n",
              "  <tbody>\n",
              "    <tr>\n",
              "      <th>Actual functional</th>\n",
              "      <td>32182</td>\n",
              "      <td>19</td>\n",
              "      <td>58</td>\n",
              "    </tr>\n",
              "    <tr>\n",
              "      <th>Actual functional needs repair</th>\n",
              "      <td>331</td>\n",
              "      <td>3943</td>\n",
              "      <td>43</td>\n",
              "    </tr>\n",
              "    <tr>\n",
              "      <th>Actual non functional</th>\n",
              "      <td>447</td>\n",
              "      <td>16</td>\n",
              "      <td>22361</td>\n",
              "    </tr>\n",
              "  </tbody>\n",
              "</table>\n",
              "</div>"
            ],
            "text/plain": [
              "                                Predicted functional  ...  Predicted non functional\n",
              "Actual functional                              32182  ...                        58\n",
              "Actual functional needs repair                   331  ...                        43\n",
              "Actual non functional                            447  ...                     22361\n",
              "\n",
              "[3 rows x 3 columns]"
            ]
          },
          "metadata": {
            "tags": []
          },
          "execution_count": 35
        }
      ]
    },
    {
      "cell_type": "code",
      "metadata": {
        "id": "APCzlDEKcrwW",
        "colab_type": "code",
        "colab": {
          "base_uri": "https://localhost:8080/",
          "height": 421
        },
        "outputId": "f9e76e7c-ff84-4282-8147-d8b7f5895e32"
      },
      "source": [
        "import seaborn as sns\n",
        "def plot_confusion_matrix(y_true, y_pred):\n",
        "    labels = unique_labels(y_true)\n",
        "    columns = [f'Predicted {label}' for label in labels]\n",
        "    index = [f'Actual {label}' for label in labels]\n",
        "    table = pd.DataFrame(confusion_matrix(y_true, y_pred), \n",
        "                         columns=columns, index=index)\n",
        "    return sns.heatmap(table, annot=True, fmt='d', cmap='viridis')\n",
        "\n",
        "plot_confusion_matrix(y_train, y_pred);"
      ],
      "execution_count": null,
      "outputs": [
        {
          "output_type": "display_data",
          "data": {
            "image/png": "[encoded data removed]",
            "text/plain": [
              "<Figure size 432x288 with 2 Axes>"
            ]
          },
          "metadata": {
            "tags": [],
            "needs_background": "light"
          }
        }
      ]
    }
  ]
}