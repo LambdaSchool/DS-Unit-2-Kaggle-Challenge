{
  "nbformat": 4,
  "nbformat_minor": 0,
  "metadata": {
    "kernelspec": {
      "display_name": "Python 3",
      "language": "python",
      "name": "python3"
    },
    "language_info": {
      "codemirror_mode": {
        "name": "ipython",
        "version": 3
      },
      "file_extension": ".py",
      "mimetype": "text/x-python",
      "name": "python",
      "nbconvert_exporter": "python",
      "pygments_lexer": "ipython3",
      "version": "3.7.6"
    },
    "colab": {
      "name": "LS_DS_224_assignment.ipynb",
      "provenance": [],
      "collapsed_sections": [],
      "include_colab_link": true
    },
    "widgets": {
      "application/vnd.jupyter.widget-state+json": {
        "246355112f034d39baf95acff6e87b4c": {
          "model_module": "@jupyter-widgets/controls",
          "model_name": "VBoxModel",
          "state": {
            "_view_name": "VBoxView",
            "_dom_classes": [
              "widget-interact"
            ],
            "_model_name": "VBoxModel",
            "_view_module": "@jupyter-widgets/controls",
            "_model_module_version": "1.5.0",
            "_view_count": null,
            "_view_module_version": "1.5.0",
            "box_style": "",
            "layout": "IPY_MODEL_bbee47281f9745dfaf06f4d2a7840da6",
            "_model_module": "@jupyter-widgets/controls",
            "children": [
              "IPY_MODEL_8fa93dca6ac04401affeafec1fbced8b",
              "IPY_MODEL_2eb165e40ca4454498de886b662c95f3",
              "IPY_MODEL_7da184ba079146d681b1980a5258c4f1"
            ]
          }
        },
        "bbee47281f9745dfaf06f4d2a7840da6": {
          "model_module": "@jupyter-widgets/base",
          "model_name": "LayoutModel",
          "state": {
            "_view_name": "LayoutView",
            "grid_template_rows": null,
            "right": null,
            "justify_content": null,
            "_view_module": "@jupyter-widgets/base",
            "overflow": null,
            "_model_module_version": "1.2.0",
            "_view_count": null,
            "flex_flow": null,
            "width": null,
            "min_width": null,
            "border": null,
            "align_items": null,
            "bottom": null,
            "_model_module": "@jupyter-widgets/base",
            "top": null,
            "grid_column": null,
            "overflow_y": null,
            "overflow_x": null,
            "grid_auto_flow": null,
            "grid_area": null,
            "grid_template_columns": null,
            "flex": null,
            "_model_name": "LayoutModel",
            "justify_items": null,
            "grid_row": null,
            "max_height": null,
            "align_content": null,
            "visibility": null,
            "align_self": null,
            "height": null,
            "min_height": null,
            "padding": null,
            "grid_auto_rows": null,
            "grid_gap": null,
            "max_width": null,
            "order": null,
            "_view_module_version": "1.2.0",
            "grid_template_areas": null,
            "object_position": null,
            "object_fit": null,
            "grid_auto_columns": null,
            "margin": null,
            "display": null,
            "left": null
          }
        },
        "8fa93dca6ac04401affeafec1fbced8b": {
          "model_module": "@jupyter-widgets/controls",
          "model_name": "FloatSliderModel",
          "state": {
            "_view_name": "FloatSliderView",
            "style": "IPY_MODEL_d4a050d47350423a837772bdaa81bcaa",
            "_dom_classes": [],
            "description": "good_thresh",
            "step": 0.02,
            "_model_name": "FloatSliderModel",
            "orientation": "horizontal",
            "max": 1,
            "_view_module": "@jupyter-widgets/controls",
            "_model_module_version": "1.5.0",
            "value": 0.1,
            "_view_count": null,
            "disabled": false,
            "_view_module_version": "1.5.0",
            "min": 0,
            "continuous_update": true,
            "readout_format": ".2f",
            "description_tooltip": null,
            "readout": true,
            "_model_module": "@jupyter-widgets/controls",
            "layout": "IPY_MODEL_737773e5c08a4f5994518bb06fee9703"
          }
        },
        "2eb165e40ca4454498de886b662c95f3": {
          "model_module": "@jupyter-widgets/controls",
          "model_name": "FloatSliderModel",
          "state": {
            "_view_name": "FloatSliderView",
            "style": "IPY_MODEL_8c1d6b120e37483596bf468fedfd63c6",
            "_dom_classes": [],
            "description": "ok_thresh",
            "step": 0.02,
            "_model_name": "FloatSliderModel",
            "orientation": "horizontal",
            "max": 1,
            "_view_module": "@jupyter-widgets/controls",
            "_model_module_version": "1.5.0",
            "value": 0.02,
            "_view_count": null,
            "disabled": false,
            "_view_module_version": "1.5.0",
            "min": 0,
            "continuous_update": true,
            "readout_format": ".2f",
            "description_tooltip": null,
            "readout": true,
            "_model_module": "@jupyter-widgets/controls",
            "layout": "IPY_MODEL_e7a57eff21b444788e00f41ffbbed532"
          }
        },
        "7da184ba079146d681b1980a5258c4f1": {
          "model_module": "@jupyter-widgets/output",
          "model_name": "OutputModel",
          "state": {
            "_view_name": "OutputView",
            "msg_id": "",
            "_dom_classes": [],
            "_model_name": "OutputModel",
            "outputs": [
              {
                "output_type": "display_data",
                "metadata": {
                  "tags": []
                },
                "image/png": "iVBORw0KGgoAAAANSUhEUgAAAXAAAAD4CAYAAAD1jb0+AAAABHNCSVQICAgIfAhkiAAAAAlwSFlz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\ngfr/llsbIMQ3F7gAAAAASUVORK5CYII=\n",
                "text/plain": "<Figure size 432x288 with 1 Axes>"
              },
              {
                "output_type": "stream",
                "metadata": {
                  "tags": []
                },
                "text": "                         precision    recall  f1-score   support\n\n             functional       0.52      0.19      0.27      6452\nfunctional needs repair       0.05      0.22      0.09       863\n         non functional       0.48      0.63      0.54      4565\n\n               accuracy                           0.36     11880\n              macro avg       0.35      0.35      0.30     11880\n           weighted avg       0.47      0.36      0.36     11880\n\n",
                "stream": "stdout"
              }
            ],
            "_view_module": "@jupyter-widgets/output",
            "_model_module_version": "1.0.0",
            "_view_count": null,
            "_view_module_version": "1.0.0",
            "layout": "IPY_MODEL_ceba8f3a378f4795a3972510c841ee8c",
            "_model_module": "@jupyter-widgets/output"
          }
        },
        "d4a050d47350423a837772bdaa81bcaa": {
          "model_module": "@jupyter-widgets/controls",
          "model_name": "SliderStyleModel",
          "state": {
            "_view_name": "StyleView",
            "handle_color": null,
            "_model_name": "SliderStyleModel",
            "description_width": "",
            "_view_module": "@jupyter-widgets/base",
            "_model_module_version": "1.5.0",
            "_view_count": null,
            "_view_module_version": "1.2.0",
            "_model_module": "@jupyter-widgets/controls"
          }
        },
        "737773e5c08a4f5994518bb06fee9703": {
          "model_module": "@jupyter-widgets/base",
          "model_name": "LayoutModel",
          "state": {
            "_view_name": "LayoutView",
            "grid_template_rows": null,
            "right": null,
            "justify_content": null,
            "_view_module": "@jupyter-widgets/base",
            "overflow": null,
            "_model_module_version": "1.2.0",
            "_view_count": null,
            "flex_flow": null,
            "width": null,
            "min_width": null,
            "border": null,
            "align_items": null,
            "bottom": null,
            "_model_module": "@jupyter-widgets/base",
            "top": null,
            "grid_column": null,
            "overflow_y": null,
            "overflow_x": null,
            "grid_auto_flow": null,
            "grid_area": null,
            "grid_template_columns": null,
            "flex": null,
            "_model_name": "LayoutModel",
            "justify_items": null,
            "grid_row": null,
            "max_height": null,
            "align_content": null,
            "visibility": null,
            "align_self": null,
            "height": null,
            "min_height": null,
            "padding": null,
            "grid_auto_rows": null,
            "grid_gap": null,
            "max_width": null,
            "order": null,
            "_view_module_version": "1.2.0",
            "grid_template_areas": null,
            "object_position": null,
            "object_fit": null,
            "grid_auto_columns": null,
            "margin": null,
            "display": null,
            "left": null
          }
        },
        "8c1d6b120e37483596bf468fedfd63c6": {
          "model_module": "@jupyter-widgets/controls",
          "model_name": "SliderStyleModel",
          "state": {
            "_view_name": "StyleView",
            "handle_color": null,
            "_model_name": "SliderStyleModel",
            "description_width": "",
            "_view_module": "@jupyter-widgets/base",
            "_model_module_version": "1.5.0",
            "_view_count": null,
            "_view_module_version": "1.2.0",
            "_model_module": "@jupyter-widgets/controls"
          }
        },
        "e7a57eff21b444788e00f41ffbbed532": {
          "model_module": "@jupyter-widgets/base",
          "model_name": "LayoutModel",
          "state": {
            "_view_name": "LayoutView",
            "grid_template_rows": null,
            "right": null,
            "justify_content": null,
            "_view_module": "@jupyter-widgets/base",
            "overflow": null,
            "_model_module_version": "1.2.0",
            "_view_count": null,
            "flex_flow": null,
            "width": null,
            "min_width": null,
            "border": null,
            "align_items": null,
            "bottom": null,
            "_model_module": "@jupyter-widgets/base",
            "top": null,
            "grid_column": null,
            "overflow_y": null,
            "overflow_x": null,
            "grid_auto_flow": null,
            "grid_area": null,
            "grid_template_columns": null,
            "flex": null,
            "_model_name": "LayoutModel",
            "justify_items": null,
            "grid_row": null,
            "max_height": null,
            "align_content": null,
            "visibility": null,
            "align_self": null,
            "height": null,
            "min_height": null,
            "padding": null,
            "grid_auto_rows": null,
            "grid_gap": null,
            "max_width": null,
            "order": null,
            "_view_module_version": "1.2.0",
            "grid_template_areas": null,
            "object_position": null,
            "object_fit": null,
            "grid_auto_columns": null,
            "margin": null,
            "display": null,
            "left": null
          }
        }
      }
    }
  },
  "cells": [
    {
      "cell_type": "markdown",
      "metadata": {
        "id": "view-in-github",
        "colab_type": "text"
      },
      "source": [
        "<a href=\"https://colab.research.google.com/github/Lilchoto3/DS-Unit-2-Kaggle-Challenge/blob/master/module4-classification-metrics/LS_DS_224_assignment.ipynb\" target=\"_parent\"><img src=\"https://colab.research.google.com/assets/colab-badge.svg\" alt=\"Open In Colab\"/></a>"
      ]
    },
    {
      "cell_type": "markdown",
      "metadata": {
        "id": "coZ8XVzunT7d",
        "colab_type": "text"
      },
      "source": [
        "Lambda School Data Science\n",
        "\n",
        "*Unit 2, Sprint 2, Module 4*\n",
        "\n",
        "---"
      ]
    },
    {
      "cell_type": "markdown",
      "metadata": {
        "colab_type": "text",
        "id": "nCc3XZEyG3XV"
      },
      "source": [
        "# Classification Metrics\n",
        "\n",
        "## Assignment\n",
        "- [ ] If you haven't yet, [review requirements for your portfolio project](https://lambdaschool.github.io/ds/unit2), then submit your dataset.\n",
        "- [ ] Plot a confusion matrix for your Tanzania Waterpumps model.\n",
        "- [ ] Continue to participate in our Kaggle challenge. Every student should have made at least one submission that scores at least 70% accuracy (well above the majority class baseline).\n",
        "- [ ] Submit your final predictions to our Kaggle competition. Optionally, go to **My Submissions**, and _\"you may select up to 1 submission to be used to count towards your final leaderboard score.\"_\n",
        "- [ ] Commit your notebook to your fork of the GitHub repo.\n",
        "- [ ] Read [Maximizing Scarce Maintenance Resources with Data: Applying predictive modeling, precision at k, and clustering to optimize impact](https://towardsdatascience.com/maximizing-scarce-maintenance-resources-with-data-8f3491133050), by Lambda DS3 student Michael Brady. His blog post extends the Tanzania Waterpumps scenario, far beyond what's in the lecture notebook.\n",
        "\n",
        "\n",
        "## Stretch Goals\n",
        "\n",
        "### Reading\n",
        "\n",
        "- [Attacking discrimination with smarter machine learning](https://research.google.com/bigpicture/attacking-discrimination-in-ml/), by Google Research, with  interactive visualizations. _\"A threshold classifier essentially makes a yes/no decision, putting things in one category or another. We look at how these classifiers work, ways they can potentially be unfair, and how you might turn an unfair classifier into a fairer one. As an illustrative example, we focus on loan granting scenarios where a bank may grant or deny a loan based on a single, automatically computed number such as a credit score.\"_\n",
        "- [Notebook about how to calculate expected value from a confusion matrix by treating it as a cost-benefit matrix](https://github.com/podopie/DAT18NYC/blob/master/classes/13-expected_value_cost_benefit_analysis.ipynb)\n",
        "- [Visualizing Machine Learning Thresholds to Make Better Business Decisions](https://blog.insightdatascience.com/visualizing-machine-learning-thresholds-to-make-better-business-decisions-4ab07f823415)\n",
        "\n",
        "\n",
        "### Doing\n",
        "- [ ] Share visualizations in our Slack channel!\n",
        "- [ ] RandomizedSearchCV / GridSearchCV, for model selection. (See module 3 assignment notebook)\n",
        "- [ ] Stacking Ensemble. (See module 3 assignment notebook)\n",
        "- [ ] More Categorical Encoding. (See module 2 assignment notebook)"
      ]
    },
    {
      "cell_type": "code",
      "metadata": {
        "colab_type": "code",
        "id": "lsbRiKBoB5RE",
        "colab": {}
      },
      "source": [
        "%%capture\n",
        "import sys\n",
        "\n",
        "# If you're on Colab:\n",
        "if 'google.colab' in sys.modules:\n",
        "    DATA_PATH = 'https://raw.githubusercontent.com/LambdaSchool/DS-Unit-2-Kaggle-Challenge/master/data/'\n",
        "    !pip install category_encoders==2.*\n",
        "\n",
        "# If you're working locally:\n",
        "else:\n",
        "    DATA_PATH = '../data/'"
      ],
      "execution_count": 0,
      "outputs": []
    },
    {
      "cell_type": "code",
      "metadata": {
        "colab_type": "code",
        "id": "BVA1lph8CcNX",
        "colab": {}
      },
      "source": [
        "import pandas as pd\n",
        "\n",
        "# Merge train_features.csv & train_labels.csv\n",
        "train = pd.merge(pd.read_csv(DATA_PATH+'waterpumps/train_features.csv'), \n",
        "                 pd.read_csv(DATA_PATH+'waterpumps/train_labels.csv'))\n",
        "\n",
        "# Read test_features.csv & sample_submission.csv\n",
        "test = pd.read_csv(DATA_PATH+'waterpumps/test_features.csv')\n",
        "sample_submission = pd.read_csv(DATA_PATH+'waterpumps/sample_submission.csv')"
      ],
      "execution_count": 0,
      "outputs": []
    },
    {
      "cell_type": "code",
      "metadata": {
        "id": "iZfOuw3UnT7q",
        "colab_type": "code",
        "colab": {}
      },
      "source": [
        "# MY CODE STARTS HERE\n",
        "\n",
        "# I'm going to copy over my code from yesterday's assignment\n",
        "import numpy as np\n",
        "from sklearn.model_selection import train_test_split\n",
        "\n",
        "# split train into train and val\n",
        "train, val = train_test_split(train, train_size=.8, test_size=.2, stratify=train['status_group'], random_state=42)\n",
        "\n",
        "# I'm going to start by mimicing the lecture and cleaning it like how they did\n",
        "def fix_data(X):\n",
        "  X = X.copy() # avoid copy warnings\n",
        "\n",
        "  # Clean zeros\n",
        "  X['latitude'] = X['latitude'].replace(-2e-08,0)\n",
        "  cols = ['longitude','latitude','construction_year','gps_height','population']\n",
        "  for col in cols:\n",
        "    X[col] = X[col].replace(0, np.nan)\n",
        "    X[col+'_MISSING']= X[col].isnull()\n",
        "  \n",
        "  # Drop duplicate columns\n",
        "  duplicates = ['quantity_group','payment_type']\n",
        "  X = X.drop(columns=duplicates)\n",
        "\n",
        "  # Drop recorded_by and id, as they're unhelpful columns of data\n",
        "  X = X.drop(columns=['recorded_by','id'])\n",
        "\n",
        "  # Convert date_recorded to a datetime format\n",
        "  X['date_recorded'] = pd.to_datetime(X['date_recorded'], infer_datetime_format=True)\n",
        "\n",
        "  # Extract individual date components from the new format and get rid of the original column\n",
        "  X['year_recorded'] = X['date_recorded'].dt.year\n",
        "  X['month_recorded'] = X['date_recorded'].dt.month\n",
        "  X['day_recorded'] = X['date_recorded'].dt.day\n",
        "  X = X.drop(columns='date_recorded')\n",
        "\n",
        "  # Create a feature that shows how many years it's been since its construction\n",
        "  X['years'] = X['year_recorded'] - X['construction_year']\n",
        "  X['years_MISSING'] = X['years'].isnull()\n",
        "\n",
        "  return X\n",
        "\n",
        "train = fix_data(train)\n",
        "val = fix_data(val)\n",
        "test = fix_data(test)\n",
        "\n",
        "# set up features and target\n",
        "target = 'status_group'\n",
        "\n",
        "features = train.drop(columns=[target])\n",
        "\n",
        "# grab numerical features\n",
        "num_feats = features.select_dtypes(include='number').columns.tolist()\n",
        "\n",
        "# grab low-cardinal catagorical features\n",
        "cat_feats = features.select_dtypes(exclude='number').nunique()\n",
        "cat_feats = cat_feats[cat_feats <= 50].index.tolist()\n",
        "\n",
        "# concat the lists\n",
        "features = num_feats + cat_feats\n",
        "\n",
        "# Create feature and target matricies\n",
        "X_train = train[features]\n",
        "y_train = train[target]\n",
        "X_val = val[features]\n",
        "y_val = val[target]\n",
        "X_test = test[features]"
      ],
      "execution_count": 0,
      "outputs": []
    },
    {
      "cell_type": "code",
      "metadata": {
        "id": "dY19Det-Y81D",
        "colab_type": "code",
        "colab": {
          "base_uri": "https://localhost:8080/",
          "height": 730
        },
        "outputId": "344626f0-ddbf-468c-b521-418fdd66d95a"
      },
      "source": [
        "# Modelling starts here\n",
        "\n",
        "# This time around I'm going to see if I can use ROC AUCs with Randomized Searches\n",
        "# to fine-tune my RandomForest to the max.\n",
        "# From what I know so far, my run of max_depth=20, n_estimators=100 was very successful -\n",
        "# my best run so far. I want to see if I can use Randomized Searches to fine-tune\n",
        "# those values and get even better results using some sort of loop.\n",
        "# Take the best results of a search, set it as the middle value of a more precise\n",
        "# search, rinse and repeat.\n",
        "\n",
        "# Set up pipeline\n",
        "from sklearn.pipeline import make_pipeline\n",
        "from sklearn.ensemble import RandomForestClassifier\n",
        "from sklearn.impute import SimpleImputer\n",
        "import category_encoders as ce\n",
        "from sklearn.model_selection import RandomizedSearchCV\n",
        "from scipy.stats import uniform\n",
        "import decimal\n",
        "\n",
        "pipeline = make_pipeline(\n",
        "    ce.OrdinalEncoder(),\n",
        "    SimpleImputer(),\n",
        "    RandomForestClassifier(random_state=42, n_jobs=-1)\n",
        ")\n",
        "\n",
        "# I plan to update these as I fine-tune the searches\n",
        "max_depth = 20\n",
        "n_estimators = 100\n",
        "max_features = .3\n",
        "param_distributions = {\n",
        "    'simpleimputer__strategy': ['mean','median']\n",
        "}\n",
        "\n",
        "# run the search 3 times, each time getting more specialized\n",
        "for x in [.5, .25, .1]:\n",
        "  # set up each feature for the parameters\n",
        "  param_distributions['randomforestclassifier__max_depth'] = range(\n",
        "      int(max_depth - (max_depth * x)),\n",
        "      int(max_depth + (max_depth * x) + 2),\n",
        "      1\n",
        "  )\n",
        "  param_distributions['randomforestclassifier__n_estimators'] = range(\n",
        "      int(n_estimators - (n_estimators * x)),\n",
        "      int(n_estimators + (n_estimators * x) + 1),\n",
        "      int(x * 10)\n",
        "  )\n",
        "  param_distributions['randomforestclassifier__max_features'] = [(x/1000) for x in range(\n",
        "      int((max_features - (max_features * x)) * 1000),\n",
        "      int((max_features + (max_features * x)) * 1000 + 1),\n",
        "      int((max_features / 10) * 1000)\n",
        "  )]\n",
        "\n",
        "  # do the search\n",
        "  search = RandomizedSearchCV(\n",
        "      pipeline,\n",
        "      param_distributions=param_distributions,\n",
        "      n_iter=10,\n",
        "      cv=5,\n",
        "      scoring='accuracy',\n",
        "      verbose=10,\n",
        "      return_train_score=True,\n",
        "      n_jobs=-1\n",
        "  )\n",
        "\n",
        "  # fit it to the data to get accuracies\n",
        "  search.fit(X_train, y_train)\n",
        "\n",
        "  # update the variables to run the loop again\n",
        "  max_depth = search.best_params_['randomforestclassifier__max_depth']\n",
        "  n_estimators = search.best_params_['randomforestclassifier__n_estimators']\n",
        "  max_features = search.best_params_['randomforestclassifier__max_features']\n",
        "\n",
        "  print('Best Hyperparameters:',search.best_params_)\n",
        "  print('Cross Validation Accuracy:',search.best_score_)"
      ],
      "execution_count": 7,
      "outputs": [
        {
          "output_type": "stream",
          "text": [
            "Fitting 5 folds for each of 10 candidates, totalling 50 fits\n"
          ],
          "name": "stdout"
        },
        {
          "output_type": "stream",
          "text": [
            "[Parallel(n_jobs=-1)]: Using backend LokyBackend with 2 concurrent workers.\n",
            "[Parallel(n_jobs=-1)]: Done   1 tasks      | elapsed:   35.2s\n",
            "[Parallel(n_jobs=-1)]: Done   4 tasks      | elapsed:  1.2min\n",
            "[Parallel(n_jobs=-1)]: Done   9 tasks      | elapsed:  2.5min\n",
            "[Parallel(n_jobs=-1)]: Done  14 tasks      | elapsed:  3.2min\n",
            "[Parallel(n_jobs=-1)]: Done  21 tasks      | elapsed:  4.5min\n",
            "[Parallel(n_jobs=-1)]: Done  28 tasks      | elapsed:  5.5min\n",
            "[Parallel(n_jobs=-1)]: Done  37 tasks      | elapsed:  6.8min\n",
            "[Parallel(n_jobs=-1)]: Done  46 tasks      | elapsed:  8.0min\n",
            "[Parallel(n_jobs=-1)]: Done  50 out of  50 | elapsed:  8.2min finished\n"
          ],
          "name": "stderr"
        },
        {
          "output_type": "stream",
          "text": [
            "Best Hyperparameters: {'simpleimputer__strategy': 'mean', 'randomforestclassifier__n_estimators': 95, 'randomforestclassifier__max_features': 0.18, 'randomforestclassifier__max_depth': 20}\n",
            "Cross Validation Accuracy: 0.8038930976430976\n",
            "Fitting 5 folds for each of 10 candidates, totalling 50 fits\n"
          ],
          "name": "stdout"
        },
        {
          "output_type": "stream",
          "text": [
            "[Parallel(n_jobs=-1)]: Using backend LokyBackend with 2 concurrent workers.\n",
            "[Parallel(n_jobs=-1)]: Done   1 tasks      | elapsed:   12.2s\n",
            "[Parallel(n_jobs=-1)]: Done   4 tasks      | elapsed:   24.3s\n",
            "[Parallel(n_jobs=-1)]: Done   9 tasks      | elapsed:   58.1s\n",
            "[Parallel(n_jobs=-1)]: Done  14 tasks      | elapsed:  1.5min\n",
            "[Parallel(n_jobs=-1)]: Done  21 tasks      | elapsed:  2.5min\n",
            "[Parallel(n_jobs=-1)]: Done  28 tasks      | elapsed:  3.2min\n",
            "[Parallel(n_jobs=-1)]: Done  37 tasks      | elapsed:  4.2min\n",
            "[Parallel(n_jobs=-1)]: Done  46 tasks      | elapsed:  5.3min\n",
            "[Parallel(n_jobs=-1)]: Done  50 out of  50 | elapsed:  5.8min finished\n"
          ],
          "name": "stderr"
        },
        {
          "output_type": "stream",
          "text": [
            "Best Hyperparameters: {'simpleimputer__strategy': 'median', 'randomforestclassifier__n_estimators': 83, 'randomforestclassifier__max_features': 0.135, 'randomforestclassifier__max_depth': 21}\n",
            "Cross Validation Accuracy: 0.8048400673400673\n",
            "Fitting 5 folds for each of 10 candidates, totalling 50 fits\n"
          ],
          "name": "stdout"
        },
        {
          "output_type": "stream",
          "text": [
            "[Parallel(n_jobs=-1)]: Using backend LokyBackend with 2 concurrent workers.\n",
            "[Parallel(n_jobs=-1)]: Done   1 tasks      | elapsed:   11.5s\n",
            "[Parallel(n_jobs=-1)]: Done   4 tasks      | elapsed:   22.9s\n",
            "[Parallel(n_jobs=-1)]: Done   9 tasks      | elapsed:   53.6s\n",
            "[Parallel(n_jobs=-1)]: Done  14 tasks      | elapsed:  1.3min\n",
            "[Parallel(n_jobs=-1)]: Done  21 tasks      | elapsed:  2.0min\n",
            "[Parallel(n_jobs=-1)]: Done  28 tasks      | elapsed:  2.6min\n",
            "[Parallel(n_jobs=-1)]: Done  37 tasks      | elapsed:  3.5min\n",
            "[Parallel(n_jobs=-1)]: Done  46 tasks      | elapsed:  4.4min\n",
            "[Parallel(n_jobs=-1)]: Done  50 out of  50 | elapsed:  4.7min finished\n"
          ],
          "name": "stderr"
        },
        {
          "output_type": "stream",
          "text": [
            "Best Hyperparameters: {'simpleimputer__strategy': 'median', 'randomforestclassifier__n_estimators': 82, 'randomforestclassifier__max_features': 0.134, 'randomforestclassifier__max_depth': 20}\n",
            "Cross Validation Accuracy: 0.8055765993265993\n"
          ],
          "name": "stdout"
        }
      ]
    },
    {
      "cell_type": "code",
      "metadata": {
        "id": "aIWSdzIamE2T",
        "colab_type": "code",
        "colab": {
          "base_uri": "https://localhost:8080/",
          "height": 384
        },
        "outputId": "452590d7-50ea-4a38-a805-697d3c18401e"
      },
      "source": [
        "# okay, now that that's done, I can optimize it with ROC AUC\n",
        "\n",
        "# First, grab the best model from the last search\n",
        "pipeline = search.best_estimator_\n",
        "pipeline.fit(X_train, y_train)\n",
        "\n",
        "# make a confusion matrix and see where the problems are\n",
        "from sklearn.metrics import plot_confusion_matrix\n",
        "plot_confusion_matrix(pipeline, X_val, y_val, values_format='.0f',xticks_rotation='vertical')\n",
        "\n",
        "# Grab the predicted probas for fiddling with thresholds later\n",
        "y_pred_proba = pipeline.predict_proba(X_val)[:,1]"
      ],
      "execution_count": 14,
      "outputs": [
        {
          "output_type": "display_data",
          "data": {
            "image/png": "[encoded data removed]",
            "text/plain": [
              "<Figure size 432x288 with 2 Axes>"
            ]
          },
          "metadata": {
            "tags": []
          }
        }
      ]
    },
    {
      "cell_type": "code",
      "metadata": {
        "id": "ScgEifJo_8rY",
        "colab_type": "code",
        "colab": {
          "base_uri": "https://localhost:8080/",
          "height": 524,
          "referenced_widgets": [
            "246355112f034d39baf95acff6e87b4c",
            "bbee47281f9745dfaf06f4d2a7840da6",
            "8fa93dca6ac04401affeafec1fbced8b",
            "2eb165e40ca4454498de886b662c95f3",
            "7da184ba079146d681b1980a5258c4f1",
            "d4a050d47350423a837772bdaa81bcaa",
            "737773e5c08a4f5994518bb06fee9703",
            "8c1d6b120e37483596bf468fedfd63c6",
            "e7a57eff21b444788e00f41ffbbed532"
          ]
        },
        "outputId": "c6075836-a8d4-4754-8168-37392c3f3378"
      },
      "source": [
        "# Set up an interactive confusion matrix slash distplot\n",
        "from sklearn.metrics import classification_report\n",
        "import seaborn as sns\n",
        "from ipywidgets import interact, fixed\n",
        "import matplotlib.pyplot as plt\n",
        "def show_confusion_matrix_graph(y_true, y_pred_proba, good_thresh=0.5, ok_thresh=0.25):\n",
        "  y_pred = []\n",
        "  for val in y_pred_proba:\n",
        "    if val > good_thresh:\n",
        "      y_pred.append('functional')\n",
        "    elif val < good_thresh and val > ok_thresh:\n",
        "      y_pred.append('functional needs repair')\n",
        "    else:\n",
        "      y_pred.append('non functional')\n",
        "  ax = sns.distplot(y_pred_proba)\n",
        "  ax.axvline(good_thresh, color='green')\n",
        "  ax.axvline(ok_thresh, color='red')\n",
        "  plt.show()\n",
        "  print(classification_report(y_val, y_pred))\n",
        "\n",
        "interact(show_confusion_matrix_graph, \n",
        "         y_true=fixed(y_val), \n",
        "         y_pred_proba=fixed(y_pred_proba),\n",
        "         good_thresh=(0, 1, .02),\n",
        "         ok_thresh=(0, 1, .02))"
      ],
      "execution_count": 17,
      "outputs": [
        {
          "output_type": "display_data",
          "data": {
            "application/vnd.jupyter.widget-view+json": {
              "model_id": "246355112f034d39baf95acff6e87b4c",
              "version_minor": 0,
              "version_major": 2
            },
            "text/plain": [
              "interactive(children=(FloatSlider(value=0.5, description='good_thresh', max=1.0, step=0.02), FloatSlider(value…"
            ]
          },
          "metadata": {
            "tags": []
          }
        },
        {
          "output_type": "execute_result",
          "data": {
            "text/plain": [
              "<function __main__.show_confusion_matrix_graph>"
            ]
          },
          "metadata": {
            "tags": []
          },
          "execution_count": 17
        }
      ]
    },
    {
      "cell_type": "code",
      "metadata": {
        "id": "h9EePSV6JDO3",
        "colab_type": "code",
        "colab": {
          "base_uri": "https://localhost:8080/",
          "height": 352
        },
        "outputId": "49313f79-1ac6-4cfd-bae9-06a63e1f64b5"
      },
      "source": [
        "# this tells me nothing other than this was a bad idea, lets not implement it\n",
        "\n",
        "# instead lets see what ROC AUC tells me\n",
        "y_pred = pipeline.predict(X_val)\n",
        "from sklearn.metrics import roc_auc_score\n",
        "roc_auc_score(y_val, y_pred)\n",
        "\n",
        "# This doesn't work because my output is not binary and also not numerical"
      ],
      "execution_count": 20,
      "outputs": [
        {
          "output_type": "error",
          "ename": "ValueError",
          "evalue": "ignored",
          "traceback": [
            "\u001b[0;31m---------------------------------------------------------------------------\u001b[0m",
            "\u001b[0;31mValueError\u001b[0m                                Traceback (most recent call last)",
            "\u001b[0;32m<ipython-input-20-ef907fb19636>\u001b[0m in \u001b[0;36m<module>\u001b[0;34m()\u001b[0m\n\u001b[1;32m      1\u001b[0m \u001b[0my_pred\u001b[0m \u001b[0;34m=\u001b[0m \u001b[0mpipeline\u001b[0m\u001b[0;34m.\u001b[0m\u001b[0mpredict\u001b[0m\u001b[0;34m(\u001b[0m\u001b[0mX_val\u001b[0m\u001b[0;34m)\u001b[0m\u001b[0;34m\u001b[0m\u001b[0;34m\u001b[0m\u001b[0m\n\u001b[1;32m      2\u001b[0m \u001b[0;32mfrom\u001b[0m \u001b[0msklearn\u001b[0m\u001b[0;34m.\u001b[0m\u001b[0mmetrics\u001b[0m \u001b[0;32mimport\u001b[0m \u001b[0mroc_auc_score\u001b[0m\u001b[0;34m\u001b[0m\u001b[0;34m\u001b[0m\u001b[0m\n\u001b[0;32m----> 3\u001b[0;31m \u001b[0mroc_auc_score\u001b[0m\u001b[0;34m(\u001b[0m\u001b[0my_val\u001b[0m\u001b[0;34m,\u001b[0m \u001b[0my_pred\u001b[0m\u001b[0;34m)\u001b[0m\u001b[0;34m\u001b[0m\u001b[0;34m\u001b[0m\u001b[0m\n\u001b[0m",
            "\u001b[0;32m/usr/local/lib/python3.6/dist-packages/sklearn/metrics/_ranking.py\u001b[0m in \u001b[0;36mroc_auc_score\u001b[0;34m(y_true, y_score, average, sample_weight, max_fpr, multi_class, labels)\u001b[0m\n\u001b[1;32m    367\u001b[0m     \u001b[0my_type\u001b[0m \u001b[0;34m=\u001b[0m \u001b[0mtype_of_target\u001b[0m\u001b[0;34m(\u001b[0m\u001b[0my_true\u001b[0m\u001b[0;34m)\u001b[0m\u001b[0;34m\u001b[0m\u001b[0;34m\u001b[0m\u001b[0m\n\u001b[1;32m    368\u001b[0m     \u001b[0my_true\u001b[0m \u001b[0;34m=\u001b[0m \u001b[0mcheck_array\u001b[0m\u001b[0;34m(\u001b[0m\u001b[0my_true\u001b[0m\u001b[0;34m,\u001b[0m \u001b[0mensure_2d\u001b[0m\u001b[0;34m=\u001b[0m\u001b[0;32mFalse\u001b[0m\u001b[0;34m,\u001b[0m \u001b[0mdtype\u001b[0m\u001b[0;34m=\u001b[0m\u001b[0;32mNone\u001b[0m\u001b[0;34m)\u001b[0m\u001b[0;34m\u001b[0m\u001b[0;34m\u001b[0m\u001b[0m\n\u001b[0;32m--> 369\u001b[0;31m     \u001b[0my_score\u001b[0m \u001b[0;34m=\u001b[0m \u001b[0mcheck_array\u001b[0m\u001b[0;34m(\u001b[0m\u001b[0my_score\u001b[0m\u001b[0;34m,\u001b[0m \u001b[0mensure_2d\u001b[0m\u001b[0;34m=\u001b[0m\u001b[0;32mFalse\u001b[0m\u001b[0;34m)\u001b[0m\u001b[0;34m\u001b[0m\u001b[0;34m\u001b[0m\u001b[0m\n\u001b[0m\u001b[1;32m    370\u001b[0m \u001b[0;34m\u001b[0m\u001b[0m\n\u001b[1;32m    371\u001b[0m     if y_type == \"multiclass\" or (y_type == \"binary\" and\n",
            "\u001b[0;32m/usr/local/lib/python3.6/dist-packages/sklearn/utils/validation.py\u001b[0m in \u001b[0;36mcheck_array\u001b[0;34m(array, accept_sparse, accept_large_sparse, dtype, order, copy, force_all_finite, ensure_2d, allow_nd, ensure_min_samples, ensure_min_features, warn_on_dtype, estimator)\u001b[0m\n\u001b[1;32m    529\u001b[0m                     \u001b[0marray\u001b[0m \u001b[0;34m=\u001b[0m \u001b[0marray\u001b[0m\u001b[0;34m.\u001b[0m\u001b[0mastype\u001b[0m\u001b[0;34m(\u001b[0m\u001b[0mdtype\u001b[0m\u001b[0;34m,\u001b[0m \u001b[0mcasting\u001b[0m\u001b[0;34m=\u001b[0m\u001b[0;34m\"unsafe\"\u001b[0m\u001b[0;34m,\u001b[0m \u001b[0mcopy\u001b[0m\u001b[0;34m=\u001b[0m\u001b[0;32mFalse\u001b[0m\u001b[0;34m)\u001b[0m\u001b[0;34m\u001b[0m\u001b[0;34m\u001b[0m\u001b[0m\n\u001b[1;32m    530\u001b[0m                 \u001b[0;32melse\u001b[0m\u001b[0;34m:\u001b[0m\u001b[0;34m\u001b[0m\u001b[0;34m\u001b[0m\u001b[0m\n\u001b[0;32m--> 531\u001b[0;31m                     \u001b[0marray\u001b[0m \u001b[0;34m=\u001b[0m \u001b[0mnp\u001b[0m\u001b[0;34m.\u001b[0m\u001b[0masarray\u001b[0m\u001b[0;34m(\u001b[0m\u001b[0marray\u001b[0m\u001b[0;34m,\u001b[0m \u001b[0morder\u001b[0m\u001b[0;34m=\u001b[0m\u001b[0morder\u001b[0m\u001b[0;34m,\u001b[0m \u001b[0mdtype\u001b[0m\u001b[0;34m=\u001b[0m\u001b[0mdtype\u001b[0m\u001b[0;34m)\u001b[0m\u001b[0;34m\u001b[0m\u001b[0;34m\u001b[0m\u001b[0m\n\u001b[0m\u001b[1;32m    532\u001b[0m             \u001b[0;32mexcept\u001b[0m \u001b[0mComplexWarning\u001b[0m\u001b[0;34m:\u001b[0m\u001b[0;34m\u001b[0m\u001b[0;34m\u001b[0m\u001b[0m\n\u001b[1;32m    533\u001b[0m                 raise ValueError(\"Complex data not supported\\n\"\n",
            "\u001b[0;32m/usr/local/lib/python3.6/dist-packages/numpy/core/_asarray.py\u001b[0m in \u001b[0;36masarray\u001b[0;34m(a, dtype, order)\u001b[0m\n\u001b[1;32m     83\u001b[0m \u001b[0;34m\u001b[0m\u001b[0m\n\u001b[1;32m     84\u001b[0m     \"\"\"\n\u001b[0;32m---> 85\u001b[0;31m     \u001b[0;32mreturn\u001b[0m \u001b[0marray\u001b[0m\u001b[0;34m(\u001b[0m\u001b[0ma\u001b[0m\u001b[0;34m,\u001b[0m \u001b[0mdtype\u001b[0m\u001b[0;34m,\u001b[0m \u001b[0mcopy\u001b[0m\u001b[0;34m=\u001b[0m\u001b[0;32mFalse\u001b[0m\u001b[0;34m,\u001b[0m \u001b[0morder\u001b[0m\u001b[0;34m=\u001b[0m\u001b[0morder\u001b[0m\u001b[0;34m)\u001b[0m\u001b[0;34m\u001b[0m\u001b[0;34m\u001b[0m\u001b[0m\n\u001b[0m\u001b[1;32m     86\u001b[0m \u001b[0;34m\u001b[0m\u001b[0m\n\u001b[1;32m     87\u001b[0m \u001b[0;34m\u001b[0m\u001b[0m\n",
            "\u001b[0;31mValueError\u001b[0m: could not convert string to float: 'non functional'"
          ]
        }
      ]
    },
    {
      "cell_type": "code",
      "metadata": {
        "id": "tgYzrtPCPHGI",
        "colab_type": "code",
        "colab": {
          "base_uri": "https://localhost:8080/",
          "height": 227
        },
        "outputId": "692d1be7-145e-4a0f-e72b-bb0e70b1fda9"
      },
      "source": [
        "# If the above code is working, it means I updated it to look for only which water pumps are functional\n",
        "# or in need of repair, if it's not, feel free to ignore it.\n",
        "# get my predictions\n",
        "y_pred = pipeline.predict(X_test)\n",
        "\n",
        "test = pd.read_csv(DATA_PATH+'waterpumps/test_features.csv')\n",
        "kaggle_sub = pd.DataFrame(data=y_pred,index=test['id'],columns=['status_group'])\n",
        "\n",
        "kaggle_sub.head()"
      ],
      "execution_count": 21,
      "outputs": [
        {
          "output_type": "execute_result",
          "data": {
            "text/html": [
              "<div>\n",
              "<style scoped>\n",
              "    .dataframe tbody tr th:only-of-type {\n",
              "        vertical-align: middle;\n",
              "    }\n",
              "\n",
              "    .dataframe tbody tr th {\n",
              "        vertical-align: top;\n",
              "    }\n",
              "\n",
              "    .dataframe thead th {\n",
              "        text-align: right;\n",
              "    }\n",
              "</style>\n",
              "<table border=\"1\" class=\"dataframe\">\n",
              "  <thead>\n",
              "    <tr style=\"text-align: right;\">\n",
              "      <th></th>\n",
              "      <th>status_group</th>\n",
              "    </tr>\n",
              "    <tr>\n",
              "      <th>id</th>\n",
              "      <th></th>\n",
              "    </tr>\n",
              "  </thead>\n",
              "  <tbody>\n",
              "    <tr>\n",
              "      <th>50785</th>\n",
              "      <td>non functional</td>\n",
              "    </tr>\n",
              "    <tr>\n",
              "      <th>51630</th>\n",
              "      <td>functional</td>\n",
              "    </tr>\n",
              "    <tr>\n",
              "      <th>17168</th>\n",
              "      <td>functional</td>\n",
              "    </tr>\n",
              "    <tr>\n",
              "      <th>45559</th>\n",
              "      <td>non functional</td>\n",
              "    </tr>\n",
              "    <tr>\n",
              "      <th>49871</th>\n",
              "      <td>functional</td>\n",
              "    </tr>\n",
              "  </tbody>\n",
              "</table>\n",
              "</div>"
            ],
            "text/plain": [
              "         status_group\n",
              "id                   \n",
              "50785  non functional\n",
              "51630      functional\n",
              "17168      functional\n",
              "45559  non functional\n",
              "49871      functional"
            ]
          },
          "metadata": {
            "tags": []
          },
          "execution_count": 21
        }
      ]
    },
    {
      "cell_type": "code",
      "metadata": {
        "id": "fajg0Tw9fw4f",
        "colab_type": "code",
        "colab": {
          "base_uri": "https://localhost:8080/",
          "height": 197
        },
        "outputId": "af770e56-1a94-4bf6-e704-acf78ade8b08"
      },
      "source": [
        "sample_submission.head()"
      ],
      "execution_count": 22,
      "outputs": [
        {
          "output_type": "execute_result",
          "data": {
            "text/html": [
              "<div>\n",
              "<style scoped>\n",
              "    .dataframe tbody tr th:only-of-type {\n",
              "        vertical-align: middle;\n",
              "    }\n",
              "\n",
              "    .dataframe tbody tr th {\n",
              "        vertical-align: top;\n",
              "    }\n",
              "\n",
              "    .dataframe thead th {\n",
              "        text-align: right;\n",
              "    }\n",
              "</style>\n",
              "<table border=\"1\" class=\"dataframe\">\n",
              "  <thead>\n",
              "    <tr style=\"text-align: right;\">\n",
              "      <th></th>\n",
              "      <th>id</th>\n",
              "      <th>status_group</th>\n",
              "    </tr>\n",
              "  </thead>\n",
              "  <tbody>\n",
              "    <tr>\n",
              "      <th>0</th>\n",
              "      <td>50785</td>\n",
              "      <td>functional</td>\n",
              "    </tr>\n",
              "    <tr>\n",
              "      <th>1</th>\n",
              "      <td>51630</td>\n",
              "      <td>functional</td>\n",
              "    </tr>\n",
              "    <tr>\n",
              "      <th>2</th>\n",
              "      <td>17168</td>\n",
              "      <td>functional</td>\n",
              "    </tr>\n",
              "    <tr>\n",
              "      <th>3</th>\n",
              "      <td>45559</td>\n",
              "      <td>functional</td>\n",
              "    </tr>\n",
              "    <tr>\n",
              "      <th>4</th>\n",
              "      <td>49871</td>\n",
              "      <td>functional</td>\n",
              "    </tr>\n",
              "  </tbody>\n",
              "</table>\n",
              "</div>"
            ],
            "text/plain": [
              "      id status_group\n",
              "0  50785   functional\n",
              "1  51630   functional\n",
              "2  17168   functional\n",
              "3  45559   functional\n",
              "4  49871   functional"
            ]
          },
          "metadata": {
            "tags": []
          },
          "execution_count": 22
        }
      ]
    },
    {
      "cell_type": "code",
      "metadata": {
        "id": "nZK03FhWf11Q",
        "colab_type": "code",
        "colab": {}
      },
      "source": [
        "kaggle_sub.to_csv('Zachary_Luck_03_19_2020_Lambda_Kaggle_Challenge.csv')"
      ],
      "execution_count": 0,
      "outputs": []
    },
    {
      "cell_type": "code",
      "metadata": {
        "id": "3EPpOn55f3im",
        "colab_type": "code",
        "colab": {
          "base_uri": "https://localhost:8080/",
          "height": 215
        },
        "outputId": "b4909ecf-c74c-4b1e-cdad-35be45cbd61d"
      },
      "source": [
        "# Check to make sure it works\n",
        "testdf = pd.read_csv('Zachary_Luck_03_19_2020_Lambda_Kaggle_Challenge.csv')\n",
        "\n",
        "print(testdf.shape)\n",
        "testdf.head()"
      ],
      "execution_count": 26,
      "outputs": [
        {
          "output_type": "stream",
          "text": [
            "(14358, 2)\n"
          ],
          "name": "stdout"
        },
        {
          "output_type": "execute_result",
          "data": {
            "text/html": [
              "<div>\n",
              "<style scoped>\n",
              "    .dataframe tbody tr th:only-of-type {\n",
              "        vertical-align: middle;\n",
              "    }\n",
              "\n",
              "    .dataframe tbody tr th {\n",
              "        vertical-align: top;\n",
              "    }\n",
              "\n",
              "    .dataframe thead th {\n",
              "        text-align: right;\n",
              "    }\n",
              "</style>\n",
              "<table border=\"1\" class=\"dataframe\">\n",
              "  <thead>\n",
              "    <tr style=\"text-align: right;\">\n",
              "      <th></th>\n",
              "      <th>id</th>\n",
              "      <th>status_group</th>\n",
              "    </tr>\n",
              "  </thead>\n",
              "  <tbody>\n",
              "    <tr>\n",
              "      <th>0</th>\n",
              "      <td>50785</td>\n",
              "      <td>non functional</td>\n",
              "    </tr>\n",
              "    <tr>\n",
              "      <th>1</th>\n",
              "      <td>51630</td>\n",
              "      <td>functional</td>\n",
              "    </tr>\n",
              "    <tr>\n",
              "      <th>2</th>\n",
              "      <td>17168</td>\n",
              "      <td>functional</td>\n",
              "    </tr>\n",
              "    <tr>\n",
              "      <th>3</th>\n",
              "      <td>45559</td>\n",
              "      <td>non functional</td>\n",
              "    </tr>\n",
              "    <tr>\n",
              "      <th>4</th>\n",
              "      <td>49871</td>\n",
              "      <td>functional</td>\n",
              "    </tr>\n",
              "  </tbody>\n",
              "</table>\n",
              "</div>"
            ],
            "text/plain": [
              "      id    status_group\n",
              "0  50785  non functional\n",
              "1  51630      functional\n",
              "2  17168      functional\n",
              "3  45559  non functional\n",
              "4  49871      functional"
            ]
          },
          "metadata": {
            "tags": []
          },
          "execution_count": 26
        }
      ]
    },
    {
      "cell_type": "code",
      "metadata": {
        "id": "PQJmjmpGf5Bz",
        "colab_type": "code",
        "colab": {}
      },
      "source": [
        ""
      ],
      "execution_count": 0,
      "outputs": []
    }
  ]
}