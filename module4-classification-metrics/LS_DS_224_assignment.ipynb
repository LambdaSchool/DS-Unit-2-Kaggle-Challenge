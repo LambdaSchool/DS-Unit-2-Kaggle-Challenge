{
 "cells": [
  {
   "cell_type": "markdown",
   "metadata": {},
   "source": [
    "Lambda School Data Science\n",
    "\n",
    "*Unit 2, Sprint 2, Module 4*\n",
    "\n",
    "---"
   ]
  },
  {
   "cell_type": "markdown",
   "metadata": {
    "colab_type": "text",
    "id": "nCc3XZEyG3XV"
   },
   "source": [
    "# Classification Metrics\n",
    "\n",
    "## Assignment\n",
    "- [ ] If you haven't yet, [review requirements for your portfolio project](https://lambdaschool.github.io/ds/unit2), then submit your dataset.\n",
    "- [ ] Plot a confusion matrix for your Tanzania Waterpumps model.\n",
    "- [ ] Continue to participate in our Kaggle challenge. Every student should have made at least one submission that scores at least 70% accuracy (well above the majority class baseline).\n",
    "- [ ] Submit your final predictions to our Kaggle competition. Optionally, go to **My Submissions**, and _\"you may select up to 1 submission to be used to count towards your final leaderboard score.\"_\n",
    "- [ ] Commit your notebook to your fork of the GitHub repo.\n",
    "- [ ] Read [Maximizing Scarce Maintenance Resources with Data: Applying predictive modeling, precision at k, and clustering to optimize impact](https://towardsdatascience.com/maximizing-scarce-maintenance-resources-with-data-8f3491133050), by Lambda DS3 student Michael Brady. His blog post extends the Tanzania Waterpumps scenario, far beyond what's in the lecture notebook.\n",
    "\n",
    "\n",
    "## Stretch Goals\n",
    "\n",
    "### Reading\n",
    "\n",
    "- [Attacking discrimination with smarter machine learning](https://research.google.com/bigpicture/attacking-discrimination-in-ml/), by Google Research, with  interactive visualizations. _\"A threshold classifier essentially makes a yes/no decision, putting things in one category or another. We look at how these classifiers work, ways they can potentially be unfair, and how you might turn an unfair classifier into a fairer one. As an illustrative example, we focus on loan granting scenarios where a bank may grant or deny a loan based on a single, automatically computed number such as a credit score.\"_\n",
    "- [Notebook about how to calculate expected value from a confusion matrix by treating it as a cost-benefit matrix](https://github.com/podopie/DAT18NYC/blob/master/classes/13-expected_value_cost_benefit_analysis.ipynb)\n",
    "- [Visualizing Machine Learning Thresholds to Make Better Business Decisions](https://blog.insightdatascience.com/visualizing-machine-learning-thresholds-to-make-better-business-decisions-4ab07f823415)\n",
    "\n",
    "\n",
    "### Doing\n",
    "- [ ] Share visualizations in our Slack channel!\n",
    "- [ ] RandomizedSearchCV / GridSearchCV, for model selection. (See module 3 assignment notebook)\n",
    "- [ ] Stacking Ensemble. (See module 3 assignment notebook)\n",
    "- [ ] More Categorical Encoding. (See module 2 assignment notebook)"
   ]
  },
  {
   "cell_type": "code",
   "execution_count": 54,
   "metadata": {
    "colab": {},
    "colab_type": "code",
    "id": "lsbRiKBoB5RE"
   },
   "outputs": [],
   "source": [
    "%%capture\n",
    "import sys\n",
    "\n",
    "# If you're on Colab:\n",
    "if 'google.colab' in sys.modules:\n",
    "    DATA_PATH = 'https://raw.githubusercontent.com/LambdaSchool/DS-Unit-2-Kaggle-Challenge/master/data/'\n",
    "    !pip install category_encoders==2.*\n",
    "\n",
    "# If you're working locally:\n",
    "else:\n",
    "    DATA_PATH = '../data/'"
   ]
  },
  {
   "cell_type": "code",
   "execution_count": 55,
   "metadata": {
    "colab": {},
    "colab_type": "code",
    "id": "BVA1lph8CcNX"
   },
   "outputs": [],
   "source": [
    "import pandas as pd\n",
    "\n",
    "# Merge train_features.csv & train_labels.csv\n",
    "train = pd.merge(pd.read_csv(DATA_PATH+'waterpumps/train_features.csv'), \n",
    "                 pd.read_csv(DATA_PATH+'waterpumps/train_labels.csv'))\n",
    "\n",
    "# Read test_features.csv & sample_submission.csv\n",
    "test = pd.read_csv(DATA_PATH+'waterpumps/test_features.csv')\n",
    "sample_submission = pd.read_csv(DATA_PATH+'waterpumps/sample_submission.csv')"
   ]
  },
  {
   "cell_type": "code",
   "execution_count": 56,
   "metadata": {},
   "outputs": [],
   "source": [
    "# import numpy\n",
    "import numpy as np\n",
    "\n",
    "# Define function to wrangle my data\n",
    "def func_wrangle(X):\n",
    "    X = X.copy()\n",
    "    \n",
    "    # Set some conditions to fix 0 in numeric columns\n",
    "    X['latitude'] = X['latitude'].replace(-2e-08, 0)\n",
    "    \n",
    "    # Replace 0 with NaN\n",
    "    fill_zeros = ['longitude', 'latitude']\n",
    "    for column in fill_zeros:\n",
    "        X[column] = X[column].replace(0, np.nan)\n",
    "    \n",
    "    # Drop duplicate / useless columns\n",
    "    X = X.drop(columns=['quality_group', 'source_type', 'source_class', 'quantity_group', 'payment_type', \n",
    "                        'extraction_type', 'extraction_type_group', 'waterpoint_type',\n",
    "                       'amount_tsh', 'scheme_name', 'wpt_name'])\n",
    "    \n",
    "    # Set numeric and Categorical columns\n",
    "    numbers = X.select_dtypes('number').columns\n",
    "    categorical_features = X.select_dtypes('object').columns\n",
    "    \n",
    "    # Check if categorical has nulls.\n",
    "    # Get nunique / Less encode\n",
    "    for column in categorical_features:\n",
    "        # If null values greater than 0\n",
    "        if X[column].isnull().sum() > 0:\n",
    "            # If number of unique options greater than 5\n",
    "            if X[column].nunique() > 5:\n",
    "                # Get 5 most frequent, impute Other for everything else\n",
    "                frequent = X[column].value_counts()[:5].index\n",
    "                X.loc[~X[column].isin(frequent), column] = 'Other'\n",
    "            # Less than 5, encode all possible values, Impute Other for everything else\n",
    "            else:\n",
    "                possible_values = X[column].unique()\n",
    "                X.loc[~X[column].isin(possible_values), column] = 'Other'\n",
    "        # If cardinality greater than 35 values\n",
    "        if X[column].nunique() > 20:\n",
    "            # Bring it down to 10\n",
    "            frequent = X[column].value_counts()[:10].index\n",
    "            X.loc[~X[column].isin(frequent), column] = 'Other'\n",
    "    \n",
    "    con = ['construction_year']\n",
    "    for col in con:\n",
    "        X[col] = X[col].replace(0, 1997)\n",
    "    \n",
    "    return X"
   ]
  },
  {
   "cell_type": "code",
   "execution_count": 57,
   "metadata": {},
   "outputs": [],
   "source": [
    "# clean train and test splits\n",
    "train = func_wrangle(train)\n",
    "test = func_wrangle(test)"
   ]
  },
  {
   "cell_type": "code",
   "execution_count": 58,
   "metadata": {},
   "outputs": [],
   "source": [
    "def get_year(string):\n",
    "    a = string[:4]\n",
    "    if a == 'Othe':\n",
    "        a = 2011\n",
    "    return a"
   ]
  },
  {
   "cell_type": "code",
   "execution_count": 59,
   "metadata": {},
   "outputs": [],
   "source": [
    "train['year_recorded'] = train['date_recorded'].apply(get_year)\n",
    "test['year_recorded'] = test['date_recorded'].apply(get_year)"
   ]
  },
  {
   "cell_type": "code",
   "execution_count": 60,
   "metadata": {},
   "outputs": [],
   "source": [
    "# Engineer difference between year recorded and year constructed.\n",
    "difference_train = train[['year_recorded', 'construction_year']].diff(axis=1).loc[:,'construction_year']\n",
    "difference_test = test[['year_recorded', 'construction_year']].diff(axis=1).loc[:,'construction_year']\n",
    "\n",
    "train = pd.concat((train, difference_train.rename('time_difference').abs()), axis=1)\n",
    "test = pd.concat((test, difference_test.rename('time_difference').abs()), axis=1)"
   ]
  },
  {
   "cell_type": "code",
   "execution_count": 61,
   "metadata": {},
   "outputs": [],
   "source": [
    "# Set up a hold-out validation set\n",
    "from sklearn.model_selection import train_test_split\n",
    "train, validation = train_test_split(train, test_size=.20, random_state=42)"
   ]
  },
  {
   "cell_type": "code",
   "execution_count": 62,
   "metadata": {},
   "outputs": [],
   "source": [
    "# Set test matrix\n",
    "\n",
    "target = 'status_group'\n",
    "features = train.drop(columns=['id', target]).columns\n",
    "\n",
    "X_train = train[features]\n",
    "X_val = validation[features]\n",
    "y_train = train[target]\n",
    "y_val = validation[target]\n",
    "X_test = test[features]"
   ]
  },
  {
   "cell_type": "code",
   "execution_count": 63,
   "metadata": {},
   "outputs": [],
   "source": [
    "# Prepare the pipeline for modelling\n",
    "import category_encoders as ce\n",
    "from sklearn.impute import SimpleImputer\n",
    "from sklearn.ensemble import RandomForestClassifier\n",
    "from sklearn.pipeline import make_pipeline"
   ]
  },
  {
   "cell_type": "code",
   "execution_count": 64,
   "metadata": {},
   "outputs": [],
   "source": [
    "# Instantiate the pipeline\n",
    "model_pipeline = make_pipeline(\n",
    "    ce.ordinal.OrdinalEncoder(drop_invariant=True),\n",
    "    SimpleImputer(strategy='median'),\n",
    "    RandomForestClassifier(n_estimators=100, n_jobs=-1, random_state=42)\n",
    ")"
   ]
  },
  {
   "cell_type": "code",
   "execution_count": 65,
   "metadata": {},
   "outputs": [
    {
     "data": {
      "text/plain": [
       "Pipeline(memory=None,\n",
       "         steps=[('ordinalencoder',\n",
       "                 OrdinalEncoder(cols=['date_recorded', 'funder', 'installer',\n",
       "                                      'basin', 'subvillage', 'region', 'lga',\n",
       "                                      'ward', 'public_meeting', 'recorded_by',\n",
       "                                      'scheme_management', 'permit',\n",
       "                                      'extraction_type_class', 'management',\n",
       "                                      'management_group', 'payment',\n",
       "                                      'water_quality', 'quantity', 'source',\n",
       "                                      'waterpoint_type_group',\n",
       "                                      'year_recorded'],...\n",
       "                ('randomforestclassifier',\n",
       "                 RandomForestClassifier(bootstrap=True, class_weight=None,\n",
       "                                        criterion='gini', max_depth=None,\n",
       "                                        max_features='auto',\n",
       "                                        max_leaf_nodes=None,\n",
       "                                        min_impurity_decrease=0.0,\n",
       "                                        min_impurity_split=None,\n",
       "                                        min_samples_leaf=1, min_samples_split=2,\n",
       "                                        min_weight_fraction_leaf=0.0,\n",
       "                                        n_estimators=100, n_jobs=-1,\n",
       "                                        oob_score=False, random_state=42,\n",
       "                                        verbose=0, warm_start=False))],\n",
       "         verbose=False)"
      ]
     },
     "execution_count": 65,
     "metadata": {},
     "output_type": "execute_result"
    }
   ],
   "source": [
    "# Fit model\n",
    "model_pipeline.fit(X_train, y_train)"
   ]
  },
  {
   "cell_type": "code",
   "execution_count": 66,
   "metadata": {},
   "outputs": [],
   "source": [
    "y_pred = model_pipeline.predict(X_val)"
   ]
  },
  {
   "cell_type": "code",
   "execution_count": 67,
   "metadata": {},
   "outputs": [],
   "source": [
    "from sklearn.metrics import confusion_matrix as cm"
   ]
  },
  {
   "cell_type": "code",
   "execution_count": 76,
   "metadata": {},
   "outputs": [
    {
     "data": {
      "text/plain": [
       "array([[5694,  194,  569],\n",
       "       [ 431,  296,  124],\n",
       "       [ 924,   89, 3559]])"
      ]
     },
     "execution_count": 76,
     "metadata": {},
     "output_type": "execute_result"
    }
   ],
   "source": [
    "validation_matrix = cm(y_val, y_pred)\n",
    "validation_matrix"
   ]
  },
  {
   "cell_type": "code",
   "execution_count": 86,
   "metadata": {},
   "outputs": [],
   "source": [
    "df = pd.DataFrame(validation_matrix, index=['functional', 'functional needs repair', 'non-func'],\n",
    "                 columns=['functional','functional needs repair', 'non-func'])\n",
    "\n",
    "df_norm = df.div(df.sum(axis=0), axis=1)"
   ]
  },
  {
   "cell_type": "code",
   "execution_count": 93,
   "metadata": {},
   "outputs": [],
   "source": [
    "import seaborn as sns\n",
    "import matplotlib.pyplot as plt"
   ]
  },
  {
   "cell_type": "code",
   "execution_count": 141,
   "metadata": {},
   "outputs": [
    {
     "data": {
      "image/png": "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\n",
      "text/plain": [
       "<Figure size 720x432 with 2 Axes>"
      ]
     },
     "metadata": {
      "needs_background": "light"
     },
     "output_type": "display_data"
    }
   ],
   "source": [
    "fig = plt.figure(figsize=(10,6))\n",
    "\n",
    "ax = sns.heatmap(df, annot=True, fmt='d')\n",
    "ax.set_xticks(np.linspace(0,3,7))\n",
    "ax.set_xticklabels([' ', 'Predicted Functional',\n",
    "                    ' ', 'Pred. Func. need repair',\n",
    "                    ' ', 'Predicted Non-Functional'])\n",
    "ax.set_yticks(np.linspace(0,3,7))\n",
    "ax.set_yticklabels([' ', 'Functional',\n",
    "                    ' ', 'Func. need repair',\n",
    "                    ' ', 'Non-Functional'])\n",
    "plt.yticks(rotation=0)\n",
    "plt.show()"
   ]
  },
  {
   "cell_type": "markdown",
   "metadata": {},
   "source": [
    "## Non-normalized\n",
    "The non-normalized version of this heat map has colors that do not correctly indicate the value of accurate predictions, especially in the 'functional - needs repair' category. This is primarily due to the values being taken from the extreme real limits of possible values. "
   ]
  },
  {
   "cell_type": "code",
   "execution_count": 139,
   "metadata": {},
   "outputs": [
    {
     "data": {
      "image/png": "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\n",
      "text/plain": [
       "<Figure size 720x432 with 2 Axes>"
      ]
     },
     "metadata": {
      "needs_background": "light"
     },
     "output_type": "display_data"
    }
   ],
   "source": [
    "fig = plt.figure(figsize=(10,6))\n",
    "\n",
    "ax = sns.heatmap(df_norm, annot=True)\n",
    "ax.set_xticks(np.linspace(0,3,7))\n",
    "ax.set_xticklabels([' ', 'Predicted Functional',\n",
    "                    ' ', 'Pred. Func. need repair',\n",
    "                    ' ', 'Predicted Non-Functional'])\n",
    "ax.set_yticks(np.linspace(0,3,7))\n",
    "ax.set_yticklabels([' ', 'Functional',\n",
    "                    ' ', 'Func. need repair',\n",
    "                    ' ', 'Non-Functional'])\n",
    "plt.yticks(rotation=0)\n",
    "plt.show()"
   ]
  },
  {
   "cell_type": "markdown",
   "metadata": {},
   "source": [
    "## Normalized\n",
    "The normalized version more accurately uses the colors to represent the value of accurate predictions, making larger percentages lighter, and lower percentages darker. This fixes the case where a category has a relatively low number of overall predictions."
   ]
  },
  {
   "cell_type": "code",
   "execution_count": null,
   "metadata": {},
   "outputs": [],
   "source": []
  }
 ],
 "metadata": {
  "kernelspec": {
   "display_name": "Python 3",
   "language": "python",
   "name": "python3"
  },
  "language_info": {
   "codemirror_mode": {
    "name": "ipython",
    "version": 3
   },
   "file_extension": ".py",
   "mimetype": "text/x-python",
   "name": "python",
   "nbconvert_exporter": "python",
   "pygments_lexer": "ipython3",
<<<<<<< HEAD:module4/assignment_kaggle_challenge_4.ipynb
   "version": "3.7.4"
=======
   "version": "3.7.6"
>>>>>>> 2aaeccdac0c6406f3fa3600a786d7644434291a7:module4-classification-metrics/LS_DS_224_assignment.ipynb
  }
 },
 "nbformat": 4,
 "nbformat_minor": 1
}
