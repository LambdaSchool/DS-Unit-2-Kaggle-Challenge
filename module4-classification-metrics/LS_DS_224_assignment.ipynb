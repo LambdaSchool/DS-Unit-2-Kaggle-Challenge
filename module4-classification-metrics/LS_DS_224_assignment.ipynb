{
  "nbformat": 4,
  "nbformat_minor": 0,
  "metadata": {
    "kernelspec": {
      "display_name": "Python 3",
      "language": "python",
      "name": "python3"
    },
    "language_info": {
      "codemirror_mode": {
        "name": "ipython",
        "version": 3
      },
      "file_extension": ".py",
      "mimetype": "text/x-python",
      "name": "python",
      "nbconvert_exporter": "python",
      "pygments_lexer": "ipython3",
      "version": "3.7.6"
    },
    "colab": {
      "name": "Dan_Anderson_LS_DS_224_assignment.ipynb",
      "provenance": [],
      "collapsed_sections": []
    }
  },
  "cells": [
    {
      "cell_type": "markdown",
      "metadata": {
        "id": "0P7ZETWpbYRV",
        "colab_type": "text"
      },
      "source": [
        "Lambda School Data Science\n",
        "\n",
        "*Unit 2, Sprint 2, Module 4*\n",
        "\n",
        "---"
      ]
    },
    {
      "cell_type": "markdown",
      "metadata": {
        "colab_type": "text",
        "id": "nCc3XZEyG3XV"
      },
      "source": [
        "# Classification Metrics\n",
        "\n",
        "## Assignment\n",
        "- [x] If you haven't yet, [review requirements for your portfolio project](https://lambdaschool.github.io/ds/unit2), then submit your dataset.\n",
        "- [x] Plot a confusion matrix for your Tanzania Waterpumps model.\n",
        "- [x] Continue to participate in our Kaggle challenge. Every student should have made at least one submission that scores at least 70% accuracy (well above the majority class baseline).\n",
        "- [x] Submit your final predictions to our Kaggle competition. Optionally, go to **My Submissions**, and _\"you may select up to 1 submission to be used to count towards your final leaderboard score.\"_\n",
        "- [x] Commit your notebook to your fork of the GitHub repo.\n",
        "- [x] Read [Maximizing Scarce Maintenance Resources with Data: Applying predictive modeling, precision at k, and clustering to optimize impact](https://towardsdatascience.com/maximizing-scarce-maintenance-resources-with-data-8f3491133050), by Lambda DS3 student Michael Brady. His blog post extends the Tanzania Waterpumps scenario, far beyond what's in the lecture notebook.\n",
        "\n",
        "\n",
        "## Stretch Goals\n",
        "\n",
        "### Reading\n",
        "\n",
        "- [Attacking discrimination with smarter machine learning](https://research.google.com/bigpicture/attacking-discrimination-in-ml/), by Google Research, with  interactive visualizations. _\"A threshold classifier essentially makes a yes/no decision, putting things in one category or another. We look at how these classifiers work, ways they can potentially be unfair, and how you might turn an unfair classifier into a fairer one. As an illustrative example, we focus on loan granting scenarios where a bank may grant or deny a loan based on a single, automatically computed number such as a credit score.\"_\n",
        "- [Notebook about how to calculate expected value from a confusion matrix by treating it as a cost-benefit matrix](https://github.com/podopie/DAT18NYC/blob/master/classes/13-expected_value_cost_benefit_analysis.ipynb)\n",
        "- [Visualizing Machine Learning Thresholds to Make Better Business Decisions](https://blog.insightdatascience.com/visualizing-machine-learning-thresholds-to-make-better-business-decisions-4ab07f823415)\n",
        "\n",
        "\n",
        "### Doing\n",
        "- [ ] Share visualizations in our Slack channel!\n",
        "- [ ] RandomizedSearchCV / GridSearchCV, for model selection. (See module 3 assignment notebook)\n",
        "- [ ] Stacking Ensemble. (See module 3 assignment notebook)\n",
        "- [ ] More Categorical Encoding. (See module 2 assignment notebook)"
      ]
    },
    {
      "cell_type": "code",
      "metadata": {
        "colab_type": "code",
        "id": "lsbRiKBoB5RE",
        "colab": {}
      },
      "source": [
        "%%capture\n",
        "import sys\n",
        "\n",
        "# If you're on Colab:\n",
        "if 'google.colab' in sys.modules:\n",
        "    DATA_PATH = 'https://raw.githubusercontent.com/LambdaSchool/DS-Unit-2-Kaggle-Challenge/master/data/'\n",
        "    !pip install category_encoders==2.*\n",
        "\n",
        "# If you're working locally:\n",
        "else:\n",
        "    DATA_PATH = '../data/'"
      ],
      "execution_count": 0,
      "outputs": []
    },
    {
      "cell_type": "code",
      "metadata": {
        "colab_type": "code",
        "id": "BVA1lph8CcNX",
        "colab": {}
      },
      "source": [
        "import pandas as pd\n",
        "\n",
        "# Merge train_features.csv & train_labels.csv\n",
        "train = pd.merge(pd.read_csv(DATA_PATH+'waterpumps/train_features.csv'), \n",
        "                 pd.read_csv(DATA_PATH+'waterpumps/train_labels.csv'))\n",
        "\n",
        "# Read test_features.csv & sample_submission.csv\n",
        "test = pd.read_csv(DATA_PATH+'waterpumps/test_features.csv')\n",
        "sample_submission = pd.read_csv(DATA_PATH+'waterpumps/sample_submission.csv')"
      ],
      "execution_count": 0,
      "outputs": []
    },
    {
      "cell_type": "code",
      "metadata": {
        "id": "nkAEJCRkdV_J",
        "colab_type": "code",
        "colab": {}
      },
      "source": [
        "import numpy as np\n",
        "\n",
        "# Wrangle the modeling data\n",
        "\n",
        "# indicate_missing is a function that returns a boolean value if the inbound data = 'MISSING'\n",
        "#   - helps in creating a \"missing\" column \n",
        "def indicate_missing(val):\n",
        "  if val == 'MISSING':\n",
        "    return True\n",
        "\n",
        "  return False\n",
        "\n",
        "# boolean_missing is a function converting the permit boolean column to categorical data \n",
        "def boolean_missing(val):\n",
        "  if val == True:\n",
        "    return 'TRUE'\n",
        "\n",
        "  if val == False:\n",
        "    return 'FALSE'\n",
        "\n",
        "  return 'MISSING'\n",
        "\n",
        "def wrangle(DF):\n",
        "  X = DF.copy()\n",
        "\n",
        "  # Replace near zero latitude values with zero\n",
        "  X['latitude'] = X['latitude'].replace(-2e-08, 0)\n",
        "\n",
        "  # Replace zero values with nan so we can impute values downstream\n",
        "  cols_with_zeroes = ['longitude',\n",
        "                      'latitude',\n",
        "                      'construction_year',\n",
        "                      'gps_height',\n",
        "                      'population']\n",
        "  for col in cols_with_zeroes:\n",
        "    X[col] = X[col].replace(0, np.nan)   # replace zeros with nans\n",
        "\n",
        "  # Create columns for month and year recorded data\n",
        "  X['date_recorded']  = pd.to_datetime(X['date_recorded'], infer_datetime_format=True)\n",
        "  X['year_recorded']  = X['date_recorded'].dt.year\n",
        "  X['month_recorded'] = X['date_recorded'].dt.month\n",
        "  X['day_recorded']   = X['date_recorded'].dt.day\n",
        "\n",
        "  # Create a column reflecting the number of years from construction to year recorded\n",
        "  X['years']          = X['year_recorded'] - X['construction_year']\n",
        "  X['years']          = X['years'].replace(0, np.nan)   # replace zeros with nans\n",
        "\n",
        "  # Replace missing boolean data with categorical data reflecting that missing data\n",
        "  cols_boolean_missing = ['public_meeting', 'permit']\n",
        "  for col in cols_boolean_missing:\n",
        "    X[col+'_CATEGORICAL']             = X[col].apply(boolean_missing)\n",
        "\n",
        "  # Replace missing categorical data with 'MISSING'\n",
        "  cols_categorical_missing = ['funder', 'installer', 'scheme_name', 'scheme_management', 'subvillage']\n",
        "  for col in cols_categorical_missing:\n",
        "    X[col]            = X[col].replace(np.nan, 'MISSING')\n",
        "\n",
        "  # List columns to be dropped\n",
        "  cols_drop = ['date_recorded',             # date_recorded - using year_recorded and month_recorded instead\n",
        "               'quantity_group',            # duplicate column\n",
        "               'payment_type',              # duplicate column\n",
        "               'recorded_by',               # data collection process column (not predictive)\n",
        "               'id',                        # data collection process column (not predictive)\n",
        "               'public_meeting',            # replaced by categorical column: public_meeting_CATEGORICAL\n",
        "               'permit',                    # replaced by categorical column: permit_CATEGORICAL\n",
        "               'num_private',               # 98% zeroes, unclear the purpose of this dat\n",
        "               'construction_year',         # use 'years' as a proxy\n",
        "               'amount_tsh']                # highly skewed data\n",
        "  # Also drop the columns we processed due to missing values\n",
        "  cols_drop.extend(cols_boolean_missing)\n",
        "\n",
        "  # Drop undesired columns\n",
        "  X = X.drop(columns=cols_drop)\n",
        "\n",
        "  return X"
      ],
      "execution_count": 0,
      "outputs": []
    },
    {
      "cell_type": "code",
      "metadata": {
        "id": "8VoQJidZgMTu",
        "colab_type": "code",
        "colab": {}
      },
      "source": [
        "from sklearn.model_selection import train_test_split\n",
        "\n",
        "# Split train into train & val. Make val the same size as test.\n",
        "target = 'status_group'\n",
        "train, val = train_test_split(train, test_size=len(test),  \n",
        "                              stratify=train[target], random_state=42)"
      ],
      "execution_count": 0,
      "outputs": []
    },
    {
      "cell_type": "code",
      "metadata": {
        "id": "u32gP5FLhPuL",
        "colab_type": "code",
        "colab": {
          "base_uri": "https://localhost:8080/",
          "height": 34
        },
        "outputId": "f158083f-7547-4eab-cc2d-006bf09c0281"
      },
      "source": [
        "# Wrangle train, validate, and test sets in the same way\n",
        "df_train  = wrangle(train)\n",
        "df_val    = wrangle(val)\n",
        "df_test   = wrangle(test)\n",
        "print(f'Training: {df_train.shape}, Validation: {df_val.shape}, Test: {df_test.shape}')"
      ],
      "execution_count": 49,
      "outputs": [
        {
          "output_type": "stream",
          "text": [
            "Training: (45042, 37), Validation: (14358, 37), Test: (14358, 36)\n"
          ],
          "name": "stdout"
        }
      ]
    },
    {
      "cell_type": "code",
      "metadata": {
        "id": "D3ZYwbJrCoVv",
        "colab_type": "code",
        "colab": {}
      },
      "source": [
        "# Construct the X features matrix and y target vector\n",
        "X_train = df_train.drop(columns=target)\n",
        "y_train = df_train[target]\n",
        "X_val   = df_val.drop(columns=target)\n",
        "y_val   = df_val[target]\n",
        "X_test  = df_test"
      ],
      "execution_count": 0,
      "outputs": []
    },
    {
      "cell_type": "code",
      "metadata": {
        "id": "kENJpdSXDhDW",
        "colab_type": "code",
        "colab": {}
      },
      "source": [
        "import category_encoders as ce\n",
        "from sklearn.pipeline import make_pipeline\n",
        "from sklearn.ensemble import RandomForestClassifier\n",
        "from sklearn.impute import SimpleImputer\n",
        "\n",
        "# Configure a modeling pipelin\n",
        "pipeline = make_pipeline(\n",
        "    ce.OrdinalEncoder(),\n",
        "    SimpleImputer(strategy='mean'),\n",
        "    RandomForestClassifier(n_estimators=100, random_state=42, n_jobs=-1)\n",
        ")"
      ],
      "execution_count": 0,
      "outputs": []
    },
    {
      "cell_type": "code",
      "metadata": {
        "id": "hoPN3BuQEg8j",
        "colab_type": "code",
        "colab": {
          "base_uri": "https://localhost:8080/",
          "height": 34
        },
        "outputId": "a416839e-56c5-4df8-a0dd-d405aff577e7"
      },
      "source": [
        "from sklearn.metrics import accuracy_score\n",
        "\n",
        "# Fit the pipeline model on the training dataset\n",
        "pipeline.fit(X_train, y_train)\n",
        "\n",
        "# Generate model predictions using the validation dataset\n",
        "y_pred = pipeline.predict(X_val)\n",
        "print(f'Validation Accuracy: {round(accuracy_score(y_val, y_pred), 5)}')"
      ],
      "execution_count": 55,
      "outputs": [
        {
          "output_type": "stream",
          "text": [
            "Validation Accuracy: 0.81021\n"
          ],
          "name": "stdout"
        }
      ]
    },
    {
      "cell_type": "code",
      "metadata": {
        "id": "cke6uVxjHCIC",
        "colab_type": "code",
        "colab": {}
      },
      "source": [
        "# Generate test dataset predictions\n",
        "y_pred_test = pipeline.predict(X_test)"
      ],
      "execution_count": 0,
      "outputs": []
    },
    {
      "cell_type": "code",
      "metadata": {
        "id": "HesshXJxIWeq",
        "colab_type": "code",
        "colab": {}
      },
      "source": [
        "# Construct dataframe housing the Kaggle submission dataset\n",
        "tmp_dict = {'id': list(test['id']), 'status_group': list(y_pred_test)}\n",
        "df_submission = pd.DataFrame(tmp_dict)"
      ],
      "execution_count": 0,
      "outputs": []
    },
    {
      "cell_type": "code",
      "metadata": {
        "id": "Qeb3eS-BId7K",
        "colab_type": "code",
        "colab": {}
      },
      "source": [
        "# Create submission csv (download and submit to Kaggle)\n",
        "df_submission.to_csv(\"submission_dfa.csv\", index=False)"
      ],
      "execution_count": 0,
      "outputs": []
    },
    {
      "cell_type": "code",
      "metadata": {
        "id": "e4sJmZkELkTF",
        "colab_type": "code",
        "colab": {
          "base_uri": "https://localhost:8080/",
          "height": 292
        },
        "outputId": "d09bc707-058c-4b58-b25e-5297b00d29d1"
      },
      "source": [
        "!pip install scikit-plot"
      ],
      "execution_count": 62,
      "outputs": [
        {
          "output_type": "stream",
          "text": [
            "Collecting scikit-plot\n",
            "  Downloading https://files.pythonhosted.org/packages/7c/47/32520e259340c140a4ad27c1b97050dd3254fdc517b1d59974d47037510e/scikit_plot-0.3.7-py3-none-any.whl\n",
            "Requirement already satisfied: scipy>=0.9 in /usr/local/lib/python3.6/dist-packages (from scikit-plot) (1.4.1)\n",
            "Requirement already satisfied: joblib>=0.10 in /usr/local/lib/python3.6/dist-packages (from scikit-plot) (0.14.1)\n",
            "Requirement already satisfied: scikit-learn>=0.18 in /usr/local/lib/python3.6/dist-packages (from scikit-plot) (0.22.1)\n",
            "Requirement already satisfied: matplotlib>=1.4.0 in /usr/local/lib/python3.6/dist-packages (from scikit-plot) (3.1.2)\n",
            "Requirement already satisfied: numpy>=1.13.3 in /usr/local/lib/python3.6/dist-packages (from scipy>=0.9->scikit-plot) (1.17.5)\n",
            "Requirement already satisfied: cycler>=0.10 in /usr/local/lib/python3.6/dist-packages (from matplotlib>=1.4.0->scikit-plot) (0.10.0)\n",
            "Requirement already satisfied: python-dateutil>=2.1 in /usr/local/lib/python3.6/dist-packages (from matplotlib>=1.4.0->scikit-plot) (2.6.1)\n",
            "Requirement already satisfied: kiwisolver>=1.0.1 in /usr/local/lib/python3.6/dist-packages (from matplotlib>=1.4.0->scikit-plot) (1.1.0)\n",
            "Requirement already satisfied: pyparsing!=2.0.4,!=2.1.2,!=2.1.6,>=2.0.1 in /usr/local/lib/python3.6/dist-packages (from matplotlib>=1.4.0->scikit-plot) (2.4.6)\n",
            "Requirement already satisfied: six in /usr/local/lib/python3.6/dist-packages (from cycler>=0.10->matplotlib>=1.4.0->scikit-plot) (1.12.0)\n",
            "Requirement already satisfied: setuptools in /usr/local/lib/python3.6/dist-packages (from kiwisolver>=1.0.1->matplotlib>=1.4.0->scikit-plot) (45.1.0)\n",
            "Installing collected packages: scikit-plot\n",
            "Successfully installed scikit-plot-0.3.7\n"
          ],
          "name": "stdout"
        }
      ]
    },
    {
      "cell_type": "code",
      "metadata": {
        "id": "DFTO7wrJJ0-t",
        "colab_type": "code",
        "colab": {
          "base_uri": "https://localhost:8080/",
          "height": 421
        },
        "outputId": "aacfa75b-549a-4ed2-80fd-2e3c992b7824"
      },
      "source": [
        "# Print out the confusion matrix\n",
        "from scikitplot.metrics import plot_confusion_matrix\n",
        "\n",
        "plot_confusion_matrix(y_val, y_pred,\n",
        "                      figsize=(8, 6),\n",
        "                      title=f'Confustion Matrix: N Obs={len(y_val)}',\n",
        "                      normalize=False)"
      ],
      "execution_count": 63,
      "outputs": [
        {
          "output_type": "execute_result",
          "data": {
            "text/plain": [
              "<matplotlib.axes._subplots.AxesSubplot at 0x7f771e0a9e80>"
            ]
          },
          "metadata": {
            "tags": []
          },
          "execution_count": 63
        },
        {
          "output_type": "display_data",
          "data": {
            "image/png": "[encoded data removed]",
            "text/plain": [
              "<Figure size 576x432 with 2 Axes>"
            ]
          },
          "metadata": {
            "tags": []
          }
        }
      ]
    },
    {
      "cell_type": "code",
      "metadata": {
        "id": "sBP_h0ppLq1v",
        "colab_type": "code",
        "colab": {
          "base_uri": "https://localhost:8080/",
          "height": 421
        },
        "outputId": "9cfa0604-8604-4885-e298-dbf775f2b3df"
      },
      "source": [
        "plot_confusion_matrix(y_val, y_pred,\n",
        "                      figsize=(8, 6),\n",
        "                      title=f'Confustion Matrix: N Obs={len(y_val)}',\n",
        "                      normalize=True)"
      ],
      "execution_count": 64,
      "outputs": [
        {
          "output_type": "execute_result",
          "data": {
            "text/plain": [
              "<matplotlib.axes._subplots.AxesSubplot at 0x7f770bff3cc0>"
            ]
          },
          "metadata": {
            "tags": []
          },
          "execution_count": 64
        },
        {
          "output_type": "display_data",
          "data": {
            "image/png": "[encoded data removed]",
            "text/plain": [
              "<Figure size 576x432 with 2 Axes>"
            ]
          },
          "metadata": {
            "tags": []
          }
        }
      ]
    },
    {
      "cell_type": "code",
      "metadata": {
        "id": "ZaBoCQptL4ky",
        "colab_type": "code",
        "colab": {
          "base_uri": "https://localhost:8080/",
          "height": 187
        },
        "outputId": "03e8ed51-71bb-4899-c4d1-eded94a9ce43"
      },
      "source": [
        "# Print out the classification report\n",
        "from sklearn.metrics import classification_report\n",
        "\n",
        "print(classification_report(y_val, y_pred))"
      ],
      "execution_count": 65,
      "outputs": [
        {
          "output_type": "stream",
          "text": [
            "                         precision    recall  f1-score   support\n",
            "\n",
            "             functional       0.80      0.90      0.85      7798\n",
            "functional needs repair       0.56      0.31      0.40      1043\n",
            "         non functional       0.85      0.78      0.81      5517\n",
            "\n",
            "               accuracy                           0.81     14358\n",
            "              macro avg       0.74      0.66      0.69     14358\n",
            "           weighted avg       0.80      0.81      0.80     14358\n",
            "\n"
          ],
          "name": "stdout"
        }
      ]
    }
  ]
}
