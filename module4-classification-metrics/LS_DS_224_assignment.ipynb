{
  "nbformat": 4,
  "nbformat_minor": 0,
  "metadata": {
    "kernelspec": {
      "display_name": "Python 3",
      "language": "python",
      "name": "python3"
    },
    "language_info": {
      "codemirror_mode": {
        "name": "ipython",
        "version": 3
      },
      "file_extension": ".py",
      "mimetype": "text/x-python",
      "name": "python",
      "nbconvert_exporter": "python",
      "pygments_lexer": "ipython3",
      "version": "3.7.6"
    },
    "colab": {
      "name": "thursday_assignment.ipynb",
      "provenance": []
    }
  },
  "cells": [
    {
      "cell_type": "markdown",
      "metadata": {
        "id": "yd9BYBz-UGO_",
        "colab_type": "text"
      },
      "source": [
        "Lambda School Data Science\n",
        "\n",
        "*Unit 2, Sprint 2, Module 4*\n",
        "\n",
        "---"
      ]
    },
    {
      "cell_type": "markdown",
      "metadata": {
        "colab_type": "text",
        "id": "nCc3XZEyG3XV"
      },
      "source": [
        "# Classification Metrics\n",
        "\n",
        "## Assignment\n",
        "- [ ] If you haven't yet, [review requirements for your portfolio project](https://lambdaschool.github.io/ds/unit2), then submit your dataset.\n",
        "- [ ] Plot a confusion matrix for your Tanzania Waterpumps model.\n",
        "- [ ] Continue to participate in our Kaggle challenge. Every student should have made at least one submission that scores at least 70% accuracy (well above the majority class baseline).\n",
        "- [ ] Submit your final predictions to our Kaggle competition. Optionally, go to **My Submissions**, and _\"you may select up to 1 submission to be used to count towards your final leaderboard score.\"_\n",
        "- [ ] Commit your notebook to your fork of the GitHub repo.\n",
        "- [ ] Read [Maximizing Scarce Maintenance Resources with Data: Applying predictive modeling, precision at k, and clustering to optimize impact](https://towardsdatascience.com/maximizing-scarce-maintenance-resources-with-data-8f3491133050), by Lambda DS3 student Michael Brady. His blog post extends the Tanzania Waterpumps scenario, far beyond what's in the lecture notebook.\n",
        "\n",
        "\n",
        "## Stretch Goals\n",
        "\n",
        "### Reading\n",
        "\n",
        "- [Attacking discrimination with smarter machine learning](https://research.google.com/bigpicture/attacking-discrimination-in-ml/), by Google Research, with  interactive visualizations. _\"A threshold classifier essentially makes a yes/no decision, putting things in one category or another. We look at how these classifiers work, ways they can potentially be unfair, and how you might turn an unfair classifier into a fairer one. As an illustrative example, we focus on loan granting scenarios where a bank may grant or deny a loan based on a single, automatically computed number such as a credit score.\"_\n",
        "- [Notebook about how to calculate expected value from a confusion matrix by treating it as a cost-benefit matrix](https://github.com/podopie/DAT18NYC/blob/master/classes/13-expected_value_cost_benefit_analysis.ipynb)\n",
        "- [Visualizing Machine Learning Thresholds to Make Better Business Decisions](https://blog.insightdatascience.com/visualizing-machine-learning-thresholds-to-make-better-business-decisions-4ab07f823415)\n",
        "\n",
        "\n",
        "### Doing\n",
        "- [ ] Share visualizations in our Slack channel!\n",
        "- [ ] RandomizedSearchCV / GridSearchCV, for model selection. (See module 3 assignment notebook)\n",
        "- [ ] Stacking Ensemble. (See module 3 assignment notebook)\n",
        "- [ ] More Categorical Encoding. (See module 2 assignment notebook)"
      ]
    },
    {
      "cell_type": "code",
      "metadata": {
        "colab_type": "code",
        "id": "lsbRiKBoB5RE",
        "colab": {}
      },
      "source": [
        "%%capture\n",
        "import sys\n",
        "\n",
        "# If you're on Colab:\n",
        "if 'google.colab' in sys.modules:\n",
        "    DATA_PATH = 'https://raw.githubusercontent.com/LambdaSchool/DS-Unit-2-Kaggle-Challenge/master/data/'\n",
        "    !pip install category_encoders==2.*\n",
        "\n",
        "# If you're working locally:\n",
        "else:\n",
        "    DATA_PATH = '../data/'"
      ],
      "execution_count": 0,
      "outputs": []
    },
    {
      "cell_type": "code",
      "metadata": {
        "colab_type": "code",
        "id": "BVA1lph8CcNX",
        "colab": {
          "base_uri": "https://localhost:8080/",
          "height": 34
        },
        "outputId": "8b91936b-008d-4efa-b98f-2d8b9a3adc18"
      },
      "source": [
        "import pandas as pd\n",
        "\n",
        "# Merge train_features.csv & train_labels.csv\n",
        "train = pd.merge(pd.read_csv(DATA_PATH+'waterpumps/train_features.csv'), \n",
        "                 pd.read_csv(DATA_PATH+'waterpumps/train_labels.csv'))\n",
        "\n",
        "# Read test_features.csv & sample_submission.csv\n",
        "test = pd.read_csv(DATA_PATH+'waterpumps/test_features.csv')\n",
        "sample_submission = pd.read_csv(DATA_PATH+'waterpumps/sample_submission.csv')\n",
        "\n",
        "# Splitting training data\n",
        "from sklearn.model_selection import train_test_split\n",
        "train, val = train_test_split(train, train_size=.80, test_size=.20, stratify=train['status_group'], random_state=256)\n",
        "print(train.shape, val.shape, test.shape)"
      ],
      "execution_count": 2,
      "outputs": [
        {
          "output_type": "stream",
          "text": [
            "(47520, 41) (11880, 41) (14358, 40)\n"
          ],
          "name": "stdout"
        }
      ]
    },
    {
      "cell_type": "code",
      "metadata": {
        "id": "1Ifpv8O-UGPW",
        "colab_type": "code",
        "colab": {}
      },
      "source": [
        "# drop = ['id', 'amount_tsh', 'wpt_name', 'num_private', 'region_code', 'district_code', 'recorded_by', 'scheme_name', 'extraction_type', 'extraction_type_class', 'management_group', 'quality_group', 'quantity_group', 'source_type', 'source_class', 'waterpoint_type_group', 'status_group']\n",
        "# onehot = ['basin', 'region', 'payment', 'water_quality', 'quantity']\n",
        "# rest = ['date_recorded', 'funder', 'gps_height', 'installer', 'longitude', 'latitude', 'subvillage', 'lga', 'ward', 'population', 'public_meeting', 'scheme_management', 'permit', 'construction_year', 'extraction_type_group', 'management', 'payment_type', 'waterpoint_type', 'source',]\n",
        "\n",
        "\"\"\" RANGLE FUNCTION \"\"\"\n",
        "def wrangle(dataframe):\n",
        "  dataframe = dataframe.copy()\n",
        "\n",
        "  # Dropping columns\n",
        "  columns_to_drop = ['id', 'amount_tsh', 'wpt_name', 'num_private', 'region_code', 'recorded_by', 'scheme_name', 'extraction_type', 'extraction_type_class', 'management_group', 'quality_group', 'quantity_group', 'source_type', 'source_class', 'waterpoint_type_group']\n",
        "  dataframe = dataframe.drop(columns=columns_to_drop, axis=1)\n",
        "\n",
        "  # Converting to datetime\n",
        "  dataframe['date_recorded'] = pd.to_datetime(dataframe['date_recorded'], infer_datetime_format=True)\n",
        "\n",
        "  # Replacing columns with alot of 0's\n",
        "  dataframe['gps_height'] = dataframe['gps_height'].replace(0, np.nan)\n",
        "  dataframe['longitude'] = dataframe['longitude'].replace(0, np.nan)\n",
        "  dataframe['latitude'] = dataframe['latitude'].replace(0, np.nan)\n",
        "  dataframe['population'] = dataframe['population'].replace(0, np.nan)\n",
        "  dataframe['construction_year'] = dataframe['construction_year'].replace(0, np.nan)\n",
        "\n",
        "  # Encoding Booleans\n",
        "  dataframe['public_meeting'] = dataframe['public_meeting'].replace({True: 1, False: -1, np.nan: 0})\n",
        "  dataframe['permit'] = dataframe['permit'].replace({True: 1, False: -1, np.nan: 0})\n",
        "\n",
        "  # Feature engineering\n",
        "  dataframe['year_recorded'] = dataframe['date_recorded'].dt.year\n",
        "  dataframe['years'] = dataframe['year_recorded'] - dataframe['construction_year']\n",
        "  dataframe['years_MISSING'] = dataframe['years'].isnull()\n",
        "  dataframe['date_recorded'] = pd.to_datetime(dataframe['date_recorded'], infer_datetime_format=True).astype(int)/ 10**9\n",
        "  \n",
        "\n",
        "  return dataframe"
      ],
      "execution_count": 0,
      "outputs": []
    },
    {
      "cell_type": "code",
      "metadata": {
        "id": "5nyhsCseSteK",
        "colab_type": "code",
        "colab": {
          "base_uri": "https://localhost:8080/",
          "height": 34
        },
        "outputId": "0f43cdb1-a2bb-434e-8f78-49dbd5c2e936"
      },
      "source": [
        "from sklearn.compose import ColumnTransformer\n",
        "import category_encoders as ce\n",
        "from sklearn.ensemble import RandomForestClassifier\n",
        "from sklearn.impute import SimpleImputer\n",
        "from sklearn.pipeline import make_pipeline\n",
        "import numpy as np\n",
        "\n",
        "train_wrangled = wrangle(train)\n",
        "val_wrangled = wrangle(val)\n",
        "test_wrangled = wrangle(test)\n",
        "\n",
        "\"\"\" ONE HOT ENCODING \"\"\"\n",
        "\n",
        "cols = ['basin', 'region', 'payment', 'water_quality', 'quantity']\n",
        "subset = train_wrangled[cols]\n",
        "subset.head(3)\n",
        "\n",
        "\"\"\" TRAINING \"\"\"\n",
        "# Encoding columns\n",
        "onehot_encoder = ce.OneHotEncoder(use_cat_names=True)\n",
        "encoded = onehot_encoder.fit_transform(subset)\n",
        "\n",
        "# Concatinating dataframes\n",
        "final_train = pd.concat([train_wrangled, encoded], axis=1)\n",
        "\n",
        "# Dropping old columns\n",
        "final_train = final_train.drop(columns=cols, axis=1)\n",
        "final_train = final_train.drop(columns='status_group', axis=1)\n",
        "\n",
        "\"\"\" VALIDATION \"\"\"\n",
        "subset = val_wrangled[cols]\n",
        "encoded = onehot_encoder.transform(subset)\n",
        "final_val = pd.concat([val_wrangled, encoded], axis=1)\n",
        "final_val = final_val.drop(columns=cols, axis=1)\n",
        "final_val = final_val.drop(columns='status_group', axis=1)\n",
        "\n",
        "\"\"\" TESTING \"\"\"\n",
        "subset = test_wrangled[cols]\n",
        "encoded = onehot_encoder.transform(subset)\n",
        "final_test = pd.concat([test_wrangled, encoded], axis=1)\n",
        "final_test = final_test.drop(columns=cols, axis=1)\n",
        "final_test.shape"
      ],
      "execution_count": 4,
      "outputs": [
        {
          "output_type": "execute_result",
          "data": {
            "text/plain": [
              "(14358, 73)"
            ]
          },
          "metadata": {
            "tags": []
          },
          "execution_count": 4
        }
      ]
    },
    {
      "cell_type": "code",
      "metadata": {
        "id": "qwx-kc9JYZSS",
        "colab_type": "code",
        "colab": {}
      },
      "source": [
        "\"\"\" CONCAT VAL AND TRAIN \"\"\"\n",
        "ultimate_X = pd.concat([final_train, final_val], axis=0)\n",
        "ultimate_y = pd.concat([train['status_group'], val['status_group']], axis=0)\n"
      ],
      "execution_count": 0,
      "outputs": []
    },
    {
      "cell_type": "markdown",
      "metadata": {
        "id": "53NuBjaLYtmQ",
        "colab_type": "text"
      },
      "source": [
        "##Final Model"
      ]
    },
    {
      "cell_type": "code",
      "metadata": {
        "id": "CbohUaUjYh-o",
        "colab_type": "code",
        "colab": {
          "base_uri": "https://localhost:8080/",
          "height": 176
        },
        "outputId": "606ffc82-7bee-426b-964e-5bc8609548ce"
      },
      "source": [
        "from scipy.stats import randint, uniform\n",
        "import category_encoders as ce\n",
        "import numpy as np\n",
        "from sklearn.feature_selection import f_regression, SelectKBest\n",
        "from sklearn.impute import SimpleImputer\n",
        "from sklearn.linear_model import Ridge\n",
        "from sklearn.model_selection import cross_val_score\n",
        "from sklearn.pipeline import make_pipeline\n",
        "from sklearn.preprocessing import StandardScaler\n",
        "from sklearn.ensemble import RandomForestClassifier\n",
        "from sklearn.model_selection import RandomizedSearchCV\n",
        "\n",
        "\n",
        "\n",
        "pipeline = make_pipeline(\n",
        "    ce.OrdinalEncoder(), \n",
        "    SimpleImputer(), \n",
        "    RandomForestClassifier(random_state=121)\n",
        ")\n",
        "\n",
        "param_distributions = {\n",
        "    'simpleimputer__strategy': ['mean'], \n",
        "    'randomforestclassifier__max_depth': [20],\n",
        "    'randomforestclassifier__min_samples_leaf':[2],\n",
        "    'randomforestclassifier__n_estimators': [40],  \n",
        "    'randomforestclassifier__max_features': uniform(0, 1), \n",
        "}\n",
        "\n",
        "# If you're on Colab, decrease n_iter & cv parameters\n",
        "search = RandomizedSearchCV(\n",
        "    pipeline, \n",
        "    param_distributions=param_distributions, \n",
        "    n_iter=15, \n",
        "    cv=3, \n",
        "    scoring='accuracy', \n",
        "    verbose=10, \n",
        "    return_train_score=True, \n",
        "    n_jobs=-1\n",
        ")\n",
        "\n",
        "search.fit(ultimate_X, ultimate_y);"
      ],
      "execution_count": 12,
      "outputs": [
        {
          "output_type": "stream",
          "text": [
            "Fitting 3 folds for each of 15 candidates, totalling 45 fits\n"
          ],
          "name": "stdout"
        },
        {
          "output_type": "stream",
          "text": [
            "[Parallel(n_jobs=-1)]: Using backend LokyBackend with 2 concurrent workers.\n",
            "[Parallel(n_jobs=-1)]: Done   1 tasks      | elapsed:   26.7s\n",
            "[Parallel(n_jobs=-1)]: Done   4 tasks      | elapsed:   56.0s\n",
            "[Parallel(n_jobs=-1)]: Done   9 tasks      | elapsed:  2.5min\n",
            "[Parallel(n_jobs=-1)]: Done  14 tasks      | elapsed:  3.3min\n",
            "[Parallel(n_jobs=-1)]: Done  21 tasks      | elapsed:  5.1min\n",
            "[Parallel(n_jobs=-1)]: Done  28 tasks      | elapsed:  5.6min\n",
            "[Parallel(n_jobs=-1)]: Done  37 tasks      | elapsed:  6.6min\n"
          ],
          "name": "stderr"
        }
      ]
    },
    {
      "cell_type": "code",
      "metadata": {
        "id": "DSSKNGn0YxqY",
        "colab_type": "code",
        "colab": {
          "base_uri": "https://localhost:8080/",
          "height": 72
        },
        "outputId": "7b75b5ea-ea07-41d2-e866-06fb93bc3696"
      },
      "source": [
        "print('Best hyperparameters', search.best_params_)\n",
        "print('Cross-validation accuracy', search.best_score_)"
      ],
      "execution_count": 13,
      "outputs": [
        {
          "output_type": "stream",
          "text": [
            "Best hyperparameters {'randomforestclassifier__max_depth': 20, 'randomforestclassifier__max_features': 0.2453593045941871, 'randomforestclassifier__min_samples_leaf': 2, 'randomforestclassifier__n_estimators': 40, 'simpleimputer__strategy': 'mean'}\n",
            "Cross-validation accuracy 0.806969696969697\n"
          ],
          "name": "stdout"
        }
      ]
    },
    {
      "cell_type": "code",
      "metadata": {
        "id": "FfknR7MeZF7d",
        "colab_type": "code",
        "colab": {}
      },
      "source": [
        "y_pred = search.predict(final_test)\n",
        "\n",
        "submission = sample_submission.copy()\n",
        "submission['status_group'] = y_pred\n",
        "submission.to_csv('Cooper_Vos_Submission_ripx3', index=False)"
      ],
      "execution_count": 0,
      "outputs": []
    },
    {
      "cell_type": "markdown",
      "metadata": {
        "id": "JzPSjXzhZoN3",
        "colab_type": "text"
      },
      "source": [
        "## Confusion Matrix"
      ]
    },
    {
      "cell_type": "code",
      "metadata": {
        "id": "xzakSdFYaLr5",
        "colab_type": "code",
        "colab": {
          "base_uri": "https://localhost:8080/",
          "height": 34
        },
        "outputId": "d93866d5-2a9d-42e4-add3-5db47d36d09a"
      },
      "source": [
        "\"\"\" PIPELINE \"\"\"\n",
        "pipeline = make_pipeline(\n",
        "    ce.OrdinalEncoder(), \n",
        "    SimpleImputer(strategy='mean'), \n",
        "    RandomForestClassifier(random_state=300,\n",
        "                           n_estimators=100,\n",
        "                           min_samples_leaf=2\n",
        "                           )\n",
        ")\n",
        "\n",
        "pipeline.fit(final_train, train['status_group'])\n",
        "print('Validation Accuracy', pipeline.score(final_val, val['status_group']))"
      ],
      "execution_count": 9,
      "outputs": [
        {
          "output_type": "stream",
          "text": [
            "Validation Accuracy 0.8106902356902357\n"
          ],
          "name": "stdout"
        }
      ]
    },
    {
      "cell_type": "code",
      "metadata": {
        "id": "V3IiG6uNZnXQ",
        "colab_type": "code",
        "colab": {
          "base_uri": "https://localhost:8080/",
          "height": 384
        },
        "outputId": "7ef6efe7-cf9d-470d-ab3a-9717a7692f6e"
      },
      "source": [
        "from sklearn.metrics import plot_confusion_matrix\n",
        "\n",
        "plot_confusion_matrix(pipeline, final_val, val['status_group'], values_format='.0f', xticks_rotation='vertical');"
      ],
      "execution_count": 10,
      "outputs": [
        {
          "output_type": "display_data",
          "data": {
            "image/png": "[encoded data removed]",
            "text/plain": [
              "<Figure size 432x288 with 2 Axes>"
            ]
          },
          "metadata": {
            "tags": []
          }
        }
      ]
    },
    {
      "cell_type": "code",
      "metadata": {
        "id": "aBsFD2_tZ9B_",
        "colab_type": "code",
        "colab": {}
      },
      "source": [
        ""
      ],
      "execution_count": 0,
      "outputs": []
    }
  ]
}