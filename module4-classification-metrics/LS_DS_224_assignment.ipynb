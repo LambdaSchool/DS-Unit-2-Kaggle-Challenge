{
 "cells": [
  {
   "cell_type": "markdown",
   "metadata": {},
   "source": [
    "Lambda School Data Science\n",
    "\n",
    "*Unit 2, Sprint 2, Module 4*\n",
    "\n",
    "---"
   ]
  },
  {
   "cell_type": "markdown",
   "metadata": {
    "colab_type": "text",
    "id": "nCc3XZEyG3XV"
   },
   "source": [
    "# Classification Metrics\n",
    "\n",
    "## Assignment\n",
    "- [ ] If you haven't yet, [review requirements for your portfolio project](https://lambdaschool.github.io/ds/unit2), then submit your dataset.\n",
    "- [ ] Plot a confusion matrix for your Tanzania Waterpumps model.\n",
    "- [ ] Continue to participate in our Kaggle challenge. Every student should have made at least one submission that scores at least 70% accuracy (well above the majority class baseline).\n",
    "- [ ] Submit your final predictions to our Kaggle competition. Optionally, go to **My Submissions**, and _\"you may select up to 1 submission to be used to count towards your final leaderboard score.\"_\n",
    "- [ ] Commit your notebook to your fork of the GitHub repo.\n",
    "- [ ] Read [Maximizing Scarce Maintenance Resources with Data: Applying predictive modeling, precision at k, and clustering to optimize impact](https://towardsdatascience.com/maximizing-scarce-maintenance-resources-with-data-8f3491133050), by Lambda DS3 student Michael Brady. His blog post extends the Tanzania Waterpumps scenario, far beyond what's in the lecture notebook.\n",
    "\n",
    "\n",
    "## Stretch Goals\n",
    "\n",
    "### Reading\n",
    "\n",
    "- [Attacking discrimination with smarter machine learning](https://research.google.com/bigpicture/attacking-discrimination-in-ml/), by Google Research, with  interactive visualizations. _\"A threshold classifier essentially makes a yes/no decision, putting things in one category or another. We look at how these classifiers work, ways they can potentially be unfair, and how you might turn an unfair classifier into a fairer one. As an illustrative example, we focus on loan granting scenarios where a bank may grant or deny a loan based on a single, automatically computed number such as a credit score.\"_\n",
    "- [Notebook about how to calculate expected value from a confusion matrix by treating it as a cost-benefit matrix](https://github.com/podopie/DAT18NYC/blob/master/classes/13-expected_value_cost_benefit_analysis.ipynb)\n",
    "- [Visualizing Machine Learning Thresholds to Make Better Business Decisions](https://blog.insightdatascience.com/visualizing-machine-learning-thresholds-to-make-better-business-decisions-4ab07f823415)\n",
    "\n",
    "\n",
    "### Doing\n",
    "- [ ] Share visualizations in our Slack channel!\n",
    "- [ ] RandomizedSearchCV / GridSearchCV, for model selection. (See module 3 assignment notebook)\n",
    "- [ ] Stacking Ensemble. (See module 3 assignment notebook)\n",
    "- [ ] More Categorical Encoding. (See module 2 assignment notebook)"
   ]
  },
  {
   "cell_type": "code",
   "execution_count": 1,
   "metadata": {
    "colab": {},
    "colab_type": "code",
    "id": "lsbRiKBoB5RE"
   },
   "outputs": [],
   "source": [
    "%%capture\n",
    "import sys\n",
    "\n",
    "# If you're on Colab:\n",
    "if 'google.colab' in sys.modules:\n",
    "    DATA_PATH = 'https://raw.githubusercontent.com/LambdaSchool/DS-Unit-2-Kaggle-Challenge/master/data/'\n",
    "    !pip install category_encoders==2.*\n",
    "\n",
    "# If you're working locally:\n",
    "else:\n",
    "    DATA_PATH = '../data/'"
   ]
  },
  {
   "cell_type": "code",
   "execution_count": 2,
   "metadata": {
    "colab": {},
    "colab_type": "code",
    "id": "BVA1lph8CcNX"
   },
   "outputs": [],
   "source": [
    "import pandas as pd\n",
    "\n",
    "# Merge train_features.csv & train_labels.csv\n",
    "train = pd.merge(pd.read_csv(DATA_PATH+'waterpumps/train_features.csv'), \n",
    "                 pd.read_csv(DATA_PATH+'waterpumps/train_labels.csv'))\n",
    "\n",
    "# Read test_features.csv & sample_submission.csv\n",
    "test = pd.read_csv(DATA_PATH+'waterpumps/test_features.csv')\n",
    "sample_submission = pd.read_csv(DATA_PATH+'waterpumps/sample_submission.csv')"
   ]
  },
  {
   "cell_type": "code",
   "execution_count": 3,
   "metadata": {},
   "outputs": [],
   "source": [
    "import numpy as np\n",
    "\n",
    "def wrangle(X):\n",
    "    X = X.copy()\n",
    "    \n",
    "    #convert date to datetime object\n",
    "    X['date_recorded'] = pd.to_datetime(X['date_recorded'], infer_datetime_format = True)\n",
    "    \n",
    "    #Break the date out into its component features\n",
    "    X['year_recorded'] = X['date_recorded'].dt.year\n",
    "    X['month_recorded'] = X['date_recorded'].dt.month\n",
    "    X['day_recorded'] = X['date_recorded'].dt.day\n",
    "    X = X.drop(columns = 'date_recorded')\n",
    "    \n",
    "    #I kinda want to see if imputing this engineered feature helps some.\n",
    "    X['years'] = X['year_recorded'] - X['construction_year']#.replace(0, X['construction_year'].mean())\n",
    "    \n",
    "    #Changes to much, or not at all\n",
    "    unusable_variance = ['recorded_by', 'id']\n",
    "    X = X.drop(columns = unusable_variance)\n",
    "    \n",
    "    #Drop duplicate columns\n",
    "    duplicate_columns = ['quantity_group']\n",
    "    X = X.drop(columns = duplicate_columns)\n",
    "    \n",
    "    #latitude has some near zero values\n",
    "    X['latitude'] = X['latitude'].replace(-2e-08, np.nan)\n",
    "    \n",
    "    #columns with zeros need to be replaced with nans\n",
    "    cols_with_zeros = ['construction_year', 'longitude', 'latitude', 'gps_height', 'population']\n",
    "    for col in cols_with_zeros:\n",
    "        X[col] = X[col].replace(0, np.nan)\n",
    "        X[col+'_MISSING'] = X[col].isnull()\n",
    "        \n",
    "    return X"
   ]
  },
  {
   "cell_type": "code",
   "execution_count": 4,
   "metadata": {},
   "outputs": [],
   "source": [
    "#Just focused on delivering MVP tonight.  Any extra time will be spent on a new submission.\n",
    "from sklearn.model_selection import train_test_split\n",
    "target = 'status_group'\n",
    "\n",
    "train, val = train_test_split(train, test_size = len(test), stratify = train[target], \n",
    "                              random_state = 42)\n",
    "\n",
    "train = wrangle(train)\n",
    "val = wrangle(val)\n",
    "test = wrangle(test)"
   ]
  },
  {
   "cell_type": "code",
   "execution_count": 5,
   "metadata": {},
   "outputs": [],
   "source": [
    "X_train = train.drop(columns = target)\n",
    "y_train = train[target]\n",
    "X_val = val.drop(columns = target)\n",
    "y_val = val[target]\n",
    "X_test = test"
   ]
  },
  {
   "cell_type": "code",
   "execution_count": 6,
   "metadata": {},
   "outputs": [
    {
     "name": "stdout",
     "output_type": "stream",
     "text": [
      "Validation Accuracy 0.810767516367182\n"
     ]
    }
   ],
   "source": [
    "from sklearn.impute import SimpleImputer\n",
    "from sklearn.metrics import accuracy_score\n",
    "from sklearn.pipeline import make_pipeline\n",
    "from sklearn.ensemble import RandomForestClassifier\n",
    "import category_encoders as ce\n",
    "\n",
    "pipeline = make_pipeline(\n",
    "    ce.OrdinalEncoder(),\n",
    "    SimpleImputer(strategy = 'mean'),\n",
    "    RandomForestClassifier(n_estimators = 100, random_state = 42, n_jobs = -1)\n",
    ")\n",
    "\n",
    "pipeline.fit(X_train, y_train)\n",
    "y_pred = pipeline.predict(X_val)\n",
    "print('Validation Accuracy', accuracy_score(y_val, y_pred))"
   ]
  },
  {
   "cell_type": "code",
   "execution_count": 7,
   "metadata": {},
   "outputs": [
    {
     "data": {
      "image/png": "[encoded data removed]",
      "text/plain": [
       "<Figure size 576x432 with 2 Axes>"
      ]
     },
     "metadata": {
      "needs_background": "light"
     },
     "output_type": "display_data"
    }
   ],
   "source": [
    "#okay lets just jump to scikitplot, since it is a little nicer looking\n",
    "import scikitplot as skplt\n",
    "\n",
    "skplt.metrics.plot_confusion_matrix(y_val, y_pred,\n",
    "                                   figsize = (8, 6),\n",
    "                                   title = f'Confusion Matrix: N = {len(y_val)}',\n",
    "                                   normalize = False);"
   ]
  },
  {
   "cell_type": "code",
   "execution_count": 8,
   "metadata": {},
   "outputs": [
    {
     "name": "stdout",
     "output_type": "stream",
     "text": [
      "Accuracy is:  0.8140409527789386\n"
     ]
    }
   ],
   "source": [
    "#accuracy, aka how many correct predictions did we make / total predictions\n",
    "#add up the nw->se diagonl, divide it by our validation length\n",
    "\n",
    "accuracy = (7005 + 332 + 4351) / len(y_val)\n",
    "print('Accuracy is: ', accuracy)"
   ]
  },
  {
   "cell_type": "code",
   "execution_count": 9,
   "metadata": {},
   "outputs": [
    {
     "name": "stdout",
     "output_type": "stream",
     "text": [
      "Precision is:  0.8090783090783091\n"
     ]
    }
   ],
   "source": [
    "#Precision is the number of correct predictions we are trying to predict for (functionality) /\n",
    "#the total predictions of that class.  Done by dividing NW corner by the entire west column\n",
    "precision = 7005 / (7005 + 555 + 1098)\n",
    "print('Precision is: ', precision)"
   ]
  },
  {
   "cell_type": "code",
   "execution_count": 10,
   "metadata": {},
   "outputs": [
    {
     "name": "stdout",
     "output_type": "stream",
     "text": [
      "                         precision    recall  f1-score   support\n",
      "\n",
      "             functional       0.81      0.90      0.85      7798\n",
      "functional needs repair       0.58      0.31      0.41      1043\n",
      "         non functional       0.84      0.78      0.81      5517\n",
      "\n",
      "               accuracy                           0.81     14358\n",
      "              macro avg       0.74      0.66      0.69     14358\n",
      "           weighted avg       0.80      0.81      0.80     14358\n",
      "\n"
     ]
    }
   ],
   "source": [
    "#lets do it easier\n",
    "from sklearn.metrics import classification_report\n",
    "print(classification_report(y_val, y_pred))"
   ]
  },
  {
   "cell_type": "markdown",
   "metadata": {},
   "source": [
    "# Stretch\n",
    "I really want to give stacking a try at least once"
   ]
  },
  {
   "cell_type": "code",
   "execution_count": 11,
   "metadata": {},
   "outputs": [],
   "source": [
    "import pandas as pd\n",
    "\n",
    "# Merge train_features.csv & train_labels.csv\n",
    "train = pd.merge(pd.read_csv(DATA_PATH+'waterpumps/train_features.csv'), \n",
    "                 pd.read_csv(DATA_PATH+'waterpumps/train_labels.csv'))\n",
    "\n",
    "# Read test_features.csv & sample_submission.csv\n",
    "test = pd.read_csv(DATA_PATH+'waterpumps/test_features.csv')\n",
    "sample_submission = pd.read_csv(DATA_PATH+'waterpumps/sample_submission.csv')"
   ]
  },
  {
   "cell_type": "code",
   "execution_count": 12,
   "metadata": {},
   "outputs": [],
   "source": [
    "train = wrangle(train)\n",
    "test = wrangle(test)"
   ]
  },
  {
   "cell_type": "code",
   "execution_count": 13,
   "metadata": {},
   "outputs": [],
   "source": [
    "target = 'status_group'\n",
    "\n",
    "X_train = train.drop(columns = target)\n",
    "y_train = train[target]\n",
    "\n",
    "X_test = test"
   ]
  },
  {
   "cell_type": "markdown",
   "metadata": {},
   "source": [
    "# Tuning\n",
    "I'm not sure if this good practice, but it seems like I should tune each of my base models\n",
    "first"
   ]
  },
  {
   "cell_type": "code",
   "execution_count": 14,
   "metadata": {},
   "outputs": [],
   "source": [
    "from sklearn.ensemble import StackingClassifier, RandomForestClassifier\n",
    "from sklearn.linear_model import LogisticRegression\n",
    "from sklearn.tree import DecisionTreeClassifier\n",
    "\n",
    "pipe1 = make_pipeline(\n",
    "    ce.OrdinalEncoder(),\n",
    "    SimpleImputer(),\n",
    "    RandomForestClassifier(n_jobs = -1, random_state = 42)\n",
    ")\n",
    "\n",
    "pipe2 = make_pipeline(\n",
    "    ce.OrdinalEncoder(),\n",
    "    SimpleImputer(),\n",
    "    DecisionTreeClassifier(random_state = 42)\n",
    ")"
   ]
  },
  {
   "cell_type": "code",
   "execution_count": 15,
   "metadata": {},
   "outputs": [],
   "source": [
    "#this is informed by previous assignments.  If I come back to reference this, see previous\n",
    "#assignments for more notes justifying my decisions\n",
    "\n",
    "from sklearn.model_selection import RandomizedSearchCV\n",
    "from scipy.stats import uniform, randint\n",
    "\n",
    "param1 = {\n",
    "    'simpleimputer__strategy': ['mean', 'median'],\n",
    "    'randomforestclassifier__max_leaf_nodes': randint(1, 10000),\n",
    "    'randomforestclassifier__min_samples_split': randint(2, 40),\n",
    "    'randomforestclassifier__min_samples_leaf': randint(1, 20),\n",
    "    'randomforestclassifier__max_depth': randint(1, 30),\n",
    "    'randomforestclassifier__max_features': uniform(0, 1),\n",
    "    'randomforestclassifier__n_estimators': randint(100, 1000),\n",
    "    #'randomforestclassifier__min_weight_fraction_leaf': uniform(0, 1)    \n",
    "}\n",
    "\n",
    "search1 = RandomizedSearchCV(\n",
    "    pipe1,\n",
    "    param_distributions = param1,\n",
    "    n_iter = 1000,\n",
    "    cv = 5,\n",
    "    scoring = 'accuracy',\n",
    "    verbose = 10,\n",
    "    return_train_score = True,\n",
    "    n_jobs = -1\n",
    ")"
   ]
  },
  {
   "cell_type": "code",
   "execution_count": 16,
   "metadata": {},
   "outputs": [
    {
     "name": "stdout",
     "output_type": "stream",
     "text": [
      "Fitting 5 folds for each of 1000 candidates, totalling 5000 fits\n"
     ]
    },
    {
     "name": "stderr",
     "output_type": "stream",
     "text": [
      "[Parallel(n_jobs=-1)]: Using backend LokyBackend with 12 concurrent workers.\n",
      "[Parallel(n_jobs=-1)]: Done   1 tasks      | elapsed:   18.5s\n",
      "[Parallel(n_jobs=-1)]: Done   8 tasks      | elapsed:  2.9min\n",
      "[Parallel(n_jobs=-1)]: Done  17 tasks      | elapsed:  4.7min\n",
      "/home/felix/anaconda3/envs/anaconda_env/lib/python3.8/site-packages/joblib/externals/loky/process_executor.py:703: UserWarning: A worker stopped while some jobs were given to the executor. This can be caused by a too short worker timeout or by a memory leak.\n",
      "  warnings.warn(\n",
      "[Parallel(n_jobs=-1)]: Done  26 tasks      | elapsed:  7.6min\n",
      "[Parallel(n_jobs=-1)]: Done  37 tasks      | elapsed:  8.6min\n",
      "[Parallel(n_jobs=-1)]: Done  48 tasks      | elapsed: 11.4min\n",
      "[Parallel(n_jobs=-1)]: Done  61 tasks      | elapsed: 13.6min\n",
      "[Parallel(n_jobs=-1)]: Done  74 tasks      | elapsed: 16.1min\n",
      "[Parallel(n_jobs=-1)]: Done  89 tasks      | elapsed: 19.8min\n",
      "[Parallel(n_jobs=-1)]: Done 104 tasks      | elapsed: 21.4min\n",
      "[Parallel(n_jobs=-1)]: Done 121 tasks      | elapsed: 25.3min\n",
      "[Parallel(n_jobs=-1)]: Done 138 tasks      | elapsed: 26.3min\n",
      "[Parallel(n_jobs=-1)]: Done 157 tasks      | elapsed: 30.6min\n",
      "[Parallel(n_jobs=-1)]: Done 176 tasks      | elapsed: 35.1min\n",
      "[Parallel(n_jobs=-1)]: Done 197 tasks      | elapsed: 38.1min\n",
      "[Parallel(n_jobs=-1)]: Done 218 tasks      | elapsed: 40.8min\n",
      "[Parallel(n_jobs=-1)]: Done 241 tasks      | elapsed: 46.5min\n",
      "[Parallel(n_jobs=-1)]: Done 264 tasks      | elapsed: 52.1min\n",
      "[Parallel(n_jobs=-1)]: Done 289 tasks      | elapsed: 57.1min\n",
      "[Parallel(n_jobs=-1)]: Done 314 tasks      | elapsed: 68.6min\n",
      "[Parallel(n_jobs=-1)]: Done 341 tasks      | elapsed: 71.0min\n",
      "[Parallel(n_jobs=-1)]: Done 368 tasks      | elapsed: 78.0min\n",
      "[Parallel(n_jobs=-1)]: Done 397 tasks      | elapsed: 86.1min\n",
      "[Parallel(n_jobs=-1)]: Done 426 tasks      | elapsed: 91.8min\n",
      "[Parallel(n_jobs=-1)]: Done 457 tasks      | elapsed: 97.9min\n",
      "[Parallel(n_jobs=-1)]: Done 488 tasks      | elapsed: 101.7min\n",
      "[Parallel(n_jobs=-1)]: Done 521 tasks      | elapsed: 108.1min\n",
      "[Parallel(n_jobs=-1)]: Done 554 tasks      | elapsed: 116.8min\n",
      "[Parallel(n_jobs=-1)]: Done 589 tasks      | elapsed: 123.9min\n",
      "[Parallel(n_jobs=-1)]: Done 624 tasks      | elapsed: 130.5min\n",
      "[Parallel(n_jobs=-1)]: Done 661 tasks      | elapsed: 139.4min\n",
      "[Parallel(n_jobs=-1)]: Done 698 tasks      | elapsed: 147.0min\n",
      "[Parallel(n_jobs=-1)]: Done 737 tasks      | elapsed: 158.1min\n",
      "[Parallel(n_jobs=-1)]: Done 776 tasks      | elapsed: 162.3min\n",
      "[Parallel(n_jobs=-1)]: Done 817 tasks      | elapsed: 168.5min\n",
      "[Parallel(n_jobs=-1)]: Done 858 tasks      | elapsed: 173.5min\n",
      "[Parallel(n_jobs=-1)]: Done 901 tasks      | elapsed: 176.6min\n",
      "[Parallel(n_jobs=-1)]: Done 944 tasks      | elapsed: 185.0min\n",
      "[Parallel(n_jobs=-1)]: Done 989 tasks      | elapsed: 196.8min\n",
      "[Parallel(n_jobs=-1)]: Done 1034 tasks      | elapsed: 206.4min\n",
      "[Parallel(n_jobs=-1)]: Done 1081 tasks      | elapsed: 219.9min\n",
      "[Parallel(n_jobs=-1)]: Done 1128 tasks      | elapsed: 228.9min\n",
      "[Parallel(n_jobs=-1)]: Done 1177 tasks      | elapsed: 239.2min\n",
      "[Parallel(n_jobs=-1)]: Done 1226 tasks      | elapsed: 248.2min\n",
      "[Parallel(n_jobs=-1)]: Done 1277 tasks      | elapsed: 257.0min\n",
      "[Parallel(n_jobs=-1)]: Done 1328 tasks      | elapsed: 266.9min\n",
      "[Parallel(n_jobs=-1)]: Done 1381 tasks      | elapsed: 279.1min\n",
      "[Parallel(n_jobs=-1)]: Done 1434 tasks      | elapsed: 294.0min\n",
      "[Parallel(n_jobs=-1)]: Done 1489 tasks      | elapsed: 306.8min\n",
      "[Parallel(n_jobs=-1)]: Done 1544 tasks      | elapsed: 313.4min\n",
      "[Parallel(n_jobs=-1)]: Done 1601 tasks      | elapsed: 320.0min\n",
      "[Parallel(n_jobs=-1)]: Done 1658 tasks      | elapsed: 331.6min\n",
      "[Parallel(n_jobs=-1)]: Done 1717 tasks      | elapsed: 343.2min\n",
      "[Parallel(n_jobs=-1)]: Done 1776 tasks      | elapsed: 351.6min\n",
      "[Parallel(n_jobs=-1)]: Done 1837 tasks      | elapsed: 370.0min\n",
      "[Parallel(n_jobs=-1)]: Done 1898 tasks      | elapsed: 380.3min\n",
      "[Parallel(n_jobs=-1)]: Done 1961 tasks      | elapsed: 387.6min\n",
      "[Parallel(n_jobs=-1)]: Done 2024 tasks      | elapsed: 398.7min\n",
      "[Parallel(n_jobs=-1)]: Done 2089 tasks      | elapsed: 411.1min\n",
      "[Parallel(n_jobs=-1)]: Done 2154 tasks      | elapsed: 419.2min\n",
      "[Parallel(n_jobs=-1)]: Done 2221 tasks      | elapsed: 429.4min\n",
      "[Parallel(n_jobs=-1)]: Done 2288 tasks      | elapsed: 441.0min\n",
      "[Parallel(n_jobs=-1)]: Done 2357 tasks      | elapsed: 454.3min\n",
      "[Parallel(n_jobs=-1)]: Done 2426 tasks      | elapsed: 464.7min\n",
      "[Parallel(n_jobs=-1)]: Done 2497 tasks      | elapsed: 473.4min\n",
      "[Parallel(n_jobs=-1)]: Done 2568 tasks      | elapsed: 487.6min\n",
      "[Parallel(n_jobs=-1)]: Done 2641 tasks      | elapsed: 500.3min\n",
      "[Parallel(n_jobs=-1)]: Done 2714 tasks      | elapsed: 511.9min\n",
      "[Parallel(n_jobs=-1)]: Done 2789 tasks      | elapsed: 526.4min\n",
      "[Parallel(n_jobs=-1)]: Done 2864 tasks      | elapsed: 541.1min\n",
      "[Parallel(n_jobs=-1)]: Done 2941 tasks      | elapsed: 551.8min\n",
      "[Parallel(n_jobs=-1)]: Done 3018 tasks      | elapsed: 570.0min\n",
      "[Parallel(n_jobs=-1)]: Done 3097 tasks      | elapsed: 584.0min\n",
      "[Parallel(n_jobs=-1)]: Done 3176 tasks      | elapsed: 600.2min\n",
      "[Parallel(n_jobs=-1)]: Done 3257 tasks      | elapsed: 615.5min\n",
      "[Parallel(n_jobs=-1)]: Done 3338 tasks      | elapsed: 629.9min\n",
      "[Parallel(n_jobs=-1)]: Done 3421 tasks      | elapsed: 647.1min\n",
      "[Parallel(n_jobs=-1)]: Done 3504 tasks      | elapsed: 662.9min\n",
      "[Parallel(n_jobs=-1)]: Done 3589 tasks      | elapsed: 678.2min\n",
      "[Parallel(n_jobs=-1)]: Done 3674 tasks      | elapsed: 696.4min\n",
      "[Parallel(n_jobs=-1)]: Done 3761 tasks      | elapsed: 704.0min\n",
      "[Parallel(n_jobs=-1)]: Done 3848 tasks      | elapsed: 723.7min\n",
      "[Parallel(n_jobs=-1)]: Done 3937 tasks      | elapsed: 744.4min\n",
      "[Parallel(n_jobs=-1)]: Done 4026 tasks      | elapsed: 764.7min\n",
      "[Parallel(n_jobs=-1)]: Done 4117 tasks      | elapsed: 778.8min\n",
      "[Parallel(n_jobs=-1)]: Done 4208 tasks      | elapsed: 796.1min\n",
      "[Parallel(n_jobs=-1)]: Done 4301 tasks      | elapsed: 815.2min\n",
      "[Parallel(n_jobs=-1)]: Done 4394 tasks      | elapsed: 831.6min\n",
      "[Parallel(n_jobs=-1)]: Done 4489 tasks      | elapsed: 852.2min\n",
      "[Parallel(n_jobs=-1)]: Done 4584 tasks      | elapsed: 872.4min\n",
      "[Parallel(n_jobs=-1)]: Done 4681 tasks      | elapsed: 891.4min\n",
      "[Parallel(n_jobs=-1)]: Done 4778 tasks      | elapsed: 908.2min\n",
      "[Parallel(n_jobs=-1)]: Done 4877 tasks      | elapsed: 923.9min\n",
      "[Parallel(n_jobs=-1)]: Done 4976 tasks      | elapsed: 939.0min\n",
      "[Parallel(n_jobs=-1)]: Done 5000 out of 5000 | elapsed: 941.0min finished\n"
     ]
    }
   ],
   "source": [
    "best1 = search1.fit(X_train, y_train);"
   ]
  },
  {
   "cell_type": "code",
   "execution_count": 17,
   "metadata": {},
   "outputs": [
    {
     "name": "stdout",
     "output_type": "stream",
     "text": [
      "Best Params: {'randomforestclassifier__max_depth': 25, 'randomforestclassifier__max_features': 0.45337567555257163, 'randomforestclassifier__max_leaf_nodes': 9421, 'randomforestclassifier__min_samples_leaf': 2, 'randomforestclassifier__min_samples_split': 2, 'randomforestclassifier__n_estimators': 924, 'simpleimputer__strategy': 'mean'}\n",
      "Cross-Validation Score: 0.813097643097643\n"
     ]
    }
   ],
   "source": [
    "print('Best Params:', search1.best_params_)\n",
    "print('Cross-Validation Score:', search1.best_score_)"
   ]
  },
  {
   "cell_type": "code",
   "execution_count": 18,
   "metadata": {},
   "outputs": [],
   "source": [
    "param2 = {\n",
    "    'simpleimputer__strategy': ['mean', 'median'],\n",
    "    'decisiontreeclassifier__max_leaf_nodes': randint(1, 10000),\n",
    "    'decisiontreeclassifier__min_samples_split': randint(2, 40),\n",
    "    'decisiontreeclassifier__min_samples_leaf': randint(1, 20),\n",
    "    'decisiontreeclassifier__max_depth': randint(1, 30),\n",
    "    'decisiontreeclassifier__max_features': uniform(0, 1),\n",
    "    #'decisiontreeclassifier__min_weight_fraction_leaf': uniform(0, 1)    \n",
    "}\n",
    "\n",
    "search2 = RandomizedSearchCV(\n",
    "    pipe2,\n",
    "    param_distributions = param2,\n",
    "    n_iter = 1000,\n",
    "    cv = 5,\n",
    "    scoring = 'accuracy',\n",
    "    verbose = 10,\n",
    "    return_train_score = True,\n",
    "    n_jobs = -1\n",
    ")"
   ]
  },
  {
   "cell_type": "code",
   "execution_count": 19,
   "metadata": {},
   "outputs": [
    {
     "name": "stdout",
     "output_type": "stream",
     "text": [
      "Fitting 5 folds for each of 1000 candidates, totalling 5000 fits\n"
     ]
    },
    {
     "name": "stderr",
     "output_type": "stream",
     "text": [
      "[Parallel(n_jobs=-1)]: Using backend LokyBackend with 12 concurrent workers.\n",
      "[Parallel(n_jobs=-1)]: Done   1 tasks      | elapsed:    2.6s\n",
      "[Parallel(n_jobs=-1)]: Done   8 tasks      | elapsed:    4.7s\n",
      "[Parallel(n_jobs=-1)]: Done  17 tasks      | elapsed:    7.0s\n",
      "[Parallel(n_jobs=-1)]: Done  26 tasks      | elapsed:   10.1s\n",
      "[Parallel(n_jobs=-1)]: Done  37 tasks      | elapsed:   13.2s\n",
      "[Parallel(n_jobs=-1)]: Done  48 tasks      | elapsed:   15.8s\n",
      "[Parallel(n_jobs=-1)]: Done  61 tasks      | elapsed:   20.3s\n",
      "[Parallel(n_jobs=-1)]: Done  74 tasks      | elapsed:   24.0s\n",
      "[Parallel(n_jobs=-1)]: Done  89 tasks      | elapsed:   28.6s\n",
      "[Parallel(n_jobs=-1)]: Done 104 tasks      | elapsed:   33.1s\n",
      "[Parallel(n_jobs=-1)]: Done 121 tasks      | elapsed:   38.8s\n",
      "[Parallel(n_jobs=-1)]: Done 138 tasks      | elapsed:   43.8s\n",
      "[Parallel(n_jobs=-1)]: Done 157 tasks      | elapsed:   49.4s\n",
      "[Parallel(n_jobs=-1)]: Done 176 tasks      | elapsed:   55.9s\n",
      "[Parallel(n_jobs=-1)]: Done 197 tasks      | elapsed:  1.0min\n",
      "[Parallel(n_jobs=-1)]: Done 218 tasks      | elapsed:  1.1min\n",
      "[Parallel(n_jobs=-1)]: Done 241 tasks      | elapsed:  1.2min\n",
      "[Parallel(n_jobs=-1)]: Done 264 tasks      | elapsed:  1.3min\n",
      "[Parallel(n_jobs=-1)]: Done 289 tasks      | elapsed:  1.5min\n",
      "[Parallel(n_jobs=-1)]: Done 314 tasks      | elapsed:  1.6min\n",
      "[Parallel(n_jobs=-1)]: Done 341 tasks      | elapsed:  1.7min\n",
      "[Parallel(n_jobs=-1)]: Done 368 tasks      | elapsed:  1.9min\n",
      "[Parallel(n_jobs=-1)]: Done 397 tasks      | elapsed:  2.0min\n",
      "[Parallel(n_jobs=-1)]: Done 426 tasks      | elapsed:  2.2min\n",
      "[Parallel(n_jobs=-1)]: Done 457 tasks      | elapsed:  2.3min\n",
      "[Parallel(n_jobs=-1)]: Done 488 tasks      | elapsed:  2.5min\n",
      "[Parallel(n_jobs=-1)]: Done 521 tasks      | elapsed:  2.6min\n",
      "[Parallel(n_jobs=-1)]: Done 554 tasks      | elapsed:  2.8min\n",
      "[Parallel(n_jobs=-1)]: Done 589 tasks      | elapsed:  3.0min\n",
      "[Parallel(n_jobs=-1)]: Done 624 tasks      | elapsed:  3.1min\n",
      "[Parallel(n_jobs=-1)]: Done 661 tasks      | elapsed:  3.3min\n",
      "[Parallel(n_jobs=-1)]: Done 698 tasks      | elapsed:  3.5min\n",
      "[Parallel(n_jobs=-1)]: Done 737 tasks      | elapsed:  3.7min\n",
      "[Parallel(n_jobs=-1)]: Done 776 tasks      | elapsed:  3.9min\n",
      "[Parallel(n_jobs=-1)]: Done 817 tasks      | elapsed:  4.1min\n",
      "[Parallel(n_jobs=-1)]: Done 858 tasks      | elapsed:  4.3min\n",
      "[Parallel(n_jobs=-1)]: Done 901 tasks      | elapsed:  4.5min\n",
      "[Parallel(n_jobs=-1)]: Done 944 tasks      | elapsed:  4.7min\n",
      "[Parallel(n_jobs=-1)]: Done 989 tasks      | elapsed:  5.0min\n",
      "[Parallel(n_jobs=-1)]: Done 1034 tasks      | elapsed:  5.2min\n",
      "[Parallel(n_jobs=-1)]: Done 1081 tasks      | elapsed:  5.4min\n",
      "[Parallel(n_jobs=-1)]: Done 1128 tasks      | elapsed:  5.7min\n",
      "[Parallel(n_jobs=-1)]: Done 1177 tasks      | elapsed:  5.9min\n",
      "[Parallel(n_jobs=-1)]: Done 1226 tasks      | elapsed:  6.1min\n",
      "[Parallel(n_jobs=-1)]: Done 1277 tasks      | elapsed:  6.4min\n",
      "[Parallel(n_jobs=-1)]: Done 1328 tasks      | elapsed:  6.6min\n",
      "[Parallel(n_jobs=-1)]: Done 1381 tasks      | elapsed:  6.9min\n",
      "[Parallel(n_jobs=-1)]: Done 1434 tasks      | elapsed:  7.2min\n",
      "[Parallel(n_jobs=-1)]: Done 1489 tasks      | elapsed:  7.5min\n",
      "[Parallel(n_jobs=-1)]: Done 1544 tasks      | elapsed:  7.7min\n",
      "[Parallel(n_jobs=-1)]: Done 1601 tasks      | elapsed:  8.0min\n",
      "[Parallel(n_jobs=-1)]: Done 1658 tasks      | elapsed:  8.3min\n",
      "/home/felix/anaconda3/envs/anaconda_env/lib/python3.8/site-packages/joblib/externals/loky/process_executor.py:703: UserWarning: A worker stopped while some jobs were given to the executor. This can be caused by a too short worker timeout or by a memory leak.\n",
      "  warnings.warn(\n",
      "[Parallel(n_jobs=-1)]: Done 1717 tasks      | elapsed:  8.6min\n",
      "[Parallel(n_jobs=-1)]: Done 1776 tasks      | elapsed:  8.9min\n",
      "[Parallel(n_jobs=-1)]: Done 1837 tasks      | elapsed:  9.2min\n",
      "[Parallel(n_jobs=-1)]: Done 1898 tasks      | elapsed:  9.5min\n",
      "[Parallel(n_jobs=-1)]: Done 1961 tasks      | elapsed:  9.8min\n",
      "[Parallel(n_jobs=-1)]: Done 2024 tasks      | elapsed: 10.1min\n",
      "[Parallel(n_jobs=-1)]: Done 2089 tasks      | elapsed: 10.5min\n",
      "[Parallel(n_jobs=-1)]: Done 2154 tasks      | elapsed: 10.8min\n",
      "[Parallel(n_jobs=-1)]: Done 2221 tasks      | elapsed: 11.1min\n",
      "[Parallel(n_jobs=-1)]: Done 2288 tasks      | elapsed: 11.5min\n",
      "[Parallel(n_jobs=-1)]: Done 2357 tasks      | elapsed: 11.8min\n",
      "[Parallel(n_jobs=-1)]: Done 2426 tasks      | elapsed: 12.2min\n",
      "[Parallel(n_jobs=-1)]: Done 2497 tasks      | elapsed: 12.5min\n",
      "[Parallel(n_jobs=-1)]: Done 2568 tasks      | elapsed: 12.9min\n",
      "[Parallel(n_jobs=-1)]: Done 2641 tasks      | elapsed: 13.3min\n",
      "[Parallel(n_jobs=-1)]: Done 2714 tasks      | elapsed: 13.6min\n",
      "[Parallel(n_jobs=-1)]: Done 2789 tasks      | elapsed: 14.0min\n",
      "[Parallel(n_jobs=-1)]: Done 2864 tasks      | elapsed: 14.4min\n",
      "[Parallel(n_jobs=-1)]: Done 2941 tasks      | elapsed: 14.7min\n",
      "[Parallel(n_jobs=-1)]: Done 3018 tasks      | elapsed: 15.1min\n",
      "[Parallel(n_jobs=-1)]: Done 3097 tasks      | elapsed: 15.5min\n",
      "[Parallel(n_jobs=-1)]: Done 3176 tasks      | elapsed: 15.9min\n",
      "[Parallel(n_jobs=-1)]: Done 3257 tasks      | elapsed: 16.3min\n",
      "[Parallel(n_jobs=-1)]: Done 3338 tasks      | elapsed: 16.7min\n",
      "[Parallel(n_jobs=-1)]: Done 3421 tasks      | elapsed: 17.2min\n",
      "[Parallel(n_jobs=-1)]: Done 3504 tasks      | elapsed: 17.6min\n",
      "[Parallel(n_jobs=-1)]: Done 3589 tasks      | elapsed: 18.0min\n",
      "[Parallel(n_jobs=-1)]: Done 3674 tasks      | elapsed: 18.4min\n",
      "[Parallel(n_jobs=-1)]: Done 3761 tasks      | elapsed: 18.9min\n",
      "[Parallel(n_jobs=-1)]: Done 3848 tasks      | elapsed: 19.3min\n",
      "[Parallel(n_jobs=-1)]: Done 3937 tasks      | elapsed: 19.8min\n",
      "[Parallel(n_jobs=-1)]: Done 4026 tasks      | elapsed: 20.2min\n",
      "[Parallel(n_jobs=-1)]: Done 4117 tasks      | elapsed: 20.7min\n",
      "[Parallel(n_jobs=-1)]: Done 4208 tasks      | elapsed: 21.1min\n",
      "[Parallel(n_jobs=-1)]: Done 4301 tasks      | elapsed: 21.6min\n",
      "[Parallel(n_jobs=-1)]: Done 4394 tasks      | elapsed: 22.1min\n",
      "[Parallel(n_jobs=-1)]: Done 4489 tasks      | elapsed: 22.5min\n",
      "[Parallel(n_jobs=-1)]: Done 4584 tasks      | elapsed: 23.0min\n",
      "[Parallel(n_jobs=-1)]: Done 4681 tasks      | elapsed: 23.5min\n",
      "[Parallel(n_jobs=-1)]: Done 4778 tasks      | elapsed: 24.0min\n",
      "[Parallel(n_jobs=-1)]: Done 4877 tasks      | elapsed: 24.5min\n",
      "[Parallel(n_jobs=-1)]: Done 4976 tasks      | elapsed: 25.0min\n",
      "[Parallel(n_jobs=-1)]: Done 5000 out of 5000 | elapsed: 25.1min finished\n"
     ]
    }
   ],
   "source": [
    "best2 = search2.fit(X_train, y_train)"
   ]
  },
  {
   "cell_type": "code",
   "execution_count": 20,
   "metadata": {},
   "outputs": [
    {
     "name": "stdout",
     "output_type": "stream",
     "text": [
      "Best Params: {'decisiontreeclassifier__max_depth': 28, 'decisiontreeclassifier__max_features': 0.9380727261648651, 'decisiontreeclassifier__max_leaf_nodes': 761, 'decisiontreeclassifier__min_samples_leaf': 7, 'decisiontreeclassifier__min_samples_split': 11, 'simpleimputer__strategy': 'mean'}\n",
      "Cross-Validation Score: 0.7725420875420875\n"
     ]
    }
   ],
   "source": [
    "print('Best Params:', search2.best_params_)\n",
    "print('Cross-Validation Score:', search2.best_score_)"
   ]
  },
  {
   "cell_type": "code",
   "execution_count": 21,
   "metadata": {},
   "outputs": [],
   "source": [
    "estimators = [\n",
    "    ('rf', RandomForestClassifier(\n",
    "        max_leaf_nodes = best1.best_params_['randomforestclassifier__max_leaf_nodes'],\n",
    "        min_samples_split = best1.best_params_['randomforestclassifier__min_samples_split'],\n",
    "        min_samples_leaf = best1.best_params_['randomforestclassifier__min_samples_leaf'],\n",
    "        max_depth = best1.best_params_['randomforestclassifier__max_depth'],\n",
    "        max_features = best1.best_params_['randomforestclassifier__max_features'],\n",
    "        n_estimators = best1.best_params_['randomforestclassifier__n_estimators'],\n",
    "        n_jobs = -1,\n",
    "        random_state = 42)),\n",
    "    ('dtc', DecisionTreeClassifier(\n",
    "        max_leaf_nodes = best2.best_params_['decisiontreeclassifier__max_leaf_nodes'],\n",
    "        min_samples_split = best2.best_params_['decisiontreeclassifier__min_samples_split'],\n",
    "        min_samples_leaf = best2.best_params_['decisiontreeclassifier__min_samples_leaf'],\n",
    "        max_depth = best2.best_params_['decisiontreeclassifier__max_depth'],\n",
    "        max_features = best2.best_params_['decisiontreeclassifier__max_features'],\n",
    "        random_state = 42))\n",
    "]\n",
    "\n",
    "final_pipe = make_pipeline(\n",
    "    ce.OrdinalEncoder(),\n",
    "    SimpleImputer(strategy = 'mean'),\n",
    "    StackingClassifier(estimators = estimators, final_estimator = LogisticRegression())\n",
    ")"
   ]
  },
  {
   "cell_type": "code",
   "execution_count": 22,
   "metadata": {},
   "outputs": [
    {
     "name": "stderr",
     "output_type": "stream",
     "text": [
      "/home/felix/anaconda3/envs/anaconda_env/lib/python3.8/site-packages/joblib/externals/loky/process_executor.py:703: UserWarning: A worker stopped while some jobs were given to the executor. This can be caused by a too short worker timeout or by a memory leak.\n",
      "  warnings.warn(\n",
      "/home/felix/anaconda3/envs/anaconda_env/lib/python3.8/site-packages/joblib/externals/loky/process_executor.py:703: UserWarning: A worker stopped while some jobs were given to the executor. This can be caused by a too short worker timeout or by a memory leak.\n",
      "  warnings.warn(\n",
      "/home/felix/anaconda3/envs/anaconda_env/lib/python3.8/site-packages/joblib/externals/loky/process_executor.py:703: UserWarning: A worker stopped while some jobs were given to the executor. This can be caused by a too short worker timeout or by a memory leak.\n",
      "  warnings.warn(\n"
     ]
    }
   ],
   "source": [
    "final_pipe.fit(X_train, y_train)\n",
    "y_pred = final_pipe.predict(X_test)"
   ]
  },
  {
   "cell_type": "code",
   "execution_count": 23,
   "metadata": {},
   "outputs": [],
   "source": [
    "submission = sample_submission.copy()\n",
    "submission['status_group'] = y_pred\n",
    "submission.to_csv('stacked_2.csv', index = False)"
   ]
  },
  {
   "cell_type": "code",
   "execution_count": null,
   "metadata": {},
   "outputs": [],
   "source": []
  }
 ],
 "metadata": {
  "kernelspec": {
   "display_name": "Python 3",
   "language": "python",
   "name": "python3"
  },
  "language_info": {
   "codemirror_mode": {
    "name": "ipython",
    "version": 3
   },
   "file_extension": ".py",
   "mimetype": "text/x-python",
   "name": "python",
   "nbconvert_exporter": "python",
   "pygments_lexer": "ipython3",
   "version": "3.8.1"
  }
 },
 "nbformat": 4,
 "nbformat_minor": 1
}
