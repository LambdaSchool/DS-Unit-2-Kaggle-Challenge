{
  "nbformat": 4,
  "nbformat_minor": 0,
  "metadata": {
    "kernelspec": {
      "display_name": "Python 3",
      "language": "python",
      "name": "python3"
    },
    "language_info": {
      "codemirror_mode": {
        "name": "ipython",
        "version": 3
      },
      "file_extension": ".py",
      "mimetype": "text/x-python",
      "name": "python",
      "nbconvert_exporter": "python",
      "pygments_lexer": "ipython3",
      "version": "3.7.6"
    },
    "colab": {
      "name": "LS_DS_224_assignment.ipynb",
      "provenance": []
    }
  },
  "cells": [
    {
      "cell_type": "markdown",
      "metadata": {
        "id": "O4lEjzDHbqNT",
        "colab_type": "text"
      },
      "source": [
        "Lambda School Data Science\n",
        "\n",
        "*Unit 2, Sprint 2, Module 4*\n",
        "\n",
        "---"
      ]
    },
    {
      "cell_type": "markdown",
      "metadata": {
        "colab_type": "text",
        "id": "nCc3XZEyG3XV"
      },
      "source": [
        "# Classification Metrics\n",
        "\n",
        "## Assignment\n",
        "- [ ] If you haven't yet, [review requirements for your portfolio project](https://lambdaschool.github.io/ds/unit2), then submit your dataset.\n",
        "- [ ] Plot a confusion matrix for your Tanzania Waterpumps model.\n",
        "- [ ] Continue to participate in our Kaggle challenge. Every student should have made at least one submission that scores at least 70% accuracy (well above the majority class baseline).\n",
        "- [ ] Submit your final predictions to our Kaggle competition. Optionally, go to **My Submissions**, and _\"you may select up to 1 submission to be used to count towards your final leaderboard score.\"_\n",
        "- [ ] Commit your notebook to your fork of the GitHub repo.\n",
        "- [ ] Read [Maximizing Scarce Maintenance Resources with Data: Applying predictive modeling, precision at k, and clustering to optimize impact](https://towardsdatascience.com/maximizing-scarce-maintenance-resources-with-data-8f3491133050), by Lambda DS3 student Michael Brady. His blog post extends the Tanzania Waterpumps scenario, far beyond what's in the lecture notebook.\n",
        "\n",
        "\n",
        "## Stretch Goals\n",
        "\n",
        "### Reading\n",
        "\n",
        "- [Attacking discrimination with smarter machine learning](https://research.google.com/bigpicture/attacking-discrimination-in-ml/), by Google Research, with  interactive visualizations. _\"A threshold classifier essentially makes a yes/no decision, putting things in one category or another. We look at how these classifiers work, ways they can potentially be unfair, and how you might turn an unfair classifier into a fairer one. As an illustrative example, we focus on loan granting scenarios where a bank may grant or deny a loan based on a single, automatically computed number such as a credit score.\"_\n",
        "- [Notebook about how to calculate expected value from a confusion matrix by treating it as a cost-benefit matrix](https://github.com/podopie/DAT18NYC/blob/master/classes/13-expected_value_cost_benefit_analysis.ipynb)\n",
        "- [Visualizing Machine Learning Thresholds to Make Better Business Decisions](https://blog.insightdatascience.com/visualizing-machine-learning-thresholds-to-make-better-business-decisions-4ab07f823415)\n",
        "\n",
        "\n",
        "### Doing\n",
        "- [ ] Share visualizations in our Slack channel!\n",
        "- [ ] RandomizedSearchCV / GridSearchCV, for model selection. (See module 3 assignment notebook)\n",
        "- [ ] Stacking Ensemble. (See module 3 assignment notebook)\n",
        "- [ ] More Categorical Encoding. (See module 2 assignment notebook)"
      ]
    },
    {
      "cell_type": "code",
      "metadata": {
        "colab_type": "code",
        "id": "lsbRiKBoB5RE",
        "colab": {}
      },
      "source": [
        "%%capture\n",
        "import sys\n",
        "\n",
        "# If you're on Colab:\n",
        "if 'google.colab' in sys.modules:\n",
        "    DATA_PATH = 'https://raw.githubusercontent.com/LambdaSchool/DS-Unit-2-Kaggle-Challenge/master/data/'\n",
        "    !pip install category_encoders==2.*\n",
        "\n",
        "# If you're working locally:\n",
        "else:\n",
        "    DATA_PATH = '../data/'"
      ],
      "execution_count": 0,
      "outputs": []
    },
    {
      "cell_type": "code",
      "metadata": {
        "colab_type": "code",
        "id": "BVA1lph8CcNX",
        "colab": {}
      },
      "source": [
        "import pandas as pd\n",
        "\n",
        "# Merge train_features.csv & train_labels.csv\n",
        "train = pd.merge(pd.read_csv(DATA_PATH+'waterpumps/train_features.csv'), \n",
        "                 pd.read_csv(DATA_PATH+'waterpumps/train_labels.csv'))\n",
        "\n",
        "# Read test_features.csv & sample_submission.csv\n",
        "test = pd.read_csv(DATA_PATH+'waterpumps/test_features.csv')\n",
        "sample_submission = pd.read_csv(DATA_PATH+'waterpumps/sample_submission.csv')"
      ],
      "execution_count": 0,
      "outputs": []
    },
    {
      "cell_type": "code",
      "metadata": {
        "id": "wtQLim8-bqNf",
        "colab_type": "code",
        "colab": {}
      },
      "source": [
        "# importing numpy and scipy stats\n",
        "from scipy.stats import mode\n",
        "import numpy as np\n"
      ],
      "execution_count": 0,
      "outputs": []
    },
    {
      "cell_type": "code",
      "metadata": {
        "id": "JSjfInvmcoHR",
        "colab_type": "code",
        "colab": {
          "base_uri": "https://localhost:8080/",
          "height": 34
        },
        "outputId": "e26353dd-0638-4ffd-aa5b-43abfdd85e7c"
      },
      "source": [
        "target = 'status_group'\n",
        "y_train = train[target]\n",
        "\n",
        "y_train.shape"
      ],
      "execution_count": 91,
      "outputs": [
        {
          "output_type": "execute_result",
          "data": {
            "text/plain": [
              "(59400,)"
            ]
          },
          "metadata": {
            "tags": []
          },
          "execution_count": 91
        }
      ]
    },
    {
      "cell_type": "code",
      "metadata": {
        "id": "5Bdd9hjyqYLA",
        "colab_type": "code",
        "colab": {
          "base_uri": "https://localhost:8080/",
          "height": 34
        },
        "outputId": "c5eea275-c849-4687-e778-bb8936179070"
      },
      "source": [
        "x_train['longitude'].isnull().sum()"
      ],
      "execution_count": 92,
      "outputs": [
        {
          "output_type": "execute_result",
          "data": {
            "text/plain": [
              "0"
            ]
          },
          "metadata": {
            "tags": []
          },
          "execution_count": 92
        }
      ]
    },
    {
      "cell_type": "code",
      "metadata": {
        "id": "9e9BRm3xpdPx",
        "colab_type": "code",
        "colab": {
          "base_uri": "https://localhost:8080/",
          "height": 34
        },
        "outputId": "31a8eed8-5bad-48f4-9784-47f857a6a043"
      },
      "source": [
        "x_train['ward'].isnull().sum()"
      ],
      "execution_count": 93,
      "outputs": [
        {
          "output_type": "execute_result",
          "data": {
            "text/plain": [
              "0"
            ]
          },
          "metadata": {
            "tags": []
          },
          "execution_count": 93
        }
      ]
    },
    {
      "cell_type": "code",
      "metadata": {
        "id": "B1p9Oxvwcxxa",
        "colab_type": "code",
        "colab": {}
      },
      "source": [
        "# Creating the list of the columns that I want to drop here and\n",
        "# then will pass them into the wrangle function\n",
        "target = 'status_group'\n",
        "# This is a list of some of the colums that I want to drop\n",
        "# Will drop subvillage -- because similar results as lat and lon\n",
        "# Dropping funder:  has high cardinality\n",
        "# Dropping the wpt_name:  has high cardinality is the name of the water point\n",
        "# Dropping payment_type:  same as payment(duplicate)\n",
        "cols_to_drop = ['id', 'quantity_group', 'recorded_by', \"subvillage\", \n",
        "                'num_private', 'funder', 'wpt_name' ,'scheme_name', 'payment_type',\n",
        "                'quality_group', ]"
      ],
      "execution_count": 0,
      "outputs": []
    },
    {
      "cell_type": "code",
      "metadata": {
        "id": "gz1lNPCrr18N",
        "colab_type": "code",
        "colab": {}
      },
      "source": [
        "# These are some inner functions in my wrangle function that help\n",
        "# With the fixing the latitude and the longitude\n",
        "def myLatitude(theRow,df):\n",
        "  \n",
        "  if pd.isnull(theRow['latitude']):\n",
        "    theWard = theRow['ward']\n",
        "    lat = df[df['ward'] == theWard]\n",
        "    theMode = mode(lat['latitude'])\n",
        "    return (theMode[0][0])\n",
        "  return (theRow['latitude'])\n",
        "\n",
        "def myLon(theRow, df): \n",
        "  if (pd.isnull(theRow['longitude'])):\n",
        "    lon = df[df['ward'] == theRow['ward']]\n",
        "    theMode = mode(lon['longitude'])\n",
        "    return (theMode[0][0])\n",
        "  return (theRow['longitude'])"
      ],
      "execution_count": 0,
      "outputs": []
    },
    {
      "cell_type": "code",
      "metadata": {
        "id": "0_6AlDqsropW",
        "colab_type": "code",
        "colab": {}
      },
      "source": [
        "# This is my wrangle function\n",
        "\n",
        "def wrangleFxn(df, cols_to_drop ,numCardinal=50, useMode=True, num=None, highVar=None, lowVar=None, useDropList=True ):\n",
        "  ''' This is the wrangle function\n",
        "      It will take in a dataFrame either the train, test, or validate.\n",
        "      It should have the TARGET already removed from it. \n",
        "\n",
        "      cols_to_drop:   List of features that you want to drop automatically from \n",
        "                      the dataFrame\n",
        "                      It will drop the columns before looking at the cardinality of the\n",
        "                      columns.\n",
        "\n",
        "      numCardinal:  default is 50. This is the threshold.  If it is less\n",
        "                    than  or equal to this number it is retained in the \n",
        "                    features.\n",
        "      useMode:  default is True.  This will use the apply functiontion to \n",
        "                make the lat and lon have values similar to those in \n",
        "                the ward that it is found.\n",
        "      num:      default is None.  It this is set to a number, \n",
        "                it will further reduce the cardinality of the\n",
        "                cardinal features to a specified number. \n",
        "      \n",
        "      highVar:  Default is None. If set will drop any columns that have more \n",
        "                variance than what is set here as the threshold.  Should be\n",
        "                set as a float ie(.90 or .8)\n",
        "      \n",
        "      lowVar:   Default is None. if set will drop any columns who have less\n",
        "                variance than here.  Should be set as a float ie(.1 or .234)\n",
        "\n",
        "      useDropList:  Default is True.  When is True will use the cols_to_drop parameter.\n",
        "                    When false will not use the cols_to_drop parameter \n",
        "\n",
        "      returns:  Will return the datframe prepared for the pipeline.\n",
        "\n",
        "  '''\n",
        "  \n",
        "  \n",
        "  target = 'status_group'\n",
        "  # making the copy\n",
        "  df = df.copy()\n",
        "  # will try to drop the target if it is present\n",
        "  if target in df.columns:\n",
        "    df = df.drop(columns=[target])\n",
        "  \n",
        "  # Will be setting the long and lat before doing any dropping\n",
        "  df['latitude'] = df['latitude'].replace(-2e-08, 0)\n",
        "\n",
        "  # Getting rid of the zeros in the latitude and the longitude putting in \n",
        "  # np.nan\n",
        "  cols_w_zeros = ['latitude', 'longitude']\n",
        "\n",
        "  for col in cols_w_zeros:\n",
        "    df[col] = df[col].replace(0, np.nan)\n",
        "\n",
        "  if useMode == True:\n",
        "    #This is to make the latitude and the longitude have\n",
        "    # numbers similar to those whose region they are in\n",
        "    df['latitude'] = df.apply(myLatitude, axis=1, args=(df,))\n",
        "    df['longitude'] = df.apply(myLon, axis=1, args=(df,))\n",
        "    pd.to_numeric(df['latitude'])\n",
        "  \n",
        "  # Changing the format to dateTime format and then\n",
        "  # making \n",
        "  df['date_recorded'] = pd.to_datetime(df['date_recorded'])\n",
        "  df['construction_year'] = pd.to_datetime(df['construction_year'])\n",
        "  df['construction_year'] = df['construction_year'].dt.year\n",
        "\n",
        "  df['year_recorded'] = df['date_recorded'].dt.year\n",
        "  df['month_recorded'] = df['date_recorded'].dt.month\n",
        "  df['day_recorded'] = df['date_recorded'].dt.day\n",
        "\n",
        "  # Making a new feature that will be \"year_age\"\n",
        "  df['year_age']  = df['year_recorded'] - df['construction_year']\n",
        "  \n",
        "  # Dropping the columns preset to drop\n",
        "  if useDropList == True:\n",
        "    df = df.drop(columns= cols_to_drop)\n",
        "\n",
        "  # Getting a list of the cardinal features at the start\n",
        "  cardinals = df.select_dtypes(exclude='number')\n",
        "\n",
        "  # This to drop features that are left that have high skew (almost no variance)\n",
        "  # or possibly too much variance\n",
        "  if highVar != None:\n",
        "    # Getting a list of the cardinal features at the start\n",
        "    cardinals = df.select_dtypes(exclude='number')\n",
        "    tCol = cardinals.columns.to_list()\n",
        "    for col in tCol:\n",
        "      if df[col].value_counts(normalize=True, dropna=False).to_list()[0]  > highVar:\n",
        "        df = df.drop(columns=[col])\n",
        "  \n",
        "  if lowVar != None:\n",
        "    # Getting a list of the cardinal features at the start\n",
        "    cardinals = df.select_dtypes(exclude='number')\n",
        "    tCol = cardinals.columns.to_list()\n",
        "    \n",
        "    for col in tCol:\n",
        "      if df[col].value_counts(normalize=True, dropna=False).to_list()[0] < lowVar:\n",
        "        df = df.drop(columns=[col])\n",
        "\n",
        "\n",
        "  # Getting the number of features that are numerical\n",
        "  numerical_features = df.select_dtypes(include='number').columns.tolist()\n",
        "\n",
        "  # Getting the amounts in each feature of the cardinal features\n",
        "  cardinalFeatureAmounts = df.select_dtypes(exclude='number')\n",
        "  cardinalFeatureAmounts = cardinalFeatureAmounts.nunique()\n",
        "  # checking to see if 'ward' is in the list\n",
        "\n",
        "  # Creating a list of the features that have less than 50 cardinality\n",
        "  cardinal = cardinalFeatureAmounts[cardinalFeatureAmounts <= numCardinal].index.tolist()\n",
        "  \n",
        "  if num != None:\n",
        "    #This is to reduce the number of features in the cardinal groups\n",
        "    for feature in cardinal:\n",
        "      # getting the top specified amount\n",
        "      topNum = df[feature].value_counts().index[:num-1].tolist()\n",
        "      # replace those that are not in there with 'other'\n",
        "      df.loc[~df[feature].isin(topNum), feature] = 'Other'\n",
        "\n",
        "  # List of all the features\n",
        "  features = numerical_features + cardinal\n",
        "\n",
        "  \n",
        "  \n",
        "\n",
        "  return df[features]"
      ],
      "execution_count": 0,
      "outputs": []
    },
    {
      "cell_type": "code",
      "metadata": {
        "id": "R9F7pkmhdDvf",
        "colab_type": "code",
        "colab": {}
      },
      "source": [
        "x_train1 = wrangleFxn(train, cols_to_drop=cols_to_drop, numCardinal=55, useMode=True, num=None, highVar=.90, lowVar=.3)"
      ],
      "execution_count": 0,
      "outputs": []
    },
    {
      "cell_type": "code",
      "metadata": {
        "id": "tYv7kLsppDLz",
        "colab_type": "code",
        "colab": {
          "base_uri": "https://localhost:8080/",
          "height": 470
        },
        "outputId": "96dd892d-e896-4f4e-bf1b-000d87bbfe2a"
      },
      "source": [
        "x_train1.isnull().sum()"
      ],
      "execution_count": 98,
      "outputs": [
        {
          "output_type": "execute_result",
          "data": {
            "text/plain": [
              "amount_tsh                  0\n",
              "gps_height                  0\n",
              "longitude                1458\n",
              "latitude                 1458\n",
              "region_code                 0\n",
              "district_code               0\n",
              "population                  0\n",
              "construction_year           0\n",
              "year_recorded               0\n",
              "month_recorded              0\n",
              "day_recorded                0\n",
              "year_age                    0\n",
              "public_meeting           3334\n",
              "scheme_management        3877\n",
              "permit                   3056\n",
              "extraction_type             0\n",
              "extraction_type_group       0\n",
              "extraction_type_class       0\n",
              "management                  0\n",
              "management_group            0\n",
              "payment                     0\n",
              "water_quality               0\n",
              "quantity                    0\n",
              "source_class                0\n",
              "waterpoint_type             0\n",
              "waterpoint_type_group       0\n",
              "dtype: int64"
            ]
          },
          "metadata": {
            "tags": []
          },
          "execution_count": 98
        }
      ]
    },
    {
      "cell_type": "code",
      "metadata": {
        "id": "WlJ--3_CexAK",
        "colab_type": "code",
        "colab": {}
      },
      "source": [
        "x_test = wrangleFxn(test, cols_to_drop=cols_to_drop, numCardinal=55, useMode=True, num=20, highVar=.88, lowVar=.5)"
      ],
      "execution_count": 0,
      "outputs": []
    },
    {
      "cell_type": "code",
      "metadata": {
        "id": "OvrpnPN2faVV",
        "colab_type": "code",
        "colab": {}
      },
      "source": [
        "# going to do some sklearn imports\n",
        "from sklearn.metrics import accuracy_score\n",
        "from sklearn.pipeline import make_pipeline\n",
        "from sklearn.ensemble import RandomForestClassifier\n",
        "from sklearn.model_selection import cross_val_score\n",
        "from sklearn.metrics import plot_confusion_matrix\n",
        "import category_encoders as ce \n",
        "from sklearn.impute import SimpleImputer"
      ],
      "execution_count": 0,
      "outputs": []
    },
    {
      "cell_type": "code",
      "metadata": {
        "id": "BRiobv7bhHJT",
        "colab_type": "code",
        "colab": {
          "base_uri": "https://localhost:8080/",
          "height": 420
        },
        "outputId": "42654feb-ed9c-47b1-b028-8af0e98de58f"
      },
      "source": [
        "# making the pipeline\n",
        "pipeline = make_pipeline(\n",
        "    ce.OneHotEncoder(), SimpleImputer(strategy='mean',),\n",
        "    \n",
        "    RandomForestClassifier(n_estimators=150, max_depth=14, min_samples_split=3, min_samples_leaf=2, random_state=42 )\n",
        ")\n",
        "\n",
        "pipeline.fit(x_train1, y_train)"
      ],
      "execution_count": 139,
      "outputs": [
        {
          "output_type": "execute_result",
          "data": {
            "text/plain": [
              "Pipeline(memory=None,\n",
              "         steps=[('onehotencoder',\n",
              "                 OneHotEncoder(cols=['public_meeting', 'scheme_management',\n",
              "                                     'permit', 'extraction_type',\n",
              "                                     'extraction_type_group',\n",
              "                                     'extraction_type_class', 'management',\n",
              "                                     'management_group', 'payment',\n",
              "                                     'water_quality', 'quantity',\n",
              "                                     'source_class', 'waterpoint_type',\n",
              "                                     'waterpoint_type_group'],\n",
              "                               drop_invariant=False, handle_missing='value',\n",
              "                               ha...\n",
              "                 RandomForestClassifier(bootstrap=True, ccp_alpha=0.0,\n",
              "                                        class_weight=None, criterion='gini',\n",
              "                                        max_depth=14, max_features='auto',\n",
              "                                        max_leaf_nodes=None, max_samples=None,\n",
              "                                        min_impurity_decrease=0.0,\n",
              "                                        min_impurity_split=None,\n",
              "                                        min_samples_leaf=2, min_samples_split=3,\n",
              "                                        min_weight_fraction_leaf=0.0,\n",
              "                                        n_estimators=150, n_jobs=None,\n",
              "                                        oob_score=False, random_state=42,\n",
              "                                        verbose=0, warm_start=False))],\n",
              "         verbose=False)"
            ]
          },
          "metadata": {
            "tags": []
          },
          "execution_count": 139
        }
      ]
    },
    {
      "cell_type": "code",
      "metadata": {
        "id": "gH1jNXeS4x9t",
        "colab_type": "code",
        "colab": {}
      },
      "source": [
        ""
      ],
      "execution_count": 0,
      "outputs": []
    },
    {
      "cell_type": "code",
      "metadata": {
        "id": "w2srhe8mvoSR",
        "colab_type": "code",
        "colab": {
          "base_uri": "https://localhost:8080/",
          "height": 34
        },
        "outputId": "090a9257-fc12-46a6-d425-81f11c1c5c73"
      },
      "source": [
        "pipeline.score(x_train1, y_train)"
      ],
      "execution_count": 140,
      "outputs": [
        {
          "output_type": "execute_result",
          "data": {
            "text/plain": [
              "0.7964141414141415"
            ]
          },
          "metadata": {
            "tags": []
          },
          "execution_count": 140
        }
      ]
    },
    {
      "cell_type": "code",
      "metadata": {
        "id": "MDP7iYlIyJts",
        "colab_type": "code",
        "colab": {}
      },
      "source": [
        "y_pred = pipeline.predict(x_train1)"
      ],
      "execution_count": 0,
      "outputs": []
    },
    {
      "cell_type": "code",
      "metadata": {
        "id": "QVUX_RKrxDUv",
        "colab_type": "code",
        "colab": {}
      },
      "source": [
        "# Plotting the confusion matrix\n",
        "import seaborn as sns\n",
        "import matplotlib.pyplot as plt\n",
        "from sklearn.utils.multiclass import unique_labels\n",
        "\n"
      ],
      "execution_count": 0,
      "outputs": []
    },
    {
      "cell_type": "code",
      "metadata": {
        "id": "gkQ7gi2fxfRT",
        "colab_type": "code",
        "colab": {}
      },
      "source": [
        "def plotting_confusion_matrix(y_true, y_pred):\n",
        "  theLabels = unique_labels(y_train)\n",
        "  cols = [f\"Predicted {label}\" for label in theLabels]\n",
        "  ind = [f\"True {label}\" for label in theLabels]\n",
        "  # create a pandas dataFrame\n",
        "  return plot_confusion_matrix(pipeline, x_train1, y_train, xticks_rotation='vertical', values_format='d');\n",
        "  \n",
        "  #return #sns.heatmap(theData, annot=True, fmd='d', cmap='viridis')"
      ],
      "execution_count": 0,
      "outputs": []
    },
    {
      "cell_type": "code",
      "metadata": {
        "id": "itrW5ZaCyDpn",
        "colab_type": "code",
        "colab": {
          "base_uri": "https://localhost:8080/",
          "height": 297
        },
        "outputId": "7e0a4aee-fdfc-4c5c-fa32-03c157edf21c"
      },
      "source": [
        "plotting_confusion_matrix(y_train, y_pred)"
      ],
      "execution_count": 164,
      "outputs": [
        {
          "output_type": "execute_result",
          "data": {
            "text/plain": [
              "<sklearn.metrics._plot.confusion_matrix.ConfusionMatrixDisplay at 0x7fd9739cb828>"
            ]
          },
          "metadata": {
            "tags": []
          },
          "execution_count": 164
        },
        {
          "output_type": "display_data",
          "data": {
            "image/png": "[encoded data removed]",
            "text/plain": [
              "<Figure size 432x288 with 2 Axes>"
            ]
          },
          "metadata": {
            "tags": []
          }
        }
      ]
    },
    {
      "cell_type": "code",
      "metadata": {
        "id": "z2bkYNLO-bJG",
        "colab_type": "code",
        "colab": {}
      },
      "source": [
        "from sklearn.metrics import classification_report"
      ],
      "execution_count": 0,
      "outputs": []
    },
    {
      "cell_type": "code",
      "metadata": {
        "id": "EdIOJpwP-yLY",
        "colab_type": "code",
        "colab": {
          "base_uri": "https://localhost:8080/",
          "height": 185
        },
        "outputId": "3194d590-73f3-4468-8da9-9b02f2183181"
      },
      "source": [
        "print(classification_report(y_train, y_pred))"
      ],
      "execution_count": 168,
      "outputs": [
        {
          "output_type": "stream",
          "text": [
            "                         precision    recall  f1-score   support\n",
            "\n",
            "             functional       0.75      0.96      0.84     32259\n",
            "functional needs repair       0.78      0.17      0.28      4317\n",
            "         non functional       0.91      0.68      0.78     22824\n",
            "\n",
            "               accuracy                           0.80     59400\n",
            "              macro avg       0.81      0.61      0.63     59400\n",
            "           weighted avg       0.81      0.80      0.78     59400\n",
            "\n"
          ],
          "name": "stdout"
        }
      ]
    },
    {
      "cell_type": "code",
      "metadata": {
        "id": "yvVmvfoq--dT",
        "colab_type": "code",
        "colab": {}
      },
      "source": [
        ""
      ],
      "execution_count": 0,
      "outputs": []
    }
  ]
}