{
  "nbformat": 4,
  "nbformat_minor": 0,
  "metadata": {
    "kernelspec": {
      "name": "python3",
      "display_name": "Python 3"
    },
    "language_info": {
      "codemirror_mode": {
        "name": "ipython",
        "version": 3
      },
      "file_extension": ".py",
      "mimetype": "text/x-python",
      "name": "python",
      "nbconvert_exporter": "python",
      "pygments_lexer": "ipython3",
      "version": "3.7.6"
    },
    "colab": {
      "name": "LS_DS_224_assignment.ipynb",
      "provenance": [],
      "toc_visible": true
    },
    "accelerator": "GPU"
  },
  "cells": [
    {
      "cell_type": "markdown",
      "metadata": {
        "id": "8sJSDEp3mfFM",
        "colab_type": "text"
      },
      "source": [
        "Lambda School Data Science\n",
        "\n",
        "*Unit 2, Sprint 2, Module 4*\n",
        "\n",
        "---"
      ]
    },
    {
      "cell_type": "markdown",
      "metadata": {
        "colab_type": "text",
        "id": "nCc3XZEyG3XV"
      },
      "source": [
        "# Classification Metrics\n",
        "\n",
        "## Assignment\n",
        "- [ ] If you haven't yet, [review requirements for your portfolio project](https://lambdaschool.github.io/ds/unit2), then submit your dataset.\n",
        "- [ ] Plot a confusion matrix for your Tanzania Waterpumps model.\n",
        "- [ ] Continue to participate in our Kaggle challenge. Every student should have made at least one submission that scores at least 70% accuracy (well above the majority class baseline).\n",
        "- [ ] Submit your final predictions to our Kaggle competition. Optionally, go to **My Submissions**, and _\"you may select up to 1 submission to be used to count towards your final leaderboard score.\"_\n",
        "- [ ] Commit your notebook to your fork of the GitHub repo.\n",
        "- [ ] Read [Maximizing Scarce Maintenance Resources with Data: Applying predictive modeling, precision at k, and clustering to optimize impact](https://towardsdatascience.com/maximizing-scarce-maintenance-resources-with-data-8f3491133050), by Lambda DS3 student Michael Brady. His blog post extends the Tanzania Waterpumps scenario, far beyond what's in the lecture notebook.\n",
        "\n",
        "\n",
        "## Stretch Goals\n",
        "\n",
        "### Reading\n",
        "\n",
        "- [Attacking discrimination with smarter machine learning](https://research.google.com/bigpicture/attacking-discrimination-in-ml/), by Google Research, with  interactive visualizations. _\"A threshold classifier essentially makes a yes/no decision, putting things in one category or another. We look at how these classifiers work, ways they can potentially be unfair, and how you might turn an unfair classifier into a fairer one. As an illustrative example, we focus on loan granting scenarios where a bank may grant or deny a loan based on a single, automatically computed number such as a credit score.\"_\n",
        "- [Notebook about how to calculate expected value from a confusion matrix by treating it as a cost-benefit matrix](https://github.com/podopie/DAT18NYC/blob/master/classes/13-expected_value_cost_benefit_analysis.ipynb)\n",
        "- [Visualizing Machine Learning Thresholds to Make Better Business Decisions](https://blog.insightdatascience.com/visualizing-machine-learning-thresholds-to-make-better-business-decisions-4ab07f823415)\n",
        "\n",
        "\n",
        "### Doing\n",
        "- [ ] Share visualizations in our Slack channel!\n",
        "- [ ] RandomizedSearchCV / GridSearchCV, for model selection. (See module 3 assignment notebook)\n",
        "- [ ] Stacking Ensemble. (See module 3 assignment notebook)\n",
        "- [ ] More Categorical Encoding. (See module 2 assignment notebook)"
      ]
    },
    {
      "cell_type": "code",
      "metadata": {
        "colab_type": "code",
        "id": "lsbRiKBoB5RE",
        "colab": {}
      },
      "source": [
        "%%capture\n",
        "import sys\n",
        "\n",
        "# If you're on Colab:\n",
        "if 'google.colab' in sys.modules:\n",
        "    DATA_PATH = 'https://raw.githubusercontent.com/LambdaSchool/DS-Unit-2-Kaggle-Challenge/master/data/'\n",
        "    !pip install category_encoders==2.*\n",
        "\n",
        "# If you're working locally:\n",
        "else:\n",
        "    DATA_PATH = '../data/'"
      ],
      "execution_count": 0,
      "outputs": []
    },
    {
      "cell_type": "code",
      "metadata": {
        "colab_type": "code",
        "id": "BVA1lph8CcNX",
        "colab": {}
      },
      "source": [
        "import pandas as pd\n",
        "\n",
        "# The automated cell did not work when using colab with a local runtime\n",
        "DATA_PATH = 'https://raw.githubusercontent.com/LambdaSchool/DS-Unit-2-Kaggle-Challenge/master/data/'\n",
        "\n",
        "# Merge train_features.csv & train_labels.csv\n",
        "train = pd.merge(pd.read_csv(DATA_PATH+'waterpumps/train_features.csv'), \n",
        "                 pd.read_csv(DATA_PATH+'waterpumps/train_labels.csv'))\n",
        "\n",
        "# Read test_features.csv & sample_submission.csv\n",
        "test = pd.read_csv(DATA_PATH+'waterpumps/test_features.csv')\n",
        "sample_submission = pd.read_csv(DATA_PATH+'waterpumps/sample_submission.csv')"
      ],
      "execution_count": 0,
      "outputs": []
    },
    {
      "cell_type": "code",
      "metadata": {
        "id": "Rg2JR9CGoLh6",
        "colab_type": "code",
        "colab": {}
      },
      "source": [
        "import category_encoders as ce\n",
        "import numpy as np\n",
        "import pandas as pd\n",
        "from sklearn.impute import SimpleImputer\n",
        "from sklearn.metrics import accuracy_score\n",
        "from sklearn.pipeline import make_pipeline\n",
        "from sklearn.ensemble import RandomForestClassifier\n",
        "from sklearn.model_selection import RandomizedSearchCV"
      ],
      "execution_count": 0,
      "outputs": []
    },
    {
      "cell_type": "markdown",
      "metadata": {
        "id": "H_UiavW2Vp8p",
        "colab_type": "text"
      },
      "source": [
        "### Existing work\n",
        "\n",
        "(condensed into one code cell)"
      ]
    },
    {
      "cell_type": "code",
      "metadata": {
        "id": "P7icilj3VrO0",
        "colab_type": "code",
        "colab": {}
      },
      "source": [
        "# Merge train_features.csv & train_labels.csv\n",
        "train = pd.merge(pd.read_csv(DATA_PATH+'waterpumps/train_features.csv'), \n",
        "                 pd.read_csv(DATA_PATH+'waterpumps/train_labels.csv'))\n",
        "\n",
        "# Read test_features.csv\n",
        "test = pd.read_csv(DATA_PATH+'waterpumps/test_features.csv')\n",
        "\n",
        "# Feature engineering: cluster the latitude and longitude coordinates\n",
        "from sklearn.cluster import KMeans\n",
        "kmeans = KMeans(n_clusters=20)\n",
        "train['cluster'] = kmeans.fit_predict(train[['longitude', 'latitude']])\n",
        "test['cluster'] = kmeans.predict(test[['longitude', 'latitude']])\n",
        "\n",
        "# feature engineering: number of other pumps within a certain distance\n",
        "# setting a .1 default for distance because these are long distances\n",
        "#   Length of 1° of latitude = always 111.32 km\n",
        "#   Length of 1° of longitude = 40075 km * cos( latitude ) / 360\n",
        "def count_neighbors(data, row, max_distance=.1):\n",
        "  \"\"\" \n",
        "  returns the number of neighbors by checking distance using \n",
        "  lat/lon coordinates, closer than max_distance\n",
        "\n",
        "  since I'm not calculating euclidian distance (which took far longer), \n",
        "  this is essentially a square with radius max_distance\n",
        "  \"\"\"\n",
        "  squared_dist = max_distance**2\n",
        "  this_point = [data.iloc[row]['longitude'], data.iloc[row]['latitude']]\n",
        "  count = 0\n",
        "  \n",
        "  return len(data[((data['longitude']-this_point[0])**2 < squared_dist) &\n",
        "                  ((data['latitude']-this_point[1])**2 < squared_dist)])\n",
        "\n",
        "# Data wrangling I already had from the lectures and other assignments\n",
        "def clean_engineer(X):\n",
        "    \"\"\"Clean and engineer the different sets in the same way\"\"\"\n",
        "    \n",
        "    # Prevent SettingWithCopyWarning\n",
        "    X = X.copy()\n",
        "    \n",
        "    # About 3% of the time, latitude has small values near zero,\n",
        "    # outside Tanzania, so we'll treat these values like zero.\n",
        "    X['latitude'] = X['latitude'].replace(-2e-08, 0)\n",
        "    \n",
        "    # When columns have zeros and shouldn't, they are like null values.\n",
        "    # So we will replace the zeros with nulls, and impute missing values later.\n",
        "    cols_with_zeros = ['longitude', 'latitude', 'construction_year']\n",
        "    for col in cols_with_zeros:\n",
        "        X[col] = X[col].replace(0, np.nan)\n",
        "            \n",
        "    # drop some duplicate, constant, or unique columns\n",
        "    cols_to_drop = ['quantity_group', 'payment', 'recorded_by', 'id']\n",
        "    X = X.drop(columns=cols_to_drop)\n",
        "\n",
        "    # 'amount_tsh' is 70% 0's, replace those with the mean of all \n",
        "    # non-zero values, minus the top 1% (found during exploration)\n",
        "    X['amount_tsh'] = X['amount_tsh'].replace(0, 641.5)\n",
        "\n",
        "    # Region code and district code should be categorical (cardinalies 27 & 20)\n",
        "    X['region_code'] = X['region_code'].astype(str)\n",
        "    X['district_code'] = X['district_code'].astype(str)\n",
        "\n",
        "    # We want to treat the new cluster column as categorical\n",
        "    X['cluster'] = X['cluster'].astype(str)\n",
        "\n",
        "    # New feature: number of years from construction_year to date_recorded\n",
        "    # missing construction years will result in nans that are imputed later\n",
        "    X['date_recorded'] = pd.to_datetime(X['date_recorded'])\n",
        "    X['pump_age'] = X['date_recorded'].dt.year - X['construction_year']\n",
        "\n",
        "    # Date itself is unnecessary here\n",
        "    X = X.drop(columns='date_recorded')\n",
        "\n",
        "    # Use my neighbors function to engineer a new column\n",
        "    X['neighbor_count'] = X['longitude'] * 0\n",
        "    for i in range(len(X)):\n",
        "      if ~np.isnan(X.at[i, 'neighbor_count']):\n",
        "        X.at[i, 'neighbor_count'] = count_neighbors(X, i, max_distance=.1)\n",
        "    \n",
        "    # return the wrangled dataframe\n",
        "    return X\n",
        "\n",
        "\n",
        "train = clean_engineer(train)\n",
        "test = clean_engineer(test)"
      ],
      "execution_count": 0,
      "outputs": []
    },
    {
      "cell_type": "code",
      "metadata": {
        "id": "m-yPDtMMWw8O",
        "colab_type": "code",
        "colab": {
          "base_uri": "https://localhost:8080/",
          "height": 173
        },
        "outputId": "90dffc23-bca4-43d5-8ed5-692d143af770"
      },
      "source": [
        "# Set up X and y variables\n",
        "target = 'status_group'\n",
        "features = train.columns.drop([target])\n",
        "X_train = train[features]\n",
        "y_train = train[target]\n",
        "\n",
        "# Create the pipeline\n",
        "pipeline = make_pipeline(\n",
        "    ce.OrdinalEncoder(),\n",
        "    SimpleImputer(strategy='most_frequent'),\n",
        "    RandomForestClassifier()\n",
        ")\n",
        "\n",
        "# Set up parameters (using best ones found previously with RandomizedSearchCV)\n",
        "param_distributions = {\n",
        "    'simpleimputer__strategy': ['most_frequent'],\n",
        "    'randomforestclassifier__n_estimators': [450],\n",
        "    'randomforestclassifier__max_depth': [25],\n",
        "    'randomforestclassifier__max_features': [.25]\n",
        "}\n",
        "\n",
        "# Set up randomized search to cross-validate\n",
        "search = RandomizedSearchCV(\n",
        "    pipeline, \n",
        "    param_distributions=param_distributions, \n",
        "    n_iter=100, \n",
        "    cv=5, \n",
        "    verbose=10, \n",
        "    return_train_score=True, \n",
        "    n_jobs=-3\n",
        ")\n",
        "\n",
        "# Run search on training data\n",
        "search.fit(X_train, y_train);"
      ],
      "execution_count": 13,
      "outputs": [
        {
          "output_type": "stream",
          "text": [
            "C:\\Users\\thedo\\Anaconda3\\envs\\unit2\\lib\\site-packages\\sklearn\\model_selection\\_search.py:281: UserWarning: The total space of parameters 1 is smaller than n_iter=100. Running 1 iterations. For exhaustive searches, use GridSearchCV.\n",
            "  % (grid_size, self.n_iter, grid_size), UserWarning)\n",
            "[Parallel(n_jobs=-3)]: Using backend LokyBackend with 10 concurrent workers.\n"
          ],
          "name": "stderr"
        },
        {
          "output_type": "stream",
          "text": [
            "Fitting 5 folds for each of 1 candidates, totalling 5 fits\n"
          ],
          "name": "stdout"
        },
        {
          "output_type": "stream",
          "text": [
            "[Parallel(n_jobs=-3)]: Done   2 out of   5 | elapsed:  1.4min remaining:  2.1min\n",
            "[Parallel(n_jobs=-3)]: Done   3 out of   5 | elapsed:  1.4min remaining:   57.0s\n",
            "[Parallel(n_jobs=-3)]: Done   5 out of   5 | elapsed:  1.4min remaining:    0.0s\n",
            "[Parallel(n_jobs=-3)]: Done   5 out of   5 | elapsed:  1.4min finished\n"
          ],
          "name": "stderr"
        }
      ]
    },
    {
      "cell_type": "code",
      "metadata": {
        "id": "1d0A_asnXzWY",
        "colab_type": "code",
        "colab": {
          "base_uri": "https://localhost:8080/",
          "height": 71
        },
        "outputId": "d6b98afa-977c-40b8-fc1c-0267aa0dc19e"
      },
      "source": [
        "# View the best model found\n",
        "print('Best hyperparameters:', search.best_params_)\n",
        "print('Cross-validation score:', search.best_score_)"
      ],
      "execution_count": 14,
      "outputs": [
        {
          "output_type": "stream",
          "text": [
            "Best hyperparameters: {'simpleimputer__strategy': 'most_frequent', 'randomforestclassifier__n_estimators': 450, 'randomforestclassifier__max_features': 0.25, 'randomforestclassifier__max_depth': 25}\n",
            "Cross-validation score: 0.8106228956228957\n"
          ],
          "name": "stdout"
        }
      ]
    },
    {
      "cell_type": "markdown",
      "metadata": {
        "id": "tlTM90JwVp21",
        "colab_type": "text"
      },
      "source": [
        "### Plot a confusion matrix for your Tanzania Waterpumps model."
      ]
    },
    {
      "cell_type": "code",
      "metadata": {
        "id": "dzIzHv7UZime",
        "colab_type": "code",
        "colab": {
          "base_uri": "https://localhost:8080/",
          "height": 385
        },
        "outputId": "3ffae215-2377-4f2f-9c37-8c2da53cc141"
      },
      "source": [
        "# I actually only have training data after cross-validation\n",
        "from sklearn.metrics import plot_confusion_matrix\n",
        "plot_confusion_matrix(search.best_estimator_, X_train, y_train, \n",
        "                      xticks_rotation=90, values_format='.0f');"
      ],
      "execution_count": 17,
      "outputs": [
        {
          "output_type": "display_data",
          "data": {
            "text/plain": [
              "<Figure size 432x288 with 2 Axes>"
            ],
            "image/png": "[encoded data removed]"
          },
          "metadata": {
            "tags": [],
            "needs_background": "light"
          }
        }
      ]
    },
    {
      "cell_type": "code",
      "metadata": {
        "id": "eiWZWBWfZxIa",
        "colab_type": "code",
        "colab": {
          "base_uri": "https://localhost:8080/",
          "height": 51
        },
        "outputId": "d369b07f-731c-492f-8ae9-1132c8bcf1c3"
      },
      "source": [
        "# Split data so I can get a validation set\n",
        "from sklearn.model_selection import train_test_split\n",
        "train_subset, val_subset = train_test_split(train, train_size=0.80, \n",
        "                              test_size=0.20, stratify=train['status_group'],\n",
        "                              random_state=42)\n",
        "\n",
        "target = 'status_group'\n",
        "features = train.columns.drop([target])\n",
        "X_train = train_subset[features]\n",
        "y_train = train_subset[target]\n",
        "X_val = val_subset[features]\n",
        "y_val = val_subset[target]\n",
        "\n",
        "# Create a simple pipeline without cross-validation, to get a better example\n",
        "pipe = make_pipeline(ce.OrdinalEncoder(),\n",
        "                     SimpleImputer(strategy='most_frequent'),\n",
        "                     RandomForestClassifier(n_estimators=450, max_depth=25, \n",
        "                                            max_features=.25, random_state=42))\n",
        "\n",
        "# Fit everything on train\n",
        "pipe.fit(X_train, y_train)\n",
        "\n",
        "# Get training and validation scores\n",
        "print('Train Accuracy', pipe.score(X_train, y_train))\n",
        "print('Validation Accuracy', pipe.score(X_val, y_val))"
      ],
      "execution_count": 18,
      "outputs": [
        {
          "output_type": "stream",
          "text": [
            "Train Accuracy 0.9966329966329966\n",
            "Validation Accuracy 0.8127946127946128\n"
          ],
          "name": "stdout"
        }
      ]
    },
    {
      "cell_type": "code",
      "metadata": {
        "id": "-DDwXjm5c8ji",
        "colab_type": "code",
        "colab": {
          "base_uri": "https://localhost:8080/",
          "height": 385
        },
        "outputId": "4f8f2308-213d-4638-9708-3da4e6afb0d2"
      },
      "source": [
        "# This matrix represents a validation score\n",
        "plot_confusion_matrix(pipe, X_val, y_val, xticks_rotation=90, \n",
        "                      values_format='.0f');"
      ],
      "execution_count": 19,
      "outputs": [
        {
          "output_type": "display_data",
          "data": {
            "text/plain": [
              "<Figure size 432x288 with 2 Axes>"
            ],
            "image/png": "[encoded data removed]"
          },
          "metadata": {
            "tags": [],
            "needs_background": "light"
          }
        }
      ]
    },
    {
      "cell_type": "markdown",
      "metadata": {
        "id": "QVFuy02rgEUR",
        "colab_type": "text"
      },
      "source": [
        "## Expanding on my own work"
      ]
    },
    {
      "cell_type": "code",
      "metadata": {
        "id": "7mGL_PsHfAqg",
        "colab_type": "code",
        "colab": {}
      },
      "source": [
        "# Start over so I can keep things organized\n",
        "\n",
        "# Merge train_features.csv & train_labels.csv\n",
        "train = pd.merge(pd.read_csv(DATA_PATH+'waterpumps/train_features.csv'), \n",
        "                 pd.read_csv(DATA_PATH+'waterpumps/train_labels.csv'))\n",
        "\n",
        "# Read test_features.csv\n",
        "test = pd.read_csv(DATA_PATH+'waterpumps/test_features.csv')\n",
        "\n",
        "# Feature engineering: cluster the latitude and longitude coordinates\n",
        "from sklearn.cluster import KMeans\n",
        "kmeans = KMeans(n_clusters=20)\n",
        "train['cluster'] = kmeans.fit_predict(train[['longitude', 'latitude']])\n",
        "test['cluster'] = kmeans.predict(test[['longitude', 'latitude']])\n",
        "\n",
        "# feature engineering: number of other pumps within a certain distance\n",
        "# setting a .1 default for distance because these are long distances\n",
        "#   Length of 1° of latitude = always 111.32 km\n",
        "#   Length of 1° of longitude = 40075 km * cos( latitude ) / 360\n",
        "def count_neighbors(data, row, max_distance=.1):\n",
        "  \"\"\" \n",
        "  returns the number of neighbors by checking distance using \n",
        "  lat/lon coordinates, closer than max_distance\n",
        "\n",
        "  since I'm not calculating euclidian distance (which took far longer), \n",
        "  this is essentially a square with radius max_distance\n",
        "  \"\"\"\n",
        "  squared_dist = max_distance**2\n",
        "  this_point = [data.iloc[row]['longitude'], data.iloc[row]['latitude']]\n",
        "  count = 0\n",
        "  \n",
        "  return len(data[((data['longitude']-this_point[0])**2 < squared_dist) &\n",
        "                  ((data['latitude']-this_point[1])**2 < squared_dist)])\n",
        "\n",
        "# Data wrangling I already had from the lectures and other assignments\n",
        "def clean_engineer(X):\n",
        "    \"\"\"Clean and engineer the different sets in the same way\"\"\"\n",
        "    \n",
        "    # Prevent SettingWithCopyWarning\n",
        "    X = X.copy()\n",
        "    \n",
        "    # About 3% of the time, latitude has small values near zero,\n",
        "    # outside Tanzania, so we'll treat these values like zero.\n",
        "    X['latitude'] = X['latitude'].replace(-2e-08, 0)\n",
        "    \n",
        "    # When columns have zeros and shouldn't, they are like null values.\n",
        "    # So we will replace the zeros with nulls, and impute missing values later.\n",
        "    cols_with_zeros = ['longitude', 'latitude', 'construction_year']\n",
        "    for col in cols_with_zeros:\n",
        "        X[col] = X[col].replace(0, np.nan)\n",
        "            \n",
        "    # drop some duplicate, constant, or unique columns\n",
        "    cols_to_drop = ['quantity_group', 'payment', 'recorded_by']\n",
        "    X = X.drop(columns=cols_to_drop)\n",
        "\n",
        "    # 'amount_tsh' is 70% 0's, replace those with the mean of all \n",
        "    # non-zero values, minus the top 1% (found during exploration)\n",
        "    X['amount_tsh'] = X['amount_tsh'].replace(0, 641.5)\n",
        "\n",
        "    # Region code and district code should be categorical (cardinalies 27 & 20)\n",
        "    X['region_code'] = X['region_code'].astype(str)\n",
        "    X['district_code'] = X['district_code'].astype(str)\n",
        "\n",
        "    # We want to treat the new cluster column as categorical\n",
        "    X['cluster'] = X['cluster'].astype(str)\n",
        "\n",
        "    # New feature: number of years from construction_year to date_recorded\n",
        "    # missing construction years will result in nans that are imputed later\n",
        "    X['date_recorded'] = pd.to_datetime(X['date_recorded'])\n",
        "    X['report_age'] = X['date_recorded'].dt.year - X['construction_year']\n",
        "\n",
        "    # Date itself is unnecessary here\n",
        "    X = X.drop(columns='date_recorded')\n",
        "\n",
        "    # Use my neighbors function to engineer a new column\n",
        "    X['neighbor_count'] = X['longitude'] * 0\n",
        "    for i in range(len(X)):\n",
        "      if ~np.isnan(X.at[i, 'neighbor_count']):\n",
        "        X.at[i, 'neighbor_count'] = count_neighbors(X, i, max_distance=.1)\n",
        "    \n",
        "    # return the wrangled dataframe\n",
        "    return X\n",
        "\n",
        "\n",
        "train = clean_engineer(train)\n",
        "test = clean_engineer(test)"
      ],
      "execution_count": 0,
      "outputs": []
    },
    {
      "cell_type": "code",
      "metadata": {
        "id": "ZTwgaO1chCVr",
        "colab_type": "code",
        "colab": {
          "base_uri": "https://localhost:8080/",
          "height": 105
        },
        "outputId": "92df1395-bcaa-45d9-9f7b-2643326831c7"
      },
      "source": [
        "# Try using regression to predict some of the numerical nan data, \n",
        "# instead of simply imputing it\n",
        "from sklearn.linear_model import RidgeCV\n",
        "from sklearn.feature_selection import SelectKBest\n",
        "from sklearn.metrics import mean_absolute_error\n",
        "\n",
        "def regress_nans(target):\n",
        "  high_cardinality = list(train.describe(exclude='number').T.\n",
        "                          sort_values('unique').index[-7:])\n",
        "  features = train.columns.drop([target, 'status_group', 'id'] + high_cardinality)\n",
        "\n",
        "  # Known training data\n",
        "  train_known = train[~train[target].isnull()]\n",
        "  train_subset, val_subset = train_test_split(train_known, train_size=0.80, \n",
        "                            test_size=0.20, stratify=train_known['status_group'], \n",
        "                            random_state=42)\n",
        "\n",
        "  X_train = train_subset[features]\n",
        "  y_train = train_subset[target]\n",
        "  X_val = val_subset[features]\n",
        "  y_val = val_subset[target]\n",
        "\n",
        "  # Make and fit a simple pipeline\n",
        "  pipeline = make_pipeline(\n",
        "      ce.OneHotEncoder(),\n",
        "      SimpleImputer(strategy='mean'),\n",
        "      SelectKBest(k=10),\n",
        "      RidgeCV(alphas=[.01, .1, 1, 10])\n",
        "  )\n",
        "  pipeline.fit(X_train, y_train)\n",
        "\n",
        "  # Use the model to fill in missing values in both train and test\n",
        "  train_missing = train[train[target].isnull()].copy()\n",
        "  train_missing[target] = pipeline.predict(train_missing[features])\n",
        "  for i in range(len(train_missing.index)):\n",
        "    j = train_missing.index[i]\n",
        "    train.at[j,target] = train_missing.iloc[i][target]\n",
        "\n",
        "  test_missing = test[test[target].isnull()].copy()\n",
        "  test_missing[target] = pipeline.predict(test_missing[features])\n",
        "  for i in range(len(test_missing.index)):\n",
        "    j = test_missing.index[i]\n",
        "    test.at[j,target] = test_missing.iloc[i][target]\n",
        "\n",
        "# Call function on the missing data\n",
        "regress_nans('latitude')\n",
        "regress_nans('longitude')\n",
        "regress_nans('neighbor_count')"
      ],
      "execution_count": 224,
      "outputs": [
        {
          "output_type": "stream",
          "text": [
            "C:\\Users\\thedo\\Anaconda3\\envs\\unit2\\lib\\site-packages\\sklearn\\feature_selection\\_univariate_selection.py:115: RuntimeWarning: divide by zero encountered in true_divide\n",
            "  f = msb / msw\n",
            "C:\\Users\\thedo\\Anaconda3\\envs\\unit2\\lib\\site-packages\\sklearn\\feature_selection\\_univariate_selection.py:115: RuntimeWarning: divide by zero encountered in true_divide\n",
            "  f = msb / msw\n"
          ],
          "name": "stderr"
        }
      ]
    },
    {
      "cell_type": "code",
      "metadata": {
        "id": "HxbDxqZKxSks",
        "colab_type": "code",
        "colab": {
          "base_uri": "https://localhost:8080/",
          "height": 340
        },
        "outputId": "9f6f3a78-1e90-40a1-cfeb-fe6c9c37eb9f"
      },
      "source": [
        "# Now predict the actual target, 'status_group'\n",
        "\n",
        "# Set up X and y variables\n",
        "target = 'status_group'\n",
        "features = train.columns.drop([target])\n",
        "X_train = train[features]\n",
        "y_train = train[target]\n",
        "\n",
        "# Create the pipeline\n",
        "pipeline = make_pipeline(\n",
        "    ce.OrdinalEncoder(),\n",
        "    SimpleImputer(strategy='most_frequent'),\n",
        "    RandomForestClassifier()\n",
        ")\n",
        "\n",
        "# Set up parameters (using best ones found previously with RandomizedSearchCV)\n",
        "param_distributions = {\n",
        "    'simpleimputer__strategy': ['mean', 'median', 'most_frequent'],\n",
        "    'randomforestclassifier__n_estimators': range(50, 501, 50),\n",
        "    'randomforestclassifier__max_depth': [25, 50, 100, None],\n",
        "    'randomforestclassifier__max_features': [.10,.25,.5,'auto']\n",
        "}\n",
        "\n",
        "# Set up randomized search to cross-validate\n",
        "search = RandomizedSearchCV(\n",
        "    pipeline, \n",
        "    param_distributions=param_distributions, \n",
        "    n_iter=50, \n",
        "    cv=5, \n",
        "    verbose=10, \n",
        "    return_train_score=True, \n",
        "    n_jobs=-3\n",
        ")\n",
        "\n",
        "# Run search on training data\n",
        "search.fit(X_train, y_train);"
      ],
      "execution_count": 218,
      "outputs": [
        {
          "output_type": "stream",
          "text": [
            "Fitting 5 folds for each of 50 candidates, totalling 250 fits\n"
          ],
          "name": "stdout"
        },
        {
          "output_type": "stream",
          "text": [
            "[Parallel(n_jobs=-3)]: Using backend LokyBackend with 10 concurrent workers.\n",
            "[Parallel(n_jobs=-3)]: Done   5 tasks      | elapsed:   18.9s\n",
            "[Parallel(n_jobs=-3)]: Done  12 tasks      | elapsed:   37.1s\n",
            "[Parallel(n_jobs=-3)]: Done  21 tasks      | elapsed:  1.5min\n",
            "[Parallel(n_jobs=-3)]: Done  30 tasks      | elapsed:  3.8min\n",
            "[Parallel(n_jobs=-3)]: Done  41 tasks      | elapsed:  5.8min\n",
            "[Parallel(n_jobs=-3)]: Done  52 tasks      | elapsed:  7.1min\n",
            "[Parallel(n_jobs=-3)]: Done  65 tasks      | elapsed:  7.6min\n",
            "[Parallel(n_jobs=-3)]: Done  78 tasks      | elapsed:  8.2min\n",
            "[Parallel(n_jobs=-3)]: Done  93 tasks      | elapsed: 10.8min\n",
            "[Parallel(n_jobs=-3)]: Done 108 tasks      | elapsed: 11.9min\n",
            "[Parallel(n_jobs=-3)]: Done 125 tasks      | elapsed: 14.2min\n",
            "[Parallel(n_jobs=-3)]: Done 142 tasks      | elapsed: 15.8min\n",
            "[Parallel(n_jobs=-3)]: Done 161 tasks      | elapsed: 17.8min\n",
            "[Parallel(n_jobs=-3)]: Done 180 tasks      | elapsed: 19.2min\n",
            "[Parallel(n_jobs=-3)]: Done 201 tasks      | elapsed: 21.5min\n",
            "[Parallel(n_jobs=-3)]: Done 222 tasks      | elapsed: 23.1min\n",
            "[Parallel(n_jobs=-3)]: Done 250 out of 250 | elapsed: 24.7min finished\n"
          ],
          "name": "stderr"
        }
      ]
    },
    {
      "cell_type": "code",
      "metadata": {
        "id": "ItBvjS3oxlaq",
        "colab_type": "code",
        "colab": {
          "base_uri": "https://localhost:8080/",
          "height": 71
        },
        "outputId": "c31a68d4-7a30-4500-bb5b-58771442f5cd"
      },
      "source": [
        "# View the best model found\n",
        "print('Best hyperparameters:', search.best_params_)\n",
        "print('Cross-validation score:', search.best_score_)"
      ],
      "execution_count": 219,
      "outputs": [
        {
          "output_type": "stream",
          "text": [
            "Best hyperparameters: {'simpleimputer__strategy': 'most_frequent', 'randomforestclassifier__n_estimators': 450, 'randomforestclassifier__max_features': 'auto', 'randomforestclassifier__max_depth': 25}\n",
            "Cross-validation score: 0.8115824915824916\n"
          ],
          "name": "stdout"
        }
      ]
    },
    {
      "cell_type": "code",
      "metadata": {
        "id": "EdvzmWaXyU-k",
        "colab_type": "code",
        "colab": {}
      },
      "source": [
        "# Predict on test\n",
        "y_test = search.best_estimator_.predict(test[features])\n",
        "\n",
        "# Export .csv\n",
        "submission = test[['id']].copy()\n",
        "submission[target] = y_test\n",
        "submission.to_csv('jduke_water_pump_submission6.csv', index=False)"
      ],
      "execution_count": 0,
      "outputs": []
    },
    {
      "cell_type": "markdown",
      "metadata": {
        "id": "C61iOqGI6qYp",
        "colab_type": "text"
      },
      "source": [
        "### Ensemble submission"
      ]
    },
    {
      "cell_type": "code",
      "metadata": {
        "id": "51EMqsDWz9nt",
        "colab_type": "code",
        "colab": {}
      },
      "source": [
        "files = ['jduke_water_pump_submission.csv', \n",
        "         'jduke_water_pump_submission2.csv', \n",
        "         'jduke_water_pump_submission3.csv', \n",
        "         'jduke_water_pump_submission4.csv', \n",
        "         'jduke_water_pump_submission5.csv',\n",
        "         'jduke_water_pump_submission6.csv',\n",
        "         'jduke_water_pump_cv_submission.csv']\n",
        "submissions = (pd.read_csv(file)[['status_group']] for file in files)\n",
        "ensemble = pd.concat(submissions, axis='columns')\n",
        "majority_vote = ensemble.mode(axis='columns')[0]\n",
        "sample_submission = pd.read_csv(DATA_PATH+'waterpumps/sample_submission.csv')\n",
        "submission = sample_submission.copy()\n",
        "submission['status_group'] = majority_vote\n",
        "submission.to_csv('jduke_ensemble_submission.csv', index=False)"
      ],
      "execution_count": 0,
      "outputs": []
    }
  ]
}