{
  "nbformat": 4,
  "nbformat_minor": 0,
  "metadata": {
    "kernelspec": {
      "display_name": "Python 3",
      "language": "python",
      "name": "python3"
    },
    "language_info": {
      "codemirror_mode": {
        "name": "ipython",
        "version": 3
      },
      "file_extension": ".py",
      "mimetype": "text/x-python",
      "name": "python",
      "nbconvert_exporter": "python",
      "pygments_lexer": "ipython3",
      "version": "3.7.6"
    },
    "colab": {
      "name": "LS_DS_224_assignment.ipynb",
      "provenance": []
    }
  },
  "cells": [
    {
      "cell_type": "markdown",
      "metadata": {
        "id": "_hrAPP_V4tH-",
        "colab_type": "text"
      },
      "source": [
        "Lambda School Data Science\n",
        "\n",
        "*Unit 2, Sprint 2, Module 4*\n",
        "\n",
        "---"
      ]
    },
    {
      "cell_type": "markdown",
      "metadata": {
        "colab_type": "text",
        "id": "nCc3XZEyG3XV"
      },
      "source": [
        "# Classification Metrics\n",
        "\n",
        "## Assignment\n",
        "- [ ] If you haven't yet, [review requirements for your portfolio project](https://lambdaschool.github.io/ds/unit2), then submit your dataset.\n",
        "- [ ] Plot a confusion matrix for your Tanzania Waterpumps model.\n",
        "- [ ] Continue to participate in our Kaggle challenge. Every student should have made at least one submission that scores at least 70% accuracy (well above the majority class baseline).\n",
        "- [ ] Submit your final predictions to our Kaggle competition. Optionally, go to **My Submissions**, and _\"you may select up to 1 submission to be used to count towards your final leaderboard score.\"_\n",
        "- [ ] Commit your notebook to your fork of the GitHub repo.\n",
        "- [ ] Read [Maximizing Scarce Maintenance Resources with Data: Applying predictive modeling, precision at k, and clustering to optimize impact](https://towardsdatascience.com/maximizing-scarce-maintenance-resources-with-data-8f3491133050), by Lambda DS3 student Michael Brady. His blog post extends the Tanzania Waterpumps scenario, far beyond what's in the lecture notebook.\n",
        "\n",
        "\n",
        "## Stretch Goals\n",
        "\n",
        "### Reading\n",
        "\n",
        "- [Attacking discrimination with smarter machine learning](https://research.google.com/bigpicture/attacking-discrimination-in-ml/), by Google Research, with  interactive visualizations. _\"A threshold classifier essentially makes a yes/no decision, putting things in one category or another. We look at how these classifiers work, ways they can potentially be unfair, and how you might turn an unfair classifier into a fairer one. As an illustrative example, we focus on loan granting scenarios where a bank may grant or deny a loan based on a single, automatically computed number such as a credit score.\"_\n",
        "- [Notebook about how to calculate expected value from a confusion matrix by treating it as a cost-benefit matrix](https://github.com/podopie/DAT18NYC/blob/master/classes/13-expected_value_cost_benefit_analysis.ipynb)\n",
        "- [Visualizing Machine Learning Thresholds to Make Better Business Decisions](https://blog.insightdatascience.com/visualizing-machine-learning-thresholds-to-make-better-business-decisions-4ab07f823415)\n",
        "\n",
        "\n",
        "### Doing\n",
        "- [ ] Share visualizations in our Slack channel!\n",
        "- [ ] RandomizedSearchCV / GridSearchCV, for model selection. (See module 3 assignment notebook)\n",
        "- [ ] Stacking Ensemble. (See module 3 assignment notebook)\n",
        "- [ ] More Categorical Encoding. (See module 2 assignment notebook)"
      ]
    },
    {
      "cell_type": "code",
      "metadata": {
        "colab_type": "code",
        "id": "lsbRiKBoB5RE",
        "colab": {}
      },
      "source": [
        "%%capture\n",
        "import sys\n",
        "\n",
        "# If you're on Colab:\n",
        "if 'google.colab' in sys.modules:\n",
        "    DATA_PATH = 'https://raw.githubusercontent.com/LambdaSchool/DS-Unit-2-Kaggle-Challenge/master/data/'\n",
        "    !pip install category_encoders==2.*\n",
        "\n",
        "# If you're working locally:\n",
        "else:\n",
        "    DATA_PATH = '../data/'"
      ],
      "execution_count": 0,
      "outputs": []
    },
    {
      "cell_type": "code",
      "metadata": {
        "colab_type": "code",
        "id": "BVA1lph8CcNX",
        "colab": {}
      },
      "source": [
        "import pandas as pd\n",
        "\n",
        "# Merge train_features.csv & train_labels.csv\n",
        "train = pd.merge(pd.read_csv(DATA_PATH+'waterpumps/train_features.csv'), \n",
        "                 pd.read_csv(DATA_PATH+'waterpumps/train_labels.csv'))\n",
        "\n",
        "# Read test_features.csv & sample_submission.csv\n",
        "original_test = pd.read_csv(DATA_PATH+'waterpumps/test_features.csv')\n",
        "sample_submission = pd.read_csv(DATA_PATH+'waterpumps/sample_submission.csv')"
      ],
      "execution_count": 0,
      "outputs": []
    },
    {
      "cell_type": "code",
      "metadata": {
        "id": "G1-g_qFE4tIR",
        "colab_type": "code",
        "colab": {}
      },
      "source": [
        "import category_encoders as ce\n",
        "from sklearn.impute import SimpleImputer\n",
        "from sklearn.tree import DecisionTreeClassifier\n",
        "from sklearn.pipeline import make_pipeline\n",
        "from sklearn.preprocessing import StandardScaler\n",
        "from sklearn.ensemble import RandomForestClassifier\n",
        "import pandas as pd\n",
        "from sklearn.model_selection import train_test_split\n",
        "import numpy as np"
      ],
      "execution_count": 0,
      "outputs": []
    },
    {
      "cell_type": "code",
      "metadata": {
        "id": "MwLDGTn25JPm",
        "colab_type": "code",
        "colab": {
          "base_uri": "https://localhost:8080/",
          "height": 34
        },
        "outputId": "d1054f1b-62f1-47e6-8f83-0cd1eef15409"
      },
      "source": [
        "train = pd.merge(pd.read_csv(DATA_PATH+'waterpumps/train_features.csv'), \n",
        "                 pd.read_csv(DATA_PATH+'waterpumps/train_labels.csv'))\n",
        "original_test = pd.read_csv(DATA_PATH+'waterpumps/test_features.csv')\n",
        "sample_submission = pd.read_csv(DATA_PATH+'waterpumps/sample_submission.csv')\n",
        "\n",
        "train.shape, original_test.shape"
      ],
      "execution_count": 4,
      "outputs": [
        {
          "output_type": "execute_result",
          "data": {
            "text/plain": [
              "((59400, 41), (14358, 40))"
            ]
          },
          "metadata": {
            "tags": []
          },
          "execution_count": 4
        }
      ]
    },
    {
      "cell_type": "code",
      "metadata": {
        "id": "pU7CDAO65L3z",
        "colab_type": "code",
        "colab": {
          "base_uri": "https://localhost:8080/",
          "height": 34
        },
        "outputId": "b89d4556-af31-4af2-c8d9-cf31d4be0996"
      },
      "source": [
        "#val and train split\n",
        "original_train, original_val = train_test_split(train, train_size=.8, test_size=.2,\n",
        "                              stratify=train['status_group'], random_state=42)\n",
        "original_train.shape, original_val.shape, original_test.shape"
      ],
      "execution_count": 5,
      "outputs": [
        {
          "output_type": "execute_result",
          "data": {
            "text/plain": [
              "((47520, 41), (11880, 41), (14358, 40))"
            ]
          },
          "metadata": {
            "tags": []
          },
          "execution_count": 5
        }
      ]
    },
    {
      "cell_type": "code",
      "metadata": {
        "id": "zhf7XVz85O20",
        "colab_type": "code",
        "colab": {}
      },
      "source": [
        "import pandas as pd\n",
        "\n",
        "# Merge train_features.csv & train_labels.csv\n",
        "train = pd.merge(pd.read_csv(DATA_PATH+'waterpumps/train_features.csv'), \n",
        "                 pd.read_csv(DATA_PATH+'waterpumps/train_labels.csv'))\n",
        "\n",
        "# Read test_features.csv & sample_submission.csv\n",
        "test = pd.read_csv(DATA_PATH+'waterpumps/test_features.csv')\n",
        "sample_submission = pd.read_csv(DATA_PATH+'waterpumps/sample_submission.csv')"
      ],
      "execution_count": 0,
      "outputs": []
    },
    {
      "cell_type": "code",
      "metadata": {
        "id": "UoyLM0Ya5jXW",
        "colab_type": "code",
        "colab": {}
      },
      "source": [
        "def better_wrangle(x):\n",
        "    x = x.copy()\n",
        "\n",
        "    x['latitude'] = x['latitude'].replace(-2e-08, 0)\n",
        "\n",
        "    cols_with_zeros = ['longitude', 'latitude']\n",
        "    for col in cols_with_zeros:\n",
        "        x[col] = x[col].replace(0, np.nan)\n",
        "\n",
        "    x = x.drop(columns='quantity_group')\n",
        "    #daterecorded is listed as categorical so putting into datetime format\n",
        "    x['date_recorded'] = pd.to_datetime(x['date_recorded'], infer_datetime_format=True)\n",
        "    x['recorded_year'] = x['date_recorded'].apply(lambda x: x.year)\n",
        "    x['recorded_month'] = x['date_recorded'].apply(lambda x: x.month)\n",
        "    x['recorded_day'] = x['date_recorded'].apply(lambda x: x.day)\n",
        "    x['recorded_weekday'] = x['date_recorded'].apply(lambda x: x.weekday())\n",
        "\n",
        "    #changing the year recorded to the mean, if it is 2004 or 2002\n",
        "    x['recorded_year'] = x['recorded_year'].replace([2002, 2004], np.nan)\n",
        "    x['recorded_year'] = x['recorded_year'].replace(np.nan, round(x['recorded_year'].mean()))\n",
        "    \n",
        "    #getting how old each is\n",
        "    x['construction_year_for_age'] = x['construction_year'].replace(0, np.nan)\n",
        "    x['construction_year_for_age'] = x['construction_year_for_age'].replace(np.nan, round(x['construction_year_for_age'].mean()))\n",
        "    x['age'] = x['recorded_year'] - x['construction_year_for_age']\n",
        "    \n",
        "\n",
        "    #making the times categorical so can use for one hot\n",
        "    x['recorded_year'] = x['recorded_year'].apply(lambda x: str(x))\n",
        "    x['recorded_month'] = x['recorded_month'].apply(lambda x: str(x))\n",
        "    x['recorded_day'] = x['recorded_day'].apply(lambda x: str(x))\n",
        "    x['recorded_weekday'] = x['recorded_weekday'].apply(lambda x: str(x))\n",
        "    x['age'] = x['age'].apply(lambda x: str(x))\n",
        "    x['construction_year'] = x['construction_year_for_age'].apply(lambda x: str(x))\n",
        "    \n",
        "    #some variables that i think should be categorical are numerical\n",
        "    x['region_code'] = x['region_code'].apply(lambda x: str(x))\n",
        "    x['district_code'] = x['district_code'].apply(lambda x: str(x))\n",
        "    \n",
        "  \n",
        "   \n",
        "    \n",
        "    #fixing the high cardinality\n",
        "    cardinality = x.select_dtypes(exclude='number').nunique()\n",
        "    need_to_fix_cardinality = cardinality[cardinality >=50].index.tolist()\n",
        "    \n",
        "    for each in need_to_fix_cardinality:\n",
        "        top25 = x[each].value_counts()[:25].index.to_list()\n",
        "        x[each] = x[each].apply(lambda y: 'Other' if y not in top25 else y)\n",
        "\n",
        "    #lumping all the ones that have at least one private together\n",
        "    x['num_private'] = x['num_private'].apply(lambda x: x if x == 0 else 1)\n",
        "\n",
        "    #amount tsh has some outliers so going to replace them with the average\n",
        "    x['amount_tsh'] = x['amount_tsh'].apply(lambda x: x if x<= 1000 else np.nan)\n",
        "    #dropping duplicates and unwanted columns\n",
        "    x = x.drop(columns=['payment_type', 'source_type', 'waterpoint_type_group',\n",
        "                        'extraction_type_group', 'extraction_type_class',\n",
        "                        'date_recorded', 'recorded_by', 'construction_year_for_age',\n",
        "                        'source_class', 'quality_group'])\n",
        "    return x\n",
        "\n",
        "\n",
        "\n",
        "train = better_wrangle(original_train)\n",
        "val = better_wrangle(original_val)\n",
        "test = better_wrangle(original_test)"
      ],
      "execution_count": 0,
      "outputs": []
    },
    {
      "cell_type": "code",
      "metadata": {
        "id": "t7la6aYv5RSB",
        "colab_type": "code",
        "colab": {
          "base_uri": "https://localhost:8080/",
          "height": 51
        },
        "outputId": "331e660f-0dcd-4c86-e59a-1e58043085d5"
      },
      "source": [
        "target = 'status_group'\n",
        "\n",
        "train_features = train.drop(columns=[target, 'id'])\n",
        "numeric_features = train_features.select_dtypes(include='number').columns.tolist()\n",
        "cardinality = train_features.select_dtypes(exclude='number').nunique()\n",
        "categorical_features = cardinality[cardinality <= 50].index.tolist()\n",
        "\n",
        "features = numeric_features + categorical_features\n",
        "\n",
        "X_train = train[features]\n",
        "y_train = train[target]\n",
        "X_val = val[features]\n",
        "y_val = val[target]\n",
        "X_test = test[features]\n",
        "\n",
        "pipeline = make_pipeline(\n",
        "    ce.OneHotEncoder(use_cat_names=True),\n",
        "    SimpleImputer(),\n",
        "    StandardScaler(),\n",
        "    RandomForestClassifier(n_estimators=500, n_jobs=-1, random_state=42)\n",
        ")\n",
        "\n",
        "pipeline.fit(X_train, y_train)\n",
        "print('Train Accuracy', pipeline.score(X_train, y_train))\n",
        "print('Validation Accuracy', pipeline.score(X_val, y_val))\n",
        "\n",
        "y_pred = pipeline.predict(X_val)"
      ],
      "execution_count": 9,
      "outputs": [
        {
          "output_type": "stream",
          "text": [
            "Train Accuracy 0.9989478114478114\n",
            "Validation Accuracy 0.813047138047138\n"
          ],
          "name": "stdout"
        }
      ]
    },
    {
      "cell_type": "code",
      "metadata": {
        "id": "x01jwED85U-k",
        "colab_type": "code",
        "colab": {
          "base_uri": "https://localhost:8080/",
          "height": 385
        },
        "outputId": "e9a978c3-135a-4b2a-b1a2-e85abe99cea5"
      },
      "source": [
        "from sklearn.metrics import plot_confusion_matrix\n",
        "\n",
        "plot_confusion_matrix(\n",
        "    pipeline, X_val, y_val,\n",
        "    xticks_rotation='vertical',\n",
        "    cmap='Blues',\n",
        "    values_format='.2f',\n",
        "    normalize='true'\n",
        ");"
      ],
      "execution_count": 10,
      "outputs": [
        {
          "output_type": "display_data",
          "data": {
            "image/png": "[encoded data removed]",
            "text/plain": [
              "<Figure size 432x288 with 2 Axes>"
            ]
          },
          "metadata": {
            "tags": [],
            "needs_background": "light"
          }
        }
      ]
    },
    {
      "cell_type": "code",
      "metadata": {
        "id": "yAXWTa565rWw",
        "colab_type": "code",
        "colab": {}
      },
      "source": [
        ""
      ],
      "execution_count": 0,
      "outputs": []
    }
  ]
}