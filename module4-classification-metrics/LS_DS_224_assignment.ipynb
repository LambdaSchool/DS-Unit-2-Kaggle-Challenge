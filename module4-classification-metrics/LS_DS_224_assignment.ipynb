{
  "nbformat": 4,
  "nbformat_minor": 0,
  "metadata": {
    "kernelspec": {
      "display_name": "Python 3",
      "language": "python",
      "name": "python3"
    },
    "language_info": {
      "codemirror_mode": {
        "name": "ipython",
        "version": 3
      },
      "file_extension": ".py",
      "mimetype": "text/x-python",
      "name": "python",
      "nbconvert_exporter": "python",
      "pygments_lexer": "ipython3",
      "version": "3.7.3"
    },
    "colab": {
      "name": "LS_DS_224_assignment.ipynb",
      "provenance": [],
      "include_colab_link": true
    }
  },
  "cells": [
    {
      "cell_type": "markdown",
      "metadata": {
        "id": "view-in-github",
        "colab_type": "text"
      },
      "source": [
        "<a href=\"https://colab.research.google.com/github/Logan-Stark/DS-Unit-2-Kaggle-Challenge/blob/master/module4-classification-metrics/LS_DS_224_assignment.ipynb\" target=\"_parent\"><img src=\"https://colab.research.google.com/assets/colab-badge.svg\" alt=\"Open In Colab\"/></a>"
      ]
    },
    {
      "cell_type": "markdown",
      "metadata": {
        "id": "NegPHxFuFf0l",
        "colab_type": "text"
      },
      "source": [
        "Lambda School Data Science\n",
        "\n",
        "*Unit 2, Sprint 2, Module 4*\n",
        "\n",
        "---"
      ]
    },
    {
      "cell_type": "markdown",
      "metadata": {
        "colab_type": "text",
        "id": "nCc3XZEyG3XV"
      },
      "source": [
        "# Classification Metrics\n",
        "\n",
        "## Assignment\n",
        "- [ ] If you haven't yet, [review requirements for your portfolio project](https://lambdaschool.github.io/ds/unit2), then submit your dataset.\n",
        "- [ ] Plot a confusion matrix for your Tanzania Waterpumps model.\n",
        "- [ ] Continue to participate in our Kaggle challenge. Every student should have made at least one submission that scores at least 70% accuracy (well above the majority class baseline).\n",
        "- [ ] Submit your final predictions to our Kaggle competition. Optionally, go to **My Submissions**, and _\"you may select up to 1 submission to be used to count towards your final leaderboard score.\"_\n",
        "- [ ] Commit your notebook to your fork of the GitHub repo.\n",
        "- [ ] Read [Maximizing Scarce Maintenance Resources with Data: Applying predictive modeling, precision at k, and clustering to optimize impact](http://archive.is/DelgE), by Lambda DS3 student Michael Brady. His blog post extends the Tanzania Waterpumps scenario, far beyond what's in the lecture notebook.\n",
        "\n",
        "\n",
        "## Stretch Goals\n",
        "\n",
        "### Reading\n",
        "\n",
        "- [Attacking discrimination with smarter machine learning](https://research.google.com/bigpicture/attacking-discrimination-in-ml/), by Google Research, with  interactive visualizations. _\"A threshold classifier essentially makes a yes/no decision, putting things in one category or another. We look at how these classifiers work, ways they can potentially be unfair, and how you might turn an unfair classifier into a fairer one. As an illustrative example, we focus on loan granting scenarios where a bank may grant or deny a loan based on a single, automatically computed number such as a credit score.\"_\n",
        "- [Notebook about how to calculate expected value from a confusion matrix by treating it as a cost-benefit matrix](https://github.com/podopie/DAT18NYC/blob/master/classes/13-expected_value_cost_benefit_analysis.ipynb)\n",
        "- [Visualizing Machine Learning Thresholds to Make Better Business Decisions](https://blog.insightdatascience.com/visualizing-machine-learning-thresholds-to-make-better-business-decisions-4ab07f823415)\n",
        "\n",
        "\n",
        "### Doing\n",
        "- [ ] Share visualizations in our Slack channel!\n",
        "- [ ] RandomizedSearchCV / GridSearchCV, for model selection. (See module 3 assignment notebook)\n",
        "- [ ] Stacking Ensemble. (See module 3 assignment notebook)\n",
        "- [ ] More Categorical Encoding. (See module 2 assignment notebook)"
      ]
    },
    {
      "cell_type": "markdown",
      "metadata": {
        "id": "2uK82MQkO341",
        "colab_type": "text"
      },
      "source": [
        "# DATA IMPORT AND WRANGLING"
      ]
    },
    {
      "cell_type": "code",
      "metadata": {
        "colab_type": "code",
        "id": "lsbRiKBoB5RE",
        "colab": {}
      },
      "source": [
        "%%capture\n",
        "import sys\n",
        "\n",
        "# If you're on Colab:\n",
        "if 'google.colab' in sys.modules:\n",
        "    DATA_PATH = 'https://raw.githubusercontent.com/LambdaSchool/DS-Unit-2-Kaggle-Challenge/master/data/'\n",
        "    !pip install category_encoders==2.*\n",
        "\n",
        "# If you're working locally:\n",
        "else:\n",
        "    DATA_PATH = '../data/'"
      ],
      "execution_count": 1,
      "outputs": []
    },
    {
      "cell_type": "code",
      "metadata": {
        "colab_type": "code",
        "id": "BVA1lph8CcNX",
        "colab": {}
      },
      "source": [
        "import pandas as pd\n",
        "\n",
        "# Merge train_features.csv & train_labels.csv\n",
        "train = pd.merge(pd.read_csv(DATA_PATH+'waterpumps/train_features.csv'), \n",
        "                 pd.read_csv(DATA_PATH+'waterpumps/train_labels.csv'))\n",
        "\n",
        "# Read test_features.csv & sample_submission.csv\n",
        "test = pd.read_csv(DATA_PATH+'waterpumps/test_features.csv')\n",
        "sample_submission = pd.read_csv(DATA_PATH+'waterpumps/sample_submission.csv')"
      ],
      "execution_count": 2,
      "outputs": []
    },
    {
      "cell_type": "markdown",
      "metadata": {
        "id": "4T0jSHIeO-iO",
        "colab_type": "text"
      },
      "source": [
        "## Spliting data into train and val"
      ]
    },
    {
      "cell_type": "code",
      "metadata": {
        "id": "Zdve_ZerFxko",
        "colab_type": "code",
        "colab": {}
      },
      "source": [
        "# Split train into train & val\n",
        "from sklearn.model_selection import train_test_split\n",
        "train, val = train_test_split(train, train_size=0.80, test_size=0.20, \n",
        "                              stratify=train['status_group'], random_state=42)"
      ],
      "execution_count": 3,
      "outputs": []
    },
    {
      "cell_type": "code",
      "metadata": {
        "id": "9vZ0R_HFIpGE",
        "colab_type": "code",
        "colab": {}
      },
      "source": [
        "# from pandas_profiling import ProfileReport\n",
        "# profile = ProfileReport(train, minimal=True).to_notebook_iframe()\n",
        "\n",
        "# profile"
      ],
      "execution_count": 4,
      "outputs": []
    },
    {
      "cell_type": "markdown",
      "metadata": {
        "id": "wjOVK_OcPHOp",
        "colab_type": "text"
      },
      "source": [
        "# Wrangling and Feature engineering"
      ]
    },
    {
      "cell_type": "code",
      "metadata": {
        "id": "w3ijHzHSFf0r",
        "colab_type": "code",
        "colab": {
          "base_uri": "https://localhost:8080/",
          "height": 72
        },
        "outputId": "5a1454ec-c82f-4887-d857-f854d30d5d1d"
      },
      "source": [
        "# added new features to our data and got rid of duplicates\n",
        "import numpy as np\n",
        "import category_encoders as ce\n",
        "from sklearn.linear_model import LogisticRegression\n",
        "from sklearn.pipeline import make_pipeline\n",
        "from sklearn.preprocessing import StandardScaler\n",
        "from sklearn.feature_selection import SelectKBest\n",
        "from sklearn.tree import DecisionTreeClassifier\n",
        "from sklearn.ensemble import RandomForestClassifier\n",
        "from sklearn.pipeline import Pipeline\n",
        "from category_encoders import OneHotEncoder, OrdinalEncoder\n",
        "from sklearn.impute import SimpleImputer\n",
        "from sklearn.metrics import mean_absolute_error\n",
        "from sklearn.model_selection import cross_val_score\n",
        "from sklearn.model_selection import GridSearchCV, RandomizedSearchCV\n",
        "\n",
        "def wrangle(X):\n",
        "    \"\"\"Wrangle train, validate, and test sets in the same way\"\"\"\n",
        "    \n",
        " \n",
        "    # Stop CopyWarning\n",
        "    X = X.copy()\n",
        "    \n",
        "    # get rid of irrelevant Latitude data\n",
        "    X['latitude'] = X['latitude'].replace(-2e-08, 0)\n",
        "    \n",
        "    # we will replace the zeros with nulls, and impute missing values later.\n",
        "    cols_with_zeros = ['longitude', 'latitude', 'num_private', 'district_code'\n",
        "    ,'population', 'construction_year', 'gps_height', 'amount_tsh']\n",
        "    for col in cols_with_zeros:\n",
        "        X[col] = X[col].replace(0, np.nan)\n",
        "\n",
        "    # converting date recorderd into int and making new feature\n",
        "    X['date_recorded'] = pd.to_datetime(X['date_recorded'])\n",
        "    X['date_recorded'] = X['date_recorded'].dt.year\n",
        "    X['date_recorded'] =X['date_recorded'].astype(int)\n",
        "    X['years_since_constr'] = X['date_recorded'] - X['construction_year']   \n",
        "    \n",
        "    # making a feature based on correlation between salty and other for water quality and extraction\n",
        "    X['water_quality_extraction_method']= (X['water_quality']== 'salty') & (X['extraction_type_class'] == 'other')\n",
        "\n",
        "    # making feature based on correlation between salty and dry for water quality and quantity dry\n",
        "    X['quality_and_quantity'] = (X['water_quality'] == 'salty') | (X['quantity']== 'dry')\n",
        "\n",
        "    # making feature based on correlation between salty and dry for water quality and quantity dry\n",
        "    X['Year_built_insufficientsupply'] = (X['quantity']=='insufficient') | (X['construction_year']<= 2004)\n",
        "\n",
        "    # making feature based on correlation between salty and dry for water quality and quantity dry\n",
        "    X['Year_built_sufficientsupply'] = (X['quantity']=='enough') | (X['construction_year']>= 2004)\n",
        "\n",
        "    # making feature based on correlation between gravity and insufficent\n",
        "    X['extraction_gravity_insufficent'] = (X['quantity']=='insufficient') & (X['extraction_type_class'] == 'gravity')\n",
        "\n",
        "    #X['gps_enough']= (X['gps_height']>= 1550) & (X['quantity_group']== 'enough')\n",
        "\n",
        "    # quantity & quantity_group are duplicates, so drop one\n",
        "    X = X.drop(columns='quantity')\n",
        "    X = X.drop(columns='extraction_type_group')\n",
        "    X = X.drop(columns='management_group')\n",
        "    X = X.drop(columns='payment_type')\n",
        "    X = X.drop(columns='quality_group')\n",
        "    X = X.drop(columns='source_type')\n",
        "    X = X.drop(columns='waterpoint_type_group')\n",
        "    X = X.drop(columns='num_private')\n",
        "    #X = X.drop(columns='amount_tsh')\n",
        "    #X = X.drop(columns='latitude')\n",
        "    #X = X.drop(columns='longitude')\n",
        "    #X = X.drop(columns='gps_height')\n",
        "    X = X.drop(columns='scheme_name')\n",
        "    #X = X.drop(columns='population')\n",
        "    # return the wrangled dataframe\n",
        "    return X\n",
        "\n",
        "# DRY programming DON'T REPEAT YOURSELF\n",
        "train = wrangle(train)\n",
        "val = wrangle(val)\n",
        "test = wrangle(test)"
      ],
      "execution_count": 5,
      "outputs": [
        {
          "output_type": "stream",
          "text": [
            "/usr/local/lib/python3.6/dist-packages/statsmodels/tools/_testing.py:19: FutureWarning: pandas.util.testing is deprecated. Use the functions in the public API at pandas.testing instead.\n",
            "  import pandas.util.testing as tm\n"
          ],
          "name": "stderr"
        }
      ]
    },
    {
      "cell_type": "code",
      "metadata": {
        "id": "c45gJqRkGJ-t",
        "colab_type": "code",
        "colab": {
          "base_uri": "https://localhost:8080/",
          "height": 55
        },
        "outputId": "648920cc-726c-45a4-d784-a434f6cad86e"
      },
      "source": [
        "# select our target \n",
        "target = 'status_group'\n",
        "\n",
        "# make train without our target or id\n",
        "train_features = train.drop(columns=[target, 'id'])\n",
        "\n",
        "# make numeric features\n",
        "numeric_features = train_features.select_dtypes(include='number').columns.tolist()\n",
        "\n",
        "# make a cardinality feature to help filter\n",
        "cardinality = train_features.select_dtypes(exclude='number').nunique()\n",
        "\n",
        "# get a list of relevant categorical data\n",
        "categorical_features = cardinality[cardinality <=50].index.tolist()\n",
        "\n",
        "# Combine the lists \n",
        "features = numeric_features + categorical_features\n",
        "print(features)"
      ],
      "execution_count": 6,
      "outputs": [
        {
          "output_type": "stream",
          "text": [
            "['amount_tsh', 'date_recorded', 'gps_height', 'longitude', 'latitude', 'region_code', 'district_code', 'population', 'construction_year', 'years_since_constr', 'basin', 'region', 'public_meeting', 'recorded_by', 'scheme_management', 'permit', 'extraction_type', 'extraction_type_class', 'management', 'payment', 'water_quality', 'quantity_group', 'source', 'source_class', 'waterpoint_type', 'water_quality_extraction_method', 'quality_and_quantity', 'Year_built_insufficientsupply', 'Year_built_sufficientsupply', 'extraction_gravity_insufficent']\n"
          ],
          "name": "stdout"
        }
      ]
    },
    {
      "cell_type": "code",
      "metadata": {
        "id": "L24n1MjBGjB5",
        "colab_type": "code",
        "colab": {}
      },
      "source": [
        "# Arrange data into X features matrix and y target vector \n",
        "X_train = train[features]\n",
        "y_train = train[target]\n",
        "X_val = val[features]\n",
        "y_val = val[target]\n",
        "X_test = test[features]"
      ],
      "execution_count": 7,
      "outputs": []
    },
    {
      "cell_type": "code",
      "metadata": {
        "id": "9G2RyYkoQk9X",
        "colab_type": "code",
        "colab": {
          "base_uri": "https://localhost:8080/",
          "height": 104
        },
        "outputId": "883b749e-c833-4be7-c0df-53cf83dca785"
      },
      "source": [
        "print(X_train.shape)\n",
        "print(y_train.shape)\n",
        "print(X_val.shape)\n",
        "print(y_val.shape)\n",
        "print(X_test.shape)\n"
      ],
      "execution_count": 18,
      "outputs": [
        {
          "output_type": "stream",
          "text": [
            "(47520, 30)\n",
            "(47520,)\n",
            "(11880, 30)\n",
            "(11880,)\n",
            "(14358, 30)\n"
          ],
          "name": "stdout"
        }
      ]
    },
    {
      "cell_type": "code",
      "metadata": {
        "id": "jp5NfUiyXb-q",
        "colab_type": "code",
        "colab": {}
      },
      "source": [
        "X_train = pd.concat([X_train,X_val])\n",
        "y_train = pd.concat([y_train,y_val])"
      ],
      "execution_count": 35,
      "outputs": []
    },
    {
      "cell_type": "code",
      "metadata": {
        "id": "hBijk0Wlo4Tl",
        "colab_type": "code",
        "colab": {}
      },
      "source": [
        "min_samples_split=4,\n",
        "min_samples_leaf=2,\n",
        "max_leaf_nodes=10,\n",
        "min_samples_split=4,\n",
        "                      min_samples_leaf=2,\n",
        "                      max_leaf_nodes=10,\n",
        "                      \n",
        "                     \n",
        "                      \n",
        "                      n_jobs=-1,\n",
        "                      max_depth=20))"
      ],
      "execution_count": null,
      "outputs": []
    },
    {
      "cell_type": "markdown",
      "metadata": {
        "id": "DgZwk4A3P6SW",
        "colab_type": "text"
      },
      "source": [
        "# CURRENT MODEL"
      ]
    },
    {
      "cell_type": "code",
      "metadata": {
        "id": "rzqsH2UJGs2U",
        "colab_type": "code",
        "colab": {
          "base_uri": "https://localhost:8080/",
          "height": 35
        },
        "outputId": "1038ce2f-803f-42e9-e1db-72ed0549dd39"
      },
      "source": [
        "# Same as above but with ordinal encoder\n",
        "\n",
        "model2 = Pipeline([\n",
        "                  ('ohe', OrdinalEncoder(drop_invariant=True)),\n",
        "                  ('impute', SimpleImputer(strategy='median')),\n",
        "                  ('scaler', StandardScaler()),\n",
        "                  ('classifier', RandomForestClassifier(\n",
        "                      n_estimators=2000,\n",
        "                      n_jobs=-1,\n",
        "                      max_depth=10,\n",
        "                      min_samples_split=8,\n",
        "                      min_samples_leaf=2,\n",
        "                      max_leaf_nodes=10,\n",
        "                      max_features=6\n",
        "))\n",
        "                     \n",
        "])\n",
        "\n",
        "model2.fit(X_train, y_train)\n",
        "\n",
        "print('training accuracy:', model2.score(X_train, y_train))\n"
      ],
      "execution_count": 103,
      "outputs": [
        {
          "output_type": "stream",
          "text": [
            "training accuracy: 0.7116835016835017\n"
          ],
          "name": "stdout"
        }
      ]
    },
    {
      "cell_type": "code",
      "metadata": {
        "id": "IFcDXtnFQM0X",
        "colab_type": "code",
        "colab": {}
      },
      "source": [
        "y_pred = model2.predict(X_test)"
      ],
      "execution_count": 105,
      "outputs": []
    },
    {
      "cell_type": "code",
      "metadata": {
        "id": "Dg6klwuomHk1",
        "colab_type": "code",
        "colab": {}
      },
      "source": [
        "DATA_PATH = 'https://raw.githubusercontent.com/LambdaSchool/DS-Unit-2-Kaggle-Challenge/master/data/'\n",
        "sample_submission = pd.read_csv(DATA_PATH+'waterpumps/sample_submission.csv')\n",
        "submission = sample_submission.copy()\n",
        "submission['status_group'] = y_pred\n",
        "submission.to_csv('your-submission-filename13.csv', index=False)"
      ],
      "execution_count": 106,
      "outputs": []
    },
    {
      "cell_type": "code",
      "metadata": {
        "id": "zIMiA4pmmJ-q",
        "colab_type": "code",
        "colab": {
          "base_uri": "https://localhost:8080/",
          "height": 17
        },
        "outputId": "80d8b8ff-c1e9-4b7e-c5cd-6f3c72dbb670"
      },
      "source": [
        "from google.colab import files\n",
        "files.download('your-submission-filename13.csv')"
      ],
      "execution_count": 107,
      "outputs": [
        {
          "output_type": "display_data",
          "data": {
            "application/javascript": [
              "\n",
              "    async function download(id, filename, size) {\n",
              "      if (!google.colab.kernel.accessAllowed) {\n",
              "        return;\n",
              "      }\n",
              "      const div = document.createElement('div');\n",
              "      const label = document.createElement('label');\n",
              "      label.textContent = `Downloading \"${filename}\": `;\n",
              "      div.appendChild(label);\n",
              "      const progress = document.createElement('progress');\n",
              "      progress.max = size;\n",
              "      div.appendChild(progress);\n",
              "      document.body.appendChild(div);\n",
              "\n",
              "      const buffers = [];\n",
              "      let downloaded = 0;\n",
              "\n",
              "      const channel = await google.colab.kernel.comms.open(id);\n",
              "      // Send a message to notify the kernel that we're ready.\n",
              "      channel.send({})\n",
              "\n",
              "      for await (const message of channel.messages) {\n",
              "        // Send a message to notify the kernel that we're ready.\n",
              "        channel.send({})\n",
              "        if (message.buffers) {\n",
              "          for (const buffer of message.buffers) {\n",
              "            buffers.push(buffer);\n",
              "            downloaded += buffer.byteLength;\n",
              "            progress.value = downloaded;\n",
              "          }\n",
              "        }\n",
              "      }\n",
              "      const blob = new Blob(buffers, {type: 'application/binary'});\n",
              "      const a = document.createElement('a');\n",
              "      a.href = window.URL.createObjectURL(blob);\n",
              "      a.download = filename;\n",
              "      div.appendChild(a);\n",
              "      a.click();\n",
              "      div.remove();\n",
              "    }\n",
              "  "
            ],
            "text/plain": [
              "<IPython.core.display.Javascript object>"
            ]
          },
          "metadata": {
            "tags": []
          }
        },
        {
          "output_type": "display_data",
          "data": {
            "application/javascript": [
              "download(\"download_001cf32d-af97-44d8-8266-4f3937d8f338\", \"your-submission-filename13.csv\", 256456)"
            ],
            "text/plain": [
              "<IPython.core.display.Javascript object>"
            ]
          },
          "metadata": {
            "tags": []
          }
        }
      ]
    },
    {
      "cell_type": "markdown",
      "metadata": {
        "id": "ckKOP09AP-4b",
        "colab_type": "text"
      },
      "source": [
        "## important features for features"
      ]
    },
    {
      "cell_type": "code",
      "metadata": {
        "id": "4CQJsBMii6Bm",
        "colab_type": "code",
        "colab": {}
      },
      "source": [
        "12.19,12.55,11.27"
      ],
      "execution_count": null,
      "outputs": []
    },
    {
      "cell_type": "code",
      "metadata": {
        "id": "dfw_8c61HZU7",
        "colab_type": "code",
        "colab": {
          "base_uri": "https://localhost:8080/",
          "height": 597
        },
        "outputId": "64388e67-896e-47ca-da5f-367ce112953e"
      },
      "source": [
        "import matplotlib.pyplot as plt\n",
        "model = model2.named_steps['classifier']\n",
        "encoder = model2.named_steps['ohe']\n",
        "encoded_columns = encoder.transform(X_train).columns\n",
        "importances = pd.Series(model.feature_importances_, encoded_columns)\n",
        "plt.figure(figsize=(10,10))\n",
        "importances.sort_values().plot.barh()"
      ],
      "execution_count": 9,
      "outputs": [
        {
          "output_type": "execute_result",
          "data": {
            "text/plain": [
              "<matplotlib.axes._subplots.AxesSubplot at 0x7f62553d3b70>"
            ]
          },
          "metadata": {
            "tags": []
          },
          "execution_count": 9
        },
        {
          "output_type": "display_data",
          "data": {
            "image/png": "[encoded data removed]",
            "text/plain": [
              "<Figure size 720x720 with 1 Axes>"
            ]
          },
          "metadata": {
            "tags": [],
            "needs_background": "light"
          }
        }
      ]
    },
    {
      "cell_type": "code",
      "metadata": {
        "id": "ooMbwa84OUKP",
        "colab_type": "code",
        "colab": {
          "base_uri": "https://localhost:8080/",
          "height": 547
        },
        "outputId": "8c75cb0f-dde6-430b-ee04-190aa9bede0a"
      },
      "source": [
        "from sklearn.metrics import plot_confusion_matrix\n",
        "from sklearn.metrics import classification_report\n",
        "plt.rcParams['figure.dpi'] =100\n",
        "plot_confusion_matrix(model2,X_train,y_train, values_format= '.0f', xticks_rotation= 'vertical')"
      ],
      "execution_count": 11,
      "outputs": [
        {
          "output_type": "execute_result",
          "data": {
            "text/plain": [
              "<sklearn.metrics._plot.confusion_matrix.ConfusionMatrixDisplay at 0x7f623f9eac18>"
            ]
          },
          "metadata": {
            "tags": []
          },
          "execution_count": 11
        },
        {
          "output_type": "display_data",
          "data": {
            "image/png": "[encoded data removed]",
            "text/plain": [
              "<Figure size 600x400 with 2 Axes>"
            ]
          },
          "metadata": {
            "tags": [],
            "needs_background": "light"
          }
        }
      ]
    },
    {
      "cell_type": "code",
      "metadata": {
        "id": "sDeC3C7KOwUb",
        "colab_type": "code",
        "colab": {
          "base_uri": "https://localhost:8080/",
          "height": 191
        },
        "outputId": "bf3d3e86-1bfe-456e-84b4-9185aec29941"
      },
      "source": [
        "print(classification_report(y_val, y_pred))"
      ],
      "execution_count": 21,
      "outputs": [
        {
          "output_type": "stream",
          "text": [
            "                         precision    recall  f1-score   support\n",
            "\n",
            "             functional       0.80      0.91      0.85      6452\n",
            "functional needs repair       0.58      0.29      0.39       863\n",
            "         non functional       0.85      0.77      0.81      4565\n",
            "\n",
            "               accuracy                           0.81     11880\n",
            "              macro avg       0.74      0.66      0.68     11880\n",
            "           weighted avg       0.80      0.81      0.80     11880\n",
            "\n"
          ],
          "name": "stdout"
        }
      ]
    },
    {
      "cell_type": "code",
      "metadata": {
        "id": "rb4Ly7uxQ-xe",
        "colab_type": "code",
        "colab": {}
      },
      "source": [
        "y_train = y_train != 'functional'\n",
        "y_val = y_val != 'functional'"
      ],
      "execution_count": null,
      "outputs": []
    }
  ]
}