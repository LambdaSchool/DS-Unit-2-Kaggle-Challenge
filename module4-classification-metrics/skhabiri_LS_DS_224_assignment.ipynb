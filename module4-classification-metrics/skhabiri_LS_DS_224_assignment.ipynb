{
  "nbformat": 4,
  "nbformat_minor": 0,
  "metadata": {
    "kernelspec": {
      "display_name": "Python 3",
      "language": "python",
      "name": "python3"
    },
    "language_info": {
      "codemirror_mode": {
        "name": "ipython",
        "version": 3
      },
      "file_extension": ".py",
      "mimetype": "text/x-python",
      "name": "python",
      "nbconvert_exporter": "python",
      "pygments_lexer": "ipython3",
      "version": "3.7.6"
    },
    "colab": {
      "name": "skhabiri_LS_DS_224_assignment.ipynb",
      "provenance": [],
      "collapsed_sections": [],
      "toc_visible": true,
      "include_colab_link": true
    }
  },
  "cells": [
    {
      "cell_type": "markdown",
      "metadata": {
        "id": "view-in-github",
        "colab_type": "text"
      },
      "source": [
        "<a href=\"https://colab.research.google.com/github/skhabiri/DS-Unit-2-Kaggle-Challenge/blob/master/module4-classification-metrics/skhabiri_LS_DS_224_assignment.ipynb\" target=\"_parent\"><img src=\"https://colab.research.google.com/assets/colab-badge.svg\" alt=\"Open In Colab\"/></a>"
      ]
    },
    {
      "cell_type": "markdown",
      "metadata": {
        "id": "yX6UsmIjzzUm",
        "colab_type": "text"
      },
      "source": [
        "Lambda School Data Science\n",
        "\n",
        "*Unit 2, Sprint 2, Module 4*\n",
        "\n",
        "---"
      ]
    },
    {
      "cell_type": "markdown",
      "metadata": {
        "colab_type": "text",
        "id": "nCc3XZEyG3XV"
      },
      "source": [
        "# Classification Metrics\n",
        "\n",
        "## Assignment\n",
        "- [ ] If you haven't yet, [review requirements for your portfolio project](https://lambdaschool.github.io/ds/unit2), then submit your dataset.\n",
        "- [ ] Plot a confusion matrix for your Tanzania Waterpumps model.\n",
        "- [ ] Continue to participate in our Kaggle challenge. Every student should have made at least one submission that scores at least 70% accuracy (well above the majority class baseline).\n",
        "- [ ] Submit your final predictions to our Kaggle competition. Optionally, go to **My Submissions**, and _\"you may select up to 1 submission to be used to count towards your final leaderboard score.\"_\n",
        "- [ ] Commit your notebook to your fork of the GitHub repo.\n",
        "- [ ] Read [Maximizing Scarce Maintenance Resources with Data: Applying predictive modeling, precision at k, and clustering to optimize impact](http://archive.is/DelgE), by Lambda DS3 student Michael Brady. His blog post extends the Tanzania Waterpumps scenario, far beyond what's in the lecture notebook.\n",
        "\n",
        "\n",
        "## Stretch Goals\n",
        "\n",
        "### Reading\n",
        "\n",
        "- [Attacking discrimination with smarter machine learning](https://research.google.com/bigpicture/attacking-discrimination-in-ml/), by Google Research, with  interactive visualizations. _\"A threshold classifier essentially makes a yes/no decision, putting things in one category or another. We look at how these classifiers work, ways they can potentially be unfair, and how you might turn an unfair classifier into a fairer one. As an illustrative example, we focus on loan granting scenarios where a bank may grant or deny a loan based on a single, automatically computed number such as a credit score.\"_\n",
        "- [Notebook about how to calculate expected value from a confusion matrix by treating it as a cost-benefit matrix](https://github.com/podopie/DAT18NYC/blob/master/classes/13-expected_value_cost_benefit_analysis.ipynb)\n",
        "- [Visualizing Machine Learning Thresholds to Make Better Business Decisions](https://blog.insightdatascience.com/visualizing-machine-learning-thresholds-to-make-better-business-decisions-4ab07f823415)\n",
        "\n",
        "\n",
        "### Doing\n",
        "- [ ] Share visualizations in our Slack channel!\n",
        "- [ ] RandomizedSearchCV / GridSearchCV, for model selection. (See module 3 assignment notebook)\n",
        "- [ ] Stacking Ensemble. (See module 3 assignment notebook)\n",
        "- [ ] More Categorical Encoding. (See module 2 assignment notebook)"
      ]
    },
    {
      "cell_type": "markdown",
      "metadata": {
        "id": "lJMpULkqPpkn",
        "colab_type": "text"
      },
      "source": [
        "# Cross-Validation\n",
        "\n",
        "\n",
        "## Assignment\n",
        "- [ ] [Review requirements for your portfolio project](https://lambdaschool.github.io/ds/unit2), then submit your dataset.\n",
        "- [ ] Continue to participate in our Kaggle challenge. \n",
        "- [ ] Use scikit-learn for hyperparameter optimization with RandomizedSearchCV.\n",
        "- [ ] Submit your predictions to our Kaggle competition. (Go to our Kaggle InClass competition webpage. Use the blue **Submit Predictions** button to upload your CSV file. Or you can use the Kaggle API to submit your predictions.)\n",
        "- [ ] Commit your notebook to your fork of the GitHub repo.\n",
        "\n",
        "\n",
        "**You can't just copy** from the lesson notebook to this assignment.\n",
        "\n",
        "- Because the lesson was **regression**, but the assignment is **classification.**\n",
        "- Because the lesson used [TargetEncoder](https://contrib.scikit-learn.org/categorical-encoding/targetencoder.html), which doesn't work as-is for _multi-class_ classification.\n",
        "\n",
        "So you will have to adapt the example, which is good real-world practice.\n",
        "\n",
        "1. Use a model for classification, such as [RandomForestClassifier](https://scikit-learn.org/stable/modules/generated/sklearn.ensemble.RandomForestClassifier.html)\n",
        "2. Use hyperparameters that match the classifier, such as `randomforestclassifier__ ...`\n",
        "3. Use a metric for classification, such as [`scoring='accuracy'`](https://scikit-learn.org/stable/modules/model_evaluation.html#common-cases-predefined-values)\n",
        "4. If you’re doing a multi-class classification problem — such as whether a waterpump is functional, functional needs repair, or nonfunctional — then use a categorical encoding that works for multi-class classification, such as [OrdinalEncoder](https://contrib.scikit-learn.org/categorical-encoding/ordinal.html) (not [TargetEncoder](https://contrib.scikit-learn.org/categorical-encoding/targetencoder.html))\n",
        "\n",
        "\n",
        "\n",
        "## Stretch Goals\n",
        "\n",
        "### Reading\n",
        "- Jake VanderPlas, [Python Data Science Handbook, Chapter 5.3](https://jakevdp.github.io/PythonDataScienceHandbook/05.03-hyperparameters-and-model-validation.html), Hyperparameters and Model Validation\n",
        "- Jake VanderPlas, [Statistics for Hackers](https://speakerdeck.com/jakevdp/statistics-for-hackers?slide=107)\n",
        "- Ron Zacharski, [A Programmer's Guide to Data Mining, Chapter 5](http://guidetodatamining.com/chapter5/), 10-fold cross validation\n",
        "- Sebastian Raschka, [A Basic Pipeline and Grid Search Setup](https://github.com/rasbt/python-machine-learning-book/blob/master/code/bonus/svm_iris_pipeline_and_gridsearch.ipynb)\n",
        "- Peter Worcester, [A Comparison of Grid Search and Randomized Search Using Scikit Learn](https://blog.usejournal.com/a-comparison-of-grid-search-and-randomized-search-using-scikit-learn-29823179bc85)\n",
        "\n",
        "### Doing\n",
        "- Add your own stretch goals!\n",
        "- Try other [categorical encodings](https://contrib.scikit-learn.org/categorical-encoding/). See the previous assignment notebook for details.\n",
        "- In additon to `RandomizedSearchCV`, scikit-learn has [`GridSearchCV`](https://scikit-learn.org/stable/modules/generated/sklearn.model_selection.GridSearchCV.html). Another library called scikit-optimize has [`BayesSearchCV`](https://scikit-optimize.github.io/notebooks/sklearn-gridsearchcv-replacement.html). Experiment with these alternatives.\n",
        "- _[Introduction to Machine Learning with Python](http://shop.oreilly.com/product/0636920030515.do)_ discusses options for \"Grid-Searching Which Model To Use\" in Chapter 6:\n",
        "\n",
        "> You can even go further in combining GridSearchCV and Pipeline: it is also possible to search over the actual steps being performed in the pipeline (say whether to use StandardScaler or MinMaxScaler). This leads to an even bigger search space and should be considered carefully. Trying all possible solutions is usually not a viable machine learning strategy. However, here is an example comparing a RandomForestClassifier and an SVC ...\n",
        "\n",
        "The example is shown in [the accompanying notebook](https://github.com/amueller/introduction_to_ml_with_python/blob/master/06-algorithm-chains-and-pipelines.ipynb), code cells 35-37. Could you apply this concept to your own pipelines?\n"
      ]
    },
    {
      "cell_type": "code",
      "metadata": {
        "id": "4jBOL1wiPpko",
        "colab_type": "code",
        "colab": {}
      },
      "source": [
        "%%capture\n",
        "import sys\n",
        "\n",
        "# If you're on Colab:\n",
        "if 'google.colab' in sys.modules:\n",
        "    DATA_PATH = 'https://raw.githubusercontent.com/LambdaSchool/DS-Unit-2-Kaggle-Challenge/master/data/'\n",
        "    !pip install category_encoders==2.*\n",
        "\n",
        "# If you're working locally:\n",
        "else:\n",
        "    DATA_PATH = '../data/'"
      ],
      "execution_count": 138,
      "outputs": []
    },
    {
      "cell_type": "code",
      "metadata": {
        "id": "UOF_59-y6bzz",
        "colab_type": "code",
        "colab": {}
      },
      "source": [
        "%matplotlib inline\n",
        "\n",
        "import numpy as np\n",
        "import pandas as pd\n",
        "\n",
        "import seaborn as sns\n",
        "import matplotlib.pyplot as plt\n",
        "\n",
        "import category_encoders as ce\n",
        "# from category_encoders import OneHotEncoder, OrdinalEncoder\n",
        "\n",
        "from sklearn.impute import SimpleImputer\n",
        "\n",
        "from sklearn.preprocessing import StandardScaler\n",
        "from sklearn.preprocessing import FunctionTransformer\n",
        "\n",
        "from sklearn.feature_selection import SelectKBest, f_classif, mutual_info_classif\n",
        "\n",
        "from sklearn.pipeline import make_pipeline, Pipeline\n",
        "\n",
        "\n",
        "from sklearn.model_selection import train_test_split\n",
        "from sklearn.model_selection import GridSearchCV, RandomizedSearchCV\n",
        "from sklearn.model_selection import cross_val_score\n",
        "from sklearn.model_selection import validation_curve\n",
        "\n",
        "\n",
        "from sklearn.tree import DecisionTreeClassifier\n",
        "from sklearn.ensemble import RandomForestClassifier\n",
        "# from sklearn.linear_model import LogisticRegression\n",
        "\n",
        "from sklearn.metrics import accuracy_score, mean_absolute_error\n",
        "\n",
        "\n"
      ],
      "execution_count": 139,
      "outputs": []
    },
    {
      "cell_type": "code",
      "metadata": {
        "id": "HoGWLTjZPpkr",
        "colab_type": "code",
        "colab": {
          "base_uri": "https://localhost:8080/",
          "height": 34
        },
        "outputId": "4071347b-f3d5-4764-e5d9-bbf047d46009"
      },
      "source": [
        "# Merge train_features.csv & train_labels.csv\n",
        "train = pd.merge(pd.read_csv(DATA_PATH+'waterpumps/train_features.csv'), \n",
        "                 pd.read_csv(DATA_PATH+'waterpumps/train_labels.csv'))\n",
        "\n",
        "# Read test_features.csv & sample_submission.csv\n",
        "test = pd.read_csv(DATA_PATH+'waterpumps/test_features.csv')\n",
        "sample_submission = pd.read_csv(DATA_PATH+'waterpumps/sample_submission.csv')\n",
        "\n",
        "train.shape, test.shape"
      ],
      "execution_count": 140,
      "outputs": [
        {
          "output_type": "execute_result",
          "data": {
            "text/plain": [
              "((59400, 41), (14358, 40))"
            ]
          },
          "metadata": {
            "tags": []
          },
          "execution_count": 140
        }
      ]
    },
    {
      "cell_type": "code",
      "metadata": {
        "id": "2uXewVPAVSiy",
        "colab_type": "code",
        "colab": {}
      },
      "source": [
        "# Tuning parameters\n",
        "# In category reduction of each categorical feature {#\"others\"+offset < sum(#\"kept_values\")}\n",
        "other_offset = -1000\n",
        "\n",
        "# only categorical features with maximum num_card value of cardinality are kept\n",
        "cardinal_order = 10000\n",
        "\n",
        "# decision tree depth\n",
        "# num_depth =16"
      ],
      "execution_count": 141,
      "outputs": []
    },
    {
      "cell_type": "code",
      "metadata": {
        "id": "O24uPIFmZjPe",
        "colab_type": "code",
        "colab": {}
      },
      "source": [
        "def wrangle(X):\n",
        "    \n",
        "    def zero_to_nan(df, col_list):\n",
        "        zero_list = [0, \"0\", -2e-08]\n",
        "        for col in col_list:\n",
        "          # this is faster than .replace method\n",
        "            df.loc[df[col].isin(zero_list), col] = np.nan\n",
        "        return df   \n",
        "    \n",
        "    X[\"date_recorded\"] = pd.to_datetime(X[\"date_recorded\"], infer_datetime_format=True)\n",
        "    # Extract components from date_recorded, then drop the original column\n",
        "    X['year_recorded'] = X['date_recorded'].dt.year\n",
        "    X['month_recorded'] = X['date_recorded'].dt.month\n",
        "    X['day_recorded'] = X['date_recorded'].dt.day\n",
        "    X = X.drop(columns='date_recorded')\n",
        "\n",
        "    # Engineer feature: how many years from construction_year to date_recorded\n",
        "    X['years'] = X['year_recorded'] - X['construction_year']   \n",
        "\n",
        "    # Drop recorded_by (never varies) and id (always varies, random)\n",
        "    unusable_variance = ['recorded_by', 'id']\n",
        "    X = X.drop(columns=unusable_variance)\n",
        "\n",
        "    # Drop duplicate columns\n",
        "    duplicate_columns = ['quantity_group']\n",
        "    X = X.drop(columns=duplicate_columns)\n",
        "\n",
        "    # About 3% of the time, latitude has small values near zero,\n",
        "    # outside Tanzania, so we'll treat these like null values\n",
        "    # X['latitude'] = X['latitude'].replace(-2e-08, np.nan)\n",
        "    \n",
        "    # When columns have zeros and shouldn't, they are like null values\n",
        "    cols_with_zeros = ['construction_year', 'longitude', 'latitude', 'gps_height', 'population']\n",
        "    # .replace is a slow method\n",
        "    # for col in cols_with_zeros:\n",
        "    #     X[col] = X[col].replace(0, np.nan)\n",
        "\n",
        "    \n",
        "    # drop_cols = [\"num_private\", \"waterpoint_type_group\", \"source_type\",\n",
        "    #             , \"quality_group\", \"payment_type\", \"management_group\", \n",
        "    #             \"extraction_type_group\"]\n",
        "    \n",
        "    # X = X.drop(drop_cols, axis=1)\n",
        "\n",
        "\n",
        "\n",
        "    X = zero_to_nan(X, cols_with_zeros)\n",
        "    return X"
      ],
      "execution_count": 142,
      "outputs": []
    },
    {
      "cell_type": "code",
      "metadata": {
        "id": "iYjT1ze0V09j",
        "colab_type": "code",
        "colab": {
          "base_uri": "https://localhost:8080/",
          "height": 34
        },
        "outputId": "f6e8966c-7b7b-4da3-d537-bf1b940c0dd1"
      },
      "source": [
        "# The status_group column is the target\n",
        "target = 'status_group'\n",
        "\n",
        "# Arrange data into X features matrix and y target vector \n",
        "X_train = train.drop(columns=[target])\n",
        "y_train = train[target]\n",
        "\n",
        "X_test = test[X_train.columns]\n",
        "\n",
        "assert X_train.columns.equals(X_test.columns)\n",
        "X_train.shape, X_test.shape"
      ],
      "execution_count": 143,
      "outputs": [
        {
          "output_type": "execute_result",
          "data": {
            "text/plain": [
              "((59400, 40), (14358, 40))"
            ]
          },
          "metadata": {
            "tags": []
          },
          "execution_count": 143
        }
      ]
    },
    {
      "cell_type": "code",
      "metadata": {
        "id": "CkLv02JG6QsI",
        "colab_type": "code",
        "colab": {
          "base_uri": "https://localhost:8080/",
          "height": 212
        },
        "outputId": "be9cbc73-f48c-46fb-a9ce-61ab324a3681"
      },
      "source": [
        "X_train.columns"
      ],
      "execution_count": 144,
      "outputs": [
        {
          "output_type": "execute_result",
          "data": {
            "text/plain": [
              "Index(['id', 'amount_tsh', 'date_recorded', 'funder', 'gps_height',\n",
              "       'installer', 'longitude', 'latitude', 'wpt_name', 'num_private',\n",
              "       'basin', 'subvillage', 'region', 'region_code', 'district_code', 'lga',\n",
              "       'ward', 'population', 'public_meeting', 'recorded_by',\n",
              "       'scheme_management', 'scheme_name', 'permit', 'construction_year',\n",
              "       'extraction_type', 'extraction_type_group', 'extraction_type_class',\n",
              "       'management', 'management_group', 'payment', 'payment_type',\n",
              "       'water_quality', 'quality_group', 'quantity', 'quantity_group',\n",
              "       'source', 'source_type', 'source_class', 'waterpoint_type',\n",
              "       'waterpoint_type_group'],\n",
              "      dtype='object')"
            ]
          },
          "metadata": {
            "tags": []
          },
          "execution_count": 144
        }
      ]
    },
    {
      "cell_type": "code",
      "metadata": {
        "id": "mIYmL87DVfy0",
        "colab_type": "code",
        "colab": {}
      },
      "source": [
        "# Split train into train & val\n",
        "\n",
        "# train, val = train_test_split(train, train_size=0.80, test_size=0.20, \n",
        "#                               stratify=train['status_group'], random_state=42)\n",
        "\n",
        "# train.shape, val.shape, test.shape"
      ],
      "execution_count": 145,
      "outputs": []
    },
    {
      "cell_type": "code",
      "metadata": {
        "id": "nCbXNXwhZr0a",
        "colab_type": "code",
        "colab": {
          "base_uri": "https://localhost:8080/",
          "height": 34
        },
        "outputId": "c5c2cf33-1571-4464-973d-547f965b26c3"
      },
      "source": [
        "X_train = wrangle(X_train)\n",
        "X_test = wrangle(X_test)\n",
        "\n",
        "X_train.shape, X_test.shape"
      ],
      "execution_count": 146,
      "outputs": [
        {
          "output_type": "execute_result",
          "data": {
            "text/plain": [
              "((59400, 40), (14358, 40))"
            ]
          },
          "metadata": {
            "tags": []
          },
          "execution_count": 146
        }
      ]
    },
    {
      "cell_type": "code",
      "metadata": {
        "id": "SFFleJjD9PpG",
        "colab_type": "code",
        "colab": {
          "base_uri": "https://localhost:8080/",
          "height": 212
        },
        "outputId": "199dd944-d6b4-44bb-cbad-5bbc55f957b3"
      },
      "source": [
        "X_train.columns"
      ],
      "execution_count": 147,
      "outputs": [
        {
          "output_type": "execute_result",
          "data": {
            "text/plain": [
              "Index(['amount_tsh', 'funder', 'gps_height', 'installer', 'longitude',\n",
              "       'latitude', 'wpt_name', 'num_private', 'basin', 'subvillage', 'region',\n",
              "       'region_code', 'district_code', 'lga', 'ward', 'population',\n",
              "       'public_meeting', 'scheme_management', 'scheme_name', 'permit',\n",
              "       'construction_year', 'extraction_type', 'extraction_type_group',\n",
              "       'extraction_type_class', 'management', 'management_group', 'payment',\n",
              "       'payment_type', 'water_quality', 'quality_group', 'quantity', 'source',\n",
              "       'source_type', 'source_class', 'waterpoint_type',\n",
              "       'waterpoint_type_group', 'year_recorded', 'month_recorded',\n",
              "       'day_recorded', 'years'],\n",
              "      dtype='object')"
            ]
          },
          "metadata": {
            "tags": []
          },
          "execution_count": 147
        }
      ]
    },
    {
      "cell_type": "code",
      "metadata": {
        "id": "uQOPBDI7aKa4",
        "colab_type": "code",
        "colab": {}
      },
      "source": [
        "# reduces number of the categories\n",
        "def cat_comb(train, testval_list, col_list, other_offset):\n",
        "  '''\n",
        "  ex/ cat_comb(train, [validation, test] [col1, col2], 100)\n",
        "  '''\n",
        "  df = train.copy()\n",
        "  test_list = testval_list.copy()\n",
        "  for col_name in col_list:\n",
        "    cat_ser = df[col_name].value_counts(sort=True, ascending=False, dropna=False)\n",
        "    # make sure other category is less than sum of predecessors\n",
        "    for i in range(len(cat_ser)):\n",
        "      if cat_ser[:i+1].sum() < (cat_ser[i+1:].sum() + other_offset):\n",
        "        continue\n",
        "      else:\n",
        "        n_cat = i+2\n",
        "        break\n",
        "  \n",
        "    cat_keep = list(cat_ser[:n_cat-1].index)\n",
        "    df.loc[~df[col_name].isin(cat_keep), col_name] = \"other\"\n",
        "    \n",
        "    # alternative, very slow .replace method\n",
        "    # mask = ~df[col_name].isin(cat_keep)\n",
        "    # df[col_name] = df[col_name].replace(mask, \"other\")\n",
        "\n",
        "\n",
        "    for df_i in test_list:\n",
        "      df_i.loc[~df_i[col_name].isin(cat_keep), col_name] = \"other\"\n",
        "  \n",
        "    # alternative way, but could get a size issue with test or validation data\n",
        "    # cat_bool = ~(df[col_name].isin(cat_ser.index[:n_cat-1]))\n",
        "    # df.loc[cat_bool, col_name] = \"other\"\n",
        "  return df, test_list"
      ],
      "execution_count": 148,
      "outputs": []
    },
    {
      "cell_type": "code",
      "metadata": {
        "id": "ttBwJt18aCf2",
        "colab_type": "code",
        "colab": {
          "base_uri": "https://localhost:8080/",
          "height": 34
        },
        "outputId": "51b537aa-b7e3-4e50-da4e-6aad6d4cb2a7"
      },
      "source": [
        "# reduce number of categories in categorical columns, such\n",
        "# the total count of remaining feature is count of \"other\"+offset \n",
        "# this would prevent \"other\" category becomes the most frequent category in a column\n",
        "\n",
        "cat_features = X_train.select_dtypes(exclude='number').columns.to_list()\n",
        "numeric_features = X_train.select_dtypes(include='number').columns.to_list()\n",
        "\n",
        "assert len(numeric_features) + len(cat_features) == len(X_train.columns)\n",
        "\n",
        "\n",
        "# X_train, X_test_list = cat_comb(X_train, [X_test], cat_features, offset)\n",
        "# X_test = X_test_list[0]\n",
        "\n",
        "X_train.shape, X_test.shape"
      ],
      "execution_count": 149,
      "outputs": [
        {
          "output_type": "execute_result",
          "data": {
            "text/plain": [
              "((59400, 40), (14358, 40))"
            ]
          },
          "metadata": {
            "tags": []
          },
          "execution_count": 149
        }
      ]
    },
    {
      "cell_type": "code",
      "metadata": {
        "id": "L330VodyaiEK",
        "colab_type": "code",
        "colab": {}
      },
      "source": [
        "def low_cardinal(train_df, cardinal_order):\n",
        "  # Get a list of the numeric features\n",
        "  numeric_features = train_df.select_dtypes(include='number').columns.to_list()\n",
        "\n",
        "  nonnum_features = train_df.columns[~train_df.columns.isin(numeric_features)].to_list()\n",
        "  # nonnum_features = train_df.select_dtypes(exclude='number').columns\n",
        "\n",
        "  # Get a series with the cardinality of the nonnumeric features\n",
        "  cardinality = train_df.select_dtypes(exclude='number').nunique()\n",
        "  print(cardinality.sort_values())\n",
        "\n",
        "  # Get a list of all categorical features with cardinality <= num_cat\n",
        "  lowcardinal_features = cardinality[cardinality <= cardinal_order].index.to_list()\n",
        "  # Combine the lists \n",
        "  features = numeric_features + lowcardinal_features\n",
        "  hicardinal_feat = train_df.columns[~train_df.columns.isin(features)]\n",
        "  return features, hicardinal_feat"
      ],
      "execution_count": 150,
      "outputs": []
    },
    {
      "cell_type": "code",
      "metadata": {
        "id": "e8_p_NUcaumB",
        "colab_type": "code",
        "colab": {
          "base_uri": "https://localhost:8080/",
          "height": 70
        },
        "outputId": "7fa3eb0d-5ece-4516-d873-51b6467a3869"
      },
      "source": [
        "# features, hicardinal_feat = low_cardinal(X_train, cardinal_order)\n",
        "\n",
        "# X_train = X_train[features]\n",
        "# X_test = X_test[features]\n",
        "print(f'\\nhigh cardinal features that has been dropped:\\n{hicardinal_feat}')\n"
      ],
      "execution_count": 151,
      "outputs": [
        {
          "output_type": "stream",
          "text": [
            "\n",
            "high cardinal features that has been dropped:\n",
            "Index([], dtype='object')\n"
          ],
          "name": "stdout"
        }
      ]
    },
    {
      "cell_type": "code",
      "metadata": {
        "id": "XIotGYezb4SK",
        "colab_type": "code",
        "colab": {
          "base_uri": "https://localhost:8080/",
          "height": 212
        },
        "outputId": "f0650d52-c380-486a-b2a3-a8132de97d5d"
      },
      "source": [
        "X_train.columns"
      ],
      "execution_count": 152,
      "outputs": [
        {
          "output_type": "execute_result",
          "data": {
            "text/plain": [
              "Index(['amount_tsh', 'funder', 'gps_height', 'installer', 'longitude',\n",
              "       'latitude', 'wpt_name', 'num_private', 'basin', 'subvillage', 'region',\n",
              "       'region_code', 'district_code', 'lga', 'ward', 'population',\n",
              "       'public_meeting', 'scheme_management', 'scheme_name', 'permit',\n",
              "       'construction_year', 'extraction_type', 'extraction_type_group',\n",
              "       'extraction_type_class', 'management', 'management_group', 'payment',\n",
              "       'payment_type', 'water_quality', 'quality_group', 'quantity', 'source',\n",
              "       'source_type', 'source_class', 'waterpoint_type',\n",
              "       'waterpoint_type_group', 'year_recorded', 'month_recorded',\n",
              "       'day_recorded', 'years'],\n",
              "      dtype='object')"
            ]
          },
          "metadata": {
            "tags": []
          },
          "execution_count": 152
        }
      ]
    },
    {
      "cell_type": "code",
      "metadata": {
        "id": "eU-TSCn6FNl5",
        "colab_type": "code",
        "colab": {
          "base_uri": "https://localhost:8080/",
          "height": 34
        },
        "outputId": "614ad44f-c2b4-4f9d-b48f-16f8dac0bddd"
      },
      "source": [
        "X_train.shape, X_test.shape"
      ],
      "execution_count": 153,
      "outputs": [
        {
          "output_type": "execute_result",
          "data": {
            "text/plain": [
              "((59400, 40), (14358, 40))"
            ]
          },
          "metadata": {
            "tags": []
          },
          "execution_count": 153
        }
      ]
    },
    {
      "cell_type": "markdown",
      "metadata": {
        "id": "UwxAvorSdDmo",
        "colab_type": "text"
      },
      "source": [
        "### Cross Validation and hyper parameter tuning"
      ]
    },
    {
      "cell_type": "code",
      "metadata": {
        "id": "0qnEYp9rfV3J",
        "colab_type": "code",
        "colab": {
          "base_uri": "https://localhost:8080/",
          "height": 594
        },
        "outputId": "732f09ce-f701-4bd4-8971-6b7b8caa06ea"
      },
      "source": [
        "# Characterize hyper parameters on a decision tree or ensemble tree\n",
        "\n",
        "pipeline = make_pipeline(\n",
        "    ce.OrdinalEncoder(), \n",
        "    SimpleImputer(), \n",
        "    # SelectKBest(f_classif), \n",
        "    # DecisionTreeClassifier(max_depth=13, min_samples_split=2)\n",
        "    RandomForestClassifier(random_state=42, min_samples_split=2, n_estimators=200)\n",
        "\n",
        ")\n",
        "par_name = \"max_depth\"\n",
        "# par_range = [2**i for i in range(0,11,1)]\n",
        "par_range = range(16,18,1)\n",
        "train_scores, val_scores = validation_curve(\n",
        "    pipeline, X_train, y_train,\n",
        "    # param_name='decisiontreeclassifier__'+ par_name, \n",
        "    # param_name='selectkbest__'+ par_name, \n",
        "    param_name='randomforestclassifier__'+ par_name, \n",
        "\n",
        "    param_range=par_range, scoring='accuracy', \n",
        "    cv=2,\n",
        "    n_jobs=-1\n",
        ")\n",
        "\n",
        "plt.figure(dpi=150)\n",
        "plt.plot(par_range, np.mean(train_scores, axis=1), color='blue', label='training accuracy')\n",
        "plt.plot(par_range, np.mean(val_scores, axis=1), color='red', label='validation accuracy')\n",
        "plt.title('Validation Curve')\n",
        "plt.xlabel(f'model complexity: Pipeline {par_name}')\n",
        "plt.ylabel('model score: Accuracy')\n",
        "plt.legend();"
      ],
      "execution_count": 154,
      "outputs": [
        {
          "output_type": "display_data",
          "data": {
            "image/png": "[encoded data removed]",
            "text/plain": [
              "<Figure size 900x600 with 1 Axes>"
            ]
          },
          "metadata": {
            "tags": [],
            "needs_background": "light"
          }
        }
      ]
    },
    {
      "cell_type": "code",
      "metadata": {
        "id": "72X319liBRxD",
        "colab_type": "code",
        "colab": {
          "base_uri": "https://localhost:8080/",
          "height": 594
        },
        "outputId": "dd7c0fb3-a655-43ee-f5a5-b3c7d54a3350"
      },
      "source": [
        "plt.figure(dpi=150)\n",
        "plt.plot(par_range, np.mean(train_scores, axis=1), color='blue', label='training accuracy')\n",
        "plt.plot(par_range, np.mean(val_scores, axis=1), color='red', label='validation accuracy')\n",
        "plt.title('Validation Curve')\n",
        "plt.xlabel(f'model complexity: Pipeline {par_name}')\n",
        "plt.ylabel('model score: Accuracy')\n",
        "plt.ylim((.77, .8))  # Zoom in\n",
        "plt.xlim((15, 20))  # Zoom in\n",
        "\n",
        "plt.legend();"
      ],
      "execution_count": 155,
      "outputs": [
        {
          "output_type": "display_data",
          "data": {
            "image/png": "[encoded data removed]",
            "text/plain": [
              "<Figure size 900x600 with 1 Axes>"
            ]
          },
          "metadata": {
            "tags": [],
            "needs_background": "light"
          }
        }
      ]
    },
    {
      "cell_type": "code",
      "metadata": {
        "id": "7_HB-Z3NgC4l",
        "colab_type": "code",
        "colab": {
          "base_uri": "https://localhost:8080/",
          "height": 34
        },
        "outputId": "04c5b016-7740-472f-ea5c-c957522fcba7"
      },
      "source": [
        "# from scipy.stats import randint, uniform\n",
        "import random \n",
        "a = [random.randint(50, 100) for i in range(10)]\n",
        "a"
      ],
      "execution_count": 156,
      "outputs": [
        {
          "output_type": "execute_result",
          "data": {
            "text/plain": [
              "[63, 90, 69, 73, 51, 73, 57, 88, 83, 95]"
            ]
          },
          "metadata": {
            "tags": []
          },
          "execution_count": 156
        }
      ]
    },
    {
      "cell_type": "code",
      "metadata": {
        "id": "yoTYpHh3gUvg",
        "colab_type": "code",
        "colab": {
          "base_uri": "https://localhost:8080/",
          "height": 621
        },
        "outputId": "9405673a-3839-4a27-affc-8718b68e2aea"
      },
      "source": [
        "pipeline = make_pipeline(\n",
        "    ce.OrdinalEncoder(), \n",
        "    SimpleImputer(strategy='mean'), \n",
        "    # SelectKBest(f_classif), \n",
        "    RandomForestClassifier(random_state=42, min_samples_split=2, n_estimators=100, oob_score=True)\n",
        ")\n",
        "\n",
        "print('Model Hyperparameters:')\n",
        "print(pipeline.named_steps['randomforestclassifier'])\n",
        "\n",
        "x_n_iter = 50\n",
        "\n",
        "param_distributions = {\n",
        "    # 'simpleimputer__strategy': ['mean', 'median', 'most_frequent'], \n",
        "    'randomforestclassifier__min_samples_leaf': [random.randint(1, 100) for i in range(8)], \n",
        "    'randomforestclassifier__max_depth': [random.randint(7, 58) for i in range(x_n_iter)], \n",
        "}\n",
        "\n",
        "# If you're on Colab, decrease x_n_iter & cv parameters\n",
        "search = RandomizedSearchCV(\n",
        "    pipeline, \n",
        "    param_distributions=param_distributions, \n",
        "    n_iter=x_n_iter, \n",
        "    cv=10, \n",
        "    scoring='accuracy', \n",
        "    verbose=10, \n",
        "    return_train_score=True, \n",
        "    n_jobs=-1\n",
        ")\n",
        "\n",
        "search.fit(X_train, y_train)\n",
        "print('Best hyperparameters', search.best_params_)\n",
        "print('Cross-validation Accuracy', search.best_score_)\n"
      ],
      "execution_count": null,
      "outputs": [
        {
          "output_type": "stream",
          "text": [
            "Model Hyperparameters:\n",
            "RandomForestClassifier(bootstrap=True, ccp_alpha=0.0, class_weight=None,\n",
            "                       criterion='gini', max_depth=None, max_features='auto',\n",
            "                       max_leaf_nodes=None, max_samples=None,\n",
            "                       min_impurity_decrease=0.0, min_impurity_split=None,\n",
            "                       min_samples_leaf=1, min_samples_split=2,\n",
            "                       min_weight_fraction_leaf=0.0, n_estimators=100,\n",
            "                       n_jobs=None, oob_score=True, random_state=42, verbose=0,\n",
            "                       warm_start=False)\n",
            "Fitting 10 folds for each of 50 candidates, totalling 500 fits\n"
          ],
          "name": "stdout"
        },
        {
          "output_type": "stream",
          "text": [
            "[Parallel(n_jobs=-1)]: Using backend LokyBackend with 2 concurrent workers.\n",
            "[Parallel(n_jobs=-1)]: Done   1 tasks      | elapsed:   21.1s\n",
            "[Parallel(n_jobs=-1)]: Done   4 tasks      | elapsed:   41.2s\n",
            "[Parallel(n_jobs=-1)]: Done   9 tasks      | elapsed:  1.7min\n",
            "[Parallel(n_jobs=-1)]: Done  14 tasks      | elapsed:  2.3min\n",
            "[Parallel(n_jobs=-1)]: Done  21 tasks      | elapsed:  3.6min\n",
            "[Parallel(n_jobs=-1)]: Done  28 tasks      | elapsed:  4.6min\n",
            "[Parallel(n_jobs=-1)]: Done  37 tasks      | elapsed:  6.3min\n",
            "[Parallel(n_jobs=-1)]: Done  46 tasks      | elapsed:  7.7min\n",
            "[Parallel(n_jobs=-1)]: Done  57 tasks      | elapsed:  9.7min\n",
            "[Parallel(n_jobs=-1)]: Done  68 tasks      | elapsed: 11.3min\n",
            "[Parallel(n_jobs=-1)]: Done  81 tasks      | elapsed: 13.8min\n",
            "[Parallel(n_jobs=-1)]: Done  94 tasks      | elapsed: 15.5min\n",
            "[Parallel(n_jobs=-1)]: Done 109 tasks      | elapsed: 18.1min\n",
            "[Parallel(n_jobs=-1)]: Done 124 tasks      | elapsed: 20.5min\n",
            "[Parallel(n_jobs=-1)]: Done 141 tasks      | elapsed: 23.7min\n",
            "[Parallel(n_jobs=-1)]: Done 158 tasks      | elapsed: 26.3min\n",
            "[Parallel(n_jobs=-1)]: Done 177 tasks      | elapsed: 29.7min\n",
            "[Parallel(n_jobs=-1)]: Done 196 tasks      | elapsed: 32.8min\n",
            "[Parallel(n_jobs=-1)]: Done 217 tasks      | elapsed: 36.7min\n",
            "[Parallel(n_jobs=-1)]: Done 238 tasks      | elapsed: 39.8min\n",
            "[Parallel(n_jobs=-1)]: Done 261 tasks      | elapsed: 43.9min\n",
            "[Parallel(n_jobs=-1)]: Done 284 tasks      | elapsed: 47.6min\n",
            "[Parallel(n_jobs=-1)]: Done 309 tasks      | elapsed: 52.0min\n"
          ],
          "name": "stderr"
        }
      ]
    },
    {
      "cell_type": "code",
      "metadata": {
        "id": "YAHpDb4RmaDL",
        "colab_type": "code",
        "colab": {
          "base_uri": "https://localhost:8080/",
          "height": 461
        },
        "outputId": "b333b5e2-c359-434c-e4e9-93f5b9bb77b6"
      },
      "source": [
        "pipeline = search.best_estimator_\n",
        "pipeline"
      ],
      "execution_count": 166,
      "outputs": [
        {
          "output_type": "execute_result",
          "data": {
            "text/plain": [
              "Pipeline(memory=None,\n",
              "         steps=[('ordinalencoder',\n",
              "                 OrdinalEncoder(cols=['funder', 'installer', 'wpt_name',\n",
              "                                      'basin', 'subvillage', 'region', 'lga',\n",
              "                                      'ward', 'public_meeting',\n",
              "                                      'scheme_management', 'scheme_name',\n",
              "                                      'permit', 'extraction_type',\n",
              "                                      'extraction_type_group',\n",
              "                                      'extraction_type_class', 'management',\n",
              "                                      'management_group', 'payment',\n",
              "                                      'payment_type', 'water_quality',\n",
              "                                      'quality_...\n",
              "                 RandomForestClassifier(bootstrap=True, ccp_alpha=0.0,\n",
              "                                        class_weight=None, criterion='gini',\n",
              "                                        max_depth=55, max_features='auto',\n",
              "                                        max_leaf_nodes=None, max_samples=None,\n",
              "                                        min_impurity_decrease=0.0,\n",
              "                                        min_impurity_split=None,\n",
              "                                        min_samples_leaf=14,\n",
              "                                        min_samples_split=2,\n",
              "                                        min_weight_fraction_leaf=0.0,\n",
              "                                        n_estimators=100, n_jobs=None,\n",
              "                                        oob_score=True, random_state=42,\n",
              "                                        verbose=0, warm_start=False))],\n",
              "         verbose=False)"
            ]
          },
          "metadata": {
            "tags": []
          },
          "execution_count": 166
        }
      ]
    },
    {
      "cell_type": "code",
      "metadata": {
        "id": "cpJHUya4fP2T",
        "colab_type": "code",
        "colab": {
          "base_uri": "https://localhost:8080/",
          "height": 34
        },
        "outputId": "252cd775-cf54-48a7-e2ce-d92bd03a261e"
      },
      "source": [
        "print('Cross-validation oob Accuracy', pipeline.named_steps['randomforestclassifier'].oob_score_)\n"
      ],
      "execution_count": 167,
      "outputs": [
        {
          "output_type": "stream",
          "text": [
            "Cross-validation oob Accuracy 0.7988383838383838\n"
          ],
          "name": "stdout"
        }
      ]
    },
    {
      "cell_type": "code",
      "metadata": {
        "id": "UWqkWCA-obon",
        "colab_type": "code",
        "colab": {
          "base_uri": "https://localhost:8080/",
          "height": 52
        },
        "outputId": "28757cf3-54a5-42a9-a180-5bb499484912"
      },
      "source": [
        "y_pred = pipeline.predict(X_test)\n",
        "y_pred"
      ],
      "execution_count": 168,
      "outputs": [
        {
          "output_type": "execute_result",
          "data": {
            "text/plain": [
              "array(['non functional', 'functional', 'functional', ..., 'functional',\n",
              "       'functional', 'non functional'], dtype=object)"
            ]
          },
          "metadata": {
            "tags": []
          },
          "execution_count": 168
        }
      ]
    },
    {
      "cell_type": "code",
      "metadata": {
        "id": "VKPZtZKib9Lo",
        "colab_type": "code",
        "colab": {
          "base_uri": "https://localhost:8080/",
          "height": 52
        },
        "outputId": "337cc829-ba1c-4de6-d1f8-7a59b8e23906"
      },
      "source": [
        "#alternatively\n",
        "\n",
        "pred1 = search.predict(X_test)\n",
        "pred1"
      ],
      "execution_count": 169,
      "outputs": [
        {
          "output_type": "execute_result",
          "data": {
            "text/plain": [
              "array(['non functional', 'functional', 'functional', ..., 'functional',\n",
              "       'functional', 'non functional'], dtype=object)"
            ]
          },
          "metadata": {
            "tags": []
          },
          "execution_count": 169
        }
      ]
    },
    {
      "cell_type": "code",
      "metadata": {
        "id": "1x1WWbyN2nWZ",
        "colab_type": "code",
        "colab": {
          "base_uri": "https://localhost:8080/",
          "height": 52
        },
        "outputId": "cc318fa9-5448-4912-d053-3b7d3b76cb5d"
      },
      "source": [
        "print(sum(pred1 != y_pred))\n",
        "(pred1 == y_pred).all()"
      ],
      "execution_count": 170,
      "outputs": [
        {
          "output_type": "stream",
          "text": [
            "0\n"
          ],
          "name": "stdout"
        },
        {
          "output_type": "execute_result",
          "data": {
            "text/plain": [
              "True"
            ]
          },
          "metadata": {
            "tags": []
          },
          "execution_count": 170
        }
      ]
    },
    {
      "cell_type": "code",
      "metadata": {
        "id": "zCd-Qrzjb_LW",
        "colab_type": "code",
        "colab": {
          "base_uri": "https://localhost:8080/",
          "height": 70
        },
        "outputId": "e7db92c0-0f5f-47bc-f06c-4979a1b5082f"
      },
      "source": [
        "submission_0 = sample_submission.copy()\n",
        "submission_0[\"status_group\"] = y_pred\n",
        "submission_0.nunique()"
      ],
      "execution_count": 172,
      "outputs": [
        {
          "output_type": "execute_result",
          "data": {
            "text/plain": [
              "id              14358\n",
              "status_group        3\n",
              "dtype: int64"
            ]
          },
          "metadata": {
            "tags": []
          },
          "execution_count": 172
        }
      ]
    },
    {
      "cell_type": "code",
      "metadata": {
        "id": "3n-32RYwcHgN",
        "colab_type": "code",
        "colab": {}
      },
      "source": [
        "submission_0.to_csv(\"submission_9.csv\", index=False)"
      ],
      "execution_count": 173,
      "outputs": []
    },
    {
      "cell_type": "code",
      "metadata": {
        "id": "2djs79ECqYQZ",
        "colab_type": "code",
        "colab": {}
      },
      "source": [
        "# Filenames of your submissions you want to ensemble\n",
        "files = ['submission_7.csv', 'submission_8.csv', 'submission_9.csv']\n",
        " \n",
        "target = 'status_group'\n",
        "submissions = (pd.read_csv(file)[[target]] for file in files)\n",
        "ensemble = pd.concat(submissions, axis='columns')\n",
        "majority_vote = ensemble.mode(axis='columns')[0]\n",
        " \n",
        "# sample_submission = pd.read_csv('sample_submission.csv')\n",
        "submission = sample_submission.copy()\n",
        "submission[target] = majority_vote\n",
        "submission.to_csv('Usubmission.csv', index=False)"
      ],
      "execution_count": null,
      "outputs": []
    },
    {
      "cell_type": "code",
      "metadata": {
        "id": "4VOh3Ve5tXVG",
        "colab_type": "code",
        "colab": {
          "base_uri": "https://localhost:8080/",
          "height": 406
        },
        "outputId": "03538db4-f204-4dc5-f815-5ce8daa30010"
      },
      "source": [
        "submission"
      ],
      "execution_count": null,
      "outputs": [
        {
          "output_type": "execute_result",
          "data": {
            "text/html": [
              "<div>\n",
              "<style scoped>\n",
              "    .dataframe tbody tr th:only-of-type {\n",
              "        vertical-align: middle;\n",
              "    }\n",
              "\n",
              "    .dataframe tbody tr th {\n",
              "        vertical-align: top;\n",
              "    }\n",
              "\n",
              "    .dataframe thead th {\n",
              "        text-align: right;\n",
              "    }\n",
              "</style>\n",
              "<table border=\"1\" class=\"dataframe\">\n",
              "  <thead>\n",
              "    <tr style=\"text-align: right;\">\n",
              "      <th></th>\n",
              "      <th>id</th>\n",
              "      <th>status_group</th>\n",
              "    </tr>\n",
              "  </thead>\n",
              "  <tbody>\n",
              "    <tr>\n",
              "      <th>0</th>\n",
              "      <td>50785</td>\n",
              "      <td>non functional</td>\n",
              "    </tr>\n",
              "    <tr>\n",
              "      <th>1</th>\n",
              "      <td>51630</td>\n",
              "      <td>functional</td>\n",
              "    </tr>\n",
              "    <tr>\n",
              "      <th>2</th>\n",
              "      <td>17168</td>\n",
              "      <td>functional</td>\n",
              "    </tr>\n",
              "    <tr>\n",
              "      <th>3</th>\n",
              "      <td>45559</td>\n",
              "      <td>non functional</td>\n",
              "    </tr>\n",
              "    <tr>\n",
              "      <th>4</th>\n",
              "      <td>49871</td>\n",
              "      <td>functional</td>\n",
              "    </tr>\n",
              "    <tr>\n",
              "      <th>...</th>\n",
              "      <td>...</td>\n",
              "      <td>...</td>\n",
              "    </tr>\n",
              "    <tr>\n",
              "      <th>14353</th>\n",
              "      <td>39307</td>\n",
              "      <td>non functional</td>\n",
              "    </tr>\n",
              "    <tr>\n",
              "      <th>14354</th>\n",
              "      <td>18990</td>\n",
              "      <td>functional</td>\n",
              "    </tr>\n",
              "    <tr>\n",
              "      <th>14355</th>\n",
              "      <td>28749</td>\n",
              "      <td>functional</td>\n",
              "    </tr>\n",
              "    <tr>\n",
              "      <th>14356</th>\n",
              "      <td>33492</td>\n",
              "      <td>non functional</td>\n",
              "    </tr>\n",
              "    <tr>\n",
              "      <th>14357</th>\n",
              "      <td>68707</td>\n",
              "      <td>non functional</td>\n",
              "    </tr>\n",
              "  </tbody>\n",
              "</table>\n",
              "<p>14358 rows × 2 columns</p>\n",
              "</div>"
            ],
            "text/plain": [
              "          id    status_group\n",
              "0      50785  non functional\n",
              "1      51630      functional\n",
              "2      17168      functional\n",
              "3      45559  non functional\n",
              "4      49871      functional\n",
              "...      ...             ...\n",
              "14353  39307  non functional\n",
              "14354  18990      functional\n",
              "14355  28749      functional\n",
              "14356  33492  non functional\n",
              "14357  68707  non functional\n",
              "\n",
              "[14358 rows x 2 columns]"
            ]
          },
          "metadata": {
            "tags": []
          },
          "execution_count": 105
        }
      ]
    },
    {
      "cell_type": "code",
      "metadata": {
        "id": "JPWpKKe-S3f5",
        "colab_type": "code",
        "colab": {}
      },
      "source": [
        "train, val = train_test_split(train, train_size=0.80, test_size=0.20, \n",
        "                              stratify=train[target], random_state=42)\n",
        "\n",
        "# # Arrange data into X features matrix and y target vector\n",
        "X_train = train.drop(columns=target)\n",
        "y_train = train[target]\n",
        "X_val = val.drop(columns=target)\n",
        "y_val = val[target]\n",
        "\n",
        "\n",
        "# # Make pipeline!\n",
        "# pipeline = make_pipeline(\n",
        "#     # FunctionTransformer(wrangle, validate=False), \n",
        "#     ce.OrdinalEncoder(), \n",
        "#     SimpleImputer(strategy='mean'), \n",
        "#     RandomForestClassifier(n_estimators=20, random_state=42, n_jobs=-1)\n",
        "# )\n",
        "\n",
        "# # Fit on train, score on val\n",
        "# pipeline.fit(X_train, y_train)\n",
        "\n",
        "y_pred = pipeline.predict(X_val)\n",
        "print('Validation Accuracy', accuracy_score(y_val, y_pred))"
      ],
      "execution_count": 157,
      "outputs": []
    },
    {
      "cell_type": "code",
      "metadata": {
        "id": "P4yOiAz5oFmp",
        "colab_type": "code",
        "colab": {}
      },
      "source": [
        "from sklearn.metrics import plot_confusion_matrix, classification_report, confusion_matrix\n",
        "\n",
        "plt.rcParams['figure.dpi'] = 100\n",
        "plot_confusion_matrix(pipeline, X_val, y_val, values_format='.0f', xticks_rotation='vertical')"
      ],
      "execution_count": null,
      "outputs": []
    },
    {
      "cell_type": "code",
      "metadata": {
        "id": "QePKA54uqjZN",
        "colab_type": "code",
        "colab": {}
      },
      "source": [
        "C = pd.DataFrame(confusion_matrix(y_val, y_pred))\n",
        "C"
      ],
      "execution_count": null,
      "outputs": []
    },
    {
      "cell_type": "code",
      "metadata": {
        "id": "XaimhLU2srD6",
        "colab_type": "code",
        "colab": {}
      },
      "source": [
        "correct_pred_sum = sum([C.iloc[i,i] for i in range(len(C))])\n",
        "total_pred = C.sum()\n",
        "correct_pred_sum, total_pred"
      ],
      "execution_count": null,
      "outputs": []
    },
    {
      "cell_type": "code",
      "metadata": {
        "id": "N-8aMsC-vM3I",
        "colab_type": "code",
        "colab": {}
      },
      "source": [
        "accuracy_calc = correct_pred_sum / total_pred\n",
        "accuracy_calc\n",
        "assert accuracy_calc == accuracy_score(y_val, y_pred)"
      ],
      "execution_count": null,
      "outputs": []
    },
    {
      "cell_type": "code",
      "metadata": {
        "id": "spck9f2swMCK",
        "colab_type": "code",
        "colab": {}
      },
      "source": [
        "truth_sum = C.sum(axis=1)\n",
        "predict_sum = C.sum(axis=0)\n",
        "\n",
        "pred_t = pd.Series([C.iloc[i,i] for i in range(len(C))])\n",
        "\n",
        "truth_sum, predict_sum, pred_t"
      ],
      "execution_count": null,
      "outputs": []
    },
    {
      "cell_type": "code",
      "metadata": {
        "id": "n-iBGcZ1xvaL",
        "colab_type": "code",
        "colab": {}
      },
      "source": [
        "recal = pred_t / truth_sum\n",
        "precision = pred_t / predict_sum\n",
        "accuracy = pred_t.sum() / truth_sum.sum()"
      ],
      "execution_count": null,
      "outputs": []
    },
    {
      "cell_type": "code",
      "metadata": {
        "id": "D5jRqBuYvqyI",
        "colab_type": "code",
        "colab": {}
      },
      "source": [
        "print(classification_report(y_val, y_pred))"
      ],
      "execution_count": null,
      "outputs": []
    }
  ]
}