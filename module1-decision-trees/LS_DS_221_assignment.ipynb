{
cells: [
{
cell_type: "markdown",
metadata: { },
source: [
"Lambda School Data Science ",
" ",
"*Unit 2, Sprint 2, Module 1* ",
" ",
"---"
]
},
{
cell_type: "markdown",
metadata: {
colab_type: "text",
id: "7IXUfiQ2UKj6"
},
source: [
"# Decision Trees ",
" ",
"## Assignment ",
"- [ ] [Sign up for a Kaggle account](https://www.kaggle.com/), if you don’t already have one. Go to our Kaggle InClass competition website. You will be given the URL in Slack. Go to the Rules page. Accept the rules of the competition. Notice that the Rules page also has instructions for the Submission process. The Data page has feature definitions. ",
"- [ ] Do train/validate/test split with the Tanzania Waterpumps data. ",
"- [ ] Begin with baselines for classification. ",
"- [ ] Select features. Use a scikit-learn pipeline to encode categoricals, impute missing values, and fit a decision tree classifier. ",
"- [ ] Get your validation accuracy score. ",
"- [ ] Get and plot your feature importances. ",
"- [ ] Submit your predictions to our Kaggle competition. (Go to our Kaggle InClass competition webpage. Use the blue **Submit Predictions** button to upload your CSV file. Or you can use the Kaggle API to submit your predictions.) ",
"- [ ] Commit your notebook to your fork of the GitHub repo. ",
" ",
" ",
"## Stretch Goals ",
" ",
"### Reading ",
" ",
"- A Visual Introduction to Machine Learning ",
" - [Part 1: A Decision Tree](http://www.r2d3.us/visual-intro-to-machine-learning-part-1/) ",
" - [Part 2: Bias and Variance](http://www.r2d3.us/visual-intro-to-machine-learning-part-2/) ",
"- [Decision Trees: Advantages & Disadvantages](https://christophm.github.io/interpretable-ml-book/tree.html#advantages-2) ",
"- [How a Russian mathematician constructed a decision tree — by hand — to solve a medical problem](http://fastml.com/how-a-russian-mathematician-constructed-a-decision-tree-by-hand-to-solve-a-medical-problem/) ",
"- [How decision trees work](https://brohrer.github.io/how_decision_trees_work.html) ",
"- [Let’s Write a Decision Tree Classifier from Scratch](https://www.youtube.com/watch?v=LDRbO9a6XPU) — _Don’t worry about understanding the code, just get introduced to the concepts. This 10 minute video has excellent diagrams and explanations._ ",
"- [Random Forests for Complete Beginners: The definitive guide to Random Forests and Decision Trees](https://victorzhou.com/blog/intro-to-random-forests/) ",
" ",
" ",
"### Doing ",
"- [ ] Add your own stretch goal(s) ! ",
"- [ ] Define a function to wrangle train, validate, and test sets in the same way. Clean outliers and engineer features. (For example, [what columns have zeros and shouldn't?](https://github.com/Quartz/bad-data-guide#zeros-replace-missing-values) What columns are duplicates, or nearly duplicates? Can you extract the year from date_recorded? Can you engineer new features, such as the number of years from waterpump construction to waterpump inspection?) ",
"- [ ] Try other [scikit-learn imputers](https://scikit-learn.org/stable/modules/impute.html). ",
"- [ ] Make exploratory visualizations and share on Slack. ",
" ",
" ",
"#### Exploratory visualizations ",
" ",
"Visualize the relationships between feature(s) and target. I recommend you do this with your training set, after splitting your data. ",
" ",
"For this problem, you may want to create a new column to represent the target as a number, 0 or 1. For example: ",
" ",
"```python ",
"train['functional'] = (train['status_group']=='functional').astype(int) ",
"``` ",
" ",
" ",
" ",
"You can try [Seaborn "Categorical estimate" plots](https://seaborn.pydata.org/tutorial/categorical.html) for features with reasonably few unique values. (With too many unique values, the plot is unreadable.) ",
" ",
"- Categorical features. (If there are too many unique values, you can replace less frequent values with "OTHER.") ",
"- Numeric features. (If there are too many unique values, you can [bin with pandas cut / qcut functions](https://pandas.pydata.org/pandas-docs/stable/getting_started/basics.html?highlight=qcut#discretization-and-quantiling).) ",
" ",
"You can try [Seaborn linear model plots](https://seaborn.pydata.org/tutorial/regression.html) with numeric features. For this classification problem, you may want to use the parameter `logistic=True`, but it can be slow. ",
" ",
"You do _not_ need to use Seaborn, but it's nice because it includes confidence intervals to visualize uncertainty. ",
" ",
"#### High-cardinality categoricals ",
" ",
"This code from a previous assignment demonstrates how to replace less frequent values with 'OTHER' ",
" ",
"```python ",
"# Reduce cardinality for NEIGHBORHOOD feature ... ",
" ",
"# Get a list of the top 10 neighborhoods ",
"top10 = train['NEIGHBORHOOD'].value_counts()[:10].index ",
" ",
"# At locations where the neighborhood is NOT in the top 10, ",
"# replace the neighborhood with 'OTHER' ",
"train.loc[~train['NEIGHBORHOOD'].isin(top10), 'NEIGHBORHOOD'] = 'OTHER' ",
"test.loc[~test['NEIGHBORHOOD'].isin(top10), 'NEIGHBORHOOD'] = 'OTHER' ",
"``` "
]
},
{
cell_type: "code",
execution_count: null,
metadata: {
colab: { },
colab_type: "code",
id: "o9eSnDYhUGD7"
},
outputs: [ ],
source: [
"import sys ",
" ",
"# If you're on Colab: ",
"if 'google.colab' in sys.modules: ",
" DATA_PATH = 'https://raw.githubusercontent.com/LambdaSchool/DS-Unit-2-Kaggle-Challenge/master/data/' ",
" !pip install category_encoders==2.* ",
" !pip install pandas-profiling==2.* ",
" ",
"# If you're working locally: ",
"else: ",
" DATA_PATH = '../data/'"
]
},
{
cell_type: "code",
execution_count: null,
metadata: {
colab: { },
colab_type: "code",
id: "QJBD4ruICm1m"
},
outputs: [ ],
source: [
"import pandas as pd ",
"from sklearn.model_selection import train_test_split ",
" ",
"train = pd.merge(pd.read_csv(DATA_PATH+'waterpumps/train_features.csv'), ",
" pd.read_csv(DATA_PATH+'waterpumps/train_labels.csv')) ",
"test = pd.read_csv(DATA_PATH+'waterpumps/test_features.csv') ",
"sample_submission = pd.read_csv(DATA_PATH+'waterpumps/sample_submission.csv') ",
" ",
"train.shape, test.shape"
]
},
{
cell_type: "code",
execution_count: null,
metadata: { },
outputs: [ ],
source: [
"# Check Pandas Profiling version ",
"import pandas_profiling ",
"pandas_profiling.__version__"
]
},
{
cell_type: "code",
execution_count: null,
metadata: {
colab: { },
colab_type: "code",
id: "2Amxyx3xphbb"
},
outputs: [ ],
source: [
"# Old code for Pandas Profiling version 2.3 ",
"# It can be very slow with medium & large datasets. ",
"# These parameters will make it faster. ",
" ",
"# profile = train.profile_report( ",
"# check_correlation_pearson=False, ",
"# correlations={ ",
"# 'pearson': False, ",
"# 'spearman': False, ",
"# 'kendall': False, ",
"# 'phi_k': False, ",
"# 'cramers': False, ",
"# 'recoded': False, ",
"# }, ",
"# plot={'histogram': {'bayesian_blocks_bins': False}}, ",
"# ) ",
"# ",
" ",
"# New code for Pandas Profiling version 2.4 ",
"from pandas_profiling import ProfileReport ",
"profile = ProfileReport(train, minimal=True).to_notebook_iframe() ",
" ",
"profile"
]
},
{
cell_type: "code",
execution_count: null,
metadata: { },
outputs: [ ],
source: [ ]
}
],
metadata: {
kernelspec: {
display_name: "Python 3",
language: "python",
name: "python3"
},
language_info: {
codemirror_mode: {
name: "ipython",
version: 3
},
file_extension: ".py",
mimetype: "text/x-python",
name: "python",
nbconvert_exporter: "python",
pygments_lexer: "ipython3",
version: "3.7.6"
}
},
nbformat: 4,
nbformat_minor: 1
}
