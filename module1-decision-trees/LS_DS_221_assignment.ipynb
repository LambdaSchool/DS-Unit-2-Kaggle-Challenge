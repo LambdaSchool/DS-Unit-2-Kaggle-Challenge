{
 "cells": [
  {
   "cell_type": "markdown",
   "metadata": {},
   "source": [
    "Lambda School Data Science\n",
    "\n",
    "*Unit 2, Sprint 2, Module 1*\n",
    "\n",
    "---"
   ]
  },
  {
   "cell_type": "markdown",
   "metadata": {
    "colab_type": "text",
    "id": "7IXUfiQ2UKj6"
   },
   "source": [
    "# Decision Trees\n",
    "\n",
    "## Assignment\n",
    "- [x] [Sign up for a Kaggle account](https://www.kaggle.com/), if you don’t already have one. Go to our Kaggle InClass competition website. You will be given the URL in Slack. Go to the Rules page. Accept the rules of the competition. Notice that the Rules page also has instructions for the Submission process. The Data page has feature definitions.\n",
    "- [x] Do train/validate/test split with the Tanzania Waterpumps data.\n",
    "- [x] Begin with baselines for classification.\n",
    "- [x] Select features. Use a scikit-learn pipeline to encode categoricals, impute missing values, and fit a decision tree classifier.\n",
    "- [x] Get your validation accuracy score.\n",
    "- [x] Get and plot your feature importances.\n",
    "- [ ] Submit your predictions to our Kaggle competition. (Go to our Kaggle InClass competition webpage. Use the blue **Submit Predictions** button to upload your CSV file. Or you can use the Kaggle API to submit your predictions.)\n",
    "- [ \n",
    "] Commit your notebook to your fork of the GitHub repo.\n",
    "\n",
    "\n",
    "## Stretch Goals\n",
    "\n",
    "### Reading\n",
    "\n",
    "- A Visual Introduction to Machine Learning\n",
    "  - [Part 1: A Decision Tree](http://www.r2d3.us/visual-intro-to-machine-learning-part-1/)\n",
    "  - [Part 2: Bias and Variance](http://www.r2d3.us/visual-intro-to-machine-learning-part-2/)\n",
    "- [Decision Trees: Advantages & Disadvantages](https://christophm.github.io/interpretable-ml-book/tree.html#advantages-2)\n",
    "- [How a Russian mathematician constructed a decision tree — by hand — to solve a medical problem](http://fastml.com/how-a-russian-mathematician-constructed-a-decision-tree-by-hand-to-solve-a-medical-problem/)\n",
    "- [How decision trees work](https://brohrer.github.io/how_decision_trees_work.html)\n",
    "- [Let’s Write a Decision Tree Classifier from Scratch](https://www.youtube.com/watch?v=LDRbO9a6XPU) — _Don’t worry about understanding the code, just get introduced to the concepts. This 10 minute video has excellent diagrams and explanations._\n",
    "- [Random Forests for Complete Beginners: The definitive guide to Random Forests and Decision Trees](https://victorzhou.com/blog/intro-to-random-forests/)\n",
    "\n",
    "\n",
    "### Doing\n",
    "- [ ] Add your own stretch goal(s) !\n",
    "- [ ] Define a function to wrangle train, validate, and test sets in the same way. Clean outliers and engineer features. (For example, [what columns have zeros and shouldn't?](https://github.com/Quartz/bad-data-guide#zeros-replace-missing-values) What columns are duplicates, or nearly duplicates? Can you extract the year from date_recorded? Can you engineer new features, such as the number of years from waterpump construction to waterpump inspection?)\n",
    "- [ ] Try other [scikit-learn imputers](https://scikit-learn.org/stable/modules/impute.html).\n",
    "- [ ] Make exploratory visualizations and share on Slack.\n",
    "\n",
    "\n",
    "#### Exploratory visualizations\n",
    "\n",
    "Visualize the relationships between feature(s) and target. I recommend you do this with your training set, after splitting your data. \n",
    "\n",
    "For this problem, you may want to create a new column to represent the target as a number, 0 or 1. For example:\n",
    "\n",
    "```python\n",
    "train['functional'] = (train['status_group']=='functional').astype(int)\n",
    "```\n",
    "\n",
    "\n",
    "\n",
    "You can try [Seaborn \"Categorical estimate\" plots](https://seaborn.pydata.org/tutorial/categorical.html) for features with reasonably few unique values. (With too many unique values, the plot is unreadable.)\n",
    "\n",
    "- Categorical features. (If there are too many unique values, you can replace less frequent values with \"OTHER.\")\n",
    "- Numeric features. (If there are too many unique values, you can [bin with pandas cut / qcut functions](https://pandas.pydata.org/pandas-docs/stable/getting_started/basics.html?highlight=qcut#discretization-and-quantiling).)\n",
    "\n",
    "You can try [Seaborn linear model plots](https://seaborn.pydata.org/tutorial/regression.html) with numeric features. For this classification problem, you may want to use the parameter `logistic=True`, but it can be slow.\n",
    "\n",
    "You do _not_ need to use Seaborn, but it's nice because it includes confidence intervals to visualize uncertainty.\n",
    "\n",
    "#### High-cardinality categoricals\n",
    "\n",
    "This code from a previous assignment demonstrates how to replace less frequent values with 'OTHER'\n",
    "\n",
    "```python\n",
    "# Reduce cardinality for NEIGHBORHOOD feature ...\n",
    "\n",
    "# Get a list of the top 10 neighborhoods\n",
    "top10 = train['NEIGHBORHOOD'].value_counts()[:10].index\n",
    "\n",
    "# At locations where the neighborhood is NOT in the top 10,\n",
    "# replace the neighborhood with 'OTHER'\n",
    "train.loc[~train['NEIGHBORHOOD'].isin(top10), 'NEIGHBORHOOD'] = 'OTHER'\n",
    "test.loc[~test['NEIGHBORHOOD'].isin(top10), 'NEIGHBORHOOD'] = 'OTHER'\n",
    "```\n"
   ]
  },
  {
   "cell_type": "code",
   "execution_count": 175,
   "metadata": {
    "colab": {},
    "colab_type": "code",
    "id": "o9eSnDYhUGD7"
   },
   "outputs": [],
   "source": [
    "import sys\n",
    "\n",
    "# If you're on Colab:\n",
    "if 'google.colab' in sys.modules:\n",
    "    DATA_PATH = 'https://raw.githubusercontent.com/LambdaSchool/DS-Unit-2-Kaggle-Challenge/master/data/'\n",
    "    !pip install category_encoders==2.*\n",
    "    !pip install pandas-profiling==2.*\n",
    "\n",
    "# If you're working locally:\n",
    "else:\n",
    "    DATA_PATH = '../data/'"
   ]
  },
  {
   "cell_type": "code",
   "execution_count": 186,
   "metadata": {
    "colab": {},
    "colab_type": "code",
    "id": "QJBD4ruICm1m"
   },
   "outputs": [],
   "source": [
    "import pandas as pd\n",
    "import matplotlib.pyplot as plt\n",
    "import numpy as np\n",
    "\n",
    "def setup_data():\n",
    "    train = pd.merge(pd.read_csv(DATA_PATH+'waterpumps/train_features.csv'),  #thanks\n",
    "                     pd.read_csv(DATA_PATH+'waterpumps/train_labels.csv'))\n",
    "    test = pd.read_csv(DATA_PATH+'waterpumps/test_features.csv')\n",
    "    sample_submission = pd.read_csv(DATA_PATH+'waterpumps/sample_submission.csv')\n",
    "    return train, test, sample_submission\n",
    "\n",
    "\n",
    "train,test, _ = setup_data()  #kaggle "
   ]
  },
  {
   "cell_type": "code",
   "execution_count": 177,
   "metadata": {},
   "outputs": [
    {
     "data": {
      "text/plain": [
       "<matplotlib.axes._subplots.AxesSubplot at 0x7fe627019a90>"
      ]
     },
     "execution_count": 177,
     "metadata": {},
     "output_type": "execute_result"
    },
    {
     "data": {
      "image/png": "[encoded data removed]",
      "text/plain": [
       "<Figure size 432x288 with 1 Axes>"
      ]
     },
     "metadata": {
      "needs_background": "light"
     },
     "output_type": "display_data"
    }
   ],
   "source": [
    "\n",
    "train.shape, test.shape\n",
    "target = 'status_group'\n",
    "train.plot(x=target, kind='hist')\n"
   ]
  },
  {
   "cell_type": "code",
   "execution_count": 178,
   "metadata": {},
   "outputs": [],
   "source": [
    "#we do another split on our training dataframe\n",
    "from sklearn.model_selection import train_test_split\n",
    "train, val = train_test_split(train, train_size=0.80, test_size=0.20, \n",
    "                              stratify=train['status_group'], random_state=8)\n"
   ]
  },
  {
   "cell_type": "code",
   "execution_count": 179,
   "metadata": {},
   "outputs": [],
   "source": [
    "\n",
    "def wrangle(X):\n",
    "    #do some stuff\n",
    "      # Prevent SettingWithCopyWarning\n",
    "    X = X.copy()\n",
    "    \n",
    "    # About 3% of the time, latitude has small values near zero,\n",
    "    # outside Tanzania, so we'll treat these values like zero.\n",
    "    if ('latitude' in X.index):\n",
    "        X['latitude'] = X['latitude'].replace(-2e-08, 0)\n",
    "        # When columns have zeros and shouldn't, they are like null values.\n",
    "        # So we will replace the zeros with nulls, and impute missing values later.\n",
    "        cols_with_zeros = ['longitude', 'latitude']\n",
    "        for col in cols_with_zeros:\n",
    "            X[col] = X[col].replace(0, np.nan)\n",
    "    if ('permit' in X.index):\n",
    "        X['permit'] = X['permit'].astype('str')\n",
    "        X['permit'] = X['permit'].replace({'True': 'yes','False': 'no'})\n",
    "    # quantity & quantity_group are duplicates, so drop one\n",
    "    dropcols = ['wpt_name',\n",
    "                'ward','scheme_name',\n",
    "                'id']\n",
    "    for i in dropcols:\n",
    "        if i in X.index:\n",
    "            X.drop(labels=i, axis=1, inplace=True)\n",
    "    #X['age'] = pd.DatetimeIndex(X['date_recorded']).year - X.construction_year #not good due to zeros\n",
    "\n",
    "    return X\n"
   ]
  },
  {
   "cell_type": "code",
   "execution_count": 180,
   "metadata": {},
   "outputs": [
    {
     "name": "stderr",
     "output_type": "stream",
     "text": [
      "/home/dliu/anaconda3/lib/python3.7/site-packages/ipykernel_launcher.py:2: SettingWithCopyWarning: \n",
      "A value is trying to be set on a copy of a slice from a DataFrame.\n",
      "Try using .loc[row_indexer,col_indexer] = value instead\n",
      "\n",
      "See the caveats in the documentation: https://pandas.pydata.org/pandas-docs/stable/user_guide/indexing.html#returning-a-view-versus-a-copy\n",
      "  \n"
     ]
    },
    {
     "name": "stdout",
     "output_type": "stream",
     "text": [
      "['gps_height', 'region_code', 'district_code', 'amount_tsh', 'construction_year', 'longitude']\n"
     ]
    },
    {
     "data": {
      "image/png": "[encoded data removed]",
      "text/plain": [
       "<Figure size 720x360 with 1 Axes>"
      ]
     },
     "metadata": {
      "needs_background": "light"
     },
     "output_type": "display_data"
    }
   ],
   "source": [
    "## feature selection  look at numericals cols\n",
    "train['functional'] = (train['status_group']=='functional').astype(int)\n",
    "\n",
    "train.corr().reset_index().sort_values('functional').plot(x='index',\n",
    "                                                          y='functional',\n",
    "                                                          figsize=(10,5),\n",
    "                                                          kind ='barh',\n",
    "                                                         title='correlation between numerical features & target')\n",
    "\n",
    "cor = train.copy().corr().reset_index().sort_values(by='functional')\n",
    "cor.functional = cor.functional.apply(abs)\n",
    "\n",
    "ncols =cor.sort_values('functional',ascending=False)['index'][1:7].values.tolist()  #ordered by absolute correlation\n",
    "print(ncols)\n",
    "\n",
    "\n"
   ]
  },
  {
   "cell_type": "code",
   "execution_count": 315,
   "metadata": {},
   "outputs": [
    {
     "name": "stdout",
     "output_type": "stream",
     "text": [
      "['basin', 'region', 'public_meeting', 'recorded_by', 'scheme_management', 'permit', 'extraction_type', 'extraction_type_group', 'extraction_type_class', 'management', 'management_group', 'payment', 'payment_type', 'water_quality', 'quality_group', 'quantity', 'quantity_group', 'source', 'source_type', 'source_class', 'waterpoint_type', 'waterpoint_type_group']\n"
     ]
    }
   ],
   "source": [
    "cardinality = train_features.select_dtypes(exclude='number').nunique()\n",
    "\n",
    "# Get a list of all categorical features with cardinality <= 50\n",
    "categorical_features = cardinality[cardinality <= 50].index.tolist()\n",
    "print(categorical_features)\n",
    "\n",
    "\n",
    "def arrange(df,features, target): #for validation / selection only \n",
    "\n",
    "    train, val = train_test_split(df, train_size=0.80, test_size=0.20, \n",
    "                                  stratify=df[target], random_state=8) \n",
    "    train = wrangle(train) #dataframes \n",
    "    val   = wrangle(val)   #new dataframmes \n",
    "    X_train = train[features]\n",
    "    y_train = train[target]\n",
    "    X_val = val[features]\n",
    "    y_val = val[target]\n",
    "\n",
    "    return X_train, y_train, X_val, y_val    \n"
   ]
  },
  {
   "cell_type": "code",
   "execution_count": 182,
   "metadata": {},
   "outputs": [],
   "source": [
    "\n",
    "\n",
    "def reduce_features(x):\n",
    "    return (x[ft19])     #return the subset of encoded features we selected \n",
    "\n",
    "#pipeline \n",
    "\n",
    "from sklearn.preprocessing import FunctionTransformer\n",
    "import category_encoders as ce\n",
    "from sklearn.impute import SimpleImputer\n",
    "from sklearn.tree import DecisionTreeClassifier\n",
    "from sklearn.pipeline import make_pipeline\n",
    "#from sklearn.preprocessing import StandardScaler  scaling not usd for treees\n",
    "\n",
    "\n",
    "#reduce complexity of DT to bias model away from training data to validation. .. ie. reduce variance. \n",
    "#change / increase 'min node size  aka min samples per leaf'\n",
    "\n",
    "pipeline_red = make_pipeline(\n",
    "    ce.OneHotEncoder(use_cat_names=True),\n",
    "    SimpleImputer(strategy='median'),\n",
    "    DecisionTreeClassifier(min_samples_leaf=20, random_state=88)\n",
    ")\n",
    "\n",
    "pipeline19 =make_pipeline(      #same \n",
    "    ce.OneHotEncoder(use_cat_names=True),\n",
    "    FunctionTransformer(reduce_features),\n",
    "    SimpleImputer(strategy='median'),\n",
    "    DecisionTreeClassifier(random_state=88)\n",
    ")\n",
    "pipeline_red19 = make_pipeline(\n",
    "    ce.OneHotEncoder(use_cat_names=True),\n",
    "    FunctionTransformer(reduce_features),\n",
    "    SimpleImputer(strategy='median'),\n",
    "    DecisionTreeClassifier(min_samples_leaf=30, random_state=88)\n",
    ")\n"
   ]
  },
  {
   "cell_type": "code",
   "execution_count": null,
   "metadata": {},
   "outputs": [],
   "source": [
    "\n",
    "\n"
   ]
  },
  {
   "cell_type": "code",
   "execution_count": 263,
   "metadata": {},
   "outputs": [
    {
     "name": "stdout",
     "output_type": "stream",
     "text": [
      "arrange ['basin', 'region', 'public_meeting', 'recorded_by', 'scheme_management', 'permit', 'extraction_type', 'extraction_type_group', 'extraction_type_class', 'management', 'management_group', 'payment', 'payment_type', 'water_quality', 'quality_group', 'quantity', 'quantity_group', 'source', 'source_type', 'source_class', 'waterpoint_type', 'waterpoint_type_group']\n",
      "target status_group\n"
     ]
    },
    {
     "data": {
      "image/png": "[encoded data removed]",
      "text/plain": [
       "<Figure size 720x576 with 1 Axes>"
      ]
     },
     "metadata": {
      "needs_background": "light"
     },
     "output_type": "display_data"
    },
    {
     "name": "stdout",
     "output_type": "stream",
     "text": [
      "Index(['quantity_group_dry', 'waterpoint_type_group_other',\n",
      "       'waterpoint_type_communal standpipe multiple', 'permit_True',\n",
      "       'payment_never pay', 'management_vwc', 'region_Kigoma', 'permit_False',\n",
      "       'quantity_enough', 'scheme_management_VWC', 'payment_type_per bucket',\n",
      "       'region_Iringa', 'source_type_spring', 'extraction_type_class_gravity',\n",
      "       'region_Shinyanga', 'basin_Lake Nyasa', 'public_meeting_False',\n",
      "       'public_meeting_True', 'basin_Internal'],\n",
      "      dtype='object')\n",
      "Train Accuracy 0.8377104377104377\n",
      "validation accuracy 0.765993265993266\n"
     ]
    }
   ],
   "source": [
    "#plot importances of plain model  usint only categorical\n",
    "X_train, y_train, X_val, y_val = arrange(train, categorical_features, target)\n",
    "\n",
    "pipeline =make_pipeline(\n",
    "    ce.OneHotEncoder(use_cat_names=True),\n",
    "    SimpleImputer(strategy='median'),\n",
    "    DecisionTreeClassifier(random_state=88)\n",
    ")\n",
    "pipeline.fit(X_train, y_train)\n",
    "\n",
    "model = pipeline.named_steps['decisiontreeclassifier']\n",
    "encoder= pipeline.named_steps['onehotencoder']\n",
    "encoded_columns = encoder.transform(X_val).columns     #get the column names back\n",
    "model.feature_importances_                          #feature importances vs coeffs\n",
    "importances = pd.Series(model.feature_importances_, encoded_columns)\n",
    "importances.sort_values().head(35).plot.barh(figsize=(10,8),title='importances of features')\n",
    "plt.show()\n",
    "\n",
    "top20cats =importances.sort_values(ascending=False).index[:19]\n",
    "print(top20cats)\n",
    "print('Train Accuracy', pipeline.score(X_train, y_train))\n",
    "print('validation accuracy', pipeline.score(X_val, y_val))\n",
    "\n",
    "#predict on test\n",
    "#y_pred = pipeline.predict(X_test)\n",
    "\n",
    "cats2 = ['quantity', 'waterpoint_type',\n",
    "         'payment_type','permit', 'management',\n",
    "         'region','basin', 'scheme_management',\n",
    "         'quantity_group','public_meeting','extraction_type_group']\n",
    "cats3 = ['quantity', 'waterpoint_type','source_type','source',\n",
    "         'payment_type','permit', 'management', 'extraction_type',\n",
    "         'region','basin', 'scheme_management',\n",
    "         'quantity_group']"
   ]
  },
  {
   "cell_type": "code",
   "execution_count": 184,
   "metadata": {},
   "outputs": [
    {
     "data": {
      "text/plain": [
       "['gps_height',\n",
       " 'region_code',\n",
       " 'district_code',\n",
       " 'amount_tsh',\n",
       " 'construction_year',\n",
       " 'longitude',\n",
       " 'quantity',\n",
       " 'waterpoint_type',\n",
       " 'payment_type',\n",
       " 'permit',\n",
       " 'management',\n",
       " 'region',\n",
       " 'basin',\n",
       " 'scheme_management',\n",
       " 'quantity_group',\n",
       " 'public_meeting',\n",
       " 'extraction_type_group']"
      ]
     },
     "execution_count": 184,
     "metadata": {},
     "output_type": "execute_result"
    }
   ],
   "source": [
    "ft = ncols +cats2\n",
    "ft"
   ]
  },
  {
   "cell_type": "code",
   "execution_count": 223,
   "metadata": {},
   "outputs": [
    {
     "name": "stdout",
     "output_type": "stream",
     "text": [
      "(59400, 41) (14358, 40)\n",
      "arrange ['gps_height', 'region_code', 'district_code', 'amount_tsh', 'construction_year', 'longitude', 'quantity', 'waterpoint_type', 'payment_type', 'permit', 'management', 'region', 'basin', 'scheme_management', 'quantity_group', 'public_meeting', 'extraction_type_group']\n",
      "target status_group\n",
      "Train Accuracy 0.9949915824915825\n",
      "validation accuracy 0.747979797979798\n",
      "Train Accuracy 0.8001683501683502\n",
      "validation accuracy 0.7674242424242425\n"
     ]
    }
   ],
   "source": [
    "train,test, _ = setup_data()  #reset dataframes\n",
    "print(train.shape,test.shape)\n",
    "\n",
    "X_train, y_train, X_val, y_val = arrange(train, ft, target)\n",
    "pipeline =make_pipeline(\n",
    "    ce.OneHotEncoder(use_cat_names=True),\n",
    "    SimpleImputer(strategy='mean'),\n",
    "    DecisionTreeClassifier(random_state=88)\n",
    ")\n",
    "pipeline.fit(X_train, y_train)\n",
    "\n",
    "print('Train Accuracy', pipeline.score(X_train, y_train))\n",
    "print('validation accuracy', pipeline.score(X_val, y_val))\n",
    "\n",
    "\n",
    "pipeline_red = make_pipeline(\n",
    "    ce.OneHotEncoder(use_cat_names=True),\n",
    "    SimpleImputer(strategy='median'),\n",
    "    DecisionTreeClassifier(min_samples_leaf=19, random_state=88)\n",
    ")\n",
    "pipeline_red.fit(X_train, y_train)\n",
    "\n",
    "print('Train Accuracy', pipeline_red.score(X_train, y_train))\n",
    "print('validation accuracy', pipeline_red.score(X_val, y_val))\n"
   ]
  },
  {
   "cell_type": "code",
   "execution_count": 325,
   "metadata": {},
   "outputs": [
    {
     "name": "stdout",
     "output_type": "stream",
     "text": [
      "Train Accuracy 0.8049873737373737\n",
      "validation accuracy 0.7702861952861952\n"
     ]
    },
    {
     "data": {
      "text/plain": [
       "(14358,)"
      ]
     },
     "execution_count": 325,
     "metadata": {},
     "output_type": "execute_result"
    }
   ],
   "source": [
    "train,test, _ = setup_data()  #reset dataframes\n",
    "features=categorical_features+ncols \n",
    "X_train, y_train, X_val, y_val = arrange(train, features, target)\n",
    "pipeline_red = make_pipeline(\n",
    "    ce.OneHotEncoder(use_cat_names=True),\n",
    "    SimpleImputer(strategy='median'),\n",
    "    DecisionTreeClassifier(min_samples_leaf=18, random_state=88)\n",
    ")\n",
    "pipeline_red.fit(X_train, y_train)\n",
    "\n",
    "print('Train Accuracy', pipeline_red.score(X_train, y_train))\n",
    "print('validation accuracy', pipeline_red.score(X_val, y_val))\n",
    "\n",
    "X_test  = wrangle(test)[features]\n",
    "y_pred = pipeline_red.predict(X_test)\n",
    "\n",
    "y_pred.shape\n",
    "sub = pd.DataFrame(X_test,y_pre"
   ]
  },
  {
   "cell_type": "code",
   "execution_count": 339,
   "metadata": {},
   "outputs": [],
   "source": [
    "\n",
    "test['status_group']= y_pred\n",
    "sub= test[['id','status_group']]\n",
    "sub.set_index('id',inplace=True)\n",
    "sub.to_csv('ksub.csv')"
   ]
  },
  {
   "cell_type": "code",
   "execution_count": 313,
   "metadata": {},
   "outputs": [
    {
     "name": "stdout",
     "output_type": "stream",
     "text": [
      "arrange ['quantity_group', 'waterpoint_type_group', 'permit', 'management', 'region', 'basin', 'source_type', 'gps_height', 'region_code', 'extraction_type_group']\n",
      "target status_group\n",
      "Train Accuracy 0.7746632996632996\n",
      "validation accuracy 0.7500841750841751\n"
     ]
    }
   ],
   "source": [
    "train,test, _ = setup_data()  #reset dataframes\n",
    "cat4= ['quantity_group', 'waterpoint_type_group', 'permit', \n",
    "       'management','region', 'basin','source_type','gps_height',\n",
    "       'region_code',\n",
    "      'extraction_type_group']\n",
    "X_train, y_train, X_val, y_val = arrange(train, cat4, target)\n",
    "pipeline_red = make_pipeline(\n",
    "    ce.OneHotEncoder(use_cat_names=True),\n",
    "    SimpleImputer(strategy='median'),\n",
    "    DecisionTreeClassifier(min_samples_leaf=18\n",
    "                           \n",
    "                \n",
    "                           , random_state=88)\n",
    ")\n",
    "pipeline_red.fit(X_train, y_train)\n",
    "\n",
    "print('Train Accuracy', pipeline_red.score(X_train, y_train))\n",
    "print('validation accuracy', pipeline_red.score(X_val, y_val))\n"
   ]
  },
  {
   "cell_type": "code",
   "execution_count": null,
   "metadata": {},
   "outputs": [],
   "source": []
  },
  {
   "cell_type": "code",
   "execution_count": null,
   "metadata": {},
   "outputs": [],
   "source": []
  },
  {
   "cell_type": "code",
   "execution_count": null,
   "metadata": {},
   "outputs": [],
   "source": []
  },
  {
   "cell_type": "markdown",
   "metadata": {},
   "source": [
    "### try to implement kbest feature selection for categorical - fail. not enough time\n",
    "from sklearn.pipeline import make_pipeline\n",
    "from sklearn.preprocessing import LabelEncoder\n",
    "from sklearn.preprocessing import OrdinalEncoder\n",
    "from sklearn.feature_selection import SelectKBest\n",
    "from sklearn.feature_selection import chi2\n",
    "\n",
    "cat_picks= ['extraction_type_group', 'waterpoint_type_group'] # how well can i pick vs..\n",
    "\n",
    "train_features = train.drop(columns=[target, 'id'])\n",
    "# Get a series with the cardinality of the nonnumeric features\n",
    "cardinality = train_features.select_dtypes(exclude='number').nunique()\n",
    "\n",
    "# Get a list of all categorical features with cardinality <= 50\n",
    "categorical_features = cardinality[cardinality <= 50].index.tolist()\n",
    "print(categorical_features)\n",
    "\n",
    "cat_sel  = pd.concat([train[categorical_features],train['functional']], axis=1)  #dataframe to do category selection\n",
    "target =  'functional'\n",
    "\n",
    "def arrange(df,features, target):  #for validation / selection only\n",
    "    train, val = train_test_split(df, train_size=0.80, test_size=0.20, \n",
    "                              stratify=df[target], random_state=8)\n",
    "    train = wrangle(train)   #dataframes\n",
    "    val   = wrangle(val)\n",
    "    \n",
    "    train.fillna('missing', inplace=True) # just for this exercise\n",
    "    val.fillna('missing', inplace=True) # just for this exercise w/categoricals\n",
    "    \n",
    "    X_train = train[features]\n",
    "    y_train = train[target]\n",
    "    X_val = val[features]\n",
    "    y_val = val[target]\n",
    "    return X_train, y_train, X_val, y_val\n",
    "\n",
    "def prepare_inputs(X_train, X_test):\n",
    "\toe = OrdinalEncoder()\n",
    "\toe.fit(X_train)\n",
    "\tX_train_enc = oe.transform(X_train)\n",
    "\tX_test_enc = oe.transform(X_test)\n",
    "\treturn X_train_enc, X_test_enc\n",
    "\n",
    "# prepare target\n",
    "def prepare_targets(y_train, y_test):\n",
    "\n",
    "\tle = LabelEncoder()\n",
    "\tle.fit(y_train)\n",
    "\ty_train_enc = le.transform(y_train)\n",
    "\ty_test_enc = le.transform(y_test)\n",
    "\treturn y_train_enc, y_test_enc\n",
    "\n",
    "# feature selection\n",
    "def select_features(X_train, y_train, X_test):\n",
    "\tfs = SelectKBest(score_func=chi2, k='all')\n",
    "\tfs.fit(X_train, y_train)\n",
    "\tX_train_fs = fs.transform(X_train)\n",
    "\tX_test_fs = fs.transform(X_test)\n",
    "\treturn X_train_fs, X_test_fs, fs\n",
    "\n",
    "X_train, y_train, X_test, y_test = arrange(cat_sel, categorical_features, target) \n",
    "\n",
    "# prepare input data\n",
    "X_train_enc, X_test_enc = prepare_inputs(X_train, X_test)\n",
    "# prepare output data\n",
    "y_train_enc, y_test_enc = prepare_targets(y_train, y_test)\n",
    "# feature selection\n",
    "X_train_fs, X_test_fs, fs = select_features(X_train_enc, y_train_enc, X_test_enc)\n",
    "# what are scores for the features\n",
    "for i in range(len(fs.scores_)):\n",
    "\tprint('Feature %d: %f' % (i, fs.scores_[i]))\n",
    "# plot the scores\n",
    "pyplot.bar([i for i in range(len(fs.scores_))], fs.scores_)\n",
    "pyplot.show()"
   ]
  }
 ],
 "metadata": {
  "kernelspec": {
   "display_name": "Python 3",
   "language": "python",
   "name": "python3"
  },
  "language_info": {
   "codemirror_mode": {
    "name": "ipython",
    "version": 3
   },
   "file_extension": ".py",
   "mimetype": "text/x-python",
   "name": "python",
   "nbconvert_exporter": "python",
   "pygments_lexer": "ipython3",
   "version": "3.7.4"
  }
 },
 "nbformat": 4,
 "nbformat_minor": 1
}
