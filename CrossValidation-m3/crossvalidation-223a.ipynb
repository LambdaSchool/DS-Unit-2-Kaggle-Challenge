{
 "cells": [
  {
   "cell_type": "markdown",
   "metadata": {
    "colab_type": "text",
    "id": "view-in-github"
   },
   "source": [
    "<a href=\"https://colab.research.google.com/github/skhabiri/DS-Unit-2-Kaggle-Challenge/blob/master/module3-cross-validation/skhabiri_LS_DS_223_assignment.ipynb\" target=\"_parent\"><img src=\"https://colab.research.google.com/assets/colab-badge.svg\" alt=\"Open In Colab\"/></a>"
   ]
  },
  {
   "cell_type": "markdown",
   "metadata": {
    "colab_type": "text",
    "id": "hL6DevIoPpkl"
   },
   "source": [
    "*Unit 2, Sprint 2, Module 3*\n",
    "\n",
    "---"
   ]
  },
  {
   "cell_type": "markdown",
   "metadata": {
    "colab_type": "text",
    "id": "lJMpULkqPpkn"
   },
   "source": [
    "# Cross-Validation\n",
    "\n",
    "\n",
    "## Assignment\n",
    "- [ ] [Review requirements for your portfolio project](https://lambdaschool.github.io/ds/unit2), then submit your dataset.\n",
    "- [ ] Continue to participate in our Kaggle challenge. \n",
    "- [ ] Use scikit-learn for hyperparameter optimization with RandomizedSearchCV.\n",
    "- [ ] Submit your predictions to our Kaggle competition. (Go to our Kaggle InClass competition webpage. Use the blue **Submit Predictions** button to upload your CSV file. Or you can use the Kaggle API to submit your predictions.)\n",
    "- [ ] Commit your notebook to your fork of the GitHub repo.\n",
    "\n",
    "\n",
    "**You can't just copy** from the lesson notebook to this assignment.\n",
    "\n",
    "- Because the lesson was **regression**, but the assignment is **classification.**\n",
    "- Because the lesson used [TargetEncoder](https://contrib.scikit-learn.org/categorical-encoding/targetencoder.html), which doesn't work as-is for _multi-class_ classification.\n",
    "\n",
    "So you will have to adapt the example, which is good real-world practice.\n",
    "\n",
    "1. Use a model for classification, such as [RandomForestClassifier](https://scikit-learn.org/stable/modules/generated/sklearn.ensemble.RandomForestClassifier.html)\n",
    "2. Use hyperparameters that match the classifier, such as `randomforestclassifier__ ...`\n",
    "3. Use a metric for classification, such as [`scoring='accuracy'`](https://scikit-learn.org/stable/modules/model_evaluation.html#common-cases-predefined-values)\n",
    "4. If you’re doing a multi-class classification problem — such as whether a waterpump is functional, functional needs repair, or nonfunctional — then use a categorical encoding that works for multi-class classification, such as [OrdinalEncoder](https://contrib.scikit-learn.org/categorical-encoding/ordinal.html) (not [TargetEncoder](https://contrib.scikit-learn.org/categorical-encoding/targetencoder.html))\n",
    "\n",
    "\n",
    "\n",
    "## Stretch Goals\n",
    "\n",
    "### Reading\n",
    "- Jake VanderPlas, [Python Data Science Handbook, Chapter 5.3](https://jakevdp.github.io/PythonDataScienceHandbook/05.03-hyperparameters-and-model-validation.html), Hyperparameters and Model Validation\n",
    "- Jake VanderPlas, [Statistics for Hackers](https://speakerdeck.com/jakevdp/statistics-for-hackers?slide=107)\n",
    "- Ron Zacharski, [A Programmer's Guide to Data Mining, Chapter 5](http://guidetodatamining.com/chapter5/), 10-fold cross validation\n",
    "- Sebastian Raschka, [A Basic Pipeline and Grid Search Setup](https://github.com/rasbt/python-machine-learning-book/blob/master/code/bonus/svm_iris_pipeline_and_gridsearch.ipynb)\n",
    "- Peter Worcester, [A Comparison of Grid Search and Randomized Search Using Scikit Learn](https://blog.usejournal.com/a-comparison-of-grid-search-and-randomized-search-using-scikit-learn-29823179bc85)\n",
    "\n",
    "### Doing\n",
    "- Add your own stretch goals!\n",
    "- Try other [categorical encodings](https://contrib.scikit-learn.org/categorical-encoding/). See the previous assignment notebook for details.\n",
    "- In additon to `RandomizedSearchCV`, scikit-learn has [`GridSearchCV`](https://scikit-learn.org/stable/modules/generated/sklearn.model_selection.GridSearchCV.html). Another library called scikit-optimize has [`BayesSearchCV`](https://scikit-optimize.github.io/notebooks/sklearn-gridsearchcv-replacement.html). Experiment with these alternatives.\n",
    "- _[Introduction to Machine Learning with Python](http://shop.oreilly.com/product/0636920030515.do)_ discusses options for \"Grid-Searching Which Model To Use\" in Chapter 6:\n",
    "\n",
    "> You can even go further in combining GridSearchCV and Pipeline: it is also possible to search over the actual steps being performed in the pipeline (say whether to use StandardScaler or MinMaxScaler). This leads to an even bigger search space and should be considered carefully. Trying all possible solutions is usually not a viable machine learning strategy. However, here is an example comparing a RandomForestClassifier and an SVC ...\n",
    "\n",
    "The example is shown in [the accompanying notebook](https://github.com/amueller/introduction_to_ml_with_python/blob/master/06-algorithm-chains-and-pipelines.ipynb), code cells 35-37. Could you apply this concept to your own pipelines?\n"
   ]
  },
  {
   "cell_type": "markdown",
   "metadata": {
    "colab_type": "text",
    "id": "Lk2DnNfvPpko"
   },
   "source": [
    "### BONUS: Stacking!\n",
    "\n",
    "Here's some code you can use to \"stack\" multiple submissions, which is another form of ensembling:\n",
    "\n",
    "```python\n",
    "import pandas as pd\n",
    "\n",
    "# Filenames of your submissions you want to ensemble\n",
    "files = ['submission-01.csv', 'submission-02.csv', 'submission-03.csv']\n",
    "\n",
    "target = 'status_group'\n",
    "submissions = (pd.read_csv(file)[[target]] for file in files)\n",
    "ensemble = pd.concat(submissions, axis='columns')\n",
    "majority_vote = ensemble.mode(axis='columns')[0]\n",
    "\n",
    "sample_submission = pd.read_csv('sample_submission.csv')\n",
    "submission = sample_submission.copy()\n",
    "submission[target] = majority_vote\n",
    "submission.to_csv('my-ultimate-ensemble-submission.csv', index=False)\n",
    "```"
   ]
  },
  {
   "cell_type": "code",
   "execution_count": 1,
   "metadata": {
    "colab": {},
    "colab_type": "code",
    "id": "4jBOL1wiPpko"
   },
   "outputs": [],
   "source": [
    "%%capture\n",
    "import sys\n",
    "\n",
    "# If you're on Colab:\n",
    "if 'google.colab' in sys.modules:\n",
    "    DATA_PATH = 'https://github.com/skhabiri/PredictiveModeling-TreeBasedModels-u2s2/tree/master/data/'\n",
    "    !pip install category_encoders==2.*\n",
    "\n",
    "# If you're working locally:\n",
    "else:\n",
    "    DATA_PATH = '../data/'"
   ]
  },
  {
   "cell_type": "code",
   "execution_count": 2,
   "metadata": {
    "colab": {},
    "colab_type": "code",
    "id": "HoGWLTjZPpkr"
   },
   "outputs": [],
   "source": [
    "import pandas as pd\n",
    "import numpy as np\n",
    "\n",
    "# Merge train_features.csv & train_labels.csv\n",
    "train = pd.merge(pd.read_csv(DATA_PATH+'waterpumps/train_features.csv'), \n",
    "                 pd.read_csv(DATA_PATH+'waterpumps/train_labels.csv'))\n",
    "\n",
    "# Read test_features.csv & sample_submission.csv\n",
    "test = pd.read_csv(DATA_PATH+'waterpumps/test_features.csv')\n",
    "sample_submission = pd.read_csv(DATA_PATH+'waterpumps/sample_submission.csv')"
   ]
  },
  {
   "cell_type": "code",
   "execution_count": 3,
   "metadata": {
    "colab": {
     "base_uri": "https://localhost:8080/",
     "height": 34
    },
    "colab_type": "code",
    "id": "PrRCZGpBPpku",
    "outputId": "2259339f-df0d-4c62-b80b-3e5913273ae2"
   },
   "outputs": [
    {
     "data": {
      "text/plain": [
       "((59400, 41), (14358, 40))"
      ]
     },
     "execution_count": 3,
     "metadata": {},
     "output_type": "execute_result"
    }
   ],
   "source": [
    "train.shape, test.shape"
   ]
  },
  {
   "cell_type": "code",
   "execution_count": 4,
   "metadata": {
    "colab": {},
    "colab_type": "code",
    "id": "2uXewVPAVSiy"
   },
   "outputs": [],
   "source": [
    "# Tuning parameters\n",
    "zero_cols = [\"longitude\", \"latitude\", \"amount_tsh\", \"gps_height\"]\n",
    "# zero_cols = [, \"longitude\", \"latitude\", \"population\", \"construction_year\" ]\n",
    "# drop_cols=[]\"num_private\", \n",
    "drop_cols = [\"waterpoint_type_group\", \"source_type\",\n",
    "             \"quantity_group\", \"quality_group\", \"payment_type\", \"management_group\", \n",
    "             \"extraction_type_group\", \"recorded_by\"]\n",
    "# In category reduction of each categorical feature {#\"others\"+offset < sum(#\"kept_values\")}\n",
    "offset = 1\n",
    "\n",
    "# only categorical features with maximum num_card value of cardinality are kept\n",
    "num_card = 100\n",
    "# decision tree depth\n",
    "num_depth =16"
   ]
  },
  {
   "cell_type": "code",
   "execution_count": 5,
   "metadata": {
    "colab": {},
    "colab_type": "code",
    "id": "mIYmL87DVfy0"
   },
   "outputs": [],
   "source": [
    "# Split train into train & val\n",
    "# from sklearn.model_selection import train_test_split\n",
    "\n",
    "# train, val = train_test_split(train, train_size=0.80, test_size=0.20, \n",
    "#                               stratify=train['status_group'], random_state=42)\n",
    "\n",
    "# train.shape, val.shape, test.shape"
   ]
  },
  {
   "cell_type": "code",
   "execution_count": 6,
   "metadata": {
    "colab": {},
    "colab_type": "code",
    "id": "iYjT1ze0V09j"
   },
   "outputs": [],
   "source": [
    "# The status_group column is the target\n",
    "target = 'status_group'\n",
    "\n",
    "# Get a dataframe with all train columns except the target & id\n",
    "train_features = train.drop(columns=[target, 'id'])\n",
    "\n",
    "# Arrange data into X features matrix and y target vector \n",
    "X_train = train[train_features.columns]\n",
    "y_train = train[target]\n",
    "\n",
    "X_test = test[train_features.columns]"
   ]
  },
  {
   "cell_type": "code",
   "execution_count": 7,
   "metadata": {
    "colab": {
     "base_uri": "https://localhost:8080/",
     "height": 34
    },
    "colab_type": "code",
    "id": "L2r28ZSnWA__",
    "outputId": "4c278fe2-48eb-400c-eb3e-946ee18e4aa0"
   },
   "outputs": [
    {
     "data": {
      "text/plain": [
       "((59400, 39), (14358, 39))"
      ]
     },
     "execution_count": 7,
     "metadata": {},
     "output_type": "execute_result"
    }
   ],
   "source": [
    "X_train.shape, X_test.shape"
   ]
  },
  {
   "cell_type": "code",
   "execution_count": 8,
   "metadata": {
    "colab": {},
    "colab_type": "code",
    "id": "vIW4cZCRZSN8"
   },
   "outputs": [],
   "source": [
    "def zero_to_nan(df, col_list):\n",
    "  zero_list = [0, \"0\", -2.000000e-08]\n",
    "  for col in col_list:\n",
    "    df.loc[df[col].isin(zero_list), col] = np.NaN\n",
    "  return df"
   ]
  },
  {
   "cell_type": "code",
   "execution_count": 9,
   "metadata": {
    "colab": {},
    "colab_type": "code",
    "id": "fZiCNCUnZY-x"
   },
   "outputs": [],
   "source": [
    "# nonnum_features = X_train.select_dtypes(exclude='number').columns.to_list()\n",
    "# numeric_features = X_train.select_dtypes(include='number').columns.to_list()"
   ]
  },
  {
   "cell_type": "code",
   "execution_count": 10,
   "metadata": {
    "colab": {},
    "colab_type": "code",
    "id": "O24uPIFmZjPe"
   },
   "outputs": [],
   "source": [
    "def wrangle2(df, zero_cols, drop_cols):\n",
    "  df[\"date_recorded\"] = pd.to_datetime(df[\"date_recorded\"], infer_datetime_format=True).dt.year\n",
    "  df = zero_to_nan(df, zero_cols)\n",
    "  df = df.drop(drop_cols, axis=1)\n",
    "  return df"
   ]
  },
  {
   "cell_type": "code",
   "execution_count": 11,
   "metadata": {
    "colab": {
     "base_uri": "https://localhost:8080/",
     "height": 230
    },
    "colab_type": "code",
    "id": "nCbXNXwhZr0a",
    "outputId": "dab533a2-3d2e-4cfd-ac7b-080c846c8448"
   },
   "outputs": [
    {
     "name": "stderr",
     "output_type": "stream",
     "text": [
      "/Users/shahnam/.pyenv/versions/3.7.8/lib/python3.7/site-packages/ipykernel_launcher.py:2: SettingWithCopyWarning: \n",
      "A value is trying to be set on a copy of a slice from a DataFrame.\n",
      "Try using .loc[row_indexer,col_indexer] = value instead\n",
      "\n",
      "See the caveats in the documentation: https://pandas.pydata.org/pandas-docs/stable/user_guide/indexing.html#returning-a-view-versus-a-copy\n",
      "  \n",
      "/Users/shahnam/.pyenv/versions/3.7.8/lib/python3.7/site-packages/pandas/core/indexing.py:1763: SettingWithCopyWarning: \n",
      "A value is trying to be set on a copy of a slice from a DataFrame.\n",
      "Try using .loc[row_indexer,col_indexer] = value instead\n",
      "\n",
      "See the caveats in the documentation: https://pandas.pydata.org/pandas-docs/stable/user_guide/indexing.html#returning-a-view-versus-a-copy\n",
      "  isetter(loc, value)\n"
     ]
    }
   ],
   "source": [
    "X_train = wrangle2(X_train, zero_cols, drop_cols)\n",
    "X_test = wrangle2(X_test, zero_cols, drop_cols)"
   ]
  },
  {
   "cell_type": "code",
   "execution_count": 12,
   "metadata": {
    "colab": {},
    "colab_type": "code",
    "id": "ttBwJt18aCf2"
   },
   "outputs": [],
   "source": [
    "nonnum_features = X_train.select_dtypes(exclude='number').columns.to_list()\n",
    "numeric_features = X_train.select_dtypes(include='number').columns.to_list()"
   ]
  },
  {
   "cell_type": "code",
   "execution_count": 13,
   "metadata": {
    "colab": {},
    "colab_type": "code",
    "id": "uQOPBDI7aKa4"
   },
   "outputs": [],
   "source": [
    "# reduces number of the categories\n",
    "def cat_comb(train, testval_list, col_list, offset):\n",
    "  '''\n",
    "  ex/ cat_comb(train, [validation, test] [col1, col2])\n",
    "  '''\n",
    "  df = train.copy()\n",
    "  test_list = testval_list.copy()\n",
    "  for col_name in col_list:\n",
    "    cat_ser = df[col_name].value_counts(sort=True, ascending=False, dropna=False)\n",
    "    # make sure other category is less than sum of predecessors\n",
    "    for i in range(len(cat_ser)):\n",
    "      if cat_ser[:i+1].sum() < (cat_ser[i+1:].sum() + offset):\n",
    "        continue\n",
    "      else:\n",
    "        n_cat = i+2\n",
    "        break\n",
    "  \n",
    "    cat_keep = list(cat_ser[:n_cat-1].index)\n",
    "    df.loc[~df[col_name].isin(cat_keep), col_name] = \"other\"\n",
    "    \n",
    "    # alternative, very slow .replace method\n",
    "    # mask = ~df[col_name].isin(cat_keep)\n",
    "    # df[col_name] = df[col_name].replace(mask, \"other\")\n",
    "\n",
    "\n",
    "    for df_i in test_list:\n",
    "      df_i.loc[~df_i[col_name].isin(cat_keep), col_name] = \"other\"\n",
    "  \n",
    "    # alternative way, but could get a size issue with test or validation data\n",
    "    # cat_bool = ~(df[col_name].isin(cat_ser.index[:n_cat-1]))\n",
    "    # df.loc[cat_bool, col_name] = \"other\"\n",
    "  return df, test_list"
   ]
  },
  {
   "cell_type": "code",
   "execution_count": 14,
   "metadata": {
    "colab": {
     "base_uri": "https://localhost:8080/",
     "height": 34
    },
    "colab_type": "code",
    "id": "VgCWElecaN3H",
    "outputId": "0d45e54e-f231-477e-8186-0607b9bfb7fa"
   },
   "outputs": [
    {
     "data": {
      "text/plain": [
       "((59400, 31), (14358, 31))"
      ]
     },
     "execution_count": 14,
     "metadata": {},
     "output_type": "execute_result"
    }
   ],
   "source": [
    "X_train.shape, X_test.shape"
   ]
  },
  {
   "cell_type": "code",
   "execution_count": 15,
   "metadata": {
    "colab": {},
    "colab_type": "code",
    "id": "Fy8g49nkaX7s"
   },
   "outputs": [],
   "source": [
    "X_train, X_test_list = cat_comb(X_train, [X_test], nonnum_features, offset)\n",
    "X_test = X_test_list[0]"
   ]
  },
  {
   "cell_type": "code",
   "execution_count": 16,
   "metadata": {
    "colab": {},
    "colab_type": "code",
    "id": "L330VodyaiEK"
   },
   "outputs": [],
   "source": [
    "def make_feat(train_df, num_card):\n",
    "  # Get a list of the numeric features\n",
    "  numeric_features = train_df.select_dtypes(include='number').columns.to_list()\n",
    "\n",
    "  nonnum_features = train_df.columns[~train_df.columns.isin(numeric_features)].to_list()\n",
    "  # nonnum_features = train_df.select_dtypes(exclude='number').columns\n",
    "\n",
    "  assert len(numeric_features) + len(nonnum_features) == len(train_df.columns)\n",
    "\n",
    "  # Get a series with the cardinality of the nonnumeric features\n",
    "  cardinality = train_df.select_dtypes(exclude='number').nunique()\n",
    "  print(cardinality.sort_values())\n",
    "  # Get a list of all categorical features with cardinality <= num_cat\n",
    "  categorical_features = cardinality[cardinality <= num_card].index.to_list()\n",
    "  # Combine the lists \n",
    "  features = numeric_features + categorical_features\n",
    "  return features, numeric_features, categorical_features"
   ]
  },
  {
   "cell_type": "code",
   "execution_count": 17,
   "metadata": {
    "colab": {
     "base_uri": "https://localhost:8080/",
     "height": 407
    },
    "colab_type": "code",
    "id": "e8_p_NUcaumB",
    "outputId": "e31d5531-3b82-4b38-f86d-0778b68e408c"
   },
   "outputs": [
    {
     "name": "stdout",
     "output_type": "stream",
     "text": [
      "quantity                    2\n",
      "water_quality               2\n",
      "management                  2\n",
      "public_meeting              2\n",
      "scheme_management           2\n",
      "source_class                2\n",
      "permit                      2\n",
      "waterpoint_type             3\n",
      "source                      3\n",
      "payment                     3\n",
      "extraction_type_class       3\n",
      "extraction_type             3\n",
      "scheme_name                 4\n",
      "basin                       5\n",
      "region                      8\n",
      "installer                  11\n",
      "funder                     16\n",
      "lga                        34\n",
      "ward                      418\n",
      "subvillage               2426\n",
      "wpt_name                 7702\n",
      "dtype: int64\n"
     ]
    }
   ],
   "source": [
    "features, numeric_features, categorical_features = make_feat(X_train, num_card);"
   ]
  },
  {
   "cell_type": "code",
   "execution_count": 18,
   "metadata": {
    "colab": {
     "base_uri": "https://localhost:8080/",
     "height": 34
    },
    "colab_type": "code",
    "id": "qmbi9ecTa_l-",
    "outputId": "e122f191-4360-421a-801e-862f15b623dc"
   },
   "outputs": [
    {
     "data": {
      "text/plain": [
       "((59400, 31), (14358, 31))"
      ]
     },
     "execution_count": 18,
     "metadata": {},
     "output_type": "execute_result"
    }
   ],
   "source": [
    "X_train.shape, X_test.shape"
   ]
  },
  {
   "cell_type": "code",
   "execution_count": 19,
   "metadata": {
    "colab": {},
    "colab_type": "code",
    "id": "KmFY7wEYa2hp"
   },
   "outputs": [],
   "source": [
    "# Arrange data into X features matrix and y target vector \n",
    "X_train = X_train[features]\n",
    "X_test = X_test[features]"
   ]
  },
  {
   "cell_type": "code",
   "execution_count": 20,
   "metadata": {
    "colab": {
     "base_uri": "https://localhost:8080/",
     "height": 34
    },
    "colab_type": "code",
    "id": "yRHq5wERbDo6",
    "outputId": "0d94ad46-32af-4489-a72c-f5e7aaffa280"
   },
   "outputs": [
    {
     "data": {
      "text/plain": [
       "((59400, 28), (14358, 28))"
      ]
     },
     "execution_count": 20,
     "metadata": {},
     "output_type": "execute_result"
    }
   ],
   "source": [
    "X_train.shape, X_test.shape"
   ]
  },
  {
   "cell_type": "code",
   "execution_count": 21,
   "metadata": {
    "colab": {},
    "colab_type": "code",
    "id": "wla9-nkMbMIu"
   },
   "outputs": [],
   "source": [
    "import category_encoders as ce\n",
    "# from category_encoders import OneHotEncoder, OrdinalEncoder\n",
    "\n",
    "from sklearn.impute import SimpleImputer\n",
    "\n",
    "from sklearn.preprocessing import StandardScaler\n",
    "\n",
    "from sklearn.feature_selection import SelectKBest, f_classif, mutual_info_classif\n",
    "\n",
    "from sklearn.pipeline import make_pipeline, Pipeline\n",
    "\n",
    "# from sklearn.linear_model import LogisticRegression\n",
    "from sklearn.ensemble import RandomForestClassifier\n",
    "\n",
    "from sklearn.model_selection import cross_val_score\n",
    "from sklearn.metrics import mean_absolute_error\n",
    "\n",
    "from sklearn.model_selection import GridSearchCV, RandomizedSearchCV\n",
    "\n"
   ]
  },
  {
   "cell_type": "code",
   "execution_count": 22,
   "metadata": {
    "colab": {
     "base_uri": "https://localhost:8080/",
     "height": 158
    },
    "colab_type": "code",
    "id": "XIotGYezb4SK",
    "outputId": "52a30e75-d1bf-4296-b220-76b221dd1609"
   },
   "outputs": [
    {
     "data": {
      "text/plain": [
       "Index(['amount_tsh', 'date_recorded', 'gps_height', 'longitude', 'latitude',\n",
       "       'num_private', 'region_code', 'district_code', 'population',\n",
       "       'construction_year', 'funder', 'installer', 'basin', 'region', 'lga',\n",
       "       'public_meeting', 'scheme_management', 'scheme_name', 'permit',\n",
       "       'extraction_type', 'extraction_type_class', 'management', 'payment',\n",
       "       'water_quality', 'quantity', 'source', 'source_class',\n",
       "       'waterpoint_type'],\n",
       "      dtype='object')"
      ]
     },
     "execution_count": 22,
     "metadata": {},
     "output_type": "execute_result"
    }
   ],
   "source": [
    "X_train.columns"
   ]
  },
  {
   "cell_type": "markdown",
   "metadata": {
    "colab_type": "text",
    "id": "UwxAvorSdDmo"
   },
   "source": [
    "### Cross Validation and hyper parameter tuning"
   ]
  },
  {
   "cell_type": "code",
   "execution_count": 23,
   "metadata": {
    "colab": {},
    "colab_type": "code",
    "id": "0qnEYp9rfV3J"
   },
   "outputs": [
    {
     "data": {
      "image/png": "[encoded data removed]",
      "text/plain": [
       "<Figure size 900x600 with 1 Axes>"
      ]
     },
     "metadata": {
      "needs_background": "light"
     },
     "output_type": "display_data"
    }
   ],
   "source": [
    "%matplotlib inline\n",
    "import matplotlib.pyplot as plt\n",
    "from sklearn.model_selection import validation_curve\n",
    "from sklearn.tree import DecisionTreeClassifier\n",
    "\n",
    "pipeline = make_pipeline(\n",
    "    ce.OrdinalEncoder(), \n",
    "    SimpleImputer(), \n",
    "    # SelectKBest(f_classif), \n",
    "    # DecisionTreeClassifier(max_depth=13, min_samples_split=2)\n",
    "    RandomForestClassifier(random_state=42, min_samples_split=2, n_estimators=200)\n",
    "\n",
    ")\n",
    "par_name = \"max_depth\"\n",
    "# par_range = [2**i for i in range(0,11,1)]\n",
    "par_range = range(16,18,1)\n",
    "train_scores, val_scores = validation_curve(\n",
    "    pipeline, X_train, y_train,\n",
    "    # param_name='decisiontreeclassifier__'+ par_name, \n",
    "    # param_name='selectkbest__'+ par_name, \n",
    "    param_name='randomforestclassifier__'+ par_name, \n",
    "\n",
    "    param_range=par_range, scoring='accuracy', \n",
    "    cv=2,\n",
    "    n_jobs=-1\n",
    ")\n",
    "\n",
    "plt.figure(dpi=150)\n",
    "plt.plot(par_range, np.mean(train_scores, axis=1), color='blue', label='training accuracy')\n",
    "plt.plot(par_range, np.mean(val_scores, axis=1), color='red', label='validation accuracy')\n",
    "plt.title('Validation Curve')\n",
    "plt.xlabel(f'model complexity: Pipeline {par_name}')\n",
    "plt.ylabel('model score: Accuracy')\n",
    "plt.legend();"
   ]
  },
  {
   "cell_type": "code",
   "execution_count": 24,
   "metadata": {
    "colab": {},
    "colab_type": "code",
    "id": "72X319liBRxD"
   },
   "outputs": [
    {
     "data": {
      "image/png": "[encoded data removed]",
      "text/plain": [
       "<Figure size 900x600 with 1 Axes>"
      ]
     },
     "metadata": {
      "needs_background": "light"
     },
     "output_type": "display_data"
    }
   ],
   "source": [
    "plt.figure(dpi=150)\n",
    "plt.plot(par_range, np.mean(train_scores, axis=1), color='blue', label='training accuracy')\n",
    "plt.plot(par_range, np.mean(val_scores, axis=1), color='red', label='validation accuracy')\n",
    "plt.title('Validation Curve')\n",
    "plt.xlabel(f'model complexity: Pipeline {par_name}')\n",
    "plt.ylabel('model score: Accuracy')\n",
    "plt.ylim((.77, .8))  # Zoom in\n",
    "plt.xlim((15, 20))  # Zoom in\n",
    "\n",
    "plt.legend();"
   ]
  },
  {
   "cell_type": "code",
   "execution_count": 25,
   "metadata": {
    "colab": {
     "base_uri": "https://localhost:8080/",
     "height": 34
    },
    "colab_type": "code",
    "id": "7_HB-Z3NgC4l",
    "outputId": "078da2d6-34b0-482a-de3b-58ee56cd7caa"
   },
   "outputs": [
    {
     "data": {
      "text/plain": [
       "[74, 54, 100, 70, 64, 64, 57, 60, 96, 88]"
      ]
     },
     "execution_count": 25,
     "metadata": {},
     "output_type": "execute_result"
    }
   ],
   "source": [
    "# from scipy.stats import randint, uniform\n",
    "import random \n",
    "a = [random.randint(50, 100) for i in range(10)]\n",
    "a\n"
   ]
  },
  {
   "cell_type": "code",
   "execution_count": 26,
   "metadata": {
    "colab": {
     "base_uri": "https://localhost:8080/",
     "height": 212
    },
    "colab_type": "code",
    "id": "yoTYpHh3gUvg",
    "outputId": "5f704dca-3d21-48c5-9a94-7a40060a17dd"
   },
   "outputs": [
    {
     "name": "stdout",
     "output_type": "stream",
     "text": [
      "Fitting 5 folds for each of 10 candidates, totalling 50 fits\n"
     ]
    },
    {
     "name": "stderr",
     "output_type": "stream",
     "text": [
      "[Parallel(n_jobs=-1)]: Using backend LokyBackend with 8 concurrent workers.\n",
      "[Parallel(n_jobs=-1)]: Done   2 tasks      | elapsed:   10.5s\n",
      "[Parallel(n_jobs=-1)]: Done   9 tasks      | elapsed:   21.9s\n",
      "[Parallel(n_jobs=-1)]: Done  16 tasks      | elapsed:   57.4s\n",
      "[Parallel(n_jobs=-1)]: Done  25 tasks      | elapsed:  1.5min\n",
      "[Parallel(n_jobs=-1)]: Done  34 tasks      | elapsed:  2.7min\n",
      "[Parallel(n_jobs=-1)]: Done  41 out of  50 | elapsed:  3.0min remaining:   40.0s\n",
      "[Parallel(n_jobs=-1)]: Done  47 out of  50 | elapsed:  3.4min remaining:   13.0s\n",
      "[Parallel(n_jobs=-1)]: Done  50 out of  50 | elapsed:  3.5min finished\n"
     ]
    }
   ],
   "source": [
    "pipeline = make_pipeline(\n",
    "    ce.OrdinalEncoder(), \n",
    "    SimpleImputer(strategy='mean'), \n",
    "    # SelectKBest(f_classif), \n",
    "    RandomForestClassifier(random_state=42, min_samples_split=2)\n",
    ")\n",
    "x_n_iter = 10\n",
    "\n",
    "param_distributions = {\n",
    "    # 'simpleimputer__strategy': ['mean', 'median', 'most_frequent'], \n",
    "    'randomforestclassifier__n_estimators': [random.randint(10, 250) for i in range(x_n_iter)], \n",
    "    'randomforestclassifier__max_depth': [random.randint(7, 28) for i in range(x_n_iter)], \n",
    "}\n",
    "\n",
    "# If you're on Colab, decrease n_iter & cv parameters\n",
    "search = RandomizedSearchCV(\n",
    "    pipeline, \n",
    "    param_distributions=param_distributions, \n",
    "    n_iter=x_n_iter, \n",
    "    cv=5, \n",
    "    scoring='accuracy', \n",
    "    verbose=10, \n",
    "    return_train_score=True, \n",
    "    n_jobs=-1\n",
    ")\n",
    "\n",
    "search.fit(X_train, y_train);"
   ]
  },
  {
   "cell_type": "code",
   "execution_count": 27,
   "metadata": {
    "colab": {
     "base_uri": "https://localhost:8080/",
     "height": 176
    },
    "colab_type": "code",
    "id": "cpJHUya4fP2T",
    "outputId": "3fcce6bd-6718-46d5-855f-1bc1709f9112"
   },
   "outputs": [
    {
     "name": "stdout",
     "output_type": "stream",
     "text": [
      "Model Hyperparameters:\n",
      "{'bootstrap': True, 'ccp_alpha': 0.0, 'class_weight': None, 'criterion': 'gini', 'max_depth': None, 'max_features': 'auto', 'max_leaf_nodes': None, 'max_samples': None, 'min_impurity_decrease': 0.0, 'min_impurity_split': None, 'min_samples_leaf': 1, 'min_samples_split': 2, 'min_weight_fraction_leaf': 0.0, 'n_estimators': 100, 'n_jobs': None, 'oob_score': False, 'random_state': 42, 'verbose': 0, 'warm_start': False}\n"
     ]
    }
   ],
   "source": [
    "print('Model Hyperparameters:')\n",
    "print(pipeline.named_steps['randomforestclassifier'].get_params())"
   ]
  },
  {
   "cell_type": "code",
   "execution_count": 29,
   "metadata": {},
   "outputs": [
    {
     "data": {
      "text/plain": [
       "{'cv': 5,\n",
       " 'error_score': nan,\n",
       " 'estimator__memory': None,\n",
       " 'estimator__steps': [('ordinalencoder', OrdinalEncoder()),\n",
       "  ('simpleimputer', SimpleImputer()),\n",
       "  ('randomforestclassifier', RandomForestClassifier(random_state=42))],\n",
       " 'estimator__verbose': False,\n",
       " 'estimator__ordinalencoder': OrdinalEncoder(),\n",
       " 'estimator__simpleimputer': SimpleImputer(),\n",
       " 'estimator__randomforestclassifier': RandomForestClassifier(random_state=42),\n",
       " 'estimator__ordinalencoder__cols': None,\n",
       " 'estimator__ordinalencoder__drop_invariant': False,\n",
       " 'estimator__ordinalencoder__handle_missing': 'value',\n",
       " 'estimator__ordinalencoder__handle_unknown': 'value',\n",
       " 'estimator__ordinalencoder__mapping': None,\n",
       " 'estimator__ordinalencoder__return_df': True,\n",
       " 'estimator__ordinalencoder__verbose': 0,\n",
       " 'estimator__simpleimputer__add_indicator': False,\n",
       " 'estimator__simpleimputer__copy': True,\n",
       " 'estimator__simpleimputer__fill_value': None,\n",
       " 'estimator__simpleimputer__missing_values': nan,\n",
       " 'estimator__simpleimputer__strategy': 'mean',\n",
       " 'estimator__simpleimputer__verbose': 0,\n",
       " 'estimator__randomforestclassifier__bootstrap': True,\n",
       " 'estimator__randomforestclassifier__ccp_alpha': 0.0,\n",
       " 'estimator__randomforestclassifier__class_weight': None,\n",
       " 'estimator__randomforestclassifier__criterion': 'gini',\n",
       " 'estimator__randomforestclassifier__max_depth': None,\n",
       " 'estimator__randomforestclassifier__max_features': 'auto',\n",
       " 'estimator__randomforestclassifier__max_leaf_nodes': None,\n",
       " 'estimator__randomforestclassifier__max_samples': None,\n",
       " 'estimator__randomforestclassifier__min_impurity_decrease': 0.0,\n",
       " 'estimator__randomforestclassifier__min_impurity_split': None,\n",
       " 'estimator__randomforestclassifier__min_samples_leaf': 1,\n",
       " 'estimator__randomforestclassifier__min_samples_split': 2,\n",
       " 'estimator__randomforestclassifier__min_weight_fraction_leaf': 0.0,\n",
       " 'estimator__randomforestclassifier__n_estimators': 100,\n",
       " 'estimator__randomforestclassifier__n_jobs': None,\n",
       " 'estimator__randomforestclassifier__oob_score': False,\n",
       " 'estimator__randomforestclassifier__random_state': 42,\n",
       " 'estimator__randomforestclassifier__verbose': 0,\n",
       " 'estimator__randomforestclassifier__warm_start': False,\n",
       " 'estimator': Pipeline(steps=[('ordinalencoder', OrdinalEncoder()),\n",
       "                 ('simpleimputer', SimpleImputer()),\n",
       "                 ('randomforestclassifier',\n",
       "                  RandomForestClassifier(random_state=42))]),\n",
       " 'iid': 'deprecated',\n",
       " 'n_iter': 10,\n",
       " 'n_jobs': -1,\n",
       " 'param_distributions': {'randomforestclassifier__n_estimators': [169,\n",
       "   200,\n",
       "   92,\n",
       "   68,\n",
       "   141,\n",
       "   53,\n",
       "   224,\n",
       "   245,\n",
       "   164,\n",
       "   127],\n",
       "  'randomforestclassifier__max_depth': [27,\n",
       "   14,\n",
       "   28,\n",
       "   23,\n",
       "   22,\n",
       "   17,\n",
       "   23,\n",
       "   10,\n",
       "   17,\n",
       "   19]},\n",
       " 'pre_dispatch': '2*n_jobs',\n",
       " 'random_state': None,\n",
       " 'refit': True,\n",
       " 'return_train_score': True,\n",
       " 'scoring': 'accuracy',\n",
       " 'verbose': 10}"
      ]
     },
     "execution_count": 29,
     "metadata": {},
     "output_type": "execute_result"
    }
   ],
   "source": [
    "search.get_params()"
   ]
  },
  {
   "cell_type": "markdown",
   "metadata": {},
   "source": [
    "***The refit=True refit the best model with the entire training data***"
   ]
  },
  {
   "cell_type": "code",
   "execution_count": 30,
   "metadata": {
    "colab": {
     "base_uri": "https://localhost:8080/",
     "height": 52
    },
    "colab_type": "code",
    "id": "AbrWN6i4ma6a",
    "outputId": "89b83bfb-a9da-4b17-b8bd-e875b0b344a8"
   },
   "outputs": [
    {
     "name": "stdout",
     "output_type": "stream",
     "text": [
      "Best hyperparameters {'randomforestclassifier__n_estimators': 245, 'randomforestclassifier__max_depth': 19}\n",
      "Cross-validation Accuracy 0.7940067340067339\n"
     ]
    }
   ],
   "source": [
    "print('Best hyperparameters', search.best_params_)\n",
    "print('Cross-validation Accuracy', search.best_score_)"
   ]
  },
  {
   "cell_type": "code",
   "execution_count": 31,
   "metadata": {
    "colab": {
     "base_uri": "https://localhost:8080/",
     "height": 52
    },
    "colab_type": "code",
    "id": "VKPZtZKib9Lo",
    "outputId": "5abf00e4-f9c8-4c8d-87ea-4e4b4ffc6064"
   },
   "outputs": [
    {
     "data": {
      "text/plain": [
       "array(['functional', 'functional', 'functional', ..., 'functional',\n",
       "       'non functional', 'non functional'], dtype=object)"
      ]
     },
     "execution_count": 31,
     "metadata": {},
     "output_type": "execute_result"
    }
   ],
   "source": [
    "pred1 = search.predict(X_test)\n",
    "pred1"
   ]
  },
  {
   "cell_type": "code",
   "execution_count": 32,
   "metadata": {
    "colab": {},
    "colab_type": "code",
    "id": "YAHpDb4RmaDL"
   },
   "outputs": [],
   "source": [
    "pipeline = search.best_estimator_"
   ]
  },
  {
   "cell_type": "code",
   "execution_count": 35,
   "metadata": {},
   "outputs": [
    {
     "data": {
      "text/plain": [
       "0.9571043771043771"
      ]
     },
     "execution_count": 35,
     "metadata": {},
     "output_type": "execute_result"
    }
   ],
   "source": [
    "print(search.score(X_train, y_train))\n",
    "search.best_estimator_.score(X_train, y_train)"
   ]
  },
  {
   "cell_type": "code",
   "execution_count": 37,
   "metadata": {
    "colab": {
     "base_uri": "https://localhost:8080/",
     "height": 52
    },
    "colab_type": "code",
    "id": "UWqkWCA-obon",
    "outputId": "043cc113-9d7e-4c60-a87d-45dd604e07cc"
   },
   "outputs": [
    {
     "data": {
      "text/plain": [
       "array(['functional', 'functional', 'functional', ..., 'functional',\n",
       "       'non functional', 'non functional'], dtype=object)"
      ]
     },
     "execution_count": 37,
     "metadata": {},
     "output_type": "execute_result"
    }
   ],
   "source": [
    "y_pred = pipeline.predict(X_test)\n",
    "y_pred"
   ]
  },
  {
   "cell_type": "code",
   "execution_count": 38,
   "metadata": {
    "colab": {
     "base_uri": "https://localhost:8080/",
     "height": 52
    },
    "colab_type": "code",
    "id": "1x1WWbyN2nWZ",
    "outputId": "a47a2be3-f109-4de0-b074-c08dbbe0e4ce"
   },
   "outputs": [
    {
     "name": "stdout",
     "output_type": "stream",
     "text": [
      "0\n"
     ]
    },
    {
     "data": {
      "text/plain": [
       "True"
      ]
     },
     "execution_count": 38,
     "metadata": {},
     "output_type": "execute_result"
    }
   ],
   "source": [
    "print(sum(pred1 != y_pred))\n",
    "(pred1 == y_pred).all()"
   ]
  },
  {
   "cell_type": "markdown",
   "metadata": {},
   "source": [
    "* Above shows that RandomSearchCV has been refit by entire training data based on best_estimator_ parameters."
   ]
  },
  {
   "cell_type": "code",
   "execution_count": 41,
   "metadata": {
    "colab": {
     "base_uri": "https://localhost:8080/",
     "height": 70
    },
    "colab_type": "code",
    "id": "zCd-Qrzjb_LW",
    "outputId": "711f40f3-906d-4477-d610-c7ee331c7b9f"
   },
   "outputs": [
    {
     "data": {
      "text/plain": [
       "id              14358\n",
       "status_group        3\n",
       "dtype: int64"
      ]
     },
     "execution_count": 41,
     "metadata": {},
     "output_type": "execute_result"
    }
   ],
   "source": [
    "submission_4 = sample_submission.copy()\n",
    "submission_4[\"status_group\"] = y_pred\n",
    "submission_4.nunique()"
   ]
  },
  {
   "cell_type": "code",
   "execution_count": 42,
   "metadata": {
    "colab": {},
    "colab_type": "code",
    "id": "3n-32RYwcHgN"
   },
   "outputs": [],
   "source": [
    "submission_4.to_csv(\"submission_4.csv\", index=False)"
   ]
  },
  {
   "cell_type": "code",
   "execution_count": null,
   "metadata": {
    "colab": {},
    "colab_type": "code",
    "id": "2djs79ECqYQZ"
   },
   "outputs": [],
   "source": [
    "# Filenames of your submissions you want to ensemble\n",
    "files = ['submission-4.csv', 'submission-05.csv', 'submission-06.csv']\n",
    " \n",
    "target = 'status_group'\n",
    "submissions = (pd.read_csv(file)[[target]] for file in files)\n",
    "ensemble = pd.concat(submissions, axis='columns')\n",
    "majority_vote = ensemble.mode(axis='columns')[0]\n",
    " \n",
    "sample_submission = pd.read_csv('sample_submission.csv')\n",
    "submission = sample_submission.copy()\n",
    "submission[target] = majority_vote\n",
    "submission.to_csv('my-ultimate-ensemble-submission.csv', index=False)"
   ]
  },
  {
   "cell_type": "code",
   "execution_count": 51,
   "metadata": {
    "colab": {
     "base_uri": "https://localhost:8080/",
     "height": 34
    },
    "colab_type": "code",
    "id": "4VOh3Ve5tXVG",
    "outputId": "f5892907-f933-4602-9e64-379682e99909"
   },
   "outputs": [
    {
     "name": "stdout",
     "output_type": "stream",
     "text": [
      "<scipy.stats._distn_infrastructure.rv_frozen object at 0x7f31b193c198>\n"
     ]
    }
   ],
   "source": []
  }
 ],
 "metadata": {
  "colab": {
   "collapsed_sections": [],
   "include_colab_link": true,
   "name": "skhabiri_LS_DS_223_assignment.ipynb",
   "provenance": []
  },
  "kernelspec": {
   "display_name": "Python 3",
   "language": "python",
   "name": "python3"
  },
  "language_info": {
   "codemirror_mode": {
    "name": "ipython",
    "version": 3
   },
   "file_extension": ".py",
   "mimetype": "text/x-python",
   "name": "python",
   "nbconvert_exporter": "python",
   "pygments_lexer": "ipython3",
   "version": "3.7.8"
  }
 },
 "nbformat": 4,
 "nbformat_minor": 4
}
