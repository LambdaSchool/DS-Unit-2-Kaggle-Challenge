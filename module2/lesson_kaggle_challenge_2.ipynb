{
 "cells": [
  {
   "cell_type": "markdown",
   "metadata": {
    "colab_type": "text",
    "id": "UEHyIgGaaSEJ"
   },
   "source": [
    "Lambda School Data Science\n",
    "\n",
    "*Unit 2, Sprint 2, Module 2*\n",
    "\n",
    "---"
   ]
  },
  {
   "cell_type": "markdown",
   "metadata": {
    "colab_type": "text",
    "id": "mRfPLX4WgLVJ"
   },
   "source": [
    "# Kaggle Challenge, Module 2"
   ]
  },
  {
   "cell_type": "markdown",
   "metadata": {
    "colab_type": "text",
    "id": "jRRNhkxcgLVK"
   },
   "source": [
    "- use scikit-learn for **random forests**\n",
    "- do **ordinal encoding** with high-cardinality categoricals\n",
    "- understand how categorical encodings affect trees differently compared to linear models\n",
    "- understand how tree ensembles reduce overfitting compared to a single decision tree with unlimited depth"
   ]
  },
  {
   "cell_type": "markdown",
   "metadata": {
    "colab_type": "text",
    "id": "-3TH11e1gLVL"
   },
   "source": [
    "### Summary \n",
    "\n",
    "#### Try Tree Ensembles when you do machine learning with labeled, tabular data\n",
    "- \"Tree Ensembles\" means Random Forest or Gradient Boosting models. \n",
    "- [Tree Ensembles often have the best predictive accuracy](https://arxiv.org/abs/1708.05070) with labeled, tabular data.\n",
    "- Why? Because trees can fit non-linear, non-[monotonic](https://en.wikipedia.org/wiki/Monotonic_function) relationships, and [interactions](https://christophm.github.io/interpretable-ml-book/interaction.html) between features.\n",
    "- A single decision tree, grown to unlimited depth, will [overfit](http://www.r2d3.us/visual-intro-to-machine-learning-part-1/). We solve this problem by ensembling trees, with bagging (Random Forest) or boosting (Gradient Boosting).\n",
    "- Random Forest's advantage: may be less sensitive to hyperparameters. Gradient Boosting's advantage: may get better predictive accuracy.\n",
    "\n",
    "#### One-hot encoding isn’t the only way, and may not be the best way, of categorical encoding for tree ensembles.\n",
    "- For example, tree ensembles can work with arbitrary \"ordinal\" encoding! (Randomly assigning an integer to each category.) Compared to one-hot encoding, the dimensionality will be lower, and the predictive accuracy may be just as good or even better.\n"
   ]
  },
  {
   "cell_type": "markdown",
   "metadata": {
    "colab_type": "text",
    "id": "r5PbOFEuFfGF"
   },
   "source": [
    "### Setup\n",
    "\n",
    "You can work locally (follow the [local setup instructions](https://lambdaschool.github.io/ds/unit2/local/)) or on Colab (run the code cell below)."
   ]
  },
  {
   "cell_type": "code",
   "execution_count": 1,
   "metadata": {
    "colab": {},
    "colab_type": "code",
    "id": "FStAplyRFoEu"
   },
   "outputs": [],
   "source": [
    "import os, sys\n",
    "in_colab = 'google.colab' in sys.modules\n",
    "\n",
    "# If you're in Colab...\n",
    "if in_colab:\n",
    "    # Pull files from Github repo\n",
    "    os.chdir('/content')\n",
    "    !git init .\n",
    "    !git remote add origin https://github.com/LambdaSchool/DS-Unit-2-Kaggle-Challenge.git\n",
    "    !git pull origin master\n",
    "    \n",
    "    # Install required python packages\n",
    "    !pip install -r requirements.txt\n",
    "    \n",
    "    # Change into directory for module\n",
    "    os.chdir('module2')"
   ]
  },
  {
   "cell_type": "markdown",
   "metadata": {
    "colab_type": "text",
    "id": "gHFxMCPSgLVM"
   },
   "source": [
    "### Solution example\n",
    "\n",
    "> Define a function to wrangle train, validate, and test sets in the same way. Clean outliers and engineer features. (For example, [what other columns have zeros and shouldn't?](https://github.com/Quartz/bad-data-guide#zeros-replace-missing-values) What other columns are duplicates, or nearly duplicates? Can you extract the year from date_recorded? Can you engineer new features, such as the number of years from waterpump construction to waterpump inspection?)"
   ]
  },
  {
   "cell_type": "code",
   "execution_count": 2,
   "metadata": {
    "colab": {},
    "colab_type": "code",
    "id": "YTLm-rDagLVM"
   },
   "outputs": [],
   "source": [
    "import numpy as np\n",
    "import pandas as pd\n",
    "from sklearn.model_selection import train_test_split\n",
    "\n",
    "# Merge train_features.csv & train_labels.csv\n",
    "train = pd.merge(pd.read_csv('../data/tanzania/train_features.csv'), \n",
    "                 pd.read_csv('../data/tanzania/train_labels.csv'))\n",
    "\n",
    "# Read test_features.csv & sample_submission.csv\n",
    "test = pd.read_csv('../data/tanzania/test_features.csv')\n",
    "sample_submission = pd.read_csv('../data/tanzania/sample_submission.csv')\n",
    "\n",
    "# Split train into train & val\n",
    "train, val = train_test_split(train, train_size=0.80, test_size=0.20, \n",
    "                              stratify=train['status_group'], random_state=42)\n",
    "\n",
    "\n",
    "def wrangle(X):\n",
    "    \"\"\"Wrangle train, validate, and test sets in the same way\"\"\"\n",
    "    \n",
    "    # Prevent SettingWithCopyWarning\n",
    "    X = X.copy()\n",
    "    \n",
    "    # About 3% of the time, latitude has small values near zero,\n",
    "    # outside Tanzania, so we'll treat these values like zero.\n",
    "    X['latitude'] = X['latitude'].replace(-2e-08, 0)\n",
    "    \n",
    "    # When columns have zeros and shouldn't, they are like null values.\n",
    "    # So we will replace the zeros with nulls, and impute missing values later.\n",
    "    # Also create a \"missing indicator\" column, because the fact that\n",
    "    # values are missing may be a predictive signal.\n",
    "    cols_with_zeros = ['longitude', 'latitude', 'construction_year', \n",
    "                       'gps_height', 'population']\n",
    "    for col in cols_with_zeros:\n",
    "        X[col] = X[col].replace(0, np.nan)\n",
    "        X[col+'_MISSING'] = X[col].isnull()\n",
    "            \n",
    "    # Drop duplicate columns\n",
    "    duplicates = ['quantity_group', 'payment_type']\n",
    "    X = X.drop(columns=duplicates)\n",
    "    \n",
    "    # Drop recorded_by (never varies) and id (always varies, random)\n",
    "    unusable_variance = ['recorded_by', 'id']\n",
    "    X = X.drop(columns=unusable_variance)\n",
    "    \n",
    "    # Convert date_recorded to datetime\n",
    "    X['date_recorded'] = pd.to_datetime(X['date_recorded'], infer_datetime_format=True)\n",
    "    \n",
    "    # Extract components from date_recorded, then drop the original column\n",
    "    X['year_recorded'] = X['date_recorded'].dt.year\n",
    "    X['month_recorded'] = X['date_recorded'].dt.month\n",
    "    X['day_recorded'] = X['date_recorded'].dt.day\n",
    "    X = X.drop(columns='date_recorded')\n",
    "    \n",
    "    # Engineer feature: how many years from construction_year to date_recorded\n",
    "    X['years'] = X['year_recorded'] - X['construction_year']\n",
    "    X['years_MISSING'] = X['years'].isnull()\n",
    "    \n",
    "    # return the wrangled dataframe\n",
    "    return X\n",
    "\n",
    "train = wrangle(train)\n",
    "val = wrangle(val)\n",
    "test = wrangle(test)"
   ]
  },
  {
   "cell_type": "code",
   "execution_count": 3,
   "metadata": {
    "colab": {},
    "colab_type": "code",
    "id": "m2HppBvZgLVP"
   },
   "outputs": [],
   "source": [
    "# The status_group column is the target\n",
    "target = 'status_group'\n",
    "\n",
    "# Get a dataframe with all train columns except the target\n",
    "train_features = train.drop(columns=[target])\n",
    "\n",
    "# Get a list of the numeric features\n",
    "numeric_features = train_features.select_dtypes(include='number').columns.tolist()\n",
    "\n",
    "# Get a series with the cardinality of the nonnumeric features\n",
    "cardinality = train_features.select_dtypes(exclude='number').nunique()\n",
    "\n",
    "# Get a list of all categorical features with cardinality <= 50\n",
    "categorical_features = cardinality[cardinality <= 50].index.tolist()\n",
    "\n",
    "# Combine the lists \n",
    "features = numeric_features + categorical_features"
   ]
  },
  {
   "cell_type": "code",
   "execution_count": 4,
   "metadata": {
    "colab": {},
    "colab_type": "code",
    "id": "aXmK2brXgLVR"
   },
   "outputs": [],
   "source": [
    "# Arrange data into X features matrix and y target vector \n",
    "X_train = train[features]\n",
    "y_train = train[target]\n",
    "X_val = val[features]\n",
    "y_val = val[target]\n",
    "X_test = test[features]"
   ]
  },
  {
   "cell_type": "markdown",
   "metadata": {
    "colab_type": "text",
    "id": "ZL-yK8B7gLVW"
   },
   "source": [
    "# Use scikit-learn for random forests\n",
    "\n",
    "[Scikit-Learn User Guide: Random Forests](https://scikit-learn.org/stable/modules/ensemble.html#random-forests) "
   ]
  },
  {
   "cell_type": "code",
   "execution_count": 5,
   "metadata": {},
   "outputs": [],
   "source": [
    "# imports\n",
    "import category_encoders as ce\n",
    "from sklearn.impute import SimpleImputer\n",
    "from sklearn.ensemble import RandomForestClassifier\n",
    "from sklearn.pipeline import make_pipeline\n",
    "import matplotlib.pyplot as plt\n",
    "plt.style.use('dark_background')\n",
    "%matplotlib inline"
   ]
  },
  {
   "cell_type": "code",
   "execution_count": 6,
   "metadata": {
    "colab": {},
    "colab_type": "code",
    "id": "57yyygsdgLVW"
   },
   "outputs": [],
   "source": [
    "# TODO\n",
    "\n",
    "pipeline = make_pipeline(\n",
    "    ce.OneHotEncoder(use_cat_names='True'),\n",
    "    SimpleImputer(strategy='median'),\n",
    "    RandomForestClassifier(n_estimators=2, random_state=42)\n",
    ")"
   ]
  },
  {
   "cell_type": "code",
   "execution_count": 7,
   "metadata": {},
   "outputs": [
    {
     "name": "stdout",
     "output_type": "stream",
     "text": [
      "validation accuracy:  0.7621212121212121\n",
      "Wall time: 7.39 s\n"
     ]
    }
   ],
   "source": [
    "%%time\n",
    "pipeline.fit(X_train, y_train)\n",
    "print('validation accuracy: ', pipeline.score(X_val,y_val))"
   ]
  },
  {
   "cell_type": "code",
   "execution_count": 8,
   "metadata": {},
   "outputs": [
    {
     "data": {
      "text/plain": [
       "amount_tsh                                     0.024955\n",
       "gps_height                                     0.056488\n",
       "longitude                                      0.119900\n",
       "latitude                                       0.108649\n",
       "num_private                                    0.001215\n",
       "region_code                                    0.011221\n",
       "district_code                                  0.015641\n",
       "population                                     0.036998\n",
       "construction_year                              0.034831\n",
       "year_recorded                                  0.005723\n",
       "month_recorded                                 0.019965\n",
       "day_recorded                                   0.055304\n",
       "years                                          0.037850\n",
       "basin_Lake Nyasa                               0.003174\n",
       "basin_Rufiji                                   0.001894\n",
       "basin_Wami / Ruvu                              0.002170\n",
       "basin_Lake Victoria                            0.002434\n",
       "basin_Internal                                 0.006406\n",
       "basin_Lake Tanganyika                          0.001818\n",
       "basin_Pangani                                  0.002045\n",
       "basin_Lake Rukwa                               0.003616\n",
       "basin_Ruvuma / Southern Coast                  0.001679\n",
       "region_Mbeya                                   0.001154\n",
       "region_Iringa                                  0.001557\n",
       "region_Pwani                                   0.001429\n",
       "region_Kagera                                  0.001161\n",
       "region_Dodoma                                  0.001985\n",
       "region_Rukwa                                   0.000709\n",
       "region_Arusha                                  0.001255\n",
       "region_Mwanza                                  0.001049\n",
       "                                                 ...   \n",
       "source_unknown                                 0.000203\n",
       "source_type_spring                             0.006974\n",
       "source_type_shallow well                       0.001598\n",
       "source_type_borehole                           0.002553\n",
       "source_type_river/lake                         0.002413\n",
       "source_type_rainwater harvesting               0.002117\n",
       "source_type_dam                                0.000762\n",
       "source_type_other                              0.000337\n",
       "source_class_groundwater                       0.004604\n",
       "source_class_surface                           0.002593\n",
       "source_class_unknown                           0.000348\n",
       "waterpoint_type_communal standpipe             0.016233\n",
       "waterpoint_type_hand pump                      0.002989\n",
       "waterpoint_type_other                          0.016378\n",
       "waterpoint_type_communal standpipe multiple    0.005231\n",
       "waterpoint_type_improved spring                0.000410\n",
       "waterpoint_type_cattle trough                  0.000058\n",
       "waterpoint_type_dam                            0.000000\n",
       "waterpoint_type_group_communal standpipe       0.002284\n",
       "waterpoint_type_group_hand pump                0.004633\n",
       "waterpoint_type_group_other                    0.006406\n",
       "waterpoint_type_group_improved spring          0.001536\n",
       "waterpoint_type_group_cattle trough            0.000106\n",
       "waterpoint_type_group_dam                      0.000020\n",
       "longitude_MISSING                              0.002426\n",
       "latitude_MISSING                               0.000890\n",
       "construction_year_MISSING                      0.002661\n",
       "gps_height_MISSING                             0.002262\n",
       "population_MISSING                             0.001496\n",
       "years_MISSING                                  0.001680\n",
       "Length: 182, dtype: float64"
      ]
     },
     "execution_count": 8,
     "metadata": {},
     "output_type": "execute_result"
    }
   ],
   "source": [
    "rf = pipeline.named_steps['randomforestclassifier']\n",
    "encoder = pipeline.named_steps['onehotencoder']\n",
    "encoded = encoder.transform(X_train)\n",
    "\n",
    "importances = pd.Series(rf.feature_importances_,encoded.columns)\n",
    "importances"
   ]
  },
  {
   "cell_type": "code",
   "execution_count": 9,
   "metadata": {},
   "outputs": [
    {
     "data": {
      "text/plain": [
       "<matplotlib.axes._subplots.AxesSubplot at 0x1ad49282208>"
      ]
     },
     "execution_count": 9,
     "metadata": {},
     "output_type": "execute_result"
    },
    {
     "data": {
      "image/png": "[encoded data removed]",
      "text/plain": [
       "<Figure size 720x720 with 1 Axes>"
      ]
     },
     "metadata": {
      "needs_background": "dark"
     },
     "output_type": "display_data"
    }
   ],
   "source": [
    "n = 20\n",
    "plt.figure(figsize=(10,10))\n",
    "importances.sort_values()[-n:].plot.barh(color='grey')"
   ]
  },
  {
   "cell_type": "code",
   "execution_count": 10,
   "metadata": {},
   "outputs": [
    {
     "name": "stdout",
     "output_type": "stream",
     "text": [
      "X_train shape before encoding (47520, 38)\n",
      "X_train shape after encoding (47520, 182)\n"
     ]
    }
   ],
   "source": [
    "print ('X_train shape before encoding', X_train.shape)\n",
    "\n",
    "encoder = pipeline.named_steps['onehotencoder']\n",
    "encoded = encoder.transform(X_train)\n",
    "print ('X_train shape after encoding', encoded.shape)"
   ]
  },
  {
   "cell_type": "markdown",
   "metadata": {
    "colab_type": "text",
    "id": "yfyk_aa5gLVY"
   },
   "source": [
    "# Do ordinal encoding with high-cardinality categoricals\n",
    "\n",
    "http://contrib.scikit-learn.org/categorical-encoding/ordinal.html"
   ]
  },
  {
   "cell_type": "code",
   "execution_count": 13,
   "metadata": {
    "colab": {},
    "colab_type": "code",
    "id": "b8d_WJtcgLVZ"
   },
   "outputs": [
    {
     "name": "stdout",
     "output_type": "stream",
     "text": [
      "Validation accuracy 0.7725589225589226\n"
     ]
    }
   ],
   "source": [
    "# TODO\n",
    "\n",
    "X_train = train.drop(columns=target)\n",
    "y_train = train[target]\n",
    "X_val = val.drop(columns=target)\n",
    "y_val = val[target]\n",
    "X_test = test\n",
    "\n",
    "pipeline = make_pipeline(\n",
    "   ce.OrdinalEncoder(),\n",
    "   SimpleImputer(strategy='median'),\n",
    "   RandomForestClassifier(n_estimators=5, random_state=42, n_jobs=-1) \n",
    ")\n",
    "\n",
    "pipeline.fit(X_train, y_train)\n",
    "print ('Validation accuracy', pipeline.score(X_val, y_val))"
   ]
  },
  {
   "cell_type": "code",
   "execution_count": 14,
   "metadata": {},
   "outputs": [
    {
     "name": "stdout",
     "output_type": "stream",
     "text": [
      "X_train shape before encoding (47520, 45)\n",
      "X_train shape after encoding (47520, 45)\n"
     ]
    }
   ],
   "source": [
    "print ('X_train shape before encoding', X_train.shape)\n",
    "\n",
    "encoder = pipeline.named_steps['ordinalencoder']\n",
    "encoded = encoder.transform(X_train)\n",
    "\n",
    "print ('X_train shape after encoding', encoded.shape)"
   ]
  },
  {
   "cell_type": "code",
   "execution_count": 15,
   "metadata": {},
   "outputs": [
    {
     "data": {
      "text/plain": [
       "<matplotlib.axes._subplots.AxesSubplot at 0x1ad48ba0588>"
      ]
     },
     "execution_count": 15,
     "metadata": {},
     "output_type": "execute_result"
    },
    {
     "data": {
      "image/png": "[encoded data removed]",
      "text/plain": [
       "<Figure size 720x720 with 1 Axes>"
      ]
     },
     "metadata": {
      "needs_background": "dark"
     },
     "output_type": "display_data"
    }
   ],
   "source": [
    "rf = pipeline.named_steps['randomforestclassifier']\n",
    "encoder = pipeline.named_steps['ordinalencoder']\n",
    "encoded = encoder.transform(X_train)\n",
    "\n",
    "importances = pd.Series(rf.feature_importances_, encoded.columns)\n",
    "\n",
    "n = 20\n",
    "plt.figure(figsize=(10, 10))\n",
    "importances.sort_values()[-n:].plot.barh(color='grey')"
   ]
  },
  {
   "cell_type": "markdown",
   "metadata": {
    "colab_type": "text",
    "id": "xs2UPoVdgLVp"
   },
   "source": [
    "# Understand how categorical encodings affect trees differently compared to linear models"
   ]
  },
  {
   "cell_type": "markdown",
   "metadata": {
    "colab_type": "text",
    "id": "z8V-A92mgLVp"
   },
   "source": [
    "### Categorical exploration, 1 feature at a time\n",
    "\n",
    "Change `feature`, then re-run these cells!"
   ]
  },
  {
   "cell_type": "code",
   "execution_count": 16,
   "metadata": {
    "colab": {},
    "colab_type": "code",
    "id": "G35RAzVdgLVq"
   },
   "outputs": [],
   "source": [
    "feature = 'extraction_type_class'"
   ]
  },
  {
   "cell_type": "code",
   "execution_count": 17,
   "metadata": {
    "colab": {},
    "colab_type": "code",
    "id": "OuxHWiH8gLVr"
   },
   "outputs": [
    {
     "data": {
      "text/plain": [
       "gravity         21448\n",
       "handpump        13184\n",
       "other            5193\n",
       "submersible      4894\n",
       "motorpump        2355\n",
       "rope pump         353\n",
       "wind-powered       93\n",
       "Name: extraction_type_class, dtype: int64"
      ]
     },
     "execution_count": 17,
     "metadata": {},
     "output_type": "execute_result"
    }
   ],
   "source": [
    "X_train[feature].value_counts()"
   ]
  },
  {
   "cell_type": "code",
   "execution_count": 18,
   "metadata": {
    "colab": {},
    "colab_type": "code",
    "id": "pVxoC4NngLVt"
   },
   "outputs": [
    {
     "data": {
      "image/png": "[encoded data removed]",
      "text/plain": [
       "<Figure size 1152x648 with 1 Axes>"
      ]
     },
     "metadata": {
      "needs_background": "dark"
     },
     "output_type": "display_data"
    }
   ],
   "source": [
    "import seaborn as sns\n",
    "plt.figure(figsize=(16,9))\n",
    "sns.barplot(\n",
    "    x=train[feature], \n",
    "    y=train['status_group']=='functional', \n",
    "    color='grey'\n",
    ");"
   ]
  },
  {
   "cell_type": "code",
   "execution_count": null,
   "metadata": {
    "colab": {},
    "colab_type": "code",
    "id": "w99mek14gLVv"
   },
   "outputs": [],
   "source": [
    "X_train[feature].head(20)"
   ]
  },
  {
   "cell_type": "markdown",
   "metadata": {
    "colab_type": "text",
    "id": "ezzK2IdbgLVx"
   },
   "source": [
    "### [One Hot Encoding](http://contrib.scikit-learn.org/categorical-encoding/onehot.html)\n",
    "\n",
    "> Onehot (or dummy) coding for categorical features, produces one feature per category, each binary.\n",
    "\n",
    "Warning: May run slow, or run out of memory, with high cardinality categoricals!"
   ]
  },
  {
   "cell_type": "code",
   "execution_count": 19,
   "metadata": {
    "colab": {},
    "colab_type": "code",
    "id": "HDQZtV6GgLVy"
   },
   "outputs": [
    {
     "name": "stdout",
     "output_type": "stream",
     "text": [
      "7 columns\n"
     ]
    },
    {
     "data": {
      "text/html": [
       "<div>\n",
       "<style scoped>\n",
       "    .dataframe tbody tr th:only-of-type {\n",
       "        vertical-align: middle;\n",
       "    }\n",
       "\n",
       "    .dataframe tbody tr th {\n",
       "        vertical-align: top;\n",
       "    }\n",
       "\n",
       "    .dataframe thead th {\n",
       "        text-align: right;\n",
       "    }\n",
       "</style>\n",
       "<table border=\"1\" class=\"dataframe\">\n",
       "  <thead>\n",
       "    <tr style=\"text-align: right;\">\n",
       "      <th></th>\n",
       "      <th>extraction_type_class_gravity</th>\n",
       "      <th>extraction_type_class_handpump</th>\n",
       "      <th>extraction_type_class_other</th>\n",
       "      <th>extraction_type_class_motorpump</th>\n",
       "      <th>extraction_type_class_submersible</th>\n",
       "      <th>extraction_type_class_rope pump</th>\n",
       "      <th>extraction_type_class_wind-powered</th>\n",
       "    </tr>\n",
       "  </thead>\n",
       "  <tbody>\n",
       "    <tr>\n",
       "      <th>43360</th>\n",
       "      <td>1</td>\n",
       "      <td>0</td>\n",
       "      <td>0</td>\n",
       "      <td>0</td>\n",
       "      <td>0</td>\n",
       "      <td>0</td>\n",
       "      <td>0</td>\n",
       "    </tr>\n",
       "    <tr>\n",
       "      <th>7263</th>\n",
       "      <td>1</td>\n",
       "      <td>0</td>\n",
       "      <td>0</td>\n",
       "      <td>0</td>\n",
       "      <td>0</td>\n",
       "      <td>0</td>\n",
       "      <td>0</td>\n",
       "    </tr>\n",
       "    <tr>\n",
       "      <th>2486</th>\n",
       "      <td>0</td>\n",
       "      <td>1</td>\n",
       "      <td>0</td>\n",
       "      <td>0</td>\n",
       "      <td>0</td>\n",
       "      <td>0</td>\n",
       "      <td>0</td>\n",
       "    </tr>\n",
       "    <tr>\n",
       "      <th>313</th>\n",
       "      <td>0</td>\n",
       "      <td>0</td>\n",
       "      <td>1</td>\n",
       "      <td>0</td>\n",
       "      <td>0</td>\n",
       "      <td>0</td>\n",
       "      <td>0</td>\n",
       "    </tr>\n",
       "    <tr>\n",
       "      <th>52726</th>\n",
       "      <td>0</td>\n",
       "      <td>0</td>\n",
       "      <td>0</td>\n",
       "      <td>1</td>\n",
       "      <td>0</td>\n",
       "      <td>0</td>\n",
       "      <td>0</td>\n",
       "    </tr>\n",
       "    <tr>\n",
       "      <th>8558</th>\n",
       "      <td>1</td>\n",
       "      <td>0</td>\n",
       "      <td>0</td>\n",
       "      <td>0</td>\n",
       "      <td>0</td>\n",
       "      <td>0</td>\n",
       "      <td>0</td>\n",
       "    </tr>\n",
       "    <tr>\n",
       "      <th>2559</th>\n",
       "      <td>1</td>\n",
       "      <td>0</td>\n",
       "      <td>0</td>\n",
       "      <td>0</td>\n",
       "      <td>0</td>\n",
       "      <td>0</td>\n",
       "      <td>0</td>\n",
       "    </tr>\n",
       "    <tr>\n",
       "      <th>54735</th>\n",
       "      <td>0</td>\n",
       "      <td>0</td>\n",
       "      <td>0</td>\n",
       "      <td>1</td>\n",
       "      <td>0</td>\n",
       "      <td>0</td>\n",
       "      <td>0</td>\n",
       "    </tr>\n",
       "    <tr>\n",
       "      <th>25763</th>\n",
       "      <td>0</td>\n",
       "      <td>1</td>\n",
       "      <td>0</td>\n",
       "      <td>0</td>\n",
       "      <td>0</td>\n",
       "      <td>0</td>\n",
       "      <td>0</td>\n",
       "    </tr>\n",
       "    <tr>\n",
       "      <th>44540</th>\n",
       "      <td>0</td>\n",
       "      <td>0</td>\n",
       "      <td>0</td>\n",
       "      <td>0</td>\n",
       "      <td>1</td>\n",
       "      <td>0</td>\n",
       "      <td>0</td>\n",
       "    </tr>\n",
       "    <tr>\n",
       "      <th>28603</th>\n",
       "      <td>0</td>\n",
       "      <td>0</td>\n",
       "      <td>1</td>\n",
       "      <td>0</td>\n",
       "      <td>0</td>\n",
       "      <td>0</td>\n",
       "      <td>0</td>\n",
       "    </tr>\n",
       "    <tr>\n",
       "      <th>4372</th>\n",
       "      <td>0</td>\n",
       "      <td>0</td>\n",
       "      <td>0</td>\n",
       "      <td>0</td>\n",
       "      <td>1</td>\n",
       "      <td>0</td>\n",
       "      <td>0</td>\n",
       "    </tr>\n",
       "    <tr>\n",
       "      <th>30666</th>\n",
       "      <td>1</td>\n",
       "      <td>0</td>\n",
       "      <td>0</td>\n",
       "      <td>0</td>\n",
       "      <td>0</td>\n",
       "      <td>0</td>\n",
       "      <td>0</td>\n",
       "    </tr>\n",
       "    <tr>\n",
       "      <th>6431</th>\n",
       "      <td>0</td>\n",
       "      <td>0</td>\n",
       "      <td>0</td>\n",
       "      <td>0</td>\n",
       "      <td>1</td>\n",
       "      <td>0</td>\n",
       "      <td>0</td>\n",
       "    </tr>\n",
       "    <tr>\n",
       "      <th>57420</th>\n",
       "      <td>0</td>\n",
       "      <td>0</td>\n",
       "      <td>1</td>\n",
       "      <td>0</td>\n",
       "      <td>0</td>\n",
       "      <td>0</td>\n",
       "      <td>0</td>\n",
       "    </tr>\n",
       "    <tr>\n",
       "      <th>1373</th>\n",
       "      <td>1</td>\n",
       "      <td>0</td>\n",
       "      <td>0</td>\n",
       "      <td>0</td>\n",
       "      <td>0</td>\n",
       "      <td>0</td>\n",
       "      <td>0</td>\n",
       "    </tr>\n",
       "    <tr>\n",
       "      <th>2026</th>\n",
       "      <td>1</td>\n",
       "      <td>0</td>\n",
       "      <td>0</td>\n",
       "      <td>0</td>\n",
       "      <td>0</td>\n",
       "      <td>0</td>\n",
       "      <td>0</td>\n",
       "    </tr>\n",
       "    <tr>\n",
       "      <th>58977</th>\n",
       "      <td>0</td>\n",
       "      <td>1</td>\n",
       "      <td>0</td>\n",
       "      <td>0</td>\n",
       "      <td>0</td>\n",
       "      <td>0</td>\n",
       "      <td>0</td>\n",
       "    </tr>\n",
       "    <tr>\n",
       "      <th>41101</th>\n",
       "      <td>1</td>\n",
       "      <td>0</td>\n",
       "      <td>0</td>\n",
       "      <td>0</td>\n",
       "      <td>0</td>\n",
       "      <td>0</td>\n",
       "      <td>0</td>\n",
       "    </tr>\n",
       "    <tr>\n",
       "      <th>10019</th>\n",
       "      <td>1</td>\n",
       "      <td>0</td>\n",
       "      <td>0</td>\n",
       "      <td>0</td>\n",
       "      <td>0</td>\n",
       "      <td>0</td>\n",
       "      <td>0</td>\n",
       "    </tr>\n",
       "  </tbody>\n",
       "</table>\n",
       "</div>"
      ],
      "text/plain": [
       "       extraction_type_class_gravity  extraction_type_class_handpump  \\\n",
       "43360                              1                               0   \n",
       "7263                               1                               0   \n",
       "2486                               0                               1   \n",
       "313                                0                               0   \n",
       "52726                              0                               0   \n",
       "8558                               1                               0   \n",
       "2559                               1                               0   \n",
       "54735                              0                               0   \n",
       "25763                              0                               1   \n",
       "44540                              0                               0   \n",
       "28603                              0                               0   \n",
       "4372                               0                               0   \n",
       "30666                              1                               0   \n",
       "6431                               0                               0   \n",
       "57420                              0                               0   \n",
       "1373                               1                               0   \n",
       "2026                               1                               0   \n",
       "58977                              0                               1   \n",
       "41101                              1                               0   \n",
       "10019                              1                               0   \n",
       "\n",
       "       extraction_type_class_other  extraction_type_class_motorpump  \\\n",
       "43360                            0                                0   \n",
       "7263                             0                                0   \n",
       "2486                             0                                0   \n",
       "313                              1                                0   \n",
       "52726                            0                                1   \n",
       "8558                             0                                0   \n",
       "2559                             0                                0   \n",
       "54735                            0                                1   \n",
       "25763                            0                                0   \n",
       "44540                            0                                0   \n",
       "28603                            1                                0   \n",
       "4372                             0                                0   \n",
       "30666                            0                                0   \n",
       "6431                             0                                0   \n",
       "57420                            1                                0   \n",
       "1373                             0                                0   \n",
       "2026                             0                                0   \n",
       "58977                            0                                0   \n",
       "41101                            0                                0   \n",
       "10019                            0                                0   \n",
       "\n",
       "       extraction_type_class_submersible  extraction_type_class_rope pump  \\\n",
       "43360                                  0                                0   \n",
       "7263                                   0                                0   \n",
       "2486                                   0                                0   \n",
       "313                                    0                                0   \n",
       "52726                                  0                                0   \n",
       "8558                                   0                                0   \n",
       "2559                                   0                                0   \n",
       "54735                                  0                                0   \n",
       "25763                                  0                                0   \n",
       "44540                                  1                                0   \n",
       "28603                                  0                                0   \n",
       "4372                                   1                                0   \n",
       "30666                                  0                                0   \n",
       "6431                                   1                                0   \n",
       "57420                                  0                                0   \n",
       "1373                                   0                                0   \n",
       "2026                                   0                                0   \n",
       "58977                                  0                                0   \n",
       "41101                                  0                                0   \n",
       "10019                                  0                                0   \n",
       "\n",
       "       extraction_type_class_wind-powered  \n",
       "43360                                   0  \n",
       "7263                                    0  \n",
       "2486                                    0  \n",
       "313                                     0  \n",
       "52726                                   0  \n",
       "8558                                    0  \n",
       "2559                                    0  \n",
       "54735                                   0  \n",
       "25763                                   0  \n",
       "44540                                   0  \n",
       "28603                                   0  \n",
       "4372                                    0  \n",
       "30666                                   0  \n",
       "6431                                    0  \n",
       "57420                                   0  \n",
       "1373                                    0  \n",
       "2026                                    0  \n",
       "58977                                   0  \n",
       "41101                                   0  \n",
       "10019                                   0  "
      ]
     },
     "execution_count": 19,
     "metadata": {},
     "output_type": "execute_result"
    }
   ],
   "source": [
    "encoder = ce.OneHotEncoder(use_cat_names=True)\n",
    "encoded = encoder.fit_transform(X_train[[feature]])\n",
    "print(f'{len(encoded.columns)} columns')\n",
    "encoded.head(20)"
   ]
  },
  {
   "cell_type": "markdown",
   "metadata": {
    "colab_type": "text",
    "id": "1Ql9Qmw3sNJ7"
   },
   "source": [
    "#### One-Hot Encoding, Logistic Regression, Validation Accuracy"
   ]
  },
  {
   "cell_type": "code",
   "execution_count": 20,
   "metadata": {
    "colab": {},
    "colab_type": "code",
    "id": "mT4A-oDGpOss"
   },
   "outputs": [
    {
     "name": "stdout",
     "output_type": "stream",
     "text": [
      "Logistic Regression, Validation Accuracy 0.6202861952861953\n"
     ]
    }
   ],
   "source": [
    "from sklearn.linear_model import LogisticRegressionCV\n",
    "from sklearn.preprocessing import StandardScaler\n",
    "\n",
    "lr = make_pipeline(\n",
    "    ce.OneHotEncoder(use_cat_names=True), \n",
    "    SimpleImputer(), \n",
    "    StandardScaler(), \n",
    "    LogisticRegressionCV(multi_class='auto', solver='lbfgs', cv=5, n_jobs=-1)\n",
    ")\n",
    "\n",
    "lr.fit(X_train[[feature]], y_train)\n",
    "score = lr.score(X_val[[feature]], y_val)\n",
    "print('Logistic Regression, Validation Accuracy', score)"
   ]
  },
  {
   "cell_type": "markdown",
   "metadata": {
    "colab_type": "text",
    "id": "EbH6wivpsRuV"
   },
   "source": [
    "#### One-Hot Encoding, Decision Tree, Validation Accuracy"
   ]
  },
  {
   "cell_type": "code",
   "execution_count": 21,
   "metadata": {
    "colab": {},
    "colab_type": "code",
    "id": "b6KUluFOqIdK"
   },
   "outputs": [
    {
     "name": "stdout",
     "output_type": "stream",
     "text": [
      "Decision Tree, Validation Accuracy 0.6202861952861953\n"
     ]
    }
   ],
   "source": [
    "from sklearn.tree import DecisionTreeClassifier\n",
    "\n",
    "dt = make_pipeline(\n",
    "    ce.OneHotEncoder(use_cat_names=True), \n",
    "    SimpleImputer(), \n",
    "    DecisionTreeClassifier(random_state=42)\n",
    ")\n",
    "\n",
    "dt.fit(X_train[[feature]], y_train)\n",
    "score = dt.score(X_val[[feature]], y_val)\n",
    "print('Decision Tree, Validation Accuracy', score)"
   ]
  },
  {
   "cell_type": "markdown",
   "metadata": {
    "colab_type": "text",
    "id": "8yg11_gTsUu6"
   },
   "source": [
    "#### One-Hot Encoding, Logistic Regression, Model Interpretation"
   ]
  },
  {
   "cell_type": "code",
   "execution_count": 22,
   "metadata": {
    "colab": {},
    "colab_type": "code",
    "id": "IxHwXGRornNI"
   },
   "outputs": [
    {
     "data": {
      "image/png": "[encoded data removed]",
      "text/plain": [
       "<Figure size 432x288 with 1 Axes>"
      ]
     },
     "metadata": {
      "needs_background": "dark"
     },
     "output_type": "display_data"
    }
   ],
   "source": [
    "model = lr.named_steps['logisticregressioncv']\n",
    "encoder = lr.named_steps['onehotencoder']\n",
    "encoded_columns = encoder.transform(X_val[[feature]]).columns\n",
    "coefficients = pd.Series(model.coef_[0], encoded_columns)\n",
    "coefficients.sort_values().plot.barh(color='grey');"
   ]
  },
  {
   "cell_type": "markdown",
   "metadata": {
    "colab_type": "text",
    "id": "0REZ8HdpsccR"
   },
   "source": [
    "#### One-Hot Encoding, Decision Tree, Model Interpretation"
   ]
  },
  {
   "cell_type": "code",
   "execution_count": 23,
   "metadata": {
    "colab": {},
    "colab_type": "code",
    "id": "gV-grmYKpDp9"
   },
   "outputs": [
    {
     "data": {
      "image/svg+xml": [
       "<?xml version=\"1.0\" encoding=\"UTF-8\" standalone=\"no\"?>\r\n",
       "<!DOCTYPE svg PUBLIC \"-//W3C//DTD SVG 1.1//EN\"\r\n",
       " \"http://www.w3.org/Graphics/SVG/1.1/DTD/svg11.dtd\">\r\n",
       "<!-- Generated by graphviz version 2.38.0 (20140413.2041)\r\n",
       " -->\r\n",
       "<!-- Title: Tree Pages: 1 -->\r\n",
       "<svg width=\"1002pt\" height=\"668pt\"\r\n",
       " viewBox=\"0.00 0.00 1001.50 668.00\" xmlns=\"http://www.w3.org/2000/svg\" xmlns:xlink=\"http://www.w3.org/1999/xlink\">\r\n",
       "<g id=\"graph0\" class=\"graph\" transform=\"scale(1 1) rotate(0) translate(4 664)\">\r\n",
       "<title>Tree</title>\r\n",
       "<polygon fill=\"white\" stroke=\"none\" points=\"-4,4 -4,-664 997.5,-664 997.5,4 -4,4\"/>\r\n",
       "<!-- 0 -->\r\n",
       "<g id=\"node1\" class=\"node\"><title>0</title>\r\n",
       "<path fill=\"#f8decc\" stroke=\"black\" d=\"M879,-660C879,-660 664,-660 664,-660 658,-660 652,-654 652,-648 652,-648 652,-604 652,-604 652,-598 658,-592 664,-592 664,-592 879,-592 879,-592 885,-592 891,-598 891,-604 891,-604 891,-648 891,-648 891,-654 885,-660 879,-660\"/>\r\n",
       "<text text-anchor=\"middle\" x=\"771.5\" y=\"-644.8\" font-family=\"Helvetica,sans-Serif\" font-size=\"14.00\">extraction_type_class_other &lt;= 0.5</text>\r\n",
       "<text text-anchor=\"middle\" x=\"771.5\" y=\"-629.8\" font-family=\"Helvetica,sans-Serif\" font-size=\"14.00\">samples = 100.0%</text>\r\n",
       "<text text-anchor=\"middle\" x=\"771.5\" y=\"-614.8\" font-family=\"Helvetica,sans-Serif\" font-size=\"14.00\">value = [0.543, 0.073, 0.384]</text>\r\n",
       "<text text-anchor=\"middle\" x=\"771.5\" y=\"-599.8\" font-family=\"Helvetica,sans-Serif\" font-size=\"14.00\">class = functional</text>\r\n",
       "</g>\r\n",
       "<!-- 1 -->\r\n",
       "<g id=\"node2\" class=\"node\"><title>1</title>\r\n",
       "<path fill=\"#f5ceb2\" stroke=\"black\" d=\"M773,-556C773,-556 518,-556 518,-556 512,-556 506,-550 506,-544 506,-544 506,-500 506,-500 506,-494 512,-488 518,-488 518,-488 773,-488 773,-488 779,-488 785,-494 785,-500 785,-500 785,-544 785,-544 785,-550 779,-556 773,-556\"/>\r\n",
       "<text text-anchor=\"middle\" x=\"645.5\" y=\"-540.8\" font-family=\"Helvetica,sans-Serif\" font-size=\"14.00\">extraction_type_class_motorpump &lt;= 0.5</text>\r\n",
       "<text text-anchor=\"middle\" x=\"645.5\" y=\"-525.8\" font-family=\"Helvetica,sans-Serif\" font-size=\"14.00\">samples = 89.1%</text>\r\n",
       "<text text-anchor=\"middle\" x=\"645.5\" y=\"-510.8\" font-family=\"Helvetica,sans-Serif\" font-size=\"14.00\">value = [0.59, 0.078, 0.332]</text>\r\n",
       "<text text-anchor=\"middle\" x=\"645.5\" y=\"-495.8\" font-family=\"Helvetica,sans-Serif\" font-size=\"14.00\">class = functional</text>\r\n",
       "</g>\r\n",
       "<!-- 0&#45;&gt;1 -->\r\n",
       "<g id=\"edge1\" class=\"edge\"><title>0&#45;&gt;1</title>\r\n",
       "<path fill=\"none\" stroke=\"black\" d=\"M730.591,-591.884C719.148,-582.62 706.591,-572.455 694.721,-562.845\"/>\r\n",
       "<polygon fill=\"black\" stroke=\"black\" points=\"696.609,-559.871 686.635,-556.299 692.205,-565.312 696.609,-559.871\"/>\r\n",
       "<text text-anchor=\"middle\" x=\"689.252\" y=\"-577.462\" font-family=\"Helvetica,sans-Serif\" font-size=\"14.00\">True</text>\r\n",
       "</g>\r\n",
       "<!-- 12 -->\r\n",
       "<g id=\"node13\" class=\"node\"><title>12</title>\r\n",
       "<path fill=\"#9d66eb\" stroke=\"black\" d=\"M981.5,-548.5C981.5,-548.5 815.5,-548.5 815.5,-548.5 809.5,-548.5 803.5,-542.5 803.5,-536.5 803.5,-536.5 803.5,-507.5 803.5,-507.5 803.5,-501.5 809.5,-495.5 815.5,-495.5 815.5,-495.5 981.5,-495.5 981.5,-495.5 987.5,-495.5 993.5,-501.5 993.5,-507.5 993.5,-507.5 993.5,-536.5 993.5,-536.5 993.5,-542.5 987.5,-548.5 981.5,-548.5\"/>\r\n",
       "<text text-anchor=\"middle\" x=\"898.5\" y=\"-533.3\" font-family=\"Helvetica,sans-Serif\" font-size=\"14.00\">samples = 10.9%</text>\r\n",
       "<text text-anchor=\"middle\" x=\"898.5\" y=\"-518.3\" font-family=\"Helvetica,sans-Serif\" font-size=\"14.00\">value = [0.159, 0.031, 0.81]</text>\r\n",
       "<text text-anchor=\"middle\" x=\"898.5\" y=\"-503.3\" font-family=\"Helvetica,sans-Serif\" font-size=\"14.00\">class = non functional</text>\r\n",
       "</g>\r\n",
       "<!-- 0&#45;&gt;12 -->\r\n",
       "<g id=\"edge12\" class=\"edge\"><title>0&#45;&gt;12</title>\r\n",
       "<path fill=\"none\" stroke=\"black\" d=\"M812.733,-591.884C827.522,-580.006 844.156,-566.646 858.811,-554.876\"/>\r\n",
       "<polygon fill=\"black\" stroke=\"black\" points=\"861.12,-557.511 866.725,-548.52 856.737,-552.053 861.12,-557.511\"/>\r\n",
       "<text text-anchor=\"middle\" x=\"864.012\" y=\"-569.672\" font-family=\"Helvetica,sans-Serif\" font-size=\"14.00\">False</text>\r\n",
       "</g>\r\n",
       "<!-- 2 -->\r\n",
       "<g id=\"node3\" class=\"node\"><title>2</title>\r\n",
       "<path fill=\"#f4caac\" stroke=\"black\" d=\"M646.5,-452C646.5,-452 386.5,-452 386.5,-452 380.5,-452 374.5,-446 374.5,-440 374.5,-440 374.5,-396 374.5,-396 374.5,-390 380.5,-384 386.5,-384 386.5,-384 646.5,-384 646.5,-384 652.5,-384 658.5,-390 658.5,-396 658.5,-396 658.5,-440 658.5,-440 658.5,-446 652.5,-452 646.5,-452\"/>\r\n",
       "<text text-anchor=\"middle\" x=\"516.5\" y=\"-436.8\" font-family=\"Helvetica,sans-Serif\" font-size=\"14.00\">extraction_type_class_submersible &lt;= 0.5</text>\r\n",
       "<text text-anchor=\"middle\" x=\"516.5\" y=\"-421.8\" font-family=\"Helvetica,sans-Serif\" font-size=\"14.00\">samples = 84.1%</text>\r\n",
       "<text text-anchor=\"middle\" x=\"516.5\" y=\"-406.8\" font-family=\"Helvetica,sans-Serif\" font-size=\"14.00\">value = [0.603, 0.08, 0.318]</text>\r\n",
       "<text text-anchor=\"middle\" x=\"516.5\" y=\"-391.8\" font-family=\"Helvetica,sans-Serif\" font-size=\"14.00\">class = functional</text>\r\n",
       "</g>\r\n",
       "<!-- 1&#45;&gt;2 -->\r\n",
       "<g id=\"edge2\" class=\"edge\"><title>1&#45;&gt;2</title>\r\n",
       "<path fill=\"none\" stroke=\"black\" d=\"M603.617,-487.884C591.789,-478.531 578.799,-468.259 566.542,-458.568\"/>\r\n",
       "<polygon fill=\"black\" stroke=\"black\" points=\"568.629,-455.756 558.614,-452.299 564.287,-461.247 568.629,-455.756\"/>\r\n",
       "</g>\r\n",
       "<!-- 11 -->\r\n",
       "<g id=\"node12\" class=\"node\"><title>11</title>\r\n",
       "<path fill=\"#d8c1f7\" stroke=\"black\" d=\"M862.5,-444.5C862.5,-444.5 688.5,-444.5 688.5,-444.5 682.5,-444.5 676.5,-438.5 676.5,-432.5 676.5,-432.5 676.5,-403.5 676.5,-403.5 676.5,-397.5 682.5,-391.5 688.5,-391.5 688.5,-391.5 862.5,-391.5 862.5,-391.5 868.5,-391.5 874.5,-397.5 874.5,-403.5 874.5,-403.5 874.5,-432.5 874.5,-432.5 874.5,-438.5 868.5,-444.5 862.5,-444.5\"/>\r\n",
       "<text text-anchor=\"middle\" x=\"775.5\" y=\"-429.3\" font-family=\"Helvetica,sans-Serif\" font-size=\"14.00\">samples = 5.0%</text>\r\n",
       "<text text-anchor=\"middle\" x=\"775.5\" y=\"-414.3\" font-family=\"Helvetica,sans-Serif\" font-size=\"14.00\">value = [0.381, 0.045, 0.574]</text>\r\n",
       "<text text-anchor=\"middle\" x=\"775.5\" y=\"-399.3\" font-family=\"Helvetica,sans-Serif\" font-size=\"14.00\">class = non functional</text>\r\n",
       "</g>\r\n",
       "<!-- 1&#45;&gt;11 -->\r\n",
       "<g id=\"edge11\" class=\"edge\"><title>1&#45;&gt;11</title>\r\n",
       "<path fill=\"none\" stroke=\"black\" d=\"M687.707,-487.884C702.846,-476.006 719.872,-462.646 734.874,-450.876\"/>\r\n",
       "<polygon fill=\"black\" stroke=\"black\" points=\"737.268,-453.446 742.975,-444.52 732.947,-447.939 737.268,-453.446\"/>\r\n",
       "</g>\r\n",
       "<!-- 3 -->\r\n",
       "<g id=\"node4\" class=\"node\"><title>3</title>\r\n",
       "<path fill=\"#f4c7a8\" stroke=\"black\" d=\"M508,-348C508,-348 285,-348 285,-348 279,-348 273,-342 273,-336 273,-336 273,-292 273,-292 273,-286 279,-280 285,-280 285,-280 508,-280 508,-280 514,-280 520,-286 520,-292 520,-292 520,-336 520,-336 520,-342 514,-348 508,-348\"/>\r\n",
       "<text text-anchor=\"middle\" x=\"396.5\" y=\"-332.8\" font-family=\"Helvetica,sans-Serif\" font-size=\"14.00\">extraction_type_class_gravity &lt;= 0.5</text>\r\n",
       "<text text-anchor=\"middle\" x=\"396.5\" y=\"-317.8\" font-family=\"Helvetica,sans-Serif\" font-size=\"14.00\">samples = 73.8%</text>\r\n",
       "<text text-anchor=\"middle\" x=\"396.5\" y=\"-302.8\" font-family=\"Helvetica,sans-Serif\" font-size=\"14.00\">value = [0.611, 0.085, 0.304]</text>\r\n",
       "<text text-anchor=\"middle\" x=\"396.5\" y=\"-287.8\" font-family=\"Helvetica,sans-Serif\" font-size=\"14.00\">class = functional</text>\r\n",
       "</g>\r\n",
       "<!-- 2&#45;&gt;3 -->\r\n",
       "<g id=\"edge3\" class=\"edge\"><title>2&#45;&gt;3</title>\r\n",
       "<path fill=\"none\" stroke=\"black\" d=\"M477.539,-383.884C466.641,-374.62 454.682,-364.455 443.377,-354.845\"/>\r\n",
       "<polygon fill=\"black\" stroke=\"black\" points=\"445.562,-352.109 435.676,-348.299 441.028,-357.443 445.562,-352.109\"/>\r\n",
       "</g>\r\n",
       "<!-- 10 -->\r\n",
       "<g id=\"node11\" class=\"node\"><title>10</title>\r\n",
       "<path fill=\"#f9e4d5\" stroke=\"black\" d=\"M724.5,-340.5C724.5,-340.5 550.5,-340.5 550.5,-340.5 544.5,-340.5 538.5,-334.5 538.5,-328.5 538.5,-328.5 538.5,-299.5 538.5,-299.5 538.5,-293.5 544.5,-287.5 550.5,-287.5 550.5,-287.5 724.5,-287.5 724.5,-287.5 730.5,-287.5 736.5,-293.5 736.5,-299.5 736.5,-299.5 736.5,-328.5 736.5,-328.5 736.5,-334.5 730.5,-340.5 724.5,-340.5\"/>\r\n",
       "<text text-anchor=\"middle\" x=\"637.5\" y=\"-325.3\" font-family=\"Helvetica,sans-Serif\" font-size=\"14.00\">samples = 10.3%</text>\r\n",
       "<text text-anchor=\"middle\" x=\"637.5\" y=\"-310.3\" font-family=\"Helvetica,sans-Serif\" font-size=\"14.00\">value = [0.541, 0.042, 0.416]</text>\r\n",
       "<text text-anchor=\"middle\" x=\"637.5\" y=\"-295.3\" font-family=\"Helvetica,sans-Serif\" font-size=\"14.00\">class = functional</text>\r\n",
       "</g>\r\n",
       "<!-- 2&#45;&gt;10 -->\r\n",
       "<g id=\"edge10\" class=\"edge\"><title>2&#45;&gt;10</title>\r\n",
       "<path fill=\"none\" stroke=\"black\" d=\"M555.785,-383.884C569.745,-372.116 585.43,-358.894 599.298,-347.203\"/>\r\n",
       "<polygon fill=\"black\" stroke=\"black\" points=\"601.836,-349.641 607.226,-340.52 597.325,-344.289 601.836,-349.641\"/>\r\n",
       "</g>\r\n",
       "<!-- 4 -->\r\n",
       "<g id=\"node5\" class=\"node\"><title>4</title>\r\n",
       "<path fill=\"#f3c5a4\" stroke=\"black\" d=\"M400,-244C400,-244 129,-244 129,-244 123,-244 117,-238 117,-232 117,-232 117,-188 117,-188 117,-182 123,-176 129,-176 129,-176 400,-176 400,-176 406,-176 412,-182 412,-188 412,-188 412,-232 412,-232 412,-238 406,-244 400,-244\"/>\r\n",
       "<text text-anchor=\"middle\" x=\"264.5\" y=\"-228.8\" font-family=\"Helvetica,sans-Serif\" font-size=\"14.00\">extraction_type_class_wind&#45;powered &lt;= 0.5</text>\r\n",
       "<text text-anchor=\"middle\" x=\"264.5\" y=\"-213.8\" font-family=\"Helvetica,sans-Serif\" font-size=\"14.00\">samples = 28.7%</text>\r\n",
       "<text text-anchor=\"middle\" x=\"264.5\" y=\"-198.8\" font-family=\"Helvetica,sans-Serif\" font-size=\"14.00\">value = [0.629, 0.059, 0.311]</text>\r\n",
       "<text text-anchor=\"middle\" x=\"264.5\" y=\"-183.8\" font-family=\"Helvetica,sans-Serif\" font-size=\"14.00\">class = functional</text>\r\n",
       "</g>\r\n",
       "<!-- 3&#45;&gt;4 -->\r\n",
       "<g id=\"edge4\" class=\"edge\"><title>3&#45;&gt;4</title>\r\n",
       "<path fill=\"none\" stroke=\"black\" d=\"M353.643,-279.884C341.54,-270.531 328.247,-260.259 315.706,-250.568\"/>\r\n",
       "<polygon fill=\"black\" stroke=\"black\" points=\"317.646,-247.644 307.593,-244.299 313.366,-253.183 317.646,-247.644\"/>\r\n",
       "</g>\r\n",
       "<!-- 9 -->\r\n",
       "<g id=\"node10\" class=\"node\"><title>9</title>\r\n",
       "<path fill=\"#f4c9aa\" stroke=\"black\" d=\"M616.5,-236.5C616.5,-236.5 442.5,-236.5 442.5,-236.5 436.5,-236.5 430.5,-230.5 430.5,-224.5 430.5,-224.5 430.5,-195.5 430.5,-195.5 430.5,-189.5 436.5,-183.5 442.5,-183.5 442.5,-183.5 616.5,-183.5 616.5,-183.5 622.5,-183.5 628.5,-189.5 628.5,-195.5 628.5,-195.5 628.5,-224.5 628.5,-224.5 628.5,-230.5 622.5,-236.5 616.5,-236.5\"/>\r\n",
       "<text text-anchor=\"middle\" x=\"529.5\" y=\"-221.3\" font-family=\"Helvetica,sans-Serif\" font-size=\"14.00\">samples = 45.1%</text>\r\n",
       "<text text-anchor=\"middle\" x=\"529.5\" y=\"-206.3\" font-family=\"Helvetica,sans-Serif\" font-size=\"14.00\">value = [0.599, 0.101, 0.299]</text>\r\n",
       "<text text-anchor=\"middle\" x=\"529.5\" y=\"-191.3\" font-family=\"Helvetica,sans-Serif\" font-size=\"14.00\">class = functional</text>\r\n",
       "</g>\r\n",
       "<!-- 3&#45;&gt;9 -->\r\n",
       "<g id=\"edge9\" class=\"edge\"><title>3&#45;&gt;9</title>\r\n",
       "<path fill=\"none\" stroke=\"black\" d=\"M439.681,-279.884C455.169,-268.006 472.589,-254.646 487.936,-242.876\"/>\r\n",
       "<polygon fill=\"black\" stroke=\"black\" points=\"490.419,-245.383 496.224,-236.52 486.159,-239.828 490.419,-245.383\"/>\r\n",
       "</g>\r\n",
       "<!-- 5 -->\r\n",
       "<g id=\"node6\" class=\"node\"><title>5</title>\r\n",
       "<path fill=\"#f3c4a3\" stroke=\"black\" d=\"M263,-140C263,-140 12,-140 12,-140 6,-140 0,-134 0,-128 0,-128 0,-84 0,-84 0,-78 6,-72 12,-72 12,-72 263,-72 263,-72 269,-72 275,-78 275,-84 275,-84 275,-128 275,-128 275,-134 269,-140 263,-140\"/>\r\n",
       "<text text-anchor=\"middle\" x=\"137.5\" y=\"-124.8\" font-family=\"Helvetica,sans-Serif\" font-size=\"14.00\">extraction_type_class_rope pump &lt;= 0.5</text>\r\n",
       "<text text-anchor=\"middle\" x=\"137.5\" y=\"-109.8\" font-family=\"Helvetica,sans-Serif\" font-size=\"14.00\">samples = 28.5%</text>\r\n",
       "<text text-anchor=\"middle\" x=\"137.5\" y=\"-94.8\" font-family=\"Helvetica,sans-Serif\" font-size=\"14.00\">value = [0.631, 0.059, 0.31]</text>\r\n",
       "<text text-anchor=\"middle\" x=\"137.5\" y=\"-79.8\" font-family=\"Helvetica,sans-Serif\" font-size=\"14.00\">class = functional</text>\r\n",
       "</g>\r\n",
       "<!-- 4&#45;&gt;5 -->\r\n",
       "<g id=\"edge5\" class=\"edge\"><title>4&#45;&gt;5</title>\r\n",
       "<path fill=\"none\" stroke=\"black\" d=\"M223.267,-175.884C211.622,-166.531 198.833,-156.259 186.766,-146.568\"/>\r\n",
       "<polygon fill=\"black\" stroke=\"black\" points=\"188.949,-143.832 178.961,-140.299 184.566,-149.29 188.949,-143.832\"/>\r\n",
       "</g>\r\n",
       "<!-- 8 -->\r\n",
       "<g id=\"node9\" class=\"node\"><title>8</title>\r\n",
       "<path fill=\"#f8f3fd\" stroke=\"black\" d=\"M479.5,-132.5C479.5,-132.5 305.5,-132.5 305.5,-132.5 299.5,-132.5 293.5,-126.5 293.5,-120.5 293.5,-120.5 293.5,-91.5 293.5,-91.5 293.5,-85.5 299.5,-79.5 305.5,-79.5 305.5,-79.5 479.5,-79.5 479.5,-79.5 485.5,-79.5 491.5,-85.5 491.5,-91.5 491.5,-91.5 491.5,-120.5 491.5,-120.5 491.5,-126.5 485.5,-132.5 479.5,-132.5\"/>\r\n",
       "<text text-anchor=\"middle\" x=\"392.5\" y=\"-117.3\" font-family=\"Helvetica,sans-Serif\" font-size=\"14.00\">samples = 0.2%</text>\r\n",
       "<text text-anchor=\"middle\" x=\"392.5\" y=\"-102.3\" font-family=\"Helvetica,sans-Serif\" font-size=\"14.00\">value = [0.452, 0.065, 0.484]</text>\r\n",
       "<text text-anchor=\"middle\" x=\"392.5\" y=\"-87.3\" font-family=\"Helvetica,sans-Serif\" font-size=\"14.00\">class = non functional</text>\r\n",
       "</g>\r\n",
       "<!-- 4&#45;&gt;8 -->\r\n",
       "<g id=\"edge8\" class=\"edge\"><title>4&#45;&gt;8</title>\r\n",
       "<path fill=\"none\" stroke=\"black\" d=\"M306.058,-175.884C320.963,-164.006 337.728,-150.646 352.499,-138.876\"/>\r\n",
       "<polygon fill=\"black\" stroke=\"black\" points=\"354.836,-141.489 360.475,-132.52 350.473,-136.015 354.836,-141.489\"/>\r\n",
       "</g>\r\n",
       "<!-- 6 -->\r\n",
       "<g id=\"node7\" class=\"node\"><title>6</title>\r\n",
       "<path fill=\"#c0c0c0\" stroke=\"black\" d=\"M116.5,-36C116.5,-36 86.5,-36 86.5,-36 80.5,-36 74.5,-30 74.5,-24 74.5,-24 74.5,-12 74.5,-12 74.5,-6 80.5,-0 86.5,-0 86.5,-0 116.5,-0 116.5,-0 122.5,-0 128.5,-6 128.5,-12 128.5,-12 128.5,-24 128.5,-24 128.5,-30 122.5,-36 116.5,-36\"/>\r\n",
       "<text text-anchor=\"middle\" x=\"101.5\" y=\"-14.3\" font-family=\"Helvetica,sans-Serif\" font-size=\"14.00\">(...)</text>\r\n",
       "</g>\r\n",
       "<!-- 5&#45;&gt;6 -->\r\n",
       "<g id=\"edge6\" class=\"edge\"><title>5&#45;&gt;6</title>\r\n",
       "<path fill=\"none\" stroke=\"black\" d=\"M123.684,-71.9961C120.036,-63.2804 116.145,-53.9846 112.656,-45.6514\"/>\r\n",
       "<polygon fill=\"black\" stroke=\"black\" points=\"115.875,-44.2763 108.785,-36.4034 109.418,-46.9793 115.875,-44.2763\"/>\r\n",
       "</g>\r\n",
       "<!-- 7 -->\r\n",
       "<g id=\"node8\" class=\"node\"><title>7</title>\r\n",
       "<path fill=\"#c0c0c0\" stroke=\"black\" d=\"M188.5,-36C188.5,-36 158.5,-36 158.5,-36 152.5,-36 146.5,-30 146.5,-24 146.5,-24 146.5,-12 146.5,-12 146.5,-6 152.5,-0 158.5,-0 158.5,-0 188.5,-0 188.5,-0 194.5,-0 200.5,-6 200.5,-12 200.5,-12 200.5,-24 200.5,-24 200.5,-30 194.5,-36 188.5,-36\"/>\r\n",
       "<text text-anchor=\"middle\" x=\"173.5\" y=\"-14.3\" font-family=\"Helvetica,sans-Serif\" font-size=\"14.00\">(...)</text>\r\n",
       "</g>\r\n",
       "<!-- 5&#45;&gt;7 -->\r\n",
       "<g id=\"edge7\" class=\"edge\"><title>5&#45;&gt;7</title>\r\n",
       "<path fill=\"none\" stroke=\"black\" d=\"M151.316,-71.9961C154.964,-63.2804 158.855,-53.9846 162.344,-45.6514\"/>\r\n",
       "<polygon fill=\"black\" stroke=\"black\" points=\"165.582,-46.9793 166.215,-36.4034 159.125,-44.2763 165.582,-46.9793\"/>\r\n",
       "</g>\r\n",
       "</g>\r\n",
       "</svg>\r\n"
      ],
      "text/plain": [
       "<graphviz.files.Source at 0x1ad451eaac8>"
      ]
     },
     "metadata": {},
     "output_type": "display_data"
    }
   ],
   "source": [
    "# Plot tree\n",
    "# https://scikit-learn.org/stable/modules/generated/sklearn.tree.export_graphviz.html\n",
    "import graphviz\n",
    "from sklearn.tree import export_graphviz\n",
    "\n",
    "model = dt.named_steps['decisiontreeclassifier']\n",
    "encoder = dt.named_steps['onehotencoder']\n",
    "encoded_columns = encoder.transform(X_val[[feature]]).columns\n",
    "\n",
    "dot_data = export_graphviz(model, \n",
    "                           out_file=None, \n",
    "                           max_depth=5, \n",
    "                           feature_names=encoded_columns,\n",
    "                           class_names=model.classes_, \n",
    "                           impurity=False, \n",
    "                           filled=True, \n",
    "                           proportion=True, \n",
    "                           rounded=True)   \n",
    "display(graphviz.Source(dot_data))"
   ]
  },
  {
   "cell_type": "markdown",
   "metadata": {
    "colab_type": "text",
    "id": "QUd6gzcZgLVz"
   },
   "source": [
    "### [Ordinal Encoding](http://contrib.scikit-learn.org/categorical-encoding/ordinal.html)\n",
    "\n",
    "> Ordinal encoding uses a single column of integers to represent the classes. An optional mapping dict can be passed in; in this case, we use the knowledge that there is some true order to the classes themselves. Otherwise, the classes are assumed to have no true order and integers are selected at random."
   ]
  },
  {
   "cell_type": "code",
   "execution_count": 24,
   "metadata": {
    "colab": {},
    "colab_type": "code",
    "id": "CnBz2RbwgLVz"
   },
   "outputs": [
    {
     "name": "stdout",
     "output_type": "stream",
     "text": [
      "1 column, 7 unique values\n"
     ]
    },
    {
     "data": {
      "text/html": [
       "<div>\n",
       "<style scoped>\n",
       "    .dataframe tbody tr th:only-of-type {\n",
       "        vertical-align: middle;\n",
       "    }\n",
       "\n",
       "    .dataframe tbody tr th {\n",
       "        vertical-align: top;\n",
       "    }\n",
       "\n",
       "    .dataframe thead th {\n",
       "        text-align: right;\n",
       "    }\n",
       "</style>\n",
       "<table border=\"1\" class=\"dataframe\">\n",
       "  <thead>\n",
       "    <tr style=\"text-align: right;\">\n",
       "      <th></th>\n",
       "      <th>extraction_type_class</th>\n",
       "    </tr>\n",
       "  </thead>\n",
       "  <tbody>\n",
       "    <tr>\n",
       "      <th>43360</th>\n",
       "      <td>1</td>\n",
       "    </tr>\n",
       "    <tr>\n",
       "      <th>7263</th>\n",
       "      <td>1</td>\n",
       "    </tr>\n",
       "    <tr>\n",
       "      <th>2486</th>\n",
       "      <td>2</td>\n",
       "    </tr>\n",
       "    <tr>\n",
       "      <th>313</th>\n",
       "      <td>3</td>\n",
       "    </tr>\n",
       "    <tr>\n",
       "      <th>52726</th>\n",
       "      <td>4</td>\n",
       "    </tr>\n",
       "    <tr>\n",
       "      <th>8558</th>\n",
       "      <td>1</td>\n",
       "    </tr>\n",
       "    <tr>\n",
       "      <th>2559</th>\n",
       "      <td>1</td>\n",
       "    </tr>\n",
       "    <tr>\n",
       "      <th>54735</th>\n",
       "      <td>4</td>\n",
       "    </tr>\n",
       "    <tr>\n",
       "      <th>25763</th>\n",
       "      <td>2</td>\n",
       "    </tr>\n",
       "    <tr>\n",
       "      <th>44540</th>\n",
       "      <td>5</td>\n",
       "    </tr>\n",
       "    <tr>\n",
       "      <th>28603</th>\n",
       "      <td>3</td>\n",
       "    </tr>\n",
       "    <tr>\n",
       "      <th>4372</th>\n",
       "      <td>5</td>\n",
       "    </tr>\n",
       "    <tr>\n",
       "      <th>30666</th>\n",
       "      <td>1</td>\n",
       "    </tr>\n",
       "    <tr>\n",
       "      <th>6431</th>\n",
       "      <td>5</td>\n",
       "    </tr>\n",
       "    <tr>\n",
       "      <th>57420</th>\n",
       "      <td>3</td>\n",
       "    </tr>\n",
       "    <tr>\n",
       "      <th>1373</th>\n",
       "      <td>1</td>\n",
       "    </tr>\n",
       "    <tr>\n",
       "      <th>2026</th>\n",
       "      <td>1</td>\n",
       "    </tr>\n",
       "    <tr>\n",
       "      <th>58977</th>\n",
       "      <td>2</td>\n",
       "    </tr>\n",
       "    <tr>\n",
       "      <th>41101</th>\n",
       "      <td>1</td>\n",
       "    </tr>\n",
       "    <tr>\n",
       "      <th>10019</th>\n",
       "      <td>1</td>\n",
       "    </tr>\n",
       "  </tbody>\n",
       "</table>\n",
       "</div>"
      ],
      "text/plain": [
       "       extraction_type_class\n",
       "43360                      1\n",
       "7263                       1\n",
       "2486                       2\n",
       "313                        3\n",
       "52726                      4\n",
       "8558                       1\n",
       "2559                       1\n",
       "54735                      4\n",
       "25763                      2\n",
       "44540                      5\n",
       "28603                      3\n",
       "4372                       5\n",
       "30666                      1\n",
       "6431                       5\n",
       "57420                      3\n",
       "1373                       1\n",
       "2026                       1\n",
       "58977                      2\n",
       "41101                      1\n",
       "10019                      1"
      ]
     },
     "execution_count": 24,
     "metadata": {},
     "output_type": "execute_result"
    }
   ],
   "source": [
    "encoder = ce.OrdinalEncoder()\n",
    "encoded = encoder.fit_transform(X_train[[feature]])\n",
    "print(f'1 column, {encoded[feature].nunique()} unique values')\n",
    "encoded.head(20)"
   ]
  },
  {
   "cell_type": "markdown",
   "metadata": {
    "colab_type": "text",
    "id": "Nd-ZWprasqUM"
   },
   "source": [
    "#### Ordinal Encoding, Logistic Regression, Validation Accuracy"
   ]
  },
  {
   "cell_type": "code",
   "execution_count": 25,
   "metadata": {
    "colab": {},
    "colab_type": "code",
    "id": "GJ1YpwjvrhfL"
   },
   "outputs": [
    {
     "name": "stdout",
     "output_type": "stream",
     "text": [
      "Logistic Regression, Validation Accuracy 0.5417508417508418\n"
     ]
    }
   ],
   "source": [
    "lr = make_pipeline(\n",
    "    ce.OrdinalEncoder(), \n",
    "    SimpleImputer(), \n",
    "    StandardScaler(), \n",
    "    LogisticRegressionCV(multi_class='auto', solver='lbfgs', cv=5, n_jobs=-1)\n",
    ")\n",
    "\n",
    "lr.fit(X_train[[feature]], y_train)\n",
    "score = lr.score(X_val[[feature]], y_val)\n",
    "print('Logistic Regression, Validation Accuracy', score)"
   ]
  },
  {
   "cell_type": "markdown",
   "metadata": {
    "colab_type": "text",
    "id": "9lO_R3SksuHs"
   },
   "source": [
    "#### Ordinal Encoding, Decision Tree, Validation Accuracy"
   ]
  },
  {
   "cell_type": "code",
   "execution_count": 26,
   "metadata": {
    "colab": {},
    "colab_type": "code",
    "id": "aOELD_roriVI"
   },
   "outputs": [
    {
     "name": "stdout",
     "output_type": "stream",
     "text": [
      "Decision Tree, Validation Accuracy 0.6202861952861953\n"
     ]
    }
   ],
   "source": [
    "dt = make_pipeline(\n",
    "    ce.OrdinalEncoder(), \n",
    "    SimpleImputer(), \n",
    "    DecisionTreeClassifier(random_state=42)\n",
    ")\n",
    "\n",
    "dt.fit(X_train[[feature]], y_train)\n",
    "score = dt.score(X_val[[feature]], y_val)\n",
    "print('Decision Tree, Validation Accuracy', score)"
   ]
  },
  {
   "cell_type": "markdown",
   "metadata": {
    "colab_type": "text",
    "id": "7V2zHjiwswTg"
   },
   "source": [
    "#### Ordinal Encoding, Logistic Regression, Model Interpretation"
   ]
  },
  {
   "cell_type": "code",
   "execution_count": 27,
   "metadata": {
    "colab": {},
    "colab_type": "code",
    "id": "S9UPYPois8QR"
   },
   "outputs": [
    {
     "data": {
      "image/png": "[encoded data removed]",
      "text/plain": [
       "<Figure size 432x288 with 1 Axes>"
      ]
     },
     "metadata": {
      "needs_background": "dark"
     },
     "output_type": "display_data"
    }
   ],
   "source": [
    "model = lr.named_steps['logisticregressioncv']\n",
    "encoder = lr.named_steps['ordinalencoder']\n",
    "encoded_columns = encoder.transform(X_val[[feature]]).columns\n",
    "coefficients = pd.Series(model.coef_[0], encoded_columns)\n",
    "coefficients.sort_values().plot.barh(color='grey');"
   ]
  },
  {
   "cell_type": "markdown",
   "metadata": {
    "colab_type": "text",
    "id": "MvmmvE8fsymh"
   },
   "source": [
    "#### Ordinal Encoding, Decision Tree, Model Interpretation"
   ]
  },
  {
   "cell_type": "code",
   "execution_count": 28,
   "metadata": {
    "colab": {},
    "colab_type": "code",
    "id": "jCvUu4Oms88b"
   },
   "outputs": [
    {
     "data": {
      "image/svg+xml": [
       "<?xml version=\"1.0\" encoding=\"UTF-8\" standalone=\"no\"?>\r\n",
       "<!DOCTYPE svg PUBLIC \"-//W3C//DTD SVG 1.1//EN\"\r\n",
       " \"http://www.w3.org/Graphics/SVG/1.1/DTD/svg11.dtd\">\r\n",
       "<!-- Generated by graphviz version 2.38.0 (20140413.2041)\r\n",
       " -->\r\n",
       "<!-- Title: Tree Pages: 1 -->\r\n",
       "<svg width=\"1154pt\" height=\"581pt\"\r\n",
       " viewBox=\"0.00 0.00 1154.00 581.00\" xmlns=\"http://www.w3.org/2000/svg\" xmlns:xlink=\"http://www.w3.org/1999/xlink\">\r\n",
       "<g id=\"graph0\" class=\"graph\" transform=\"scale(1 1) rotate(0) translate(4 577)\">\r\n",
       "<title>Tree</title>\r\n",
       "<polygon fill=\"white\" stroke=\"none\" points=\"-4,4 -4,-577 1150,-577 1150,4 -4,4\"/>\r\n",
       "<!-- 0 -->\r\n",
       "<g id=\"node1\" class=\"node\"><title>0</title>\r\n",
       "<path fill=\"#f8decc\" stroke=\"black\" d=\"M494,-573C494,-573 320,-573 320,-573 314,-573 308,-567 308,-561 308,-561 308,-517 308,-517 308,-511 314,-505 320,-505 320,-505 494,-505 494,-505 500,-505 506,-511 506,-517 506,-517 506,-561 506,-561 506,-567 500,-573 494,-573\"/>\r\n",
       "<text text-anchor=\"middle\" x=\"407\" y=\"-557.8\" font-family=\"Helvetica,sans-Serif\" font-size=\"14.00\">extraction_type_class &lt;= 2.5</text>\r\n",
       "<text text-anchor=\"middle\" x=\"407\" y=\"-542.8\" font-family=\"Helvetica,sans-Serif\" font-size=\"14.00\">samples = 100.0%</text>\r\n",
       "<text text-anchor=\"middle\" x=\"407\" y=\"-527.8\" font-family=\"Helvetica,sans-Serif\" font-size=\"14.00\">value = [0.543, 0.073, 0.384]</text>\r\n",
       "<text text-anchor=\"middle\" x=\"407\" y=\"-512.8\" font-family=\"Helvetica,sans-Serif\" font-size=\"14.00\">class = functional</text>\r\n",
       "</g>\r\n",
       "<!-- 1 -->\r\n",
       "<g id=\"node2\" class=\"node\"><title>1</title>\r\n",
       "<path fill=\"#f4c7a8\" stroke=\"black\" d=\"M386,-469C386,-469 212,-469 212,-469 206,-469 200,-463 200,-457 200,-457 200,-413 200,-413 200,-407 206,-401 212,-401 212,-401 386,-401 386,-401 392,-401 398,-407 398,-413 398,-413 398,-457 398,-457 398,-463 392,-469 386,-469\"/>\r\n",
       "<text text-anchor=\"middle\" x=\"299\" y=\"-453.8\" font-family=\"Helvetica,sans-Serif\" font-size=\"14.00\">extraction_type_class &lt;= 1.5</text>\r\n",
       "<text text-anchor=\"middle\" x=\"299\" y=\"-438.8\" font-family=\"Helvetica,sans-Serif\" font-size=\"14.00\">samples = 72.9%</text>\r\n",
       "<text text-anchor=\"middle\" x=\"299\" y=\"-423.8\" font-family=\"Helvetica,sans-Serif\" font-size=\"14.00\">value = [0.611, 0.085, 0.304]</text>\r\n",
       "<text text-anchor=\"middle\" x=\"299\" y=\"-408.8\" font-family=\"Helvetica,sans-Serif\" font-size=\"14.00\">class = functional</text>\r\n",
       "</g>\r\n",
       "<!-- 0&#45;&gt;1 -->\r\n",
       "<g id=\"edge1\" class=\"edge\"><title>0&#45;&gt;1</title>\r\n",
       "<path fill=\"none\" stroke=\"black\" d=\"M371.935,-504.884C362.316,-495.798 351.778,-485.845 341.777,-476.4\"/>\r\n",
       "<polygon fill=\"black\" stroke=\"black\" points=\"343.931,-473.621 334.258,-469.299 339.125,-478.71 343.931,-473.621\"/>\r\n",
       "<text text-anchor=\"middle\" x=\"334.972\" y=\"-490.589\" font-family=\"Helvetica,sans-Serif\" font-size=\"14.00\">True</text>\r\n",
       "</g>\r\n",
       "<!-- 4 -->\r\n",
       "<g id=\"node5\" class=\"node\"><title>4</title>\r\n",
       "<path fill=\"#d0b4f5\" stroke=\"black\" d=\"M602,-469C602,-469 428,-469 428,-469 422,-469 416,-463 416,-457 416,-457 416,-413 416,-413 416,-407 422,-401 428,-401 428,-401 602,-401 602,-401 608,-401 614,-407 614,-413 614,-413 614,-457 614,-457 614,-463 608,-469 602,-469\"/>\r\n",
       "<text text-anchor=\"middle\" x=\"515\" y=\"-453.8\" font-family=\"Helvetica,sans-Serif\" font-size=\"14.00\">extraction_type_class &lt;= 3.5</text>\r\n",
       "<text text-anchor=\"middle\" x=\"515\" y=\"-438.8\" font-family=\"Helvetica,sans-Serif\" font-size=\"14.00\">samples = 27.1%</text>\r\n",
       "<text text-anchor=\"middle\" x=\"515\" y=\"-423.8\" font-family=\"Helvetica,sans-Serif\" font-size=\"14.00\">value = [0.361, 0.038, 0.601]</text>\r\n",
       "<text text-anchor=\"middle\" x=\"515\" y=\"-408.8\" font-family=\"Helvetica,sans-Serif\" font-size=\"14.00\">class = non functional</text>\r\n",
       "</g>\r\n",
       "<!-- 0&#45;&gt;4 -->\r\n",
       "<g id=\"edge4\" class=\"edge\"><title>0&#45;&gt;4</title>\r\n",
       "<path fill=\"none\" stroke=\"black\" d=\"M442.065,-504.884C451.684,-495.798 462.222,-485.845 472.223,-476.4\"/>\r\n",
       "<polygon fill=\"black\" stroke=\"black\" points=\"474.875,-478.71 479.742,-469.299 470.069,-473.621 474.875,-478.71\"/>\r\n",
       "<text text-anchor=\"middle\" x=\"479.028\" y=\"-490.589\" font-family=\"Helvetica,sans-Serif\" font-size=\"14.00\">False</text>\r\n",
       "</g>\r\n",
       "<!-- 2 -->\r\n",
       "<g id=\"node3\" class=\"node\"><title>2</title>\r\n",
       "<path fill=\"#f4c9aa\" stroke=\"black\" d=\"M186,-357.5C186,-357.5 12,-357.5 12,-357.5 6,-357.5 0,-351.5 0,-345.5 0,-345.5 0,-316.5 0,-316.5 0,-310.5 6,-304.5 12,-304.5 12,-304.5 186,-304.5 186,-304.5 192,-304.5 198,-310.5 198,-316.5 198,-316.5 198,-345.5 198,-345.5 198,-351.5 192,-357.5 186,-357.5\"/>\r\n",
       "<text text-anchor=\"middle\" x=\"99\" y=\"-342.3\" font-family=\"Helvetica,sans-Serif\" font-size=\"14.00\">samples = 45.1%</text>\r\n",
       "<text text-anchor=\"middle\" x=\"99\" y=\"-327.3\" font-family=\"Helvetica,sans-Serif\" font-size=\"14.00\">value = [0.599, 0.101, 0.299]</text>\r\n",
       "<text text-anchor=\"middle\" x=\"99\" y=\"-312.3\" font-family=\"Helvetica,sans-Serif\" font-size=\"14.00\">class = functional</text>\r\n",
       "</g>\r\n",
       "<!-- 1&#45;&gt;2 -->\r\n",
       "<g id=\"edge2\" class=\"edge\"><title>1&#45;&gt;2</title>\r\n",
       "<path fill=\"none\" stroke=\"black\" d=\"M234.066,-400.884C209.59,-388.401 181.905,-374.282 158.001,-362.091\"/>\r\n",
       "<polygon fill=\"black\" stroke=\"black\" points=\"159.538,-358.945 149.039,-357.52 156.357,-365.181 159.538,-358.945\"/>\r\n",
       "</g>\r\n",
       "<!-- 3 -->\r\n",
       "<g id=\"node4\" class=\"node\"><title>3</title>\r\n",
       "<path fill=\"#f3c5a3\" stroke=\"black\" d=\"M377.5,-357.5C377.5,-357.5 228.5,-357.5 228.5,-357.5 222.5,-357.5 216.5,-351.5 216.5,-345.5 216.5,-345.5 216.5,-316.5 216.5,-316.5 216.5,-310.5 222.5,-304.5 228.5,-304.5 228.5,-304.5 377.5,-304.5 377.5,-304.5 383.5,-304.5 389.5,-310.5 389.5,-316.5 389.5,-316.5 389.5,-345.5 389.5,-345.5 389.5,-351.5 383.5,-357.5 377.5,-357.5\"/>\r\n",
       "<text text-anchor=\"middle\" x=\"303\" y=\"-342.3\" font-family=\"Helvetica,sans-Serif\" font-size=\"14.00\">samples = 27.7%</text>\r\n",
       "<text text-anchor=\"middle\" x=\"303\" y=\"-327.3\" font-family=\"Helvetica,sans-Serif\" font-size=\"14.00\">value = [0.63, 0.06, 0.31]</text>\r\n",
       "<text text-anchor=\"middle\" x=\"303\" y=\"-312.3\" font-family=\"Helvetica,sans-Serif\" font-size=\"14.00\">class = functional</text>\r\n",
       "</g>\r\n",
       "<!-- 1&#45;&gt;3 -->\r\n",
       "<g id=\"edge3\" class=\"edge\"><title>1&#45;&gt;3</title>\r\n",
       "<path fill=\"none\" stroke=\"black\" d=\"M300.299,-400.884C300.717,-390.216 301.182,-378.352 301.607,-367.519\"/>\r\n",
       "<polygon fill=\"black\" stroke=\"black\" points=\"305.105,-367.649 301.999,-357.52 298.11,-367.375 305.105,-367.649\"/>\r\n",
       "</g>\r\n",
       "<!-- 5 -->\r\n",
       "<g id=\"node6\" class=\"node\"><title>5</title>\r\n",
       "<path fill=\"#9d66eb\" stroke=\"black\" d=\"M594,-357.5C594,-357.5 428,-357.5 428,-357.5 422,-357.5 416,-351.5 416,-345.5 416,-345.5 416,-316.5 416,-316.5 416,-310.5 422,-304.5 428,-304.5 428,-304.5 594,-304.5 594,-304.5 600,-304.5 606,-310.5 606,-316.5 606,-316.5 606,-345.5 606,-345.5 606,-351.5 600,-357.5 594,-357.5\"/>\r\n",
       "<text text-anchor=\"middle\" x=\"511\" y=\"-342.3\" font-family=\"Helvetica,sans-Serif\" font-size=\"14.00\">samples = 10.9%</text>\r\n",
       "<text text-anchor=\"middle\" x=\"511\" y=\"-327.3\" font-family=\"Helvetica,sans-Serif\" font-size=\"14.00\">value = [0.159, 0.031, 0.81]</text>\r\n",
       "<text text-anchor=\"middle\" x=\"511\" y=\"-312.3\" font-family=\"Helvetica,sans-Serif\" font-size=\"14.00\">class = non functional</text>\r\n",
       "</g>\r\n",
       "<!-- 4&#45;&gt;5 -->\r\n",
       "<g id=\"edge5\" class=\"edge\"><title>4&#45;&gt;5</title>\r\n",
       "<path fill=\"none\" stroke=\"black\" d=\"M513.701,-400.884C513.283,-390.216 512.818,-378.352 512.393,-367.519\"/>\r\n",
       "<polygon fill=\"black\" stroke=\"black\" points=\"515.89,-367.375 512.001,-357.52 508.895,-367.649 515.89,-367.375\"/>\r\n",
       "</g>\r\n",
       "<!-- 6 -->\r\n",
       "<g id=\"node7\" class=\"node\"><title>6</title>\r\n",
       "<path fill=\"#fdf7f2\" stroke=\"black\" d=\"M810,-365C810,-365 636,-365 636,-365 630,-365 624,-359 624,-353 624,-353 624,-309 624,-309 624,-303 630,-297 636,-297 636,-297 810,-297 810,-297 816,-297 822,-303 822,-309 822,-309 822,-353 822,-353 822,-359 816,-365 810,-365\"/>\r\n",
       "<text text-anchor=\"middle\" x=\"723\" y=\"-349.8\" font-family=\"Helvetica,sans-Serif\" font-size=\"14.00\">extraction_type_class &lt;= 4.5</text>\r\n",
       "<text text-anchor=\"middle\" x=\"723\" y=\"-334.8\" font-family=\"Helvetica,sans-Serif\" font-size=\"14.00\">samples = 16.2%</text>\r\n",
       "<text text-anchor=\"middle\" x=\"723\" y=\"-319.8\" font-family=\"Helvetica,sans-Serif\" font-size=\"14.00\">value = [0.497, 0.043, 0.46]</text>\r\n",
       "<text text-anchor=\"middle\" x=\"723\" y=\"-304.8\" font-family=\"Helvetica,sans-Serif\" font-size=\"14.00\">class = functional</text>\r\n",
       "</g>\r\n",
       "<!-- 4&#45;&gt;6 -->\r\n",
       "<g id=\"edge6\" class=\"edge\"><title>4&#45;&gt;6</title>\r\n",
       "<path fill=\"none\" stroke=\"black\" d=\"M582.532,-400.884C602.888,-390.901 625.378,-379.872 646.286,-369.619\"/>\r\n",
       "<polygon fill=\"black\" stroke=\"black\" points=\"648.014,-372.67 655.452,-365.125 644.932,-366.385 648.014,-372.67\"/>\r\n",
       "</g>\r\n",
       "<!-- 7 -->\r\n",
       "<g id=\"node8\" class=\"node\"><title>7</title>\r\n",
       "<path fill=\"#d8c1f7\" stroke=\"black\" d=\"M702,-253.5C702,-253.5 528,-253.5 528,-253.5 522,-253.5 516,-247.5 516,-241.5 516,-241.5 516,-212.5 516,-212.5 516,-206.5 522,-200.5 528,-200.5 528,-200.5 702,-200.5 702,-200.5 708,-200.5 714,-206.5 714,-212.5 714,-212.5 714,-241.5 714,-241.5 714,-247.5 708,-253.5 702,-253.5\"/>\r\n",
       "<text text-anchor=\"middle\" x=\"615\" y=\"-238.3\" font-family=\"Helvetica,sans-Serif\" font-size=\"14.00\">samples = 5.0%</text>\r\n",
       "<text text-anchor=\"middle\" x=\"615\" y=\"-223.3\" font-family=\"Helvetica,sans-Serif\" font-size=\"14.00\">value = [0.381, 0.045, 0.574]</text>\r\n",
       "<text text-anchor=\"middle\" x=\"615\" y=\"-208.3\" font-family=\"Helvetica,sans-Serif\" font-size=\"14.00\">class = non functional</text>\r\n",
       "</g>\r\n",
       "<!-- 6&#45;&gt;7 -->\r\n",
       "<g id=\"edge7\" class=\"edge\"><title>6&#45;&gt;7</title>\r\n",
       "<path fill=\"none\" stroke=\"black\" d=\"M687.935,-296.884C675.592,-285.226 661.737,-272.141 649.445,-260.532\"/>\r\n",
       "<polygon fill=\"black\" stroke=\"black\" points=\"651.694,-257.842 642.021,-253.52 646.888,-262.931 651.694,-257.842\"/>\r\n",
       "</g>\r\n",
       "<!-- 8 -->\r\n",
       "<g id=\"node9\" class=\"node\"><title>8</title>\r\n",
       "<path fill=\"#f9e2d1\" stroke=\"black\" d=\"M918,-261C918,-261 744,-261 744,-261 738,-261 732,-255 732,-249 732,-249 732,-205 732,-205 732,-199 738,-193 744,-193 744,-193 918,-193 918,-193 924,-193 930,-199 930,-205 930,-205 930,-249 930,-249 930,-255 924,-261 918,-261\"/>\r\n",
       "<text text-anchor=\"middle\" x=\"831\" y=\"-245.8\" font-family=\"Helvetica,sans-Serif\" font-size=\"14.00\">extraction_type_class &lt;= 5.5</text>\r\n",
       "<text text-anchor=\"middle\" x=\"831\" y=\"-230.8\" font-family=\"Helvetica,sans-Serif\" font-size=\"14.00\">samples = 11.2%</text>\r\n",
       "<text text-anchor=\"middle\" x=\"831\" y=\"-215.8\" font-family=\"Helvetica,sans-Serif\" font-size=\"14.00\">value = [0.548, 0.042, 0.41]</text>\r\n",
       "<text text-anchor=\"middle\" x=\"831\" y=\"-200.8\" font-family=\"Helvetica,sans-Serif\" font-size=\"14.00\">class = functional</text>\r\n",
       "</g>\r\n",
       "<!-- 6&#45;&gt;8 -->\r\n",
       "<g id=\"edge8\" class=\"edge\"><title>6&#45;&gt;8</title>\r\n",
       "<path fill=\"none\" stroke=\"black\" d=\"M758.065,-296.884C767.684,-287.798 778.222,-277.845 788.223,-268.4\"/>\r\n",
       "<polygon fill=\"black\" stroke=\"black\" points=\"790.875,-270.71 795.742,-261.299 786.069,-265.621 790.875,-270.71\"/>\r\n",
       "</g>\r\n",
       "<!-- 9 -->\r\n",
       "<g id=\"node10\" class=\"node\"><title>9</title>\r\n",
       "<path fill=\"#f9e4d5\" stroke=\"black\" d=\"M810,-149.5C810,-149.5 636,-149.5 636,-149.5 630,-149.5 624,-143.5 624,-137.5 624,-137.5 624,-108.5 624,-108.5 624,-102.5 630,-96.5 636,-96.5 636,-96.5 810,-96.5 810,-96.5 816,-96.5 822,-102.5 822,-108.5 822,-108.5 822,-137.5 822,-137.5 822,-143.5 816,-149.5 810,-149.5\"/>\r\n",
       "<text text-anchor=\"middle\" x=\"723\" y=\"-134.3\" font-family=\"Helvetica,sans-Serif\" font-size=\"14.00\">samples = 10.3%</text>\r\n",
       "<text text-anchor=\"middle\" x=\"723\" y=\"-119.3\" font-family=\"Helvetica,sans-Serif\" font-size=\"14.00\">value = [0.541, 0.042, 0.416]</text>\r\n",
       "<text text-anchor=\"middle\" x=\"723\" y=\"-104.3\" font-family=\"Helvetica,sans-Serif\" font-size=\"14.00\">class = functional</text>\r\n",
       "</g>\r\n",
       "<!-- 8&#45;&gt;9 -->\r\n",
       "<g id=\"edge9\" class=\"edge\"><title>8&#45;&gt;9</title>\r\n",
       "<path fill=\"none\" stroke=\"black\" d=\"M795.935,-192.884C783.592,-181.226 769.737,-168.141 757.445,-156.532\"/>\r\n",
       "<polygon fill=\"black\" stroke=\"black\" points=\"759.694,-153.842 750.021,-149.52 754.888,-158.931 759.694,-153.842\"/>\r\n",
       "</g>\r\n",
       "<!-- 10 -->\r\n",
       "<g id=\"node11\" class=\"node\"><title>10</title>\r\n",
       "<path fill=\"#f4cbad\" stroke=\"black\" d=\"M1026,-157C1026,-157 852,-157 852,-157 846,-157 840,-151 840,-145 840,-145 840,-101 840,-101 840,-95 846,-89 852,-89 852,-89 1026,-89 1026,-89 1032,-89 1038,-95 1038,-101 1038,-101 1038,-145 1038,-145 1038,-151 1032,-157 1026,-157\"/>\r\n",
       "<text text-anchor=\"middle\" x=\"939\" y=\"-141.8\" font-family=\"Helvetica,sans-Serif\" font-size=\"14.00\">extraction_type_class &lt;= 6.5</text>\r\n",
       "<text text-anchor=\"middle\" x=\"939\" y=\"-126.8\" font-family=\"Helvetica,sans-Serif\" font-size=\"14.00\">samples = 0.9%</text>\r\n",
       "<text text-anchor=\"middle\" x=\"939\" y=\"-111.8\" font-family=\"Helvetica,sans-Serif\" font-size=\"14.00\">value = [0.614, 0.043, 0.343]</text>\r\n",
       "<text text-anchor=\"middle\" x=\"939\" y=\"-96.8\" font-family=\"Helvetica,sans-Serif\" font-size=\"14.00\">class = functional</text>\r\n",
       "</g>\r\n",
       "<!-- 8&#45;&gt;10 -->\r\n",
       "<g id=\"edge10\" class=\"edge\"><title>8&#45;&gt;10</title>\r\n",
       "<path fill=\"none\" stroke=\"black\" d=\"M866.065,-192.884C875.684,-183.798 886.222,-173.845 896.223,-164.4\"/>\r\n",
       "<polygon fill=\"black\" stroke=\"black\" points=\"898.875,-166.71 903.742,-157.299 894.069,-161.621 898.875,-166.71\"/>\r\n",
       "</g>\r\n",
       "<!-- 11 -->\r\n",
       "<g id=\"node12\" class=\"node\"><title>11</title>\r\n",
       "<path fill=\"#f2bf9b\" stroke=\"black\" d=\"M918,-53C918,-53 744,-53 744,-53 738,-53 732,-47 732,-41 732,-41 732,-12 732,-12 732,-6 738,-0 744,-0 744,-0 918,-0 918,-0 924,-0 930,-6 930,-12 930,-12 930,-41 930,-41 930,-47 924,-53 918,-53\"/>\r\n",
       "<text text-anchor=\"middle\" x=\"831\" y=\"-37.8\" font-family=\"Helvetica,sans-Serif\" font-size=\"14.00\">samples = 0.7%</text>\r\n",
       "<text text-anchor=\"middle\" x=\"831\" y=\"-22.8\" font-family=\"Helvetica,sans-Serif\" font-size=\"14.00\">value = [0.657, 0.037, 0.306]</text>\r\n",
       "<text text-anchor=\"middle\" x=\"831\" y=\"-7.8\" font-family=\"Helvetica,sans-Serif\" font-size=\"14.00\">class = functional</text>\r\n",
       "</g>\r\n",
       "<!-- 10&#45;&gt;11 -->\r\n",
       "<g id=\"edge11\" class=\"edge\"><title>10&#45;&gt;11</title>\r\n",
       "<path fill=\"none\" stroke=\"black\" d=\"M901.227,-88.9485C890.458,-79.526 878.741,-69.2731 868.018,-59.8906\"/>\r\n",
       "<polygon fill=\"black\" stroke=\"black\" points=\"870.244,-57.1878 860.413,-53.2367 865.634,-62.4558 870.244,-57.1878\"/>\r\n",
       "</g>\r\n",
       "<!-- 12 -->\r\n",
       "<g id=\"node13\" class=\"node\"><title>12</title>\r\n",
       "<path fill=\"#f8f3fd\" stroke=\"black\" d=\"M1134,-53C1134,-53 960,-53 960,-53 954,-53 948,-47 948,-41 948,-41 948,-12 948,-12 948,-6 954,-0 960,-0 960,-0 1134,-0 1134,-0 1140,-0 1146,-6 1146,-12 1146,-12 1146,-41 1146,-41 1146,-47 1140,-53 1134,-53\"/>\r\n",
       "<text text-anchor=\"middle\" x=\"1047\" y=\"-37.8\" font-family=\"Helvetica,sans-Serif\" font-size=\"14.00\">samples = 0.2%</text>\r\n",
       "<text text-anchor=\"middle\" x=\"1047\" y=\"-22.8\" font-family=\"Helvetica,sans-Serif\" font-size=\"14.00\">value = [0.452, 0.065, 0.484]</text>\r\n",
       "<text text-anchor=\"middle\" x=\"1047\" y=\"-7.8\" font-family=\"Helvetica,sans-Serif\" font-size=\"14.00\">class = non functional</text>\r\n",
       "</g>\r\n",
       "<!-- 10&#45;&gt;12 -->\r\n",
       "<g id=\"edge12\" class=\"edge\"><title>10&#45;&gt;12</title>\r\n",
       "<path fill=\"none\" stroke=\"black\" d=\"M976.773,-88.9485C987.542,-79.526 999.259,-69.2731 1009.98,-59.8906\"/>\r\n",
       "<polygon fill=\"black\" stroke=\"black\" points=\"1012.37,-62.4558 1017.59,-53.2367 1007.76,-57.1878 1012.37,-62.4558\"/>\r\n",
       "</g>\r\n",
       "</g>\r\n",
       "</svg>\r\n"
      ],
      "text/plain": [
       "<graphviz.files.Source at 0x1ad451ea688>"
      ]
     },
     "metadata": {},
     "output_type": "display_data"
    }
   ],
   "source": [
    "model = dt.named_steps['decisiontreeclassifier']\n",
    "encoder = dt.named_steps['ordinalencoder']\n",
    "encoded_columns = encoder.transform(X_val[[feature]]).columns\n",
    "\n",
    "dot_data = export_graphviz(model, \n",
    "                           out_file=None, \n",
    "                           max_depth=5, \n",
    "                           feature_names=encoded_columns,\n",
    "                           class_names=model.classes_, \n",
    "                           impurity=False, \n",
    "                           filled=True, \n",
    "                           proportion=True, \n",
    "                           rounded=True)   \n",
    "display(graphviz.Source(dot_data))"
   ]
  },
  {
   "cell_type": "markdown",
   "metadata": {
    "colab_type": "text",
    "id": "P4EJi2GvgLVa"
   },
   "source": [
    "# Understand how tree ensembles reduce overfitting compared to a single decision tree with unlimited depth"
   ]
  },
  {
   "cell_type": "markdown",
   "metadata": {
    "colab_type": "text",
    "id": "pUYP619CgLVb"
   },
   "source": [
    "### Example: [predicting golf putts](https://statmodeling.stat.columbia.edu/2008/12/04/the_golf_puttin/)\n",
    "(1 feature, non-linear, regression)"
   ]
  },
  {
   "cell_type": "code",
   "execution_count": 29,
   "metadata": {
    "colab": {},
    "colab_type": "code",
    "id": "b4640ukxgLVc"
   },
   "outputs": [],
   "source": [
    "putts = pd.DataFrame(\n",
    "    columns=['distance', 'tries', 'successes'], \n",
    "    data = [[2, 1443, 1346],\n",
    "            [3, 694, 577],\n",
    "            [4, 455, 337],\n",
    "            [5, 353, 208],\n",
    "            [6, 272, 149],\n",
    "            [7, 256, 136],\n",
    "            [8, 240, 111],\n",
    "            [9, 217, 69],\n",
    "            [10, 200, 67],\n",
    "            [11, 237, 75],\n",
    "            [12, 202, 52],\n",
    "            [13, 192, 46],\n",
    "            [14, 174, 54],\n",
    "            [15, 167, 28],\n",
    "            [16, 201, 27],\n",
    "            [17, 195, 31],\n",
    "            [18, 191, 33],\n",
    "            [19, 147, 20],\n",
    "            [20, 152, 24]]\n",
    ")\n",
    "\n",
    "putts['rate of success'] = putts['successes'] / putts['tries']\n",
    "putts_X = putts[['distance']]\n",
    "putts_y = putts['rate of success']"
   ]
  },
  {
   "cell_type": "code",
   "execution_count": 30,
   "metadata": {
    "colab": {},
    "colab_type": "code",
    "id": "T0IpCcKggLVd"
   },
   "outputs": [
    {
     "data": {
      "application/vnd.jupyter.widget-view+json": {
       "model_id": "d5c9d3e8592b40e5a327262dfa67df1d",
       "version_major": 2,
       "version_minor": 0
      },
      "text/plain": [
       "interactive(children=(IntSlider(value=1, description='max_depth', max=6, min=1), IntSlider(value=10, descripti…"
      ]
     },
     "metadata": {},
     "output_type": "display_data"
    }
   ],
   "source": [
    "%matplotlib inline\n",
    "import matplotlib.pyplot as plt\n",
    "from ipywidgets import interact\n",
    "from sklearn.ensemble import RandomForestRegressor\n",
    "from sklearn.tree import DecisionTreeRegressor\n",
    "\n",
    "def putt_trees(max_depth=1, n_estimators=1):\n",
    "    models = [DecisionTreeRegressor(max_depth=max_depth), \n",
    "              RandomForestRegressor(max_depth=max_depth, n_estimators=n_estimators)]\n",
    "    \n",
    "    for model in models:\n",
    "        name = model.__class__.__name__\n",
    "        model.fit(putts_X, putts_y)\n",
    "        ax = putts.plot('distance', 'rate of success', kind='scatter', title=name)\n",
    "        ax.step(putts_X, model.predict(putts_X), where='mid')\n",
    "        plt.show()\n",
    "        \n",
    "interact(putt_trees, max_depth=(1,6,1), n_estimators=(10,40,10));"
   ]
  },
  {
   "cell_type": "markdown",
   "metadata": {
    "colab_type": "text",
    "id": "0nNABF3HgLVg"
   },
   "source": [
    "### What's \"random\" about random forests?\n",
    "1. Each tree trains on a random bootstrap sample of the data. (In scikit-learn, for `RandomForestRegressor` and `RandomForestClassifier`, the `bootstrap` parameter's default is `True`.) This type of ensembling is called Bagging. (Bootstrap AGGregatING.)\n",
    "2. Each split considers a random subset of the features. (In scikit-learn, when the `max_features` parameter is not `None`.) \n",
    "\n",
    "For extra randomness, you can try [\"extremely randomized trees\"](https://scikit-learn.org/stable/modules/ensemble.html#extremely-randomized-trees)!\n",
    "\n",
    ">In extremely randomized trees (see [ExtraTreesClassifier](https://scikit-learn.org/stable/modules/generated/sklearn.ensemble.ExtraTreesClassifier.html) and [ExtraTreesRegressor](https://scikit-learn.org/stable/modules/generated/sklearn.ensemble.ExtraTreesRegressor.html) classes), randomness goes one step further in the way splits are computed. As in random forests, a random subset of candidate features is used, but instead of looking for the most discriminative thresholds, thresholds are drawn at random for each candidate feature and the best of these randomly-generated thresholds is picked as the splitting rule. This usually allows to reduce the variance of the model a bit more, at the expense of a slightly greater increase in bias"
   ]
  },
  {
   "cell_type": "markdown",
   "metadata": {
    "colab_type": "text",
    "id": "_KgZK9_9gLVh"
   },
   "source": [
    "### Bagging demo, with golf putts data\n",
    "https://pandas.pydata.org/pandas-docs/stable/reference/api/pandas.DataFrame.sample.html"
   ]
  },
  {
   "cell_type": "code",
   "execution_count": 32,
   "metadata": {
    "colab": {},
    "colab_type": "code",
    "id": "vA9mrSTNgLVi",
    "scrolled": false
   },
   "outputs": [
    {
     "data": {
      "application/vnd.jupyter.widget-view+json": {
       "model_id": "405b78218c1f4814aa1997891d195d4a",
       "version_major": 2,
       "version_minor": 0
      },
      "text/plain": [
       "interactive(children=(IntSlider(value=1, description='max_depth', max=6, min=1), IntSlider(value=2, descriptio…"
      ]
     },
     "metadata": {},
     "output_type": "display_data"
    }
   ],
   "source": [
    "# Do-it-yourself Bagging Ensemble of Decision Trees (like a Random Forest)\n",
    "def diy_bagging(max_depth=1, n_estimators=1):\n",
    "    y_preds = []\n",
    "    for i in range(n_estimators):\n",
    "        title = f'Tree {i+1}'\n",
    "        bootstrap_sample = putts.sample(n=len(putts), replace=True).sort_values(by='distance')\n",
    "        bootstrap_X = bootstrap_sample[['distance']]\n",
    "        bootstrap_y = bootstrap_sample['rate of success']\n",
    "        tree = DecisionTreeRegressor(max_depth=max_depth)\n",
    "        tree.fit(bootstrap_X, bootstrap_y)\n",
    "        y_pred = tree.predict(bootstrap_X)\n",
    "        y_preds.append(y_pred)\n",
    "        ax = bootstrap_sample.plot('distance', 'rate of success', kind='scatter', title=title)\n",
    "        ax.step(bootstrap_X, y_pred, where='mid')\n",
    "        plt.show()\n",
    "        \n",
    "    ensembled = np.vstack(y_preds).mean(axis=0)\n",
    "    title = f'Ensemble of {n_estimators} trees, with max_depth={max_depth}'\n",
    "    ax = putts.plot('distance', 'rate of success', kind='scatter', title=title)\n",
    "    ax.step(putts_X, ensembled, where='mid')\n",
    "    plt.show()\n",
    "    \n",
    "interact(diy_bagging, max_depth=(1,6,1), n_estimators=(2,5,1));"
   ]
  },
  {
   "cell_type": "markdown",
   "metadata": {
    "colab_type": "text",
    "id": "rq4Z_wQ_gLVj"
   },
   "source": [
    "### Go back to Tanzania Waterpumps ..."
   ]
  },
  {
   "cell_type": "markdown",
   "metadata": {
    "colab_type": "text",
    "id": "FoSE9iT6YXQz"
   },
   "source": [
    "#### Helper function to visualize predicted probabilities\n",
    "\n"
   ]
  },
  {
   "cell_type": "code",
   "execution_count": 33,
   "metadata": {
    "colab": {},
    "colab_type": "code",
    "id": "HzIAjGpJgLVj"
   },
   "outputs": [],
   "source": [
    "import itertools\n",
    "import seaborn as sns\n",
    "\n",
    "def pred_heatmap(model, X, features, class_index=-1, title='', num=100):\n",
    "    \"\"\"\n",
    "    Visualize predicted probabilities, for classifier fit on 2 numeric features\n",
    "    \n",
    "    Parameters\n",
    "    ----------\n",
    "    model : scikit-learn classifier, already fit\n",
    "    X : pandas dataframe, which was used to fit model\n",
    "    features : list of strings, column names of the 2 numeric features\n",
    "    class_index : integer, index of class label\n",
    "    title : string, title of plot\n",
    "    num : int, number of grid points for each feature\n",
    "    \n",
    "    Returns\n",
    "    -------\n",
    "    y_pred_proba : numpy array, predicted probabilities for class_index\n",
    "    \"\"\"\n",
    "    feature1, feature2 = features\n",
    "    min1, max1 = X[feature1].min(), X[feature1].max()\n",
    "    min2, max2 = X[feature2].min(), X[feature2].max()\n",
    "    x1 = np.linspace(min1, max1, num)\n",
    "    x2 = np.linspace(max2, min2, num)\n",
    "    combos = list(itertools.product(x1, x2))\n",
    "    y_pred_proba = model.predict_proba(combos)[:, class_index]\n",
    "    pred_grid = y_pred_proba.reshape(num, num).T\n",
    "    table = pd.DataFrame(pred_grid, columns=x1, index=x2)\n",
    "    sns.heatmap(table, vmin=0, vmax=1)\n",
    "    plt.xticks([])\n",
    "    plt.yticks([])\n",
    "    plt.xlabel(feature1)\n",
    "    plt.ylabel(feature2)\n",
    "    plt.title(title)\n",
    "    plt.show()\n",
    "    return y_pred_proba\n"
   ]
  },
  {
   "cell_type": "markdown",
   "metadata": {
    "colab_type": "text",
    "id": "DiRfPqHjgLVl"
   },
   "source": [
    "### Compare Decision Tree, Random Forest, Logistic Regression"
   ]
  },
  {
   "cell_type": "code",
   "execution_count": 34,
   "metadata": {
    "colab": {},
    "colab_type": "code",
    "id": "HKkMLXhMgLVl"
   },
   "outputs": [
    {
     "data": {
      "application/vnd.jupyter.widget-view+json": {
       "model_id": "d016548481dd4000ab4de8f4cbf4ba30",
       "version_major": 2,
       "version_minor": 0
      },
      "text/plain": [
       "interactive(children=(IntSlider(value=1, description='max_depth', max=6, min=1), IntSlider(value=10, descripti…"
      ]
     },
     "metadata": {},
     "output_type": "display_data"
    }
   ],
   "source": [
    "# Instructions\n",
    "# 1. Choose two features\n",
    "# 2. Run this code cell\n",
    "# 3. Interact with the widget sliders\n",
    "feature1 = 'longitude'\n",
    "feature2 = 'quantity'\n",
    "\n",
    "from sklearn.linear_model import LogisticRegression\n",
    "from sklearn.tree import DecisionTreeClassifier\n",
    "\n",
    "def get_X_y(df, feature1, feature2, target):\n",
    "    features = [feature1, feature2]\n",
    "    X = df[features]\n",
    "    y = df[target]\n",
    "    X = X.fillna(X.median())\n",
    "    X = ce.OrdinalEncoder().fit_transform(X)\n",
    "    return X, y\n",
    "\n",
    "def compare_models(max_depth=1, n_estimators=1):\n",
    "    models = [DecisionTreeClassifier(max_depth=max_depth), \n",
    "              RandomForestClassifier(max_depth=max_depth, n_estimators=n_estimators), \n",
    "              LogisticRegression(solver='lbfgs', multi_class='auto')]\n",
    "    \n",
    "    for model in models:\n",
    "        name = model.__class__.__name__\n",
    "        model.fit(X, y)\n",
    "        pred_heatmap(model, X, [feature1, feature2], class_index=0, title=name)\n",
    "\n",
    "X, y = get_X_y(train, feature1, feature2, target='status_group')\n",
    "interact(compare_models, max_depth=(1,6,1), n_estimators=(10,40,10));"
   ]
  },
  {
   "cell_type": "markdown",
   "metadata": {
    "colab_type": "text",
    "id": "hOQqjLEDgLVn"
   },
   "source": [
    "### Bagging"
   ]
  },
  {
   "cell_type": "code",
   "execution_count": null,
   "metadata": {
    "colab": {},
    "colab_type": "code",
    "id": "Hm4aPgs2gLVn"
   },
   "outputs": [],
   "source": [
    "# Do-it-yourself Bagging Ensemble of Decision Trees (like a Random Forest)\n",
    "\n",
    "# Instructions\n",
    "# 1. Choose two features\n",
    "# 2. Run this code cell\n",
    "# 3. Interact with the widget sliders\n",
    "\n",
    "feature1 = 'longitude'\n",
    "feature2 = 'latitude'\n",
    "\n",
    "def waterpumps_bagging(max_depth=1, n_estimators=1):\n",
    "    predicteds = []\n",
    "    for i in range(n_estimators):\n",
    "        title = f'Tree {i+1}'\n",
    "        bootstrap_sample = train.sample(n=len(train), replace=True)\n",
    "        X, y = get_X_y(bootstrap_sample, feature1, feature2, target='status_group')\n",
    "        tree = DecisionTreeClassifier(max_depth=max_depth)\n",
    "        tree.fit(X, y)\n",
    "        predicted = pred_heatmap(tree, X, [feature1, feature2], class_index=0, title=title)\n",
    "        predicteds.append(predicted)\n",
    "    \n",
    "    ensembled = np.vstack(predicteds).mean(axis=0)\n",
    "    title = f'Ensemble of {n_estimators} trees, with max_depth={max_depth}'\n",
    "    sns.heatmap(ensembled.reshape(100, 100).T, vmin=0, vmax=1)\n",
    "    plt.title(title)\n",
    "    plt.xlabel(feature1)\n",
    "    plt.ylabel(feature2)\n",
    "    plt.xticks([])\n",
    "    plt.yticks([])\n",
    "    plt.show()\n",
    "        \n",
    "interact(waterpumps_bagging, max_depth=(1,6,1), n_estimators=(2,5,1));"
   ]
  },
  {
   "cell_type": "markdown",
   "metadata": {
    "colab_type": "text",
    "id": "wYoSBi15akWP"
   },
   "source": [
    "# Review\n",
    "\n",
    "#### Try Tree Ensembles when you do machine learning with labeled, tabular data\n",
    "- \"Tree Ensembles\" means Random Forest or Gradient Boosting models. \n",
    "- [Tree Ensembles often have the best predictive accuracy](https://arxiv.org/abs/1708.05070) with labeled, tabular data.\n",
    "- Why? Because trees can fit non-linear, non-[monotonic](https://en.wikipedia.org/wiki/Monotonic_function) relationships, and [interactions](https://christophm.github.io/interpretable-ml-book/interaction.html) between features.\n",
    "- A single decision tree, grown to unlimited depth, will [overfit](http://www.r2d3.us/visual-intro-to-machine-learning-part-1/). We solve this problem by ensembling trees, with bagging (Random Forest) or boosting (Gradient Boosting).\n",
    "- Random Forest's advantage: may be less sensitive to hyperparameters. Gradient Boosting's advantage: may get better predictive accuracy.\n",
    "\n",
    "#### One-hot encoding isn’t the only way, and may not be the best way, of categorical encoding for tree ensembles.\n",
    "- For example, tree ensembles can work with arbitrary \"ordinal\" encoding! (Randomly assigning an integer to each category.) Compared to one-hot encoding, the dimensionality will be lower, and the predictive accuracy may be just as good or even better.\n"
   ]
  }
 ],
 "metadata": {
  "colab": {
   "collapsed_sections": [],
   "name": "DS7_lesson_kaggle_challenge_2.ipynb",
   "provenance": [],
   "version": "0.3.2"
  },
  "kernelspec": {
   "display_name": "Python 3",
   "language": "python",
   "name": "python3"
  },
  "language_info": {
   "codemirror_mode": {
    "name": "ipython",
    "version": 3
   },
   "file_extension": ".py",
   "mimetype": "text/x-python",
   "name": "python",
   "nbconvert_exporter": "python",
   "pygments_lexer": "ipython3",
   "version": "3.7.4"
  }
 },
 "nbformat": 4,
 "nbformat_minor": 1
}
