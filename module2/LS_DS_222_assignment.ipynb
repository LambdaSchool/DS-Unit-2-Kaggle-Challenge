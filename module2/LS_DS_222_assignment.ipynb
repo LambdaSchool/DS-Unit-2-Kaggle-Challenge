{
  "nbformat": 4,
  "nbformat_minor": 0,
  "metadata": {
    "colab": {
      "name": "Copy of assignment_kaggle_challenge_2.ipynb",
      "provenance": [],
      "collapsed_sections": [],
      "include_colab_link": true
    },
    "kernelspec": {
      "display_name": "Python 3",
      "language": "python",
      "name": "python3"
    },
    "language_info": {
      "codemirror_mode": {
        "name": "ipython",
        "version": 3
      },
      "file_extension": ".py",
      "mimetype": "text/x-python",
      "name": "python",
      "nbconvert_exporter": "python",
      "pygments_lexer": "ipython3",
      "version": "3.7.3"
    }
  },
  "cells": [
    {
      "cell_type": "markdown",
      "metadata": {
        "id": "view-in-github",
        "colab_type": "text"
      },
      "source": [
        "<a href=\"https://colab.research.google.com/github/mljarman/DS-Unit-2-Kaggle-Challenge/blob/master/module2/LS_DS_222_assignment.ipynb\" target=\"_parent\"><img src=\"https://colab.research.google.com/assets/colab-badge.svg\" alt=\"Open In Colab\"/></a>"
      ]
    },
    {
      "cell_type": "markdown",
      "metadata": {
        "id": "bN_jxDcPPmth",
        "colab_type": "text"
      },
      "source": [
        "Lambda School Data Science\n",
        "\n",
        "*Unit 2, Sprint 2, Module 2*\n",
        "\n",
        "---"
      ]
    },
    {
      "cell_type": "markdown",
      "metadata": {
        "colab_type": "text",
        "id": "7IXUfiQ2UKj6"
      },
      "source": [
        "# Random Forests\n",
        "\n",
        "## Assignment\n",
        "- [ ] Read [“Adopting a Hypothesis-Driven Workflow”](https://outline.com/5S5tsB), a blog post by a Lambda DS student about the Tanzania Waterpumps challenge.\n",
        "- [ ] Continue to participate in our Kaggle challenge.\n",
        "- [ ] Define a function to wrangle train, validate, and test sets in the same way. Clean outliers and engineer features.\n",
        "- [ ] Try Ordinal Encoding.\n",
        "- [ ] Try a Random Forest Classifier.\n",
        "- [ ] Submit your predictions to our Kaggle competition. (Go to our Kaggle InClass competition webpage. Use the blue **Submit Predictions** button to upload your CSV file. Or you can use the Kaggle API to submit your predictions.)\n",
        "- [ ] Commit your notebook to your fork of the GitHub repo.\n",
        "\n",
        "## Stretch Goals\n",
        "\n",
        "### Doing\n",
        "- [ ] Add your own stretch goal(s) !\n",
        "- [ ] Do more exploratory data analysis, data cleaning, feature engineering, and feature selection.\n",
        "- [ ] Try other [categorical encodings](https://contrib.scikit-learn.org/categorical-encoding/).\n",
        "- [ ] Get and plot your feature importances.\n",
        "- [ ] Make visualizations and share on Slack.\n",
        "\n",
        "### Reading\n",
        "\n",
        "Top recommendations in _**bold italic:**_\n",
        "\n",
        "#### Decision Trees\n",
        "- A Visual Introduction to Machine Learning, [Part 1: A Decision Tree](http://www.r2d3.us/visual-intro-to-machine-learning-part-1/),  and _**[Part 2: Bias and Variance](http://www.r2d3.us/visual-intro-to-machine-learning-part-2/)**_\n",
        "- [Decision Trees: Advantages & Disadvantages](https://christophm.github.io/interpretable-ml-book/tree.html#advantages-2)\n",
        "- [How a Russian mathematician constructed a decision tree — by hand — to solve a medical problem](http://fastml.com/how-a-russian-mathematician-constructed-a-decision-tree-by-hand-to-solve-a-medical-problem/)\n",
        "- [How decision trees work](https://brohrer.github.io/how_decision_trees_work.html)\n",
        "- [Let’s Write a Decision Tree Classifier from Scratch](https://www.youtube.com/watch?v=LDRbO9a6XPU)\n",
        "\n",
        "#### Random Forests\n",
        "- [_An Introduction to Statistical Learning_](http://www-bcf.usc.edu/~gareth/ISL/), Chapter 8: Tree-Based Methods\n",
        "- [Coloring with Random Forests](http://structuringtheunstructured.blogspot.com/2017/11/coloring-with-random-forests.html)\n",
        "- _**[Random Forests for Complete Beginners: The definitive guide to Random Forests and Decision Trees](https://victorzhou.com/blog/intro-to-random-forests/)**_\n",
        "\n",
        "#### Categorical encoding for trees\n",
        "- [Are categorical variables getting lost in your random forests?](https://roamanalytics.com/2016/10/28/are-categorical-variables-getting-lost-in-your-random-forests/)\n",
        "- [Beyond One-Hot: An Exploration of Categorical Variables](http://www.willmcginnis.com/2015/11/29/beyond-one-hot-an-exploration-of-categorical-variables/)\n",
        "- _**[Categorical Features and Encoding in Decision Trees](https://medium.com/data-design/visiting-categorical-features-and-encoding-in-decision-trees-53400fa65931)**_\n",
        "- _**[Coursera — How to Win a Data Science Competition: Learn from Top Kagglers — Concept of mean encoding](https://www.coursera.org/lecture/competitive-data-science/concept-of-mean-encoding-b5Gxv)**_\n",
        "- [Mean (likelihood) encodings: a comprehensive study](https://www.kaggle.com/vprokopev/mean-likelihood-encodings-a-comprehensive-study)\n",
        "- [The Mechanics of Machine Learning, Chapter 6: Categorically Speaking](https://mlbook.explained.ai/catvars.html)\n",
        "\n",
        "#### Imposter Syndrome\n",
        "- [Effort Shock and Reward Shock (How The Karate Kid Ruined The Modern World)](http://www.tempobook.com/2014/07/09/effort-shock-and-reward-shock/)\n",
        "- [How to manage impostor syndrome in data science](https://towardsdatascience.com/how-to-manage-impostor-syndrome-in-data-science-ad814809f068)\n",
        "- [\"I am not a real data scientist\"](https://brohrer.github.io/imposter_syndrome.html)\n",
        "- _**[Imposter Syndrome in Data Science](https://caitlinhudon.com/2018/01/19/imposter-syndrome-in-data-science/)**_\n",
        "\n",
        "\n",
        "### More Categorical Encodings\n",
        "\n",
        "**1.** The article **[Categorical Features and Encoding in Decision Trees](https://medium.com/data-design/visiting-categorical-features-and-encoding-in-decision-trees-53400fa65931)** mentions 4 encodings:\n",
        "\n",
        "- **\"Categorical Encoding\":** This means using the raw categorical values as-is, not encoded. Scikit-learn doesn't support this, but some tree algorithm implementations do. For example, [Catboost](https://catboost.ai/), or R's [rpart](https://cran.r-project.org/web/packages/rpart/index.html) package.\n",
        "- **Numeric Encoding:** Synonymous with Label Encoding, or \"Ordinal\" Encoding with random order. We can use [category_encoders.OrdinalEncoder](https://contrib.scikit-learn.org/categorical-encoding/ordinal.html).\n",
        "- **One-Hot Encoding:** We can use [category_encoders.OneHotEncoder](http://contrib.scikit-learn.org/categorical-encoding/onehot.html).\n",
        "- **Binary Encoding:** We can use [category_encoders.BinaryEncoder](http://contrib.scikit-learn.org/categorical-encoding/binary.html).\n",
        "\n",
        "\n",
        "**2.** The short video \n",
        "**[Coursera — How to Win a Data Science Competition: Learn from Top Kagglers — Concept of mean encoding](https://www.coursera.org/lecture/competitive-data-science/concept-of-mean-encoding-b5Gxv)** introduces an interesting idea: use both X _and_ y to encode categoricals.\n",
        "\n",
        "Category Encoders has multiple implementations of this general concept:\n",
        "\n",
        "- [CatBoost Encoder](http://contrib.scikit-learn.org/categorical-encoding/catboost.html)\n",
        "- [James-Stein Encoder](http://contrib.scikit-learn.org/categorical-encoding/jamesstein.html)\n",
        "- [Leave One Out](http://contrib.scikit-learn.org/categorical-encoding/leaveoneout.html)\n",
        "- [M-estimate](http://contrib.scikit-learn.org/categorical-encoding/mestimate.html)\n",
        "- [Target Encoder](http://contrib.scikit-learn.org/categorical-encoding/targetencoder.html)\n",
        "- [Weight of Evidence](http://contrib.scikit-learn.org/categorical-encoding/woe.html)\n",
        "\n",
        "Category Encoder's mean encoding implementations work for regression problems or binary classification problems. \n",
        "\n",
        "For multi-class classification problems, you will need to temporarily reformulate it as binary classification. For example:\n",
        "\n",
        "```python\n",
        "encoder = ce.TargetEncoder(min_samples_leaf=..., smoothing=...) # Both parameters > 1 to avoid overfitting\n",
        "X_train_encoded = encoder.fit_transform(X_train, y_train=='functional')\n",
        "X_val_encoded = encoder.transform(X_train, y_val=='functional')\n",
        "```\n",
        "\n",
        "For this reason, mean encoding won't work well within pipelines for multi-class classification problems.\n",
        "\n",
        "**3.** The **[dirty_cat](https://dirty-cat.github.io/stable/)** library has a Target Encoder implementation that works with multi-class classification.\n",
        "\n",
        "```python\n",
        " dirty_cat.TargetEncoder(clf_type='multiclass-clf')\n",
        "```\n",
        "It also implements an interesting idea called [\"Similarity Encoder\" for dirty categories](https://www.slideshare.net/GaelVaroquaux/machine-learning-on-non-curated-data-154905090).\n",
        "\n",
        "However, it seems like dirty_cat doesn't handle missing values or unknown categories as well as category_encoders does. And you may need to use it with one column at a time, instead of with your whole dataframe.\n",
        "\n",
        "**4. [Embeddings](https://www.kaggle.com/learn/embeddings)** can work well with sparse / high cardinality categoricals.\n",
        "\n",
        "_**I hope it’s not too frustrating or confusing that there’s not one “canonical” way to encode categoricals. It’s an active area of research and experimentation! Maybe you can make your own contributions!**_"
      ]
    },
    {
      "cell_type": "markdown",
      "metadata": {
        "id": "z7BRadYgPmtk",
        "colab_type": "text"
      },
      "source": [
        "### Setup\n",
        "\n",
        "You can work locally (follow the [local setup instructions](https://lambdaschool.github.io/ds/unit2/local/)) or on Colab (run the code cell below)."
      ]
    },
    {
      "cell_type": "code",
      "metadata": {
        "colab_type": "code",
        "id": "o9eSnDYhUGD7",
        "colab": {}
      },
      "source": [
        "%%capture\n",
        "import sys\n",
        "\n",
        "# If you're on Colab:\n",
        "if 'google.colab' in sys.modules:\n",
        "    DATA_PATH = 'https://raw.githubusercontent.com/LambdaSchool/DS-Unit-2-Kaggle-Challenge/master/data/'\n",
        "    !pip install category_encoders==2.*\n",
        "    !pip install pandas-profiling==2.*\n",
        "\n",
        "# If you're working locally:\n",
        "else:\n",
        "    DATA_PATH = '../data/'"
      ],
      "execution_count": 0,
      "outputs": []
    },
    {
      "cell_type": "code",
      "metadata": {
        "colab_type": "code",
        "id": "QJBD4ruICm1m",
        "colab": {
          "base_uri": "https://localhost:8080/",
          "height": 34
        },
        "outputId": "0e14f8be-3a97-4c0f-9b13-d9e7d330f02a"
      },
      "source": [
        "import pandas as pd\n",
        "from sklearn.model_selection import train_test_split\n",
        "\n",
        "train = pd.merge(pd.read_csv(DATA_PATH+'waterpumps/train_features.csv'), \n",
        "                 pd.read_csv(DATA_PATH+'waterpumps/train_labels.csv'))\n",
        "test = pd.read_csv(DATA_PATH+'waterpumps/test_features.csv')\n",
        "sample_submission = pd.read_csv(DATA_PATH+'waterpumps/sample_submission.csv')\n",
        "\n",
        "train.shape, test.shape"
      ],
      "execution_count": 13,
      "outputs": [
        {
          "output_type": "execute_result",
          "data": {
            "text/plain": [
              "((59400, 41), (14358, 40))"
            ]
          },
          "metadata": {
            "tags": []
          },
          "execution_count": 13
        }
      ]
    },
    {
      "cell_type": "code",
      "metadata": {
        "id": "aISnTjCuPmtq",
        "colab_type": "code",
        "colab": {
          "base_uri": "https://localhost:8080/",
          "height": 34
        },
        "outputId": "e3a3247a-f8d4-4a9c-d91c-c494a4c5b68f"
      },
      "source": [
        "# split train into train and val:\n",
        "train, val = train_test_split(train, train_size=.8, test_size=.2, \n",
        "                              stratify=train['status_group'], random_state=42)\n",
        "train.shape, val.shape, test.shape"
      ],
      "execution_count": 14,
      "outputs": [
        {
          "output_type": "execute_result",
          "data": {
            "text/plain": [
              "((47520, 41), (11880, 41), (14358, 40))"
            ]
          },
          "metadata": {
            "tags": []
          },
          "execution_count": 14
        }
      ]
    },
    {
      "cell_type": "code",
      "metadata": {
        "id": "_7LRtqb2RPgJ",
        "colab_type": "code",
        "colab": {
          "base_uri": "https://localhost:8080/",
          "height": 85
        },
        "outputId": "b80a763d-384f-48d3-9a1f-e2de9ef867c7"
      },
      "source": [
        "# identify majority class baseline:\n",
        "train['status_group'].value_counts(normalize=True)"
      ],
      "execution_count": 15,
      "outputs": [
        {
          "output_type": "execute_result",
          "data": {
            "text/plain": [
              "functional                 0.543077\n",
              "non functional             0.384238\n",
              "functional needs repair    0.072685\n",
              "Name: status_group, dtype: float64"
            ]
          },
          "metadata": {
            "tags": []
          },
          "execution_count": 15
        }
      ]
    },
    {
      "cell_type": "markdown",
      "metadata": {
        "id": "CYjEn8tvRg7s",
        "colab_type": "text"
      },
      "source": [
        "##Data Exploration and Cleaning:"
      ]
    },
    {
      "cell_type": "code",
      "metadata": {
        "id": "dSF-OMA_ReKW",
        "colab_type": "code",
        "colab": {}
      },
      "source": [
        "# pandas profiling didn't work but worked yesterday? so will go off of yesterday's notebook.\n",
        "''' high zeros:\n",
        "amount_tsh 70% zeros **\n",
        "construction_year 35% zeros\n",
        "gps_height\n",
        "longitude\n",
        "num_private 99% zeros **\n",
        "population\n",
        "\n",
        "\n",
        "high cardinality:\n",
        "date_recorded\n",
        "funder\n",
        "lga\n",
        "installer\n",
        "scheme_name\n",
        "subvillage\n",
        "ward\n",
        "wpt_name\n",
        "\n",
        "missing values:\n",
        "funder\n",
        "permit\n",
        "public_meeting\n",
        "scheme_management\n",
        "scheme_name**\n",
        "\n",
        "duplicates:\n",
        "payment\n",
        "payment_type\n",
        "quantity\n",
        "quantity_group\n",
        "\n",
        "similar:\n",
        "region\n",
        "extraction_type\n",
        "extraction_type_class\n",
        "extraction_type_group\n",
        "source_class (has missing)\n",
        "source_type\n",
        "waterpoint_type_group\n",
        "water_quality\n",
        "quality_group\n",
        "\n",
        "change date_recorded to datetime '''\n",
        "\n",
        "\n",
        "\n"
      ],
      "execution_count": 0,
      "outputs": []
    },
    {
      "cell_type": "code",
      "metadata": {
        "id": "zs3Ev_fxRyQ0",
        "colab_type": "code",
        "colab": {
          "base_uri": "https://localhost:8080/",
          "height": 221
        },
        "outputId": "2ae98ef6-d81a-493a-be6e-85019f69f943"
      },
      "source": [
        "train['num_private'].value_counts()"
      ],
      "execution_count": 13,
      "outputs": [
        {
          "output_type": "execute_result",
          "data": {
            "text/plain": [
              "0      58643\n",
              "6         81\n",
              "1         73\n",
              "5         46\n",
              "8         46\n",
              "       ...  \n",
              "180        1\n",
              "213        1\n",
              "23         1\n",
              "55         1\n",
              "94         1\n",
              "Name: num_private, Length: 65, dtype: int64"
            ]
          },
          "metadata": {
            "tags": []
          },
          "execution_count": 13
        }
      ]
    },
    {
      "cell_type": "code",
      "metadata": {
        "colab_type": "code",
        "id": "YTLm-rDagLVM",
        "colab": {}
      },
      "source": [
        "import numpy as np\n",
        "import pandas as pd\n",
        "\n",
        "def wrangle(X):\n",
        "    \"\"\"Wrangle train, validate, and test sets in the same way\"\"\"\n",
        "    \n",
        "    # Prevent SettingWithCopyWarning\n",
        "    X = X.copy()\n",
        "    \n",
        "    # About 3% of the time, latitude has small values near zero,\n",
        "    # outside Tanzania, so we'll treat these values like zero.\n",
        "    X['latitude'] = X['latitude'].replace(-2e-08, 0)\n",
        "\n",
        "    # When columns have zeros and shouldn't, they are like null values.\n",
        "    # So we will replace the zeros with nulls, and impute missing values later.\n",
        "    # Also create a \"missing indicator\" column, because the fact that\n",
        "    # values are missing may be a predictive signal.\n",
        "    cols_with_zeros = ['longitude', 'latitude', 'construction_year', \n",
        "                       'gps_height', 'population']\n",
        "    for col in cols_with_zeros:\n",
        "        X[col] = X[col].replace(0, np.nan)\n",
        "        X[col+'_MISSING'] = X[col].isnull()\n",
        "            \n",
        "    # Drop duplicate columns\n",
        "    duplicates = ['quantity_group', 'payment_type']\n",
        "    X = X.drop(columns=duplicates)\n",
        "    \n",
        "    # Drop recorded_by (never varies) and id (always varies, random), num_private(all 0's)\n",
        "    unusable_variance = ['recorded_by', 'id', 'num_private', 'amount_tsh', 'scheme_name']\n",
        "    X = X.drop(columns=unusable_variance)\n",
        "\n",
        "    # Drop source_class, similar to source but source has no missing values:\n",
        "    similars = ['source_class', 'region', 'extraction_type_group', 'waterpoint_type_group',\n",
        "                'quality_group']\n",
        "    X = X.drop(columns=similars)\n",
        "    \n",
        "    # Convert date_recorded to datetime\n",
        "    X['date_recorded'] = pd.to_datetime(X['date_recorded'], infer_datetime_format=True)\n",
        "    \n",
        "    # Extract components from date_recorded, then drop the original column\n",
        "    X['year_recorded'] = X['date_recorded'].dt.year\n",
        "    X['month_recorded'] = X['date_recorded'].dt.month\n",
        "    X['day_recorded'] = X['date_recorded'].dt.day\n",
        "    X = X.drop(columns='date_recorded')\n",
        "    \n",
        "    # # Engineer feature: how many years from construction_year to date_recorded\n",
        "    # X['years'] = X['year_recorded'] - X['construction_year']\n",
        "    # X['years_MISSING'] = X['years'].isnull()\n",
        "    \n",
        "    # return the wrangled dataframe\n",
        "    return X\n",
        "\n",
        "train = wrangle(train)\n",
        "val = wrangle(val)\n",
        "test = wrangle(test)"
      ],
      "execution_count": 0,
      "outputs": []
    },
    {
      "cell_type": "code",
      "metadata": {
        "id": "60wkZykHcBjX",
        "colab_type": "code",
        "colab": {}
      },
      "source": [
        "# The status_group column is the target\n",
        "target = 'status_group'\n",
        "\n",
        "# Get a dataframe with all train columns except the target\n",
        "train_features = train.drop(columns=[target])\n",
        "\n",
        "# Get a list of the numeric features\n",
        "numeric_features = train_features.select_dtypes(include='number').columns.tolist()\n",
        "\n",
        "# Get a series with the cardinality of the nonnumeric features\n",
        "cardinality = train_features.select_dtypes(exclude='number').nunique()\n",
        "\n",
        "# Get a list of all categorical features with cardinality <= 50\n",
        "categorical_features = cardinality[cardinality <= 50].index.tolist()\n",
        "\n",
        "# Combine the lists \n",
        "features = numeric_features + categorical_features"
      ],
      "execution_count": 0,
      "outputs": []
    },
    {
      "cell_type": "code",
      "metadata": {
        "id": "V0y9m5F72_eT",
        "colab_type": "code",
        "colab": {}
      },
      "source": [
        "train['construction_year'].fillna(train['construction_year'].mean(), inplace=True)\n",
        "val['construction_year'].fillna(train['construction_year'].mean(), inplace=True)\n",
        "test['construction_year'].fillna(train['construction_year'].mean(), inplace=True)"
      ],
      "execution_count": 0,
      "outputs": []
    },
    {
      "cell_type": "code",
      "metadata": {
        "id": "qfq4jGUKcKMq",
        "colab_type": "code",
        "colab": {}
      },
      "source": [
        "# Arrange data into X features matrix and y target vector \n",
        "X_train = train[features]\n",
        "y_train = train[target]\n",
        "X_val = val[features]\n",
        "y_val = val[target]\n",
        "X_test = test[features]"
      ],
      "execution_count": 0,
      "outputs": []
    },
    {
      "cell_type": "code",
      "metadata": {
        "id": "1n9Q2WVhFwvp",
        "colab_type": "code",
        "colab": {}
      },
      "source": [
        ""
      ],
      "execution_count": 0,
      "outputs": []
    },
    {
      "cell_type": "code",
      "metadata": {
        "id": "Ha9jycpacL9I",
        "colab_type": "code",
        "colab": {
          "base_uri": "https://localhost:8080/",
          "height": 68
        },
        "outputId": "5a4eab58-562c-49ea-d8e4-2916a8dfb0df"
      },
      "source": [
        "# going to get a baseline random forest with all features and ordinal encoding:\n",
        "%%time\n",
        "\n",
        "# WARNING: the %%time command sometimes has quirks/bugs\n",
        "X_train1 = train.drop(columns=target)\n",
        "y_train1 = train[target]\n",
        "X_val1 = val.drop(columns=target)\n",
        "y_val1 = val[target]\n",
        "X_test1 = test\n",
        "\n",
        "import category_encoders as ce\n",
        "from sklearn.ensemble import RandomForestClassifier\n",
        "from sklearn.impute import SimpleImputer\n",
        "from sklearn.pipeline import make_pipeline\n",
        "\n",
        "pipeline = make_pipeline(\n",
        "    ce.OrdinalEncoder(), \n",
        "    SimpleImputer(strategy='median'), \n",
        "    RandomForestClassifier(n_estimators=100, random_state=42, n_jobs=-1)\n",
        ")\n",
        "\n",
        "# Fit on train, score on val\n",
        "pipeline.fit(X_train1, y_train1)\n",
        "print('Validation Accuracy', pipeline.score(X_val1, y_val1))"
      ],
      "execution_count": 23,
      "outputs": [
        {
          "output_type": "stream",
          "text": [
            "Validation Accuracy 0.8074074074074075\n",
            "CPU times: user 17.9 s, sys: 176 ms, total: 18.1 s\n",
            "Wall time: 9.85 s\n"
          ],
          "name": "stdout"
        }
      ]
    },
    {
      "cell_type": "code",
      "metadata": {
        "id": "kb4awJwcftDL",
        "colab_type": "code",
        "colab": {
          "base_uri": "https://localhost:8080/",
          "height": 607
        },
        "outputId": "733ed0dd-5ca2-4ef7-8fd4-20ffc037ed3f"
      },
      "source": [
        "# feature importances:\n",
        "%matplotlib inline\n",
        "import matplotlib.pyplot as plt\n",
        "\n",
        "# Get feature importances\n",
        "rf1 = pipeline.named_steps['randomforestclassifier']\n",
        "encoder = pipeline.named_steps['ordinalencoder']\n",
        "encoded1 = encoder.transform(X_train1)\n",
        "importances1 = pd.Series(rf1.feature_importances_, encoded1.columns)\n",
        "\n",
        "# Plot feature importances\n",
        "n = 20\n",
        "plt.figure(figsize=(10,n/2))\n",
        "plt.title(f'Top {n} features')\n",
        "importances1.sort_values()[-n:].plot.barh(color='grey');"
      ],
      "execution_count": 26,
      "outputs": [
        {
          "output_type": "display_data",
          "data": {
            "image/png": "[encoded data removed]",
            "text/plain": [
              "<Figure size 720x720 with 1 Axes>"
            ]
          },
          "metadata": {
            "tags": []
          }
        }
      ]
    },
    {
      "cell_type": "code",
      "metadata": {
        "id": "wCun4WiBcuTP",
        "colab_type": "code",
        "colab": {
          "base_uri": "https://localhost:8080/",
          "height": 68
        },
        "outputId": "bf6d5129-8eaf-48a8-d5eb-247f40a9b8fa"
      },
      "source": [
        "# going to try with omitting the high cardinality features w/ordinal encoding on rest:\n",
        "%%time\n",
        "\n",
        "# WARNING: the %%time command sometimes has quirks/bugs\n",
        "\n",
        "\n",
        "import category_encoders as ce\n",
        "from sklearn.ensemble import RandomForestClassifier\n",
        "from sklearn.impute import SimpleImputer\n",
        "from sklearn.pipeline import make_pipeline\n",
        "\n",
        "pipeline = make_pipeline(\n",
        "    ce.OrdinalEncoder(), \n",
        "    SimpleImputer(strategy='median'), \n",
        "    RandomForestClassifier(n_estimators=100, random_state=42, n_jobs=-1)\n",
        ")\n",
        "\n",
        "# Fit on train, score on val\n",
        "pipeline.fit(X_train, y_train)\n",
        "print('Validation Accuracy', pipeline.score(X_val, y_val))"
      ],
      "execution_count": 27,
      "outputs": [
        {
          "output_type": "stream",
          "text": [
            "Validation Accuracy 0.8088383838383838\n",
            "CPU times: user 14.4 s, sys: 359 ms, total: 14.7 s\n",
            "Wall time: 7.88 s\n"
          ],
          "name": "stdout"
        }
      ]
    },
    {
      "cell_type": "code",
      "metadata": {
        "id": "9s1Ep_WsePqP",
        "colab_type": "code",
        "colab": {
          "base_uri": "https://localhost:8080/",
          "height": 607
        },
        "outputId": "6daf349b-3d15-48a4-ade3-751a76d6e959"
      },
      "source": [
        "# Get feature importances\n",
        "rf = pipeline.named_steps['randomforestclassifier']\n",
        "encoder = pipeline.named_steps['ordinalencoder']\n",
        "encoded = encoder.transform(X_train)\n",
        "importances = pd.Series(rf.feature_importances_, encoded.columns)\n",
        "\n",
        "# Plot feature importances\n",
        "n = 20\n",
        "plt.figure(figsize=(10,n/2))\n",
        "plt.title(f'Top {n} features')\n",
        "importances.sort_values()[-n:].plot.barh(color='grey');"
      ],
      "execution_count": 28,
      "outputs": [
        {
          "output_type": "display_data",
          "data": {
            "image/png": "[encoded data removed]",
            "text/plain": [
              "<Figure size 720x720 with 1 Axes>"
            ]
          },
          "metadata": {
            "tags": []
          }
        }
      ]
    },
    {
      "cell_type": "code",
      "metadata": {
        "id": "3JD9o2aKjB6W",
        "colab_type": "code",
        "colab": {
          "base_uri": "https://localhost:8080/",
          "height": 51
        },
        "outputId": "1287bce9-4ca1-425b-85cc-54f5778e42b7"
      },
      "source": [
        "# the above didn't change anything, will try with selectKbest:\n",
        "from sklearn.feature_selection import SelectKBest\n",
        "sec_pipeline = make_pipeline(\n",
        "    ce.OrdinalEncoder(),\n",
        "    SimpleImputer(strategy='median'),\n",
        "    SelectKBest(k=27),\n",
        "    RandomForestClassifier(n_estimators=100, random_state=42, n_jobs=-1)\n",
        ")\n",
        "\n",
        "\n",
        "sec_pipeline.fit(X_train1, y_train1)\n",
        "print('Train Accuracy', sec_pipeline.score(X_train1, y_train1))\n",
        "print('Validation Accuracy', sec_pipeline.score(X_val1, y_val1))"
      ],
      "execution_count": 37,
      "outputs": [
        {
          "output_type": "stream",
          "text": [
            "Train Accuracy 0.9987794612794613\n",
            "Validation Accuracy 0.7971380471380471\n"
          ],
          "name": "stdout"
        }
      ]
    },
    {
      "cell_type": "code",
      "metadata": {
        "id": "7oHtIZmqsMTI",
        "colab_type": "code",
        "colab": {
          "base_uri": "https://localhost:8080/",
          "height": 51
        },
        "outputId": "b68dd857-ecb7-4999-f9ac-b762e5fc4f8d"
      },
      "source": [
        "# w/high cardinality features removed:\n",
        "# not better\n",
        "from sklearn.feature_selection import SelectKBest\n",
        "sec_pipeline = make_pipeline(\n",
        "    ce.OrdinalEncoder(),\n",
        "    SimpleImputer(strategy='median'),\n",
        "    SelectKBest(k=28),\n",
        "    RandomForestClassifier(n_estimators=350, random_state=42, n_jobs=-1)\n",
        ")\n",
        "\n",
        "\n",
        "sec_pipeline.fit(X_train, y_train)\n",
        "print('Train Accuracy', sec_pipeline.score(X_train, y_train))\n",
        "print('Validation Accuracy', sec_pipeline.score(X_val, y_val))"
      ],
      "execution_count": 44,
      "outputs": [
        {
          "output_type": "stream",
          "text": [
            "Train Accuracy 0.997895622895623\n",
            "Validation Accuracy 0.8097643097643098\n"
          ],
          "name": "stdout"
        }
      ]
    },
    {
      "cell_type": "code",
      "metadata": {
        "id": "ppnp9BVdj_IH",
        "colab_type": "code",
        "colab": {
          "base_uri": "https://localhost:8080/",
          "height": 51
        },
        "outputId": "65ed07b9-d542-4c43-bbe3-4a99f57e5c6d"
      },
      "source": [
        "# Try with one hot encoding and selectkbest:\n",
        "from sklearn.feature_selection import SelectKBest\n",
        "sec_pipeline = make_pipeline(\n",
        "    ce.OneHotEncoder(use_cat_names=True),\n",
        "    SimpleImputer(strategy='median'),\n",
        "    SelectKBest(k=95),\n",
        "    RandomForestClassifier(n_estimators=300, random_state=42, n_jobs=-1)\n",
        ")\n",
        "\n",
        "\n",
        "sec_pipeline.fit(X_train, y_train)\n",
        "print('Train Accuracy', sec_pipeline.score(X_train, y_train))\n",
        "print('Validation Accuracy', sec_pipeline.score(X_val, y_val))"
      ],
      "execution_count": 49,
      "outputs": [
        {
          "output_type": "stream",
          "text": [
            "Train Accuracy 0.9977904040404041\n",
            "Validation Accuracy 0.8038720538720538\n"
          ],
          "name": "stdout"
        }
      ]
    },
    {
      "cell_type": "code",
      "metadata": {
        "id": "jlSxywG1m80m",
        "colab_type": "code",
        "colab": {}
      },
      "source": [
        "# reduce cardinality for features\n",
        "def small_n(X_train, X_val, X_test):\n",
        "    cols = [i for i in X_train.columns if type(X_train[i].iloc[0]) == str]\n",
        "    X_train[cols] = X_train[cols].where(X_train[cols].apply(lambda x: x.map(x.value_counts())) > 100, \"other\")\n",
        "    for column in cols:\n",
        "        for i in X_val[column].unique():\n",
        "            if i not in X_train[column].unique():\n",
        "                X_val[column].replace(i, 'other', inplace=True)\n",
        "        for i in X_test[column].unique():\n",
        "            if i not in X_train[column].unique():\n",
        "                X_test[column].replace(i, 'other', inplace=True)\n",
        "    return X_train, X_val, X_test"
      ],
      "execution_count": 0,
      "outputs": []
    },
    {
      "cell_type": "code",
      "metadata": {
        "id": "ZZsLMzMLF2Yv",
        "colab_type": "code",
        "colab": {}
      },
      "source": [
        "# reduce cardinality for features\n",
        "def small_n(X_train1, X_val1, X_test1):\n",
        "    cols = [i for i in X_train1.columns if type(X_train[i].iloc[0]) == str]\n",
        "    X_train[cols] = X_train[cols].where(X_train1[cols].apply(lambda x: x.map(x.value_counts())) > 100, \"other\")\n",
        "    for column in cols:\n",
        "        for i in X_val1[column].unique():\n",
        "            if i not in X_train1[column].unique():\n",
        "                X_val1[column].replace(i, 'other', inplace=True)\n",
        "        for i in X_test1[column].unique():\n",
        "            if i not in X_train1[column].unique():\n",
        "                X_test1[column].replace(i, 'other', inplace=True)\n",
        "    return X_train1, X_val1, X_test1"
      ],
      "execution_count": 0,
      "outputs": []
    },
    {
      "cell_type": "code",
      "metadata": {
        "id": "u7PNsZrCogao",
        "colab_type": "code",
        "colab": {
          "base_uri": "https://localhost:8080/",
          "height": 51
        },
        "outputId": "c86e0ac4-f760-4576-8669-aa7960b62d96"
      },
      "source": [
        "# w/reduced cardinality on all features\n",
        "# second submission******\n",
        "from sklearn.feature_selection import SelectKBest\n",
        "my_pipeline = make_pipeline(\n",
        "    ce.OrdinalEncoder(),\n",
        "    SimpleImputer(strategy='median'),\n",
        "    SelectKBest(k=28),\n",
        "    RandomForestClassifier(n_estimators=450, random_state=42, n_jobs=-1)\n",
        ")\n",
        "\n",
        "\n",
        "my_pipeline.fit(X_train, y_train)\n",
        "print('Train Accuracy', my_pipeline.score(X_train, y_train))\n",
        "print('Validation Accuracy', my_pipeline.score(X_val, y_val))"
      ],
      "execution_count": 85,
      "outputs": [
        {
          "output_type": "stream",
          "text": [
            "Train Accuracy 0.997895622895623\n",
            "Validation Accuracy 0.8101010101010101\n"
          ],
          "name": "stdout"
        }
      ]
    },
    {
      "cell_type": "code",
      "metadata": {
        "id": "4DzKXQICGLgp",
        "colab_type": "code",
        "colab": {
          "base_uri": "https://localhost:8080/",
          "height": 51
        },
        "outputId": "db9474f5-c7d4-4e0d-e46d-1de9e4a45067"
      },
      "source": [
        "# w/reduced cardinality on all features\n",
        "# worse\n",
        "from sklearn.feature_selection import SelectKBest\n",
        "my_pipeline = make_pipeline(\n",
        "    ce.OrdinalEncoder(),\n",
        "    SimpleImputer(strategy='median'),\n",
        "    SelectKBest(k=28),\n",
        "    RandomForestClassifier(n_estimators=450, random_state=42, n_jobs=-1)\n",
        ")\n",
        "\n",
        "\n",
        "my_pipeline.fit(X_train1, y_train)\n",
        "print('Train Accuracy', my_pipeline.score(X_train1, y_train))\n",
        "print('Validation Accuracy', my_pipeline.score(X_val1, y_val))"
      ],
      "execution_count": 83,
      "outputs": [
        {
          "output_type": "stream",
          "text": [
            "Train Accuracy 0.9988005050505051\n",
            "Validation Accuracy 0.7966329966329966\n"
          ],
          "name": "stdout"
        }
      ]
    },
    {
      "cell_type": "code",
      "metadata": {
        "id": "LOuIp4s1o_qV",
        "colab_type": "code",
        "colab": {
          "base_uri": "https://localhost:8080/",
          "height": 51
        },
        "outputId": "dc0d9c50-80bf-4db9-d83f-f80e58851a1d"
      },
      "source": [
        "# w/high cardinality features removed:\n",
        "# not better\n",
        "thi_pipeline = make_pipeline(\n",
        "    ce.OneHotEncoder(use_cat_names=True),\n",
        "    SimpleImputer(strategy='median'),\n",
        "    SelectKBest(k=100),\n",
        "    RandomForestClassifier(n_estimators=350, random_state=42, n_jobs=-1)\n",
        ")\n",
        "\n",
        "\n",
        "thi_pipeline.fit(X_train, y_train)\n",
        "print('Train Accuracy', thi_pipeline.score(X_train, y_train))\n",
        "print('Validation Accuracy', thi_pipeline.score(X_val, y_val))"
      ],
      "execution_count": 66,
      "outputs": [
        {
          "output_type": "stream",
          "text": [
            "Train Accuracy 0.9977904040404041\n",
            "Validation Accuracy 0.8024410774410774\n"
          ],
          "name": "stdout"
        }
      ]
    },
    {
      "cell_type": "code",
      "metadata": {
        "id": "n49td1IF8N_H",
        "colab_type": "code",
        "colab": {}
      },
      "source": [
        "y_pred = my_pipeline.predict(X_test)\n",
        "submission = sample_submission.copy()\n",
        "submission['status_group'] = y_pred\n",
        "submission.to_csv('Maggie-Jarman-submis3.csv', index=False)"
      ],
      "execution_count": 0,
      "outputs": []
    },
    {
      "cell_type": "code",
      "metadata": {
        "id": "YmHHLSrX9kXk",
        "colab_type": "code",
        "colab": {}
      },
      "source": [
        "from google.colab import files\n",
        "files.download('Maggie-Jarman-submis3.csv')"
      ],
      "execution_count": 0,
      "outputs": []
    },
    {
      "cell_type": "code",
      "metadata": {
        "id": "guSePYLbCarr",
        "colab_type": "code",
        "colab": {}
      },
      "source": [
        ""
      ],
      "execution_count": 0,
      "outputs": []
    }
  ]
}