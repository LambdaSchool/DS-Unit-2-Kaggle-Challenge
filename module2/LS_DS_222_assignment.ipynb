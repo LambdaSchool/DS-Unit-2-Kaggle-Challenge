{
  "nbformat": 4,
  "nbformat_minor": 0,
  "metadata": {
    "colab": {
      "name": "jcs-assignment_kaggle_challenge_2.ipynb",
      "provenance": [],
      "collapsed_sections": [],
      "include_colab_link": true
    },
    "kernelspec": {
      "display_name": "Python 3",
      "language": "python",
      "name": "python3"
    },
    "language_info": {
      "codemirror_mode": {
        "name": "ipython",
        "version": 3
      },
      "file_extension": ".py",
      "mimetype": "text/x-python",
      "name": "python",
      "nbconvert_exporter": "python",
      "pygments_lexer": "ipython3",
      "version": "3.7.3"
    }
  },
  "cells": [
    {
      "cell_type": "markdown",
      "metadata": {
        "id": "view-in-github",
        "colab_type": "text"
      },
      "source": [
        "<a href=\"https://colab.research.google.com/github/jcs-lambda/DS-Unit-2-Kaggle-Challenge/blob/master/module2/LS_DS_222_assignment.ipynb\" target=\"_parent\"><img src=\"https://colab.research.google.com/assets/colab-badge.svg\" alt=\"Open In Colab\"/></a>"
      ]
    },
    {
      "cell_type": "markdown",
      "metadata": {
        "id": "EVkL1uTnWXrb",
        "colab_type": "text"
      },
      "source": [
        "Lambda School Data Science\n",
        "\n",
        "*Unit 2, Sprint 2, Module 2*\n",
        "\n",
        "---"
      ]
    },
    {
      "cell_type": "markdown",
      "metadata": {
        "colab_type": "text",
        "id": "7IXUfiQ2UKj6"
      },
      "source": [
        "# Random Forests\n",
        "\n",
        "## Assignment\n",
        "- [ ] Read [“Adopting a Hypothesis-Driven Workflow”](https://outline.com/5S5tsB), a blog post by a Lambda DS student about the Tanzania Waterpumps challenge.\n",
        "- [ ] Continue to participate in our Kaggle challenge.\n",
        "- [ ] Define a function to wrangle train, validate, and test sets in the same way. Clean outliers and engineer features.\n",
        "- [ ] Try Ordinal Encoding.\n",
        "- [ ] Try a Random Forest Classifier.\n",
        "- [ ] Submit your predictions to our Kaggle competition. (Go to our Kaggle InClass competition webpage. Use the blue **Submit Predictions** button to upload your CSV file. Or you can use the Kaggle API to submit your predictions.)\n",
        "- [ ] Commit your notebook to your fork of the GitHub repo.\n",
        "\n",
        "## Stretch Goals\n",
        "\n",
        "### Doing\n",
        "- [ ] Add your own stretch goal(s) !\n",
        "- [ ] Do more exploratory data analysis, data cleaning, feature engineering, and feature selection.\n",
        "- [ ] Try other [categorical encodings](https://contrib.scikit-learn.org/categorical-encoding/).\n",
        "- [ ] Get and plot your feature importances.\n",
        "- [ ] Make visualizations and share on Slack.\n",
        "\n",
        "### Reading\n",
        "\n",
        "Top recommendations in _**bold italic:**_\n",
        "\n",
        "#### Decision Trees\n",
        "- A Visual Introduction to Machine Learning, [Part 1: A Decision Tree](http://www.r2d3.us/visual-intro-to-machine-learning-part-1/),  and _**[Part 2: Bias and Variance](http://www.r2d3.us/visual-intro-to-machine-learning-part-2/)**_\n",
        "- [Decision Trees: Advantages & Disadvantages](https://christophm.github.io/interpretable-ml-book/tree.html#advantages-2)\n",
        "- [How a Russian mathematician constructed a decision tree — by hand — to solve a medical problem](http://fastml.com/how-a-russian-mathematician-constructed-a-decision-tree-by-hand-to-solve-a-medical-problem/)\n",
        "- [How decision trees work](https://brohrer.github.io/how_decision_trees_work.html)\n",
        "- [Let’s Write a Decision Tree Classifier from Scratch](https://www.youtube.com/watch?v=LDRbO9a6XPU)\n",
        "\n",
        "#### Random Forests\n",
        "- [_An Introduction to Statistical Learning_](http://www-bcf.usc.edu/~gareth/ISL/), Chapter 8: Tree-Based Methods\n",
        "- [Coloring with Random Forests](http://structuringtheunstructured.blogspot.com/2017/11/coloring-with-random-forests.html)\n",
        "- _**[Random Forests for Complete Beginners: The definitive guide to Random Forests and Decision Trees](https://victorzhou.com/blog/intro-to-random-forests/)**_\n",
        "\n",
        "#### Categorical encoding for trees\n",
        "- [Are categorical variables getting lost in your random forests?](https://roamanalytics.com/2016/10/28/are-categorical-variables-getting-lost-in-your-random-forests/)\n",
        "- [Beyond One-Hot: An Exploration of Categorical Variables](http://www.willmcginnis.com/2015/11/29/beyond-one-hot-an-exploration-of-categorical-variables/)\n",
        "- _**[Categorical Features and Encoding in Decision Trees](https://medium.com/data-design/visiting-categorical-features-and-encoding-in-decision-trees-53400fa65931)**_\n",
        "- _**[Coursera — How to Win a Data Science Competition: Learn from Top Kagglers — Concept of mean encoding](https://www.coursera.org/lecture/competitive-data-science/concept-of-mean-encoding-b5Gxv)**_\n",
        "- [Mean (likelihood) encodings: a comprehensive study](https://www.kaggle.com/vprokopev/mean-likelihood-encodings-a-comprehensive-study)\n",
        "- [The Mechanics of Machine Learning, Chapter 6: Categorically Speaking](https://mlbook.explained.ai/catvars.html)\n",
        "\n",
        "#### Imposter Syndrome\n",
        "- [Effort Shock and Reward Shock (How The Karate Kid Ruined The Modern World)](http://www.tempobook.com/2014/07/09/effort-shock-and-reward-shock/)\n",
        "- [How to manage impostor syndrome in data science](https://towardsdatascience.com/how-to-manage-impostor-syndrome-in-data-science-ad814809f068)\n",
        "- [\"I am not a real data scientist\"](https://brohrer.github.io/imposter_syndrome.html)\n",
        "- _**[Imposter Syndrome in Data Science](https://caitlinhudon.com/2018/01/19/imposter-syndrome-in-data-science/)**_\n",
        "\n",
        "\n",
        "### More Categorical Encodings\n",
        "\n",
        "**1.** The article **[Categorical Features and Encoding in Decision Trees](https://medium.com/data-design/visiting-categorical-features-and-encoding-in-decision-trees-53400fa65931)** mentions 4 encodings:\n",
        "\n",
        "- **\"Categorical Encoding\":** This means using the raw categorical values as-is, not encoded. Scikit-learn doesn't support this, but some tree algorithm implementations do. For example, [Catboost](https://catboost.ai/), or R's [rpart](https://cran.r-project.org/web/packages/rpart/index.html) package.\n",
        "- **Numeric Encoding:** Synonymous with Label Encoding, or \"Ordinal\" Encoding with random order. We can use [category_encoders.OrdinalEncoder](https://contrib.scikit-learn.org/categorical-encoding/ordinal.html).\n",
        "- **One-Hot Encoding:** We can use [category_encoders.OneHotEncoder](http://contrib.scikit-learn.org/categorical-encoding/onehot.html).\n",
        "- **Binary Encoding:** We can use [category_encoders.BinaryEncoder](http://contrib.scikit-learn.org/categorical-encoding/binary.html).\n",
        "\n",
        "\n",
        "**2.** The short video \n",
        "**[Coursera — How to Win a Data Science Competition: Learn from Top Kagglers — Concept of mean encoding](https://www.coursera.org/lecture/competitive-data-science/concept-of-mean-encoding-b5Gxv)** introduces an interesting idea: use both X _and_ y to encode categoricals.\n",
        "\n",
        "Category Encoders has multiple implementations of this general concept:\n",
        "\n",
        "- [CatBoost Encoder](http://contrib.scikit-learn.org/categorical-encoding/catboost.html)\n",
        "- [James-Stein Encoder](http://contrib.scikit-learn.org/categorical-encoding/jamesstein.html)\n",
        "- [Leave One Out](http://contrib.scikit-learn.org/categorical-encoding/leaveoneout.html)\n",
        "- [M-estimate](http://contrib.scikit-learn.org/categorical-encoding/mestimate.html)\n",
        "- [Target Encoder](http://contrib.scikit-learn.org/categorical-encoding/targetencoder.html)\n",
        "- [Weight of Evidence](http://contrib.scikit-learn.org/categorical-encoding/woe.html)\n",
        "\n",
        "Category Encoder's mean encoding implementations work for regression problems or binary classification problems. \n",
        "\n",
        "For multi-class classification problems, you will need to temporarily reformulate it as binary classification. For example:\n",
        "\n",
        "```python\n",
        "encoder = ce.TargetEncoder(min_samples_leaf=..., smoothing=...) # Both parameters > 1 to avoid overfitting\n",
        "X_train_encoded = encoder.fit_transform(X_train, y_train=='functional')\n",
        "X_val_encoded = encoder.transform(X_train, y_val=='functional')\n",
        "```\n",
        "\n",
        "For this reason, mean encoding won't work well within pipelines for multi-class classification problems.\n",
        "\n",
        "**3.** The **[dirty_cat](https://dirty-cat.github.io/stable/)** library has a Target Encoder implementation that works with multi-class classification.\n",
        "\n",
        "```python\n",
        " dirty_cat.TargetEncoder(clf_type='multiclass-clf')\n",
        "```\n",
        "It also implements an interesting idea called [\"Similarity Encoder\" for dirty categories](https://www.slideshare.net/GaelVaroquaux/machine-learning-on-non-curated-data-154905090).\n",
        "\n",
        "However, it seems like dirty_cat doesn't handle missing values or unknown categories as well as category_encoders does. And you may need to use it with one column at a time, instead of with your whole dataframe.\n",
        "\n",
        "**4. [Embeddings](https://www.kaggle.com/learn/embeddings)** can work well with sparse / high cardinality categoricals.\n",
        "\n",
        "_**I hope it’s not too frustrating or confusing that there’s not one “canonical” way to encode categoricals. It’s an active area of research and experimentation! Maybe you can make your own contributions!**_"
      ]
    },
    {
      "cell_type": "markdown",
      "metadata": {
        "id": "0lSr0zt2WXrj",
        "colab_type": "text"
      },
      "source": [
        "### Setup\n",
        "\n",
        "You can work locally (follow the [local setup instructions](https://lambdaschool.github.io/ds/unit2/local/)) or on Colab (run the code cell below)."
      ]
    },
    {
      "cell_type": "code",
      "metadata": {
        "colab_type": "code",
        "id": "o9eSnDYhUGD7",
        "colab": {}
      },
      "source": [
        "%%capture\n",
        "import sys\n",
        "\n",
        "# If you're on Colab:\n",
        "if 'google.colab' in sys.modules:\n",
        "    DATA_PATH = 'https://raw.githubusercontent.com/LambdaSchool/DS-Unit-2-Kaggle-Challenge/master/data/'\n",
        "    !pip install --quiet category_encoders==2.*\n",
        "    !pip install -U --quiet pandas-profiling\n",
        "\n",
        "# If you're working locally:\n",
        "else:\n",
        "    DATA_PATH = '../data/'"
      ],
      "execution_count": 0,
      "outputs": []
    },
    {
      "cell_type": "code",
      "metadata": {
        "colab_type": "code",
        "id": "QJBD4ruICm1m",
        "colab": {
          "base_uri": "https://localhost:8080/",
          "height": 32
        },
        "outputId": "663ed6c3-6ca1-4f97-ebb9-c7496bfa44e9"
      },
      "source": [
        "import pandas as pd\n",
        "from sklearn.model_selection import train_test_split\n",
        "\n",
        "train = pd.merge(pd.read_csv(DATA_PATH+'waterpumps/train_features.csv'), \n",
        "                 pd.read_csv(DATA_PATH+'waterpumps/train_labels.csv'))\n",
        "test = pd.read_csv(DATA_PATH+'waterpumps/test_features.csv')\n",
        "sample_submission = pd.read_csv(DATA_PATH+'waterpumps/sample_submission.csv')\n",
        "\n",
        "train.shape, test.shape"
      ],
      "execution_count": 2,
      "outputs": [
        {
          "output_type": "execute_result",
          "data": {
            "text/plain": [
              "((59400, 41), (14358, 40))"
            ]
          },
          "metadata": {
            "tags": []
          },
          "execution_count": 2
        }
      ]
    },
    {
      "cell_type": "markdown",
      "metadata": {
        "id": "XcvTQor8YeVd",
        "colab_type": "text"
      },
      "source": [
        "# My Work"
      ]
    },
    {
      "cell_type": "markdown",
      "metadata": {
        "id": "nf6QBQXFWXr1",
        "colab_type": "text"
      },
      "source": [
        "## Imports / setup"
      ]
    },
    {
      "cell_type": "code",
      "metadata": {
        "id": "eyM5EntwYlrA",
        "colab_type": "code",
        "colab": {}
      },
      "source": [
        "import pandas as pd\n",
        "import numpy as np\n",
        "import pandas_profiling\n",
        "import category_encoders as ce\n",
        "import matplotlib.pyplot as plt\n",
        "import seaborn as sns\n",
        "import plotly.express as px\n",
        "import graphviz\n",
        "import itertools\n",
        "import re\n",
        "import random\n",
        "\n",
        "from sklearn.impute import SimpleImputer\n",
        "from sklearn.preprocessing import StandardScaler\n",
        "from sklearn.feature_selection import SelectKBest, f_regression\n",
        "from sklearn.linear_model import Ridge, RidgeCV, LinearRegression, LogisticRegression, LogisticRegressionCV\n",
        "from sklearn.metrics import mean_absolute_error, mean_squared_error, accuracy_score\n",
        "from sklearn.model_selection import train_test_split\n",
        "from sklearn.pipeline import make_pipeline, Pipeline\n",
        "from sklearn.tree import DecisionTreeClassifier, DecisionTreeRegressor, export_graphviz\n",
        "from sklearn.ensemble import RandomForestClassifier\n",
        "\n",
        "from google.colab import files\n",
        "from google.colab.data_table import DataTable"
      ],
      "execution_count": 0,
      "outputs": []
    },
    {
      "cell_type": "code",
      "metadata": {
        "id": "RQw5sdd5fpFE",
        "colab_type": "code",
        "colab": {}
      },
      "source": [
        "pd.options.display.max_rows = 999\n",
        "pd.options.display.max_columns = 100"
      ],
      "execution_count": 0,
      "outputs": []
    },
    {
      "cell_type": "code",
      "metadata": {
        "id": "XkFv6OYdbQM-",
        "colab_type": "code",
        "colab": {}
      },
      "source": [
        "random_state = 13"
      ],
      "execution_count": 0,
      "outputs": []
    },
    {
      "cell_type": "markdown",
      "metadata": {
        "id": "MTzqdukAg-K5",
        "colab_type": "text"
      },
      "source": [
        "## Utility functions"
      ]
    },
    {
      "cell_type": "code",
      "metadata": {
        "id": "WssZrOqyhCNG",
        "colab_type": "code",
        "colab": {}
      },
      "source": [
        "def shapes(dataframe_list, name_list):\n",
        "  for name, dataframe in zip(name_list, dataframe_list):\n",
        "    print(f'{name} shape: {dataframe.shape}')"
      ],
      "execution_count": 0,
      "outputs": []
    },
    {
      "cell_type": "markdown",
      "metadata": {
        "id": "4_Mmrsdba0Ui",
        "colab_type": "text"
      },
      "source": [
        "## Train / validate / test split"
      ]
    },
    {
      "cell_type": "code",
      "metadata": {
        "id": "22jfvlBja50F",
        "colab_type": "code",
        "colab": {}
      },
      "source": [
        "from sklearn.model_selection import train_test_split\n",
        "\n",
        "def tvt_splitter(df_train, df_test=None):\n",
        "  train = df_train.copy()\n",
        "  if df_test is None:\n",
        "    train, test = train_test_split(train, randome_state=random_state)\n",
        "  else:\n",
        "    test = df_test.copy()\n",
        "  \n",
        "  train, validate = train_test_split(train, random_state=random_state)\n",
        "\n",
        "  return train, validate, test"
      ],
      "execution_count": 0,
      "outputs": []
    },
    {
      "cell_type": "code",
      "metadata": {
        "id": "uFaLtl--dFoP",
        "colab_type": "code",
        "colab": {
          "base_uri": "https://localhost:8080/",
          "height": 65
        },
        "outputId": "21836514-fd4e-4ccf-89ae-44c1200848be"
      },
      "source": [
        "df_train, df_validate, df_test = tvt_splitter(df_train=train, df_test=test)\n",
        "shapes([df_train, df_validate, df_test], ['Train', 'Validate', 'Test'])"
      ],
      "execution_count": 8,
      "outputs": [
        {
          "output_type": "stream",
          "text": [
            "Train shape: (44550, 41)\n",
            "Validate shape: (14850, 41)\n",
            "Test shape: (14358, 40)\n"
          ],
          "name": "stdout"
        }
      ]
    },
    {
      "cell_type": "markdown",
      "metadata": {
        "id": "IGsABuoWaELO",
        "colab_type": "text"
      },
      "source": [
        "## Wrangler"
      ]
    },
    {
      "cell_type": "code",
      "metadata": {
        "id": "ZcUEe4AwZhuJ",
        "colab_type": "code",
        "colab": {}
      },
      "source": [
        "def wrangle(dataframe):\n",
        "  df = dataframe.copy()\n",
        "\n",
        "  # date_recorded to pandas datetime objects\n",
        "  df['date_recorded'] = pd.to_datetime(df['date_recorded'], infer_datetime_format=True, errors='coerce')\n",
        "\n",
        "  # source - combine 'unknown' with 'other'\n",
        "  df['source'] = df['source'].str.replace('unknown', 'other')\n",
        "\n",
        "  return df"
      ],
      "execution_count": 0,
      "outputs": []
    },
    {
      "cell_type": "code",
      "metadata": {
        "id": "GZKGT239gnFi",
        "colab_type": "code",
        "colab": {}
      },
      "source": [
        "df_train = wrangle(df_train)\n",
        "df_validate = wrangle(df_validate)\n",
        "df_test = wrangle(df_test)"
      ],
      "execution_count": 0,
      "outputs": []
    },
    {
      "cell_type": "markdown",
      "metadata": {
        "id": "cyopW-I3lstV",
        "colab_type": "text"
      },
      "source": [
        "## Define X feature matrices and y target vectors"
      ]
    },
    {
      "cell_type": "code",
      "metadata": {
        "id": "DVwfLZLKuWbU",
        "colab_type": "code",
        "colab": {
          "base_uri": "https://localhost:8080/",
          "height": 197
        },
        "outputId": "326024d4-9931-4760-de32-83f5c8a7e7dc"
      },
      "source": [
        "#@title Available features { vertical-output: true, display-mode: \"form\" }\n",
        "df_train.columns"
      ],
      "execution_count": 27,
      "outputs": [
        {
          "output_type": "execute_result",
          "data": {
            "text/plain": [
              "Index(['id', 'amount_tsh', 'date_recorded', 'funder', 'gps_height',\n",
              "       'installer', 'longitude', 'latitude', 'wpt_name', 'num_private',\n",
              "       'basin', 'subvillage', 'region', 'region_code', 'district_code', 'lga',\n",
              "       'ward', 'population', 'public_meeting', 'recorded_by',\n",
              "       'scheme_management', 'scheme_name', 'permit', 'construction_year',\n",
              "       'extraction_type', 'extraction_type_group', 'extraction_type_class',\n",
              "       'management', 'management_group', 'payment', 'payment_type',\n",
              "       'water_quality', 'quality_group', 'quantity', 'quantity_group',\n",
              "       'source', 'source_type', 'source_class', 'waterpoint_type',\n",
              "       'waterpoint_type_group', 'status_group'],\n",
              "      dtype='object')"
            ]
          },
          "metadata": {
            "tags": []
          },
          "execution_count": 27
        }
      ]
    },
    {
      "cell_type": "code",
      "metadata": {
        "id": "BZWrWpaelxF_",
        "colab_type": "code",
        "colab": {}
      },
      "source": [
        "#@title Define prediction target\n",
        "target = 'status_group'"
      ],
      "execution_count": 0,
      "outputs": []
    },
    {
      "cell_type": "code",
      "metadata": {
        "id": "em21M9-1lx_j",
        "colab_type": "code",
        "colab": {}
      },
      "source": [
        "#@title Define various feature groups / characteristics\n",
        "\n",
        "# columns to never select as features\n",
        "#  target - that would ruin the model\n",
        "#  id - it is unique to each observation\n",
        "#  recorded_by - same value for all observations\n",
        "never_use = [target, 'id', 'recorded_by']\n",
        "\n",
        "# redundant features\n",
        "#  quantity_group - duplicate of quantity\n",
        "#  waterpoint_type_group - re-encoding with fewer categories of waterpoint_type\n",
        "#  quality_group - re-encoding with fewer categories of water_quality\n",
        "#  source_type - re-encoding with fewer categories of source\n",
        "redundant_features = [\n",
        "  'quantity_group', 'waterpoint_type_group', 'quality_group',\n",
        "  'source_type', \n",
        "]\n",
        "\n",
        "# high cardinality\n",
        "cardinality = train.select_dtypes(exclude='number').nunique()\n",
        "high_cardinality = cardinality[cardinality > 50].index.to_list()\n",
        "low_cardinality = cardinality[cardinality < 51].index.to_list()"
      ],
      "execution_count": 0,
      "outputs": []
    },
    {
      "cell_type": "code",
      "metadata": {
        "id": "b3rPFJKKl3Ra",
        "colab_type": "code",
        "colab": {}
      },
      "source": [
        "#@title Define various features sets\n",
        "\n",
        "features_set_1 = df_train.columns.drop(never_use)\n",
        "features_set_2 = df_train.columns.drop(set(never_use + redundant_features + ['date_recorded']))\n",
        "features_set_3 = df_train.columns.drop(set(never_use + high_cardinality))"
      ],
      "execution_count": 0,
      "outputs": []
    },
    {
      "cell_type": "code",
      "metadata": {
        "id": "-_B1CuifmD8h",
        "colab_type": "code",
        "colab": {
          "base_uri": "https://localhost:8080/",
          "height": 197
        },
        "outputId": "87aabf9c-710e-4226-8723-d0c81b2e2d40"
      },
      "source": [
        "#@title Choose features { run: \"auto\", vertical-output: true }\n",
        "\n",
        "features = features_set_2 #@param [\"features_set_1\", \"features_set_2\", \"features_set_3\"] {type:\"raw\"}\n",
        "\n",
        "print(f'Targeting: {target}\\n\\nUsing features: {features}')\n",
        "\n",
        "X_train = df_train[features]\n",
        "X_validate = df_validate[features]\n",
        "X_test = df_test[features]\n",
        "\n",
        "y_train = df_train[target]\n",
        "y_validate = df_validate[target]"
      ],
      "execution_count": 24,
      "outputs": [
        {
          "output_type": "stream",
          "text": [
            "Targeting: status_group\n",
            "\n",
            "Using features: Index(['amount_tsh', 'funder', 'gps_height', 'installer', 'longitude',\n",
            "       'latitude', 'wpt_name', 'num_private', 'basin', 'subvillage', 'region',\n",
            "       'region_code', 'district_code', 'lga', 'ward', 'population',\n",
            "       'public_meeting', 'scheme_management', 'scheme_name', 'permit',\n",
            "       'construction_year', 'extraction_type', 'extraction_type_group',\n",
            "       'extraction_type_class', 'management', 'management_group', 'payment',\n",
            "       'payment_type', 'water_quality', 'quantity', 'source', 'source_class',\n",
            "       'waterpoint_type'],\n",
            "      dtype='object')\n"
          ],
          "name": "stdout"
        }
      ]
    },
    {
      "cell_type": "markdown",
      "metadata": {
        "id": "M7V5486LnbTo",
        "colab_type": "text"
      },
      "source": [
        "## baseline"
      ]
    },
    {
      "cell_type": "markdown",
      "metadata": {
        "id": "fXMOpsSQnbD5",
        "colab_type": "text"
      },
      "source": [
        "### majority class"
      ]
    },
    {
      "cell_type": "code",
      "metadata": {
        "id": "7QIDzC3fning",
        "colab_type": "code",
        "colab": {
          "base_uri": "https://localhost:8080/",
          "height": 82
        },
        "outputId": "813edc26-7580-4277-a570-a4dfa1cdb9b8"
      },
      "source": [
        "y_train.value_counts(normalize=True)"
      ],
      "execution_count": 15,
      "outputs": [
        {
          "output_type": "execute_result",
          "data": {
            "text/plain": [
              "functional                 0.542761\n",
              "non functional             0.384534\n",
              "functional needs repair    0.072705\n",
              "Name: status_group, dtype: float64"
            ]
          },
          "metadata": {
            "tags": []
          },
          "execution_count": 15
        }
      ]
    },
    {
      "cell_type": "code",
      "metadata": {
        "id": "W7VWNQi5n0B7",
        "colab_type": "code",
        "colab": {
          "base_uri": "https://localhost:8080/",
          "height": 32
        },
        "outputId": "13495296-c277-4609-d4a6-ec6ca2092234"
      },
      "source": [
        "y_pred = [y_train.mode()[0]] * len(y_validate)\n",
        "\n",
        "baseline_majority_validate_accuracy = accuracy_score(y_validate, y_pred)\n",
        "print(f'Baseline majority class validation accuracy: {baseline_majority_validate_accuracy * 100:.2f}%')"
      ],
      "execution_count": 16,
      "outputs": [
        {
          "output_type": "stream",
          "text": [
            "Baseline majority class validation accuracy: 54.40%\n"
          ],
          "name": "stdout"
        }
      ]
    },
    {
      "cell_type": "markdown",
      "metadata": {
        "id": "cYdnCzrDoXDS",
        "colab_type": "text"
      },
      "source": [
        "### random guessing"
      ]
    },
    {
      "cell_type": "code",
      "metadata": {
        "id": "Fr4-LL1joaH4",
        "colab_type": "code",
        "colab": {
          "base_uri": "https://localhost:8080/",
          "height": 32
        },
        "outputId": "4c73ff5f-2be0-4b8f-c568-dcff44b78dd5"
      },
      "source": [
        "y_pred = random.choices(y_train.value_counts().index, k=len(y_validate))\n",
        "\n",
        "baseline_random_guess_accuracy = accuracy_score(y_validate, y_pred)\n",
        "print(f'Baseline random guess validation accuracy: {baseline_random_guess_accuracy * 100:.2f}%')"
      ],
      "execution_count": 17,
      "outputs": [
        {
          "output_type": "stream",
          "text": [
            "Baseline random guess validation accuracy: 33.70%\n"
          ],
          "name": "stdout"
        }
      ]
    },
    {
      "cell_type": "markdown",
      "metadata": {
        "id": "mZsK08xDqERA",
        "colab_type": "text"
      },
      "source": [
        "### simple decision tree"
      ]
    },
    {
      "cell_type": "code",
      "metadata": {
        "id": "oRfDsOPYqI5V",
        "colab_type": "code",
        "colab": {}
      },
      "source": [
        ""
      ],
      "execution_count": 0,
      "outputs": []
    },
    {
      "cell_type": "markdown",
      "metadata": {
        "id": "5NG0isrXrpYT",
        "colab_type": "text"
      },
      "source": [
        "## Pipelines"
      ]
    },
    {
      "cell_type": "code",
      "metadata": {
        "id": "fOVYB_Byrrkn",
        "colab_type": "code",
        "colab": {}
      },
      "source": [
        "#@title define various pipelines\n",
        "\n",
        "pipeline_1 = Pipeline([\n",
        "    ('encoder', ce.OrdinalEncoder()),\n",
        "    ('imputer', SimpleImputer(strategy='median')),\n",
        "    ('model', RandomForestClassifier(n_estimators=100, random_state=random_state, n_jobs=-1))\n",
        "])"
      ],
      "execution_count": 0,
      "outputs": []
    },
    {
      "cell_type": "code",
      "metadata": {
        "id": "ZwNqx5VXtnRr",
        "colab_type": "code",
        "colab": {
          "base_uri": "https://localhost:8080/",
          "height": 49
        },
        "outputId": "8f1e328d-03ed-4dba-abb4-8139d629a354"
      },
      "source": [
        "#@title Choose a pipeline { run: \"auto\", vertical-output: true }\n",
        "\n",
        "pipeline = pipeline_1 #@param [\"pipeline_1\"] {type:\"raw\"}\n",
        "\n",
        "pipeline.fit(X_train, y_train)\n",
        "\n",
        "pipeline_accuracy_train =  pipeline.score(X_train, y_train)\n",
        "pipeline_accuracy_validate = pipeline.score(X_validate, y_validate)\n",
        "\n",
        "print(f'Train accuracy: {pipeline_accuracy_train * 100:.2f}%')\n",
        "print(f'Validate accuracy: {pipeline_accuracy_validate * 100:.2f}%')"
      ],
      "execution_count": 28,
      "outputs": [
        {
          "output_type": "stream",
          "text": [
            "Train accuracy: 100.00%\n",
            "Validate accuracy: 80.67%\n"
          ],
          "name": "stdout"
        }
      ]
    },
    {
      "cell_type": "markdown",
      "metadata": {
        "id": "jhMcC4pRu5Av",
        "colab_type": "text"
      },
      "source": [
        "## Kaggle predictions\n",
        "\n",
        "https://www.kaggle.com/t/d96cc6562ac047968fedc0abf0b433d9"
      ]
    },
    {
      "cell_type": "code",
      "metadata": {
        "id": "UCILPdeRvAIR",
        "colab_type": "code",
        "colab": {}
      },
      "source": [
        "y_pred = pipeline.predict(X_test)"
      ],
      "execution_count": 0,
      "outputs": []
    },
    {
      "cell_type": "code",
      "metadata": {
        "id": "cEMC1nxfvLKL",
        "colab_type": "code",
        "colab": {
          "base_uri": "https://localhost:8080/",
          "height": 32
        },
        "outputId": "5dc56f3b-ec6c-44e9-c2d4-a3f774630cd4"
      },
      "source": [
        "submission = sample_submission.copy()\n",
        "submission['status_group'] = y_pred\n",
        "\n",
        "submission.shape"
      ],
      "execution_count": 31,
      "outputs": [
        {
          "output_type": "execute_result",
          "data": {
            "text/plain": [
              "(14358, 2)"
            ]
          },
          "metadata": {
            "tags": []
          },
          "execution_count": 31
        }
      ]
    },
    {
      "cell_type": "code",
      "metadata": {
        "id": "Q0hp1oDUvPbr",
        "colab_type": "code",
        "colab": {}
      },
      "source": [
        "submission_file_name = 'jcs-lambda-DS10-22x-KaggleCompetition.csv'"
      ],
      "execution_count": 0,
      "outputs": []
    },
    {
      "cell_type": "code",
      "metadata": {
        "id": "f9_lBpUPvTNT",
        "colab_type": "code",
        "colab": {
          "base_uri": "https://localhost:8080/",
          "height": 181
        },
        "outputId": "60002d16-23b1-4ec6-a741-60d5a4411cd3"
      },
      "source": [
        "submission.to_csv(submission_file_name, index=False, header=True)\n",
        "!head \"$submission_file_name\""
      ],
      "execution_count": 33,
      "outputs": [
        {
          "output_type": "stream",
          "text": [
            "id,status_group\n",
            "50785,functional\n",
            "51630,functional\n",
            "17168,functional\n",
            "45559,non functional\n",
            "49871,functional\n",
            "52449,functional\n",
            "24806,non functional\n",
            "28965,non functional\n",
            "36301,non functional\n"
          ],
          "name": "stdout"
        }
      ]
    },
    {
      "cell_type": "code",
      "metadata": {
        "id": "9pURARIAvWWz",
        "colab_type": "code",
        "colab": {}
      },
      "source": [
        "files.download(submission_file_name)"
      ],
      "execution_count": 0,
      "outputs": []
    }
  ]
}