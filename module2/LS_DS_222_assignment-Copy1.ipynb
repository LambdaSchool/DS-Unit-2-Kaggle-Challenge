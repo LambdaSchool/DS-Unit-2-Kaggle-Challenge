{
 "cells": [
  {
   "cell_type": "markdown",
   "metadata": {},
   "source": [
    "Lambda School Data Science\n",
    "\n",
    "*Unit 2, Sprint 2, Module 2*\n",
    "\n",
    "---"
   ]
  },
  {
   "cell_type": "markdown",
   "metadata": {
    "colab_type": "text",
    "id": "7IXUfiQ2UKj6"
   },
   "source": [
    "# Random Forests\n",
    "\n",
    "## Assignment\n",
    "- [ ] Read [“Adopting a Hypothesis-Driven Workflow”](https://outline.com/5S5tsB), a blog post by a Lambda DS student about the Tanzania Waterpumps challenge.\n",
    "- [ ] Continue to participate in our Kaggle challenge.\n",
    "- [ ] Define a function to wrangle train, validate, and test sets in the same way. Clean outliers and engineer features.\n",
    "- [ ] Try Ordinal Encoding.\n",
    "- [ ] Try a Random Forest Classifier.\n",
    "- [ ] Submit your predictions to our Kaggle competition. (Go to our Kaggle InClass competition webpage. Use the blue **Submit Predictions** button to upload your CSV file. Or you can use the Kaggle API to submit your predictions.)\n",
    "- [ ] Commit your notebook to your fork of the GitHub repo.\n",
    "\n",
    "## Stretch Goals\n",
    "\n",
    "### Doing\n",
    "- [ ] Add your own stretch goal(s) !\n",
    "- [ ] Do more exploratory data analysis, data cleaning, feature engineering, and feature selection.\n",
    "- [ ] Try other [categorical encodings](https://contrib.scikit-learn.org/categorical-encoding/).\n",
    "- [ ] Get and plot your feature importances.\n",
    "- [ ] Make visualizations and share on Slack.\n",
    "\n",
    "### Reading\n",
    "\n",
    "Top recommendations in _**bold italic:**_\n",
    "\n",
    "#### Decision Trees\n",
    "- A Visual Introduction to Machine Learning, [Part 1: A Decision Tree](http://www.r2d3.us/visual-intro-to-machine-learning-part-1/),  and _**[Part 2: Bias and Variance](http://www.r2d3.us/visual-intro-to-machine-learning-part-2/)**_\n",
    "- [Decision Trees: Advantages & Disadvantages](https://christophm.github.io/interpretable-ml-book/tree.html#advantages-2)\n",
    "- [How a Russian mathematician constructed a decision tree — by hand — to solve a medical problem](http://fastml.com/how-a-russian-mathematician-constructed-a-decision-tree-by-hand-to-solve-a-medical-problem/)\n",
    "- [How decision trees work](https://brohrer.github.io/how_decision_trees_work.html)\n",
    "- [Let’s Write a Decision Tree Classifier from Scratch](https://www.youtube.com/watch?v=LDRbO9a6XPU)\n",
    "\n",
    "#### Random Forests\n",
    "- [_An Introduction to Statistical Learning_](http://www-bcf.usc.edu/~gareth/ISL/), Chapter 8: Tree-Based Methods\n",
    "- [Coloring with Random Forests](http://structuringtheunstructured.blogspot.com/2017/11/coloring-with-random-forests.html)\n",
    "- _**[Random Forests for Complete Beginners: The definitive guide to Random Forests and Decision Trees](https://victorzhou.com/blog/intro-to-random-forests/)**_\n",
    "\n",
    "#### Categorical encoding for trees\n",
    "- [Are categorical variables getting lost in your random forests?](https://roamanalytics.com/2016/10/28/are-categorical-variables-getting-lost-in-your-random-forests/)\n",
    "- [Beyond One-Hot: An Exploration of Categorical Variables](http://www.willmcginnis.com/2015/11/29/beyond-one-hot-an-exploration-of-categorical-variables/)\n",
    "- _**[Categorical Features and Encoding in Decision Trees](https://medium.com/data-design/visiting-categorical-features-and-encoding-in-decision-trees-53400fa65931)**_\n",
    "- _**[Coursera — How to Win a Data Science Competition: Learn from Top Kagglers — Concept of mean encoding](https://www.coursera.org/lecture/competitive-data-science/concept-of-mean-encoding-b5Gxv)**_\n",
    "- [Mean (likelihood) encodings: a comprehensive study](https://www.kaggle.com/vprokopev/mean-likelihood-encodings-a-comprehensive-study)\n",
    "- [The Mechanics of Machine Learning, Chapter 6: Categorically Speaking](https://mlbook.explained.ai/catvars.html)\n",
    "\n",
    "#### Imposter Syndrome\n",
    "- [Effort Shock and Reward Shock (How The Karate Kid Ruined The Modern World)](http://www.tempobook.com/2014/07/09/effort-shock-and-reward-shock/)\n",
    "- [How to manage impostor syndrome in data science](https://towardsdatascience.com/how-to-manage-impostor-syndrome-in-data-science-ad814809f068)\n",
    "- [\"I am not a real data scientist\"](https://brohrer.github.io/imposter_syndrome.html)\n",
    "- _**[Imposter Syndrome in Data Science](https://caitlinhudon.com/2018/01/19/imposter-syndrome-in-data-science/)**_\n",
    "\n",
    "\n",
    "### More Categorical Encodings\n",
    "\n",
    "**1.** The article **[Categorical Features and Encoding in Decision Trees](https://medium.com/data-design/visiting-categorical-features-and-encoding-in-decision-trees-53400fa65931)** mentions 4 encodings:\n",
    "\n",
    "- **\"Categorical Encoding\":** This means using the raw categorical values as-is, not encoded. Scikit-learn doesn't support this, but some tree algorithm implementations do. For example, [Catboost](https://catboost.ai/), or R's [rpart](https://cran.r-project.org/web/packages/rpart/index.html) package.\n",
    "- **Numeric Encoding:** Synonymous with Label Encoding, or \"Ordinal\" Encoding with random order. We can use [category_encoders.OrdinalEncoder](https://contrib.scikit-learn.org/categorical-encoding/ordinal.html).\n",
    "- **One-Hot Encoding:** We can use [category_encoders.OneHotEncoder](http://contrib.scikit-learn.org/categorical-encoding/onehot.html).\n",
    "- **Binary Encoding:** We can use [category_encoders.BinaryEncoder](http://contrib.scikit-learn.org/categorical-encoding/binary.html).\n",
    "\n",
    "\n",
    "**2.** The short video \n",
    "**[Coursera — How to Win a Data Science Competition: Learn from Top Kagglers — Concept of mean encoding](https://www.coursera.org/lecture/competitive-data-science/concept-of-mean-encoding-b5Gxv)** introduces an interesting idea: use both X _and_ y to encode categoricals.\n",
    "\n",
    "Category Encoders has multiple implementations of this general concept:\n",
    "\n",
    "- [CatBoost Encoder](http://contrib.scikit-learn.org/categorical-encoding/catboost.html)\n",
    "- [James-Stein Encoder](http://contrib.scikit-learn.org/categorical-encoding/jamesstein.html)\n",
    "- [Leave One Out](http://contrib.scikit-learn.org/categorical-encoding/leaveoneout.html)\n",
    "- [M-estimate](http://contrib.scikit-learn.org/categorical-encoding/mestimate.html)\n",
    "- [Target Encoder](http://contrib.scikit-learn.org/categorical-encoding/targetencoder.html)\n",
    "- [Weight of Evidence](http://contrib.scikit-learn.org/categorical-encoding/woe.html)\n",
    "\n",
    "Category Encoder's mean encoding implementations work for regression problems or binary classification problems. \n",
    "\n",
    "For multi-class classification problems, you will need to temporarily reformulate it as binary classification. For example:\n",
    "\n",
    "```python\n",
    "encoder = ce.TargetEncoder(min_samples_leaf=..., smoothing=...) # Both parameters > 1 to avoid overfitting\n",
    "X_train_encoded = encoder.fit_transform(X_train, y_train=='functional')\n",
    "X_val_encoded = encoder.transform(X_train, y_val=='functional')\n",
    "```\n",
    "\n",
    "For this reason, mean encoding won't work well within pipelines for multi-class classification problems.\n",
    "\n",
    "**3.** The **[dirty_cat](https://dirty-cat.github.io/stable/)** library has a Target Encoder implementation that works with multi-class classification.\n",
    "\n",
    "```python\n",
    " dirty_cat.TargetEncoder(clf_type='multiclass-clf')\n",
    "```\n",
    "It also implements an interesting idea called [\"Similarity Encoder\" for dirty categories](https://www.slideshare.net/GaelVaroquaux/machine-learning-on-non-curated-data-154905090).\n",
    "\n",
    "However, it seems like dirty_cat doesn't handle missing values or unknown categories as well as category_encoders does. And you may need to use it with one column at a time, instead of with your whole dataframe.\n",
    "\n",
    "**4. [Embeddings](https://www.kaggle.com/learn/embeddings)** can work well with sparse / high cardinality categoricals.\n",
    "\n",
    "_**I hope it’s not too frustrating or confusing that there’s not one “canonical” way to encode categoricals. It’s an active area of research and experimentation! Maybe you can make your own contributions!**_"
   ]
  },
  {
   "cell_type": "markdown",
   "metadata": {},
   "source": [
    "### Setup\n",
    "\n",
    "You can work locally (follow the [local setup instructions](https://lambdaschool.github.io/ds/unit2/local/)) or on Colab (run the code cell below)."
   ]
  },
  {
   "cell_type": "code",
   "execution_count": 1,
   "metadata": {
    "colab": {},
    "colab_type": "code",
    "id": "o9eSnDYhUGD7"
   },
   "outputs": [],
   "source": [
    "import sys\n",
    "\n",
    "# Editing local, bulk processing in Colab!  Hence:\n",
    "if 'google.colab' in sys.modules:\n",
    "    DATA_PATH = 'https://raw.githubusercontent.com/LambdaSchool/DS-Unit-2-Kaggle-Challenge/master/data/'\n",
    "    !pip install category_encoders==2.*\n",
    "    from google.colab import drive\n",
    "    drive.mount('/content/drive')\n",
    "\n",
    "# Primary read location:\n",
    "else:\n",
    "    DATA_PATH = '../data/'"
   ]
  },
  {
   "cell_type": "code",
   "execution_count": 2,
   "metadata": {},
   "outputs": [],
   "source": [
    "%%capture\n",
    "!pip install folium\n",
    "!pip install category_encoders\n",
    "!pip install graphviz"
   ]
  },
  {
   "cell_type": "code",
   "execution_count": 3,
   "metadata": {},
   "outputs": [],
   "source": [
    "import pandas as pd\n",
    "import numpy as np\n",
    "import folium\n",
    "import plotly.express as px\n",
    "import category_encoders as ce\n",
    "import graphviz\n",
    "import random, time, datetime\n",
    "\n",
    "from sklearn.tree import export_graphviz\n",
    "from sklearn.impute import SimpleImputer\n",
    "from sklearn.linear_model import LogisticRegression\n",
    "from sklearn.pipeline import make_pipeline\n",
    "from sklearn.preprocessing import StandardScaler\n",
    "from sklearn.model_selection import train_test_split\n",
    "from sklearn.tree import DecisionTreeClassifier\n",
    "from sklearn.ensemble import RandomForestClassifier\n",
    "\n",
    "from IPython.display import HTML, display, IFrame\n",
    "from itertools import combinations"
   ]
  },
  {
   "cell_type": "code",
   "execution_count": 4,
   "metadata": {},
   "outputs": [],
   "source": [
    "# for filenaming later\n",
    "\n",
    "def timeStamp():\n",
    "    ts = time.time()\n",
    "    st = datetime.datetime.fromtimestamp(ts).strftime('%m%d_%H%M%S')\n",
    "    return st"
   ]
  },
  {
   "cell_type": "code",
   "execution_count": 5,
   "metadata": {
    "colab": {},
    "colab_type": "code",
    "id": "QJBD4ruICm1m"
   },
   "outputs": [
    {
     "data": {
      "text/plain": [
       "((47520, 41), (11880, 41), (14358, 40), (14358, 2))"
      ]
     },
     "execution_count": 5,
     "metadata": {},
     "output_type": "execute_result"
    }
   ],
   "source": [
    "# load in dfs and template for competition submission\n",
    "\n",
    "train = pd.merge(pd.read_csv(DATA_PATH+'waterpumps/train_features.csv'), \n",
    "                 pd.read_csv(DATA_PATH+'waterpumps/train_labels.csv'))\n",
    "test = pd.read_csv(DATA_PATH+'waterpumps/test_features.csv')\n",
    "sample_submission = pd.read_csv(DATA_PATH+'waterpumps/sample_submission.csv')\n",
    "\n",
    "train, val = train_test_split(train, train_size=.8, test_size=.2, \n",
    "                              stratify=train['status_group'], random_state=55)\n",
    "\n",
    "train.shape, val.shape, test.shape, sample_submission.shape"
   ]
  },
  {
   "cell_type": "code",
   "execution_count": 6,
   "metadata": {},
   "outputs": [],
   "source": [
    "def cleanData(X):\n",
    "    \n",
    "    # Supress Warning\n",
    "    X = X.copy()\n",
    "    \n",
    "    # Replace outlier lat vals with 0\n",
    "    X['latitude'] = X['latitude'].replace(-2e-08, 0)\n",
    "    \n",
    "    # Replace 0's with np.nan for future imputing of values\n",
    "    cols_w_zeros = ['longitude', 'latitude']\n",
    "    for col in cols_w_zeros:\n",
    "        X[col] = X[col].replace(0, np.nan)\n",
    "    \n",
    "    # Split date_recorded into day, month, & year features\n",
    "    X['date_recorded'] = pd.to_datetime(X['date_recorded'])\n",
    "    X['dd_recorded'] = X['date_recorded'].dt.day\n",
    "    X['mm_recorded'] = X['date_recorded'].dt.month\n",
    "    X['yyyy_recorded'] = X['date_recorded'].dt.year\n",
    "\n",
    "    # Drop duplicate values\n",
    "    X = X.drop(columns=['quantity_group', 'amount_tsh', 'date_recorded'])\n",
    "    \n",
    "    return X"
   ]
  },
  {
   "cell_type": "code",
   "execution_count": 7,
   "metadata": {},
   "outputs": [],
   "source": [
    "train = cleanData(train)\n",
    "val = cleanData(val)\n",
    "test = cleanData(test)"
   ]
  },
  {
   "cell_type": "code",
   "execution_count": 9,
   "metadata": {},
   "outputs": [],
   "source": [
    "# Constant target\n",
    "target = 'status_group'\n",
    "\n",
    "# Defining different features for future isolation\n",
    "features_df = train.drop(columns=['status_group', 'id'])\n",
    "\n",
    "# Isolate numeric features\n",
    "features_numeric = features_df.select_dtypes(include='number').columns.tolist()\n",
    "\n",
    "# Isolate object features\n",
    "features_obj = features_df.select_dtypes(exclude='number').nunique()\n",
    "\n",
    "# Split object features into high and low cardinal\n",
    "features_obj_low = features_obj[features_obj <= 45].index.tolist()\n",
    "features_obj_high = features_obj[features_obj > 45].index.tolist()"
   ]
  },
  {
   "cell_type": "code",
   "execution_count": 11,
   "metadata": {},
   "outputs": [],
   "source": [
    "# function to call within models to log Validate Score\n",
    "\n",
    "def logOutcome(model, features, modelVars, score):\n",
    "    newLine = pd.DataFrame([[timeStamp(), model, features, \n",
    "                             modelVars, score]],\n",
    "                           columns=['timestamp',\n",
    "                                    'model',\n",
    "                                    'featuresUsed',\n",
    "                                    'modelVars',\n",
    "                                    'valScore'])\n",
    "    \n",
    "    logDf = pd.read_csv('../tracking/loggingProcesses')\n",
    "    logDf = logDf.append(newLine, ignore_index=True)\n",
    "    logDf.to_csv('../tracking/loggingProcesses', index=False)"
   ]
  },
  {
   "cell_type": "code",
   "execution_count": 10,
   "metadata": {},
   "outputs": [],
   "source": [
    "# ran once to create csv for logging:\n",
    "#\n",
    "# tempDF = pd.DataFrame(\n",
    "#     {'timestamp': timeStamp(),\n",
    "#      'model': 'modelUsed',\n",
    "#      'featuresUsed': ['selectedFeatures'],\n",
    "#      'modelVars': ['modelVariables'],\n",
    "#      'valScore': 99.999\n",
    "#     }\n",
    "# )\n",
    "\n",
    "# tempDF.to_csv('../tracking/loggingProcesses', index=False)"
   ]
  },
  {
   "cell_type": "code",
   "execution_count": 13,
   "metadata": {},
   "outputs": [],
   "source": [
    "# I want to test on multiple fronts, different models & with different features\n",
    "# Rather than redefine the features variable each time, I will assign chosen sets \n",
    "\n",
    "featuresAll = features_df.columns\n",
    "features01 = features_numeric + features_obj_low\n",
    "features02 = ['gps_height', 'longitude',\n",
    "            'latitude', 'num_private', 'basin', 'region',\n",
    "            'region_code', 'district_code', 'population',\n",
    "            'public_meeting', 'recorded_by', 'scheme_management',\n",
    "            'permit', 'construction_year', 'extraction_type',\n",
    "            'extraction_type_class', 'management',\n",
    "            'payment', 'water_quality',\n",
    "            'quantity', 'source', 'source_type', 'source_class',\n",
    "            'waterpoint_type',\n",
    "            'mm_recorded', 'yyyy_recorded']"
   ]
  },
  {
   "cell_type": "code",
   "execution_count": 14,
   "metadata": {},
   "outputs": [],
   "source": [
    "def runDecisionTreeModel(train, val, test, features, leaf, depth):\n",
    "    '''\n",
    "    - Runs decision tree on train/val/test df\n",
    "    - Prints accuracy\n",
    "    - Logs validate accuracy to exterior csv\n",
    "    - Returns the y_pred list for use in competition submission. \n",
    "    '''\n",
    "    \n",
    "    state_num = random.randint(1, 100)\n",
    "    \n",
    "    pipeline = make_pipeline(\n",
    "        ce.OrdinalEncoder(),\n",
    "        SimpleImputer(strategy='mean'),\n",
    "        DecisionTreeClassifier(min_samples_leaf = leaf,\n",
    "                               max_depth = depth,\n",
    "                               random_state=state_num)\n",
    "    )\n",
    "    \n",
    "    X_train = train[features]\n",
    "    y_train = train[target]\n",
    "    X_val = val[features]\n",
    "    y_val = val[target]\n",
    "    X_test = test[features]\n",
    "    \n",
    "    pipeline.fit(X_train, y_train)\n",
    "    train_score = pipeline.score(X_train, y_train)\n",
    "    val_score = pipeline.score(X_val, y_val)\n",
    "    \n",
    "    print('Decision Tree Accuracy: \\nTrain:    ', train_score,\n",
    "      '\\nValidate: ', val_score, '\\n')    \n",
    "    \n",
    "    modelVars = [['leaf', leaf],['depth', depth]]\n",
    "    \n",
    "    logOutcome('DecisionTree', features, modelVars, val_score)\n",
    "    \n",
    "    y_pred = pipeline.predict(X_test)\n",
    "    \n",
    "    return y_pred\n"
   ]
  },
  {
   "cell_type": "code",
   "execution_count": 15,
   "metadata": {},
   "outputs": [
    {
     "name": "stdout",
     "output_type": "stream",
     "text": [
      "Decision Tree Accuracy: \n",
      "Train:     0.8589646464646464 \n",
      "Validate:  0.7675925925925926 \n",
      "\n"
     ]
    },
    {
     "data": {
      "text/plain": [
       "array(['non functional', 'functional', 'functional', ..., 'functional',\n",
       "       'functional', 'non functional'], dtype=object)"
      ]
     },
     "execution_count": 15,
     "metadata": {},
     "output_type": "execute_result"
    }
   ],
   "source": [
    "runDecisionTreeModel(train, val, test, features01, 6, 21)"
   ]
  },
  {
   "cell_type": "code",
   "execution_count": 16,
   "metadata": {},
   "outputs": [],
   "source": [
    "def runRandomForestModel(train, val, test, features, estimators):\n",
    "    '''\n",
    "    - Runs Random Forest on train/val/test df\n",
    "    - Prints accuracy\n",
    "    - Logs validate accuracy to exterior csv\n",
    "    - Returns the y_pred list for use in competition submission. \n",
    "    '''\n",
    "    \n",
    "    state_num = random.randint(1, 100)\n",
    "    \n",
    "    pipeline = make_pipeline(\n",
    "        ce.OrdinalEncoder(),\n",
    "        SimpleImputer(strategy='mean'),\n",
    "        RandomForestClassifier(n_estimators=estimators,\n",
    "                               random_state=state_num,\n",
    "                               n_jobs=-2)\n",
    "    )\n",
    "    \n",
    "    X_train = train[features]\n",
    "    y_train = train[target]\n",
    "    X_val = val[features]\n",
    "    y_val = val[target]\n",
    "    X_test = test[features]\n",
    "    \n",
    "    pipeline.fit(X_train, y_train)\n",
    "    train_score = pipeline.score(X_train, y_train)\n",
    "    val_score = pipeline.score(X_val, y_val)\n",
    "    \n",
    "    print('Random Forest Accuracy: \\nTrain:    ', train_score,\n",
    "          '\\nValidate: ', val_score, '\\n')\n",
    "    \n",
    "    modelVars = [['estimators', estimators]]\n",
    "    \n",
    "    logOutcome('RandomForest', features, modelVars, val_score)\n",
    "    \n",
    "    y_pred = pipeline.predict(X_test)\n",
    "    \n",
    "    return y_pred"
   ]
  },
  {
   "cell_type": "code",
   "execution_count": 17,
   "metadata": {},
   "outputs": [
    {
     "name": "stdout",
     "output_type": "stream",
     "text": [
      "Random Forest Accuracy: \n",
      "Train:     0.9978535353535354 \n",
      "Validate:  0.8066498316498316 \n",
      "\n"
     ]
    },
    {
     "data": {
      "text/plain": [
       "array(['functional', 'functional', 'functional', ..., 'functional',\n",
       "       'functional', 'non functional'], dtype=object)"
      ]
     },
     "execution_count": 17,
     "metadata": {},
     "output_type": "execute_result"
    }
   ],
   "source": [
    "runRandomForestModel(train, val, test, features01, 150)"
   ]
  },
  {
   "cell_type": "code",
   "execution_count": 18,
   "metadata": {},
   "outputs": [
    {
     "data": {
      "text/html": [
       "<div>\n",
       "<style scoped>\n",
       "    .dataframe tbody tr th:only-of-type {\n",
       "        vertical-align: middle;\n",
       "    }\n",
       "\n",
       "    .dataframe tbody tr th {\n",
       "        vertical-align: top;\n",
       "    }\n",
       "\n",
       "    .dataframe thead th {\n",
       "        text-align: right;\n",
       "    }\n",
       "</style>\n",
       "<table border=\"1\" class=\"dataframe\">\n",
       "  <thead>\n",
       "    <tr style=\"text-align: right;\">\n",
       "      <th></th>\n",
       "      <th>timestamp</th>\n",
       "      <th>model</th>\n",
       "      <th>featuresUsed</th>\n",
       "      <th>modelVars</th>\n",
       "      <th>valScore</th>\n",
       "    </tr>\n",
       "  </thead>\n",
       "  <tbody>\n",
       "    <tr>\n",
       "      <th>2</th>\n",
       "      <td>1106_133925</td>\n",
       "      <td>RandomForest</td>\n",
       "      <td>['gps_height', 'longitude', 'latitude', 'num_p...</td>\n",
       "      <td>[['estimators', 100]]</td>\n",
       "      <td>0.808165</td>\n",
       "    </tr>\n",
       "    <tr>\n",
       "      <th>8</th>\n",
       "      <td>1106_144230</td>\n",
       "      <td>RandomForest</td>\n",
       "      <td>['gps_height', 'longitude', 'latitude', 'num_p...</td>\n",
       "      <td>[['estimators', 150]]</td>\n",
       "      <td>0.806818</td>\n",
       "    </tr>\n",
       "    <tr>\n",
       "      <th>11</th>\n",
       "      <td>1106_151106</td>\n",
       "      <td>RandomForest</td>\n",
       "      <td>['gps_height', 'longitude', 'latitude', 'num_p...</td>\n",
       "      <td>[['estimators', 150]]</td>\n",
       "      <td>0.806650</td>\n",
       "    </tr>\n",
       "    <tr>\n",
       "      <th>9</th>\n",
       "      <td>1106_145515</td>\n",
       "      <td>RandomForest</td>\n",
       "      <td>['gps_height', 'longitude', 'latitude', 'num_p...</td>\n",
       "      <td>[['estimators', 150]]</td>\n",
       "      <td>0.806566</td>\n",
       "    </tr>\n",
       "    <tr>\n",
       "      <th>4</th>\n",
       "      <td>1106_134140</td>\n",
       "      <td>RandomForest</td>\n",
       "      <td>['gps_height', 'longitude', 'latitude', 'num_p...</td>\n",
       "      <td>[['estimators', 100]]</td>\n",
       "      <td>0.806229</td>\n",
       "    </tr>\n",
       "    <tr>\n",
       "      <th>7</th>\n",
       "      <td>1106_144206</td>\n",
       "      <td>RandomForest</td>\n",
       "      <td>['gps_height', 'longitude', 'latitude', 'num_p...</td>\n",
       "      <td>[['estimators', 100]]</td>\n",
       "      <td>0.806229</td>\n",
       "    </tr>\n",
       "    <tr>\n",
       "      <th>5</th>\n",
       "      <td>1106_135620</td>\n",
       "      <td>RandomForest</td>\n",
       "      <td>['gps_height', 'longitude', 'latitude', 'num_p...</td>\n",
       "      <td>[['estimators', 100]]</td>\n",
       "      <td>0.805724</td>\n",
       "    </tr>\n",
       "    <tr>\n",
       "      <th>1</th>\n",
       "      <td>1106_133812</td>\n",
       "      <td>RandomForest</td>\n",
       "      <td>['gps_height', 'longitude', 'latitude', 'num_p...</td>\n",
       "      <td>[['estimators', 100]]</td>\n",
       "      <td>0.804882</td>\n",
       "    </tr>\n",
       "    <tr>\n",
       "      <th>6</th>\n",
       "      <td>1106_140752</td>\n",
       "      <td>RandomForest</td>\n",
       "      <td>['gps_height', 'longitude', 'latitude', 'num_p...</td>\n",
       "      <td>[['estimators', 100]]</td>\n",
       "      <td>0.803535</td>\n",
       "    </tr>\n",
       "    <tr>\n",
       "      <th>3</th>\n",
       "      <td>1106_134115</td>\n",
       "      <td>DecisionTree</td>\n",
       "      <td>['gps_height', 'longitude', 'latitude', 'num_p...</td>\n",
       "      <td>[['leaf', 6], ['depth', 21]]</td>\n",
       "      <td>0.771886</td>\n",
       "    </tr>\n",
       "  </tbody>\n",
       "</table>\n",
       "</div>"
      ],
      "text/plain": [
       "      timestamp         model  \\\n",
       "2   1106_133925  RandomForest   \n",
       "8   1106_144230  RandomForest   \n",
       "11  1106_151106  RandomForest   \n",
       "9   1106_145515  RandomForest   \n",
       "4   1106_134140  RandomForest   \n",
       "7   1106_144206  RandomForest   \n",
       "5   1106_135620  RandomForest   \n",
       "1   1106_133812  RandomForest   \n",
       "6   1106_140752  RandomForest   \n",
       "3   1106_134115  DecisionTree   \n",
       "\n",
       "                                         featuresUsed  \\\n",
       "2   ['gps_height', 'longitude', 'latitude', 'num_p...   \n",
       "8   ['gps_height', 'longitude', 'latitude', 'num_p...   \n",
       "11  ['gps_height', 'longitude', 'latitude', 'num_p...   \n",
       "9   ['gps_height', 'longitude', 'latitude', 'num_p...   \n",
       "4   ['gps_height', 'longitude', 'latitude', 'num_p...   \n",
       "7   ['gps_height', 'longitude', 'latitude', 'num_p...   \n",
       "5   ['gps_height', 'longitude', 'latitude', 'num_p...   \n",
       "1   ['gps_height', 'longitude', 'latitude', 'num_p...   \n",
       "6   ['gps_height', 'longitude', 'latitude', 'num_p...   \n",
       "3   ['gps_height', 'longitude', 'latitude', 'num_p...   \n",
       "\n",
       "                       modelVars  valScore  \n",
       "2          [['estimators', 100]]  0.808165  \n",
       "8          [['estimators', 150]]  0.806818  \n",
       "11         [['estimators', 150]]  0.806650  \n",
       "9          [['estimators', 150]]  0.806566  \n",
       "4          [['estimators', 100]]  0.806229  \n",
       "7          [['estimators', 100]]  0.806229  \n",
       "5          [['estimators', 100]]  0.805724  \n",
       "1          [['estimators', 100]]  0.804882  \n",
       "6          [['estimators', 100]]  0.803535  \n",
       "3   [['leaf', 6], ['depth', 21]]  0.771886  "
      ]
     },
     "execution_count": 18,
     "metadata": {},
     "output_type": "execute_result"
    }
   ],
   "source": [
    "pd.read_csv('../tracking/loggingProcesses').nlargest(10, 'valScore')"
   ]
  },
  {
   "cell_type": "code",
   "execution_count": null,
   "metadata": {},
   "outputs": [],
   "source": [
    "def saveSubmission(prediction, filename):\n",
    "    savePath = '../submissions/'\n",
    "    \n",
    "    submission = sample_submission.copy()\n",
    "    submission['status_group'] = prediction\n",
    "    submission.to_csv(savePath+filename+'.csv', index=False)"
   ]
  },
  {
   "cell_type": "code",
   "execution_count": null,
   "metadata": {},
   "outputs": [],
   "source": [
    "y_pred = runDecisionTreeModel(train, val, test, features02, 7, 20)\n",
    "saveSubmission(y_pred, 'testSave')"
   ]
  },
  {
   "cell_type": "code",
   "execution_count": null,
   "metadata": {},
   "outputs": [],
   "source": [
    "train.T.head(75)"
   ]
  },
  {
   "cell_type": "code",
   "execution_count": null,
   "metadata": {},
   "outputs": [],
   "source": []
  }
 ],
 "metadata": {
  "colab": {
   "collapsed_sections": [],
   "name": "assignment_kaggle_challenge_2.ipynb",
   "provenance": [],
   "version": "0.3.2"
  },
  "kernelspec": {
   "display_name": "Python 3",
   "language": "python",
   "name": "python3"
  },
  "language_info": {
   "codemirror_mode": {
    "name": "ipython",
    "version": 3
   },
   "file_extension": ".py",
   "mimetype": "text/x-python",
   "name": "python",
   "nbconvert_exporter": "python",
   "pygments_lexer": "ipython3",
   "version": "3.7.5"
  }
 },
 "nbformat": 4,
 "nbformat_minor": 4
}
