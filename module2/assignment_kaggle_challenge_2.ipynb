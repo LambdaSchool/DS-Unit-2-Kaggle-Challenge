{
  "nbformat": 4,
  "nbformat_minor": 0,
  "metadata": {
    "colab": {
      "name": "assignment_kaggle_challenge_2.ipynb",
      "provenance": [],
      "collapsed_sections": [],
      "toc_visible": true,
      "include_colab_link": true
    },
    "kernelspec": {
      "display_name": "Python 3",
      "language": "python",
      "name": "python3"
    },
    "language_info": {
      "codemirror_mode": {
        "name": "ipython",
        "version": 3
      },
      "file_extension": ".py",
      "mimetype": "text/x-python",
      "name": "python",
      "nbconvert_exporter": "python",
      "pygments_lexer": "ipython3",
      "version": "3.7.3"
    }
  },
  "cells": [
    {
      "cell_type": "markdown",
      "metadata": {
        "id": "view-in-github",
        "colab_type": "text"
      },
      "source": [
        "<a href=\"https://colab.research.google.com/github/Nckflannery/DS-Unit-2-Kaggle-Challenge/blob/master/module2/assignment_kaggle_challenge_2.ipynb\" target=\"_parent\"><img src=\"https://colab.research.google.com/assets/colab-badge.svg\" alt=\"Open In Colab\"/></a>"
      ]
    },
    {
      "cell_type": "markdown",
      "metadata": {
        "colab_type": "text",
        "id": "7IXUfiQ2UKj6"
      },
      "source": [
        "Lambda School Data Science, Unit 2: Predictive Modeling\n",
        "\n",
        "# Kaggle Challenge, Module 2\n",
        "\n",
        "## Assignment\n",
        "- [ ] Read [“Adopting a Hypothesis-Driven Workflow”](https://outline.com/5S5tsB), a blog post by a Lambda DS student about the Tanzania Waterpumps challenge.\n",
        "- [ ] Continue to participate in our Kaggle challenge.\n",
        "- [ ] Try Ordinal Encoding.\n",
        "- [ ] Try a Random Forest Classifier.\n",
        "- [ ] Submit your predictions to our Kaggle competition. (Go to our Kaggle InClass competition webpage. Use the blue **Submit Predictions** button to upload your CSV file. Or you can use the Kaggle API to submit your predictions.)\n",
        "- [ ] Commit your notebook to your fork of the GitHub repo.\n",
        "\n",
        "## Stretch Goals\n",
        "\n",
        "### Doing\n",
        "- [ ] Add your own stretch goal(s) !\n",
        "- [ ] Do more exploratory data analysis, data cleaning, feature engineering, and feature selection.\n",
        "- [ ] Try other [categorical encodings](https://contrib.scikit-learn.org/categorical-encoding/).\n",
        "- [ ] Get and plot your feature importances.\n",
        "- [ ] Make visualizations and share on Slack.\n",
        "\n",
        "### Reading\n",
        "\n",
        "Top recommendations in _**bold italic:**_\n",
        "\n",
        "#### Decision Trees\n",
        "- A Visual Introduction to Machine Learning, [Part 1: A Decision Tree](http://www.r2d3.us/visual-intro-to-machine-learning-part-1/),  and _**[Part 2: Bias and Variance](http://www.r2d3.us/visual-intro-to-machine-learning-part-2/)**_\n",
        "- [Decision Trees: Advantages & Disadvantages](https://christophm.github.io/interpretable-ml-book/tree.html#advantages-2)\n",
        "- [How a Russian mathematician constructed a decision tree — by hand — to solve a medical problem](http://fastml.com/how-a-russian-mathematician-constructed-a-decision-tree-by-hand-to-solve-a-medical-problem/)\n",
        "- [How decision trees work](https://brohrer.github.io/how_decision_trees_work.html)\n",
        "- [Let’s Write a Decision Tree Classifier from Scratch](https://www.youtube.com/watch?v=LDRbO9a6XPU)\n",
        "\n",
        "#### Random Forests\n",
        "- [_An Introduction to Statistical Learning_](http://www-bcf.usc.edu/~gareth/ISL/), Chapter 8: Tree-Based Methods\n",
        "- [Coloring with Random Forests](http://structuringtheunstructured.blogspot.com/2017/11/coloring-with-random-forests.html)\n",
        "- _**[Random Forests for Complete Beginners: The definitive guide to Random Forests and Decision Trees](https://victorzhou.com/blog/intro-to-random-forests/)**_\n",
        "\n",
        "#### Categorical encoding for trees\n",
        "- [Are categorical variables getting lost in your random forests?](https://roamanalytics.com/2016/10/28/are-categorical-variables-getting-lost-in-your-random-forests/)\n",
        "- [Beyond One-Hot: An Exploration of Categorical Variables](http://www.willmcginnis.com/2015/11/29/beyond-one-hot-an-exploration-of-categorical-variables/)\n",
        "- _**[Categorical Features and Encoding in Decision Trees](https://medium.com/data-design/visiting-categorical-features-and-encoding-in-decision-trees-53400fa65931)**_\n",
        "- _**[Coursera — How to Win a Data Science Competition: Learn from Top Kagglers — Concept of mean encoding](https://www.coursera.org/lecture/competitive-data-science/concept-of-mean-encoding-b5Gxv)**_\n",
        "- [Mean (likelihood) encodings: a comprehensive study](https://www.kaggle.com/vprokopev/mean-likelihood-encodings-a-comprehensive-study)\n",
        "- [The Mechanics of Machine Learning, Chapter 6: Categorically Speaking](https://mlbook.explained.ai/catvars.html)\n",
        "\n",
        "#### Imposter Syndrome\n",
        "- [Effort Shock and Reward Shock (How The Karate Kid Ruined The Modern World)](http://www.tempobook.com/2014/07/09/effort-shock-and-reward-shock/)\n",
        "- [How to manage impostor syndrome in data science](https://towardsdatascience.com/how-to-manage-impostor-syndrome-in-data-science-ad814809f068)\n",
        "- [\"I am not a real data scientist\"](https://brohrer.github.io/imposter_syndrome.html)\n",
        "- _**[Imposter Syndrome in Data Science](https://caitlinhudon.com/2018/01/19/imposter-syndrome-in-data-science/)**_\n",
        "\n",
        "\n",
        "### More Categorical Encodings\n",
        "\n",
        "**1.** The article **[Categorical Features and Encoding in Decision Trees](https://medium.com/data-design/visiting-categorical-features-and-encoding-in-decision-trees-53400fa65931)** mentions 4 encodings:\n",
        "\n",
        "- **\"Categorical Encoding\":** This means using the raw categorical values as-is, not encoded. Scikit-learn doesn't support this, but some tree algorithm implementations do. For example, [Catboost](https://catboost.ai/), or R's [rpart](https://cran.r-project.org/web/packages/rpart/index.html) package.\n",
        "- **Numeric Encoding:** Synonymous with Label Encoding, or \"Ordinal\" Encoding with random order. We can use [category_encoders.OrdinalEncoder](https://contrib.scikit-learn.org/categorical-encoding/ordinal.html).\n",
        "- **One-Hot Encoding:** We can use [category_encoders.OneHotEncoder](http://contrib.scikit-learn.org/categorical-encoding/onehot.html).\n",
        "- **Binary Encoding:** We can use [category_encoders.BinaryEncoder](http://contrib.scikit-learn.org/categorical-encoding/binary.html).\n",
        "\n",
        "\n",
        "**2.** The short video \n",
        "**[Coursera — How to Win a Data Science Competition: Learn from Top Kagglers — Concept of mean encoding](https://www.coursera.org/lecture/competitive-data-science/concept-of-mean-encoding-b5Gxv)** introduces an interesting idea: use both X _and_ y to encode categoricals.\n",
        "\n",
        "Category Encoders has multiple implementations of this general concept:\n",
        "\n",
        "- [CatBoost Encoder](http://contrib.scikit-learn.org/categorical-encoding/catboost.html)\n",
        "- [James-Stein Encoder](http://contrib.scikit-learn.org/categorical-encoding/jamesstein.html)\n",
        "- [Leave One Out](http://contrib.scikit-learn.org/categorical-encoding/leaveoneout.html)\n",
        "- [M-estimate](http://contrib.scikit-learn.org/categorical-encoding/mestimate.html)\n",
        "- [Target Encoder](http://contrib.scikit-learn.org/categorical-encoding/targetencoder.html)\n",
        "- [Weight of Evidence](http://contrib.scikit-learn.org/categorical-encoding/woe.html)\n",
        "\n",
        "Category Encoder's mean encoding implementations work for regression problems or binary classification problems. \n",
        "\n",
        "For multi-class classification problems, you will need to temporarily reformulate it as binary classification. For example:\n",
        "\n",
        "```python\n",
        "encoder = ce.TargetEncoder(min_samples_leaf=..., smoothing=...) # Both parameters > 1 to avoid overfitting\n",
        "X_train_encoded = encoder.fit_transform(X_train, y_train=='functional')\n",
        "X_val_encoded = encoder.transform(X_train, y_val=='functional')\n",
        "```\n",
        "\n",
        "For this reason, mean encoding won't work well within pipelines for multi-class classification problems.\n",
        "\n",
        "**3.** The **[dirty_cat](https://dirty-cat.github.io/stable/)** library has a Target Encoder implementation that works with multi-class classification.\n",
        "\n",
        "```python\n",
        " dirty_cat.TargetEncoder(clf_type='multiclass-clf')\n",
        "```\n",
        "It also implements an interesting idea called [\"Similarity Encoder\" for dirty categories](https://www.slideshare.net/GaelVaroquaux/machine-learning-on-non-curated-data-154905090).\n",
        "\n",
        "However, it seems like dirty_cat doesn't handle missing values or unknown categories as well as category_encoders does. And you may need to use it with one column at a time, instead of with your whole dataframe.\n",
        "\n",
        "**4. [Embeddings](https://www.kaggle.com/learn/embeddings)** can work well with sparse / high cardinality categoricals.\n",
        "\n",
        "_**I hope it’s not too frustrating or confusing that there’s not one “canonical” way to encode categorcals. It’s an active area of research and experimentation! Maybe you can make your own contributions!**_"
      ]
    },
    {
      "cell_type": "markdown",
      "metadata": {
        "id": "ulUzTkQ2YZVD",
        "colab_type": "text"
      },
      "source": [
        "### Setup\n",
        "\n",
        "You can work locally (follow the [local setup instructions](https://lambdaschool.github.io/ds/unit2/local/)) or on Colab (run the code cell below)."
      ]
    },
    {
      "cell_type": "code",
      "metadata": {
        "colab_type": "code",
        "id": "o9eSnDYhUGD7",
        "colab": {}
      },
      "source": [
        "%%capture\n",
        "import sys\n",
        "\n",
        "# If you're on Colab:\n",
        "if 'google.colab' in sys.modules:\n",
        "    DATA_PATH = 'https://raw.githubusercontent.com/LambdaSchool/DS-Unit-2-Kaggle-Challenge/master/data/'\n",
        "    !pip install category_encoders==2.*\n",
        "\n",
        "# If you're working locally:\n",
        "else:\n",
        "    DATA_PATH = '../data/'"
      ],
      "execution_count": 0,
      "outputs": []
    },
    {
      "cell_type": "code",
      "metadata": {
        "colab_type": "code",
        "id": "QJBD4ruICm1m",
        "colab": {
          "base_uri": "https://localhost:8080/",
          "height": 34
        },
        "outputId": "bc9fd7bc-9c95-418c-ea0f-a06bbd0111bf"
      },
      "source": [
        "import pandas as pd\n",
        "from sklearn.model_selection import train_test_split\n",
        "\n",
        "train = pd.merge(pd.read_csv(DATA_PATH+'waterpumps/train_features.csv'), \n",
        "                 pd.read_csv(DATA_PATH+'waterpumps/train_labels.csv'))\n",
        "test = pd.read_csv(DATA_PATH+'waterpumps/test_features.csv')\n",
        "sample_submission = pd.read_csv(DATA_PATH+'waterpumps/sample_submission.csv')\n",
        "\n",
        "train.shape, test.shape"
      ],
      "execution_count": 2,
      "outputs": [
        {
          "output_type": "execute_result",
          "data": {
            "text/plain": [
              "((59400, 41), (14358, 40))"
            ]
          },
          "metadata": {
            "tags": []
          },
          "execution_count": 2
        }
      ]
    },
    {
      "cell_type": "code",
      "metadata": {
        "id": "QOdvieyfYZVI",
        "colab_type": "code",
        "colab": {}
      },
      "source": [
        "from sklearn.ensemble import RandomForestClassifier\n",
        "from sklearn.impute import SimpleImputer\n",
        "import category_encoders as ce\n",
        "from sklearn.pipeline import make_pipeline\n",
        "from sklearn.preprocessing import StandardScaler\n",
        "import numpy as np"
      ],
      "execution_count": 0,
      "outputs": []
    },
    {
      "cell_type": "code",
      "metadata": {
        "id": "Wt6Wt8zI4k-D",
        "colab_type": "code",
        "colab": {}
      },
      "source": [
        "def wrangler(dataframe):\n",
        "\n",
        "  x = dataframe.copy()\n",
        "  \n",
        "  # New Feature\n",
        "  x['date_recorded_year'] = x['date_recorded'].str[:4].astype(int)\n",
        "  x['years_before_service'] = x['date_recorded_year'] - x['construction_year']\n",
        "  x.loc[(x['years_before_service']<0) | (x['years_before_service']>100), 'years_before_service'] = np.nan\n",
        "\n",
        "  # Replace None, none, 0 with NaN values, and fix long/lat columns\n",
        "  features_replace = ['scheme_name', 'installer', 'funder', 'wpt_name', 'longitude', 'latitude', 'population', 'years_before_service', 'amount_tsh', 'gps_height','num_private']\n",
        "  x[features_replace] = x[features_replace].replace({'None':np.nan, 'none':np.nan, '0':np.nan, 0:np.nan, -2e-8:np.nan})\n",
        "  for i in features_replace:\n",
        "    x[i+'_MISSING'] = x[i].isnull()\n",
        "  \n",
        "  # Drop id\n",
        "  drops = ['id', 'recorded_by']\n",
        "  x = x.drop(drops, axis=1)\n",
        "\n",
        "  return x"
      ],
      "execution_count": 0,
      "outputs": []
    },
    {
      "cell_type": "code",
      "metadata": {
        "id": "uPtogK7z4ytk",
        "colab_type": "code",
        "colab": {}
      },
      "source": [
        "my_train, my_val = train_test_split(train, random_state=42)"
      ],
      "execution_count": 0,
      "outputs": []
    },
    {
      "cell_type": "code",
      "metadata": {
        "id": "HM5Bxmx75Ait",
        "colab_type": "code",
        "colab": {}
      },
      "source": [
        "my_train = wrangler(my_train)\n",
        "my_val = wrangler(my_val)"
      ],
      "execution_count": 0,
      "outputs": []
    },
    {
      "cell_type": "code",
      "metadata": {
        "id": "jJxcbA995CM4",
        "colab_type": "code",
        "colab": {}
      },
      "source": [
        "target = 'status_group'\n",
        "\n",
        "X_train = my_train.drop(target, axis=1)\n",
        "X_val = my_val.drop(target, axis=1)\n",
        "y_train = my_train[target]\n",
        "y_val = my_val[target]"
      ],
      "execution_count": 0,
      "outputs": []
    },
    {
      "cell_type": "code",
      "metadata": {
        "id": "SLV2hb2e59UA",
        "colab_type": "code",
        "colab": {
          "base_uri": "https://localhost:8080/",
          "height": 50
        },
        "outputId": "41cf9e8b-86a9-40be-f600-9d1a6e7a47a2"
      },
      "source": [
        "%%time\n",
        "pipe = make_pipeline(\n",
        "    ce.OrdinalEncoder(),\n",
        "    SimpleImputer(strategy='median'),\n",
        "    StandardScaler(),\n",
        "    RandomForestClassifier(n_estimators=400, n_jobs=-1, random_state=42)\n",
        ")\n",
        "pipe.fit(X_train, y_train)"
      ],
      "execution_count": 65,
      "outputs": [
        {
          "output_type": "stream",
          "text": [
            "CPU times: user 1min 11s, sys: 1.76 s, total: 1min 12s\n",
            "Wall time: 38.4 s\n"
          ],
          "name": "stdout"
        }
      ]
    },
    {
      "cell_type": "code",
      "metadata": {
        "id": "VeTMqk098G6I",
        "colab_type": "code",
        "colab": {
          "base_uri": "https://localhost:8080/",
          "height": 50
        },
        "outputId": "dc1e6599-8d56-428f-f82e-bf37fe7d38b7"
      },
      "source": [
        "print(f'Training Accuracy: {pipe.score(X_train, y_train)}')\n",
        "print(f'Validation Accuracy: {pipe.score(X_val, y_val)}')"
      ],
      "execution_count": 66,
      "outputs": [
        {
          "output_type": "stream",
          "text": [
            "Training Accuracy: 0.9999775533108867\n",
            "Validation Accuracy: 0.8081481481481482\n"
          ],
          "name": "stdout"
        }
      ]
    },
    {
      "cell_type": "code",
      "metadata": {
        "id": "CTdTW2rzuHbA",
        "colab_type": "code",
        "colab": {}
      },
      "source": [
        "X_test = wrangler(test)"
      ],
      "execution_count": 0,
      "outputs": []
    },
    {
      "cell_type": "code",
      "metadata": {
        "id": "8huTUfRJa7xA",
        "colab_type": "code",
        "colab": {}
      },
      "source": [
        "y_pred = pipe.predict(X_test)\n",
        "submission = sample_submission.copy()\n",
        "submission['status_group'] = y_pred\n",
        "submission.to_csv('againagain.csv', index=False)"
      ],
      "execution_count": 0,
      "outputs": []
    },
    {
      "cell_type": "code",
      "metadata": {
        "id": "NhRE4XcubUNB",
        "colab_type": "code",
        "colab": {
          "base_uri": "https://localhost:8080/",
          "height": 1000
        },
        "outputId": "ce019d93-9637-43ae-f671-e7cc02683d34"
      },
      "source": [
        "for i in [10,20,50,100,200,300,400,500,600,1000,2000]:\n",
        "  for j in ['mean', 'median', 'most_frequent']:\n",
        "    pipe = make_pipeline(\n",
        "      ce.OrdinalEncoder(),\n",
        "      SimpleImputer(strategy=j),\n",
        "      StandardScaler(),\n",
        "      RandomForestClassifier(n_estimators=i, n_jobs=-1, random_state=42)\n",
        "    )\n",
        "    pipe.fit(X_train, y_train)\n",
        "    print(f'n_estimators: {i}')\n",
        "    print(f'Strategy: {j}')\n",
        "    print(f'Training Accuracy: {pipe.score(X_train, y_train)}')\n",
        "    print(f'Validation Accuracy: {pipe.score(X_val, y_val)}')\n",
        "    print('\\n')"
      ],
      "execution_count": 53,
      "outputs": [
        {
          "output_type": "stream",
          "text": [
            "n_estimators: 10\n",
            "Strategy: mean\n",
            "Training Accuracy: 0.9857912457912458\n",
            "Validation Accuracy: 0.7897643097643098\n",
            "\n",
            "\n",
            "n_estimators: 10\n",
            "Strategy: median\n",
            "Training Accuracy: 0.9853872053872054\n",
            "Validation Accuracy: 0.7898989898989899\n",
            "\n",
            "\n",
            "n_estimators: 10\n",
            "Strategy: most_frequent\n",
            "Training Accuracy: 0.9858361391694725\n",
            "Validation Accuracy: 0.7891582491582492\n",
            "\n",
            "\n",
            "n_estimators: 20\n",
            "Strategy: mean\n",
            "Training Accuracy: 0.9959595959595959\n",
            "Validation Accuracy: 0.7975084175084175\n",
            "\n",
            "\n",
            "n_estimators: 20\n",
            "Strategy: median\n",
            "Training Accuracy: 0.995645342312009\n",
            "Validation Accuracy: 0.7975084175084175\n",
            "\n",
            "\n",
            "n_estimators: 20\n",
            "Strategy: most_frequent\n",
            "Training Accuracy: 0.9959147025813693\n",
            "Validation Accuracy: 0.7967003367003367\n",
            "\n",
            "\n",
            "n_estimators: 50\n",
            "Strategy: mean\n",
            "Training Accuracy: 0.9994837261503928\n",
            "Validation Accuracy: 0.8032323232323232\n",
            "\n",
            "\n",
            "n_estimators: 50\n",
            "Strategy: median\n",
            "Training Accuracy: 0.9995061728395062\n",
            "Validation Accuracy: 0.8037037037037037\n",
            "\n",
            "\n",
            "n_estimators: 50\n",
            "Strategy: most_frequent\n",
            "Training Accuracy: 0.9995510662177329\n",
            "Validation Accuracy: 0.8036363636363636\n",
            "\n",
            "\n",
            "n_estimators: 100\n",
            "Strategy: mean\n",
            "Training Accuracy: 0.9999551066217733\n",
            "Validation Accuracy: 0.8045117845117845\n",
            "\n",
            "\n",
            "n_estimators: 100\n",
            "Strategy: median\n",
            "Training Accuracy: 0.9999551066217733\n",
            "Validation Accuracy: 0.8053872053872054\n",
            "\n",
            "\n",
            "n_estimators: 100\n",
            "Strategy: most_frequent\n",
            "Training Accuracy: 0.9999326599326599\n",
            "Validation Accuracy: 0.8045791245791246\n",
            "\n",
            "\n",
            "n_estimators: 200\n",
            "Strategy: mean\n",
            "Training Accuracy: 0.9999775533108867\n",
            "Validation Accuracy: 0.8058585858585858\n",
            "\n",
            "\n",
            "n_estimators: 200\n",
            "Strategy: median\n",
            "Training Accuracy: 0.9999775533108867\n",
            "Validation Accuracy: 0.8062626262626262\n",
            "\n",
            "\n",
            "n_estimators: 200\n",
            "Strategy: most_frequent\n",
            "Training Accuracy: 0.9999775533108867\n",
            "Validation Accuracy: 0.8043771043771044\n",
            "\n",
            "\n",
            "n_estimators: 300\n",
            "Strategy: mean\n",
            "Training Accuracy: 0.9999775533108867\n",
            "Validation Accuracy: 0.8061952861952862\n",
            "\n",
            "\n",
            "n_estimators: 300\n",
            "Strategy: median\n",
            "Training Accuracy: 0.9999775533108867\n",
            "Validation Accuracy: 0.8071380471380472\n",
            "\n",
            "\n",
            "n_estimators: 300\n",
            "Strategy: most_frequent\n",
            "Training Accuracy: 0.9999775533108867\n",
            "Validation Accuracy: 0.805993265993266\n",
            "\n",
            "\n",
            "n_estimators: 400\n",
            "Strategy: mean\n",
            "Training Accuracy: 0.9999775533108867\n",
            "Validation Accuracy: 0.8063299663299663\n",
            "\n",
            "\n",
            "n_estimators: 400\n",
            "Strategy: median\n",
            "Training Accuracy: 0.9999775533108867\n",
            "Validation Accuracy: 0.8068686868686868\n",
            "\n",
            "\n",
            "n_estimators: 400\n",
            "Strategy: most_frequent\n",
            "Training Accuracy: 0.9999775533108867\n",
            "Validation Accuracy: 0.805050505050505\n",
            "\n",
            "\n",
            "n_estimators: 500\n",
            "Strategy: mean\n",
            "Training Accuracy: 0.9999775533108867\n",
            "Validation Accuracy: 0.8061279461279461\n",
            "\n",
            "\n",
            "n_estimators: 500\n",
            "Strategy: median\n",
            "Training Accuracy: 0.9999775533108867\n",
            "Validation Accuracy: 0.8063973063973064\n",
            "\n",
            "\n",
            "n_estimators: 500\n",
            "Strategy: most_frequent\n",
            "Training Accuracy: 0.9999775533108867\n",
            "Validation Accuracy: 0.806060606060606\n",
            "\n",
            "\n",
            "n_estimators: 600\n",
            "Strategy: mean\n",
            "Training Accuracy: 0.9999775533108867\n",
            "Validation Accuracy: 0.8063299663299663\n",
            "\n",
            "\n",
            "n_estimators: 600\n",
            "Strategy: median\n",
            "Training Accuracy: 0.9999775533108867\n",
            "Validation Accuracy: 0.8062626262626262\n",
            "\n",
            "\n",
            "n_estimators: 600\n",
            "Strategy: most_frequent\n",
            "Training Accuracy: 0.9999775533108867\n",
            "Validation Accuracy: 0.804983164983165\n",
            "\n",
            "\n",
            "n_estimators: 1000\n",
            "Strategy: mean\n",
            "Training Accuracy: 0.9999775533108867\n",
            "Validation Accuracy: 0.8074074074074075\n",
            "\n",
            "\n",
            "n_estimators: 1000\n",
            "Strategy: median\n",
            "Training Accuracy: 0.9999775533108867\n",
            "Validation Accuracy: 0.807070707070707\n",
            "\n",
            "\n",
            "n_estimators: 1000\n",
            "Strategy: most_frequent\n",
            "Training Accuracy: 0.9999775533108867\n",
            "Validation Accuracy: 0.8061952861952862\n",
            "\n",
            "\n",
            "n_estimators: 2000\n",
            "Strategy: mean\n",
            "Training Accuracy: 0.9999775533108867\n",
            "Validation Accuracy: 0.8061952861952862\n",
            "\n",
            "\n",
            "n_estimators: 2000\n",
            "Strategy: median\n",
            "Training Accuracy: 0.9999775533108867\n",
            "Validation Accuracy: 0.8057239057239057\n",
            "\n",
            "\n",
            "n_estimators: 2000\n",
            "Strategy: most_frequent\n",
            "Training Accuracy: 0.9999775533108867\n",
            "Validation Accuracy: 0.805993265993266\n",
            "\n",
            "\n"
          ],
          "name": "stdout"
        }
      ]
    },
    {
      "cell_type": "code",
      "metadata": {
        "id": "tvCtpzbPkpjb",
        "colab_type": "code",
        "colab": {
          "base_uri": "https://localhost:8080/",
          "height": 34
        },
        "outputId": "bfe18e7f-f7f4-44f5-eb6f-42fabc7f28e9"
      },
      "source": [
        "piper = make_pipeline(\n",
        "    ce.OrdinalEncoder(),\n",
        "    SimpleImputer(strategy='mean'),\n",
        "    StandardScaler(),\n",
        "    RandomForestClassifier(n_estimators=1000, n_jobs=-1, random_state=42)\n",
        ")\n",
        "piper.fit(X_train, y_train)\n",
        "piper.score(X_val, y_val)"
      ],
      "execution_count": 61,
      "outputs": [
        {
          "output_type": "execute_result",
          "data": {
            "text/plain": [
              "0.8076094276094276"
            ]
          },
          "metadata": {
            "tags": []
          },
          "execution_count": 61
        }
      ]
    },
    {
      "cell_type": "code",
      "metadata": {
        "id": "Ojhs8NfwsoeS",
        "colab_type": "code",
        "colab": {}
      },
      "source": [
        "y_pred1 = piper.predict(X_test)\n",
        "submission1 = sample_submission.copy()\n",
        "submission1['status_group'] = y_pred1\n",
        "submission1.to_csv('again2.csv', index=False)"
      ],
      "execution_count": 0,
      "outputs": []
    }
  ]
}