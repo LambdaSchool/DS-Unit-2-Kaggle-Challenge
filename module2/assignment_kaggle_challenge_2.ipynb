{
  "nbformat": 4,
  "nbformat_minor": 0,
  "metadata": {
    "colab": {
      "name": "Copy of assignment_kaggle_challenge_2.ipynb",
      "provenance": [],
      "collapsed_sections": [],
      "toc_visible": true,
      "include_colab_link": true
    },
    "kernelspec": {
      "display_name": "Python 3",
      "language": "python",
      "name": "python3"
    },
    "language_info": {
      "codemirror_mode": {
        "name": "ipython",
        "version": 3
      },
      "file_extension": ".py",
      "mimetype": "text/x-python",
      "name": "python",
      "nbconvert_exporter": "python",
      "pygments_lexer": "ipython3",
      "version": "3.7.3"
    }
  },
  "cells": [
    {
      "cell_type": "markdown",
      "metadata": {
        "id": "view-in-github",
        "colab_type": "text"
      },
      "source": [
        "<a href=\"https://colab.research.google.com/github/davidanagy/DS-Unit-2-Kaggle-Challenge/blob/master/module2/assignment_kaggle_challenge_2.ipynb\" target=\"_parent\"><img src=\"https://colab.research.google.com/assets/colab-badge.svg\" alt=\"Open In Colab\"/></a>"
      ]
    },
    {
      "cell_type": "markdown",
      "metadata": {
        "colab_type": "text",
        "id": "7IXUfiQ2UKj6"
      },
      "source": [
        "Lambda School Data Science, Unit 2: Predictive Modeling\n",
        "\n",
        "# Kaggle Challenge, Module 2\n",
        "\n",
        "## Assignment\n",
        "- [ ] Read [“Adopting a Hypothesis-Driven Workflow”](https://outline.com/5S5tsB), a blog post by a Lambda DS student about the Tanzania Waterpumps challenge.\n",
        "- [ ] Continue to participate in our Kaggle challenge.\n",
        "- [ ] Try Ordinal Encoding.\n",
        "- [ ] Try a Random Forest Classifier.\n",
        "- [ ] Submit your predictions to our Kaggle competition. (Go to our Kaggle InClass competition webpage. Use the blue **Submit Predictions** button to upload your CSV file. Or you can use the Kaggle API to submit your predictions.)\n",
        "- [ ] Commit your notebook to your fork of the GitHub repo.\n",
        "\n",
        "## Stretch Goals\n",
        "\n",
        "### Doing\n",
        "- [ ] Add your own stretch goal(s) !\n",
        "- [ ] Do more exploratory data analysis, data cleaning, feature engineering, and feature selection.\n",
        "- [ ] Try other [categorical encodings](https://contrib.scikit-learn.org/categorical-encoding/).\n",
        "- [ ] Get and plot your feature importances.\n",
        "- [ ] Make visualizations and share on Slack.\n",
        "\n",
        "### Reading\n",
        "\n",
        "Top recommendations in _**bold italic:**_\n",
        "\n",
        "#### Decision Trees\n",
        "- A Visual Introduction to Machine Learning, [Part 1: A Decision Tree](http://www.r2d3.us/visual-intro-to-machine-learning-part-1/),  and _**[Part 2: Bias and Variance](http://www.r2d3.us/visual-intro-to-machine-learning-part-2/)**_\n",
        "- [Decision Trees: Advantages & Disadvantages](https://christophm.github.io/interpretable-ml-book/tree.html#advantages-2)\n",
        "- [How a Russian mathematician constructed a decision tree — by hand — to solve a medical problem](http://fastml.com/how-a-russian-mathematician-constructed-a-decision-tree-by-hand-to-solve-a-medical-problem/)\n",
        "- [How decision trees work](https://brohrer.github.io/how_decision_trees_work.html)\n",
        "- [Let’s Write a Decision Tree Classifier from Scratch](https://www.youtube.com/watch?v=LDRbO9a6XPU)\n",
        "\n",
        "#### Random Forests\n",
        "- [_An Introduction to Statistical Learning_](http://www-bcf.usc.edu/~gareth/ISL/), Chapter 8: Tree-Based Methods\n",
        "- [Coloring with Random Forests](http://structuringtheunstructured.blogspot.com/2017/11/coloring-with-random-forests.html)\n",
        "- _**[Random Forests for Complete Beginners: The definitive guide to Random Forests and Decision Trees](https://victorzhou.com/blog/intro-to-random-forests/)**_\n",
        "\n",
        "#### Categorical encoding for trees\n",
        "- [Are categorical variables getting lost in your random forests?](https://roamanalytics.com/2016/10/28/are-categorical-variables-getting-lost-in-your-random-forests/)\n",
        "- [Beyond One-Hot: An Exploration of Categorical Variables](http://www.willmcginnis.com/2015/11/29/beyond-one-hot-an-exploration-of-categorical-variables/)\n",
        "- _**[Categorical Features and Encoding in Decision Trees](https://medium.com/data-design/visiting-categorical-features-and-encoding-in-decision-trees-53400fa65931)**_\n",
        "- _**[Coursera — How to Win a Data Science Competition: Learn from Top Kagglers — Concept of mean encoding](https://www.coursera.org/lecture/competitive-data-science/concept-of-mean-encoding-b5Gxv)**_\n",
        "- [Mean (likelihood) encodings: a comprehensive study](https://www.kaggle.com/vprokopev/mean-likelihood-encodings-a-comprehensive-study)\n",
        "- [The Mechanics of Machine Learning, Chapter 6: Categorically Speaking](https://mlbook.explained.ai/catvars.html)\n",
        "\n",
        "#### Imposter Syndrome\n",
        "- [Effort Shock and Reward Shock (How The Karate Kid Ruined The Modern World)](http://www.tempobook.com/2014/07/09/effort-shock-and-reward-shock/)\n",
        "- [How to manage impostor syndrome in data science](https://towardsdatascience.com/how-to-manage-impostor-syndrome-in-data-science-ad814809f068)\n",
        "- [\"I am not a real data scientist\"](https://brohrer.github.io/imposter_syndrome.html)\n",
        "- _**[Imposter Syndrome in Data Science](https://caitlinhudon.com/2018/01/19/imposter-syndrome-in-data-science/)**_\n",
        "\n",
        "\n",
        "\n",
        "\n"
      ]
    },
    {
      "cell_type": "markdown",
      "metadata": {
        "id": "azyFViuG8O4O",
        "colab_type": "text"
      },
      "source": [
        "### Setup\n",
        "\n",
        "You can work locally (follow the [local setup instructions](https://lambdaschool.github.io/ds/unit2/local/)) or on Colab (run the code cell below)."
      ]
    },
    {
      "cell_type": "code",
      "metadata": {
        "colab_type": "code",
        "id": "o9eSnDYhUGD7",
        "colab": {}
      },
      "source": [
        "%%capture\n",
        "import sys\n",
        "\n",
        "# If you're on Colab:\n",
        "if 'google.colab' in sys.modules:\n",
        "    DATA_PATH = 'https://raw.githubusercontent.com/LambdaSchool/DS-Unit-2-Kaggle-Challenge/master/data/'\n",
        "    !pip install category_encoders==2.*\n",
        "\n",
        "# If you're working locally:\n",
        "else:\n",
        "    DATA_PATH = '../data/'"
      ],
      "execution_count": 0,
      "outputs": []
    },
    {
      "cell_type": "code",
      "metadata": {
        "colab_type": "code",
        "id": "QJBD4ruICm1m",
        "colab": {
          "base_uri": "https://localhost:8080/",
          "height": 34
        },
        "outputId": "d555168a-d9a5-4f34-e638-312b10f7fa4c"
      },
      "source": [
        "import pandas as pd\n",
        "from sklearn.model_selection import train_test_split\n",
        "\n",
        "train = pd.merge(pd.read_csv(DATA_PATH+'waterpumps/train_features.csv'), \n",
        "                 pd.read_csv(DATA_PATH+'waterpumps/train_labels.csv'))\n",
        "test = pd.read_csv(DATA_PATH+'waterpumps/test_features.csv')\n",
        "sample_submission = pd.read_csv(DATA_PATH+'waterpumps/sample_submission.csv')\n",
        "\n",
        "train.shape, test.shape"
      ],
      "execution_count": 2,
      "outputs": [
        {
          "output_type": "execute_result",
          "data": {
            "text/plain": [
              "((59400, 41), (14358, 40))"
            ]
          },
          "metadata": {
            "tags": []
          },
          "execution_count": 2
        }
      ]
    },
    {
      "cell_type": "code",
      "metadata": {
        "id": "45GunPMO_LQZ",
        "colab_type": "code",
        "outputId": "316d0345-71b7-4c98-8b05-aa67b4d9cdb5",
        "colab": {
          "base_uri": "https://localhost:8080/",
          "height": 34
        }
      },
      "source": [
        "# Copying my earlier code...\n",
        "\n",
        "train, val = train_test_split(train, stratify=train['status_group'], random_state=77)\n",
        "\n",
        "train.shape, val.shape"
      ],
      "execution_count": 3,
      "outputs": [
        {
          "output_type": "execute_result",
          "data": {
            "text/plain": [
              "((44550, 41), (14850, 41))"
            ]
          },
          "metadata": {
            "tags": []
          },
          "execution_count": 3
        }
      ]
    },
    {
      "cell_type": "code",
      "metadata": {
        "id": "jv3yHqRt_euM",
        "colab_type": "code",
        "colab": {}
      },
      "source": [
        "# I'm going to try iterating. I'll hold off on dropping columns and reducing cardinality for now.\n",
        "\n",
        "import numpy as np\n",
        "\n",
        "def remove_zeroes(X):\n",
        "  X = X.copy()\n",
        "  \n",
        "  X['latitude'] = X['latitude'].replace(-2e-08, 0)\n",
        "  \n",
        "  zeroes = ['gps_height', 'longitude', 'latitude', 'population', 'construction_year']\n",
        "  for col in zeroes:\n",
        "    X[col] = X[col].replace(0, np.nan)\n",
        "  \n",
        "  return X\n",
        "\n",
        "def datetime_features(X):\n",
        "  X = X.copy()\n",
        "  \n",
        "  X['date_recorded'] = pd.to_datetime(X['date_recorded'], infer_datetime_format=True)\n",
        "  \n",
        "  X['year_recorded'] = X['date_recorded'].dt.year\n",
        "  \n",
        "  X['construction_year'] = X['construction_year'].fillna(np.around(np.mean(X['construction_year']), decimals=0))\n",
        "  \n",
        "  X['time_to_inspection'] = X['year_recorded'] - X['construction_year']\n",
        "  \n",
        "  return X\n",
        "\n",
        "def engineer_features(X):\n",
        "  X = X.copy()\n",
        "  \n",
        "  X = remove_zeroes(X)\n",
        "  X = datetime_features(X)\n",
        "  X = X.drop(['id', 'status_group', 'date_recorded'], axis=1)\n",
        "  \n",
        "  return X\n",
        "\n",
        "X_train = engineer_features(train)\n",
        "y_train = train['status_group']\n",
        "X_val = engineer_features(val)\n",
        "y_val = val['status_group']"
      ],
      "execution_count": 0,
      "outputs": []
    },
    {
      "cell_type": "code",
      "metadata": {
        "id": "V-7KUTEVAUI1",
        "colab_type": "code",
        "outputId": "0c682e38-5ba1-4b06-a816-7c2af8fae016",
        "colab": {
          "base_uri": "https://localhost:8080/",
          "height": 51
        }
      },
      "source": [
        "# Trying ordinal encoding.\n",
        "\n",
        "import category_encoders as ce\n",
        "from sklearn.impute import SimpleImputer\n",
        "from sklearn.pipeline import make_pipeline\n",
        "from sklearn.tree import DecisionTreeClassifier\n",
        "\n",
        "pipeline = make_pipeline(\n",
        "    ce.OrdinalEncoder(),\n",
        "    SimpleImputer(strategy='median'),\n",
        "    DecisionTreeClassifier(min_samples_leaf=14, max_depth=29, random_state=90)\n",
        ")\n",
        "\n",
        "pipeline.fit(X_train, y_train)\n",
        "print('Train Accuracy', pipeline.score(X_train, y_train))\n",
        "print('Validation Accuracy', pipeline.score(X_val, y_val))"
      ],
      "execution_count": 5,
      "outputs": [
        {
          "output_type": "stream",
          "text": [
            "Train Accuracy 0.8270707070707071\n",
            "Validation Accuracy 0.7618855218855218\n"
          ],
          "name": "stdout"
        }
      ]
    },
    {
      "cell_type": "code",
      "metadata": {
        "id": "TrWsWY6aArKP",
        "colab_type": "code",
        "outputId": "1825f415-402f-4b7c-9278-adfdd7804bad",
        "colab": {
          "base_uri": "https://localhost:8080/",
          "height": 51
        }
      },
      "source": [
        "# Now let's see what happens when I drop redundant columns.\n",
        "\n",
        "def drop_redundant(X):\n",
        "  X = X.copy()\n",
        "  \n",
        "  redundant_cols = ['recorded_by', 'extraction_type_group', 'extraction_type_class', 'management_group', 'payment_type',\n",
        "                   'quality_group', 'quantity_group', 'source_type', 'source_class', 'waterpoint_type_group',\n",
        "                   'region_code', 'district_code', 'date_recorded', 'id', 'status_group']\n",
        "  \n",
        "  for col in redundant_cols:\n",
        "    X = X.drop(col, axis=1)\n",
        "    \n",
        "  return X\n",
        "\n",
        "def engineer_features(X):\n",
        "  X = X.copy()\n",
        "  \n",
        "  X = remove_zeroes(X)\n",
        "  X = datetime_features(X)\n",
        "  X = drop_redundant(X)\n",
        "  \n",
        "  return X\n",
        "\n",
        "X_train = engineer_features(train)\n",
        "y_train = train['status_group']\n",
        "X_val = engineer_features(val)\n",
        "y_val = val['status_group']\n",
        "\n",
        "pipeline = make_pipeline(\n",
        "    ce.OrdinalEncoder(),\n",
        "    SimpleImputer(strategy='median'),\n",
        "    DecisionTreeClassifier(min_samples_leaf=14, max_depth=29, random_state=90)\n",
        ")\n",
        "\n",
        "pipeline.fit(X_train, y_train)\n",
        "print('Train Accuracy', pipeline.score(X_train, y_train))\n",
        "print('Validation Accuracy', pipeline.score(X_val, y_val))\n",
        "\n",
        "# Accuracy increases a little bit, but still not as good as using one-hot encoding."
      ],
      "execution_count": 6,
      "outputs": [
        {
          "output_type": "stream",
          "text": [
            "Train Accuracy 0.8286419753086419\n",
            "Validation Accuracy 0.7636363636363637\n"
          ],
          "name": "stdout"
        }
      ]
    },
    {
      "cell_type": "code",
      "metadata": {
        "id": "IEMkT6lQCDn7",
        "colab_type": "code",
        "outputId": "e4a58481-a0cd-44f6-cd59-b30bc9bf086a",
        "colab": {
          "base_uri": "https://localhost:8080/",
          "height": 51
        }
      },
      "source": [
        "# What if I use one-hot encoding for low cardinality, and ordinal encoding for high cardinality?\n",
        "\n",
        "cardinality = X_train.select_dtypes(exclude='number').nunique()\n",
        "  \n",
        "high_cardinality = cardinality[cardinality > 50].index.tolist()\n",
        "\n",
        "low_cardinality = cardinality[cardinality <= 50].index.tolist()\n",
        "\n",
        "pipeline = make_pipeline(\n",
        "    ce.OrdinalEncoder(cols=high_cardinality),\n",
        "    ce.OneHotEncoder(cols=low_cardinality),\n",
        "    SimpleImputer(strategy='median'),\n",
        "    DecisionTreeClassifier(min_samples_leaf=14, max_depth=29, random_state=90)\n",
        ")\n",
        "\n",
        "pipeline.fit(X_train, y_train)\n",
        "print('Train Accuracy', pipeline.score(X_train, y_train))\n",
        "print('Validation Accuracy', pipeline.score(X_val, y_val))\n",
        "\n",
        "# Result is lower! One-hot combined with reducing cardinality seems the best, at least for single trees."
      ],
      "execution_count": 7,
      "outputs": [
        {
          "output_type": "stream",
          "text": [
            "Train Accuracy 0.8264421997755331\n",
            "Validation Accuracy 0.7603367003367003\n"
          ],
          "name": "stdout"
        }
      ]
    },
    {
      "cell_type": "code",
      "metadata": {
        "id": "Dc3uiV2TC4nI",
        "colab_type": "code",
        "outputId": "70d192f6-7401-4101-c461-44c5485a510d",
        "colab": {
          "base_uri": "https://localhost:8080/",
          "height": 51
        }
      },
      "source": [
        "from sklearn.ensemble import RandomForestClassifier\n",
        "\n",
        "pipeline = make_pipeline(\n",
        "    ce.OrdinalEncoder(),\n",
        "    SimpleImputer(strategy='median'),\n",
        "    RandomForestClassifier(n_estimators=100, random_state=100, n_jobs=-1)\n",
        ")\n",
        "\n",
        "pipeline.fit(X_train, y_train)\n",
        "print('Train Accuracy', pipeline.score(X_train, y_train))\n",
        "print('Validation Accuracy', pipeline.score(X_val, y_val))\n",
        "\n",
        "# Now that's high!"
      ],
      "execution_count": 8,
      "outputs": [
        {
          "output_type": "stream",
          "text": [
            "Train Accuracy 0.9999775533108867\n",
            "Validation Accuracy 0.8058585858585858\n"
          ],
          "name": "stdout"
        }
      ]
    },
    {
      "cell_type": "code",
      "metadata": {
        "id": "pfeHP8QZDgun",
        "colab_type": "code",
        "outputId": "e94272a8-060d-4bcb-8805-a9ae2eb54145",
        "colab": {
          "base_uri": "https://localhost:8080/",
          "height": 51
        }
      },
      "source": [
        "# What if I reduce cardinality and do one-hot encode?\n",
        "\n",
        "def reduce_cardinality(X):\n",
        "  X = X.copy()\n",
        "  \n",
        "  cardinality = X.select_dtypes(exclude='number').nunique()\n",
        "  \n",
        "  high_cardinality = cardinality[cardinality > 50].index.tolist()\n",
        "  \n",
        "  for feature in high_cardinality:\n",
        "    top10 = X[feature].value_counts()[:10].index\n",
        "    X.loc[~X[feature].isin(top10), feature] = 'OTHER'\n",
        "  \n",
        "  return X\n",
        "\n",
        "def engineer_features(X):\n",
        "  X = X.copy()\n",
        "  \n",
        "  X = remove_zeroes(X)\n",
        "  X = datetime_features(X)\n",
        "  X = drop_redundant(X)\n",
        "  X = reduce_cardinality(X)\n",
        "  \n",
        "  return X\n",
        "\n",
        "X_train = engineer_features(train)\n",
        "X_val = engineer_features(val)\n",
        "\n",
        "pipeline = make_pipeline(\n",
        "    ce.OneHotEncoder(use_cat_names=True),\n",
        "    SimpleImputer(strategy='median'),\n",
        "    RandomForestClassifier(n_estimators=100, random_state=100, n_jobs=-1)\n",
        ")\n",
        "\n",
        "pipeline.fit(X_train, y_train)\n",
        "print('Train Accuracy', pipeline.score(X_train, y_train))\n",
        "print('Validation Accuracy', pipeline.score(X_val, y_val))\n",
        "\n",
        "# Accuracy is lower!"
      ],
      "execution_count": 9,
      "outputs": [
        {
          "output_type": "stream",
          "text": [
            "Train Accuracy 0.9970145903479237\n",
            "Validation Accuracy 0.8048484848484848\n"
          ],
          "name": "stdout"
        }
      ]
    },
    {
      "cell_type": "code",
      "metadata": {
        "id": "58eFclPpD9Dp",
        "colab_type": "code",
        "outputId": "38de4d56-c611-4b10-8641-9acce7e0f3c9",
        "colab": {
          "base_uri": "https://localhost:8080/",
          "height": 51
        }
      },
      "source": [
        "def engineer_features(X):\n",
        "  X = X.copy()\n",
        "  \n",
        "  X = remove_zeroes(X)\n",
        "  X = datetime_features(X)\n",
        "  X = drop_redundant(X)\n",
        "  \n",
        "  return X\n",
        "\n",
        "X_train = engineer_features(train)\n",
        "X_val = engineer_features(val)\n",
        "\n",
        "pipeline = make_pipeline(\n",
        "    ce.OrdinalEncoder(),\n",
        "    SimpleImputer(strategy='median'),\n",
        "    RandomForestClassifier(n_estimators=100, random_state=100, n_jobs=-1)\n",
        ")\n",
        "\n",
        "pipeline.fit(X_train, y_train)\n",
        "print('Train Accuracy', pipeline.score(X_train, y_train))\n",
        "print('Validation Accuracy', pipeline.score(X_val, y_val))"
      ],
      "execution_count": 10,
      "outputs": [
        {
          "output_type": "stream",
          "text": [
            "Train Accuracy 0.9999775533108867\n",
            "Validation Accuracy 0.8058585858585858\n"
          ],
          "name": "stdout"
        }
      ]
    },
    {
      "cell_type": "code",
      "metadata": {
        "id": "P0ULGn3KETWW",
        "colab_type": "code",
        "outputId": "001b639f-b73c-48f7-d9c3-6fb9001316c2",
        "colab": {
          "base_uri": "https://localhost:8080/",
          "height": 204
        }
      },
      "source": [
        "# Have to re-define so I'm not dropping \"status_group,\" since 'test' has no status_group column!\n",
        "\n",
        "def drop_redundant(X):\n",
        "  X = X.copy()\n",
        "  \n",
        "  redundant_cols = ['recorded_by', 'extraction_type_group', 'extraction_type_class', 'management_group', 'payment_type',\n",
        "                   'quality_group', 'quantity_group', 'source_type', 'source_class', 'waterpoint_type_group',\n",
        "                   'region_code', 'district_code', 'date_recorded', 'id']\n",
        "  \n",
        "  for col in redundant_cols:\n",
        "    X = X.drop(col, axis=1)\n",
        "    \n",
        "  return X\n",
        "\n",
        "X_test = engineer_features(test)\n",
        "\n",
        "y_pred = pd.DataFrame(pipeline.predict(X_test), columns=['status_group'])\n",
        "\n",
        "submission1 = pd.concat([test['id'], y_pred], axis=1)\n",
        "\n",
        "submission1.head()"
      ],
      "execution_count": 11,
      "outputs": [
        {
          "output_type": "execute_result",
          "data": {
            "text/html": [
              "<div>\n",
              "<style scoped>\n",
              "    .dataframe tbody tr th:only-of-type {\n",
              "        vertical-align: middle;\n",
              "    }\n",
              "\n",
              "    .dataframe tbody tr th {\n",
              "        vertical-align: top;\n",
              "    }\n",
              "\n",
              "    .dataframe thead th {\n",
              "        text-align: right;\n",
              "    }\n",
              "</style>\n",
              "<table border=\"1\" class=\"dataframe\">\n",
              "  <thead>\n",
              "    <tr style=\"text-align: right;\">\n",
              "      <th></th>\n",
              "      <th>id</th>\n",
              "      <th>status_group</th>\n",
              "    </tr>\n",
              "  </thead>\n",
              "  <tbody>\n",
              "    <tr>\n",
              "      <th>0</th>\n",
              "      <td>50785</td>\n",
              "      <td>non functional</td>\n",
              "    </tr>\n",
              "    <tr>\n",
              "      <th>1</th>\n",
              "      <td>51630</td>\n",
              "      <td>functional</td>\n",
              "    </tr>\n",
              "    <tr>\n",
              "      <th>2</th>\n",
              "      <td>17168</td>\n",
              "      <td>functional</td>\n",
              "    </tr>\n",
              "    <tr>\n",
              "      <th>3</th>\n",
              "      <td>45559</td>\n",
              "      <td>non functional</td>\n",
              "    </tr>\n",
              "    <tr>\n",
              "      <th>4</th>\n",
              "      <td>49871</td>\n",
              "      <td>functional</td>\n",
              "    </tr>\n",
              "  </tbody>\n",
              "</table>\n",
              "</div>"
            ],
            "text/plain": [
              "      id    status_group\n",
              "0  50785  non functional\n",
              "1  51630      functional\n",
              "2  17168      functional\n",
              "3  45559  non functional\n",
              "4  49871      functional"
            ]
          },
          "metadata": {
            "tags": []
          },
          "execution_count": 11
        }
      ]
    },
    {
      "cell_type": "code",
      "metadata": {
        "id": "XON3MHkvEzR6",
        "colab_type": "code",
        "colab": {}
      },
      "source": [
        "submission1.to_csv('water-submission-07.csv', index=None, header=True)"
      ],
      "execution_count": 0,
      "outputs": []
    },
    {
      "cell_type": "code",
      "metadata": {
        "id": "23TpC788FRaq",
        "colab_type": "code",
        "outputId": "83bb1be8-11b1-4f54-fbae-961d9ee8305e",
        "colab": {
          "base_uri": "https://localhost:8080/",
          "height": 326
        }
      },
      "source": [
        "X_train.head()"
      ],
      "execution_count": 13,
      "outputs": [
        {
          "output_type": "execute_result",
          "data": {
            "text/html": [
              "<div>\n",
              "<style scoped>\n",
              "    .dataframe tbody tr th:only-of-type {\n",
              "        vertical-align: middle;\n",
              "    }\n",
              "\n",
              "    .dataframe tbody tr th {\n",
              "        vertical-align: top;\n",
              "    }\n",
              "\n",
              "    .dataframe thead th {\n",
              "        text-align: right;\n",
              "    }\n",
              "</style>\n",
              "<table border=\"1\" class=\"dataframe\">\n",
              "  <thead>\n",
              "    <tr style=\"text-align: right;\">\n",
              "      <th></th>\n",
              "      <th>amount_tsh</th>\n",
              "      <th>funder</th>\n",
              "      <th>gps_height</th>\n",
              "      <th>installer</th>\n",
              "      <th>longitude</th>\n",
              "      <th>latitude</th>\n",
              "      <th>wpt_name</th>\n",
              "      <th>num_private</th>\n",
              "      <th>basin</th>\n",
              "      <th>subvillage</th>\n",
              "      <th>region</th>\n",
              "      <th>lga</th>\n",
              "      <th>ward</th>\n",
              "      <th>population</th>\n",
              "      <th>public_meeting</th>\n",
              "      <th>scheme_management</th>\n",
              "      <th>scheme_name</th>\n",
              "      <th>permit</th>\n",
              "      <th>construction_year</th>\n",
              "      <th>extraction_type</th>\n",
              "      <th>management</th>\n",
              "      <th>payment</th>\n",
              "      <th>water_quality</th>\n",
              "      <th>quantity</th>\n",
              "      <th>source</th>\n",
              "      <th>waterpoint_type</th>\n",
              "      <th>year_recorded</th>\n",
              "      <th>time_to_inspection</th>\n",
              "    </tr>\n",
              "  </thead>\n",
              "  <tbody>\n",
              "    <tr>\n",
              "      <th>58517</th>\n",
              "      <td>0.0</td>\n",
              "      <td>Wvt</td>\n",
              "      <td>NaN</td>\n",
              "      <td>WVT</td>\n",
              "      <td>NaN</td>\n",
              "      <td>NaN</td>\n",
              "      <td>Mwayai</td>\n",
              "      <td>0</td>\n",
              "      <td>Lake Victoria</td>\n",
              "      <td>Sasanda</td>\n",
              "      <td>Shinyanga</td>\n",
              "      <td>Bariadi</td>\n",
              "      <td>Bumera</td>\n",
              "      <td>NaN</td>\n",
              "      <td>True</td>\n",
              "      <td>WUG</td>\n",
              "      <td>NaN</td>\n",
              "      <td>False</td>\n",
              "      <td>1997.0</td>\n",
              "      <td>nira/tanira</td>\n",
              "      <td>wug</td>\n",
              "      <td>never pay</td>\n",
              "      <td>soft</td>\n",
              "      <td>enough</td>\n",
              "      <td>shallow well</td>\n",
              "      <td>hand pump</td>\n",
              "      <td>2013</td>\n",
              "      <td>16.0</td>\n",
              "    </tr>\n",
              "    <tr>\n",
              "      <th>53717</th>\n",
              "      <td>0.0</td>\n",
              "      <td>Government Of Tanzania</td>\n",
              "      <td>NaN</td>\n",
              "      <td>RWE</td>\n",
              "      <td>31.770808</td>\n",
              "      <td>-1.003277</td>\n",
              "      <td>Kamenge</td>\n",
              "      <td>0</td>\n",
              "      <td>Lake Victoria</td>\n",
              "      <td>Bukuma</td>\n",
              "      <td>Kagera</td>\n",
              "      <td>Misenyi</td>\n",
              "      <td>Kanyigo</td>\n",
              "      <td>NaN</td>\n",
              "      <td>True</td>\n",
              "      <td>VWC</td>\n",
              "      <td>Kan</td>\n",
              "      <td>True</td>\n",
              "      <td>1997.0</td>\n",
              "      <td>gravity</td>\n",
              "      <td>vwc</td>\n",
              "      <td>never pay</td>\n",
              "      <td>soft</td>\n",
              "      <td>insufficient</td>\n",
              "      <td>spring</td>\n",
              "      <td>communal standpipe</td>\n",
              "      <td>2011</td>\n",
              "      <td>14.0</td>\n",
              "    </tr>\n",
              "    <tr>\n",
              "      <th>5580</th>\n",
              "      <td>0.0</td>\n",
              "      <td>Twesa</td>\n",
              "      <td>NaN</td>\n",
              "      <td>TWESA</td>\n",
              "      <td>33.405885</td>\n",
              "      <td>-3.504091</td>\n",
              "      <td>Azimio</td>\n",
              "      <td>0</td>\n",
              "      <td>Internal</td>\n",
              "      <td>Kadoto B</td>\n",
              "      <td>Shinyanga</td>\n",
              "      <td>Shinyanga Rural</td>\n",
              "      <td>Pandagichiza</td>\n",
              "      <td>NaN</td>\n",
              "      <td>True</td>\n",
              "      <td>WUG</td>\n",
              "      <td>NaN</td>\n",
              "      <td>True</td>\n",
              "      <td>1997.0</td>\n",
              "      <td>nira/tanira</td>\n",
              "      <td>wug</td>\n",
              "      <td>never pay</td>\n",
              "      <td>soft</td>\n",
              "      <td>insufficient</td>\n",
              "      <td>shallow well</td>\n",
              "      <td>hand pump</td>\n",
              "      <td>2012</td>\n",
              "      <td>15.0</td>\n",
              "    </tr>\n",
              "    <tr>\n",
              "      <th>47950</th>\n",
              "      <td>0.0</td>\n",
              "      <td>Patuu</td>\n",
              "      <td>NaN</td>\n",
              "      <td>PATUU</td>\n",
              "      <td>36.117722</td>\n",
              "      <td>-6.869506</td>\n",
              "      <td>Wiyenzele Primary School</td>\n",
              "      <td>0</td>\n",
              "      <td>Rufiji</td>\n",
              "      <td>Wiyenzele</td>\n",
              "      <td>Dodoma</td>\n",
              "      <td>Mpwapwa</td>\n",
              "      <td>Mlunduzi</td>\n",
              "      <td>NaN</td>\n",
              "      <td>True</td>\n",
              "      <td>VWC</td>\n",
              "      <td>NaN</td>\n",
              "      <td>True</td>\n",
              "      <td>1997.0</td>\n",
              "      <td>gravity</td>\n",
              "      <td>vwc</td>\n",
              "      <td>never pay</td>\n",
              "      <td>soft</td>\n",
              "      <td>seasonal</td>\n",
              "      <td>rainwater harvesting</td>\n",
              "      <td>communal standpipe</td>\n",
              "      <td>2011</td>\n",
              "      <td>14.0</td>\n",
              "    </tr>\n",
              "    <tr>\n",
              "      <th>10488</th>\n",
              "      <td>0.0</td>\n",
              "      <td>Lwi</td>\n",
              "      <td>NaN</td>\n",
              "      <td>LWI</td>\n",
              "      <td>NaN</td>\n",
              "      <td>NaN</td>\n",
              "      <td>Muungano</td>\n",
              "      <td>0</td>\n",
              "      <td>Lake Victoria</td>\n",
              "      <td>Madukani</td>\n",
              "      <td>Mwanza</td>\n",
              "      <td>Magu</td>\n",
              "      <td>Nkungulu</td>\n",
              "      <td>NaN</td>\n",
              "      <td>NaN</td>\n",
              "      <td>WUG</td>\n",
              "      <td>NaN</td>\n",
              "      <td>False</td>\n",
              "      <td>1997.0</td>\n",
              "      <td>india mark iii</td>\n",
              "      <td>wug</td>\n",
              "      <td>unknown</td>\n",
              "      <td>soft</td>\n",
              "      <td>enough</td>\n",
              "      <td>shallow well</td>\n",
              "      <td>hand pump</td>\n",
              "      <td>2012</td>\n",
              "      <td>15.0</td>\n",
              "    </tr>\n",
              "  </tbody>\n",
              "</table>\n",
              "</div>"
            ],
            "text/plain": [
              "       amount_tsh                  funder  ...  year_recorded time_to_inspection\n",
              "58517         0.0                     Wvt  ...           2013               16.0\n",
              "53717         0.0  Government Of Tanzania  ...           2011               14.0\n",
              "5580          0.0                   Twesa  ...           2012               15.0\n",
              "47950         0.0                   Patuu  ...           2011               14.0\n",
              "10488         0.0                     Lwi  ...           2012               15.0\n",
              "\n",
              "[5 rows x 28 columns]"
            ]
          },
          "metadata": {
            "tags": []
          },
          "execution_count": 13
        }
      ]
    },
    {
      "cell_type": "code",
      "metadata": {
        "id": "2DfDuFi8L3Cv",
        "colab_type": "code",
        "outputId": "52174aaf-dcdc-4691-8de3-ad64b7adb7e3",
        "colab": {
          "base_uri": "https://localhost:8080/",
          "height": 51
        }
      },
      "source": [
        "# Going to try dropping fewer columns.\n",
        "\n",
        "def drop_redundant(X):\n",
        "  X = X.copy()\n",
        "  \n",
        "  redundant_cols = ['recorded_by', 'payment_type', 'region_code', 'date_recorded', 'id']\n",
        "  \n",
        "  for col in redundant_cols:\n",
        "    X = X.drop(col, axis=1)\n",
        "    \n",
        "  return X\n",
        "\n",
        "def engineer_features(X):\n",
        "  X = X.copy()\n",
        "  \n",
        "  X = remove_zeroes(X)\n",
        "  X = datetime_features(X)\n",
        "  X = drop_redundant(X)\n",
        "  \n",
        "  return X\n",
        "\n",
        "X_train = engineer_features(train).drop('status_group', axis=1)\n",
        "X_val = engineer_features(val).drop('status_group', axis=1)\n",
        "\n",
        "pipeline = make_pipeline(\n",
        "    ce.OrdinalEncoder(),\n",
        "    SimpleImputer(strategy='median'),\n",
        "    RandomForestClassifier(n_estimators=100, random_state=100, n_jobs=-1)\n",
        ")\n",
        "\n",
        "pipeline.fit(X_train, y_train)\n",
        "print('Train Accuracy', pipeline.score(X_train, y_train))\n",
        "print('Validation Accuracy', pipeline.score(X_val, y_val))\n",
        "\n",
        "# Accuracy goes up!"
      ],
      "execution_count": 14,
      "outputs": [
        {
          "output_type": "stream",
          "text": [
            "Train Accuracy 0.9999775533108867\n",
            "Validation Accuracy 0.8078787878787879\n"
          ],
          "name": "stdout"
        }
      ]
    },
    {
      "cell_type": "code",
      "metadata": {
        "id": "SZs49b3MM12f",
        "colab_type": "code",
        "colab": {}
      },
      "source": [
        "X_test = engineer_features(test)\n",
        "\n",
        "y_pred = pd.DataFrame(pipeline.predict(X_test), columns=['status_group'])\n",
        "\n",
        "submission2 = pd.concat([test['id'], y_pred], axis=1)\n",
        "\n",
        "submission2.to_csv('water-submission-08.csv', index=None, header=True)"
      ],
      "execution_count": 0,
      "outputs": []
    },
    {
      "cell_type": "code",
      "metadata": {
        "id": "AY7XP39BNIHv",
        "colab_type": "code",
        "outputId": "01615e2a-a963-4832-fa7d-a55e395448d6",
        "colab": {
          "base_uri": "https://localhost:8080/",
          "height": 51
        }
      },
      "source": [
        "# Testing the application of two encoders at once.\n",
        "\n",
        "cardinality = X_train.select_dtypes(exclude='number').nunique()\n",
        "  \n",
        "high_cardinality = cardinality[cardinality > 50].index.tolist()\n",
        "\n",
        "low_cardinality = cardinality[cardinality <= 50].index.tolist()\n",
        "\n",
        "pipeline = make_pipeline(\n",
        "    ce.OrdinalEncoder(cols=high_cardinality),\n",
        "    ce.OneHotEncoder(cols=low_cardinality),\n",
        "    SimpleImputer(strategy='median'),\n",
        "    RandomForestClassifier(n_estimators=100, random_state=100, n_jobs=-1)\n",
        ")\n",
        "\n",
        "pipeline.fit(X_train, y_train)\n",
        "print('Train Accuracy', pipeline.score(X_train, y_train))\n",
        "print('Validation Accuracy', pipeline.score(X_val, y_val))\n",
        "\n",
        "# Accuracy goes up!"
      ],
      "execution_count": 16,
      "outputs": [
        {
          "output_type": "stream",
          "text": [
            "Train Accuracy 0.9999775533108867\n",
            "Validation Accuracy 0.8081481481481482\n"
          ],
          "name": "stdout"
        }
      ]
    },
    {
      "cell_type": "code",
      "metadata": {
        "id": "xNfpeGF8OAQd",
        "colab_type": "code",
        "colab": {}
      },
      "source": [
        "y_pred = pd.DataFrame(pipeline.predict(X_test), columns=['status_group'])\n",
        "\n",
        "submission3 = pd.concat([test['id'], y_pred], axis=1)\n",
        "\n",
        "submission3.to_csv('water-submission-09.csv', index=None, header=True)\n",
        "\n",
        "# Sadly this ended up having a lower test accuracy..."
      ],
      "execution_count": 0,
      "outputs": []
    },
    {
      "cell_type": "code",
      "metadata": {
        "id": "Ecq3GD2GOROZ",
        "colab_type": "code",
        "outputId": "1de6fb12-9cf2-49c5-930a-f944926d5ba0",
        "colab": {
          "base_uri": "https://localhost:8080/",
          "height": 51
        }
      },
      "source": [
        "# Trying an iterative imputer.\n",
        "\n",
        "from sklearn.experimental import enable_iterative_imputer\n",
        "from sklearn.impute import IterativeImputer\n",
        "\n",
        "pipeline = make_pipeline(\n",
        "    ce.OrdinalEncoder(),\n",
        "    IterativeImputer(max_iter=100, initial_strategy='median', min_value=0),\n",
        "    RandomForestClassifier(n_estimators=100, random_state=100, n_jobs=-1)\n",
        ")\n",
        "\n",
        "pipeline.fit(X_train, y_train)\n",
        "print('Train Accuracy', pipeline.score(X_train, y_train))\n",
        "print('Validation Accuracy', pipeline.score(X_val, y_val))\n",
        "\n",
        "# Accuracy goes down"
      ],
      "execution_count": 18,
      "outputs": [
        {
          "output_type": "stream",
          "text": [
            "Train Accuracy 0.9999775533108867\n",
            "Validation Accuracy 0.8046464646464646\n"
          ],
          "name": "stdout"
        }
      ]
    },
    {
      "cell_type": "code",
      "metadata": {
        "id": "dcFKUwwTPs1c",
        "colab_type": "code",
        "outputId": "60d31493-d6bf-4482-903d-48bd574fe63b",
        "colab": {
          "base_uri": "https://localhost:8080/",
          "height": 51
        }
      },
      "source": [
        "# Trying a \"most frequent\" strategy.\n",
        "\n",
        "pipeline = make_pipeline(\n",
        "    ce.OrdinalEncoder(),\n",
        "    SimpleImputer(strategy='most_frequent'),\n",
        "    RandomForestClassifier(n_estimators=100, random_state=100, n_jobs=-1)\n",
        ")\n",
        "\n",
        "pipeline.fit(X_train, y_train)\n",
        "print('Train Accuracy', pipeline.score(X_train, y_train))\n",
        "print('Validation Accuracy', pipeline.score(X_val, y_val))\n",
        "\n",
        "# Accuracy goes down (by a bit)"
      ],
      "execution_count": 19,
      "outputs": [
        {
          "output_type": "stream",
          "text": [
            "Train Accuracy 0.9999775533108867\n",
            "Validation Accuracy 0.8074747474747475\n"
          ],
          "name": "stdout"
        }
      ]
    },
    {
      "cell_type": "code",
      "metadata": {
        "id": "4HC6K5bOQP3C",
        "colab_type": "code",
        "outputId": "c8edfd12-d8e7-41db-b3bf-4b07a24d2dc1",
        "colab": {
          "base_uri": "https://localhost:8080/",
          "height": 317
        }
      },
      "source": [
        "X_train.describe()"
      ],
      "execution_count": 20,
      "outputs": [
        {
          "output_type": "execute_result",
          "data": {
            "text/html": [
              "<div>\n",
              "<style scoped>\n",
              "    .dataframe tbody tr th:only-of-type {\n",
              "        vertical-align: middle;\n",
              "    }\n",
              "\n",
              "    .dataframe tbody tr th {\n",
              "        vertical-align: top;\n",
              "    }\n",
              "\n",
              "    .dataframe thead th {\n",
              "        text-align: right;\n",
              "    }\n",
              "</style>\n",
              "<table border=\"1\" class=\"dataframe\">\n",
              "  <thead>\n",
              "    <tr style=\"text-align: right;\">\n",
              "      <th></th>\n",
              "      <th>amount_tsh</th>\n",
              "      <th>gps_height</th>\n",
              "      <th>longitude</th>\n",
              "      <th>latitude</th>\n",
              "      <th>num_private</th>\n",
              "      <th>district_code</th>\n",
              "      <th>population</th>\n",
              "      <th>construction_year</th>\n",
              "      <th>year_recorded</th>\n",
              "      <th>time_to_inspection</th>\n",
              "    </tr>\n",
              "  </thead>\n",
              "  <tbody>\n",
              "    <tr>\n",
              "      <th>count</th>\n",
              "      <td>44550.000000</td>\n",
              "      <td>29104.000000</td>\n",
              "      <td>43171.000000</td>\n",
              "      <td>43171.000000</td>\n",
              "      <td>44550.000000</td>\n",
              "      <td>44550.000000</td>\n",
              "      <td>28427.00000</td>\n",
              "      <td>44550.000000</td>\n",
              "      <td>44550.000000</td>\n",
              "      <td>44550.000000</td>\n",
              "    </tr>\n",
              "    <tr>\n",
              "      <th>mean</th>\n",
              "      <td>320.565308</td>\n",
              "      <td>1016.484779</td>\n",
              "      <td>35.153192</td>\n",
              "      <td>-5.895653</td>\n",
              "      <td>0.473692</td>\n",
              "      <td>5.629001</td>\n",
              "      <td>282.31449</td>\n",
              "      <td>1996.885926</td>\n",
              "      <td>2011.920135</td>\n",
              "      <td>15.034209</td>\n",
              "    </tr>\n",
              "    <tr>\n",
              "      <th>std</th>\n",
              "      <td>3150.477970</td>\n",
              "      <td>613.434859</td>\n",
              "      <td>2.604573</td>\n",
              "      <td>2.812980</td>\n",
              "      <td>11.594878</td>\n",
              "      <td>9.650221</td>\n",
              "      <td>581.84945</td>\n",
              "      <td>10.058957</td>\n",
              "      <td>0.958777</td>\n",
              "      <td>10.095001</td>\n",
              "    </tr>\n",
              "    <tr>\n",
              "      <th>min</th>\n",
              "      <td>0.000000</td>\n",
              "      <td>-90.000000</td>\n",
              "      <td>29.607201</td>\n",
              "      <td>-11.649440</td>\n",
              "      <td>0.000000</td>\n",
              "      <td>0.000000</td>\n",
              "      <td>1.00000</td>\n",
              "      <td>1960.000000</td>\n",
              "      <td>2002.000000</td>\n",
              "      <td>-7.000000</td>\n",
              "    </tr>\n",
              "    <tr>\n",
              "      <th>25%</th>\n",
              "      <td>0.000000</td>\n",
              "      <td>391.000000</td>\n",
              "      <td>33.284972</td>\n",
              "      <td>-8.662794</td>\n",
              "      <td>0.000000</td>\n",
              "      <td>2.000000</td>\n",
              "      <td>40.00000</td>\n",
              "      <td>1996.000000</td>\n",
              "      <td>2011.000000</td>\n",
              "      <td>8.000000</td>\n",
              "    </tr>\n",
              "    <tr>\n",
              "      <th>50%</th>\n",
              "      <td>0.000000</td>\n",
              "      <td>1165.000000</td>\n",
              "      <td>35.001336</td>\n",
              "      <td>-5.177179</td>\n",
              "      <td>0.000000</td>\n",
              "      <td>3.000000</td>\n",
              "      <td>150.00000</td>\n",
              "      <td>1997.000000</td>\n",
              "      <td>2012.000000</td>\n",
              "      <td>14.000000</td>\n",
              "    </tr>\n",
              "    <tr>\n",
              "      <th>75%</th>\n",
              "      <td>25.000000</td>\n",
              "      <td>1498.000000</td>\n",
              "      <td>37.237524</td>\n",
              "      <td>-3.375576</td>\n",
              "      <td>0.000000</td>\n",
              "      <td>5.000000</td>\n",
              "      <td>320.00000</td>\n",
              "      <td>2004.000000</td>\n",
              "      <td>2013.000000</td>\n",
              "      <td>16.000000</td>\n",
              "    </tr>\n",
              "    <tr>\n",
              "      <th>max</th>\n",
              "      <td>350000.000000</td>\n",
              "      <td>2628.000000</td>\n",
              "      <td>40.344301</td>\n",
              "      <td>-0.998464</td>\n",
              "      <td>1776.000000</td>\n",
              "      <td>80.000000</td>\n",
              "      <td>30500.00000</td>\n",
              "      <td>2013.000000</td>\n",
              "      <td>2013.000000</td>\n",
              "      <td>53.000000</td>\n",
              "    </tr>\n",
              "  </tbody>\n",
              "</table>\n",
              "</div>"
            ],
            "text/plain": [
              "          amount_tsh    gps_height  ...  year_recorded  time_to_inspection\n",
              "count   44550.000000  29104.000000  ...   44550.000000        44550.000000\n",
              "mean      320.565308   1016.484779  ...    2011.920135           15.034209\n",
              "std      3150.477970    613.434859  ...       0.958777           10.095001\n",
              "min         0.000000    -90.000000  ...    2002.000000           -7.000000\n",
              "25%         0.000000    391.000000  ...    2011.000000            8.000000\n",
              "50%         0.000000   1165.000000  ...    2012.000000           14.000000\n",
              "75%        25.000000   1498.000000  ...    2013.000000           16.000000\n",
              "max    350000.000000   2628.000000  ...    2013.000000           53.000000\n",
              "\n",
              "[8 rows x 10 columns]"
            ]
          },
          "metadata": {
            "tags": []
          },
          "execution_count": 20
        }
      ]
    },
    {
      "cell_type": "code",
      "metadata": {
        "id": "B-s9DWxVQbaT",
        "colab_type": "code",
        "outputId": "24d24066-4a88-41d3-b26d-50b37e73efe0",
        "colab": {
          "base_uri": "https://localhost:8080/",
          "height": 663
        }
      },
      "source": [
        "X_train.isnull().sum()"
      ],
      "execution_count": 21,
      "outputs": [
        {
          "output_type": "execute_result",
          "data": {
            "text/plain": [
              "amount_tsh                   0\n",
              "funder                    2727\n",
              "gps_height               15446\n",
              "installer                 2737\n",
              "longitude                 1379\n",
              "latitude                  1379\n",
              "wpt_name                     0\n",
              "num_private                  0\n",
              "basin                        0\n",
              "subvillage                 268\n",
              "region                       0\n",
              "district_code                0\n",
              "lga                          0\n",
              "ward                         0\n",
              "population               16123\n",
              "public_meeting            2559\n",
              "scheme_management         2913\n",
              "scheme_name              21245\n",
              "permit                    2314\n",
              "construction_year            0\n",
              "extraction_type              0\n",
              "extraction_type_group        0\n",
              "extraction_type_class        0\n",
              "management                   0\n",
              "management_group             0\n",
              "payment                      0\n",
              "water_quality                0\n",
              "quality_group                0\n",
              "quantity                     0\n",
              "quantity_group               0\n",
              "source                       0\n",
              "source_type                  0\n",
              "source_class                 0\n",
              "waterpoint_type              0\n",
              "waterpoint_type_group        0\n",
              "year_recorded                0\n",
              "time_to_inspection           0\n",
              "dtype: int64"
            ]
          },
          "metadata": {
            "tags": []
          },
          "execution_count": 21
        }
      ]
    },
    {
      "cell_type": "code",
      "metadata": {
        "id": "mNlk-gkfQd2T",
        "colab_type": "code",
        "outputId": "fb87f886-50fb-4b24-c22d-f66a5c223be5",
        "colab": {
          "base_uri": "https://localhost:8080/",
          "height": 51
        }
      },
      "source": [
        "# WHat if I keep the zeroes in \"gps_height\"?\n",
        "\n",
        "def remove_zeroes2(X):\n",
        "  X = X.copy()\n",
        "  \n",
        "  X['latitude'] = X['latitude'].replace(-2e-08, 0)\n",
        "  \n",
        "  zeroes = ['longitude', 'latitude', 'population', 'construction_year']\n",
        "  for col in zeroes:\n",
        "    X[col] = X[col].replace(0, np.nan)\n",
        "  \n",
        "  return X\n",
        "\n",
        "def engineer_features2(X):\n",
        "  X = X.copy()\n",
        "  \n",
        "  X = remove_zeroes2(X)\n",
        "  X = datetime_features(X)\n",
        "  X = drop_redundant(X)\n",
        "  \n",
        "  return X\n",
        "\n",
        "X_train = engineer_features2(train).drop('status_group', axis=1)\n",
        "X_val = engineer_features2(val).drop('status_group', axis=1)\n",
        "\n",
        "pipeline = make_pipeline(\n",
        "    ce.OrdinalEncoder(),\n",
        "    SimpleImputer(strategy='median'),\n",
        "    RandomForestClassifier(n_estimators=100, random_state=100, n_jobs=-1)\n",
        ")\n",
        "\n",
        "pipeline.fit(X_train, y_train)\n",
        "print('Train Accuracy', pipeline.score(X_train, y_train))\n",
        "print('Validation Accuracy', pipeline.score(X_val, y_val))\n",
        "\n",
        "# Highest accuracy so far!"
      ],
      "execution_count": 22,
      "outputs": [
        {
          "output_type": "stream",
          "text": [
            "Train Accuracy 0.9999775533108867\n",
            "Validation Accuracy 0.8082154882154882\n"
          ],
          "name": "stdout"
        }
      ]
    },
    {
      "cell_type": "code",
      "metadata": {
        "id": "q7EA5oNcRDLg",
        "colab_type": "code",
        "colab": {}
      },
      "source": [
        "X_test = engineer_features2(test)\n",
        "\n",
        "y_pred = pd.DataFrame(pipeline.predict(X_test), columns=['status_group'])\n",
        "\n",
        "submission4 = pd.concat([test['id'], y_pred], axis=1)\n",
        "\n",
        "submission4.to_csv('water-submission-10.csv', index=None, header=True)\n",
        "\n",
        "# Accuracy on the test set went down..."
      ],
      "execution_count": 0,
      "outputs": []
    },
    {
      "cell_type": "code",
      "metadata": {
        "id": "cUlRk2kbRZyT",
        "colab_type": "code",
        "outputId": "479ae592-e663-42a0-c6a2-8fe59e4abf98",
        "colab": {
          "base_uri": "https://localhost:8080/",
          "height": 51
        }
      },
      "source": [
        "# What if I also replace the zeroes in amount_tsh?\n",
        "\n",
        "def remove_zeroes3(X):\n",
        "  X = X.copy()\n",
        "  \n",
        "  X['latitude'] = X['latitude'].replace(-2e-08, 0)\n",
        "  \n",
        "  zeroes = ['amount_tsh', 'gps_height', 'longitude', 'latitude', 'population', 'construction_year']\n",
        "  for col in zeroes:\n",
        "    X[col] = X[col].replace(0, np.nan)\n",
        "  \n",
        "  return X\n",
        "\n",
        "def engineer_features3(X):\n",
        "  X = X.copy()\n",
        "  \n",
        "  X = remove_zeroes3(X)\n",
        "  X = datetime_features(X)\n",
        "  X = drop_redundant(X)\n",
        "  \n",
        "  return X\n",
        "\n",
        "X_train = engineer_features3(train).drop('status_group', axis=1)\n",
        "X_val = engineer_features3(val).drop('status_group', axis=1)\n",
        "\n",
        "pipeline = make_pipeline(\n",
        "    ce.OrdinalEncoder(),\n",
        "    SimpleImputer(strategy='median'),\n",
        "    RandomForestClassifier(n_estimators=100, random_state=100, n_jobs=-1)\n",
        ")\n",
        "\n",
        "pipeline.fit(X_train, y_train)\n",
        "print('Train Accuracy', pipeline.score(X_train, y_train))\n",
        "print('Validation Accuracy', pipeline.score(X_val, y_val))"
      ],
      "execution_count": 24,
      "outputs": [
        {
          "output_type": "stream",
          "text": [
            "Train Accuracy 0.9999775533108867\n",
            "Validation Accuracy 0.8073400673400674\n"
          ],
          "name": "stdout"
        }
      ]
    },
    {
      "cell_type": "code",
      "metadata": {
        "id": "A-F6psngR1tn",
        "colab_type": "code",
        "colab": {}
      },
      "source": [
        "X_test = engineer_features3(test)\n",
        "\n",
        "y_pred = pd.DataFrame(pipeline.predict(X_test), columns=['status_group'])\n",
        "\n",
        "submission5 = pd.concat([test['id'], y_pred], axis=1)\n",
        "\n",
        "submission5.to_csv('water-submission-11.csv', index=None, header=True)\n",
        "\n",
        "# Lower..."
      ],
      "execution_count": 0,
      "outputs": []
    },
    {
      "cell_type": "code",
      "metadata": {
        "id": "I3-ye_vZSAvI",
        "colab_type": "code",
        "outputId": "04e06c90-3d96-454f-ecf5-3b9d8b6d6ad6",
        "colab": {
          "base_uri": "https://localhost:8080/",
          "height": 51
        }
      },
      "source": [
        "# \"Scheme name\" has a lot of NaNs. What if I drop it?\n",
        "\n",
        "def drop_redundant2(X):\n",
        "  X = X.copy()\n",
        "  \n",
        "  redundant_cols = ['scheme_name', 'recorded_by', 'payment_type', 'region_code', 'date_recorded', 'id']\n",
        "  \n",
        "  for col in redundant_cols:\n",
        "    X = X.drop(col, axis=1)\n",
        "    \n",
        "  return X\n",
        "\n",
        "def engineer_features4(X):\n",
        "  X = X.copy()\n",
        "  \n",
        "  X = remove_zeroes(X)\n",
        "  X = datetime_features(X)\n",
        "  X = drop_redundant2(X)\n",
        "  \n",
        "  return X\n",
        "\n",
        "X_train = engineer_features4(train).drop('status_group', axis=1)\n",
        "X_val = engineer_features4(val).drop('status_group', axis=1)\n",
        "\n",
        "pipeline = make_pipeline(\n",
        "    ce.OrdinalEncoder(),\n",
        "    SimpleImputer(strategy='median'),\n",
        "    RandomForestClassifier(n_estimators=100, random_state=100, n_jobs=-1)\n",
        ")\n",
        "\n",
        "pipeline.fit(X_train, y_train)\n",
        "print('Train Accuracy', pipeline.score(X_train, y_train))\n",
        "print('Validation Accuracy', pipeline.score(X_val, y_val))\n",
        "\n",
        "# Accuracy goes down..."
      ],
      "execution_count": 26,
      "outputs": [
        {
          "output_type": "stream",
          "text": [
            "Train Accuracy 0.9999775533108867\n",
            "Validation Accuracy 0.8047811447811448\n"
          ],
          "name": "stdout"
        }
      ]
    },
    {
      "cell_type": "code",
      "metadata": {
        "id": "pk6iKCobSs99",
        "colab_type": "code",
        "outputId": "9452f247-2b7c-4be2-88c7-2f8cc0ca3278",
        "colab": {
          "base_uri": "https://localhost:8080/",
          "height": 51
        }
      },
      "source": [
        "# What if I keep the zeroes in population?\n",
        "\n",
        "def remove_zeroes4(X):\n",
        "  X = X.copy()\n",
        "  \n",
        "  X['latitude'] = X['latitude'].replace(-2e-08, 0)\n",
        "  \n",
        "  zeroes = ['longitude', 'latitude', 'construction_year', 'gps_height']\n",
        "  for col in zeroes:\n",
        "    X[col] = X[col].replace(0, np.nan)\n",
        "  \n",
        "  return X\n",
        "\n",
        "def engineer_features5(X):\n",
        "  X = X.copy()\n",
        "  \n",
        "  X = remove_zeroes4(X)\n",
        "  X = datetime_features(X)\n",
        "  X = drop_redundant(X)\n",
        "  \n",
        "  return X\n",
        "\n",
        "X_train = engineer_features5(train).drop('status_group', axis=1)\n",
        "X_val = engineer_features5(val).drop('status_group', axis=1)\n",
        "\n",
        "pipeline = make_pipeline(\n",
        "    ce.OrdinalEncoder(),\n",
        "    SimpleImputer(strategy='median'),\n",
        "    RandomForestClassifier(n_estimators=100, random_state=100, n_jobs=-1)\n",
        ")\n",
        "\n",
        "pipeline.fit(X_train, y_train)\n",
        "print('Train Accuracy', pipeline.score(X_train, y_train))\n",
        "print('Validation Accuracy', pipeline.score(X_val, y_val))\n",
        "\n",
        "# Accuracy goes down, by a bit"
      ],
      "execution_count": 27,
      "outputs": [
        {
          "output_type": "stream",
          "text": [
            "Train Accuracy 0.9999775533108867\n",
            "Validation Accuracy 0.8073400673400674\n"
          ],
          "name": "stdout"
        }
      ]
    },
    {
      "cell_type": "code",
      "metadata": {
        "id": "js2W1gC0TN56",
        "colab_type": "code",
        "outputId": "e78df750-f08c-495f-9023-3a878db293dd",
        "colab": {
          "base_uri": "https://localhost:8080/",
          "height": 34
        }
      },
      "source": [
        "(X_train['gps_height'] < 0).sum()"
      ],
      "execution_count": 28,
      "outputs": [
        {
          "output_type": "execute_result",
          "data": {
            "text/plain": [
              "1120"
            ]
          },
          "metadata": {
            "tags": []
          },
          "execution_count": 28
        }
      ]
    },
    {
      "cell_type": "code",
      "metadata": {
        "id": "Ool1z9JkUIm3",
        "colab_type": "code",
        "outputId": "7f07d027-a191-4267-daef-8f8e99cd8bc7",
        "colab": {
          "base_uri": "https://localhost:8080/",
          "height": 51
        }
      },
      "source": [
        "# Let's try removing all negative numbers from gps_height too.\n",
        "\n",
        "def remove_zeroes5(X):\n",
        "  X = X.copy()\n",
        "  \n",
        "  X['latitude'] = X['latitude'].replace(-2e-08, 0)\n",
        "  \n",
        "  X['gps_height'] = X['gps_height'].replace([number for number in X['gps_height'].tolist() if number < 0], 0)\n",
        "  \n",
        "  zeroes = ['gps_height', 'longitude', 'latitude', 'population', 'construction_year']\n",
        "  for col in zeroes:\n",
        "    X[col] = X[col].replace(0, np.nan)\n",
        "  \n",
        "  return X\n",
        "\n",
        "def engineer_features6(X):\n",
        "  X = X.copy()\n",
        "  \n",
        "  X = remove_zeroes5(X)\n",
        "  X = datetime_features(X)\n",
        "  X = drop_redundant(X)\n",
        "  \n",
        "  return X\n",
        "\n",
        "X_train = engineer_features6(train).drop('status_group', axis=1)\n",
        "X_val = engineer_features6(val).drop('status_group', axis=1)\n",
        "\n",
        "pipeline = make_pipeline(\n",
        "    ce.OrdinalEncoder(),\n",
        "    SimpleImputer(strategy='median'),\n",
        "    RandomForestClassifier(n_estimators=100, random_state=100, n_jobs=-1)\n",
        ")\n",
        "\n",
        "pipeline.fit(X_train, y_train)\n",
        "print('Train Accuracy', pipeline.score(X_train, y_train))\n",
        "print('Validation Accuracy', pipeline.score(X_val, y_val))\n",
        "\n",
        "# Accuracy goes down"
      ],
      "execution_count": 29,
      "outputs": [
        {
          "output_type": "stream",
          "text": [
            "Train Accuracy 0.9999775533108867\n",
            "Validation Accuracy 0.807070707070707\n"
          ],
          "name": "stdout"
        }
      ]
    },
    {
      "cell_type": "code",
      "metadata": {
        "id": "RP5MMNsVUrt2",
        "colab_type": "code",
        "outputId": "6afde8a0-2f1a-41fe-f66d-3ad0df35a094",
        "colab": {
          "base_uri": "https://localhost:8080/",
          "height": 317
        }
      },
      "source": [
        "X_train.describe() # Confirms I successfully replaced the gps_height values"
      ],
      "execution_count": 30,
      "outputs": [
        {
          "output_type": "execute_result",
          "data": {
            "text/html": [
              "<div>\n",
              "<style scoped>\n",
              "    .dataframe tbody tr th:only-of-type {\n",
              "        vertical-align: middle;\n",
              "    }\n",
              "\n",
              "    .dataframe tbody tr th {\n",
              "        vertical-align: top;\n",
              "    }\n",
              "\n",
              "    .dataframe thead th {\n",
              "        text-align: right;\n",
              "    }\n",
              "</style>\n",
              "<table border=\"1\" class=\"dataframe\">\n",
              "  <thead>\n",
              "    <tr style=\"text-align: right;\">\n",
              "      <th></th>\n",
              "      <th>amount_tsh</th>\n",
              "      <th>gps_height</th>\n",
              "      <th>longitude</th>\n",
              "      <th>latitude</th>\n",
              "      <th>num_private</th>\n",
              "      <th>district_code</th>\n",
              "      <th>population</th>\n",
              "      <th>construction_year</th>\n",
              "      <th>year_recorded</th>\n",
              "      <th>time_to_inspection</th>\n",
              "    </tr>\n",
              "  </thead>\n",
              "  <tbody>\n",
              "    <tr>\n",
              "      <th>count</th>\n",
              "      <td>44550.000000</td>\n",
              "      <td>27984.000000</td>\n",
              "      <td>43171.000000</td>\n",
              "      <td>43171.000000</td>\n",
              "      <td>44550.000000</td>\n",
              "      <td>44550.000000</td>\n",
              "      <td>28427.00000</td>\n",
              "      <td>44550.000000</td>\n",
              "      <td>44550.000000</td>\n",
              "      <td>44550.000000</td>\n",
              "    </tr>\n",
              "    <tr>\n",
              "      <th>mean</th>\n",
              "      <td>320.565308</td>\n",
              "      <td>1057.969983</td>\n",
              "      <td>35.153192</td>\n",
              "      <td>-5.895653</td>\n",
              "      <td>0.473692</td>\n",
              "      <td>5.629001</td>\n",
              "      <td>282.31449</td>\n",
              "      <td>1996.885926</td>\n",
              "      <td>2011.920135</td>\n",
              "      <td>15.034209</td>\n",
              "    </tr>\n",
              "    <tr>\n",
              "      <th>std</th>\n",
              "      <td>3150.477970</td>\n",
              "      <td>588.756279</td>\n",
              "      <td>2.604573</td>\n",
              "      <td>2.812980</td>\n",
              "      <td>11.594878</td>\n",
              "      <td>9.650221</td>\n",
              "      <td>581.84945</td>\n",
              "      <td>10.058957</td>\n",
              "      <td>0.958777</td>\n",
              "      <td>10.095001</td>\n",
              "    </tr>\n",
              "    <tr>\n",
              "      <th>min</th>\n",
              "      <td>0.000000</td>\n",
              "      <td>1.000000</td>\n",
              "      <td>29.607201</td>\n",
              "      <td>-11.649440</td>\n",
              "      <td>0.000000</td>\n",
              "      <td>0.000000</td>\n",
              "      <td>1.00000</td>\n",
              "      <td>1960.000000</td>\n",
              "      <td>2002.000000</td>\n",
              "      <td>-7.000000</td>\n",
              "    </tr>\n",
              "    <tr>\n",
              "      <th>25%</th>\n",
              "      <td>0.000000</td>\n",
              "      <td>468.000000</td>\n",
              "      <td>33.284972</td>\n",
              "      <td>-8.662794</td>\n",
              "      <td>0.000000</td>\n",
              "      <td>2.000000</td>\n",
              "      <td>40.00000</td>\n",
              "      <td>1996.000000</td>\n",
              "      <td>2011.000000</td>\n",
              "      <td>8.000000</td>\n",
              "    </tr>\n",
              "    <tr>\n",
              "      <th>50%</th>\n",
              "      <td>0.000000</td>\n",
              "      <td>1193.000000</td>\n",
              "      <td>35.001336</td>\n",
              "      <td>-5.177179</td>\n",
              "      <td>0.000000</td>\n",
              "      <td>3.000000</td>\n",
              "      <td>150.00000</td>\n",
              "      <td>1997.000000</td>\n",
              "      <td>2012.000000</td>\n",
              "      <td>14.000000</td>\n",
              "    </tr>\n",
              "    <tr>\n",
              "      <th>75%</th>\n",
              "      <td>25.000000</td>\n",
              "      <td>1512.000000</td>\n",
              "      <td>37.237524</td>\n",
              "      <td>-3.375576</td>\n",
              "      <td>0.000000</td>\n",
              "      <td>5.000000</td>\n",
              "      <td>320.00000</td>\n",
              "      <td>2004.000000</td>\n",
              "      <td>2013.000000</td>\n",
              "      <td>16.000000</td>\n",
              "    </tr>\n",
              "    <tr>\n",
              "      <th>max</th>\n",
              "      <td>350000.000000</td>\n",
              "      <td>2628.000000</td>\n",
              "      <td>40.344301</td>\n",
              "      <td>-0.998464</td>\n",
              "      <td>1776.000000</td>\n",
              "      <td>80.000000</td>\n",
              "      <td>30500.00000</td>\n",
              "      <td>2013.000000</td>\n",
              "      <td>2013.000000</td>\n",
              "      <td>53.000000</td>\n",
              "    </tr>\n",
              "  </tbody>\n",
              "</table>\n",
              "</div>"
            ],
            "text/plain": [
              "          amount_tsh    gps_height  ...  year_recorded  time_to_inspection\n",
              "count   44550.000000  27984.000000  ...   44550.000000        44550.000000\n",
              "mean      320.565308   1057.969983  ...    2011.920135           15.034209\n",
              "std      3150.477970    588.756279  ...       0.958777           10.095001\n",
              "min         0.000000      1.000000  ...    2002.000000           -7.000000\n",
              "25%         0.000000    468.000000  ...    2011.000000            8.000000\n",
              "50%         0.000000   1193.000000  ...    2012.000000           14.000000\n",
              "75%        25.000000   1512.000000  ...    2013.000000           16.000000\n",
              "max    350000.000000   2628.000000  ...    2013.000000           53.000000\n",
              "\n",
              "[8 rows x 10 columns]"
            ]
          },
          "metadata": {
            "tags": []
          },
          "execution_count": 30
        }
      ]
    },
    {
      "cell_type": "code",
      "metadata": {
        "id": "8khLF8rAVoMo",
        "colab_type": "code",
        "colab": {}
      },
      "source": [
        "# Right now I'm at #2 on the leaderboard...would like to get #1, but can't think\n",
        "# of anything else to do right now. So I'll just submit to the repo."
      ],
      "execution_count": 0,
      "outputs": []
    }
  ]
}