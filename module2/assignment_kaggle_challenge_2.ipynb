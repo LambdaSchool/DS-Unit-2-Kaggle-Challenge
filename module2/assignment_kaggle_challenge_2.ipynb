{
 "cells": [
  {
   "cell_type": "markdown",
   "metadata": {
    "colab_type": "text",
    "id": "7IXUfiQ2UKj6"
   },
   "source": [
    "Lambda School Data Science, Unit 2: Predictive Modeling\n",
    "\n",
    "# Kaggle Challenge, Module 2\n",
    "\n",
    "## Assignment\n",
    "- [ ] Read [“Adopting a Hypothesis-Driven Workflow”](https://outline.com/5S5tsB), a blog post by a Lambda DS student about the Tanzania Waterpumps challenge.\n",
    "- [X] Continue to participate in our Kaggle challenge.\n",
    "- [X] Try Ordinal Encoding.\n",
    "- [X] Try a Random Forest Classifier.\n",
    "- [X] Submit your predictions to our Kaggle competition. (Go to our Kaggle InClass competition webpage. Use the blue **Submit Predictions** button to upload your CSV file. Or you can use the Kaggle API to submit your predictions.)\n",
    "- [X] Commit your notebook to your fork of the GitHub repo.\n",
    "\n",
    "## Stretch Goals\n",
    "\n",
    "### Doing\n",
    "- [ ] Add your own stretch goal(s) !\n",
    "- [ ] Do more exploratory data analysis, data cleaning, feature engineering, and feature selection.\n",
    "- [ ] Try other [categorical encodings](https://contrib.scikit-learn.org/categorical-encoding/).\n",
    "- [ ] Get and plot your feature importances.\n",
    "- [ ] Make visualizations and share on Slack.\n",
    "\n",
    "### Reading\n",
    "\n",
    "Top recommendations in _**bold italic:**_\n",
    "\n",
    "#### Decision Trees\n",
    "- A Visual Introduction to Machine Learning, [Part 1: A Decision Tree](http://www.r2d3.us/visual-intro-to-machine-learning-part-1/),  and _**[Part 2: Bias and Variance](http://www.r2d3.us/visual-intro-to-machine-learning-part-2/)**_\n",
    "- [Decision Trees: Advantages & Disadvantages](https://christophm.github.io/interpretable-ml-book/tree.html#advantages-2)\n",
    "- [How a Russian mathematician constructed a decision tree — by hand — to solve a medical problem](http://fastml.com/how-a-russian-mathematician-constructed-a-decision-tree-by-hand-to-solve-a-medical-problem/)\n",
    "- [How decision trees work](https://brohrer.github.io/how_decision_trees_work.html)\n",
    "- [Let’s Write a Decision Tree Classifier from Scratch](https://www.youtube.com/watch?v=LDRbO9a6XPU)\n",
    "\n",
    "#### Random Forests\n",
    "- [_An Introduction to Statistical Learning_](http://www-bcf.usc.edu/~gareth/ISL/), Chapter 8: Tree-Based Methods\n",
    "- [Coloring with Random Forests](http://structuringtheunstructured.blogspot.com/2017/11/coloring-with-random-forests.html)\n",
    "- _**[Random Forests for Complete Beginners: The definitive guide to Random Forests and Decision Trees](https://victorzhou.com/blog/intro-to-random-forests/)**_\n",
    "\n",
    "#### Categorical encoding for trees\n",
    "- [Are categorical variables getting lost in your random forests?](https://roamanalytics.com/2016/10/28/are-categorical-variables-getting-lost-in-your-random-forests/)\n",
    "- [Beyond One-Hot: An Exploration of Categorical Variables](http://www.willmcginnis.com/2015/11/29/beyond-one-hot-an-exploration-of-categorical-variables/)\n",
    "- _**[Categorical Features and Encoding in Decision Trees](https://medium.com/data-design/visiting-categorical-features-and-encoding-in-decision-trees-53400fa65931)**_\n",
    "- _**[Coursera — How to Win a Data Science Competition: Learn from Top Kagglers — Concept of mean encoding](https://www.coursera.org/lecture/competitive-data-science/concept-of-mean-encoding-b5Gxv)**_\n",
    "- [Mean (likelihood) encodings: a comprehensive study](https://www.kaggle.com/vprokopev/mean-likelihood-encodings-a-comprehensive-study)\n",
    "- [The Mechanics of Machine Learning, Chapter 6: Categorically Speaking](https://mlbook.explained.ai/catvars.html)\n",
    "\n",
    "#### Imposter Syndrome\n",
    "- [Effort Shock and Reward Shock (How The Karate Kid Ruined The Modern World)](http://www.tempobook.com/2014/07/09/effort-shock-and-reward-shock/)\n",
    "- [How to manage impostor syndrome in data science](https://towardsdatascience.com/how-to-manage-impostor-syndrome-in-data-science-ad814809f068)\n",
    "- [\"I am not a real data scientist\"](https://brohrer.github.io/imposter_syndrome.html)\n",
    "- _**[Imposter Syndrome in Data Science](https://caitlinhudon.com/2018/01/19/imposter-syndrome-in-data-science/)**_\n",
    "\n",
    "\n",
    "\n",
    "\n"
   ]
  },
  {
   "cell_type": "code",
   "execution_count": 1415,
   "metadata": {
    "colab": {},
    "colab_type": "code",
    "id": "QJBD4ruICm1m"
   },
   "outputs": [],
   "source": [
    "import pandas as pd\n",
    "from sklearn.model_selection import train_test_split\n",
    "\n",
    "# Merge train_features.csv & train_labels.csv\n",
    "train = pd.merge(pd.read_csv('../data/tanzania/train_features.csv'), \n",
    "                 pd.read_csv('../data/tanzania/train_labels.csv'))\n",
    "\n",
    "# Read test_features.csv & sample_submission.csv\n",
    "test = pd.read_csv('../data/tanzania/test_features.csv')\n",
    "sample_submission = pd.read_csv('../data/tanzania/sample_submission.csv')"
   ]
  },
  {
   "cell_type": "code",
   "execution_count": 1416,
   "metadata": {},
   "outputs": [],
   "source": [
    "### Select features, scikit-learn pipeline to encode categoricals, impute missing values, and fit a decision tree classifier.\n",
    "import category_encoders as ce\n",
    "from sklearn.experimental import enable_iterative_imputer\n",
    "from sklearn.impute import SimpleImputer, IterativeImputer\n",
    "from sklearn.linear_model import LogisticRegression\n",
    "from sklearn.ensemble import RandomForestClassifier, GradientBoostingClassifier\n",
    "from sklearn.pipeline import make_pipeline\n",
    "from sklearn.preprocessing import StandardScaler\n",
    "from sklearn.tree import DecisionTreeClassifier\n",
    "from sklearn.feature_selection import SelectKBest, chi2\n",
    "\n",
    "### Wrangle function\n",
    "def wrangle(df):\n",
    "    \"\"\"I heard you like docstrings\"\"\"\n",
    "    import numpy as np\n",
    "    \n",
    "    ### Easy stuff\n",
    "    # Copy the dataframe to itself so warnings can shsshshsh\n",
    "    df = df.copy()\n",
    "    # Thx for prelim work Ryan lol\n",
    "    df['latitude'] = df['latitude'].replace(-2e-08,0)\n",
    "    # Drop dupes\n",
    "    df = df.drop(columns=['quantity_group','scheme_management',\n",
    "                          'extraction_type_group','payment_type',\n",
    "                          'quality_group','waterpoint_type_group'])\n",
    "    \n",
    "    ### Replacing zeroes and such\n",
    "    noZeroes = ['longitude','latitude','date_recorded','subvillage',\n",
    "                'installer',\n",
    "               ## BELOW\n",
    "                'population','construction_year','gps_height']\n",
    "    for col in noZeroes:\n",
    "        df[col] = df[col].replace(0,np.nan)\n",
    "        df[col] = df[col].replace('0',np.nan)\n",
    "    \n",
    "    ### Feature creation\n",
    "    # Make a date a date, and a year a year, bless.\n",
    "    df['date_recorded'] = pd.to_datetime(df['date_recorded'],infer_datetime_format=True)\n",
    "    df['year_recorded'] = df['date_recorded'].dt.year\n",
    "    df['month_recorded'] = df['date_recorded'].dt.month\n",
    "    df['day_recorded'] = df['date_recorded'].dt.day\n",
    "    \n",
    "    # Make bad wells and good wells\n",
    "    '''df['good_well'] = ((df['water_quality'] == 'fluoride') | \n",
    "                       (df['water_quality'] == 'fluoride_abandoned') |\n",
    "                       (df['water_quality'] == 'soft') &\n",
    "                       (df['quantity'] == 'enough') | (df['quantity'] == 'seasonal'))\n",
    "    \n",
    "    df['bad_well'] = ((df['water_quality'] == 'milky') | (df['water_quality'] == 'salty') |\n",
    "                      (df['water_quality'] == 'salty abandoned') |\n",
    "                      (df['quantity'] == 'insufficient') | (df['quantity'] == 'dry'))\n",
    "    '''\n",
    "    # YEEHAW dataframe return\n",
    "    return df\n",
    "\n",
    "### Reduce cardinality function for training and validation dataframesdef reduceCard(df1,df2,col,amt):\n",
    "def reduceCard(df1,df2,col,amt):\n",
    "    df1[col] = df1[col].astype(str)\n",
    "    df2[col] = df2[col].astype(str)\n",
    "    listoftop = df1[col].value_counts()[:amt].index\n",
    "    df1.loc[~df1[col].isin(listoftop),col] = 'other'\n",
    "    df2.loc[~df2[col].isin(listoftop),col] = 'other'\n",
    "    return df1, df2\n",
    "\n",
    "### Logistic Regression w/ One-hot encoder\n",
    "lg = make_pipeline(\n",
    "    ce.OneHotEncoder(use_cat_names=True),\n",
    "    ## Imputer completes missing values\n",
    "    #SimpleImputer(),\n",
    "    IterativeImputer(),\n",
    "    ## Scaler scales to unit variance, removing the mean(?)\n",
    "    StandardScaler(),\n",
    "    LogisticRegression(solver='lbfgs',multi_class='auto',max_iter=1000)\n",
    ")\n",
    "\n",
    "### Decision trees w/ One-hot Encoder\n",
    "dt = make_pipeline(\n",
    "    ## One hot encode\n",
    "    ce.OneHotEncoder(use_cat_names=True),\n",
    "    #SimpleImputer(),\n",
    "    IterativeImputer(),\n",
    "    DecisionTreeClassifier(min_samples_leaf=25,random_state=42)\n",
    ")\n",
    "\n",
    "### Random Forest w/ Ordinal Encoder\n",
    "rf = make_pipeline(\n",
    "    ce.OrdinalEncoder(),\n",
    "    #ce.OneHotEncoder(use_cat_names=True),\n",
    "    #SimpleImputer(strategy='median'),\n",
    "    IterativeImputer(max_iter=55),\n",
    "    #SelectKBest(k=30),\n",
    "    # n_estimators is # of trees in forest\n",
    "    ## n_estimators=1020\n",
    "    RandomForestClassifier(n_estimators=1020,random_state=4,n_jobs=-1)\n",
    ")\n",
    "\n",
    "### Gradient Booster\n",
    "gb = make_pipeline(\n",
    "    ce.OrdinalEncoder(),\n",
    "    SimpleImputer(strategy='median'),\n",
    "    GradientBoostingClassifier()\n",
    ")"
   ]
  },
  {
   "cell_type": "code",
   "execution_count": 1417,
   "metadata": {},
   "outputs": [],
   "source": [
    "# Split data\n",
    "train, val = train_test_split(train, train_size=0.80, test_size=0.2,\n",
    "                              stratify=train['status_group'],random_state=42)"
   ]
  },
  {
   "cell_type": "code",
   "execution_count": 1418,
   "metadata": {},
   "outputs": [],
   "source": [
    "# Assign variables\n",
    "train = wrangle(train)\n",
    "val = wrangle(val)\n",
    "test = wrangle(test)"
   ]
  },
  {
   "cell_type": "code",
   "execution_count": 1419,
   "metadata": {},
   "outputs": [],
   "source": [
    "# Assign target -> 'status_group' & assign features\n",
    "target = 'status_group'\n",
    "\n",
    "# Numeric features\n",
    "rid_of = train.drop(columns=['status_group','id','date_recorded',\n",
    "                             'recorded_by','num_private','amount_tsh',\n",
    "                            #ALL BELOW\n",
    "                             ]).copy()\n",
    "num_features = rid_of.select_dtypes(include='number').columns.tolist()\n",
    "\n",
    "# Categorical features\n",
    "cat_features = rid_of.select_dtypes(exclude='number').columns.tolist()\n",
    "#'''\n",
    "bad_bois = ['funder','ward','wpt_name','scheme_name',\n",
    "            'subvillage','installer']\n",
    "for i in bad_bois:\n",
    "    ## 225\n",
    "    train, val = reduceCard(train, val, i, 225)\n",
    "#''';\n",
    "features = num_features + cat_features\n",
    "\n",
    "# Isolate columns from dataframes\n",
    "X_train, y_train = train[features], train[target]\n",
    "X_val, y_val = val[features], val[target]\n",
    "X_test = test[features]"
   ]
  },
  {
   "cell_type": "code",
   "execution_count": 1420,
   "metadata": {},
   "outputs": [
    {
     "data": {
      "text/plain": [
       "0.8105218855218855"
      ]
     },
     "execution_count": 1420,
     "metadata": {},
     "output_type": "execute_result"
    }
   ],
   "source": [
    "rf.fit(X_train,y_train)\n",
    "rf.score(X_val,y_val)"
   ]
  },
  {
   "cell_type": "code",
   "execution_count": 1421,
   "metadata": {},
   "outputs": [
    {
     "data": {
      "text/plain": [
       "47520"
      ]
     },
     "execution_count": 1421,
     "metadata": {},
     "output_type": "execute_result"
    }
   ],
   "source": [
    "pd.options.display.max_columns = 500\n",
    "\n",
    "train.source.count()"
   ]
  },
  {
   "cell_type": "code",
   "execution_count": 1422,
   "metadata": {},
   "outputs": [],
   "source": [
    "#'''\n",
    "# Put predict on this\n",
    "y_pred = rf.predict(X_test)\n",
    "\n",
    "# Write submission csv file\n",
    "submission = sample_submission.copy()\n",
    "submission['status_group'] = y_pred\n",
    "submission.to_csv('../../sub-01.csv', index=False)\n",
    "#''';"
   ]
  },
  {
   "cell_type": "code",
   "execution_count": 1423,
   "metadata": {},
   "outputs": [],
   "source": [
    "import matplotlib.pyplot as plt\n",
    "model = rf.named_steps['randomforestclassifier']"
   ]
  },
  {
   "cell_type": "code",
   "execution_count": 1424,
   "metadata": {},
   "outputs": [
    {
     "data": {
      "image/png": "[encoded data removed]",
      "text/plain": [
       "<Figure size 720x2160 with 1 Axes>"
      ]
     },
     "metadata": {
      "needs_background": "light"
     },
     "output_type": "display_data"
    }
   ],
   "source": [
    "encoder = rf.named_steps['ordinalencoder']\n",
    "encoded_columns = encoder.fit_transform(X_train).columns\n",
    "importances = pd.Series(model.feature_importances_, encoded_columns)\n",
    "plt.figure(figsize=(10,30))\n",
    "importances.sort_values().plot.barh(color='grey');"
   ]
  }
 ],
 "metadata": {
  "colab": {
   "collapsed_sections": [],
   "name": "assignment_kaggle_challenge_2.ipynb",
   "provenance": [],
   "version": "0.3.2"
  },
  "kernelspec": {
   "display_name": "Python 3",
   "language": "python",
   "name": "python3"
  },
  "language_info": {
   "codemirror_mode": {
    "name": "ipython",
    "version": 3
   },
   "file_extension": ".py",
   "mimetype": "text/x-python",
   "name": "python",
   "nbconvert_exporter": "python",
   "pygments_lexer": "ipython3",
   "version": "3.7.3"
  }
 },
 "nbformat": 4,
 "nbformat_minor": 4
}
