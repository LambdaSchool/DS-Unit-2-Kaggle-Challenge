{
 "cells": [
  {
   "cell_type": "markdown",
   "metadata": {
    "colab_type": "text",
    "id": "7IXUfiQ2UKj6"
   },
   "source": [
    "Lambda School Data Science, Unit 2: Predictive Modeling\n",
    "\n",
    "# Kaggle Challenge, Module 2\n",
    "\n",
    "## Assignment\n",
    "- [ ] Read [“Adopting a Hypothesis-Driven Workflow”](https://outline.com/5S5tsB), a blog post by a Lambda DS student about the Tanzania Waterpumps challenge.\n",
    "- [ ] Continue to participate in our Kaggle challenge.\n",
    "- [ ] Try Ordinal Encoding.\n",
    "- [ ] Try a Random Forest Classifier.\n",
    "- [ ] Submit your predictions to our Kaggle competition. (Go to our Kaggle InClass competition webpage. Use the blue **Submit Predictions** button to upload your CSV file. Or you can use the Kaggle API to submit your predictions.)\n",
    "- [ ] Commit your notebook to your fork of the GitHub repo.\n",
    "\n",
    "## Stretch Goals\n",
    "\n",
    "### Doing\n",
    "- [ ] Add your own stretch goal(s) !\n",
    "- [ ] Do more exploratory data analysis, data cleaning, feature engineering, and feature selection.\n",
    "- [ ] Try other [categorical encodings](https://contrib.scikit-learn.org/categorical-encoding/).\n",
    "- [ ] Get and plot your feature importances.\n",
    "- [ ] Make visualizations and share on Slack.\n",
    "\n",
    "### Reading\n",
    "\n",
    "Top recommendations in _**bold italic:**_\n",
    "\n",
    "#### Decision Trees\n",
    "- A Visual Introduction to Machine Learning, [Part 1: A Decision Tree](http://www.r2d3.us/visual-intro-to-machine-learning-part-1/),  and _**[Part 2: Bias and Variance](http://www.r2d3.us/visual-intro-to-machine-learning-part-2/)**_\n",
    "- [Decision Trees: Advantages & Disadvantages](https://christophm.github.io/interpretable-ml-book/tree.html#advantages-2)\n",
    "- [How a Russian mathematician constructed a decision tree — by hand — to solve a medical problem](http://fastml.com/how-a-russian-mathematician-constructed-a-decision-tree-by-hand-to-solve-a-medical-problem/)\n",
    "- [How decision trees work](https://brohrer.github.io/how_decision_trees_work.html)\n",
    "- [Let’s Write a Decision Tree Classifier from Scratch](https://www.youtube.com/watch?v=LDRbO9a6XPU)\n",
    "\n",
    "#### Random Forests\n",
    "- [_An Introduction to Statistical Learning_](http://www-bcf.usc.edu/~gareth/ISL/), Chapter 8: Tree-Based Methods\n",
    "- [Coloring with Random Forests](http://structuringtheunstructured.blogspot.com/2017/11/coloring-with-random-forests.html)\n",
    "- _**[Random Forests for Complete Beginners: The definitive guide to Random Forests and Decision Trees](https://victorzhou.com/blog/intro-to-random-forests/)**_\n",
    "\n",
    "#### Categorical encoding for trees\n",
    "- [Are categorical variables getting lost in your random forests?](https://roamanalytics.com/2016/10/28/are-categorical-variables-getting-lost-in-your-random-forests/)\n",
    "- [Beyond One-Hot: An Exploration of Categorical Variables](http://www.willmcginnis.com/2015/11/29/beyond-one-hot-an-exploration-of-categorical-variables/)\n",
    "- _**[Categorical Features and Encoding in Decision Trees](https://medium.com/data-design/visiting-categorical-features-and-encoding-in-decision-trees-53400fa65931)**_\n",
    "- _**[Coursera — How to Win a Data Science Competition: Learn from Top Kagglers — Concept of mean encoding](https://www.coursera.org/lecture/competitive-data-science/concept-of-mean-encoding-b5Gxv)**_\n",
    "- [Mean (likelihood) encodings: a comprehensive study](https://www.kaggle.com/vprokopev/mean-likelihood-encodings-a-comprehensive-study)\n",
    "- [The Mechanics of Machine Learning, Chapter 6: Categorically Speaking](https://mlbook.explained.ai/catvars.html)\n",
    "\n",
    "#### Imposter Syndrome\n",
    "- [Effort Shock and Reward Shock (How The Karate Kid Ruined The Modern World)](http://www.tempobook.com/2014/07/09/effort-shock-and-reward-shock/)\n",
    "- [How to manage impostor syndrome in data science](https://towardsdatascience.com/how-to-manage-impostor-syndrome-in-data-science-ad814809f068)\n",
    "- [\"I am not a real data scientist\"](https://brohrer.github.io/imposter_syndrome.html)\n",
    "- _**[Imposter Syndrome in Data Science](https://caitlinhudon.com/2018/01/19/imposter-syndrome-in-data-science/)**_\n",
    "\n",
    "\n",
    "\n",
    "\n"
   ]
  },
  {
   "cell_type": "markdown",
   "metadata": {},
   "source": [
    "### Setup\n",
    "\n",
    "You can work locally (follow the [local setup instructions](https://lambdaschool.github.io/ds/unit2/local/)) or on Colab (run the code cell below)."
   ]
  },
  {
   "cell_type": "code",
   "execution_count": 1,
   "metadata": {
    "colab": {},
    "colab_type": "code",
    "id": "o9eSnDYhUGD7"
   },
   "outputs": [],
   "source": [
    "import os, sys\n",
    "in_colab = 'google.colab' in sys.modules\n",
    "\n",
    "# If you're in Colab...\n",
    "if in_colab:\n",
    "    # Pull files from Github repo\n",
    "    os.chdir('/content')\n",
    "    !git init .\n",
    "    !git remote add origin https://github.com/LambdaSchool/DS-Unit-2-Kaggle-Challenge.git\n",
    "    !git pull origin master\n",
    "    \n",
    "    # Install required python packages\n",
    "    !pip install -r requirements.txt\n",
    "    \n",
    "    # Change into directory for module\n",
    "    os.chdir('module2')"
   ]
  },
  {
   "cell_type": "code",
   "execution_count": 2,
   "metadata": {
    "colab": {},
    "colab_type": "code",
    "id": "QJBD4ruICm1m"
   },
   "outputs": [
    {
     "data": {
      "text/plain": [
       "((59400, 41), (14358, 40))"
      ]
     },
     "execution_count": 2,
     "metadata": {},
     "output_type": "execute_result"
    }
   ],
   "source": [
    "import pandas as pd\n",
    "from sklearn.model_selection import train_test_split\n",
    "\n",
    "# Merge train_features.csv & train_labels.csv\n",
    "train = pd.merge(pd.read_csv('../data/waterpumps/train_features.csv'), \n",
    "                 pd.read_csv('../data/waterpumps/train_labels.csv'))\n",
    "\n",
    "# Read test_features.csv & sample_submission.csv\n",
    "test = pd.read_csv('../data/waterpumps/test_features.csv')\n",
    "sample_submission = pd.read_csv('../data/waterpumps/sample_submission.csv')\n",
    "train.shape, test.shape"
   ]
  },
  {
   "cell_type": "code",
   "execution_count": 3,
   "metadata": {},
   "outputs": [
    {
     "data": {
      "text/plain": [
       "((50490, 41), (8910, 41))"
      ]
     },
     "execution_count": 3,
     "metadata": {},
     "output_type": "execute_result"
    }
   ],
   "source": [
    "# Split the train dataframe into training and validation splits\n",
    "train, validation = train_test_split(train, test_size=0.15, random_state=42)\n",
    "train.shape, validation.shape"
   ]
  },
  {
   "cell_type": "code",
   "execution_count": 4,
   "metadata": {},
   "outputs": [],
   "source": [
    "# Need to bring my numbers game\n",
    "import numpy as np"
   ]
  },
  {
   "cell_type": "code",
   "execution_count": 5,
   "metadata": {},
   "outputs": [
    {
     "name": "stdout",
     "output_type": "stream",
     "text": [
      "Zeros located in id.\n",
      "Zeros located in amount_tsh.\n",
      "Zeros located in gps_height.\n",
      "Zeros located in longitude.\n",
      "Zeros located in num_private.\n",
      "Zeros located in district_code.\n",
      "Zeros located in population.\n",
      "Zeros located in public_meeting.\n",
      "Zeros located in permit.\n",
      "Zeros located in construction_year.\n"
     ]
    }
   ],
   "source": [
    "# Some exploration\n",
    "for column in train:\n",
    "    values = train[column].unique()\n",
    "    if 0 in values:\n",
    "        print(f\"Zeros located in {column}.\")\n",
    "    "
   ]
  },
  {
   "cell_type": "code",
   "execution_count": 6,
   "metadata": {},
   "outputs": [
    {
     "name": "stdout",
     "output_type": "stream",
     "text": [
      "Column: date_recorded\n",
      "Highest: 2011-07-20\n",
      "Occurs: 245 / 17543\n",
      "\n",
      "Column: funder\n",
      "Highest: Government Of Tanzania\n",
      "Occurs: 2277 / 17543\n",
      "\n",
      "Column: installer\n",
      "Highest: DWE\n",
      "Occurs: 5502 / 17543\n",
      "\n",
      "Column: wpt_name\n",
      "Highest: none\n",
      "Occurs: 455 / 17543\n",
      "\n",
      "Column: basin\n",
      "Highest: Lake Victoria\n",
      "Occurs: 6567 / 17543\n",
      "\n",
      "Column: subvillage\n",
      "Highest: Madukani\n",
      "Occurs: 169 / 17543\n",
      "\n",
      "Column: region\n",
      "Highest: Shinyanga\n",
      "Occurs: 4082 / 17543\n",
      "\n",
      "Column: lga\n",
      "Highest: Rungwe\n",
      "Occurs: 934 / 17543\n",
      "\n",
      "Column: ward\n",
      "Highest: Rujewa\n",
      "Occurs: 108 / 17543\n",
      "\n",
      "Column: public_meeting\n",
      "Highest: True\n",
      "Occurs: 1701 / 17543\n",
      "\n",
      "Column: recorded_by\n",
      "Highest: GeoData Consultants Ltd\n",
      "Occurs: 17543 / 17543\n",
      "\n",
      "Column: scheme_management\n",
      "Highest: VWC\n",
      "Occurs: 11651 / 17543\n",
      "\n",
      "Column: scheme_name\n",
      "Highest: None\n",
      "Occurs: 528 / 17543\n",
      "\n",
      "Column: permit\n",
      "Highest: True\n",
      "Occurs: 6042 / 17543\n",
      "\n",
      "Column: extraction_type\n",
      "Highest: gravity\n",
      "Occurs: 5743 / 17543\n",
      "\n",
      "Column: extraction_type_group\n",
      "Highest: gravity\n",
      "Occurs: 5743 / 17543\n",
      "\n",
      "Column: extraction_type_class\n",
      "Highest: handpump\n",
      "Occurs: 7267 / 17543\n",
      "\n",
      "Column: management\n",
      "Highest: vwc\n",
      "Occurs: 11922 / 17543\n",
      "\n",
      "Column: management_group\n",
      "Highest: user-group\n",
      "Occurs: 15970 / 17543\n",
      "\n",
      "Column: payment\n",
      "Highest: never pay\n",
      "Occurs: 9778 / 17543\n",
      "\n",
      "Column: payment_type\n",
      "Highest: never pay\n",
      "Occurs: 9778 / 17543\n",
      "\n",
      "Column: water_quality\n",
      "Highest: soft\n",
      "Occurs: 14682 / 17543\n",
      "\n",
      "Column: quality_group\n",
      "Highest: good\n",
      "Occurs: 14682 / 17543\n",
      "\n",
      "Column: quantity\n",
      "Highest: enough\n",
      "Occurs: 9207 / 17543\n",
      "\n",
      "Column: quantity_group\n",
      "Highest: enough\n",
      "Occurs: 9207 / 17543\n",
      "\n",
      "Column: source\n",
      "Highest: shallow well\n",
      "Occurs: 7677 / 17543\n",
      "\n",
      "Column: source_type\n",
      "Highest: shallow well\n",
      "Occurs: 7677 / 17543\n",
      "\n",
      "Column: source_class\n",
      "Highest: groundwater\n",
      "Occurs: 14510 / 17543\n",
      "\n",
      "Column: waterpoint_type\n",
      "Highest: hand pump\n",
      "Occurs: 7447 / 17543\n",
      "\n",
      "Column: waterpoint_type_group\n",
      "Highest: communal standpipe\n",
      "Occurs: 7557 / 17543\n",
      "\n",
      "Column: status_group\n",
      "Highest: functional\n",
      "Occurs: 8909 / 17543\n",
      "\n"
     ]
    }
   ],
   "source": [
    "# Find values that happen frequently when construction year is 0\n",
    "for cols in train.columns:\n",
    "    mask_con_year = train[train['construction_year']==0]\n",
    "    if mask_con_year[cols].dtype != 'object':\n",
    "        pass\n",
    "    else:\n",
    "        print('Column:', cols)\n",
    "        print('Highest:',mask_con_year[cols].mode()[0])\n",
    "        print('Occurs:',mask_con_year[cols].value_counts()[0],'/', mask_con_year[cols].shape[0])\n",
    "        print( )"
   ]
  },
  {
   "cell_type": "code",
   "execution_count": 7,
   "metadata": {},
   "outputs": [],
   "source": [
    "from statistics import mean, mode, stdev"
   ]
  },
  {
   "cell_type": "code",
   "execution_count": 8,
   "metadata": {},
   "outputs": [],
   "source": [
    "import matplotlib.pyplot as plt"
   ]
  },
  {
   "cell_type": "code",
   "execution_count": 9,
   "metadata": {},
   "outputs": [
    {
     "data": {
      "image/png": "[encoded data removed]",
      "text/plain": [
       "<Figure size 720x576 with 1 Axes>"
      ]
     },
     "metadata": {},
     "output_type": "display_data"
    },
    {
     "data": {
      "image/png": "[encoded data removed]",
      "text/plain": [
       "<Figure size 720x576 with 1 Axes>"
      ]
     },
     "metadata": {},
     "output_type": "display_data"
    }
   ],
   "source": [
    "# Visualize some of the relationships between construction year and other features\n",
    "plt.style.use('fivethirtyeight')\n",
    "\n",
    "# Groupby management\n",
    "group_management = train.groupby('construction_year')['management'].value_counts()\n",
    "plt.figure(facecolor='#ededed', figsize=(10,8))\n",
    "plt.title('Most common managments for 0 construction year. \\n')\n",
    "plt.bar(group_management[0].index[0:4], group_management[0:4], color='C4')\n",
    "plt.show()\n",
    "\n",
    "# Groupby installer\n",
    "group_installer = train.groupby('construction_year')['installer'].value_counts()\n",
    "plt.figure(facecolor='#ededed', figsize=(10,8))\n",
    "plt.title('Most common installer for 0 construction year. \\n')\n",
    "plt.bar(group_installer[0].index[0:4], group_installer[0:4], color='C1')\n",
    "plt.show()\n"
   ]
  },
  {
   "cell_type": "code",
   "execution_count": 10,
   "metadata": {},
   "outputs": [],
   "source": [
    "# Define function to wrangle my data\n",
    "def func_wrangle(X):\n",
    "    X = X.copy()\n",
    "    \n",
    "    # Set some conditions to fix 0 in numeric columns\n",
    "    X['latitude'] = X['latitude'].replace(-2e-08, 0)\n",
    "    \n",
    "    # Replace 0 with NaN\n",
    "    fill_zeros = ['longitude', 'latitude']\n",
    "    for column in fill_zeros:\n",
    "        X[column] = X[column].replace(0, np.nan)\n",
    "    \n",
    "    # Drop duplicate columns\n",
    "    X = X.drop(columns=['quality_group', 'source_type', 'source_class', 'quantity_group', 'payment_type', \n",
    "                        'extraction_type', 'extraction_type_group', 'waterpoint_type'])\n",
    "    \n",
    "    # Set numeric and Categorical columns\n",
    "    numbers = X.select_dtypes('number').columns\n",
    "    categorical_features = X.select_dtypes('object').columns\n",
    "    \n",
    "    # Check if categorical has nulls.\n",
    "    # Get nunique / Less encode\n",
    "    for column in categorical_features:\n",
    "        # If null values greater than 0\n",
    "        if X[column].isnull().sum() > 0:\n",
    "            # If number of unique options greater than 5\n",
    "            if X[column].nunique() > 5:\n",
    "                # Get 5 most frequent, impute Other for everything else\n",
    "                frequent = X[column].value_counts()[:5].index\n",
    "                X.loc[~X[column].isin(frequent), column] = 'Other'\n",
    "            # Less than 5, encode all possible values, Impute Other for everything else\n",
    "            else:\n",
    "                possible_values = X[column].unique()\n",
    "                X.loc[~X[column].isin(possible_values), column] = 'Other'\n",
    "        # If cardinality greater than 35 values\n",
    "        if X[column].nunique() > 35:\n",
    "            # Bring it down to 10\n",
    "            frequent = X[column].value_counts()[:10].index\n",
    "            X.loc[~X[column].isin(frequent), column] = 'Other'\n",
    "    \n",
    "    # Release the Krakken (again...)\n",
    "    return X"
   ]
  },
  {
   "cell_type": "code",
   "execution_count": 11,
   "metadata": {},
   "outputs": [],
   "source": [
    "# Wrangle the data splits\n",
    "train = func_wrangle(train)\n",
    "validation = func_wrangle(validation)"
   ]
  },
  {
   "cell_type": "code",
   "execution_count": 12,
   "metadata": {},
   "outputs": [
    {
     "name": "stdout",
     "output_type": "stream",
     "text": [
      "Fill zeros with 1997.\n"
     ]
    }
   ],
   "source": [
    "\n",
    "# Mask for only non-zero construction year observations. Set X and y\n",
    "con_X = train[train['construction_year']!=0]\n",
    "y_mod = con_X['construction_year']\n",
    "x_mod = con_X[['installer', 'management']]\n",
    "    \n",
    "# Import libraries\n",
    "from sklearn.linear_model import Ridge\n",
    "import category_encoders as ce\n",
    "from sklearn.pipeline import make_pipeline\n",
    "    \n",
    "# Set up pipeline\n",
    "con_pipe = make_pipeline(\n",
    "    ce.OneHotEncoder(use_cat_names=True),\n",
    "    Ridge(.1, solver='lsqr')\n",
    ")\n",
    "    \n",
    "# Train the model\n",
    "con_pipe.fit(x_mod, y_mod)\n",
    "\n",
    "mask = train[train['construction_year']==0]\n",
    "x_vals = mask[['installer','management']]\n",
    "predictions = [int(x) for x in con_pipe.predict(x_vals)]\n",
    "print(f\"Fill zeros with {mode(predictions)}.\")\n"
   ]
  },
  {
   "cell_type": "code",
   "execution_count": 13,
   "metadata": {},
   "outputs": [],
   "source": [
    "# Fill zeros with predicted best value\n",
    "def fill_con_zero(X):\n",
    "    X = X.copy()\n",
    "    feature = ['construction_year']\n",
    "    for col in feature:\n",
    "        X[col] = X[col].replace(0, 1997)\n",
    "    return X"
   ]
  },
  {
   "cell_type": "code",
   "execution_count": 14,
   "metadata": {},
   "outputs": [],
   "source": [
    "train = fill_con_zero(train)\n",
    "validation = fill_con_zero(validation)"
   ]
  },
  {
   "cell_type": "code",
   "execution_count": 15,
   "metadata": {},
   "outputs": [
    {
     "data": {
      "text/plain": [
       "((50490, 33), (8910, 33))"
      ]
     },
     "execution_count": 15,
     "metadata": {},
     "output_type": "execute_result"
    }
   ],
   "source": [
    "# See how the wrangle function has affected shape of my splits\n",
    "train.shape, validation.shape"
   ]
  },
  {
   "cell_type": "code",
   "execution_count": 16,
   "metadata": {},
   "outputs": [],
   "source": [
    "# I see the correct amount of dimensionality reduction\n",
    "# Diverge train and validation into feature and target matrix / vector\n",
    "# Set test matrix\n",
    "\n",
    "target = 'status_group'\n",
    "features = train.drop(columns=['id', target]).columns\n",
    "\n",
    "X_train = train[features]\n",
    "X_val = validation[features]\n",
    "y_train = train[target]\n",
    "y_val = validation[target]\n",
    "X_test = test[features]"
   ]
  },
  {
   "cell_type": "code",
   "execution_count": 17,
   "metadata": {},
   "outputs": [],
   "source": [
    "# Prepare the pipeline for modelling\n",
    "import category_encoders as ce\n",
    "from sklearn.impute import SimpleImputer\n",
    "from sklearn.ensemble import RandomForestClassifier\n",
    "from sklearn.pipeline import make_pipeline"
   ]
  },
  {
   "cell_type": "code",
   "execution_count": 45,
   "metadata": {},
   "outputs": [],
   "source": [
    "# Instantiate the pipeline\n",
    "model_pipeline = make_pipeline(\n",
    "    ce.ordinal.OrdinalEncoder(drop_invariant=True),\n",
    "    SimpleImputer(strategy='mean'),\n",
    "    RandomForestClassifier(n_estimators=100, bootstrap=True, n_jobs=-1, max_depth=22, random_state=42)\n",
    ")"
   ]
  },
  {
   "cell_type": "code",
   "execution_count": 46,
   "metadata": {},
   "outputs": [
    {
     "data": {
      "text/plain": [
       "Pipeline(memory=None,\n",
       "         steps=[('ordinalencoder',\n",
       "                 OrdinalEncoder(cols=['date_recorded', 'funder', 'installer',\n",
       "                                      'wpt_name', 'basin', 'subvillage',\n",
       "                                      'region', 'lga', 'ward', 'public_meeting',\n",
       "                                      'recorded_by', 'scheme_management',\n",
       "                                      'scheme_name', 'permit',\n",
       "                                      'extraction_type_class', 'management',\n",
       "                                      'management_group', 'payment',\n",
       "                                      'water_quality', 'quantity', 'source',\n",
       "                                      'waterpoint_type...\n",
       "                ('randomforestclassifier',\n",
       "                 RandomForestClassifier(bootstrap=True, class_weight=None,\n",
       "                                        criterion='gini', max_depth=22,\n",
       "                                        max_features='auto',\n",
       "                                        max_leaf_nodes=None,\n",
       "                                        min_impurity_decrease=0.0,\n",
       "                                        min_impurity_split=None,\n",
       "                                        min_samples_leaf=1, min_samples_split=2,\n",
       "                                        min_weight_fraction_leaf=0.0,\n",
       "                                        n_estimators=100, n_jobs=-1,\n",
       "                                        oob_score=False, random_state=42,\n",
       "                                        verbose=0, warm_start=False))],\n",
       "         verbose=False)"
      ]
     },
     "execution_count": 46,
     "metadata": {},
     "output_type": "execute_result"
    }
   ],
   "source": [
    "# Fit model\n",
    "model_pipeline.fit(X_train, y_train)"
   ]
  },
  {
   "cell_type": "code",
   "execution_count": 47,
   "metadata": {},
   "outputs": [
    {
     "data": {
      "text/plain": [
       "0.9605664488017429"
      ]
     },
     "execution_count": 47,
     "metadata": {},
     "output_type": "execute_result"
    }
   ],
   "source": [
    "# A tad overfit\n",
    "model_pipeline.score(X_train, y_train)"
   ]
  },
  {
   "cell_type": "code",
   "execution_count": 48,
   "metadata": {},
   "outputs": [
    {
     "data": {
      "text/plain": [
       "0.8129068462401796"
      ]
     },
     "execution_count": 48,
     "metadata": {},
     "output_type": "execute_result"
    }
   ],
   "source": [
    "# About where I would expect\n",
    "model_pipeline.score(X_val, y_val)"
   ]
  },
  {
   "cell_type": "code",
   "execution_count": 49,
   "metadata": {},
   "outputs": [],
   "source": [
    "# Put the training and validation sets together for final predictions\n",
    "Xt = pd.concat([X_train, X_val])\n",
    "yt = pd.concat([y_train, y_val])\n",
    "\n",
    "model_pipeline.score(Xt, yt)"
   ]
  },
  {
   "cell_type": "code",
   "execution_count": null,
   "metadata": {},
   "outputs": [],
   "source": [
    "# Set predictions to mysub.csv\n",
    "y_pred = model_pipeline.predict(X_test)\n",
    "sample_submission['status_group'] = y_pred\n",
    "sample_submission.to_csv('C:/Users/Administrator/Desktop/mysub.csv', index=False)\n"
   ]
  }
 ],
 "metadata": {
  "colab": {
   "collapsed_sections": [],
   "name": "assignment_kaggle_challenge_2.ipynb",
   "provenance": [],
   "version": "0.3.2"
  },
  "kernelspec": {
   "display_name": "Python 3",
   "language": "python",
   "name": "python3"
  },
  "language_info": {
   "codemirror_mode": {
    "name": "ipython",
    "version": 3
   },
   "file_extension": ".py",
   "mimetype": "text/x-python",
   "name": "python",
   "nbconvert_exporter": "python",
   "pygments_lexer": "ipython3",
   "version": "3.7.4"
  }
 },
 "nbformat": 4,
 "nbformat_minor": 1
}
