{
 "cells": [
  {
   "cell_type": "markdown",
   "metadata": {
    "colab_type": "text",
    "id": "7IXUfiQ2UKj6"
   },
   "source": [
    "Lambda School Data Science, Unit 2: Predictive Modeling\n",
    "\n",
    "# Kaggle Challenge, Module 2\n",
    "\n",
    "## Assignment\n",
    "- [ ] Read [“Adopting a Hypothesis-Driven Workflow”](https://outline.com/5S5tsB), a blog post by a Lambda DS student about the Tanzania Waterpumps challenge.\n",
    "- [ ] Continue to participate in our Kaggle challenge.\n",
    "- [ ] Try Ordinal Encoding.\n",
    "- [ ] Try a Random Forest Classifier.\n",
    "- [ ] Submit your predictions to our Kaggle competition. (Go to our Kaggle InClass competition webpage. Use the blue **Submit Predictions** button to upload your CSV file. Or you can use the Kaggle API to submit your predictions.)\n",
    "- [ ] Commit your notebook to your fork of the GitHub repo.\n",
    "\n",
    "## Stretch Goals\n",
    "\n",
    "### Doing\n",
    "- [ ] Add your own stretch goal(s) !\n",
    "- [ ] Do more exploratory data analysis, data cleaning, feature engineering, and feature selection.\n",
    "- [ ] Try other [categorical encodings](https://contrib.scikit-learn.org/categorical-encoding/).\n",
    "- [ ] Get and plot your feature importances.\n",
    "- [ ] Make visualizations and share on Slack.\n",
    "\n",
    "### Reading\n",
    "\n",
    "Top recommendations in _**bold italic:**_\n",
    "\n",
    "#### Decision Trees\n",
    "- A Visual Introduction to Machine Learning, [Part 1: A Decision Tree](http://www.r2d3.us/visual-intro-to-machine-learning-part-1/),  and _**[Part 2: Bias and Variance](http://www.r2d3.us/visual-intro-to-machine-learning-part-2/)**_\n",
    "- [Decision Trees: Advantages & Disadvantages](https://christophm.github.io/interpretable-ml-book/tree.html#advantages-2)\n",
    "- [How a Russian mathematician constructed a decision tree — by hand — to solve a medical problem](http://fastml.com/how-a-russian-mathematician-constructed-a-decision-tree-by-hand-to-solve-a-medical-problem/)\n",
    "- [How decision trees work](https://brohrer.github.io/how_decision_trees_work.html)\n",
    "- [Let’s Write a Decision Tree Classifier from Scratch](https://www.youtube.com/watch?v=LDRbO9a6XPU)\n",
    "\n",
    "#### Random Forests\n",
    "- [_An Introduction to Statistical Learning_](http://www-bcf.usc.edu/~gareth/ISL/), Chapter 8: Tree-Based Methods\n",
    "- [Coloring with Random Forests](http://structuringtheunstructured.blogspot.com/2017/11/coloring-with-random-forests.html)\n",
    "- _**[Random Forests for Complete Beginners: The definitive guide to Random Forests and Decision Trees](https://victorzhou.com/blog/intro-to-random-forests/)**_\n",
    "\n",
    "#### Categorical encoding for trees\n",
    "- [Are categorical variables getting lost in your random forests?](https://roamanalytics.com/2016/10/28/are-categorical-variables-getting-lost-in-your-random-forests/)\n",
    "- [Beyond One-Hot: An Exploration of Categorical Variables](http://www.willmcginnis.com/2015/11/29/beyond-one-hot-an-exploration-of-categorical-variables/)\n",
    "- _**[Categorical Features and Encoding in Decision Trees](https://medium.com/data-design/visiting-categorical-features-and-encoding-in-decision-trees-53400fa65931)**_\n",
    "- _**[Coursera — How to Win a Data Science Competition: Learn from Top Kagglers — Concept of mean encoding](https://www.coursera.org/lecture/competitive-data-science/concept-of-mean-encoding-b5Gxv)**_\n",
    "- [Mean (likelihood) encodings: a comprehensive study](https://www.kaggle.com/vprokopev/mean-likelihood-encodings-a-comprehensive-study)\n",
    "- [The Mechanics of Machine Learning, Chapter 6: Categorically Speaking](https://mlbook.explained.ai/catvars.html)\n",
    "\n",
    "#### Imposter Syndrome\n",
    "- [Effort Shock and Reward Shock (How The Karate Kid Ruined The Modern World)](http://www.tempobook.com/2014/07/09/effort-shock-and-reward-shock/)\n",
    "- [How to manage impostor syndrome in data science](https://towardsdatascience.com/how-to-manage-impostor-syndrome-in-data-science-ad814809f068)\n",
    "- [\"I am not a real data scientist\"](https://brohrer.github.io/imposter_syndrome.html)\n",
    "- _**[Imposter Syndrome in Data Science](https://caitlinhudon.com/2018/01/19/imposter-syndrome-in-data-science/)**_\n",
    "\n",
    "\n",
    "\n",
    "\n"
   ]
  },
  {
   "cell_type": "markdown",
   "metadata": {},
   "source": [
    "### Setup\n",
    "\n",
    "You can work locally (follow the [local setup instructions](https://lambdaschool.github.io/ds/unit2/local/)) or on Colab (run the code cell below)."
   ]
  },
  {
   "cell_type": "code",
   "execution_count": 1,
   "metadata": {
    "colab": {},
    "colab_type": "code",
    "id": "o9eSnDYhUGD7"
   },
   "outputs": [],
   "source": [
    "import os, sys\n",
    "in_colab = 'google.colab' in sys.modules\n",
    "\n",
    "# If you're in Colab...\n",
    "if in_colab:\n",
    "    # Pull files from Github repo\n",
    "    os.chdir('/content')\n",
    "    !git init .\n",
    "    !git remote add origin https://github.com/LambdaSchool/DS-Unit-2-Kaggle-Challenge.git\n",
    "    !git pull origin master\n",
    "    \n",
    "    # Install required python packages\n",
    "    !pip install -r requirements.txt\n",
    "    \n",
    "    # Change into directory for module\n",
    "    os.chdir('module2')"
   ]
  },
  {
   "cell_type": "code",
   "execution_count": 2,
   "metadata": {
    "colab": {},
    "colab_type": "code",
    "id": "QJBD4ruICm1m"
   },
   "outputs": [],
   "source": [
    "import pandas as pd\n",
    "from sklearn.model_selection import train_test_split\n",
    "\n",
    "# Merge train_features.csv & train_labels.csv\n",
    "train = pd.merge(pd.read_csv('../data/tanzania/train_features.csv'), \n",
    "                 pd.read_csv('../data/tanzania/train_labels.csv'))\n",
    "\n",
    "# Read test_features.csv & sample_submission.csv\n",
    "test = pd.read_csv('../data/tanzania/test_features.csv')\n",
    "sample_submission = pd.read_csv('../data/tanzania/sample_submission.csv')"
   ]
  },
  {
   "cell_type": "code",
   "execution_count": 3,
   "metadata": {},
   "outputs": [],
   "source": [
    "# import block\n",
    "pd.set_option('display.max_columns', None)\n",
    "import matplotlib.pyplot as plt\n",
    "%matplotlib inline\n",
    "import seaborn as sns\n",
    "plt.style.use('dark_background')\n",
    "import numpy as np\n",
    "from sklearn.model_selection import train_test_split\n",
    "from sklearn.tree import DecisionTreeClassifier\n",
    "from sklearn.ensemble import RandomForestClassifier\n",
    "from sklearn.pipeline import make_pipeline\n",
    "from sklearn.impute import SimpleImputer\n",
    "from sklearn.preprocessing import StandardScaler, MinMaxScaler\n",
    "from sklearn.metrics import accuracy_score\n",
    "import category_encoders as ce"
   ]
  },
  {
   "cell_type": "code",
   "execution_count": 4,
   "metadata": {},
   "outputs": [
    {
     "data": {
      "text/plain": [
       "((47520, 41), (11880, 41), (14358, 40))"
      ]
     },
     "execution_count": 4,
     "metadata": {},
     "output_type": "execute_result"
    }
   ],
   "source": [
    "# train validation split\n",
    "train, val = train_test_split(train, train_size=0.80, test_size=0.20, \n",
    "                              stratify=train['status_group'], random_state=42)\n",
    "\n",
    "train.shape, val.shape, test.shape"
   ]
  },
  {
   "cell_type": "code",
   "execution_count": 5,
   "metadata": {},
   "outputs": [],
   "source": [
    "# Cleaning/engineering function\n",
    "def wrangler(X):\n",
    "    \n",
    "    # Make a copy to avoid warning, prevent making changes from view.\n",
    "    X = X.copy()\n",
    "    \n",
    "    # Replace near-zero latitudes with zero\n",
    "    X['latitude'] = X['latitude'].replace(-2e-08, 0)\n",
    "    \n",
    "    # Replace near-zero longitudes with zero\n",
    "    X['longitude'] = X['longitude'].replace(-2e-08, 0)\n",
    "    \n",
    "    # Swap zeros with nulls\n",
    "    cols_with_zeros = ['longitude', 'latitude','construction_year']\n",
    "    for col in cols_with_zeros:\n",
    "        X[col] = X[col].replace(0, np.nan)\n",
    "    \n",
    "    # All the following are duplicate drops\n",
    "    # quantity & quantity_group are duplicates, so drop one\n",
    "    X = X.drop(columns='quantity_group')\n",
    "    \n",
    "    # extraction_type is a more specific version of extraction_type_group/class\n",
    "    X = X.drop(columns=['extraction_type_group','extraction_type_class'])\n",
    "    \n",
    "    # Same for management and management_group\n",
    "    X = X.drop(columns = 'management_group')\n",
    "    \n",
    "    # And payment / payment_type\n",
    "    X = X.drop(columns = 'payment')\n",
    "    \n",
    "    # And water_quality/quality_group\n",
    "    X = X.drop(columns = 'quality_group')\n",
    "    \n",
    "    # And water_quality/quality_group\n",
    "    X = X.drop(columns = 'waterpoint_type_group')\n",
    "    \n",
    "    # Feature creation\n",
    "    # create a 'distance from Dodoma' feature\n",
    "    X['dodomadistance'] = (((X['latitude']-(6.1630))**2)+((X['longitude']-(35.7516))**2))**0.5\n",
    "    \n",
    "    # create a pump age feature\n",
    "    X['pump_age'] = 2013 - X['construction_year']\n",
    "    \n",
    "    # create 'year_recorded' - year from date_recorded\n",
    "    X['year_recorded'] = pd.to_datetime(X.date_recorded).dt.year\n",
    "    \n",
    "    # create 'structspect_interval' - number of years between construction and date recorded\n",
    "    X['structspect_interval'] = X['year_recorded'] - X['construction_year']\n",
    "    \n",
    "    # return the wrangled dataframe\n",
    "    return X"
   ]
  },
  {
   "cell_type": "code",
   "execution_count": 6,
   "metadata": {},
   "outputs": [],
   "source": [
    "# Clean and engineer all datasets\n",
    "train = wrangler(train)\n",
    "val = wrangler(val)\n",
    "test = wrangler(test)"
   ]
  },
  {
   "cell_type": "code",
   "execution_count": 7,
   "metadata": {},
   "outputs": [],
   "source": [
    "# Define target\n",
    "target = 'status_group'\n",
    "\n",
    "# Frame without target and id\n",
    "train_features = train.drop(columns=[target, 'id'])\n",
    "\n",
    "# Get a list of the numeric features\n",
    "numeric_features = train_features.select_dtypes(include='number').columns.tolist()\n",
    "\n",
    "# Get a series with the number of unique classes for each categorical variable\n",
    "catswithcounts = train_features.select_dtypes(exclude='number').nunique()\n",
    "\n",
    "# set upper bound on class count\n",
    "categorical_features = catswithcounts[catswithcounts <= 100].index.tolist()\n",
    "\n",
    "# Combine the lists \n",
    "features = numeric_features + categorical_features\n",
    "\n",
    "# Arrange train/val/test data\n",
    "X_train = train[features]\n",
    "y_train = train[target]\n",
    "X_val = val[features]\n",
    "y_val = val[target]\n",
    "X_test = test[features]"
   ]
  },
  {
   "cell_type": "code",
   "execution_count": 8,
   "metadata": {},
   "outputs": [],
   "source": [
    "# Mapped version of targets for some encoders\n",
    "mapdict = {\n",
    "    'functional': 1,\n",
    "    'non functional': -1,\n",
    "    'functional needs repair': 0\n",
    "}\n",
    "y_train_mapped = y_train.map(mapdict)\n",
    "y_val_mapped = y_val.map(mapdict)"
   ]
  },
  {
   "cell_type": "code",
   "execution_count": 9,
   "metadata": {},
   "outputs": [],
   "source": [
    "# Make random forest pipeline\n",
    "\n",
    "thelorax = make_pipeline(\n",
    "    ce.OneHotEncoder(use_cat_names=True),\n",
    "    SimpleImputer(),\n",
    "    StandardScaler(),\n",
    "    RandomForestClassifier(n_estimators=16, random_state=42, n_jobs = -1)\n",
    ")"
   ]
  },
  {
   "cell_type": "code",
   "execution_count": 10,
   "metadata": {},
   "outputs": [
    {
     "name": "stdout",
     "output_type": "stream",
     "text": [
      "train accuracy:  0.9878998316498316\n",
      "validation accuracy:  0.7978114478114479\n"
     ]
    }
   ],
   "source": [
    "# fit it and score it\n",
    "thelorax.fit(X_train,y_train)\n",
    "print ('train accuracy: ', thelorax.score(X_train, y_train))\n",
    "print ('validation accuracy: ', thelorax.score(X_val, y_val))"
   ]
  },
  {
   "cell_type": "code",
   "execution_count": 11,
   "metadata": {},
   "outputs": [],
   "source": [
    "# Bump the number of estimators, use ordinal encoding\n",
    "\n",
    "thelorax = make_pipeline(\n",
    "    ce.OrdinalEncoder(),\n",
    "    SimpleImputer(),\n",
    "    StandardScaler(),\n",
    "    RandomForestClassifier(n_estimators=256, random_state=42, n_jobs = -1)\n",
    ")"
   ]
  },
  {
   "cell_type": "code",
   "execution_count": 12,
   "metadata": {},
   "outputs": [
    {
     "name": "stdout",
     "output_type": "stream",
     "text": [
      "train accuracy:  0.9959595959595959\n",
      "validation accuracy:  0.8026936026936027\n"
     ]
    }
   ],
   "source": [
    "# fit it and score it\n",
    "thelorax.fit(X_train,y_train)\n",
    "print ('train accuracy: ', thelorax.score(X_train, y_train))\n",
    "print ('validation accuracy: ', thelorax.score(X_val, y_val))"
   ]
  },
  {
   "cell_type": "code",
   "execution_count": 13,
   "metadata": {},
   "outputs": [],
   "source": [
    "# Use hyperparameters from last assignment\n",
    "\n",
    "thelorax = make_pipeline(\n",
    "    ce.OrdinalEncoder(),\n",
    "    SimpleImputer(),\n",
    "    StandardScaler(),\n",
    "    RandomForestClassifier(n_estimators=256, max_depth=28, min_samples_leaf=17, random_state=42, n_jobs = -1)\n",
    ")"
   ]
  },
  {
   "cell_type": "code",
   "execution_count": 14,
   "metadata": {},
   "outputs": [
    {
     "name": "stdout",
     "output_type": "stream",
     "text": [
      "train accuracy:  0.8100799663299664\n",
      "validation accuracy:  0.7859427609427609\n"
     ]
    }
   ],
   "source": [
    "# fit it and score it\n",
    "thelorax.fit(X_train,y_train)\n",
    "print ('train accuracy: ', thelorax.score(X_train, y_train))\n",
    "print ('validation accuracy: ', thelorax.score(X_val, y_val))"
   ]
  },
  {
   "cell_type": "code",
   "execution_count": 15,
   "metadata": {},
   "outputs": [
    {
     "name": "stdout",
     "output_type": "stream",
     "text": [
      "1\n",
      "train accuracy:  0.5671296296296297\n",
      "validation accuracy:  0.5692760942760943\n",
      "50\n",
      "train accuracy:  0.9231481481481482\n",
      "validation accuracy:  0.803030303030303\n",
      "100\n",
      "train accuracy:  0.9232112794612795\n",
      "validation accuracy:  0.803030303030303\n",
      "26\n",
      "train accuracy:  0.9197811447811448\n",
      "validation accuracy:  0.8056397306397306\n",
      "63\n",
      "train accuracy:  0.9231902356902357\n",
      "validation accuracy:  0.803030303030303\n",
      "100\n",
      "train accuracy:  0.9231902356902357\n",
      "validation accuracy:  0.803030303030303\n",
      "26\n",
      "train accuracy:  0.9198021885521885\n",
      "validation accuracy:  0.8056397306397306\n",
      "54\n",
      "train accuracy:  0.9231902356902357\n",
      "validation accuracy:  0.803030303030303\n",
      "82\n",
      "train accuracy:  0.9231691919191919\n",
      "validation accuracy:  0.803030303030303\n",
      "26\n",
      "train accuracy:  0.9197811447811448\n",
      "validation accuracy:  0.8056397306397306\n",
      "47\n",
      "train accuracy:  0.9232112794612795\n",
      "validation accuracy:  0.803030303030303\n",
      "68\n",
      "train accuracy:  0.9232112794612795\n",
      "validation accuracy:  0.803030303030303\n",
      "26\n",
      "train accuracy:  0.9197811447811448\n",
      "validation accuracy:  0.8057239057239057\n",
      "42\n",
      "train accuracy:  0.9231902356902357\n",
      "validation accuracy:  0.803030303030303\n",
      "58\n",
      "train accuracy:  0.9231902356902357\n",
      "validation accuracy:  0.803030303030303\n",
      "26\n",
      "train accuracy:  0.919760101010101\n",
      "validation accuracy:  0.8058080808080809\n",
      "38\n",
      "train accuracy:  0.9224116161616162\n",
      "validation accuracy:  0.801936026936027\n",
      "50\n",
      "train accuracy:  0.9231691919191919\n",
      "validation accuracy:  0.803030303030303\n",
      "26\n",
      "train accuracy:  0.9197811447811448\n",
      "validation accuracy:  0.8057239057239057\n",
      "35\n",
      "train accuracy:  0.9222011784511784\n",
      "validation accuracy:  0.8021885521885522\n",
      "44\n",
      "train accuracy:  0.9232112794612795\n",
      "validation accuracy:  0.8031144781144781\n",
      "26\n",
      "train accuracy:  0.9198021885521885\n",
      "validation accuracy:  0.8056397306397306\n",
      "33\n",
      "train accuracy:  0.9226851851851852\n",
      "validation accuracy:  0.8026936026936027\n",
      "40\n",
      "train accuracy:  0.9232112794612795\n",
      "validation accuracy:  0.803030303030303\n",
      "26\n",
      "train accuracy:  0.919760101010101\n",
      "validation accuracy:  0.8056397306397306\n",
      "31\n",
      "train accuracy:  0.9209385521885521\n",
      "validation accuracy:  0.8024410774410774\n",
      "36\n",
      "train accuracy:  0.9230429292929293\n",
      "validation accuracy:  0.8033670033670034\n",
      "26\n",
      "train accuracy:  0.919760101010101\n",
      "validation accuracy:  0.8057239057239057\n",
      "30\n",
      "train accuracy:  0.9209385521885521\n",
      "validation accuracy:  0.801936026936027\n",
      "34\n",
      "train accuracy:  0.9227272727272727\n",
      "validation accuracy:  0.8034511784511784\n",
      "26\n",
      "train accuracy:  0.9197811447811448\n",
      "validation accuracy:  0.8057239057239057\n",
      "29\n",
      "train accuracy:  0.921506734006734\n",
      "validation accuracy:  0.8053030303030303\n",
      "32\n",
      "train accuracy:  0.921422558922559\n",
      "validation accuracy:  0.8017676767676768\n",
      "26\n",
      "train accuracy:  0.9198021885521885\n",
      "validation accuracy:  0.8058080808080809\n",
      "28\n",
      "train accuracy:  0.9209385521885521\n",
      "validation accuracy:  0.8047138047138047\n",
      "30\n",
      "train accuracy:  0.9209806397306397\n",
      "validation accuracy:  0.8018518518518518\n",
      "26\n",
      "train accuracy:  0.9197811447811448\n",
      "validation accuracy:  0.8057239057239057\n",
      "28\n",
      "train accuracy:  0.9209385521885521\n",
      "validation accuracy:  0.8047138047138047\n",
      "29\n",
      "train accuracy:  0.921506734006734\n",
      "validation accuracy:  0.8053030303030303\n",
      "26\n",
      "train accuracy:  0.9197811447811448\n",
      "validation accuracy:  0.8057239057239057\n",
      "27\n",
      "train accuracy:  0.9203703703703704\n",
      "validation accuracy:  0.8056397306397306\n",
      "28\n",
      "train accuracy:  0.9209385521885521\n",
      "validation accuracy:  0.8047138047138047\n"
     ]
    }
   ],
   "source": [
    "# Tune hyperparameters\n",
    "# Grab my gradient descent code, use it for tree depth and leaf samples\n",
    "# tree length first\n",
    "\n",
    "treemin = 1\n",
    "treemax = 100\n",
    "bounddict = {\n",
    "    'lowbound': treemin,\n",
    "    'midbound': int(round((treemin+treemax)/2)),\n",
    "    'upbound': treemax\n",
    "}\n",
    "\n",
    "for i in range(1,15):\n",
    "    boundaccuracy={}\n",
    "    # Set the central value according to the bounds\n",
    "    bounddict['midbound'] = int(round((bounddict['lowbound']+bounddict['upbound'])/2))\n",
    "    for key,value in bounddict.items():\n",
    "        # Make decision tree pipeline with the bound we're testing\n",
    "\n",
    "        thelorax = make_pipeline(\n",
    "            ce.OrdinalEncoder(),\n",
    "            SimpleImputer(),\n",
    "            StandardScaler(),\n",
    "            RandomForestClassifier(n_estimators = 16,max_depth=value, min_samples_leaf=2, \n",
    "                                   random_state=42, n_jobs=-1)\n",
    "            )\n",
    "        \n",
    "        # Fit the model, score it\n",
    "        thelorax.fit(X_train,y_train)\n",
    "        print(value)\n",
    "        print ('train accuracy: ', thelorax.score(X_train, y_train))\n",
    "        print ('validation accuracy: ', thelorax.score(X_val, y_val))\n",
    "        \n",
    "        # Get the error for the value\n",
    "        boundaccuracy[key] = thelorax.score(X_val, y_val)\n",
    "    #Eliminate whichever extremal bound is worse\n",
    "    if boundaccuracy['lowbound'] < boundaccuracy['upbound']:\n",
    "        bounddict['lowbound'] = int(round((bounddict['midbound'] + bounddict['lowbound'])/2))\n",
    "    else:\n",
    "        bounddict['upbound'] = int(round((bounddict['midbound'] + bounddict['upbound'])/2))"
   ]
  },
  {
   "cell_type": "code",
   "execution_count": 33,
   "metadata": {},
   "outputs": [
    {
     "name": "stdout",
     "output_type": "stream",
     "text": [
      "train accuracy:  0.9203914141414141\n",
      "validation accuracy:  0.8055555555555556\n"
     ]
    }
   ],
   "source": [
    "# Checking accuracy\n",
    "\n",
    "thelorax2 = make_pipeline(\n",
    "    ce.OrdinalEncoder(),\n",
    "    SimpleImputer(),\n",
    "    StandardScaler(),\n",
    "    RandomForestClassifier(n_estimators=16,max_depth=27, min_samples_leaf=2, \n",
    "                           random_state=42, n_jobs = -1)\n",
    ")\n",
    "\n",
    "thelorax2.fit(X_train,y_train)\n",
    "print ('train accuracy: ', thelorax2.score(X_train, y_train))\n",
    "print ('validation accuracy: ', thelorax2.score(X_val, y_val))"
   ]
  },
  {
   "cell_type": "code",
   "execution_count": 17,
   "metadata": {},
   "outputs": [
    {
     "name": "stdout",
     "output_type": "stream",
     "text": [
      "1\n",
      "train accuracy:  0.9878998316498316\n",
      "validation accuracy:  0.7978114478114479\n",
      "50\n",
      "train accuracy:  0.7625631313131314\n",
      "validation accuracy:  0.7543771043771044\n",
      "100\n",
      "train accuracy:  0.742276936026936\n",
      "validation accuracy:  0.7362794612794613\n",
      "1\n",
      "train accuracy:  0.9878998316498316\n",
      "validation accuracy:  0.7978114478114479\n",
      "38\n",
      "train accuracy:  0.7728114478114478\n",
      "validation accuracy:  0.7650673400673401\n",
      "75\n",
      "train accuracy:  0.7514520202020202\n",
      "validation accuracy:  0.7455387205387205\n",
      "1\n",
      "train accuracy:  0.9878998316498316\n",
      "validation accuracy:  0.7978114478114479\n",
      "28\n",
      "train accuracy:  0.7770412457912458\n",
      "validation accuracy:  0.7666666666666667\n",
      "56\n",
      "train accuracy:  0.7611321548821549\n",
      "validation accuracy:  0.7548821548821549\n",
      "1\n",
      "train accuracy:  0.9878998316498316\n",
      "validation accuracy:  0.7978114478114479\n",
      "22\n",
      "train accuracy:  0.78621632996633\n",
      "validation accuracy:  0.7712121212121212\n",
      "42\n",
      "train accuracy:  0.7696338383838384\n",
      "validation accuracy:  0.7582491582491583\n",
      "1\n",
      "train accuracy:  0.9878998316498316\n",
      "validation accuracy:  0.7978114478114479\n",
      "16\n",
      "train accuracy:  0.794212962962963\n",
      "validation accuracy:  0.7758417508417509\n",
      "32\n",
      "train accuracy:  0.7759890572390572\n",
      "validation accuracy:  0.7641414141414141\n",
      "1\n",
      "train accuracy:  0.9878998316498316\n",
      "validation accuracy:  0.7978114478114479\n",
      "12\n",
      "train accuracy:  0.8013257575757575\n",
      "validation accuracy:  0.7815656565656566\n",
      "24\n",
      "train accuracy:  0.7842592592592592\n",
      "validation accuracy:  0.7718013468013468\n",
      "1\n",
      "train accuracy:  0.9878998316498316\n",
      "validation accuracy:  0.7978114478114479\n",
      "10\n",
      "train accuracy:  0.8076178451178451\n",
      "validation accuracy:  0.7805555555555556\n",
      "18\n",
      "train accuracy:  0.7887626262626263\n",
      "validation accuracy:  0.7712121212121212\n",
      "1\n",
      "train accuracy:  0.9878998316498316\n",
      "validation accuracy:  0.7978114478114479\n",
      "8\n",
      "train accuracy:  0.8174873737373738\n",
      "validation accuracy:  0.7860269360269361\n",
      "14\n",
      "train accuracy:  0.7986321548821549\n",
      "validation accuracy:  0.7788720538720538\n",
      "1\n",
      "train accuracy:  0.9878998316498316\n",
      "validation accuracy:  0.7978114478114479\n",
      "6\n",
      "train accuracy:  0.8268728956228957\n",
      "validation accuracy:  0.7930976430976431\n",
      "11\n",
      "train accuracy:  0.8046506734006734\n",
      "validation accuracy:  0.7790404040404041\n",
      "1\n",
      "train accuracy:  0.9878998316498316\n",
      "validation accuracy:  0.7978114478114479\n",
      "4\n",
      "train accuracy:  0.8460648148148148\n",
      "validation accuracy:  0.7971380471380471\n",
      "8\n",
      "train accuracy:  0.8174873737373738\n",
      "validation accuracy:  0.7860269360269361\n",
      "1\n",
      "train accuracy:  0.9878998316498316\n",
      "validation accuracy:  0.7978114478114479\n",
      "4\n",
      "train accuracy:  0.8460648148148148\n",
      "validation accuracy:  0.7971380471380471\n",
      "6\n",
      "train accuracy:  0.8268728956228957\n",
      "validation accuracy:  0.7930976430976431\n",
      "1\n",
      "train accuracy:  0.9878998316498316\n",
      "validation accuracy:  0.7978114478114479\n",
      "3\n",
      "train accuracy:  0.8601220538720539\n",
      "validation accuracy:  0.7984848484848485\n",
      "5\n",
      "train accuracy:  0.8356060606060606\n",
      "validation accuracy:  0.7930976430976431\n",
      "1\n",
      "train accuracy:  0.9878998316498316\n",
      "validation accuracy:  0.7978114478114479\n",
      "2\n",
      "train accuracy:  0.8924242424242425\n",
      "validation accuracy:  0.803030303030303\n",
      "4\n",
      "train accuracy:  0.8460648148148148\n",
      "validation accuracy:  0.7971380471380471\n",
      "1\n",
      "train accuracy:  0.9878998316498316\n",
      "validation accuracy:  0.7978114478114479\n",
      "2\n",
      "train accuracy:  0.8924242424242425\n",
      "validation accuracy:  0.803030303030303\n",
      "3\n",
      "train accuracy:  0.8601220538720539\n",
      "validation accuracy:  0.7984848484848485\n"
     ]
    }
   ],
   "source": [
    "# and leaves\n",
    "\n",
    "leafmin = 1\n",
    "leafmax = 100\n",
    "bounddict = {\n",
    "    'lowbound': leafmin,\n",
    "    'midbound': int(round((leafmin+leafmax)/2)),\n",
    "    'upbound': leafmax\n",
    "}\n",
    "\n",
    "for i in range(1,15):\n",
    "    boundaccuracy={}\n",
    "    # Set the central value according to the bounds\n",
    "    bounddict['midbound'] = int(round((bounddict['lowbound']+bounddict['upbound'])/2))\n",
    "    for key,value in bounddict.items():\n",
    "        # Make decision tree pipeline with the bound we're testing\n",
    "\n",
    "        thelorax = make_pipeline(\n",
    "            ce.OneHotEncoder(use_cat_names=True),\n",
    "            SimpleImputer(),\n",
    "            StandardScaler(),\n",
    "            RandomForestClassifier(n_estimators=16, max_depth=100, min_samples_leaf=value, \n",
    "                                   random_state=42, n_jobs=-1)\n",
    "            )\n",
    "        \n",
    "        # Fit the model, score it\n",
    "        thelorax.fit(X_train,y_train)\n",
    "        print(value)\n",
    "        print ('train accuracy: ', thelorax.score(X_train, y_train))\n",
    "        print ('validation accuracy: ', thelorax.score(X_val, y_val))\n",
    "        \n",
    "        # Get the error for the value\n",
    "        boundaccuracy[key] = thelorax.score(X_val, y_val)\n",
    "    #Eliminate whichever extremal bound is worse\n",
    "    if boundaccuracy['lowbound'] < boundaccuracy['upbound']:\n",
    "        bounddict['lowbound'] = int(round((bounddict['midbound'] + bounddict['lowbound'])/2))\n",
    "    else:\n",
    "        bounddict['upbound'] = int(round((bounddict['midbound'] + bounddict['upbound'])/2))"
   ]
  },
  {
   "cell_type": "code",
   "execution_count": 78,
   "metadata": {},
   "outputs": [
    {
     "name": "stdout",
     "output_type": "stream",
     "text": [
      "train accuracy:  0.92868265993266\n",
      "validation accuracy:  0.8124579124579124\n"
     ]
    }
   ],
   "source": [
    "# Checking accuracy\n",
    "\n",
    "thelorax2 = make_pipeline(\n",
    "    ce.OrdinalEncoder(),\n",
    "    SimpleImputer(),\n",
    "    StandardScaler(),\n",
    "    RandomForestClassifier(n_estimators=2049,max_depth=27, min_samples_leaf=2, \n",
    "                           random_state=42, n_jobs = -1,)\n",
    ")\n",
    "\n",
    "thelorax2.fit(X_train,y_train)\n",
    "print ('train accuracy: ', thelorax2.score(X_train, y_train))\n",
    "print ('validation accuracy: ', thelorax2.score(X_val, y_val))"
   ]
  },
  {
   "cell_type": "code",
   "execution_count": 79,
   "metadata": {
    "scrolled": true
   },
   "outputs": [
    {
     "data": {
      "text/plain": [
       "<matplotlib.axes._subplots.AxesSubplot at 0x1960008d888>"
      ]
     },
     "execution_count": 79,
     "metadata": {},
     "output_type": "execute_result"
    },
    {
     "data": {
      "image/png": "[encoded data removed]",
      "text/plain": [
       "<Figure size 576x1440 with 1 Axes>"
      ]
     },
     "metadata": {
      "needs_background": "dark"
     },
     "output_type": "display_data"
    }
   ],
   "source": [
    "# Examining feature importances\n",
    "model = thelorax2.named_steps['randomforestclassifier']\n",
    "encoder = thelorax2.named_steps['ordinalencoder']\n",
    "encoded_columns = encoder.transform(X_train).columns \n",
    "importances = pd.Series(model.feature_importances_, encoded_columns)\n",
    "importances.sort_values().plot.barh(color='grey', figsize = [8,20])"
   ]
  },
  {
   "cell_type": "code",
   "execution_count": 80,
   "metadata": {},
   "outputs": [],
   "source": [
    "topten = importances.sort_values(ascending = False).index.tolist()[:22]"
   ]
  },
  {
   "cell_type": "code",
   "execution_count": 81,
   "metadata": {},
   "outputs": [],
   "source": [
    "X_train_best = X_train[topten]\n",
    "X_val_best = X_val[topten]"
   ]
  },
  {
   "cell_type": "code",
   "execution_count": 82,
   "metadata": {},
   "outputs": [
    {
     "name": "stdout",
     "output_type": "stream",
     "text": [
      "train accuracy:  0.9284511784511784\n",
      "validation accuracy:  0.8112794612794613\n"
     ]
    }
   ],
   "source": [
    "# Checking accuracy\n",
    "\n",
    "thelorax2 = make_pipeline(\n",
    "    ce.OrdinalEncoder(),\n",
    "    SimpleImputer(strategy='median'),\n",
    "    StandardScaler(),\n",
    "    RandomForestClassifier(n_estimators=2049,max_depth=27, min_samples_leaf=2, \n",
    "                           random_state=42, n_jobs = -1)\n",
    ")\n",
    "\n",
    "thelorax2.fit(X_train,y_train)\n",
    "print ('train accuracy: ', thelorax2.score(X_train, y_train))\n",
    "print ('validation accuracy: ', thelorax2.score(X_val, y_val))"
   ]
  },
  {
   "cell_type": "code",
   "execution_count": 83,
   "metadata": {},
   "outputs": [],
   "source": [
    "# Predicting test data\n",
    "\n",
    "y_test_pred = thelorax2.predict(X_test)"
   ]
  },
  {
   "cell_type": "code",
   "execution_count": 84,
   "metadata": {},
   "outputs": [],
   "source": [
    "# Formatting submission\n",
    "submission = sample_submission.copy()\n",
    "submission['status_group'] = y_test_pred\n",
    "submission.to_csv('submission-04.csv', index = False)"
   ]
  },
  {
   "cell_type": "code",
   "execution_count": null,
   "metadata": {},
   "outputs": [],
   "source": []
  }
 ],
 "metadata": {
  "colab": {
   "collapsed_sections": [],
   "name": "assignment_kaggle_challenge_2.ipynb",
   "provenance": [],
   "version": "0.3.2"
  },
  "kernelspec": {
   "display_name": "Python 3",
   "language": "python",
   "name": "python3"
  },
  "language_info": {
   "codemirror_mode": {
    "name": "ipython",
    "version": 3
   },
   "file_extension": ".py",
   "mimetype": "text/x-python",
   "name": "python",
   "nbconvert_exporter": "python",
   "pygments_lexer": "ipython3",
   "version": "3.7.4"
  }
 },
 "nbformat": 4,
 "nbformat_minor": 1
}
