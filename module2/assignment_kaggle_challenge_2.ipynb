{
  "nbformat": 4,
  "nbformat_minor": 0,
  "metadata": {
    "colab": {
      "name": "assignment_kaggle_challenge_2.ipynb",
      "version": "0.3.2",
      "provenance": [],
      "collapsed_sections": [],
      "include_colab_link": true
    },
    "kernelspec": {
      "display_name": "Python 3",
      "language": "python",
      "name": "python3"
    },
    "language_info": {
      "codemirror_mode": {
        "name": "ipython",
        "version": 3
      },
      "file_extension": ".py",
      "mimetype": "text/x-python",
      "name": "python",
      "nbconvert_exporter": "python",
      "pygments_lexer": "ipython3",
      "version": "3.7.3"
    }
  },
  "cells": [
    {
      "cell_type": "markdown",
      "metadata": {
        "id": "view-in-github",
        "colab_type": "text"
      },
      "source": [
        "<a href=\"https://colab.research.google.com/github/ezorigo/DS-Unit-2-Kaggle-Challenge/blob/master/module2/assignment_kaggle_challenge_2.ipynb\" target=\"_parent\"><img src=\"https://colab.research.google.com/assets/colab-badge.svg\" alt=\"Open In Colab\"/></a>"
      ]
    },
    {
      "cell_type": "markdown",
      "metadata": {
        "colab_type": "text",
        "id": "7IXUfiQ2UKj6"
      },
      "source": [
        "Lambda School Data Science, Unit 2: Predictive Modeling\n",
        "\n",
        "# Kaggle Challenge, Module 2\n",
        "\n",
        "## Assignment\n",
        "- [ ] Read [“Adopting a Hypothesis-Driven Workflow”](https://outline.com/5S5tsB), a blog post by a Lambda DS student about the Tanzania Waterpumps challenge.\n",
        "- [ ] Continue to participate in our Kaggle challenge.\n",
        "- [ ] Try Ordinal Encoding.\n",
        "- [ ] Try a Random Forest Classifier.\n",
        "- [ ] Submit your predictions to our Kaggle competition. (Go to our Kaggle InClass competition webpage. Use the blue **Submit Predictions** button to upload your CSV file. Or you can use the Kaggle API to submit your predictions.)\n",
        "- [ ] Commit your notebook to your fork of the GitHub repo.\n",
        "\n",
        "## Stretch Goals\n",
        "\n",
        "### Doing\n",
        "- [ ] Add your own stretch goal(s) !\n",
        "- [ ] Do more exploratory data analysis, data cleaning, feature engineering, and feature selection.\n",
        "- [ ] Try other [categorical encodings](https://contrib.scikit-learn.org/categorical-encoding/).\n",
        "- [ ] Get and plot your feature importances.\n",
        "- [ ] Make visualizations and share on Slack.\n",
        "\n",
        "### Reading\n",
        "\n",
        "Top recommendations in _**bold italic:**_\n",
        "\n",
        "#### Decision Trees\n",
        "- A Visual Introduction to Machine Learning, [Part 1: A Decision Tree](http://www.r2d3.us/visual-intro-to-machine-learning-part-1/),  and _**[Part 2: Bias and Variance](http://www.r2d3.us/visual-intro-to-machine-learning-part-2/)**_\n",
        "- [Decision Trees: Advantages & Disadvantages](https://christophm.github.io/interpretable-ml-book/tree.html#advantages-2)\n",
        "- [How a Russian mathematician constructed a decision tree — by hand — to solve a medical problem](http://fastml.com/how-a-russian-mathematician-constructed-a-decision-tree-by-hand-to-solve-a-medical-problem/)\n",
        "- [How decision trees work](https://brohrer.github.io/how_decision_trees_work.html)\n",
        "- [Let’s Write a Decision Tree Classifier from Scratch](https://www.youtube.com/watch?v=LDRbO9a6XPU)\n",
        "\n",
        "#### Random Forests\n",
        "- [_An Introduction to Statistical Learning_](http://www-bcf.usc.edu/~gareth/ISL/), Chapter 8: Tree-Based Methods\n",
        "- [Coloring with Random Forests](http://structuringtheunstructured.blogspot.com/2017/11/coloring-with-random-forests.html)\n",
        "- _**[Random Forests for Complete Beginners: The definitive guide to Random Forests and Decision Trees](https://victorzhou.com/blog/intro-to-random-forests/)**_\n",
        "\n",
        "#### Categorical encoding for trees\n",
        "- [Are categorical variables getting lost in your random forests?](https://roamanalytics.com/2016/10/28/are-categorical-variables-getting-lost-in-your-random-forests/)\n",
        "- [Beyond One-Hot: An Exploration of Categorical Variables](http://www.willmcginnis.com/2015/11/29/beyond-one-hot-an-exploration-of-categorical-variables/)\n",
        "- _**[Categorical Features and Encoding in Decision Trees](https://medium.com/data-design/visiting-categorical-features-and-encoding-in-decision-trees-53400fa65931)**_\n",
        "- _**[Coursera — How to Win a Data Science Competition: Learn from Top Kagglers — Concept of mean encoding](https://www.coursera.org/lecture/competitive-data-science/concept-of-mean-encoding-b5Gxv)**_\n",
        "- [Mean (likelihood) encodings: a comprehensive study](https://www.kaggle.com/vprokopev/mean-likelihood-encodings-a-comprehensive-study)\n",
        "- [The Mechanics of Machine Learning, Chapter 6: Categorically Speaking](https://mlbook.explained.ai/catvars.html)\n",
        "\n",
        "#### Imposter Syndrome\n",
        "- [Effort Shock and Reward Shock (How The Karate Kid Ruined The Modern World)](http://www.tempobook.com/2014/07/09/effort-shock-and-reward-shock/)\n",
        "- [How to manage impostor syndrome in data science](https://towardsdatascience.com/how-to-manage-impostor-syndrome-in-data-science-ad814809f068)\n",
        "- [\"I am not a real data scientist\"](https://brohrer.github.io/imposter_syndrome.html)\n",
        "- _**[Imposter Syndrome in Data Science](https://caitlinhudon.com/2018/01/19/imposter-syndrome-in-data-science/)**_\n",
        "\n",
        "\n",
        "\n",
        "\n"
      ]
    },
    {
      "cell_type": "markdown",
      "metadata": {
        "id": "61q5xNLM8gfl",
        "colab_type": "text"
      },
      "source": [
        "### Setup\n",
        "\n",
        "You can work locally (follow the [local setup instructions](https://lambdaschool.github.io/ds/unit2/local/)) or on Colab (run the code cell below)."
      ]
    },
    {
      "cell_type": "code",
      "metadata": {
        "colab_type": "code",
        "id": "o9eSnDYhUGD7",
        "colab": {}
      },
      "source": [
        "import os, sys\n",
        "in_colab = 'google.colab' in sys.modules\n",
        "\n",
        "# If you're in Colab...\n",
        "if in_colab:\n",
        "    # Pull files from Github repo\n",
        "    os.chdir('/content')\n",
        "    !git init .\n",
        "    !git remote add origin https://github.com/LambdaSchool/DS-Unit-2-Kaggle-Challenge.git\n",
        "    !git pull origin master\n",
        "    \n",
        "    # Install required python packages\n",
        "    !pip install -r requirements.txt\n",
        "    \n",
        "    # Change into directory for module\n",
        "    os.chdir('module2')"
      ],
      "execution_count": 0,
      "outputs": []
    },
    {
      "cell_type": "code",
      "metadata": {
        "colab_type": "code",
        "id": "QJBD4ruICm1m",
        "colab": {}
      },
      "source": [
        "import pandas as pd\n",
        "import numpy as np\n",
        "from sklearn.model_selection import train_test_split\n",
        "\n",
        "# Merge train_features.csv & train_labels.csv\n",
        "train = pd.merge(pd.read_csv('../data/tanzania/train_features.csv'), \n",
        "                 pd.read_csv('../data/tanzania/train_labels.csv'))\n",
        "\n",
        "# Read test_features.csv & sample_submission.csv\n",
        "test = pd.read_csv('../data/tanzania/test_features.csv')\n",
        "sample_submission = pd.read_csv('../data/tanzania/sample_submission.csv')\n",
        "\n",
        "# train/ validation split\n",
        "train, val = train_test_split(train,\n",
        "                              test_size=0.25,\n",
        "                              stratify=train['status_group'], \n",
        "                              random_state=0)\n",
        "\n",
        "# data wrangling\n",
        "\n",
        "def wrangle(x):\n",
        "  \"\"\"wrangle trian, val, and test sets in the same way\"\"\"\n",
        "  \n",
        "#   make copy\n",
        "  x = x.copy()\n",
        "  \n",
        "#   replace outliers with 0\n",
        "  x['latitude'] = x['latitude'].replace(-2e-08, 0)\n",
        "  \n",
        "#   replace 0's with np.nan\n",
        "  cols_with_zeros = ['longitude', 'latitude', 'amount_tsh', 'construction_year', 'gps_height', 'population']\n",
        "  for col in cols_with_zeros:\n",
        "    x[col] = x[col].replace(0, np.nan)\n",
        "    x[col+'_missing'] = x[col].isna()\n",
        "    \n",
        "#   drop duplicate\n",
        "  x = x.drop(columns=['quantity_group', 'payment_type'])\n",
        "  \n",
        "#   to_datetime\n",
        "  x['date_recorded'] = pd.to_datetime(x['date_recorded'], infer_datetime_format=True)\n",
        "  \n",
        "#   extract components\n",
        "  x['year_recorded'] = x['date_recorded'].dt.year\n",
        "  x['month_recorded'] = x['date_recorded'].dt.month\n",
        "  x['day_recorded'] = x['date_recorded'].dt.day\n",
        "  \n",
        "  x = x.drop(columns='date_recorded')\n",
        "\n",
        "#   Engineer feature: how many years from construction_year to date_recorded\n",
        "  x['years'] = x['year_recorded'] - x['construction_year']\n",
        "  x['years_MISSING'] = x['years'].isna()\n",
        "    \n",
        "#   drop recorded_by and id \n",
        "  x = x.drop(columns=['recorded_by', 'id'])\n",
        "  \n",
        "  return x\n",
        "\n",
        "# apply wrangle() to all sets\n",
        "train = wrangle(train)\n",
        "val = wrangle(val)\n",
        "test = wrangle(test)\n",
        "\n",
        "# features matrix and target vector\n",
        "target = 'status_group'\n",
        "\n",
        "x_train = train.drop(columns=target)\n",
        "y_train = train[target]\n",
        "\n",
        "x_val = val.drop(columns=target)\n",
        "y_val = val[target]\n",
        "\n",
        "x_test = test"
      ],
      "execution_count": 0,
      "outputs": []
    },
    {
      "cell_type": "code",
      "metadata": {
        "id": "-HWfbdWT-BJ_",
        "colab_type": "code",
        "colab": {
          "base_uri": "https://localhost:8080/",
          "height": 85
        },
        "outputId": "fb3cf4fe-fb46-4cf5-8299-8c80cabd6e80"
      },
      "source": [
        "%%time\n",
        "\n",
        "import category_encoders as ce\n",
        "from sklearn.ensemble import RandomForestClassifier\n",
        "from sklearn.impute import SimpleImputer\n",
        "from sklearn.pipeline import make_pipeline\n",
        "\n",
        "pipeline = make_pipeline(\n",
        "    ce.OrdinalEncoder(), \n",
        "    SimpleImputer(strategy='median'), \n",
        "    RandomForestClassifier(n_estimators=100,\n",
        "                           random_state=0,\n",
        "                           min_samples_split=8,\n",
        "                           max_features='auto',\n",
        "                           max_depth=None,\n",
        "                           n_jobs=-1\n",
        "    )\n",
        ")\n",
        "\n",
        "# Fit on train, score on val\n",
        "pipeline.fit(x_train, y_train)\n",
        "\n",
        "# y_pred\n",
        "\n",
        "y_pred = pipeline.predict(x_test)\n",
        "\n",
        "# print scores\n",
        "print('Train Accuracy', pipeline.score(x_train, y_train))\n",
        "print('Validation Accuracy', pipeline.score(x_val, y_val))\n"
      ],
      "execution_count": 7,
      "outputs": [
        {
          "output_type": "stream",
          "text": [
            "Train Accuracy 0.9359820426487093\n",
            "Validation Accuracy 0.8172390572390572\n",
            "CPU times: user 25.1 s, sys: 373 ms, total: 25.5 s\n",
            "Wall time: 14.7 s\n"
          ],
          "name": "stdout"
        }
      ]
    },
    {
      "cell_type": "code",
      "metadata": {
        "id": "r4dAZsJ_NSfo",
        "colab_type": "code",
        "colab": {}
      },
      "source": [
        "# most_frequent, 8 = .816835\n",
        "# median, 8 = .817239\n",
        "# mean, 9, 36 = .817979"
      ],
      "execution_count": 0,
      "outputs": []
    },
    {
      "cell_type": "code",
      "metadata": {
        "id": "07G_h11F4IeU",
        "colab_type": "code",
        "colab": {
          "base_uri": "https://localhost:8080/",
          "height": 85
        },
        "outputId": "c66bb190-c559-4d7b-c007-96e6429d04a8"
      },
      "source": [
        "%%time\n",
        "\n",
        "pipeline = make_pipeline(\n",
        "    ce.OrdinalEncoder(), \n",
        "    SimpleImputer(strategy='median'), \n",
        "    RandomForestClassifier(n_estimators=100,\n",
        "                           random_state=0,\n",
        "                           min_samples_split=4,\n",
        "                           min_samples_leaf=1,\n",
        "                           max_features=1,\n",
        "                           bootstrap=True ,\n",
        "                           class_weight=None,\n",
        "                           max_depth=None,\n",
        "                           n_jobs=-1\n",
        "    )\n",
        ")\n",
        "\n",
        "# Fit on train, score on val\n",
        "pipeline.fit(x_train, y_train)\n",
        "\n",
        "# print scores\n",
        "print('Train Accuracy', pipeline.score(x_train, y_train))\n",
        "print('Validation Accuracy', pipeline.score(x_val, y_val))"
      ],
      "execution_count": 54,
      "outputs": [
        {
          "output_type": "stream",
          "text": [
            "Train Accuracy 0.9739169472502806\n",
            "Validation Accuracy 0.8024242424242424\n",
            "CPU times: user 11 s, sys: 110 ms, total: 11.1 s\n",
            "Wall time: 6.63 s\n"
          ],
          "name": "stdout"
        }
      ]
    },
    {
      "cell_type": "code",
      "metadata": {
        "id": "oeE2DKR8Ydcw",
        "colab_type": "code",
        "colab": {
          "base_uri": "https://localhost:8080/",
          "height": 71
        },
        "outputId": "adc22570-fdb8-49ba-e5ab-d52313b611b3"
      },
      "source": [
        "from sklearn.linear_model import LogisticRegressionCV\n",
        "\n",
        "pipeline = make_pipeline(\n",
        "    ce.HashingEncoder(), \n",
        "    SimpleImputer(strategy='median'), \n",
        "    LogisticRegressionCV(multi_class='multinomial',\n",
        "                         solver='newton-cg',\n",
        "                         n_jobs=-1,\n",
        "                         random_state=0\n",
        "    )\n",
        ")\n",
        "\n",
        "# Fit on train, score on val\n",
        "pipeline.fit(x_train, y_train)\n",
        "\n",
        "# print scores\n",
        "print('Train Accuracy', pipeline.score(x_train, y_train))\n",
        "print('Validation Accuracy', pipeline.score(x_val, y_val))"
      ],
      "execution_count": 0,
      "outputs": [
        {
          "output_type": "stream",
          "text": [
            "/usr/local/lib/python3.6/dist-packages/sklearn/model_selection/_split.py:1978: FutureWarning: The default value of cv will change from 3 to 5 in version 0.22. Specify it explicitly to silence this warning.\n",
            "  warnings.warn(CV_WARNING, FutureWarning)\n"
          ],
          "name": "stderr"
        }
      ]
    },
    {
      "cell_type": "code",
      "metadata": {
        "id": "yDHtgSbXSHKK",
        "colab_type": "code",
        "colab": {
          "base_uri": "https://localhost:8080/",
          "height": 51
        },
        "outputId": "4baf6c41-d486-477c-ec15-5b3973345c96"
      },
      "source": [
        "from sklearn.neural_network import MLPClassifier\n",
        "\n",
        "pipeline = make_pipeline(\n",
        "    ce.OrdinalEncoder(), \n",
        "    SimpleImputer(strategy='median'), \n",
        "    MLPClassifier(activation='relu',\n",
        "                  solver='sgd',\n",
        "                  verbose=False,\n",
        "                  learning_rate='invscaling',\n",
        "                  power_t=0.5,\n",
        "                  shuffle=True,\n",
        "                  momentum=0.5,\n",
        "                  nesterovs_momentum=False,\n",
        "                  tol=1e-4,\n",
        "                  alpha=1e-4,\n",
        "                  random_state=0\n",
        "    )\n",
        ")\n",
        "\n",
        "# Fit on train, score on val\n",
        "pipeline.fit(x_train, y_train)\n",
        "\n",
        "# print scores\n",
        "print('Train Accuracy', pipeline.score(x_train, y_train))\n",
        "print('Validation Accuracy', pipeline.score(x_val, y_val))"
      ],
      "execution_count": 61,
      "outputs": [
        {
          "output_type": "stream",
          "text": [
            "Train Accuracy 0.542716049382716\n",
            "Validation Accuracy 0.5384511784511784\n"
          ],
          "name": "stdout"
        }
      ]
    },
    {
      "cell_type": "markdown",
      "metadata": {
        "id": "FkZrLVaPmpKh",
        "colab_type": "text"
      },
      "source": [
        "### submission"
      ]
    },
    {
      "cell_type": "code",
      "metadata": {
        "id": "fXiiZ_38mskI",
        "colab_type": "code",
        "colab": {}
      },
      "source": [
        "submission = sample_submission.copy()\n",
        "submission['status_group'] = y_pred\n",
        "submission.to_csv('submission-14.csv', index=False)"
      ],
      "execution_count": 0,
      "outputs": []
    },
    {
      "cell_type": "code",
      "metadata": {
        "id": "BS9uT29-m3Hm",
        "colab_type": "code",
        "colab": {}
      },
      "source": [
        "if in_colab:\n",
        "    from google.colab import files\n",
        "    files.download('submission-14.csv')"
      ],
      "execution_count": 0,
      "outputs": []
    }
  ]
}