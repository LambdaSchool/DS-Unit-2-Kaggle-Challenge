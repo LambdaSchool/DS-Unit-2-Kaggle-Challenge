{
  "nbformat": 4,
  "nbformat_minor": 0,
  "metadata": {
    "colab": {
      "name": "Copy of assignment_kaggle_challenge_2.ipynb",
      "provenance": [],
      "collapsed_sections": [],
      "toc_visible": true,
      "include_colab_link": true
    },
    "kernelspec": {
      "display_name": "Python 3",
      "language": "python",
      "name": "python3"
    },
    "language_info": {
      "codemirror_mode": {
        "name": "ipython",
        "version": 3
      },
      "file_extension": ".py",
      "mimetype": "text/x-python",
      "name": "python",
      "nbconvert_exporter": "python",
      "pygments_lexer": "ipython3",
      "version": "3.7.3"
    }
  },
  "cells": [
    {
      "cell_type": "markdown",
      "metadata": {
        "id": "view-in-github",
        "colab_type": "text"
      },
      "source": [
        "<a href=\"https://colab.research.google.com/github/davidanagy/DS-Unit-2-Kaggle-Challenge/blob/master/module2/assignment_kaggle_challenge_2.ipynb\" target=\"_parent\"><img src=\"https://colab.research.google.com/assets/colab-badge.svg\" alt=\"Open In Colab\"/></a>"
      ]
    },
    {
      "cell_type": "markdown",
      "metadata": {
        "colab_type": "text",
        "id": "7IXUfiQ2UKj6"
      },
      "source": [
        "Lambda School Data Science, Unit 2: Predictive Modeling\n",
        "\n",
        "# Kaggle Challenge, Module 2\n",
        "\n",
        "## Assignment\n",
        "- [ ] Read [“Adopting a Hypothesis-Driven Workflow”](https://outline.com/5S5tsB), a blog post by a Lambda DS student about the Tanzania Waterpumps challenge.\n",
        "- [ ] Continue to participate in our Kaggle challenge.\n",
        "- [ ] Try Ordinal Encoding.\n",
        "- [ ] Try a Random Forest Classifier.\n",
        "- [ ] Submit your predictions to our Kaggle competition. (Go to our Kaggle InClass competition webpage. Use the blue **Submit Predictions** button to upload your CSV file. Or you can use the Kaggle API to submit your predictions.)\n",
        "- [ ] Commit your notebook to your fork of the GitHub repo.\n",
        "\n",
        "## Stretch Goals\n",
        "\n",
        "### Doing\n",
        "- [ ] Add your own stretch goal(s) !\n",
        "- [ ] Do more exploratory data analysis, data cleaning, feature engineering, and feature selection.\n",
        "- [ ] Try other [categorical encodings](https://contrib.scikit-learn.org/categorical-encoding/).\n",
        "- [ ] Get and plot your feature importances.\n",
        "- [ ] Make visualizations and share on Slack.\n",
        "\n",
        "### Reading\n",
        "\n",
        "Top recommendations in _**bold italic:**_\n",
        "\n",
        "#### Decision Trees\n",
        "- A Visual Introduction to Machine Learning, [Part 1: A Decision Tree](http://www.r2d3.us/visual-intro-to-machine-learning-part-1/),  and _**[Part 2: Bias and Variance](http://www.r2d3.us/visual-intro-to-machine-learning-part-2/)**_\n",
        "- [Decision Trees: Advantages & Disadvantages](https://christophm.github.io/interpretable-ml-book/tree.html#advantages-2)\n",
        "- [How a Russian mathematician constructed a decision tree — by hand — to solve a medical problem](http://fastml.com/how-a-russian-mathematician-constructed-a-decision-tree-by-hand-to-solve-a-medical-problem/)\n",
        "- [How decision trees work](https://brohrer.github.io/how_decision_trees_work.html)\n",
        "- [Let’s Write a Decision Tree Classifier from Scratch](https://www.youtube.com/watch?v=LDRbO9a6XPU)\n",
        "\n",
        "#### Random Forests\n",
        "- [_An Introduction to Statistical Learning_](http://www-bcf.usc.edu/~gareth/ISL/), Chapter 8: Tree-Based Methods\n",
        "- [Coloring with Random Forests](http://structuringtheunstructured.blogspot.com/2017/11/coloring-with-random-forests.html)\n",
        "- _**[Random Forests for Complete Beginners: The definitive guide to Random Forests and Decision Trees](https://victorzhou.com/blog/intro-to-random-forests/)**_\n",
        "\n",
        "#### Categorical encoding for trees\n",
        "- [Are categorical variables getting lost in your random forests?](https://roamanalytics.com/2016/10/28/are-categorical-variables-getting-lost-in-your-random-forests/)\n",
        "- [Beyond One-Hot: An Exploration of Categorical Variables](http://www.willmcginnis.com/2015/11/29/beyond-one-hot-an-exploration-of-categorical-variables/)\n",
        "- _**[Categorical Features and Encoding in Decision Trees](https://medium.com/data-design/visiting-categorical-features-and-encoding-in-decision-trees-53400fa65931)**_\n",
        "- _**[Coursera — How to Win a Data Science Competition: Learn from Top Kagglers — Concept of mean encoding](https://www.coursera.org/lecture/competitive-data-science/concept-of-mean-encoding-b5Gxv)**_\n",
        "- [Mean (likelihood) encodings: a comprehensive study](https://www.kaggle.com/vprokopev/mean-likelihood-encodings-a-comprehensive-study)\n",
        "- [The Mechanics of Machine Learning, Chapter 6: Categorically Speaking](https://mlbook.explained.ai/catvars.html)\n",
        "\n",
        "#### Imposter Syndrome\n",
        "- [Effort Shock and Reward Shock (How The Karate Kid Ruined The Modern World)](http://www.tempobook.com/2014/07/09/effort-shock-and-reward-shock/)\n",
        "- [How to manage impostor syndrome in data science](https://towardsdatascience.com/how-to-manage-impostor-syndrome-in-data-science-ad814809f068)\n",
        "- [\"I am not a real data scientist\"](https://brohrer.github.io/imposter_syndrome.html)\n",
        "- _**[Imposter Syndrome in Data Science](https://caitlinhudon.com/2018/01/19/imposter-syndrome-in-data-science/)**_\n",
        "\n",
        "\n",
        "\n",
        "\n"
      ]
    },
    {
      "cell_type": "markdown",
      "metadata": {
        "id": "azyFViuG8O4O",
        "colab_type": "text"
      },
      "source": [
        "### Setup\n",
        "\n",
        "You can work locally (follow the [local setup instructions](https://lambdaschool.github.io/ds/unit2/local/)) or on Colab (run the code cell below)."
      ]
    },
    {
      "cell_type": "code",
      "metadata": {
        "colab_type": "code",
        "id": "o9eSnDYhUGD7",
        "colab": {
          "base_uri": "https://localhost:8080/",
          "height": 1000
        },
        "outputId": "e5912d26-1b96-45dd-e5ef-ba9365e2fb0d"
      },
      "source": [
        "import os, sys\n",
        "in_colab = 'google.colab' in sys.modules\n",
        "\n",
        "# If you're in Colab...\n",
        "if in_colab:\n",
        "    # Pull files from Github repo\n",
        "    os.chdir('/content')\n",
        "    !git init .\n",
        "    !git remote add origin https://github.com/LambdaSchool/DS-Unit-2-Kaggle-Challenge.git\n",
        "    !git pull origin master\n",
        "    \n",
        "    # Install required python packages\n",
        "    !pip install -r requirements.txt\n",
        "    \n",
        "    # Change into directory for module\n",
        "    os.chdir('module2')"
      ],
      "execution_count": 9,
      "outputs": [
        {
          "output_type": "stream",
          "text": [
            "Reinitialized existing Git repository in /content/.git/\n",
            "fatal: remote origin already exists.\n",
            "From https://github.com/LambdaSchool/DS-Unit-2-Kaggle-Challenge\n",
            " * branch            master     -> FETCH_HEAD\n",
            "Already up to date.\n",
            "Requirement already satisfied: category_encoders==2.0.0 in /usr/local/lib/python3.6/dist-packages (from -r requirements.txt (line 1)) (2.0.0)\n",
            "Requirement already satisfied: eli5==0.10.1 in /usr/local/lib/python3.6/dist-packages (from -r requirements.txt (line 2)) (0.10.1)\n",
            "Requirement already satisfied: matplotlib!=3.1.1 in /usr/local/lib/python3.6/dist-packages (from -r requirements.txt (line 3)) (3.0.3)\n",
            "Requirement already satisfied: pandas-profiling==2.3.0 in /usr/local/lib/python3.6/dist-packages (from -r requirements.txt (line 4)) (2.3.0)\n",
            "Requirement already satisfied: pdpbox==0.2.0 in /usr/local/lib/python3.6/dist-packages (from -r requirements.txt (line 5)) (0.2.0)\n",
            "Requirement already satisfied: plotly==4.1.1 in /usr/local/lib/python3.6/dist-packages (from -r requirements.txt (line 6)) (4.1.1)\n",
            "Requirement already satisfied: seaborn==0.9.0 in /usr/local/lib/python3.6/dist-packages (from -r requirements.txt (line 7)) (0.9.0)\n",
            "Requirement already satisfied: scikit-learn==0.21.3 in /usr/local/lib/python3.6/dist-packages (from -r requirements.txt (line 8)) (0.21.3)\n",
            "Requirement already satisfied: shap==0.30.0 in /usr/local/lib/python3.6/dist-packages (from -r requirements.txt (line 9)) (0.30.0)\n",
            "Requirement already satisfied: xgboost==0.90 in /usr/local/lib/python3.6/dist-packages (from -r requirements.txt (line 10)) (0.90)\n",
            "Requirement already satisfied: patsy>=0.4.1 in /usr/local/lib/python3.6/dist-packages (from category_encoders==2.0.0->-r requirements.txt (line 1)) (0.5.1)\n",
            "Requirement already satisfied: statsmodels>=0.6.1 in /usr/local/lib/python3.6/dist-packages (from category_encoders==2.0.0->-r requirements.txt (line 1)) (0.10.1)\n",
            "Requirement already satisfied: numpy>=1.11.3 in /usr/local/lib/python3.6/dist-packages (from category_encoders==2.0.0->-r requirements.txt (line 1)) (1.16.5)\n",
            "Requirement already satisfied: scipy>=0.19.0 in /usr/local/lib/python3.6/dist-packages (from category_encoders==2.0.0->-r requirements.txt (line 1)) (1.3.1)\n",
            "Requirement already satisfied: pandas>=0.21.1 in /usr/local/lib/python3.6/dist-packages (from category_encoders==2.0.0->-r requirements.txt (line 1)) (0.24.2)\n",
            "Requirement already satisfied: attrs>16.0.0 in /usr/local/lib/python3.6/dist-packages (from eli5==0.10.1->-r requirements.txt (line 2)) (19.2.0)\n",
            "Requirement already satisfied: jinja2 in /usr/local/lib/python3.6/dist-packages (from eli5==0.10.1->-r requirements.txt (line 2)) (2.10.3)\n",
            "Requirement already satisfied: six in /usr/local/lib/python3.6/dist-packages (from eli5==0.10.1->-r requirements.txt (line 2)) (1.12.0)\n",
            "Requirement already satisfied: tabulate>=0.7.7 in /usr/local/lib/python3.6/dist-packages (from eli5==0.10.1->-r requirements.txt (line 2)) (0.8.5)\n",
            "Requirement already satisfied: graphviz in /usr/local/lib/python3.6/dist-packages (from eli5==0.10.1->-r requirements.txt (line 2)) (0.10.1)\n",
            "Requirement already satisfied: cycler>=0.10 in /usr/local/lib/python3.6/dist-packages (from matplotlib!=3.1.1->-r requirements.txt (line 3)) (0.10.0)\n",
            "Requirement already satisfied: kiwisolver>=1.0.1 in /usr/local/lib/python3.6/dist-packages (from matplotlib!=3.1.1->-r requirements.txt (line 3)) (1.1.0)\n",
            "Requirement already satisfied: python-dateutil>=2.1 in /usr/local/lib/python3.6/dist-packages (from matplotlib!=3.1.1->-r requirements.txt (line 3)) (2.5.3)\n",
            "Requirement already satisfied: pyparsing!=2.0.4,!=2.1.2,!=2.1.6,>=2.0.1 in /usr/local/lib/python3.6/dist-packages (from matplotlib!=3.1.1->-r requirements.txt (line 3)) (2.4.2)\n",
            "Requirement already satisfied: confuse>=1.0.0 in /usr/local/lib/python3.6/dist-packages (from pandas-profiling==2.3.0->-r requirements.txt (line 4)) (1.0.0)\n",
            "Requirement already satisfied: phik>=0.9.8 in /usr/local/lib/python3.6/dist-packages (from pandas-profiling==2.3.0->-r requirements.txt (line 4)) (0.9.8)\n",
            "Requirement already satisfied: astropy in /usr/local/lib/python3.6/dist-packages (from pandas-profiling==2.3.0->-r requirements.txt (line 4)) (3.0.5)\n",
            "Requirement already satisfied: htmlmin>=0.1.12 in /usr/local/lib/python3.6/dist-packages (from pandas-profiling==2.3.0->-r requirements.txt (line 4)) (0.1.12)\n",
            "Requirement already satisfied: missingno>=0.4.2 in /usr/local/lib/python3.6/dist-packages (from pandas-profiling==2.3.0->-r requirements.txt (line 4)) (0.4.2)\n",
            "Requirement already satisfied: joblib in /usr/local/lib/python3.6/dist-packages (from pdpbox==0.2.0->-r requirements.txt (line 5)) (0.14.0)\n",
            "Requirement already satisfied: psutil in /usr/local/lib/python3.6/dist-packages (from pdpbox==0.2.0->-r requirements.txt (line 5)) (5.4.8)\n",
            "Requirement already satisfied: retrying>=1.3.3 in /usr/local/lib/python3.6/dist-packages (from plotly==4.1.1->-r requirements.txt (line 6)) (1.3.3)\n",
            "Requirement already satisfied: scikit-image in /usr/local/lib/python3.6/dist-packages (from shap==0.30.0->-r requirements.txt (line 9)) (0.15.0)\n",
            "Requirement already satisfied: ipython in /usr/local/lib/python3.6/dist-packages (from shap==0.30.0->-r requirements.txt (line 9)) (5.5.0)\n",
            "Requirement already satisfied: tqdm>4.25.0 in /usr/local/lib/python3.6/dist-packages (from shap==0.30.0->-r requirements.txt (line 9)) (4.28.1)\n",
            "Requirement already satisfied: pytz>=2011k in /usr/local/lib/python3.6/dist-packages (from pandas>=0.21.1->category_encoders==2.0.0->-r requirements.txt (line 1)) (2018.9)\n",
            "Requirement already satisfied: MarkupSafe>=0.23 in /usr/local/lib/python3.6/dist-packages (from jinja2->eli5==0.10.1->-r requirements.txt (line 2)) (1.1.1)\n",
            "Requirement already satisfied: setuptools in /usr/local/lib/python3.6/dist-packages (from kiwisolver>=1.0.1->matplotlib!=3.1.1->-r requirements.txt (line 3)) (41.2.0)\n",
            "Requirement already satisfied: pyyaml in /usr/local/lib/python3.6/dist-packages (from confuse>=1.0.0->pandas-profiling==2.3.0->-r requirements.txt (line 4)) (3.13)\n",
            "Requirement already satisfied: pytest-pylint>=0.13.0 in /usr/local/lib/python3.6/dist-packages (from phik>=0.9.8->pandas-profiling==2.3.0->-r requirements.txt (line 4)) (0.14.1)\n",
            "Requirement already satisfied: jupyter-client>=5.2.3 in /usr/local/lib/python3.6/dist-packages (from phik>=0.9.8->pandas-profiling==2.3.0->-r requirements.txt (line 4)) (5.3.3)\n",
            "Requirement already satisfied: pytest>=4.0.2 in /usr/local/lib/python3.6/dist-packages (from phik>=0.9.8->pandas-profiling==2.3.0->-r requirements.txt (line 4)) (5.2.1)\n",
            "Requirement already satisfied: nbconvert>=5.3.1 in /usr/local/lib/python3.6/dist-packages (from phik>=0.9.8->pandas-profiling==2.3.0->-r requirements.txt (line 4)) (5.6.0)\n",
            "Requirement already satisfied: numba>=0.38.1 in /usr/local/lib/python3.6/dist-packages (from phik>=0.9.8->pandas-profiling==2.3.0->-r requirements.txt (line 4)) (0.40.1)\n",
            "Requirement already satisfied: networkx>=2.0 in /usr/local/lib/python3.6/dist-packages (from scikit-image->shap==0.30.0->-r requirements.txt (line 9)) (2.3)\n",
            "Requirement already satisfied: pillow>=4.3.0 in /usr/local/lib/python3.6/dist-packages (from scikit-image->shap==0.30.0->-r requirements.txt (line 9)) (4.3.0)\n",
            "Requirement already satisfied: PyWavelets>=0.4.0 in /usr/local/lib/python3.6/dist-packages (from scikit-image->shap==0.30.0->-r requirements.txt (line 9)) (1.0.3)\n",
            "Requirement already satisfied: imageio>=2.0.1 in /usr/local/lib/python3.6/dist-packages (from scikit-image->shap==0.30.0->-r requirements.txt (line 9)) (2.4.1)\n",
            "Requirement already satisfied: prompt-toolkit<2.0.0,>=1.0.4 in /usr/local/lib/python3.6/dist-packages (from ipython->shap==0.30.0->-r requirements.txt (line 9)) (1.0.18)\n",
            "Requirement already satisfied: pexpect; sys_platform != \"win32\" in /usr/local/lib/python3.6/dist-packages (from ipython->shap==0.30.0->-r requirements.txt (line 9)) (4.7.0)\n",
            "Requirement already satisfied: traitlets>=4.2 in /usr/local/lib/python3.6/dist-packages (from ipython->shap==0.30.0->-r requirements.txt (line 9)) (4.3.3)\n",
            "Requirement already satisfied: decorator in /usr/local/lib/python3.6/dist-packages (from ipython->shap==0.30.0->-r requirements.txt (line 9)) (4.4.0)\n",
            "Requirement already satisfied: pickleshare in /usr/local/lib/python3.6/dist-packages (from ipython->shap==0.30.0->-r requirements.txt (line 9)) (0.7.5)\n",
            "Requirement already satisfied: pygments in /usr/local/lib/python3.6/dist-packages (from ipython->shap==0.30.0->-r requirements.txt (line 9)) (2.1.3)\n",
            "Requirement already satisfied: simplegeneric>0.8 in /usr/local/lib/python3.6/dist-packages (from ipython->shap==0.30.0->-r requirements.txt (line 9)) (0.8.1)\n",
            "Requirement already satisfied: pylint>=1.4.5 in /usr/local/lib/python3.6/dist-packages (from pytest-pylint>=0.13.0->phik>=0.9.8->pandas-profiling==2.3.0->-r requirements.txt (line 4)) (2.4.2)\n",
            "Requirement already satisfied: tornado>=4.1 in /usr/local/lib/python3.6/dist-packages (from jupyter-client>=5.2.3->phik>=0.9.8->pandas-profiling==2.3.0->-r requirements.txt (line 4)) (4.5.3)\n",
            "Requirement already satisfied: pyzmq>=13 in /usr/local/lib/python3.6/dist-packages (from jupyter-client>=5.2.3->phik>=0.9.8->pandas-profiling==2.3.0->-r requirements.txt (line 4)) (17.0.0)\n",
            "Requirement already satisfied: jupyter-core in /usr/local/lib/python3.6/dist-packages (from jupyter-client>=5.2.3->phik>=0.9.8->pandas-profiling==2.3.0->-r requirements.txt (line 4)) (4.5.0)\n",
            "Requirement already satisfied: packaging in /usr/local/lib/python3.6/dist-packages (from pytest>=4.0.2->phik>=0.9.8->pandas-profiling==2.3.0->-r requirements.txt (line 4)) (19.2)\n",
            "Requirement already satisfied: atomicwrites>=1.0 in /usr/local/lib/python3.6/dist-packages (from pytest>=4.0.2->phik>=0.9.8->pandas-profiling==2.3.0->-r requirements.txt (line 4)) (1.3.0)\n",
            "Requirement already satisfied: more-itertools>=4.0.0 in /usr/local/lib/python3.6/dist-packages (from pytest>=4.0.2->phik>=0.9.8->pandas-profiling==2.3.0->-r requirements.txt (line 4)) (7.2.0)\n",
            "Requirement already satisfied: pluggy<1.0,>=0.12 in /usr/local/lib/python3.6/dist-packages (from pytest>=4.0.2->phik>=0.9.8->pandas-profiling==2.3.0->-r requirements.txt (line 4)) (0.13.0)\n",
            "Requirement already satisfied: py>=1.5.0 in /usr/local/lib/python3.6/dist-packages (from pytest>=4.0.2->phik>=0.9.8->pandas-profiling==2.3.0->-r requirements.txt (line 4)) (1.8.0)\n",
            "Requirement already satisfied: importlib-metadata>=0.12; python_version < \"3.8\" in /usr/local/lib/python3.6/dist-packages (from pytest>=4.0.2->phik>=0.9.8->pandas-profiling==2.3.0->-r requirements.txt (line 4)) (0.23)\n",
            "Requirement already satisfied: wcwidth in /usr/local/lib/python3.6/dist-packages (from pytest>=4.0.2->phik>=0.9.8->pandas-profiling==2.3.0->-r requirements.txt (line 4)) (0.1.7)\n",
            "Requirement already satisfied: testpath in /usr/local/lib/python3.6/dist-packages (from nbconvert>=5.3.1->phik>=0.9.8->pandas-profiling==2.3.0->-r requirements.txt (line 4)) (0.4.2)\n",
            "Requirement already satisfied: nbformat>=4.4 in /usr/local/lib/python3.6/dist-packages (from nbconvert>=5.3.1->phik>=0.9.8->pandas-profiling==2.3.0->-r requirements.txt (line 4)) (4.4.0)\n",
            "Requirement already satisfied: entrypoints>=0.2.2 in /usr/local/lib/python3.6/dist-packages (from nbconvert>=5.3.1->phik>=0.9.8->pandas-profiling==2.3.0->-r requirements.txt (line 4)) (0.3)\n",
            "Requirement already satisfied: bleach in /usr/local/lib/python3.6/dist-packages (from nbconvert>=5.3.1->phik>=0.9.8->pandas-profiling==2.3.0->-r requirements.txt (line 4)) (3.1.0)\n",
            "Requirement already satisfied: mistune<2,>=0.8.1 in /usr/local/lib/python3.6/dist-packages (from nbconvert>=5.3.1->phik>=0.9.8->pandas-profiling==2.3.0->-r requirements.txt (line 4)) (0.8.4)\n",
            "Requirement already satisfied: pandocfilters>=1.4.1 in /usr/local/lib/python3.6/dist-packages (from nbconvert>=5.3.1->phik>=0.9.8->pandas-profiling==2.3.0->-r requirements.txt (line 4)) (1.4.2)\n",
            "Requirement already satisfied: defusedxml in /usr/local/lib/python3.6/dist-packages (from nbconvert>=5.3.1->phik>=0.9.8->pandas-profiling==2.3.0->-r requirements.txt (line 4)) (0.6.0)\n",
            "Requirement already satisfied: llvmlite>=0.25.0dev0 in /usr/local/lib/python3.6/dist-packages (from numba>=0.38.1->phik>=0.9.8->pandas-profiling==2.3.0->-r requirements.txt (line 4)) (0.29.0)\n",
            "Requirement already satisfied: olefile in /usr/local/lib/python3.6/dist-packages (from pillow>=4.3.0->scikit-image->shap==0.30.0->-r requirements.txt (line 9)) (0.46)\n",
            "Requirement already satisfied: ptyprocess>=0.5 in /usr/local/lib/python3.6/dist-packages (from pexpect; sys_platform != \"win32\"->ipython->shap==0.30.0->-r requirements.txt (line 9)) (0.6.0)\n",
            "Requirement already satisfied: ipython-genutils in /usr/local/lib/python3.6/dist-packages (from traitlets>=4.2->ipython->shap==0.30.0->-r requirements.txt (line 9)) (0.2.0)\n",
            "Requirement already satisfied: astroid<2.4,>=2.3.0 in /usr/local/lib/python3.6/dist-packages (from pylint>=1.4.5->pytest-pylint>=0.13.0->phik>=0.9.8->pandas-profiling==2.3.0->-r requirements.txt (line 4)) (2.3.1)\n",
            "Requirement already satisfied: isort<5,>=4.2.5 in /usr/local/lib/python3.6/dist-packages (from pylint>=1.4.5->pytest-pylint>=0.13.0->phik>=0.9.8->pandas-profiling==2.3.0->-r requirements.txt (line 4)) (4.3.21)\n",
            "Requirement already satisfied: mccabe<0.7,>=0.6 in /usr/local/lib/python3.6/dist-packages (from pylint>=1.4.5->pytest-pylint>=0.13.0->phik>=0.9.8->pandas-profiling==2.3.0->-r requirements.txt (line 4)) (0.6.1)\n",
            "Requirement already satisfied: zipp>=0.5 in /usr/local/lib/python3.6/dist-packages (from importlib-metadata>=0.12; python_version < \"3.8\"->pytest>=4.0.2->phik>=0.9.8->pandas-profiling==2.3.0->-r requirements.txt (line 4)) (0.6.0)\n",
            "Requirement already satisfied: jsonschema!=2.5.0,>=2.4 in /usr/local/lib/python3.6/dist-packages (from nbformat>=4.4->nbconvert>=5.3.1->phik>=0.9.8->pandas-profiling==2.3.0->-r requirements.txt (line 4)) (2.6.0)\n",
            "Requirement already satisfied: webencodings in /usr/local/lib/python3.6/dist-packages (from bleach->nbconvert>=5.3.1->phik>=0.9.8->pandas-profiling==2.3.0->-r requirements.txt (line 4)) (0.5.1)\n",
            "Requirement already satisfied: typed-ast<1.5,>=1.4.0; implementation_name == \"cpython\" and python_version < \"3.8\" in /usr/local/lib/python3.6/dist-packages (from astroid<2.4,>=2.3.0->pylint>=1.4.5->pytest-pylint>=0.13.0->phik>=0.9.8->pandas-profiling==2.3.0->-r requirements.txt (line 4)) (1.4.0)\n",
            "Requirement already satisfied: lazy-object-proxy==1.4.* in /usr/local/lib/python3.6/dist-packages (from astroid<2.4,>=2.3.0->pylint>=1.4.5->pytest-pylint>=0.13.0->phik>=0.9.8->pandas-profiling==2.3.0->-r requirements.txt (line 4)) (1.4.2)\n",
            "Requirement already satisfied: wrapt==1.11.* in /usr/local/lib/python3.6/dist-packages (from astroid<2.4,>=2.3.0->pylint>=1.4.5->pytest-pylint>=0.13.0->phik>=0.9.8->pandas-profiling==2.3.0->-r requirements.txt (line 4)) (1.11.2)\n"
          ],
          "name": "stdout"
        }
      ]
    },
    {
      "cell_type": "code",
      "metadata": {
        "colab_type": "code",
        "id": "QJBD4ruICm1m",
        "colab": {}
      },
      "source": [
        "import pandas as pd\n",
        "from sklearn.model_selection import train_test_split\n",
        "\n",
        "# Merge train_features.csv & train_labels.csv\n",
        "train = pd.merge(pd.read_csv('../data/waterpumps/train_features.csv'), \n",
        "                 pd.read_csv('../data/waterpumps/train_labels.csv'))\n",
        "\n",
        "# Read test_features.csv & sample_submission.csv\n",
        "test = pd.read_csv('../data/waterpumps/test_features.csv')\n",
        "sample_submission = pd.read_csv('../data/waterpumps/sample_submission.csv')"
      ],
      "execution_count": 0,
      "outputs": []
    },
    {
      "cell_type": "code",
      "metadata": {
        "id": "kJTJTTB5-uol",
        "colab_type": "code",
        "colab": {
          "base_uri": "https://localhost:8080/",
          "height": 34
        },
        "outputId": "4812c240-ba54-4239-c0c2-be6e97a49bc8"
      },
      "source": [
        "train.shape, test.shape"
      ],
      "execution_count": 11,
      "outputs": [
        {
          "output_type": "execute_result",
          "data": {
            "text/plain": [
              "((59400, 41), (14358, 40))"
            ]
          },
          "metadata": {
            "tags": []
          },
          "execution_count": 11
        }
      ]
    },
    {
      "cell_type": "code",
      "metadata": {
        "id": "45GunPMO_LQZ",
        "colab_type": "code",
        "colab": {
          "base_uri": "https://localhost:8080/",
          "height": 34
        },
        "outputId": "0b79ba62-bb65-4c57-af4a-9d0d12e40768"
      },
      "source": [
        "# Copying my earlier code...\n",
        "\n",
        "train, val = train_test_split(train, stratify=train['status_group'], random_state=77)\n",
        "\n",
        "train.shape, val.shape"
      ],
      "execution_count": 12,
      "outputs": [
        {
          "output_type": "execute_result",
          "data": {
            "text/plain": [
              "((44550, 41), (14850, 41))"
            ]
          },
          "metadata": {
            "tags": []
          },
          "execution_count": 12
        }
      ]
    },
    {
      "cell_type": "code",
      "metadata": {
        "id": "jv3yHqRt_euM",
        "colab_type": "code",
        "colab": {}
      },
      "source": [
        "# I'm going to try iterating. I'll hold off on dropping columns and reducing cardinality for now.\n",
        "\n",
        "import numpy as np\n",
        "\n",
        "def remove_zeroes(X):\n",
        "  X = X.copy()\n",
        "  \n",
        "  X['latitude'] = X['latitude'].replace(-2e-08, 0)\n",
        "  \n",
        "  zeroes = ['gps_height', 'longitude', 'latitude', 'population', 'construction_year']\n",
        "  for col in zeroes:\n",
        "    X[col] = X[col].replace(0, np.nan)\n",
        "  \n",
        "  return X\n",
        "\n",
        "def datetime_features(X):\n",
        "  X = X.copy()\n",
        "  \n",
        "  X['date_recorded'] = pd.to_datetime(X['date_recorded'], infer_datetime_format=True)\n",
        "  \n",
        "  X['year_recorded'] = X['date_recorded'].dt.year\n",
        "  \n",
        "  X['construction_year'] = X['construction_year'].fillna(np.around(np.mean(X['construction_year']), decimals=0))\n",
        "  \n",
        "  X['time_to_inspection'] = X['year_recorded'] - X['construction_year']\n",
        "  \n",
        "  return X\n",
        "\n",
        "def engineer_features(X):\n",
        "  X = X.copy()\n",
        "  \n",
        "  X = remove_zeroes(X)\n",
        "  X = datetime_features(X)\n",
        "  X = X.drop(['id', 'status_group', 'date_recorded'], axis=1)\n",
        "  \n",
        "  return X\n",
        "\n",
        "X_train = engineer_features(train)\n",
        "y_train = train['status_group']\n",
        "X_val = engineer_features(val)\n",
        "y_val = val['status_group']"
      ],
      "execution_count": 0,
      "outputs": []
    },
    {
      "cell_type": "code",
      "metadata": {
        "id": "V-7KUTEVAUI1",
        "colab_type": "code",
        "colab": {
          "base_uri": "https://localhost:8080/",
          "height": 51
        },
        "outputId": "65bad84c-d535-4203-934f-bd17a6fb2b29"
      },
      "source": [
        "# Trying ordinal encoding.\n",
        "\n",
        "import category_encoders as ce\n",
        "from sklearn.impute import SimpleImputer\n",
        "from sklearn.pipeline import make_pipeline\n",
        "from sklearn.tree import DecisionTreeClassifier\n",
        "\n",
        "pipeline = make_pipeline(\n",
        "    ce.OrdinalEncoder(),\n",
        "    SimpleImputer(strategy='median'),\n",
        "    DecisionTreeClassifier(min_samples_leaf=14, max_depth=29, random_state=90)\n",
        ")\n",
        "\n",
        "pipeline.fit(X_train, y_train)\n",
        "print('Train Accuracy', pipeline.score(X_train, y_train))\n",
        "print('Validation Accuracy', pipeline.score(X_val, y_val))"
      ],
      "execution_count": 14,
      "outputs": [
        {
          "output_type": "stream",
          "text": [
            "Train Accuracy 0.8270707070707071\n",
            "Validation Accuracy 0.7618855218855218\n"
          ],
          "name": "stdout"
        }
      ]
    },
    {
      "cell_type": "code",
      "metadata": {
        "id": "TrWsWY6aArKP",
        "colab_type": "code",
        "colab": {
          "base_uri": "https://localhost:8080/",
          "height": 51
        },
        "outputId": "ce773377-1d3a-4e12-a50d-f72cab028d43"
      },
      "source": [
        "# Now let's see what happens when I drop redundant columns.\n",
        "\n",
        "def drop_redundant(X):\n",
        "  X = X.copy()\n",
        "  \n",
        "  redundant_cols = ['recorded_by', 'extraction_type_group', 'extraction_type_class', 'management_group', 'payment_type',\n",
        "                   'quality_group', 'quantity_group', 'source_type', 'source_class', 'waterpoint_type_group',\n",
        "                   'region_code', 'district_code', 'date_recorded', 'id', 'status_group']\n",
        "  \n",
        "  for col in redundant_cols:\n",
        "    X = X.drop(col, axis=1)\n",
        "    \n",
        "  return X\n",
        "\n",
        "def engineer_features(X):\n",
        "  X = X.copy()\n",
        "  \n",
        "  X = remove_zeroes(X)\n",
        "  X = datetime_features(X)\n",
        "  X = drop_redundant(X)\n",
        "  \n",
        "  return X\n",
        "\n",
        "X_train = engineer_features(train)\n",
        "y_train = train['status_group']\n",
        "X_val = engineer_features(val)\n",
        "y_val = val['status_group']\n",
        "\n",
        "pipeline = make_pipeline(\n",
        "    ce.OrdinalEncoder(),\n",
        "    SimpleImputer(strategy='median'),\n",
        "    DecisionTreeClassifier(min_samples_leaf=14, max_depth=29, random_state=90)\n",
        ")\n",
        "\n",
        "pipeline.fit(X_train, y_train)\n",
        "print('Train Accuracy', pipeline.score(X_train, y_train))\n",
        "print('Validation Accuracy', pipeline.score(X_val, y_val))\n",
        "\n",
        "# Accuracy increases a little bit, but still not as good as using one-hot encoding."
      ],
      "execution_count": 15,
      "outputs": [
        {
          "output_type": "stream",
          "text": [
            "Train Accuracy 0.8286419753086419\n",
            "Validation Accuracy 0.7636363636363637\n"
          ],
          "name": "stdout"
        }
      ]
    },
    {
      "cell_type": "code",
      "metadata": {
        "id": "IEMkT6lQCDn7",
        "colab_type": "code",
        "colab": {
          "base_uri": "https://localhost:8080/",
          "height": 51
        },
        "outputId": "0f799b1b-a24e-428f-bf9a-fef5096cc722"
      },
      "source": [
        "# What if I use one-hot encoding for low cardinality, and ordinal encoding for high cardinality?\n",
        "\n",
        "cardinality = X_train.select_dtypes(exclude='number').nunique()\n",
        "  \n",
        "high_cardinality = cardinality[cardinality > 50].index.tolist()\n",
        "\n",
        "low_cardinality = cardinality[cardinality <= 50].index.tolist()\n",
        "\n",
        "pipeline = make_pipeline(\n",
        "    ce.OrdinalEncoder(cols=high_cardinality),\n",
        "    ce.OneHotEncoder(cols=low_cardinality),\n",
        "    SimpleImputer(strategy='median'),\n",
        "    DecisionTreeClassifier(min_samples_leaf=14, max_depth=29, random_state=90)\n",
        ")\n",
        "\n",
        "pipeline.fit(X_train, y_train)\n",
        "print('Train Accuracy', pipeline.score(X_train, y_train))\n",
        "print('Validation Accuracy', pipeline.score(X_val, y_val))\n",
        "\n",
        "# Result is lower! One-hot combined with reducing cardinality seems the best, at least for single trees."
      ],
      "execution_count": 17,
      "outputs": [
        {
          "output_type": "stream",
          "text": [
            "Train Accuracy 0.8264421997755331\n",
            "Validation Accuracy 0.7603367003367003\n"
          ],
          "name": "stdout"
        }
      ]
    },
    {
      "cell_type": "code",
      "metadata": {
        "id": "Dc3uiV2TC4nI",
        "colab_type": "code",
        "colab": {
          "base_uri": "https://localhost:8080/",
          "height": 51
        },
        "outputId": "6610bf7d-500b-44e1-84a0-b5cbeb5664db"
      },
      "source": [
        "from sklearn.ensemble import RandomForestClassifier\n",
        "\n",
        "pipeline = make_pipeline(\n",
        "    ce.OrdinalEncoder(),\n",
        "    SimpleImputer(strategy='median'),\n",
        "    RandomForestClassifier(n_estimators=100, random_state=100, n_jobs=-1)\n",
        ")\n",
        "\n",
        "pipeline.fit(X_train, y_train)\n",
        "print('Train Accuracy', pipeline.score(X_train, y_train))\n",
        "print('Validation Accuracy', pipeline.score(X_val, y_val))\n",
        "\n",
        "# Now that's high!"
      ],
      "execution_count": 18,
      "outputs": [
        {
          "output_type": "stream",
          "text": [
            "Train Accuracy 0.9999775533108867\n",
            "Validation Accuracy 0.8058585858585858\n"
          ],
          "name": "stdout"
        }
      ]
    },
    {
      "cell_type": "code",
      "metadata": {
        "id": "pfeHP8QZDgun",
        "colab_type": "code",
        "colab": {
          "base_uri": "https://localhost:8080/",
          "height": 51
        },
        "outputId": "d6a53056-ea6b-4845-b8c9-24b2614af562"
      },
      "source": [
        "# What if I reduce cardinality and do one-hot encode?\n",
        "\n",
        "def reduce_cardinality(X):\n",
        "  X = X.copy()\n",
        "  \n",
        "  cardinality = X.select_dtypes(exclude='number').nunique()\n",
        "  \n",
        "  high_cardinality = cardinality[cardinality > 50].index.tolist()\n",
        "  \n",
        "  for feature in high_cardinality:\n",
        "    top10 = X[feature].value_counts()[:10].index\n",
        "    X.loc[~X[feature].isin(top10), feature] = 'OTHER'\n",
        "  \n",
        "  return X\n",
        "\n",
        "def engineer_features(X):\n",
        "  X = X.copy()\n",
        "  \n",
        "  X = remove_zeroes(X)\n",
        "  X = datetime_features(X)\n",
        "  X = drop_redundant(X)\n",
        "  X = reduce_cardinality(X)\n",
        "  \n",
        "  return X\n",
        "\n",
        "X_train = engineer_features(train)\n",
        "X_val = engineer_features(val)\n",
        "\n",
        "pipeline = make_pipeline(\n",
        "    ce.OneHotEncoder(use_cat_names=True),\n",
        "    SimpleImputer(strategy='median'),\n",
        "    RandomForestClassifier(n_estimators=100, random_state=100, n_jobs=-1)\n",
        ")\n",
        "\n",
        "pipeline.fit(X_train, y_train)\n",
        "print('Train Accuracy', pipeline.score(X_train, y_train))\n",
        "print('Validation Accuracy', pipeline.score(X_val, y_val))\n",
        "\n",
        "# Accuracy is lower!"
      ],
      "execution_count": 19,
      "outputs": [
        {
          "output_type": "stream",
          "text": [
            "Train Accuracy 0.9970145903479237\n",
            "Validation Accuracy 0.8048484848484848\n"
          ],
          "name": "stdout"
        }
      ]
    },
    {
      "cell_type": "code",
      "metadata": {
        "id": "58eFclPpD9Dp",
        "colab_type": "code",
        "colab": {
          "base_uri": "https://localhost:8080/",
          "height": 51
        },
        "outputId": "3fd74415-4f45-434c-a7e1-f61207c4e49d"
      },
      "source": [
        "def engineer_features(X):\n",
        "  X = X.copy()\n",
        "  \n",
        "  X = remove_zeroes(X)\n",
        "  X = datetime_features(X)\n",
        "  X = drop_redundant(X)\n",
        "  \n",
        "  return X\n",
        "\n",
        "X_train = engineer_features(train)\n",
        "X_val = engineer_features(val)\n",
        "\n",
        "pipeline = make_pipeline(\n",
        "    ce.OrdinalEncoder(),\n",
        "    SimpleImputer(strategy='median'),\n",
        "    RandomForestClassifier(n_estimators=100, random_state=100, n_jobs=-1)\n",
        ")\n",
        "\n",
        "pipeline.fit(X_train, y_train)\n",
        "print('Train Accuracy', pipeline.score(X_train, y_train))\n",
        "print('Validation Accuracy', pipeline.score(X_val, y_val))"
      ],
      "execution_count": 20,
      "outputs": [
        {
          "output_type": "stream",
          "text": [
            "Train Accuracy 0.9999775533108867\n",
            "Validation Accuracy 0.8058585858585858\n"
          ],
          "name": "stdout"
        }
      ]
    },
    {
      "cell_type": "code",
      "metadata": {
        "id": "P0ULGn3KETWW",
        "colab_type": "code",
        "colab": {
          "base_uri": "https://localhost:8080/",
          "height": 204
        },
        "outputId": "a8d14519-64d5-4455-ca4d-512cabc9b292"
      },
      "source": [
        "# Have to re-define so I'm not dropping \"status_group,\" since 'test' has no status_group column!\n",
        "\n",
        "def drop_redundant(X):\n",
        "  X = X.copy()\n",
        "  \n",
        "  redundant_cols = ['recorded_by', 'extraction_type_group', 'extraction_type_class', 'management_group', 'payment_type',\n",
        "                   'quality_group', 'quantity_group', 'source_type', 'source_class', 'waterpoint_type_group',\n",
        "                   'region_code', 'district_code', 'date_recorded', 'id']\n",
        "  \n",
        "  for col in redundant_cols:\n",
        "    X = X.drop(col, axis=1)\n",
        "    \n",
        "  return X\n",
        "\n",
        "X_test = engineer_features(test)\n",
        "\n",
        "y_pred = pd.DataFrame(pipeline.predict(X_test), columns=['status_group'])\n",
        "\n",
        "submission1 = pd.concat([test['id'], y_pred], axis=1)\n",
        "\n",
        "submission1.head()"
      ],
      "execution_count": 22,
      "outputs": [
        {
          "output_type": "execute_result",
          "data": {
            "text/html": [
              "<div>\n",
              "<style scoped>\n",
              "    .dataframe tbody tr th:only-of-type {\n",
              "        vertical-align: middle;\n",
              "    }\n",
              "\n",
              "    .dataframe tbody tr th {\n",
              "        vertical-align: top;\n",
              "    }\n",
              "\n",
              "    .dataframe thead th {\n",
              "        text-align: right;\n",
              "    }\n",
              "</style>\n",
              "<table border=\"1\" class=\"dataframe\">\n",
              "  <thead>\n",
              "    <tr style=\"text-align: right;\">\n",
              "      <th></th>\n",
              "      <th>id</th>\n",
              "      <th>status_group</th>\n",
              "    </tr>\n",
              "  </thead>\n",
              "  <tbody>\n",
              "    <tr>\n",
              "      <th>0</th>\n",
              "      <td>50785</td>\n",
              "      <td>non functional</td>\n",
              "    </tr>\n",
              "    <tr>\n",
              "      <th>1</th>\n",
              "      <td>51630</td>\n",
              "      <td>functional</td>\n",
              "    </tr>\n",
              "    <tr>\n",
              "      <th>2</th>\n",
              "      <td>17168</td>\n",
              "      <td>functional</td>\n",
              "    </tr>\n",
              "    <tr>\n",
              "      <th>3</th>\n",
              "      <td>45559</td>\n",
              "      <td>non functional</td>\n",
              "    </tr>\n",
              "    <tr>\n",
              "      <th>4</th>\n",
              "      <td>49871</td>\n",
              "      <td>functional</td>\n",
              "    </tr>\n",
              "  </tbody>\n",
              "</table>\n",
              "</div>"
            ],
            "text/plain": [
              "      id    status_group\n",
              "0  50785  non functional\n",
              "1  51630      functional\n",
              "2  17168      functional\n",
              "3  45559  non functional\n",
              "4  49871      functional"
            ]
          },
          "metadata": {
            "tags": []
          },
          "execution_count": 22
        }
      ]
    },
    {
      "cell_type": "code",
      "metadata": {
        "id": "XON3MHkvEzR6",
        "colab_type": "code",
        "colab": {}
      },
      "source": [
        "submission1.to_csv('water-submission-07.csv', index=None, header=True)"
      ],
      "execution_count": 0,
      "outputs": []
    },
    {
      "cell_type": "code",
      "metadata": {
        "id": "23TpC788FRaq",
        "colab_type": "code",
        "colab": {
          "base_uri": "https://localhost:8080/",
          "height": 326
        },
        "outputId": "3a99c2ae-0bdb-42e0-88e1-effb322b5dea"
      },
      "source": [
        "X_train.head()"
      ],
      "execution_count": 24,
      "outputs": [
        {
          "output_type": "execute_result",
          "data": {
            "text/html": [
              "<div>\n",
              "<style scoped>\n",
              "    .dataframe tbody tr th:only-of-type {\n",
              "        vertical-align: middle;\n",
              "    }\n",
              "\n",
              "    .dataframe tbody tr th {\n",
              "        vertical-align: top;\n",
              "    }\n",
              "\n",
              "    .dataframe thead th {\n",
              "        text-align: right;\n",
              "    }\n",
              "</style>\n",
              "<table border=\"1\" class=\"dataframe\">\n",
              "  <thead>\n",
              "    <tr style=\"text-align: right;\">\n",
              "      <th></th>\n",
              "      <th>amount_tsh</th>\n",
              "      <th>funder</th>\n",
              "      <th>gps_height</th>\n",
              "      <th>installer</th>\n",
              "      <th>longitude</th>\n",
              "      <th>latitude</th>\n",
              "      <th>wpt_name</th>\n",
              "      <th>num_private</th>\n",
              "      <th>basin</th>\n",
              "      <th>subvillage</th>\n",
              "      <th>region</th>\n",
              "      <th>lga</th>\n",
              "      <th>ward</th>\n",
              "      <th>population</th>\n",
              "      <th>public_meeting</th>\n",
              "      <th>scheme_management</th>\n",
              "      <th>scheme_name</th>\n",
              "      <th>permit</th>\n",
              "      <th>construction_year</th>\n",
              "      <th>extraction_type</th>\n",
              "      <th>management</th>\n",
              "      <th>payment</th>\n",
              "      <th>water_quality</th>\n",
              "      <th>quantity</th>\n",
              "      <th>source</th>\n",
              "      <th>waterpoint_type</th>\n",
              "      <th>year_recorded</th>\n",
              "      <th>time_to_inspection</th>\n",
              "    </tr>\n",
              "  </thead>\n",
              "  <tbody>\n",
              "    <tr>\n",
              "      <th>58517</th>\n",
              "      <td>0.0</td>\n",
              "      <td>Wvt</td>\n",
              "      <td>NaN</td>\n",
              "      <td>WVT</td>\n",
              "      <td>NaN</td>\n",
              "      <td>NaN</td>\n",
              "      <td>Mwayai</td>\n",
              "      <td>0</td>\n",
              "      <td>Lake Victoria</td>\n",
              "      <td>Sasanda</td>\n",
              "      <td>Shinyanga</td>\n",
              "      <td>Bariadi</td>\n",
              "      <td>Bumera</td>\n",
              "      <td>NaN</td>\n",
              "      <td>True</td>\n",
              "      <td>WUG</td>\n",
              "      <td>NaN</td>\n",
              "      <td>False</td>\n",
              "      <td>1997.0</td>\n",
              "      <td>nira/tanira</td>\n",
              "      <td>wug</td>\n",
              "      <td>never pay</td>\n",
              "      <td>soft</td>\n",
              "      <td>enough</td>\n",
              "      <td>shallow well</td>\n",
              "      <td>hand pump</td>\n",
              "      <td>2013</td>\n",
              "      <td>16.0</td>\n",
              "    </tr>\n",
              "    <tr>\n",
              "      <th>53717</th>\n",
              "      <td>0.0</td>\n",
              "      <td>Government Of Tanzania</td>\n",
              "      <td>NaN</td>\n",
              "      <td>RWE</td>\n",
              "      <td>31.770808</td>\n",
              "      <td>-1.003277</td>\n",
              "      <td>Kamenge</td>\n",
              "      <td>0</td>\n",
              "      <td>Lake Victoria</td>\n",
              "      <td>Bukuma</td>\n",
              "      <td>Kagera</td>\n",
              "      <td>Misenyi</td>\n",
              "      <td>Kanyigo</td>\n",
              "      <td>NaN</td>\n",
              "      <td>True</td>\n",
              "      <td>VWC</td>\n",
              "      <td>Kan</td>\n",
              "      <td>True</td>\n",
              "      <td>1997.0</td>\n",
              "      <td>gravity</td>\n",
              "      <td>vwc</td>\n",
              "      <td>never pay</td>\n",
              "      <td>soft</td>\n",
              "      <td>insufficient</td>\n",
              "      <td>spring</td>\n",
              "      <td>communal standpipe</td>\n",
              "      <td>2011</td>\n",
              "      <td>14.0</td>\n",
              "    </tr>\n",
              "    <tr>\n",
              "      <th>5580</th>\n",
              "      <td>0.0</td>\n",
              "      <td>Twesa</td>\n",
              "      <td>NaN</td>\n",
              "      <td>TWESA</td>\n",
              "      <td>33.405885</td>\n",
              "      <td>-3.504091</td>\n",
              "      <td>Azimio</td>\n",
              "      <td>0</td>\n",
              "      <td>Internal</td>\n",
              "      <td>Kadoto B</td>\n",
              "      <td>Shinyanga</td>\n",
              "      <td>Shinyanga Rural</td>\n",
              "      <td>Pandagichiza</td>\n",
              "      <td>NaN</td>\n",
              "      <td>True</td>\n",
              "      <td>WUG</td>\n",
              "      <td>NaN</td>\n",
              "      <td>True</td>\n",
              "      <td>1997.0</td>\n",
              "      <td>nira/tanira</td>\n",
              "      <td>wug</td>\n",
              "      <td>never pay</td>\n",
              "      <td>soft</td>\n",
              "      <td>insufficient</td>\n",
              "      <td>shallow well</td>\n",
              "      <td>hand pump</td>\n",
              "      <td>2012</td>\n",
              "      <td>15.0</td>\n",
              "    </tr>\n",
              "    <tr>\n",
              "      <th>47950</th>\n",
              "      <td>0.0</td>\n",
              "      <td>Patuu</td>\n",
              "      <td>NaN</td>\n",
              "      <td>PATUU</td>\n",
              "      <td>36.117722</td>\n",
              "      <td>-6.869506</td>\n",
              "      <td>Wiyenzele Primary School</td>\n",
              "      <td>0</td>\n",
              "      <td>Rufiji</td>\n",
              "      <td>Wiyenzele</td>\n",
              "      <td>Dodoma</td>\n",
              "      <td>Mpwapwa</td>\n",
              "      <td>Mlunduzi</td>\n",
              "      <td>NaN</td>\n",
              "      <td>True</td>\n",
              "      <td>VWC</td>\n",
              "      <td>NaN</td>\n",
              "      <td>True</td>\n",
              "      <td>1997.0</td>\n",
              "      <td>gravity</td>\n",
              "      <td>vwc</td>\n",
              "      <td>never pay</td>\n",
              "      <td>soft</td>\n",
              "      <td>seasonal</td>\n",
              "      <td>rainwater harvesting</td>\n",
              "      <td>communal standpipe</td>\n",
              "      <td>2011</td>\n",
              "      <td>14.0</td>\n",
              "    </tr>\n",
              "    <tr>\n",
              "      <th>10488</th>\n",
              "      <td>0.0</td>\n",
              "      <td>Lwi</td>\n",
              "      <td>NaN</td>\n",
              "      <td>LWI</td>\n",
              "      <td>NaN</td>\n",
              "      <td>NaN</td>\n",
              "      <td>Muungano</td>\n",
              "      <td>0</td>\n",
              "      <td>Lake Victoria</td>\n",
              "      <td>Madukani</td>\n",
              "      <td>Mwanza</td>\n",
              "      <td>Magu</td>\n",
              "      <td>Nkungulu</td>\n",
              "      <td>NaN</td>\n",
              "      <td>NaN</td>\n",
              "      <td>WUG</td>\n",
              "      <td>NaN</td>\n",
              "      <td>False</td>\n",
              "      <td>1997.0</td>\n",
              "      <td>india mark iii</td>\n",
              "      <td>wug</td>\n",
              "      <td>unknown</td>\n",
              "      <td>soft</td>\n",
              "      <td>enough</td>\n",
              "      <td>shallow well</td>\n",
              "      <td>hand pump</td>\n",
              "      <td>2012</td>\n",
              "      <td>15.0</td>\n",
              "    </tr>\n",
              "  </tbody>\n",
              "</table>\n",
              "</div>"
            ],
            "text/plain": [
              "       amount_tsh                  funder  ...  year_recorded time_to_inspection\n",
              "58517         0.0                     Wvt  ...           2013               16.0\n",
              "53717         0.0  Government Of Tanzania  ...           2011               14.0\n",
              "5580          0.0                   Twesa  ...           2012               15.0\n",
              "47950         0.0                   Patuu  ...           2011               14.0\n",
              "10488         0.0                     Lwi  ...           2012               15.0\n",
              "\n",
              "[5 rows x 28 columns]"
            ]
          },
          "metadata": {
            "tags": []
          },
          "execution_count": 24
        }
      ]
    },
    {
      "cell_type": "code",
      "metadata": {
        "id": "2DfDuFi8L3Cv",
        "colab_type": "code",
        "colab": {
          "base_uri": "https://localhost:8080/",
          "height": 51
        },
        "outputId": "349a571b-48b9-475b-e532-88ceec59f2eb"
      },
      "source": [
        "# Going to try dropping fewer columns.\n",
        "\n",
        "def drop_redundant(X):\n",
        "  X = X.copy()\n",
        "  \n",
        "  redundant_cols = ['recorded_by', 'payment_type', 'region_code', 'date_recorded', 'id']\n",
        "  \n",
        "  for col in redundant_cols:\n",
        "    X = X.drop(col, axis=1)\n",
        "    \n",
        "  return X\n",
        "\n",
        "def engineer_features(X):\n",
        "  X = X.copy()\n",
        "  \n",
        "  X = remove_zeroes(X)\n",
        "  X = datetime_features(X)\n",
        "  X = drop_redundant(X)\n",
        "  \n",
        "  return X\n",
        "\n",
        "X_train = engineer_features(train).drop('status_group', axis=1)\n",
        "X_val = engineer_features(val).drop('status_group', axis=1)\n",
        "\n",
        "pipeline = make_pipeline(\n",
        "    ce.OrdinalEncoder(),\n",
        "    SimpleImputer(strategy='median'),\n",
        "    RandomForestClassifier(n_estimators=100, random_state=100, n_jobs=-1)\n",
        ")\n",
        "\n",
        "pipeline.fit(X_train, y_train)\n",
        "print('Train Accuracy', pipeline.score(X_train, y_train))\n",
        "print('Validation Accuracy', pipeline.score(X_val, y_val))\n",
        "\n",
        "# Accuracy goes up!"
      ],
      "execution_count": 25,
      "outputs": [
        {
          "output_type": "stream",
          "text": [
            "Train Accuracy 0.9999775533108867\n",
            "Validation Accuracy 0.8078787878787879\n"
          ],
          "name": "stdout"
        }
      ]
    },
    {
      "cell_type": "code",
      "metadata": {
        "id": "SZs49b3MM12f",
        "colab_type": "code",
        "colab": {}
      },
      "source": [
        "X_test = engineer_features(test)\n",
        "\n",
        "y_pred = pd.DataFrame(pipeline.predict(X_test), columns=['status_group'])\n",
        "\n",
        "submission2 = pd.concat([test['id'], y_pred], axis=1)\n",
        "\n",
        "submission2.to_csv('water-submission-08.csv', index=None, header=True)"
      ],
      "execution_count": 0,
      "outputs": []
    },
    {
      "cell_type": "code",
      "metadata": {
        "id": "AY7XP39BNIHv",
        "colab_type": "code",
        "colab": {
          "base_uri": "https://localhost:8080/",
          "height": 51
        },
        "outputId": "6fc8bd6e-a6e8-4936-b816-1aac6b30619f"
      },
      "source": [
        "# Testing the application of two encoders at once.\n",
        "\n",
        "cardinality = X_train.select_dtypes(exclude='number').nunique()\n",
        "  \n",
        "high_cardinality = cardinality[cardinality > 50].index.tolist()\n",
        "\n",
        "low_cardinality = cardinality[cardinality <= 50].index.tolist()\n",
        "\n",
        "pipeline = make_pipeline(\n",
        "    ce.OrdinalEncoder(cols=high_cardinality),\n",
        "    ce.OneHotEncoder(cols=low_cardinality),\n",
        "    SimpleImputer(strategy='median'),\n",
        "    RandomForestClassifier(n_estimators=100, random_state=100, n_jobs=-1)\n",
        ")\n",
        "\n",
        "pipeline.fit(X_train, y_train)\n",
        "print('Train Accuracy', pipeline.score(X_train, y_train))\n",
        "print('Validation Accuracy', pipeline.score(X_val, y_val))\n",
        "\n",
        "# Accuracy goes up!"
      ],
      "execution_count": 27,
      "outputs": [
        {
          "output_type": "stream",
          "text": [
            "Train Accuracy 0.9999775533108867\n",
            "Validation Accuracy 0.8081481481481482\n"
          ],
          "name": "stdout"
        }
      ]
    },
    {
      "cell_type": "code",
      "metadata": {
        "id": "xNfpeGF8OAQd",
        "colab_type": "code",
        "colab": {}
      },
      "source": [
        "y_pred = pd.DataFrame(pipeline.predict(X_test), columns=['status_group'])\n",
        "\n",
        "submission3 = pd.concat([test['id'], y_pred], axis=1)\n",
        "\n",
        "submission3.to_csv('water-submission-09.csv', index=None, header=True)\n",
        "\n",
        "# Sadly this ended up having a lower test accuracy..."
      ],
      "execution_count": 0,
      "outputs": []
    },
    {
      "cell_type": "code",
      "metadata": {
        "id": "Ecq3GD2GOROZ",
        "colab_type": "code",
        "colab": {
          "base_uri": "https://localhost:8080/",
          "height": 51
        },
        "outputId": "9a6e8ca8-92bf-4d69-be6d-98bb73b7630a"
      },
      "source": [
        "# Trying an iterative imputer.\n",
        "\n",
        "from sklearn.experimental import enable_iterative_imputer\n",
        "from sklearn.impute import IterativeImputer\n",
        "\n",
        "pipeline = make_pipeline(\n",
        "    ce.OrdinalEncoder(),\n",
        "    IterativeImputer(max_iter=100, initial_strategy='median', min_value=0),\n",
        "    RandomForestClassifier(n_estimators=100, random_state=100, n_jobs=-1)\n",
        ")\n",
        "\n",
        "pipeline.fit(X_train, y_train)\n",
        "print('Train Accuracy', pipeline.score(X_train, y_train))\n",
        "print('Validation Accuracy', pipeline.score(X_val, y_val))\n",
        "\n",
        "# Accuracy goes down"
      ],
      "execution_count": 29,
      "outputs": [
        {
          "output_type": "stream",
          "text": [
            "Train Accuracy 0.9999775533108867\n",
            "Validation Accuracy 0.8046464646464646\n"
          ],
          "name": "stdout"
        }
      ]
    },
    {
      "cell_type": "code",
      "metadata": {
        "id": "dcFKUwwTPs1c",
        "colab_type": "code",
        "colab": {
          "base_uri": "https://localhost:8080/",
          "height": 51
        },
        "outputId": "530a9c5b-5b26-46ae-cafe-1832645f2265"
      },
      "source": [
        "# Trying a \"most frequent\" strategy.\n",
        "\n",
        "pipeline = make_pipeline(\n",
        "    ce.OrdinalEncoder(),\n",
        "    SimpleImputer(strategy='most_frequent'),\n",
        "    RandomForestClassifier(n_estimators=100, random_state=100, n_jobs=-1)\n",
        ")\n",
        "\n",
        "pipeline.fit(X_train, y_train)\n",
        "print('Train Accuracy', pipeline.score(X_train, y_train))\n",
        "print('Validation Accuracy', pipeline.score(X_val, y_val))\n",
        "\n",
        "# Accuracy goes down (by a bit)"
      ],
      "execution_count": 30,
      "outputs": [
        {
          "output_type": "stream",
          "text": [
            "Train Accuracy 0.9999775533108867\n",
            "Validation Accuracy 0.8074747474747475\n"
          ],
          "name": "stdout"
        }
      ]
    },
    {
      "cell_type": "code",
      "metadata": {
        "id": "4HC6K5bOQP3C",
        "colab_type": "code",
        "colab": {
          "base_uri": "https://localhost:8080/",
          "height": 317
        },
        "outputId": "28f0b282-5009-4cf8-8466-61789898687f"
      },
      "source": [
        "X_train.describe()"
      ],
      "execution_count": 31,
      "outputs": [
        {
          "output_type": "execute_result",
          "data": {
            "text/html": [
              "<div>\n",
              "<style scoped>\n",
              "    .dataframe tbody tr th:only-of-type {\n",
              "        vertical-align: middle;\n",
              "    }\n",
              "\n",
              "    .dataframe tbody tr th {\n",
              "        vertical-align: top;\n",
              "    }\n",
              "\n",
              "    .dataframe thead th {\n",
              "        text-align: right;\n",
              "    }\n",
              "</style>\n",
              "<table border=\"1\" class=\"dataframe\">\n",
              "  <thead>\n",
              "    <tr style=\"text-align: right;\">\n",
              "      <th></th>\n",
              "      <th>amount_tsh</th>\n",
              "      <th>gps_height</th>\n",
              "      <th>longitude</th>\n",
              "      <th>latitude</th>\n",
              "      <th>num_private</th>\n",
              "      <th>district_code</th>\n",
              "      <th>population</th>\n",
              "      <th>construction_year</th>\n",
              "      <th>year_recorded</th>\n",
              "      <th>time_to_inspection</th>\n",
              "    </tr>\n",
              "  </thead>\n",
              "  <tbody>\n",
              "    <tr>\n",
              "      <th>count</th>\n",
              "      <td>44550.000000</td>\n",
              "      <td>29104.000000</td>\n",
              "      <td>43171.000000</td>\n",
              "      <td>43171.000000</td>\n",
              "      <td>44550.000000</td>\n",
              "      <td>44550.000000</td>\n",
              "      <td>28427.00000</td>\n",
              "      <td>44550.000000</td>\n",
              "      <td>44550.000000</td>\n",
              "      <td>44550.000000</td>\n",
              "    </tr>\n",
              "    <tr>\n",
              "      <th>mean</th>\n",
              "      <td>320.565308</td>\n",
              "      <td>1016.484779</td>\n",
              "      <td>35.153192</td>\n",
              "      <td>-5.895653</td>\n",
              "      <td>0.473692</td>\n",
              "      <td>5.629001</td>\n",
              "      <td>282.31449</td>\n",
              "      <td>1996.885926</td>\n",
              "      <td>2011.920135</td>\n",
              "      <td>15.034209</td>\n",
              "    </tr>\n",
              "    <tr>\n",
              "      <th>std</th>\n",
              "      <td>3150.477970</td>\n",
              "      <td>613.434859</td>\n",
              "      <td>2.604573</td>\n",
              "      <td>2.812980</td>\n",
              "      <td>11.594878</td>\n",
              "      <td>9.650221</td>\n",
              "      <td>581.84945</td>\n",
              "      <td>10.058957</td>\n",
              "      <td>0.958777</td>\n",
              "      <td>10.095001</td>\n",
              "    </tr>\n",
              "    <tr>\n",
              "      <th>min</th>\n",
              "      <td>0.000000</td>\n",
              "      <td>-90.000000</td>\n",
              "      <td>29.607201</td>\n",
              "      <td>-11.649440</td>\n",
              "      <td>0.000000</td>\n",
              "      <td>0.000000</td>\n",
              "      <td>1.00000</td>\n",
              "      <td>1960.000000</td>\n",
              "      <td>2002.000000</td>\n",
              "      <td>-7.000000</td>\n",
              "    </tr>\n",
              "    <tr>\n",
              "      <th>25%</th>\n",
              "      <td>0.000000</td>\n",
              "      <td>391.000000</td>\n",
              "      <td>33.284972</td>\n",
              "      <td>-8.662794</td>\n",
              "      <td>0.000000</td>\n",
              "      <td>2.000000</td>\n",
              "      <td>40.00000</td>\n",
              "      <td>1996.000000</td>\n",
              "      <td>2011.000000</td>\n",
              "      <td>8.000000</td>\n",
              "    </tr>\n",
              "    <tr>\n",
              "      <th>50%</th>\n",
              "      <td>0.000000</td>\n",
              "      <td>1165.000000</td>\n",
              "      <td>35.001336</td>\n",
              "      <td>-5.177179</td>\n",
              "      <td>0.000000</td>\n",
              "      <td>3.000000</td>\n",
              "      <td>150.00000</td>\n",
              "      <td>1997.000000</td>\n",
              "      <td>2012.000000</td>\n",
              "      <td>14.000000</td>\n",
              "    </tr>\n",
              "    <tr>\n",
              "      <th>75%</th>\n",
              "      <td>25.000000</td>\n",
              "      <td>1498.000000</td>\n",
              "      <td>37.237524</td>\n",
              "      <td>-3.375576</td>\n",
              "      <td>0.000000</td>\n",
              "      <td>5.000000</td>\n",
              "      <td>320.00000</td>\n",
              "      <td>2004.000000</td>\n",
              "      <td>2013.000000</td>\n",
              "      <td>16.000000</td>\n",
              "    </tr>\n",
              "    <tr>\n",
              "      <th>max</th>\n",
              "      <td>350000.000000</td>\n",
              "      <td>2628.000000</td>\n",
              "      <td>40.344301</td>\n",
              "      <td>-0.998464</td>\n",
              "      <td>1776.000000</td>\n",
              "      <td>80.000000</td>\n",
              "      <td>30500.00000</td>\n",
              "      <td>2013.000000</td>\n",
              "      <td>2013.000000</td>\n",
              "      <td>53.000000</td>\n",
              "    </tr>\n",
              "  </tbody>\n",
              "</table>\n",
              "</div>"
            ],
            "text/plain": [
              "          amount_tsh    gps_height  ...  year_recorded  time_to_inspection\n",
              "count   44550.000000  29104.000000  ...   44550.000000        44550.000000\n",
              "mean      320.565308   1016.484779  ...    2011.920135           15.034209\n",
              "std      3150.477970    613.434859  ...       0.958777           10.095001\n",
              "min         0.000000    -90.000000  ...    2002.000000           -7.000000\n",
              "25%         0.000000    391.000000  ...    2011.000000            8.000000\n",
              "50%         0.000000   1165.000000  ...    2012.000000           14.000000\n",
              "75%        25.000000   1498.000000  ...    2013.000000           16.000000\n",
              "max    350000.000000   2628.000000  ...    2013.000000           53.000000\n",
              "\n",
              "[8 rows x 10 columns]"
            ]
          },
          "metadata": {
            "tags": []
          },
          "execution_count": 31
        }
      ]
    },
    {
      "cell_type": "code",
      "metadata": {
        "id": "B-s9DWxVQbaT",
        "colab_type": "code",
        "colab": {
          "base_uri": "https://localhost:8080/",
          "height": 663
        },
        "outputId": "80d6a3ec-8595-47d2-8bc9-d5c26fdbb6d6"
      },
      "source": [
        "X_train.isnull().sum()"
      ],
      "execution_count": 32,
      "outputs": [
        {
          "output_type": "execute_result",
          "data": {
            "text/plain": [
              "amount_tsh                   0\n",
              "funder                    2727\n",
              "gps_height               15446\n",
              "installer                 2737\n",
              "longitude                 1379\n",
              "latitude                  1379\n",
              "wpt_name                     0\n",
              "num_private                  0\n",
              "basin                        0\n",
              "subvillage                 268\n",
              "region                       0\n",
              "district_code                0\n",
              "lga                          0\n",
              "ward                         0\n",
              "population               16123\n",
              "public_meeting            2559\n",
              "scheme_management         2913\n",
              "scheme_name              21245\n",
              "permit                    2314\n",
              "construction_year            0\n",
              "extraction_type              0\n",
              "extraction_type_group        0\n",
              "extraction_type_class        0\n",
              "management                   0\n",
              "management_group             0\n",
              "payment                      0\n",
              "water_quality                0\n",
              "quality_group                0\n",
              "quantity                     0\n",
              "quantity_group               0\n",
              "source                       0\n",
              "source_type                  0\n",
              "source_class                 0\n",
              "waterpoint_type              0\n",
              "waterpoint_type_group        0\n",
              "year_recorded                0\n",
              "time_to_inspection           0\n",
              "dtype: int64"
            ]
          },
          "metadata": {
            "tags": []
          },
          "execution_count": 32
        }
      ]
    },
    {
      "cell_type": "code",
      "metadata": {
        "id": "mNlk-gkfQd2T",
        "colab_type": "code",
        "colab": {
          "base_uri": "https://localhost:8080/",
          "height": 51
        },
        "outputId": "8c1a68b8-80d4-4089-8d9d-8bdbc8c1602f"
      },
      "source": [
        "# WHat if I keep the zeroes in \"gps_height\"?\n",
        "\n",
        "def remove_zeroes2(X):\n",
        "  X = X.copy()\n",
        "  \n",
        "  X['latitude'] = X['latitude'].replace(-2e-08, 0)\n",
        "  \n",
        "  zeroes = ['longitude', 'latitude', 'population', 'construction_year']\n",
        "  for col in zeroes:\n",
        "    X[col] = X[col].replace(0, np.nan)\n",
        "  \n",
        "  return X\n",
        "\n",
        "def engineer_features2(X):\n",
        "  X = X.copy()\n",
        "  \n",
        "  X = remove_zeroes2(X)\n",
        "  X = datetime_features(X)\n",
        "  X = drop_redundant(X)\n",
        "  \n",
        "  return X\n",
        "\n",
        "X_train = engineer_features2(train).drop('status_group', axis=1)\n",
        "X_val = engineer_features2(val).drop('status_group', axis=1)\n",
        "\n",
        "pipeline = make_pipeline(\n",
        "    ce.OrdinalEncoder(),\n",
        "    SimpleImputer(strategy='median'),\n",
        "    RandomForestClassifier(n_estimators=100, random_state=100, n_jobs=-1)\n",
        ")\n",
        "\n",
        "pipeline.fit(X_train, y_train)\n",
        "print('Train Accuracy', pipeline.score(X_train, y_train))\n",
        "print('Validation Accuracy', pipeline.score(X_val, y_val))\n",
        "\n",
        "# Highest accuracy so far!"
      ],
      "execution_count": 33,
      "outputs": [
        {
          "output_type": "stream",
          "text": [
            "Train Accuracy 0.9999775533108867\n",
            "Validation Accuracy 0.8082154882154882\n"
          ],
          "name": "stdout"
        }
      ]
    },
    {
      "cell_type": "code",
      "metadata": {
        "id": "q7EA5oNcRDLg",
        "colab_type": "code",
        "colab": {}
      },
      "source": [
        "X_test = engineer_features2(test)\n",
        "\n",
        "y_pred = pd.DataFrame(pipeline.predict(X_test), columns=['status_group'])\n",
        "\n",
        "submission4 = pd.concat([test['id'], y_pred], axis=1)\n",
        "\n",
        "submission4.to_csv('water-submission-10.csv', index=None, header=True)\n",
        "\n",
        "# Accuracy on the test set went down..."
      ],
      "execution_count": 0,
      "outputs": []
    },
    {
      "cell_type": "code",
      "metadata": {
        "id": "cUlRk2kbRZyT",
        "colab_type": "code",
        "colab": {
          "base_uri": "https://localhost:8080/",
          "height": 51
        },
        "outputId": "e612b1ca-6a4c-4691-deef-d6fdb1d035d3"
      },
      "source": [
        "# What if I also replace the zeroes in amount_tsh?\n",
        "\n",
        "def remove_zeroes3(X):\n",
        "  X = X.copy()\n",
        "  \n",
        "  X['latitude'] = X['latitude'].replace(-2e-08, 0)\n",
        "  \n",
        "  zeroes = ['amount_tsh', 'gps_height', 'longitude', 'latitude', 'population', 'construction_year']\n",
        "  for col in zeroes:\n",
        "    X[col] = X[col].replace(0, np.nan)\n",
        "  \n",
        "  return X\n",
        "\n",
        "def engineer_features3(X):\n",
        "  X = X.copy()\n",
        "  \n",
        "  X = remove_zeroes3(X)\n",
        "  X = datetime_features(X)\n",
        "  X = drop_redundant(X)\n",
        "  \n",
        "  return X\n",
        "\n",
        "X_train = engineer_features3(train).drop('status_group', axis=1)\n",
        "X_val = engineer_features3(val).drop('status_group', axis=1)\n",
        "\n",
        "pipeline = make_pipeline(\n",
        "    ce.OrdinalEncoder(),\n",
        "    SimpleImputer(strategy='median'),\n",
        "    RandomForestClassifier(n_estimators=100, random_state=100, n_jobs=-1)\n",
        ")\n",
        "\n",
        "pipeline.fit(X_train, y_train)\n",
        "print('Train Accuracy', pipeline.score(X_train, y_train))\n",
        "print('Validation Accuracy', pipeline.score(X_val, y_val))"
      ],
      "execution_count": 35,
      "outputs": [
        {
          "output_type": "stream",
          "text": [
            "Train Accuracy 0.9999775533108867\n",
            "Validation Accuracy 0.8073400673400674\n"
          ],
          "name": "stdout"
        }
      ]
    },
    {
      "cell_type": "code",
      "metadata": {
        "id": "A-F6psngR1tn",
        "colab_type": "code",
        "colab": {}
      },
      "source": [
        "X_test = engineer_features3(test)\n",
        "\n",
        "y_pred = pd.DataFrame(pipeline.predict(X_test), columns=['status_group'])\n",
        "\n",
        "submission5 = pd.concat([test['id'], y_pred], axis=1)\n",
        "\n",
        "submission5.to_csv('water-submission-11.csv', index=None, header=True)\n",
        "\n",
        "# Lower..."
      ],
      "execution_count": 0,
      "outputs": []
    },
    {
      "cell_type": "code",
      "metadata": {
        "id": "I3-ye_vZSAvI",
        "colab_type": "code",
        "colab": {
          "base_uri": "https://localhost:8080/",
          "height": 51
        },
        "outputId": "7f6a97e5-5f27-413c-9ea3-1c9c8aaa1f69"
      },
      "source": [
        "# \"Scheme name\" has a lot of NaNs. What if I drop it?\n",
        "\n",
        "def drop_redundant2(X):\n",
        "  X = X.copy()\n",
        "  \n",
        "  redundant_cols = ['scheme_name', 'recorded_by', 'payment_type', 'region_code', 'date_recorded', 'id']\n",
        "  \n",
        "  for col in redundant_cols:\n",
        "    X = X.drop(col, axis=1)\n",
        "    \n",
        "  return X\n",
        "\n",
        "def engineer_features4(X):\n",
        "  X = X.copy()\n",
        "  \n",
        "  X = remove_zeroes(X)\n",
        "  X = datetime_features(X)\n",
        "  X = drop_redundant2(X)\n",
        "  \n",
        "  return X\n",
        "\n",
        "X_train = engineer_features4(train).drop('status_group', axis=1)\n",
        "X_val = engineer_features4(val).drop('status_group', axis=1)\n",
        "\n",
        "pipeline = make_pipeline(\n",
        "    ce.OrdinalEncoder(),\n",
        "    SimpleImputer(strategy='median'),\n",
        "    RandomForestClassifier(n_estimators=100, random_state=100, n_jobs=-1)\n",
        ")\n",
        "\n",
        "pipeline.fit(X_train, y_train)\n",
        "print('Train Accuracy', pipeline.score(X_train, y_train))\n",
        "print('Validation Accuracy', pipeline.score(X_val, y_val))\n",
        "\n",
        "# Accuracy goes down..."
      ],
      "execution_count": 37,
      "outputs": [
        {
          "output_type": "stream",
          "text": [
            "Train Accuracy 0.9999775533108867\n",
            "Validation Accuracy 0.8047811447811448\n"
          ],
          "name": "stdout"
        }
      ]
    },
    {
      "cell_type": "code",
      "metadata": {
        "id": "pk6iKCobSs99",
        "colab_type": "code",
        "colab": {
          "base_uri": "https://localhost:8080/",
          "height": 51
        },
        "outputId": "64c07058-c318-49f0-b608-8d65a9b6f110"
      },
      "source": [
        "# What if I keep the zeroes in population?\n",
        "\n",
        "def remove_zeroes4(X):\n",
        "  X = X.copy()\n",
        "  \n",
        "  X['latitude'] = X['latitude'].replace(-2e-08, 0)\n",
        "  \n",
        "  zeroes = ['longitude', 'latitude', 'construction_year', 'gps_height']\n",
        "  for col in zeroes:\n",
        "    X[col] = X[col].replace(0, np.nan)\n",
        "  \n",
        "  return X\n",
        "\n",
        "def engineer_features5(X):\n",
        "  X = X.copy()\n",
        "  \n",
        "  X = remove_zeroes4(X)\n",
        "  X = datetime_features(X)\n",
        "  X = drop_redundant(X)\n",
        "  \n",
        "  return X\n",
        "\n",
        "X_train = engineer_features5(train).drop('status_group', axis=1)\n",
        "X_val = engineer_features5(val).drop('status_group', axis=1)\n",
        "\n",
        "pipeline = make_pipeline(\n",
        "    ce.OrdinalEncoder(),\n",
        "    SimpleImputer(strategy='median'),\n",
        "    RandomForestClassifier(n_estimators=100, random_state=100, n_jobs=-1)\n",
        ")\n",
        "\n",
        "pipeline.fit(X_train, y_train)\n",
        "print('Train Accuracy', pipeline.score(X_train, y_train))\n",
        "print('Validation Accuracy', pipeline.score(X_val, y_val))\n",
        "\n",
        "# Accuracy goes down, by a bit"
      ],
      "execution_count": 39,
      "outputs": [
        {
          "output_type": "stream",
          "text": [
            "Train Accuracy 0.9999775533108867\n",
            "Validation Accuracy 0.8073400673400674\n"
          ],
          "name": "stdout"
        }
      ]
    },
    {
      "cell_type": "code",
      "metadata": {
        "id": "js2W1gC0TN56",
        "colab_type": "code",
        "colab": {
          "base_uri": "https://localhost:8080/",
          "height": 34
        },
        "outputId": "dc612f69-c1d0-4ec7-eb6d-031298644e37"
      },
      "source": [
        "(X_train['gps_height'] < 0).sum()"
      ],
      "execution_count": 41,
      "outputs": [
        {
          "output_type": "execute_result",
          "data": {
            "text/plain": [
              "1120"
            ]
          },
          "metadata": {
            "tags": []
          },
          "execution_count": 41
        }
      ]
    },
    {
      "cell_type": "code",
      "metadata": {
        "id": "Ool1z9JkUIm3",
        "colab_type": "code",
        "colab": {
          "base_uri": "https://localhost:8080/",
          "height": 51
        },
        "outputId": "aa4b5559-5ad9-409c-a4df-81e588d25540"
      },
      "source": [
        "# Let's try removing all negative numbers from gps_height too.\n",
        "\n",
        "def remove_zeroes5(X):\n",
        "  X = X.copy()\n",
        "  \n",
        "  X['latitude'] = X['latitude'].replace(-2e-08, 0)\n",
        "  \n",
        "  X['gps_height'] = X['gps_height'].replace([number for number in X['gps_height'].tolist() if number < 0], 0)\n",
        "  \n",
        "  zeroes = ['gps_height', 'longitude', 'latitude', 'population', 'construction_year']\n",
        "  for col in zeroes:\n",
        "    X[col] = X[col].replace(0, np.nan)\n",
        "  \n",
        "  return X\n",
        "\n",
        "def engineer_features6(X):\n",
        "  X = X.copy()\n",
        "  \n",
        "  X = remove_zeroes5(X)\n",
        "  X = datetime_features(X)\n",
        "  X = drop_redundant(X)\n",
        "  \n",
        "  return X\n",
        "\n",
        "X_train = engineer_features6(train).drop('status_group', axis=1)\n",
        "X_val = engineer_features6(val).drop('status_group', axis=1)\n",
        "\n",
        "pipeline = make_pipeline(\n",
        "    ce.OrdinalEncoder(),\n",
        "    SimpleImputer(strategy='median'),\n",
        "    RandomForestClassifier(n_estimators=100, random_state=100, n_jobs=-1)\n",
        ")\n",
        "\n",
        "pipeline.fit(X_train, y_train)\n",
        "print('Train Accuracy', pipeline.score(X_train, y_train))\n",
        "print('Validation Accuracy', pipeline.score(X_val, y_val))\n",
        "\n",
        "# Accuracy goes down"
      ],
      "execution_count": 51,
      "outputs": [
        {
          "output_type": "stream",
          "text": [
            "Train Accuracy 0.9999775533108867\n",
            "Validation Accuracy 0.807070707070707\n"
          ],
          "name": "stdout"
        }
      ]
    },
    {
      "cell_type": "code",
      "metadata": {
        "id": "RP5MMNsVUrt2",
        "colab_type": "code",
        "colab": {
          "base_uri": "https://localhost:8080/",
          "height": 317
        },
        "outputId": "a902c971-da08-44c9-87d0-3ab5e570affd"
      },
      "source": [
        "X_train.describe() # Confirms I successfully replaced the gps_height values"
      ],
      "execution_count": 52,
      "outputs": [
        {
          "output_type": "execute_result",
          "data": {
            "text/html": [
              "<div>\n",
              "<style scoped>\n",
              "    .dataframe tbody tr th:only-of-type {\n",
              "        vertical-align: middle;\n",
              "    }\n",
              "\n",
              "    .dataframe tbody tr th {\n",
              "        vertical-align: top;\n",
              "    }\n",
              "\n",
              "    .dataframe thead th {\n",
              "        text-align: right;\n",
              "    }\n",
              "</style>\n",
              "<table border=\"1\" class=\"dataframe\">\n",
              "  <thead>\n",
              "    <tr style=\"text-align: right;\">\n",
              "      <th></th>\n",
              "      <th>amount_tsh</th>\n",
              "      <th>gps_height</th>\n",
              "      <th>longitude</th>\n",
              "      <th>latitude</th>\n",
              "      <th>num_private</th>\n",
              "      <th>district_code</th>\n",
              "      <th>population</th>\n",
              "      <th>construction_year</th>\n",
              "      <th>year_recorded</th>\n",
              "      <th>time_to_inspection</th>\n",
              "    </tr>\n",
              "  </thead>\n",
              "  <tbody>\n",
              "    <tr>\n",
              "      <th>count</th>\n",
              "      <td>44550.000000</td>\n",
              "      <td>27984.000000</td>\n",
              "      <td>43171.000000</td>\n",
              "      <td>43171.000000</td>\n",
              "      <td>44550.000000</td>\n",
              "      <td>44550.000000</td>\n",
              "      <td>28427.00000</td>\n",
              "      <td>44550.000000</td>\n",
              "      <td>44550.000000</td>\n",
              "      <td>44550.000000</td>\n",
              "    </tr>\n",
              "    <tr>\n",
              "      <th>mean</th>\n",
              "      <td>320.565308</td>\n",
              "      <td>1057.969983</td>\n",
              "      <td>35.153192</td>\n",
              "      <td>-5.895653</td>\n",
              "      <td>0.473692</td>\n",
              "      <td>5.629001</td>\n",
              "      <td>282.31449</td>\n",
              "      <td>1996.885926</td>\n",
              "      <td>2011.920135</td>\n",
              "      <td>15.034209</td>\n",
              "    </tr>\n",
              "    <tr>\n",
              "      <th>std</th>\n",
              "      <td>3150.477970</td>\n",
              "      <td>588.756279</td>\n",
              "      <td>2.604573</td>\n",
              "      <td>2.812980</td>\n",
              "      <td>11.594878</td>\n",
              "      <td>9.650221</td>\n",
              "      <td>581.84945</td>\n",
              "      <td>10.058957</td>\n",
              "      <td>0.958777</td>\n",
              "      <td>10.095001</td>\n",
              "    </tr>\n",
              "    <tr>\n",
              "      <th>min</th>\n",
              "      <td>0.000000</td>\n",
              "      <td>1.000000</td>\n",
              "      <td>29.607201</td>\n",
              "      <td>-11.649440</td>\n",
              "      <td>0.000000</td>\n",
              "      <td>0.000000</td>\n",
              "      <td>1.00000</td>\n",
              "      <td>1960.000000</td>\n",
              "      <td>2002.000000</td>\n",
              "      <td>-7.000000</td>\n",
              "    </tr>\n",
              "    <tr>\n",
              "      <th>25%</th>\n",
              "      <td>0.000000</td>\n",
              "      <td>468.000000</td>\n",
              "      <td>33.284972</td>\n",
              "      <td>-8.662794</td>\n",
              "      <td>0.000000</td>\n",
              "      <td>2.000000</td>\n",
              "      <td>40.00000</td>\n",
              "      <td>1996.000000</td>\n",
              "      <td>2011.000000</td>\n",
              "      <td>8.000000</td>\n",
              "    </tr>\n",
              "    <tr>\n",
              "      <th>50%</th>\n",
              "      <td>0.000000</td>\n",
              "      <td>1193.000000</td>\n",
              "      <td>35.001336</td>\n",
              "      <td>-5.177179</td>\n",
              "      <td>0.000000</td>\n",
              "      <td>3.000000</td>\n",
              "      <td>150.00000</td>\n",
              "      <td>1997.000000</td>\n",
              "      <td>2012.000000</td>\n",
              "      <td>14.000000</td>\n",
              "    </tr>\n",
              "    <tr>\n",
              "      <th>75%</th>\n",
              "      <td>25.000000</td>\n",
              "      <td>1512.000000</td>\n",
              "      <td>37.237524</td>\n",
              "      <td>-3.375576</td>\n",
              "      <td>0.000000</td>\n",
              "      <td>5.000000</td>\n",
              "      <td>320.00000</td>\n",
              "      <td>2004.000000</td>\n",
              "      <td>2013.000000</td>\n",
              "      <td>16.000000</td>\n",
              "    </tr>\n",
              "    <tr>\n",
              "      <th>max</th>\n",
              "      <td>350000.000000</td>\n",
              "      <td>2628.000000</td>\n",
              "      <td>40.344301</td>\n",
              "      <td>-0.998464</td>\n",
              "      <td>1776.000000</td>\n",
              "      <td>80.000000</td>\n",
              "      <td>30500.00000</td>\n",
              "      <td>2013.000000</td>\n",
              "      <td>2013.000000</td>\n",
              "      <td>53.000000</td>\n",
              "    </tr>\n",
              "  </tbody>\n",
              "</table>\n",
              "</div>"
            ],
            "text/plain": [
              "          amount_tsh    gps_height  ...  year_recorded  time_to_inspection\n",
              "count   44550.000000  27984.000000  ...   44550.000000        44550.000000\n",
              "mean      320.565308   1057.969983  ...    2011.920135           15.034209\n",
              "std      3150.477970    588.756279  ...       0.958777           10.095001\n",
              "min         0.000000      1.000000  ...    2002.000000           -7.000000\n",
              "25%         0.000000    468.000000  ...    2011.000000            8.000000\n",
              "50%         0.000000   1193.000000  ...    2012.000000           14.000000\n",
              "75%        25.000000   1512.000000  ...    2013.000000           16.000000\n",
              "max    350000.000000   2628.000000  ...    2013.000000           53.000000\n",
              "\n",
              "[8 rows x 10 columns]"
            ]
          },
          "metadata": {
            "tags": []
          },
          "execution_count": 52
        }
      ]
    },
    {
      "cell_type": "code",
      "metadata": {
        "id": "8khLF8rAVoMo",
        "colab_type": "code",
        "colab": {}
      },
      "source": [
        "# Right now I'm at #2 on the leaderboard...would like to get #1, but can't think\n",
        "# of anything else to do right now. So I'll just submit to the repo."
      ],
      "execution_count": 0,
      "outputs": []
    }
  ]
}